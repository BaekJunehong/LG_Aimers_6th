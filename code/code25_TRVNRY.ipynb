{
 "cells": [
  {
   "cell_type": "markdown",
   "metadata": {},
   "source": [
    "## 난임 환자 대상 임신 성공 여부 예측"
   ]
  },
  {
   "cell_type": "markdown",
   "metadata": {},
   "source": [
    "### LGAimers 6th 온라인 해커톤"
   ]
  },
  {
   "cell_type": "markdown",
   "metadata": {},
   "source": [
    "Import"
   ]
  },
  {
   "cell_type": "code",
   "execution_count": 1,
   "metadata": {},
   "outputs": [],
   "source": [
    "import numpy as np\n",
    "import pandas as pd\n",
    "import seaborn as sns\n",
    "import matplotlib.pyplot as plt\n",
    "\n",
    "import os\n",
    "from pprint import pprint"
   ]
  },
  {
   "cell_type": "code",
   "execution_count": 2,
   "metadata": {},
   "outputs": [],
   "source": [
    "import platform\n",
    "from matplotlib import rc\n",
    "\n",
    "# 운영 체제에 따라 폰트 설정\n",
    "if platform.system() == 'Windows':  # Windows 환경\n",
    "    rc('font', family='Malgun Gothic')  # 맑은 고딕\n",
    "\n",
    "# 음수 표시 가능하도록 설정\n",
    "plt.rcParams['axes.unicode_minus'] = False"
   ]
  },
  {
   "cell_type": "markdown",
   "metadata": {},
   "source": [
    "반복적으로 쓰는 함수툴"
   ]
  },
  {
   "cell_type": "code",
   "execution_count": 3,
   "metadata": {},
   "outputs": [],
   "source": [
    "def plot_box(df, col_name):\n",
    "    \"\"\"\n",
    "    주어진 데이터프레임과 열 이름에 대해 박스 플롯을 그리는 함수.\n",
    "\n",
    "    Parameters:\n",
    "    df (pd.DataFrame): 데이터프레임\n",
    "    col_name (str): 열 이름\n",
    "    \"\"\"\n",
    "    plt.figure(figsize=(7, 4))\n",
    "    plt.boxplot(df[col_name], vert=False)\n",
    "    plt.xlabel(col_name)\n",
    "    plt.title(f'Box Plot of {col_name}')\n",
    "    plt.show()\n",
    "\n",
    "def value_counts_ratio(df, col_name, target_name='임신_성공_여부'):\n",
    "    \"\"\"\n",
    "    주어진 데이터프레임의 특정 열에 대해 각 값마다 타겟 변수의 비율과 갯수, 총 갯수를 출력하는 함수.\n",
    "\n",
    "    Parameters:\n",
    "    df (pd.DataFrame): 데이터프레임\n",
    "    col_name (str): 열 이름\n",
    "    target_name (str): 타겟 변수 이름\n",
    "    \"\"\"\n",
    "    # 각 값마다 타겟 변수의 비율 계산\n",
    "    value_counts = df.groupby(col_name)[target_name].value_counts(normalize=True).unstack().fillna(0)\n",
    "    \n",
    "    # 각 값마다 타겟 변수의 갯수 계산\n",
    "    counts = df.groupby(col_name)[target_name].value_counts().unstack().fillna(0)\n",
    "    \n",
    "    # 각 값마다 총 갯수 계산\n",
    "    total_counts = df[col_name].value_counts().rename('Total_Count')\n",
    "    \n",
    "    # 비율과 갯수를 합침\n",
    "    result = value_counts.join(counts, lsuffix='_ratio', rsuffix='_count')\n",
    "    \n",
    "    # 총 갯수를 합침\n",
    "    result = result.join(total_counts, on=col_name)\n",
    "    \n",
    "    # 출력 형식 조정\n",
    "    result.index.name = 'variable'\n",
    "    print(f\"\\n{col_name}별 {target_name} 비율 및 갯수\\n\")\n",
    "    print(result.rename(columns=lambda x: x.split('_')[0]))\n",
    "\n",
    "def summarize_group(df, group_by_columns):\n",
    "    \"\"\"\n",
    "    주어진 데이터프레임을 특정 열들로 그룹화하여 각 그룹의 '임신_성공_여부' 비율과 갯수를 요약하는 함수.\n",
    "\n",
    "    Parameters:\n",
    "    df (pd.DataFrame): 데이터프레임\n",
    "    group_by_columns (list): 그룹화할 열 이름들의 리스트\n",
    "    \"\"\"\n",
    "    # 데이터프레임을 그룹화\n",
    "    grouped_df = df.groupby(group_by_columns)\n",
    "    \n",
    "    # 결과를 저장할 리스트 초기화\n",
    "    results = []\n",
    "    \n",
    "    # 그룹화된 데이터프레임의 내용을 확인하는 코드\n",
    "    for name, group in grouped_df:\n",
    "        # 그룹의 갯수 계산\n",
    "        group_count = group.shape[0]\n",
    "        \n",
    "        # '임신_성공_여부' 변수의 '임신 성공' 비율과 갯수 계산\n",
    "        success_count = group['임신_성공_여부'].value_counts().get(1, 0)\n",
    "        success_ratio = success_count / group_count\n",
    "        \n",
    "        # 결과 리스트에 추가\n",
    "        results.append([name, success_count, success_ratio, group_count])\n",
    "    \n",
    "    # 결과 리스트를 데이터프레임으로 변환\n",
    "    results_df = pd.DataFrame(results, columns=['group', \"'임신_성공_여부' count\", 'ratio', 'Total'])\n",
    "    \n",
    "    # 그룹화된 변수들의 이름을 제목행으로 출력\n",
    "    print(f\"Grouped by: {', '.join(group_by_columns)}\")\n",
    "    print()\n",
    "    # 데이터프레임 출력\n",
    "    print(results_df)\n",
    "\n",
    "def plot_ratio(df, group_by_column, target_column='임신_성공_여부', success_value=1):\n",
    "    \"\"\"\n",
    "    주어진 데이터프레임을 특정 열로 그룹화하여 각 그룹의 타겟 변수의 성공 비율을 시각화하는 함수.\n",
    "\n",
    "    Parameters:\n",
    "    df (pd.DataFrame): 데이터프레임\n",
    "    group_by_column (str): 그룹화할 열 이름\n",
    "    target_column (str): 타겟 변수 이름\n",
    "    success_value (int): 타겟 변수의 성공을 나타내는 값\n",
    "    \"\"\"\n",
    "    # 데이터프레임을 그룹화\n",
    "    grouped_df = df.groupby(group_by_column)\n",
    "    \n",
    "    # 결과를 저장할 리스트 초기화\n",
    "    results = []\n",
    "    \n",
    "    # 그룹화된 데이터프레임의 내용을 확인하는 코드\n",
    "    for name, group in grouped_df:\n",
    "        # 그룹의 갯수 계산\n",
    "        group_count = group.shape[0]\n",
    "        \n",
    "        # '임신_성공_여부' 변수의 '성공' 비율과 갯수 계산\n",
    "        success_count = group[target_column].value_counts().get(success_value, 0)\n",
    "        success_ratio = success_count / group_count\n",
    "        \n",
    "        # 결과 리스트에 추가\n",
    "        results.append([name, success_count, success_ratio, group_count])\n",
    "    \n",
    "    # 결과 리스트를 데이터프레임으로 변환\n",
    "    results_df = pd.DataFrame(results, columns=['group', f\"'{success_value}' count\", 'ratio', 'Total'])\n",
    "    \n",
    "    # 그래프 크기 설정\n",
    "    plt.figure(figsize=(10, 5))\n",
    "    \n",
    "    # 막대 그래프 생성\n",
    "    ax = results_df.plot(kind='bar', x='group', y='ratio', legend=False)\n",
    "    \n",
    "    # 각 막대 위에 임신 성공 여부 갯수와 총 갯수 표시\n",
    "    for i, (success_count, total) in enumerate(zip(results_df[f\"'{success_value}' count\"], results_df['Total'])):\n",
    "        ax.text(i, results_df['ratio'][i], f'{success_count} ({total})', ha='center', va='bottom', fontsize=8)\n",
    "    \n",
    "    # 그래프 제목 및 축 레이블 설정\n",
    "    ax.set_title(f'{success_value} Ratio by {group_by_column}')\n",
    "    ax.set_xlabel(group_by_column)\n",
    "    ax.set_ylabel(f'{success_value} Ratio')\n",
    "   \n",
    "    # 그래프 출력\n",
    "    plt.show()\n",
    "\n",
    "def plot_ratio_boxplot(data, column_name, target_column='임신_성공_여부'):\n",
    "    \"\"\"\n",
    "    주어진 데이터프레임의 특정 열과 타겟 변수 간의 관계를 박스 플롯으로 시각화하는 함수.\n",
    "\n",
    "    Parameters:\n",
    "    data (pd.DataFrame): 데이터프레임\n",
    "    column_name (str): 열 이름\n",
    "    target_column (str): 타겟 변수 이름\n",
    "    \"\"\"\n",
    "\n",
    "    # 그래프 그리기\n",
    "    plt.figure(figsize=(10, 6))\n",
    "    sns.boxplot(x=column_name, y=target_column, data=data)\n",
    "\n",
    "    # 그래프 제목 및 레이블 설정\n",
    "    plt.title(f'{column_name} vs {target_column}')\n",
    "    plt.xlabel(column_name)\n",
    "    plt.ylabel(target_column)\n",
    "\n",
    "    # 그래프 출력\n",
    "    plt.show()"
   ]
  },
  {
   "cell_type": "markdown",
   "metadata": {},
   "source": [
    "### Data Load"
   ]
  },
  {
   "cell_type": "code",
   "execution_count": 4,
   "metadata": {},
   "outputs": [
    {
     "name": "stdout",
     "output_type": "stream",
     "text": [
      "Index(['ID', '시술_시기_코드', '시술_당시_나이', '임신_시도_또는_마지막_임신_경과_연수', '시술_유형',\n",
      "       '특정_시술_유형', '배란_자극_여부', '배란_유도_유형', '단일_배아_이식_여부', '착상_전_유전_검사_사용_여부',\n",
      "       '착상_전_유전_진단_사용_여부', '남성_주_불임_원인', '남성_부_불임_원인', '여성_주_불임_원인',\n",
      "       '여성_부_불임_원인', '부부_주_불임_원인', '부부_부_불임_원인', '불명확_불임_원인', '불임_원인_-_난관_질환',\n",
      "       '불임_원인_-_남성_요인', '불임_원인_-_배란_장애', '불임_원인_-_여성_요인', '불임_원인_-_자궁경부_문제',\n",
      "       '불임_원인_-_자궁내막증', '불임_원인_-_정자_농도', '불임_원인_-_정자_면역학적_요인',\n",
      "       '불임_원인_-_정자_운동성', '불임_원인_-_정자_형태', '배아_생성_주요_이유', '총_시술_횟수',\n",
      "       '클리닉_내_총_시술_횟수', 'IVF_시술_횟수', 'DI_시술_횟수', '총_임신_횟수', 'IVF_임신_횟수',\n",
      "       'DI_임신_횟수', '총_출산_횟수', 'IVF_출산_횟수', 'DI_출산_횟수', '총_생성_배아_수',\n",
      "       '미세주입된_난자_수', '미세주입에서_생성된_배아_수', '이식된_배아_수', '미세주입_배아_이식_수', '저장된_배아_수',\n",
      "       '미세주입_후_저장된_배아_수', '해동된_배아_수', '해동_난자_수', '수집된_신선_난자_수', '저장된_신선_난자_수',\n",
      "       '혼합된_난자_수', '파트너_정자와_혼합된_난자_수', '기증자_정자와_혼합된_난자_수', '난자_출처', '정자_출처',\n",
      "       '난자_기증자_나이', '정자_기증자_나이', '동결_배아_사용_여부', '신선_배아_사용_여부', '기증_배아_사용_여부',\n",
      "       '대리모_여부', 'PGD_시술_여부', 'PGS_시술_여부', '난자_채취_경과일', '난자_해동_경과일',\n",
      "       '난자_혼합_경과일', '배아_이식_경과일', '배아_해동_경과일', '임신_성공_여부'],\n",
      "      dtype='object')\n"
     ]
    }
   ],
   "source": [
    "# 데이터 로드\n",
    "train = pd.read_csv('../data/train.csv')\n",
    "test = pd.read_csv('../data/test.csv')\n",
    "\n",
    "# 변수명에서 공백을 밑줄로 대체\n",
    "train.columns = train.columns.str.replace(' ', '_')\n",
    "test.columns = test.columns.str.replace(' ', '_')\n",
    "\n",
    "# 변경된 변수명 확인\n",
    "print(train.columns)"
   ]
  },
  {
   "cell_type": "code",
   "execution_count": 5,
   "metadata": {},
   "outputs": [
    {
     "name": "stdout",
     "output_type": "stream",
     "text": [
      "<class 'pandas.core.frame.DataFrame'>\n",
      "RangeIndex: 256351 entries, 0 to 256350\n",
      "Data columns (total 69 columns):\n",
      " #   Column                 Non-Null Count   Dtype  \n",
      "---  ------                 --------------   -----  \n",
      " 0   ID                     256351 non-null  object \n",
      " 1   시술_시기_코드               256351 non-null  object \n",
      " 2   시술_당시_나이               256351 non-null  object \n",
      " 3   임신_시도_또는_마지막_임신_경과_연수  9370 non-null    float64\n",
      " 4   시술_유형                  256351 non-null  object \n",
      " 5   특정_시술_유형               256349 non-null  object \n",
      " 6   배란_자극_여부               256351 non-null  int64  \n",
      " 7   배란_유도_유형               256351 non-null  object \n",
      " 8   단일_배아_이식_여부            250060 non-null  float64\n",
      " 9   착상_전_유전_검사_사용_여부       2718 non-null    float64\n",
      " 10  착상_전_유전_진단_사용_여부       250060 non-null  float64\n",
      " 11  남성_주_불임_원인             256351 non-null  int64  \n",
      " 12  남성_부_불임_원인             256351 non-null  int64  \n",
      " 13  여성_주_불임_원인             256351 non-null  int64  \n",
      " 14  여성_부_불임_원인             256351 non-null  int64  \n",
      " 15  부부_주_불임_원인             256351 non-null  int64  \n",
      " 16  부부_부_불임_원인             256351 non-null  int64  \n",
      " 17  불명확_불임_원인              256351 non-null  int64  \n",
      " 18  불임_원인_-_난관_질환          256351 non-null  int64  \n",
      " 19  불임_원인_-_남성_요인          256351 non-null  int64  \n",
      " 20  불임_원인_-_배란_장애          256351 non-null  int64  \n",
      " 21  불임_원인_-_여성_요인          256351 non-null  int64  \n",
      " 22  불임_원인_-_자궁경부_문제        256351 non-null  int64  \n",
      " 23  불임_원인_-_자궁내막증          256351 non-null  int64  \n",
      " 24  불임_원인_-_정자_농도          256351 non-null  int64  \n",
      " 25  불임_원인_-_정자_면역학적_요인     256351 non-null  int64  \n",
      " 26  불임_원인_-_정자_운동성         256351 non-null  int64  \n",
      " 27  불임_원인_-_정자_형태          256351 non-null  int64  \n",
      " 28  배아_생성_주요_이유            250060 non-null  object \n",
      " 29  총_시술_횟수                256351 non-null  object \n",
      " 30  클리닉_내_총_시술_횟수          256351 non-null  object \n",
      " 31  IVF_시술_횟수              256351 non-null  object \n",
      " 32  DI_시술_횟수               256351 non-null  object \n",
      " 33  총_임신_횟수                256351 non-null  object \n",
      " 34  IVF_임신_횟수              256351 non-null  object \n",
      " 35  DI_임신_횟수               256351 non-null  object \n",
      " 36  총_출산_횟수                256351 non-null  object \n",
      " 37  IVF_출산_횟수              256351 non-null  object \n",
      " 38  DI_출산_횟수               256351 non-null  object \n",
      " 39  총_생성_배아_수              250060 non-null  float64\n",
      " 40  미세주입된_난자_수             250060 non-null  float64\n",
      " 41  미세주입에서_생성된_배아_수        250060 non-null  float64\n",
      " 42  이식된_배아_수               250060 non-null  float64\n",
      " 43  미세주입_배아_이식_수           250060 non-null  float64\n",
      " 44  저장된_배아_수               250060 non-null  float64\n",
      " 45  미세주입_후_저장된_배아_수        250060 non-null  float64\n",
      " 46  해동된_배아_수               250060 non-null  float64\n",
      " 47  해동_난자_수                250060 non-null  float64\n",
      " 48  수집된_신선_난자_수            250060 non-null  float64\n",
      " 49  저장된_신선_난자_수            250060 non-null  float64\n",
      " 50  혼합된_난자_수               250060 non-null  float64\n",
      " 51  파트너_정자와_혼합된_난자_수       250060 non-null  float64\n",
      " 52  기증자_정자와_혼합된_난자_수       250060 non-null  float64\n",
      " 53  난자_출처                  256351 non-null  object \n",
      " 54  정자_출처                  256351 non-null  object \n",
      " 55  난자_기증자_나이              256351 non-null  object \n",
      " 56  정자_기증자_나이              256351 non-null  object \n",
      " 57  동결_배아_사용_여부            250060 non-null  float64\n",
      " 58  신선_배아_사용_여부            250060 non-null  float64\n",
      " 59  기증_배아_사용_여부            250060 non-null  float64\n",
      " 60  대리모_여부                 250060 non-null  float64\n",
      " 61  PGD_시술_여부              2179 non-null    float64\n",
      " 62  PGS_시술_여부              1929 non-null    float64\n",
      " 63  난자_채취_경과일              198863 non-null  float64\n",
      " 64  난자_해동_경과일              1436 non-null    float64\n",
      " 65  난자_혼합_경과일              202616 non-null  float64\n",
      " 66  배아_이식_경과일              212785 non-null  float64\n",
      " 67  배아_해동_경과일              40369 non-null   float64\n",
      " 68  임신_성공_여부               256351 non-null  int64  \n",
      "dtypes: float64(29), int64(19), object(21)\n",
      "memory usage: 135.0+ MB\n"
     ]
    }
   ],
   "source": [
    "train.info(verbose=True)"
   ]
  },
  {
   "cell_type": "code",
   "execution_count": 6,
   "metadata": {},
   "outputs": [
    {
     "data": {
      "image/png": "[encoded data removed]",
      "text/plain": [
       "<Figure size 640x480 with 1 Axes>"
      ]
     },
     "metadata": {},
     "output_type": "display_data"
    }
   ],
   "source": [
    "import matplotlib.pyplot as plt\n",
    "import pandas as pd\n",
    "\n",
    "# '임신_성공_여부' 변수의 값 개수 계산\n",
    "value_counts = train['임신_성공_여부'].value_counts()\n",
    "\n",
    "# 라벨 변경\n",
    "labels = {1: '1(임신 성공)', 0: '0(임신 실패)'}\n",
    "value_counts.index = value_counts.index.map(labels)\n",
    "\n",
    "# 도넛 차트 그리기\n",
    "fig, ax = plt.subplots()\n",
    "\n",
    "# 파이 차트 그리기\n",
    "wedges, texts, autotexts = ax.pie(value_counts, labels=value_counts.index, autopct='%1.1f%%', startangle=90, wedgeprops=dict(width=0.5))\n",
    "\n",
    "# 도넛 차트 가운데에 원 그리기\n",
    "centre_circle = plt.Circle((0, 0), 0.70, fc='white')\n",
    "fig.gca().add_artist(centre_circle)\n",
    "\n",
    "# 차트 제목 설정\n",
    "ax.set_title('임신 성공 여부 도넛 차트')\n",
    "\n",
    "# 차트 표시\n",
    "plt.show()"
   ]
  },
  {
   "cell_type": "markdown",
   "metadata": {},
   "source": [
    "## EDA"
   ]
  },
  {
   "cell_type": "code",
   "execution_count": 7,
   "metadata": {},
   "outputs": [],
   "source": [
    "# '시술_시기_코드' 변수의 값이 'TRVNRY'에 해당 안하는 데이터 추출\n",
    "IVF_train = train[train['시술_시기_코드'] == 'TRVNRY'] \n",
    "IVF_test = test[test['시술_시기_코드'] == 'TRVNRY']\n",
    "\n",
    "# 모든 값이 결측값인 변수를 제거\n",
    "IVF_train = IVF_train.dropna(axis=1, how='all')\n",
    "IVF_test = IVF_test.dropna(axis=1, how='all')\n",
    "\n",
    "train = IVF_train\n",
    "test = IVF_test"
   ]
  },
  {
   "cell_type": "markdown",
   "metadata": {},
   "source": [
    "### 1. 시술_시기_코드"
   ]
  },
  {
   "cell_type": "markdown",
   "metadata": {},
   "source": [
    "난임 시술을 받은 시기를 기준으로 코드 부여"
   ]
  },
  {
   "cell_type": "code",
   "execution_count": 8,
   "metadata": {},
   "outputs": [
    {
     "name": "stdout",
     "output_type": "stream",
     "text": [
      "\n",
      "시술_시기_코드별 임신_성공_여부 비율 및 갯수\n",
      "\n",
      "                 0         1      0     1  Total\n",
      "variable                                        \n",
      "TRVNRY    0.740221  0.259779  26776  9397  36173\n"
     ]
    }
   ],
   "source": [
    "value_counts_ratio(train, '시술_시기_코드')"
   ]
  },
  {
   "cell_type": "code",
   "execution_count": 9,
   "metadata": {},
   "outputs": [],
   "source": [
    "# '시술_시기_코드' 변수 제거\n",
    "train = train.drop(columns=['시술_시기_코드'])\n",
    "test = test.drop(columns=['시술_시기_코드'])"
   ]
  },
  {
   "cell_type": "markdown",
   "metadata": {},
   "source": [
    "### 2. 시술 당시 나이"
   ]
  },
  {
   "cell_type": "markdown",
   "metadata": {},
   "source": [
    "환자의 시술 당시 나이(연령대)"
   ]
  },
  {
   "cell_type": "code",
   "execution_count": 10,
   "metadata": {},
   "outputs": [
    {
     "name": "stdout",
     "output_type": "stream",
     "text": [
      "\n",
      "시술_당시_나이별 임신_성공_여부 비율 및 갯수\n",
      "\n",
      "                 0         1        0       1  Total\n",
      "variable                                            \n",
      "만18-34세   0.673471  0.326529  10063.0  4879.0  14942\n",
      "만35-37세   0.727938  0.272062   5865.0  2192.0   8057\n",
      "만38-39세   0.785221  0.214779   4431.0  1212.0   5643\n",
      "만40-42세   0.841521  0.158479   4248.0   800.0   5048\n",
      "만43-44세   0.896422  0.103578   1428.0   165.0   1593\n",
      "만45-50세   0.826340  0.173660    709.0   149.0    858\n",
      "알 수 없음    1.000000  0.000000     32.0     0.0     32\n"
     ]
    }
   ],
   "source": [
    "value_counts_ratio(train, '시술_당시_나이')"
   ]
  },
  {
   "cell_type": "code",
   "execution_count": 11,
   "metadata": {},
   "outputs": [
    {
     "data": {
      "text/plain": [
       "만18-34세    5205\n",
       "만35-37세    2808\n",
       "만38-39세    1896\n",
       "만40-42세    1783\n",
       "만43-44세     545\n",
       "만45-50세     311\n",
       "알 수 없음       12\n",
       "Name: 시술_당시_나이, dtype: int64"
      ]
     },
     "execution_count": 11,
     "metadata": {},
     "output_type": "execute_result"
    }
   ],
   "source": [
    "test['시술_당시_나이'].value_counts()"
   ]
  },
  {
   "cell_type": "markdown",
   "metadata": {},
   "source": [
    "### 3. 임신 시도 또는 마지막 임신 경과 일수"
   ]
  },
  {
   "cell_type": "markdown",
   "metadata": {},
   "source": [
    "환자가 처음 임신을 시도한 시점 또는 마지막 임신 이후 현재까지의 경과 연수 (년 단위)"
   ]
  },
  {
   "cell_type": "code",
   "execution_count": 12,
   "metadata": {},
   "outputs": [
    {
     "name": "stdout",
     "output_type": "stream",
     "text": [
      "\n",
      "임신_시도_또는_마지막_임신_경과_연수별 임신_성공_여부 비율 및 갯수\n",
      "\n",
      "                 0         1      0     1  Total\n",
      "variable                                        \n",
      "0.0       1.000000  0.000000    1.0   0.0      1\n",
      "2.0       1.000000  0.000000    4.0   0.0      4\n",
      "3.0       1.000000  0.000000    5.0   0.0      5\n",
      "4.0       0.666667  0.333333    4.0   2.0      6\n",
      "5.0       0.680000  0.320000   17.0   8.0     25\n",
      "6.0       0.786667  0.213333   59.0  16.0     75\n",
      "7.0       0.808219  0.191781  118.0  28.0    146\n",
      "8.0       0.827778  0.172222  149.0  31.0    180\n",
      "9.0       0.810256  0.189744  158.0  37.0    195\n",
      "10.0      0.834225  0.165775  156.0  31.0    187\n",
      "11.0      0.862385  0.137615   94.0  15.0    109\n",
      "12.0      0.788889  0.211111   71.0  19.0     90\n",
      "13.0      0.753425  0.246575   55.0  18.0     73\n",
      "14.0      0.720000  0.280000   36.0  14.0     50\n",
      "15.0      0.821429  0.178571   23.0   5.0     28\n",
      "16.0      0.870968  0.129032   27.0   4.0     31\n",
      "17.0      0.800000  0.200000   16.0   4.0     20\n",
      "18.0      0.933333  0.066667   14.0   1.0     15\n",
      "19.0      0.833333  0.166667   10.0   2.0     12\n",
      "20.0      0.857143  0.142857    6.0   1.0      7\n"
     ]
    }
   ],
   "source": [
    "value_counts_ratio(train, '임신_시도_또는_마지막_임신_경과_연수')"
   ]
  },
  {
   "cell_type": "code",
   "execution_count": 13,
   "metadata": {},
   "outputs": [],
   "source": [
    "# 3년 단위로 범주화\n",
    "bins = list(range(0, 24, 3))  # 0부터 20까지 3년 단위로 구간 생성\n",
    "labels = [f'{i}-{i+2}년' for i in range(0, 21, 3)]  # 범주 레이블 생성\n",
    "\n",
    "train['임신_시도_또는_마지막_임신_경과_연수'] = pd.cut(train['임신_시도_또는_마지막_임신_경과_연수'], bins=bins, labels=labels, right=False)\n",
    "test['임신_시도_또는_마지막_임신_경과_연수'] = pd.cut(test['임신_시도_또는_마지막_임신_경과_연수'], bins=bins, labels=labels, right=False)\n",
    "\n",
    "# 결측값을 'unknown'으로 채우기 위해 범주에 'unknown' 추가\n",
    "train['임신_시도_또는_마지막_임신_경과_연수'] = train['임신_시도_또는_마지막_임신_경과_연수'].cat.add_categories(['unknown'])\n",
    "test['임신_시도_또는_마지막_임신_경과_연수'] = test['임신_시도_또는_마지막_임신_경과_연수'].cat.add_categories(['unknown'])\n",
    "\n",
    "train['임신_시도_또는_마지막_임신_경과_연수'].fillna('unknown', inplace=True)\n",
    "test['임신_시도_또는_마지막_임신_경과_연수'].fillna('unknown', inplace=True)"
   ]
  },
  {
   "cell_type": "code",
   "execution_count": 14,
   "metadata": {},
   "outputs": [
    {
     "name": "stdout",
     "output_type": "stream",
     "text": [
      "\n",
      "임신_시도_또는_마지막_임신_경과_연수별 임신_성공_여부 비율 및 갯수\n",
      "\n",
      "                 0         1        0       1  Total\n",
      "variable                                            \n",
      "0-2년      1.000000  0.000000      5.0     0.0      5\n",
      "3-5년      0.722222  0.277778     26.0    10.0     36\n",
      "6-8년      0.812968  0.187032    326.0    75.0    401\n",
      "9-11년     0.830957  0.169043    408.0    83.0    491\n",
      "12-14년    0.760563  0.239437    162.0    51.0    213\n",
      "15-17년    0.835443  0.164557     66.0    13.0     79\n",
      "18-20년    0.882353  0.117647     30.0     4.0     34\n",
      "unknown   0.737612  0.262388  25753.0  9161.0  34914\n"
     ]
    }
   ],
   "source": [
    "value_counts_ratio(train, '임신_시도_또는_마지막_임신_경과_연수')"
   ]
  },
  {
   "cell_type": "markdown",
   "metadata": {},
   "source": [
    "### 4. 시술_유형"
   ]
  },
  {
   "cell_type": "markdown",
   "metadata": {},
   "source": [
    "IVF 또는 DI 시술 여부"
   ]
  },
  {
   "cell_type": "code",
   "execution_count": 15,
   "metadata": {},
   "outputs": [
    {
     "name": "stdout",
     "output_type": "stream",
     "text": [
      "\n",
      "시술_유형별 임신_성공_여부 비율 및 갯수\n",
      "\n",
      "                 0         1      0     1  Total\n",
      "variable                                        \n",
      "DI        0.877426  0.122574    859   120    979\n",
      "IVF       0.736404  0.263596  25917  9277  35194\n"
     ]
    }
   ],
   "source": [
    "value_counts_ratio(train, '시술_유형')"
   ]
  },
  {
   "cell_type": "code",
   "execution_count": 16,
   "metadata": {},
   "outputs": [
    {
     "data": {
      "text/plain": [
       "IVF    12201\n",
       "DI       359\n",
       "Name: 시술_유형, dtype: int64"
      ]
     },
     "execution_count": 16,
     "metadata": {},
     "output_type": "execute_result"
    }
   ],
   "source": [
    "test['시술_유형'].value_counts()"
   ]
  },
  {
   "cell_type": "markdown",
   "metadata": {},
   "source": [
    "### 5. 특정_시술_유형"
   ]
  },
  {
   "cell_type": "markdown",
   "metadata": {},
   "source": [
    "IVF – 체외 수정 (시험관 아기 시술)  \n",
    "ICSI – 세포질 내 정자 주입  \n",
    "IUI – 인공 수정 (자궁 내 주입)  \n",
    "ICI – 자궁경부 인공 수정  \n",
    "GIFT – 생식세포 나팔관 이식  \n",
    "FER – 냉동 배아 이식  \n",
    "Generic DI – 기증 정자 주입  \n",
    "IVI – 질 내 인공 수정   \n",
    "BLASTOCYST – 배반포 단계에 이식  \n",
    "AH – 배아를 hatching 시켜주는 과정  \n",
    "Unknown – 시술 유형 정보가 제공되지 않았거나 알 수 없음  \n",
    "\n",
    "(*) 특수 기호의 의미  \n",
    "\"/\" – 복합적인 시술 방법을 의미 (예: ICSI / BLASTOCYST)  \n",
    "\":\" – 동일 시술 내 세부 조합을 의미 (예: ICSI:IVF)  "
   ]
  },
  {
   "cell_type": "code",
   "execution_count": 17,
   "metadata": {},
   "outputs": [
    {
     "name": "stdout",
     "output_type": "stream",
     "text": [
      "Grouped by: 특정_시술_유형\n",
      "\n",
      "                 group  '임신_성공_여부' count     ratio  Total\n",
      "0                 GIFT                 0  0.000000      1\n",
      "1           Generic DI                 2  0.333333      6\n",
      "2                  ICI                 1  0.066667     15\n",
      "3                 ICSI              4938  0.275235  17941\n",
      "4            ICSI / AH                 3  0.065217     46\n",
      "5   ICSI / BLASTOCYST                 32  0.244275    131\n",
      "6            ICSI:ICSI                 4  0.026846    149\n",
      "7             ICSI:IVF                27  0.232759    116\n",
      "8         ICSI:Unknown                 3  0.157895     19\n",
      "9                  IUI               117  0.122257    957\n",
      "10                 IVF              3527  0.269175  13103\n",
      "11            IVF / AH                 5  0.192308     26\n",
      "12    IVF / BLASTOCYST                32  0.260163    123\n",
      "13            IVF:ICSI                20  0.370370     54\n",
      "14             IVF:IVF                 1  0.008621    116\n",
      "15         IVF:Unknown                 5  0.500000     10\n",
      "16                 IVI                 0  0.000000      1\n",
      "17             Unknown               680  0.202501   3358\n"
     ]
    }
   ],
   "source": [
    "summarize_group(train, ['특정_시술_유형'])"
   ]
  },
  {
   "cell_type": "code",
   "execution_count": 18,
   "metadata": {},
   "outputs": [
    {
     "data": {
      "text/plain": [
       "ICSI                  6151\n",
       "IVF                   4629\n",
       "Unknown               1161\n",
       "IUI                    352\n",
       "ICSI:ICSI               55\n",
       "IVF:IVF                 43\n",
       "IVF / BLASTOCYST        38\n",
       "ICSI:IVF                35\n",
       "ICSI / BLASTOCYST       35\n",
       "IVF:ICSI                22\n",
       "ICSI / AH               15\n",
       "IVF / AH                10\n",
       "ICSI:Unknown             4\n",
       "ICI                      4\n",
       "IVF:Unknown              3\n",
       "Generic DI               3\n",
       "Name: 특정_시술_유형, dtype: int64"
      ]
     },
     "execution_count": 18,
     "metadata": {},
     "output_type": "execute_result"
    }
   ],
   "source": [
    "test['특정_시술_유형'].value_counts()"
   ]
  },
  {
   "cell_type": "code",
   "execution_count": 19,
   "metadata": {},
   "outputs": [],
   "source": [
    "# '특정_시술_유형' 변수의 값이 'FER' 또는 'GIFT'인 행 제거\n",
    "train = train.loc[~train['특정_시술_유형'].isin(['FER', 'GIFT'])]\n",
    "# test = test.loc[~test['특정_시술_유형'].isin(['FER', 'GIFT'])]"
   ]
  },
  {
   "cell_type": "code",
   "execution_count": 20,
   "metadata": {},
   "outputs": [],
   "source": [
    "# 시술 유형 변환 함수\n",
    "def transform_treatment(treatment):\n",
    "    if isinstance(treatment, str):  # treatment가 문자열인지 확인\n",
    "        if treatment.startswith(\"ICSI\"):\n",
    "            if \"AH\" in treatment:\n",
    "                return \"ICSI / AH\"\n",
    "            elif \"BLASTOCYST\" in treatment:\n",
    "                return \"ICSI / BLASTOCYST\"\n",
    "            return \"ICSI\"\n",
    "        elif treatment.startswith(\"IVF\"):\n",
    "            if \"AH\" in treatment:\n",
    "                return \"IVF / AH\"\n",
    "            elif \"BLASTOCYST\" in treatment:\n",
    "                return \"IVF / BLASTOCYST\"\n",
    "            return \"IVF\"\n",
    "        elif treatment == \"IUI:ICI\":\n",
    "            return \"IUI\"\n",
    "    return treatment  # 기타 시술은 그대로 반환\n",
    "\n",
    "# 변환된 열 추가\n",
    "train['변환된_특정_시술_유형'] = train['특정_시술_유형'].apply(transform_treatment)\n",
    "test['변환된_특정_시술_유형'] = test['특정_시술_유형'].apply(transform_treatment)"
   ]
  },
  {
   "cell_type": "code",
   "execution_count": 21,
   "metadata": {},
   "outputs": [
    {
     "name": "stdout",
     "output_type": "stream",
     "text": [
      "\n",
      "변환된_특정_시술_유형별 임신_성공_여부 비율 및 갯수\n",
      "\n",
      "                          0         1        0       1  Total\n",
      "variable                                                     \n",
      "Generic DI         0.666667  0.333333      4.0     2.0      6\n",
      "ICI                0.933333  0.066667     14.0     1.0     15\n",
      "ICSI               0.727188  0.272812  13253.0  4972.0  18225\n",
      "ICSI / AH          0.934783  0.065217     43.0     3.0     46\n",
      "ICSI / BLASTOCYST  0.755725  0.244275     99.0    32.0    131\n",
      "IUI                0.877743  0.122257    840.0   117.0    957\n",
      "IVF                0.732515  0.267485   9730.0  3553.0  13283\n",
      "IVF / AH           0.807692  0.192308     21.0     5.0     26\n",
      "IVF / BLASTOCYST   0.739837  0.260163     91.0    32.0    123\n",
      "IVI                1.000000  0.000000      1.0     0.0      1\n",
      "Unknown            0.797499  0.202501   2678.0   680.0   3358\n"
     ]
    }
   ],
   "source": [
    "value_counts_ratio(train, '변환된_특정_시술_유형')"
   ]
  },
  {
   "cell_type": "code",
   "execution_count": 22,
   "metadata": {},
   "outputs": [
    {
     "data": {
      "text/plain": [
       "ICSI                 6245\n",
       "IVF                  4697\n",
       "Unknown              1161\n",
       "IUI                   352\n",
       "IVF / BLASTOCYST       38\n",
       "ICSI / BLASTOCYST      35\n",
       "ICSI / AH              15\n",
       "IVF / AH               10\n",
       "ICI                     4\n",
       "Generic DI              3\n",
       "Name: 변환된_특정_시술_유형, dtype: int64"
      ]
     },
     "execution_count": 22,
     "metadata": {},
     "output_type": "execute_result"
    }
   ],
   "source": [
    "test['변환된_특정_시술_유형'].value_counts()"
   ]
  },
  {
   "cell_type": "code",
   "execution_count": 23,
   "metadata": {},
   "outputs": [],
   "source": [
    "# 더미 변수 생성 함수 정의\n",
    "def create_dummy(x, keyword):\n",
    "    if isinstance(x, str) and keyword in x:\n",
    "        return 1\n",
    "    else:\n",
    "        return 0\n",
    "\n",
    "# 더미 변수 생성\n",
    "train['특정_시술_유형_ICSI_더미'] = train['변환된_특정_시술_유형'].apply(lambda x: create_dummy(x, 'ICSI'))\n",
    "train['특정_시술_유형_IVF_더미'] = train['변환된_특정_시술_유형'].apply(lambda x: create_dummy(x, 'IVF'))\n",
    "train['특정_시술_유형_AH_더미'] = train['변환된_특정_시술_유형'].apply(lambda x: create_dummy(x, 'AH'))\n",
    "train['특정_시술_유형_BLASTOCYST_더미'] = train['변환된_특정_시술_유형'].apply(lambda x: create_dummy(x, 'BLASTOCYST'))\n",
    "\n",
    "test['특정_시술_유형_ICSI_더미'] = test['변환된_특정_시술_유형'].apply(lambda x: create_dummy(x, 'ICSI'))\n",
    "test['특정_시술_유형_IVF_더미'] = test['변환된_특정_시술_유형'].apply(lambda x: create_dummy(x, 'IVF'))\n",
    "test['특정_시술_유형_AH_더미'] = test['변환된_특정_시술_유형'].apply(lambda x: create_dummy(x, 'AH'))\n",
    "test['특정_시술_유형_BLASTOCYST_더미'] = test['변환된_특정_시술_유형'].apply(lambda x: create_dummy(x, 'BLASTOCYST'))"
   ]
  },
  {
   "cell_type": "code",
   "execution_count": 24,
   "metadata": {},
   "outputs": [
    {
     "name": "stdout",
     "output_type": "stream",
     "text": [
      "Grouped by: 특정_시술_유형, 특정_시술_유형_ICSI_더미, 특정_시술_유형_IVF_더미, 특정_시술_유형_AH_더미, 특정_시술_유형_BLASTOCYST_더미\n",
      "\n",
      "                               group  '임신_성공_여부' count     ratio  Total\n",
      "0           (Generic DI, 0, 0, 0, 0)                 2  0.333333      6\n",
      "1                  (ICI, 0, 0, 0, 0)                 1  0.066667     15\n",
      "2                 (ICSI, 1, 0, 0, 0)              4938  0.275235  17941\n",
      "3            (ICSI / AH, 1, 0, 1, 0)                 3  0.065217     46\n",
      "4   (ICSI / BLASTOCYST , 1, 0, 0, 1)                32  0.244275    131\n",
      "5            (ICSI:ICSI, 1, 0, 0, 0)                 4  0.026846    149\n",
      "6             (ICSI:IVF, 1, 0, 0, 0)                27  0.232759    116\n",
      "7         (ICSI:Unknown, 1, 0, 0, 0)                 3  0.157895     19\n",
      "8                  (IUI, 0, 0, 0, 0)               117  0.122257    957\n",
      "9                  (IVF, 0, 1, 0, 0)              3527  0.269175  13103\n",
      "10            (IVF / AH, 0, 1, 1, 0)                 5  0.192308     26\n",
      "11    (IVF / BLASTOCYST, 0, 1, 0, 1)                32  0.260163    123\n",
      "12            (IVF:ICSI, 0, 1, 0, 0)                20  0.370370     54\n",
      "13             (IVF:IVF, 0, 1, 0, 0)                 1  0.008621    116\n",
      "14         (IVF:Unknown, 0, 1, 0, 0)                 5  0.500000     10\n",
      "15                 (IVI, 0, 0, 0, 0)                 0  0.000000      1\n",
      "16             (Unknown, 0, 0, 0, 0)               680  0.202501   3358\n"
     ]
    }
   ],
   "source": [
    "summarize_group(train, ['특정_시술_유형',\n",
    "                        '특정_시술_유형_ICSI_더미',\n",
    "                          '특정_시술_유형_IVF_더미',\n",
    "                            '특정_시술_유형_AH_더미',\n",
    "                              '특정_시술_유형_BLASTOCYST_더미'])"
   ]
  },
  {
   "cell_type": "code",
   "execution_count": 25,
   "metadata": {},
   "outputs": [],
   "source": [
    "# '특정_시술_유형' 변수 제거\n",
    "train = train.drop(columns=['특정_시술_유형'])\n",
    "test = test.drop(columns=['특정_시술_유형'])"
   ]
  },
  {
   "cell_type": "markdown",
   "metadata": {},
   "source": [
    "### 6. 배란_자극_여부"
   ]
  },
  {
   "cell_type": "markdown",
   "metadata": {},
   "source": [
    "배란 자극 치료가 사용되었는지 여부"
   ]
  },
  {
   "cell_type": "code",
   "execution_count": 26,
   "metadata": {},
   "outputs": [
    {
     "name": "stdout",
     "output_type": "stream",
     "text": [
      "\n",
      "배란_자극_여부별 임신_성공_여부 비율 및 갯수\n",
      "\n",
      "                 0         1      0     1  Total\n",
      "variable                                        \n",
      "0         0.777922  0.222078   6004  1714   7718\n",
      "1         0.729985  0.270015  20771  7683  28454\n"
     ]
    }
   ],
   "source": [
    "value_counts_ratio(train, '배란_자극_여부')"
   ]
  },
  {
   "cell_type": "markdown",
   "metadata": {},
   "source": [
    "### 7. 배란_유도_유형"
   ]
  },
  {
   "cell_type": "markdown",
   "metadata": {},
   "source": [
    "사용된 배란 유도 방법 유형"
   ]
  },
  {
   "cell_type": "code",
   "execution_count": 27,
   "metadata": {},
   "outputs": [
    {
     "name": "stdout",
     "output_type": "stream",
     "text": [
      "\n",
      "배란_유도_유형별 임신_성공_여부 비율 및 갯수\n",
      "\n",
      "                   0         1      0     1  Total\n",
      "variable                                          \n",
      "기록되지 않은 시행  0.727312  0.272688  20300  7611  27911\n",
      "알 수 없음      0.783803  0.216197   6475  1786   8261\n"
     ]
    }
   ],
   "source": [
    "value_counts_ratio(train, '배란_유도_유형')"
   ]
  },
  {
   "cell_type": "code",
   "execution_count": 28,
   "metadata": {},
   "outputs": [
    {
     "data": {
      "text/plain": [
       "기록되지 않은 시행    9665\n",
       "알 수 없음        2895\n",
       "Name: 배란_유도_유형, dtype: int64"
      ]
     },
     "execution_count": 28,
     "metadata": {},
     "output_type": "execute_result"
    }
   ],
   "source": [
    "test['배란_유도_유형'].value_counts()"
   ]
  },
  {
   "cell_type": "markdown",
   "metadata": {},
   "source": [
    "### 8. 단일_배아_이식_여부"
   ]
  },
  {
   "cell_type": "markdown",
   "metadata": {},
   "source": [
    "선택적으로 단일 배아를 이식했는지 여부"
   ]
  },
  {
   "cell_type": "code",
   "execution_count": 29,
   "metadata": {},
   "outputs": [
    {
     "name": "stdout",
     "output_type": "stream",
     "text": [
      "\n",
      "단일_배아_이식_여부별 임신_성공_여부 비율 및 갯수\n",
      "\n",
      "                 0         1      0     1  Total\n",
      "variable                                        \n",
      "0.0       0.761850  0.238150  21152  6612  27764\n",
      "1.0       0.641271  0.358729   4764  2665   7429\n"
     ]
    }
   ],
   "source": [
    "value_counts_ratio(train, '단일_배아_이식_여부')"
   ]
  },
  {
   "cell_type": "markdown",
   "metadata": {},
   "source": [
    "### 9. 착상_전_유전_검사_사용_여부"
   ]
  },
  {
   "cell_type": "markdown",
   "metadata": {},
   "source": [
    "PGS(착상 전 유전 검사)가 시행되었는지 여부"
   ]
  },
  {
   "cell_type": "code",
   "execution_count": 30,
   "metadata": {},
   "outputs": [
    {
     "name": "stdout",
     "output_type": "stream",
     "text": [
      "\n",
      "착상_전_유전_검사_사용_여부별 임신_성공_여부 비율 및 갯수\n",
      "\n",
      "                 0         1    0   1  Total\n",
      "variable                                    \n",
      "1.0       0.806034  0.193966  187  45    232\n"
     ]
    }
   ],
   "source": [
    "value_counts_ratio(train, '착상_전_유전_검사_사용_여부')"
   ]
  },
  {
   "cell_type": "code",
   "execution_count": 31,
   "metadata": {},
   "outputs": [
    {
     "name": "stdout",
     "output_type": "stream",
     "text": [
      "결측값 개수: 35940\n",
      "결측값 개수: 0\n"
     ]
    }
   ],
   "source": [
    "# 결측값 개수 확인\n",
    "print(\"결측값 개수:\", train['착상_전_유전_검사_사용_여부'].isnull().sum())\n",
    "\n",
    "# 결측값을 0으로 채우기\n",
    "train['착상_전_유전_검사_사용_여부'].fillna(0, inplace=True)\n",
    "test['착상_전_유전_검사_사용_여부'].fillna(0, inplace=True)\n",
    "\n",
    "# 결측값 개수 확인\n",
    "print(\"결측값 개수:\", train['착상_전_유전_검사_사용_여부'].isnull().sum())"
   ]
  },
  {
   "cell_type": "code",
   "execution_count": 32,
   "metadata": {},
   "outputs": [
    {
     "name": "stdout",
     "output_type": "stream",
     "text": [
      "\n",
      "착상_전_유전_검사_사용_여부별 임신_성공_여부 비율 및 갯수\n",
      "\n",
      "                 0         1      0     1  Total\n",
      "variable                                        \n",
      "0.0       0.739789  0.260211  26588  9352  35940\n",
      "1.0       0.806034  0.193966    187    45    232\n"
     ]
    }
   ],
   "source": [
    "value_counts_ratio(train, '착상_전_유전_검사_사용_여부')"
   ]
  },
  {
   "cell_type": "markdown",
   "metadata": {},
   "source": [
    "### 10. 착상_전_유전_진단_사용_여부"
   ]
  },
  {
   "cell_type": "markdown",
   "metadata": {},
   "source": [
    "PGD(착상 전 유전 진단)가 시행되었는지 여부"
   ]
  },
  {
   "cell_type": "code",
   "execution_count": 33,
   "metadata": {},
   "outputs": [
    {
     "name": "stdout",
     "output_type": "stream",
     "text": [
      "\n",
      "착상_전_유전_진단_사용_여부별 임신_성공_여부 비율 및 갯수\n",
      "\n",
      "                 0         1      0     1  Total\n",
      "variable                                        \n",
      "0.0       0.736334  0.263666  25634  9179  34813\n",
      "1.0       0.742105  0.257895    282    98    380\n"
     ]
    }
   ],
   "source": [
    "value_counts_ratio(train, '착상_전_유전_진단_사용_여부')"
   ]
  },
  {
   "cell_type": "code",
   "execution_count": 34,
   "metadata": {},
   "outputs": [
    {
     "name": "stdout",
     "output_type": "stream",
     "text": [
      "Grouped by: 착상_전_유전_진단_사용_여부, 착상_전_유전_검사_사용_여부\n",
      "\n",
      "        group  '임신_성공_여부' count     ratio  Total\n",
      "0  (0.0, 0.0)              9134  0.264133  34581\n",
      "1  (0.0, 1.0)                45  0.193966    232\n",
      "2  (1.0, 0.0)                98  0.257895    380\n"
     ]
    }
   ],
   "source": [
    "summarize_group(train, ['착상_전_유전_진단_사용_여부', '착상_전_유전_검사_사용_여부'])"
   ]
  },
  {
   "cell_type": "markdown",
   "metadata": {},
   "source": [
    "### 11. 남성_주_불임_원인"
   ]
  },
  {
   "cell_type": "markdown",
   "metadata": {},
   "source": [
    "남성의 주요 불임 원인 여부"
   ]
  },
  {
   "cell_type": "code",
   "execution_count": 35,
   "metadata": {},
   "outputs": [
    {
     "name": "stdout",
     "output_type": "stream",
     "text": [
      "\n",
      "남성_주_불임_원인별 임신_성공_여부 비율 및 갯수\n",
      "\n",
      "                 0         1      0     1  Total\n",
      "variable                                        \n",
      "0         0.738080  0.261920  25959  9212  35171\n",
      "1         0.815185  0.184815    816   185   1001\n"
     ]
    }
   ],
   "source": [
    "value_counts_ratio(train, '남성_주_불임_원인')"
   ]
  },
  {
   "cell_type": "markdown",
   "metadata": {},
   "source": [
    "### 12. 남성_부_불임_원인"
   ]
  },
  {
   "cell_type": "markdown",
   "metadata": {},
   "source": [
    "남성의 부차적 불임 원인 여부"
   ]
  },
  {
   "cell_type": "code",
   "execution_count": 36,
   "metadata": {},
   "outputs": [
    {
     "name": "stdout",
     "output_type": "stream",
     "text": [
      "\n",
      "남성_부_불임_원인별 임신_성공_여부 비율 및 갯수\n",
      "\n",
      "                 0         1      0     1  Total\n",
      "variable                                        \n",
      "0         0.739110  0.260890  26401  9319  35720\n",
      "1         0.827434  0.172566    374    78    452\n"
     ]
    }
   ],
   "source": [
    "value_counts_ratio(train, '남성_부_불임_원인')"
   ]
  },
  {
   "cell_type": "code",
   "execution_count": 37,
   "metadata": {},
   "outputs": [
    {
     "name": "stdout",
     "output_type": "stream",
     "text": [
      "Grouped by: 남성_주_불임_원인, 남성_부_불임_원인\n",
      "\n",
      "    group  '임신_성공_여부' count     ratio  Total\n",
      "0  (0, 0)              9134  0.263084  34719\n",
      "1  (0, 1)                78  0.172566    452\n",
      "2  (1, 0)               185  0.184815   1001\n"
     ]
    }
   ],
   "source": [
    "summarize_group(train, ['남성_주_불임_원인', '남성_부_불임_원인'])"
   ]
  },
  {
   "cell_type": "markdown",
   "metadata": {},
   "source": [
    "### 13. 여성_주_불임_원인"
   ]
  },
  {
   "cell_type": "markdown",
   "metadata": {},
   "source": [
    "여성의 주요 불임 원인 여부"
   ]
  },
  {
   "cell_type": "code",
   "execution_count": 38,
   "metadata": {},
   "outputs": [
    {
     "name": "stdout",
     "output_type": "stream",
     "text": [
      "\n",
      "여성_주_불임_원인별 임신_성공_여부 비율 및 갯수\n",
      "\n",
      "                 0         1      0     1  Total\n",
      "variable                                        \n",
      "0         0.737761  0.262239  25891  9203  35094\n",
      "1         0.820037  0.179963    884   194   1078\n"
     ]
    }
   ],
   "source": [
    "value_counts_ratio(train, '여성_주_불임_원인')"
   ]
  },
  {
   "cell_type": "markdown",
   "metadata": {},
   "source": [
    "### 14. 여성_부_불임_원인"
   ]
  },
  {
   "cell_type": "markdown",
   "metadata": {},
   "source": [
    "여성의 부차적 불임 원인 여부"
   ]
  },
  {
   "cell_type": "code",
   "execution_count": 39,
   "metadata": {},
   "outputs": [
    {
     "name": "stdout",
     "output_type": "stream",
     "text": [
      "\n",
      "여성_부_불임_원인별 임신_성공_여부 비율 및 갯수\n",
      "\n",
      "                 0         1      0     1  Total\n",
      "variable                                        \n",
      "0         0.739313  0.260687  26426  9318  35744\n",
      "1         0.815421  0.184579    349    79    428\n"
     ]
    }
   ],
   "source": [
    "value_counts_ratio(train, '여성_부_불임_원인')"
   ]
  },
  {
   "cell_type": "code",
   "execution_count": 40,
   "metadata": {},
   "outputs": [
    {
     "name": "stdout",
     "output_type": "stream",
     "text": [
      "Grouped by: 여성_주_불임_원인, 여성_부_불임_원인\n",
      "\n",
      "    group  '임신_성공_여부' count     ratio  Total\n",
      "0  (0, 0)              9124  0.263197  34666\n",
      "1  (0, 1)                79  0.184579    428\n",
      "2  (1, 0)               194  0.179963   1078\n"
     ]
    }
   ],
   "source": [
    "summarize_group(train, ['여성_주_불임_원인', '여성_부_불임_원인'])"
   ]
  },
  {
   "cell_type": "code",
   "execution_count": 41,
   "metadata": {},
   "outputs": [
    {
     "name": "stdout",
     "output_type": "stream",
     "text": [
      "Grouped by: 남성_주_불임_원인, 남성_부_불임_원인, 여성_주_불임_원인, 여성_부_불임_원인\n",
      "\n",
      "          group  '임신_성공_여부' count     ratio  Total\n",
      "0  (0, 0, 0, 0)              9122  0.263185  34660\n",
      "1  (0, 0, 0, 1)                 2  0.181818     11\n",
      "2  (0, 0, 1, 0)                10  0.208333     48\n",
      "3  (0, 1, 0, 0)                 1  0.500000      2\n",
      "4  (0, 1, 0, 1)                54  0.173633    311\n",
      "5  (0, 1, 1, 0)                23  0.165468    139\n",
      "6  (1, 0, 0, 0)                 1  0.250000      4\n",
      "7  (1, 0, 0, 1)                23  0.216981    106\n",
      "8  (1, 0, 1, 0)               161  0.180696    891\n"
     ]
    }
   ],
   "source": [
    "summarize_group(train, ['남성_주_불임_원인', '남성_부_불임_원인', '여성_주_불임_원인', '여성_부_불임_원인'])"
   ]
  },
  {
   "cell_type": "markdown",
   "metadata": {},
   "source": [
    "### 15. 부부_주_불임_원인"
   ]
  },
  {
   "cell_type": "markdown",
   "metadata": {},
   "source": [
    "부부의 주요 불임 원인 여부"
   ]
  },
  {
   "cell_type": "code",
   "execution_count": 42,
   "metadata": {},
   "outputs": [
    {
     "name": "stdout",
     "output_type": "stream",
     "text": [
      "\n",
      "부부_주_불임_원인별 임신_성공_여부 비율 및 갯수\n",
      "\n",
      "                 0         1      0     1  Total\n",
      "variable                                        \n",
      "0         0.738004  0.261996  25839  9173  35012\n",
      "1         0.806897  0.193103    936   224   1160\n"
     ]
    }
   ],
   "source": [
    "value_counts_ratio(train, '부부_주_불임_원인')"
   ]
  },
  {
   "cell_type": "markdown",
   "metadata": {},
   "source": [
    "### 16. 부부_부_불임_원인"
   ]
  },
  {
   "cell_type": "markdown",
   "metadata": {},
   "source": [
    "부부의 부차적 불임 원인 여부"
   ]
  },
  {
   "cell_type": "code",
   "execution_count": 43,
   "metadata": {},
   "outputs": [
    {
     "name": "stdout",
     "output_type": "stream",
     "text": [
      "\n",
      "부부_부_불임_원인별 임신_성공_여부 비율 및 갯수\n",
      "\n",
      "                 0         1      0     1  Total\n",
      "variable                                        \n",
      "0         0.739258  0.260742  26512  9351  35863\n",
      "1         0.851133  0.148867    263    46    309\n"
     ]
    }
   ],
   "source": [
    "value_counts_ratio(train, '부부_부_불임_원인')"
   ]
  },
  {
   "cell_type": "code",
   "execution_count": 44,
   "metadata": {},
   "outputs": [
    {
     "name": "stdout",
     "output_type": "stream",
     "text": [
      "Grouped by: 부부_주_불임_원인, 부부_부_불임_원인\n",
      "\n",
      "    group  '임신_성공_여부' count     ratio  Total\n",
      "0  (0, 0)              9127  0.262988  34705\n",
      "1  (0, 1)                46  0.149837    307\n",
      "2  (1, 0)               224  0.193437   1158\n",
      "3  (1, 1)                 0  0.000000      2\n"
     ]
    }
   ],
   "source": [
    "summarize_group(train, ['부부_주_불임_원인', '부부_부_불임_원인'])"
   ]
  },
  {
   "cell_type": "code",
   "execution_count": 45,
   "metadata": {},
   "outputs": [
    {
     "name": "stdout",
     "output_type": "stream",
     "text": [
      "Grouped by: 남성_주_불임_원인, 남성_부_불임_원인, 여성_주_불임_원인, 여성_부_불임_원인, 부부_주_불임_원인, 부부_부_불임_원인\n",
      "\n",
      "                 group  '임신_성공_여부' count     ratio  Total\n",
      "0   (0, 0, 0, 0, 0, 0)              9121  0.263172  34658\n",
      "1   (0, 0, 0, 0, 0, 1)                 0  0.000000      1\n",
      "2   (0, 0, 0, 0, 1, 0)                 1  1.000000      1\n",
      "3   (0, 0, 0, 1, 0, 0)                 1  0.166667      6\n",
      "4   (0, 0, 0, 1, 0, 1)                 0  0.000000      3\n",
      "5   (0, 0, 0, 1, 1, 0)                 1  0.500000      2\n",
      "6   (0, 0, 1, 0, 0, 0)                 4  0.114286     35\n",
      "7   (0, 0, 1, 0, 1, 0)                 6  0.461538     13\n",
      "8   (0, 1, 0, 0, 0, 1)                 0  0.000000      1\n",
      "9   (0, 1, 0, 0, 1, 0)                 1  1.000000      1\n",
      "10  (0, 1, 0, 1, 0, 0)                 0  0.000000      1\n",
      "11  (0, 1, 0, 1, 0, 1)                44  0.164794    267\n",
      "12  (0, 1, 0, 1, 1, 0)                10  0.238095     42\n",
      "13  (0, 1, 0, 1, 1, 1)                 0  0.000000      1\n",
      "14  (0, 1, 1, 0, 0, 0)                 1  1.000000      1\n",
      "15  (0, 1, 1, 0, 0, 1)                 2  0.060606     33\n",
      "16  (0, 1, 1, 0, 1, 0)                20  0.190476    105\n",
      "17  (1, 0, 0, 0, 1, 0)                 1  0.250000      4\n",
      "18  (1, 0, 0, 1, 0, 1)                 0  0.000000      1\n",
      "19  (1, 0, 0, 1, 1, 0)                23  0.221154    104\n",
      "20  (1, 0, 0, 1, 1, 1)                 0  0.000000      1\n",
      "21  (1, 0, 1, 0, 0, 0)                 0  0.000000      4\n",
      "22  (1, 0, 1, 0, 0, 1)                 0  0.000000      1\n",
      "23  (1, 0, 1, 0, 1, 0)               161  0.181716    886\n"
     ]
    }
   ],
   "source": [
    "summarize_group(train, ['남성_주_불임_원인', '남성_부_불임_원인'\n",
    "                        , '여성_주_불임_원인', '여성_부_불임_원인'\n",
    "                        , '부부_주_불임_원인', '부부_부_불임_원인'])"
   ]
  },
  {
   "cell_type": "markdown",
   "metadata": {},
   "source": [
    "### 17. 불명확_불임_원인"
   ]
  },
  {
   "cell_type": "markdown",
   "metadata": {},
   "source": [
    "불명의 원인으로 인한 불임 여부"
   ]
  },
  {
   "cell_type": "code",
   "execution_count": 46,
   "metadata": {},
   "outputs": [
    {
     "name": "stdout",
     "output_type": "stream",
     "text": [
      "\n",
      "불명확_불임_원인별 임신_성공_여부 비율 및 갯수\n",
      "\n",
      "                 0         1      0     1  Total\n",
      "variable                                        \n",
      "0         0.739742  0.260258  20391  7174  27565\n",
      "1         0.741722  0.258278   6384  2223   8607\n"
     ]
    }
   ],
   "source": [
    "value_counts_ratio(train, '불명확_불임_원인')"
   ]
  },
  {
   "cell_type": "markdown",
   "metadata": {},
   "source": [
    "### 18. 불임_원인_-_난관_질환"
   ]
  },
  {
   "cell_type": "markdown",
   "metadata": {},
   "source": [
    "난관 이상으로 인한 불임 여부"
   ]
  },
  {
   "cell_type": "code",
   "execution_count": 47,
   "metadata": {},
   "outputs": [
    {
     "name": "stdout",
     "output_type": "stream",
     "text": [
      "\n",
      "불임_원인_-_난관_질환별 임신_성공_여부 비율 및 갯수\n",
      "\n",
      "                 0         1      0     1  Total\n",
      "variable                                        \n",
      "0         0.738675  0.261325  22797  8065  30862\n",
      "1         0.749153  0.250847   3978  1332   5310\n"
     ]
    }
   ],
   "source": [
    "value_counts_ratio(train, '불임_원인_-_난관_질환')"
   ]
  },
  {
   "cell_type": "markdown",
   "metadata": {},
   "source": [
    "### 19. 불임_원인_-_남성_요인"
   ]
  },
  {
   "cell_type": "markdown",
   "metadata": {},
   "source": [
    "남성 요인으로 인한 불임 여부"
   ]
  },
  {
   "cell_type": "code",
   "execution_count": 48,
   "metadata": {},
   "outputs": [
    {
     "name": "stdout",
     "output_type": "stream",
     "text": [
      "\n",
      "불임_원인_-_남성_요인별 임신_성공_여부 비율 및 갯수\n",
      "\n",
      "                 0         1      0     1  Total\n",
      "variable                                        \n",
      "0         0.751321  0.248679  16774  5552  22326\n",
      "1         0.722302  0.277698  10001  3845  13846\n"
     ]
    }
   ],
   "source": [
    "value_counts_ratio(train, '불임_원인_-_남성_요인')"
   ]
  },
  {
   "cell_type": "markdown",
   "metadata": {},
   "source": [
    "### 20. 불임_원인_-_배란_장애"
   ]
  },
  {
   "cell_type": "markdown",
   "metadata": {},
   "source": [
    "배란 장애로 인한 불임 여부"
   ]
  },
  {
   "cell_type": "code",
   "execution_count": 49,
   "metadata": {},
   "outputs": [
    {
     "name": "stdout",
     "output_type": "stream",
     "text": [
      "\n",
      "불임_원인_-_배란_장애별 임신_성공_여부 비율 및 갯수\n",
      "\n",
      "                 0         1      0     1  Total\n",
      "variable                                        \n",
      "0         0.744916  0.255084  23479  8040  31519\n",
      "1         0.708360  0.291640   3296  1357   4653\n"
     ]
    }
   ],
   "source": [
    "value_counts_ratio(train, '불임_원인_-_배란_장애')"
   ]
  },
  {
   "cell_type": "markdown",
   "metadata": {},
   "source": [
    "### 21. 불임_원인_-_여성_요인"
   ]
  },
  {
   "cell_type": "markdown",
   "metadata": {},
   "source": [
    "여성 요인으로 인한 불임 여부"
   ]
  },
  {
   "cell_type": "code",
   "execution_count": 50,
   "metadata": {},
   "outputs": [
    {
     "name": "stdout",
     "output_type": "stream",
     "text": [
      "\n",
      "불임_원인_-_여성_요인별 임신_성공_여부 비율 및 갯수\n",
      "\n",
      "                 0         1      0     1  Total\n",
      "variable                                        \n",
      "0         0.740213  0.259787  26775  9397  36172\n"
     ]
    }
   ],
   "source": [
    "value_counts_ratio(train, '불임_원인_-_여성_요인')"
   ]
  },
  {
   "cell_type": "code",
   "execution_count": 51,
   "metadata": {},
   "outputs": [
    {
     "data": {
      "text/plain": [
       "0    12560\n",
       "Name: 불임_원인_-_여성_요인, dtype: int64"
      ]
     },
     "execution_count": 51,
     "metadata": {},
     "output_type": "execute_result"
    }
   ],
   "source": [
    "test['불임_원인_-_여성_요인'].value_counts()"
   ]
  },
  {
   "cell_type": "code",
   "execution_count": 52,
   "metadata": {},
   "outputs": [],
   "source": [
    "# '불임_원인_-_여성_요인' 변수 제거\n",
    "train = train.drop(columns=['불임_원인_-_여성_요인'])\n",
    "test = test.drop(columns=['불임_원인_-_여성_요인'])"
   ]
  },
  {
   "cell_type": "markdown",
   "metadata": {},
   "source": [
    "### 22. 불임_원인_-_자궁경부_문제"
   ]
  },
  {
   "cell_type": "markdown",
   "metadata": {},
   "source": [
    "자궁경부 이상으로 인한 불임 여부"
   ]
  },
  {
   "cell_type": "code",
   "execution_count": 53,
   "metadata": {},
   "outputs": [
    {
     "name": "stdout",
     "output_type": "stream",
     "text": [
      "\n",
      "불임_원인_-_자궁경부_문제별 임신_성공_여부 비율 및 갯수\n",
      "\n",
      "                 0         1      0     1  Total\n",
      "variable                                        \n",
      "0         0.740213  0.259787  26775  9397  36172\n"
     ]
    }
   ],
   "source": [
    "value_counts_ratio(train, '불임_원인_-_자궁경부_문제')"
   ]
  },
  {
   "cell_type": "markdown",
   "metadata": {},
   "source": [
    "### 23. 불임_원인_-_자궁내막증"
   ]
  },
  {
   "cell_type": "markdown",
   "metadata": {},
   "source": [
    "자궁내막증으로 인한 불임 여부"
   ]
  },
  {
   "cell_type": "code",
   "execution_count": 54,
   "metadata": {},
   "outputs": [
    {
     "name": "stdout",
     "output_type": "stream",
     "text": [
      "\n",
      "불임_원인_-_자궁내막증별 임신_성공_여부 비율 및 갯수\n",
      "\n",
      "                 0         1      0     1  Total\n",
      "variable                                        \n",
      "0         0.738565  0.261435  24722  8751  33473\n",
      "1         0.760652  0.239348   2053   646   2699\n"
     ]
    }
   ],
   "source": [
    "value_counts_ratio(train, '불임_원인_-_자궁내막증')"
   ]
  },
  {
   "cell_type": "markdown",
   "metadata": {},
   "source": [
    "### 24. 불임_원인_-_정자_농도"
   ]
  },
  {
   "cell_type": "markdown",
   "metadata": {},
   "source": [
    "파트너의 정자 농도 문제 여부"
   ]
  },
  {
   "cell_type": "code",
   "execution_count": 55,
   "metadata": {},
   "outputs": [
    {
     "name": "stdout",
     "output_type": "stream",
     "text": [
      "\n",
      "불임_원인_-_정자_농도별 임신_성공_여부 비율 및 갯수\n",
      "\n",
      "                 0         1      0     1  Total\n",
      "variable                                        \n",
      "0         0.740175  0.259825  26744  9388  36132\n",
      "1         0.775000  0.225000     31     9     40\n"
     ]
    }
   ],
   "source": [
    "value_counts_ratio(train, '불임_원인_-_정자_농도')"
   ]
  },
  {
   "cell_type": "markdown",
   "metadata": {},
   "source": [
    "### 25. 불임_원인_-_정자_면역학적_요인"
   ]
  },
  {
   "cell_type": "markdown",
   "metadata": {},
   "source": [
    "파트너의 정자 면역 관련 문제 여부"
   ]
  },
  {
   "cell_type": "code",
   "execution_count": 56,
   "metadata": {},
   "outputs": [
    {
     "name": "stdout",
     "output_type": "stream",
     "text": [
      "\n",
      "불임_원인_-_정자_면역학적_요인별 임신_성공_여부 비율 및 갯수\n",
      "\n",
      "                 0         1      0     1  Total\n",
      "variable                                        \n",
      "0         0.740213  0.259787  26775  9397  36172\n"
     ]
    }
   ],
   "source": [
    "value_counts_ratio(train, '불임_원인_-_정자_면역학적_요인')"
   ]
  },
  {
   "cell_type": "code",
   "execution_count": 57,
   "metadata": {},
   "outputs": [
    {
     "data": {
      "text/plain": [
       "0    12560\n",
       "Name: 불임_원인_-_정자_면역학적_요인, dtype: int64"
      ]
     },
     "execution_count": 57,
     "metadata": {},
     "output_type": "execute_result"
    }
   ],
   "source": [
    "test['불임_원인_-_정자_면역학적_요인'].value_counts()"
   ]
  },
  {
   "cell_type": "code",
   "execution_count": 58,
   "metadata": {},
   "outputs": [],
   "source": [
    "# '불임_원인_-_정자_면역학적_요인' 변수 제거\n",
    "train = train.drop(columns=['불임_원인_-_정자_면역학적_요인'])\n",
    "test = test.drop(columns=['불임_원인_-_정자_면역학적_요인'])"
   ]
  },
  {
   "cell_type": "markdown",
   "metadata": {},
   "source": [
    "### 26. 불임_원인_-_정자_운동성"
   ]
  },
  {
   "cell_type": "markdown",
   "metadata": {},
   "source": [
    "파트너의 정자 운동성 문제 여부"
   ]
  },
  {
   "cell_type": "code",
   "execution_count": 59,
   "metadata": {},
   "outputs": [
    {
     "name": "stdout",
     "output_type": "stream",
     "text": [
      "\n",
      "불임_원인_-_정자_운동성별 임신_성공_여부 비율 및 갯수\n",
      "\n",
      "                 0         1      0     1  Total\n",
      "variable                                        \n",
      "0         0.740191  0.259809  26769  9396  36165\n",
      "1         0.857143  0.142857      6     1      7\n"
     ]
    }
   ],
   "source": [
    "value_counts_ratio(train, '불임_원인_-_정자_운동성')"
   ]
  },
  {
   "cell_type": "code",
   "execution_count": 60,
   "metadata": {},
   "outputs": [],
   "source": [
    "# '불임_원인_-_정자_운동성' 변수 제거\n",
    "train = train.drop(columns=['불임_원인_-_정자_운동성'])\n",
    "test = test.drop(columns=['불임_원인_-_정자_운동성'])"
   ]
  },
  {
   "cell_type": "markdown",
   "metadata": {},
   "source": [
    "### 27. 불임_원인_-_정자_형태"
   ]
  },
  {
   "cell_type": "markdown",
   "metadata": {},
   "source": [
    "파트너의 정자 형태 문제 여부"
   ]
  },
  {
   "cell_type": "code",
   "execution_count": 61,
   "metadata": {},
   "outputs": [
    {
     "name": "stdout",
     "output_type": "stream",
     "text": [
      "\n",
      "불임_원인_-_정자_형태별 임신_성공_여부 비율 및 갯수\n",
      "\n",
      "                 0         1      0     1  Total\n",
      "variable                                        \n",
      "0         0.740196  0.259804  26764  9394  36158\n",
      "1         0.785714  0.214286     11     3     14\n"
     ]
    }
   ],
   "source": [
    "value_counts_ratio(train, '불임_원인_-_정자_형태')"
   ]
  },
  {
   "cell_type": "markdown",
   "metadata": {},
   "source": [
    "### 28. 배아_생성_주요_이유"
   ]
  },
  {
   "cell_type": "markdown",
   "metadata": {},
   "source": [
    "배아 생성의 주된 목적(시술, 보관 등)"
   ]
  },
  {
   "cell_type": "code",
   "execution_count": 62,
   "metadata": {},
   "outputs": [
    {
     "name": "stdout",
     "output_type": "stream",
     "text": [
      "\n",
      "배아_생성_주요_이유별 임신_성공_여부 비율 및 갯수\n",
      "\n",
      "                            0         1        0       1  Total\n",
      "variable                                                       \n",
      "기증용                  1.000000  0.000000    116.0     0.0    116\n",
      "기증용, 난자 저장용          1.000000  0.000000      6.0     0.0      6\n",
      "기증용, 배아 저장용          1.000000  0.000000     11.0     0.0     11\n",
      "기증용, 배아 저장용, 현재 시술용  0.500000  0.500000      1.0     1.0      2\n",
      "기증용, 현재 시술용          0.623028  0.376972    395.0   239.0    634\n",
      "난자 저장용               1.000000  0.000000    202.0     0.0    202\n",
      "난자 저장용, 배아 저장용       1.000000  0.000000      3.0     0.0      3\n",
      "난자 저장용, 현재 시술용       1.000000  0.000000      1.0     0.0      1\n",
      "배아 저장용               1.000000  0.000000    429.0     0.0    429\n",
      "배아 저장용, 현재 시술용       1.000000  0.000000      2.0     0.0      2\n",
      "현재 시술용               0.732530  0.267470  24750.0  9037.0  33787\n"
     ]
    }
   ],
   "source": [
    "value_counts_ratio(train, '배아_생성_주요_이유')"
   ]
  },
  {
   "cell_type": "code",
   "execution_count": 63,
   "metadata": {},
   "outputs": [],
   "source": [
    "# '연구용'이라는 값이 포함된 행 삭제\n",
    "train = train[~train['배아_생성_주요_이유'].str.contains('연구용', na=False)]\n",
    "# test = test[~test['배아_생성_주요_이유'].str.contains('연구용', na=False)]"
   ]
  },
  {
   "cell_type": "code",
   "execution_count": 64,
   "metadata": {},
   "outputs": [
    {
     "name": "stdout",
     "output_type": "stream",
     "text": [
      "\n",
      "배아_생성_주요_이유별 임신_성공_여부 비율 및 갯수\n",
      "\n",
      "                            0         1        0       1  Total\n",
      "variable                                                       \n",
      "기증용                  1.000000  0.000000    116.0     0.0    116\n",
      "기증용, 난자 저장용          1.000000  0.000000      6.0     0.0      6\n",
      "기증용, 배아 저장용          1.000000  0.000000     11.0     0.0     11\n",
      "기증용, 배아 저장용, 현재 시술용  0.500000  0.500000      1.0     1.0      2\n",
      "기증용, 현재 시술용          0.623028  0.376972    395.0   239.0    634\n",
      "난자 저장용               1.000000  0.000000    202.0     0.0    202\n",
      "난자 저장용, 배아 저장용       1.000000  0.000000      3.0     0.0      3\n",
      "난자 저장용, 현재 시술용       1.000000  0.000000      1.0     0.0      1\n",
      "배아 저장용               1.000000  0.000000    429.0     0.0    429\n",
      "배아 저장용, 현재 시술용       1.000000  0.000000      2.0     0.0      2\n",
      "현재 시술용               0.732530  0.267470  24750.0  9037.0  33787\n"
     ]
    }
   ],
   "source": [
    "value_counts_ratio(train, '배아_생성_주요_이유')"
   ]
  },
  {
   "cell_type": "code",
   "execution_count": 65,
   "metadata": {},
   "outputs": [
    {
     "data": {
      "text/plain": [
       "현재 시술용                 11726\n",
       "기증용, 현재 시술용              201\n",
       "배아 저장용                   142\n",
       "난자 저장용                    76\n",
       "기증용                       49\n",
       "기증용, 배아 저장용                4\n",
       "기증용, 난자 저장용                2\n",
       "기증용, 배아 저장용, 현재 시술용        1\n",
       "Name: 배아_생성_주요_이유, dtype: int64"
      ]
     },
     "execution_count": 65,
     "metadata": {},
     "output_type": "execute_result"
    }
   ],
   "source": [
    "test['배아_생성_주요_이유'].value_counts()"
   ]
  },
  {
   "cell_type": "code",
   "execution_count": 66,
   "metadata": {},
   "outputs": [
    {
     "name": "stdout",
     "output_type": "stream",
     "text": [
      "결측값 개수: 979\n",
      "결측값 개수: 0\n"
     ]
    }
   ],
   "source": [
    "print(\"결측값 개수:\", train['배아_생성_주요_이유'].isnull().sum())\n",
    "\n",
    "train['배아_생성_주요_이유'].fillna('unknown', inplace=True)\n",
    "test['배아_생성_주요_이유'].fillna('unknown', inplace=True)\n",
    "\n",
    "print(\"결측값 개수:\", train['배아_생성_주요_이유'].isnull().sum())"
   ]
  },
  {
   "cell_type": "code",
   "execution_count": 67,
   "metadata": {},
   "outputs": [],
   "source": [
    "# '현재 시술용' 키워드가 포함된 경우 1, 그렇지 않은 경우 0을 부여하는 더미 변수 생성\n",
    "train['배아_생성_주요_이유_현재시술용'] = train['배아_생성_주요_이유'].str.contains('현재 시술용').astype(int)\n",
    "test['배아_생성_주요_이유_현재시술용'] = test['배아_생성_주요_이유'].str.contains('현재 시술용').astype(int)"
   ]
  },
  {
   "cell_type": "code",
   "execution_count": 68,
   "metadata": {},
   "outputs": [],
   "source": [
    "# '기증용' 키워드가 포함된 경우 1, 그렇지 않은 경우 0을 부여하는 더미 변수 생성\n",
    "train['배아_생성_주요_이유_기증용'] = train['배아_생성_주요_이유'].str.contains('기증용').astype(int)\n",
    "test['배아_생성_주요_이유_기증용'] = test['배아_생성_주요_이유'].str.contains('기증용').astype(int)"
   ]
  },
  {
   "cell_type": "code",
   "execution_count": 69,
   "metadata": {},
   "outputs": [],
   "source": [
    "# '난자 저장용' 키워드가 포함된 경우 1, 그렇지 않은 경우 0을 부여하는 더미 변수 생성\n",
    "train['배아_생성_주요_이유_난자저장용'] = train['배아_생성_주요_이유'].str.contains('난자 저장용').astype(int)\n",
    "test['배아_생성_주요_이유_난자저장용'] = test['배아_생성_주요_이유'].str.contains('난자 저장용').astype(int)"
   ]
  },
  {
   "cell_type": "code",
   "execution_count": 70,
   "metadata": {},
   "outputs": [],
   "source": [
    "# '배아 저장용' 키워드가 포함된 경우 1, 그렇지 않은 경우 0을 부여하는 더미 변수 생성\n",
    "train['배아_생성_주요_이유_배아저장용'] = train['배아_생성_주요_이유'].str.contains('배아 저장용').astype(int)\n",
    "test['배아_생성_주요_이유_배아저장용'] = test['배아_생성_주요_이유'].str.contains('배아 저장용').astype(int)"
   ]
  },
  {
   "cell_type": "code",
   "execution_count": 71,
   "metadata": {},
   "outputs": [
    {
     "name": "stdout",
     "output_type": "stream",
     "text": [
      "Grouped by: 배아_생성_주요_이유_현재시술용, 배아_생성_주요_이유_기증용, 배아_생성_주요_이유_난자저장용, 배아_생성_주요_이유_배아저장용\n",
      "\n",
      "           group  '임신_성공_여부' count     ratio  Total\n",
      "0   (0, 0, 0, 0)               120  0.122574    979\n",
      "1   (0, 0, 0, 1)                 0  0.000000    429\n",
      "2   (0, 0, 1, 0)                 0  0.000000    202\n",
      "3   (0, 0, 1, 1)                 0  0.000000      3\n",
      "4   (0, 1, 0, 0)                 0  0.000000    116\n",
      "5   (0, 1, 0, 1)                 0  0.000000     11\n",
      "6   (0, 1, 1, 0)                 0  0.000000      6\n",
      "7   (1, 0, 0, 0)              9037  0.267470  33787\n",
      "8   (1, 0, 0, 1)                 0  0.000000      2\n",
      "9   (1, 0, 1, 0)                 0  0.000000      1\n",
      "10  (1, 1, 0, 0)               239  0.376972    634\n",
      "11  (1, 1, 0, 1)                 1  0.500000      2\n"
     ]
    }
   ],
   "source": [
    "summarize_group(train, [\n",
    "    # '배아_생성_주요_이유',\n",
    "    '배아_생성_주요_이유_현재시술용',\n",
    "    '배아_생성_주요_이유_기증용',\n",
    "    '배아_생성_주요_이유_난자저장용',\n",
    "    '배아_생성_주요_이유_배아저장용'\n",
    "                        ])"
   ]
  },
  {
   "cell_type": "code",
   "execution_count": 72,
   "metadata": {},
   "outputs": [
    {
     "name": "stdout",
     "output_type": "stream",
     "text": [
      "\n",
      "배아_생성_주요_이유_현재시술용별 임신_성공_여부 비율 및 갯수\n",
      "\n",
      "                 0         1      0     1  Total\n",
      "variable                                        \n",
      "0         0.931271  0.068729   1626   120   1746\n",
      "1         0.730523  0.269477  25149  9277  34426\n"
     ]
    }
   ],
   "source": [
    "value_counts_ratio(train, '배아_생성_주요_이유_현재시술용')"
   ]
  },
  {
   "cell_type": "code",
   "execution_count": 73,
   "metadata": {},
   "outputs": [],
   "source": [
    "# # 변수 제거\n",
    "# train = train.drop(columns=['배아_생성_주요_이유'])\n",
    "# test = test.drop(columns=['배아_생성_주요_이유'])"
   ]
  },
  {
   "cell_type": "markdown",
   "metadata": {},
   "source": [
    "### 29. 총_시술_횟수"
   ]
  },
  {
   "cell_type": "markdown",
   "metadata": {},
   "source": [
    "IVF 및 DI 포함한 전체 시술 횟수"
   ]
  },
  {
   "cell_type": "code",
   "execution_count": 74,
   "metadata": {},
   "outputs": [
    {
     "name": "stdout",
     "output_type": "stream",
     "text": [
      "\n",
      "총_시술_횟수별 임신_성공_여부 비율 및 갯수\n",
      "\n",
      "                 0         1     0     1  Total\n",
      "variable                                       \n",
      "0회        0.700291  0.299709  9143  3913  13056\n",
      "1회        0.745295  0.254705  6098  2084   8182\n",
      "2회        0.754895  0.245105  4472  1452   5924\n",
      "3회        0.782395  0.217605  2862   796   3658\n",
      "4회        0.768761  0.231239  1762   530   2292\n",
      "5회        0.798831  0.201169   957   241   1198\n",
      "6회 이상     0.795381  0.204619  1481   381   1862\n"
     ]
    }
   ],
   "source": [
    "value_counts_ratio(train, '총_시술_횟수')"
   ]
  },
  {
   "cell_type": "code",
   "execution_count": 75,
   "metadata": {},
   "outputs": [
    {
     "data": {
      "text/plain": [
       "0회       4453\n",
       "1회       2838\n",
       "2회       2049\n",
       "3회       1313\n",
       "4회        766\n",
       "6회 이상     656\n",
       "5회        485\n",
       "Name: 총_시술_횟수, dtype: int64"
      ]
     },
     "execution_count": 75,
     "metadata": {},
     "output_type": "execute_result"
    }
   ],
   "source": [
    "test['총_시술_횟수'].value_counts()"
   ]
  },
  {
   "cell_type": "code",
   "execution_count": 76,
   "metadata": {},
   "outputs": [
    {
     "name": "stdout",
     "output_type": "stream",
     "text": [
      "\n",
      "총_시술_횟수별 임신_성공_여부 비율 및 갯수\n",
      "\n",
      "                 0         1     0     1  Total\n",
      "variable                                       \n",
      "0         0.700291  0.299709  9143  3913  13056\n",
      "1         0.745295  0.254705  6098  2084   8182\n",
      "2         0.754895  0.245105  4472  1452   5924\n",
      "3         0.782395  0.217605  2862   796   3658\n",
      "4         0.768761  0.231239  1762   530   2292\n",
      "5         0.798831  0.201169   957   241   1198\n",
      "6         0.795381  0.204619  1481   381   1862\n"
     ]
    }
   ],
   "source": [
    "# 숫자 매핑\n",
    "mapping = {\n",
    "    '0회': 0,\n",
    "    '1회': 1,\n",
    "    '2회': 2,\n",
    "    '3회': 3,\n",
    "    '4회': 4,\n",
    "    '5회': 5,\n",
    "    '6회 이상': 6\n",
    "}\n",
    "\n",
    "# 숫자로 변환\n",
    "train['총_시술_횟수'] = train['총_시술_횟수'].map(mapping)\n",
    "test['총_시술_횟수'] = test['총_시술_횟수'].map(mapping)\n",
    "\n",
    "value_counts_ratio(train, '총_시술_횟수')"
   ]
  },
  {
   "cell_type": "markdown",
   "metadata": {},
   "source": [
    "### 30. 클리닉_내_총_시술_횟수"
   ]
  },
  {
   "cell_type": "markdown",
   "metadata": {},
   "source": [
    "특정 클리닉에서 받은 IVF 및 DI 시술 횟수"
   ]
  },
  {
   "cell_type": "code",
   "execution_count": 77,
   "metadata": {},
   "outputs": [
    {
     "name": "stdout",
     "output_type": "stream",
     "text": [
      "\n",
      "클리닉_내_총_시술_횟수별 임신_성공_여부 비율 및 갯수\n",
      "\n",
      "                 0         1      0     1  Total\n",
      "variable                                        \n",
      "0회        0.707620  0.292380  12072  4988  17060\n",
      "1회        0.755777  0.244223   6508  2103   8611\n",
      "2회        0.769028  0.230972   3799  1141   4940\n",
      "3회        0.789575  0.210425   2045   545   2590\n",
      "4회        0.764664  0.235336   1069   329   1398\n",
      "5회        0.814655  0.185345    567   129    696\n",
      "6회 이상     0.815279  0.184721    715   162    877\n"
     ]
    }
   ],
   "source": [
    "value_counts_ratio(train, '클리닉_내_총_시술_횟수')"
   ]
  },
  {
   "cell_type": "code",
   "execution_count": 78,
   "metadata": {},
   "outputs": [
    {
     "name": "stdout",
     "output_type": "stream",
     "text": [
      "\n",
      "클리닉_내_총_시술_횟수별 임신_성공_여부 비율 및 갯수\n",
      "\n",
      "                 0         1      0     1  Total\n",
      "variable                                        \n",
      "0         0.707620  0.292380  12072  4988  17060\n",
      "1         0.755777  0.244223   6508  2103   8611\n",
      "2         0.769028  0.230972   3799  1141   4940\n",
      "3         0.789575  0.210425   2045   545   2590\n",
      "4         0.764664  0.235336   1069   329   1398\n",
      "5         0.814655  0.185345    567   129    696\n",
      "6         0.815279  0.184721    715   162    877\n"
     ]
    }
   ],
   "source": [
    "# 숫자 매핑\n",
    "mapping = {\n",
    "    '0회': 0,\n",
    "    '1회': 1,\n",
    "    '2회': 2,\n",
    "    '3회': 3,\n",
    "    '4회': 4,\n",
    "    '5회': 5,\n",
    "    '6회 이상': 6\n",
    "}\n",
    "\n",
    "# 숫자로 변환\n",
    "train['클리닉_내_총_시술_횟수'] = train['클리닉_내_총_시술_횟수'].map(mapping)\n",
    "test['클리닉_내_총_시술_횟수'] = test['클리닉_내_총_시술_횟수'].map(mapping)\n",
    "\n",
    "value_counts_ratio(train, '클리닉_내_총_시술_횟수')"
   ]
  },
  {
   "cell_type": "markdown",
   "metadata": {},
   "source": [
    "### 31. IVF_시술_횟수"
   ]
  },
  {
   "cell_type": "markdown",
   "metadata": {},
   "source": [
    "이전에 수행된 IVF 시술 횟수"
   ]
  },
  {
   "cell_type": "code",
   "execution_count": 79,
   "metadata": {},
   "outputs": [
    {
     "name": "stdout",
     "output_type": "stream",
     "text": [
      "\n",
      "IVF_시술_횟수별 임신_성공_여부 비율 및 갯수\n",
      "\n",
      "                 0         1     0     1  Total\n",
      "variable                                       \n",
      "0회        0.706022  0.293978  9837  4096  13933\n",
      "1회        0.747868  0.252132  6315  2129   8444\n",
      "2회        0.753655  0.246345  4433  1449   5882\n",
      "3회        0.778545  0.221455  2707   770   3477\n",
      "4회        0.770531  0.229469  1595   475   2070\n",
      "5회        0.790698  0.209302   816   216   1032\n",
      "6회 이상     0.803598  0.196402  1072   262   1334\n"
     ]
    }
   ],
   "source": [
    "value_counts_ratio(train, 'IVF_시술_횟수')"
   ]
  },
  {
   "cell_type": "code",
   "execution_count": 80,
   "metadata": {},
   "outputs": [
    {
     "name": "stdout",
     "output_type": "stream",
     "text": [
      "\n",
      "IVF_시술_횟수별 임신_성공_여부 비율 및 갯수\n",
      "\n",
      "                 0         1     0     1  Total\n",
      "variable                                       \n",
      "0         0.706022  0.293978  9837  4096  13933\n",
      "1         0.747868  0.252132  6315  2129   8444\n",
      "2         0.753655  0.246345  4433  1449   5882\n",
      "3         0.778545  0.221455  2707   770   3477\n",
      "4         0.770531  0.229469  1595   475   2070\n",
      "5         0.790698  0.209302   816   216   1032\n",
      "6         0.803598  0.196402  1072   262   1334\n"
     ]
    }
   ],
   "source": [
    "# 숫자 매핑\n",
    "mapping = {\n",
    "    '0회': 0,\n",
    "    '1회': 1,\n",
    "    '2회': 2,\n",
    "    '3회': 3,\n",
    "    '4회': 4,\n",
    "    '5회': 5,\n",
    "    '6회 이상': 6\n",
    "}\n",
    "\n",
    "# 숫자로 변환\n",
    "train['IVF_시술_횟수'] = train['IVF_시술_횟수'].map(mapping)\n",
    "test['IVF_시술_횟수'] = test['IVF_시술_횟수'].map(mapping)\n",
    "\n",
    "value_counts_ratio(train, 'IVF_시술_횟수')"
   ]
  },
  {
   "cell_type": "markdown",
   "metadata": {},
   "source": [
    "### 32. DI_시술_횟수"
   ]
  },
  {
   "cell_type": "markdown",
   "metadata": {},
   "source": [
    "이전에 수행된 DI 시술 횟수"
   ]
  },
  {
   "cell_type": "code",
   "execution_count": 81,
   "metadata": {},
   "outputs": [
    {
     "name": "stdout",
     "output_type": "stream",
     "text": [
      "\n",
      "DI_시술_횟수별 임신_성공_여부 비율 및 갯수\n",
      "\n",
      "                 0         1      0     1  Total\n",
      "variable                                        \n",
      "0회        0.737089  0.262911  25176  8980  34156\n",
      "1회        0.823400  0.176600    373    80    453\n",
      "2회        0.785563  0.214437    370   101    471\n",
      "3회        0.774038  0.225962    322    94    416\n",
      "4회        0.766667  0.233333    184    56    240\n",
      "5회        0.816092  0.183908    142    32    174\n",
      "6회 이상     0.793893  0.206107    208    54    262\n"
     ]
    }
   ],
   "source": [
    "value_counts_ratio(train, 'DI_시술_횟수')"
   ]
  },
  {
   "cell_type": "code",
   "execution_count": 82,
   "metadata": {},
   "outputs": [
    {
     "name": "stdout",
     "output_type": "stream",
     "text": [
      "\n",
      "DI_시술_횟수별 임신_성공_여부 비율 및 갯수\n",
      "\n",
      "                 0         1      0     1  Total\n",
      "variable                                        \n",
      "0         0.737089  0.262911  25176  8980  34156\n",
      "1         0.823400  0.176600    373    80    453\n",
      "2         0.785563  0.214437    370   101    471\n",
      "3         0.774038  0.225962    322    94    416\n",
      "4         0.766667  0.233333    184    56    240\n",
      "5         0.816092  0.183908    142    32    174\n",
      "6         0.793893  0.206107    208    54    262\n"
     ]
    }
   ],
   "source": [
    "# 숫자 매핑\n",
    "mapping = {\n",
    "    '0회': 0,\n",
    "    '1회': 1,\n",
    "    '2회': 2,\n",
    "    '3회': 3,\n",
    "    '4회': 4,\n",
    "    '5회': 5,\n",
    "    '6회 이상': 6\n",
    "}\n",
    "\n",
    "# 숫자로 변환\n",
    "train['DI_시술_횟수'] = train['DI_시술_횟수'].map(mapping)\n",
    "test['DI_시술_횟수'] = test['DI_시술_횟수'].map(mapping)\n",
    "\n",
    "value_counts_ratio(train, 'DI_시술_횟수')"
   ]
  },
  {
   "cell_type": "markdown",
   "metadata": {},
   "source": [
    "### 33. 총_임신_횟수"
   ]
  },
  {
   "cell_type": "markdown",
   "metadata": {},
   "source": [
    "IVF 및 DI 포함한 총 임신 횟수"
   ]
  },
  {
   "cell_type": "code",
   "execution_count": 83,
   "metadata": {},
   "outputs": [
    {
     "name": "stdout",
     "output_type": "stream",
     "text": [
      "\n",
      "총_임신_횟수별 임신_성공_여부 비율 및 갯수\n",
      "\n",
      "                 0         1        0       1  Total\n",
      "variable                                            \n",
      "0회        0.738023  0.261977  21151.0  7508.0  28659\n",
      "1회        0.745882  0.254118   4890.0  1666.0   6556\n",
      "2회        0.769499  0.230501    661.0   198.0    859\n",
      "3회        0.736264  0.263736     67.0    24.0     91\n",
      "4회        0.833333  0.166667      5.0     1.0      6\n",
      "6회 이상     1.000000  0.000000      1.0     0.0      1\n"
     ]
    }
   ],
   "source": [
    "value_counts_ratio(train, '총_임신_횟수')"
   ]
  },
  {
   "cell_type": "code",
   "execution_count": 84,
   "metadata": {},
   "outputs": [
    {
     "name": "stdout",
     "output_type": "stream",
     "text": [
      "\n",
      "총_임신_횟수별 임신_성공_여부 비율 및 갯수\n",
      "\n",
      "                 0         1        0       1  Total\n",
      "variable                                            \n",
      "0         0.738023  0.261977  21151.0  7508.0  28659\n",
      "1         0.745882  0.254118   4890.0  1666.0   6556\n",
      "2         0.769499  0.230501    661.0   198.0    859\n",
      "3         0.736264  0.263736     67.0    24.0     91\n",
      "4         0.833333  0.166667      5.0     1.0      6\n",
      "6         1.000000  0.000000      1.0     0.0      1\n"
     ]
    }
   ],
   "source": [
    "# 숫자 매핑\n",
    "mapping = {\n",
    "    '0회': 0,\n",
    "    '1회': 1,\n",
    "    '2회': 2,\n",
    "    '3회': 3,\n",
    "    '4회': 4,\n",
    "    '5회': 5,\n",
    "    '6회 이상': 6\n",
    "}\n",
    "\n",
    "# 숫자로 변환\n",
    "train['총_임신_횟수'] = train['총_임신_횟수'].map(mapping)\n",
    "test['총_임신_횟수'] = test['총_임신_횟수'].map(mapping)\n",
    "\n",
    "value_counts_ratio(train, '총_임신_횟수')"
   ]
  },
  {
   "cell_type": "markdown",
   "metadata": {},
   "source": [
    "### 34. IVF_임신_횟수"
   ]
  },
  {
   "cell_type": "markdown",
   "metadata": {},
   "source": [
    "IVF 시술로 인한 임신 횟수"
   ]
  },
  {
   "cell_type": "code",
   "execution_count": 85,
   "metadata": {},
   "outputs": [
    {
     "name": "stdout",
     "output_type": "stream",
     "text": [
      "\n",
      "IVF_임신_횟수별 임신_성공_여부 비율 및 갯수\n",
      "\n",
      "                 0         1      0     1  Total\n",
      "variable                                        \n",
      "0회        0.739247  0.260753  21501  7584  29085\n",
      "1회        0.740890  0.259110   4595  1607   6202\n",
      "2회        0.769712  0.230288    615   184    799\n",
      "3회        0.740741  0.259259     60    21     81\n",
      "4회        0.800000  0.200000      4     1      5\n"
     ]
    }
   ],
   "source": [
    "value_counts_ratio(train, 'IVF_임신_횟수')"
   ]
  },
  {
   "cell_type": "code",
   "execution_count": 86,
   "metadata": {},
   "outputs": [
    {
     "name": "stdout",
     "output_type": "stream",
     "text": [
      "\n",
      "IVF_임신_횟수별 임신_성공_여부 비율 및 갯수\n",
      "\n",
      "                 0         1      0     1  Total\n",
      "variable                                        \n",
      "0         0.739247  0.260753  21501  7584  29085\n",
      "1         0.740890  0.259110   4595  1607   6202\n",
      "2         0.769712  0.230288    615   184    799\n",
      "3         0.740741  0.259259     60    21     81\n",
      "4         0.800000  0.200000      4     1      5\n"
     ]
    }
   ],
   "source": [
    "# 숫자 매핑\n",
    "mapping = {\n",
    "    '0회': 0,\n",
    "    '1회': 1,\n",
    "    '2회': 2,\n",
    "    '3회': 3,\n",
    "    '4회': 4,\n",
    "    '5회': 5,\n",
    "    '6회 이상': 6\n",
    "}\n",
    "\n",
    "# 숫자로 변환\n",
    "train['IVF_임신_횟수'] = train['IVF_임신_횟수'].map(mapping)\n",
    "test['IVF_임신_횟수'] = test['IVF_임신_횟수'].map(mapping)\n",
    "\n",
    "value_counts_ratio(train, 'IVF_임신_횟수')"
   ]
  },
  {
   "cell_type": "markdown",
   "metadata": {},
   "source": [
    "### 35. DI_임신_횟수"
   ]
  },
  {
   "cell_type": "markdown",
   "metadata": {},
   "source": [
    "DI 시술로 인한 임신 횟수"
   ]
  },
  {
   "cell_type": "code",
   "execution_count": 87,
   "metadata": {},
   "outputs": [
    {
     "name": "stdout",
     "output_type": "stream",
     "text": [
      "\n",
      "DI_임신_횟수별 임신_성공_여부 비율 및 갯수\n",
      "\n",
      "                 0         1        0       1  Total\n",
      "variable                                            \n",
      "0회        0.739270  0.260730  26406.0  9313.0  35719\n",
      "1회        0.818408  0.181592    329.0    73.0    402\n",
      "2회        0.772727  0.227273     34.0    10.0     44\n",
      "3회        0.800000  0.200000      4.0     1.0      5\n",
      "4회        1.000000  0.000000      1.0     0.0      1\n",
      "5회        1.000000  0.000000      1.0     0.0      1\n"
     ]
    }
   ],
   "source": [
    "value_counts_ratio(train, 'DI_임신_횟수')"
   ]
  },
  {
   "cell_type": "code",
   "execution_count": 88,
   "metadata": {},
   "outputs": [
    {
     "name": "stdout",
     "output_type": "stream",
     "text": [
      "\n",
      "DI_임신_횟수별 임신_성공_여부 비율 및 갯수\n",
      "\n",
      "                 0         1        0       1  Total\n",
      "variable                                            \n",
      "0         0.739270  0.260730  26406.0  9313.0  35719\n",
      "1         0.818408  0.181592    329.0    73.0    402\n",
      "2         0.772727  0.227273     34.0    10.0     44\n",
      "3         0.800000  0.200000      4.0     1.0      5\n",
      "4         1.000000  0.000000      1.0     0.0      1\n",
      "5         1.000000  0.000000      1.0     0.0      1\n"
     ]
    }
   ],
   "source": [
    "# 숫자 매핑\n",
    "mapping = {\n",
    "    '0회': 0,\n",
    "    '1회': 1,\n",
    "    '2회': 2,\n",
    "    '3회': 3,\n",
    "    '4회': 4,\n",
    "    '5회': 5\n",
    "}\n",
    "\n",
    "# 숫자로 변환\n",
    "train['DI_임신_횟수'] = train['DI_임신_횟수'].map(mapping)\n",
    "test['DI_임신_횟수'] = test['DI_임신_횟수'].map(mapping)\n",
    "\n",
    "value_counts_ratio(train, 'DI_임신_횟수')"
   ]
  },
  {
   "cell_type": "markdown",
   "metadata": {},
   "source": [
    "### 36. 총_출산_횟수"
   ]
  },
  {
   "cell_type": "markdown",
   "metadata": {},
   "source": [
    "IVF 및 DI 시술로 출산한 횟수"
   ]
  },
  {
   "cell_type": "code",
   "execution_count": 89,
   "metadata": {},
   "outputs": [
    {
     "name": "stdout",
     "output_type": "stream",
     "text": [
      "\n",
      "총_출산_횟수별 임신_성공_여부 비율 및 갯수\n",
      "\n",
      "                 0         1        0       1  Total\n",
      "variable                                            \n",
      "0회        0.739980  0.260020  22673.0  7967.0  30640\n",
      "1회        0.739718  0.260282   3885.0  1367.0   5252\n",
      "2회        0.771863  0.228137    203.0    60.0    263\n",
      "3회        0.857143  0.142857     12.0     2.0     14\n",
      "4회        0.500000  0.500000      1.0     1.0      2\n",
      "6회 이상     1.000000  0.000000      1.0     0.0      1\n"
     ]
    }
   ],
   "source": [
    "value_counts_ratio(train, '총_출산_횟수')"
   ]
  },
  {
   "cell_type": "code",
   "execution_count": 90,
   "metadata": {},
   "outputs": [
    {
     "name": "stdout",
     "output_type": "stream",
     "text": [
      "\n",
      "총_출산_횟수별 임신_성공_여부 비율 및 갯수\n",
      "\n",
      "                 0         1        0       1  Total\n",
      "variable                                            \n",
      "0         0.739980  0.260020  22673.0  7967.0  30640\n",
      "1         0.739718  0.260282   3885.0  1367.0   5252\n",
      "2         0.771863  0.228137    203.0    60.0    263\n",
      "3         0.857143  0.142857     12.0     2.0     14\n",
      "4         0.500000  0.500000      1.0     1.0      2\n",
      "6         1.000000  0.000000      1.0     0.0      1\n"
     ]
    }
   ],
   "source": [
    "# 숫자 매핑\n",
    "mapping = {\n",
    "    '0회': 0,\n",
    "    '1회': 1,\n",
    "    '2회': 2,\n",
    "    '3회': 3,\n",
    "    '4회': 4,\n",
    "    '5회': 5,\n",
    "    '6회 이상': 6\n",
    "}\n",
    "\n",
    "# 숫자로 변환\n",
    "train['총_출산_횟수'] = train['총_출산_횟수'].map(mapping)\n",
    "test['총_출산_횟수'] = test['총_출산_횟수'].map(mapping)\n",
    "\n",
    "value_counts_ratio(train, '총_출산_횟수')"
   ]
  },
  {
   "cell_type": "markdown",
   "metadata": {},
   "source": [
    "### 37. IVF_출산_횟수"
   ]
  },
  {
   "cell_type": "markdown",
   "metadata": {},
   "source": [
    "IVF 시술로 출산한 횟수"
   ]
  },
  {
   "cell_type": "code",
   "execution_count": 91,
   "metadata": {},
   "outputs": [
    {
     "name": "stdout",
     "output_type": "stream",
     "text": [
      "\n",
      "IVF_출산_횟수별 임신_성공_여부 비율 및 갯수\n",
      "\n",
      "                 0         1      0     1  Total\n",
      "variable                                        \n",
      "0회        0.740667  0.259333  22934  8030  30964\n",
      "1회        0.735644  0.264356   3651  1312   4963\n",
      "2회        0.775862  0.224138    180    52    232\n",
      "3회        0.818182  0.181818      9     2     11\n",
      "4회        0.500000  0.500000      1     1      2\n"
     ]
    }
   ],
   "source": [
    "value_counts_ratio(train, 'IVF_출산_횟수')"
   ]
  },
  {
   "cell_type": "code",
   "execution_count": 92,
   "metadata": {},
   "outputs": [
    {
     "name": "stdout",
     "output_type": "stream",
     "text": [
      "\n",
      "IVF_출산_횟수별 임신_성공_여부 비율 및 갯수\n",
      "\n",
      "                 0         1      0     1  Total\n",
      "variable                                        \n",
      "0         0.740667  0.259333  22934  8030  30964\n",
      "1         0.735644  0.264356   3651  1312   4963\n",
      "2         0.775862  0.224138    180    52    232\n",
      "3         0.818182  0.181818      9     2     11\n",
      "4         0.500000  0.500000      1     1      2\n"
     ]
    }
   ],
   "source": [
    "# 숫자 매핑\n",
    "mapping = {\n",
    "    '0회': 0,\n",
    "    '1회': 1,\n",
    "    '2회': 2,\n",
    "    '3회': 3,\n",
    "    '4회': 4,\n",
    "    '5회': 5\n",
    "}\n",
    "\n",
    "# 숫자로 변환\n",
    "train['IVF_출산_횟수'] = train['IVF_출산_횟수'].map(mapping)\n",
    "test['IVF_출산_횟수'] = test['IVF_출산_횟수'].map(mapping)\n",
    "\n",
    "value_counts_ratio(train, 'IVF_출산_횟수')"
   ]
  },
  {
   "cell_type": "code",
   "execution_count": 93,
   "metadata": {},
   "outputs": [
    {
     "data": {
      "text/plain": [
       "0    10670\n",
       "1     1808\n",
       "2       76\n",
       "3        6\n",
       "Name: IVF_출산_횟수, dtype: int64"
      ]
     },
     "execution_count": 93,
     "metadata": {},
     "output_type": "execute_result"
    }
   ],
   "source": [
    "test['IVF_출산_횟수'].value_counts()"
   ]
  },
  {
   "cell_type": "markdown",
   "metadata": {},
   "source": [
    "### 38. DI_출산_횟수"
   ]
  },
  {
   "cell_type": "markdown",
   "metadata": {},
   "source": [
    "DI 시술로 출산한 횟수"
   ]
  },
  {
   "cell_type": "code",
   "execution_count": 94,
   "metadata": {},
   "outputs": [
    {
     "name": "stdout",
     "output_type": "stream",
     "text": [
      "\n",
      "DI_출산_횟수별 임신_성공_여부 비율 및 갯수\n",
      "\n",
      "                 0         1        0       1  Total\n",
      "variable                                            \n",
      "0회        0.739599  0.260401  26505.0  9332.0  35837\n",
      "1회        0.808442  0.191558    249.0    59.0    308\n",
      "2회        0.760000  0.240000     19.0     6.0     25\n",
      "3회        1.000000  0.000000      1.0     0.0      1\n",
      "5회        1.000000  0.000000      1.0     0.0      1\n"
     ]
    }
   ],
   "source": [
    "value_counts_ratio(train, 'DI_출산_횟수')"
   ]
  },
  {
   "cell_type": "code",
   "execution_count": 95,
   "metadata": {},
   "outputs": [
    {
     "name": "stdout",
     "output_type": "stream",
     "text": [
      "\n",
      "DI_출산_횟수별 임신_성공_여부 비율 및 갯수\n",
      "\n",
      "                 0         1        0       1  Total\n",
      "variable                                            \n",
      "0         0.739599  0.260401  26505.0  9332.0  35837\n",
      "1         0.808442  0.191558    249.0    59.0    308\n",
      "2         0.760000  0.240000     19.0     6.0     25\n",
      "3         1.000000  0.000000      1.0     0.0      1\n",
      "5         1.000000  0.000000      1.0     0.0      1\n"
     ]
    }
   ],
   "source": [
    "# 숫자 매핑\n",
    "mapping = {\n",
    "    '0회': 0,\n",
    "    '1회': 1,\n",
    "    '2회': 2,\n",
    "    '3회': 3,\n",
    "    '4회': 4,\n",
    "    '5회': 5\n",
    "}\n",
    "\n",
    "# 숫자로 변환\n",
    "train['DI_출산_횟수'] = train['DI_출산_횟수'].map(mapping)\n",
    "test['DI_출산_횟수'] = test['DI_출산_횟수'].map(mapping)\n",
    "\n",
    "value_counts_ratio(train, 'DI_출산_횟수')"
   ]
  },
  {
   "cell_type": "code",
   "execution_count": 96,
   "metadata": {},
   "outputs": [
    {
     "data": {
      "text/plain": [
       "0    12446\n",
       "1      109\n",
       "2        5\n",
       "Name: DI_출산_횟수, dtype: int64"
      ]
     },
     "execution_count": 96,
     "metadata": {},
     "output_type": "execute_result"
    }
   ],
   "source": [
    "test['DI_출산_횟수'].value_counts()"
   ]
  },
  {
   "cell_type": "code",
   "execution_count": 97,
   "metadata": {},
   "outputs": [],
   "source": [
    "# # 모든 행과 열을 다 보이게 설정\n",
    "# pd.set_option('display.max_rows', None)\n",
    "# pd.set_option('display.max_columns', None)"
   ]
  },
  {
   "cell_type": "code",
   "execution_count": 98,
   "metadata": {},
   "outputs": [],
   "source": [
    "# summarize_group(train, ['IVF_시술_횟수', 'IVF_임신_횟수', 'IVF_출산_횟수'])"
   ]
  },
  {
   "cell_type": "code",
   "execution_count": 99,
   "metadata": {},
   "outputs": [],
   "source": [
    "# 주요 비율 계산 (train 데이터프레임)\n",
    "train['IVF_임신_시술_비율'] = np.where(train['IVF_시술_횟수'] > 0, train['IVF_임신_횟수'] / train['IVF_시술_횟수'], 0)\n",
    "train['IVF_출산_임신_비율'] = np.where(train['IVF_임신_횟수'] > 0, train['IVF_출산_횟수'] / train['IVF_임신_횟수'], 0)\n",
    "\n",
    "train['DI_임신_시술_비율'] = np.where(train['DI_시술_횟수'] > 0, train['DI_임신_횟수'] / train['DI_시술_횟수'], 0)\n",
    "train['DI_출산_임신_비율'] = np.where(train['DI_임신_횟수'] > 0, train['DI_출산_횟수'] / train['DI_임신_횟수'], 0)\n",
    "\n",
    "# 성공률 계산\n",
    "train['임신_성공률'] = np.where(train['총_시술_횟수'] > 0, train['총_임신_횟수'] / train['총_시술_횟수'], 0)\n",
    "train['출산_성공률'] = np.where(train['총_임신_횟수'] > 0, train['총_출산_횟수'] / train['총_임신_횟수'], 0)\n",
    "\n",
    "# 주요 비율 계산 (test 데이터프레임)\n",
    "test['IVF_임신_시술_비율'] = np.where(test['IVF_시술_횟수'] > 0, test['IVF_임신_횟수'] / test['IVF_시술_횟수'], 0)\n",
    "test['IVF_출산_임신_비율'] = np.where(test['IVF_임신_횟수'] > 0, test['IVF_출산_횟수'] / test['IVF_임신_횟수'], 0)\n",
    "\n",
    "test['DI_임신_시술_비율'] = np.where(test['DI_시술_횟수'] > 0, test['DI_임신_횟수'] / test['DI_시술_횟수'], 0)\n",
    "test['DI_출산_임신_비율'] = np.where(test['DI_임신_횟수'] > 0, test['DI_출산_횟수'] / test['DI_임신_횟수'], 0)\n",
    "\n",
    "# 성공률 계산\n",
    "test['임신_성공률'] = np.where(test['총_시술_횟수'] > 0, test['총_임신_횟수'] / test['총_시술_횟수'], 0)\n",
    "test['출산_성공률'] = np.where(test['총_임신_횟수'] > 0, test['총_출산_횟수'] / test['총_임신_횟수'], 0)"
   ]
  },
  {
   "cell_type": "markdown",
   "metadata": {},
   "source": [
    "### 39. 총_생성_배아_수"
   ]
  },
  {
   "cell_type": "markdown",
   "metadata": {},
   "source": [
    "해당 시술에서 생성된 배아의 총 개수"
   ]
  },
  {
   "cell_type": "code",
   "execution_count": 100,
   "metadata": {},
   "outputs": [
    {
     "name": "stdout",
     "output_type": "stream",
     "text": [
      "\n",
      "총_생성_배아_수별 임신_성공_여부 비율 및 갯수\n",
      "\n",
      "                 0         1       0       1  Total\n",
      "variable                                           \n",
      "0.0       0.848169  0.151831  6022.0  1078.0   7100\n",
      "1.0       0.901505  0.098495  1977.0   216.0   2193\n",
      "2.0       0.814061  0.185939  2281.0   521.0   2802\n",
      "3.0       0.748562  0.251438  2343.0   787.0   3130\n",
      "4.0       0.727856  0.272144  2268.0   848.0   3116\n",
      "5.0       0.690102  0.309898  2022.0   908.0   2930\n",
      "6.0       0.677587  0.322413  1820.0   866.0   2686\n",
      "7.0       0.648366  0.351634  1488.0   807.0   2295\n",
      "8.0       0.650368  0.349632  1237.0   665.0   1902\n",
      "9.0       0.647536  0.352464  1038.0   565.0   1603\n",
      "10.0      0.614238  0.385762   742.0   466.0   1208\n",
      "11.0      0.628067  0.371933   640.0   379.0   1019\n",
      "12.0      0.648582  0.351418   526.0   285.0    811\n",
      "13.0      0.617450  0.382550   368.0   228.0    596\n",
      "14.0      0.651452  0.348548   314.0   168.0    482\n",
      "15.0      0.588556  0.411444   216.0   151.0    367\n",
      "16.0      0.611111  0.388889   143.0    91.0    234\n",
      "17.0      0.631902  0.368098   103.0    60.0    163\n",
      "18.0      0.657143  0.342857    92.0    48.0    140\n",
      "19.0      0.544643  0.455357    61.0    51.0    112\n",
      "20.0      0.625000  0.375000    45.0    27.0     72\n",
      "21.0      0.705882  0.294118    48.0    20.0     68\n",
      "22.0      0.761905  0.238095    32.0    10.0     42\n",
      "23.0      0.687500  0.312500    22.0    10.0     32\n",
      "24.0      0.730769  0.269231    19.0     7.0     26\n",
      "25.0      0.619048  0.380952    13.0     8.0     21\n",
      "26.0      0.769231  0.230769    10.0     3.0     13\n",
      "27.0      0.857143  0.142857     6.0     1.0      7\n",
      "28.0      1.000000  0.000000     5.0     0.0      5\n",
      "29.0      0.666667  0.333333     2.0     1.0      3\n",
      "30.0      0.500000  0.500000     1.0     1.0      2\n",
      "31.0      1.000000  0.000000     1.0     0.0      1\n",
      "32.0      1.000000  0.000000     3.0     0.0      3\n",
      "33.0      1.000000  0.000000     4.0     0.0      4\n",
      "34.0      0.500000  0.500000     1.0     1.0      2\n",
      "35.0      1.000000  0.000000     1.0     0.0      1\n",
      "44.0      1.000000  0.000000     1.0     0.0      1\n",
      "51.0      1.000000  0.000000     1.0     0.0      1\n"
     ]
    }
   ],
   "source": [
    "value_counts_ratio(train, '총_생성_배아_수')"
   ]
  },
  {
   "cell_type": "markdown",
   "metadata": {},
   "source": [
    "### 40. 미세주입된_난자_수"
   ]
  },
  {
   "cell_type": "markdown",
   "metadata": {},
   "source": [
    "정자 미세주입(ICSI)으로 처리된 난자의 수"
   ]
  },
  {
   "cell_type": "code",
   "execution_count": 101,
   "metadata": {},
   "outputs": [
    {
     "name": "stdout",
     "output_type": "stream",
     "text": [
      "\n",
      "미세주입된_난자_수별 임신_성공_여부 비율 및 갯수\n",
      "\n",
      "                 0         1        0       1  Total\n",
      "variable                                            \n",
      "0.0       0.749602  0.250398  13199.0  4409.0  17608\n",
      "1.0       0.928333  0.071667    557.0    43.0    600\n",
      "2.0       0.903114  0.096886    783.0    84.0    867\n",
      "3.0       0.823129  0.176871    968.0   208.0   1176\n",
      "4.0       0.782178  0.217822   1106.0   308.0   1414\n",
      "5.0       0.740268  0.259732   1103.0   387.0   1490\n",
      "6.0       0.738665  0.261335   1173.0   415.0   1588\n",
      "7.0       0.711929  0.288071   1122.0   454.0   1576\n",
      "8.0       0.716927  0.283073   1008.0   398.0   1406\n",
      "9.0       0.661995  0.338005    803.0   410.0   1213\n",
      "10.0      0.671616  0.328384    769.0   376.0   1145\n",
      "11.0      0.648128  0.351872    606.0   329.0    935\n",
      "12.0      0.669065  0.330935    558.0   276.0    834\n",
      "13.0      0.622781  0.377219    421.0   255.0    676\n",
      "14.0      0.615955  0.384045    332.0   207.0    539\n",
      "15.0      0.643777  0.356223    300.0   166.0    466\n",
      "16.0      0.649077  0.350923    246.0   133.0    379\n",
      "17.0      0.630037  0.369963    172.0   101.0    273\n",
      "18.0      0.661157  0.338843    160.0    82.0    242\n",
      "19.0      0.655844  0.344156    101.0    53.0    154\n",
      "20.0      0.597015  0.402985     80.0    54.0    134\n",
      "21.0      0.679612  0.320388     70.0    33.0    103\n",
      "22.0      0.721649  0.278351     70.0    27.0     97\n",
      "23.0      0.640625  0.359375     41.0    23.0     64\n",
      "24.0      0.730769  0.269231     38.0    14.0     52\n",
      "25.0      0.882353  0.117647     30.0     4.0     34\n",
      "26.0      0.638889  0.361111     23.0    13.0     36\n",
      "27.0      0.800000  0.200000     20.0     5.0     25\n",
      "28.0      0.882353  0.117647     15.0     2.0     17\n",
      "29.0      0.750000  0.250000      9.0     3.0     12\n",
      "30.0      0.625000  0.375000      5.0     3.0      8\n",
      "31.0      1.000000  0.000000      3.0     0.0      3\n",
      "32.0      1.000000  0.000000      4.0     0.0      4\n",
      "33.0      0.800000  0.200000      4.0     1.0      5\n",
      "34.0      1.000000  0.000000      2.0     0.0      2\n",
      "35.0      1.000000  0.000000      4.0     0.0      4\n",
      "36.0      1.000000  0.000000      1.0     0.0      1\n",
      "37.0      0.800000  0.200000      4.0     1.0      5\n",
      "40.0      1.000000  0.000000      1.0     0.0      1\n",
      "41.0      1.000000  0.000000      1.0     0.0      1\n",
      "46.0      1.000000  0.000000      2.0     0.0      2\n",
      "51.0      1.000000  0.000000      2.0     0.0      2\n"
     ]
    }
   ],
   "source": [
    "value_counts_ratio(train, '미세주입된_난자_수')"
   ]
  },
  {
   "cell_type": "markdown",
   "metadata": {},
   "source": [
    "### 41. 미세주입에서_생성된_배아_수"
   ]
  },
  {
   "cell_type": "markdown",
   "metadata": {},
   "source": [
    "ICSI를 통해 생성된 배아의 수"
   ]
  },
  {
   "cell_type": "code",
   "execution_count": 102,
   "metadata": {},
   "outputs": [
    {
     "name": "stdout",
     "output_type": "stream",
     "text": [
      "\n",
      "미세주입에서_생성된_배아_수별 임신_성공_여부 비율 및 갯수\n",
      "\n",
      "                 0         1        0       1  Total\n",
      "variable                                            \n",
      "0.0       0.757932  0.242068  13808.0  4410.0  18218\n",
      "1.0       0.904051  0.095949   1272.0   135.0   1407\n",
      "2.0       0.812771  0.187229   1502.0   346.0   1848\n",
      "3.0       0.748799  0.251201   1559.0   523.0   2082\n",
      "4.0       0.729716  0.270284   1466.0   543.0   2009\n",
      "5.0       0.686127  0.313873   1281.0   586.0   1867\n",
      "6.0       0.678154  0.321846   1161.0   551.0   1712\n",
      "7.0       0.645606  0.354394    889.0   488.0   1377\n",
      "8.0       0.662326  0.337674    712.0   363.0   1075\n",
      "9.0       0.630872  0.369128    564.0   330.0    894\n",
      "10.0      0.593145  0.406855    398.0   273.0    671\n",
      "11.0      0.610701  0.389299    331.0   211.0    542\n",
      "12.0      0.674699  0.325301    280.0   135.0    415\n",
      "13.0      0.627240  0.372760    175.0   104.0    279\n",
      "14.0      0.665198  0.334802    151.0    76.0    227\n",
      "15.0      0.565714  0.434286     99.0    76.0    175\n",
      "16.0      0.698113  0.301887     74.0    32.0    106\n",
      "17.0      0.636364  0.363636     42.0    24.0     66\n",
      "18.0      0.716667  0.283333     43.0    17.0     60\n",
      "19.0      0.553191  0.446809     26.0    21.0     47\n",
      "20.0      0.478261  0.521739     11.0    12.0     23\n",
      "21.0      0.750000  0.250000     24.0     8.0     32\n",
      "22.0      0.666667  0.333333     12.0     6.0     18\n",
      "23.0      0.833333  0.166667     10.0     2.0     12\n",
      "24.0      0.800000  0.200000      4.0     1.0      5\n",
      "25.0      0.777778  0.222222      7.0     2.0      9\n",
      "26.0      1.000000  0.000000      3.0     0.0      3\n",
      "27.0      1.000000  0.000000      3.0     0.0      3\n",
      "28.0      1.000000  0.000000      3.0     0.0      3\n",
      "29.0      0.500000  0.500000      1.0     1.0      2\n",
      "32.0      1.000000  0.000000      1.0     0.0      1\n",
      "33.0      1.000000  0.000000      3.0     0.0      3\n",
      "34.0      0.000000  1.000000      0.0     1.0      1\n",
      "43.0      1.000000  0.000000      1.0     0.0      1\n"
     ]
    }
   ],
   "source": [
    "value_counts_ratio(train, '미세주입에서_생성된_배아_수')"
   ]
  },
  {
   "cell_type": "markdown",
   "metadata": {},
   "source": [
    "### 42. 이식된_배아_수"
   ]
  },
  {
   "cell_type": "markdown",
   "metadata": {},
   "source": [
    "이식된 배아의 총 수"
   ]
  },
  {
   "cell_type": "code",
   "execution_count": 103,
   "metadata": {},
   "outputs": [
    {
     "name": "stdout",
     "output_type": "stream",
     "text": [
      "\n",
      "이식된_배아_수별 임신_성공_여부 비율 및 갯수\n",
      "\n",
      "                 0         1      0     1  Total\n",
      "variable                                        \n",
      "0.0       0.999267  0.000733   4092     3   4095\n",
      "1.0       0.700726  0.299274   8785  3752  12537\n",
      "2.0       0.692299  0.307701  11857  5270  17127\n",
      "3.0       0.824268  0.175732   1182   252   1434\n"
     ]
    }
   ],
   "source": [
    "value_counts_ratio(train, '이식된_배아_수')"
   ]
  },
  {
   "cell_type": "markdown",
   "metadata": {},
   "source": [
    "### 43. 미세주입_배아_이식_수"
   ]
  },
  {
   "cell_type": "markdown",
   "metadata": {},
   "source": [
    "ICSI 배아 중 이식된 배아의 수"
   ]
  },
  {
   "cell_type": "code",
   "execution_count": 104,
   "metadata": {},
   "outputs": [
    {
     "name": "stdout",
     "output_type": "stream",
     "text": [
      "\n",
      "미세주입_배아_이식_수별 임신_성공_여부 비율 및 갯수\n",
      "\n",
      "                 0         1      0     1  Total\n",
      "variable                                        \n",
      "0.0       0.770272  0.229728  14287  4261  18548\n",
      "1.0       0.695023  0.304977   4469  1961   6430\n",
      "2.0       0.690016  0.309984   6462  2903   9365\n",
      "3.0       0.821176  0.178824    698   152    850\n"
     ]
    }
   ],
   "source": [
    "value_counts_ratio(train, '미세주입_배아_이식_수')"
   ]
  },
  {
   "cell_type": "markdown",
   "metadata": {},
   "source": [
    "### 44. 저장된_배아_수"
   ]
  },
  {
   "cell_type": "markdown",
   "metadata": {},
   "source": [
    "환자를 위해 저장된 배아의 수"
   ]
  },
  {
   "cell_type": "code",
   "execution_count": 105,
   "metadata": {},
   "outputs": [
    {
     "name": "stdout",
     "output_type": "stream",
     "text": [
      "\n",
      "저장된_배아_수별 임신_성공_여부 비율 및 갯수\n",
      "\n",
      "                 0         1        0       1  Total\n",
      "variable                                            \n",
      "0.0       0.778890  0.221110  19371.0  5499.0  24870\n",
      "1.0       0.630655  0.369345   1617.0   947.0   2564\n",
      "2.0       0.596935  0.403065   1558.0  1052.0   2610\n",
      "3.0       0.606822  0.393178   1014.0   657.0   1671\n",
      "4.0       0.604970  0.395030    706.0   461.0   1167\n",
      "5.0       0.635682  0.364318    424.0   243.0    667\n",
      "6.0       0.625532  0.374468    294.0   176.0    470\n",
      "7.0       0.695364  0.304636    210.0    92.0    302\n",
      "8.0       0.720930  0.279070    155.0    60.0    215\n",
      "9.0       0.782609  0.217391    108.0    30.0    138\n",
      "10.0      0.760000  0.240000     76.0    24.0    100\n",
      "11.0      0.849315  0.150685     62.0    11.0     73\n",
      "12.0      0.860759  0.139241     68.0    11.0     79\n",
      "13.0      0.903846  0.096154     47.0     5.0     52\n",
      "14.0      0.900000  0.100000     36.0     4.0     40\n",
      "15.0      0.937500  0.062500     30.0     2.0     32\n",
      "16.0      0.916667  0.083333     22.0     2.0     24\n",
      "17.0      1.000000  0.000000     24.0     0.0     24\n",
      "18.0      0.947368  0.052632     18.0     1.0     19\n",
      "19.0      1.000000  0.000000      9.0     0.0      9\n",
      "20.0      1.000000  0.000000     19.0     0.0     19\n",
      "21.0      1.000000  0.000000     13.0     0.0     13\n",
      "22.0      1.000000  0.000000      8.0     0.0      8\n",
      "23.0      1.000000  0.000000      9.0     0.0      9\n",
      "24.0      1.000000  0.000000      6.0     0.0      6\n",
      "25.0      1.000000  0.000000      5.0     0.0      5\n",
      "26.0      1.000000  0.000000      2.0     0.0      2\n",
      "27.0      1.000000  0.000000      2.0     0.0      2\n",
      "28.0      1.000000  0.000000      1.0     0.0      1\n",
      "32.0      1.000000  0.000000      1.0     0.0      1\n",
      "51.0      1.000000  0.000000      1.0     0.0      1\n"
     ]
    }
   ],
   "source": [
    "value_counts_ratio(train, '저장된_배아_수')"
   ]
  },
  {
   "cell_type": "markdown",
   "metadata": {},
   "source": [
    "### 45. 미세주입_후_저장된_배아_수"
   ]
  },
  {
   "cell_type": "markdown",
   "metadata": {},
   "source": [
    "ICSI 처리된 배아 중 저장된 배아의 수"
   ]
  },
  {
   "cell_type": "code",
   "execution_count": 106,
   "metadata": {},
   "outputs": [
    {
     "name": "stdout",
     "output_type": "stream",
     "text": [
      "\n",
      "미세주입_후_저장된_배아_수별 임신_성공_여부 비율 및 갯수\n",
      "\n",
      "                 0         1        0       1  Total\n",
      "variable                                            \n",
      "0.0       0.755669  0.244331  22327.0  7219.0  29546\n",
      "1.0       0.631142  0.368858    989.0   578.0   1567\n",
      "2.0       0.610613  0.389387    886.0   565.0   1451\n",
      "3.0       0.610043  0.389957    571.0   365.0    936\n",
      "4.0       0.587542  0.412458    349.0   245.0    594\n",
      "5.0       0.635057  0.364943    221.0   127.0    348\n",
      "6.0       0.578431  0.421569    118.0    86.0    204\n",
      "7.0       0.709924  0.290076     93.0    38.0    131\n",
      "8.0       0.743590  0.256410     87.0    30.0    117\n",
      "9.0       0.838710  0.161290     52.0    10.0     62\n",
      "10.0      0.893617  0.106383     42.0     5.0     47\n",
      "11.0      0.805556  0.194444     29.0     7.0     36\n",
      "12.0      0.948718  0.051282     37.0     2.0     39\n",
      "13.0      1.000000  0.000000     25.0     0.0     25\n",
      "14.0      1.000000  0.000000     16.0     0.0     16\n",
      "15.0      1.000000  0.000000     16.0     0.0     16\n",
      "16.0      1.000000  0.000000     12.0     0.0     12\n",
      "17.0      1.000000  0.000000      5.0     0.0      5\n",
      "18.0      1.000000  0.000000     12.0     0.0     12\n",
      "19.0      1.000000  0.000000      2.0     0.0      2\n",
      "20.0      1.000000  0.000000      5.0     0.0      5\n",
      "21.0      1.000000  0.000000      6.0     0.0      6\n",
      "22.0      1.000000  0.000000      2.0     0.0      2\n",
      "23.0      1.000000  0.000000      2.0     0.0      2\n",
      "24.0      1.000000  0.000000      3.0     0.0      3\n",
      "25.0      1.000000  0.000000      4.0     0.0      4\n",
      "27.0      1.000000  0.000000      2.0     0.0      2\n",
      "28.0      1.000000  0.000000      1.0     0.0      1\n",
      "32.0      1.000000  0.000000      1.0     0.0      1\n",
      "43.0      1.000000  0.000000      1.0     0.0      1\n"
     ]
    }
   ],
   "source": [
    "value_counts_ratio(train, '미세주입_후_저장된_배아_수')"
   ]
  },
  {
   "cell_type": "markdown",
   "metadata": {},
   "source": [
    "### 46. 해동된_배아_수"
   ]
  },
  {
   "cell_type": "markdown",
   "metadata": {},
   "source": [
    "동결 해동된 배아의 수"
   ]
  },
  {
   "cell_type": "code",
   "execution_count": 107,
   "metadata": {},
   "outputs": [
    {
     "name": "stdout",
     "output_type": "stream",
     "text": [
      "\n",
      "해동된_배아_수별 임신_성공_여부 비율 및 갯수\n",
      "\n",
      "                 0         1        0       1  Total\n",
      "variable                                            \n",
      "0.0       0.725845  0.274155  21681.0  8189.0  29870\n",
      "1.0       0.820280  0.179720   1173.0   257.0   1430\n",
      "2.0       0.783800  0.216200   1287.0   355.0   1642\n",
      "3.0       0.813785  0.186215    673.0   154.0    827\n",
      "4.0       0.806202  0.193798    416.0   100.0    516\n",
      "5.0       0.824104  0.175896    253.0    54.0    307\n",
      "6.0       0.736842  0.263158    168.0    60.0    228\n",
      "7.0       0.779817  0.220183     85.0    24.0    109\n",
      "8.0       0.673469  0.326531     66.0    32.0     98\n",
      "9.0       0.654545  0.345455     36.0    19.0     55\n",
      "10.0      0.697674  0.302326     30.0    13.0     43\n",
      "11.0      0.888889  0.111111     16.0     2.0     18\n",
      "12.0      0.666667  0.333333     12.0     6.0     18\n",
      "13.0      0.714286  0.285714      5.0     2.0      7\n",
      "14.0      0.666667  0.333333      6.0     3.0      9\n",
      "15.0      0.666667  0.333333      2.0     1.0      3\n",
      "16.0      0.750000  0.250000      3.0     1.0      4\n",
      "17.0      0.000000  1.000000      0.0     2.0      2\n",
      "18.0      1.000000  0.000000      2.0     0.0      2\n",
      "19.0      0.000000  1.000000      0.0     1.0      1\n",
      "20.0      0.500000  0.500000      1.0     1.0      2\n",
      "21.0      0.000000  1.000000      0.0     1.0      1\n",
      "22.0      1.000000  0.000000      1.0     0.0      1\n"
     ]
    }
   ],
   "source": [
    "value_counts_ratio(train, '해동된_배아_수')"
   ]
  },
  {
   "cell_type": "markdown",
   "metadata": {},
   "source": [
    "### 47. 해동_난자_수"
   ]
  },
  {
   "cell_type": "markdown",
   "metadata": {},
   "source": [
    "동결 해동된 난자의 수"
   ]
  },
  {
   "cell_type": "code",
   "execution_count": 108,
   "metadata": {},
   "outputs": [
    {
     "name": "stdout",
     "output_type": "stream",
     "text": [
      "\n",
      "해동_난자_수별 임신_성공_여부 비율 및 갯수\n",
      "\n",
      "                 0         1        0       1  Total\n",
      "variable                                            \n",
      "0.0       0.736245  0.263755  25826.0  9252.0  35078\n",
      "1.0       0.500000  0.500000      1.0     1.0      2\n",
      "2.0       0.818182  0.181818      9.0     2.0     11\n",
      "3.0       1.000000  0.000000      8.0     0.0      8\n",
      "4.0       0.769231  0.230769     10.0     3.0     13\n",
      "5.0       0.846154  0.153846     11.0     2.0     13\n",
      "6.0       1.000000  0.000000      9.0     0.0      9\n",
      "7.0       0.769231  0.230769     10.0     3.0     13\n",
      "8.0       0.750000  0.250000     12.0     4.0     16\n",
      "9.0       0.750000  0.250000      3.0     1.0      4\n",
      "10.0      0.375000  0.625000      3.0     5.0      8\n",
      "11.0      1.000000  0.000000      2.0     0.0      2\n",
      "12.0      0.750000  0.250000      3.0     1.0      4\n",
      "13.0      0.800000  0.200000      4.0     1.0      5\n",
      "14.0      0.500000  0.500000      1.0     1.0      2\n",
      "15.0      0.500000  0.500000      1.0     1.0      2\n",
      "18.0      1.000000  0.000000      1.0     0.0      1\n",
      "19.0      1.000000  0.000000      2.0     0.0      2\n"
     ]
    }
   ],
   "source": [
    "value_counts_ratio(train, '해동_난자_수')"
   ]
  },
  {
   "cell_type": "markdown",
   "metadata": {},
   "source": [
    "### 48. 수집된_신선_난자_수"
   ]
  },
  {
   "cell_type": "markdown",
   "metadata": {},
   "source": [
    "신선 난자가 수집된 수"
   ]
  },
  {
   "cell_type": "code",
   "execution_count": 109,
   "metadata": {},
   "outputs": [
    {
     "name": "stdout",
     "output_type": "stream",
     "text": [
      "\n",
      "수집된_신선_난자_수별 임신_성공_여부 비율 및 갯수\n",
      "\n",
      "                 0         1       0       1  Total\n",
      "variable                                           \n",
      "0.0       0.774085  0.225915  5544.0  1618.0   7162\n",
      "1.0       0.940276  0.059724   614.0    39.0    653\n",
      "2.0       0.901895  0.098105   809.0    88.0    897\n",
      "3.0       0.857143  0.142857   972.0   162.0   1134\n",
      "4.0       0.823279  0.176721  1160.0   249.0   1409\n",
      "5.0       0.784731  0.215269  1254.0   344.0   1598\n",
      "6.0       0.787625  0.212375  1413.0   381.0   1794\n",
      "7.0       0.745108  0.254892  1485.0   508.0   1993\n",
      "8.0       0.731515  0.268485  1395.0   512.0   1907\n",
      "9.0       0.707170  0.292830  1292.0   535.0   1827\n",
      "10.0      0.706596  0.293404  1339.0   556.0   1895\n",
      "11.0      0.685783  0.314217  1148.0   526.0   1674\n",
      "12.0      0.671385  0.328615  1091.0   534.0   1625\n",
      "13.0      0.662906  0.337094   940.0   478.0   1418\n",
      "14.0      0.676798  0.323202   913.0   436.0   1349\n",
      "15.0      0.679785  0.320215   760.0   358.0   1118\n",
      "16.0      0.654737  0.345263   622.0   328.0    950\n",
      "17.0      0.660000  0.340000   561.0   289.0    850\n",
      "18.0      0.600273  0.399727   440.0   293.0    733\n",
      "19.0      0.647913  0.352087   357.0   194.0    551\n",
      "20.0      0.639155  0.360845   333.0   188.0    521\n",
      "21.0      0.656000  0.344000   246.0   129.0    375\n",
      "22.0      0.639498  0.360502   204.0   115.0    319\n",
      "23.0      0.646429  0.353571   181.0    99.0    280\n",
      "24.0      0.682203  0.317797   161.0    75.0    236\n",
      "25.0      0.701031  0.298969   136.0    58.0    194\n",
      "26.0      0.721854  0.278146   109.0    42.0    151\n",
      "27.0      0.719626  0.280374    77.0    30.0    107\n",
      "28.0      0.714286  0.285714    60.0    24.0     84\n",
      "29.0      0.734375  0.265625    47.0    17.0     64\n",
      "30.0      0.622951  0.377049    38.0    23.0     61\n",
      "31.0      0.767442  0.232558    33.0    10.0     43\n",
      "32.0      0.673469  0.326531    33.0    16.0     49\n",
      "33.0      0.857143  0.142857    36.0     6.0     42\n",
      "34.0      0.758621  0.241379    22.0     7.0     29\n",
      "35.0      0.818182  0.181818    18.0     4.0     22\n",
      "36.0      0.923077  0.076923    12.0     1.0     13\n",
      "37.0      0.866667  0.133333    13.0     2.0     15\n",
      "38.0      0.900000  0.100000     9.0     1.0     10\n",
      "39.0      0.750000  0.250000     3.0     1.0      4\n",
      "40.0      1.000000  0.000000     4.0     0.0      4\n",
      "41.0      1.000000  0.000000     4.0     0.0      4\n",
      "42.0      0.833333  0.166667     5.0     1.0      6\n",
      "43.0      1.000000  0.000000     4.0     0.0      4\n",
      "44.0      1.000000  0.000000     4.0     0.0      4\n",
      "45.0      1.000000  0.000000     1.0     0.0      1\n",
      "46.0      1.000000  0.000000     2.0     0.0      2\n",
      "47.0      1.000000  0.000000     2.0     0.0      2\n",
      "48.0      1.000000  0.000000     1.0     0.0      1\n",
      "49.0      1.000000  0.000000     1.0     0.0      1\n",
      "50.0      1.000000  0.000000     1.0     0.0      1\n",
      "51.0      1.000000  0.000000     7.0     0.0      7\n"
     ]
    }
   ],
   "source": [
    "value_counts_ratio(train, '수집된_신선_난자_수')"
   ]
  },
  {
   "cell_type": "markdown",
   "metadata": {},
   "source": [
    "### 49. 저장된_신선_난자_수"
   ]
  },
  {
   "cell_type": "markdown",
   "metadata": {},
   "source": [
    "저장된 신선 난자의 수"
   ]
  },
  {
   "cell_type": "code",
   "execution_count": 110,
   "metadata": {},
   "outputs": [
    {
     "name": "stdout",
     "output_type": "stream",
     "text": [
      "\n",
      "저장된_신선_난자_수별 임신_성공_여부 비율 및 갯수\n",
      "\n",
      "                 0         1        0       1  Total\n",
      "variable                                            \n",
      "0.0       0.734180  0.265820  25617.0  9275.0  34892\n",
      "1.0       1.000000  0.000000     11.0     0.0     11\n",
      "2.0       1.000000  0.000000     20.0     0.0     20\n",
      "3.0       1.000000  0.000000     18.0     0.0     18\n",
      "4.0       1.000000  0.000000     28.0     0.0     28\n",
      "5.0       1.000000  0.000000     25.0     0.0     25\n",
      "6.0       1.000000  0.000000     32.0     0.0     32\n",
      "7.0       1.000000  0.000000     16.0     0.0     16\n",
      "8.0       1.000000  0.000000     24.0     0.0     24\n",
      "9.0       0.941176  0.058824     16.0     1.0     17\n",
      "10.0      1.000000  0.000000     19.0     0.0     19\n",
      "11.0      0.923077  0.076923     12.0     1.0     13\n",
      "12.0      1.000000  0.000000     18.0     0.0     18\n",
      "13.0      1.000000  0.000000      7.0     0.0      7\n",
      "14.0      1.000000  0.000000      9.0     0.0      9\n",
      "15.0      1.000000  0.000000     10.0     0.0     10\n",
      "16.0      1.000000  0.000000      6.0     0.0      6\n",
      "17.0      1.000000  0.000000      8.0     0.0      8\n",
      "18.0      1.000000  0.000000      4.0     0.0      4\n",
      "19.0      1.000000  0.000000      2.0     0.0      2\n",
      "20.0      1.000000  0.000000      2.0     0.0      2\n",
      "21.0      1.000000  0.000000      1.0     0.0      1\n",
      "22.0      1.000000  0.000000      1.0     0.0      1\n",
      "23.0      1.000000  0.000000      2.0     0.0      2\n",
      "24.0      1.000000  0.000000      1.0     0.0      1\n",
      "25.0      1.000000  0.000000      2.0     0.0      2\n",
      "26.0      1.000000  0.000000      2.0     0.0      2\n",
      "32.0      1.000000  0.000000      2.0     0.0      2\n",
      "36.0      1.000000  0.000000      1.0     0.0      1\n"
     ]
    }
   ],
   "source": [
    "value_counts_ratio(train, '저장된_신선_난자_수')"
   ]
  },
  {
   "cell_type": "markdown",
   "metadata": {},
   "source": [
    "### 50. 혼합된_난자_수"
   ]
  },
  {
   "cell_type": "markdown",
   "metadata": {},
   "source": [
    "정자와 혼합된 총 난자 수"
   ]
  },
  {
   "cell_type": "code",
   "execution_count": 111,
   "metadata": {},
   "outputs": [
    {
     "name": "stdout",
     "output_type": "stream",
     "text": [
      "\n",
      "혼합된_난자_수별 임신_성공_여부 비율 및 갯수\n",
      "\n",
      "                 0         1       0       1  Total\n",
      "variable                                           \n",
      "0.0       0.823221  0.176779  5020.0  1078.0   6098\n",
      "1.0       0.928817  0.071183   809.0    62.0    871\n",
      "2.0       0.895498  0.104502  1114.0   130.0   1244\n",
      "3.0       0.830446  0.169554  1342.0   274.0   1616\n",
      "4.0       0.789074  0.210926  1560.0   417.0   1977\n",
      "5.0       0.739328  0.260672  1628.0   574.0   2202\n",
      "6.0       0.751064  0.248936  1765.0   585.0   2350\n",
      "7.0       0.715045  0.284955  1749.0   697.0   2446\n",
      "8.0       0.709633  0.290367  1547.0   633.0   2180\n",
      "9.0       0.675553  0.324447  1343.0   645.0   1988\n",
      "10.0      0.677807  0.322193  1298.0   617.0   1915\n",
      "11.0      0.664842  0.335158  1093.0   551.0   1644\n",
      "12.0      0.671642  0.328358   990.0   484.0   1474\n",
      "13.0      0.634845  0.365155   798.0   459.0   1257\n",
      "14.0      0.641544  0.358456   698.0   390.0   1088\n",
      "15.0      0.663409  0.336591   611.0   310.0    921\n",
      "16.0      0.649800  0.350200   488.0   263.0    751\n",
      "17.0      0.631841  0.368159   381.0   222.0    603\n",
      "18.0      0.615385  0.384615   328.0   205.0    533\n",
      "19.0      0.646277  0.353723   243.0   133.0    376\n",
      "20.0      0.569182  0.430818   181.0   137.0    318\n",
      "21.0      0.653992  0.346008   172.0    91.0    263\n",
      "22.0      0.673729  0.326271   159.0    77.0    236\n",
      "23.0      0.643243  0.356757   119.0    66.0    185\n",
      "24.0      0.671233  0.328767    98.0    48.0    146\n",
      "25.0      0.771429  0.228571    81.0    24.0    105\n",
      "26.0      0.673267  0.326733    68.0    33.0    101\n",
      "27.0      0.727273  0.272727    48.0    18.0     66\n",
      "28.0      0.857143  0.142857    36.0     6.0     42\n",
      "29.0      0.681818  0.318182    30.0    14.0     44\n",
      "30.0      0.678571  0.321429    19.0     9.0     28\n",
      "31.0      0.789474  0.210526    15.0     4.0     19\n",
      "32.0      0.772727  0.227273    17.0     5.0     22\n",
      "33.0      0.789474  0.210526    15.0     4.0     19\n",
      "34.0      0.727273  0.272727     8.0     3.0     11\n",
      "35.0      0.769231  0.230769    10.0     3.0     13\n",
      "36.0      0.800000  0.200000     4.0     1.0      5\n",
      "37.0      0.769231  0.230769    10.0     3.0     13\n",
      "38.0      0.800000  0.200000     4.0     1.0      5\n",
      "39.0      0.750000  0.250000     3.0     1.0      4\n",
      "40.0      1.000000  0.000000     2.0     0.0      2\n",
      "41.0      1.000000  0.000000     1.0     0.0      1\n",
      "42.0      1.000000  0.000000     1.0     0.0      1\n",
      "43.0      1.000000  0.000000     1.0     0.0      1\n",
      "44.0      1.000000  0.000000     1.0     0.0      1\n",
      "46.0      1.000000  0.000000     3.0     0.0      3\n",
      "48.0      1.000000  0.000000     1.0     0.0      1\n",
      "49.0      1.000000  0.000000     1.0     0.0      1\n",
      "51.0      1.000000  0.000000     3.0     0.0      3\n"
     ]
    }
   ],
   "source": [
    "value_counts_ratio(train, '혼합된_난자_수')"
   ]
  },
  {
   "cell_type": "markdown",
   "metadata": {},
   "source": [
    "### 51. 파트너_정자와_혼합된_난자_수"
   ]
  },
  {
   "cell_type": "markdown",
   "metadata": {},
   "source": [
    "파트너 정자와 혼합된 난자의 수"
   ]
  },
  {
   "cell_type": "code",
   "execution_count": 112,
   "metadata": {},
   "outputs": [
    {
     "name": "stdout",
     "output_type": "stream",
     "text": [
      "\n",
      "파트너_정자와_혼합된_난자_수별 임신_성공_여부 비율 및 갯수\n",
      "\n",
      "                 0         1       0       1  Total\n",
      "variable                                           \n",
      "0.0       0.796720  0.203280  6510.0  1661.0   8171\n",
      "1.0       0.931904  0.068096   739.0    54.0    793\n",
      "2.0       0.897527  0.102473  1016.0   116.0   1132\n",
      "3.0       0.834117  0.165883  1242.0   247.0   1489\n",
      "4.0       0.792818  0.207182  1435.0   375.0   1810\n",
      "5.0       0.740375  0.259625  1500.0   526.0   2026\n",
      "6.0       0.749884  0.250116  1613.0   538.0   2151\n",
      "7.0       0.714474  0.285526  1624.0   649.0   2273\n",
      "8.0       0.709709  0.290291  1440.0   589.0   2029\n",
      "9.0       0.678476  0.321524  1264.0   599.0   1863\n",
      "10.0      0.677815  0.322185  1216.0   578.0   1794\n",
      "11.0      0.664942  0.335058  1028.0   518.0   1546\n",
      "12.0      0.670036  0.329964   928.0   457.0   1385\n",
      "13.0      0.632479  0.367521   740.0   430.0   1170\n",
      "14.0      0.642578  0.357422   658.0   366.0   1024\n",
      "15.0      0.657439  0.342561   570.0   297.0    867\n",
      "16.0      0.656250  0.343750   462.0   242.0    704\n",
      "17.0      0.636204  0.363796   362.0   207.0    569\n",
      "18.0      0.617822  0.382178   312.0   193.0    505\n",
      "19.0      0.643678  0.356322   224.0   124.0    348\n",
      "20.0      0.564626  0.435374   166.0   128.0    294\n",
      "21.0      0.650000  0.350000   156.0    84.0    240\n",
      "22.0      0.676991  0.323009   153.0    73.0    226\n",
      "23.0      0.642458  0.357542   115.0    64.0    179\n",
      "24.0      0.676259  0.323741    94.0    45.0    139\n",
      "25.0      0.795699  0.204301    74.0    19.0     93\n",
      "26.0      0.666667  0.333333    62.0    31.0     93\n",
      "27.0      0.734375  0.265625    47.0    17.0     64\n",
      "28.0      0.842105  0.157895    32.0     6.0     38\n",
      "29.0      0.700000  0.300000    28.0    12.0     40\n",
      "30.0      0.653846  0.346154    17.0     9.0     26\n",
      "31.0      0.777778  0.222222    14.0     4.0     18\n",
      "32.0      0.789474  0.210526    15.0     4.0     19\n",
      "33.0      0.733333  0.266667    11.0     4.0     15\n",
      "34.0      0.727273  0.272727     8.0     3.0     11\n",
      "35.0      0.750000  0.250000     9.0     3.0     12\n",
      "36.0      0.750000  0.250000     3.0     1.0      4\n",
      "37.0      0.833333  0.166667    10.0     2.0     12\n",
      "38.0      0.750000  0.250000     3.0     1.0      4\n",
      "39.0      0.750000  0.250000     3.0     1.0      4\n",
      "40.0      1.000000  0.000000     2.0     0.0      2\n",
      "41.0      1.000000  0.000000     1.0     0.0      1\n",
      "42.0      1.000000  0.000000     1.0     0.0      1\n",
      "43.0      1.000000  0.000000     1.0     0.0      1\n",
      "44.0      1.000000  0.000000     1.0     0.0      1\n",
      "46.0      1.000000  0.000000     3.0     0.0      3\n",
      "48.0      1.000000  0.000000     1.0     0.0      1\n",
      "51.0      1.000000  0.000000     3.0     0.0      3\n"
     ]
    }
   ],
   "source": [
    "value_counts_ratio(train, '파트너_정자와_혼합된_난자_수')"
   ]
  },
  {
   "cell_type": "markdown",
   "metadata": {},
   "source": [
    "### 52. 기증자_정자와_혼합된_난자_수"
   ]
  },
  {
   "cell_type": "markdown",
   "metadata": {},
   "source": [
    "기증자 정자와 혼합된 난자의 수"
   ]
  },
  {
   "cell_type": "code",
   "execution_count": 113,
   "metadata": {},
   "outputs": [
    {
     "name": "stdout",
     "output_type": "stream",
     "text": [
      "\n",
      "기증자_정자와_혼합된_난자_수별 임신_성공_여부 비율 및 갯수\n",
      "\n",
      "                 0         1        0       1  Total\n",
      "variable                                            \n",
      "0.0       0.737405  0.262595  24459.0  8710.0  33169\n",
      "1.0       0.898734  0.101266     71.0     8.0     79\n",
      "2.0       0.868421  0.131579     99.0    15.0    114\n",
      "3.0       0.784615  0.215385    102.0    28.0    130\n",
      "4.0       0.738095  0.261905    124.0    44.0    168\n",
      "5.0       0.719101  0.280899    128.0    50.0    178\n",
      "6.0       0.752427  0.247573    155.0    51.0    206\n",
      "7.0       0.724138  0.275862    126.0    48.0    174\n",
      "8.0       0.713333  0.286667    107.0    43.0    150\n",
      "9.0       0.619835  0.380165     75.0    46.0    121\n",
      "10.0      0.700855  0.299145     82.0    35.0    117\n",
      "11.0      0.680851  0.319149     64.0    30.0     94\n",
      "12.0      0.704545  0.295455     62.0    26.0     88\n",
      "13.0      0.666667  0.333333     54.0    27.0     81\n",
      "14.0      0.660714  0.339286     37.0    19.0     56\n",
      "15.0      0.730769  0.269231     38.0    14.0     52\n",
      "16.0      0.571429  0.428571     24.0    18.0     42\n",
      "17.0      0.575758  0.424242     19.0    14.0     33\n",
      "18.0      0.565217  0.434783     13.0    10.0     23\n",
      "19.0      0.666667  0.333333     18.0     9.0     27\n",
      "20.0      0.619048  0.380952     13.0     8.0     21\n",
      "21.0      0.700000  0.300000     14.0     6.0     20\n",
      "22.0      0.500000  0.500000      3.0     3.0      6\n",
      "23.0      0.600000  0.400000      3.0     2.0      5\n",
      "24.0      0.500000  0.500000      3.0     3.0      6\n",
      "25.0      0.500000  0.500000      4.0     4.0      8\n",
      "26.0      0.833333  0.166667      5.0     1.0      6\n",
      "27.0      0.500000  0.500000      1.0     1.0      2\n",
      "28.0      1.000000  0.000000      1.0     0.0      1\n",
      "29.0      0.500000  0.500000      2.0     2.0      4\n",
      "30.0      1.000000  0.000000      1.0     0.0      1\n",
      "31.0      1.000000  0.000000      1.0     0.0      1\n",
      "32.0      0.666667  0.333333      2.0     1.0      3\n",
      "33.0      1.000000  0.000000      2.0     0.0      2\n",
      "35.0      1.000000  0.000000      1.0     0.0      1\n",
      "36.0      1.000000  0.000000      1.0     0.0      1\n",
      "37.0      0.000000  1.000000      0.0     1.0      1\n",
      "38.0      1.000000  0.000000      1.0     0.0      1\n",
      "49.0      1.000000  0.000000      1.0     0.0      1\n"
     ]
    }
   ],
   "source": [
    "value_counts_ratio(train, '기증자_정자와_혼합된_난자_수')"
   ]
  },
  {
   "cell_type": "code",
   "execution_count": 114,
   "metadata": {},
   "outputs": [],
   "source": [
    "# 1. 임신 성공율 - 이식된 배아 대비 임신 성공 비율\n",
    "train['임신_성공율'] = np.where(train['총_생성_배아_수'] > 0, (train['이식된_배아_수'] / train['총_생성_배아_수']) * 100, 0).round(2)\n",
    "\n",
    "# 2. ICSI 효율성 - 미세주입된 난자 대비 생성된 배아 비율\n",
    "train['ICSI_효율성'] = np.where(train['미세주입된_난자_수'] > 0, (train['미세주입에서_생성된_배아_수'] / train['미세주입된_난자_수']) * 100, 0).round(2)\n",
    "\n",
    "# 3. 저장 배아 비율 - 총 생성 배아 대비 저장된 배아 수 비율\n",
    "train['저장_배아_비율'] = np.where(train['총_생성_배아_수'] > 0, (train['저장된_배아_수'] / train['총_생성_배아_수']) * 100, 0).round(2)\n",
    "\n",
    "# 4. 해동 난자 비율 - 해동된 난자 대비 수집된 신선 난자 비율\n",
    "train['해동_난자_비율'] = np.where(train['수집된_신선_난자_수'] > 0, (train['해동_난자_수'] / train['수집된_신선_난자_수']) * 100, 0).round(2)\n",
    "\n",
    "# 5. 생성 배아 유지율 - ICSI 후 저장된 배아 대비 생성된 배아 비율\n",
    "train['생성_배아_유지율'] = np.where(train['미세주입에서_생성된_배아_수'] > 0, (train['미세주입_후_저장된_배아_수'] / train['미세주입에서_생성된_배아_수']) * 100, 0).round(2)\n",
    "\n",
    "# 6. 파트너 정자 사용 비율 - 혼합된 난자에서 파트너 정자 비율\n",
    "train['파트너_정자_사용_비율'] = np.where(train['혼합된_난자_수'] > 0, (train['파트너_정자와_혼합된_난자_수'] / train['혼합된_난자_수']) * 100, 0).round(2)\n",
    "\n",
    "# test 데이터프레임에도 동일한 파생 변수를 생성\n",
    "test['임신_성공율'] = np.where(test['총_생성_배아_수'] > 0, (test['이식된_배아_수'] / test['총_생성_배아_수']) * 100, 0).round(2)\n",
    "test['ICSI_효율성'] = np.where(test['미세주입된_난자_수'] > 0, (test['미세주입에서_생성된_배아_수'] / test['미세주입된_난자_수']) * 100, 0).round(2)\n",
    "test['저장_배아_비율'] = np.where(test['총_생성_배아_수'] > 0, (test['저장된_배아_수'] / test['총_생성_배아_수']) * 100, 0).round(2)\n",
    "test['해동_난자_비율'] = np.where(test['수집된_신선_난자_수'] > 0, (test['해동_난자_수'] / test['수집된_신선_난자_수']) * 100, 0).round(2)\n",
    "test['생성_배아_유지율'] = np.where(test['미세주입에서_생성된_배아_수'] > 0, (test['미세주입_후_저장된_배아_수'] / test['미세주입에서_생성된_배아_수']) * 100, 0).round(2)\n",
    "test['파트너_정자_사용_비율'] = np.where(test['혼합된_난자_수'] > 0, (test['파트너_정자와_혼합된_난자_수'] / test['혼합된_난자_수']) * 100, 0).round(2)"
   ]
  },
  {
   "cell_type": "markdown",
   "metadata": {},
   "source": [
    "### 53. 난자_출처"
   ]
  },
  {
   "cell_type": "markdown",
   "metadata": {},
   "source": [
    "난자 출처 정보"
   ]
  },
  {
   "cell_type": "code",
   "execution_count": 115,
   "metadata": {},
   "outputs": [
    {
     "name": "stdout",
     "output_type": "stream",
     "text": [
      "\n",
      "난자_출처별 임신_성공_여부 비율 및 갯수\n",
      "\n",
      "                 0         1      0     1  Total\n",
      "variable                                        \n",
      "기증 제공     0.689621  0.310379   1402   631   2033\n",
      "본인 제공     0.739264  0.260736  24514  8646  33160\n",
      "알 수 없음    0.877426  0.122574    859   120    979\n"
     ]
    }
   ],
   "source": [
    "value_counts_ratio(train, '난자_출처')"
   ]
  },
  {
   "cell_type": "code",
   "execution_count": 116,
   "metadata": {},
   "outputs": [
    {
     "data": {
      "text/plain": [
       "본인 제공     11514\n",
       "기증 제공       687\n",
       "알 수 없음      359\n",
       "Name: 난자_출처, dtype: int64"
      ]
     },
     "execution_count": 116,
     "metadata": {},
     "output_type": "execute_result"
    }
   ],
   "source": [
    "test['난자_출처'].value_counts()"
   ]
  },
  {
   "cell_type": "markdown",
   "metadata": {},
   "source": [
    "### 54. 정자_출처"
   ]
  },
  {
   "cell_type": "markdown",
   "metadata": {},
   "source": [
    "정자 출처 정보"
   ]
  },
  {
   "cell_type": "code",
   "execution_count": 117,
   "metadata": {},
   "outputs": [
    {
     "name": "stdout",
     "output_type": "stream",
     "text": [
      "\n",
      "정자_출처별 임신_성공_여부 비율 및 갯수\n",
      "\n",
      "                    0         1        0       1  Total\n",
      "variable                                               \n",
      "기증 제공        0.770076  0.229924   2733.0   816.0   3549\n",
      "미할당          0.800000  0.200000      4.0     1.0      5\n",
      "배우자 및 기증 제공  1.000000  0.000000      1.0     0.0      1\n",
      "배우자 제공       0.736947  0.263053  24037.0  8580.0  32617\n"
     ]
    }
   ],
   "source": [
    "value_counts_ratio(train, '정자_출처')"
   ]
  },
  {
   "cell_type": "code",
   "execution_count": 118,
   "metadata": {},
   "outputs": [
    {
     "data": {
      "text/plain": [
       "배우자 제공    11318\n",
       "기증 제공      1241\n",
       "미할당           1\n",
       "Name: 정자_출처, dtype: int64"
      ]
     },
     "execution_count": 118,
     "metadata": {},
     "output_type": "execute_result"
    }
   ],
   "source": [
    "test['정자_출처'].value_counts()"
   ]
  },
  {
   "cell_type": "markdown",
   "metadata": {},
   "source": [
    "### 55. 난자_기증자_나이"
   ]
  },
  {
   "cell_type": "markdown",
   "metadata": {},
   "source": [
    "난자 기증자의 등록 당시 나이"
   ]
  },
  {
   "cell_type": "code",
   "execution_count": 119,
   "metadata": {},
   "outputs": [
    {
     "name": "stdout",
     "output_type": "stream",
     "text": [
      "\n",
      "난자_기증자_나이별 임신_성공_여부 비율 및 갯수\n",
      "\n",
      "                 0         1      0     1  Total\n",
      "variable                                        \n",
      "만20세 이하   0.885714  0.114286     31     4     35\n",
      "만21-25세   0.696078  0.303922    142    62    204\n",
      "만26-30세   0.637481  0.362519    415   236    651\n",
      "만31-35세   0.713034  0.286966    651   262    913\n",
      "알 수 없음    0.742995  0.257005  25536  8833  34369\n"
     ]
    }
   ],
   "source": [
    "value_counts_ratio(train, '난자_기증자_나이')"
   ]
  },
  {
   "cell_type": "markdown",
   "metadata": {},
   "source": [
    "### 56. 정자_기증자_나이"
   ]
  },
  {
   "cell_type": "markdown",
   "metadata": {},
   "source": [
    "정자 기증자의 등록 당시 나이"
   ]
  },
  {
   "cell_type": "code",
   "execution_count": 120,
   "metadata": {},
   "outputs": [
    {
     "name": "stdout",
     "output_type": "stream",
     "text": [
      "\n",
      "정자_기증자_나이별 임신_성공_여부 비율 및 갯수\n",
      "\n",
      "                 0         1      0     1  Total\n",
      "variable                                        \n",
      "만20세 이하   0.734848  0.265152     97    35    132\n",
      "만21-25세   0.740385  0.259615    462   162    624\n",
      "만26-30세   0.772866  0.227134    507   149    656\n",
      "만31-35세   0.782753  0.217247    472   131    603\n",
      "만36-40세   0.775650  0.224350    567   164    731\n",
      "만41-45세   0.782030  0.217970    470   131    601\n",
      "알 수 없음    0.737243  0.262757  24200  8625  32825\n"
     ]
    }
   ],
   "source": [
    "value_counts_ratio(train, '정자_기증자_나이')"
   ]
  },
  {
   "cell_type": "code",
   "execution_count": 121,
   "metadata": {},
   "outputs": [
    {
     "name": "stdout",
     "output_type": "stream",
     "text": [
      "Grouped by: 난자_기증자_나이, 정자_기증자_나이\n",
      "\n",
      "                 group  '임신_성공_여부' count     ratio  Total\n",
      "0   (만20세 이하, 만21-25세)                 0  0.000000      1\n",
      "1   (만20세 이하, 만36-40세)                 0  0.000000      3\n",
      "2   (만20세 이하, 만41-45세)                 0  0.000000      2\n",
      "3    (만20세 이하, 알 수 없음)                 4  0.137931     29\n",
      "4   (만21-25세, 만20세 이하)                 0  0.000000      1\n",
      "5   (만21-25세, 만21-25세)                 1  0.333333      3\n",
      "6   (만21-25세, 만26-30세)                 2  1.000000      2\n",
      "7   (만21-25세, 만31-35세)                 2  0.400000      5\n",
      "8   (만21-25세, 만36-40세)                 1  0.250000      4\n",
      "9   (만21-25세, 만41-45세)                 2  0.333333      6\n",
      "10   (만21-25세, 알 수 없음)                54  0.295082    183\n",
      "11  (만26-30세, 만20세 이하)                 1  0.333333      3\n",
      "12  (만26-30세, 만21-25세)                 7  0.538462     13\n",
      "13  (만26-30세, 만26-30세)                 6  0.461538     13\n",
      "14  (만26-30세, 만31-35세)                 5  0.416667     12\n",
      "15  (만26-30세, 만36-40세)                 7  0.280000     25\n",
      "16  (만26-30세, 만41-45세)                 2  0.142857     14\n",
      "17   (만26-30세, 알 수 없음)               208  0.364273    571\n",
      "18  (만31-35세, 만20세 이하)                 1  0.333333      3\n",
      "19  (만31-35세, 만21-25세)                 7  0.333333     21\n",
      "20  (만31-35세, 만26-30세)                10  0.333333     30\n",
      "21  (만31-35세, 만31-35세)                 9  0.272727     33\n",
      "22  (만31-35세, 만36-40세)                 6  0.206897     29\n",
      "23  (만31-35세, 만41-45세)                 5  0.227273     22\n",
      "24   (만31-35세, 알 수 없음)               224  0.289032    775\n",
      "25   (알 수 없음, 만20세 이하)                33  0.264000    125\n",
      "26   (알 수 없음, 만21-25세)               147  0.250853    586\n",
      "27   (알 수 없음, 만26-30세)               131  0.214403    611\n",
      "28   (알 수 없음, 만31-35세)               115  0.207957    553\n",
      "29   (알 수 없음, 만36-40세)               150  0.223881    670\n",
      "30   (알 수 없음, 만41-45세)               122  0.219031    557\n",
      "31    (알 수 없음, 알 수 없음)              8135  0.260178  31267\n"
     ]
    }
   ],
   "source": [
    "summarize_group(train, ['난자_기증자_나이', '정자_기증자_나이'])"
   ]
  },
  {
   "cell_type": "code",
   "execution_count": 122,
   "metadata": {},
   "outputs": [],
   "source": [
    "# 그룹화하여 임신_성공_여부 비율 계산\n",
    "grouped = train.groupby(['난자_기증자_나이', '정자_기증자_나이']).agg(\n",
    "    count=('임신_성공_여부', 'sum'),\n",
    "    Total=('임신_성공_여부', 'size')\n",
    ").reset_index()\n",
    "\n",
    "grouped['ratio'] = grouped['count'] / grouped['Total']\n",
    "grouped['기증자_나이_더미'] = (grouped['ratio'] >= 0.28).astype(int)\n",
    "\n",
    "# 원본 train 데이터프레임에 더미 변수 추가\n",
    "train = train.merge(grouped[['난자_기증자_나이', '정자_기증자_나이', '기증자_나이_더미']], on=['난자_기증자_나이', '정자_기증자_나이'], how='left')\n",
    "\n",
    "# test 데이터프레임에 더미 변수 추가\n",
    "test = test.merge(grouped[['난자_기증자_나이', '정자_기증자_나이', '기증자_나이_더미']], on=['난자_기증자_나이', '정자_기증자_나이'], how='left')\n",
    "\n",
    "# 결측값을 0으로 채우기 (해당 조합이 train 데이터에 없을 경우)\n",
    "test['기증자_나이_더미'] = test['기증자_나이_더미'].fillna(0).astype(int)"
   ]
  },
  {
   "cell_type": "code",
   "execution_count": 123,
   "metadata": {},
   "outputs": [
    {
     "name": "stdout",
     "output_type": "stream",
     "text": [
      "\n",
      "기증자_나이_더미별 임신_성공_여부 비율 및 갯수\n",
      "\n",
      "                 0         1      0     1  Total\n",
      "variable                                        \n",
      "0         0.743241  0.256759  25647  8860  34507\n",
      "1         0.677477  0.322523   1128   537   1665\n"
     ]
    }
   ],
   "source": [
    "value_counts_ratio(train, '기증자_나이_더미')"
   ]
  },
  {
   "cell_type": "code",
   "execution_count": 124,
   "metadata": {},
   "outputs": [
    {
     "data": {
      "text/plain": [
       "0    11989\n",
       "1      571\n",
       "Name: 기증자_나이_더미, dtype: int64"
      ]
     },
     "execution_count": 124,
     "metadata": {},
     "output_type": "execute_result"
    }
   ],
   "source": [
    "test['기증자_나이_더미'].value_counts()"
   ]
  },
  {
   "cell_type": "code",
   "execution_count": 125,
   "metadata": {},
   "outputs": [],
   "source": [
    "# summarize_group(train, ['난자_기증자_나이', '정자_기증자_나이', '기증자_나이_더미'])"
   ]
  },
  {
   "cell_type": "markdown",
   "metadata": {},
   "source": [
    "### 57. 동결_배아_사용_여부"
   ]
  },
  {
   "cell_type": "markdown",
   "metadata": {},
   "source": [
    "동결 배아가 사용되었는지 여부"
   ]
  },
  {
   "cell_type": "code",
   "execution_count": 126,
   "metadata": {},
   "outputs": [
    {
     "name": "stdout",
     "output_type": "stream",
     "text": [
      "\n",
      "동결_배아_사용_여부별 임신_성공_여부 비율 및 갯수\n",
      "\n",
      "                 0         1      0     1  Total\n",
      "variable                                        \n",
      "0.0       0.725928  0.274072  21698  8192  29890\n",
      "1.0       0.795399  0.204601   4218  1085   5303\n"
     ]
    }
   ],
   "source": [
    "value_counts_ratio(train, '동결_배아_사용_여부')"
   ]
  },
  {
   "cell_type": "markdown",
   "metadata": {},
   "source": [
    "### 58. 신선_배아_사용_여부"
   ]
  },
  {
   "cell_type": "markdown",
   "metadata": {},
   "source": [
    "신선 배아가 사용되었는지 여부"
   ]
  },
  {
   "cell_type": "code",
   "execution_count": 127,
   "metadata": {},
   "outputs": [
    {
     "name": "stdout",
     "output_type": "stream",
     "text": [
      "\n",
      "신선_배아_사용_여부별 임신_성공_여부 비율 및 갯수\n",
      "\n",
      "                 0         1      0     1  Total\n",
      "variable                                        \n",
      "0.0       0.795868  0.204132   4199  1077   5276\n",
      "1.0       0.725908  0.274092  21717  8200  29917\n"
     ]
    }
   ],
   "source": [
    "value_counts_ratio(train, '신선_배아_사용_여부')"
   ]
  },
  {
   "cell_type": "markdown",
   "metadata": {},
   "source": [
    "### 59. 기증_배아_사용_여부"
   ]
  },
  {
   "cell_type": "markdown",
   "metadata": {},
   "source": [
    "기증 배아가 사용되었는지 여부"
   ]
  },
  {
   "cell_type": "code",
   "execution_count": 128,
   "metadata": {},
   "outputs": [
    {
     "name": "stdout",
     "output_type": "stream",
     "text": [
      "\n",
      "기증_배아_사용_여부별 임신_성공_여부 비율 및 갯수\n",
      "\n",
      "                 0         1      0     1  Total\n",
      "variable                                        \n",
      "0.0       0.736678  0.263322  25727  9196  34923\n",
      "1.0       0.700000  0.300000    189    81    270\n"
     ]
    }
   ],
   "source": [
    "value_counts_ratio(train, '기증_배아_사용_여부')"
   ]
  },
  {
   "cell_type": "code",
   "execution_count": 129,
   "metadata": {},
   "outputs": [
    {
     "name": "stdout",
     "output_type": "stream",
     "text": [
      "Grouped by: 신선_배아_사용_여부, 동결_배아_사용_여부, 기증_배아_사용_여부\n",
      "\n",
      "             group  '임신_성공_여부' count     ratio  Total\n",
      "0  (0.0, 1.0, 0.0)              1059  0.204322   5183\n",
      "1  (0.0, 1.0, 1.0)                18  0.193548     93\n",
      "2  (1.0, 0.0, 0.0)              8129  0.273584  29713\n",
      "3  (1.0, 0.0, 1.0)                63  0.355932    177\n",
      "4  (1.0, 1.0, 0.0)                 8  0.296296     27\n"
     ]
    }
   ],
   "source": [
    "summarize_group(train, ['신선_배아_사용_여부', '동결_배아_사용_여부', '기증_배아_사용_여부'])"
   ]
  },
  {
   "cell_type": "markdown",
   "metadata": {},
   "source": [
    "### 60. 대리모_여부"
   ]
  },
  {
   "cell_type": "markdown",
   "metadata": {},
   "source": [
    "환자가 대리모로 활동했는지 여부"
   ]
  },
  {
   "cell_type": "code",
   "execution_count": 130,
   "metadata": {},
   "outputs": [
    {
     "name": "stdout",
     "output_type": "stream",
     "text": [
      "\n",
      "대리모_여부별 임신_성공_여부 비율 및 갯수\n",
      "\n",
      "                 0         1      0     1  Total\n",
      "variable                                        \n",
      "0.0       0.736382  0.263618  25833  9248  35081\n",
      "1.0       0.741071  0.258929     83    29    112\n"
     ]
    }
   ],
   "source": [
    "value_counts_ratio(train, '대리모_여부')"
   ]
  },
  {
   "cell_type": "markdown",
   "metadata": {},
   "source": [
    "### 61. PGD_시술_여부"
   ]
  },
  {
   "cell_type": "markdown",
   "metadata": {},
   "source": [
    "해당 주기가 PGD 치료로 분류되는지 여부"
   ]
  },
  {
   "cell_type": "code",
   "execution_count": 131,
   "metadata": {},
   "outputs": [
    {
     "name": "stdout",
     "output_type": "stream",
     "text": [
      "\n",
      "PGD_시술_여부별 임신_성공_여부 비율 및 갯수\n",
      "\n",
      "                0        1    0   1  Total\n",
      "variable                                  \n",
      "1.0       0.73297  0.26703  269  98    367\n"
     ]
    }
   ],
   "source": [
    "value_counts_ratio(train, 'PGD_시술_여부')"
   ]
  },
  {
   "cell_type": "code",
   "execution_count": 132,
   "metadata": {},
   "outputs": [
    {
     "data": {
      "text/plain": [
       "35805"
      ]
     },
     "execution_count": 132,
     "metadata": {},
     "output_type": "execute_result"
    }
   ],
   "source": [
    "train['PGD_시술_여부'].isnull().sum()"
   ]
  },
  {
   "cell_type": "code",
   "execution_count": 133,
   "metadata": {},
   "outputs": [
    {
     "name": "stdout",
     "output_type": "stream",
     "text": [
      "결측값 개수: 35805\n",
      "결측값 개수: 0\n"
     ]
    }
   ],
   "source": [
    "# 결측값 개수 확인\n",
    "print(\"결측값 개수:\", train['PGD_시술_여부'].isnull().sum())\n",
    "\n",
    "# 결측값을 0으로 채우기\n",
    "train['PGD_시술_여부'].fillna(0, inplace=True)\n",
    "test['PGD_시술_여부'].fillna(0, inplace=True)\n",
    "\n",
    "# 결측값 개수 확인\n",
    "print(\"결측값 개수:\", train['PGD_시술_여부'].isnull().sum())"
   ]
  },
  {
   "cell_type": "markdown",
   "metadata": {},
   "source": [
    "### 62. PGS_시술_여부"
   ]
  },
  {
   "cell_type": "markdown",
   "metadata": {},
   "source": [
    "해당 주기가 PGS 치료로 분류되는지 여부"
   ]
  },
  {
   "cell_type": "code",
   "execution_count": 134,
   "metadata": {},
   "outputs": [
    {
     "name": "stdout",
     "output_type": "stream",
     "text": [
      "\n",
      "PGS_시술_여부별 임신_성공_여부 비율 및 갯수\n",
      "\n",
      "                 0         1    0   1  Total\n",
      "variable                                    \n",
      "1.0       0.801762  0.198238  182  45    227\n"
     ]
    }
   ],
   "source": [
    "value_counts_ratio(train, 'PGS_시술_여부')"
   ]
  },
  {
   "cell_type": "code",
   "execution_count": 135,
   "metadata": {},
   "outputs": [
    {
     "name": "stdout",
     "output_type": "stream",
     "text": [
      "결측값 개수: 35945\n",
      "결측값 개수: 0\n"
     ]
    }
   ],
   "source": [
    "# 결측값 개수 확인\n",
    "print(\"결측값 개수:\", train['PGS_시술_여부'].isnull().sum())\n",
    "\n",
    "# 결측값을 0으로 채우기\n",
    "train['PGS_시술_여부'].fillna(0, inplace=True)\n",
    "test['PGS_시술_여부'].fillna(0, inplace=True)\n",
    "\n",
    "# 결측값 개수 확인\n",
    "print(\"결측값 개수:\", train['PGS_시술_여부'].isnull().sum())"
   ]
  },
  {
   "cell_type": "code",
   "execution_count": 136,
   "metadata": {},
   "outputs": [
    {
     "name": "stdout",
     "output_type": "stream",
     "text": [
      "Grouped by: PGD_시술_여부, PGS_시술_여부\n",
      "\n",
      "        group  '임신_성공_여부' count     ratio  Total\n",
      "0  (0.0, 0.0)              9254  0.260105  35578\n",
      "1  (0.0, 1.0)                45  0.198238    227\n",
      "2  (1.0, 0.0)                98  0.267030    367\n"
     ]
    }
   ],
   "source": [
    "summarize_group(train, ['PGD_시술_여부', 'PGS_시술_여부'])"
   ]
  },
  {
   "cell_type": "markdown",
   "metadata": {},
   "source": [
    "### 63. 난자_채취_경과일"
   ]
  },
  {
   "cell_type": "markdown",
   "metadata": {},
   "source": [
    "첫 시점으로부터 난자 채취까지 경과한 일수"
   ]
  },
  {
   "cell_type": "code",
   "execution_count": 137,
   "metadata": {},
   "outputs": [
    {
     "name": "stdout",
     "output_type": "stream",
     "text": [
      "\n",
      "난자_채취_경과일별 임신_성공_여부 비율 및 갯수\n",
      "\n",
      "                 0         1      0     1  Total\n",
      "variable                                        \n",
      "0.0       0.730089  0.269911  20717  7659  28376\n"
     ]
    }
   ],
   "source": [
    "value_counts_ratio(train, '난자_채취_경과일')"
   ]
  },
  {
   "cell_type": "code",
   "execution_count": 138,
   "metadata": {},
   "outputs": [
    {
     "name": "stdout",
     "output_type": "stream",
     "text": [
      "결측값 개수: 7796\n",
      "결측값 개수: 0\n"
     ]
    }
   ],
   "source": [
    "print(\"결측값 개수:\", train['난자_채취_경과일'].isnull().sum())\n",
    "\n",
    "train['난자_채취_경과일'].fillna(-1, inplace=True)\n",
    "test['난자_채취_경과일'].fillna(-1, inplace=True)\n",
    "\n",
    "print(\"결측값 개수:\", train['난자_채취_경과일'].isnull().sum())"
   ]
  },
  {
   "cell_type": "markdown",
   "metadata": {},
   "source": [
    "### 64. 난자_해동_경과일"
   ]
  },
  {
   "cell_type": "markdown",
   "metadata": {},
   "source": [
    "첫 시점으로부터 난자 해동까지 경과한 일수"
   ]
  },
  {
   "cell_type": "code",
   "execution_count": 139,
   "metadata": {},
   "outputs": [
    {
     "name": "stdout",
     "output_type": "stream",
     "text": [
      "\n",
      "난자_해동_경과일별 임신_성공_여부 비율 및 갯수\n",
      "\n",
      "                 0         1   0   1  Total\n",
      "variable                                   \n",
      "0.0       0.782609  0.217391  90  25    115\n"
     ]
    }
   ],
   "source": [
    "value_counts_ratio(train, '난자_해동_경과일')"
   ]
  },
  {
   "cell_type": "code",
   "execution_count": 140,
   "metadata": {},
   "outputs": [
    {
     "data": {
      "text/plain": [
       "36057"
      ]
     },
     "execution_count": 140,
     "metadata": {},
     "output_type": "execute_result"
    }
   ],
   "source": [
    "train['난자_해동_경과일'].isnull().sum()"
   ]
  },
  {
   "cell_type": "code",
   "execution_count": 141,
   "metadata": {},
   "outputs": [
    {
     "name": "stdout",
     "output_type": "stream",
     "text": [
      "결측값 개수: 36057\n",
      "결측값 개수: 0\n"
     ]
    }
   ],
   "source": [
    "print(\"결측값 개수:\", train['난자_해동_경과일'].isnull().sum())\n",
    "\n",
    "train['난자_해동_경과일'].fillna(-1, inplace=True)\n",
    "test['난자_해동_경과일'].fillna(-1, inplace=True)\n",
    "\n",
    "print(\"결측값 개수:\", train['난자_해동_경과일'].isnull().sum())"
   ]
  },
  {
   "cell_type": "markdown",
   "metadata": {},
   "source": [
    "### 65. 난자_혼합_경과일"
   ]
  },
  {
   "cell_type": "markdown",
   "metadata": {},
   "source": [
    "첫 시점으로부터 난자와 정자 혼합까지 경과한 일수"
   ]
  },
  {
   "cell_type": "code",
   "execution_count": 142,
   "metadata": {},
   "outputs": [
    {
     "name": "stdout",
     "output_type": "stream",
     "text": [
      "\n",
      "난자_혼합_경과일별 임신_성공_여부 비율 및 갯수\n",
      "\n",
      "                 0         1        0       1  Total\n",
      "variable                                            \n",
      "0.0       0.718017  0.281983  20727.0  8140.0  28867\n",
      "1.0       0.819672  0.180328     50.0    11.0     61\n",
      "2.0       0.600000  0.400000      6.0     4.0     10\n",
      "3.0       0.555556  0.444444      5.0     4.0      9\n",
      "4.0       0.500000  0.500000      1.0     1.0      2\n",
      "5.0       0.500000  0.500000      1.0     1.0      2\n",
      "7.0       1.000000  0.000000      1.0     0.0      1\n"
     ]
    }
   ],
   "source": [
    "value_counts_ratio(train, '난자_혼합_경과일')"
   ]
  },
  {
   "cell_type": "code",
   "execution_count": 143,
   "metadata": {},
   "outputs": [
    {
     "data": {
      "text/plain": [
       "7220"
      ]
     },
     "execution_count": 143,
     "metadata": {},
     "output_type": "execute_result"
    }
   ],
   "source": [
    "train['난자_혼합_경과일'].isnull().sum()"
   ]
  },
  {
   "cell_type": "code",
   "execution_count": 144,
   "metadata": {},
   "outputs": [
    {
     "name": "stdout",
     "output_type": "stream",
     "text": [
      "결측값 개수: 7220\n",
      "결측값 개수: 0\n"
     ]
    }
   ],
   "source": [
    "print(\"결측값 개수:\", train['난자_혼합_경과일'].isnull().sum())\n",
    "\n",
    "train['난자_혼합_경과일'].fillna(-1, inplace=True)\n",
    "test['난자_혼합_경과일'].fillna(-1, inplace=True)\n",
    "\n",
    "print(\"결측값 개수:\", train['난자_혼합_경과일'].isnull().sum())"
   ]
  },
  {
   "cell_type": "code",
   "execution_count": 145,
   "metadata": {},
   "outputs": [
    {
     "name": "stdout",
     "output_type": "stream",
     "text": [
      "\n",
      "난자_혼합_경과일별 임신_성공_여부 비율 및 갯수\n",
      "\n",
      "                 0         1        0       1  Total\n",
      "variable                                            \n",
      "-1.0      0.828809  0.171191   5984.0  1236.0   7220\n",
      " 0.0      0.718017  0.281983  20727.0  8140.0  28867\n",
      " 1.0      0.819672  0.180328     50.0    11.0     61\n",
      " 2.0      0.600000  0.400000      6.0     4.0     10\n",
      " 3.0      0.555556  0.444444      5.0     4.0      9\n",
      " 4.0      0.500000  0.500000      1.0     1.0      2\n",
      " 5.0      0.500000  0.500000      1.0     1.0      2\n",
      " 7.0      1.000000  0.000000      1.0     0.0      1\n"
     ]
    }
   ],
   "source": [
    "value_counts_ratio(train, '난자_혼합_경과일')"
   ]
  },
  {
   "cell_type": "markdown",
   "metadata": {},
   "source": [
    "### 66. 배아_이식_경과일"
   ]
  },
  {
   "cell_type": "markdown",
   "metadata": {},
   "source": [
    "첫 시점으로부터 배아 이식까지 경과한 일수"
   ]
  },
  {
   "cell_type": "code",
   "execution_count": 146,
   "metadata": {},
   "outputs": [
    {
     "name": "stdout",
     "output_type": "stream",
     "text": [
      "\n",
      "배아_이식_경과일별 임신_성공_여부 비율 및 갯수\n",
      "\n",
      "                 0         1     0     1  Total\n",
      "variable                                       \n",
      "0.0       0.784332  0.215668  2473   680   3153\n",
      "1.0       0.810155  0.189845   734   172    906\n",
      "2.0       0.782713  0.217287  4582  1272   5854\n",
      "3.0       0.731172  0.268828  6767  2488   9255\n",
      "4.0       0.661123  0.338877   318   163    481\n",
      "5.0       0.603971  0.396029  6570  4308  10878\n",
      "6.0       0.659529  0.340471   308   159    467\n",
      "7.0       0.545455  0.454545     6     5     11\n"
     ]
    }
   ],
   "source": [
    "value_counts_ratio(train, '배아_이식_경과일')"
   ]
  },
  {
   "cell_type": "code",
   "execution_count": 147,
   "metadata": {},
   "outputs": [
    {
     "name": "stdout",
     "output_type": "stream",
     "text": [
      "결측값 개수: 5167\n",
      "결측값 개수: 0\n"
     ]
    }
   ],
   "source": [
    "print(\"결측값 개수:\", train['배아_이식_경과일'].isnull().sum())\n",
    "\n",
    "train['배아_이식_경과일'].fillna(-1, inplace=True)\n",
    "test['배아_이식_경과일'].fillna(-1, inplace=True)\n",
    "\n",
    "print(\"결측값 개수:\", train['배아_이식_경과일'].isnull().sum())"
   ]
  },
  {
   "cell_type": "code",
   "execution_count": 148,
   "metadata": {},
   "outputs": [
    {
     "name": "stdout",
     "output_type": "stream",
     "text": [
      "\n",
      "배아_이식_경과일별 임신_성공_여부 비율 및 갯수\n",
      "\n",
      "                 0         1     0     1  Total\n",
      "variable                                       \n",
      "-1.0      0.970970  0.029030  5017   150   5167\n",
      " 0.0      0.784332  0.215668  2473   680   3153\n",
      " 1.0      0.810155  0.189845   734   172    906\n",
      " 2.0      0.782713  0.217287  4582  1272   5854\n",
      " 3.0      0.731172  0.268828  6767  2488   9255\n",
      " 4.0      0.661123  0.338877   318   163    481\n",
      " 5.0      0.603971  0.396029  6570  4308  10878\n",
      " 6.0      0.659529  0.340471   308   159    467\n",
      " 7.0      0.545455  0.454545     6     5     11\n"
     ]
    }
   ],
   "source": [
    "value_counts_ratio(train, '배아_이식_경과일')"
   ]
  },
  {
   "cell_type": "markdown",
   "metadata": {},
   "source": [
    "### 67. 배아_해동_경과일"
   ]
  },
  {
   "cell_type": "markdown",
   "metadata": {},
   "source": [
    "첫 시점으로부터 배아 해동까지 경과한 일수"
   ]
  },
  {
   "cell_type": "code",
   "execution_count": 149,
   "metadata": {},
   "outputs": [
    {
     "name": "stdout",
     "output_type": "stream",
     "text": [
      "\n",
      "배아_해동_경과일별 임신_성공_여부 비율 및 갯수\n",
      "\n",
      "                 0         1       0       1  Total\n",
      "variable                                           \n",
      "0.0       0.795480  0.204520  4189.0  1077.0   5266\n",
      "1.0       1.000000  0.000000     4.0     0.0      4\n",
      "2.0       0.833333  0.166667    20.0     4.0     24\n",
      "3.0       0.866667  0.133333    13.0     2.0     15\n",
      "4.0       1.000000  0.000000     1.0     0.0      1\n",
      "5.0       0.555556  0.444444     5.0     4.0      9\n",
      "6.0       0.750000  0.250000     3.0     1.0      4\n"
     ]
    }
   ],
   "source": [
    "value_counts_ratio(train, '배아_해동_경과일')"
   ]
  },
  {
   "cell_type": "code",
   "execution_count": 150,
   "metadata": {},
   "outputs": [
    {
     "data": {
      "text/plain": [
       "0.0    1846\n",
       "5.0       4\n",
       "2.0       4\n",
       "3.0       3\n",
       "1.0       1\n",
       "Name: 배아_해동_경과일, dtype: int64"
      ]
     },
     "execution_count": 150,
     "metadata": {},
     "output_type": "execute_result"
    }
   ],
   "source": [
    "test['배아_해동_경과일'].value_counts()"
   ]
  },
  {
   "cell_type": "code",
   "execution_count": 151,
   "metadata": {},
   "outputs": [
    {
     "name": "stdout",
     "output_type": "stream",
     "text": [
      "결측값 개수: 30849\n",
      "결측값 개수: 0\n"
     ]
    }
   ],
   "source": [
    "print(\"결측값 개수:\", train['배아_해동_경과일'].isnull().sum())\n",
    "\n",
    "train['배아_해동_경과일'].fillna(-1, inplace=True)\n",
    "test['배아_해동_경과일'].fillna(-1, inplace=True)\n",
    "\n",
    "print(\"결측값 개수:\", train['배아_해동_경과일'].isnull().sum())"
   ]
  },
  {
   "cell_type": "code",
   "execution_count": 152,
   "metadata": {},
   "outputs": [
    {
     "name": "stdout",
     "output_type": "stream",
     "text": [
      "\n",
      "배아_해동_경과일별 임신_성공_여부 비율 및 갯수\n",
      "\n",
      "                 0         1        0       1  Total\n",
      "variable                                            \n",
      "-1.0      0.730656  0.269344  22540.0  8309.0  30849\n",
      " 0.0      0.795480  0.204520   4189.0  1077.0   5266\n",
      " 1.0      1.000000  0.000000      4.0     0.0      4\n",
      " 2.0      0.833333  0.166667     20.0     4.0     24\n",
      " 3.0      0.866667  0.133333     13.0     2.0     15\n",
      " 4.0      1.000000  0.000000      1.0     0.0      1\n",
      " 5.0      0.555556  0.444444      5.0     4.0      9\n",
      " 6.0      0.750000  0.250000      3.0     1.0      4\n"
     ]
    }
   ],
   "source": [
    "value_counts_ratio(train, '배아_해동_경과일')"
   ]
  },
  {
   "cell_type": "code",
   "execution_count": 153,
   "metadata": {},
   "outputs": [],
   "source": [
    "# 파생 변수 생성 함수 정의\n",
    "def calculate_difference(col1, col2):\n",
    "    return np.where((col1 == -1) | (col2 == -1), 'unknown', col2 - col1)\n",
    "\n",
    "# 파생 변수 생성 (train 데이터프레임)\n",
    "train['채취_해동_차이'] = calculate_difference(train['난자_채취_경과일'], train['난자_해동_경과일'])\n",
    "train['해동_혼합_차이'] = calculate_difference(train['난자_해동_경과일'], train['난자_혼합_경과일'])\n",
    "train['혼합_이식_차이'] = calculate_difference(train['난자_혼합_경과일'], train['배아_이식_경과일'])\n",
    "train['이식_해동_차이'] = calculate_difference(train['배아_이식_경과일'], train['배아_해동_경과일'])\n",
    "\n",
    "# 파생 변수 생성 (test 데이터프레임)\n",
    "test['채취_해동_차이'] = calculate_difference(test['난자_채취_경과일'], test['난자_해동_경과일'])\n",
    "test['해동_혼합_차이'] = calculate_difference(test['난자_해동_경과일'], test['난자_혼합_경과일'])\n",
    "test['혼합_이식_차이'] = calculate_difference(test['난자_혼합_경과일'], test['배아_이식_경과일'])\n",
    "test['이식_해동_차이'] = calculate_difference(test['배아_이식_경과일'], test['배아_해동_경과일'])"
   ]
  },
  {
   "cell_type": "code",
   "execution_count": 154,
   "metadata": {},
   "outputs": [],
   "source": [
    "# # 모든 행을 출력하도록 설정\n",
    "pd.set_option('display.max_rows', None)"
   ]
  },
  {
   "cell_type": "code",
   "execution_count": 155,
   "metadata": {},
   "outputs": [
    {
     "name": "stdout",
     "output_type": "stream",
     "text": [
      "Grouped by: 난자_채취_경과일, 난자_혼합_경과일\n",
      "\n",
      "          group  '임신_성공_여부' count     ratio  Total\n",
      "0  (-1.0, -1.0)              1197  0.191735   6243\n",
      "1   (-1.0, 0.0)               541  0.348358   1553\n",
      "2   (0.0, -1.0)                39  0.039918    977\n",
      "3    (0.0, 0.0)              7599  0.278209  27314\n",
      "4    (0.0, 1.0)                11  0.180328     61\n",
      "5    (0.0, 2.0)                 4  0.400000     10\n",
      "6    (0.0, 3.0)                 4  0.444444      9\n",
      "7    (0.0, 4.0)                 1  0.500000      2\n",
      "8    (0.0, 5.0)                 1  0.500000      2\n",
      "9    (0.0, 7.0)                 0  0.000000      1\n"
     ]
    }
   ],
   "source": [
    "summarize_group(train, ['난자_채취_경과일', '난자_혼합_경과일'])"
   ]
  },
  {
   "cell_type": "code",
   "execution_count": 156,
   "metadata": {},
   "outputs": [
    {
     "name": "stdout",
     "output_type": "stream",
     "text": [
      "Grouped by: 배아_이식_경과일, 배아_해동_경과일\n",
      "\n",
      "           group  '임신_성공_여부' count     ratio  Total\n",
      "0   (-1.0, -1.0)               144  0.030763   4681\n",
      "1    (-1.0, 0.0)                 6  0.012397    484\n",
      "2    (-1.0, 2.0)                 0  0.000000      1\n",
      "3    (-1.0, 3.0)                 0  0.000000      1\n",
      "4    (0.0, -1.0)                 8  0.333333     24\n",
      "5     (0.0, 0.0)               672  0.214765   3129\n",
      "6    (1.0, -1.0)                14  0.121739    115\n",
      "7     (1.0, 0.0)               158  0.199747    791\n",
      "8    (2.0, -1.0)              1173  0.217424   5395\n",
      "9     (2.0, 0.0)                97  0.220957    439\n",
      "10    (2.0, 1.0)                 0  0.000000      1\n",
      "11    (2.0, 2.0)                 1  0.058824     17\n",
      "12    (2.0, 4.0)                 0  0.000000      1\n",
      "13    (2.0, 5.0)                 1  1.000000      1\n",
      "14   (3.0, -1.0)              2424  0.267845   9050\n",
      "15    (3.0, 0.0)                58  0.303665    191\n",
      "16    (3.0, 1.0)                 0  0.000000      1\n",
      "17    (3.0, 2.0)                 2  1.000000      2\n",
      "18    (3.0, 3.0)                 2  0.222222      9\n",
      "19    (3.0, 5.0)                 1  1.000000      1\n",
      "20    (3.0, 6.0)                 1  1.000000      1\n",
      "21   (4.0, -1.0)                84  0.313433    268\n",
      "22    (4.0, 0.0)                79  0.370892    213\n",
      "23   (5.0, -1.0)              4299  0.396367  10846\n",
      "24    (5.0, 0.0)                 7  0.388889     18\n",
      "25    (5.0, 1.0)                 0  0.000000      2\n",
      "26    (5.0, 2.0)                 1  0.333333      3\n",
      "27    (5.0, 3.0)                 0  0.000000      4\n",
      "28    (5.0, 5.0)                 1  0.200000      5\n",
      "29   (6.0, -1.0)               158  0.344227    459\n",
      "30    (6.0, 0.0)                 0  0.000000      1\n",
      "31    (6.0, 2.0)                 0  0.000000      1\n",
      "32    (6.0, 3.0)                 0  0.000000      1\n",
      "33    (6.0, 5.0)                 1  0.500000      2\n",
      "34    (6.0, 6.0)                 0  0.000000      3\n",
      "35   (7.0, -1.0)                 5  0.454545     11\n"
     ]
    }
   ],
   "source": [
    "summarize_group(train, ['배아_이식_경과일', '배아_해동_경과일'])"
   ]
  },
  {
   "cell_type": "code",
   "execution_count": 157,
   "metadata": {},
   "outputs": [
    {
     "name": "stdout",
     "output_type": "stream",
     "text": [
      "\n",
      "이식_해동_차이별 임신_성공_여부 비율 및 갯수\n",
      "\n",
      "                 0         1        0       1  Total\n",
      "variable                                            \n",
      "-1.0      0.797739  0.202261    635.0   161.0    796\n",
      "-2.0      0.781532  0.218468    347.0    97.0    444\n",
      "-3.0      0.697436  0.302564    136.0    59.0    195\n",
      "-4.0      0.634259  0.365741    137.0    79.0    216\n",
      "-5.0      0.611111  0.388889     11.0     7.0     18\n",
      "-6.0      1.000000  0.000000      1.0     0.0      1\n",
      "0.0       0.786279  0.213721   2487.0   676.0   3163\n",
      "2.0       0.500000  0.500000      1.0     1.0      2\n",
      "3.0       0.000000  1.000000      0.0     2.0      2\n",
      "unknown   0.734642  0.265358  23020.0  8315.0  31335\n"
     ]
    }
   ],
   "source": [
    "value_counts_ratio(train, '이식_해동_차이')"
   ]
  },
  {
   "cell_type": "markdown",
   "metadata": {},
   "source": [
    "### 68. 임신_성공_여부"
   ]
  },
  {
   "cell_type": "markdown",
   "metadata": {},
   "source": [
    "해당 시술로부터 임신 성공 여부"
   ]
  },
  {
   "cell_type": "code",
   "execution_count": 158,
   "metadata": {},
   "outputs": [
    {
     "name": "stdout",
     "output_type": "stream",
     "text": [
      "\n",
      "임신_성공_여부별 임신_성공_여부 비율 및 갯수\n",
      "\n",
      "            0    1        0       1  Total\n",
      "variable                                  \n",
      "0         1.0  0.0  26775.0     0.0  26775\n",
      "1         0.0  1.0      0.0  9397.0   9397\n"
     ]
    }
   ],
   "source": [
    "value_counts_ratio(train, '임신_성공_여부')"
   ]
  },
  {
   "cell_type": "markdown",
   "metadata": {},
   "source": [
    "## 변수 상테 확인"
   ]
  },
  {
   "cell_type": "code",
   "execution_count": 159,
   "metadata": {},
   "outputs": [
    {
     "name": "stdout",
     "output_type": "stream",
     "text": [
      "<class 'pandas.core.frame.DataFrame'>\n",
      "Int64Index: 36172 entries, 0 to 36171\n",
      "Data columns (total 90 columns):\n",
      " #   Column                  Non-Null Count  Dtype   \n",
      "---  ------                  --------------  -----   \n",
      " 0   ID                      36172 non-null  object  \n",
      " 1   시술_당시_나이                36172 non-null  object  \n",
      " 2   임신_시도_또는_마지막_임신_경과_연수   36172 non-null  category\n",
      " 3   시술_유형                   36172 non-null  object  \n",
      " 4   배란_자극_여부                36172 non-null  int64   \n",
      " 5   배란_유도_유형                36172 non-null  object  \n",
      " 6   단일_배아_이식_여부             35193 non-null  float64 \n",
      " 7   착상_전_유전_검사_사용_여부        36172 non-null  float64 \n",
      " 8   착상_전_유전_진단_사용_여부        35193 non-null  float64 \n",
      " 9   남성_주_불임_원인              36172 non-null  int64   \n",
      " 10  남성_부_불임_원인              36172 non-null  int64   \n",
      " 11  여성_주_불임_원인              36172 non-null  int64   \n",
      " 12  여성_부_불임_원인              36172 non-null  int64   \n",
      " 13  부부_주_불임_원인              36172 non-null  int64   \n",
      " 14  부부_부_불임_원인              36172 non-null  int64   \n",
      " 15  불명확_불임_원인               36172 non-null  int64   \n",
      " 16  불임_원인_-_난관_질환           36172 non-null  int64   \n",
      " 17  불임_원인_-_남성_요인           36172 non-null  int64   \n",
      " 18  불임_원인_-_배란_장애           36172 non-null  int64   \n",
      " 19  불임_원인_-_자궁경부_문제         36172 non-null  int64   \n",
      " 20  불임_원인_-_자궁내막증           36172 non-null  int64   \n",
      " 21  불임_원인_-_정자_농도           36172 non-null  int64   \n",
      " 22  불임_원인_-_정자_형태           36172 non-null  int64   \n",
      " 23  배아_생성_주요_이유             36172 non-null  object  \n",
      " 24  총_시술_횟수                 36172 non-null  int64   \n",
      " 25  클리닉_내_총_시술_횟수           36172 non-null  int64   \n",
      " 26  IVF_시술_횟수               36172 non-null  int64   \n",
      " 27  DI_시술_횟수                36172 non-null  int64   \n",
      " 28  총_임신_횟수                 36172 non-null  int64   \n",
      " 29  IVF_임신_횟수               36172 non-null  int64   \n",
      " 30  DI_임신_횟수                36172 non-null  int64   \n",
      " 31  총_출산_횟수                 36172 non-null  int64   \n",
      " 32  IVF_출산_횟수               36172 non-null  int64   \n",
      " 33  DI_출산_횟수                36172 non-null  int64   \n",
      " 34  총_생성_배아_수               35193 non-null  float64 \n",
      " 35  미세주입된_난자_수              35193 non-null  float64 \n",
      " 36  미세주입에서_생성된_배아_수         35193 non-null  float64 \n",
      " 37  이식된_배아_수                35193 non-null  float64 \n",
      " 38  미세주입_배아_이식_수            35193 non-null  float64 \n",
      " 39  저장된_배아_수                35193 non-null  float64 \n",
      " 40  미세주입_후_저장된_배아_수         35193 non-null  float64 \n",
      " 41  해동된_배아_수                35193 non-null  float64 \n",
      " 42  해동_난자_수                 35193 non-null  float64 \n",
      " 43  수집된_신선_난자_수             35193 non-null  float64 \n",
      " 44  저장된_신선_난자_수             35193 non-null  float64 \n",
      " 45  혼합된_난자_수                35193 non-null  float64 \n",
      " 46  파트너_정자와_혼합된_난자_수        35193 non-null  float64 \n",
      " 47  기증자_정자와_혼합된_난자_수        35193 non-null  float64 \n",
      " 48  난자_출처                   36172 non-null  object  \n",
      " 49  정자_출처                   36172 non-null  object  \n",
      " 50  난자_기증자_나이               36172 non-null  object  \n",
      " 51  정자_기증자_나이               36172 non-null  object  \n",
      " 52  동결_배아_사용_여부             35193 non-null  float64 \n",
      " 53  신선_배아_사용_여부             35193 non-null  float64 \n",
      " 54  기증_배아_사용_여부             35193 non-null  float64 \n",
      " 55  대리모_여부                  35193 non-null  float64 \n",
      " 56  PGD_시술_여부               36172 non-null  float64 \n",
      " 57  PGS_시술_여부               36172 non-null  float64 \n",
      " 58  난자_채취_경과일               36172 non-null  float64 \n",
      " 59  난자_해동_경과일               36172 non-null  float64 \n",
      " 60  난자_혼합_경과일               36172 non-null  float64 \n",
      " 61  배아_이식_경과일               36172 non-null  float64 \n",
      " 62  배아_해동_경과일               36172 non-null  float64 \n",
      " 63  임신_성공_여부                36172 non-null  int64   \n",
      " 64  변환된_특정_시술_유형            36171 non-null  object  \n",
      " 65  특정_시술_유형_ICSI_더미        36172 non-null  int64   \n",
      " 66  특정_시술_유형_IVF_더미         36172 non-null  int64   \n",
      " 67  특정_시술_유형_AH_더미          36172 non-null  int64   \n",
      " 68  특정_시술_유형_BLASTOCYST_더미  36172 non-null  int64   \n",
      " 69  배아_생성_주요_이유_현재시술용       36172 non-null  int32   \n",
      " 70  배아_생성_주요_이유_기증용         36172 non-null  int32   \n",
      " 71  배아_생성_주요_이유_난자저장용       36172 non-null  int32   \n",
      " 72  배아_생성_주요_이유_배아저장용       36172 non-null  int32   \n",
      " 73  IVF_임신_시술_비율            36172 non-null  float64 \n",
      " 74  IVF_출산_임신_비율            36172 non-null  float64 \n",
      " 75  DI_임신_시술_비율             36172 non-null  float64 \n",
      " 76  DI_출산_임신_비율             36172 non-null  float64 \n",
      " 77  임신_성공률                  36172 non-null  float64 \n",
      " 78  출산_성공률                  36172 non-null  float64 \n",
      " 79  임신_성공율                  36172 non-null  float64 \n",
      " 80  ICSI_효율성                36172 non-null  float64 \n",
      " 81  저장_배아_비율                36172 non-null  float64 \n",
      " 82  해동_난자_비율                36172 non-null  float64 \n",
      " 83  생성_배아_유지율               36172 non-null  float64 \n",
      " 84  파트너_정자_사용_비율            36172 non-null  float64 \n",
      " 85  기증자_나이_더미               36172 non-null  int32   \n",
      " 86  채취_해동_차이                36172 non-null  object  \n",
      " 87  해동_혼합_차이                36172 non-null  object  \n",
      " 88  혼합_이식_차이                36172 non-null  object  \n",
      " 89  이식_해동_차이                36172 non-null  object  \n",
      "dtypes: category(1), float64(40), int32(5), int64(30), object(14)\n",
      "memory usage: 24.2+ MB\n"
     ]
    }
   ],
   "source": [
    "train.info()"
   ]
  },
  {
   "cell_type": "code",
   "execution_count": 160,
   "metadata": {},
   "outputs": [
    {
     "name": "stdout",
     "output_type": "stream",
     "text": [
      "<class 'pandas.core.frame.DataFrame'>\n",
      "Int64Index: 12560 entries, 0 to 12559\n",
      "Data columns (total 89 columns):\n",
      " #   Column                  Non-Null Count  Dtype   \n",
      "---  ------                  --------------  -----   \n",
      " 0   ID                      12560 non-null  object  \n",
      " 1   시술_당시_나이                12560 non-null  object  \n",
      " 2   임신_시도_또는_마지막_임신_경과_연수   12560 non-null  category\n",
      " 3   시술_유형                   12560 non-null  object  \n",
      " 4   배란_자극_여부                12560 non-null  int64   \n",
      " 5   배란_유도_유형                12560 non-null  object  \n",
      " 6   단일_배아_이식_여부             12201 non-null  float64 \n",
      " 7   착상_전_유전_검사_사용_여부        12560 non-null  float64 \n",
      " 8   착상_전_유전_진단_사용_여부        12201 non-null  float64 \n",
      " 9   남성_주_불임_원인              12560 non-null  int64   \n",
      " 10  남성_부_불임_원인              12560 non-null  int64   \n",
      " 11  여성_주_불임_원인              12560 non-null  int64   \n",
      " 12  여성_부_불임_원인              12560 non-null  int64   \n",
      " 13  부부_주_불임_원인              12560 non-null  int64   \n",
      " 14  부부_부_불임_원인              12560 non-null  int64   \n",
      " 15  불명확_불임_원인               12560 non-null  int64   \n",
      " 16  불임_원인_-_난관_질환           12560 non-null  int64   \n",
      " 17  불임_원인_-_남성_요인           12560 non-null  int64   \n",
      " 18  불임_원인_-_배란_장애           12560 non-null  int64   \n",
      " 19  불임_원인_-_자궁경부_문제         12560 non-null  int64   \n",
      " 20  불임_원인_-_자궁내막증           12560 non-null  int64   \n",
      " 21  불임_원인_-_정자_농도           12560 non-null  int64   \n",
      " 22  불임_원인_-_정자_형태           12560 non-null  int64   \n",
      " 23  배아_생성_주요_이유             12560 non-null  object  \n",
      " 24  총_시술_횟수                 12560 non-null  int64   \n",
      " 25  클리닉_내_총_시술_횟수           12560 non-null  int64   \n",
      " 26  IVF_시술_횟수               12560 non-null  int64   \n",
      " 27  DI_시술_횟수                12560 non-null  int64   \n",
      " 28  총_임신_횟수                 12560 non-null  int64   \n",
      " 29  IVF_임신_횟수               12560 non-null  int64   \n",
      " 30  DI_임신_횟수                12560 non-null  int64   \n",
      " 31  총_출산_횟수                 12560 non-null  int64   \n",
      " 32  IVF_출산_횟수               12560 non-null  int64   \n",
      " 33  DI_출산_횟수                12560 non-null  int64   \n",
      " 34  총_생성_배아_수               12201 non-null  float64 \n",
      " 35  미세주입된_난자_수              12201 non-null  float64 \n",
      " 36  미세주입에서_생성된_배아_수         12201 non-null  float64 \n",
      " 37  이식된_배아_수                12201 non-null  float64 \n",
      " 38  미세주입_배아_이식_수            12201 non-null  float64 \n",
      " 39  저장된_배아_수                12201 non-null  float64 \n",
      " 40  미세주입_후_저장된_배아_수         12201 non-null  float64 \n",
      " 41  해동된_배아_수                12201 non-null  float64 \n",
      " 42  해동_난자_수                 12201 non-null  float64 \n",
      " 43  수집된_신선_난자_수             12201 non-null  float64 \n",
      " 44  저장된_신선_난자_수             12201 non-null  float64 \n",
      " 45  혼합된_난자_수                12201 non-null  float64 \n",
      " 46  파트너_정자와_혼합된_난자_수        12201 non-null  float64 \n",
      " 47  기증자_정자와_혼합된_난자_수        12201 non-null  float64 \n",
      " 48  난자_출처                   12560 non-null  object  \n",
      " 49  정자_출처                   12560 non-null  object  \n",
      " 50  난자_기증자_나이               12560 non-null  object  \n",
      " 51  정자_기증자_나이               12560 non-null  object  \n",
      " 52  동결_배아_사용_여부             12201 non-null  float64 \n",
      " 53  신선_배아_사용_여부             12201 non-null  float64 \n",
      " 54  기증_배아_사용_여부             12201 non-null  float64 \n",
      " 55  대리모_여부                  12201 non-null  float64 \n",
      " 56  PGD_시술_여부               12560 non-null  float64 \n",
      " 57  PGS_시술_여부               12560 non-null  float64 \n",
      " 58  난자_채취_경과일               12560 non-null  float64 \n",
      " 59  난자_해동_경과일               12560 non-null  float64 \n",
      " 60  난자_혼합_경과일               12560 non-null  float64 \n",
      " 61  배아_이식_경과일               12560 non-null  float64 \n",
      " 62  배아_해동_경과일               12560 non-null  float64 \n",
      " 63  변환된_특정_시술_유형            12560 non-null  object  \n",
      " 64  특정_시술_유형_ICSI_더미        12560 non-null  int64   \n",
      " 65  특정_시술_유형_IVF_더미         12560 non-null  int64   \n",
      " 66  특정_시술_유형_AH_더미          12560 non-null  int64   \n",
      " 67  특정_시술_유형_BLASTOCYST_더미  12560 non-null  int64   \n",
      " 68  배아_생성_주요_이유_현재시술용       12560 non-null  int32   \n",
      " 69  배아_생성_주요_이유_기증용         12560 non-null  int32   \n",
      " 70  배아_생성_주요_이유_난자저장용       12560 non-null  int32   \n",
      " 71  배아_생성_주요_이유_배아저장용       12560 non-null  int32   \n",
      " 72  IVF_임신_시술_비율            12560 non-null  float64 \n",
      " 73  IVF_출산_임신_비율            12560 non-null  float64 \n",
      " 74  DI_임신_시술_비율             12560 non-null  float64 \n",
      " 75  DI_출산_임신_비율             12560 non-null  float64 \n",
      " 76  임신_성공률                  12560 non-null  float64 \n",
      " 77  출산_성공률                  12560 non-null  float64 \n",
      " 78  임신_성공율                  12560 non-null  float64 \n",
      " 79  ICSI_효율성                12560 non-null  float64 \n",
      " 80  저장_배아_비율                12560 non-null  float64 \n",
      " 81  해동_난자_비율                12560 non-null  float64 \n",
      " 82  생성_배아_유지율               12560 non-null  float64 \n",
      " 83  파트너_정자_사용_비율            12560 non-null  float64 \n",
      " 84  기증자_나이_더미               12560 non-null  int32   \n",
      " 85  채취_해동_차이                12560 non-null  object  \n",
      " 86  해동_혼합_차이                12560 non-null  object  \n",
      " 87  혼합_이식_차이                12560 non-null  object  \n",
      " 88  이식_해동_차이                12560 non-null  object  \n",
      "dtypes: category(1), float64(40), int32(5), int64(29), object(14)\n",
      "memory usage: 8.3+ MB\n"
     ]
    }
   ],
   "source": [
    "test.info()"
   ]
  },
  {
   "cell_type": "markdown",
   "metadata": {},
   "source": [
    "## 데이터 저장"
   ]
  },
  {
   "cell_type": "code",
   "execution_count": 161,
   "metadata": {},
   "outputs": [],
   "source": [
    "# CSV 파일 저장\n",
    "train.to_csv('../data/train_dataset_25_TRVNRY.csv', index=False, encoding='utf-8-sig')\n",
    "test.to_csv('../data/test_dataset_25_TRVNRY.csv', index=False, encoding='utf-8-sig')"
   ]
  },
  {
   "cell_type": "markdown",
   "metadata": {},
   "source": [
    "."
   ]
  }
 ],
 "metadata": {
  "kernelspec": {
   "display_name": "Python 3",
   "language": "python",
   "name": "python3"
  },
  "language_info": {
   "codemirror_mode": {
    "name": "ipython",
    "version": 3
   },
   "file_extension": ".py",
   "mimetype": "text/x-python",
   "name": "python",
   "nbconvert_exporter": "python",
   "pygments_lexer": "ipython3",
   "version": "3.7.8"
  }
 },
 "nbformat": 4,
 "nbformat_minor": 2
}
