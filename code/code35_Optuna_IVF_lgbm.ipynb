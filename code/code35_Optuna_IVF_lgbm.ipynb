{
 "cells": [
  {
   "cell_type": "markdown",
   "metadata": {},
   "source": [
    "## 난임 환자 대상 임신 성공 여부 예측"
   ]
  },
  {
   "cell_type": "markdown",
   "metadata": {},
   "source": [
    "### LGAimers 6th 온라인 해커톤"
   ]
  },
  {
   "cell_type": "markdown",
   "metadata": {},
   "source": [
    "Import"
   ]
  },
  {
   "cell_type": "code",
   "execution_count": 9,
   "metadata": {},
   "outputs": [],
   "source": [
    "import pandas as pd\n",
    "import lightgbm as lgb\n",
    "from sklearn.preprocessing import OrdinalEncoder\n",
    "from sklearn.model_selection import train_test_split\n",
    "from sklearn.metrics import accuracy_score, f1_score, roc_auc_score, confusion_matrix, ConfusionMatrixDisplay\n",
    "import matplotlib.pyplot as plt"
   ]
  },
  {
   "cell_type": "markdown",
   "metadata": {},
   "source": [
    "### Data Load"
   ]
  },
  {
   "cell_type": "code",
   "execution_count": 10,
   "metadata": {},
   "outputs": [],
   "source": [
    "# 데이터 로드\n",
    "IVF_train = pd.read_csv('../data/IVF_train_dataset_35.csv')\n",
    "IVF_test = pd.read_csv('../data/IVF_test_dataset_35.csv')"
   ]
  },
  {
   "cell_type": "code",
   "execution_count": 11,
   "metadata": {},
   "outputs": [],
   "source": [
    "# ID 열을 제외한 특성과 타겟 변수 분리\n",
    "IVF_X = IVF_train.drop(['임신_성공_여부', 'ID'], axis=1)\n",
    "IVF_y = IVF_train['임신_성공_여부']"
   ]
  },
  {
   "cell_type": "code",
   "execution_count": 12,
   "metadata": {},
   "outputs": [
    {
     "name": "stdout",
     "output_type": "stream",
     "text": [
      "IVF_X shape: (250052, 99)\n",
      "IVF_test shape: (87891, 99)\n"
     ]
    }
   ],
   "source": [
    "print(f\"IVF_X shape: {IVF_X.shape}\")\n",
    "print(f\"IVF_test shape: {IVF_test.drop('ID', axis=1).shape}\")"
   ]
  },
  {
   "cell_type": "markdown",
   "metadata": {},
   "source": [
    "### 인코딩 "
   ]
  },
  {
   "cell_type": "code",
   "execution_count": 13,
   "metadata": {},
   "outputs": [],
   "source": [
    "IVF_categorical_columns = [\n",
    "    \"시술_당시_나이\",\n",
    "    \"배란_유도_유형\",\n",
    "    \"난자_출처\",\n",
    "    \"정자_출처\",\n",
    "    \"난자_기증자_나이\",\n",
    "    \"정자_기증자_나이\"\n",
    "]"
   ]
  },
  {
   "cell_type": "code",
   "execution_count": 14,
   "metadata": {},
   "outputs": [],
   "source": [
    "# 모든 범주형 변수를 문자열로 변환\n",
    "IVF_X[IVF_categorical_columns] = IVF_X[IVF_categorical_columns].astype(str)\n",
    "IVF_test[IVF_categorical_columns] = IVF_test[IVF_categorical_columns].astype(str)\n",
    "\n",
    "# OrdinalEncoder를 사용하여 범주형 변수 인코딩\n",
    "IVF_encoder = OrdinalEncoder(handle_unknown='use_encoded_value', unknown_value=-1)\n",
    "\n",
    "IVF_X[IVF_categorical_columns] = IVF_encoder.fit_transform(IVF_X[IVF_categorical_columns])\n",
    "IVF_test[IVF_categorical_columns] = IVF_encoder.transform(IVF_test[IVF_categorical_columns])"
   ]
  },
  {
   "cell_type": "markdown",
   "metadata": {},
   "source": [
    "## Modeling"
   ]
  },
  {
   "cell_type": "code",
   "execution_count": null,
   "metadata": {},
   "outputs": [
    {
     "ename": "",
     "evalue": "",
     "output_type": "error",
     "traceback": [
      "\u001b[1;31m현재 셀 또는 이전 셀에서 코드를 실행하는 동안 Kernel이 충돌했습니다. \n",
      "\u001b[1;31m셀의 코드를 검토하여 가능한 오류 원인을 식별하세요. \n",
      "\u001b[1;31m자세한 내용을 보려면 <a href='https://aka.ms/vscodeJupyterKernelCrash'>여기</a>를 클릭하세요. \n",
      "\u001b[1;31m자세한 내용은 Jupyter <a href='command:jupyter.viewOutput'>로그</a>를 참조하세요."
     ]
    }
   ],
   "source": [
    "# 데이터 분할\n",
    "IVF_X_train, IVF_X_test, IVF_y_train, IVF_y_test = train_test_split(IVF_X, IVF_y, test_size=0.2, random_state=42)"
   ]
  },
  {
   "cell_type": "markdown",
   "metadata": {},
   "source": [
    "### IVF 데이터"
   ]
  },
  {
   "cell_type": "code",
   "execution_count": null,
   "metadata": {},
   "outputs": [
    {
     "name": "stderr",
     "output_type": "stream",
     "text": [
      "[I 2025-02-17 14:38:20,520] A new study created in memory with name: no-name-415562d0-b9f1-48aa-ab9a-f28bff12d083\n",
      "[I 2025-02-17 14:39:19,190] Trial 0 finished with value: 0.6950164426818062 and parameters: {'n_estimators': 2032, 'num_leaves': 3211, 'learning_rate': 0.14705561141822054, 'min_child_samples': 358, 'reg_alpha': 0.14414841578653803, 'reg_lambda': 48.61342614046789}. Best is trial 0 with value: 0.6950164426818062.\n",
      "[I 2025-02-17 14:39:26,576] Trial 1 finished with value: 0.7369895261627358 and parameters: {'n_estimators': 3699, 'num_leaves': 3164, 'learning_rate': 0.3023127698229022, 'min_child_samples': 390, 'reg_alpha': 183.42366758340293, 'reg_lambda': 183.20638608424156}. Best is trial 1 with value: 0.7369895261627358.\n",
      "[I 2025-02-17 14:39:34,423] Trial 2 finished with value: 0.7379747221407227 and parameters: {'n_estimators': 3615, 'num_leaves': 4877, 'learning_rate': 0.31158111665331045, 'min_child_samples': 84, 'reg_alpha': 104.39032392780786, 'reg_lambda': 125.19122254421129}. Best is trial 2 with value: 0.7379747221407227.\n",
      "[I 2025-02-17 14:40:26,274] Trial 3 finished with value: 0.692979414060212 and parameters: {'n_estimators': 2218, 'num_leaves': 3561, 'learning_rate': 0.4566523343874478, 'min_child_samples': 165, 'reg_alpha': 3.3278383869523642, 'reg_lambda': 155.66713636289478}. Best is trial 2 with value: 0.7379747221407227.\n",
      "[I 2025-02-17 14:40:36,004] Trial 4 finished with value: 0.7389674662651724 and parameters: {'n_estimators': 924, 'num_leaves': 2612, 'learning_rate': 0.033035409685009245, 'min_child_samples': 325, 'reg_alpha': 27.910283859673157, 'reg_lambda': 68.12996720884799}. Best is trial 4 with value: 0.7389674662651724.\n",
      "[I 2025-02-17 14:40:41,624] Trial 5 finished with value: 0.7376189872895561 and parameters: {'n_estimators': 2703, 'num_leaves': 3657, 'learning_rate': 0.25569559957602006, 'min_child_samples': 292, 'reg_alpha': 136.60296185465904, 'reg_lambda': 165.68218221134654}. Best is trial 4 with value: 0.7389674662651724.\n",
      "[I 2025-02-17 14:40:48,278] Trial 6 finished with value: 0.7391871601313944 and parameters: {'n_estimators': 2274, 'num_leaves': 2787, 'learning_rate': 0.07597842722747074, 'min_child_samples': 266, 'reg_alpha': 41.7811005300377, 'reg_lambda': 97.77150724089638}. Best is trial 6 with value: 0.7391871601313944.\n",
      "[I 2025-02-17 14:40:57,154] Trial 7 finished with value: 0.737277527100435 and parameters: {'n_estimators': 4375, 'num_leaves': 4522, 'learning_rate': 0.4605067071510544, 'min_child_samples': 342, 'reg_alpha': 30.139290437618428, 'reg_lambda': 6.677506398313704}. Best is trial 6 with value: 0.7391871601313944.\n",
      "[I 2025-02-17 14:41:06,123] Trial 8 finished with value: 0.7380029405156532 and parameters: {'n_estimators': 4218, 'num_leaves': 4592, 'learning_rate': 0.22549928490323173, 'min_child_samples': 248, 'reg_alpha': 80.8279503566395, 'reg_lambda': 46.21351278012571}. Best is trial 6 with value: 0.7391871601313944.\n",
      "[I 2025-02-17 14:41:09,893] Trial 9 finished with value: 0.7382544681414808 and parameters: {'n_estimators': 1657, 'num_leaves': 2397, 'learning_rate': 0.14273124838140458, 'min_child_samples': 100, 'reg_alpha': 93.95364459488663, 'reg_lambda': 25.63350290404418}. Best is trial 6 with value: 0.7391871601313944.\n",
      "[I 2025-02-17 14:41:17,208] Trial 10 finished with value: 0.7279114946481742 and parameters: {'n_estimators': 840, 'num_leaves': 1270, 'learning_rate': 0.00036810648996150885, 'min_child_samples': 455, 'reg_alpha': 54.785330340349546, 'reg_lambda': 99.45546712205706}. Best is trial 6 with value: 0.7391871601313944.\n",
      "[I 2025-02-17 14:41:25,780] Trial 11 finished with value: 0.7383957583768286 and parameters: {'n_estimators': 736, 'num_leaves': 2196, 'learning_rate': 0.007970467648844251, 'min_child_samples': 261, 'reg_alpha': 43.91796965162425, 'reg_lambda': 90.62271572452279}. Best is trial 6 with value: 0.7391871601313944.\n",
      "[I 2025-02-17 14:41:30,262] Trial 12 finished with value: 0.7387703604621415 and parameters: {'n_estimators': 1431, 'num_leaves': 2083, 'learning_rate': 0.08541799167609451, 'min_child_samples': 168, 'reg_alpha': 61.771310304293834, 'reg_lambda': 79.10885695329371}. Best is trial 6 with value: 0.7391871601313944.\n",
      "[I 2025-02-17 14:41:42,008] Trial 13 finished with value: 0.7384585593730018 and parameters: {'n_estimators': 3030, 'num_leaves': 2608, 'learning_rate': 0.09204263321527924, 'min_child_samples': 488, 'reg_alpha': 23.280929926994535, 'reg_lambda': 132.14331710482094}. Best is trial 6 with value: 0.7391871601313944.\n",
      "[I 2025-02-17 14:41:46,417] Trial 14 finished with value: 0.7377707269575384 and parameters: {'n_estimators': 1383, 'num_leaves': 1598, 'learning_rate': 0.06837376829973446, 'min_child_samples': 197, 'reg_alpha': 126.47552794550944, 'reg_lambda': 70.08902749579985}. Best is trial 6 with value: 0.7391871601313944.\n",
      "[I 2025-02-17 14:41:57,732] Trial 15 finished with value: 0.7383106699905182 and parameters: {'n_estimators': 4990, 'num_leaves': 2842, 'learning_rate': 0.17037496808129327, 'min_child_samples': 14, 'reg_alpha': 71.04801442029543, 'reg_lambda': 121.73651584139216}. Best is trial 6 with value: 0.7391871601313944.\n",
      "[I 2025-02-17 14:42:07,279] Trial 16 finished with value: 0.7387348090055021 and parameters: {'n_estimators': 2644, 'num_leaves': 3714, 'learning_rate': 0.04978678935622177, 'min_child_samples': 415, 'reg_alpha': 23.665908900800634, 'reg_lambda': 59.976828118697625}. Best is trial 6 with value: 0.7391871601313944.\n",
      "[I 2025-02-17 14:42:09,422] Trial 17 finished with value: 0.7385611630087185 and parameters: {'n_estimators': 654, 'num_leaves': 1799, 'learning_rate': 0.3896065463566666, 'min_child_samples': 310, 'reg_alpha': 41.74159936268549, 'reg_lambda': 108.36475941644589}. Best is trial 6 with value: 0.7391871601313944.\n",
      "[I 2025-02-17 14:42:12,455] Trial 18 finished with value: 0.7371981295780762 and parameters: {'n_estimators': 1175, 'num_leaves': 2833, 'learning_rate': 0.19389943965647943, 'min_child_samples': 218, 'reg_alpha': 178.43678870167085, 'reg_lambda': 34.32431521575994}. Best is trial 6 with value: 0.7391871601313944.\n",
      "[I 2025-02-17 14:42:17,646] Trial 19 finished with value: 0.7377897643642815 and parameters: {'n_estimators': 1963, 'num_leaves': 4137, 'learning_rate': 0.11318965343445592, 'min_child_samples': 313, 'reg_alpha': 128.80209003377308, 'reg_lambda': 80.65091210926974}. Best is trial 6 with value: 0.7391871601313944.\n",
      "[I 2025-02-17 14:42:34,745] Trial 20 finished with value: 0.7359226462943746 and parameters: {'n_estimators': 3320, 'num_leaves': 1838, 'learning_rate': 0.04336839357971728, 'min_child_samples': 425, 'reg_alpha': 14.737194115017616, 'reg_lambda': 1.4388739661533663}. Best is trial 6 with value: 0.7391871601313944.\n",
      "[I 2025-02-17 14:42:38,544] Trial 21 finished with value: 0.7385302709404146 and parameters: {'n_estimators': 1265, 'num_leaves': 2166, 'learning_rate': 0.09249148180938548, 'min_child_samples': 144, 'reg_alpha': 65.93683058346065, 'reg_lambda': 75.94393582246346}. Best is trial 6 with value: 0.7391871601313944.\n",
      "[I 2025-02-17 14:42:46,494] Trial 22 finished with value: 0.7390218515478411 and parameters: {'n_estimators': 2349, 'num_leaves': 2476, 'learning_rate': 0.031605238226902255, 'min_child_samples': 253, 'reg_alpha': 49.85116437654824, 'reg_lambda': 103.22300832023075}. Best is trial 6 with value: 0.7391871601313944.\n",
      "[I 2025-02-17 14:42:55,367] Trial 23 finished with value: 0.739204620048607 and parameters: {'n_estimators': 2373, 'num_leaves': 2650, 'learning_rate': 0.033446110052524784, 'min_child_samples': 266, 'reg_alpha': 39.99396744899371, 'reg_lambda': 143.35722461601853}. Best is trial 23 with value: 0.739204620048607.\n",
      "[I 2025-02-17 14:43:17,323] Trial 24 finished with value: 0.7390328344663459 and parameters: {'n_estimators': 2363, 'num_leaves': 3265, 'learning_rate': 0.005098153154789127, 'min_child_samples': 261, 'reg_alpha': 48.96763136021672, 'reg_lambda': 145.59751503745488}. Best is trial 23 with value: 0.739204620048607.\n",
      "[I 2025-02-17 14:43:22,272] Trial 25 finished with value: 0.7384112931512917 and parameters: {'n_estimators': 2443, 'num_leaves': 3362, 'learning_rate': 0.12639998336418518, 'min_child_samples': 274, 'reg_alpha': 83.93705340603009, 'reg_lambda': 147.9013770187053}. Best is trial 23 with value: 0.739204620048607.\n",
      "[I 2025-02-17 14:43:40,206] Trial 26 finished with value: 0.7381538334966671 and parameters: {'n_estimators': 3026, 'num_leaves': 3977, 'learning_rate': 0.0059853684257072, 'min_child_samples': 221, 'reg_alpha': 104.54404119814583, 'reg_lambda': 199.30902425794696}. Best is trial 23 with value: 0.739204620048607.\n",
      "[I 2025-02-17 14:43:47,430] Trial 27 finished with value: 0.7393908201894039 and parameters: {'n_estimators': 1770, 'num_leaves': 2959, 'learning_rate': 0.06475795790447861, 'min_child_samples': 362, 'reg_alpha': 37.57691417714255, 'reg_lambda': 136.01046986037497}. Best is trial 27 with value: 0.7393908201894039.\n",
      "[I 2025-02-17 14:43:51,920] Trial 28 finished with value: 0.739106105775227 and parameters: {'n_estimators': 1796, 'num_leaves': 2872, 'learning_rate': 0.21753921907783552, 'min_child_samples': 363, 'reg_alpha': 36.48983732336855, 'reg_lambda': 171.4534845789251}. Best is trial 27 with value: 0.7393908201894039.\n",
      "[I 2025-02-17 14:44:40,092] Trial 29 finished with value: 0.7028064534727115 and parameters: {'n_estimators': 1896, 'num_leaves': 3155, 'learning_rate': 0.17666782331519243, 'min_child_samples': 372, 'reg_alpha': 1.5239936457241328, 'reg_lambda': 116.81322726385866}. Best is trial 27 with value: 0.7393908201894039.\n",
      "[I 2025-02-17 14:44:51,179] Trial 30 finished with value: 0.735303468603607 and parameters: {'n_estimators': 2132, 'num_leaves': 3012, 'learning_rate': 0.12180542280695017, 'min_child_samples': 344, 'reg_alpha': 13.018920210351759, 'reg_lambda': 137.44793315802744}. Best is trial 27 with value: 0.7393908201894039.\n",
      "[I 2025-02-17 14:44:55,426] Trial 31 finished with value: 0.7386005198586993 and parameters: {'n_estimators': 1648, 'num_leaves': 2816, 'learning_rate': 0.2879209728830716, 'min_child_samples': 402, 'reg_alpha': 36.81209233756462, 'reg_lambda': 167.214062539858}. Best is trial 27 with value: 0.7393908201894039.\n",
      "[I 2025-02-17 14:44:59,652] Trial 32 finished with value: 0.738150736981811 and parameters: {'n_estimators': 1737, 'num_leaves': 3424, 'learning_rate': 0.38408973712944144, 'min_child_samples': 365, 'reg_alpha': 76.90589764627276, 'reg_lambda': 176.6019059162541}. Best is trial 27 with value: 0.7393908201894039.\n",
      "[I 2025-02-17 14:45:03,850] Trial 33 finished with value: 0.7392095206017878 and parameters: {'n_estimators': 1944, 'num_leaves': 2910, 'learning_rate': 0.2042949274509776, 'min_child_samples': 456, 'reg_alpha': 58.47786913520776, 'reg_lambda': 191.34310160594822}. Best is trial 27 with value: 0.7393908201894039.\n",
      "[I 2025-02-17 14:45:12,600] Trial 34 finished with value: 0.7389473691947143 and parameters: {'n_estimators': 3071, 'num_leaves': 3069, 'learning_rate': 0.15420325520573339, 'min_child_samples': 459, 'reg_alpha': 54.18967547478242, 'reg_lambda': 192.52646529148222}. Best is trial 27 with value: 0.7393908201894039.\n",
      "[I 2025-02-17 14:45:18,601] Trial 35 finished with value: 0.738792843080963 and parameters: {'n_estimators': 2104, 'num_leaves': 2428, 'learning_rate': 0.07013466039419024, 'min_child_samples': 499, 'reg_alpha': 63.638972931337854, 'reg_lambda': 157.82128044284494}. Best is trial 27 with value: 0.7393908201894039.\n",
      "[I 2025-02-17 14:45:28,398] Trial 36 finished with value: 0.7290085963344899 and parameters: {'n_estimators': 2636, 'num_leaves': 2702, 'learning_rate': 0.3458929896603759, 'min_child_samples': 435, 'reg_alpha': 11.763443731016736, 'reg_lambda': 187.93431924918838}. Best is trial 27 with value: 0.7393908201894039.\n",
      "[I 2025-02-17 14:45:33,875] Trial 37 finished with value: 0.7382610787726569 and parameters: {'n_estimators': 2506, 'num_leaves': 3130, 'learning_rate': 0.268939269833533, 'min_child_samples': 388, 'reg_alpha': 99.29223737417001, 'reg_lambda': 112.42113232519151}. Best is trial 27 with value: 0.7393908201894039.\n",
      "[I 2025-02-17 14:45:40,004] Trial 38 finished with value: 0.7365987952648771 and parameters: {'n_estimators': 2857, 'num_leaves': 3808, 'learning_rate': 0.4985079201628244, 'min_child_samples': 289, 'reg_alpha': 197.21372350637097, 'reg_lambda': 133.7196615502741}. Best is trial 27 with value: 0.7393908201894039.\n",
      "[I 2025-02-17 14:45:50,985] Trial 39 finished with value: 0.7390644959653476 and parameters: {'n_estimators': 3514, 'num_leaves': 2337, 'learning_rate': 0.054629219335522367, 'min_child_samples': 233, 'reg_alpha': 31.308687252358396, 'reg_lambda': 153.15070355415196}. Best is trial 27 with value: 0.7393908201894039.\n",
      "[I 2025-02-17 14:45:55,019] Trial 40 finished with value: 0.7371576629522046 and parameters: {'n_estimators': 1034, 'num_leaves': 3483, 'learning_rate': 0.2314539170183775, 'min_child_samples': 327, 'reg_alpha': 20.483004233572622, 'reg_lambda': 96.67329290138284}. Best is trial 27 with value: 0.7393908201894039.\n",
      "[I 2025-02-17 14:45:59,714] Trial 41 finished with value: 0.7388258993688546 and parameters: {'n_estimators': 1897, 'num_leaves': 2907, 'learning_rate': 0.21869000123535992, 'min_child_samples': 385, 'reg_alpha': 38.679925553849145, 'reg_lambda': 179.11231341575706}. Best is trial 27 with value: 0.7393908201894039.\n",
      "[I 2025-02-17 14:46:04,620] Trial 42 finished with value: 0.738949548030353 and parameters: {'n_estimators': 1609, 'num_leaves': 2614, 'learning_rate': 0.19702662387595984, 'min_child_samples': 289, 'reg_alpha': 32.452058799721804, 'reg_lambda': 170.3355806012368}. Best is trial 27 with value: 0.7393908201894039.\n",
      "[I 2025-02-17 14:46:08,786] Trial 43 finished with value: 0.738380608839716 and parameters: {'n_estimators': 1506, 'num_leaves': 3258, 'learning_rate': 0.32205314633115395, 'min_child_samples': 463, 'reg_alpha': 53.4911142288406, 'reg_lambda': 163.93479382691896}. Best is trial 27 with value: 0.7393908201894039.\n",
      "[I 2025-02-17 14:46:14,190] Trial 44 finished with value: 0.7381621865699519 and parameters: {'n_estimators': 2237, 'num_leaves': 2707, 'learning_rate': 0.1448130016465578, 'min_child_samples': 345, 'reg_alpha': 86.34964467266883, 'reg_lambda': 140.55841544086067}. Best is trial 27 with value: 0.7393908201894039.\n",
      "[I 2025-02-17 14:46:36,574] Trial 45 finished with value: 0.7259133342828477 and parameters: {'n_estimators': 1937, 'num_leaves': 1979, 'learning_rate': 0.10577090144718007, 'min_child_samples': 185, 'reg_alpha': 7.61143172958446, 'reg_lambda': 128.73670107773012}. Best is trial 27 with value: 0.7393908201894039.\n",
      "[I 2025-02-17 14:46:46,309] Trial 46 finished with value: 0.7392664762214678 and parameters: {'n_estimators': 2227, 'num_leaves': 2971, 'learning_rate': 0.029872277655443313, 'min_child_samples': 360, 'reg_alpha': 43.21694990540068, 'reg_lambda': 183.5052966346296}. Best is trial 27 with value: 0.7393908201894039.\n",
      "[I 2025-02-17 14:46:54,037] Trial 47 finished with value: 0.7385731356426934 and parameters: {'n_estimators': 2843, 'num_leaves': 2290, 'learning_rate': 0.038207162963904674, 'min_child_samples': 307, 'reg_alpha': 70.74401330021081, 'reg_lambda': 197.88680462563104}. Best is trial 27 with value: 0.7393908201894039.\n",
      "[I 2025-02-17 14:47:01,765] Trial 48 finished with value: 0.7388168656051832 and parameters: {'n_estimators': 2159, 'num_leaves': 2508, 'learning_rate': 0.023144179181550817, 'min_child_samples': 441, 'reg_alpha': 61.457300067278524, 'reg_lambda': 186.5889853053254}. Best is trial 27 with value: 0.7393908201894039.\n",
      "[I 2025-02-17 14:47:09,594] Trial 49 finished with value: 0.739298907151167 and parameters: {'n_estimators': 2261, 'num_leaves': 3018, 'learning_rate': 0.07024812139715879, 'min_child_samples': 478, 'reg_alpha': 44.84762794375068, 'reg_lambda': 85.8425426407125}. Best is trial 27 with value: 0.7393908201894039.\n",
      "[I 2025-02-17 14:47:18,166] Trial 50 finished with value: 0.7385015253436357 and parameters: {'n_estimators': 2469, 'num_leaves': 3065, 'learning_rate': 0.06376664444026514, 'min_child_samples': 470, 'reg_alpha': 23.98561397434234, 'reg_lambda': 56.109585645253205}. Best is trial 27 with value: 0.7393908201894039.\n",
      "[I 2025-02-17 14:47:25,198] Trial 51 finished with value: 0.7391967994171887 and parameters: {'n_estimators': 2305, 'num_leaves': 3599, 'learning_rate': 0.08051532578413853, 'min_child_samples': 483, 'reg_alpha': 45.76143393148089, 'reg_lambda': 88.44028598210676}. Best is trial 27 with value: 0.7393908201894039.\n",
      "[I 2025-02-17 14:47:31,276] Trial 52 finished with value: 0.7392019421792186 and parameters: {'n_estimators': 2040, 'num_leaves': 4013, 'learning_rate': 0.08670503283912581, 'min_child_samples': 481, 'reg_alpha': 45.3675014711664, 'reg_lambda': 84.84399481206826}. Best is trial 27 with value: 0.7393908201894039.\n",
      "[I 2025-02-17 14:47:40,003] Trial 53 finished with value: 0.7388345009150107 and parameters: {'n_estimators': 2040, 'num_leaves': 4251, 'learning_rate': 0.02580546727016264, 'min_child_samples': 412, 'reg_alpha': 59.57572227558224, 'reg_lambda': 87.53250878945857}. Best is trial 27 with value: 0.7393908201894039.\n",
      "[I 2025-02-17 14:47:48,699] Trial 54 finished with value: 0.739410797199441 and parameters: {'n_estimators': 2579, 'num_leaves': 4520, 'learning_rate': 0.08872103983132928, 'min_child_samples': 443, 'reg_alpha': 44.64029140003123, 'reg_lambda': 120.24752341212003}. Best is trial 54 with value: 0.739410797199441.\n",
      "[I 2025-02-17 14:47:58,291] Trial 55 finished with value: 0.7389599066346692 and parameters: {'n_estimators': 2575, 'num_leaves': 1061, 'learning_rate': 0.05763605980149278, 'min_child_samples': 442, 'reg_alpha': 28.965080807773326, 'reg_lambda': 123.6553678485901}. Best is trial 54 with value: 0.739410797199441.\n",
      "[I 2025-02-17 14:48:09,578] Trial 56 finished with value: 0.7369779126660203 and parameters: {'n_estimators': 2796, 'num_leaves': 4977, 'learning_rate': 0.10902004517944458, 'min_child_samples': 400, 'reg_alpha': 18.150941622342632, 'reg_lambda': 160.76558655998178}. Best is trial 54 with value: 0.739410797199441.\n",
      "[I 2025-02-17 14:48:18,281] Trial 57 finished with value: 0.737293947190002 and parameters: {'n_estimators': 4306, 'num_leaves': 3319, 'learning_rate': 0.13418959637772768, 'min_child_samples': 421, 'reg_alpha': 155.9090155590153, 'reg_lambda': 116.77049809029643}. Best is trial 54 with value: 0.739410797199441.\n",
      "[I 2025-02-17 14:48:34,074] Trial 58 finished with value: 0.7385766549790318 and parameters: {'n_estimators': 3184, 'num_leaves': 4619, 'learning_rate': 0.017294900107610513, 'min_child_samples': 448, 'reg_alpha': 70.7409147492624, 'reg_lambda': 105.29868794996598}. Best is trial 54 with value: 0.739410797199441.\n",
      "[I 2025-02-17 14:48:42,995] Trial 59 finished with value: 0.7391313132436015 and parameters: {'n_estimators': 2691, 'num_leaves': 1492, 'learning_rate': 0.04069342498492122, 'min_child_samples': 103, 'reg_alpha': 41.39021121415648, 'reg_lambda': 150.4616310901556}. Best is trial 54 with value: 0.739410797199441.\n",
      "[I 2025-02-17 14:48:47,597] Trial 60 finished with value: 0.7388428028321163 and parameters: {'n_estimators': 1350, 'num_leaves': 2951, 'learning_rate': 0.09407700948865205, 'min_child_samples': 381, 'reg_alpha': 56.71360497224746, 'reg_lambda': 141.111734266322}. Best is trial 54 with value: 0.739410797199441.\n",
      "[I 2025-02-17 14:48:54,405] Trial 61 finished with value: 0.7392778255852575 and parameters: {'n_estimators': 2208, 'num_leaves': 4295, 'learning_rate': 0.07546923744681469, 'min_child_samples': 474, 'reg_alpha': 46.41001389633918, 'reg_lambda': 66.93068560725064}. Best is trial 54 with value: 0.739410797199441.\n",
      "[I 2025-02-17 14:49:01,296] Trial 62 finished with value: 0.7392199011301808 and parameters: {'n_estimators': 2259, 'num_leaves': 4725, 'learning_rate': 0.07743308758284496, 'min_child_samples': 499, 'reg_alpha': 50.65368889077862, 'reg_lambda': 66.18938427426386}. Best is trial 54 with value: 0.739410797199441.\n",
      "[I 2025-02-17 14:49:09,080] Trial 63 finished with value: 0.7394702709559493 and parameters: {'n_estimators': 2236, 'num_leaves': 4710, 'learning_rate': 0.15887405417308348, 'min_child_samples': 492, 'reg_alpha': 50.17940084494314, 'reg_lambda': 40.040116647033514}. Best is trial 63 with value: 0.7394702709559493.\n",
      "[I 2025-02-17 14:49:18,938] Trial 64 finished with value: 0.7390237725145757 and parameters: {'n_estimators': 2256, 'num_leaves': 4431, 'learning_rate': 0.07441083582701324, 'min_child_samples': 500, 'reg_alpha': 49.924267573136696, 'reg_lambda': 40.52558100727658}. Best is trial 63 with value: 0.7394702709559493.\n",
      "[I 2025-02-17 14:49:25,450] Trial 65 finished with value: 0.7387833729237618 and parameters: {'n_estimators': 1770, 'num_leaves': 4830, 'learning_rate': 0.17052185071060555, 'min_child_samples': 474, 'reg_alpha': 33.67345932782051, 'reg_lambda': 21.523797477340565}. Best is trial 63 with value: 0.7394702709559493.\n",
      "[I 2025-02-17 14:49:35,668] Trial 66 finished with value: 0.7386027592465505 and parameters: {'n_estimators': 2523, 'num_leaves': 4731, 'learning_rate': 0.10192185965354489, 'min_child_samples': 490, 'reg_alpha': 26.566064614183123, 'reg_lambda': 63.301110155501576}. Best is trial 63 with value: 0.7394702709559493.\n",
      "[I 2025-02-17 14:49:41,276] Trial 67 finished with value: 0.7387279154493341 and parameters: {'n_estimators': 1558, 'num_leaves': 4365, 'learning_rate': 0.12124249312334023, 'min_child_samples': 466, 'reg_alpha': 67.90870676926517, 'reg_lambda': 57.650222777292214}. Best is trial 63 with value: 0.7394702709559493.\n",
      "[I 2025-02-17 14:49:48,580] Trial 68 finished with value: 0.7392722098895694 and parameters: {'n_estimators': 2169, 'num_leaves': 4691, 'learning_rate': 0.1586285694910819, 'min_child_samples': 423, 'reg_alpha': 48.752139324171054, 'reg_lambda': 74.64444089841298}. Best is trial 63 with value: 0.7394702709559493.\n",
      "[I 2025-02-17 14:49:57,748] Trial 69 finished with value: 0.7383614482405411 and parameters: {'n_estimators': 2920, 'num_leaves': 4539, 'learning_rate': 0.15740483044136974, 'min_child_samples': 430, 'reg_alpha': 78.74091736158886, 'reg_lambda': 76.05881125284102}. Best is trial 63 with value: 0.7394702709559493.\n",
      "[I 2025-02-17 14:50:09,945] Trial 70 finished with value: 0.7393082248838339 and parameters: {'n_estimators': 1799, 'num_leaves': 4185, 'learning_rate': 0.05188654222523488, 'min_child_samples': 405, 'reg_alpha': 42.725026929138195, 'reg_lambda': 50.86863719868788}. Best is trial 63 with value: 0.7394702709559493.\n",
      "[I 2025-02-17 14:50:27,484] Trial 71 finished with value: 0.7392871391419098 and parameters: {'n_estimators': 1792, 'num_leaves': 4336, 'learning_rate': 0.05443727789842236, 'min_child_samples': 408, 'reg_alpha': 38.59068801523637, 'reg_lambda': 20.673589173323712}. Best is trial 63 with value: 0.7394702709559493.\n",
      "[I 2025-02-17 14:50:43,392] Trial 72 finished with value: 0.7392898472874041 and parameters: {'n_estimators': 1712, 'num_leaves': 4237, 'learning_rate': 0.059241307106246324, 'min_child_samples': 408, 'reg_alpha': 35.5955430867058, 'reg_lambda': 20.08267949062749}. Best is trial 63 with value: 0.7394702709559493.\n",
      "[I 2025-02-17 14:50:58,367] Trial 73 finished with value: 0.7391445981901771 and parameters: {'n_estimators': 1102, 'num_leaves': 4208, 'learning_rate': 0.052217328394959885, 'min_child_samples': 405, 'reg_alpha': 37.33923522963414, 'reg_lambda': 16.04798678885993}. Best is trial 63 with value: 0.7394702709559493.\n",
      "[I 2025-02-17 14:51:13,172] Trial 74 finished with value: 0.7387817014739018 and parameters: {'n_estimators': 1766, 'num_leaves': 3867, 'learning_rate': 0.06709774717797772, 'min_child_samples': 443, 'reg_alpha': 27.700918303965455, 'reg_lambda': 33.00877329805921}. Best is trial 63 with value: 0.7394702709559493.\n",
      "[I 2025-02-17 14:51:28,187] Trial 75 finished with value: 0.7369498613316754 and parameters: {'n_estimators': 1435, 'num_leaves': 4444, 'learning_rate': 0.09263889444046794, 'min_child_samples': 404, 'reg_alpha': 17.753768120856066, 'reg_lambda': 10.49859042762487}. Best is trial 63 with value: 0.7394702709559493.\n",
      "[I 2025-02-17 14:51:56,092] Trial 76 finished with value: 0.7391961782350109 and parameters: {'n_estimators': 3916, 'num_leaves': 4038, 'learning_rate': 0.045447332645920456, 'min_child_samples': 430, 'reg_alpha': 32.98837945843879, 'reg_lambda': 47.893195724661894}. Best is trial 63 with value: 0.7394702709559493.\n",
      "[I 2025-02-17 14:52:19,473] Trial 77 finished with value: 0.7378923784400349 and parameters: {'n_estimators': 1693, 'num_leaves': 4312, 'learning_rate': 0.016551589824769807, 'min_child_samples': 451, 'reg_alpha': 112.63597714260011, 'reg_lambda': 28.64655229182015}. Best is trial 63 with value: 0.7394702709559493.\n",
      "[I 2025-02-17 14:53:01,361] Trial 78 finished with value: 0.735853572924211 and parameters: {'n_estimators': 1799, 'num_leaves': 4161, 'learning_rate': 0.0015771063754432407, 'min_child_samples': 375, 'reg_alpha': 56.332525811455454, 'reg_lambda': 42.01438102327541}. Best is trial 63 with value: 0.7394702709559493.\n",
      "[I 2025-02-17 14:53:06,964] Trial 79 finished with value: 0.7391935410817654 and parameters: {'n_estimators': 1338, 'num_leaves': 4963, 'learning_rate': 0.13195482959304058, 'min_child_samples': 391, 'reg_alpha': 43.65918342095881, 'reg_lambda': 51.54727744583226}. Best is trial 63 with value: 0.7394702709559493.\n",
      "[I 2025-02-17 14:53:15,941] Trial 80 finished with value: 0.7379370816327593 and parameters: {'n_estimators': 2391, 'num_leaves': 3770, 'learning_rate': 0.0577770198586426, 'min_child_samples': 7, 'reg_alpha': 89.22533527734979, 'reg_lambda': 38.329270103870044}. Best is trial 63 with value: 0.7394702709559493.\n",
      "[I 2025-02-17 14:53:23,772] Trial 81 finished with value: 0.7392166762028745 and parameters: {'n_estimators': 2058, 'num_leaves': 4688, 'learning_rate': 0.10901667376144646, 'min_child_samples': 419, 'reg_alpha': 47.23383323920082, 'reg_lambda': 69.95664457578181}. Best is trial 63 with value: 0.7394702709559493.\n",
      "[I 2025-02-17 14:53:32,431] Trial 82 finished with value: 0.739157347562875 and parameters: {'n_estimators': 1834, 'num_leaves': 4517, 'learning_rate': 0.07713422233457151, 'min_child_samples': 478, 'reg_alpha': 37.54055837528482, 'reg_lambda': 25.4000764952578}. Best is trial 63 with value: 0.7394702709559493.\n",
      "[I 2025-02-17 14:53:38,971] Trial 83 finished with value: 0.7386937055373979 and parameters: {'n_estimators': 1982, 'num_leaves': 4824, 'learning_rate': 0.17842887982604289, 'min_child_samples': 456, 'reg_alpha': 64.31797704278067, 'reg_lambda': 3.1434924076608084}. Best is trial 63 with value: 0.7394702709559493.\n",
      "[I 2025-02-17 14:53:44,791] Trial 84 finished with value: 0.7389717675602523 and parameters: {'n_estimators': 1501, 'num_leaves': 4090, 'learning_rate': 0.11876732090956327, 'min_child_samples': 416, 'reg_alpha': 53.511244604181556, 'reg_lambda': 95.16535235443934}. Best is trial 63 with value: 0.7394702709559493.\n",
      "[I 2025-02-17 14:54:36,261] Trial 85 finished with value: 0.7153760550043267 and parameters: {'n_estimators': 4989, 'num_leaves': 3904, 'learning_rate': 0.23988543262524537, 'min_child_samples': 394, 'reg_alpha': 6.3784420603307765, 'reg_lambda': 17.033543701807464}. Best is trial 63 with value: 0.7394702709559493.\n",
      "[I 2025-02-17 14:54:47,001] Trial 86 finished with value: 0.7382778809675635 and parameters: {'n_estimators': 2141, 'num_leaves': 4321, 'learning_rate': 0.09836915169715857, 'min_child_samples': 432, 'reg_alpha': 21.37262346095011, 'reg_lambda': 53.27442120860712}. Best is trial 63 with value: 0.7394702709559493.\n",
      "[I 2025-02-17 14:54:55,532] Trial 87 finished with value: 0.7391650282978027 and parameters: {'n_estimators': 1640, 'num_leaves': 4564, 'learning_rate': 0.06230384036883138, 'min_child_samples': 466, 'reg_alpha': 49.66528715911858, 'reg_lambda': 81.8348118767198}. Best is trial 63 with value: 0.7394702709559493.\n",
      "[I 2025-02-17 14:55:05,207] Trial 88 finished with value: 0.7393693210220302 and parameters: {'n_estimators': 1918, 'num_leaves': 4395, 'learning_rate': 0.042870707210316175, 'min_child_samples': 490, 'reg_alpha': 41.44001008671766, 'reg_lambda': 62.73473522148282}. Best is trial 63 with value: 0.7394702709559493.\n",
      "[I 2025-02-17 14:55:15,888] Trial 89 finished with value: 0.7390592456709406 and parameters: {'n_estimators': 1856, 'num_leaves': 4421, 'learning_rate': 0.04435424732902337, 'min_child_samples': 491, 'reg_alpha': 30.951901172345462, 'reg_lambda': 32.586296487415574}. Best is trial 63 with value: 0.7394702709559493.\n",
      "[I 2025-02-17 14:55:27,410] Trial 90 finished with value: 0.738524807669261 and parameters: {'n_estimators': 1266, 'num_leaves': 4142, 'learning_rate': 0.015689044558564333, 'min_child_samples': 473, 'reg_alpha': 74.71799403454953, 'reg_lambda': 44.01010166947321}. Best is trial 63 with value: 0.7394702709559493.\n",
      "[I 2025-02-17 14:55:35,917] Trial 91 finished with value: 0.7395394737825667 and parameters: {'n_estimators': 2355, 'num_leaves': 4642, 'learning_rate': 0.08488486147890797, 'min_child_samples': 452, 'reg_alpha': 40.254303309472704, 'reg_lambda': 61.308373218893024}. Best is trial 91 with value: 0.7395394737825667.\n",
      "[I 2025-02-17 14:55:49,308] Trial 92 finished with value: 0.7393036761598866 and parameters: {'n_estimators': 2603, 'num_leaves': 4483, 'learning_rate': 0.03391685223664609, 'min_child_samples': 454, 'reg_alpha': 43.45191128156427, 'reg_lambda': 61.14079476518079}. Best is trial 91 with value: 0.7395394737825667.\n",
      "[I 2025-02-17 14:56:00,824] Trial 93 finished with value: 0.739200070280656 and parameters: {'n_estimators': 2613, 'num_leaves': 4459, 'learning_rate': 0.05123584742090345, 'min_child_samples': 452, 'reg_alpha': 40.76329980412271, 'reg_lambda': 50.97461400077279}. Best is trial 91 with value: 0.7395394737825667.\n",
      "[I 2025-02-17 14:56:14,166] Trial 94 finished with value: 0.7392042442072894 and parameters: {'n_estimators': 2386, 'num_leaves': 4603, 'learning_rate': 0.03761150648352575, 'min_child_samples': 350, 'reg_alpha': 34.91391378143174, 'reg_lambda': 57.53291058034565}. Best is trial 91 with value: 0.7395394737825667.\n",
      "[I 2025-02-17 14:56:30,188] Trial 95 finished with value: 0.7386180591201901 and parameters: {'n_estimators': 1925, 'num_leaves': 4813, 'learning_rate': 0.031821964184903746, 'min_child_samples': 439, 'reg_alpha': 24.56865901395567, 'reg_lambda': 8.837144892770189}. Best is trial 91 with value: 0.7395394737825667.\n",
      "[I 2025-02-17 14:56:39,663] Trial 96 finished with value: 0.7392331693726977 and parameters: {'n_estimators': 2431, 'num_leaves': 4238, 'learning_rate': 0.08720702188891777, 'min_child_samples': 484, 'reg_alpha': 40.62517570239866, 'reg_lambda': 128.65019124812295}. Best is trial 91 with value: 0.7395394737825667.\n",
      "[I 2025-02-17 14:56:52,420] Trial 97 finished with value: 0.738933785663092 and parameters: {'n_estimators': 2723, 'num_leaves': 4662, 'learning_rate': 0.05865746381792769, 'min_child_samples': 459, 'reg_alpha': 28.978772328252102, 'reg_lambda': 63.479862009655896}. Best is trial 91 with value: 0.7395394737825667.\n",
      "[I 2025-02-17 14:57:05,606] Trial 98 finished with value: 0.7388301307156893 and parameters: {'n_estimators': 2027, 'num_leaves': 4879, 'learning_rate': 0.021804706544919616, 'min_child_samples': 411, 'reg_alpha': 58.95477621796772, 'reg_lambda': 35.80723498780604}. Best is trial 91 with value: 0.7395394737825667.\n",
      "[I 2025-02-17 14:57:15,953] Trial 99 finished with value: 0.7391552741716059 and parameters: {'n_estimators': 2543, 'num_leaves': 4381, 'learning_rate': 0.06695486647589916, 'min_child_samples': 334, 'reg_alpha': 36.48521901610677, 'reg_lambda': 47.418217726704846}. Best is trial 91 with value: 0.7395394737825667.\n",
      "[I 2025-02-17 14:57:36,908] Trial 100 finished with value: 0.733042204699869 and parameters: {'n_estimators': 2952, 'num_leaves': 3646, 'learning_rate': 0.08340724070846466, 'min_child_samples': 45, 'reg_alpha': 11.442062256830667, 'reg_lambda': 73.20507884968491}. Best is trial 91 with value: 0.7395394737825667.\n",
      "[I 2025-02-17 14:57:45,958] Trial 101 finished with value: 0.7390957168948047 and parameters: {'n_estimators': 2098, 'num_leaves': 4288, 'learning_rate': 0.07311183949344209, 'min_child_samples': 489, 'reg_alpha': 44.12709505204832, 'reg_lambda': 68.00393179659724}. Best is trial 91 with value: 0.7395394737825667.\n",
      "[I 2025-02-17 14:57:57,398] Trial 102 finished with value: 0.7390729805830938 and parameters: {'n_estimators': 2308, 'num_leaves': 4763, 'learning_rate': 0.038757689347680924, 'min_child_samples': 470, 'reg_alpha': 53.88789332750452, 'reg_lambda': 61.14679433178289}. Best is trial 91 with value: 0.7395394737825667.\n",
      "[I 2025-02-17 14:58:21,451] Trial 103 finished with value: 0.7391818785168777 and parameters: {'n_estimators': 1681, 'num_leaves': 4513, 'learning_rate': 0.010899272878798646, 'min_child_samples': 445, 'reg_alpha': 43.760610312126204, 'reg_lambda': 54.930625923913254}. Best is trial 91 with value: 0.7395394737825667.\n",
      "[I 2025-02-17 14:58:27,105] Trial 104 finished with value: 0.7390228381313 and parameters: {'n_estimators': 502, 'num_leaves': 4910, 'learning_rate': 0.05443196732704695, 'min_child_samples': 461, 'reg_alpha': 51.750228873791755, 'reg_lambda': 119.10465609613473}. Best is trial 91 with value: 0.7395394737825667.\n",
      "[I 2025-02-17 14:58:33,836] Trial 105 finished with value: 0.7391747375318423 and parameters: {'n_estimators': 1566, 'num_leaves': 3960, 'learning_rate': 0.0957615067353621, 'min_child_samples': 481, 'reg_alpha': 47.24039704350409, 'reg_lambda': 79.84930002124712}. Best is trial 91 with value: 0.7395394737825667.\n",
      "[I 2025-02-17 14:58:51,341] Trial 106 finished with value: 0.7393577054373073 and parameters: {'n_estimators': 2155, 'num_leaves': 4587, 'learning_rate': 0.029756099145908786, 'min_child_samples': 500, 'reg_alpha': 34.803116671442496, 'reg_lambda': 93.5121934364553}. Best is trial 91 with value: 0.7395394737825667.\n",
      "[I 2025-02-17 14:59:07,421] Trial 107 finished with value: 0.7391978674329331 and parameters: {'n_estimators': 1926, 'num_leaves': 4586, 'learning_rate': 0.02900419792466092, 'min_child_samples': 496, 'reg_alpha': 32.19080899287711, 'reg_lambda': 93.18893769924408}. Best is trial 91 with value: 0.7395394737825667.\n",
      "[I 2025-02-17 14:59:30,169] Trial 108 finished with value: 0.7372208084695857 and parameters: {'n_estimators': 2465, 'num_leaves': 4373, 'learning_rate': 0.046887978904151806, 'min_child_samples': 435, 'reg_alpha': 17.021808633694796, 'reg_lambda': 104.81670952537586}. Best is trial 91 with value: 0.7395394737825667.\n",
      "[I 2025-02-17 14:59:42,318] Trial 109 finished with value: 0.7386873611271552 and parameters: {'n_estimators': 2772, 'num_leaves': 4616, 'learning_rate': 0.06519691972752414, 'min_child_samples': 373, 'reg_alpha': 24.968362199362765, 'reg_lambda': 110.652257443304}. Best is trial 91 with value: 0.7395394737825667.\n",
      "[I 2025-02-17 14:59:57,604] Trial 110 finished with value: 0.7392607477733846 and parameters: {'n_estimators': 2338, 'num_leaves': 4196, 'learning_rate': 0.02568123822509685, 'min_child_samples': 452, 'reg_alpha': 38.66333474631915, 'reg_lambda': 14.685769609618015}. Best is trial 91 with value: 0.7395394737825667.\n",
      "[I 2025-02-17 15:00:06,780] Trial 111 finished with value: 0.739137495833277 and parameters: {'n_estimators': 2197, 'num_leaves': 4465, 'learning_rate': 0.08004368791170552, 'min_child_samples': 475, 'reg_alpha': 35.410705938202966, 'reg_lambda': 101.6094344469412}. Best is trial 91 with value: 0.7395394737825667.\n",
      "[I 2025-02-17 15:00:16,837] Trial 112 finished with value: 0.7392385919277085 and parameters: {'n_estimators': 2652, 'num_leaves': 4116, 'learning_rate': 0.07074775710195412, 'min_child_samples': 489, 'reg_alpha': 40.74879600220924, 'reg_lambda': 83.45902505823963}. Best is trial 91 with value: 0.7395394737825667.\n",
      "[I 2025-02-17 15:00:26,821] Trial 113 finished with value: 0.7392606903531832 and parameters: {'n_estimators': 2020, 'num_leaves': 4479, 'learning_rate': 0.048471103371151195, 'min_child_samples': 423, 'reg_alpha': 45.23356128406034, 'reg_lambda': 22.54324782607889}. Best is trial 91 with value: 0.7395394737825667.\n",
      "[I 2025-02-17 15:00:49,055] Trial 114 finished with value: 0.7387929829774535 and parameters: {'n_estimators': 2127, 'num_leaves': 4267, 'learning_rate': 0.007845027139843246, 'min_child_samples': 470, 'reg_alpha': 60.798128580705225, 'reg_lambda': 89.4738319858396}. Best is trial 91 with value: 0.7395394737825667.\n",
      "[I 2025-02-17 15:00:58,114] Trial 115 finished with value: 0.7389475832154646 and parameters: {'n_estimators': 2283, 'num_leaves': 4359, 'learning_rate': 0.1081545066792944, 'min_child_samples': 461, 'reg_alpha': 26.834973705168846, 'reg_lambda': 136.32182906995007}. Best is trial 91 with value: 0.7395394737825667.\n",
      "[I 2025-02-17 15:01:05,272] Trial 116 finished with value: 0.7389439887108628 and parameters: {'n_estimators': 1731, 'num_leaves': 4727, 'learning_rate': 0.08728600606852457, 'min_child_samples': 500, 'reg_alpha': 31.126493260212627, 'reg_lambda': 71.60566364231225}. Best is trial 91 with value: 0.7395394737825667.\n",
      "[I 2025-02-17 15:01:15,179] Trial 117 finished with value: 0.7391828181201718 and parameters: {'n_estimators': 1863, 'num_leaves': 4072, 'learning_rate': 0.03578046773734146, 'min_child_samples': 397, 'reg_alpha': 48.377249422568795, 'reg_lambda': 60.11112080577373}. Best is trial 91 with value: 0.7395394737825667.\n",
      "[I 2025-02-17 15:01:23,859] Trial 118 finished with value: 0.737594561779923 and parameters: {'n_estimators': 2221, 'num_leaves': 3509, 'learning_rate': 0.13763644553782972, 'min_child_samples': 481, 'reg_alpha': 20.687174010139948, 'reg_lambda': 65.64223979453823}. Best is trial 91 with value: 0.7395394737825667.\n",
      "[I 2025-02-17 15:01:30,265] Trial 119 finished with value: 0.7390033319669136 and parameters: {'n_estimators': 1465, 'num_leaves': 4543, 'learning_rate': 0.0602174679989156, 'min_child_samples': 445, 'reg_alpha': 56.91030187243716, 'reg_lambda': 30.077605443392034}. Best is trial 91 with value: 0.7395394737825667.\n",
      "[I 2025-02-17 15:01:38,919] Trial 120 finished with value: 0.7390974812609903 and parameters: {'n_estimators': 2502, 'num_leaves': 4651, 'learning_rate': 0.11562145021462125, 'min_child_samples': 410, 'reg_alpha': 38.87307136276401, 'reg_lambda': 75.77213584118653}. Best is trial 91 with value: 0.7395394737825667.\n",
      "[I 2025-02-17 15:01:45,419] Trial 121 finished with value: 0.7391478304255089 and parameters: {'n_estimators': 2131, 'num_leaves': 4819, 'learning_rate': 0.18382281499769945, 'min_child_samples': 432, 'reg_alpha': 51.1048067010706, 'reg_lambda': 76.35419561325077}. Best is trial 91 with value: 0.7395394737825667.\n",
      "[I 2025-02-17 15:01:51,733] Trial 122 finished with value: 0.7391868866024356 and parameters: {'n_estimators': 1982, 'num_leaves': 4670, 'learning_rate': 0.20925986527321047, 'min_child_samples': 421, 'reg_alpha': 47.409237629179735, 'reg_lambda': 44.62157261316217}. Best is trial 91 with value: 0.7395394737825667.\n",
      "[I 2025-02-17 15:01:57,816] Trial 123 finished with value: 0.739251628401413 and parameters: {'n_estimators': 1820, 'num_leaves': 4748, 'learning_rate': 0.1542666821024, 'min_child_samples': 382, 'reg_alpha': 42.49354125578209, 'reg_lambda': 67.73610313719772}. Best is trial 91 with value: 0.7395394737825667.\n",
      "[I 2025-02-17 15:02:04,891] Trial 124 finished with value: 0.7386378315055098 and parameters: {'n_estimators': 2197, 'num_leaves': 4305, 'learning_rate': 0.2632918822943798, 'min_child_samples': 425, 'reg_alpha': 34.34820381619832, 'reg_lambda': 98.1089929515064}. Best is trial 91 with value: 0.7395394737825667.\n",
      "[I 2025-02-17 15:02:13,543] Trial 125 finished with value: 0.7385857513829228 and parameters: {'n_estimators': 2359, 'num_leaves': 4529, 'learning_rate': 0.10182672270524261, 'min_child_samples': 464, 'reg_alpha': 65.12897801101136, 'reg_lambda': 63.08489174077924}. Best is trial 91 with value: 0.7395394737825667.\n",
      "[I 2025-02-17 15:02:23,819] Trial 126 finished with value: 0.7391652809466884 and parameters: {'n_estimators': 2588, 'num_leaves': 3164, 'learning_rate': 0.07533313440322753, 'min_child_samples': 477, 'reg_alpha': 52.70676580386834, 'reg_lambda': 50.07875482809936}. Best is trial 91 with value: 0.7395394737825667.\n",
      "[I 2025-02-17 15:02:36,810] Trial 127 finished with value: 0.7388790610792336 and parameters: {'n_estimators': 2066, 'num_leaves': 4421, 'learning_rate': 0.04266217812351474, 'min_child_samples': 447, 'reg_alpha': 29.276547007848553, 'reg_lambda': 84.84763395697973}. Best is trial 91 with value: 0.7395394737825667.\n",
      "[I 2025-02-17 15:02:44,112] Trial 128 finished with value: 0.7374014336308372 and parameters: {'n_estimators': 1599, 'num_leaves': 4989, 'learning_rate': 0.05464647292296039, 'min_child_samples': 401, 'reg_alpha': 148.62768523112493, 'reg_lambda': 55.49854618407285}. Best is trial 91 with value: 0.7395394737825667.\n",
      "[I 2025-02-17 15:02:53,889] Trial 129 finished with value: 0.7392602842357594 and parameters: {'n_estimators': 2413, 'num_leaves': 4214, 'learning_rate': 0.1252155789103404, 'min_child_samples': 491, 'reg_alpha': 46.34425689200307, 'reg_lambda': 38.69583113911001}. Best is trial 91 with value: 0.7395394737825667.\n",
      "[I 2025-02-17 15:02:59,592] Trial 130 finished with value: 0.7386153739427761 and parameters: {'n_estimators': 1743, 'num_leaves': 2793, 'learning_rate': 0.405629529539483, 'min_child_samples': 438, 'reg_alpha': 38.742028978743676, 'reg_lambda': 72.4552356261115}. Best is trial 91 with value: 0.7395394737825667.\n",
      "[I 2025-02-17 15:03:12,024] Trial 131 finished with value: 0.739168744950833 and parameters: {'n_estimators': 2216, 'num_leaves': 3061, 'learning_rate': 0.03200411341366881, 'min_child_samples': 142, 'reg_alpha': 44.60528395567301, 'reg_lambda': 92.66525807234154}. Best is trial 91 with value: 0.7395394737825667.\n",
      "[I 2025-02-17 15:03:31,104] Trial 132 finished with value: 0.7392746131859951 and parameters: {'n_estimators': 1929, 'num_leaves': 2990, 'learning_rate': 0.018963785404973503, 'min_child_samples': 368, 'reg_alpha': 35.26128790683095, 'reg_lambda': 59.837873532903274}. Best is trial 91 with value: 0.7395394737825667.\n",
      "[I 2025-02-17 15:04:01,108] Trial 133 finished with value: 0.7392781220822968 and parameters: {'n_estimators': 1940, 'num_leaves': 2915, 'learning_rate': 0.010133409596724811, 'min_child_samples': 365, 'reg_alpha': 32.70531445964529, 'reg_lambda': 58.41183141072358}. Best is trial 91 with value: 0.7395394737825667.\n",
      "[I 2025-02-17 15:04:21,120] Trial 134 finished with value: 0.7389920264512777 and parameters: {'n_estimators': 1963, 'num_leaves': 2687, 'learning_rate': 0.019543763552962938, 'min_child_samples': 315, 'reg_alpha': 34.25519487836107, 'reg_lambda': 60.855416365695895}. Best is trial 91 with value: 0.7395394737825667.\n",
      "[I 2025-02-17 15:04:55,118] Trial 135 finished with value: 0.739175153045299 and parameters: {'n_estimators': 1881, 'num_leaves': 3028, 'learning_rate': 0.00557453955693514, 'min_child_samples': 357, 'reg_alpha': 28.441506007621783, 'reg_lambda': 58.0070882775651}. Best is trial 91 with value: 0.7395394737825667.\n",
      "[I 2025-02-17 15:05:22,049] Trial 136 finished with value: 0.7385887006932627 and parameters: {'n_estimators': 1766, 'num_leaves': 3220, 'learning_rate': 0.016819898313420054, 'min_child_samples': 371, 'reg_alpha': 23.294625431290438, 'reg_lambda': 52.724918312043414}. Best is trial 91 with value: 0.7395394737825667.\n",
      "[I 2025-02-17 15:05:38,631] Trial 137 finished with value: 0.7389594472730586 and parameters: {'n_estimators': 2066, 'num_leaves': 2901, 'learning_rate': 0.026811128315033614, 'min_child_samples': 354, 'reg_alpha': 35.947445126980114, 'reg_lambda': 44.08712543732512}. Best is trial 91 with value: 0.7395394737825667.\n",
      "[I 2025-02-17 15:05:49,486] Trial 138 finished with value: 0.7394302177555272 and parameters: {'n_estimators': 1664, 'num_leaves': 3327, 'learning_rate': 0.04423240098314737, 'min_child_samples': 387, 'reg_alpha': 41.352123468568486, 'reg_lambda': 65.17559354858922}. Best is trial 91 with value: 0.7395394737825667.\n",
      "[I 2025-02-17 15:05:57,772] Trial 139 finished with value: 0.7392537341567955 and parameters: {'n_estimators': 1623, 'num_leaves': 3116, 'learning_rate': 0.06433953567013254, 'min_child_samples': 378, 'reg_alpha': 40.798383018057315, 'reg_lambda': 66.08671169800894}. Best is trial 91 with value: 0.7395394737825667.\n",
      "[I 2025-02-17 15:06:05,192] Trial 140 finished with value: 0.7378964897264486 and parameters: {'n_estimators': 1512, 'num_leaves': 3964, 'learning_rate': 0.04288818408466352, 'min_child_samples': 410, 'reg_alpha': 113.76708270110743, 'reg_lambda': 127.4176479143947}. Best is trial 91 with value: 0.7395394737825667.\n",
      "[I 2025-02-17 15:06:16,484] Trial 141 finished with value: 0.7390559340913306 and parameters: {'n_estimators': 1673, 'num_leaves': 3320, 'learning_rate': 0.04991432000736989, 'min_child_samples': 339, 'reg_alpha': 31.756457284874756, 'reg_lambda': 48.241187046145285}. Best is trial 91 with value: 0.7395394737825667.\n",
      "[I 2025-02-17 15:06:30,827] Trial 142 finished with value: 0.7393303932575537 and parameters: {'n_estimators': 1871, 'num_leaves': 2548, 'learning_rate': 0.03546966497940579, 'min_child_samples': 456, 'reg_alpha': 42.14257111823178, 'reg_lambda': 60.077020125446204}. Best is trial 91 with value: 0.7395394737825667.\n",
      "[I 2025-02-17 15:06:43,094] Trial 143 finished with value: 0.7393821205069038 and parameters: {'n_estimators': 1875, 'num_leaves': 2528, 'learning_rate': 0.033298790625559564, 'min_child_samples': 389, 'reg_alpha': 41.45324808054518, 'reg_lambda': 68.92897968816007}. Best is trial 91 with value: 0.7395394737825667.\n",
      "[I 2025-02-17 15:06:58,289] Trial 144 finished with value: 0.7393617885356221 and parameters: {'n_estimators': 1833, 'num_leaves': 2522, 'learning_rate': 0.03191919403339543, 'min_child_samples': 389, 'reg_alpha': 42.32172435761521, 'reg_lambda': 69.67320085533643}. Best is trial 91 with value: 0.7395394737825667.\n",
      "[I 2025-02-17 15:07:10,512] Trial 145 finished with value: 0.7393807267620174 and parameters: {'n_estimators': 1820, 'num_leaves': 2543, 'learning_rate': 0.03480556731989136, 'min_child_samples': 393, 'reg_alpha': 42.70281962749186, 'reg_lambda': 70.93537626994615}. Best is trial 91 with value: 0.7395394737825667.\n",
      "[I 2025-02-17 15:07:21,809] Trial 146 finished with value: 0.7393772324817668 and parameters: {'n_estimators': 1820, 'num_leaves': 2325, 'learning_rate': 0.03495484037026941, 'min_child_samples': 388, 'reg_alpha': 42.475567007022384, 'reg_lambda': 70.27610374752801}. Best is trial 91 with value: 0.7395394737825667.\n",
      "[I 2025-02-17 15:07:32,825] Trial 147 finished with value: 0.7388544914970955 and parameters: {'n_estimators': 1857, 'num_leaves': 2471, 'learning_rate': 0.036588696597273485, 'min_child_samples': 389, 'reg_alpha': 56.368905832479385, 'reg_lambda': 78.2038557371229}. Best is trial 91 with value: 0.7395394737825667.\n",
      "[I 2025-02-17 15:07:58,286] Trial 148 finished with value: 0.7351159237860958 and parameters: {'n_estimators': 1409, 'num_leaves': 2546, 'learning_rate': 0.0014596148116599386, 'min_child_samples': 388, 'reg_alpha': 42.631527640887114, 'reg_lambda': 71.8933939383524}. Best is trial 91 with value: 0.7395394737825667.\n",
      "[I 2025-02-17 15:08:10,582] Trial 149 finished with value: 0.7391875088286171 and parameters: {'n_estimators': 1815, 'num_leaves': 2365, 'learning_rate': 0.02608919291319443, 'min_child_samples': 388, 'reg_alpha': 50.44672561637534, 'reg_lambda': 69.6487376245181}. Best is trial 91 with value: 0.7395394737825667.\n",
      "[I 2025-02-17 15:08:20,166] Trial 150 finished with value: 0.7393076485938135 and parameters: {'n_estimators': 1558, 'num_leaves': 2166, 'learning_rate': 0.03968110178658882, 'min_child_samples': 453, 'reg_alpha': 41.88123531398213, 'reg_lambda': 80.92873761255383}. Best is trial 91 with value: 0.7395394737825667.\n",
      "[I 2025-02-17 15:08:31,620] Trial 151 finished with value: 0.7393143375252641 and parameters: {'n_estimators': 1557, 'num_leaves': 2612, 'learning_rate': 0.030135172599542497, 'min_child_samples': 459, 'reg_alpha': 42.25460333307772, 'reg_lambda': 85.29135644529796}. Best is trial 91 with value: 0.7395394737825667.\n",
      "[I 2025-02-17 15:08:42,024] Trial 152 finished with value: 0.73921520311371 and parameters: {'n_estimators': 1309, 'num_leaves': 2247, 'learning_rate': 0.038204366001172475, 'min_child_samples': 458, 'reg_alpha': 41.89466868881395, 'reg_lambda': 81.95946829268132}. Best is trial 91 with value: 0.7395394737825667.\n",
      "[I 2025-02-17 15:08:53,594] Trial 153 finished with value: 0.7393014962802441 and parameters: {'n_estimators': 1537, 'num_leaves': 2082, 'learning_rate': 0.028668201380264387, 'min_child_samples': 393, 'reg_alpha': 47.18247075500609, 'reg_lambda': 63.57621722138623}. Best is trial 91 with value: 0.7395394737825667.\n",
      "[I 2025-02-17 15:09:03,642] Trial 154 finished with value: 0.7393049028641873 and parameters: {'n_estimators': 1643, 'num_leaves': 2574, 'learning_rate': 0.04653480588893197, 'min_child_samples': 465, 'reg_alpha': 39.90284276942533, 'reg_lambda': 75.01326524673694}. Best is trial 91 with value: 0.7395394737825667.\n",
      "[I 2025-02-17 15:09:14,055] Trial 155 finished with value: 0.739290560341904 and parameters: {'n_estimators': 1666, 'num_leaves': 2553, 'learning_rate': 0.043163794977615313, 'min_child_samples': 400, 'reg_alpha': 39.37420027679846, 'reg_lambda': 77.56999457384094}. Best is trial 91 with value: 0.7395394737825667.\n",
      "[I 2025-02-17 15:09:23,117] Trial 156 finished with value: 0.7391058927984803 and parameters: {'n_estimators': 1596, 'num_leaves': 2618, 'learning_rate': 0.052132124659533506, 'min_child_samples': 484, 'reg_alpha': 51.65893183195807, 'reg_lambda': 87.15096423328802}. Best is trial 91 with value: 0.7395394737825667.\n",
      "[I 2025-02-17 15:09:41,591] Trial 157 finished with value: 0.739284250383782 and parameters: {'n_estimators': 1404, 'num_leaves': 2434, 'learning_rate': 0.01554618845505686, 'min_child_samples': 467, 'reg_alpha': 40.26491114625063, 'reg_lambda': 80.12636650587615}. Best is trial 91 with value: 0.7395394737825667.\n",
      "[I 2025-02-17 15:09:50,033] Trial 158 finished with value: 0.7389896367268995 and parameters: {'n_estimators': 1724, 'num_leaves': 2314, 'learning_rate': 0.0464873415839125, 'min_child_samples': 378, 'reg_alpha': 54.58105161468688, 'reg_lambda': 69.4366791982727}. Best is trial 91 with value: 0.7395394737825667.\n",
      "[I 2025-02-17 15:10:00,983] Trial 159 finished with value: 0.7392368797617059 and parameters: {'n_estimators': 1493, 'num_leaves': 2176, 'learning_rate': 0.030483645533014317, 'min_child_samples': 500, 'reg_alpha': 49.10068081281617, 'reg_lambda': 73.13070020877208}. Best is trial 91 with value: 0.7395394737825667.\n",
      "[I 2025-02-17 15:10:09,553] Trial 160 finished with value: 0.7392581450722597 and parameters: {'n_estimators': 1597, 'num_leaves': 2741, 'learning_rate': 0.06288013315436956, 'min_child_samples': 416, 'reg_alpha': 38.08015454445586, 'reg_lambda': 90.82469471714353}. Best is trial 91 with value: 0.7395394737825667.\n",
      "[I 2025-02-17 15:10:20,019] Trial 161 finished with value: 0.7392175166258208 and parameters: {'n_estimators': 1813, 'num_leaves': 1945, 'learning_rate': 0.038136142890547446, 'min_child_samples': 452, 'reg_alpha': 44.77861576312756, 'reg_lambda': 65.20799946742014}. Best is trial 91 with value: 0.7395394737825667.\n",
      "[I 2025-02-17 15:10:33,826] Trial 162 finished with value: 0.7392374591837373 and parameters: {'n_estimators': 1693, 'num_leaves': 2563, 'learning_rate': 0.02495031273276374, 'min_child_samples': 439, 'reg_alpha': 42.907917374629136, 'reg_lambda': 69.82584195065448}. Best is trial 91 with value: 0.7395394737825667.\n",
      "[I 2025-02-17 15:10:46,131] Trial 163 finished with value: 0.7391408439530152 and parameters: {'n_estimators': 2000, 'num_leaves': 2409, 'learning_rate': 0.03420307649457129, 'min_child_samples': 456, 'reg_alpha': 36.820881900188496, 'reg_lambda': 53.52810581711596}. Best is trial 91 with value: 0.7395394737825667.\n",
      "[I 2025-02-17 15:10:54,905] Trial 164 finished with value: 0.739130875806068 and parameters: {'n_estimators': 1884, 'num_leaves': 2248, 'learning_rate': 0.05468536773630922, 'min_child_samples': 474, 'reg_alpha': 47.11967380507294, 'reg_lambda': 75.27160816552566}. Best is trial 91 with value: 0.7395394737825667.\n",
      "[I 2025-02-17 15:11:12,768] Trial 165 finished with value: 0.7389669181632508 and parameters: {'n_estimators': 1162, 'num_leaves': 2655, 'learning_rate': 0.01905044847675167, 'min_child_samples': 428, 'reg_alpha': 30.344171631356268, 'reg_lambda': 62.56645280939917}. Best is trial 91 with value: 0.7395394737825667.\n",
      "[I 2025-02-17 15:11:20,724] Trial 166 finished with value: 0.7370713499496009 and parameters: {'n_estimators': 1768, 'num_leaves': 2139, 'learning_rate': 0.0470392103318293, 'min_child_samples': 487, 'reg_alpha': 177.15323031734215, 'reg_lambda': 79.81497088499874}. Best is trial 91 with value: 0.7395394737825667.\n",
      "[I 2025-02-17 15:11:32,012] Trial 167 finished with value: 0.739319437483144 and parameters: {'n_estimators': 1646, 'num_leaves': 2344, 'learning_rate': 0.03470807603224925, 'min_child_samples': 466, 'reg_alpha': 41.63638164446813, 'reg_lambda': 66.8204893696142}. Best is trial 91 with value: 0.7395394737825667.\n",
      "[I 2025-02-17 15:11:40,720] Trial 168 finished with value: 0.7392047129649326 and parameters: {'n_estimators': 1537, 'num_leaves': 2352, 'learning_rate': 0.06813293754314553, 'min_child_samples': 467, 'reg_alpha': 34.290890019034975, 'reg_lambda': 84.27960397622391}. Best is trial 91 with value: 0.7395394737825667.\n",
      "[I 2025-02-17 15:12:13,371] Trial 169 finished with value: 0.7392671141077042 and parameters: {'n_estimators': 1643, 'num_leaves': 2470, 'learning_rate': 0.010102873392476355, 'min_child_samples': 445, 'reg_alpha': 26.570679031191016, 'reg_lambda': 146.29463896512559}. Best is trial 91 with value: 0.7395394737825667.\n",
      "[I 2025-02-17 15:12:24,098] Trial 170 finished with value: 0.7393613176899714 and parameters: {'n_estimators': 1732, 'num_leaves': 2516, 'learning_rate': 0.042341084202341964, 'min_child_samples': 279, 'reg_alpha': 40.93040922883076, 'reg_lambda': 66.08879815466159}. Best is trial 91 with value: 0.7395394737825667.\n",
      "[I 2025-02-17 15:12:34,169] Trial 171 finished with value: 0.7390936664716161 and parameters: {'n_estimators': 1722, 'num_leaves': 2490, 'learning_rate': 0.04392827018242468, 'min_child_samples': 202, 'reg_alpha': 39.969812527020395, 'reg_lambda': 67.66561783834966}. Best is trial 91 with value: 0.7395394737825667.\n",
      "[I 2025-02-17 15:12:39,973] Trial 172 finished with value: 0.7390362504463219 and parameters: {'n_estimators': 1874, 'num_leaves': 2746, 'learning_rate': 0.2884505747572227, 'min_child_samples': 380, 'reg_alpha': 43.97994958989433, 'reg_lambda': 73.82095282694766}. Best is trial 91 with value: 0.7395394737825667.\n",
      "[I 2025-02-17 15:12:48,893] Trial 173 finished with value: 0.7390348744494979 and parameters: {'n_estimators': 1449, 'num_leaves': 2015, 'learning_rate': 0.05390935325605631, 'min_child_samples': 361, 'reg_alpha': 49.48875278148293, 'reg_lambda': 66.12213926154965}. Best is trial 91 with value: 0.7395394737825667.\n",
      "[I 2025-02-17 15:13:10,968] Trial 174 finished with value: 0.7391054323928662 and parameters: {'n_estimators': 1996, 'num_leaves': 2598, 'learning_rate': 0.025529569360203286, 'min_child_samples': 272, 'reg_alpha': 37.32181569617559, 'reg_lambda': 56.76861694961173}. Best is trial 91 with value: 0.7395394737825667.\n",
      "[I 2025-02-17 15:13:22,917] Trial 175 finished with value: 0.739432282794767 and parameters: {'n_estimators': 1786, 'num_leaves': 2290, 'learning_rate': 0.03624604990204266, 'min_child_samples': 399, 'reg_alpha': 41.649516335362435, 'reg_lambda': 114.05275215698165}. Best is trial 91 with value: 0.7395394737825667.\n",
      "[I 2025-02-17 15:13:36,223] Trial 176 finished with value: 0.7392118497739536 and parameters: {'n_estimators': 1806, 'num_leaves': 2275, 'learning_rate': 0.035604276108565286, 'min_child_samples': 397, 'reg_alpha': 46.80286421527198, 'reg_lambda': 117.95701200025002}. Best is trial 91 with value: 0.7395394737825667.\n",
      "[I 2025-02-17 15:13:51,408] Trial 177 finished with value: 0.7390711253885895 and parameters: {'n_estimators': 1924, 'num_leaves': 2395, 'learning_rate': 0.020651632148442338, 'min_child_samples': 402, 'reg_alpha': 54.54576512660438, 'reg_lambda': 122.82302152402654}. Best is trial 91 with value: 0.7395394737825667.\n",
      "[I 2025-02-17 15:14:02,210] Trial 178 finished with value: 0.7390142762572829 and parameters: {'n_estimators': 2109, 'num_leaves': 2342, 'learning_rate': 0.060793836305458274, 'min_child_samples': 256, 'reg_alpha': 33.41205710527243, 'reg_lambda': 133.84107406727782}. Best is trial 91 with value: 0.7395394737825667.\n",
      "[I 2025-02-17 15:14:12,587] Trial 179 finished with value: 0.7393242284159405 and parameters: {'n_estimators': 1819, 'num_leaves': 2180, 'learning_rate': 0.08482875492407707, 'min_child_samples': 416, 'reg_alpha': 43.50312893237952, 'reg_lambda': 112.35387927275822}. Best is trial 91 with value: 0.7395394737825667.\n",
      "[I 2025-02-17 15:14:19,830] Trial 180 finished with value: 0.7391160405140571 and parameters: {'n_estimators': 1803, 'num_leaves': 2075, 'learning_rate': 0.07738812353140538, 'min_child_samples': 236, 'reg_alpha': 51.3727439766121, 'reg_lambda': 113.86820027589708}. Best is trial 91 with value: 0.7395394737825667.\n",
      "[I 2025-02-17 15:14:25,046] Trial 181 finished with value: 0.7392952124222136 and parameters: {'n_estimators': 1686, 'num_leaves': 2206, 'learning_rate': 0.08835869535565198, 'min_child_samples': 411, 'reg_alpha': 43.28121853842036, 'reg_lambda': 108.01632227150189}. Best is trial 91 with value: 0.7395394737825667.\n",
      "[I 2025-02-17 15:14:33,830] Trial 182 finished with value: 0.7394329123289742 and parameters: {'n_estimators': 1556, 'num_leaves': 2477, 'learning_rate': 0.033873946836912715, 'min_child_samples': 386, 'reg_alpha': 37.077558594643556, 'reg_lambda': 97.66835021341855}. Best is trial 91 with value: 0.7395394737825667.\n",
      "[I 2025-02-17 15:14:55,104] Trial 183 finished with value: 0.7360442852488271 and parameters: {'n_estimators': 1879, 'num_leaves': 2468, 'learning_rate': 0.0012523539190683608, 'min_child_samples': 386, 'reg_alpha': 30.714037894278515, 'reg_lambda': 99.24510998346454}. Best is trial 91 with value: 0.7395394737825667.\n",
      "[I 2025-02-17 15:15:07,595] Trial 184 finished with value: 0.7394130480713322 and parameters: {'n_estimators': 1748, 'num_leaves': 2645, 'learning_rate': 0.029721248907833776, 'min_child_samples': 391, 'reg_alpha': 36.17888689610858, 'reg_lambda': 106.88330235375027}. Best is trial 91 with value: 0.7395394737825667.\n",
      "[I 2025-02-17 15:15:18,092] Trial 185 finished with value: 0.7393431353222261 and parameters: {'n_estimators': 1740, 'num_leaves': 2665, 'learning_rate': 0.028885973792094684, 'min_child_samples': 369, 'reg_alpha': 35.02324631426977, 'reg_lambda': 105.38263937075483}. Best is trial 91 with value: 0.7395394737825667.\n",
      "[I 2025-02-17 15:15:48,861] Trial 186 finished with value: 0.7394050280352149 and parameters: {'n_estimators': 1954, 'num_leaves': 2819, 'learning_rate': 0.01134607618685067, 'min_child_samples': 372, 'reg_alpha': 35.832149782122436, 'reg_lambda': 105.88729016758286}. Best is trial 91 with value: 0.7395394737825667.\n",
      "[I 2025-02-17 15:16:10,067] Trial 187 finished with value: 0.7393507972650879 and parameters: {'n_estimators': 1997, 'num_leaves': 2845, 'learning_rate': 0.014115439142877474, 'min_child_samples': 347, 'reg_alpha': 35.21016211005431, 'reg_lambda': 108.53740631292763}. Best is trial 91 with value: 0.7395394737825667.\n",
      "[I 2025-02-17 15:16:32,813] Trial 188 finished with value: 0.7388302079719602 and parameters: {'n_estimators': 1975, 'num_leaves': 2872, 'learning_rate': 0.011479704253919056, 'min_child_samples': 342, 'reg_alpha': 26.347353122414265, 'reg_lambda': 107.2367249666224}. Best is trial 91 with value: 0.7395394737825667.\n",
      "[I 2025-02-17 15:16:51,624] Trial 189 finished with value: 0.7297605013425845 and parameters: {'n_estimators': 2036, 'num_leaves': 2808, 'learning_rate': 0.0002155053459398787, 'min_child_samples': 325, 'reg_alpha': 34.476751685358224, 'reg_lambda': 106.32746011258376}. Best is trial 91 with value: 0.7395394737825667.\n"
     ]
    }
   ],
   "source": [
    "import optuna\n",
    "import lightgbm as lgb\n",
    "from sklearn.metrics import roc_auc_score\n",
    "\n",
    "# 목적 함수 정의\n",
    "def objective(trial):\n",
    "    param = {\n",
    "        'n_estimators': trial.suggest_int('n_estimators', 500, 5000),\n",
    "        'num_leaves': trial.suggest_int('num_leaves', 1000, 5000),\n",
    "        'learning_rate': trial.suggest_float('learning_rate', 0.00005, 0.5),\n",
    "        'min_child_samples': trial.suggest_int('min_child_samples', 5, 500),\n",
    "        'reg_alpha': trial.suggest_float('reg_alpha', 0.0, 200.0),\n",
    "        'reg_lambda': trial.suggest_float('reg_lambda', 0.0, 200.0),\n",
    "\n",
    "        'random_state': 42,\n",
    "        'n_jobs': -1,\n",
    "        'metric': 'auc',\n",
    "        'objective': 'binary',\n",
    "        'boosting_type': 'gbdt',\n",
    "        'verbose': -1\n",
    "    }\n",
    "\n",
    "    model = lgb.LGBMClassifier(**param)\n",
    "    model.fit(IVF_X_train, IVF_y_train)\n",
    "    \n",
    "    y_pred_proba = model.predict_proba(IVF_X_test)[:, 1]\n",
    "    \n",
    "    auc = roc_auc_score(IVF_y_test, y_pred_proba)\n",
    "    return auc\n",
    "\n",
    "# Optuna 스터디 생성 및 최적화 실행\n",
    "study = optuna.create_study(direction='maximize')\n",
    "study.optimize(objective, n_trials=800)\n",
    "\n",
    "# 최적의 하이퍼파라미터 출력\n",
    "print(\"Best trial:\")\n",
    "trial = study.best_trial\n",
    "print(f\"  Value: {trial.value}\")\n",
    "print(\"  Params: \")\n",
    "for key, value in trial.params.items():\n",
    "    print(f\"    {key}: {value}\")"
   ]
  },
  {
   "cell_type": "code",
   "execution_count": null,
   "metadata": {},
   "outputs": [],
   "source": [
    "# import optuna\n",
    "# import lightgbm as lgb\n",
    "# from sklearn.metrics import roc_auc_score\n",
    "\n",
    "# # 목적 함수 정의\n",
    "# def objective(trial):\n",
    "#     param = {\n",
    "#         'n_estimators': trial.suggest_int('n_estimators', 1000, 8000),\n",
    "#         'max_depth': trial.suggest_int('max_depth', 3, 300),\n",
    "#         'learning_rate': trial.suggest_float('learning_rate', 1e-5, 1e-1, log=True),\n",
    "#         'num_leaves': trial.suggest_int('num_leaves', 2, 2048),\n",
    "#         'min_child_samples': trial.suggest_int('min_child_samples', 1, 100),\n",
    "#         'subsample': trial.suggest_float('subsample', 0.6, 1.0),\n",
    "#         'reg_alpha': trial.suggest_float('reg_alpha', 1e-3, 10.0, log=True),\n",
    "#         'reg_lambda': trial.suggest_float('reg_lambda', 1e-3, 10.0, log=True),\n",
    "        \n",
    "#         'boosting_type' : 'gbdt',\n",
    "#         'random_state': 42,\n",
    "#         'objective': 'binary',\n",
    "#         'metric': 'auc',\n",
    "#         'verbose': -1,   \n",
    "#         'njobs': -1\n",
    "#     }\n",
    "\n",
    "#     model = lgb.LGBMClassifier(**param)\n",
    "#     model.fit(IVF_X_train, IVF_y_train)\n",
    "    \n",
    "#     y_pred_proba = model.predict_proba(IVF_X_test)[:, 1]\n",
    "    \n",
    "#     auc = roc_auc_score(IVF_y_test, y_pred_proba)\n",
    "#     return auc\n",
    "\n",
    "# # Optuna 스터디 생성 및 최적화 실행\n",
    "# study = optuna.create_study(direction='maximize')\n",
    "# study.optimize(objective, n_trials=800)\n",
    "\n",
    "# # 최적의 하이퍼파라미터 출력\n",
    "# print(\"Best trial:\")\n",
    "# trial = study.best_trial\n",
    "# print(f\"  Value: {trial.value}\")\n",
    "# print(\"  Params: \")\n",
    "# for key, value in trial.params.items():\n",
    "#     print(f\"    {key}: {value}\")"
   ]
  },
  {
   "cell_type": "markdown",
   "metadata": {},
   "source": [
    "."
   ]
  }
 ],
 "metadata": {
  "kernelspec": {
   "display_name": "Python 3",
   "language": "python",
   "name": "python3"
  },
  "language_info": {
   "codemirror_mode": {
    "name": "ipython",
    "version": 3
   },
   "file_extension": ".py",
   "mimetype": "text/x-python",
   "name": "python",
   "nbconvert_exporter": "python",
   "pygments_lexer": "ipython3",
   "version": "3.7.8"
  }
 },
 "nbformat": 4,
 "nbformat_minor": 2
}
