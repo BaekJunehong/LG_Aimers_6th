{
 "cells": [
  {
   "cell_type": "markdown",
   "metadata": {},
   "source": [
    "## 난임 환자 대상 임신 성공 여부 예측"
   ]
  },
  {
   "cell_type": "markdown",
   "metadata": {},
   "source": [
    "### LGAimers 6th 온라인 해커톤"
   ]
  },
  {
   "cell_type": "markdown",
   "metadata": {},
   "source": [
    "Import"
   ]
  },
  {
   "cell_type": "code",
   "execution_count": 979,
   "metadata": {},
   "outputs": [],
   "source": [
    "import pandas as pd\n",
    "import numpy as np\n",
    "import seaborn as sns\n",
    "import matplotlib.pyplot as plt"
   ]
  },
  {
   "cell_type": "code",
   "execution_count": 980,
   "metadata": {},
   "outputs": [],
   "source": [
    "import platform\n",
    "from matplotlib import rc\n",
    "\n",
    "# 운영 체제에 따라 폰트 설정\n",
    "if platform.system() == 'Windows':  # Windows 환경\n",
    "    rc('font', family='Malgun Gothic')  # 맑은 고딕\n",
    "\n",
    "# 음수 표시 가능하도록 설정\n",
    "plt.rcParams['axes.unicode_minus'] = False"
   ]
  },
  {
   "cell_type": "code",
   "execution_count": 981,
   "metadata": {},
   "outputs": [],
   "source": [
    "# 경고문구 숨기기\n",
    "import warnings\n",
    "import pandas as pd\n",
    "\n",
    "warnings.filterwarnings(\"ignore\", category=pd.errors.SettingWithCopyWarning)"
   ]
  },
  {
   "cell_type": "markdown",
   "metadata": {},
   "source": [
    "반복적으로 쓰는 함수툴"
   ]
  },
  {
   "cell_type": "code",
   "execution_count": 982,
   "metadata": {},
   "outputs": [],
   "source": [
    "def plot_box(df, col_name):\n",
    "    \"\"\"\n",
    "    주어진 데이터프레임과 열 이름에 대해 박스 플롯을 그리는 함수.\n",
    "\n",
    "    Parameters:\n",
    "    df (pd.DataFrame): 데이터프레임\n",
    "    col_name (str): 열 이름\n",
    "    \"\"\"\n",
    "    plt.figure(figsize=(7, 4))\n",
    "    plt.boxplot(df[col_name], vert=False)\n",
    "    plt.xlabel(col_name)\n",
    "    plt.title(f'Box Plot of {col_name}')\n",
    "    plt.show()\n",
    "\n",
    "def value_counts_ratio(df, col_name, target_name='임신_성공_여부'):\n",
    "    \"\"\"\n",
    "    주어진 데이터프레임의 특정 열에 대해 각 값마다 타겟 변수의 비율과 갯수, 총 갯수를 출력하는 함수.\n",
    "\n",
    "    Parameters:\n",
    "    df (pd.DataFrame): 데이터프레임\n",
    "    col_name (str): 열 이름\n",
    "    target_name (str): 타겟 변수 이름\n",
    "    \"\"\"\n",
    "    # 각 값마다 타겟 변수의 비율 계산\n",
    "    value_counts = df.groupby(col_name)[target_name].value_counts(normalize=True).unstack().fillna(0)\n",
    "    \n",
    "    # 각 값마다 타겟 변수의 갯수 계산\n",
    "    counts = df.groupby(col_name)[target_name].value_counts().unstack().fillna(0)\n",
    "    \n",
    "    # 각 값마다 총 갯수 계산\n",
    "    total_counts = df[col_name].value_counts().rename('Total_Count')\n",
    "    \n",
    "    # 비율과 갯수를 합침\n",
    "    result = value_counts.join(counts, lsuffix='_ratio', rsuffix='_count')\n",
    "    \n",
    "    # 총 갯수를 합침\n",
    "    result = result.join(total_counts, on=col_name)\n",
    "    \n",
    "    # 출력 형식 조정\n",
    "    result.index.name = 'variable'\n",
    "    print(f\"\\n{col_name}별 {target_name} 비율 및 갯수\\n\")\n",
    "    print(result.rename(columns=lambda x: x.split('_')[0]))\n",
    "\n",
    "def summarize_group(df, group_by_columns):\n",
    "    \"\"\"\n",
    "    주어진 데이터프레임을 특정 열들로 그룹화하여 각 그룹의 '임신_성공_여부' 비율과 갯수를 요약하는 함수.\n",
    "\n",
    "    Parameters:\n",
    "    df (pd.DataFrame): 데이터프레임\n",
    "    group_by_columns (list): 그룹화할 열 이름들의 리스트\n",
    "    \"\"\"\n",
    "    # 데이터프레임을 그룹화\n",
    "    grouped_df = df.groupby(group_by_columns)\n",
    "    \n",
    "    # 결과를 저장할 리스트 초기화\n",
    "    results = []\n",
    "    \n",
    "    # 그룹화된 데이터프레임의 내용을 확인하는 코드\n",
    "    for name, group in grouped_df:\n",
    "        # 그룹의 갯수 계산\n",
    "        group_count = group.shape[0]\n",
    "        \n",
    "        # '임신_성공_여부' 변수의 '임신 성공' 비율과 갯수 계산\n",
    "        success_count = group['임신_성공_여부'].value_counts().get(1, 0)\n",
    "        success_ratio = success_count / group_count\n",
    "        \n",
    "        # 결과 리스트에 추가\n",
    "        results.append([name, success_count, success_ratio, group_count])\n",
    "    \n",
    "    # 결과 리스트를 데이터프레임으로 변환\n",
    "    results_df = pd.DataFrame(results, columns=['group', \"'임신_성공_여부' count\", 'ratio', 'Total'])\n",
    "    \n",
    "    # 그룹화된 변수들의 이름을 제목행으로 출력\n",
    "    print(f\"Grouped by: {', '.join(group_by_columns)}\")\n",
    "    print()\n",
    "    # 데이터프레임 출력\n",
    "    print(results_df)\n",
    "\n",
    "def plot_ratio(df, group_by_column, target_column='임신_성공_여부', success_value=1):\n",
    "    \"\"\"\n",
    "    주어진 데이터프레임을 특정 열로 그룹화하여 각 그룹의 타겟 변수의 성공 비율을 시각화하는 함수.\n",
    "\n",
    "    Parameters:\n",
    "    df (pd.DataFrame): 데이터프레임\n",
    "    group_by_column (str): 그룹화할 열 이름\n",
    "    target_column (str): 타겟 변수 이름\n",
    "    success_value (int): 타겟 변수의 성공을 나타내는 값\n",
    "    \"\"\"\n",
    "    # 데이터프레임을 그룹화\n",
    "    grouped_df = df.groupby(group_by_column)\n",
    "    \n",
    "    # 결과를 저장할 리스트 초기화\n",
    "    results = []\n",
    "    \n",
    "    # 그룹화된 데이터프레임의 내용을 확인하는 코드\n",
    "    for name, group in grouped_df:\n",
    "        # 그룹의 갯수 계산\n",
    "        group_count = group.shape[0]\n",
    "        \n",
    "        # '임신_성공_여부' 변수의 '성공' 비율과 갯수 계산\n",
    "        success_count = group[target_column].value_counts().get(success_value, 0)\n",
    "        success_ratio = success_count / group_count\n",
    "        \n",
    "        # 결과 리스트에 추가\n",
    "        results.append([name, success_count, success_ratio, group_count])\n",
    "    \n",
    "    # 결과 리스트를 데이터프레임으로 변환\n",
    "    results_df = pd.DataFrame(results, columns=['group', f\"'{success_value}' count\", 'ratio', 'Total'])\n",
    "    \n",
    "    # 그래프 크기 설정\n",
    "    plt.figure(figsize=(10, 5))\n",
    "    \n",
    "    # 막대 그래프 생성\n",
    "    ax = results_df.plot(kind='bar', x='group', y='ratio', legend=False)\n",
    "    \n",
    "    # 각 막대 위에 임신 성공 여부 갯수와 총 갯수 표시\n",
    "    for i, (success_count, total) in enumerate(zip(results_df[f\"'{success_value}' count\"], results_df['Total'])):\n",
    "        ax.text(i, results_df['ratio'][i], f'{success_count} ({total})', ha='center', va='bottom', fontsize=8)\n",
    "    \n",
    "    # 그래프 제목 및 축 레이블 설정\n",
    "    ax.set_title(f'{success_value} Ratio by {group_by_column}')\n",
    "    ax.set_xlabel(group_by_column)\n",
    "    ax.set_ylabel(f'{success_value} Ratio')\n",
    "   \n",
    "    # 그래프 출력\n",
    "    plt.show()\n",
    "\n",
    "def plot_ratio_boxplot(data, column_name, target_column='임신_성공_여부'):\n",
    "    \"\"\"\n",
    "    주어진 데이터프레임의 특정 열과 타겟 변수 간의 관계를 박스 플롯으로 시각화하는 함수.\n",
    "\n",
    "    Parameters:\n",
    "    data (pd.DataFrame): 데이터프레임\n",
    "    column_name (str): 열 이름\n",
    "    target_column (str): 타겟 변수 이름\n",
    "    \"\"\"\n",
    "\n",
    "    # 그래프 그리기\n",
    "    plt.figure(figsize=(10, 6))\n",
    "    sns.boxplot(x=column_name, y=target_column, data=data)\n",
    "\n",
    "    # 그래프 제목 및 레이블 설정\n",
    "    plt.title(f'{column_name} vs {target_column}')\n",
    "    plt.xlabel(column_name)\n",
    "    plt.ylabel(target_column)\n",
    "\n",
    "    # 그래프 출력\n",
    "    plt.show()"
   ]
  },
  {
   "cell_type": "markdown",
   "metadata": {},
   "source": [
    "### Data Load"
   ]
  },
  {
   "cell_type": "code",
   "execution_count": 983,
   "metadata": {},
   "outputs": [],
   "source": [
    "# 데이터 로드\n",
    "train = pd.read_csv('../data/train.csv')\n",
    "test = pd.read_csv('../data/test.csv')\n",
    "\n",
    "# 변수명에서 공백을 밑줄로 대체\n",
    "train.columns = train.columns.str.replace(' ', '_')\n",
    "test.columns = test.columns.str.replace(' ', '_')"
   ]
  },
  {
   "cell_type": "code",
   "execution_count": 984,
   "metadata": {},
   "outputs": [],
   "source": [
    "# train.info(verbose=True)"
   ]
  },
  {
   "cell_type": "markdown",
   "metadata": {},
   "source": [
    "## EDA"
   ]
  },
  {
   "cell_type": "code",
   "execution_count": 985,
   "metadata": {},
   "outputs": [],
   "source": [
    "# '시술_유형' 변수의 값이 'IVF'에 해당 안하는 데이터 추출\n",
    "IVF_train = train[train['시술_유형'] == 'IVF'] \n",
    "IVF_test = test[test['시술_유형'] == 'IVF']\n",
    "\n",
    "# 모든 값이 결측값인 변수를 제거\n",
    "IVF_train = IVF_train.dropna(axis=1, how='all')\n",
    "IVF_test = IVF_test.dropna(axis=1, how='all')\n",
    "\n",
    "# 결측값을 제외한 고유값이 1개인 변수 제거\n",
    "unique_value_columns_train = IVF_train.columns[IVF_train.nunique(dropna=True) <= 1]\n",
    "unique_value_columns_test = IVF_test.columns[IVF_test.nunique(dropna=True) <= 1]\n",
    "\n",
    "# 결측값이 없는 상태에서 고유값이 1개인 경우만 제거\n",
    "IVF_train = IVF_train.drop(columns=[col for col in unique_value_columns_train if IVF_train[col].notna().all()])\n",
    "IVF_test = IVF_test.drop(columns=[col for col in unique_value_columns_test if IVF_test[col].notna().all()])\n",
    "\n",
    "# 결과를 원래 변수에 저장\n",
    "train = IVF_train\n",
    "test = IVF_test"
   ]
  },
  {
   "cell_type": "markdown",
   "metadata": {},
   "source": [
    "타겟변수 비율 확인"
   ]
  },
  {
   "cell_type": "code",
   "execution_count": 986,
   "metadata": {},
   "outputs": [
    {
     "name": "stdout",
     "output_type": "stream",
     "text": [
      "임신_성공_여부 값 개수:\n",
      "임신_성공_여부\n",
      "0    184643\n",
      "1     65417\n",
      "Name: count, dtype: int64\n",
      "\n",
      "임신_성공_여부 값 비율 (%):\n",
      "임신_성공_여부\n",
      "0    73.839479\n",
      "1    26.160521\n",
      "Name: count, dtype: float64\n"
     ]
    }
   ],
   "source": [
    "# '임신_성공_여부' 변수의 값 개수 계산\n",
    "value_counts = train['임신_성공_여부'].value_counts()\n",
    "\n",
    "# 각 값이 전체에서 차지하는 비율 계산\n",
    "value_percentages = value_counts / len(train) * 100\n",
    "\n",
    "# 결과 출력\n",
    "print(\"임신_성공_여부 값 개수:\")\n",
    "print(value_counts)\n",
    "print(\"\\n임신_성공_여부 값 비율 (%):\")\n",
    "print(value_percentages)"
   ]
  },
  {
   "cell_type": "markdown",
   "metadata": {},
   "source": [
    "EDA를 통해 무조건 불임인 데이터를 제거하여 EDA 재진행"
   ]
  },
  {
   "cell_type": "code",
   "execution_count": 987,
   "metadata": {},
   "outputs": [],
   "source": [
    "# '시술_당시_나이' 변수의 값이 '알 수 없음'인 행 제거\n",
    "train_sub = train[train['시술_당시_나이'] == '알 수 없음']\n",
    "train = train[train['시술_당시_나이'] != '알 수 없음']\n",
    "\n",
    "# '불임_원인_-_자궁경부_문제'와 '불임_원인_-_정자_면역학적_요인' 변수의 값이 1인 행 제거\n",
    "for col in ['불임_원인_-_자궁경부_문제', '불임_원인_-_정자_면역학적_요인']:\n",
    "    train_sub = pd.concat([train_sub, train[train[col] == 1]])\n",
    "    train = train[train[col] != 1]\n",
    "\n",
    "# '배아_생성_주요_이유' 변수의 값이 특정 값인 행 제거\n",
    "values_to_drop = ['기증용', '기증용, 난자 저장용', '기증용, 배아 저장용', '난자 저장용', '난자 저장용, 배아 저장용']\n",
    "train_sub = pd.concat([train_sub, train[train['배아_생성_주요_이유'].isin(values_to_drop)]])\n",
    "train = train[~train['배아_생성_주요_이유'].isin(values_to_drop)]\n",
    "\n",
    "# 특정 변수의 값이 특정 값 이상인 행 제거\n",
    "for col, threshold in [('저장된_배아_수', 25), ('해동_난자_수', 24), ('저장된_신선_난자_수', 20), \n",
    "                       ('총_생성_배아_수', 38), ('미세주입된_난자_수', 44), ('해동된_배아_수', 30), \n",
    "                       ('수집된_신선_난자_수', 51), ('미세주입에서_생성된_배아_수', 36), \n",
    "                       ('미세주입_후_저장된_배아_수', 24)]:\n",
    "    train_sub = pd.concat([train_sub, train[train[col] >= threshold]])\n",
    "    train = train[train[col] < threshold]\n",
    "\n",
    "# 특정 변수의 값이 특정 문자열인 행 제거\n",
    "for col, values in [('총_출산_횟수', ['6회 이상']), \n",
    "                    ('DI_임신_횟수', ['4회', '5회']), \n",
    "                    ('DI_출산_횟수', ['5회'])]:\n",
    "    train_sub = pd.concat([train_sub, train[train[col].isin(values)]])\n",
    "    train = train[~train[col].isin(values)]\n",
    "\n",
    "# '정자_출처' 변수의 값이 '배우자 및 기증 제공'인 행 제거\n",
    "train_sub = pd.concat([train_sub, train[train['정자_출처'] == '배우자 및 기증 제공']])\n",
    "train = train[train['정자_출처'] != '배우자 및 기증 제공']\n",
    "\n",
    "# '난자_해동_경과일' 변수의 값이 1인 행 제거\n",
    "train_sub = pd.concat([train_sub, train[train['난자_해동_경과일'] == 1]])\n",
    "train = train[train['난자_해동_경과일'] != 1]\n",
    "\n",
    "# '난자_혼합_경과일' 변수의 값이 6 이상인 행 제거\n",
    "train_sub = pd.concat([train_sub, train[train['난자_혼합_경과일'] >= 6]])\n",
    "train = train[train['난자_혼합_경과일'] < 6]\n",
    "\n",
    "# '배아_해동_경과일' 변수의 값이 7인 행 제거\n",
    "train_sub = pd.concat([train_sub, train[train['배아_해동_경과일'] == 7]])\n",
    "train = train[train['배아_해동_경과일'] != 7]\n",
    "\n",
    "# '착상_전_유전_진단_사용_여부'와 '착상_전_유전_검사_사용_여부'의 값이 동시에 1인 행 제거\n",
    "train_sub = pd.concat([train_sub, train[(train['착상_전_유전_진단_사용_여부'] == 1) & (train['착상_전_유전_검사_사용_여부'] == 1)]])\n",
    "train = train[~((train['착상_전_유전_진단_사용_여부'] == 1) & (train['착상_전_유전_검사_사용_여부'] == 1))]\n",
    "\n",
    "# '남성_주_불임_원인'과 '남성_부_불임_원인'의 값이 동시에 1인 행 제거\n",
    "train_sub = pd.concat([train_sub, train[(train['남성_주_불임_원인'] == 1) & (train['남성_부_불임_원인'] == 1)]])\n",
    "train = train[~((train['남성_주_불임_원인'] == 1) & (train['남성_부_불임_원인'] == 1))]\n",
    "\n",
    "# '여성_주_불임_원인'과 '여성_부_불임_원인'의 값이 동시에 1인 행 제거\n",
    "train_sub = pd.concat([train_sub, train[(train['여성_주_불임_원인'] == 1) & (train['여성_부_불임_원인'] == 1)]])\n",
    "train = train[~((train['여성_주_불임_원인'] == 1) & (train['여성_부_불임_원인'] == 1))]\n",
    "\n",
    "# '부부_주_불임_원인'과 '부부_부_불임_원인'의 값이 동시에 1인 행 제거\n",
    "train_sub = pd.concat([train_sub, train[(train['부부_주_불임_원인'] == 1) & (train['부부_부_불임_원인'] == 1)]])\n",
    "train = train[~((train['부부_주_불임_원인'] == 1) & (train['부부_부_불임_원인'] == 1))]\n",
    "\n",
    "# '신선_배아_사용_여부', '동결_배아_사용_여부', '기증_배아_사용_여부' 3개의 변수의 값이 모두 0인 행 제거\n",
    "train_sub = pd.concat([train_sub, train[(train['신선_배아_사용_여부'] == 0) & (train['동결_배아_사용_여부'] == 0) & (train['기증_배아_사용_여부'] == 0)]])\n",
    "train = train[~((train['신선_배아_사용_여부'] == 0) & (train['동결_배아_사용_여부'] == 0) & (train['기증_배아_사용_여부'] == 0))]\n",
    "\n",
    "# '난자_출처'의 값이 '기증 제공'이면서 '정자_출처'의 값이 '미할당'인 행 제거\n",
    "train_sub = pd.concat([train_sub, train[(train['난자_출처'] == '기증 제공') & (train['정자_출처'] == '미할당')]])\n",
    "train = train[~((train['난자_출처'] == '기증 제공') & (train['정자_출처'] == '미할당'))]"
   ]
  },
  {
   "cell_type": "code",
   "execution_count": 988,
   "metadata": {},
   "outputs": [
    {
     "name": "stdout",
     "output_type": "stream",
     "text": [
      "임신_성공_여부 값 개수:\n",
      "임신_성공_여부\n",
      "0    3522\n",
      "Name: count, dtype: int64\n",
      "\n",
      "임신_성공_여부 값 비율 (%):\n",
      "임신_성공_여부\n",
      "0    100.0\n",
      "Name: count, dtype: float64\n"
     ]
    }
   ],
   "source": [
    "# '임신_성공_여부' 변수의 값 개수 계산\n",
    "value_counts = train_sub['임신_성공_여부'].value_counts()\n",
    "\n",
    "# 각 값이 전체에서 차지하는 비율 계산\n",
    "value_percentages = value_counts / len(train_sub) * 100\n",
    "\n",
    "# 결과 출력\n",
    "print(\"임신_성공_여부 값 개수:\")\n",
    "print(value_counts)\n",
    "print(\"\\n임신_성공_여부 값 비율 (%):\")\n",
    "print(value_percentages)"
   ]
  },
  {
   "cell_type": "code",
   "execution_count": 989,
   "metadata": {},
   "outputs": [
    {
     "name": "stdout",
     "output_type": "stream",
     "text": [
      "임신_성공_여부 값 개수:\n",
      "임신_성공_여부\n",
      "0    3522\n",
      "Name: count, dtype: int64\n",
      "\n",
      "임신_성공_여부 값 비율 (%):\n",
      "임신_성공_여부\n",
      "0    100.0\n",
      "Name: count, dtype: float64\n"
     ]
    }
   ],
   "source": [
    "# '임신_성공_여부' 변수의 값 개수 계산\n",
    "value_counts = train_sub['임신_성공_여부'].value_counts()\n",
    "\n",
    "# 각 값이 전체에서 차지하는 비율 계산\n",
    "value_percentages = value_counts / len(train_sub) * 100\n",
    "\n",
    "# 결과 출력\n",
    "print(\"임신_성공_여부 값 개수:\")\n",
    "print(value_counts)\n",
    "print(\"\\n임신_성공_여부 값 비율 (%):\")\n",
    "print(value_percentages)"
   ]
  },
  {
   "cell_type": "code",
   "execution_count": 990,
   "metadata": {},
   "outputs": [
    {
     "name": "stdout",
     "output_type": "stream",
     "text": [
      "<class 'pandas.core.frame.DataFrame'>\n",
      "Index: 3522 entries, 552 to 230895\n",
      "Data columns (total 67 columns):\n",
      " #   Column                 Non-Null Count  Dtype  \n",
      "---  ------                 --------------  -----  \n",
      " 0   ID                     3522 non-null   object \n",
      " 1   시술_시기_코드               3522 non-null   object \n",
      " 2   시술_당시_나이               3522 non-null   object \n",
      " 3   임신_시도_또는_마지막_임신_경과_연수  58 non-null     float64\n",
      " 4   특정_시술_유형               3522 non-null   object \n",
      " 5   배란_자극_여부               3522 non-null   int64  \n",
      " 6   배란_유도_유형               3522 non-null   object \n",
      " 7   단일_배아_이식_여부            3522 non-null   float64\n",
      " 8   착상_전_유전_검사_사용_여부       24 non-null     float64\n",
      " 9   착상_전_유전_진단_사용_여부       3522 non-null   float64\n",
      " 10  남성_주_불임_원인             3522 non-null   int64  \n",
      " 11  남성_부_불임_원인             3522 non-null   int64  \n",
      " 12  여성_주_불임_원인             3522 non-null   int64  \n",
      " 13  여성_부_불임_원인             3522 non-null   int64  \n",
      " 14  부부_주_불임_원인             3522 non-null   int64  \n",
      " 15  부부_부_불임_원인             3522 non-null   int64  \n",
      " 16  불명확_불임_원인              3522 non-null   int64  \n",
      " 17  불임_원인_-_난관_질환          3522 non-null   int64  \n",
      " 18  불임_원인_-_남성_요인          3522 non-null   int64  \n",
      " 19  불임_원인_-_배란_장애          3522 non-null   int64  \n",
      " 20  불임_원인_-_자궁경부_문제        3522 non-null   int64  \n",
      " 21  불임_원인_-_자궁내막증          3522 non-null   int64  \n",
      " 22  불임_원인_-_정자_농도          3522 non-null   int64  \n",
      " 23  불임_원인_-_정자_면역학적_요인     3522 non-null   int64  \n",
      " 24  불임_원인_-_정자_운동성         3522 non-null   int64  \n",
      " 25  불임_원인_-_정자_형태          3522 non-null   int64  \n",
      " 26  배아_생성_주요_이유            3522 non-null   object \n",
      " 27  총_시술_횟수                3522 non-null   object \n",
      " 28  클리닉_내_총_시술_횟수          3522 non-null   object \n",
      " 29  IVF_시술_횟수              3522 non-null   object \n",
      " 30  DI_시술_횟수               3522 non-null   object \n",
      " 31  총_임신_횟수                3522 non-null   object \n",
      " 32  IVF_임신_횟수              3522 non-null   object \n",
      " 33  DI_임신_횟수               3522 non-null   object \n",
      " 34  총_출산_횟수                3522 non-null   object \n",
      " 35  IVF_출산_횟수              3522 non-null   object \n",
      " 36  DI_출산_횟수               3522 non-null   object \n",
      " 37  총_생성_배아_수              3522 non-null   float64\n",
      " 38  미세주입된_난자_수             3522 non-null   float64\n",
      " 39  미세주입에서_생성된_배아_수        3522 non-null   float64\n",
      " 40  이식된_배아_수               3522 non-null   float64\n",
      " 41  미세주입_배아_이식_수           3522 non-null   float64\n",
      " 42  저장된_배아_수               3522 non-null   float64\n",
      " 43  미세주입_후_저장된_배아_수        3522 non-null   float64\n",
      " 44  해동된_배아_수               3522 non-null   float64\n",
      " 45  해동_난자_수                3522 non-null   float64\n",
      " 46  수집된_신선_난자_수            3522 non-null   float64\n",
      " 47  저장된_신선_난자_수            3522 non-null   float64\n",
      " 48  혼합된_난자_수               3522 non-null   float64\n",
      " 49  파트너_정자와_혼합된_난자_수       3522 non-null   float64\n",
      " 50  기증자_정자와_혼합된_난자_수       3522 non-null   float64\n",
      " 51  난자_출처                  3522 non-null   object \n",
      " 52  정자_출처                  3522 non-null   object \n",
      " 53  난자_기증자_나이              3522 non-null   object \n",
      " 54  정자_기증자_나이              3522 non-null   object \n",
      " 55  동결_배아_사용_여부            3522 non-null   float64\n",
      " 56  신선_배아_사용_여부            3522 non-null   float64\n",
      " 57  기증_배아_사용_여부            3522 non-null   float64\n",
      " 58  대리모_여부                 3522 non-null   float64\n",
      " 59  PGD_시술_여부              0 non-null      float64\n",
      " 60  PGS_시술_여부              3 non-null      float64\n",
      " 61  난자_채취_경과일              3480 non-null   float64\n",
      " 62  난자_해동_경과일              17 non-null     float64\n",
      " 63  난자_혼합_경과일              481 non-null    float64\n",
      " 64  배아_이식_경과일              44 non-null     float64\n",
      " 65  배아_해동_경과일              27 non-null     float64\n",
      " 66  임신_성공_여부               3522 non-null   int64  \n",
      "dtypes: float64(29), int64(18), object(20)\n",
      "memory usage: 1.8+ MB\n"
     ]
    }
   ],
   "source": [
    "train_sub.info()"
   ]
  },
  {
   "cell_type": "code",
   "execution_count": 991,
   "metadata": {},
   "outputs": [
    {
     "name": "stdout",
     "output_type": "stream",
     "text": [
      "임신_성공_여부 값 개수:\n",
      "임신_성공_여부\n",
      "0    3522\n",
      "Name: count, dtype: int64\n",
      "\n",
      "임신_성공_여부 값 비율 (%):\n",
      "임신_성공_여부\n",
      "0    100.0\n",
      "Name: count, dtype: float64\n"
     ]
    }
   ],
   "source": [
    "# '임신_성공_여부' 변수의 값 개수 계산\n",
    "value_counts = train_sub['임신_성공_여부'].value_counts()\n",
    "\n",
    "# 각 값이 전체에서 차지하는 비율 계산\n",
    "value_percentages = value_counts / len(train_sub) * 100\n",
    "\n",
    "# 결과 출력\n",
    "print(\"임신_성공_여부 값 개수:\")\n",
    "print(value_counts)\n",
    "print(\"\\n임신_성공_여부 값 비율 (%):\")\n",
    "print(value_percentages)"
   ]
  },
  {
   "cell_type": "code",
   "execution_count": 992,
   "metadata": {},
   "outputs": [
    {
     "name": "stdout",
     "output_type": "stream",
     "text": [
      "<class 'pandas.core.frame.DataFrame'>\n",
      "Index: 202135 entries, 0 to 256349\n",
      "Data columns (total 67 columns):\n",
      " #   Column                 Non-Null Count   Dtype  \n",
      "---  ------                 --------------   -----  \n",
      " 0   ID                     202135 non-null  object \n",
      " 1   시술_시기_코드               202135 non-null  object \n",
      " 2   시술_당시_나이               202135 non-null  object \n",
      " 3   임신_시도_또는_마지막_임신_경과_연수  4646 non-null    float64\n",
      " 4   특정_시술_유형               202133 non-null  object \n",
      " 5   배란_자극_여부               202135 non-null  int64  \n",
      " 6   배란_유도_유형               202135 non-null  object \n",
      " 7   단일_배아_이식_여부            202135 non-null  float64\n",
      " 8   착상_전_유전_검사_사용_여부       2235 non-null    float64\n",
      " 9   착상_전_유전_진단_사용_여부       202135 non-null  float64\n",
      " 10  남성_주_불임_원인             202135 non-null  int64  \n",
      " 11  남성_부_불임_원인             202135 non-null  int64  \n",
      " 12  여성_주_불임_원인             202135 non-null  int64  \n",
      " 13  여성_부_불임_원인             202135 non-null  int64  \n",
      " 14  부부_주_불임_원인             202135 non-null  int64  \n",
      " 15  부부_부_불임_원인             202135 non-null  int64  \n",
      " 16  불명확_불임_원인              202135 non-null  int64  \n",
      " 17  불임_원인_-_난관_질환          202135 non-null  int64  \n",
      " 18  불임_원인_-_남성_요인          202135 non-null  int64  \n",
      " 19  불임_원인_-_배란_장애          202135 non-null  int64  \n",
      " 20  불임_원인_-_자궁경부_문제        202135 non-null  int64  \n",
      " 21  불임_원인_-_자궁내막증          202135 non-null  int64  \n",
      " 22  불임_원인_-_정자_농도          202135 non-null  int64  \n",
      " 23  불임_원인_-_정자_면역학적_요인     202135 non-null  int64  \n",
      " 24  불임_원인_-_정자_운동성         202135 non-null  int64  \n",
      " 25  불임_원인_-_정자_형태          202135 non-null  int64  \n",
      " 26  배아_생성_주요_이유            202135 non-null  object \n",
      " 27  총_시술_횟수                202135 non-null  object \n",
      " 28  클리닉_내_총_시술_횟수          202135 non-null  object \n",
      " 29  IVF_시술_횟수              202135 non-null  object \n",
      " 30  DI_시술_횟수               202135 non-null  object \n",
      " 31  총_임신_횟수                202135 non-null  object \n",
      " 32  IVF_임신_횟수              202135 non-null  object \n",
      " 33  DI_임신_횟수               202135 non-null  object \n",
      " 34  총_출산_횟수                202135 non-null  object \n",
      " 35  IVF_출산_횟수              202135 non-null  object \n",
      " 36  DI_출산_횟수               202135 non-null  object \n",
      " 37  총_생성_배아_수              202135 non-null  float64\n",
      " 38  미세주입된_난자_수             202135 non-null  float64\n",
      " 39  미세주입에서_생성된_배아_수        202135 non-null  float64\n",
      " 40  이식된_배아_수               202135 non-null  float64\n",
      " 41  미세주입_배아_이식_수           202135 non-null  float64\n",
      " 42  저장된_배아_수               202135 non-null  float64\n",
      " 43  미세주입_후_저장된_배아_수        202135 non-null  float64\n",
      " 44  해동된_배아_수               202135 non-null  float64\n",
      " 45  해동_난자_수                202135 non-null  float64\n",
      " 46  수집된_신선_난자_수            202135 non-null  float64\n",
      " 47  저장된_신선_난자_수            202135 non-null  float64\n",
      " 48  혼합된_난자_수               202135 non-null  float64\n",
      " 49  파트너_정자와_혼합된_난자_수       202135 non-null  float64\n",
      " 50  기증자_정자와_혼합된_난자_수       202135 non-null  float64\n",
      " 51  난자_출처                  202135 non-null  object \n",
      " 52  정자_출처                  202135 non-null  object \n",
      " 53  난자_기증자_나이              202135 non-null  object \n",
      " 54  정자_기증자_나이              202135 non-null  object \n",
      " 55  동결_배아_사용_여부            202135 non-null  float64\n",
      " 56  신선_배아_사용_여부            202135 non-null  float64\n",
      " 57  기증_배아_사용_여부            202135 non-null  float64\n",
      " 58  대리모_여부                 202135 non-null  float64\n",
      " 59  PGD_시술_여부              1528 non-null    float64\n",
      " 60  PGS_시술_여부              1501 non-null    float64\n",
      " 61  난자_채취_경과일              190782 non-null  float64\n",
      " 62  난자_해동_경과일              1405 non-null    float64\n",
      " 63  난자_혼합_경과일              202135 non-null  float64\n",
      " 64  배아_이식_경과일              175772 non-null  float64\n",
      " 65  배아_해동_경과일              552 non-null     float64\n",
      " 66  임신_성공_여부               202135 non-null  int64  \n",
      "dtypes: float64(29), int64(18), object(20)\n",
      "memory usage: 104.9+ MB\n"
     ]
    }
   ],
   "source": [
    "train.info()"
   ]
  },
  {
   "cell_type": "markdown",
   "metadata": {},
   "source": [
    "### 1. 시술_시기_코드"
   ]
  },
  {
   "cell_type": "markdown",
   "metadata": {},
   "source": [
    "난임 시술을 받은 시기를 기준으로 코드 부여"
   ]
  },
  {
   "cell_type": "code",
   "execution_count": 994,
   "metadata": {},
   "outputs": [
    {
     "name": "stdout",
     "output_type": "stream",
     "text": [
      "\n",
      "시술_시기_코드별 임신_성공_여부 비율 및 갯수\n",
      "\n",
      "                 0         1      0     1  Total\n",
      "variable                                        \n",
      "TRCMWS    0.728467  0.271533  21728  8099  29827\n",
      "TRDQAZ    0.745628  0.254372  22427  7651  30078\n",
      "TRJXFG    0.713021  0.286979  20458  8234  28692\n",
      "TRVNRY    0.717612  0.282388  20739  8161  28900\n",
      "TRXQMD    0.717561  0.282439  19626  7725  27351\n",
      "TRYBLT    0.713961  0.286039  20707  8296  29003\n",
      "TRZKPL    0.720443  0.279557  20377  7907  28284\n"
     ]
    }
   ],
   "source": [
    "value_counts_ratio(train, '시술_시기_코드')"
   ]
  },
  {
   "cell_type": "code",
   "execution_count": 995,
   "metadata": {},
   "outputs": [],
   "source": [
    "# '시술_시기_코드' 변수 제거\n",
    "train = train.drop(columns=['시술_시기_코드'])\n",
    "test = test.drop(columns=['시술_시기_코드'])"
   ]
  },
  {
   "cell_type": "markdown",
   "metadata": {},
   "source": [
    "### 2. 시술 당시 나이"
   ]
  },
  {
   "cell_type": "markdown",
   "metadata": {},
   "source": [
    "환자의 시술 당시 나이(연령대)"
   ]
  },
  {
   "cell_type": "code",
   "execution_count": 996,
   "metadata": {},
   "outputs": [
    {
     "name": "stdout",
     "output_type": "stream",
     "text": [
      "\n",
      "시술_당시_나이별 임신_성공_여부 비율 및 갯수\n",
      "\n",
      "                 0         1      0      1  Total\n",
      "variable                                         \n",
      "만18-34세   0.656398  0.343602  55505  29055  84560\n",
      "만35-37세   0.701173  0.298827  31693  13507  45200\n",
      "만38-39세   0.769694  0.230306  23264   6961  30225\n",
      "만40-42세   0.836651  0.163349  23786   4644  28430\n",
      "만43-44세   0.883788  0.116212   8008   1053   9061\n",
      "만45-50세   0.816914  0.183086   3806    853   4659\n"
     ]
    }
   ],
   "source": [
    "value_counts_ratio(train, '시술_당시_나이')"
   ]
  },
  {
   "cell_type": "code",
   "execution_count": 997,
   "metadata": {},
   "outputs": [],
   "source": [
    "# '시술_당시_나이' 변수의 값을 중앙값으로 변환하는 함수 정의\n",
    "def convert_age_category(age_category):\n",
    "    if age_category == '만18-34세':\n",
    "        return (18 + 34) / 2\n",
    "    elif age_category == '만35-37세':\n",
    "        return (35 + 37) / 2\n",
    "    elif age_category == '만38-39세':\n",
    "        return (38 + 39) / 2\n",
    "    elif age_category == '만40-42세':\n",
    "        return (40 + 42) / 2\n",
    "    elif age_category == '만43-44세':\n",
    "        return (43 + 44) / 2\n",
    "    elif age_category == '만45-50세':\n",
    "        return (45 + 50) / 2\n",
    "    else:\n",
    "        return None\n",
    "\n",
    "# '시술_당시_나이' 변수의 값을 중앙값으로 변환\n",
    "train['시술_당시_나이'] = train['시술_당시_나이'].apply(convert_age_category)\n",
    "test['시술_당시_나이'] = test['시술_당시_나이'].apply(convert_age_category)"
   ]
  },
  {
   "cell_type": "code",
   "execution_count": 998,
   "metadata": {},
   "outputs": [
    {
     "name": "stdout",
     "output_type": "stream",
     "text": [
      "\n",
      "시술_당시_나이별 임신_성공_여부 비율 및 갯수\n",
      "\n",
      "                 0         1      0      1  Total\n",
      "variable                                         \n",
      "26.0      0.656398  0.343602  55505  29055  84560\n",
      "36.0      0.701173  0.298827  31693  13507  45200\n",
      "38.5      0.769694  0.230306  23264   6961  30225\n",
      "41.0      0.836651  0.163349  23786   4644  28430\n",
      "43.5      0.883788  0.116212   8008   1053   9061\n",
      "47.5      0.816914  0.183086   3806    853   4659\n"
     ]
    }
   ],
   "source": [
    "value_counts_ratio(train, '시술_당시_나이')"
   ]
  },
  {
   "cell_type": "markdown",
   "metadata": {},
   "source": [
    "### 3. 임신 시도 또는 마지막 임신 경과 일수"
   ]
  },
  {
   "cell_type": "markdown",
   "metadata": {},
   "source": [
    "환자가 처음 임신을 시도한 시점 또는 마지막 임신 이후 현재까지의 경과 연수 (년 단위)"
   ]
  },
  {
   "cell_type": "code",
   "execution_count": 999,
   "metadata": {},
   "outputs": [
    {
     "name": "stdout",
     "output_type": "stream",
     "text": [
      "\n",
      "임신_시도_또는_마지막_임신_경과_연수별 임신_성공_여부 비율 및 갯수\n",
      "\n",
      "                 0         1    0    1  Total\n",
      "variable                                     \n",
      "0.0       0.500000  0.500000    4    4      8\n",
      "1.0       0.666667  0.333333    2    1      3\n",
      "2.0       0.823529  0.176471   14    3     17\n",
      "3.0       0.767442  0.232558   33   10     43\n",
      "4.0       0.744186  0.255814  128   44    172\n",
      "5.0       0.706186  0.293814  274  114    388\n",
      "6.0       0.685771  0.314229  347  159    506\n",
      "7.0       0.708609  0.291391  428  176    604\n",
      "8.0       0.747458  0.252542  441  149    590\n",
      "9.0       0.753012  0.246988  375  123    498\n",
      "10.0      0.750000  0.250000  327  109    436\n",
      "11.0      0.760252  0.239748  241   76    317\n",
      "12.0      0.716599  0.283401  177   70    247\n",
      "13.0      0.789030  0.210970  187   50    237\n",
      "14.0      0.753247  0.246753  116   38    154\n",
      "15.0      0.740157  0.259843   94   33    127\n",
      "16.0      0.849462  0.150538   79   14     93\n",
      "17.0      0.753846  0.246154   49   16     65\n",
      "18.0      0.821429  0.178571   46   10     56\n",
      "19.0      0.872340  0.127660   41    6     47\n",
      "20.0      0.868421  0.131579   33    5     38\n"
     ]
    }
   ],
   "source": [
    "value_counts_ratio(train, '임신_시도_또는_마지막_임신_경과_연수')"
   ]
  },
  {
   "cell_type": "code",
   "execution_count": 1000,
   "metadata": {},
   "outputs": [
    {
     "name": "stdout",
     "output_type": "stream",
     "text": [
      "결측값 개수: 197489\n",
      "결측값 개수: 0\n"
     ]
    }
   ],
   "source": [
    "print(\"결측값 개수:\", train['임신_시도_또는_마지막_임신_경과_연수'].isnull().sum())\n",
    "\n",
    "train['임신_시도_또는_마지막_임신_경과_연수'].fillna(-1, inplace=True)\n",
    "test['임신_시도_또는_마지막_임신_경과_연수'].fillna(-1, inplace=True)\n",
    "\n",
    "print(\"결측값 개수:\", train['임신_시도_또는_마지막_임신_경과_연수'].isnull().sum())"
   ]
  },
  {
   "cell_type": "code",
   "execution_count": 1001,
   "metadata": {},
   "outputs": [
    {
     "name": "stdout",
     "output_type": "stream",
     "text": [
      "\n",
      "임신_시도_또는_마지막_임신_경과_연수별 임신_성공_여부 비율 및 갯수\n",
      "\n",
      "                 0         1       0      1   Total\n",
      "variable                                           \n",
      "-1.0      0.722197  0.277803  142626  54863  197489\n",
      " 0.0      0.500000  0.500000       4      4       8\n",
      " 1.0      0.666667  0.333333       2      1       3\n",
      " 2.0      0.823529  0.176471      14      3      17\n",
      " 3.0      0.767442  0.232558      33     10      43\n",
      " 4.0      0.744186  0.255814     128     44     172\n",
      " 5.0      0.706186  0.293814     274    114     388\n",
      " 6.0      0.685771  0.314229     347    159     506\n",
      " 7.0      0.708609  0.291391     428    176     604\n",
      " 8.0      0.747458  0.252542     441    149     590\n",
      " 9.0      0.753012  0.246988     375    123     498\n",
      " 10.0     0.750000  0.250000     327    109     436\n",
      " 11.0     0.760252  0.239748     241     76     317\n",
      " 12.0     0.716599  0.283401     177     70     247\n",
      " 13.0     0.789030  0.210970     187     50     237\n",
      " 14.0     0.753247  0.246753     116     38     154\n",
      " 15.0     0.740157  0.259843      94     33     127\n",
      " 16.0     0.849462  0.150538      79     14      93\n",
      " 17.0     0.753846  0.246154      49     16      65\n",
      " 18.0     0.821429  0.178571      46     10      56\n",
      " 19.0     0.872340  0.127660      41      6      47\n",
      " 20.0     0.868421  0.131579      33      5      38\n"
     ]
    }
   ],
   "source": [
    "value_counts_ratio(train, '임신_시도_또는_마지막_임신_경과_연수')"
   ]
  },
  {
   "cell_type": "markdown",
   "metadata": {},
   "source": [
    "### 5. 특정_시술_유형"
   ]
  },
  {
   "cell_type": "markdown",
   "metadata": {},
   "source": [
    "IVF – 체외 수정 (시험관 아기 시술)  \n",
    "ICSI – 세포질 내 정자 주입  \n",
    "IUI – 인공 수정 (자궁 내 주입)  \n",
    "BLASTOCYST – 배반포 단계에 이식  \n",
    "AH – 배아를 hatching 시켜주는 과정  \n",
    "Unknown – 시술 유형 정보가 제공되지 않았거나 알 수 없음  \n",
    "\n",
    "(*) 특수 기호의 의미  \n",
    "\"/\" – 복합적인 시술 방법을 의미 (예: ICSI / BLASTOCYST)  \n",
    "\":\" – 동일 시술 내 세부 조합을 의미 (예: ICSI:IVF)  "
   ]
  },
  {
   "cell_type": "code",
   "execution_count": 1002,
   "metadata": {},
   "outputs": [
    {
     "name": "stdout",
     "output_type": "stream",
     "text": [
      "\n",
      "특정_시술_유형별 임신_성공_여부 비율 및 갯수\n",
      "\n",
      "                                            0         1        0        1  \\\n",
      "variable                                                                    \n",
      "FER                                  1.000000  0.000000      2.0      0.0   \n",
      "GIFT                                 1.000000  0.000000      1.0      0.0   \n",
      "ICSI                                 0.723222  0.276778  83292.0  31876.0   \n",
      "ICSI / AH                            0.776521  0.223479    549.0    158.0   \n",
      "ICSI / AH:Unknown                    0.500000  0.500000      1.0      1.0   \n",
      "ICSI / BLASTOCYST                    0.610380  0.389620    788.0    503.0   \n",
      "ICSI / BLASTOCYST :IVF / BLASTOCYST  0.750000  0.250000      3.0      1.0   \n",
      "ICSI / BLASTOCYST:IVF / BLASTOCYST   0.666667  0.333333      4.0      2.0   \n",
      "ICSI:ICSI                            0.990999  0.009001   2202.0     20.0   \n",
      "ICSI:IVF                             0.762911  0.237089    650.0    202.0   \n",
      "ICSI:Unknown                         0.896040  0.103960    181.0     21.0   \n",
      "IVF                                  0.711939  0.288061  56083.0  22692.0   \n",
      "IVF / AH                             0.812287  0.187713    238.0     55.0   \n",
      "IVF / AH:ICSI / AH                   1.000000  0.000000      2.0      0.0   \n",
      "IVF / BLASTOCYST                     0.581140  0.418860    530.0    382.0   \n",
      "IVF:ICSI                             0.713178  0.286822    276.0    111.0   \n",
      "IVF:IVF                              0.990942  0.009058   1094.0     10.0   \n",
      "IVF:Unknown                          0.819149  0.180851     77.0     17.0   \n",
      "Unknown                              0.798165  0.201835     87.0     22.0   \n",
      "\n",
      "                                      Total  \n",
      "variable                                     \n",
      "FER                                       2  \n",
      "GIFT                                      1  \n",
      "ICSI                                 115168  \n",
      "ICSI / AH                               707  \n",
      "ICSI / AH:Unknown                         2  \n",
      "ICSI / BLASTOCYST                      1291  \n",
      "ICSI / BLASTOCYST :IVF / BLASTOCYST       4  \n",
      "ICSI / BLASTOCYST:IVF / BLASTOCYST        6  \n",
      "ICSI:ICSI                              2222  \n",
      "ICSI:IVF                                852  \n",
      "ICSI:Unknown                            202  \n",
      "IVF                                   78775  \n",
      "IVF / AH                                293  \n",
      "IVF / AH:ICSI / AH                        2  \n",
      "IVF / BLASTOCYST                        912  \n",
      "IVF:ICSI                                387  \n",
      "IVF:IVF                                1104  \n",
      "IVF:Unknown                              94  \n",
      "Unknown                                 109  \n"
     ]
    }
   ],
   "source": [
    "value_counts_ratio(train, '특정_시술_유형')"
   ]
  },
  {
   "cell_type": "code",
   "execution_count": 1003,
   "metadata": {},
   "outputs": [
    {
     "data": {
      "text/plain": [
       "특정_시술_유형\n",
       "ICSI                                  43237\n",
       "IVF                                   32350\n",
       "Unknown                                9216\n",
       "ICSI:ICSI                               797\n",
       "ICSI / BLASTOCYST                       584\n",
       "IVF:IVF                                 406\n",
       "IVF / BLASTOCYST                        389\n",
       "ICSI:IVF                                298\n",
       "ICSI / AH                               264\n",
       "IVF:ICSI                                133\n",
       "IVF / AH                                105\n",
       "ICSI:Unknown                             68\n",
       "IVF:Unknown                              41\n",
       "ICSI / BLASTOCYST:IVF / BLASTOCYST        2\n",
       "IVF:Unknown:Unknown:Unknown               1\n",
       "Name: count, dtype: int64"
      ]
     },
     "execution_count": 1003,
     "metadata": {},
     "output_type": "execute_result"
    }
   ],
   "source": [
    "test['특정_시술_유형'].value_counts()"
   ]
  },
  {
   "cell_type": "code",
   "execution_count": 1004,
   "metadata": {},
   "outputs": [],
   "source": [
    "# '특정_시술_유형' 변수의 값이 'FER' 또는 'GIFT'인 행 제거 (test 데이터에는 해당 값이 없음)\n",
    "train = train.loc[~train['특정_시술_유형'].isin(['FER', 'GIFT'])]"
   ]
  },
  {
   "cell_type": "code",
   "execution_count": 1005,
   "metadata": {},
   "outputs": [],
   "source": [
    "# 시술 유형 변환 함수\n",
    "def transform_treatment(treatment):\n",
    "    if isinstance(treatment, str):  # treatment가 문자열인지 확인\n",
    "        if treatment.startswith(\"ICSI\"):\n",
    "            if \"AH\" in treatment:\n",
    "                return \"ICSI / AH\"\n",
    "            elif \"BLASTOCYST\" in treatment:\n",
    "                return \"ICSI / BLASTOCYST\"\n",
    "            return \"ICSI\"\n",
    "        elif treatment.startswith(\"IVF\"):\n",
    "            if \"AH\" in treatment:\n",
    "                return \"IVF / AH\"\n",
    "            elif \"BLASTOCYST\" in treatment:\n",
    "                return \"IVF / BLASTOCYST\"\n",
    "            return \"IVF\"\n",
    "    return treatment  # 기타 시술은 그대로 반환\n",
    "\n",
    "# 변환된 열 추가\n",
    "train['특정_시술_유형'] = train['특정_시술_유형'].apply(transform_treatment)\n",
    "test['특정_시술_유형'] = test['특정_시술_유형'].apply(transform_treatment)"
   ]
  },
  {
   "cell_type": "code",
   "execution_count": 1006,
   "metadata": {},
   "outputs": [
    {
     "name": "stdout",
     "output_type": "stream",
     "text": [
      "\n",
      "특정_시술_유형별 임신_성공_여부 비율 및 갯수\n",
      "\n",
      "                          0         1      0      1   Total\n",
      "variable                                                   \n",
      "ICSI               0.728825  0.271175  86325  32119  118444\n",
      "ICSI / AH          0.775740  0.224260    550    159     709\n",
      "ICSI / BLASTOCYST  0.611068  0.388932    795    506    1301\n",
      "IVF                0.715903  0.284097  57530  22830   80360\n",
      "IVF / AH           0.813559  0.186441    240     55     295\n",
      "IVF / BLASTOCYST   0.581140  0.418860    530    382     912\n",
      "Unknown            0.798165  0.201835     87     22     109\n"
     ]
    }
   ],
   "source": [
    "value_counts_ratio(train, '특정_시술_유형')"
   ]
  },
  {
   "cell_type": "code",
   "execution_count": 1007,
   "metadata": {},
   "outputs": [
    {
     "data": {
      "text/plain": [
       "특정_시술_유형\n",
       "ICSI                 44400\n",
       "IVF                  32931\n",
       "Unknown               9216\n",
       "ICSI / BLASTOCYST      586\n",
       "IVF / BLASTOCYST       389\n",
       "ICSI / AH              264\n",
       "IVF / AH               105\n",
       "Name: count, dtype: int64"
      ]
     },
     "execution_count": 1007,
     "metadata": {},
     "output_type": "execute_result"
    }
   ],
   "source": [
    "test['특정_시술_유형'].value_counts()"
   ]
  },
  {
   "cell_type": "code",
   "execution_count": 1008,
   "metadata": {},
   "outputs": [],
   "source": [
    "# 더미 변수 생성 함수 정의\n",
    "def create_dummy(x, keyword):\n",
    "    if isinstance(x, str) and keyword in x:\n",
    "        return 1\n",
    "    else:\n",
    "        return 0\n",
    "\n",
    "# 더미 변수 생성\n",
    "train['특정_시술_유형_ICSI_더미'] = train['특정_시술_유형'].apply(lambda x: create_dummy(x, 'ICSI'))\n",
    "train['특정_시술_유형_IVF_더미'] = train['특정_시술_유형'].apply(lambda x: create_dummy(x, 'IVF'))\n",
    "train['특정_시술_유형_AH_더미'] = train['특정_시술_유형'].apply(lambda x: create_dummy(x, 'AH'))\n",
    "train['특정_시술_유형_BLASTOCYST_더미'] = train['특정_시술_유형'].apply(lambda x: create_dummy(x, 'BLASTOCYST'))\n",
    "\n",
    "test['특정_시술_유형_ICSI_더미'] = test['특정_시술_유형'].apply(lambda x: create_dummy(x, 'ICSI'))\n",
    "test['특정_시술_유형_IVF_더미'] = test['특정_시술_유형'].apply(lambda x: create_dummy(x, 'IVF'))\n",
    "test['특정_시술_유형_AH_더미'] = test['특정_시술_유형'].apply(lambda x: create_dummy(x, 'AH'))\n",
    "test['특정_시술_유형_BLASTOCYST_더미'] = test['특정_시술_유형'].apply(lambda x: create_dummy(x, 'BLASTOCYST'))"
   ]
  },
  {
   "cell_type": "code",
   "execution_count": 1009,
   "metadata": {},
   "outputs": [
    {
     "name": "stdout",
     "output_type": "stream",
     "text": [
      "Grouped by: 특정_시술_유형_ICSI_더미, 특정_시술_유형_IVF_더미, 특정_시술_유형_AH_더미, 특정_시술_유형_BLASTOCYST_더미\n",
      "\n",
      "          group  '임신_성공_여부' count     ratio   Total\n",
      "0  (0, 0, 0, 0)                22  0.198198     111\n",
      "1  (0, 1, 0, 0)             22830  0.284097   80360\n",
      "2  (0, 1, 0, 1)               382  0.418860     912\n",
      "3  (0, 1, 1, 0)                55  0.186441     295\n",
      "4  (1, 0, 0, 0)             32119  0.271175  118444\n",
      "5  (1, 0, 0, 1)               506  0.388932    1301\n",
      "6  (1, 0, 1, 0)               159  0.224260     709\n"
     ]
    }
   ],
   "source": [
    "summarize_group(train, [\n",
    "    # '특정_시술_유형',\n",
    "    '특정_시술_유형_ICSI_더미',\n",
    "    '특정_시술_유형_IVF_더미',\n",
    "    '특정_시술_유형_AH_더미',\n",
    "    '특정_시술_유형_BLASTOCYST_더미'\n",
    "    ])"
   ]
  },
  {
   "cell_type": "code",
   "execution_count": 1010,
   "metadata": {},
   "outputs": [],
   "source": [
    "train = train.drop(columns=['특정_시술_유형'])\n",
    "test = test.drop(columns=['특정_시술_유형'])"
   ]
  },
  {
   "cell_type": "markdown",
   "metadata": {},
   "source": [
    "### 6. 배란_자극_여부"
   ]
  },
  {
   "cell_type": "markdown",
   "metadata": {},
   "source": [
    "배란 자극 치료가 사용되었는지 여부"
   ]
  },
  {
   "cell_type": "code",
   "execution_count": 1011,
   "metadata": {},
   "outputs": [
    {
     "name": "stdout",
     "output_type": "stream",
     "text": [
      "\n",
      "배란_자극_여부별 임신_성공_여부 비율 및 갯수\n",
      "\n",
      "                 0         1       0      1   Total\n",
      "variable                                           \n",
      "0         0.731007  0.268993   11104   4086   15190\n",
      "1         0.721908  0.278092  134955  51987  186942\n"
     ]
    }
   ],
   "source": [
    "value_counts_ratio(train, '배란_자극_여부')"
   ]
  },
  {
   "cell_type": "markdown",
   "metadata": {},
   "source": [
    "### 7. 배란_유도_유형"
   ]
  },
  {
   "cell_type": "markdown",
   "metadata": {},
   "source": [
    "사용된 배란 유도 방법 유형"
   ]
  },
  {
   "cell_type": "code",
   "execution_count": 1012,
   "metadata": {},
   "outputs": [
    {
     "name": "stdout",
     "output_type": "stream",
     "text": [
      "\n",
      "배란_유도_유형별 임신_성공_여부 비율 및 갯수\n",
      "\n",
      "                   0         1         0        1   Total\n",
      "variable                                                 \n",
      "기록되지 않은 시행  0.721912  0.278088  134955.0  51986.0  186941\n",
      "생식선 자극 호르몬  0.000000  1.000000       0.0      1.0       1\n",
      "알 수 없음      0.731007  0.268993   11104.0   4086.0   15190\n"
     ]
    }
   ],
   "source": [
    "value_counts_ratio(train, '배란_유도_유형')"
   ]
  },
  {
   "cell_type": "code",
   "execution_count": 1013,
   "metadata": {},
   "outputs": [
    {
     "data": {
      "text/plain": [
       "배란_유도_유형\n",
       "기록되지 않은 시행    68599\n",
       "알 수 없음        19292\n",
       "Name: count, dtype: int64"
      ]
     },
     "execution_count": 1013,
     "metadata": {},
     "output_type": "execute_result"
    }
   ],
   "source": [
    "test['배란_유도_유형'].value_counts()"
   ]
  },
  {
   "cell_type": "code",
   "execution_count": 1014,
   "metadata": {},
   "outputs": [],
   "source": [
    "# 갯수 적은 배란 유도 유형 제거\n",
    "train = train.loc[~train['배란_유도_유형'].isin(['생식선 자극 호르몬', '세트로타이드 (억제제)'])]\n",
    "test = test.loc[~test['배란_유도_유형'].isin(['생식선 자극 호르몬', '세트로타이드 (억제제)'])]"
   ]
  },
  {
   "cell_type": "code",
   "execution_count": 1015,
   "metadata": {},
   "outputs": [
    {
     "name": "stdout",
     "output_type": "stream",
     "text": [
      "\n",
      "배란_유도_유형별 임신_성공_여부 비율 및 갯수\n",
      "\n",
      "                   0         1       0      1   Total\n",
      "variable                                             \n",
      "기록되지 않은 시행  0.721912  0.278088  134955  51986  186941\n",
      "알 수 없음      0.731007  0.268993   11104   4086   15190\n"
     ]
    }
   ],
   "source": [
    "value_counts_ratio(train, '배란_유도_유형')"
   ]
  },
  {
   "cell_type": "code",
   "execution_count": 1016,
   "metadata": {},
   "outputs": [],
   "source": [
    "train= train.drop(columns=['배란_유도_유형'])\n",
    "test = test.drop(columns=['배란_유도_유형'])"
   ]
  },
  {
   "cell_type": "markdown",
   "metadata": {},
   "source": [
    "### 8. 단일_배아_이식_여부"
   ]
  },
  {
   "cell_type": "markdown",
   "metadata": {},
   "source": [
    "선택적으로 단일 배아를 이식했는지 여부"
   ]
  },
  {
   "cell_type": "code",
   "execution_count": 1017,
   "metadata": {},
   "outputs": [
    {
     "name": "stdout",
     "output_type": "stream",
     "text": [
      "\n",
      "단일_배아_이식_여부별 임신_성공_여부 비율 및 갯수\n",
      "\n",
      "                 0         1       0      1   Total\n",
      "variable                                           \n",
      "0.0       0.757602  0.242398  115179  36852  152031\n",
      "1.0       0.616367  0.383633   30880  19220   50100\n"
     ]
    }
   ],
   "source": [
    "value_counts_ratio(train, '단일_배아_이식_여부')"
   ]
  },
  {
   "cell_type": "markdown",
   "metadata": {},
   "source": [
    "### 9. 착상_전_유전_검사_사용_여부"
   ]
  },
  {
   "cell_type": "markdown",
   "metadata": {},
   "source": [
    "PGS(착상 전 유전 검사)가 시행되었는지 여부"
   ]
  },
  {
   "cell_type": "code",
   "execution_count": 1018,
   "metadata": {},
   "outputs": [
    {
     "name": "stdout",
     "output_type": "stream",
     "text": [
      "\n",
      "착상_전_유전_검사_사용_여부별 임신_성공_여부 비율 및 갯수\n",
      "\n",
      "                 0         1     0    1  Total\n",
      "variable                                      \n",
      "1.0       0.883669  0.116331  1975  260   2235\n"
     ]
    }
   ],
   "source": [
    "value_counts_ratio(train, '착상_전_유전_검사_사용_여부')"
   ]
  },
  {
   "cell_type": "code",
   "execution_count": 1019,
   "metadata": {},
   "outputs": [
    {
     "name": "stdout",
     "output_type": "stream",
     "text": [
      "결측값 개수: 199896\n",
      "결측값 개수: 0\n"
     ]
    }
   ],
   "source": [
    "# 결측값 개수 확인\n",
    "print(\"결측값 개수:\", train['착상_전_유전_검사_사용_여부'].isnull().sum())\n",
    "\n",
    "# 결측값을 0으로 채우기\n",
    "train['착상_전_유전_검사_사용_여부'].fillna(0, inplace=True)\n",
    "test['착상_전_유전_검사_사용_여부'].fillna(0, inplace=True)\n",
    "\n",
    "# 결측값 개수 확인\n",
    "print(\"결측값 개수:\", train['착상_전_유전_검사_사용_여부'].isnull().sum())"
   ]
  },
  {
   "cell_type": "markdown",
   "metadata": {},
   "source": [
    "### 10. 착상_전_유전_진단_사용_여부"
   ]
  },
  {
   "cell_type": "markdown",
   "metadata": {},
   "source": [
    "PGD(착상 전 유전 진단)가 시행되었는지 여부"
   ]
  },
  {
   "cell_type": "code",
   "execution_count": 1020,
   "metadata": {},
   "outputs": [
    {
     "name": "stdout",
     "output_type": "stream",
     "text": [
      "\n",
      "착상_전_유전_진단_사용_여부별 임신_성공_여부 비율 및 갯수\n",
      "\n",
      "                 0         1       0      1   Total\n",
      "variable                                           \n",
      "0.0       0.721267  0.278733  143988  55644  199632\n",
      "1.0       0.828731  0.171269    2071    428    2499\n"
     ]
    }
   ],
   "source": [
    "value_counts_ratio(train, '착상_전_유전_진단_사용_여부')"
   ]
  },
  {
   "cell_type": "code",
   "execution_count": 1021,
   "metadata": {},
   "outputs": [
    {
     "name": "stdout",
     "output_type": "stream",
     "text": [
      "Grouped by: 착상_전_유전_진단_사용_여부, 착상_전_유전_검사_사용_여부\n",
      "\n",
      "        group  '임신_성공_여부' count     ratio   Total\n",
      "0  (0.0, 0.0)             55384  0.280572  197397\n",
      "1  (0.0, 1.0)               260  0.116331    2235\n",
      "2  (1.0, 0.0)               428  0.171269    2499\n"
     ]
    }
   ],
   "source": [
    "summarize_group(train, [\n",
    "    '착상_전_유전_진단_사용_여부',\n",
    "     '착상_전_유전_검사_사용_여부'\n",
    "     ])"
   ]
  },
  {
   "cell_type": "markdown",
   "metadata": {},
   "source": [
    "### 11. 남성_주_불임_원인"
   ]
  },
  {
   "cell_type": "markdown",
   "metadata": {},
   "source": [
    "남성의 주요 불임 원인 여부"
   ]
  },
  {
   "cell_type": "code",
   "execution_count": 1022,
   "metadata": {},
   "outputs": [
    {
     "name": "stdout",
     "output_type": "stream",
     "text": [
      "\n",
      "남성_주_불임_원인별 임신_성공_여부 비율 및 갯수\n",
      "\n",
      "                 0         1       0      1   Total\n",
      "variable                                           \n",
      "0         0.722304  0.277696  143373  55121  198494\n",
      "1         0.738521  0.261479    2686    951    3637\n"
     ]
    }
   ],
   "source": [
    "value_counts_ratio(train, '남성_주_불임_원인')"
   ]
  },
  {
   "cell_type": "markdown",
   "metadata": {},
   "source": [
    "### 12. 남성_부_불임_원인"
   ]
  },
  {
   "cell_type": "markdown",
   "metadata": {},
   "source": [
    "남성의 부차적 불임 원인 여부"
   ]
  },
  {
   "cell_type": "code",
   "execution_count": 1023,
   "metadata": {},
   "outputs": [
    {
     "name": "stdout",
     "output_type": "stream",
     "text": [
      "\n",
      "남성_부_불임_원인별 임신_성공_여부 비율 및 갯수\n",
      "\n",
      "                 0         1       0      1   Total\n",
      "variable                                           \n",
      "0         0.722265  0.277735  144807  55683  200490\n",
      "1         0.762949  0.237051    1252    389    1641\n"
     ]
    }
   ],
   "source": [
    "value_counts_ratio(train, '남성_부_불임_원인')"
   ]
  },
  {
   "cell_type": "code",
   "execution_count": 1024,
   "metadata": {},
   "outputs": [
    {
     "name": "stdout",
     "output_type": "stream",
     "text": [
      "Grouped by: 남성_주_불임_원인, 남성_부_불임_원인\n",
      "\n",
      "    group  '임신_성공_여부' count     ratio   Total\n",
      "0  (0, 0)             54732  0.278035  196853\n",
      "1  (0, 1)               389  0.237051    1641\n",
      "2  (1, 0)               951  0.261479    3637\n"
     ]
    }
   ],
   "source": [
    "summarize_group(train, ['남성_주_불임_원인', '남성_부_불임_원인'])"
   ]
  },
  {
   "cell_type": "markdown",
   "metadata": {},
   "source": [
    "### 13. 여성_주_불임_원인"
   ]
  },
  {
   "cell_type": "markdown",
   "metadata": {},
   "source": [
    "여성의 주요 불임 원인 여부"
   ]
  },
  {
   "cell_type": "code",
   "execution_count": 1025,
   "metadata": {},
   "outputs": [
    {
     "name": "stdout",
     "output_type": "stream",
     "text": [
      "\n",
      "여성_주_불임_원인별 임신_성공_여부 비율 및 갯수\n",
      "\n",
      "                 0         1       0      1   Total\n",
      "variable                                           \n",
      "0         0.722254  0.277746  143197  55067  198264\n",
      "1         0.740109  0.259891    2862   1005    3867\n"
     ]
    }
   ],
   "source": [
    "value_counts_ratio(train, '여성_주_불임_원인')"
   ]
  },
  {
   "cell_type": "markdown",
   "metadata": {},
   "source": [
    "### 14. 여성_부_불임_원인"
   ]
  },
  {
   "cell_type": "markdown",
   "metadata": {},
   "source": [
    "여성의 부차적 불임 원인 여부"
   ]
  },
  {
   "cell_type": "code",
   "execution_count": 1026,
   "metadata": {},
   "outputs": [
    {
     "name": "stdout",
     "output_type": "stream",
     "text": [
      "\n",
      "여성_부_불임_원인별 임신_성공_여부 비율 및 갯수\n",
      "\n",
      "                 0         1       0      1   Total\n",
      "variable                                           \n",
      "0         0.722259  0.277741  144865  55707  200572\n",
      "1         0.765876  0.234124    1194    365    1559\n"
     ]
    }
   ],
   "source": [
    "value_counts_ratio(train, '여성_부_불임_원인')"
   ]
  },
  {
   "cell_type": "code",
   "execution_count": 1027,
   "metadata": {},
   "outputs": [
    {
     "name": "stdout",
     "output_type": "stream",
     "text": [
      "Grouped by: 여성_주_불임_원인, 여성_부_불임_원인\n",
      "\n",
      "    group  '임신_성공_여부' count     ratio   Total\n",
      "0  (0, 0)             54702  0.278092  196705\n",
      "1  (0, 1)               365  0.234124    1559\n",
      "2  (1, 0)              1005  0.259891    3867\n"
     ]
    }
   ],
   "source": [
    "summarize_group(train, ['여성_주_불임_원인', '여성_부_불임_원인'])"
   ]
  },
  {
   "cell_type": "markdown",
   "metadata": {},
   "source": [
    "### 15. 부부_주_불임_원인"
   ]
  },
  {
   "cell_type": "markdown",
   "metadata": {},
   "source": [
    "부부의 주요 불임 원인 여부"
   ]
  },
  {
   "cell_type": "code",
   "execution_count": 1028,
   "metadata": {},
   "outputs": [
    {
     "name": "stdout",
     "output_type": "stream",
     "text": [
      "\n",
      "부부_주_불임_원인별 임신_성공_여부 비율 및 갯수\n",
      "\n",
      "                 0         1       0      1   Total\n",
      "variable                                           \n",
      "0         0.722266  0.277734  142935  54963  197898\n",
      "1         0.738011  0.261989    3124   1109    4233\n"
     ]
    }
   ],
   "source": [
    "value_counts_ratio(train, '부부_주_불임_원인')"
   ]
  },
  {
   "cell_type": "markdown",
   "metadata": {},
   "source": [
    "### 16. 부부_부_불임_원인"
   ]
  },
  {
   "cell_type": "markdown",
   "metadata": {},
   "source": [
    "부부의 부차적 불임 원인 여부"
   ]
  },
  {
   "cell_type": "code",
   "execution_count": 1029,
   "metadata": {},
   "outputs": [
    {
     "name": "stdout",
     "output_type": "stream",
     "text": [
      "\n",
      "부부_부_불임_원인별 임신_성공_여부 비율 및 갯수\n",
      "\n",
      "                 0         1       0      1   Total\n",
      "variable                                           \n",
      "0         0.722310  0.277690  145232  55834  201066\n",
      "1         0.776526  0.223474     827    238    1065\n"
     ]
    }
   ],
   "source": [
    "value_counts_ratio(train, '부부_부_불임_원인')"
   ]
  },
  {
   "cell_type": "code",
   "execution_count": 1030,
   "metadata": {},
   "outputs": [
    {
     "name": "stdout",
     "output_type": "stream",
     "text": [
      "Grouped by: 부부_주_불임_원인, 부부_부_불임_원인\n",
      "\n",
      "    group  '임신_성공_여부' count     ratio   Total\n",
      "0  (0, 0)             54725  0.278028  196833\n",
      "1  (0, 1)               238  0.223474    1065\n",
      "2  (1, 0)              1109  0.261989    4233\n"
     ]
    }
   ],
   "source": [
    "summarize_group(train, ['부부_주_불임_원인', '부부_부_불임_원인'])"
   ]
  },
  {
   "cell_type": "code",
   "execution_count": 1031,
   "metadata": {},
   "outputs": [
    {
     "data": {
      "text/html": [
       "<div>\n",
       "<style scoped>\n",
       "    .dataframe tbody tr th:only-of-type {\n",
       "        vertical-align: middle;\n",
       "    }\n",
       "\n",
       "    .dataframe tbody tr th {\n",
       "        vertical-align: top;\n",
       "    }\n",
       "\n",
       "    .dataframe thead th {\n",
       "        text-align: right;\n",
       "    }\n",
       "</style>\n",
       "<table border=\"1\" class=\"dataframe\">\n",
       "  <thead>\n",
       "    <tr style=\"text-align: right;\">\n",
       "      <th></th>\n",
       "      <th>부부_주_불임_원인</th>\n",
       "      <th>부부_부_불임_원인</th>\n",
       "      <th>count</th>\n",
       "    </tr>\n",
       "  </thead>\n",
       "  <tbody>\n",
       "    <tr>\n",
       "      <th>0</th>\n",
       "      <td>0</td>\n",
       "      <td>0</td>\n",
       "      <td>84254</td>\n",
       "    </tr>\n",
       "    <tr>\n",
       "      <th>1</th>\n",
       "      <td>0</td>\n",
       "      <td>1</td>\n",
       "      <td>751</td>\n",
       "    </tr>\n",
       "    <tr>\n",
       "      <th>2</th>\n",
       "      <td>1</td>\n",
       "      <td>0</td>\n",
       "      <td>2883</td>\n",
       "    </tr>\n",
       "    <tr>\n",
       "      <th>3</th>\n",
       "      <td>1</td>\n",
       "      <td>1</td>\n",
       "      <td>3</td>\n",
       "    </tr>\n",
       "  </tbody>\n",
       "</table>\n",
       "</div>"
      ],
      "text/plain": [
       "   부부_주_불임_원인  부부_부_불임_원인  count\n",
       "0           0           0  84254\n",
       "1           0           1    751\n",
       "2           1           0   2883\n",
       "3           1           1      3"
      ]
     },
     "execution_count": 1031,
     "metadata": {},
     "output_type": "execute_result"
    }
   ],
   "source": [
    "# 두 변수에 대해 그룹별 갯수 카운팅\n",
    "test.groupby(['부부_주_불임_원인', '부부_부_불임_원인']).size().reset_index(name='count')"
   ]
  },
  {
   "cell_type": "markdown",
   "metadata": {},
   "source": [
    "### 17. 불명확_불임_원인"
   ]
  },
  {
   "cell_type": "markdown",
   "metadata": {},
   "source": [
    "불명의 원인으로 인한 불임 여부"
   ]
  },
  {
   "cell_type": "code",
   "execution_count": 1032,
   "metadata": {},
   "outputs": [
    {
     "name": "stdout",
     "output_type": "stream",
     "text": [
      "\n",
      "불명확_불임_원인별 임신_성공_여부 비율 및 갯수\n",
      "\n",
      "                 0         1       0      1   Total\n",
      "variable                                           \n",
      "0         0.721057  0.278943  107188  41466  148654\n",
      "1         0.726873  0.273127   38871  14606   53477\n"
     ]
    }
   ],
   "source": [
    "value_counts_ratio(train, '불명확_불임_원인')"
   ]
  },
  {
   "cell_type": "markdown",
   "metadata": {},
   "source": [
    "### 18. 불임_원인_-_난관_질환"
   ]
  },
  {
   "cell_type": "markdown",
   "metadata": {},
   "source": [
    "난관 이상으로 인한 불임 여부"
   ]
  },
  {
   "cell_type": "code",
   "execution_count": 1033,
   "metadata": {},
   "outputs": [
    {
     "name": "stdout",
     "output_type": "stream",
     "text": [
      "\n",
      "불임_원인_-_난관_질환별 임신_성공_여부 비율 및 갯수\n",
      "\n",
      "                 0         1       0      1   Total\n",
      "variable                                           \n",
      "0         0.722355  0.277645  125882  48384  174266\n",
      "1         0.724098  0.275902   20177   7688   27865\n"
     ]
    }
   ],
   "source": [
    "value_counts_ratio(train, '불임_원인_-_난관_질환')"
   ]
  },
  {
   "cell_type": "markdown",
   "metadata": {},
   "source": [
    "### 19. 불임_원인_-_남성_요인"
   ]
  },
  {
   "cell_type": "markdown",
   "metadata": {},
   "source": [
    "남성 요인으로 인한 불임 여부"
   ]
  },
  {
   "cell_type": "code",
   "execution_count": 1034,
   "metadata": {},
   "outputs": [
    {
     "name": "stdout",
     "output_type": "stream",
     "text": [
      "\n",
      "불임_원인_-_남성_요인별 임신_성공_여부 비율 및 갯수\n",
      "\n",
      "                 0         1      0      1   Total\n",
      "variable                                          \n",
      "0         0.735997  0.264003  92322  33116  125438\n",
      "1         0.700677  0.299323  53737  22956   76693\n"
     ]
    }
   ],
   "source": [
    "value_counts_ratio(train, '불임_원인_-_남성_요인')"
   ]
  },
  {
   "cell_type": "markdown",
   "metadata": {},
   "source": [
    "### 20. 불임_원인_-_배란_장애"
   ]
  },
  {
   "cell_type": "markdown",
   "metadata": {},
   "source": [
    "배란 장애로 인한 불임 여부"
   ]
  },
  {
   "cell_type": "code",
   "execution_count": 1035,
   "metadata": {},
   "outputs": [
    {
     "name": "stdout",
     "output_type": "stream",
     "text": [
      "\n",
      "불임_원인_-_배란_장애별 임신_성공_여부 비율 및 갯수\n",
      "\n",
      "                 0         1       0      1   Total\n",
      "variable                                           \n",
      "0         0.727415  0.272585  128380  48108  176488\n",
      "1         0.689428  0.310572   17679   7964   25643\n"
     ]
    }
   ],
   "source": [
    "value_counts_ratio(train, '불임_원인_-_배란_장애')"
   ]
  },
  {
   "cell_type": "markdown",
   "metadata": {},
   "source": [
    "### 22. 불임_원인_-_자궁경부_문제"
   ]
  },
  {
   "cell_type": "markdown",
   "metadata": {},
   "source": [
    "자궁경부 이상으로 인한 불임 여부"
   ]
  },
  {
   "cell_type": "code",
   "execution_count": 1036,
   "metadata": {},
   "outputs": [
    {
     "name": "stdout",
     "output_type": "stream",
     "text": [
      "\n",
      "불임_원인_-_자궁경부_문제별 임신_성공_여부 비율 및 갯수\n",
      "\n",
      "                 0         1       0      1   Total\n",
      "variable                                           \n",
      "0         0.722596  0.277404  146059  56072  202131\n"
     ]
    }
   ],
   "source": [
    "value_counts_ratio(train, '불임_원인_-_자궁경부_문제')"
   ]
  },
  {
   "cell_type": "code",
   "execution_count": 1037,
   "metadata": {},
   "outputs": [],
   "source": [
    "train = train.drop(columns=['불임_원인_-_자궁경부_문제'])\n",
    "test = test.drop(columns=['불임_원인_-_자궁경부_문제'])"
   ]
  },
  {
   "cell_type": "markdown",
   "metadata": {},
   "source": [
    "### 23. 불임_원인_-_자궁내막증"
   ]
  },
  {
   "cell_type": "markdown",
   "metadata": {},
   "source": [
    "자궁내막증으로 인한 불임 여부"
   ]
  },
  {
   "cell_type": "code",
   "execution_count": 1038,
   "metadata": {},
   "outputs": [
    {
     "name": "stdout",
     "output_type": "stream",
     "text": [
      "\n",
      "불임_원인_-_자궁내막증별 임신_성공_여부 비율 및 갯수\n",
      "\n",
      "                 0         1       0      1   Total\n",
      "variable                                           \n",
      "0         0.722193  0.277807  135492  52120  187612\n",
      "1         0.727805  0.272195   10567   3952   14519\n"
     ]
    }
   ],
   "source": [
    "value_counts_ratio(train, '불임_원인_-_자궁내막증')"
   ]
  },
  {
   "cell_type": "markdown",
   "metadata": {},
   "source": [
    "### 24. 불임_원인_-_정자_농도"
   ]
  },
  {
   "cell_type": "markdown",
   "metadata": {},
   "source": [
    "파트너의 정자 농도 문제 여부"
   ]
  },
  {
   "cell_type": "code",
   "execution_count": 1039,
   "metadata": {},
   "outputs": [
    {
     "name": "stdout",
     "output_type": "stream",
     "text": [
      "\n",
      "불임_원인_-_정자_농도별 임신_성공_여부 비율 및 갯수\n",
      "\n",
      "                 0         1       0      1   Total\n",
      "variable                                           \n",
      "0         0.722597  0.277403  145958  56033  201991\n",
      "1         0.721429  0.278571     101     39     140\n"
     ]
    }
   ],
   "source": [
    "value_counts_ratio(train, '불임_원인_-_정자_농도')"
   ]
  },
  {
   "cell_type": "markdown",
   "metadata": {},
   "source": [
    "### 25. 불임_원인_-_정자_면역학적_요인"
   ]
  },
  {
   "cell_type": "markdown",
   "metadata": {},
   "source": [
    "파트너의 정자 면역 관련 문제 여부"
   ]
  },
  {
   "cell_type": "code",
   "execution_count": 1040,
   "metadata": {},
   "outputs": [
    {
     "name": "stdout",
     "output_type": "stream",
     "text": [
      "\n",
      "불임_원인_-_정자_면역학적_요인별 임신_성공_여부 비율 및 갯수\n",
      "\n",
      "                 0         1       0      1   Total\n",
      "variable                                           \n",
      "0         0.722596  0.277404  146059  56072  202131\n"
     ]
    }
   ],
   "source": [
    "value_counts_ratio(train, '불임_원인_-_정자_면역학적_요인')"
   ]
  },
  {
   "cell_type": "code",
   "execution_count": 1041,
   "metadata": {},
   "outputs": [
    {
     "data": {
      "text/plain": [
       "0"
      ]
     },
     "execution_count": 1041,
     "metadata": {},
     "output_type": "execute_result"
    }
   ],
   "source": [
    "train['불임_원인_-_정자_면역학적_요인'].isnull().sum()  "
   ]
  },
  {
   "cell_type": "code",
   "execution_count": 1042,
   "metadata": {},
   "outputs": [],
   "source": [
    "train = train.drop(columns=['불임_원인_-_정자_면역학적_요인'])\n",
    "test = test.drop(columns=['불임_원인_-_정자_면역학적_요인'])"
   ]
  },
  {
   "cell_type": "markdown",
   "metadata": {},
   "source": [
    "### 26. 불임_원인_-_정자_운동성"
   ]
  },
  {
   "cell_type": "markdown",
   "metadata": {},
   "source": [
    "파트너의 정자 운동성 문제 여부"
   ]
  },
  {
   "cell_type": "code",
   "execution_count": 1043,
   "metadata": {},
   "outputs": [
    {
     "name": "stdout",
     "output_type": "stream",
     "text": [
      "\n",
      "불임_원인_-_정자_운동성별 임신_성공_여부 비율 및 갯수\n",
      "\n",
      "                 0         1       0      1   Total\n",
      "variable                                           \n",
      "0         0.722579  0.277421  146013  56059  202072\n",
      "1         0.779661  0.220339      46     13      59\n"
     ]
    }
   ],
   "source": [
    "value_counts_ratio(train, '불임_원인_-_정자_운동성')"
   ]
  },
  {
   "cell_type": "markdown",
   "metadata": {},
   "source": [
    "### 27. 불임_원인_-_정자_형태"
   ]
  },
  {
   "cell_type": "markdown",
   "metadata": {},
   "source": [
    "파트너의 정자 형태 문제 여부"
   ]
  },
  {
   "cell_type": "code",
   "execution_count": 1044,
   "metadata": {},
   "outputs": [
    {
     "name": "stdout",
     "output_type": "stream",
     "text": [
      "\n",
      "불임_원인_-_정자_형태별 임신_성공_여부 비율 및 갯수\n",
      "\n",
      "                 0         1       0      1   Total\n",
      "variable                                           \n",
      "0         0.722586  0.277414  145997  56051  202048\n",
      "1         0.746988  0.253012      62     21      83\n"
     ]
    }
   ],
   "source": [
    "value_counts_ratio(train, '불임_원인_-_정자_형태')"
   ]
  },
  {
   "cell_type": "markdown",
   "metadata": {},
   "source": [
    "### 28. 배아_생성_주요_이유"
   ]
  },
  {
   "cell_type": "markdown",
   "metadata": {},
   "source": [
    "배아 생성의 주된 목적(시술, 보관 등)"
   ]
  },
  {
   "cell_type": "code",
   "execution_count": 1045,
   "metadata": {},
   "outputs": [
    {
     "name": "stdout",
     "output_type": "stream",
     "text": [
      "\n",
      "배아_생성_주요_이유별 임신_성공_여부 비율 및 갯수\n",
      "\n",
      "                            0         1         0        1   Total\n",
      "variable                                                          \n",
      "기증용, 배아 저장용, 현재 시술용  0.650000  0.350000      13.0      7.0      20\n",
      "기증용, 현재 시술용          0.612134  0.387866    2260.0   1432.0    3692\n",
      "난자 저장용, 배아 저장용, 연구용  1.000000  0.000000       1.0      0.0       1\n",
      "난자 저장용, 현재 시술용       0.800000  0.200000       4.0      1.0       5\n",
      "배아 저장용               0.999093  0.000907    8815.0      8.0    8823\n",
      "배아 저장용, 현재 시술용       0.750000  0.250000      60.0     20.0      80\n",
      "현재 시술용               0.711867  0.288133  134906.0  54604.0  189510\n"
     ]
    }
   ],
   "source": [
    "value_counts_ratio(train, '배아_생성_주요_이유')"
   ]
  },
  {
   "cell_type": "code",
   "execution_count": 1046,
   "metadata": {},
   "outputs": [],
   "source": [
    "# '연구용'이라는 값이 포함된 행 삭제\n",
    "train = train[~train['배아_생성_주요_이유'].str.contains('연구용', na=False)]\n",
    "# test = test[~test['배아_생성_주요_이유'].str.contains('연구용', na=False)]"
   ]
  },
  {
   "cell_type": "code",
   "execution_count": 1047,
   "metadata": {},
   "outputs": [
    {
     "name": "stdout",
     "output_type": "stream",
     "text": [
      "\n",
      "배아_생성_주요_이유별 임신_성공_여부 비율 및 갯수\n",
      "\n",
      "                            0         1       0      1   Total\n",
      "variable                                                      \n",
      "기증용, 배아 저장용, 현재 시술용  0.650000  0.350000      13      7      20\n",
      "기증용, 현재 시술용          0.612134  0.387866    2260   1432    3692\n",
      "난자 저장용, 현재 시술용       0.800000  0.200000       4      1       5\n",
      "배아 저장용               0.999093  0.000907    8815      8    8823\n",
      "배아 저장용, 현재 시술용       0.750000  0.250000      60     20      80\n",
      "현재 시술용               0.711867  0.288133  134906  54604  189510\n"
     ]
    }
   ],
   "source": [
    "value_counts_ratio(train, '배아_생성_주요_이유')"
   ]
  },
  {
   "cell_type": "code",
   "execution_count": 1048,
   "metadata": {},
   "outputs": [],
   "source": [
    "# '현재 시술용' 키워드가 포함된 경우 1, 그렇지 않은 경우 0을 부여하는 더미 변수 생성\n",
    "train['배아_생성_주요_이유_현재시술용'] = train['배아_생성_주요_이유'].str.contains('현재 시술용').astype(int)\n",
    "test['배아_생성_주요_이유_현재시술용'] = test['배아_생성_주요_이유'].str.contains('현재 시술용').astype(int)\n",
    "\n",
    "# '기증용' 키워드가 포함된 경우 1, 그렇지 않은 경우 0을 부여하는 더미 변수 생성\n",
    "train['배아_생성_주요_이유_기증용'] = train['배아_생성_주요_이유'].str.contains('기증용').astype(int)\n",
    "test['배아_생성_주요_이유_기증용'] = test['배아_생성_주요_이유'].str.contains('기증용').astype(int)\n",
    "\n",
    "# '난자 저장용' 키워드가 포함된 경우 1, 그렇지 않은 경우 0을 부여하는 더미 변수 생성\n",
    "train['배아_생성_주요_이유_난자저장용'] = train['배아_생성_주요_이유'].str.contains('난자 저장용').astype(int)\n",
    "test['배아_생성_주요_이유_난자저장용'] = test['배아_생성_주요_이유'].str.contains('난자 저장용').astype(int)\n",
    "\n",
    "# '배아 저장용' 키워드가 포함된 경우 1, 그렇지 않은 경우 0을 부여하는 더미 변수 생성\n",
    "train['배아_생성_주요_이유_배아저장용'] = train['배아_생성_주요_이유'].str.contains('배아 저장용').astype(int)\n",
    "test['배아_생성_주요_이유_배아저장용'] = test['배아_생성_주요_이유'].str.contains('배아 저장용').astype(int)"
   ]
  },
  {
   "cell_type": "code",
   "execution_count": 1049,
   "metadata": {},
   "outputs": [
    {
     "name": "stdout",
     "output_type": "stream",
     "text": [
      "Grouped by: 배아_생성_주요_이유_현재시술용, 배아_생성_주요_이유_기증용, 배아_생성_주요_이유_난자저장용, 배아_생성_주요_이유_배아저장용\n",
      "\n",
      "          group  '임신_성공_여부' count     ratio   Total\n",
      "0  (0, 0, 0, 1)                 8  0.000907    8823\n",
      "1  (1, 0, 0, 0)             54604  0.288133  189510\n",
      "2  (1, 0, 0, 1)                20  0.250000      80\n",
      "3  (1, 0, 1, 0)                 1  0.200000       5\n",
      "4  (1, 1, 0, 0)              1432  0.387866    3692\n",
      "5  (1, 1, 0, 1)                 7  0.350000      20\n"
     ]
    }
   ],
   "source": [
    "summarize_group(train, [\n",
    "    # '배아_생성_주요_이유',\n",
    "    '배아_생성_주요_이유_현재시술용',\n",
    "    '배아_생성_주요_이유_기증용',\n",
    "    '배아_생성_주요_이유_난자저장용',\n",
    "    '배아_생성_주요_이유_배아저장용'\n",
    "                        ])"
   ]
  },
  {
   "cell_type": "code",
   "execution_count": 1050,
   "metadata": {},
   "outputs": [
    {
     "data": {
      "text/plain": [
       "0"
      ]
     },
     "execution_count": 1050,
     "metadata": {},
     "output_type": "execute_result"
    }
   ],
   "source": [
    "train['배아_생성_주요_이유'].isnull().sum()"
   ]
  },
  {
   "cell_type": "code",
   "execution_count": 1051,
   "metadata": {},
   "outputs": [
    {
     "name": "stdout",
     "output_type": "stream",
     "text": [
      "\n",
      "배아_생성_주요_이유_난자저장용별 임신_성공_여부 비율 및 갯수\n",
      "\n",
      "                 0         1       0      1   Total\n",
      "variable                                           \n",
      "0         0.722592  0.277408  146054  56071  202125\n",
      "1         0.800000  0.200000       4      1       5\n"
     ]
    }
   ],
   "source": [
    "value_counts_ratio(train, '배아_생성_주요_이유_난자저장용')"
   ]
  },
  {
   "cell_type": "markdown",
   "metadata": {},
   "source": [
    "갯수 적으므로 제거"
   ]
  },
  {
   "cell_type": "code",
   "execution_count": 1052,
   "metadata": {},
   "outputs": [],
   "source": [
    "# 변수 제거\n",
    "train = train.drop(columns=['배아_생성_주요_이유_난자저장용'])\n",
    "test = test.drop(columns=['배아_생성_주요_이유_난자저장용'])"
   ]
  },
  {
   "cell_type": "code",
   "execution_count": 1053,
   "metadata": {},
   "outputs": [],
   "source": [
    "train = train.drop(columns=['배아_생성_주요_이유'])\n",
    "test = test.drop(columns=['배아_생성_주요_이유'])"
   ]
  },
  {
   "cell_type": "markdown",
   "metadata": {},
   "source": [
    "### 29. 총_시술_횟수"
   ]
  },
  {
   "cell_type": "markdown",
   "metadata": {},
   "source": [
    "IVF 및 DI 포함한 전체 시술 횟수"
   ]
  },
  {
   "cell_type": "code",
   "execution_count": 1054,
   "metadata": {},
   "outputs": [
    {
     "name": "stdout",
     "output_type": "stream",
     "text": [
      "\n",
      "총_시술_횟수별 임신_성공_여부 비율 및 갯수\n",
      "\n",
      "                 0         1      0      1  Total\n",
      "variable                                         \n",
      "0회        0.700106  0.299894  65616  28107  93723\n",
      "1회        0.735380  0.264620  32103  11552  43655\n",
      "2회        0.734871  0.265129  20425   7369  27794\n",
      "3회        0.744003  0.255997  11724   4034  15758\n",
      "4회        0.748109  0.251891   6626   2231   8857\n",
      "5회        0.766579  0.233421   3780   1151   4931\n",
      "6회 이상     0.780356  0.219644   5784   1628   7412\n"
     ]
    }
   ],
   "source": [
    "value_counts_ratio(train, '총_시술_횟수')"
   ]
  },
  {
   "cell_type": "markdown",
   "metadata": {},
   "source": [
    "### 30. 클리닉_내_총_시술_횟수"
   ]
  },
  {
   "cell_type": "markdown",
   "metadata": {},
   "source": [
    "특정 클리닉에서 받은 IVF 및 DI 시술 횟수"
   ]
  },
  {
   "cell_type": "code",
   "execution_count": 1055,
   "metadata": {},
   "outputs": [
    {
     "name": "stdout",
     "output_type": "stream",
     "text": [
      "\n",
      "클리닉_내_총_시술_횟수별 임신_성공_여부 비율 및 갯수\n",
      "\n",
      "                 0         1      0      1   Total\n",
      "variable                                          \n",
      "0회        0.706389  0.293611  80919  33634  114553\n",
      "1회        0.740824  0.259176  31831  11136   42967\n",
      "2회        0.740477  0.259523  16834   5900   22734\n",
      "3회        0.745266  0.254734   8069   2758   10827\n",
      "4회        0.745091  0.254909   3908   1337    5245\n",
      "5회        0.765187  0.234813   1965    603    2568\n",
      "6회 이상     0.782447  0.217553   2532    704    3236\n"
     ]
    }
   ],
   "source": [
    "value_counts_ratio(train, '클리닉_내_총_시술_횟수')"
   ]
  },
  {
   "cell_type": "markdown",
   "metadata": {},
   "source": [
    "### 31. IVF_시술_횟수"
   ]
  },
  {
   "cell_type": "markdown",
   "metadata": {},
   "source": [
    "이전에 수행된 IVF 시술 횟수"
   ]
  },
  {
   "cell_type": "code",
   "execution_count": 1056,
   "metadata": {},
   "outputs": [
    {
     "name": "stdout",
     "output_type": "stream",
     "text": [
      "\n",
      "IVF_시술_횟수별 임신_성공_여부 비율 및 갯수\n",
      "\n",
      "                 0         1      0      1  Total\n",
      "variable                                         \n",
      "0회        0.699927  0.300073  67550  28960  96510\n",
      "1회        0.735579  0.264421  32620  11726  44346\n",
      "2회        0.734742  0.265258  20406   7367  27773\n",
      "3회        0.748128  0.251872  11287   3800  15087\n",
      "4회        0.751489  0.248511   6181   2044   8225\n",
      "5회        0.775749  0.224251   3442    995   4437\n",
      "6회 이상     0.794854  0.205146   4572   1180   5752\n"
     ]
    }
   ],
   "source": [
    "value_counts_ratio(train, 'IVF_시술_횟수')"
   ]
  },
  {
   "cell_type": "markdown",
   "metadata": {},
   "source": [
    "### 32. DI_시술_횟수"
   ]
  },
  {
   "cell_type": "markdown",
   "metadata": {},
   "source": [
    "이전에 수행된 DI 시술 횟수"
   ]
  },
  {
   "cell_type": "code",
   "execution_count": 1057,
   "metadata": {},
   "outputs": [
    {
     "name": "stdout",
     "output_type": "stream",
     "text": [
      "\n",
      "DI_시술_횟수별 임신_성공_여부 비율 및 갯수\n",
      "\n",
      "                 0         1       0      1   Total\n",
      "variable                                           \n",
      "0회        0.722592  0.277408  141623  54370  195993\n",
      "1회        0.747298  0.252702     899    304    1203\n",
      "2회        0.735921  0.264079     967    347    1314\n",
      "3회        0.708517  0.291483    1123    462    1585\n",
      "4회        0.716690  0.283310     511    202     713\n",
      "5회        0.706024  0.293976     293    122     415\n",
      "6회 이상     0.707828  0.292172     642    265     907\n"
     ]
    }
   ],
   "source": [
    "value_counts_ratio(train, 'DI_시술_횟수')"
   ]
  },
  {
   "cell_type": "markdown",
   "metadata": {},
   "source": [
    "### 33. 총_임신_횟수"
   ]
  },
  {
   "cell_type": "markdown",
   "metadata": {},
   "source": [
    "IVF 및 DI 포함한 총 임신 횟수"
   ]
  },
  {
   "cell_type": "code",
   "execution_count": 1058,
   "metadata": {},
   "outputs": [
    {
     "name": "stdout",
     "output_type": "stream",
     "text": [
      "\n",
      "총_임신_횟수별 임신_성공_여부 비율 및 갯수\n",
      "\n",
      "                 0         1       0      1   Total\n",
      "variable                                           \n",
      "0회        0.725621  0.274379  126134  47695  173829\n",
      "1회        0.702147  0.297853   17527   7435   24962\n",
      "2회        0.710160  0.289840    2090    853    2943\n",
      "3회        0.774011  0.225989     274     80     354\n",
      "4회        0.789474  0.210526      30      8      38\n",
      "5회        0.750000  0.250000       3      1       4\n"
     ]
    }
   ],
   "source": [
    "value_counts_ratio(train, '총_임신_횟수')"
   ]
  },
  {
   "cell_type": "markdown",
   "metadata": {},
   "source": [
    "### 34. IVF_임신_횟수"
   ]
  },
  {
   "cell_type": "markdown",
   "metadata": {},
   "source": [
    "IVF 시술로 인한 임신 횟수"
   ]
  },
  {
   "cell_type": "code",
   "execution_count": 1059,
   "metadata": {},
   "outputs": [
    {
     "name": "stdout",
     "output_type": "stream",
     "text": [
      "\n",
      "IVF_임신_횟수별 임신_성공_여부 비율 및 갯수\n",
      "\n",
      "                 0         1       0      1   Total\n",
      "variable                                           \n",
      "0회        0.725493  0.274507  126486  47859  174345\n",
      "1회        0.702072  0.297928   17245   7318   24563\n",
      "2회        0.715039  0.284961    2035    811    2846\n",
      "3회        0.775449  0.224551     259     75     334\n",
      "4회        0.789474  0.210526      30      8      38\n",
      "5회        0.750000  0.250000       3      1       4\n"
     ]
    }
   ],
   "source": [
    "value_counts_ratio(train, 'IVF_임신_횟수')"
   ]
  },
  {
   "cell_type": "markdown",
   "metadata": {},
   "source": [
    "### 35. DI_임신_횟수"
   ]
  },
  {
   "cell_type": "markdown",
   "metadata": {},
   "source": [
    "DI 시술로 인한 임신 횟수"
   ]
  },
  {
   "cell_type": "code",
   "execution_count": 1060,
   "metadata": {},
   "outputs": [
    {
     "name": "stdout",
     "output_type": "stream",
     "text": [
      "\n",
      "DI_임신_횟수별 임신_성공_여부 비율 및 갯수\n",
      "\n",
      "                 0         1       0      1   Total\n",
      "variable                                           \n",
      "0회        0.722750  0.277250  145671  55880  201551\n",
      "1회        0.670565  0.329435     344    169     513\n",
      "2회        0.620690  0.379310      36     22      58\n",
      "3회        0.875000  0.125000       7      1       8\n"
     ]
    }
   ],
   "source": [
    "value_counts_ratio(train, 'DI_임신_횟수')"
   ]
  },
  {
   "cell_type": "markdown",
   "metadata": {},
   "source": [
    "### 36. 총_출산_횟수"
   ]
  },
  {
   "cell_type": "markdown",
   "metadata": {},
   "source": [
    "IVF 및 DI 시술로 출산한 횟수"
   ]
  },
  {
   "cell_type": "code",
   "execution_count": 1061,
   "metadata": {},
   "outputs": [
    {
     "name": "stdout",
     "output_type": "stream",
     "text": [
      "\n",
      "총_출산_횟수별 임신_성공_여부 비율 및 갯수\n",
      "\n",
      "                 0         1         0        1   Total\n",
      "variable                                               \n",
      "0회        0.725550  0.274450  131947.0  49911.0  181858\n",
      "1회        0.696824  0.303176   13448.0   5851.0   19299\n",
      "2회        0.678848  0.321152     613.0    290.0     903\n",
      "3회        0.710145  0.289855      49.0     20.0      69\n",
      "4회        1.000000  0.000000       1.0      0.0       1\n"
     ]
    }
   ],
   "source": [
    "value_counts_ratio(train, '총_출산_횟수')"
   ]
  },
  {
   "cell_type": "markdown",
   "metadata": {},
   "source": [
    "### 37. IVF_출산_횟수"
   ]
  },
  {
   "cell_type": "markdown",
   "metadata": {},
   "source": [
    "IVF 시술로 출산한 횟수"
   ]
  },
  {
   "cell_type": "code",
   "execution_count": 1062,
   "metadata": {},
   "outputs": [
    {
     "name": "stdout",
     "output_type": "stream",
     "text": [
      "\n",
      "IVF_출산_횟수별 임신_성공_여부 비율 및 갯수\n",
      "\n",
      "                 0         1         0        1   Total\n",
      "variable                                               \n",
      "0회        0.725424  0.274576  132218.0  50045.0  182263\n",
      "1회        0.696922  0.303078   13199.0   5740.0   18939\n",
      "2회        0.689173  0.310827     592.0    267.0     859\n",
      "3회        0.705882  0.294118      48.0     20.0      68\n",
      "4회        1.000000  0.000000       1.0      0.0       1\n"
     ]
    }
   ],
   "source": [
    "value_counts_ratio(train, 'IVF_출산_횟수')"
   ]
  },
  {
   "cell_type": "markdown",
   "metadata": {},
   "source": [
    "### 38. DI_출산_횟수"
   ]
  },
  {
   "cell_type": "markdown",
   "metadata": {},
   "source": [
    "DI 시술로 출산한 횟수"
   ]
  },
  {
   "cell_type": "code",
   "execution_count": 1063,
   "metadata": {},
   "outputs": [
    {
     "name": "stdout",
     "output_type": "stream",
     "text": [
      "\n",
      "DI_출산_횟수별 임신_성공_여부 비율 및 갯수\n",
      "\n",
      "                 0         1         0        1   Total\n",
      "variable                                               \n",
      "0회        0.722740  0.277260  145781.0  55925.0  201706\n",
      "1회        0.655779  0.344221     261.0    137.0     398\n",
      "2회        0.600000  0.400000      15.0     10.0      25\n",
      "3회        1.000000  0.000000       1.0      0.0       1\n"
     ]
    }
   ],
   "source": [
    "value_counts_ratio(train, 'DI_출산_횟수')"
   ]
  },
  {
   "cell_type": "code",
   "execution_count": 1064,
   "metadata": {},
   "outputs": [],
   "source": [
    "# 숫자 매핑\n",
    "mapping = {\n",
    "    '0회': 0, '1회': 1, '2회': 2, '3회': 3, \n",
    "    '4회': 4, '5회': 5, '6회 이상': 6\n",
    "}\n",
    "\n",
    "# 변환할 열 목록\n",
    "columns_to_map = [\n",
    "    '총_시술_횟수', '클리닉_내_총_시술_횟수', 'IVF_시술_횟수', \n",
    "    'DI_시술_횟수', '총_임신_횟수', 'IVF_임신_횟수', 'DI_임신_횟수', \n",
    "    '총_출산_횟수', 'IVF_출산_횟수', 'DI_출산_횟수'\n",
    "]\n",
    "\n",
    "# 숫자로 변환\n",
    "for col in columns_to_map:\n",
    "    train[col] = train[col].map(mapping)\n",
    "    test[col] = test[col].map(mapping)"
   ]
  },
  {
   "cell_type": "code",
   "execution_count": 1065,
   "metadata": {},
   "outputs": [],
   "source": [
    "# 비율 계산 (train 데이터프레임)\n",
    "train['IVF_임신_시술_비율'] = np.where(train['IVF_시술_횟수'] > 0, train['IVF_임신_횟수'] / train['IVF_시술_횟수'], 0)\n",
    "train['DI_임신_시술_비율'] = np.where(train['DI_시술_횟수'] > 0, train['DI_임신_횟수'] / train['DI_시술_횟수'], 0)\n",
    "train['임신_성공률'] = np.where(train['총_시술_횟수'] > 0, train['총_임신_횟수'] / train['총_시술_횟수'], 0)\n",
    "\n",
    "# 비율 계산 (test 데이터프레임)\n",
    "test['IVF_임신_시술_비율'] = np.where(test['IVF_시술_횟수'] > 0, test['IVF_임신_횟수'] / test['IVF_시술_횟수'], 0)\n",
    "test['DI_임신_시술_비율'] = np.where(test['DI_시술_횟수'] > 0, test['DI_임신_횟수'] / test['DI_시술_횟수'], 0)\n",
    "test['임신_성공률'] = np.where(test['총_시술_횟수'] > 0, test['총_임신_횟수'] / test['총_시술_횟수'], 0)"
   ]
  },
  {
   "cell_type": "code",
   "execution_count": 1066,
   "metadata": {},
   "outputs": [],
   "source": [
    "# 변수 리스트\n",
    "columns = [\n",
    "    # '클리닉_내_총_시술_횟수', \n",
    "    '총_시술_횟수', '총_출산_횟수', '총_임신_횟수',\n",
    "    # 'IVF_시술_횟수', 'IVF_임신_횟수', 'IVF_출산_횟수', 'IVF_임신_시술_비율',\n",
    "    'DI_시술_횟수', 'DI_임신_횟수', 'DI_출산_횟수',\n",
    "    'DI_임신_시술_비율', '임신_성공률'\n",
    "]\n",
    "\n",
    "# 변수 제거\n",
    "train = train.drop(columns=columns)\n",
    "test = test.drop(columns=columns)"
   ]
  },
  {
   "cell_type": "markdown",
   "metadata": {},
   "source": [
    "### 39. 총_생성_배아_수"
   ]
  },
  {
   "cell_type": "markdown",
   "metadata": {},
   "source": [
    "해당 시술에서 생성된 배아의 총 개수"
   ]
  },
  {
   "cell_type": "code",
   "execution_count": 1067,
   "metadata": {},
   "outputs": [
    {
     "name": "stdout",
     "output_type": "stream",
     "text": [
      "\n",
      "총_생성_배아_수별 임신_성공_여부 비율 및 갯수\n",
      "\n",
      "                 0         1        0       1  Total\n",
      "variable                                            \n",
      "0.0       0.997143  0.002857   6632.0    19.0   6651\n",
      "1.0       0.904951  0.095049  13672.0  1436.0  15108\n",
      "2.0       0.819391  0.180609  15643.0  3448.0  19091\n",
      "3.0       0.758009  0.241991  15806.0  5046.0  20852\n",
      "4.0       0.722289  0.277711  15522.0  5968.0  21490\n",
      "5.0       0.693951  0.306049  14099.0  6218.0  20317\n",
      "6.0       0.676382  0.323618  12532.0  5996.0  18528\n",
      "7.0       0.660683  0.339317  10526.0  5406.0  15932\n",
      "8.0       0.649797  0.350203   8808.0  4747.0  13555\n",
      "9.0       0.644689  0.355311   7138.0  3934.0  11072\n",
      "10.0      0.638750  0.361250   5766.0  3261.0   9027\n",
      "11.0      0.632832  0.367168   4464.0  2590.0   7054\n",
      "12.0      0.646365  0.353635   3672.0  2009.0   5681\n",
      "13.0      0.632791  0.367209   2721.0  1579.0   4300\n",
      "14.0      0.643221  0.356779   2149.0  1192.0   3341\n",
      "15.0      0.642143  0.357857   1606.0   895.0   2501\n",
      "16.0      0.651236  0.348764   1238.0   663.0   1901\n",
      "17.0      0.676510  0.323490   1008.0   482.0   1490\n",
      "18.0      0.696007  0.303993    767.0   335.0   1102\n",
      "19.0      0.693182  0.306818    549.0   243.0    792\n",
      "20.0      0.712264  0.287736    453.0   183.0    636\n",
      "21.0      0.734066  0.265934    334.0   121.0    455\n",
      "22.0      0.747875  0.252125    264.0    89.0    353\n",
      "23.0      0.787879  0.212121    208.0    56.0    264\n",
      "24.0      0.784530  0.215470    142.0    39.0    181\n",
      "25.0      0.750000  0.250000     99.0    33.0    132\n",
      "26.0      0.744186  0.255814     64.0    22.0     86\n",
      "27.0      0.701493  0.298507     47.0    20.0     67\n",
      "28.0      0.804878  0.195122     33.0     8.0     41\n",
      "29.0      0.705882  0.294118     24.0    10.0     34\n",
      "30.0      0.785714  0.214286     22.0     6.0     28\n",
      "31.0      0.863636  0.136364     19.0     3.0     22\n",
      "32.0      0.684211  0.315789     13.0     6.0     19\n",
      "33.0      0.777778  0.222222      7.0     2.0      9\n",
      "34.0      0.444444  0.555556      4.0     5.0      9\n",
      "35.0      1.000000  0.000000      3.0     0.0      3\n",
      "36.0      0.666667  0.333333      2.0     1.0      3\n",
      "37.0      0.666667  0.333333      2.0     1.0      3\n"
     ]
    }
   ],
   "source": [
    "value_counts_ratio(train, '총_생성_배아_수')"
   ]
  },
  {
   "cell_type": "markdown",
   "metadata": {},
   "source": [
    "### 40. 미세주입된_난자_수"
   ]
  },
  {
   "cell_type": "markdown",
   "metadata": {},
   "source": [
    "정자 미세주입(ICSI)으로 처리된 난자의 수"
   ]
  },
  {
   "cell_type": "code",
   "execution_count": 1068,
   "metadata": {},
   "outputs": [
    {
     "name": "stdout",
     "output_type": "stream",
     "text": [
      "\n",
      "미세주입된_난자_수별 임신_성공_여부 비율 및 갯수\n",
      "\n",
      "                 0         1      0      1  Total\n",
      "variable                                         \n",
      "0.0       0.717239  0.282761  57760  22771  80531\n",
      "1.0       0.942444  0.057556   4241    259   4500\n",
      "2.0       0.888321  0.111679   5560    699   6259\n",
      "3.0       0.832761  0.167239   6543   1314   7857\n",
      "4.0       0.788968  0.211032   7552   2020   9572\n",
      "5.0       0.744061  0.255939   7861   2704  10565\n",
      "6.0       0.722873  0.277127   7961   3052  11013\n",
      "7.0       0.704036  0.295964   7291   3065  10356\n",
      "8.0       0.692898  0.307102   6683   2962   9645\n",
      "9.0       0.681346  0.318654   5833   2728   8561\n",
      "10.0      0.664330  0.335670   5118   2586   7704\n",
      "11.0      0.649769  0.350231   4217   2273   6490\n",
      "12.0      0.659152  0.340848   3684   1905   5589\n",
      "13.0      0.641208  0.358792   2972   1663   4635\n",
      "14.0      0.660654  0.339346   2527   1298   3825\n",
      "15.0      0.650394  0.349606   2065   1110   3175\n",
      "16.0      0.657244  0.342756   1674    873   2547\n",
      "17.0      0.658637  0.341363   1285    666   1951\n",
      "18.0      0.680556  0.319444   1078    506   1584\n",
      "19.0      0.664749  0.335251    809    408   1217\n",
      "20.0      0.672048  0.327952    666    325    991\n",
      "21.0      0.714829  0.285171    564    225    789\n",
      "22.0      0.730354  0.269646    474    175    649\n",
      "23.0      0.711297  0.288703    340    138    478\n",
      "24.0      0.759777  0.240223    272     86    358\n",
      "25.0      0.778571  0.221429    218     62    280\n",
      "26.0      0.769231  0.230769    180     54    234\n",
      "27.0      0.825843  0.174157    147     31    178\n",
      "28.0      0.819355  0.180645    127     28    155\n",
      "29.0      0.761468  0.238532     83     26    109\n",
      "30.0      0.818182  0.181818     72     16     88\n",
      "31.0      0.851852  0.148148     46      8     54\n",
      "32.0      0.791667  0.208333     38     10     48\n",
      "33.0      0.805556  0.194444     29      7     36\n",
      "34.0      0.833333  0.166667     25      5     30\n",
      "35.0      0.840000  0.160000     21      4     25\n",
      "36.0      0.909091  0.090909     20      2     22\n",
      "37.0      0.700000  0.300000      7      3     10\n",
      "38.0      0.857143  0.142857      6      1      7\n",
      "39.0      0.666667  0.333333      2      1      3\n",
      "40.0      0.750000  0.250000      3      1      4\n",
      "42.0      0.500000  0.500000      1      1      2\n",
      "43.0      0.750000  0.250000      3      1      4\n"
     ]
    }
   ],
   "source": [
    "value_counts_ratio(train, '미세주입된_난자_수')"
   ]
  },
  {
   "cell_type": "markdown",
   "metadata": {},
   "source": [
    "### 41. 미세주입에서_생성된_배아_수"
   ]
  },
  {
   "cell_type": "markdown",
   "metadata": {},
   "source": [
    "ICSI를 통해 생성된 배아의 수"
   ]
  },
  {
   "cell_type": "code",
   "execution_count": 1069,
   "metadata": {},
   "outputs": [
    {
     "name": "stdout",
     "output_type": "stream",
     "text": [
      "\n",
      "미세주입에서_생성된_배아_수별 임신_성공_여부 비율 및 갯수\n",
      "\n",
      "                 0         1        0        1  Total\n",
      "variable                                             \n",
      "0.0       0.730535  0.269465  61793.0  22793.0  84586\n",
      "1.0       0.908278  0.091722   8942.0    903.0   9845\n",
      "2.0       0.817256  0.182744  10268.0   2296.0  12564\n",
      "3.0       0.758001  0.241999  10421.0   3327.0  13748\n",
      "4.0       0.719261  0.280739   9933.0   3877.0  13810\n",
      "5.0       0.689103  0.310897   8866.0   4000.0  12866\n",
      "6.0       0.670948  0.329052   7732.0   3792.0  11524\n",
      "7.0       0.658312  0.341688   6225.0   3231.0   9456\n",
      "8.0       0.650665  0.349335   5042.0   2707.0   7749\n",
      "9.0       0.640274  0.359726   3930.0   2208.0   6138\n",
      "10.0      0.635020  0.364980   3050.0   1753.0   4803\n",
      "11.0      0.623722  0.376278   2319.0   1399.0   3718\n",
      "12.0      0.661492  0.338508   1960.0   1003.0   2963\n",
      "13.0      0.640954  0.359046   1371.0    768.0   2139\n",
      "14.0      0.644988  0.355012   1081.0    595.0   1676\n",
      "15.0      0.654424  0.345576    784.0    414.0   1198\n",
      "16.0      0.693013  0.306987    605.0    268.0    873\n",
      "17.0      0.658892  0.341108    452.0    234.0    686\n",
      "18.0      0.692308  0.307692    342.0    152.0    494\n",
      "19.0      0.703488  0.296512    242.0    102.0    344\n",
      "20.0      0.707224  0.292776    186.0     77.0    263\n",
      "21.0      0.740000  0.260000    148.0     52.0    200\n",
      "22.0      0.736111  0.263889    106.0     38.0    144\n",
      "23.0      0.786325  0.213675     92.0     25.0    117\n",
      "24.0      0.812500  0.187500     52.0     12.0     64\n",
      "25.0      0.734694  0.265306     36.0     13.0     49\n",
      "26.0      0.757576  0.242424     25.0      8.0     33\n",
      "27.0      0.636364  0.363636     14.0      8.0     22\n",
      "28.0      0.733333  0.266667     11.0      4.0     15\n",
      "29.0      0.642857  0.357143      9.0      5.0     14\n",
      "30.0      0.777778  0.222222      7.0      2.0      9\n",
      "31.0      0.833333  0.166667      5.0      1.0      6\n",
      "32.0      0.714286  0.285714      5.0      2.0      7\n",
      "33.0      1.000000  0.000000      4.0      0.0      4\n",
      "34.0      0.000000  1.000000      0.0      3.0      3\n"
     ]
    }
   ],
   "source": [
    "value_counts_ratio(train, '미세주입에서_생성된_배아_수')"
   ]
  },
  {
   "cell_type": "markdown",
   "metadata": {},
   "source": [
    "### 42. 이식된_배아_수"
   ]
  },
  {
   "cell_type": "markdown",
   "metadata": {},
   "source": [
    "이식된 배아의 총 수"
   ]
  },
  {
   "cell_type": "code",
   "execution_count": 1070,
   "metadata": {},
   "outputs": [
    {
     "name": "stdout",
     "output_type": "stream",
     "text": [
      "\n",
      "이식된_배아_수별 임신_성공_여부 비율 및 갯수\n",
      "\n",
      "                 0         1      0      1  Total\n",
      "variable                                         \n",
      "0.0       0.999049  0.000951  26259     25  26284\n",
      "1.0       0.665687  0.334313  49822  25021  74843\n",
      "2.0       0.680494  0.319506  63175  29662  92837\n",
      "3.0       0.832966  0.167034   6802   1364   8166\n"
     ]
    }
   ],
   "source": [
    "value_counts_ratio(train, '이식된_배아_수')"
   ]
  },
  {
   "cell_type": "markdown",
   "metadata": {},
   "source": [
    "### 43. 미세주입_배아_이식_수"
   ]
  },
  {
   "cell_type": "markdown",
   "metadata": {},
   "source": [
    "ICSI 배아 중 이식된 배아의 수"
   ]
  },
  {
   "cell_type": "code",
   "execution_count": 1071,
   "metadata": {},
   "outputs": [
    {
     "name": "stdout",
     "output_type": "stream",
     "text": [
      "\n",
      "미세주입_배아_이식_수별 임신_성공_여부 비율 및 갯수\n",
      "\n",
      "                 0         1      0      1  Total\n",
      "variable                                         \n",
      "0.0       0.761377  0.238623  74398  23317  97715\n",
      "1.0       0.672306  0.327694  29090  14179  43269\n",
      "2.0       0.684115  0.315885  38450  17754  56204\n",
      "3.0       0.833671  0.166329   4120    822   4942\n"
     ]
    }
   ],
   "source": [
    "value_counts_ratio(train, '미세주입_배아_이식_수')"
   ]
  },
  {
   "cell_type": "markdown",
   "metadata": {},
   "source": [
    "### 44. 저장된_배아_수"
   ]
  },
  {
   "cell_type": "markdown",
   "metadata": {},
   "source": [
    "환자를 위해 저장된 배아의 수"
   ]
  },
  {
   "cell_type": "code",
   "execution_count": 1072,
   "metadata": {},
   "outputs": [
    {
     "name": "stdout",
     "output_type": "stream",
     "text": [
      "\n",
      "저장된_배아_수별 임신_성공_여부 비율 및 갯수\n",
      "\n",
      "                 0         1        0        1   Total\n",
      "variable                                              \n",
      "0.0       0.766222  0.233778  92614.0  28257.0  120871\n",
      "1.0       0.653399  0.346601  12804.0   6792.0   19596\n",
      "2.0       0.628922  0.371078  12247.0   7226.0   19473\n",
      "3.0       0.630212  0.369788   8373.0   4913.0   13286\n",
      "4.0       0.637978  0.362022   5819.0   3302.0    9121\n",
      "5.0       0.649381  0.350619   3832.0   2069.0    5901\n",
      "6.0       0.666257  0.333743   2713.0   1359.0    4072\n",
      "7.0       0.703179  0.296821   1836.0    775.0    2611\n",
      "8.0       0.711892  0.288108   1317.0    533.0    1850\n",
      "9.0       0.739370  0.260630    939.0    331.0    1270\n",
      "10.0      0.778664  0.221336    781.0    222.0    1003\n",
      "11.0      0.827642  0.172358    509.0    106.0     615\n",
      "12.0      0.839695  0.160305    440.0     84.0     524\n",
      "13.0      0.912821  0.087179    356.0     34.0     390\n",
      "14.0      0.937313  0.062687    314.0     21.0     335\n",
      "15.0      0.928000  0.072000    232.0     18.0     250\n",
      "16.0      0.927461  0.072539    179.0     14.0     193\n",
      "17.0      0.977401  0.022599    173.0      4.0     177\n",
      "18.0      0.982036  0.017964    164.0      3.0     167\n",
      "19.0      0.978947  0.021053     93.0      2.0      95\n",
      "20.0      0.981481  0.018519    106.0      2.0     108\n",
      "21.0      0.986301  0.013699     72.0      1.0      73\n",
      "22.0      1.000000  0.000000     64.0      0.0      64\n",
      "23.0      0.954545  0.045455     63.0      3.0      66\n",
      "24.0      0.947368  0.052632     18.0      1.0      19\n"
     ]
    }
   ],
   "source": [
    "value_counts_ratio(train, '저장된_배아_수')"
   ]
  },
  {
   "cell_type": "markdown",
   "metadata": {},
   "source": [
    "### 45. 미세주입_후_저장된_배아_수"
   ]
  },
  {
   "cell_type": "markdown",
   "metadata": {},
   "source": [
    "ICSI 처리된 배아 중 저장된 배아의 수"
   ]
  },
  {
   "cell_type": "code",
   "execution_count": 1073,
   "metadata": {},
   "outputs": [
    {
     "name": "stdout",
     "output_type": "stream",
     "text": [
      "\n",
      "미세주입_후_저장된_배아_수별 임신_성공_여부 비율 및 갯수\n",
      "\n",
      "                 0         1         0        1   Total\n",
      "variable                                               \n",
      "0.0       0.741137  0.258863  116168.0  40575.0  156743\n",
      "1.0       0.653060  0.346940    8015.0   4258.0   12273\n",
      "2.0       0.623938  0.376062    7053.0   4251.0   11304\n",
      "3.0       0.632855  0.367145    4673.0   2711.0    7384\n",
      "4.0       0.644127  0.355873    3115.0   1721.0    4836\n",
      "5.0       0.654655  0.345345    1962.0   1035.0    2997\n",
      "6.0       0.671005  0.328995    1289.0    632.0    1921\n",
      "7.0       0.740095  0.259905     934.0    328.0    1262\n",
      "8.0       0.739583  0.260417     639.0    225.0     864\n",
      "9.0       0.766340  0.233660     469.0    143.0     612\n",
      "10.0      0.829374  0.170626     384.0     79.0     463\n",
      "11.0      0.848592  0.151408     241.0     43.0     284\n",
      "12.0      0.854331  0.145669     217.0     37.0     254\n",
      "13.0      0.928205  0.071795     181.0     14.0     195\n",
      "14.0      0.970588  0.029412     165.0      5.0     170\n",
      "15.0      0.968000  0.032000     121.0      4.0     125\n",
      "16.0      0.950980  0.049020      97.0      5.0     102\n",
      "17.0      0.974359  0.025641      76.0      2.0      78\n",
      "18.0      0.975000  0.025000      78.0      2.0      80\n",
      "19.0      0.979592  0.020408      48.0      1.0      49\n",
      "20.0      1.000000  0.000000      43.0      0.0      43\n",
      "21.0      1.000000  0.000000      30.0      0.0      30\n",
      "22.0      1.000000  0.000000      30.0      0.0      30\n",
      "23.0      0.967742  0.032258      30.0      1.0      31\n"
     ]
    }
   ],
   "source": [
    "value_counts_ratio(train, '미세주입_후_저장된_배아_수')"
   ]
  },
  {
   "cell_type": "markdown",
   "metadata": {},
   "source": [
    "### 46. 해동된_배아_수"
   ]
  },
  {
   "cell_type": "markdown",
   "metadata": {},
   "source": [
    "동결 해동된 배아의 수"
   ]
  },
  {
   "cell_type": "code",
   "execution_count": 1074,
   "metadata": {},
   "outputs": [
    {
     "name": "stdout",
     "output_type": "stream",
     "text": [
      "\n",
      "해동된_배아_수별 임신_성공_여부 비율 및 갯수\n",
      "\n",
      "                 0         1         0        1   Total\n",
      "variable                                               \n",
      "0.0       0.722248  0.277752  145577.0  55984.0  201561\n",
      "1.0       0.851974  0.148026     259.0     45.0     304\n",
      "2.0       0.814159  0.185841      92.0     21.0     113\n",
      "3.0       0.780000  0.220000      39.0     11.0      50\n",
      "4.0       0.900000  0.100000      27.0      3.0      30\n",
      "5.0       0.863636  0.136364      19.0      3.0      22\n",
      "6.0       0.937500  0.062500      15.0      1.0      16\n",
      "7.0       0.818182  0.181818       9.0      2.0      11\n",
      "8.0       0.875000  0.125000       7.0      1.0       8\n",
      "9.0       1.000000  0.000000       4.0      0.0       4\n",
      "10.0      0.857143  0.142857       6.0      1.0       7\n",
      "11.0      1.000000  0.000000       2.0      0.0       2\n",
      "14.0      1.000000  0.000000       1.0      0.0       1\n",
      "15.0      1.000000  0.000000       1.0      0.0       1\n"
     ]
    }
   ],
   "source": [
    "value_counts_ratio(train, '해동된_배아_수')"
   ]
  },
  {
   "cell_type": "markdown",
   "metadata": {},
   "source": [
    "### 47. 해동_난자_수"
   ]
  },
  {
   "cell_type": "markdown",
   "metadata": {},
   "source": [
    "동결 해동된 난자의 수"
   ]
  },
  {
   "cell_type": "code",
   "execution_count": 1075,
   "metadata": {},
   "outputs": [
    {
     "name": "stdout",
     "output_type": "stream",
     "text": [
      "\n",
      "해동_난자_수별 임신_성공_여부 비율 및 갯수\n",
      "\n",
      "                 0         1         0        1   Total\n",
      "variable                                               \n",
      "0.0       0.722242  0.277758  144972.0  55753.0  200725\n",
      "1.0       0.954545  0.045455      21.0      1.0      22\n",
      "2.0       0.903226  0.096774      56.0      6.0      62\n",
      "3.0       0.907692  0.092308      59.0      6.0      65\n",
      "4.0       0.888889  0.111111     112.0     14.0     126\n",
      "5.0       0.858491  0.141509      91.0     15.0     106\n",
      "6.0       0.796407  0.203593     133.0     34.0     167\n",
      "7.0       0.711268  0.288732     101.0     41.0     142\n",
      "8.0       0.703196  0.296804     154.0     65.0     219\n",
      "9.0       0.776699  0.223301      80.0     23.0     103\n",
      "10.0      0.761364  0.238636      67.0     21.0      88\n",
      "11.0      0.761194  0.238806      51.0     16.0      67\n",
      "12.0      0.652174  0.347826      45.0     24.0      69\n",
      "13.0      0.806452  0.193548      25.0      6.0      31\n",
      "14.0      0.600000  0.400000      24.0     16.0      40\n",
      "15.0      0.583333  0.416667      21.0     15.0      36\n",
      "16.0      0.550000  0.450000      11.0      9.0      20\n",
      "17.0      0.785714  0.214286      11.0      3.0      14\n",
      "18.0      0.857143  0.142857       6.0      1.0       7\n",
      "19.0      0.916667  0.083333      11.0      1.0      12\n",
      "20.0      1.000000  0.000000       5.0      0.0       5\n",
      "21.0      1.000000  0.000000       1.0      0.0       1\n",
      "22.0      0.000000  1.000000       0.0      1.0       1\n",
      "23.0      0.500000  0.500000       1.0      1.0       2\n"
     ]
    }
   ],
   "source": [
    "value_counts_ratio(train, '해동_난자_수')"
   ]
  },
  {
   "cell_type": "markdown",
   "metadata": {},
   "source": [
    "### 48. 수집된_신선_난자_수"
   ]
  },
  {
   "cell_type": "markdown",
   "metadata": {},
   "source": [
    "신선 난자가 수집된 수"
   ]
  },
  {
   "cell_type": "code",
   "execution_count": 1076,
   "metadata": {},
   "outputs": [
    {
     "name": "stdout",
     "output_type": "stream",
     "text": [
      "\n",
      "수집된_신선_난자_수별 임신_성공_여부 비율 및 갯수\n",
      "\n",
      "                 0         1       0       1  Total\n",
      "variable                                           \n",
      "0.0       0.664519  0.335481  7529.0  3801.0  11330\n",
      "1.0       0.942268  0.057732  4064.0   249.0   4313\n",
      "2.0       0.904575  0.095425  5536.0   584.0   6120\n",
      "3.0       0.863104  0.136896  6784.0  1076.0   7860\n",
      "4.0       0.820049  0.179951  7984.0  1752.0   9736\n",
      "5.0       0.786444  0.213556  8853.0  2404.0  11257\n",
      "6.0       0.770034  0.229966  9513.0  2841.0  12354\n",
      "7.0       0.742572  0.257428  9522.0  3301.0  12823\n",
      "8.0       0.720971  0.279029  9413.0  3643.0  13056\n",
      "9.0       0.713622  0.286378  9068.0  3639.0  12707\n",
      "10.0      0.692443  0.307557  8650.0  3842.0  12492\n",
      "11.0      0.677578  0.322422  7969.0  3792.0  11761\n",
      "12.0      0.665920  0.334080  7138.0  3581.0  10719\n",
      "13.0      0.659096  0.340904  6384.0  3302.0   9686\n",
      "14.0      0.662141  0.337859  5852.0  2986.0   8838\n",
      "15.0      0.656847  0.343153  5017.0  2621.0   7638\n",
      "16.0      0.656538  0.343462  4343.0  2272.0   6615\n",
      "17.0      0.650427  0.349573  3658.0  1966.0   5624\n",
      "18.0      0.644895  0.355105  3120.0  1718.0   4838\n",
      "19.0      0.646087  0.353913  2543.0  1393.0   3936\n",
      "20.0      0.663396  0.336604  2231.0  1132.0   3363\n",
      "21.0      0.663603  0.336397  1805.0   915.0   2720\n",
      "22.0      0.686968  0.313032  1534.0   699.0   2233\n",
      "23.0      0.683775  0.316225  1239.0   573.0   1812\n",
      "24.0      0.683386  0.316614  1090.0   505.0   1595\n",
      "25.0      0.709992  0.290008   945.0   386.0   1331\n",
      "26.0      0.754280  0.245720   749.0   244.0    993\n",
      "27.0      0.766954  0.233046   622.0   189.0    811\n",
      "28.0      0.766082  0.233918   524.0   160.0    684\n",
      "29.0      0.801942  0.198058   413.0   102.0    515\n",
      "30.0      0.788210  0.211790   361.0    97.0    458\n",
      "31.0      0.805797  0.194203   278.0    67.0    345\n",
      "32.0      0.811912  0.188088   259.0    60.0    319\n",
      "33.0      0.850202  0.149798   210.0    37.0    247\n",
      "34.0      0.857143  0.142857   168.0    28.0    196\n",
      "35.0      0.814815  0.185185   132.0    30.0    162\n",
      "36.0      0.891304  0.108696   123.0    15.0    138\n",
      "37.0      0.830508  0.169492    98.0    20.0    118\n",
      "38.0      0.858824  0.141176    73.0    12.0     85\n",
      "39.0      0.928571  0.071429    52.0     4.0     56\n",
      "40.0      0.863636  0.136364    57.0     9.0     66\n",
      "41.0      0.911765  0.088235    31.0     3.0     34\n",
      "42.0      0.868421  0.131579    33.0     5.0     38\n",
      "43.0      0.869565  0.130435    20.0     3.0     23\n",
      "44.0      0.866667  0.133333    13.0     2.0     15\n",
      "45.0      0.722222  0.277778    13.0     5.0     18\n",
      "46.0      1.000000  0.000000    19.0     0.0     19\n",
      "47.0      0.769231  0.230769    10.0     3.0     13\n",
      "48.0      0.750000  0.250000     3.0     1.0      4\n",
      "49.0      0.714286  0.285714     5.0     2.0      7\n",
      "50.0      0.888889  0.111111     8.0     1.0      9\n"
     ]
    }
   ],
   "source": [
    "value_counts_ratio(train, '수집된_신선_난자_수')"
   ]
  },
  {
   "cell_type": "markdown",
   "metadata": {},
   "source": [
    "### 49. 저장된_신선_난자_수"
   ]
  },
  {
   "cell_type": "markdown",
   "metadata": {},
   "source": [
    "저장된 신선 난자의 수"
   ]
  },
  {
   "cell_type": "code",
   "execution_count": 1077,
   "metadata": {},
   "outputs": [
    {
     "name": "stdout",
     "output_type": "stream",
     "text": [
      "\n",
      "저장된_신선_난자_수별 임신_성공_여부 비율 및 갯수\n",
      "\n",
      "                 0         1         0        1   Total\n",
      "variable                                               \n",
      "0.0       0.722441  0.277559  145842.0  56032.0  201874\n",
      "1.0       0.692308  0.307692       9.0      4.0      13\n",
      "2.0       0.923077  0.076923      12.0      1.0      13\n",
      "3.0       0.884615  0.115385      23.0      3.0      26\n",
      "4.0       0.846154  0.153846      22.0      4.0      26\n",
      "5.0       0.833333  0.166667      30.0      6.0      36\n",
      "6.0       0.833333  0.166667      20.0      4.0      24\n",
      "7.0       0.840000  0.160000      21.0      4.0      25\n",
      "8.0       0.941176  0.058824      16.0      1.0      17\n",
      "9.0       0.750000  0.250000       9.0      3.0      12\n",
      "10.0      0.937500  0.062500      15.0      1.0      16\n",
      "11.0      0.714286  0.285714      10.0      4.0      14\n",
      "12.0      0.666667  0.333333       4.0      2.0       6\n",
      "13.0      1.000000  0.000000       9.0      0.0       9\n",
      "14.0      0.900000  0.100000       9.0      1.0      10\n",
      "15.0      1.000000  0.000000       4.0      0.0       4\n",
      "16.0      0.500000  0.500000       1.0      1.0       2\n",
      "17.0      1.000000  0.000000       1.0      0.0       1\n",
      "18.0      1.000000  0.000000       1.0      0.0       1\n",
      "19.0      0.000000  1.000000       0.0      1.0       1\n"
     ]
    }
   ],
   "source": [
    "value_counts_ratio(train, '저장된_신선_난자_수')"
   ]
  },
  {
   "cell_type": "markdown",
   "metadata": {},
   "source": [
    "### 50. 혼합된_난자_수"
   ]
  },
  {
   "cell_type": "markdown",
   "metadata": {},
   "source": [
    "정자와 혼합된 총 난자 수"
   ]
  },
  {
   "cell_type": "code",
   "execution_count": 1078,
   "metadata": {},
   "outputs": [
    {
     "name": "stdout",
     "output_type": "stream",
     "text": [
      "\n",
      "혼합된_난자_수별 임신_성공_여부 비율 및 갯수\n",
      "\n",
      "                 0         1        0       1  Total\n",
      "variable                                            \n",
      "0.0       0.891892  0.108108     33.0     4.0     37\n",
      "1.0       0.938986  0.061014   6002.0   390.0   6392\n",
      "2.0       0.891645  0.108355   7908.0   961.0   8869\n",
      "3.0       0.837277  0.162723   9200.0  1788.0  10988\n",
      "4.0       0.793996  0.206004  10738.0  2786.0  13524\n",
      "5.0       0.749838  0.250162  11564.0  3858.0  15422\n",
      "6.0       0.735694  0.264306  11969.0  4300.0  16269\n",
      "7.0       0.714169  0.285831  11346.0  4541.0  15887\n",
      "8.0       0.697751  0.302249  10580.0  4583.0  15163\n",
      "9.0       0.689272  0.310728   9676.0  4362.0  14038\n",
      "10.0      0.671537  0.328463   8687.0  4249.0  12936\n",
      "11.0      0.660827  0.339173   7620.0  3911.0  11531\n",
      "12.0      0.659887  0.340113   6684.0  3445.0  10129\n",
      "13.0      0.645778  0.354222   5606.0  3075.0   8681\n",
      "14.0      0.658332  0.341668   4950.0  2569.0   7519\n",
      "15.0      0.656110  0.343890   4247.0  2226.0   6473\n",
      "16.0      0.648026  0.351974   3430.0  1863.0   5293\n",
      "17.0      0.648649  0.351351   2808.0  1521.0   4329\n",
      "18.0      0.653246  0.346754   2304.0  1223.0   3527\n",
      "19.0      0.662091  0.337909   1881.0   960.0   2841\n",
      "20.0      0.662636  0.337364   1589.0   809.0   2398\n",
      "21.0      0.682365  0.317635   1304.0   607.0   1911\n",
      "22.0      0.694637  0.305363   1101.0   484.0   1585\n",
      "23.0      0.692549  0.307451    883.0   392.0   1275\n",
      "24.0      0.690453  0.309547    716.0   321.0   1037\n",
      "25.0      0.761104  0.238896    634.0   199.0    833\n",
      "26.0      0.758887  0.241113    491.0   156.0    647\n",
      "27.0      0.797348  0.202652    421.0   107.0    528\n",
      "28.0      0.794989  0.205011    349.0    90.0    439\n",
      "29.0      0.776025  0.223975    246.0    71.0    317\n",
      "30.0      0.802239  0.197761    215.0    53.0    268\n",
      "31.0      0.848168  0.151832    162.0    29.0    191\n",
      "32.0      0.824176  0.175824    150.0    32.0    182\n",
      "33.0      0.847222  0.152778    122.0    22.0    144\n",
      "34.0      0.840708  0.159292     95.0    18.0    113\n",
      "35.0      0.811881  0.188119     82.0    19.0    101\n",
      "36.0      0.863014  0.136986     63.0    10.0     73\n",
      "37.0      0.781250  0.218750     50.0    14.0     64\n",
      "38.0      0.851852  0.148148     46.0     8.0     54\n",
      "39.0      0.892857  0.107143     25.0     3.0     28\n",
      "40.0      0.923077  0.076923     24.0     2.0     26\n",
      "41.0      1.000000  0.000000     12.0     0.0     12\n",
      "42.0      0.736842  0.263158     14.0     5.0     19\n",
      "43.0      0.818182  0.181818      9.0     2.0     11\n",
      "44.0      1.000000  0.000000      4.0     0.0      4\n",
      "45.0      0.666667  0.333333      2.0     1.0      3\n",
      "46.0      1.000000  0.000000      6.0     0.0      6\n",
      "47.0      0.800000  0.200000      4.0     1.0      5\n",
      "48.0      1.000000  0.000000      2.0     0.0      2\n",
      "49.0      1.000000  0.000000      4.0     0.0      4\n",
      "50.0      0.000000  1.000000      0.0     1.0      1\n",
      "51.0      0.000000  1.000000      0.0     1.0      1\n"
     ]
    }
   ],
   "source": [
    "value_counts_ratio(train, '혼합된_난자_수')"
   ]
  },
  {
   "cell_type": "markdown",
   "metadata": {},
   "source": [
    "### 51. 파트너_정자와_혼합된_난자_수"
   ]
  },
  {
   "cell_type": "markdown",
   "metadata": {},
   "source": [
    "파트너 정자와 혼합된 난자의 수"
   ]
  },
  {
   "cell_type": "code",
   "execution_count": 1079,
   "metadata": {},
   "outputs": [
    {
     "name": "stdout",
     "output_type": "stream",
     "text": [
      "\n",
      "파트너_정자와_혼합된_난자_수별 임신_성공_여부 비율 및 갯수\n",
      "\n",
      "                 0         1        0       1  Total\n",
      "variable                                            \n",
      "0.0       0.720765  0.279235  11649.0  4513.0  16162\n",
      "1.0       0.939020  0.060980   5328.0   346.0   5674\n",
      "2.0       0.891703  0.108297   7147.0   868.0   8015\n",
      "3.0       0.837406  0.162594   8395.0  1630.0  10025\n",
      "4.0       0.796031  0.203969   9827.0  2518.0  12345\n",
      "5.0       0.750636  0.249364  10623.0  3529.0  14152\n",
      "6.0       0.737268  0.262732  11017.0  3926.0  14943\n",
      "7.0       0.716580  0.283420  10485.0  4147.0  14632\n",
      "8.0       0.698378  0.301622   9771.0  4220.0  13991\n",
      "9.0       0.690698  0.309302   8977.0  4020.0  12997\n",
      "10.0      0.673357  0.326643   8052.0  3906.0  11958\n",
      "11.0      0.659880  0.340120   7033.0  3625.0  10658\n",
      "12.0      0.660008  0.339992   6212.0  3200.0   9412\n",
      "13.0      0.646200  0.353800   5178.0  2835.0   8013\n",
      "14.0      0.659143  0.340857   4614.0  2386.0   7000\n",
      "15.0      0.656214  0.343786   3934.0  2061.0   5995\n",
      "16.0      0.650277  0.349723   3174.0  1707.0   4881\n",
      "17.0      0.649088  0.350912   2597.0  1404.0   4001\n",
      "18.0      0.652108  0.347892   2135.0  1139.0   3274\n",
      "19.0      0.660915  0.339085   1762.0   904.0   2666\n",
      "20.0      0.665763  0.334237   1474.0   740.0   2214\n",
      "21.0      0.681436  0.318564   1215.0   568.0   1783\n",
      "22.0      0.699591  0.300409   1027.0   441.0   1468\n",
      "23.0      0.690894  0.309106    827.0   370.0   1197\n",
      "24.0      0.685804  0.314196    657.0   301.0    958\n",
      "25.0      0.761273  0.238727    574.0   180.0    754\n",
      "26.0      0.755892  0.244108    449.0   145.0    594\n",
      "27.0      0.797571  0.202429    394.0   100.0    494\n",
      "28.0      0.787500  0.212500    315.0    85.0    400\n",
      "29.0      0.788927  0.211073    228.0    61.0    289\n",
      "30.0      0.800000  0.200000    200.0    50.0    250\n",
      "31.0      0.847458  0.152542    150.0    27.0    177\n",
      "32.0      0.812121  0.187879    134.0    31.0    165\n",
      "33.0      0.862903  0.137097    107.0    17.0    124\n",
      "34.0      0.836538  0.163462     87.0    17.0    104\n",
      "35.0      0.824176  0.175824     75.0    16.0     91\n",
      "36.0      0.888889  0.111111     56.0     7.0     63\n",
      "37.0      0.771930  0.228070     44.0    13.0     57\n",
      "38.0      0.857143  0.142857     36.0     6.0     42\n",
      "39.0      0.884615  0.115385     23.0     3.0     26\n",
      "40.0      0.920000  0.080000     23.0     2.0     25\n",
      "41.0      1.000000  0.000000     11.0     0.0     11\n",
      "42.0      0.777778  0.222222     14.0     4.0     18\n",
      "43.0      0.818182  0.181818      9.0     2.0     11\n",
      "44.0      1.000000  0.000000      3.0     0.0      3\n",
      "45.0      1.000000  0.000000      1.0     0.0      1\n",
      "46.0      1.000000  0.000000      6.0     0.0      6\n",
      "47.0      0.800000  0.200000      4.0     1.0      5\n",
      "48.0      1.000000  0.000000      2.0     0.0      2\n",
      "49.0      1.000000  0.000000      3.0     0.0      3\n",
      "51.0      0.000000  1.000000      0.0     1.0      1\n"
     ]
    }
   ],
   "source": [
    "value_counts_ratio(train, '파트너_정자와_혼합된_난자_수')"
   ]
  },
  {
   "cell_type": "markdown",
   "metadata": {},
   "source": [
    "### 52. 기증자_정자와_혼합된_난자_수"
   ]
  },
  {
   "cell_type": "markdown",
   "metadata": {},
   "source": [
    "기증자 정자와 혼합된 난자의 수"
   ]
  },
  {
   "cell_type": "code",
   "execution_count": 1080,
   "metadata": {},
   "outputs": [
    {
     "name": "stdout",
     "output_type": "stream",
     "text": [
      "\n",
      "기증자_정자와_혼합된_난자_수별 임신_성공_여부 비율 및 갯수\n",
      "\n",
      "                 0         1         0        1   Total\n",
      "variable                                               \n",
      "0.0       0.722862  0.277138  135001.0  51758.0  186759\n",
      "1.0       0.936639  0.063361     680.0     46.0     726\n",
      "2.0       0.886836  0.113164     768.0     98.0     866\n",
      "3.0       0.834694  0.165306     818.0    162.0     980\n",
      "4.0       0.770519  0.229481     920.0    274.0    1194\n",
      "5.0       0.736272  0.263728     952.0    341.0    1293\n",
      "6.0       0.714180  0.285820     967.0    387.0    1354\n",
      "7.0       0.689711  0.310289     858.0    386.0    1244\n",
      "8.0       0.691176  0.308824     799.0    357.0    1156\n",
      "9.0       0.671329  0.328671     672.0    329.0    1001\n",
      "10.0      0.645022  0.354978     596.0    328.0     924\n",
      "11.0      0.665845  0.334155     540.0    271.0     811\n",
      "12.0      0.653030  0.346970     431.0    229.0     660\n",
      "13.0      0.633613  0.366387     377.0    218.0     595\n",
      "14.0      0.643312  0.356688     303.0    168.0     471\n",
      "15.0      0.637931  0.362069     259.0    147.0     406\n",
      "16.0      0.619318  0.380682     218.0    134.0     352\n",
      "17.0      0.643382  0.356618     175.0     97.0     272\n",
      "18.0      0.648241  0.351759     129.0     70.0     199\n",
      "19.0      0.675676  0.324324     100.0     48.0     148\n",
      "20.0      0.621622  0.378378      92.0     56.0     148\n",
      "21.0      0.672566  0.327434      76.0     37.0     113\n",
      "22.0      0.632184  0.367816      55.0     32.0      87\n",
      "23.0      0.614035  0.385965      35.0     22.0      57\n",
      "24.0      0.700000  0.300000      42.0     18.0      60\n",
      "25.0      0.741379  0.258621      43.0     15.0      58\n",
      "26.0      0.837838  0.162162      31.0      6.0      37\n",
      "27.0      0.791667  0.208333      19.0      5.0      24\n",
      "28.0      0.846154  0.153846      22.0      4.0      26\n",
      "29.0      0.600000  0.400000      12.0      8.0      20\n",
      "30.0      0.818182  0.181818       9.0      2.0      11\n",
      "31.0      0.800000  0.200000       8.0      2.0      10\n",
      "32.0      0.933333  0.066667      14.0      1.0      15\n",
      "33.0      0.666667  0.333333      10.0      5.0      15\n",
      "34.0      0.800000  0.200000       4.0      1.0       5\n",
      "35.0      0.666667  0.333333       4.0      2.0       6\n",
      "36.0      0.750000  0.250000       6.0      2.0       8\n",
      "37.0      0.800000  0.200000       4.0      1.0       5\n",
      "38.0      0.666667  0.333333       4.0      2.0       6\n",
      "39.0      1.000000  0.000000       2.0      0.0       2\n",
      "40.0      1.000000  0.000000       1.0      0.0       1\n",
      "41.0      1.000000  0.000000       1.0      0.0       1\n",
      "42.0      0.000000  1.000000       0.0      1.0       1\n",
      "45.0      0.000000  1.000000       0.0      1.0       1\n",
      "49.0      1.000000  0.000000       1.0      0.0       1\n",
      "50.0      0.000000  1.000000       0.0      1.0       1\n"
     ]
    }
   ],
   "source": [
    "value_counts_ratio(train, '기증자_정자와_혼합된_난자_수')"
   ]
  },
  {
   "cell_type": "markdown",
   "metadata": {},
   "source": [
    "### 53. 난자_출처"
   ]
  },
  {
   "cell_type": "markdown",
   "metadata": {},
   "source": [
    "난자 출처 정보"
   ]
  },
  {
   "cell_type": "code",
   "execution_count": 1081,
   "metadata": {},
   "outputs": [
    {
     "name": "stdout",
     "output_type": "stream",
     "text": [
      "\n",
      "난자_출처별 임신_성공_여부 비율 및 갯수\n",
      "\n",
      "                 0         1       0      1   Total\n",
      "variable                                           \n",
      "기증 제공     0.654754  0.345246    7072   3729   10801\n",
      "본인 제공     0.726424  0.273576  138986  52343  191329\n"
     ]
    }
   ],
   "source": [
    "value_counts_ratio(train, '난자_출처')"
   ]
  },
  {
   "cell_type": "code",
   "execution_count": 1082,
   "metadata": {},
   "outputs": [
    {
     "data": {
      "text/plain": [
       "난자_출처\n",
       "본인 제공    82397\n",
       "기증 제공     5494\n",
       "Name: count, dtype: int64"
      ]
     },
     "execution_count": 1082,
     "metadata": {},
     "output_type": "execute_result"
    }
   ],
   "source": [
    "test['난자_출처'].value_counts()"
   ]
  },
  {
   "cell_type": "markdown",
   "metadata": {},
   "source": [
    "### 54. 정자_출처"
   ]
  },
  {
   "cell_type": "markdown",
   "metadata": {},
   "source": [
    "정자 출처 정보"
   ]
  },
  {
   "cell_type": "code",
   "execution_count": 1083,
   "metadata": {},
   "outputs": [
    {
     "name": "stdout",
     "output_type": "stream",
     "text": [
      "\n",
      "정자_출처별 임신_성공_여부 비율 및 갯수\n",
      "\n",
      "                 0         1       0      1   Total\n",
      "variable                                           \n",
      "기증 제공     0.719267  0.280733   11035   4307   15342\n",
      "미할당       0.944444  0.055556      68      4      72\n",
      "배우자 제공    0.722782  0.277218  134955  51761  186716\n"
     ]
    }
   ],
   "source": [
    "value_counts_ratio(train, '정자_출처')"
   ]
  },
  {
   "cell_type": "code",
   "execution_count": 1084,
   "metadata": {},
   "outputs": [
    {
     "data": {
      "text/plain": [
       "정자_출처\n",
       "배우자 제공         80569\n",
       "기증 제공           7284\n",
       "미할당               33\n",
       "배우자 및 기증 제공        5\n",
       "Name: count, dtype: int64"
      ]
     },
     "execution_count": 1084,
     "metadata": {},
     "output_type": "execute_result"
    }
   ],
   "source": [
    "test['정자_출처'].value_counts()"
   ]
  },
  {
   "cell_type": "markdown",
   "metadata": {},
   "source": [
    "### 55. 난자_기증자_나이"
   ]
  },
  {
   "cell_type": "markdown",
   "metadata": {},
   "source": [
    "난자 기증자의 등록 당시 나이"
   ]
  },
  {
   "cell_type": "code",
   "execution_count": 1085,
   "metadata": {},
   "outputs": [
    {
     "name": "stdout",
     "output_type": "stream",
     "text": [
      "\n",
      "난자_기증자_나이별 임신_성공_여부 비율 및 갯수\n",
      "\n",
      "                 0         1       0      1   Total\n",
      "variable                                           \n",
      "만20세 이하   0.727273  0.272727     152     57     209\n",
      "만21-25세   0.640519  0.359481    1037    582    1619\n",
      "만26-30세   0.619514  0.380486    2216   1361    3577\n",
      "만31-35세   0.669416  0.330584    3003   1483    4486\n",
      "알 수 없음    0.726439  0.273561  139650  52589  192239\n"
     ]
    }
   ],
   "source": [
    "value_counts_ratio(train, '난자_기증자_나이')"
   ]
  },
  {
   "cell_type": "markdown",
   "metadata": {},
   "source": [
    "### 56. 정자_기증자_나이"
   ]
  },
  {
   "cell_type": "markdown",
   "metadata": {},
   "source": [
    "정자 기증자의 등록 당시 나이"
   ]
  },
  {
   "cell_type": "code",
   "execution_count": 1086,
   "metadata": {},
   "outputs": [
    {
     "name": "stdout",
     "output_type": "stream",
     "text": [
      "\n",
      "정자_기증자_나이별 임신_성공_여부 비율 및 갯수\n",
      "\n",
      "                 0         1       0      1   Total\n",
      "variable                                           \n",
      "만20세 이하   0.778151  0.221849     463    132     595\n",
      "만21-25세   0.732102  0.267898    2536    928    3464\n",
      "만26-30세   0.709416  0.290584    2102    861    2963\n",
      "만31-35세   0.712907  0.287093    1994    803    2797\n",
      "만36-40세   0.706747  0.293253    2116    878    2994\n",
      "만41-45세   0.722996  0.277004    1506    577    2083\n",
      "알 수 없음    0.722844  0.277156  135341  51893  187234\n"
     ]
    }
   ],
   "source": [
    "value_counts_ratio(train, '정자_기증자_나이')"
   ]
  },
  {
   "cell_type": "code",
   "execution_count": 1087,
   "metadata": {},
   "outputs": [
    {
     "name": "stdout",
     "output_type": "stream",
     "text": [
      "Grouped by: 난자_출처, 정자_출처\n",
      "\n",
      "             group  '임신_성공_여부' count     ratio   Total\n",
      "0   (기증 제공, 기증 제공)               649  0.347430    1868\n",
      "1  (기증 제공, 배우자 제공)              3080  0.344789    8933\n",
      "2   (본인 제공, 기증 제공)              3658  0.271486   13474\n",
      "3     (본인 제공, 미할당)                 4  0.055556      72\n",
      "4  (본인 제공, 배우자 제공)             48681  0.273823  177783\n"
     ]
    }
   ],
   "source": [
    "summarize_group(train, ['난자_출처', '정자_출처'])"
   ]
  },
  {
   "cell_type": "code",
   "execution_count": 1088,
   "metadata": {},
   "outputs": [
    {
     "name": "stdout",
     "output_type": "stream",
     "text": [
      "Grouped by: 난자_기증자_나이, 정자_기증자_나이\n",
      "\n",
      "                 group  '임신_성공_여부' count     ratio   Total\n",
      "0   (만20세 이하, 만21-25세)                 0  0.000000       4\n",
      "1   (만20세 이하, 만26-30세)                 0  0.000000       5\n",
      "2   (만20세 이하, 만31-35세)                 2  0.400000       5\n",
      "3   (만20세 이하, 만36-40세)                 4  0.400000      10\n",
      "4   (만20세 이하, 만41-45세)                 3  0.500000       6\n",
      "5    (만20세 이하, 알 수 없음)                48  0.268156     179\n",
      "6   (만21-25세, 만20세 이하)                 2  0.181818      11\n",
      "7   (만21-25세, 만21-25세)                20  0.400000      50\n",
      "8   (만21-25세, 만26-30세)                11  0.297297      37\n",
      "9   (만21-25세, 만31-35세)                14  0.400000      35\n",
      "10  (만21-25세, 만36-40세)                16  0.380952      42\n",
      "11  (만21-25세, 만41-45세)                11  0.343750      32\n",
      "12   (만21-25세, 알 수 없음)               508  0.359773    1412\n",
      "13  (만26-30세, 만20세 이하)                 7  0.411765      17\n",
      "14  (만26-30세, 만21-25세)                42  0.381818     110\n",
      "15  (만26-30세, 만26-30세)                52  0.412698     126\n",
      "16  (만26-30세, 만31-35세)                45  0.424528     106\n",
      "17  (만26-30세, 만36-40세)                43  0.390909     110\n",
      "18  (만26-30세, 만41-45세)                18  0.333333      54\n",
      "19   (만26-30세, 알 수 없음)              1154  0.377865    3054\n",
      "20  (만31-35세, 만20세 이하)                 6  0.230769      26\n",
      "21  (만31-35세, 만21-25세)                62  0.436620     142\n",
      "22  (만31-35세, 만26-30세)                49  0.324503     151\n",
      "23  (만31-35세, 만31-35세)                62  0.375758     165\n",
      "24  (만31-35세, 만36-40세)                40  0.277778     144\n",
      "25  (만31-35세, 만41-45세)                31  0.364706      85\n",
      "26   (만31-35세, 알 수 없음)              1233  0.326796    3773\n",
      "27   (알 수 없음, 만20세 이하)               117  0.216266     541\n",
      "28   (알 수 없음, 만21-25세)               804  0.254592    3158\n",
      "29   (알 수 없음, 만26-30세)               749  0.283283    2644\n",
      "30   (알 수 없음, 만31-35세)               680  0.273532    2486\n",
      "31   (알 수 없음, 만36-40세)               775  0.288318    2688\n",
      "32   (알 수 없음, 만41-45세)               514  0.269675    1906\n",
      "33    (알 수 없음, 알 수 없음)             48950  0.273745  178816\n"
     ]
    }
   ],
   "source": [
    "summarize_group(train, ['난자_기증자_나이', '정자_기증자_나이'])"
   ]
  },
  {
   "cell_type": "markdown",
   "metadata": {},
   "source": [
    "### 57. 동결_배아_사용_여부"
   ]
  },
  {
   "cell_type": "markdown",
   "metadata": {},
   "source": [
    "동결 배아가 사용되었는지 여부"
   ]
  },
  {
   "cell_type": "code",
   "execution_count": 1089,
   "metadata": {},
   "outputs": [
    {
     "name": "stdout",
     "output_type": "stream",
     "text": [
      "\n",
      "동결_배아_사용_여부별 임신_성공_여부 비율 및 갯수\n",
      "\n",
      "                 0         1       0      1   Total\n",
      "variable                                           \n",
      "0.0       0.722478  0.277522  145804  56007  201811\n",
      "1.0       0.796238  0.203762     254     65     319\n"
     ]
    }
   ],
   "source": [
    "value_counts_ratio(train, '동결_배아_사용_여부')"
   ]
  },
  {
   "cell_type": "markdown",
   "metadata": {},
   "source": [
    "### 58. 신선_배아_사용_여부"
   ]
  },
  {
   "cell_type": "markdown",
   "metadata": {},
   "source": [
    "신선 배아가 사용되었는지 여부"
   ]
  },
  {
   "cell_type": "code",
   "execution_count": 1090,
   "metadata": {},
   "outputs": [
    {
     "name": "stdout",
     "output_type": "stream",
     "text": [
      "\n",
      "신선_배아_사용_여부별 임신_성공_여부 비율 및 갯수\n",
      "\n",
      "                 0         1       0      1   Total\n",
      "variable                                           \n",
      "0.0       0.780702  0.219298      89     25     114\n",
      "1.0       0.722562  0.277438  145969  56047  202016\n"
     ]
    }
   ],
   "source": [
    "value_counts_ratio(train, '신선_배아_사용_여부')"
   ]
  },
  {
   "cell_type": "markdown",
   "metadata": {},
   "source": [
    "### 59. 기증_배아_사용_여부"
   ]
  },
  {
   "cell_type": "markdown",
   "metadata": {},
   "source": [
    "기증 배아가 사용되었는지 여부"
   ]
  },
  {
   "cell_type": "code",
   "execution_count": 1091,
   "metadata": {},
   "outputs": [
    {
     "name": "stdout",
     "output_type": "stream",
     "text": [
      "\n",
      "기증_배아_사용_여부별 임신_성공_여부 비율 및 갯수\n",
      "\n",
      "                 0         1       0      1   Total\n",
      "variable                                           \n",
      "0.0       0.723341  0.276659  145147  55515  200662\n",
      "1.0       0.620572  0.379428     911    557    1468\n"
     ]
    }
   ],
   "source": [
    "value_counts_ratio(train, '기증_배아_사용_여부')"
   ]
  },
  {
   "cell_type": "code",
   "execution_count": 1092,
   "metadata": {},
   "outputs": [
    {
     "name": "stdout",
     "output_type": "stream",
     "text": [
      "Grouped by: 신선_배아_사용_여부, 동결_배아_사용_여부, 기증_배아_사용_여부\n",
      "\n",
      "             group  '임신_성공_여부' count     ratio   Total\n",
      "0  (0.0, 1.0, 0.0)                25  0.219298     114\n",
      "1  (1.0, 0.0, 0.0)             55450  0.276775  200343\n",
      "2  (1.0, 0.0, 1.0)               557  0.379428    1468\n",
      "3  (1.0, 1.0, 0.0)                40  0.195122     205\n"
     ]
    }
   ],
   "source": [
    "summarize_group(train, ['신선_배아_사용_여부', '동결_배아_사용_여부', '기증_배아_사용_여부'])"
   ]
  },
  {
   "cell_type": "markdown",
   "metadata": {},
   "source": [
    "### 60. 대리모_여부"
   ]
  },
  {
   "cell_type": "markdown",
   "metadata": {},
   "source": [
    "환자가 대리모로 활동했는지 여부"
   ]
  },
  {
   "cell_type": "code",
   "execution_count": 1093,
   "metadata": {},
   "outputs": [
    {
     "name": "stdout",
     "output_type": "stream",
     "text": [
      "\n",
      "대리모_여부별 임신_성공_여부 비율 및 갯수\n",
      "\n",
      "                 0         1       0      1   Total\n",
      "variable                                           \n",
      "0.0       0.722613  0.277387  145772  55957  201729\n",
      "1.0       0.713217  0.286783     286    115     401\n"
     ]
    }
   ],
   "source": [
    "value_counts_ratio(train, '대리모_여부')"
   ]
  },
  {
   "cell_type": "markdown",
   "metadata": {},
   "source": [
    "### 61. PGD_시술_여부"
   ]
  },
  {
   "cell_type": "markdown",
   "metadata": {},
   "source": [
    "해당 주기가 PGD 치료로 분류되는지 여부"
   ]
  },
  {
   "cell_type": "code",
   "execution_count": 1094,
   "metadata": {},
   "outputs": [
    {
     "name": "stdout",
     "output_type": "stream",
     "text": [
      "\n",
      "PGD_시술_여부별 임신_성공_여부 비율 및 갯수\n",
      "\n",
      "                 0         1     0    1  Total\n",
      "variable                                      \n",
      "1.0       0.721859  0.278141  1103  425   1528\n"
     ]
    }
   ],
   "source": [
    "value_counts_ratio(train, 'PGD_시술_여부')"
   ]
  },
  {
   "cell_type": "code",
   "execution_count": 1095,
   "metadata": {},
   "outputs": [
    {
     "name": "stdout",
     "output_type": "stream",
     "text": [
      "결측값 개수: 200602\n",
      "결측값 개수: 0\n"
     ]
    }
   ],
   "source": [
    "# 결측값 개수 확인\n",
    "print(\"결측값 개수:\", train['PGD_시술_여부'].isnull().sum())\n",
    "\n",
    "# 결측값을 0으로 채우기\n",
    "train['PGD_시술_여부'].fillna(0, inplace=True)\n",
    "test['PGD_시술_여부'].fillna(0, inplace=True)\n",
    "\n",
    "# 결측값 개수 확인\n",
    "print(\"결측값 개수:\", train['PGD_시술_여부'].isnull().sum())"
   ]
  },
  {
   "cell_type": "code",
   "execution_count": 1096,
   "metadata": {},
   "outputs": [
    {
     "name": "stdout",
     "output_type": "stream",
     "text": [
      "\n",
      "PGD_시술_여부별 임신_성공_여부 비율 및 갯수\n",
      "\n",
      "                 0         1       0      1   Total\n",
      "variable                                           \n",
      "0.0       0.722600  0.277400  144955  55647  200602\n",
      "1.0       0.721859  0.278141    1103    425    1528\n"
     ]
    }
   ],
   "source": [
    "value_counts_ratio(train, 'PGD_시술_여부')"
   ]
  },
  {
   "cell_type": "markdown",
   "metadata": {},
   "source": [
    "### 62. PGS_시술_여부"
   ]
  },
  {
   "cell_type": "markdown",
   "metadata": {},
   "source": [
    "해당 주기가 PGS 치료로 분류되는지 여부"
   ]
  },
  {
   "cell_type": "code",
   "execution_count": 1097,
   "metadata": {},
   "outputs": [
    {
     "name": "stdout",
     "output_type": "stream",
     "text": [
      "\n",
      "PGS_시술_여부별 임신_성공_여부 비율 및 갯수\n",
      "\n",
      "                 0         1     0    1  Total\n",
      "variable                                      \n",
      "1.0       0.828781  0.171219  1244  257   1501\n"
     ]
    }
   ],
   "source": [
    "value_counts_ratio(train, 'PGS_시술_여부')"
   ]
  },
  {
   "cell_type": "code",
   "execution_count": 1098,
   "metadata": {},
   "outputs": [
    {
     "name": "stdout",
     "output_type": "stream",
     "text": [
      "결측값 개수: 200629\n",
      "결측값 개수: 0\n"
     ]
    }
   ],
   "source": [
    "# 결측값 개수 확인\n",
    "print(\"결측값 개수:\", train['PGS_시술_여부'].isnull().sum())\n",
    "\n",
    "# 결측값을 0으로 채우기\n",
    "train['PGS_시술_여부'].fillna(0, inplace=True)\n",
    "test['PGS_시술_여부'].fillna(0, inplace=True)\n",
    "\n",
    "# 결측값 개수 확인\n",
    "print(\"결측값 개수:\", train['PGS_시술_여부'].isnull().sum())"
   ]
  },
  {
   "cell_type": "code",
   "execution_count": 1099,
   "metadata": {},
   "outputs": [
    {
     "name": "stdout",
     "output_type": "stream",
     "text": [
      "Grouped by: PGD_시술_여부, PGS_시술_여부\n",
      "\n",
      "        group  '임신_성공_여부' count     ratio   Total\n",
      "0  (0.0, 0.0)             55390  0.278201  199101\n",
      "1  (0.0, 1.0)               257  0.171219    1501\n",
      "2  (1.0, 0.0)               425  0.278141    1528\n"
     ]
    }
   ],
   "source": [
    "summarize_group(train, ['PGD_시술_여부', 'PGS_시술_여부'])"
   ]
  },
  {
   "cell_type": "markdown",
   "metadata": {},
   "source": [
    "### 63. 난자_채취_경과일"
   ]
  },
  {
   "cell_type": "markdown",
   "metadata": {},
   "source": [
    "첫 시점으로부터 난자 채취까지 경과한 일수"
   ]
  },
  {
   "cell_type": "code",
   "execution_count": 1100,
   "metadata": {},
   "outputs": [
    {
     "name": "stdout",
     "output_type": "stream",
     "text": [
      "\n",
      "난자_채취_경과일별 임신_성공_여부 비율 및 갯수\n",
      "\n",
      "                 0         1       0      1   Total\n",
      "variable                                           \n",
      "0.0       0.726052  0.273948  138514  52263  190777\n"
     ]
    }
   ],
   "source": [
    "value_counts_ratio(train, '난자_채취_경과일')"
   ]
  },
  {
   "cell_type": "code",
   "execution_count": 1101,
   "metadata": {},
   "outputs": [
    {
     "name": "stdout",
     "output_type": "stream",
     "text": [
      "결측값 개수: 11353\n",
      "결측값 개수: 0\n"
     ]
    }
   ],
   "source": [
    "print(\"결측값 개수:\", train['난자_채취_경과일'].isnull().sum())\n",
    "\n",
    "train['난자_채취_경과일'].fillna(-1, inplace=True)\n",
    "test['난자_채취_경과일'].fillna(-1, inplace=True)\n",
    "\n",
    "print(\"결측값 개수:\", train['난자_채취_경과일'].isnull().sum())"
   ]
  },
  {
   "cell_type": "markdown",
   "metadata": {},
   "source": [
    "### 64. 난자_해동_경과일"
   ]
  },
  {
   "cell_type": "markdown",
   "metadata": {},
   "source": [
    "첫 시점으로부터 난자 해동까지 경과한 일수"
   ]
  },
  {
   "cell_type": "code",
   "execution_count": 1102,
   "metadata": {},
   "outputs": [
    {
     "name": "stdout",
     "output_type": "stream",
     "text": [
      "\n",
      "난자_해동_경과일별 임신_성공_여부 비율 및 갯수\n",
      "\n",
      "                 0         1     0    1  Total\n",
      "variable                                      \n",
      "0.0       0.772954  0.227046  1086  319   1405\n"
     ]
    }
   ],
   "source": [
    "value_counts_ratio(train, '난자_해동_경과일')"
   ]
  },
  {
   "cell_type": "code",
   "execution_count": 1103,
   "metadata": {},
   "outputs": [
    {
     "name": "stdout",
     "output_type": "stream",
     "text": [
      "결측값 개수: 200725\n",
      "결측값 개수: 0\n"
     ]
    }
   ],
   "source": [
    "print(\"결측값 개수:\", train['난자_해동_경과일'].isnull().sum())\n",
    "\n",
    "train['난자_해동_경과일'].fillna(-1, inplace=True)\n",
    "test['난자_해동_경과일'].fillna(-1, inplace=True)\n",
    "\n",
    "print(\"결측값 개수:\", train['난자_해동_경과일'].isnull().sum())"
   ]
  },
  {
   "cell_type": "markdown",
   "metadata": {},
   "source": [
    "### 65. 난자_혼합_경과일"
   ]
  },
  {
   "cell_type": "markdown",
   "metadata": {},
   "source": [
    "첫 시점으로부터 난자와 정자 혼합까지 경과한 일수"
   ]
  },
  {
   "cell_type": "code",
   "execution_count": 1104,
   "metadata": {},
   "outputs": [
    {
     "name": "stdout",
     "output_type": "stream",
     "text": [
      "\n",
      "난자_혼합_경과일별 임신_성공_여부 비율 및 갯수\n",
      "\n",
      "                 0         1       0      1   Total\n",
      "variable                                           \n",
      "0.0       0.722281  0.277719  145502  55946  201448\n",
      "1.0       0.845041  0.154959     409     75     484\n",
      "2.0       0.752475  0.247525      76     25     101\n",
      "3.0       0.720588  0.279412      49     19      68\n",
      "4.0       0.600000  0.400000       3      2       5\n",
      "5.0       0.791667  0.208333      19      5      24\n"
     ]
    }
   ],
   "source": [
    "value_counts_ratio(train, '난자_혼합_경과일')"
   ]
  },
  {
   "cell_type": "code",
   "execution_count": 1105,
   "metadata": {},
   "outputs": [
    {
     "name": "stdout",
     "output_type": "stream",
     "text": [
      "결측값 개수: 0\n"
     ]
    }
   ],
   "source": [
    "print(\"결측값 개수:\", train['난자_혼합_경과일'].isnull().sum())"
   ]
  },
  {
   "cell_type": "markdown",
   "metadata": {},
   "source": [
    "### 66. 배아_이식_경과일"
   ]
  },
  {
   "cell_type": "markdown",
   "metadata": {},
   "source": [
    "첫 시점으로부터 배아 이식까지 경과한 일수"
   ]
  },
  {
   "cell_type": "code",
   "execution_count": 1106,
   "metadata": {},
   "outputs": [
    {
     "name": "stdout",
     "output_type": "stream",
     "text": [
      "\n",
      "배아_이식_경과일별 임신_성공_여부 비율 및 갯수\n",
      "\n",
      "                 0         1      0      1  Total\n",
      "variable                                         \n",
      "0.0       0.757576  0.242424     25      8     33\n",
      "1.0       0.868421  0.131579    462     70    532\n",
      "2.0       0.789978  0.210022  25160   6689  31849\n",
      "3.0       0.742292  0.257708  42062  14603  56665\n",
      "4.0       0.650170  0.349830   1721    926   2647\n",
      "5.0       0.595316  0.404684  48348  32866  81214\n",
      "6.0       0.699782  0.300218   1923    825   2748\n",
      "7.0       0.597561  0.402439     49     33     82\n"
     ]
    }
   ],
   "source": [
    "value_counts_ratio(train, '배아_이식_경과일')"
   ]
  },
  {
   "cell_type": "code",
   "execution_count": 1107,
   "metadata": {},
   "outputs": [
    {
     "name": "stdout",
     "output_type": "stream",
     "text": [
      "결측값 개수: 26360\n",
      "결측값 개수: 0\n"
     ]
    }
   ],
   "source": [
    "print(\"결측값 개수:\", train['배아_이식_경과일'].isnull().sum())\n",
    "\n",
    "train['배아_이식_경과일'].fillna(-1, inplace=True)\n",
    "test['배아_이식_경과일'].fillna(-1, inplace=True)\n",
    "\n",
    "print(\"결측값 개수:\", train['배아_이식_경과일'].isnull().sum())"
   ]
  },
  {
   "cell_type": "code",
   "execution_count": 1108,
   "metadata": {},
   "outputs": [
    {
     "name": "stdout",
     "output_type": "stream",
     "text": [
      "\n",
      "배아_이식_경과일별 임신_성공_여부 비율 및 갯수\n",
      "\n",
      "                 0         1      0      1  Total\n",
      "variable                                         \n",
      "-1.0      0.998027  0.001973  26308     52  26360\n",
      " 0.0      0.757576  0.242424     25      8     33\n",
      " 1.0      0.868421  0.131579    462     70    532\n",
      " 2.0      0.789978  0.210022  25160   6689  31849\n",
      " 3.0      0.742292  0.257708  42062  14603  56665\n",
      " 4.0      0.650170  0.349830   1721    926   2647\n",
      " 5.0      0.595316  0.404684  48348  32866  81214\n",
      " 6.0      0.699782  0.300218   1923    825   2748\n",
      " 7.0      0.597561  0.402439     49     33     82\n"
     ]
    }
   ],
   "source": [
    "value_counts_ratio(train, '배아_이식_경과일')"
   ]
  },
  {
   "cell_type": "markdown",
   "metadata": {},
   "source": [
    "### 67. 배아_해동_경과일"
   ]
  },
  {
   "cell_type": "markdown",
   "metadata": {},
   "source": [
    "첫 시점으로부터 배아 해동까지 경과한 일수"
   ]
  },
  {
   "cell_type": "code",
   "execution_count": 1109,
   "metadata": {},
   "outputs": [
    {
     "name": "stdout",
     "output_type": "stream",
     "text": [
      "\n",
      "배아_해동_경과일별 임신_성공_여부 비율 및 갯수\n",
      "\n",
      "                 0         1      0     1  Total\n",
      "variable                                        \n",
      "0.0       0.777778  0.222222    7.0   2.0      9\n",
      "1.0       0.823529  0.176471   28.0   6.0     34\n",
      "2.0       0.835227  0.164773  147.0  29.0    176\n",
      "3.0       0.887500  0.112500  142.0  18.0    160\n",
      "4.0       1.000000  0.000000   11.0   0.0     11\n",
      "5.0       0.791045  0.208955  106.0  28.0    134\n",
      "6.0       0.821429  0.178571   23.0   5.0     28\n"
     ]
    }
   ],
   "source": [
    "value_counts_ratio(train, '배아_해동_경과일')"
   ]
  },
  {
   "cell_type": "code",
   "execution_count": 1110,
   "metadata": {},
   "outputs": [
    {
     "name": "stdout",
     "output_type": "stream",
     "text": [
      "결측값 개수: 201578\n",
      "결측값 개수: 0\n"
     ]
    }
   ],
   "source": [
    "print(\"결측값 개수:\", train['배아_해동_경과일'].isnull().sum())\n",
    "\n",
    "train['배아_해동_경과일'].fillna(-1, inplace=True)\n",
    "test['배아_해동_경과일'].fillna(-1, inplace=True)\n",
    "\n",
    "print(\"결측값 개수:\", train['배아_해동_경과일'].isnull().sum())"
   ]
  },
  {
   "cell_type": "code",
   "execution_count": 1111,
   "metadata": {},
   "outputs": [
    {
     "name": "stdout",
     "output_type": "stream",
     "text": [
      "\n",
      "배아_해동_경과일별 임신_성공_여부 비율 및 갯수\n",
      "\n",
      "                 0         1         0        1   Total\n",
      "variable                                               \n",
      "-1.0      0.722271  0.277729  145594.0  55984.0  201578\n",
      " 0.0      0.777778  0.222222       7.0      2.0       9\n",
      " 1.0      0.823529  0.176471      28.0      6.0      34\n",
      " 2.0      0.835227  0.164773     147.0     29.0     176\n",
      " 3.0      0.887500  0.112500     142.0     18.0     160\n",
      " 4.0      1.000000  0.000000      11.0      0.0      11\n",
      " 5.0      0.791045  0.208955     106.0     28.0     134\n",
      " 6.0      0.821429  0.178571      23.0      5.0      28\n"
     ]
    }
   ],
   "source": [
    "value_counts_ratio(train, '배아_해동_경과일')"
   ]
  },
  {
   "cell_type": "markdown",
   "metadata": {},
   "source": [
    "### 68. 임신_성공_여부"
   ]
  },
  {
   "cell_type": "markdown",
   "metadata": {},
   "source": [
    "해당 시술로부터 임신 성공 여부"
   ]
  },
  {
   "cell_type": "code",
   "execution_count": 1112,
   "metadata": {},
   "outputs": [
    {
     "data": {
      "text/plain": [
       "임신_성공_여부\n",
       "0    146058\n",
       "1     56072\n",
       "Name: count, dtype: int64"
      ]
     },
     "execution_count": 1112,
     "metadata": {},
     "output_type": "execute_result"
    }
   ],
   "source": [
    "train['임신_성공_여부'].value_counts()"
   ]
  },
  {
   "cell_type": "markdown",
   "metadata": {},
   "source": [
    "## 변수 상테 확인"
   ]
  },
  {
   "cell_type": "code",
   "execution_count": 1113,
   "metadata": {},
   "outputs": [
    {
     "name": "stdout",
     "output_type": "stream",
     "text": [
      "<class 'pandas.core.frame.DataFrame'>\n",
      "Index: 202130 entries, 0 to 256349\n",
      "Data columns (total 63 columns):\n",
      " #   Column                  Non-Null Count   Dtype  \n",
      "---  ------                  --------------   -----  \n",
      " 0   ID                      202130 non-null  object \n",
      " 1   시술_당시_나이                202130 non-null  float64\n",
      " 2   임신_시도_또는_마지막_임신_경과_연수   202130 non-null  float64\n",
      " 3   배란_자극_여부                202130 non-null  int64  \n",
      " 4   단일_배아_이식_여부             202130 non-null  float64\n",
      " 5   착상_전_유전_검사_사용_여부        202130 non-null  float64\n",
      " 6   착상_전_유전_진단_사용_여부        202130 non-null  float64\n",
      " 7   남성_주_불임_원인              202130 non-null  int64  \n",
      " 8   남성_부_불임_원인              202130 non-null  int64  \n",
      " 9   여성_주_불임_원인              202130 non-null  int64  \n",
      " 10  여성_부_불임_원인              202130 non-null  int64  \n",
      " 11  부부_주_불임_원인              202130 non-null  int64  \n",
      " 12  부부_부_불임_원인              202130 non-null  int64  \n",
      " 13  불명확_불임_원인               202130 non-null  int64  \n",
      " 14  불임_원인_-_난관_질환           202130 non-null  int64  \n",
      " 15  불임_원인_-_남성_요인           202130 non-null  int64  \n",
      " 16  불임_원인_-_배란_장애           202130 non-null  int64  \n",
      " 17  불임_원인_-_자궁내막증           202130 non-null  int64  \n",
      " 18  불임_원인_-_정자_농도           202130 non-null  int64  \n",
      " 19  불임_원인_-_정자_운동성          202130 non-null  int64  \n",
      " 20  불임_원인_-_정자_형태           202130 non-null  int64  \n",
      " 21  클리닉_내_총_시술_횟수           202130 non-null  int64  \n",
      " 22  IVF_시술_횟수               202130 non-null  int64  \n",
      " 23  IVF_임신_횟수               202130 non-null  int64  \n",
      " 24  IVF_출산_횟수               202130 non-null  int64  \n",
      " 25  총_생성_배아_수               202130 non-null  float64\n",
      " 26  미세주입된_난자_수              202130 non-null  float64\n",
      " 27  미세주입에서_생성된_배아_수         202130 non-null  float64\n",
      " 28  이식된_배아_수                202130 non-null  float64\n",
      " 29  미세주입_배아_이식_수            202130 non-null  float64\n",
      " 30  저장된_배아_수                202130 non-null  float64\n",
      " 31  미세주입_후_저장된_배아_수         202130 non-null  float64\n",
      " 32  해동된_배아_수                202130 non-null  float64\n",
      " 33  해동_난자_수                 202130 non-null  float64\n",
      " 34  수집된_신선_난자_수             202130 non-null  float64\n",
      " 35  저장된_신선_난자_수             202130 non-null  float64\n",
      " 36  혼합된_난자_수                202130 non-null  float64\n",
      " 37  파트너_정자와_혼합된_난자_수        202130 non-null  float64\n",
      " 38  기증자_정자와_혼합된_난자_수        202130 non-null  float64\n",
      " 39  난자_출처                   202130 non-null  object \n",
      " 40  정자_출처                   202130 non-null  object \n",
      " 41  난자_기증자_나이               202130 non-null  object \n",
      " 42  정자_기증자_나이               202130 non-null  object \n",
      " 43  동결_배아_사용_여부             202130 non-null  float64\n",
      " 44  신선_배아_사용_여부             202130 non-null  float64\n",
      " 45  기증_배아_사용_여부             202130 non-null  float64\n",
      " 46  대리모_여부                  202130 non-null  float64\n",
      " 47  PGD_시술_여부               202130 non-null  float64\n",
      " 48  PGS_시술_여부               202130 non-null  float64\n",
      " 49  난자_채취_경과일               202130 non-null  float64\n",
      " 50  난자_해동_경과일               202130 non-null  float64\n",
      " 51  난자_혼합_경과일               202130 non-null  float64\n",
      " 52  배아_이식_경과일               202130 non-null  float64\n",
      " 53  배아_해동_경과일               202130 non-null  float64\n",
      " 54  임신_성공_여부                202130 non-null  int64  \n",
      " 55  특정_시술_유형_ICSI_더미        202130 non-null  int64  \n",
      " 56  특정_시술_유형_IVF_더미         202130 non-null  int64  \n",
      " 57  특정_시술_유형_AH_더미          202130 non-null  int64  \n",
      " 58  특정_시술_유형_BLASTOCYST_더미  202130 non-null  int64  \n",
      " 59  배아_생성_주요_이유_현재시술용       202130 non-null  int32  \n",
      " 60  배아_생성_주요_이유_기증용         202130 non-null  int32  \n",
      " 61  배아_생성_주요_이유_배아저장용       202130 non-null  int32  \n",
      " 62  IVF_임신_시술_비율            202130 non-null  float64\n",
      "dtypes: float64(31), int32(3), int64(24), object(5)\n",
      "memory usage: 96.4+ MB\n"
     ]
    }
   ],
   "source": [
    "train.info()"
   ]
  },
  {
   "cell_type": "code",
   "execution_count": 1114,
   "metadata": {},
   "outputs": [
    {
     "name": "stdout",
     "output_type": "stream",
     "text": [
      "<class 'pandas.core.frame.DataFrame'>\n",
      "Index: 87891 entries, 0 to 90066\n",
      "Data columns (total 62 columns):\n",
      " #   Column                  Non-Null Count  Dtype  \n",
      "---  ------                  --------------  -----  \n",
      " 0   ID                      87891 non-null  object \n",
      " 1   시술_당시_나이                87775 non-null  float64\n",
      " 2   임신_시도_또는_마지막_임신_경과_연수   87891 non-null  float64\n",
      " 3   배란_자극_여부                87891 non-null  int64  \n",
      " 4   단일_배아_이식_여부             87891 non-null  float64\n",
      " 5   착상_전_유전_검사_사용_여부        87891 non-null  float64\n",
      " 6   착상_전_유전_진단_사용_여부        87891 non-null  float64\n",
      " 7   남성_주_불임_원인              87891 non-null  int64  \n",
      " 8   남성_부_불임_원인              87891 non-null  int64  \n",
      " 9   여성_주_불임_원인              87891 non-null  int64  \n",
      " 10  여성_부_불임_원인              87891 non-null  int64  \n",
      " 11  부부_주_불임_원인              87891 non-null  int64  \n",
      " 12  부부_부_불임_원인              87891 non-null  int64  \n",
      " 13  불명확_불임_원인               87891 non-null  int64  \n",
      " 14  불임_원인_-_난관_질환           87891 non-null  int64  \n",
      " 15  불임_원인_-_남성_요인           87891 non-null  int64  \n",
      " 16  불임_원인_-_배란_장애           87891 non-null  int64  \n",
      " 17  불임_원인_-_자궁내막증           87891 non-null  int64  \n",
      " 18  불임_원인_-_정자_농도           87891 non-null  int64  \n",
      " 19  불임_원인_-_정자_운동성          87891 non-null  int64  \n",
      " 20  불임_원인_-_정자_형태           87891 non-null  int64  \n",
      " 21  클리닉_내_총_시술_횟수           87891 non-null  int64  \n",
      " 22  IVF_시술_횟수               87891 non-null  int64  \n",
      " 23  IVF_임신_횟수               87891 non-null  int64  \n",
      " 24  IVF_출산_횟수               87891 non-null  int64  \n",
      " 25  총_생성_배아_수               87891 non-null  float64\n",
      " 26  미세주입된_난자_수              87891 non-null  float64\n",
      " 27  미세주입에서_생성된_배아_수         87891 non-null  float64\n",
      " 28  이식된_배아_수                87891 non-null  float64\n",
      " 29  미세주입_배아_이식_수            87891 non-null  float64\n",
      " 30  저장된_배아_수                87891 non-null  float64\n",
      " 31  미세주입_후_저장된_배아_수         87891 non-null  float64\n",
      " 32  해동된_배아_수                87891 non-null  float64\n",
      " 33  해동_난자_수                 87891 non-null  float64\n",
      " 34  수집된_신선_난자_수             87891 non-null  float64\n",
      " 35  저장된_신선_난자_수             87891 non-null  float64\n",
      " 36  혼합된_난자_수                87891 non-null  float64\n",
      " 37  파트너_정자와_혼합된_난자_수        87891 non-null  float64\n",
      " 38  기증자_정자와_혼합된_난자_수        87891 non-null  float64\n",
      " 39  난자_출처                   87891 non-null  object \n",
      " 40  정자_출처                   87891 non-null  object \n",
      " 41  난자_기증자_나이               87891 non-null  object \n",
      " 42  정자_기증자_나이               87891 non-null  object \n",
      " 43  동결_배아_사용_여부             87891 non-null  float64\n",
      " 44  신선_배아_사용_여부             87891 non-null  float64\n",
      " 45  기증_배아_사용_여부             87891 non-null  float64\n",
      " 46  대리모_여부                  87891 non-null  float64\n",
      " 47  PGD_시술_여부               87891 non-null  float64\n",
      " 48  PGS_시술_여부               87891 non-null  float64\n",
      " 49  난자_채취_경과일               87891 non-null  float64\n",
      " 50  난자_해동_경과일               87891 non-null  float64\n",
      " 51  난자_혼합_경과일               71488 non-null  float64\n",
      " 52  배아_이식_경과일               87891 non-null  float64\n",
      " 53  배아_해동_경과일               87891 non-null  float64\n",
      " 54  특정_시술_유형_ICSI_더미        87891 non-null  int64  \n",
      " 55  특정_시술_유형_IVF_더미         87891 non-null  int64  \n",
      " 56  특정_시술_유형_AH_더미          87891 non-null  int64  \n",
      " 57  특정_시술_유형_BLASTOCYST_더미  87891 non-null  int64  \n",
      " 58  배아_생성_주요_이유_현재시술용       87891 non-null  int32  \n",
      " 59  배아_생성_주요_이유_기증용         87891 non-null  int32  \n",
      " 60  배아_생성_주요_이유_배아저장용       87891 non-null  int32  \n",
      " 61  IVF_임신_시술_비율            87891 non-null  float64\n",
      "dtypes: float64(31), int32(3), int64(23), object(5)\n",
      "memory usage: 41.2+ MB\n"
     ]
    }
   ],
   "source": [
    "test.info()"
   ]
  },
  {
   "cell_type": "code",
   "execution_count": 1115,
   "metadata": {},
   "outputs": [
    {
     "name": "stdout",
     "output_type": "stream",
     "text": [
      "<class 'pandas.core.frame.DataFrame'>\n",
      "Index: 3522 entries, 552 to 230895\n",
      "Data columns (total 67 columns):\n",
      " #   Column                 Non-Null Count  Dtype  \n",
      "---  ------                 --------------  -----  \n",
      " 0   ID                     3522 non-null   object \n",
      " 1   시술_시기_코드               3522 non-null   object \n",
      " 2   시술_당시_나이               3522 non-null   object \n",
      " 3   임신_시도_또는_마지막_임신_경과_연수  58 non-null     float64\n",
      " 4   특정_시술_유형               3522 non-null   object \n",
      " 5   배란_자극_여부               3522 non-null   int64  \n",
      " 6   배란_유도_유형               3522 non-null   object \n",
      " 7   단일_배아_이식_여부            3522 non-null   float64\n",
      " 8   착상_전_유전_검사_사용_여부       24 non-null     float64\n",
      " 9   착상_전_유전_진단_사용_여부       3522 non-null   float64\n",
      " 10  남성_주_불임_원인             3522 non-null   int64  \n",
      " 11  남성_부_불임_원인             3522 non-null   int64  \n",
      " 12  여성_주_불임_원인             3522 non-null   int64  \n",
      " 13  여성_부_불임_원인             3522 non-null   int64  \n",
      " 14  부부_주_불임_원인             3522 non-null   int64  \n",
      " 15  부부_부_불임_원인             3522 non-null   int64  \n",
      " 16  불명확_불임_원인              3522 non-null   int64  \n",
      " 17  불임_원인_-_난관_질환          3522 non-null   int64  \n",
      " 18  불임_원인_-_남성_요인          3522 non-null   int64  \n",
      " 19  불임_원인_-_배란_장애          3522 non-null   int64  \n",
      " 20  불임_원인_-_자궁경부_문제        3522 non-null   int64  \n",
      " 21  불임_원인_-_자궁내막증          3522 non-null   int64  \n",
      " 22  불임_원인_-_정자_농도          3522 non-null   int64  \n",
      " 23  불임_원인_-_정자_면역학적_요인     3522 non-null   int64  \n",
      " 24  불임_원인_-_정자_운동성         3522 non-null   int64  \n",
      " 25  불임_원인_-_정자_형태          3522 non-null   int64  \n",
      " 26  배아_생성_주요_이유            3522 non-null   object \n",
      " 27  총_시술_횟수                3522 non-null   object \n",
      " 28  클리닉_내_총_시술_횟수          3522 non-null   object \n",
      " 29  IVF_시술_횟수              3522 non-null   object \n",
      " 30  DI_시술_횟수               3522 non-null   object \n",
      " 31  총_임신_횟수                3522 non-null   object \n",
      " 32  IVF_임신_횟수              3522 non-null   object \n",
      " 33  DI_임신_횟수               3522 non-null   object \n",
      " 34  총_출산_횟수                3522 non-null   object \n",
      " 35  IVF_출산_횟수              3522 non-null   object \n",
      " 36  DI_출산_횟수               3522 non-null   object \n",
      " 37  총_생성_배아_수              3522 non-null   float64\n",
      " 38  미세주입된_난자_수             3522 non-null   float64\n",
      " 39  미세주입에서_생성된_배아_수        3522 non-null   float64\n",
      " 40  이식된_배아_수               3522 non-null   float64\n",
      " 41  미세주입_배아_이식_수           3522 non-null   float64\n",
      " 42  저장된_배아_수               3522 non-null   float64\n",
      " 43  미세주입_후_저장된_배아_수        3522 non-null   float64\n",
      " 44  해동된_배아_수               3522 non-null   float64\n",
      " 45  해동_난자_수                3522 non-null   float64\n",
      " 46  수집된_신선_난자_수            3522 non-null   float64\n",
      " 47  저장된_신선_난자_수            3522 non-null   float64\n",
      " 48  혼합된_난자_수               3522 non-null   float64\n",
      " 49  파트너_정자와_혼합된_난자_수       3522 non-null   float64\n",
      " 50  기증자_정자와_혼합된_난자_수       3522 non-null   float64\n",
      " 51  난자_출처                  3522 non-null   object \n",
      " 52  정자_출처                  3522 non-null   object \n",
      " 53  난자_기증자_나이              3522 non-null   object \n",
      " 54  정자_기증자_나이              3522 non-null   object \n",
      " 55  동결_배아_사용_여부            3522 non-null   float64\n",
      " 56  신선_배아_사용_여부            3522 non-null   float64\n",
      " 57  기증_배아_사용_여부            3522 non-null   float64\n",
      " 58  대리모_여부                 3522 non-null   float64\n",
      " 59  PGD_시술_여부              0 non-null      float64\n",
      " 60  PGS_시술_여부              3 non-null      float64\n",
      " 61  난자_채취_경과일              3480 non-null   float64\n",
      " 62  난자_해동_경과일              17 non-null     float64\n",
      " 63  난자_혼합_경과일              481 non-null    float64\n",
      " 64  배아_이식_경과일              44 non-null     float64\n",
      " 65  배아_해동_경과일              27 non-null     float64\n",
      " 66  임신_성공_여부               3522 non-null   int64  \n",
      "dtypes: float64(29), int64(18), object(20)\n",
      "memory usage: 1.8+ MB\n"
     ]
    }
   ],
   "source": [
    "train_sub.info()"
   ]
  },
  {
   "cell_type": "markdown",
   "metadata": {},
   "source": [
    "## 데이터 저장"
   ]
  },
  {
   "cell_type": "code",
   "execution_count": 1116,
   "metadata": {},
   "outputs": [
    {
     "data": {
      "text/plain": [
       "3522"
      ]
     },
     "execution_count": 1116,
     "metadata": {},
     "output_type": "execute_result"
    }
   ],
   "source": [
    "len(train_sub)"
   ]
  },
  {
   "cell_type": "code",
   "execution_count": 1117,
   "metadata": {},
   "outputs": [
    {
     "name": "stdout",
     "output_type": "stream",
     "text": [
      "임신_성공_여부 값 개수:\n",
      "임신_성공_여부\n",
      "0    3522\n",
      "Name: count, dtype: int64\n",
      "\n",
      "임신_성공_여부 값 비율 (%):\n",
      "임신_성공_여부\n",
      "0    100.0\n",
      "Name: count, dtype: float64\n"
     ]
    }
   ],
   "source": [
    "# '임신_성공_여부' 변수의 값 개수 계산\n",
    "value_counts = train_sub['임신_성공_여부'].value_counts()\n",
    "\n",
    "# 각 값이 전체에서 차지하는 비율 계산\n",
    "value_percentages = value_counts / len(train_sub) * 100\n",
    "\n",
    "# 결과 출력\n",
    "print(\"임신_성공_여부 값 개수:\")\n",
    "print(value_counts)\n",
    "print(\"\\n임신_성공_여부 값 비율 (%):\")\n",
    "print(value_percentages)"
   ]
  },
  {
   "cell_type": "code",
   "execution_count": 1118,
   "metadata": {},
   "outputs": [],
   "source": [
    "# CSV 파일 저장\n",
    "train.to_csv('../data/IVF_train_dataset_50.csv', index=False, encoding='utf-8-sig')\n",
    "test.to_csv('../data/IVF_test_dataset_50.csv', index=False, encoding='utf-8-sig')\n",
    "train_sub.to_csv('../data/IVF_train_sub_dataset_50.csv', index=False, encoding='utf-8-sig')"
   ]
  },
  {
   "cell_type": "markdown",
   "metadata": {},
   "source": [
    "."
   ]
  }
 ],
 "metadata": {
  "kernelspec": {
   "display_name": "Python 3",
   "language": "python",
   "name": "python3"
  },
  "language_info": {
   "codemirror_mode": {
    "name": "ipython",
    "version": 3
   },
   "file_extension": ".py",
   "mimetype": "text/x-python",
   "name": "python",
   "nbconvert_exporter": "python",
   "pygments_lexer": "ipython3",
   "version": "3.11.8"
  }
 },
 "nbformat": 4,
 "nbformat_minor": 2
}
