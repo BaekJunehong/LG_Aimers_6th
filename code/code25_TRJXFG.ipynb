{
 "cells": [
  {
   "cell_type": "markdown",
   "metadata": {},
   "source": [
    "## 난임 환자 대상 임신 성공 여부 예측"
   ]
  },
  {
   "cell_type": "markdown",
   "metadata": {},
   "source": [
    "### LGAimers 6th 온라인 해커톤"
   ]
  },
  {
   "cell_type": "markdown",
   "metadata": {},
   "source": [
    "Import"
   ]
  },
  {
   "cell_type": "code",
   "execution_count": 1,
   "metadata": {},
   "outputs": [],
   "source": [
    "import numpy as np\n",
    "import pandas as pd\n",
    "import seaborn as sns\n",
    "import matplotlib.pyplot as plt\n",
    "\n",
    "import os\n",
    "from pprint import pprint"
   ]
  },
  {
   "cell_type": "code",
   "execution_count": 2,
   "metadata": {},
   "outputs": [],
   "source": [
    "import platform\n",
    "from matplotlib import rc\n",
    "\n",
    "# 운영 체제에 따라 폰트 설정\n",
    "if platform.system() == 'Windows':  # Windows 환경\n",
    "    rc('font', family='Malgun Gothic')  # 맑은 고딕\n",
    "\n",
    "# 음수 표시 가능하도록 설정\n",
    "plt.rcParams['axes.unicode_minus'] = False"
   ]
  },
  {
   "cell_type": "markdown",
   "metadata": {},
   "source": [
    "반복적으로 쓰는 함수툴"
   ]
  },
  {
   "cell_type": "code",
   "execution_count": 3,
   "metadata": {},
   "outputs": [],
   "source": [
    "def plot_box(df, col_name):\n",
    "    \"\"\"\n",
    "    주어진 데이터프레임과 열 이름에 대해 박스 플롯을 그리는 함수.\n",
    "\n",
    "    Parameters:\n",
    "    df (pd.DataFrame): 데이터프레임\n",
    "    col_name (str): 열 이름\n",
    "    \"\"\"\n",
    "    plt.figure(figsize=(7, 4))\n",
    "    plt.boxplot(df[col_name], vert=False)\n",
    "    plt.xlabel(col_name)\n",
    "    plt.title(f'Box Plot of {col_name}')\n",
    "    plt.show()\n",
    "\n",
    "def value_counts_ratio(df, col_name, target_name='임신_성공_여부'):\n",
    "    \"\"\"\n",
    "    주어진 데이터프레임의 특정 열에 대해 각 값마다 타겟 변수의 비율과 갯수, 총 갯수를 출력하는 함수.\n",
    "\n",
    "    Parameters:\n",
    "    df (pd.DataFrame): 데이터프레임\n",
    "    col_name (str): 열 이름\n",
    "    target_name (str): 타겟 변수 이름\n",
    "    \"\"\"\n",
    "    # 각 값마다 타겟 변수의 비율 계산\n",
    "    value_counts = df.groupby(col_name)[target_name].value_counts(normalize=True).unstack().fillna(0)\n",
    "    \n",
    "    # 각 값마다 타겟 변수의 갯수 계산\n",
    "    counts = df.groupby(col_name)[target_name].value_counts().unstack().fillna(0)\n",
    "    \n",
    "    # 각 값마다 총 갯수 계산\n",
    "    total_counts = df[col_name].value_counts().rename('Total_Count')\n",
    "    \n",
    "    # 비율과 갯수를 합침\n",
    "    result = value_counts.join(counts, lsuffix='_ratio', rsuffix='_count')\n",
    "    \n",
    "    # 총 갯수를 합침\n",
    "    result = result.join(total_counts, on=col_name)\n",
    "    \n",
    "    # 출력 형식 조정\n",
    "    result.index.name = 'variable'\n",
    "    print(f\"\\n{col_name}별 {target_name} 비율 및 갯수\\n\")\n",
    "    print(result.rename(columns=lambda x: x.split('_')[0]))\n",
    "\n",
    "def summarize_group(df, group_by_columns):\n",
    "    \"\"\"\n",
    "    주어진 데이터프레임을 특정 열들로 그룹화하여 각 그룹의 '임신_성공_여부' 비율과 갯수를 요약하는 함수.\n",
    "\n",
    "    Parameters:\n",
    "    df (pd.DataFrame): 데이터프레임\n",
    "    group_by_columns (list): 그룹화할 열 이름들의 리스트\n",
    "    \"\"\"\n",
    "    # 데이터프레임을 그룹화\n",
    "    grouped_df = df.groupby(group_by_columns)\n",
    "    \n",
    "    # 결과를 저장할 리스트 초기화\n",
    "    results = []\n",
    "    \n",
    "    # 그룹화된 데이터프레임의 내용을 확인하는 코드\n",
    "    for name, group in grouped_df:\n",
    "        # 그룹의 갯수 계산\n",
    "        group_count = group.shape[0]\n",
    "        \n",
    "        # '임신_성공_여부' 변수의 '임신 성공' 비율과 갯수 계산\n",
    "        success_count = group['임신_성공_여부'].value_counts().get(1, 0)\n",
    "        success_ratio = success_count / group_count\n",
    "        \n",
    "        # 결과 리스트에 추가\n",
    "        results.append([name, success_count, success_ratio, group_count])\n",
    "    \n",
    "    # 결과 리스트를 데이터프레임으로 변환\n",
    "    results_df = pd.DataFrame(results, columns=['group', \"'임신_성공_여부' count\", 'ratio', 'Total'])\n",
    "    \n",
    "    # 그룹화된 변수들의 이름을 제목행으로 출력\n",
    "    print(f\"Grouped by: {', '.join(group_by_columns)}\")\n",
    "    print()\n",
    "    # 데이터프레임 출력\n",
    "    print(results_df)\n",
    "\n",
    "def plot_ratio(df, group_by_column, target_column='임신_성공_여부', success_value=1):\n",
    "    \"\"\"\n",
    "    주어진 데이터프레임을 특정 열로 그룹화하여 각 그룹의 타겟 변수의 성공 비율을 시각화하는 함수.\n",
    "\n",
    "    Parameters:\n",
    "    df (pd.DataFrame): 데이터프레임\n",
    "    group_by_column (str): 그룹화할 열 이름\n",
    "    target_column (str): 타겟 변수 이름\n",
    "    success_value (int): 타겟 변수의 성공을 나타내는 값\n",
    "    \"\"\"\n",
    "    # 데이터프레임을 그룹화\n",
    "    grouped_df = df.groupby(group_by_column)\n",
    "    \n",
    "    # 결과를 저장할 리스트 초기화\n",
    "    results = []\n",
    "    \n",
    "    # 그룹화된 데이터프레임의 내용을 확인하는 코드\n",
    "    for name, group in grouped_df:\n",
    "        # 그룹의 갯수 계산\n",
    "        group_count = group.shape[0]\n",
    "        \n",
    "        # '임신_성공_여부' 변수의 '성공' 비율과 갯수 계산\n",
    "        success_count = group[target_column].value_counts().get(success_value, 0)\n",
    "        success_ratio = success_count / group_count\n",
    "        \n",
    "        # 결과 리스트에 추가\n",
    "        results.append([name, success_count, success_ratio, group_count])\n",
    "    \n",
    "    # 결과 리스트를 데이터프레임으로 변환\n",
    "    results_df = pd.DataFrame(results, columns=['group', f\"'{success_value}' count\", 'ratio', 'Total'])\n",
    "    \n",
    "    # 그래프 크기 설정\n",
    "    plt.figure(figsize=(10, 5))\n",
    "    \n",
    "    # 막대 그래프 생성\n",
    "    ax = results_df.plot(kind='bar', x='group', y='ratio', legend=False)\n",
    "    \n",
    "    # 각 막대 위에 임신 성공 여부 갯수와 총 갯수 표시\n",
    "    for i, (success_count, total) in enumerate(zip(results_df[f\"'{success_value}' count\"], results_df['Total'])):\n",
    "        ax.text(i, results_df['ratio'][i], f'{success_count} ({total})', ha='center', va='bottom', fontsize=8)\n",
    "    \n",
    "    # 그래프 제목 및 축 레이블 설정\n",
    "    ax.set_title(f'{success_value} Ratio by {group_by_column}')\n",
    "    ax.set_xlabel(group_by_column)\n",
    "    ax.set_ylabel(f'{success_value} Ratio')\n",
    "   \n",
    "    # 그래프 출력\n",
    "    plt.show()\n",
    "\n",
    "def plot_ratio_boxplot(data, column_name, target_column='임신_성공_여부'):\n",
    "    \"\"\"\n",
    "    주어진 데이터프레임의 특정 열과 타겟 변수 간의 관계를 박스 플롯으로 시각화하는 함수.\n",
    "\n",
    "    Parameters:\n",
    "    data (pd.DataFrame): 데이터프레임\n",
    "    column_name (str): 열 이름\n",
    "    target_column (str): 타겟 변수 이름\n",
    "    \"\"\"\n",
    "\n",
    "    # 그래프 그리기\n",
    "    plt.figure(figsize=(10, 6))\n",
    "    sns.boxplot(x=column_name, y=target_column, data=data)\n",
    "\n",
    "    # 그래프 제목 및 레이블 설정\n",
    "    plt.title(f'{column_name} vs {target_column}')\n",
    "    plt.xlabel(column_name)\n",
    "    plt.ylabel(target_column)\n",
    "\n",
    "    # 그래프 출력\n",
    "    plt.show()"
   ]
  },
  {
   "cell_type": "markdown",
   "metadata": {},
   "source": [
    "### Data Load"
   ]
  },
  {
   "cell_type": "code",
   "execution_count": 4,
   "metadata": {},
   "outputs": [
    {
     "name": "stdout",
     "output_type": "stream",
     "text": [
      "Index(['ID', '시술_시기_코드', '시술_당시_나이', '임신_시도_또는_마지막_임신_경과_연수', '시술_유형',\n",
      "       '특정_시술_유형', '배란_자극_여부', '배란_유도_유형', '단일_배아_이식_여부', '착상_전_유전_검사_사용_여부',\n",
      "       '착상_전_유전_진단_사용_여부', '남성_주_불임_원인', '남성_부_불임_원인', '여성_주_불임_원인',\n",
      "       '여성_부_불임_원인', '부부_주_불임_원인', '부부_부_불임_원인', '불명확_불임_원인', '불임_원인_-_난관_질환',\n",
      "       '불임_원인_-_남성_요인', '불임_원인_-_배란_장애', '불임_원인_-_여성_요인', '불임_원인_-_자궁경부_문제',\n",
      "       '불임_원인_-_자궁내막증', '불임_원인_-_정자_농도', '불임_원인_-_정자_면역학적_요인',\n",
      "       '불임_원인_-_정자_운동성', '불임_원인_-_정자_형태', '배아_생성_주요_이유', '총_시술_횟수',\n",
      "       '클리닉_내_총_시술_횟수', 'IVF_시술_횟수', 'DI_시술_횟수', '총_임신_횟수', 'IVF_임신_횟수',\n",
      "       'DI_임신_횟수', '총_출산_횟수', 'IVF_출산_횟수', 'DI_출산_횟수', '총_생성_배아_수',\n",
      "       '미세주입된_난자_수', '미세주입에서_생성된_배아_수', '이식된_배아_수', '미세주입_배아_이식_수', '저장된_배아_수',\n",
      "       '미세주입_후_저장된_배아_수', '해동된_배아_수', '해동_난자_수', '수집된_신선_난자_수', '저장된_신선_난자_수',\n",
      "       '혼합된_난자_수', '파트너_정자와_혼합된_난자_수', '기증자_정자와_혼합된_난자_수', '난자_출처', '정자_출처',\n",
      "       '난자_기증자_나이', '정자_기증자_나이', '동결_배아_사용_여부', '신선_배아_사용_여부', '기증_배아_사용_여부',\n",
      "       '대리모_여부', 'PGD_시술_여부', 'PGS_시술_여부', '난자_채취_경과일', '난자_해동_경과일',\n",
      "       '난자_혼합_경과일', '배아_이식_경과일', '배아_해동_경과일', '임신_성공_여부'],\n",
      "      dtype='object')\n"
     ]
    }
   ],
   "source": [
    "# 데이터 로드\n",
    "train = pd.read_csv('../data/train.csv')\n",
    "test = pd.read_csv('../data/test.csv')\n",
    "\n",
    "# 변수명에서 공백을 밑줄로 대체\n",
    "train.columns = train.columns.str.replace(' ', '_')\n",
    "test.columns = test.columns.str.replace(' ', '_')\n",
    "\n",
    "# 변경된 변수명 확인\n",
    "print(train.columns)"
   ]
  },
  {
   "cell_type": "code",
   "execution_count": 5,
   "metadata": {},
   "outputs": [
    {
     "name": "stdout",
     "output_type": "stream",
     "text": [
      "<class 'pandas.core.frame.DataFrame'>\n",
      "RangeIndex: 256351 entries, 0 to 256350\n",
      "Data columns (total 69 columns):\n",
      " #   Column                 Non-Null Count   Dtype  \n",
      "---  ------                 --------------   -----  \n",
      " 0   ID                     256351 non-null  object \n",
      " 1   시술_시기_코드               256351 non-null  object \n",
      " 2   시술_당시_나이               256351 non-null  object \n",
      " 3   임신_시도_또는_마지막_임신_경과_연수  9370 non-null    float64\n",
      " 4   시술_유형                  256351 non-null  object \n",
      " 5   특정_시술_유형               256349 non-null  object \n",
      " 6   배란_자극_여부               256351 non-null  int64  \n",
      " 7   배란_유도_유형               256351 non-null  object \n",
      " 8   단일_배아_이식_여부            250060 non-null  float64\n",
      " 9   착상_전_유전_검사_사용_여부       2718 non-null    float64\n",
      " 10  착상_전_유전_진단_사용_여부       250060 non-null  float64\n",
      " 11  남성_주_불임_원인             256351 non-null  int64  \n",
      " 12  남성_부_불임_원인             256351 non-null  int64  \n",
      " 13  여성_주_불임_원인             256351 non-null  int64  \n",
      " 14  여성_부_불임_원인             256351 non-null  int64  \n",
      " 15  부부_주_불임_원인             256351 non-null  int64  \n",
      " 16  부부_부_불임_원인             256351 non-null  int64  \n",
      " 17  불명확_불임_원인              256351 non-null  int64  \n",
      " 18  불임_원인_-_난관_질환          256351 non-null  int64  \n",
      " 19  불임_원인_-_남성_요인          256351 non-null  int64  \n",
      " 20  불임_원인_-_배란_장애          256351 non-null  int64  \n",
      " 21  불임_원인_-_여성_요인          256351 non-null  int64  \n",
      " 22  불임_원인_-_자궁경부_문제        256351 non-null  int64  \n",
      " 23  불임_원인_-_자궁내막증          256351 non-null  int64  \n",
      " 24  불임_원인_-_정자_농도          256351 non-null  int64  \n",
      " 25  불임_원인_-_정자_면역학적_요인     256351 non-null  int64  \n",
      " 26  불임_원인_-_정자_운동성         256351 non-null  int64  \n",
      " 27  불임_원인_-_정자_형태          256351 non-null  int64  \n",
      " 28  배아_생성_주요_이유            250060 non-null  object \n",
      " 29  총_시술_횟수                256351 non-null  object \n",
      " 30  클리닉_내_총_시술_횟수          256351 non-null  object \n",
      " 31  IVF_시술_횟수              256351 non-null  object \n",
      " 32  DI_시술_횟수               256351 non-null  object \n",
      " 33  총_임신_횟수                256351 non-null  object \n",
      " 34  IVF_임신_횟수              256351 non-null  object \n",
      " 35  DI_임신_횟수               256351 non-null  object \n",
      " 36  총_출산_횟수                256351 non-null  object \n",
      " 37  IVF_출산_횟수              256351 non-null  object \n",
      " 38  DI_출산_횟수               256351 non-null  object \n",
      " 39  총_생성_배아_수              250060 non-null  float64\n",
      " 40  미세주입된_난자_수             250060 non-null  float64\n",
      " 41  미세주입에서_생성된_배아_수        250060 non-null  float64\n",
      " 42  이식된_배아_수               250060 non-null  float64\n",
      " 43  미세주입_배아_이식_수           250060 non-null  float64\n",
      " 44  저장된_배아_수               250060 non-null  float64\n",
      " 45  미세주입_후_저장된_배아_수        250060 non-null  float64\n",
      " 46  해동된_배아_수               250060 non-null  float64\n",
      " 47  해동_난자_수                250060 non-null  float64\n",
      " 48  수집된_신선_난자_수            250060 non-null  float64\n",
      " 49  저장된_신선_난자_수            250060 non-null  float64\n",
      " 50  혼합된_난자_수               250060 non-null  float64\n",
      " 51  파트너_정자와_혼합된_난자_수       250060 non-null  float64\n",
      " 52  기증자_정자와_혼합된_난자_수       250060 non-null  float64\n",
      " 53  난자_출처                  256351 non-null  object \n",
      " 54  정자_출처                  256351 non-null  object \n",
      " 55  난자_기증자_나이              256351 non-null  object \n",
      " 56  정자_기증자_나이              256351 non-null  object \n",
      " 57  동결_배아_사용_여부            250060 non-null  float64\n",
      " 58  신선_배아_사용_여부            250060 non-null  float64\n",
      " 59  기증_배아_사용_여부            250060 non-null  float64\n",
      " 60  대리모_여부                 250060 non-null  float64\n",
      " 61  PGD_시술_여부              2179 non-null    float64\n",
      " 62  PGS_시술_여부              1929 non-null    float64\n",
      " 63  난자_채취_경과일              198863 non-null  float64\n",
      " 64  난자_해동_경과일              1436 non-null    float64\n",
      " 65  난자_혼합_경과일              202616 non-null  float64\n",
      " 66  배아_이식_경과일              212785 non-null  float64\n",
      " 67  배아_해동_경과일              40369 non-null   float64\n",
      " 68  임신_성공_여부               256351 non-null  int64  \n",
      "dtypes: float64(29), int64(19), object(21)\n",
      "memory usage: 135.0+ MB\n"
     ]
    }
   ],
   "source": [
    "train.info(verbose=True)"
   ]
  },
  {
   "cell_type": "code",
   "execution_count": 6,
   "metadata": {},
   "outputs": [
    {
     "data": {
      "image/png": "[encoded data removed]",
      "text/plain": [
       "<Figure size 640x480 with 1 Axes>"
      ]
     },
     "metadata": {},
     "output_type": "display_data"
    }
   ],
   "source": [
    "import matplotlib.pyplot as plt\n",
    "import pandas as pd\n",
    "\n",
    "# '임신_성공_여부' 변수의 값 개수 계산\n",
    "value_counts = train['임신_성공_여부'].value_counts()\n",
    "\n",
    "# 라벨 변경\n",
    "labels = {1: '1(임신 성공)', 0: '0(임신 실패)'}\n",
    "value_counts.index = value_counts.index.map(labels)\n",
    "\n",
    "# 도넛 차트 그리기\n",
    "fig, ax = plt.subplots()\n",
    "\n",
    "# 파이 차트 그리기\n",
    "wedges, texts, autotexts = ax.pie(value_counts, labels=value_counts.index, autopct='%1.1f%%', startangle=90, wedgeprops=dict(width=0.5))\n",
    "\n",
    "# 도넛 차트 가운데에 원 그리기\n",
    "centre_circle = plt.Circle((0, 0), 0.70, fc='white')\n",
    "fig.gca().add_artist(centre_circle)\n",
    "\n",
    "# 차트 제목 설정\n",
    "ax.set_title('임신 성공 여부 도넛 차트')\n",
    "\n",
    "# 차트 표시\n",
    "plt.show()"
   ]
  },
  {
   "cell_type": "markdown",
   "metadata": {},
   "source": [
    "## EDA"
   ]
  },
  {
   "cell_type": "code",
   "execution_count": 7,
   "metadata": {},
   "outputs": [],
   "source": [
    "# '시술_시기_코드' 변수의 값이 'TRJXFG'에 해당 안하는 데이터 추출\n",
    "IVF_train = train[train['시술_시기_코드'] == 'TRJXFG'] \n",
    "IVF_test = test[test['시술_시기_코드'] == 'TRJXFG']\n",
    "\n",
    "# 모든 값이 결측값인 변수를 제거\n",
    "IVF_train = IVF_train.dropna(axis=1, how='all')\n",
    "IVF_test = IVF_test.dropna(axis=1, how='all')\n",
    "\n",
    "train = IVF_train\n",
    "test = IVF_test"
   ]
  },
  {
   "cell_type": "markdown",
   "metadata": {},
   "source": [
    "### 1. 시술_시기_코드"
   ]
  },
  {
   "cell_type": "markdown",
   "metadata": {},
   "source": [
    "난임 시술을 받은 시기를 기준으로 코드 부여"
   ]
  },
  {
   "cell_type": "code",
   "execution_count": 8,
   "metadata": {},
   "outputs": [
    {
     "name": "stdout",
     "output_type": "stream",
     "text": [
      "\n",
      "시술_시기_코드별 임신_성공_여부 비율 및 갯수\n",
      "\n",
      "                 0         1      0     1  Total\n",
      "variable                                        \n",
      "TRJXFG    0.733729  0.266271  26437  9594  36031\n"
     ]
    }
   ],
   "source": [
    "value_counts_ratio(train, '시술_시기_코드')"
   ]
  },
  {
   "cell_type": "code",
   "execution_count": 9,
   "metadata": {},
   "outputs": [],
   "source": [
    "# '시술_시기_코드' 변수 제거\n",
    "train = train.drop(columns=['시술_시기_코드'])\n",
    "test = test.drop(columns=['시술_시기_코드'])"
   ]
  },
  {
   "cell_type": "markdown",
   "metadata": {},
   "source": [
    "### 2. 시술 당시 나이"
   ]
  },
  {
   "cell_type": "markdown",
   "metadata": {},
   "source": [
    "환자의 시술 당시 나이(연령대)"
   ]
  },
  {
   "cell_type": "code",
   "execution_count": 10,
   "metadata": {},
   "outputs": [
    {
     "name": "stdout",
     "output_type": "stream",
     "text": [
      "\n",
      "시술_당시_나이별 임신_성공_여부 비율 및 갯수\n",
      "\n",
      "                 0         1       0       1  Total\n",
      "variable                                           \n",
      "만18-34세   0.675224  0.324776  9969.0  4795.0  14764\n",
      "만35-37세   0.709008  0.290992  5604.0  2300.0   7904\n",
      "만38-39세   0.772436  0.227564  4226.0  1245.0   5471\n",
      "만40-42세   0.835361  0.164639  4394.0   866.0   5260\n",
      "만43-44세   0.875155  0.124845  1409.0   201.0   1610\n",
      "만45-50세   0.805613  0.194387   775.0   187.0    962\n",
      "알 수 없음    1.000000  0.000000    60.0     0.0     60\n"
     ]
    }
   ],
   "source": [
    "value_counts_ratio(train, '시술_당시_나이')"
   ]
  },
  {
   "cell_type": "code",
   "execution_count": 11,
   "metadata": {},
   "outputs": [
    {
     "data": {
      "text/plain": [
       "만18-34세    5324\n",
       "만35-37세    2791\n",
       "만38-39세    1926\n",
       "만40-42세    1813\n",
       "만43-44세     562\n",
       "만45-50세     333\n",
       "알 수 없음       15\n",
       "Name: 시술_당시_나이, dtype: int64"
      ]
     },
     "execution_count": 11,
     "metadata": {},
     "output_type": "execute_result"
    }
   ],
   "source": [
    "test['시술_당시_나이'].value_counts()"
   ]
  },
  {
   "cell_type": "markdown",
   "metadata": {},
   "source": [
    "### 3. 임신 시도 또는 마지막 임신 경과 일수"
   ]
  },
  {
   "cell_type": "markdown",
   "metadata": {},
   "source": [
    "환자가 처음 임신을 시도한 시점 또는 마지막 임신 이후 현재까지의 경과 연수 (년 단위)"
   ]
  },
  {
   "cell_type": "code",
   "execution_count": 12,
   "metadata": {},
   "outputs": [
    {
     "name": "stdout",
     "output_type": "stream",
     "text": [
      "\n",
      "임신_시도_또는_마지막_임신_경과_연수별 임신_성공_여부 비율 및 갯수\n",
      "\n",
      "                 0         1     0     1  Total\n",
      "variable                                       \n",
      "0.0       0.500000  0.500000   1.0   1.0      2\n",
      "1.0       1.000000  0.000000   2.0   0.0      2\n",
      "3.0       0.666667  0.333333   2.0   1.0      3\n",
      "4.0       0.500000  0.500000   2.0   2.0      4\n",
      "5.0       1.000000  0.000000   3.0   0.0      3\n",
      "6.0       0.882353  0.117647  15.0   2.0     17\n",
      "7.0       0.750000  0.250000  30.0  10.0     40\n",
      "8.0       0.760417  0.239583  73.0  23.0     96\n",
      "9.0       0.721649  0.278351  70.0  27.0     97\n",
      "10.0      0.656566  0.343434  65.0  34.0     99\n",
      "11.0      0.809524  0.190476  68.0  16.0     84\n",
      "12.0      0.733333  0.266667  33.0  12.0     45\n",
      "13.0      0.878788  0.121212  58.0   8.0     66\n",
      "14.0      0.800000  0.200000  32.0   8.0     40\n",
      "15.0      0.800000  0.200000  24.0   6.0     30\n",
      "16.0      0.920000  0.080000  23.0   2.0     25\n",
      "17.0      0.826087  0.173913  19.0   4.0     23\n",
      "18.0      0.750000  0.250000   9.0   3.0     12\n",
      "19.0      1.000000  0.000000   5.0   0.0      5\n",
      "20.0      0.700000  0.300000   7.0   3.0     10\n"
     ]
    }
   ],
   "source": [
    "value_counts_ratio(train, '임신_시도_또는_마지막_임신_경과_연수')"
   ]
  },
  {
   "cell_type": "code",
   "execution_count": 13,
   "metadata": {},
   "outputs": [],
   "source": [
    "# 3년 단위로 범주화\n",
    "bins = list(range(0, 24, 3))  # 0부터 20까지 3년 단위로 구간 생성\n",
    "labels = [f'{i}-{i+2}년' for i in range(0, 21, 3)]  # 범주 레이블 생성\n",
    "\n",
    "train['임신_시도_또는_마지막_임신_경과_연수'] = pd.cut(train['임신_시도_또는_마지막_임신_경과_연수'], bins=bins, labels=labels, right=False)\n",
    "test['임신_시도_또는_마지막_임신_경과_연수'] = pd.cut(test['임신_시도_또는_마지막_임신_경과_연수'], bins=bins, labels=labels, right=False)\n",
    "\n",
    "# 결측값을 'unknown'으로 채우기 위해 범주에 'unknown' 추가\n",
    "train['임신_시도_또는_마지막_임신_경과_연수'] = train['임신_시도_또는_마지막_임신_경과_연수'].cat.add_categories(['unknown'])\n",
    "test['임신_시도_또는_마지막_임신_경과_연수'] = test['임신_시도_또는_마지막_임신_경과_연수'].cat.add_categories(['unknown'])\n",
    "\n",
    "train['임신_시도_또는_마지막_임신_경과_연수'].fillna('unknown', inplace=True)\n",
    "test['임신_시도_또는_마지막_임신_경과_연수'].fillna('unknown', inplace=True)"
   ]
  },
  {
   "cell_type": "code",
   "execution_count": 14,
   "metadata": {},
   "outputs": [
    {
     "name": "stdout",
     "output_type": "stream",
     "text": [
      "\n",
      "임신_시도_또는_마지막_임신_경과_연수별 임신_성공_여부 비율 및 갯수\n",
      "\n",
      "                 0         1      0     1  Total\n",
      "variable                                        \n",
      "0-2년      0.750000  0.250000      3     1      4\n",
      "3-5년      0.700000  0.300000      7     3     10\n",
      "6-8년      0.771242  0.228758    118    35    153\n",
      "9-11년     0.725000  0.275000    203    77    280\n",
      "12-14년    0.814570  0.185430    123    28    151\n",
      "15-17년    0.846154  0.153846     66    12     78\n",
      "18-20년    0.777778  0.222222     21     6     27\n",
      "unknown   0.733016  0.266984  25896  9432  35328\n"
     ]
    }
   ],
   "source": [
    "value_counts_ratio(train, '임신_시도_또는_마지막_임신_경과_연수')"
   ]
  },
  {
   "cell_type": "markdown",
   "metadata": {},
   "source": [
    "### 4. 시술_유형"
   ]
  },
  {
   "cell_type": "markdown",
   "metadata": {},
   "source": [
    "IVF 또는 DI 시술 여부"
   ]
  },
  {
   "cell_type": "code",
   "execution_count": 15,
   "metadata": {},
   "outputs": [
    {
     "name": "stdout",
     "output_type": "stream",
     "text": [
      "\n",
      "시술_유형별 임신_성공_여부 비율 및 갯수\n",
      "\n",
      "                 0         1      0     1  Total\n",
      "variable                                        \n",
      "DI        0.886770  0.113230    744    95    839\n",
      "IVF       0.730081  0.269919  25693  9499  35192\n"
     ]
    }
   ],
   "source": [
    "value_counts_ratio(train, '시술_유형')"
   ]
  },
  {
   "cell_type": "code",
   "execution_count": 16,
   "metadata": {},
   "outputs": [
    {
     "data": {
      "text/plain": [
       "IVF    12437\n",
       "DI       327\n",
       "Name: 시술_유형, dtype: int64"
      ]
     },
     "execution_count": 16,
     "metadata": {},
     "output_type": "execute_result"
    }
   ],
   "source": [
    "test['시술_유형'].value_counts()"
   ]
  },
  {
   "cell_type": "markdown",
   "metadata": {},
   "source": [
    "### 5. 특정_시술_유형"
   ]
  },
  {
   "cell_type": "markdown",
   "metadata": {},
   "source": [
    "IVF – 체외 수정 (시험관 아기 시술)  \n",
    "ICSI – 세포질 내 정자 주입  \n",
    "IUI – 인공 수정 (자궁 내 주입)  \n",
    "ICI – 자궁경부 인공 수정  \n",
    "GIFT – 생식세포 나팔관 이식  \n",
    "FER – 냉동 배아 이식  \n",
    "Generic DI – 기증 정자 주입  \n",
    "IVI – 질 내 인공 수정   \n",
    "BLASTOCYST – 배반포 단계에 이식  \n",
    "AH – 배아를 hatching 시켜주는 과정  \n",
    "Unknown – 시술 유형 정보가 제공되지 않았거나 알 수 없음  \n",
    "\n",
    "(*) 특수 기호의 의미  \n",
    "\"/\" – 복합적인 시술 방법을 의미 (예: ICSI / BLASTOCYST)  \n",
    "\":\" – 동일 시술 내 세부 조합을 의미 (예: ICSI:IVF)  "
   ]
  },
  {
   "cell_type": "code",
   "execution_count": 17,
   "metadata": {},
   "outputs": [
    {
     "name": "stdout",
     "output_type": "stream",
     "text": [
      "Grouped by: 특정_시술_유형\n",
      "\n",
      "                 group  '임신_성공_여부' count     ratio  Total\n",
      "0           Generic DI                 2  0.285714      7\n",
      "1                  ICI                 1  0.250000      4\n",
      "2                 ICSI              4973  0.283443  17545\n",
      "3            ICSI / AH                 3  0.250000     12\n",
      "4   ICSI / BLASTOCYST                 11  0.268293     41\n",
      "5            ICSI:ICSI                 0  0.000000    194\n",
      "6             ICSI:IVF                35  0.291667    120\n",
      "7         ICSI:Unknown                 7  0.250000     28\n",
      "8                  IUI                92  0.111245    827\n",
      "9                  IVF              3579  0.267669  13371\n",
      "10            IVF / AH                 3  0.600000      5\n",
      "11    IVF / BLASTOCYST                 8  0.216216     37\n",
      "12            IVF:ICSI                14  0.254545     55\n",
      "13             IVF:IVF                 2  0.013333    150\n",
      "14         IVF:Unknown                 1  0.125000      8\n",
      "15                 IVI                 0  0.000000      1\n",
      "16             Unknown               863  0.238069   3625\n"
     ]
    }
   ],
   "source": [
    "summarize_group(train, ['특정_시술_유형'])"
   ]
  },
  {
   "cell_type": "code",
   "execution_count": 18,
   "metadata": {},
   "outputs": [
    {
     "data": {
      "text/plain": [
       "ICSI                  6297\n",
       "IVF                   4664\n",
       "Unknown               1270\n",
       "IUI                    325\n",
       "ICSI:ICSI               66\n",
       "IVF:IVF                 45\n",
       "ICSI:IVF                34\n",
       "IVF:ICSI                20\n",
       "IVF / BLASTOCYST        15\n",
       "ICSI / BLASTOCYST       14\n",
       "ICSI:Unknown             6\n",
       "ICSI / AH                4\n",
       "IVF:Unknown              2\n",
       "Generic DI               2\n",
       "Name: 특정_시술_유형, dtype: int64"
      ]
     },
     "execution_count": 18,
     "metadata": {},
     "output_type": "execute_result"
    }
   ],
   "source": [
    "test['특정_시술_유형'].value_counts()"
   ]
  },
  {
   "cell_type": "code",
   "execution_count": 19,
   "metadata": {},
   "outputs": [],
   "source": [
    "# '특정_시술_유형' 변수의 값이 'FER' 또는 'GIFT'인 행 제거\n",
    "train = train.loc[~train['특정_시술_유형'].isin(['FER', 'GIFT'])]\n",
    "# test = test.loc[~test['특정_시술_유형'].isin(['FER', 'GIFT'])]"
   ]
  },
  {
   "cell_type": "code",
   "execution_count": 20,
   "metadata": {},
   "outputs": [],
   "source": [
    "# 시술 유형 변환 함수\n",
    "def transform_treatment(treatment):\n",
    "    if isinstance(treatment, str):  # treatment가 문자열인지 확인\n",
    "        if treatment.startswith(\"ICSI\"):\n",
    "            if \"AH\" in treatment:\n",
    "                return \"ICSI / AH\"\n",
    "            elif \"BLASTOCYST\" in treatment:\n",
    "                return \"ICSI / BLASTOCYST\"\n",
    "            return \"ICSI\"\n",
    "        elif treatment.startswith(\"IVF\"):\n",
    "            if \"AH\" in treatment:\n",
    "                return \"IVF / AH\"\n",
    "            elif \"BLASTOCYST\" in treatment:\n",
    "                return \"IVF / BLASTOCYST\"\n",
    "            return \"IVF\"\n",
    "        elif treatment == \"IUI:ICI\":\n",
    "            return \"IUI\"\n",
    "    return treatment  # 기타 시술은 그대로 반환\n",
    "\n",
    "# 변환된 열 추가\n",
    "train['변환된_특정_시술_유형'] = train['특정_시술_유형'].apply(transform_treatment)\n",
    "test['변환된_특정_시술_유형'] = test['특정_시술_유형'].apply(transform_treatment)"
   ]
  },
  {
   "cell_type": "code",
   "execution_count": 21,
   "metadata": {},
   "outputs": [
    {
     "name": "stdout",
     "output_type": "stream",
     "text": [
      "\n",
      "변환된_특정_시술_유형별 임신_성공_여부 비율 및 갯수\n",
      "\n",
      "                          0         1        0       1  Total\n",
      "variable                                                     \n",
      "Generic DI         0.714286  0.285714      5.0     2.0      7\n",
      "ICI                0.750000  0.250000      3.0     1.0      4\n",
      "ICSI               0.719629  0.280371  12872.0  5015.0  17887\n",
      "ICSI / AH          0.750000  0.250000      9.0     3.0     12\n",
      "ICSI / BLASTOCYST  0.731707  0.268293     30.0    11.0     41\n",
      "IUI                0.888755  0.111245    735.0    92.0    827\n",
      "IVF                0.735277  0.264723   9988.0  3596.0  13584\n",
      "IVF / AH           0.400000  0.600000      2.0     3.0      5\n",
      "IVF / BLASTOCYST   0.783784  0.216216     29.0     8.0     37\n",
      "IVI                1.000000  0.000000      1.0     0.0      1\n",
      "Unknown            0.761931  0.238069   2762.0   863.0   3625\n"
     ]
    }
   ],
   "source": [
    "value_counts_ratio(train, '변환된_특정_시술_유형')"
   ]
  },
  {
   "cell_type": "code",
   "execution_count": 22,
   "metadata": {},
   "outputs": [
    {
     "data": {
      "text/plain": [
       "ICSI                 6403\n",
       "IVF                  4731\n",
       "Unknown              1270\n",
       "IUI                   325\n",
       "IVF / BLASTOCYST       15\n",
       "ICSI / BLASTOCYST      14\n",
       "ICSI / AH               4\n",
       "Generic DI              2\n",
       "Name: 변환된_특정_시술_유형, dtype: int64"
      ]
     },
     "execution_count": 22,
     "metadata": {},
     "output_type": "execute_result"
    }
   ],
   "source": [
    "test['변환된_특정_시술_유형'].value_counts()"
   ]
  },
  {
   "cell_type": "code",
   "execution_count": 23,
   "metadata": {},
   "outputs": [],
   "source": [
    "# 더미 변수 생성 함수 정의\n",
    "def create_dummy(x, keyword):\n",
    "    if isinstance(x, str) and keyword in x:\n",
    "        return 1\n",
    "    else:\n",
    "        return 0\n",
    "\n",
    "# 더미 변수 생성\n",
    "train['특정_시술_유형_ICSI_더미'] = train['변환된_특정_시술_유형'].apply(lambda x: create_dummy(x, 'ICSI'))\n",
    "train['특정_시술_유형_IVF_더미'] = train['변환된_특정_시술_유형'].apply(lambda x: create_dummy(x, 'IVF'))\n",
    "train['특정_시술_유형_AH_더미'] = train['변환된_특정_시술_유형'].apply(lambda x: create_dummy(x, 'AH'))\n",
    "train['특정_시술_유형_BLASTOCYST_더미'] = train['변환된_특정_시술_유형'].apply(lambda x: create_dummy(x, 'BLASTOCYST'))\n",
    "\n",
    "test['특정_시술_유형_ICSI_더미'] = test['변환된_특정_시술_유형'].apply(lambda x: create_dummy(x, 'ICSI'))\n",
    "test['특정_시술_유형_IVF_더미'] = test['변환된_특정_시술_유형'].apply(lambda x: create_dummy(x, 'IVF'))\n",
    "test['특정_시술_유형_AH_더미'] = test['변환된_특정_시술_유형'].apply(lambda x: create_dummy(x, 'AH'))\n",
    "test['특정_시술_유형_BLASTOCYST_더미'] = test['변환된_특정_시술_유형'].apply(lambda x: create_dummy(x, 'BLASTOCYST'))"
   ]
  },
  {
   "cell_type": "code",
   "execution_count": 24,
   "metadata": {},
   "outputs": [
    {
     "name": "stdout",
     "output_type": "stream",
     "text": [
      "Grouped by: 특정_시술_유형, 특정_시술_유형_ICSI_더미, 특정_시술_유형_IVF_더미, 특정_시술_유형_AH_더미, 특정_시술_유형_BLASTOCYST_더미\n",
      "\n",
      "                               group  '임신_성공_여부' count     ratio  Total\n",
      "0           (Generic DI, 0, 0, 0, 0)                 2  0.285714      7\n",
      "1                  (ICI, 0, 0, 0, 0)                 1  0.250000      4\n",
      "2                 (ICSI, 1, 0, 0, 0)              4973  0.283443  17545\n",
      "3            (ICSI / AH, 1, 0, 1, 0)                 3  0.250000     12\n",
      "4   (ICSI / BLASTOCYST , 1, 0, 0, 1)                11  0.268293     41\n",
      "5            (ICSI:ICSI, 1, 0, 0, 0)                 0  0.000000    194\n",
      "6             (ICSI:IVF, 1, 0, 0, 0)                35  0.291667    120\n",
      "7         (ICSI:Unknown, 1, 0, 0, 0)                 7  0.250000     28\n",
      "8                  (IUI, 0, 0, 0, 0)                92  0.111245    827\n",
      "9                  (IVF, 0, 1, 0, 0)              3579  0.267669  13371\n",
      "10            (IVF / AH, 0, 1, 1, 0)                 3  0.600000      5\n",
      "11    (IVF / BLASTOCYST, 0, 1, 0, 1)                 8  0.216216     37\n",
      "12            (IVF:ICSI, 0, 1, 0, 0)                14  0.254545     55\n",
      "13             (IVF:IVF, 0, 1, 0, 0)                 2  0.013333    150\n",
      "14         (IVF:Unknown, 0, 1, 0, 0)                 1  0.125000      8\n",
      "15                 (IVI, 0, 0, 0, 0)                 0  0.000000      1\n",
      "16             (Unknown, 0, 0, 0, 0)               863  0.238069   3625\n"
     ]
    }
   ],
   "source": [
    "summarize_group(train, ['특정_시술_유형',\n",
    "                        '특정_시술_유형_ICSI_더미',\n",
    "                          '특정_시술_유형_IVF_더미',\n",
    "                            '특정_시술_유형_AH_더미',\n",
    "                              '특정_시술_유형_BLASTOCYST_더미'])"
   ]
  },
  {
   "cell_type": "code",
   "execution_count": 25,
   "metadata": {},
   "outputs": [],
   "source": [
    "# '특정_시술_유형' 변수 제거\n",
    "train = train.drop(columns=['특정_시술_유형'])\n",
    "test = test.drop(columns=['특정_시술_유형'])"
   ]
  },
  {
   "cell_type": "markdown",
   "metadata": {},
   "source": [
    "### 6. 배란_자극_여부"
   ]
  },
  {
   "cell_type": "markdown",
   "metadata": {},
   "source": [
    "배란 자극 치료가 사용되었는지 여부"
   ]
  },
  {
   "cell_type": "code",
   "execution_count": 26,
   "metadata": {},
   "outputs": [
    {
     "name": "stdout",
     "output_type": "stream",
     "text": [
      "\n",
      "배란_자극_여부별 임신_성공_여부 비율 및 갯수\n",
      "\n",
      "                 0         1      0     1  Total\n",
      "variable                                        \n",
      "0         0.759543  0.240457   6188  1959   8147\n",
      "1         0.726187  0.273813  20249  7635  27884\n"
     ]
    }
   ],
   "source": [
    "value_counts_ratio(train, '배란_자극_여부')"
   ]
  },
  {
   "cell_type": "markdown",
   "metadata": {},
   "source": [
    "### 7. 배란_유도_유형"
   ]
  },
  {
   "cell_type": "markdown",
   "metadata": {},
   "source": [
    "사용된 배란 유도 방법 유형"
   ]
  },
  {
   "cell_type": "code",
   "execution_count": 27,
   "metadata": {},
   "outputs": [
    {
     "name": "stdout",
     "output_type": "stream",
     "text": [
      "\n",
      "배란_유도_유형별 임신_성공_여부 비율 및 갯수\n",
      "\n",
      "                   0         1      0     1  Total\n",
      "variable                                          \n",
      "기록되지 않은 시행  0.723747  0.276253  19856  7579  27435\n",
      "알 수 없음      0.765589  0.234411   6581  2015   8596\n"
     ]
    }
   ],
   "source": [
    "value_counts_ratio(train, '배란_유도_유형')"
   ]
  },
  {
   "cell_type": "code",
   "execution_count": 28,
   "metadata": {},
   "outputs": [
    {
     "data": {
      "text/plain": [
       "기록되지 않은 시행    9715\n",
       "알 수 없음        3049\n",
       "Name: 배란_유도_유형, dtype: int64"
      ]
     },
     "execution_count": 28,
     "metadata": {},
     "output_type": "execute_result"
    }
   ],
   "source": [
    "test['배란_유도_유형'].value_counts()"
   ]
  },
  {
   "cell_type": "markdown",
   "metadata": {},
   "source": [
    "### 8. 단일_배아_이식_여부"
   ]
  },
  {
   "cell_type": "markdown",
   "metadata": {},
   "source": [
    "선택적으로 단일 배아를 이식했는지 여부"
   ]
  },
  {
   "cell_type": "code",
   "execution_count": 29,
   "metadata": {},
   "outputs": [
    {
     "name": "stdout",
     "output_type": "stream",
     "text": [
      "\n",
      "단일_배아_이식_여부별 임신_성공_여부 비율 및 갯수\n",
      "\n",
      "                 0         1      0     1  Total\n",
      "variable                                        \n",
      "0.0       0.762939  0.237061  20063  6234  26297\n",
      "1.0       0.632940  0.367060   5630  3265   8895\n"
     ]
    }
   ],
   "source": [
    "value_counts_ratio(train, '단일_배아_이식_여부')"
   ]
  },
  {
   "cell_type": "markdown",
   "metadata": {},
   "source": [
    "### 9. 착상_전_유전_검사_사용_여부"
   ]
  },
  {
   "cell_type": "markdown",
   "metadata": {},
   "source": [
    "PGS(착상 전 유전 검사)가 시행되었는지 여부"
   ]
  },
  {
   "cell_type": "code",
   "execution_count": 30,
   "metadata": {},
   "outputs": [
    {
     "name": "stdout",
     "output_type": "stream",
     "text": [
      "\n",
      "착상_전_유전_검사_사용_여부별 임신_성공_여부 비율 및 갯수\n",
      "\n",
      "                 0         1    0   1  Total\n",
      "variable                                    \n",
      "1.0       0.782787  0.217213  191  53    244\n"
     ]
    }
   ],
   "source": [
    "value_counts_ratio(train, '착상_전_유전_검사_사용_여부')"
   ]
  },
  {
   "cell_type": "code",
   "execution_count": 31,
   "metadata": {},
   "outputs": [
    {
     "name": "stdout",
     "output_type": "stream",
     "text": [
      "결측값 개수: 35787\n",
      "결측값 개수: 0\n"
     ]
    }
   ],
   "source": [
    "# 결측값 개수 확인\n",
    "print(\"결측값 개수:\", train['착상_전_유전_검사_사용_여부'].isnull().sum())\n",
    "\n",
    "# 결측값을 0으로 채우기\n",
    "train['착상_전_유전_검사_사용_여부'].fillna(0, inplace=True)\n",
    "test['착상_전_유전_검사_사용_여부'].fillna(0, inplace=True)\n",
    "\n",
    "# 결측값 개수 확인\n",
    "print(\"결측값 개수:\", train['착상_전_유전_검사_사용_여부'].isnull().sum())"
   ]
  },
  {
   "cell_type": "code",
   "execution_count": 32,
   "metadata": {},
   "outputs": [
    {
     "name": "stdout",
     "output_type": "stream",
     "text": [
      "\n",
      "착상_전_유전_검사_사용_여부별 임신_성공_여부 비율 및 갯수\n",
      "\n",
      "                 0         1      0     1  Total\n",
      "variable                                        \n",
      "0.0       0.733395  0.266605  26246  9541  35787\n",
      "1.0       0.782787  0.217213    191    53    244\n"
     ]
    }
   ],
   "source": [
    "value_counts_ratio(train, '착상_전_유전_검사_사용_여부')"
   ]
  },
  {
   "cell_type": "markdown",
   "metadata": {},
   "source": [
    "### 10. 착상_전_유전_진단_사용_여부"
   ]
  },
  {
   "cell_type": "markdown",
   "metadata": {},
   "source": [
    "PGD(착상 전 유전 진단)가 시행되었는지 여부"
   ]
  },
  {
   "cell_type": "code",
   "execution_count": 33,
   "metadata": {},
   "outputs": [
    {
     "name": "stdout",
     "output_type": "stream",
     "text": [
      "\n",
      "착상_전_유전_진단_사용_여부별 임신_성공_여부 비율 및 갯수\n",
      "\n",
      "                 0         1      0     1  Total\n",
      "variable                                        \n",
      "0.0       0.729810  0.270190  25366  9391  34757\n",
      "1.0       0.751724  0.248276    327   108    435\n"
     ]
    }
   ],
   "source": [
    "value_counts_ratio(train, '착상_전_유전_진단_사용_여부')"
   ]
  },
  {
   "cell_type": "code",
   "execution_count": 34,
   "metadata": {},
   "outputs": [
    {
     "name": "stdout",
     "output_type": "stream",
     "text": [
      "Grouped by: 착상_전_유전_진단_사용_여부, 착상_전_유전_검사_사용_여부\n",
      "\n",
      "        group  '임신_성공_여부' count     ratio  Total\n",
      "0  (0.0, 0.0)              9338  0.270557  34514\n",
      "1  (0.0, 1.0)                53  0.218107    243\n",
      "2  (1.0, 0.0)               108  0.248848    434\n",
      "3  (1.0, 1.0)                 0  0.000000      1\n"
     ]
    }
   ],
   "source": [
    "summarize_group(train, ['착상_전_유전_진단_사용_여부', '착상_전_유전_검사_사용_여부'])"
   ]
  },
  {
   "cell_type": "markdown",
   "metadata": {},
   "source": [
    "### 11. 남성_주_불임_원인"
   ]
  },
  {
   "cell_type": "markdown",
   "metadata": {},
   "source": [
    "남성의 주요 불임 원인 여부"
   ]
  },
  {
   "cell_type": "code",
   "execution_count": 35,
   "metadata": {},
   "outputs": [
    {
     "name": "stdout",
     "output_type": "stream",
     "text": [
      "\n",
      "남성_주_불임_원인별 임신_성공_여부 비율 및 갯수\n",
      "\n",
      "                 0         1      0     1  Total\n",
      "variable                                        \n",
      "0         0.733166  0.266834  26012  9467  35479\n",
      "1         0.769928  0.230072    425   127    552\n"
     ]
    }
   ],
   "source": [
    "value_counts_ratio(train, '남성_주_불임_원인')"
   ]
  },
  {
   "cell_type": "markdown",
   "metadata": {},
   "source": [
    "### 12. 남성_부_불임_원인"
   ]
  },
  {
   "cell_type": "markdown",
   "metadata": {},
   "source": [
    "남성의 부차적 불임 원인 여부"
   ]
  },
  {
   "cell_type": "code",
   "execution_count": 36,
   "metadata": {},
   "outputs": [
    {
     "name": "stdout",
     "output_type": "stream",
     "text": [
      "\n",
      "남성_부_불임_원인별 임신_성공_여부 비율 및 갯수\n",
      "\n",
      "                 0         1      0     1  Total\n",
      "variable                                        \n",
      "0         0.733454  0.266546  26232  9533  35765\n",
      "1         0.770677  0.229323    205    61    266\n"
     ]
    }
   ],
   "source": [
    "value_counts_ratio(train, '남성_부_불임_원인')"
   ]
  },
  {
   "cell_type": "code",
   "execution_count": 37,
   "metadata": {},
   "outputs": [
    {
     "name": "stdout",
     "output_type": "stream",
     "text": [
      "Grouped by: 남성_주_불임_원인, 남성_부_불임_원인\n",
      "\n",
      "    group  '임신_성공_여부' count     ratio  Total\n",
      "0  (0, 0)              9406  0.267117  35213\n",
      "1  (0, 1)                61  0.229323    266\n",
      "2  (1, 0)               127  0.230072    552\n"
     ]
    }
   ],
   "source": [
    "summarize_group(train, ['남성_주_불임_원인', '남성_부_불임_원인'])"
   ]
  },
  {
   "cell_type": "markdown",
   "metadata": {},
   "source": [
    "### 13. 여성_주_불임_원인"
   ]
  },
  {
   "cell_type": "markdown",
   "metadata": {},
   "source": [
    "여성의 주요 불임 원인 여부"
   ]
  },
  {
   "cell_type": "code",
   "execution_count": 38,
   "metadata": {},
   "outputs": [
    {
     "name": "stdout",
     "output_type": "stream",
     "text": [
      "\n",
      "여성_주_불임_원인별 임신_성공_여부 비율 및 갯수\n",
      "\n",
      "                 0         1      0     1  Total\n",
      "variable                                        \n",
      "0         0.733252  0.266748  25974  9449  35423\n",
      "1         0.761513  0.238487    463   145    608\n"
     ]
    }
   ],
   "source": [
    "value_counts_ratio(train, '여성_주_불임_원인')"
   ]
  },
  {
   "cell_type": "markdown",
   "metadata": {},
   "source": [
    "### 14. 여성_부_불임_원인"
   ]
  },
  {
   "cell_type": "markdown",
   "metadata": {},
   "source": [
    "여성의 부차적 불임 원인 여부"
   ]
  },
  {
   "cell_type": "code",
   "execution_count": 39,
   "metadata": {},
   "outputs": [
    {
     "name": "stdout",
     "output_type": "stream",
     "text": [
      "\n",
      "여성_부_불임_원인별 임신_성공_여부 비율 및 갯수\n",
      "\n",
      "                 0         1      0     1  Total\n",
      "variable                                        \n",
      "0         0.733283  0.266717  26242  9545  35787\n",
      "1         0.799180  0.200820    195    49    244\n"
     ]
    }
   ],
   "source": [
    "value_counts_ratio(train, '여성_부_불임_원인')"
   ]
  },
  {
   "cell_type": "code",
   "execution_count": 40,
   "metadata": {},
   "outputs": [
    {
     "name": "stdout",
     "output_type": "stream",
     "text": [
      "Grouped by: 여성_주_불임_원인, 여성_부_불임_원인\n",
      "\n",
      "    group  '임신_성공_여부' count     ratio  Total\n",
      "0  (0, 0)              9401  0.267226  35180\n",
      "1  (0, 1)                48  0.197531    243\n",
      "2  (1, 0)               144  0.237232    607\n",
      "3  (1, 1)                 1  1.000000      1\n"
     ]
    }
   ],
   "source": [
    "summarize_group(train, ['여성_주_불임_원인', '여성_부_불임_원인'])"
   ]
  },
  {
   "cell_type": "code",
   "execution_count": 41,
   "metadata": {},
   "outputs": [
    {
     "name": "stdout",
     "output_type": "stream",
     "text": [
      "Grouped by: 남성_주_불임_원인, 남성_부_불임_원인, 여성_주_불임_원인, 여성_부_불임_원인\n",
      "\n",
      "          group  '임신_성공_여부' count     ratio  Total\n",
      "0  (0, 0, 0, 0)              9401  0.267241  35178\n",
      "1  (0, 0, 0, 1)                 0  0.000000      5\n",
      "2  (0, 0, 1, 0)                 5  0.166667     30\n",
      "3  (0, 1, 0, 0)                 0  0.000000      1\n",
      "4  (0, 1, 0, 1)                40  0.225989    177\n",
      "5  (0, 1, 1, 0)                21  0.238636     88\n",
      "6  (1, 0, 0, 0)                 0  0.000000      1\n",
      "7  (1, 0, 0, 1)                 8  0.131148     61\n",
      "8  (1, 0, 1, 0)               118  0.241309    489\n",
      "9  (1, 0, 1, 1)                 1  1.000000      1\n"
     ]
    }
   ],
   "source": [
    "summarize_group(train, ['남성_주_불임_원인', '남성_부_불임_원인', '여성_주_불임_원인', '여성_부_불임_원인'])"
   ]
  },
  {
   "cell_type": "markdown",
   "metadata": {},
   "source": [
    "### 15. 부부_주_불임_원인"
   ]
  },
  {
   "cell_type": "markdown",
   "metadata": {},
   "source": [
    "부부의 주요 불임 원인 여부"
   ]
  },
  {
   "cell_type": "code",
   "execution_count": 42,
   "metadata": {},
   "outputs": [
    {
     "name": "stdout",
     "output_type": "stream",
     "text": [
      "\n",
      "부부_주_불임_원인별 임신_성공_여부 비율 및 갯수\n",
      "\n",
      "                 0         1      0     1  Total\n",
      "variable                                        \n",
      "0         0.733055  0.266945  25945  9448  35393\n",
      "1         0.771160  0.228840    492   146    638\n"
     ]
    }
   ],
   "source": [
    "value_counts_ratio(train, '부부_주_불임_원인')"
   ]
  },
  {
   "cell_type": "markdown",
   "metadata": {},
   "source": [
    "### 16. 부부_부_불임_원인"
   ]
  },
  {
   "cell_type": "markdown",
   "metadata": {},
   "source": [
    "부부의 부차적 불임 원인 여부"
   ]
  },
  {
   "cell_type": "code",
   "execution_count": 43,
   "metadata": {},
   "outputs": [
    {
     "name": "stdout",
     "output_type": "stream",
     "text": [
      "\n",
      "부부_부_불임_원인별 임신_성공_여부 비율 및 갯수\n",
      "\n",
      "                 0         1      0     1  Total\n",
      "variable                                        \n",
      "0         0.733525  0.266475  26302  9555  35857\n",
      "1         0.775862  0.224138    135    39    174\n"
     ]
    }
   ],
   "source": [
    "value_counts_ratio(train, '부부_부_불임_원인')"
   ]
  },
  {
   "cell_type": "code",
   "execution_count": 44,
   "metadata": {},
   "outputs": [
    {
     "name": "stdout",
     "output_type": "stream",
     "text": [
      "Grouped by: 부부_주_불임_원인, 부부_부_불임_원인\n",
      "\n",
      "    group  '임신_성공_여부' count     ratio  Total\n",
      "0  (0, 0)              9409  0.267157  35219\n",
      "1  (0, 1)                39  0.224138    174\n",
      "2  (1, 0)               146  0.228840    638\n"
     ]
    }
   ],
   "source": [
    "summarize_group(train, ['부부_주_불임_원인', '부부_부_불임_원인'])"
   ]
  },
  {
   "cell_type": "code",
   "execution_count": 45,
   "metadata": {},
   "outputs": [
    {
     "name": "stdout",
     "output_type": "stream",
     "text": [
      "Grouped by: 남성_주_불임_원인, 남성_부_불임_원인, 여성_주_불임_원인, 여성_부_불임_원인, 부부_주_불임_원인, 부부_부_불임_원인\n",
      "\n",
      "                 group  '임신_성공_여부' count     ratio  Total\n",
      "0   (0, 0, 0, 0, 0, 0)              9401  0.267256  35176\n",
      "1   (0, 0, 0, 0, 0, 1)                 0  0.000000      2\n",
      "2   (0, 0, 0, 1, 0, 0)                 0  0.000000      4\n",
      "3   (0, 0, 0, 1, 0, 1)                 0  0.000000      1\n",
      "4   (0, 0, 1, 0, 0, 0)                 5  0.178571     28\n",
      "5   (0, 0, 1, 0, 1, 0)                 0  0.000000      2\n",
      "6   (0, 1, 0, 0, 0, 0)                 0  0.000000      1\n",
      "7   (0, 1, 0, 1, 0, 0)                 2  0.666667      3\n",
      "8   (0, 1, 0, 1, 0, 1)                32  0.219178    146\n",
      "9   (0, 1, 0, 1, 1, 0)                 6  0.214286     28\n",
      "10  (0, 1, 1, 0, 0, 1)                 7  0.318182     22\n",
      "11  (0, 1, 1, 0, 1, 0)                14  0.212121     66\n",
      "12  (1, 0, 0, 0, 1, 0)                 0  0.000000      1\n",
      "13  (1, 0, 0, 1, 0, 1)                 0  0.000000      3\n",
      "14  (1, 0, 0, 1, 1, 0)                 8  0.137931     58\n",
      "15  (1, 0, 1, 0, 0, 0)                 1  0.142857      7\n",
      "16  (1, 0, 1, 0, 1, 0)               117  0.242739    482\n",
      "17  (1, 0, 1, 1, 1, 0)                 1  1.000000      1\n"
     ]
    }
   ],
   "source": [
    "summarize_group(train, ['남성_주_불임_원인', '남성_부_불임_원인'\n",
    "                        , '여성_주_불임_원인', '여성_부_불임_원인'\n",
    "                        , '부부_주_불임_원인', '부부_부_불임_원인'])"
   ]
  },
  {
   "cell_type": "markdown",
   "metadata": {},
   "source": [
    "### 17. 불명확_불임_원인"
   ]
  },
  {
   "cell_type": "markdown",
   "metadata": {},
   "source": [
    "불명의 원인으로 인한 불임 여부"
   ]
  },
  {
   "cell_type": "code",
   "execution_count": 46,
   "metadata": {},
   "outputs": [
    {
     "name": "stdout",
     "output_type": "stream",
     "text": [
      "\n",
      "불명확_불임_원인별 임신_성공_여부 비율 및 갯수\n",
      "\n",
      "                 0         1      0     1  Total\n",
      "variable                                        \n",
      "0         0.732570  0.267430  19953  7284  27237\n",
      "1         0.737321  0.262679   6484  2310   8794\n"
     ]
    }
   ],
   "source": [
    "value_counts_ratio(train, '불명확_불임_원인')"
   ]
  },
  {
   "cell_type": "markdown",
   "metadata": {},
   "source": [
    "### 18. 불임_원인_-_난관_질환"
   ]
  },
  {
   "cell_type": "markdown",
   "metadata": {},
   "source": [
    "난관 이상으로 인한 불임 여부"
   ]
  },
  {
   "cell_type": "code",
   "execution_count": 47,
   "metadata": {},
   "outputs": [
    {
     "name": "stdout",
     "output_type": "stream",
     "text": [
      "\n",
      "불임_원인_-_난관_질환별 임신_성공_여부 비율 및 갯수\n",
      "\n",
      "                 0         1      0     1  Total\n",
      "variable                                        \n",
      "0         0.733533  0.266467  22730  8257  30987\n",
      "1         0.734933  0.265067   3707  1337   5044\n"
     ]
    }
   ],
   "source": [
    "value_counts_ratio(train, '불임_원인_-_난관_질환')"
   ]
  },
  {
   "cell_type": "markdown",
   "metadata": {},
   "source": [
    "### 19. 불임_원인_-_남성_요인"
   ]
  },
  {
   "cell_type": "markdown",
   "metadata": {},
   "source": [
    "남성 요인으로 인한 불임 여부"
   ]
  },
  {
   "cell_type": "code",
   "execution_count": 48,
   "metadata": {},
   "outputs": [
    {
     "name": "stdout",
     "output_type": "stream",
     "text": [
      "\n",
      "불임_원인_-_남성_요인별 임신_성공_여부 비율 및 갯수\n",
      "\n",
      "                 0         1      0     1  Total\n",
      "variable                                        \n",
      "0         0.747849  0.252151  17033  5743  22776\n",
      "1         0.709468  0.290532   9404  3851  13255\n"
     ]
    }
   ],
   "source": [
    "value_counts_ratio(train, '불임_원인_-_남성_요인')"
   ]
  },
  {
   "cell_type": "markdown",
   "metadata": {},
   "source": [
    "### 20. 불임_원인_-_배란_장애"
   ]
  },
  {
   "cell_type": "markdown",
   "metadata": {},
   "source": [
    "배란 장애로 인한 불임 여부"
   ]
  },
  {
   "cell_type": "code",
   "execution_count": 49,
   "metadata": {},
   "outputs": [
    {
     "name": "stdout",
     "output_type": "stream",
     "text": [
      "\n",
      "불임_원인_-_배란_장애별 임신_성공_여부 비율 및 갯수\n",
      "\n",
      "                 0         1      0     1  Total\n",
      "variable                                        \n",
      "0         0.738425  0.261575  22999  8147  31146\n",
      "1         0.703787  0.296213   3438  1447   4885\n"
     ]
    }
   ],
   "source": [
    "value_counts_ratio(train, '불임_원인_-_배란_장애')"
   ]
  },
  {
   "cell_type": "markdown",
   "metadata": {},
   "source": [
    "### 21. 불임_원인_-_여성_요인"
   ]
  },
  {
   "cell_type": "markdown",
   "metadata": {},
   "source": [
    "여성 요인으로 인한 불임 여부"
   ]
  },
  {
   "cell_type": "code",
   "execution_count": 50,
   "metadata": {},
   "outputs": [
    {
     "name": "stdout",
     "output_type": "stream",
     "text": [
      "\n",
      "불임_원인_-_여성_요인별 임신_성공_여부 비율 및 갯수\n",
      "\n",
      "                 0         1      0     1  Total\n",
      "variable                                        \n",
      "0         0.733729  0.266271  26437  9594  36031\n"
     ]
    }
   ],
   "source": [
    "value_counts_ratio(train, '불임_원인_-_여성_요인')"
   ]
  },
  {
   "cell_type": "code",
   "execution_count": 51,
   "metadata": {},
   "outputs": [
    {
     "data": {
      "text/plain": [
       "0    12764\n",
       "Name: 불임_원인_-_여성_요인, dtype: int64"
      ]
     },
     "execution_count": 51,
     "metadata": {},
     "output_type": "execute_result"
    }
   ],
   "source": [
    "test['불임_원인_-_여성_요인'].value_counts()"
   ]
  },
  {
   "cell_type": "code",
   "execution_count": 52,
   "metadata": {},
   "outputs": [],
   "source": [
    "# '불임_원인_-_여성_요인' 변수 제거\n",
    "train = train.drop(columns=['불임_원인_-_여성_요인'])\n",
    "test = test.drop(columns=['불임_원인_-_여성_요인'])"
   ]
  },
  {
   "cell_type": "markdown",
   "metadata": {},
   "source": [
    "### 22. 불임_원인_-_자궁경부_문제"
   ]
  },
  {
   "cell_type": "markdown",
   "metadata": {},
   "source": [
    "자궁경부 이상으로 인한 불임 여부"
   ]
  },
  {
   "cell_type": "code",
   "execution_count": 53,
   "metadata": {},
   "outputs": [
    {
     "name": "stdout",
     "output_type": "stream",
     "text": [
      "\n",
      "불임_원인_-_자궁경부_문제별 임신_성공_여부 비율 및 갯수\n",
      "\n",
      "                 0         1        0       1  Total\n",
      "variable                                            \n",
      "0         0.733722  0.266278  26436.0  9594.0  36030\n",
      "1         1.000000  0.000000      1.0     0.0      1\n"
     ]
    }
   ],
   "source": [
    "value_counts_ratio(train, '불임_원인_-_자궁경부_문제')"
   ]
  },
  {
   "cell_type": "markdown",
   "metadata": {},
   "source": [
    "### 23. 불임_원인_-_자궁내막증"
   ]
  },
  {
   "cell_type": "markdown",
   "metadata": {},
   "source": [
    "자궁내막증으로 인한 불임 여부"
   ]
  },
  {
   "cell_type": "code",
   "execution_count": 54,
   "metadata": {},
   "outputs": [
    {
     "name": "stdout",
     "output_type": "stream",
     "text": [
      "\n",
      "불임_원인_-_자궁내막증별 임신_성공_여부 비율 및 갯수\n",
      "\n",
      "                 0         1      0     1  Total\n",
      "variable                                        \n",
      "0         0.733966  0.266034  24502  8881  33383\n",
      "1         0.730740  0.269260   1935   713   2648\n"
     ]
    }
   ],
   "source": [
    "value_counts_ratio(train, '불임_원인_-_자궁내막증')"
   ]
  },
  {
   "cell_type": "markdown",
   "metadata": {},
   "source": [
    "### 24. 불임_원인_-_정자_농도"
   ]
  },
  {
   "cell_type": "markdown",
   "metadata": {},
   "source": [
    "파트너의 정자 농도 문제 여부"
   ]
  },
  {
   "cell_type": "code",
   "execution_count": 55,
   "metadata": {},
   "outputs": [
    {
     "name": "stdout",
     "output_type": "stream",
     "text": [
      "\n",
      "불임_원인_-_정자_농도별 임신_성공_여부 비율 및 갯수\n",
      "\n",
      "                 0         1      0     1  Total\n",
      "variable                                        \n",
      "0         0.733717  0.266283  26416  9587  36003\n",
      "1         0.750000  0.250000     21     7     28\n"
     ]
    }
   ],
   "source": [
    "value_counts_ratio(train, '불임_원인_-_정자_농도')"
   ]
  },
  {
   "cell_type": "markdown",
   "metadata": {},
   "source": [
    "### 25. 불임_원인_-_정자_면역학적_요인"
   ]
  },
  {
   "cell_type": "markdown",
   "metadata": {},
   "source": [
    "파트너의 정자 면역 관련 문제 여부"
   ]
  },
  {
   "cell_type": "code",
   "execution_count": 56,
   "metadata": {},
   "outputs": [
    {
     "name": "stdout",
     "output_type": "stream",
     "text": [
      "\n",
      "불임_원인_-_정자_면역학적_요인별 임신_성공_여부 비율 및 갯수\n",
      "\n",
      "                 0         1      0     1  Total\n",
      "variable                                        \n",
      "0         0.733729  0.266271  26437  9594  36031\n"
     ]
    }
   ],
   "source": [
    "value_counts_ratio(train, '불임_원인_-_정자_면역학적_요인')"
   ]
  },
  {
   "cell_type": "code",
   "execution_count": 57,
   "metadata": {},
   "outputs": [
    {
     "data": {
      "text/plain": [
       "0    12764\n",
       "Name: 불임_원인_-_정자_면역학적_요인, dtype: int64"
      ]
     },
     "execution_count": 57,
     "metadata": {},
     "output_type": "execute_result"
    }
   ],
   "source": [
    "test['불임_원인_-_정자_면역학적_요인'].value_counts()"
   ]
  },
  {
   "cell_type": "code",
   "execution_count": 58,
   "metadata": {},
   "outputs": [],
   "source": [
    "# '불임_원인_-_정자_면역학적_요인' 변수 제거\n",
    "train = train.drop(columns=['불임_원인_-_정자_면역학적_요인'])\n",
    "test = test.drop(columns=['불임_원인_-_정자_면역학적_요인'])"
   ]
  },
  {
   "cell_type": "markdown",
   "metadata": {},
   "source": [
    "### 26. 불임_원인_-_정자_운동성"
   ]
  },
  {
   "cell_type": "markdown",
   "metadata": {},
   "source": [
    "파트너의 정자 운동성 문제 여부"
   ]
  },
  {
   "cell_type": "code",
   "execution_count": 59,
   "metadata": {},
   "outputs": [
    {
     "name": "stdout",
     "output_type": "stream",
     "text": [
      "\n",
      "불임_원인_-_정자_운동성별 임신_성공_여부 비율 및 갯수\n",
      "\n",
      "                 0         1      0     1  Total\n",
      "variable                                        \n",
      "0         0.733735  0.266265  26435  9593  36028\n",
      "1         0.666667  0.333333      2     1      3\n"
     ]
    }
   ],
   "source": [
    "value_counts_ratio(train, '불임_원인_-_정자_운동성')"
   ]
  },
  {
   "cell_type": "code",
   "execution_count": 60,
   "metadata": {},
   "outputs": [],
   "source": [
    "# '불임_원인_-_정자_운동성' 변수 제거\n",
    "train = train.drop(columns=['불임_원인_-_정자_운동성'])\n",
    "test = test.drop(columns=['불임_원인_-_정자_운동성'])"
   ]
  },
  {
   "cell_type": "markdown",
   "metadata": {},
   "source": [
    "### 27. 불임_원인_-_정자_형태"
   ]
  },
  {
   "cell_type": "markdown",
   "metadata": {},
   "source": [
    "파트너의 정자 형태 문제 여부"
   ]
  },
  {
   "cell_type": "code",
   "execution_count": 61,
   "metadata": {},
   "outputs": [
    {
     "name": "stdout",
     "output_type": "stream",
     "text": [
      "\n",
      "불임_원인_-_정자_형태별 임신_성공_여부 비율 및 갯수\n",
      "\n",
      "                 0         1      0     1  Total\n",
      "variable                                        \n",
      "0         0.733716  0.266284  26427  9591  36018\n",
      "1         0.769231  0.230769     10     3     13\n"
     ]
    }
   ],
   "source": [
    "value_counts_ratio(train, '불임_원인_-_정자_형태')"
   ]
  },
  {
   "cell_type": "markdown",
   "metadata": {},
   "source": [
    "### 28. 배아_생성_주요_이유"
   ]
  },
  {
   "cell_type": "markdown",
   "metadata": {},
   "source": [
    "배아 생성의 주된 목적(시술, 보관 등)"
   ]
  },
  {
   "cell_type": "code",
   "execution_count": 62,
   "metadata": {},
   "outputs": [
    {
     "name": "stdout",
     "output_type": "stream",
     "text": [
      "\n",
      "배아_생성_주요_이유별 임신_성공_여부 비율 및 갯수\n",
      "\n",
      "                            0         1        0       1  Total\n",
      "variable                                                       \n",
      "기증용                  1.000000  0.000000    171.0     0.0    171\n",
      "기증용, 난자 저장용          1.000000  0.000000      5.0     0.0      5\n",
      "기증용, 배아 저장용          1.000000  0.000000     12.0     0.0     12\n",
      "기증용, 배아 저장용, 현재 시술용  1.000000  0.000000      3.0     0.0      3\n",
      "기증용, 현재 시술용          0.607207  0.392793    337.0   218.0    555\n",
      "난자 저장용               1.000000  0.000000    245.0     0.0    245\n",
      "난자 저장용, 배아 저장용       1.000000  0.000000      2.0     0.0      2\n",
      "배아 저장용               1.000000  0.000000    599.0     0.0    599\n",
      "배아 저장용, 현재 시술용       0.500000  0.500000      1.0     1.0      2\n",
      "현재 시술용               0.723793  0.276207  24318.0  9280.0  33598\n"
     ]
    }
   ],
   "source": [
    "value_counts_ratio(train, '배아_생성_주요_이유')"
   ]
  },
  {
   "cell_type": "code",
   "execution_count": 63,
   "metadata": {},
   "outputs": [],
   "source": [
    "# '연구용'이라는 값이 포함된 행 삭제\n",
    "train = train[~train['배아_생성_주요_이유'].str.contains('연구용', na=False)]\n",
    "# test = test[~test['배아_생성_주요_이유'].str.contains('연구용', na=False)]"
   ]
  },
  {
   "cell_type": "code",
   "execution_count": 64,
   "metadata": {},
   "outputs": [
    {
     "name": "stdout",
     "output_type": "stream",
     "text": [
      "\n",
      "배아_생성_주요_이유별 임신_성공_여부 비율 및 갯수\n",
      "\n",
      "                            0         1        0       1  Total\n",
      "variable                                                       \n",
      "기증용                  1.000000  0.000000    171.0     0.0    171\n",
      "기증용, 난자 저장용          1.000000  0.000000      5.0     0.0      5\n",
      "기증용, 배아 저장용          1.000000  0.000000     12.0     0.0     12\n",
      "기증용, 배아 저장용, 현재 시술용  1.000000  0.000000      3.0     0.0      3\n",
      "기증용, 현재 시술용          0.607207  0.392793    337.0   218.0    555\n",
      "난자 저장용               1.000000  0.000000    245.0     0.0    245\n",
      "난자 저장용, 배아 저장용       1.000000  0.000000      2.0     0.0      2\n",
      "배아 저장용               1.000000  0.000000    599.0     0.0    599\n",
      "배아 저장용, 현재 시술용       0.500000  0.500000      1.0     1.0      2\n",
      "현재 시술용               0.723793  0.276207  24318.0  9280.0  33598\n"
     ]
    }
   ],
   "source": [
    "value_counts_ratio(train, '배아_생성_주요_이유')"
   ]
  },
  {
   "cell_type": "code",
   "execution_count": 65,
   "metadata": {},
   "outputs": [
    {
     "data": {
      "text/plain": [
       "현재 시술용                 11880\n",
       "배아 저장용                   225\n",
       "기증용, 현재 시술용              190\n",
       "난자 저장용                    75\n",
       "기증용                       61\n",
       "기증용, 배아 저장용                3\n",
       "기증용, 난자 저장용                2\n",
       "기증용, 배아 저장용, 현재 시술용        1\n",
       "Name: 배아_생성_주요_이유, dtype: int64"
      ]
     },
     "execution_count": 65,
     "metadata": {},
     "output_type": "execute_result"
    }
   ],
   "source": [
    "test['배아_생성_주요_이유'].value_counts()"
   ]
  },
  {
   "cell_type": "code",
   "execution_count": 66,
   "metadata": {},
   "outputs": [
    {
     "name": "stdout",
     "output_type": "stream",
     "text": [
      "결측값 개수: 839\n",
      "결측값 개수: 0\n"
     ]
    }
   ],
   "source": [
    "print(\"결측값 개수:\", train['배아_생성_주요_이유'].isnull().sum())\n",
    "\n",
    "train['배아_생성_주요_이유'].fillna('unknown', inplace=True)\n",
    "test['배아_생성_주요_이유'].fillna('unknown', inplace=True)\n",
    "\n",
    "print(\"결측값 개수:\", train['배아_생성_주요_이유'].isnull().sum())"
   ]
  },
  {
   "cell_type": "code",
   "execution_count": 67,
   "metadata": {},
   "outputs": [],
   "source": [
    "# '현재 시술용' 키워드가 포함된 경우 1, 그렇지 않은 경우 0을 부여하는 더미 변수 생성\n",
    "train['배아_생성_주요_이유_현재시술용'] = train['배아_생성_주요_이유'].str.contains('현재 시술용').astype(int)\n",
    "test['배아_생성_주요_이유_현재시술용'] = test['배아_생성_주요_이유'].str.contains('현재 시술용').astype(int)"
   ]
  },
  {
   "cell_type": "code",
   "execution_count": 68,
   "metadata": {},
   "outputs": [],
   "source": [
    "# '기증용' 키워드가 포함된 경우 1, 그렇지 않은 경우 0을 부여하는 더미 변수 생성\n",
    "train['배아_생성_주요_이유_기증용'] = train['배아_생성_주요_이유'].str.contains('기증용').astype(int)\n",
    "test['배아_생성_주요_이유_기증용'] = test['배아_생성_주요_이유'].str.contains('기증용').astype(int)"
   ]
  },
  {
   "cell_type": "code",
   "execution_count": 69,
   "metadata": {},
   "outputs": [],
   "source": [
    "# '난자 저장용' 키워드가 포함된 경우 1, 그렇지 않은 경우 0을 부여하는 더미 변수 생성\n",
    "train['배아_생성_주요_이유_난자저장용'] = train['배아_생성_주요_이유'].str.contains('난자 저장용').astype(int)\n",
    "test['배아_생성_주요_이유_난자저장용'] = test['배아_생성_주요_이유'].str.contains('난자 저장용').astype(int)"
   ]
  },
  {
   "cell_type": "code",
   "execution_count": 70,
   "metadata": {},
   "outputs": [],
   "source": [
    "# '배아 저장용' 키워드가 포함된 경우 1, 그렇지 않은 경우 0을 부여하는 더미 변수 생성\n",
    "train['배아_생성_주요_이유_배아저장용'] = train['배아_생성_주요_이유'].str.contains('배아 저장용').astype(int)\n",
    "test['배아_생성_주요_이유_배아저장용'] = test['배아_생성_주요_이유'].str.contains('배아 저장용').astype(int)"
   ]
  },
  {
   "cell_type": "code",
   "execution_count": 71,
   "metadata": {},
   "outputs": [
    {
     "name": "stdout",
     "output_type": "stream",
     "text": [
      "Grouped by: 배아_생성_주요_이유_현재시술용, 배아_생성_주요_이유_기증용, 배아_생성_주요_이유_난자저장용, 배아_생성_주요_이유_배아저장용\n",
      "\n",
      "           group  '임신_성공_여부' count     ratio  Total\n",
      "0   (0, 0, 0, 0)                95  0.113230    839\n",
      "1   (0, 0, 0, 1)                 0  0.000000    599\n",
      "2   (0, 0, 1, 0)                 0  0.000000    245\n",
      "3   (0, 0, 1, 1)                 0  0.000000      2\n",
      "4   (0, 1, 0, 0)                 0  0.000000    171\n",
      "5   (0, 1, 0, 1)                 0  0.000000     12\n",
      "6   (0, 1, 1, 0)                 0  0.000000      5\n",
      "7   (1, 0, 0, 0)              9280  0.276207  33598\n",
      "8   (1, 0, 0, 1)                 1  0.500000      2\n",
      "9   (1, 1, 0, 0)               218  0.392793    555\n",
      "10  (1, 1, 0, 1)                 0  0.000000      3\n"
     ]
    }
   ],
   "source": [
    "summarize_group(train, [\n",
    "    # '배아_생성_주요_이유',\n",
    "    '배아_생성_주요_이유_현재시술용',\n",
    "    '배아_생성_주요_이유_기증용',\n",
    "    '배아_생성_주요_이유_난자저장용',\n",
    "    '배아_생성_주요_이유_배아저장용'\n",
    "                        ])"
   ]
  },
  {
   "cell_type": "code",
   "execution_count": 72,
   "metadata": {},
   "outputs": [
    {
     "name": "stdout",
     "output_type": "stream",
     "text": [
      "\n",
      "배아_생성_주요_이유_현재시술용별 임신_성공_여부 비율 및 갯수\n",
      "\n",
      "                 0         1      0     1  Total\n",
      "variable                                        \n",
      "0         0.949279  0.050721   1778    95   1873\n",
      "1         0.721910  0.278090  24659  9499  34158\n"
     ]
    }
   ],
   "source": [
    "value_counts_ratio(train, '배아_생성_주요_이유_현재시술용')"
   ]
  },
  {
   "cell_type": "code",
   "execution_count": 73,
   "metadata": {},
   "outputs": [],
   "source": [
    "# # 변수 제거\n",
    "# train = train.drop(columns=['배아_생성_주요_이유'])\n",
    "# test = test.drop(columns=['배아_생성_주요_이유'])"
   ]
  },
  {
   "cell_type": "markdown",
   "metadata": {},
   "source": [
    "### 29. 총_시술_횟수"
   ]
  },
  {
   "cell_type": "markdown",
   "metadata": {},
   "source": [
    "IVF 및 DI 포함한 전체 시술 횟수"
   ]
  },
  {
   "cell_type": "code",
   "execution_count": 74,
   "metadata": {},
   "outputs": [
    {
     "name": "stdout",
     "output_type": "stream",
     "text": [
      "\n",
      "총_시술_횟수별 임신_성공_여부 비율 및 갯수\n",
      "\n",
      "                 0         1     0     1  Total\n",
      "variable                                       \n",
      "0회        0.707053  0.292947  9874  4091  13965\n",
      "1회        0.742655  0.257345  5890  2041   7931\n",
      "2회        0.738966  0.261034  3901  1378   5279\n",
      "3회        0.745338  0.254662  2558   874   3432\n",
      "4회        0.779605  0.220395  1659   469   2128\n",
      "5회        0.781296  0.218704  1061   297   1358\n",
      "6회 이상     0.770898  0.229102  1494   444   1938\n"
     ]
    }
   ],
   "source": [
    "value_counts_ratio(train, '총_시술_횟수')"
   ]
  },
  {
   "cell_type": "code",
   "execution_count": 75,
   "metadata": {},
   "outputs": [
    {
     "data": {
      "text/plain": [
       "0회       4910\n",
       "1회       2942\n",
       "2회       1896\n",
       "3회       1130\n",
       "4회        750\n",
       "6회 이상     667\n",
       "5회        469\n",
       "Name: 총_시술_횟수, dtype: int64"
      ]
     },
     "execution_count": 75,
     "metadata": {},
     "output_type": "execute_result"
    }
   ],
   "source": [
    "test['총_시술_횟수'].value_counts()"
   ]
  },
  {
   "cell_type": "code",
   "execution_count": 76,
   "metadata": {},
   "outputs": [
    {
     "name": "stdout",
     "output_type": "stream",
     "text": [
      "\n",
      "총_시술_횟수별 임신_성공_여부 비율 및 갯수\n",
      "\n",
      "                 0         1     0     1  Total\n",
      "variable                                       \n",
      "0         0.707053  0.292947  9874  4091  13965\n",
      "1         0.742655  0.257345  5890  2041   7931\n",
      "2         0.738966  0.261034  3901  1378   5279\n",
      "3         0.745338  0.254662  2558   874   3432\n",
      "4         0.779605  0.220395  1659   469   2128\n",
      "5         0.781296  0.218704  1061   297   1358\n",
      "6         0.770898  0.229102  1494   444   1938\n"
     ]
    }
   ],
   "source": [
    "# 숫자 매핑\n",
    "mapping = {\n",
    "    '0회': 0,\n",
    "    '1회': 1,\n",
    "    '2회': 2,\n",
    "    '3회': 3,\n",
    "    '4회': 4,\n",
    "    '5회': 5,\n",
    "    '6회 이상': 6\n",
    "}\n",
    "\n",
    "# 숫자로 변환\n",
    "train['총_시술_횟수'] = train['총_시술_횟수'].map(mapping)\n",
    "test['총_시술_횟수'] = test['총_시술_횟수'].map(mapping)\n",
    "\n",
    "value_counts_ratio(train, '총_시술_횟수')"
   ]
  },
  {
   "cell_type": "markdown",
   "metadata": {},
   "source": [
    "### 30. 클리닉_내_총_시술_횟수"
   ]
  },
  {
   "cell_type": "markdown",
   "metadata": {},
   "source": [
    "특정 클리닉에서 받은 IVF 및 DI 시술 횟수"
   ]
  },
  {
   "cell_type": "code",
   "execution_count": 77,
   "metadata": {},
   "outputs": [
    {
     "name": "stdout",
     "output_type": "stream",
     "text": [
      "\n",
      "클리닉_내_총_시술_횟수별 임신_성공_여부 비율 및 갯수\n",
      "\n",
      "                 0         1      0     1  Total\n",
      "variable                                        \n",
      "0회        0.712060  0.287940  12340  4990  17330\n",
      "1회        0.745892  0.254108   6264  2134   8398\n",
      "2회        0.749683  0.250317   3546  1184   4730\n",
      "3회        0.755896  0.244104   1923   621   2544\n",
      "4회        0.783505  0.216495   1064   294   1358\n",
      "5회        0.783602  0.216398    583   161    744\n",
      "6회 이상     0.773463  0.226537    717   210    927\n"
     ]
    }
   ],
   "source": [
    "value_counts_ratio(train, '클리닉_내_총_시술_횟수')"
   ]
  },
  {
   "cell_type": "code",
   "execution_count": 78,
   "metadata": {},
   "outputs": [
    {
     "name": "stdout",
     "output_type": "stream",
     "text": [
      "\n",
      "클리닉_내_총_시술_횟수별 임신_성공_여부 비율 및 갯수\n",
      "\n",
      "                 0         1      0     1  Total\n",
      "variable                                        \n",
      "0         0.712060  0.287940  12340  4990  17330\n",
      "1         0.745892  0.254108   6264  2134   8398\n",
      "2         0.749683  0.250317   3546  1184   4730\n",
      "3         0.755896  0.244104   1923   621   2544\n",
      "4         0.783505  0.216495   1064   294   1358\n",
      "5         0.783602  0.216398    583   161    744\n",
      "6         0.773463  0.226537    717   210    927\n"
     ]
    }
   ],
   "source": [
    "# 숫자 매핑\n",
    "mapping = {\n",
    "    '0회': 0,\n",
    "    '1회': 1,\n",
    "    '2회': 2,\n",
    "    '3회': 3,\n",
    "    '4회': 4,\n",
    "    '5회': 5,\n",
    "    '6회 이상': 6\n",
    "}\n",
    "\n",
    "# 숫자로 변환\n",
    "train['클리닉_내_총_시술_횟수'] = train['클리닉_내_총_시술_횟수'].map(mapping)\n",
    "test['클리닉_내_총_시술_횟수'] = test['클리닉_내_총_시술_횟수'].map(mapping)\n",
    "\n",
    "value_counts_ratio(train, '클리닉_내_총_시술_횟수')"
   ]
  },
  {
   "cell_type": "markdown",
   "metadata": {},
   "source": [
    "### 31. IVF_시술_횟수"
   ]
  },
  {
   "cell_type": "markdown",
   "metadata": {},
   "source": [
    "이전에 수행된 IVF 시술 횟수"
   ]
  },
  {
   "cell_type": "code",
   "execution_count": 79,
   "metadata": {},
   "outputs": [
    {
     "name": "stdout",
     "output_type": "stream",
     "text": [
      "\n",
      "IVF_시술_횟수별 임신_성공_여부 비율 및 갯수\n",
      "\n",
      "                 0         1      0     1  Total\n",
      "variable                                        \n",
      "0회        0.712905  0.287095  10551  4249  14800\n",
      "1회        0.741698  0.258302   6053  2108   8161\n",
      "2회        0.737919  0.262081   3894  1383   5277\n",
      "3회        0.742822  0.257178   2432   842   3274\n",
      "4회        0.771218  0.228782   1463   434   1897\n",
      "5회        0.784062  0.215938    915   252   1167\n",
      "6회 이상     0.775945  0.224055   1129   326   1455\n"
     ]
    }
   ],
   "source": [
    "value_counts_ratio(train, 'IVF_시술_횟수')"
   ]
  },
  {
   "cell_type": "code",
   "execution_count": 80,
   "metadata": {},
   "outputs": [
    {
     "name": "stdout",
     "output_type": "stream",
     "text": [
      "\n",
      "IVF_시술_횟수별 임신_성공_여부 비율 및 갯수\n",
      "\n",
      "                 0         1      0     1  Total\n",
      "variable                                        \n",
      "0         0.712905  0.287095  10551  4249  14800\n",
      "1         0.741698  0.258302   6053  2108   8161\n",
      "2         0.737919  0.262081   3894  1383   5277\n",
      "3         0.742822  0.257178   2432   842   3274\n",
      "4         0.771218  0.228782   1463   434   1897\n",
      "5         0.784062  0.215938    915   252   1167\n",
      "6         0.775945  0.224055   1129   326   1455\n"
     ]
    }
   ],
   "source": [
    "# 숫자 매핑\n",
    "mapping = {\n",
    "    '0회': 0,\n",
    "    '1회': 1,\n",
    "    '2회': 2,\n",
    "    '3회': 3,\n",
    "    '4회': 4,\n",
    "    '5회': 5,\n",
    "    '6회 이상': 6\n",
    "}\n",
    "\n",
    "# 숫자로 변환\n",
    "train['IVF_시술_횟수'] = train['IVF_시술_횟수'].map(mapping)\n",
    "test['IVF_시술_횟수'] = test['IVF_시술_횟수'].map(mapping)\n",
    "\n",
    "value_counts_ratio(train, 'IVF_시술_횟수')"
   ]
  },
  {
   "cell_type": "markdown",
   "metadata": {},
   "source": [
    "### 32. DI_시술_횟수"
   ]
  },
  {
   "cell_type": "markdown",
   "metadata": {},
   "source": [
    "이전에 수행된 DI 시술 횟수"
   ]
  },
  {
   "cell_type": "code",
   "execution_count": 81,
   "metadata": {},
   "outputs": [
    {
     "name": "stdout",
     "output_type": "stream",
     "text": [
      "\n",
      "DI_시술_횟수별 임신_성공_여부 비율 및 갯수\n",
      "\n",
      "                 0         1      0     1  Total\n",
      "variable                                        \n",
      "0회        0.730421  0.269579  24911  9194  34105\n",
      "1회        0.818824  0.181176    348    77    425\n",
      "2회        0.796020  0.203980    320    82    402\n",
      "3회        0.794457  0.205543    344    89    433\n",
      "4회        0.784861  0.215139    197    54    251\n",
      "5회        0.804878  0.195122    132    32    164\n",
      "6회 이상     0.737052  0.262948    185    66    251\n"
     ]
    }
   ],
   "source": [
    "value_counts_ratio(train, 'DI_시술_횟수')"
   ]
  },
  {
   "cell_type": "code",
   "execution_count": 82,
   "metadata": {},
   "outputs": [
    {
     "name": "stdout",
     "output_type": "stream",
     "text": [
      "\n",
      "DI_시술_횟수별 임신_성공_여부 비율 및 갯수\n",
      "\n",
      "                 0         1      0     1  Total\n",
      "variable                                        \n",
      "0         0.730421  0.269579  24911  9194  34105\n",
      "1         0.818824  0.181176    348    77    425\n",
      "2         0.796020  0.203980    320    82    402\n",
      "3         0.794457  0.205543    344    89    433\n",
      "4         0.784861  0.215139    197    54    251\n",
      "5         0.804878  0.195122    132    32    164\n",
      "6         0.737052  0.262948    185    66    251\n"
     ]
    }
   ],
   "source": [
    "# 숫자 매핑\n",
    "mapping = {\n",
    "    '0회': 0,\n",
    "    '1회': 1,\n",
    "    '2회': 2,\n",
    "    '3회': 3,\n",
    "    '4회': 4,\n",
    "    '5회': 5,\n",
    "    '6회 이상': 6\n",
    "}\n",
    "\n",
    "# 숫자로 변환\n",
    "train['DI_시술_횟수'] = train['DI_시술_횟수'].map(mapping)\n",
    "test['DI_시술_횟수'] = test['DI_시술_횟수'].map(mapping)\n",
    "\n",
    "value_counts_ratio(train, 'DI_시술_횟수')"
   ]
  },
  {
   "cell_type": "markdown",
   "metadata": {},
   "source": [
    "### 33. 총_임신_횟수"
   ]
  },
  {
   "cell_type": "markdown",
   "metadata": {},
   "source": [
    "IVF 및 DI 포함한 총 임신 횟수"
   ]
  },
  {
   "cell_type": "code",
   "execution_count": 83,
   "metadata": {},
   "outputs": [
    {
     "name": "stdout",
     "output_type": "stream",
     "text": [
      "\n",
      "총_임신_횟수별 임신_성공_여부 비율 및 갯수\n"
     ]
    },
    {
     "name": "stdout",
     "output_type": "stream",
     "text": [
      "\n",
      "                 0         1      0     1  Total\n",
      "variable                                        \n",
      "0회        0.734108  0.265892  21168  7667  28835\n",
      "1회        0.731370  0.268630   4544  1669   6213\n",
      "2회        0.733880  0.266120    626   227    853\n",
      "3회        0.750000  0.250000     90    30    120\n",
      "4회        0.900000  0.100000      9     1     10\n"
     ]
    }
   ],
   "source": [
    "value_counts_ratio(train, '총_임신_횟수')"
   ]
  },
  {
   "cell_type": "code",
   "execution_count": 84,
   "metadata": {},
   "outputs": [
    {
     "name": "stdout",
     "output_type": "stream",
     "text": [
      "\n",
      "총_임신_횟수별 임신_성공_여부 비율 및 갯수\n",
      "\n",
      "                 0         1      0     1  Total\n",
      "variable                                        \n",
      "0         0.734108  0.265892  21168  7667  28835\n",
      "1         0.731370  0.268630   4544  1669   6213\n",
      "2         0.733880  0.266120    626   227    853\n",
      "3         0.750000  0.250000     90    30    120\n",
      "4         0.900000  0.100000      9     1     10\n"
     ]
    }
   ],
   "source": [
    "# 숫자 매핑\n",
    "mapping = {\n",
    "    '0회': 0,\n",
    "    '1회': 1,\n",
    "    '2회': 2,\n",
    "    '3회': 3,\n",
    "    '4회': 4,\n",
    "    '5회': 5,\n",
    "    '6회 이상': 6\n",
    "}\n",
    "\n",
    "# 숫자로 변환\n",
    "train['총_임신_횟수'] = train['총_임신_횟수'].map(mapping)\n",
    "test['총_임신_횟수'] = test['총_임신_횟수'].map(mapping)\n",
    "\n",
    "value_counts_ratio(train, '총_임신_횟수')"
   ]
  },
  {
   "cell_type": "markdown",
   "metadata": {},
   "source": [
    "### 34. IVF_임신_횟수"
   ]
  },
  {
   "cell_type": "markdown",
   "metadata": {},
   "source": [
    "IVF 시술로 인한 임신 횟수"
   ]
  },
  {
   "cell_type": "code",
   "execution_count": 85,
   "metadata": {},
   "outputs": [
    {
     "name": "stdout",
     "output_type": "stream",
     "text": [
      "\n",
      "IVF_임신_횟수별 임신_성공_여부 비율 및 갯수\n",
      "\n",
      "                 0         1      0     1  Total\n",
      "variable                                        \n",
      "0회        0.735191  0.264809  21508  7747  29255\n",
      "1회        0.725999  0.274001   4250  1604   5854\n",
      "2회        0.732759  0.267241    595   217    812\n",
      "3회        0.757282  0.242718     78    25    103\n",
      "4회        0.857143  0.142857      6     1      7\n"
     ]
    }
   ],
   "source": [
    "value_counts_ratio(train, 'IVF_임신_횟수')"
   ]
  },
  {
   "cell_type": "code",
   "execution_count": 86,
   "metadata": {},
   "outputs": [
    {
     "name": "stdout",
     "output_type": "stream",
     "text": [
      "\n",
      "IVF_임신_횟수별 임신_성공_여부 비율 및 갯수\n",
      "\n",
      "                 0         1      0     1  Total\n",
      "variable                                        \n",
      "0         0.735191  0.264809  21508  7747  29255\n",
      "1         0.725999  0.274001   4250  1604   5854\n",
      "2         0.732759  0.267241    595   217    812\n",
      "3         0.757282  0.242718     78    25    103\n",
      "4         0.857143  0.142857      6     1      7\n"
     ]
    }
   ],
   "source": [
    "# 숫자 매핑\n",
    "mapping = {\n",
    "    '0회': 0,\n",
    "    '1회': 1,\n",
    "    '2회': 2,\n",
    "    '3회': 3,\n",
    "    '4회': 4,\n",
    "    '5회': 5,\n",
    "    '6회 이상': 6\n",
    "}\n",
    "\n",
    "# 숫자로 변환\n",
    "train['IVF_임신_횟수'] = train['IVF_임신_횟수'].map(mapping)\n",
    "test['IVF_임신_횟수'] = test['IVF_임신_횟수'].map(mapping)\n",
    "\n",
    "value_counts_ratio(train, 'IVF_임신_횟수')"
   ]
  },
  {
   "cell_type": "markdown",
   "metadata": {},
   "source": [
    "### 35. DI_임신_횟수"
   ]
  },
  {
   "cell_type": "markdown",
   "metadata": {},
   "source": [
    "DI 시술로 인한 임신 횟수"
   ]
  },
  {
   "cell_type": "code",
   "execution_count": 87,
   "metadata": {},
   "outputs": [
    {
     "name": "stdout",
     "output_type": "stream",
     "text": [
      "\n",
      "DI_임신_횟수별 임신_성공_여부 비율 및 갯수\n",
      "\n",
      "                 0         1        0       1  Total\n",
      "variable                                            \n",
      "0회        0.732893  0.267107  26091.0  9509.0  35600\n",
      "1회        0.806452  0.193548    300.0    72.0    372\n",
      "2회        0.760870  0.239130     35.0    11.0     46\n",
      "3회        0.833333  0.166667     10.0     2.0     12\n",
      "4회        1.000000  0.000000      1.0     0.0      1\n"
     ]
    }
   ],
   "source": [
    "value_counts_ratio(train, 'DI_임신_횟수')"
   ]
  },
  {
   "cell_type": "code",
   "execution_count": 88,
   "metadata": {},
   "outputs": [
    {
     "name": "stdout",
     "output_type": "stream",
     "text": [
      "\n",
      "DI_임신_횟수별 임신_성공_여부 비율 및 갯수\n",
      "\n",
      "                 0         1        0       1  Total\n",
      "variable                                            \n",
      "0         0.732893  0.267107  26091.0  9509.0  35600\n",
      "1         0.806452  0.193548    300.0    72.0    372\n",
      "2         0.760870  0.239130     35.0    11.0     46\n",
      "3         0.833333  0.166667     10.0     2.0     12\n",
      "4         1.000000  0.000000      1.0     0.0      1\n"
     ]
    }
   ],
   "source": [
    "# 숫자 매핑\n",
    "mapping = {\n",
    "    '0회': 0,\n",
    "    '1회': 1,\n",
    "    '2회': 2,\n",
    "    '3회': 3,\n",
    "    '4회': 4,\n",
    "    '5회': 5\n",
    "}\n",
    "\n",
    "# 숫자로 변환\n",
    "train['DI_임신_횟수'] = train['DI_임신_횟수'].map(mapping)\n",
    "test['DI_임신_횟수'] = test['DI_임신_횟수'].map(mapping)\n",
    "\n",
    "value_counts_ratio(train, 'DI_임신_횟수')"
   ]
  },
  {
   "cell_type": "markdown",
   "metadata": {},
   "source": [
    "### 36. 총_출산_횟수"
   ]
  },
  {
   "cell_type": "markdown",
   "metadata": {},
   "source": [
    "IVF 및 DI 시술로 출산한 횟수"
   ]
  },
  {
   "cell_type": "code",
   "execution_count": 89,
   "metadata": {},
   "outputs": [
    {
     "name": "stdout",
     "output_type": "stream",
     "text": [
      "\n",
      "총_출산_횟수별 임신_성공_여부 비율 및 갯수\n",
      "\n",
      "                 0         1      0     1  Total\n",
      "variable                                        \n",
      "0회        0.734123  0.265877  22553  8168  30721\n",
      "1회        0.731202  0.268798   3637  1337   4974\n",
      "2회        0.734177  0.265823    232    84    316\n",
      "3회        0.750000  0.250000     15     5     20\n"
     ]
    }
   ],
   "source": [
    "value_counts_ratio(train, '총_출산_횟수')"
   ]
  },
  {
   "cell_type": "code",
   "execution_count": 90,
   "metadata": {},
   "outputs": [
    {
     "name": "stdout",
     "output_type": "stream",
     "text": [
      "\n",
      "총_출산_횟수별 임신_성공_여부 비율 및 갯수\n",
      "\n",
      "                 0         1      0     1  Total\n",
      "variable                                        \n",
      "0         0.734123  0.265877  22553  8168  30721\n",
      "1         0.731202  0.268798   3637  1337   4974\n",
      "2         0.734177  0.265823    232    84    316\n",
      "3         0.750000  0.250000     15     5     20\n"
     ]
    }
   ],
   "source": [
    "# 숫자 매핑\n",
    "mapping = {\n",
    "    '0회': 0,\n",
    "    '1회': 1,\n",
    "    '2회': 2,\n",
    "    '3회': 3,\n",
    "    '4회': 4,\n",
    "    '5회': 5,\n",
    "    '6회 이상': 6\n",
    "}\n",
    "\n",
    "# 숫자로 변환\n",
    "train['총_출산_횟수'] = train['총_출산_횟수'].map(mapping)\n",
    "test['총_출산_횟수'] = test['총_출산_횟수'].map(mapping)\n",
    "\n",
    "value_counts_ratio(train, '총_출산_횟수')"
   ]
  },
  {
   "cell_type": "markdown",
   "metadata": {},
   "source": [
    "### 37. IVF_출산_횟수"
   ]
  },
  {
   "cell_type": "markdown",
   "metadata": {},
   "source": [
    "IVF 시술로 출산한 횟수"
   ]
  },
  {
   "cell_type": "code",
   "execution_count": 91,
   "metadata": {},
   "outputs": [
    {
     "name": "stdout",
     "output_type": "stream",
     "text": [
      "\n",
      "IVF_출산_횟수별 임신_성공_여부 비율 및 갯수\n",
      "\n",
      "                 0         1      0     1  Total\n",
      "variable                                        \n",
      "0회        0.734665  0.265335  22804  8236  31040\n",
      "1회        0.727234  0.272766   3410  1279   4689\n",
      "2회        0.740484  0.259516    214    75    289\n",
      "3회        0.692308  0.307692      9     4     13\n"
     ]
    }
   ],
   "source": [
    "value_counts_ratio(train, 'IVF_출산_횟수')"
   ]
  },
  {
   "cell_type": "code",
   "execution_count": 92,
   "metadata": {},
   "outputs": [
    {
     "name": "stdout",
     "output_type": "stream",
     "text": [
      "\n",
      "IVF_출산_횟수별 임신_성공_여부 비율 및 갯수\n",
      "\n",
      "                 0         1      0     1  Total\n",
      "variable                                        \n",
      "0         0.734665  0.265335  22804  8236  31040\n",
      "1         0.727234  0.272766   3410  1279   4689\n",
      "2         0.740484  0.259516    214    75    289\n",
      "3         0.692308  0.307692      9     4     13\n"
     ]
    }
   ],
   "source": [
    "# 숫자 매핑\n",
    "mapping = {\n",
    "    '0회': 0,\n",
    "    '1회': 1,\n",
    "    '2회': 2,\n",
    "    '3회': 3,\n",
    "    '4회': 4,\n",
    "    '5회': 5\n",
    "}\n",
    "\n",
    "# 숫자로 변환\n",
    "train['IVF_출산_횟수'] = train['IVF_출산_횟수'].map(mapping)\n",
    "test['IVF_출산_횟수'] = test['IVF_출산_횟수'].map(mapping)\n",
    "\n",
    "value_counts_ratio(train, 'IVF_출산_횟수')"
   ]
  },
  {
   "cell_type": "code",
   "execution_count": 93,
   "metadata": {},
   "outputs": [
    {
     "data": {
      "text/plain": [
       "0    10979\n",
       "1     1686\n",
       "2       93\n",
       "3        6\n",
       "Name: IVF_출산_횟수, dtype: int64"
      ]
     },
     "execution_count": 93,
     "metadata": {},
     "output_type": "execute_result"
    }
   ],
   "source": [
    "test['IVF_출산_횟수'].value_counts()"
   ]
  },
  {
   "cell_type": "markdown",
   "metadata": {},
   "source": [
    "### 38. DI_출산_횟수"
   ]
  },
  {
   "cell_type": "markdown",
   "metadata": {},
   "source": [
    "DI 시술로 출산한 횟수"
   ]
  },
  {
   "cell_type": "code",
   "execution_count": 94,
   "metadata": {},
   "outputs": [
    {
     "name": "stdout",
     "output_type": "stream",
     "text": [
      "\n",
      "DI_출산_횟수별 임신_성공_여부 비율 및 갯수\n",
      "\n",
      "                 0         1        0       1  Total\n",
      "variable                                            \n",
      "0회        0.733302  0.266698  26184.0  9523.0  35707\n",
      "1회        0.784247  0.215753    229.0    63.0    292\n",
      "2회        0.714286  0.285714     20.0     8.0     28\n",
      "3회        1.000000  0.000000      4.0     0.0      4\n"
     ]
    }
   ],
   "source": [
    "value_counts_ratio(train, 'DI_출산_횟수')"
   ]
  },
  {
   "cell_type": "code",
   "execution_count": 95,
   "metadata": {},
   "outputs": [
    {
     "name": "stdout",
     "output_type": "stream",
     "text": [
      "\n",
      "DI_출산_횟수별 임신_성공_여부 비율 및 갯수\n",
      "\n",
      "                 0         1        0       1  Total\n",
      "variable                                            \n",
      "0         0.733302  0.266698  26184.0  9523.0  35707\n",
      "1         0.784247  0.215753    229.0    63.0    292\n",
      "2         0.714286  0.285714     20.0     8.0     28\n",
      "3         1.000000  0.000000      4.0     0.0      4\n"
     ]
    }
   ],
   "source": [
    "# 숫자 매핑\n",
    "mapping = {\n",
    "    '0회': 0,\n",
    "    '1회': 1,\n",
    "    '2회': 2,\n",
    "    '3회': 3,\n",
    "    '4회': 4,\n",
    "    '5회': 5\n",
    "}\n",
    "\n",
    "# 숫자로 변환\n",
    "train['DI_출산_횟수'] = train['DI_출산_횟수'].map(mapping)\n",
    "test['DI_출산_횟수'] = test['DI_출산_횟수'].map(mapping)\n",
    "\n",
    "value_counts_ratio(train, 'DI_출산_횟수')"
   ]
  },
  {
   "cell_type": "code",
   "execution_count": 96,
   "metadata": {},
   "outputs": [
    {
     "data": {
      "text/plain": [
       "0    12667\n",
       "1       93\n",
       "2        4\n",
       "Name: DI_출산_횟수, dtype: int64"
      ]
     },
     "execution_count": 96,
     "metadata": {},
     "output_type": "execute_result"
    }
   ],
   "source": [
    "test['DI_출산_횟수'].value_counts()"
   ]
  },
  {
   "cell_type": "code",
   "execution_count": 97,
   "metadata": {},
   "outputs": [],
   "source": [
    "# # 모든 행과 열을 다 보이게 설정\n",
    "# pd.set_option('display.max_rows', None)\n",
    "# pd.set_option('display.max_columns', None)"
   ]
  },
  {
   "cell_type": "code",
   "execution_count": 98,
   "metadata": {},
   "outputs": [],
   "source": [
    "# summarize_group(train, ['IVF_시술_횟수', 'IVF_임신_횟수', 'IVF_출산_횟수'])"
   ]
  },
  {
   "cell_type": "code",
   "execution_count": 99,
   "metadata": {},
   "outputs": [],
   "source": [
    "# 주요 비율 계산 (train 데이터프레임)\n",
    "train['IVF_임신_시술_비율'] = np.where(train['IVF_시술_횟수'] > 0, train['IVF_임신_횟수'] / train['IVF_시술_횟수'], 0)\n",
    "train['IVF_출산_임신_비율'] = np.where(train['IVF_임신_횟수'] > 0, train['IVF_출산_횟수'] / train['IVF_임신_횟수'], 0)\n",
    "\n",
    "train['DI_임신_시술_비율'] = np.where(train['DI_시술_횟수'] > 0, train['DI_임신_횟수'] / train['DI_시술_횟수'], 0)\n",
    "train['DI_출산_임신_비율'] = np.where(train['DI_임신_횟수'] > 0, train['DI_출산_횟수'] / train['DI_임신_횟수'], 0)\n",
    "\n",
    "# 성공률 계산\n",
    "train['임신_성공률'] = np.where(train['총_시술_횟수'] > 0, train['총_임신_횟수'] / train['총_시술_횟수'], 0)\n",
    "train['출산_성공률'] = np.where(train['총_임신_횟수'] > 0, train['총_출산_횟수'] / train['총_임신_횟수'], 0)\n",
    "\n",
    "# 주요 비율 계산 (test 데이터프레임)\n",
    "test['IVF_임신_시술_비율'] = np.where(test['IVF_시술_횟수'] > 0, test['IVF_임신_횟수'] / test['IVF_시술_횟수'], 0)\n",
    "test['IVF_출산_임신_비율'] = np.where(test['IVF_임신_횟수'] > 0, test['IVF_출산_횟수'] / test['IVF_임신_횟수'], 0)\n",
    "\n",
    "test['DI_임신_시술_비율'] = np.where(test['DI_시술_횟수'] > 0, test['DI_임신_횟수'] / test['DI_시술_횟수'], 0)\n",
    "test['DI_출산_임신_비율'] = np.where(test['DI_임신_횟수'] > 0, test['DI_출산_횟수'] / test['DI_임신_횟수'], 0)\n",
    "\n",
    "# 성공률 계산\n",
    "test['임신_성공률'] = np.where(test['총_시술_횟수'] > 0, test['총_임신_횟수'] / test['총_시술_횟수'], 0)\n",
    "test['출산_성공률'] = np.where(test['총_임신_횟수'] > 0, test['총_출산_횟수'] / test['총_임신_횟수'], 0)"
   ]
  },
  {
   "cell_type": "markdown",
   "metadata": {},
   "source": [
    "### 39. 총_생성_배아_수"
   ]
  },
  {
   "cell_type": "markdown",
   "metadata": {},
   "source": [
    "해당 시술에서 생성된 배아의 총 개수"
   ]
  },
  {
   "cell_type": "code",
   "execution_count": 100,
   "metadata": {},
   "outputs": [
    {
     "name": "stdout",
     "output_type": "stream",
     "text": [
      "\n",
      "총_생성_배아_수별 임신_성공_여부 비율 및 갯수\n",
      "\n",
      "                 0         1       0       1  Total\n",
      "variable                                           \n",
      "0.0       0.828922  0.171078  6013.0  1241.0   7254\n",
      "1.0       0.900500  0.099500  1801.0   199.0   2000\n",
      "2.0       0.823155  0.176845  2197.0   472.0   2669\n",
      "3.0       0.747069  0.252931  2230.0   755.0   2985\n",
      "4.0       0.702079  0.297921  2161.0   917.0   3078\n",
      "5.0       0.691830  0.308170  2007.0   894.0   2901\n",
      "6.0       0.664190  0.335810  1788.0   904.0   2692\n",
      "7.0       0.659374  0.340626  1537.0   794.0   2331\n",
      "8.0       0.650590  0.349410  1268.0   681.0   1949\n",
      "9.0       0.646263  0.353737  1003.0   549.0   1552\n",
      "10.0      0.628592  0.371408   853.0   504.0   1357\n",
      "11.0      0.618911  0.381089   648.0   399.0   1047\n",
      "12.0      0.619458  0.380542   503.0   309.0    812\n",
      "13.0      0.617600  0.382400   386.0   239.0    625\n",
      "14.0      0.662309  0.337691   304.0   155.0    459\n",
      "15.0      0.633136  0.366864   214.0   124.0    338\n",
      "16.0      0.645695  0.354305   195.0   107.0    302\n",
      "17.0      0.632287  0.367713   141.0    82.0    223\n",
      "18.0      0.687075  0.312925   101.0    46.0    147\n",
      "19.0      0.720339  0.279661    85.0    33.0    118\n",
      "20.0      0.700000  0.300000    63.0    27.0     90\n",
      "21.0      0.681818  0.318182    45.0    21.0     66\n",
      "22.0      0.695652  0.304348    32.0    14.0     46\n",
      "23.0      0.775000  0.225000    31.0     9.0     40\n",
      "24.0      0.666667  0.333333    18.0     9.0     27\n",
      "25.0      0.862069  0.137931    25.0     4.0     29\n",
      "26.0      0.571429  0.428571     8.0     6.0     14\n",
      "27.0      0.833333  0.166667    10.0     2.0     12\n",
      "28.0      0.750000  0.250000     6.0     2.0      8\n",
      "29.0      0.833333  0.166667     5.0     1.0      6\n",
      "30.0      1.000000  0.000000     5.0     0.0      5\n",
      "31.0      1.000000  0.000000     2.0     0.0      2\n",
      "32.0      1.000000  0.000000     4.0     0.0      4\n",
      "33.0      1.000000  0.000000     1.0     0.0      1\n",
      "37.0      1.000000  0.000000     1.0     0.0      1\n",
      "38.0      1.000000  0.000000     1.0     0.0      1\n",
      "41.0      1.000000  0.000000     1.0     0.0      1\n"
     ]
    }
   ],
   "source": [
    "value_counts_ratio(train, '총_생성_배아_수')"
   ]
  },
  {
   "cell_type": "markdown",
   "metadata": {},
   "source": [
    "### 40. 미세주입된_난자_수"
   ]
  },
  {
   "cell_type": "markdown",
   "metadata": {},
   "source": [
    "정자 미세주입(ICSI)으로 처리된 난자의 수"
   ]
  },
  {
   "cell_type": "code",
   "execution_count": 101,
   "metadata": {},
   "outputs": [
    {
     "name": "stdout",
     "output_type": "stream",
     "text": [
      "\n",
      "미세주입된_난자_수별 임신_성공_여부 비율 및 갯수\n",
      "\n",
      "                 0         1        0       1  Total\n",
      "variable                                            \n",
      "0.0       0.745830  0.254170  13460.0  4587.0  18047\n",
      "1.0       0.949550  0.050450    527.0    28.0    555\n",
      "2.0       0.892025  0.107975    727.0    88.0    815\n",
      "3.0       0.828408  0.171592    869.0   180.0   1049\n",
      "4.0       0.763061  0.236939   1037.0   322.0   1359\n",
      "5.0       0.724404  0.275596   1125.0   428.0   1553\n",
      "6.0       0.712192  0.287808   1069.0   432.0   1501\n",
      "7.0       0.672578  0.327422    986.0   480.0   1466\n",
      "8.0       0.692478  0.307522    939.0   417.0   1356\n",
      "9.0       0.674494  0.325506    833.0   402.0   1235\n",
      "10.0      0.665785  0.334215    755.0   379.0   1134\n",
      "11.0      0.635542  0.364458    633.0   363.0    996\n",
      "12.0      0.648508  0.351492    500.0   271.0    771\n",
      "13.0      0.628305  0.371695    404.0   239.0    643\n",
      "14.0      0.657993  0.342007    354.0   184.0    538\n",
      "15.0      0.665198  0.334802    302.0   152.0    454\n",
      "16.0      0.646465  0.353535    256.0   140.0    396\n",
      "17.0      0.635452  0.364548    190.0   109.0    299\n",
      "18.0      0.706977  0.293023    152.0    63.0    215\n",
      "19.0      0.662338  0.337662    102.0    52.0    154\n",
      "20.0      0.651515  0.348485     86.0    46.0    132\n",
      "21.0      0.656489  0.343511     86.0    45.0    131\n",
      "22.0      0.696203  0.303797     55.0    24.0     79\n",
      "23.0      0.750000  0.250000     51.0    17.0     68\n",
      "24.0      0.860000  0.140000     43.0     7.0     50\n",
      "25.0      0.687500  0.312500     22.0    10.0     32\n",
      "26.0      0.787879  0.212121     26.0     7.0     33\n",
      "27.0      0.750000  0.250000     15.0     5.0     20\n",
      "28.0      0.826087  0.173913     19.0     4.0     23\n",
      "29.0      0.814815  0.185185     22.0     5.0     27\n",
      "30.0      0.692308  0.307692      9.0     4.0     13\n",
      "31.0      0.700000  0.300000      7.0     3.0     10\n",
      "32.0      0.888889  0.111111      8.0     1.0      9\n",
      "33.0      0.777778  0.222222      7.0     2.0      9\n",
      "34.0      0.800000  0.200000      4.0     1.0      5\n",
      "35.0      0.333333  0.666667      1.0     2.0      3\n",
      "36.0      1.000000  0.000000      4.0     0.0      4\n",
      "37.0      1.000000  0.000000      1.0     0.0      1\n",
      "38.0      1.000000  0.000000      2.0     0.0      2\n",
      "39.0      1.000000  0.000000      1.0     0.0      1\n",
      "40.0      1.000000  0.000000      1.0     0.0      1\n",
      "43.0      1.000000  0.000000      1.0     0.0      1\n",
      "44.0      1.000000  0.000000      1.0     0.0      1\n",
      "48.0      1.000000  0.000000      1.0     0.0      1\n"
     ]
    }
   ],
   "source": [
    "value_counts_ratio(train, '미세주입된_난자_수')"
   ]
  },
  {
   "cell_type": "markdown",
   "metadata": {},
   "source": [
    "### 41. 미세주입에서_생성된_배아_수"
   ]
  },
  {
   "cell_type": "markdown",
   "metadata": {},
   "source": [
    "ICSI를 통해 생성된 배아의 수"
   ]
  },
  {
   "cell_type": "code",
   "execution_count": 102,
   "metadata": {},
   "outputs": [
    {
     "name": "stdout",
     "output_type": "stream",
     "text": [
      "\n",
      "미세주입에서_생성된_배아_수별 임신_성공_여부 비율 및 갯수\n",
      "\n",
      "                 0         1        0       1  Total\n",
      "variable                                            \n",
      "0.0       0.752921  0.247079  13984.0  4589.0  18573\n",
      "1.0       0.900081  0.099919   1117.0   124.0   1241\n",
      "2.0       0.820483  0.179517   1426.0   312.0   1738\n",
      "3.0       0.747056  0.252944   1459.0   494.0   1953\n",
      "4.0       0.698672  0.301328   1368.0   590.0   1958\n",
      "5.0       0.680000  0.320000   1258.0   592.0   1850\n",
      "6.0       0.648148  0.351852   1085.0   589.0   1674\n",
      "7.0       0.659026  0.340974    920.0   476.0   1396\n",
      "8.0       0.645018  0.354982    725.0   399.0   1124\n",
      "9.0       0.653364  0.346636    573.0   304.0    877\n",
      "10.0      0.615272  0.384728    419.0   262.0    681\n",
      "11.0      0.603416  0.396584    318.0   209.0    527\n",
      "12.0      0.625604  0.374396    259.0   155.0    414\n",
      "13.0      0.630508  0.369492    186.0   109.0    295\n",
      "14.0      0.636752  0.363248    149.0    85.0    234\n",
      "15.0      0.668831  0.331169    103.0    51.0    154\n",
      "16.0      0.705479  0.294521    103.0    43.0    146\n",
      "17.0      0.628866  0.371134     61.0    36.0     97\n",
      "18.0      0.692308  0.307692     45.0    20.0     65\n",
      "19.0      0.740000  0.260000     37.0    13.0     50\n",
      "20.0      0.605263  0.394737     23.0    15.0     38\n",
      "21.0      0.545455  0.454545     12.0    10.0     22\n",
      "22.0      0.777778  0.222222     14.0     4.0     18\n",
      "23.0      0.736842  0.263158     14.0     5.0     19\n",
      "24.0      0.666667  0.333333      8.0     4.0     12\n",
      "25.0      0.727273  0.272727      8.0     3.0     11\n",
      "26.0      0.428571  0.571429      3.0     4.0      7\n",
      "27.0      0.875000  0.125000      7.0     1.0      8\n",
      "28.0      0.500000  0.500000      1.0     1.0      2\n",
      "29.0      1.000000  0.000000      2.0     0.0      2\n",
      "30.0      1.000000  0.000000      2.0     0.0      2\n",
      "31.0      1.000000  0.000000      1.0     0.0      1\n",
      "32.0      1.000000  0.000000      2.0     0.0      2\n",
      "41.0      1.000000  0.000000      1.0     0.0      1\n"
     ]
    }
   ],
   "source": [
    "value_counts_ratio(train, '미세주입에서_생성된_배아_수')"
   ]
  },
  {
   "cell_type": "markdown",
   "metadata": {},
   "source": [
    "### 42. 이식된_배아_수"
   ]
  },
  {
   "cell_type": "markdown",
   "metadata": {},
   "source": [
    "이식된 배아의 총 수"
   ]
  },
  {
   "cell_type": "code",
   "execution_count": 103,
   "metadata": {},
   "outputs": [
    {
     "name": "stdout",
     "output_type": "stream",
     "text": [
      "\n",
      "이식된_배아_수별 임신_성공_여부 비율 및 갯수\n",
      "\n",
      "                 0         1      0     1  Total\n",
      "variable                                        \n",
      "0.0       0.998855  0.001145   4363     5   4368\n",
      "1.0       0.684108  0.315892   9453  4365  13818\n",
      "2.0       0.687096  0.312904  10830  4932  15762\n",
      "3.0       0.841640  0.158360   1047   197   1244\n"
     ]
    }
   ],
   "source": [
    "value_counts_ratio(train, '이식된_배아_수')"
   ]
  },
  {
   "cell_type": "markdown",
   "metadata": {},
   "source": [
    "### 43. 미세주입_배아_이식_수"
   ]
  },
  {
   "cell_type": "markdown",
   "metadata": {},
   "source": [
    "ICSI 배아 중 이식된 배아의 수"
   ]
  },
  {
   "cell_type": "code",
   "execution_count": 104,
   "metadata": {},
   "outputs": [
    {
     "name": "stdout",
     "output_type": "stream",
     "text": [
      "\n",
      "미세주입_배아_이식_수별 임신_성공_여부 비율 및 갯수\n",
      "\n",
      "                 0         1      0     1  Total\n",
      "variable                                        \n",
      "0.0       0.765710  0.234290  14622  4474  19096\n",
      "1.0       0.674432  0.325568   4632  2236   6868\n",
      "2.0       0.685028  0.314972   5820  2676   8496\n",
      "3.0       0.845628  0.154372    619   113    732\n"
     ]
    }
   ],
   "source": [
    "value_counts_ratio(train, '미세주입_배아_이식_수')"
   ]
  },
  {
   "cell_type": "markdown",
   "metadata": {},
   "source": [
    "### 44. 저장된_배아_수"
   ]
  },
  {
   "cell_type": "markdown",
   "metadata": {},
   "source": [
    "환자를 위해 저장된 배아의 수"
   ]
  },
  {
   "cell_type": "code",
   "execution_count": 105,
   "metadata": {},
   "outputs": [
    {
     "name": "stdout",
     "output_type": "stream",
     "text": [
      "\n",
      "저장된_배아_수별 임신_성공_여부 비율 및 갯수\n",
      "\n",
      "                 0         1        0       1  Total\n",
      "variable                                            \n",
      "0.0       0.775149  0.224851  18154.0  5266.0  23420\n",
      "1.0       0.641914  0.358086   1798.0  1003.0   2801\n",
      "2.0       0.607306  0.392694   1729.0  1118.0   2847\n",
      "3.0       0.602465  0.397535   1173.0   774.0   1947\n",
      "4.0       0.627040  0.372960    807.0   480.0   1287\n",
      "5.0       0.649660  0.350340    573.0   309.0    882\n",
      "6.0       0.622540  0.377460    348.0   211.0    559\n",
      "7.0       0.662890  0.337110    234.0   119.0    353\n",
      "8.0       0.664062  0.335938    170.0    86.0    256\n",
      "9.0       0.678161  0.321839    118.0    56.0    174\n",
      "10.0      0.774648  0.225352    110.0    32.0    142\n",
      "11.0      0.808081  0.191919     80.0    19.0     99\n",
      "12.0      0.858974  0.141026     67.0    11.0     78\n",
      "13.0      0.929825  0.070175     53.0     4.0     57\n",
      "14.0      0.962264  0.037736     51.0     2.0     53\n",
      "15.0      0.888889  0.111111     48.0     6.0     54\n",
      "16.0      0.928571  0.071429     26.0     2.0     28\n",
      "17.0      1.000000  0.000000     25.0     0.0     25\n",
      "18.0      1.000000  0.000000     34.0     0.0     34\n",
      "19.0      1.000000  0.000000     18.0     0.0     18\n",
      "20.0      1.000000  0.000000     19.0     0.0     19\n",
      "21.0      1.000000  0.000000     12.0     0.0     12\n",
      "22.0      1.000000  0.000000     18.0     0.0     18\n",
      "23.0      0.857143  0.142857      6.0     1.0      7\n",
      "24.0      1.000000  0.000000      4.0     0.0      4\n",
      "25.0      1.000000  0.000000      9.0     0.0      9\n",
      "26.0      1.000000  0.000000      2.0     0.0      2\n",
      "27.0      1.000000  0.000000      2.0     0.0      2\n",
      "28.0      1.000000  0.000000      2.0     0.0      2\n",
      "31.0      1.000000  0.000000      1.0     0.0      1\n",
      "32.0      1.000000  0.000000      1.0     0.0      1\n",
      "41.0      1.000000  0.000000      1.0     0.0      1\n"
     ]
    }
   ],
   "source": [
    "value_counts_ratio(train, '저장된_배아_수')"
   ]
  },
  {
   "cell_type": "markdown",
   "metadata": {},
   "source": [
    "### 45. 미세주입_후_저장된_배아_수"
   ]
  },
  {
   "cell_type": "markdown",
   "metadata": {},
   "source": [
    "ICSI 처리된 배아 중 저장된 배아의 수"
   ]
  },
  {
   "cell_type": "code",
   "execution_count": 106,
   "metadata": {},
   "outputs": [
    {
     "name": "stdout",
     "output_type": "stream",
     "text": [
      "\n",
      "미세주입_후_저장된_배아_수별 임신_성공_여부 비율 및 갯수\n",
      "\n",
      "                 0         1        0       1  Total\n",
      "variable                                            \n",
      "0.0       0.751587  0.248413  21669.0  7162.0  28831\n",
      "1.0       0.626866  0.373134   1050.0   625.0   1675\n",
      "2.0       0.590596  0.409404    942.0   653.0   1595\n",
      "3.0       0.600554  0.399446    651.0   433.0   1084\n",
      "4.0       0.639761  0.360239    428.0   241.0    669\n",
      "5.0       0.628842  0.371158    266.0   157.0    423\n",
      "6.0       0.639344  0.360656    156.0    88.0    244\n",
      "7.0       0.659341  0.340659    120.0    62.0    182\n",
      "8.0       0.699115  0.300885     79.0    34.0    113\n",
      "9.0       0.705128  0.294872     55.0    23.0     78\n",
      "10.0      0.883333  0.116667     53.0     7.0     60\n",
      "11.0      0.800000  0.200000     32.0     8.0     40\n",
      "12.0      0.935484  0.064516     29.0     2.0     31\n",
      "13.0      0.966667  0.033333     29.0     1.0     30\n",
      "14.0      1.000000  0.000000     29.0     0.0     29\n",
      "15.0      0.956522  0.043478     22.0     1.0     23\n",
      "16.0      0.875000  0.125000     14.0     2.0     16\n",
      "17.0      1.000000  0.000000      9.0     0.0      9\n",
      "18.0      1.000000  0.000000     14.0     0.0     14\n",
      "19.0      1.000000  0.000000     13.0     0.0     13\n",
      "20.0      1.000000  0.000000      6.0     0.0      6\n",
      "21.0      1.000000  0.000000      3.0     0.0      3\n",
      "22.0      1.000000  0.000000     11.0     0.0     11\n",
      "23.0      1.000000  0.000000      4.0     0.0      4\n",
      "24.0      1.000000  0.000000      1.0     0.0      1\n",
      "25.0      1.000000  0.000000      3.0     0.0      3\n",
      "26.0      1.000000  0.000000      1.0     0.0      1\n",
      "27.0      1.000000  0.000000      2.0     0.0      2\n",
      "28.0      1.000000  0.000000      1.0     0.0      1\n",
      "41.0      1.000000  0.000000      1.0     0.0      1\n"
     ]
    }
   ],
   "source": [
    "value_counts_ratio(train, '미세주입_후_저장된_배아_수')"
   ]
  },
  {
   "cell_type": "markdown",
   "metadata": {},
   "source": [
    "### 46. 해동된_배아_수"
   ]
  },
  {
   "cell_type": "markdown",
   "metadata": {},
   "source": [
    "동결 해동된 배아의 수"
   ]
  },
  {
   "cell_type": "code",
   "execution_count": 107,
   "metadata": {},
   "outputs": [
    {
     "name": "stdout",
     "output_type": "stream",
     "text": [
      "\n",
      "해동된_배아_수별 임신_성공_여부 비율 및 갯수\n",
      "\n",
      "                 0         1        0       1  Total\n",
      "variable                                            \n",
      "0.0       0.722409  0.277591  21470.0  8250.0  29720\n",
      "1.0       0.789474  0.210526   1365.0   364.0   1729\n",
      "2.0       0.757927  0.242073   1243.0   397.0   1640\n",
      "3.0       0.820027  0.179973    606.0   133.0    739\n",
      "4.0       0.784158  0.215842    396.0   109.0    505\n",
      "5.0       0.724907  0.275093    195.0    74.0    269\n",
      "6.0       0.712042  0.287958    136.0    55.0    191\n",
      "7.0       0.728070  0.271930     83.0    31.0    114\n",
      "8.0       0.719298  0.280702     82.0    32.0    114\n",
      "9.0       0.620690  0.379310     36.0    22.0     58\n",
      "10.0      0.742857  0.257143     26.0     9.0     35\n",
      "11.0      0.625000  0.375000     10.0     6.0     16\n",
      "12.0      0.800000  0.200000     12.0     3.0     15\n",
      "13.0      0.777778  0.222222      7.0     2.0      9\n",
      "14.0      0.636364  0.363636      7.0     4.0     11\n",
      "15.0      0.625000  0.375000      5.0     3.0      8\n",
      "16.0      0.800000  0.200000      4.0     1.0      5\n",
      "17.0      1.000000  0.000000      1.0     0.0      1\n",
      "18.0      1.000000  0.000000      4.0     0.0      4\n",
      "19.0      1.000000  0.000000      3.0     0.0      3\n",
      "20.0      0.500000  0.500000      1.0     1.0      2\n",
      "21.0      0.000000  1.000000      0.0     2.0      2\n",
      "22.0      0.000000  1.000000      0.0     1.0      1\n",
      "32.0      1.000000  0.000000      1.0     0.0      1\n"
     ]
    }
   ],
   "source": [
    "value_counts_ratio(train, '해동된_배아_수')"
   ]
  },
  {
   "cell_type": "markdown",
   "metadata": {},
   "source": [
    "### 47. 해동_난자_수"
   ]
  },
  {
   "cell_type": "markdown",
   "metadata": {},
   "source": [
    "동결 해동된 난자의 수"
   ]
  },
  {
   "cell_type": "code",
   "execution_count": 108,
   "metadata": {},
   "outputs": [
    {
     "name": "stdout",
     "output_type": "stream",
     "text": [
      "\n",
      "해동_난자_수별 임신_성공_여부 비율 및 갯수\n",
      "\n",
      "                 0         1        0       1  Total\n",
      "variable                                            \n",
      "0.0       0.729880  0.270120  25575.0  9465.0  35040\n",
      "1.0       0.750000  0.250000      3.0     1.0      4\n",
      "2.0       0.888889  0.111111      8.0     1.0      9\n",
      "3.0       1.000000  0.000000      6.0     0.0      6\n",
      "4.0       0.900000  0.100000      9.0     1.0     10\n",
      "5.0       0.600000  0.400000      6.0     4.0     10\n",
      "6.0       0.916667  0.083333     11.0     1.0     12\n",
      "7.0       0.625000  0.375000     10.0     6.0     16\n",
      "8.0       0.826087  0.173913     19.0     4.0     23\n",
      "9.0       0.785714  0.214286     11.0     3.0     14\n",
      "10.0      0.750000  0.250000      9.0     3.0     12\n",
      "11.0      0.833333  0.166667     10.0     2.0     12\n",
      "12.0      0.800000  0.200000      4.0     1.0      5\n",
      "13.0      1.000000  0.000000      3.0     0.0      3\n",
      "14.0      0.000000  1.000000      0.0     1.0      1\n",
      "15.0      0.571429  0.428571      4.0     3.0      7\n",
      "16.0      0.333333  0.666667      1.0     2.0      3\n",
      "17.0      1.000000  0.000000      1.0     0.0      1\n",
      "18.0      0.000000  1.000000      0.0     1.0      1\n",
      "19.0      1.000000  0.000000      2.0     0.0      2\n",
      "20.0      1.000000  0.000000      1.0     0.0      1\n"
     ]
    }
   ],
   "source": [
    "value_counts_ratio(train, '해동_난자_수')"
   ]
  },
  {
   "cell_type": "markdown",
   "metadata": {},
   "source": [
    "### 48. 수집된_신선_난자_수"
   ]
  },
  {
   "cell_type": "markdown",
   "metadata": {},
   "source": [
    "신선 난자가 수집된 수"
   ]
  },
  {
   "cell_type": "code",
   "execution_count": 109,
   "metadata": {},
   "outputs": [
    {
     "name": "stdout",
     "output_type": "stream",
     "text": [
      "\n",
      "수집된_신선_난자_수별 임신_성공_여부 비율 및 갯수\n",
      "\n",
      "                 0         1       0       1  Total\n",
      "variable                                           \n",
      "0.0       0.751024  0.248976  5683.0  1884.0   7567\n",
      "1.0       0.948636  0.051364   591.0    32.0    623\n",
      "2.0       0.923259  0.076741   782.0    65.0    847\n",
      "3.0       0.863195  0.136805   978.0   155.0   1133\n",
      "4.0       0.822494  0.177506  1075.0   232.0   1307\n",
      "5.0       0.760076  0.239924  1207.0   381.0   1588\n",
      "6.0       0.760502  0.239498  1394.0   439.0   1833\n",
      "7.0       0.747595  0.252405  1321.0   446.0   1767\n",
      "8.0       0.720321  0.279679  1347.0   523.0   1870\n",
      "9.0       0.706869  0.293131  1307.0   542.0   1849\n",
      "10.0      0.680401  0.319599  1222.0   574.0   1796\n",
      "11.0      0.677628  0.322372  1154.0   549.0   1703\n",
      "12.0      0.670670  0.329330  1061.0   521.0   1582\n",
      "13.0      0.675036  0.324964   941.0   453.0   1394\n",
      "14.0      0.662470  0.337530   842.0   429.0   1271\n",
      "15.0      0.652689  0.347311   716.0   381.0   1097\n",
      "16.0      0.639569  0.360431   653.0   368.0   1021\n",
      "17.0      0.644048  0.355952   541.0   299.0    840\n",
      "18.0      0.675287  0.324713   470.0   226.0    696\n",
      "19.0      0.626446  0.373554   379.0   226.0    605\n",
      "20.0      0.678363  0.321637   348.0   165.0    513\n",
      "21.0      0.668269  0.331731   278.0   138.0    416\n",
      "22.0      0.689266  0.310734   244.0   110.0    354\n",
      "23.0      0.708029  0.291971   194.0    80.0    274\n",
      "24.0      0.688312  0.311688   159.0    72.0    231\n",
      "25.0      0.732323  0.267677   145.0    53.0    198\n",
      "26.0      0.795620  0.204380   109.0    28.0    137\n",
      "27.0      0.747748  0.252252    83.0    28.0    111\n",
      "28.0      0.750000  0.250000    78.0    26.0    104\n",
      "29.0      0.873016  0.126984    55.0     8.0     63\n",
      "30.0      0.753086  0.246914    61.0    20.0     81\n",
      "31.0      0.830508  0.169492    49.0    10.0     59\n",
      "32.0      0.792453  0.207547    42.0    11.0     53\n",
      "33.0      0.866667  0.133333    26.0     4.0     30\n",
      "34.0      0.852941  0.147059    29.0     5.0     34\n",
      "35.0      0.821429  0.178571    23.0     5.0     28\n",
      "36.0      0.866667  0.133333    26.0     4.0     30\n",
      "37.0      0.923077  0.076923    12.0     1.0     13\n",
      "38.0      0.916667  0.083333    11.0     1.0     12\n",
      "39.0      1.000000  0.000000    12.0     0.0     12\n",
      "40.0      0.916667  0.083333    11.0     1.0     12\n",
      "41.0      1.000000  0.000000     5.0     0.0      5\n",
      "42.0      1.000000  0.000000     5.0     0.0      5\n",
      "43.0      0.750000  0.250000     3.0     1.0      4\n",
      "44.0      1.000000  0.000000     1.0     0.0      1\n",
      "45.0      0.666667  0.333333     2.0     1.0      3\n",
      "46.0      1.000000  0.000000     5.0     0.0      5\n",
      "47.0      0.800000  0.200000     4.0     1.0      5\n",
      "49.0      1.000000  0.000000     1.0     0.0      1\n",
      "50.0      0.833333  0.166667     5.0     1.0      6\n",
      "51.0      1.000000  0.000000     3.0     0.0      3\n"
     ]
    }
   ],
   "source": [
    "value_counts_ratio(train, '수집된_신선_난자_수')"
   ]
  },
  {
   "cell_type": "markdown",
   "metadata": {},
   "source": [
    "### 49. 저장된_신선_난자_수"
   ]
  },
  {
   "cell_type": "markdown",
   "metadata": {},
   "source": [
    "저장된 신선 난자의 수"
   ]
  },
  {
   "cell_type": "code",
   "execution_count": 110,
   "metadata": {},
   "outputs": [
    {
     "name": "stdout",
     "output_type": "stream",
     "text": [
      "\n",
      "저장된_신선_난자_수별 임신_성공_여부 비율 및 갯수\n",
      "\n",
      "                 0         1        0       1  Total\n",
      "variable                                            \n",
      "0.0       0.727539  0.272461  25354.0  9495.0  34849\n",
      "1.0       0.928571  0.071429     13.0     1.0     14\n",
      "2.0       0.952381  0.047619     20.0     1.0     21\n",
      "3.0       1.000000  0.000000     31.0     0.0     31\n",
      "4.0       1.000000  0.000000     28.0     0.0     28\n",
      "5.0       1.000000  0.000000     30.0     0.0     30\n",
      "6.0       0.954545  0.045455     21.0     1.0     22\n",
      "7.0       1.000000  0.000000     24.0     0.0     24\n",
      "8.0       1.000000  0.000000     22.0     0.0     22\n",
      "9.0       0.958333  0.041667     23.0     1.0     24\n",
      "10.0      1.000000  0.000000     18.0     0.0     18\n",
      "11.0      1.000000  0.000000     15.0     0.0     15\n",
      "12.0      1.000000  0.000000     11.0     0.0     11\n",
      "13.0      1.000000  0.000000     13.0     0.0     13\n",
      "14.0      1.000000  0.000000     11.0     0.0     11\n",
      "15.0      1.000000  0.000000      6.0     0.0      6\n",
      "16.0      1.000000  0.000000     10.0     0.0     10\n",
      "17.0      1.000000  0.000000      7.0     0.0      7\n",
      "18.0      1.000000  0.000000      4.0     0.0      4\n",
      "19.0      1.000000  0.000000      2.0     0.0      2\n",
      "20.0      1.000000  0.000000      3.0     0.0      3\n",
      "21.0      1.000000  0.000000      3.0     0.0      3\n",
      "22.0      1.000000  0.000000      4.0     0.0      4\n",
      "23.0      1.000000  0.000000      4.0     0.0      4\n",
      "24.0      1.000000  0.000000      3.0     0.0      3\n",
      "25.0      1.000000  0.000000      1.0     0.0      1\n",
      "26.0      1.000000  0.000000      2.0     0.0      2\n",
      "27.0      1.000000  0.000000      1.0     0.0      1\n",
      "29.0      1.000000  0.000000      2.0     0.0      2\n",
      "30.0      1.000000  0.000000      1.0     0.0      1\n",
      "31.0      1.000000  0.000000      1.0     0.0      1\n",
      "32.0      1.000000  0.000000      2.0     0.0      2\n",
      "34.0      1.000000  0.000000      1.0     0.0      1\n",
      "37.0      1.000000  0.000000      1.0     0.0      1\n",
      "46.0      1.000000  0.000000      1.0     0.0      1\n"
     ]
    }
   ],
   "source": [
    "value_counts_ratio(train, '저장된_신선_난자_수')"
   ]
  },
  {
   "cell_type": "markdown",
   "metadata": {},
   "source": [
    "### 50. 혼합된_난자_수"
   ]
  },
  {
   "cell_type": "markdown",
   "metadata": {},
   "source": [
    "정자와 혼합된 총 난자 수"
   ]
  },
  {
   "cell_type": "code",
   "execution_count": 111,
   "metadata": {},
   "outputs": [
    {
     "name": "stdout",
     "output_type": "stream",
     "text": [
      "\n",
      "혼합된_난자_수별 임신_성공_여부 비율 및 갯수\n",
      "\n",
      "                 0         1       0       1  Total\n",
      "variable                                           \n",
      "0.0       0.804478  0.195522  5102.0  1240.0   6342\n",
      "1.0       0.944649  0.055351   768.0    45.0    813\n",
      "2.0       0.901861  0.098139  1066.0   116.0   1182\n",
      "3.0       0.831341  0.168659  1252.0   254.0   1506\n",
      "4.0       0.771322  0.228678  1447.0   429.0   1876\n",
      "5.0       0.734389  0.265611  1670.0   604.0   2274\n",
      "6.0       0.725174  0.274826  1665.0   631.0   2296\n",
      "7.0       0.700628  0.299372  1561.0   667.0   2228\n",
      "8.0       0.700599  0.299401  1521.0   650.0   2171\n",
      "9.0       0.681884  0.318116  1404.0   655.0   2059\n",
      "10.0      0.660367  0.339633  1223.0   629.0   1852\n",
      "11.0      0.649568  0.350432  1127.0   608.0   1735\n",
      "12.0      0.659930  0.340070   947.0   488.0   1435\n",
      "13.0      0.635537  0.364463   769.0   441.0   1210\n",
      "14.0      0.654206  0.345794   700.0   370.0   1070\n",
      "15.0      0.671706  0.328294   622.0   304.0    926\n",
      "16.0      0.631079  0.368921   532.0   311.0    843\n",
      "17.0      0.651908  0.348092   427.0   228.0    655\n",
      "18.0      0.686235  0.313765   339.0   155.0    494\n",
      "19.0      0.656863  0.343137   268.0   140.0    408\n",
      "20.0      0.634831  0.365169   226.0   130.0    356\n",
      "21.0      0.649832  0.350168   193.0   104.0    297\n",
      "22.0      0.666667  0.333333   150.0    75.0    225\n",
      "23.0      0.717822  0.282178   145.0    57.0    202\n",
      "24.0      0.756579  0.243421   115.0    37.0    152\n",
      "25.0      0.763636  0.236364    84.0    26.0    110\n",
      "26.0      0.722222  0.277778    65.0    25.0     90\n",
      "27.0      0.710145  0.289855    49.0    20.0     69\n",
      "28.0      0.739130  0.260870    51.0    18.0     69\n",
      "29.0      0.829787  0.170213    39.0     8.0     47\n",
      "30.0      0.641026  0.358974    25.0    14.0     39\n",
      "31.0      0.892857  0.107143    25.0     3.0     28\n",
      "32.0      0.880000  0.120000    22.0     3.0     25\n",
      "33.0      0.851852  0.148148    23.0     4.0     27\n",
      "34.0      0.823529  0.176471    14.0     3.0     17\n",
      "35.0      0.764706  0.235294    13.0     4.0     17\n",
      "36.0      0.800000  0.200000     8.0     2.0     10\n",
      "37.0      1.000000  0.000000     6.0     0.0      6\n",
      "38.0      1.000000  0.000000     8.0     0.0      8\n",
      "39.0      1.000000  0.000000     9.0     0.0      9\n",
      "40.0      1.000000  0.000000     5.0     0.0      5\n",
      "42.0      1.000000  0.000000     1.0     0.0      1\n",
      "43.0      1.000000  0.000000     2.0     0.0      2\n",
      "44.0      1.000000  0.000000     1.0     0.0      1\n",
      "47.0      1.000000  0.000000     1.0     0.0      1\n",
      "48.0      1.000000  0.000000     1.0     0.0      1\n",
      "50.0      0.000000  1.000000     0.0     1.0      1\n",
      "51.0      1.000000  0.000000     2.0     0.0      2\n"
     ]
    }
   ],
   "source": [
    "value_counts_ratio(train, '혼합된_난자_수')"
   ]
  },
  {
   "cell_type": "markdown",
   "metadata": {},
   "source": [
    "### 51. 파트너_정자와_혼합된_난자_수"
   ]
  },
  {
   "cell_type": "markdown",
   "metadata": {},
   "source": [
    "파트너 정자와 혼합된 난자의 수"
   ]
  },
  {
   "cell_type": "code",
   "execution_count": 112,
   "metadata": {},
   "outputs": [
    {
     "name": "stdout",
     "output_type": "stream",
     "text": [
      "\n",
      "파트너_정자와_혼합된_난자_수별 임신_성공_여부 비율 및 갯수\n",
      "\n",
      "                 0         1       0       1  Total\n",
      "variable                                           \n",
      "0.0       0.779847  0.220153  6741.0  1903.0   8644\n",
      "1.0       0.943662  0.056338   670.0    40.0    710\n",
      "2.0       0.900369  0.099631   976.0   108.0   1084\n",
      "3.0       0.830521  0.169479  1132.0   231.0   1363\n",
      "4.0       0.773684  0.226316  1323.0   387.0   1710\n",
      "5.0       0.733493  0.266507  1533.0   557.0   2090\n",
      "6.0       0.729147  0.270853  1521.0   565.0   2086\n",
      "7.0       0.700925  0.299075  1439.0   614.0   2053\n",
      "8.0       0.703722  0.296278  1399.0   589.0   1988\n",
      "9.0       0.679769  0.320231  1297.0   611.0   1908\n",
      "10.0      0.665501  0.334499  1142.0   574.0   1716\n",
      "11.0      0.650437  0.349563  1042.0   560.0   1602\n",
      "12.0      0.660194  0.339806   884.0   455.0   1339\n",
      "13.0      0.631720  0.368280   705.0   411.0   1116\n",
      "14.0      0.654582  0.345418   650.0   343.0    993\n",
      "15.0      0.674118  0.325882   573.0   277.0    850\n",
      "16.0      0.633588  0.366412   498.0   288.0    786\n",
      "17.0      0.654341  0.345659   407.0   215.0    622\n",
      "18.0      0.688985  0.311015   319.0   144.0    463\n",
      "19.0      0.648438  0.351562   249.0   135.0    384\n",
      "20.0      0.649701  0.350299   217.0   117.0    334\n",
      "21.0      0.656140  0.343860   187.0    98.0    285\n",
      "22.0      0.669856  0.330144   140.0    69.0    209\n",
      "23.0      0.724324  0.275676   134.0    51.0    185\n",
      "24.0      0.760870  0.239130   105.0    33.0    138\n",
      "25.0      0.757009  0.242991    81.0    26.0    107\n",
      "26.0      0.728395  0.271605    59.0    22.0     81\n",
      "27.0      0.718750  0.281250    46.0    18.0     64\n",
      "28.0      0.714286  0.285714    45.0    18.0     63\n",
      "29.0      0.829268  0.170732    34.0     7.0     41\n",
      "30.0      0.621622  0.378378    23.0    14.0     37\n",
      "31.0      0.880000  0.120000    22.0     3.0     25\n",
      "32.0      0.869565  0.130435    20.0     3.0     23\n",
      "33.0      0.846154  0.153846    22.0     4.0     26\n",
      "34.0      0.785714  0.214286    11.0     3.0     14\n",
      "35.0      0.714286  0.285714    10.0     4.0     14\n",
      "36.0      0.800000  0.200000     8.0     2.0     10\n",
      "37.0      1.000000  0.000000     5.0     0.0      5\n",
      "38.0      1.000000  0.000000     5.0     0.0      5\n",
      "39.0      1.000000  0.000000     7.0     0.0      7\n",
      "40.0      1.000000  0.000000     5.0     0.0      5\n",
      "42.0      1.000000  0.000000     1.0     0.0      1\n",
      "43.0      1.000000  0.000000     2.0     0.0      2\n",
      "44.0      1.000000  0.000000     1.0     0.0      1\n",
      "47.0      1.000000  0.000000     1.0     0.0      1\n",
      "48.0      1.000000  0.000000     1.0     0.0      1\n",
      "51.0      1.000000  0.000000     1.0     0.0      1\n"
     ]
    }
   ],
   "source": [
    "value_counts_ratio(train, '파트너_정자와_혼합된_난자_수')"
   ]
  },
  {
   "cell_type": "markdown",
   "metadata": {},
   "source": [
    "### 52. 기증자_정자와_혼합된_난자_수"
   ]
  },
  {
   "cell_type": "markdown",
   "metadata": {},
   "source": [
    "기증자 정자와 혼합된 난자의 수"
   ]
  },
  {
   "cell_type": "code",
   "execution_count": 113,
   "metadata": {},
   "outputs": [
    {
     "name": "stdout",
     "output_type": "stream",
     "text": [
      "\n",
      "기증자_정자와_혼합된_난자_수별 임신_성공_여부 비율 및 갯수\n",
      "\n",
      "                 0         1        0       1  Total\n",
      "variable                                            \n",
      "0.0       0.731260  0.268740  24106.0  8859.0  32965\n",
      "1.0       0.951923  0.048077     99.0     5.0    104\n",
      "2.0       0.909091  0.090909     90.0     9.0     99\n",
      "3.0       0.840278  0.159722    121.0    23.0    144\n",
      "4.0       0.745562  0.254438    126.0    43.0    169\n",
      "5.0       0.746032  0.253968    141.0    48.0    189\n",
      "6.0       0.682243  0.317757    146.0    68.0    214\n",
      "7.0       0.704545  0.295455    124.0    52.0    176\n",
      "8.0       0.670330  0.329670    122.0    60.0    182\n",
      "9.0       0.714286  0.285714    105.0    42.0    147\n",
      "10.0      0.578947  0.421053     77.0    56.0    133\n",
      "11.0      0.633588  0.366412     83.0    48.0    131\n",
      "12.0      0.651685  0.348315     58.0    31.0     89\n",
      "13.0      0.682353  0.317647     58.0    27.0     85\n",
      "14.0      0.648649  0.351351     48.0    26.0     74\n",
      "15.0      0.651515  0.348485     43.0    23.0     66\n",
      "16.0      0.604167  0.395833     29.0    19.0     48\n",
      "17.0      0.560000  0.440000     14.0    11.0     25\n",
      "18.0      0.629630  0.370370     17.0    10.0     27\n",
      "19.0      0.764706  0.235294     13.0     4.0     17\n",
      "20.0      0.333333  0.666667      6.0    12.0     18\n",
      "21.0      0.545455  0.454545      6.0     5.0     11\n",
      "22.0      0.666667  0.333333     10.0     5.0     15\n",
      "23.0      0.666667  0.333333     10.0     5.0     15\n",
      "24.0      0.666667  0.333333      8.0     4.0     12\n",
      "25.0      1.000000  0.000000      3.0     0.0      3\n",
      "26.0      1.000000  0.000000      5.0     0.0      5\n",
      "27.0      0.500000  0.500000      2.0     2.0      4\n",
      "28.0      1.000000  0.000000      4.0     0.0      4\n",
      "29.0      0.833333  0.166667      5.0     1.0      6\n",
      "30.0      1.000000  0.000000      1.0     0.0      1\n",
      "31.0      1.000000  0.000000      2.0     0.0      2\n",
      "32.0      1.000000  0.000000      2.0     0.0      2\n",
      "33.0      1.000000  0.000000      1.0     0.0      1\n",
      "34.0      1.000000  0.000000      2.0     0.0      2\n",
      "35.0      1.000000  0.000000      2.0     0.0      2\n",
      "37.0      1.000000  0.000000      1.0     0.0      1\n",
      "38.0      1.000000  0.000000      1.0     0.0      1\n",
      "39.0      1.000000  0.000000      2.0     0.0      2\n",
      "50.0      0.000000  1.000000      0.0     1.0      1\n"
     ]
    }
   ],
   "source": [
    "value_counts_ratio(train, '기증자_정자와_혼합된_난자_수')"
   ]
  },
  {
   "cell_type": "code",
   "execution_count": 114,
   "metadata": {},
   "outputs": [],
   "source": [
    "# 1. 임신 성공율 - 이식된 배아 대비 임신 성공 비율\n",
    "train['임신_성공율'] = np.where(train['총_생성_배아_수'] > 0, (train['이식된_배아_수'] / train['총_생성_배아_수']) * 100, 0).round(2)\n",
    "\n",
    "# 2. ICSI 효율성 - 미세주입된 난자 대비 생성된 배아 비율\n",
    "train['ICSI_효율성'] = np.where(train['미세주입된_난자_수'] > 0, (train['미세주입에서_생성된_배아_수'] / train['미세주입된_난자_수']) * 100, 0).round(2)\n",
    "\n",
    "# 3. 저장 배아 비율 - 총 생성 배아 대비 저장된 배아 수 비율\n",
    "train['저장_배아_비율'] = np.where(train['총_생성_배아_수'] > 0, (train['저장된_배아_수'] / train['총_생성_배아_수']) * 100, 0).round(2)\n",
    "\n",
    "# 4. 해동 난자 비율 - 해동된 난자 대비 수집된 신선 난자 비율\n",
    "train['해동_난자_비율'] = np.where(train['수집된_신선_난자_수'] > 0, (train['해동_난자_수'] / train['수집된_신선_난자_수']) * 100, 0).round(2)\n",
    "\n",
    "# 5. 생성 배아 유지율 - ICSI 후 저장된 배아 대비 생성된 배아 비율\n",
    "train['생성_배아_유지율'] = np.where(train['미세주입에서_생성된_배아_수'] > 0, (train['미세주입_후_저장된_배아_수'] / train['미세주입에서_생성된_배아_수']) * 100, 0).round(2)\n",
    "\n",
    "# 6. 파트너 정자 사용 비율 - 혼합된 난자에서 파트너 정자 비율\n",
    "train['파트너_정자_사용_비율'] = np.where(train['혼합된_난자_수'] > 0, (train['파트너_정자와_혼합된_난자_수'] / train['혼합된_난자_수']) * 100, 0).round(2)\n",
    "\n",
    "# test 데이터프레임에도 동일한 파생 변수를 생성\n",
    "test['임신_성공율'] = np.where(test['총_생성_배아_수'] > 0, (test['이식된_배아_수'] / test['총_생성_배아_수']) * 100, 0).round(2)\n",
    "test['ICSI_효율성'] = np.where(test['미세주입된_난자_수'] > 0, (test['미세주입에서_생성된_배아_수'] / test['미세주입된_난자_수']) * 100, 0).round(2)\n",
    "test['저장_배아_비율'] = np.where(test['총_생성_배아_수'] > 0, (test['저장된_배아_수'] / test['총_생성_배아_수']) * 100, 0).round(2)\n",
    "test['해동_난자_비율'] = np.where(test['수집된_신선_난자_수'] > 0, (test['해동_난자_수'] / test['수집된_신선_난자_수']) * 100, 0).round(2)\n",
    "test['생성_배아_유지율'] = np.where(test['미세주입에서_생성된_배아_수'] > 0, (test['미세주입_후_저장된_배아_수'] / test['미세주입에서_생성된_배아_수']) * 100, 0).round(2)\n",
    "test['파트너_정자_사용_비율'] = np.where(test['혼합된_난자_수'] > 0, (test['파트너_정자와_혼합된_난자_수'] / test['혼합된_난자_수']) * 100, 0).round(2)"
   ]
  },
  {
   "cell_type": "markdown",
   "metadata": {},
   "source": [
    "### 53. 난자_출처"
   ]
  },
  {
   "cell_type": "markdown",
   "metadata": {},
   "source": [
    "난자 출처 정보"
   ]
  },
  {
   "cell_type": "code",
   "execution_count": 115,
   "metadata": {},
   "outputs": [
    {
     "name": "stdout",
     "output_type": "stream",
     "text": [
      "\n",
      "난자_출처별 임신_성공_여부 비율 및 갯수\n",
      "\n",
      "                 0         1      0     1  Total\n",
      "variable                                        \n",
      "기증 제공     0.666667  0.333333   1630   815   2445\n",
      "본인 제공     0.734815  0.265185  24063  8684  32747\n",
      "알 수 없음    0.886770  0.113230    744    95    839\n"
     ]
    }
   ],
   "source": [
    "value_counts_ratio(train, '난자_출처')"
   ]
  },
  {
   "cell_type": "code",
   "execution_count": 116,
   "metadata": {},
   "outputs": [
    {
     "data": {
      "text/plain": [
       "본인 제공     11603\n",
       "기증 제공       834\n",
       "알 수 없음      327\n",
       "Name: 난자_출처, dtype: int64"
      ]
     },
     "execution_count": 116,
     "metadata": {},
     "output_type": "execute_result"
    }
   ],
   "source": [
    "test['난자_출처'].value_counts()"
   ]
  },
  {
   "cell_type": "markdown",
   "metadata": {},
   "source": [
    "### 54. 정자_출처"
   ]
  },
  {
   "cell_type": "markdown",
   "metadata": {},
   "source": [
    "정자 출처 정보"
   ]
  },
  {
   "cell_type": "code",
   "execution_count": 117,
   "metadata": {},
   "outputs": [
    {
     "name": "stdout",
     "output_type": "stream",
     "text": [
      "\n",
      "정자_출처별 임신_성공_여부 비율 및 갯수\n",
      "\n",
      "                    0         1        0       1  Total\n",
      "variable                                               \n",
      "기증 제공        0.757297  0.242703   2880.0   923.0   3803\n",
      "미할당          0.777778  0.222222      7.0     2.0      9\n",
      "배우자 및 기증 제공  1.000000  0.000000      2.0     0.0      2\n",
      "배우자 제공       0.730918  0.269082  23548.0  8669.0  32217\n"
     ]
    }
   ],
   "source": [
    "value_counts_ratio(train, '정자_출처')"
   ]
  },
  {
   "cell_type": "code",
   "execution_count": 118,
   "metadata": {},
   "outputs": [
    {
     "data": {
      "text/plain": [
       "배우자 제공    11409\n",
       "기증 제공      1354\n",
       "미할당           1\n",
       "Name: 정자_출처, dtype: int64"
      ]
     },
     "execution_count": 118,
     "metadata": {},
     "output_type": "execute_result"
    }
   ],
   "source": [
    "test['정자_출처'].value_counts()"
   ]
  },
  {
   "cell_type": "markdown",
   "metadata": {},
   "source": [
    "### 55. 난자_기증자_나이"
   ]
  },
  {
   "cell_type": "markdown",
   "metadata": {},
   "source": [
    "난자 기증자의 등록 당시 나이"
   ]
  },
  {
   "cell_type": "code",
   "execution_count": 119,
   "metadata": {},
   "outputs": [
    {
     "name": "stdout",
     "output_type": "stream",
     "text": [
      "\n",
      "난자_기증자_나이별 임신_성공_여부 비율 및 갯수\n",
      "\n",
      "                 0         1      0     1  Total\n",
      "variable                                        \n",
      "만20세 이하   0.677419  0.322581     21    10     31\n",
      "만21-25세   0.643243  0.356757    238   132    370\n",
      "만26-30세   0.626632  0.373368    480   286    766\n",
      "만31-35세   0.699195  0.300805    695   299    994\n",
      "알 수 없음    0.738205  0.261795  25003  8867  33870\n"
     ]
    }
   ],
   "source": [
    "value_counts_ratio(train, '난자_기증자_나이')"
   ]
  },
  {
   "cell_type": "markdown",
   "metadata": {},
   "source": [
    "### 56. 정자_기증자_나이"
   ]
  },
  {
   "cell_type": "markdown",
   "metadata": {},
   "source": [
    "정자 기증자의 등록 당시 나이"
   ]
  },
  {
   "cell_type": "code",
   "execution_count": 120,
   "metadata": {},
   "outputs": [
    {
     "name": "stdout",
     "output_type": "stream",
     "text": [
      "\n",
      "정자_기증자_나이별 임신_성공_여부 비율 및 갯수\n",
      "\n",
      "                 0         1      0     1  Total\n",
      "variable                                        \n",
      "만20세 이하   0.825000  0.175000    132    28    160\n",
      "만21-25세   0.752632  0.247368    572   188    760\n",
      "만26-30세   0.729692  0.270308    521   193    714\n",
      "만31-35세   0.756630  0.243370    485   156    641\n",
      "만36-40세   0.769648  0.230352    568   170    738\n",
      "만41-45세   0.765101  0.234899    456   140    596\n",
      "알 수 없음    0.731078  0.268922  23703  8719  32422\n"
     ]
    }
   ],
   "source": [
    "value_counts_ratio(train, '정자_기증자_나이')"
   ]
  },
  {
   "cell_type": "code",
   "execution_count": 121,
   "metadata": {},
   "outputs": [
    {
     "name": "stdout",
     "output_type": "stream",
     "text": [
      "Grouped by: 난자_기증자_나이, 정자_기증자_나이\n",
      "\n",
      "                 group  '임신_성공_여부' count     ratio  Total\n",
      "0   (만20세 이하, 만36-40세)                 2  1.000000      2\n",
      "1   (만20세 이하, 만41-45세)                 2  0.666667      3\n",
      "2    (만20세 이하, 알 수 없음)                 6  0.230769     26\n",
      "3   (만21-25세, 만20세 이하)                 1  1.000000      1\n",
      "4   (만21-25세, 만21-25세)                 4  0.571429      7\n",
      "5   (만21-25세, 만26-30세)                 3  0.500000      6\n",
      "6   (만21-25세, 만31-35세)                 7  0.777778      9\n",
      "7   (만21-25세, 만36-40세)                 6  0.666667      9\n",
      "8   (만21-25세, 만41-45세)                 1  0.166667      6\n",
      "9    (만21-25세, 알 수 없음)               110  0.331325    332\n",
      "10  (만26-30세, 만20세 이하)                 2  0.333333      6\n",
      "11  (만26-30세, 만21-25세)                 9  0.333333     27\n",
      "12  (만26-30세, 만26-30세)                14  0.388889     36\n",
      "13  (만26-30세, 만31-35세)                10  0.454545     22\n",
      "14  (만26-30세, 만36-40세)                11  0.458333     24\n",
      "15  (만26-30세, 만41-45세)                 5  0.333333     15\n",
      "16   (만26-30세, 알 수 없음)               235  0.369497    636\n",
      "17  (만31-35세, 만20세 이하)                 3  0.500000      6\n",
      "18  (만31-35세, 만21-25세)                10  0.333333     30\n",
      "19  (만31-35세, 만26-30세)                13  0.342105     38\n",
      "20  (만31-35세, 만31-35세)                15  0.306122     49\n",
      "21  (만31-35세, 만36-40세)                12  0.266667     45\n",
      "22  (만31-35세, 만41-45세)                 9  0.360000     25\n",
      "23   (만31-35세, 알 수 없음)               237  0.295880    801\n",
      "24   (알 수 없음, 만20세 이하)                22  0.149660    147\n",
      "25   (알 수 없음, 만21-25세)               165  0.237069    696\n",
      "26   (알 수 없음, 만26-30세)               163  0.257098    634\n",
      "27   (알 수 없음, 만31-35세)               124  0.221034    561\n",
      "28   (알 수 없음, 만36-40세)               139  0.211246    658\n",
      "29   (알 수 없음, 만41-45세)               123  0.224863    547\n",
      "30    (알 수 없음, 알 수 없음)              8131  0.265485  30627\n"
     ]
    }
   ],
   "source": [
    "summarize_group(train, ['난자_기증자_나이', '정자_기증자_나이'])"
   ]
  },
  {
   "cell_type": "code",
   "execution_count": 122,
   "metadata": {},
   "outputs": [],
   "source": [
    "# 그룹화하여 임신_성공_여부 비율 계산\n",
    "grouped = train.groupby(['난자_기증자_나이', '정자_기증자_나이']).agg(\n",
    "    count=('임신_성공_여부', 'sum'),\n",
    "    Total=('임신_성공_여부', 'size')\n",
    ").reset_index()\n",
    "\n",
    "grouped['ratio'] = grouped['count'] / grouped['Total']\n",
    "grouped['기증자_나이_더미'] = (grouped['ratio'] >= 0.28).astype(int)\n",
    "\n",
    "# 원본 train 데이터프레임에 더미 변수 추가\n",
    "train = train.merge(grouped[['난자_기증자_나이', '정자_기증자_나이', '기증자_나이_더미']], on=['난자_기증자_나이', '정자_기증자_나이'], how='left')\n",
    "\n",
    "# test 데이터프레임에 더미 변수 추가\n",
    "test = test.merge(grouped[['난자_기증자_나이', '정자_기증자_나이', '기증자_나이_더미']], on=['난자_기증자_나이', '정자_기증자_나이'], how='left')\n",
    "\n",
    "# 결측값을 0으로 채우기 (해당 조합이 train 데이터에 없을 경우)\n",
    "test['기증자_나이_더미'] = test['기증자_나이_더미'].fillna(0).astype(int)"
   ]
  },
  {
   "cell_type": "code",
   "execution_count": 123,
   "metadata": {},
   "outputs": [
    {
     "name": "stdout",
     "output_type": "stream",
     "text": [
      "\n",
      "기증자_나이_더미별 임신_성공_여부 비율 및 갯수\n",
      "\n",
      "                 0         1      0     1  Total\n",
      "variable                                        \n",
      "0         0.738239  0.261761  25061  8886  33947\n",
      "1         0.660269  0.339731   1376   708   2084\n"
     ]
    }
   ],
   "source": [
    "value_counts_ratio(train, '기증자_나이_더미')"
   ]
  },
  {
   "cell_type": "code",
   "execution_count": 124,
   "metadata": {},
   "outputs": [
    {
     "data": {
      "text/plain": [
       "0    12062\n",
       "1      702\n",
       "Name: 기증자_나이_더미, dtype: int64"
      ]
     },
     "execution_count": 124,
     "metadata": {},
     "output_type": "execute_result"
    }
   ],
   "source": [
    "test['기증자_나이_더미'].value_counts()"
   ]
  },
  {
   "cell_type": "code",
   "execution_count": 125,
   "metadata": {},
   "outputs": [],
   "source": [
    "# summarize_group(train, ['난자_기증자_나이', '정자_기증자_나이', '기증자_나이_더미'])"
   ]
  },
  {
   "cell_type": "markdown",
   "metadata": {},
   "source": [
    "### 57. 동결_배아_사용_여부"
   ]
  },
  {
   "cell_type": "markdown",
   "metadata": {},
   "source": [
    "동결 배아가 사용되었는지 여부"
   ]
  },
  {
   "cell_type": "code",
   "execution_count": 126,
   "metadata": {},
   "outputs": [
    {
     "name": "stdout",
     "output_type": "stream",
     "text": [
      "\n",
      "동결_배아_사용_여부별 임신_성공_여부 비율 및 갯수\n",
      "\n",
      "                 0         1      0     1  Total\n",
      "variable                                        \n",
      "0.0       0.722544  0.277456  21487  8251  29738\n",
      "1.0       0.771177  0.228823   4206  1248   5454\n"
     ]
    }
   ],
   "source": [
    "value_counts_ratio(train, '동결_배아_사용_여부')"
   ]
  },
  {
   "cell_type": "markdown",
   "metadata": {},
   "source": [
    "### 58. 신선_배아_사용_여부"
   ]
  },
  {
   "cell_type": "markdown",
   "metadata": {},
   "source": [
    "신선 배아가 사용되었는지 여부"
   ]
  },
  {
   "cell_type": "code",
   "execution_count": 127,
   "metadata": {},
   "outputs": [
    {
     "name": "stdout",
     "output_type": "stream",
     "text": [
      "\n",
      "신선_배아_사용_여부별 임신_성공_여부 비율 및 갯수\n",
      "\n",
      "                 0         1      0     1  Total\n",
      "variable                                        \n",
      "0.0       0.771429  0.228571   4185  1240   5425\n",
      "1.0       0.722545  0.277455  21508  8259  29767\n"
     ]
    }
   ],
   "source": [
    "value_counts_ratio(train, '신선_배아_사용_여부')"
   ]
  },
  {
   "cell_type": "markdown",
   "metadata": {},
   "source": [
    "### 59. 기증_배아_사용_여부"
   ]
  },
  {
   "cell_type": "markdown",
   "metadata": {},
   "source": [
    "기증 배아가 사용되었는지 여부"
   ]
  },
  {
   "cell_type": "code",
   "execution_count": 128,
   "metadata": {},
   "outputs": [
    {
     "name": "stdout",
     "output_type": "stream",
     "text": [
      "\n",
      "기증_배아_사용_여부별 임신_성공_여부 비율 및 갯수\n",
      "\n",
      "                 0         1      0     1  Total\n",
      "variable                                        \n",
      "0.0       0.731083  0.268917  25449  9361  34810\n",
      "1.0       0.638743  0.361257    244   138    382\n"
     ]
    }
   ],
   "source": [
    "value_counts_ratio(train, '기증_배아_사용_여부')"
   ]
  },
  {
   "cell_type": "code",
   "execution_count": 129,
   "metadata": {},
   "outputs": [
    {
     "name": "stdout",
     "output_type": "stream",
     "text": [
      "Grouped by: 신선_배아_사용_여부, 동결_배아_사용_여부, 기증_배아_사용_여부\n",
      "\n",
      "             group  '임신_성공_여부' count     ratio  Total\n",
      "0  (0.0, 1.0, 0.0)              1209  0.228761   5285\n",
      "1  (0.0, 1.0, 1.0)                31  0.221429    140\n",
      "2  (1.0, 0.0, 0.0)              8144  0.276105  29496\n",
      "3  (1.0, 0.0, 1.0)               107  0.442149    242\n",
      "4  (1.0, 1.0, 0.0)                 8  0.275862     29\n"
     ]
    }
   ],
   "source": [
    "summarize_group(train, ['신선_배아_사용_여부', '동결_배아_사용_여부', '기증_배아_사용_여부'])"
   ]
  },
  {
   "cell_type": "markdown",
   "metadata": {},
   "source": [
    "### 60. 대리모_여부"
   ]
  },
  {
   "cell_type": "markdown",
   "metadata": {},
   "source": [
    "환자가 대리모로 활동했는지 여부"
   ]
  },
  {
   "cell_type": "code",
   "execution_count": 130,
   "metadata": {},
   "outputs": [
    {
     "name": "stdout",
     "output_type": "stream",
     "text": [
      "\n",
      "대리모_여부별 임신_성공_여부 비율 및 갯수\n",
      "\n",
      "                 0         1      0     1  Total\n",
      "variable                                        \n",
      "0.0       0.730262  0.269738  25584  9450  35034\n",
      "1.0       0.689873  0.310127    109    49    158\n"
     ]
    }
   ],
   "source": [
    "value_counts_ratio(train, '대리모_여부')"
   ]
  },
  {
   "cell_type": "markdown",
   "metadata": {},
   "source": [
    "### 61. PGD_시술_여부"
   ]
  },
  {
   "cell_type": "markdown",
   "metadata": {},
   "source": [
    "해당 주기가 PGD 치료로 분류되는지 여부"
   ]
  },
  {
   "cell_type": "code",
   "execution_count": 131,
   "metadata": {},
   "outputs": [
    {
     "name": "stdout",
     "output_type": "stream",
     "text": [
      "\n",
      "PGD_시술_여부별 임신_성공_여부 비율 및 갯수\n",
      "\n",
      "                 0         1    0    1  Total\n",
      "variable                                     \n",
      "1.0       0.740385  0.259615  308  108    416\n"
     ]
    }
   ],
   "source": [
    "value_counts_ratio(train, 'PGD_시술_여부')"
   ]
  },
  {
   "cell_type": "code",
   "execution_count": 132,
   "metadata": {},
   "outputs": [
    {
     "data": {
      "text/plain": [
       "35615"
      ]
     },
     "execution_count": 132,
     "metadata": {},
     "output_type": "execute_result"
    }
   ],
   "source": [
    "train['PGD_시술_여부'].isnull().sum()"
   ]
  },
  {
   "cell_type": "code",
   "execution_count": 133,
   "metadata": {},
   "outputs": [
    {
     "name": "stdout",
     "output_type": "stream",
     "text": [
      "결측값 개수: 35615\n",
      "결측값 개수: 0\n"
     ]
    }
   ],
   "source": [
    "# 결측값 개수 확인\n",
    "print(\"결측값 개수:\", train['PGD_시술_여부'].isnull().sum())\n",
    "\n",
    "# 결측값을 0으로 채우기\n",
    "train['PGD_시술_여부'].fillna(0, inplace=True)\n",
    "test['PGD_시술_여부'].fillna(0, inplace=True)\n",
    "\n",
    "# 결측값 개수 확인\n",
    "print(\"결측값 개수:\", train['PGD_시술_여부'].isnull().sum())"
   ]
  },
  {
   "cell_type": "markdown",
   "metadata": {},
   "source": [
    "### 62. PGS_시술_여부"
   ]
  },
  {
   "cell_type": "markdown",
   "metadata": {},
   "source": [
    "해당 주기가 PGS 치료로 분류되는지 여부"
   ]
  },
  {
   "cell_type": "code",
   "execution_count": 134,
   "metadata": {},
   "outputs": [
    {
     "name": "stdout",
     "output_type": "stream",
     "text": [
      "\n",
      "PGS_시술_여부별 임신_성공_여부 비율 및 갯수\n",
      "\n",
      "                 0         1    0   1  Total\n",
      "variable                                    \n",
      "1.0       0.764706  0.235294  169  52    221\n"
     ]
    }
   ],
   "source": [
    "value_counts_ratio(train, 'PGS_시술_여부')"
   ]
  },
  {
   "cell_type": "code",
   "execution_count": 135,
   "metadata": {},
   "outputs": [
    {
     "name": "stdout",
     "output_type": "stream",
     "text": [
      "결측값 개수: 35810\n",
      "결측값 개수: 0\n"
     ]
    }
   ],
   "source": [
    "# 결측값 개수 확인\n",
    "print(\"결측값 개수:\", train['PGS_시술_여부'].isnull().sum())\n",
    "\n",
    "# 결측값을 0으로 채우기\n",
    "train['PGS_시술_여부'].fillna(0, inplace=True)\n",
    "test['PGS_시술_여부'].fillna(0, inplace=True)\n",
    "\n",
    "# 결측값 개수 확인\n",
    "print(\"결측값 개수:\", train['PGS_시술_여부'].isnull().sum())"
   ]
  },
  {
   "cell_type": "code",
   "execution_count": 136,
   "metadata": {},
   "outputs": [
    {
     "name": "stdout",
     "output_type": "stream",
     "text": [
      "Grouped by: PGD_시술_여부, PGS_시술_여부\n",
      "\n",
      "        group  '임신_성공_여부' count     ratio  Total\n",
      "0  (0.0, 0.0)              9434  0.266542  35394\n",
      "1  (0.0, 1.0)                52  0.235294    221\n",
      "2  (1.0, 0.0)               108  0.259615    416\n"
     ]
    }
   ],
   "source": [
    "summarize_group(train, ['PGD_시술_여부', 'PGS_시술_여부'])"
   ]
  },
  {
   "cell_type": "markdown",
   "metadata": {},
   "source": [
    "### 63. 난자_채취_경과일"
   ]
  },
  {
   "cell_type": "markdown",
   "metadata": {},
   "source": [
    "첫 시점으로부터 난자 채취까지 경과한 일수"
   ]
  },
  {
   "cell_type": "code",
   "execution_count": 137,
   "metadata": {},
   "outputs": [
    {
     "name": "stdout",
     "output_type": "stream",
     "text": [
      "\n",
      "난자_채취_경과일별 임신_성공_여부 비율 및 갯수\n",
      "\n",
      "                 0         1      0     1  Total\n",
      "variable                                        \n",
      "0.0       0.727874  0.272126  20363  7613  27976\n"
     ]
    }
   ],
   "source": [
    "value_counts_ratio(train, '난자_채취_경과일')"
   ]
  },
  {
   "cell_type": "code",
   "execution_count": 138,
   "metadata": {},
   "outputs": [
    {
     "name": "stdout",
     "output_type": "stream",
     "text": [
      "결측값 개수: 8055\n",
      "결측값 개수: 0\n"
     ]
    }
   ],
   "source": [
    "print(\"결측값 개수:\", train['난자_채취_경과일'].isnull().sum())\n",
    "\n",
    "train['난자_채취_경과일'].fillna(-1, inplace=True)\n",
    "test['난자_채취_경과일'].fillna(-1, inplace=True)\n",
    "\n",
    "print(\"결측값 개수:\", train['난자_채취_경과일'].isnull().sum())"
   ]
  },
  {
   "cell_type": "markdown",
   "metadata": {},
   "source": [
    "### 64. 난자_해동_경과일"
   ]
  },
  {
   "cell_type": "markdown",
   "metadata": {},
   "source": [
    "첫 시점으로부터 난자 해동까지 경과한 일수"
   ]
  },
  {
   "cell_type": "code",
   "execution_count": 139,
   "metadata": {},
   "outputs": [
    {
     "name": "stdout",
     "output_type": "stream",
     "text": [
      "\n",
      "난자_해동_경과일별 임신_성공_여부 비율 및 갯수\n",
      "\n",
      "                 0         1      0     1  Total\n",
      "variable                                        \n",
      "0.0       0.778523  0.221477  116.0  33.0    149\n",
      "1.0       1.000000  0.000000    1.0   0.0      1\n"
     ]
    }
   ],
   "source": [
    "value_counts_ratio(train, '난자_해동_경과일')"
   ]
  },
  {
   "cell_type": "code",
   "execution_count": 140,
   "metadata": {},
   "outputs": [
    {
     "data": {
      "text/plain": [
       "35881"
      ]
     },
     "execution_count": 140,
     "metadata": {},
     "output_type": "execute_result"
    }
   ],
   "source": [
    "train['난자_해동_경과일'].isnull().sum()"
   ]
  },
  {
   "cell_type": "code",
   "execution_count": 141,
   "metadata": {},
   "outputs": [
    {
     "name": "stdout",
     "output_type": "stream",
     "text": [
      "결측값 개수: 35881\n",
      "결측값 개수: 0\n"
     ]
    }
   ],
   "source": [
    "print(\"결측값 개수:\", train['난자_해동_경과일'].isnull().sum())\n",
    "\n",
    "train['난자_해동_경과일'].fillna(-1, inplace=True)\n",
    "test['난자_해동_경과일'].fillna(-1, inplace=True)\n",
    "\n",
    "print(\"결측값 개수:\", train['난자_해동_경과일'].isnull().sum())"
   ]
  },
  {
   "cell_type": "markdown",
   "metadata": {},
   "source": [
    "### 65. 난자_혼합_경과일"
   ]
  },
  {
   "cell_type": "markdown",
   "metadata": {},
   "source": [
    "첫 시점으로부터 난자와 정자 혼합까지 경과한 일수"
   ]
  },
  {
   "cell_type": "code",
   "execution_count": 142,
   "metadata": {},
   "outputs": [
    {
     "name": "stdout",
     "output_type": "stream",
     "text": [
      "\n",
      "난자_혼합_경과일별 임신_성공_여부 비율 및 갯수\n",
      "\n",
      "                 0         1        0       1  Total\n",
      "variable                                            \n",
      "0.0       0.713299  0.286701  20451.0  8220.0  28671\n",
      "1.0       0.833333  0.166667     50.0    10.0     60\n",
      "2.0       0.727273  0.272727      8.0     3.0     11\n",
      "3.0       0.800000  0.200000      4.0     1.0      5\n",
      "6.0       1.000000  0.000000      1.0     0.0      1\n"
     ]
    }
   ],
   "source": [
    "value_counts_ratio(train, '난자_혼합_경과일')"
   ]
  },
  {
   "cell_type": "code",
   "execution_count": 143,
   "metadata": {},
   "outputs": [
    {
     "data": {
      "text/plain": [
       "7283"
      ]
     },
     "execution_count": 143,
     "metadata": {},
     "output_type": "execute_result"
    }
   ],
   "source": [
    "train['난자_혼합_경과일'].isnull().sum()"
   ]
  },
  {
   "cell_type": "code",
   "execution_count": 144,
   "metadata": {},
   "outputs": [
    {
     "name": "stdout",
     "output_type": "stream",
     "text": [
      "결측값 개수: 7283\n",
      "결측값 개수: 0\n"
     ]
    }
   ],
   "source": [
    "print(\"결측값 개수:\", train['난자_혼합_경과일'].isnull().sum())\n",
    "\n",
    "train['난자_혼합_경과일'].fillna(-1, inplace=True)\n",
    "test['난자_혼합_경과일'].fillna(-1, inplace=True)\n",
    "\n",
    "print(\"결측값 개수:\", train['난자_혼합_경과일'].isnull().sum())"
   ]
  },
  {
   "cell_type": "code",
   "execution_count": 145,
   "metadata": {},
   "outputs": [
    {
     "name": "stdout",
     "output_type": "stream",
     "text": [
      "\n",
      "난자_혼합_경과일별 임신_성공_여부 비율 및 갯수\n",
      "\n",
      "                 0         1        0       1  Total\n",
      "variable                                            \n",
      "-1.0      0.813264  0.186736   5923.0  1360.0   7283\n",
      " 0.0      0.713299  0.286701  20451.0  8220.0  28671\n",
      " 1.0      0.833333  0.166667     50.0    10.0     60\n",
      " 2.0      0.727273  0.272727      8.0     3.0     11\n",
      " 3.0      0.800000  0.200000      4.0     1.0      5\n",
      " 6.0      1.000000  0.000000      1.0     0.0      1\n"
     ]
    }
   ],
   "source": [
    "value_counts_ratio(train, '난자_혼합_경과일')"
   ]
  },
  {
   "cell_type": "markdown",
   "metadata": {},
   "source": [
    "### 66. 배아_이식_경과일"
   ]
  },
  {
   "cell_type": "markdown",
   "metadata": {},
   "source": [
    "첫 시점으로부터 배아 이식까지 경과한 일수"
   ]
  },
  {
   "cell_type": "code",
   "execution_count": 146,
   "metadata": {},
   "outputs": [
    {
     "name": "stdout",
     "output_type": "stream",
     "text": [
      "\n",
      "배아_이식_경과일별 임신_성공_여부 비율 및 갯수\n",
      "\n",
      "                 0         1     0     1  Total\n",
      "variable                                       \n",
      "0.0       0.759527  0.240473  2571   814   3385\n",
      "1.0       0.771664  0.228336   561   166    727\n",
      "2.0       0.796703  0.203297  3915   999   4914\n",
      "3.0       0.739318  0.260682  6160  2172   8332\n",
      "4.0       0.625984  0.374016   477   285    762\n",
      "5.0       0.598461  0.401539  7312  4906  12218\n",
      "6.0       0.682415  0.317585   260   121    381\n",
      "7.0       0.750000  0.250000     6     2      8\n"
     ]
    }
   ],
   "source": [
    "value_counts_ratio(train, '배아_이식_경과일')"
   ]
  },
  {
   "cell_type": "code",
   "execution_count": 147,
   "metadata": {},
   "outputs": [
    {
     "name": "stdout",
     "output_type": "stream",
     "text": [
      "결측값 개수: 5304\n",
      "결측값 개수: 0\n"
     ]
    }
   ],
   "source": [
    "print(\"결측값 개수:\", train['배아_이식_경과일'].isnull().sum())\n",
    "\n",
    "train['배아_이식_경과일'].fillna(-1, inplace=True)\n",
    "test['배아_이식_경과일'].fillna(-1, inplace=True)\n",
    "\n",
    "print(\"결측값 개수:\", train['배아_이식_경과일'].isnull().sum())"
   ]
  },
  {
   "cell_type": "code",
   "execution_count": 148,
   "metadata": {},
   "outputs": [
    {
     "name": "stdout",
     "output_type": "stream",
     "text": [
      "\n",
      "배아_이식_경과일별 임신_성공_여부 비율 및 갯수\n",
      "\n",
      "                 0         1     0     1  Total\n",
      "variable                                       \n",
      "-1.0      0.975679  0.024321  5175   129   5304\n",
      " 0.0      0.759527  0.240473  2571   814   3385\n",
      " 1.0      0.771664  0.228336   561   166    727\n",
      " 2.0      0.796703  0.203297  3915   999   4914\n",
      " 3.0      0.739318  0.260682  6160  2172   8332\n",
      " 4.0      0.625984  0.374016   477   285    762\n",
      " 5.0      0.598461  0.401539  7312  4906  12218\n",
      " 6.0      0.682415  0.317585   260   121    381\n",
      " 7.0      0.750000  0.250000     6     2      8\n"
     ]
    }
   ],
   "source": [
    "value_counts_ratio(train, '배아_이식_경과일')"
   ]
  },
  {
   "cell_type": "markdown",
   "metadata": {},
   "source": [
    "### 67. 배아_해동_경과일"
   ]
  },
  {
   "cell_type": "markdown",
   "metadata": {},
   "source": [
    "첫 시점으로부터 배아 해동까지 경과한 일수"
   ]
  },
  {
   "cell_type": "code",
   "execution_count": 149,
   "metadata": {},
   "outputs": [
    {
     "name": "stdout",
     "output_type": "stream",
     "text": [
      "\n",
      "배아_해동_경과일별 임신_성공_여부 비율 및 갯수\n",
      "\n",
      "                 0         1       0       1  Total\n",
      "variable                                           \n",
      "0.0       0.771107  0.228893  4174.0  1239.0   5413\n",
      "1.0       0.857143  0.142857     6.0     1.0      7\n",
      "2.0       0.823529  0.176471    14.0     3.0     17\n",
      "3.0       0.857143  0.142857    12.0     2.0     14\n",
      "5.0       0.750000  0.250000    12.0     4.0     16\n",
      "6.0       1.000000  0.000000     6.0     0.0      6\n"
     ]
    }
   ],
   "source": [
    "value_counts_ratio(train, '배아_해동_경과일')"
   ]
  },
  {
   "cell_type": "code",
   "execution_count": 150,
   "metadata": {},
   "outputs": [
    {
     "data": {
      "text/plain": [
       "0.0    1931\n",
       "2.0       3\n",
       "5.0       2\n",
       "3.0       2\n",
       "6.0       1\n",
       "1.0       1\n",
       "Name: 배아_해동_경과일, dtype: int64"
      ]
     },
     "execution_count": 150,
     "metadata": {},
     "output_type": "execute_result"
    }
   ],
   "source": [
    "test['배아_해동_경과일'].value_counts()"
   ]
  },
  {
   "cell_type": "code",
   "execution_count": 151,
   "metadata": {},
   "outputs": [
    {
     "name": "stdout",
     "output_type": "stream",
     "text": [
      "결측값 개수: 30558\n",
      "결측값 개수: 0\n"
     ]
    }
   ],
   "source": [
    "print(\"결측값 개수:\", train['배아_해동_경과일'].isnull().sum())\n",
    "\n",
    "train['배아_해동_경과일'].fillna(-1, inplace=True)\n",
    "test['배아_해동_경과일'].fillna(-1, inplace=True)\n",
    "\n",
    "print(\"결측값 개수:\", train['배아_해동_경과일'].isnull().sum())"
   ]
  },
  {
   "cell_type": "code",
   "execution_count": 152,
   "metadata": {},
   "outputs": [
    {
     "name": "stdout",
     "output_type": "stream",
     "text": [
      "\n",
      "배아_해동_경과일별 임신_성공_여부 비율 및 갯수\n",
      "\n",
      "                 0         1        0       1  Total\n",
      "variable                                            \n",
      "-1.0      0.726913  0.273087  22213.0  8345.0  30558\n",
      " 0.0      0.771107  0.228893   4174.0  1239.0   5413\n",
      " 1.0      0.857143  0.142857      6.0     1.0      7\n",
      " 2.0      0.823529  0.176471     14.0     3.0     17\n",
      " 3.0      0.857143  0.142857     12.0     2.0     14\n",
      " 5.0      0.750000  0.250000     12.0     4.0     16\n",
      " 6.0      1.000000  0.000000      6.0     0.0      6\n"
     ]
    }
   ],
   "source": [
    "value_counts_ratio(train, '배아_해동_경과일')"
   ]
  },
  {
   "cell_type": "code",
   "execution_count": 153,
   "metadata": {},
   "outputs": [],
   "source": [
    "# 파생 변수 생성 함수 정의\n",
    "def calculate_difference(col1, col2):\n",
    "    return np.where((col1 == -1) | (col2 == -1), 'unknown', col2 - col1)\n",
    "\n",
    "# 파생 변수 생성 (train 데이터프레임)\n",
    "train['채취_해동_차이'] = calculate_difference(train['난자_채취_경과일'], train['난자_해동_경과일'])\n",
    "train['해동_혼합_차이'] = calculate_difference(train['난자_해동_경과일'], train['난자_혼합_경과일'])\n",
    "train['혼합_이식_차이'] = calculate_difference(train['난자_혼합_경과일'], train['배아_이식_경과일'])\n",
    "train['이식_해동_차이'] = calculate_difference(train['배아_이식_경과일'], train['배아_해동_경과일'])\n",
    "\n",
    "# 파생 변수 생성 (test 데이터프레임)\n",
    "test['채취_해동_차이'] = calculate_difference(test['난자_채취_경과일'], test['난자_해동_경과일'])\n",
    "test['해동_혼합_차이'] = calculate_difference(test['난자_해동_경과일'], test['난자_혼합_경과일'])\n",
    "test['혼합_이식_차이'] = calculate_difference(test['난자_혼합_경과일'], test['배아_이식_경과일'])\n",
    "test['이식_해동_차이'] = calculate_difference(test['배아_이식_경과일'], test['배아_해동_경과일'])"
   ]
  },
  {
   "cell_type": "code",
   "execution_count": 154,
   "metadata": {},
   "outputs": [],
   "source": [
    "# # 모든 행을 출력하도록 설정\n",
    "pd.set_option('display.max_rows', None)"
   ]
  },
  {
   "cell_type": "code",
   "execution_count": 155,
   "metadata": {},
   "outputs": [
    {
     "name": "stdout",
     "output_type": "stream",
     "text": [
      "Grouped by: 난자_채취_경과일, 난자_혼합_경과일\n",
      "\n",
      "          group  '임신_성공_여부' count     ratio  Total\n",
      "0  (-1.0, -1.0)              1335  0.213566   6251\n",
      "1   (-1.0, 0.0)               645  0.357936   1802\n",
      "2   (-1.0, 1.0)                 1  0.500000      2\n",
      "3   (0.0, -1.0)                25  0.024225   1032\n",
      "4    (0.0, 0.0)              7575  0.281923  26869\n",
      "5    (0.0, 1.0)                 9  0.155172     58\n",
      "6    (0.0, 2.0)                 3  0.272727     11\n",
      "7    (0.0, 3.0)                 1  0.200000      5\n",
      "8    (0.0, 6.0)                 0  0.000000      1\n"
     ]
    }
   ],
   "source": [
    "summarize_group(train, ['난자_채취_경과일', '난자_혼합_경과일'])"
   ]
  },
  {
   "cell_type": "code",
   "execution_count": 156,
   "metadata": {},
   "outputs": [
    {
     "name": "stdout",
     "output_type": "stream",
     "text": [
      "Grouped by: 배아_이식_경과일, 배아_해동_경과일\n",
      "\n",
      "           group  '임신_성공_여부' count     ratio  Total\n",
      "0   (-1.0, -1.0)               111  0.022849   4858\n",
      "1    (-1.0, 0.0)                18  0.041190    437\n",
      "2    (-1.0, 1.0)                 0  0.000000      1\n",
      "3    (-1.0, 2.0)                 0  0.000000      1\n",
      "4    (-1.0, 3.0)                 0  0.000000      3\n",
      "5    (-1.0, 5.0)                 0  0.000000      1\n",
      "6    (-1.0, 6.0)                 0  0.000000      3\n",
      "7    (0.0, -1.0)                 5  0.238095     21\n",
      "8     (0.0, 0.0)               809  0.240488   3364\n",
      "9    (1.0, -1.0)                 9  0.214286     42\n",
      "10    (1.0, 0.0)               157  0.229197    685\n",
      "11   (2.0, -1.0)               886  0.200136   4427\n",
      "12    (2.0, 0.0)               111  0.234672    473\n",
      "13    (2.0, 1.0)                 0  0.000000      2\n",
      "14    (2.0, 2.0)                 2  0.181818     11\n",
      "15    (2.0, 6.0)                 0  0.000000      1\n",
      "16   (3.0, -1.0)              2129  0.260460   8174\n",
      "17    (3.0, 0.0)                40  0.273973    146\n",
      "18    (3.0, 1.0)                 1  0.250000      4\n",
      "19    (3.0, 3.0)                 2  0.250000      8\n",
      "20   (4.0, -1.0)               185  0.390295    474\n",
      "21    (4.0, 0.0)               100  0.347222    288\n",
      "22   (5.0, -1.0)              4900  0.402233  12182\n",
      "23    (5.0, 0.0)                 3  0.176471     17\n",
      "24    (5.0, 2.0)                 1  0.250000      4\n",
      "25    (5.0, 3.0)                 0  0.000000      3\n",
      "26    (5.0, 5.0)                 2  0.166667     12\n",
      "27   (6.0, -1.0)               118  0.315508    374\n",
      "28    (6.0, 0.0)                 1  1.000000      1\n",
      "29    (6.0, 2.0)                 0  0.000000      1\n",
      "30    (6.0, 5.0)                 2  0.666667      3\n",
      "31    (6.0, 6.0)                 0  0.000000      2\n",
      "32   (7.0, -1.0)                 2  0.333333      6\n",
      "33    (7.0, 0.0)                 0  0.000000      2\n"
     ]
    }
   ],
   "source": [
    "summarize_group(train, ['배아_이식_경과일', '배아_해동_경과일'])"
   ]
  },
  {
   "cell_type": "code",
   "execution_count": 157,
   "metadata": {},
   "outputs": [
    {
     "name": "stdout",
     "output_type": "stream",
     "text": [
      "\n",
      "이식_해동_차이별 임신_성공_여부 비율 및 갯수\n",
      "\n",
      "                 0         1        0       1  Total\n",
      "variable                                            \n",
      "-1.0      0.769565  0.230435    531.0   159.0    690\n",
      "-2.0      0.766667  0.233333    368.0   112.0    480\n",
      "-3.0      0.726667  0.273333    109.0    41.0    150\n",
      "-4.0      0.653979  0.346021    189.0   100.0    289\n",
      "-5.0      0.823529  0.176471     14.0     3.0     17\n",
      "-6.0      0.000000  1.000000      0.0     1.0      1\n",
      "-7.0      1.000000  0.000000      2.0     0.0      2\n",
      "0.0       0.760082  0.239918   2582.0   815.0   3397\n",
      "4.0       1.000000  0.000000      1.0     0.0      1\n",
      "unknown   0.730261  0.269739  22641.0  8363.0  31004\n"
     ]
    }
   ],
   "source": [
    "value_counts_ratio(train, '이식_해동_차이')"
   ]
  },
  {
   "cell_type": "markdown",
   "metadata": {},
   "source": [
    "### 68. 임신_성공_여부"
   ]
  },
  {
   "cell_type": "markdown",
   "metadata": {},
   "source": [
    "해당 시술로부터 임신 성공 여부"
   ]
  },
  {
   "cell_type": "code",
   "execution_count": 158,
   "metadata": {},
   "outputs": [
    {
     "name": "stdout",
     "output_type": "stream",
     "text": [
      "\n",
      "임신_성공_여부별 임신_성공_여부 비율 및 갯수\n",
      "\n",
      "            0    1        0       1  Total\n",
      "variable                                  \n",
      "0         1.0  0.0  26437.0     0.0  26437\n",
      "1         0.0  1.0      0.0  9594.0   9594\n"
     ]
    }
   ],
   "source": [
    "value_counts_ratio(train, '임신_성공_여부')"
   ]
  },
  {
   "cell_type": "markdown",
   "metadata": {},
   "source": [
    "## 변수 상테 확인"
   ]
  },
  {
   "cell_type": "code",
   "execution_count": 159,
   "metadata": {},
   "outputs": [
    {
     "name": "stdout",
     "output_type": "stream",
     "text": [
      "<class 'pandas.core.frame.DataFrame'>\n",
      "Int64Index: 36031 entries, 0 to 36030\n",
      "Data columns (total 90 columns):\n",
      " #   Column                  Non-Null Count  Dtype   \n",
      "---  ------                  --------------  -----   \n",
      " 0   ID                      36031 non-null  object  \n",
      " 1   시술_당시_나이                36031 non-null  object  \n",
      " 2   임신_시도_또는_마지막_임신_경과_연수   36031 non-null  category\n",
      " 3   시술_유형                   36031 non-null  object  \n",
      " 4   배란_자극_여부                36031 non-null  int64   \n",
      " 5   배란_유도_유형                36031 non-null  object  \n",
      " 6   단일_배아_이식_여부             35192 non-null  float64 \n",
      " 7   착상_전_유전_검사_사용_여부        36031 non-null  float64 \n",
      " 8   착상_전_유전_진단_사용_여부        35192 non-null  float64 \n",
      " 9   남성_주_불임_원인              36031 non-null  int64   \n",
      " 10  남성_부_불임_원인              36031 non-null  int64   \n",
      " 11  여성_주_불임_원인              36031 non-null  int64   \n",
      " 12  여성_부_불임_원인              36031 non-null  int64   \n",
      " 13  부부_주_불임_원인              36031 non-null  int64   \n",
      " 14  부부_부_불임_원인              36031 non-null  int64   \n",
      " 15  불명확_불임_원인               36031 non-null  int64   \n",
      " 16  불임_원인_-_난관_질환           36031 non-null  int64   \n",
      " 17  불임_원인_-_남성_요인           36031 non-null  int64   \n",
      " 18  불임_원인_-_배란_장애           36031 non-null  int64   \n",
      " 19  불임_원인_-_자궁경부_문제         36031 non-null  int64   \n",
      " 20  불임_원인_-_자궁내막증           36031 non-null  int64   \n",
      " 21  불임_원인_-_정자_농도           36031 non-null  int64   \n",
      " 22  불임_원인_-_정자_형태           36031 non-null  int64   \n",
      " 23  배아_생성_주요_이유             36031 non-null  object  \n",
      " 24  총_시술_횟수                 36031 non-null  int64   \n",
      " 25  클리닉_내_총_시술_횟수           36031 non-null  int64   \n",
      " 26  IVF_시술_횟수               36031 non-null  int64   \n",
      " 27  DI_시술_횟수                36031 non-null  int64   \n",
      " 28  총_임신_횟수                 36031 non-null  int64   \n",
      " 29  IVF_임신_횟수               36031 non-null  int64   \n",
      " 30  DI_임신_횟수                36031 non-null  int64   \n",
      " 31  총_출산_횟수                 36031 non-null  int64   \n",
      " 32  IVF_출산_횟수               36031 non-null  int64   \n",
      " 33  DI_출산_횟수                36031 non-null  int64   \n",
      " 34  총_생성_배아_수               35192 non-null  float64 \n",
      " 35  미세주입된_난자_수              35192 non-null  float64 \n",
      " 36  미세주입에서_생성된_배아_수         35192 non-null  float64 \n",
      " 37  이식된_배아_수                35192 non-null  float64 \n",
      " 38  미세주입_배아_이식_수            35192 non-null  float64 \n",
      " 39  저장된_배아_수                35192 non-null  float64 \n",
      " 40  미세주입_후_저장된_배아_수         35192 non-null  float64 \n",
      " 41  해동된_배아_수                35192 non-null  float64 \n",
      " 42  해동_난자_수                 35192 non-null  float64 \n",
      " 43  수집된_신선_난자_수             35192 non-null  float64 \n",
      " 44  저장된_신선_난자_수             35192 non-null  float64 \n",
      " 45  혼합된_난자_수                35192 non-null  float64 \n",
      " 46  파트너_정자와_혼합된_난자_수        35192 non-null  float64 \n",
      " 47  기증자_정자와_혼합된_난자_수        35192 non-null  float64 \n",
      " 48  난자_출처                   36031 non-null  object  \n",
      " 49  정자_출처                   36031 non-null  object  \n",
      " 50  난자_기증자_나이               36031 non-null  object  \n",
      " 51  정자_기증자_나이               36031 non-null  object  \n",
      " 52  동결_배아_사용_여부             35192 non-null  float64 \n",
      " 53  신선_배아_사용_여부             35192 non-null  float64 \n",
      " 54  기증_배아_사용_여부             35192 non-null  float64 \n",
      " 55  대리모_여부                  35192 non-null  float64 \n",
      " 56  PGD_시술_여부               36031 non-null  float64 \n",
      " 57  PGS_시술_여부               36031 non-null  float64 \n",
      " 58  난자_채취_경과일               36031 non-null  float64 \n",
      " 59  난자_해동_경과일               36031 non-null  float64 \n",
      " 60  난자_혼합_경과일               36031 non-null  float64 \n",
      " 61  배아_이식_경과일               36031 non-null  float64 \n",
      " 62  배아_해동_경과일               36031 non-null  float64 \n",
      " 63  임신_성공_여부                36031 non-null  int64   \n",
      " 64  변환된_특정_시술_유형            36030 non-null  object  \n",
      " 65  특정_시술_유형_ICSI_더미        36031 non-null  int64   \n",
      " 66  특정_시술_유형_IVF_더미         36031 non-null  int64   \n",
      " 67  특정_시술_유형_AH_더미          36031 non-null  int64   \n",
      " 68  특정_시술_유형_BLASTOCYST_더미  36031 non-null  int64   \n",
      " 69  배아_생성_주요_이유_현재시술용       36031 non-null  int32   \n",
      " 70  배아_생성_주요_이유_기증용         36031 non-null  int32   \n",
      " 71  배아_생성_주요_이유_난자저장용       36031 non-null  int32   \n",
      " 72  배아_생성_주요_이유_배아저장용       36031 non-null  int32   \n",
      " 73  IVF_임신_시술_비율            36031 non-null  float64 \n",
      " 74  IVF_출산_임신_비율            36031 non-null  float64 \n",
      " 75  DI_임신_시술_비율             36031 non-null  float64 \n",
      " 76  DI_출산_임신_비율             36031 non-null  float64 \n",
      " 77  임신_성공률                  36031 non-null  float64 \n",
      " 78  출산_성공률                  36031 non-null  float64 \n",
      " 79  임신_성공율                  36031 non-null  float64 \n",
      " 80  ICSI_효율성                36031 non-null  float64 \n",
      " 81  저장_배아_비율                36031 non-null  float64 \n",
      " 82  해동_난자_비율                36031 non-null  float64 \n",
      " 83  생성_배아_유지율               36031 non-null  float64 \n",
      " 84  파트너_정자_사용_비율            36031 non-null  float64 \n",
      " 85  기증자_나이_더미               36031 non-null  int32   \n",
      " 86  채취_해동_차이                36031 non-null  object  \n",
      " 87  해동_혼합_차이                36031 non-null  object  \n",
      " 88  혼합_이식_차이                36031 non-null  object  \n",
      " 89  이식_해동_차이                36031 non-null  object  \n",
      "dtypes: category(1), float64(40), int32(5), int64(30), object(14)\n",
      "memory usage: 24.1+ MB\n"
     ]
    }
   ],
   "source": [
    "train.info()"
   ]
  },
  {
   "cell_type": "code",
   "execution_count": 160,
   "metadata": {},
   "outputs": [
    {
     "name": "stdout",
     "output_type": "stream",
     "text": [
      "<class 'pandas.core.frame.DataFrame'>\n",
      "Int64Index: 12764 entries, 0 to 12763\n",
      "Data columns (total 89 columns):\n",
      " #   Column                  Non-Null Count  Dtype   \n",
      "---  ------                  --------------  -----   \n",
      " 0   ID                      12764 non-null  object  \n",
      " 1   시술_당시_나이                12764 non-null  object  \n",
      " 2   임신_시도_또는_마지막_임신_경과_연수   12764 non-null  category\n",
      " 3   시술_유형                   12764 non-null  object  \n",
      " 4   배란_자극_여부                12764 non-null  int64   \n",
      " 5   배란_유도_유형                12764 non-null  object  \n",
      " 6   단일_배아_이식_여부             12437 non-null  float64 \n",
      " 7   착상_전_유전_검사_사용_여부        12764 non-null  float64 \n",
      " 8   착상_전_유전_진단_사용_여부        12437 non-null  float64 \n",
      " 9   남성_주_불임_원인              12764 non-null  int64   \n",
      " 10  남성_부_불임_원인              12764 non-null  int64   \n",
      " 11  여성_주_불임_원인              12764 non-null  int64   \n",
      " 12  여성_부_불임_원인              12764 non-null  int64   \n",
      " 13  부부_주_불임_원인              12764 non-null  int64   \n",
      " 14  부부_부_불임_원인              12764 non-null  int64   \n",
      " 15  불명확_불임_원인               12764 non-null  int64   \n",
      " 16  불임_원인_-_난관_질환           12764 non-null  int64   \n",
      " 17  불임_원인_-_남성_요인           12764 non-null  int64   \n",
      " 18  불임_원인_-_배란_장애           12764 non-null  int64   \n",
      " 19  불임_원인_-_자궁경부_문제         12764 non-null  int64   \n",
      " 20  불임_원인_-_자궁내막증           12764 non-null  int64   \n",
      " 21  불임_원인_-_정자_농도           12764 non-null  int64   \n",
      " 22  불임_원인_-_정자_형태           12764 non-null  int64   \n",
      " 23  배아_생성_주요_이유             12764 non-null  object  \n",
      " 24  총_시술_횟수                 12764 non-null  int64   \n",
      " 25  클리닉_내_총_시술_횟수           12764 non-null  int64   \n",
      " 26  IVF_시술_횟수               12764 non-null  int64   \n",
      " 27  DI_시술_횟수                12764 non-null  int64   \n",
      " 28  총_임신_횟수                 12764 non-null  int64   \n",
      " 29  IVF_임신_횟수               12764 non-null  int64   \n",
      " 30  DI_임신_횟수                12764 non-null  int64   \n",
      " 31  총_출산_횟수                 12764 non-null  int64   \n",
      " 32  IVF_출산_횟수               12764 non-null  int64   \n",
      " 33  DI_출산_횟수                12764 non-null  int64   \n",
      " 34  총_생성_배아_수               12437 non-null  float64 \n",
      " 35  미세주입된_난자_수              12437 non-null  float64 \n",
      " 36  미세주입에서_생성된_배아_수         12437 non-null  float64 \n",
      " 37  이식된_배아_수                12437 non-null  float64 \n",
      " 38  미세주입_배아_이식_수            12437 non-null  float64 \n",
      " 39  저장된_배아_수                12437 non-null  float64 \n",
      " 40  미세주입_후_저장된_배아_수         12437 non-null  float64 \n",
      " 41  해동된_배아_수                12437 non-null  float64 \n",
      " 42  해동_난자_수                 12437 non-null  float64 \n",
      " 43  수집된_신선_난자_수             12437 non-null  float64 \n",
      " 44  저장된_신선_난자_수             12437 non-null  float64 \n",
      " 45  혼합된_난자_수                12437 non-null  float64 \n",
      " 46  파트너_정자와_혼합된_난자_수        12437 non-null  float64 \n",
      " 47  기증자_정자와_혼합된_난자_수        12437 non-null  float64 \n",
      " 48  난자_출처                   12764 non-null  object  \n",
      " 49  정자_출처                   12764 non-null  object  \n",
      " 50  난자_기증자_나이               12764 non-null  object  \n",
      " 51  정자_기증자_나이               12764 non-null  object  \n",
      " 52  동결_배아_사용_여부             12437 non-null  float64 \n",
      " 53  신선_배아_사용_여부             12437 non-null  float64 \n",
      " 54  기증_배아_사용_여부             12437 non-null  float64 \n",
      " 55  대리모_여부                  12437 non-null  float64 \n",
      " 56  PGD_시술_여부               12764 non-null  float64 \n",
      " 57  PGS_시술_여부               12764 non-null  float64 \n",
      " 58  난자_채취_경과일               12764 non-null  float64 \n",
      " 59  난자_해동_경과일               12764 non-null  float64 \n",
      " 60  난자_혼합_경과일               12764 non-null  float64 \n",
      " 61  배아_이식_경과일               12764 non-null  float64 \n",
      " 62  배아_해동_경과일               12764 non-null  float64 \n",
      " 63  변환된_특정_시술_유형            12764 non-null  object  \n",
      " 64  특정_시술_유형_ICSI_더미        12764 non-null  int64   \n",
      " 65  특정_시술_유형_IVF_더미         12764 non-null  int64   \n",
      " 66  특정_시술_유형_AH_더미          12764 non-null  int64   \n",
      " 67  특정_시술_유형_BLASTOCYST_더미  12764 non-null  int64   \n",
      " 68  배아_생성_주요_이유_현재시술용       12764 non-null  int32   \n",
      " 69  배아_생성_주요_이유_기증용         12764 non-null  int32   \n",
      " 70  배아_생성_주요_이유_난자저장용       12764 non-null  int32   \n",
      " 71  배아_생성_주요_이유_배아저장용       12764 non-null  int32   \n",
      " 72  IVF_임신_시술_비율            12764 non-null  float64 \n",
      " 73  IVF_출산_임신_비율            12764 non-null  float64 \n",
      " 74  DI_임신_시술_비율             12764 non-null  float64 \n",
      " 75  DI_출산_임신_비율             12764 non-null  float64 \n",
      " 76  임신_성공률                  12764 non-null  float64 \n",
      " 77  출산_성공률                  12764 non-null  float64 \n",
      " 78  임신_성공율                  12764 non-null  float64 \n",
      " 79  ICSI_효율성                12764 non-null  float64 \n",
      " 80  저장_배아_비율                12764 non-null  float64 \n",
      " 81  해동_난자_비율                12764 non-null  float64 \n",
      " 82  생성_배아_유지율               12764 non-null  float64 \n",
      " 83  파트너_정자_사용_비율            12764 non-null  float64 \n",
      " 84  기증자_나이_더미               12764 non-null  int32   \n",
      " 85  채취_해동_차이                12764 non-null  object  \n",
      " 86  해동_혼합_차이                12764 non-null  object  \n",
      " 87  혼합_이식_차이                12764 non-null  object  \n",
      " 88  이식_해동_차이                12764 non-null  object  \n",
      "dtypes: category(1), float64(40), int32(5), int64(29), object(14)\n",
      "memory usage: 8.4+ MB\n"
     ]
    }
   ],
   "source": [
    "test.info()"
   ]
  },
  {
   "cell_type": "markdown",
   "metadata": {},
   "source": [
    "## 데이터 저장"
   ]
  },
  {
   "cell_type": "code",
   "execution_count": 161,
   "metadata": {},
   "outputs": [],
   "source": [
    "# CSV 파일 저장\n",
    "train.to_csv('../data/train_dataset_25_TRJXFG.csv', index=False, encoding='utf-8-sig')\n",
    "test.to_csv('../data/test_dataset_25_TRJXFG.csv', index=False, encoding='utf-8-sig')"
   ]
  },
  {
   "cell_type": "markdown",
   "metadata": {},
   "source": [
    "."
   ]
  }
 ],
 "metadata": {
  "kernelspec": {
   "display_name": "Python 3",
   "language": "python",
   "name": "python3"
  },
  "language_info": {
   "codemirror_mode": {
    "name": "ipython",
    "version": 3
   },
   "file_extension": ".py",
   "mimetype": "text/x-python",
   "name": "python",
   "nbconvert_exporter": "python",
   "pygments_lexer": "ipython3",
   "version": "3.7.8"
  }
 },
 "nbformat": 4,
 "nbformat_minor": 2
}
