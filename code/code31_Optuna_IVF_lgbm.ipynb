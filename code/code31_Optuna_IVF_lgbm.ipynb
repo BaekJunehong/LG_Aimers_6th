{
 "cells": [
  {
   "cell_type": "markdown",
   "metadata": {},
   "source": [
    "## 난임 환자 대상 임신 성공 여부 예측"
   ]
  },
  {
   "cell_type": "markdown",
   "metadata": {},
   "source": [
    "### LGAimers 6th 온라인 해커톤"
   ]
  },
  {
   "cell_type": "markdown",
   "metadata": {},
   "source": [
    "Import"
   ]
  },
  {
   "cell_type": "code",
   "execution_count": 1,
   "metadata": {},
   "outputs": [],
   "source": [
    "import pandas as pd\n",
    "import lightgbm as lgb\n",
    "from sklearn.preprocessing import OrdinalEncoder\n",
    "from sklearn.model_selection import train_test_split\n",
    "from sklearn.metrics import accuracy_score, f1_score, roc_auc_score, confusion_matrix, ConfusionMatrixDisplay\n",
    "import matplotlib.pyplot as plt"
   ]
  },
  {
   "cell_type": "markdown",
   "metadata": {},
   "source": [
    "### Data Load"
   ]
  },
  {
   "cell_type": "code",
   "execution_count": 2,
   "metadata": {},
   "outputs": [],
   "source": [
    "# 데이터 로드\n",
    "IVF_train = pd.read_csv('../data/IVF_train_dataset_31.csv')\n",
    "IVF_test = pd.read_csv('../data/IVF_test_dataset_31.csv')"
   ]
  },
  {
   "cell_type": "code",
   "execution_count": 3,
   "metadata": {},
   "outputs": [],
   "source": [
    "# ID 열을 제외한 특성과 타겟 변수 분리\n",
    "IVF_X = IVF_train.drop(['임신_성공_여부', 'ID'], axis=1)\n",
    "IVF_y = IVF_train['임신_성공_여부']"
   ]
  },
  {
   "cell_type": "code",
   "execution_count": 4,
   "metadata": {},
   "outputs": [
    {
     "name": "stdout",
     "output_type": "stream",
     "text": [
      "IVF_X shape: (250052, 97)\n",
      "IVF_test shape: (87891, 97)\n"
     ]
    }
   ],
   "source": [
    "print(f\"IVF_X shape: {IVF_X.shape}\")\n",
    "print(f\"IVF_test shape: {IVF_test.drop('ID', axis=1).shape}\")"
   ]
  },
  {
   "cell_type": "markdown",
   "metadata": {},
   "source": [
    "### 인코딩 "
   ]
  },
  {
   "cell_type": "code",
   "execution_count": 5,
   "metadata": {},
   "outputs": [],
   "source": [
    "IVF_categorical_columns = [\n",
    "    \"시술_당시_나이\",\n",
    "    \"배란_유도_유형\",\n",
    "    \"난자_출처\",\n",
    "    \"정자_출처\",\n",
    "    \"난자_기증자_나이\",\n",
    "    \"정자_기증자_나이\"\n",
    "]"
   ]
  },
  {
   "cell_type": "code",
   "execution_count": 6,
   "metadata": {},
   "outputs": [],
   "source": [
    "# 모든 범주형 변수를 문자열로 변환\n",
    "IVF_X[IVF_categorical_columns] = IVF_X[IVF_categorical_columns].astype(str)\n",
    "IVF_test[IVF_categorical_columns] = IVF_test[IVF_categorical_columns].astype(str)\n",
    "\n",
    "# OrdinalEncoder를 사용하여 범주형 변수 인코딩\n",
    "IVF_encoder = OrdinalEncoder(handle_unknown='use_encoded_value', unknown_value=-1)\n",
    "\n",
    "IVF_X[IVF_categorical_columns] = IVF_encoder.fit_transform(IVF_X[IVF_categorical_columns])\n",
    "IVF_test[IVF_categorical_columns] = IVF_encoder.transform(IVF_test[IVF_categorical_columns])"
   ]
  },
  {
   "cell_type": "markdown",
   "metadata": {},
   "source": [
    "## Modeling"
   ]
  },
  {
   "cell_type": "code",
   "execution_count": 7,
   "metadata": {},
   "outputs": [],
   "source": [
    "# 데이터 분할\n",
    "IVF_X_train, IVF_X_test, IVF_y_train, IVF_y_test = train_test_split(IVF_X, IVF_y, test_size=0.2, random_state=42)"
   ]
  },
  {
   "cell_type": "markdown",
   "metadata": {},
   "source": [
    "### IVF 데이터"
   ]
  },
  {
   "cell_type": "code",
   "execution_count": 8,
   "metadata": {},
   "outputs": [
    {
     "name": "stderr",
     "output_type": "stream",
     "text": [
      "[I 2025-02-16 01:12:43,560] A new study created in memory with name: no-name-f499162b-e5e8-45b7-a93e-00fc0f601e90\n",
      "[I 2025-02-16 01:14:24,528] Trial 0 finished with value: 0.6879913149084951 and parameters: {'n_estimators': 3363, 'max_depth': 226, 'learning_rate': 0.07270647222625722, 'num_leaves': 467, 'min_child_samples': 79, 'subsample': 0.7167491809922264, 'reg_alpha': 0.056419440094137914, 'reg_lambda': 1.0282080389413704}. Best is trial 0 with value: 0.6879913149084951.\n",
      "[I 2025-02-16 01:17:46,768] Trial 1 finished with value: 0.7080625420999695 and parameters: {'n_estimators': 2163, 'max_depth': 62, 'learning_rate': 0.007964985644536529, 'num_leaves': 1888, 'min_child_samples': 33, 'subsample': 0.6437056797996589, 'reg_alpha': 0.024579170827883943, 'reg_lambda': 0.012520027380750018}. Best is trial 1 with value: 0.7080625420999695.\n",
      "[I 2025-02-16 01:18:30,862] Trial 2 finished with value: 0.732115292314218 and parameters: {'n_estimators': 1682, 'max_depth': 81, 'learning_rate': 0.00010456963461374753, 'num_leaves': 1220, 'min_child_samples': 81, 'subsample': 0.7933538372839345, 'reg_alpha': 6.700195130661566, 'reg_lambda': 0.09055270055486589}. Best is trial 2 with value: 0.732115292314218.\n",
      "[I 2025-02-16 01:26:19,298] Trial 3 finished with value: 0.7100675135451748 and parameters: {'n_estimators': 5477, 'max_depth': 124, 'learning_rate': 0.003383353475391481, 'num_leaves': 1411, 'min_child_samples': 63, 'subsample': 0.7143760822131813, 'reg_alpha': 0.3766268200500275, 'reg_lambda': 2.134145399323392}. Best is trial 2 with value: 0.732115292314218.\n",
      "[I 2025-02-16 01:27:27,834] Trial 4 finished with value: 0.73842103057343 and parameters: {'n_estimators': 4193, 'max_depth': 164, 'learning_rate': 0.001251991318169163, 'num_leaves': 143, 'min_child_samples': 13, 'subsample': 0.935845859869752, 'reg_alpha': 4.304382692885682, 'reg_lambda': 0.038683090015876206}. Best is trial 4 with value: 0.73842103057343.\n",
      "[I 2025-02-16 01:29:18,319] Trial 5 finished with value: 0.7363349149877425 and parameters: {'n_estimators': 2058, 'max_depth': 21, 'learning_rate': 0.0010368872376374, 'num_leaves': 1130, 'min_child_samples': 1, 'subsample': 0.9485143254453823, 'reg_alpha': 9.327013695502176, 'reg_lambda': 0.012015108899140632}. Best is trial 4 with value: 0.73842103057343.\n",
      "[I 2025-02-16 01:36:44,840] Trial 6 finished with value: 0.6902663011963421 and parameters: {'n_estimators': 5196, 'max_depth': 141, 'learning_rate': 0.014339360338067608, 'num_leaves': 1527, 'min_child_samples': 59, 'subsample': 0.6237978506202334, 'reg_alpha': 0.0030323833949826703, 'reg_lambda': 0.01825062549154082}. Best is trial 4 with value: 0.73842103057343.\n",
      "[I 2025-02-16 01:40:25,450] Trial 7 finished with value: 0.7306675379865535 and parameters: {'n_estimators': 3601, 'max_depth': 113, 'learning_rate': 0.0006669407976024304, 'num_leaves': 1078, 'min_child_samples': 19, 'subsample': 0.7048746726315681, 'reg_alpha': 0.5182294552653695, 'reg_lambda': 0.002024037376282012}. Best is trial 4 with value: 0.73842103057343.\n",
      "[I 2025-02-16 01:44:25,875] Trial 8 finished with value: 0.7327811233965471 and parameters: {'n_estimators': 4690, 'max_depth': 211, 'learning_rate': 0.00028687291761002835, 'num_leaves': 807, 'min_child_samples': 63, 'subsample': 0.6292757931938651, 'reg_alpha': 0.013431922174392012, 'reg_lambda': 0.06051628908386352}. Best is trial 4 with value: 0.73842103057343.\n",
      "[I 2025-02-16 01:51:02,988] Trial 9 finished with value: 0.703625422143924 and parameters: {'n_estimators': 4012, 'max_depth': 146, 'learning_rate': 0.005566448274059203, 'num_leaves': 1871, 'min_child_samples': 34, 'subsample': 0.9398238294516387, 'reg_alpha': 1.4697875607390285, 'reg_lambda': 0.2695269808911559}. Best is trial 4 with value: 0.73842103057343.\n",
      "[I 2025-02-16 01:52:28,002] Trial 10 finished with value: 0.7326749482243089 and parameters: {'n_estimators': 6624, 'max_depth': 278, 'learning_rate': 1.642638821514731e-05, 'num_leaves': 77, 'min_child_samples': 100, 'subsample': 0.8798050195287933, 'reg_alpha': 1.3798364550002216, 'reg_lambda': 7.558496708301212}. Best is trial 4 with value: 0.73842103057343.\n",
      "[I 2025-02-16 01:52:34,789] Trial 11 finished with value: 0.7296993697082639 and parameters: {'n_estimators': 1152, 'max_depth': 4, 'learning_rate': 0.0011585430429696558, 'num_leaves': 683, 'min_child_samples': 1, 'subsample': 0.9171623923846279, 'reg_alpha': 9.248540318616687, 'reg_lambda': 0.001464503716677058}. Best is trial 4 with value: 0.73842103057343.\n",
      "[I 2025-02-16 01:53:14,366] Trial 12 finished with value: 0.7332869901500594 and parameters: {'n_estimators': 2677, 'max_depth': 200, 'learning_rate': 5.9381766999116264e-05, 'num_leaves': 112, 'min_child_samples': 1, 'subsample': 0.9892662012871467, 'reg_alpha': 2.607007762784781, 'reg_lambda': 0.013564605964464474}. Best is trial 4 with value: 0.73842103057343.\n",
      "[I 2025-02-16 01:53:49,536] Trial 13 finished with value: 0.7352468136569811 and parameters: {'n_estimators': 7948, 'max_depth': 3, 'learning_rate': 0.0007885517519256273, 'num_leaves': 463, 'min_child_samples': 19, 'subsample': 0.8484688275211637, 'reg_alpha': 0.3102122763602301, 'reg_lambda': 0.0055262378903741674}. Best is trial 4 with value: 0.73842103057343.\n",
      "[I 2025-02-16 01:55:56,334] Trial 14 finished with value: 0.7322531550855494 and parameters: {'n_estimators': 2921, 'max_depth': 182, 'learning_rate': 0.0022650565353527384, 'num_leaves': 676, 'min_child_samples': 19, 'subsample': 0.9733742750164729, 'reg_alpha': 3.831442786700285, 'reg_lambda': 0.05120706514357752}. Best is trial 4 with value: 0.73842103057343.\n",
      "[I 2025-02-16 02:01:04,437] Trial 15 finished with value: 0.6856319647728777 and parameters: {'n_estimators': 6238, 'max_depth': 56, 'learning_rate': 0.030057190769436096, 'num_leaves': 951, 'min_child_samples': 38, 'subsample': 0.8188288247861373, 'reg_alpha': 0.17795267544260204, 'reg_lambda': 0.20563027703483014}. Best is trial 4 with value: 0.73842103057343.\n",
      "[I 2025-02-16 02:01:37,452] Trial 16 finished with value: 0.7314758640844541 and parameters: {'n_estimators': 1132, 'max_depth': 257, 'learning_rate': 0.0002369977614224912, 'num_leaves': 378, 'min_child_samples': 10, 'subsample': 0.9124159870184043, 'reg_alpha': 0.9864629573786804, 'reg_lambda': 0.0039067997929713464}. Best is trial 4 with value: 0.73842103057343.\n",
      "[I 2025-02-16 02:03:33,597] Trial 17 finished with value: 0.7362178258012408 and parameters: {'n_estimators': 4350, 'max_depth': 99, 'learning_rate': 0.00030388461391242207, 'num_leaves': 1578, 'min_child_samples': 43, 'subsample': 0.9978496722573696, 'reg_alpha': 9.878612788066608, 'reg_lambda': 0.020902704966410356}. Best is trial 4 with value: 0.73842103057343.\n",
      "[I 2025-02-16 02:06:07,530] Trial 18 finished with value: 0.7286169488014174 and parameters: {'n_estimators': 2254, 'max_depth': 173, 'learning_rate': 0.0017897716817789715, 'num_leaves': 1265, 'min_child_samples': 24, 'subsample': 0.7747393331413898, 'reg_alpha': 0.002587435339981799, 'reg_lambda': 0.32287803523847924}. Best is trial 4 with value: 0.73842103057343.\n",
      "[I 2025-02-16 02:08:37,249] Trial 19 finished with value: 0.7319305161944136 and parameters: {'n_estimators': 6304, 'max_depth': 244, 'learning_rate': 2.0563329346104438e-05, 'num_leaves': 265, 'min_child_samples': 10, 'subsample': 0.8819729456779557, 'reg_alpha': 4.00181321190242, 'reg_lambda': 0.03605181898342465}. Best is trial 4 with value: 0.73842103057343.\n",
      "[I 2025-02-16 02:16:29,410] Trial 20 finished with value: 0.7308597745565133 and parameters: {'n_estimators': 7690, 'max_depth': 174, 'learning_rate': 8.452668501711231e-05, 'num_leaves': 991, 'min_child_samples': 49, 'subsample': 0.947858385960606, 'reg_alpha': 0.07394445567546214, 'reg_lambda': 0.004948289511627264}. Best is trial 4 with value: 0.73842103057343.\n",
      "[I 2025-02-16 02:18:40,376] Trial 21 finished with value: 0.7369750928121341 and parameters: {'n_estimators': 4446, 'max_depth': 92, 'learning_rate': 0.0004359147266717982, 'num_leaves': 1644, 'min_child_samples': 45, 'subsample': 0.9938487329754736, 'reg_alpha': 9.31082601471403, 'reg_lambda': 0.028998211277646183}. Best is trial 4 with value: 0.73842103057343.\n",
      "[I 2025-02-16 02:25:45,098] Trial 22 finished with value: 0.7295953566676058 and parameters: {'n_estimators': 4872, 'max_depth': 36, 'learning_rate': 0.0005536677863104215, 'num_leaves': 1707, 'min_child_samples': 10, 'subsample': 0.9561228451410877, 'reg_alpha': 2.573823784277709, 'reg_lambda': 0.1098037102083851}. Best is trial 4 with value: 0.73842103057343.\n",
      "[I 2025-02-16 02:30:14,027] Trial 23 finished with value: 0.7349538192497754 and parameters: {'n_estimators': 5687, 'max_depth': 33, 'learning_rate': 0.00016177566423461028, 'num_leaves': 2025, 'min_child_samples': 27, 'subsample': 0.8875023876380849, 'reg_alpha': 4.803196944601265, 'reg_lambda': 0.03298850145943464}. Best is trial 4 with value: 0.73842103057343.\n",
      "[I 2025-02-16 02:34:31,901] Trial 24 finished with value: 0.7270575017421708 and parameters: {'n_estimators': 3867, 'max_depth': 90, 'learning_rate': 0.0015037696421846911, 'num_leaves': 1236, 'min_child_samples': 9, 'subsample': 0.9248845439080694, 'reg_alpha': 1.2360559902004156, 'reg_lambda': 0.0075274764085506395}. Best is trial 4 with value: 0.73842103057343.\n",
      "[I 2025-02-16 02:36:20,015] Trial 25 finished with value: 0.7339944926384837 and parameters: {'n_estimators': 3238, 'max_depth': 68, 'learning_rate': 0.0039296930190878205, 'num_leaves': 1405, 'min_child_samples': 53, 'subsample': 0.964912246504331, 'reg_alpha': 9.754769041609965, 'reg_lambda': 0.5965293884334258}. Best is trial 4 with value: 0.73842103057343.\n",
      "[I 2025-02-16 02:41:25,707] Trial 26 finished with value: 0.7309146379928584 and parameters: {'n_estimators': 7012, 'max_depth': 43, 'learning_rate': 4.0218098845731954e-05, 'num_leaves': 725, 'min_child_samples': 71, 'subsample': 0.9998483487264666, 'reg_alpha': 2.3190431933365194, 'reg_lambda': 0.13562185479359287}. Best is trial 4 with value: 0.73842103057343.\n",
      "[I 2025-02-16 02:47:43,552] Trial 27 finished with value: 0.7277232701842804 and parameters: {'n_estimators': 4379, 'max_depth': 132, 'learning_rate': 0.0004732117208740459, 'num_leaves': 1697, 'min_child_samples': 44, 'subsample': 0.8518768567567825, 'reg_alpha': 0.5916240845794623, 'reg_lambda': 0.008687527506383828}. Best is trial 4 with value: 0.73842103057343.\n",
      "[I 2025-02-16 02:49:54,797] Trial 28 finished with value: 0.7162397634083917 and parameters: {'n_estimators': 2506, 'max_depth': 159, 'learning_rate': 0.009524187514412571, 'num_leaves': 1098, 'min_child_samples': 93, 'subsample': 0.9064720822065064, 'reg_alpha': 3.2165678561549376, 'reg_lambda': 0.02400482838115975}. Best is trial 4 with value: 0.73842103057343.\n",
      "[I 2025-02-16 02:51:55,823] Trial 29 finished with value: 0.7339006857776075 and parameters: {'n_estimators': 3097, 'max_depth': 23, 'learning_rate': 0.0010723417401600256, 'num_leaves': 597, 'min_child_samples': 26, 'subsample': 0.7540050061441983, 'reg_alpha': 0.0012948134096878036, 'reg_lambda': 0.002987064175760479}. Best is trial 4 with value: 0.73842103057343.\n",
      "[I 2025-02-16 02:52:27,981] Trial 30 finished with value: 0.7145674073532986 and parameters: {'n_estimators': 1755, 'max_depth': 107, 'learning_rate': 0.06682724154647186, 'num_leaves': 912, 'min_child_samples': 76, 'subsample': 0.8412753212845605, 'reg_alpha': 5.547106045942197, 'reg_lambda': 0.055213413502748915}. Best is trial 4 with value: 0.73842103057343.\n",
      "[I 2025-02-16 02:54:19,739] Trial 31 finished with value: 0.736495040093123 and parameters: {'n_estimators': 4149, 'max_depth': 90, 'learning_rate': 0.00036547146421200296, 'num_leaves': 1602, 'min_child_samples': 45, 'subsample': 0.9783580344565028, 'reg_alpha': 9.860672738684457, 'reg_lambda': 0.016137049493912273}. Best is trial 4 with value: 0.73842103057343.\n",
      "[I 2025-02-16 02:59:52,853] Trial 32 finished with value: 0.7254259871102631 and parameters: {'n_estimators': 3583, 'max_depth': 76, 'learning_rate': 0.00014018186748183747, 'num_leaves': 1796, 'min_child_samples': 52, 'subsample': 0.9734608844977142, 'reg_alpha': 0.031148813693679035, 'reg_lambda': 0.010092275277103867}. Best is trial 4 with value: 0.73842103057343.\n",
      "[I 2025-02-16 03:02:35,834] Trial 33 finished with value: 0.7354337665244168 and parameters: {'n_estimators': 4015, 'max_depth': 58, 'learning_rate': 0.00031771658729443043, 'num_leaves': 2047, 'min_child_samples': 34, 'subsample': 0.9387670700923405, 'reg_alpha': 5.829699055507625, 'reg_lambda': 0.0010273363317423062}. Best is trial 4 with value: 0.73842103057343.\n",
      "[I 2025-02-16 03:09:16,536] Trial 34 finished with value: 0.7156311677387234 and parameters: {'n_estimators': 5320, 'max_depth': 121, 'learning_rate': 0.002576022672139846, 'num_leaves': 1349, 'min_child_samples': 42, 'subsample': 0.9738885643333226, 'reg_alpha': 1.9956723181900824, 'reg_lambda': 0.012556913757258687}. Best is trial 4 with value: 0.73842103057343.\n",
      "[I 2025-02-16 03:16:30,209] Trial 35 finished with value: 0.7342047998677974 and parameters: {'n_estimators': 5771, 'max_depth': 81, 'learning_rate': 0.0005076825428025347, 'num_leaves': 1579, 'min_child_samples': 6, 'subsample': 0.9403634324823724, 'reg_alpha': 5.00206157269476, 'reg_lambda': 0.031462538887260645}. Best is trial 4 with value: 0.73842103057343.\n",
      "[I 2025-02-16 03:23:15,040] Trial 36 finished with value: 0.7257955717139853 and parameters: {'n_estimators': 4964, 'max_depth': 157, 'learning_rate': 0.000998200244241999, 'num_leaves': 1541, 'min_child_samples': 15, 'subsample': 0.6782070315537365, 'reg_alpha': 0.7367231582781882, 'reg_lambda': 0.08508772660663064}. Best is trial 4 with value: 0.73842103057343.\n",
      "[I 2025-02-16 03:25:16,739] Trial 37 finished with value: 0.7351483870799085 and parameters: {'n_estimators': 4327, 'max_depth': 19, 'learning_rate': 0.00016461492898102497, 'num_leaves': 1471, 'min_child_samples': 61, 'subsample': 0.9795080407089287, 'reg_alpha': 7.233858287201669, 'reg_lambda': 0.01417768465539242}. Best is trial 4 with value: 0.73842103057343.\n",
      "[I 2025-02-16 03:27:12,345] Trial 38 finished with value: 0.7240598696928084 and parameters: {'n_estimators': 1739, 'max_depth': 96, 'learning_rate': 0.004181479608407159, 'num_leaves': 1157, 'min_child_samples': 68, 'subsample': 0.9025534747934373, 'reg_alpha': 0.012851401028490483, 'reg_lambda': 0.002865487555843558}. Best is trial 4 with value: 0.73842103057343.\n",
      "[I 2025-02-16 03:32:24,266] Trial 39 finished with value: 0.728010577903549 and parameters: {'n_estimators': 3559, 'max_depth': 199, 'learning_rate': 0.0003949354097897095, 'num_leaves': 1677, 'min_child_samples': 29, 'subsample': 0.9548697840492577, 'reg_alpha': 0.180691495564822, 'reg_lambda': 0.018361701971045336}. Best is trial 4 with value: 0.73842103057343.\n",
      "[I 2025-02-16 03:36:47,929] Trial 40 finished with value: 0.6987924974322313 and parameters: {'n_estimators': 5015, 'max_depth': 131, 'learning_rate': 0.013643178915176536, 'num_leaves': 854, 'min_child_samples': 85, 'subsample': 0.9333783380252594, 'reg_alpha': 1.6777194376044935, 'reg_lambda': 1.8792367109647108}. Best is trial 4 with value: 0.73842103057343.\n",
      "[I 2025-02-16 03:38:38,928] Trial 41 finished with value: 0.7352512318804709 and parameters: {'n_estimators': 4493, 'max_depth': 94, 'learning_rate': 0.00021128350720826035, 'num_leaves': 1894, 'min_child_samples': 56, 'subsample': 0.9907351301652644, 'reg_alpha': 9.672427657482782, 'reg_lambda': 0.019403868511524456}. Best is trial 4 with value: 0.73842103057343.\n",
      "[I 2025-02-16 03:40:37,391] Trial 42 finished with value: 0.733716935913401 and parameters: {'n_estimators': 4105, 'max_depth': 110, 'learning_rate': 8.992702527887899e-05, 'num_leaves': 1293, 'min_child_samples': 47, 'subsample': 0.9851843020904922, 'reg_alpha': 6.73552095122992, 'reg_lambda': 0.06789373550130767}. Best is trial 4 with value: 0.73842103057343.\n",
      "[I 2025-02-16 03:43:42,414] Trial 43 finished with value: 0.7365831665300846 and parameters: {'n_estimators': 4691, 'max_depth': 144, 'learning_rate': 0.0007022507006873712, 'num_leaves': 1624, 'min_child_samples': 39, 'subsample': 0.9938162593703951, 'reg_alpha': 7.4320406888265245, 'reg_lambda': 0.04098537280278813}. Best is trial 4 with value: 0.73842103057343.\n",
      "[I 2025-02-16 03:48:52,112] Trial 44 finished with value: 0.7324647725394564 and parameters: {'n_estimators': 4617, 'max_depth': 147, 'learning_rate': 0.0008314803245761894, 'num_leaves': 1824, 'min_child_samples': 38, 'subsample': 0.9569387461145068, 'reg_alpha': 3.631243658755135, 'reg_lambda': 0.04485250736044063}. Best is trial 4 with value: 0.73842103057343.\n",
      "[I 2025-02-16 03:49:02,832] Trial 45 finished with value: 0.7221873885760994 and parameters: {'n_estimators': 3755, 'max_depth': 221, 'learning_rate': 0.00150759314209906, 'num_leaves': 2, 'min_child_samples': 16, 'subsample': 0.605440842150229, 'reg_alpha': 6.454114822120496, 'reg_lambda': 0.006511796352510017}. Best is trial 4 with value: 0.73842103057343.\n",
      "[I 2025-02-16 03:52:32,786] Trial 46 finished with value: 0.7329860185108865 and parameters: {'n_estimators': 2808, 'max_depth': 48, 'learning_rate': 0.0006914578767791646, 'num_leaves': 1445, 'min_child_samples': 4, 'subsample': 0.9281819090613287, 'reg_alpha': 3.4759140246429308, 'reg_lambda': 0.14934542955420596}. Best is trial 4 with value: 0.73842103057343.\n",
      "[I 2025-02-16 03:54:25,477] Trial 47 finished with value: 0.7257452726616425 and parameters: {'n_estimators': 5635, 'max_depth': 135, 'learning_rate': 0.006208764464730819, 'num_leaves': 262, 'min_child_samples': 32, 'subsample': 0.965260197864196, 'reg_alpha': 2.012278105725866, 'reg_lambda': 0.027246386203303434}. Best is trial 4 with value: 0.73842103057343.\n",
      "[I 2025-02-16 04:03:50,199] Trial 48 finished with value: 0.7085045043454397 and parameters: {'n_estimators': 5383, 'max_depth': 188, 'learning_rate': 0.002648659506486108, 'num_leaves': 1935, 'min_child_samples': 38, 'subsample': 0.9993645761124944, 'reg_alpha': 1.0931724962930636, 'reg_lambda': 0.07894827358326739}. Best is trial 4 with value: 0.73842103057343.\n",
      "[I 2025-02-16 04:07:53,058] Trial 49 finished with value: 0.7367444055873706 and parameters: {'n_estimators': 6033, 'max_depth': 118, 'learning_rate': 0.00036296203124678303, 'num_leaves': 1601, 'min_child_samples': 22, 'subsample': 0.8677425864176691, 'reg_alpha': 7.072043150456629, 'reg_lambda': 6.979422880085866}. Best is trial 4 with value: 0.73842103057343.\n",
      "[I 2025-02-16 04:11:04,346] Trial 50 finished with value: 0.7325499642821292 and parameters: {'n_estimators': 6156, 'max_depth': 118, 'learning_rate': 3.997459546214871e-05, 'num_leaves': 1762, 'min_child_samples': 21, 'subsample': 0.8622901866862024, 'reg_alpha': 7.056161235776941, 'reg_lambda': 7.155532324500219}. Best is trial 4 with value: 0.73842103057343.\n",
      "[I 2025-02-16 04:15:25,164] Trial 51 finished with value: 0.7369921539199484 and parameters: {'n_estimators': 7055, 'max_depth': 163, 'learning_rate': 0.0004082952323423963, 'num_leaves': 1613, 'min_child_samples': 14, 'subsample': 0.9114581719952562, 'reg_alpha': 9.963437002743714, 'reg_lambda': 3.211287534905515}. Best is trial 4 with value: 0.73842103057343.\n",
      "[I 2025-02-16 04:22:33,860] Trial 52 finished with value: 0.7354701291719001 and parameters: {'n_estimators': 7138, 'max_depth': 163, 'learning_rate': 0.0003569332864408774, 'num_leaves': 1522, 'min_child_samples': 15, 'subsample': 0.8192923647391425, 'reg_alpha': 5.003276813857867, 'reg_lambda': 4.360441246189795}. Best is trial 4 with value: 0.73842103057343.\n",
      "[I 2025-02-16 04:27:17,856] Trial 53 finished with value: 0.7367892768646842 and parameters: {'n_estimators': 6900, 'max_depth': 139, 'learning_rate': 0.0006759002147256253, 'num_leaves': 1617, 'min_child_samples': 31, 'subsample': 0.9094056780964933, 'reg_alpha': 8.012479030988947, 'reg_lambda': 3.695514226277551}. Best is trial 4 with value: 0.73842103057343.\n",
      "[I 2025-02-16 04:36:22,329] Trial 54 finished with value: 0.7315581117368052 and parameters: {'n_estimators': 7273, 'max_depth': 147, 'learning_rate': 0.0006494695234345693, 'num_leaves': 1629, 'min_child_samples': 32, 'subsample': 0.8968965531026843, 'reg_alpha': 3.1111535893141347, 'reg_lambda': 3.6493301845033437}. Best is trial 4 with value: 0.73842103057343.\n",
      "[I 2025-02-16 04:42:16,494] Trial 55 finished with value: 0.7353663228439669 and parameters: {'n_estimators': 6841, 'max_depth': 170, 'learning_rate': 0.0002157635805839215, 'num_leaves': 1363, 'min_child_samples': 23, 'subsample': 0.9177587473820872, 'reg_alpha': 4.584055511829669, 'reg_lambda': 1.5162873334532656}. Best is trial 4 with value: 0.73842103057343.\n",
      "[I 2025-02-16 04:49:09,398] Trial 56 finished with value: 0.7286554600084334 and parameters: {'n_estimators': 7576, 'max_depth': 190, 'learning_rate': 0.001957688670431567, 'num_leaves': 1494, 'min_child_samples': 14, 'subsample': 0.8748091023640963, 'reg_alpha': 6.784157456537937, 'reg_lambda': 3.6643822009573936}. Best is trial 4 with value: 0.73842103057343.\n",
      "[I 2025-02-16 04:57:31,608] Trial 57 finished with value: 0.7306061735394165 and parameters: {'n_estimators': 6416, 'max_depth': 146, 'learning_rate': 0.0010975403685535496, 'num_leaves': 1941, 'min_child_samples': 29, 'subsample': 0.8192655924466011, 'reg_alpha': 3.0974523020193567, 'reg_lambda': 9.343834245218673}. Best is trial 4 with value: 0.73842103057343.\n",
      "[I 2025-02-16 05:06:10,206] Trial 58 finished with value: 0.7313819288111276 and parameters: {'n_estimators': 6688, 'max_depth': 124, 'learning_rate': 0.00011997045627208755, 'num_leaves': 1755, 'min_child_samples': 40, 'subsample': 0.8682716423265466, 'reg_alpha': 0.2916735893739776, 'reg_lambda': 5.440204153926818}. Best is trial 4 with value: 0.73842103057343.\n",
      "[I 2025-02-16 05:15:12,167] Trial 59 finished with value: 0.720158568955285 and parameters: {'n_estimators': 6010, 'max_depth': 178, 'learning_rate': 0.001432482197996372, 'num_leaves': 1688, 'min_child_samples': 21, 'subsample': 0.8883254919940148, 'reg_alpha': 1.6399598702055431, 'reg_lambda': 1.4947175855231871}. Best is trial 4 with value: 0.73842103057343.\n",
      "[I 2025-02-16 05:20:41,939] Trial 60 finished with value: 0.7366738904481523 and parameters: {'n_estimators': 7999, 'max_depth': 139, 'learning_rate': 0.0004883168063486034, 'num_leaves': 1641, 'min_child_samples': 35, 'subsample': 0.916114415866978, 'reg_alpha': 7.6622742506024455, 'reg_lambda': 1.0272751696337556}. Best is trial 4 with value: 0.73842103057343.\n",
      "[I 2025-02-16 05:25:49,693] Trial 61 finished with value: 0.7370090626032285 and parameters: {'n_estimators': 7851, 'max_depth': 165, 'learning_rate': 0.00048679694967607027, 'num_leaves': 1612, 'min_child_samples': 34, 'subsample': 0.9062046385981903, 'reg_alpha': 8.042653840846844, 'reg_lambda': 2.865932841671664}. Best is trial 4 with value: 0.73842103057343.\n",
      "[I 2025-02-16 05:32:31,389] Trial 62 finished with value: 0.735477809906828 and parameters: {'n_estimators': 7902, 'max_depth': 164, 'learning_rate': 0.00025512912517599857, 'num_leaves': 1326, 'min_child_samples': 33, 'subsample': 0.9092867697484015, 'reg_alpha': 4.59838285700341, 'reg_lambda': 0.7483286830108422}. Best is trial 4 with value: 0.73842103057343.\n",
      "[I 2025-02-16 05:41:13,544] Trial 63 finished with value: 0.7314112590499562 and parameters: {'n_estimators': 7497, 'max_depth': 132, 'learning_rate': 0.0004673920169659493, 'num_leaves': 1426, 'min_child_samples': 25, 'subsample': 0.8365661242215028, 'reg_alpha': 2.4967093381887806, 'reg_lambda': 2.7277789627002886}. Best is trial 4 with value: 0.73842103057343.\n",
      "[I 2025-02-16 05:45:23,043] Trial 64 finished with value: 0.7362066518300662 and parameters: {'n_estimators': 7425, 'max_depth': 152, 'learning_rate': 0.0008330121520991294, 'num_leaves': 1192, 'min_child_samples': 29, 'subsample': 0.9186865649276437, 'reg_alpha': 8.240728122841626, 'reg_lambda': 5.913277500140013}. Best is trial 4 with value: 0.73842103057343.\n",
      "[I 2025-02-16 05:51:52,835] Trial 65 finished with value: 0.7348812369833102 and parameters: {'n_estimators': 8000, 'max_depth': 295, 'learning_rate': 0.00017813957875793056, 'num_leaves': 1814, 'min_child_samples': 18, 'subsample': 0.8937844816382776, 'reg_alpha': 3.97674927687613, 'reg_lambda': 2.6722754496751016}. Best is trial 4 with value: 0.73842103057343.\n",
      "[I 2025-02-16 05:54:40,887] Trial 66 finished with value: 0.7369665476421757 and parameters: {'n_estimators': 7132, 'max_depth': 102, 'learning_rate': 0.0002658267585365729, 'num_leaves': 1652, 'min_child_samples': 48, 'subsample': 0.8584500729090323, 'reg_alpha': 9.650147753178029, 'reg_lambda': 0.6237701066064769}. Best is trial 4 with value: 0.73842103057343.\n",
      "[I 2025-02-16 05:57:58,139] Trial 67 finished with value: 0.7361908550106844 and parameters: {'n_estimators': 6976, 'max_depth': 103, 'learning_rate': 0.0002449374658642767, 'num_leaves': 1550, 'min_child_samples': 12, 'subsample': 0.8611319498657585, 'reg_alpha': 9.99811913271825, 'reg_lambda': 0.6936000907252419}. Best is trial 4 with value: 0.73842103057343.\n",
      "[I 2025-02-16 06:02:36,733] Trial 68 finished with value: 0.7328430234175617 and parameters: {'n_estimators': 6609, 'max_depth': 82, 'learning_rate': 5.4740011981949715e-05, 'num_leaves': 1719, 'min_child_samples': 5, 'subsample': 0.8345291892136475, 'reg_alpha': 5.72934424531678, 'reg_lambda': 0.3602155683416002}. Best is trial 4 with value: 0.73842103057343.\n",
      "[I 2025-02-16 06:07:51,306] Trial 69 finished with value: 0.733354960008354 and parameters: {'n_estimators': 7291, 'max_depth': 113, 'learning_rate': 0.0003107082118031415, 'num_leaves': 1047, 'min_child_samples': 48, 'subsample': 0.7910019131692411, 'reg_alpha': 2.6761053117830156, 'reg_lambda': 0.4446103522037192}. Best is trial 4 with value: 0.73842103057343.\n",
      "[I 2025-02-16 06:10:49,774] Trial 70 finished with value: 0.7350835648926493 and parameters: {'n_estimators': 6474, 'max_depth': 184, 'learning_rate': 0.0005830299134493818, 'num_leaves': 482, 'min_child_samples': 55, 'subsample': 0.8808272406705817, 'reg_alpha': 0.005019248205951912, 'reg_lambda': 4.91953605451445}. Best is trial 4 with value: 0.73842103057343.\n",
      "[I 2025-02-16 06:14:50,772] Trial 71 finished with value: 0.7369599474510361 and parameters: {'n_estimators': 7813, 'max_depth': 137, 'learning_rate': 0.0004487612795326077, 'num_leaves': 1838, 'min_child_samples': 35, 'subsample': 0.945178527575608, 'reg_alpha': 8.122347656697702, 'reg_lambda': 1.117977545765877}. Best is trial 4 with value: 0.73842103057343.\n",
      "[I 2025-02-16 06:19:24,717] Trial 72 finished with value: 0.7364582316560769 and parameters: {'n_estimators': 7720, 'max_depth': 69, 'learning_rate': 0.00038870425807264753, 'num_leaves': 1822, 'min_child_samples': 45, 'subsample': 0.9467661733303432, 'reg_alpha': 5.723653749687479, 'reg_lambda': 2.289222778236085}. Best is trial 4 with value: 0.73842103057343.\n",
      "[I 2025-02-16 06:26:15,032] Trial 73 finished with value: 0.7277634424011197 and parameters: {'n_estimators': 7749, 'max_depth': 199, 'learning_rate': 0.001254644636153775, 'num_leaves': 1963, 'min_child_samples': 35, 'subsample': 0.9311381257635447, 'reg_alpha': 4.448814321542736, 'reg_lambda': 1.0952541663167192}. Best is trial 4 with value: 0.73842103057343.\n",
      "[I 2025-02-16 06:29:36,429] Trial 74 finished with value: 0.7372445418047922 and parameters: {'n_estimators': 7145, 'max_depth': 127, 'learning_rate': 0.0004383188936818081, 'num_leaves': 1872, 'min_child_samples': 22, 'subsample': 0.9473544206737543, 'reg_alpha': 9.959283919921456, 'reg_lambda': 3.3887270472064097}. Best is trial 4 with value: 0.73842103057343.\n",
      "[I 2025-02-16 06:33:14,195] Trial 75 finished with value: 0.7361589043226688 and parameters: {'n_estimators': 7217, 'max_depth': 168, 'learning_rate': 0.0008957503968988935, 'num_leaves': 1870, 'min_child_samples': 51, 'subsample': 0.9605110741455815, 'reg_alpha': 8.53074001729577, 'reg_lambda': 0.9641950362497681}. Best is trial 4 with value: 0.73842103057343.\n",
      "[I 2025-02-16 06:38:16,718] Trial 76 finished with value: 0.7353166397537836 and parameters: {'n_estimators': 6813, 'max_depth': 156, 'learning_rate': 0.0005658158441071085, 'num_leaves': 2011, 'min_child_samples': 27, 'subsample': 0.9429026351368669, 'reg_alpha': 5.534483721771272, 'reg_lambda': 1.6148547331368486}. Best is trial 4 with value: 0.73842103057343.\n",
      "[I 2025-02-16 06:40:43,555] Trial 77 finished with value: 0.7351433654223032 and parameters: {'n_estimators': 7057, 'max_depth': 127, 'learning_rate': 0.0001280700074760542, 'num_leaves': 1890, 'min_child_samples': 41, 'subsample': 0.9246334536336339, 'reg_alpha': 9.854858446398023, 'reg_lambda': 3.2325320725926368}. Best is trial 4 with value: 0.73842103057343.\n",
      "[I 2025-02-16 06:47:19,254] Trial 78 finished with value: 0.7334566929450184 and parameters: {'n_estimators': 7660, 'max_depth': 139, 'learning_rate': 0.000464041674620358, 'num_leaves': 1749, 'min_child_samples': 36, 'subsample': 0.9693234983702042, 'reg_alpha': 3.676467232581135, 'reg_lambda': 2.1126313048758796}. Best is trial 4 with value: 0.73842103057343.\n",
      "[I 2025-02-16 06:50:49,472] Trial 79 finished with value: 0.7368153404160602 and parameters: {'n_estimators': 7417, 'max_depth': 154, 'learning_rate': 0.0002773253677349243, 'num_leaves': 1652, 'min_child_samples': 30, 'subsample': 0.745319593078824, 'reg_alpha': 8.14544811952035, 'reg_lambda': 1.2334886428905019}. Best is trial 4 with value: 0.73842103057343.\n",
      "[I 2025-02-16 07:01:01,702] Trial 80 finished with value: 0.7300125864663668 and parameters: {'n_estimators': 7806, 'max_depth': 211, 'learning_rate': 0.0002718075444259096, 'num_leaves': 1975, 'min_child_samples': 7, 'subsample': 0.7091578373261628, 'reg_alpha': 2.1512767494826366, 'reg_lambda': 1.2209752528519457}. Best is trial 4 with value: 0.73842103057343.\n",
      "[I 2025-02-16 07:04:31,411] Trial 81 finished with value: 0.7358731187607366 and parameters: {'n_estimators': 7461, 'max_depth': 176, 'learning_rate': 0.00017945984162294598, 'num_leaves': 1698, 'min_child_samples': 18, 'subsample': 0.745415735271141, 'reg_alpha': 8.320396916251866, 'reg_lambda': 3.0132161727313393}. Best is trial 4 with value: 0.73842103057343.\n",
      "[I 2025-02-16 07:09:57,583] Trial 82 finished with value: 0.7337813269271487 and parameters: {'n_estimators': 7429, 'max_depth': 157, 'learning_rate': 0.0006868815956747874, 'num_leaves': 1503, 'min_child_samples': 31, 'subsample': 0.6711324715423151, 'reg_alpha': 5.623710709543231, 'reg_lambda': 0.23411259945200327}. Best is trial 4 with value: 0.73842103057343.\n",
      "[I 2025-02-16 07:13:17,675] Trial 83 finished with value: 0.7366387054367978 and parameters: {'n_estimators': 6888, 'max_depth': 101, 'learning_rate': 0.00028909929209877536, 'num_leaves': 1666, 'min_child_samples': 30, 'subsample': 0.9003211479357056, 'reg_alpha': 7.775089697537594, 'reg_lambda': 0.5643469417627404}. Best is trial 4 with value: 0.73842103057343.\n",
      "[I 2025-02-16 07:18:58,481] Trial 84 finished with value: 0.73513975630165 and parameters: {'n_estimators': 7096, 'max_depth': 109, 'learning_rate': 0.00042036039474828576, 'num_leaves': 1561, 'min_child_samples': 26, 'subsample': 0.7504145939368664, 'reg_alpha': 4.207458564587446, 'reg_lambda': 4.220860976425932}. Best is trial 4 with value: 0.73842103057343.\n",
      "[I 2025-02-16 07:21:36,699] Trial 85 finished with value: 0.7364850113939636 and parameters: {'n_estimators': 7373, 'max_depth': 140, 'learning_rate': 0.00020191871007096943, 'num_leaves': 1862, 'min_child_samples': 44, 'subsample': 0.7673280677463546, 'reg_alpha': 9.997225534798329, 'reg_lambda': 1.9507152793958118}. Best is trial 4 with value: 0.73842103057343.\n",
      "[I 2025-02-16 07:25:29,218] Trial 86 finished with value: 0.7345564745887296 and parameters: {'n_estimators': 7599, 'max_depth': 124, 'learning_rate': 9.024810869846168e-05, 'num_leaves': 1734, 'min_child_samples': 20, 'subsample': 0.9103964507710672, 'reg_alpha': 6.168410322490872, 'reg_lambda': 2.505454007909472}. Best is trial 4 with value: 0.73842103057343.\n",
      "[I 2025-02-16 07:34:01,950] Trial 87 finished with value: 0.7227845294376083 and parameters: {'n_estimators': 7226, 'max_depth': 151, 'learning_rate': 0.0008800731486878238, 'num_leaves': 1786, 'min_child_samples': 13, 'subsample': 0.9358461232644292, 'reg_alpha': 0.08477592087255509, 'reg_lambda': 0.8577413704726281}. Best is trial 4 with value: 0.73842103057343.\n",
      "[I 2025-02-16 07:35:23,235] Trial 88 finished with value: 0.7364334856373201 and parameters: {'n_estimators': 5155, 'max_depth': 86, 'learning_rate': 0.00014869462326060352, 'num_leaves': 188, 'min_child_samples': 37, 'subsample': 0.9525563399779112, 'reg_alpha': 0.027510072358494665, 'reg_lambda': 1.329038337147479}. Best is trial 4 with value: 0.73842103057343.\n",
      "[I 2025-02-16 07:38:56,052] Trial 89 finished with value: 0.729026947830828 and parameters: {'n_estimators': 3793, 'max_depth': 165, 'learning_rate': 0.001799096200339968, 'num_leaves': 1403, 'min_child_samples': 24, 'subsample': 0.6893196814942448, 'reg_alpha': 3.2181569168802135, 'reg_lambda': 3.9997207331354234}. Best is trial 4 with value: 0.73842103057343.\n",
      "[I 2025-02-16 07:46:16,066] Trial 90 finished with value: 0.7257568109900947 and parameters: {'n_estimators': 6686, 'max_depth': 119, 'learning_rate': 0.0005739973096011847, 'num_leaves': 1577, 'min_child_samples': 46, 'subsample': 0.9813556653559394, 'reg_alpha': 0.05301658930003675, 'reg_lambda': 0.16821692759530663}. Best is trial 4 with value: 0.73842103057343.\n",
      "[I 2025-02-16 07:49:26,600] Trial 91 finished with value: 0.7366493970782815 and parameters: {'n_estimators': 5917, 'max_depth': 117, 'learning_rate': 0.00036216813020513715, 'num_leaves': 1596, 'min_child_samples': 22, 'subsample': 0.8872037205799134, 'reg_alpha': 6.914716716046865, 'reg_lambda': 7.180058308074404}. Best is trial 4 with value: 0.73842103057343.\n",
      "[I 2025-02-16 07:52:54,990] Trial 92 finished with value: 0.73665141618136 and parameters: {'n_estimators': 6545, 'max_depth': 136, 'learning_rate': 0.00031836138133198543, 'num_leaves': 1648, 'min_child_samples': 17, 'subsample': 0.9233751786302226, 'reg_alpha': 7.509495632702081, 'reg_lambda': 9.497042955921586}. Best is trial 4 with value: 0.73842103057343.\n",
      "[I 2025-02-16 07:55:49,771] Trial 93 finished with value: 0.7362184344553747 and parameters: {'n_estimators': 4817, 'max_depth': 104, 'learning_rate': 0.00042822282544002256, 'num_leaves': 1470, 'min_child_samples': 28, 'subsample': 0.8023751552964737, 'reg_alpha': 5.151942318031449, 'reg_lambda': 5.462874274614381}. Best is trial 4 with value: 0.73842103057343.\n",
      "[I 2025-02-16 07:59:47,386] Trial 94 finished with value: 0.7331980337301881 and parameters: {'n_estimators': 6307, 'max_depth': 127, 'learning_rate': 0.001273751909616263, 'num_leaves': 1608, 'min_child_samples': 42, 'subsample': 0.8550151007186461, 'reg_alpha': 6.499859205273065, 'reg_lambda': 1.9018192546817192}. Best is trial 4 with value: 0.73842103057343.\n",
      "[I 2025-02-16 08:03:54,959] Trial 95 finished with value: 0.7364434276841758 and parameters: {'n_estimators': 7844, 'max_depth': 91, 'learning_rate': 0.00023868496057073474, 'num_leaves': 1856, 'min_child_samples': 11, 'subsample': 0.7338510270674145, 'reg_alpha': 8.544404919581668, 'reg_lambda': 6.347943931526497}. Best is trial 4 with value: 0.73842103057343.\n",
      "[I 2025-02-16 08:09:43,964] Trial 96 finished with value: 0.7335091530849376 and parameters: {'n_estimators': 6955, 'max_depth': 72, 'learning_rate': 0.0006956474024933219, 'num_leaves': 1791, 'min_child_samples': 33, 'subsample': 0.8758289231131797, 'reg_alpha': 4.3433900800003205, 'reg_lambda': 3.149428655053825}. Best is trial 4 with value: 0.73842103057343.\n",
      "[I 2025-02-16 08:11:41,269] Trial 97 finished with value: 0.7361898767792547 and parameters: {'n_estimators': 4318, 'max_depth': 150, 'learning_rate': 0.0003458148435586942, 'num_leaves': 1915, 'min_child_samples': 25, 'subsample': 0.8979172447157864, 'reg_alpha': 7.748655292063997, 'reg_lambda': 7.774233840229451}. Best is trial 4 with value: 0.73842103057343.\n",
      "[I 2025-02-16 08:17:58,948] Trial 98 finished with value: 0.73140062378467 and parameters: {'n_estimators': 7578, 'max_depth': 192, 'learning_rate': 0.0005590054964561579, 'num_leaves': 1519, 'min_child_samples': 57, 'subsample': 0.9067647445426821, 'reg_alpha': 2.975692425854856, 'reg_lambda': 0.1131342449272255}. Best is trial 4 with value: 0.73842103057343.\n",
      "[I 2025-02-16 08:21:36,860] Trial 99 finished with value: 0.7335925940334723 and parameters: {'n_estimators': 6829, 'max_depth': 160, 'learning_rate': 0.0010009060893245273, 'num_leaves': 587, 'min_child_samples': 8, 'subsample': 0.9482010996680309, 'reg_alpha': 4.905870495363005, 'reg_lambda': 0.5346790916378943}. Best is trial 4 with value: 0.73842103057343.\n",
      "[I 2025-02-16 08:26:00,238] Trial 100 finished with value: 0.7343801903946969 and parameters: {'n_estimators': 7133, 'max_depth': 97, 'learning_rate': 0.00010597190910701172, 'num_leaves': 759, 'min_child_samples': 22, 'subsample': 0.9362695128779956, 'reg_alpha': 3.7216276821837377, 'reg_lambda': 0.026595316873156416}. Best is trial 4 with value: 0.73842103057343.\n",
      "[I 2025-02-16 08:29:59,850] Trial 101 finished with value: 0.7371042037007826 and parameters: {'n_estimators': 8000, 'max_depth': 142, 'learning_rate': 0.0004713226582330041, 'num_leaves': 1679, 'min_child_samples': 49, 'subsample': 0.9139096859874675, 'reg_alpha': 8.200519126703583, 'reg_lambda': 1.63534682203892}. Best is trial 4 with value: 0.73842103057343.\n",
      "[I 2025-02-16 08:33:59,178] Trial 102 finished with value: 0.7368405792045445 and parameters: {'n_estimators': 7846, 'max_depth': 143, 'learning_rate': 0.0002839286788418499, 'num_leaves': 1675, 'min_child_samples': 54, 'subsample': 0.8696279705756941, 'reg_alpha': 6.373242643775092, 'reg_lambda': 1.5929328141995343}. Best is trial 4 with value: 0.73842103057343.\n",
      "[I 2025-02-16 08:38:00,624] Trial 103 finished with value: 0.7365669802973374 and parameters: {'n_estimators': 7839, 'max_depth': 145, 'learning_rate': 0.0002735003457530213, 'num_leaves': 1714, 'min_child_samples': 49, 'subsample': 0.9137243304095675, 'reg_alpha': 6.319682716858622, 'reg_lambda': 1.3158387855569487}. Best is trial 4 with value: 0.73842103057343.\n",
      "[I 2025-02-16 08:40:59,325] Trial 104 finished with value: 0.7365457838910252 and parameters: {'n_estimators': 7673, 'max_depth': 171, 'learning_rate': 0.0002059401335856133, 'num_leaves': 1664, 'min_child_samples': 60, 'subsample': 0.888465988230262, 'reg_alpha': 8.595722821223285, 'reg_lambda': 1.7923150780436743}. Best is trial 4 with value: 0.73842103057343.\n",
      "[I 2025-02-16 08:45:24,738] Trial 105 finished with value: 0.7359658941459967 and parameters: {'n_estimators': 7338, 'max_depth': 181, 'learning_rate': 0.0004791193544798672, 'num_leaves': 1633, 'min_child_samples': 54, 'subsample': 0.9286139087300468, 'reg_alpha': 5.477486507375026, 'reg_lambda': 0.8132235948264507}. Best is trial 4 with value: 0.73842103057343.\n",
      "[I 2025-02-16 08:48:46,749] Trial 106 finished with value: 0.7372776534248778 and parameters: {'n_estimators': 7510, 'max_depth': 153, 'learning_rate': 0.0007475227395623526, 'num_leaves': 1755, 'min_child_samples': 50, 'subsample': 0.9050843405433187, 'reg_alpha': 9.956608402085257, 'reg_lambda': 2.2561262019628825}. Best is trial 4 with value: 0.73842103057343.\n",
      "[I 2025-02-16 08:49:07,943] Trial 107 finished with value: 0.7297273636224073 and parameters: {'n_estimators': 7945, 'max_depth': 153, 'learning_rate': 0.09514524430258864, 'num_leaves': 1762, 'min_child_samples': 67, 'subsample': 0.845454699007547, 'reg_alpha': 9.972479234728958, 'reg_lambda': 2.179136276184449}. Best is trial 4 with value: 0.73842103057343.\n",
      "[I 2025-02-16 08:51:59,739] Trial 108 finished with value: 0.7314505981518746 and parameters: {'n_estimators': 7527, 'max_depth': 131, 'learning_rate': 1.1306108323555476e-05, 'num_leaves': 1845, 'min_child_samples': 52, 'subsample': 0.8274489439507875, 'reg_alpha': 6.438775618628722, 'reg_lambda': 1.5074056191367946}. Best is trial 4 with value: 0.73842103057343.\n",
      "[I 2025-02-16 08:55:51,039] Trial 109 finished with value: 0.7279825244811968 and parameters: {'n_estimators': 3393, 'max_depth': 166, 'learning_rate': 0.0007727966180548653, 'num_leaves': 1790, 'min_child_samples': 63, 'subsample': 0.96413559379028, 'reg_alpha': 0.1326078754580697, 'reg_lambda': 1.1468585093216346}. Best is trial 4 with value: 0.73842103057343.\n",
      "[I 2025-02-16 09:00:49,441] Trial 110 finished with value: 0.7355067121041559 and parameters: {'n_estimators': 7743, 'max_depth': 161, 'learning_rate': 0.00040884078755910647, 'num_leaves': 1706, 'min_child_samples': 58, 'subsample': 0.9212273258051078, 'reg_alpha': 4.612874702328518, 'reg_lambda': 0.0468084261196448}. Best is trial 4 with value: 0.73842103057343.\n",
      "[I 2025-02-16 09:02:31,166] Trial 111 finished with value: 0.7372049845061086 and parameters: {'n_estimators': 4182, 'max_depth': 141, 'learning_rate': 0.0005367463321822018, 'num_leaves': 1670, 'min_child_samples': 50, 'subsample': 0.9409762765747616, 'reg_alpha': 8.564595992669904, 'reg_lambda': 2.470224778558491}. Best is trial 4 with value: 0.73842103057343.\n",
      "[I 2025-02-16 09:04:06,209] Trial 112 finished with value: 0.737037320650298 and parameters: {'n_estimators': 3917, 'max_depth': 146, 'learning_rate': 0.0005309173627938402, 'num_leaves': 1667, 'min_child_samples': 48, 'subsample': 0.9439002027913858, 'reg_alpha': 8.50287677786839, 'reg_lambda': 2.472630674350941}. Best is trial 4 with value: 0.73842103057343.\n",
      "[I 2025-02-16 09:05:39,826] Trial 113 finished with value: 0.7373802445325507 and parameters: {'n_estimators': 4171, 'max_depth': 143, 'learning_rate': 0.0006061447351199099, 'num_leaves': 1545, 'min_child_samples': 49, 'subsample': 0.9418545694962919, 'reg_alpha': 9.933076681486066, 'reg_lambda': 2.501017622902013}. Best is trial 4 with value: 0.73842103057343.\n",
      "[I 2025-02-16 09:07:32,890] Trial 114 finished with value: 0.7374178234442983 and parameters: {'n_estimators': 4105, 'max_depth': 173, 'learning_rate': 0.000952184032091699, 'num_leaves': 1735, 'min_child_samples': 49, 'subsample': 0.9441338370385084, 'reg_alpha': 8.684919790390223, 'reg_lambda': 2.507041471570508}. Best is trial 4 with value: 0.73842103057343.\n",
      "[I 2025-02-16 09:09:22,692] Trial 115 finished with value: 0.7369051466549108 and parameters: {'n_estimators': 4128, 'max_depth': 179, 'learning_rate': 0.0015118890986051564, 'num_leaves': 1551, 'min_child_samples': 50, 'subsample': 0.9560017354665223, 'reg_alpha': 9.60899573046794, 'reg_lambda': 4.616912864741462}. Best is trial 4 with value: 0.73842103057343.\n",
      "[I 2025-02-16 09:11:48,719] Trial 116 finished with value: 0.7360501890895252 and parameters: {'n_estimators': 4016, 'max_depth': 172, 'learning_rate': 0.0009471077204386809, 'num_leaves': 1453, 'min_child_samples': 47, 'subsample': 0.9733560853610848, 'reg_alpha': 5.305669550284521, 'reg_lambda': 3.421183795045685}. Best is trial 4 with value: 0.73842103057343.\n",
      "[I 2025-02-16 09:14:07,033] Trial 117 finished with value: 0.7360374720809408 and parameters: {'n_estimators': 4264, 'max_depth': 184, 'learning_rate': 0.001155713302706729, 'num_leaves': 1739, 'min_child_samples': 50, 'subsample': 0.9368924765093692, 'reg_alpha': 7.119013416022361, 'reg_lambda': 2.6481411437808875}. Best is trial 4 with value: 0.73842103057343.\n",
      "[I 2025-02-16 09:15:46,202] Trial 118 finished with value: 0.7350381914495749 and parameters: {'n_estimators': 3636, 'max_depth': 130, 'learning_rate': 0.0030956753376398406, 'num_leaves': 1386, 'min_child_samples': 43, 'subsample': 0.9427536612960049, 'reg_alpha': 9.97445321753524, 'reg_lambda': 2.424328747247612}. Best is trial 4 with value: 0.73842103057343.\n",
      "[I 2025-02-16 09:17:23,419] Trial 119 finished with value: 0.7330874267624125 and parameters: {'n_estimators': 4425, 'max_depth': 158, 'learning_rate': 0.0021915557607391513, 'num_leaves': 373, 'min_child_samples': 48, 'subsample': 0.9873968608109284, 'reg_alpha': 0.45728550798048007, 'reg_lambda': 3.0316511220836646}. Best is trial 4 with value: 0.73842103057343.\n",
      "[I 2025-02-16 09:19:44,650] Trial 120 finished with value: 0.7354378015985634 and parameters: {'n_estimators': 3883, 'max_depth': 112, 'learning_rate': 0.0006029118190439296, 'num_leaves': 1505, 'min_child_samples': 53, 'subsample': 0.9274849398938514, 'reg_alpha': 4.178598382157172, 'reg_lambda': 2.203499333497236}. Best is trial 4 with value: 0.73842103057343.\n",
      "[I 2025-02-16 09:21:51,381] Trial 121 finished with value: 0.7370735277412359 and parameters: {'n_estimators': 4555, 'max_depth': 147, 'learning_rate': 0.0007571757798663321, 'num_leaves': 1808, 'min_child_samples': 47, 'subsample': 0.9483166095436165, 'reg_alpha': 8.472832606555412, 'reg_lambda': 0.03615493683528604}. Best is trial 4 with value: 0.73842103057343.\n",
      "[I 2025-02-16 09:23:58,908] Trial 122 finished with value: 0.7371243602794493 and parameters: {'n_estimators': 4556, 'max_depth': 147, 'learning_rate': 0.0007705396632370262, 'num_leaves': 1741, 'min_child_samples': 46, 'subsample': 0.9556679978011073, 'reg_alpha': 8.489992086547758, 'reg_lambda': 0.017200931852884495}. Best is trial 4 with value: 0.73842103057343.\n",
      "[I 2025-02-16 09:26:21,721] Trial 123 finished with value: 0.7366308900253977 and parameters: {'n_estimators': 4633, 'max_depth': 148, 'learning_rate': 0.0008165873700501084, 'num_leaves': 1758, 'min_child_samples': 45, 'subsample': 0.9601654875793456, 'reg_alpha': 7.5889452532029935, 'reg_lambda': 0.035263317045713616}. Best is trial 4 with value: 0.73842103057343.\n",
      "[I 2025-02-16 09:29:02,808] Trial 124 finished with value: 0.7358477150196738 and parameters: {'n_estimators': 4525, 'max_depth': 163, 'learning_rate': 0.0007467434355453773, 'num_leaves': 1811, 'min_child_samples': 51, 'subsample': 0.9520882801600277, 'reg_alpha': 5.671232821061536, 'reg_lambda': 0.019903296862270582}. Best is trial 4 with value: 0.73842103057343.\n",
      "[I 2025-02-16 09:31:40,788] Trial 125 finished with value: 0.7356588912976791 and parameters: {'n_estimators': 4775, 'max_depth': 143, 'learning_rate': 0.0013786389265373084, 'num_leaves': 1917, 'min_child_samples': 41, 'subsample': 0.9695609127709556, 'reg_alpha': 8.032362541843488, 'reg_lambda': 0.03879568696455308}. Best is trial 4 with value: 0.73842103057343.\n",
      "[I 2025-02-16 09:33:31,885] Trial 126 finished with value: 0.7367218081281466 and parameters: {'n_estimators': 3917, 'max_depth': 175, 'learning_rate': 0.0005373850999590525, 'num_leaves': 1705, 'min_child_samples': 47, 'subsample': 0.9341686003860822, 'reg_alpha': 6.880463912726351, 'reg_lambda': 0.009848868162530488}. Best is trial 4 with value: 0.73842103057343.\n",
      "[I 2025-02-16 09:39:18,581] Trial 127 finished with value: 0.723244172929067 and parameters: {'n_estimators': 4290, 'max_depth': 152, 'learning_rate': 0.0009873505508689094, 'num_leaves': 1989, 'min_child_samples': 56, 'subsample': 0.9454949832803939, 'reg_alpha': 0.013066453923791263, 'reg_lambda': 0.015434934043672957}. Best is trial 4 with value: 0.73842103057343.\n",
      "[I 2025-02-16 09:41:52,096] Trial 128 finished with value: 0.7350772653745636 and parameters: {'n_estimators': 4944, 'max_depth': 169, 'learning_rate': 0.0016508399528646941, 'num_leaves': 1570, 'min_child_samples': 39, 'subsample': 0.9189698853537928, 'reg_alpha': 8.656245284168685, 'reg_lambda': 0.06334603802031248}. Best is trial 4 with value: 0.73842103057343.\n",
      "[I 2025-02-16 09:43:46,058] Trial 129 finished with value: 0.7363161960021157 and parameters: {'n_estimators': 3679, 'max_depth': 133, 'learning_rate': 0.0006272468567060846, 'num_leaves': 1783, 'min_child_samples': 44, 'subsample': 0.9608126189539831, 'reg_alpha': 6.303112979378177, 'reg_lambda': 0.027437148741344255}. Best is trial 4 with value: 0.73842103057343.\n",
      "[I 2025-02-16 09:46:23,029] Trial 130 finished with value: 0.7356784976864168 and parameters: {'n_estimators': 4098, 'max_depth': 158, 'learning_rate': 0.0010339325038755183, 'num_leaves': 1889, 'min_child_samples': 51, 'subsample': 0.9792310280192967, 'reg_alpha': 4.979780220591038, 'reg_lambda': 4.460736926185158}. Best is trial 4 with value: 0.73842103057343.\n",
      "[I 2025-02-16 09:48:04,999] Trial 131 finished with value: 0.7371263825145389 and parameters: {'n_estimators': 4536, 'max_depth': 145, 'learning_rate': 0.0004798988125151319, 'num_leaves': 1672, 'min_child_samples': 49, 'subsample': 0.9030404805365922, 'reg_alpha': 9.862428721473652, 'reg_lambda': 0.012367041510674852}. Best is trial 4 with value: 0.73842103057343.\n",
      "[I 2025-02-16 09:49:24,555] Trial 132 finished with value: 0.7367430922307661 and parameters: {'n_estimators': 3380, 'max_depth': 146, 'learning_rate': 0.0005231785909529419, 'num_leaves': 1610, 'min_child_samples': 49, 'subsample': 0.9046557475219049, 'reg_alpha': 8.441290876028427, 'reg_lambda': 0.01212804709376732}. Best is trial 4 with value: 0.73842103057343.\n",
      "[I 2025-02-16 09:51:18,688] Trial 133 finished with value: 0.7374670001927064 and parameters: {'n_estimators': 4575, 'max_depth': 142, 'learning_rate': 0.0007742324056478783, 'num_leaves': 1724, 'min_child_samples': 45, 'subsample': 0.9313066826160816, 'reg_alpha': 9.969922799580884, 'reg_lambda': 0.007621863875980116}. Best is trial 4 with value: 0.73842103057343.\n",
      "[I 2025-02-16 09:53:13,213] Trial 134 finished with value: 0.7375588599867564 and parameters: {'n_estimators': 4593, 'max_depth': 137, 'learning_rate': 0.0007962603795801096, 'num_leaves': 1730, 'min_child_samples': 47, 'subsample': 0.9281499037382595, 'reg_alpha': 9.976337896383951, 'reg_lambda': 0.005020915451605768}. Best is trial 4 with value: 0.73842103057343.\n",
      "[I 2025-02-16 09:55:40,679] Trial 135 finished with value: 0.7364759358701458 and parameters: {'n_estimators': 4531, 'max_depth': 137, 'learning_rate': 0.0008521503688471752, 'num_leaves': 1724, 'min_child_samples': 46, 'subsample': 0.9312162767729099, 'reg_alpha': 6.9264939216629875, 'reg_lambda': 0.0064627967290824435}. Best is trial 4 with value: 0.73842103057343.\n",
      "[I 2025-02-16 09:57:14,661] Trial 136 finished with value: 0.7282705306389141 and parameters: {'n_estimators': 1408, 'max_depth': 125, 'learning_rate': 0.0011531289523229683, 'num_leaves': 1675, 'min_child_samples': 52, 'subsample': 0.9416479552022115, 'reg_alpha': 0.001045090253684354, 'reg_lambda': 0.0049276609178845535}. Best is trial 4 with value: 0.73842103057343.\n",
      "[I 2025-02-16 10:02:24,001] Trial 137 finished with value: 0.7260513860188416 and parameters: {'n_estimators': 4187, 'max_depth': 141, 'learning_rate': 0.0007057663621356106, 'num_leaves': 1833, 'min_child_samples': 42, 'subsample': 0.950261876742201, 'reg_alpha': 0.008480718069228402, 'reg_lambda': 0.0030887904311927613}. Best is trial 4 with value: 0.73842103057343.\n",
      "[I 2025-02-16 10:07:36,811] Trial 138 finished with value: 0.72706106701467 and parameters: {'n_estimators': 4692, 'max_depth': 150, 'learning_rate': 0.0006334167279199502, 'num_leaves': 1764, 'min_child_samples': 55, 'subsample': 0.9270773177759538, 'reg_alpha': 0.8223218308165247, 'reg_lambda': 0.007642327697287218}. Best is trial 4 with value: 0.73842103057343.\n",
      "[I 2025-02-16 10:12:49,190] Trial 139 finished with value: 0.7335753283009406 and parameters: {'n_estimators': 5028, 'max_depth': 137, 'learning_rate': 0.0008001781759019395, 'num_leaves': 1732, 'min_child_samples': 3, 'subsample': 0.9155529295764476, 'reg_alpha': 5.599931148211767, 'reg_lambda': 0.009656417333834912}. Best is trial 4 with value: 0.73842103057343.\n",
      "[I 2025-02-16 10:14:43,974] Trial 140 finished with value: 0.7371211666722528 and parameters: {'n_estimators': 4448, 'max_depth': 128, 'learning_rate': 0.0011755270555731368, 'num_leaves': 1811, 'min_child_samples': 49, 'subsample': 0.9537282761583943, 'reg_alpha': 9.969434881882728, 'reg_lambda': 0.004834718353407234}. Best is trial 4 with value: 0.73842103057343.\n",
      "[I 2025-02-16 10:16:42,328] Trial 141 finished with value: 0.7362891897154348 and parameters: {'n_estimators': 3980, 'max_depth': 122, 'learning_rate': 0.0012922835600527747, 'num_leaves': 1807, 'min_child_samples': 48, 'subsample': 0.9395009859320002, 'reg_alpha': 8.210084587582584, 'reg_lambda': 0.005504675177787708}. Best is trial 4 with value: 0.73842103057343.\n",
      "[I 2025-02-16 10:18:44,165] Trial 142 finished with value: 0.7353903526762127 and parameters: {'n_estimators': 4466, 'max_depth': 128, 'learning_rate': 0.002091077176334196, 'num_leaves': 909, 'min_child_samples': 45, 'subsample': 0.95221405448801, 'reg_alpha': 9.843721117755086, 'reg_lambda': 0.0041521055607807115}. Best is trial 4 with value: 0.73842103057343.\n",
      "[I 2025-02-16 10:20:44,727] Trial 143 finished with value: 0.7367079541995761 and parameters: {'n_estimators': 4216, 'max_depth': 144, 'learning_rate': 0.0005228427814177776, 'num_leaves': 1694, 'min_child_samples': 50, 'subsample': 0.9647525022536502, 'reg_alpha': 6.821855544409046, 'reg_lambda': 0.0019337684113951102}. Best is trial 4 with value: 0.73842103057343.\n",
      "[I 2025-02-16 10:23:37,922] Trial 144 finished with value: 0.7364618167646458 and parameters: {'n_estimators': 5172, 'max_depth': 150, 'learning_rate': 0.0009852123961582855, 'num_leaves': 1868, 'min_child_samples': 54, 'subsample': 0.9225993055662185, 'reg_alpha': 7.574208607331204, 'reg_lambda': 0.022167090189134132}. Best is trial 4 with value: 0.73842103057343.\n",
      "[I 2025-02-16 10:25:48,292] Trial 145 finished with value: 0.7371440240883883 and parameters: {'n_estimators': 4411, 'max_depth': 132, 'learning_rate': 0.0007372339687303529, 'num_leaves': 1936, 'min_child_samples': 47, 'subsample': 0.9349932386492964, 'reg_alpha': 8.592988239411406, 'reg_lambda': 0.0074315469548415815}. Best is trial 4 with value: 0.73842103057343.\n",
      "[I 2025-02-16 10:27:53,075] Trial 146 finished with value: 0.7373273177229953 and parameters: {'n_estimators': 4354, 'max_depth': 134, 'learning_rate': 0.0011464945715570966, 'num_leaves': 2023, 'min_child_samples': 43, 'subsample': 0.9349723679284031, 'reg_alpha': 9.890720034257415, 'reg_lambda': 0.008018994069642085}. Best is trial 4 with value: 0.73842103057343.\n",
      "[I 2025-02-16 10:30:58,099] Trial 147 finished with value: 0.7326012499179309 and parameters: {'n_estimators': 4375, 'max_depth': 134, 'learning_rate': 0.001685183129970757, 'num_leaves': 2030, 'min_child_samples': 44, 'subsample': 0.9341694276126173, 'reg_alpha': 5.746035449416754, 'reg_lambda': 0.008329211857203386}. Best is trial 4 with value: 0.73842103057343.\n",
      "[I 2025-02-16 10:35:12,937] Trial 148 finished with value: 0.7311262617107874 and parameters: {'n_estimators': 4785, 'max_depth': 130, 'learning_rate': 0.0011543676102260905, 'num_leaves': 1947, 'min_child_samples': 40, 'subsample': 0.9559695266248024, 'reg_alpha': 4.005488674016837, 'reg_lambda': 0.011135843552141684}. Best is trial 4 with value: 0.73842103057343.\n",
      "[I 2025-02-16 10:35:40,092] Trial 149 finished with value: 0.7297966343092628 and parameters: {'n_estimators': 4585, 'max_depth': 114, 'learning_rate': 0.028746567699735395, 'num_leaves': 1916, 'min_child_samples': 52, 'subsample': 0.9285920161385066, 'reg_alpha': 9.722206005666253, 'reg_lambda': 0.006673993265639}. Best is trial 4 with value: 0.73842103057343.\n",
      "[I 2025-02-16 10:38:09,593] Trial 150 finished with value: 0.7362311201438494 and parameters: {'n_estimators': 4458, 'max_depth': 121, 'learning_rate': 0.0008805024597597776, 'num_leaves': 1979, 'min_child_samples': 59, 'subsample': 0.9387936924457622, 'reg_alpha': 6.4437458934475, 'reg_lambda': 0.013835383080308522}. Best is trial 4 with value: 0.73842103057343.\n",
      "[I 2025-02-16 10:40:16,290] Trial 151 finished with value: 0.7371188855242554 and parameters: {'n_estimators': 4090, 'max_depth': 141, 'learning_rate': 0.0007128750463288944, 'num_leaves': 1835, 'min_child_samples': 48, 'subsample': 0.9477957503541913, 'reg_alpha': 8.386441316104749, 'reg_lambda': 0.004517064078847282}. Best is trial 4 with value: 0.73842103057343.\n",
      "[I 2025-02-16 10:42:03,597] Trial 152 finished with value: 0.7374234099078838 and parameters: {'n_estimators': 4139, 'max_depth': 139, 'learning_rate': 0.0007347905553105164, 'num_leaves': 1890, 'min_child_samples': 46, 'subsample': 0.9510462647129776, 'reg_alpha': 9.86880860345185, 'reg_lambda': 0.003219820280958968}. Best is trial 4 with value: 0.73842103057343.\n",
      "[W 2025-02-16 10:45:12,960] Trial 153 failed with parameters: {'n_estimators': 4167, 'max_depth': 140, 'learning_rate': 0.0013843711788719508, 'num_leaves': 1895, 'min_child_samples': 43, 'subsample': 0.9669193909577196, 'reg_alpha': 9.887911409066692, 'reg_lambda': 0.004045556434605688} because of the following error: KeyboardInterrupt().\n",
      "Traceback (most recent call last):\n",
      "  File \"c:\\Users\\juneh\\AppData\\Local\\Programs\\Python\\Python37\\lib\\site-packages\\optuna\\study\\_optimize.py\", line 196, in _run_trial\n",
      "    value_or_values = func(trial)\n",
      "  File \"C:\\Users\\juneh\\AppData\\Local\\Temp\\ipykernel_22072\\3995530509.py\", line 26, in objective\n",
      "    model.fit(IVF_X_train, IVF_y_train)\n",
      "  File \"c:\\Users\\juneh\\AppData\\Local\\Programs\\Python\\Python37\\lib\\site-packages\\lightgbm\\sklearn.py\", line 1298, in fit\n",
      "    init_model=init_model,\n",
      "  File \"c:\\Users\\juneh\\AppData\\Local\\Programs\\Python\\Python37\\lib\\site-packages\\lightgbm\\sklearn.py\", line 963, in fit\n",
      "    callbacks=callbacks,\n",
      "  File \"c:\\Users\\juneh\\AppData\\Local\\Programs\\Python\\Python37\\lib\\site-packages\\lightgbm\\engine.py\", line 307, in train\n",
      "    booster.update(fobj=fobj)\n",
      "  File \"c:\\Users\\juneh\\AppData\\Local\\Programs\\Python\\Python37\\lib\\site-packages\\lightgbm\\basic.py\", line 4138, in update\n",
      "    ctypes.byref(is_finished),\n",
      "KeyboardInterrupt\n",
      "[W 2025-02-16 10:45:12,979] Trial 153 failed with value None.\n"
     ]
    },
    {
     "ename": "KeyboardInterrupt",
     "evalue": "",
     "output_type": "error",
     "traceback": [
      "\u001b[1;31m---------------------------------------------------------------------------\u001b[0m",
      "\u001b[1;31mKeyboardInterrupt\u001b[0m                         Traceback (most recent call last)",
      "\u001b[1;32m~\\AppData\\Local\\Temp\\ipykernel_22072\\3995530509.py\u001b[0m in \u001b[0;36m<module>\u001b[1;34m\u001b[0m\n\u001b[0;32m     33\u001b[0m \u001b[1;31m# Optuna 스터디 생성 및 최적화 실행\u001b[0m\u001b[1;33m\u001b[0m\u001b[1;33m\u001b[0m\u001b[1;33m\u001b[0m\u001b[0m\n\u001b[0;32m     34\u001b[0m \u001b[0mstudy\u001b[0m \u001b[1;33m=\u001b[0m \u001b[0moptuna\u001b[0m\u001b[1;33m.\u001b[0m\u001b[0mcreate_study\u001b[0m\u001b[1;33m(\u001b[0m\u001b[0mdirection\u001b[0m\u001b[1;33m=\u001b[0m\u001b[1;34m'maximize'\u001b[0m\u001b[1;33m)\u001b[0m\u001b[1;33m\u001b[0m\u001b[1;33m\u001b[0m\u001b[0m\n\u001b[1;32m---> 35\u001b[1;33m \u001b[0mstudy\u001b[0m\u001b[1;33m.\u001b[0m\u001b[0moptimize\u001b[0m\u001b[1;33m(\u001b[0m\u001b[0mobjective\u001b[0m\u001b[1;33m,\u001b[0m \u001b[0mn_trials\u001b[0m\u001b[1;33m=\u001b[0m\u001b[1;36m800\u001b[0m\u001b[1;33m)\u001b[0m\u001b[1;33m\u001b[0m\u001b[1;33m\u001b[0m\u001b[0m\n\u001b[0m\u001b[0;32m     36\u001b[0m \u001b[1;33m\u001b[0m\u001b[0m\n\u001b[0;32m     37\u001b[0m \u001b[1;31m# 최적의 하이퍼파라미터 출력\u001b[0m\u001b[1;33m\u001b[0m\u001b[1;33m\u001b[0m\u001b[1;33m\u001b[0m\u001b[0m\n",
      "\u001b[1;32mc:\\Users\\juneh\\AppData\\Local\\Programs\\Python\\Python37\\lib\\site-packages\\optuna\\study\\study.py\u001b[0m in \u001b[0;36moptimize\u001b[1;34m(self, func, n_trials, timeout, n_jobs, catch, callbacks, gc_after_trial, show_progress_bar)\u001b[0m\n\u001b[0;32m    458\u001b[0m             \u001b[0mcallbacks\u001b[0m\u001b[1;33m=\u001b[0m\u001b[0mcallbacks\u001b[0m\u001b[1;33m,\u001b[0m\u001b[1;33m\u001b[0m\u001b[1;33m\u001b[0m\u001b[0m\n\u001b[0;32m    459\u001b[0m             \u001b[0mgc_after_trial\u001b[0m\u001b[1;33m=\u001b[0m\u001b[0mgc_after_trial\u001b[0m\u001b[1;33m,\u001b[0m\u001b[1;33m\u001b[0m\u001b[1;33m\u001b[0m\u001b[0m\n\u001b[1;32m--> 460\u001b[1;33m             \u001b[0mshow_progress_bar\u001b[0m\u001b[1;33m=\u001b[0m\u001b[0mshow_progress_bar\u001b[0m\u001b[1;33m,\u001b[0m\u001b[1;33m\u001b[0m\u001b[1;33m\u001b[0m\u001b[0m\n\u001b[0m\u001b[0;32m    461\u001b[0m         )\n\u001b[0;32m    462\u001b[0m \u001b[1;33m\u001b[0m\u001b[0m\n",
      "\u001b[1;32mc:\\Users\\juneh\\AppData\\Local\\Programs\\Python\\Python37\\lib\\site-packages\\optuna\\study\\_optimize.py\u001b[0m in \u001b[0;36m_optimize\u001b[1;34m(study, func, n_trials, timeout, n_jobs, catch, callbacks, gc_after_trial, show_progress_bar)\u001b[0m\n\u001b[0;32m     70\u001b[0m                 \u001b[0mreseed_sampler_rng\u001b[0m\u001b[1;33m=\u001b[0m\u001b[1;32mFalse\u001b[0m\u001b[1;33m,\u001b[0m\u001b[1;33m\u001b[0m\u001b[1;33m\u001b[0m\u001b[0m\n\u001b[0;32m     71\u001b[0m                 \u001b[0mtime_start\u001b[0m\u001b[1;33m=\u001b[0m\u001b[1;32mNone\u001b[0m\u001b[1;33m,\u001b[0m\u001b[1;33m\u001b[0m\u001b[1;33m\u001b[0m\u001b[0m\n\u001b[1;32m---> 72\u001b[1;33m                 \u001b[0mprogress_bar\u001b[0m\u001b[1;33m=\u001b[0m\u001b[0mprogress_bar\u001b[0m\u001b[1;33m,\u001b[0m\u001b[1;33m\u001b[0m\u001b[1;33m\u001b[0m\u001b[0m\n\u001b[0m\u001b[0;32m     73\u001b[0m             )\n\u001b[0;32m     74\u001b[0m         \u001b[1;32melse\u001b[0m\u001b[1;33m:\u001b[0m\u001b[1;33m\u001b[0m\u001b[1;33m\u001b[0m\u001b[0m\n",
      "\u001b[1;32mc:\\Users\\juneh\\AppData\\Local\\Programs\\Python\\Python37\\lib\\site-packages\\optuna\\study\\_optimize.py\u001b[0m in \u001b[0;36m_optimize_sequential\u001b[1;34m(study, func, n_trials, timeout, catch, callbacks, gc_after_trial, reseed_sampler_rng, time_start, progress_bar)\u001b[0m\n\u001b[0;32m    157\u001b[0m \u001b[1;33m\u001b[0m\u001b[0m\n\u001b[0;32m    158\u001b[0m         \u001b[1;32mtry\u001b[0m\u001b[1;33m:\u001b[0m\u001b[1;33m\u001b[0m\u001b[1;33m\u001b[0m\u001b[0m\n\u001b[1;32m--> 159\u001b[1;33m             \u001b[0mfrozen_trial\u001b[0m \u001b[1;33m=\u001b[0m \u001b[0m_run_trial\u001b[0m\u001b[1;33m(\u001b[0m\u001b[0mstudy\u001b[0m\u001b[1;33m,\u001b[0m \u001b[0mfunc\u001b[0m\u001b[1;33m,\u001b[0m \u001b[0mcatch\u001b[0m\u001b[1;33m)\u001b[0m\u001b[1;33m\u001b[0m\u001b[1;33m\u001b[0m\u001b[0m\n\u001b[0m\u001b[0;32m    160\u001b[0m         \u001b[1;32mfinally\u001b[0m\u001b[1;33m:\u001b[0m\u001b[1;33m\u001b[0m\u001b[1;33m\u001b[0m\u001b[0m\n\u001b[0;32m    161\u001b[0m             \u001b[1;31m# The following line mitigates memory problems that can be occurred in some\u001b[0m\u001b[1;33m\u001b[0m\u001b[1;33m\u001b[0m\u001b[1;33m\u001b[0m\u001b[0m\n",
      "\u001b[1;32mc:\\Users\\juneh\\AppData\\Local\\Programs\\Python\\Python37\\lib\\site-packages\\optuna\\study\\_optimize.py\u001b[0m in \u001b[0;36m_run_trial\u001b[1;34m(study, func, catch)\u001b[0m\n\u001b[0;32m    245\u001b[0m         \u001b[1;32mand\u001b[0m \u001b[1;32mnot\u001b[0m \u001b[0misinstance\u001b[0m\u001b[1;33m(\u001b[0m\u001b[0mfunc_err\u001b[0m\u001b[1;33m,\u001b[0m \u001b[0mcatch\u001b[0m\u001b[1;33m)\u001b[0m\u001b[1;33m\u001b[0m\u001b[1;33m\u001b[0m\u001b[0m\n\u001b[0;32m    246\u001b[0m     ):\n\u001b[1;32m--> 247\u001b[1;33m         \u001b[1;32mraise\u001b[0m \u001b[0mfunc_err\u001b[0m\u001b[1;33m\u001b[0m\u001b[1;33m\u001b[0m\u001b[0m\n\u001b[0m\u001b[0;32m    248\u001b[0m     \u001b[1;32mreturn\u001b[0m \u001b[0mfrozen_trial\u001b[0m\u001b[1;33m\u001b[0m\u001b[1;33m\u001b[0m\u001b[0m\n\u001b[0;32m    249\u001b[0m \u001b[1;33m\u001b[0m\u001b[0m\n",
      "\u001b[1;32mc:\\Users\\juneh\\AppData\\Local\\Programs\\Python\\Python37\\lib\\site-packages\\optuna\\study\\_optimize.py\u001b[0m in \u001b[0;36m_run_trial\u001b[1;34m(study, func, catch)\u001b[0m\n\u001b[0;32m    194\u001b[0m     \u001b[1;32mwith\u001b[0m \u001b[0mget_heartbeat_thread\u001b[0m\u001b[1;33m(\u001b[0m\u001b[0mtrial\u001b[0m\u001b[1;33m.\u001b[0m\u001b[0m_trial_id\u001b[0m\u001b[1;33m,\u001b[0m \u001b[0mstudy\u001b[0m\u001b[1;33m.\u001b[0m\u001b[0m_storage\u001b[0m\u001b[1;33m)\u001b[0m\u001b[1;33m:\u001b[0m\u001b[1;33m\u001b[0m\u001b[1;33m\u001b[0m\u001b[0m\n\u001b[0;32m    195\u001b[0m         \u001b[1;32mtry\u001b[0m\u001b[1;33m:\u001b[0m\u001b[1;33m\u001b[0m\u001b[1;33m\u001b[0m\u001b[0m\n\u001b[1;32m--> 196\u001b[1;33m             \u001b[0mvalue_or_values\u001b[0m \u001b[1;33m=\u001b[0m \u001b[0mfunc\u001b[0m\u001b[1;33m(\u001b[0m\u001b[0mtrial\u001b[0m\u001b[1;33m)\u001b[0m\u001b[1;33m\u001b[0m\u001b[1;33m\u001b[0m\u001b[0m\n\u001b[0m\u001b[0;32m    197\u001b[0m         \u001b[1;32mexcept\u001b[0m \u001b[0mexceptions\u001b[0m\u001b[1;33m.\u001b[0m\u001b[0mTrialPruned\u001b[0m \u001b[1;32mas\u001b[0m \u001b[0me\u001b[0m\u001b[1;33m:\u001b[0m\u001b[1;33m\u001b[0m\u001b[1;33m\u001b[0m\u001b[0m\n\u001b[0;32m    198\u001b[0m             \u001b[1;31m# TODO(mamu): Handle multi-objective cases.\u001b[0m\u001b[1;33m\u001b[0m\u001b[1;33m\u001b[0m\u001b[1;33m\u001b[0m\u001b[0m\n",
      "\u001b[1;32m~\\AppData\\Local\\Temp\\ipykernel_22072\\3995530509.py\u001b[0m in \u001b[0;36mobjective\u001b[1;34m(trial)\u001b[0m\n\u001b[0;32m     24\u001b[0m \u001b[1;33m\u001b[0m\u001b[0m\n\u001b[0;32m     25\u001b[0m     \u001b[0mmodel\u001b[0m \u001b[1;33m=\u001b[0m \u001b[0mlgb\u001b[0m\u001b[1;33m.\u001b[0m\u001b[0mLGBMClassifier\u001b[0m\u001b[1;33m(\u001b[0m\u001b[1;33m**\u001b[0m\u001b[0mparam\u001b[0m\u001b[1;33m)\u001b[0m\u001b[1;33m\u001b[0m\u001b[1;33m\u001b[0m\u001b[0m\n\u001b[1;32m---> 26\u001b[1;33m     \u001b[0mmodel\u001b[0m\u001b[1;33m.\u001b[0m\u001b[0mfit\u001b[0m\u001b[1;33m(\u001b[0m\u001b[0mIVF_X_train\u001b[0m\u001b[1;33m,\u001b[0m \u001b[0mIVF_y_train\u001b[0m\u001b[1;33m)\u001b[0m\u001b[1;33m\u001b[0m\u001b[1;33m\u001b[0m\u001b[0m\n\u001b[0m\u001b[0;32m     27\u001b[0m \u001b[1;33m\u001b[0m\u001b[0m\n\u001b[0;32m     28\u001b[0m     \u001b[0my_pred_proba\u001b[0m \u001b[1;33m=\u001b[0m \u001b[0mmodel\u001b[0m\u001b[1;33m.\u001b[0m\u001b[0mpredict_proba\u001b[0m\u001b[1;33m(\u001b[0m\u001b[0mIVF_X_test\u001b[0m\u001b[1;33m)\u001b[0m\u001b[1;33m[\u001b[0m\u001b[1;33m:\u001b[0m\u001b[1;33m,\u001b[0m \u001b[1;36m1\u001b[0m\u001b[1;33m]\u001b[0m\u001b[1;33m\u001b[0m\u001b[1;33m\u001b[0m\u001b[0m\n",
      "\u001b[1;32mc:\\Users\\juneh\\AppData\\Local\\Programs\\Python\\Python37\\lib\\site-packages\\lightgbm\\sklearn.py\u001b[0m in \u001b[0;36mfit\u001b[1;34m(self, X, y, sample_weight, init_score, eval_set, eval_names, eval_sample_weight, eval_class_weight, eval_init_score, eval_metric, feature_name, categorical_feature, callbacks, init_model)\u001b[0m\n\u001b[0;32m   1296\u001b[0m             \u001b[0mcategorical_feature\u001b[0m\u001b[1;33m=\u001b[0m\u001b[0mcategorical_feature\u001b[0m\u001b[1;33m,\u001b[0m\u001b[1;33m\u001b[0m\u001b[1;33m\u001b[0m\u001b[0m\n\u001b[0;32m   1297\u001b[0m             \u001b[0mcallbacks\u001b[0m\u001b[1;33m=\u001b[0m\u001b[0mcallbacks\u001b[0m\u001b[1;33m,\u001b[0m\u001b[1;33m\u001b[0m\u001b[1;33m\u001b[0m\u001b[0m\n\u001b[1;32m-> 1298\u001b[1;33m             \u001b[0minit_model\u001b[0m\u001b[1;33m=\u001b[0m\u001b[0minit_model\u001b[0m\u001b[1;33m,\u001b[0m\u001b[1;33m\u001b[0m\u001b[1;33m\u001b[0m\u001b[0m\n\u001b[0m\u001b[0;32m   1299\u001b[0m         )\n\u001b[0;32m   1300\u001b[0m         \u001b[1;32mreturn\u001b[0m \u001b[0mself\u001b[0m\u001b[1;33m\u001b[0m\u001b[1;33m\u001b[0m\u001b[0m\n",
      "\u001b[1;32mc:\\Users\\juneh\\AppData\\Local\\Programs\\Python\\Python37\\lib\\site-packages\\lightgbm\\sklearn.py\u001b[0m in \u001b[0;36mfit\u001b[1;34m(self, X, y, sample_weight, init_score, group, eval_set, eval_names, eval_sample_weight, eval_class_weight, eval_init_score, eval_group, eval_metric, feature_name, categorical_feature, callbacks, init_model)\u001b[0m\n\u001b[0;32m    961\u001b[0m             \u001b[0mfeval\u001b[0m\u001b[1;33m=\u001b[0m\u001b[0meval_metrics_callable\u001b[0m\u001b[1;33m,\u001b[0m  \u001b[1;31m# type: ignore[arg-type]\u001b[0m\u001b[1;33m\u001b[0m\u001b[1;33m\u001b[0m\u001b[0m\n\u001b[0;32m    962\u001b[0m             \u001b[0minit_model\u001b[0m\u001b[1;33m=\u001b[0m\u001b[0minit_model\u001b[0m\u001b[1;33m,\u001b[0m\u001b[1;33m\u001b[0m\u001b[1;33m\u001b[0m\u001b[0m\n\u001b[1;32m--> 963\u001b[1;33m             \u001b[0mcallbacks\u001b[0m\u001b[1;33m=\u001b[0m\u001b[0mcallbacks\u001b[0m\u001b[1;33m,\u001b[0m\u001b[1;33m\u001b[0m\u001b[1;33m\u001b[0m\u001b[0m\n\u001b[0m\u001b[0;32m    964\u001b[0m         )\n\u001b[0;32m    965\u001b[0m \u001b[1;33m\u001b[0m\u001b[0m\n",
      "\u001b[1;32mc:\\Users\\juneh\\AppData\\Local\\Programs\\Python\\Python37\\lib\\site-packages\\lightgbm\\engine.py\u001b[0m in \u001b[0;36mtrain\u001b[1;34m(params, train_set, num_boost_round, valid_sets, valid_names, feval, init_model, feature_name, categorical_feature, keep_training_booster, callbacks)\u001b[0m\n\u001b[0;32m    305\u001b[0m             )\n\u001b[0;32m    306\u001b[0m \u001b[1;33m\u001b[0m\u001b[0m\n\u001b[1;32m--> 307\u001b[1;33m         \u001b[0mbooster\u001b[0m\u001b[1;33m.\u001b[0m\u001b[0mupdate\u001b[0m\u001b[1;33m(\u001b[0m\u001b[0mfobj\u001b[0m\u001b[1;33m=\u001b[0m\u001b[0mfobj\u001b[0m\u001b[1;33m)\u001b[0m\u001b[1;33m\u001b[0m\u001b[1;33m\u001b[0m\u001b[0m\n\u001b[0m\u001b[0;32m    308\u001b[0m \u001b[1;33m\u001b[0m\u001b[0m\n\u001b[0;32m    309\u001b[0m         \u001b[0mevaluation_result_list\u001b[0m\u001b[1;33m:\u001b[0m \u001b[0mList\u001b[0m\u001b[1;33m[\u001b[0m\u001b[0m_LGBM_BoosterEvalMethodResultType\u001b[0m\u001b[1;33m]\u001b[0m \u001b[1;33m=\u001b[0m \u001b[1;33m[\u001b[0m\u001b[1;33m]\u001b[0m\u001b[1;33m\u001b[0m\u001b[1;33m\u001b[0m\u001b[0m\n",
      "\u001b[1;32mc:\\Users\\juneh\\AppData\\Local\\Programs\\Python\\Python37\\lib\\site-packages\\lightgbm\\basic.py\u001b[0m in \u001b[0;36mupdate\u001b[1;34m(self, train_set, fobj)\u001b[0m\n\u001b[0;32m   4136\u001b[0m                 _LIB.LGBM_BoosterUpdateOneIter(\n\u001b[0;32m   4137\u001b[0m                     \u001b[0mself\u001b[0m\u001b[1;33m.\u001b[0m\u001b[0m_handle\u001b[0m\u001b[1;33m,\u001b[0m\u001b[1;33m\u001b[0m\u001b[1;33m\u001b[0m\u001b[0m\n\u001b[1;32m-> 4138\u001b[1;33m                     \u001b[0mctypes\u001b[0m\u001b[1;33m.\u001b[0m\u001b[0mbyref\u001b[0m\u001b[1;33m(\u001b[0m\u001b[0mis_finished\u001b[0m\u001b[1;33m)\u001b[0m\u001b[1;33m,\u001b[0m\u001b[1;33m\u001b[0m\u001b[1;33m\u001b[0m\u001b[0m\n\u001b[0m\u001b[0;32m   4139\u001b[0m                 )\n\u001b[0;32m   4140\u001b[0m             )\n",
      "\u001b[1;31mKeyboardInterrupt\u001b[0m: "
     ]
    }
   ],
   "source": [
    "import optuna\n",
    "import lightgbm as lgb\n",
    "from sklearn.metrics import roc_auc_score\n",
    "\n",
    "# 목적 함수 정의\n",
    "def objective(trial):\n",
    "    param = {\n",
    "        'n_estimators': trial.suggest_int('n_estimators', 1000, 8000),\n",
    "        'max_depth': trial.suggest_int('max_depth', 3, 300),\n",
    "        'learning_rate': trial.suggest_float('learning_rate', 1e-5, 1e-1, log=True),\n",
    "        'num_leaves': trial.suggest_int('num_leaves', 2, 2048),\n",
    "        'min_child_samples': trial.suggest_int('min_child_samples', 1, 100),\n",
    "        'subsample': trial.suggest_float('subsample', 0.6, 1.0),\n",
    "        'reg_alpha': trial.suggest_float('reg_alpha', 1e-3, 10.0, log=True),\n",
    "        'reg_lambda': trial.suggest_float('reg_lambda', 1e-3, 10.0, log=True),\n",
    "        \n",
    "        'boosting_type' : 'gbdt',\n",
    "        'random_state': 42,\n",
    "        'objective': 'binary',\n",
    "        'metric': 'auc',\n",
    "        'verbose': -1,   \n",
    "        'njobs': -1\n",
    "    }\n",
    "\n",
    "    model = lgb.LGBMClassifier(**param)\n",
    "    model.fit(IVF_X_train, IVF_y_train)\n",
    "    \n",
    "    y_pred_proba = model.predict_proba(IVF_X_test)[:, 1]\n",
    "    \n",
    "    auc = roc_auc_score(IVF_y_test, y_pred_proba)\n",
    "    return auc\n",
    "\n",
    "# Optuna 스터디 생성 및 최적화 실행\n",
    "study = optuna.create_study(direction='maximize')\n",
    "study.optimize(objective, n_trials=800)\n",
    "\n",
    "# 최적의 하이퍼파라미터 출력\n",
    "print(\"Best trial:\")\n",
    "trial = study.best_trial\n",
    "print(f\"  Value: {trial.value}\")\n",
    "print(\"  Params: \")\n",
    "for key, value in trial.params.items():\n",
    "    print(f\"    {key}: {value}\")"
   ]
  },
  {
   "cell_type": "markdown",
   "metadata": {},
   "source": [
    "."
   ]
  }
 ],
 "metadata": {
  "kernelspec": {
   "display_name": "Python 3",
   "language": "python",
   "name": "python3"
  },
  "language_info": {
   "codemirror_mode": {
    "name": "ipython",
    "version": 3
   },
   "file_extension": ".py",
   "mimetype": "text/x-python",
   "name": "python",
   "nbconvert_exporter": "python",
   "pygments_lexer": "ipython3",
   "version": "3.7.8"
  }
 },
 "nbformat": 4,
 "nbformat_minor": 2
}
