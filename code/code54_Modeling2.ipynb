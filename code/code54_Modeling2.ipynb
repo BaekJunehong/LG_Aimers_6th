{
 "cells": [
  {
   "cell_type": "markdown",
   "metadata": {},
   "source": [
    "## 난임 환자 대상 임신 성공 여부 예측"
   ]
  },
  {
   "cell_type": "markdown",
   "metadata": {},
   "source": [
    "### LGAimers 6th 온라인 해커톤"
   ]
  },
  {
   "cell_type": "markdown",
   "metadata": {},
   "source": [
    "### Import"
   ]
  },
  {
   "cell_type": "code",
   "execution_count": 5,
   "metadata": {},
   "outputs": [],
   "source": [
    "import pandas as pd\n",
    "import matplotlib.pyplot as plt\n",
    "import lightgbm as lgb\n",
    "from sklearn.preprocessing import OrdinalEncoder\n",
    "from sklearn.model_selection import train_test_split\n",
    "from sklearn.metrics import accuracy_score, f1_score, roc_auc_score, confusion_matrix, ConfusionMatrixDisplay"
   ]
  },
  {
   "cell_type": "code",
   "execution_count": 6,
   "metadata": {},
   "outputs": [],
   "source": [
    "def train_and_evaluate(model, X_train, y_train, X_test, y_test):\n",
    "    # 모델 학습\n",
    "    model.fit(X_train, y_train)\n",
    "    \n",
    "    # 예측\n",
    "    y_pred = model.predict(X_test)\n",
    "    y_pred_proba = model.predict_proba(X_test)[:, 1]\n",
    "    \n",
    "    # 평가\n",
    "    accuracy = accuracy_score(y_test, y_pred)\n",
    "    f1 = f1_score(y_test, y_pred)\n",
    "    auc = roc_auc_score(y_test, y_pred_proba)\n",
    "    cm = confusion_matrix(y_test, y_pred)\n",
    "    \n",
    "    # 결과 출력\n",
    "    print()\n",
    "    print(\"--- Model Performance ---\")\n",
    "    print(f\"Model Accuracy: {accuracy}\")\n",
    "    print(f\"Model F1 Score: {f1}\")\n",
    "    print(f\"Model AUC: {auc}\")\n",
    "    \n",
    "    # 혼동 행렬 출력\n",
    "    disp = ConfusionMatrixDisplay(confusion_matrix=cm, display_labels=model.classes_)\n",
    "    disp.plot(cmap=plt.cm.Blues)\n",
    "    plt.show()\n",
    "    \n",
    "    return y_pred, y_pred_proba"
   ]
  },
  {
   "cell_type": "markdown",
   "metadata": {},
   "source": [
    "### Data Load"
   ]
  },
  {
   "cell_type": "code",
   "execution_count": 7,
   "metadata": {},
   "outputs": [],
   "source": [
    "# 데이터 로드\n",
    "IVF_train = pd.read_csv('../data/IVF_train_dataset_54.csv')\n",
    "IVF_test = pd.read_csv('../data/IVF_test_dataset_54.csv')\n",
    "\n",
    "DI_train = pd.read_csv('../data/DI_train_dataset_54.csv')\n",
    "DI_test = pd.read_csv('../data/DI_test_dataset_54.csv')"
   ]
  },
  {
   "cell_type": "code",
   "execution_count": 8,
   "metadata": {},
   "outputs": [],
   "source": [
    "# ID 열을 제외한 특성과 타겟 변수 분리\n",
    "IVF_X = IVF_train.drop(['임신_성공_여부', 'ID'], axis=1)\n",
    "IVF_y = IVF_train['임신_성공_여부']\n",
    "\n",
    "DI_X = DI_train.drop(['임신_성공_여부', 'ID'], axis=1)\n",
    "DI_y = DI_train['임신_성공_여부']"
   ]
  },
  {
   "cell_type": "code",
   "execution_count": 9,
   "metadata": {},
   "outputs": [
    {
     "name": "stdout",
     "output_type": "stream",
     "text": [
      "IVF_X shape: (250052, 77)\n",
      "IVF_test shape: (87891, 77)\n",
      "DI_X shape: (6289, 31)\n",
      "DI_test shape: (2176, 31)\n"
     ]
    }
   ],
   "source": [
    "print(f\"IVF_X shape: {IVF_X.shape}\")\n",
    "print(f\"IVF_test shape: {IVF_test.drop('ID', axis=1).shape}\")\n",
    "\n",
    "print(f\"DI_X shape: {DI_X.shape}\")\n",
    "print(f\"DI_test shape: {DI_test.drop('ID', axis=1).shape}\")"
   ]
  },
  {
   "cell_type": "markdown",
   "metadata": {},
   "source": [
    "### 인코딩 "
   ]
  },
  {
   "cell_type": "code",
   "execution_count": 10,
   "metadata": {},
   "outputs": [],
   "source": [
    "IVF_categorical_columns = [\n",
    "    \"시술_시기_코드\",\n",
    "    \"시술_당시_나이\",\n",
    "    \"특정_시술_유형\",\n",
    "    \"배란_유도_유형\",\n",
    "    \"난자_출처\",\n",
    "    \"정자_출처\",\n",
    "    \"난자_기증자_나이\",\n",
    "    \"정자_기증자_나이\",\n",
    "    \"채취_해동_차이\",\n",
    "    \"해동_혼합_차이\",\n",
    "    \"혼합_이식_차이\",\n",
    "    \"이식_해동_차이\"\n",
    "]"
   ]
  },
  {
   "cell_type": "code",
   "execution_count": 11,
   "metadata": {},
   "outputs": [],
   "source": [
    "DI_categorical_columns = [\n",
    "    \"시술_시기_코드\",\n",
    "    \"시술_당시_나이\",\n",
    "    \"특정_시술_유형\",\n",
    "    \"정자_기증자_나이\"\n",
    "]"
   ]
  },
  {
   "cell_type": "code",
   "execution_count": 12,
   "metadata": {},
   "outputs": [],
   "source": [
    "# 모든 범주형 변수를 문자열로 변환\n",
    "IVF_X[IVF_categorical_columns] = IVF_X[IVF_categorical_columns].astype(str)\n",
    "DI_X[DI_categorical_columns] = DI_X[DI_categorical_columns].astype(str)\n",
    "IVF_test[IVF_categorical_columns] = IVF_test[IVF_categorical_columns].astype(str)\n",
    "DI_test[DI_categorical_columns] = DI_test[DI_categorical_columns].astype(str)\n",
    "\n",
    "# OrdinalEncoder를 사용하여 범주형 변수 인코딩\n",
    "IVF_encoder = OrdinalEncoder(handle_unknown='use_encoded_value', unknown_value=-1)\n",
    "DI_encoder = OrdinalEncoder(handle_unknown='use_encoded_value', unknown_value=-1)\n",
    "\n",
    "IVF_X[IVF_categorical_columns] = IVF_encoder.fit_transform(IVF_X[IVF_categorical_columns])\n",
    "DI_X[DI_categorical_columns] = DI_encoder.fit_transform(DI_X[DI_categorical_columns])\n",
    "IVF_test[IVF_categorical_columns] = IVF_encoder.transform(IVF_test[IVF_categorical_columns])\n",
    "DI_test[DI_categorical_columns] = DI_encoder.transform(DI_test[DI_categorical_columns])"
   ]
  },
  {
   "cell_type": "markdown",
   "metadata": {},
   "source": [
    "## Modeling"
   ]
  },
  {
   "cell_type": "code",
   "execution_count": 13,
   "metadata": {},
   "outputs": [],
   "source": [
    "# 데이터 분할\n",
    "IVF_X_train, IVF_X_test, IVF_y_train, IVF_y_test = train_test_split(IVF_X, IVF_y, test_size=0.2, random_state=42)\n",
    "DI_X_train, DI_X_test, DI_y_train, DI_y_test = train_test_split(DI_X, DI_y, test_size=0.2, random_state=42)"
   ]
  },
  {
   "cell_type": "code",
   "execution_count": null,
   "metadata": {},
   "outputs": [
    {
     "name": "stdout",
     "output_type": "stream",
     "text": [
      "LightGBM AUC Score: 0.7387\n",
      "LightGBM (Calibrated) AUC Score: 0.7392\n",
      "XGBoost AUC Score: 0.7389\n",
      "XGBoost (Calibrated) AUC Score: 0.7390\n",
      "CatBoost AUC Score: 0.7399\n",
      "CatBoost (Calibrated) AUC Score: 0.7397\n"
     ]
    },
    {
     "name": "stderr",
     "output_type": "stream",
     "text": [
      "c:\\Users\\juneh\\AppData\\Local\\Programs\\Python\\Python311\\Lib\\site-packages\\sklearn\\neural_network\\_multilayer_perceptron.py:698: UserWarning: Training interrupted by user.\n",
      "  warnings.warn(\"Training interrupted by user.\")\n"
     ]
    },
    {
     "name": "stdout",
     "output_type": "stream",
     "text": [
      "MLPClassifier AUC Score: 0.7119\n"
     ]
    }
   ],
   "source": [
    "from sklearn.calibration import CalibratedClassifierCV\n",
    "from sklearn.ensemble import RandomForestClassifier\n",
    "from sklearn.neural_network import MLPClassifier\n",
    "from lightgbm import LGBMClassifier\n",
    "from xgboost import XGBClassifier\n",
    "from catboost import CatBoostClassifier\n",
    "\n",
    "# 데이터 분할\n",
    "IVF_X_train, IVF_X_test, IVF_y_train, IVF_y_test = train_test_split(IVF_X, IVF_y, test_size=0.2, random_state=42)\n",
    "DI_X_train, DI_X_test, DI_y_train, DI_y_test = train_test_split(DI_X, DI_y, test_size=0.2, random_state=42)\n",
    "\n",
    "# 모델 리스트\n",
    "models = {\n",
    "    \"LightGBM\": LGBMClassifier(n_estimators=500, learning_rate=0.05, random_state=42),\n",
    "    \"XGBoost\": XGBClassifier(n_estimators=500, learning_rate=0.05, random_state=42, eval_metric='logloss'),\n",
    "    \"CatBoost\": CatBoostClassifier(n_estimators=500, learning_rate=0.05, random_state=42, verbose=0),\n",
    "    \"MLPClassifier\": MLPClassifier(hidden_layer_sizes=(128, 64), activation='relu', solver='adam', max_iter=500, random_state=42)\n",
    "}\n",
    "\n",
    "# 모델 학습 및 평가\n",
    "for name, model in models.items():\n",
    "    model.fit(IVF_X_train, IVF_y_train)\n",
    "    y_pred_prob = model.predict_proba(IVF_X_test)[:, 1]\n",
    "    auc_score = roc_auc_score(IVF_y_test, y_pred_prob)\n",
    "    print(f\"{name} AUC Score: {auc_score:.4f}\")\n",
    "\n",
    "    # Calibrated Classifier 적용\n",
    "    calibrated_model = CalibratedClassifierCV(estimator=model, cv=5)\n",
    "    calibrated_model.fit(IVF_X_train, IVF_y_train)\n",
    "    calibrated_y_pred_prob = calibrated_model.predict_proba(IVF_X_test)[:, 1]\n",
    "    calibrated_auc_score = roc_auc_score(IVF_y_test, calibrated_y_pred_prob)\n",
    "    print(f\"{name} (Calibrated) AUC Score: {calibrated_auc_score:.4f}\")"
   ]
  },
  {
   "cell_type": "code",
   "execution_count": null,
   "metadata": {},
   "outputs": [],
   "source": [
    "# 앙상블 모델 (Soft Voting)\n",
    "ensemble_model = VotingClassifier(\n",
    "    estimators=[(name, model) for name, model in models.items()],\n",
    "    voting='soft'\n",
    ")\n",
    "ensemble_model.fit(IVF_X_train, IVF_y_train)\n",
    "ensemble_y_pred_prob = ensemble_model.predict_proba(IVF_X_test)[:, 1]\n",
    "ensemble_auc_score = roc_auc_score(IVF_y_test, ensemble_y_pred_prob)\n",
    "print(f\"Ensemble Model AUC Score: {ensemble_auc_score:.4f}\")"
   ]
  },
  {
   "cell_type": "code",
   "execution_count": 2,
   "metadata": {},
   "outputs": [],
   "source": [
    "import torch\n",
    "import torch.nn as nn\n",
    "import torch.optim as optim\n",
    "from torch.utils.data import DataLoader, TensorDataset\n",
    "\n",
    "from sklearn.calibration import CalibratedClassifierCV\n",
    "from sklearn.ensemble import RandomForestClassifier, VotingClassifier\n",
    "from sklearn.neural_network import MLPClassifier\n",
    "from lightgbm import LGBMClassifier\n",
    "from xgboost import XGBClassifier\n",
    "from catboost import CatBoostClassifier\n",
    "import numpy as np"
   ]
  },
  {
   "cell_type": "code",
   "execution_count": 19,
   "metadata": {},
   "outputs": [
    {
     "name": "stdout",
     "output_type": "stream",
     "text": [
      "Epoch [1/10], Loss: 0.6068\n",
      "Epoch [2/10], Loss: 0.5938\n",
      "Epoch [3/10], Loss: 0.5236\n",
      "Epoch [4/10], Loss: 0.4187\n",
      "Epoch [5/10], Loss: 0.3343\n",
      "Epoch [6/10], Loss: 0.3343\n",
      "Epoch [7/10], Loss: 0.2240\n",
      "Epoch [8/10], Loss: 0.3789\n",
      "Epoch [9/10], Loss: 0.5225\n",
      "Epoch [10/10], Loss: 0.5277\n",
      "IVF CNN AUC Score: 0.7367\n",
      "Epoch [1/10], Loss: 0.4123\n",
      "Epoch [2/10], Loss: 0.1370\n",
      "Epoch [3/10], Loss: 0.6371\n",
      "Epoch [4/10], Loss: 0.6595\n",
      "Epoch [5/10], Loss: 0.3994\n",
      "Epoch [6/10], Loss: 0.1506\n",
      "Epoch [7/10], Loss: 0.5877\n",
      "Epoch [8/10], Loss: 0.4946\n",
      "Epoch [9/10], Loss: 0.4582\n",
      "Epoch [10/10], Loss: 0.2637\n",
      "DI CNN AUC Score: 0.6969\n",
      "\n",
      "--- Combined Model Performance ---\n",
      "Model Accuracy: 0.7483664592638827\n",
      "Model F1 Score: 0.15253235236155818\n",
      "Model AUC: 0.7387359546360572\n"
     ]
    },
    {
     "data": {
      "image/png": "[encoded data removed]",
      "text/plain": [
       "<Figure size 640x480 with 2 Axes>"
      ]
     },
     "metadata": {},
     "output_type": "display_data"
    }
   ],
   "source": [
    "import torch\n",
    "import torch.nn as nn\n",
    "import torch.optim as optim\n",
    "from torch.utils.data import DataLoader, TensorDataset\n",
    "from sklearn.metrics import roc_auc_score, accuracy_score, f1_score, confusion_matrix, ConfusionMatrixDisplay\n",
    "import pandas as pd\n",
    "import matplotlib.pyplot as plt\n",
    "\n",
    "# PyTorch 기반 CNN 모델 정의\n",
    "class CNN(nn.Module):\n",
    "    def __init__(self, input_size):\n",
    "        super(CNN, self).__init__()\n",
    "        self.conv1 = nn.Conv1d(in_channels=1, out_channels=32, kernel_size=3, padding=1)\n",
    "        self.relu = nn.ReLU()\n",
    "        self.pool = nn.MaxPool1d(kernel_size=2)\n",
    "        self.conv2 = nn.Conv1d(in_channels=32, out_channels=64, kernel_size=3, padding=1)\n",
    "        self.fc1 = nn.Linear((input_size // 2 // 2) * 64, 128)\n",
    "        self.dropout = nn.Dropout(p=0.5)\n",
    "        self.fc2 = nn.Linear(128, 1)\n",
    "        self.sigmoid = nn.Sigmoid()\n",
    "    \n",
    "    def forward(self, x):\n",
    "        x = self.pool(self.relu(self.conv1(x)))\n",
    "        x = self.pool(self.relu(self.conv2(x)))\n",
    "        x = x.view(x.size(0), -1)\n",
    "        x = self.relu(self.fc1(x))\n",
    "        x = self.dropout(x)\n",
    "        x = self.sigmoid(self.fc2(x))\n",
    "        return x\n",
    "\n",
    "# 데이터 변환 함수\n",
    "def prepare_data(X_train, X_test, y_train, y_test):\n",
    "    device = torch.device(\"cuda\" if torch.cuda.is_available() else \"cpu\")\n",
    "    X_train_tensor = torch.tensor(X_train.values, dtype=torch.float32).to(device)\n",
    "    X_test_tensor = torch.tensor(X_test.values, dtype=torch.float32).to(device)\n",
    "    y_train_tensor = torch.tensor(y_train.values, dtype=torch.float32).unsqueeze(1).to(device)\n",
    "    y_test_tensor = torch.tensor(y_test.values, dtype=torch.float32).unsqueeze(1).to(device)\n",
    "\n",
    "    X_train_cnn = X_train_tensor.unsqueeze(1)\n",
    "    X_test_cnn = X_test_tensor.unsqueeze(1)\n",
    "\n",
    "    train_dataset = TensorDataset(X_train_tensor, y_train_tensor)\n",
    "    train_loader = DataLoader(train_dataset, batch_size=32, shuffle=True)\n",
    "    \n",
    "    return X_train_cnn, X_test_cnn, y_train_tensor, y_test_tensor, train_loader\n",
    "\n",
    "# 모델 학습 함수\n",
    "def train_model(model, train_loader, num_epochs=10, lr=0.0001):\n",
    "    criterion = nn.BCELoss()\n",
    "    optimizer = optim.Adam(model.parameters(), lr=lr)\n",
    "    for epoch in range(num_epochs):\n",
    "        model.train()\n",
    "        for batch_X, batch_y in train_loader:\n",
    "            batch_X = batch_X.unsqueeze(1)\n",
    "            optimizer.zero_grad()\n",
    "            outputs = model(batch_X)\n",
    "            loss = criterion(outputs, batch_y)\n",
    "            loss.backward()\n",
    "            optimizer.step()\n",
    "        print(f\"Epoch [{epoch+1}/{num_epochs}], Loss: {loss.item():.4f}\")\n",
    "\n",
    "# 모델 평가 함수\n",
    "def evaluate_model(model, X_test_cnn, y_test):\n",
    "    model.eval()\n",
    "    with torch.no_grad():\n",
    "        y_pred_proba = model(X_test_cnn).cpu().numpy()\n",
    "        y_pred = (y_pred_proba > 0.5).astype(int)\n",
    "        auc = roc_auc_score(y_test, y_pred_proba)\n",
    "        return y_pred, y_pred_proba, auc\n",
    "\n",
    "# IVF 데이터 준비 및 모델 학습\n",
    "X_train_cnn, X_test_cnn, y_train_tensor, y_test_tensor, train_loader = prepare_data(IVF_X_train, IVF_X_test, IVF_y_train, IVF_y_test)\n",
    "cnn_model = CNN(input_size=IVF_X_train.shape[1]).to(device)\n",
    "train_model(cnn_model, train_loader)\n",
    "IVF_y_pred, IVF_y_pred_proba, IVF_auc = evaluate_model(cnn_model, X_test_cnn, IVF_y_test)\n",
    "print(f\"IVF CNN AUC Score: {IVF_auc:.4f}\")\n",
    "\n",
    "# DI 데이터 준비 및 모델 학습\n",
    "X_train_cnn, X_test_cnn, y_train_tensor, y_test_tensor, train_loader = prepare_data(DI_X_train, DI_X_test, DI_y_train, DI_y_test)\n",
    "cnn_model = CNN(input_size=DI_X_train.shape[1]).to(device)\n",
    "train_model(cnn_model, train_loader)\n",
    "DI_y_pred, DI_y_pred_proba, DI_auc = evaluate_model(cnn_model, X_test_cnn, DI_y_test)\n",
    "print(f\"DI CNN AUC Score: {DI_auc:.4f}\")\n",
    "\n",
    "# 예측 결과 병합\n",
    "y_test = pd.concat([IVF_y_test, DI_y_test])\n",
    "y_pred = pd.concat([pd.Series(IVF_y_pred.flatten(), index=IVF_y_test.index), pd.Series(DI_y_pred.flatten(), index=DI_y_test.index)])\n",
    "y_pred_proba = pd.concat([pd.Series(IVF_y_pred_proba.flatten(), index=IVF_y_test.index), pd.Series(DI_y_pred_proba.flatten(), index=DI_y_test.index)])\n",
    "\n",
    "# 평가\n",
    "accuracy = accuracy_score(y_test, y_pred)\n",
    "f1 = f1_score(y_test, y_pred)\n",
    "auc = roc_auc_score(y_test, y_pred_proba)\n",
    "cm = confusion_matrix(y_test, y_pred)\n",
    "\n",
    "# 결과 출력\n",
    "print()\n",
    "print(\"--- Combined Model Performance ---\")\n",
    "print(f\"Model Accuracy: {accuracy}\")\n",
    "print(f\"Model F1 Score: {f1}\")\n",
    "print(f\"Model AUC: {auc}\")\n",
    "\n",
    "# 혼동 행렬 출력\n",
    "disp = ConfusionMatrixDisplay(confusion_matrix=cm, display_labels=[0, 1])\n",
    "disp.plot(cmap=plt.cm.Blues)\n",
    "plt.show()"
   ]
  },
  {
   "cell_type": "markdown",
   "metadata": {},
   "source": [
    "."
   ]
  }
 ],
 "metadata": {
  "kernelspec": {
   "display_name": "Python 3",
   "language": "python",
   "name": "python3"
  },
  "language_info": {
   "codemirror_mode": {
    "name": "ipython",
    "version": 3
   },
   "file_extension": ".py",
   "mimetype": "text/x-python",
   "name": "python",
   "nbconvert_exporter": "python",
   "pygments_lexer": "ipython3",
   "version": "3.11.8"
  }
 },
 "nbformat": 4,
 "nbformat_minor": 2
}
