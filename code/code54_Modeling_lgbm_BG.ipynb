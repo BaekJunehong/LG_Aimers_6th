{
 "cells": [
  {
   "cell_type": "markdown",
   "metadata": {},
   "source": [
    "## 난임 환자 대상 임신 성공 여부 예측"
   ]
  },
  {
   "cell_type": "markdown",
   "metadata": {},
   "source": [
    "### LGAimers 6th 온라인 해커톤"
   ]
  },
  {
   "cell_type": "markdown",
   "metadata": {},
   "source": [
    "### Import"
   ]
  },
  {
   "cell_type": "code",
   "execution_count": 39,
   "metadata": {},
   "outputs": [],
   "source": [
    "import pandas as pd\n",
    "import matplotlib.pyplot as plt\n",
    "import lightgbm as lgb\n",
    "from sklearn.preprocessing import OrdinalEncoder\n",
    "from sklearn.model_selection import train_test_split\n",
    "from sklearn.metrics import accuracy_score, f1_score, roc_auc_score, confusion_matrix, ConfusionMatrixDisplay"
   ]
  },
  {
   "cell_type": "code",
   "execution_count": 40,
   "metadata": {},
   "outputs": [],
   "source": [
    "def train_and_evaluate(model, X_train, y_train, X_test, y_test):\n",
    "    # 모델 학습\n",
    "    model.fit(X_train, y_train)\n",
    "    \n",
    "    # 예측\n",
    "    y_pred = model.predict(X_test)\n",
    "    y_pred_proba = model.predict_proba(X_test)[:, 1]\n",
    "    \n",
    "    # 평가\n",
    "    accuracy = accuracy_score(y_test, y_pred)\n",
    "    f1 = f1_score(y_test, y_pred)\n",
    "    auc = roc_auc_score(y_test, y_pred_proba)\n",
    "    cm = confusion_matrix(y_test, y_pred)\n",
    "    \n",
    "    # 결과 출력\n",
    "    print()\n",
    "    print(\"--- Model Performance ---\")\n",
    "    print(f\"Model Accuracy: {accuracy}\")\n",
    "    print(f\"Model F1 Score: {f1}\")\n",
    "    print(f\"Model AUC: {auc}\")\n",
    "    \n",
    "    # 혼동 행렬 출력\n",
    "    disp = ConfusionMatrixDisplay(confusion_matrix=cm, display_labels=model.classes_)\n",
    "    disp.plot(cmap=plt.cm.Blues)\n",
    "    plt.show()\n",
    "    \n",
    "    return y_pred, y_pred_proba"
   ]
  },
  {
   "cell_type": "markdown",
   "metadata": {},
   "source": [
    "### Data Load"
   ]
  },
  {
   "cell_type": "code",
   "execution_count": 41,
   "metadata": {},
   "outputs": [],
   "source": [
    "# 데이터 로드\n",
    "IVF_train = pd.read_csv('../data/IVF_train_dataset_54.csv')\n",
    "IVF_test = pd.read_csv('../data/IVF_test_dataset_54.csv')\n",
    "\n",
    "DI_train = pd.read_csv('../data/DI_train_dataset_54.csv')\n",
    "DI_test = pd.read_csv('../data/DI_test_dataset_54.csv')"
   ]
  },
  {
   "cell_type": "code",
   "execution_count": 42,
   "metadata": {},
   "outputs": [],
   "source": [
    "# ID 열을 제외한 특성과 타겟 변수 분리\n",
    "IVF_X = IVF_train.drop(['임신_성공_여부', 'ID'], axis=1)\n",
    "IVF_y = IVF_train['임신_성공_여부']\n",
    "\n",
    "DI_X = DI_train.drop(['임신_성공_여부', 'ID'], axis=1)\n",
    "DI_y = DI_train['임신_성공_여부']"
   ]
  },
  {
   "cell_type": "code",
   "execution_count": 43,
   "metadata": {},
   "outputs": [
    {
     "name": "stdout",
     "output_type": "stream",
     "text": [
      "IVF_X shape: (250052, 77)\n",
      "IVF_test shape: (87891, 77)\n",
      "DI_X shape: (6289, 31)\n",
      "DI_test shape: (2176, 31)\n"
     ]
    }
   ],
   "source": [
    "print(f\"IVF_X shape: {IVF_X.shape}\")\n",
    "print(f\"IVF_test shape: {IVF_test.drop('ID', axis=1).shape}\")\n",
    "\n",
    "print(f\"DI_X shape: {DI_X.shape}\")\n",
    "print(f\"DI_test shape: {DI_test.drop('ID', axis=1).shape}\")"
   ]
  },
  {
   "cell_type": "markdown",
   "metadata": {},
   "source": [
    "### 인코딩 "
   ]
  },
  {
   "cell_type": "code",
   "execution_count": 44,
   "metadata": {},
   "outputs": [],
   "source": [
    "IVF_categorical_columns = [\n",
    "    \"시술_시기_코드\",\n",
    "    \"시술_당시_나이\",\n",
    "    \"특정_시술_유형\",\n",
    "    \"배란_유도_유형\",\n",
    "    \"난자_출처\",\n",
    "    \"정자_출처\",\n",
    "    \"난자_기증자_나이\",\n",
    "    \"정자_기증자_나이\",\n",
    "    \"채취_해동_차이\",\n",
    "    \"해동_혼합_차이\",\n",
    "    \"혼합_이식_차이\",\n",
    "    \"이식_해동_차이\"\n",
    "]"
   ]
  },
  {
   "cell_type": "code",
   "execution_count": 45,
   "metadata": {},
   "outputs": [],
   "source": [
    "DI_categorical_columns = [\n",
    "    \"시술_시기_코드\",\n",
    "    \"시술_당시_나이\",\n",
    "    \"특정_시술_유형\",\n",
    "    \"정자_기증자_나이\"\n",
    "]"
   ]
  },
  {
   "cell_type": "code",
   "execution_count": 46,
   "metadata": {},
   "outputs": [],
   "source": [
    "# 모든 범주형 변수를 문자열로 변환\n",
    "IVF_X[IVF_categorical_columns] = IVF_X[IVF_categorical_columns].astype(str)\n",
    "DI_X[DI_categorical_columns] = DI_X[DI_categorical_columns].astype(str)\n",
    "IVF_test[IVF_categorical_columns] = IVF_test[IVF_categorical_columns].astype(str)\n",
    "DI_test[DI_categorical_columns] = DI_test[DI_categorical_columns].astype(str)\n",
    "\n",
    "# OrdinalEncoder를 사용하여 범주형 변수 인코딩\n",
    "IVF_encoder = OrdinalEncoder(handle_unknown='use_encoded_value', unknown_value=-1)\n",
    "DI_encoder = OrdinalEncoder(handle_unknown='use_encoded_value', unknown_value=-1)\n",
    "\n",
    "IVF_X[IVF_categorical_columns] = IVF_encoder.fit_transform(IVF_X[IVF_categorical_columns])\n",
    "DI_X[DI_categorical_columns] = DI_encoder.fit_transform(DI_X[DI_categorical_columns])\n",
    "IVF_test[IVF_categorical_columns] = IVF_encoder.transform(IVF_test[IVF_categorical_columns])\n",
    "DI_test[DI_categorical_columns] = DI_encoder.transform(DI_test[DI_categorical_columns])"
   ]
  },
  {
   "cell_type": "markdown",
   "metadata": {},
   "source": [
    "## Modeling"
   ]
  },
  {
   "cell_type": "code",
   "execution_count": 47,
   "metadata": {},
   "outputs": [],
   "source": [
    "# 데이터 분할\n",
    "IVF_X_train, IVF_X_test, IVF_y_train, IVF_y_test = train_test_split(IVF_X, IVF_y, test_size=0.2, random_state=42)\n",
    "DI_X_train, DI_X_test, DI_y_train, DI_y_test = train_test_split(DI_X, DI_y, test_size=0.2, random_state=42)"
   ]
  },
  {
   "cell_type": "markdown",
   "metadata": {},
   "source": [
    "### IVF 데이터"
   ]
  },
  {
   "cell_type": "code",
   "execution_count": 54,
   "metadata": {},
   "outputs": [
    {
     "name": "stdout",
     "output_type": "stream",
     "text": [
      "IVF AUC: 0.7412208943729243\n",
      "DI AUC: 0.7241803452517285\n"
     ]
    }
   ],
   "source": [
    "import lightgbm as lgb\n",
    "import numpy as np\n",
    "from sklearn.metrics import roc_auc_score\n",
    "from sklearn.model_selection import train_test_split\n",
    "\n",
    "# 데이터 분할 함수\n",
    "def split_data(X, y, test_size=0.2, random_state=42):\n",
    "    return train_test_split(X, y, test_size=test_size, random_state=random_state)\n",
    "\n",
    "# 여러 LightGBM 모델 학습 및 앙상블 구성\n",
    "def train_and_ensemble(X, y, num_models=5, test_size=0.2, model_params=None):\n",
    "    models = []\n",
    "    for i in range(num_models):\n",
    "        # 데이터 분할\n",
    "        X_train, X_test, y_train, y_test = split_data(X, y, test_size=test_size, random_state=42 + i)\n",
    "        \n",
    "        # 모델 초기화\n",
    "        model = lgb.LGBMClassifier(\n",
    "            **model_params,\n",
    "            random_state=42 + i  # 각 모델에 다른 시드 값 사용\n",
    "        )\n",
    "        \n",
    "        # 모델 학습\n",
    "        model.fit(X_train, y_train)\n",
    "        models.append(model)\n",
    "    \n",
    "    return models, X_test, y_test\n",
    "\n",
    "# 앙상블 예측 함수\n",
    "def ensemble_predict(models, X):\n",
    "    preds = np.zeros((X.shape[0], len(models)))\n",
    "    for i, model in enumerate(models):\n",
    "        preds[:, i] = model.predict_proba(X)[:, 1]\n",
    "    return np.mean(preds, axis=1)\n",
    "\n",
    "# 데이터 분할\n",
    "IVF_X_train, IVF_X_test, IVF_y_train, IVF_y_test = train_test_split(IVF_X, IVF_y, test_size=0.2, random_state=42)\n",
    "DI_X_train, DI_X_test, DI_y_train, DI_y_test = train_test_split(DI_X, DI_y, test_size=0.2, random_state=42)\n",
    "\n",
    "# IVF 데이터에 대해 여러 LightGBM 모델 학습 및 앙상블 구성\n",
    "IVF_model_params = {\n",
    "    'n_estimators': 4471,\n",
    "    'num_leaves': 13,\n",
    "    'max_depth': 279,\n",
    "    'learning_rate': 0.007075124517450591,\n",
    "    'min_child_samples': 26,\n",
    "    'subsample': 0.29772991936701476,\n",
    "    'colsample_bytree': 0.8913054521763838,\n",
    "    'reg_alpha': 0.0004860363321690653,\n",
    "    'reg_lambda': 311.08056657247363,\n",
    "    'min_split_gain': 0.18214905183450955,\n",
    "    'boosting_type': 'gbdt',\n",
    "    'verbose': -1\n",
    "}\n",
    "IVF_models, IVF_X_test, IVF_y_test = train_and_ensemble(IVF_X, IVF_y, num_models=5, test_size=0.2, model_params=IVF_model_params)\n",
    "\n",
    "# 앙상블 예측\n",
    "IVF_y_pred_proba = ensemble_predict(IVF_models, IVF_X_test)\n",
    "IVF_y_pred = (IVF_y_pred_proba > 0.5).astype(int)\n",
    "\n",
    "# 평가\n",
    "auc = roc_auc_score(IVF_y_test, IVF_y_pred_proba)\n",
    "print(f\"IVF AUC: {auc}\")\n",
    "\n",
    "# DI 데이터에 대해 여러 LightGBM 모델 학습 및 앙상블 구성\n",
    "DI_model_params = {\n",
    "    'n_estimators': 1816,\n",
    "    'num_leaves': 3926,\n",
    "    'max_depth': 259,\n",
    "    'learning_rate': 0.00238377640011148,\n",
    "    'min_child_samples': 1,\n",
    "    'subsample': 0.7610056627240331,\n",
    "    'colsample_bytree': 0.6655579164853634,\n",
    "    'reg_alpha': 0.00025227758337188327,\n",
    "    'reg_lambda': 76.744107215122684,\n",
    "    'min_split_gain': 0.007773520329665474,\n",
    "    'boosting_type': 'gbdt',\n",
    "    'verbose': -1\n",
    "}\n",
    "DI_models, DI_X_test, DI_y_test = train_and_ensemble(DI_X, DI_y, num_models=5, test_size=0.2, model_params=DI_model_params)\n",
    "\n",
    "# 앙상블 예측\n",
    "DI_y_pred_proba = ensemble_predict(DI_models, DI_X_test)\n",
    "DI_y_pred = (DI_y_pred_proba > 0.5).astype(int)\n",
    "\n",
    "# 평가\n",
    "auc = roc_auc_score(DI_y_test, DI_y_pred_proba)\n",
    "print(f\"DI AUC: {auc}\")"
   ]
  },
  {
   "cell_type": "code",
   "execution_count": 56,
   "metadata": {},
   "outputs": [
    {
     "name": "stdout",
     "output_type": "stream",
     "text": [
      "\n",
      "--- Combined Model Performance ---\n",
      "Model Accuracy: 0.7499658663129767\n",
      "Model F1 Score: 0.1950392464678179\n",
      "Model AUC: 0.7428470710042829\n"
     ]
    },
    {
     "data": {
      "image/png": "[encoded data removed]",
      "text/plain": [
       "<Figure size 640x480 with 2 Axes>"
      ]
     },
     "metadata": {},
     "output_type": "display_data"
    }
   ],
   "source": [
    "# 예측 결과 병합\n",
    "y_test = pd.concat([IVF_y_test, DI_y_test])\n",
    "y_pred = pd.concat([pd.Series(IVF_y_pred, index=IVF_y_test.index), pd.Series(DI_y_pred, index=DI_y_test.index)])\n",
    "y_pred_proba = pd.concat([pd.Series(IVF_y_pred_proba, index=IVF_y_test.index), pd.Series(DI_y_pred_proba, index=DI_y_test.index)])\n",
    "\n",
    "# 평가\n",
    "accuracy = accuracy_score(y_test, y_pred)\n",
    "f1 = f1_score(y_test, y_pred)\n",
    "auc = roc_auc_score(y_test, y_pred_proba)\n",
    "cm = confusion_matrix(y_test, y_pred)\n",
    "\n",
    "# 결과 출력\n",
    "print()\n",
    "print(\"--- Combined Model Performance ---\")\n",
    "print(f\"Model Accuracy: {accuracy}\")\n",
    "print(f\"Model F1 Score: {f1}\")\n",
    "print(f\"Model AUC: {auc}\")\n",
    "\n",
    "# 혼동 행렬 출력\n",
    "disp = ConfusionMatrixDisplay(confusion_matrix=cm, display_labels=IVF_model.classes_)\n",
    "disp.plot(cmap=plt.cm.Blues)\n",
    "plt.show()"
   ]
  },
  {
   "cell_type": "markdown",
   "metadata": {},
   "source": [
    "데이콘 PUBLIC 0.7414156309"
   ]
  },
  {
   "cell_type": "markdown",
   "metadata": {},
   "source": [
    "## 제출"
   ]
  },
  {
   "cell_type": "code",
   "execution_count": 65,
   "metadata": {},
   "outputs": [
    {
     "name": "stdout",
     "output_type": "stream",
     "text": [
      "           ID  probability\n",
      "0  TEST_00000     0.001150\n",
      "1  TEST_00001     0.001186\n",
      "2  TEST_00002     0.148630\n",
      "3  TEST_00003     0.106348\n",
      "4  TEST_00004     0.503013\n"
     ]
    }
   ],
   "source": [
    "import lightgbm as lgb\n",
    "import numpy as np\n",
    "import pandas as pd\n",
    "from sklearn.metrics import roc_auc_score\n",
    "from sklearn.model_selection import train_test_split\n",
    "\n",
    "# 여러 LightGBM 모델 학습 및 앙상블 구성\n",
    "def train_and_ensemble(X, y, num_models=5, model_params=None):\n",
    "    models = []\n",
    "    for i in range(num_models):\n",
    "        # 모델 초기화\n",
    "        model = lgb.LGBMClassifier(\n",
    "            **model_params,\n",
    "            random_state=42 + i  # 각 모델에 다른 시드 값 사용\n",
    "        )\n",
    "        \n",
    "        # 모델 학습\n",
    "        model.fit(X, y)\n",
    "        models.append(model)\n",
    "    \n",
    "    return models\n",
    "\n",
    "# 앙상블 예측 함수\n",
    "def ensemble_predict(models, X):\n",
    "    preds = np.zeros((X.shape[0], len(models)))\n",
    "    for i, model in enumerate(models):\n",
    "        preds[:, i] = model.predict_proba(X)[:, 1]\n",
    "    return np.mean(preds, axis=1)\n",
    "\n",
    "# IVF 데이터에 대해 여러 LightGBM 모델 학습 및 앙상블 구성\n",
    "IVF_model_params = {\n",
    "    'n_estimators': 4471,\n",
    "    'num_leaves': 13,\n",
    "    'max_depth': 279,\n",
    "    'learning_rate': 0.007075124517450591,\n",
    "    'min_child_samples': 26,\n",
    "    'subsample': 0.29772991936701476,\n",
    "    'colsample_bytree': 0.8913054521763838,\n",
    "    'reg_alpha': 0.0004860363321690653,\n",
    "    'reg_lambda': 311.08056657247363,\n",
    "    'min_split_gain': 0.18214905183450955,\n",
    "    'boosting_type': 'gbdt',\n",
    "    'verbose': -1\n",
    "}\n",
    "IVF_models = train_and_ensemble(IVF_X, IVF_y, num_models=5, model_params=IVF_model_params)\n",
    "\n",
    "# 앙상블 예측\n",
    "IVF_pred_proba = ensemble_predict(IVF_models, IVF_test.drop(['ID', 'probability'], axis=1, errors='ignore'))\n",
    "\n",
    "# DI 데이터에 대해 여러 LightGBM 모델 학습 및 앙상블 구성\n",
    "DI_model_params = {\n",
    "    'n_estimators': 1816,\n",
    "    'num_leaves': 3926,\n",
    "    'max_depth': 259,\n",
    "    'learning_rate': 0.00238377640011148,\n",
    "    'min_child_samples': 1,\n",
    "    'subsample': 0.7610056627240331,\n",
    "    'colsample_bytree': 0.6655579164853634,\n",
    "    'reg_alpha': 0.00025227758337188327,\n",
    "    'reg_lambda': 76.744107215122684,\n",
    "    'min_split_gain': 0.007773520329665474,\n",
    "    'boosting_type': 'gbdt',\n",
    "    'verbose': -1\n",
    "}\n",
    "DI_models = train_and_ensemble(DI_X, DI_y, num_models=5, model_params=DI_model_params)\n",
    "\n",
    "# 앙상블 예측\n",
    "DI_pred_proba = ensemble_predict(DI_models, DI_test.drop(['ID', 'probability'], axis=1, errors='ignore'))\n",
    "\n",
    "# 예측 결과 병합\n",
    "IVF_test['probability'] = IVF_pred_proba\n",
    "DI_test['probability'] = DI_pred_proba\n",
    "\n",
    "# 최종 제출 파일 생성\n",
    "submission = pd.concat([IVF_test[['ID', 'probability']], DI_test[['ID', 'probability']]], axis=0)\n",
    "submission = submission.sort_values(by='ID')\n",
    "\n",
    "# 제출 파일 저장\n",
    "submission.to_csv('../submission/code54_lgbm_BG.csv', index=False, encoding='utf-8')\n",
    "\n",
    "# 예측 결과 확인\n",
    "print(submission.head())"
   ]
  },
  {
   "cell_type": "markdown",
   "metadata": {},
   "source": [
    "---"
   ]
  },
  {
   "cell_type": "code",
   "execution_count": 68,
   "metadata": {},
   "outputs": [],
   "source": [
    "import pandas as pd\n",
    "\n",
    "# 두 CSV 파일을 읽어옵니다.\n",
    "# df1 = pd.read_csv('../submission/code26_voting_upgrad_submit_LgbmXgb.csv')\n",
    "df1 = pd.read_csv('../submission/code26_submit.csv')\n",
    "df2 = pd.read_csv('../submission/code54_lgbm_BG.csv')\n",
    "\n",
    "# ID를 기준으로 병합하여 값이 다른 행을 찾습니다.\n",
    "merged_df = pd.merge(df1, df2, on='ID', suffixes=('_df1', '_df2'))\n",
    "\n",
    "# 'probability' 열의 값이 다른 행을 필터링합니다.\n",
    "different_rows = merged_df[merged_df['probability_df1'] != merged_df['probability_df2']]"
   ]
  },
  {
   "cell_type": "code",
   "execution_count": 67,
   "metadata": {},
   "outputs": [
    {
     "data": {
      "text/html": [
       "<div>\n",
       "<style scoped>\n",
       "    .dataframe tbody tr th:only-of-type {\n",
       "        vertical-align: middle;\n",
       "    }\n",
       "\n",
       "    .dataframe tbody tr th {\n",
       "        vertical-align: top;\n",
       "    }\n",
       "\n",
       "    .dataframe thead th {\n",
       "        text-align: right;\n",
       "    }\n",
       "</style>\n",
       "<table border=\"1\" class=\"dataframe\">\n",
       "  <thead>\n",
       "    <tr style=\"text-align: right;\">\n",
       "      <th></th>\n",
       "      <th>ID</th>\n",
       "      <th>probability_df1</th>\n",
       "      <th>probability_df2</th>\n",
       "    </tr>\n",
       "  </thead>\n",
       "  <tbody>\n",
       "    <tr>\n",
       "      <th>0</th>\n",
       "      <td>TEST_00000</td>\n",
       "      <td>0.001148</td>\n",
       "      <td>0.001150</td>\n",
       "    </tr>\n",
       "    <tr>\n",
       "      <th>1</th>\n",
       "      <td>TEST_00001</td>\n",
       "      <td>0.001176</td>\n",
       "      <td>0.001186</td>\n",
       "    </tr>\n",
       "    <tr>\n",
       "      <th>2</th>\n",
       "      <td>TEST_00002</td>\n",
       "      <td>0.150113</td>\n",
       "      <td>0.148630</td>\n",
       "    </tr>\n",
       "    <tr>\n",
       "      <th>3</th>\n",
       "      <td>TEST_00003</td>\n",
       "      <td>0.107224</td>\n",
       "      <td>0.106348</td>\n",
       "    </tr>\n",
       "    <tr>\n",
       "      <th>4</th>\n",
       "      <td>TEST_00004</td>\n",
       "      <td>0.500233</td>\n",
       "      <td>0.503013</td>\n",
       "    </tr>\n",
       "    <tr>\n",
       "      <th>...</th>\n",
       "      <td>...</td>\n",
       "      <td>...</td>\n",
       "      <td>...</td>\n",
       "    </tr>\n",
       "    <tr>\n",
       "      <th>90062</th>\n",
       "      <td>TEST_90062</td>\n",
       "      <td>0.001407</td>\n",
       "      <td>0.001416</td>\n",
       "    </tr>\n",
       "    <tr>\n",
       "      <th>90063</th>\n",
       "      <td>TEST_90063</td>\n",
       "      <td>0.306604</td>\n",
       "      <td>0.307971</td>\n",
       "    </tr>\n",
       "    <tr>\n",
       "      <th>90064</th>\n",
       "      <td>TEST_90064</td>\n",
       "      <td>0.524196</td>\n",
       "      <td>0.525682</td>\n",
       "    </tr>\n",
       "    <tr>\n",
       "      <th>90065</th>\n",
       "      <td>TEST_90065</td>\n",
       "      <td>0.217687</td>\n",
       "      <td>0.218108</td>\n",
       "    </tr>\n",
       "    <tr>\n",
       "      <th>90066</th>\n",
       "      <td>TEST_90066</td>\n",
       "      <td>0.001135</td>\n",
       "      <td>0.001142</td>\n",
       "    </tr>\n",
       "  </tbody>\n",
       "</table>\n",
       "<p>90067 rows × 3 columns</p>\n",
       "</div>"
      ],
      "text/plain": [
       "               ID  probability_df1  probability_df2\n",
       "0      TEST_00000         0.001148         0.001150\n",
       "1      TEST_00001         0.001176         0.001186\n",
       "2      TEST_00002         0.150113         0.148630\n",
       "3      TEST_00003         0.107224         0.106348\n",
       "4      TEST_00004         0.500233         0.503013\n",
       "...           ...              ...              ...\n",
       "90062  TEST_90062         0.001407         0.001416\n",
       "90063  TEST_90063         0.306604         0.307971\n",
       "90064  TEST_90064         0.524196         0.525682\n",
       "90065  TEST_90065         0.217687         0.218108\n",
       "90066  TEST_90066         0.001135         0.001142\n",
       "\n",
       "[90067 rows x 3 columns]"
      ]
     },
     "execution_count": 67,
     "metadata": {},
     "output_type": "execute_result"
    }
   ],
   "source": [
    "different_rows"
   ]
  },
  {
   "cell_type": "markdown",
   "metadata": {},
   "source": [
    "---"
   ]
  },
  {
   "cell_type": "markdown",
   "metadata": {},
   "source": [
    "."
   ]
  }
 ],
 "metadata": {
  "kernelspec": {
   "display_name": "Python 3",
   "language": "python",
   "name": "python3"
  },
  "language_info": {
   "codemirror_mode": {
    "name": "ipython",
    "version": 3
   },
   "file_extension": ".py",
   "mimetype": "text/x-python",
   "name": "python",
   "nbconvert_exporter": "python",
   "pygments_lexer": "ipython3",
   "version": "3.11.8"
  }
 },
 "nbformat": 4,
 "nbformat_minor": 2
}
