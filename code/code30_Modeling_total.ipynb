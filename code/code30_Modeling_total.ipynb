{
 "cells": [
  {
   "cell_type": "markdown",
   "metadata": {},
   "source": [
    "## 난임 환자 대상 임신 성공 여부 예측"
   ]
  },
  {
   "cell_type": "markdown",
   "metadata": {},
   "source": [
    "### LGAimers 6th 온라인 해커톤"
   ]
  },
  {
   "cell_type": "markdown",
   "metadata": {},
   "source": [
    "Import"
   ]
  },
  {
   "cell_type": "code",
   "execution_count": 15,
   "metadata": {},
   "outputs": [],
   "source": [
    "import pandas as pd\n",
    "import lightgbm as lgb\n",
    "from sklearn.preprocessing import OrdinalEncoder\n",
    "from sklearn.model_selection import train_test_split\n",
    "from sklearn.metrics import accuracy_score, f1_score, roc_auc_score, confusion_matrix, ConfusionMatrixDisplay\n",
    "import matplotlib.pyplot as plt\n",
    "from sklearn.linear_model import LogisticRegression\n",
    "import lightgbm as lgb\n",
    "import xgboost as xgb\n",
    "from catboost import CatBoostClassifier\n",
    "from sklearn.ensemble import RandomForestClassifier"
   ]
  },
  {
   "cell_type": "markdown",
   "metadata": {},
   "source": [
    "### Data Load"
   ]
  },
  {
   "cell_type": "code",
   "execution_count": 16,
   "metadata": {},
   "outputs": [],
   "source": [
    "# 데이터 로드\n",
    "Total_train = pd.read_csv('../data/Total_train_dataset_30.csv')\n",
    "Total_test = pd.read_csv('../data/Total_test_dataset_30.csv')"
   ]
  },
  {
   "cell_type": "code",
   "execution_count": 17,
   "metadata": {},
   "outputs": [],
   "source": [
    "# ID 열을 제외한 특성과 타겟 변수 분리\n",
    "Total_X = Total_train.drop(['임신_성공_여부', 'ID'], axis=1)\n",
    "Total_y = Total_train['임신_성공_여부']"
   ]
  },
  {
   "cell_type": "markdown",
   "metadata": {},
   "source": [
    "### 인코딩 "
   ]
  },
  {
   "cell_type": "code",
   "execution_count": 18,
   "metadata": {},
   "outputs": [
    {
     "name": "stdout",
     "output_type": "stream",
     "text": [
      "<class 'pandas.core.frame.DataFrame'>\n",
      "RangeIndex: 256342 entries, 0 to 256341\n",
      "Columns: 104 entries, 시술_시기_코드 to 혼합된_난자_수_비율\n",
      "dtypes: float64(13), int64(50), object(41)\n",
      "memory usage: 203.4+ MB\n"
     ]
    }
   ],
   "source": [
    "Total_X.info()"
   ]
  },
  {
   "cell_type": "code",
   "execution_count": 19,
   "metadata": {},
   "outputs": [],
   "source": [
    "Total_categorical_columns = [\n",
    "    \"시술_시기_코드\",\n",
    "    \"시술_당시_나이\",\n",
    "    \"특정_시술_유형\",\n",
    "    \"배란_유도_유형\",\n",
    "    \"단일_배아_이식_여부\",\n",
    "    \"착상_전_유전_진단_사용_여부\",\n",
    "    \"배아_생성_주요_이유\",\n",
    "    \"총_생성_배아_수\",\n",
    "    \"미세주입된_난자_수\",\n",
    "    \"미세주입에서_생성된_배아_수\",\n",
    "    \"이식된_배아_수\",\n",
    "    \"미세주입_배아_이식_수\",\n",
    "    \"저장된_배아_수\",\n",
    "    \"미세주입_후_저장된_배아_수\",\n",
    "    \"해동된_배아_수\",\n",
    "    \"해동_난자_수\",\n",
    "    \"수집된_신선_난자_수\",\n",
    "    \"저장된_신선_난자_수\",\n",
    "    \"혼합된_난자_수\",\n",
    "    \"파트너_정자와_혼합된_난자_수\",\n",
    "    \"기증자_정자와_혼합된_난자_수\",\n",
    "    \"난자_출처\",\n",
    "    \"정자_출처\",\n",
    "    \"난자_기증자_나이\",\n",
    "    \"정자_기증자_나이\",\n",
    "    \"동결_배아_사용_여부\",\n",
    "    \"신선_배아_사용_여부\",\n",
    "    \"기증_배아_사용_여부\",\n",
    "    \"대리모_여부\",\n",
    "    \"ICSI_배아_이식_비율\",\n",
    "    \"ICSI_배아_생성_비율\",\n",
    "    \"ICSI_성공률\",\n",
    "    \"해동_배아_비율\",\n",
    "    \"총_배아_수\",\n",
    "    \"이식된_배아_수_비율\",\n",
    "    \"저장된_배아_비율\",\n",
    "    \"정자와_혼합된_난자_비율\",\n",
    "    \"사용된_신선_난자_수\",\n",
    "    \"사용된_신선_난자_수_비율\",\n",
    "    \"사용된_난자_수\",\n",
    "    \"혼합된_난자_수_비율\"\n",
    "]"
   ]
  },
  {
   "cell_type": "code",
   "execution_count": 20,
   "metadata": {},
   "outputs": [],
   "source": [
    "# 모든 범주형 변수를 문자열로 변환\n",
    "Total_X[Total_categorical_columns] = Total_X[Total_categorical_columns].astype(str)\n",
    "Total_test[Total_categorical_columns] = Total_test[Total_categorical_columns].astype(str)\n",
    "\n",
    "# OrdinalEncoder를 사용하여 범주형 변수 인코딩\n",
    "Total_encoder = OrdinalEncoder(handle_unknown='use_encoded_value', unknown_value=-1)\n",
    "\n",
    "Total_X[Total_categorical_columns] = Total_encoder.fit_transform(Total_X[Total_categorical_columns])\n",
    "Total_test[Total_categorical_columns] = Total_encoder.transform(Total_test[Total_categorical_columns])"
   ]
  },
  {
   "cell_type": "markdown",
   "metadata": {},
   "source": [
    "## Modeling"
   ]
  },
  {
   "cell_type": "code",
   "execution_count": 21,
   "metadata": {},
   "outputs": [],
   "source": [
    "# 데이터 분할\n",
    "Total_X_train, Total_X_test, Total_y_train, Total_y_test = train_test_split(Total_X, Total_y, test_size=0.2, random_state=42)"
   ]
  },
  {
   "cell_type": "markdown",
   "metadata": {},
   "source": [
    "### Total 데이터"
   ]
  },
  {
   "cell_type": "code",
   "execution_count": null,
   "metadata": {},
   "outputs": [
    {
     "name": "stdout",
     "output_type": "stream",
     "text": [
      "\n",
      "--- Model Performance ---\n",
      "Model Accuracy: 0.7446410111373345\n",
      "Model F1 Score: 0.19965765986061867\n",
      "Model AUC: 0.7380380204980964\n"
     ]
    },
    {
     "data": {
      "image/png": "[encoded data removed]",
      "text/plain": [
       "<Figure size 640x480 with 2 Axes>"
      ]
     },
     "metadata": {},
     "output_type": "display_data"
    }
   ],
   "source": [
    "import lightgbm as lgb\n",
    "from sklearn.metrics import accuracy_score, f1_score, roc_auc_score, confusion_matrix, ConfusionMatrixDisplay\n",
    "import matplotlib.pyplot as plt\n",
    "\n",
    "# 모델 초기화\n",
    "Total_model = lgb.LGBMClassifier(\n",
    "    n_estimators=7534,  # 트리의 개수 (부스팅 반복 횟수)\n",
    "    num_leaves=51,  # 하나의 트리가 가질 수 있는 최대 리프 노드 수\n",
    "    learning_rate=0.0006466079722720145,  # 학습률 (0과 1 사이의 값)\n",
    "    reg_alpha=5.390917786114456e-06,  # L1 정규화 (Lasso) 계수\n",
    "    reg_lambda=0.00014388089013544448,  # L2 정규화 (Ridge) 계수\n",
    "\n",
    "    metric='auc',  # 모델 성능 평가 지표\n",
    "    objective='binary',  # 손실 함수 (이진 분류인 경우 'binary' 또는 'cross_entropy' 사용)\n",
    "    random_state=42,  # 랜덤 시드 값 (재현성을 위해 설정)\n",
    "    boosting_type='gbdt',  # 부스팅 유형 ('gbdt', 'dart', 'goss', 'rf' 중 하나)\n",
    "    verbose=-1  # 학습 과정의 출력을 제어 (음수이면 출력을 억제)\n",
    ")\n",
    "\n",
    "# 모델 학습\n",
    "Total_model.fit(Total_X_train, Total_y_train)\n",
    "\n",
    "# 예측\n",
    "y_pred = Total_model.predict(Total_X_test)\n",
    "y_pred_proba = Total_model.predict_proba(Total_X_test)[:, 1]\n",
    "\n",
    "# 평가\n",
    "accuracy = accuracy_score(Total_y_test, y_pred)\n",
    "f1 = f1_score(Total_y_test, y_pred)\n",
    "auc = roc_auc_score(Total_y_test, y_pred_proba)\n",
    "cm = confusion_matrix(Total_y_test, y_pred)\n",
    "\n",
    "# 결과 출력\n",
    "print()\n",
    "print(\"--- Model Performance ---\")\n",
    "print(f\"Model Accuracy: {accuracy}\")\n",
    "print(f\"Model F1 Score: {f1}\")\n",
    "print(f\"Model AUC: {auc}\")\n",
    "\n",
    "# 혼동 행렬 출력\n",
    "disp = ConfusionMatrixDisplay(confusion_matrix=cm, display_labels=Total_model.classes_)\n",
    "disp.plot(cmap=plt.cm.Blues)\n",
    "plt.show()"
   ]
  },
  {
   "cell_type": "markdown",
   "metadata": {},
   "source": [
    "데이콘 PUBLIC ??"
   ]
  },
  {
   "cell_type": "markdown",
   "metadata": {},
   "source": [
    "## 제출"
   ]
  },
  {
   "cell_type": "code",
   "execution_count": 27,
   "metadata": {},
   "outputs": [],
   "source": [
    "# 모델 학습 및 예측\n",
    "Total_model.fit(Total_X, Total_y)\n",
    "Total_pred_proba = Total_model.predict_proba(Total_test.drop('ID', axis=1))[:, 1]\n",
    "Total_test['probability'] = Total_pred_proba\n",
    "\n",
    "# 최종 제출 파일 생성\n",
    "submission = Total_test[['ID', 'probability']]\n",
    "submission = submission.sort_values(by='ID')"
   ]
  },
  {
   "cell_type": "code",
   "execution_count": null,
   "metadata": {},
   "outputs": [],
   "source": [
    "# 제출 파일 저장\n",
    "submission.to_csv('../submission/code30_total_submit.csv', index=False, encoding='utf-8')"
   ]
  },
  {
   "cell_type": "markdown",
   "metadata": {},
   "source": [
    "----"
   ]
  },
  {
   "cell_type": "markdown",
   "metadata": {},
   "source": [
    "."
   ]
  }
 ],
 "metadata": {
  "kernelspec": {
   "display_name": "Python 3",
   "language": "python",
   "name": "python3"
  },
  "language_info": {
   "codemirror_mode": {
    "name": "ipython",
    "version": 3
   },
   "file_extension": ".py",
   "mimetype": "text/x-python",
   "name": "python",
   "nbconvert_exporter": "python",
   "pygments_lexer": "ipython3",
   "version": "3.7.8"
  }
 },
 "nbformat": 4,
 "nbformat_minor": 2
}
