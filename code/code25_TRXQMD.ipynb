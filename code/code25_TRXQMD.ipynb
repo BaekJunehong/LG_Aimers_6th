{
 "cells": [
  {
   "cell_type": "markdown",
   "metadata": {},
   "source": [
    "## 난임 환자 대상 임신 성공 여부 예측"
   ]
  },
  {
   "cell_type": "markdown",
   "metadata": {},
   "source": [
    "### LGAimers 6th 온라인 해커톤"
   ]
  },
  {
   "cell_type": "markdown",
   "metadata": {},
   "source": [
    "Import"
   ]
  },
  {
   "cell_type": "code",
   "execution_count": 1,
   "metadata": {},
   "outputs": [],
   "source": [
    "import numpy as np\n",
    "import pandas as pd\n",
    "import seaborn as sns\n",
    "import matplotlib.pyplot as plt\n",
    "\n",
    "import os\n",
    "from pprint import pprint"
   ]
  },
  {
   "cell_type": "code",
   "execution_count": 2,
   "metadata": {},
   "outputs": [],
   "source": [
    "import platform\n",
    "from matplotlib import rc\n",
    "\n",
    "# 운영 체제에 따라 폰트 설정\n",
    "if platform.system() == 'Windows':  # Windows 환경\n",
    "    rc('font', family='Malgun Gothic')  # 맑은 고딕\n",
    "\n",
    "# 음수 표시 가능하도록 설정\n",
    "plt.rcParams['axes.unicode_minus'] = False"
   ]
  },
  {
   "cell_type": "markdown",
   "metadata": {},
   "source": [
    "반복적으로 쓰는 함수툴"
   ]
  },
  {
   "cell_type": "code",
   "execution_count": 3,
   "metadata": {},
   "outputs": [],
   "source": [
    "def plot_box(df, col_name):\n",
    "    \"\"\"\n",
    "    주어진 데이터프레임과 열 이름에 대해 박스 플롯을 그리는 함수.\n",
    "\n",
    "    Parameters:\n",
    "    df (pd.DataFrame): 데이터프레임\n",
    "    col_name (str): 열 이름\n",
    "    \"\"\"\n",
    "    plt.figure(figsize=(7, 4))\n",
    "    plt.boxplot(df[col_name], vert=False)\n",
    "    plt.xlabel(col_name)\n",
    "    plt.title(f'Box Plot of {col_name}')\n",
    "    plt.show()\n",
    "\n",
    "def value_counts_ratio(df, col_name, target_name='임신_성공_여부'):\n",
    "    \"\"\"\n",
    "    주어진 데이터프레임의 특정 열에 대해 각 값마다 타겟 변수의 비율과 갯수, 총 갯수를 출력하는 함수.\n",
    "\n",
    "    Parameters:\n",
    "    df (pd.DataFrame): 데이터프레임\n",
    "    col_name (str): 열 이름\n",
    "    target_name (str): 타겟 변수 이름\n",
    "    \"\"\"\n",
    "    # 각 값마다 타겟 변수의 비율 계산\n",
    "    value_counts = df.groupby(col_name)[target_name].value_counts(normalize=True).unstack().fillna(0)\n",
    "    \n",
    "    # 각 값마다 타겟 변수의 갯수 계산\n",
    "    counts = df.groupby(col_name)[target_name].value_counts().unstack().fillna(0)\n",
    "    \n",
    "    # 각 값마다 총 갯수 계산\n",
    "    total_counts = df[col_name].value_counts().rename('Total_Count')\n",
    "    \n",
    "    # 비율과 갯수를 합침\n",
    "    result = value_counts.join(counts, lsuffix='_ratio', rsuffix='_count')\n",
    "    \n",
    "    # 총 갯수를 합침\n",
    "    result = result.join(total_counts, on=col_name)\n",
    "    \n",
    "    # 출력 형식 조정\n",
    "    result.index.name = 'variable'\n",
    "    print(f\"\\n{col_name}별 {target_name} 비율 및 갯수\\n\")\n",
    "    print(result.rename(columns=lambda x: x.split('_')[0]))\n",
    "\n",
    "def summarize_group(df, group_by_columns):\n",
    "    \"\"\"\n",
    "    주어진 데이터프레임을 특정 열들로 그룹화하여 각 그룹의 '임신_성공_여부' 비율과 갯수를 요약하는 함수.\n",
    "\n",
    "    Parameters:\n",
    "    df (pd.DataFrame): 데이터프레임\n",
    "    group_by_columns (list): 그룹화할 열 이름들의 리스트\n",
    "    \"\"\"\n",
    "    # 데이터프레임을 그룹화\n",
    "    grouped_df = df.groupby(group_by_columns)\n",
    "    \n",
    "    # 결과를 저장할 리스트 초기화\n",
    "    results = []\n",
    "    \n",
    "    # 그룹화된 데이터프레임의 내용을 확인하는 코드\n",
    "    for name, group in grouped_df:\n",
    "        # 그룹의 갯수 계산\n",
    "        group_count = group.shape[0]\n",
    "        \n",
    "        # '임신_성공_여부' 변수의 '임신 성공' 비율과 갯수 계산\n",
    "        success_count = group['임신_성공_여부'].value_counts().get(1, 0)\n",
    "        success_ratio = success_count / group_count\n",
    "        \n",
    "        # 결과 리스트에 추가\n",
    "        results.append([name, success_count, success_ratio, group_count])\n",
    "    \n",
    "    # 결과 리스트를 데이터프레임으로 변환\n",
    "    results_df = pd.DataFrame(results, columns=['group', \"'임신_성공_여부' count\", 'ratio', 'Total'])\n",
    "    \n",
    "    # 그룹화된 변수들의 이름을 제목행으로 출력\n",
    "    print(f\"Grouped by: {', '.join(group_by_columns)}\")\n",
    "    print()\n",
    "    # 데이터프레임 출력\n",
    "    print(results_df)\n",
    "\n",
    "def plot_ratio(df, group_by_column, target_column='임신_성공_여부', success_value=1):\n",
    "    \"\"\"\n",
    "    주어진 데이터프레임을 특정 열로 그룹화하여 각 그룹의 타겟 변수의 성공 비율을 시각화하는 함수.\n",
    "\n",
    "    Parameters:\n",
    "    df (pd.DataFrame): 데이터프레임\n",
    "    group_by_column (str): 그룹화할 열 이름\n",
    "    target_column (str): 타겟 변수 이름\n",
    "    success_value (int): 타겟 변수의 성공을 나타내는 값\n",
    "    \"\"\"\n",
    "    # 데이터프레임을 그룹화\n",
    "    grouped_df = df.groupby(group_by_column)\n",
    "    \n",
    "    # 결과를 저장할 리스트 초기화\n",
    "    results = []\n",
    "    \n",
    "    # 그룹화된 데이터프레임의 내용을 확인하는 코드\n",
    "    for name, group in grouped_df:\n",
    "        # 그룹의 갯수 계산\n",
    "        group_count = group.shape[0]\n",
    "        \n",
    "        # '임신_성공_여부' 변수의 '성공' 비율과 갯수 계산\n",
    "        success_count = group[target_column].value_counts().get(success_value, 0)\n",
    "        success_ratio = success_count / group_count\n",
    "        \n",
    "        # 결과 리스트에 추가\n",
    "        results.append([name, success_count, success_ratio, group_count])\n",
    "    \n",
    "    # 결과 리스트를 데이터프레임으로 변환\n",
    "    results_df = pd.DataFrame(results, columns=['group', f\"'{success_value}' count\", 'ratio', 'Total'])\n",
    "    \n",
    "    # 그래프 크기 설정\n",
    "    plt.figure(figsize=(10, 5))\n",
    "    \n",
    "    # 막대 그래프 생성\n",
    "    ax = results_df.plot(kind='bar', x='group', y='ratio', legend=False)\n",
    "    \n",
    "    # 각 막대 위에 임신 성공 여부 갯수와 총 갯수 표시\n",
    "    for i, (success_count, total) in enumerate(zip(results_df[f\"'{success_value}' count\"], results_df['Total'])):\n",
    "        ax.text(i, results_df['ratio'][i], f'{success_count} ({total})', ha='center', va='bottom', fontsize=8)\n",
    "    \n",
    "    # 그래프 제목 및 축 레이블 설정\n",
    "    ax.set_title(f'{success_value} Ratio by {group_by_column}')\n",
    "    ax.set_xlabel(group_by_column)\n",
    "    ax.set_ylabel(f'{success_value} Ratio')\n",
    "   \n",
    "    # 그래프 출력\n",
    "    plt.show()\n",
    "\n",
    "def plot_ratio_boxplot(data, column_name, target_column='임신_성공_여부'):\n",
    "    \"\"\"\n",
    "    주어진 데이터프레임의 특정 열과 타겟 변수 간의 관계를 박스 플롯으로 시각화하는 함수.\n",
    "\n",
    "    Parameters:\n",
    "    data (pd.DataFrame): 데이터프레임\n",
    "    column_name (str): 열 이름\n",
    "    target_column (str): 타겟 변수 이름\n",
    "    \"\"\"\n",
    "\n",
    "    # 그래프 그리기\n",
    "    plt.figure(figsize=(10, 6))\n",
    "    sns.boxplot(x=column_name, y=target_column, data=data)\n",
    "\n",
    "    # 그래프 제목 및 레이블 설정\n",
    "    plt.title(f'{column_name} vs {target_column}')\n",
    "    plt.xlabel(column_name)\n",
    "    plt.ylabel(target_column)\n",
    "\n",
    "    # 그래프 출력\n",
    "    plt.show()"
   ]
  },
  {
   "cell_type": "markdown",
   "metadata": {},
   "source": [
    "### Data Load"
   ]
  },
  {
   "cell_type": "code",
   "execution_count": 4,
   "metadata": {},
   "outputs": [
    {
     "name": "stdout",
     "output_type": "stream",
     "text": [
      "Index(['ID', '시술_시기_코드', '시술_당시_나이', '임신_시도_또는_마지막_임신_경과_연수', '시술_유형',\n",
      "       '특정_시술_유형', '배란_자극_여부', '배란_유도_유형', '단일_배아_이식_여부', '착상_전_유전_검사_사용_여부',\n",
      "       '착상_전_유전_진단_사용_여부', '남성_주_불임_원인', '남성_부_불임_원인', '여성_주_불임_원인',\n",
      "       '여성_부_불임_원인', '부부_주_불임_원인', '부부_부_불임_원인', '불명확_불임_원인', '불임_원인_-_난관_질환',\n",
      "       '불임_원인_-_남성_요인', '불임_원인_-_배란_장애', '불임_원인_-_여성_요인', '불임_원인_-_자궁경부_문제',\n",
      "       '불임_원인_-_자궁내막증', '불임_원인_-_정자_농도', '불임_원인_-_정자_면역학적_요인',\n",
      "       '불임_원인_-_정자_운동성', '불임_원인_-_정자_형태', '배아_생성_주요_이유', '총_시술_횟수',\n",
      "       '클리닉_내_총_시술_횟수', 'IVF_시술_횟수', 'DI_시술_횟수', '총_임신_횟수', 'IVF_임신_횟수',\n",
      "       'DI_임신_횟수', '총_출산_횟수', 'IVF_출산_횟수', 'DI_출산_횟수', '총_생성_배아_수',\n",
      "       '미세주입된_난자_수', '미세주입에서_생성된_배아_수', '이식된_배아_수', '미세주입_배아_이식_수', '저장된_배아_수',\n",
      "       '미세주입_후_저장된_배아_수', '해동된_배아_수', '해동_난자_수', '수집된_신선_난자_수', '저장된_신선_난자_수',\n",
      "       '혼합된_난자_수', '파트너_정자와_혼합된_난자_수', '기증자_정자와_혼합된_난자_수', '난자_출처', '정자_출처',\n",
      "       '난자_기증자_나이', '정자_기증자_나이', '동결_배아_사용_여부', '신선_배아_사용_여부', '기증_배아_사용_여부',\n",
      "       '대리모_여부', 'PGD_시술_여부', 'PGS_시술_여부', '난자_채취_경과일', '난자_해동_경과일',\n",
      "       '난자_혼합_경과일', '배아_이식_경과일', '배아_해동_경과일', '임신_성공_여부'],\n",
      "      dtype='object')\n"
     ]
    }
   ],
   "source": [
    "# 데이터 로드\n",
    "train = pd.read_csv('../data/train.csv')\n",
    "test = pd.read_csv('../data/test.csv')\n",
    "\n",
    "# 변수명에서 공백을 밑줄로 대체\n",
    "train.columns = train.columns.str.replace(' ', '_')\n",
    "test.columns = test.columns.str.replace(' ', '_')\n",
    "\n",
    "# 변경된 변수명 확인\n",
    "print(train.columns)"
   ]
  },
  {
   "cell_type": "code",
   "execution_count": 5,
   "metadata": {},
   "outputs": [
    {
     "name": "stdout",
     "output_type": "stream",
     "text": [
      "<class 'pandas.core.frame.DataFrame'>\n",
      "RangeIndex: 256351 entries, 0 to 256350\n",
      "Data columns (total 69 columns):\n",
      " #   Column                 Non-Null Count   Dtype  \n",
      "---  ------                 --------------   -----  \n",
      " 0   ID                     256351 non-null  object \n",
      " 1   시술_시기_코드               256351 non-null  object \n",
      " 2   시술_당시_나이               256351 non-null  object \n",
      " 3   임신_시도_또는_마지막_임신_경과_연수  9370 non-null    float64\n",
      " 4   시술_유형                  256351 non-null  object \n",
      " 5   특정_시술_유형               256349 non-null  object \n",
      " 6   배란_자극_여부               256351 non-null  int64  \n",
      " 7   배란_유도_유형               256351 non-null  object \n",
      " 8   단일_배아_이식_여부            250060 non-null  float64\n",
      " 9   착상_전_유전_검사_사용_여부       2718 non-null    float64\n",
      " 10  착상_전_유전_진단_사용_여부       250060 non-null  float64\n",
      " 11  남성_주_불임_원인             256351 non-null  int64  \n",
      " 12  남성_부_불임_원인             256351 non-null  int64  \n",
      " 13  여성_주_불임_원인             256351 non-null  int64  \n",
      " 14  여성_부_불임_원인             256351 non-null  int64  \n",
      " 15  부부_주_불임_원인             256351 non-null  int64  \n",
      " 16  부부_부_불임_원인             256351 non-null  int64  \n",
      " 17  불명확_불임_원인              256351 non-null  int64  \n",
      " 18  불임_원인_-_난관_질환          256351 non-null  int64  \n",
      " 19  불임_원인_-_남성_요인          256351 non-null  int64  \n",
      " 20  불임_원인_-_배란_장애          256351 non-null  int64  \n",
      " 21  불임_원인_-_여성_요인          256351 non-null  int64  \n",
      " 22  불임_원인_-_자궁경부_문제        256351 non-null  int64  \n",
      " 23  불임_원인_-_자궁내막증          256351 non-null  int64  \n",
      " 24  불임_원인_-_정자_농도          256351 non-null  int64  \n",
      " 25  불임_원인_-_정자_면역학적_요인     256351 non-null  int64  \n",
      " 26  불임_원인_-_정자_운동성         256351 non-null  int64  \n",
      " 27  불임_원인_-_정자_형태          256351 non-null  int64  \n",
      " 28  배아_생성_주요_이유            250060 non-null  object \n",
      " 29  총_시술_횟수                256351 non-null  object \n",
      " 30  클리닉_내_총_시술_횟수          256351 non-null  object \n",
      " 31  IVF_시술_횟수              256351 non-null  object \n",
      " 32  DI_시술_횟수               256351 non-null  object \n",
      " 33  총_임신_횟수                256351 non-null  object \n",
      " 34  IVF_임신_횟수              256351 non-null  object \n",
      " 35  DI_임신_횟수               256351 non-null  object \n",
      " 36  총_출산_횟수                256351 non-null  object \n",
      " 37  IVF_출산_횟수              256351 non-null  object \n",
      " 38  DI_출산_횟수               256351 non-null  object \n",
      " 39  총_생성_배아_수              250060 non-null  float64\n",
      " 40  미세주입된_난자_수             250060 non-null  float64\n",
      " 41  미세주입에서_생성된_배아_수        250060 non-null  float64\n",
      " 42  이식된_배아_수               250060 non-null  float64\n",
      " 43  미세주입_배아_이식_수           250060 non-null  float64\n",
      " 44  저장된_배아_수               250060 non-null  float64\n",
      " 45  미세주입_후_저장된_배아_수        250060 non-null  float64\n",
      " 46  해동된_배아_수               250060 non-null  float64\n",
      " 47  해동_난자_수                250060 non-null  float64\n",
      " 48  수집된_신선_난자_수            250060 non-null  float64\n",
      " 49  저장된_신선_난자_수            250060 non-null  float64\n",
      " 50  혼합된_난자_수               250060 non-null  float64\n",
      " 51  파트너_정자와_혼합된_난자_수       250060 non-null  float64\n",
      " 52  기증자_정자와_혼합된_난자_수       250060 non-null  float64\n",
      " 53  난자_출처                  256351 non-null  object \n",
      " 54  정자_출처                  256351 non-null  object \n",
      " 55  난자_기증자_나이              256351 non-null  object \n",
      " 56  정자_기증자_나이              256351 non-null  object \n",
      " 57  동결_배아_사용_여부            250060 non-null  float64\n",
      " 58  신선_배아_사용_여부            250060 non-null  float64\n",
      " 59  기증_배아_사용_여부            250060 non-null  float64\n",
      " 60  대리모_여부                 250060 non-null  float64\n",
      " 61  PGD_시술_여부              2179 non-null    float64\n",
      " 62  PGS_시술_여부              1929 non-null    float64\n",
      " 63  난자_채취_경과일              198863 non-null  float64\n",
      " 64  난자_해동_경과일              1436 non-null    float64\n",
      " 65  난자_혼합_경과일              202616 non-null  float64\n",
      " 66  배아_이식_경과일              212785 non-null  float64\n",
      " 67  배아_해동_경과일              40369 non-null   float64\n",
      " 68  임신_성공_여부               256351 non-null  int64  \n",
      "dtypes: float64(29), int64(19), object(21)\n",
      "memory usage: 135.0+ MB\n"
     ]
    }
   ],
   "source": [
    "train.info(verbose=True)"
   ]
  },
  {
   "cell_type": "code",
   "execution_count": 6,
   "metadata": {},
   "outputs": [
    {
     "data": {
      "image/png": "[encoded data removed]",
      "text/plain": [
       "<Figure size 640x480 with 1 Axes>"
      ]
     },
     "metadata": {},
     "output_type": "display_data"
    }
   ],
   "source": [
    "import matplotlib.pyplot as plt\n",
    "import pandas as pd\n",
    "\n",
    "# '임신_성공_여부' 변수의 값 개수 계산\n",
    "value_counts = train['임신_성공_여부'].value_counts()\n",
    "\n",
    "# 라벨 변경\n",
    "labels = {1: '1(임신 성공)', 0: '0(임신 실패)'}\n",
    "value_counts.index = value_counts.index.map(labels)\n",
    "\n",
    "# 도넛 차트 그리기\n",
    "fig, ax = plt.subplots()\n",
    "\n",
    "# 파이 차트 그리기\n",
    "wedges, texts, autotexts = ax.pie(value_counts, labels=value_counts.index, autopct='%1.1f%%', startangle=90, wedgeprops=dict(width=0.5))\n",
    "\n",
    "# 도넛 차트 가운데에 원 그리기\n",
    "centre_circle = plt.Circle((0, 0), 0.70, fc='white')\n",
    "fig.gca().add_artist(centre_circle)\n",
    "\n",
    "# 차트 제목 설정\n",
    "ax.set_title('임신 성공 여부 도넛 차트')\n",
    "\n",
    "# 차트 표시\n",
    "plt.show()"
   ]
  },
  {
   "cell_type": "markdown",
   "metadata": {},
   "source": [
    "## EDA"
   ]
  },
  {
   "cell_type": "code",
   "execution_count": 7,
   "metadata": {},
   "outputs": [],
   "source": [
    "# '시술_시기_코드' 변수의 값이 'TRXQMD'에 해당 안하는 데이터 추출\n",
    "IVF_train = train[train['시술_시기_코드'] == 'TRXQMD'] \n",
    "IVF_test = test[test['시술_시기_코드'] == 'TRXQMD']\n",
    "\n",
    "# 모든 값이 결측값인 변수를 제거\n",
    "IVF_train = IVF_train.dropna(axis=1, how='all')\n",
    "IVF_test = IVF_test.dropna(axis=1, how='all')\n",
    "\n",
    "train = IVF_train\n",
    "test = IVF_test"
   ]
  },
  {
   "cell_type": "markdown",
   "metadata": {},
   "source": [
    "### 1. 시술_시기_코드"
   ]
  },
  {
   "cell_type": "markdown",
   "metadata": {},
   "source": [
    "난임 시술을 받은 시기를 기준으로 코드 부여"
   ]
  },
  {
   "cell_type": "code",
   "execution_count": 8,
   "metadata": {},
   "outputs": [
    {
     "name": "stdout",
     "output_type": "stream",
     "text": [
      "\n",
      "시술_시기_코드별 임신_성공_여부 비율 및 갯수\n",
      "\n",
      "                 0         1      0     1  Total\n",
      "variable                                        \n",
      "TRXQMD    0.743878  0.256122  25910  8921  34831\n"
     ]
    }
   ],
   "source": [
    "value_counts_ratio(train, '시술_시기_코드')"
   ]
  },
  {
   "cell_type": "code",
   "execution_count": 9,
   "metadata": {},
   "outputs": [],
   "source": [
    "# '시술_시기_코드' 변수 제거\n",
    "train = train.drop(columns=['시술_시기_코드'])\n",
    "test = test.drop(columns=['시술_시기_코드'])"
   ]
  },
  {
   "cell_type": "markdown",
   "metadata": {},
   "source": [
    "### 2. 시술 당시 나이"
   ]
  },
  {
   "cell_type": "markdown",
   "metadata": {},
   "source": [
    "환자의 시술 당시 나이(연령대)"
   ]
  },
  {
   "cell_type": "code",
   "execution_count": 10,
   "metadata": {},
   "outputs": [
    {
     "name": "stdout",
     "output_type": "stream",
     "text": [
      "\n",
      "시술_당시_나이별 임신_성공_여부 비율 및 갯수\n",
      "\n",
      "                 0         1       0       1  Total\n",
      "variable                                           \n",
      "만18-34세   0.684184  0.315816  9504.0  4387.0  13891\n",
      "만35-37세   0.721422  0.278578  5863.0  2264.0   8127\n",
      "만38-39세   0.782838  0.217162  4452.0  1235.0   5687\n",
      "만40-42세   0.839542  0.160458  4102.0   784.0   4886\n",
      "만43-44세   0.902029  0.097971  1289.0   140.0   1429\n",
      "만45-50세   0.859494  0.140506   679.0   111.0    790\n",
      "알 수 없음    1.000000  0.000000    21.0     0.0     21\n"
     ]
    }
   ],
   "source": [
    "value_counts_ratio(train, '시술_당시_나이')"
   ]
  },
  {
   "cell_type": "code",
   "execution_count": 11,
   "metadata": {},
   "outputs": [
    {
     "data": {
      "text/plain": [
       "만18-34세    4789\n",
       "만35-37세    2774\n",
       "만38-39세    1934\n",
       "만40-42세    1789\n",
       "만43-44세     466\n",
       "만45-50세     265\n",
       "알 수 없음        2\n",
       "Name: 시술_당시_나이, dtype: int64"
      ]
     },
     "execution_count": 11,
     "metadata": {},
     "output_type": "execute_result"
    }
   ],
   "source": [
    "test['시술_당시_나이'].value_counts()"
   ]
  },
  {
   "cell_type": "markdown",
   "metadata": {},
   "source": [
    "### 3. 임신 시도 또는 마지막 임신 경과 일수"
   ]
  },
  {
   "cell_type": "markdown",
   "metadata": {},
   "source": [
    "환자가 처음 임신을 시도한 시점 또는 마지막 임신 이후 현재까지의 경과 연수 (년 단위)"
   ]
  },
  {
   "cell_type": "code",
   "execution_count": 12,
   "metadata": {},
   "outputs": [
    {
     "name": "stdout",
     "output_type": "stream",
     "text": [
      "\n",
      "임신_시도_또는_마지막_임신_경과_연수별 임신_성공_여부 비율 및 갯수\n",
      "\n",
      "                 0         1      0      1  Total\n",
      "variable                                         \n",
      "0.0       0.666667  0.333333    2.0    1.0      3\n",
      "1.0       1.000000  0.000000    2.0    0.0      2\n",
      "2.0       0.692308  0.307692    9.0    4.0     13\n",
      "3.0       0.750000  0.250000   51.0   17.0     68\n",
      "4.0       0.759494  0.240506  180.0   57.0    237\n",
      "5.0       0.746641  0.253359  389.0  132.0    521\n",
      "6.0       0.737274  0.262726  449.0  160.0    609\n",
      "7.0       0.775385  0.224615  504.0  146.0    650\n",
      "8.0       0.782123  0.217877  420.0  117.0    537\n",
      "9.0       0.818667  0.181333  307.0   68.0    375\n",
      "10.0      0.789625  0.210375  274.0   73.0    347\n",
      "11.0      0.814480  0.185520  180.0   41.0    221\n",
      "12.0      0.791411  0.208589  129.0   34.0    163\n",
      "13.0      0.847222  0.152778  122.0   22.0    144\n",
      "14.0      0.727273  0.272727   56.0   21.0     77\n",
      "15.0      0.754386  0.245614   43.0   14.0     57\n",
      "16.0      0.846154  0.153846   44.0    8.0     52\n",
      "17.0      0.846154  0.153846   33.0    6.0     39\n",
      "18.0      0.843750  0.156250   27.0    5.0     32\n",
      "19.0      0.840000  0.160000   21.0    4.0     25\n",
      "20.0      0.823529  0.176471   28.0    6.0     34\n"
     ]
    }
   ],
   "source": [
    "value_counts_ratio(train, '임신_시도_또는_마지막_임신_경과_연수')"
   ]
  },
  {
   "cell_type": "code",
   "execution_count": 13,
   "metadata": {},
   "outputs": [],
   "source": [
    "# 3년 단위로 범주화\n",
    "bins = list(range(0, 24, 3))  # 0부터 20까지 3년 단위로 구간 생성\n",
    "labels = [f'{i}-{i+2}년' for i in range(0, 21, 3)]  # 범주 레이블 생성\n",
    "\n",
    "train['임신_시도_또는_마지막_임신_경과_연수'] = pd.cut(train['임신_시도_또는_마지막_임신_경과_연수'], bins=bins, labels=labels, right=False)\n",
    "test['임신_시도_또는_마지막_임신_경과_연수'] = pd.cut(test['임신_시도_또는_마지막_임신_경과_연수'], bins=bins, labels=labels, right=False)\n",
    "\n",
    "# 결측값을 'unknown'으로 채우기 위해 범주에 'unknown' 추가\n",
    "train['임신_시도_또는_마지막_임신_경과_연수'] = train['임신_시도_또는_마지막_임신_경과_연수'].cat.add_categories(['unknown'])\n",
    "test['임신_시도_또는_마지막_임신_경과_연수'] = test['임신_시도_또는_마지막_임신_경과_연수'].cat.add_categories(['unknown'])\n",
    "\n",
    "train['임신_시도_또는_마지막_임신_경과_연수'].fillna('unknown', inplace=True)\n",
    "test['임신_시도_또는_마지막_임신_경과_연수'].fillna('unknown', inplace=True)"
   ]
  },
  {
   "cell_type": "code",
   "execution_count": 14,
   "metadata": {},
   "outputs": [
    {
     "name": "stdout",
     "output_type": "stream",
     "text": [
      "\n",
      "임신_시도_또는_마지막_임신_경과_연수별 임신_성공_여부 비율 및 갯수\n",
      "\n",
      "                 0         1      0     1  Total\n",
      "variable                                        \n",
      "0-2년      0.722222  0.277778     13     5     18\n",
      "3-5년      0.750605  0.249395    620   206    826\n",
      "6-8년      0.764477  0.235523   1373   423   1796\n",
      "9-11년     0.806999  0.193001    761   182    943\n",
      "12-14년    0.799479  0.200521    307    77    384\n",
      "15-17년    0.810811  0.189189    120    28    148\n",
      "18-20년    0.835165  0.164835     76    15     91\n",
      "unknown   0.739265  0.260735  22640  7985  30625\n"
     ]
    }
   ],
   "source": [
    "value_counts_ratio(train, '임신_시도_또는_마지막_임신_경과_연수')"
   ]
  },
  {
   "cell_type": "markdown",
   "metadata": {},
   "source": [
    "### 4. 시술_유형"
   ]
  },
  {
   "cell_type": "markdown",
   "metadata": {},
   "source": [
    "IVF 또는 DI 시술 여부"
   ]
  },
  {
   "cell_type": "code",
   "execution_count": 15,
   "metadata": {},
   "outputs": [
    {
     "name": "stdout",
     "output_type": "stream",
     "text": [
      "\n",
      "시술_유형별 임신_성공_여부 비율 및 갯수\n",
      "\n",
      "                 0         1      0     1  Total\n",
      "variable                                        \n",
      "DI        0.837808  0.162192    749   145    894\n",
      "IVF       0.741403  0.258597  25161  8776  33937\n"
     ]
    }
   ],
   "source": [
    "value_counts_ratio(train, '시술_유형')"
   ]
  },
  {
   "cell_type": "code",
   "execution_count": 16,
   "metadata": {},
   "outputs": [
    {
     "data": {
      "text/plain": [
       "IVF    11701\n",
       "DI       318\n",
       "Name: 시술_유형, dtype: int64"
      ]
     },
     "execution_count": 16,
     "metadata": {},
     "output_type": "execute_result"
    }
   ],
   "source": [
    "test['시술_유형'].value_counts()"
   ]
  },
  {
   "cell_type": "markdown",
   "metadata": {},
   "source": [
    "### 5. 특정_시술_유형"
   ]
  },
  {
   "cell_type": "markdown",
   "metadata": {},
   "source": [
    "IVF – 체외 수정 (시험관 아기 시술)  \n",
    "ICSI – 세포질 내 정자 주입  \n",
    "IUI – 인공 수정 (자궁 내 주입)  \n",
    "ICI – 자궁경부 인공 수정  \n",
    "GIFT – 생식세포 나팔관 이식  \n",
    "FER – 냉동 배아 이식  \n",
    "Generic DI – 기증 정자 주입  \n",
    "IVI – 질 내 인공 수정   \n",
    "BLASTOCYST – 배반포 단계에 이식  \n",
    "AH – 배아를 hatching 시켜주는 과정  \n",
    "Unknown – 시술 유형 정보가 제공되지 않았거나 알 수 없음  \n",
    "\n",
    "(*) 특수 기호의 의미  \n",
    "\"/\" – 복합적인 시술 방법을 의미 (예: ICSI / BLASTOCYST)  \n",
    "\":\" – 동일 시술 내 세부 조합을 의미 (예: ICSI:IVF)  "
   ]
  },
  {
   "cell_type": "code",
   "execution_count": 17,
   "metadata": {},
   "outputs": [
    {
     "name": "stdout",
     "output_type": "stream",
     "text": [
      "Grouped by: 특정_시술_유형\n",
      "\n",
      "                                  group  '임신_성공_여부' count     ratio  Total\n",
      "0                                  GIFT                 0  0.000000      1\n",
      "1                            Generic DI                 1  0.500000      2\n",
      "2                                   ICI                 7  0.179487     39\n",
      "3                                  ICSI              4263  0.267256  15951\n",
      "4                             ICSI / AH                82  0.240469    341\n",
      "5                    ICSI / BLASTOCYST                266  0.394074    675\n",
      "6   ICSI / BLASTOCYST :IVF / BLASTOCYST                 1  1.000000      1\n",
      "7    ICSI / BLASTOCYST:IVF / BLASTOCYST                 2  0.666667      3\n",
      "8                             ICSI:ICSI                 2  0.017857    112\n",
      "9                              ICSI:IVF                37  0.321739    115\n",
      "10                         ICSI:Unknown                 4  0.307692     13\n",
      "11                                  IUI               137  0.161176    850\n",
      "12                                  IVF              3255  0.260776  12482\n",
      "13                             IVF / AH                31  0.205298    151\n",
      "14                   IVF / AH:ICSI / AH                 0  0.000000      1\n",
      "15                     IVF / BLASTOCYST               197  0.393214    501\n",
      "16                             IVF:ICSI                14  0.291667     48\n",
      "17                              IVF:IVF                 1  0.013889     72\n",
      "18                          IVF:Unknown                 2  0.153846     13\n",
      "19                                  IVI                 0  0.000000      2\n",
      "20                              Unknown               619  0.179005   3458\n"
     ]
    }
   ],
   "source": [
    "summarize_group(train, ['특정_시술_유형'])"
   ]
  },
  {
   "cell_type": "code",
   "execution_count": 18,
   "metadata": {},
   "outputs": [
    {
     "data": {
      "text/plain": [
       "ICSI                                  5479\n",
       "IVF                                   4304\n",
       "Unknown                               1208\n",
       "IUI                                    300\n",
       "ICSI / BLASTOCYST                      243\n",
       "IVF / BLASTOCYST                       159\n",
       "ICSI / AH                              120\n",
       "IVF / AH                                49\n",
       "ICSI:ICSI                               47\n",
       "ICSI:IVF                                40\n",
       "IVF:IVF                                 26\n",
       "IVF:ICSI                                19\n",
       "ICI                                     13\n",
       "ICSI:Unknown                             3\n",
       "IVF:Unknown                              3\n",
       "IUI:ICI                                  2\n",
       "IVI                                      2\n",
       "Generic DI                               1\n",
       "ICSI / BLASTOCYST:IVF / BLASTOCYST       1\n",
       "Name: 특정_시술_유형, dtype: int64"
      ]
     },
     "execution_count": 18,
     "metadata": {},
     "output_type": "execute_result"
    }
   ],
   "source": [
    "test['특정_시술_유형'].value_counts()"
   ]
  },
  {
   "cell_type": "code",
   "execution_count": 19,
   "metadata": {},
   "outputs": [],
   "source": [
    "# '특정_시술_유형' 변수의 값이 'FER' 또는 'GIFT'인 행 제거\n",
    "train = train.loc[~train['특정_시술_유형'].isin(['FER', 'GIFT'])]\n",
    "# test = test.loc[~test['특정_시술_유형'].isin(['FER', 'GIFT'])]"
   ]
  },
  {
   "cell_type": "code",
   "execution_count": 20,
   "metadata": {},
   "outputs": [],
   "source": [
    "# 시술 유형 변환 함수\n",
    "def transform_treatment(treatment):\n",
    "    if isinstance(treatment, str):  # treatment가 문자열인지 확인\n",
    "        if treatment.startswith(\"ICSI\"):\n",
    "            if \"AH\" in treatment:\n",
    "                return \"ICSI / AH\"\n",
    "            elif \"BLASTOCYST\" in treatment:\n",
    "                return \"ICSI / BLASTOCYST\"\n",
    "            return \"ICSI\"\n",
    "        elif treatment.startswith(\"IVF\"):\n",
    "            if \"AH\" in treatment:\n",
    "                return \"IVF / AH\"\n",
    "            elif \"BLASTOCYST\" in treatment:\n",
    "                return \"IVF / BLASTOCYST\"\n",
    "            return \"IVF\"\n",
    "        elif treatment == \"IUI:ICI\":\n",
    "            return \"IUI\"\n",
    "    return treatment  # 기타 시술은 그대로 반환\n",
    "\n",
    "# 변환된 열 추가\n",
    "train['변환된_특정_시술_유형'] = train['특정_시술_유형'].apply(transform_treatment)\n",
    "test['변환된_특정_시술_유형'] = test['특정_시술_유형'].apply(transform_treatment)"
   ]
  },
  {
   "cell_type": "code",
   "execution_count": 21,
   "metadata": {},
   "outputs": [
    {
     "name": "stdout",
     "output_type": "stream",
     "text": [
      "\n",
      "변환된_특정_시술_유형별 임신_성공_여부 비율 및 갯수\n",
      "\n",
      "                          0         1        0       1  Total\n",
      "variable                                                     \n",
      "Generic DI         0.500000  0.500000      1.0     1.0      2\n",
      "ICI                0.820513  0.179487     32.0     7.0     39\n",
      "ICSI               0.734050  0.265950  11885.0  4306.0  16191\n",
      "ICSI / AH          0.759531  0.240469    259.0    82.0    341\n",
      "ICSI / BLASTOCYST  0.603829  0.396171    410.0   269.0    679\n",
      "IUI                0.838824  0.161176    713.0   137.0    850\n",
      "IVF                0.740626  0.259374   9343.0  3272.0  12615\n",
      "IVF / AH           0.796053  0.203947    121.0    31.0    152\n",
      "IVF / BLASTOCYST   0.606786  0.393214    304.0   197.0    501\n",
      "IVI                1.000000  0.000000      2.0     0.0      2\n",
      "Unknown            0.820995  0.179005   2839.0   619.0   3458\n"
     ]
    }
   ],
   "source": [
    "value_counts_ratio(train, '변환된_특정_시술_유형')"
   ]
  },
  {
   "cell_type": "code",
   "execution_count": 22,
   "metadata": {},
   "outputs": [
    {
     "data": {
      "text/plain": [
       "ICSI                 5569\n",
       "IVF                  4352\n",
       "Unknown              1208\n",
       "IUI                   302\n",
       "ICSI / BLASTOCYST     244\n",
       "IVF / BLASTOCYST      159\n",
       "ICSI / AH             120\n",
       "IVF / AH               49\n",
       "ICI                    13\n",
       "IVI                     2\n",
       "Generic DI              1\n",
       "Name: 변환된_특정_시술_유형, dtype: int64"
      ]
     },
     "execution_count": 22,
     "metadata": {},
     "output_type": "execute_result"
    }
   ],
   "source": [
    "test['변환된_특정_시술_유형'].value_counts()"
   ]
  },
  {
   "cell_type": "code",
   "execution_count": 23,
   "metadata": {},
   "outputs": [],
   "source": [
    "# 더미 변수 생성 함수 정의\n",
    "def create_dummy(x, keyword):\n",
    "    if isinstance(x, str) and keyword in x:\n",
    "        return 1\n",
    "    else:\n",
    "        return 0\n",
    "\n",
    "# 더미 변수 생성\n",
    "train['특정_시술_유형_ICSI_더미'] = train['변환된_특정_시술_유형'].apply(lambda x: create_dummy(x, 'ICSI'))\n",
    "train['특정_시술_유형_IVF_더미'] = train['변환된_특정_시술_유형'].apply(lambda x: create_dummy(x, 'IVF'))\n",
    "train['특정_시술_유형_AH_더미'] = train['변환된_특정_시술_유형'].apply(lambda x: create_dummy(x, 'AH'))\n",
    "train['특정_시술_유형_BLASTOCYST_더미'] = train['변환된_특정_시술_유형'].apply(lambda x: create_dummy(x, 'BLASTOCYST'))\n",
    "\n",
    "test['특정_시술_유형_ICSI_더미'] = test['변환된_특정_시술_유형'].apply(lambda x: create_dummy(x, 'ICSI'))\n",
    "test['특정_시술_유형_IVF_더미'] = test['변환된_특정_시술_유형'].apply(lambda x: create_dummy(x, 'IVF'))\n",
    "test['특정_시술_유형_AH_더미'] = test['변환된_특정_시술_유형'].apply(lambda x: create_dummy(x, 'AH'))\n",
    "test['특정_시술_유형_BLASTOCYST_더미'] = test['변환된_특정_시술_유형'].apply(lambda x: create_dummy(x, 'BLASTOCYST'))"
   ]
  },
  {
   "cell_type": "code",
   "execution_count": 24,
   "metadata": {},
   "outputs": [
    {
     "name": "stdout",
     "output_type": "stream",
     "text": [
      "Grouped by: 특정_시술_유형, 특정_시술_유형_ICSI_더미, 특정_시술_유형_IVF_더미, 특정_시술_유형_AH_더미, 특정_시술_유형_BLASTOCYST_더미\n",
      "\n",
      "                                                group  '임신_성공_여부' count  \\\n",
      "0                            (Generic DI, 0, 0, 0, 0)                 1   \n",
      "1                                   (ICI, 0, 0, 0, 0)                 7   \n",
      "2                                  (ICSI, 1, 0, 0, 0)              4263   \n",
      "3                             (ICSI / AH, 1, 0, 1, 0)                82   \n",
      "4                    (ICSI / BLASTOCYST , 1, 0, 0, 1)               266   \n",
      "5   (ICSI / BLASTOCYST :IVF / BLASTOCYST, 1, 0, 0, 1)                 1   \n",
      "6    (ICSI / BLASTOCYST:IVF / BLASTOCYST, 1, 0, 0, 1)                 2   \n",
      "7                             (ICSI:ICSI, 1, 0, 0, 0)                 2   \n",
      "8                              (ICSI:IVF, 1, 0, 0, 0)                37   \n",
      "9                          (ICSI:Unknown, 1, 0, 0, 0)                 4   \n",
      "10                                  (IUI, 0, 0, 0, 0)               137   \n",
      "11                                  (IVF, 0, 1, 0, 0)              3255   \n",
      "12                             (IVF / AH, 0, 1, 1, 0)                31   \n",
      "13                   (IVF / AH:ICSI / AH, 0, 1, 1, 0)                 0   \n",
      "14                     (IVF / BLASTOCYST, 0, 1, 0, 1)               197   \n",
      "15                             (IVF:ICSI, 0, 1, 0, 0)                14   \n",
      "16                              (IVF:IVF, 0, 1, 0, 0)                 1   \n",
      "17                          (IVF:Unknown, 0, 1, 0, 0)                 2   \n",
      "18                                  (IVI, 0, 0, 0, 0)                 0   \n",
      "19                              (Unknown, 0, 0, 0, 0)               619   \n",
      "\n",
      "       ratio  Total  \n",
      "0   0.500000      2  \n",
      "1   0.179487     39  \n",
      "2   0.267256  15951  \n",
      "3   0.240469    341  \n",
      "4   0.394074    675  \n",
      "5   1.000000      1  \n",
      "6   0.666667      3  \n",
      "7   0.017857    112  \n",
      "8   0.321739    115  \n",
      "9   0.307692     13  \n",
      "10  0.161176    850  \n",
      "11  0.260776  12482  \n",
      "12  0.205298    151  \n",
      "13  0.000000      1  \n",
      "14  0.393214    501  \n",
      "15  0.291667     48  \n",
      "16  0.013889     72  \n",
      "17  0.153846     13  \n",
      "18  0.000000      2  \n",
      "19  0.179005   3458  \n"
     ]
    }
   ],
   "source": [
    "summarize_group(train, ['특정_시술_유형',\n",
    "                        '특정_시술_유형_ICSI_더미',\n",
    "                          '특정_시술_유형_IVF_더미',\n",
    "                            '특정_시술_유형_AH_더미',\n",
    "                              '특정_시술_유형_BLASTOCYST_더미'])"
   ]
  },
  {
   "cell_type": "code",
   "execution_count": 25,
   "metadata": {},
   "outputs": [],
   "source": [
    "# '특정_시술_유형' 변수 제거\n",
    "train = train.drop(columns=['특정_시술_유형'])\n",
    "test = test.drop(columns=['특정_시술_유형'])"
   ]
  },
  {
   "cell_type": "markdown",
   "metadata": {},
   "source": [
    "### 6. 배란_자극_여부"
   ]
  },
  {
   "cell_type": "markdown",
   "metadata": {},
   "source": [
    "배란 자극 치료가 사용되었는지 여부"
   ]
  },
  {
   "cell_type": "code",
   "execution_count": 26,
   "metadata": {},
   "outputs": [
    {
     "name": "stdout",
     "output_type": "stream",
     "text": [
      "\n",
      "배란_자극_여부별 임신_성공_여부 비율 및 갯수\n",
      "\n",
      "                 0         1      0     1  Total\n",
      "variable                                        \n",
      "0         0.802832  0.197168   6010  1476   7486\n",
      "1         0.727728  0.272272  19899  7445  27344\n"
     ]
    }
   ],
   "source": [
    "value_counts_ratio(train, '배란_자극_여부')"
   ]
  },
  {
   "cell_type": "markdown",
   "metadata": {},
   "source": [
    "### 7. 배란_유도_유형"
   ]
  },
  {
   "cell_type": "markdown",
   "metadata": {},
   "source": [
    "사용된 배란 유도 방법 유형"
   ]
  },
  {
   "cell_type": "code",
   "execution_count": 27,
   "metadata": {},
   "outputs": [
    {
     "name": "stdout",
     "output_type": "stream",
     "text": [
      "\n",
      "배란_유도_유형별 임신_성공_여부 비율 및 갯수\n",
      "\n",
      "                   0         1      0     1  Total\n",
      "variable                                          \n",
      "기록되지 않은 시행  0.726008  0.273992  19518  7366  26884\n",
      "알 수 없음      0.804304  0.195696   6391  1555   7946\n"
     ]
    }
   ],
   "source": [
    "value_counts_ratio(train, '배란_유도_유형')"
   ]
  },
  {
   "cell_type": "code",
   "execution_count": 28,
   "metadata": {},
   "outputs": [
    {
     "data": {
      "text/plain": [
       "기록되지 않은 시행    9307\n",
       "알 수 없음        2712\n",
       "Name: 배란_유도_유형, dtype: int64"
      ]
     },
     "execution_count": 28,
     "metadata": {},
     "output_type": "execute_result"
    }
   ],
   "source": [
    "test['배란_유도_유형'].value_counts()"
   ]
  },
  {
   "cell_type": "markdown",
   "metadata": {},
   "source": [
    "### 8. 단일_배아_이식_여부"
   ]
  },
  {
   "cell_type": "markdown",
   "metadata": {},
   "source": [
    "선택적으로 단일 배아를 이식했는지 여부"
   ]
  },
  {
   "cell_type": "code",
   "execution_count": 29,
   "metadata": {},
   "outputs": [
    {
     "name": "stdout",
     "output_type": "stream",
     "text": [
      "\n",
      "단일_배아_이식_여부별 임신_성공_여부 비율 및 갯수\n",
      "\n",
      "                 0         1      0     1  Total\n",
      "variable                                        \n",
      "0.0       0.755106  0.244894  21701  7038  28739\n",
      "1.0       0.665641  0.334359   3460  1738   5198\n"
     ]
    }
   ],
   "source": [
    "value_counts_ratio(train, '단일_배아_이식_여부')"
   ]
  },
  {
   "cell_type": "markdown",
   "metadata": {},
   "source": [
    "### 9. 착상_전_유전_검사_사용_여부"
   ]
  },
  {
   "cell_type": "markdown",
   "metadata": {},
   "source": [
    "PGS(착상 전 유전 검사)가 시행되었는지 여부"
   ]
  },
  {
   "cell_type": "code",
   "execution_count": 30,
   "metadata": {},
   "outputs": [
    {
     "name": "stdout",
     "output_type": "stream",
     "text": [
      "\n",
      "착상_전_유전_검사_사용_여부별 임신_성공_여부 비율 및 갯수\n",
      "\n",
      "                0        1    0   1  Total\n",
      "variable                                  \n",
      "1.0       0.87218  0.12782  232  34    266\n"
     ]
    }
   ],
   "source": [
    "value_counts_ratio(train, '착상_전_유전_검사_사용_여부')"
   ]
  },
  {
   "cell_type": "code",
   "execution_count": 31,
   "metadata": {},
   "outputs": [
    {
     "name": "stdout",
     "output_type": "stream",
     "text": [
      "결측값 개수: 34564\n",
      "결측값 개수: 0\n"
     ]
    }
   ],
   "source": [
    "# 결측값 개수 확인\n",
    "print(\"결측값 개수:\", train['착상_전_유전_검사_사용_여부'].isnull().sum())\n",
    "\n",
    "# 결측값을 0으로 채우기\n",
    "train['착상_전_유전_검사_사용_여부'].fillna(0, inplace=True)\n",
    "test['착상_전_유전_검사_사용_여부'].fillna(0, inplace=True)\n",
    "\n",
    "# 결측값 개수 확인\n",
    "print(\"결측값 개수:\", train['착상_전_유전_검사_사용_여부'].isnull().sum())"
   ]
  },
  {
   "cell_type": "code",
   "execution_count": 32,
   "metadata": {},
   "outputs": [
    {
     "name": "stdout",
     "output_type": "stream",
     "text": [
      "\n",
      "착상_전_유전_검사_사용_여부별 임신_성공_여부 비율 및 갯수\n",
      "\n",
      "                 0         1      0     1  Total\n",
      "variable                                        \n",
      "0.0       0.742883  0.257117  25677  8887  34564\n",
      "1.0       0.872180  0.127820    232    34    266\n"
     ]
    }
   ],
   "source": [
    "value_counts_ratio(train, '착상_전_유전_검사_사용_여부')"
   ]
  },
  {
   "cell_type": "markdown",
   "metadata": {},
   "source": [
    "### 10. 착상_전_유전_진단_사용_여부"
   ]
  },
  {
   "cell_type": "markdown",
   "metadata": {},
   "source": [
    "PGD(착상 전 유전 진단)가 시행되었는지 여부"
   ]
  },
  {
   "cell_type": "code",
   "execution_count": 33,
   "metadata": {},
   "outputs": [
    {
     "name": "stdout",
     "output_type": "stream",
     "text": [
      "\n",
      "착상_전_유전_진단_사용_여부별 임신_성공_여부 비율 및 갯수\n",
      "\n",
      "                 0         1      0     1  Total\n",
      "variable                                        \n",
      "0.0       0.741743  0.258257  24973  8695  33668\n",
      "1.0       0.698885  0.301115    188    81    269\n"
     ]
    }
   ],
   "source": [
    "value_counts_ratio(train, '착상_전_유전_진단_사용_여부')"
   ]
  },
  {
   "cell_type": "code",
   "execution_count": 34,
   "metadata": {},
   "outputs": [
    {
     "name": "stdout",
     "output_type": "stream",
     "text": [
      "Grouped by: 착상_전_유전_진단_사용_여부, 착상_전_유전_검사_사용_여부\n",
      "\n",
      "        group  '임신_성공_여부' count     ratio  Total\n",
      "0  (0.0, 0.0)              8661  0.259280  33404\n",
      "1  (0.0, 1.0)                34  0.128788    264\n",
      "2  (1.0, 0.0)                81  0.303371    267\n",
      "3  (1.0, 1.0)                 0  0.000000      2\n"
     ]
    }
   ],
   "source": [
    "summarize_group(train, ['착상_전_유전_진단_사용_여부', '착상_전_유전_검사_사용_여부'])"
   ]
  },
  {
   "cell_type": "markdown",
   "metadata": {},
   "source": [
    "### 11. 남성_주_불임_원인"
   ]
  },
  {
   "cell_type": "markdown",
   "metadata": {},
   "source": [
    "남성의 주요 불임 원인 여부"
   ]
  },
  {
   "cell_type": "code",
   "execution_count": 35,
   "metadata": {},
   "outputs": [
    {
     "name": "stdout",
     "output_type": "stream",
     "text": [
      "\n",
      "남성_주_불임_원인별 임신_성공_여부 비율 및 갯수\n",
      "\n",
      "                 0         1      0     1  Total\n",
      "variable                                        \n",
      "0         0.741207  0.258793  23414  8175  31589\n",
      "1         0.769824  0.230176   2495   746   3241\n"
     ]
    }
   ],
   "source": [
    "value_counts_ratio(train, '남성_주_불임_원인')"
   ]
  },
  {
   "cell_type": "markdown",
   "metadata": {},
   "source": [
    "### 12. 남성_부_불임_원인"
   ]
  },
  {
   "cell_type": "markdown",
   "metadata": {},
   "source": [
    "남성의 부차적 불임 원인 여부"
   ]
  },
  {
   "cell_type": "code",
   "execution_count": 36,
   "metadata": {},
   "outputs": [
    {
     "name": "stdout",
     "output_type": "stream",
     "text": [
      "\n",
      "남성_부_불임_원인별 임신_성공_여부 비율 및 갯수\n",
      "\n",
      "                 0         1      0     1  Total\n",
      "variable                                        \n",
      "0         0.741489  0.258511  24722  8619  33341\n",
      "1         0.797179  0.202821   1187   302   1489\n"
     ]
    }
   ],
   "source": [
    "value_counts_ratio(train, '남성_부_불임_원인')"
   ]
  },
  {
   "cell_type": "code",
   "execution_count": 37,
   "metadata": {},
   "outputs": [
    {
     "name": "stdout",
     "output_type": "stream",
     "text": [
      "Grouped by: 남성_주_불임_원인, 남성_부_불임_원인\n",
      "\n",
      "    group  '임신_성공_여부' count     ratio  Total\n",
      "0  (0, 0)              7873  0.261544  30102\n",
      "1  (0, 1)               302  0.203093   1487\n",
      "2  (1, 0)               746  0.230318   3239\n",
      "3  (1, 1)                 0  0.000000      2\n"
     ]
    }
   ],
   "source": [
    "summarize_group(train, ['남성_주_불임_원인', '남성_부_불임_원인'])"
   ]
  },
  {
   "cell_type": "markdown",
   "metadata": {},
   "source": [
    "### 13. 여성_주_불임_원인"
   ]
  },
  {
   "cell_type": "markdown",
   "metadata": {},
   "source": [
    "여성의 주요 불임 원인 여부"
   ]
  },
  {
   "cell_type": "code",
   "execution_count": 38,
   "metadata": {},
   "outputs": [
    {
     "name": "stdout",
     "output_type": "stream",
     "text": [
      "\n",
      "여성_주_불임_원인별 임신_성공_여부 비율 및 갯수\n",
      "\n",
      "                 0         1      0     1  Total\n",
      "variable                                        \n",
      "0         0.741077  0.258923  23255  8125  31380\n",
      "1         0.769275  0.230725   2654   796   3450\n"
     ]
    }
   ],
   "source": [
    "value_counts_ratio(train, '여성_주_불임_원인')"
   ]
  },
  {
   "cell_type": "markdown",
   "metadata": {},
   "source": [
    "### 14. 여성_부_불임_원인"
   ]
  },
  {
   "cell_type": "markdown",
   "metadata": {},
   "source": [
    "여성의 부차적 불임 원인 여부"
   ]
  },
  {
   "cell_type": "code",
   "execution_count": 39,
   "metadata": {},
   "outputs": [
    {
     "name": "stdout",
     "output_type": "stream",
     "text": [
      "\n",
      "여성_부_불임_원인별 임신_성공_여부 비율 및 갯수\n",
      "\n",
      "                 0         1      0     1  Total\n",
      "variable                                        \n",
      "0         0.741390  0.258610  24755  8635  33390\n",
      "1         0.801389  0.198611   1154   286   1440\n"
     ]
    }
   ],
   "source": [
    "value_counts_ratio(train, '여성_부_불임_원인')"
   ]
  },
  {
   "cell_type": "code",
   "execution_count": 40,
   "metadata": {},
   "outputs": [
    {
     "name": "stdout",
     "output_type": "stream",
     "text": [
      "Grouped by: 여성_주_불임_원인, 여성_부_불임_원인\n",
      "\n",
      "    group  '임신_성공_여부' count     ratio  Total\n",
      "0  (0, 0)              7840  0.261840  29942\n",
      "1  (0, 1)               285  0.198192   1438\n",
      "2  (1, 0)               795  0.230568   3448\n",
      "3  (1, 1)                 1  0.500000      2\n"
     ]
    }
   ],
   "source": [
    "summarize_group(train, ['여성_주_불임_원인', '여성_부_불임_원인'])"
   ]
  },
  {
   "cell_type": "code",
   "execution_count": 41,
   "metadata": {},
   "outputs": [
    {
     "name": "stdout",
     "output_type": "stream",
     "text": [
      "Grouped by: 남성_주_불임_원인, 남성_부_불임_원인, 여성_주_불임_원인, 여성_부_불임_원인\n",
      "\n",
      "           group  '임신_성공_여부' count     ratio  Total\n",
      "0   (0, 0, 0, 0)              7834  0.261858  29917\n",
      "1   (0, 0, 0, 1)                 7  0.159091     44\n",
      "2   (0, 0, 1, 0)                32  0.228571    140\n",
      "3   (0, 0, 1, 1)                 0  0.000000      1\n",
      "4   (0, 1, 0, 0)                 2  0.222222      9\n",
      "5   (0, 1, 0, 1)               202  0.199802   1011\n",
      "6   (0, 1, 1, 0)                97  0.208155    466\n",
      "7   (0, 1, 1, 1)                 1  1.000000      1\n",
      "8   (1, 0, 0, 0)                 4  0.250000     16\n",
      "9   (1, 0, 0, 1)                76  0.198953    382\n",
      "10  (1, 0, 1, 0)               666  0.234424   2841\n",
      "11  (1, 1, 0, 1)                 0  0.000000      1\n",
      "12  (1, 1, 1, 0)                 0  0.000000      1\n"
     ]
    }
   ],
   "source": [
    "summarize_group(train, ['남성_주_불임_원인', '남성_부_불임_원인', '여성_주_불임_원인', '여성_부_불임_원인'])"
   ]
  },
  {
   "cell_type": "markdown",
   "metadata": {},
   "source": [
    "### 15. 부부_주_불임_원인"
   ]
  },
  {
   "cell_type": "markdown",
   "metadata": {},
   "source": [
    "부부의 주요 불임 원인 여부"
   ]
  },
  {
   "cell_type": "code",
   "execution_count": 42,
   "metadata": {},
   "outputs": [
    {
     "name": "stdout",
     "output_type": "stream",
     "text": [
      "\n",
      "부부_주_불임_원인별 임신_성공_여부 비율 및 갯수\n",
      "\n",
      "                 0         1      0     1  Total\n",
      "variable                                        \n",
      "0         0.740980  0.259020  23043  8055  31098\n",
      "1         0.767953  0.232047   2866   866   3732\n"
     ]
    }
   ],
   "source": [
    "value_counts_ratio(train, '부부_주_불임_원인')"
   ]
  },
  {
   "cell_type": "markdown",
   "metadata": {},
   "source": [
    "### 16. 부부_부_불임_원인"
   ]
  },
  {
   "cell_type": "markdown",
   "metadata": {},
   "source": [
    "부부의 부차적 불임 원인 여부"
   ]
  },
  {
   "cell_type": "code",
   "execution_count": 43,
   "metadata": {},
   "outputs": [
    {
     "name": "stdout",
     "output_type": "stream",
     "text": [
      "\n",
      "부부_부_불임_원인별 임신_성공_여부 비율 및 갯수\n",
      "\n",
      "                 0         1      0     1  Total\n",
      "variable                                        \n",
      "0         0.741691  0.258309  25084  8736  33820\n",
      "1         0.816832  0.183168    825   185   1010\n"
     ]
    }
   ],
   "source": [
    "value_counts_ratio(train, '부부_부_불임_원인')"
   ]
  },
  {
   "cell_type": "code",
   "execution_count": 44,
   "metadata": {},
   "outputs": [
    {
     "name": "stdout",
     "output_type": "stream",
     "text": [
      "Grouped by: 부부_주_불임_원인, 부부_부_불임_원인\n",
      "\n",
      "    group  '임신_성공_여부' count     ratio  Total\n",
      "0  (0, 0)              7870  0.261557  30089\n",
      "1  (0, 1)               185  0.183350   1009\n",
      "2  (1, 0)               866  0.232109   3731\n",
      "3  (1, 1)                 0  0.000000      1\n"
     ]
    }
   ],
   "source": [
    "summarize_group(train, ['부부_주_불임_원인', '부부_부_불임_원인'])"
   ]
  },
  {
   "cell_type": "code",
   "execution_count": 45,
   "metadata": {},
   "outputs": [
    {
     "name": "stdout",
     "output_type": "stream",
     "text": [
      "Grouped by: 남성_주_불임_원인, 남성_부_불임_원인, 여성_주_불임_원인, 여성_부_불임_원인, 부부_주_불임_원인, 부부_부_불임_원인\n",
      "\n",
      "                 group  '임신_성공_여부' count     ratio  Total\n",
      "0   (0, 0, 0, 0, 0, 0)              7827  0.261764  29901\n",
      "1   (0, 0, 0, 0, 0, 1)                 1  0.500000      2\n",
      "2   (0, 0, 0, 0, 1, 0)                 6  0.428571     14\n",
      "3   (0, 0, 0, 1, 0, 0)                 6  0.176471     34\n",
      "4   (0, 0, 0, 1, 0, 1)                 1  0.125000      8\n",
      "5   (0, 0, 0, 1, 1, 0)                 0  0.000000      2\n",
      "6   (0, 0, 1, 0, 0, 0)                20  0.192308    104\n",
      "7   (0, 0, 1, 0, 0, 1)                 1  0.500000      2\n",
      "8   (0, 0, 1, 0, 1, 0)                11  0.323529     34\n",
      "9   (0, 0, 1, 1, 1, 0)                 0  0.000000      1\n",
      "10  (0, 1, 0, 0, 0, 1)                 2  0.222222      9\n",
      "11  (0, 1, 0, 1, 0, 0)                 6  0.333333     18\n",
      "12  (0, 1, 0, 1, 0, 1)               164  0.185311    885\n",
      "13  (0, 1, 0, 1, 1, 0)                32  0.299065    107\n",
      "14  (0, 1, 0, 1, 1, 1)                 0  0.000000      1\n",
      "15  (0, 1, 1, 0, 0, 0)                 1  0.500000      2\n",
      "16  (0, 1, 1, 0, 0, 1)                13  0.151163     86\n",
      "17  (0, 1, 1, 0, 1, 0)                83  0.219577    378\n",
      "18  (0, 1, 1, 1, 1, 0)                 1  1.000000      1\n",
      "19  (1, 0, 0, 0, 0, 0)                 1  0.333333      3\n",
      "20  (1, 0, 0, 0, 1, 0)                 3  0.230769     13\n",
      "21  (1, 0, 0, 1, 0, 1)                 2  0.222222      9\n",
      "22  (1, 0, 0, 1, 1, 0)                74  0.198391    373\n",
      "23  (1, 0, 1, 0, 0, 0)                 9  0.346154     26\n",
      "24  (1, 0, 1, 0, 0, 1)                 1  0.125000      8\n",
      "25  (1, 0, 1, 0, 1, 0)               656  0.233701   2807\n",
      "26  (1, 1, 0, 1, 1, 0)                 0  0.000000      1\n",
      "27  (1, 1, 1, 0, 0, 0)                 0  0.000000      1\n"
     ]
    }
   ],
   "source": [
    "summarize_group(train, ['남성_주_불임_원인', '남성_부_불임_원인'\n",
    "                        , '여성_주_불임_원인', '여성_부_불임_원인'\n",
    "                        , '부부_주_불임_원인', '부부_부_불임_원인'])"
   ]
  },
  {
   "cell_type": "markdown",
   "metadata": {},
   "source": [
    "### 17. 불명확_불임_원인"
   ]
  },
  {
   "cell_type": "markdown",
   "metadata": {},
   "source": [
    "불명의 원인으로 인한 불임 여부"
   ]
  },
  {
   "cell_type": "code",
   "execution_count": 46,
   "metadata": {},
   "outputs": [
    {
     "name": "stdout",
     "output_type": "stream",
     "text": [
      "\n",
      "불명확_불임_원인별 임신_성공_여부 비율 및 갯수\n",
      "\n",
      "                 0         1      0     1  Total\n",
      "variable                                        \n",
      "0         0.745087  0.254913  19411  6641  26052\n",
      "1         0.740260  0.259740   6498  2280   8778\n"
     ]
    }
   ],
   "source": [
    "value_counts_ratio(train, '불명확_불임_원인')"
   ]
  },
  {
   "cell_type": "markdown",
   "metadata": {},
   "source": [
    "### 18. 불임_원인_-_난관_질환"
   ]
  },
  {
   "cell_type": "markdown",
   "metadata": {},
   "source": [
    "난관 이상으로 인한 불임 여부"
   ]
  },
  {
   "cell_type": "code",
   "execution_count": 47,
   "metadata": {},
   "outputs": [
    {
     "name": "stdout",
     "output_type": "stream",
     "text": [
      "\n",
      "불임_원인_-_난관_질환별 임신_성공_여부 비율 및 갯수\n",
      "\n",
      "                 0         1      0     1  Total\n",
      "variable                                        \n",
      "0         0.741386  0.258614  21561  7521  29082\n",
      "1         0.756437  0.243563   4348  1400   5748\n"
     ]
    }
   ],
   "source": [
    "value_counts_ratio(train, '불임_원인_-_난관_질환')"
   ]
  },
  {
   "cell_type": "markdown",
   "metadata": {},
   "source": [
    "### 19. 불임_원인_-_남성_요인"
   ]
  },
  {
   "cell_type": "markdown",
   "metadata": {},
   "source": [
    "남성 요인으로 인한 불임 여부"
   ]
  },
  {
   "cell_type": "code",
   "execution_count": 48,
   "metadata": {},
   "outputs": [
    {
     "name": "stdout",
     "output_type": "stream",
     "text": [
      "\n",
      "불임_원인_-_남성_요인별 임신_성공_여부 비율 및 갯수\n",
      "\n",
      "                 0         1      0     1  Total\n",
      "variable                                        \n",
      "0         0.751986  0.248014  15524  5120  20644\n",
      "1         0.732060  0.267940  10385  3801  14186\n"
     ]
    }
   ],
   "source": [
    "value_counts_ratio(train, '불임_원인_-_남성_요인')"
   ]
  },
  {
   "cell_type": "markdown",
   "metadata": {},
   "source": [
    "### 20. 불임_원인_-_배란_장애"
   ]
  },
  {
   "cell_type": "markdown",
   "metadata": {},
   "source": [
    "배란 장애로 인한 불임 여부"
   ]
  },
  {
   "cell_type": "code",
   "execution_count": 49,
   "metadata": {},
   "outputs": [
    {
     "name": "stdout",
     "output_type": "stream",
     "text": [
      "\n",
      "불임_원인_-_배란_장애별 임신_성공_여부 비율 및 갯수\n",
      "\n",
      "                 0         1      0     1  Total\n",
      "variable                                        \n",
      "0         0.745727  0.254273  22644  7721  30365\n",
      "1         0.731243  0.268757   3265  1200   4465\n"
     ]
    }
   ],
   "source": [
    "value_counts_ratio(train, '불임_원인_-_배란_장애')"
   ]
  },
  {
   "cell_type": "markdown",
   "metadata": {},
   "source": [
    "### 21. 불임_원인_-_여성_요인"
   ]
  },
  {
   "cell_type": "markdown",
   "metadata": {},
   "source": [
    "여성 요인으로 인한 불임 여부"
   ]
  },
  {
   "cell_type": "code",
   "execution_count": 50,
   "metadata": {},
   "outputs": [
    {
     "name": "stdout",
     "output_type": "stream",
     "text": [
      "\n",
      "불임_원인_-_여성_요인별 임신_성공_여부 비율 및 갯수\n",
      "\n",
      "                0        1      0     1  Total\n",
      "variable                                      \n",
      "0         0.74387  0.25613  25909  8921  34830\n"
     ]
    }
   ],
   "source": [
    "value_counts_ratio(train, '불임_원인_-_여성_요인')"
   ]
  },
  {
   "cell_type": "code",
   "execution_count": 51,
   "metadata": {},
   "outputs": [
    {
     "data": {
      "text/plain": [
       "0    12019\n",
       "Name: 불임_원인_-_여성_요인, dtype: int64"
      ]
     },
     "execution_count": 51,
     "metadata": {},
     "output_type": "execute_result"
    }
   ],
   "source": [
    "test['불임_원인_-_여성_요인'].value_counts()"
   ]
  },
  {
   "cell_type": "code",
   "execution_count": 52,
   "metadata": {},
   "outputs": [],
   "source": [
    "# '불임_원인_-_여성_요인' 변수 제거\n",
    "train = train.drop(columns=['불임_원인_-_여성_요인'])\n",
    "test = test.drop(columns=['불임_원인_-_여성_요인'])"
   ]
  },
  {
   "cell_type": "markdown",
   "metadata": {},
   "source": [
    "### 22. 불임_원인_-_자궁경부_문제"
   ]
  },
  {
   "cell_type": "markdown",
   "metadata": {},
   "source": [
    "자궁경부 이상으로 인한 불임 여부"
   ]
  },
  {
   "cell_type": "code",
   "execution_count": 53,
   "metadata": {},
   "outputs": [
    {
     "name": "stdout",
     "output_type": "stream",
     "text": [
      "\n",
      "불임_원인_-_자궁경부_문제별 임신_성공_여부 비율 및 갯수\n",
      "\n",
      "                 0         1        0       1  Total\n",
      "variable                                            \n",
      "0         0.743833  0.256167  25904.0  8921.0  34825\n",
      "1         1.000000  0.000000      5.0     0.0      5\n"
     ]
    }
   ],
   "source": [
    "value_counts_ratio(train, '불임_원인_-_자궁경부_문제')"
   ]
  },
  {
   "cell_type": "markdown",
   "metadata": {},
   "source": [
    "### 23. 불임_원인_-_자궁내막증"
   ]
  },
  {
   "cell_type": "markdown",
   "metadata": {},
   "source": [
    "자궁내막증으로 인한 불임 여부"
   ]
  },
  {
   "cell_type": "code",
   "execution_count": 54,
   "metadata": {},
   "outputs": [
    {
     "name": "stdout",
     "output_type": "stream",
     "text": [
      "\n",
      "불임_원인_-_자궁내막증별 임신_성공_여부 비율 및 갯수\n",
      "\n",
      "                 0         1      0     1  Total\n",
      "variable                                        \n",
      "0         0.742438  0.257562  24006  8328  32334\n",
      "1         0.762420  0.237580   1903   593   2496\n"
     ]
    }
   ],
   "source": [
    "value_counts_ratio(train, '불임_원인_-_자궁내막증')"
   ]
  },
  {
   "cell_type": "markdown",
   "metadata": {},
   "source": [
    "### 24. 불임_원인_-_정자_농도"
   ]
  },
  {
   "cell_type": "markdown",
   "metadata": {},
   "source": [
    "파트너의 정자 농도 문제 여부"
   ]
  },
  {
   "cell_type": "code",
   "execution_count": 55,
   "metadata": {},
   "outputs": [
    {
     "name": "stdout",
     "output_type": "stream",
     "text": [
      "\n",
      "불임_원인_-_정자_농도별 임신_성공_여부 비율 및 갯수\n",
      "\n",
      "                 0         1      0     1  Total\n",
      "variable                                        \n",
      "0         0.743848  0.256152  25816  8890  34706\n",
      "1         0.750000  0.250000     93    31    124\n"
     ]
    }
   ],
   "source": [
    "value_counts_ratio(train, '불임_원인_-_정자_농도')"
   ]
  },
  {
   "cell_type": "markdown",
   "metadata": {},
   "source": [
    "### 25. 불임_원인_-_정자_면역학적_요인"
   ]
  },
  {
   "cell_type": "markdown",
   "metadata": {},
   "source": [
    "파트너의 정자 면역 관련 문제 여부"
   ]
  },
  {
   "cell_type": "code",
   "execution_count": 56,
   "metadata": {},
   "outputs": [
    {
     "name": "stdout",
     "output_type": "stream",
     "text": [
      "\n",
      "불임_원인_-_정자_면역학적_요인별 임신_성공_여부 비율 및 갯수\n",
      "\n",
      "                 0         1        0       1  Total\n",
      "variable                                            \n",
      "0         0.743863  0.256137  25908.0  8921.0  34829\n",
      "1         1.000000  0.000000      1.0     0.0      1\n"
     ]
    }
   ],
   "source": [
    "value_counts_ratio(train, '불임_원인_-_정자_면역학적_요인')"
   ]
  },
  {
   "cell_type": "code",
   "execution_count": 57,
   "metadata": {},
   "outputs": [
    {
     "data": {
      "text/plain": [
       "0    12018\n",
       "1        1\n",
       "Name: 불임_원인_-_정자_면역학적_요인, dtype: int64"
      ]
     },
     "execution_count": 57,
     "metadata": {},
     "output_type": "execute_result"
    }
   ],
   "source": [
    "test['불임_원인_-_정자_면역학적_요인'].value_counts()"
   ]
  },
  {
   "cell_type": "code",
   "execution_count": 58,
   "metadata": {},
   "outputs": [],
   "source": [
    "# '불임_원인_-_정자_면역학적_요인' 변수 제거\n",
    "train = train.drop(columns=['불임_원인_-_정자_면역학적_요인'])\n",
    "test = test.drop(columns=['불임_원인_-_정자_면역학적_요인'])"
   ]
  },
  {
   "cell_type": "markdown",
   "metadata": {},
   "source": [
    "### 26. 불임_원인_-_정자_운동성"
   ]
  },
  {
   "cell_type": "markdown",
   "metadata": {},
   "source": [
    "파트너의 정자 운동성 문제 여부"
   ]
  },
  {
   "cell_type": "code",
   "execution_count": 59,
   "metadata": {},
   "outputs": [
    {
     "name": "stdout",
     "output_type": "stream",
     "text": [
      "\n",
      "불임_원인_-_정자_운동성별 임신_성공_여부 비율 및 갯수\n",
      "\n",
      "                 0         1      0     1  Total\n",
      "variable                                        \n",
      "0         0.743761  0.256239  25868  8912  34780\n",
      "1         0.820000  0.180000     41     9     50\n"
     ]
    }
   ],
   "source": [
    "value_counts_ratio(train, '불임_원인_-_정자_운동성')"
   ]
  },
  {
   "cell_type": "code",
   "execution_count": 60,
   "metadata": {},
   "outputs": [],
   "source": [
    "# '불임_원인_-_정자_운동성' 변수 제거\n",
    "train = train.drop(columns=['불임_원인_-_정자_운동성'])\n",
    "test = test.drop(columns=['불임_원인_-_정자_운동성'])"
   ]
  },
  {
   "cell_type": "markdown",
   "metadata": {},
   "source": [
    "### 27. 불임_원인_-_정자_형태"
   ]
  },
  {
   "cell_type": "markdown",
   "metadata": {},
   "source": [
    "파트너의 정자 형태 문제 여부"
   ]
  },
  {
   "cell_type": "code",
   "execution_count": 61,
   "metadata": {},
   "outputs": [
    {
     "name": "stdout",
     "output_type": "stream",
     "text": [
      "\n",
      "불임_원인_-_정자_형태별 임신_성공_여부 비율 및 갯수\n",
      "\n",
      "                 0         1      0     1  Total\n",
      "variable                                        \n",
      "0         0.743773  0.256227  25858  8908  34766\n",
      "1         0.796875  0.203125     51    13     64\n"
     ]
    }
   ],
   "source": [
    "value_counts_ratio(train, '불임_원인_-_정자_형태')"
   ]
  },
  {
   "cell_type": "markdown",
   "metadata": {},
   "source": [
    "### 28. 배아_생성_주요_이유"
   ]
  },
  {
   "cell_type": "markdown",
   "metadata": {},
   "source": [
    "배아 생성의 주된 목적(시술, 보관 등)"
   ]
  },
  {
   "cell_type": "code",
   "execution_count": 62,
   "metadata": {},
   "outputs": [
    {
     "name": "stdout",
     "output_type": "stream",
     "text": [
      "\n",
      "배아_생성_주요_이유별 임신_성공_여부 비율 및 갯수\n",
      "\n",
      "                            0         1        0       1  Total\n",
      "variable                                                       \n",
      "기증용                  1.000000  0.000000    113.0     0.0    113\n",
      "기증용, 난자 저장용          1.000000  0.000000      3.0     0.0      3\n",
      "기증용, 배아 저장용          1.000000  0.000000      4.0     0.0      4\n",
      "기증용, 배아 저장용, 현재 시술용  0.500000  0.500000      2.0     2.0      4\n",
      "기증용, 현재 시술용          0.631410  0.368590    394.0   230.0    624\n",
      "난자 저장용               1.000000  0.000000    136.0     0.0    136\n",
      "배아 저장용               1.000000  0.000000    142.0     0.0    142\n",
      "배아 저장용, 현재 시술용       0.400000  0.600000      2.0     3.0      5\n",
      "현재 시술용               0.740442  0.259558  24365.0  8541.0  32906\n"
     ]
    }
   ],
   "source": [
    "value_counts_ratio(train, '배아_생성_주요_이유')"
   ]
  },
  {
   "cell_type": "code",
   "execution_count": 63,
   "metadata": {},
   "outputs": [],
   "source": [
    "# '연구용'이라는 값이 포함된 행 삭제\n",
    "train = train[~train['배아_생성_주요_이유'].str.contains('연구용', na=False)]\n",
    "# test = test[~test['배아_생성_주요_이유'].str.contains('연구용', na=False)]"
   ]
  },
  {
   "cell_type": "code",
   "execution_count": 64,
   "metadata": {},
   "outputs": [
    {
     "name": "stdout",
     "output_type": "stream",
     "text": [
      "\n",
      "배아_생성_주요_이유별 임신_성공_여부 비율 및 갯수\n",
      "\n",
      "                            0         1        0       1  Total\n",
      "variable                                                       \n",
      "기증용                  1.000000  0.000000    113.0     0.0    113\n",
      "기증용, 난자 저장용          1.000000  0.000000      3.0     0.0      3\n",
      "기증용, 배아 저장용          1.000000  0.000000      4.0     0.0      4\n",
      "기증용, 배아 저장용, 현재 시술용  0.500000  0.500000      2.0     2.0      4\n",
      "기증용, 현재 시술용          0.631410  0.368590    394.0   230.0    624\n",
      "난자 저장용               1.000000  0.000000    136.0     0.0    136\n",
      "배아 저장용               1.000000  0.000000    142.0     0.0    142\n",
      "배아 저장용, 현재 시술용       0.400000  0.600000      2.0     3.0      5\n",
      "현재 시술용               0.740442  0.259558  24365.0  8541.0  32906\n"
     ]
    }
   ],
   "source": [
    "value_counts_ratio(train, '배아_생성_주요_이유')"
   ]
  },
  {
   "cell_type": "code",
   "execution_count": 65,
   "metadata": {},
   "outputs": [
    {
     "data": {
      "text/plain": [
       "현재 시술용                 11373\n",
       "기증용, 현재 시술용              204\n",
       "배아 저장용                    52\n",
       "난자 저장용                    36\n",
       "기증용                       30\n",
       "기증용, 난자 저장용                3\n",
       "배아 저장용, 현재 시술용             2\n",
       "기증용, 배아 저장용, 현재 시술용        1\n",
       "Name: 배아_생성_주요_이유, dtype: int64"
      ]
     },
     "execution_count": 65,
     "metadata": {},
     "output_type": "execute_result"
    }
   ],
   "source": [
    "test['배아_생성_주요_이유'].value_counts()"
   ]
  },
  {
   "cell_type": "code",
   "execution_count": 66,
   "metadata": {},
   "outputs": [
    {
     "name": "stdout",
     "output_type": "stream",
     "text": [
      "결측값 개수: 893\n",
      "결측값 개수: 0\n"
     ]
    }
   ],
   "source": [
    "print(\"결측값 개수:\", train['배아_생성_주요_이유'].isnull().sum())\n",
    "\n",
    "train['배아_생성_주요_이유'].fillna('unknown', inplace=True)\n",
    "test['배아_생성_주요_이유'].fillna('unknown', inplace=True)\n",
    "\n",
    "print(\"결측값 개수:\", train['배아_생성_주요_이유'].isnull().sum())"
   ]
  },
  {
   "cell_type": "code",
   "execution_count": 67,
   "metadata": {},
   "outputs": [],
   "source": [
    "# '현재 시술용' 키워드가 포함된 경우 1, 그렇지 않은 경우 0을 부여하는 더미 변수 생성\n",
    "train['배아_생성_주요_이유_현재시술용'] = train['배아_생성_주요_이유'].str.contains('현재 시술용').astype(int)\n",
    "test['배아_생성_주요_이유_현재시술용'] = test['배아_생성_주요_이유'].str.contains('현재 시술용').astype(int)"
   ]
  },
  {
   "cell_type": "code",
   "execution_count": 68,
   "metadata": {},
   "outputs": [],
   "source": [
    "# '기증용' 키워드가 포함된 경우 1, 그렇지 않은 경우 0을 부여하는 더미 변수 생성\n",
    "train['배아_생성_주요_이유_기증용'] = train['배아_생성_주요_이유'].str.contains('기증용').astype(int)\n",
    "test['배아_생성_주요_이유_기증용'] = test['배아_생성_주요_이유'].str.contains('기증용').astype(int)"
   ]
  },
  {
   "cell_type": "code",
   "execution_count": 69,
   "metadata": {},
   "outputs": [],
   "source": [
    "# '난자 저장용' 키워드가 포함된 경우 1, 그렇지 않은 경우 0을 부여하는 더미 변수 생성\n",
    "train['배아_생성_주요_이유_난자저장용'] = train['배아_생성_주요_이유'].str.contains('난자 저장용').astype(int)\n",
    "test['배아_생성_주요_이유_난자저장용'] = test['배아_생성_주요_이유'].str.contains('난자 저장용').astype(int)"
   ]
  },
  {
   "cell_type": "code",
   "execution_count": 70,
   "metadata": {},
   "outputs": [],
   "source": [
    "# '배아 저장용' 키워드가 포함된 경우 1, 그렇지 않은 경우 0을 부여하는 더미 변수 생성\n",
    "train['배아_생성_주요_이유_배아저장용'] = train['배아_생성_주요_이유'].str.contains('배아 저장용').astype(int)\n",
    "test['배아_생성_주요_이유_배아저장용'] = test['배아_생성_주요_이유'].str.contains('배아 저장용').astype(int)"
   ]
  },
  {
   "cell_type": "code",
   "execution_count": 71,
   "metadata": {},
   "outputs": [
    {
     "name": "stdout",
     "output_type": "stream",
     "text": [
      "Grouped by: 배아_생성_주요_이유_현재시술용, 배아_생성_주요_이유_기증용, 배아_생성_주요_이유_난자저장용, 배아_생성_주요_이유_배아저장용\n",
      "\n",
      "          group  '임신_성공_여부' count     ratio  Total\n",
      "0  (0, 0, 0, 0)               145  0.162374    893\n",
      "1  (0, 0, 0, 1)                 0  0.000000    142\n",
      "2  (0, 0, 1, 0)                 0  0.000000    136\n",
      "3  (0, 1, 0, 0)                 0  0.000000    113\n",
      "4  (0, 1, 0, 1)                 0  0.000000      4\n",
      "5  (0, 1, 1, 0)                 0  0.000000      3\n",
      "6  (1, 0, 0, 0)              8541  0.259558  32906\n",
      "7  (1, 0, 0, 1)                 3  0.600000      5\n",
      "8  (1, 1, 0, 0)               230  0.368590    624\n",
      "9  (1, 1, 0, 1)                 2  0.500000      4\n"
     ]
    }
   ],
   "source": [
    "summarize_group(train, [\n",
    "    # '배아_생성_주요_이유',\n",
    "    '배아_생성_주요_이유_현재시술용',\n",
    "    '배아_생성_주요_이유_기증용',\n",
    "    '배아_생성_주요_이유_난자저장용',\n",
    "    '배아_생성_주요_이유_배아저장용'\n",
    "                        ])"
   ]
  },
  {
   "cell_type": "code",
   "execution_count": 72,
   "metadata": {},
   "outputs": [
    {
     "name": "stdout",
     "output_type": "stream",
     "text": [
      "\n",
      "배아_생성_주요_이유_현재시술용별 임신_성공_여부 비율 및 갯수\n",
      "\n",
      "                 0         1      0     1  Total\n",
      "variable                                        \n",
      "0         0.887684  0.112316   1146   145   1291\n",
      "1         0.738334  0.261666  24763  8776  33539\n"
     ]
    }
   ],
   "source": [
    "value_counts_ratio(train, '배아_생성_주요_이유_현재시술용')"
   ]
  },
  {
   "cell_type": "code",
   "execution_count": 73,
   "metadata": {},
   "outputs": [],
   "source": [
    "# # 변수 제거\n",
    "# train = train.drop(columns=['배아_생성_주요_이유'])\n",
    "# test = test.drop(columns=['배아_생성_주요_이유'])"
   ]
  },
  {
   "cell_type": "markdown",
   "metadata": {},
   "source": [
    "### 29. 총_시술_횟수"
   ]
  },
  {
   "cell_type": "markdown",
   "metadata": {},
   "source": [
    "IVF 및 DI 포함한 전체 시술 횟수"
   ]
  },
  {
   "cell_type": "code",
   "execution_count": 74,
   "metadata": {},
   "outputs": [
    {
     "name": "stdout",
     "output_type": "stream",
     "text": [
      "\n",
      "총_시술_횟수별 임신_성공_여부 비율 및 갯수\n",
      "\n",
      "                 0         1     0     1  Total\n",
      "variable                                       \n",
      "0회        0.697702  0.302298  8865  3841  12706\n",
      "1회        0.757974  0.242026  6226  1988   8214\n",
      "2회        0.762123  0.237877  4322  1349   5671\n",
      "3회        0.774260  0.225740  2617   763   3380\n",
      "4회        0.781874  0.218126  1527   426   1953\n",
      "5회        0.794145  0.205855   868   225   1093\n",
      "6회 이상     0.818533  0.181467  1484   329   1813\n"
     ]
    }
   ],
   "source": [
    "value_counts_ratio(train, '총_시술_횟수')"
   ]
  },
  {
   "cell_type": "code",
   "execution_count": 75,
   "metadata": {},
   "outputs": [
    {
     "data": {
      "text/plain": [
       "0회       4431\n",
       "1회       2793\n",
       "2회       1989\n",
       "3회       1183\n",
       "6회 이상     617\n",
       "4회        601\n",
       "5회        405\n",
       "Name: 총_시술_횟수, dtype: int64"
      ]
     },
     "execution_count": 75,
     "metadata": {},
     "output_type": "execute_result"
    }
   ],
   "source": [
    "test['총_시술_횟수'].value_counts()"
   ]
  },
  {
   "cell_type": "code",
   "execution_count": 76,
   "metadata": {},
   "outputs": [
    {
     "name": "stdout",
     "output_type": "stream",
     "text": [
      "\n",
      "총_시술_횟수별 임신_성공_여부 비율 및 갯수\n",
      "\n",
      "                 0         1     0     1  Total\n",
      "variable                                       \n",
      "0         0.697702  0.302298  8865  3841  12706\n",
      "1         0.757974  0.242026  6226  1988   8214\n",
      "2         0.762123  0.237877  4322  1349   5671\n",
      "3         0.774260  0.225740  2617   763   3380\n",
      "4         0.781874  0.218126  1527   426   1953\n",
      "5         0.794145  0.205855   868   225   1093\n",
      "6         0.818533  0.181467  1484   329   1813\n"
     ]
    }
   ],
   "source": [
    "# 숫자 매핑\n",
    "mapping = {\n",
    "    '0회': 0,\n",
    "    '1회': 1,\n",
    "    '2회': 2,\n",
    "    '3회': 3,\n",
    "    '4회': 4,\n",
    "    '5회': 5,\n",
    "    '6회 이상': 6\n",
    "}\n",
    "\n",
    "# 숫자로 변환\n",
    "train['총_시술_횟수'] = train['총_시술_횟수'].map(mapping)\n",
    "test['총_시술_횟수'] = test['총_시술_횟수'].map(mapping)\n",
    "\n",
    "value_counts_ratio(train, '총_시술_횟수')"
   ]
  },
  {
   "cell_type": "markdown",
   "metadata": {},
   "source": [
    "### 30. 클리닉_내_총_시술_횟수"
   ]
  },
  {
   "cell_type": "markdown",
   "metadata": {},
   "source": [
    "특정 클리닉에서 받은 IVF 및 DI 시술 횟수"
   ]
  },
  {
   "cell_type": "code",
   "execution_count": 77,
   "metadata": {},
   "outputs": [
    {
     "name": "stdout",
     "output_type": "stream",
     "text": [
      "\n",
      "클리닉_내_총_시술_횟수별 임신_성공_여부 비율 및 갯수\n",
      "\n",
      "                 0         1      0     1  Total\n",
      "variable                                        \n",
      "0회        0.708770  0.291230  11436  4699  16135\n",
      "1회        0.761933  0.238067   6481  2025   8506\n",
      "2회        0.768505  0.231495   3748  1129   4877\n",
      "3회        0.792476  0.207524   1959   513   2472\n",
      "4회        0.793495  0.206505   1049   273   1322\n",
      "5회        0.799378  0.200622    514   129    643\n",
      "6회 이상     0.825143  0.174857    722   153    875\n"
     ]
    }
   ],
   "source": [
    "value_counts_ratio(train, '클리닉_내_총_시술_횟수')"
   ]
  },
  {
   "cell_type": "code",
   "execution_count": 78,
   "metadata": {},
   "outputs": [
    {
     "name": "stdout",
     "output_type": "stream",
     "text": [
      "\n",
      "클리닉_내_총_시술_횟수별 임신_성공_여부 비율 및 갯수\n",
      "\n",
      "                 0         1      0     1  Total\n",
      "variable                                        \n",
      "0         0.708770  0.291230  11436  4699  16135\n",
      "1         0.761933  0.238067   6481  2025   8506\n",
      "2         0.768505  0.231495   3748  1129   4877\n",
      "3         0.792476  0.207524   1959   513   2472\n",
      "4         0.793495  0.206505   1049   273   1322\n",
      "5         0.799378  0.200622    514   129    643\n",
      "6         0.825143  0.174857    722   153    875\n"
     ]
    }
   ],
   "source": [
    "# 숫자 매핑\n",
    "mapping = {\n",
    "    '0회': 0,\n",
    "    '1회': 1,\n",
    "    '2회': 2,\n",
    "    '3회': 3,\n",
    "    '4회': 4,\n",
    "    '5회': 5,\n",
    "    '6회 이상': 6\n",
    "}\n",
    "\n",
    "# 숫자로 변환\n",
    "train['클리닉_내_총_시술_횟수'] = train['클리닉_내_총_시술_횟수'].map(mapping)\n",
    "test['클리닉_내_총_시술_횟수'] = test['클리닉_내_총_시술_횟수'].map(mapping)\n",
    "\n",
    "value_counts_ratio(train, '클리닉_내_총_시술_횟수')"
   ]
  },
  {
   "cell_type": "markdown",
   "metadata": {},
   "source": [
    "### 31. IVF_시술_횟수"
   ]
  },
  {
   "cell_type": "markdown",
   "metadata": {},
   "source": [
    "이전에 수행된 IVF 시술 횟수"
   ]
  },
  {
   "cell_type": "code",
   "execution_count": 79,
   "metadata": {},
   "outputs": [
    {
     "name": "stdout",
     "output_type": "stream",
     "text": [
      "\n",
      "IVF_시술_횟수별 임신_성공_여부 비율 및 갯수\n",
      "\n",
      "                 0         1     0     1  Total\n",
      "variable                                       \n",
      "0회        0.704103  0.295897  9611  4039  13650\n",
      "1회        0.757623  0.242377  6336  2027   8363\n",
      "2회        0.759226  0.240774  4279  1357   5636\n",
      "3회        0.777847  0.222153  2514   718   3232\n",
      "4회        0.782559  0.217441  1382   384   1766\n",
      "5회        0.805763  0.194237   755   182    937\n",
      "6회 이상     0.828250  0.171750  1032   214   1246\n"
     ]
    }
   ],
   "source": [
    "value_counts_ratio(train, 'IVF_시술_횟수')"
   ]
  },
  {
   "cell_type": "code",
   "execution_count": 80,
   "metadata": {},
   "outputs": [
    {
     "name": "stdout",
     "output_type": "stream",
     "text": [
      "\n",
      "IVF_시술_횟수별 임신_성공_여부 비율 및 갯수\n",
      "\n",
      "                 0         1     0     1  Total\n",
      "variable                                       \n",
      "0         0.704103  0.295897  9611  4039  13650\n",
      "1         0.757623  0.242377  6336  2027   8363\n",
      "2         0.759226  0.240774  4279  1357   5636\n",
      "3         0.777847  0.222153  2514   718   3232\n",
      "4         0.782559  0.217441  1382   384   1766\n",
      "5         0.805763  0.194237   755   182    937\n",
      "6         0.828250  0.171750  1032   214   1246\n"
     ]
    }
   ],
   "source": [
    "# 숫자 매핑\n",
    "mapping = {\n",
    "    '0회': 0,\n",
    "    '1회': 1,\n",
    "    '2회': 2,\n",
    "    '3회': 3,\n",
    "    '4회': 4,\n",
    "    '5회': 5,\n",
    "    '6회 이상': 6\n",
    "}\n",
    "\n",
    "# 숫자로 변환\n",
    "train['IVF_시술_횟수'] = train['IVF_시술_횟수'].map(mapping)\n",
    "test['IVF_시술_횟수'] = test['IVF_시술_횟수'].map(mapping)\n",
    "\n",
    "value_counts_ratio(train, 'IVF_시술_횟수')"
   ]
  },
  {
   "cell_type": "markdown",
   "metadata": {},
   "source": [
    "### 32. DI_시술_횟수"
   ]
  },
  {
   "cell_type": "markdown",
   "metadata": {},
   "source": [
    "이전에 수행된 DI 시술 횟수"
   ]
  },
  {
   "cell_type": "code",
   "execution_count": 81,
   "metadata": {},
   "outputs": [
    {
     "name": "stdout",
     "output_type": "stream",
     "text": [
      "\n",
      "DI_시술_횟수별 임신_성공_여부 비율 및 갯수\n",
      "\n",
      "                 0         1      0     1  Total\n",
      "variable                                        \n",
      "0회        0.741122  0.258878  24437  8536  32973\n",
      "1회        0.822823  0.177177    274    59    333\n",
      "2회        0.810026  0.189974    307    72    379\n",
      "3회        0.762295  0.237705    279    87    366\n",
      "4회        0.757322  0.242678    181    58    239\n",
      "5회        0.813953  0.186047    140    32    172\n",
      "6회 이상     0.790761  0.209239    291    77    368\n"
     ]
    }
   ],
   "source": [
    "value_counts_ratio(train, 'DI_시술_횟수')"
   ]
  },
  {
   "cell_type": "code",
   "execution_count": 82,
   "metadata": {},
   "outputs": [
    {
     "name": "stdout",
     "output_type": "stream",
     "text": [
      "\n",
      "DI_시술_횟수별 임신_성공_여부 비율 및 갯수\n",
      "\n",
      "                 0         1      0     1  Total\n",
      "variable                                        \n",
      "0         0.741122  0.258878  24437  8536  32973\n",
      "1         0.822823  0.177177    274    59    333\n",
      "2         0.810026  0.189974    307    72    379\n",
      "3         0.762295  0.237705    279    87    366\n",
      "4         0.757322  0.242678    181    58    239\n",
      "5         0.813953  0.186047    140    32    172\n",
      "6         0.790761  0.209239    291    77    368\n"
     ]
    }
   ],
   "source": [
    "# 숫자 매핑\n",
    "mapping = {\n",
    "    '0회': 0,\n",
    "    '1회': 1,\n",
    "    '2회': 2,\n",
    "    '3회': 3,\n",
    "    '4회': 4,\n",
    "    '5회': 5,\n",
    "    '6회 이상': 6\n",
    "}\n",
    "\n",
    "# 숫자로 변환\n",
    "train['DI_시술_횟수'] = train['DI_시술_횟수'].map(mapping)\n",
    "test['DI_시술_횟수'] = test['DI_시술_횟수'].map(mapping)\n",
    "\n",
    "value_counts_ratio(train, 'DI_시술_횟수')"
   ]
  },
  {
   "cell_type": "markdown",
   "metadata": {},
   "source": [
    "### 33. 총_임신_횟수"
   ]
  },
  {
   "cell_type": "markdown",
   "metadata": {},
   "source": [
    "IVF 및 DI 포함한 총 임신 횟수"
   ]
  },
  {
   "cell_type": "code",
   "execution_count": 83,
   "metadata": {},
   "outputs": [
    {
     "name": "stdout",
     "output_type": "stream",
     "text": [
      "\n",
      "총_임신_횟수별 임신_성공_여부 비율 및 갯수\n",
      "\n",
      "                 0         1        0       1  Total\n",
      "variable                                            \n",
      "0회        0.743256  0.256744  20774.0  7176.0  27950\n",
      "1회        0.744818  0.255182   4492.0  1539.0   6031\n",
      "2회        0.750323  0.249677    580.0   193.0    773\n",
      "3회        0.820896  0.179104     55.0    12.0     67\n",
      "4회        0.875000  0.125000      7.0     1.0      8\n",
      "5회        1.000000  0.000000      1.0     0.0      1\n"
     ]
    }
   ],
   "source": [
    "value_counts_ratio(train, '총_임신_횟수')"
   ]
  },
  {
   "cell_type": "code",
   "execution_count": 84,
   "metadata": {},
   "outputs": [
    {
     "name": "stdout",
     "output_type": "stream",
     "text": [
      "\n",
      "총_임신_횟수별 임신_성공_여부 비율 및 갯수\n",
      "\n",
      "                 0         1        0       1  Total\n",
      "variable                                            \n",
      "0         0.743256  0.256744  20774.0  7176.0  27950\n",
      "1         0.744818  0.255182   4492.0  1539.0   6031\n",
      "2         0.750323  0.249677    580.0   193.0    773\n",
      "3         0.820896  0.179104     55.0    12.0     67\n",
      "4         0.875000  0.125000      7.0     1.0      8\n",
      "5         1.000000  0.000000      1.0     0.0      1\n"
     ]
    }
   ],
   "source": [
    "# 숫자 매핑\n",
    "mapping = {\n",
    "    '0회': 0,\n",
    "    '1회': 1,\n",
    "    '2회': 2,\n",
    "    '3회': 3,\n",
    "    '4회': 4,\n",
    "    '5회': 5,\n",
    "    '6회 이상': 6\n",
    "}\n",
    "\n",
    "# 숫자로 변환\n",
    "train['총_임신_횟수'] = train['총_임신_횟수'].map(mapping)\n",
    "test['총_임신_횟수'] = test['총_임신_횟수'].map(mapping)\n",
    "\n",
    "value_counts_ratio(train, '총_임신_횟수')"
   ]
  },
  {
   "cell_type": "markdown",
   "metadata": {},
   "source": [
    "### 34. IVF_임신_횟수"
   ]
  },
  {
   "cell_type": "markdown",
   "metadata": {},
   "source": [
    "IVF 시술로 인한 임신 횟수"
   ]
  },
  {
   "cell_type": "code",
   "execution_count": 85,
   "metadata": {},
   "outputs": [
    {
     "name": "stdout",
     "output_type": "stream",
     "text": [
      "\n",
      "IVF_임신_횟수별 임신_성공_여부 비율 및 갯수\n",
      "\n",
      "                 0         1        0       1  Total\n",
      "variable                                            \n",
      "0회        0.744017  0.255983  21142.0  7274.0  28416\n",
      "1회        0.740773  0.259227   4195.0  1468.0   5663\n",
      "2회        0.755132  0.244868    515.0   167.0    682\n",
      "3회        0.816667  0.183333     49.0    11.0     60\n",
      "4회        0.875000  0.125000      7.0     1.0      8\n",
      "5회        1.000000  0.000000      1.0     0.0      1\n"
     ]
    }
   ],
   "source": [
    "value_counts_ratio(train, 'IVF_임신_횟수')"
   ]
  },
  {
   "cell_type": "code",
   "execution_count": 86,
   "metadata": {},
   "outputs": [
    {
     "name": "stdout",
     "output_type": "stream",
     "text": [
      "\n",
      "IVF_임신_횟수별 임신_성공_여부 비율 및 갯수\n",
      "\n",
      "                 0         1        0       1  Total\n",
      "variable                                            \n",
      "0         0.744017  0.255983  21142.0  7274.0  28416\n",
      "1         0.740773  0.259227   4195.0  1468.0   5663\n",
      "2         0.755132  0.244868    515.0   167.0    682\n",
      "3         0.816667  0.183333     49.0    11.0     60\n",
      "4         0.875000  0.125000      7.0     1.0      8\n",
      "5         1.000000  0.000000      1.0     0.0      1\n"
     ]
    }
   ],
   "source": [
    "# 숫자 매핑\n",
    "mapping = {\n",
    "    '0회': 0,\n",
    "    '1회': 1,\n",
    "    '2회': 2,\n",
    "    '3회': 3,\n",
    "    '4회': 4,\n",
    "    '5회': 5,\n",
    "    '6회 이상': 6\n",
    "}\n",
    "\n",
    "# 숫자로 변환\n",
    "train['IVF_임신_횟수'] = train['IVF_임신_횟수'].map(mapping)\n",
    "test['IVF_임신_횟수'] = test['IVF_임신_횟수'].map(mapping)\n",
    "\n",
    "value_counts_ratio(train, 'IVF_임신_횟수')"
   ]
  },
  {
   "cell_type": "markdown",
   "metadata": {},
   "source": [
    "### 35. DI_임신_횟수"
   ]
  },
  {
   "cell_type": "markdown",
   "metadata": {},
   "source": [
    "DI 시술로 인한 임신 횟수"
   ]
  },
  {
   "cell_type": "code",
   "execution_count": 87,
   "metadata": {},
   "outputs": [
    {
     "name": "stdout",
     "output_type": "stream",
     "text": [
      "\n",
      "DI_임신_횟수별 임신_성공_여부 비율 및 갯수\n",
      "\n",
      "                 0         1      0     1  Total\n",
      "variable                                        \n",
      "0회        0.743266  0.256734  25526  8817  34343\n",
      "1회        0.796069  0.203931    324    83    407\n",
      "2회        0.736842  0.263158     56    20     76\n",
      "3회        0.750000  0.250000      3     1      4\n"
     ]
    }
   ],
   "source": [
    "value_counts_ratio(train, 'DI_임신_횟수')"
   ]
  },
  {
   "cell_type": "code",
   "execution_count": 88,
   "metadata": {},
   "outputs": [
    {
     "name": "stdout",
     "output_type": "stream",
     "text": [
      "\n",
      "DI_임신_횟수별 임신_성공_여부 비율 및 갯수\n",
      "\n",
      "                 0         1      0     1  Total\n",
      "variable                                        \n",
      "0         0.743266  0.256734  25526  8817  34343\n",
      "1         0.796069  0.203931    324    83    407\n",
      "2         0.736842  0.263158     56    20     76\n",
      "3         0.750000  0.250000      3     1      4\n"
     ]
    }
   ],
   "source": [
    "# 숫자 매핑\n",
    "mapping = {\n",
    "    '0회': 0,\n",
    "    '1회': 1,\n",
    "    '2회': 2,\n",
    "    '3회': 3,\n",
    "    '4회': 4,\n",
    "    '5회': 5\n",
    "}\n",
    "\n",
    "# 숫자로 변환\n",
    "train['DI_임신_횟수'] = train['DI_임신_횟수'].map(mapping)\n",
    "test['DI_임신_횟수'] = test['DI_임신_횟수'].map(mapping)\n",
    "\n",
    "value_counts_ratio(train, 'DI_임신_횟수')"
   ]
  },
  {
   "cell_type": "markdown",
   "metadata": {},
   "source": [
    "### 36. 총_출산_횟수"
   ]
  },
  {
   "cell_type": "markdown",
   "metadata": {},
   "source": [
    "IVF 및 DI 시술로 출산한 횟수"
   ]
  },
  {
   "cell_type": "code",
   "execution_count": 89,
   "metadata": {},
   "outputs": [
    {
     "name": "stdout",
     "output_type": "stream",
     "text": [
      "\n",
      "총_출산_횟수별 임신_성공_여부 비율 및 갯수\n",
      "\n",
      "                 0         1        0       1  Total\n",
      "variable                                            \n",
      "0회        0.744295  0.255705  22145.0  7608.0  29753\n",
      "1회        0.740346  0.259654   3547.0  1244.0   4791\n",
      "2회        0.750943  0.249057    199.0    66.0    265\n",
      "3회        0.842105  0.157895     16.0     3.0     19\n",
      "4회        1.000000  0.000000      2.0     0.0      2\n"
     ]
    }
   ],
   "source": [
    "value_counts_ratio(train, '총_출산_횟수')"
   ]
  },
  {
   "cell_type": "code",
   "execution_count": 90,
   "metadata": {},
   "outputs": [
    {
     "name": "stdout",
     "output_type": "stream",
     "text": [
      "\n",
      "총_출산_횟수별 임신_성공_여부 비율 및 갯수\n",
      "\n",
      "                 0         1        0       1  Total\n",
      "variable                                            \n",
      "0         0.744295  0.255705  22145.0  7608.0  29753\n",
      "1         0.740346  0.259654   3547.0  1244.0   4791\n",
      "2         0.750943  0.249057    199.0    66.0    265\n",
      "3         0.842105  0.157895     16.0     3.0     19\n",
      "4         1.000000  0.000000      2.0     0.0      2\n"
     ]
    }
   ],
   "source": [
    "# 숫자 매핑\n",
    "mapping = {\n",
    "    '0회': 0,\n",
    "    '1회': 1,\n",
    "    '2회': 2,\n",
    "    '3회': 3,\n",
    "    '4회': 4,\n",
    "    '5회': 5,\n",
    "    '6회 이상': 6\n",
    "}\n",
    "\n",
    "# 숫자로 변환\n",
    "train['총_출산_횟수'] = train['총_출산_횟수'].map(mapping)\n",
    "test['총_출산_횟수'] = test['총_출산_횟수'].map(mapping)\n",
    "\n",
    "value_counts_ratio(train, '총_출산_횟수')"
   ]
  },
  {
   "cell_type": "markdown",
   "metadata": {},
   "source": [
    "### 37. IVF_출산_횟수"
   ]
  },
  {
   "cell_type": "markdown",
   "metadata": {},
   "source": [
    "IVF 시술로 출산한 횟수"
   ]
  },
  {
   "cell_type": "code",
   "execution_count": 91,
   "metadata": {},
   "outputs": [
    {
     "name": "stdout",
     "output_type": "stream",
     "text": [
      "\n",
      "IVF_출산_횟수별 임신_성공_여부 비율 및 갯수\n",
      "\n",
      "                 0         1        0       1  Total\n",
      "variable                                            \n",
      "0회        0.744783  0.255217  22450.0  7693.0  30143\n",
      "1회        0.737279  0.262721   3289.0  1172.0   4461\n",
      "2회        0.742718  0.257282    153.0    53.0    206\n",
      "3회        0.833333  0.166667     15.0     3.0     18\n",
      "4회        1.000000  0.000000      2.0     0.0      2\n"
     ]
    }
   ],
   "source": [
    "value_counts_ratio(train, 'IVF_출산_횟수')"
   ]
  },
  {
   "cell_type": "code",
   "execution_count": 92,
   "metadata": {},
   "outputs": [
    {
     "name": "stdout",
     "output_type": "stream",
     "text": [
      "\n",
      "IVF_출산_횟수별 임신_성공_여부 비율 및 갯수\n",
      "\n",
      "                 0         1        0       1  Total\n",
      "variable                                            \n",
      "0         0.744783  0.255217  22450.0  7693.0  30143\n",
      "1         0.737279  0.262721   3289.0  1172.0   4461\n",
      "2         0.742718  0.257282    153.0    53.0    206\n",
      "3         0.833333  0.166667     15.0     3.0     18\n",
      "4         1.000000  0.000000      2.0     0.0      2\n"
     ]
    }
   ],
   "source": [
    "# 숫자 매핑\n",
    "mapping = {\n",
    "    '0회': 0,\n",
    "    '1회': 1,\n",
    "    '2회': 2,\n",
    "    '3회': 3,\n",
    "    '4회': 4,\n",
    "    '5회': 5\n",
    "}\n",
    "\n",
    "# 숫자로 변환\n",
    "train['IVF_출산_횟수'] = train['IVF_출산_횟수'].map(mapping)\n",
    "test['IVF_출산_횟수'] = test['IVF_출산_횟수'].map(mapping)\n",
    "\n",
    "value_counts_ratio(train, 'IVF_출산_횟수')"
   ]
  },
  {
   "cell_type": "code",
   "execution_count": 93,
   "metadata": {},
   "outputs": [
    {
     "data": {
      "text/plain": [
       "0    10328\n",
       "1     1612\n",
       "2       74\n",
       "3        3\n",
       "4        2\n",
       "Name: IVF_출산_횟수, dtype: int64"
      ]
     },
     "execution_count": 93,
     "metadata": {},
     "output_type": "execute_result"
    }
   ],
   "source": [
    "test['IVF_출산_횟수'].value_counts()"
   ]
  },
  {
   "cell_type": "markdown",
   "metadata": {},
   "source": [
    "### 38. DI_출산_횟수"
   ]
  },
  {
   "cell_type": "markdown",
   "metadata": {},
   "source": [
    "DI 시술로 출산한 횟수"
   ]
  },
  {
   "cell_type": "code",
   "execution_count": 94,
   "metadata": {},
   "outputs": [
    {
     "name": "stdout",
     "output_type": "stream",
     "text": [
      "\n",
      "DI_출산_횟수별 임신_성공_여부 비율 및 갯수\n",
      "\n",
      "                 0         1        0       1  Total\n",
      "variable                                            \n",
      "0회        0.743451  0.256549  25600.0  8834.0  34434\n",
      "1회        0.777778  0.222222    266.0    76.0    342\n",
      "2회        0.792453  0.207547     42.0    11.0     53\n",
      "3회        1.000000  0.000000      1.0     0.0      1\n"
     ]
    }
   ],
   "source": [
    "value_counts_ratio(train, 'DI_출산_횟수')"
   ]
  },
  {
   "cell_type": "code",
   "execution_count": 95,
   "metadata": {},
   "outputs": [
    {
     "name": "stdout",
     "output_type": "stream",
     "text": [
      "\n",
      "DI_출산_횟수별 임신_성공_여부 비율 및 갯수\n",
      "\n",
      "                 0         1        0       1  Total\n",
      "variable                                            \n",
      "0         0.743451  0.256549  25600.0  8834.0  34434\n",
      "1         0.777778  0.222222    266.0    76.0    342\n",
      "2         0.792453  0.207547     42.0    11.0     53\n",
      "3         1.000000  0.000000      1.0     0.0      1\n"
     ]
    }
   ],
   "source": [
    "# 숫자 매핑\n",
    "mapping = {\n",
    "    '0회': 0,\n",
    "    '1회': 1,\n",
    "    '2회': 2,\n",
    "    '3회': 3,\n",
    "    '4회': 4,\n",
    "    '5회': 5\n",
    "}\n",
    "\n",
    "# 숫자로 변환\n",
    "train['DI_출산_횟수'] = train['DI_출산_횟수'].map(mapping)\n",
    "test['DI_출산_횟수'] = test['DI_출산_횟수'].map(mapping)\n",
    "\n",
    "value_counts_ratio(train, 'DI_출산_횟수')"
   ]
  },
  {
   "cell_type": "code",
   "execution_count": 96,
   "metadata": {},
   "outputs": [
    {
     "data": {
      "text/plain": [
       "0    11893\n",
       "1      113\n",
       "2       12\n",
       "5        1\n",
       "Name: DI_출산_횟수, dtype: int64"
      ]
     },
     "execution_count": 96,
     "metadata": {},
     "output_type": "execute_result"
    }
   ],
   "source": [
    "test['DI_출산_횟수'].value_counts()"
   ]
  },
  {
   "cell_type": "code",
   "execution_count": 97,
   "metadata": {},
   "outputs": [],
   "source": [
    "# # 모든 행과 열을 다 보이게 설정\n",
    "# pd.set_option('display.max_rows', None)\n",
    "# pd.set_option('display.max_columns', None)"
   ]
  },
  {
   "cell_type": "code",
   "execution_count": 98,
   "metadata": {},
   "outputs": [],
   "source": [
    "# summarize_group(train, ['IVF_시술_횟수', 'IVF_임신_횟수', 'IVF_출산_횟수'])"
   ]
  },
  {
   "cell_type": "code",
   "execution_count": 99,
   "metadata": {},
   "outputs": [],
   "source": [
    "# 주요 비율 계산 (train 데이터프레임)\n",
    "train['IVF_임신_시술_비율'] = np.where(train['IVF_시술_횟수'] > 0, train['IVF_임신_횟수'] / train['IVF_시술_횟수'], 0)\n",
    "train['IVF_출산_임신_비율'] = np.where(train['IVF_임신_횟수'] > 0, train['IVF_출산_횟수'] / train['IVF_임신_횟수'], 0)\n",
    "\n",
    "train['DI_임신_시술_비율'] = np.where(train['DI_시술_횟수'] > 0, train['DI_임신_횟수'] / train['DI_시술_횟수'], 0)\n",
    "train['DI_출산_임신_비율'] = np.where(train['DI_임신_횟수'] > 0, train['DI_출산_횟수'] / train['DI_임신_횟수'], 0)\n",
    "\n",
    "# 성공률 계산\n",
    "train['임신_성공률'] = np.where(train['총_시술_횟수'] > 0, train['총_임신_횟수'] / train['총_시술_횟수'], 0)\n",
    "train['출산_성공률'] = np.where(train['총_임신_횟수'] > 0, train['총_출산_횟수'] / train['총_임신_횟수'], 0)\n",
    "\n",
    "# 주요 비율 계산 (test 데이터프레임)\n",
    "test['IVF_임신_시술_비율'] = np.where(test['IVF_시술_횟수'] > 0, test['IVF_임신_횟수'] / test['IVF_시술_횟수'], 0)\n",
    "test['IVF_출산_임신_비율'] = np.where(test['IVF_임신_횟수'] > 0, test['IVF_출산_횟수'] / test['IVF_임신_횟수'], 0)\n",
    "\n",
    "test['DI_임신_시술_비율'] = np.where(test['DI_시술_횟수'] > 0, test['DI_임신_횟수'] / test['DI_시술_횟수'], 0)\n",
    "test['DI_출산_임신_비율'] = np.where(test['DI_임신_횟수'] > 0, test['DI_출산_횟수'] / test['DI_임신_횟수'], 0)\n",
    "\n",
    "# 성공률 계산\n",
    "test['임신_성공률'] = np.where(test['총_시술_횟수'] > 0, test['총_임신_횟수'] / test['총_시술_횟수'], 0)\n",
    "test['출산_성공률'] = np.where(test['총_임신_횟수'] > 0, test['총_출산_횟수'] / test['총_임신_횟수'], 0)"
   ]
  },
  {
   "cell_type": "markdown",
   "metadata": {},
   "source": [
    "### 39. 총_생성_배아_수"
   ]
  },
  {
   "cell_type": "markdown",
   "metadata": {},
   "source": [
    "해당 시술에서 생성된 배아의 총 개수"
   ]
  },
  {
   "cell_type": "code",
   "execution_count": 100,
   "metadata": {},
   "outputs": [
    {
     "name": "stdout",
     "output_type": "stream",
     "text": [
      "\n",
      "총_생성_배아_수별 임신_성공_여부 비율 및 갯수\n",
      "\n",
      "                 0         1       0       1  Total\n",
      "variable                                           \n",
      "0.0       0.859304  0.140696  6248.0  1023.0   7271\n",
      "1.0       0.913957  0.086043  1827.0   172.0   1999\n",
      "2.0       0.803642  0.196358  2030.0   496.0   2526\n",
      "3.0       0.760383  0.239617  2142.0   675.0   2817\n",
      "4.0       0.729820  0.270180  2188.0   810.0   2998\n",
      "5.0       0.692716  0.307284  1959.0   869.0   2828\n",
      "6.0       0.670139  0.329861  1737.0   855.0   2592\n",
      "7.0       0.670799  0.329201  1461.0   717.0   2178\n",
      "8.0       0.649921  0.350079  1229.0   662.0   1891\n",
      "9.0       0.634971  0.365029   995.0   572.0   1567\n",
      "10.0      0.622474  0.377526   770.0   467.0   1237\n",
      "11.0      0.606405  0.393595   587.0   381.0    968\n",
      "12.0      0.651015  0.348985   513.0   275.0    788\n",
      "13.0      0.621951  0.378049   357.0   217.0    574\n",
      "14.0      0.567308  0.432692   236.0   180.0    416\n",
      "15.0      0.658537  0.341463   216.0   112.0    328\n",
      "16.0      0.601732  0.398268   139.0    92.0    231\n",
      "17.0      0.722543  0.277457   125.0    48.0    173\n",
      "18.0      0.686275  0.313725   105.0    48.0    153\n",
      "19.0      0.693069  0.306931    70.0    31.0    101\n",
      "20.0      0.676056  0.323944    48.0    23.0     71\n",
      "21.0      0.729167  0.270833    35.0    13.0     48\n",
      "22.0      0.829268  0.170732    34.0     7.0     41\n",
      "23.0      0.781250  0.218750    25.0     7.0     32\n",
      "24.0      0.827586  0.172414    24.0     5.0     29\n",
      "25.0      0.714286  0.285714    15.0     6.0     21\n",
      "26.0      0.833333  0.166667    10.0     2.0     12\n",
      "27.0      0.722222  0.277778    13.0     5.0     18\n",
      "28.0      0.800000  0.200000     4.0     1.0      5\n",
      "29.0      0.800000  0.200000     4.0     1.0      5\n",
      "30.0      0.500000  0.500000     2.0     2.0      4\n",
      "31.0      1.000000  0.000000     2.0     0.0      2\n",
      "32.0      1.000000  0.000000     1.0     0.0      1\n",
      "33.0      0.000000  1.000000     0.0     1.0      1\n",
      "34.0      1.000000  0.000000     3.0     0.0      3\n",
      "35.0      1.000000  0.000000     1.0     0.0      1\n",
      "37.0      0.750000  0.250000     3.0     1.0      4\n",
      "38.0      1.000000  0.000000     1.0     0.0      1\n",
      "42.0      1.000000  0.000000     2.0     0.0      2\n"
     ]
    }
   ],
   "source": [
    "value_counts_ratio(train, '총_생성_배아_수')"
   ]
  },
  {
   "cell_type": "markdown",
   "metadata": {},
   "source": [
    "### 40. 미세주입된_난자_수"
   ]
  },
  {
   "cell_type": "markdown",
   "metadata": {},
   "source": [
    "정자 미세주입(ICSI)으로 처리된 난자의 수"
   ]
  },
  {
   "cell_type": "code",
   "execution_count": 101,
   "metadata": {},
   "outputs": [
    {
     "name": "stdout",
     "output_type": "stream",
     "text": [
      "\n",
      "미세주입된_난자_수별 임신_성공_여부 비율 및 갯수\n",
      "\n",
      "                 0         1        0       1  Total\n",
      "variable                                            \n",
      "0.0       0.759604  0.240396  13426.0  4249.0  17675\n",
      "1.0       0.947262  0.052738    467.0    26.0    493\n",
      "2.0       0.895141  0.104859    700.0    82.0    782\n",
      "3.0       0.826471  0.173529    843.0   177.0   1020\n",
      "4.0       0.785388  0.214612   1032.0   282.0   1314\n",
      "5.0       0.741637  0.258363   1042.0   363.0   1405\n",
      "6.0       0.732094  0.267906   1063.0   389.0   1452\n",
      "7.0       0.700980  0.299020   1001.0   427.0   1428\n",
      "8.0       0.706910  0.293090    931.0   386.0   1317\n",
      "9.0       0.675249  0.324751    813.0   391.0   1204\n",
      "10.0      0.662338  0.337662    714.0   364.0   1078\n",
      "11.0      0.654110  0.345890    573.0   303.0    876\n",
      "12.0      0.631579  0.368421    492.0   287.0    779\n",
      "13.0      0.641538  0.358462    417.0   233.0    650\n",
      "14.0      0.644309  0.355691    317.0   175.0    492\n",
      "15.0      0.631944  0.368056    273.0   159.0    432\n",
      "16.0      0.678019  0.321981    219.0   104.0    323\n",
      "17.0      0.692308  0.307692    180.0    80.0    260\n",
      "18.0      0.635071  0.364929    134.0    77.0    211\n",
      "19.0      0.666667  0.333333    108.0    54.0    162\n",
      "20.0      0.692308  0.307692     90.0    40.0    130\n",
      "21.0      0.636364  0.363636     63.0    36.0     99\n",
      "22.0      0.658228  0.341772     52.0    27.0     79\n",
      "23.0      0.650794  0.349206     41.0    22.0     63\n",
      "24.0      0.787234  0.212766     37.0    10.0     47\n",
      "25.0      0.696970  0.303030     23.0    10.0     33\n",
      "26.0      0.807692  0.192308     21.0     5.0     26\n",
      "27.0      0.950000  0.050000     19.0     1.0     20\n",
      "28.0      0.722222  0.277778     13.0     5.0     18\n",
      "29.0      0.785714  0.214286     11.0     3.0     14\n",
      "30.0      0.769231  0.230769     10.0     3.0     13\n",
      "31.0      0.875000  0.125000      7.0     1.0      8\n",
      "32.0      0.750000  0.250000      6.0     2.0      8\n",
      "33.0      0.750000  0.250000      3.0     1.0      4\n",
      "34.0      0.000000  1.000000      0.0     2.0      2\n",
      "35.0      1.000000  0.000000      5.0     0.0      5\n",
      "36.0      1.000000  0.000000      6.0     0.0      6\n",
      "39.0      1.000000  0.000000      3.0     0.0      3\n",
      "42.0      1.000000  0.000000      1.0     0.0      1\n",
      "43.0      1.000000  0.000000      1.0     0.0      1\n",
      "45.0      1.000000  0.000000      2.0     0.0      2\n",
      "46.0      1.000000  0.000000      1.0     0.0      1\n",
      "51.0      1.000000  0.000000      1.0     0.0      1\n"
     ]
    }
   ],
   "source": [
    "value_counts_ratio(train, '미세주입된_난자_수')"
   ]
  },
  {
   "cell_type": "markdown",
   "metadata": {},
   "source": [
    "### 41. 미세주입에서_생성된_배아_수"
   ]
  },
  {
   "cell_type": "markdown",
   "metadata": {},
   "source": [
    "ICSI를 통해 생성된 배아의 수"
   ]
  },
  {
   "cell_type": "code",
   "execution_count": 102,
   "metadata": {},
   "outputs": [
    {
     "name": "stdout",
     "output_type": "stream",
     "text": [
      "\n",
      "미세주입에서_생성된_배아_수별 임신_성공_여부 비율 및 갯수\n",
      "\n",
      "                 0         1        0       1  Total\n",
      "variable                                            \n",
      "0.0       0.766019  0.233981  13927.0  4254.0  18181\n",
      "1.0       0.912226  0.087774   1164.0   112.0   1276\n",
      "2.0       0.805438  0.194562   1333.0   322.0   1655\n",
      "3.0       0.761052  0.238948   1360.0   427.0   1787\n",
      "4.0       0.726753  0.273247   1399.0   526.0   1925\n",
      "5.0       0.682790  0.317210   1214.0   564.0   1778\n",
      "6.0       0.657483  0.342517   1050.0   547.0   1597\n",
      "7.0       0.666667  0.333333    860.0   430.0   1290\n",
      "8.0       0.644403  0.355597    685.0   378.0   1063\n",
      "9.0       0.644883  0.355117    523.0   288.0    811\n",
      "10.0      0.656878  0.343122    425.0   222.0    647\n",
      "11.0      0.585657  0.414343    294.0   208.0    502\n",
      "12.0      0.669951  0.330049    272.0   134.0    406\n",
      "13.0      0.633962  0.366038    168.0    97.0    265\n",
      "14.0      0.538462  0.461538    105.0    90.0    195\n",
      "15.0      0.660000  0.340000     99.0    51.0    150\n",
      "16.0      0.653061  0.346939     64.0    34.0     98\n",
      "17.0      0.666667  0.333333     52.0    26.0     78\n",
      "18.0      0.700000  0.300000     56.0    24.0     80\n",
      "19.0      0.720930  0.279070     31.0    12.0     43\n",
      "20.0      0.620690  0.379310     18.0    11.0     29\n",
      "21.0      0.800000  0.200000     12.0     3.0     15\n",
      "22.0      0.785714  0.214286     11.0     3.0     14\n",
      "23.0      0.727273  0.272727      8.0     3.0     11\n",
      "24.0      0.818182  0.181818      9.0     2.0     11\n",
      "25.0      0.777778  0.222222      7.0     2.0      9\n",
      "26.0      0.500000  0.500000      1.0     1.0      2\n",
      "27.0      0.700000  0.300000      7.0     3.0     10\n",
      "28.0      1.000000  0.000000      1.0     0.0      1\n",
      "29.0      0.500000  0.500000      1.0     1.0      2\n",
      "30.0      0.500000  0.500000      1.0     1.0      2\n",
      "32.0      1.000000  0.000000      1.0     0.0      1\n",
      "34.0      1.000000  0.000000      1.0     0.0      1\n",
      "38.0      1.000000  0.000000      1.0     0.0      1\n",
      "42.0      1.000000  0.000000      1.0     0.0      1\n"
     ]
    }
   ],
   "source": [
    "value_counts_ratio(train, '미세주입에서_생성된_배아_수')"
   ]
  },
  {
   "cell_type": "markdown",
   "metadata": {},
   "source": [
    "### 42. 이식된_배아_수"
   ]
  },
  {
   "cell_type": "markdown",
   "metadata": {},
   "source": [
    "이식된 배아의 총 수"
   ]
  },
  {
   "cell_type": "code",
   "execution_count": 103,
   "metadata": {},
   "outputs": [
    {
     "name": "stdout",
     "output_type": "stream",
     "text": [
      "\n",
      "이식된_배아_수별 임신_성공_여부 비율 및 갯수\n",
      "\n",
      "                 0         1      0     1  Total\n",
      "variable                                        \n",
      "0.0       0.999161  0.000839   3574     3   3577\n",
      "1.0       0.736880  0.263120   7119  2542   9661\n",
      "2.0       0.689282  0.310718  13248  5972  19220\n",
      "3.0       0.824882  0.175118   1220   259   1479\n"
     ]
    }
   ],
   "source": [
    "value_counts_ratio(train, '이식된_배아_수')"
   ]
  },
  {
   "cell_type": "markdown",
   "metadata": {},
   "source": [
    "### 43. 미세주입_배아_이식_수"
   ]
  },
  {
   "cell_type": "markdown",
   "metadata": {},
   "source": [
    "ICSI 배아 중 이식된 배아의 수"
   ]
  },
  {
   "cell_type": "code",
   "execution_count": 104,
   "metadata": {},
   "outputs": [
    {
     "name": "stdout",
     "output_type": "stream",
     "text": [
      "\n",
      "미세주입_배아_이식_수별 임신_성공_여부 비율 및 갯수\n",
      "\n",
      "                 0         1      0     1  Total\n",
      "variable                                        \n",
      "0.0       0.773300  0.226700  14047  4118  18165\n",
      "1.0       0.729969  0.270031   3544  1311   4855\n",
      "2.0       0.683437  0.316563   6928  3209  10137\n",
      "3.0       0.823077  0.176923    642   138    780\n"
     ]
    }
   ],
   "source": [
    "value_counts_ratio(train, '미세주입_배아_이식_수')"
   ]
  },
  {
   "cell_type": "markdown",
   "metadata": {},
   "source": [
    "### 44. 저장된_배아_수"
   ]
  },
  {
   "cell_type": "markdown",
   "metadata": {},
   "source": [
    "환자를 위해 저장된 배아의 수"
   ]
  },
  {
   "cell_type": "code",
   "execution_count": 105,
   "metadata": {},
   "outputs": [
    {
     "name": "stdout",
     "output_type": "stream",
     "text": [
      "\n",
      "저장된_배아_수별 임신_성공_여부 비율 및 갯수\n",
      "\n",
      "                 0         1        0       1  Total\n",
      "variable                                            \n",
      "0.0       0.785121  0.214879  19091.0  5225.0  24316\n",
      "1.0       0.620706  0.379294   1283.0   784.0   2067\n",
      "2.0       0.612245  0.387755   1440.0   912.0   2352\n",
      "3.0       0.607098  0.392902    958.0   620.0   1578\n",
      "4.0       0.586331  0.413669    652.0   460.0   1112\n",
      "5.0       0.596096  0.403904    397.0   269.0    666\n",
      "6.0       0.633065  0.366935    314.0   182.0    496\n",
      "7.0       0.634375  0.365625    203.0   117.0    320\n",
      "8.0       0.593361  0.406639    143.0    98.0    241\n",
      "9.0       0.744681  0.255319    105.0    36.0    141\n",
      "10.0      0.773723  0.226277    106.0    31.0    137\n",
      "11.0      0.797297  0.202703     59.0    15.0     74\n",
      "12.0      0.835821  0.164179     56.0    11.0     67\n",
      "13.0      0.916667  0.083333     55.0     5.0     60\n",
      "14.0      0.937500  0.062500     45.0     3.0     48\n",
      "15.0      0.955556  0.044444     43.0     2.0     45\n",
      "16.0      0.923077  0.076923     36.0     3.0     39\n",
      "17.0      0.937500  0.062500     30.0     2.0     32\n",
      "18.0      1.000000  0.000000     35.0     0.0     35\n",
      "19.0      0.950000  0.050000     19.0     1.0     20\n",
      "20.0      1.000000  0.000000     19.0     0.0     19\n",
      "21.0      1.000000  0.000000     13.0     0.0     13\n",
      "22.0      1.000000  0.000000     12.0     0.0     12\n",
      "23.0      1.000000  0.000000     12.0     0.0     12\n",
      "24.0      1.000000  0.000000     11.0     0.0     11\n",
      "25.0      1.000000  0.000000      4.0     0.0      4\n",
      "26.0      1.000000  0.000000      5.0     0.0      5\n",
      "27.0      1.000000  0.000000      3.0     0.0      3\n",
      "28.0      1.000000  0.000000      1.0     0.0      1\n",
      "29.0      1.000000  0.000000      2.0     0.0      2\n",
      "30.0      1.000000  0.000000      1.0     0.0      1\n",
      "33.0      1.000000  0.000000      1.0     0.0      1\n",
      "34.0      1.000000  0.000000      1.0     0.0      1\n",
      "36.0      1.000000  0.000000      1.0     0.0      1\n",
      "37.0      1.000000  0.000000      2.0     0.0      2\n",
      "38.0      1.000000  0.000000      1.0     0.0      1\n",
      "41.0      1.000000  0.000000      1.0     0.0      1\n",
      "42.0      1.000000  0.000000      1.0     0.0      1\n"
     ]
    }
   ],
   "source": [
    "value_counts_ratio(train, '저장된_배아_수')"
   ]
  },
  {
   "cell_type": "markdown",
   "metadata": {},
   "source": [
    "### 45. 미세주입_후_저장된_배아_수"
   ]
  },
  {
   "cell_type": "markdown",
   "metadata": {},
   "source": [
    "ICSI 처리된 배아 중 저장된 배아의 수"
   ]
  },
  {
   "cell_type": "code",
   "execution_count": 106,
   "metadata": {},
   "outputs": [
    {
     "name": "stdout",
     "output_type": "stream",
     "text": [
      "\n",
      "미세주입_후_저장된_배아_수별 임신_성공_여부 비율 및 갯수\n",
      "\n",
      "                 0         1        0       1  Total\n",
      "variable                                            \n",
      "0.0       0.761930  0.238070  21891.0  6840.0  28731\n",
      "1.0       0.625632  0.374368    742.0   444.0   1186\n",
      "2.0       0.589955  0.410045    787.0   547.0   1334\n",
      "3.0       0.611047  0.388953    531.0   338.0    869\n",
      "4.0       0.564626  0.435374    332.0   256.0    588\n",
      "5.0       0.618012  0.381988    199.0   123.0    322\n",
      "6.0       0.652361  0.347639    152.0    81.0    233\n",
      "7.0       0.670807  0.329193    108.0    53.0    161\n",
      "8.0       0.600000  0.400000     72.0    48.0    120\n",
      "9.0       0.750000  0.250000     39.0    13.0     52\n",
      "10.0      0.816901  0.183099     58.0    13.0     71\n",
      "11.0      0.923077  0.076923     36.0     3.0     39\n",
      "12.0      0.780488  0.219512     32.0     9.0     41\n",
      "13.0      0.892857  0.107143     25.0     3.0     28\n",
      "14.0      0.960000  0.040000     24.0     1.0     25\n",
      "15.0      1.000000  0.000000     31.0     0.0     31\n",
      "16.0      0.904762  0.095238     19.0     2.0     21\n",
      "17.0      0.937500  0.062500     15.0     1.0     16\n",
      "18.0      1.000000  0.000000     18.0     0.0     18\n",
      "19.0      0.909091  0.090909     10.0     1.0     11\n",
      "20.0      1.000000  0.000000      9.0     0.0      9\n",
      "21.0      1.000000  0.000000      6.0     0.0      6\n",
      "22.0      1.000000  0.000000      4.0     0.0      4\n",
      "23.0      1.000000  0.000000      5.0     0.0      5\n",
      "24.0      1.000000  0.000000      8.0     0.0      8\n",
      "25.0      1.000000  0.000000      1.0     0.0      1\n",
      "26.0      1.000000  0.000000      1.0     0.0      1\n",
      "27.0      1.000000  0.000000      2.0     0.0      2\n",
      "30.0      1.000000  0.000000      1.0     0.0      1\n",
      "34.0      1.000000  0.000000      1.0     0.0      1\n",
      "38.0      1.000000  0.000000      1.0     0.0      1\n",
      "42.0      1.000000  0.000000      1.0     0.0      1\n"
     ]
    }
   ],
   "source": [
    "value_counts_ratio(train, '미세주입_후_저장된_배아_수')"
   ]
  },
  {
   "cell_type": "markdown",
   "metadata": {},
   "source": [
    "### 46. 해동된_배아_수"
   ]
  },
  {
   "cell_type": "markdown",
   "metadata": {},
   "source": [
    "동결 해동된 배아의 수"
   ]
  },
  {
   "cell_type": "code",
   "execution_count": 107,
   "metadata": {},
   "outputs": [
    {
     "name": "stdout",
     "output_type": "stream",
     "text": [
      "\n",
      "해동된_배아_수별 임신_성공_여부 비율 및 갯수\n",
      "\n",
      "                 0         1        0       1  Total\n",
      "variable                                            \n",
      "0.0       0.725821  0.274179  20495.0  7742.0  28237\n",
      "1.0       0.872530  0.127470    883.0   129.0   1012\n",
      "2.0       0.815160  0.184840   1398.0   317.0   1715\n",
      "3.0       0.822402  0.177598    815.0   176.0    991\n",
      "4.0       0.809655  0.190345    587.0   138.0    725\n",
      "5.0       0.806533  0.193467    321.0    77.0    398\n",
      "6.0       0.804196  0.195804    230.0    56.0    286\n",
      "7.0       0.779874  0.220126    124.0    35.0    159\n",
      "8.0       0.733333  0.266667    110.0    40.0    150\n",
      "9.0       0.674419  0.325581     58.0    28.0     86\n",
      "10.0      0.735294  0.264706     50.0    18.0     68\n",
      "11.0      0.843750  0.156250     27.0     5.0     32\n",
      "12.0      0.739130  0.260870     17.0     6.0     23\n",
      "13.0      1.000000  0.000000     13.0     0.0     13\n",
      "14.0      0.875000  0.125000      7.0     1.0      8\n",
      "15.0      0.916667  0.083333     11.0     1.0     12\n",
      "16.0      0.700000  0.300000      7.0     3.0     10\n",
      "17.0      0.600000  0.400000      3.0     2.0      5\n",
      "18.0      0.750000  0.250000      3.0     1.0      4\n",
      "19.0      1.000000  0.000000      1.0     0.0      1\n",
      "20.0      1.000000  0.000000      1.0     0.0      1\n",
      "21.0      0.000000  1.000000      0.0     1.0      1\n"
     ]
    }
   ],
   "source": [
    "value_counts_ratio(train, '해동된_배아_수')"
   ]
  },
  {
   "cell_type": "markdown",
   "metadata": {},
   "source": [
    "### 47. 해동_난자_수"
   ]
  },
  {
   "cell_type": "markdown",
   "metadata": {},
   "source": [
    "동결 해동된 난자의 수"
   ]
  },
  {
   "cell_type": "code",
   "execution_count": 108,
   "metadata": {},
   "outputs": [
    {
     "name": "stdout",
     "output_type": "stream",
     "text": [
      "\n",
      "해동_난자_수별 임신_성공_여부 비율 및 갯수\n",
      "\n",
      "                 0         1        0       1  Total\n",
      "variable                                            \n",
      "0.0       0.741402  0.258598  25115.0  8760.0  33875\n",
      "2.0       0.750000  0.250000      3.0     1.0      4\n",
      "3.0       1.000000  0.000000      1.0     0.0      1\n",
      "4.0       0.833333  0.166667      5.0     1.0      6\n",
      "5.0       1.000000  0.000000      5.0     0.0      5\n",
      "6.0       0.800000  0.200000      4.0     1.0      5\n",
      "7.0       0.600000  0.400000      6.0     4.0     10\n",
      "8.0       0.555556  0.444444      5.0     4.0      9\n",
      "9.0       0.500000  0.500000      1.0     1.0      2\n",
      "10.0      1.000000  0.000000      3.0     0.0      3\n",
      "11.0      0.500000  0.500000      1.0     1.0      2\n",
      "12.0      0.500000  0.500000      2.0     2.0      4\n",
      "13.0      1.000000  0.000000      2.0     0.0      2\n",
      "14.0      1.000000  0.000000      3.0     0.0      3\n",
      "15.0      0.500000  0.500000      1.0     1.0      2\n",
      "16.0      1.000000  0.000000      1.0     0.0      1\n",
      "17.0      1.000000  0.000000      2.0     0.0      2\n",
      "19.0      1.000000  0.000000      1.0     0.0      1\n"
     ]
    }
   ],
   "source": [
    "value_counts_ratio(train, '해동_난자_수')"
   ]
  },
  {
   "cell_type": "markdown",
   "metadata": {},
   "source": [
    "### 48. 수집된_신선_난자_수"
   ]
  },
  {
   "cell_type": "markdown",
   "metadata": {},
   "source": [
    "신선 난자가 수집된 수"
   ]
  },
  {
   "cell_type": "code",
   "execution_count": 109,
   "metadata": {},
   "outputs": [
    {
     "name": "stdout",
     "output_type": "stream",
     "text": [
      "\n",
      "수집된_신선_난자_수별 임신_성공_여부 비율 및 갯수\n",
      "\n",
      "                 0         1       0       1  Total\n",
      "variable                                           \n",
      "0.0       0.806550  0.193450  5812.0  1394.0   7206\n",
      "1.0       0.954111  0.045889   499.0    24.0    523\n",
      "2.0       0.913950  0.086050   701.0    66.0    767\n",
      "3.0       0.856000  0.144000   856.0   144.0   1000\n",
      "4.0       0.819565  0.180435  1131.0   249.0   1380\n",
      "5.0       0.788672  0.211328  1295.0   347.0   1642\n",
      "6.0       0.770492  0.229508  1363.0   406.0   1769\n",
      "7.0       0.758333  0.241667  1365.0   435.0   1800\n",
      "8.0       0.729522  0.270478  1327.0   492.0   1819\n",
      "9.0       0.713554  0.286446  1253.0   503.0   1756\n",
      "10.0      0.707735  0.292265  1281.0   529.0   1810\n",
      "11.0      0.664709  0.335291  1132.0   571.0   1703\n",
      "12.0      0.645413  0.354587   992.0   545.0   1537\n",
      "13.0      0.658101  0.341899   922.0   479.0   1401\n",
      "14.0      0.670464  0.329536   824.0   405.0   1229\n",
      "15.0      0.661454  0.338546   719.0   368.0   1087\n",
      "16.0      0.658670  0.341330   604.0   313.0    917\n",
      "17.0      0.630689  0.369311   485.0   284.0    769\n",
      "18.0      0.637168  0.362832   432.0   246.0    678\n",
      "19.0      0.657895  0.342105   350.0   182.0    532\n",
      "20.0      0.659184  0.340816   323.0   167.0    490\n",
      "21.0      0.612903  0.387097   247.0   156.0    403\n",
      "22.0      0.687708  0.312292   207.0    94.0    301\n",
      "23.0      0.670635  0.329365   169.0    83.0    252\n",
      "24.0      0.642512  0.357488   133.0    74.0    207\n",
      "25.0      0.668539  0.331461   119.0    59.0    178\n",
      "26.0      0.746377  0.253623   103.0    35.0    138\n",
      "27.0      0.752212  0.247788    85.0    28.0    113\n",
      "28.0      0.775000  0.225000    62.0    18.0     80\n",
      "29.0      0.746835  0.253165    59.0    20.0     79\n",
      "30.0      0.824324  0.175676    61.0    13.0     74\n",
      "31.0      0.770492  0.229508    47.0    14.0     61\n",
      "32.0      0.860465  0.139535    37.0     6.0     43\n",
      "33.0      0.851852  0.148148    23.0     4.0     27\n",
      "34.0      0.878788  0.121212    29.0     4.0     33\n",
      "35.0      0.772727  0.227273    17.0     5.0     22\n",
      "36.0      0.863636  0.136364    19.0     3.0     22\n",
      "37.0      0.611111  0.388889    11.0     7.0     18\n",
      "38.0      0.857143  0.142857    12.0     2.0     14\n",
      "39.0      1.000000  0.000000    10.0     0.0     10\n",
      "40.0      0.818182  0.181818     9.0     2.0     11\n",
      "41.0      1.000000  0.000000     9.0     0.0      9\n",
      "42.0      1.000000  0.000000     4.0     0.0      4\n",
      "43.0      1.000000  0.000000     5.0     0.0      5\n",
      "44.0      1.000000  0.000000     2.0     0.0      2\n",
      "45.0      1.000000  0.000000     2.0     0.0      2\n",
      "46.0      1.000000  0.000000     2.0     0.0      2\n",
      "50.0      1.000000  0.000000     1.0     0.0      1\n",
      "51.0      1.000000  0.000000    11.0     0.0     11\n"
     ]
    }
   ],
   "source": [
    "value_counts_ratio(train, '수집된_신선_난자_수')"
   ]
  },
  {
   "cell_type": "markdown",
   "metadata": {},
   "source": [
    "### 49. 저장된_신선_난자_수"
   ]
  },
  {
   "cell_type": "markdown",
   "metadata": {},
   "source": [
    "저장된 신선 난자의 수"
   ]
  },
  {
   "cell_type": "code",
   "execution_count": 110,
   "metadata": {},
   "outputs": [
    {
     "name": "stdout",
     "output_type": "stream",
     "text": [
      "\n",
      "저장된_신선_난자_수별 임신_성공_여부 비율 및 갯수\n",
      "\n",
      "                 0         1        0       1  Total\n",
      "variable                                            \n",
      "0.0       0.740189  0.259811  24971.0  8765.0  33736\n",
      "1.0       0.857143  0.142857      6.0     1.0      7\n",
      "2.0       1.000000  0.000000      7.0     0.0      7\n",
      "3.0       0.857143  0.142857     12.0     2.0     14\n",
      "4.0       0.833333  0.166667     10.0     2.0     12\n",
      "5.0       0.933333  0.066667     14.0     1.0     15\n",
      "6.0       0.937500  0.062500     15.0     1.0     16\n",
      "7.0       0.933333  0.066667     14.0     1.0     15\n",
      "8.0       1.000000  0.000000     18.0     0.0     18\n",
      "9.0       1.000000  0.000000     13.0     0.0     13\n",
      "10.0      0.909091  0.090909     10.0     1.0     11\n",
      "11.0      0.846154  0.153846     11.0     2.0     13\n",
      "12.0      1.000000  0.000000     10.0     0.0     10\n",
      "13.0      1.000000  0.000000      7.0     0.0      7\n",
      "14.0      1.000000  0.000000     10.0     0.0     10\n",
      "15.0      1.000000  0.000000      7.0     0.0      7\n",
      "16.0      1.000000  0.000000      4.0     0.0      4\n",
      "17.0      1.000000  0.000000      3.0     0.0      3\n",
      "18.0      1.000000  0.000000      3.0     0.0      3\n",
      "19.0      1.000000  0.000000      4.0     0.0      4\n",
      "20.0      1.000000  0.000000      5.0     0.0      5\n",
      "21.0      1.000000  0.000000      2.0     0.0      2\n",
      "22.0      1.000000  0.000000      1.0     0.0      1\n",
      "24.0      1.000000  0.000000      1.0     0.0      1\n",
      "25.0      1.000000  0.000000      1.0     0.0      1\n",
      "30.0      1.000000  0.000000      1.0     0.0      1\n",
      "35.0      1.000000  0.000000      1.0     0.0      1\n"
     ]
    }
   ],
   "source": [
    "value_counts_ratio(train, '저장된_신선_난자_수')"
   ]
  },
  {
   "cell_type": "markdown",
   "metadata": {},
   "source": [
    "### 50. 혼합된_난자_수"
   ]
  },
  {
   "cell_type": "markdown",
   "metadata": {},
   "source": [
    "정자와 혼합된 총 난자 수"
   ]
  },
  {
   "cell_type": "code",
   "execution_count": 111,
   "metadata": {},
   "outputs": [
    {
     "name": "stdout",
     "output_type": "stream",
     "text": [
      "\n",
      "혼합된_난자_수별 임신_성공_여부 비율 및 갯수\n",
      "\n",
      "                 0         1       0       1  Total\n",
      "variable                                           \n",
      "0.0       0.840657  0.159343  5376.0  1019.0   6395\n",
      "1.0       0.940278  0.059722   677.0    43.0    720\n",
      "2.0       0.899821  0.100179  1006.0   112.0   1118\n",
      "3.0       0.826418  0.173582  1195.0   251.0   1446\n",
      "4.0       0.795886  0.204114  1509.0   387.0   1896\n",
      "5.0       0.747765  0.252235  1589.0   536.0   2125\n",
      "6.0       0.744018  0.255982  1648.0   567.0   2215\n",
      "7.0       0.723230  0.276770  1594.0   610.0   2204\n",
      "8.0       0.708714  0.291286  1472.0   605.0   2077\n",
      "9.0       0.683805  0.316195  1330.0   615.0   1945\n",
      "10.0      0.669775  0.330225  1221.0   602.0   1823\n",
      "11.0      0.647672  0.352328  1057.0   575.0   1632\n",
      "12.0      0.637456  0.362544   902.0   513.0   1415\n",
      "13.0      0.649383  0.350617   789.0   426.0   1215\n",
      "14.0      0.653437  0.346563   675.0   358.0   1033\n",
      "15.0      0.641447  0.358553   585.0   327.0    912\n",
      "16.0      0.647552  0.352448   463.0   252.0    715\n",
      "17.0      0.642123  0.357877   375.0   209.0    584\n",
      "18.0      0.619149  0.380851   291.0   179.0    470\n",
      "19.0      0.684783  0.315217   252.0   116.0    368\n",
      "20.0      0.682243  0.317757   219.0   102.0    321\n",
      "21.0      0.618868  0.381132   164.0   101.0    265\n",
      "22.0      0.683938  0.316062   132.0    61.0    193\n",
      "23.0      0.649682  0.350318   102.0    55.0    157\n",
      "24.0      0.651163  0.348837    84.0    45.0    129\n",
      "25.0      0.769912  0.230088    87.0    26.0    113\n",
      "26.0      0.737500  0.262500    59.0    21.0     80\n",
      "27.0      0.797101  0.202899    55.0    14.0     69\n",
      "28.0      0.784314  0.215686    40.0    11.0     51\n",
      "29.0      0.764706  0.235294    39.0    12.0     51\n",
      "30.0      0.829268  0.170732    34.0     7.0     41\n",
      "31.0      0.896552  0.103448    26.0     3.0     29\n",
      "32.0      0.846154  0.153846    22.0     4.0     26\n",
      "33.0      0.923077  0.076923    12.0     1.0     13\n",
      "34.0      0.764706  0.235294    13.0     4.0     17\n",
      "35.0      0.866667  0.133333    13.0     2.0     15\n",
      "36.0      0.857143  0.142857    12.0     2.0     14\n",
      "37.0      0.666667  0.333333     4.0     2.0      6\n",
      "38.0      0.833333  0.166667     5.0     1.0      6\n",
      "39.0      1.000000  0.000000     7.0     0.0      7\n",
      "40.0      1.000000  0.000000     4.0     0.0      4\n",
      "41.0      1.000000  0.000000     4.0     0.0      4\n",
      "42.0      1.000000  0.000000     3.0     0.0      3\n",
      "43.0      1.000000  0.000000     2.0     0.0      2\n",
      "44.0      1.000000  0.000000     1.0     0.0      1\n",
      "45.0      1.000000  0.000000     2.0     0.0      2\n",
      "46.0      1.000000  0.000000     2.0     0.0      2\n",
      "47.0      1.000000  0.000000     1.0     0.0      1\n",
      "51.0      1.000000  0.000000     7.0     0.0      7\n"
     ]
    }
   ],
   "source": [
    "value_counts_ratio(train, '혼합된_난자_수')"
   ]
  },
  {
   "cell_type": "markdown",
   "metadata": {},
   "source": [
    "### 51. 파트너_정자와_혼합된_난자_수"
   ]
  },
  {
   "cell_type": "markdown",
   "metadata": {},
   "source": [
    "파트너 정자와 혼합된 난자의 수"
   ]
  },
  {
   "cell_type": "code",
   "execution_count": 112,
   "metadata": {},
   "outputs": [
    {
     "name": "stdout",
     "output_type": "stream",
     "text": [
      "\n",
      "파트너_정자와_혼합된_난자_수별 임신_성공_여부 비율 및 갯수\n",
      "\n",
      "                 0         1       0       1  Total\n",
      "variable                                           \n",
      "0.0       0.815253  0.184747  6553.0  1485.0   8038\n",
      "1.0       0.938272  0.061728   608.0    40.0    648\n",
      "2.0       0.898537  0.101463   921.0   104.0   1025\n",
      "3.0       0.824095  0.175905  1115.0   238.0   1353\n",
      "4.0       0.796045  0.203955  1409.0   361.0   1770\n",
      "5.0       0.746239  0.253761  1488.0   506.0   1994\n",
      "6.0       0.746866  0.253134  1549.0   525.0   2074\n",
      "7.0       0.728198  0.271802  1503.0   561.0   2064\n",
      "8.0       0.711882  0.288118  1396.0   565.0   1961\n",
      "9.0       0.688649  0.311351  1274.0   576.0   1850\n",
      "10.0      0.670915  0.329085  1158.0   568.0   1726\n",
      "11.0      0.648136  0.351864   991.0   538.0   1529\n",
      "12.0      0.637659  0.362341   850.0   483.0   1333\n",
      "13.0      0.647314  0.352686   747.0   407.0   1154\n",
      "14.0      0.657114  0.342886   642.0   335.0    977\n",
      "15.0      0.636468  0.363532   555.0   317.0    872\n",
      "16.0      0.648368  0.351632   437.0   237.0    674\n",
      "17.0      0.645455  0.354545   355.0   195.0    550\n",
      "18.0      0.615894  0.384106   279.0   174.0    453\n",
      "19.0      0.684971  0.315029   237.0   109.0    346\n",
      "20.0      0.681967  0.318033   208.0    97.0    305\n",
      "21.0      0.614173  0.385827   156.0    98.0    254\n",
      "22.0      0.693989  0.306011   127.0    56.0    183\n",
      "23.0      0.644295  0.355705    96.0    53.0    149\n",
      "24.0      0.645161  0.354839    80.0    44.0    124\n",
      "25.0      0.757009  0.242991    81.0    26.0    107\n",
      "26.0      0.750000  0.250000    57.0    19.0     76\n",
      "27.0      0.803030  0.196970    53.0    13.0     66\n",
      "28.0      0.775510  0.224490    38.0    11.0     49\n",
      "29.0      0.755102  0.244898    37.0    12.0     49\n",
      "30.0      0.820513  0.179487    32.0     7.0     39\n",
      "31.0      0.884615  0.115385    23.0     3.0     26\n",
      "32.0      0.826087  0.173913    19.0     4.0     23\n",
      "33.0      1.000000  0.000000    12.0     0.0     12\n",
      "34.0      0.764706  0.235294    13.0     4.0     17\n",
      "35.0      0.923077  0.076923    12.0     1.0     13\n",
      "36.0      0.916667  0.083333    11.0     1.0     12\n",
      "37.0      0.600000  0.400000     3.0     2.0      5\n",
      "38.0      0.750000  0.250000     3.0     1.0      4\n",
      "39.0      1.000000  0.000000     7.0     0.0      7\n",
      "40.0      1.000000  0.000000     4.0     0.0      4\n",
      "41.0      1.000000  0.000000     4.0     0.0      4\n",
      "42.0      1.000000  0.000000     3.0     0.0      3\n",
      "43.0      1.000000  0.000000     2.0     0.0      2\n",
      "44.0      1.000000  0.000000     1.0     0.0      1\n",
      "45.0      1.000000  0.000000     2.0     0.0      2\n",
      "46.0      1.000000  0.000000     2.0     0.0      2\n",
      "47.0      1.000000  0.000000     1.0     0.0      1\n",
      "51.0      1.000000  0.000000     7.0     0.0      7\n"
     ]
    }
   ],
   "source": [
    "value_counts_ratio(train, '파트너_정자와_혼합된_난자_수')"
   ]
  },
  {
   "cell_type": "markdown",
   "metadata": {},
   "source": [
    "### 52. 기증자_정자와_혼합된_난자_수"
   ]
  },
  {
   "cell_type": "markdown",
   "metadata": {},
   "source": [
    "기증자 정자와 혼합된 난자의 수"
   ]
  },
  {
   "cell_type": "code",
   "execution_count": 113,
   "metadata": {},
   "outputs": [
    {
     "name": "stdout",
     "output_type": "stream",
     "text": [
      "\n",
      "기증자_정자와_혼합된_난자_수별 임신_성공_여부 비율 및 갯수\n",
      "\n",
      "                 0         1        0       1  Total\n",
      "variable                                            \n",
      "0.0       0.742500  0.257500  24008.0  8326.0  32334\n",
      "1.0       0.945205  0.054795     69.0     4.0     73\n",
      "2.0       0.915789  0.084211     87.0     8.0     95\n",
      "3.0       0.861702  0.138298     81.0    13.0     94\n",
      "4.0       0.787879  0.212121    104.0    28.0    132\n",
      "5.0       0.772059  0.227941    105.0    31.0    136\n",
      "6.0       0.703448  0.296552    102.0    43.0    145\n",
      "7.0       0.650000  0.350000     91.0    49.0    140\n",
      "8.0       0.669492  0.330508     79.0    39.0    118\n",
      "9.0       0.602041  0.397959     59.0    39.0     98\n",
      "10.0      0.659574  0.340426     62.0    32.0     94\n",
      "11.0      0.632653  0.367347     62.0    36.0     98\n",
      "12.0      0.623377  0.376623     48.0    29.0     77\n",
      "13.0      0.701754  0.298246     40.0    17.0     57\n",
      "14.0      0.596154  0.403846     31.0    21.0     52\n",
      "15.0      0.771429  0.228571     27.0     8.0     35\n",
      "16.0      0.648649  0.351351     24.0    13.0     37\n",
      "17.0      0.571429  0.428571     16.0    12.0     28\n",
      "18.0      0.615385  0.384615      8.0     5.0     13\n",
      "19.0      0.666667  0.333333     12.0     6.0     18\n",
      "20.0      0.692308  0.307692      9.0     4.0     13\n",
      "21.0      0.700000  0.300000      7.0     3.0     10\n",
      "22.0      0.666667  0.333333      4.0     2.0      6\n",
      "23.0      0.714286  0.285714      5.0     2.0      7\n",
      "24.0      0.750000  0.250000      3.0     1.0      4\n",
      "25.0      1.000000  0.000000      6.0     0.0      6\n",
      "26.0      0.500000  0.500000      2.0     2.0      4\n",
      "27.0      0.500000  0.500000      1.0     1.0      2\n",
      "28.0      1.000000  0.000000      1.0     0.0      1\n",
      "30.0      1.000000  0.000000      1.0     0.0      1\n",
      "31.0      1.000000  0.000000      2.0     0.0      2\n",
      "32.0      1.000000  0.000000      3.0     0.0      3\n",
      "33.0      0.000000  1.000000      0.0     1.0      1\n",
      "35.0      0.000000  1.000000      0.0     1.0      1\n",
      "36.0      1.000000  0.000000      1.0     0.0      1\n",
      "38.0      1.000000  0.000000      1.0     0.0      1\n"
     ]
    }
   ],
   "source": [
    "value_counts_ratio(train, '기증자_정자와_혼합된_난자_수')"
   ]
  },
  {
   "cell_type": "code",
   "execution_count": 114,
   "metadata": {},
   "outputs": [],
   "source": [
    "# 1. 임신 성공율 - 이식된 배아 대비 임신 성공 비율\n",
    "train['임신_성공율'] = np.where(train['총_생성_배아_수'] > 0, (train['이식된_배아_수'] / train['총_생성_배아_수']) * 100, 0).round(2)\n",
    "\n",
    "# 2. ICSI 효율성 - 미세주입된 난자 대비 생성된 배아 비율\n",
    "train['ICSI_효율성'] = np.where(train['미세주입된_난자_수'] > 0, (train['미세주입에서_생성된_배아_수'] / train['미세주입된_난자_수']) * 100, 0).round(2)\n",
    "\n",
    "# 3. 저장 배아 비율 - 총 생성 배아 대비 저장된 배아 수 비율\n",
    "train['저장_배아_비율'] = np.where(train['총_생성_배아_수'] > 0, (train['저장된_배아_수'] / train['총_생성_배아_수']) * 100, 0).round(2)\n",
    "\n",
    "# 4. 해동 난자 비율 - 해동된 난자 대비 수집된 신선 난자 비율\n",
    "train['해동_난자_비율'] = np.where(train['수집된_신선_난자_수'] > 0, (train['해동_난자_수'] / train['수집된_신선_난자_수']) * 100, 0).round(2)\n",
    "\n",
    "# 5. 생성 배아 유지율 - ICSI 후 저장된 배아 대비 생성된 배아 비율\n",
    "train['생성_배아_유지율'] = np.where(train['미세주입에서_생성된_배아_수'] > 0, (train['미세주입_후_저장된_배아_수'] / train['미세주입에서_생성된_배아_수']) * 100, 0).round(2)\n",
    "\n",
    "# 6. 파트너 정자 사용 비율 - 혼합된 난자에서 파트너 정자 비율\n",
    "train['파트너_정자_사용_비율'] = np.where(train['혼합된_난자_수'] > 0, (train['파트너_정자와_혼합된_난자_수'] / train['혼합된_난자_수']) * 100, 0).round(2)\n",
    "\n",
    "# test 데이터프레임에도 동일한 파생 변수를 생성\n",
    "test['임신_성공율'] = np.where(test['총_생성_배아_수'] > 0, (test['이식된_배아_수'] / test['총_생성_배아_수']) * 100, 0).round(2)\n",
    "test['ICSI_효율성'] = np.where(test['미세주입된_난자_수'] > 0, (test['미세주입에서_생성된_배아_수'] / test['미세주입된_난자_수']) * 100, 0).round(2)\n",
    "test['저장_배아_비율'] = np.where(test['총_생성_배아_수'] > 0, (test['저장된_배아_수'] / test['총_생성_배아_수']) * 100, 0).round(2)\n",
    "test['해동_난자_비율'] = np.where(test['수집된_신선_난자_수'] > 0, (test['해동_난자_수'] / test['수집된_신선_난자_수']) * 100, 0).round(2)\n",
    "test['생성_배아_유지율'] = np.where(test['미세주입에서_생성된_배아_수'] > 0, (test['미세주입_후_저장된_배아_수'] / test['미세주입에서_생성된_배아_수']) * 100, 0).round(2)\n",
    "test['파트너_정자_사용_비율'] = np.where(test['혼합된_난자_수'] > 0, (test['파트너_정자와_혼합된_난자_수'] / test['혼합된_난자_수']) * 100, 0).round(2)"
   ]
  },
  {
   "cell_type": "markdown",
   "metadata": {},
   "source": [
    "### 53. 난자_출처"
   ]
  },
  {
   "cell_type": "markdown",
   "metadata": {},
   "source": [
    "난자 출처 정보"
   ]
  },
  {
   "cell_type": "code",
   "execution_count": 115,
   "metadata": {},
   "outputs": [
    {
     "name": "stdout",
     "output_type": "stream",
     "text": [
      "\n",
      "난자_출처별 임신_성공_여부 비율 및 갯수\n",
      "\n",
      "                 0         1      0     1  Total\n",
      "variable                                        \n",
      "기증 제공     0.719497  0.280503   1144   446   1590\n",
      "본인 제공     0.742480  0.257520  24017  8330  32347\n",
      "알 수 없음    0.837626  0.162374    748   145    893\n"
     ]
    }
   ],
   "source": [
    "value_counts_ratio(train, '난자_출처')"
   ]
  },
  {
   "cell_type": "code",
   "execution_count": 116,
   "metadata": {},
   "outputs": [
    {
     "data": {
      "text/plain": [
       "본인 제공     11175\n",
       "기증 제공       526\n",
       "알 수 없음      318\n",
       "Name: 난자_출처, dtype: int64"
      ]
     },
     "execution_count": 116,
     "metadata": {},
     "output_type": "execute_result"
    }
   ],
   "source": [
    "test['난자_출처'].value_counts()"
   ]
  },
  {
   "cell_type": "markdown",
   "metadata": {},
   "source": [
    "### 54. 정자_출처"
   ]
  },
  {
   "cell_type": "markdown",
   "metadata": {},
   "source": [
    "정자 출처 정보"
   ]
  },
  {
   "cell_type": "code",
   "execution_count": 117,
   "metadata": {},
   "outputs": [
    {
     "name": "stdout",
     "output_type": "stream",
     "text": [
      "\n",
      "정자_출처별 임신_성공_여부 비율 및 갯수\n",
      "\n",
      "                    0         1        0       1  Total\n",
      "variable                                               \n",
      "기증 제공        0.766871  0.233129   2250.0   684.0   2934\n",
      "미할당          0.875000  0.125000      7.0     1.0      8\n",
      "배우자 및 기증 제공  1.000000  0.000000      1.0     0.0      1\n",
      "배우자 제공       0.741713  0.258287  23651.0  8236.0  31887\n"
     ]
    }
   ],
   "source": [
    "value_counts_ratio(train, '정자_출처')"
   ]
  },
  {
   "cell_type": "code",
   "execution_count": 118,
   "metadata": {},
   "outputs": [
    {
     "data": {
      "text/plain": [
       "배우자 제공    10960\n",
       "기증 제공      1056\n",
       "미할당           3\n",
       "Name: 정자_출처, dtype: int64"
      ]
     },
     "execution_count": 118,
     "metadata": {},
     "output_type": "execute_result"
    }
   ],
   "source": [
    "test['정자_출처'].value_counts()"
   ]
  },
  {
   "cell_type": "markdown",
   "metadata": {},
   "source": [
    "### 55. 난자_기증자_나이"
   ]
  },
  {
   "cell_type": "markdown",
   "metadata": {},
   "source": [
    "난자 기증자의 등록 당시 나이"
   ]
  },
  {
   "cell_type": "code",
   "execution_count": 119,
   "metadata": {},
   "outputs": [
    {
     "name": "stdout",
     "output_type": "stream",
     "text": [
      "\n",
      "난자_기증자_나이별 임신_성공_여부 비율 및 갯수\n",
      "\n",
      "                 0         1      0     1  Total\n",
      "variable                                        \n",
      "만20세 이하   0.571429  0.428571     12     9     21\n",
      "만21-25세   0.789773  0.210227    139    37    176\n",
      "만26-30세   0.691275  0.308725    309   138    447\n",
      "만31-35세   0.695210  0.304790    479   210    689\n",
      "알 수 없음    0.745440  0.254560  24970  8527  33497\n"
     ]
    }
   ],
   "source": [
    "value_counts_ratio(train, '난자_기증자_나이')"
   ]
  },
  {
   "cell_type": "markdown",
   "metadata": {},
   "source": [
    "### 56. 정자_기증자_나이"
   ]
  },
  {
   "cell_type": "markdown",
   "metadata": {},
   "source": [
    "정자 기증자의 등록 당시 나이"
   ]
  },
  {
   "cell_type": "code",
   "execution_count": 120,
   "metadata": {},
   "outputs": [
    {
     "name": "stdout",
     "output_type": "stream",
     "text": [
      "\n",
      "정자_기증자_나이별 임신_성공_여부 비율 및 갯수\n",
      "\n",
      "                 0         1      0     1  Total\n",
      "variable                                        \n",
      "만20세 이하   0.846154  0.153846     66    12     78\n",
      "만21-25세   0.766595  0.233405    358   109    467\n",
      "만26-30세   0.773663  0.226337    376   110    486\n",
      "만31-35세   0.781925  0.218075    398   111    509\n",
      "만36-40세   0.752533  0.247467    520   171    691\n",
      "만41-45세   0.755515  0.244485    411   133    544\n",
      "알 수 없음    0.741850  0.258150  23780  8275  32055\n"
     ]
    }
   ],
   "source": [
    "value_counts_ratio(train, '정자_기증자_나이')"
   ]
  },
  {
   "cell_type": "code",
   "execution_count": 121,
   "metadata": {},
   "outputs": [
    {
     "name": "stdout",
     "output_type": "stream",
     "text": [
      "Grouped by: 난자_기증자_나이, 정자_기증자_나이\n",
      "\n",
      "                 group  '임신_성공_여부' count     ratio  Total\n",
      "0   (만20세 이하, 만21-25세)                 0  0.000000      1\n",
      "1   (만20세 이하, 만36-40세)                 1  0.500000      2\n",
      "2   (만20세 이하, 만41-45세)                 1  1.000000      1\n",
      "3    (만20세 이하, 알 수 없음)                 7  0.411765     17\n",
      "4   (만21-25세, 만20세 이하)                 0  0.000000      1\n",
      "5   (만21-25세, 만21-25세)                 0  0.000000      3\n",
      "6   (만21-25세, 만26-30세)                 0  0.000000      2\n",
      "7   (만21-25세, 만36-40세)                 1  0.076923     13\n",
      "8   (만21-25세, 만41-45세)                 2  1.000000      2\n",
      "9    (만21-25세, 알 수 없음)                34  0.219355    155\n",
      "10  (만26-30세, 만21-25세)                 1  0.090909     11\n",
      "11  (만26-30세, 만26-30세)                 3  0.500000      6\n",
      "12  (만26-30세, 만31-35세)                 4  0.333333     12\n",
      "13  (만26-30세, 만36-40세)                 1  0.142857      7\n",
      "14  (만26-30세, 만41-45세)                 1  0.500000      2\n",
      "15   (만26-30세, 알 수 없음)               128  0.312958    409\n",
      "16  (만31-35세, 만21-25세)                 3  0.375000      8\n",
      "17  (만31-35세, 만26-30세)                 6  0.400000     15\n",
      "18  (만31-35세, 만31-35세)                 5  0.208333     24\n",
      "19  (만31-35세, 만36-40세)                 7  0.233333     30\n",
      "20  (만31-35세, 만41-45세)                 4  0.222222     18\n",
      "21   (만31-35세, 알 수 없음)               185  0.311448    594\n",
      "22   (알 수 없음, 만20세 이하)                12  0.155844     77\n",
      "23   (알 수 없음, 만21-25세)               105  0.236486    444\n",
      "24   (알 수 없음, 만26-30세)               101  0.218143    463\n",
      "25   (알 수 없음, 만31-35세)               102  0.215645    473\n",
      "26   (알 수 없음, 만36-40세)               161  0.251956    639\n",
      "27   (알 수 없음, 만41-45세)               125  0.239923    521\n",
      "28    (알 수 없음, 알 수 없음)              7921  0.256509  30880\n"
     ]
    }
   ],
   "source": [
    "summarize_group(train, ['난자_기증자_나이', '정자_기증자_나이'])"
   ]
  },
  {
   "cell_type": "code",
   "execution_count": 122,
   "metadata": {},
   "outputs": [],
   "source": [
    "# 그룹화하여 임신_성공_여부 비율 계산\n",
    "grouped = train.groupby(['난자_기증자_나이', '정자_기증자_나이']).agg(\n",
    "    count=('임신_성공_여부', 'sum'),\n",
    "    Total=('임신_성공_여부', 'size')\n",
    ").reset_index()\n",
    "\n",
    "grouped['ratio'] = grouped['count'] / grouped['Total']\n",
    "grouped['기증자_나이_더미'] = (grouped['ratio'] >= 0.28).astype(int)\n",
    "\n",
    "# 원본 train 데이터프레임에 더미 변수 추가\n",
    "train = train.merge(grouped[['난자_기증자_나이', '정자_기증자_나이', '기증자_나이_더미']], on=['난자_기증자_나이', '정자_기증자_나이'], how='left')\n",
    "\n",
    "# test 데이터프레임에 더미 변수 추가\n",
    "test = test.merge(grouped[['난자_기증자_나이', '정자_기증자_나이', '기증자_나이_더미']], on=['난자_기증자_나이', '정자_기증자_나이'], how='left')\n",
    "\n",
    "# 결측값을 0으로 채우기 (해당 조합이 train 데이터에 없을 경우)\n",
    "test['기증자_나이_더미'] = test['기증자_나이_더미'].fillna(0).astype(int)"
   ]
  },
  {
   "cell_type": "code",
   "execution_count": 123,
   "metadata": {},
   "outputs": [
    {
     "name": "stdout",
     "output_type": "stream",
     "text": [
      "\n",
      "기증자_나이_더미별 임신_성공_여부 비율 및 갯수\n",
      "\n",
      "                 0         1      0     1  Total\n",
      "variable                                        \n",
      "0         0.745868  0.254132  25182  8580  33762\n",
      "1         0.680712  0.319288    727   341   1068\n"
     ]
    }
   ],
   "source": [
    "value_counts_ratio(train, '기증자_나이_더미')"
   ]
  },
  {
   "cell_type": "code",
   "execution_count": 124,
   "metadata": {},
   "outputs": [
    {
     "data": {
      "text/plain": [
       "0    11667\n",
       "1      352\n",
       "Name: 기증자_나이_더미, dtype: int64"
      ]
     },
     "execution_count": 124,
     "metadata": {},
     "output_type": "execute_result"
    }
   ],
   "source": [
    "test['기증자_나이_더미'].value_counts()"
   ]
  },
  {
   "cell_type": "code",
   "execution_count": 125,
   "metadata": {},
   "outputs": [],
   "source": [
    "# summarize_group(train, ['난자_기증자_나이', '정자_기증자_나이', '기증자_나이_더미'])"
   ]
  },
  {
   "cell_type": "markdown",
   "metadata": {},
   "source": [
    "### 57. 동결_배아_사용_여부"
   ]
  },
  {
   "cell_type": "markdown",
   "metadata": {},
   "source": [
    "동결 배아가 사용되었는지 여부"
   ]
  },
  {
   "cell_type": "code",
   "execution_count": 126,
   "metadata": {},
   "outputs": [
    {
     "name": "stdout",
     "output_type": "stream",
     "text": [
      "\n",
      "동결_배아_사용_여부별 임신_성공_여부 비율 및 갯수\n",
      "\n",
      "                 0         1      0     1  Total\n",
      "variable                                        \n",
      "0.0       0.725857  0.274143  20512  7747  28259\n",
      "1.0       0.818774  0.181226   4649  1029   5678\n"
     ]
    }
   ],
   "source": [
    "value_counts_ratio(train, '동결_배아_사용_여부')"
   ]
  },
  {
   "cell_type": "markdown",
   "metadata": {},
   "source": [
    "### 58. 신선_배아_사용_여부"
   ]
  },
  {
   "cell_type": "markdown",
   "metadata": {},
   "source": [
    "신선 배아가 사용되었는지 여부"
   ]
  },
  {
   "cell_type": "code",
   "execution_count": 127,
   "metadata": {},
   "outputs": [
    {
     "name": "stdout",
     "output_type": "stream",
     "text": [
      "\n",
      "신선_배아_사용_여부별 임신_성공_여부 비율 및 갯수\n",
      "\n",
      "                 0         1      0     1  Total\n",
      "variable                                        \n",
      "0.0       0.819275  0.180725   4633  1022   5655\n",
      "1.0       0.725833  0.274167  20528  7754  28282\n"
     ]
    }
   ],
   "source": [
    "value_counts_ratio(train, '신선_배아_사용_여부')"
   ]
  },
  {
   "cell_type": "markdown",
   "metadata": {},
   "source": [
    "### 59. 기증_배아_사용_여부"
   ]
  },
  {
   "cell_type": "markdown",
   "metadata": {},
   "source": [
    "기증 배아가 사용되었는지 여부"
   ]
  },
  {
   "cell_type": "code",
   "execution_count": 128,
   "metadata": {},
   "outputs": [
    {
     "name": "stdout",
     "output_type": "stream",
     "text": [
      "\n",
      "기증_배아_사용_여부별 임신_성공_여부 비율 및 갯수\n",
      "\n",
      "                 0         1      0     1  Total\n",
      "variable                                        \n",
      "0.0       0.741080  0.258920  25007  8737  33744\n",
      "1.0       0.797927  0.202073    154    39    193\n"
     ]
    }
   ],
   "source": [
    "value_counts_ratio(train, '기증_배아_사용_여부')"
   ]
  },
  {
   "cell_type": "code",
   "execution_count": 129,
   "metadata": {},
   "outputs": [
    {
     "name": "stdout",
     "output_type": "stream",
     "text": [
      "Grouped by: 신선_배아_사용_여부, 동결_배아_사용_여부, 기증_배아_사용_여부\n",
      "\n",
      "             group  '임신_성공_여부' count     ratio  Total\n",
      "0  (0.0, 0.0, 0.0)                 0  0.000000      1\n",
      "1  (0.0, 1.0, 0.0)              1015  0.182259   5569\n",
      "2  (0.0, 1.0, 1.0)                 7  0.082353     85\n",
      "3  (1.0, 0.0, 0.0)              7715  0.274067  28150\n",
      "4  (1.0, 0.0, 1.0)                32  0.296296    108\n",
      "5  (1.0, 1.0, 0.0)                 7  0.291667     24\n"
     ]
    }
   ],
   "source": [
    "summarize_group(train, ['신선_배아_사용_여부', '동결_배아_사용_여부', '기증_배아_사용_여부'])"
   ]
  },
  {
   "cell_type": "markdown",
   "metadata": {},
   "source": [
    "### 60. 대리모_여부"
   ]
  },
  {
   "cell_type": "markdown",
   "metadata": {},
   "source": [
    "환자가 대리모로 활동했는지 여부"
   ]
  },
  {
   "cell_type": "code",
   "execution_count": 130,
   "metadata": {},
   "outputs": [
    {
     "name": "stdout",
     "output_type": "stream",
     "text": [
      "\n",
      "대리모_여부별 임신_성공_여부 비율 및 갯수\n",
      "\n",
      "                 0         1      0     1  Total\n",
      "variable                                        \n",
      "0.0       0.741304  0.258696  25062  8746  33808\n",
      "1.0       0.767442  0.232558     99    30    129\n"
     ]
    }
   ],
   "source": [
    "value_counts_ratio(train, '대리모_여부')"
   ]
  },
  {
   "cell_type": "markdown",
   "metadata": {},
   "source": [
    "### 61. PGD_시술_여부"
   ]
  },
  {
   "cell_type": "markdown",
   "metadata": {},
   "source": [
    "해당 주기가 PGD 치료로 분류되는지 여부"
   ]
  },
  {
   "cell_type": "code",
   "execution_count": 131,
   "metadata": {},
   "outputs": [
    {
     "name": "stdout",
     "output_type": "stream",
     "text": [
      "\n",
      "PGD_시술_여부별 임신_성공_여부 비율 및 갯수\n",
      "\n",
      "                 0         1    0   1  Total\n",
      "variable                                    \n",
      "1.0       0.695489  0.304511  185  81    266\n"
     ]
    }
   ],
   "source": [
    "value_counts_ratio(train, 'PGD_시술_여부')"
   ]
  },
  {
   "cell_type": "code",
   "execution_count": 132,
   "metadata": {},
   "outputs": [
    {
     "data": {
      "text/plain": [
       "34564"
      ]
     },
     "execution_count": 132,
     "metadata": {},
     "output_type": "execute_result"
    }
   ],
   "source": [
    "train['PGD_시술_여부'].isnull().sum()"
   ]
  },
  {
   "cell_type": "code",
   "execution_count": 133,
   "metadata": {},
   "outputs": [
    {
     "name": "stdout",
     "output_type": "stream",
     "text": [
      "결측값 개수: 34564\n",
      "결측값 개수: 0\n"
     ]
    }
   ],
   "source": [
    "# 결측값 개수 확인\n",
    "print(\"결측값 개수:\", train['PGD_시술_여부'].isnull().sum())\n",
    "\n",
    "# 결측값을 0으로 채우기\n",
    "train['PGD_시술_여부'].fillna(0, inplace=True)\n",
    "test['PGD_시술_여부'].fillna(0, inplace=True)\n",
    "\n",
    "# 결측값 개수 확인\n",
    "print(\"결측값 개수:\", train['PGD_시술_여부'].isnull().sum())"
   ]
  },
  {
   "cell_type": "markdown",
   "metadata": {},
   "source": [
    "### 62. PGS_시술_여부"
   ]
  },
  {
   "cell_type": "markdown",
   "metadata": {},
   "source": [
    "해당 주기가 PGS 치료로 분류되는지 여부"
   ]
  },
  {
   "cell_type": "code",
   "execution_count": 134,
   "metadata": {},
   "outputs": [
    {
     "name": "stdout",
     "output_type": "stream",
     "text": [
      "\n",
      "PGS_시술_여부별 임신_성공_여부 비율 및 갯수\n",
      "\n",
      "                 0         1    0   1  Total\n",
      "variable                                    \n",
      "1.0       0.868217  0.131783  224  34    258\n"
     ]
    }
   ],
   "source": [
    "value_counts_ratio(train, 'PGS_시술_여부')"
   ]
  },
  {
   "cell_type": "code",
   "execution_count": 135,
   "metadata": {},
   "outputs": [
    {
     "name": "stdout",
     "output_type": "stream",
     "text": [
      "결측값 개수: 34572\n",
      "결측값 개수: 0\n"
     ]
    }
   ],
   "source": [
    "# 결측값 개수 확인\n",
    "print(\"결측값 개수:\", train['PGS_시술_여부'].isnull().sum())\n",
    "\n",
    "# 결측값을 0으로 채우기\n",
    "train['PGS_시술_여부'].fillna(0, inplace=True)\n",
    "test['PGS_시술_여부'].fillna(0, inplace=True)\n",
    "\n",
    "# 결측값 개수 확인\n",
    "print(\"결측값 개수:\", train['PGS_시술_여부'].isnull().sum())"
   ]
  },
  {
   "cell_type": "code",
   "execution_count": 136,
   "metadata": {},
   "outputs": [
    {
     "name": "stdout",
     "output_type": "stream",
     "text": [
      "Grouped by: PGD_시술_여부, PGS_시술_여부\n",
      "\n",
      "        group  '임신_성공_여부' count     ratio  Total\n",
      "0  (0.0, 0.0)              8806  0.256690  34306\n",
      "1  (0.0, 1.0)                34  0.131783    258\n",
      "2  (1.0, 0.0)                81  0.304511    266\n"
     ]
    }
   ],
   "source": [
    "summarize_group(train, ['PGD_시술_여부', 'PGS_시술_여부'])"
   ]
  },
  {
   "cell_type": "markdown",
   "metadata": {},
   "source": [
    "### 63. 난자_채취_경과일"
   ]
  },
  {
   "cell_type": "markdown",
   "metadata": {},
   "source": [
    "첫 시점으로부터 난자 채취까지 경과한 일수"
   ]
  },
  {
   "cell_type": "code",
   "execution_count": 137,
   "metadata": {},
   "outputs": [
    {
     "name": "stdout",
     "output_type": "stream",
     "text": [
      "\n",
      "난자_채취_경과일별 임신_성공_여부 비율 및 갯수\n",
      "\n",
      "                 0         1      0     1  Total\n",
      "variable                                        \n",
      "0.0       0.727669  0.272331  19722  7381  27103\n"
     ]
    }
   ],
   "source": [
    "value_counts_ratio(train, '난자_채취_경과일')"
   ]
  },
  {
   "cell_type": "code",
   "execution_count": 138,
   "metadata": {},
   "outputs": [
    {
     "name": "stdout",
     "output_type": "stream",
     "text": [
      "결측값 개수: 7727\n",
      "결측값 개수: 0\n"
     ]
    }
   ],
   "source": [
    "print(\"결측값 개수:\", train['난자_채취_경과일'].isnull().sum())\n",
    "\n",
    "train['난자_채취_경과일'].fillna(-1, inplace=True)\n",
    "test['난자_채취_경과일'].fillna(-1, inplace=True)\n",
    "\n",
    "print(\"결측값 개수:\", train['난자_채취_경과일'].isnull().sum())"
   ]
  },
  {
   "cell_type": "markdown",
   "metadata": {},
   "source": [
    "### 64. 난자_해동_경과일"
   ]
  },
  {
   "cell_type": "markdown",
   "metadata": {},
   "source": [
    "첫 시점으로부터 난자 해동까지 경과한 일수"
   ]
  },
  {
   "cell_type": "code",
   "execution_count": 139,
   "metadata": {},
   "outputs": [
    {
     "name": "stdout",
     "output_type": "stream",
     "text": [
      "\n",
      "난자_해동_경과일별 임신_성공_여부 비율 및 갯수\n",
      "\n",
      "                 0         1   0   1  Total\n",
      "variable                                   \n",
      "0.0       0.733333  0.266667  44  16     60\n"
     ]
    }
   ],
   "source": [
    "value_counts_ratio(train, '난자_해동_경과일')"
   ]
  },
  {
   "cell_type": "code",
   "execution_count": 140,
   "metadata": {},
   "outputs": [
    {
     "data": {
      "text/plain": [
       "34770"
      ]
     },
     "execution_count": 140,
     "metadata": {},
     "output_type": "execute_result"
    }
   ],
   "source": [
    "train['난자_해동_경과일'].isnull().sum()"
   ]
  },
  {
   "cell_type": "code",
   "execution_count": 141,
   "metadata": {},
   "outputs": [
    {
     "name": "stdout",
     "output_type": "stream",
     "text": [
      "결측값 개수: 34770\n",
      "결측값 개수: 0\n"
     ]
    }
   ],
   "source": [
    "print(\"결측값 개수:\", train['난자_해동_경과일'].isnull().sum())\n",
    "\n",
    "train['난자_해동_경과일'].fillna(-1, inplace=True)\n",
    "test['난자_해동_경과일'].fillna(-1, inplace=True)\n",
    "\n",
    "print(\"결측값 개수:\", train['난자_해동_경과일'].isnull().sum())"
   ]
  },
  {
   "cell_type": "markdown",
   "metadata": {},
   "source": [
    "### 65. 난자_혼합_경과일"
   ]
  },
  {
   "cell_type": "markdown",
   "metadata": {},
   "source": [
    "첫 시점으로부터 난자와 정자 혼합까지 경과한 일수"
   ]
  },
  {
   "cell_type": "code",
   "execution_count": 142,
   "metadata": {},
   "outputs": [
    {
     "name": "stdout",
     "output_type": "stream",
     "text": [
      "\n",
      "난자_혼합_경과일별 임신_성공_여부 비율 및 갯수\n",
      "\n",
      "                 0         1        0       1  Total\n",
      "variable                                            \n",
      "0.0       0.717689  0.282311  19552.0  7691.0  27243\n",
      "1.0       0.845361  0.154639     82.0    15.0     97\n",
      "2.0       0.750000  0.250000     24.0     8.0     32\n",
      "3.0       0.700000  0.300000     21.0     9.0     30\n",
      "5.0       0.750000  0.250000      6.0     2.0      8\n",
      "6.0       1.000000  0.000000      3.0     0.0      3\n"
     ]
    }
   ],
   "source": [
    "value_counts_ratio(train, '난자_혼합_경과일')"
   ]
  },
  {
   "cell_type": "code",
   "execution_count": 143,
   "metadata": {},
   "outputs": [
    {
     "data": {
      "text/plain": [
       "7417"
      ]
     },
     "execution_count": 143,
     "metadata": {},
     "output_type": "execute_result"
    }
   ],
   "source": [
    "train['난자_혼합_경과일'].isnull().sum()"
   ]
  },
  {
   "cell_type": "code",
   "execution_count": 144,
   "metadata": {},
   "outputs": [
    {
     "name": "stdout",
     "output_type": "stream",
     "text": [
      "결측값 개수: 7417\n",
      "결측값 개수: 0\n"
     ]
    }
   ],
   "source": [
    "print(\"결측값 개수:\", train['난자_혼합_경과일'].isnull().sum())\n",
    "\n",
    "train['난자_혼합_경과일'].fillna(-1, inplace=True)\n",
    "test['난자_혼합_경과일'].fillna(-1, inplace=True)\n",
    "\n",
    "print(\"결측값 개수:\", train['난자_혼합_경과일'].isnull().sum())"
   ]
  },
  {
   "cell_type": "code",
   "execution_count": 145,
   "metadata": {},
   "outputs": [
    {
     "name": "stdout",
     "output_type": "stream",
     "text": [
      "\n",
      "난자_혼합_경과일별 임신_성공_여부 비율 및 갯수\n",
      "\n",
      "                 0         1        0       1  Total\n",
      "variable                                            \n",
      "-1.0      0.838749  0.161251   6221.0  1196.0   7417\n",
      " 0.0      0.717689  0.282311  19552.0  7691.0  27243\n",
      " 1.0      0.845361  0.154639     82.0    15.0     97\n",
      " 2.0      0.750000  0.250000     24.0     8.0     32\n",
      " 3.0      0.700000  0.300000     21.0     9.0     30\n",
      " 5.0      0.750000  0.250000      6.0     2.0      8\n",
      " 6.0      1.000000  0.000000      3.0     0.0      3\n"
     ]
    }
   ],
   "source": [
    "value_counts_ratio(train, '난자_혼합_경과일')"
   ]
  },
  {
   "cell_type": "markdown",
   "metadata": {},
   "source": [
    "### 66. 배아_이식_경과일"
   ]
  },
  {
   "cell_type": "markdown",
   "metadata": {},
   "source": [
    "첫 시점으로부터 배아 이식까지 경과한 일수"
   ]
  },
  {
   "cell_type": "code",
   "execution_count": 146,
   "metadata": {},
   "outputs": [
    {
     "name": "stdout",
     "output_type": "stream",
     "text": [
      "\n",
      "배아_이식_경과일별 임신_성공_여부 비율 및 갯수\n",
      "\n",
      "                 0         1     0     1  Total\n",
      "variable                                       \n",
      "0.0       0.802160  0.197840  2303   568   2871\n",
      "1.0       0.838878  0.161122  1286   247   1533\n",
      "2.0       0.765487  0.234513  5474  1677   7151\n",
      "3.0       0.720327  0.279673  7392  2870  10262\n",
      "4.0       0.710983  0.289017   369   150    519\n",
      "5.0       0.584973  0.415027  4430  3143   7573\n",
      "6.0       0.742038  0.257962   233    81    314\n",
      "7.0       0.642857  0.357143     9     5     14\n"
     ]
    }
   ],
   "source": [
    "value_counts_ratio(train, '배아_이식_경과일')"
   ]
  },
  {
   "cell_type": "code",
   "execution_count": 147,
   "metadata": {},
   "outputs": [
    {
     "name": "stdout",
     "output_type": "stream",
     "text": [
      "결측값 개수: 4593\n",
      "결측값 개수: 0\n"
     ]
    }
   ],
   "source": [
    "print(\"결측값 개수:\", train['배아_이식_경과일'].isnull().sum())\n",
    "\n",
    "train['배아_이식_경과일'].fillna(-1, inplace=True)\n",
    "test['배아_이식_경과일'].fillna(-1, inplace=True)\n",
    "\n",
    "print(\"결측값 개수:\", train['배아_이식_경과일'].isnull().sum())"
   ]
  },
  {
   "cell_type": "code",
   "execution_count": 148,
   "metadata": {},
   "outputs": [
    {
     "name": "stdout",
     "output_type": "stream",
     "text": [
      "\n",
      "배아_이식_경과일별 임신_성공_여부 비율 및 갯수\n",
      "\n",
      "                 0         1     0     1  Total\n",
      "variable                                       \n",
      "-1.0      0.960810  0.039190  4413   180   4593\n",
      " 0.0      0.802160  0.197840  2303   568   2871\n",
      " 1.0      0.838878  0.161122  1286   247   1533\n",
      " 2.0      0.765487  0.234513  5474  1677   7151\n",
      " 3.0      0.720327  0.279673  7392  2870  10262\n",
      " 4.0      0.710983  0.289017   369   150    519\n",
      " 5.0      0.584973  0.415027  4430  3143   7573\n",
      " 6.0      0.742038  0.257962   233    81    314\n",
      " 7.0      0.642857  0.357143     9     5     14\n"
     ]
    }
   ],
   "source": [
    "value_counts_ratio(train, '배아_이식_경과일')"
   ]
  },
  {
   "cell_type": "markdown",
   "metadata": {},
   "source": [
    "### 67. 배아_해동_경과일"
   ]
  },
  {
   "cell_type": "markdown",
   "metadata": {},
   "source": [
    "첫 시점으로부터 배아 해동까지 경과한 일수"
   ]
  },
  {
   "cell_type": "code",
   "execution_count": 149,
   "metadata": {},
   "outputs": [
    {
     "name": "stdout",
     "output_type": "stream",
     "text": [
      "\n",
      "배아_해동_경과일별 임신_성공_여부 비율 및 갯수\n",
      "\n",
      "                 0         1       0       1  Total\n",
      "variable                                           \n",
      "0.0       0.819440  0.180560  4620.0  1018.0   5638\n",
      "1.0       0.000000  1.000000     0.0     1.0      1\n",
      "2.0       0.764706  0.235294    26.0     8.0     34\n",
      "3.0       0.722222  0.277778    13.0     5.0     18\n",
      "5.0       0.857143  0.142857     6.0     1.0      7\n",
      "6.0       0.500000  0.500000     1.0     1.0      2\n"
     ]
    }
   ],
   "source": [
    "value_counts_ratio(train, '배아_해동_경과일')"
   ]
  },
  {
   "cell_type": "code",
   "execution_count": 150,
   "metadata": {},
   "outputs": [
    {
     "data": {
      "text/plain": [
       "0.0    1930\n",
       "2.0      11\n",
       "3.0       6\n",
       "Name: 배아_해동_경과일, dtype: int64"
      ]
     },
     "execution_count": 150,
     "metadata": {},
     "output_type": "execute_result"
    }
   ],
   "source": [
    "test['배아_해동_경과일'].value_counts()"
   ]
  },
  {
   "cell_type": "code",
   "execution_count": 151,
   "metadata": {},
   "outputs": [
    {
     "name": "stdout",
     "output_type": "stream",
     "text": [
      "결측값 개수: 29130\n",
      "결측값 개수: 0\n"
     ]
    }
   ],
   "source": [
    "print(\"결측값 개수:\", train['배아_해동_경과일'].isnull().sum())\n",
    "\n",
    "train['배아_해동_경과일'].fillna(-1, inplace=True)\n",
    "test['배아_해동_경과일'].fillna(-1, inplace=True)\n",
    "\n",
    "print(\"결측값 개수:\", train['배아_해동_경과일'].isnull().sum())"
   ]
  },
  {
   "cell_type": "code",
   "execution_count": 152,
   "metadata": {},
   "outputs": [
    {
     "name": "stdout",
     "output_type": "stream",
     "text": [
      "\n",
      "배아_해동_경과일별 임신_성공_여부 비율 및 갯수\n",
      "\n",
      "                 0         1        0       1  Total\n",
      "variable                                            \n",
      "-1.0      0.729248  0.270752  21243.0  7887.0  29130\n",
      " 0.0      0.819440  0.180560   4620.0  1018.0   5638\n",
      " 1.0      0.000000  1.000000      0.0     1.0      1\n",
      " 2.0      0.764706  0.235294     26.0     8.0     34\n",
      " 3.0      0.722222  0.277778     13.0     5.0     18\n",
      " 5.0      0.857143  0.142857      6.0     1.0      7\n",
      " 6.0      0.500000  0.500000      1.0     1.0      2\n"
     ]
    }
   ],
   "source": [
    "value_counts_ratio(train, '배아_해동_경과일')"
   ]
  },
  {
   "cell_type": "code",
   "execution_count": 153,
   "metadata": {},
   "outputs": [],
   "source": [
    "# 파생 변수 생성 함수 정의\n",
    "def calculate_difference(col1, col2):\n",
    "    return np.where((col1 == -1) | (col2 == -1), 'unknown', col2 - col1)\n",
    "\n",
    "# 파생 변수 생성 (train 데이터프레임)\n",
    "train['채취_해동_차이'] = calculate_difference(train['난자_채취_경과일'], train['난자_해동_경과일'])\n",
    "train['해동_혼합_차이'] = calculate_difference(train['난자_해동_경과일'], train['난자_혼합_경과일'])\n",
    "train['혼합_이식_차이'] = calculate_difference(train['난자_혼합_경과일'], train['배아_이식_경과일'])\n",
    "train['이식_해동_차이'] = calculate_difference(train['배아_이식_경과일'], train['배아_해동_경과일'])\n",
    "\n",
    "# 파생 변수 생성 (test 데이터프레임)\n",
    "test['채취_해동_차이'] = calculate_difference(test['난자_채취_경과일'], test['난자_해동_경과일'])\n",
    "test['해동_혼합_차이'] = calculate_difference(test['난자_해동_경과일'], test['난자_혼합_경과일'])\n",
    "test['혼합_이식_차이'] = calculate_difference(test['난자_혼합_경과일'], test['배아_이식_경과일'])\n",
    "test['이식_해동_차이'] = calculate_difference(test['배아_이식_경과일'], test['배아_해동_경과일'])"
   ]
  },
  {
   "cell_type": "code",
   "execution_count": 154,
   "metadata": {},
   "outputs": [],
   "source": [
    "# # 모든 행을 출력하도록 설정\n",
    "pd.set_option('display.max_rows', None)"
   ]
  },
  {
   "cell_type": "code",
   "execution_count": 155,
   "metadata": {},
   "outputs": [
    {
     "name": "stdout",
     "output_type": "stream",
     "text": [
      "Grouped by: 난자_채취_경과일, 난자_혼합_경과일\n",
      "\n",
      "          group  '임신_성공_여부' count     ratio  Total\n",
      "0  (-1.0, -1.0)              1163  0.178047   6532\n",
      "1   (-1.0, 0.0)               377  0.315481   1195\n",
      "2   (0.0, -1.0)                33  0.037288    885\n",
      "3    (0.0, 0.0)              7314  0.280789  26048\n",
      "4    (0.0, 1.0)                15  0.154639     97\n",
      "5    (0.0, 2.0)                 8  0.250000     32\n",
      "6    (0.0, 3.0)                 9  0.300000     30\n",
      "7    (0.0, 5.0)                 2  0.250000      8\n",
      "8    (0.0, 6.0)                 0  0.000000      3\n"
     ]
    }
   ],
   "source": [
    "summarize_group(train, ['난자_채취_경과일', '난자_혼합_경과일'])"
   ]
  },
  {
   "cell_type": "code",
   "execution_count": 156,
   "metadata": {},
   "outputs": [
    {
     "name": "stdout",
     "output_type": "stream",
     "text": [
      "Grouped by: 배아_이식_경과일, 배아_해동_경과일\n",
      "\n",
      "           group  '임신_성공_여부' count     ratio  Total\n",
      "0   (-1.0, -1.0)               169  0.041432   4079\n",
      "1    (-1.0, 0.0)                11  0.021526    511\n",
      "2    (-1.0, 3.0)                 0  0.000000      2\n",
      "3    (-1.0, 5.0)                 0  0.000000      1\n",
      "4    (0.0, -1.0)                14  0.285714     49\n",
      "5     (0.0, 0.0)               554  0.196315   2822\n",
      "6    (1.0, -1.0)                19  0.116564    163\n",
      "7     (1.0, 0.0)               228  0.166423   1370\n",
      "8    (2.0, -1.0)              1561  0.236551   6599\n",
      "9     (2.0, 0.0)               111  0.207865    534\n",
      "10    (2.0, 2.0)                 4  0.235294     17\n",
      "11    (2.0, 6.0)                 1  1.000000      1\n",
      "12   (3.0, -1.0)              2818  0.280008  10064\n",
      "13    (3.0, 0.0)                48  0.269663    178\n",
      "14    (3.0, 2.0)                 2  0.285714      7\n",
      "15    (3.0, 3.0)                 2  0.153846     13\n",
      "16   (4.0, -1.0)                93  0.286154    325\n",
      "17    (4.0, 0.0)                56  0.290155    193\n",
      "18    (4.0, 3.0)                 1  1.000000      1\n",
      "19   (5.0, -1.0)              3127  0.415383   7528\n",
      "20    (5.0, 0.0)                10  0.357143     28\n",
      "21    (5.0, 1.0)                 1  1.000000      1\n",
      "22    (5.0, 2.0)                 2  0.222222      9\n",
      "23    (5.0, 3.0)                 2  1.000000      2\n",
      "24    (5.0, 5.0)                 1  0.200000      5\n",
      "25   (6.0, -1.0)                81  0.261290    310\n",
      "26    (6.0, 0.0)                 0  0.000000      1\n",
      "27    (6.0, 2.0)                 0  0.000000      1\n",
      "28    (6.0, 5.0)                 0  0.000000      1\n",
      "29    (6.0, 6.0)                 0  0.000000      1\n",
      "30   (7.0, -1.0)                 5  0.384615     13\n",
      "31    (7.0, 0.0)                 0  0.000000      1\n"
     ]
    }
   ],
   "source": [
    "summarize_group(train, ['배아_이식_경과일', '배아_해동_경과일'])"
   ]
  },
  {
   "cell_type": "code",
   "execution_count": 157,
   "metadata": {},
   "outputs": [
    {
     "name": "stdout",
     "output_type": "stream",
     "text": [
      "\n",
      "이식_해동_차이별 임신_성공_여부 비율 및 갯수\n",
      "\n",
      "                 0         1        0       1  Total\n",
      "variable                                            \n",
      "-1.0      0.832487  0.167513   1148.0   231.0   1379\n",
      "-2.0      0.789179  0.210821    423.0   113.0    536\n",
      "-3.0      0.732620  0.267380    137.0    50.0    187\n",
      "-4.0      0.707692  0.292308    138.0    57.0    195\n",
      "-5.0      0.642857  0.357143     18.0    10.0     28\n",
      "-6.0      1.000000  0.000000      1.0     0.0      1\n",
      "-7.0      1.000000  0.000000      1.0     0.0      1\n",
      "0.0       0.803709  0.196291   2297.0   561.0   2858\n",
      "4.0       0.000000  1.000000      0.0     1.0      1\n",
      "unknown   0.733572  0.266428  21746.0  7898.0  29644\n"
     ]
    }
   ],
   "source": [
    "value_counts_ratio(train, '이식_해동_차이')"
   ]
  },
  {
   "cell_type": "markdown",
   "metadata": {},
   "source": [
    "### 68. 임신_성공_여부"
   ]
  },
  {
   "cell_type": "markdown",
   "metadata": {},
   "source": [
    "해당 시술로부터 임신 성공 여부"
   ]
  },
  {
   "cell_type": "code",
   "execution_count": 158,
   "metadata": {},
   "outputs": [
    {
     "name": "stdout",
     "output_type": "stream",
     "text": [
      "\n",
      "임신_성공_여부별 임신_성공_여부 비율 및 갯수\n",
      "\n",
      "            0    1        0       1  Total\n",
      "variable                                  \n",
      "0         1.0  0.0  25909.0     0.0  25909\n",
      "1         0.0  1.0      0.0  8921.0   8921\n"
     ]
    }
   ],
   "source": [
    "value_counts_ratio(train, '임신_성공_여부')"
   ]
  },
  {
   "cell_type": "markdown",
   "metadata": {},
   "source": [
    "## 변수 상테 확인"
   ]
  },
  {
   "cell_type": "code",
   "execution_count": 159,
   "metadata": {},
   "outputs": [
    {
     "name": "stdout",
     "output_type": "stream",
     "text": [
      "<class 'pandas.core.frame.DataFrame'>\n",
      "Int64Index: 34830 entries, 0 to 34829\n",
      "Data columns (total 90 columns):\n",
      " #   Column                  Non-Null Count  Dtype   \n",
      "---  ------                  --------------  -----   \n",
      " 0   ID                      34830 non-null  object  \n",
      " 1   시술_당시_나이                34830 non-null  object  \n",
      " 2   임신_시도_또는_마지막_임신_경과_연수   34830 non-null  category\n",
      " 3   시술_유형                   34830 non-null  object  \n",
      " 4   배란_자극_여부                34830 non-null  int64   \n",
      " 5   배란_유도_유형                34830 non-null  object  \n",
      " 6   단일_배아_이식_여부             33937 non-null  float64 \n",
      " 7   착상_전_유전_검사_사용_여부        34830 non-null  float64 \n",
      " 8   착상_전_유전_진단_사용_여부        33937 non-null  float64 \n",
      " 9   남성_주_불임_원인              34830 non-null  int64   \n",
      " 10  남성_부_불임_원인              34830 non-null  int64   \n",
      " 11  여성_주_불임_원인              34830 non-null  int64   \n",
      " 12  여성_부_불임_원인              34830 non-null  int64   \n",
      " 13  부부_주_불임_원인              34830 non-null  int64   \n",
      " 14  부부_부_불임_원인              34830 non-null  int64   \n",
      " 15  불명확_불임_원인               34830 non-null  int64   \n",
      " 16  불임_원인_-_난관_질환           34830 non-null  int64   \n",
      " 17  불임_원인_-_남성_요인           34830 non-null  int64   \n",
      " 18  불임_원인_-_배란_장애           34830 non-null  int64   \n",
      " 19  불임_원인_-_자궁경부_문제         34830 non-null  int64   \n",
      " 20  불임_원인_-_자궁내막증           34830 non-null  int64   \n",
      " 21  불임_원인_-_정자_농도           34830 non-null  int64   \n",
      " 22  불임_원인_-_정자_형태           34830 non-null  int64   \n",
      " 23  배아_생성_주요_이유             34830 non-null  object  \n",
      " 24  총_시술_횟수                 34830 non-null  int64   \n",
      " 25  클리닉_내_총_시술_횟수           34830 non-null  int64   \n",
      " 26  IVF_시술_횟수               34830 non-null  int64   \n",
      " 27  DI_시술_횟수                34830 non-null  int64   \n",
      " 28  총_임신_횟수                 34830 non-null  int64   \n",
      " 29  IVF_임신_횟수               34830 non-null  int64   \n",
      " 30  DI_임신_횟수                34830 non-null  int64   \n",
      " 31  총_출산_횟수                 34830 non-null  int64   \n",
      " 32  IVF_출산_횟수               34830 non-null  int64   \n",
      " 33  DI_출산_횟수                34830 non-null  int64   \n",
      " 34  총_생성_배아_수               33937 non-null  float64 \n",
      " 35  미세주입된_난자_수              33937 non-null  float64 \n",
      " 36  미세주입에서_생성된_배아_수         33937 non-null  float64 \n",
      " 37  이식된_배아_수                33937 non-null  float64 \n",
      " 38  미세주입_배아_이식_수            33937 non-null  float64 \n",
      " 39  저장된_배아_수                33937 non-null  float64 \n",
      " 40  미세주입_후_저장된_배아_수         33937 non-null  float64 \n",
      " 41  해동된_배아_수                33937 non-null  float64 \n",
      " 42  해동_난자_수                 33937 non-null  float64 \n",
      " 43  수집된_신선_난자_수             33937 non-null  float64 \n",
      " 44  저장된_신선_난자_수             33937 non-null  float64 \n",
      " 45  혼합된_난자_수                33937 non-null  float64 \n",
      " 46  파트너_정자와_혼합된_난자_수        33937 non-null  float64 \n",
      " 47  기증자_정자와_혼합된_난자_수        33937 non-null  float64 \n",
      " 48  난자_출처                   34830 non-null  object  \n",
      " 49  정자_출처                   34830 non-null  object  \n",
      " 50  난자_기증자_나이               34830 non-null  object  \n",
      " 51  정자_기증자_나이               34830 non-null  object  \n",
      " 52  동결_배아_사용_여부             33937 non-null  float64 \n",
      " 53  신선_배아_사용_여부             33937 non-null  float64 \n",
      " 54  기증_배아_사용_여부             33937 non-null  float64 \n",
      " 55  대리모_여부                  33937 non-null  float64 \n",
      " 56  PGD_시술_여부               34830 non-null  float64 \n",
      " 57  PGS_시술_여부               34830 non-null  float64 \n",
      " 58  난자_채취_경과일               34830 non-null  float64 \n",
      " 59  난자_해동_경과일               34830 non-null  float64 \n",
      " 60  난자_혼합_경과일               34830 non-null  float64 \n",
      " 61  배아_이식_경과일               34830 non-null  float64 \n",
      " 62  배아_해동_경과일               34830 non-null  float64 \n",
      " 63  임신_성공_여부                34830 non-null  int64   \n",
      " 64  변환된_특정_시술_유형            34830 non-null  object  \n",
      " 65  특정_시술_유형_ICSI_더미        34830 non-null  int64   \n",
      " 66  특정_시술_유형_IVF_더미         34830 non-null  int64   \n",
      " 67  특정_시술_유형_AH_더미          34830 non-null  int64   \n",
      " 68  특정_시술_유형_BLASTOCYST_더미  34830 non-null  int64   \n",
      " 69  배아_생성_주요_이유_현재시술용       34830 non-null  int32   \n",
      " 70  배아_생성_주요_이유_기증용         34830 non-null  int32   \n",
      " 71  배아_생성_주요_이유_난자저장용       34830 non-null  int32   \n",
      " 72  배아_생성_주요_이유_배아저장용       34830 non-null  int32   \n",
      " 73  IVF_임신_시술_비율            34830 non-null  float64 \n",
      " 74  IVF_출산_임신_비율            34830 non-null  float64 \n",
      " 75  DI_임신_시술_비율             34830 non-null  float64 \n",
      " 76  DI_출산_임신_비율             34830 non-null  float64 \n",
      " 77  임신_성공률                  34830 non-null  float64 \n",
      " 78  출산_성공률                  34830 non-null  float64 \n",
      " 79  임신_성공율                  34830 non-null  float64 \n",
      " 80  ICSI_효율성                34830 non-null  float64 \n",
      " 81  저장_배아_비율                34830 non-null  float64 \n",
      " 82  해동_난자_비율                34830 non-null  float64 \n",
      " 83  생성_배아_유지율               34830 non-null  float64 \n",
      " 84  파트너_정자_사용_비율            34830 non-null  float64 \n",
      " 85  기증자_나이_더미               34830 non-null  int32   \n",
      " 86  채취_해동_차이                34830 non-null  object  \n",
      " 87  해동_혼합_차이                34830 non-null  object  \n",
      " 88  혼합_이식_차이                34830 non-null  object  \n",
      " 89  이식_해동_차이                34830 non-null  object  \n",
      "dtypes: category(1), float64(40), int32(5), int64(30), object(14)\n",
      "memory usage: 23.3+ MB\n"
     ]
    }
   ],
   "source": [
    "train.info()"
   ]
  },
  {
   "cell_type": "code",
   "execution_count": 160,
   "metadata": {},
   "outputs": [
    {
     "name": "stdout",
     "output_type": "stream",
     "text": [
      "<class 'pandas.core.frame.DataFrame'>\n",
      "Int64Index: 12019 entries, 0 to 12018\n",
      "Data columns (total 89 columns):\n",
      " #   Column                  Non-Null Count  Dtype   \n",
      "---  ------                  --------------  -----   \n",
      " 0   ID                      12019 non-null  object  \n",
      " 1   시술_당시_나이                12019 non-null  object  \n",
      " 2   임신_시도_또는_마지막_임신_경과_연수   12019 non-null  category\n",
      " 3   시술_유형                   12019 non-null  object  \n",
      " 4   배란_자극_여부                12019 non-null  int64   \n",
      " 5   배란_유도_유형                12019 non-null  object  \n",
      " 6   단일_배아_이식_여부             11701 non-null  float64 \n",
      " 7   착상_전_유전_검사_사용_여부        12019 non-null  float64 \n",
      " 8   착상_전_유전_진단_사용_여부        11701 non-null  float64 \n",
      " 9   남성_주_불임_원인              12019 non-null  int64   \n",
      " 10  남성_부_불임_원인              12019 non-null  int64   \n",
      " 11  여성_주_불임_원인              12019 non-null  int64   \n",
      " 12  여성_부_불임_원인              12019 non-null  int64   \n",
      " 13  부부_주_불임_원인              12019 non-null  int64   \n",
      " 14  부부_부_불임_원인              12019 non-null  int64   \n",
      " 15  불명확_불임_원인               12019 non-null  int64   \n",
      " 16  불임_원인_-_난관_질환           12019 non-null  int64   \n",
      " 17  불임_원인_-_남성_요인           12019 non-null  int64   \n",
      " 18  불임_원인_-_배란_장애           12019 non-null  int64   \n",
      " 19  불임_원인_-_자궁경부_문제         12019 non-null  int64   \n",
      " 20  불임_원인_-_자궁내막증           12019 non-null  int64   \n",
      " 21  불임_원인_-_정자_농도           12019 non-null  int64   \n",
      " 22  불임_원인_-_정자_형태           12019 non-null  int64   \n",
      " 23  배아_생성_주요_이유             12019 non-null  object  \n",
      " 24  총_시술_횟수                 12019 non-null  int64   \n",
      " 25  클리닉_내_총_시술_횟수           12019 non-null  int64   \n",
      " 26  IVF_시술_횟수               12019 non-null  int64   \n",
      " 27  DI_시술_횟수                12019 non-null  int64   \n",
      " 28  총_임신_횟수                 12019 non-null  int64   \n",
      " 29  IVF_임신_횟수               12019 non-null  int64   \n",
      " 30  DI_임신_횟수                12019 non-null  int64   \n",
      " 31  총_출산_횟수                 12019 non-null  int64   \n",
      " 32  IVF_출산_횟수               12019 non-null  int64   \n",
      " 33  DI_출산_횟수                12019 non-null  int64   \n",
      " 34  총_생성_배아_수               11701 non-null  float64 \n",
      " 35  미세주입된_난자_수              11701 non-null  float64 \n",
      " 36  미세주입에서_생성된_배아_수         11701 non-null  float64 \n",
      " 37  이식된_배아_수                11701 non-null  float64 \n",
      " 38  미세주입_배아_이식_수            11701 non-null  float64 \n",
      " 39  저장된_배아_수                11701 non-null  float64 \n",
      " 40  미세주입_후_저장된_배아_수         11701 non-null  float64 \n",
      " 41  해동된_배아_수                11701 non-null  float64 \n",
      " 42  해동_난자_수                 11701 non-null  float64 \n",
      " 43  수집된_신선_난자_수             11701 non-null  float64 \n",
      " 44  저장된_신선_난자_수             11701 non-null  float64 \n",
      " 45  혼합된_난자_수                11701 non-null  float64 \n",
      " 46  파트너_정자와_혼합된_난자_수        11701 non-null  float64 \n",
      " 47  기증자_정자와_혼합된_난자_수        11701 non-null  float64 \n",
      " 48  난자_출처                   12019 non-null  object  \n",
      " 49  정자_출처                   12019 non-null  object  \n",
      " 50  난자_기증자_나이               12019 non-null  object  \n",
      " 51  정자_기증자_나이               12019 non-null  object  \n",
      " 52  동결_배아_사용_여부             11701 non-null  float64 \n",
      " 53  신선_배아_사용_여부             11701 non-null  float64 \n",
      " 54  기증_배아_사용_여부             11701 non-null  float64 \n",
      " 55  대리모_여부                  11701 non-null  float64 \n",
      " 56  PGD_시술_여부               12019 non-null  float64 \n",
      " 57  PGS_시술_여부               12019 non-null  float64 \n",
      " 58  난자_채취_경과일               12019 non-null  float64 \n",
      " 59  난자_해동_경과일               12019 non-null  float64 \n",
      " 60  난자_혼합_경과일               12019 non-null  float64 \n",
      " 61  배아_이식_경과일               12019 non-null  float64 \n",
      " 62  배아_해동_경과일               12019 non-null  float64 \n",
      " 63  변환된_특정_시술_유형            12019 non-null  object  \n",
      " 64  특정_시술_유형_ICSI_더미        12019 non-null  int64   \n",
      " 65  특정_시술_유형_IVF_더미         12019 non-null  int64   \n",
      " 66  특정_시술_유형_AH_더미          12019 non-null  int64   \n",
      " 67  특정_시술_유형_BLASTOCYST_더미  12019 non-null  int64   \n",
      " 68  배아_생성_주요_이유_현재시술용       12019 non-null  int32   \n",
      " 69  배아_생성_주요_이유_기증용         12019 non-null  int32   \n",
      " 70  배아_생성_주요_이유_난자저장용       12019 non-null  int32   \n",
      " 71  배아_생성_주요_이유_배아저장용       12019 non-null  int32   \n",
      " 72  IVF_임신_시술_비율            12019 non-null  float64 \n",
      " 73  IVF_출산_임신_비율            12019 non-null  float64 \n",
      " 74  DI_임신_시술_비율             12019 non-null  float64 \n",
      " 75  DI_출산_임신_비율             12019 non-null  float64 \n",
      " 76  임신_성공률                  12019 non-null  float64 \n",
      " 77  출산_성공률                  12019 non-null  float64 \n",
      " 78  임신_성공율                  12019 non-null  float64 \n",
      " 79  ICSI_효율성                12019 non-null  float64 \n",
      " 80  저장_배아_비율                12019 non-null  float64 \n",
      " 81  해동_난자_비율                12019 non-null  float64 \n",
      " 82  생성_배아_유지율               12019 non-null  float64 \n",
      " 83  파트너_정자_사용_비율            12019 non-null  float64 \n",
      " 84  기증자_나이_더미               12019 non-null  int32   \n",
      " 85  채취_해동_차이                12019 non-null  object  \n",
      " 86  해동_혼합_차이                12019 non-null  object  \n",
      " 87  혼합_이식_차이                12019 non-null  object  \n",
      " 88  이식_해동_차이                12019 non-null  object  \n",
      "dtypes: category(1), float64(40), int32(5), int64(29), object(14)\n",
      "memory usage: 7.9+ MB\n"
     ]
    }
   ],
   "source": [
    "test.info()"
   ]
  },
  {
   "cell_type": "markdown",
   "metadata": {},
   "source": [
    "## 데이터 저장"
   ]
  },
  {
   "cell_type": "code",
   "execution_count": 161,
   "metadata": {},
   "outputs": [],
   "source": [
    "# CSV 파일 저장\n",
    "train.to_csv('../data/train_dataset_25_TRXQMD.csv', index=False, encoding='utf-8-sig')\n",
    "test.to_csv('../data/test_dataset_25_TRXQMD.csv', index=False, encoding='utf-8-sig')"
   ]
  },
  {
   "cell_type": "markdown",
   "metadata": {},
   "source": [
    "."
   ]
  }
 ],
 "metadata": {
  "kernelspec": {
   "display_name": "Python 3",
   "language": "python",
   "name": "python3"
  },
  "language_info": {
   "codemirror_mode": {
    "name": "ipython",
    "version": 3
   },
   "file_extension": ".py",
   "mimetype": "text/x-python",
   "name": "python",
   "nbconvert_exporter": "python",
   "pygments_lexer": "ipython3",
   "version": "3.7.8"
  }
 },
 "nbformat": 4,
 "nbformat_minor": 2
}
