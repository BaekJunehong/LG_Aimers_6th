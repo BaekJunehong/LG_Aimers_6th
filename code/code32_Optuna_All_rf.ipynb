{
 "cells": [
  {
   "cell_type": "markdown",
   "metadata": {},
   "source": [
    "## 난임 환자 대상 임신 성공 여부 예측"
   ]
  },
  {
   "cell_type": "markdown",
   "metadata": {},
   "source": [
    "### LGAimers 6th 온라인 해커톤"
   ]
  },
  {
   "cell_type": "markdown",
   "metadata": {},
   "source": [
    "Import"
   ]
  },
  {
   "cell_type": "code",
   "execution_count": 1,
   "metadata": {},
   "outputs": [],
   "source": [
    "import pandas as pd\n",
    "import optuna\n",
    "from sklearn.preprocessing import OrdinalEncoder\n",
    "from sklearn.model_selection import train_test_split\n",
    "from sklearn.metrics import accuracy_score, f1_score, roc_auc_score, confusion_matrix, ConfusionMatrixDisplay\n",
    "import matplotlib.pyplot as plt\n",
    "import lightgbm as lgb"
   ]
  },
  {
   "cell_type": "markdown",
   "metadata": {},
   "source": [
    "### Data Load"
   ]
  },
  {
   "cell_type": "code",
   "execution_count": 2,
   "metadata": {},
   "outputs": [],
   "source": [
    "# 데이터 로드\n",
    "Total_train = pd.read_csv('../data/Total_train_dataset_32.csv')\n",
    "Total_test = pd.read_csv('../data/Total_test_dataset_32.csv')"
   ]
  },
  {
   "cell_type": "code",
   "execution_count": 3,
   "metadata": {},
   "outputs": [],
   "source": [
    "# ID 열을 제외한 특성과 타겟 변수 분리\n",
    "Total_X = Total_train.drop(['임신_성공_여부', 'ID'], axis=1)\n",
    "Total_y = Total_train['임신_성공_여부']"
   ]
  },
  {
   "cell_type": "markdown",
   "metadata": {},
   "source": [
    "### 인코딩 "
   ]
  },
  {
   "cell_type": "code",
   "execution_count": 4,
   "metadata": {},
   "outputs": [],
   "source": [
    "Total_categorical_columns = [\n",
    "    \"시술_당시_나이\",\n",
    "    \"배란_유도_유형\",\n",
    "    \"난자_출처\",\n",
    "    \"정자_출처\",\n",
    "    \"난자_기증자_나이\",\n",
    "    \"정자_기증자_나이\"\n",
    "]"
   ]
  },
  {
   "cell_type": "code",
   "execution_count": 5,
   "metadata": {},
   "outputs": [],
   "source": [
    "# 모든 범주형 변수를 문자열로 변환\n",
    "Total_X[Total_categorical_columns] = Total_X[Total_categorical_columns].astype(str)\n",
    "Total_test[Total_categorical_columns] = Total_test[Total_categorical_columns].astype(str)\n",
    "\n",
    "# OrdinalEncoder를 사용하여 범주형 변수 인코딩\n",
    "Total_encoder = OrdinalEncoder(handle_unknown='use_encoded_value', unknown_value=-1)\n",
    "\n",
    "Total_X[Total_categorical_columns] = Total_encoder.fit_transform(Total_X[Total_categorical_columns])\n",
    "Total_test[Total_categorical_columns] = Total_encoder.transform(Total_test[Total_categorical_columns])"
   ]
  },
  {
   "cell_type": "markdown",
   "metadata": {},
   "source": [
    "## Modeling"
   ]
  },
  {
   "cell_type": "code",
   "execution_count": null,
   "metadata": {},
   "outputs": [
    {
     "ename": "",
     "evalue": "",
     "output_type": "error",
     "traceback": [
      "\u001b[1;31m현재 셀 또는 이전 셀에서 코드를 실행하는 동안 Kernel이 충돌했습니다. \n",
      "\u001b[1;31m셀의 코드를 검토하여 가능한 오류 원인을 식별하세요. \n",
      "\u001b[1;31m자세한 내용을 보려면 <a href='https://aka.ms/vscodeJupyterKernelCrash'>여기</a>를 클릭하세요. \n",
      "\u001b[1;31m자세한 내용은 Jupyter <a href='command:jupyter.viewOutput'>로그</a>를 참조하세요."
     ]
    }
   ],
   "source": [
    "# 데이터 분할\n",
    "Total_X_train, Total_X_test, Total_y_train, Total_y_test = train_test_split(Total_X, Total_y, test_size=0.2, random_state=42)"
   ]
  },
  {
   "cell_type": "markdown",
   "metadata": {},
   "source": [
    "### Total 데이터"
   ]
  },
  {
   "cell_type": "markdown",
   "metadata": {},
   "source": [
    "optuna"
   ]
  },
  {
   "cell_type": "code",
   "execution_count": null,
   "metadata": {},
   "outputs": [
    {
     "name": "stderr",
     "output_type": "stream",
     "text": [
      "[I 2025-02-17 18:40:27,269] A new study created in memory with name: no-name-e875c960-a497-4510-93cf-96264444f107\n",
      "[I 2025-02-17 18:49:21,221] Trial 0 finished with value: 0.7302306400827584 and parameters: {'n_estimators': 2665, 'max_depth': 84, 'min_samples_split': 13, 'min_samples_leaf': 4, 'criterion': 'entropy', 'class_weight': 'balanced'}. Best is trial 0 with value: 0.7302306400827584.\n",
      "[I 2025-02-17 18:56:22,207] Trial 1 finished with value: 0.7335355310261675 and parameters: {'n_estimators': 2188, 'max_depth': 21, 'min_samples_split': 9, 'min_samples_leaf': 6, 'criterion': 'entropy', 'class_weight': 'balanced'}. Best is trial 1 with value: 0.7335355310261675.\n",
      "[I 2025-02-17 19:10:52,205] Trial 2 finished with value: 0.729230813345937 and parameters: {'n_estimators': 3921, 'max_depth': 72, 'min_samples_split': 7, 'min_samples_leaf': 4, 'criterion': 'entropy', 'class_weight': 'balanced'}. Best is trial 1 with value: 0.7335355310261675.\n",
      "[I 2025-02-17 19:23:32,263] Trial 3 finished with value: 0.7301010001853716 and parameters: {'n_estimators': 3620, 'max_depth': 28, 'min_samples_split': 4, 'min_samples_leaf': 4, 'criterion': 'entropy', 'class_weight': 'balanced'}. Best is trial 1 with value: 0.7335355310261675.\n",
      "[I 2025-02-17 19:29:37,534] Trial 4 finished with value: 0.7231182839248012 and parameters: {'n_estimators': 1582, 'max_depth': 41, 'min_samples_split': 6, 'min_samples_leaf': 2, 'criterion': 'entropy', 'class_weight': 'balanced'}. Best is trial 1 with value: 0.7335355310261675.\n",
      "[I 2025-02-17 19:42:35,850] Trial 5 finished with value: 0.7272492647579467 and parameters: {'n_estimators': 3667, 'max_depth': 31, 'min_samples_split': 12, 'min_samples_leaf': 2, 'criterion': 'entropy', 'class_weight': 'balanced'}. Best is trial 1 with value: 0.7335355310261675.\n",
      "[I 2025-02-17 19:47:36,402] Trial 6 finished with value: 0.7320912758178366 and parameters: {'n_estimators': 1452, 'max_depth': 36, 'min_samples_split': 11, 'min_samples_leaf': 6, 'criterion': 'entropy', 'class_weight': 'balanced'}. Best is trial 1 with value: 0.7335355310261675.\n",
      "[I 2025-02-17 19:55:14,091] Trial 7 finished with value: 0.7332642801544234 and parameters: {'n_estimators': 2179, 'max_depth': 28, 'min_samples_split': 4, 'min_samples_leaf': 7, 'criterion': 'entropy', 'class_weight': 'balanced'}. Best is trial 1 with value: 0.7335355310261675.\n",
      "[I 2025-02-17 20:08:49,387] Trial 8 finished with value: 0.7292451985403415 and parameters: {'n_estimators': 3993, 'max_depth': 89, 'min_samples_split': 15, 'min_samples_leaf': 3, 'criterion': 'entropy', 'class_weight': 'balanced'}. Best is trial 1 with value: 0.7335355310261675.\n",
      "[I 2025-02-17 20:12:15,565] Trial 9 finished with value: 0.7335406717230613 and parameters: {'n_estimators': 1009, 'max_depth': 72, 'min_samples_split': 15, 'min_samples_leaf': 8, 'criterion': 'entropy', 'class_weight': 'balanced'}. Best is trial 9 with value: 0.7335406717230613.\n",
      "[I 2025-02-17 20:14:59,406] Trial 10 finished with value: 0.733523309183495 and parameters: {'n_estimators': 802, 'max_depth': 55, 'min_samples_split': 16, 'min_samples_leaf': 8, 'criterion': 'entropy', 'class_weight': 'balanced'}. Best is trial 9 with value: 0.7335406717230613.\n",
      "[I 2025-02-17 20:24:34,281] Trial 11 finished with value: 0.7321890465788097 and parameters: {'n_estimators': 2775, 'max_depth': 59, 'min_samples_split': 9, 'min_samples_leaf': 6, 'criterion': 'entropy', 'class_weight': 'balanced'}. Best is trial 9 with value: 0.7335406717230613.\n",
      "[I 2025-02-17 20:28:21,687] Trial 12 finished with value: 0.7335345896596827 and parameters: {'n_estimators': 1138, 'max_depth': 100, 'min_samples_split': 9, 'min_samples_leaf': 8, 'criterion': 'entropy', 'class_weight': 'balanced'}. Best is trial 9 with value: 0.7335406717230613.\n",
      "[I 2025-02-17 20:35:25,267] Trial 13 finished with value: 0.7321584710749862 and parameters: {'n_estimators': 2064, 'max_depth': 69, 'min_samples_split': 14, 'min_samples_leaf': 6, 'criterion': 'entropy', 'class_weight': 'balanced'}. Best is trial 9 with value: 0.7335406717230613.\n",
      "[I 2025-02-17 20:45:37,638] Trial 14 finished with value: 0.7330216106021095 and parameters: {'n_estimators': 2969, 'max_depth': 53, 'min_samples_split': 11, 'min_samples_leaf': 7, 'criterion': 'entropy', 'class_weight': 'balanced'}. Best is trial 9 with value: 0.7335406717230613.\n",
      "[I 2025-02-17 20:51:15,666] Trial 15 finished with value: 0.7339793286030138 and parameters: {'n_estimators': 1775, 'max_depth': 21, 'min_samples_split': 2, 'min_samples_leaf': 7, 'criterion': 'entropy', 'class_weight': 'balanced'}. Best is trial 15 with value: 0.7339793286030138.\n",
      "[I 2025-02-17 20:57:14,670] Trial 16 finished with value: 0.7336525729323287 and parameters: {'n_estimators': 1787, 'max_depth': 46, 'min_samples_split': 2, 'min_samples_leaf': 8, 'criterion': 'entropy', 'class_weight': 'balanced'}. Best is trial 15 with value: 0.7339793286030138.\n",
      "[I 2025-02-17 21:03:23,542] Trial 17 finished with value: 0.7330338722488619 and parameters: {'n_estimators': 1793, 'max_depth': 45, 'min_samples_split': 2, 'min_samples_leaf': 7, 'criterion': 'entropy', 'class_weight': 'balanced'}. Best is trial 15 with value: 0.7339793286030138.\n",
      "[I 2025-02-17 21:09:37,025] Trial 18 finished with value: 0.7308489924805277 and parameters: {'n_estimators': 1786, 'max_depth': 45, 'min_samples_split': 2, 'min_samples_leaf': 5, 'criterion': 'entropy', 'class_weight': 'balanced'}. Best is trial 15 with value: 0.7339793286030138.\n",
      "[I 2025-02-17 21:14:57,185] Trial 19 finished with value: 0.713460387212734 and parameters: {'n_estimators': 1325, 'max_depth': 50, 'min_samples_split': 4, 'min_samples_leaf': 1, 'criterion': 'entropy', 'class_weight': 'balanced'}. Best is trial 15 with value: 0.7339793286030138.\n",
      "[I 2025-02-17 21:22:59,455] Trial 20 finished with value: 0.7329504309565817 and parameters: {'n_estimators': 2456, 'max_depth': 21, 'min_samples_split': 6, 'min_samples_leaf': 5, 'criterion': 'entropy', 'class_weight': 'balanced'}. Best is trial 15 with value: 0.7339793286030138.\n",
      "[I 2025-02-17 21:25:48,056] Trial 21 finished with value: 0.7335170679037977 and parameters: {'n_estimators': 807, 'max_depth': 70, 'min_samples_split': 2, 'min_samples_leaf': 8, 'criterion': 'entropy', 'class_weight': 'balanced'}. Best is trial 15 with value: 0.7339793286030138.\n"
     ]
    }
   ],
   "source": [
    "from sklearn.ensemble import RandomForestClassifier\n",
    "from sklearn.metrics import roc_auc_score\n",
    "\n",
    "# 목적 함수 정의\n",
    "def objective(trial):\n",
    "    param = {\n",
    "\n",
    "        'n_estimators' : trial.suggest_int('n_estimators', 800, 4000),\n",
    "        'max_depth' : trial.suggest_int('max_depth', 20, 100),\n",
    "        'min_samples_split' : trial.suggest_int('min_samples_split', 2, 16),\n",
    "        'min_samples_leaf' : trial.suggest_int('min_samples_leaf', 1, 8),\n",
    "        'criterion' : trial.suggest_categorical(\"criterion\", [\"entropy\",]),\n",
    "        'class_weight' : trial.suggest_categorical(\"class_weight\", [\"balanced\"]),\n",
    "        \n",
    "        'random_state': 42,\n",
    "        'n_jobs': -1\n",
    "    }\n",
    "\n",
    "    model = RandomForestClassifier(**param)\n",
    "    model.fit(Total_X_train, Total_y_train)\n",
    "    \n",
    "    y_pred_proba = model.predict_proba(Total_X_test)[:, 1]\n",
    "    \n",
    "    auc = roc_auc_score(Total_y_test, y_pred_proba)\n",
    "    return auc\n",
    "\n",
    "# Optuna 스터디 생성 및 최적화 실행\n",
    "study = optuna.create_study(direction='maximize')\n",
    "study.optimize(objective, n_trials=500)\n",
    "\n",
    "# 최적의 하이퍼파라미터 출력\n",
    "print(\"Best trial:\")\n",
    "trial = study.best_trial\n",
    "print(f\"  Value: {trial.value}\")\n",
    "print(\"  Params: \")\n",
    "for key, value in trial.params.items():\n",
    "    print(f\"    {key}: {value}\")\n"
   ]
  },
  {
   "cell_type": "markdown",
   "metadata": {},
   "source": [
    "."
   ]
  }
 ],
 "metadata": {
  "kernelspec": {
   "display_name": "Python 3",
   "language": "python",
   "name": "python3"
  },
  "language_info": {
   "codemirror_mode": {
    "name": "ipython",
    "version": 3
   },
   "file_extension": ".py",
   "mimetype": "text/x-python",
   "name": "python",
   "nbconvert_exporter": "python",
   "pygments_lexer": "ipython3",
   "version": "3.7.8"
  }
 },
 "nbformat": 4,
 "nbformat_minor": 2
}
