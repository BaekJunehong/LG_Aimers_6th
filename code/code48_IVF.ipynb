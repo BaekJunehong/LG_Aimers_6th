{
 "cells": [
  {
   "cell_type": "markdown",
   "metadata": {},
   "source": [
    "## 난임 환자 대상 임신 성공 여부 예측"
   ]
  },
  {
   "cell_type": "markdown",
   "metadata": {},
   "source": [
    "### LGAimers 6th 온라인 해커톤"
   ]
  },
  {
   "cell_type": "markdown",
   "metadata": {},
   "source": [
    "Import"
   ]
  },
  {
   "cell_type": "code",
   "execution_count": 156,
   "metadata": {},
   "outputs": [],
   "source": [
    "import pandas as pd\n",
    "import numpy as np\n",
    "import seaborn as sns\n",
    "import matplotlib.pyplot as plt"
   ]
  },
  {
   "cell_type": "code",
   "execution_count": 157,
   "metadata": {},
   "outputs": [],
   "source": [
    "import platform\n",
    "from matplotlib import rc\n",
    "\n",
    "# 운영 체제에 따라 폰트 설정\n",
    "if platform.system() == 'Windows':  # Windows 환경\n",
    "    rc('font', family='Malgun Gothic')  # 맑은 고딕\n",
    "\n",
    "# 음수 표시 가능하도록 설정\n",
    "plt.rcParams['axes.unicode_minus'] = False"
   ]
  },
  {
   "cell_type": "code",
   "execution_count": 158,
   "metadata": {},
   "outputs": [],
   "source": [
    "# 경고문구 숨기기\n",
    "import warnings\n",
    "import pandas as pd\n",
    "\n",
    "warnings.filterwarnings(\"ignore\", category=pd.errors.SettingWithCopyWarning)"
   ]
  },
  {
   "cell_type": "markdown",
   "metadata": {},
   "source": [
    "반복적으로 쓰는 함수툴"
   ]
  },
  {
   "cell_type": "code",
   "execution_count": 159,
   "metadata": {},
   "outputs": [],
   "source": [
    "def plot_box(df, col_name):\n",
    "    \"\"\"\n",
    "    주어진 데이터프레임과 열 이름에 대해 박스 플롯을 그리는 함수.\n",
    "\n",
    "    Parameters:\n",
    "    df (pd.DataFrame): 데이터프레임\n",
    "    col_name (str): 열 이름\n",
    "    \"\"\"\n",
    "    plt.figure(figsize=(7, 4))\n",
    "    plt.boxplot(df[col_name], vert=False)\n",
    "    plt.xlabel(col_name)\n",
    "    plt.title(f'Box Plot of {col_name}')\n",
    "    plt.show()\n",
    "\n",
    "def value_counts_ratio(df, col_name, target_name='임신_성공_여부'):\n",
    "    \"\"\"\n",
    "    주어진 데이터프레임의 특정 열에 대해 각 값마다 타겟 변수의 비율과 갯수, 총 갯수를 출력하는 함수.\n",
    "\n",
    "    Parameters:\n",
    "    df (pd.DataFrame): 데이터프레임\n",
    "    col_name (str): 열 이름\n",
    "    target_name (str): 타겟 변수 이름\n",
    "    \"\"\"\n",
    "    # 각 값마다 타겟 변수의 비율 계산\n",
    "    value_counts = df.groupby(col_name)[target_name].value_counts(normalize=True).unstack().fillna(0)\n",
    "    \n",
    "    # 각 값마다 타겟 변수의 갯수 계산\n",
    "    counts = df.groupby(col_name)[target_name].value_counts().unstack().fillna(0)\n",
    "    \n",
    "    # 각 값마다 총 갯수 계산\n",
    "    total_counts = df[col_name].value_counts().rename('Total_Count')\n",
    "    \n",
    "    # 비율과 갯수를 합침\n",
    "    result = value_counts.join(counts, lsuffix='_ratio', rsuffix='_count')\n",
    "    \n",
    "    # 총 갯수를 합침\n",
    "    result = result.join(total_counts, on=col_name)\n",
    "    \n",
    "    # 출력 형식 조정\n",
    "    result.index.name = 'variable'\n",
    "    print(f\"\\n{col_name}별 {target_name} 비율 및 갯수\\n\")\n",
    "    print(result.rename(columns=lambda x: x.split('_')[0]))\n",
    "\n",
    "def summarize_group(df, group_by_columns):\n",
    "    \"\"\"\n",
    "    주어진 데이터프레임을 특정 열들로 그룹화하여 각 그룹의 '임신_성공_여부' 비율과 갯수를 요약하는 함수.\n",
    "\n",
    "    Parameters:\n",
    "    df (pd.DataFrame): 데이터프레임\n",
    "    group_by_columns (list): 그룹화할 열 이름들의 리스트\n",
    "    \"\"\"\n",
    "    # 데이터프레임을 그룹화\n",
    "    grouped_df = df.groupby(group_by_columns)\n",
    "    \n",
    "    # 결과를 저장할 리스트 초기화\n",
    "    results = []\n",
    "    \n",
    "    # 그룹화된 데이터프레임의 내용을 확인하는 코드\n",
    "    for name, group in grouped_df:\n",
    "        # 그룹의 갯수 계산\n",
    "        group_count = group.shape[0]\n",
    "        \n",
    "        # '임신_성공_여부' 변수의 '임신 성공' 비율과 갯수 계산\n",
    "        success_count = group['임신_성공_여부'].value_counts().get(1, 0)\n",
    "        success_ratio = success_count / group_count\n",
    "        \n",
    "        # 결과 리스트에 추가\n",
    "        results.append([name, success_count, success_ratio, group_count])\n",
    "    \n",
    "    # 결과 리스트를 데이터프레임으로 변환\n",
    "    results_df = pd.DataFrame(results, columns=['group', \"'임신_성공_여부' count\", 'ratio', 'Total'])\n",
    "    \n",
    "    # 그룹화된 변수들의 이름을 제목행으로 출력\n",
    "    print(f\"Grouped by: {', '.join(group_by_columns)}\")\n",
    "    print()\n",
    "    # 데이터프레임 출력\n",
    "    print(results_df)\n",
    "\n",
    "def plot_ratio(df, group_by_column, target_column='임신_성공_여부', success_value=1):\n",
    "    \"\"\"\n",
    "    주어진 데이터프레임을 특정 열로 그룹화하여 각 그룹의 타겟 변수의 성공 비율을 시각화하는 함수.\n",
    "\n",
    "    Parameters:\n",
    "    df (pd.DataFrame): 데이터프레임\n",
    "    group_by_column (str): 그룹화할 열 이름\n",
    "    target_column (str): 타겟 변수 이름\n",
    "    success_value (int): 타겟 변수의 성공을 나타내는 값\n",
    "    \"\"\"\n",
    "    # 데이터프레임을 그룹화\n",
    "    grouped_df = df.groupby(group_by_column)\n",
    "    \n",
    "    # 결과를 저장할 리스트 초기화\n",
    "    results = []\n",
    "    \n",
    "    # 그룹화된 데이터프레임의 내용을 확인하는 코드\n",
    "    for name, group in grouped_df:\n",
    "        # 그룹의 갯수 계산\n",
    "        group_count = group.shape[0]\n",
    "        \n",
    "        # '임신_성공_여부' 변수의 '성공' 비율과 갯수 계산\n",
    "        success_count = group[target_column].value_counts().get(success_value, 0)\n",
    "        success_ratio = success_count / group_count\n",
    "        \n",
    "        # 결과 리스트에 추가\n",
    "        results.append([name, success_count, success_ratio, group_count])\n",
    "    \n",
    "    # 결과 리스트를 데이터프레임으로 변환\n",
    "    results_df = pd.DataFrame(results, columns=['group', f\"'{success_value}' count\", 'ratio', 'Total'])\n",
    "    \n",
    "    # 그래프 크기 설정\n",
    "    plt.figure(figsize=(10, 5))\n",
    "    \n",
    "    # 막대 그래프 생성\n",
    "    ax = results_df.plot(kind='bar', x='group', y='ratio', legend=False)\n",
    "    \n",
    "    # 각 막대 위에 임신 성공 여부 갯수와 총 갯수 표시\n",
    "    for i, (success_count, total) in enumerate(zip(results_df[f\"'{success_value}' count\"], results_df['Total'])):\n",
    "        ax.text(i, results_df['ratio'][i], f'{success_count} ({total})', ha='center', va='bottom', fontsize=8)\n",
    "    \n",
    "    # 그래프 제목 및 축 레이블 설정\n",
    "    ax.set_title(f'{success_value} Ratio by {group_by_column}')\n",
    "    ax.set_xlabel(group_by_column)\n",
    "    ax.set_ylabel(f'{success_value} Ratio')\n",
    "   \n",
    "    # 그래프 출력\n",
    "    plt.show()\n",
    "\n",
    "def plot_ratio_boxplot(data, column_name, target_column='임신_성공_여부'):\n",
    "    \"\"\"\n",
    "    주어진 데이터프레임의 특정 열과 타겟 변수 간의 관계를 박스 플롯으로 시각화하는 함수.\n",
    "\n",
    "    Parameters:\n",
    "    data (pd.DataFrame): 데이터프레임\n",
    "    column_name (str): 열 이름\n",
    "    target_column (str): 타겟 변수 이름\n",
    "    \"\"\"\n",
    "\n",
    "    # 그래프 그리기\n",
    "    plt.figure(figsize=(10, 6))\n",
    "    sns.boxplot(x=column_name, y=target_column, data=data)\n",
    "\n",
    "    # 그래프 제목 및 레이블 설정\n",
    "    plt.title(f'{column_name} vs {target_column}')\n",
    "    plt.xlabel(column_name)\n",
    "    plt.ylabel(target_column)\n",
    "\n",
    "    # 그래프 출력\n",
    "    plt.show()"
   ]
  },
  {
   "cell_type": "markdown",
   "metadata": {},
   "source": [
    "### Data Load"
   ]
  },
  {
   "cell_type": "code",
   "execution_count": 160,
   "metadata": {},
   "outputs": [],
   "source": [
    "# 데이터 로드\n",
    "train = pd.read_csv('../data/train.csv')\n",
    "test = pd.read_csv('../data/test.csv')\n",
    "\n",
    "# 변수명에서 공백을 밑줄로 대체\n",
    "train.columns = train.columns.str.replace(' ', '_')\n",
    "test.columns = test.columns.str.replace(' ', '_')"
   ]
  },
  {
   "cell_type": "code",
   "execution_count": 161,
   "metadata": {},
   "outputs": [],
   "source": [
    "# train.info(verbose=True)"
   ]
  },
  {
   "cell_type": "markdown",
   "metadata": {},
   "source": [
    "## EDA"
   ]
  },
  {
   "cell_type": "code",
   "execution_count": 162,
   "metadata": {},
   "outputs": [],
   "source": [
    "# '시술_유형' 변수의 값이 'IVF'에 해당 안하는 데이터 추출\n",
    "IVF_train = train[train['시술_유형'] == 'IVF'] \n",
    "IVF_test = test[test['시술_유형'] == 'IVF']\n",
    "\n",
    "# 모든 값이 결측값인 변수를 제거\n",
    "IVF_train = IVF_train.dropna(axis=1, how='all')\n",
    "IVF_test = IVF_test.dropna(axis=1, how='all')\n",
    "\n",
    "# 결측값을 제외한 고유값이 1개인 변수 제거\n",
    "unique_value_columns_train = IVF_train.columns[IVF_train.nunique(dropna=True) <= 1]\n",
    "unique_value_columns_test = IVF_test.columns[IVF_test.nunique(dropna=True) <= 1]\n",
    "\n",
    "# 결측값이 없는 상태에서 고유값이 1개인 경우만 제거\n",
    "IVF_train = IVF_train.drop(columns=[col for col in unique_value_columns_train if IVF_train[col].notna().all()])\n",
    "IVF_test = IVF_test.drop(columns=[col for col in unique_value_columns_test if IVF_test[col].notna().all()])\n",
    "\n",
    "# 결과를 원래 변수에 저장\n",
    "train = IVF_train\n",
    "test = IVF_test"
   ]
  },
  {
   "cell_type": "markdown",
   "metadata": {},
   "source": [
    "타겟변수 비율 확인"
   ]
  },
  {
   "cell_type": "code",
   "execution_count": 163,
   "metadata": {},
   "outputs": [
    {
     "name": "stdout",
     "output_type": "stream",
     "text": [
      "임신_성공_여부 값 개수:\n",
      "임신_성공_여부\n",
      "0    184643\n",
      "1     65417\n",
      "Name: count, dtype: int64\n",
      "\n",
      "임신_성공_여부 값 비율 (%):\n",
      "임신_성공_여부\n",
      "0    73.839479\n",
      "1    26.160521\n",
      "Name: count, dtype: float64\n"
     ]
    }
   ],
   "source": [
    "# '임신_성공_여부' 변수의 값 개수 계산\n",
    "value_counts = train['임신_성공_여부'].value_counts()\n",
    "\n",
    "# 각 값이 전체에서 차지하는 비율 계산\n",
    "value_percentages = value_counts / len(train) * 100\n",
    "\n",
    "# 결과 출력\n",
    "print(\"임신_성공_여부 값 개수:\")\n",
    "print(value_counts)\n",
    "print(\"\\n임신_성공_여부 값 비율 (%):\")\n",
    "print(value_percentages)"
   ]
  },
  {
   "cell_type": "markdown",
   "metadata": {},
   "source": [
    "### 1. 시술_시기_코드"
   ]
  },
  {
   "cell_type": "markdown",
   "metadata": {},
   "source": [
    "난임 시술을 받은 시기를 기준으로 코드 부여"
   ]
  },
  {
   "cell_type": "code",
   "execution_count": 164,
   "metadata": {},
   "outputs": [
    {
     "name": "stdout",
     "output_type": "stream",
     "text": [
      "\n",
      "시술_시기_코드별 임신_성공_여부 비율 및 갯수\n",
      "\n",
      "                 0         1      0     1  Total\n",
      "variable                                        \n",
      "TRCMWS    0.739895  0.260105  27567  9691  37258\n",
      "TRDQAZ    0.751191  0.248809  28549  9456  38005\n",
      "TRJXFG    0.730081  0.269919  25693  9499  35192\n",
      "TRVNRY    0.736404  0.263596  25917  9277  35194\n",
      "TRXQMD    0.741403  0.258597  25161  8776  33937\n",
      "TRYBLT    0.727689  0.272311  26092  9764  35856\n",
      "TRZKPL    0.741348  0.258652  25664  8954  34618\n"
     ]
    }
   ],
   "source": [
    "value_counts_ratio(train, '시술_시기_코드')"
   ]
  },
  {
   "cell_type": "code",
   "execution_count": 165,
   "metadata": {},
   "outputs": [],
   "source": [
    "# '시술_시기_코드' 변수 제거\n",
    "train = train.drop(columns=['시술_시기_코드'])\n",
    "test = test.drop(columns=['시술_시기_코드'])"
   ]
  },
  {
   "cell_type": "markdown",
   "metadata": {},
   "source": [
    "### 2. 시술 당시 나이"
   ]
  },
  {
   "cell_type": "markdown",
   "metadata": {},
   "source": [
    "환자의 시술 당시 나이(연령대)"
   ]
  },
  {
   "cell_type": "code",
   "execution_count": 166,
   "metadata": {},
   "outputs": [
    {
     "data": {
      "text/plain": [
       "250060"
      ]
     },
     "execution_count": 166,
     "metadata": {},
     "output_type": "execute_result"
    }
   ],
   "source": [
    "len(train)"
   ]
  },
  {
   "cell_type": "code",
   "execution_count": 167,
   "metadata": {},
   "outputs": [
    {
     "name": "stdout",
     "output_type": "stream",
     "text": [
      "\n",
      "시술_당시_나이별 임신_성공_여부 비율 및 갯수\n",
      "\n",
      "                 0         1        0        1   Total\n",
      "variable                                              \n",
      "만18-34세   0.674737  0.325263  67747.0  32658.0  100405\n",
      "만35-37세   0.718321  0.281679  40463.0  15867.0   56330\n",
      "만38-39세   0.779704  0.220296  29780.0   8414.0   38194\n",
      "만40-42세   0.838043  0.161957  30431.0   5881.0   36312\n",
      "만43-44세   0.878486  0.121514  10396.0   1438.0   11834\n",
      "만45-50세   0.825871  0.174129   5497.0   1159.0    6656\n",
      "알 수 없음    1.000000  0.000000    329.0      0.0     329\n"
     ]
    }
   ],
   "source": [
    "value_counts_ratio(train, '시술_당시_나이')"
   ]
  },
  {
   "cell_type": "code",
   "execution_count": 168,
   "metadata": {},
   "outputs": [],
   "source": [
    "# 필요한 라이브러리 임포트\n",
    "import pandas as pd\n",
    "\n",
    "# '시술_당시_나이' 변수의 값이 '알 수 없음'인 행 제거\n",
    "train = train[train['시술_당시_나이'] != '알 수 없음']\n",
    "test = test[test['시술_당시_나이'] != '알 수 없음']"
   ]
  },
  {
   "cell_type": "code",
   "execution_count": 169,
   "metadata": {},
   "outputs": [],
   "source": [
    "# '시술_당시_나이' 변수의 값을 중앙값으로 변환하는 함수 정의\n",
    "def convert_age_category(age_category):\n",
    "    if age_category == '만18-34세':\n",
    "        return (18 + 34) / 2\n",
    "    elif age_category == '만35-37세':\n",
    "        return (35 + 37) / 2\n",
    "    elif age_category == '만38-39세':\n",
    "        return (38 + 39) / 2\n",
    "    elif age_category == '만40-42세':\n",
    "        return (40 + 42) / 2\n",
    "    elif age_category == '만43-44세':\n",
    "        return (43 + 44) / 2\n",
    "    elif age_category == '만45-50세':\n",
    "        return (45 + 50) / 2\n",
    "    else:\n",
    "        return None\n",
    "\n",
    "# '시술_당시_나이' 변수의 값을 중앙값으로 변환\n",
    "train['시술_당시_나이'] = train['시술_당시_나이'].apply(convert_age_category)\n",
    "test['시술_당시_나이'] = test['시술_당시_나이'].apply(convert_age_category)"
   ]
  },
  {
   "cell_type": "code",
   "execution_count": 170,
   "metadata": {},
   "outputs": [
    {
     "name": "stdout",
     "output_type": "stream",
     "text": [
      "\n",
      "시술_당시_나이별 임신_성공_여부 비율 및 갯수\n",
      "\n",
      "                 0         1      0      1   Total\n",
      "variable                                          \n",
      "26.0      0.674737  0.325263  67747  32658  100405\n",
      "36.0      0.718321  0.281679  40463  15867   56330\n",
      "38.5      0.779704  0.220296  29780   8414   38194\n",
      "41.0      0.838043  0.161957  30431   5881   36312\n",
      "43.5      0.878486  0.121514  10396   1438   11834\n",
      "47.5      0.825871  0.174129   5497   1159    6656\n"
     ]
    }
   ],
   "source": [
    "value_counts_ratio(train, '시술_당시_나이')"
   ]
  },
  {
   "cell_type": "markdown",
   "metadata": {},
   "source": [
    "### 3. 임신 시도 또는 마지막 임신 경과 일수"
   ]
  },
  {
   "cell_type": "markdown",
   "metadata": {},
   "source": [
    "환자가 처음 임신을 시도한 시점 또는 마지막 임신 이후 현재까지의 경과 연수 (년 단위)"
   ]
  },
  {
   "cell_type": "code",
   "execution_count": 171,
   "metadata": {},
   "outputs": [
    {
     "data": {
      "text/plain": [
       "249731"
      ]
     },
     "execution_count": 171,
     "metadata": {},
     "output_type": "execute_result"
    }
   ],
   "source": [
    "len(train)"
   ]
  },
  {
   "cell_type": "code",
   "execution_count": 172,
   "metadata": {},
   "outputs": [
    {
     "name": "stdout",
     "output_type": "stream",
     "text": [
      "\n",
      "임신_시도_또는_마지막_임신_경과_연수별 임신_성공_여부 비율 및 갯수\n",
      "\n",
      "                 0         1    0    1  Total\n",
      "variable                                     \n",
      "0.0       0.666667  0.333333    8    4     12\n",
      "1.0       0.500000  0.500000    2    2      4\n",
      "2.0       0.809524  0.190476   17    4     21\n",
      "3.0       0.762500  0.237500   61   19     80\n",
      "4.0       0.759322  0.240678  224   71    295\n",
      "5.0       0.753687  0.246313  511  167    678\n",
      "6.0       0.747126  0.252874  715  242    957\n",
      "7.0       0.765453  0.234547  904  277   1181\n",
      "8.0       0.782379  0.217621  888  247   1135\n",
      "9.0       0.790744  0.209256  786  208    994\n",
      "10.0      0.778384  0.221616  713  203    916\n",
      "11.0      0.808036  0.191964  543  129    672\n",
      "12.0      0.776639  0.223361  379  109    488\n",
      "13.0      0.835853  0.164147  387   76    463\n",
      "14.0      0.775701  0.224299  249   72    321\n",
      "15.0      0.791165  0.208835  197   52    249\n",
      "16.0      0.845771  0.154229  170   31    201\n",
      "17.0      0.820896  0.179104  110   24    134\n",
      "18.0      0.836538  0.163462   87   17    104\n",
      "19.0      0.855422  0.144578   71   12     83\n",
      "20.0      0.822785  0.177215   65   14     79\n"
     ]
    }
   ],
   "source": [
    "value_counts_ratio(train, '임신_시도_또는_마지막_임신_경과_연수')"
   ]
  },
  {
   "cell_type": "code",
   "execution_count": 173,
   "metadata": {},
   "outputs": [
    {
     "name": "stdout",
     "output_type": "stream",
     "text": [
      "결측값 개수: 240664\n",
      "결측값 개수: 0\n"
     ]
    }
   ],
   "source": [
    "print(\"결측값 개수:\", train['임신_시도_또는_마지막_임신_경과_연수'].isnull().sum())\n",
    "\n",
    "train['임신_시도_또는_마지막_임신_경과_연수'].fillna(-1, inplace=True)\n",
    "test['임신_시도_또는_마지막_임신_경과_연수'].fillna(-1, inplace=True)\n",
    "\n",
    "print(\"결측값 개수:\", train['임신_시도_또는_마지막_임신_경과_연수'].isnull().sum())"
   ]
  },
  {
   "cell_type": "code",
   "execution_count": 174,
   "metadata": {},
   "outputs": [
    {
     "name": "stdout",
     "output_type": "stream",
     "text": [
      "\n",
      "임신_시도_또는_마지막_임신_경과_연수별 임신_성공_여부 비율 및 갯수\n",
      "\n",
      "                 0         1       0      1   Total\n",
      "variable                                           \n",
      "-1.0      0.736408  0.263592  177227  63437  240664\n",
      " 0.0      0.666667  0.333333       8      4      12\n",
      " 1.0      0.500000  0.500000       2      2       4\n",
      " 2.0      0.809524  0.190476      17      4      21\n",
      " 3.0      0.762500  0.237500      61     19      80\n",
      " 4.0      0.759322  0.240678     224     71     295\n",
      " 5.0      0.753687  0.246313     511    167     678\n",
      " 6.0      0.747126  0.252874     715    242     957\n",
      " 7.0      0.765453  0.234547     904    277    1181\n",
      " 8.0      0.782379  0.217621     888    247    1135\n",
      " 9.0      0.790744  0.209256     786    208     994\n",
      " 10.0     0.778384  0.221616     713    203     916\n",
      " 11.0     0.808036  0.191964     543    129     672\n",
      " 12.0     0.776639  0.223361     379    109     488\n",
      " 13.0     0.835853  0.164147     387     76     463\n",
      " 14.0     0.775701  0.224299     249     72     321\n",
      " 15.0     0.791165  0.208835     197     52     249\n",
      " 16.0     0.845771  0.154229     170     31     201\n",
      " 17.0     0.820896  0.179104     110     24     134\n",
      " 18.0     0.836538  0.163462      87     17     104\n",
      " 19.0     0.855422  0.144578      71     12      83\n",
      " 20.0     0.822785  0.177215      65     14      79\n"
     ]
    }
   ],
   "source": [
    "value_counts_ratio(train, '임신_시도_또는_마지막_임신_경과_연수')"
   ]
  },
  {
   "cell_type": "markdown",
   "metadata": {},
   "source": [
    "### 5. 특정_시술_유형"
   ]
  },
  {
   "cell_type": "markdown",
   "metadata": {},
   "source": [
    "IVF – 체외 수정 (시험관 아기 시술)  \n",
    "ICSI – 세포질 내 정자 주입  \n",
    "IUI – 인공 수정 (자궁 내 주입)  \n",
    "BLASTOCYST – 배반포 단계에 이식  \n",
    "AH – 배아를 hatching 시켜주는 과정  \n",
    "Unknown – 시술 유형 정보가 제공되지 않았거나 알 수 없음  \n",
    "\n",
    "(*) 특수 기호의 의미  \n",
    "\"/\" – 복합적인 시술 방법을 의미 (예: ICSI / BLASTOCYST)  \n",
    "\":\" – 동일 시술 내 세부 조합을 의미 (예: ICSI:IVF)  "
   ]
  },
  {
   "cell_type": "code",
   "execution_count": 175,
   "metadata": {},
   "outputs": [
    {
     "name": "stdout",
     "output_type": "stream",
     "text": [
      "\n",
      "특정_시술_유형별 임신_성공_여부 비율 및 갯수\n",
      "\n",
      "                                            0         1        0        1  \\\n",
      "variable                                                                    \n",
      "FER                                  0.666667  0.333333      2.0      1.0   \n",
      "GIFT                                 1.000000  0.000000      1.0      0.0   \n",
      "ICSI                                 0.727151  0.272849  88972.0  33385.0   \n",
      "ICSI / AH                            0.782835  0.217165    602.0    167.0   \n",
      "ICSI / AH:Unknown                    0.500000  0.500000      1.0      1.0   \n",
      "ICSI / BLASTOCYST                    0.643257  0.356743   1035.0    574.0   \n",
      "ICSI / BLASTOCYST :ICSI              0.000000  1.000000      0.0      1.0   \n",
      "ICSI / BLASTOCYST :IVF / BLASTOCYST  0.750000  0.250000      3.0      1.0   \n",
      "ICSI / BLASTOCYST:IVF / BLASTOCYST   0.666667  0.333333      4.0      2.0   \n",
      "ICSI:ICSI                            0.990035  0.009965   2285.0     23.0   \n",
      "ICSI:IVF                             0.765178  0.234822    668.0    205.0   \n",
      "ICSI:Unknown                         0.898551  0.101449    186.0     21.0   \n",
      "IVF                                  0.737657  0.262343  67455.0  23990.0   \n",
      "IVF / AH                             0.815047  0.184953    260.0     59.0   \n",
      "IVF / AH:ICSI / AH                   1.000000  0.000000      2.0      0.0   \n",
      "IVF / BLASTOCYST                     0.633814  0.366186    791.0    457.0   \n",
      "IVF:ICSI                             0.716837  0.283163    281.0    111.0   \n",
      "IVF:IVF                              0.989520  0.010480   1133.0     12.0   \n",
      "IVF:Unknown                          0.830000  0.170000     83.0     17.0   \n",
      "Unknown                              0.762789  0.237211  20548.0   6390.0   \n",
      "\n",
      "                                      Total  \n",
      "variable                                     \n",
      "FER                                       3  \n",
      "GIFT                                      1  \n",
      "ICSI                                 122357  \n",
      "ICSI / AH                               769  \n",
      "ICSI / AH:Unknown                         2  \n",
      "ICSI / BLASTOCYST                      1609  \n",
      "ICSI / BLASTOCYST :ICSI                   1  \n",
      "ICSI / BLASTOCYST :IVF / BLASTOCYST       4  \n",
      "ICSI / BLASTOCYST:IVF / BLASTOCYST        6  \n",
      "ICSI:ICSI                              2308  \n",
      "ICSI:IVF                                873  \n",
      "ICSI:Unknown                            207  \n",
      "IVF                                   91445  \n",
      "IVF / AH                                319  \n",
      "IVF / AH:ICSI / AH                        2  \n",
      "IVF / BLASTOCYST                       1248  \n",
      "IVF:ICSI                                392  \n",
      "IVF:IVF                                1145  \n",
      "IVF:Unknown                             100  \n",
      "Unknown                               26938  \n"
     ]
    }
   ],
   "source": [
    "value_counts_ratio(train, '특정_시술_유형')"
   ]
  },
  {
   "cell_type": "code",
   "execution_count": 176,
   "metadata": {},
   "outputs": [
    {
     "data": {
      "text/plain": [
       "특정_시술_유형\n",
       "ICSI                                  43229\n",
       "IVF                                   32247\n",
       "Unknown                                9213\n",
       "ICSI:ICSI                               796\n",
       "ICSI / BLASTOCYST                       584\n",
       "IVF:IVF                                 405\n",
       "IVF / BLASTOCYST                        389\n",
       "ICSI:IVF                                298\n",
       "ICSI / AH                               264\n",
       "IVF:ICSI                                133\n",
       "IVF / AH                                105\n",
       "ICSI:Unknown                             68\n",
       "IVF:Unknown                              41\n",
       "ICSI / BLASTOCYST:IVF / BLASTOCYST        2\n",
       "IVF:Unknown:Unknown:Unknown               1\n",
       "Name: count, dtype: int64"
      ]
     },
     "execution_count": 176,
     "metadata": {},
     "output_type": "execute_result"
    }
   ],
   "source": [
    "test['특정_시술_유형'].value_counts()"
   ]
  },
  {
   "cell_type": "markdown",
   "metadata": {},
   "source": [
    "갯수 적은 특정 시술 유형 제거"
   ]
  },
  {
   "cell_type": "code",
   "execution_count": null,
   "metadata": {},
   "outputs": [],
   "source": [
    "# '특정_시술_유형' 변수의 값이 'FER' 또는 'GIFT'인 행 제거\n",
    "train = train.loc[~train['특정_시술_유형'].isin(['FER', 'GIFT'])]\n",
    "# test = test.loc[~test['특정_시술_유형'].isin(['FER', 'GIFT'])]"
   ]
  },
  {
   "cell_type": "code",
   "execution_count": 178,
   "metadata": {},
   "outputs": [],
   "source": [
    "# 시술 유형 변환 함수\n",
    "def transform_treatment(treatment):\n",
    "    if isinstance(treatment, str):  # treatment가 문자열인지 확인\n",
    "        if treatment.startswith(\"ICSI\"):\n",
    "            if \"AH\" in treatment:\n",
    "                return \"ICSI / AH\"\n",
    "            elif \"BLASTOCYST\" in treatment:\n",
    "                return \"ICSI / BLASTOCYST\"\n",
    "            return \"ICSI\"\n",
    "        elif treatment.startswith(\"IVF\"):\n",
    "            if \"AH\" in treatment:\n",
    "                return \"IVF / AH\"\n",
    "            elif \"BLASTOCYST\" in treatment:\n",
    "                return \"IVF / BLASTOCYST\"\n",
    "            return \"IVF\"\n",
    "    return treatment  # 기타 시술은 그대로 반환\n",
    "\n",
    "# 변환된 열 추가\n",
    "train['특정_시술_유형'] = train['특정_시술_유형'].apply(transform_treatment)\n",
    "test['특정_시술_유형'] = test['특정_시술_유형'].apply(transform_treatment)"
   ]
  },
  {
   "cell_type": "code",
   "execution_count": 179,
   "metadata": {},
   "outputs": [
    {
     "name": "stdout",
     "output_type": "stream",
     "text": [
      "\n",
      "특정_시술_유형별 임신_성공_여부 비율 및 갯수\n",
      "\n",
      "                          0         1      0      1   Total\n",
      "variable                                                   \n",
      "ICSI               0.732522  0.267478  92111  33634  125745\n",
      "ICSI / AH          0.782101  0.217899    603    168     771\n",
      "ICSI / BLASTOCYST  0.643210  0.356790   1042    578    1620\n",
      "IVF                0.740766  0.259234  68952  24130   93082\n",
      "IVF / AH           0.816199  0.183801    262     59     321\n",
      "IVF / BLASTOCYST   0.633814  0.366186    791    457    1248\n",
      "Unknown            0.762789  0.237211  20548   6390   26938\n"
     ]
    }
   ],
   "source": [
    "value_counts_ratio(train, '특정_시술_유형')"
   ]
  },
  {
   "cell_type": "code",
   "execution_count": 180,
   "metadata": {},
   "outputs": [
    {
     "data": {
      "text/plain": [
       "특정_시술_유형\n",
       "ICSI                 44391\n",
       "IVF                  32827\n",
       "Unknown               9213\n",
       "ICSI / BLASTOCYST      586\n",
       "IVF / BLASTOCYST       389\n",
       "ICSI / AH              264\n",
       "IVF / AH               105\n",
       "Name: count, dtype: int64"
      ]
     },
     "execution_count": 180,
     "metadata": {},
     "output_type": "execute_result"
    }
   ],
   "source": [
    "test['특정_시술_유형'].value_counts()"
   ]
  },
  {
   "cell_type": "code",
   "execution_count": 181,
   "metadata": {},
   "outputs": [],
   "source": [
    "# 더미 변수 생성 함수 정의\n",
    "def create_dummy(x, keyword):\n",
    "    if isinstance(x, str) and keyword in x:\n",
    "        return 1\n",
    "    else:\n",
    "        return 0\n",
    "\n",
    "# 더미 변수 생성\n",
    "train['특정_시술_유형_ICSI_더미'] = train['특정_시술_유형'].apply(lambda x: create_dummy(x, 'ICSI'))\n",
    "train['특정_시술_유형_AH_더미'] = train['특정_시술_유형'].apply(lambda x: create_dummy(x, 'AH'))\n",
    "train['특정_시술_유형_BLASTOCYST_더미'] = train['특정_시술_유형'].apply(lambda x: create_dummy(x, 'BLASTOCYST'))\n",
    "\n",
    "test['특정_시술_유형_ICSI_더미'] = test['특정_시술_유형'].apply(lambda x: create_dummy(x, 'ICSI'))\n",
    "test['특정_시술_유형_AH_더미'] = test['특정_시술_유형'].apply(lambda x: create_dummy(x, 'AH'))\n",
    "test['특정_시술_유형_BLASTOCYST_더미'] = test['특정_시술_유형'].apply(lambda x: create_dummy(x, 'BLASTOCYST'))"
   ]
  },
  {
   "cell_type": "code",
   "execution_count": 182,
   "metadata": {},
   "outputs": [
    {
     "name": "stdout",
     "output_type": "stream",
     "text": [
      "Grouped by: 특정_시술_유형, 특정_시술_유형_AH_더미, 특정_시술_유형_BLASTOCYST_더미\n",
      "\n",
      "                       group  '임신_성공_여부' count     ratio   Total\n",
      "0               (ICSI, 0, 0)             33634  0.267478  125745\n",
      "1          (ICSI / AH, 1, 0)               168  0.217899     771\n",
      "2  (ICSI / BLASTOCYST, 0, 1)               578  0.356790    1620\n",
      "3                (IVF, 0, 0)             24130  0.259234   93082\n",
      "4           (IVF / AH, 1, 0)                59  0.183801     321\n",
      "5   (IVF / BLASTOCYST, 0, 1)               457  0.366186    1248\n",
      "6            (Unknown, 0, 0)              6390  0.237211   26938\n"
     ]
    }
   ],
   "source": [
    "summarize_group(train, ['특정_시술_유형',\n",
    "                        '특정_시술_유형_AH_더미',\n",
    "                        '특정_시술_유형_BLASTOCYST_더미'])"
   ]
  },
  {
   "cell_type": "markdown",
   "metadata": {},
   "source": [
    "### 6. 배란_자극_여부"
   ]
  },
  {
   "cell_type": "markdown",
   "metadata": {},
   "source": [
    "배란 자극 치료가 사용되었는지 여부"
   ]
  },
  {
   "cell_type": "code",
   "execution_count": 183,
   "metadata": {},
   "outputs": [
    {
     "name": "stdout",
     "output_type": "stream",
     "text": [
      "\n",
      "배란_자극_여부별 임신_성공_여부 비율 및 갯수\n",
      "\n",
      "                 0         1       0      1   Total\n",
      "variable                                           \n",
      "0         0.762168  0.237832   42391  13228   55619\n",
      "1         0.731139  0.268861  141920  52188  194108\n"
     ]
    }
   ],
   "source": [
    "value_counts_ratio(train, '배란_자극_여부')"
   ]
  },
  {
   "cell_type": "markdown",
   "metadata": {},
   "source": [
    "### 7. 배란_유도_유형"
   ]
  },
  {
   "cell_type": "markdown",
   "metadata": {},
   "source": [
    "사용된 배란 유도 방법 유형"
   ]
  },
  {
   "cell_type": "code",
   "execution_count": 184,
   "metadata": {},
   "outputs": [
    {
     "name": "stdout",
     "output_type": "stream",
     "text": [
      "\n",
      "배란_유도_유형별 임신_성공_여부 비율 및 갯수\n",
      "\n",
      "                     0         1         0        1   Total\n",
      "variable                                                   \n",
      "기록되지 않은 시행    0.731142  0.268858  141919.0  52187.0  194106\n",
      "생식선 자극 호르몬    0.000000  1.000000       0.0      1.0       1\n",
      "세트로타이드 (억제제)  1.000000  0.000000       1.0      0.0       1\n",
      "알 수 없음        0.762168  0.237832   42391.0  13228.0   55619\n"
     ]
    }
   ],
   "source": [
    "value_counts_ratio(train, '배란_유도_유형')"
   ]
  },
  {
   "cell_type": "code",
   "execution_count": 185,
   "metadata": {},
   "outputs": [
    {
     "data": {
      "text/plain": [
       "배란_유도_유형\n",
       "기록되지 않은 시행    68494\n",
       "알 수 없음        19281\n",
       "Name: count, dtype: int64"
      ]
     },
     "execution_count": 185,
     "metadata": {},
     "output_type": "execute_result"
    }
   ],
   "source": [
    "test['배란_유도_유형'].value_counts()"
   ]
  },
  {
   "cell_type": "code",
   "execution_count": 186,
   "metadata": {},
   "outputs": [],
   "source": [
    "# 갯수 적은 배란 유도 유형 제거\n",
    "train = train.loc[~train['배란_유도_유형'].isin(['생식선 자극 호르몬', '세트로타이드 (억제제)'])]\n",
    "test = test.loc[~test['배란_유도_유형'].isin(['생식선 자극 호르몬', '세트로타이드 (억제제)'])]"
   ]
  },
  {
   "cell_type": "code",
   "execution_count": 187,
   "metadata": {},
   "outputs": [
    {
     "name": "stdout",
     "output_type": "stream",
     "text": [
      "\n",
      "배란_유도_유형별 임신_성공_여부 비율 및 갯수\n",
      "\n",
      "                   0         1       0      1   Total\n",
      "variable                                             \n",
      "기록되지 않은 시행  0.731142  0.268858  141919  52187  194106\n",
      "알 수 없음      0.762168  0.237832   42391  13228   55619\n"
     ]
    }
   ],
   "source": [
    "value_counts_ratio(train, '배란_유도_유형')"
   ]
  },
  {
   "cell_type": "code",
   "execution_count": 188,
   "metadata": {},
   "outputs": [],
   "source": [
    "train= train.drop(columns=['배란_유도_유형'])\n",
    "test = test.drop(columns=['배란_유도_유형'])"
   ]
  },
  {
   "cell_type": "markdown",
   "metadata": {},
   "source": [
    "### 8. 단일_배아_이식_여부"
   ]
  },
  {
   "cell_type": "markdown",
   "metadata": {},
   "source": [
    "선택적으로 단일 배아를 이식했는지 여부"
   ]
  },
  {
   "cell_type": "code",
   "execution_count": 189,
   "metadata": {},
   "outputs": [
    {
     "name": "stdout",
     "output_type": "stream",
     "text": [
      "\n",
      "단일_배아_이식_여부별 임신_성공_여부 비율 및 갯수\n",
      "\n",
      "                 0         1       0      1   Total\n",
      "variable                                           \n",
      "0.0       0.770177  0.229823  147368  43975  191343\n",
      "1.0       0.632764  0.367236   36942  21440   58382\n"
     ]
    }
   ],
   "source": [
    "value_counts_ratio(train, '단일_배아_이식_여부')"
   ]
  },
  {
   "cell_type": "markdown",
   "metadata": {},
   "source": [
    "### 9. 착상_전_유전_검사_사용_여부"
   ]
  },
  {
   "cell_type": "markdown",
   "metadata": {},
   "source": [
    "PGS(착상 전 유전 검사)가 시행되었는지 여부"
   ]
  },
  {
   "cell_type": "code",
   "execution_count": 190,
   "metadata": {},
   "outputs": [
    {
     "name": "stdout",
     "output_type": "stream",
     "text": [
      "\n",
      "착상_전_유전_검사_사용_여부별 임신_성공_여부 비율 및 갯수\n",
      "\n",
      "                 0         1     0    1  Total\n",
      "variable                                      \n",
      "1.0       0.851729  0.148271  2315  403   2718\n"
     ]
    }
   ],
   "source": [
    "value_counts_ratio(train, '착상_전_유전_검사_사용_여부')"
   ]
  },
  {
   "cell_type": "code",
   "execution_count": 191,
   "metadata": {},
   "outputs": [
    {
     "name": "stdout",
     "output_type": "stream",
     "text": [
      "결측값 개수: 247007\n",
      "결측값 개수: 0\n"
     ]
    }
   ],
   "source": [
    "# 결측값 개수 확인\n",
    "print(\"결측값 개수:\", train['착상_전_유전_검사_사용_여부'].isnull().sum())\n",
    "\n",
    "# 결측값을 0으로 채우기\n",
    "train['착상_전_유전_검사_사용_여부'].fillna(0, inplace=True)\n",
    "test['착상_전_유전_검사_사용_여부'].fillna(0, inplace=True)\n",
    "\n",
    "# 결측값 개수 확인\n",
    "print(\"결측값 개수:\", train['착상_전_유전_검사_사용_여부'].isnull().sum())"
   ]
  },
  {
   "cell_type": "markdown",
   "metadata": {},
   "source": [
    "### 10. 착상_전_유전_진단_사용_여부"
   ]
  },
  {
   "cell_type": "markdown",
   "metadata": {},
   "source": [
    "PGD(착상 전 유전 진단)가 시행되었는지 여부"
   ]
  },
  {
   "cell_type": "code",
   "execution_count": 192,
   "metadata": {},
   "outputs": [
    {
     "name": "stdout",
     "output_type": "stream",
     "text": [
      "\n",
      "착상_전_유전_진단_사용_여부별 임신_성공_여부 비율 및 갯수\n",
      "\n",
      "                 0         1       0      1   Total\n",
      "variable                                           \n",
      "0.0       0.737147  0.262853  181728  64801  246529\n",
      "1.0       0.807885  0.192115    2582    614    3196\n"
     ]
    }
   ],
   "source": [
    "value_counts_ratio(train, '착상_전_유전_진단_사용_여부')"
   ]
  },
  {
   "cell_type": "code",
   "execution_count": 193,
   "metadata": {},
   "outputs": [
    {
     "name": "stdout",
     "output_type": "stream",
     "text": [
      "Grouped by: 착상_전_유전_진단_사용_여부, 착상_전_유전_검사_사용_여부\n",
      "\n",
      "        group  '임신_성공_여부' count     ratio   Total\n",
      "0  (0.0, 0.0)             64400  0.264111  243837\n",
      "1  (0.0, 1.0)               401  0.148960    2692\n",
      "2  (1.0, 0.0)               612  0.193060    3170\n",
      "3  (1.0, 1.0)                 2  0.076923      26\n"
     ]
    }
   ],
   "source": [
    "summarize_group(train, [\n",
    "    '착상_전_유전_진단_사용_여부',\n",
    "     '착상_전_유전_검사_사용_여부'\n",
    "     ])"
   ]
  },
  {
   "cell_type": "markdown",
   "metadata": {},
   "source": [
    "### 11. 남성_주_불임_원인"
   ]
  },
  {
   "cell_type": "markdown",
   "metadata": {},
   "source": [
    "남성의 주요 불임 원인 여부"
   ]
  },
  {
   "cell_type": "code",
   "execution_count": 194,
   "metadata": {},
   "outputs": [
    {
     "name": "stdout",
     "output_type": "stream",
     "text": [
      "\n",
      "남성_주_불임_원인별 임신_성공_여부 비율 및 갯수\n",
      "\n",
      "                 0         1       0      1   Total\n",
      "variable                                           \n",
      "0         0.736864  0.263136  178839  63864  242703\n",
      "1         0.779123  0.220877    5471   1551    7022\n"
     ]
    }
   ],
   "source": [
    "value_counts_ratio(train, '남성_주_불임_원인')"
   ]
  },
  {
   "cell_type": "markdown",
   "metadata": {},
   "source": [
    "### 12. 남성_부_불임_원인"
   ]
  },
  {
   "cell_type": "markdown",
   "metadata": {},
   "source": [
    "남성의 부차적 불임 원인 여부"
   ]
  },
  {
   "cell_type": "code",
   "execution_count": 195,
   "metadata": {},
   "outputs": [
    {
     "name": "stdout",
     "output_type": "stream",
     "text": [
      "\n",
      "남성_부_불임_원인별 임신_성공_여부 비율 및 갯수\n",
      "\n",
      "                 0         1       0      1   Total\n",
      "variable                                           \n",
      "0         0.737240  0.262760  181720  64767  246487\n",
      "1         0.799876  0.200124    2590    648    3238\n"
     ]
    }
   ],
   "source": [
    "value_counts_ratio(train, '남성_부_불임_원인')"
   ]
  },
  {
   "cell_type": "code",
   "execution_count": 196,
   "metadata": {},
   "outputs": [
    {
     "name": "stdout",
     "output_type": "stream",
     "text": [
      "Grouped by: 남성_주_불임_원인, 남성_부_불임_원인\n",
      "\n",
      "    group  '임신_성공_여부' count     ratio   Total\n",
      "0  (0, 0)             63216  0.263985  239468\n",
      "1  (0, 1)               648  0.200309    3235\n",
      "2  (1, 0)              1551  0.220972    7019\n",
      "3  (1, 1)                 0  0.000000       3\n"
     ]
    }
   ],
   "source": [
    "summarize_group(train, ['남성_주_불임_원인', '남성_부_불임_원인'])"
   ]
  },
  {
   "cell_type": "markdown",
   "metadata": {},
   "source": [
    "### 13. 여성_주_불임_원인"
   ]
  },
  {
   "cell_type": "markdown",
   "metadata": {},
   "source": [
    "여성의 주요 불임 원인 여부"
   ]
  },
  {
   "cell_type": "code",
   "execution_count": 197,
   "metadata": {},
   "outputs": [
    {
     "name": "stdout",
     "output_type": "stream",
     "text": [
      "\n",
      "여성_주_불임_원인별 임신_성공_여부 비율 및 갯수\n",
      "\n",
      "                 0         1       0      1   Total\n",
      "variable                                           \n",
      "0         0.736813  0.263187  178498  63759  242257\n",
      "1         0.778254  0.221746    5812   1656    7468\n"
     ]
    }
   ],
   "source": [
    "value_counts_ratio(train, '여성_주_불임_원인')"
   ]
  },
  {
   "cell_type": "markdown",
   "metadata": {},
   "source": [
    "### 14. 여성_부_불임_원인"
   ]
  },
  {
   "cell_type": "markdown",
   "metadata": {},
   "source": [
    "여성의 부차적 불임 원인 여부"
   ]
  },
  {
   "cell_type": "code",
   "execution_count": 198,
   "metadata": {},
   "outputs": [
    {
     "name": "stdout",
     "output_type": "stream",
     "text": [
      "\n",
      "여성_부_불임_원인별 임신_성공_여부 비율 및 갯수\n",
      "\n",
      "                 0         1       0      1   Total\n",
      "variable                                           \n",
      "0         0.737258  0.262742  181858  64810  246668\n",
      "1         0.802094  0.197906    2452    605    3057\n"
     ]
    }
   ],
   "source": [
    "value_counts_ratio(train, '여성_부_불임_원인')"
   ]
  },
  {
   "cell_type": "code",
   "execution_count": 199,
   "metadata": {},
   "outputs": [
    {
     "name": "stdout",
     "output_type": "stream",
     "text": [
      "Grouped by: 여성_주_불임_원인, 여성_부_불임_원인\n",
      "\n",
      "    group  '임신_성공_여부' count     ratio   Total\n",
      "0  (0, 0)             63156  0.264022  239207\n",
      "1  (0, 1)               603  0.197705    3050\n",
      "2  (1, 0)              1654  0.221686    7461\n",
      "3  (1, 1)                 2  0.285714       7\n"
     ]
    }
   ],
   "source": [
    "summarize_group(train, ['여성_주_불임_원인', '여성_부_불임_원인'])"
   ]
  },
  {
   "cell_type": "markdown",
   "metadata": {},
   "source": [
    "### 15. 부부_주_불임_원인"
   ]
  },
  {
   "cell_type": "markdown",
   "metadata": {},
   "source": [
    "부부의 주요 불임 원인 여부"
   ]
  },
  {
   "cell_type": "code",
   "execution_count": 200,
   "metadata": {},
   "outputs": [
    {
     "name": "stdout",
     "output_type": "stream",
     "text": [
      "\n",
      "부부_주_불임_원인별 임신_성공_여부 비율 및 갯수\n",
      "\n",
      "                 0         1       0      1   Total\n",
      "variable                                           \n",
      "0         0.736695  0.263305  177998  63619  241617\n",
      "1         0.778490  0.221510    6312   1796    8108\n"
     ]
    }
   ],
   "source": [
    "value_counts_ratio(train, '부부_주_불임_원인')"
   ]
  },
  {
   "cell_type": "markdown",
   "metadata": {},
   "source": [
    "### 16. 부부_부_불임_원인"
   ]
  },
  {
   "cell_type": "markdown",
   "metadata": {},
   "source": [
    "부부의 부차적 불임 원인 여부"
   ]
  },
  {
   "cell_type": "code",
   "execution_count": 201,
   "metadata": {},
   "outputs": [
    {
     "name": "stdout",
     "output_type": "stream",
     "text": [
      "\n",
      "부부_부_불임_원인별 임신_성공_여부 비율 및 갯수\n",
      "\n",
      "                 0         1       0      1   Total\n",
      "variable                                           \n",
      "0         0.737404  0.262596  182540  65004  247544\n",
      "1         0.811554  0.188446    1770    411    2181\n"
     ]
    }
   ],
   "source": [
    "value_counts_ratio(train, '부부_부_불임_원인')"
   ]
  },
  {
   "cell_type": "code",
   "execution_count": 202,
   "metadata": {},
   "outputs": [
    {
     "name": "stdout",
     "output_type": "stream",
     "text": [
      "Grouped by: 부부_주_불임_원인, 부부_부_불임_원인\n",
      "\n",
      "    group  '임신_성공_여부' count     ratio   Total\n",
      "0  (0, 0)             63208  0.263982  239441\n",
      "1  (0, 1)               411  0.188879    2176\n",
      "2  (1, 0)              1796  0.221646    8103\n",
      "3  (1, 1)                 0  0.000000       5\n"
     ]
    }
   ],
   "source": [
    "summarize_group(train, ['부부_주_불임_원인', '부부_부_불임_원인'])"
   ]
  },
  {
   "cell_type": "code",
   "execution_count": 203,
   "metadata": {},
   "outputs": [
    {
     "data": {
      "text/html": [
       "<div>\n",
       "<style scoped>\n",
       "    .dataframe tbody tr th:only-of-type {\n",
       "        vertical-align: middle;\n",
       "    }\n",
       "\n",
       "    .dataframe tbody tr th {\n",
       "        vertical-align: top;\n",
       "    }\n",
       "\n",
       "    .dataframe thead th {\n",
       "        text-align: right;\n",
       "    }\n",
       "</style>\n",
       "<table border=\"1\" class=\"dataframe\">\n",
       "  <thead>\n",
       "    <tr style=\"text-align: right;\">\n",
       "      <th></th>\n",
       "      <th>부부_주_불임_원인</th>\n",
       "      <th>부부_부_불임_원인</th>\n",
       "      <th>count</th>\n",
       "    </tr>\n",
       "  </thead>\n",
       "  <tbody>\n",
       "    <tr>\n",
       "      <th>0</th>\n",
       "      <td>0</td>\n",
       "      <td>0</td>\n",
       "      <td>84138</td>\n",
       "    </tr>\n",
       "    <tr>\n",
       "      <th>1</th>\n",
       "      <td>0</td>\n",
       "      <td>1</td>\n",
       "      <td>751</td>\n",
       "    </tr>\n",
       "    <tr>\n",
       "      <th>2</th>\n",
       "      <td>1</td>\n",
       "      <td>0</td>\n",
       "      <td>2883</td>\n",
       "    </tr>\n",
       "    <tr>\n",
       "      <th>3</th>\n",
       "      <td>1</td>\n",
       "      <td>1</td>\n",
       "      <td>3</td>\n",
       "    </tr>\n",
       "  </tbody>\n",
       "</table>\n",
       "</div>"
      ],
      "text/plain": [
       "   부부_주_불임_원인  부부_부_불임_원인  count\n",
       "0           0           0  84138\n",
       "1           0           1    751\n",
       "2           1           0   2883\n",
       "3           1           1      3"
      ]
     },
     "execution_count": 203,
     "metadata": {},
     "output_type": "execute_result"
    }
   ],
   "source": [
    "# 두 변수에 대해 그룹별 갯수 카운팅\n",
    "test.groupby(['부부_주_불임_원인', '부부_부_불임_원인']).size().reset_index(name='count')"
   ]
  },
  {
   "cell_type": "markdown",
   "metadata": {},
   "source": [
    "### 17. 불명확_불임_원인"
   ]
  },
  {
   "cell_type": "markdown",
   "metadata": {},
   "source": [
    "불명의 원인으로 인한 불임 여부"
   ]
  },
  {
   "cell_type": "code",
   "execution_count": 204,
   "metadata": {},
   "outputs": [
    {
     "name": "stdout",
     "output_type": "stream",
     "text": [
      "\n",
      "불명확_불임_원인별 임신_성공_여부 비율 및 갯수\n",
      "\n",
      "                 0         1       0      1   Total\n",
      "variable                                           \n",
      "0         0.737626  0.262374  137146  48783  185929\n",
      "1         0.739294  0.260706   47164  16632   63796\n"
     ]
    }
   ],
   "source": [
    "value_counts_ratio(train, '불명확_불임_원인')"
   ]
  },
  {
   "cell_type": "markdown",
   "metadata": {},
   "source": [
    "### 18. 불임_원인_-_난관_질환"
   ]
  },
  {
   "cell_type": "markdown",
   "metadata": {},
   "source": [
    "난관 이상으로 인한 불임 여부"
   ]
  },
  {
   "cell_type": "code",
   "execution_count": 205,
   "metadata": {},
   "outputs": [
    {
     "name": "stdout",
     "output_type": "stream",
     "text": [
      "\n",
      "불임_원인_-_난관_질환별 임신_성공_여부 비율 및 갯수\n",
      "\n",
      "                 0         1       0      1   Total\n",
      "variable                                           \n",
      "0         0.737422  0.262578  157989  56256  214245\n",
      "1         0.741855  0.258145   26321   9159   35480\n"
     ]
    }
   ],
   "source": [
    "value_counts_ratio(train, '불임_원인_-_난관_질환')"
   ]
  },
  {
   "cell_type": "markdown",
   "metadata": {},
   "source": [
    "### 19. 불임_원인_-_남성_요인"
   ]
  },
  {
   "cell_type": "markdown",
   "metadata": {},
   "source": [
    "남성 요인으로 인한 불임 여부"
   ]
  },
  {
   "cell_type": "code",
   "execution_count": 206,
   "metadata": {},
   "outputs": [
    {
     "name": "stdout",
     "output_type": "stream",
     "text": [
      "\n",
      "불임_원인_-_남성_요인별 임신_성공_여부 비율 및 갯수\n",
      "\n",
      "                 0         1       0      1   Total\n",
      "variable                                           \n",
      "0         0.750845  0.249155  117990  39153  157143\n",
      "1         0.716338  0.283662   66320  26262   92582\n"
     ]
    }
   ],
   "source": [
    "value_counts_ratio(train, '불임_원인_-_남성_요인')"
   ]
  },
  {
   "cell_type": "markdown",
   "metadata": {},
   "source": [
    "### 20. 불임_원인_-_배란_장애"
   ]
  },
  {
   "cell_type": "markdown",
   "metadata": {},
   "source": [
    "배란 장애로 인한 불임 여부"
   ]
  },
  {
   "cell_type": "code",
   "execution_count": 207,
   "metadata": {},
   "outputs": [
    {
     "name": "stdout",
     "output_type": "stream",
     "text": [
      "\n",
      "불임_원인_-_배란_장애별 임신_성공_여부 비율 및 갯수\n",
      "\n",
      "                 0         1       0      1   Total\n",
      "variable                                           \n",
      "0         0.742091  0.257909  160797  55884  216681\n",
      "1         0.711566  0.288434   23513   9531   33044\n"
     ]
    }
   ],
   "source": [
    "value_counts_ratio(train, '불임_원인_-_배란_장애')"
   ]
  },
  {
   "cell_type": "markdown",
   "metadata": {},
   "source": [
    "### 22. 불임_원인_-_자궁경부_문제"
   ]
  },
  {
   "cell_type": "markdown",
   "metadata": {},
   "source": [
    "자궁경부 이상으로 인한 불임 여부"
   ]
  },
  {
   "cell_type": "code",
   "execution_count": 208,
   "metadata": {},
   "outputs": [
    {
     "name": "stdout",
     "output_type": "stream",
     "text": [
      "\n",
      "불임_원인_-_자궁경부_문제별 임신_성공_여부 비율 및 갯수\n",
      "\n",
      "                 0         1         0        1   Total\n",
      "variable                                               \n",
      "0         0.738041  0.261959  184300.0  65415.0  249715\n",
      "1         1.000000  0.000000      10.0      0.0      10\n"
     ]
    }
   ],
   "source": [
    "value_counts_ratio(train, '불임_원인_-_자궁경부_문제')"
   ]
  },
  {
   "cell_type": "code",
   "execution_count": 209,
   "metadata": {},
   "outputs": [],
   "source": [
    "# 행 제거\n",
    "train = train[train['불임_원인_-_자궁경부_문제'] != 1]\n",
    "test = test[test['불임_원인_-_자궁경부_문제'] != 1]"
   ]
  },
  {
   "cell_type": "code",
   "execution_count": 210,
   "metadata": {},
   "outputs": [],
   "source": [
    "train = train.drop(columns=['불임_원인_-_자궁경부_문제'])\n",
    "test = test.drop(columns=['불임_원인_-_자궁경부_문제'])"
   ]
  },
  {
   "cell_type": "markdown",
   "metadata": {},
   "source": [
    "### 23. 불임_원인_-_자궁내막증"
   ]
  },
  {
   "cell_type": "markdown",
   "metadata": {},
   "source": [
    "자궁내막증으로 인한 불임 여부"
   ]
  },
  {
   "cell_type": "code",
   "execution_count": 211,
   "metadata": {},
   "outputs": [
    {
     "name": "stdout",
     "output_type": "stream",
     "text": [
      "\n",
      "불임_원인_-_자궁내막증별 임신_성공_여부 비율 및 갯수\n",
      "\n",
      "                 0         1       0      1   Total\n",
      "variable                                           \n",
      "0         0.737609  0.262391  170814  60764  231578\n",
      "1         0.743563  0.256437   13486   4651   18137\n"
     ]
    }
   ],
   "source": [
    "value_counts_ratio(train, '불임_원인_-_자궁내막증')"
   ]
  },
  {
   "cell_type": "markdown",
   "metadata": {},
   "source": [
    "### 24. 불임_원인_-_정자_농도"
   ]
  },
  {
   "cell_type": "markdown",
   "metadata": {},
   "source": [
    "파트너의 정자 농도 문제 여부"
   ]
  },
  {
   "cell_type": "code",
   "execution_count": 212,
   "metadata": {},
   "outputs": [
    {
     "name": "stdout",
     "output_type": "stream",
     "text": [
      "\n",
      "불임_원인_-_정자_농도별 임신_성공_여부 비율 및 갯수\n",
      "\n",
      "                 0         1       0      1   Total\n",
      "variable                                           \n",
      "0         0.738037  0.261963  184124  65354  249478\n",
      "1         0.742616  0.257384     176     61     237\n"
     ]
    }
   ],
   "source": [
    "value_counts_ratio(train, '불임_원인_-_정자_농도')"
   ]
  },
  {
   "cell_type": "markdown",
   "metadata": {},
   "source": [
    "### 25. 불임_원인_-_정자_면역학적_요인"
   ]
  },
  {
   "cell_type": "markdown",
   "metadata": {},
   "source": [
    "파트너의 정자 면역 관련 문제 여부"
   ]
  },
  {
   "cell_type": "code",
   "execution_count": 213,
   "metadata": {},
   "outputs": [
    {
     "name": "stdout",
     "output_type": "stream",
     "text": [
      "\n",
      "불임_원인_-_정자_면역학적_요인별 임신_성공_여부 비율 및 갯수\n",
      "\n",
      "                0        1         0        1   Total\n",
      "variable                                             \n",
      "0         0.73804  0.26196  184299.0  65415.0  249714\n",
      "1         1.00000  0.00000       1.0      0.0       1\n"
     ]
    }
   ],
   "source": [
    "value_counts_ratio(train, '불임_원인_-_정자_면역학적_요인')"
   ]
  },
  {
   "cell_type": "code",
   "execution_count": 214,
   "metadata": {},
   "outputs": [
    {
     "data": {
      "text/plain": [
       "불임_원인_-_정자_면역학적_요인\n",
       "0    87770\n",
       "1        1\n",
       "Name: count, dtype: int64"
      ]
     },
     "execution_count": 214,
     "metadata": {},
     "output_type": "execute_result"
    }
   ],
   "source": [
    "test['불임_원인_-_정자_면역학적_요인'].value_counts()"
   ]
  },
  {
   "cell_type": "code",
   "execution_count": 215,
   "metadata": {},
   "outputs": [],
   "source": [
    "# 행 제거\n",
    "train = train[train['불임_원인_-_정자_면역학적_요인'] != 1]\n",
    "test = test[test['불임_원인_-_정자_면역학적_요인'] != 1]"
   ]
  },
  {
   "cell_type": "code",
   "execution_count": 216,
   "metadata": {},
   "outputs": [],
   "source": [
    "train = train.drop(columns=['불임_원인_-_정자_면역학적_요인'])\n",
    "test = test.drop(columns=['불임_원인_-_정자_면역학적_요인'])"
   ]
  },
  {
   "cell_type": "markdown",
   "metadata": {},
   "source": [
    "### 26. 불임_원인_-_정자_운동성"
   ]
  },
  {
   "cell_type": "markdown",
   "metadata": {},
   "source": [
    "파트너의 정자 운동성 문제 여부"
   ]
  },
  {
   "cell_type": "code",
   "execution_count": 217,
   "metadata": {},
   "outputs": [
    {
     "name": "stdout",
     "output_type": "stream",
     "text": [
      "\n",
      "불임_원인_-_정자_운동성별 임신_성공_여부 비율 및 갯수\n",
      "\n",
      "                 0         1       0      1   Total\n",
      "variable                                           \n",
      "0         0.738007  0.261993  184219  65398  249617\n",
      "1         0.824742  0.175258      80     17      97\n"
     ]
    }
   ],
   "source": [
    "value_counts_ratio(train, '불임_원인_-_정자_운동성')"
   ]
  },
  {
   "cell_type": "markdown",
   "metadata": {},
   "source": [
    "### 27. 불임_원인_-_정자_형태"
   ]
  },
  {
   "cell_type": "markdown",
   "metadata": {},
   "source": [
    "파트너의 정자 형태 문제 여부"
   ]
  },
  {
   "cell_type": "code",
   "execution_count": 218,
   "metadata": {},
   "outputs": [
    {
     "name": "stdout",
     "output_type": "stream",
     "text": [
      "\n",
      "불임_원인_-_정자_형태별 임신_성공_여부 비율 및 갯수\n",
      "\n",
      "                 0         1       0      1   Total\n",
      "variable                                           \n",
      "0         0.738021  0.261979  184190  65383  249573\n",
      "1         0.773050  0.226950     109     32     141\n"
     ]
    }
   ],
   "source": [
    "value_counts_ratio(train, '불임_원인_-_정자_형태')"
   ]
  },
  {
   "cell_type": "markdown",
   "metadata": {},
   "source": [
    "### 28. 배아_생성_주요_이유"
   ]
  },
  {
   "cell_type": "markdown",
   "metadata": {},
   "source": [
    "배아 생성의 주된 목적(시술, 보관 등)"
   ]
  },
  {
   "cell_type": "code",
   "execution_count": 219,
   "metadata": {},
   "outputs": [
    {
     "name": "stdout",
     "output_type": "stream",
     "text": [
      "\n",
      "배아_생성_주요_이유별 임신_성공_여부 비율 및 갯수\n",
      "\n",
      "                            0         1         0        1   Total\n",
      "variable                                                          \n",
      "기증용                  1.000000  0.000000     794.0      0.0     794\n",
      "기증용, 난자 저장용          1.000000  0.000000      42.0      0.0      42\n",
      "기증용, 배아 저장용          1.000000  0.000000     112.0      0.0     112\n",
      "기증용, 배아 저장용, 현재 시술용  0.650000  0.350000      13.0      7.0      20\n",
      "기증용, 현재 시술용          0.620143  0.379857    2346.0   1437.0    3783\n",
      "난자 저장용               1.000000  0.000000    1959.0      0.0    1959\n",
      "난자 저장용, 배아 저장용       1.000000  0.000000       6.0      0.0       6\n",
      "난자 저장용, 배아 저장용, 연구용  1.000000  0.000000       1.0      0.0       1\n",
      "난자 저장용, 현재 시술용       0.800000  0.200000       4.0      1.0       5\n",
      "배아 저장용               0.999130  0.000870    9183.0      8.0    9191\n",
      "배아 저장용, 현재 시술용       0.734940  0.265060      61.0     22.0      83\n",
      "연구용, 현재 시술용          1.000000  0.000000       1.0      0.0       1\n",
      "현재 시술용               0.726421  0.273579  169777.0  63940.0  233717\n"
     ]
    }
   ],
   "source": [
    "value_counts_ratio(train, '배아_생성_주요_이유')"
   ]
  },
  {
   "cell_type": "code",
   "execution_count": 220,
   "metadata": {},
   "outputs": [],
   "source": [
    "# '연구용'이라는 값이 포함된 행 삭제\n",
    "train = train[~train['배아_생성_주요_이유'].str.contains('연구용', na=False)]\n",
    "test = test[~test['배아_생성_주요_이유'].str.contains('연구용', na=False)]"
   ]
  },
  {
   "cell_type": "code",
   "execution_count": 221,
   "metadata": {},
   "outputs": [
    {
     "name": "stdout",
     "output_type": "stream",
     "text": [
      "\n",
      "배아_생성_주요_이유별 임신_성공_여부 비율 및 갯수\n",
      "\n",
      "                            0         1         0        1   Total\n",
      "variable                                                          \n",
      "기증용                  1.000000  0.000000     794.0      0.0     794\n",
      "기증용, 난자 저장용          1.000000  0.000000      42.0      0.0      42\n",
      "기증용, 배아 저장용          1.000000  0.000000     112.0      0.0     112\n",
      "기증용, 배아 저장용, 현재 시술용  0.650000  0.350000      13.0      7.0      20\n",
      "기증용, 현재 시술용          0.620143  0.379857    2346.0   1437.0    3783\n",
      "난자 저장용               1.000000  0.000000    1959.0      0.0    1959\n",
      "난자 저장용, 배아 저장용       1.000000  0.000000       6.0      0.0       6\n",
      "난자 저장용, 현재 시술용       0.800000  0.200000       4.0      1.0       5\n",
      "배아 저장용               0.999130  0.000870    9183.0      8.0    9191\n",
      "배아 저장용, 현재 시술용       0.734940  0.265060      61.0     22.0      83\n",
      "현재 시술용               0.726421  0.273579  169777.0  63940.0  233717\n"
     ]
    }
   ],
   "source": [
    "value_counts_ratio(train, '배아_생성_주요_이유')"
   ]
  },
  {
   "cell_type": "code",
   "execution_count": 222,
   "metadata": {},
   "outputs": [],
   "source": [
    "# 제거할 값 목록\n",
    "values_to_drop = ['기증용', '기증용, 난자 저장용', '기증용, 배아 저장용', '난자 저장용', '난자 저장용, 배아 저장용']\n",
    "\n",
    "# '배아_생성_주요_이유' 변수의 값이 특정 값인 행 제거\n",
    "train = train[~train['배아_생성_주요_이유'].isin(values_to_drop)]\n",
    "test = test[~test['배아_생성_주요_이유'].isin(values_to_drop)]"
   ]
  },
  {
   "cell_type": "code",
   "execution_count": 223,
   "metadata": {},
   "outputs": [
    {
     "name": "stdout",
     "output_type": "stream",
     "text": [
      "\n",
      "배아_생성_주요_이유별 임신_성공_여부 비율 및 갯수\n",
      "\n",
      "                            0         1       0      1   Total\n",
      "variable                                                      \n",
      "기증용, 배아 저장용, 현재 시술용  0.650000  0.350000      13      7      20\n",
      "기증용, 현재 시술용          0.620143  0.379857    2346   1437    3783\n",
      "난자 저장용, 현재 시술용       0.800000  0.200000       4      1       5\n",
      "배아 저장용               0.999130  0.000870    9183      8    9191\n",
      "배아 저장용, 현재 시술용       0.734940  0.265060      61     22      83\n",
      "현재 시술용               0.726421  0.273579  169777  63940  233717\n"
     ]
    }
   ],
   "source": [
    "value_counts_ratio(train, '배아_생성_주요_이유')"
   ]
  },
  {
   "cell_type": "code",
   "execution_count": 224,
   "metadata": {},
   "outputs": [],
   "source": [
    "# '현재 시술용' 키워드가 포함된 경우 1, 그렇지 않은 경우 0을 부여하는 더미 변수 생성\n",
    "train['배아_생성_주요_이유_현재시술용'] = train['배아_생성_주요_이유'].str.contains('현재 시술용').astype(int)\n",
    "test['배아_생성_주요_이유_현재시술용'] = test['배아_생성_주요_이유'].str.contains('현재 시술용').astype(int)"
   ]
  },
  {
   "cell_type": "code",
   "execution_count": 225,
   "metadata": {},
   "outputs": [],
   "source": [
    "# '기증용' 키워드가 포함된 경우 1, 그렇지 않은 경우 0을 부여하는 더미 변수 생성\n",
    "train['배아_생성_주요_이유_기증용'] = train['배아_생성_주요_이유'].str.contains('기증용').astype(int)\n",
    "test['배아_생성_주요_이유_기증용'] = test['배아_생성_주요_이유'].str.contains('기증용').astype(int)"
   ]
  },
  {
   "cell_type": "code",
   "execution_count": 226,
   "metadata": {},
   "outputs": [],
   "source": [
    "# '난자 저장용' 키워드가 포함된 경우 1, 그렇지 않은 경우 0을 부여하는 더미 변수 생성\n",
    "train['배아_생성_주요_이유_난자저장용'] = train['배아_생성_주요_이유'].str.contains('난자 저장용').astype(int)\n",
    "test['배아_생성_주요_이유_난자저장용'] = test['배아_생성_주요_이유'].str.contains('난자 저장용').astype(int)"
   ]
  },
  {
   "cell_type": "code",
   "execution_count": 227,
   "metadata": {},
   "outputs": [],
   "source": [
    "# '배아 저장용' 키워드가 포함된 경우 1, 그렇지 않은 경우 0을 부여하는 더미 변수 생성\n",
    "train['배아_생성_주요_이유_배아저장용'] = train['배아_생성_주요_이유'].str.contains('배아 저장용').astype(int)\n",
    "test['배아_생성_주요_이유_배아저장용'] = test['배아_생성_주요_이유'].str.contains('배아 저장용').astype(int)"
   ]
  },
  {
   "cell_type": "code",
   "execution_count": 228,
   "metadata": {},
   "outputs": [
    {
     "name": "stdout",
     "output_type": "stream",
     "text": [
      "Grouped by: 배아_생성_주요_이유_현재시술용, 배아_생성_주요_이유_기증용, 배아_생성_주요_이유_난자저장용, 배아_생성_주요_이유_배아저장용\n",
      "\n",
      "          group  '임신_성공_여부' count     ratio   Total\n",
      "0  (0, 0, 0, 1)                 8  0.000870    9191\n",
      "1  (1, 0, 0, 0)             63940  0.273579  233717\n",
      "2  (1, 0, 0, 1)                22  0.265060      83\n",
      "3  (1, 0, 1, 0)                 1  0.200000       5\n",
      "4  (1, 1, 0, 0)              1437  0.379857    3783\n",
      "5  (1, 1, 0, 1)                 7  0.350000      20\n"
     ]
    }
   ],
   "source": [
    "summarize_group(train, [\n",
    "    # '배아_생성_주요_이유',\n",
    "    '배아_생성_주요_이유_현재시술용',\n",
    "    '배아_생성_주요_이유_기증용',\n",
    "    '배아_생성_주요_이유_난자저장용',\n",
    "    '배아_생성_주요_이유_배아저장용'\n",
    "                        ])"
   ]
  },
  {
   "cell_type": "code",
   "execution_count": 229,
   "metadata": {},
   "outputs": [
    {
     "name": "stdout",
     "output_type": "stream",
     "text": [
      "\n",
      "배아_생성_주요_이유별 임신_성공_여부 비율 및 갯수\n",
      "\n",
      "                            0         1       0      1   Total\n",
      "variable                                                      \n",
      "기증용, 배아 저장용, 현재 시술용  0.650000  0.350000      13      7      20\n",
      "기증용, 현재 시술용          0.620143  0.379857    2346   1437    3783\n",
      "난자 저장용, 현재 시술용       0.800000  0.200000       4      1       5\n",
      "배아 저장용               0.999130  0.000870    9183      8    9191\n",
      "배아 저장용, 현재 시술용       0.734940  0.265060      61     22      83\n",
      "현재 시술용               0.726421  0.273579  169777  63940  233717\n"
     ]
    }
   ],
   "source": [
    "value_counts_ratio(train, '배아_생성_주요_이유')"
   ]
  },
  {
   "cell_type": "code",
   "execution_count": 230,
   "metadata": {},
   "outputs": [
    {
     "data": {
      "text/plain": [
       "0"
      ]
     },
     "execution_count": 230,
     "metadata": {},
     "output_type": "execute_result"
    }
   ],
   "source": [
    "train['배아_생성_주요_이유'].isnull().sum()"
   ]
  },
  {
   "cell_type": "code",
   "execution_count": 231,
   "metadata": {},
   "outputs": [
    {
     "name": "stdout",
     "output_type": "stream",
     "text": [
      "\n",
      "배아_생성_주요_이유_난자저장용별 임신_성공_여부 비율 및 갯수\n",
      "\n",
      "                 0         1       0      1   Total\n",
      "variable                                           \n",
      "0         0.734945  0.265055  181380  65414  246794\n",
      "1         0.800000  0.200000       4      1       5\n"
     ]
    }
   ],
   "source": [
    "value_counts_ratio(train, '배아_생성_주요_이유_난자저장용')"
   ]
  },
  {
   "cell_type": "markdown",
   "metadata": {},
   "source": [
    "갯수 적으므로 제거"
   ]
  },
  {
   "cell_type": "code",
   "execution_count": 232,
   "metadata": {},
   "outputs": [],
   "source": [
    "# 변수 제거\n",
    "train = train.drop(columns=['배아_생성_주요_이유_난자저장용'])\n",
    "test = test.drop(columns=['배아_생성_주요_이유_난자저장용'])"
   ]
  },
  {
   "cell_type": "code",
   "execution_count": 233,
   "metadata": {},
   "outputs": [],
   "source": [
    "train = train.drop(columns=['배아_생성_주요_이유'])\n",
    "test = test.drop(columns=['배아_생성_주요_이유'])"
   ]
  },
  {
   "cell_type": "markdown",
   "metadata": {},
   "source": [
    "### 29. 총_시술_횟수"
   ]
  },
  {
   "cell_type": "markdown",
   "metadata": {},
   "source": [
    "IVF 및 DI 포함한 전체 시술 횟수"
   ]
  },
  {
   "cell_type": "code",
   "execution_count": 234,
   "metadata": {},
   "outputs": [
    {
     "name": "stdout",
     "output_type": "stream",
     "text": [
      "\n",
      "총_시술_횟수별 임신_성공_여부 비율 및 갯수\n",
      "\n",
      "                 0         1      0      1  Total\n",
      "variable                                         \n",
      "0회        0.703322  0.296678  67258  28371  95629\n",
      "1회        0.744891  0.255109  41112  14080  55192\n",
      "2회        0.750033  0.249967  28373   9456  37829\n",
      "3회        0.756496  0.243504  17615   5670  23285\n",
      "4회        0.764756  0.235244  10780   3316  14096\n",
      "5회        0.774629  0.225371   6424   1869   8293\n",
      "6회 이상     0.787335  0.212665   9822   2653  12475\n"
     ]
    }
   ],
   "source": [
    "value_counts_ratio(train, '총_시술_횟수')"
   ]
  },
  {
   "cell_type": "markdown",
   "metadata": {},
   "source": [
    "### 30. 클리닉_내_총_시술_횟수"
   ]
  },
  {
   "cell_type": "markdown",
   "metadata": {},
   "source": [
    "특정 클리닉에서 받은 IVF 및 DI 시술 횟수"
   ]
  },
  {
   "cell_type": "code",
   "execution_count": 235,
   "metadata": {},
   "outputs": [
    {
     "name": "stdout",
     "output_type": "stream",
     "text": [
      "\n",
      "클리닉_내_총_시술_횟수별 임신_성공_여부 비율 및 갯수\n",
      "\n",
      "                 0         1      0      1   Total\n",
      "variable                                          \n",
      "0회        0.711514  0.288486  84663  34327  118990\n",
      "1회        0.749274  0.250726  43356  14508   57864\n",
      "2회        0.755599  0.244401  24965   8075   33040\n",
      "3회        0.759404  0.240596  13102   4151   17253\n",
      "4회        0.767789  0.232211   7003   2118    9121\n",
      "5회        0.780441  0.219559   3679   1035    4714\n",
      "6회 이상     0.793536  0.206464   4616   1201    5817\n"
     ]
    }
   ],
   "source": [
    "value_counts_ratio(train, '클리닉_내_총_시술_횟수')"
   ]
  },
  {
   "cell_type": "markdown",
   "metadata": {},
   "source": [
    "### 31. IVF_시술_횟수"
   ]
  },
  {
   "cell_type": "markdown",
   "metadata": {},
   "source": [
    "이전에 수행된 IVF 시술 횟수"
   ]
  },
  {
   "cell_type": "code",
   "execution_count": 236,
   "metadata": {},
   "outputs": [
    {
     "name": "stdout",
     "output_type": "stream",
     "text": [
      "\n",
      "IVF_시술_횟수별 임신_성공_여부 비율 및 갯수\n",
      "\n",
      "                 0         1      0      1  Total\n",
      "variable                                         \n",
      "0회        0.703490  0.296510  69355  29232  98587\n",
      "1회        0.744177  0.255823  42171  14497  56668\n",
      "2회        0.749725  0.250275  28623   9555  38178\n",
      "3회        0.760272  0.239728  17227   5432  22659\n",
      "4회        0.767990  0.232010  10192   3079  13271\n",
      "5회        0.782431  0.217569   5923   1647   7570\n",
      "6회 이상     0.800020  0.199980   7893   1973   9866\n"
     ]
    }
   ],
   "source": [
    "value_counts_ratio(train, 'IVF_시술_횟수')"
   ]
  },
  {
   "cell_type": "markdown",
   "metadata": {},
   "source": [
    "### 32. DI_시술_횟수"
   ]
  },
  {
   "cell_type": "markdown",
   "metadata": {},
   "source": [
    "이전에 수행된 DI 시술 횟수"
   ]
  },
  {
   "cell_type": "code",
   "execution_count": 237,
   "metadata": {},
   "outputs": [
    {
     "name": "stdout",
     "output_type": "stream",
     "text": [
      "\n",
      "DI_시술_횟수별 임신_성공_여부 비율 및 갯수\n",
      "\n",
      "                 0         1       0      1   Total\n",
      "variable                                           \n",
      "0회        0.735099  0.264901  175061  63085  238146\n",
      "1회        0.758045  0.241955    1272    406    1678\n",
      "2회        0.734442  0.265558    1369    495    1864\n",
      "3회        0.708485  0.291515    1553    639    2192\n",
      "4회        0.721834  0.278166     724    279    1003\n",
      "5회        0.735818  0.264182     454    163     617\n",
      "6회 이상     0.732102  0.267898     951    348    1299\n"
     ]
    }
   ],
   "source": [
    "value_counts_ratio(train, 'DI_시술_횟수')"
   ]
  },
  {
   "cell_type": "markdown",
   "metadata": {},
   "source": [
    "### 33. 총_임신_횟수"
   ]
  },
  {
   "cell_type": "markdown",
   "metadata": {},
   "source": [
    "IVF 및 DI 포함한 총 임신 횟수"
   ]
  },
  {
   "cell_type": "code",
   "execution_count": 238,
   "metadata": {},
   "outputs": [
    {
     "name": "stdout",
     "output_type": "stream",
     "text": [
      "\n",
      "총_임신_횟수별 임신_성공_여부 비율 및 갯수\n",
      "\n",
      "                 0         1       0      1   Total\n",
      "variable                                           \n",
      "0회        0.735637  0.264363  146149  52521  198670\n",
      "1회        0.730868  0.269132   30293  11155   41448\n",
      "2회        0.738370  0.261630    4349   1541    5890\n",
      "3회        0.746763  0.253237     519    176     695\n",
      "4회        0.767442  0.232558      66     20      86\n",
      "5회        0.857143  0.142857       6      1       7\n",
      "6회 이상     0.666667  0.333333       2      1       3\n"
     ]
    }
   ],
   "source": [
    "value_counts_ratio(train, '총_임신_횟수')"
   ]
  },
  {
   "cell_type": "markdown",
   "metadata": {},
   "source": [
    "### 34. IVF_임신_횟수"
   ]
  },
  {
   "cell_type": "markdown",
   "metadata": {},
   "source": [
    "IVF 시술로 인한 임신 횟수"
   ]
  },
  {
   "cell_type": "code",
   "execution_count": 239,
   "metadata": {},
   "outputs": [
    {
     "name": "stdout",
     "output_type": "stream",
     "text": [
      "\n",
      "IVF_임신_횟수별 임신_성공_여부 비율 및 갯수\n",
      "\n",
      "                 0         1         0        1   Total\n",
      "variable                                               \n",
      "0회        0.735542  0.264458  146667.0  52733.0  199400\n",
      "1회        0.730794  0.269206   29907.0  11017.0   40924\n",
      "2회        0.741755  0.258245    4251.0   1480.0    5731\n",
      "3회        0.750000  0.250000     492.0    164.0     656\n",
      "4회        0.762500  0.237500      61.0     19.0      80\n",
      "5회        0.857143  0.142857       6.0      1.0       7\n",
      "6회 이상     0.000000  1.000000       0.0      1.0       1\n"
     ]
    }
   ],
   "source": [
    "value_counts_ratio(train, 'IVF_임신_횟수')"
   ]
  },
  {
   "cell_type": "markdown",
   "metadata": {},
   "source": [
    "### 35. DI_임신_횟수"
   ]
  },
  {
   "cell_type": "markdown",
   "metadata": {},
   "source": [
    "DI 시술로 인한 임신 횟수"
   ]
  },
  {
   "cell_type": "code",
   "execution_count": 240,
   "metadata": {},
   "outputs": [
    {
     "name": "stdout",
     "output_type": "stream",
     "text": [
      "\n",
      "DI_임신_횟수별 임신_성공_여부 비율 및 갯수\n",
      "\n",
      "                 0         1         0        1   Total\n",
      "variable                                               \n",
      "0회        0.735069  0.264931  180780.0  65156.0  245936\n",
      "1회        0.705333  0.294667     529.0    221.0     750\n",
      "2회        0.646465  0.353535      64.0     35.0      99\n",
      "3회        0.727273  0.272727       8.0      3.0      11\n",
      "4회        1.000000  0.000000       1.0      0.0       1\n",
      "5회        1.000000  0.000000       2.0      0.0       2\n"
     ]
    }
   ],
   "source": [
    "value_counts_ratio(train, 'DI_임신_횟수')"
   ]
  },
  {
   "cell_type": "markdown",
   "metadata": {},
   "source": [
    "### 36. 총_출산_횟수"
   ]
  },
  {
   "cell_type": "markdown",
   "metadata": {},
   "source": [
    "IVF 및 DI 시술로 출산한 횟수"
   ]
  },
  {
   "cell_type": "code",
   "execution_count": 241,
   "metadata": {},
   "outputs": [
    {
     "name": "stdout",
     "output_type": "stream",
     "text": [
      "\n",
      "총_출산_횟수별 임신_성공_여부 비율 및 갯수\n",
      "\n",
      "                 0         1         0        1   Total\n",
      "variable                                               \n",
      "0회        0.736236  0.263764  155468.0  55698.0  211166\n",
      "1회        0.727286  0.272714   24295.0   9110.0   33405\n",
      "2회        0.728814  0.271186    1505.0    560.0    2065\n",
      "3회        0.700680  0.299320     103.0     44.0     147\n",
      "4회        0.769231  0.230769      10.0      3.0      13\n",
      "5회        1.000000  0.000000       1.0      0.0       1\n",
      "6회 이상     1.000000  0.000000       2.0      0.0       2\n"
     ]
    }
   ],
   "source": [
    "value_counts_ratio(train, '총_출산_횟수')"
   ]
  },
  {
   "cell_type": "markdown",
   "metadata": {},
   "source": [
    "### 37. IVF_출산_횟수"
   ]
  },
  {
   "cell_type": "markdown",
   "metadata": {},
   "source": [
    "IVF 시술로 출산한 횟수"
   ]
  },
  {
   "cell_type": "code",
   "execution_count": 242,
   "metadata": {},
   "outputs": [
    {
     "name": "stdout",
     "output_type": "stream",
     "text": [
      "\n",
      "IVF_출산_횟수별 임신_성공_여부 비율 및 갯수\n",
      "\n",
      "                 0         1         0        1   Total\n",
      "variable                                               \n",
      "0회        0.736134  0.263866  155869.0  55871.0  211740\n",
      "1회        0.727483  0.272517   23948.0   8971.0   32919\n",
      "2회        0.734171  0.265829    1461.0    529.0    1990\n",
      "3회        0.698529  0.301471      95.0     41.0     136\n",
      "4회        0.769231  0.230769      10.0      3.0      13\n",
      "5회        1.000000  0.000000       1.0      0.0       1\n"
     ]
    }
   ],
   "source": [
    "value_counts_ratio(train, 'IVF_출산_횟수')"
   ]
  },
  {
   "cell_type": "markdown",
   "metadata": {},
   "source": [
    "### 38. DI_출산_횟수"
   ]
  },
  {
   "cell_type": "markdown",
   "metadata": {},
   "source": [
    "DI 시술로 출산한 횟수"
   ]
  },
  {
   "cell_type": "code",
   "execution_count": 243,
   "metadata": {},
   "outputs": [
    {
     "name": "stdout",
     "output_type": "stream",
     "text": [
      "\n",
      "DI_출산_횟수별 임신_성공_여부 비율 및 갯수\n",
      "\n",
      "                 0         1         0        1   Total\n",
      "variable                                               \n",
      "0회        0.735055  0.264945  180953.0  65223.0  246176\n",
      "1회        0.694590  0.305410     398.0    175.0     573\n",
      "2회        0.652174  0.347826      30.0     16.0      46\n",
      "3회        0.500000  0.500000       1.0      1.0       2\n",
      "5회        1.000000  0.000000       2.0      0.0       2\n"
     ]
    }
   ],
   "source": [
    "value_counts_ratio(train, 'DI_출산_횟수')"
   ]
  },
  {
   "cell_type": "code",
   "execution_count": 244,
   "metadata": {},
   "outputs": [],
   "source": [
    "# 숫자 매핑\n",
    "mapping = {\n",
    "    '0회': 0, '1회': 1, '2회': 2, '3회': 3, \n",
    "    '4회': 4, '5회': 5, '6회 이상': 6\n",
    "}\n",
    "\n",
    "# 변환할 열 목록\n",
    "columns_to_map = [\n",
    "    '총_시술_횟수', '클리닉_내_총_시술_횟수', 'IVF_시술_횟수', \n",
    "    'DI_시술_횟수', '총_임신_횟수', 'IVF_임신_횟수', 'DI_임신_횟수', \n",
    "    '총_출산_횟수', 'IVF_출산_횟수', 'DI_출산_횟수'\n",
    "]\n",
    "\n",
    "# 숫자로 변환\n",
    "for col in columns_to_map:\n",
    "    train[col] = train[col].map(mapping)\n",
    "    test[col] = test[col].map(mapping)"
   ]
  },
  {
   "cell_type": "code",
   "execution_count": 245,
   "metadata": {},
   "outputs": [],
   "source": [
    "# 비율 계산 (train 데이터프레임)\n",
    "train['IVF_임신_시술_비율'] = np.where(train['IVF_시술_횟수'] > 0, train['IVF_임신_횟수'] / train['IVF_시술_횟수'], 0)\n",
    "train['DI_임신_시술_비율'] = np.where(train['DI_시술_횟수'] > 0, train['DI_임신_횟수'] / train['DI_시술_횟수'], 0)\n",
    "train['임신_성공률'] = np.where(train['총_시술_횟수'] > 0, train['총_임신_횟수'] / train['총_시술_횟수'], 0)\n",
    "\n",
    "# 비율 계산 (test 데이터프레임)\n",
    "test['IVF_임신_시술_비율'] = np.where(test['IVF_시술_횟수'] > 0, test['IVF_임신_횟수'] / test['IVF_시술_횟수'], 0)\n",
    "test['DI_임신_시술_비율'] = np.where(test['DI_시술_횟수'] > 0, test['DI_임신_횟수'] / test['DI_시술_횟수'], 0)\n",
    "test['임신_성공률'] = np.where(test['총_시술_횟수'] > 0, test['총_임신_횟수'] / test['총_시술_횟수'], 0)"
   ]
  },
  {
   "cell_type": "code",
   "execution_count": 246,
   "metadata": {},
   "outputs": [],
   "source": [
    "# 변수 리스트\n",
    "columns = [\n",
    "    # '클리닉_내_총_시술_횟수', \n",
    "    '총_시술_횟수', '총_출산_횟수', '총_임신_횟수',\n",
    "    # 'IVF_시술_횟수', 'IVF_임신_횟수', 'IVF_출산_횟수', 'IVF_임신_시술_비율',\n",
    "    'DI_시술_횟수', 'DI_임신_횟수', 'DI_출산_횟수',\n",
    "    'DI_임신_시술_비율', '임신_성공률'\n",
    "]\n",
    "\n",
    "# 변수 제거\n",
    "train = train.drop(columns=columns)\n",
    "test = test.drop(columns=columns)"
   ]
  },
  {
   "cell_type": "markdown",
   "metadata": {},
   "source": [
    "### 39. 총_생성_배아_수"
   ]
  },
  {
   "cell_type": "markdown",
   "metadata": {},
   "source": [
    "해당 시술에서 생성된 배아의 총 개수"
   ]
  },
  {
   "cell_type": "code",
   "execution_count": 247,
   "metadata": {},
   "outputs": [
    {
     "name": "stdout",
     "output_type": "stream",
     "text": [
      "\n",
      "총_생성_배아_수별 임신_성공_여부 비율 및 갯수\n",
      "\n",
      "                 0         1        0       1  Total\n",
      "variable                                            \n",
      "0.0       0.817857  0.182143  41166.0  9168.0  50334\n",
      "1.0       0.904962  0.095038  13750.0  1444.0  15194\n",
      "2.0       0.819671  0.180329  15709.0  3456.0  19165\n",
      "3.0       0.757942  0.242058  15866.0  5067.0  20933\n",
      "4.0       0.722302  0.277698  15588.0  5993.0  21581\n",
      "5.0       0.694262  0.305738  14156.0  6234.0  20390\n",
      "6.0       0.676561  0.323439  12582.0  6015.0  18597\n",
      "7.0       0.661190  0.338810  10583.0  5423.0  16006\n",
      "8.0       0.649666  0.350334   8840.0  4767.0  13607\n",
      "9.0       0.645228  0.354772   7173.0  3944.0  11117\n",
      "10.0      0.639165  0.360835   5787.0  3267.0   9054\n",
      "11.0      0.632731  0.367269   4481.0  2601.0   7082\n",
      "12.0      0.646935  0.353065   3694.0  2016.0   5710\n",
      "13.0      0.633712  0.366288   2737.0  1582.0   4319\n",
      "14.0      0.643730  0.356270   2161.0  1196.0   3357\n",
      "15.0      0.642147  0.357853   1615.0   900.0   2515\n",
      "16.0      0.652742  0.347258   1250.0   665.0   1915\n",
      "17.0      0.676882  0.323118   1016.0   485.0   1501\n",
      "18.0      0.696237  0.303763    777.0   339.0   1116\n",
      "19.0      0.691729  0.308271    552.0   246.0    798\n",
      "20.0      0.712716  0.287284    454.0   183.0    637\n",
      "21.0      0.734783  0.265217    338.0   122.0    460\n",
      "22.0      0.748588  0.251412    265.0    89.0    354\n",
      "23.0      0.788679  0.211321    209.0    56.0    265\n",
      "24.0      0.800000  0.200000    156.0    39.0    195\n",
      "25.0      0.797546  0.202454    130.0    33.0    163\n",
      "26.0      0.790476  0.209524     83.0    22.0    105\n",
      "27.0      0.761905  0.238095     64.0    20.0     84\n",
      "28.0      0.843137  0.156863     43.0     8.0     51\n",
      "29.0      0.782609  0.217391     36.0    10.0     46\n",
      "30.0      0.825000  0.175000     33.0     7.0     40\n",
      "31.0      0.880000  0.120000     22.0     3.0     25\n",
      "32.0      0.739130  0.260870     17.0     6.0     23\n",
      "33.0      0.833333  0.166667     10.0     2.0     12\n",
      "34.0      0.666667  0.333333     10.0     5.0     15\n",
      "35.0      1.000000  0.000000      4.0     0.0      4\n",
      "36.0      0.857143  0.142857      6.0     1.0      7\n",
      "37.0      0.857143  0.142857      6.0     1.0      7\n",
      "38.0      1.000000  0.000000      3.0     0.0      3\n",
      "40.0      1.000000  0.000000      1.0     0.0      1\n",
      "41.0      1.000000  0.000000      2.0     0.0      2\n",
      "42.0      1.000000  0.000000      3.0     0.0      3\n",
      "43.0      1.000000  0.000000      1.0     0.0      1\n",
      "44.0      1.000000  0.000000      3.0     0.0      3\n",
      "51.0      1.000000  0.000000      2.0     0.0      2\n"
     ]
    }
   ],
   "source": [
    "value_counts_ratio(train, '총_생성_배아_수')"
   ]
  },
  {
   "cell_type": "markdown",
   "metadata": {},
   "source": [
    "### 40. 미세주입된_난자_수"
   ]
  },
  {
   "cell_type": "markdown",
   "metadata": {},
   "source": [
    "정자 미세주입(ICSI)으로 처리된 난자의 수"
   ]
  },
  {
   "cell_type": "code",
   "execution_count": 248,
   "metadata": {},
   "outputs": [
    {
     "name": "stdout",
     "output_type": "stream",
     "text": [
      "\n",
      "미세주입된_난자_수별 임신_성공_여부 비율 및 갯수\n",
      "\n",
      "                 0         1        0        1   Total\n",
      "variable                                              \n",
      "0.0       0.743005  0.256995  92548.0  32011.0  124559\n",
      "1.0       0.942491  0.057509   4261.0    260.0    4521\n",
      "2.0       0.888624  0.111376   5585.0    700.0    6285\n",
      "3.0       0.833270  0.166730   6587.0   1318.0    7905\n",
      "4.0       0.789578  0.210422   7591.0   2023.0    9614\n",
      "5.0       0.744320  0.255680   7895.0   2712.0   10607\n",
      "6.0       0.722916  0.277084   7994.0   3064.0   11058\n",
      "7.0       0.704491  0.295509   7326.0   3073.0   10399\n",
      "8.0       0.693395  0.306605   6719.0   2971.0    9690\n",
      "9.0       0.681363  0.318637   5857.0   2739.0    8596\n",
      "10.0      0.665116  0.334884   5148.0   2592.0    7740\n",
      "11.0      0.649946  0.350054   4237.0   2282.0    6519\n",
      "12.0      0.660075  0.339925   3705.0   1908.0    5613\n",
      "13.0      0.641781  0.358219   2983.0   1665.0    4648\n",
      "14.0      0.661286  0.338714   2540.0   1301.0    3841\n",
      "15.0      0.650345  0.349655   2072.0   1114.0    3186\n",
      "16.0      0.657154  0.342846   1681.0    877.0    2558\n",
      "17.0      0.658512  0.341488   1292.0    670.0    1962\n",
      "18.0      0.679648  0.320352   1082.0    510.0    1592\n",
      "19.0      0.665850  0.334150    815.0    409.0    1224\n",
      "20.0      0.673019  0.326981    671.0    326.0     997\n",
      "21.0      0.716981  0.283019    570.0    225.0     795\n",
      "22.0      0.729358  0.270642    477.0    177.0     654\n",
      "23.0      0.710472  0.289528    346.0    141.0     487\n",
      "24.0      0.761773  0.238227    275.0     86.0     361\n",
      "25.0      0.779359  0.220641    219.0     62.0     281\n",
      "26.0      0.775934  0.224066    187.0     54.0     241\n",
      "27.0      0.831522  0.168478    153.0     31.0     184\n",
      "28.0      0.829268  0.170732    136.0     28.0     164\n",
      "29.0      0.767857  0.232143     86.0     26.0     112\n",
      "30.0      0.826087  0.173913     76.0     16.0      92\n",
      "31.0      0.866667  0.133333     52.0      8.0      60\n",
      "32.0      0.807692  0.192308     42.0     10.0      52\n",
      "33.0      0.820513  0.179487     32.0      7.0      39\n",
      "34.0      0.857143  0.142857     30.0      5.0      35\n",
      "35.0      0.870968  0.129032     27.0      4.0      31\n",
      "36.0      0.923077  0.076923     24.0      2.0      26\n",
      "37.0      0.785714  0.214286     11.0      3.0      14\n",
      "38.0      0.909091  0.090909     10.0      1.0      11\n",
      "39.0      0.857143  0.142857      6.0      1.0       7\n",
      "40.0      0.875000  0.125000      7.0      1.0       8\n",
      "41.0      1.000000  0.000000      3.0      0.0       3\n",
      "42.0      0.666667  0.333333      2.0      1.0       3\n",
      "43.0      0.857143  0.142857      6.0      1.0       7\n",
      "44.0      1.000000  0.000000      1.0      0.0       1\n",
      "45.0      1.000000  0.000000      4.0      0.0       4\n",
      "46.0      1.000000  0.000000      3.0      0.0       3\n",
      "47.0      1.000000  0.000000      2.0      0.0       2\n",
      "48.0      1.000000  0.000000      1.0      0.0       1\n",
      "49.0      1.000000  0.000000      1.0      0.0       1\n",
      "50.0      1.000000  0.000000      1.0      0.0       1\n",
      "51.0      1.000000  0.000000      5.0      0.0       5\n"
     ]
    }
   ],
   "source": [
    "value_counts_ratio(train, '미세주입된_난자_수')"
   ]
  },
  {
   "cell_type": "markdown",
   "metadata": {},
   "source": [
    "### 41. 미세주입에서_생성된_배아_수"
   ]
  },
  {
   "cell_type": "markdown",
   "metadata": {},
   "source": [
    "ICSI를 통해 생성된 배아의 수"
   ]
  },
  {
   "cell_type": "code",
   "execution_count": 249,
   "metadata": {},
   "outputs": [
    {
     "name": "stdout",
     "output_type": "stream",
     "text": [
      "\n",
      "미세주입에서_생성된_배아_수별 임신_성공_여부 비율 및 갯수\n",
      "\n",
      "                 0         1        0        1   Total\n",
      "variable                                              \n",
      "0.0       0.751026  0.248974  96627.0  32033.0  128660\n",
      "1.0       0.908328  0.091672   8987.0    907.0    9894\n",
      "2.0       0.817692  0.182308  10316.0   2300.0   12616\n",
      "3.0       0.758101  0.241899  10458.0   3337.0   13795\n",
      "4.0       0.719365  0.280635   9974.0   3891.0   13865\n",
      "5.0       0.689305  0.310695   8901.0   4012.0   12913\n",
      "6.0       0.671477  0.328523   7771.0   3802.0   11573\n",
      "7.0       0.658950  0.341050   6262.0   3241.0    9503\n",
      "8.0       0.650816  0.349184   5064.0   2717.0    7781\n",
      "9.0       0.641142  0.358858   3952.0   2212.0    6164\n",
      "10.0      0.635514  0.364486   3060.0   1755.0    4815\n",
      "11.0      0.623829  0.376171   2330.0   1405.0    3735\n",
      "12.0      0.662185  0.337815   1970.0   1005.0    2975\n",
      "13.0      0.641860  0.358140   1380.0    770.0    2150\n",
      "14.0      0.645907  0.354093   1089.0    597.0    1686\n",
      "15.0      0.653687  0.346313    789.0    418.0    1207\n",
      "16.0      0.694224  0.305776    613.0    270.0     883\n",
      "17.0      0.661383  0.338617    459.0    235.0     694\n",
      "18.0      0.693227  0.306773    348.0    154.0     502\n",
      "19.0      0.701149  0.298851    244.0    104.0     348\n",
      "20.0      0.708333  0.291667    187.0     77.0     264\n",
      "21.0      0.743842  0.256158    151.0     52.0     203\n",
      "22.0      0.737931  0.262069    107.0     38.0     145\n",
      "23.0      0.786325  0.213675     92.0     25.0     117\n",
      "24.0      0.846154  0.153846     66.0     12.0      78\n",
      "25.0      0.808824  0.191176     55.0     13.0      68\n",
      "26.0      0.794872  0.205128     31.0      8.0      39\n",
      "27.0      0.771429  0.228571     27.0      8.0      35\n",
      "28.0      0.800000  0.200000     16.0      4.0      20\n",
      "29.0      0.761905  0.238095     16.0      5.0      21\n",
      "30.0      0.875000  0.125000     14.0      2.0      16\n",
      "31.0      0.833333  0.166667      5.0      1.0       6\n",
      "32.0      0.750000  0.250000      6.0      2.0       8\n",
      "33.0      1.000000  0.000000      6.0      0.0       6\n",
      "34.0      0.500000  0.500000      3.0      3.0       6\n",
      "36.0      1.000000  0.000000      1.0      0.0       1\n",
      "37.0      1.000000  0.000000      1.0      0.0       1\n",
      "38.0      1.000000  0.000000      1.0      0.0       1\n",
      "41.0      1.000000  0.000000      2.0      0.0       2\n",
      "42.0      1.000000  0.000000      2.0      0.0       2\n",
      "43.0      1.000000  0.000000      1.0      0.0       1\n"
     ]
    }
   ],
   "source": [
    "value_counts_ratio(train, '미세주입에서_생성된_배아_수')"
   ]
  },
  {
   "cell_type": "markdown",
   "metadata": {},
   "source": [
    "### 42. 이식된_배아_수"
   ]
  },
  {
   "cell_type": "markdown",
   "metadata": {},
   "source": [
    "이식된 배아의 총 수"
   ]
  },
  {
   "cell_type": "code",
   "execution_count": 250,
   "metadata": {},
   "outputs": [
    {
     "name": "stdout",
     "output_type": "stream",
     "text": [
      "\n",
      "이식된_배아_수별 임신_성공_여부 비율 및 갯수\n",
      "\n",
      "                 0         1      0      1   Total\n",
      "variable                                          \n",
      "0.0       0.999099  0.000901  33267     30   33297\n",
      "1.0       0.686442  0.313558  64378  29407   93785\n",
      "2.0       0.688895  0.311105  76355  34482  110837\n",
      "3.0       0.831532  0.168468   7384   1496    8880\n"
     ]
    }
   ],
   "source": [
    "value_counts_ratio(train, '이식된_배아_수')"
   ]
  },
  {
   "cell_type": "markdown",
   "metadata": {},
   "source": [
    "### 43. 미세주입_배아_이식_수"
   ]
  },
  {
   "cell_type": "markdown",
   "metadata": {},
   "source": [
    "ICSI 배아 중 이식된 배아의 수"
   ]
  },
  {
   "cell_type": "code",
   "execution_count": 251,
   "metadata": {},
   "outputs": [
    {
     "name": "stdout",
     "output_type": "stream",
     "text": [
      "\n",
      "미세주입_배아_이식_수별 임신_성공_여부 비율 및 갯수\n",
      "\n",
      "                 0         1       0      1   Total\n",
      "variable                                           \n",
      "0.0       0.770763  0.229237  104453  31066  135519\n",
      "1.0       0.680546  0.319454   31627  14846   46473\n",
      "2.0       0.687673  0.312327   41041  18640   59681\n",
      "3.0       0.831643  0.168357    4263    863    5126\n"
     ]
    }
   ],
   "source": [
    "value_counts_ratio(train, '미세주입_배아_이식_수')"
   ]
  },
  {
   "cell_type": "markdown",
   "metadata": {},
   "source": [
    "### 44. 저장된_배아_수"
   ]
  },
  {
   "cell_type": "markdown",
   "metadata": {},
   "source": [
    "환자를 위해 저장된 배아의 수"
   ]
  },
  {
   "cell_type": "code",
   "execution_count": 252,
   "metadata": {},
   "outputs": [
    {
     "name": "stdout",
     "output_type": "stream",
     "text": [
      "\n",
      "저장된_배아_수별 임신_성공_여부 비율 및 갯수\n",
      "\n",
      "                 0         1         0        1   Total\n",
      "variable                                               \n",
      "0.0       0.773641  0.226359  126676.0  37064.0  163740\n",
      "1.0       0.654330  0.345670   13313.0   7033.0   20346\n",
      "2.0       0.629210  0.370790   12498.0   7365.0   19863\n",
      "3.0       0.629701  0.370299    8489.0   4992.0   13481\n",
      "4.0       0.639003  0.360997    5898.0   3332.0    9230\n",
      "5.0       0.649614  0.350386    3873.0   2089.0    5962\n",
      "6.0       0.666423  0.333577    2733.0   1368.0    4101\n",
      "7.0       0.704124  0.295876    1861.0    782.0    2643\n",
      "8.0       0.713597  0.286403    1333.0    535.0    1868\n",
      "9.0       0.740078  0.259922     951.0    334.0    1285\n",
      "10.0      0.780415  0.219585     789.0    222.0    1011\n",
      "11.0      0.828076  0.171924     525.0    109.0     634\n",
      "12.0      0.840824  0.159176     449.0     85.0     534\n",
      "13.0      0.911616  0.088384     361.0     35.0     396\n",
      "14.0      0.936232  0.063768     323.0     22.0     345\n",
      "15.0      0.928854  0.071146     235.0     18.0     253\n",
      "16.0      0.928934  0.071066     183.0     14.0     197\n",
      "17.0      0.977654  0.022346     175.0      4.0     179\n",
      "18.0      0.982353  0.017647     167.0      3.0     170\n",
      "19.0      0.980000  0.020000      98.0      2.0     100\n",
      "20.0      0.981651  0.018349     107.0      2.0     109\n",
      "21.0      0.986667  0.013333      74.0      1.0      75\n",
      "22.0      1.000000  0.000000      67.0      0.0      67\n",
      "23.0      0.955224  0.044776      64.0      3.0      67\n",
      "24.0      0.973684  0.026316      37.0      1.0      38\n",
      "25.0      1.000000  0.000000      32.0      0.0      32\n",
      "26.0      1.000000  0.000000      16.0      0.0      16\n",
      "27.0      1.000000  0.000000      12.0      0.0      12\n",
      "28.0      1.000000  0.000000       8.0      0.0       8\n",
      "29.0      1.000000  0.000000       7.0      0.0       7\n",
      "30.0      1.000000  0.000000       9.0      0.0       9\n",
      "31.0      1.000000  0.000000       2.0      0.0       2\n",
      "32.0      1.000000  0.000000       4.0      0.0       4\n",
      "33.0      1.000000  0.000000       1.0      0.0       1\n",
      "34.0      1.000000  0.000000       3.0      0.0       3\n",
      "36.0      1.000000  0.000000       2.0      0.0       2\n",
      "37.0      1.000000  0.000000       2.0      0.0       2\n",
      "38.0      1.000000  0.000000       1.0      0.0       1\n",
      "41.0      1.000000  0.000000       2.0      0.0       2\n",
      "42.0      1.000000  0.000000       1.0      0.0       1\n",
      "44.0      1.000000  0.000000       1.0      0.0       1\n",
      "51.0      1.000000  0.000000       2.0      0.0       2\n"
     ]
    }
   ],
   "source": [
    "value_counts_ratio(train, '저장된_배아_수')"
   ]
  },
  {
   "cell_type": "code",
   "execution_count": 253,
   "metadata": {},
   "outputs": [],
   "source": [
    "# '저장된_배아_수' 변수의 값이 25 이상인 행 제거\n",
    "train = train[train['저장된_배아_수'] < 25]\n",
    "test = test[test['저장된_배아_수'] < 25]"
   ]
  },
  {
   "cell_type": "code",
   "execution_count": 254,
   "metadata": {},
   "outputs": [
    {
     "name": "stdout",
     "output_type": "stream",
     "text": [
      "\n",
      "저장된_배아_수별 임신_성공_여부 비율 및 갯수\n",
      "\n",
      "                 0         1         0        1   Total\n",
      "variable                                               \n",
      "0.0       0.773641  0.226359  126676.0  37064.0  163740\n",
      "1.0       0.654330  0.345670   13313.0   7033.0   20346\n",
      "2.0       0.629210  0.370790   12498.0   7365.0   19863\n",
      "3.0       0.629701  0.370299    8489.0   4992.0   13481\n",
      "4.0       0.639003  0.360997    5898.0   3332.0    9230\n",
      "5.0       0.649614  0.350386    3873.0   2089.0    5962\n",
      "6.0       0.666423  0.333577    2733.0   1368.0    4101\n",
      "7.0       0.704124  0.295876    1861.0    782.0    2643\n",
      "8.0       0.713597  0.286403    1333.0    535.0    1868\n",
      "9.0       0.740078  0.259922     951.0    334.0    1285\n",
      "10.0      0.780415  0.219585     789.0    222.0    1011\n",
      "11.0      0.828076  0.171924     525.0    109.0     634\n",
      "12.0      0.840824  0.159176     449.0     85.0     534\n",
      "13.0      0.911616  0.088384     361.0     35.0     396\n",
      "14.0      0.936232  0.063768     323.0     22.0     345\n",
      "15.0      0.928854  0.071146     235.0     18.0     253\n",
      "16.0      0.928934  0.071066     183.0     14.0     197\n",
      "17.0      0.977654  0.022346     175.0      4.0     179\n",
      "18.0      0.982353  0.017647     167.0      3.0     170\n",
      "19.0      0.980000  0.020000      98.0      2.0     100\n",
      "20.0      0.981651  0.018349     107.0      2.0     109\n",
      "21.0      0.986667  0.013333      74.0      1.0      75\n",
      "22.0      1.000000  0.000000      67.0      0.0      67\n",
      "23.0      0.955224  0.044776      64.0      3.0      67\n",
      "24.0      0.973684  0.026316      37.0      1.0      38\n"
     ]
    }
   ],
   "source": [
    "value_counts_ratio(train, '저장된_배아_수')"
   ]
  },
  {
   "cell_type": "markdown",
   "metadata": {},
   "source": [
    "### 45. 미세주입_후_저장된_배아_수"
   ]
  },
  {
   "cell_type": "markdown",
   "metadata": {},
   "source": [
    "ICSI 처리된 배아 중 저장된 배아의 수"
   ]
  },
  {
   "cell_type": "code",
   "execution_count": 255,
   "metadata": {},
   "outputs": [
    {
     "name": "stdout",
     "output_type": "stream",
     "text": [
      "\n",
      "미세주입_후_저장된_배아_수별 임신_성공_여부 비율 및 갯수\n",
      "\n",
      "                 0         1         0        1   Total\n",
      "variable                                               \n",
      "0.0       0.751965  0.248035  151178.0  49866.0  201044\n",
      "1.0       0.653175  0.346825    8053.0   4276.0   12329\n",
      "2.0       0.624559  0.375441    7085.0   4259.0   11344\n",
      "3.0       0.633005  0.366995    4695.0   2722.0    7417\n",
      "4.0       0.645075  0.354925    3137.0   1726.0    4863\n",
      "5.0       0.655275  0.344725    1975.0   1039.0    3014\n",
      "6.0       0.672191  0.327809    1298.0    633.0    1931\n",
      "7.0       0.741176  0.258824     945.0    330.0    1275\n",
      "8.0       0.740528  0.259472     645.0    226.0     871\n",
      "9.0       0.767480  0.232520     472.0    143.0     615\n",
      "10.0      0.830472  0.169528     387.0     79.0     466\n",
      "11.0      0.851724  0.148276     247.0     43.0     290\n",
      "12.0      0.852713  0.147287     220.0     38.0     258\n",
      "13.0      0.925000  0.075000     185.0     15.0     200\n",
      "14.0      0.971429  0.028571     170.0      5.0     175\n",
      "15.0      0.968504  0.031496     123.0      4.0     127\n",
      "16.0      0.951923  0.048077      99.0      5.0     104\n",
      "17.0      0.975000  0.025000      78.0      2.0      80\n",
      "18.0      0.975309  0.024691      79.0      2.0      81\n",
      "19.0      0.980769  0.019231      51.0      1.0      52\n",
      "20.0      1.000000  0.000000      44.0      0.0      44\n",
      "21.0      1.000000  0.000000      31.0      0.0      31\n",
      "22.0      1.000000  0.000000      32.0      0.0      32\n",
      "23.0      0.968750  0.031250      31.0      1.0      32\n",
      "24.0      1.000000  0.000000      19.0      0.0      19\n"
     ]
    }
   ],
   "source": [
    "value_counts_ratio(train, '미세주입_후_저장된_배아_수')"
   ]
  },
  {
   "cell_type": "markdown",
   "metadata": {},
   "source": [
    "### 46. 해동된_배아_수"
   ]
  },
  {
   "cell_type": "markdown",
   "metadata": {},
   "source": [
    "동결 해동된 배아의 수"
   ]
  },
  {
   "cell_type": "code",
   "execution_count": 256,
   "metadata": {},
   "outputs": [
    {
     "name": "stdout",
     "output_type": "stream",
     "text": [
      "\n",
      "해동된_배아_수별 임신_성공_여부 비율 및 갯수\n",
      "\n",
      "                 0         1         0        1   Total\n",
      "variable                                               \n",
      "0.0       0.727675  0.272325  150139.0  56188.0  206327\n",
      "1.0       0.784707  0.215293   10242.0   2810.0   13052\n",
      "2.0       0.761183  0.238817    9189.0   2883.0   12072\n",
      "3.0       0.794805  0.205195    4284.0   1106.0    5390\n",
      "4.0       0.778487  0.221513    2685.0    764.0    3449\n",
      "5.0       0.766012  0.233988    1483.0    453.0    1936\n",
      "6.0       0.752336  0.247664    1127.0    371.0    1498\n",
      "7.0       0.759463  0.240537     622.0    197.0     819\n",
      "8.0       0.698264  0.301736     523.0    226.0     749\n",
      "9.0       0.672330  0.327670     277.0    135.0     412\n",
      "10.0      0.741279  0.258721     255.0     89.0     344\n",
      "11.0      0.756410  0.243590     118.0     38.0     156\n",
      "12.0      0.673611  0.326389      97.0     47.0     144\n",
      "13.0      0.679012  0.320988      55.0     26.0      81\n",
      "14.0      0.720000  0.280000      54.0     21.0      75\n",
      "15.0      0.714286  0.285714      30.0     12.0      42\n",
      "16.0      0.574468  0.425532      27.0     20.0      47\n",
      "17.0      0.740741  0.259259      20.0      7.0      27\n",
      "18.0      0.750000  0.250000      18.0      6.0      24\n",
      "19.0      0.812500  0.187500      13.0      3.0      16\n",
      "20.0      0.600000  0.400000       3.0      2.0       5\n",
      "21.0      0.428571  0.571429       3.0      4.0       7\n",
      "22.0      0.500000  0.500000       3.0      3.0       6\n",
      "23.0      0.600000  0.400000       3.0      2.0       5\n",
      "24.0      0.750000  0.250000       3.0      1.0       4\n",
      "26.0      0.800000  0.200000       4.0      1.0       5\n",
      "30.0      1.000000  0.000000       1.0      0.0       1\n",
      "32.0      1.000000  0.000000       1.0      0.0       1\n"
     ]
    }
   ],
   "source": [
    "value_counts_ratio(train, '해동된_배아_수')"
   ]
  },
  {
   "cell_type": "markdown",
   "metadata": {},
   "source": [
    "### 47. 해동_난자_수"
   ]
  },
  {
   "cell_type": "markdown",
   "metadata": {},
   "source": [
    "동결 해동된 난자의 수"
   ]
  },
  {
   "cell_type": "code",
   "execution_count": 257,
   "metadata": {},
   "outputs": [
    {
     "name": "stdout",
     "output_type": "stream",
     "text": [
      "\n",
      "해동_난자_수별 임신_성공_여부 비율 및 갯수\n",
      "\n",
      "                 0         1         0        1   Total\n",
      "variable                                               \n",
      "0.0       0.734583  0.265417  180158.0  65094.0  245252\n",
      "1.0       0.923077  0.076923      24.0      2.0      26\n",
      "2.0       0.907692  0.092308      59.0      6.0      65\n",
      "3.0       0.907692  0.092308      59.0      6.0      65\n",
      "4.0       0.892308  0.107692     116.0     14.0     130\n",
      "5.0       0.859813  0.140187      92.0     15.0     107\n",
      "6.0       0.800000  0.200000     136.0     34.0     170\n",
      "7.0       0.711268  0.288732     101.0     41.0     142\n",
      "8.0       0.703196  0.296804     154.0     65.0     219\n",
      "9.0       0.780952  0.219048      82.0     23.0     105\n",
      "10.0      0.766667  0.233333      69.0     21.0      90\n",
      "11.0      0.761194  0.238806      51.0     16.0      67\n",
      "12.0      0.657143  0.342857      46.0     24.0      70\n",
      "13.0      0.812500  0.187500      26.0      6.0      32\n",
      "14.0      0.613636  0.386364      27.0     17.0      44\n",
      "15.0      0.594595  0.405405      22.0     15.0      37\n",
      "16.0      0.550000  0.450000      11.0      9.0      20\n",
      "17.0      0.785714  0.214286      11.0      3.0      14\n",
      "18.0      0.857143  0.142857       6.0      1.0       7\n",
      "19.0      0.916667  0.083333      11.0      1.0      12\n",
      "20.0      1.000000  0.000000       5.0      0.0       5\n",
      "21.0      1.000000  0.000000       2.0      0.0       2\n",
      "22.0      0.000000  1.000000       0.0      1.0       1\n",
      "23.0      0.500000  0.500000       1.0      1.0       2\n",
      "24.0      1.000000  0.000000       3.0      0.0       3\n",
      "25.0      1.000000  0.000000       1.0      0.0       1\n",
      "26.0      1.000000  0.000000       2.0      0.0       2\n",
      "27.0      1.000000  0.000000       1.0      0.0       1\n",
      "32.0      1.000000  0.000000       1.0      0.0       1\n",
      "33.0      1.000000  0.000000       1.0      0.0       1\n",
      "36.0      1.000000  0.000000       1.0      0.0       1\n"
     ]
    }
   ],
   "source": [
    "value_counts_ratio(train, '해동_난자_수')"
   ]
  },
  {
   "cell_type": "code",
   "execution_count": 258,
   "metadata": {},
   "outputs": [],
   "source": [
    "# '해동_난자_수' 변수의 값이 25 이상인 행 제거\n",
    "train = train[train['해동_난자_수'] < 25]\n",
    "test = test[test['해동_난자_수'] < 25]"
   ]
  },
  {
   "cell_type": "code",
   "execution_count": 259,
   "metadata": {},
   "outputs": [
    {
     "name": "stdout",
     "output_type": "stream",
     "text": [
      "\n",
      "해동_난자_수별 임신_성공_여부 비율 및 갯수\n",
      "\n",
      "                 0         1         0        1   Total\n",
      "variable                                               \n",
      "0.0       0.734583  0.265417  180158.0  65094.0  245252\n",
      "1.0       0.923077  0.076923      24.0      2.0      26\n",
      "2.0       0.907692  0.092308      59.0      6.0      65\n",
      "3.0       0.907692  0.092308      59.0      6.0      65\n",
      "4.0       0.892308  0.107692     116.0     14.0     130\n",
      "5.0       0.859813  0.140187      92.0     15.0     107\n",
      "6.0       0.800000  0.200000     136.0     34.0     170\n",
      "7.0       0.711268  0.288732     101.0     41.0     142\n",
      "8.0       0.703196  0.296804     154.0     65.0     219\n",
      "9.0       0.780952  0.219048      82.0     23.0     105\n",
      "10.0      0.766667  0.233333      69.0     21.0      90\n",
      "11.0      0.761194  0.238806      51.0     16.0      67\n",
      "12.0      0.657143  0.342857      46.0     24.0      70\n",
      "13.0      0.812500  0.187500      26.0      6.0      32\n",
      "14.0      0.613636  0.386364      27.0     17.0      44\n",
      "15.0      0.594595  0.405405      22.0     15.0      37\n",
      "16.0      0.550000  0.450000      11.0      9.0      20\n",
      "17.0      0.785714  0.214286      11.0      3.0      14\n",
      "18.0      0.857143  0.142857       6.0      1.0       7\n",
      "19.0      0.916667  0.083333      11.0      1.0      12\n",
      "20.0      1.000000  0.000000       5.0      0.0       5\n",
      "21.0      1.000000  0.000000       2.0      0.0       2\n",
      "22.0      0.000000  1.000000       0.0      1.0       1\n",
      "23.0      0.500000  0.500000       1.0      1.0       2\n",
      "24.0      1.000000  0.000000       3.0      0.0       3\n"
     ]
    }
   ],
   "source": [
    "value_counts_ratio(train, '해동_난자_수')"
   ]
  },
  {
   "cell_type": "markdown",
   "metadata": {},
   "source": [
    "### 48. 수집된_신선_난자_수"
   ]
  },
  {
   "cell_type": "markdown",
   "metadata": {},
   "source": [
    "신선 난자가 수집된 수"
   ]
  },
  {
   "cell_type": "code",
   "execution_count": 260,
   "metadata": {},
   "outputs": [
    {
     "name": "stdout",
     "output_type": "stream",
     "text": [
      "\n",
      "수집된_신선_난자_수별 임신_성공_여부 비율 및 갯수\n",
      "\n",
      "                 0         1        0        1  Total\n",
      "variable                                             \n",
      "0.0       0.759120  0.240880  40805.0  12948.0  53753\n",
      "1.0       0.947136  0.052864   4497.0    251.0   4748\n",
      "2.0       0.907176  0.092824   5727.0    586.0   6313\n",
      "3.0       0.864807  0.135193   6915.0   1081.0   7996\n",
      "4.0       0.821356  0.178644   8092.0   1760.0   9852\n",
      "5.0       0.787537  0.212463   8948.0   2414.0  11362\n",
      "6.0       0.770671  0.229329   9591.0   2854.0  12445\n",
      "7.0       0.743616  0.256384   9609.0   3313.0  12922\n",
      "8.0       0.721284  0.278716   9482.0   3664.0  13146\n",
      "9.0       0.714722  0.285278   9137.0   3647.0  12784\n",
      "10.0      0.693586  0.306414   8726.0   3855.0  12581\n",
      "11.0      0.678837  0.321163   8032.0   3800.0  11832\n",
      "12.0      0.667531  0.332469   7206.0   3589.0  10795\n",
      "13.0      0.660346  0.339654   6443.0   3314.0   9757\n",
      "14.0      0.663255  0.336745   5897.0   2994.0   8891\n",
      "15.0      0.658083  0.341917   5060.0   2629.0   7689\n",
      "16.0      0.657310  0.342690   4379.0   2283.0   6662\n",
      "17.0      0.651806  0.348194   3699.0   1976.0   5675\n",
      "18.0      0.646129  0.353871   3146.0   1723.0   4869\n",
      "19.0      0.647770  0.352230   2571.0   1398.0   3969\n",
      "20.0      0.663712  0.336288   2246.0   1138.0   3384\n",
      "21.0      0.664962  0.335038   1820.0    917.0   2737\n",
      "22.0      0.687583  0.312417   1545.0    702.0   2247\n",
      "23.0      0.683087  0.316913   1248.0    579.0   1827\n",
      "24.0      0.684897  0.315103   1102.0    507.0   1609\n",
      "25.0      0.711095  0.288905    955.0    388.0   1343\n",
      "26.0      0.755489  0.244511    757.0    245.0   1002\n",
      "27.0      0.767442  0.232558    627.0    190.0    817\n",
      "28.0      0.770115  0.229885    536.0    160.0    696\n",
      "29.0      0.801905  0.198095    421.0    104.0    525\n",
      "30.0      0.790948  0.209052    367.0     97.0    464\n",
      "31.0      0.806818  0.193182    284.0     68.0    352\n",
      "32.0      0.813665  0.186335    262.0     60.0    322\n",
      "33.0      0.848606  0.151394    213.0     38.0    251\n",
      "34.0      0.860697  0.139303    173.0     28.0    201\n",
      "35.0      0.820359  0.179641    137.0     30.0    167\n",
      "36.0      0.892857  0.107143    125.0     15.0    140\n",
      "37.0      0.830508  0.169492     98.0     20.0    118\n",
      "38.0      0.862069  0.137931     75.0     12.0     87\n",
      "39.0      0.928571  0.071429     52.0      4.0     56\n",
      "40.0      0.867647  0.132353     59.0      9.0     68\n",
      "41.0      0.911765  0.088235     31.0      3.0     34\n",
      "42.0      0.880952  0.119048     37.0      5.0     42\n",
      "43.0      0.875000  0.125000     21.0      3.0     24\n",
      "44.0      0.882353  0.117647     15.0      2.0     17\n",
      "45.0      0.722222  0.277778     13.0      5.0     18\n",
      "46.0      1.000000  0.000000     20.0      0.0     20\n",
      "47.0      0.800000  0.200000     12.0      3.0     15\n",
      "48.0      0.750000  0.250000      3.0      1.0      4\n",
      "49.0      0.714286  0.285714      5.0      2.0      7\n",
      "50.0      0.900000  0.100000      9.0      1.0     10\n",
      "51.0      1.000000  0.000000     42.0      0.0     42\n"
     ]
    }
   ],
   "source": [
    "value_counts_ratio(train, '수집된_신선_난자_수')"
   ]
  },
  {
   "cell_type": "markdown",
   "metadata": {},
   "source": [
    "### 49. 저장된_신선_난자_수"
   ]
  },
  {
   "cell_type": "markdown",
   "metadata": {},
   "source": [
    "저장된 신선 난자의 수"
   ]
  },
  {
   "cell_type": "code",
   "execution_count": 261,
   "metadata": {},
   "outputs": [
    {
     "name": "stdout",
     "output_type": "stream",
     "text": [
      "\n",
      "저장된_신선_난자_수별 임신_성공_여부 비율 및 갯수\n",
      "\n",
      "                 0         1         0        1   Total\n",
      "variable                                               \n",
      "0.0       0.734324  0.265676  180687.0  65372.0  246059\n",
      "1.0       0.826087  0.173913      19.0      4.0      23\n",
      "2.0       0.923077  0.076923      24.0      2.0      26\n",
      "3.0       0.933333  0.066667      42.0      3.0      45\n",
      "4.0       0.923077  0.076923      48.0      4.0      52\n",
      "5.0       0.914286  0.085714      64.0      6.0      70\n",
      "6.0       0.924528  0.075472      49.0      4.0      53\n",
      "7.0       0.904762  0.095238      38.0      4.0      42\n",
      "8.0       0.975000  0.025000      39.0      1.0      40\n",
      "9.0       0.916667  0.083333      33.0      3.0      36\n",
      "10.0      0.976190  0.023810      41.0      1.0      42\n",
      "11.0      0.888889  0.111111      32.0      4.0      36\n",
      "12.0      0.913043  0.086957      21.0      2.0      23\n",
      "13.0      1.000000  0.000000      25.0      0.0      25\n",
      "14.0      0.923077  0.076923      24.0      2.0      26\n",
      "15.0      0.937500  0.062500      15.0      1.0      16\n",
      "16.0      0.909091  0.090909      10.0      1.0      11\n",
      "17.0      1.000000  0.000000      13.0      0.0      13\n",
      "18.0      1.000000  0.000000      10.0      0.0      10\n",
      "19.0      0.888889  0.111111       8.0      1.0       9\n",
      "20.0      1.000000  0.000000       4.0      0.0       4\n",
      "21.0      1.000000  0.000000       3.0      0.0       3\n",
      "22.0      1.000000  0.000000       5.0      0.0       5\n",
      "24.0      1.000000  0.000000       6.0      0.0       6\n",
      "25.0      1.000000  0.000000       4.0      0.0       4\n",
      "26.0      1.000000  0.000000       1.0      0.0       1\n",
      "27.0      1.000000  0.000000       2.0      0.0       2\n",
      "29.0      1.000000  0.000000       1.0      0.0       1\n",
      "30.0      1.000000  0.000000       1.0      0.0       1\n",
      "32.0      1.000000  0.000000       2.0      0.0       2\n",
      "34.0      1.000000  0.000000       1.0      0.0       1\n"
     ]
    }
   ],
   "source": [
    "value_counts_ratio(train, '저장된_신선_난자_수')"
   ]
  },
  {
   "cell_type": "code",
   "execution_count": 262,
   "metadata": {},
   "outputs": [],
   "source": [
    "# '저장된_신선_난자_수' 변수의 값이 20 이상인 행 제거\n",
    "train = train[train['저장된_신선_난자_수'] < 20]\n",
    "test = test[test['저장된_신선_난자_수'] < 20]"
   ]
  },
  {
   "cell_type": "code",
   "execution_count": 263,
   "metadata": {},
   "outputs": [
    {
     "name": "stdout",
     "output_type": "stream",
     "text": [
      "\n",
      "저장된_신선_난자_수별 임신_성공_여부 비율 및 갯수\n",
      "\n",
      "                 0         1         0        1   Total\n",
      "variable                                               \n",
      "0.0       0.734324  0.265676  180687.0  65372.0  246059\n",
      "1.0       0.826087  0.173913      19.0      4.0      23\n",
      "2.0       0.923077  0.076923      24.0      2.0      26\n",
      "3.0       0.933333  0.066667      42.0      3.0      45\n",
      "4.0       0.923077  0.076923      48.0      4.0      52\n",
      "5.0       0.914286  0.085714      64.0      6.0      70\n",
      "6.0       0.924528  0.075472      49.0      4.0      53\n",
      "7.0       0.904762  0.095238      38.0      4.0      42\n",
      "8.0       0.975000  0.025000      39.0      1.0      40\n",
      "9.0       0.916667  0.083333      33.0      3.0      36\n",
      "10.0      0.976190  0.023810      41.0      1.0      42\n",
      "11.0      0.888889  0.111111      32.0      4.0      36\n",
      "12.0      0.913043  0.086957      21.0      2.0      23\n",
      "13.0      1.000000  0.000000      25.0      0.0      25\n",
      "14.0      0.923077  0.076923      24.0      2.0      26\n",
      "15.0      0.937500  0.062500      15.0      1.0      16\n",
      "16.0      0.909091  0.090909      10.0      1.0      11\n",
      "17.0      1.000000  0.000000      13.0      0.0      13\n",
      "18.0      1.000000  0.000000      10.0      0.0      10\n",
      "19.0      0.888889  0.111111       8.0      1.0       9\n"
     ]
    }
   ],
   "source": [
    "value_counts_ratio(train, '저장된_신선_난자_수')"
   ]
  },
  {
   "cell_type": "markdown",
   "metadata": {},
   "source": [
    "### 50. 혼합된_난자_수"
   ]
  },
  {
   "cell_type": "markdown",
   "metadata": {},
   "source": [
    "정자와 혼합된 총 난자 수"
   ]
  },
  {
   "cell_type": "code",
   "execution_count": 264,
   "metadata": {},
   "outputs": [
    {
     "name": "stdout",
     "output_type": "stream",
     "text": [
      "\n",
      "혼합된_난자_수별 임신_성공_여부 비율 및 갯수\n",
      "\n",
      "                 0         1        0       1  Total\n",
      "variable                                            \n",
      "0.0       0.790131  0.209869  34460.0  9153.0  43613\n",
      "1.0       0.939201  0.060799   6040.0   391.0   6431\n",
      "2.0       0.892040  0.107960   7957.0   963.0   8920\n",
      "3.0       0.837464  0.162536   9259.0  1797.0  11056\n",
      "4.0       0.794334  0.205666  10795.0  2795.0  13590\n",
      "5.0       0.750129  0.249871  11621.0  3871.0  15492\n",
      "6.0       0.735604  0.264396  12008.0  4316.0  16324\n",
      "7.0       0.714366  0.285634  11397.0  4557.0  15954\n",
      "8.0       0.697610  0.302390  10626.0  4606.0  15232\n",
      "9.0       0.689239  0.310761   9710.0  4378.0  14088\n",
      "10.0      0.672185  0.327815   8729.0  4257.0  12986\n",
      "11.0      0.661051  0.338949   7651.0  3923.0  11574\n",
      "12.0      0.660670  0.339330   6721.0  3452.0  10173\n",
      "13.0      0.646262  0.353738   5627.0  3080.0   8707\n",
      "14.0      0.658853  0.341147   4975.0  2576.0   7551\n",
      "15.0      0.656462  0.343538   4267.0  2233.0   6500\n",
      "16.0      0.647601  0.352399   3442.0  1873.0   5315\n",
      "17.0      0.648723  0.351277   2820.0  1527.0   4347\n",
      "18.0      0.652825  0.347175   2311.0  1229.0   3540\n",
      "19.0      0.662693  0.337307   1890.0   962.0   2852\n",
      "20.0      0.662791  0.337209   1596.0   812.0   2408\n",
      "21.0      0.683498  0.316502   1313.0   608.0   1921\n",
      "22.0      0.694044  0.305956   1107.0   488.0   1595\n",
      "23.0      0.690994  0.309006    890.0   398.0   1288\n",
      "24.0      0.690909  0.309091    722.0   323.0   1045\n",
      "25.0      0.761677  0.238323    636.0   199.0    835\n",
      "26.0      0.760736  0.239264    496.0   156.0    652\n",
      "27.0      0.797373  0.202627    425.0   108.0    533\n",
      "28.0      0.797297  0.202703    354.0    90.0    444\n",
      "29.0      0.778816  0.221184    250.0    71.0    321\n",
      "30.0      0.803704  0.196296    217.0    53.0    270\n",
      "31.0      0.846154  0.153846    165.0    30.0    195\n",
      "32.0      0.828877  0.171123    155.0    32.0    187\n",
      "33.0      0.842466  0.157534    123.0    23.0    146\n",
      "34.0      0.842105  0.157895     96.0    18.0    114\n",
      "35.0      0.813725  0.186275     83.0    19.0    102\n",
      "36.0      0.863014  0.136986     63.0    10.0     73\n",
      "37.0      0.791045  0.208955     53.0    14.0     67\n",
      "38.0      0.857143  0.142857     48.0     8.0     56\n",
      "39.0      0.892857  0.107143     25.0     3.0     28\n",
      "40.0      0.928571  0.071429     26.0     2.0     28\n",
      "41.0      1.000000  0.000000     13.0     0.0     13\n",
      "42.0      0.761905  0.238095     16.0     5.0     21\n",
      "43.0      0.833333  0.166667     10.0     2.0     12\n",
      "44.0      1.000000  0.000000      8.0     0.0      8\n",
      "45.0      0.857143  0.142857      6.0     1.0      7\n",
      "46.0      1.000000  0.000000      8.0     0.0      8\n",
      "47.0      0.857143  0.142857      6.0     1.0      7\n",
      "48.0      1.000000  0.000000      2.0     0.0      2\n",
      "49.0      1.000000  0.000000      5.0     0.0      5\n",
      "50.0      0.666667  0.333333      2.0     1.0      3\n",
      "51.0      0.944444  0.055556     17.0     1.0     18\n"
     ]
    }
   ],
   "source": [
    "value_counts_ratio(train, '혼합된_난자_수')"
   ]
  },
  {
   "cell_type": "markdown",
   "metadata": {},
   "source": [
    "### 51. 파트너_정자와_혼합된_난자_수"
   ]
  },
  {
   "cell_type": "markdown",
   "metadata": {},
   "source": [
    "파트너 정자와 혼합된 난자의 수"
   ]
  },
  {
   "cell_type": "code",
   "execution_count": 265,
   "metadata": {},
   "outputs": [
    {
     "name": "stdout",
     "output_type": "stream",
     "text": [
      "\n",
      "파트너_정자와_혼합된_난자_수별 임신_성공_여부 비율 및 갯수\n",
      "\n",
      "                 0         1        0        1  Total\n",
      "variable                                             \n",
      "0.0       0.771288  0.228712  46140.0  13682.0  59822\n",
      "1.0       0.939187  0.060813   5359.0    347.0   5706\n",
      "2.0       0.892140  0.107860   7196.0    870.0   8066\n",
      "3.0       0.837594  0.162406   8453.0   1639.0  10092\n",
      "4.0       0.796469  0.203531   9881.0   2525.0  12406\n",
      "5.0       0.750844  0.249156  10674.0   3542.0  14216\n",
      "6.0       0.737162  0.262838  11053.0   3941.0  14994\n",
      "7.0       0.716823  0.283177  10533.0   4161.0  14694\n",
      "8.0       0.698257  0.301743   9814.0   4241.0  14055\n",
      "9.0       0.690715  0.309285   9009.0   4034.0  13043\n",
      "10.0      0.674025  0.325975   8091.0   3913.0  12004\n",
      "11.0      0.660125  0.339875   7064.0   3637.0  10701\n",
      "12.0      0.660988  0.339012   6247.0   3204.0   9451\n",
      "13.0      0.646546  0.353454   5195.0   2840.0   8035\n",
      "14.0      0.659647  0.340353   4636.0   2392.0   7028\n",
      "15.0      0.656592  0.343408   3954.0   2068.0   6022\n",
      "16.0      0.649714  0.350286   3181.0   1715.0   4896\n",
      "17.0      0.649079  0.350921   2608.0   1410.0   4018\n",
      "18.0      0.651552  0.348448   2141.0   1145.0   3286\n",
      "19.0      0.661435  0.338565   1770.0    906.0   2676\n",
      "20.0      0.666067  0.333933   1480.0    742.0   2222\n",
      "21.0      0.682478  0.317522   1223.0    569.0   1792\n",
      "22.0      0.699661  0.300339   1032.0    443.0   1475\n",
      "23.0      0.689256  0.310744    834.0    376.0   1210\n",
      "24.0      0.686722  0.313278    662.0    302.0    964\n",
      "25.0      0.761905  0.238095    576.0    180.0    756\n",
      "26.0      0.757525  0.242475    453.0    145.0    598\n",
      "27.0      0.797189  0.202811    397.0    101.0    498\n",
      "28.0      0.790123  0.209877    320.0     85.0    405\n",
      "29.0      0.791096  0.208904    231.0     61.0    292\n",
      "30.0      0.800797  0.199203    201.0     50.0    251\n",
      "31.0      0.844444  0.155556    152.0     28.0    180\n",
      "32.0      0.816568  0.183432    138.0     31.0    169\n",
      "33.0      0.857143  0.142857    108.0     18.0    126\n",
      "34.0      0.838095  0.161905     88.0     17.0    105\n",
      "35.0      0.826087  0.173913     76.0     16.0     92\n",
      "36.0      0.888889  0.111111     56.0      7.0     63\n",
      "37.0      0.783333  0.216667     47.0     13.0     60\n",
      "38.0      0.857143  0.142857     36.0      6.0     42\n",
      "39.0      0.884615  0.115385     23.0      3.0     26\n",
      "40.0      0.923077  0.076923     24.0      2.0     26\n",
      "41.0      1.000000  0.000000     12.0      0.0     12\n",
      "42.0      0.800000  0.200000     16.0      4.0     20\n",
      "43.0      0.833333  0.166667     10.0      2.0     12\n",
      "44.0      1.000000  0.000000      6.0      0.0      6\n",
      "45.0      1.000000  0.000000      5.0      0.0      5\n",
      "46.0      1.000000  0.000000      8.0      0.0      8\n",
      "47.0      0.833333  0.166667      5.0      1.0      6\n",
      "48.0      1.000000  0.000000      2.0      0.0      2\n",
      "49.0      1.000000  0.000000      4.0      0.0      4\n",
      "50.0      1.000000  0.000000      2.0      0.0      2\n",
      "51.0      0.941176  0.058824     16.0      1.0     17\n"
     ]
    }
   ],
   "source": [
    "value_counts_ratio(train, '파트너_정자와_혼합된_난자_수')"
   ]
  },
  {
   "cell_type": "markdown",
   "metadata": {},
   "source": [
    "### 52. 기증자_정자와_혼합된_난자_수"
   ]
  },
  {
   "cell_type": "markdown",
   "metadata": {},
   "source": [
    "기증자 정자와 혼합된 난자의 수"
   ]
  },
  {
   "cell_type": "code",
   "execution_count": 266,
   "metadata": {},
   "outputs": [
    {
     "name": "stdout",
     "output_type": "stream",
     "text": [
      "\n",
      "기증자_정자와_혼합된_난자_수별 임신_성공_여부 비율 및 갯수\n",
      "\n",
      "                 0         1         0        1   Total\n",
      "variable                                               \n",
      "0.0       0.735792  0.264208  170115.0  61085.0  231200\n",
      "1.0       0.937415  0.062585     689.0     46.0     735\n",
      "2.0       0.887227  0.112773     771.0     98.0     869\n",
      "3.0       0.835700  0.164300     824.0    162.0     986\n",
      "4.0       0.770000  0.230000     924.0    276.0    1200\n",
      "5.0       0.737490  0.262510     958.0    341.0    1299\n",
      "6.0       0.714916  0.285084     973.0    388.0    1361\n",
      "7.0       0.689351  0.310649     861.0    388.0    1249\n",
      "8.0       0.690784  0.309216     802.0    359.0    1161\n",
      "9.0       0.670319  0.329681     673.0    331.0    1004\n",
      "10.0      0.646237  0.353763     601.0    329.0     930\n",
      "11.0      0.667076  0.332924     543.0    271.0     814\n",
      "12.0      0.651584  0.348416     432.0    231.0     663\n",
      "13.0      0.634841  0.365159     379.0    218.0     597\n",
      "14.0      0.643460  0.356540     305.0    169.0     474\n",
      "15.0      0.638821  0.361179     260.0    147.0     407\n",
      "16.0      0.619718  0.380282     220.0    135.0     355\n",
      "17.0      0.644689  0.355311     176.0     97.0     273\n",
      "18.0      0.653465  0.346535     132.0     70.0     202\n",
      "19.0      0.675676  0.324324     100.0     48.0     148\n",
      "20.0      0.621622  0.378378      92.0     56.0     148\n",
      "21.0      0.672566  0.327434      76.0     37.0     113\n",
      "22.0      0.625000  0.375000      55.0     33.0      88\n",
      "23.0      0.614035  0.385965      35.0     22.0      57\n",
      "24.0      0.698413  0.301587      44.0     19.0      63\n",
      "25.0      0.741379  0.258621      43.0     15.0      58\n",
      "26.0      0.837838  0.162162      31.0      6.0      37\n",
      "27.0      0.800000  0.200000      20.0      5.0      25\n",
      "28.0      0.846154  0.153846      22.0      4.0      26\n",
      "29.0      0.619048  0.380952      13.0      8.0      21\n",
      "30.0      0.833333  0.166667      10.0      2.0      12\n",
      "31.0      0.818182  0.181818       9.0      2.0      11\n",
      "32.0      0.937500  0.062500      15.0      1.0      16\n",
      "33.0      0.666667  0.333333      10.0      5.0      15\n",
      "34.0      0.800000  0.200000       4.0      1.0       5\n",
      "35.0      0.666667  0.333333       4.0      2.0       6\n",
      "36.0      0.750000  0.250000       6.0      2.0       8\n",
      "37.0      0.800000  0.200000       4.0      1.0       5\n",
      "38.0      0.714286  0.285714       5.0      2.0       7\n",
      "39.0      1.000000  0.000000       2.0      0.0       2\n",
      "40.0      1.000000  0.000000       1.0      0.0       1\n",
      "41.0      1.000000  0.000000       1.0      0.0       1\n",
      "42.0      0.000000  1.000000       0.0      1.0       1\n",
      "45.0      0.000000  1.000000       0.0      1.0       1\n",
      "47.0      1.000000  0.000000       1.0      0.0       1\n",
      "49.0      1.000000  0.000000       1.0      0.0       1\n",
      "50.0      0.000000  1.000000       0.0      1.0       1\n"
     ]
    }
   ],
   "source": [
    "value_counts_ratio(train, '기증자_정자와_혼합된_난자_수')"
   ]
  },
  {
   "cell_type": "markdown",
   "metadata": {},
   "source": [
    "### 53. 난자_출처"
   ]
  },
  {
   "cell_type": "markdown",
   "metadata": {},
   "source": [
    "난자 출처 정보"
   ]
  },
  {
   "cell_type": "code",
   "execution_count": 267,
   "metadata": {},
   "outputs": [
    {
     "name": "stdout",
     "output_type": "stream",
     "text": [
      "\n",
      "난자_출처별 임신_성공_여부 비율 및 갯수\n",
      "\n",
      "                 0         1       0      1   Total\n",
      "variable                                           \n",
      "기증 제공     0.684411  0.315589   10787   4974   15761\n",
      "본인 제공     0.738233  0.261767  170455  60441  230896\n"
     ]
    }
   ],
   "source": [
    "value_counts_ratio(train, '난자_출처')"
   ]
  },
  {
   "cell_type": "code",
   "execution_count": 268,
   "metadata": {},
   "outputs": [
    {
     "data": {
      "text/plain": [
       "난자_출처\n",
       "본인 제공    81234\n",
       "기증 제공     5489\n",
       "Name: count, dtype: int64"
      ]
     },
     "execution_count": 268,
     "metadata": {},
     "output_type": "execute_result"
    }
   ],
   "source": [
    "test['난자_출처'].value_counts()"
   ]
  },
  {
   "cell_type": "markdown",
   "metadata": {},
   "source": [
    "### 54. 정자_출처"
   ]
  },
  {
   "cell_type": "markdown",
   "metadata": {},
   "source": [
    "정자 출처 정보"
   ]
  },
  {
   "cell_type": "code",
   "execution_count": 269,
   "metadata": {},
   "outputs": [
    {
     "name": "stdout",
     "output_type": "stream",
     "text": [
      "\n",
      "정자_출처별 임신_성공_여부 비율 및 갯수\n",
      "\n",
      "                    0         1         0        1   Total\n",
      "variable                                                  \n",
      "기증 제공        0.720428  0.279572   14879.0   5774.0   20653\n",
      "미할당          0.893443  0.106557     109.0     13.0     122\n",
      "배우자 및 기증 제공  1.000000  0.000000      14.0      0.0      14\n",
      "배우자 제공       0.736005  0.263995  166240.0  59628.0  225868\n"
     ]
    }
   ],
   "source": [
    "value_counts_ratio(train, '정자_출처')"
   ]
  },
  {
   "cell_type": "code",
   "execution_count": 270,
   "metadata": {},
   "outputs": [
    {
     "data": {
      "text/plain": [
       "정자_출처\n",
       "배우자 제공         79434\n",
       "기증 제공           7251\n",
       "미할당               33\n",
       "배우자 및 기증 제공        5\n",
       "Name: count, dtype: int64"
      ]
     },
     "execution_count": 270,
     "metadata": {},
     "output_type": "execute_result"
    }
   ],
   "source": [
    "test['정자_출처'].value_counts()"
   ]
  },
  {
   "cell_type": "code",
   "execution_count": 271,
   "metadata": {},
   "outputs": [],
   "source": [
    "# '정자_출처' 변수의 값이 '배우자 및 기증 제공'인 행 제거\n",
    "train = train[train['정자_출처'] != '배우자 및 기증 제공']\n",
    "test = test[test['정자_출처'] != '배우자 및 기증 제공']"
   ]
  },
  {
   "cell_type": "code",
   "execution_count": 272,
   "metadata": {},
   "outputs": [
    {
     "name": "stdout",
     "output_type": "stream",
     "text": [
      "\n",
      "정자_출처별 임신_성공_여부 비율 및 갯수\n",
      "\n",
      "                 0         1       0      1   Total\n",
      "variable                                           \n",
      "기증 제공     0.720428  0.279572   14879   5774   20653\n",
      "미할당       0.893443  0.106557     109     13     122\n",
      "배우자 제공    0.736005  0.263995  166240  59628  225868\n"
     ]
    }
   ],
   "source": [
    "value_counts_ratio(train, '정자_출처')"
   ]
  },
  {
   "cell_type": "markdown",
   "metadata": {},
   "source": [
    "### 55. 난자_기증자_나이"
   ]
  },
  {
   "cell_type": "markdown",
   "metadata": {},
   "source": [
    "난자 기증자의 등록 당시 나이"
   ]
  },
  {
   "cell_type": "code",
   "execution_count": 273,
   "metadata": {},
   "outputs": [
    {
     "name": "stdout",
     "output_type": "stream",
     "text": [
      "\n",
      "난자_기증자_나이별 임신_성공_여부 비율 및 갯수\n",
      "\n",
      "                 0         1       0      1   Total\n",
      "variable                                           \n",
      "만20세 이하   0.738095  0.261905     217     77     294\n",
      "만21-25세   0.669811  0.330189    1562    770    2332\n",
      "만26-30세   0.651658  0.348342    3242   1733    4975\n",
      "만31-35세   0.694641  0.305359    4420   1943    6363\n",
      "알 수 없음    0.738300  0.261700  171787  60892  232679\n"
     ]
    }
   ],
   "source": [
    "value_counts_ratio(train, '난자_기증자_나이')"
   ]
  },
  {
   "cell_type": "markdown",
   "metadata": {},
   "source": [
    "### 56. 정자_기증자_나이"
   ]
  },
  {
   "cell_type": "markdown",
   "metadata": {},
   "source": [
    "정자 기증자의 등록 당시 나이"
   ]
  },
  {
   "cell_type": "code",
   "execution_count": 274,
   "metadata": {},
   "outputs": [
    {
     "name": "stdout",
     "output_type": "stream",
     "text": [
      "\n",
      "정자_기증자_나이별 임신_성공_여부 비율 및 갯수\n",
      "\n",
      "                 0         1       0      1   Total\n",
      "variable                                           \n",
      "만20세 이하   0.761214  0.238786     577    181     758\n",
      "만21-25세   0.726486  0.273514    3190   1201    4391\n",
      "만26-30세   0.713768  0.286232    2758   1106    3864\n",
      "만31-35세   0.715951  0.284049    2702   1072    3774\n",
      "만36-40세   0.715892  0.284108    2928   1162    4090\n",
      "만41-45세   0.722488  0.277512    2114    812    2926\n",
      "알 수 없음    0.736021  0.263979  166959  59881  226840\n"
     ]
    }
   ],
   "source": [
    "value_counts_ratio(train, '정자_기증자_나이')"
   ]
  },
  {
   "cell_type": "markdown",
   "metadata": {},
   "source": [
    "### 57. 동결_배아_사용_여부"
   ]
  },
  {
   "cell_type": "markdown",
   "metadata": {},
   "source": [
    "동결 배아가 사용되었는지 여부"
   ]
  },
  {
   "cell_type": "code",
   "execution_count": 275,
   "metadata": {},
   "outputs": [
    {
     "name": "stdout",
     "output_type": "stream",
     "text": [
      "\n",
      "동결_배아_사용_여부별 임신_성공_여부 비율 및 갯수\n",
      "\n",
      "                 0         1       0      1   Total\n",
      "variable                                           \n",
      "0.0       0.727837  0.272163  150323  56211  206534\n",
      "1.0       0.770525  0.229475   30905   9204   40109\n"
     ]
    }
   ],
   "source": [
    "value_counts_ratio(train, '동결_배아_사용_여부')"
   ]
  },
  {
   "cell_type": "markdown",
   "metadata": {},
   "source": [
    "### 58. 신선_배아_사용_여부"
   ]
  },
  {
   "cell_type": "markdown",
   "metadata": {},
   "source": [
    "신선 배아가 사용되었는지 여부"
   ]
  },
  {
   "cell_type": "code",
   "execution_count": 276,
   "metadata": {},
   "outputs": [
    {
     "name": "stdout",
     "output_type": "stream",
     "text": [
      "\n",
      "신선_배아_사용_여부별 임신_성공_여부 비율 및 갯수\n",
      "\n",
      "                 0         1       0      1   Total\n",
      "variable                                           \n",
      "0.0       0.770341  0.229659   30742   9165   39907\n",
      "1.0       0.727914  0.272086  150486  56250  206736\n"
     ]
    }
   ],
   "source": [
    "value_counts_ratio(train, '신선_배아_사용_여부')"
   ]
  },
  {
   "cell_type": "markdown",
   "metadata": {},
   "source": [
    "### 59. 기증_배아_사용_여부"
   ]
  },
  {
   "cell_type": "markdown",
   "metadata": {},
   "source": [
    "기증 배아가 사용되었는지 여부"
   ]
  },
  {
   "cell_type": "code",
   "execution_count": 277,
   "metadata": {},
   "outputs": [
    {
     "name": "stdout",
     "output_type": "stream",
     "text": [
      "\n",
      "기증_배아_사용_여부별 임신_성공_여부 비율 및 갯수\n",
      "\n",
      "                 0         1       0      1   Total\n",
      "variable                                           \n",
      "0.0       0.735406  0.264594  179575  64610  244185\n",
      "1.0       0.672498  0.327502    1653    805    2458\n"
     ]
    }
   ],
   "source": [
    "value_counts_ratio(train, '기증_배아_사용_여부')"
   ]
  },
  {
   "cell_type": "code",
   "execution_count": 278,
   "metadata": {},
   "outputs": [
    {
     "name": "stdout",
     "output_type": "stream",
     "text": [
      "Grouped by: 신선_배아_사용_여부, 동결_배아_사용_여부, 기증_배아_사용_여부\n",
      "\n",
      "             group  '임신_성공_여부' count     ratio   Total\n",
      "0  (0.0, 0.0, 0.0)                 1  0.333333       3\n",
      "1  (0.0, 1.0, 0.0)              8916  0.229103   38917\n",
      "2  (0.0, 1.0, 1.0)               248  0.251266     987\n",
      "3  (1.0, 0.0, 0.0)             55653  0.271399  205060\n",
      "4  (1.0, 0.0, 1.0)               557  0.378654    1471\n",
      "5  (1.0, 1.0, 0.0)                40  0.195122     205\n"
     ]
    }
   ],
   "source": [
    "summarize_group(train, ['신선_배아_사용_여부', '동결_배아_사용_여부', '기증_배아_사용_여부'])"
   ]
  },
  {
   "cell_type": "markdown",
   "metadata": {},
   "source": [
    "### 60. 대리모_여부"
   ]
  },
  {
   "cell_type": "markdown",
   "metadata": {},
   "source": [
    "환자가 대리모로 활동했는지 여부"
   ]
  },
  {
   "cell_type": "code",
   "execution_count": 279,
   "metadata": {},
   "outputs": [
    {
     "name": "stdout",
     "output_type": "stream",
     "text": [
      "\n",
      "대리모_여부별 임신_성공_여부 비율 및 갯수\n",
      "\n",
      "                 0         1       0      1   Total\n",
      "variable                                           \n",
      "0.0       0.734894  0.265106  180495  65112  245607\n",
      "1.0       0.707529  0.292471     733    303    1036\n"
     ]
    }
   ],
   "source": [
    "value_counts_ratio(train, '대리모_여부')"
   ]
  },
  {
   "cell_type": "markdown",
   "metadata": {},
   "source": [
    "### 61. PGD_시술_여부"
   ]
  },
  {
   "cell_type": "markdown",
   "metadata": {},
   "source": [
    "해당 주기가 PGD 치료로 분류되는지 여부"
   ]
  },
  {
   "cell_type": "code",
   "execution_count": 280,
   "metadata": {},
   "outputs": [
    {
     "name": "stdout",
     "output_type": "stream",
     "text": [
      "\n",
      "PGD_시술_여부별 임신_성공_여부 비율 및 갯수\n",
      "\n",
      "                 0         1     0    1  Total\n",
      "variable                                      \n",
      "1.0       0.720514  0.279486  1570  609   2179\n"
     ]
    }
   ],
   "source": [
    "value_counts_ratio(train, 'PGD_시술_여부')"
   ]
  },
  {
   "cell_type": "code",
   "execution_count": 281,
   "metadata": {},
   "outputs": [
    {
     "data": {
      "text/plain": [
       "244464"
      ]
     },
     "execution_count": 281,
     "metadata": {},
     "output_type": "execute_result"
    }
   ],
   "source": [
    "train['PGD_시술_여부'].isnull().sum()"
   ]
  },
  {
   "cell_type": "code",
   "execution_count": 282,
   "metadata": {},
   "outputs": [
    {
     "name": "stdout",
     "output_type": "stream",
     "text": [
      "결측값 개수: 244464\n",
      "결측값 개수: 0\n"
     ]
    }
   ],
   "source": [
    "# 결측값 개수 확인\n",
    "print(\"결측값 개수:\", train['PGD_시술_여부'].isnull().sum())\n",
    "\n",
    "# 결측값을 0으로 채우기\n",
    "train['PGD_시술_여부'].fillna(0, inplace=True)\n",
    "test['PGD_시술_여부'].fillna(0, inplace=True)\n",
    "\n",
    "# 결측값 개수 확인\n",
    "print(\"결측값 개수:\", train['PGD_시술_여부'].isnull().sum())"
   ]
  },
  {
   "cell_type": "code",
   "execution_count": 283,
   "metadata": {},
   "outputs": [
    {
     "name": "stdout",
     "output_type": "stream",
     "text": [
      "\n",
      "PGD_시술_여부별 임신_성공_여부 비율 및 갯수\n",
      "\n",
      "                 0         1       0      1   Total\n",
      "variable                                           \n",
      "0.0       0.734906  0.265094  179658  64806  244464\n",
      "1.0       0.720514  0.279486    1570    609    2179\n"
     ]
    }
   ],
   "source": [
    "value_counts_ratio(train, 'PGD_시술_여부')"
   ]
  },
  {
   "cell_type": "markdown",
   "metadata": {},
   "source": [
    "### 62. PGS_시술_여부"
   ]
  },
  {
   "cell_type": "markdown",
   "metadata": {},
   "source": [
    "해당 주기가 PGS 치료로 분류되는지 여부"
   ]
  },
  {
   "cell_type": "code",
   "execution_count": 284,
   "metadata": {},
   "outputs": [
    {
     "name": "stdout",
     "output_type": "stream",
     "text": [
      "\n",
      "PGS_시술_여부별 임신_성공_여부 비율 및 갯수\n",
      "\n",
      "                 0         1     0    1  Total\n",
      "variable                                      \n",
      "1.0       0.793568  0.206432  1530  398   1928\n"
     ]
    }
   ],
   "source": [
    "value_counts_ratio(train, 'PGS_시술_여부')"
   ]
  },
  {
   "cell_type": "code",
   "execution_count": 285,
   "metadata": {},
   "outputs": [
    {
     "name": "stdout",
     "output_type": "stream",
     "text": [
      "결측값 개수: 244715\n",
      "결측값 개수: 0\n"
     ]
    }
   ],
   "source": [
    "# 결측값 개수 확인\n",
    "print(\"결측값 개수:\", train['PGS_시술_여부'].isnull().sum())\n",
    "\n",
    "# 결측값을 0으로 채우기\n",
    "train['PGS_시술_여부'].fillna(0, inplace=True)\n",
    "test['PGS_시술_여부'].fillna(0, inplace=True)\n",
    "\n",
    "# 결측값 개수 확인\n",
    "print(\"결측값 개수:\", train['PGS_시술_여부'].isnull().sum())"
   ]
  },
  {
   "cell_type": "code",
   "execution_count": 286,
   "metadata": {},
   "outputs": [
    {
     "name": "stdout",
     "output_type": "stream",
     "text": [
      "Grouped by: PGD_시술_여부, PGS_시술_여부\n",
      "\n",
      "        group  '임신_성공_여부' count     ratio   Total\n",
      "0  (0.0, 0.0)             64408  0.265561  242536\n",
      "1  (0.0, 1.0)               398  0.206432    1928\n",
      "2  (1.0, 0.0)               609  0.279486    2179\n"
     ]
    }
   ],
   "source": [
    "summarize_group(train, ['PGD_시술_여부', 'PGS_시술_여부'])"
   ]
  },
  {
   "cell_type": "markdown",
   "metadata": {},
   "source": [
    "### 63. 난자_채취_경과일"
   ]
  },
  {
   "cell_type": "markdown",
   "metadata": {},
   "source": [
    "첫 시점으로부터 난자 채취까지 경과한 일수"
   ]
  },
  {
   "cell_type": "code",
   "execution_count": 287,
   "metadata": {},
   "outputs": [
    {
     "name": "stdout",
     "output_type": "stream",
     "text": [
      "\n",
      "난자_채취_경과일별 임신_성공_여부 비율 및 갯수\n",
      "\n",
      "                 0         1       0      1   Total\n",
      "variable                                           \n",
      "0.0       0.731623  0.268377  143017  52462  195479\n"
     ]
    }
   ],
   "source": [
    "value_counts_ratio(train, '난자_채취_경과일')"
   ]
  },
  {
   "cell_type": "code",
   "execution_count": 288,
   "metadata": {},
   "outputs": [
    {
     "name": "stdout",
     "output_type": "stream",
     "text": [
      "결측값 개수: 51164\n",
      "결측값 개수: 0\n"
     ]
    }
   ],
   "source": [
    "print(\"결측값 개수:\", train['난자_채취_경과일'].isnull().sum())\n",
    "\n",
    "train['난자_채취_경과일'].fillna(-1, inplace=True)\n",
    "test['난자_채취_경과일'].fillna(-1, inplace=True)\n",
    "\n",
    "print(\"결측값 개수:\", train['난자_채취_경과일'].isnull().sum())"
   ]
  },
  {
   "cell_type": "markdown",
   "metadata": {},
   "source": [
    "### 64. 난자_해동_경과일"
   ]
  },
  {
   "cell_type": "markdown",
   "metadata": {},
   "source": [
    "첫 시점으로부터 난자 해동까지 경과한 일수"
   ]
  },
  {
   "cell_type": "code",
   "execution_count": 289,
   "metadata": {},
   "outputs": [
    {
     "name": "stdout",
     "output_type": "stream",
     "text": [
      "\n",
      "난자_해동_경과일별 임신_성공_여부 비율 및 갯수\n",
      "\n",
      "                 0         1       0      1  Total\n",
      "variable                                          \n",
      "0.0       0.775826  0.224174  1104.0  319.0   1423\n",
      "1.0       1.000000  0.000000     2.0    0.0      2\n"
     ]
    }
   ],
   "source": [
    "value_counts_ratio(train, '난자_해동_경과일')"
   ]
  },
  {
   "cell_type": "code",
   "execution_count": 290,
   "metadata": {},
   "outputs": [],
   "source": [
    "# '난자_해동_경과일' 변수의 값이 1인 행 제거\n",
    "train = train[train['난자_해동_경과일'] != 1]\n",
    "test = test[test['난자_해동_경과일'] != 1]"
   ]
  },
  {
   "cell_type": "code",
   "execution_count": 291,
   "metadata": {},
   "outputs": [
    {
     "data": {
      "text/plain": [
       "245218"
      ]
     },
     "execution_count": 291,
     "metadata": {},
     "output_type": "execute_result"
    }
   ],
   "source": [
    "train['난자_해동_경과일'].isnull().sum()"
   ]
  },
  {
   "cell_type": "code",
   "execution_count": 292,
   "metadata": {},
   "outputs": [
    {
     "name": "stdout",
     "output_type": "stream",
     "text": [
      "결측값 개수: 245218\n",
      "결측값 개수: 0\n"
     ]
    }
   ],
   "source": [
    "print(\"결측값 개수:\", train['난자_해동_경과일'].isnull().sum())\n",
    "\n",
    "train['난자_해동_경과일'].fillna(-1, inplace=True)\n",
    "test['난자_해동_경과일'].fillna(-1, inplace=True)\n",
    "\n",
    "print(\"결측값 개수:\", train['난자_해동_경과일'].isnull().sum())"
   ]
  },
  {
   "cell_type": "markdown",
   "metadata": {},
   "source": [
    "### 65. 난자_혼합_경과일"
   ]
  },
  {
   "cell_type": "markdown",
   "metadata": {},
   "source": [
    "첫 시점으로부터 난자와 정자 혼합까지 경과한 일수"
   ]
  },
  {
   "cell_type": "code",
   "execution_count": 293,
   "metadata": {},
   "outputs": [
    {
     "name": "stdout",
     "output_type": "stream",
     "text": [
      "\n",
      "난자_혼합_경과일별 임신_성공_여부 비율 및 갯수\n",
      "\n",
      "                 0         1         0        1   Total\n",
      "variable                                               \n",
      "0.0       0.722413  0.277587  145598.0  55946.0  201544\n",
      "1.0       0.845679  0.154321     411.0     75.0     486\n",
      "2.0       0.752475  0.247525      76.0     25.0     101\n",
      "3.0       0.720588  0.279412      49.0     19.0      68\n",
      "4.0       0.600000  0.400000       3.0      2.0       5\n",
      "5.0       0.791667  0.208333      19.0      5.0      24\n",
      "6.0       1.000000  0.000000       8.0      0.0       8\n",
      "7.0       1.000000  0.000000       1.0      0.0       1\n"
     ]
    }
   ],
   "source": [
    "value_counts_ratio(train, '난자_혼합_경과일')"
   ]
  },
  {
   "cell_type": "code",
   "execution_count": 294,
   "metadata": {},
   "outputs": [],
   "source": [
    "# '난자_혼합_경과일' 변수의 값이 6 이상인 행 제거\n",
    "train = train[train['난자_혼합_경과일'] < 6]\n",
    "test = test[test['난자_혼합_경과일'] < 6]"
   ]
  },
  {
   "cell_type": "code",
   "execution_count": 295,
   "metadata": {},
   "outputs": [
    {
     "name": "stdout",
     "output_type": "stream",
     "text": [
      "\n",
      "난자_혼합_경과일별 임신_성공_여부 비율 및 갯수\n",
      "\n",
      "                 0         1       0      1   Total\n",
      "variable                                           \n",
      "0.0       0.722413  0.277587  145598  55946  201544\n",
      "1.0       0.845679  0.154321     411     75     486\n",
      "2.0       0.752475  0.247525      76     25     101\n",
      "3.0       0.720588  0.279412      49     19      68\n",
      "4.0       0.600000  0.400000       3      2       5\n",
      "5.0       0.791667  0.208333      19      5      24\n"
     ]
    }
   ],
   "source": [
    "value_counts_ratio(train, '난자_혼합_경과일')"
   ]
  },
  {
   "cell_type": "code",
   "execution_count": 296,
   "metadata": {},
   "outputs": [
    {
     "data": {
      "text/plain": [
       "0"
      ]
     },
     "execution_count": 296,
     "metadata": {},
     "output_type": "execute_result"
    }
   ],
   "source": [
    "train['난자_혼합_경과일'].isnull().sum()"
   ]
  },
  {
   "cell_type": "code",
   "execution_count": 297,
   "metadata": {},
   "outputs": [
    {
     "name": "stdout",
     "output_type": "stream",
     "text": [
      "결측값 개수: 0\n",
      "결측값 개수: 0\n"
     ]
    }
   ],
   "source": [
    "print(\"결측값 개수:\", train['난자_혼합_경과일'].isnull().sum())\n",
    "\n",
    "train['난자_혼합_경과일'].fillna(-1, inplace=True)\n",
    "test['난자_혼합_경과일'].fillna(-1, inplace=True)\n",
    "\n",
    "print(\"결측값 개수:\", train['난자_혼합_경과일'].isnull().sum())"
   ]
  },
  {
   "cell_type": "code",
   "execution_count": 298,
   "metadata": {},
   "outputs": [
    {
     "name": "stdout",
     "output_type": "stream",
     "text": [
      "\n",
      "난자_혼합_경과일별 임신_성공_여부 비율 및 갯수\n",
      "\n",
      "                 0         1       0      1   Total\n",
      "variable                                           \n",
      "0.0       0.722413  0.277587  145598  55946  201544\n",
      "1.0       0.845679  0.154321     411     75     486\n",
      "2.0       0.752475  0.247525      76     25     101\n",
      "3.0       0.720588  0.279412      49     19      68\n",
      "4.0       0.600000  0.400000       3      2       5\n",
      "5.0       0.791667  0.208333      19      5      24\n"
     ]
    }
   ],
   "source": [
    "value_counts_ratio(train, '난자_혼합_경과일')"
   ]
  },
  {
   "cell_type": "markdown",
   "metadata": {},
   "source": [
    "### 66. 배아_이식_경과일"
   ]
  },
  {
   "cell_type": "markdown",
   "metadata": {},
   "source": [
    "첫 시점으로부터 배아 이식까지 경과한 일수"
   ]
  },
  {
   "cell_type": "code",
   "execution_count": 299,
   "metadata": {},
   "outputs": [
    {
     "name": "stdout",
     "output_type": "stream",
     "text": [
      "\n",
      "배아_이식_경과일별 임신_성공_여부 비율 및 갯수\n",
      "\n",
      "                 0         1      0      1  Total\n",
      "variable                                         \n",
      "0.0       0.757576  0.242424     25      8     33\n",
      "1.0       0.868421  0.131579    462     70    532\n",
      "2.0       0.789997  0.210003  25163   6689  31852\n",
      "3.0       0.742306  0.257694  42065  14603  56668\n",
      "4.0       0.650434  0.349566   1723    926   2649\n",
      "5.0       0.595381  0.404619  48361  32866  81227\n",
      "6.0       0.700000  0.300000   1925    825   2750\n",
      "7.0       0.597561  0.402439     49     33     82\n"
     ]
    }
   ],
   "source": [
    "value_counts_ratio(train, '배아_이식_경과일')"
   ]
  },
  {
   "cell_type": "code",
   "execution_count": 300,
   "metadata": {},
   "outputs": [
    {
     "name": "stdout",
     "output_type": "stream",
     "text": [
      "결측값 개수: 26435\n",
      "결측값 개수: 0\n"
     ]
    }
   ],
   "source": [
    "print(\"결측값 개수:\", train['배아_이식_경과일'].isnull().sum())\n",
    "\n",
    "train['배아_이식_경과일'].fillna(-1, inplace=True)\n",
    "test['배아_이식_경과일'].fillna(-1, inplace=True)\n",
    "\n",
    "print(\"결측값 개수:\", train['배아_이식_경과일'].isnull().sum())"
   ]
  },
  {
   "cell_type": "code",
   "execution_count": 301,
   "metadata": {},
   "outputs": [
    {
     "name": "stdout",
     "output_type": "stream",
     "text": [
      "\n",
      "배아_이식_경과일별 임신_성공_여부 비율 및 갯수\n",
      "\n",
      "                 0         1      0      1  Total\n",
      "variable                                         \n",
      "-1.0      0.998033  0.001967  26383     52  26435\n",
      " 0.0      0.757576  0.242424     25      8     33\n",
      " 1.0      0.868421  0.131579    462     70    532\n",
      " 2.0      0.789997  0.210003  25163   6689  31852\n",
      " 3.0      0.742306  0.257694  42065  14603  56668\n",
      " 4.0      0.650434  0.349566   1723    926   2649\n",
      " 5.0      0.595381  0.404619  48361  32866  81227\n",
      " 6.0      0.700000  0.300000   1925    825   2750\n",
      " 7.0      0.597561  0.402439     49     33     82\n"
     ]
    }
   ],
   "source": [
    "value_counts_ratio(train, '배아_이식_경과일')"
   ]
  },
  {
   "cell_type": "markdown",
   "metadata": {},
   "source": [
    "### 67. 배아_해동_경과일"
   ]
  },
  {
   "cell_type": "markdown",
   "metadata": {},
   "source": [
    "첫 시점으로부터 배아 해동까지 경과한 일수"
   ]
  },
  {
   "cell_type": "code",
   "execution_count": 302,
   "metadata": {},
   "outputs": [
    {
     "name": "stdout",
     "output_type": "stream",
     "text": [
      "\n",
      "배아_해동_경과일별 임신_성공_여부 비율 및 갯수\n",
      "\n",
      "                 0         1      0     1  Total\n",
      "variable                                        \n",
      "0.0       0.777778  0.222222    7.0   2.0      9\n",
      "1.0       0.823529  0.176471   28.0   6.0     34\n",
      "2.0       0.835227  0.164773  147.0  29.0    176\n",
      "3.0       0.888199  0.111801  143.0  18.0    161\n",
      "4.0       1.000000  0.000000   11.0   0.0     11\n",
      "5.0       0.795620  0.204380  109.0  28.0    137\n",
      "6.0       0.827586  0.172414   24.0   5.0     29\n",
      "7.0       1.000000  0.000000    3.0   0.0      3\n"
     ]
    }
   ],
   "source": [
    "value_counts_ratio(train, '배아_해동_경과일')"
   ]
  },
  {
   "cell_type": "code",
   "execution_count": 303,
   "metadata": {},
   "outputs": [],
   "source": [
    "# '배아_해동_경과일' 변수의 값이 7인 행 제거\n",
    "train = train[train['배아_해동_경과일'] != 7]\n",
    "test = test[test['배아_해동_경과일'] != 7]"
   ]
  },
  {
   "cell_type": "code",
   "execution_count": 304,
   "metadata": {},
   "outputs": [
    {
     "name": "stdout",
     "output_type": "stream",
     "text": [
      "결측값 개수: 201668\n",
      "결측값 개수: 0\n"
     ]
    }
   ],
   "source": [
    "print(\"결측값 개수:\", train['배아_해동_경과일'].isnull().sum())\n",
    "\n",
    "train['배아_해동_경과일'].fillna(-1, inplace=True)\n",
    "test['배아_해동_경과일'].fillna(-1, inplace=True)\n",
    "\n",
    "print(\"결측값 개수:\", train['배아_해동_경과일'].isnull().sum())"
   ]
  },
  {
   "cell_type": "code",
   "execution_count": 305,
   "metadata": {},
   "outputs": [
    {
     "name": "stdout",
     "output_type": "stream",
     "text": [
      "\n",
      "배아_해동_경과일별 임신_성공_여부 비율 및 갯수\n",
      "\n",
      "                 0         1         0        1   Total\n",
      "variable                                               \n",
      "-1.0      0.722395  0.277605  145684.0  55984.0  201668\n",
      " 0.0      0.777778  0.222222       7.0      2.0       9\n",
      " 1.0      0.823529  0.176471      28.0      6.0      34\n",
      " 2.0      0.835227  0.164773     147.0     29.0     176\n",
      " 3.0      0.888199  0.111801     143.0     18.0     161\n",
      " 4.0      1.000000  0.000000      11.0      0.0      11\n",
      " 5.0      0.795620  0.204380     109.0     28.0     137\n",
      " 6.0      0.827586  0.172414      24.0      5.0      29\n"
     ]
    }
   ],
   "source": [
    "value_counts_ratio(train, '배아_해동_경과일')"
   ]
  },
  {
   "cell_type": "markdown",
   "metadata": {},
   "source": [
    "### 68. 임신_성공_여부"
   ]
  },
  {
   "cell_type": "markdown",
   "metadata": {},
   "source": [
    "해당 시술로부터 임신 성공 여부"
   ]
  },
  {
   "cell_type": "code",
   "execution_count": 306,
   "metadata": {},
   "outputs": [
    {
     "data": {
      "text/plain": [
       "임신_성공_여부\n",
       "0    146153\n",
       "1     56072\n",
       "Name: count, dtype: int64"
      ]
     },
     "execution_count": 306,
     "metadata": {},
     "output_type": "execute_result"
    }
   ],
   "source": [
    "train['임신_성공_여부'].value_counts()"
   ]
  },
  {
   "cell_type": "markdown",
   "metadata": {},
   "source": [
    "## 변수 상테 확인"
   ]
  },
  {
   "cell_type": "code",
   "execution_count": 307,
   "metadata": {},
   "outputs": [
    {
     "name": "stdout",
     "output_type": "stream",
     "text": [
      "<class 'pandas.core.frame.DataFrame'>\n",
      "Index: 202225 entries, 0 to 256349\n",
      "Data columns (total 63 columns):\n",
      " #   Column                  Non-Null Count   Dtype  \n",
      "---  ------                  --------------   -----  \n",
      " 0   ID                      202225 non-null  object \n",
      " 1   시술_당시_나이                202225 non-null  float64\n",
      " 2   임신_시도_또는_마지막_임신_경과_연수   202225 non-null  float64\n",
      " 3   특정_시술_유형                202223 non-null  object \n",
      " 4   배란_자극_여부                202225 non-null  int64  \n",
      " 5   단일_배아_이식_여부             202225 non-null  float64\n",
      " 6   착상_전_유전_검사_사용_여부        202225 non-null  float64\n",
      " 7   착상_전_유전_진단_사용_여부        202225 non-null  float64\n",
      " 8   남성_주_불임_원인              202225 non-null  int64  \n",
      " 9   남성_부_불임_원인              202225 non-null  int64  \n",
      " 10  여성_주_불임_원인              202225 non-null  int64  \n",
      " 11  여성_부_불임_원인              202225 non-null  int64  \n",
      " 12  부부_주_불임_원인              202225 non-null  int64  \n",
      " 13  부부_부_불임_원인              202225 non-null  int64  \n",
      " 14  불명확_불임_원인               202225 non-null  int64  \n",
      " 15  불임_원인_-_난관_질환           202225 non-null  int64  \n",
      " 16  불임_원인_-_남성_요인           202225 non-null  int64  \n",
      " 17  불임_원인_-_배란_장애           202225 non-null  int64  \n",
      " 18  불임_원인_-_자궁내막증           202225 non-null  int64  \n",
      " 19  불임_원인_-_정자_농도           202225 non-null  int64  \n",
      " 20  불임_원인_-_정자_운동성          202225 non-null  int64  \n",
      " 21  불임_원인_-_정자_형태           202225 non-null  int64  \n",
      " 22  클리닉_내_총_시술_횟수           202225 non-null  int64  \n",
      " 23  IVF_시술_횟수               202225 non-null  int64  \n",
      " 24  IVF_임신_횟수               202225 non-null  int64  \n",
      " 25  IVF_출산_횟수               202225 non-null  int64  \n",
      " 26  총_생성_배아_수               202225 non-null  float64\n",
      " 27  미세주입된_난자_수              202225 non-null  float64\n",
      " 28  미세주입에서_생성된_배아_수         202225 non-null  float64\n",
      " 29  이식된_배아_수                202225 non-null  float64\n",
      " 30  미세주입_배아_이식_수            202225 non-null  float64\n",
      " 31  저장된_배아_수                202225 non-null  float64\n",
      " 32  미세주입_후_저장된_배아_수         202225 non-null  float64\n",
      " 33  해동된_배아_수                202225 non-null  float64\n",
      " 34  해동_난자_수                 202225 non-null  float64\n",
      " 35  수집된_신선_난자_수             202225 non-null  float64\n",
      " 36  저장된_신선_난자_수             202225 non-null  float64\n",
      " 37  혼합된_난자_수                202225 non-null  float64\n",
      " 38  파트너_정자와_혼합된_난자_수        202225 non-null  float64\n",
      " 39  기증자_정자와_혼합된_난자_수        202225 non-null  float64\n",
      " 40  난자_출처                   202225 non-null  object \n",
      " 41  정자_출처                   202225 non-null  object \n",
      " 42  난자_기증자_나이               202225 non-null  object \n",
      " 43  정자_기증자_나이               202225 non-null  object \n",
      " 44  동결_배아_사용_여부             202225 non-null  float64\n",
      " 45  신선_배아_사용_여부             202225 non-null  float64\n",
      " 46  기증_배아_사용_여부             202225 non-null  float64\n",
      " 47  대리모_여부                  202225 non-null  float64\n",
      " 48  PGD_시술_여부               202225 non-null  float64\n",
      " 49  PGS_시술_여부               202225 non-null  float64\n",
      " 50  난자_채취_경과일               202225 non-null  float64\n",
      " 51  난자_해동_경과일               202225 non-null  float64\n",
      " 52  난자_혼합_경과일               202225 non-null  float64\n",
      " 53  배아_이식_경과일               202225 non-null  float64\n",
      " 54  배아_해동_경과일               202225 non-null  float64\n",
      " 55  임신_성공_여부                202225 non-null  int64  \n",
      " 56  특정_시술_유형_ICSI_더미        202225 non-null  int64  \n",
      " 57  특정_시술_유형_AH_더미          202225 non-null  int64  \n",
      " 58  특정_시술_유형_BLASTOCYST_더미  202225 non-null  int64  \n",
      " 59  배아_생성_주요_이유_현재시술용       202225 non-null  int32  \n",
      " 60  배아_생성_주요_이유_기증용         202225 non-null  int32  \n",
      " 61  배아_생성_주요_이유_배아저장용       202225 non-null  int32  \n",
      " 62  IVF_임신_시술_비율            202225 non-null  float64\n",
      "dtypes: float64(31), int32(3), int64(23), object(6)\n",
      "memory usage: 96.4+ MB\n"
     ]
    }
   ],
   "source": [
    "train.info()"
   ]
  },
  {
   "cell_type": "code",
   "execution_count": 308,
   "metadata": {},
   "outputs": [
    {
     "name": "stdout",
     "output_type": "stream",
     "text": [
      "<class 'pandas.core.frame.DataFrame'>\n",
      "Index: 71350 entries, 0 to 90066\n",
      "Data columns (total 62 columns):\n",
      " #   Column                  Non-Null Count  Dtype  \n",
      "---  ------                  --------------  -----  \n",
      " 0   ID                      71350 non-null  object \n",
      " 1   시술_당시_나이                71350 non-null  float64\n",
      " 2   임신_시도_또는_마지막_임신_경과_연수   71350 non-null  float64\n",
      " 3   특정_시술_유형                71350 non-null  object \n",
      " 4   배란_자극_여부                71350 non-null  int64  \n",
      " 5   단일_배아_이식_여부             71350 non-null  float64\n",
      " 6   착상_전_유전_검사_사용_여부        71350 non-null  float64\n",
      " 7   착상_전_유전_진단_사용_여부        71350 non-null  float64\n",
      " 8   남성_주_불임_원인              71350 non-null  int64  \n",
      " 9   남성_부_불임_원인              71350 non-null  int64  \n",
      " 10  여성_주_불임_원인              71350 non-null  int64  \n",
      " 11  여성_부_불임_원인              71350 non-null  int64  \n",
      " 12  부부_주_불임_원인              71350 non-null  int64  \n",
      " 13  부부_부_불임_원인              71350 non-null  int64  \n",
      " 14  불명확_불임_원인               71350 non-null  int64  \n",
      " 15  불임_원인_-_난관_질환           71350 non-null  int64  \n",
      " 16  불임_원인_-_남성_요인           71350 non-null  int64  \n",
      " 17  불임_원인_-_배란_장애           71350 non-null  int64  \n",
      " 18  불임_원인_-_자궁내막증           71350 non-null  int64  \n",
      " 19  불임_원인_-_정자_농도           71350 non-null  int64  \n",
      " 20  불임_원인_-_정자_운동성          71350 non-null  int64  \n",
      " 21  불임_원인_-_정자_형태           71350 non-null  int64  \n",
      " 22  클리닉_내_총_시술_횟수           71350 non-null  int64  \n",
      " 23  IVF_시술_횟수               71350 non-null  int64  \n",
      " 24  IVF_임신_횟수               71350 non-null  int64  \n",
      " 25  IVF_출산_횟수               71350 non-null  int64  \n",
      " 26  총_생성_배아_수               71350 non-null  float64\n",
      " 27  미세주입된_난자_수              71350 non-null  float64\n",
      " 28  미세주입에서_생성된_배아_수         71350 non-null  float64\n",
      " 29  이식된_배아_수                71350 non-null  float64\n",
      " 30  미세주입_배아_이식_수            71350 non-null  float64\n",
      " 31  저장된_배아_수                71350 non-null  float64\n",
      " 32  미세주입_후_저장된_배아_수         71350 non-null  float64\n",
      " 33  해동된_배아_수                71350 non-null  float64\n",
      " 34  해동_난자_수                 71350 non-null  float64\n",
      " 35  수집된_신선_난자_수             71350 non-null  float64\n",
      " 36  저장된_신선_난자_수             71350 non-null  float64\n",
      " 37  혼합된_난자_수                71350 non-null  float64\n",
      " 38  파트너_정자와_혼합된_난자_수        71350 non-null  float64\n",
      " 39  기증자_정자와_혼합된_난자_수        71350 non-null  float64\n",
      " 40  난자_출처                   71350 non-null  object \n",
      " 41  정자_출처                   71350 non-null  object \n",
      " 42  난자_기증자_나이               71350 non-null  object \n",
      " 43  정자_기증자_나이               71350 non-null  object \n",
      " 44  동결_배아_사용_여부             71350 non-null  float64\n",
      " 45  신선_배아_사용_여부             71350 non-null  float64\n",
      " 46  기증_배아_사용_여부             71350 non-null  float64\n",
      " 47  대리모_여부                  71350 non-null  float64\n",
      " 48  PGD_시술_여부               71350 non-null  float64\n",
      " 49  PGS_시술_여부               71350 non-null  float64\n",
      " 50  난자_채취_경과일               71350 non-null  float64\n",
      " 51  난자_해동_경과일               71350 non-null  float64\n",
      " 52  난자_혼합_경과일               71350 non-null  float64\n",
      " 53  배아_이식_경과일               71350 non-null  float64\n",
      " 54  배아_해동_경과일               71350 non-null  float64\n",
      " 55  특정_시술_유형_ICSI_더미        71350 non-null  int64  \n",
      " 56  특정_시술_유형_AH_더미          71350 non-null  int64  \n",
      " 57  특정_시술_유형_BLASTOCYST_더미  71350 non-null  int64  \n",
      " 58  배아_생성_주요_이유_현재시술용       71350 non-null  int32  \n",
      " 59  배아_생성_주요_이유_기증용         71350 non-null  int32  \n",
      " 60  배아_생성_주요_이유_배아저장용       71350 non-null  int32  \n",
      " 61  IVF_임신_시술_비율            71350 non-null  float64\n",
      "dtypes: float64(31), int32(3), int64(22), object(6)\n",
      "memory usage: 33.5+ MB\n"
     ]
    }
   ],
   "source": [
    "test.info()"
   ]
  },
  {
   "cell_type": "markdown",
   "metadata": {},
   "source": [
    "## 데이터 저장"
   ]
  },
  {
   "cell_type": "code",
   "execution_count": 309,
   "metadata": {},
   "outputs": [
    {
     "name": "stdout",
     "output_type": "stream",
     "text": [
      "임신_성공_여부 값 개수:\n",
      "임신_성공_여부\n",
      "0    146153\n",
      "1     56072\n",
      "Name: count, dtype: int64\n",
      "\n",
      "임신_성공_여부 값 비율 (%):\n",
      "임신_성공_여부\n",
      "0    72.272469\n",
      "1    27.727531\n",
      "Name: count, dtype: float64\n"
     ]
    }
   ],
   "source": [
    "# '임신_성공_여부' 변수의 값 개수 계산\n",
    "value_counts = train['임신_성공_여부'].value_counts()\n",
    "\n",
    "# 각 값이 전체에서 차지하는 비율 계산\n",
    "value_percentages = value_counts / len(train) * 100\n",
    "\n",
    "# 결과 출력\n",
    "print(\"임신_성공_여부 값 개수:\")\n",
    "print(value_counts)\n",
    "print(\"\\n임신_성공_여부 값 비율 (%):\")\n",
    "print(value_percentages)"
   ]
  },
  {
   "cell_type": "code",
   "execution_count": 134,
   "metadata": {},
   "outputs": [],
   "source": [
    "# CSV 파일 저장\n",
    "train.to_csv('../data/IVF_train_dataset_41.csv', index=False, encoding='utf-8-sig')\n",
    "test.to_csv('../data/IVF_test_dataset_41.csv', index=False, encoding='utf-8-sig')"
   ]
  },
  {
   "cell_type": "markdown",
   "metadata": {},
   "source": [
    "."
   ]
  }
 ],
 "metadata": {
  "kernelspec": {
   "display_name": "Python 3",
   "language": "python",
   "name": "python3"
  },
  "language_info": {
   "codemirror_mode": {
    "name": "ipython",
    "version": 3
   },
   "file_extension": ".py",
   "mimetype": "text/x-python",
   "name": "python",
   "nbconvert_exporter": "python",
   "pygments_lexer": "ipython3",
   "version": "3.11.8"
  }
 },
 "nbformat": 4,
 "nbformat_minor": 2
}
