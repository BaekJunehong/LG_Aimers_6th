{
 "cells": [
  {
   "cell_type": "markdown",
   "metadata": {},
   "source": [
    "## 난임 환자 대상 임신 성공 여부 예측"
   ]
  },
  {
   "cell_type": "markdown",
   "metadata": {},
   "source": [
    "### LGAimers 6th 온라인 해커톤"
   ]
  },
  {
   "cell_type": "markdown",
   "metadata": {},
   "source": [
    "Import"
   ]
  },
  {
   "cell_type": "code",
   "execution_count": 1,
   "metadata": {},
   "outputs": [],
   "source": [
    "import pandas as pd\n",
    "import optuna\n",
    "from sklearn.preprocessing import OrdinalEncoder\n",
    "from sklearn.model_selection import train_test_split\n",
    "from sklearn.metrics import accuracy_score, f1_score, roc_auc_score, confusion_matrix, ConfusionMatrixDisplay\n",
    "import matplotlib.pyplot as plt\n",
    "import lightgbm as lgb"
   ]
  },
  {
   "cell_type": "markdown",
   "metadata": {},
   "source": [
    "### Data Load"
   ]
  },
  {
   "cell_type": "code",
   "execution_count": 2,
   "metadata": {},
   "outputs": [],
   "source": [
    "# 데이터 로드\n",
    "Total_train = pd.read_csv('../data/Total_train_dataset_30_copy.csv')\n",
    "Total_test = pd.read_csv('../data/Total_test_dataset_30_copy.csv')"
   ]
  },
  {
   "cell_type": "code",
   "execution_count": 3,
   "metadata": {},
   "outputs": [],
   "source": [
    "# ID 열을 제외한 특성과 타겟 변수 분리\n",
    "Total_X = Total_train.drop(['임신_성공_여부', 'ID'], axis=1)\n",
    "Total_y = Total_train['임신_성공_여부']"
   ]
  },
  {
   "cell_type": "markdown",
   "metadata": {},
   "source": [
    "### 인코딩 "
   ]
  },
  {
   "cell_type": "code",
   "execution_count": 4,
   "metadata": {},
   "outputs": [],
   "source": [
    "Total_categorical_columns = [\n",
    "    \"시술_시기_코드\",\n",
    "    \"시술_당시_나이\",\n",
    "    \"특정_시술_유형\",\n",
    "    \"배란_유도_유형\",\n",
    "    \"단일_배아_이식_여부\",\n",
    "    \"착상_전_유전_진단_사용_여부\",\n",
    "    \"배아_생성_주요_이유\",\n",
    "    \"총_생성_배아_수\",\n",
    "    \"미세주입된_난자_수\",\n",
    "    \"미세주입에서_생성된_배아_수\",\n",
    "    \"이식된_배아_수\",\n",
    "    \"미세주입_배아_이식_수\",\n",
    "    \"저장된_배아_수\",\n",
    "    \"미세주입_후_저장된_배아_수\",\n",
    "    \"해동된_배아_수\",\n",
    "    \"해동_난자_수\",\n",
    "    \"수집된_신선_난자_수\",\n",
    "    \"저장된_신선_난자_수\",\n",
    "    \"혼합된_난자_수\",\n",
    "    \"파트너_정자와_혼합된_난자_수\",\n",
    "    \"기증자_정자와_혼합된_난자_수\",\n",
    "    \"난자_출처\",\n",
    "    \"정자_출처\",\n",
    "    \"난자_기증자_나이\",\n",
    "    \"정자_기증자_나이\",\n",
    "    \"동결_배아_사용_여부\",\n",
    "    \"신선_배아_사용_여부\",\n",
    "    \"기증_배아_사용_여부\",\n",
    "    \"대리모_여부\",\n",
    "    \"ICSI_배아_이식_비율\",\n",
    "    \"ICSI_배아_생성_비율\",\n",
    "    \"ICSI_성공률\"\n",
    "]"
   ]
  },
  {
   "cell_type": "code",
   "execution_count": 5,
   "metadata": {},
   "outputs": [],
   "source": [
    "# 모든 범주형 변수를 문자열로 변환\n",
    "Total_X[Total_categorical_columns] = Total_X[Total_categorical_columns].astype(str)\n",
    "Total_test[Total_categorical_columns] = Total_test[Total_categorical_columns].astype(str)\n",
    "\n",
    "# OrdinalEncoder를 사용하여 범주형 변수 인코딩\n",
    "Total_encoder = OrdinalEncoder(handle_unknown='use_encoded_value', unknown_value=-1)\n",
    "\n",
    "Total_X[Total_categorical_columns] = Total_encoder.fit_transform(Total_X[Total_categorical_columns])\n",
    "Total_test[Total_categorical_columns] = Total_encoder.transform(Total_test[Total_categorical_columns])"
   ]
  },
  {
   "cell_type": "markdown",
   "metadata": {},
   "source": [
    "## Modeling"
   ]
  },
  {
   "cell_type": "code",
   "execution_count": 6,
   "metadata": {},
   "outputs": [],
   "source": [
    "# 데이터 분할\n",
    "Total_X_train, Total_X_test, Total_y_train, Total_y_test = train_test_split(Total_X, Total_y, test_size=0.2, random_state=42)"
   ]
  },
  {
   "cell_type": "markdown",
   "metadata": {},
   "source": [
    "### Total 데이터"
   ]
  },
  {
   "cell_type": "markdown",
   "metadata": {},
   "source": [
    "optuna"
   ]
  },
  {
   "cell_type": "code",
   "execution_count": 7,
   "metadata": {},
   "outputs": [
    {
     "name": "stderr",
     "output_type": "stream",
     "text": [
      "[I 2025-02-14 23:48:31,377] A new study created in memory with name: no-name-6be205b5-1880-4fa2-8886-425f77896b4b\n",
      "[I 2025-02-15 00:00:07,378] Trial 0 finished with value: 0.7231358426437665 and parameters: {'iterations': 4384, 'learning_rate': 5.389427875463091e-06, 'depth': 8, 'min_data_in_leaf': 3, 'l2_leaf_reg': 0.0001102030793969428, 'random_strength': 3.750874028992066, 'bagging_temperature': 5.023566258260629, 'border_count': 137, 'scale_pos_weight': 3.431920556272233, 'grow_policy': 'Depthwise'}. Best is trial 0 with value: 0.7231358426437665.\n",
      "[I 2025-02-15 00:01:59,660] Trial 1 finished with value: 0.7203404036655595 and parameters: {'iterations': 1693, 'learning_rate': 0.002658259243797894, 'depth': 4, 'min_data_in_leaf': 31, 'l2_leaf_reg': 0.003941930727562303, 'random_strength': 6.108264843944272, 'bagging_temperature': 5.979192482987826, 'border_count': 146, 'scale_pos_weight': 4.126379291682463, 'grow_policy': 'Lossguide'}. Best is trial 0 with value: 0.7231358426437665.\n",
      "[I 2025-02-15 00:05:27,037] Trial 2 finished with value: 0.7114895562110646 and parameters: {'iterations': 1404, 'learning_rate': 2.8417955789664996e-06, 'depth': 11, 'min_data_in_leaf': 32, 'l2_leaf_reg': 2.3851166817821277, 'random_strength': 9.293361564802293, 'bagging_temperature': 0.3178409466817922, 'border_count': 51, 'scale_pos_weight': 8.625352680680491, 'grow_policy': 'SymmetricTree'}. Best is trial 0 with value: 0.7231358426437665.\n",
      "[I 2025-02-15 00:23:21,784] Trial 3 finished with value: 0.73244496184188 and parameters: {'iterations': 6879, 'learning_rate': 0.002136342370055175, 'depth': 14, 'min_data_in_leaf': 46, 'l2_leaf_reg': 2.086731397870376, 'random_strength': 9.18262351352032, 'bagging_temperature': 7.733929769951303, 'border_count': 25, 'scale_pos_weight': 6.604560855678975, 'grow_policy': 'Lossguide'}. Best is trial 3 with value: 0.73244496184188.\n",
      "[I 2025-02-15 00:32:34,099] Trial 4 finished with value: 0.7326309748440079 and parameters: {'iterations': 3604, 'learning_rate': 0.0009851511527983366, 'depth': 14, 'min_data_in_leaf': 38, 'l2_leaf_reg': 0.14753571623843617, 'random_strength': 0.9929858515652523, 'bagging_temperature': 2.5947968177495104, 'border_count': 130, 'scale_pos_weight': 8.224809578175941, 'grow_policy': 'Lossguide'}. Best is trial 4 with value: 0.7326309748440079.\n",
      "[I 2025-02-15 00:34:28,667] Trial 5 finished with value: 0.7121400474120663 and parameters: {'iterations': 3342, 'learning_rate': 1.3524461057863308e-05, 'depth': 5, 'min_data_in_leaf': 30, 'l2_leaf_reg': 0.013893117782158237, 'random_strength': 0.6861926569094057, 'bagging_temperature': 5.8473333370537155, 'border_count': 94, 'scale_pos_weight': 3.567593189606083, 'grow_policy': 'SymmetricTree'}. Best is trial 4 with value: 0.7326309748440079.\n",
      "[I 2025-02-15 00:35:17,162] Trial 6 finished with value: 0.7246148102295208 and parameters: {'iterations': 1839, 'learning_rate': 0.0019068710674867559, 'depth': 3, 'min_data_in_leaf': 41, 'l2_leaf_reg': 0.002944003499780773, 'random_strength': 4.757601463697682, 'bagging_temperature': 7.32733365919207, 'border_count': 177, 'scale_pos_weight': 6.918459481982239, 'grow_policy': 'SymmetricTree'}. Best is trial 4 with value: 0.7326309748440079.\n",
      "[I 2025-02-15 04:42:03,500] Trial 7 finished with value: 0.7327785684369384 and parameters: {'iterations': 7601, 'learning_rate': 0.0059593078506234715, 'depth': 11, 'min_data_in_leaf': 9, 'l2_leaf_reg': 0.09649272176549017, 'random_strength': 5.795330854920948, 'bagging_temperature': 3.8871903467473032, 'border_count': 212, 'scale_pos_weight': 8.27862142373267, 'grow_policy': 'Depthwise'}. Best is trial 7 with value: 0.7327785684369384.\n",
      "[I 2025-02-15 04:51:19,881] Trial 8 finished with value: 0.737984346062168 and parameters: {'iterations': 3340, 'learning_rate': 0.012407245927924719, 'depth': 15, 'min_data_in_leaf': 15, 'l2_leaf_reg': 2.9236490699597746, 'random_strength': 6.550787925020327, 'bagging_temperature': 2.298111709976498, 'border_count': 64, 'scale_pos_weight': 2.076418622223392, 'grow_policy': 'Lossguide'}. Best is trial 8 with value: 0.737984346062168.\n",
      "[I 2025-02-15 05:01:36,723] Trial 9 finished with value: 0.6906660360268428 and parameters: {'iterations': 4100, 'learning_rate': 0.00032192393099648927, 'depth': 12, 'min_data_in_leaf': 13, 'l2_leaf_reg': 0.012294812387444568, 'random_strength': 5.8885943623891475, 'bagging_temperature': 1.9472517335673867, 'border_count': 216, 'scale_pos_weight': 0.9950783196494327, 'grow_policy': 'Lossguide'}. Best is trial 8 with value: 0.737984346062168.\n",
      "[I 2025-02-15 05:14:51,021] Trial 10 finished with value: 0.7192949649262522 and parameters: {'iterations': 6147, 'learning_rate': 0.08543650798477474, 'depth': 16, 'min_data_in_leaf': 15, 'l2_leaf_reg': 7.781088401357121, 'random_strength': 2.693694636960095, 'bagging_temperature': 0.07301722522356391, 'border_count': 74, 'scale_pos_weight': 0.42629666020175705, 'grow_policy': 'Lossguide'}. Best is trial 8 with value: 0.737984346062168.\n",
      "[I 2025-02-15 05:29:27,763] Trial 11 finished with value: 0.736120940548836 and parameters: {'iterations': 7777, 'learning_rate': 0.04598744441659923, 'depth': 8, 'min_data_in_leaf': 17, 'l2_leaf_reg': 0.18587548555692993, 'random_strength': 7.567737748800901, 'bagging_temperature': 2.9208901007604187, 'border_count': 245, 'scale_pos_weight': 2.1344128904495103, 'grow_policy': 'Depthwise'}. Best is trial 8 with value: 0.737984346062168.\n",
      "[I 2025-02-15 05:40:40,878] Trial 12 finished with value: 0.7373713828389821 and parameters: {'iterations': 5571, 'learning_rate': 0.05348762943700919, 'depth': 7, 'min_data_in_leaf': 21, 'l2_leaf_reg': 0.4566294640970846, 'random_strength': 7.426243604878379, 'bagging_temperature': 2.836956797031081, 'border_count': 251, 'scale_pos_weight': 1.9605414943345738, 'grow_policy': 'Depthwise'}. Best is trial 8 with value: 0.737984346062168.\n",
      "[I 2025-02-15 05:48:29,554] Trial 13 finished with value: 0.7377427158367817 and parameters: {'iterations': 5473, 'learning_rate': 0.017580176264068544, 'depth': 6, 'min_data_in_leaf': 21, 'l2_leaf_reg': 0.893165474435193, 'random_strength': 7.719576529034753, 'bagging_temperature': 1.6185654785288817, 'border_count': 84, 'scale_pos_weight': 2.101991771265765, 'grow_policy': 'Depthwise'}. Best is trial 8 with value: 0.737984346062168.\n",
      "[I 2025-02-15 05:52:40,305] Trial 14 finished with value: 0.727803124636986 and parameters: {'iterations': 2738, 'learning_rate': 0.012939563526446629, 'depth': 6, 'min_data_in_leaf': 22, 'l2_leaf_reg': 1.1383432071048218, 'random_strength': 8.015361811797405, 'bagging_temperature': 1.3404031800234488, 'border_count': 14, 'scale_pos_weight': 5.222207218703764, 'grow_policy': 'Depthwise'}. Best is trial 8 with value: 0.737984346062168.\n",
      "[I 2025-02-15 05:55:29,101] Trial 15 finished with value: 0.6894152798106954 and parameters: {'iterations': 5381, 'learning_rate': 4.355858541924945e-05, 'depth': 2, 'min_data_in_leaf': 1, 'l2_leaf_reg': 6.25519307394728, 'random_strength': 9.89852193362547, 'bagging_temperature': 9.230297862461406, 'border_count': 94, 'scale_pos_weight': 2.1382952430248903, 'grow_policy': 'Lossguide'}. Best is trial 8 with value: 0.737984346062168.\n",
      "[I 2025-02-15 06:48:46,572] Trial 16 finished with value: 0.7259214354020409 and parameters: {'iterations': 4922, 'learning_rate': 0.015916200542182013, 'depth': 10, 'min_data_in_leaf': 8, 'l2_leaf_reg': 0.5580507491103721, 'random_strength': 6.880461871677117, 'bagging_temperature': 1.2021712181409951, 'border_count': 51, 'scale_pos_weight': 5.249280986076071, 'grow_policy': 'Depthwise'}. Best is trial 8 with value: 0.737984346062168.\n",
      "[I 2025-02-15 09:19:47,105] Trial 17 finished with value: 0.7278887227805722 and parameters: {'iterations': 2532, 'learning_rate': 0.00012357082260574235, 'depth': 14, 'min_data_in_leaf': 24, 'l2_leaf_reg': 8.71912818418428, 'random_strength': 4.502450225450017, 'bagging_temperature': 3.718468778039527, 'border_count': 96, 'scale_pos_weight': 2.6187540751555467, 'grow_policy': 'Depthwise'}. Best is trial 8 with value: 0.737984346062168.\n",
      "[I 2025-02-15 09:39:32,722] Trial 18 finished with value: 0.5448770457284042 and parameters: {'iterations': 6194, 'learning_rate': 0.00047728952711331013, 'depth': 5, 'min_data_in_leaf': 19, 'l2_leaf_reg': 0.04330640097177154, 'random_strength': 8.420490128273325, 'bagging_temperature': 3.9634711165424745, 'border_count': 2, 'scale_pos_weight': 0.1265584303554863, 'grow_policy': 'Lossguide'}. Best is trial 8 with value: 0.737984346062168.\n",
      "Training has stopped (degenerate solution on iteration 154, probably too small l2-regularization, try to increase it)\n",
      "[I 2025-02-15 09:52:30,251] Trial 19 finished with value: 0.7201002789029163 and parameters: {'iterations': 3578, 'learning_rate': 0.013543930271496802, 'depth': 16, 'min_data_in_leaf': 28, 'l2_leaf_reg': 0.00014804352268949937, 'random_strength': 3.234223456961722, 'bagging_temperature': 1.1500189208004072, 'border_count': 48, 'scale_pos_weight': 1.1409222734889544, 'grow_policy': 'SymmetricTree'}. Best is trial 8 with value: 0.737984346062168.\n",
      "[I 2025-02-15 10:14:34,375] Trial 20 finished with value: 0.7207394549472238 and parameters: {'iterations': 4889, 'learning_rate': 0.0001248288014544823, 'depth': 9, 'min_data_in_leaf': 8, 'l2_leaf_reg': 0.504442675918861, 'random_strength': 6.66271200734521, 'bagging_temperature': 1.9562382384820896, 'border_count': 108, 'scale_pos_weight': 4.392033715254874, 'grow_policy': 'Lossguide'}. Best is trial 8 with value: 0.737984346062168.\n",
      "[I 2025-02-15 10:35:51,925] Trial 21 finished with value: 0.7362686733353712 and parameters: {'iterations': 5722, 'learning_rate': 0.03675691394125153, 'depth': 7, 'min_data_in_leaf': 20, 'l2_leaf_reg': 0.48948132998775995, 'random_strength': 7.25545967207573, 'bagging_temperature': 2.858471340020994, 'border_count': 165, 'scale_pos_weight': 1.6012053135077733, 'grow_policy': 'Depthwise'}. Best is trial 8 with value: 0.737984346062168.\n",
      "[I 2025-02-15 11:05:57,508] Trial 22 finished with value: 0.7372196637845416 and parameters: {'iterations': 7027, 'learning_rate': 0.006499424376342886, 'depth': 7, 'min_data_in_leaf': 26, 'l2_leaf_reg': 1.9769361925290838, 'random_strength': 8.35648519737594, 'bagging_temperature': 4.75993888311748, 'border_count': 78, 'scale_pos_weight': 2.889087890885067, 'grow_policy': 'Depthwise'}. Best is trial 8 with value: 0.737984346062168.\n",
      "[I 2025-02-15 11:20:31,689] Trial 23 finished with value: 0.7352291616769214 and parameters: {'iterations': 5273, 'learning_rate': 0.0897347949471, 'depth': 6, 'min_data_in_leaf': 12, 'l2_leaf_reg': 0.35066427185435445, 'random_strength': 5.731186092136924, 'bagging_temperature': 2.3125472589244107, 'border_count': 251, 'scale_pos_weight': 1.5094553036598193, 'grow_policy': 'Depthwise'}. Best is trial 8 with value: 0.737984346062168.\n",
      "[I 2025-02-15 11:34:50,631] Trial 24 finished with value: 0.7234208825171466 and parameters: {'iterations': 4155, 'learning_rate': 0.029533583113188832, 'depth': 9, 'min_data_in_leaf': 36, 'l2_leaf_reg': 1.2503719776567335, 'random_strength': 6.589232760626512, 'bagging_temperature': 3.3852583357765376, 'border_count': 68, 'scale_pos_weight': 2.931826691960463, 'grow_policy': 'Depthwise'}. Best is trial 8 with value: 0.737984346062168.\n",
      "[I 2025-02-15 11:46:02,662] Trial 25 finished with value: 0.7306317252574601 and parameters: {'iterations': 6284, 'learning_rate': 0.006600350848567139, 'depth': 4, 'min_data_in_leaf': 22, 'l2_leaf_reg': 3.827475107055355, 'random_strength': 8.011653992415066, 'bagging_temperature': 0.5834503474633901, 'border_count': 115, 'scale_pos_weight': 6.122328157080444, 'grow_policy': 'Depthwise'}. Best is trial 8 with value: 0.737984346062168.\n",
      "[I 2025-02-15 11:58:48,916] Trial 26 finished with value: 0.7322187011571124 and parameters: {'iterations': 3048, 'learning_rate': 0.025867485832668426, 'depth': 7, 'min_data_in_leaf': 17, 'l2_leaf_reg': 0.07182898075233454, 'random_strength': 5.1623746128932755, 'bagging_temperature': 4.474794516853293, 'border_count': 194, 'scale_pos_weight': 4.267742950910101, 'grow_policy': 'Depthwise'}. Best is trial 8 with value: 0.737984346062168.\n",
      "[I 2025-02-15 12:31:41,583] Trial 27 finished with value: 0.7359342453993276 and parameters: {'iterations': 2177, 'learning_rate': 0.005667140809123183, 'depth': 12, 'min_data_in_leaf': 26, 'l2_leaf_reg': 0.7883516953507462, 'random_strength': 8.775796708390452, 'bagging_temperature': 1.6932581305782548, 'border_count': 35, 'scale_pos_weight': 2.083707355851737, 'grow_policy': 'Depthwise'}. Best is trial 8 with value: 0.737984346062168.\n",
      "[I 2025-02-15 12:38:14,084] Trial 28 finished with value: 0.7319141682559813 and parameters: {'iterations': 4694, 'learning_rate': 0.0008815070919599269, 'depth': 8, 'min_data_in_leaf': 11, 'l2_leaf_reg': 0.204394933806407, 'random_strength': 7.52423724687127, 'bagging_temperature': 3.0587546675031985, 'border_count': 158, 'scale_pos_weight': 0.9945468152083372, 'grow_policy': 'SymmetricTree'}. Best is trial 8 with value: 0.737984346062168.\n",
      "[I 2025-02-15 12:56:45,710] Trial 29 finished with value: 0.7192918049352752 and parameters: {'iterations': 4207, 'learning_rate': 0.0880664276830407, 'depth': 10, 'min_data_in_leaf': 6, 'l2_leaf_reg': 3.1235594140781453, 'random_strength': 4.029805087038398, 'bagging_temperature': 0.9729041039175383, 'border_count': 118, 'scale_pos_weight': 3.486530934619317, 'grow_policy': 'Lossguide'}. Best is trial 8 with value: 0.737984346062168.\n",
      "Training has stopped (degenerate solution on iteration 1207, probably too small l2-regularization, try to increase it)\n",
      "[I 2025-02-15 13:02:06,358] Trial 30 finished with value: 0.7374591794517671 and parameters: {'iterations': 6845, 'learning_rate': 0.01442273308489511, 'depth': 6, 'min_data_in_leaf': 4, 'l2_leaf_reg': 0.0005875810893415877, 'random_strength': 2.1947359509741404, 'bagging_temperature': 5.39774058225003, 'border_count': 66, 'scale_pos_weight': 0.5710389032341172, 'grow_policy': 'Depthwise'}. Best is trial 8 with value: 0.737984346062168.\n",
      "Training has stopped (degenerate solution on iteration 698, probably too small l2-regularization, try to increase it)\n",
      "[I 2025-02-15 13:05:03,034] Trial 31 finished with value: 0.7367135173385122 and parameters: {'iterations': 7147, 'learning_rate': 0.015144220206786576, 'depth': 6, 'min_data_in_leaf': 5, 'l2_leaf_reg': 0.00036981420463315064, 'random_strength': 2.135588581244392, 'bagging_temperature': 5.636028404076114, 'border_count': 76, 'scale_pos_weight': 0.57865911476242, 'grow_policy': 'Depthwise'}. Best is trial 8 with value: 0.737984346062168.\n",
      "[I 2025-02-15 13:22:23,067] Trial 32 finished with value: 0.7149019278981552 and parameters: {'iterations': 6655, 'learning_rate': 0.0464193119780422, 'depth': 5, 'min_data_in_leaf': 3, 'l2_leaf_reg': 0.0010820114538123986, 'random_strength': 1.5397458455586053, 'bagging_temperature': 6.46375064293165, 'border_count': 58, 'scale_pos_weight': 1.6912057778001999, 'grow_policy': 'Depthwise'}. Best is trial 8 with value: 0.737984346062168.\n",
      "[I 2025-02-15 13:31:12,465] Trial 33 finished with value: 0.7360378390054313 and parameters: {'iterations': 5646, 'learning_rate': 0.0029915636410869748, 'depth': 4, 'min_data_in_leaf': 16, 'l2_leaf_reg': 0.01756978339791491, 'random_strength': 6.4318854717720875, 'bagging_temperature': 4.612213732162303, 'border_count': 35, 'scale_pos_weight': 2.638549969342454, 'grow_policy': 'Depthwise'}. Best is trial 8 with value: 0.737984346062168.\n",
      "[W 2025-02-15 14:35:21,942] Trial 34 failed with parameters: {'iterations': 6544, 'learning_rate': 1.7792130122707757e-06, 'depth': 8, 'min_data_in_leaf': 20, 'l2_leaf_reg': 0.004445951965475168, 'random_strength': 0.028614964489768635, 'bagging_temperature': 5.475107029516318, 'border_count': 97, 'scale_pos_weight': 0.7409648546204521, 'grow_policy': 'Depthwise'} because of the following error: KeyboardInterrupt('').\n",
      "Traceback (most recent call last):\n",
      "  File \"c:\\Users\\juneh\\AppData\\Local\\Programs\\Python\\Python37\\lib\\site-packages\\optuna\\study\\_optimize.py\", line 196, in _run_trial\n",
      "    value_or_values = func(trial)\n",
      "  File \"C:\\Users\\juneh\\AppData\\Local\\Temp\\ipykernel_3464\\50749865.py\", line 28, in objective\n",
      "    model.fit(Total_X_train, Total_y_train, eval_set=(Total_X_test, Total_y_test), verbose=False)\n",
      "  File \"c:\\Users\\juneh\\AppData\\Local\\Programs\\Python\\Python37\\lib\\site-packages\\catboost\\core.py\", line 5222, in fit\n",
      "    silent, early_stopping_rounds, save_snapshot, snapshot_file, snapshot_interval, init_model, callbacks, log_cout, log_cerr)\n",
      "  File \"c:\\Users\\juneh\\AppData\\Local\\Programs\\Python\\Python37\\lib\\site-packages\\catboost\\core.py\", line 2405, in _fit\n",
      "    train_params[\"init_model\"]\n",
      "  File \"c:\\Users\\juneh\\AppData\\Local\\Programs\\Python\\Python37\\lib\\site-packages\\catboost\\core.py\", line 1780, in _train\n",
      "    self._object._train(train_pool, test_pool, params, allow_clear_pool, init_model._object if init_model else None)\n",
      "  File \"_catboost.pyx\", line 4833, in _catboost._CatBoost._train\n",
      "  File \"_catboost.pyx\", line 4882, in _catboost._CatBoost._train\n",
      "KeyboardInterrupt\n",
      "[W 2025-02-15 14:35:21,989] Trial 34 failed with value None.\n"
     ]
    },
    {
     "ename": "KeyboardInterrupt",
     "evalue": "",
     "output_type": "error",
     "traceback": [
      "\u001b[1;31m---------------------------------------------------------------------------\u001b[0m",
      "\u001b[1;31mKeyboardInterrupt\u001b[0m                         Traceback (most recent call last)",
      "\u001b[1;32m~\\AppData\\Local\\Temp\\ipykernel_3464\\50749865.py\u001b[0m in \u001b[0;36m<module>\u001b[1;34m\u001b[0m\n\u001b[0;32m     35\u001b[0m \u001b[1;31m# Optuna 스터디 생성 및 최적화 실행\u001b[0m\u001b[1;33m\u001b[0m\u001b[1;33m\u001b[0m\u001b[1;33m\u001b[0m\u001b[0m\n\u001b[0;32m     36\u001b[0m \u001b[0mstudy\u001b[0m \u001b[1;33m=\u001b[0m \u001b[0moptuna\u001b[0m\u001b[1;33m.\u001b[0m\u001b[0mcreate_study\u001b[0m\u001b[1;33m(\u001b[0m\u001b[0mdirection\u001b[0m\u001b[1;33m=\u001b[0m\u001b[1;34m'maximize'\u001b[0m\u001b[1;33m)\u001b[0m\u001b[1;33m\u001b[0m\u001b[1;33m\u001b[0m\u001b[0m\n\u001b[1;32m---> 37\u001b[1;33m \u001b[0mstudy\u001b[0m\u001b[1;33m.\u001b[0m\u001b[0moptimize\u001b[0m\u001b[1;33m(\u001b[0m\u001b[0mobjective\u001b[0m\u001b[1;33m,\u001b[0m \u001b[0mn_trials\u001b[0m\u001b[1;33m=\u001b[0m\u001b[1;36m1200\u001b[0m\u001b[1;33m)\u001b[0m\u001b[1;33m\u001b[0m\u001b[1;33m\u001b[0m\u001b[0m\n\u001b[0m\u001b[0;32m     38\u001b[0m \u001b[1;33m\u001b[0m\u001b[0m\n\u001b[0;32m     39\u001b[0m \u001b[1;31m# 최적의 하이퍼파라미터 출력\u001b[0m\u001b[1;33m\u001b[0m\u001b[1;33m\u001b[0m\u001b[1;33m\u001b[0m\u001b[0m\n",
      "\u001b[1;32mc:\\Users\\juneh\\AppData\\Local\\Programs\\Python\\Python37\\lib\\site-packages\\optuna\\study\\study.py\u001b[0m in \u001b[0;36moptimize\u001b[1;34m(self, func, n_trials, timeout, n_jobs, catch, callbacks, gc_after_trial, show_progress_bar)\u001b[0m\n\u001b[0;32m    458\u001b[0m             \u001b[0mcallbacks\u001b[0m\u001b[1;33m=\u001b[0m\u001b[0mcallbacks\u001b[0m\u001b[1;33m,\u001b[0m\u001b[1;33m\u001b[0m\u001b[1;33m\u001b[0m\u001b[0m\n\u001b[0;32m    459\u001b[0m             \u001b[0mgc_after_trial\u001b[0m\u001b[1;33m=\u001b[0m\u001b[0mgc_after_trial\u001b[0m\u001b[1;33m,\u001b[0m\u001b[1;33m\u001b[0m\u001b[1;33m\u001b[0m\u001b[0m\n\u001b[1;32m--> 460\u001b[1;33m             \u001b[0mshow_progress_bar\u001b[0m\u001b[1;33m=\u001b[0m\u001b[0mshow_progress_bar\u001b[0m\u001b[1;33m,\u001b[0m\u001b[1;33m\u001b[0m\u001b[1;33m\u001b[0m\u001b[0m\n\u001b[0m\u001b[0;32m    461\u001b[0m         )\n\u001b[0;32m    462\u001b[0m \u001b[1;33m\u001b[0m\u001b[0m\n",
      "\u001b[1;32mc:\\Users\\juneh\\AppData\\Local\\Programs\\Python\\Python37\\lib\\site-packages\\optuna\\study\\_optimize.py\u001b[0m in \u001b[0;36m_optimize\u001b[1;34m(study, func, n_trials, timeout, n_jobs, catch, callbacks, gc_after_trial, show_progress_bar)\u001b[0m\n\u001b[0;32m     70\u001b[0m                 \u001b[0mreseed_sampler_rng\u001b[0m\u001b[1;33m=\u001b[0m\u001b[1;32mFalse\u001b[0m\u001b[1;33m,\u001b[0m\u001b[1;33m\u001b[0m\u001b[1;33m\u001b[0m\u001b[0m\n\u001b[0;32m     71\u001b[0m                 \u001b[0mtime_start\u001b[0m\u001b[1;33m=\u001b[0m\u001b[1;32mNone\u001b[0m\u001b[1;33m,\u001b[0m\u001b[1;33m\u001b[0m\u001b[1;33m\u001b[0m\u001b[0m\n\u001b[1;32m---> 72\u001b[1;33m                 \u001b[0mprogress_bar\u001b[0m\u001b[1;33m=\u001b[0m\u001b[0mprogress_bar\u001b[0m\u001b[1;33m,\u001b[0m\u001b[1;33m\u001b[0m\u001b[1;33m\u001b[0m\u001b[0m\n\u001b[0m\u001b[0;32m     73\u001b[0m             )\n\u001b[0;32m     74\u001b[0m         \u001b[1;32melse\u001b[0m\u001b[1;33m:\u001b[0m\u001b[1;33m\u001b[0m\u001b[1;33m\u001b[0m\u001b[0m\n",
      "\u001b[1;32mc:\\Users\\juneh\\AppData\\Local\\Programs\\Python\\Python37\\lib\\site-packages\\optuna\\study\\_optimize.py\u001b[0m in \u001b[0;36m_optimize_sequential\u001b[1;34m(study, func, n_trials, timeout, catch, callbacks, gc_after_trial, reseed_sampler_rng, time_start, progress_bar)\u001b[0m\n\u001b[0;32m    157\u001b[0m \u001b[1;33m\u001b[0m\u001b[0m\n\u001b[0;32m    158\u001b[0m         \u001b[1;32mtry\u001b[0m\u001b[1;33m:\u001b[0m\u001b[1;33m\u001b[0m\u001b[1;33m\u001b[0m\u001b[0m\n\u001b[1;32m--> 159\u001b[1;33m             \u001b[0mfrozen_trial\u001b[0m \u001b[1;33m=\u001b[0m \u001b[0m_run_trial\u001b[0m\u001b[1;33m(\u001b[0m\u001b[0mstudy\u001b[0m\u001b[1;33m,\u001b[0m \u001b[0mfunc\u001b[0m\u001b[1;33m,\u001b[0m \u001b[0mcatch\u001b[0m\u001b[1;33m)\u001b[0m\u001b[1;33m\u001b[0m\u001b[1;33m\u001b[0m\u001b[0m\n\u001b[0m\u001b[0;32m    160\u001b[0m         \u001b[1;32mfinally\u001b[0m\u001b[1;33m:\u001b[0m\u001b[1;33m\u001b[0m\u001b[1;33m\u001b[0m\u001b[0m\n\u001b[0;32m    161\u001b[0m             \u001b[1;31m# The following line mitigates memory problems that can be occurred in some\u001b[0m\u001b[1;33m\u001b[0m\u001b[1;33m\u001b[0m\u001b[1;33m\u001b[0m\u001b[0m\n",
      "\u001b[1;32mc:\\Users\\juneh\\AppData\\Local\\Programs\\Python\\Python37\\lib\\site-packages\\optuna\\study\\_optimize.py\u001b[0m in \u001b[0;36m_run_trial\u001b[1;34m(study, func, catch)\u001b[0m\n\u001b[0;32m    245\u001b[0m         \u001b[1;32mand\u001b[0m \u001b[1;32mnot\u001b[0m \u001b[0misinstance\u001b[0m\u001b[1;33m(\u001b[0m\u001b[0mfunc_err\u001b[0m\u001b[1;33m,\u001b[0m \u001b[0mcatch\u001b[0m\u001b[1;33m)\u001b[0m\u001b[1;33m\u001b[0m\u001b[1;33m\u001b[0m\u001b[0m\n\u001b[0;32m    246\u001b[0m     ):\n\u001b[1;32m--> 247\u001b[1;33m         \u001b[1;32mraise\u001b[0m \u001b[0mfunc_err\u001b[0m\u001b[1;33m\u001b[0m\u001b[1;33m\u001b[0m\u001b[0m\n\u001b[0m\u001b[0;32m    248\u001b[0m     \u001b[1;32mreturn\u001b[0m \u001b[0mfrozen_trial\u001b[0m\u001b[1;33m\u001b[0m\u001b[1;33m\u001b[0m\u001b[0m\n\u001b[0;32m    249\u001b[0m \u001b[1;33m\u001b[0m\u001b[0m\n",
      "\u001b[1;32mc:\\Users\\juneh\\AppData\\Local\\Programs\\Python\\Python37\\lib\\site-packages\\optuna\\study\\_optimize.py\u001b[0m in \u001b[0;36m_run_trial\u001b[1;34m(study, func, catch)\u001b[0m\n\u001b[0;32m    194\u001b[0m     \u001b[1;32mwith\u001b[0m \u001b[0mget_heartbeat_thread\u001b[0m\u001b[1;33m(\u001b[0m\u001b[0mtrial\u001b[0m\u001b[1;33m.\u001b[0m\u001b[0m_trial_id\u001b[0m\u001b[1;33m,\u001b[0m \u001b[0mstudy\u001b[0m\u001b[1;33m.\u001b[0m\u001b[0m_storage\u001b[0m\u001b[1;33m)\u001b[0m\u001b[1;33m:\u001b[0m\u001b[1;33m\u001b[0m\u001b[1;33m\u001b[0m\u001b[0m\n\u001b[0;32m    195\u001b[0m         \u001b[1;32mtry\u001b[0m\u001b[1;33m:\u001b[0m\u001b[1;33m\u001b[0m\u001b[1;33m\u001b[0m\u001b[0m\n\u001b[1;32m--> 196\u001b[1;33m             \u001b[0mvalue_or_values\u001b[0m \u001b[1;33m=\u001b[0m \u001b[0mfunc\u001b[0m\u001b[1;33m(\u001b[0m\u001b[0mtrial\u001b[0m\u001b[1;33m)\u001b[0m\u001b[1;33m\u001b[0m\u001b[1;33m\u001b[0m\u001b[0m\n\u001b[0m\u001b[0;32m    197\u001b[0m         \u001b[1;32mexcept\u001b[0m \u001b[0mexceptions\u001b[0m\u001b[1;33m.\u001b[0m\u001b[0mTrialPruned\u001b[0m \u001b[1;32mas\u001b[0m \u001b[0me\u001b[0m\u001b[1;33m:\u001b[0m\u001b[1;33m\u001b[0m\u001b[1;33m\u001b[0m\u001b[0m\n\u001b[0;32m    198\u001b[0m             \u001b[1;31m# TODO(mamu): Handle multi-objective cases.\u001b[0m\u001b[1;33m\u001b[0m\u001b[1;33m\u001b[0m\u001b[1;33m\u001b[0m\u001b[0m\n",
      "\u001b[1;32m~\\AppData\\Local\\Temp\\ipykernel_3464\\50749865.py\u001b[0m in \u001b[0;36mobjective\u001b[1;34m(trial)\u001b[0m\n\u001b[0;32m     26\u001b[0m \u001b[1;33m\u001b[0m\u001b[0m\n\u001b[0;32m     27\u001b[0m     \u001b[0mmodel\u001b[0m \u001b[1;33m=\u001b[0m \u001b[0mCatBoostClassifier\u001b[0m\u001b[1;33m(\u001b[0m\u001b[1;33m**\u001b[0m\u001b[0mparam\u001b[0m\u001b[1;33m)\u001b[0m\u001b[1;33m\u001b[0m\u001b[1;33m\u001b[0m\u001b[0m\n\u001b[1;32m---> 28\u001b[1;33m     \u001b[0mmodel\u001b[0m\u001b[1;33m.\u001b[0m\u001b[0mfit\u001b[0m\u001b[1;33m(\u001b[0m\u001b[0mTotal_X_train\u001b[0m\u001b[1;33m,\u001b[0m \u001b[0mTotal_y_train\u001b[0m\u001b[1;33m,\u001b[0m \u001b[0meval_set\u001b[0m\u001b[1;33m=\u001b[0m\u001b[1;33m(\u001b[0m\u001b[0mTotal_X_test\u001b[0m\u001b[1;33m,\u001b[0m \u001b[0mTotal_y_test\u001b[0m\u001b[1;33m)\u001b[0m\u001b[1;33m,\u001b[0m \u001b[0mverbose\u001b[0m\u001b[1;33m=\u001b[0m\u001b[1;32mFalse\u001b[0m\u001b[1;33m)\u001b[0m\u001b[1;33m\u001b[0m\u001b[1;33m\u001b[0m\u001b[0m\n\u001b[0m\u001b[0;32m     29\u001b[0m \u001b[1;33m\u001b[0m\u001b[0m\n\u001b[0;32m     30\u001b[0m     \u001b[0my_pred_proba\u001b[0m \u001b[1;33m=\u001b[0m \u001b[0mmodel\u001b[0m\u001b[1;33m.\u001b[0m\u001b[0mpredict_proba\u001b[0m\u001b[1;33m(\u001b[0m\u001b[0mTotal_X_test\u001b[0m\u001b[1;33m)\u001b[0m\u001b[1;33m[\u001b[0m\u001b[1;33m:\u001b[0m\u001b[1;33m,\u001b[0m \u001b[1;36m1\u001b[0m\u001b[1;33m]\u001b[0m\u001b[1;33m\u001b[0m\u001b[1;33m\u001b[0m\u001b[0m\n",
      "\u001b[1;32mc:\\Users\\juneh\\AppData\\Local\\Programs\\Python\\Python37\\lib\\site-packages\\catboost\\core.py\u001b[0m in \u001b[0;36mfit\u001b[1;34m(self, X, y, cat_features, text_features, embedding_features, sample_weight, baseline, use_best_model, eval_set, verbose, logging_level, plot, plot_file, column_description, verbose_eval, metric_period, silent, early_stopping_rounds, save_snapshot, snapshot_file, snapshot_interval, init_model, callbacks, log_cout, log_cerr)\u001b[0m\n\u001b[0;32m   5220\u001b[0m         self._fit(X, y, cat_features, text_features, embedding_features, None, sample_weight, None, None, None, None, baseline, use_best_model,\n\u001b[0;32m   5221\u001b[0m                   \u001b[0meval_set\u001b[0m\u001b[1;33m,\u001b[0m \u001b[0mverbose\u001b[0m\u001b[1;33m,\u001b[0m \u001b[0mlogging_level\u001b[0m\u001b[1;33m,\u001b[0m \u001b[0mplot\u001b[0m\u001b[1;33m,\u001b[0m \u001b[0mplot_file\u001b[0m\u001b[1;33m,\u001b[0m \u001b[0mcolumn_description\u001b[0m\u001b[1;33m,\u001b[0m \u001b[0mverbose_eval\u001b[0m\u001b[1;33m,\u001b[0m \u001b[0mmetric_period\u001b[0m\u001b[1;33m,\u001b[0m\u001b[1;33m\u001b[0m\u001b[1;33m\u001b[0m\u001b[0m\n\u001b[1;32m-> 5222\u001b[1;33m                   silent, early_stopping_rounds, save_snapshot, snapshot_file, snapshot_interval, init_model, callbacks, log_cout, log_cerr)\n\u001b[0m\u001b[0;32m   5223\u001b[0m         \u001b[1;32mreturn\u001b[0m \u001b[0mself\u001b[0m\u001b[1;33m\u001b[0m\u001b[1;33m\u001b[0m\u001b[0m\n\u001b[0;32m   5224\u001b[0m \u001b[1;33m\u001b[0m\u001b[0m\n",
      "\u001b[1;32mc:\\Users\\juneh\\AppData\\Local\\Programs\\Python\\Python37\\lib\\site-packages\\catboost\\core.py\u001b[0m in \u001b[0;36m_fit\u001b[1;34m(self, X, y, cat_features, text_features, embedding_features, pairs, sample_weight, group_id, group_weight, subgroup_id, pairs_weight, baseline, use_best_model, eval_set, verbose, logging_level, plot, plot_file, column_description, verbose_eval, metric_period, silent, early_stopping_rounds, save_snapshot, snapshot_file, snapshot_interval, init_model, callbacks, log_cout, log_cerr)\u001b[0m\n\u001b[0;32m   2403\u001b[0m                     \u001b[0mparams\u001b[0m\u001b[1;33m,\u001b[0m\u001b[1;33m\u001b[0m\u001b[1;33m\u001b[0m\u001b[0m\n\u001b[0;32m   2404\u001b[0m                     \u001b[0mallow_clear_pool\u001b[0m\u001b[1;33m,\u001b[0m\u001b[1;33m\u001b[0m\u001b[1;33m\u001b[0m\u001b[0m\n\u001b[1;32m-> 2405\u001b[1;33m                     \u001b[0mtrain_params\u001b[0m\u001b[1;33m[\u001b[0m\u001b[1;34m\"init_model\"\u001b[0m\u001b[1;33m]\u001b[0m\u001b[1;33m\u001b[0m\u001b[1;33m\u001b[0m\u001b[0m\n\u001b[0m\u001b[0;32m   2406\u001b[0m                 )\n\u001b[0;32m   2407\u001b[0m \u001b[1;33m\u001b[0m\u001b[0m\n",
      "\u001b[1;32mc:\\Users\\juneh\\AppData\\Local\\Programs\\Python\\Python37\\lib\\site-packages\\catboost\\core.py\u001b[0m in \u001b[0;36m_train\u001b[1;34m(self, train_pool, test_pool, params, allow_clear_pool, init_model)\u001b[0m\n\u001b[0;32m   1778\u001b[0m \u001b[1;33m\u001b[0m\u001b[0m\n\u001b[0;32m   1779\u001b[0m     \u001b[1;32mdef\u001b[0m \u001b[0m_train\u001b[0m\u001b[1;33m(\u001b[0m\u001b[0mself\u001b[0m\u001b[1;33m,\u001b[0m \u001b[0mtrain_pool\u001b[0m\u001b[1;33m,\u001b[0m \u001b[0mtest_pool\u001b[0m\u001b[1;33m,\u001b[0m \u001b[0mparams\u001b[0m\u001b[1;33m,\u001b[0m \u001b[0mallow_clear_pool\u001b[0m\u001b[1;33m,\u001b[0m \u001b[0minit_model\u001b[0m\u001b[1;33m)\u001b[0m\u001b[1;33m:\u001b[0m\u001b[1;33m\u001b[0m\u001b[1;33m\u001b[0m\u001b[0m\n\u001b[1;32m-> 1780\u001b[1;33m         \u001b[0mself\u001b[0m\u001b[1;33m.\u001b[0m\u001b[0m_object\u001b[0m\u001b[1;33m.\u001b[0m\u001b[0m_train\u001b[0m\u001b[1;33m(\u001b[0m\u001b[0mtrain_pool\u001b[0m\u001b[1;33m,\u001b[0m \u001b[0mtest_pool\u001b[0m\u001b[1;33m,\u001b[0m \u001b[0mparams\u001b[0m\u001b[1;33m,\u001b[0m \u001b[0mallow_clear_pool\u001b[0m\u001b[1;33m,\u001b[0m \u001b[0minit_model\u001b[0m\u001b[1;33m.\u001b[0m\u001b[0m_object\u001b[0m \u001b[1;32mif\u001b[0m \u001b[0minit_model\u001b[0m \u001b[1;32melse\u001b[0m \u001b[1;32mNone\u001b[0m\u001b[1;33m)\u001b[0m\u001b[1;33m\u001b[0m\u001b[1;33m\u001b[0m\u001b[0m\n\u001b[0m\u001b[0;32m   1781\u001b[0m         \u001b[0mself\u001b[0m\u001b[1;33m.\u001b[0m\u001b[0m_set_trained_model_attributes\u001b[0m\u001b[1;33m(\u001b[0m\u001b[1;33m)\u001b[0m\u001b[1;33m\u001b[0m\u001b[1;33m\u001b[0m\u001b[0m\n\u001b[0;32m   1782\u001b[0m \u001b[1;33m\u001b[0m\u001b[0m\n",
      "\u001b[1;32m_catboost.pyx\u001b[0m in \u001b[0;36m_catboost._CatBoost._train\u001b[1;34m()\u001b[0m\n",
      "\u001b[1;32m_catboost.pyx\u001b[0m in \u001b[0;36m_catboost._CatBoost._train\u001b[1;34m()\u001b[0m\n",
      "\u001b[1;31mKeyboardInterrupt\u001b[0m: "
     ]
    }
   ],
   "source": [
    "import optuna\n",
    "from catboost import CatBoostClassifier\n",
    "from sklearn.metrics import roc_auc_score\n",
    "\n",
    "# 목적 함수 정의\n",
    "def objective(trial):\n",
    "    param = {\n",
    "        'iterations': trial.suggest_int('iterations', 1000, 8000),\n",
    "        'learning_rate': trial.suggest_float('learning_rate', 1e-6, 1e-1, log=True),\n",
    "        'depth': trial.suggest_int('depth', 2, 16),\n",
    "        'min_data_in_leaf': trial.suggest_int('min_data_in_leaf', 1, 50),\n",
    "        'l2_leaf_reg': trial.suggest_float('l2_leaf_reg', 1e-4, 10.0, log=True),\n",
    "        'random_strength': trial.suggest_float('random_strength', 0.0, 10.0),\n",
    "        'bagging_temperature': trial.suggest_float('bagging_temperature', 0.0, 10.0),\n",
    "        'border_count': trial.suggest_int('border_count', 1, 255),\n",
    "        'scale_pos_weight': trial.suggest_float('scale_pos_weight', 0.1, 10.0),\n",
    "        'grow_policy': trial.suggest_categorical('grow_policy', ['SymmetricTree', 'Depthwise', 'Lossguide']),\n",
    "\n",
    "        'boosting_type': 'Plain',\n",
    "        \n",
    "        'random_state': 42,\n",
    "        'eval_metric': 'F1',\n",
    "        'logging_level': 'Silent',\n",
    "        'thread_count': -1\n",
    "    }\n",
    "\n",
    "    model = CatBoostClassifier(**param)\n",
    "    model.fit(Total_X_train, Total_y_train, eval_set=(Total_X_test, Total_y_test), verbose=False)\n",
    "    \n",
    "    y_pred_proba = model.predict_proba(Total_X_test)[:, 1]\n",
    "    \n",
    "    auc = roc_auc_score(Total_y_test, y_pred_proba)\n",
    "    return auc\n",
    "\n",
    "# Optuna 스터디 생성 및 최적화 실행\n",
    "study = optuna.create_study(direction='maximize')\n",
    "study.optimize(objective, n_trials=1200)\n",
    "\n",
    "# 최적의 하이퍼파라미터 출력\n",
    "print(\"Best trial:\")\n",
    "trial = study.best_trial\n",
    "print(f\"  Value: {trial.value}\")\n",
    "print(\"  Params: \")\n",
    "for key, value in trial.params.items():\n",
    "    print(f\"    {key}: {value}\")"
   ]
  },
  {
   "cell_type": "markdown",
   "metadata": {},
   "source": [
    "."
   ]
  }
 ],
 "metadata": {
  "kernelspec": {
   "display_name": "Python 3",
   "language": "python",
   "name": "python3"
  },
  "language_info": {
   "codemirror_mode": {
    "name": "ipython",
    "version": 3
   },
   "file_extension": ".py",
   "mimetype": "text/x-python",
   "name": "python",
   "nbconvert_exporter": "python",
   "pygments_lexer": "ipython3",
   "version": "3.7.8"
  }
 },
 "nbformat": 4,
 "nbformat_minor": 2
}
