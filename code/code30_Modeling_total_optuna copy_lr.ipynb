{
 "cells": [
  {
   "cell_type": "markdown",
   "metadata": {},
   "source": [
    "## 난임 환자 대상 임신 성공 여부 예측"
   ]
  },
  {
   "cell_type": "markdown",
   "metadata": {},
   "source": [
    "### LGAimers 6th 온라인 해커톤"
   ]
  },
  {
   "cell_type": "markdown",
   "metadata": {},
   "source": [
    "Import"
   ]
  },
  {
   "cell_type": "code",
   "execution_count": 6,
   "metadata": {},
   "outputs": [],
   "source": [
    "import pandas as pd\n",
    "import optuna\n",
    "from sklearn.preprocessing import OrdinalEncoder\n",
    "from sklearn.model_selection import train_test_split\n",
    "from sklearn.metrics import accuracy_score, f1_score, roc_auc_score, confusion_matrix, ConfusionMatrixDisplay\n",
    "import matplotlib.pyplot as plt\n",
    "import lightgbm as lgb"
   ]
  },
  {
   "cell_type": "markdown",
   "metadata": {},
   "source": [
    "### Data Load"
   ]
  },
  {
   "cell_type": "code",
   "execution_count": 7,
   "metadata": {},
   "outputs": [],
   "source": [
    "# 데이터 로드\n",
    "Total_train = pd.read_csv('../data/Total_train_dataset_30_copy.csv')\n",
    "Total_test = pd.read_csv('../data/Total_test_dataset_30_copy.csv')"
   ]
  },
  {
   "cell_type": "code",
   "execution_count": 8,
   "metadata": {},
   "outputs": [],
   "source": [
    "# ID 열을 제외한 특성과 타겟 변수 분리\n",
    "Total_X = Total_train.drop(['임신_성공_여부', 'ID'], axis=1)\n",
    "Total_y = Total_train['임신_성공_여부']"
   ]
  },
  {
   "cell_type": "markdown",
   "metadata": {},
   "source": [
    "### 인코딩 "
   ]
  },
  {
   "cell_type": "code",
   "execution_count": 9,
   "metadata": {},
   "outputs": [],
   "source": [
    "Total_categorical_columns = [\n",
    "    \"시술_시기_코드\",\n",
    "    \"시술_당시_나이\",\n",
    "    \"특정_시술_유형\",\n",
    "    \"배란_유도_유형\",\n",
    "    \"단일_배아_이식_여부\",\n",
    "    \"착상_전_유전_진단_사용_여부\",\n",
    "    \"배아_생성_주요_이유\",\n",
    "    \"총_생성_배아_수\",\n",
    "    \"미세주입된_난자_수\",\n",
    "    \"미세주입에서_생성된_배아_수\",\n",
    "    \"이식된_배아_수\",\n",
    "    \"미세주입_배아_이식_수\",\n",
    "    \"저장된_배아_수\",\n",
    "    \"미세주입_후_저장된_배아_수\",\n",
    "    \"해동된_배아_수\",\n",
    "    \"해동_난자_수\",\n",
    "    \"수집된_신선_난자_수\",\n",
    "    \"저장된_신선_난자_수\",\n",
    "    \"혼합된_난자_수\",\n",
    "    \"파트너_정자와_혼합된_난자_수\",\n",
    "    \"기증자_정자와_혼합된_난자_수\",\n",
    "    \"난자_출처\",\n",
    "    \"정자_출처\",\n",
    "    \"난자_기증자_나이\",\n",
    "    \"정자_기증자_나이\",\n",
    "    \"동결_배아_사용_여부\",\n",
    "    \"신선_배아_사용_여부\",\n",
    "    \"기증_배아_사용_여부\",\n",
    "    \"대리모_여부\",\n",
    "    \"ICSI_배아_이식_비율\",\n",
    "    \"ICSI_배아_생성_비율\",\n",
    "    \"ICSI_성공률\"\n",
    "]"
   ]
  },
  {
   "cell_type": "code",
   "execution_count": 10,
   "metadata": {},
   "outputs": [],
   "source": [
    "# 모든 범주형 변수를 문자열로 변환\n",
    "Total_X[Total_categorical_columns] = Total_X[Total_categorical_columns].astype(str)\n",
    "Total_test[Total_categorical_columns] = Total_test[Total_categorical_columns].astype(str)\n",
    "\n",
    "# OrdinalEncoder를 사용하여 범주형 변수 인코딩\n",
    "Total_encoder = OrdinalEncoder(handle_unknown='use_encoded_value', unknown_value=-1)\n",
    "\n",
    "Total_X[Total_categorical_columns] = Total_encoder.fit_transform(Total_X[Total_categorical_columns])\n",
    "Total_test[Total_categorical_columns] = Total_encoder.transform(Total_test[Total_categorical_columns])"
   ]
  },
  {
   "cell_type": "markdown",
   "metadata": {},
   "source": [
    "## Modeling"
   ]
  },
  {
   "cell_type": "code",
   "execution_count": 11,
   "metadata": {},
   "outputs": [],
   "source": [
    "# 데이터 분할\n",
    "Total_X_train, Total_X_test, Total_y_train, Total_y_test = train_test_split(Total_X, Total_y, test_size=0.2, random_state=42)"
   ]
  },
  {
   "cell_type": "markdown",
   "metadata": {},
   "source": [
    "### Total 데이터"
   ]
  },
  {
   "cell_type": "markdown",
   "metadata": {},
   "source": [
    "optuna"
   ]
  },
  {
   "cell_type": "code",
   "execution_count": null,
   "metadata": {},
   "outputs": [
    {
     "name": "stderr",
     "output_type": "stream",
     "text": [
      "[I 2025-02-14 23:22:16,231] A new study created in memory with name: no-name-3d4f3783-3611-4708-925a-ef8b0b43bc68\n"
     ]
    },
    {
     "name": "stderr",
     "output_type": "stream",
     "text": [
      "[I 2025-02-14 23:22:34,845] Trial 0 finished with value: 0.6027258958790613 and parameters: {'penalty': 'l1', 'C': 1.755196922863099e-05, 'solver': 'saga', 'max_iter': 9511}. Best is trial 0 with value: 0.6027258958790613.\n"
     ]
    }
   ],
   "source": [
    "import optuna\n",
    "from sklearn.linear_model import LogisticRegression\n",
    "from sklearn.metrics import roc_auc_score\n",
    "\n",
    "# 목적 함수 정의\n",
    "def objective(trial):\n",
    "    penalty = trial.suggest_categorical('penalty', ['l1', 'l2', 'elasticnet', 'none'])\n",
    "    \n",
    "    # penalty가 'none'일 경우 C를 설정하지 않음\n",
    "    if penalty == 'none':\n",
    "        C = 1.0  # 무시할 값\n",
    "        solver = trial.suggest_categorical('solver', ['liblinear', 'saga'])\n",
    "    elif penalty == 'elasticnet':\n",
    "        C = trial.suggest_float('C', 1e-6, 10.0, log=True)\n",
    "        solver = 'saga'  # elasticnet일 경우 saga로 고정\n",
    "    else:\n",
    "        C = trial.suggest_float('C', 1e-6, 10.0, log=True)\n",
    "        solver = trial.suggest_categorical('solver', ['liblinear', 'saga'])\n",
    "\n",
    "    param = {\n",
    "        'penalty': penalty,\n",
    "        'C': C,\n",
    "        'solver': solver,\n",
    "        'max_iter': trial.suggest_int('max_iter', 1000, 10000),  # 기본값: 100\n",
    "        'random_state': 42  # 기본값: None\n",
    "    }\n",
    "\n",
    "    model = LogisticRegression(**param)\n",
    "    model.fit(Total_X_train, Total_y_train)\n",
    "    \n",
    "    y_pred_proba = model.predict_proba(Total_X_test)[:, 1]\n",
    "    \n",
    "    auc = roc_auc_score(Total_y_test, y_pred_proba)\n",
    "    return auc\n",
    "\n",
    "# Optuna 스터디 생성 및 최적화 실행\n",
    "study = optuna.create_study(direction='maximize')\n",
    "study.optimize(objective, n_trials=1200)\n",
    "\n",
    "# 최적의 하이퍼파라미터 출력\n",
    "print(\"Best trial:\")\n",
    "trial = study.best_trial\n",
    "print(f\"  Value: {trial.value}\")\n",
    "print(\"  Params: \")\n",
    "for key, value in trial.params.items():\n",
    "    print(f\"    {key}: {value}\")\n"
   ]
  },
  {
   "cell_type": "markdown",
   "metadata": {},
   "source": [
    "."
   ]
  }
 ],
 "metadata": {
  "kernelspec": {
   "display_name": "Python 3",
   "language": "python",
   "name": "python3"
  },
  "language_info": {
   "codemirror_mode": {
    "name": "ipython",
    "version": 3
   },
   "file_extension": ".py",
   "mimetype": "text/x-python",
   "name": "python",
   "nbconvert_exporter": "python",
   "pygments_lexer": "ipython3",
   "version": "3.7.8"
  }
 },
 "nbformat": 4,
 "nbformat_minor": 2
}
