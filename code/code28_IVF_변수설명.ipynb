{
 "cells": [
  {
   "cell_type": "markdown",
   "metadata": {},
   "source": [
    "## 난임 환자 대상 임신 성공 여부 예측"
   ]
  },
  {
   "cell_type": "markdown",
   "metadata": {},
   "source": [
    "## 변수설명"
   ]
  },
  {
   "cell_type": "markdown",
   "metadata": {},
   "source": [
    "### 1. 시술_시기_코드"
   ]
  },
  {
   "cell_type": "markdown",
   "metadata": {},
   "source": [
    "난임 시술을 받은 시기를 기준으로 코드 부여"
   ]
  },
  {
   "cell_type": "markdown",
   "metadata": {},
   "source": [
    "### 2. 시술 당시 나이"
   ]
  },
  {
   "cell_type": "markdown",
   "metadata": {},
   "source": [
    "환자의 시술 당시 나이(연령대)"
   ]
  },
  {
   "cell_type": "markdown",
   "metadata": {},
   "source": [
    "### 3. 임신 시도 또는 마지막 임신 경과 일수"
   ]
  },
  {
   "cell_type": "markdown",
   "metadata": {},
   "source": [
    "환자가 처음 임신을 시도한 시점 또는 마지막 임신 이후 현재까지의 경과 연수 (년 단위)"
   ]
  },
  {
   "cell_type": "markdown",
   "metadata": {},
   "source": [
    "### 5. 특정_시술_유형"
   ]
  },
  {
   "cell_type": "markdown",
   "metadata": {},
   "source": [
    "IVF – 체외 수정 (시험관 아기 시술)  \n",
    "ICSI – 세포질 내 정자 주입  \n",
    "IUI – 인공 수정 (자궁 내 주입)  \n",
    "BLASTOCYST – 배반포 단계에 이식  \n",
    "AH – 배아를 hatching 시켜주는 과정  \n",
    "Unknown – 시술 유형 정보가 제공되지 않았거나 알 수 없음  \n",
    "\n",
    "(*) 특수 기호의 의미  \n",
    "\"/\" – 복합적인 시술 방법을 의미 (예: ICSI / BLASTOCYST)  \n",
    "\":\" – 동일 시술 내 세부 조합을 의미 (예: ICSI:IVF)  "
   ]
  },
  {
   "cell_type": "markdown",
   "metadata": {},
   "source": [
    "### 6. 배란_자극_여부"
   ]
  },
  {
   "cell_type": "markdown",
   "metadata": {},
   "source": [
    "배란 자극 치료가 사용되었는지 여부"
   ]
  },
  {
   "cell_type": "markdown",
   "metadata": {},
   "source": [
    "### 7. 배란_유도_유형"
   ]
  },
  {
   "cell_type": "markdown",
   "metadata": {},
   "source": [
    "사용된 배란 유도 방법 유형"
   ]
  },
  {
   "cell_type": "markdown",
   "metadata": {},
   "source": [
    "### 8. 단일_배아_이식_여부"
   ]
  },
  {
   "cell_type": "markdown",
   "metadata": {},
   "source": [
    "선택적으로 단일 배아를 이식했는지 여부"
   ]
  },
  {
   "cell_type": "markdown",
   "metadata": {},
   "source": [
    "### 9. 착상_전_유전_검사_사용_여부"
   ]
  },
  {
   "cell_type": "markdown",
   "metadata": {},
   "source": [
    "PGS(착상 전 유전 검사)가 시행되었는지 여부"
   ]
  },
  {
   "cell_type": "markdown",
   "metadata": {},
   "source": [
    "### 10. 착상_전_유전_진단_사용_여부"
   ]
  },
  {
   "cell_type": "markdown",
   "metadata": {},
   "source": [
    "PGD(착상 전 유전 진단)가 시행되었는지 여부"
   ]
  },
  {
   "cell_type": "markdown",
   "metadata": {},
   "source": [
    "### 11. 남성_주_불임_원인"
   ]
  },
  {
   "cell_type": "markdown",
   "metadata": {},
   "source": [
    "남성의 주요 불임 원인 여부"
   ]
  },
  {
   "cell_type": "markdown",
   "metadata": {},
   "source": [
    "### 12. 남성_부_불임_원인"
   ]
  },
  {
   "cell_type": "markdown",
   "metadata": {},
   "source": [
    "남성의 부차적 불임 원인 여부"
   ]
  },
  {
   "cell_type": "markdown",
   "metadata": {},
   "source": [
    "### 13. 여성_주_불임_원인"
   ]
  },
  {
   "cell_type": "markdown",
   "metadata": {},
   "source": [
    "여성의 주요 불임 원인 여부"
   ]
  },
  {
   "cell_type": "markdown",
   "metadata": {},
   "source": [
    "### 14. 여성_부_불임_원인"
   ]
  },
  {
   "cell_type": "markdown",
   "metadata": {},
   "source": [
    "여성의 부차적 불임 원인 여부"
   ]
  },
  {
   "cell_type": "markdown",
   "metadata": {},
   "source": [
    "### 15. 부부_주_불임_원인"
   ]
  },
  {
   "cell_type": "markdown",
   "metadata": {},
   "source": [
    "부부의 주요 불임 원인 여부"
   ]
  },
  {
   "cell_type": "markdown",
   "metadata": {},
   "source": [
    "### 16. 부부_부_불임_원인"
   ]
  },
  {
   "cell_type": "markdown",
   "metadata": {},
   "source": [
    "부부의 부차적 불임 원인 여부"
   ]
  },
  {
   "cell_type": "markdown",
   "metadata": {},
   "source": [
    "### 17. 불명확_불임_원인"
   ]
  },
  {
   "cell_type": "markdown",
   "metadata": {},
   "source": [
    "불명의 원인으로 인한 불임 여부"
   ]
  },
  {
   "cell_type": "markdown",
   "metadata": {},
   "source": [
    "### 18. 불임_원인_-_난관_질환"
   ]
  },
  {
   "cell_type": "markdown",
   "metadata": {},
   "source": [
    "난관 이상으로 인한 불임 여부"
   ]
  },
  {
   "cell_type": "markdown",
   "metadata": {},
   "source": [
    "### 19. 불임_원인_-_남성_요인"
   ]
  },
  {
   "cell_type": "markdown",
   "metadata": {},
   "source": [
    "남성 요인으로 인한 불임 여부"
   ]
  },
  {
   "cell_type": "markdown",
   "metadata": {},
   "source": [
    "### 20. 불임_원인_-_배란_장애"
   ]
  },
  {
   "cell_type": "markdown",
   "metadata": {},
   "source": [
    "배란 장애로 인한 불임 여부"
   ]
  },
  {
   "cell_type": "markdown",
   "metadata": {},
   "source": [
    "### 22. 불임_원인_-_자궁경부_문제"
   ]
  },
  {
   "cell_type": "markdown",
   "metadata": {},
   "source": [
    "자궁경부 이상으로 인한 불임 여부"
   ]
  },
  {
   "cell_type": "markdown",
   "metadata": {},
   "source": [
    "### 23. 불임_원인_-_자궁내막증"
   ]
  },
  {
   "cell_type": "markdown",
   "metadata": {},
   "source": [
    "자궁내막증으로 인한 불임 여부"
   ]
  },
  {
   "cell_type": "markdown",
   "metadata": {},
   "source": [
    "### 24. 불임_원인_-_정자_농도"
   ]
  },
  {
   "cell_type": "markdown",
   "metadata": {},
   "source": [
    "파트너의 정자 농도 문제 여부"
   ]
  },
  {
   "cell_type": "markdown",
   "metadata": {},
   "source": [
    "### 25. 불임_원인_-_정자_면역학적_요인"
   ]
  },
  {
   "cell_type": "markdown",
   "metadata": {},
   "source": [
    "파트너의 정자 면역 관련 문제 여부"
   ]
  },
  {
   "cell_type": "markdown",
   "metadata": {},
   "source": [
    "### 26. 불임_원인_-_정자_운동성"
   ]
  },
  {
   "cell_type": "markdown",
   "metadata": {},
   "source": [
    "파트너의 정자 운동성 문제 여부"
   ]
  },
  {
   "cell_type": "markdown",
   "metadata": {},
   "source": [
    "### 27. 불임_원인_-_정자_형태"
   ]
  },
  {
   "cell_type": "markdown",
   "metadata": {},
   "source": [
    "파트너의 정자 형태 문제 여부"
   ]
  },
  {
   "cell_type": "markdown",
   "metadata": {},
   "source": [
    "### 28. 배아_생성_주요_이유"
   ]
  },
  {
   "cell_type": "markdown",
   "metadata": {},
   "source": [
    "배아 생성의 주된 목적(시술, 보관 등)"
   ]
  },
  {
   "cell_type": "markdown",
   "metadata": {},
   "source": [
    "### 29. 총_시술_횟수"
   ]
  },
  {
   "cell_type": "markdown",
   "metadata": {},
   "source": [
    "IVF 및 DI 포함한 전체 시술 횟수"
   ]
  },
  {
   "cell_type": "markdown",
   "metadata": {},
   "source": [
    "### 30. 클리닉_내_총_시술_횟수"
   ]
  },
  {
   "cell_type": "markdown",
   "metadata": {},
   "source": [
    "특정 클리닉에서 받은 IVF 및 DI 시술 횟수"
   ]
  },
  {
   "cell_type": "markdown",
   "metadata": {},
   "source": [
    "### 31. IVF_시술_횟수"
   ]
  },
  {
   "cell_type": "markdown",
   "metadata": {},
   "source": [
    "이전에 수행된 IVF 시술 횟수"
   ]
  },
  {
   "cell_type": "markdown",
   "metadata": {},
   "source": [
    "### 32. DI_시술_횟수"
   ]
  },
  {
   "cell_type": "markdown",
   "metadata": {},
   "source": [
    "이전에 수행된 DI 시술 횟수"
   ]
  },
  {
   "cell_type": "markdown",
   "metadata": {},
   "source": [
    "### 33. 총_임신_횟수"
   ]
  },
  {
   "cell_type": "markdown",
   "metadata": {},
   "source": [
    "IVF 및 DI 포함한 총 임신 횟수"
   ]
  },
  {
   "cell_type": "markdown",
   "metadata": {},
   "source": [
    "### 34. IVF_임신_횟수"
   ]
  },
  {
   "cell_type": "markdown",
   "metadata": {},
   "source": [
    "IVF 시술로 인한 임신 횟수"
   ]
  },
  {
   "cell_type": "markdown",
   "metadata": {},
   "source": [
    "### 35. DI_임신_횟수"
   ]
  },
  {
   "cell_type": "markdown",
   "metadata": {},
   "source": [
    "DI 시술로 인한 임신 횟수"
   ]
  },
  {
   "cell_type": "markdown",
   "metadata": {},
   "source": [
    "### 36. 총_출산_횟수"
   ]
  },
  {
   "cell_type": "markdown",
   "metadata": {},
   "source": [
    "IVF 및 DI 시술로 출산한 횟수"
   ]
  },
  {
   "cell_type": "markdown",
   "metadata": {},
   "source": [
    "### 37. IVF_출산_횟수"
   ]
  },
  {
   "cell_type": "markdown",
   "metadata": {},
   "source": [
    "IVF 시술로 출산한 횟수"
   ]
  },
  {
   "cell_type": "markdown",
   "metadata": {},
   "source": [
    "### 38. DI_출산_횟수"
   ]
  },
  {
   "cell_type": "markdown",
   "metadata": {},
   "source": [
    "DI 시술로 출산한 횟수"
   ]
  },
  {
   "cell_type": "markdown",
   "metadata": {},
   "source": [
    "### 39. 총_생성_배아_수"
   ]
  },
  {
   "cell_type": "markdown",
   "metadata": {},
   "source": [
    "해당 시술에서 생성된 배아의 총 개수"
   ]
  },
  {
   "cell_type": "markdown",
   "metadata": {},
   "source": [
    "### 40. 미세주입된_난자_수"
   ]
  },
  {
   "cell_type": "markdown",
   "metadata": {},
   "source": [
    "정자 미세주입(ICSI)으로 처리된 난자의 수"
   ]
  },
  {
   "cell_type": "markdown",
   "metadata": {},
   "source": [
    "### 41. 미세주입에서_생성된_배아_수"
   ]
  },
  {
   "cell_type": "markdown",
   "metadata": {},
   "source": [
    "ICSI를 통해 생성된 배아의 수"
   ]
  },
  {
   "cell_type": "markdown",
   "metadata": {},
   "source": [
    "### 42. 이식된_배아_수"
   ]
  },
  {
   "cell_type": "markdown",
   "metadata": {},
   "source": [
    "이식된 배아의 총 수"
   ]
  },
  {
   "cell_type": "markdown",
   "metadata": {},
   "source": [
    "### 43. 미세주입_배아_이식_수"
   ]
  },
  {
   "cell_type": "markdown",
   "metadata": {},
   "source": [
    "ICSI 배아 중 이식된 배아의 수"
   ]
  },
  {
   "cell_type": "markdown",
   "metadata": {},
   "source": [
    "### 44. 저장된_배아_수"
   ]
  },
  {
   "cell_type": "markdown",
   "metadata": {},
   "source": [
    "환자를 위해 저장된 배아의 수"
   ]
  },
  {
   "cell_type": "markdown",
   "metadata": {},
   "source": [
    "### 45. 미세주입_후_저장된_배아_수"
   ]
  },
  {
   "cell_type": "markdown",
   "metadata": {},
   "source": [
    "ICSI 처리된 배아 중 저장된 배아의 수"
   ]
  },
  {
   "cell_type": "markdown",
   "metadata": {},
   "source": [
    "### 46. 해동된_배아_수"
   ]
  },
  {
   "cell_type": "markdown",
   "metadata": {},
   "source": [
    "동결 해동된 배아의 수"
   ]
  },
  {
   "cell_type": "markdown",
   "metadata": {},
   "source": [
    "### 47. 해동_난자_수"
   ]
  },
  {
   "cell_type": "markdown",
   "metadata": {},
   "source": [
    "동결 해동된 난자의 수"
   ]
  },
  {
   "cell_type": "markdown",
   "metadata": {},
   "source": [
    "### 48. 수집된_신선_난자_수"
   ]
  },
  {
   "cell_type": "markdown",
   "metadata": {},
   "source": [
    "신선 난자가 수집된 수"
   ]
  },
  {
   "cell_type": "markdown",
   "metadata": {},
   "source": [
    "### 49. 저장된_신선_난자_수"
   ]
  },
  {
   "cell_type": "markdown",
   "metadata": {},
   "source": [
    "저장된 신선 난자의 수"
   ]
  },
  {
   "cell_type": "markdown",
   "metadata": {},
   "source": [
    "### 50. 혼합된_난자_수"
   ]
  },
  {
   "cell_type": "markdown",
   "metadata": {},
   "source": [
    "정자와 혼합된 총 난자 수"
   ]
  },
  {
   "cell_type": "markdown",
   "metadata": {},
   "source": [
    "### 51. 파트너_정자와_혼합된_난자_수"
   ]
  },
  {
   "cell_type": "markdown",
   "metadata": {},
   "source": [
    "파트너 정자와 혼합된 난자의 수"
   ]
  },
  {
   "cell_type": "markdown",
   "metadata": {},
   "source": [
    "### 52. 기증자_정자와_혼합된_난자_수"
   ]
  },
  {
   "cell_type": "markdown",
   "metadata": {},
   "source": [
    "기증자 정자와 혼합된 난자의 수"
   ]
  },
  {
   "cell_type": "markdown",
   "metadata": {},
   "source": [
    "### 53. 난자_출처"
   ]
  },
  {
   "cell_type": "markdown",
   "metadata": {},
   "source": [
    "난자 출처 정보"
   ]
  },
  {
   "cell_type": "markdown",
   "metadata": {},
   "source": [
    "### 54. 정자_출처"
   ]
  },
  {
   "cell_type": "markdown",
   "metadata": {},
   "source": [
    "정자 출처 정보"
   ]
  },
  {
   "cell_type": "markdown",
   "metadata": {},
   "source": [
    "### 55. 난자_기증자_나이"
   ]
  },
  {
   "cell_type": "markdown",
   "metadata": {},
   "source": [
    "난자 기증자의 등록 당시 나이"
   ]
  },
  {
   "cell_type": "markdown",
   "metadata": {},
   "source": [
    "### 56. 정자_기증자_나이"
   ]
  },
  {
   "cell_type": "markdown",
   "metadata": {},
   "source": [
    "정자 기증자의 등록 당시 나이"
   ]
  },
  {
   "cell_type": "markdown",
   "metadata": {},
   "source": [
    "### 57. 동결_배아_사용_여부"
   ]
  },
  {
   "cell_type": "markdown",
   "metadata": {},
   "source": [
    "동결 배아가 사용되었는지 여부"
   ]
  },
  {
   "cell_type": "markdown",
   "metadata": {},
   "source": [
    "### 58. 신선_배아_사용_여부"
   ]
  },
  {
   "cell_type": "markdown",
   "metadata": {},
   "source": [
    "신선 배아가 사용되었는지 여부"
   ]
  },
  {
   "cell_type": "markdown",
   "metadata": {},
   "source": [
    "### 59. 기증_배아_사용_여부"
   ]
  },
  {
   "cell_type": "markdown",
   "metadata": {},
   "source": [
    "기증 배아가 사용되었는지 여부"
   ]
  },
  {
   "cell_type": "markdown",
   "metadata": {},
   "source": [
    "### 60. 대리모_여부"
   ]
  },
  {
   "cell_type": "markdown",
   "metadata": {},
   "source": [
    "환자가 대리모로 활동했는지 여부"
   ]
  },
  {
   "cell_type": "markdown",
   "metadata": {},
   "source": [
    "### 61. PGD_시술_여부"
   ]
  },
  {
   "cell_type": "markdown",
   "metadata": {},
   "source": [
    "해당 주기가 PGD 치료로 분류되는지 여부"
   ]
  },
  {
   "cell_type": "markdown",
   "metadata": {},
   "source": [
    "### 62. PGS_시술_여부"
   ]
  },
  {
   "cell_type": "markdown",
   "metadata": {},
   "source": [
    "해당 주기가 PGS 치료로 분류되는지 여부"
   ]
  },
  {
   "cell_type": "markdown",
   "metadata": {},
   "source": [
    "### 63. 난자_채취_경과일"
   ]
  },
  {
   "cell_type": "markdown",
   "metadata": {},
   "source": [
    "첫 시점으로부터 난자 채취까지 경과한 일수"
   ]
  },
  {
   "cell_type": "markdown",
   "metadata": {},
   "source": [
    "### 64. 난자_해동_경과일"
   ]
  },
  {
   "cell_type": "markdown",
   "metadata": {},
   "source": [
    "첫 시점으로부터 난자 해동까지 경과한 일수"
   ]
  },
  {
   "cell_type": "markdown",
   "metadata": {},
   "source": [
    "### 65. 난자_혼합_경과일"
   ]
  },
  {
   "cell_type": "markdown",
   "metadata": {},
   "source": [
    "첫 시점으로부터 난자와 정자 혼합까지 경과한 일수"
   ]
  },
  {
   "cell_type": "markdown",
   "metadata": {},
   "source": [
    "### 66. 배아_이식_경과일"
   ]
  },
  {
   "cell_type": "markdown",
   "metadata": {},
   "source": [
    "첫 시점으로부터 배아 이식까지 경과한 일수"
   ]
  },
  {
   "cell_type": "markdown",
   "metadata": {},
   "source": [
    "### 67. 배아_해동_경과일"
   ]
  },
  {
   "cell_type": "markdown",
   "metadata": {},
   "source": [
    "첫 시점으로부터 배아 해동까지 경과한 일수"
   ]
  },
  {
   "cell_type": "markdown",
   "metadata": {},
   "source": [
    "### 68. 임신_성공_여부 ( 타겟 변수 )"
   ]
  },
  {
   "cell_type": "markdown",
   "metadata": {},
   "source": [
    "해당 시술로부터 임신 성공 여부"
   ]
  },
  {
   "cell_type": "markdown",
   "metadata": {},
   "source": [
    "."
   ]
  }
 ],
 "metadata": {
  "kernelspec": {
   "display_name": "Python 3",
   "language": "python",
   "name": "python3"
  },
  "language_info": {
   "codemirror_mode": {
    "name": "ipython",
    "version": 3
   },
   "file_extension": ".py",
   "mimetype": "text/x-python",
   "name": "python",
   "nbconvert_exporter": "python",
   "pygments_lexer": "ipython3",
   "version": "3.7.8"
  }
 },
 "nbformat": 4,
 "nbformat_minor": 2
}
