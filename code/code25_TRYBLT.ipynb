{
 "cells": [
  {
   "cell_type": "markdown",
   "metadata": {},
   "source": [
    "## 난임 환자 대상 임신 성공 여부 예측"
   ]
  },
  {
   "cell_type": "markdown",
   "metadata": {},
   "source": [
    "### LGAimers 6th 온라인 해커톤"
   ]
  },
  {
   "cell_type": "markdown",
   "metadata": {},
   "source": [
    "Import"
   ]
  },
  {
   "cell_type": "code",
   "execution_count": 1,
   "metadata": {},
   "outputs": [],
   "source": [
    "import numpy as np\n",
    "import pandas as pd\n",
    "import seaborn as sns\n",
    "import matplotlib.pyplot as plt\n",
    "\n",
    "import os\n",
    "from pprint import pprint"
   ]
  },
  {
   "cell_type": "code",
   "execution_count": 2,
   "metadata": {},
   "outputs": [],
   "source": [
    "import platform\n",
    "from matplotlib import rc\n",
    "\n",
    "# 운영 체제에 따라 폰트 설정\n",
    "if platform.system() == 'Windows':  # Windows 환경\n",
    "    rc('font', family='Malgun Gothic')  # 맑은 고딕\n",
    "\n",
    "# 음수 표시 가능하도록 설정\n",
    "plt.rcParams['axes.unicode_minus'] = False"
   ]
  },
  {
   "cell_type": "markdown",
   "metadata": {},
   "source": [
    "반복적으로 쓰는 함수툴"
   ]
  },
  {
   "cell_type": "code",
   "execution_count": 3,
   "metadata": {},
   "outputs": [],
   "source": [
    "def plot_box(df, col_name):\n",
    "    \"\"\"\n",
    "    주어진 데이터프레임과 열 이름에 대해 박스 플롯을 그리는 함수.\n",
    "\n",
    "    Parameters:\n",
    "    df (pd.DataFrame): 데이터프레임\n",
    "    col_name (str): 열 이름\n",
    "    \"\"\"\n",
    "    plt.figure(figsize=(7, 4))\n",
    "    plt.boxplot(df[col_name], vert=False)\n",
    "    plt.xlabel(col_name)\n",
    "    plt.title(f'Box Plot of {col_name}')\n",
    "    plt.show()\n",
    "\n",
    "def value_counts_ratio(df, col_name, target_name='임신_성공_여부'):\n",
    "    \"\"\"\n",
    "    주어진 데이터프레임의 특정 열에 대해 각 값마다 타겟 변수의 비율과 갯수, 총 갯수를 출력하는 함수.\n",
    "\n",
    "    Parameters:\n",
    "    df (pd.DataFrame): 데이터프레임\n",
    "    col_name (str): 열 이름\n",
    "    target_name (str): 타겟 변수 이름\n",
    "    \"\"\"\n",
    "    # 각 값마다 타겟 변수의 비율 계산\n",
    "    value_counts = df.groupby(col_name)[target_name].value_counts(normalize=True).unstack().fillna(0)\n",
    "    \n",
    "    # 각 값마다 타겟 변수의 갯수 계산\n",
    "    counts = df.groupby(col_name)[target_name].value_counts().unstack().fillna(0)\n",
    "    \n",
    "    # 각 값마다 총 갯수 계산\n",
    "    total_counts = df[col_name].value_counts().rename('Total_Count')\n",
    "    \n",
    "    # 비율과 갯수를 합침\n",
    "    result = value_counts.join(counts, lsuffix='_ratio', rsuffix='_count')\n",
    "    \n",
    "    # 총 갯수를 합침\n",
    "    result = result.join(total_counts, on=col_name)\n",
    "    \n",
    "    # 출력 형식 조정\n",
    "    result.index.name = 'variable'\n",
    "    print(f\"\\n{col_name}별 {target_name} 비율 및 갯수\\n\")\n",
    "    print(result.rename(columns=lambda x: x.split('_')[0]))\n",
    "\n",
    "def summarize_group(df, group_by_columns):\n",
    "    \"\"\"\n",
    "    주어진 데이터프레임을 특정 열들로 그룹화하여 각 그룹의 '임신_성공_여부' 비율과 갯수를 요약하는 함수.\n",
    "\n",
    "    Parameters:\n",
    "    df (pd.DataFrame): 데이터프레임\n",
    "    group_by_columns (list): 그룹화할 열 이름들의 리스트\n",
    "    \"\"\"\n",
    "    # 데이터프레임을 그룹화\n",
    "    grouped_df = df.groupby(group_by_columns)\n",
    "    \n",
    "    # 결과를 저장할 리스트 초기화\n",
    "    results = []\n",
    "    \n",
    "    # 그룹화된 데이터프레임의 내용을 확인하는 코드\n",
    "    for name, group in grouped_df:\n",
    "        # 그룹의 갯수 계산\n",
    "        group_count = group.shape[0]\n",
    "        \n",
    "        # '임신_성공_여부' 변수의 '임신 성공' 비율과 갯수 계산\n",
    "        success_count = group['임신_성공_여부'].value_counts().get(1, 0)\n",
    "        success_ratio = success_count / group_count\n",
    "        \n",
    "        # 결과 리스트에 추가\n",
    "        results.append([name, success_count, success_ratio, group_count])\n",
    "    \n",
    "    # 결과 리스트를 데이터프레임으로 변환\n",
    "    results_df = pd.DataFrame(results, columns=['group', \"'임신_성공_여부' count\", 'ratio', 'Total'])\n",
    "    \n",
    "    # 그룹화된 변수들의 이름을 제목행으로 출력\n",
    "    print(f\"Grouped by: {', '.join(group_by_columns)}\")\n",
    "    print()\n",
    "    # 데이터프레임 출력\n",
    "    print(results_df)\n",
    "\n",
    "def plot_ratio(df, group_by_column, target_column='임신_성공_여부', success_value=1):\n",
    "    \"\"\"\n",
    "    주어진 데이터프레임을 특정 열로 그룹화하여 각 그룹의 타겟 변수의 성공 비율을 시각화하는 함수.\n",
    "\n",
    "    Parameters:\n",
    "    df (pd.DataFrame): 데이터프레임\n",
    "    group_by_column (str): 그룹화할 열 이름\n",
    "    target_column (str): 타겟 변수 이름\n",
    "    success_value (int): 타겟 변수의 성공을 나타내는 값\n",
    "    \"\"\"\n",
    "    # 데이터프레임을 그룹화\n",
    "    grouped_df = df.groupby(group_by_column)\n",
    "    \n",
    "    # 결과를 저장할 리스트 초기화\n",
    "    results = []\n",
    "    \n",
    "    # 그룹화된 데이터프레임의 내용을 확인하는 코드\n",
    "    for name, group in grouped_df:\n",
    "        # 그룹의 갯수 계산\n",
    "        group_count = group.shape[0]\n",
    "        \n",
    "        # '임신_성공_여부' 변수의 '성공' 비율과 갯수 계산\n",
    "        success_count = group[target_column].value_counts().get(success_value, 0)\n",
    "        success_ratio = success_count / group_count\n",
    "        \n",
    "        # 결과 리스트에 추가\n",
    "        results.append([name, success_count, success_ratio, group_count])\n",
    "    \n",
    "    # 결과 리스트를 데이터프레임으로 변환\n",
    "    results_df = pd.DataFrame(results, columns=['group', f\"'{success_value}' count\", 'ratio', 'Total'])\n",
    "    \n",
    "    # 그래프 크기 설정\n",
    "    plt.figure(figsize=(10, 5))\n",
    "    \n",
    "    # 막대 그래프 생성\n",
    "    ax = results_df.plot(kind='bar', x='group', y='ratio', legend=False)\n",
    "    \n",
    "    # 각 막대 위에 임신 성공 여부 갯수와 총 갯수 표시\n",
    "    for i, (success_count, total) in enumerate(zip(results_df[f\"'{success_value}' count\"], results_df['Total'])):\n",
    "        ax.text(i, results_df['ratio'][i], f'{success_count} ({total})', ha='center', va='bottom', fontsize=8)\n",
    "    \n",
    "    # 그래프 제목 및 축 레이블 설정\n",
    "    ax.set_title(f'{success_value} Ratio by {group_by_column}')\n",
    "    ax.set_xlabel(group_by_column)\n",
    "    ax.set_ylabel(f'{success_value} Ratio')\n",
    "   \n",
    "    # 그래프 출력\n",
    "    plt.show()\n",
    "\n",
    "def plot_ratio_boxplot(data, column_name, target_column='임신_성공_여부'):\n",
    "    \"\"\"\n",
    "    주어진 데이터프레임의 특정 열과 타겟 변수 간의 관계를 박스 플롯으로 시각화하는 함수.\n",
    "\n",
    "    Parameters:\n",
    "    data (pd.DataFrame): 데이터프레임\n",
    "    column_name (str): 열 이름\n",
    "    target_column (str): 타겟 변수 이름\n",
    "    \"\"\"\n",
    "\n",
    "    # 그래프 그리기\n",
    "    plt.figure(figsize=(10, 6))\n",
    "    sns.boxplot(x=column_name, y=target_column, data=data)\n",
    "\n",
    "    # 그래프 제목 및 레이블 설정\n",
    "    plt.title(f'{column_name} vs {target_column}')\n",
    "    plt.xlabel(column_name)\n",
    "    plt.ylabel(target_column)\n",
    "\n",
    "    # 그래프 출력\n",
    "    plt.show()"
   ]
  },
  {
   "cell_type": "markdown",
   "metadata": {},
   "source": [
    "### Data Load"
   ]
  },
  {
   "cell_type": "code",
   "execution_count": 4,
   "metadata": {},
   "outputs": [
    {
     "name": "stdout",
     "output_type": "stream",
     "text": [
      "Index(['ID', '시술_시기_코드', '시술_당시_나이', '임신_시도_또는_마지막_임신_경과_연수', '시술_유형',\n",
      "       '특정_시술_유형', '배란_자극_여부', '배란_유도_유형', '단일_배아_이식_여부', '착상_전_유전_검사_사용_여부',\n",
      "       '착상_전_유전_진단_사용_여부', '남성_주_불임_원인', '남성_부_불임_원인', '여성_주_불임_원인',\n",
      "       '여성_부_불임_원인', '부부_주_불임_원인', '부부_부_불임_원인', '불명확_불임_원인', '불임_원인_-_난관_질환',\n",
      "       '불임_원인_-_남성_요인', '불임_원인_-_배란_장애', '불임_원인_-_여성_요인', '불임_원인_-_자궁경부_문제',\n",
      "       '불임_원인_-_자궁내막증', '불임_원인_-_정자_농도', '불임_원인_-_정자_면역학적_요인',\n",
      "       '불임_원인_-_정자_운동성', '불임_원인_-_정자_형태', '배아_생성_주요_이유', '총_시술_횟수',\n",
      "       '클리닉_내_총_시술_횟수', 'IVF_시술_횟수', 'DI_시술_횟수', '총_임신_횟수', 'IVF_임신_횟수',\n",
      "       'DI_임신_횟수', '총_출산_횟수', 'IVF_출산_횟수', 'DI_출산_횟수', '총_생성_배아_수',\n",
      "       '미세주입된_난자_수', '미세주입에서_생성된_배아_수', '이식된_배아_수', '미세주입_배아_이식_수', '저장된_배아_수',\n",
      "       '미세주입_후_저장된_배아_수', '해동된_배아_수', '해동_난자_수', '수집된_신선_난자_수', '저장된_신선_난자_수',\n",
      "       '혼합된_난자_수', '파트너_정자와_혼합된_난자_수', '기증자_정자와_혼합된_난자_수', '난자_출처', '정자_출처',\n",
      "       '난자_기증자_나이', '정자_기증자_나이', '동결_배아_사용_여부', '신선_배아_사용_여부', '기증_배아_사용_여부',\n",
      "       '대리모_여부', 'PGD_시술_여부', 'PGS_시술_여부', '난자_채취_경과일', '난자_해동_경과일',\n",
      "       '난자_혼합_경과일', '배아_이식_경과일', '배아_해동_경과일', '임신_성공_여부'],\n",
      "      dtype='object')\n"
     ]
    }
   ],
   "source": [
    "# 데이터 로드\n",
    "train = pd.read_csv('../data/train.csv')\n",
    "test = pd.read_csv('../data/test.csv')\n",
    "\n",
    "# 변수명에서 공백을 밑줄로 대체\n",
    "train.columns = train.columns.str.replace(' ', '_')\n",
    "test.columns = test.columns.str.replace(' ', '_')\n",
    "\n",
    "# 변경된 변수명 확인\n",
    "print(train.columns)"
   ]
  },
  {
   "cell_type": "code",
   "execution_count": 5,
   "metadata": {},
   "outputs": [
    {
     "name": "stdout",
     "output_type": "stream",
     "text": [
      "<class 'pandas.core.frame.DataFrame'>\n",
      "RangeIndex: 256351 entries, 0 to 256350\n",
      "Data columns (total 69 columns):\n",
      " #   Column                 Non-Null Count   Dtype  \n",
      "---  ------                 --------------   -----  \n",
      " 0   ID                     256351 non-null  object \n",
      " 1   시술_시기_코드               256351 non-null  object \n",
      " 2   시술_당시_나이               256351 non-null  object \n",
      " 3   임신_시도_또는_마지막_임신_경과_연수  9370 non-null    float64\n",
      " 4   시술_유형                  256351 non-null  object \n",
      " 5   특정_시술_유형               256349 non-null  object \n",
      " 6   배란_자극_여부               256351 non-null  int64  \n",
      " 7   배란_유도_유형               256351 non-null  object \n",
      " 8   단일_배아_이식_여부            250060 non-null  float64\n",
      " 9   착상_전_유전_검사_사용_여부       2718 non-null    float64\n",
      " 10  착상_전_유전_진단_사용_여부       250060 non-null  float64\n",
      " 11  남성_주_불임_원인             256351 non-null  int64  \n",
      " 12  남성_부_불임_원인             256351 non-null  int64  \n",
      " 13  여성_주_불임_원인             256351 non-null  int64  \n",
      " 14  여성_부_불임_원인             256351 non-null  int64  \n",
      " 15  부부_주_불임_원인             256351 non-null  int64  \n",
      " 16  부부_부_불임_원인             256351 non-null  int64  \n",
      " 17  불명확_불임_원인              256351 non-null  int64  \n",
      " 18  불임_원인_-_난관_질환          256351 non-null  int64  \n",
      " 19  불임_원인_-_남성_요인          256351 non-null  int64  \n",
      " 20  불임_원인_-_배란_장애          256351 non-null  int64  \n",
      " 21  불임_원인_-_여성_요인          256351 non-null  int64  \n",
      " 22  불임_원인_-_자궁경부_문제        256351 non-null  int64  \n",
      " 23  불임_원인_-_자궁내막증          256351 non-null  int64  \n",
      " 24  불임_원인_-_정자_농도          256351 non-null  int64  \n",
      " 25  불임_원인_-_정자_면역학적_요인     256351 non-null  int64  \n",
      " 26  불임_원인_-_정자_운동성         256351 non-null  int64  \n",
      " 27  불임_원인_-_정자_형태          256351 non-null  int64  \n",
      " 28  배아_생성_주요_이유            250060 non-null  object \n",
      " 29  총_시술_횟수                256351 non-null  object \n",
      " 30  클리닉_내_총_시술_횟수          256351 non-null  object \n",
      " 31  IVF_시술_횟수              256351 non-null  object \n",
      " 32  DI_시술_횟수               256351 non-null  object \n",
      " 33  총_임신_횟수                256351 non-null  object \n",
      " 34  IVF_임신_횟수              256351 non-null  object \n",
      " 35  DI_임신_횟수               256351 non-null  object \n",
      " 36  총_출산_횟수                256351 non-null  object \n",
      " 37  IVF_출산_횟수              256351 non-null  object \n",
      " 38  DI_출산_횟수               256351 non-null  object \n",
      " 39  총_생성_배아_수              250060 non-null  float64\n",
      " 40  미세주입된_난자_수             250060 non-null  float64\n",
      " 41  미세주입에서_생성된_배아_수        250060 non-null  float64\n",
      " 42  이식된_배아_수               250060 non-null  float64\n",
      " 43  미세주입_배아_이식_수           250060 non-null  float64\n",
      " 44  저장된_배아_수               250060 non-null  float64\n",
      " 45  미세주입_후_저장된_배아_수        250060 non-null  float64\n",
      " 46  해동된_배아_수               250060 non-null  float64\n",
      " 47  해동_난자_수                250060 non-null  float64\n",
      " 48  수집된_신선_난자_수            250060 non-null  float64\n",
      " 49  저장된_신선_난자_수            250060 non-null  float64\n",
      " 50  혼합된_난자_수               250060 non-null  float64\n",
      " 51  파트너_정자와_혼합된_난자_수       250060 non-null  float64\n",
      " 52  기증자_정자와_혼합된_난자_수       250060 non-null  float64\n",
      " 53  난자_출처                  256351 non-null  object \n",
      " 54  정자_출처                  256351 non-null  object \n",
      " 55  난자_기증자_나이              256351 non-null  object \n",
      " 56  정자_기증자_나이              256351 non-null  object \n",
      " 57  동결_배아_사용_여부            250060 non-null  float64\n",
      " 58  신선_배아_사용_여부            250060 non-null  float64\n",
      " 59  기증_배아_사용_여부            250060 non-null  float64\n",
      " 60  대리모_여부                 250060 non-null  float64\n",
      " 61  PGD_시술_여부              2179 non-null    float64\n",
      " 62  PGS_시술_여부              1929 non-null    float64\n",
      " 63  난자_채취_경과일              198863 non-null  float64\n",
      " 64  난자_해동_경과일              1436 non-null    float64\n",
      " 65  난자_혼합_경과일              202616 non-null  float64\n",
      " 66  배아_이식_경과일              212785 non-null  float64\n",
      " 67  배아_해동_경과일              40369 non-null   float64\n",
      " 68  임신_성공_여부               256351 non-null  int64  \n",
      "dtypes: float64(29), int64(19), object(21)\n",
      "memory usage: 135.0+ MB\n"
     ]
    }
   ],
   "source": [
    "train.info(verbose=True)"
   ]
  },
  {
   "cell_type": "code",
   "execution_count": 6,
   "metadata": {},
   "outputs": [
    {
     "data": {
      "image/png": "[encoded data removed]",
      "text/plain": [
       "<Figure size 640x480 with 1 Axes>"
      ]
     },
     "metadata": {},
     "output_type": "display_data"
    }
   ],
   "source": [
    "import matplotlib.pyplot as plt\n",
    "import pandas as pd\n",
    "\n",
    "# '임신_성공_여부' 변수의 값 개수 계산\n",
    "value_counts = train['임신_성공_여부'].value_counts()\n",
    "\n",
    "# 라벨 변경\n",
    "labels = {1: '1(임신 성공)', 0: '0(임신 실패)'}\n",
    "value_counts.index = value_counts.index.map(labels)\n",
    "\n",
    "# 도넛 차트 그리기\n",
    "fig, ax = plt.subplots()\n",
    "\n",
    "# 파이 차트 그리기\n",
    "wedges, texts, autotexts = ax.pie(value_counts, labels=value_counts.index, autopct='%1.1f%%', startangle=90, wedgeprops=dict(width=0.5))\n",
    "\n",
    "# 도넛 차트 가운데에 원 그리기\n",
    "centre_circle = plt.Circle((0, 0), 0.70, fc='white')\n",
    "fig.gca().add_artist(centre_circle)\n",
    "\n",
    "# 차트 제목 설정\n",
    "ax.set_title('임신 성공 여부 도넛 차트')\n",
    "\n",
    "# 차트 표시\n",
    "plt.show()"
   ]
  },
  {
   "cell_type": "markdown",
   "metadata": {},
   "source": [
    "## EDA"
   ]
  },
  {
   "cell_type": "code",
   "execution_count": 7,
   "metadata": {},
   "outputs": [],
   "source": [
    "# '시술_시기_코드' 변수의 값이 'TRYBLT'에 해당 안하는 데이터 추출\n",
    "IVF_train = train[train['시술_시기_코드'] == 'TRYBLT'] \n",
    "IVF_test = test[test['시술_시기_코드'] == 'TRYBLT']\n",
    "\n",
    "# 모든 값이 결측값인 변수를 제거\n",
    "IVF_train = IVF_train.dropna(axis=1, how='all')\n",
    "IVF_test = IVF_test.dropna(axis=1, how='all')\n",
    "\n",
    "train = IVF_train\n",
    "test = IVF_test"
   ]
  },
  {
   "cell_type": "markdown",
   "metadata": {},
   "source": [
    "### 1. 시술_시기_코드"
   ]
  },
  {
   "cell_type": "markdown",
   "metadata": {},
   "source": [
    "난임 시술을 받은 시기를 기준으로 코드 부여"
   ]
  },
  {
   "cell_type": "code",
   "execution_count": 8,
   "metadata": {},
   "outputs": [
    {
     "name": "stdout",
     "output_type": "stream",
     "text": [
      "\n",
      "시술_시기_코드별 임신_성공_여부 비율 및 갯수\n",
      "\n",
      "                 0         1      0     1  Total\n",
      "variable                                        \n",
      "TRYBLT    0.730913  0.269087  26834  9879  36713\n"
     ]
    }
   ],
   "source": [
    "value_counts_ratio(train, '시술_시기_코드')"
   ]
  },
  {
   "cell_type": "code",
   "execution_count": 9,
   "metadata": {},
   "outputs": [],
   "source": [
    "# '시술_시기_코드' 변수 제거\n",
    "train = train.drop(columns=['시술_시기_코드'])\n",
    "test = test.drop(columns=['시술_시기_코드'])"
   ]
  },
  {
   "cell_type": "markdown",
   "metadata": {},
   "source": [
    "### 2. 시술 당시 나이"
   ]
  },
  {
   "cell_type": "markdown",
   "metadata": {},
   "source": [
    "환자의 시술 당시 나이(연령대)"
   ]
  },
  {
   "cell_type": "code",
   "execution_count": 10,
   "metadata": {},
   "outputs": [
    {
     "name": "stdout",
     "output_type": "stream",
     "text": [
      "\n",
      "시술_당시_나이별 임신_성공_여부 비율 및 갯수\n",
      "\n",
      "                 0         1       0       1  Total\n",
      "variable                                           \n",
      "만18-34세   0.666145  0.333855  9791.0  4907.0  14698\n",
      "만35-37세   0.705080  0.294920  5843.0  2444.0   8287\n",
      "만38-39세   0.772893  0.227107  4237.0  1245.0   5482\n",
      "만40-42세   0.840951  0.159049  4526.0   856.0   5382\n",
      "만43-44세   0.864088  0.135912  1564.0   246.0   1810\n",
      "만45-50세   0.818090  0.181910   814.0   181.0    995\n",
      "알 수 없음    1.000000  0.000000    59.0     0.0     59\n"
     ]
    }
   ],
   "source": [
    "value_counts_ratio(train, '시술_당시_나이')"
   ]
  },
  {
   "cell_type": "code",
   "execution_count": 11,
   "metadata": {},
   "outputs": [
    {
     "data": {
      "text/plain": [
       "만18-34세    5190\n",
       "만35-37세    2816\n",
       "만40-42세    1938\n",
       "만38-39세    1935\n",
       "만43-44세     652\n",
       "만45-50세     371\n",
       "알 수 없음       27\n",
       "Name: 시술_당시_나이, dtype: int64"
      ]
     },
     "execution_count": 11,
     "metadata": {},
     "output_type": "execute_result"
    }
   ],
   "source": [
    "test['시술_당시_나이'].value_counts()"
   ]
  },
  {
   "cell_type": "markdown",
   "metadata": {},
   "source": [
    "### 3. 임신 시도 또는 마지막 임신 경과 일수"
   ]
  },
  {
   "cell_type": "markdown",
   "metadata": {},
   "source": [
    "환자가 처음 임신을 시도한 시점 또는 마지막 임신 이후 현재까지의 경과 연수 (년 단위)"
   ]
  },
  {
   "cell_type": "code",
   "execution_count": 12,
   "metadata": {},
   "outputs": [
    {
     "name": "stdout",
     "output_type": "stream",
     "text": [
      "\n",
      "임신_시도_또는_마지막_임신_경과_연수별 임신_성공_여부 비율 및 갯수\n",
      "\n",
      "                 0         1     0     1  Total\n",
      "variable                                       \n",
      "0.0       0.500000  0.500000   1.0   1.0      2\n",
      "2.0       1.000000  0.000000   1.0   0.0      1\n",
      "3.0       0.000000  1.000000   0.0   1.0      1\n",
      "4.0       0.500000  0.500000   1.0   1.0      2\n",
      "5.0       0.500000  0.500000   1.0   1.0      2\n",
      "6.0       0.750000  0.250000   3.0   1.0      4\n",
      "7.0       0.714286  0.285714   5.0   2.0      7\n",
      "8.0       0.823529  0.176471  14.0   3.0     17\n",
      "9.0       0.762712  0.237288  45.0  14.0     59\n",
      "10.0      0.791667  0.208333  38.0  10.0     48\n",
      "11.0      0.866667  0.133333  52.0   8.0     60\n",
      "12.0      0.770833  0.229167  37.0  11.0     48\n",
      "13.0      0.846154  0.153846  33.0   6.0     39\n",
      "14.0      0.813953  0.186047  35.0   8.0     43\n",
      "15.0      0.766667  0.233333  23.0   7.0     30\n",
      "16.0      1.000000  0.000000  11.0   0.0     11\n",
      "17.0      0.750000  0.250000   6.0   2.0      8\n",
      "18.0      0.833333  0.166667   5.0   1.0      6\n",
      "19.0      0.818182  0.181818   9.0   2.0     11\n",
      "20.0      0.666667  0.333333   2.0   1.0      3\n"
     ]
    }
   ],
   "source": [
    "value_counts_ratio(train, '임신_시도_또는_마지막_임신_경과_연수')"
   ]
  },
  {
   "cell_type": "code",
   "execution_count": 13,
   "metadata": {},
   "outputs": [],
   "source": [
    "# 3년 단위로 범주화\n",
    "bins = list(range(0, 24, 3))  # 0부터 20까지 3년 단위로 구간 생성\n",
    "labels = [f'{i}-{i+2}년' for i in range(0, 21, 3)]  # 범주 레이블 생성\n",
    "\n",
    "train['임신_시도_또는_마지막_임신_경과_연수'] = pd.cut(train['임신_시도_또는_마지막_임신_경과_연수'], bins=bins, labels=labels, right=False)\n",
    "test['임신_시도_또는_마지막_임신_경과_연수'] = pd.cut(test['임신_시도_또는_마지막_임신_경과_연수'], bins=bins, labels=labels, right=False)\n",
    "\n",
    "# 결측값을 'unknown'으로 채우기 위해 범주에 'unknown' 추가\n",
    "train['임신_시도_또는_마지막_임신_경과_연수'] = train['임신_시도_또는_마지막_임신_경과_연수'].cat.add_categories(['unknown'])\n",
    "test['임신_시도_또는_마지막_임신_경과_연수'] = test['임신_시도_또는_마지막_임신_경과_연수'].cat.add_categories(['unknown'])\n",
    "\n",
    "train['임신_시도_또는_마지막_임신_경과_연수'].fillna('unknown', inplace=True)\n",
    "test['임신_시도_또는_마지막_임신_경과_연수'].fillna('unknown', inplace=True)"
   ]
  },
  {
   "cell_type": "code",
   "execution_count": 14,
   "metadata": {},
   "outputs": [
    {
     "name": "stdout",
     "output_type": "stream",
     "text": [
      "\n",
      "임신_시도_또는_마지막_임신_경과_연수별 임신_성공_여부 비율 및 갯수\n",
      "\n",
      "                 0         1      0     1  Total\n",
      "variable                                        \n",
      "0-2년      0.666667  0.333333      2     1      3\n",
      "3-5년      0.400000  0.600000      2     3      5\n",
      "6-8년      0.785714  0.214286     22     6     28\n",
      "9-11년     0.808383  0.191617    135    32    167\n",
      "12-14년    0.807692  0.192308    105    25    130\n",
      "15-17년    0.816327  0.183673     40     9     49\n",
      "18-20년    0.800000  0.200000     16     4     20\n",
      "unknown   0.730137  0.269863  26512  9799  36311\n"
     ]
    }
   ],
   "source": [
    "value_counts_ratio(train, '임신_시도_또는_마지막_임신_경과_연수')"
   ]
  },
  {
   "cell_type": "markdown",
   "metadata": {},
   "source": [
    "### 4. 시술_유형"
   ]
  },
  {
   "cell_type": "markdown",
   "metadata": {},
   "source": [
    "IVF 또는 DI 시술 여부"
   ]
  },
  {
   "cell_type": "code",
   "execution_count": 15,
   "metadata": {},
   "outputs": [
    {
     "name": "stdout",
     "output_type": "stream",
     "text": [
      "\n",
      "시술_유형별 임신_성공_여부 비율 및 갯수\n",
      "\n",
      "                 0         1      0     1  Total\n",
      "variable                                        \n",
      "DI        0.865811  0.134189    742   115    857\n",
      "IVF       0.727689  0.272311  26092  9764  35856\n"
     ]
    }
   ],
   "source": [
    "value_counts_ratio(train, '시술_유형')"
   ]
  },
  {
   "cell_type": "code",
   "execution_count": 16,
   "metadata": {},
   "outputs": [
    {
     "data": {
      "text/plain": [
       "IVF    12626\n",
       "DI       303\n",
       "Name: 시술_유형, dtype: int64"
      ]
     },
     "execution_count": 16,
     "metadata": {},
     "output_type": "execute_result"
    }
   ],
   "source": [
    "test['시술_유형'].value_counts()"
   ]
  },
  {
   "cell_type": "markdown",
   "metadata": {},
   "source": [
    "### 5. 특정_시술_유형"
   ]
  },
  {
   "cell_type": "markdown",
   "metadata": {},
   "source": [
    "IVF – 체외 수정 (시험관 아기 시술)  \n",
    "ICSI – 세포질 내 정자 주입  \n",
    "IUI – 인공 수정 (자궁 내 주입)  \n",
    "ICI – 자궁경부 인공 수정  \n",
    "GIFT – 생식세포 나팔관 이식  \n",
    "FER – 냉동 배아 이식  \n",
    "Generic DI – 기증 정자 주입  \n",
    "IVI – 질 내 인공 수정   \n",
    "BLASTOCYST – 배반포 단계에 이식  \n",
    "AH – 배아를 hatching 시켜주는 과정  \n",
    "Unknown – 시술 유형 정보가 제공되지 않았거나 알 수 없음  \n",
    "\n",
    "(*) 특수 기호의 의미  \n",
    "\"/\" – 복합적인 시술 방법을 의미 (예: ICSI / BLASTOCYST)  \n",
    "\":\" – 동일 시술 내 세부 조합을 의미 (예: ICSI:IVF)  "
   ]
  },
  {
   "cell_type": "code",
   "execution_count": 17,
   "metadata": {},
   "outputs": [
    {
     "name": "stdout",
     "output_type": "stream",
     "text": [
      "Grouped by: 특정_시술_유형\n",
      "\n",
      "                 group  '임신_성공_여부' count     ratio  Total\n",
      "0           Generic DI                 1  0.166667      6\n",
      "1                  ICI                 1  0.333333      3\n",
      "2                 ICSI              5082  0.285201  17819\n",
      "3            ICSI / AH                 4  0.222222     18\n",
      "4    ICSI / AH:Unknown                 1  0.500000      2\n",
      "5   ICSI / BLASTOCYST                 12  0.461538     26\n",
      "6            ICSI:ICSI                 5  0.015106    331\n",
      "7             ICSI:IVF                27  0.195652    138\n",
      "8         ICSI:Unknown                 3  0.096774     31\n",
      "9                  IUI               113  0.133570    846\n",
      "10                 IVF              3561  0.269548  13211\n",
      "11            IVF / AH                 0  0.000000      6\n",
      "12  IVF / AH:ICSI / AH                 0  0.000000      1\n",
      "13    IVF / BLASTOCYST                 6  0.193548     31\n",
      "14            IVF:ICSI                19  0.292308     65\n",
      "15             IVF:IVF                 3  0.017341    173\n",
      "16         IVF:Unknown                 1  0.100000     10\n",
      "17                 IVI                 0  0.000000      2\n",
      "18             Unknown              1040  0.260391   3994\n"
     ]
    }
   ],
   "source": [
    "summarize_group(train, ['특정_시술_유형'])"
   ]
  },
  {
   "cell_type": "code",
   "execution_count": 18,
   "metadata": {},
   "outputs": [
    {
     "data": {
      "text/plain": [
       "ICSI                  6399\n",
       "IVF                   4630\n",
       "Unknown               1332\n",
       "IUI                    300\n",
       "ICSI:ICSI              107\n",
       "ICSI:IVF                51\n",
       "IVF:IVF                 44\n",
       "IVF:ICSI                19\n",
       "IVF / BLASTOCYST        10\n",
       "ICSI:Unknown             9\n",
       "ICSI / BLASTOCYST        9\n",
       "ICSI / AH                9\n",
       "IVF:Unknown              5\n",
       "Generic DI               3\n",
       "IVF / AH                 2\n",
       "Name: 특정_시술_유형, dtype: int64"
      ]
     },
     "execution_count": 18,
     "metadata": {},
     "output_type": "execute_result"
    }
   ],
   "source": [
    "test['특정_시술_유형'].value_counts()"
   ]
  },
  {
   "cell_type": "code",
   "execution_count": 19,
   "metadata": {},
   "outputs": [],
   "source": [
    "# '특정_시술_유형' 변수의 값이 'FER' 또는 'GIFT'인 행 제거\n",
    "train = train.loc[~train['특정_시술_유형'].isin(['FER', 'GIFT'])]\n",
    "# test = test.loc[~test['특정_시술_유형'].isin(['FER', 'GIFT'])]"
   ]
  },
  {
   "cell_type": "code",
   "execution_count": 20,
   "metadata": {},
   "outputs": [],
   "source": [
    "# 시술 유형 변환 함수\n",
    "def transform_treatment(treatment):\n",
    "    if isinstance(treatment, str):  # treatment가 문자열인지 확인\n",
    "        if treatment.startswith(\"ICSI\"):\n",
    "            if \"AH\" in treatment:\n",
    "                return \"ICSI / AH\"\n",
    "            elif \"BLASTOCYST\" in treatment:\n",
    "                return \"ICSI / BLASTOCYST\"\n",
    "            return \"ICSI\"\n",
    "        elif treatment.startswith(\"IVF\"):\n",
    "            if \"AH\" in treatment:\n",
    "                return \"IVF / AH\"\n",
    "            elif \"BLASTOCYST\" in treatment:\n",
    "                return \"IVF / BLASTOCYST\"\n",
    "            return \"IVF\"\n",
    "        elif treatment == \"IUI:ICI\":\n",
    "            return \"IUI\"\n",
    "    return treatment  # 기타 시술은 그대로 반환\n",
    "\n",
    "# 변환된 열 추가\n",
    "train['변환된_특정_시술_유형'] = train['특정_시술_유형'].apply(transform_treatment)\n",
    "test['변환된_특정_시술_유형'] = test['특정_시술_유형'].apply(transform_treatment)"
   ]
  },
  {
   "cell_type": "code",
   "execution_count": 21,
   "metadata": {},
   "outputs": [
    {
     "name": "stdout",
     "output_type": "stream",
     "text": [
      "\n",
      "변환된_특정_시술_유형별 임신_성공_여부 비율 및 갯수\n",
      "\n",
      "                          0         1        0       1  Total\n",
      "variable                                                     \n",
      "Generic DI         0.833333  0.166667      5.0     1.0      6\n",
      "ICI                0.666667  0.333333      2.0     1.0      3\n",
      "ICSI               0.720673  0.279327  13202.0  5117.0  18319\n",
      "ICSI / AH          0.750000  0.250000     15.0     5.0     20\n",
      "ICSI / BLASTOCYST  0.538462  0.461538     14.0    12.0     26\n",
      "IUI                0.866430  0.133570    733.0   113.0    846\n",
      "IVF                0.733710  0.266290   9875.0  3584.0  13459\n",
      "IVF / AH           1.000000  0.000000      7.0     0.0      7\n",
      "IVF / BLASTOCYST   0.806452  0.193548     25.0     6.0     31\n",
      "IVI                1.000000  0.000000      2.0     0.0      2\n",
      "Unknown            0.739609  0.260391   2954.0  1040.0   3994\n"
     ]
    }
   ],
   "source": [
    "value_counts_ratio(train, '변환된_특정_시술_유형')"
   ]
  },
  {
   "cell_type": "code",
   "execution_count": 22,
   "metadata": {},
   "outputs": [
    {
     "data": {
      "text/plain": [
       "ICSI                 6566\n",
       "IVF                  4698\n",
       "Unknown              1332\n",
       "IUI                   300\n",
       "IVF / BLASTOCYST       10\n",
       "ICSI / BLASTOCYST       9\n",
       "ICSI / AH               9\n",
       "Generic DI              3\n",
       "IVF / AH                2\n",
       "Name: 변환된_특정_시술_유형, dtype: int64"
      ]
     },
     "execution_count": 22,
     "metadata": {},
     "output_type": "execute_result"
    }
   ],
   "source": [
    "test['변환된_특정_시술_유형'].value_counts()"
   ]
  },
  {
   "cell_type": "code",
   "execution_count": 23,
   "metadata": {},
   "outputs": [],
   "source": [
    "# 더미 변수 생성 함수 정의\n",
    "def create_dummy(x, keyword):\n",
    "    if isinstance(x, str) and keyword in x:\n",
    "        return 1\n",
    "    else:\n",
    "        return 0\n",
    "\n",
    "# 더미 변수 생성\n",
    "train['특정_시술_유형_ICSI_더미'] = train['변환된_특정_시술_유형'].apply(lambda x: create_dummy(x, 'ICSI'))\n",
    "train['특정_시술_유형_IVF_더미'] = train['변환된_특정_시술_유형'].apply(lambda x: create_dummy(x, 'IVF'))\n",
    "train['특정_시술_유형_AH_더미'] = train['변환된_특정_시술_유형'].apply(lambda x: create_dummy(x, 'AH'))\n",
    "train['특정_시술_유형_BLASTOCYST_더미'] = train['변환된_특정_시술_유형'].apply(lambda x: create_dummy(x, 'BLASTOCYST'))\n",
    "\n",
    "test['특정_시술_유형_ICSI_더미'] = test['변환된_특정_시술_유형'].apply(lambda x: create_dummy(x, 'ICSI'))\n",
    "test['특정_시술_유형_IVF_더미'] = test['변환된_특정_시술_유형'].apply(lambda x: create_dummy(x, 'IVF'))\n",
    "test['특정_시술_유형_AH_더미'] = test['변환된_특정_시술_유형'].apply(lambda x: create_dummy(x, 'AH'))\n",
    "test['특정_시술_유형_BLASTOCYST_더미'] = test['변환된_특정_시술_유형'].apply(lambda x: create_dummy(x, 'BLASTOCYST'))"
   ]
  },
  {
   "cell_type": "code",
   "execution_count": 24,
   "metadata": {},
   "outputs": [
    {
     "name": "stdout",
     "output_type": "stream",
     "text": [
      "Grouped by: 특정_시술_유형, 특정_시술_유형_ICSI_더미, 특정_시술_유형_IVF_더미, 특정_시술_유형_AH_더미, 특정_시술_유형_BLASTOCYST_더미\n",
      "\n",
      "                               group  '임신_성공_여부' count     ratio  Total\n",
      "0           (Generic DI, 0, 0, 0, 0)                 1  0.166667      6\n",
      "1                  (ICI, 0, 0, 0, 0)                 1  0.333333      3\n",
      "2                 (ICSI, 1, 0, 0, 0)              5082  0.285201  17819\n",
      "3            (ICSI / AH, 1, 0, 1, 0)                 4  0.222222     18\n",
      "4    (ICSI / AH:Unknown, 1, 0, 1, 0)                 1  0.500000      2\n",
      "5   (ICSI / BLASTOCYST , 1, 0, 0, 1)                12  0.461538     26\n",
      "6            (ICSI:ICSI, 1, 0, 0, 0)                 5  0.015106    331\n",
      "7             (ICSI:IVF, 1, 0, 0, 0)                27  0.195652    138\n",
      "8         (ICSI:Unknown, 1, 0, 0, 0)                 3  0.096774     31\n",
      "9                  (IUI, 0, 0, 0, 0)               113  0.133570    846\n",
      "10                 (IVF, 0, 1, 0, 0)              3561  0.269548  13211\n",
      "11            (IVF / AH, 0, 1, 1, 0)                 0  0.000000      6\n",
      "12  (IVF / AH:ICSI / AH, 0, 1, 1, 0)                 0  0.000000      1\n",
      "13    (IVF / BLASTOCYST, 0, 1, 0, 1)                 6  0.193548     31\n",
      "14            (IVF:ICSI, 0, 1, 0, 0)                19  0.292308     65\n",
      "15             (IVF:IVF, 0, 1, 0, 0)                 3  0.017341    173\n",
      "16         (IVF:Unknown, 0, 1, 0, 0)                 1  0.100000     10\n",
      "17                 (IVI, 0, 0, 0, 0)                 0  0.000000      2\n",
      "18             (Unknown, 0, 0, 0, 0)              1040  0.260391   3994\n"
     ]
    }
   ],
   "source": [
    "summarize_group(train, ['특정_시술_유형',\n",
    "                        '특정_시술_유형_ICSI_더미',\n",
    "                          '특정_시술_유형_IVF_더미',\n",
    "                            '특정_시술_유형_AH_더미',\n",
    "                              '특정_시술_유형_BLASTOCYST_더미'])"
   ]
  },
  {
   "cell_type": "code",
   "execution_count": 25,
   "metadata": {},
   "outputs": [],
   "source": [
    "# '특정_시술_유형' 변수 제거\n",
    "train = train.drop(columns=['특정_시술_유형'])\n",
    "test = test.drop(columns=['특정_시술_유형'])"
   ]
  },
  {
   "cell_type": "markdown",
   "metadata": {},
   "source": [
    "### 6. 배란_자극_여부"
   ]
  },
  {
   "cell_type": "markdown",
   "metadata": {},
   "source": [
    "배란 자극 치료가 사용되었는지 여부"
   ]
  },
  {
   "cell_type": "code",
   "execution_count": 26,
   "metadata": {},
   "outputs": [
    {
     "name": "stdout",
     "output_type": "stream",
     "text": [
      "\n",
      "배란_자극_여부별 임신_성공_여부 비율 및 갯수\n",
      "\n",
      "                 0         1      0     1  Total\n",
      "variable                                        \n",
      "0         0.749679  0.250321   6421  2144   8565\n",
      "1         0.725203  0.274797  20413  7735  28148\n"
     ]
    }
   ],
   "source": [
    "value_counts_ratio(train, '배란_자극_여부')"
   ]
  },
  {
   "cell_type": "markdown",
   "metadata": {},
   "source": [
    "### 7. 배란_유도_유형"
   ]
  },
  {
   "cell_type": "markdown",
   "metadata": {},
   "source": [
    "사용된 배란 유도 방법 유형"
   ]
  },
  {
   "cell_type": "code",
   "execution_count": 27,
   "metadata": {},
   "outputs": [
    {
     "name": "stdout",
     "output_type": "stream",
     "text": [
      "\n",
      "배란_유도_유형별 임신_성공_여부 비율 및 갯수\n",
      "\n",
      "                   0         1      0     1  Total\n",
      "variable                                          \n",
      "기록되지 않은 시행  0.723077  0.276923  20022  7668  27690\n",
      "알 수 없음      0.754960  0.245040   6812  2211   9023\n"
     ]
    }
   ],
   "source": [
    "value_counts_ratio(train, '배란_유도_유형')"
   ]
  },
  {
   "cell_type": "code",
   "execution_count": 28,
   "metadata": {},
   "outputs": [
    {
     "data": {
      "text/plain": [
       "기록되지 않은 시행    9751\n",
       "알 수 없음        3178\n",
       "Name: 배란_유도_유형, dtype: int64"
      ]
     },
     "execution_count": 28,
     "metadata": {},
     "output_type": "execute_result"
    }
   ],
   "source": [
    "test['배란_유도_유형'].value_counts()"
   ]
  },
  {
   "cell_type": "markdown",
   "metadata": {},
   "source": [
    "### 8. 단일_배아_이식_여부"
   ]
  },
  {
   "cell_type": "markdown",
   "metadata": {},
   "source": [
    "선택적으로 단일 배아를 이식했는지 여부"
   ]
  },
  {
   "cell_type": "code",
   "execution_count": 29,
   "metadata": {},
   "outputs": [
    {
     "name": "stdout",
     "output_type": "stream",
     "text": [
      "\n",
      "단일_배아_이식_여부별 임신_성공_여부 비율 및 갯수\n",
      "\n",
      "                 0         1      0     1  Total\n",
      "variable                                        \n",
      "0.0       0.764222  0.235778  20365  6283  26648\n",
      "1.0       0.621959  0.378041   5727  3481   9208\n"
     ]
    }
   ],
   "source": [
    "value_counts_ratio(train, '단일_배아_이식_여부')"
   ]
  },
  {
   "cell_type": "markdown",
   "metadata": {},
   "source": [
    "### 9. 착상_전_유전_검사_사용_여부"
   ]
  },
  {
   "cell_type": "markdown",
   "metadata": {},
   "source": [
    "PGS(착상 전 유전 검사)가 시행되었는지 여부"
   ]
  },
  {
   "cell_type": "code",
   "execution_count": 30,
   "metadata": {},
   "outputs": [
    {
     "name": "stdout",
     "output_type": "stream",
     "text": [
      "\n",
      "착상_전_유전_검사_사용_여부별 임신_성공_여부 비율 및 갯수\n",
      "\n",
      "                0        1    0   1  Total\n",
      "variable                                  \n",
      "1.0       0.82235  0.17765  287  62    349\n"
     ]
    }
   ],
   "source": [
    "value_counts_ratio(train, '착상_전_유전_검사_사용_여부')"
   ]
  },
  {
   "cell_type": "code",
   "execution_count": 31,
   "metadata": {},
   "outputs": [
    {
     "name": "stdout",
     "output_type": "stream",
     "text": [
      "결측값 개수: 36364\n",
      "결측값 개수: 0\n"
     ]
    }
   ],
   "source": [
    "# 결측값 개수 확인\n",
    "print(\"결측값 개수:\", train['착상_전_유전_검사_사용_여부'].isnull().sum())\n",
    "\n",
    "# 결측값을 0으로 채우기\n",
    "train['착상_전_유전_검사_사용_여부'].fillna(0, inplace=True)\n",
    "test['착상_전_유전_검사_사용_여부'].fillna(0, inplace=True)\n",
    "\n",
    "# 결측값 개수 확인\n",
    "print(\"결측값 개수:\", train['착상_전_유전_검사_사용_여부'].isnull().sum())"
   ]
  },
  {
   "cell_type": "code",
   "execution_count": 32,
   "metadata": {},
   "outputs": [
    {
     "name": "stdout",
     "output_type": "stream",
     "text": [
      "\n",
      "착상_전_유전_검사_사용_여부별 임신_성공_여부 비율 및 갯수\n",
      "\n",
      "                 0         1      0     1  Total\n",
      "variable                                        \n",
      "0.0       0.730035  0.269965  26547  9817  36364\n",
      "1.0       0.822350  0.177650    287    62    349\n"
     ]
    }
   ],
   "source": [
    "value_counts_ratio(train, '착상_전_유전_검사_사용_여부')"
   ]
  },
  {
   "cell_type": "markdown",
   "metadata": {},
   "source": [
    "### 10. 착상_전_유전_진단_사용_여부"
   ]
  },
  {
   "cell_type": "markdown",
   "metadata": {},
   "source": [
    "PGD(착상 전 유전 진단)가 시행되었는지 여부"
   ]
  },
  {
   "cell_type": "code",
   "execution_count": 33,
   "metadata": {},
   "outputs": [
    {
     "name": "stdout",
     "output_type": "stream",
     "text": [
      "\n",
      "착상_전_유전_진단_사용_여부별 임신_성공_여부 비율 및 갯수\n",
      "\n",
      "                 0         1      0     1  Total\n",
      "variable                                        \n",
      "0.0       0.725842  0.274158  25644  9686  35330\n",
      "1.0       0.851711  0.148289    448    78    526\n"
     ]
    }
   ],
   "source": [
    "value_counts_ratio(train, '착상_전_유전_진단_사용_여부')"
   ]
  },
  {
   "cell_type": "code",
   "execution_count": 34,
   "metadata": {},
   "outputs": [
    {
     "name": "stdout",
     "output_type": "stream",
     "text": [
      "Grouped by: 착상_전_유전_진단_사용_여부, 착상_전_유전_검사_사용_여부\n",
      "\n",
      "        group  '임신_성공_여부' count     ratio  Total\n",
      "0  (0.0, 0.0)              9624  0.275113  34982\n",
      "1  (0.0, 1.0)                62  0.178161    348\n",
      "2  (1.0, 0.0)                78  0.148571    525\n",
      "3  (1.0, 1.0)                 0  0.000000      1\n"
     ]
    }
   ],
   "source": [
    "summarize_group(train, ['착상_전_유전_진단_사용_여부', '착상_전_유전_검사_사용_여부'])"
   ]
  },
  {
   "cell_type": "markdown",
   "metadata": {},
   "source": [
    "### 11. 남성_주_불임_원인"
   ]
  },
  {
   "cell_type": "markdown",
   "metadata": {},
   "source": [
    "남성의 주요 불임 원인 여부"
   ]
  },
  {
   "cell_type": "code",
   "execution_count": 35,
   "metadata": {},
   "outputs": [
    {
     "name": "stdout",
     "output_type": "stream",
     "text": [
      "\n",
      "남성_주_불임_원인별 임신_성공_여부 비율 및 갯수\n",
      "\n",
      "                 0         1      0     1  Total\n",
      "variable                                        \n",
      "0         0.730252  0.269748  26560  9811  36371\n",
      "1         0.801170  0.198830    274    68    342\n"
     ]
    }
   ],
   "source": [
    "value_counts_ratio(train, '남성_주_불임_원인')"
   ]
  },
  {
   "cell_type": "markdown",
   "metadata": {},
   "source": [
    "### 12. 남성_부_불임_원인"
   ]
  },
  {
   "cell_type": "markdown",
   "metadata": {},
   "source": [
    "남성의 부차적 불임 원인 여부"
   ]
  },
  {
   "cell_type": "code",
   "execution_count": 36,
   "metadata": {},
   "outputs": [
    {
     "name": "stdout",
     "output_type": "stream",
     "text": [
      "\n",
      "남성_부_불임_원인별 임신_성공_여부 비율 및 갯수\n",
      "\n",
      "                 0         1      0     1  Total\n",
      "variable                                        \n",
      "0         0.730602  0.269398  26732  9857  36589\n",
      "1         0.822581  0.177419    102    22    124\n"
     ]
    }
   ],
   "source": [
    "value_counts_ratio(train, '남성_부_불임_원인')"
   ]
  },
  {
   "cell_type": "code",
   "execution_count": 37,
   "metadata": {},
   "outputs": [
    {
     "name": "stdout",
     "output_type": "stream",
     "text": [
      "Grouped by: 남성_주_불임_원인, 남성_부_불임_원인\n",
      "\n",
      "    group  '임신_성공_여부' count     ratio  Total\n",
      "0  (0, 0)              9789  0.270064  36247\n",
      "1  (0, 1)                22  0.177419    124\n",
      "2  (1, 0)                68  0.198830    342\n"
     ]
    }
   ],
   "source": [
    "summarize_group(train, ['남성_주_불임_원인', '남성_부_불임_원인'])"
   ]
  },
  {
   "cell_type": "markdown",
   "metadata": {},
   "source": [
    "### 13. 여성_주_불임_원인"
   ]
  },
  {
   "cell_type": "markdown",
   "metadata": {},
   "source": [
    "여성의 주요 불임 원인 여부"
   ]
  },
  {
   "cell_type": "code",
   "execution_count": 38,
   "metadata": {},
   "outputs": [
    {
     "name": "stdout",
     "output_type": "stream",
     "text": [
      "\n",
      "여성_주_불임_원인별 임신_성공_여부 비율 및 갯수\n",
      "\n",
      "                 0         1      0     1  Total\n",
      "variable                                        \n",
      "0         0.730093  0.269907  26525  9806  36331\n",
      "1         0.808901  0.191099    309    73    382\n"
     ]
    }
   ],
   "source": [
    "value_counts_ratio(train, '여성_주_불임_원인')"
   ]
  },
  {
   "cell_type": "markdown",
   "metadata": {},
   "source": [
    "### 14. 여성_부_불임_원인"
   ]
  },
  {
   "cell_type": "markdown",
   "metadata": {},
   "source": [
    "여성의 부차적 불임 원인 여부"
   ]
  },
  {
   "cell_type": "code",
   "execution_count": 39,
   "metadata": {},
   "outputs": [
    {
     "name": "stdout",
     "output_type": "stream",
     "text": [
      "\n",
      "여성_부_불임_원인별 임신_성공_여부 비율 및 갯수\n",
      "\n",
      "                 0         1      0     1  Total\n",
      "variable                                        \n",
      "0         0.730745  0.269255  26746  9855  36601\n",
      "1         0.785714  0.214286     88    24    112\n"
     ]
    }
   ],
   "source": [
    "value_counts_ratio(train, '여성_부_불임_원인')"
   ]
  },
  {
   "cell_type": "code",
   "execution_count": 40,
   "metadata": {},
   "outputs": [
    {
     "name": "stdout",
     "output_type": "stream",
     "text": [
      "Grouped by: 여성_주_불임_원인, 여성_부_불임_원인\n",
      "\n",
      "    group  '임신_성공_여부' count     ratio  Total\n",
      "0  (0, 0)              9782  0.270079  36219\n",
      "1  (0, 1)                24  0.214286    112\n",
      "2  (1, 0)                73  0.191099    382\n"
     ]
    }
   ],
   "source": [
    "summarize_group(train, ['여성_주_불임_원인', '여성_부_불임_원인'])"
   ]
  },
  {
   "cell_type": "code",
   "execution_count": 41,
   "metadata": {},
   "outputs": [
    {
     "name": "stdout",
     "output_type": "stream",
     "text": [
      "Grouped by: 남성_주_불임_원인, 남성_부_불임_원인, 여성_주_불임_원인, 여성_부_불임_원인\n",
      "\n",
      "          group  '임신_성공_여부' count     ratio  Total\n",
      "0  (0, 0, 0, 0)              9782  0.270094  36217\n",
      "1  (0, 0, 0, 1)                 2  0.333333      6\n",
      "2  (0, 0, 1, 0)                 5  0.208333     24\n",
      "3  (0, 1, 0, 0)                 0  0.000000      1\n",
      "4  (0, 1, 0, 1)                15  0.208333     72\n",
      "5  (0, 1, 1, 0)                 7  0.137255     51\n",
      "6  (1, 0, 0, 0)                 0  0.000000      1\n",
      "7  (1, 0, 0, 1)                 7  0.205882     34\n",
      "8  (1, 0, 1, 0)                61  0.198697    307\n"
     ]
    }
   ],
   "source": [
    "summarize_group(train, ['남성_주_불임_원인', '남성_부_불임_원인', '여성_주_불임_원인', '여성_부_불임_원인'])"
   ]
  },
  {
   "cell_type": "markdown",
   "metadata": {},
   "source": [
    "### 15. 부부_주_불임_원인"
   ]
  },
  {
   "cell_type": "markdown",
   "metadata": {},
   "source": [
    "부부의 주요 불임 원인 여부"
   ]
  },
  {
   "cell_type": "code",
   "execution_count": 42,
   "metadata": {},
   "outputs": [
    {
     "name": "stdout",
     "output_type": "stream",
     "text": [
      "\n",
      "부부_주_불임_원인별 임신_성공_여부 비율 및 갯수\n",
      "\n",
      "                 0         1      0     1  Total\n",
      "variable                                        \n",
      "0         0.730098  0.269902  26523  9805  36328\n",
      "1         0.807792  0.192208    311    74    385\n"
     ]
    }
   ],
   "source": [
    "value_counts_ratio(train, '부부_주_불임_원인')"
   ]
  },
  {
   "cell_type": "markdown",
   "metadata": {},
   "source": [
    "### 16. 부부_부_불임_원인"
   ]
  },
  {
   "cell_type": "markdown",
   "metadata": {},
   "source": [
    "부부의 부차적 불임 원인 여부"
   ]
  },
  {
   "cell_type": "code",
   "execution_count": 43,
   "metadata": {},
   "outputs": [
    {
     "name": "stdout",
     "output_type": "stream",
     "text": [
      "\n",
      "부부_부_불임_원인별 임신_성공_여부 비율 및 갯수\n",
      "\n",
      "                 0         1      0     1  Total\n",
      "variable                                        \n",
      "0         0.730839  0.269161  26775  9861  36636\n",
      "1         0.766234  0.233766     59    18     77\n"
     ]
    }
   ],
   "source": [
    "value_counts_ratio(train, '부부_부_불임_원인')"
   ]
  },
  {
   "cell_type": "code",
   "execution_count": 44,
   "metadata": {},
   "outputs": [
    {
     "name": "stdout",
     "output_type": "stream",
     "text": [
      "Grouped by: 부부_주_불임_원인, 부부_부_불임_원인\n",
      "\n",
      "    group  '임신_성공_여부' count     ratio  Total\n",
      "0  (0, 0)              9787  0.269979  36251\n",
      "1  (0, 1)                18  0.233766     77\n",
      "2  (1, 0)                74  0.192208    385\n"
     ]
    }
   ],
   "source": [
    "summarize_group(train, ['부부_주_불임_원인', '부부_부_불임_원인'])"
   ]
  },
  {
   "cell_type": "code",
   "execution_count": 45,
   "metadata": {},
   "outputs": [
    {
     "name": "stdout",
     "output_type": "stream",
     "text": [
      "Grouped by: 남성_주_불임_원인, 남성_부_불임_원인, 여성_주_불임_원인, 여성_부_불임_원인, 부부_주_불임_원인, 부부_부_불임_원인\n",
      "\n",
      "                 group  '임신_성공_여부' count     ratio  Total\n",
      "0   (0, 0, 0, 0, 0, 0)              9782  0.270094  36217\n",
      "1   (0, 0, 0, 1, 0, 0)                 2  0.400000      5\n",
      "2   (0, 0, 0, 1, 0, 1)                 0  0.000000      1\n",
      "3   (0, 0, 1, 0, 0, 0)                 3  0.142857     21\n",
      "4   (0, 0, 1, 0, 1, 0)                 2  0.666667      3\n",
      "5   (0, 1, 0, 0, 0, 0)                 0  0.000000      1\n",
      "6   (0, 1, 0, 1, 0, 1)                15  0.223881     67\n",
      "7   (0, 1, 0, 1, 1, 0)                 0  0.000000      5\n",
      "8   (0, 1, 1, 0, 0, 1)                 2  0.250000      8\n",
      "9   (0, 1, 1, 0, 1, 0)                 5  0.116279     43\n",
      "10  (1, 0, 0, 0, 1, 0)                 0  0.000000      1\n",
      "11  (1, 0, 0, 1, 0, 1)                 1  1.000000      1\n",
      "12  (1, 0, 0, 1, 1, 0)                 6  0.181818     33\n",
      "13  (1, 0, 1, 0, 0, 0)                 0  0.000000      7\n",
      "14  (1, 0, 1, 0, 1, 0)                61  0.203333    300\n"
     ]
    }
   ],
   "source": [
    "summarize_group(train, ['남성_주_불임_원인', '남성_부_불임_원인'\n",
    "                        , '여성_주_불임_원인', '여성_부_불임_원인'\n",
    "                        , '부부_주_불임_원인', '부부_부_불임_원인'])"
   ]
  },
  {
   "cell_type": "markdown",
   "metadata": {},
   "source": [
    "### 17. 불명확_불임_원인"
   ]
  },
  {
   "cell_type": "markdown",
   "metadata": {},
   "source": [
    "불명의 원인으로 인한 불임 여부"
   ]
  },
  {
   "cell_type": "code",
   "execution_count": 46,
   "metadata": {},
   "outputs": [
    {
     "name": "stdout",
     "output_type": "stream",
     "text": [
      "\n",
      "불명확_불임_원인별 임신_성공_여부 비율 및 갯수\n",
      "\n",
      "                 0         1      0     1  Total\n",
      "variable                                        \n",
      "0         0.729238  0.270762  19941  7404  27345\n",
      "1         0.735803  0.264197   6893  2475   9368\n"
     ]
    }
   ],
   "source": [
    "value_counts_ratio(train, '불명확_불임_원인')"
   ]
  },
  {
   "cell_type": "markdown",
   "metadata": {},
   "source": [
    "### 18. 불임_원인_-_난관_질환"
   ]
  },
  {
   "cell_type": "markdown",
   "metadata": {},
   "source": [
    "난관 이상으로 인한 불임 여부"
   ]
  },
  {
   "cell_type": "code",
   "execution_count": 47,
   "metadata": {},
   "outputs": [
    {
     "name": "stdout",
     "output_type": "stream",
     "text": [
      "\n",
      "불임_원인_-_난관_질환별 임신_성공_여부 비율 및 갯수\n",
      "\n",
      "                 0         1      0     1  Total\n",
      "variable                                        \n",
      "0         0.733335  0.266665  23455  8529  31984\n",
      "1         0.714527  0.285473   3379  1350   4729\n"
     ]
    }
   ],
   "source": [
    "value_counts_ratio(train, '불임_원인_-_난관_질환')"
   ]
  },
  {
   "cell_type": "markdown",
   "metadata": {},
   "source": [
    "### 19. 불임_원인_-_남성_요인"
   ]
  },
  {
   "cell_type": "markdown",
   "metadata": {},
   "source": [
    "남성 요인으로 인한 불임 여부"
   ]
  },
  {
   "cell_type": "code",
   "execution_count": 48,
   "metadata": {},
   "outputs": [
    {
     "name": "stdout",
     "output_type": "stream",
     "text": [
      "\n",
      "불임_원인_-_남성_요인별 임신_성공_여부 비율 및 갯수\n",
      "\n",
      "                 0         1      0     1  Total\n",
      "variable                                        \n",
      "0         0.745242  0.254758  17505  5984  23489\n",
      "1         0.705460  0.294540   9329  3895  13224\n"
     ]
    }
   ],
   "source": [
    "value_counts_ratio(train, '불임_원인_-_남성_요인')"
   ]
  },
  {
   "cell_type": "markdown",
   "metadata": {},
   "source": [
    "### 20. 불임_원인_-_배란_장애"
   ]
  },
  {
   "cell_type": "markdown",
   "metadata": {},
   "source": [
    "배란 장애로 인한 불임 여부"
   ]
  },
  {
   "cell_type": "code",
   "execution_count": 49,
   "metadata": {},
   "outputs": [
    {
     "name": "stdout",
     "output_type": "stream",
     "text": [
      "\n",
      "불임_원인_-_배란_장애별 임신_성공_여부 비율 및 갯수\n",
      "\n",
      "                 0         1      0     1  Total\n",
      "variable                                        \n",
      "0         0.735560  0.264440  23393  8410  31803\n",
      "1         0.700815  0.299185   3441  1469   4910\n"
     ]
    }
   ],
   "source": [
    "value_counts_ratio(train, '불임_원인_-_배란_장애')"
   ]
  },
  {
   "cell_type": "markdown",
   "metadata": {},
   "source": [
    "### 21. 불임_원인_-_여성_요인"
   ]
  },
  {
   "cell_type": "markdown",
   "metadata": {},
   "source": [
    "여성 요인으로 인한 불임 여부"
   ]
  },
  {
   "cell_type": "code",
   "execution_count": 50,
   "metadata": {},
   "outputs": [
    {
     "name": "stdout",
     "output_type": "stream",
     "text": [
      "\n",
      "불임_원인_-_여성_요인별 임신_성공_여부 비율 및 갯수\n",
      "\n",
      "                 0         1      0     1  Total\n",
      "variable                                        \n",
      "0         0.730913  0.269087  26834  9879  36713\n"
     ]
    }
   ],
   "source": [
    "value_counts_ratio(train, '불임_원인_-_여성_요인')"
   ]
  },
  {
   "cell_type": "code",
   "execution_count": 51,
   "metadata": {},
   "outputs": [
    {
     "data": {
      "text/plain": [
       "0    12929\n",
       "Name: 불임_원인_-_여성_요인, dtype: int64"
      ]
     },
     "execution_count": 51,
     "metadata": {},
     "output_type": "execute_result"
    }
   ],
   "source": [
    "test['불임_원인_-_여성_요인'].value_counts()"
   ]
  },
  {
   "cell_type": "code",
   "execution_count": 52,
   "metadata": {},
   "outputs": [],
   "source": [
    "# '불임_원인_-_여성_요인' 변수 제거\n",
    "train = train.drop(columns=['불임_원인_-_여성_요인'])\n",
    "test = test.drop(columns=['불임_원인_-_여성_요인'])"
   ]
  },
  {
   "cell_type": "markdown",
   "metadata": {},
   "source": [
    "### 22. 불임_원인_-_자궁경부_문제"
   ]
  },
  {
   "cell_type": "markdown",
   "metadata": {},
   "source": [
    "자궁경부 이상으로 인한 불임 여부"
   ]
  },
  {
   "cell_type": "code",
   "execution_count": 53,
   "metadata": {},
   "outputs": [
    {
     "name": "stdout",
     "output_type": "stream",
     "text": [
      "\n",
      "불임_원인_-_자궁경부_문제별 임신_성공_여부 비율 및 갯수\n",
      "\n",
      "                 0         1      0     1  Total\n",
      "variable                                        \n",
      "0         0.730913  0.269087  26834  9879  36713\n"
     ]
    }
   ],
   "source": [
    "value_counts_ratio(train, '불임_원인_-_자궁경부_문제')"
   ]
  },
  {
   "cell_type": "markdown",
   "metadata": {},
   "source": [
    "### 23. 불임_원인_-_자궁내막증"
   ]
  },
  {
   "cell_type": "markdown",
   "metadata": {},
   "source": [
    "자궁내막증으로 인한 불임 여부"
   ]
  },
  {
   "cell_type": "code",
   "execution_count": 54,
   "metadata": {},
   "outputs": [
    {
     "name": "stdout",
     "output_type": "stream",
     "text": [
      "\n",
      "불임_원인_-_자궁내막증별 임신_성공_여부 비율 및 갯수\n",
      "\n",
      "                 0         1      0     1  Total\n",
      "variable                                        \n",
      "0         0.731197  0.268803  24868  9142  34010\n",
      "1         0.727340  0.272660   1966   737   2703\n"
     ]
    }
   ],
   "source": [
    "value_counts_ratio(train, '불임_원인_-_자궁내막증')"
   ]
  },
  {
   "cell_type": "markdown",
   "metadata": {},
   "source": [
    "### 24. 불임_원인_-_정자_농도"
   ]
  },
  {
   "cell_type": "markdown",
   "metadata": {},
   "source": [
    "파트너의 정자 농도 문제 여부"
   ]
  },
  {
   "cell_type": "code",
   "execution_count": 55,
   "metadata": {},
   "outputs": [
    {
     "name": "stdout",
     "output_type": "stream",
     "text": [
      "\n",
      "불임_원인_-_정자_농도별 임신_성공_여부 비율 및 갯수\n",
      "\n",
      "                0        1      0     1  Total\n",
      "variable                                      \n",
      "0         0.73095  0.26905  26831  9876  36707\n",
      "1         0.50000  0.50000      3     3      6\n"
     ]
    }
   ],
   "source": [
    "value_counts_ratio(train, '불임_원인_-_정자_농도')"
   ]
  },
  {
   "cell_type": "markdown",
   "metadata": {},
   "source": [
    "### 25. 불임_원인_-_정자_면역학적_요인"
   ]
  },
  {
   "cell_type": "markdown",
   "metadata": {},
   "source": [
    "파트너의 정자 면역 관련 문제 여부"
   ]
  },
  {
   "cell_type": "code",
   "execution_count": 56,
   "metadata": {},
   "outputs": [
    {
     "name": "stdout",
     "output_type": "stream",
     "text": [
      "\n",
      "불임_원인_-_정자_면역학적_요인별 임신_성공_여부 비율 및 갯수\n",
      "\n",
      "                 0         1      0     1  Total\n",
      "variable                                        \n",
      "0         0.730913  0.269087  26834  9879  36713\n"
     ]
    }
   ],
   "source": [
    "value_counts_ratio(train, '불임_원인_-_정자_면역학적_요인')"
   ]
  },
  {
   "cell_type": "code",
   "execution_count": 57,
   "metadata": {},
   "outputs": [
    {
     "data": {
      "text/plain": [
       "0    12929\n",
       "Name: 불임_원인_-_정자_면역학적_요인, dtype: int64"
      ]
     },
     "execution_count": 57,
     "metadata": {},
     "output_type": "execute_result"
    }
   ],
   "source": [
    "test['불임_원인_-_정자_면역학적_요인'].value_counts()"
   ]
  },
  {
   "cell_type": "code",
   "execution_count": 58,
   "metadata": {},
   "outputs": [],
   "source": [
    "# '불임_원인_-_정자_면역학적_요인' 변수 제거\n",
    "train = train.drop(columns=['불임_원인_-_정자_면역학적_요인'])\n",
    "test = test.drop(columns=['불임_원인_-_정자_면역학적_요인'])"
   ]
  },
  {
   "cell_type": "markdown",
   "metadata": {},
   "source": [
    "### 26. 불임_원인_-_정자_운동성"
   ]
  },
  {
   "cell_type": "markdown",
   "metadata": {},
   "source": [
    "파트너의 정자 운동성 문제 여부"
   ]
  },
  {
   "cell_type": "code",
   "execution_count": 59,
   "metadata": {},
   "outputs": [
    {
     "name": "stdout",
     "output_type": "stream",
     "text": [
      "\n",
      "불임_원인_-_정자_운동성별 임신_성공_여부 비율 및 갯수\n",
      "\n",
      "                 0         1      0     1  Total\n",
      "variable                                        \n",
      "0         0.730889  0.269111  26828  9878  36706\n",
      "1         0.857143  0.142857      6     1      7\n"
     ]
    }
   ],
   "source": [
    "value_counts_ratio(train, '불임_원인_-_정자_운동성')"
   ]
  },
  {
   "cell_type": "code",
   "execution_count": 60,
   "metadata": {},
   "outputs": [],
   "source": [
    "# '불임_원인_-_정자_운동성' 변수 제거\n",
    "train = train.drop(columns=['불임_원인_-_정자_운동성'])\n",
    "test = test.drop(columns=['불임_원인_-_정자_운동성'])"
   ]
  },
  {
   "cell_type": "markdown",
   "metadata": {},
   "source": [
    "### 27. 불임_원인_-_정자_형태"
   ]
  },
  {
   "cell_type": "markdown",
   "metadata": {},
   "source": [
    "파트너의 정자 형태 문제 여부"
   ]
  },
  {
   "cell_type": "code",
   "execution_count": 61,
   "metadata": {},
   "outputs": [
    {
     "name": "stdout",
     "output_type": "stream",
     "text": [
      "\n",
      "불임_원인_-_정자_형태별 임신_성공_여부 비율 및 갯수\n",
      "\n",
      "                 0         1      0     1  Total\n",
      "variable                                        \n",
      "0         0.730925  0.269075  26833  9878  36711\n",
      "1         0.500000  0.500000      1     1      2\n"
     ]
    }
   ],
   "source": [
    "value_counts_ratio(train, '불임_원인_-_정자_형태')"
   ]
  },
  {
   "cell_type": "markdown",
   "metadata": {},
   "source": [
    "### 28. 배아_생성_주요_이유"
   ]
  },
  {
   "cell_type": "markdown",
   "metadata": {},
   "source": [
    "배아 생성의 주된 목적(시술, 보관 등)"
   ]
  },
  {
   "cell_type": "code",
   "execution_count": 62,
   "metadata": {},
   "outputs": [
    {
     "name": "stdout",
     "output_type": "stream",
     "text": [
      "\n",
      "배아_생성_주요_이유별 임신_성공_여부 비율 및 갯수\n",
      "\n",
      "                            0         1        0       1  Total\n",
      "variable                                                       \n",
      "기증용                  1.000000  0.000000    197.0     0.0    197\n",
      "기증용, 난자 저장용          1.000000  0.000000      5.0     0.0      5\n",
      "기증용, 배아 저장용          1.000000  0.000000     28.0     0.0     28\n",
      "기증용, 배아 저장용, 현재 시술용  0.600000  0.400000      3.0     2.0      5\n",
      "기증용, 현재 시술용          0.553611  0.446389    253.0   204.0    457\n",
      "난자 저장용               1.000000  0.000000    292.0     0.0    292\n",
      "배아 저장용               0.998560  0.001440   1387.0     2.0   1389\n",
      "배아 저장용, 현재 시술용       0.600000  0.400000      6.0     4.0     10\n",
      "현재 시술용               0.714636  0.285364  23921.0  9552.0  33473\n"
     ]
    }
   ],
   "source": [
    "value_counts_ratio(train, '배아_생성_주요_이유')"
   ]
  },
  {
   "cell_type": "code",
   "execution_count": 63,
   "metadata": {},
   "outputs": [],
   "source": [
    "# '연구용'이라는 값이 포함된 행 삭제\n",
    "train = train[~train['배아_생성_주요_이유'].str.contains('연구용', na=False)]\n",
    "# test = test[~test['배아_생성_주요_이유'].str.contains('연구용', na=False)]"
   ]
  },
  {
   "cell_type": "code",
   "execution_count": 64,
   "metadata": {},
   "outputs": [
    {
     "name": "stdout",
     "output_type": "stream",
     "text": [
      "\n",
      "배아_생성_주요_이유별 임신_성공_여부 비율 및 갯수\n",
      "\n",
      "                            0         1        0       1  Total\n",
      "variable                                                       \n",
      "기증용                  1.000000  0.000000    197.0     0.0    197\n",
      "기증용, 난자 저장용          1.000000  0.000000      5.0     0.0      5\n",
      "기증용, 배아 저장용          1.000000  0.000000     28.0     0.0     28\n",
      "기증용, 배아 저장용, 현재 시술용  0.600000  0.400000      3.0     2.0      5\n",
      "기증용, 현재 시술용          0.553611  0.446389    253.0   204.0    457\n",
      "난자 저장용               1.000000  0.000000    292.0     0.0    292\n",
      "배아 저장용               0.998560  0.001440   1387.0     2.0   1389\n",
      "배아 저장용, 현재 시술용       0.600000  0.400000      6.0     4.0     10\n",
      "현재 시술용               0.714636  0.285364  23921.0  9552.0  33473\n"
     ]
    }
   ],
   "source": [
    "value_counts_ratio(train, '배아_생성_주요_이유')"
   ]
  },
  {
   "cell_type": "code",
   "execution_count": 65,
   "metadata": {},
   "outputs": [
    {
     "data": {
      "text/plain": [
       "현재 시술용                 11844\n",
       "배아 저장용                   432\n",
       "기증용, 현재 시술용              164\n",
       "난자 저장용                    96\n",
       "기증용                       72\n",
       "배아 저장용, 현재 시술용             6\n",
       "기증용, 배아 저장용                6\n",
       "기증용, 난자 저장용                5\n",
       "기증용, 배아 저장용, 현재 시술용        1\n",
       "Name: 배아_생성_주요_이유, dtype: int64"
      ]
     },
     "execution_count": 65,
     "metadata": {},
     "output_type": "execute_result"
    }
   ],
   "source": [
    "test['배아_생성_주요_이유'].value_counts()"
   ]
  },
  {
   "cell_type": "code",
   "execution_count": 66,
   "metadata": {},
   "outputs": [
    {
     "name": "stdout",
     "output_type": "stream",
     "text": [
      "결측값 개수: 857\n",
      "결측값 개수: 0\n"
     ]
    }
   ],
   "source": [
    "print(\"결측값 개수:\", train['배아_생성_주요_이유'].isnull().sum())\n",
    "\n",
    "train['배아_생성_주요_이유'].fillna('unknown', inplace=True)\n",
    "test['배아_생성_주요_이유'].fillna('unknown', inplace=True)\n",
    "\n",
    "print(\"결측값 개수:\", train['배아_생성_주요_이유'].isnull().sum())"
   ]
  },
  {
   "cell_type": "code",
   "execution_count": 67,
   "metadata": {},
   "outputs": [],
   "source": [
    "# '현재 시술용' 키워드가 포함된 경우 1, 그렇지 않은 경우 0을 부여하는 더미 변수 생성\n",
    "train['배아_생성_주요_이유_현재시술용'] = train['배아_생성_주요_이유'].str.contains('현재 시술용').astype(int)\n",
    "test['배아_생성_주요_이유_현재시술용'] = test['배아_생성_주요_이유'].str.contains('현재 시술용').astype(int)"
   ]
  },
  {
   "cell_type": "code",
   "execution_count": 68,
   "metadata": {},
   "outputs": [],
   "source": [
    "# '기증용' 키워드가 포함된 경우 1, 그렇지 않은 경우 0을 부여하는 더미 변수 생성\n",
    "train['배아_생성_주요_이유_기증용'] = train['배아_생성_주요_이유'].str.contains('기증용').astype(int)\n",
    "test['배아_생성_주요_이유_기증용'] = test['배아_생성_주요_이유'].str.contains('기증용').astype(int)"
   ]
  },
  {
   "cell_type": "code",
   "execution_count": 69,
   "metadata": {},
   "outputs": [],
   "source": [
    "# '난자 저장용' 키워드가 포함된 경우 1, 그렇지 않은 경우 0을 부여하는 더미 변수 생성\n",
    "train['배아_생성_주요_이유_난자저장용'] = train['배아_생성_주요_이유'].str.contains('난자 저장용').astype(int)\n",
    "test['배아_생성_주요_이유_난자저장용'] = test['배아_생성_주요_이유'].str.contains('난자 저장용').astype(int)"
   ]
  },
  {
   "cell_type": "code",
   "execution_count": 70,
   "metadata": {},
   "outputs": [],
   "source": [
    "# '배아 저장용' 키워드가 포함된 경우 1, 그렇지 않은 경우 0을 부여하는 더미 변수 생성\n",
    "train['배아_생성_주요_이유_배아저장용'] = train['배아_생성_주요_이유'].str.contains('배아 저장용').astype(int)\n",
    "test['배아_생성_주요_이유_배아저장용'] = test['배아_생성_주요_이유'].str.contains('배아 저장용').astype(int)"
   ]
  },
  {
   "cell_type": "code",
   "execution_count": 71,
   "metadata": {},
   "outputs": [
    {
     "name": "stdout",
     "output_type": "stream",
     "text": [
      "Grouped by: 배아_생성_주요_이유_현재시술용, 배아_생성_주요_이유_기증용, 배아_생성_주요_이유_난자저장용, 배아_생성_주요_이유_배아저장용\n",
      "\n",
      "          group  '임신_성공_여부' count     ratio  Total\n",
      "0  (0, 0, 0, 0)               115  0.134189    857\n",
      "1  (0, 0, 0, 1)                 2  0.001440   1389\n",
      "2  (0, 0, 1, 0)                 0  0.000000    292\n",
      "3  (0, 1, 0, 0)                 0  0.000000    197\n",
      "4  (0, 1, 0, 1)                 0  0.000000     28\n",
      "5  (0, 1, 1, 0)                 0  0.000000      5\n",
      "6  (1, 0, 0, 0)              9552  0.285364  33473\n",
      "7  (1, 0, 0, 1)                 4  0.400000     10\n",
      "8  (1, 1, 0, 0)               204  0.446389    457\n",
      "9  (1, 1, 0, 1)                 2  0.400000      5\n"
     ]
    }
   ],
   "source": [
    "summarize_group(train, [\n",
    "    # '배아_생성_주요_이유',\n",
    "    '배아_생성_주요_이유_현재시술용',\n",
    "    '배아_생성_주요_이유_기증용',\n",
    "    '배아_생성_주요_이유_난자저장용',\n",
    "    '배아_생성_주요_이유_배아저장용'\n",
    "                        ])"
   ]
  },
  {
   "cell_type": "code",
   "execution_count": 72,
   "metadata": {},
   "outputs": [
    {
     "name": "stdout",
     "output_type": "stream",
     "text": [
      "\n",
      "배아_생성_주요_이유_현재시술용별 임신_성공_여부 비율 및 갯수\n",
      "\n",
      "                 0         1      0     1  Total\n",
      "variable                                        \n",
      "0         0.957731  0.042269   2651   117   2768\n",
      "1         0.712417  0.287583  24183  9762  33945\n"
     ]
    }
   ],
   "source": [
    "value_counts_ratio(train, '배아_생성_주요_이유_현재시술용')"
   ]
  },
  {
   "cell_type": "code",
   "execution_count": 73,
   "metadata": {},
   "outputs": [],
   "source": [
    "# # 변수 제거\n",
    "# train = train.drop(columns=['배아_생성_주요_이유'])\n",
    "# test = test.drop(columns=['배아_생성_주요_이유'])"
   ]
  },
  {
   "cell_type": "markdown",
   "metadata": {},
   "source": [
    "### 29. 총_시술_횟수"
   ]
  },
  {
   "cell_type": "markdown",
   "metadata": {},
   "source": [
    "IVF 및 DI 포함한 전체 시술 횟수"
   ]
  },
  {
   "cell_type": "code",
   "execution_count": 74,
   "metadata": {},
   "outputs": [
    {
     "name": "stdout",
     "output_type": "stream",
     "text": [
      "\n",
      "총_시술_횟수별 임신_성공_여부 비율 및 갯수\n",
      "\n",
      "                 0         1      0     1  Total\n",
      "variable                                        \n",
      "0회        0.700368  0.299632  10093  4318  14411\n",
      "1회        0.742703  0.257297   5929  2054   7983\n",
      "2회        0.744810  0.255190   4054  1389   5443\n",
      "3회        0.744650  0.255350   2575   883   3458\n",
      "4회        0.752027  0.247973   1577   520   2097\n",
      "5회        0.764662  0.235338   1017   313   1330\n",
      "6회 이상     0.798091  0.201909   1589   402   1991\n"
     ]
    }
   ],
   "source": [
    "value_counts_ratio(train, '총_시술_횟수')"
   ]
  },
  {
   "cell_type": "code",
   "execution_count": 75,
   "metadata": {},
   "outputs": [
    {
     "data": {
      "text/plain": [
       "0회       5125\n",
       "1회       2803\n",
       "2회       1854\n",
       "3회       1225\n",
       "4회        754\n",
       "6회 이상     695\n",
       "5회        473\n",
       "Name: 총_시술_횟수, dtype: int64"
      ]
     },
     "execution_count": 75,
     "metadata": {},
     "output_type": "execute_result"
    }
   ],
   "source": [
    "test['총_시술_횟수'].value_counts()"
   ]
  },
  {
   "cell_type": "code",
   "execution_count": 76,
   "metadata": {},
   "outputs": [
    {
     "name": "stdout",
     "output_type": "stream",
     "text": [
      "\n",
      "총_시술_횟수별 임신_성공_여부 비율 및 갯수\n",
      "\n",
      "                 0         1      0     1  Total\n",
      "variable                                        \n",
      "0         0.700368  0.299632  10093  4318  14411\n",
      "1         0.742703  0.257297   5929  2054   7983\n",
      "2         0.744810  0.255190   4054  1389   5443\n",
      "3         0.744650  0.255350   2575   883   3458\n",
      "4         0.752027  0.247973   1577   520   2097\n",
      "5         0.764662  0.235338   1017   313   1330\n",
      "6         0.798091  0.201909   1589   402   1991\n"
     ]
    }
   ],
   "source": [
    "# 숫자 매핑\n",
    "mapping = {\n",
    "    '0회': 0,\n",
    "    '1회': 1,\n",
    "    '2회': 2,\n",
    "    '3회': 3,\n",
    "    '4회': 4,\n",
    "    '5회': 5,\n",
    "    '6회 이상': 6\n",
    "}\n",
    "\n",
    "# 숫자로 변환\n",
    "train['총_시술_횟수'] = train['총_시술_횟수'].map(mapping)\n",
    "test['총_시술_횟수'] = test['총_시술_횟수'].map(mapping)\n",
    "\n",
    "value_counts_ratio(train, '총_시술_횟수')"
   ]
  },
  {
   "cell_type": "markdown",
   "metadata": {},
   "source": [
    "### 30. 클리닉_내_총_시술_횟수"
   ]
  },
  {
   "cell_type": "markdown",
   "metadata": {},
   "source": [
    "특정 클리닉에서 받은 IVF 및 DI 시술 횟수"
   ]
  },
  {
   "cell_type": "code",
   "execution_count": 77,
   "metadata": {},
   "outputs": [
    {
     "name": "stdout",
     "output_type": "stream",
     "text": [
      "\n",
      "클리닉_내_총_시술_횟수별 임신_성공_여부 비율 및 갯수\n",
      "\n",
      "                 0         1      0     1  Total\n",
      "variable                                        \n",
      "0회        0.709762  0.290238  12709  5197  17906\n",
      "1회        0.745842  0.254158   6189  2109   8298\n",
      "2회        0.746362  0.253638   3590  1220   4810\n",
      "3회        0.748946  0.251054   1954   655   2609\n",
      "4회        0.753405  0.246595   1051   344   1395\n",
      "5회        0.758145  0.241855    605   193    798\n",
      "6회 이상     0.820513  0.179487    736   161    897\n"
     ]
    }
   ],
   "source": [
    "value_counts_ratio(train, '클리닉_내_총_시술_횟수')"
   ]
  },
  {
   "cell_type": "code",
   "execution_count": 78,
   "metadata": {},
   "outputs": [
    {
     "name": "stdout",
     "output_type": "stream",
     "text": [
      "\n",
      "클리닉_내_총_시술_횟수별 임신_성공_여부 비율 및 갯수\n",
      "\n",
      "                 0         1      0     1  Total\n",
      "variable                                        \n",
      "0         0.709762  0.290238  12709  5197  17906\n",
      "1         0.745842  0.254158   6189  2109   8298\n",
      "2         0.746362  0.253638   3590  1220   4810\n",
      "3         0.748946  0.251054   1954   655   2609\n",
      "4         0.753405  0.246595   1051   344   1395\n",
      "5         0.758145  0.241855    605   193    798\n",
      "6         0.820513  0.179487    736   161    897\n"
     ]
    }
   ],
   "source": [
    "# 숫자 매핑\n",
    "mapping = {\n",
    "    '0회': 0,\n",
    "    '1회': 1,\n",
    "    '2회': 2,\n",
    "    '3회': 3,\n",
    "    '4회': 4,\n",
    "    '5회': 5,\n",
    "    '6회 이상': 6\n",
    "}\n",
    "\n",
    "# 숫자로 변환\n",
    "train['클리닉_내_총_시술_횟수'] = train['클리닉_내_총_시술_횟수'].map(mapping)\n",
    "test['클리닉_내_총_시술_횟수'] = test['클리닉_내_총_시술_횟수'].map(mapping)\n",
    "\n",
    "value_counts_ratio(train, '클리닉_내_총_시술_횟수')"
   ]
  },
  {
   "cell_type": "markdown",
   "metadata": {},
   "source": [
    "### 31. IVF_시술_횟수"
   ]
  },
  {
   "cell_type": "markdown",
   "metadata": {},
   "source": [
    "이전에 수행된 IVF 시술 횟수"
   ]
  },
  {
   "cell_type": "code",
   "execution_count": 79,
   "metadata": {},
   "outputs": [
    {
     "name": "stdout",
     "output_type": "stream",
     "text": [
      "\n",
      "IVF_시술_횟수별 임신_성공_여부 비율 및 갯수\n",
      "\n",
      "                 0         1      0     1  Total\n",
      "variable                                        \n",
      "0회        0.704369  0.295631  10786  4527  15313\n",
      "1회        0.740105  0.259895   6077  2134   8211\n",
      "2회        0.743760  0.256240   4023  1386   5409\n",
      "3회        0.750459  0.249541   2451   815   3266\n",
      "4회        0.762230  0.237770   1449   452   1901\n",
      "5회        0.768078  0.231922    871   263   1134\n",
      "6회 이상     0.795808  0.204192   1177   302   1479\n"
     ]
    }
   ],
   "source": [
    "value_counts_ratio(train, 'IVF_시술_횟수')"
   ]
  },
  {
   "cell_type": "code",
   "execution_count": 80,
   "metadata": {},
   "outputs": [
    {
     "name": "stdout",
     "output_type": "stream",
     "text": [
      "\n",
      "IVF_시술_횟수별 임신_성공_여부 비율 및 갯수\n",
      "\n",
      "                 0         1      0     1  Total\n",
      "variable                                        \n",
      "0         0.704369  0.295631  10786  4527  15313\n",
      "1         0.740105  0.259895   6077  2134   8211\n",
      "2         0.743760  0.256240   4023  1386   5409\n",
      "3         0.750459  0.249541   2451   815   3266\n",
      "4         0.762230  0.237770   1449   452   1901\n",
      "5         0.768078  0.231922    871   263   1134\n",
      "6         0.795808  0.204192   1177   302   1479\n"
     ]
    }
   ],
   "source": [
    "# 숫자 매핑\n",
    "mapping = {\n",
    "    '0회': 0,\n",
    "    '1회': 1,\n",
    "    '2회': 2,\n",
    "    '3회': 3,\n",
    "    '4회': 4,\n",
    "    '5회': 5,\n",
    "    '6회 이상': 6\n",
    "}\n",
    "\n",
    "# 숫자로 변환\n",
    "train['IVF_시술_횟수'] = train['IVF_시술_횟수'].map(mapping)\n",
    "test['IVF_시술_횟수'] = test['IVF_시술_횟수'].map(mapping)\n",
    "\n",
    "value_counts_ratio(train, 'IVF_시술_횟수')"
   ]
  },
  {
   "cell_type": "markdown",
   "metadata": {},
   "source": [
    "### 32. DI_시술_횟수"
   ]
  },
  {
   "cell_type": "markdown",
   "metadata": {},
   "source": [
    "이전에 수행된 DI 시술 횟수"
   ]
  },
  {
   "cell_type": "code",
   "execution_count": 81,
   "metadata": {},
   "outputs": [
    {
     "name": "stdout",
     "output_type": "stream",
     "text": [
      "\n",
      "DI_시술_횟수별 임신_성공_여부 비율 및 갯수\n",
      "\n",
      "                 0         1      0     1  Total\n",
      "variable                                        \n",
      "0회        0.728954  0.271046  25302  9408  34710\n",
      "1회        0.785882  0.214118    334    91    425\n",
      "2회        0.778281  0.221719    344    98    442\n",
      "3회        0.709130  0.290870    334   137    471\n",
      "4회        0.776000  0.224000    194    56    250\n",
      "5회        0.813253  0.186747    135    31    166\n",
      "6회 이상     0.767068  0.232932    191    58    249\n"
     ]
    }
   ],
   "source": [
    "value_counts_ratio(train, 'DI_시술_횟수')"
   ]
  },
  {
   "cell_type": "code",
   "execution_count": 82,
   "metadata": {},
   "outputs": [
    {
     "name": "stdout",
     "output_type": "stream",
     "text": [
      "\n",
      "DI_시술_횟수별 임신_성공_여부 비율 및 갯수\n",
      "\n",
      "                 0         1      0     1  Total\n",
      "variable                                        \n",
      "0         0.728954  0.271046  25302  9408  34710\n",
      "1         0.785882  0.214118    334    91    425\n",
      "2         0.778281  0.221719    344    98    442\n",
      "3         0.709130  0.290870    334   137    471\n",
      "4         0.776000  0.224000    194    56    250\n",
      "5         0.813253  0.186747    135    31    166\n",
      "6         0.767068  0.232932    191    58    249\n"
     ]
    }
   ],
   "source": [
    "# 숫자 매핑\n",
    "mapping = {\n",
    "    '0회': 0,\n",
    "    '1회': 1,\n",
    "    '2회': 2,\n",
    "    '3회': 3,\n",
    "    '4회': 4,\n",
    "    '5회': 5,\n",
    "    '6회 이상': 6\n",
    "}\n",
    "\n",
    "# 숫자로 변환\n",
    "train['DI_시술_횟수'] = train['DI_시술_횟수'].map(mapping)\n",
    "test['DI_시술_횟수'] = test['DI_시술_횟수'].map(mapping)\n",
    "\n",
    "value_counts_ratio(train, 'DI_시술_횟수')"
   ]
  },
  {
   "cell_type": "markdown",
   "metadata": {},
   "source": [
    "### 33. 총_임신_횟수"
   ]
  },
  {
   "cell_type": "markdown",
   "metadata": {},
   "source": [
    "IVF 및 DI 포함한 총 임신 횟수"
   ]
  },
  {
   "cell_type": "code",
   "execution_count": 83,
   "metadata": {},
   "outputs": [
    {
     "name": "stdout",
     "output_type": "stream",
     "text": [
      "\n",
      "총_임신_횟수별 임신_성공_여부 비율 및 갯수\n",
      "\n",
      "                 0         1      0     1  Total\n",
      "variable                                        \n",
      "0회        0.731673  0.268327  21509  7888  29397\n",
      "1회        0.726175  0.273825   4511  1701   6212\n",
      "2회        0.733401  0.266599    718   261    979\n",
      "3회        0.772727  0.227273     85    25    110\n",
      "4회        0.733333  0.266667     11     4     15\n"
     ]
    }
   ],
   "source": [
    "value_counts_ratio(train, '총_임신_횟수')"
   ]
  },
  {
   "cell_type": "code",
   "execution_count": 84,
   "metadata": {},
   "outputs": [
    {
     "name": "stdout",
     "output_type": "stream",
     "text": [
      "\n",
      "총_임신_횟수별 임신_성공_여부 비율 및 갯수\n",
      "\n",
      "                 0         1      0     1  Total\n",
      "variable                                        \n",
      "0         0.731673  0.268327  21509  7888  29397\n",
      "1         0.726175  0.273825   4511  1701   6212\n",
      "2         0.733401  0.266599    718   261    979\n",
      "3         0.772727  0.227273     85    25    110\n",
      "4         0.733333  0.266667     11     4     15\n"
     ]
    }
   ],
   "source": [
    "# 숫자 매핑\n",
    "mapping = {\n",
    "    '0회': 0,\n",
    "    '1회': 1,\n",
    "    '2회': 2,\n",
    "    '3회': 3,\n",
    "    '4회': 4,\n",
    "    '5회': 5,\n",
    "    '6회 이상': 6\n",
    "}\n",
    "\n",
    "# 숫자로 변환\n",
    "train['총_임신_횟수'] = train['총_임신_횟수'].map(mapping)\n",
    "test['총_임신_횟수'] = test['총_임신_횟수'].map(mapping)\n",
    "\n",
    "value_counts_ratio(train, '총_임신_횟수')"
   ]
  },
  {
   "cell_type": "markdown",
   "metadata": {},
   "source": [
    "### 34. IVF_임신_횟수"
   ]
  },
  {
   "cell_type": "markdown",
   "metadata": {},
   "source": [
    "IVF 시술로 인한 임신 횟수"
   ]
  },
  {
   "cell_type": "code",
   "execution_count": 85,
   "metadata": {},
   "outputs": [
    {
     "name": "stdout",
     "output_type": "stream",
     "text": [
      "\n",
      "IVF_임신_횟수별 임신_성공_여부 비율 및 갯수\n",
      "\n",
      "                 0         1      0     1  Total\n",
      "variable                                        \n",
      "0회        0.732313  0.267687  21809  7972  29781\n",
      "1회        0.722560  0.277440   4279  1643   5922\n",
      "2회        0.737251  0.262749    665   237    902\n",
      "3회        0.750000  0.250000     72    24     96\n",
      "4회        0.750000  0.250000      9     3     12\n"
     ]
    }
   ],
   "source": [
    "value_counts_ratio(train, 'IVF_임신_횟수')"
   ]
  },
  {
   "cell_type": "code",
   "execution_count": 86,
   "metadata": {},
   "outputs": [
    {
     "name": "stdout",
     "output_type": "stream",
     "text": [
      "\n",
      "IVF_임신_횟수별 임신_성공_여부 비율 및 갯수\n",
      "\n",
      "                 0         1      0     1  Total\n",
      "variable                                        \n",
      "0         0.732313  0.267687  21809  7972  29781\n",
      "1         0.722560  0.277440   4279  1643   5922\n",
      "2         0.737251  0.262749    665   237    902\n",
      "3         0.750000  0.250000     72    24     96\n",
      "4         0.750000  0.250000      9     3     12\n"
     ]
    }
   ],
   "source": [
    "# 숫자 매핑\n",
    "mapping = {\n",
    "    '0회': 0,\n",
    "    '1회': 1,\n",
    "    '2회': 2,\n",
    "    '3회': 3,\n",
    "    '4회': 4,\n",
    "    '5회': 5,\n",
    "    '6회 이상': 6\n",
    "}\n",
    "\n",
    "# 숫자로 변환\n",
    "train['IVF_임신_횟수'] = train['IVF_임신_횟수'].map(mapping)\n",
    "test['IVF_임신_횟수'] = test['IVF_임신_횟수'].map(mapping)\n",
    "\n",
    "value_counts_ratio(train, 'IVF_임신_횟수')"
   ]
  },
  {
   "cell_type": "markdown",
   "metadata": {},
   "source": [
    "### 35. DI_임신_횟수"
   ]
  },
  {
   "cell_type": "markdown",
   "metadata": {},
   "source": [
    "DI 시술로 인한 임신 횟수"
   ]
  },
  {
   "cell_type": "code",
   "execution_count": 87,
   "metadata": {},
   "outputs": [
    {
     "name": "stdout",
     "output_type": "stream",
     "text": [
      "\n",
      "DI_임신_횟수별 임신_성공_여부 비율 및 갯수\n",
      "\n",
      "                 0         1        0       1  Total\n",
      "variable                                            \n",
      "0회        0.730361  0.269639  26507.0  9786.0  36293\n",
      "1회        0.790230  0.209770    275.0    73.0    348\n",
      "2회        0.696970  0.303030     46.0    20.0     66\n",
      "3회        1.000000  0.000000      6.0     0.0      6\n"
     ]
    }
   ],
   "source": [
    "value_counts_ratio(train, 'DI_임신_횟수')"
   ]
  },
  {
   "cell_type": "code",
   "execution_count": 88,
   "metadata": {},
   "outputs": [
    {
     "name": "stdout",
     "output_type": "stream",
     "text": [
      "\n",
      "DI_임신_횟수별 임신_성공_여부 비율 및 갯수\n",
      "\n",
      "                 0         1        0       1  Total\n",
      "variable                                            \n",
      "0         0.730361  0.269639  26507.0  9786.0  36293\n",
      "1         0.790230  0.209770    275.0    73.0    348\n",
      "2         0.696970  0.303030     46.0    20.0     66\n",
      "3         1.000000  0.000000      6.0     0.0      6\n"
     ]
    }
   ],
   "source": [
    "# 숫자 매핑\n",
    "mapping = {\n",
    "    '0회': 0,\n",
    "    '1회': 1,\n",
    "    '2회': 2,\n",
    "    '3회': 3,\n",
    "    '4회': 4,\n",
    "    '5회': 5\n",
    "}\n",
    "\n",
    "# 숫자로 변환\n",
    "train['DI_임신_횟수'] = train['DI_임신_횟수'].map(mapping)\n",
    "test['DI_임신_횟수'] = test['DI_임신_횟수'].map(mapping)\n",
    "\n",
    "value_counts_ratio(train, 'DI_임신_횟수')"
   ]
  },
  {
   "cell_type": "markdown",
   "metadata": {},
   "source": [
    "### 36. 총_출산_횟수"
   ]
  },
  {
   "cell_type": "markdown",
   "metadata": {},
   "source": [
    "IVF 및 DI 시술로 출산한 횟수"
   ]
  },
  {
   "cell_type": "code",
   "execution_count": 89,
   "metadata": {},
   "outputs": [
    {
     "name": "stdout",
     "output_type": "stream",
     "text": [
      "\n",
      "총_출산_횟수별 임신_성공_여부 비율 및 갯수\n",
      "\n",
      "                 0         1      0     1  Total\n",
      "variable                                        \n",
      "0회        0.733367  0.266633  22939  8340  31279\n",
      "1회        0.715336  0.284664   3601  1433   5034\n",
      "2회        0.734748  0.265252    277   100    377\n",
      "3회        0.739130  0.260870     17     6     23\n"
     ]
    }
   ],
   "source": [
    "value_counts_ratio(train, '총_출산_횟수')"
   ]
  },
  {
   "cell_type": "code",
   "execution_count": 90,
   "metadata": {},
   "outputs": [
    {
     "name": "stdout",
     "output_type": "stream",
     "text": [
      "\n",
      "총_출산_횟수별 임신_성공_여부 비율 및 갯수\n",
      "\n",
      "                 0         1      0     1  Total\n",
      "variable                                        \n",
      "0         0.733367  0.266633  22939  8340  31279\n",
      "1         0.715336  0.284664   3601  1433   5034\n",
      "2         0.734748  0.265252    277   100    377\n",
      "3         0.739130  0.260870     17     6     23\n"
     ]
    }
   ],
   "source": [
    "# 숫자 매핑\n",
    "mapping = {\n",
    "    '0회': 0,\n",
    "    '1회': 1,\n",
    "    '2회': 2,\n",
    "    '3회': 3,\n",
    "    '4회': 4,\n",
    "    '5회': 5,\n",
    "    '6회 이상': 6\n",
    "}\n",
    "\n",
    "# 숫자로 변환\n",
    "train['총_출산_횟수'] = train['총_출산_횟수'].map(mapping)\n",
    "test['총_출산_횟수'] = test['총_출산_횟수'].map(mapping)\n",
    "\n",
    "value_counts_ratio(train, '총_출산_횟수')"
   ]
  },
  {
   "cell_type": "markdown",
   "metadata": {},
   "source": [
    "### 37. IVF_출산_횟수"
   ]
  },
  {
   "cell_type": "markdown",
   "metadata": {},
   "source": [
    "IVF 시술로 출산한 횟수"
   ]
  },
  {
   "cell_type": "code",
   "execution_count": 91,
   "metadata": {},
   "outputs": [
    {
     "name": "stdout",
     "output_type": "stream",
     "text": [
      "\n",
      "IVF_출산_횟수별 임신_성공_여부 비율 및 갯수\n",
      "\n",
      "                 0         1      0     1  Total\n",
      "variable                                        \n",
      "0회        0.733557  0.266443  23165  8414  31579\n",
      "1회        0.712878  0.287122   3399  1369   4768\n",
      "2회        0.740741  0.259259    260    91    351\n",
      "3회        0.666667  0.333333     10     5     15\n"
     ]
    }
   ],
   "source": [
    "value_counts_ratio(train, 'IVF_출산_횟수')"
   ]
  },
  {
   "cell_type": "code",
   "execution_count": 92,
   "metadata": {},
   "outputs": [
    {
     "name": "stdout",
     "output_type": "stream",
     "text": [
      "\n",
      "IVF_출산_횟수별 임신_성공_여부 비율 및 갯수\n",
      "\n",
      "                 0         1      0     1  Total\n",
      "variable                                        \n",
      "0         0.733557  0.266443  23165  8414  31579\n",
      "1         0.712878  0.287122   3399  1369   4768\n",
      "2         0.740741  0.259259    260    91    351\n",
      "3         0.666667  0.333333     10     5     15\n"
     ]
    }
   ],
   "source": [
    "# 숫자 매핑\n",
    "mapping = {\n",
    "    '0회': 0,\n",
    "    '1회': 1,\n",
    "    '2회': 2,\n",
    "    '3회': 3,\n",
    "    '4회': 4,\n",
    "    '5회': 5\n",
    "}\n",
    "\n",
    "# 숫자로 변환\n",
    "train['IVF_출산_횟수'] = train['IVF_출산_횟수'].map(mapping)\n",
    "test['IVF_출산_횟수'] = test['IVF_출산_횟수'].map(mapping)\n",
    "\n",
    "value_counts_ratio(train, 'IVF_출산_횟수')"
   ]
  },
  {
   "cell_type": "code",
   "execution_count": 93,
   "metadata": {},
   "outputs": [
    {
     "data": {
      "text/plain": [
       "0    11135\n",
       "1     1674\n",
       "2      116\n",
       "3        2\n",
       "4        2\n",
       "Name: IVF_출산_횟수, dtype: int64"
      ]
     },
     "execution_count": 93,
     "metadata": {},
     "output_type": "execute_result"
    }
   ],
   "source": [
    "test['IVF_출산_횟수'].value_counts()"
   ]
  },
  {
   "cell_type": "markdown",
   "metadata": {},
   "source": [
    "### 38. DI_출산_횟수"
   ]
  },
  {
   "cell_type": "markdown",
   "metadata": {},
   "source": [
    "DI 시술로 출산한 횟수"
   ]
  },
  {
   "cell_type": "code",
   "execution_count": 94,
   "metadata": {},
   "outputs": [
    {
     "name": "stdout",
     "output_type": "stream",
     "text": [
      "\n",
      "DI_출산_횟수별 임신_성공_여부 비율 및 갯수\n",
      "\n",
      "                 0         1        0       1  Total\n",
      "variable                                            \n",
      "0회        0.730747  0.269253  26597.0  9800.0  36397\n",
      "1회        0.750000  0.250000    219.0    73.0    292\n",
      "2회        0.727273  0.272727     16.0     6.0     22\n",
      "3회        1.000000  0.000000      2.0     0.0      2\n"
     ]
    }
   ],
   "source": [
    "value_counts_ratio(train, 'DI_출산_횟수')"
   ]
  },
  {
   "cell_type": "code",
   "execution_count": 95,
   "metadata": {},
   "outputs": [
    {
     "name": "stdout",
     "output_type": "stream",
     "text": [
      "\n",
      "DI_출산_횟수별 임신_성공_여부 비율 및 갯수\n",
      "\n",
      "                 0         1        0       1  Total\n",
      "variable                                            \n",
      "0         0.730747  0.269253  26597.0  9800.0  36397\n",
      "1         0.750000  0.250000    219.0    73.0    292\n",
      "2         0.727273  0.272727     16.0     6.0     22\n",
      "3         1.000000  0.000000      2.0     0.0      2\n"
     ]
    }
   ],
   "source": [
    "# 숫자 매핑\n",
    "mapping = {\n",
    "    '0회': 0,\n",
    "    '1회': 1,\n",
    "    '2회': 2,\n",
    "    '3회': 3,\n",
    "    '4회': 4,\n",
    "    '5회': 5\n",
    "}\n",
    "\n",
    "# 숫자로 변환\n",
    "train['DI_출산_횟수'] = train['DI_출산_횟수'].map(mapping)\n",
    "test['DI_출산_횟수'] = test['DI_출산_횟수'].map(mapping)\n",
    "\n",
    "value_counts_ratio(train, 'DI_출산_횟수')"
   ]
  },
  {
   "cell_type": "code",
   "execution_count": 96,
   "metadata": {},
   "outputs": [
    {
     "data": {
      "text/plain": [
       "0    12809\n",
       "1      109\n",
       "2        8\n",
       "3        3\n",
       "Name: DI_출산_횟수, dtype: int64"
      ]
     },
     "execution_count": 96,
     "metadata": {},
     "output_type": "execute_result"
    }
   ],
   "source": [
    "test['DI_출산_횟수'].value_counts()"
   ]
  },
  {
   "cell_type": "code",
   "execution_count": 97,
   "metadata": {},
   "outputs": [],
   "source": [
    "# # 모든 행과 열을 다 보이게 설정\n",
    "# pd.set_option('display.max_rows', None)\n",
    "# pd.set_option('display.max_columns', None)"
   ]
  },
  {
   "cell_type": "code",
   "execution_count": 98,
   "metadata": {},
   "outputs": [],
   "source": [
    "# summarize_group(train, ['IVF_시술_횟수', 'IVF_임신_횟수', 'IVF_출산_횟수'])"
   ]
  },
  {
   "cell_type": "code",
   "execution_count": 99,
   "metadata": {},
   "outputs": [],
   "source": [
    "# 주요 비율 계산 (train 데이터프레임)\n",
    "train['IVF_임신_시술_비율'] = np.where(train['IVF_시술_횟수'] > 0, train['IVF_임신_횟수'] / train['IVF_시술_횟수'], 0)\n",
    "train['IVF_출산_임신_비율'] = np.where(train['IVF_임신_횟수'] > 0, train['IVF_출산_횟수'] / train['IVF_임신_횟수'], 0)\n",
    "\n",
    "train['DI_임신_시술_비율'] = np.where(train['DI_시술_횟수'] > 0, train['DI_임신_횟수'] / train['DI_시술_횟수'], 0)\n",
    "train['DI_출산_임신_비율'] = np.where(train['DI_임신_횟수'] > 0, train['DI_출산_횟수'] / train['DI_임신_횟수'], 0)\n",
    "\n",
    "# 성공률 계산\n",
    "train['임신_성공률'] = np.where(train['총_시술_횟수'] > 0, train['총_임신_횟수'] / train['총_시술_횟수'], 0)\n",
    "train['출산_성공률'] = np.where(train['총_임신_횟수'] > 0, train['총_출산_횟수'] / train['총_임신_횟수'], 0)\n",
    "\n",
    "# 주요 비율 계산 (test 데이터프레임)\n",
    "test['IVF_임신_시술_비율'] = np.where(test['IVF_시술_횟수'] > 0, test['IVF_임신_횟수'] / test['IVF_시술_횟수'], 0)\n",
    "test['IVF_출산_임신_비율'] = np.where(test['IVF_임신_횟수'] > 0, test['IVF_출산_횟수'] / test['IVF_임신_횟수'], 0)\n",
    "\n",
    "test['DI_임신_시술_비율'] = np.where(test['DI_시술_횟수'] > 0, test['DI_임신_횟수'] / test['DI_시술_횟수'], 0)\n",
    "test['DI_출산_임신_비율'] = np.where(test['DI_임신_횟수'] > 0, test['DI_출산_횟수'] / test['DI_임신_횟수'], 0)\n",
    "\n",
    "# 성공률 계산\n",
    "test['임신_성공률'] = np.where(test['총_시술_횟수'] > 0, test['총_임신_횟수'] / test['총_시술_횟수'], 0)\n",
    "test['출산_성공률'] = np.where(test['총_임신_횟수'] > 0, test['총_출산_횟수'] / test['총_임신_횟수'], 0)"
   ]
  },
  {
   "cell_type": "markdown",
   "metadata": {},
   "source": [
    "### 39. 총_생성_배아_수"
   ]
  },
  {
   "cell_type": "markdown",
   "metadata": {},
   "source": [
    "해당 시술에서 생성된 배아의 총 개수"
   ]
  },
  {
   "cell_type": "code",
   "execution_count": 100,
   "metadata": {},
   "outputs": [
    {
     "name": "stdout",
     "output_type": "stream",
     "text": [
      "\n",
      "총_생성_배아_수별 임신_성공_여부 비율 및 갯수\n",
      "\n",
      "                 0         1       0       1  Total\n",
      "variable                                           \n",
      "0.0       0.810329  0.189671  6182.0  1447.0   7629\n",
      "1.0       0.899550  0.100450  1997.0   223.0   2220\n",
      "2.0       0.816474  0.183526  2260.0   508.0   2768\n",
      "3.0       0.757586  0.242414  2222.0   711.0   2933\n",
      "4.0       0.715369  0.284631  2169.0   863.0   3032\n",
      "5.0       0.695652  0.304348  2000.0   875.0   2875\n",
      "6.0       0.653788  0.346212  1743.0   923.0   2666\n",
      "7.0       0.644269  0.355731  1467.0   810.0   2277\n",
      "8.0       0.637235  0.362765  1263.0   719.0   1982\n",
      "9.0       0.615101  0.384899  1002.0   627.0   1629\n",
      "10.0      0.635285  0.364715   857.0   492.0   1349\n",
      "11.0      0.645570  0.354430   663.0   364.0   1027\n",
      "12.0      0.622086  0.377914   507.0   308.0    815\n",
      "13.0      0.647709  0.352291   410.0   223.0    633\n",
      "14.0      0.638000  0.362000   319.0   181.0    500\n",
      "15.0      0.626471  0.373529   213.0   127.0    340\n",
      "16.0      0.669967  0.330033   203.0   100.0    303\n",
      "17.0      0.641026  0.358974   150.0    84.0    234\n",
      "18.0      0.725389  0.274611   140.0    53.0    193\n",
      "19.0      0.712963  0.287037    77.0    31.0    108\n",
      "20.0      0.711111  0.288889    64.0    26.0     90\n",
      "21.0      0.711864  0.288136    42.0    17.0     59\n",
      "22.0      0.692308  0.307692    36.0    16.0     52\n",
      "23.0      0.774194  0.225806    24.0     7.0     31\n",
      "24.0      0.787879  0.212121    26.0     7.0     33\n",
      "25.0      0.875000  0.125000    14.0     2.0     16\n",
      "26.0      0.818182  0.181818     9.0     2.0     11\n",
      "27.0      0.700000  0.300000     7.0     3.0     10\n",
      "28.0      0.625000  0.375000     5.0     3.0      8\n",
      "29.0      0.727273  0.272727     8.0     3.0     11\n",
      "30.0      0.800000  0.200000     4.0     1.0      5\n",
      "31.0      0.600000  0.400000     3.0     2.0      5\n",
      "32.0      0.333333  0.666667     1.0     2.0      3\n",
      "33.0      0.500000  0.500000     1.0     1.0      2\n",
      "34.0      0.500000  0.500000     2.0     2.0      4\n",
      "36.0      0.500000  0.500000     1.0     1.0      2\n",
      "40.0      1.000000  0.000000     1.0     0.0      1\n"
     ]
    }
   ],
   "source": [
    "value_counts_ratio(train, '총_생성_배아_수')"
   ]
  },
  {
   "cell_type": "markdown",
   "metadata": {},
   "source": [
    "### 40. 미세주입된_난자_수"
   ]
  },
  {
   "cell_type": "markdown",
   "metadata": {},
   "source": [
    "정자 미세주입(ICSI)으로 처리된 난자의 수"
   ]
  },
  {
   "cell_type": "code",
   "execution_count": 101,
   "metadata": {},
   "outputs": [
    {
     "name": "stdout",
     "output_type": "stream",
     "text": [
      "\n",
      "미세주입된_난자_수별 임신_성공_여부 비율 및 갯수\n",
      "\n",
      "                 0         1        0       1  Total\n",
      "variable                                            \n",
      "0.0       0.738588  0.261412  13429.0  4753.0  18182\n",
      "1.0       0.930986  0.069014    661.0    49.0    710\n",
      "2.0       0.867368  0.132632    824.0   126.0    950\n",
      "3.0       0.848616  0.151384    981.0   175.0   1156\n",
      "4.0       0.793814  0.206186   1078.0   280.0   1358\n",
      "5.0       0.739075  0.260925   1150.0   406.0   1556\n",
      "6.0       0.696527  0.303473   1143.0   498.0   1641\n",
      "7.0       0.684426  0.315574   1002.0   462.0   1464\n",
      "8.0       0.663098  0.336902    929.0   472.0   1401\n",
      "9.0       0.672890  0.327110    829.0   403.0   1232\n",
      "10.0      0.626331  0.373669    647.0   386.0   1033\n",
      "11.0      0.634069  0.365931    603.0   348.0    951\n",
      "12.0      0.652447  0.347553    520.0   277.0    797\n",
      "13.0      0.662261  0.337739    451.0   230.0    681\n",
      "14.0      0.653169  0.346831    371.0   197.0    568\n",
      "15.0      0.620985  0.379015    290.0   177.0    467\n",
      "16.0      0.677249  0.322751    256.0   122.0    378\n",
      "17.0      0.669091  0.330909    184.0    91.0    275\n",
      "18.0      0.699074  0.300926    151.0    65.0    216\n",
      "19.0      0.617486  0.382514    113.0    70.0    183\n",
      "20.0      0.596026  0.403974     90.0    61.0    151\n",
      "21.0      0.743363  0.256637     84.0    29.0    113\n",
      "22.0      0.793103  0.206897     69.0    18.0     87\n",
      "23.0      0.772727  0.227273     51.0    15.0     66\n",
      "24.0      0.708333  0.291667     34.0    14.0     48\n",
      "25.0      0.800000  0.200000     36.0     9.0     45\n",
      "26.0      0.766667  0.233333     23.0     7.0     30\n",
      "27.0      0.909091  0.090909     20.0     2.0     22\n",
      "28.0      0.807692  0.192308     21.0     5.0     26\n",
      "29.0      0.642857  0.357143      9.0     5.0     14\n",
      "30.0      0.833333  0.166667     10.0     2.0     12\n",
      "31.0      0.900000  0.100000      9.0     1.0     10\n",
      "32.0      0.800000  0.200000      8.0     2.0     10\n",
      "33.0      1.000000  0.000000      4.0     0.0      4\n",
      "34.0      1.000000  0.000000      2.0     0.0      2\n",
      "35.0      0.714286  0.285714      5.0     2.0      7\n",
      "36.0      0.666667  0.333333      2.0     1.0      3\n",
      "37.0      0.000000  1.000000      0.0     2.0      2\n",
      "38.0      0.500000  0.500000      1.0     1.0      2\n",
      "40.0      0.500000  0.500000      1.0     1.0      2\n",
      "50.0      1.000000  0.000000      1.0     0.0      1\n"
     ]
    }
   ],
   "source": [
    "value_counts_ratio(train, '미세주입된_난자_수')"
   ]
  },
  {
   "cell_type": "markdown",
   "metadata": {},
   "source": [
    "### 41. 미세주입에서_생성된_배아_수"
   ]
  },
  {
   "cell_type": "markdown",
   "metadata": {},
   "source": [
    "ICSI를 통해 생성된 배아의 수"
   ]
  },
  {
   "cell_type": "code",
   "execution_count": 102,
   "metadata": {},
   "outputs": [
    {
     "name": "stdout",
     "output_type": "stream",
     "text": [
      "\n",
      "미세주입에서_생성된_배아_수별 임신_성공_여부 비율 및 갯수\n",
      "\n",
      "                 0         1        0       1  Total\n",
      "variable                                            \n",
      "0.0       0.746496  0.253504  14008.0  4757.0  18765\n",
      "1.0       0.903598  0.096402   1331.0   142.0   1473\n",
      "2.0       0.817883  0.182117   1491.0   332.0   1823\n",
      "3.0       0.760181  0.239819   1512.0   477.0   1989\n",
      "4.0       0.698258  0.301742   1363.0   589.0   1952\n",
      "5.0       0.688083  0.311917   1253.0   568.0   1821\n",
      "6.0       0.649015  0.350985   1054.0   570.0   1624\n",
      "7.0       0.627581  0.372419    851.0   505.0   1356\n",
      "8.0       0.632050  0.367950    706.0   411.0   1117\n",
      "9.0       0.618997  0.381003    580.0   357.0    937\n",
      "10.0      0.618852  0.381148    453.0   279.0    732\n",
      "11.0      0.656250  0.343750    357.0   187.0    544\n",
      "12.0      0.629797  0.370203    279.0   164.0    443\n",
      "13.0      0.662651  0.337349    220.0   112.0    332\n",
      "14.0      0.635338  0.364662    169.0    97.0    266\n",
      "15.0      0.606061  0.393939    100.0    65.0    165\n",
      "16.0      0.738806  0.261194     99.0    35.0    134\n",
      "17.0      0.603448  0.396552     70.0    46.0    116\n",
      "18.0      0.729412  0.270588     62.0    23.0     85\n",
      "19.0      0.682927  0.317073     28.0    13.0     41\n",
      "20.0      0.789474  0.210526     30.0     8.0     38\n",
      "21.0      0.703704  0.296296     19.0     8.0     27\n",
      "22.0      0.789474  0.210526     15.0     4.0     19\n",
      "23.0      0.750000  0.250000      9.0     3.0     12\n",
      "24.0      0.857143  0.142857     12.0     2.0     14\n",
      "25.0      0.875000  0.125000      7.0     1.0      8\n",
      "26.0      1.000000  0.000000      4.0     0.0      4\n",
      "27.0      0.500000  0.500000      1.0     1.0      2\n",
      "28.0      0.500000  0.500000      2.0     2.0      4\n",
      "29.0      0.750000  0.250000      3.0     1.0      4\n",
      "30.0      0.500000  0.500000      1.0     1.0      2\n",
      "31.0      0.666667  0.333333      2.0     1.0      3\n",
      "32.0      0.000000  1.000000      0.0     2.0      2\n",
      "34.0      0.500000  0.500000      1.0     1.0      2\n"
     ]
    }
   ],
   "source": [
    "value_counts_ratio(train, '미세주입에서_생성된_배아_수')"
   ]
  },
  {
   "cell_type": "markdown",
   "metadata": {},
   "source": [
    "### 42. 이식된_배아_수"
   ]
  },
  {
   "cell_type": "markdown",
   "metadata": {},
   "source": [
    "이식된 배아의 총 수"
   ]
  },
  {
   "cell_type": "code",
   "execution_count": 103,
   "metadata": {},
   "outputs": [
    {
     "name": "stdout",
     "output_type": "stream",
     "text": [
      "\n",
      "이식된_배아_수별 임신_성공_여부 비율 및 갯수\n",
      "\n",
      "                 0         1      0     1  Total\n",
      "variable                                        \n",
      "0.0       0.999628  0.000372   5368     2   5370\n",
      "1.0       0.670641  0.329359   9731  4779  14510\n",
      "2.0       0.676661  0.323339  10043  4799  14842\n",
      "3.0       0.837743  0.162257    950   184   1134\n"
     ]
    }
   ],
   "source": [
    "value_counts_ratio(train, '이식된_배아_수')"
   ]
  },
  {
   "cell_type": "markdown",
   "metadata": {},
   "source": [
    "### 43. 미세주입_배아_이식_수"
   ]
  },
  {
   "cell_type": "markdown",
   "metadata": {},
   "source": [
    "ICSI 배아 중 이식된 배아의 수"
   ]
  },
  {
   "cell_type": "code",
   "execution_count": 104,
   "metadata": {},
   "outputs": [
    {
     "name": "stdout",
     "output_type": "stream",
     "text": [
      "\n",
      "미세주입_배아_이식_수별 임신_성공_여부 비율 및 갯수\n",
      "\n",
      "                 0         1      0     1  Total\n",
      "variable                                        \n",
      "0.0       0.768299  0.231701  15356  4631  19987\n",
      "1.0       0.664138  0.335862   4728  2391   7119\n",
      "2.0       0.674318  0.325682   5435  2625   8060\n",
      "3.0       0.830435  0.169565    573   117    690\n"
     ]
    }
   ],
   "source": [
    "value_counts_ratio(train, '미세주입_배아_이식_수')"
   ]
  },
  {
   "cell_type": "markdown",
   "metadata": {},
   "source": [
    "### 44. 저장된_배아_수"
   ]
  },
  {
   "cell_type": "markdown",
   "metadata": {},
   "source": [
    "환자를 위해 저장된 배아의 수"
   ]
  },
  {
   "cell_type": "code",
   "execution_count": 105,
   "metadata": {},
   "outputs": [
    {
     "name": "stdout",
     "output_type": "stream",
     "text": [
      "\n",
      "저장된_배아_수별 임신_성공_여부 비율 및 갯수\n",
      "\n",
      "                 0         1        0       1  Total\n",
      "variable                                            \n",
      "0.0       0.769071  0.230929  18177.0  5458.0  23635\n",
      "1.0       0.642038  0.357962   2016.0  1124.0   3140\n",
      "2.0       0.616027  0.383973   1845.0  1150.0   2995\n",
      "3.0       0.611570  0.388430   1184.0   752.0   1936\n",
      "4.0       0.646796  0.353204    868.0   474.0   1342\n",
      "5.0       0.632787  0.367213    579.0   336.0    915\n",
      "6.0       0.665480  0.334520    374.0   188.0    562\n",
      "7.0       0.742782  0.257218    283.0    98.0    381\n",
      "8.0       0.747082  0.252918    192.0    65.0    257\n",
      "9.0       0.720000  0.280000    126.0    49.0    175\n",
      "10.0      0.751825  0.248175    103.0    34.0    137\n",
      "11.0      0.862500  0.137500     69.0    11.0     80\n",
      "12.0      0.846154  0.153846     55.0    10.0     65\n",
      "13.0      0.893617  0.106383     42.0     5.0     47\n",
      "14.0      0.978261  0.021739     45.0     1.0     46\n",
      "15.0      0.913043  0.086957     21.0     2.0     23\n",
      "16.0      0.884615  0.115385     23.0     3.0     26\n",
      "17.0      1.000000  0.000000     17.0     0.0     17\n",
      "18.0      0.956522  0.043478     22.0     1.0     23\n",
      "19.0      1.000000  0.000000     14.0     0.0     14\n",
      "20.0      1.000000  0.000000      5.0     0.0      5\n",
      "21.0      0.875000  0.125000      7.0     1.0      8\n",
      "22.0      1.000000  0.000000      5.0     0.0      5\n",
      "23.0      0.833333  0.166667      5.0     1.0      6\n",
      "24.0      0.750000  0.250000      3.0     1.0      4\n",
      "25.0      1.000000  0.000000      4.0     0.0      4\n",
      "26.0      1.000000  0.000000      3.0     0.0      3\n",
      "29.0      1.000000  0.000000      2.0     0.0      2\n",
      "34.0      1.000000  0.000000      1.0     0.0      1\n",
      "36.0      1.000000  0.000000      1.0     0.0      1\n",
      "51.0      1.000000  0.000000      1.0     0.0      1\n"
     ]
    }
   ],
   "source": [
    "value_counts_ratio(train, '저장된_배아_수')"
   ]
  },
  {
   "cell_type": "markdown",
   "metadata": {},
   "source": [
    "### 45. 미세주입_후_저장된_배아_수"
   ]
  },
  {
   "cell_type": "markdown",
   "metadata": {},
   "source": [
    "ICSI 처리된 배아 중 저장된 배아의 수"
   ]
  },
  {
   "cell_type": "code",
   "execution_count": 106,
   "metadata": {},
   "outputs": [
    {
     "name": "stdout",
     "output_type": "stream",
     "text": [
      "\n",
      "미세주입_후_저장된_배아_수별 임신_성공_여부 비율 및 갯수\n",
      "\n",
      "                 0         1        0       1  Total\n",
      "variable                                            \n",
      "0.0       0.746524  0.253476  21800.0  7402.0  29202\n",
      "1.0       0.624800  0.375200   1169.0   702.0   1871\n",
      "2.0       0.611672  0.388328   1090.0   692.0   1782\n",
      "3.0       0.625621  0.374379    630.0   377.0   1007\n",
      "4.0       0.672857  0.327143    471.0   229.0    700\n",
      "5.0       0.621429  0.378571    261.0   159.0    420\n",
      "6.0       0.678295  0.321705    175.0    83.0    258\n",
      "7.0       0.774011  0.225989    137.0    40.0    177\n",
      "8.0       0.767857  0.232143     86.0    26.0    112\n",
      "9.0       0.729167  0.270833     70.0    26.0     96\n",
      "10.0      0.800000  0.200000     48.0    12.0     60\n",
      "11.0      0.914286  0.085714     32.0     3.0     35\n",
      "12.0      0.781250  0.218750     25.0     7.0     32\n",
      "13.0      0.863636  0.136364     19.0     3.0     22\n",
      "14.0      1.000000  0.000000     20.0     0.0     20\n",
      "15.0      0.857143  0.142857      6.0     1.0      7\n",
      "16.0      0.916667  0.083333     11.0     1.0     12\n",
      "17.0      1.000000  0.000000      9.0     0.0      9\n",
      "18.0      0.900000  0.100000      9.0     1.0     10\n",
      "19.0      1.000000  0.000000      7.0     0.0      7\n",
      "20.0      1.000000  0.000000      3.0     0.0      3\n",
      "21.0      1.000000  0.000000      4.0     0.0      4\n",
      "22.0      1.000000  0.000000      1.0     0.0      1\n",
      "23.0      1.000000  0.000000      3.0     0.0      3\n",
      "24.0      1.000000  0.000000      2.0     0.0      2\n",
      "25.0      1.000000  0.000000      2.0     0.0      2\n",
      "29.0      1.000000  0.000000      1.0     0.0      1\n",
      "51.0      1.000000  0.000000      1.0     0.0      1\n"
     ]
    }
   ],
   "source": [
    "value_counts_ratio(train, '미세주입_후_저장된_배아_수')"
   ]
  },
  {
   "cell_type": "markdown",
   "metadata": {},
   "source": [
    "### 46. 해동된_배아_수"
   ]
  },
  {
   "cell_type": "markdown",
   "metadata": {},
   "source": [
    "동결 해동된 배아의 수"
   ]
  },
  {
   "cell_type": "code",
   "execution_count": 107,
   "metadata": {},
   "outputs": [
    {
     "name": "stdout",
     "output_type": "stream",
     "text": [
      "\n",
      "해동된_배아_수별 임신_성공_여부 비율 및 갯수\n",
      "\n",
      "                 0         1        0       1  Total\n",
      "variable                                            \n",
      "0.0       0.724134  0.275866  21795.0  8303.0  30098\n",
      "1.0       0.773531  0.226469   1619.0   474.0   2093\n",
      "2.0       0.731078  0.268922   1275.0   469.0   1744\n",
      "3.0       0.757353  0.242647    515.0   165.0    680\n",
      "4.0       0.737745  0.262255    301.0   107.0    408\n",
      "5.0       0.691304  0.308696    159.0    71.0    230\n",
      "6.0       0.728205  0.271795    142.0    53.0    195\n",
      "7.0       0.742857  0.257143     78.0    27.0    105\n",
      "8.0       0.730769  0.269231     76.0    28.0    104\n",
      "9.0       0.627119  0.372881     37.0    22.0     59\n",
      "10.0      0.750000  0.250000     30.0    10.0     40\n",
      "11.0      0.800000  0.200000     16.0     4.0     20\n",
      "12.0      0.444444  0.555556      8.0    10.0     18\n",
      "13.0      0.578947  0.421053     11.0     8.0     19\n",
      "14.0      0.750000  0.250000      9.0     3.0     12\n",
      "15.0      1.000000  0.000000      2.0     0.0      2\n",
      "16.0      0.500000  0.500000      5.0     5.0     10\n",
      "17.0      1.000000  0.000000      5.0     0.0      5\n",
      "18.0      0.500000  0.500000      2.0     2.0      4\n",
      "19.0      0.750000  0.250000      3.0     1.0      4\n",
      "21.0      1.000000  0.000000      1.0     0.0      1\n",
      "23.0      0.500000  0.500000      1.0     1.0      2\n",
      "24.0      0.666667  0.333333      2.0     1.0      3\n"
     ]
    }
   ],
   "source": [
    "value_counts_ratio(train, '해동된_배아_수')"
   ]
  },
  {
   "cell_type": "markdown",
   "metadata": {},
   "source": [
    "### 47. 해동_난자_수"
   ]
  },
  {
   "cell_type": "markdown",
   "metadata": {},
   "source": [
    "동결 해동된 난자의 수"
   ]
  },
  {
   "cell_type": "code",
   "execution_count": 108,
   "metadata": {},
   "outputs": [
    {
     "name": "stdout",
     "output_type": "stream",
     "text": [
      "\n",
      "해동_난자_수별 임신_성공_여부 비율 및 갯수\n",
      "\n",
      "                 0         1        0       1  Total\n",
      "variable                                            \n",
      "0.0       0.727161  0.272839  25924.0  9727.0  35651\n",
      "1.0       1.000000  0.000000      6.0     0.0      6\n",
      "2.0       0.923077  0.076923     12.0     1.0     13\n",
      "3.0       0.923077  0.076923     12.0     1.0     13\n",
      "4.0       0.833333  0.166667     15.0     3.0     18\n",
      "5.0       0.933333  0.066667     14.0     1.0     15\n",
      "6.0       0.710526  0.289474     27.0    11.0     38\n",
      "7.0       0.739130  0.260870     17.0     6.0     23\n",
      "8.0       0.750000  0.250000     12.0     4.0     16\n",
      "9.0       0.727273  0.272727      8.0     3.0     11\n",
      "10.0      0.866667  0.133333     13.0     2.0     15\n",
      "11.0      1.000000  0.000000      8.0     0.0      8\n",
      "12.0      0.875000  0.125000      7.0     1.0      8\n",
      "13.0      0.750000  0.250000      3.0     1.0      4\n",
      "14.0      0.600000  0.400000      3.0     2.0      5\n",
      "15.0      1.000000  0.000000      6.0     0.0      6\n",
      "16.0      1.000000  0.000000      1.0     0.0      1\n",
      "17.0      1.000000  0.000000      2.0     0.0      2\n",
      "18.0      1.000000  0.000000      1.0     0.0      1\n",
      "19.0      0.000000  1.000000      0.0     1.0      1\n",
      "20.0      1.000000  0.000000      1.0     0.0      1\n"
     ]
    }
   ],
   "source": [
    "value_counts_ratio(train, '해동_난자_수')"
   ]
  },
  {
   "cell_type": "markdown",
   "metadata": {},
   "source": [
    "### 48. 수집된_신선_난자_수"
   ]
  },
  {
   "cell_type": "markdown",
   "metadata": {},
   "source": [
    "신선 난자가 수집된 수"
   ]
  },
  {
   "cell_type": "code",
   "execution_count": 109,
   "metadata": {},
   "outputs": [
    {
     "name": "stdout",
     "output_type": "stream",
     "text": [
      "\n",
      "수집된_신선_난자_수별 임신_성공_여부 비율 및 갯수\n",
      "\n",
      "                 0         1       0       1  Total\n",
      "variable                                           \n",
      "0.0       0.736896  0.263104  5736.0  2048.0   7784\n",
      "1.0       0.937018  0.062982   729.0    49.0    778\n",
      "2.0       0.889362  0.110638   836.0   104.0    940\n",
      "3.0       0.879167  0.120833  1055.0   145.0   1200\n",
      "4.0       0.833677  0.166323  1213.0   242.0   1455\n",
      "5.0       0.790607  0.209393  1212.0   321.0   1533\n",
      "6.0       0.771751  0.228249  1366.0   404.0   1770\n",
      "7.0       0.719849  0.280151  1331.0   518.0   1849\n",
      "8.0       0.712136  0.287864  1420.0   574.0   1994\n",
      "9.0       0.725386  0.274614  1363.0   516.0   1879\n",
      "10.0      0.680863  0.319137  1231.0   577.0   1808\n",
      "11.0      0.660161  0.339839  1150.0   592.0   1742\n",
      "12.0      0.659503  0.340497   982.0   507.0   1489\n",
      "13.0      0.658156  0.341844   928.0   482.0   1410\n",
      "14.0      0.653755  0.346245   827.0   438.0   1265\n",
      "15.0      0.649228  0.350772   757.0   409.0   1166\n",
      "16.0      0.671627  0.328373   677.0   331.0   1008\n",
      "17.0      0.662307  0.337693   557.0   284.0    841\n",
      "18.0      0.662182  0.337818   443.0   226.0    669\n",
      "19.0      0.627383  0.372617   362.0   215.0    577\n",
      "20.0      0.610887  0.389113   303.0   193.0    496\n",
      "21.0      0.666667  0.333333   280.0   140.0    420\n",
      "22.0      0.708075  0.291925   228.0    94.0    322\n",
      "23.0      0.687500  0.312500   176.0    80.0    256\n",
      "24.0      0.724138  0.275862   168.0    64.0    232\n",
      "25.0      0.687179  0.312821   134.0    61.0    195\n",
      "26.0      0.708955  0.291045    95.0    39.0    134\n",
      "27.0      0.741071  0.258929    83.0    29.0    112\n",
      "28.0      0.800000  0.200000    80.0    20.0    100\n",
      "29.0      0.822785  0.177215    65.0    14.0     79\n",
      "30.0      0.859375  0.140625    55.0     9.0     64\n",
      "31.0      0.847826  0.152174    39.0     7.0     46\n",
      "32.0      0.911111  0.088889    41.0     4.0     45\n",
      "33.0      0.800000  0.200000    28.0     7.0     35\n",
      "34.0      0.892857  0.107143    25.0     3.0     28\n",
      "35.0      0.935484  0.064516    29.0     2.0     31\n",
      "36.0      0.916667  0.083333    11.0     1.0     12\n",
      "37.0      0.750000  0.250000    15.0     5.0     20\n",
      "38.0      0.882353  0.117647    15.0     2.0     17\n",
      "39.0      0.833333  0.166667     5.0     1.0      6\n",
      "40.0      0.666667  0.333333     6.0     3.0      9\n",
      "41.0      0.833333  0.166667     5.0     1.0      6\n",
      "42.0      1.000000  0.000000     4.0     0.0      4\n",
      "43.0      1.000000  0.000000     4.0     0.0      4\n",
      "44.0      0.500000  0.500000     1.0     1.0      2\n",
      "45.0      1.000000  0.000000     5.0     0.0      5\n",
      "46.0      1.000000  0.000000     5.0     0.0      5\n",
      "47.0      0.666667  0.333333     2.0     1.0      3\n",
      "49.0      0.666667  0.333333     2.0     1.0      3\n",
      "50.0      1.000000  0.000000     3.0     0.0      3\n",
      "51.0      1.000000  0.000000     5.0     0.0      5\n"
     ]
    }
   ],
   "source": [
    "value_counts_ratio(train, '수집된_신선_난자_수')"
   ]
  },
  {
   "cell_type": "markdown",
   "metadata": {},
   "source": [
    "### 49. 저장된_신선_난자_수"
   ]
  },
  {
   "cell_type": "markdown",
   "metadata": {},
   "source": [
    "저장된 신선 난자의 수"
   ]
  },
  {
   "cell_type": "code",
   "execution_count": 110,
   "metadata": {},
   "outputs": [
    {
     "name": "stdout",
     "output_type": "stream",
     "text": [
      "\n",
      "저장된_신선_난자_수별 임신_성공_여부 비율 및 갯수\n",
      "\n",
      "                 0         1        0       1  Total\n",
      "variable                                            \n",
      "0.0       0.724971  0.275029  25714.0  9755.0  35469\n",
      "1.0       0.937500  0.062500     15.0     1.0     16\n",
      "2.0       0.964286  0.035714     27.0     1.0     28\n",
      "3.0       1.000000  0.000000     36.0     0.0     36\n",
      "4.0       1.000000  0.000000     26.0     0.0     26\n",
      "5.0       0.931034  0.068966     27.0     2.0     29\n",
      "6.0       0.969697  0.030303     32.0     1.0     33\n",
      "7.0       0.972222  0.027778     35.0     1.0     36\n",
      "8.0       1.000000  0.000000     21.0     0.0     21\n",
      "9.0       1.000000  0.000000     24.0     0.0     24\n",
      "10.0      1.000000  0.000000     17.0     0.0     17\n",
      "11.0      1.000000  0.000000     21.0     0.0     21\n",
      "12.0      1.000000  0.000000     13.0     0.0     13\n",
      "13.0      1.000000  0.000000     14.0     0.0     14\n",
      "14.0      0.888889  0.111111      8.0     1.0      9\n",
      "15.0      1.000000  0.000000      9.0     0.0      9\n",
      "16.0      0.833333  0.166667      5.0     1.0      6\n",
      "17.0      1.000000  0.000000      7.0     0.0      7\n",
      "18.0      1.000000  0.000000     12.0     0.0     12\n",
      "19.0      0.875000  0.125000      7.0     1.0      8\n",
      "20.0      1.000000  0.000000      1.0     0.0      1\n",
      "21.0      1.000000  0.000000      3.0     0.0      3\n",
      "22.0      1.000000  0.000000      4.0     0.0      4\n",
      "23.0      1.000000  0.000000      2.0     0.0      2\n",
      "24.0      1.000000  0.000000      4.0     0.0      4\n",
      "25.0      1.000000  0.000000      4.0     0.0      4\n",
      "26.0      1.000000  0.000000      1.0     0.0      1\n",
      "27.0      1.000000  0.000000      2.0     0.0      2\n",
      "33.0      1.000000  0.000000      1.0     0.0      1\n"
     ]
    }
   ],
   "source": [
    "value_counts_ratio(train, '저장된_신선_난자_수')"
   ]
  },
  {
   "cell_type": "markdown",
   "metadata": {},
   "source": [
    "### 50. 혼합된_난자_수"
   ]
  },
  {
   "cell_type": "markdown",
   "metadata": {},
   "source": [
    "정자와 혼합된 총 난자 수"
   ]
  },
  {
   "cell_type": "code",
   "execution_count": 111,
   "metadata": {},
   "outputs": [
    {
     "name": "stdout",
     "output_type": "stream",
     "text": [
      "\n",
      "혼합된_난자_수별 임신_성공_여부 비율 및 갯수\n",
      "\n",
      "                 0         1       0       1  Total\n",
      "variable                                           \n",
      "0.0       0.783994  0.216006  5241.0  1444.0   6685\n",
      "1.0       0.933134  0.066866   935.0    67.0   1002\n",
      "2.0       0.872197  0.127803  1167.0   171.0   1338\n",
      "3.0       0.850095  0.149905  1344.0   237.0   1581\n",
      "4.0       0.803253  0.196747  1531.0   375.0   1906\n",
      "5.0       0.750460  0.249540  1630.0   542.0   2172\n",
      "6.0       0.711685  0.288315  1681.0   681.0   2362\n",
      "7.0       0.696721  0.303279  1530.0   666.0   2196\n",
      "8.0       0.677019  0.322981  1526.0   728.0   2254\n",
      "9.0       0.689150  0.310850  1410.0   636.0   2046\n",
      "10.0      0.646863  0.353137  1165.0   636.0   1801\n",
      "11.0      0.649491  0.350509  1084.0   585.0   1669\n",
      "12.0      0.653873  0.346127   937.0   496.0   1433\n",
      "13.0      0.657502  0.342498   837.0   436.0   1273\n",
      "14.0      0.646110  0.353890   681.0   373.0   1054\n",
      "15.0      0.637475  0.362525   626.0   356.0    982\n",
      "16.0      0.664541  0.335459   521.0   263.0    784\n",
      "17.0      0.643192  0.356808   411.0   228.0    639\n",
      "18.0      0.651639  0.348361   318.0   170.0    488\n",
      "19.0      0.603865  0.396135   250.0   164.0    414\n",
      "20.0      0.628099  0.371901   228.0   135.0    363\n",
      "21.0      0.695341  0.304659   194.0    85.0    279\n",
      "22.0      0.710526  0.289474   162.0    66.0    228\n",
      "23.0      0.688889  0.311111   124.0    56.0    180\n",
      "24.0      0.704698  0.295302   105.0    44.0    149\n",
      "25.0      0.779661  0.220339    92.0    26.0    118\n",
      "26.0      0.725000  0.275000    58.0    22.0     80\n",
      "27.0      0.797101  0.202899    55.0    14.0     69\n",
      "28.0      0.814815  0.185185    44.0    10.0     54\n",
      "29.0      0.702128  0.297872    33.0    14.0     47\n",
      "30.0      0.891892  0.108108    33.0     4.0     37\n",
      "31.0      0.758621  0.241379    22.0     7.0     29\n",
      "32.0      0.888889  0.111111    24.0     3.0     27\n",
      "33.0      0.818182  0.181818    18.0     4.0     22\n",
      "34.0      0.812500  0.187500    13.0     3.0     16\n",
      "35.0      0.823529  0.176471    14.0     3.0     17\n",
      "36.0      0.833333  0.166667    10.0     2.0     12\n",
      "37.0      0.416667  0.583333     5.0     7.0     12\n",
      "38.0      0.750000  0.250000     6.0     2.0      8\n",
      "39.0      0.800000  0.200000     4.0     1.0      5\n",
      "40.0      0.800000  0.200000     4.0     1.0      5\n",
      "41.0      1.000000  0.000000     2.0     0.0      2\n",
      "42.0      1.000000  0.000000     3.0     0.0      3\n",
      "43.0      0.500000  0.500000     1.0     1.0      2\n",
      "44.0      1.000000  0.000000     1.0     0.0      1\n",
      "45.0      1.000000  0.000000     2.0     0.0      2\n",
      "46.0      1.000000  0.000000     3.0     0.0      3\n",
      "47.0      1.000000  0.000000     1.0     0.0      1\n",
      "49.0      1.000000  0.000000     1.0     0.0      1\n",
      "50.0      1.000000  0.000000     3.0     0.0      3\n",
      "51.0      1.000000  0.000000     2.0     0.0      2\n"
     ]
    }
   ],
   "source": [
    "value_counts_ratio(train, '혼합된_난자_수')"
   ]
  },
  {
   "cell_type": "markdown",
   "metadata": {},
   "source": [
    "### 51. 파트너_정자와_혼합된_난자_수"
   ]
  },
  {
   "cell_type": "markdown",
   "metadata": {},
   "source": [
    "파트너 정자와 혼합된 난자의 수"
   ]
  },
  {
   "cell_type": "code",
   "execution_count": 112,
   "metadata": {},
   "outputs": [
    {
     "name": "stdout",
     "output_type": "stream",
     "text": [
      "\n",
      "파트너_정자와_혼합된_난자_수별 임신_성공_여부 비율 및 갯수\n",
      "\n",
      "                 0         1       0       1  Total\n",
      "variable                                           \n",
      "0.0       0.764910  0.235090  7054.0  2168.0   9222\n",
      "1.0       0.932432  0.067568   828.0    60.0    888\n",
      "2.0       0.871345  0.128655  1043.0   154.0   1197\n",
      "3.0       0.851304  0.148696  1208.0   211.0   1419\n",
      "4.0       0.807759  0.192241  1395.0   332.0   1727\n",
      "5.0       0.756012  0.243988  1509.0   487.0   1996\n",
      "6.0       0.711378  0.288622  1538.0   624.0   2162\n",
      "7.0       0.696490  0.303510  1409.0   614.0   2023\n",
      "8.0       0.672179  0.327821  1382.0   674.0   2056\n",
      "9.0       0.687864  0.312136  1298.0   589.0   1887\n",
      "10.0      0.646809  0.353191  1064.0   581.0   1645\n",
      "11.0      0.648244  0.351756   997.0   541.0   1538\n",
      "12.0      0.657895  0.342105   875.0   455.0   1330\n",
      "13.0      0.660637  0.339363   767.0   394.0   1161\n",
      "14.0      0.648676  0.351324   637.0   345.0    982\n",
      "15.0      0.635546  0.364454   565.0   324.0    889\n",
      "16.0      0.666667  0.333333   476.0   238.0    714\n",
      "17.0      0.646048  0.353952   376.0   206.0    582\n",
      "18.0      0.657596  0.342404   290.0   151.0    441\n",
      "19.0      0.602067  0.397933   233.0   154.0    387\n",
      "20.0      0.620896  0.379104   208.0   127.0    335\n",
      "21.0      0.691406  0.308594   177.0    79.0    256\n",
      "22.0      0.713592  0.286408   147.0    59.0    206\n",
      "23.0      0.682353  0.317647   116.0    54.0    170\n",
      "24.0      0.707692  0.292308    92.0    38.0    130\n",
      "25.0      0.794118  0.205882    81.0    21.0    102\n",
      "26.0      0.718310  0.281690    51.0    20.0     71\n",
      "27.0      0.796875  0.203125    51.0    13.0     64\n",
      "28.0      0.829787  0.170213    39.0     8.0     47\n",
      "29.0      0.756098  0.243902    31.0    10.0     41\n",
      "30.0      0.882353  0.117647    30.0     4.0     34\n",
      "31.0      0.785714  0.214286    22.0     6.0     28\n",
      "32.0      0.875000  0.125000    21.0     3.0     24\n",
      "33.0      0.842105  0.157895    16.0     3.0     19\n",
      "34.0      0.750000  0.250000     9.0     3.0     12\n",
      "35.0      0.812500  0.187500    13.0     3.0     16\n",
      "36.0      0.900000  0.100000     9.0     1.0     10\n",
      "37.0      0.416667  0.583333     5.0     7.0     12\n",
      "38.0      1.000000  0.000000     5.0     0.0      5\n",
      "39.0      0.800000  0.200000     4.0     1.0      5\n",
      "40.0      0.800000  0.200000     4.0     1.0      5\n",
      "41.0      1.000000  0.000000     1.0     0.0      1\n",
      "42.0      1.000000  0.000000     3.0     0.0      3\n",
      "43.0      0.500000  0.500000     1.0     1.0      2\n",
      "44.0      1.000000  0.000000     1.0     0.0      1\n",
      "45.0      1.000000  0.000000     1.0     0.0      1\n",
      "46.0      1.000000  0.000000     3.0     0.0      3\n",
      "47.0      1.000000  0.000000     1.0     0.0      1\n",
      "49.0      1.000000  0.000000     1.0     0.0      1\n",
      "50.0      1.000000  0.000000     3.0     0.0      3\n",
      "51.0      1.000000  0.000000     2.0     0.0      2\n"
     ]
    }
   ],
   "source": [
    "value_counts_ratio(train, '파트너_정자와_혼합된_난자_수')"
   ]
  },
  {
   "cell_type": "markdown",
   "metadata": {},
   "source": [
    "### 52. 기증자_정자와_혼합된_난자_수"
   ]
  },
  {
   "cell_type": "markdown",
   "metadata": {},
   "source": [
    "기증자 정자와 혼합된 난자의 수"
   ]
  },
  {
   "cell_type": "code",
   "execution_count": 113,
   "metadata": {},
   "outputs": [
    {
     "name": "stdout",
     "output_type": "stream",
     "text": [
      "\n",
      "기증자_정자와_혼합된_난자_수별 임신_성공_여부 비율 및 갯수\n",
      "\n",
      "                 0         1        0       1  Total\n",
      "variable                                            \n",
      "0.0       0.728731  0.271269  24352.0  9065.0  33417\n",
      "1.0       0.940171  0.059829    110.0     7.0    117\n",
      "2.0       0.880282  0.119718    125.0    17.0    142\n",
      "3.0       0.837349  0.162651    139.0    27.0    166\n",
      "4.0       0.765027  0.234973    140.0    43.0    183\n",
      "5.0       0.682796  0.317204    127.0    59.0    186\n",
      "6.0       0.708738  0.291262    146.0    60.0    206\n",
      "7.0       0.699422  0.300578    121.0    52.0    173\n",
      "8.0       0.721393  0.278607    145.0    56.0    201\n",
      "9.0       0.710526  0.289474    108.0    44.0    152\n",
      "10.0      0.641379  0.358621     93.0    52.0    145\n",
      "11.0      0.653226  0.346774     81.0    43.0    124\n",
      "12.0      0.585106  0.414894     55.0    39.0     94\n",
      "13.0      0.614583  0.385417     59.0    37.0     96\n",
      "14.0      0.590909  0.409091     39.0    27.0     66\n",
      "15.0      0.679012  0.320988     55.0    26.0     81\n",
      "16.0      0.627119  0.372881     37.0    22.0     59\n",
      "17.0      0.604167  0.395833     29.0    19.0     48\n",
      "18.0      0.589744  0.410256     23.0    16.0     39\n",
      "19.0      0.590909  0.409091     13.0     9.0     22\n",
      "20.0      0.653846  0.346154     17.0     9.0     26\n",
      "21.0      0.695652  0.304348     16.0     7.0     23\n",
      "22.0      0.700000  0.300000     14.0     6.0     20\n",
      "23.0      0.777778  0.222222      7.0     2.0      9\n",
      "24.0      0.600000  0.400000      9.0     6.0     15\n",
      "25.0      0.600000  0.400000      6.0     4.0     10\n",
      "26.0      0.800000  0.200000      4.0     1.0      5\n",
      "27.0      1.000000  0.000000      4.0     0.0      4\n",
      "28.0      0.666667  0.333333      4.0     2.0      6\n",
      "29.0      0.500000  0.500000      2.0     2.0      4\n",
      "30.0      1.000000  0.000000      3.0     0.0      3\n",
      "31.0      0.000000  1.000000      0.0     1.0      1\n",
      "32.0      1.000000  0.000000      3.0     0.0      3\n",
      "33.0      0.500000  0.500000      1.0     1.0      2\n",
      "34.0      1.000000  0.000000      1.0     0.0      1\n",
      "35.0      1.000000  0.000000      1.0     0.0      1\n",
      "36.0      0.500000  0.500000      1.0     1.0      2\n",
      "38.0      0.333333  0.666667      1.0     2.0      3\n",
      "41.0      1.000000  0.000000      1.0     0.0      1\n"
     ]
    }
   ],
   "source": [
    "value_counts_ratio(train, '기증자_정자와_혼합된_난자_수')"
   ]
  },
  {
   "cell_type": "code",
   "execution_count": 114,
   "metadata": {},
   "outputs": [],
   "source": [
    "# 1. 임신 성공율 - 이식된 배아 대비 임신 성공 비율\n",
    "train['임신_성공율'] = np.where(train['총_생성_배아_수'] > 0, (train['이식된_배아_수'] / train['총_생성_배아_수']) * 100, 0).round(2)\n",
    "\n",
    "# 2. ICSI 효율성 - 미세주입된 난자 대비 생성된 배아 비율\n",
    "train['ICSI_효율성'] = np.where(train['미세주입된_난자_수'] > 0, (train['미세주입에서_생성된_배아_수'] / train['미세주입된_난자_수']) * 100, 0).round(2)\n",
    "\n",
    "# 3. 저장 배아 비율 - 총 생성 배아 대비 저장된 배아 수 비율\n",
    "train['저장_배아_비율'] = np.where(train['총_생성_배아_수'] > 0, (train['저장된_배아_수'] / train['총_생성_배아_수']) * 100, 0).round(2)\n",
    "\n",
    "# 4. 해동 난자 비율 - 해동된 난자 대비 수집된 신선 난자 비율\n",
    "train['해동_난자_비율'] = np.where(train['수집된_신선_난자_수'] > 0, (train['해동_난자_수'] / train['수집된_신선_난자_수']) * 100, 0).round(2)\n",
    "\n",
    "# 5. 생성 배아 유지율 - ICSI 후 저장된 배아 대비 생성된 배아 비율\n",
    "train['생성_배아_유지율'] = np.where(train['미세주입에서_생성된_배아_수'] > 0, (train['미세주입_후_저장된_배아_수'] / train['미세주입에서_생성된_배아_수']) * 100, 0).round(2)\n",
    "\n",
    "# 6. 파트너 정자 사용 비율 - 혼합된 난자에서 파트너 정자 비율\n",
    "train['파트너_정자_사용_비율'] = np.where(train['혼합된_난자_수'] > 0, (train['파트너_정자와_혼합된_난자_수'] / train['혼합된_난자_수']) * 100, 0).round(2)\n",
    "\n",
    "# test 데이터프레임에도 동일한 파생 변수를 생성\n",
    "test['임신_성공율'] = np.where(test['총_생성_배아_수'] > 0, (test['이식된_배아_수'] / test['총_생성_배아_수']) * 100, 0).round(2)\n",
    "test['ICSI_효율성'] = np.where(test['미세주입된_난자_수'] > 0, (test['미세주입에서_생성된_배아_수'] / test['미세주입된_난자_수']) * 100, 0).round(2)\n",
    "test['저장_배아_비율'] = np.where(test['총_생성_배아_수'] > 0, (test['저장된_배아_수'] / test['총_생성_배아_수']) * 100, 0).round(2)\n",
    "test['해동_난자_비율'] = np.where(test['수집된_신선_난자_수'] > 0, (test['해동_난자_수'] / test['수집된_신선_난자_수']) * 100, 0).round(2)\n",
    "test['생성_배아_유지율'] = np.where(test['미세주입에서_생성된_배아_수'] > 0, (test['미세주입_후_저장된_배아_수'] / test['미세주입에서_생성된_배아_수']) * 100, 0).round(2)\n",
    "test['파트너_정자_사용_비율'] = np.where(test['혼합된_난자_수'] > 0, (test['파트너_정자와_혼합된_난자_수'] / test['혼합된_난자_수']) * 100, 0).round(2)"
   ]
  },
  {
   "cell_type": "markdown",
   "metadata": {},
   "source": [
    "### 53. 난자_출처"
   ]
  },
  {
   "cell_type": "markdown",
   "metadata": {},
   "source": [
    "난자 출처 정보"
   ]
  },
  {
   "cell_type": "code",
   "execution_count": 115,
   "metadata": {},
   "outputs": [
    {
     "name": "stdout",
     "output_type": "stream",
     "text": [
      "\n",
      "난자_출처별 임신_성공_여부 비율 및 갯수\n",
      "\n",
      "                 0         1      0     1  Total\n",
      "variable                                        \n",
      "기증 제공     0.666393  0.333607   1622   812   2434\n",
      "본인 제공     0.732152  0.267848  24470  8952  33422\n",
      "알 수 없음    0.865811  0.134189    742   115    857\n"
     ]
    }
   ],
   "source": [
    "value_counts_ratio(train, '난자_출처')"
   ]
  },
  {
   "cell_type": "code",
   "execution_count": 116,
   "metadata": {},
   "outputs": [
    {
     "data": {
      "text/plain": [
       "본인 제공     11699\n",
       "기증 제공       927\n",
       "알 수 없음      303\n",
       "Name: 난자_출처, dtype: int64"
      ]
     },
     "execution_count": 116,
     "metadata": {},
     "output_type": "execute_result"
    }
   ],
   "source": [
    "test['난자_출처'].value_counts()"
   ]
  },
  {
   "cell_type": "markdown",
   "metadata": {},
   "source": [
    "### 54. 정자_출처"
   ]
  },
  {
   "cell_type": "markdown",
   "metadata": {},
   "source": [
    "정자 출처 정보"
   ]
  },
  {
   "cell_type": "code",
   "execution_count": 117,
   "metadata": {},
   "outputs": [
    {
     "name": "stdout",
     "output_type": "stream",
     "text": [
      "\n",
      "정자_출처별 임신_성공_여부 비율 및 갯수\n",
      "\n",
      "                    0         1        0       1  Total\n",
      "variable                                               \n",
      "기증 제공        0.743719  0.256281   3108.0  1071.0   4179\n",
      "미할당          0.923077  0.076923     12.0     1.0     13\n",
      "배우자 및 기증 제공  1.000000  0.000000      2.0     0.0      2\n",
      "배우자 제공       0.729174  0.270826  23712.0  8807.0  32519\n"
     ]
    }
   ],
   "source": [
    "value_counts_ratio(train, '정자_출처')"
   ]
  },
  {
   "cell_type": "code",
   "execution_count": 118,
   "metadata": {},
   "outputs": [
    {
     "data": {
      "text/plain": [
       "배우자 제공         11508\n",
       "기증 제공           1418\n",
       "미할당                2\n",
       "배우자 및 기증 제공        1\n",
       "Name: 정자_출처, dtype: int64"
      ]
     },
     "execution_count": 118,
     "metadata": {},
     "output_type": "execute_result"
    }
   ],
   "source": [
    "test['정자_출처'].value_counts()"
   ]
  },
  {
   "cell_type": "markdown",
   "metadata": {},
   "source": [
    "### 55. 난자_기증자_나이"
   ]
  },
  {
   "cell_type": "markdown",
   "metadata": {},
   "source": [
    "난자 기증자의 등록 당시 나이"
   ]
  },
  {
   "cell_type": "code",
   "execution_count": 119,
   "metadata": {},
   "outputs": [
    {
     "name": "stdout",
     "output_type": "stream",
     "text": [
      "\n",
      "난자_기증자_나이별 임신_성공_여부 비율 및 갯수\n",
      "\n",
      "                 0         1      0     1  Total\n",
      "variable                                        \n",
      "만20세 이하   0.810811  0.189189     30     7     37\n",
      "만21-25세   0.665012  0.334988    268   135    403\n",
      "만26-30세   0.621723  0.378277    498   303    801\n",
      "만31-35세   0.666667  0.333333    618   309    927\n",
      "알 수 없음    0.735852  0.264148  25420  9125  34545\n"
     ]
    }
   ],
   "source": [
    "value_counts_ratio(train, '난자_기증자_나이')"
   ]
  },
  {
   "cell_type": "markdown",
   "metadata": {},
   "source": [
    "### 56. 정자_기증자_나이"
   ]
  },
  {
   "cell_type": "markdown",
   "metadata": {},
   "source": [
    "정자 기증자의 등록 당시 나이"
   ]
  },
  {
   "cell_type": "code",
   "execution_count": 120,
   "metadata": {},
   "outputs": [
    {
     "name": "stdout",
     "output_type": "stream",
     "text": [
      "\n",
      "정자_기증자_나이별 임신_성공_여부 비율 및 갯수\n",
      "\n",
      "                 0         1      0     1  Total\n",
      "variable                                        \n",
      "만20세 이하   0.765432  0.234568    124    38    162\n",
      "만21-25세   0.744887  0.255113    692   237    929\n",
      "만26-30세   0.747537  0.252463    607   205    812\n",
      "만31-35세   0.737245  0.262755    578   206    784\n",
      "만36-40세   0.740072  0.259928    615   216    831\n",
      "만41-45세   0.749507  0.250493    380   127    507\n",
      "알 수 없음    0.729258  0.270742  23838  8850  32688\n"
     ]
    }
   ],
   "source": [
    "value_counts_ratio(train, '정자_기증자_나이')"
   ]
  },
  {
   "cell_type": "code",
   "execution_count": 121,
   "metadata": {},
   "outputs": [
    {
     "name": "stdout",
     "output_type": "stream",
     "text": [
      "Grouped by: 난자_기증자_나이, 정자_기증자_나이\n",
      "\n",
      "                 group  '임신_성공_여부' count     ratio  Total\n",
      "0   (만20세 이하, 만21-25세)                 0  0.000000      2\n",
      "1   (만20세 이하, 만26-30세)                 1  0.500000      2\n",
      "2   (만20세 이하, 만31-35세)                 1  1.000000      1\n",
      "3   (만20세 이하, 만36-40세)                 0  0.000000      2\n",
      "4    (만20세 이하, 알 수 없음)                 5  0.166667     30\n",
      "5   (만21-25세, 만20세 이하)                 0  0.000000      1\n",
      "6   (만21-25세, 만21-25세)                 4  0.500000      8\n",
      "7   (만21-25세, 만26-30세)                 3  0.250000     12\n",
      "8   (만21-25세, 만31-35세)                 1  0.166667      6\n",
      "9   (만21-25세, 만36-40세)                 5  0.454545     11\n",
      "10  (만21-25세, 만41-45세)                 3  0.300000     10\n",
      "11   (만21-25세, 알 수 없음)               119  0.335211    355\n",
      "12  (만26-30세, 만20세 이하)                 0  0.000000      1\n",
      "13  (만26-30세, 만21-25세)                12  0.480000     25\n",
      "14  (만26-30세, 만26-30세)                11  0.323529     34\n",
      "15  (만26-30세, 만31-35세)                14  0.437500     32\n",
      "16  (만26-30세, 만36-40세)                10  0.416667     24\n",
      "17  (만26-30세, 만41-45세)                 6  0.428571     14\n",
      "18   (만26-30세, 알 수 없음)               250  0.372578    671\n",
      "19  (만31-35세, 만20세 이하)                 2  0.400000      5\n",
      "20  (만31-35세, 만21-25세)                16  0.516129     31\n",
      "21  (만31-35세, 만26-30세)                14  0.325581     43\n",
      "22  (만31-35세, 만31-35세)                17  0.361702     47\n",
      "23  (만31-35세, 만36-40세)                18  0.327273     55\n",
      "24  (만31-35세, 만41-45세)                 8  0.275862     29\n",
      "25   (만31-35세, 알 수 없음)               234  0.326360    717\n",
      "26   (알 수 없음, 만20세 이하)                36  0.232258    155\n",
      "27   (알 수 없음, 만21-25세)               205  0.237543    863\n",
      "28   (알 수 없음, 만26-30세)               176  0.244105    721\n",
      "29   (알 수 없음, 만31-35세)               173  0.247851    698\n",
      "30   (알 수 없음, 만36-40세)               183  0.247632    739\n",
      "31   (알 수 없음, 만41-45세)               110  0.242291    454\n",
      "32    (알 수 없음, 알 수 없음)              8242  0.266602  30915\n"
     ]
    }
   ],
   "source": [
    "summarize_group(train, ['난자_기증자_나이', '정자_기증자_나이'])"
   ]
  },
  {
   "cell_type": "code",
   "execution_count": 122,
   "metadata": {},
   "outputs": [],
   "source": [
    "# 그룹화하여 임신_성공_여부 비율 계산\n",
    "grouped = train.groupby(['난자_기증자_나이', '정자_기증자_나이']).agg(\n",
    "    count=('임신_성공_여부', 'sum'),\n",
    "    Total=('임신_성공_여부', 'size')\n",
    ").reset_index()\n",
    "\n",
    "grouped['ratio'] = grouped['count'] / grouped['Total']\n",
    "grouped['기증자_나이_더미'] = (grouped['ratio'] >= 0.28).astype(int)\n",
    "\n",
    "# 원본 train 데이터프레임에 더미 변수 추가\n",
    "train = train.merge(grouped[['난자_기증자_나이', '정자_기증자_나이', '기증자_나이_더미']], on=['난자_기증자_나이', '정자_기증자_나이'], how='left')\n",
    "\n",
    "# test 데이터프레임에 더미 변수 추가\n",
    "test = test.merge(grouped[['난자_기증자_나이', '정자_기증자_나이', '기증자_나이_더미']], on=['난자_기증자_나이', '정자_기증자_나이'], how='left')\n",
    "\n",
    "# 결측값을 0으로 채우기 (해당 조합이 train 데이터에 없을 경우)\n",
    "test['기증자_나이_더미'] = test['기증자_나이_더미'].fillna(0).astype(int)"
   ]
  },
  {
   "cell_type": "code",
   "execution_count": 123,
   "metadata": {},
   "outputs": [
    {
     "name": "stdout",
     "output_type": "stream",
     "text": [
      "\n",
      "기증자_나이_더미별 임신_성공_여부 비율 및 갯수\n",
      "\n",
      "                 0         1      0     1  Total\n",
      "variable                                        \n",
      "0         0.735994  0.264006  25486  9142  34628\n",
      "1         0.646523  0.353477   1348   737   2085\n"
     ]
    }
   ],
   "source": [
    "value_counts_ratio(train, '기증자_나이_더미')"
   ]
  },
  {
   "cell_type": "code",
   "execution_count": 124,
   "metadata": {},
   "outputs": [
    {
     "data": {
      "text/plain": [
       "0    12134\n",
       "1      795\n",
       "Name: 기증자_나이_더미, dtype: int64"
      ]
     },
     "execution_count": 124,
     "metadata": {},
     "output_type": "execute_result"
    }
   ],
   "source": [
    "test['기증자_나이_더미'].value_counts()"
   ]
  },
  {
   "cell_type": "code",
   "execution_count": 125,
   "metadata": {},
   "outputs": [],
   "source": [
    "# summarize_group(train, ['난자_기증자_나이', '정자_기증자_나이', '기증자_나이_더미'])"
   ]
  },
  {
   "cell_type": "markdown",
   "metadata": {},
   "source": [
    "### 57. 동결_배아_사용_여부"
   ]
  },
  {
   "cell_type": "markdown",
   "metadata": {},
   "source": [
    "동결 배아가 사용되었는지 여부"
   ]
  },
  {
   "cell_type": "code",
   "execution_count": 126,
   "metadata": {},
   "outputs": [
    {
     "name": "stdout",
     "output_type": "stream",
     "text": [
      "\n",
      "동결_배아_사용_여부별 임신_성공_여부 비율 및 갯수\n",
      "\n",
      "                 0         1      0     1  Total\n",
      "variable                                        \n",
      "0.0       0.724247  0.275753  21823  8309  30132\n",
      "1.0       0.745807  0.254193   4269  1455   5724\n"
     ]
    }
   ],
   "source": [
    "value_counts_ratio(train, '동결_배아_사용_여부')"
   ]
  },
  {
   "cell_type": "markdown",
   "metadata": {},
   "source": [
    "### 58. 신선_배아_사용_여부"
   ]
  },
  {
   "cell_type": "markdown",
   "metadata": {},
   "source": [
    "신선 배아가 사용되었는지 여부"
   ]
  },
  {
   "cell_type": "code",
   "execution_count": 127,
   "metadata": {},
   "outputs": [
    {
     "name": "stdout",
     "output_type": "stream",
     "text": [
      "\n",
      "신선_배아_사용_여부별 임신_성공_여부 비율 및 갯수\n",
      "\n",
      "                 0         1      0     1  Total\n",
      "variable                                        \n",
      "0.0       0.745435  0.254565   4246  1450   5696\n",
      "1.0       0.724337  0.275663  21846  8314  30160\n"
     ]
    }
   ],
   "source": [
    "value_counts_ratio(train, '신선_배아_사용_여부')"
   ]
  },
  {
   "cell_type": "markdown",
   "metadata": {},
   "source": [
    "### 59. 기증_배아_사용_여부"
   ]
  },
  {
   "cell_type": "markdown",
   "metadata": {},
   "source": [
    "기증 배아가 사용되었는지 여부"
   ]
  },
  {
   "cell_type": "code",
   "execution_count": 128,
   "metadata": {},
   "outputs": [
    {
     "name": "stdout",
     "output_type": "stream",
     "text": [
      "\n",
      "기증_배아_사용_여부별 임신_성공_여부 비율 및 갯수\n",
      "\n",
      "                 0         1      0     1  Total\n",
      "variable                                        \n",
      "0.0       0.728902  0.271098  25833  9608  35441\n",
      "1.0       0.624096  0.375904    259   156    415\n"
     ]
    }
   ],
   "source": [
    "value_counts_ratio(train, '기증_배아_사용_여부')"
   ]
  },
  {
   "cell_type": "code",
   "execution_count": 129,
   "metadata": {},
   "outputs": [
    {
     "name": "stdout",
     "output_type": "stream",
     "text": [
      "Grouped by: 신선_배아_사용_여부, 동결_배아_사용_여부, 기증_배아_사용_여부\n",
      "\n",
      "             group  '임신_성공_여부' count     ratio  Total\n",
      "0  (0.0, 0.0, 0.0)                 0  0.000000      1\n",
      "1  (0.0, 1.0, 0.0)              1399  0.253396   5521\n",
      "2  (0.0, 1.0, 1.0)                51  0.293103    174\n",
      "3  (1.0, 0.0, 0.0)              8204  0.274473  29890\n",
      "4  (1.0, 0.0, 1.0)               105  0.435685    241\n",
      "5  (1.0, 1.0, 0.0)                 5  0.172414     29\n"
     ]
    }
   ],
   "source": [
    "summarize_group(train, ['신선_배아_사용_여부', '동결_배아_사용_여부', '기증_배아_사용_여부'])"
   ]
  },
  {
   "cell_type": "markdown",
   "metadata": {},
   "source": [
    "### 60. 대리모_여부"
   ]
  },
  {
   "cell_type": "markdown",
   "metadata": {},
   "source": [
    "환자가 대리모로 활동했는지 여부"
   ]
  },
  {
   "cell_type": "code",
   "execution_count": 130,
   "metadata": {},
   "outputs": [
    {
     "name": "stdout",
     "output_type": "stream",
     "text": [
      "\n",
      "대리모_여부별 임신_성공_여부 비율 및 갯수\n",
      "\n",
      "                 0         1      0     1  Total\n",
      "variable                                        \n",
      "0.0       0.727522  0.272478  25974  9728  35702\n",
      "1.0       0.766234  0.233766    118    36    154\n"
     ]
    }
   ],
   "source": [
    "value_counts_ratio(train, '대리모_여부')"
   ]
  },
  {
   "cell_type": "markdown",
   "metadata": {},
   "source": [
    "### 61. PGD_시술_여부"
   ]
  },
  {
   "cell_type": "markdown",
   "metadata": {},
   "source": [
    "해당 주기가 PGD 치료로 분류되는지 여부"
   ]
  },
  {
   "cell_type": "code",
   "execution_count": 131,
   "metadata": {},
   "outputs": [
    {
     "name": "stdout",
     "output_type": "stream",
     "text": [
      "\n",
      "PGD_시술_여부별 임신_성공_여부 비율 및 갯수\n",
      "\n",
      "                 0         1    0   1  Total\n",
      "variable                                    \n",
      "1.0       0.745875  0.254125  226  77    303\n"
     ]
    }
   ],
   "source": [
    "value_counts_ratio(train, 'PGD_시술_여부')"
   ]
  },
  {
   "cell_type": "code",
   "execution_count": 132,
   "metadata": {},
   "outputs": [
    {
     "data": {
      "text/plain": [
       "36410"
      ]
     },
     "execution_count": 132,
     "metadata": {},
     "output_type": "execute_result"
    }
   ],
   "source": [
    "train['PGD_시술_여부'].isnull().sum()"
   ]
  },
  {
   "cell_type": "code",
   "execution_count": 133,
   "metadata": {},
   "outputs": [
    {
     "name": "stdout",
     "output_type": "stream",
     "text": [
      "결측값 개수: 36410\n",
      "결측값 개수: 0\n"
     ]
    }
   ],
   "source": [
    "# 결측값 개수 확인\n",
    "print(\"결측값 개수:\", train['PGD_시술_여부'].isnull().sum())\n",
    "\n",
    "# 결측값을 0으로 채우기\n",
    "train['PGD_시술_여부'].fillna(0, inplace=True)\n",
    "test['PGD_시술_여부'].fillna(0, inplace=True)\n",
    "\n",
    "# 결측값 개수 확인\n",
    "print(\"결측값 개수:\", train['PGD_시술_여부'].isnull().sum())"
   ]
  },
  {
   "cell_type": "markdown",
   "metadata": {},
   "source": [
    "### 62. PGS_시술_여부"
   ]
  },
  {
   "cell_type": "markdown",
   "metadata": {},
   "source": [
    "해당 주기가 PGS 치료로 분류되는지 여부"
   ]
  },
  {
   "cell_type": "code",
   "execution_count": 134,
   "metadata": {},
   "outputs": [
    {
     "name": "stdout",
     "output_type": "stream",
     "text": [
      "\n",
      "PGS_시술_여부별 임신_성공_여부 비율 및 갯수\n",
      "\n",
      "                 0         1    0   1  Total\n",
      "variable                                    \n",
      "1.0       0.789116  0.210884  232  62    294\n"
     ]
    }
   ],
   "source": [
    "value_counts_ratio(train, 'PGS_시술_여부')"
   ]
  },
  {
   "cell_type": "code",
   "execution_count": 135,
   "metadata": {},
   "outputs": [
    {
     "name": "stdout",
     "output_type": "stream",
     "text": [
      "결측값 개수: 36419\n",
      "결측값 개수: 0\n"
     ]
    }
   ],
   "source": [
    "# 결측값 개수 확인\n",
    "print(\"결측값 개수:\", train['PGS_시술_여부'].isnull().sum())\n",
    "\n",
    "# 결측값을 0으로 채우기\n",
    "train['PGS_시술_여부'].fillna(0, inplace=True)\n",
    "test['PGS_시술_여부'].fillna(0, inplace=True)\n",
    "\n",
    "# 결측값 개수 확인\n",
    "print(\"결측값 개수:\", train['PGS_시술_여부'].isnull().sum())"
   ]
  },
  {
   "cell_type": "code",
   "execution_count": 136,
   "metadata": {},
   "outputs": [
    {
     "name": "stdout",
     "output_type": "stream",
     "text": [
      "Grouped by: PGD_시술_여부, PGS_시술_여부\n",
      "\n",
      "        group  '임신_성공_여부' count     ratio  Total\n",
      "0  (0.0, 0.0)              9740  0.269687  36116\n",
      "1  (0.0, 1.0)                62  0.210884    294\n",
      "2  (1.0, 0.0)                77  0.254125    303\n"
     ]
    }
   ],
   "source": [
    "summarize_group(train, ['PGD_시술_여부', 'PGS_시술_여부'])"
   ]
  },
  {
   "cell_type": "markdown",
   "metadata": {},
   "source": [
    "### 63. 난자_채취_경과일"
   ]
  },
  {
   "cell_type": "markdown",
   "metadata": {},
   "source": [
    "첫 시점으로부터 난자 채취까지 경과한 일수"
   ]
  },
  {
   "cell_type": "code",
   "execution_count": 137,
   "metadata": {},
   "outputs": [
    {
     "name": "stdout",
     "output_type": "stream",
     "text": [
      "\n",
      "난자_채취_경과일별 임신_성공_여부 비율 및 갯수\n",
      "\n",
      "                 0         1      0     1  Total\n",
      "variable                                        \n",
      "0.0       0.728861  0.271139  20739  7715  28454\n"
     ]
    }
   ],
   "source": [
    "value_counts_ratio(train, '난자_채취_경과일')"
   ]
  },
  {
   "cell_type": "code",
   "execution_count": 138,
   "metadata": {},
   "outputs": [
    {
     "name": "stdout",
     "output_type": "stream",
     "text": [
      "결측값 개수: 8259\n",
      "결측값 개수: 0\n"
     ]
    }
   ],
   "source": [
    "print(\"결측값 개수:\", train['난자_채취_경과일'].isnull().sum())\n",
    "\n",
    "train['난자_채취_경과일'].fillna(-1, inplace=True)\n",
    "test['난자_채취_경과일'].fillna(-1, inplace=True)\n",
    "\n",
    "print(\"결측값 개수:\", train['난자_채취_경과일'].isnull().sum())"
   ]
  },
  {
   "cell_type": "markdown",
   "metadata": {},
   "source": [
    "### 64. 난자_해동_경과일"
   ]
  },
  {
   "cell_type": "markdown",
   "metadata": {},
   "source": [
    "첫 시점으로부터 난자 해동까지 경과한 일수"
   ]
  },
  {
   "cell_type": "code",
   "execution_count": 139,
   "metadata": {},
   "outputs": [
    {
     "name": "stdout",
     "output_type": "stream",
     "text": [
      "\n",
      "난자_해동_경과일별 임신_성공_여부 비율 및 갯수\n",
      "\n",
      "                 0         1    0   1  Total\n",
      "variable                                    \n",
      "0.0       0.823529  0.176471  168  36    204\n"
     ]
    }
   ],
   "source": [
    "value_counts_ratio(train, '난자_해동_경과일')"
   ]
  },
  {
   "cell_type": "code",
   "execution_count": 140,
   "metadata": {},
   "outputs": [
    {
     "data": {
      "text/plain": [
       "36509"
      ]
     },
     "execution_count": 140,
     "metadata": {},
     "output_type": "execute_result"
    }
   ],
   "source": [
    "train['난자_해동_경과일'].isnull().sum()"
   ]
  },
  {
   "cell_type": "code",
   "execution_count": 141,
   "metadata": {},
   "outputs": [
    {
     "name": "stdout",
     "output_type": "stream",
     "text": [
      "결측값 개수: 36509\n",
      "결측값 개수: 0\n"
     ]
    }
   ],
   "source": [
    "print(\"결측값 개수:\", train['난자_해동_경과일'].isnull().sum())\n",
    "\n",
    "train['난자_해동_경과일'].fillna(-1, inplace=True)\n",
    "test['난자_해동_경과일'].fillna(-1, inplace=True)\n",
    "\n",
    "print(\"결측값 개수:\", train['난자_해동_경과일'].isnull().sum())"
   ]
  },
  {
   "cell_type": "markdown",
   "metadata": {},
   "source": [
    "### 65. 난자_혼합_경과일"
   ]
  },
  {
   "cell_type": "markdown",
   "metadata": {},
   "source": [
    "첫 시점으로부터 난자와 정자 혼합까지 경과한 일수"
   ]
  },
  {
   "cell_type": "code",
   "execution_count": 142,
   "metadata": {},
   "outputs": [
    {
     "name": "stdout",
     "output_type": "stream",
     "text": [
      "\n",
      "난자_혼합_경과일별 임신_성공_여부 비율 및 갯수\n",
      "\n",
      "                 0         1        0       1  Total\n",
      "variable                                            \n",
      "0.0       0.714369  0.285631  20711.0  8281.0  28992\n",
      "1.0       0.842105  0.157895     48.0     9.0     57\n",
      "2.0       0.733333  0.266667     11.0     4.0     15\n",
      "3.0       0.600000  0.400000      3.0     2.0      5\n",
      "5.0       1.000000  0.000000      4.0     0.0      4\n"
     ]
    }
   ],
   "source": [
    "value_counts_ratio(train, '난자_혼합_경과일')"
   ]
  },
  {
   "cell_type": "code",
   "execution_count": 143,
   "metadata": {},
   "outputs": [
    {
     "data": {
      "text/plain": [
       "7640"
      ]
     },
     "execution_count": 143,
     "metadata": {},
     "output_type": "execute_result"
    }
   ],
   "source": [
    "train['난자_혼합_경과일'].isnull().sum()"
   ]
  },
  {
   "cell_type": "code",
   "execution_count": 144,
   "metadata": {},
   "outputs": [
    {
     "name": "stdout",
     "output_type": "stream",
     "text": [
      "결측값 개수: 7640\n",
      "결측값 개수: 0\n"
     ]
    }
   ],
   "source": [
    "print(\"결측값 개수:\", train['난자_혼합_경과일'].isnull().sum())\n",
    "\n",
    "train['난자_혼합_경과일'].fillna(-1, inplace=True)\n",
    "test['난자_혼합_경과일'].fillna(-1, inplace=True)\n",
    "\n",
    "print(\"결측값 개수:\", train['난자_혼합_경과일'].isnull().sum())"
   ]
  },
  {
   "cell_type": "code",
   "execution_count": 145,
   "metadata": {},
   "outputs": [
    {
     "name": "stdout",
     "output_type": "stream",
     "text": [
      "\n",
      "난자_혼합_경과일별 임신_성공_여부 비율 및 갯수\n",
      "\n",
      "                 0         1        0       1  Total\n",
      "variable                                            \n",
      "-1.0      0.792801  0.207199   6057.0  1583.0   7640\n",
      " 0.0      0.714369  0.285631  20711.0  8281.0  28992\n",
      " 1.0      0.842105  0.157895     48.0     9.0     57\n",
      " 2.0      0.733333  0.266667     11.0     4.0     15\n",
      " 3.0      0.600000  0.400000      3.0     2.0      5\n",
      " 5.0      1.000000  0.000000      4.0     0.0      4\n"
     ]
    }
   ],
   "source": [
    "value_counts_ratio(train, '난자_혼합_경과일')"
   ]
  },
  {
   "cell_type": "markdown",
   "metadata": {},
   "source": [
    "### 66. 배아_이식_경과일"
   ]
  },
  {
   "cell_type": "markdown",
   "metadata": {},
   "source": [
    "첫 시점으로부터 배아 이식까지 경과한 일수"
   ]
  },
  {
   "cell_type": "code",
   "execution_count": 146,
   "metadata": {},
   "outputs": [
    {
     "name": "stdout",
     "output_type": "stream",
     "text": [
      "\n",
      "배아_이식_경과일별 임신_성공_여부 비율 및 갯수\n",
      "\n",
      "                 0         1     0     1  Total\n",
      "variable                                       \n",
      "0.0       0.724027  0.275973  2697  1028   3725\n",
      "1.0       0.782230  0.217770   449   125    574\n",
      "2.0       0.795768  0.204232  3347   859   4206\n",
      "3.0       0.746247  0.253753  5617  1910   7527\n",
      "4.0       0.645117  0.354883   469   258    727\n",
      "5.0       0.589042  0.410958  7730  5393  13123\n",
      "6.0       0.680851  0.319149   320   150    470\n",
      "7.0       0.545455  0.454545    12    10     22\n"
     ]
    }
   ],
   "source": [
    "value_counts_ratio(train, '배아_이식_경과일')"
   ]
  },
  {
   "cell_type": "code",
   "execution_count": 147,
   "metadata": {},
   "outputs": [
    {
     "name": "stdout",
     "output_type": "stream",
     "text": [
      "결측값 개수: 6339\n",
      "결측값 개수: 0\n"
     ]
    }
   ],
   "source": [
    "print(\"결측값 개수:\", train['배아_이식_경과일'].isnull().sum())\n",
    "\n",
    "train['배아_이식_경과일'].fillna(-1, inplace=True)\n",
    "test['배아_이식_경과일'].fillna(-1, inplace=True)\n",
    "\n",
    "print(\"결측값 개수:\", train['배아_이식_경과일'].isnull().sum())"
   ]
  },
  {
   "cell_type": "code",
   "execution_count": 148,
   "metadata": {},
   "outputs": [
    {
     "name": "stdout",
     "output_type": "stream",
     "text": [
      "\n",
      "배아_이식_경과일별 임신_성공_여부 비율 및 갯수\n",
      "\n",
      "                 0         1     0     1  Total\n",
      "variable                                       \n",
      "-1.0      0.976968  0.023032  6193   146   6339\n",
      " 0.0      0.724027  0.275973  2697  1028   3725\n",
      " 1.0      0.782230  0.217770   449   125    574\n",
      " 2.0      0.795768  0.204232  3347   859   4206\n",
      " 3.0      0.746247  0.253753  5617  1910   7527\n",
      " 4.0      0.645117  0.354883   469   258    727\n",
      " 5.0      0.589042  0.410958  7730  5393  13123\n",
      " 6.0      0.680851  0.319149   320   150    470\n",
      " 7.0      0.545455  0.454545    12    10     22\n"
     ]
    }
   ],
   "source": [
    "value_counts_ratio(train, '배아_이식_경과일')"
   ]
  },
  {
   "cell_type": "markdown",
   "metadata": {},
   "source": [
    "### 67. 배아_해동_경과일"
   ]
  },
  {
   "cell_type": "markdown",
   "metadata": {},
   "source": [
    "첫 시점으로부터 배아 해동까지 경과한 일수"
   ]
  },
  {
   "cell_type": "code",
   "execution_count": 149,
   "metadata": {},
   "outputs": [
    {
     "name": "stdout",
     "output_type": "stream",
     "text": [
      "\n",
      "배아_해동_경과일별 임신_성공_여부 비율 및 갯수\n",
      "\n",
      "                 0         1       0       1  Total\n",
      "variable                                           \n",
      "0.0       0.745724  0.254276  4229.0  1442.0   5671\n",
      "1.0       0.714286  0.285714     5.0     2.0      7\n",
      "2.0       0.857143  0.142857    18.0     3.0     21\n",
      "3.0       0.869565  0.130435    20.0     3.0     23\n",
      "4.0       1.000000  0.000000     3.0     0.0      3\n",
      "5.0       0.666667  0.333333    20.0    10.0     30\n",
      "6.0       0.666667  0.333333     2.0     1.0      3\n"
     ]
    }
   ],
   "source": [
    "value_counts_ratio(train, '배아_해동_경과일')"
   ]
  },
  {
   "cell_type": "code",
   "execution_count": 150,
   "metadata": {},
   "outputs": [
    {
     "data": {
      "text/plain": [
       "0.0    1932\n",
       "5.0       8\n",
       "3.0       6\n",
       "1.0       5\n",
       "2.0       4\n",
       "6.0       3\n",
       "4.0       1\n",
       "Name: 배아_해동_경과일, dtype: int64"
      ]
     },
     "execution_count": 150,
     "metadata": {},
     "output_type": "execute_result"
    }
   ],
   "source": [
    "test['배아_해동_경과일'].value_counts()"
   ]
  },
  {
   "cell_type": "code",
   "execution_count": 151,
   "metadata": {},
   "outputs": [
    {
     "name": "stdout",
     "output_type": "stream",
     "text": [
      "결측값 개수: 30955\n",
      "결측값 개수: 0\n"
     ]
    }
   ],
   "source": [
    "print(\"결측값 개수:\", train['배아_해동_경과일'].isnull().sum())\n",
    "\n",
    "train['배아_해동_경과일'].fillna(-1, inplace=True)\n",
    "test['배아_해동_경과일'].fillna(-1, inplace=True)\n",
    "\n",
    "print(\"결측값 개수:\", train['배아_해동_경과일'].isnull().sum())"
   ]
  },
  {
   "cell_type": "code",
   "execution_count": 152,
   "metadata": {},
   "outputs": [
    {
     "name": "stdout",
     "output_type": "stream",
     "text": [
      "\n",
      "배아_해동_경과일별 임신_성공_여부 비율 및 갯수\n",
      "\n",
      "                 0         1        0       1  Total\n",
      "variable                                            \n",
      "-1.0      0.728057  0.271943  22537.0  8418.0  30955\n",
      " 0.0      0.745724  0.254276   4229.0  1442.0   5671\n",
      " 1.0      0.714286  0.285714      5.0     2.0      7\n",
      " 2.0      0.857143  0.142857     18.0     3.0     21\n",
      " 3.0      0.869565  0.130435     20.0     3.0     23\n",
      " 4.0      1.000000  0.000000      3.0     0.0      3\n",
      " 5.0      0.666667  0.333333     20.0    10.0     30\n",
      " 6.0      0.666667  0.333333      2.0     1.0      3\n"
     ]
    }
   ],
   "source": [
    "value_counts_ratio(train, '배아_해동_경과일')"
   ]
  },
  {
   "cell_type": "code",
   "execution_count": 153,
   "metadata": {},
   "outputs": [],
   "source": [
    "# 파생 변수 생성 함수 정의\n",
    "def calculate_difference(col1, col2):\n",
    "    return np.where((col1 == -1) | (col2 == -1), 'unknown', col2 - col1)\n",
    "\n",
    "# 파생 변수 생성 (train 데이터프레임)\n",
    "train['채취_해동_차이'] = calculate_difference(train['난자_채취_경과일'], train['난자_해동_경과일'])\n",
    "train['해동_혼합_차이'] = calculate_difference(train['난자_해동_경과일'], train['난자_혼합_경과일'])\n",
    "train['혼합_이식_차이'] = calculate_difference(train['난자_혼합_경과일'], train['배아_이식_경과일'])\n",
    "train['이식_해동_차이'] = calculate_difference(train['배아_이식_경과일'], train['배아_해동_경과일'])\n",
    "\n",
    "# 파생 변수 생성 (test 데이터프레임)\n",
    "test['채취_해동_차이'] = calculate_difference(test['난자_채취_경과일'], test['난자_해동_경과일'])\n",
    "test['해동_혼합_차이'] = calculate_difference(test['난자_해동_경과일'], test['난자_혼합_경과일'])\n",
    "test['혼합_이식_차이'] = calculate_difference(test['난자_혼합_경과일'], test['배아_이식_경과일'])\n",
    "test['이식_해동_차이'] = calculate_difference(test['배아_이식_경과일'], test['배아_해동_경과일'])"
   ]
  },
  {
   "cell_type": "code",
   "execution_count": 154,
   "metadata": {},
   "outputs": [],
   "source": [
    "# # 모든 행을 출력하도록 설정\n",
    "pd.set_option('display.max_rows', None)"
   ]
  },
  {
   "cell_type": "code",
   "execution_count": 155,
   "metadata": {},
   "outputs": [
    {
     "name": "stdout",
     "output_type": "stream",
     "text": [
      "Grouped by: 난자_채취_경과일, 난자_혼합_경과일\n",
      "\n",
      "          group  '임신_성공_여부' count     ratio  Total\n",
      "0  (-1.0, -1.0)              1557  0.238401   6531\n",
      "1   (-1.0, 0.0)               607  0.351273   1728\n",
      "2   (0.0, -1.0)                26  0.023445   1109\n",
      "3    (0.0, 0.0)              7674  0.281470  27264\n",
      "4    (0.0, 1.0)                 9  0.157895     57\n",
      "5    (0.0, 2.0)                 4  0.266667     15\n",
      "6    (0.0, 3.0)                 2  0.400000      5\n",
      "7    (0.0, 5.0)                 0  0.000000      4\n"
     ]
    }
   ],
   "source": [
    "summarize_group(train, ['난자_채취_경과일', '난자_혼합_경과일'])"
   ]
  },
  {
   "cell_type": "code",
   "execution_count": 156,
   "metadata": {},
   "outputs": [
    {
     "name": "stdout",
     "output_type": "stream",
     "text": [
      "Grouped by: 배아_이식_경과일, 배아_해동_경과일\n",
      "\n",
      "           group  '임신_성공_여부' count     ratio  Total\n",
      "0   (-1.0, -1.0)               132  0.022506   5865\n",
      "1    (-1.0, 0.0)                14  0.030837    454\n",
      "2    (-1.0, 1.0)                 0  0.000000      1\n",
      "3    (-1.0, 2.0)                 0  0.000000      4\n",
      "4    (-1.0, 3.0)                 0  0.000000     10\n",
      "5    (-1.0, 4.0)                 0  0.000000      2\n",
      "6    (-1.0, 5.0)                 0  0.000000      3\n",
      "7    (0.0, -1.0)                 6  0.428571     14\n",
      "8     (0.0, 0.0)              1022  0.275397   3711\n",
      "9    (1.0, -1.0)                 6  0.240000     25\n",
      "10    (1.0, 0.0)               119  0.216758    549\n",
      "11   (2.0, -1.0)               741  0.197705   3748\n",
      "12    (2.0, 0.0)               116  0.261851    443\n",
      "13    (2.0, 1.0)                 0  0.000000      2\n",
      "14    (2.0, 2.0)                 2  0.181818     11\n",
      "15    (2.0, 5.0)                 0  0.000000      2\n",
      "16   (3.0, -1.0)              1850  0.251803   7347\n",
      "17    (3.0, 0.0)                58  0.343195    169\n",
      "18    (3.0, 2.0)                 0  0.000000      2\n",
      "19    (3.0, 3.0)                 1  0.142857      7\n",
      "20    (3.0, 5.0)                 0  0.000000      1\n",
      "21    (3.0, 6.0)                 1  1.000000      1\n",
      "22   (4.0, -1.0)               152  0.372549    408\n",
      "23    (4.0, 0.0)               106  0.333333    318\n",
      "24    (4.0, 3.0)                 0  0.000000      1\n",
      "25   (5.0, -1.0)              5374  0.411296  13066\n",
      "26    (5.0, 0.0)                 7  0.259259     27\n",
      "27    (5.0, 1.0)                 2  0.500000      4\n",
      "28    (5.0, 2.0)                 1  0.250000      4\n",
      "29    (5.0, 3.0)                 1  0.333333      3\n",
      "30    (5.0, 4.0)                 0  0.000000      1\n",
      "31    (5.0, 5.0)                 8  0.444444     18\n",
      "32   (6.0, -1.0)               147  0.319565    460\n",
      "33    (6.0, 3.0)                 1  0.500000      2\n",
      "34    (6.0, 5.0)                 2  0.333333      6\n",
      "35    (6.0, 6.0)                 0  0.000000      2\n",
      "36   (7.0, -1.0)                10  0.454545     22\n"
     ]
    }
   ],
   "source": [
    "summarize_group(train, ['배아_이식_경과일', '배아_해동_경과일'])"
   ]
  },
  {
   "cell_type": "code",
   "execution_count": 157,
   "metadata": {},
   "outputs": [
    {
     "name": "stdout",
     "output_type": "stream",
     "text": [
      "\n",
      "이식_해동_차이별 임신_성공_여부 비율 및 갯수\n",
      "\n",
      "                 0         1        0       1  Total\n",
      "variable                                            \n",
      "-1.0      0.784314  0.215686    440.0   121.0    561\n",
      "-2.0      0.737668  0.262332    329.0   117.0    446\n",
      "-3.0      0.657143  0.342857    115.0    60.0    175\n",
      "-4.0      0.664596  0.335404    214.0   108.0    322\n",
      "-5.0      0.740741  0.259259     20.0     7.0     27\n",
      "0.0       0.724460  0.275540   2716.0  1033.0   3749\n",
      "2.0       1.000000  0.000000      1.0     0.0      1\n",
      "3.0       0.666667  0.333333      2.0     1.0      3\n",
      "unknown   0.731713  0.268287  22997.0  8432.0  31429\n"
     ]
    }
   ],
   "source": [
    "value_counts_ratio(train, '이식_해동_차이')"
   ]
  },
  {
   "cell_type": "markdown",
   "metadata": {},
   "source": [
    "### 68. 임신_성공_여부"
   ]
  },
  {
   "cell_type": "markdown",
   "metadata": {},
   "source": [
    "해당 시술로부터 임신 성공 여부"
   ]
  },
  {
   "cell_type": "code",
   "execution_count": 158,
   "metadata": {},
   "outputs": [
    {
     "name": "stdout",
     "output_type": "stream",
     "text": [
      "\n",
      "임신_성공_여부별 임신_성공_여부 비율 및 갯수\n",
      "\n",
      "            0    1        0       1  Total\n",
      "variable                                  \n",
      "0         1.0  0.0  26834.0     0.0  26834\n",
      "1         0.0  1.0      0.0  9879.0   9879\n"
     ]
    }
   ],
   "source": [
    "value_counts_ratio(train, '임신_성공_여부')"
   ]
  },
  {
   "cell_type": "markdown",
   "metadata": {},
   "source": [
    "## 변수 상테 확인"
   ]
  },
  {
   "cell_type": "code",
   "execution_count": 159,
   "metadata": {},
   "outputs": [
    {
     "name": "stdout",
     "output_type": "stream",
     "text": [
      "<class 'pandas.core.frame.DataFrame'>\n",
      "Int64Index: 36713 entries, 0 to 36712\n",
      "Data columns (total 90 columns):\n",
      " #   Column                  Non-Null Count  Dtype   \n",
      "---  ------                  --------------  -----   \n",
      " 0   ID                      36713 non-null  object  \n",
      " 1   시술_당시_나이                36713 non-null  object  \n",
      " 2   임신_시도_또는_마지막_임신_경과_연수   36713 non-null  category\n",
      " 3   시술_유형                   36713 non-null  object  \n",
      " 4   배란_자극_여부                36713 non-null  int64   \n",
      " 5   배란_유도_유형                36713 non-null  object  \n",
      " 6   단일_배아_이식_여부             35856 non-null  float64 \n",
      " 7   착상_전_유전_검사_사용_여부        36713 non-null  float64 \n",
      " 8   착상_전_유전_진단_사용_여부        35856 non-null  float64 \n",
      " 9   남성_주_불임_원인              36713 non-null  int64   \n",
      " 10  남성_부_불임_원인              36713 non-null  int64   \n",
      " 11  여성_주_불임_원인              36713 non-null  int64   \n",
      " 12  여성_부_불임_원인              36713 non-null  int64   \n",
      " 13  부부_주_불임_원인              36713 non-null  int64   \n",
      " 14  부부_부_불임_원인              36713 non-null  int64   \n",
      " 15  불명확_불임_원인               36713 non-null  int64   \n",
      " 16  불임_원인_-_난관_질환           36713 non-null  int64   \n",
      " 17  불임_원인_-_남성_요인           36713 non-null  int64   \n",
      " 18  불임_원인_-_배란_장애           36713 non-null  int64   \n",
      " 19  불임_원인_-_자궁경부_문제         36713 non-null  int64   \n",
      " 20  불임_원인_-_자궁내막증           36713 non-null  int64   \n",
      " 21  불임_원인_-_정자_농도           36713 non-null  int64   \n",
      " 22  불임_원인_-_정자_형태           36713 non-null  int64   \n",
      " 23  배아_생성_주요_이유             36713 non-null  object  \n",
      " 24  총_시술_횟수                 36713 non-null  int64   \n",
      " 25  클리닉_내_총_시술_횟수           36713 non-null  int64   \n",
      " 26  IVF_시술_횟수               36713 non-null  int64   \n",
      " 27  DI_시술_횟수                36713 non-null  int64   \n",
      " 28  총_임신_횟수                 36713 non-null  int64   \n",
      " 29  IVF_임신_횟수               36713 non-null  int64   \n",
      " 30  DI_임신_횟수                36713 non-null  int64   \n",
      " 31  총_출산_횟수                 36713 non-null  int64   \n",
      " 32  IVF_출산_횟수               36713 non-null  int64   \n",
      " 33  DI_출산_횟수                36713 non-null  int64   \n",
      " 34  총_생성_배아_수               35856 non-null  float64 \n",
      " 35  미세주입된_난자_수              35856 non-null  float64 \n",
      " 36  미세주입에서_생성된_배아_수         35856 non-null  float64 \n",
      " 37  이식된_배아_수                35856 non-null  float64 \n",
      " 38  미세주입_배아_이식_수            35856 non-null  float64 \n",
      " 39  저장된_배아_수                35856 non-null  float64 \n",
      " 40  미세주입_후_저장된_배아_수         35856 non-null  float64 \n",
      " 41  해동된_배아_수                35856 non-null  float64 \n",
      " 42  해동_난자_수                 35856 non-null  float64 \n",
      " 43  수집된_신선_난자_수             35856 non-null  float64 \n",
      " 44  저장된_신선_난자_수             35856 non-null  float64 \n",
      " 45  혼합된_난자_수                35856 non-null  float64 \n",
      " 46  파트너_정자와_혼합된_난자_수        35856 non-null  float64 \n",
      " 47  기증자_정자와_혼합된_난자_수        35856 non-null  float64 \n",
      " 48  난자_출처                   36713 non-null  object  \n",
      " 49  정자_출처                   36713 non-null  object  \n",
      " 50  난자_기증자_나이               36713 non-null  object  \n",
      " 51  정자_기증자_나이               36713 non-null  object  \n",
      " 52  동결_배아_사용_여부             35856 non-null  float64 \n",
      " 53  신선_배아_사용_여부             35856 non-null  float64 \n",
      " 54  기증_배아_사용_여부             35856 non-null  float64 \n",
      " 55  대리모_여부                  35856 non-null  float64 \n",
      " 56  PGD_시술_여부               36713 non-null  float64 \n",
      " 57  PGS_시술_여부               36713 non-null  float64 \n",
      " 58  난자_채취_경과일               36713 non-null  float64 \n",
      " 59  난자_해동_경과일               36713 non-null  float64 \n",
      " 60  난자_혼합_경과일               36713 non-null  float64 \n",
      " 61  배아_이식_경과일               36713 non-null  float64 \n",
      " 62  배아_해동_경과일               36713 non-null  float64 \n",
      " 63  임신_성공_여부                36713 non-null  int64   \n",
      " 64  변환된_특정_시술_유형            36713 non-null  object  \n",
      " 65  특정_시술_유형_ICSI_더미        36713 non-null  int64   \n",
      " 66  특정_시술_유형_IVF_더미         36713 non-null  int64   \n",
      " 67  특정_시술_유형_AH_더미          36713 non-null  int64   \n",
      " 68  특정_시술_유형_BLASTOCYST_더미  36713 non-null  int64   \n",
      " 69  배아_생성_주요_이유_현재시술용       36713 non-null  int32   \n",
      " 70  배아_생성_주요_이유_기증용         36713 non-null  int32   \n",
      " 71  배아_생성_주요_이유_난자저장용       36713 non-null  int32   \n",
      " 72  배아_생성_주요_이유_배아저장용       36713 non-null  int32   \n",
      " 73  IVF_임신_시술_비율            36713 non-null  float64 \n",
      " 74  IVF_출산_임신_비율            36713 non-null  float64 \n",
      " 75  DI_임신_시술_비율             36713 non-null  float64 \n",
      " 76  DI_출산_임신_비율             36713 non-null  float64 \n",
      " 77  임신_성공률                  36713 non-null  float64 \n",
      " 78  출산_성공률                  36713 non-null  float64 \n",
      " 79  임신_성공율                  36713 non-null  float64 \n",
      " 80  ICSI_효율성                36713 non-null  float64 \n",
      " 81  저장_배아_비율                36713 non-null  float64 \n",
      " 82  해동_난자_비율                36713 non-null  float64 \n",
      " 83  생성_배아_유지율               36713 non-null  float64 \n",
      " 84  파트너_정자_사용_비율            36713 non-null  float64 \n",
      " 85  기증자_나이_더미               36713 non-null  int32   \n",
      " 86  채취_해동_차이                36713 non-null  object  \n",
      " 87  해동_혼합_차이                36713 non-null  object  \n",
      " 88  혼합_이식_차이                36713 non-null  object  \n",
      " 89  이식_해동_차이                36713 non-null  object  \n",
      "dtypes: category(1), float64(40), int32(5), int64(30), object(14)\n",
      "memory usage: 24.5+ MB\n"
     ]
    }
   ],
   "source": [
    "train.info()"
   ]
  },
  {
   "cell_type": "code",
   "execution_count": 160,
   "metadata": {},
   "outputs": [
    {
     "name": "stdout",
     "output_type": "stream",
     "text": [
      "<class 'pandas.core.frame.DataFrame'>\n",
      "Int64Index: 12929 entries, 0 to 12928\n",
      "Data columns (total 89 columns):\n",
      " #   Column                  Non-Null Count  Dtype   \n",
      "---  ------                  --------------  -----   \n",
      " 0   ID                      12929 non-null  object  \n",
      " 1   시술_당시_나이                12929 non-null  object  \n",
      " 2   임신_시도_또는_마지막_임신_경과_연수   12929 non-null  category\n",
      " 3   시술_유형                   12929 non-null  object  \n",
      " 4   배란_자극_여부                12929 non-null  int64   \n",
      " 5   배란_유도_유형                12929 non-null  object  \n",
      " 6   단일_배아_이식_여부             12626 non-null  float64 \n",
      " 7   착상_전_유전_검사_사용_여부        12929 non-null  float64 \n",
      " 8   착상_전_유전_진단_사용_여부        12626 non-null  float64 \n",
      " 9   남성_주_불임_원인              12929 non-null  int64   \n",
      " 10  남성_부_불임_원인              12929 non-null  int64   \n",
      " 11  여성_주_불임_원인              12929 non-null  int64   \n",
      " 12  여성_부_불임_원인              12929 non-null  int64   \n",
      " 13  부부_주_불임_원인              12929 non-null  int64   \n",
      " 14  부부_부_불임_원인              12929 non-null  int64   \n",
      " 15  불명확_불임_원인               12929 non-null  int64   \n",
      " 16  불임_원인_-_난관_질환           12929 non-null  int64   \n",
      " 17  불임_원인_-_남성_요인           12929 non-null  int64   \n",
      " 18  불임_원인_-_배란_장애           12929 non-null  int64   \n",
      " 19  불임_원인_-_자궁경부_문제         12929 non-null  int64   \n",
      " 20  불임_원인_-_자궁내막증           12929 non-null  int64   \n",
      " 21  불임_원인_-_정자_농도           12929 non-null  int64   \n",
      " 22  불임_원인_-_정자_형태           12929 non-null  int64   \n",
      " 23  배아_생성_주요_이유             12929 non-null  object  \n",
      " 24  총_시술_횟수                 12929 non-null  int64   \n",
      " 25  클리닉_내_총_시술_횟수           12929 non-null  int64   \n",
      " 26  IVF_시술_횟수               12929 non-null  int64   \n",
      " 27  DI_시술_횟수                12929 non-null  int64   \n",
      " 28  총_임신_횟수                 12929 non-null  int64   \n",
      " 29  IVF_임신_횟수               12929 non-null  int64   \n",
      " 30  DI_임신_횟수                12929 non-null  int64   \n",
      " 31  총_출산_횟수                 12929 non-null  int64   \n",
      " 32  IVF_출산_횟수               12929 non-null  int64   \n",
      " 33  DI_출산_횟수                12929 non-null  int64   \n",
      " 34  총_생성_배아_수               12626 non-null  float64 \n",
      " 35  미세주입된_난자_수              12626 non-null  float64 \n",
      " 36  미세주입에서_생성된_배아_수         12626 non-null  float64 \n",
      " 37  이식된_배아_수                12626 non-null  float64 \n",
      " 38  미세주입_배아_이식_수            12626 non-null  float64 \n",
      " 39  저장된_배아_수                12626 non-null  float64 \n",
      " 40  미세주입_후_저장된_배아_수         12626 non-null  float64 \n",
      " 41  해동된_배아_수                12626 non-null  float64 \n",
      " 42  해동_난자_수                 12626 non-null  float64 \n",
      " 43  수집된_신선_난자_수             12626 non-null  float64 \n",
      " 44  저장된_신선_난자_수             12626 non-null  float64 \n",
      " 45  혼합된_난자_수                12626 non-null  float64 \n",
      " 46  파트너_정자와_혼합된_난자_수        12626 non-null  float64 \n",
      " 47  기증자_정자와_혼합된_난자_수        12626 non-null  float64 \n",
      " 48  난자_출처                   12929 non-null  object  \n",
      " 49  정자_출처                   12929 non-null  object  \n",
      " 50  난자_기증자_나이               12929 non-null  object  \n",
      " 51  정자_기증자_나이               12929 non-null  object  \n",
      " 52  동결_배아_사용_여부             12626 non-null  float64 \n",
      " 53  신선_배아_사용_여부             12626 non-null  float64 \n",
      " 54  기증_배아_사용_여부             12626 non-null  float64 \n",
      " 55  대리모_여부                  12626 non-null  float64 \n",
      " 56  PGD_시술_여부               12929 non-null  float64 \n",
      " 57  PGS_시술_여부               12929 non-null  float64 \n",
      " 58  난자_채취_경과일               12929 non-null  float64 \n",
      " 59  난자_해동_경과일               12929 non-null  float64 \n",
      " 60  난자_혼합_경과일               12929 non-null  float64 \n",
      " 61  배아_이식_경과일               12929 non-null  float64 \n",
      " 62  배아_해동_경과일               12929 non-null  float64 \n",
      " 63  변환된_특정_시술_유형            12929 non-null  object  \n",
      " 64  특정_시술_유형_ICSI_더미        12929 non-null  int64   \n",
      " 65  특정_시술_유형_IVF_더미         12929 non-null  int64   \n",
      " 66  특정_시술_유형_AH_더미          12929 non-null  int64   \n",
      " 67  특정_시술_유형_BLASTOCYST_더미  12929 non-null  int64   \n",
      " 68  배아_생성_주요_이유_현재시술용       12929 non-null  int32   \n",
      " 69  배아_생성_주요_이유_기증용         12929 non-null  int32   \n",
      " 70  배아_생성_주요_이유_난자저장용       12929 non-null  int32   \n",
      " 71  배아_생성_주요_이유_배아저장용       12929 non-null  int32   \n",
      " 72  IVF_임신_시술_비율            12929 non-null  float64 \n",
      " 73  IVF_출산_임신_비율            12929 non-null  float64 \n",
      " 74  DI_임신_시술_비율             12929 non-null  float64 \n",
      " 75  DI_출산_임신_비율             12929 non-null  float64 \n",
      " 76  임신_성공률                  12929 non-null  float64 \n",
      " 77  출산_성공률                  12929 non-null  float64 \n",
      " 78  임신_성공율                  12929 non-null  float64 \n",
      " 79  ICSI_효율성                12929 non-null  float64 \n",
      " 80  저장_배아_비율                12929 non-null  float64 \n",
      " 81  해동_난자_비율                12929 non-null  float64 \n",
      " 82  생성_배아_유지율               12929 non-null  float64 \n",
      " 83  파트너_정자_사용_비율            12929 non-null  float64 \n",
      " 84  기증자_나이_더미               12929 non-null  int32   \n",
      " 85  채취_해동_차이                12929 non-null  object  \n",
      " 86  해동_혼합_차이                12929 non-null  object  \n",
      " 87  혼합_이식_차이                12929 non-null  object  \n",
      " 88  이식_해동_차이                12929 non-null  object  \n",
      "dtypes: category(1), float64(40), int32(5), int64(29), object(14)\n",
      "memory usage: 8.5+ MB\n"
     ]
    }
   ],
   "source": [
    "test.info()"
   ]
  },
  {
   "cell_type": "markdown",
   "metadata": {},
   "source": [
    "## 데이터 저장"
   ]
  },
  {
   "cell_type": "code",
   "execution_count": 161,
   "metadata": {},
   "outputs": [],
   "source": [
    "# CSV 파일 저장\n",
    "train.to_csv('../data/train_dataset_25_TRYBLT.csv', index=False, encoding='utf-8-sig')\n",
    "test.to_csv('../data/test_dataset_25_TRYBLT.csv', index=False, encoding='utf-8-sig')"
   ]
  },
  {
   "cell_type": "markdown",
   "metadata": {},
   "source": [
    "."
   ]
  }
 ],
 "metadata": {
  "kernelspec": {
   "display_name": "Python 3",
   "language": "python",
   "name": "python3"
  },
  "language_info": {
   "codemirror_mode": {
    "name": "ipython",
    "version": 3
   },
   "file_extension": ".py",
   "mimetype": "text/x-python",
   "name": "python",
   "nbconvert_exporter": "python",
   "pygments_lexer": "ipython3",
   "version": "3.7.8"
  }
 },
 "nbformat": 4,
 "nbformat_minor": 2
}
