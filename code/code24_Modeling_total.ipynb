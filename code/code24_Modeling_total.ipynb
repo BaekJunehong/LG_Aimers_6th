{
 "cells": [
  {
   "cell_type": "markdown",
   "metadata": {},
   "source": [
    "## 난임 환자 대상 임신 성공 여부 예측"
   ]
  },
  {
   "cell_type": "markdown",
   "metadata": {},
   "source": [
    "### LGAimers 6th 온라인 해커톤"
   ]
  },
  {
   "cell_type": "markdown",
   "metadata": {},
   "source": [
    "Import"
   ]
  },
  {
   "cell_type": "code",
   "execution_count": 16,
   "metadata": {},
   "outputs": [],
   "source": [
    "import pandas as pd\n",
    "import lightgbm as lgb\n",
    "from sklearn.preprocessing import OrdinalEncoder\n",
    "from sklearn.model_selection import train_test_split\n",
    "from sklearn.metrics import accuracy_score, f1_score, roc_auc_score, confusion_matrix, ConfusionMatrixDisplay\n",
    "import matplotlib.pyplot as plt\n",
    "from sklearn.linear_model import LogisticRegression\n",
    "import lightgbm as lgb\n",
    "import xgboost as xgb\n",
    "from catboost import CatBoostClassifier\n",
    "from sklearn.ensemble import RandomForestClassifier"
   ]
  },
  {
   "cell_type": "markdown",
   "metadata": {},
   "source": [
    "### Data Load"
   ]
  },
  {
   "cell_type": "code",
   "execution_count": 17,
   "metadata": {},
   "outputs": [],
   "source": [
    "# 데이터 로드\n",
    "Total_train = pd.read_csv('../data/Total_train_dataset_24.csv')\n",
    "Total_test = pd.read_csv('../data/Total_test_dataset_24.csv')"
   ]
  },
  {
   "cell_type": "code",
   "execution_count": 18,
   "metadata": {},
   "outputs": [
    {
     "name": "stdout",
     "output_type": "stream",
     "text": [
      "<class 'pandas.core.frame.DataFrame'>\n",
      "RangeIndex: 256342 entries, 0 to 256341\n",
      "Data columns (total 93 columns):\n",
      " #   Column                  Non-Null Count   Dtype  \n",
      "---  ------                  --------------   -----  \n",
      " 0   ID                      256342 non-null  object \n",
      " 1   시술_시기_코드                256342 non-null  object \n",
      " 2   시술_당시_나이                256342 non-null  object \n",
      " 3   임신_시도_또는_마지막_임신_경과_연수   256342 non-null  object \n",
      " 4   시술_유형                   256342 non-null  object \n",
      " 5   배란_자극_여부                256342 non-null  int64  \n",
      " 6   배란_유도_유형                256342 non-null  object \n",
      " 7   단일_배아_이식_여부             256342 non-null  object \n",
      " 8   착상_전_유전_검사_사용_여부        256342 non-null  float64\n",
      " 9   착상_전_유전_진단_사용_여부        256342 non-null  object \n",
      " 10  남성_주_불임_원인              256342 non-null  int64  \n",
      " 11  남성_부_불임_원인              256342 non-null  int64  \n",
      " 12  여성_주_불임_원인              256342 non-null  int64  \n",
      " 13  여성_부_불임_원인              256342 non-null  int64  \n",
      " 14  부부_주_불임_원인              256342 non-null  int64  \n",
      " 15  부부_부_불임_원인              256342 non-null  int64  \n",
      " 16  불명확_불임_원인               256342 non-null  int64  \n",
      " 17  불임_원인_-_난관_질환           256342 non-null  int64  \n",
      " 18  불임_원인_-_남성_요인           256342 non-null  int64  \n",
      " 19  불임_원인_-_배란_장애           256342 non-null  int64  \n",
      " 20  불임_원인_-_자궁경부_문제         256342 non-null  int64  \n",
      " 21  불임_원인_-_자궁내막증           256342 non-null  int64  \n",
      " 22  불임_원인_-_정자_농도           256342 non-null  int64  \n",
      " 23  불임_원인_-_정자_면역학적_요인      256342 non-null  int64  \n",
      " 24  불임_원인_-_정자_운동성          256342 non-null  int64  \n",
      " 25  불임_원인_-_정자_형태           256342 non-null  int64  \n",
      " 26  배아_생성_주요_이유             256342 non-null  object \n",
      " 27  총_시술_횟수                 256342 non-null  int64  \n",
      " 28  클리닉_내_총_시술_횟수           256342 non-null  int64  \n",
      " 29  IVF_시술_횟수               256342 non-null  int64  \n",
      " 30  DI_시술_횟수                256342 non-null  int64  \n",
      " 31  총_임신_횟수                 256342 non-null  int64  \n",
      " 32  IVF_임신_횟수               256342 non-null  int64  \n",
      " 33  DI_임신_횟수                256342 non-null  int64  \n",
      " 34  총_출산_횟수                 256342 non-null  int64  \n",
      " 35  IVF_출산_횟수               256342 non-null  int64  \n",
      " 36  DI_출산_횟수                256342 non-null  int64  \n",
      " 37  총_생성_배아_수               256342 non-null  object \n",
      " 38  미세주입된_난자_수              256342 non-null  object \n",
      " 39  미세주입에서_생성된_배아_수         256342 non-null  object \n",
      " 40  이식된_배아_수                256342 non-null  object \n",
      " 41  미세주입_배아_이식_수            256342 non-null  object \n",
      " 42  저장된_배아_수                256342 non-null  object \n",
      " 43  미세주입_후_저장된_배아_수         256342 non-null  object \n",
      " 44  해동된_배아_수                256342 non-null  object \n",
      " 45  해동_난자_수                 256342 non-null  object \n",
      " 46  수집된_신선_난자_수             256342 non-null  object \n",
      " 47  저장된_신선_난자_수             256342 non-null  object \n",
      " 48  혼합된_난자_수                256342 non-null  object \n",
      " 49  파트너_정자와_혼합된_난자_수        256342 non-null  object \n",
      " 50  기증자_정자와_혼합된_난자_수        256342 non-null  object \n",
      " 51  난자_출처                   256342 non-null  object \n",
      " 52  정자_출처                   256342 non-null  object \n",
      " 53  난자_기증자_나이               256342 non-null  object \n",
      " 54  정자_기증자_나이               256342 non-null  object \n",
      " 55  동결_배아_사용_여부             256342 non-null  object \n",
      " 56  신선_배아_사용_여부             256342 non-null  object \n",
      " 57  기증_배아_사용_여부             256342 non-null  object \n",
      " 58  대리모_여부                  256342 non-null  object \n",
      " 59  PGD_시술_여부               256342 non-null  float64\n",
      " 60  PGS_시술_여부               256342 non-null  float64\n",
      " 61  난자_채취_경과일               256342 non-null  float64\n",
      " 62  난자_해동_경과일               256342 non-null  float64\n",
      " 63  난자_혼합_경과일               256342 non-null  float64\n",
      " 64  배아_이식_경과일               256342 non-null  float64\n",
      " 65  배아_해동_경과일               256342 non-null  float64\n",
      " 66  임신_성공_여부                256342 non-null  int64  \n",
      " 67  변환된_특정_시술_유형            256342 non-null  object \n",
      " 68  특정_시술_유형_ICSI_더미        256342 non-null  int64  \n",
      " 69  특정_시술_유형_IVF_더미         256342 non-null  int64  \n",
      " 70  특정_시술_유형_AH_더미          256342 non-null  int64  \n",
      " 71  특정_시술_유형_BLASTOCYST_더미  256342 non-null  int64  \n",
      " 72  배아_생성_주요_이유_현재시술용       256342 non-null  int64  \n",
      " 73  배아_생성_주요_이유_기증용         256342 non-null  int64  \n",
      " 74  배아_생성_주요_이유_난자저장용       256342 non-null  int64  \n",
      " 75  배아_생성_주요_이유_배아저장용       256342 non-null  int64  \n",
      " 76  IVF_임신_시술_비율            256342 non-null  float64\n",
      " 77  IVF_출산_임신_비율            256342 non-null  float64\n",
      " 78  DI_임신_시술_비율             256342 non-null  float64\n",
      " 79  DI_출산_임신_비율             256342 non-null  float64\n",
      " 80  임신_성공률                  256342 non-null  float64\n",
      " 81  출산_성공률                  256342 non-null  float64\n",
      " 82  임신_성공율                  256342 non-null  float64\n",
      " 83  ICSI_효율성                256342 non-null  float64\n",
      " 84  저장_배아_비율                256342 non-null  float64\n",
      " 85  해동_난자_비율                256342 non-null  float64\n",
      " 86  생성_배아_유지율               256342 non-null  float64\n",
      " 87  파트너_정자_사용_비율            256342 non-null  float64\n",
      " 88  기증자_나이_더미               256342 non-null  int64  \n",
      " 89  채취_해동_차이                256342 non-null  object \n",
      " 90  해동_혼합_차이                256342 non-null  object \n",
      " 91  혼합_이식_차이                256342 non-null  object \n",
      " 92  이식_해동_차이                256342 non-null  object \n",
      "dtypes: float64(20), int64(37), object(36)\n",
      "memory usage: 181.9+ MB\n"
     ]
    }
   ],
   "source": [
    "Total_train.info()"
   ]
  },
  {
   "cell_type": "code",
   "execution_count": 19,
   "metadata": {},
   "outputs": [
    {
     "name": "stdout",
     "output_type": "stream",
     "text": [
      "<class 'pandas.core.frame.DataFrame'>\n",
      "RangeIndex: 256342 entries, 0 to 256341\n",
      "Data columns (total 93 columns):\n",
      " #   Column                  Non-Null Count   Dtype  \n",
      "---  ------                  --------------   -----  \n",
      " 0   ID                      256342 non-null  object \n",
      " 1   시술_시기_코드                256342 non-null  object \n",
      " 2   시술_당시_나이                256342 non-null  object \n",
      " 3   임신_시도_또는_마지막_임신_경과_연수   256342 non-null  object \n",
      " 4   시술_유형                   256342 non-null  object \n",
      " 5   배란_자극_여부                256342 non-null  int64  \n",
      " 6   배란_유도_유형                256342 non-null  object \n",
      " 7   단일_배아_이식_여부             256342 non-null  object \n",
      " 8   착상_전_유전_검사_사용_여부        256342 non-null  float64\n",
      " 9   착상_전_유전_진단_사용_여부        256342 non-null  object \n",
      " 10  남성_주_불임_원인              256342 non-null  int64  \n",
      " 11  남성_부_불임_원인              256342 non-null  int64  \n",
      " 12  여성_주_불임_원인              256342 non-null  int64  \n",
      " 13  여성_부_불임_원인              256342 non-null  int64  \n",
      " 14  부부_주_불임_원인              256342 non-null  int64  \n",
      " 15  부부_부_불임_원인              256342 non-null  int64  \n",
      " 16  불명확_불임_원인               256342 non-null  int64  \n",
      " 17  불임_원인_-_난관_질환           256342 non-null  int64  \n",
      " 18  불임_원인_-_남성_요인           256342 non-null  int64  \n",
      " 19  불임_원인_-_배란_장애           256342 non-null  int64  \n",
      " 20  불임_원인_-_자궁경부_문제         256342 non-null  int64  \n",
      " 21  불임_원인_-_자궁내막증           256342 non-null  int64  \n",
      " 22  불임_원인_-_정자_농도           256342 non-null  int64  \n",
      " 23  불임_원인_-_정자_면역학적_요인      256342 non-null  int64  \n",
      " 24  불임_원인_-_정자_운동성          256342 non-null  int64  \n",
      " 25  불임_원인_-_정자_형태           256342 non-null  int64  \n",
      " 26  배아_생성_주요_이유             256342 non-null  object \n",
      " 27  총_시술_횟수                 256342 non-null  int64  \n",
      " 28  클리닉_내_총_시술_횟수           256342 non-null  int64  \n",
      " 29  IVF_시술_횟수               256342 non-null  int64  \n",
      " 30  DI_시술_횟수                256342 non-null  int64  \n",
      " 31  총_임신_횟수                 256342 non-null  int64  \n",
      " 32  IVF_임신_횟수               256342 non-null  int64  \n",
      " 33  DI_임신_횟수                256342 non-null  int64  \n",
      " 34  총_출산_횟수                 256342 non-null  int64  \n",
      " 35  IVF_출산_횟수               256342 non-null  int64  \n",
      " 36  DI_출산_횟수                256342 non-null  int64  \n",
      " 37  총_생성_배아_수               256342 non-null  object \n",
      " 38  미세주입된_난자_수              256342 non-null  object \n",
      " 39  미세주입에서_생성된_배아_수         256342 non-null  object \n",
      " 40  이식된_배아_수                256342 non-null  object \n",
      " 41  미세주입_배아_이식_수            256342 non-null  object \n",
      " 42  저장된_배아_수                256342 non-null  object \n",
      " 43  미세주입_후_저장된_배아_수         256342 non-null  object \n",
      " 44  해동된_배아_수                256342 non-null  object \n",
      " 45  해동_난자_수                 256342 non-null  object \n",
      " 46  수집된_신선_난자_수             256342 non-null  object \n",
      " 47  저장된_신선_난자_수             256342 non-null  object \n",
      " 48  혼합된_난자_수                256342 non-null  object \n",
      " 49  파트너_정자와_혼합된_난자_수        256342 non-null  object \n",
      " 50  기증자_정자와_혼합된_난자_수        256342 non-null  object \n",
      " 51  난자_출처                   256342 non-null  object \n",
      " 52  정자_출처                   256342 non-null  object \n",
      " 53  난자_기증자_나이               256342 non-null  object \n",
      " 54  정자_기증자_나이               256342 non-null  object \n",
      " 55  동결_배아_사용_여부             256342 non-null  object \n",
      " 56  신선_배아_사용_여부             256342 non-null  object \n",
      " 57  기증_배아_사용_여부             256342 non-null  object \n",
      " 58  대리모_여부                  256342 non-null  object \n",
      " 59  PGD_시술_여부               256342 non-null  float64\n",
      " 60  PGS_시술_여부               256342 non-null  float64\n",
      " 61  난자_채취_경과일               256342 non-null  float64\n",
      " 62  난자_해동_경과일               256342 non-null  float64\n",
      " 63  난자_혼합_경과일               256342 non-null  float64\n",
      " 64  배아_이식_경과일               256342 non-null  float64\n",
      " 65  배아_해동_경과일               256342 non-null  float64\n",
      " 66  임신_성공_여부                256342 non-null  int64  \n",
      " 67  변환된_특정_시술_유형            256342 non-null  object \n",
      " 68  특정_시술_유형_ICSI_더미        256342 non-null  int64  \n",
      " 69  특정_시술_유형_IVF_더미         256342 non-null  int64  \n",
      " 70  특정_시술_유형_AH_더미          256342 non-null  int64  \n",
      " 71  특정_시술_유형_BLASTOCYST_더미  256342 non-null  int64  \n",
      " 72  배아_생성_주요_이유_현재시술용       256342 non-null  int64  \n",
      " 73  배아_생성_주요_이유_기증용         256342 non-null  int64  \n",
      " 74  배아_생성_주요_이유_난자저장용       256342 non-null  int64  \n",
      " 75  배아_생성_주요_이유_배아저장용       256342 non-null  int64  \n",
      " 76  IVF_임신_시술_비율            256342 non-null  float64\n",
      " 77  IVF_출산_임신_비율            256342 non-null  float64\n",
      " 78  DI_임신_시술_비율             256342 non-null  float64\n",
      " 79  DI_출산_임신_비율             256342 non-null  float64\n",
      " 80  임신_성공률                  256342 non-null  float64\n",
      " 81  출산_성공률                  256342 non-null  float64\n",
      " 82  임신_성공율                  256342 non-null  float64\n",
      " 83  ICSI_효율성                256342 non-null  float64\n",
      " 84  저장_배아_비율                256342 non-null  float64\n",
      " 85  해동_난자_비율                256342 non-null  float64\n",
      " 86  생성_배아_유지율               256342 non-null  float64\n",
      " 87  파트너_정자_사용_비율            256342 non-null  float64\n",
      " 88  기증자_나이_더미               256342 non-null  int64  \n",
      " 89  채취_해동_차이                256342 non-null  object \n",
      " 90  해동_혼합_차이                256342 non-null  object \n",
      " 91  혼합_이식_차이                256342 non-null  object \n",
      " 92  이식_해동_차이                256342 non-null  object \n",
      "dtypes: float64(20), int64(37), object(36)\n",
      "memory usage: 181.9+ MB\n"
     ]
    }
   ],
   "source": [
    "Total_train.info()"
   ]
  },
  {
   "cell_type": "code",
   "execution_count": 20,
   "metadata": {},
   "outputs": [],
   "source": [
    "# ID 열을 제외한 특성과 타겟 변수 분리\n",
    "Total_X = Total_train.drop(['임신_성공_여부', 'ID'], axis=1)\n",
    "Total_y = Total_train['임신_성공_여부']"
   ]
  },
  {
   "cell_type": "markdown",
   "metadata": {},
   "source": [
    "### 인코딩 "
   ]
  },
  {
   "cell_type": "code",
   "execution_count": 21,
   "metadata": {},
   "outputs": [
    {
     "name": "stdout",
     "output_type": "stream",
     "text": [
      "<class 'pandas.core.frame.DataFrame'>\n",
      "RangeIndex: 256342 entries, 0 to 256341\n",
      "Data columns (total 91 columns):\n",
      " #   Column                  Non-Null Count   Dtype  \n",
      "---  ------                  --------------   -----  \n",
      " 0   시술_시기_코드                256342 non-null  object \n",
      " 1   시술_당시_나이                256342 non-null  object \n",
      " 2   임신_시도_또는_마지막_임신_경과_연수   256342 non-null  object \n",
      " 3   시술_유형                   256342 non-null  object \n",
      " 4   배란_자극_여부                256342 non-null  int64  \n",
      " 5   배란_유도_유형                256342 non-null  object \n",
      " 6   단일_배아_이식_여부             256342 non-null  object \n",
      " 7   착상_전_유전_검사_사용_여부        256342 non-null  float64\n",
      " 8   착상_전_유전_진단_사용_여부        256342 non-null  object \n",
      " 9   남성_주_불임_원인              256342 non-null  int64  \n",
      " 10  남성_부_불임_원인              256342 non-null  int64  \n",
      " 11  여성_주_불임_원인              256342 non-null  int64  \n",
      " 12  여성_부_불임_원인              256342 non-null  int64  \n",
      " 13  부부_주_불임_원인              256342 non-null  int64  \n",
      " 14  부부_부_불임_원인              256342 non-null  int64  \n",
      " 15  불명확_불임_원인               256342 non-null  int64  \n",
      " 16  불임_원인_-_난관_질환           256342 non-null  int64  \n",
      " 17  불임_원인_-_남성_요인           256342 non-null  int64  \n",
      " 18  불임_원인_-_배란_장애           256342 non-null  int64  \n",
      " 19  불임_원인_-_자궁경부_문제         256342 non-null  int64  \n",
      " 20  불임_원인_-_자궁내막증           256342 non-null  int64  \n",
      " 21  불임_원인_-_정자_농도           256342 non-null  int64  \n",
      " 22  불임_원인_-_정자_면역학적_요인      256342 non-null  int64  \n",
      " 23  불임_원인_-_정자_운동성          256342 non-null  int64  \n",
      " 24  불임_원인_-_정자_형태           256342 non-null  int64  \n",
      " 25  배아_생성_주요_이유             256342 non-null  object \n",
      " 26  총_시술_횟수                 256342 non-null  int64  \n",
      " 27  클리닉_내_총_시술_횟수           256342 non-null  int64  \n",
      " 28  IVF_시술_횟수               256342 non-null  int64  \n",
      " 29  DI_시술_횟수                256342 non-null  int64  \n",
      " 30  총_임신_횟수                 256342 non-null  int64  \n",
      " 31  IVF_임신_횟수               256342 non-null  int64  \n",
      " 32  DI_임신_횟수                256342 non-null  int64  \n",
      " 33  총_출산_횟수                 256342 non-null  int64  \n",
      " 34  IVF_출산_횟수               256342 non-null  int64  \n",
      " 35  DI_출산_횟수                256342 non-null  int64  \n",
      " 36  총_생성_배아_수               256342 non-null  object \n",
      " 37  미세주입된_난자_수              256342 non-null  object \n",
      " 38  미세주입에서_생성된_배아_수         256342 non-null  object \n",
      " 39  이식된_배아_수                256342 non-null  object \n",
      " 40  미세주입_배아_이식_수            256342 non-null  object \n",
      " 41  저장된_배아_수                256342 non-null  object \n",
      " 42  미세주입_후_저장된_배아_수         256342 non-null  object \n",
      " 43  해동된_배아_수                256342 non-null  object \n",
      " 44  해동_난자_수                 256342 non-null  object \n",
      " 45  수집된_신선_난자_수             256342 non-null  object \n",
      " 46  저장된_신선_난자_수             256342 non-null  object \n",
      " 47  혼합된_난자_수                256342 non-null  object \n",
      " 48  파트너_정자와_혼합된_난자_수        256342 non-null  object \n",
      " 49  기증자_정자와_혼합된_난자_수        256342 non-null  object \n",
      " 50  난자_출처                   256342 non-null  object \n",
      " 51  정자_출처                   256342 non-null  object \n",
      " 52  난자_기증자_나이               256342 non-null  object \n",
      " 53  정자_기증자_나이               256342 non-null  object \n",
      " 54  동결_배아_사용_여부             256342 non-null  object \n",
      " 55  신선_배아_사용_여부             256342 non-null  object \n",
      " 56  기증_배아_사용_여부             256342 non-null  object \n",
      " 57  대리모_여부                  256342 non-null  object \n",
      " 58  PGD_시술_여부               256342 non-null  float64\n",
      " 59  PGS_시술_여부               256342 non-null  float64\n",
      " 60  난자_채취_경과일               256342 non-null  float64\n",
      " 61  난자_해동_경과일               256342 non-null  float64\n",
      " 62  난자_혼합_경과일               256342 non-null  float64\n",
      " 63  배아_이식_경과일               256342 non-null  float64\n",
      " 64  배아_해동_경과일               256342 non-null  float64\n",
      " 65  변환된_특정_시술_유형            256342 non-null  object \n",
      " 66  특정_시술_유형_ICSI_더미        256342 non-null  int64  \n",
      " 67  특정_시술_유형_IVF_더미         256342 non-null  int64  \n",
      " 68  특정_시술_유형_AH_더미          256342 non-null  int64  \n",
      " 69  특정_시술_유형_BLASTOCYST_더미  256342 non-null  int64  \n",
      " 70  배아_생성_주요_이유_현재시술용       256342 non-null  int64  \n",
      " 71  배아_생성_주요_이유_기증용         256342 non-null  int64  \n",
      " 72  배아_생성_주요_이유_난자저장용       256342 non-null  int64  \n",
      " 73  배아_생성_주요_이유_배아저장용       256342 non-null  int64  \n",
      " 74  IVF_임신_시술_비율            256342 non-null  float64\n",
      " 75  IVF_출산_임신_비율            256342 non-null  float64\n",
      " 76  DI_임신_시술_비율             256342 non-null  float64\n",
      " 77  DI_출산_임신_비율             256342 non-null  float64\n",
      " 78  임신_성공률                  256342 non-null  float64\n",
      " 79  출산_성공률                  256342 non-null  float64\n",
      " 80  임신_성공율                  256342 non-null  float64\n",
      " 81  ICSI_효율성                256342 non-null  float64\n",
      " 82  저장_배아_비율                256342 non-null  float64\n",
      " 83  해동_난자_비율                256342 non-null  float64\n",
      " 84  생성_배아_유지율               256342 non-null  float64\n",
      " 85  파트너_정자_사용_비율            256342 non-null  float64\n",
      " 86  기증자_나이_더미               256342 non-null  int64  \n",
      " 87  채취_해동_차이                256342 non-null  object \n",
      " 88  해동_혼합_차이                256342 non-null  object \n",
      " 89  혼합_이식_차이                256342 non-null  object \n",
      " 90  이식_해동_차이                256342 non-null  object \n",
      "dtypes: float64(20), int64(36), object(35)\n",
      "memory usage: 178.0+ MB\n"
     ]
    }
   ],
   "source": [
    "Total_X.info()"
   ]
  },
  {
   "cell_type": "code",
   "execution_count": 22,
   "metadata": {},
   "outputs": [],
   "source": [
    "Total_categorical_columns = [\n",
    "    \"시술_시기_코드\",\n",
    "    \"시술_당시_나이\",\n",
    "    \"임신_시도_또는_마지막_임신_경과_연수\",\n",
    "    \"시술_유형\",\n",
    "    \"배란_유도_유형\",\n",
    "    \"단일_배아_이식_여부\",\n",
    "    \"착상_전_유전_진단_사용_여부\",\n",
    "    \"배아_생성_주요_이유\",\n",
    "    \"총_생성_배아_수\",\n",
    "    \"미세주입된_난자_수\",\n",
    "    \"미세주입에서_생성된_배아_수\",\n",
    "    \"이식된_배아_수\",\n",
    "    \"미세주입_배아_이식_수\",\n",
    "    \"저장된_배아_수\",\n",
    "    \"미세주입_후_저장된_배아_수\",\n",
    "    \"해동된_배아_수\",\n",
    "    \"해동_난자_수\",\n",
    "    \"수집된_신선_난자_수\",\n",
    "    \"저장된_신선_난자_수\",\n",
    "    \"혼합된_난자_수\",\n",
    "    \"파트너_정자와_혼합된_난자_수\",\n",
    "    \"기증자_정자와_혼합된_난자_수\",\n",
    "    \"난자_출처\",\n",
    "    \"정자_출처\",\n",
    "    \"난자_기증자_나이\",\n",
    "    \"정자_기증자_나이\",\n",
    "    \"동결_배아_사용_여부\",\n",
    "    \"신선_배아_사용_여부\",\n",
    "    \"기증_배아_사용_여부\",\n",
    "    \"대리모_여부\",\n",
    "    \"변환된_특정_시술_유형\",\n",
    "    \"채취_해동_차이\",\n",
    "    \"해동_혼합_차이\",\n",
    "    \"혼합_이식_차이\",\n",
    "    \"이식_해동_차이\"\n",
    "]"
   ]
  },
  {
   "cell_type": "code",
   "execution_count": 23,
   "metadata": {},
   "outputs": [],
   "source": [
    "# 모든 범주형 변수를 문자열로 변환\n",
    "Total_X[Total_categorical_columns] = Total_X[Total_categorical_columns].astype(str)\n",
    "Total_test[Total_categorical_columns] = Total_test[Total_categorical_columns].astype(str)\n",
    "\n",
    "# OrdinalEncoder를 사용하여 범주형 변수 인코딩\n",
    "Total_encoder = OrdinalEncoder(handle_unknown='use_encoded_value', unknown_value=-1)\n",
    "\n",
    "Total_X[Total_categorical_columns] = Total_encoder.fit_transform(Total_X[Total_categorical_columns])\n",
    "Total_test[Total_categorical_columns] = Total_encoder.transform(Total_test[Total_categorical_columns])"
   ]
  },
  {
   "cell_type": "markdown",
   "metadata": {},
   "source": [
    "## Modeling"
   ]
  },
  {
   "cell_type": "code",
   "execution_count": 24,
   "metadata": {},
   "outputs": [],
   "source": [
    "# 데이터 분할\n",
    "Total_X_train, Total_X_test, Total_y_train, Total_y_test = train_test_split(Total_X, Total_y, test_size=0.2, random_state=42)"
   ]
  },
  {
   "cell_type": "markdown",
   "metadata": {},
   "source": [
    "### Total 데이터"
   ]
  },
  {
   "cell_type": "code",
   "execution_count": null,
   "metadata": {},
   "outputs": [
    {
     "name": "stdout",
     "output_type": "stream",
     "text": [
      "\n",
      "--- Model Performance ---\n",
      "Model Accuracy: 0.7440363572529208\n",
      "Model F1 Score: 0.19168463196797042\n",
      "Model AUC: 0.737965534194609\n"
     ]
    },
    {
     "data": {
      "image/png": "[encoded data removed]",
      "text/plain": [
       "<Figure size 640x480 with 2 Axes>"
      ]
     },
     "metadata": {},
     "output_type": "display_data"
    }
   ],
   "source": [
    "import lightgbm as lgb\n",
    "from sklearn.metrics import accuracy_score, f1_score, roc_auc_score, confusion_matrix, ConfusionMatrixDisplay\n",
    "import matplotlib.pyplot as plt\n",
    "\n",
    "# 모델 초기화\n",
    "Total_model = lgb.LGBMClassifier(\n",
    "    n_estimators=4471,  # 트리의 개수 (부스팅 반복 횟수)\n",
    "    num_leaves=13,  # 하나의 트리가 가질 수 있는 최대 리프 노드 수\n",
    "    max_depth=279,  # 트리의 최대 깊이 (-1이면 제한 없음)\n",
    "    learning_rate=0.007075124517450591,  # 학습률 (0과 1 사이의 값)\n",
    "    min_child_samples=26,  # 리프 노드가 되기 위한 최소한의 데이터 수\n",
    "    subsample=0.29772991936701476,  # 각 트리를 학습할 때 사용하는 데이터 샘플링 비율\n",
    "    colsample_bytree=0.8913054521763838,  # 각 트리를 학습할 때 사용하는 피처 샘플링 비율\n",
    "    reg_alpha=0.0004860363321690653,  # L1 정규화 (Lasso) 계수\n",
    "    reg_lambda=311.08056657247363,  # L2 정규화 (Ridge) 계수\n",
    "    min_split_gain=0.18214905183450955,  # 노드를 분할하기 위한 최소 손실 감소 값\n",
    "    random_state=42,  # 랜덤 시드 값 (재현성을 위해 설정)\n",
    "    boosting_type='gbdt',  # 부스팅 유형 ('gbdt', 'dart', 'goss', 'rf' 중 하나)\n",
    "    verbose=-1  # 학습 과정의 출력을 제어 (음수이면 출력을 억제)\n",
    ")\n",
    "\n",
    "# 모델 학습\n",
    "Total_model.fit(Total_X_train, Total_y_train)\n",
    "\n",
    "# 예측\n",
    "y_pred = Total_model.predict(Total_X_test)\n",
    "y_pred_proba = Total_model.predict_proba(Total_X_test)[:, 1]\n",
    "\n",
    "# 평가\n",
    "accuracy = accuracy_score(Total_y_test, y_pred)\n",
    "f1 = f1_score(Total_y_test, y_pred)\n",
    "auc = roc_auc_score(Total_y_test, y_pred_proba)\n",
    "cm = confusion_matrix(Total_y_test, y_pred)\n",
    "\n",
    "# 결과 출력\n",
    "print()\n",
    "print(\"--- Model Performance ---\")\n",
    "print(f\"Model Accuracy: {accuracy}\")\n",
    "print(f\"Model F1 Score: {f1}\")\n",
    "print(f\"Model AUC: {auc}\")\n",
    "\n",
    "# 혼동 행렬 출력\n",
    "disp = ConfusionMatrixDisplay(confusion_matrix=cm, display_labels=Total_model.classes_)\n",
    "disp.plot(cmap=plt.cm.Blues)\n",
    "plt.show()"
   ]
  },
  {
   "cell_type": "markdown",
   "metadata": {},
   "source": [
    "데이콘 PUBLIC 0.7414633028"
   ]
  },
  {
   "cell_type": "markdown",
   "metadata": {},
   "source": [
    "## 제출"
   ]
  },
  {
   "cell_type": "code",
   "execution_count": 27,
   "metadata": {},
   "outputs": [],
   "source": [
    "# 모델 학습 및 예측\n",
    "Total_model.fit(Total_X, Total_y)\n",
    "Total_pred_proba = Total_model.predict_proba(Total_test.drop('ID', axis=1))[:, 1]\n",
    "Total_test['probability'] = Total_pred_proba\n",
    "\n",
    "# 최종 제출 파일 생성\n",
    "submission = Total_test[['ID', 'probability']]\n",
    "submission = submission.sort_values(by='ID')"
   ]
  },
  {
   "cell_type": "code",
   "execution_count": null,
   "metadata": {},
   "outputs": [],
   "source": [
    "# 제출 파일 저장\n",
    "submission.to_csv('../submission/code24_total_submit.csv', index=False, encoding='utf-8')"
   ]
  },
  {
   "cell_type": "code",
   "execution_count": 32,
   "metadata": {},
   "outputs": [],
   "source": [
    "import pandas as pd\n",
    "\n",
    "# 두 CSV 파일을 읽어옵니다.\n",
    "df1 = pd.read_csv('../submission/code24_submit.csv')\n",
    "df2 = pd.read_csv('../submission/code24_total_submit.csv')\n",
    "\n",
    "# ID를 기준으로 병합합니다.\n",
    "merged_df = pd.merge(df1, df2, on='ID', suffixes=('_df1', '_df2'))\n",
    "\n",
    "# 'probability' 열을 소프트 보팅하여 새로운 'probability' 열 생성\n",
    "merged_df['probability'] = (merged_df['probability_df1'] + merged_df['probability_df2']) / 2\n",
    "\n",
    "# 최종 제출 파일 생성\n",
    "submission = merged_df[['ID', 'probability']]\n",
    "submission = submission.sort_values(by='ID')\n",
    "\n",
    "# 제출 파일 저장\n",
    "submission.to_csv('../submission/code24_soft_voting_submit.csv', index=False, encoding='utf-8')"
   ]
  },
  {
   "cell_type": "markdown",
   "metadata": {},
   "source": [
    "데이콘 PUBLIC 0.7417987531"
   ]
  },
  {
   "cell_type": "markdown",
   "metadata": {},
   "source": [
    "."
   ]
  }
 ],
 "metadata": {
  "kernelspec": {
   "display_name": "Python 3",
   "language": "python",
   "name": "python3"
  },
  "language_info": {
   "codemirror_mode": {
    "name": "ipython",
    "version": 3
   },
   "file_extension": ".py",
   "mimetype": "text/x-python",
   "name": "python",
   "nbconvert_exporter": "python",
   "pygments_lexer": "ipython3",
   "version": "3.7.8"
  }
 },
 "nbformat": 4,
 "nbformat_minor": 2
}
