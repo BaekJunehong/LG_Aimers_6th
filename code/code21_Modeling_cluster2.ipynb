{
 "cells": [
  {
   "cell_type": "markdown",
   "metadata": {},
   "source": [
    "## 난임 환자 대상 임신 성공 여부 예측"
   ]
  },
  {
   "cell_type": "markdown",
   "metadata": {},
   "source": [
    "### LGAimers 6th 온라인 해커톤"
   ]
  },
  {
   "cell_type": "markdown",
   "metadata": {},
   "source": [
    "Import"
   ]
  },
  {
   "cell_type": "code",
   "execution_count": 1,
   "metadata": {},
   "outputs": [],
   "source": [
    "import pandas as pd\n",
    "import lightgbm as lgb\n",
    "from sklearn.preprocessing import OrdinalEncoder\n",
    "from sklearn.model_selection import train_test_split\n",
    "from sklearn.metrics import accuracy_score, f1_score, roc_auc_score, confusion_matrix, ConfusionMatrixDisplay\n",
    "import matplotlib.pyplot as plt\n",
    "from sklearn.linear_model import LogisticRegression\n",
    "import lightgbm as lgb\n",
    "import xgboost as xgb\n",
    "from catboost import CatBoostClassifier\n",
    "from sklearn.ensemble import RandomForestClassifier\n",
    "\n",
    "import numpy as np\n",
    "import pandas as pd\n",
    "import lightgbm as lgb\n",
    "from sklearn.model_selection import KFold, train_test_split\n",
    "from sklearn.preprocessing import OrdinalEncoder\n",
    "from sklearn.metrics import accuracy_score, f1_score, roc_auc_score, confusion_matrix\n",
    "import torch\n",
    "import torch.nn as nn\n",
    "import torch.optim as optim\n",
    "from torch.utils.data import DataLoader, TensorDataset"
   ]
  },
  {
   "cell_type": "code",
   "execution_count": 2,
   "metadata": {},
   "outputs": [],
   "source": [
    "import numpy as np\n",
    "import pandas as pd\n",
    "import lightgbm as lgb\n",
    "from sklearn.cluster import KMeans\n",
    "from sklearn.metrics import accuracy_score, f1_score, roc_auc_score\n",
    "from sklearn.preprocessing import StandardScaler"
   ]
  },
  {
   "cell_type": "markdown",
   "metadata": {},
   "source": [
    "### Data Load"
   ]
  },
  {
   "cell_type": "code",
   "execution_count": 3,
   "metadata": {},
   "outputs": [],
   "source": [
    "# 데이터 로드\n",
    "IVF_train = pd.read_csv('../data/IVF_train_dataset_20.csv')\n",
    "IVF_test = pd.read_csv('../data/IVF_test_dataset_20.csv')\n",
    "\n",
    "DI_train = pd.read_csv('../data/DI_train_dataset_20.csv')\n",
    "DI_test = pd.read_csv('../data/DI_test_dataset_20.csv')"
   ]
  },
  {
   "cell_type": "code",
   "execution_count": 4,
   "metadata": {},
   "outputs": [],
   "source": [
    "# ID 열을 제외한 특성과 타겟 변수 분리\n",
    "IVF_X = IVF_train.drop(['임신_성공_여부', 'ID'], axis=1)\n",
    "IVF_y = IVF_train['임신_성공_여부']\n",
    "\n",
    "DI_X = DI_train.drop(['임신_성공_여부', 'ID'], axis=1)\n",
    "DI_y = DI_train['임신_성공_여부']"
   ]
  },
  {
   "cell_type": "markdown",
   "metadata": {},
   "source": [
    "### 인코딩 "
   ]
  },
  {
   "cell_type": "code",
   "execution_count": 5,
   "metadata": {},
   "outputs": [],
   "source": [
    "IVF_categorical_columns = [\n",
    "    \"시술_시기_코드\",\n",
    "    \"시술_당시_나이\",\n",
    "    \"임신_시도_또는_마지막_임신_경과_연수\",\n",
    "    \"배란_유도_유형\",\n",
    "    \"배아_생성_주요_이유\",\n",
    "    \"난자_출처\",\n",
    "    \"정자_출처\",\n",
    "    \"난자_기증자_나이\",\n",
    "    \"정자_기증자_나이\",\n",
    "    \"변환된_특정_시술_유형\",\n",
    "    \"채취_해동_차이\",\n",
    "    \"해동_혼합_차이\",\n",
    "    \"혼합_이식_차이\",\n",
    "    \"이식_해동_차이\"\n",
    "]"
   ]
  },
  {
   "cell_type": "code",
   "execution_count": 6,
   "metadata": {},
   "outputs": [],
   "source": [
    "DI_categorical_columns = [\n",
    "    \"시술_시기_코드\",\n",
    "    \"시술_당시_나이\",\n",
    "    \"임신_시도_또는_마지막_임신_경과_연수\",\n",
    "    \"정자_기증자_나이\",\n",
    "    \"변환된_특정_시술_유형\"\n",
    "]"
   ]
  },
  {
   "cell_type": "code",
   "execution_count": 7,
   "metadata": {},
   "outputs": [],
   "source": [
    "# 모든 범주형 변수를 문자열로 변환\n",
    "IVF_X[IVF_categorical_columns] = IVF_X[IVF_categorical_columns].astype(str)\n",
    "DI_X[DI_categorical_columns] = DI_X[DI_categorical_columns].astype(str)\n",
    "IVF_test[IVF_categorical_columns] = IVF_test[IVF_categorical_columns].astype(str)\n",
    "DI_test[DI_categorical_columns] = DI_test[DI_categorical_columns].astype(str)\n",
    "\n",
    "# OrdinalEncoder를 사용하여 범주형 변수 인코딩\n",
    "IVF_encoder = OrdinalEncoder(handle_unknown='use_encoded_value', unknown_value=-1)\n",
    "DI_encoder = OrdinalEncoder(handle_unknown='use_encoded_value', unknown_value=-1)\n",
    "\n",
    "IVF_X[IVF_categorical_columns] = IVF_encoder.fit_transform(IVF_X[IVF_categorical_columns])\n",
    "DI_X[DI_categorical_columns] = DI_encoder.fit_transform(DI_X[DI_categorical_columns])\n",
    "IVF_test[IVF_categorical_columns] = IVF_encoder.transform(IVF_test[IVF_categorical_columns])\n",
    "DI_test[DI_categorical_columns] = DI_encoder.transform(DI_test[DI_categorical_columns])"
   ]
  },
  {
   "cell_type": "code",
   "execution_count": 8,
   "metadata": {},
   "outputs": [],
   "source": [
    "# 데이터 분할\n",
    "IVF_X_train, IVF_X_test, IVF_y_train, IVF_y_test = train_test_split(IVF_X, IVF_y, test_size=0.2, random_state=42)\n",
    "DI_X_train, DI_X_test, DI_y_train, DI_y_test = train_test_split(DI_X, DI_y, test_size=0.2, random_state=42)"
   ]
  },
  {
   "cell_type": "markdown",
   "metadata": {},
   "source": [
    "## Modeling"
   ]
  },
  {
   "cell_type": "markdown",
   "metadata": {},
   "source": [
    "train 데이터의 일부를 검증데이터로 사용하여 성능지표 출력"
   ]
  },
  {
   "cell_type": "code",
   "execution_count": 9,
   "metadata": {},
   "outputs": [],
   "source": [
    "# K-Fold를 사용하여 IVF와 DI의 잘못된 예측 데이터 수집\n",
    "kf = KFold(n_splits=5, shuffle=True, random_state=42)\n",
    "\n",
    "IVF_wrong_predictions = []\n",
    "DI_wrong_predictions = []\n",
    "\n",
    "# K-Fold 교차 검증을 통한 잘못된 예측 수집 함수\n",
    "def collect_wrong_predictions(X, y, wrong_predictions, model_params):\n",
    "    for train_idx, val_idx in kf.split(X):\n",
    "        X_train, X_val = X.iloc[train_idx], X.iloc[val_idx]\n",
    "        y_train, y_val = y.iloc[train_idx], y.iloc[val_idx]\n",
    "        \n",
    "        model = lgb.LGBMClassifier(**model_params)\n",
    "        model.fit(X_train, y_train)\n",
    "        y_pred = model.predict(X_val)\n",
    "        \n",
    "        wrong_idx = val_idx[y_pred != y_val.values]\n",
    "        wrong_predictions.append(X.iloc[wrong_idx])\n",
    "\n",
    "# IVF와 DI에 대해 잘못된 예측 수집\n",
    "IVF_model_params = {\n",
    "    'n_estimators': 4471,\n",
    "    'num_leaves': 13,\n",
    "    'max_depth': 279,\n",
    "    'learning_rate': 0.007075124517450591,\n",
    "    'min_child_samples': 26,\n",
    "    'subsample': 0.29772991936701476,\n",
    "    'colsample_bytree': 0.8913054521763838,\n",
    "    'reg_alpha': 0.0004860363321690653,\n",
    "    'reg_lambda': 311.08056657247363,\n",
    "    'min_split_gain': 0.18214905183450955,\n",
    "    'random_state': 42,\n",
    "    'boosting_type': 'gbdt',\n",
    "    'verbose': -1\n",
    "}\n",
    "\n",
    "DI_model_params = {\n",
    "    'n_estimators': 1816,\n",
    "    'num_leaves': 3926,\n",
    "    'max_depth': 259,\n",
    "    'learning_rate': 0.00238377640011148,\n",
    "    'min_child_samples': 1,\n",
    "    'subsample': 0.7610056627240331,\n",
    "    'colsample_bytree': 0.6655579164853634,\n",
    "    'reg_alpha': 0.00025227758337188327,\n",
    "    'reg_lambda': 76.744107215122684,\n",
    "    'min_split_gain': 0.007773520329665474,\n",
    "    'random_state': 42,\n",
    "    'boosting_type': 'gbdt',\n",
    "    'verbose': -1\n",
    "}\n",
    "\n",
    "collect_wrong_predictions(IVF_X, IVF_y, IVF_wrong_predictions, IVF_model_params)\n",
    "collect_wrong_predictions(DI_X, DI_y, DI_wrong_predictions, DI_model_params)"
   ]
  },
  {
   "cell_type": "code",
   "execution_count": 62,
   "metadata": {},
   "outputs": [
    {
     "name": "stdout",
     "output_type": "stream",
     "text": [
      "IVF 군집화 결과:\n",
      "cluster\n",
      "0    50708\n",
      "1    13532\n",
      "dtype: int64\n",
      "DI 군집화 결과:\n",
      "cluster\n",
      "0    487\n",
      "1    324\n",
      "dtype: int64\n",
      "제출 파일(code21_1_submit.csv) 생성 완료!\n"
     ]
    }
   ],
   "source": [
    "# 잘못된 예측 데이터 결합\n",
    "IVF_wrong_data = pd.concat(IVF_wrong_predictions).fillna(0)\n",
    "DI_wrong_data = pd.concat(DI_wrong_predictions).fillna(0)\n",
    "\n",
    "# KMeans 군집화 모델 학습 (IVF)\n",
    "kmeans_IVF = KMeans(n_clusters=2, random_state=42)\n",
    "clusters_IVF = kmeans_IVF.fit_predict(IVF_wrong_data)\n",
    "IVF_wrong_data['cluster'] = clusters_IVF\n",
    "\n",
    "# KMeans 군집화 모델 학습 (DI)\n",
    "kmeans_DI = KMeans(n_clusters=2, random_state=42)\n",
    "clusters_DI = kmeans_DI.fit_predict(DI_wrong_data)\n",
    "DI_wrong_data['cluster'] = clusters_DI\n",
    "\n",
    "# 군집화된 데이터 확인\n",
    "print(\"IVF 군집화 결과:\")\n",
    "print(IVF_wrong_data.groupby('cluster').size())\n",
    "print(\"DI 군집화 결과:\")\n",
    "print(DI_wrong_data.groupby('cluster').size())\n",
    "\n",
    "# 전체 train 데이터에 대해 LGBM 모델 학습 (IVF)\n",
    "IVF_model_final = lgb.LGBMClassifier(**IVF_model_params)\n",
    "IVF_model_final.fit(IVF_X, IVF_y)\n",
    "\n",
    "# 전체 train 데이터에 대해 LGBM 모델 학습 (DI)\n",
    "DI_model_final = lgb.LGBMClassifier(**DI_model_params)\n",
    "DI_model_final.fit(DI_X, DI_y)\n",
    "\n",
    "# 전체 train 데이터에 대해 랜덤 포레스트 모델 학습 (IVF)\n",
    "IVF_rf_model = RandomForestClassifier(random_state=42)\n",
    "IVF_rf_model.fit(IVF_X, IVF_y)\n",
    "\n",
    "# 전체 train 데이터에 대해 랜덤 포레스트 모델 학습 (DI)\n",
    "DI_rf_model = RandomForestClassifier(random_state=42)\n",
    "DI_rf_model.fit(DI_X, DI_y)\n",
    "\n",
    "# 테스트 데이터에 대한 확률 예측 수행 (IVF)\n",
    "IVF_test_pred_proba = IVF_model_final.predict_proba(IVF_test.drop('ID', axis=1))[:, 1]\n",
    "\n",
    "# 테스트 데이터에 대한 확률 예측 수행 (DI)\n",
    "DI_test_pred_proba = DI_model_final.predict_proba(DI_test.drop('ID', axis=1))[:, 1]\n",
    "\n",
    "# 테스트 데이터에 대한 군집화 예측 (IVF)\n",
    "IVF_test_data = IVF_test.drop(['ID'], axis=1).fillna(0)\n",
    "test_clusters_IVF = kmeans_IVF.predict(IVF_test_data)\n",
    "\n",
    "# 테스트 데이터에 대한 군집화 예측 (DI)\n",
    "DI_test_data = DI_test.drop(['ID'], axis=1).fillna(0)\n",
    "test_clusters_DI = kmeans_DI.predict(DI_test_data)\n",
    "\n",
    "# 군집화 모델이 잘못된 예측을 할 것으로 예측한 행의 확률값을 랜덤 포레스트로 예측 (IVF)\n",
    "IVF_test_pred_proba[test_clusters_IVF == 1] = IVF_rf_model.predict_proba(IVF_test_data[test_clusters_IVF == 1])[:, 1]\n",
    "\n",
    "# 군집화 모델이 잘못된 예측을 할 것으로 예측한 행의 확률값을 랜덤 포레스트로 예측 (DI)\n",
    "DI_test_pred_proba[test_clusters_DI == 1] = DI_rf_model.predict_proba(DI_test_data[test_clusters_DI == 1])[:, 1]\n",
    "\n",
    "# 최종 제출 파일 생성\n",
    "IVF_submission = pd.DataFrame({'ID': IVF_test['ID'], 'probability': IVF_test_pred_proba})\n",
    "DI_submission = pd.DataFrame({'ID': DI_test['ID'], 'probability': DI_test_pred_proba})\n",
    "\n",
    "submission = pd.concat([IVF_submission, DI_submission])\n",
    "submission.to_csv('../submission/code21_1_submit.csv', index=False)\n",
    "\n",
    "print(\"제출 파일(code21_1_submit.csv) 생성 완료!\")"
   ]
  },
  {
   "cell_type": "markdown",
   "metadata": {},
   "source": [
    "데이콘 PUBLIC 0.7301773912"
   ]
  },
  {
   "cell_type": "markdown",
   "metadata": {},
   "source": [
    "엑셀 제대로 뽑혔나 확인"
   ]
  },
  {
   "cell_type": "code",
   "execution_count": 63,
   "metadata": {},
   "outputs": [
    {
     "data": {
      "text/plain": [
       "86174"
      ]
     },
     "execution_count": 63,
     "metadata": {},
     "output_type": "execute_result"
    }
   ],
   "source": [
    "import pandas as pd\n",
    "\n",
    "# 두 CSV 파일을 읽어옵니다.\n",
    "df1 = pd.read_csv('../submission/code21_1_submit.csv')\n",
    "df2 = pd.read_csv('../submission/code21_submit.csv')\n",
    "\n",
    "# '임신_성공_여부' 열을 비교합니다.\n",
    "comparison = df1['probability'] == df2['probability']\n",
    "\n",
    "# 차이점이 있는 행을 출력합니다.\n",
    "differences = df1[~comparison]\n",
    "\n",
    "len(differences)"
   ]
  },
  {
   "cell_type": "code",
   "execution_count": 64,
   "metadata": {},
   "outputs": [
    {
     "data": {
      "text/plain": [
       "90048"
      ]
     },
     "execution_count": 64,
     "metadata": {},
     "output_type": "execute_result"
    }
   ],
   "source": [
    "import pandas as pd\n",
    "\n",
    "# 두 CSV 파일을 읽어옵니다.\n",
    "df1 = pd.read_csv('../submission/code21_1_submit.csv')\n",
    "df2 = pd.read_csv('../submission/code20_submit.csv')\n",
    "\n",
    "# '임신_성공_여부' 열을 비교합니다.\n",
    "comparison = df1['probability'] == df2['probability']\n",
    "\n",
    "# 차이점이 있는 행을 출력합니다.\n",
    "differences = df1[~comparison]\n",
    "\n",
    "len(differences)"
   ]
  },
  {
   "cell_type": "code",
   "execution_count": 65,
   "metadata": {},
   "outputs": [
    {
     "name": "stdout",
     "output_type": "stream",
     "text": [
      "<class 'pandas.core.frame.DataFrame'>\n",
      "RangeIndex: 90067 entries, 0 to 90066\n",
      "Data columns (total 2 columns):\n",
      " #   Column       Non-Null Count  Dtype  \n",
      "---  ------       --------------  -----  \n",
      " 0   ID           90067 non-null  object \n",
      " 1   probability  90067 non-null  float64\n",
      "dtypes: float64(1), object(1)\n",
      "memory usage: 1.4+ MB\n"
     ]
    }
   ],
   "source": [
    "df1.info()"
   ]
  },
  {
   "cell_type": "code",
   "execution_count": 68,
   "metadata": {},
   "outputs": [
    {
     "data": {
      "text/html": [
       "<div>\n",
       "<style scoped>\n",
       "    .dataframe tbody tr th:only-of-type {\n",
       "        vertical-align: middle;\n",
       "    }\n",
       "\n",
       "    .dataframe tbody tr th {\n",
       "        vertical-align: top;\n",
       "    }\n",
       "\n",
       "    .dataframe thead th {\n",
       "        text-align: right;\n",
       "    }\n",
       "</style>\n",
       "<table border=\"1\" class=\"dataframe\">\n",
       "  <thead>\n",
       "    <tr style=\"text-align: right;\">\n",
       "      <th></th>\n",
       "      <th>ID</th>\n",
       "      <th>probability</th>\n",
       "    </tr>\n",
       "  </thead>\n",
       "  <tbody>\n",
       "    <tr>\n",
       "      <th>90057</th>\n",
       "      <td>TEST_89734</td>\n",
       "      <td>0.086779</td>\n",
       "    </tr>\n",
       "    <tr>\n",
       "      <th>90058</th>\n",
       "      <td>TEST_89759</td>\n",
       "      <td>0.057310</td>\n",
       "    </tr>\n",
       "    <tr>\n",
       "      <th>90059</th>\n",
       "      <td>TEST_89786</td>\n",
       "      <td>0.320000</td>\n",
       "    </tr>\n",
       "    <tr>\n",
       "      <th>90060</th>\n",
       "      <td>TEST_89846</td>\n",
       "      <td>0.101747</td>\n",
       "    </tr>\n",
       "    <tr>\n",
       "      <th>90061</th>\n",
       "      <td>TEST_89865</td>\n",
       "      <td>0.010000</td>\n",
       "    </tr>\n",
       "    <tr>\n",
       "      <th>90062</th>\n",
       "      <td>TEST_89872</td>\n",
       "      <td>0.203833</td>\n",
       "    </tr>\n",
       "    <tr>\n",
       "      <th>90063</th>\n",
       "      <td>TEST_89907</td>\n",
       "      <td>0.180000</td>\n",
       "    </tr>\n",
       "    <tr>\n",
       "      <th>90064</th>\n",
       "      <td>TEST_89940</td>\n",
       "      <td>0.060899</td>\n",
       "    </tr>\n",
       "    <tr>\n",
       "      <th>90065</th>\n",
       "      <td>TEST_90001</td>\n",
       "      <td>0.164117</td>\n",
       "    </tr>\n",
       "    <tr>\n",
       "      <th>90066</th>\n",
       "      <td>TEST_90046</td>\n",
       "      <td>0.094943</td>\n",
       "    </tr>\n",
       "  </tbody>\n",
       "</table>\n",
       "</div>"
      ],
      "text/plain": [
       "               ID  probability\n",
       "90057  TEST_89734     0.086779\n",
       "90058  TEST_89759     0.057310\n",
       "90059  TEST_89786     0.320000\n",
       "90060  TEST_89846     0.101747\n",
       "90061  TEST_89865     0.010000\n",
       "90062  TEST_89872     0.203833\n",
       "90063  TEST_89907     0.180000\n",
       "90064  TEST_89940     0.060899\n",
       "90065  TEST_90001     0.164117\n",
       "90066  TEST_90046     0.094943"
      ]
     },
     "execution_count": 68,
     "metadata": {},
     "output_type": "execute_result"
    }
   ],
   "source": [
    "df1.tail(10)"
   ]
  },
  {
   "cell_type": "code",
   "execution_count": 69,
   "metadata": {},
   "outputs": [
    {
     "data": {
      "text/html": [
       "<div>\n",
       "<style scoped>\n",
       "    .dataframe tbody tr th:only-of-type {\n",
       "        vertical-align: middle;\n",
       "    }\n",
       "\n",
       "    .dataframe tbody tr th {\n",
       "        vertical-align: top;\n",
       "    }\n",
       "\n",
       "    .dataframe thead th {\n",
       "        text-align: right;\n",
       "    }\n",
       "</style>\n",
       "<table border=\"1\" class=\"dataframe\">\n",
       "  <thead>\n",
       "    <tr style=\"text-align: right;\">\n",
       "      <th></th>\n",
       "      <th>ID</th>\n",
       "      <th>probability</th>\n",
       "    </tr>\n",
       "  </thead>\n",
       "  <tbody>\n",
       "    <tr>\n",
       "      <th>90057</th>\n",
       "      <td>TEST_90057</td>\n",
       "      <td>0.311083</td>\n",
       "    </tr>\n",
       "    <tr>\n",
       "      <th>90058</th>\n",
       "      <td>TEST_90058</td>\n",
       "      <td>0.213900</td>\n",
       "    </tr>\n",
       "    <tr>\n",
       "      <th>90059</th>\n",
       "      <td>TEST_90059</td>\n",
       "      <td>0.419320</td>\n",
       "    </tr>\n",
       "    <tr>\n",
       "      <th>90060</th>\n",
       "      <td>TEST_90060</td>\n",
       "      <td>0.273916</td>\n",
       "    </tr>\n",
       "    <tr>\n",
       "      <th>90061</th>\n",
       "      <td>TEST_90061</td>\n",
       "      <td>0.401884</td>\n",
       "    </tr>\n",
       "    <tr>\n",
       "      <th>90062</th>\n",
       "      <td>TEST_90062</td>\n",
       "      <td>0.001331</td>\n",
       "    </tr>\n",
       "    <tr>\n",
       "      <th>90063</th>\n",
       "      <td>TEST_90063</td>\n",
       "      <td>0.300819</td>\n",
       "    </tr>\n",
       "    <tr>\n",
       "      <th>90064</th>\n",
       "      <td>TEST_90064</td>\n",
       "      <td>0.520521</td>\n",
       "    </tr>\n",
       "    <tr>\n",
       "      <th>90065</th>\n",
       "      <td>TEST_90065</td>\n",
       "      <td>0.216879</td>\n",
       "    </tr>\n",
       "    <tr>\n",
       "      <th>90066</th>\n",
       "      <td>TEST_90066</td>\n",
       "      <td>0.001120</td>\n",
       "    </tr>\n",
       "  </tbody>\n",
       "</table>\n",
       "</div>"
      ],
      "text/plain": [
       "               ID  probability\n",
       "90057  TEST_90057     0.311083\n",
       "90058  TEST_90058     0.213900\n",
       "90059  TEST_90059     0.419320\n",
       "90060  TEST_90060     0.273916\n",
       "90061  TEST_90061     0.401884\n",
       "90062  TEST_90062     0.001331\n",
       "90063  TEST_90063     0.300819\n",
       "90064  TEST_90064     0.520521\n",
       "90065  TEST_90065     0.216879\n",
       "90066  TEST_90066     0.001120"
      ]
     },
     "execution_count": 69,
     "metadata": {},
     "output_type": "execute_result"
    }
   ],
   "source": [
    "df2.tail(10)"
   ]
  },
  {
   "cell_type": "code",
   "execution_count": 32,
   "metadata": {},
   "outputs": [
    {
     "name": "stdout",
     "output_type": "stream",
     "text": [
      "<class 'pandas.core.frame.DataFrame'>\n",
      "RangeIndex: 90067 entries, 0 to 90066\n",
      "Data columns (total 2 columns):\n",
      " #   Column       Non-Null Count  Dtype  \n",
      "---  ------       --------------  -----  \n",
      " 0   ID           90067 non-null  object \n",
      " 1   probability  90067 non-null  float64\n",
      "dtypes: float64(1), object(1)\n",
      "memory usage: 1.4+ MB\n"
     ]
    }
   ],
   "source": [
    "df2.info()"
   ]
  },
  {
   "cell_type": "code",
   "execution_count": 26,
   "metadata": {},
   "outputs": [],
   "source": [
    "df3 = pd.read_csv('../submission/sample_submission.csv')"
   ]
  },
  {
   "cell_type": "code",
   "execution_count": 27,
   "metadata": {},
   "outputs": [
    {
     "name": "stdout",
     "output_type": "stream",
     "text": [
      "<class 'pandas.core.frame.DataFrame'>\n",
      "RangeIndex: 90067 entries, 0 to 90066\n",
      "Data columns (total 2 columns):\n",
      " #   Column       Non-Null Count  Dtype  \n",
      "---  ------       --------------  -----  \n",
      " 0   ID           90067 non-null  object \n",
      " 1   probability  90067 non-null  float64\n",
      "dtypes: float64(1), object(1)\n",
      "memory usage: 1.4+ MB\n"
     ]
    }
   ],
   "source": [
    "df3.info()"
   ]
  },
  {
   "cell_type": "markdown",
   "metadata": {},
   "source": [
    "."
   ]
  }
 ],
 "metadata": {
  "kernelspec": {
   "display_name": "Python 3",
   "language": "python",
   "name": "python3"
  },
  "language_info": {
   "codemirror_mode": {
    "name": "ipython",
    "version": 3
   },
   "file_extension": ".py",
   "mimetype": "text/x-python",
   "name": "python",
   "nbconvert_exporter": "python",
   "pygments_lexer": "ipython3",
   "version": "3.7.8"
  }
 },
 "nbformat": 4,
 "nbformat_minor": 2
}
