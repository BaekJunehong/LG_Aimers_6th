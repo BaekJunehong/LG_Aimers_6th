{
 "cells": [
  {
   "cell_type": "markdown",
   "metadata": {},
   "source": [
    "## 난임 환자 대상 임신 성공 여부 예측"
   ]
  },
  {
   "cell_type": "markdown",
   "metadata": {},
   "source": [
    "### LGAimers 6th 온라인 해커톤"
   ]
  },
  {
   "cell_type": "markdown",
   "metadata": {},
   "source": [
    "Import"
   ]
  },
  {
   "cell_type": "code",
   "execution_count": 1,
   "metadata": {},
   "outputs": [],
   "source": [
    "import numpy as np\n",
    "import pandas as pd\n",
    "import seaborn as sns\n",
    "import matplotlib.pyplot as plt\n",
    "\n",
    "import os\n",
    "from pprint import pprint"
   ]
  },
  {
   "cell_type": "code",
   "execution_count": 2,
   "metadata": {},
   "outputs": [],
   "source": [
    "import platform\n",
    "from matplotlib import rc\n",
    "\n",
    "# 운영 체제에 따라 폰트 설정\n",
    "if platform.system() == 'Windows':  # Windows 환경\n",
    "    rc('font', family='Malgun Gothic')  # 맑은 고딕\n",
    "\n",
    "# 음수 표시 가능하도록 설정\n",
    "plt.rcParams['axes.unicode_minus'] = False"
   ]
  },
  {
   "cell_type": "markdown",
   "metadata": {},
   "source": [
    "반복적으로 쓰는 함수툴"
   ]
  },
  {
   "cell_type": "code",
   "execution_count": 3,
   "metadata": {},
   "outputs": [],
   "source": [
    "def plot_box(df, col_name):\n",
    "    \"\"\"\n",
    "    주어진 데이터프레임과 열 이름에 대해 박스 플롯을 그리는 함수.\n",
    "\n",
    "    Parameters:\n",
    "    df (pd.DataFrame): 데이터프레임\n",
    "    col_name (str): 열 이름\n",
    "    \"\"\"\n",
    "    plt.figure(figsize=(7, 4))\n",
    "    plt.boxplot(df[col_name], vert=False)\n",
    "    plt.xlabel(col_name)\n",
    "    plt.title(f'Box Plot of {col_name}')\n",
    "    plt.show()\n",
    "\n",
    "def value_counts_ratio(df, col_name, target_name='임신_성공_여부'):\n",
    "    \"\"\"\n",
    "    주어진 데이터프레임의 특정 열에 대해 각 값마다 타겟 변수의 비율과 갯수, 총 갯수를 출력하는 함수.\n",
    "\n",
    "    Parameters:\n",
    "    df (pd.DataFrame): 데이터프레임\n",
    "    col_name (str): 열 이름\n",
    "    target_name (str): 타겟 변수 이름\n",
    "    \"\"\"\n",
    "    # 각 값마다 타겟 변수의 비율 계산\n",
    "    value_counts = df.groupby(col_name)[target_name].value_counts(normalize=True).unstack().fillna(0)\n",
    "    \n",
    "    # 각 값마다 타겟 변수의 갯수 계산\n",
    "    counts = df.groupby(col_name)[target_name].value_counts().unstack().fillna(0)\n",
    "    \n",
    "    # 각 값마다 총 갯수 계산\n",
    "    total_counts = df[col_name].value_counts().rename('Total_Count')\n",
    "    \n",
    "    # 비율과 갯수를 합침\n",
    "    result = value_counts.join(counts, lsuffix='_ratio', rsuffix='_count')\n",
    "    \n",
    "    # 총 갯수를 합침\n",
    "    result = result.join(total_counts, on=col_name)\n",
    "    \n",
    "    # 출력 형식 조정\n",
    "    result.index.name = 'variable'\n",
    "    print(f\"\\n{col_name}별 {target_name} 비율 및 갯수\\n\")\n",
    "    print(result.rename(columns=lambda x: x.split('_')[0]))\n",
    "\n",
    "def summarize_group(df, group_by_columns):\n",
    "    \"\"\"\n",
    "    주어진 데이터프레임을 특정 열들로 그룹화하여 각 그룹의 '임신_성공_여부' 비율과 갯수를 요약하는 함수.\n",
    "\n",
    "    Parameters:\n",
    "    df (pd.DataFrame): 데이터프레임\n",
    "    group_by_columns (list): 그룹화할 열 이름들의 리스트\n",
    "    \"\"\"\n",
    "    # 데이터프레임을 그룹화\n",
    "    grouped_df = df.groupby(group_by_columns)\n",
    "    \n",
    "    # 결과를 저장할 리스트 초기화\n",
    "    results = []\n",
    "    \n",
    "    # 그룹화된 데이터프레임의 내용을 확인하는 코드\n",
    "    for name, group in grouped_df:\n",
    "        # 그룹의 갯수 계산\n",
    "        group_count = group.shape[0]\n",
    "        \n",
    "        # '임신_성공_여부' 변수의 '임신 성공' 비율과 갯수 계산\n",
    "        success_count = group['임신_성공_여부'].value_counts().get(1, 0)\n",
    "        success_ratio = success_count / group_count\n",
    "        \n",
    "        # 결과 리스트에 추가\n",
    "        results.append([name, success_count, success_ratio, group_count])\n",
    "    \n",
    "    # 결과 리스트를 데이터프레임으로 변환\n",
    "    results_df = pd.DataFrame(results, columns=['group', \"'임신_성공_여부' count\", 'ratio', 'Total'])\n",
    "    \n",
    "    # 그룹화된 변수들의 이름을 제목행으로 출력\n",
    "    print(f\"Grouped by: {', '.join(group_by_columns)}\")\n",
    "    print()\n",
    "    # 데이터프레임 출력\n",
    "    print(results_df)\n",
    "\n",
    "def plot_ratio(df, group_by_column, target_column='임신_성공_여부', success_value=1):\n",
    "    \"\"\"\n",
    "    주어진 데이터프레임을 특정 열로 그룹화하여 각 그룹의 타겟 변수의 성공 비율을 시각화하는 함수.\n",
    "\n",
    "    Parameters:\n",
    "    df (pd.DataFrame): 데이터프레임\n",
    "    group_by_column (str): 그룹화할 열 이름\n",
    "    target_column (str): 타겟 변수 이름\n",
    "    success_value (int): 타겟 변수의 성공을 나타내는 값\n",
    "    \"\"\"\n",
    "    # 데이터프레임을 그룹화\n",
    "    grouped_df = df.groupby(group_by_column)\n",
    "    \n",
    "    # 결과를 저장할 리스트 초기화\n",
    "    results = []\n",
    "    \n",
    "    # 그룹화된 데이터프레임의 내용을 확인하는 코드\n",
    "    for name, group in grouped_df:\n",
    "        # 그룹의 갯수 계산\n",
    "        group_count = group.shape[0]\n",
    "        \n",
    "        # '임신_성공_여부' 변수의 '성공' 비율과 갯수 계산\n",
    "        success_count = group[target_column].value_counts().get(success_value, 0)\n",
    "        success_ratio = success_count / group_count\n",
    "        \n",
    "        # 결과 리스트에 추가\n",
    "        results.append([name, success_count, success_ratio, group_count])\n",
    "    \n",
    "    # 결과 리스트를 데이터프레임으로 변환\n",
    "    results_df = pd.DataFrame(results, columns=['group', f\"'{success_value}' count\", 'ratio', 'Total'])\n",
    "    \n",
    "    # 그래프 크기 설정\n",
    "    plt.figure(figsize=(10, 5))\n",
    "    \n",
    "    # 막대 그래프 생성\n",
    "    ax = results_df.plot(kind='bar', x='group', y='ratio', legend=False)\n",
    "    \n",
    "    # 각 막대 위에 임신 성공 여부 갯수와 총 갯수 표시\n",
    "    for i, (success_count, total) in enumerate(zip(results_df[f\"'{success_value}' count\"], results_df['Total'])):\n",
    "        ax.text(i, results_df['ratio'][i], f'{success_count} ({total})', ha='center', va='bottom', fontsize=8)\n",
    "    \n",
    "    # 그래프 제목 및 축 레이블 설정\n",
    "    ax.set_title(f'{success_value} Ratio by {group_by_column}')\n",
    "    ax.set_xlabel(group_by_column)\n",
    "    ax.set_ylabel(f'{success_value} Ratio')\n",
    "   \n",
    "    # 그래프 출력\n",
    "    plt.show()\n",
    "\n",
    "def plot_ratio_boxplot(data, column_name, target_column='임신_성공_여부'):\n",
    "    \"\"\"\n",
    "    주어진 데이터프레임의 특정 열과 타겟 변수 간의 관계를 박스 플롯으로 시각화하는 함수.\n",
    "\n",
    "    Parameters:\n",
    "    data (pd.DataFrame): 데이터프레임\n",
    "    column_name (str): 열 이름\n",
    "    target_column (str): 타겟 변수 이름\n",
    "    \"\"\"\n",
    "\n",
    "    # 그래프 그리기\n",
    "    plt.figure(figsize=(10, 6))\n",
    "    sns.boxplot(x=column_name, y=target_column, data=data)\n",
    "\n",
    "    # 그래프 제목 및 레이블 설정\n",
    "    plt.title(f'{column_name} vs {target_column}')\n",
    "    plt.xlabel(column_name)\n",
    "    plt.ylabel(target_column)\n",
    "\n",
    "    # 그래프 출력\n",
    "    plt.show()"
   ]
  },
  {
   "cell_type": "markdown",
   "metadata": {},
   "source": [
    "### Data Load"
   ]
  },
  {
   "cell_type": "code",
   "execution_count": 4,
   "metadata": {},
   "outputs": [
    {
     "name": "stdout",
     "output_type": "stream",
     "text": [
      "Index(['ID', '시술_시기_코드', '시술_당시_나이', '임신_시도_또는_마지막_임신_경과_연수', '시술_유형',\n",
      "       '특정_시술_유형', '배란_자극_여부', '배란_유도_유형', '단일_배아_이식_여부', '착상_전_유전_검사_사용_여부',\n",
      "       '착상_전_유전_진단_사용_여부', '남성_주_불임_원인', '남성_부_불임_원인', '여성_주_불임_원인',\n",
      "       '여성_부_불임_원인', '부부_주_불임_원인', '부부_부_불임_원인', '불명확_불임_원인', '불임_원인_-_난관_질환',\n",
      "       '불임_원인_-_남성_요인', '불임_원인_-_배란_장애', '불임_원인_-_여성_요인', '불임_원인_-_자궁경부_문제',\n",
      "       '불임_원인_-_자궁내막증', '불임_원인_-_정자_농도', '불임_원인_-_정자_면역학적_요인',\n",
      "       '불임_원인_-_정자_운동성', '불임_원인_-_정자_형태', '배아_생성_주요_이유', '총_시술_횟수',\n",
      "       '클리닉_내_총_시술_횟수', 'IVF_시술_횟수', 'DI_시술_횟수', '총_임신_횟수', 'IVF_임신_횟수',\n",
      "       'DI_임신_횟수', '총_출산_횟수', 'IVF_출산_횟수', 'DI_출산_횟수', '총_생성_배아_수',\n",
      "       '미세주입된_난자_수', '미세주입에서_생성된_배아_수', '이식된_배아_수', '미세주입_배아_이식_수', '저장된_배아_수',\n",
      "       '미세주입_후_저장된_배아_수', '해동된_배아_수', '해동_난자_수', '수집된_신선_난자_수', '저장된_신선_난자_수',\n",
      "       '혼합된_난자_수', '파트너_정자와_혼합된_난자_수', '기증자_정자와_혼합된_난자_수', '난자_출처', '정자_출처',\n",
      "       '난자_기증자_나이', '정자_기증자_나이', '동결_배아_사용_여부', '신선_배아_사용_여부', '기증_배아_사용_여부',\n",
      "       '대리모_여부', 'PGD_시술_여부', 'PGS_시술_여부', '난자_채취_경과일', '난자_해동_경과일',\n",
      "       '난자_혼합_경과일', '배아_이식_경과일', '배아_해동_경과일', '임신_성공_여부'],\n",
      "      dtype='object')\n"
     ]
    }
   ],
   "source": [
    "# 데이터 로드\n",
    "train = pd.read_csv('../data/train.csv')\n",
    "test = pd.read_csv('../data/test.csv')\n",
    "\n",
    "# 변수명에서 공백을 밑줄로 대체\n",
    "train.columns = train.columns.str.replace(' ', '_')\n",
    "test.columns = test.columns.str.replace(' ', '_')\n",
    "\n",
    "# 변경된 변수명 확인\n",
    "print(train.columns)"
   ]
  },
  {
   "cell_type": "code",
   "execution_count": 5,
   "metadata": {},
   "outputs": [
    {
     "name": "stdout",
     "output_type": "stream",
     "text": [
      "<class 'pandas.core.frame.DataFrame'>\n",
      "RangeIndex: 256351 entries, 0 to 256350\n",
      "Data columns (total 69 columns):\n",
      " #   Column                 Non-Null Count   Dtype  \n",
      "---  ------                 --------------   -----  \n",
      " 0   ID                     256351 non-null  object \n",
      " 1   시술_시기_코드               256351 non-null  object \n",
      " 2   시술_당시_나이               256351 non-null  object \n",
      " 3   임신_시도_또는_마지막_임신_경과_연수  9370 non-null    float64\n",
      " 4   시술_유형                  256351 non-null  object \n",
      " 5   특정_시술_유형               256349 non-null  object \n",
      " 6   배란_자극_여부               256351 non-null  int64  \n",
      " 7   배란_유도_유형               256351 non-null  object \n",
      " 8   단일_배아_이식_여부            250060 non-null  float64\n",
      " 9   착상_전_유전_검사_사용_여부       2718 non-null    float64\n",
      " 10  착상_전_유전_진단_사용_여부       250060 non-null  float64\n",
      " 11  남성_주_불임_원인             256351 non-null  int64  \n",
      " 12  남성_부_불임_원인             256351 non-null  int64  \n",
      " 13  여성_주_불임_원인             256351 non-null  int64  \n",
      " 14  여성_부_불임_원인             256351 non-null  int64  \n",
      " 15  부부_주_불임_원인             256351 non-null  int64  \n",
      " 16  부부_부_불임_원인             256351 non-null  int64  \n",
      " 17  불명확_불임_원인              256351 non-null  int64  \n",
      " 18  불임_원인_-_난관_질환          256351 non-null  int64  \n",
      " 19  불임_원인_-_남성_요인          256351 non-null  int64  \n",
      " 20  불임_원인_-_배란_장애          256351 non-null  int64  \n",
      " 21  불임_원인_-_여성_요인          256351 non-null  int64  \n",
      " 22  불임_원인_-_자궁경부_문제        256351 non-null  int64  \n",
      " 23  불임_원인_-_자궁내막증          256351 non-null  int64  \n",
      " 24  불임_원인_-_정자_농도          256351 non-null  int64  \n",
      " 25  불임_원인_-_정자_면역학적_요인     256351 non-null  int64  \n",
      " 26  불임_원인_-_정자_운동성         256351 non-null  int64  \n",
      " 27  불임_원인_-_정자_형태          256351 non-null  int64  \n",
      " 28  배아_생성_주요_이유            250060 non-null  object \n",
      " 29  총_시술_횟수                256351 non-null  object \n",
      " 30  클리닉_내_총_시술_횟수          256351 non-null  object \n",
      " 31  IVF_시술_횟수              256351 non-null  object \n",
      " 32  DI_시술_횟수               256351 non-null  object \n",
      " 33  총_임신_횟수                256351 non-null  object \n",
      " 34  IVF_임신_횟수              256351 non-null  object \n",
      " 35  DI_임신_횟수               256351 non-null  object \n",
      " 36  총_출산_횟수                256351 non-null  object \n",
      " 37  IVF_출산_횟수              256351 non-null  object \n",
      " 38  DI_출산_횟수               256351 non-null  object \n",
      " 39  총_생성_배아_수              250060 non-null  float64\n",
      " 40  미세주입된_난자_수             250060 non-null  float64\n",
      " 41  미세주입에서_생성된_배아_수        250060 non-null  float64\n",
      " 42  이식된_배아_수               250060 non-null  float64\n",
      " 43  미세주입_배아_이식_수           250060 non-null  float64\n",
      " 44  저장된_배아_수               250060 non-null  float64\n",
      " 45  미세주입_후_저장된_배아_수        250060 non-null  float64\n",
      " 46  해동된_배아_수               250060 non-null  float64\n",
      " 47  해동_난자_수                250060 non-null  float64\n",
      " 48  수집된_신선_난자_수            250060 non-null  float64\n",
      " 49  저장된_신선_난자_수            250060 non-null  float64\n",
      " 50  혼합된_난자_수               250060 non-null  float64\n",
      " 51  파트너_정자와_혼합된_난자_수       250060 non-null  float64\n",
      " 52  기증자_정자와_혼합된_난자_수       250060 non-null  float64\n",
      " 53  난자_출처                  256351 non-null  object \n",
      " 54  정자_출처                  256351 non-null  object \n",
      " 55  난자_기증자_나이              256351 non-null  object \n",
      " 56  정자_기증자_나이              256351 non-null  object \n",
      " 57  동결_배아_사용_여부            250060 non-null  float64\n",
      " 58  신선_배아_사용_여부            250060 non-null  float64\n",
      " 59  기증_배아_사용_여부            250060 non-null  float64\n",
      " 60  대리모_여부                 250060 non-null  float64\n",
      " 61  PGD_시술_여부              2179 non-null    float64\n",
      " 62  PGS_시술_여부              1929 non-null    float64\n",
      " 63  난자_채취_경과일              198863 non-null  float64\n",
      " 64  난자_해동_경과일              1436 non-null    float64\n",
      " 65  난자_혼합_경과일              202616 non-null  float64\n",
      " 66  배아_이식_경과일              212785 non-null  float64\n",
      " 67  배아_해동_경과일              40369 non-null   float64\n",
      " 68  임신_성공_여부               256351 non-null  int64  \n",
      "dtypes: float64(29), int64(19), object(21)\n",
      "memory usage: 135.0+ MB\n"
     ]
    }
   ],
   "source": [
    "train.info(verbose=True)"
   ]
  },
  {
   "cell_type": "code",
   "execution_count": 6,
   "metadata": {},
   "outputs": [
    {
     "data": {
      "image/png": "[encoded data removed]",
      "text/plain": [
       "<Figure size 640x480 with 1 Axes>"
      ]
     },
     "metadata": {},
     "output_type": "display_data"
    }
   ],
   "source": [
    "import matplotlib.pyplot as plt\n",
    "import pandas as pd\n",
    "\n",
    "# '임신_성공_여부' 변수의 값 개수 계산\n",
    "value_counts = train['임신_성공_여부'].value_counts()\n",
    "\n",
    "# 라벨 변경\n",
    "labels = {1: '1(임신 성공)', 0: '0(임신 실패)'}\n",
    "value_counts.index = value_counts.index.map(labels)\n",
    "\n",
    "# 도넛 차트 그리기\n",
    "fig, ax = plt.subplots()\n",
    "\n",
    "# 파이 차트 그리기\n",
    "wedges, texts, autotexts = ax.pie(value_counts, labels=value_counts.index, autopct='%1.1f%%', startangle=90, wedgeprops=dict(width=0.5))\n",
    "\n",
    "# 도넛 차트 가운데에 원 그리기\n",
    "centre_circle = plt.Circle((0, 0), 0.70, fc='white')\n",
    "fig.gca().add_artist(centre_circle)\n",
    "\n",
    "# 차트 제목 설정\n",
    "ax.set_title('임신 성공 여부 도넛 차트')\n",
    "\n",
    "# 차트 표시\n",
    "plt.show()"
   ]
  },
  {
   "cell_type": "markdown",
   "metadata": {},
   "source": [
    "## EDA"
   ]
  },
  {
   "cell_type": "code",
   "execution_count": 7,
   "metadata": {},
   "outputs": [],
   "source": [
    "# '시술_시기_코드' 변수의 값이 'TRZKPL'에 해당 안하는 데이터 추출\n",
    "IVF_train = train[train['시술_시기_코드'] == 'TRZKPL'] \n",
    "IVF_test = test[test['시술_시기_코드'] == 'TRZKPL']\n",
    "\n",
    "# 모든 값이 결측값인 변수를 제거\n",
    "IVF_train = IVF_train.dropna(axis=1, how='all')\n",
    "IVF_test = IVF_test.dropna(axis=1, how='all')\n",
    "\n",
    "train = IVF_train\n",
    "test = IVF_test"
   ]
  },
  {
   "cell_type": "markdown",
   "metadata": {},
   "source": [
    "### 1. 시술_시기_코드"
   ]
  },
  {
   "cell_type": "markdown",
   "metadata": {},
   "source": [
    "난임 시술을 받은 시기를 기준으로 코드 부여"
   ]
  },
  {
   "cell_type": "code",
   "execution_count": 8,
   "metadata": {},
   "outputs": [
    {
     "name": "stdout",
     "output_type": "stream",
     "text": [
      "\n",
      "시술_시기_코드별 임신_성공_여부 비율 및 갯수\n",
      "\n",
      "                0        1      0     1  Total\n",
      "variable                                      \n",
      "TRZKPL    0.74488  0.25512  26476  9068  35544\n"
     ]
    }
   ],
   "source": [
    "value_counts_ratio(train, '시술_시기_코드')"
   ]
  },
  {
   "cell_type": "code",
   "execution_count": 9,
   "metadata": {},
   "outputs": [],
   "source": [
    "# '시술_시기_코드' 변수 제거\n",
    "train = train.drop(columns=['시술_시기_코드'])\n",
    "test = test.drop(columns=['시술_시기_코드'])"
   ]
  },
  {
   "cell_type": "markdown",
   "metadata": {},
   "source": [
    "### 2. 시술 당시 나이"
   ]
  },
  {
   "cell_type": "markdown",
   "metadata": {},
   "source": [
    "환자의 시술 당시 나이(연령대)"
   ]
  },
  {
   "cell_type": "code",
   "execution_count": 10,
   "metadata": {},
   "outputs": [
    {
     "name": "stdout",
     "output_type": "stream",
     "text": [
      "\n",
      "시술_당시_나이별 임신_성공_여부 비율 및 갯수\n",
      "\n",
      "                 0         1       0       1  Total\n",
      "variable                                           \n",
      "만18-34세   0.683490  0.316510  9940.0  4603.0  14543\n",
      "만35-37세   0.722564  0.277436  5761.0  2212.0   7973\n",
      "만38-39세   0.792606  0.207394  4502.0  1178.0   5680\n",
      "만40-42세   0.839186  0.160814  4206.0   806.0   5012\n",
      "만43-44세   0.891803  0.108197  1360.0   165.0   1525\n",
      "만45-50세   0.867853  0.132147   683.0   104.0    787\n",
      "알 수 없음    1.000000  0.000000    24.0     0.0     24\n"
     ]
    }
   ],
   "source": [
    "value_counts_ratio(train, '시술_당시_나이')"
   ]
  },
  {
   "cell_type": "code",
   "execution_count": 11,
   "metadata": {},
   "outputs": [
    {
     "data": {
      "text/plain": [
       "만18-34세    5292\n",
       "만35-37세    2915\n",
       "만38-39세    1948\n",
       "만40-42세    1829\n",
       "만43-44세     520\n",
       "만45-50세     282\n",
       "알 수 없음        7\n",
       "Name: 시술_당시_나이, dtype: int64"
      ]
     },
     "execution_count": 11,
     "metadata": {},
     "output_type": "execute_result"
    }
   ],
   "source": [
    "test['시술_당시_나이'].value_counts()"
   ]
  },
  {
   "cell_type": "markdown",
   "metadata": {},
   "source": [
    "### 3. 임신 시도 또는 마지막 임신 경과 일수"
   ]
  },
  {
   "cell_type": "markdown",
   "metadata": {},
   "source": [
    "환자가 처음 임신을 시도한 시점 또는 마지막 임신 이후 현재까지의 경과 연수 (년 단위)"
   ]
  },
  {
   "cell_type": "code",
   "execution_count": 12,
   "metadata": {},
   "outputs": [
    {
     "name": "stdout",
     "output_type": "stream",
     "text": [
      "\n",
      "임신_시도_또는_마지막_임신_경과_연수별 임신_성공_여부 비율 및 갯수\n",
      "\n",
      "                 0         1      0     1  Total\n",
      "variable                                        \n",
      "0.0       0.750000  0.250000    3.0   1.0      4\n",
      "1.0       0.000000  1.000000    0.0   2.0      2\n",
      "2.0       1.000000  0.000000    2.0   0.0      2\n",
      "3.0       0.625000  0.375000    5.0   3.0      8\n",
      "4.0       0.785714  0.214286   44.0  12.0     56\n",
      "5.0       0.789855  0.210145  109.0  29.0    138\n",
      "6.0       0.765957  0.234043  216.0  66.0    282\n",
      "7.0       0.731707  0.268293  270.0  99.0    369\n",
      "8.0       0.767647  0.232353  261.0  79.0    340\n",
      "9.0       0.782143  0.217857  219.0  61.0    280\n",
      "10.0      0.759091  0.240909  167.0  53.0    220\n",
      "11.0      0.778409  0.221591  137.0  39.0    176\n",
      "12.0      0.780702  0.219298   89.0  25.0    114\n",
      "13.0      0.800000  0.200000   76.0  19.0     95\n",
      "14.0      0.761905  0.238095   48.0  15.0     63\n",
      "15.0      0.828125  0.171875   53.0  11.0     64\n",
      "16.0      0.804348  0.195652   37.0   9.0     46\n",
      "17.0      0.862069  0.137931   25.0   4.0     29\n",
      "18.0      0.925926  0.074074   25.0   2.0     27\n",
      "19.0      0.947368  0.052632   18.0   1.0     19\n",
      "20.0      0.933333  0.066667   14.0   1.0     15\n"
     ]
    }
   ],
   "source": [
    "value_counts_ratio(train, '임신_시도_또는_마지막_임신_경과_연수')"
   ]
  },
  {
   "cell_type": "code",
   "execution_count": 13,
   "metadata": {},
   "outputs": [],
   "source": [
    "# 3년 단위로 범주화\n",
    "bins = list(range(0, 24, 3))  # 0부터 20까지 3년 단위로 구간 생성\n",
    "labels = [f'{i}-{i+2}년' for i in range(0, 21, 3)]  # 범주 레이블 생성\n",
    "\n",
    "train['임신_시도_또는_마지막_임신_경과_연수'] = pd.cut(train['임신_시도_또는_마지막_임신_경과_연수'], bins=bins, labels=labels, right=False)\n",
    "test['임신_시도_또는_마지막_임신_경과_연수'] = pd.cut(test['임신_시도_또는_마지막_임신_경과_연수'], bins=bins, labels=labels, right=False)\n",
    "\n",
    "# 결측값을 'unknown'으로 채우기 위해 범주에 'unknown' 추가\n",
    "train['임신_시도_또는_마지막_임신_경과_연수'] = train['임신_시도_또는_마지막_임신_경과_연수'].cat.add_categories(['unknown'])\n",
    "test['임신_시도_또는_마지막_임신_경과_연수'] = test['임신_시도_또는_마지막_임신_경과_연수'].cat.add_categories(['unknown'])\n",
    "\n",
    "train['임신_시도_또는_마지막_임신_경과_연수'].fillna('unknown', inplace=True)\n",
    "test['임신_시도_또는_마지막_임신_경과_연수'].fillna('unknown', inplace=True)"
   ]
  },
  {
   "cell_type": "code",
   "execution_count": 14,
   "metadata": {},
   "outputs": [
    {
     "name": "stdout",
     "output_type": "stream",
     "text": [
      "\n",
      "임신_시도_또는_마지막_임신_경과_연수별 임신_성공_여부 비율 및 갯수\n",
      "\n",
      "                 0         1      0     1  Total\n",
      "variable                                        \n",
      "0-2년      0.625000  0.375000      5     3      8\n",
      "3-5년      0.782178  0.217822    158    44    202\n",
      "6-8년      0.753784  0.246216    747   244    991\n",
      "9-11년     0.773669  0.226331    523   153    676\n",
      "12-14년    0.783088  0.216912    213    59    272\n",
      "15-17년    0.827338  0.172662    115    24    139\n",
      "18-20년    0.934426  0.065574     57     4     61\n",
      "unknown   0.742823  0.257177  24658  8537  33195\n"
     ]
    }
   ],
   "source": [
    "value_counts_ratio(train, '임신_시도_또는_마지막_임신_경과_연수')"
   ]
  },
  {
   "cell_type": "markdown",
   "metadata": {},
   "source": [
    "### 4. 시술_유형"
   ]
  },
  {
   "cell_type": "markdown",
   "metadata": {},
   "source": [
    "IVF 또는 DI 시술 여부"
   ]
  },
  {
   "cell_type": "code",
   "execution_count": 15,
   "metadata": {},
   "outputs": [
    {
     "name": "stdout",
     "output_type": "stream",
     "text": [
      "\n",
      "시술_유형별 임신_성공_여부 비율 및 갯수\n",
      "\n",
      "                 0         1      0     1  Total\n",
      "variable                                        \n",
      "DI        0.876890  0.123110    812   114    926\n",
      "IVF       0.741348  0.258652  25664  8954  34618\n"
     ]
    }
   ],
   "source": [
    "value_counts_ratio(train, '시술_유형')"
   ]
  },
  {
   "cell_type": "code",
   "execution_count": 16,
   "metadata": {},
   "outputs": [
    {
     "data": {
      "text/plain": [
       "IVF    12491\n",
       "DI       302\n",
       "Name: 시술_유형, dtype: int64"
      ]
     },
     "execution_count": 16,
     "metadata": {},
     "output_type": "execute_result"
    }
   ],
   "source": [
    "test['시술_유형'].value_counts()"
   ]
  },
  {
   "cell_type": "markdown",
   "metadata": {},
   "source": [
    "### 5. 특정_시술_유형"
   ]
  },
  {
   "cell_type": "markdown",
   "metadata": {},
   "source": [
    "IVF – 체외 수정 (시험관 아기 시술)  \n",
    "ICSI – 세포질 내 정자 주입  \n",
    "IUI – 인공 수정 (자궁 내 주입)  \n",
    "ICI – 자궁경부 인공 수정  \n",
    "GIFT – 생식세포 나팔관 이식  \n",
    "FER – 냉동 배아 이식  \n",
    "Generic DI – 기증 정자 주입  \n",
    "IVI – 질 내 인공 수정   \n",
    "BLASTOCYST – 배반포 단계에 이식  \n",
    "AH – 배아를 hatching 시켜주는 과정  \n",
    "Unknown – 시술 유형 정보가 제공되지 않았거나 알 수 없음  \n",
    "\n",
    "(*) 특수 기호의 의미  \n",
    "\"/\" – 복합적인 시술 방법을 의미 (예: ICSI / BLASTOCYST)  \n",
    "\":\" – 동일 시술 내 세부 조합을 의미 (예: ICSI:IVF)  "
   ]
  },
  {
   "cell_type": "code",
   "execution_count": 17,
   "metadata": {},
   "outputs": [
    {
     "name": "stdout",
     "output_type": "stream",
     "text": [
      "Grouped by: 특정_시술_유형\n",
      "\n",
      "                                  group  '임신_성공_여부' count     ratio  Total\n",
      "0                            Generic DI                 3  0.375000      8\n",
      "1                                   ICI                 3  0.100000     30\n",
      "2                                  ICSI              4354  0.264119  16485\n",
      "3                             ICSI / AH                75  0.214286    350\n",
      "4                    ICSI / BLASTOCYST                244  0.344147    709\n",
      "5               ICSI / BLASTOCYST :ICSI                 1  1.000000      1\n",
      "6   ICSI / BLASTOCYST :IVF / BLASTOCYST                 0  0.000000      3\n",
      "7    ICSI / BLASTOCYST:IVF / BLASTOCYST                 0  0.000000      3\n",
      "8                             ICSI:ICSI                 1  0.007937    126\n",
      "9                              ICSI:IVF                36  0.290323    124\n",
      "10                         ICSI:Unknown                 0  0.000000     19\n",
      "11                                  IUI               108  0.122449    882\n",
      "12                                  IVF              3304  0.264066  12512\n",
      "13                             IVF / AH                20  0.153846    130\n",
      "14                     IVF / BLASTOCYST               210  0.392523    535\n",
      "15                             IVF:ICSI                16  0.326531     49\n",
      "16                              IVF:IVF                 1  0.016949     59\n",
      "17                          IVF:Unknown                 1  0.200000      5\n",
      "18                                  IVI                 0  0.000000      6\n",
      "19                              Unknown               691  0.196978   3508\n"
     ]
    }
   ],
   "source": [
    "summarize_group(train, ['특정_시술_유형'])"
   ]
  },
  {
   "cell_type": "code",
   "execution_count": 18,
   "metadata": {},
   "outputs": [
    {
     "data": {
      "text/plain": [
       "ICSI                                  6152\n",
       "IVF                                   4406\n",
       "Unknown                               1182\n",
       "IUI                                    289\n",
       "ICSI / BLASTOCYST                      277\n",
       "IVF / BLASTOCYST                       164\n",
       "ICSI / AH                              113\n",
       "ICSI:IVF                                51\n",
       "ICSI:ICSI                               50\n",
       "IVF / AH                                44\n",
       "IVF:IVF                                 25\n",
       "IVF:ICSI                                14\n",
       "ICI                                      9\n",
       "ICSI:Unknown                             8\n",
       "IVF:Unknown                              4\n",
       "Generic DI                               3\n",
       "ICSI / BLASTOCYST:IVF / BLASTOCYST       1\n",
       "IVI                                      1\n",
       "Name: 특정_시술_유형, dtype: int64"
      ]
     },
     "execution_count": 18,
     "metadata": {},
     "output_type": "execute_result"
    }
   ],
   "source": [
    "test['특정_시술_유형'].value_counts()"
   ]
  },
  {
   "cell_type": "code",
   "execution_count": 19,
   "metadata": {},
   "outputs": [],
   "source": [
    "# '특정_시술_유형' 변수의 값이 'FER' 또는 'GIFT'인 행 제거\n",
    "train = train.loc[~train['특정_시술_유형'].isin(['FER', 'GIFT'])]\n",
    "# test = test.loc[~test['특정_시술_유형'].isin(['FER', 'GIFT'])]"
   ]
  },
  {
   "cell_type": "code",
   "execution_count": 20,
   "metadata": {},
   "outputs": [],
   "source": [
    "# 시술 유형 변환 함수\n",
    "def transform_treatment(treatment):\n",
    "    if isinstance(treatment, str):  # treatment가 문자열인지 확인\n",
    "        if treatment.startswith(\"ICSI\"):\n",
    "            if \"AH\" in treatment:\n",
    "                return \"ICSI / AH\"\n",
    "            elif \"BLASTOCYST\" in treatment:\n",
    "                return \"ICSI / BLASTOCYST\"\n",
    "            return \"ICSI\"\n",
    "        elif treatment.startswith(\"IVF\"):\n",
    "            if \"AH\" in treatment:\n",
    "                return \"IVF / AH\"\n",
    "            elif \"BLASTOCYST\" in treatment:\n",
    "                return \"IVF / BLASTOCYST\"\n",
    "            return \"IVF\"\n",
    "        elif treatment == \"IUI:ICI\":\n",
    "            return \"IUI\"\n",
    "    return treatment  # 기타 시술은 그대로 반환\n",
    "\n",
    "# 변환된 열 추가\n",
    "train['변환된_특정_시술_유형'] = train['특정_시술_유형'].apply(transform_treatment)\n",
    "test['변환된_특정_시술_유형'] = test['특정_시술_유형'].apply(transform_treatment)"
   ]
  },
  {
   "cell_type": "code",
   "execution_count": 21,
   "metadata": {},
   "outputs": [
    {
     "name": "stdout",
     "output_type": "stream",
     "text": [
      "\n",
      "변환된_특정_시술_유형별 임신_성공_여부 비율 및 갯수\n",
      "\n",
      "                          0         1        0       1  Total\n",
      "variable                                                     \n",
      "Generic DI         0.625000  0.375000      5.0     3.0      8\n",
      "ICI                0.900000  0.100000     27.0     3.0     30\n",
      "ICSI               0.737913  0.262087  12363.0  4391.0  16754\n",
      "ICSI / AH          0.785714  0.214286    275.0    75.0    350\n",
      "ICSI / BLASTOCYST  0.657821  0.342179    471.0   245.0    716\n",
      "IUI                0.877551  0.122449    774.0   108.0    882\n",
      "IVF                0.736871  0.263129   9303.0  3322.0  12625\n",
      "IVF / AH           0.846154  0.153846    110.0    20.0    130\n",
      "IVF / BLASTOCYST   0.607477  0.392523    325.0   210.0    535\n",
      "IVI                1.000000  0.000000      6.0     0.0      6\n",
      "Unknown            0.803022  0.196978   2817.0   691.0   3508\n"
     ]
    }
   ],
   "source": [
    "value_counts_ratio(train, '변환된_특정_시술_유형')"
   ]
  },
  {
   "cell_type": "code",
   "execution_count": 22,
   "metadata": {},
   "outputs": [
    {
     "data": {
      "text/plain": [
       "ICSI                 6261\n",
       "IVF                  4449\n",
       "Unknown              1182\n",
       "IUI                   289\n",
       "ICSI / BLASTOCYST     278\n",
       "IVF / BLASTOCYST      164\n",
       "ICSI / AH             113\n",
       "IVF / AH               44\n",
       "ICI                     9\n",
       "Generic DI              3\n",
       "IVI                     1\n",
       "Name: 변환된_특정_시술_유형, dtype: int64"
      ]
     },
     "execution_count": 22,
     "metadata": {},
     "output_type": "execute_result"
    }
   ],
   "source": [
    "test['변환된_특정_시술_유형'].value_counts()"
   ]
  },
  {
   "cell_type": "code",
   "execution_count": 23,
   "metadata": {},
   "outputs": [],
   "source": [
    "# 더미 변수 생성 함수 정의\n",
    "def create_dummy(x, keyword):\n",
    "    if isinstance(x, str) and keyword in x:\n",
    "        return 1\n",
    "    else:\n",
    "        return 0\n",
    "\n",
    "# 더미 변수 생성\n",
    "train['특정_시술_유형_ICSI_더미'] = train['변환된_특정_시술_유형'].apply(lambda x: create_dummy(x, 'ICSI'))\n",
    "train['특정_시술_유형_IVF_더미'] = train['변환된_특정_시술_유형'].apply(lambda x: create_dummy(x, 'IVF'))\n",
    "train['특정_시술_유형_AH_더미'] = train['변환된_특정_시술_유형'].apply(lambda x: create_dummy(x, 'AH'))\n",
    "train['특정_시술_유형_BLASTOCYST_더미'] = train['변환된_특정_시술_유형'].apply(lambda x: create_dummy(x, 'BLASTOCYST'))\n",
    "\n",
    "test['특정_시술_유형_ICSI_더미'] = test['변환된_특정_시술_유형'].apply(lambda x: create_dummy(x, 'ICSI'))\n",
    "test['특정_시술_유형_IVF_더미'] = test['변환된_특정_시술_유형'].apply(lambda x: create_dummy(x, 'IVF'))\n",
    "test['특정_시술_유형_AH_더미'] = test['변환된_특정_시술_유형'].apply(lambda x: create_dummy(x, 'AH'))\n",
    "test['특정_시술_유형_BLASTOCYST_더미'] = test['변환된_특정_시술_유형'].apply(lambda x: create_dummy(x, 'BLASTOCYST'))"
   ]
  },
  {
   "cell_type": "code",
   "execution_count": 24,
   "metadata": {},
   "outputs": [
    {
     "name": "stdout",
     "output_type": "stream",
     "text": [
      "Grouped by: 특정_시술_유형, 특정_시술_유형_ICSI_더미, 특정_시술_유형_IVF_더미, 특정_시술_유형_AH_더미, 특정_시술_유형_BLASTOCYST_더미\n",
      "\n",
      "                                                group  '임신_성공_여부' count  \\\n",
      "0                            (Generic DI, 0, 0, 0, 0)                 3   \n",
      "1                                   (ICI, 0, 0, 0, 0)                 3   \n",
      "2                                  (ICSI, 1, 0, 0, 0)              4354   \n",
      "3                             (ICSI / AH, 1, 0, 1, 0)                75   \n",
      "4                    (ICSI / BLASTOCYST , 1, 0, 0, 1)               244   \n",
      "5               (ICSI / BLASTOCYST :ICSI, 1, 0, 0, 1)                 1   \n",
      "6   (ICSI / BLASTOCYST :IVF / BLASTOCYST, 1, 0, 0, 1)                 0   \n",
      "7    (ICSI / BLASTOCYST:IVF / BLASTOCYST, 1, 0, 0, 1)                 0   \n",
      "8                             (ICSI:ICSI, 1, 0, 0, 0)                 1   \n",
      "9                              (ICSI:IVF, 1, 0, 0, 0)                36   \n",
      "10                         (ICSI:Unknown, 1, 0, 0, 0)                 0   \n",
      "11                                  (IUI, 0, 0, 0, 0)               108   \n",
      "12                                  (IVF, 0, 1, 0, 0)              3304   \n",
      "13                             (IVF / AH, 0, 1, 1, 0)                20   \n",
      "14                     (IVF / BLASTOCYST, 0, 1, 0, 1)               210   \n",
      "15                             (IVF:ICSI, 0, 1, 0, 0)                16   \n",
      "16                              (IVF:IVF, 0, 1, 0, 0)                 1   \n",
      "17                          (IVF:Unknown, 0, 1, 0, 0)                 1   \n",
      "18                                  (IVI, 0, 0, 0, 0)                 0   \n",
      "19                              (Unknown, 0, 0, 0, 0)               691   \n",
      "\n",
      "       ratio  Total  \n",
      "0   0.375000      8  \n",
      "1   0.100000     30  \n",
      "2   0.264119  16485  \n",
      "3   0.214286    350  \n",
      "4   0.344147    709  \n",
      "5   1.000000      1  \n",
      "6   0.000000      3  \n",
      "7   0.000000      3  \n",
      "8   0.007937    126  \n",
      "9   0.290323    124  \n",
      "10  0.000000     19  \n",
      "11  0.122449    882  \n",
      "12  0.264066  12512  \n",
      "13  0.153846    130  \n",
      "14  0.392523    535  \n",
      "15  0.326531     49  \n",
      "16  0.016949     59  \n",
      "17  0.200000      5  \n",
      "18  0.000000      6  \n",
      "19  0.196978   3508  \n"
     ]
    }
   ],
   "source": [
    "summarize_group(train, ['특정_시술_유형',\n",
    "                        '특정_시술_유형_ICSI_더미',\n",
    "                          '특정_시술_유형_IVF_더미',\n",
    "                            '특정_시술_유형_AH_더미',\n",
    "                              '특정_시술_유형_BLASTOCYST_더미'])"
   ]
  },
  {
   "cell_type": "code",
   "execution_count": 25,
   "metadata": {},
   "outputs": [],
   "source": [
    "# '특정_시술_유형' 변수 제거\n",
    "train = train.drop(columns=['특정_시술_유형'])\n",
    "test = test.drop(columns=['특정_시술_유형'])"
   ]
  },
  {
   "cell_type": "markdown",
   "metadata": {},
   "source": [
    "### 6. 배란_자극_여부"
   ]
  },
  {
   "cell_type": "markdown",
   "metadata": {},
   "source": [
    "배란 자극 치료가 사용되었는지 여부"
   ]
  },
  {
   "cell_type": "code",
   "execution_count": 26,
   "metadata": {},
   "outputs": [
    {
     "name": "stdout",
     "output_type": "stream",
     "text": [
      "\n",
      "배란_자극_여부별 임신_성공_여부 비율 및 갯수\n",
      "\n",
      "                 0         1      0     1  Total\n",
      "variable                                        \n",
      "0         0.799947  0.200053   6034  1509   7543\n",
      "1         0.730045  0.269955  20442  7559  28001\n"
     ]
    }
   ],
   "source": [
    "value_counts_ratio(train, '배란_자극_여부')"
   ]
  },
  {
   "cell_type": "markdown",
   "metadata": {},
   "source": [
    "### 7. 배란_유도_유형"
   ]
  },
  {
   "cell_type": "markdown",
   "metadata": {},
   "source": [
    "사용된 배란 유도 방법 유형"
   ]
  },
  {
   "cell_type": "code",
   "execution_count": 27,
   "metadata": {},
   "outputs": [
    {
     "name": "stdout",
     "output_type": "stream",
     "text": [
      "\n",
      "배란_유도_유형별 임신_성공_여부 비율 및 갯수\n",
      "\n",
      "                   0         1        0       1  Total\n",
      "variable                                              \n",
      "기록되지 않은 시행  0.727570  0.272430  20006.0  7491.0  27497\n",
      "생식선 자극 호르몬  0.000000  1.000000      0.0     1.0      1\n",
      "알 수 없음      0.804126  0.195874   6470.0  1576.0   8046\n"
     ]
    }
   ],
   "source": [
    "value_counts_ratio(train, '배란_유도_유형')"
   ]
  },
  {
   "cell_type": "code",
   "execution_count": 28,
   "metadata": {},
   "outputs": [
    {
     "data": {
      "text/plain": [
       "기록되지 않은 시행    9999\n",
       "알 수 없음        2794\n",
       "Name: 배란_유도_유형, dtype: int64"
      ]
     },
     "execution_count": 28,
     "metadata": {},
     "output_type": "execute_result"
    }
   ],
   "source": [
    "test['배란_유도_유형'].value_counts()"
   ]
  },
  {
   "cell_type": "markdown",
   "metadata": {},
   "source": [
    "### 8. 단일_배아_이식_여부"
   ]
  },
  {
   "cell_type": "markdown",
   "metadata": {},
   "source": [
    "선택적으로 단일 배아를 이식했는지 여부"
   ]
  },
  {
   "cell_type": "code",
   "execution_count": 29,
   "metadata": {},
   "outputs": [
    {
     "name": "stdout",
     "output_type": "stream",
     "text": [
      "\n",
      "단일_배아_이식_여부별 임신_성공_여부 비율 및 갯수\n",
      "\n",
      "                 0         1      0     1  Total\n",
      "variable                                        \n",
      "0.0       0.761428  0.238572  21671  6790  28461\n",
      "1.0       0.648530  0.351470   3993  2164   6157\n"
     ]
    }
   ],
   "source": [
    "value_counts_ratio(train, '단일_배아_이식_여부')"
   ]
  },
  {
   "cell_type": "markdown",
   "metadata": {},
   "source": [
    "### 9. 착상_전_유전_검사_사용_여부"
   ]
  },
  {
   "cell_type": "markdown",
   "metadata": {},
   "source": [
    "PGS(착상 전 유전 검사)가 시행되었는지 여부"
   ]
  },
  {
   "cell_type": "code",
   "execution_count": 30,
   "metadata": {},
   "outputs": [
    {
     "name": "stdout",
     "output_type": "stream",
     "text": [
      "\n",
      "착상_전_유전_검사_사용_여부별 임신_성공_여부 비율 및 갯수\n",
      "\n",
      "                 0         1    0   1  Total\n",
      "variable                                    \n",
      "1.0       0.846809  0.153191  199  36    235\n"
     ]
    }
   ],
   "source": [
    "value_counts_ratio(train, '착상_전_유전_검사_사용_여부')"
   ]
  },
  {
   "cell_type": "code",
   "execution_count": 31,
   "metadata": {},
   "outputs": [
    {
     "name": "stdout",
     "output_type": "stream",
     "text": [
      "결측값 개수: 35309\n",
      "결측값 개수: 0\n"
     ]
    }
   ],
   "source": [
    "# 결측값 개수 확인\n",
    "print(\"결측값 개수:\", train['착상_전_유전_검사_사용_여부'].isnull().sum())\n",
    "\n",
    "# 결측값을 0으로 채우기\n",
    "train['착상_전_유전_검사_사용_여부'].fillna(0, inplace=True)\n",
    "test['착상_전_유전_검사_사용_여부'].fillna(0, inplace=True)\n",
    "\n",
    "# 결측값 개수 확인\n",
    "print(\"결측값 개수:\", train['착상_전_유전_검사_사용_여부'].isnull().sum())"
   ]
  },
  {
   "cell_type": "code",
   "execution_count": 32,
   "metadata": {},
   "outputs": [
    {
     "name": "stdout",
     "output_type": "stream",
     "text": [
      "\n",
      "착상_전_유전_검사_사용_여부별 임신_성공_여부 비율 및 갯수\n",
      "\n",
      "                 0         1      0     1  Total\n",
      "variable                                        \n",
      "0.0       0.744201  0.255799  26277  9032  35309\n",
      "1.0       0.846809  0.153191    199    36    235\n"
     ]
    }
   ],
   "source": [
    "value_counts_ratio(train, '착상_전_유전_검사_사용_여부')"
   ]
  },
  {
   "cell_type": "markdown",
   "metadata": {},
   "source": [
    "### 10. 착상_전_유전_진단_사용_여부"
   ]
  },
  {
   "cell_type": "markdown",
   "metadata": {},
   "source": [
    "PGD(착상 전 유전 진단)가 시행되었는지 여부"
   ]
  },
  {
   "cell_type": "code",
   "execution_count": 33,
   "metadata": {},
   "outputs": [
    {
     "name": "stdout",
     "output_type": "stream",
     "text": [
      "\n",
      "착상_전_유전_진단_사용_여부별 임신_성공_여부 비율 및 갯수\n",
      "\n",
      "                 0         1      0     1  Total\n",
      "variable                                        \n",
      "0.0       0.741470  0.258530  25448  8873  34321\n",
      "1.0       0.727273  0.272727    216    81    297\n"
     ]
    }
   ],
   "source": [
    "value_counts_ratio(train, '착상_전_유전_진단_사용_여부')"
   ]
  },
  {
   "cell_type": "code",
   "execution_count": 34,
   "metadata": {},
   "outputs": [
    {
     "name": "stdout",
     "output_type": "stream",
     "text": [
      "Grouped by: 착상_전_유전_진단_사용_여부, 착상_전_유전_검사_사용_여부\n",
      "\n",
      "        group  '임신_성공_여부' count     ratio  Total\n",
      "0  (0.0, 0.0)              8837  0.259256  34086\n",
      "1  (0.0, 1.0)                36  0.153191    235\n",
      "2  (1.0, 0.0)                81  0.272727    297\n"
     ]
    }
   ],
   "source": [
    "summarize_group(train, ['착상_전_유전_진단_사용_여부', '착상_전_유전_검사_사용_여부'])"
   ]
  },
  {
   "cell_type": "markdown",
   "metadata": {},
   "source": [
    "### 11. 남성_주_불임_원인"
   ]
  },
  {
   "cell_type": "markdown",
   "metadata": {},
   "source": [
    "남성의 주요 불임 원인 여부"
   ]
  },
  {
   "cell_type": "code",
   "execution_count": 35,
   "metadata": {},
   "outputs": [
    {
     "name": "stdout",
     "output_type": "stream",
     "text": [
      "\n",
      "남성_주_불임_원인별 임신_성공_여부 비율 및 갯수\n",
      "\n",
      "                 0         1      0     1  Total\n",
      "variable                                        \n",
      "0         0.743568  0.256432  25085  8651  33736\n",
      "1         0.769358  0.230642   1391   417   1808\n"
     ]
    }
   ],
   "source": [
    "value_counts_ratio(train, '남성_주_불임_원인')"
   ]
  },
  {
   "cell_type": "markdown",
   "metadata": {},
   "source": [
    "### 12. 남성_부_불임_원인"
   ]
  },
  {
   "cell_type": "markdown",
   "metadata": {},
   "source": [
    "남성의 부차적 불임 원인 여부"
   ]
  },
  {
   "cell_type": "code",
   "execution_count": 36,
   "metadata": {},
   "outputs": [
    {
     "name": "stdout",
     "output_type": "stream",
     "text": [
      "\n",
      "남성_부_불임_원인별 임신_성공_여부 비율 및 갯수\n",
      "\n",
      "                 0         1      0     1  Total\n",
      "variable                                        \n",
      "0         0.743383  0.256617  25785  8901  34686\n",
      "1         0.805361  0.194639    691   167    858\n"
     ]
    }
   ],
   "source": [
    "value_counts_ratio(train, '남성_부_불임_원인')"
   ]
  },
  {
   "cell_type": "code",
   "execution_count": 37,
   "metadata": {},
   "outputs": [
    {
     "name": "stdout",
     "output_type": "stream",
     "text": [
      "Grouped by: 남성_주_불임_원인, 남성_부_불임_원인\n",
      "\n",
      "    group  '임신_성공_여부' count     ratio  Total\n",
      "0  (0, 0)              8484  0.258037  32879\n",
      "1  (0, 1)               167  0.194866    857\n",
      "2  (1, 0)               417  0.230769   1807\n",
      "3  (1, 1)                 0  0.000000      1\n"
     ]
    }
   ],
   "source": [
    "summarize_group(train, ['남성_주_불임_원인', '남성_부_불임_원인'])"
   ]
  },
  {
   "cell_type": "markdown",
   "metadata": {},
   "source": [
    "### 13. 여성_주_불임_원인"
   ]
  },
  {
   "cell_type": "markdown",
   "metadata": {},
   "source": [
    "여성의 주요 불임 원인 여부"
   ]
  },
  {
   "cell_type": "code",
   "execution_count": 38,
   "metadata": {},
   "outputs": [
    {
     "name": "stdout",
     "output_type": "stream",
     "text": [
      "\n",
      "여성_주_불임_원인별 임신_성공_여부 비율 및 갯수\n",
      "\n",
      "                0        1      0     1  Total\n",
      "variable                                      \n",
      "0         0.74339  0.25661  24969  8619  33588\n",
      "1         0.77045  0.22955   1507   449   1956\n"
     ]
    }
   ],
   "source": [
    "value_counts_ratio(train, '여성_주_불임_원인')"
   ]
  },
  {
   "cell_type": "markdown",
   "metadata": {},
   "source": [
    "### 14. 여성_부_불임_원인"
   ]
  },
  {
   "cell_type": "markdown",
   "metadata": {},
   "source": [
    "여성의 부차적 불임 원인 여부"
   ]
  },
  {
   "cell_type": "code",
   "execution_count": 39,
   "metadata": {},
   "outputs": [
    {
     "name": "stdout",
     "output_type": "stream",
     "text": [
      "\n",
      "여성_부_불임_원인별 임신_성공_여부 비율 및 갯수\n",
      "\n",
      "                 0         1      0     1  Total\n",
      "variable                                        \n",
      "0         0.743309  0.256691  25830  8920  34750\n",
      "1         0.813602  0.186398    646   148    794\n"
     ]
    }
   ],
   "source": [
    "value_counts_ratio(train, '여성_부_불임_원인')"
   ]
  },
  {
   "cell_type": "code",
   "execution_count": 40,
   "metadata": {},
   "outputs": [
    {
     "name": "stdout",
     "output_type": "stream",
     "text": [
      "Grouped by: 여성_주_불임_원인, 여성_부_불임_원인\n",
      "\n",
      "    group  '임신_성공_여부' count     ratio  Total\n",
      "0  (0, 0)              8471  0.258278  32798\n",
      "1  (0, 1)               148  0.187342    790\n",
      "2  (1, 0)               449  0.230020   1952\n",
      "3  (1, 1)                 0  0.000000      4\n"
     ]
    }
   ],
   "source": [
    "summarize_group(train, ['여성_주_불임_원인', '여성_부_불임_원인'])"
   ]
  },
  {
   "cell_type": "code",
   "execution_count": 41,
   "metadata": {},
   "outputs": [
    {
     "name": "stdout",
     "output_type": "stream",
     "text": [
      "Grouped by: 남성_주_불임_원인, 남성_부_불임_원인, 여성_주_불임_원인, 여성_부_불임_원인\n",
      "\n",
      "           group  '임신_성공_여부' count     ratio  Total\n",
      "0   (0, 0, 0, 0)              8466  0.258251  32782\n",
      "1   (0, 0, 0, 1)                 3  0.103448     29\n",
      "2   (0, 0, 1, 0)                15  0.223881     67\n",
      "3   (0, 0, 1, 1)                 0  0.000000      1\n",
      "4   (0, 1, 0, 0)                 0  0.000000      1\n",
      "5   (0, 1, 0, 1)               103  0.190037    542\n",
      "6   (0, 1, 1, 0)                64  0.203822    314\n",
      "7   (1, 0, 0, 0)                 5  0.333333     15\n",
      "8   (1, 0, 0, 1)                42  0.191781    219\n",
      "9   (1, 0, 1, 0)               370  0.235519   1571\n",
      "10  (1, 0, 1, 1)                 0  0.000000      2\n",
      "11  (1, 1, 1, 1)                 0  0.000000      1\n"
     ]
    }
   ],
   "source": [
    "summarize_group(train, ['남성_주_불임_원인', '남성_부_불임_원인', '여성_주_불임_원인', '여성_부_불임_원인'])"
   ]
  },
  {
   "cell_type": "markdown",
   "metadata": {},
   "source": [
    "### 15. 부부_주_불임_원인"
   ]
  },
  {
   "cell_type": "markdown",
   "metadata": {},
   "source": [
    "부부의 주요 불임 원인 여부"
   ]
  },
  {
   "cell_type": "code",
   "execution_count": 42,
   "metadata": {},
   "outputs": [
    {
     "name": "stdout",
     "output_type": "stream",
     "text": [
      "\n",
      "부부_주_불임_원인별 임신_성공_여부 비율 및 갯수\n",
      "\n",
      "                 0         1      0     1  Total\n",
      "variable                                        \n",
      "0         0.742994  0.257006  24816  8584  33400\n",
      "1         0.774254  0.225746   1660   484   2144\n"
     ]
    }
   ],
   "source": [
    "value_counts_ratio(train, '부부_주_불임_원인')"
   ]
  },
  {
   "cell_type": "markdown",
   "metadata": {},
   "source": [
    "### 16. 부부_부_불임_원인"
   ]
  },
  {
   "cell_type": "markdown",
   "metadata": {},
   "source": [
    "부부의 부차적 불임 원인 여부"
   ]
  },
  {
   "cell_type": "code",
   "execution_count": 43,
   "metadata": {},
   "outputs": [
    {
     "name": "stdout",
     "output_type": "stream",
     "text": [
      "\n",
      "부부_부_불임_원인별 임신_성공_여부 비율 및 갯수\n",
      "\n",
      "                 0         1      0     1  Total\n",
      "variable                                        \n",
      "0         0.743856  0.256144  26029  8963  34992\n",
      "1         0.809783  0.190217    447   105    552\n"
     ]
    }
   ],
   "source": [
    "value_counts_ratio(train, '부부_부_불임_원인')"
   ]
  },
  {
   "cell_type": "code",
   "execution_count": 44,
   "metadata": {},
   "outputs": [
    {
     "name": "stdout",
     "output_type": "stream",
     "text": [
      "Grouped by: 부부_주_불임_원인, 부부_부_불임_원인\n",
      "\n",
      "    group  '임신_성공_여부' count     ratio  Total\n",
      "0  (0, 0)              8479  0.258105  32851\n",
      "1  (0, 1)               105  0.191257    549\n",
      "2  (1, 0)               484  0.226063   2141\n",
      "3  (1, 1)                 0  0.000000      3\n"
     ]
    }
   ],
   "source": [
    "summarize_group(train, ['부부_주_불임_원인', '부부_부_불임_원인'])"
   ]
  },
  {
   "cell_type": "code",
   "execution_count": 45,
   "metadata": {},
   "outputs": [
    {
     "name": "stdout",
     "output_type": "stream",
     "text": [
      "Grouped by: 남성_주_불임_원인, 남성_부_불임_원인, 여성_주_불임_원인, 여성_부_불임_원인, 부부_주_불임_원인, 부부_부_불임_원인\n",
      "\n",
      "                 group  '임신_성공_여부' count     ratio  Total\n",
      "0   (0, 0, 0, 0, 0, 0)              8463  0.258262  32769\n",
      "1   (0, 0, 0, 0, 0, 1)                 0  0.000000      3\n",
      "2   (0, 0, 0, 0, 1, 0)                 3  0.300000     10\n",
      "3   (0, 0, 0, 1, 0, 0)                 3  0.150000     20\n",
      "4   (0, 0, 0, 1, 0, 1)                 0  0.000000      6\n",
      "5   (0, 0, 0, 1, 1, 0)                 0  0.000000      3\n",
      "6   (0, 0, 1, 0, 0, 0)                10  0.232558     43\n",
      "7   (0, 0, 1, 0, 1, 0)                 5  0.208333     24\n",
      "8   (0, 0, 1, 1, 1, 0)                 0  0.000000      1\n",
      "9   (0, 1, 0, 0, 0, 0)                 0  0.000000      1\n",
      "10  (0, 1, 0, 1, 0, 0)                 1  0.125000      8\n",
      "11  (0, 1, 0, 1, 0, 1)                90  0.191083    471\n",
      "12  (0, 1, 0, 1, 1, 0)                12  0.196721     61\n",
      "13  (0, 1, 0, 1, 1, 1)                 0  0.000000      2\n",
      "14  (0, 1, 1, 0, 0, 1)                12  0.190476     63\n",
      "15  (0, 1, 1, 0, 1, 0)                52  0.207171    251\n",
      "16  (1, 0, 0, 0, 1, 0)                 5  0.333333     15\n",
      "17  (1, 0, 0, 1, 0, 0)                 0  0.000000      1\n",
      "18  (1, 0, 0, 1, 0, 1)                 2  0.500000      4\n",
      "19  (1, 0, 0, 1, 1, 0)                40  0.186916    214\n",
      "20  (1, 0, 1, 0, 0, 0)                 2  0.222222      9\n",
      "21  (1, 0, 1, 0, 0, 1)                 1  0.500000      2\n",
      "22  (1, 0, 1, 0, 1, 0)               367  0.235256   1560\n",
      "23  (1, 0, 1, 1, 1, 0)                 0  0.000000      2\n",
      "24  (1, 1, 1, 1, 1, 1)                 0  0.000000      1\n"
     ]
    }
   ],
   "source": [
    "summarize_group(train, ['남성_주_불임_원인', '남성_부_불임_원인'\n",
    "                        , '여성_주_불임_원인', '여성_부_불임_원인'\n",
    "                        , '부부_주_불임_원인', '부부_부_불임_원인'])"
   ]
  },
  {
   "cell_type": "markdown",
   "metadata": {},
   "source": [
    "### 17. 불명확_불임_원인"
   ]
  },
  {
   "cell_type": "markdown",
   "metadata": {},
   "source": [
    "불명의 원인으로 인한 불임 여부"
   ]
  },
  {
   "cell_type": "code",
   "execution_count": 46,
   "metadata": {},
   "outputs": [
    {
     "name": "stdout",
     "output_type": "stream",
     "text": [
      "\n",
      "불명확_불임_원인별 임신_성공_여부 비율 및 갯수\n",
      "\n",
      "                 0         1      0     1  Total\n",
      "variable                                        \n",
      "0         0.748173  0.251827  19965  6720  26685\n",
      "1         0.734959  0.265041   6511  2348   8859\n"
     ]
    }
   ],
   "source": [
    "value_counts_ratio(train, '불명확_불임_원인')"
   ]
  },
  {
   "cell_type": "markdown",
   "metadata": {},
   "source": [
    "### 18. 불임_원인_-_난관_질환"
   ]
  },
  {
   "cell_type": "markdown",
   "metadata": {},
   "source": [
    "난관 이상으로 인한 불임 여부"
   ]
  },
  {
   "cell_type": "code",
   "execution_count": 47,
   "metadata": {},
   "outputs": [
    {
     "name": "stdout",
     "output_type": "stream",
     "text": [
      "\n",
      "불임_원인_-_난관_질환별 임신_성공_여부 비율 및 갯수\n",
      "\n",
      "                 0         1      0     1  Total\n",
      "variable                                        \n",
      "0         0.741996  0.258004  22271  7744  30015\n",
      "1         0.760535  0.239465   4205  1324   5529\n"
     ]
    }
   ],
   "source": [
    "value_counts_ratio(train, '불임_원인_-_난관_질환')"
   ]
  },
  {
   "cell_type": "markdown",
   "metadata": {},
   "source": [
    "### 19. 불임_원인_-_남성_요인"
   ]
  },
  {
   "cell_type": "markdown",
   "metadata": {},
   "source": [
    "남성 요인으로 인한 불임 여부"
   ]
  },
  {
   "cell_type": "code",
   "execution_count": 48,
   "metadata": {},
   "outputs": [
    {
     "name": "stdout",
     "output_type": "stream",
     "text": [
      "\n",
      "불임_원인_-_남성_요인별 임신_성공_여부 비율 및 갯수\n",
      "\n",
      "                 0         1      0     1  Total\n",
      "variable                                        \n",
      "0         0.754609  0.245391  16372  5324  21696\n",
      "1         0.729636  0.270364  10104  3744  13848\n"
     ]
    }
   ],
   "source": [
    "value_counts_ratio(train, '불임_원인_-_남성_요인')"
   ]
  },
  {
   "cell_type": "markdown",
   "metadata": {},
   "source": [
    "### 20. 불임_원인_-_배란_장애"
   ]
  },
  {
   "cell_type": "markdown",
   "metadata": {},
   "source": [
    "배란 장애로 인한 불임 여부"
   ]
  },
  {
   "cell_type": "code",
   "execution_count": 49,
   "metadata": {},
   "outputs": [
    {
     "name": "stdout",
     "output_type": "stream",
     "text": [
      "\n",
      "불임_원인_-_배란_장애별 임신_성공_여부 비율 및 갯수\n",
      "\n",
      "                 0         1      0     1  Total\n",
      "variable                                        \n",
      "0         0.747902  0.252098  23170  7810  30980\n",
      "1         0.724365  0.275635   3306  1258   4564\n"
     ]
    }
   ],
   "source": [
    "value_counts_ratio(train, '불임_원인_-_배란_장애')"
   ]
  },
  {
   "cell_type": "markdown",
   "metadata": {},
   "source": [
    "### 21. 불임_원인_-_여성_요인"
   ]
  },
  {
   "cell_type": "markdown",
   "metadata": {},
   "source": [
    "여성 요인으로 인한 불임 여부"
   ]
  },
  {
   "cell_type": "code",
   "execution_count": 50,
   "metadata": {},
   "outputs": [
    {
     "name": "stdout",
     "output_type": "stream",
     "text": [
      "\n",
      "불임_원인_-_여성_요인별 임신_성공_여부 비율 및 갯수\n",
      "\n",
      "                0        1      0     1  Total\n",
      "variable                                      \n",
      "0         0.74488  0.25512  26476  9068  35544\n"
     ]
    }
   ],
   "source": [
    "value_counts_ratio(train, '불임_원인_-_여성_요인')"
   ]
  },
  {
   "cell_type": "code",
   "execution_count": 51,
   "metadata": {},
   "outputs": [
    {
     "data": {
      "text/plain": [
       "0    12793\n",
       "Name: 불임_원인_-_여성_요인, dtype: int64"
      ]
     },
     "execution_count": 51,
     "metadata": {},
     "output_type": "execute_result"
    }
   ],
   "source": [
    "test['불임_원인_-_여성_요인'].value_counts()"
   ]
  },
  {
   "cell_type": "code",
   "execution_count": 52,
   "metadata": {},
   "outputs": [],
   "source": [
    "# '불임_원인_-_여성_요인' 변수 제거\n",
    "train = train.drop(columns=['불임_원인_-_여성_요인'])\n",
    "test = test.drop(columns=['불임_원인_-_여성_요인'])"
   ]
  },
  {
   "cell_type": "markdown",
   "metadata": {},
   "source": [
    "### 22. 불임_원인_-_자궁경부_문제"
   ]
  },
  {
   "cell_type": "markdown",
   "metadata": {},
   "source": [
    "자궁경부 이상으로 인한 불임 여부"
   ]
  },
  {
   "cell_type": "code",
   "execution_count": 53,
   "metadata": {},
   "outputs": [
    {
     "name": "stdout",
     "output_type": "stream",
     "text": [
      "\n",
      "불임_원인_-_자궁경부_문제별 임신_성공_여부 비율 및 갯수\n",
      "\n",
      "                0        1      0     1  Total\n",
      "variable                                      \n",
      "0         0.74488  0.25512  26476  9068  35544\n"
     ]
    }
   ],
   "source": [
    "value_counts_ratio(train, '불임_원인_-_자궁경부_문제')"
   ]
  },
  {
   "cell_type": "markdown",
   "metadata": {},
   "source": [
    "### 23. 불임_원인_-_자궁내막증"
   ]
  },
  {
   "cell_type": "markdown",
   "metadata": {},
   "source": [
    "자궁내막증으로 인한 불임 여부"
   ]
  },
  {
   "cell_type": "code",
   "execution_count": 54,
   "metadata": {},
   "outputs": [
    {
     "name": "stdout",
     "output_type": "stream",
     "text": [
      "\n",
      "불임_원인_-_자궁내막증별 임신_성공_여부 비율 및 갯수\n",
      "\n",
      "                 0         1      0     1  Total\n",
      "variable                                        \n",
      "0         0.743807  0.256193  24562  8460  33022\n",
      "1         0.758921  0.241079   1914   608   2522\n"
     ]
    }
   ],
   "source": [
    "value_counts_ratio(train, '불임_원인_-_자궁내막증')"
   ]
  },
  {
   "cell_type": "markdown",
   "metadata": {},
   "source": [
    "### 24. 불임_원인_-_정자_농도"
   ]
  },
  {
   "cell_type": "markdown",
   "metadata": {},
   "source": [
    "파트너의 정자 농도 문제 여부"
   ]
  },
  {
   "cell_type": "code",
   "execution_count": 55,
   "metadata": {},
   "outputs": [
    {
     "name": "stdout",
     "output_type": "stream",
     "text": [
      "\n",
      "불임_원인_-_정자_농도별 임신_성공_여부 비율 및 갯수\n",
      "\n",
      "                 0         1      0     1  Total\n",
      "variable                                        \n",
      "0         0.744863  0.255137  26427  9052  35479\n",
      "1         0.753846  0.246154     49    16     65\n"
     ]
    }
   ],
   "source": [
    "value_counts_ratio(train, '불임_원인_-_정자_농도')"
   ]
  },
  {
   "cell_type": "markdown",
   "metadata": {},
   "source": [
    "### 25. 불임_원인_-_정자_면역학적_요인"
   ]
  },
  {
   "cell_type": "markdown",
   "metadata": {},
   "source": [
    "파트너의 정자 면역 관련 문제 여부"
   ]
  },
  {
   "cell_type": "code",
   "execution_count": 56,
   "metadata": {},
   "outputs": [
    {
     "name": "stdout",
     "output_type": "stream",
     "text": [
      "\n",
      "불임_원인_-_정자_면역학적_요인별 임신_성공_여부 비율 및 갯수\n",
      "\n",
      "                0        1      0     1  Total\n",
      "variable                                      \n",
      "0         0.74488  0.25512  26476  9068  35544\n"
     ]
    }
   ],
   "source": [
    "value_counts_ratio(train, '불임_원인_-_정자_면역학적_요인')"
   ]
  },
  {
   "cell_type": "code",
   "execution_count": 57,
   "metadata": {},
   "outputs": [
    {
     "data": {
      "text/plain": [
       "0    12793\n",
       "Name: 불임_원인_-_정자_면역학적_요인, dtype: int64"
      ]
     },
     "execution_count": 57,
     "metadata": {},
     "output_type": "execute_result"
    }
   ],
   "source": [
    "test['불임_원인_-_정자_면역학적_요인'].value_counts()"
   ]
  },
  {
   "cell_type": "code",
   "execution_count": 58,
   "metadata": {},
   "outputs": [],
   "source": [
    "# '불임_원인_-_정자_면역학적_요인' 변수 제거\n",
    "train = train.drop(columns=['불임_원인_-_정자_면역학적_요인'])\n",
    "test = test.drop(columns=['불임_원인_-_정자_면역학적_요인'])"
   ]
  },
  {
   "cell_type": "markdown",
   "metadata": {},
   "source": [
    "### 26. 불임_원인_-_정자_운동성"
   ]
  },
  {
   "cell_type": "markdown",
   "metadata": {},
   "source": [
    "파트너의 정자 운동성 문제 여부"
   ]
  },
  {
   "cell_type": "code",
   "execution_count": 59,
   "metadata": {},
   "outputs": [
    {
     "name": "stdout",
     "output_type": "stream",
     "text": [
      "\n",
      "불임_원인_-_정자_운동성별 임신_성공_여부 비율 및 갯수\n",
      "\n",
      "                 0         1      0     1  Total\n",
      "variable                                        \n",
      "0         0.744784  0.255216  26451  9064  35515\n",
      "1         0.862069  0.137931     25     4     29\n"
     ]
    }
   ],
   "source": [
    "value_counts_ratio(train, '불임_원인_-_정자_운동성')"
   ]
  },
  {
   "cell_type": "code",
   "execution_count": 60,
   "metadata": {},
   "outputs": [],
   "source": [
    "# '불임_원인_-_정자_운동성' 변수 제거\n",
    "train = train.drop(columns=['불임_원인_-_정자_운동성'])\n",
    "test = test.drop(columns=['불임_원인_-_정자_운동성'])"
   ]
  },
  {
   "cell_type": "markdown",
   "metadata": {},
   "source": [
    "### 27. 불임_원인_-_정자_형태"
   ]
  },
  {
   "cell_type": "markdown",
   "metadata": {},
   "source": [
    "파트너의 정자 형태 문제 여부"
   ]
  },
  {
   "cell_type": "code",
   "execution_count": 61,
   "metadata": {},
   "outputs": [
    {
     "name": "stdout",
     "output_type": "stream",
     "text": [
      "\n",
      "불임_원인_-_정자_형태별 임신_성공_여부 비율 및 갯수\n",
      "\n",
      "                 0         1      0     1  Total\n",
      "variable                                        \n",
      "0         0.744859  0.255141  26444  9058  35502\n",
      "1         0.761905  0.238095     32    10     42\n"
     ]
    }
   ],
   "source": [
    "value_counts_ratio(train, '불임_원인_-_정자_형태')"
   ]
  },
  {
   "cell_type": "markdown",
   "metadata": {},
   "source": [
    "### 28. 배아_생성_주요_이유"
   ]
  },
  {
   "cell_type": "markdown",
   "metadata": {},
   "source": [
    "배아 생성의 주된 목적(시술, 보관 등)"
   ]
  },
  {
   "cell_type": "code",
   "execution_count": 62,
   "metadata": {},
   "outputs": [
    {
     "name": "stdout",
     "output_type": "stream",
     "text": [
      "\n",
      "배아_생성_주요_이유별 임신_성공_여부 비율 및 갯수\n",
      "\n",
      "                            0         1        0       1  Total\n",
      "variable                                                       \n",
      "기증용                  1.000000  0.000000    109.0     0.0    109\n",
      "기증용, 난자 저장용          1.000000  0.000000      6.0     0.0      6\n",
      "기증용, 배아 저장용          1.000000  0.000000      4.0     0.0      4\n",
      "기증용, 배아 저장용, 현재 시술용  1.000000  0.000000      1.0     0.0      1\n",
      "기증용, 현재 시술용          0.620272  0.379728    410.0   251.0    661\n",
      "난자 저장용               1.000000  0.000000    170.0     0.0    170\n",
      "난자 저장용, 현재 시술용       0.750000  0.250000      3.0     1.0      4\n",
      "배아 저장용               1.000000  0.000000    178.0     0.0    178\n",
      "배아 저장용, 현재 시술용       1.000000  0.000000      1.0     0.0      1\n",
      "현재 시술용               0.740115  0.259885  24782.0  8702.0  33484\n"
     ]
    }
   ],
   "source": [
    "value_counts_ratio(train, '배아_생성_주요_이유')"
   ]
  },
  {
   "cell_type": "code",
   "execution_count": 63,
   "metadata": {},
   "outputs": [],
   "source": [
    "# '연구용'이라는 값이 포함된 행 삭제\n",
    "train = train[~train['배아_생성_주요_이유'].str.contains('연구용', na=False)]\n",
    "# test = test[~test['배아_생성_주요_이유'].str.contains('연구용', na=False)]"
   ]
  },
  {
   "cell_type": "code",
   "execution_count": 64,
   "metadata": {},
   "outputs": [
    {
     "name": "stdout",
     "output_type": "stream",
     "text": [
      "\n",
      "배아_생성_주요_이유별 임신_성공_여부 비율 및 갯수\n",
      "\n",
      "                            0         1        0       1  Total\n",
      "variable                                                       \n",
      "기증용                  1.000000  0.000000    109.0     0.0    109\n",
      "기증용, 난자 저장용          1.000000  0.000000      6.0     0.0      6\n",
      "기증용, 배아 저장용          1.000000  0.000000      4.0     0.0      4\n",
      "기증용, 배아 저장용, 현재 시술용  1.000000  0.000000      1.0     0.0      1\n",
      "기증용, 현재 시술용          0.620272  0.379728    410.0   251.0    661\n",
      "난자 저장용               1.000000  0.000000    170.0     0.0    170\n",
      "난자 저장용, 현재 시술용       0.750000  0.250000      3.0     1.0      4\n",
      "배아 저장용               1.000000  0.000000    178.0     0.0    178\n",
      "배아 저장용, 현재 시술용       1.000000  0.000000      1.0     0.0      1\n",
      "현재 시술용               0.740115  0.259885  24782.0  8702.0  33484\n"
     ]
    }
   ],
   "source": [
    "value_counts_ratio(train, '배아_생성_주요_이유')"
   ]
  },
  {
   "cell_type": "code",
   "execution_count": 65,
   "metadata": {},
   "outputs": [
    {
     "data": {
      "text/plain": [
       "현재 시술용                 12098\n",
       "기증용, 현재 시술용              231\n",
       "배아 저장용                    62\n",
       "난자 저장용                    59\n",
       "기증용                       35\n",
       "기증용, 배아 저장용, 현재 시술용        2\n",
       "기증용, 배아 저장용                2\n",
       "난자 저장용, 현재 시술용             1\n",
       "배아 저장용, 현재 시술용             1\n",
       "Name: 배아_생성_주요_이유, dtype: int64"
      ]
     },
     "execution_count": 65,
     "metadata": {},
     "output_type": "execute_result"
    }
   ],
   "source": [
    "test['배아_생성_주요_이유'].value_counts()"
   ]
  },
  {
   "cell_type": "code",
   "execution_count": 66,
   "metadata": {},
   "outputs": [
    {
     "name": "stdout",
     "output_type": "stream",
     "text": [
      "결측값 개수: 926\n",
      "결측값 개수: 0\n"
     ]
    }
   ],
   "source": [
    "print(\"결측값 개수:\", train['배아_생성_주요_이유'].isnull().sum())\n",
    "\n",
    "train['배아_생성_주요_이유'].fillna('unknown', inplace=True)\n",
    "test['배아_생성_주요_이유'].fillna('unknown', inplace=True)\n",
    "\n",
    "print(\"결측값 개수:\", train['배아_생성_주요_이유'].isnull().sum())"
   ]
  },
  {
   "cell_type": "code",
   "execution_count": 67,
   "metadata": {},
   "outputs": [],
   "source": [
    "# '현재 시술용' 키워드가 포함된 경우 1, 그렇지 않은 경우 0을 부여하는 더미 변수 생성\n",
    "train['배아_생성_주요_이유_현재시술용'] = train['배아_생성_주요_이유'].str.contains('현재 시술용').astype(int)\n",
    "test['배아_생성_주요_이유_현재시술용'] = test['배아_생성_주요_이유'].str.contains('현재 시술용').astype(int)"
   ]
  },
  {
   "cell_type": "code",
   "execution_count": 68,
   "metadata": {},
   "outputs": [],
   "source": [
    "# '기증용' 키워드가 포함된 경우 1, 그렇지 않은 경우 0을 부여하는 더미 변수 생성\n",
    "train['배아_생성_주요_이유_기증용'] = train['배아_생성_주요_이유'].str.contains('기증용').astype(int)\n",
    "test['배아_생성_주요_이유_기증용'] = test['배아_생성_주요_이유'].str.contains('기증용').astype(int)"
   ]
  },
  {
   "cell_type": "code",
   "execution_count": 69,
   "metadata": {},
   "outputs": [],
   "source": [
    "# '난자 저장용' 키워드가 포함된 경우 1, 그렇지 않은 경우 0을 부여하는 더미 변수 생성\n",
    "train['배아_생성_주요_이유_난자저장용'] = train['배아_생성_주요_이유'].str.contains('난자 저장용').astype(int)\n",
    "test['배아_생성_주요_이유_난자저장용'] = test['배아_생성_주요_이유'].str.contains('난자 저장용').astype(int)"
   ]
  },
  {
   "cell_type": "code",
   "execution_count": 70,
   "metadata": {},
   "outputs": [],
   "source": [
    "# '배아 저장용' 키워드가 포함된 경우 1, 그렇지 않은 경우 0을 부여하는 더미 변수 생성\n",
    "train['배아_생성_주요_이유_배아저장용'] = train['배아_생성_주요_이유'].str.contains('배아 저장용').astype(int)\n",
    "test['배아_생성_주요_이유_배아저장용'] = test['배아_생성_주요_이유'].str.contains('배아 저장용').astype(int)"
   ]
  },
  {
   "cell_type": "code",
   "execution_count": 71,
   "metadata": {},
   "outputs": [
    {
     "name": "stdout",
     "output_type": "stream",
     "text": [
      "Grouped by: 배아_생성_주요_이유_현재시술용, 배아_생성_주요_이유_기증용, 배아_생성_주요_이유_난자저장용, 배아_생성_주요_이유_배아저장용\n",
      "\n",
      "           group  '임신_성공_여부' count     ratio  Total\n",
      "0   (0, 0, 0, 0)               114  0.123110    926\n",
      "1   (0, 0, 0, 1)                 0  0.000000    178\n",
      "2   (0, 0, 1, 0)                 0  0.000000    170\n",
      "3   (0, 1, 0, 0)                 0  0.000000    109\n",
      "4   (0, 1, 0, 1)                 0  0.000000      4\n",
      "5   (0, 1, 1, 0)                 0  0.000000      6\n",
      "6   (1, 0, 0, 0)              8702  0.259885  33484\n",
      "7   (1, 0, 0, 1)                 0  0.000000      1\n",
      "8   (1, 0, 1, 0)                 1  0.250000      4\n",
      "9   (1, 1, 0, 0)               251  0.379728    661\n",
      "10  (1, 1, 0, 1)                 0  0.000000      1\n"
     ]
    }
   ],
   "source": [
    "summarize_group(train, [\n",
    "    # '배아_생성_주요_이유',\n",
    "    '배아_생성_주요_이유_현재시술용',\n",
    "    '배아_생성_주요_이유_기증용',\n",
    "    '배아_생성_주요_이유_난자저장용',\n",
    "    '배아_생성_주요_이유_배아저장용'\n",
    "                        ])"
   ]
  },
  {
   "cell_type": "code",
   "execution_count": 72,
   "metadata": {},
   "outputs": [
    {
     "name": "stdout",
     "output_type": "stream",
     "text": [
      "\n",
      "배아_생성_주요_이유_현재시술용별 임신_성공_여부 비율 및 갯수\n",
      "\n",
      "                 0         1      0     1  Total\n",
      "variable                                        \n",
      "0         0.918162  0.081838   1279   114   1393\n",
      "1         0.737811  0.262189  25197  8954  34151\n"
     ]
    }
   ],
   "source": [
    "value_counts_ratio(train, '배아_생성_주요_이유_현재시술용')"
   ]
  },
  {
   "cell_type": "code",
   "execution_count": 73,
   "metadata": {},
   "outputs": [],
   "source": [
    "# # 변수 제거\n",
    "# train = train.drop(columns=['배아_생성_주요_이유'])\n",
    "# test = test.drop(columns=['배아_생성_주요_이유'])"
   ]
  },
  {
   "cell_type": "markdown",
   "metadata": {},
   "source": [
    "### 29. 총_시술_횟수"
   ]
  },
  {
   "cell_type": "markdown",
   "metadata": {},
   "source": [
    "IVF 및 DI 포함한 전체 시술 횟수"
   ]
  },
  {
   "cell_type": "code",
   "execution_count": 74,
   "metadata": {},
   "outputs": [
    {
     "name": "stdout",
     "output_type": "stream",
     "text": [
      "\n",
      "총_시술_횟수별 임신_성공_여부 비율 및 갯수\n",
      "\n",
      "                 0         1     0     1  Total\n",
      "variable                                       \n",
      "0회        0.703421  0.296579  9046  3814  12860\n",
      "1회        0.752582  0.247418  6339  2084   8423\n",
      "2회        0.770441  0.229559  4504  1342   5846\n",
      "3회        0.768692  0.231308  2632   792   3424\n",
      "4회        0.773236  0.226764  1589   466   2055\n",
      "5회        0.802653  0.197347   968   238   1206\n",
      "6회 이상     0.808092  0.191908  1398   332   1730\n"
     ]
    }
   ],
   "source": [
    "value_counts_ratio(train, '총_시술_횟수')"
   ]
  },
  {
   "cell_type": "code",
   "execution_count": 75,
   "metadata": {},
   "outputs": [
    {
     "data": {
      "text/plain": [
       "0회       4710\n",
       "1회       3034\n",
       "2회       2016\n",
       "3회       1241\n",
       "4회        757\n",
       "6회 이상     590\n",
       "5회        445\n",
       "Name: 총_시술_횟수, dtype: int64"
      ]
     },
     "execution_count": 75,
     "metadata": {},
     "output_type": "execute_result"
    }
   ],
   "source": [
    "test['총_시술_횟수'].value_counts()"
   ]
  },
  {
   "cell_type": "code",
   "execution_count": 76,
   "metadata": {},
   "outputs": [
    {
     "name": "stdout",
     "output_type": "stream",
     "text": [
      "\n",
      "총_시술_횟수별 임신_성공_여부 비율 및 갯수\n",
      "\n",
      "                 0         1     0     1  Total\n",
      "variable                                       \n",
      "0         0.703421  0.296579  9046  3814  12860\n",
      "1         0.752582  0.247418  6339  2084   8423\n",
      "2         0.770441  0.229559  4504  1342   5846\n",
      "3         0.768692  0.231308  2632   792   3424\n",
      "4         0.773236  0.226764  1589   466   2055\n",
      "5         0.802653  0.197347   968   238   1206\n",
      "6         0.808092  0.191908  1398   332   1730\n"
     ]
    }
   ],
   "source": [
    "# 숫자 매핑\n",
    "mapping = {\n",
    "    '0회': 0,\n",
    "    '1회': 1,\n",
    "    '2회': 2,\n",
    "    '3회': 3,\n",
    "    '4회': 4,\n",
    "    '5회': 5,\n",
    "    '6회 이상': 6\n",
    "}\n",
    "\n",
    "# 숫자로 변환\n",
    "train['총_시술_횟수'] = train['총_시술_횟수'].map(mapping)\n",
    "test['총_시술_횟수'] = test['총_시술_횟수'].map(mapping)\n",
    "\n",
    "value_counts_ratio(train, '총_시술_횟수')"
   ]
  },
  {
   "cell_type": "markdown",
   "metadata": {},
   "source": [
    "### 30. 클리닉_내_총_시술_횟수"
   ]
  },
  {
   "cell_type": "markdown",
   "metadata": {},
   "source": [
    "특정 클리닉에서 받은 IVF 및 DI 시술 횟수"
   ]
  },
  {
   "cell_type": "code",
   "execution_count": 77,
   "metadata": {},
   "outputs": [
    {
     "name": "stdout",
     "output_type": "stream",
     "text": [
      "\n",
      "클리닉_내_총_시술_횟수별 임신_성공_여부 비율 및 갯수\n",
      "\n",
      "                 0         1      0     1  Total\n",
      "variable                                        \n",
      "0회        0.713461  0.286539  11613  4664  16277\n",
      "1회        0.757669  0.242331   6644  2125   8769\n",
      "2회        0.775252  0.224748   3922  1137   5059\n",
      "3회        0.771485  0.228515   1948   577   2525\n",
      "4회        0.790732  0.209268   1058   280   1338\n",
      "5회        0.816552  0.183448    592   133    725\n",
      "6회 이상     0.821387  0.178613    699   152    851\n"
     ]
    }
   ],
   "source": [
    "value_counts_ratio(train, '클리닉_내_총_시술_횟수')"
   ]
  },
  {
   "cell_type": "code",
   "execution_count": 78,
   "metadata": {},
   "outputs": [
    {
     "name": "stdout",
     "output_type": "stream",
     "text": [
      "\n",
      "클리닉_내_총_시술_횟수별 임신_성공_여부 비율 및 갯수\n",
      "\n",
      "                 0         1      0     1  Total\n",
      "variable                                        \n",
      "0         0.713461  0.286539  11613  4664  16277\n",
      "1         0.757669  0.242331   6644  2125   8769\n",
      "2         0.775252  0.224748   3922  1137   5059\n",
      "3         0.771485  0.228515   1948   577   2525\n",
      "4         0.790732  0.209268   1058   280   1338\n",
      "5         0.816552  0.183448    592   133    725\n",
      "6         0.821387  0.178613    699   152    851\n"
     ]
    }
   ],
   "source": [
    "# 숫자 매핑\n",
    "mapping = {\n",
    "    '0회': 0,\n",
    "    '1회': 1,\n",
    "    '2회': 2,\n",
    "    '3회': 3,\n",
    "    '4회': 4,\n",
    "    '5회': 5,\n",
    "    '6회 이상': 6\n",
    "}\n",
    "\n",
    "# 숫자로 변환\n",
    "train['클리닉_내_총_시술_횟수'] = train['클리닉_내_총_시술_횟수'].map(mapping)\n",
    "test['클리닉_내_총_시술_횟수'] = test['클리닉_내_총_시술_횟수'].map(mapping)\n",
    "\n",
    "value_counts_ratio(train, '클리닉_내_총_시술_횟수')"
   ]
  },
  {
   "cell_type": "markdown",
   "metadata": {},
   "source": [
    "### 31. IVF_시술_횟수"
   ]
  },
  {
   "cell_type": "markdown",
   "metadata": {},
   "source": [
    "이전에 수행된 IVF 시술 횟수"
   ]
  },
  {
   "cell_type": "code",
   "execution_count": 79,
   "metadata": {},
   "outputs": [
    {
     "name": "stdout",
     "output_type": "stream",
     "text": [
      "\n",
      "IVF_시술_횟수별 임신_성공_여부 비율 및 갯수\n",
      "\n",
      "                 0         1     0     1  Total\n",
      "variable                                       \n",
      "0회        0.707631  0.292369  9737  4023  13760\n",
      "1회        0.752902  0.247098  6487  2129   8616\n",
      "2회        0.771945  0.228055  4485  1325   5810\n",
      "3회        0.772348  0.227652  2497   736   3233\n",
      "4회        0.771536  0.228464  1442   427   1869\n",
      "5회        0.803554  0.196446   814   199   1013\n",
      "6회 이상     0.815768  0.184232  1014   229   1243\n"
     ]
    }
   ],
   "source": [
    "value_counts_ratio(train, 'IVF_시술_횟수')"
   ]
  },
  {
   "cell_type": "code",
   "execution_count": 80,
   "metadata": {},
   "outputs": [
    {
     "name": "stdout",
     "output_type": "stream",
     "text": [
      "\n",
      "IVF_시술_횟수별 임신_성공_여부 비율 및 갯수\n",
      "\n",
      "                 0         1     0     1  Total\n",
      "variable                                       \n",
      "0         0.707631  0.292369  9737  4023  13760\n",
      "1         0.752902  0.247098  6487  2129   8616\n",
      "2         0.771945  0.228055  4485  1325   5810\n",
      "3         0.772348  0.227652  2497   736   3233\n",
      "4         0.771536  0.228464  1442   427   1869\n",
      "5         0.803554  0.196446   814   199   1013\n",
      "6         0.815768  0.184232  1014   229   1243\n"
     ]
    }
   ],
   "source": [
    "# 숫자 매핑\n",
    "mapping = {\n",
    "    '0회': 0,\n",
    "    '1회': 1,\n",
    "    '2회': 2,\n",
    "    '3회': 3,\n",
    "    '4회': 4,\n",
    "    '5회': 5,\n",
    "    '6회 이상': 6\n",
    "}\n",
    "\n",
    "# 숫자로 변환\n",
    "train['IVF_시술_횟수'] = train['IVF_시술_횟수'].map(mapping)\n",
    "test['IVF_시술_횟수'] = test['IVF_시술_횟수'].map(mapping)\n",
    "\n",
    "value_counts_ratio(train, 'IVF_시술_횟수')"
   ]
  },
  {
   "cell_type": "markdown",
   "metadata": {},
   "source": [
    "### 32. DI_시술_횟수"
   ]
  },
  {
   "cell_type": "markdown",
   "metadata": {},
   "source": [
    "이전에 수행된 DI 시술 횟수"
   ]
  },
  {
   "cell_type": "code",
   "execution_count": 81,
   "metadata": {},
   "outputs": [
    {
     "name": "stdout",
     "output_type": "stream",
     "text": [
      "\n",
      "DI_시술_횟수별 임신_성공_여부 비율 및 갯수\n",
      "\n",
      "                 0         1      0     1  Total\n",
      "variable                                        \n",
      "0회        0.742366  0.257634  24991  8673  33664\n",
      "1회        0.809278  0.190722    314    74    388\n",
      "2회        0.783375  0.216625    311    86    397\n",
      "3회        0.765789  0.234211    291    89    380\n",
      "4회        0.840816  0.159184    206    39    245\n",
      "5회        0.797872  0.202128    150    38    188\n",
      "6회 이상     0.755319  0.244681    213    69    282\n"
     ]
    }
   ],
   "source": [
    "value_counts_ratio(train, 'DI_시술_횟수')"
   ]
  },
  {
   "cell_type": "code",
   "execution_count": 82,
   "metadata": {},
   "outputs": [
    {
     "name": "stdout",
     "output_type": "stream",
     "text": [
      "\n",
      "DI_시술_횟수별 임신_성공_여부 비율 및 갯수\n",
      "\n",
      "                 0         1      0     1  Total\n",
      "variable                                        \n",
      "0         0.742366  0.257634  24991  8673  33664\n",
      "1         0.809278  0.190722    314    74    388\n",
      "2         0.783375  0.216625    311    86    397\n",
      "3         0.765789  0.234211    291    89    380\n",
      "4         0.840816  0.159184    206    39    245\n",
      "5         0.797872  0.202128    150    38    188\n",
      "6         0.755319  0.244681    213    69    282\n"
     ]
    }
   ],
   "source": [
    "# 숫자 매핑\n",
    "mapping = {\n",
    "    '0회': 0,\n",
    "    '1회': 1,\n",
    "    '2회': 2,\n",
    "    '3회': 3,\n",
    "    '4회': 4,\n",
    "    '5회': 5,\n",
    "    '6회 이상': 6\n",
    "}\n",
    "\n",
    "# 숫자로 변환\n",
    "train['DI_시술_횟수'] = train['DI_시술_횟수'].map(mapping)\n",
    "test['DI_시술_횟수'] = test['DI_시술_횟수'].map(mapping)\n",
    "\n",
    "value_counts_ratio(train, 'DI_시술_횟수')"
   ]
  },
  {
   "cell_type": "markdown",
   "metadata": {},
   "source": [
    "### 33. 총_임신_횟수"
   ]
  },
  {
   "cell_type": "markdown",
   "metadata": {},
   "source": [
    "IVF 및 DI 포함한 총 임신 횟수"
   ]
  },
  {
   "cell_type": "code",
   "execution_count": 83,
   "metadata": {},
   "outputs": [
    {
     "name": "stdout",
     "output_type": "stream",
     "text": [
      "\n",
      "총_임신_횟수별 임신_성공_여부 비율 및 갯수\n",
      "\n",
      "                 0         1        0       1  Total\n",
      "variable                                            \n",
      "0회        0.745776  0.254224  21365.0  7283.0  28648\n",
      "1회        0.740106  0.259894   4488.0  1576.0   6064\n",
      "2회        0.748641  0.251359    551.0   185.0    736\n",
      "3회        0.753086  0.246914     61.0    20.0     81\n",
      "4회        0.750000  0.250000      9.0     3.0     12\n",
      "5회        0.500000  0.500000      1.0     1.0      2\n",
      "6회 이상     1.000000  0.000000      1.0     0.0      1\n"
     ]
    }
   ],
   "source": [
    "value_counts_ratio(train, '총_임신_횟수')"
   ]
  },
  {
   "cell_type": "code",
   "execution_count": 84,
   "metadata": {},
   "outputs": [
    {
     "name": "stdout",
     "output_type": "stream",
     "text": [
      "\n",
      "총_임신_횟수별 임신_성공_여부 비율 및 갯수\n",
      "\n",
      "                 0         1        0       1  Total\n",
      "variable                                            \n",
      "0         0.745776  0.254224  21365.0  7283.0  28648\n",
      "1         0.740106  0.259894   4488.0  1576.0   6064\n",
      "2         0.748641  0.251359    551.0   185.0    736\n",
      "3         0.753086  0.246914     61.0    20.0     81\n",
      "4         0.750000  0.250000      9.0     3.0     12\n",
      "5         0.500000  0.500000      1.0     1.0      2\n",
      "6         1.000000  0.000000      1.0     0.0      1\n"
     ]
    }
   ],
   "source": [
    "# 숫자 매핑\n",
    "mapping = {\n",
    "    '0회': 0,\n",
    "    '1회': 1,\n",
    "    '2회': 2,\n",
    "    '3회': 3,\n",
    "    '4회': 4,\n",
    "    '5회': 5,\n",
    "    '6회 이상': 6\n",
    "}\n",
    "\n",
    "# 숫자로 변환\n",
    "train['총_임신_횟수'] = train['총_임신_횟수'].map(mapping)\n",
    "test['총_임신_횟수'] = test['총_임신_횟수'].map(mapping)\n",
    "\n",
    "value_counts_ratio(train, '총_임신_횟수')"
   ]
  },
  {
   "cell_type": "markdown",
   "metadata": {},
   "source": [
    "### 34. IVF_임신_횟수"
   ]
  },
  {
   "cell_type": "markdown",
   "metadata": {},
   "source": [
    "IVF 시술로 인한 임신 횟수"
   ]
  },
  {
   "cell_type": "code",
   "execution_count": 85,
   "metadata": {},
   "outputs": [
    {
     "name": "stdout",
     "output_type": "stream",
     "text": [
      "\n",
      "IVF_임신_횟수별 임신_성공_여부 비율 및 갯수\n",
      "\n",
      "                 0         1        0       1  Total\n",
      "variable                                            \n",
      "0회        0.745640  0.254360  21634.0  7380.0  29014\n",
      "1회        0.739100  0.260900   4255.0  1502.0   5757\n",
      "2회        0.756204  0.243796    518.0   167.0    685\n",
      "3회        0.786667  0.213333     59.0    16.0     75\n",
      "4회        0.750000  0.250000      9.0     3.0     12\n",
      "5회        1.000000  0.000000      1.0     0.0      1\n"
     ]
    }
   ],
   "source": [
    "value_counts_ratio(train, 'IVF_임신_횟수')"
   ]
  },
  {
   "cell_type": "code",
   "execution_count": 86,
   "metadata": {},
   "outputs": [
    {
     "name": "stdout",
     "output_type": "stream",
     "text": [
      "\n",
      "IVF_임신_횟수별 임신_성공_여부 비율 및 갯수\n",
      "\n",
      "                 0         1        0       1  Total\n",
      "variable                                            \n",
      "0         0.745640  0.254360  21634.0  7380.0  29014\n",
      "1         0.739100  0.260900   4255.0  1502.0   5757\n",
      "2         0.756204  0.243796    518.0   167.0    685\n",
      "3         0.786667  0.213333     59.0    16.0     75\n",
      "4         0.750000  0.250000      9.0     3.0     12\n",
      "5         1.000000  0.000000      1.0     0.0      1\n"
     ]
    }
   ],
   "source": [
    "# 숫자 매핑\n",
    "mapping = {\n",
    "    '0회': 0,\n",
    "    '1회': 1,\n",
    "    '2회': 2,\n",
    "    '3회': 3,\n",
    "    '4회': 4,\n",
    "    '5회': 5,\n",
    "    '6회 이상': 6\n",
    "}\n",
    "\n",
    "# 숫자로 변환\n",
    "train['IVF_임신_횟수'] = train['IVF_임신_횟수'].map(mapping)\n",
    "test['IVF_임신_횟수'] = test['IVF_임신_횟수'].map(mapping)\n",
    "\n",
    "value_counts_ratio(train, 'IVF_임신_횟수')"
   ]
  },
  {
   "cell_type": "markdown",
   "metadata": {},
   "source": [
    "### 35. DI_임신_횟수"
   ]
  },
  {
   "cell_type": "markdown",
   "metadata": {},
   "source": [
    "DI 시술로 인한 임신 횟수"
   ]
  },
  {
   "cell_type": "code",
   "execution_count": 87,
   "metadata": {},
   "outputs": [
    {
     "name": "stdout",
     "output_type": "stream",
     "text": [
      "\n",
      "DI_임신_횟수별 임신_성공_여부 비율 및 갯수\n",
      "\n",
      "                 0         1      0     1  Total\n",
      "variable                                        \n",
      "0회        0.745023  0.254977  26195  8965  35160\n",
      "1회        0.752212  0.247788    255    84    339\n",
      "2회        0.600000  0.400000     24    16     40\n",
      "3회        0.333333  0.666667      1     2      3\n",
      "5회        0.500000  0.500000      1     1      2\n"
     ]
    }
   ],
   "source": [
    "value_counts_ratio(train, 'DI_임신_횟수')"
   ]
  },
  {
   "cell_type": "code",
   "execution_count": 88,
   "metadata": {},
   "outputs": [
    {
     "name": "stdout",
     "output_type": "stream",
     "text": [
      "\n",
      "DI_임신_횟수별 임신_성공_여부 비율 및 갯수\n",
      "\n",
      "                 0         1      0     1  Total\n",
      "variable                                        \n",
      "0         0.745023  0.254977  26195  8965  35160\n",
      "1         0.752212  0.247788    255    84    339\n",
      "2         0.600000  0.400000     24    16     40\n",
      "3         0.333333  0.666667      1     2      3\n",
      "5         0.500000  0.500000      1     1      2\n"
     ]
    }
   ],
   "source": [
    "# 숫자 매핑\n",
    "mapping = {\n",
    "    '0회': 0,\n",
    "    '1회': 1,\n",
    "    '2회': 2,\n",
    "    '3회': 3,\n",
    "    '4회': 4,\n",
    "    '5회': 5\n",
    "}\n",
    "\n",
    "# 숫자로 변환\n",
    "train['DI_임신_횟수'] = train['DI_임신_횟수'].map(mapping)\n",
    "test['DI_임신_횟수'] = test['DI_임신_횟수'].map(mapping)\n",
    "\n",
    "value_counts_ratio(train, 'DI_임신_횟수')"
   ]
  },
  {
   "cell_type": "markdown",
   "metadata": {},
   "source": [
    "### 36. 총_출산_횟수"
   ]
  },
  {
   "cell_type": "markdown",
   "metadata": {},
   "source": [
    "IVF 및 DI 시술로 출산한 횟수"
   ]
  },
  {
   "cell_type": "code",
   "execution_count": 89,
   "metadata": {},
   "outputs": [
    {
     "name": "stdout",
     "output_type": "stream",
     "text": [
      "\n",
      "총_출산_횟수별 임신_성공_여부 비율 및 갯수\n",
      "\n",
      "                 0         1        0       1  Total\n",
      "variable                                            \n",
      "0회        0.745471  0.254529  22672.0  7741.0  30413\n",
      "1회        0.742262  0.257738   3597.0  1249.0   4846\n",
      "2회        0.724806  0.275194    187.0    71.0    258\n",
      "3회        0.714286  0.285714     15.0     6.0     21\n",
      "4회        0.800000  0.200000      4.0     1.0      5\n",
      "6회 이상     1.000000  0.000000      1.0     0.0      1\n"
     ]
    }
   ],
   "source": [
    "value_counts_ratio(train, '총_출산_횟수')"
   ]
  },
  {
   "cell_type": "code",
   "execution_count": 90,
   "metadata": {},
   "outputs": [
    {
     "name": "stdout",
     "output_type": "stream",
     "text": [
      "\n",
      "총_출산_횟수별 임신_성공_여부 비율 및 갯수\n",
      "\n",
      "                 0         1        0       1  Total\n",
      "variable                                            \n",
      "0         0.745471  0.254529  22672.0  7741.0  30413\n",
      "1         0.742262  0.257738   3597.0  1249.0   4846\n",
      "2         0.724806  0.275194    187.0    71.0    258\n",
      "3         0.714286  0.285714     15.0     6.0     21\n",
      "4         0.800000  0.200000      4.0     1.0      5\n",
      "6         1.000000  0.000000      1.0     0.0      1\n"
     ]
    }
   ],
   "source": [
    "# 숫자 매핑\n",
    "mapping = {\n",
    "    '0회': 0,\n",
    "    '1회': 1,\n",
    "    '2회': 2,\n",
    "    '3회': 3,\n",
    "    '4회': 4,\n",
    "    '5회': 5,\n",
    "    '6회 이상': 6\n",
    "}\n",
    "\n",
    "# 숫자로 변환\n",
    "train['총_출산_횟수'] = train['총_출산_횟수'].map(mapping)\n",
    "test['총_출산_횟수'] = test['총_출산_횟수'].map(mapping)\n",
    "\n",
    "value_counts_ratio(train, '총_출산_횟수')"
   ]
  },
  {
   "cell_type": "markdown",
   "metadata": {},
   "source": [
    "### 37. IVF_출산_횟수"
   ]
  },
  {
   "cell_type": "markdown",
   "metadata": {},
   "source": [
    "IVF 시술로 출산한 횟수"
   ]
  },
  {
   "cell_type": "code",
   "execution_count": 91,
   "metadata": {},
   "outputs": [
    {
     "name": "stdout",
     "output_type": "stream",
     "text": [
      "\n",
      "IVF_출산_횟수별 임신_성공_여부 비율 및 갯수\n",
      "\n",
      "                 0         1      0     1  Total\n",
      "variable                                        \n",
      "0회        0.745466  0.254534  22894  7817  30711\n",
      "1회        0.741308  0.258692   3390  1183   4573\n",
      "2회        0.733051  0.266949    173    63    236\n",
      "3회        0.789474  0.210526     15     4     19\n",
      "4회        0.800000  0.200000      4     1      5\n"
     ]
    }
   ],
   "source": [
    "value_counts_ratio(train, 'IVF_출산_횟수')"
   ]
  },
  {
   "cell_type": "code",
   "execution_count": 92,
   "metadata": {},
   "outputs": [
    {
     "name": "stdout",
     "output_type": "stream",
     "text": [
      "\n",
      "IVF_출산_횟수별 임신_성공_여부 비율 및 갯수\n",
      "\n",
      "                 0         1      0     1  Total\n",
      "variable                                        \n",
      "0         0.745466  0.254534  22894  7817  30711\n",
      "1         0.741308  0.258692   3390  1183   4573\n",
      "2         0.733051  0.266949    173    63    236\n",
      "3         0.789474  0.210526     15     4     19\n",
      "4         0.800000  0.200000      4     1      5\n"
     ]
    }
   ],
   "source": [
    "# 숫자 매핑\n",
    "mapping = {\n",
    "    '0회': 0,\n",
    "    '1회': 1,\n",
    "    '2회': 2,\n",
    "    '3회': 3,\n",
    "    '4회': 4,\n",
    "    '5회': 5\n",
    "}\n",
    "\n",
    "# 숫자로 변환\n",
    "train['IVF_출산_횟수'] = train['IVF_출산_횟수'].map(mapping)\n",
    "test['IVF_출산_횟수'] = test['IVF_출산_횟수'].map(mapping)\n",
    "\n",
    "value_counts_ratio(train, 'IVF_출산_횟수')"
   ]
  },
  {
   "cell_type": "code",
   "execution_count": 93,
   "metadata": {},
   "outputs": [
    {
     "data": {
      "text/plain": [
       "0    11051\n",
       "1     1667\n",
       "2       73\n",
       "3        2\n",
       "Name: IVF_출산_횟수, dtype: int64"
      ]
     },
     "execution_count": 93,
     "metadata": {},
     "output_type": "execute_result"
    }
   ],
   "source": [
    "test['IVF_출산_횟수'].value_counts()"
   ]
  },
  {
   "cell_type": "markdown",
   "metadata": {},
   "source": [
    "### 38. DI_출산_횟수"
   ]
  },
  {
   "cell_type": "markdown",
   "metadata": {},
   "source": [
    "DI 시술로 출산한 횟수"
   ]
  },
  {
   "cell_type": "code",
   "execution_count": 94,
   "metadata": {},
   "outputs": [
    {
     "name": "stdout",
     "output_type": "stream",
     "text": [
      "\n",
      "DI_출산_횟수별 임신_성공_여부 비율 및 갯수\n",
      "\n",
      "                 0         1        0       1  Total\n",
      "variable                                            \n",
      "0회        0.744885  0.255115  26249.0  8990.0  35239\n",
      "1회        0.755245  0.244755    216.0    70.0    286\n",
      "2회        0.625000  0.375000     10.0     6.0     16\n",
      "3회        0.000000  1.000000      0.0     2.0      2\n",
      "5회        1.000000  0.000000      1.0     0.0      1\n"
     ]
    }
   ],
   "source": [
    "value_counts_ratio(train, 'DI_출산_횟수')"
   ]
  },
  {
   "cell_type": "code",
   "execution_count": 95,
   "metadata": {},
   "outputs": [
    {
     "name": "stdout",
     "output_type": "stream",
     "text": [
      "\n",
      "DI_출산_횟수별 임신_성공_여부 비율 및 갯수\n",
      "\n",
      "                 0         1        0       1  Total\n",
      "variable                                            \n",
      "0         0.744885  0.255115  26249.0  8990.0  35239\n",
      "1         0.755245  0.244755    216.0    70.0    286\n",
      "2         0.625000  0.375000     10.0     6.0     16\n",
      "3         0.000000  1.000000      0.0     2.0      2\n",
      "5         1.000000  0.000000      1.0     0.0      1\n"
     ]
    }
   ],
   "source": [
    "# 숫자 매핑\n",
    "mapping = {\n",
    "    '0회': 0,\n",
    "    '1회': 1,\n",
    "    '2회': 2,\n",
    "    '3회': 3,\n",
    "    '4회': 4,\n",
    "    '5회': 5\n",
    "}\n",
    "\n",
    "# 숫자로 변환\n",
    "train['DI_출산_횟수'] = train['DI_출산_횟수'].map(mapping)\n",
    "test['DI_출산_횟수'] = test['DI_출산_횟수'].map(mapping)\n",
    "\n",
    "value_counts_ratio(train, 'DI_출산_횟수')"
   ]
  },
  {
   "cell_type": "code",
   "execution_count": 96,
   "metadata": {},
   "outputs": [
    {
     "data": {
      "text/plain": [
       "0    12689\n",
       "1       96\n",
       "2        8\n",
       "Name: DI_출산_횟수, dtype: int64"
      ]
     },
     "execution_count": 96,
     "metadata": {},
     "output_type": "execute_result"
    }
   ],
   "source": [
    "test['DI_출산_횟수'].value_counts()"
   ]
  },
  {
   "cell_type": "code",
   "execution_count": 97,
   "metadata": {},
   "outputs": [],
   "source": [
    "# # 모든 행과 열을 다 보이게 설정\n",
    "# pd.set_option('display.max_rows', None)\n",
    "# pd.set_option('display.max_columns', None)"
   ]
  },
  {
   "cell_type": "code",
   "execution_count": 98,
   "metadata": {},
   "outputs": [],
   "source": [
    "# summarize_group(train, ['IVF_시술_횟수', 'IVF_임신_횟수', 'IVF_출산_횟수'])"
   ]
  },
  {
   "cell_type": "code",
   "execution_count": 99,
   "metadata": {},
   "outputs": [],
   "source": [
    "# 주요 비율 계산 (train 데이터프레임)\n",
    "train['IVF_임신_시술_비율'] = np.where(train['IVF_시술_횟수'] > 0, train['IVF_임신_횟수'] / train['IVF_시술_횟수'], 0)\n",
    "train['IVF_출산_임신_비율'] = np.where(train['IVF_임신_횟수'] > 0, train['IVF_출산_횟수'] / train['IVF_임신_횟수'], 0)\n",
    "\n",
    "train['DI_임신_시술_비율'] = np.where(train['DI_시술_횟수'] > 0, train['DI_임신_횟수'] / train['DI_시술_횟수'], 0)\n",
    "train['DI_출산_임신_비율'] = np.where(train['DI_임신_횟수'] > 0, train['DI_출산_횟수'] / train['DI_임신_횟수'], 0)\n",
    "\n",
    "# 성공률 계산\n",
    "train['임신_성공률'] = np.where(train['총_시술_횟수'] > 0, train['총_임신_횟수'] / train['총_시술_횟수'], 0)\n",
    "train['출산_성공률'] = np.where(train['총_임신_횟수'] > 0, train['총_출산_횟수'] / train['총_임신_횟수'], 0)\n",
    "\n",
    "# 주요 비율 계산 (test 데이터프레임)\n",
    "test['IVF_임신_시술_비율'] = np.where(test['IVF_시술_횟수'] > 0, test['IVF_임신_횟수'] / test['IVF_시술_횟수'], 0)\n",
    "test['IVF_출산_임신_비율'] = np.where(test['IVF_임신_횟수'] > 0, test['IVF_출산_횟수'] / test['IVF_임신_횟수'], 0)\n",
    "\n",
    "test['DI_임신_시술_비율'] = np.where(test['DI_시술_횟수'] > 0, test['DI_임신_횟수'] / test['DI_시술_횟수'], 0)\n",
    "test['DI_출산_임신_비율'] = np.where(test['DI_임신_횟수'] > 0, test['DI_출산_횟수'] / test['DI_임신_횟수'], 0)\n",
    "\n",
    "# 성공률 계산\n",
    "test['임신_성공률'] = np.where(test['총_시술_횟수'] > 0, test['총_임신_횟수'] / test['총_시술_횟수'], 0)\n",
    "test['출산_성공률'] = np.where(test['총_임신_횟수'] > 0, test['총_출산_횟수'] / test['총_임신_횟수'], 0)"
   ]
  },
  {
   "cell_type": "markdown",
   "metadata": {},
   "source": [
    "### 39. 총_생성_배아_수"
   ]
  },
  {
   "cell_type": "markdown",
   "metadata": {},
   "source": [
    "해당 시술에서 생성된 배아의 총 개수"
   ]
  },
  {
   "cell_type": "code",
   "execution_count": 100,
   "metadata": {},
   "outputs": [
    {
     "name": "stdout",
     "output_type": "stream",
     "text": [
      "\n",
      "총_생성_배아_수별 임신_성공_여부 비율 및 갯수\n",
      "\n",
      "                 0         1       0       1  Total\n",
      "variable                                           \n",
      "0.0       0.855876  0.144124  6081.0  1024.0   7105\n",
      "1.0       0.901416  0.098584  1783.0   195.0   1978\n",
      "2.0       0.819878  0.180122  2153.0   473.0   2626\n",
      "3.0       0.747654  0.252346  2151.0   726.0   2877\n",
      "4.0       0.725879  0.274121  2272.0   858.0   3130\n",
      "5.0       0.690053  0.309947  2095.0   941.0   3036\n",
      "6.0       0.688512  0.311488  1786.0   808.0   2594\n",
      "7.0       0.668412  0.331588  1532.0   760.0   2292\n",
      "8.0       0.649698  0.350302  1289.0   695.0   1984\n",
      "9.0       0.641397  0.358603   973.0   544.0   1517\n",
      "10.0      0.639498  0.360502   816.0   460.0   1276\n",
      "11.0      0.635721  0.364279   630.0   361.0    991\n",
      "12.0      0.649937  0.350063   518.0   279.0    797\n",
      "13.0      0.636213  0.363787   383.0   219.0    602\n",
      "14.0      0.651316  0.348684   297.0   159.0    456\n",
      "15.0      0.610465  0.389535   210.0   134.0    344\n",
      "16.0      0.662745  0.337255   169.0    86.0    255\n",
      "17.0      0.668246  0.331754   141.0    70.0    211\n",
      "18.0      0.675000  0.325000    81.0    39.0    120\n",
      "19.0      0.672727  0.327273    74.0    36.0    110\n",
      "20.0      0.655172  0.344828    57.0    30.0     87\n",
      "21.0      0.700000  0.300000    42.0    18.0     60\n",
      "22.0      0.711538  0.288462    37.0    15.0     52\n",
      "23.0      0.757576  0.242424    25.0     8.0     33\n",
      "24.0      0.782609  0.217391    18.0     5.0     23\n",
      "25.0      0.736842  0.263158    14.0     5.0     19\n",
      "26.0      0.600000  0.400000     3.0     2.0      5\n",
      "27.0      0.714286  0.285714     5.0     2.0      7\n",
      "28.0      0.833333  0.166667     5.0     1.0      6\n",
      "29.0      1.000000  0.000000     5.0     0.0      5\n",
      "30.0      1.000000  0.000000     8.0     0.0      8\n",
      "31.0      1.000000  0.000000     1.0     0.0      1\n",
      "32.0      0.666667  0.333333     2.0     1.0      3\n",
      "33.0      1.000000  0.000000     1.0     0.0      1\n",
      "34.0      1.000000  0.000000     1.0     0.0      1\n",
      "35.0      1.000000  0.000000     1.0     0.0      1\n",
      "36.0      1.000000  0.000000     3.0     0.0      3\n",
      "44.0      1.000000  0.000000     2.0     0.0      2\n"
     ]
    }
   ],
   "source": [
    "value_counts_ratio(train, '총_생성_배아_수')"
   ]
  },
  {
   "cell_type": "markdown",
   "metadata": {},
   "source": [
    "### 40. 미세주입된_난자_수"
   ]
  },
  {
   "cell_type": "markdown",
   "metadata": {},
   "source": [
    "정자 미세주입(ICSI)으로 처리된 난자의 수"
   ]
  },
  {
   "cell_type": "code",
   "execution_count": 101,
   "metadata": {},
   "outputs": [
    {
     "name": "stdout",
     "output_type": "stream",
     "text": [
      "\n",
      "미세주입된_난자_수별 임신_성공_여부 비율 및 갯수\n",
      "\n",
      "                 0         1        0       1  Total\n",
      "variable                                            \n",
      "0.0       0.752363  0.247637  13213.0  4349.0  17562\n",
      "1.0       0.951264  0.048736    527.0    27.0    554\n",
      "2.0       0.896985  0.103015    714.0    82.0    796\n",
      "3.0       0.821662  0.178338    880.0   191.0   1071\n",
      "4.0       0.805680  0.194320   1078.0   260.0   1338\n",
      "5.0       0.761056  0.238944   1153.0   362.0   1515\n",
      "6.0       0.723214  0.276786   1134.0   434.0   1568\n",
      "7.0       0.724696  0.275304   1074.0   408.0   1482\n",
      "8.0       0.682236  0.317764    964.0   449.0   1413\n",
      "9.0       0.697865  0.302135    850.0   368.0   1218\n",
      "10.0      0.686078  0.313922    754.0   345.0   1099\n",
      "11.0      0.666667  0.333333    612.0   306.0    918\n",
      "12.0      0.676240  0.323760    518.0   248.0    766\n",
      "13.0      0.638681  0.361319    426.0   241.0    667\n",
      "14.0      0.655477  0.344523    371.0   195.0    566\n",
      "15.0      0.654428  0.345572    303.0   160.0    463\n",
      "16.0      0.667674  0.332326    221.0   110.0    331\n",
      "17.0      0.637993  0.362007    178.0   101.0    279\n",
      "18.0      0.628019  0.371981    130.0    77.0    207\n",
      "19.0      0.653179  0.346821    113.0    60.0    173\n",
      "20.0      0.659574  0.340426     93.0    48.0    141\n",
      "21.0      0.747475  0.252525     74.0    25.0     99\n",
      "22.0      0.706522  0.293478     65.0    27.0     92\n",
      "23.0      0.686567  0.313433     46.0    21.0     67\n",
      "24.0      0.630435  0.369565     29.0    17.0     46\n",
      "25.0      0.743590  0.256410     29.0    10.0     39\n",
      "26.0      0.647059  0.352941     22.0    12.0     34\n",
      "27.0      0.814815  0.185185     22.0     5.0     27\n",
      "28.0      0.809524  0.190476     17.0     4.0     21\n",
      "29.0      0.733333  0.266667     11.0     4.0     15\n",
      "30.0      0.857143  0.142857     12.0     2.0     14\n",
      "31.0      0.666667  0.333333      6.0     3.0      9\n",
      "32.0      0.714286  0.285714      5.0     2.0      7\n",
      "33.0      1.000000  0.000000      4.0     0.0      4\n",
      "34.0      1.000000  0.000000      3.0     0.0      3\n",
      "36.0      0.750000  0.250000      3.0     1.0      4\n",
      "37.0      1.000000  0.000000      2.0     0.0      2\n",
      "38.0      1.000000  0.000000      2.0     0.0      2\n",
      "39.0      1.000000  0.000000      1.0     0.0      1\n",
      "40.0      1.000000  0.000000      2.0     0.0      2\n",
      "41.0      1.000000  0.000000      1.0     0.0      1\n",
      "47.0      1.000000  0.000000      1.0     0.0      1\n",
      "51.0      1.000000  0.000000      1.0     0.0      1\n"
     ]
    }
   ],
   "source": [
    "value_counts_ratio(train, '미세주입된_난자_수')"
   ]
  },
  {
   "cell_type": "markdown",
   "metadata": {},
   "source": [
    "### 41. 미세주입에서_생성된_배아_수"
   ]
  },
  {
   "cell_type": "markdown",
   "metadata": {},
   "source": [
    "ICSI를 통해 생성된 배아의 수"
   ]
  },
  {
   "cell_type": "code",
   "execution_count": 102,
   "metadata": {},
   "outputs": [
    {
     "name": "stdout",
     "output_type": "stream",
     "text": [
      "\n",
      "미세주입에서_생성된_배아_수별 임신_성공_여부 비율 및 갯수\n",
      "\n",
      "                 0         1        0       1  Total\n",
      "variable                                            \n",
      "0.0       0.759892  0.240108  13770.0  4351.0  18121\n",
      "1.0       0.911880  0.088120   1159.0   112.0   1271\n",
      "2.0       0.818395  0.181605   1397.0   310.0   1707\n",
      "3.0       0.751309  0.248691   1435.0   475.0   1910\n",
      "4.0       0.745976  0.254024   1483.0   505.0   1988\n",
      "5.0       0.687468  0.312532   1333.0   606.0   1939\n",
      "6.0       0.690696  0.309304   1121.0   502.0   1623\n",
      "7.0       0.676981  0.323019    897.0   428.0   1325\n",
      "8.0       0.666100  0.333900    784.0   393.0   1177\n",
      "9.0       0.643304  0.356696    514.0   285.0    799\n",
      "10.0      0.639586  0.360414    433.0   244.0    677\n",
      "11.0      0.621415  0.378585    325.0   198.0    523\n",
      "12.0      0.671569  0.328431    274.0   134.0    408\n",
      "13.0      0.613115  0.386885    187.0   118.0    305\n",
      "14.0      0.662338  0.337662    153.0    78.0    231\n",
      "15.0      0.610063  0.389937     97.0    62.0    159\n",
      "16.0      0.681416  0.318584     77.0    36.0    113\n",
      "17.0      0.612245  0.387755     60.0    38.0     98\n",
      "18.0      0.636364  0.363636     35.0    20.0     55\n",
      "19.0      0.595745  0.404255     28.0    19.0     47\n",
      "20.0      0.666667  0.333333     24.0    12.0     36\n",
      "21.0      0.685714  0.314286     24.0    11.0     35\n",
      "22.0      0.545455  0.454545     12.0    10.0     22\n",
      "23.0      0.833333  0.166667     15.0     3.0     18\n",
      "24.0      0.777778  0.222222      7.0     2.0      9\n",
      "25.0      0.875000  0.125000      7.0     1.0      8\n",
      "26.0      0.000000  1.000000      0.0     1.0      1\n",
      "27.0      1.000000  0.000000      1.0     0.0      1\n",
      "28.0      1.000000  0.000000      2.0     0.0      2\n",
      "29.0      1.000000  0.000000      4.0     0.0      4\n",
      "30.0      1.000000  0.000000      4.0     0.0      4\n",
      "33.0      1.000000  0.000000      1.0     0.0      1\n",
      "36.0      1.000000  0.000000      1.0     0.0      1\n"
     ]
    }
   ],
   "source": [
    "value_counts_ratio(train, '미세주입에서_생성된_배아_수')"
   ]
  },
  {
   "cell_type": "markdown",
   "metadata": {},
   "source": [
    "### 42. 이식된_배아_수"
   ]
  },
  {
   "cell_type": "markdown",
   "metadata": {},
   "source": [
    "이식된 배아의 총 수"
   ]
  },
  {
   "cell_type": "code",
   "execution_count": 103,
   "metadata": {},
   "outputs": [
    {
     "name": "stdout",
     "output_type": "stream",
     "text": [
      "\n",
      "이식된_배아_수별 임신_성공_여부 비율 및 갯수\n",
      "\n",
      "                 0         1      0     1  Total\n",
      "variable                                        \n",
      "0.0       0.999726  0.000274   3651     1   3652\n",
      "1.0       0.715000  0.285000   8008  3192  11200\n",
      "2.0       0.698764  0.301236  12721  5484  18205\n",
      "3.0       0.822550  0.177450   1284   277   1561\n"
     ]
    }
   ],
   "source": [
    "value_counts_ratio(train, '이식된_배아_수')"
   ]
  },
  {
   "cell_type": "markdown",
   "metadata": {},
   "source": [
    "### 43. 미세주입_배아_이식_수"
   ]
  },
  {
   "cell_type": "markdown",
   "metadata": {},
   "source": [
    "ICSI 배아 중 이식된 배아의 수"
   ]
  },
  {
   "cell_type": "code",
   "execution_count": 104,
   "metadata": {},
   "outputs": [
    {
     "name": "stdout",
     "output_type": "stream",
     "text": [
      "\n",
      "미세주입_배아_이식_수별 임신_성공_여부 비율 및 갯수\n",
      "\n",
      "                 0         1      0     1  Total\n",
      "variable                                        \n",
      "0.0       0.768635  0.231365  14096  4243  18339\n",
      "1.0       0.718099  0.281901   4035  1584   5619\n",
      "2.0       0.695317  0.304683   6771  2967   9738\n",
      "3.0       0.826464  0.173536    762   160    922\n"
     ]
    }
   ],
   "source": [
    "value_counts_ratio(train, '미세주입_배아_이식_수')"
   ]
  },
  {
   "cell_type": "markdown",
   "metadata": {},
   "source": [
    "### 44. 저장된_배아_수"
   ]
  },
  {
   "cell_type": "markdown",
   "metadata": {},
   "source": [
    "환자를 위해 저장된 배아의 수"
   ]
  },
  {
   "cell_type": "code",
   "execution_count": 105,
   "metadata": {},
   "outputs": [
    {
     "name": "stdout",
     "output_type": "stream",
     "text": [
      "\n",
      "저장된_배아_수별 임신_성공_여부 비율 및 갯수\n",
      "\n",
      "                 0         1        0       1  Total\n",
      "variable                                            \n",
      "0.0       0.780487  0.219513  19271.0  5420.0  24691\n",
      "1.0       0.629785  0.370215   1497.0   880.0   2377\n",
      "2.0       0.617048  0.382952   1484.0   921.0   2405\n",
      "3.0       0.611931  0.388069    995.0   631.0   1626\n",
      "4.0       0.626629  0.373371    673.0   401.0   1074\n",
      "5.0       0.630556  0.369444    454.0   266.0    720\n",
      "6.0       0.680328  0.319672    332.0   156.0    488\n",
      "7.0       0.692308  0.307692    216.0    96.0    312\n",
      "8.0       0.695238  0.304762    146.0    64.0    210\n",
      "9.0       0.681818  0.318182    105.0    49.0    154\n",
      "10.0      0.731707  0.268293     90.0    33.0    123\n",
      "11.0      0.830769  0.169231     54.0    11.0     65\n",
      "12.0      0.716418  0.283582     48.0    19.0     67\n",
      "13.0      0.962963  0.037037     52.0     2.0     54\n",
      "14.0      0.960784  0.039216     49.0     2.0     51\n",
      "15.0      0.973684  0.026316     37.0     1.0     38\n",
      "16.0      0.931034  0.068966     27.0     2.0     29\n",
      "17.0      1.000000  0.000000     28.0     0.0     28\n",
      "18.0      1.000000  0.000000     18.0     0.0     18\n",
      "19.0      1.000000  0.000000     14.0     0.0     14\n",
      "20.0      1.000000  0.000000     16.0     0.0     16\n",
      "21.0      1.000000  0.000000     11.0     0.0     11\n",
      "22.0      1.000000  0.000000      8.0     0.0      8\n",
      "23.0      1.000000  0.000000     12.0     0.0     12\n",
      "24.0      1.000000  0.000000      5.0     0.0      5\n",
      "25.0      1.000000  0.000000      5.0     0.0      5\n",
      "26.0      1.000000  0.000000      3.0     0.0      3\n",
      "27.0      1.000000  0.000000      2.0     0.0      2\n",
      "28.0      1.000000  0.000000      2.0     0.0      2\n",
      "29.0      1.000000  0.000000      3.0     0.0      3\n",
      "30.0      1.000000  0.000000      4.0     0.0      4\n",
      "32.0      1.000000  0.000000      1.0     0.0      1\n",
      "34.0      1.000000  0.000000      1.0     0.0      1\n",
      "44.0      1.000000  0.000000      1.0     0.0      1\n"
     ]
    }
   ],
   "source": [
    "value_counts_ratio(train, '저장된_배아_수')"
   ]
  },
  {
   "cell_type": "markdown",
   "metadata": {},
   "source": [
    "### 45. 미세주입_후_저장된_배아_수"
   ]
  },
  {
   "cell_type": "markdown",
   "metadata": {},
   "source": [
    "ICSI 처리된 배아 중 저장된 배아의 수"
   ]
  },
  {
   "cell_type": "code",
   "execution_count": 106,
   "metadata": {},
   "outputs": [
    {
     "name": "stdout",
     "output_type": "stream",
     "text": [
      "\n",
      "미세주입_후_저장된_배아_수별 임신_성공_여부 비율 및 갯수\n",
      "\n",
      "                 0         1        0       1  Total\n",
      "variable                                            \n",
      "0.0       0.758346  0.241654  22149.0  7058.0  29207\n",
      "1.0       0.623790  0.376210    902.0   544.0   1446\n",
      "2.0       0.619188  0.380812    839.0   516.0   1355\n",
      "3.0       0.624424  0.375576    542.0   326.0    868\n",
      "4.0       0.632576  0.367424    334.0   194.0    528\n",
      "5.0       0.643617  0.356383    242.0   134.0    376\n",
      "6.0       0.700422  0.299578    166.0    71.0    237\n",
      "7.0       0.757143  0.242857    106.0    34.0    140\n",
      "8.0       0.776699  0.223301     80.0    23.0    103\n",
      "9.0       0.719512  0.280488     59.0    23.0     82\n",
      "10.0      0.730769  0.269231     38.0    14.0     52\n",
      "11.0      0.781250  0.218750     25.0     7.0     32\n",
      "12.0      0.771429  0.228571     27.0     8.0     35\n",
      "13.0      0.925926  0.074074     25.0     2.0     27\n",
      "14.0      1.000000  0.000000     27.0     0.0     27\n",
      "15.0      1.000000  0.000000     19.0     0.0     19\n",
      "16.0      1.000000  0.000000     14.0     0.0     14\n",
      "17.0      1.000000  0.000000     18.0     0.0     18\n",
      "18.0      1.000000  0.000000      9.0     0.0      9\n",
      "19.0      1.000000  0.000000      6.0     0.0      6\n",
      "20.0      1.000000  0.000000      7.0     0.0      7\n",
      "21.0      1.000000  0.000000      6.0     0.0      6\n",
      "22.0      1.000000  0.000000      4.0     0.0      4\n",
      "23.0      1.000000  0.000000      7.0     0.0      7\n",
      "24.0      1.000000  0.000000      1.0     0.0      1\n",
      "25.0      1.000000  0.000000      4.0     0.0      4\n",
      "26.0      1.000000  0.000000      2.0     0.0      2\n",
      "27.0      1.000000  0.000000      1.0     0.0      1\n",
      "29.0      1.000000  0.000000      3.0     0.0      3\n",
      "30.0      1.000000  0.000000      1.0     0.0      1\n",
      "32.0      1.000000  0.000000      1.0     0.0      1\n"
     ]
    }
   ],
   "source": [
    "value_counts_ratio(train, '미세주입_후_저장된_배아_수')"
   ]
  },
  {
   "cell_type": "markdown",
   "metadata": {},
   "source": [
    "### 46. 해동된_배아_수"
   ]
  },
  {
   "cell_type": "markdown",
   "metadata": {},
   "source": [
    "동결 해동된 배아의 수"
   ]
  },
  {
   "cell_type": "code",
   "execution_count": 107,
   "metadata": {},
   "outputs": [
    {
     "name": "stdout",
     "output_type": "stream",
     "text": [
      "\n",
      "해동된_배아_수별 임신_성공_여부 비율 및 갯수\n",
      "\n",
      "                 0         1        0       1  Total\n",
      "variable                                            \n",
      "0.0       0.728255  0.271745  21241.0  7926.0  29167\n",
      "1.0       0.839316  0.160684    982.0   188.0   1170\n",
      "2.0       0.815534  0.184466   1344.0   304.0   1648\n",
      "3.0       0.822616  0.177384    742.0   160.0    902\n",
      "4.0       0.789902  0.210098    485.0   129.0    614\n",
      "5.0       0.818991  0.181009    276.0    61.0    337\n",
      "6.0       0.788235  0.211765    201.0    54.0    255\n",
      "7.0       0.796296  0.203704    129.0    33.0    162\n",
      "8.0       0.669173  0.330827     89.0    44.0    133\n",
      "9.0       0.740741  0.259259     40.0    14.0     54\n",
      "10.0      0.780822  0.219178     57.0    16.0     73\n",
      "11.0      0.733333  0.266667     22.0     8.0     30\n",
      "12.0      0.800000  0.200000     16.0     4.0     20\n",
      "13.0      0.800000  0.200000     12.0     3.0     15\n",
      "14.0      0.727273  0.272727      8.0     3.0     11\n",
      "15.0      0.500000  0.500000      3.0     3.0      6\n",
      "16.0      0.666667  0.333333      2.0     1.0      3\n",
      "17.0      0.714286  0.285714      5.0     2.0      7\n",
      "18.0      1.000000  0.000000      3.0     0.0      3\n",
      "19.0      1.000000  0.000000      3.0     0.0      3\n",
      "22.0      0.500000  0.500000      1.0     1.0      2\n",
      "26.0      1.000000  0.000000      3.0     0.0      3\n"
     ]
    }
   ],
   "source": [
    "value_counts_ratio(train, '해동된_배아_수')"
   ]
  },
  {
   "cell_type": "markdown",
   "metadata": {},
   "source": [
    "### 47. 해동_난자_수"
   ]
  },
  {
   "cell_type": "markdown",
   "metadata": {},
   "source": [
    "동결 해동된 난자의 수"
   ]
  },
  {
   "cell_type": "code",
   "execution_count": 108,
   "metadata": {},
   "outputs": [
    {
     "name": "stdout",
     "output_type": "stream",
     "text": [
      "\n",
      "해동_난자_수별 임신_성공_여부 비율 및 갯수\n",
      "\n",
      "                 0         1        0       1  Total\n",
      "variable                                            \n",
      "0.0       0.741116  0.258884  25590.0  8939.0  34529\n",
      "1.0       1.000000  0.000000      4.0     0.0      4\n",
      "2.0       0.833333  0.166667      5.0     1.0      6\n",
      "3.0       0.625000  0.375000      5.0     3.0      8\n",
      "4.0       0.888889  0.111111      8.0     1.0      9\n",
      "5.0       1.000000  0.000000      5.0     0.0      5\n",
      "6.0       1.000000  0.000000     10.0     0.0     10\n",
      "7.0       0.750000  0.250000      3.0     1.0      4\n",
      "8.0       0.666667  0.333333      6.0     3.0      9\n",
      "9.0       0.909091  0.090909     10.0     1.0     11\n",
      "10.0      1.000000  0.000000      6.0     0.0      6\n",
      "11.0      1.000000  0.000000      1.0     0.0      1\n",
      "12.0      0.800000  0.200000      4.0     1.0      5\n",
      "13.0      1.000000  0.000000      1.0     0.0      1\n",
      "14.0      0.666667  0.333333      2.0     1.0      3\n",
      "15.0      0.500000  0.500000      1.0     1.0      2\n",
      "16.0      0.000000  1.000000      0.0     1.0      1\n",
      "17.0      0.500000  0.500000      1.0     1.0      2\n",
      "20.0      1.000000  0.000000      1.0     0.0      1\n",
      "36.0      1.000000  0.000000      1.0     0.0      1\n"
     ]
    }
   ],
   "source": [
    "value_counts_ratio(train, '해동_난자_수')"
   ]
  },
  {
   "cell_type": "markdown",
   "metadata": {},
   "source": [
    "### 48. 수집된_신선_난자_수"
   ]
  },
  {
   "cell_type": "markdown",
   "metadata": {},
   "source": [
    "신선 난자가 수집된 수"
   ]
  },
  {
   "cell_type": "code",
   "execution_count": 109,
   "metadata": {},
   "outputs": [
    {
     "name": "stdout",
     "output_type": "stream",
     "text": [
      "\n",
      "수집된_신선_난자_수별 임신_성공_여부 비율 및 갯수\n",
      "\n",
      "                 0         1       0       1  Total\n",
      "variable                                           \n",
      "0.0       0.797499  0.202501  5612.0  1425.0   7037\n",
      "1.0       0.943503  0.056497   501.0    30.0    531\n",
      "2.0       0.917397  0.082603   733.0    66.0    799\n",
      "3.0       0.866667  0.133333   962.0   148.0   1110\n",
      "4.0       0.807608  0.192392  1104.0   263.0   1367\n",
      "5.0       0.796093  0.203907  1304.0   334.0   1638\n",
      "6.0       0.760882  0.239118  1346.0   423.0   1769\n",
      "7.0       0.750531  0.249469  1414.0   470.0   1884\n",
      "8.0       0.705508  0.294492  1332.0   556.0   1888\n",
      "9.0       0.723599  0.276401  1343.0   513.0   1856\n",
      "10.0      0.700546  0.299454  1282.0   548.0   1830\n",
      "11.0      0.684715  0.315285  1214.0   559.0   1773\n",
      "12.0      0.686654  0.313346  1065.0   486.0   1551\n",
      "13.0      0.671280  0.328720   970.0   475.0   1445\n",
      "14.0      0.685004  0.314996   909.0   418.0   1327\n",
      "15.0      0.642793  0.357207   718.0   399.0   1117\n",
      "16.0      0.669439  0.330561   644.0   318.0    962\n",
      "17.0      0.655052  0.344948   564.0   297.0    861\n",
      "18.0      0.626741  0.373259   450.0   268.0    718\n",
      "19.0      0.661017  0.338983   390.0   200.0    590\n",
      "20.0      0.655319  0.344681   308.0   162.0    470\n",
      "21.0      0.684932  0.315068   250.0   115.0    365\n",
      "22.0      0.680352  0.319648   232.0   109.0    341\n",
      "23.0      0.674897  0.325103   164.0    79.0    243\n",
      "24.0      0.699074  0.300926   151.0    65.0    216\n",
      "25.0      0.670455  0.329545   118.0    58.0    176\n",
      "26.0      0.748148  0.251852   101.0    34.0    135\n",
      "27.0      0.716535  0.283465    91.0    36.0    127\n",
      "28.0      0.750000  0.250000    69.0    23.0     92\n",
      "29.0      0.761905  0.238095    64.0    20.0     84\n",
      "30.0      0.734375  0.265625    47.0    17.0     64\n",
      "31.0      0.722222  0.277778    26.0    10.0     36\n",
      "32.0      0.770833  0.229167    37.0    11.0     48\n",
      "33.0      0.897436  0.102564    35.0     4.0     39\n",
      "34.0      0.916667  0.083333    22.0     2.0     24\n",
      "35.0      0.636364  0.363636     7.0     4.0     11\n",
      "36.0      0.923077  0.076923    12.0     1.0     13\n",
      "37.0      0.875000  0.125000    14.0     2.0     16\n",
      "38.0      0.916667  0.083333    11.0     1.0     12\n",
      "39.0      1.000000  0.000000     6.0     0.0      6\n",
      "40.0      0.875000  0.125000     7.0     1.0      8\n",
      "41.0      0.800000  0.200000     4.0     1.0      5\n",
      "42.0      0.750000  0.250000     6.0     2.0      8\n",
      "43.0      1.000000  0.000000     3.0     0.0      3\n",
      "44.0      1.000000  0.000000     3.0     0.0      3\n",
      "45.0      0.500000  0.500000     1.0     1.0      2\n",
      "46.0      1.000000  0.000000     3.0     0.0      3\n",
      "47.0      1.000000  0.000000     1.0     0.0      1\n",
      "48.0      1.000000  0.000000     1.0     0.0      1\n",
      "49.0      1.000000  0.000000     2.0     0.0      2\n",
      "50.0      1.000000  0.000000     1.0     0.0      1\n",
      "51.0      1.000000  0.000000    10.0     0.0     10\n"
     ]
    }
   ],
   "source": [
    "value_counts_ratio(train, '수집된_신선_난자_수')"
   ]
  },
  {
   "cell_type": "markdown",
   "metadata": {},
   "source": [
    "### 49. 저장된_신선_난자_수"
   ]
  },
  {
   "cell_type": "markdown",
   "metadata": {},
   "source": [
    "저장된 신선 난자의 수"
   ]
  },
  {
   "cell_type": "code",
   "execution_count": 110,
   "metadata": {},
   "outputs": [
    {
     "name": "stdout",
     "output_type": "stream",
     "text": [
      "\n",
      "저장된_신선_난자_수별 임신_성공_여부 비율 및 갯수\n",
      "\n",
      "                 0         1        0       1  Total\n",
      "variable                                            \n",
      "0.0       0.739618  0.260382  25414.0  8947.0  34361\n",
      "1.0       1.000000  0.000000     10.0     0.0     10\n",
      "2.0       1.000000  0.000000     21.0     0.0     21\n",
      "3.0       1.000000  0.000000     15.0     0.0     15\n",
      "4.0       0.941176  0.058824     16.0     1.0     17\n",
      "5.0       0.958333  0.041667     23.0     1.0     24\n",
      "6.0       1.000000  0.000000     28.0     0.0     28\n",
      "7.0       0.916667  0.083333     11.0     1.0     12\n",
      "8.0       0.952381  0.047619     20.0     1.0     21\n",
      "9.0       1.000000  0.000000     10.0     0.0     10\n",
      "10.0      1.000000  0.000000     15.0     0.0     15\n",
      "11.0      1.000000  0.000000     12.0     0.0     12\n",
      "12.0      0.777778  0.222222      7.0     2.0      9\n",
      "13.0      1.000000  0.000000     12.0     0.0     12\n",
      "14.0      1.000000  0.000000     10.0     0.0     10\n",
      "15.0      0.900000  0.100000      9.0     1.0     10\n",
      "16.0      1.000000  0.000000      4.0     0.0      4\n",
      "17.0      1.000000  0.000000      3.0     0.0      3\n",
      "18.0      1.000000  0.000000     11.0     0.0     11\n",
      "19.0      1.000000  0.000000      1.0     0.0      1\n",
      "20.0      1.000000  0.000000      2.0     0.0      2\n",
      "22.0      1.000000  0.000000      2.0     0.0      2\n",
      "23.0      1.000000  0.000000      3.0     0.0      3\n",
      "24.0      1.000000  0.000000      1.0     0.0      1\n",
      "27.0      1.000000  0.000000      2.0     0.0      2\n",
      "32.0      1.000000  0.000000      1.0     0.0      1\n",
      "51.0      1.000000  0.000000      1.0     0.0      1\n"
     ]
    }
   ],
   "source": [
    "value_counts_ratio(train, '저장된_신선_난자_수')"
   ]
  },
  {
   "cell_type": "markdown",
   "metadata": {},
   "source": [
    "### 50. 혼합된_난자_수"
   ]
  },
  {
   "cell_type": "markdown",
   "metadata": {},
   "source": [
    "정자와 혼합된 총 난자 수"
   ]
  },
  {
   "cell_type": "code",
   "execution_count": 111,
   "metadata": {},
   "outputs": [
    {
     "name": "stdout",
     "output_type": "stream",
     "text": [
      "\n",
      "혼합된_난자_수별 임신_성공_여부 비율 및 갯수\n",
      "\n",
      "                 0         1       0       1  Total\n",
      "variable                                           \n",
      "0.0       0.834144  0.165856  5145.0  1023.0   6168\n",
      "1.0       0.944091  0.055909   743.0    44.0    787\n",
      "2.0       0.899567  0.100433  1039.0   116.0   1155\n",
      "3.0       0.829412  0.170588  1269.0   261.0   1530\n",
      "4.0       0.794818  0.205182  1503.0   388.0   1891\n",
      "5.0       0.757241  0.242759  1647.0   528.0   2175\n",
      "6.0       0.726293  0.273707  1685.0   635.0   2320\n",
      "7.0       0.724525  0.275475  1678.0   638.0   2316\n",
      "8.0       0.685414  0.314586  1499.0   688.0   2187\n",
      "9.0       0.697166  0.302834  1402.0   609.0   2011\n",
      "10.0      0.683019  0.316981  1267.0   588.0   1855\n",
      "11.0      0.660036  0.339964  1095.0   564.0   1659\n",
      "12.0      0.661302  0.338698   945.0   484.0   1429\n",
      "13.0      0.648013  0.351987   799.0   434.0   1233\n",
      "14.0      0.655424  0.344576   719.0   378.0   1097\n",
      "15.0      0.646995  0.353005   592.0   323.0    915\n",
      "16.0      0.655415  0.344585   466.0   245.0    711\n",
      "17.0      0.629513  0.370487   401.0   236.0    637\n",
      "18.0      0.642424  0.357576   318.0   177.0    495\n",
      "19.0      0.675676  0.324324   275.0   132.0    407\n",
      "20.0      0.676471  0.323529   230.0   110.0    340\n",
      "21.0      0.717949  0.282051   168.0    66.0    234\n",
      "22.0      0.665179  0.334821   149.0    75.0    224\n",
      "23.0      0.709877  0.290123   115.0    47.0    162\n",
      "24.0      0.647059  0.352941    88.0    48.0    136\n",
      "25.0      0.707547  0.292453    75.0    31.0    106\n",
      "26.0      0.750000  0.250000    66.0    22.0     88\n",
      "27.0      0.833333  0.166667    65.0    13.0     78\n",
      "28.0      0.818182  0.181818    45.0    10.0     55\n",
      "29.0      0.760870  0.239130    35.0    11.0     46\n",
      "30.0      0.794118  0.205882    27.0     7.0     34\n",
      "31.0      0.708333  0.291667    17.0     7.0     24\n",
      "32.0      0.703704  0.296296    19.0     8.0     27\n",
      "33.0      0.944444  0.055556    17.0     1.0     18\n",
      "34.0      0.928571  0.071429    13.0     1.0     14\n",
      "35.0      0.400000  0.600000     2.0     3.0      5\n",
      "36.0      0.916667  0.083333    11.0     1.0     12\n",
      "37.0      1.000000  0.000000     7.0     0.0      7\n",
      "38.0      1.000000  0.000000     8.0     0.0      8\n",
      "39.0      1.000000  0.000000     2.0     0.0      2\n",
      "40.0      1.000000  0.000000     2.0     0.0      2\n",
      "41.0      1.000000  0.000000     2.0     0.0      2\n",
      "42.0      0.600000  0.400000     3.0     2.0      5\n",
      "43.0      1.000000  0.000000     2.0     0.0      2\n",
      "44.0      1.000000  0.000000     1.0     0.0      1\n",
      "46.0      1.000000  0.000000     1.0     0.0      1\n",
      "47.0      1.000000  0.000000     1.0     0.0      1\n",
      "51.0      1.000000  0.000000     6.0     0.0      6\n"
     ]
    }
   ],
   "source": [
    "value_counts_ratio(train, '혼합된_난자_수')"
   ]
  },
  {
   "cell_type": "markdown",
   "metadata": {},
   "source": [
    "### 51. 파트너_정자와_혼합된_난자_수"
   ]
  },
  {
   "cell_type": "markdown",
   "metadata": {},
   "source": [
    "파트너 정자와 혼합된 난자의 수"
   ]
  },
  {
   "cell_type": "code",
   "execution_count": 112,
   "metadata": {},
   "outputs": [
    {
     "name": "stdout",
     "output_type": "stream",
     "text": [
      "\n",
      "파트너_정자와_혼합된_난자_수별 임신_성공_여부 비율 및 갯수\n",
      "\n",
      "                 0         1       0       1  Total\n",
      "variable                                           \n",
      "0.0       0.802736  0.197264  6454.0  1586.0   8040\n",
      "1.0       0.942069  0.057931   683.0    42.0    725\n",
      "2.0       0.902439  0.097561   962.0   104.0   1066\n",
      "3.0       0.828674  0.171326  1156.0   239.0   1395\n",
      "4.0       0.795571  0.204429  1401.0   360.0   1761\n",
      "5.0       0.762165  0.237835  1535.0   479.0   2014\n",
      "6.0       0.727816  0.272184  1583.0   592.0   2175\n",
      "7.0       0.728200  0.271800  1570.0   586.0   2156\n",
      "8.0       0.686047  0.313953  1416.0   648.0   2064\n",
      "9.0       0.700213  0.299787  1315.0   563.0   1878\n",
      "10.0      0.685099  0.314901  1177.0   541.0   1718\n",
      "11.0      0.659740  0.340260  1016.0   524.0   1540\n",
      "12.0      0.663922  0.336078   887.0   449.0   1336\n",
      "13.0      0.655232  0.344768   764.0   402.0   1166\n",
      "14.0      0.653140  0.346860   676.0   359.0   1035\n",
      "15.0      0.647327  0.352673   569.0   310.0    879\n",
      "16.0      0.659226  0.340774   443.0   229.0    672\n",
      "17.0      0.632890  0.367110   381.0   221.0    602\n",
      "18.0      0.646055  0.353945   303.0   166.0    469\n",
      "19.0      0.678663  0.321337   264.0   125.0    389\n",
      "20.0      0.686709  0.313291   217.0    99.0    316\n",
      "21.0      0.722727  0.277273   159.0    61.0    220\n",
      "22.0      0.669856  0.330144   140.0    69.0    209\n",
      "23.0      0.703226  0.296774   109.0    46.0    155\n",
      "24.0      0.640625  0.359375    82.0    46.0    128\n",
      "25.0      0.694737  0.305263    66.0    29.0     95\n",
      "26.0      0.750000  0.250000    63.0    21.0     84\n",
      "27.0      0.840000  0.160000    63.0    12.0     75\n",
      "28.0      0.803922  0.196078    41.0    10.0     51\n",
      "29.0      0.785714  0.214286    33.0     9.0     42\n",
      "30.0      0.818182  0.181818    27.0     6.0     33\n",
      "31.0      0.708333  0.291667    17.0     7.0     24\n",
      "32.0      0.692308  0.307692    18.0     8.0     26\n",
      "33.0      0.937500  0.062500    15.0     1.0     16\n",
      "34.0      0.928571  0.071429    13.0     1.0     14\n",
      "35.0      0.500000  0.500000     2.0     2.0      4\n",
      "36.0      1.000000  0.000000    10.0     0.0     10\n",
      "37.0      1.000000  0.000000     7.0     0.0      7\n",
      "38.0      1.000000  0.000000     7.0     0.0      7\n",
      "39.0      1.000000  0.000000     2.0     0.0      2\n",
      "40.0      1.000000  0.000000     2.0     0.0      2\n",
      "41.0      1.000000  0.000000     2.0     0.0      2\n",
      "42.0      0.600000  0.400000     3.0     2.0      5\n",
      "43.0      1.000000  0.000000     2.0     0.0      2\n",
      "44.0      1.000000  0.000000     1.0     0.0      1\n",
      "46.0      1.000000  0.000000     1.0     0.0      1\n",
      "47.0      1.000000  0.000000     1.0     0.0      1\n",
      "51.0      1.000000  0.000000     6.0     0.0      6\n"
     ]
    }
   ],
   "source": [
    "value_counts_ratio(train, '파트너_정자와_혼합된_난자_수')"
   ]
  },
  {
   "cell_type": "markdown",
   "metadata": {},
   "source": [
    "### 52. 기증자_정자와_혼합된_난자_수"
   ]
  },
  {
   "cell_type": "markdown",
   "metadata": {},
   "source": [
    "기증자 정자와 혼합된 난자의 수"
   ]
  },
  {
   "cell_type": "code",
   "execution_count": 113,
   "metadata": {},
   "outputs": [
    {
     "name": "stdout",
     "output_type": "stream",
     "text": [
      "\n",
      "기증자_정자와_혼합된_난자_수별 임신_성공_여부 비율 및 갯수\n",
      "\n",
      "                 0         1        0       1  Total\n",
      "variable                                            \n",
      "0.0       0.743408  0.256592  24386.0  8417.0  32803\n",
      "1.0       0.968254  0.031746     61.0     2.0     63\n",
      "2.0       0.866667  0.133333     78.0    12.0     90\n",
      "3.0       0.838235  0.161765    114.0    22.0    136\n",
      "4.0       0.781955  0.218045    104.0    29.0    133\n",
      "5.0       0.695122  0.304878    114.0    50.0    164\n",
      "6.0       0.715232  0.284768    108.0    43.0    151\n",
      "7.0       0.680982  0.319018    111.0    52.0    163\n",
      "8.0       0.680328  0.319672     83.0    39.0    122\n",
      "9.0       0.666667  0.333333     86.0    43.0    129\n",
      "10.0      0.649254  0.350746     87.0    47.0    134\n",
      "11.0      0.654867  0.345133     74.0    39.0    113\n",
      "12.0      0.625000  0.375000     55.0    33.0     88\n",
      "13.0      0.533333  0.466667     32.0    28.0     60\n",
      "14.0      0.689655  0.310345     40.0    18.0     58\n",
      "15.0      0.566667  0.433333     17.0    13.0     30\n",
      "16.0      0.588235  0.411765     20.0    14.0     34\n",
      "17.0      0.575758  0.424242     19.0    14.0     33\n",
      "18.0      0.619048  0.380952     13.0     8.0     21\n",
      "19.0      0.625000  0.375000     10.0     6.0     16\n",
      "20.0      0.578947  0.421053     11.0     8.0     19\n",
      "21.0      0.642857  0.357143      9.0     5.0     14\n",
      "22.0      0.800000  0.200000      8.0     2.0     10\n",
      "23.0      0.666667  0.333333      2.0     1.0      3\n",
      "24.0      0.800000  0.200000      4.0     1.0      5\n",
      "25.0      0.800000  0.200000      8.0     2.0     10\n",
      "26.0      0.500000  0.500000      1.0     1.0      2\n",
      "27.0      0.500000  0.500000      1.0     1.0      2\n",
      "28.0      1.000000  0.000000      3.0     0.0      3\n",
      "29.0      0.500000  0.500000      2.0     2.0      4\n",
      "30.0      0.000000  1.000000      0.0     1.0      1\n",
      "33.0      1.000000  0.000000      2.0     0.0      2\n",
      "36.0      0.500000  0.500000      1.0     1.0      2\n"
     ]
    }
   ],
   "source": [
    "value_counts_ratio(train, '기증자_정자와_혼합된_난자_수')"
   ]
  },
  {
   "cell_type": "code",
   "execution_count": 114,
   "metadata": {},
   "outputs": [],
   "source": [
    "# 1. 임신 성공율 - 이식된 배아 대비 임신 성공 비율\n",
    "train['임신_성공율'] = np.where(train['총_생성_배아_수'] > 0, (train['이식된_배아_수'] / train['총_생성_배아_수']) * 100, 0).round(2)\n",
    "\n",
    "# 2. ICSI 효율성 - 미세주입된 난자 대비 생성된 배아 비율\n",
    "train['ICSI_효율성'] = np.where(train['미세주입된_난자_수'] > 0, (train['미세주입에서_생성된_배아_수'] / train['미세주입된_난자_수']) * 100, 0).round(2)\n",
    "\n",
    "# 3. 저장 배아 비율 - 총 생성 배아 대비 저장된 배아 수 비율\n",
    "train['저장_배아_비율'] = np.where(train['총_생성_배아_수'] > 0, (train['저장된_배아_수'] / train['총_생성_배아_수']) * 100, 0).round(2)\n",
    "\n",
    "# 4. 해동 난자 비율 - 해동된 난자 대비 수집된 신선 난자 비율\n",
    "train['해동_난자_비율'] = np.where(train['수집된_신선_난자_수'] > 0, (train['해동_난자_수'] / train['수집된_신선_난자_수']) * 100, 0).round(2)\n",
    "\n",
    "# 5. 생성 배아 유지율 - ICSI 후 저장된 배아 대비 생성된 배아 비율\n",
    "train['생성_배아_유지율'] = np.where(train['미세주입에서_생성된_배아_수'] > 0, (train['미세주입_후_저장된_배아_수'] / train['미세주입에서_생성된_배아_수']) * 100, 0).round(2)\n",
    "\n",
    "# 6. 파트너 정자 사용 비율 - 혼합된 난자에서 파트너 정자 비율\n",
    "train['파트너_정자_사용_비율'] = np.where(train['혼합된_난자_수'] > 0, (train['파트너_정자와_혼합된_난자_수'] / train['혼합된_난자_수']) * 100, 0).round(2)\n",
    "\n",
    "# test 데이터프레임에도 동일한 파생 변수를 생성\n",
    "test['임신_성공율'] = np.where(test['총_생성_배아_수'] > 0, (test['이식된_배아_수'] / test['총_생성_배아_수']) * 100, 0).round(2)\n",
    "test['ICSI_효율성'] = np.where(test['미세주입된_난자_수'] > 0, (test['미세주입에서_생성된_배아_수'] / test['미세주입된_난자_수']) * 100, 0).round(2)\n",
    "test['저장_배아_비율'] = np.where(test['총_생성_배아_수'] > 0, (test['저장된_배아_수'] / test['총_생성_배아_수']) * 100, 0).round(2)\n",
    "test['해동_난자_비율'] = np.where(test['수집된_신선_난자_수'] > 0, (test['해동_난자_수'] / test['수집된_신선_난자_수']) * 100, 0).round(2)\n",
    "test['생성_배아_유지율'] = np.where(test['미세주입에서_생성된_배아_수'] > 0, (test['미세주입_후_저장된_배아_수'] / test['미세주입에서_생성된_배아_수']) * 100, 0).round(2)\n",
    "test['파트너_정자_사용_비율'] = np.where(test['혼합된_난자_수'] > 0, (test['파트너_정자와_혼합된_난자_수'] / test['혼합된_난자_수']) * 100, 0).round(2)"
   ]
  },
  {
   "cell_type": "markdown",
   "metadata": {},
   "source": [
    "### 53. 난자_출처"
   ]
  },
  {
   "cell_type": "markdown",
   "metadata": {},
   "source": [
    "난자 출처 정보"
   ]
  },
  {
   "cell_type": "code",
   "execution_count": 115,
   "metadata": {},
   "outputs": [
    {
     "name": "stdout",
     "output_type": "stream",
     "text": [
      "\n",
      "난자_출처별 임신_성공_여부 비율 및 갯수\n",
      "\n",
      "                 0         1      0     1  Total\n",
      "variable                                        \n",
      "기증 제공     0.715411  0.284589   1272   506   1778\n",
      "본인 제공     0.742753  0.257247  24392  8448  32840\n",
      "알 수 없음    0.876890  0.123110    812   114    926\n"
     ]
    }
   ],
   "source": [
    "value_counts_ratio(train, '난자_출처')"
   ]
  },
  {
   "cell_type": "code",
   "execution_count": 116,
   "metadata": {},
   "outputs": [
    {
     "data": {
      "text/plain": [
       "본인 제공     11843\n",
       "기증 제공       648\n",
       "알 수 없음      302\n",
       "Name: 난자_출처, dtype: int64"
      ]
     },
     "execution_count": 116,
     "metadata": {},
     "output_type": "execute_result"
    }
   ],
   "source": [
    "test['난자_출처'].value_counts()"
   ]
  },
  {
   "cell_type": "markdown",
   "metadata": {},
   "source": [
    "### 54. 정자_출처"
   ]
  },
  {
   "cell_type": "markdown",
   "metadata": {},
   "source": [
    "정자 출처 정보"
   ]
  },
  {
   "cell_type": "code",
   "execution_count": 117,
   "metadata": {},
   "outputs": [
    {
     "name": "stdout",
     "output_type": "stream",
     "text": [
      "\n",
      "정자_출처별 임신_성공_여부 비율 및 갯수\n",
      "\n",
      "                    0         1        0       1  Total\n",
      "variable                                               \n",
      "기증 제공        0.762754  0.237246   2482.0   772.0   3254\n",
      "미할당          0.600000  0.400000      3.0     2.0      5\n",
      "배우자 및 기증 제공  1.000000  0.000000      1.0     0.0      1\n",
      "배우자 제공       0.743093  0.256907  23990.0  8294.0  32284\n"
     ]
    }
   ],
   "source": [
    "value_counts_ratio(train, '정자_출처')"
   ]
  },
  {
   "cell_type": "code",
   "execution_count": 118,
   "metadata": {},
   "outputs": [
    {
     "data": {
      "text/plain": [
       "배우자 제공         11640\n",
       "기증 제공           1149\n",
       "미할당                3\n",
       "배우자 및 기증 제공        1\n",
       "Name: 정자_출처, dtype: int64"
      ]
     },
     "execution_count": 118,
     "metadata": {},
     "output_type": "execute_result"
    }
   ],
   "source": [
    "test['정자_출처'].value_counts()"
   ]
  },
  {
   "cell_type": "markdown",
   "metadata": {},
   "source": [
    "### 55. 난자_기증자_나이"
   ]
  },
  {
   "cell_type": "markdown",
   "metadata": {},
   "source": [
    "난자 기증자의 등록 당시 나이"
   ]
  },
  {
   "cell_type": "code",
   "execution_count": 119,
   "metadata": {},
   "outputs": [
    {
     "name": "stdout",
     "output_type": "stream",
     "text": [
      "\n",
      "난자_기증자_나이별 임신_성공_여부 비율 및 갯수\n",
      "\n",
      "                 0         1      0     1  Total\n",
      "variable                                        \n",
      "만20세 이하   0.863636  0.136364     19     3     22\n",
      "만21-25세   0.712644  0.287356    124    50    174\n",
      "만26-30세   0.676106  0.323894    382   183    565\n",
      "만31-35세   0.716285  0.283715    563   223    786\n",
      "알 수 없음    0.746772  0.253228  25388  8609  33997\n"
     ]
    }
   ],
   "source": [
    "value_counts_ratio(train, '난자_기증자_나이')"
   ]
  },
  {
   "cell_type": "markdown",
   "metadata": {},
   "source": [
    "### 56. 정자_기증자_나이"
   ]
  },
  {
   "cell_type": "markdown",
   "metadata": {},
   "source": [
    "정자 기증자의 등록 당시 나이"
   ]
  },
  {
   "cell_type": "code",
   "execution_count": 120,
   "metadata": {},
   "outputs": [
    {
     "name": "stdout",
     "output_type": "stream",
     "text": [
      "\n",
      "정자_기증자_나이별 임신_성공_여부 비율 및 갯수\n",
      "\n",
      "                 0         1      0     1  Total\n",
      "variable                                        \n",
      "만20세 이하   0.869565  0.130435     80    12     92\n",
      "만21-25세   0.764407  0.235593    451   139    590\n",
      "만26-30세   0.743083  0.256917    376   130    506\n",
      "만31-35세   0.777015  0.222985    453   130    583\n",
      "만36-40세   0.754121  0.245879    549   179    728\n",
      "만41-45세   0.747387  0.252613    429   145    574\n",
      "알 수 없음    0.743371  0.256629  24138  8333  32471\n"
     ]
    }
   ],
   "source": [
    "value_counts_ratio(train, '정자_기증자_나이')"
   ]
  },
  {
   "cell_type": "code",
   "execution_count": 121,
   "metadata": {},
   "outputs": [
    {
     "name": "stdout",
     "output_type": "stream",
     "text": [
      "Grouped by: 난자_기증자_나이, 정자_기증자_나이\n",
      "\n",
      "                 group  '임신_성공_여부' count     ratio  Total\n",
      "0   (만20세 이하, 만36-40세)                 0  0.000000      1\n",
      "1    (만20세 이하, 알 수 없음)                 3  0.142857     21\n",
      "2   (만21-25세, 만20세 이하)                 0  0.000000      1\n",
      "3   (만21-25세, 만21-25세)                 2  0.666667      3\n",
      "4   (만21-25세, 만26-30세)                 1  1.000000      1\n",
      "5   (만21-25세, 만31-35세)                 0  0.000000      3\n",
      "6   (만21-25세, 만36-40세)                 1  0.200000      5\n",
      "7   (만21-25세, 만41-45세)                 1  0.500000      2\n",
      "8    (만21-25세, 알 수 없음)                45  0.283019    159\n",
      "9   (만26-30세, 만20세 이하)                 1  0.333333      3\n",
      "10  (만26-30세, 만21-25세)                 3  0.428571      7\n",
      "11  (만26-30세, 만26-30세)                 7  0.500000     14\n",
      "12  (만26-30세, 만31-35세)                 5  0.357143     14\n",
      "13  (만26-30세, 만36-40세)                 6  0.461538     13\n",
      "14  (만26-30세, 만41-45세)                 3  0.428571      7\n",
      "15   (만26-30세, 알 수 없음)               158  0.311637    507\n",
      "16  (만31-35세, 만20세 이하)                 0  0.000000      2\n",
      "17  (만31-35세, 만21-25세)                 7  0.368421     19\n",
      "18  (만31-35세, 만26-30세)                 5  0.217391     23\n",
      "19  (만31-35세, 만31-35세)                12  0.352941     34\n",
      "20  (만31-35세, 만36-40세)                 9  0.257143     35\n",
      "21  (만31-35세, 만41-45세)                 7  0.318182     22\n",
      "22   (만31-35세, 알 수 없음)               183  0.281106    651\n",
      "23   (알 수 없음, 만20세 이하)                11  0.127907     86\n",
      "24   (알 수 없음, 만21-25세)               127  0.226381    561\n",
      "25   (알 수 없음, 만26-30세)               117  0.250000    468\n",
      "26   (알 수 없음, 만31-35세)               113  0.212406    532\n",
      "27   (알 수 없음, 만36-40세)               163  0.241840    674\n",
      "28   (알 수 없음, 만41-45세)               134  0.246777    543\n",
      "29    (알 수 없음, 알 수 없음)              7944  0.255163  31133\n"
     ]
    }
   ],
   "source": [
    "summarize_group(train, ['난자_기증자_나이', '정자_기증자_나이'])"
   ]
  },
  {
   "cell_type": "code",
   "execution_count": 122,
   "metadata": {},
   "outputs": [],
   "source": [
    "# 그룹화하여 임신_성공_여부 비율 계산\n",
    "grouped = train.groupby(['난자_기증자_나이', '정자_기증자_나이']).agg(\n",
    "    count=('임신_성공_여부', 'sum'),\n",
    "    Total=('임신_성공_여부', 'size')\n",
    ").reset_index()\n",
    "\n",
    "grouped['ratio'] = grouped['count'] / grouped['Total']\n",
    "grouped['기증자_나이_더미'] = (grouped['ratio'] >= 0.28).astype(int)\n",
    "\n",
    "# 원본 train 데이터프레임에 더미 변수 추가\n",
    "train = train.merge(grouped[['난자_기증자_나이', '정자_기증자_나이', '기증자_나이_더미']], on=['난자_기증자_나이', '정자_기증자_나이'], how='left')\n",
    "\n",
    "# test 데이터프레임에 더미 변수 추가\n",
    "test = test.merge(grouped[['난자_기증자_나이', '정자_기증자_나이', '기증자_나이_더미']], on=['난자_기증자_나이', '정자_기증자_나이'], how='left')\n",
    "\n",
    "# 결측값을 0으로 채우기 (해당 조합이 train 데이터에 없을 경우)\n",
    "test['기증자_나이_더미'] = test['기증자_나이_더미'].fillna(0).astype(int)"
   ]
  },
  {
   "cell_type": "code",
   "execution_count": 123,
   "metadata": {},
   "outputs": [
    {
     "name": "stdout",
     "output_type": "stream",
     "text": [
      "\n",
      "기증자_나이_더미별 임신_성공_여부 비율 및 갯수\n",
      "\n",
      "                 0         1      0     1  Total\n",
      "variable                                        \n",
      "0         0.746920  0.253080  25461  8627  34088\n",
      "1         0.697115  0.302885   1015   441   1456\n"
     ]
    }
   ],
   "source": [
    "value_counts_ratio(train, '기증자_나이_더미')"
   ]
  },
  {
   "cell_type": "code",
   "execution_count": 124,
   "metadata": {},
   "outputs": [
    {
     "data": {
      "text/plain": [
       "0    12271\n",
       "1      522\n",
       "Name: 기증자_나이_더미, dtype: int64"
      ]
     },
     "execution_count": 124,
     "metadata": {},
     "output_type": "execute_result"
    }
   ],
   "source": [
    "test['기증자_나이_더미'].value_counts()"
   ]
  },
  {
   "cell_type": "code",
   "execution_count": 125,
   "metadata": {},
   "outputs": [],
   "source": [
    "# summarize_group(train, ['난자_기증자_나이', '정자_기증자_나이', '기증자_나이_더미'])"
   ]
  },
  {
   "cell_type": "markdown",
   "metadata": {},
   "source": [
    "### 57. 동결_배아_사용_여부"
   ]
  },
  {
   "cell_type": "markdown",
   "metadata": {},
   "source": [
    "동결 배아가 사용되었는지 여부"
   ]
  },
  {
   "cell_type": "code",
   "execution_count": 126,
   "metadata": {},
   "outputs": [
    {
     "name": "stdout",
     "output_type": "stream",
     "text": [
      "\n",
      "동결_배아_사용_여부별 임신_성공_여부 비율 및 갯수\n",
      "\n",
      "                 0         1      0     1  Total\n",
      "variable                                        \n",
      "0.0       0.728316  0.271684  21253  7928  29181\n",
      "1.0       0.811293  0.188707   4411  1026   5437\n"
     ]
    }
   ],
   "source": [
    "value_counts_ratio(train, '동결_배아_사용_여부')"
   ]
  },
  {
   "cell_type": "markdown",
   "metadata": {},
   "source": [
    "### 58. 신선_배아_사용_여부"
   ]
  },
  {
   "cell_type": "markdown",
   "metadata": {},
   "source": [
    "신선 배아가 사용되었는지 여부"
   ]
  },
  {
   "cell_type": "code",
   "execution_count": 127,
   "metadata": {},
   "outputs": [
    {
     "name": "stdout",
     "output_type": "stream",
     "text": [
      "\n",
      "신선_배아_사용_여부별 임신_성공_여부 비율 및 갯수\n",
      "\n",
      "                 0         1      0     1  Total\n",
      "variable                                        \n",
      "0.0       0.810746  0.189254   4391  1025   5416\n",
      "1.0       0.728478  0.271522  21273  7929  29202\n"
     ]
    }
   ],
   "source": [
    "value_counts_ratio(train, '신선_배아_사용_여부')"
   ]
  },
  {
   "cell_type": "markdown",
   "metadata": {},
   "source": [
    "### 59. 기증_배아_사용_여부"
   ]
  },
  {
   "cell_type": "markdown",
   "metadata": {},
   "source": [
    "기증 배아가 사용되었는지 여부"
   ]
  },
  {
   "cell_type": "code",
   "execution_count": 128,
   "metadata": {},
   "outputs": [
    {
     "name": "stdout",
     "output_type": "stream",
     "text": [
      "\n",
      "기증_배아_사용_여부별 임신_성공_여부 비율 및 갯수\n",
      "\n",
      "                0        1      0     1  Total\n",
      "variable                                      \n",
      "0.0       0.74162  0.25838  25511  8888  34399\n",
      "1.0       0.69863  0.30137    153    66    219\n"
     ]
    }
   ],
   "source": [
    "value_counts_ratio(train, '기증_배아_사용_여부')"
   ]
  },
  {
   "cell_type": "code",
   "execution_count": 129,
   "metadata": {},
   "outputs": [
    {
     "name": "stdout",
     "output_type": "stream",
     "text": [
      "Grouped by: 신선_배아_사용_여부, 동결_배아_사용_여부, 기증_배아_사용_여부\n",
      "\n",
      "             group  '임신_성공_여부' count     ratio  Total\n",
      "0  (0.0, 1.0, 0.0)              1006  0.188601   5334\n",
      "1  (0.0, 1.0, 1.0)                19  0.231707     82\n",
      "2  (1.0, 0.0, 0.0)              7881  0.271347  29044\n",
      "3  (1.0, 0.0, 1.0)                47  0.343066    137\n",
      "4  (1.0, 1.0, 0.0)                 1  0.047619     21\n"
     ]
    }
   ],
   "source": [
    "summarize_group(train, ['신선_배아_사용_여부', '동결_배아_사용_여부', '기증_배아_사용_여부'])"
   ]
  },
  {
   "cell_type": "markdown",
   "metadata": {},
   "source": [
    "### 60. 대리모_여부"
   ]
  },
  {
   "cell_type": "markdown",
   "metadata": {},
   "source": [
    "환자가 대리모로 활동했는지 여부"
   ]
  },
  {
   "cell_type": "code",
   "execution_count": 130,
   "metadata": {},
   "outputs": [
    {
     "name": "stdout",
     "output_type": "stream",
     "text": [
      "\n",
      "대리모_여부별 임신_성공_여부 비율 및 갯수\n",
      "\n",
      "                 0         1      0     1  Total\n",
      "variable                                        \n",
      "0.0       0.741488  0.258512  25568  8914  34482\n",
      "1.0       0.705882  0.294118     96    40    136\n"
     ]
    }
   ],
   "source": [
    "value_counts_ratio(train, '대리모_여부')"
   ]
  },
  {
   "cell_type": "markdown",
   "metadata": {},
   "source": [
    "### 61. PGD_시술_여부"
   ]
  },
  {
   "cell_type": "markdown",
   "metadata": {},
   "source": [
    "해당 주기가 PGD 치료로 분류되는지 여부"
   ]
  },
  {
   "cell_type": "code",
   "execution_count": 131,
   "metadata": {},
   "outputs": [
    {
     "name": "stdout",
     "output_type": "stream",
     "text": [
      "\n",
      "PGD_시술_여부별 임신_성공_여부 비율 및 갯수\n",
      "\n",
      "                0        1    0   1  Total\n",
      "variable                                  \n",
      "1.0       0.72449  0.27551  213  81    294\n"
     ]
    }
   ],
   "source": [
    "value_counts_ratio(train, 'PGD_시술_여부')"
   ]
  },
  {
   "cell_type": "code",
   "execution_count": 132,
   "metadata": {},
   "outputs": [
    {
     "data": {
      "text/plain": [
       "35250"
      ]
     },
     "execution_count": 132,
     "metadata": {},
     "output_type": "execute_result"
    }
   ],
   "source": [
    "train['PGD_시술_여부'].isnull().sum()"
   ]
  },
  {
   "cell_type": "code",
   "execution_count": 133,
   "metadata": {},
   "outputs": [
    {
     "name": "stdout",
     "output_type": "stream",
     "text": [
      "결측값 개수: 35250\n",
      "결측값 개수: 0\n"
     ]
    }
   ],
   "source": [
    "# 결측값 개수 확인\n",
    "print(\"결측값 개수:\", train['PGD_시술_여부'].isnull().sum())\n",
    "\n",
    "# 결측값을 0으로 채우기\n",
    "train['PGD_시술_여부'].fillna(0, inplace=True)\n",
    "test['PGD_시술_여부'].fillna(0, inplace=True)\n",
    "\n",
    "# 결측값 개수 확인\n",
    "print(\"결측값 개수:\", train['PGD_시술_여부'].isnull().sum())"
   ]
  },
  {
   "cell_type": "markdown",
   "metadata": {},
   "source": [
    "### 62. PGS_시술_여부"
   ]
  },
  {
   "cell_type": "markdown",
   "metadata": {},
   "source": [
    "해당 주기가 PGS 치료로 분류되는지 여부"
   ]
  },
  {
   "cell_type": "code",
   "execution_count": 134,
   "metadata": {},
   "outputs": [
    {
     "name": "stdout",
     "output_type": "stream",
     "text": [
      "\n",
      "PGS_시술_여부별 임신_성공_여부 비율 및 갯수\n",
      "\n",
      "                 0         1    0   1  Total\n",
      "variable                                    \n",
      "1.0       0.844156  0.155844  195  36    231\n"
     ]
    }
   ],
   "source": [
    "value_counts_ratio(train, 'PGS_시술_여부')"
   ]
  },
  {
   "cell_type": "code",
   "execution_count": 135,
   "metadata": {},
   "outputs": [
    {
     "name": "stdout",
     "output_type": "stream",
     "text": [
      "결측값 개수: 35313\n",
      "결측값 개수: 0\n"
     ]
    }
   ],
   "source": [
    "# 결측값 개수 확인\n",
    "print(\"결측값 개수:\", train['PGS_시술_여부'].isnull().sum())\n",
    "\n",
    "# 결측값을 0으로 채우기\n",
    "train['PGS_시술_여부'].fillna(0, inplace=True)\n",
    "test['PGS_시술_여부'].fillna(0, inplace=True)\n",
    "\n",
    "# 결측값 개수 확인\n",
    "print(\"결측값 개수:\", train['PGS_시술_여부'].isnull().sum())"
   ]
  },
  {
   "cell_type": "code",
   "execution_count": 136,
   "metadata": {},
   "outputs": [
    {
     "name": "stdout",
     "output_type": "stream",
     "text": [
      "Grouped by: PGD_시술_여부, PGS_시술_여부\n",
      "\n",
      "        group  '임신_성공_여부' count     ratio  Total\n",
      "0  (0.0, 0.0)              8951  0.255604  35019\n",
      "1  (0.0, 1.0)                36  0.155844    231\n",
      "2  (1.0, 0.0)                81  0.275510    294\n"
     ]
    }
   ],
   "source": [
    "summarize_group(train, ['PGD_시술_여부', 'PGS_시술_여부'])"
   ]
  },
  {
   "cell_type": "markdown",
   "metadata": {},
   "source": [
    "### 63. 난자_채취_경과일"
   ]
  },
  {
   "cell_type": "markdown",
   "metadata": {},
   "source": [
    "첫 시점으로부터 난자 채취까지 경과한 일수"
   ]
  },
  {
   "cell_type": "code",
   "execution_count": 137,
   "metadata": {},
   "outputs": [
    {
     "name": "stdout",
     "output_type": "stream",
     "text": [
      "\n",
      "난자_채취_경과일별 임신_성공_여부 비율 및 갯수\n",
      "\n",
      "                 0         1      0     1  Total\n",
      "variable                                        \n",
      "0.0       0.730279  0.269721  20385  7529  27914\n"
     ]
    }
   ],
   "source": [
    "value_counts_ratio(train, '난자_채취_경과일')"
   ]
  },
  {
   "cell_type": "code",
   "execution_count": 138,
   "metadata": {},
   "outputs": [
    {
     "name": "stdout",
     "output_type": "stream",
     "text": [
      "결측값 개수: 7630\n",
      "결측값 개수: 0\n"
     ]
    }
   ],
   "source": [
    "print(\"결측값 개수:\", train['난자_채취_경과일'].isnull().sum())\n",
    "\n",
    "train['난자_채취_경과일'].fillna(-1, inplace=True)\n",
    "test['난자_채취_경과일'].fillna(-1, inplace=True)\n",
    "\n",
    "print(\"결측값 개수:\", train['난자_채취_경과일'].isnull().sum())"
   ]
  },
  {
   "cell_type": "markdown",
   "metadata": {},
   "source": [
    "### 64. 난자_해동_경과일"
   ]
  },
  {
   "cell_type": "markdown",
   "metadata": {},
   "source": [
    "첫 시점으로부터 난자 해동까지 경과한 일수"
   ]
  },
  {
   "cell_type": "code",
   "execution_count": 139,
   "metadata": {},
   "outputs": [
    {
     "name": "stdout",
     "output_type": "stream",
     "text": [
      "\n",
      "난자_해동_경과일별 임신_성공_여부 비율 및 갯수\n",
      "\n",
      "                 0         1   0   1  Total\n",
      "variable                                   \n",
      "0.0       0.831461  0.168539  74  15     89\n"
     ]
    }
   ],
   "source": [
    "value_counts_ratio(train, '난자_해동_경과일')"
   ]
  },
  {
   "cell_type": "code",
   "execution_count": 140,
   "metadata": {},
   "outputs": [
    {
     "data": {
      "text/plain": [
       "35455"
      ]
     },
     "execution_count": 140,
     "metadata": {},
     "output_type": "execute_result"
    }
   ],
   "source": [
    "train['난자_해동_경과일'].isnull().sum()"
   ]
  },
  {
   "cell_type": "code",
   "execution_count": 141,
   "metadata": {},
   "outputs": [
    {
     "name": "stdout",
     "output_type": "stream",
     "text": [
      "결측값 개수: 35455\n",
      "결측값 개수: 0\n"
     ]
    }
   ],
   "source": [
    "print(\"결측값 개수:\", train['난자_해동_경과일'].isnull().sum())\n",
    "\n",
    "train['난자_해동_경과일'].fillna(-1, inplace=True)\n",
    "test['난자_해동_경과일'].fillna(-1, inplace=True)\n",
    "\n",
    "print(\"결측값 개수:\", train['난자_해동_경과일'].isnull().sum())"
   ]
  },
  {
   "cell_type": "markdown",
   "metadata": {},
   "source": [
    "### 65. 난자_혼합_경과일"
   ]
  },
  {
   "cell_type": "markdown",
   "metadata": {},
   "source": [
    "첫 시점으로부터 난자와 정자 혼합까지 경과한 일수"
   ]
  },
  {
   "cell_type": "code",
   "execution_count": 142,
   "metadata": {},
   "outputs": [
    {
     "name": "stdout",
     "output_type": "stream",
     "text": [
      "\n",
      "난자_혼합_경과일별 임신_성공_여부 비율 및 갯수\n",
      "\n",
      "                 0         1      0     1  Total\n",
      "variable                                        \n",
      "0.0       0.720616  0.279384  20343  7887  28230\n",
      "1.0       0.846154  0.153846     66    12     78\n",
      "2.0       0.692308  0.307692      9     4     13\n",
      "3.0       0.750000  0.250000      6     2      8\n",
      "5.0       0.500000  0.500000      2     2      4\n"
     ]
    }
   ],
   "source": [
    "value_counts_ratio(train, '난자_혼합_경과일')"
   ]
  },
  {
   "cell_type": "code",
   "execution_count": 143,
   "metadata": {},
   "outputs": [
    {
     "data": {
      "text/plain": [
       "7211"
      ]
     },
     "execution_count": 143,
     "metadata": {},
     "output_type": "execute_result"
    }
   ],
   "source": [
    "train['난자_혼합_경과일'].isnull().sum()"
   ]
  },
  {
   "cell_type": "code",
   "execution_count": 144,
   "metadata": {},
   "outputs": [
    {
     "name": "stdout",
     "output_type": "stream",
     "text": [
      "결측값 개수: 7211\n",
      "결측값 개수: 0\n"
     ]
    }
   ],
   "source": [
    "print(\"결측값 개수:\", train['난자_혼합_경과일'].isnull().sum())\n",
    "\n",
    "train['난자_혼합_경과일'].fillna(-1, inplace=True)\n",
    "test['난자_혼합_경과일'].fillna(-1, inplace=True)\n",
    "\n",
    "print(\"결측값 개수:\", train['난자_혼합_경과일'].isnull().sum())"
   ]
  },
  {
   "cell_type": "code",
   "execution_count": 145,
   "metadata": {},
   "outputs": [
    {
     "name": "stdout",
     "output_type": "stream",
     "text": [
      "\n",
      "난자_혼합_경과일별 임신_성공_여부 비율 및 갯수\n",
      "\n",
      "                 0         1      0     1  Total\n",
      "variable                                        \n",
      "-1.0      0.838996  0.161004   6050  1161   7211\n",
      " 0.0      0.720616  0.279384  20343  7887  28230\n",
      " 1.0      0.846154  0.153846     66    12     78\n",
      " 2.0      0.692308  0.307692      9     4     13\n",
      " 3.0      0.750000  0.250000      6     2      8\n",
      " 5.0      0.500000  0.500000      2     2      4\n"
     ]
    }
   ],
   "source": [
    "value_counts_ratio(train, '난자_혼합_경과일')"
   ]
  },
  {
   "cell_type": "markdown",
   "metadata": {},
   "source": [
    "### 66. 배아_이식_경과일"
   ]
  },
  {
   "cell_type": "markdown",
   "metadata": {},
   "source": [
    "첫 시점으로부터 배아 이식까지 경과한 일수"
   ]
  },
  {
   "cell_type": "code",
   "execution_count": 146,
   "metadata": {},
   "outputs": [
    {
     "name": "stdout",
     "output_type": "stream",
     "text": [
      "\n",
      "배아_이식_경과일별 임신_성공_여부 비율 및 갯수\n",
      "\n",
      "                 0         1     0     1  Total\n",
      "variable                                       \n",
      "0.0       0.798050  0.201950  2292   580   2872\n",
      "1.0       0.830804  0.169196  1095   223   1318\n",
      "2.0       0.777232  0.222768  4902  1405   6307\n",
      "3.0       0.734332  0.265668  7499  2713  10212\n",
      "4.0       0.704065  0.295935   433   182    615\n",
      "5.0       0.592381  0.407619  5396  3713   9109\n",
      "6.0       0.735892  0.264108   326   117    443\n",
      "7.0       0.750000  0.250000     6     2      8\n"
     ]
    }
   ],
   "source": [
    "value_counts_ratio(train, '배아_이식_경과일')"
   ]
  },
  {
   "cell_type": "code",
   "execution_count": 147,
   "metadata": {},
   "outputs": [
    {
     "name": "stdout",
     "output_type": "stream",
     "text": [
      "결측값 개수: 4660\n",
      "결측값 개수: 0\n"
     ]
    }
   ],
   "source": [
    "print(\"결측값 개수:\", train['배아_이식_경과일'].isnull().sum())\n",
    "\n",
    "train['배아_이식_경과일'].fillna(-1, inplace=True)\n",
    "test['배아_이식_경과일'].fillna(-1, inplace=True)\n",
    "\n",
    "print(\"결측값 개수:\", train['배아_이식_경과일'].isnull().sum())"
   ]
  },
  {
   "cell_type": "code",
   "execution_count": 148,
   "metadata": {},
   "outputs": [
    {
     "name": "stdout",
     "output_type": "stream",
     "text": [
      "\n",
      "배아_이식_경과일별 임신_성공_여부 비율 및 갯수\n",
      "\n",
      "                 0         1     0     1  Total\n",
      "variable                                       \n",
      "-1.0      0.971459  0.028541  4527   133   4660\n",
      " 0.0      0.798050  0.201950  2292   580   2872\n",
      " 1.0      0.830804  0.169196  1095   223   1318\n",
      " 2.0      0.777232  0.222768  4902  1405   6307\n",
      " 3.0      0.734332  0.265668  7499  2713  10212\n",
      " 4.0      0.704065  0.295935   433   182    615\n",
      " 5.0      0.592381  0.407619  5396  3713   9109\n",
      " 6.0      0.735892  0.264108   326   117    443\n",
      " 7.0      0.750000  0.250000     6     2      8\n"
     ]
    }
   ],
   "source": [
    "value_counts_ratio(train, '배아_이식_경과일')"
   ]
  },
  {
   "cell_type": "markdown",
   "metadata": {},
   "source": [
    "### 67. 배아_해동_경과일"
   ]
  },
  {
   "cell_type": "markdown",
   "metadata": {},
   "source": [
    "첫 시점으로부터 배아 해동까지 경과한 일수"
   ]
  },
  {
   "cell_type": "code",
   "execution_count": 149,
   "metadata": {},
   "outputs": [
    {
     "name": "stdout",
     "output_type": "stream",
     "text": [
      "\n",
      "배아_해동_경과일별 임신_성공_여부 비율 및 갯수\n",
      "\n",
      "                 0         1       0       1  Total\n",
      "variable                                           \n",
      "0.0       0.811021  0.188979  4386.0  1022.0   5408\n",
      "1.0       1.000000  0.000000     3.0     0.0      3\n",
      "2.0       0.888889  0.111111    16.0     2.0     18\n",
      "3.0       0.750000  0.250000     6.0     2.0      8\n",
      "4.0       1.000000  0.000000     1.0     0.0      1\n",
      "5.0       0.818182  0.181818     9.0     2.0     11\n",
      "6.0       1.000000  0.000000     1.0     0.0      1\n"
     ]
    }
   ],
   "source": [
    "value_counts_ratio(train, '배아_해동_경과일')"
   ]
  },
  {
   "cell_type": "code",
   "execution_count": 150,
   "metadata": {},
   "outputs": [
    {
     "data": {
      "text/plain": [
       "0.0    1870\n",
       "2.0       8\n",
       "3.0       6\n",
       "5.0       5\n",
       "1.0       2\n",
       "6.0       1\n",
       "Name: 배아_해동_경과일, dtype: int64"
      ]
     },
     "execution_count": 150,
     "metadata": {},
     "output_type": "execute_result"
    }
   ],
   "source": [
    "test['배아_해동_경과일'].value_counts()"
   ]
  },
  {
   "cell_type": "code",
   "execution_count": 151,
   "metadata": {},
   "outputs": [
    {
     "name": "stdout",
     "output_type": "stream",
     "text": [
      "결측값 개수: 30094\n",
      "결측값 개수: 0\n"
     ]
    }
   ],
   "source": [
    "print(\"결측값 개수:\", train['배아_해동_경과일'].isnull().sum())\n",
    "\n",
    "train['배아_해동_경과일'].fillna(-1, inplace=True)\n",
    "test['배아_해동_경과일'].fillna(-1, inplace=True)\n",
    "\n",
    "print(\"결측값 개수:\", train['배아_해동_경과일'].isnull().sum())"
   ]
  },
  {
   "cell_type": "code",
   "execution_count": 152,
   "metadata": {},
   "outputs": [
    {
     "name": "stdout",
     "output_type": "stream",
     "text": [
      "\n",
      "배아_해동_경과일별 임신_성공_여부 비율 및 갯수\n",
      "\n",
      "                 0         1        0       1  Total\n",
      "variable                                            \n",
      "-1.0      0.732837  0.267163  22054.0  8040.0  30094\n",
      " 0.0      0.811021  0.188979   4386.0  1022.0   5408\n",
      " 1.0      1.000000  0.000000      3.0     0.0      3\n",
      " 2.0      0.888889  0.111111     16.0     2.0     18\n",
      " 3.0      0.750000  0.250000      6.0     2.0      8\n",
      " 4.0      1.000000  0.000000      1.0     0.0      1\n",
      " 5.0      0.818182  0.181818      9.0     2.0     11\n",
      " 6.0      1.000000  0.000000      1.0     0.0      1\n"
     ]
    }
   ],
   "source": [
    "value_counts_ratio(train, '배아_해동_경과일')"
   ]
  },
  {
   "cell_type": "code",
   "execution_count": 153,
   "metadata": {},
   "outputs": [],
   "source": [
    "# 파생 변수 생성 함수 정의\n",
    "def calculate_difference(col1, col2):\n",
    "    return np.where((col1 == -1) | (col2 == -1), 'unknown', col2 - col1)\n",
    "\n",
    "# 파생 변수 생성 (train 데이터프레임)\n",
    "train['채취_해동_차이'] = calculate_difference(train['난자_채취_경과일'], train['난자_해동_경과일'])\n",
    "train['해동_혼합_차이'] = calculate_difference(train['난자_해동_경과일'], train['난자_혼합_경과일'])\n",
    "train['혼합_이식_차이'] = calculate_difference(train['난자_혼합_경과일'], train['배아_이식_경과일'])\n",
    "train['이식_해동_차이'] = calculate_difference(train['배아_이식_경과일'], train['배아_해동_경과일'])\n",
    "\n",
    "# 파생 변수 생성 (test 데이터프레임)\n",
    "test['채취_해동_차이'] = calculate_difference(test['난자_채취_경과일'], test['난자_해동_경과일'])\n",
    "test['해동_혼합_차이'] = calculate_difference(test['난자_해동_경과일'], test['난자_혼합_경과일'])\n",
    "test['혼합_이식_차이'] = calculate_difference(test['난자_혼합_경과일'], test['배아_이식_경과일'])\n",
    "test['이식_해동_차이'] = calculate_difference(test['배아_이식_경과일'], test['배아_해동_경과일'])"
   ]
  },
  {
   "cell_type": "code",
   "execution_count": 154,
   "metadata": {},
   "outputs": [],
   "source": [
    "# # 모든 행을 출력하도록 설정\n",
    "pd.set_option('display.max_rows', None)"
   ]
  },
  {
   "cell_type": "code",
   "execution_count": 155,
   "metadata": {},
   "outputs": [
    {
     "name": "stdout",
     "output_type": "stream",
     "text": [
      "Grouped by: 난자_채취_경과일, 난자_혼합_경과일\n",
      "\n",
      "          group  '임신_성공_여부' count     ratio  Total\n",
      "0  (-1.0, -1.0)              1136  0.179321   6335\n",
      "1   (-1.0, 0.0)               403  0.311437   1294\n",
      "2   (-1.0, 3.0)                 0  0.000000      1\n",
      "3   (0.0, -1.0)                25  0.028539    876\n",
      "4    (0.0, 0.0)              7484  0.277844  26936\n",
      "5    (0.0, 1.0)                12  0.153846     78\n",
      "6    (0.0, 2.0)                 4  0.307692     13\n",
      "7    (0.0, 3.0)                 2  0.285714      7\n",
      "8    (0.0, 5.0)                 2  0.500000      4\n"
     ]
    }
   ],
   "source": [
    "summarize_group(train, ['난자_채취_경과일', '난자_혼합_경과일'])"
   ]
  },
  {
   "cell_type": "code",
   "execution_count": 156,
   "metadata": {},
   "outputs": [
    {
     "name": "stdout",
     "output_type": "stream",
     "text": [
      "Grouped by: 배아_이식_경과일, 배아_해동_경과일\n",
      "\n",
      "           group  '임신_성공_여부' count     ratio  Total\n",
      "0   (-1.0, -1.0)               129  0.030656   4208\n",
      "1    (-1.0, 0.0)                 4  0.008869    451\n",
      "2    (-1.0, 2.0)                 0  0.000000      1\n",
      "3    (0.0, -1.0)                 5  0.250000     20\n",
      "4     (0.0, 0.0)               575  0.201613   2852\n",
      "5    (1.0, -1.0)                19  0.124183    153\n",
      "6     (1.0, 0.0)               204  0.175107   1165\n",
      "7    (2.0, -1.0)              1289  0.223668   5763\n",
      "8     (2.0, 0.0)               116  0.217636    533\n",
      "9     (2.0, 2.0)                 0  0.000000     10\n",
      "10    (2.0, 5.0)                 0  0.000000      1\n",
      "11   (3.0, -1.0)              2657  0.264985  10027\n",
      "12    (3.0, 0.0)                55  0.317919    173\n",
      "13    (3.0, 1.0)                 0  0.000000      3\n",
      "14    (3.0, 2.0)                 0  0.000000      2\n",
      "15    (3.0, 3.0)                 1  0.166667      6\n",
      "16    (3.0, 5.0)                 0  0.000000      1\n",
      "17   (4.0, -1.0)               119  0.294554    404\n",
      "18    (4.0, 0.0)                63  0.300000    210\n",
      "19    (4.0, 4.0)                 0  0.000000      1\n",
      "20   (5.0, -1.0)              3703  0.408179   9072\n",
      "21    (5.0, 0.0)                 5  0.238095     21\n",
      "22    (5.0, 2.0)                 2  0.400000      5\n",
      "23    (5.0, 3.0)                 1  0.500000      2\n",
      "24    (5.0, 5.0)                 2  0.222222      9\n",
      "25   (6.0, -1.0)               117  0.265909    440\n",
      "26    (6.0, 0.0)                 0  0.000000      2\n",
      "27    (6.0, 6.0)                 0  0.000000      1\n",
      "28   (7.0, -1.0)                 2  0.285714      7\n",
      "29    (7.0, 0.0)                 0  0.000000      1\n"
     ]
    }
   ],
   "source": [
    "summarize_group(train, ['배아_이식_경과일', '배아_해동_경과일'])"
   ]
  },
  {
   "cell_type": "code",
   "execution_count": 157,
   "metadata": {},
   "outputs": [
    {
     "name": "stdout",
     "output_type": "stream",
     "text": [
      "\n",
      "이식_해동_차이별 임신_성공_여부 비율 및 갯수\n",
      "\n",
      "                 0         1        0       1  Total\n",
      "variable                                            \n",
      "-1.0      0.825193  0.174807    963.0   204.0   1167\n",
      "-2.0      0.782528  0.217472    421.0   117.0    538\n",
      "-3.0      0.679775  0.320225    121.0    57.0    178\n",
      "-4.0      0.700000  0.300000    147.0    63.0    210\n",
      "-5.0      0.761905  0.238095     16.0     5.0     21\n",
      "-6.0      1.000000  0.000000      2.0     0.0      2\n",
      "-7.0      1.000000  0.000000      1.0     0.0      1\n",
      "0.0       0.799236  0.200764   2301.0   578.0   2879\n",
      "2.0       1.000000  0.000000      1.0     0.0      1\n",
      "3.0       1.000000  0.000000      1.0     0.0      1\n",
      "unknown   0.736659  0.263341  22502.0  8044.0  30546\n"
     ]
    }
   ],
   "source": [
    "value_counts_ratio(train, '이식_해동_차이')"
   ]
  },
  {
   "cell_type": "markdown",
   "metadata": {},
   "source": [
    "### 68. 임신_성공_여부"
   ]
  },
  {
   "cell_type": "markdown",
   "metadata": {},
   "source": [
    "해당 시술로부터 임신 성공 여부"
   ]
  },
  {
   "cell_type": "code",
   "execution_count": 158,
   "metadata": {},
   "outputs": [
    {
     "name": "stdout",
     "output_type": "stream",
     "text": [
      "\n",
      "임신_성공_여부별 임신_성공_여부 비율 및 갯수\n",
      "\n",
      "            0    1        0       1  Total\n",
      "variable                                  \n",
      "0         1.0  0.0  26476.0     0.0  26476\n",
      "1         0.0  1.0      0.0  9068.0   9068\n"
     ]
    }
   ],
   "source": [
    "value_counts_ratio(train, '임신_성공_여부')"
   ]
  },
  {
   "cell_type": "markdown",
   "metadata": {},
   "source": [
    "## 변수 상테 확인"
   ]
  },
  {
   "cell_type": "code",
   "execution_count": 159,
   "metadata": {},
   "outputs": [
    {
     "name": "stdout",
     "output_type": "stream",
     "text": [
      "<class 'pandas.core.frame.DataFrame'>\n",
      "Int64Index: 35544 entries, 0 to 35543\n",
      "Data columns (total 90 columns):\n",
      " #   Column                  Non-Null Count  Dtype   \n",
      "---  ------                  --------------  -----   \n",
      " 0   ID                      35544 non-null  object  \n",
      " 1   시술_당시_나이                35544 non-null  object  \n",
      " 2   임신_시도_또는_마지막_임신_경과_연수   35544 non-null  category\n",
      " 3   시술_유형                   35544 non-null  object  \n",
      " 4   배란_자극_여부                35544 non-null  int64   \n",
      " 5   배란_유도_유형                35544 non-null  object  \n",
      " 6   단일_배아_이식_여부             34618 non-null  float64 \n",
      " 7   착상_전_유전_검사_사용_여부        35544 non-null  float64 \n",
      " 8   착상_전_유전_진단_사용_여부        34618 non-null  float64 \n",
      " 9   남성_주_불임_원인              35544 non-null  int64   \n",
      " 10  남성_부_불임_원인              35544 non-null  int64   \n",
      " 11  여성_주_불임_원인              35544 non-null  int64   \n",
      " 12  여성_부_불임_원인              35544 non-null  int64   \n",
      " 13  부부_주_불임_원인              35544 non-null  int64   \n",
      " 14  부부_부_불임_원인              35544 non-null  int64   \n",
      " 15  불명확_불임_원인               35544 non-null  int64   \n",
      " 16  불임_원인_-_난관_질환           35544 non-null  int64   \n",
      " 17  불임_원인_-_남성_요인           35544 non-null  int64   \n",
      " 18  불임_원인_-_배란_장애           35544 non-null  int64   \n",
      " 19  불임_원인_-_자궁경부_문제         35544 non-null  int64   \n",
      " 20  불임_원인_-_자궁내막증           35544 non-null  int64   \n",
      " 21  불임_원인_-_정자_농도           35544 non-null  int64   \n",
      " 22  불임_원인_-_정자_형태           35544 non-null  int64   \n",
      " 23  배아_생성_주요_이유             35544 non-null  object  \n",
      " 24  총_시술_횟수                 35544 non-null  int64   \n",
      " 25  클리닉_내_총_시술_횟수           35544 non-null  int64   \n",
      " 26  IVF_시술_횟수               35544 non-null  int64   \n",
      " 27  DI_시술_횟수                35544 non-null  int64   \n",
      " 28  총_임신_횟수                 35544 non-null  int64   \n",
      " 29  IVF_임신_횟수               35544 non-null  int64   \n",
      " 30  DI_임신_횟수                35544 non-null  int64   \n",
      " 31  총_출산_횟수                 35544 non-null  int64   \n",
      " 32  IVF_출산_횟수               35544 non-null  int64   \n",
      " 33  DI_출산_횟수                35544 non-null  int64   \n",
      " 34  총_생성_배아_수               34618 non-null  float64 \n",
      " 35  미세주입된_난자_수              34618 non-null  float64 \n",
      " 36  미세주입에서_생성된_배아_수         34618 non-null  float64 \n",
      " 37  이식된_배아_수                34618 non-null  float64 \n",
      " 38  미세주입_배아_이식_수            34618 non-null  float64 \n",
      " 39  저장된_배아_수                34618 non-null  float64 \n",
      " 40  미세주입_후_저장된_배아_수         34618 non-null  float64 \n",
      " 41  해동된_배아_수                34618 non-null  float64 \n",
      " 42  해동_난자_수                 34618 non-null  float64 \n",
      " 43  수집된_신선_난자_수             34618 non-null  float64 \n",
      " 44  저장된_신선_난자_수             34618 non-null  float64 \n",
      " 45  혼합된_난자_수                34618 non-null  float64 \n",
      " 46  파트너_정자와_혼합된_난자_수        34618 non-null  float64 \n",
      " 47  기증자_정자와_혼합된_난자_수        34618 non-null  float64 \n",
      " 48  난자_출처                   35544 non-null  object  \n",
      " 49  정자_출처                   35544 non-null  object  \n",
      " 50  난자_기증자_나이               35544 non-null  object  \n",
      " 51  정자_기증자_나이               35544 non-null  object  \n",
      " 52  동결_배아_사용_여부             34618 non-null  float64 \n",
      " 53  신선_배아_사용_여부             34618 non-null  float64 \n",
      " 54  기증_배아_사용_여부             34618 non-null  float64 \n",
      " 55  대리모_여부                  34618 non-null  float64 \n",
      " 56  PGD_시술_여부               35544 non-null  float64 \n",
      " 57  PGS_시술_여부               35544 non-null  float64 \n",
      " 58  난자_채취_경과일               35544 non-null  float64 \n",
      " 59  난자_해동_경과일               35544 non-null  float64 \n",
      " 60  난자_혼합_경과일               35544 non-null  float64 \n",
      " 61  배아_이식_경과일               35544 non-null  float64 \n",
      " 62  배아_해동_경과일               35544 non-null  float64 \n",
      " 63  임신_성공_여부                35544 non-null  int64   \n",
      " 64  변환된_특정_시술_유형            35544 non-null  object  \n",
      " 65  특정_시술_유형_ICSI_더미        35544 non-null  int64   \n",
      " 66  특정_시술_유형_IVF_더미         35544 non-null  int64   \n",
      " 67  특정_시술_유형_AH_더미          35544 non-null  int64   \n",
      " 68  특정_시술_유형_BLASTOCYST_더미  35544 non-null  int64   \n",
      " 69  배아_생성_주요_이유_현재시술용       35544 non-null  int32   \n",
      " 70  배아_생성_주요_이유_기증용         35544 non-null  int32   \n",
      " 71  배아_생성_주요_이유_난자저장용       35544 non-null  int32   \n",
      " 72  배아_생성_주요_이유_배아저장용       35544 non-null  int32   \n",
      " 73  IVF_임신_시술_비율            35544 non-null  float64 \n",
      " 74  IVF_출산_임신_비율            35544 non-null  float64 \n",
      " 75  DI_임신_시술_비율             35544 non-null  float64 \n",
      " 76  DI_출산_임신_비율             35544 non-null  float64 \n",
      " 77  임신_성공률                  35544 non-null  float64 \n",
      " 78  출산_성공률                  35544 non-null  float64 \n",
      " 79  임신_성공율                  35544 non-null  float64 \n",
      " 80  ICSI_효율성                35544 non-null  float64 \n",
      " 81  저장_배아_비율                35544 non-null  float64 \n",
      " 82  해동_난자_비율                35544 non-null  float64 \n",
      " 83  생성_배아_유지율               35544 non-null  float64 \n",
      " 84  파트너_정자_사용_비율            35544 non-null  float64 \n",
      " 85  기증자_나이_더미               35544 non-null  int32   \n",
      " 86  채취_해동_차이                35544 non-null  object  \n",
      " 87  해동_혼합_차이                35544 non-null  object  \n",
      " 88  혼합_이식_차이                35544 non-null  object  \n",
      " 89  이식_해동_차이                35544 non-null  object  \n",
      "dtypes: category(1), float64(40), int32(5), int64(30), object(14)\n",
      "memory usage: 23.8+ MB\n"
     ]
    }
   ],
   "source": [
    "train.info()"
   ]
  },
  {
   "cell_type": "code",
   "execution_count": 160,
   "metadata": {},
   "outputs": [
    {
     "name": "stdout",
     "output_type": "stream",
     "text": [
      "<class 'pandas.core.frame.DataFrame'>\n",
      "Int64Index: 12793 entries, 0 to 12792\n",
      "Data columns (total 89 columns):\n",
      " #   Column                  Non-Null Count  Dtype   \n",
      "---  ------                  --------------  -----   \n",
      " 0   ID                      12793 non-null  object  \n",
      " 1   시술_당시_나이                12793 non-null  object  \n",
      " 2   임신_시도_또는_마지막_임신_경과_연수   12793 non-null  category\n",
      " 3   시술_유형                   12793 non-null  object  \n",
      " 4   배란_자극_여부                12793 non-null  int64   \n",
      " 5   배란_유도_유형                12793 non-null  object  \n",
      " 6   단일_배아_이식_여부             12491 non-null  float64 \n",
      " 7   착상_전_유전_검사_사용_여부        12793 non-null  float64 \n",
      " 8   착상_전_유전_진단_사용_여부        12491 non-null  float64 \n",
      " 9   남성_주_불임_원인              12793 non-null  int64   \n",
      " 10  남성_부_불임_원인              12793 non-null  int64   \n",
      " 11  여성_주_불임_원인              12793 non-null  int64   \n",
      " 12  여성_부_불임_원인              12793 non-null  int64   \n",
      " 13  부부_주_불임_원인              12793 non-null  int64   \n",
      " 14  부부_부_불임_원인              12793 non-null  int64   \n",
      " 15  불명확_불임_원인               12793 non-null  int64   \n",
      " 16  불임_원인_-_난관_질환           12793 non-null  int64   \n",
      " 17  불임_원인_-_남성_요인           12793 non-null  int64   \n",
      " 18  불임_원인_-_배란_장애           12793 non-null  int64   \n",
      " 19  불임_원인_-_자궁경부_문제         12793 non-null  int64   \n",
      " 20  불임_원인_-_자궁내막증           12793 non-null  int64   \n",
      " 21  불임_원인_-_정자_농도           12793 non-null  int64   \n",
      " 22  불임_원인_-_정자_형태           12793 non-null  int64   \n",
      " 23  배아_생성_주요_이유             12793 non-null  object  \n",
      " 24  총_시술_횟수                 12793 non-null  int64   \n",
      " 25  클리닉_내_총_시술_횟수           12793 non-null  int64   \n",
      " 26  IVF_시술_횟수               12793 non-null  int64   \n",
      " 27  DI_시술_횟수                12793 non-null  int64   \n",
      " 28  총_임신_횟수                 12793 non-null  int64   \n",
      " 29  IVF_임신_횟수               12793 non-null  int64   \n",
      " 30  DI_임신_횟수                12793 non-null  int64   \n",
      " 31  총_출산_횟수                 12793 non-null  int64   \n",
      " 32  IVF_출산_횟수               12793 non-null  int64   \n",
      " 33  DI_출산_횟수                12793 non-null  int64   \n",
      " 34  총_생성_배아_수               12491 non-null  float64 \n",
      " 35  미세주입된_난자_수              12491 non-null  float64 \n",
      " 36  미세주입에서_생성된_배아_수         12491 non-null  float64 \n",
      " 37  이식된_배아_수                12491 non-null  float64 \n",
      " 38  미세주입_배아_이식_수            12491 non-null  float64 \n",
      " 39  저장된_배아_수                12491 non-null  float64 \n",
      " 40  미세주입_후_저장된_배아_수         12491 non-null  float64 \n",
      " 41  해동된_배아_수                12491 non-null  float64 \n",
      " 42  해동_난자_수                 12491 non-null  float64 \n",
      " 43  수집된_신선_난자_수             12491 non-null  float64 \n",
      " 44  저장된_신선_난자_수             12491 non-null  float64 \n",
      " 45  혼합된_난자_수                12491 non-null  float64 \n",
      " 46  파트너_정자와_혼합된_난자_수        12491 non-null  float64 \n",
      " 47  기증자_정자와_혼합된_난자_수        12491 non-null  float64 \n",
      " 48  난자_출처                   12793 non-null  object  \n",
      " 49  정자_출처                   12793 non-null  object  \n",
      " 50  난자_기증자_나이               12793 non-null  object  \n",
      " 51  정자_기증자_나이               12793 non-null  object  \n",
      " 52  동결_배아_사용_여부             12491 non-null  float64 \n",
      " 53  신선_배아_사용_여부             12491 non-null  float64 \n",
      " 54  기증_배아_사용_여부             12491 non-null  float64 \n",
      " 55  대리모_여부                  12491 non-null  float64 \n",
      " 56  PGD_시술_여부               12793 non-null  float64 \n",
      " 57  PGS_시술_여부               12793 non-null  float64 \n",
      " 58  난자_채취_경과일               12793 non-null  float64 \n",
      " 59  난자_해동_경과일               12793 non-null  float64 \n",
      " 60  난자_혼합_경과일               12793 non-null  float64 \n",
      " 61  배아_이식_경과일               12793 non-null  float64 \n",
      " 62  배아_해동_경과일               12793 non-null  float64 \n",
      " 63  변환된_특정_시술_유형            12793 non-null  object  \n",
      " 64  특정_시술_유형_ICSI_더미        12793 non-null  int64   \n",
      " 65  특정_시술_유형_IVF_더미         12793 non-null  int64   \n",
      " 66  특정_시술_유형_AH_더미          12793 non-null  int64   \n",
      " 67  특정_시술_유형_BLASTOCYST_더미  12793 non-null  int64   \n",
      " 68  배아_생성_주요_이유_현재시술용       12793 non-null  int32   \n",
      " 69  배아_생성_주요_이유_기증용         12793 non-null  int32   \n",
      " 70  배아_생성_주요_이유_난자저장용       12793 non-null  int32   \n",
      " 71  배아_생성_주요_이유_배아저장용       12793 non-null  int32   \n",
      " 72  IVF_임신_시술_비율            12793 non-null  float64 \n",
      " 73  IVF_출산_임신_비율            12793 non-null  float64 \n",
      " 74  DI_임신_시술_비율             12793 non-null  float64 \n",
      " 75  DI_출산_임신_비율             12793 non-null  float64 \n",
      " 76  임신_성공률                  12793 non-null  float64 \n",
      " 77  출산_성공률                  12793 non-null  float64 \n",
      " 78  임신_성공율                  12793 non-null  float64 \n",
      " 79  ICSI_효율성                12793 non-null  float64 \n",
      " 80  저장_배아_비율                12793 non-null  float64 \n",
      " 81  해동_난자_비율                12793 non-null  float64 \n",
      " 82  생성_배아_유지율               12793 non-null  float64 \n",
      " 83  파트너_정자_사용_비율            12793 non-null  float64 \n",
      " 84  기증자_나이_더미               12793 non-null  int32   \n",
      " 85  채취_해동_차이                12793 non-null  object  \n",
      " 86  해동_혼합_차이                12793 non-null  object  \n",
      " 87  혼합_이식_차이                12793 non-null  object  \n",
      " 88  이식_해동_차이                12793 non-null  object  \n",
      "dtypes: category(1), float64(40), int32(5), int64(29), object(14)\n",
      "memory usage: 8.5+ MB\n"
     ]
    }
   ],
   "source": [
    "test.info()"
   ]
  },
  {
   "cell_type": "markdown",
   "metadata": {},
   "source": [
    "## 데이터 저장"
   ]
  },
  {
   "cell_type": "code",
   "execution_count": 161,
   "metadata": {},
   "outputs": [],
   "source": [
    "# CSV 파일 저장\n",
    "train.to_csv('../data/train_dataset_25_TRZKPL.csv', index=False, encoding='utf-8-sig')\n",
    "test.to_csv('../data/test_dataset_25_TRZKPL.csv', index=False, encoding='utf-8-sig')"
   ]
  },
  {
   "cell_type": "markdown",
   "metadata": {},
   "source": [
    "."
   ]
  }
 ],
 "metadata": {
  "kernelspec": {
   "display_name": "Python 3",
   "language": "python",
   "name": "python3"
  },
  "language_info": {
   "codemirror_mode": {
    "name": "ipython",
    "version": 3
   },
   "file_extension": ".py",
   "mimetype": "text/x-python",
   "name": "python",
   "nbconvert_exporter": "python",
   "pygments_lexer": "ipython3",
   "version": "3.7.8"
  }
 },
 "nbformat": 4,
 "nbformat_minor": 2
}
