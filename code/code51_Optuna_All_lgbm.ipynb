{
 "cells": [
  {
   "cell_type": "markdown",
   "metadata": {},
   "source": [
    "## 난임 환자 대상 임신 성공 여부 예측"
   ]
  },
  {
   "cell_type": "markdown",
   "metadata": {},
   "source": [
    "### LGAimers 6th 온라인 해커톤"
   ]
  },
  {
   "cell_type": "markdown",
   "metadata": {},
   "source": [
    "Import"
   ]
  },
  {
   "cell_type": "code",
   "execution_count": 1,
   "metadata": {},
   "outputs": [],
   "source": [
    "import pandas as pd\n",
    "import optuna\n",
    "from sklearn.preprocessing import OrdinalEncoder\n",
    "from sklearn.model_selection import train_test_split\n",
    "from sklearn.metrics import accuracy_score, f1_score, roc_auc_score, confusion_matrix, ConfusionMatrixDisplay\n",
    "import matplotlib.pyplot as plt\n",
    "import lightgbm as lgb"
   ]
  },
  {
   "cell_type": "markdown",
   "metadata": {},
   "source": [
    "### Data Load"
   ]
  },
  {
   "cell_type": "code",
   "execution_count": 2,
   "metadata": {},
   "outputs": [],
   "source": [
    "# 데이터 로드\n",
    "Total_train = pd.read_csv('../data/Total_train_dataset_51.csv')\n",
    "Total_test = pd.read_csv('../data/Total_test_dataset_51.csv')"
   ]
  },
  {
   "cell_type": "code",
   "execution_count": 3,
   "metadata": {},
   "outputs": [],
   "source": [
    "# ID 열을 제외한 특성과 타겟 변수 분리\n",
    "Total_X = Total_train.drop(['임신_성공_여부', 'ID'], axis=1)\n",
    "Total_y = Total_train['임신_성공_여부']"
   ]
  },
  {
   "cell_type": "markdown",
   "metadata": {},
   "source": [
    "### 인코딩 "
   ]
  },
  {
   "cell_type": "code",
   "execution_count": 4,
   "metadata": {},
   "outputs": [],
   "source": [
    "Total_categorical_columns = [\n",
    "    # 없음\n",
    "]"
   ]
  },
  {
   "cell_type": "code",
   "execution_count": 5,
   "metadata": {},
   "outputs": [],
   "source": [
    "# 모든 범주형 변수를 문자열로 변환\n",
    "Total_X[Total_categorical_columns] = Total_X[Total_categorical_columns].astype(str)\n",
    "Total_test[Total_categorical_columns] = Total_test[Total_categorical_columns].astype(str)\n",
    "\n",
    "# OrdinalEncoder를 사용하여 범주형 변수 인코딩\n",
    "Total_encoder = OrdinalEncoder(handle_unknown='use_encoded_value', unknown_value=-1)\n",
    "\n",
    "Total_X[Total_categorical_columns] = Total_encoder.fit_transform(Total_X[Total_categorical_columns])\n",
    "Total_test[Total_categorical_columns] = Total_encoder.transform(Total_test[Total_categorical_columns])"
   ]
  },
  {
   "cell_type": "markdown",
   "metadata": {},
   "source": [
    "## Modeling"
   ]
  },
  {
   "cell_type": "code",
   "execution_count": 6,
   "metadata": {},
   "outputs": [],
   "source": [
    "# 데이터 분할\n",
    "Total_X_train, Total_X_test, Total_y_train, Total_y_test = train_test_split(Total_X, Total_y, test_size=0.2, random_state=42)"
   ]
  },
  {
   "cell_type": "markdown",
   "metadata": {},
   "source": [
    "### Total 데이터"
   ]
  },
  {
   "cell_type": "markdown",
   "metadata": {},
   "source": [
    "optuna"
   ]
  },
  {
   "cell_type": "code",
   "execution_count": 7,
   "metadata": {},
   "outputs": [
    {
     "name": "stderr",
     "output_type": "stream",
     "text": [
      "[I 2025-02-23 23:23:23,757] A new study created in memory with name: no-name-71952252-a5ac-44bc-9025-3f9d7a484469\n",
      "[I 2025-02-23 23:23:44,927] Trial 0 finished with value: 0.7159716912827899 and parameters: {'n_estimators': 6491, 'num_leaves': 793, 'max_depth': 318, 'learning_rate': 0.2561371598439815, 'min_child_samples': 356, 'subsample': 0.43043377236337266, 'reg_alpha': 5.7592392074464565, 'reg_lambda': 54.29197165060359}. Best is trial 0 with value: 0.7159716912827899.\n",
      "[I 2025-02-23 23:23:47,839] Trial 1 finished with value: 0.737540641408274 and parameters: {'n_estimators': 1071, 'num_leaves': 1840, 'max_depth': 252, 'learning_rate': 0.3368065575500847, 'min_child_samples': 478, 'subsample': 0.6131815831095374, 'reg_alpha': 26.72973676770004, 'reg_lambda': 50.65635078632265}. Best is trial 1 with value: 0.737540641408274.\n",
      "[I 2025-02-23 23:23:54,822] Trial 2 finished with value: 0.7369503001364934 and parameters: {'n_estimators': 2545, 'num_leaves': 953, 'max_depth': 496, 'learning_rate': 0.31837261325589716, 'min_child_samples': 26, 'subsample': 0.7712982672170986, 'reg_alpha': 29.43546524788018, 'reg_lambda': 22.928590355999514}. Best is trial 1 with value: 0.737540641408274.\n",
      "[I 2025-02-23 23:24:16,000] Trial 3 finished with value: 0.7374203763667592 and parameters: {'n_estimators': 6772, 'num_leaves': 4430, 'max_depth': 232, 'learning_rate': 0.3753257475659254, 'min_child_samples': 499, 'subsample': 0.1582325953075121, 'reg_alpha': 88.52624335318752, 'reg_lambda': 99.19321056996228}. Best is trial 1 with value: 0.737540641408274.\n",
      "[I 2025-02-23 23:24:23,931] Trial 4 finished with value: 0.7385429947090547 and parameters: {'n_estimators': 4401, 'num_leaves': 268, 'max_depth': 490, 'learning_rate': 0.09992500281159408, 'min_child_samples': 67, 'subsample': 0.25003575244769527, 'reg_alpha': 44.44472881359346, 'reg_lambda': 76.0289473736299}. Best is trial 4 with value: 0.7385429947090547.\n",
      "[I 2025-02-23 23:24:40,710] Trial 5 finished with value: 0.7357680463268856 and parameters: {'n_estimators': 3607, 'num_leaves': 4554, 'max_depth': 44, 'learning_rate': 0.026452040882064883, 'min_child_samples': 120, 'subsample': 0.7694113309580749, 'reg_alpha': 17.631412187959448, 'reg_lambda': 20.190193240598386}. Best is trial 4 with value: 0.7385429947090547.\n",
      "[I 2025-02-23 23:25:09,874] Trial 6 finished with value: 0.7041233233242923 and parameters: {'n_estimators': 6555, 'num_leaves': 1627, 'max_depth': 293, 'learning_rate': 0.2913480787217599, 'min_child_samples': 182, 'subsample': 0.4043634949595557, 'reg_alpha': 4.184354448650151, 'reg_lambda': 77.05950863427323}. Best is trial 4 with value: 0.7385429947090547.\n",
      "[I 2025-02-23 23:25:27,456] Trial 7 finished with value: 0.7375073025062173 and parameters: {'n_estimators': 6445, 'num_leaves': 1243, 'max_depth': 247, 'learning_rate': 0.046151345466587244, 'min_child_samples': 402, 'subsample': 0.06882290589167528, 'reg_alpha': 95.67832260120885, 'reg_lambda': 4.78284566703515}. Best is trial 4 with value: 0.7385429947090547.\n",
      "[I 2025-02-23 23:26:48,683] Trial 8 finished with value: 0.7141156041589196 and parameters: {'n_estimators': 6777, 'num_leaves': 1388, 'max_depth': 142, 'learning_rate': 0.0375688012407514, 'min_child_samples': 202, 'subsample': 0.6798376317361925, 'reg_alpha': 4.404136635405755, 'reg_lambda': 18.71738848088275}. Best is trial 4 with value: 0.7385429947090547.\n",
      "[I 2025-02-23 23:26:54,130] Trial 9 finished with value: 0.738201594122345 and parameters: {'n_estimators': 3036, 'num_leaves': 4403, 'max_depth': 197, 'learning_rate': 0.1690688771702496, 'min_child_samples': 287, 'subsample': 0.9240624859429283, 'reg_alpha': 66.91712484689869, 'reg_lambda': 72.57908691299893}. Best is trial 4 with value: 0.7385429947090547.\n",
      "[I 2025-02-23 23:27:01,819] Trial 10 finished with value: 0.737639776454079 and parameters: {'n_estimators': 4952, 'num_leaves': 3299, 'max_depth': 500, 'learning_rate': 0.47058147228650166, 'min_child_samples': 13, 'subsample': 0.24769915680215582, 'reg_alpha': 51.964802737352485, 'reg_lambda': 97.2773242520474}. Best is trial 4 with value: 0.7385429947090547.\n",
      "[I 2025-02-23 23:27:07,886] Trial 11 finished with value: 0.7380916134599231 and parameters: {'n_estimators': 4150, 'num_leaves': 128, 'max_depth': 379, 'learning_rate': 0.15058270198215415, 'min_child_samples': 286, 'subsample': 0.9894218219518457, 'reg_alpha': 62.025097215177226, 'reg_lambda': 74.18836812377789}. Best is trial 4 with value: 0.7385429947090547.\n",
      "[I 2025-02-23 23:27:12,623] Trial 12 finished with value: 0.7378852084095242 and parameters: {'n_estimators': 2619, 'num_leaves': 3141, 'max_depth': 137, 'learning_rate': 0.15278250488881165, 'min_child_samples': 280, 'subsample': 0.9870419498036779, 'reg_alpha': 70.25496811185195, 'reg_lambda': 73.62887237168148}. Best is trial 4 with value: 0.7385429947090547.\n",
      "[I 2025-02-23 23:27:21,581] Trial 13 finished with value: 0.7386007882425786 and parameters: {'n_estimators': 5072, 'num_leaves': 2592, 'max_depth': 422, 'learning_rate': 0.14746589773233226, 'min_child_samples': 118, 'subsample': 0.29664124489775373, 'reg_alpha': 42.19605867955143, 'reg_lambda': 62.59874110633349}. Best is trial 13 with value: 0.7386007882425786.\n",
      "[I 2025-02-23 23:27:30,215] Trial 14 finished with value: 0.7384042705255777 and parameters: {'n_estimators': 5152, 'num_leaves': 2439, 'max_depth': 414, 'learning_rate': 0.09906376690175622, 'min_child_samples': 98, 'subsample': 0.29278968720797904, 'reg_alpha': 39.98070896335314, 'reg_lambda': 60.05439852518644}. Best is trial 13 with value: 0.7386007882425786.\n",
      "[I 2025-02-23 23:27:38,297] Trial 15 finished with value: 0.7385647287316741 and parameters: {'n_estimators': 5582, 'num_leaves': 2421, 'max_depth': 416, 'learning_rate': 0.1919798040034406, 'min_child_samples': 94, 'subsample': 0.041437888683511004, 'reg_alpha': 42.83676098438853, 'reg_lambda': 37.97327468840757}. Best is trial 13 with value: 0.7386007882425786.\n",
      "[I 2025-02-23 23:27:45,973] Trial 16 finished with value: 0.7381046473058216 and parameters: {'n_estimators': 5390, 'num_leaves': 2428, 'max_depth': 407, 'learning_rate': 0.21761152532341693, 'min_child_samples': 165, 'subsample': 0.010452342778023094, 'reg_alpha': 54.86613572723001, 'reg_lambda': 37.3627219907914}. Best is trial 13 with value: 0.7386007882425786.\n",
      "[I 2025-02-23 23:27:57,092] Trial 17 finished with value: 0.7380895834518583 and parameters: {'n_estimators': 7771, 'num_leaves': 3437, 'max_depth': 343, 'learning_rate': 0.21592367347574803, 'min_child_samples': 123, 'subsample': 0.13505208985271602, 'reg_alpha': 34.82699539496189, 'reg_lambda': 37.67697691192318}. Best is trial 13 with value: 0.7386007882425786.\n",
      "[I 2025-02-23 23:28:06,173] Trial 18 finished with value: 0.7377145215500462 and parameters: {'n_estimators': 5638, 'num_leaves': 3718, 'max_depth': 437, 'learning_rate': 0.3952596603245316, 'min_child_samples': 225, 'subsample': 0.3720910517022149, 'reg_alpha': 79.8500705010919, 'reg_lambda': 38.77501818272275}. Best is trial 13 with value: 0.7386007882425786.\n",
      "[I 2025-02-23 23:28:19,452] Trial 19 finished with value: 0.7355185543553109 and parameters: {'n_estimators': 7944, 'num_leaves': 2146, 'max_depth': 363, 'learning_rate': 0.20565186023445794, 'min_child_samples': 70, 'subsample': 0.5466285595370857, 'reg_alpha': 18.871427682918625, 'reg_lambda': 58.74694957294515}. Best is trial 13 with value: 0.7386007882425786.\n",
      "[I 2025-02-23 23:28:23,644] Trial 20 finished with value: 0.7384521478677458 and parameters: {'n_estimators': 1567, 'num_leaves': 2890, 'max_depth': 447, 'learning_rate': 0.09748208111676153, 'min_child_samples': 157, 'subsample': 0.1519461696469337, 'reg_alpha': 47.49189985637059, 'reg_lambda': 30.34846546167863}. Best is trial 13 with value: 0.7386007882425786.\n",
      "[I 2025-02-23 23:28:30,244] Trial 21 finished with value: 0.7385403895320382 and parameters: {'n_estimators': 3909, 'num_leaves': 184, 'max_depth': 465, 'learning_rate': 0.09794963063960652, 'min_child_samples': 68, 'subsample': 0.26510362160868095, 'reg_alpha': 43.68662309459833, 'reg_lambda': 85.82050625134937}. Best is trial 13 with value: 0.7386007882425786.\n",
      "[I 2025-02-23 23:28:37,609] Trial 22 finished with value: 0.7381290103879055 and parameters: {'n_estimators': 4527, 'num_leaves': 2767, 'max_depth': 390, 'learning_rate': 0.12377509606483629, 'min_child_samples': 44, 'subsample': 0.011738654889295253, 'reg_alpha': 59.814513359649666, 'reg_lambda': 65.50934062248545}. Best is trial 13 with value: 0.7386007882425786.\n",
      "[I 2025-02-23 23:28:44,688] Trial 23 finished with value: 0.7383294826402248 and parameters: {'n_estimators': 4500, 'num_leaves': 3789, 'max_depth': 470, 'learning_rate': 0.18725501140571202, 'min_child_samples': 87, 'subsample': 0.3170681380720284, 'reg_alpha': 37.36455928066148, 'reg_lambda': 44.43439753648574}. Best is trial 13 with value: 0.7386007882425786.\n",
      "[I 2025-02-23 23:29:21,687] Trial 24 finished with value: 0.7383362592847942 and parameters: {'n_estimators': 5952, 'num_leaves': 1978, 'max_depth': 316, 'learning_rate': 0.004042450031855549, 'min_child_samples': 131, 'subsample': 0.21434975169039133, 'reg_alpha': 47.03837125227236, 'reg_lambda': 91.461726141334}. Best is trial 13 with value: 0.7386007882425786.\n",
      "[I 2025-02-23 23:29:29,978] Trial 25 finished with value: 0.737657433543835 and parameters: {'n_estimators': 3348, 'num_leaves': 4993, 'max_depth': 425, 'learning_rate': 0.07469639481791407, 'min_child_samples': 236, 'subsample': 0.47834757124225946, 'reg_alpha': 26.444009767584813, 'reg_lambda': 81.81464422864445}. Best is trial 13 with value: 0.7386007882425786.\n",
      "[I 2025-02-23 23:29:39,579] Trial 26 finished with value: 0.7353469629481217 and parameters: {'n_estimators': 4778, 'num_leaves': 993, 'max_depth': 464, 'learning_rate': 0.13324030017511235, 'min_child_samples': 65, 'subsample': 0.11294337225404037, 'reg_alpha': 16.61219157841689, 'reg_lambda': 66.15836752878985}. Best is trial 13 with value: 0.7386007882425786.\n",
      "[I 2025-02-23 23:29:48,339] Trial 27 finished with value: 0.737869848015167 and parameters: {'n_estimators': 5904, 'num_leaves': 507, 'max_depth': 362, 'learning_rate': 0.25066102733942985, 'min_child_samples': 140, 'subsample': 0.33987980492197484, 'reg_alpha': 33.25009770342392, 'reg_lambda': 45.12717973987148}. Best is trial 13 with value: 0.7386007882425786.\n",
      "[I 2025-02-23 23:29:57,044] Trial 28 finished with value: 0.7382031574275751 and parameters: {'n_estimators': 4165, 'num_leaves': 2294, 'max_depth': 290, 'learning_rate': 0.07609342158159817, 'min_child_samples': 13, 'subsample': 0.2185720620700289, 'reg_alpha': 55.71859109352673, 'reg_lambda': 65.71208850127789}. Best is trial 13 with value: 0.7386007882425786.\n",
      "[I 2025-02-23 23:30:06,496] Trial 29 finished with value: 0.737998390315056 and parameters: {'n_estimators': 5921, 'num_leaves': 580, 'max_depth': 323, 'learning_rate': 0.26442932714238404, 'min_child_samples': 351, 'subsample': 0.481844402233308, 'reg_alpha': 73.95179044781649, 'reg_lambda': 52.1835685041244}. Best is trial 13 with value: 0.7386007882425786.\n",
      "[I 2025-02-23 23:30:18,340] Trial 30 finished with value: 0.7384034625027598 and parameters: {'n_estimators': 7422, 'num_leaves': 1459, 'max_depth': 409, 'learning_rate': 0.17429213043761788, 'min_child_samples': 192, 'subsample': 0.42260099032137255, 'reg_alpha': 42.074203806443954, 'reg_lambda': 56.1761624045131}. Best is trial 13 with value: 0.7386007882425786.\n",
      "[I 2025-02-23 23:30:25,406] Trial 31 finished with value: 0.738482347223016 and parameters: {'n_estimators': 3945, 'num_leaves': 160, 'max_depth': 472, 'learning_rate': 0.11164337031719904, 'min_child_samples': 52, 'subsample': 0.2761576507964254, 'reg_alpha': 43.7445580222435, 'reg_lambda': 86.51585331776013}. Best is trial 13 with value: 0.7386007882425786.\n",
      "[I 2025-02-23 23:30:33,138] Trial 32 finished with value: 0.7384255497865867 and parameters: {'n_estimators': 3749, 'num_leaves': 587, 'max_depth': 450, 'learning_rate': 0.06799892908870071, 'min_child_samples': 97, 'subsample': 0.07789276010817432, 'reg_alpha': 48.54106816937866, 'reg_lambda': 84.478201428237}. Best is trial 13 with value: 0.7386007882425786.\n",
      "[I 2025-02-23 23:30:37,645] Trial 33 finished with value: 0.7383131540116288 and parameters: {'n_estimators': 2041, 'num_leaves': 1059, 'max_depth': 487, 'learning_rate': 0.13705057932465692, 'min_child_samples': 43, 'subsample': 0.5447156237700198, 'reg_alpha': 34.82126856130685, 'reg_lambda': 90.76776287939046}. Best is trial 13 with value: 0.7386007882425786.\n",
      "[I 2025-02-23 23:30:46,240] Trial 34 finished with value: 0.7374329295783952 and parameters: {'n_estimators': 5337, 'num_leaves': 1660, 'max_depth': 438, 'learning_rate': 0.22876660008512228, 'min_child_samples': 90, 'subsample': 0.20092804978497456, 'reg_alpha': 25.501927195969852, 'reg_lambda': 78.41790651572411}. Best is trial 13 with value: 0.7386007882425786.\n",
      "[I 2025-02-23 23:30:50,992] Trial 35 finished with value: 0.7382170560171053 and parameters: {'n_estimators': 3178, 'num_leaves': 432, 'max_depth': 388, 'learning_rate': 0.1776284062226844, 'min_child_samples': 115, 'subsample': 0.3635843187346608, 'reg_alpha': 60.41246222154828, 'reg_lambda': 68.86426223040252}. Best is trial 13 with value: 0.7386007882425786.\n",
      "[I 2025-02-23 23:30:54,745] Trial 36 finished with value: 0.7375333493008727 and parameters: {'n_estimators': 719, 'num_leaves': 2688, 'max_depth': 498, 'learning_rate': 0.09650032620104186, 'min_child_samples': 7, 'subsample': 0.1890490460613917, 'reg_alpha': 29.359746028443617, 'reg_lambda': 27.465570336565893}. Best is trial 13 with value: 0.7386007882425786.\n",
      "[I 2025-02-23 23:31:01,611] Trial 37 finished with value: 0.7374008415195432 and parameters: {'n_estimators': 4726, 'num_leaves': 778, 'max_depth': 8, 'learning_rate': 0.28873492897478403, 'min_child_samples': 69, 'subsample': 0.06255507074696483, 'reg_alpha': 21.391313952161013, 'reg_lambda': 45.481360234240455}. Best is trial 13 with value: 0.7386007882425786.\n",
      "[I 2025-02-23 23:31:24,172] Trial 38 finished with value: 0.7379419212622842 and parameters: {'n_estimators': 2790, 'num_leaves': 1701, 'max_depth': 463, 'learning_rate': 0.0029960299541378077, 'min_child_samples': 151, 'subsample': 0.2734789176210305, 'reg_alpha': 43.90465925608438, 'reg_lambda': 91.37338809410726}. Best is trial 13 with value: 0.7386007882425786.\n",
      "[I 2025-02-23 23:31:33,715] Trial 39 finished with value: 0.7232633658149086 and parameters: {'n_estimators': 3584, 'num_leaves': 4023, 'max_depth': 274, 'learning_rate': 0.35355838036277315, 'min_child_samples': 395, 'subsample': 0.6629981093776601, 'reg_alpha': 8.71576383110397, 'reg_lambda': 61.65201929794347}. Best is trial 13 with value: 0.7386007882425786.\n",
      "[I 2025-02-23 23:31:45,961] Trial 40 finished with value: 0.7383041115198226 and parameters: {'n_estimators': 6289, 'num_leaves': 1879, 'max_depth': 199, 'learning_rate': 0.0377350087350998, 'min_child_samples': 35, 'subsample': 0.432008527406597, 'reg_alpha': 39.85546288314011, 'reg_lambda': 16.46422123893256}. Best is trial 13 with value: 0.7386007882425786.\n",
      "[I 2025-02-23 23:31:52,146] Trial 41 finished with value: 0.738442891429011 and parameters: {'n_estimators': 3938, 'num_leaves': 169, 'max_depth': 470, 'learning_rate': 0.119721378015054, 'min_child_samples': 56, 'subsample': 0.2611914175110545, 'reg_alpha': 52.010201135778914, 'reg_lambda': 86.3463008539278}. Best is trial 13 with value: 0.7386007882425786.\n",
      "[I 2025-02-23 23:32:00,259] Trial 42 finished with value: 0.7381142978049455 and parameters: {'n_estimators': 4310, 'num_leaves': 272, 'max_depth': 427, 'learning_rate': 0.060108063585148, 'min_child_samples': 107, 'subsample': 0.3112302727108328, 'reg_alpha': 32.20189150436351, 'reg_lambda': 78.63205680439393}. Best is trial 13 with value: 0.7386007882425786.\n",
      "[I 2025-02-23 23:32:07,627] Trial 43 finished with value: 0.7384130423496422 and parameters: {'n_estimators': 4959, 'num_leaves': 757, 'max_depth': 482, 'learning_rate': 0.10900892127458178, 'min_child_samples': 37, 'subsample': 0.09566757055109822, 'reg_alpha': 44.666283034704, 'reg_lambda': 99.76111869036511}. Best is trial 13 with value: 0.7386007882425786.\n",
      "[I 2025-02-23 23:32:11,259] Trial 44 finished with value: 0.7383210750234896 and parameters: {'n_estimators': 2211, 'num_leaves': 341, 'max_depth': 451, 'learning_rate': 0.14803701765995214, 'min_child_samples': 77, 'subsample': 0.17079463473649562, 'reg_alpha': 55.45128679544395, 'reg_lambda': 71.39231738824517}. Best is trial 13 with value: 0.7386007882425786.\n",
      "[I 2025-02-23 23:32:17,091] Trial 45 finished with value: 0.7382425793881124 and parameters: {'n_estimators': 3914, 'num_leaves': 1228, 'max_depth': 398, 'learning_rate': 0.19577069188007495, 'min_child_samples': 165, 'subsample': 0.2566376554051314, 'reg_alpha': 39.8982266362742, 'reg_lambda': 85.4675750468075}. Best is trial 13 with value: 0.7386007882425786.\n",
      "[I 2025-02-23 23:32:22,774] Trial 46 finished with value: 0.7384474489961369 and parameters: {'n_estimators': 3466, 'num_leaves': 3002, 'max_depth': 358, 'learning_rate': 0.16120127239094817, 'min_child_samples': 30, 'subsample': 0.3925388837738658, 'reg_alpha': 50.65286032380557, 'reg_lambda': 94.73606963065819}. Best is trial 13 with value: 0.7386007882425786.\n",
      "[I 2025-02-23 23:32:30,753] Trial 47 finished with value: 0.7380382073310843 and parameters: {'n_estimators': 5218, 'num_leaves': 133, 'max_depth': 483, 'learning_rate': 0.0800296532704221, 'min_child_samples': 208, 'subsample': 0.3413518245123719, 'reg_alpha': 66.28499794218109, 'reg_lambda': 81.20430000876713}. Best is trial 13 with value: 0.7386007882425786.\n",
      "[I 2025-02-23 23:32:39,377] Trial 48 finished with value: 0.7383821424425692 and parameters: {'n_estimators': 4302, 'num_leaves': 791, 'max_depth': 96, 'learning_rate': 0.05355306505646538, 'min_child_samples': 118, 'subsample': 0.03309008638260613, 'reg_alpha': 44.17983144898742, 'reg_lambda': 75.31873955116755}. Best is trial 13 with value: 0.7386007882425786.\n",
      "[I 2025-02-23 23:32:48,809] Trial 49 finished with value: 0.7374299363116017 and parameters: {'n_estimators': 7057, 'num_leaves': 1212, 'max_depth': 499, 'learning_rate': 0.4864481679735606, 'min_child_samples': 57, 'subsample': 0.13801251012435922, 'reg_alpha': 38.89339244053341, 'reg_lambda': 4.59719545526265}. Best is trial 13 with value: 0.7386007882425786.\n",
      "[I 2025-02-23 23:32:56,747] Trial 50 finished with value: 0.7384479027626455 and parameters: {'n_estimators': 5590, 'num_leaves': 2048, 'max_depth': 422, 'learning_rate': 0.23532230068283672, 'min_child_samples': 321, 'subsample': 0.7648569614069208, 'reg_alpha': 56.77901408232222, 'reg_lambda': 87.95450027996256}. Best is trial 13 with value: 0.7386007882425786.\n",
      "[I 2025-02-23 23:32:59,940] Trial 51 finished with value: 0.7383935094926302 and parameters: {'n_estimators': 1185, 'num_leaves': 2747, 'max_depth': 447, 'learning_rate': 0.09801586849004622, 'min_child_samples': 162, 'subsample': 0.13502551397114146, 'reg_alpha': 46.79923618511745, 'reg_lambda': 16.39523920156487}. Best is trial 13 with value: 0.7386007882425786.\n",
      "[I 2025-02-23 23:33:04,077] Trial 52 finished with value: 0.73820119707665 and parameters: {'n_estimators': 2132, 'num_leaves': 3331, 'max_depth': 457, 'learning_rate': 0.1135762221948923, 'min_child_samples': 86, 'subsample': 0.2196290405909249, 'reg_alpha': 50.447761443325106, 'reg_lambda': 33.23708257159434}. Best is trial 13 with value: 0.7386007882425786.\n",
      "[I 2025-02-23 23:33:14,735] Trial 53 finished with value: 0.7382973527870891 and parameters: {'n_estimators': 6208, 'num_leaves': 2974, 'max_depth': 379, 'learning_rate': 0.09161732980875995, 'min_child_samples': 136, 'subsample': 0.1602601607558284, 'reg_alpha': 36.99014413672436, 'reg_lambda': 32.80685823549366}. Best is trial 13 with value: 0.7386007882425786.\n",
      "[I 2025-02-23 23:33:22,589] Trial 54 finished with value: 0.7384640512777808 and parameters: {'n_estimators': 4956, 'num_leaves': 2542, 'max_depth': 435, 'learning_rate': 0.15664788886870512, 'min_child_samples': 448, 'subsample': 0.05779227260557512, 'reg_alpha': 51.972251050921074, 'reg_lambda': 23.911730638516254}. Best is trial 13 with value: 0.7386007882425786.\n",
      "[I 2025-02-23 23:33:30,374] Trial 55 finished with value: 0.7375717025218699 and parameters: {'n_estimators': 5001, 'num_leaves': 2229, 'max_depth': 409, 'learning_rate': 0.1639602714595437, 'min_child_samples': 497, 'subsample': 0.041977214819173825, 'reg_alpha': 97.9147142577797, 'reg_lambda': 40.154524337584206}. Best is trial 13 with value: 0.7386007882425786.\n",
      "[I 2025-02-23 23:33:39,157] Trial 56 finished with value: 0.7385148293422572 and parameters: {'n_estimators': 5609, 'num_leaves': 2504, 'max_depth': 476, 'learning_rate': 0.13483777444753356, 'min_child_samples': 460, 'subsample': 0.09940160289624946, 'reg_alpha': 52.98801152591725, 'reg_lambda': 9.453316154474338}. Best is trial 13 with value: 0.7386007882425786.\n",
      "[I 2025-02-23 23:33:46,981] Trial 57 finished with value: 0.7380096857177736 and parameters: {'n_estimators': 4580, 'num_leaves': 2397, 'max_depth': 476, 'learning_rate': 0.13107551562294753, 'min_child_samples': 265, 'subsample': 0.0023074794771563156, 'reg_alpha': 62.18825449227546, 'reg_lambda': 9.261039161434944}. Best is trial 13 with value: 0.7386007882425786.\n",
      "[I 2025-02-23 23:33:55,184] Trial 58 finished with value: 0.737920808183308 and parameters: {'n_estimators': 5610, 'num_leaves': 329, 'max_depth': 500, 'learning_rate': 0.19549370255178833, 'min_child_samples': 439, 'subsample': 0.2872590910326563, 'reg_alpha': 31.34275436126716, 'reg_lambda': 49.414790229390675}. Best is trial 13 with value: 0.7386007882425786.\n",
      "[I 2025-02-23 23:34:07,006] Trial 59 finished with value: 0.738270068085555 and parameters: {'n_estimators': 6794, 'num_leaves': 1398, 'max_depth': 465, 'learning_rate': 0.147226027675064, 'min_child_samples': 315, 'subsample': 0.10883911928658763, 'reg_alpha': 42.537723640506364, 'reg_lambda': 12.777487480076172}. Best is trial 13 with value: 0.7386007882425786.\n",
      "[I 2025-02-23 23:34:13,114] Trial 60 finished with value: 0.7379137578856907 and parameters: {'n_estimators': 3982, 'num_leaves': 638, 'max_depth': 429, 'learning_rate': 0.4157452509267746, 'min_child_samples': 19, 'subsample': 0.2379049383023788, 'reg_alpha': 35.966545603679705, 'reg_lambda': 82.15712038298331}. Best is trial 13 with value: 0.7386007882425786.\n",
      "[I 2025-02-23 23:34:21,785] Trial 61 finished with value: 0.738294414250905 and parameters: {'n_estimators': 5479, 'num_leaves': 2558, 'max_depth': 437, 'learning_rate': 0.13814023810487341, 'min_child_samples': 451, 'subsample': 0.09012721373588009, 'reg_alpha': 51.552955843784, 'reg_lambda': 25.38110275504244}. Best is trial 13 with value: 0.7386007882425786.\n",
      "[I 2025-02-23 23:34:33,897] Trial 62 finished with value: 0.7382423196664925 and parameters: {'n_estimators': 4835, 'num_leaves': 3170, 'max_depth': 477, 'learning_rate': 0.020725746571754772, 'min_child_samples': 448, 'subsample': 0.051624655605319036, 'reg_alpha': 53.73378907171854, 'reg_lambda': 19.877807868051818}. Best is trial 13 with value: 0.7386007882425786.\n",
      "[I 2025-02-23 23:34:42,809] Trial 63 finished with value: 0.738417496426161 and parameters: {'n_estimators': 5066, 'num_leaves': 3610, 'max_depth': 416, 'learning_rate': 0.18109466883135517, 'min_child_samples': 429, 'subsample': 0.18997754069929024, 'reg_alpha': 46.51226320201125, 'reg_lambda': 1.9078393612981586}. Best is trial 13 with value: 0.7386007882425786.\n",
      "[I 2025-02-23 23:34:52,654] Trial 64 finished with value: 0.7381516071639527 and parameters: {'n_estimators': 5889, 'num_leaves': 2636, 'max_depth': 380, 'learning_rate': 0.11359937950168378, 'min_child_samples': 471, 'subsample': 0.312831704459002, 'reg_alpha': 58.03927878658786, 'reg_lambda': 96.15402591853314}. Best is trial 13 with value: 0.7386007882425786.\n",
      "[I 2025-02-23 23:35:00,121] Trial 65 finished with value: 0.7381381175613415 and parameters: {'n_estimators': 4474, 'num_leaves': 2426, 'max_depth': 442, 'learning_rate': 0.1547545445689027, 'min_child_samples': 59, 'subsample': 0.1189980876706602, 'reg_alpha': 65.35810553869406, 'reg_lambda': 23.460582289884602}. Best is trial 13 with value: 0.7386007882425786.\n",
      "[I 2025-02-23 23:35:06,570] Trial 66 finished with value: 0.7376928462384442 and parameters: {'n_estimators': 3776, 'num_leaves': 2802, 'max_depth': 348, 'learning_rate': 0.2216771022739273, 'min_child_samples': 392, 'subsample': 0.43954911799835295, 'reg_alpha': 91.025750247117, 'reg_lambda': 11.711010032315382}. Best is trial 13 with value: 0.7386007882425786.\n",
      "[I 2025-02-23 23:35:12,249] Trial 67 finished with value: 0.7380618837927932 and parameters: {'n_estimators': 3068, 'num_leaves': 2070, 'max_depth': 325, 'learning_rate': 0.2042279202628251, 'min_child_samples': 418, 'subsample': 0.16180477499482965, 'reg_alpha': 48.53675680176695, 'reg_lambda': 63.20966219321868}. Best is trial 13 with value: 0.7386007882425786.\n",
      "[I 2025-02-23 23:35:20,735] Trial 68 finished with value: 0.7380530403213854 and parameters: {'n_estimators': 4601, 'num_leaves': 4620, 'max_depth': 400, 'learning_rate': 0.07812862143378083, 'min_child_samples': 102, 'subsample': 0.0691813183023894, 'reg_alpha': 72.95917685696227, 'reg_lambda': 56.61216319555215}. Best is trial 13 with value: 0.7386007882425786.\n",
      "[I 2025-02-23 23:35:28,087] Trial 69 finished with value: 0.7383787590957944 and parameters: {'n_estimators': 4103, 'num_leaves': 2261, 'max_depth': 219, 'learning_rate': 0.1258157620502034, 'min_child_samples': 373, 'subsample': 0.2339033719391757, 'reg_alpha': 42.23379894114199, 'reg_lambda': 29.183739739919528}. Best is trial 13 with value: 0.7386007882425786.\n",
      "[I 2025-02-23 23:35:37,485] Trial 70 finished with value: 0.7383076879163838 and parameters: {'n_estimators': 5320, 'num_leaves': 1888, 'max_depth': 485, 'learning_rate': 0.17596705653782543, 'min_child_samples': 464, 'subsample': 0.3414208155595857, 'reg_alpha': 54.1157968841722, 'reg_lambda': 70.1974981163473}. Best is trial 13 with value: 0.7386007882425786.\n",
      "[I 2025-02-23 23:35:41,596] Trial 71 finished with value: 0.7382755918967158 and parameters: {'n_estimators': 1410, 'num_leaves': 2903, 'max_depth': 456, 'learning_rate': 0.0929349923301003, 'min_child_samples': 75, 'subsample': 0.03019181421167976, 'reg_alpha': 46.13650986653053, 'reg_lambda': 31.258333481322055}. Best is trial 13 with value: 0.7386007882425786.\n",
      "[I 2025-02-23 23:35:51,513] Trial 72 finished with value: 0.7384556774945135 and parameters: {'n_estimators': 5716, 'num_leaves': 3161, 'max_depth': 442, 'learning_rate': 0.10590786106086461, 'min_child_samples': 182, 'subsample': 0.1900799503032113, 'reg_alpha': 49.5057129221371, 'reg_lambda': 42.391922400305354}. Best is trial 13 with value: 0.7386007882425786.\n",
      "[I 2025-02-23 23:36:01,351] Trial 73 finished with value: 0.7384161639845928 and parameters: {'n_estimators': 5785, 'num_leaves': 3097, 'max_depth': 429, 'learning_rate': 0.14217826829660624, 'min_child_samples': 180, 'subsample': 0.1858841612572318, 'reg_alpha': 41.33521900392843, 'reg_lambda': 41.7547443170715}. Best is trial 13 with value: 0.7386007882425786.\n",
      "[I 2025-02-23 23:36:10,423] Trial 74 finished with value: 0.738166407315888 and parameters: {'n_estimators': 5131, 'num_leaves': 4016, 'max_depth': 469, 'learning_rate': 0.10866632926715626, 'min_child_samples': 241, 'subsample': 0.27637308892483353, 'reg_alpha': 60.30366829761408, 'reg_lambda': 49.71521946500454}. Best is trial 13 with value: 0.7386007882425786.\n",
      "[I 2025-02-23 23:36:23,332] Trial 75 finished with value: 0.738043062433706 and parameters: {'n_estimators': 6120, 'num_leaves': 2565, 'max_depth': 149, 'learning_rate': 0.0479105714634282, 'min_child_samples': 500, 'subsample': 0.13322990328247164, 'reg_alpha': 28.9864894432196, 'reg_lambda': 35.55690231107318}. Best is trial 13 with value: 0.7386007882425786.\n",
      "[I 2025-02-23 23:36:31,040] Trial 76 finished with value: 0.7382106545259872 and parameters: {'n_estimators': 4748, 'num_leaves': 3436, 'max_depth': 442, 'learning_rate': 0.16157760957618622, 'min_child_samples': 127, 'subsample': 0.09249411975772925, 'reg_alpha': 48.87699014270237, 'reg_lambda': 76.03975192085466}. Best is trial 13 with value: 0.7386007882425786.\n",
      "[I 2025-02-23 23:36:41,145] Trial 77 finished with value: 0.7384536793297123 and parameters: {'n_estimators': 5720, 'num_leaves': 474, 'max_depth': 487, 'learning_rate': 0.06608155705130236, 'min_child_samples': 45, 'subsample': 0.21726768818250758, 'reg_alpha': 37.39693311509224, 'reg_lambda': 52.506213194526424}. Best is trial 13 with value: 0.7386007882425786.\n",
      "[I 2025-02-23 23:36:49,602] Trial 78 finished with value: 0.7383247190869865 and parameters: {'n_estimators': 5513, 'num_leaves': 234, 'max_depth': 456, 'learning_rate': 0.2652207291920836, 'min_child_samples': 215, 'subsample': 0.37313730769233944, 'reg_alpha': 53.018354320391, 'reg_lambda': 47.38039729510629}. Best is trial 13 with value: 0.7386007882425786.\n",
      "[I 2025-02-23 23:36:57,339] Trial 79 finished with value: 0.7381413267652676 and parameters: {'n_estimators': 4372, 'num_leaves': 3254, 'max_depth': 416, 'learning_rate': 0.08575219981911394, 'min_child_samples': 184, 'subsample': 0.2955645674172649, 'reg_alpha': 57.66988907369349, 'reg_lambda': 93.13545145478284}. Best is trial 13 with value: 0.7386007882425786.\n",
      "[I 2025-02-23 23:37:07,278] Trial 80 finished with value: 0.7382449696230986 and parameters: {'n_estimators': 6395, 'num_leaves': 2325, 'max_depth': 472, 'learning_rate': 0.12450060005593738, 'min_child_samples': 149, 'subsample': 0.25029656260450867, 'reg_alpha': 63.98164337734835, 'reg_lambda': 89.59570182870463}. Best is trial 13 with value: 0.7386007882425786.\n",
      "[I 2025-02-23 23:37:22,042] Trial 81 finished with value: 0.7383479815862666 and parameters: {'n_estimators': 6653, 'num_leaves': 498, 'max_depth': 487, 'learning_rate': 0.036119366994838614, 'min_child_samples': 48, 'subsample': 0.19800445124431126, 'reg_alpha': 37.75779722600287, 'reg_lambda': 43.258597411835964}. Best is trial 13 with value: 0.7386007882425786.\n",
      "[I 2025-02-23 23:37:31,754] Trial 82 finished with value: 0.7383389261581342 and parameters: {'n_estimators': 5737, 'num_leaves': 901, 'max_depth': 494, 'learning_rate': 0.11183450210705437, 'min_child_samples': 80, 'subsample': 0.23291265383953266, 'reg_alpha': 34.38307981328943, 'reg_lambda': 53.013513344939874}. Best is trial 13 with value: 0.7386007882425786.\n",
      "[I 2025-02-23 23:37:43,686] Trial 83 finished with value: 0.7384127567553703 and parameters: {'n_estimators': 6078, 'num_leaves': 345, 'max_depth': 457, 'learning_rate': 0.06576907510179218, 'min_child_samples': 97, 'subsample': 0.1777291656691894, 'reg_alpha': 43.48823272058849, 'reg_lambda': 55.48109528305639}. Best is trial 13 with value: 0.7386007882425786.\n",
      "[W 2025-02-23 23:37:48,201] Trial 84 failed with parameters: {'n_estimators': 5294, 'num_leaves': 117, 'max_depth': 397, 'learning_rate': 0.06782975832239291, 'min_child_samples': 24, 'subsample': 0.023057799948122692, 'reg_alpha': 44.74032339964891, 'reg_lambda': 36.210703975258056} because of the following error: KeyboardInterrupt().\n",
      "Traceback (most recent call last):\n",
      "  File \"c:\\Users\\juneh\\AppData\\Local\\Programs\\Python\\Python311\\Lib\\site-packages\\optuna\\study\\_optimize.py\", line 197, in _run_trial\n",
      "    value_or_values = func(trial)\n",
      "                      ^^^^^^^^^^^\n",
      "  File \"C:\\Users\\juneh\\AppData\\Local\\Temp\\ipykernel_15492\\1003901432.py\", line 22, in objective\n",
      "    model.fit(Total_X_train, Total_y_train)\n",
      "  File \"c:\\Users\\juneh\\AppData\\Local\\Programs\\Python\\Python311\\Lib\\site-packages\\lightgbm\\sklearn.py\", line 1284, in fit\n",
      "    super().fit(\n",
      "  File \"c:\\Users\\juneh\\AppData\\Local\\Programs\\Python\\Python311\\Lib\\site-packages\\lightgbm\\sklearn.py\", line 955, in fit\n",
      "    self._Booster = train(\n",
      "                    ^^^^^^\n",
      "  File \"c:\\Users\\juneh\\AppData\\Local\\Programs\\Python\\Python311\\Lib\\site-packages\\lightgbm\\engine.py\", line 307, in train\n",
      "    booster.update(fobj=fobj)\n",
      "  File \"c:\\Users\\juneh\\AppData\\Local\\Programs\\Python\\Python311\\Lib\\site-packages\\lightgbm\\basic.py\", line 4136, in update\n",
      "    _LIB.LGBM_BoosterUpdateOneIter(\n",
      "KeyboardInterrupt\n",
      "[W 2025-02-23 23:37:48,208] Trial 84 failed with value None.\n"
     ]
    },
    {
     "ename": "KeyboardInterrupt",
     "evalue": "",
     "output_type": "error",
     "traceback": [
      "\u001b[1;31m---------------------------------------------------------------------------\u001b[0m",
      "\u001b[1;31mKeyboardInterrupt\u001b[0m                         Traceback (most recent call last)",
      "Cell \u001b[1;32mIn[7], line 31\u001b[0m\n\u001b[0;32m     29\u001b[0m \u001b[38;5;66;03m# Optuna 스터디 생성 및 최적화 실행\u001b[39;00m\n\u001b[0;32m     30\u001b[0m study \u001b[38;5;241m=\u001b[39m optuna\u001b[38;5;241m.\u001b[39mcreate_study(direction\u001b[38;5;241m=\u001b[39m\u001b[38;5;124m'\u001b[39m\u001b[38;5;124mmaximize\u001b[39m\u001b[38;5;124m'\u001b[39m)\n\u001b[1;32m---> 31\u001b[0m \u001b[43mstudy\u001b[49m\u001b[38;5;241;43m.\u001b[39;49m\u001b[43moptimize\u001b[49m\u001b[43m(\u001b[49m\u001b[43mobjective\u001b[49m\u001b[43m,\u001b[49m\u001b[43m \u001b[49m\u001b[43mn_trials\u001b[49m\u001b[38;5;241;43m=\u001b[39;49m\u001b[38;5;241;43m100\u001b[39;49m\u001b[43m)\u001b[49m\n\u001b[0;32m     33\u001b[0m \u001b[38;5;66;03m# 최적의 하이퍼파라미터 출력\u001b[39;00m\n\u001b[0;32m     34\u001b[0m \u001b[38;5;28mprint\u001b[39m(\u001b[38;5;124m\"\u001b[39m\u001b[38;5;124mBest trial:\u001b[39m\u001b[38;5;124m\"\u001b[39m)\n",
      "File \u001b[1;32mc:\\Users\\juneh\\AppData\\Local\\Programs\\Python\\Python311\\Lib\\site-packages\\optuna\\study\\study.py:475\u001b[0m, in \u001b[0;36mStudy.optimize\u001b[1;34m(self, func, n_trials, timeout, n_jobs, catch, callbacks, gc_after_trial, show_progress_bar)\u001b[0m\n\u001b[0;32m    373\u001b[0m \u001b[38;5;28;01mdef\u001b[39;00m\u001b[38;5;250m \u001b[39m\u001b[38;5;21moptimize\u001b[39m(\n\u001b[0;32m    374\u001b[0m     \u001b[38;5;28mself\u001b[39m,\n\u001b[0;32m    375\u001b[0m     func: ObjectiveFuncType,\n\u001b[1;32m   (...)\u001b[0m\n\u001b[0;32m    382\u001b[0m     show_progress_bar: \u001b[38;5;28mbool\u001b[39m \u001b[38;5;241m=\u001b[39m \u001b[38;5;28;01mFalse\u001b[39;00m,\n\u001b[0;32m    383\u001b[0m ) \u001b[38;5;241m-\u001b[39m\u001b[38;5;241m>\u001b[39m \u001b[38;5;28;01mNone\u001b[39;00m:\n\u001b[0;32m    384\u001b[0m \u001b[38;5;250m    \u001b[39m\u001b[38;5;124;03m\"\"\"Optimize an objective function.\u001b[39;00m\n\u001b[0;32m    385\u001b[0m \n\u001b[0;32m    386\u001b[0m \u001b[38;5;124;03m    Optimization is done by choosing a suitable set of hyperparameter values from a given\u001b[39;00m\n\u001b[1;32m   (...)\u001b[0m\n\u001b[0;32m    473\u001b[0m \u001b[38;5;124;03m            If nested invocation of this method occurs.\u001b[39;00m\n\u001b[0;32m    474\u001b[0m \u001b[38;5;124;03m    \"\"\"\u001b[39;00m\n\u001b[1;32m--> 475\u001b[0m     \u001b[43m_optimize\u001b[49m\u001b[43m(\u001b[49m\n\u001b[0;32m    476\u001b[0m \u001b[43m        \u001b[49m\u001b[43mstudy\u001b[49m\u001b[38;5;241;43m=\u001b[39;49m\u001b[38;5;28;43mself\u001b[39;49m\u001b[43m,\u001b[49m\n\u001b[0;32m    477\u001b[0m \u001b[43m        \u001b[49m\u001b[43mfunc\u001b[49m\u001b[38;5;241;43m=\u001b[39;49m\u001b[43mfunc\u001b[49m\u001b[43m,\u001b[49m\n\u001b[0;32m    478\u001b[0m \u001b[43m        \u001b[49m\u001b[43mn_trials\u001b[49m\u001b[38;5;241;43m=\u001b[39;49m\u001b[43mn_trials\u001b[49m\u001b[43m,\u001b[49m\n\u001b[0;32m    479\u001b[0m \u001b[43m        \u001b[49m\u001b[43mtimeout\u001b[49m\u001b[38;5;241;43m=\u001b[39;49m\u001b[43mtimeout\u001b[49m\u001b[43m,\u001b[49m\n\u001b[0;32m    480\u001b[0m \u001b[43m        \u001b[49m\u001b[43mn_jobs\u001b[49m\u001b[38;5;241;43m=\u001b[39;49m\u001b[43mn_jobs\u001b[49m\u001b[43m,\u001b[49m\n\u001b[0;32m    481\u001b[0m \u001b[43m        \u001b[49m\u001b[43mcatch\u001b[49m\u001b[38;5;241;43m=\u001b[39;49m\u001b[38;5;28;43mtuple\u001b[39;49m\u001b[43m(\u001b[49m\u001b[43mcatch\u001b[49m\u001b[43m)\u001b[49m\u001b[43m \u001b[49m\u001b[38;5;28;43;01mif\u001b[39;49;00m\u001b[43m \u001b[49m\u001b[38;5;28;43misinstance\u001b[39;49m\u001b[43m(\u001b[49m\u001b[43mcatch\u001b[49m\u001b[43m,\u001b[49m\u001b[43m \u001b[49m\u001b[43mIterable\u001b[49m\u001b[43m)\u001b[49m\u001b[43m \u001b[49m\u001b[38;5;28;43;01melse\u001b[39;49;00m\u001b[43m \u001b[49m\u001b[43m(\u001b[49m\u001b[43mcatch\u001b[49m\u001b[43m,\u001b[49m\u001b[43m)\u001b[49m\u001b[43m,\u001b[49m\n\u001b[0;32m    482\u001b[0m \u001b[43m        \u001b[49m\u001b[43mcallbacks\u001b[49m\u001b[38;5;241;43m=\u001b[39;49m\u001b[43mcallbacks\u001b[49m\u001b[43m,\u001b[49m\n\u001b[0;32m    483\u001b[0m \u001b[43m        \u001b[49m\u001b[43mgc_after_trial\u001b[49m\u001b[38;5;241;43m=\u001b[39;49m\u001b[43mgc_after_trial\u001b[49m\u001b[43m,\u001b[49m\n\u001b[0;32m    484\u001b[0m \u001b[43m        \u001b[49m\u001b[43mshow_progress_bar\u001b[49m\u001b[38;5;241;43m=\u001b[39;49m\u001b[43mshow_progress_bar\u001b[49m\u001b[43m,\u001b[49m\n\u001b[0;32m    485\u001b[0m \u001b[43m    \u001b[49m\u001b[43m)\u001b[49m\n",
      "File \u001b[1;32mc:\\Users\\juneh\\AppData\\Local\\Programs\\Python\\Python311\\Lib\\site-packages\\optuna\\study\\_optimize.py:63\u001b[0m, in \u001b[0;36m_optimize\u001b[1;34m(study, func, n_trials, timeout, n_jobs, catch, callbacks, gc_after_trial, show_progress_bar)\u001b[0m\n\u001b[0;32m     61\u001b[0m \u001b[38;5;28;01mtry\u001b[39;00m:\n\u001b[0;32m     62\u001b[0m     \u001b[38;5;28;01mif\u001b[39;00m n_jobs \u001b[38;5;241m==\u001b[39m \u001b[38;5;241m1\u001b[39m:\n\u001b[1;32m---> 63\u001b[0m         \u001b[43m_optimize_sequential\u001b[49m\u001b[43m(\u001b[49m\n\u001b[0;32m     64\u001b[0m \u001b[43m            \u001b[49m\u001b[43mstudy\u001b[49m\u001b[43m,\u001b[49m\n\u001b[0;32m     65\u001b[0m \u001b[43m            \u001b[49m\u001b[43mfunc\u001b[49m\u001b[43m,\u001b[49m\n\u001b[0;32m     66\u001b[0m \u001b[43m            \u001b[49m\u001b[43mn_trials\u001b[49m\u001b[43m,\u001b[49m\n\u001b[0;32m     67\u001b[0m \u001b[43m            \u001b[49m\u001b[43mtimeout\u001b[49m\u001b[43m,\u001b[49m\n\u001b[0;32m     68\u001b[0m \u001b[43m            \u001b[49m\u001b[43mcatch\u001b[49m\u001b[43m,\u001b[49m\n\u001b[0;32m     69\u001b[0m \u001b[43m            \u001b[49m\u001b[43mcallbacks\u001b[49m\u001b[43m,\u001b[49m\n\u001b[0;32m     70\u001b[0m \u001b[43m            \u001b[49m\u001b[43mgc_after_trial\u001b[49m\u001b[43m,\u001b[49m\n\u001b[0;32m     71\u001b[0m \u001b[43m            \u001b[49m\u001b[43mreseed_sampler_rng\u001b[49m\u001b[38;5;241;43m=\u001b[39;49m\u001b[38;5;28;43;01mFalse\u001b[39;49;00m\u001b[43m,\u001b[49m\n\u001b[0;32m     72\u001b[0m \u001b[43m            \u001b[49m\u001b[43mtime_start\u001b[49m\u001b[38;5;241;43m=\u001b[39;49m\u001b[38;5;28;43;01mNone\u001b[39;49;00m\u001b[43m,\u001b[49m\n\u001b[0;32m     73\u001b[0m \u001b[43m            \u001b[49m\u001b[43mprogress_bar\u001b[49m\u001b[38;5;241;43m=\u001b[39;49m\u001b[43mprogress_bar\u001b[49m\u001b[43m,\u001b[49m\n\u001b[0;32m     74\u001b[0m \u001b[43m        \u001b[49m\u001b[43m)\u001b[49m\n\u001b[0;32m     75\u001b[0m     \u001b[38;5;28;01melse\u001b[39;00m:\n\u001b[0;32m     76\u001b[0m         \u001b[38;5;28;01mif\u001b[39;00m n_jobs \u001b[38;5;241m==\u001b[39m \u001b[38;5;241m-\u001b[39m\u001b[38;5;241m1\u001b[39m:\n",
      "File \u001b[1;32mc:\\Users\\juneh\\AppData\\Local\\Programs\\Python\\Python311\\Lib\\site-packages\\optuna\\study\\_optimize.py:160\u001b[0m, in \u001b[0;36m_optimize_sequential\u001b[1;34m(study, func, n_trials, timeout, catch, callbacks, gc_after_trial, reseed_sampler_rng, time_start, progress_bar)\u001b[0m\n\u001b[0;32m    157\u001b[0m         \u001b[38;5;28;01mbreak\u001b[39;00m\n\u001b[0;32m    159\u001b[0m \u001b[38;5;28;01mtry\u001b[39;00m:\n\u001b[1;32m--> 160\u001b[0m     frozen_trial \u001b[38;5;241m=\u001b[39m \u001b[43m_run_trial\u001b[49m\u001b[43m(\u001b[49m\u001b[43mstudy\u001b[49m\u001b[43m,\u001b[49m\u001b[43m \u001b[49m\u001b[43mfunc\u001b[49m\u001b[43m,\u001b[49m\u001b[43m \u001b[49m\u001b[43mcatch\u001b[49m\u001b[43m)\u001b[49m\n\u001b[0;32m    161\u001b[0m \u001b[38;5;28;01mfinally\u001b[39;00m:\n\u001b[0;32m    162\u001b[0m     \u001b[38;5;66;03m# The following line mitigates memory problems that can be occurred in some\u001b[39;00m\n\u001b[0;32m    163\u001b[0m     \u001b[38;5;66;03m# environments (e.g., services that use computing containers such as GitHub Actions).\u001b[39;00m\n\u001b[0;32m    164\u001b[0m     \u001b[38;5;66;03m# Please refer to the following PR for further details:\u001b[39;00m\n\u001b[0;32m    165\u001b[0m     \u001b[38;5;66;03m# https://github.com/optuna/optuna/pull/325.\u001b[39;00m\n\u001b[0;32m    166\u001b[0m     \u001b[38;5;28;01mif\u001b[39;00m gc_after_trial:\n",
      "File \u001b[1;32mc:\\Users\\juneh\\AppData\\Local\\Programs\\Python\\Python311\\Lib\\site-packages\\optuna\\study\\_optimize.py:248\u001b[0m, in \u001b[0;36m_run_trial\u001b[1;34m(study, func, catch)\u001b[0m\n\u001b[0;32m    241\u001b[0m         \u001b[38;5;28;01massert\u001b[39;00m \u001b[38;5;28;01mFalse\u001b[39;00m, \u001b[38;5;124m\"\u001b[39m\u001b[38;5;124mShould not reach.\u001b[39m\u001b[38;5;124m\"\u001b[39m\n\u001b[0;32m    243\u001b[0m \u001b[38;5;28;01mif\u001b[39;00m (\n\u001b[0;32m    244\u001b[0m     frozen_trial\u001b[38;5;241m.\u001b[39mstate \u001b[38;5;241m==\u001b[39m TrialState\u001b[38;5;241m.\u001b[39mFAIL\n\u001b[0;32m    245\u001b[0m     \u001b[38;5;129;01mand\u001b[39;00m func_err \u001b[38;5;129;01mis\u001b[39;00m \u001b[38;5;129;01mnot\u001b[39;00m \u001b[38;5;28;01mNone\u001b[39;00m\n\u001b[0;32m    246\u001b[0m     \u001b[38;5;129;01mand\u001b[39;00m \u001b[38;5;129;01mnot\u001b[39;00m \u001b[38;5;28misinstance\u001b[39m(func_err, catch)\n\u001b[0;32m    247\u001b[0m ):\n\u001b[1;32m--> 248\u001b[0m     \u001b[38;5;28;01mraise\u001b[39;00m func_err\n\u001b[0;32m    249\u001b[0m \u001b[38;5;28;01mreturn\u001b[39;00m frozen_trial\n",
      "File \u001b[1;32mc:\\Users\\juneh\\AppData\\Local\\Programs\\Python\\Python311\\Lib\\site-packages\\optuna\\study\\_optimize.py:197\u001b[0m, in \u001b[0;36m_run_trial\u001b[1;34m(study, func, catch)\u001b[0m\n\u001b[0;32m    195\u001b[0m \u001b[38;5;28;01mwith\u001b[39;00m get_heartbeat_thread(trial\u001b[38;5;241m.\u001b[39m_trial_id, study\u001b[38;5;241m.\u001b[39m_storage):\n\u001b[0;32m    196\u001b[0m     \u001b[38;5;28;01mtry\u001b[39;00m:\n\u001b[1;32m--> 197\u001b[0m         value_or_values \u001b[38;5;241m=\u001b[39m \u001b[43mfunc\u001b[49m\u001b[43m(\u001b[49m\u001b[43mtrial\u001b[49m\u001b[43m)\u001b[49m\n\u001b[0;32m    198\u001b[0m     \u001b[38;5;28;01mexcept\u001b[39;00m exceptions\u001b[38;5;241m.\u001b[39mTrialPruned \u001b[38;5;28;01mas\u001b[39;00m e:\n\u001b[0;32m    199\u001b[0m         \u001b[38;5;66;03m# TODO(mamu): Handle multi-objective cases.\u001b[39;00m\n\u001b[0;32m    200\u001b[0m         state \u001b[38;5;241m=\u001b[39m TrialState\u001b[38;5;241m.\u001b[39mPRUNED\n",
      "Cell \u001b[1;32mIn[7], line 22\u001b[0m, in \u001b[0;36mobjective\u001b[1;34m(trial)\u001b[0m\n\u001b[0;32m      3\u001b[0m param \u001b[38;5;241m=\u001b[39m {\n\u001b[0;32m      4\u001b[0m     \u001b[38;5;124m'\u001b[39m\u001b[38;5;124mn_estimators\u001b[39m\u001b[38;5;124m'\u001b[39m: trial\u001b[38;5;241m.\u001b[39msuggest_int(\u001b[38;5;124m'\u001b[39m\u001b[38;5;124mn_estimators\u001b[39m\u001b[38;5;124m'\u001b[39m, \u001b[38;5;241m500\u001b[39m, \u001b[38;5;241m8000\u001b[39m),\n\u001b[0;32m      5\u001b[0m     \u001b[38;5;124m'\u001b[39m\u001b[38;5;124mnum_leaves\u001b[39m\u001b[38;5;124m'\u001b[39m: trial\u001b[38;5;241m.\u001b[39msuggest_int(\u001b[38;5;124m'\u001b[39m\u001b[38;5;124mnum_leaves\u001b[39m\u001b[38;5;124m'\u001b[39m, \u001b[38;5;241m100\u001b[39m, \u001b[38;5;241m5000\u001b[39m),\n\u001b[1;32m   (...)\u001b[0m\n\u001b[0;32m     18\u001b[0m     \u001b[38;5;124m'\u001b[39m\u001b[38;5;124mverbose\u001b[39m\u001b[38;5;124m'\u001b[39m: \u001b[38;5;241m-\u001b[39m\u001b[38;5;241m1\u001b[39m\n\u001b[0;32m     19\u001b[0m }\n\u001b[0;32m     21\u001b[0m model \u001b[38;5;241m=\u001b[39m lgb\u001b[38;5;241m.\u001b[39mLGBMClassifier(\u001b[38;5;241m*\u001b[39m\u001b[38;5;241m*\u001b[39mparam)\n\u001b[1;32m---> 22\u001b[0m \u001b[43mmodel\u001b[49m\u001b[38;5;241;43m.\u001b[39;49m\u001b[43mfit\u001b[49m\u001b[43m(\u001b[49m\u001b[43mTotal_X_train\u001b[49m\u001b[43m,\u001b[49m\u001b[43m \u001b[49m\u001b[43mTotal_y_train\u001b[49m\u001b[43m)\u001b[49m\n\u001b[0;32m     24\u001b[0m y_pred_proba \u001b[38;5;241m=\u001b[39m model\u001b[38;5;241m.\u001b[39mpredict_proba(Total_X_test)[:, \u001b[38;5;241m1\u001b[39m]\n\u001b[0;32m     26\u001b[0m auc \u001b[38;5;241m=\u001b[39m roc_auc_score(Total_y_test, y_pred_proba)\n",
      "File \u001b[1;32mc:\\Users\\juneh\\AppData\\Local\\Programs\\Python\\Python311\\Lib\\site-packages\\lightgbm\\sklearn.py:1284\u001b[0m, in \u001b[0;36mLGBMClassifier.fit\u001b[1;34m(self, X, y, sample_weight, init_score, eval_set, eval_names, eval_sample_weight, eval_class_weight, eval_init_score, eval_metric, feature_name, categorical_feature, callbacks, init_model)\u001b[0m\n\u001b[0;32m   1281\u001b[0m         \u001b[38;5;28;01melse\u001b[39;00m:\n\u001b[0;32m   1282\u001b[0m             valid_sets\u001b[38;5;241m.\u001b[39mappend((valid_x, \u001b[38;5;28mself\u001b[39m\u001b[38;5;241m.\u001b[39m_le\u001b[38;5;241m.\u001b[39mtransform(valid_y)))\n\u001b[1;32m-> 1284\u001b[0m \u001b[38;5;28;43msuper\u001b[39;49m\u001b[43m(\u001b[49m\u001b[43m)\u001b[49m\u001b[38;5;241;43m.\u001b[39;49m\u001b[43mfit\u001b[49m\u001b[43m(\u001b[49m\n\u001b[0;32m   1285\u001b[0m \u001b[43m    \u001b[49m\u001b[43mX\u001b[49m\u001b[43m,\u001b[49m\n\u001b[0;32m   1286\u001b[0m \u001b[43m    \u001b[49m\u001b[43m_y\u001b[49m\u001b[43m,\u001b[49m\n\u001b[0;32m   1287\u001b[0m \u001b[43m    \u001b[49m\u001b[43msample_weight\u001b[49m\u001b[38;5;241;43m=\u001b[39;49m\u001b[43msample_weight\u001b[49m\u001b[43m,\u001b[49m\n\u001b[0;32m   1288\u001b[0m \u001b[43m    \u001b[49m\u001b[43minit_score\u001b[49m\u001b[38;5;241;43m=\u001b[39;49m\u001b[43minit_score\u001b[49m\u001b[43m,\u001b[49m\n\u001b[0;32m   1289\u001b[0m \u001b[43m    \u001b[49m\u001b[43meval_set\u001b[49m\u001b[38;5;241;43m=\u001b[39;49m\u001b[43mvalid_sets\u001b[49m\u001b[43m,\u001b[49m\n\u001b[0;32m   1290\u001b[0m \u001b[43m    \u001b[49m\u001b[43meval_names\u001b[49m\u001b[38;5;241;43m=\u001b[39;49m\u001b[43meval_names\u001b[49m\u001b[43m,\u001b[49m\n\u001b[0;32m   1291\u001b[0m \u001b[43m    \u001b[49m\u001b[43meval_sample_weight\u001b[49m\u001b[38;5;241;43m=\u001b[39;49m\u001b[43meval_sample_weight\u001b[49m\u001b[43m,\u001b[49m\n\u001b[0;32m   1292\u001b[0m \u001b[43m    \u001b[49m\u001b[43meval_class_weight\u001b[49m\u001b[38;5;241;43m=\u001b[39;49m\u001b[43meval_class_weight\u001b[49m\u001b[43m,\u001b[49m\n\u001b[0;32m   1293\u001b[0m \u001b[43m    \u001b[49m\u001b[43meval_init_score\u001b[49m\u001b[38;5;241;43m=\u001b[39;49m\u001b[43meval_init_score\u001b[49m\u001b[43m,\u001b[49m\n\u001b[0;32m   1294\u001b[0m \u001b[43m    \u001b[49m\u001b[43meval_metric\u001b[49m\u001b[38;5;241;43m=\u001b[39;49m\u001b[43meval_metric\u001b[49m\u001b[43m,\u001b[49m\n\u001b[0;32m   1295\u001b[0m \u001b[43m    \u001b[49m\u001b[43mfeature_name\u001b[49m\u001b[38;5;241;43m=\u001b[39;49m\u001b[43mfeature_name\u001b[49m\u001b[43m,\u001b[49m\n\u001b[0;32m   1296\u001b[0m \u001b[43m    \u001b[49m\u001b[43mcategorical_feature\u001b[49m\u001b[38;5;241;43m=\u001b[39;49m\u001b[43mcategorical_feature\u001b[49m\u001b[43m,\u001b[49m\n\u001b[0;32m   1297\u001b[0m \u001b[43m    \u001b[49m\u001b[43mcallbacks\u001b[49m\u001b[38;5;241;43m=\u001b[39;49m\u001b[43mcallbacks\u001b[49m\u001b[43m,\u001b[49m\n\u001b[0;32m   1298\u001b[0m \u001b[43m    \u001b[49m\u001b[43minit_model\u001b[49m\u001b[38;5;241;43m=\u001b[39;49m\u001b[43minit_model\u001b[49m\u001b[43m,\u001b[49m\n\u001b[0;32m   1299\u001b[0m \u001b[43m\u001b[49m\u001b[43m)\u001b[49m\n\u001b[0;32m   1300\u001b[0m \u001b[38;5;28;01mreturn\u001b[39;00m \u001b[38;5;28mself\u001b[39m\n",
      "File \u001b[1;32mc:\\Users\\juneh\\AppData\\Local\\Programs\\Python\\Python311\\Lib\\site-packages\\lightgbm\\sklearn.py:955\u001b[0m, in \u001b[0;36mLGBMModel.fit\u001b[1;34m(self, X, y, sample_weight, init_score, group, eval_set, eval_names, eval_sample_weight, eval_class_weight, eval_init_score, eval_group, eval_metric, feature_name, categorical_feature, callbacks, init_model)\u001b[0m\n\u001b[0;32m    952\u001b[0m evals_result: _EvalResultDict \u001b[38;5;241m=\u001b[39m {}\n\u001b[0;32m    953\u001b[0m callbacks\u001b[38;5;241m.\u001b[39mappend(record_evaluation(evals_result))\n\u001b[1;32m--> 955\u001b[0m \u001b[38;5;28mself\u001b[39m\u001b[38;5;241m.\u001b[39m_Booster \u001b[38;5;241m=\u001b[39m \u001b[43mtrain\u001b[49m\u001b[43m(\u001b[49m\n\u001b[0;32m    956\u001b[0m \u001b[43m    \u001b[49m\u001b[43mparams\u001b[49m\u001b[38;5;241;43m=\u001b[39;49m\u001b[43mparams\u001b[49m\u001b[43m,\u001b[49m\n\u001b[0;32m    957\u001b[0m \u001b[43m    \u001b[49m\u001b[43mtrain_set\u001b[49m\u001b[38;5;241;43m=\u001b[39;49m\u001b[43mtrain_set\u001b[49m\u001b[43m,\u001b[49m\n\u001b[0;32m    958\u001b[0m \u001b[43m    \u001b[49m\u001b[43mnum_boost_round\u001b[49m\u001b[38;5;241;43m=\u001b[39;49m\u001b[38;5;28;43mself\u001b[39;49m\u001b[38;5;241;43m.\u001b[39;49m\u001b[43mn_estimators\u001b[49m\u001b[43m,\u001b[49m\n\u001b[0;32m    959\u001b[0m \u001b[43m    \u001b[49m\u001b[43mvalid_sets\u001b[49m\u001b[38;5;241;43m=\u001b[39;49m\u001b[43mvalid_sets\u001b[49m\u001b[43m,\u001b[49m\n\u001b[0;32m    960\u001b[0m \u001b[43m    \u001b[49m\u001b[43mvalid_names\u001b[49m\u001b[38;5;241;43m=\u001b[39;49m\u001b[43meval_names\u001b[49m\u001b[43m,\u001b[49m\n\u001b[0;32m    961\u001b[0m \u001b[43m    \u001b[49m\u001b[43mfeval\u001b[49m\u001b[38;5;241;43m=\u001b[39;49m\u001b[43meval_metrics_callable\u001b[49m\u001b[43m,\u001b[49m\u001b[43m  \u001b[49m\u001b[38;5;66;43;03m# type: ignore[arg-type]\u001b[39;49;00m\n\u001b[0;32m    962\u001b[0m \u001b[43m    \u001b[49m\u001b[43minit_model\u001b[49m\u001b[38;5;241;43m=\u001b[39;49m\u001b[43minit_model\u001b[49m\u001b[43m,\u001b[49m\n\u001b[0;32m    963\u001b[0m \u001b[43m    \u001b[49m\u001b[43mcallbacks\u001b[49m\u001b[38;5;241;43m=\u001b[39;49m\u001b[43mcallbacks\u001b[49m\u001b[43m,\u001b[49m\n\u001b[0;32m    964\u001b[0m \u001b[43m\u001b[49m\u001b[43m)\u001b[49m\n\u001b[0;32m    966\u001b[0m \u001b[38;5;28mself\u001b[39m\u001b[38;5;241m.\u001b[39m_evals_result \u001b[38;5;241m=\u001b[39m evals_result\n\u001b[0;32m    967\u001b[0m \u001b[38;5;28mself\u001b[39m\u001b[38;5;241m.\u001b[39m_best_iteration \u001b[38;5;241m=\u001b[39m \u001b[38;5;28mself\u001b[39m\u001b[38;5;241m.\u001b[39m_Booster\u001b[38;5;241m.\u001b[39mbest_iteration\n",
      "File \u001b[1;32mc:\\Users\\juneh\\AppData\\Local\\Programs\\Python\\Python311\\Lib\\site-packages\\lightgbm\\engine.py:307\u001b[0m, in \u001b[0;36mtrain\u001b[1;34m(params, train_set, num_boost_round, valid_sets, valid_names, feval, init_model, feature_name, categorical_feature, keep_training_booster, callbacks)\u001b[0m\n\u001b[0;32m    295\u001b[0m \u001b[38;5;28;01mfor\u001b[39;00m cb \u001b[38;5;129;01min\u001b[39;00m callbacks_before_iter:\n\u001b[0;32m    296\u001b[0m     cb(\n\u001b[0;32m    297\u001b[0m         callback\u001b[38;5;241m.\u001b[39mCallbackEnv(\n\u001b[0;32m    298\u001b[0m             model\u001b[38;5;241m=\u001b[39mbooster,\n\u001b[1;32m   (...)\u001b[0m\n\u001b[0;32m    304\u001b[0m         )\n\u001b[0;32m    305\u001b[0m     )\n\u001b[1;32m--> 307\u001b[0m \u001b[43mbooster\u001b[49m\u001b[38;5;241;43m.\u001b[39;49m\u001b[43mupdate\u001b[49m\u001b[43m(\u001b[49m\u001b[43mfobj\u001b[49m\u001b[38;5;241;43m=\u001b[39;49m\u001b[43mfobj\u001b[49m\u001b[43m)\u001b[49m\n\u001b[0;32m    309\u001b[0m evaluation_result_list: List[_LGBM_BoosterEvalMethodResultType] \u001b[38;5;241m=\u001b[39m []\n\u001b[0;32m    310\u001b[0m \u001b[38;5;66;03m# check evaluation result.\u001b[39;00m\n",
      "File \u001b[1;32mc:\\Users\\juneh\\AppData\\Local\\Programs\\Python\\Python311\\Lib\\site-packages\\lightgbm\\basic.py:4136\u001b[0m, in \u001b[0;36mBooster.update\u001b[1;34m(self, train_set, fobj)\u001b[0m\n\u001b[0;32m   4133\u001b[0m \u001b[38;5;28;01mif\u001b[39;00m \u001b[38;5;28mself\u001b[39m\u001b[38;5;241m.\u001b[39m__set_objective_to_none:\n\u001b[0;32m   4134\u001b[0m     \u001b[38;5;28;01mraise\u001b[39;00m LightGBMError(\u001b[38;5;124m\"\u001b[39m\u001b[38;5;124mCannot update due to null objective function.\u001b[39m\u001b[38;5;124m\"\u001b[39m)\n\u001b[0;32m   4135\u001b[0m _safe_call(\n\u001b[1;32m-> 4136\u001b[0m     \u001b[43m_LIB\u001b[49m\u001b[38;5;241;43m.\u001b[39;49m\u001b[43mLGBM_BoosterUpdateOneIter\u001b[49m\u001b[43m(\u001b[49m\n\u001b[0;32m   4137\u001b[0m \u001b[43m        \u001b[49m\u001b[38;5;28;43mself\u001b[39;49m\u001b[38;5;241;43m.\u001b[39;49m\u001b[43m_handle\u001b[49m\u001b[43m,\u001b[49m\n\u001b[0;32m   4138\u001b[0m \u001b[43m        \u001b[49m\u001b[43mctypes\u001b[49m\u001b[38;5;241;43m.\u001b[39;49m\u001b[43mbyref\u001b[49m\u001b[43m(\u001b[49m\u001b[43mis_finished\u001b[49m\u001b[43m)\u001b[49m\u001b[43m,\u001b[49m\n\u001b[0;32m   4139\u001b[0m \u001b[43m    \u001b[49m\u001b[43m)\u001b[49m\n\u001b[0;32m   4140\u001b[0m )\n\u001b[0;32m   4141\u001b[0m \u001b[38;5;28mself\u001b[39m\u001b[38;5;241m.\u001b[39m__is_predicted_cur_iter \u001b[38;5;241m=\u001b[39m [\u001b[38;5;28;01mFalse\u001b[39;00m \u001b[38;5;28;01mfor\u001b[39;00m _ \u001b[38;5;129;01min\u001b[39;00m \u001b[38;5;28mrange\u001b[39m(\u001b[38;5;28mself\u001b[39m\u001b[38;5;241m.\u001b[39m__num_dataset)]\n\u001b[0;32m   4142\u001b[0m \u001b[38;5;28;01mreturn\u001b[39;00m is_finished\u001b[38;5;241m.\u001b[39mvalue \u001b[38;5;241m==\u001b[39m \u001b[38;5;241m1\u001b[39m\n",
      "\u001b[1;31mKeyboardInterrupt\u001b[0m: "
     ]
    }
   ],
   "source": [
    "# 목적 함수 정의\n",
    "def objective(trial):\n",
    "    param = {\n",
    "        'n_estimators': trial.suggest_int('n_estimators', 500, 8000),\n",
    "        'num_leaves': trial.suggest_int('num_leaves', 100, 5000),\n",
    "        'max_depth': trial.suggest_int('max_depth', 5, 500),\n",
    "        'learning_rate': trial.suggest_float('learning_rate', 0.0005, 0.5),\n",
    "        'min_child_samples': trial.suggest_int('min_child_samples', 5, 500),\n",
    "        'subsample': trial.suggest_float('subsample', 0.0, 1.0),\n",
    "        'reg_alpha': trial.suggest_float('reg_alpha', 0.01, 100.0),\n",
    "        'reg_lambda': trial.suggest_float('reg_lambda', 0.01, 100.0),\n",
    "\n",
    "        'random_state': 42,\n",
    "        'n_jobs': -1,\n",
    "        'metric': 'auc',\n",
    "        'objective': 'binary',\n",
    "        'boosting_type': 'gbdt',\n",
    "        'verbose': -1\n",
    "    }\n",
    "\n",
    "    model = lgb.LGBMClassifier(**param)\n",
    "    model.fit(Total_X_train, Total_y_train)\n",
    "    \n",
    "    y_pred_proba = model.predict_proba(Total_X_test)[:, 1]\n",
    "    \n",
    "    auc = roc_auc_score(Total_y_test, y_pred_proba)\n",
    "    return auc\n",
    "\n",
    "# Optuna 스터디 생성 및 최적화 실행\n",
    "study = optuna.create_study(direction='maximize')\n",
    "study.optimize(objective, n_trials=100)\n",
    "\n",
    "# 최적의 하이퍼파라미터 출력\n",
    "print(\"Best trial:\")\n",
    "trial = study.best_trial\n",
    "print(f\"  Value: {trial.value}\")\n",
    "print(\"  Params: \")\n",
    "for key, value in trial.params.items():\n",
    "    print(f\"    {key}: {value}\")"
   ]
  },
  {
   "cell_type": "markdown",
   "metadata": {},
   "source": [
    "."
   ]
  }
 ],
 "metadata": {
  "kernelspec": {
   "display_name": "Python 3",
   "language": "python",
   "name": "python3"
  },
  "language_info": {
   "codemirror_mode": {
    "name": "ipython",
    "version": 3
   },
   "file_extension": ".py",
   "mimetype": "text/x-python",
   "name": "python",
   "nbconvert_exporter": "python",
   "pygments_lexer": "ipython3",
   "version": "3.11.8"
  }
 },
 "nbformat": 4,
 "nbformat_minor": 2
}
