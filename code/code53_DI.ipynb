{
 "cells": [
  {
   "cell_type": "markdown",
   "metadata": {},
   "source": [
    "## 난임 환자 대상 임신 성공 여부 예측"
   ]
  },
  {
   "cell_type": "markdown",
   "metadata": {},
   "source": [
    "### LGAimers 6th 온라인 해커톤"
   ]
  },
  {
   "cell_type": "markdown",
   "metadata": {},
   "source": [
    "Import"
   ]
  },
  {
   "cell_type": "code",
   "execution_count": 2,
   "metadata": {},
   "outputs": [],
   "source": [
    "import pandas as pd\n",
    "import numpy as np\n",
    "import seaborn as sns\n",
    "import matplotlib.pyplot as plt"
   ]
  },
  {
   "cell_type": "code",
   "execution_count": 3,
   "metadata": {},
   "outputs": [],
   "source": [
    "import platform\n",
    "from matplotlib import rc\n",
    "\n",
    "# 운영 체제에 따라 폰트 설정\n",
    "if platform.system() == 'Windows':  # Windows 환경\n",
    "    rc('font', family='Malgun Gothic')  # 맑은 고딕\n",
    "\n",
    "# 음수 표시 가능하도록 설정\n",
    "plt.rcParams['axes.unicode_minus'] = False"
   ]
  },
  {
   "cell_type": "code",
   "execution_count": 4,
   "metadata": {},
   "outputs": [],
   "source": [
    "# 경고문구 숨기기\n",
    "import warnings\n",
    "import pandas as pd\n",
    "warnings.filterwarnings(\"ignore\", category=pd.errors.SettingWithCopyWarning)"
   ]
  },
  {
   "cell_type": "markdown",
   "metadata": {},
   "source": [
    "반복적으로 쓰는 함수툴"
   ]
  },
  {
   "cell_type": "code",
   "execution_count": 5,
   "metadata": {},
   "outputs": [],
   "source": [
    "def plot_box(df, col_name):\n",
    "    \"\"\"\n",
    "    주어진 데이터프레임과 열 이름에 대해 박스 플롯을 그리는 함수.\n",
    "\n",
    "    Parameters:\n",
    "    df (pd.DataFrame): 데이터프레임\n",
    "    col_name (str): 열 이름\n",
    "    \"\"\"\n",
    "    plt.figure(figsize=(7, 4))\n",
    "    plt.boxplot(df[col_name], vert=False)\n",
    "    plt.xlabel(col_name)\n",
    "    plt.title(f'Box Plot of {col_name}')\n",
    "    plt.show()\n",
    "\n",
    "def value_counts_ratio(df, col_name, target_name='임신_성공_여부'):\n",
    "    \"\"\"\n",
    "    주어진 데이터프레임의 특정 열에 대해 각 값마다 타겟 변수의 비율과 갯수, 총 갯수를 출력하는 함수.\n",
    "\n",
    "    Parameters:\n",
    "    df (pd.DataFrame): 데이터프레임\n",
    "    col_name (str): 열 이름\n",
    "    target_name (str): 타겟 변수 이름\n",
    "    \"\"\"\n",
    "    # 각 값마다 타겟 변수의 비율 계산\n",
    "    value_counts = df.groupby(col_name)[target_name].value_counts(normalize=True).unstack().fillna(0)\n",
    "    \n",
    "    # 각 값마다 타겟 변수의 갯수 계산\n",
    "    counts = df.groupby(col_name)[target_name].value_counts().unstack().fillna(0)\n",
    "    \n",
    "    # 각 값마다 총 갯수 계산\n",
    "    total_counts = df[col_name].value_counts().rename('Total_Count')\n",
    "    \n",
    "    # 비율과 갯수를 합침\n",
    "    result = value_counts.join(counts, lsuffix='_ratio', rsuffix='_count')\n",
    "    \n",
    "    # 총 갯수를 합침\n",
    "    result = result.join(total_counts, on=col_name)\n",
    "    \n",
    "    # 출력 형식 조정\n",
    "    result.index.name = 'variable'\n",
    "    print(f\"\\n{col_name}별 {target_name} 비율 및 갯수\\n\")\n",
    "    print(result.rename(columns=lambda x: x.split('_')[0]))\n",
    "\n",
    "def summarize_group(df, group_by_columns):\n",
    "    \"\"\"\n",
    "    주어진 데이터프레임을 특정 열들로 그룹화하여 각 그룹의 '임신_성공_여부' 비율과 갯수를 요약하는 함수.\n",
    "\n",
    "    Parameters:\n",
    "    df (pd.DataFrame): 데이터프레임\n",
    "    group_by_columns (list): 그룹화할 열 이름들의 리스트\n",
    "    \"\"\"\n",
    "    # 데이터프레임을 그룹화\n",
    "    grouped_df = df.groupby(group_by_columns)\n",
    "    \n",
    "    # 결과를 저장할 리스트 초기화\n",
    "    results = []\n",
    "    \n",
    "    # 그룹화된 데이터프레임의 내용을 확인하는 코드\n",
    "    for name, group in grouped_df:\n",
    "        # 그룹의 갯수 계산\n",
    "        group_count = group.shape[0]\n",
    "        \n",
    "        # '임신_성공_여부' 변수의 '임신 성공' 비율과 갯수 계산\n",
    "        success_count = group['임신_성공_여부'].value_counts().get(1, 0)\n",
    "        success_ratio = success_count / group_count\n",
    "        \n",
    "        # 결과 리스트에 추가\n",
    "        results.append([name, success_count, success_ratio, group_count])\n",
    "    \n",
    "    # 결과 리스트를 데이터프레임으로 변환\n",
    "    results_df = pd.DataFrame(results, columns=['group', \"'임신_성공_여부' count\", 'ratio', 'Total'])\n",
    "    \n",
    "    # 그룹화된 변수들의 이름을 제목행으로 출력\n",
    "    print(f\"Grouped by: {', '.join(group_by_columns)}\")\n",
    "    print()\n",
    "    # 데이터프레임 출력\n",
    "    print(results_df)\n",
    "\n",
    "def plot_ratio(df, group_by_column, target_column='임신_성공_여부', success_value=1):\n",
    "    \"\"\"\n",
    "    주어진 데이터프레임을 특정 열로 그룹화하여 각 그룹의 타겟 변수의 성공 비율을 시각화하는 함수.\n",
    "\n",
    "    Parameters:\n",
    "    df (pd.DataFrame): 데이터프레임\n",
    "    group_by_column (str): 그룹화할 열 이름\n",
    "    target_column (str): 타겟 변수 이름\n",
    "    success_value (int): 타겟 변수의 성공을 나타내는 값\n",
    "    \"\"\"\n",
    "    # 데이터프레임을 그룹화\n",
    "    grouped_df = df.groupby(group_by_column)\n",
    "    \n",
    "    # 결과를 저장할 리스트 초기화\n",
    "    results = []\n",
    "    \n",
    "    # 그룹화된 데이터프레임의 내용을 확인하는 코드\n",
    "    for name, group in grouped_df:\n",
    "        # 그룹의 갯수 계산\n",
    "        group_count = group.shape[0]\n",
    "        \n",
    "        # '임신_성공_여부' 변수의 '성공' 비율과 갯수 계산\n",
    "        success_count = group[target_column].value_counts().get(success_value, 0)\n",
    "        success_ratio = success_count / group_count\n",
    "        \n",
    "        # 결과 리스트에 추가\n",
    "        results.append([name, success_count, success_ratio, group_count])\n",
    "    \n",
    "    # 결과 리스트를 데이터프레임으로 변환\n",
    "    results_df = pd.DataFrame(results, columns=['group', f\"'{success_value}' count\", 'ratio', 'Total'])\n",
    "    \n",
    "    # 그래프 크기 설정\n",
    "    plt.figure(figsize=(10, 5))\n",
    "    \n",
    "    # 막대 그래프 생성\n",
    "    ax = results_df.plot(kind='bar', x='group', y='ratio', legend=False)\n",
    "    \n",
    "    # 각 막대 위에 임신 성공 여부 갯수와 총 갯수 표시\n",
    "    for i, (success_count, total) in enumerate(zip(results_df[f\"'{success_value}' count\"], results_df['Total'])):\n",
    "        ax.text(i, results_df['ratio'][i], f'{success_count} ({total})', ha='center', va='bottom', fontsize=8)\n",
    "    \n",
    "    # 그래프 제목 및 축 레이블 설정\n",
    "    ax.set_title(f'{success_value} Ratio by {group_by_column}')\n",
    "    ax.set_xlabel(group_by_column)\n",
    "    ax.set_ylabel(f'{success_value} Ratio')\n",
    "   \n",
    "    # 그래프 출력\n",
    "    plt.show()\n",
    "\n",
    "def plot_ratio_boxplot(data, column_name, target_column='임신_성공_여부'):\n",
    "    \"\"\"\n",
    "    주어진 데이터프레임의 특정 열과 타겟 변수 간의 관계를 박스 플롯으로 시각화하는 함수.\n",
    "\n",
    "    Parameters:\n",
    "    data (pd.DataFrame): 데이터프레임\n",
    "    column_name (str): 열 이름\n",
    "    target_column (str): 타겟 변수 이름\n",
    "    \"\"\"\n",
    "\n",
    "    # 그래프 그리기\n",
    "    plt.figure(figsize=(10, 6))\n",
    "    sns.boxplot(x=column_name, y=target_column, data=data)\n",
    "\n",
    "    # 그래프 제목 및 레이블 설정\n",
    "    plt.title(f'{column_name} vs {target_column}')\n",
    "    plt.xlabel(column_name)\n",
    "    plt.ylabel(target_column)\n",
    "\n",
    "    # 그래프 출력\n",
    "    plt.show()"
   ]
  },
  {
   "cell_type": "markdown",
   "metadata": {},
   "source": [
    "### Data Load"
   ]
  },
  {
   "cell_type": "code",
   "execution_count": 6,
   "metadata": {},
   "outputs": [],
   "source": [
    "# 데이터 로드\n",
    "train = pd.read_csv('../data/train.csv')\n",
    "test = pd.read_csv('../data/test.csv')\n",
    "\n",
    "# 변수명에서 공백을 밑줄로 대체\n",
    "train.columns = train.columns.str.replace(' ', '_')\n",
    "test.columns = test.columns.str.replace(' ', '_')"
   ]
  },
  {
   "cell_type": "code",
   "execution_count": 7,
   "metadata": {},
   "outputs": [],
   "source": [
    "# train.info(verbose=True)"
   ]
  },
  {
   "cell_type": "markdown",
   "metadata": {},
   "source": [
    "## EDA"
   ]
  },
  {
   "cell_type": "code",
   "execution_count": 8,
   "metadata": {},
   "outputs": [],
   "source": [
    "# '시술_유형' 변수의 값이 'DI'에 해당 안하는 데이터 추출\n",
    "DI_train = train[train['시술_유형'] == 'DI'] \n",
    "DI_test = test[test['시술_유형'] == 'DI']\n",
    "\n",
    "# 모든 값이 결측값인 변수를 제거\n",
    "DI_train = DI_train.dropna(axis=1, how='all')\n",
    "DI_test = DI_test.dropna(axis=1, how='all')\n",
    "\n",
    "# 결측값이 없는 상태에서 고유값이 1개만 존재하는 변수 제거\n",
    "unique_value_columns_train = DI_train.columns[DI_train.nunique() <= 1]\n",
    "unique_value_columns_test = DI_test.columns[DI_test.nunique() <= 1]\n",
    "\n",
    "train = DI_train.drop(columns=unique_value_columns_train)\n",
    "test = DI_test.drop(columns=unique_value_columns_test)"
   ]
  },
  {
   "cell_type": "markdown",
   "metadata": {},
   "source": [
    "타겟변수 비율 확인"
   ]
  },
  {
   "cell_type": "code",
   "execution_count": 9,
   "metadata": {},
   "outputs": [
    {
     "name": "stdout",
     "output_type": "stream",
     "text": [
      "임신_성공_여부 값 개수:\n",
      "임신_성공_여부\n",
      "0    5480\n",
      "1     811\n",
      "Name: count, dtype: int64\n",
      "\n",
      "임신_성공_여부 값 비율 (%):\n",
      "임신_성공_여부\n",
      "0    87.108568\n",
      "1    12.891432\n",
      "Name: count, dtype: float64\n"
     ]
    }
   ],
   "source": [
    "# '임신_성공_여부' 변수의 값 개수 계산\n",
    "value_counts = train['임신_성공_여부'].value_counts()\n",
    "\n",
    "# 각 값이 전체에서 차지하는 비율 계산\n",
    "value_percentages = value_counts / len(train) * 100\n",
    "\n",
    "# 결과 출력\n",
    "print(\"임신_성공_여부 값 개수:\")\n",
    "print(value_counts)\n",
    "print(\"\\n임신_성공_여부 값 비율 (%):\")\n",
    "print(value_percentages)"
   ]
  },
  {
   "cell_type": "code",
   "execution_count": 10,
   "metadata": {},
   "outputs": [
    {
     "name": "stdout",
     "output_type": "stream",
     "text": [
      "<class 'pandas.core.frame.DataFrame'>\n",
      "Index: 6291 entries, 14 to 256326\n",
      "Data columns (total 31 columns):\n",
      " #   Column                 Non-Null Count  Dtype  \n",
      "---  ------                 --------------  -----  \n",
      " 0   ID                     6291 non-null   object \n",
      " 1   시술_시기_코드               6291 non-null   object \n",
      " 2   시술_당시_나이               6291 non-null   object \n",
      " 3   임신_시도_또는_마지막_임신_경과_연수  303 non-null    float64\n",
      " 4   특정_시술_유형               6291 non-null   object \n",
      " 5   배란_자극_여부               6291 non-null   int64  \n",
      " 6   남성_주_불임_원인             6291 non-null   int64  \n",
      " 7   남성_부_불임_원인             6291 non-null   int64  \n",
      " 8   여성_주_불임_원인             6291 non-null   int64  \n",
      " 9   여성_부_불임_원인             6291 non-null   int64  \n",
      " 10  부부_주_불임_원인             6291 non-null   int64  \n",
      " 11  부부_부_불임_원인             6291 non-null   int64  \n",
      " 12  불명확_불임_원인              6291 non-null   int64  \n",
      " 13  불임_원인_-_난관_질환          6291 non-null   int64  \n",
      " 14  불임_원인_-_남성_요인          6291 non-null   int64  \n",
      " 15  불임_원인_-_배란_장애          6291 non-null   int64  \n",
      " 16  불임_원인_-_자궁내막증          6291 non-null   int64  \n",
      " 17  불임_원인_-_정자_농도          6291 non-null   int64  \n",
      " 18  불임_원인_-_정자_형태          6291 non-null   int64  \n",
      " 19  총_시술_횟수                6291 non-null   object \n",
      " 20  클리닉_내_총_시술_횟수          6291 non-null   object \n",
      " 21  IVF_시술_횟수              6291 non-null   object \n",
      " 22  DI_시술_횟수               6291 non-null   object \n",
      " 23  총_임신_횟수                6291 non-null   object \n",
      " 24  IVF_임신_횟수              6291 non-null   object \n",
      " 25  DI_임신_횟수               6291 non-null   object \n",
      " 26  총_출산_횟수                6291 non-null   object \n",
      " 27  IVF_출산_횟수              6291 non-null   object \n",
      " 28  DI_출산_횟수               6291 non-null   object \n",
      " 29  정자_기증자_나이              6291 non-null   object \n",
      " 30  임신_성공_여부               6291 non-null   int64  \n",
      "dtypes: float64(1), int64(15), object(15)\n",
      "memory usage: 1.5+ MB\n"
     ]
    }
   ],
   "source": [
    "train.info()"
   ]
  },
  {
   "cell_type": "markdown",
   "metadata": {},
   "source": [
    "### 1. 시술 시기 코드"
   ]
  },
  {
   "cell_type": "markdown",
   "metadata": {},
   "source": [
    "난임 시술을 받은 시기를 기준으로 코드 부여"
   ]
  },
  {
   "cell_type": "code",
   "execution_count": 11,
   "metadata": {},
   "outputs": [
    {
     "name": "stdout",
     "output_type": "stream",
     "text": [
      "\n",
      "시술_시기_코드별 임신_성공_여부 비율 및 갯수\n",
      "\n",
      "                 0         1    0    1  Total\n",
      "variable                                     \n",
      "TRCMWS    0.862981  0.137019  718  114    832\n",
      "TRDQAZ    0.887967  0.112033  856  108    964\n",
      "TRJXFG    0.886770  0.113230  744   95    839\n",
      "TRVNRY    0.877426  0.122574  859  120    979\n",
      "TRXQMD    0.837808  0.162192  749  145    894\n",
      "TRYBLT    0.865811  0.134189  742  115    857\n",
      "TRZKPL    0.876890  0.123110  812  114    926\n"
     ]
    }
   ],
   "source": [
    "value_counts_ratio(train, '시술_시기_코드')"
   ]
  },
  {
   "cell_type": "code",
   "execution_count": 12,
   "metadata": {},
   "outputs": [],
   "source": [
    "# # '시술_시기_코드' 값에 따라 원핫 인코딩 파생 변수 생성\n",
    "# for code in train['시술_시기_코드'].unique():\n",
    "#     train[f'시술_시기_코드_{code}'] = (train['시술_시기_코드'] == code).astype(int)\n",
    "#     test[f'시술_시기_코드_{code}'] = (test['시술_시기_코드'] == code).astype(int)\n",
    "\n",
    "# # 기존 '시술_시기_코드' 컬럼 삭제\n",
    "# train = train.drop(columns=['시술_시기_코드'])\n",
    "# test = test.drop(columns=['시술_시기_코드'])"
   ]
  },
  {
   "cell_type": "code",
   "execution_count": 13,
   "metadata": {},
   "outputs": [],
   "source": [
    "# '시술_시기_코드' 변수 제거\n",
    "train = train.drop(columns=['시술_시기_코드'])\n",
    "test = test.drop(columns=['시술_시기_코드'])"
   ]
  },
  {
   "cell_type": "markdown",
   "metadata": {},
   "source": [
    "### 2. 시술 당시 나이"
   ]
  },
  {
   "cell_type": "markdown",
   "metadata": {},
   "source": [
    "환자의 시술 당시 나이(연령대)"
   ]
  },
  {
   "cell_type": "code",
   "execution_count": 14,
   "metadata": {},
   "outputs": [
    {
     "name": "stdout",
     "output_type": "stream",
     "text": [
      "\n",
      "시술_당시_나이별 임신_성공_여부 비율 및 갯수\n",
      "\n",
      "                 0         1     0    1  Total\n",
      "variable                                      \n",
      "만18-34세   0.805408  0.194592  1668  403   2071\n",
      "만35-37세   0.848966  0.151034  1231  219   1450\n",
      "만38-39세   0.897436  0.102564   945  108   1053\n",
      "만40-42세   0.930502  0.069498   964   72   1036\n",
      "만43-44세   0.980907  0.019093   411    8    419\n",
      "만45-50세   0.996183  0.003817   261    1    262\n"
     ]
    }
   ],
   "source": [
    "value_counts_ratio(train, '시술_당시_나이')"
   ]
  },
  {
   "cell_type": "code",
   "execution_count": 15,
   "metadata": {},
   "outputs": [],
   "source": [
    "# '시술_당시_나이' 변수의 값을 중앙값으로 변환하는 함수 정의\n",
    "def convert_age_category(age_category):\n",
    "    if age_category == '만18-34세':\n",
    "        return (18 + 34) / 2\n",
    "    elif age_category == '만35-37세':\n",
    "        return (35 + 37) / 2\n",
    "    elif age_category == '만38-39세':\n",
    "        return (38 + 39) / 2\n",
    "    elif age_category == '만40-42세':\n",
    "        return (40 + 42) / 2\n",
    "    elif age_category == '만43-44세':\n",
    "        return (43 + 44) / 2\n",
    "    elif age_category == '만45-50세':\n",
    "        return (45 + 50) / 2\n",
    "    else:\n",
    "        return None\n",
    "\n",
    "# '시술_당시_나이' 변수의 값을 중앙값으로 변환\n",
    "train['시술_당시_나이'] = train['시술_당시_나이'].apply(convert_age_category)\n",
    "test['시술_당시_나이'] = test['시술_당시_나이'].apply(convert_age_category)"
   ]
  },
  {
   "cell_type": "code",
   "execution_count": 16,
   "metadata": {},
   "outputs": [
    {
     "name": "stdout",
     "output_type": "stream",
     "text": [
      "\n",
      "시술_당시_나이별 임신_성공_여부 비율 및 갯수\n",
      "\n",
      "                 0         1     0    1  Total\n",
      "variable                                      \n",
      "26.0      0.805408  0.194592  1668  403   2071\n",
      "36.0      0.848966  0.151034  1231  219   1450\n",
      "38.5      0.897436  0.102564   945  108   1053\n",
      "41.0      0.930502  0.069498   964   72   1036\n",
      "43.5      0.980907  0.019093   411    8    419\n",
      "47.5      0.996183  0.003817   261    1    262\n"
     ]
    }
   ],
   "source": [
    "value_counts_ratio(train, '시술_당시_나이')"
   ]
  },
  {
   "cell_type": "markdown",
   "metadata": {},
   "source": [
    "### 3. 임신 시도 또는 마지막 임신 경과 일수"
   ]
  },
  {
   "cell_type": "markdown",
   "metadata": {},
   "source": [
    "환자가 처음 임신을 시도한 시점 또는 마지막 임신 이후 현재까지의 경과 연수 (년 단위)"
   ]
  },
  {
   "cell_type": "code",
   "execution_count": 17,
   "metadata": {},
   "outputs": [
    {
     "name": "stdout",
     "output_type": "stream",
     "text": [
      "\n",
      "임신_시도_또는_마지막_임신_경과_연수별 임신_성공_여부 비율 및 갯수\n",
      "\n",
      "                 0         1     0    1  Total\n",
      "variable                                      \n",
      "1.0       1.000000  0.000000   2.0  0.0      2\n",
      "3.0       0.666667  0.333333   6.0  3.0      9\n",
      "4.0       0.700000  0.300000   7.0  3.0     10\n",
      "5.0       0.785714  0.214286  11.0  3.0     14\n",
      "6.0       0.852941  0.147059  29.0  5.0     34\n",
      "7.0       0.727273  0.272727  24.0  9.0     33\n",
      "8.0       0.853659  0.146341  35.0  6.0     41\n",
      "9.0       0.965517  0.034483  28.0  1.0     29\n",
      "10.0      0.774194  0.225806  24.0  7.0     31\n",
      "11.0      0.862069  0.137931  25.0  4.0     29\n",
      "12.0      0.863636  0.136364  19.0  3.0     22\n",
      "13.0      0.888889  0.111111  16.0  2.0     18\n",
      "14.0      0.800000  0.200000   8.0  2.0     10\n",
      "15.0      0.800000  0.200000   4.0  1.0      5\n",
      "16.0      1.000000  0.000000   1.0  0.0      1\n",
      "17.0      0.833333  0.166667   5.0  1.0      6\n",
      "18.0      1.000000  0.000000   2.0  0.0      2\n",
      "19.0      0.666667  0.333333   2.0  1.0      3\n",
      "20.0      1.000000  0.000000   4.0  0.0      4\n"
     ]
    }
   ],
   "source": [
    "value_counts_ratio(train, '임신_시도_또는_마지막_임신_경과_연수')"
   ]
  },
  {
   "cell_type": "code",
   "execution_count": 18,
   "metadata": {},
   "outputs": [
    {
     "name": "stdout",
     "output_type": "stream",
     "text": [
      "결측값 개수: 5988\n",
      "결측값 개수: 0\n"
     ]
    }
   ],
   "source": [
    "print(\"결측값 개수:\", train['임신_시도_또는_마지막_임신_경과_연수'].isnull().sum())\n",
    "\n",
    "train['임신_시도_또는_마지막_임신_경과_연수'].fillna(-1, inplace=True)\n",
    "test['임신_시도_또는_마지막_임신_경과_연수'].fillna(-1, inplace=True)\n",
    "\n",
    "print(\"결측값 개수:\", train['임신_시도_또는_마지막_임신_경과_연수'].isnull().sum())"
   ]
  },
  {
   "cell_type": "code",
   "execution_count": 19,
   "metadata": {},
   "outputs": [
    {
     "name": "stdout",
     "output_type": "stream",
     "text": [
      "\n",
      "임신_시도_또는_마지막_임신_경과_연수별 임신_성공_여부 비율 및 갯수\n",
      "\n",
      "                 0         1       0      1  Total\n",
      "variable                                          \n",
      "-1.0      0.873079  0.126921  5228.0  760.0   5988\n",
      " 1.0      1.000000  0.000000     2.0    0.0      2\n",
      " 3.0      0.666667  0.333333     6.0    3.0      9\n",
      " 4.0      0.700000  0.300000     7.0    3.0     10\n",
      " 5.0      0.785714  0.214286    11.0    3.0     14\n",
      " 6.0      0.852941  0.147059    29.0    5.0     34\n",
      " 7.0      0.727273  0.272727    24.0    9.0     33\n",
      " 8.0      0.853659  0.146341    35.0    6.0     41\n",
      " 9.0      0.965517  0.034483    28.0    1.0     29\n",
      " 10.0     0.774194  0.225806    24.0    7.0     31\n",
      " 11.0     0.862069  0.137931    25.0    4.0     29\n",
      " 12.0     0.863636  0.136364    19.0    3.0     22\n",
      " 13.0     0.888889  0.111111    16.0    2.0     18\n",
      " 14.0     0.800000  0.200000     8.0    2.0     10\n",
      " 15.0     0.800000  0.200000     4.0    1.0      5\n",
      " 16.0     1.000000  0.000000     1.0    0.0      1\n",
      " 17.0     0.833333  0.166667     5.0    1.0      6\n",
      " 18.0     1.000000  0.000000     2.0    0.0      2\n",
      " 19.0     0.666667  0.333333     2.0    1.0      3\n",
      " 20.0     1.000000  0.000000     4.0    0.0      4\n"
     ]
    }
   ],
   "source": [
    "value_counts_ratio(train, '임신_시도_또는_마지막_임신_경과_연수')"
   ]
  },
  {
   "cell_type": "markdown",
   "metadata": {},
   "source": [
    "### 5. 특정_시술_유형"
   ]
  },
  {
   "cell_type": "markdown",
   "metadata": {},
   "source": [
    "GIFT – 생식세포 나팔관 이식  \n",
    "Generic DI – 기증 정자 주입  \n",
    "ICI – 자궁경부 인공 수정  \n",
    "IUI – 인공 수정 (자궁 내 주입)  \n",
    "IVI – 질 내 인공 수정   \n",
    "Unknown – 시술 유형 정보가 제공되지 않았거나 알 수 없음  "
   ]
  },
  {
   "cell_type": "code",
   "execution_count": 20,
   "metadata": {},
   "outputs": [
    {
     "name": "stdout",
     "output_type": "stream",
     "text": [
      "Grouped by: 특정_시술_유형\n",
      "\n",
      "           group  '임신_성공_여부' count     ratio  Total\n",
      "0        (GIFT,)                 0  0.000000      1\n",
      "1  (Generic DI,)                12  0.169014     71\n",
      "2         (ICI,)                13  0.135417     96\n",
      "3         (IUI,)               784  0.128525   6100\n",
      "4         (IVI,)                 2  0.086957     23\n"
     ]
    }
   ],
   "source": [
    "summarize_group(train, ['특정_시술_유형'])"
   ]
  },
  {
   "cell_type": "code",
   "execution_count": 21,
   "metadata": {},
   "outputs": [
    {
     "data": {
      "text/plain": [
       "특정_시술_유형\n",
       "IUI           2112\n",
       "ICI             28\n",
       "Generic DI      26\n",
       "IVI              8\n",
       "IUI:ICI          2\n",
       "Name: count, dtype: int64"
      ]
     },
     "execution_count": 21,
     "metadata": {},
     "output_type": "execute_result"
    }
   ],
   "source": [
    "test['특정_시술_유형'].value_counts()"
   ]
  },
  {
   "cell_type": "code",
   "execution_count": 22,
   "metadata": {},
   "outputs": [
    {
     "data": {
      "text/plain": [
       "0"
      ]
     },
     "execution_count": 22,
     "metadata": {},
     "output_type": "execute_result"
    }
   ],
   "source": [
    "train['특정_시술_유형'].isnull().sum()"
   ]
  },
  {
   "cell_type": "code",
   "execution_count": 23,
   "metadata": {},
   "outputs": [],
   "source": [
    "import pandas as pd\n",
    "from sklearn.preprocessing import MultiLabelBinarizer\n",
    "\n",
    "# 시술 유형 수정 함수 정의\n",
    "def clean_procedure(procedure):\n",
    "    if isinstance(procedure, str):\n",
    "        # 공백 제거\n",
    "        procedure = procedure.replace(' ', '')\n",
    "        # 시술 뒤에 Unknown이 붙어있으면 제거\n",
    "        if ':Unknown' in procedure:\n",
    "            procedure = procedure.replace(':Unknown', '')\n",
    "    return procedure\n",
    "\n",
    "# 시술 유형 수정\n",
    "train['특정_시술_유형'] = train['특정_시술_유형'].apply(clean_procedure)\n",
    "test['특정_시술_유형'] = test['특정_시술_유형'].apply(clean_procedure)\n",
    "\n",
    "# 시술 유형 분리 및 원핫 인코딩 함수 정의\n",
    "def process_procedures(df):\n",
    "    # 시술 유형 분리\n",
    "    df_split = df['특정_시술_유형'].apply(lambda x: x.split(':') if isinstance(x, str) else [])\n",
    "    \n",
    "    # '/'로 구분된 시술 유형을 개별 항목으로 분리\n",
    "    df_split = df_split.apply(lambda x: [item for sublist in [i.split('/') for i in x] for item in sublist])\n",
    "    \n",
    "    # MultiLabelBinarizer를 사용하여 원핫 인코딩\n",
    "    mlb = MultiLabelBinarizer()\n",
    "    reasons_encoded = mlb.fit_transform(df_split)\n",
    "    reasons_df = pd.DataFrame(reasons_encoded, columns=[f'특정_시술_유형_{cls}' for cls in mlb.classes_])\n",
    "    \n",
    "    # # '특정_시술_유형_Unknown' 변수 제거\n",
    "    # if '특정_시술_유형_Unknown' in reasons_df.columns:\n",
    "    #     reasons_df = reasons_df.drop(columns=['특정_시술_유형_Unknown'])\n",
    "    \n",
    "    # 원래 데이터프레임과 병합\n",
    "    df_encoded = df.drop(columns=['특정_시술_유형']).reset_index(drop=True)\n",
    "    df_encoded = pd.concat([df_encoded, reasons_df], axis=1)\n",
    "    \n",
    "    return df_encoded\n",
    "\n",
    "train = process_procedures(train)\n",
    "test = process_procedures(test)"
   ]
  },
  {
   "cell_type": "code",
   "execution_count": 24,
   "metadata": {},
   "outputs": [
    {
     "name": "stdout",
     "output_type": "stream",
     "text": [
      "<class 'pandas.core.frame.DataFrame'>\n",
      "RangeIndex: 6291 entries, 0 to 6290\n",
      "Data columns (total 34 columns):\n",
      " #   Column                 Non-Null Count  Dtype  \n",
      "---  ------                 --------------  -----  \n",
      " 0   ID                     6291 non-null   object \n",
      " 1   시술_당시_나이               6291 non-null   float64\n",
      " 2   임신_시도_또는_마지막_임신_경과_연수  6291 non-null   float64\n",
      " 3   배란_자극_여부               6291 non-null   int64  \n",
      " 4   남성_주_불임_원인             6291 non-null   int64  \n",
      " 5   남성_부_불임_원인             6291 non-null   int64  \n",
      " 6   여성_주_불임_원인             6291 non-null   int64  \n",
      " 7   여성_부_불임_원인             6291 non-null   int64  \n",
      " 8   부부_주_불임_원인             6291 non-null   int64  \n",
      " 9   부부_부_불임_원인             6291 non-null   int64  \n",
      " 10  불명확_불임_원인              6291 non-null   int64  \n",
      " 11  불임_원인_-_난관_질환          6291 non-null   int64  \n",
      " 12  불임_원인_-_남성_요인          6291 non-null   int64  \n",
      " 13  불임_원인_-_배란_장애          6291 non-null   int64  \n",
      " 14  불임_원인_-_자궁내막증          6291 non-null   int64  \n",
      " 15  불임_원인_-_정자_농도          6291 non-null   int64  \n",
      " 16  불임_원인_-_정자_형태          6291 non-null   int64  \n",
      " 17  총_시술_횟수                6291 non-null   object \n",
      " 18  클리닉_내_총_시술_횟수          6291 non-null   object \n",
      " 19  IVF_시술_횟수              6291 non-null   object \n",
      " 20  DI_시술_횟수               6291 non-null   object \n",
      " 21  총_임신_횟수                6291 non-null   object \n",
      " 22  IVF_임신_횟수              6291 non-null   object \n",
      " 23  DI_임신_횟수               6291 non-null   object \n",
      " 24  총_출산_횟수                6291 non-null   object \n",
      " 25  IVF_출산_횟수              6291 non-null   object \n",
      " 26  DI_출산_횟수               6291 non-null   object \n",
      " 27  정자_기증자_나이              6291 non-null   object \n",
      " 28  임신_성공_여부               6291 non-null   int64  \n",
      " 29  특정_시술_유형_GIFT          6291 non-null   int32  \n",
      " 30  특정_시술_유형_GenericDI     6291 non-null   int32  \n",
      " 31  특정_시술_유형_ICI           6291 non-null   int32  \n",
      " 32  특정_시술_유형_IUI           6291 non-null   int32  \n",
      " 33  특정_시술_유형_IVI           6291 non-null   int32  \n",
      "dtypes: float64(2), int32(5), int64(15), object(12)\n",
      "memory usage: 1.5+ MB\n"
     ]
    }
   ],
   "source": [
    "train.info()"
   ]
  },
  {
   "cell_type": "markdown",
   "metadata": {},
   "source": [
    "### 6. 배란_자극_여부"
   ]
  },
  {
   "cell_type": "markdown",
   "metadata": {},
   "source": [
    "배란 자극 치료가 사용되었는지 여부"
   ]
  },
  {
   "cell_type": "code",
   "execution_count": 25,
   "metadata": {},
   "outputs": [
    {
     "name": "stdout",
     "output_type": "stream",
     "text": [
      "\n",
      "배란_자극_여부별 임신_성공_여부 비율 및 갯수\n",
      "\n",
      "                 0         1     0    1  Total\n",
      "variable                                      \n",
      "0         0.882529  0.117471  2652  353   3005\n",
      "1         0.860621  0.139379  2828  458   3286\n"
     ]
    }
   ],
   "source": [
    "value_counts_ratio(train, '배란_자극_여부')"
   ]
  },
  {
   "cell_type": "markdown",
   "metadata": {},
   "source": [
    "### 11. 남성_주_불임_원인"
   ]
  },
  {
   "cell_type": "markdown",
   "metadata": {},
   "source": [
    "남성의 주요 불임 원인 여부"
   ]
  },
  {
   "cell_type": "code",
   "execution_count": 26,
   "metadata": {},
   "outputs": [
    {
     "name": "stdout",
     "output_type": "stream",
     "text": [
      "\n",
      "남성_주_불임_원인별 임신_성공_여부 비율 및 갯수\n",
      "\n",
      "                 0         1     0    1  Total\n",
      "variable                                      \n",
      "0         0.874271  0.125729  5250  755   6005\n",
      "1         0.804196  0.195804   230   56    286\n"
     ]
    }
   ],
   "source": [
    "value_counts_ratio(train, '남성_주_불임_원인')"
   ]
  },
  {
   "cell_type": "markdown",
   "metadata": {},
   "source": [
    "### 12. 남성_부_불임_원인"
   ]
  },
  {
   "cell_type": "markdown",
   "metadata": {},
   "source": [
    "남성의 부차적 불임 원인 여부"
   ]
  },
  {
   "cell_type": "code",
   "execution_count": 27,
   "metadata": {},
   "outputs": [
    {
     "name": "stdout",
     "output_type": "stream",
     "text": [
      "\n",
      "남성_부_불임_원인별 임신_성공_여부 비율 및 갯수\n",
      "\n",
      "                 0         1     0    1  Total\n",
      "variable                                      \n",
      "0         0.871088  0.128912  5372  795   6167\n",
      "1         0.870968  0.129032   108   16    124\n"
     ]
    }
   ],
   "source": [
    "value_counts_ratio(train, '남성_부_불임_원인')"
   ]
  },
  {
   "cell_type": "code",
   "execution_count": 28,
   "metadata": {},
   "outputs": [
    {
     "name": "stdout",
     "output_type": "stream",
     "text": [
      "Grouped by: 남성_주_불임_원인, 남성_부_불임_원인\n",
      "\n",
      "    group  '임신_성공_여부' count     ratio  Total\n",
      "0  (0, 0)               739  0.125659   5881\n",
      "1  (0, 1)                16  0.129032    124\n",
      "2  (1, 0)                56  0.195804    286\n"
     ]
    }
   ],
   "source": [
    "summarize_group(train, ['남성_주_불임_원인', '남성_부_불임_원인'])"
   ]
  },
  {
   "cell_type": "markdown",
   "metadata": {},
   "source": [
    "### 13. 여성_주_불임_원인"
   ]
  },
  {
   "cell_type": "markdown",
   "metadata": {},
   "source": [
    "여성의 주요 불임 원인 여부"
   ]
  },
  {
   "cell_type": "code",
   "execution_count": 29,
   "metadata": {},
   "outputs": [
    {
     "name": "stdout",
     "output_type": "stream",
     "text": [
      "\n",
      "여성_주_불임_원인별 임신_성공_여부 비율 및 갯수\n",
      "\n",
      "                 0         1     0    1  Total\n",
      "variable                                      \n",
      "0         0.873917  0.126083  5143  742   5885\n",
      "1         0.830049  0.169951   337   69    406\n"
     ]
    }
   ],
   "source": [
    "value_counts_ratio(train, '여성_주_불임_원인')"
   ]
  },
  {
   "cell_type": "markdown",
   "metadata": {},
   "source": [
    "### 14. 여성_부_불임_원인"
   ]
  },
  {
   "cell_type": "markdown",
   "metadata": {},
   "source": [
    "여성의 부차적 불임 원인 여부"
   ]
  },
  {
   "cell_type": "code",
   "execution_count": 30,
   "metadata": {},
   "outputs": [
    {
     "name": "stdout",
     "output_type": "stream",
     "text": [
      "\n",
      "여성_부_불임_원인별 임신_성공_여부 비율 및 갯수\n",
      "\n",
      "                 0         1     0    1  Total\n",
      "variable                                      \n",
      "0         0.871449  0.128551  5369  792   6161\n",
      "1         0.853846  0.146154   111   19    130\n"
     ]
    }
   ],
   "source": [
    "value_counts_ratio(train, '여성_부_불임_원인')"
   ]
  },
  {
   "cell_type": "code",
   "execution_count": 31,
   "metadata": {},
   "outputs": [
    {
     "name": "stdout",
     "output_type": "stream",
     "text": [
      "Grouped by: 여성_주_불임_원인, 여성_부_불임_원인\n",
      "\n",
      "    group  '임신_성공_여부' count     ratio  Total\n",
      "0  (0, 0)               723  0.125630   5755\n",
      "1  (0, 1)                19  0.146154    130\n",
      "2  (1, 0)                69  0.169951    406\n"
     ]
    }
   ],
   "source": [
    "summarize_group(train, ['여성_주_불임_원인', '여성_부_불임_원인'])"
   ]
  },
  {
   "cell_type": "markdown",
   "metadata": {},
   "source": [
    "### 15. 부부_주_불임_원인"
   ]
  },
  {
   "cell_type": "markdown",
   "metadata": {},
   "source": [
    "부부의 주요 불임 원인 여부"
   ]
  },
  {
   "cell_type": "code",
   "execution_count": 32,
   "metadata": {},
   "outputs": [
    {
     "name": "stdout",
     "output_type": "stream",
     "text": [
      "\n",
      "부부_주_불임_원인별 임신_성공_여부 비율 및 갯수\n",
      "\n",
      "                 0         1     0    1  Total\n",
      "variable                                      \n",
      "0         0.874916  0.125084  5183  741   5924\n",
      "1         0.809264  0.190736   297   70    367\n"
     ]
    }
   ],
   "source": [
    "value_counts_ratio(train, '부부_주_불임_원인')"
   ]
  },
  {
   "cell_type": "markdown",
   "metadata": {},
   "source": [
    "### 16. 부부_부_불임_원인"
   ]
  },
  {
   "cell_type": "markdown",
   "metadata": {},
   "source": [
    "부부의 부차적 불임 원인 여부"
   ]
  },
  {
   "cell_type": "code",
   "execution_count": 33,
   "metadata": {},
   "outputs": [
    {
     "name": "stdout",
     "output_type": "stream",
     "text": [
      "\n",
      "부부_부_불임_원인별 임신_성공_여부 비율 및 갯수\n",
      "\n",
      "                 0         1     0    1  Total\n",
      "variable                                      \n",
      "0         0.871165  0.128835  5423  802   6225\n",
      "1         0.863636  0.136364    57    9     66\n"
     ]
    }
   ],
   "source": [
    "value_counts_ratio(train, '부부_부_불임_원인')"
   ]
  },
  {
   "cell_type": "code",
   "execution_count": 34,
   "metadata": {},
   "outputs": [
    {
     "name": "stdout",
     "output_type": "stream",
     "text": [
      "Grouped by: 부부_주_불임_원인, 부부_부_불임_원인\n",
      "\n",
      "    group  '임신_성공_여부' count     ratio  Total\n",
      "0  (0, 0)               732  0.124936   5859\n",
      "1  (0, 1)                 9  0.138462     65\n",
      "2  (1, 0)                70  0.191257    366\n",
      "3  (1, 1)                 0  0.000000      1\n"
     ]
    }
   ],
   "source": [
    "summarize_group(train, ['부부_주_불임_원인','부부_부_불임_원인'])"
   ]
  },
  {
   "cell_type": "markdown",
   "metadata": {},
   "source": [
    "### 17. 불명확_불임_원인"
   ]
  },
  {
   "cell_type": "markdown",
   "metadata": {},
   "source": [
    "불명의 원인으로 인한 불임 여부"
   ]
  },
  {
   "cell_type": "code",
   "execution_count": 35,
   "metadata": {},
   "outputs": [
    {
     "name": "stdout",
     "output_type": "stream",
     "text": [
      "\n",
      "불명확_불임_원인별 임신_성공_여부 비율 및 갯수\n",
      "\n",
      "                 0         1     0    1  Total\n",
      "variable                                      \n",
      "0         0.868249  0.131751  5048  766   5814\n",
      "1         0.905660  0.094340   432   45    477\n"
     ]
    }
   ],
   "source": [
    "value_counts_ratio(train, '불명확_불임_원인')"
   ]
  },
  {
   "cell_type": "markdown",
   "metadata": {},
   "source": [
    "### 18. 불임_원인_-_난관_질환"
   ]
  },
  {
   "cell_type": "markdown",
   "metadata": {},
   "source": [
    "난관 이상으로 인한 불임 여부"
   ]
  },
  {
   "cell_type": "code",
   "execution_count": 36,
   "metadata": {},
   "outputs": [
    {
     "name": "stdout",
     "output_type": "stream",
     "text": [
      "\n",
      "불임_원인_-_난관_질환별 임신_성공_여부 비율 및 갯수\n",
      "\n",
      "                 0         1     0    1  Total\n",
      "variable                                      \n",
      "0         0.870454  0.129546  5409  805   6214\n",
      "1         0.922078  0.077922    71    6     77\n"
     ]
    }
   ],
   "source": [
    "value_counts_ratio(train, '불임_원인_-_난관_질환')"
   ]
  },
  {
   "cell_type": "markdown",
   "metadata": {},
   "source": [
    "### 19. 불임_원인_-_남성_요인"
   ]
  },
  {
   "cell_type": "markdown",
   "metadata": {},
   "source": [
    "남성 요인으로 인한 불임 여부"
   ]
  },
  {
   "cell_type": "code",
   "execution_count": 37,
   "metadata": {},
   "outputs": [
    {
     "name": "stdout",
     "output_type": "stream",
     "text": [
      "\n",
      "불임_원인_-_남성_요인별 임신_성공_여부 비율 및 갯수\n",
      "\n",
      "                 0         1     0    1  Total\n",
      "variable                                      \n",
      "0         0.895925  0.104075  3056  355   3411\n",
      "1         0.841667  0.158333  2424  456   2880\n"
     ]
    }
   ],
   "source": [
    "value_counts_ratio(train, '불임_원인_-_남성_요인')"
   ]
  },
  {
   "cell_type": "markdown",
   "metadata": {},
   "source": [
    "### 20. 불임_원인_-_배란_장애"
   ]
  },
  {
   "cell_type": "markdown",
   "metadata": {},
   "source": [
    "배란 장애로 인한 불임 여부"
   ]
  },
  {
   "cell_type": "code",
   "execution_count": 38,
   "metadata": {},
   "outputs": [
    {
     "name": "stdout",
     "output_type": "stream",
     "text": [
      "\n",
      "불임_원인_-_배란_장애별 임신_성공_여부 비율 및 갯수\n",
      "\n",
      "                 0         1     0    1  Total\n",
      "variable                                      \n",
      "0         0.871213  0.128787  5148  761   5909\n",
      "1         0.869110  0.130890   332   50    382\n"
     ]
    }
   ],
   "source": [
    "value_counts_ratio(train, '불임_원인_-_배란_장애')"
   ]
  },
  {
   "cell_type": "markdown",
   "metadata": {},
   "source": [
    "### 23. 불임_원인_-_자궁내막증"
   ]
  },
  {
   "cell_type": "markdown",
   "metadata": {},
   "source": [
    "자궁내막증으로 인한 불임 여부"
   ]
  },
  {
   "cell_type": "code",
   "execution_count": 39,
   "metadata": {},
   "outputs": [
    {
     "name": "stdout",
     "output_type": "stream",
     "text": [
      "\n",
      "불임_원인_-_자궁내막증별 임신_성공_여부 비율 및 갯수\n",
      "\n",
      "                 0         1     0    1  Total\n",
      "variable                                      \n",
      "0         0.869778  0.130222  5330  798   6128\n",
      "1         0.920245  0.079755   150   13    163\n"
     ]
    }
   ],
   "source": [
    "value_counts_ratio(train, '불임_원인_-_자궁내막증')"
   ]
  },
  {
   "cell_type": "markdown",
   "metadata": {},
   "source": [
    "### 24. 불임_원인_-_정자_농도"
   ]
  },
  {
   "cell_type": "markdown",
   "metadata": {},
   "source": [
    "파트너의 정자 농도 문제 여부"
   ]
  },
  {
   "cell_type": "code",
   "execution_count": 40,
   "metadata": {},
   "outputs": [
    {
     "name": "stdout",
     "output_type": "stream",
     "text": [
      "\n",
      "불임_원인_-_정자_농도별 임신_성공_여부 비율 및 갯수\n",
      "\n",
      "                 0         1     0    1  Total\n",
      "variable                                      \n",
      "0         0.871561  0.128439  5449  803   6252\n",
      "1         0.794872  0.205128    31    8     39\n"
     ]
    }
   ],
   "source": [
    "value_counts_ratio(train, '불임_원인_-_정자_농도')"
   ]
  },
  {
   "cell_type": "code",
   "execution_count": 41,
   "metadata": {},
   "outputs": [
    {
     "data": {
      "text/plain": [
       "불임_원인_-_정자_농도\n",
       "0    2165\n",
       "1      11\n",
       "Name: count, dtype: int64"
      ]
     },
     "execution_count": 41,
     "metadata": {},
     "output_type": "execute_result"
    }
   ],
   "source": [
    "test['불임_원인_-_정자_농도'].value_counts()"
   ]
  },
  {
   "cell_type": "markdown",
   "metadata": {},
   "source": [
    "### 29. 총_시술_횟수"
   ]
  },
  {
   "cell_type": "markdown",
   "metadata": {},
   "source": [
    "IVF 및 DI 포함한 전체 시술 횟수"
   ]
  },
  {
   "cell_type": "code",
   "execution_count": 42,
   "metadata": {},
   "outputs": [
    {
     "name": "stdout",
     "output_type": "stream",
     "text": [
      "\n",
      "총_시술_횟수별 임신_성공_여부 비율 및 갯수\n",
      "\n",
      "                 0         1     0    1  Total\n",
      "variable                                      \n",
      "0회        0.926768  0.073232   367   29    396\n",
      "1회        0.865406  0.134594   778  121    899\n",
      "2회        0.866184  0.133816   958  148   1106\n",
      "3회        0.876923  0.123077   912  128   1040\n",
      "4회        0.853685  0.146315   776  133    909\n",
      "5회        0.870095  0.129905   643   96    739\n",
      "6회 이상     0.870216  0.129784  1046  156   1202\n"
     ]
    }
   ],
   "source": [
    "value_counts_ratio(train, '총_시술_횟수')"
   ]
  },
  {
   "cell_type": "markdown",
   "metadata": {},
   "source": [
    "### 30. 클리닉_내_총_시술_횟수"
   ]
  },
  {
   "cell_type": "markdown",
   "metadata": {},
   "source": [
    "특정 클리닉에서 받은 IVF 및 DI 시술 횟수"
   ]
  },
  {
   "cell_type": "code",
   "execution_count": 43,
   "metadata": {},
   "outputs": [
    {
     "name": "stdout",
     "output_type": "stream",
     "text": [
      "\n",
      "클리닉_내_총_시술_횟수별 임신_성공_여부 비율 및 갯수\n",
      "\n",
      "                 0         1     0    1  Total\n",
      "variable                                      \n",
      "0회        0.894336  0.105664   821   97    918\n",
      "1회        0.870229  0.129771  1026  153   1179\n",
      "2회        0.872414  0.127586  1012  148   1160\n",
      "3회        0.875135  0.124865   813  116    929\n",
      "4회        0.867758  0.132242   689  105    794\n",
      "5회        0.865079  0.134921   545   85    630\n",
      "6회 이상     0.842878  0.157122   574  107    681\n"
     ]
    }
   ],
   "source": [
    "value_counts_ratio(train, '클리닉_내_총_시술_횟수')"
   ]
  },
  {
   "cell_type": "markdown",
   "metadata": {},
   "source": [
    "### 31. IVF_시술_횟수"
   ]
  },
  {
   "cell_type": "markdown",
   "metadata": {},
   "source": [
    "이전에 수행된 IVF 시술 횟수"
   ]
  },
  {
   "cell_type": "code",
   "execution_count": 44,
   "metadata": {},
   "outputs": [
    {
     "name": "stdout",
     "output_type": "stream",
     "text": [
      "\n",
      "IVF_시술_횟수별 임신_성공_여부 비율 및 갯수\n",
      "\n",
      "                 0         1     0    1  Total\n",
      "variable                                      \n",
      "0회        0.861111  0.138889  3224  520   3744\n",
      "1회        0.871795  0.128205   816  120    936\n",
      "2회        0.899160  0.100840   535   60    595\n",
      "3회        0.878282  0.121718   368   51    419\n",
      "4회        0.892720  0.107280   233   28    261\n",
      "5회        0.921212  0.078788   152   13    165\n",
      "6회 이상     0.888889  0.111111   152   19    171\n"
     ]
    }
   ],
   "source": [
    "value_counts_ratio(train, 'IVF_시술_횟수')"
   ]
  },
  {
   "cell_type": "markdown",
   "metadata": {},
   "source": [
    "### 32. DI_시술_횟수"
   ]
  },
  {
   "cell_type": "markdown",
   "metadata": {},
   "source": [
    "이전에 수행된 DI 시술 횟수"
   ]
  },
  {
   "cell_type": "code",
   "execution_count": 45,
   "metadata": {},
   "outputs": [
    {
     "name": "stdout",
     "output_type": "stream",
     "text": [
      "\n",
      "DI_시술_횟수별 임신_성공_여부 비율 및 갯수\n",
      "\n",
      "                 0         1     0    1  Total\n",
      "variable                                      \n",
      "0회        0.900973  0.099027  1019  112   1131\n",
      "1회        0.873262  0.126738  1068  155   1223\n",
      "2회        0.860793  0.139207   977  158   1135\n",
      "3회        0.871397  0.128603   786  116    902\n",
      "4회        0.857542  0.142458   614  102    716\n",
      "5회        0.890435  0.109565   512   63    575\n",
      "6회 이상     0.827586  0.172414   504  105    609\n"
     ]
    }
   ],
   "source": [
    "value_counts_ratio(train, 'DI_시술_횟수')"
   ]
  },
  {
   "cell_type": "markdown",
   "metadata": {},
   "source": [
    "### 33. 총_임신_횟수"
   ]
  },
  {
   "cell_type": "markdown",
   "metadata": {},
   "source": [
    "IVF 및 DI 포함한 총 임신 횟수"
   ]
  },
  {
   "cell_type": "code",
   "execution_count": 46,
   "metadata": {},
   "outputs": [
    {
     "name": "stdout",
     "output_type": "stream",
     "text": [
      "\n",
      "총_임신_횟수별 임신_성공_여부 비율 및 갯수\n",
      "\n",
      "                 0         1       0      1  Total\n",
      "variable                                          \n",
      "0회        0.902537  0.097463  3380.0  365.0   3745\n",
      "1회        0.830102  0.169898  1798.0  368.0   2166\n",
      "2회        0.785933  0.214067   257.0   70.0    327\n",
      "3회        0.847826  0.152174    39.0    7.0     46\n",
      "4회        1.000000  0.000000     6.0    0.0      6\n",
      "5회        0.000000  1.000000     0.0    1.0      1\n"
     ]
    }
   ],
   "source": [
    "value_counts_ratio(train, '총_임신_횟수')"
   ]
  },
  {
   "cell_type": "markdown",
   "metadata": {},
   "source": [
    "### 34. IVF_임신_횟수"
   ]
  },
  {
   "cell_type": "markdown",
   "metadata": {},
   "source": [
    "IVF 시술로 인한 임신 횟수"
   ]
  },
  {
   "cell_type": "code",
   "execution_count": 47,
   "metadata": {},
   "outputs": [
    {
     "name": "stdout",
     "output_type": "stream",
     "text": [
      "\n",
      "IVF_임신_횟수별 임신_성공_여부 비율 및 갯수\n",
      "\n",
      "                 0         1       0      1  Total\n",
      "variable                                          \n",
      "0회        0.869565  0.130435  5100.0  765.0   5865\n",
      "1회        0.888041  0.111959   349.0   44.0    393\n",
      "2회        0.935484  0.064516    29.0    2.0     31\n",
      "3회        1.000000  0.000000     2.0    0.0      2\n"
     ]
    }
   ],
   "source": [
    "value_counts_ratio(train, 'IVF_임신_횟수')"
   ]
  },
  {
   "cell_type": "markdown",
   "metadata": {},
   "source": [
    "### 35. DI_임신_횟수"
   ]
  },
  {
   "cell_type": "markdown",
   "metadata": {},
   "source": [
    "DI 시술로 인한 임신 횟수"
   ]
  },
  {
   "cell_type": "code",
   "execution_count": 48,
   "metadata": {},
   "outputs": [
    {
     "name": "stdout",
     "output_type": "stream",
     "text": [
      "\n",
      "DI_임신_횟수별 임신_성공_여부 비율 및 갯수\n",
      "\n",
      "                 0         1       0      1  Total\n",
      "variable                                          \n",
      "0회        0.900776  0.099224  3713.0  409.0   4122\n",
      "1회        0.823656  0.176344  1532.0  328.0   1860\n",
      "2회        0.752809  0.247191   201.0   66.0    267\n",
      "3회        0.810811  0.189189    30.0    7.0     37\n",
      "4회        1.000000  0.000000     4.0    0.0      4\n",
      "5회        0.000000  1.000000     0.0    1.0      1\n"
     ]
    }
   ],
   "source": [
    "value_counts_ratio(train, 'DI_임신_횟수')"
   ]
  },
  {
   "cell_type": "markdown",
   "metadata": {},
   "source": [
    "### 36. 총_출산_횟수"
   ]
  },
  {
   "cell_type": "markdown",
   "metadata": {},
   "source": [
    "IVF 및 DI 시술로 출산한 횟수"
   ]
  },
  {
   "cell_type": "code",
   "execution_count": 49,
   "metadata": {},
   "outputs": [
    {
     "name": "stdout",
     "output_type": "stream",
     "text": [
      "\n",
      "총_출산_횟수별 임신_성공_여부 비율 및 갯수\n",
      "\n",
      "                 0         1     0    1  Total\n",
      "variable                                      \n",
      "0회        0.899214  0.100786  3890  436   4326\n",
      "1회        0.809258  0.190742  1451  342   1793\n",
      "2회        0.801325  0.198675   121   30    151\n",
      "3회        0.857143  0.142857    18    3     21\n"
     ]
    }
   ],
   "source": [
    "value_counts_ratio(train, '총_출산_횟수')"
   ]
  },
  {
   "cell_type": "markdown",
   "metadata": {},
   "source": [
    "### 37. IVF_출산_횟수"
   ]
  },
  {
   "cell_type": "markdown",
   "metadata": {},
   "source": [
    "IVF 시술로 출산한 횟수"
   ]
  },
  {
   "cell_type": "code",
   "execution_count": 50,
   "metadata": {},
   "outputs": [
    {
     "name": "stdout",
     "output_type": "stream",
     "text": [
      "\n",
      "IVF_출산_횟수별 임신_성공_여부 비율 및 갯수\n",
      "\n",
      "                 0         1     0    1  Total\n",
      "variable                                      \n",
      "0회        0.870389  0.129611  5238  780   6018\n",
      "1회        0.890566  0.109434   236   29    265\n",
      "2회        0.750000  0.250000     6    2      8\n"
     ]
    }
   ],
   "source": [
    "value_counts_ratio(train, 'IVF_출산_횟수')"
   ]
  },
  {
   "cell_type": "markdown",
   "metadata": {},
   "source": [
    "### 38. DI_출산_횟수"
   ]
  },
  {
   "cell_type": "markdown",
   "metadata": {},
   "source": [
    "DI 시술로 출산한 횟수"
   ]
  },
  {
   "cell_type": "code",
   "execution_count": 51,
   "metadata": {},
   "outputs": [
    {
     "name": "stdout",
     "output_type": "stream",
     "text": [
      "\n",
      "DI_출산_횟수별 임신_성공_여부 비율 및 갯수\n",
      "\n",
      "                 0         1     0    1  Total\n",
      "variable                                      \n",
      "0회        0.898320  0.101680  4117  466   4583\n",
      "1회        0.797558  0.202442  1241  315   1556\n",
      "2회        0.800000  0.200000   108   27    135\n",
      "3회        0.823529  0.176471    14    3     17\n"
     ]
    }
   ],
   "source": [
    "value_counts_ratio(train, 'DI_출산_횟수')"
   ]
  },
  {
   "cell_type": "markdown",
   "metadata": {},
   "source": [
    "시술 횟수 -> 숫자 매핑"
   ]
  },
  {
   "cell_type": "code",
   "execution_count": 52,
   "metadata": {},
   "outputs": [],
   "source": [
    "# 숫자 매핑\n",
    "mapping = {\n",
    "    '0회': 0, '1회': 1, '2회': 2, '3회': 3, \n",
    "    '4회': 4, '5회': 5, '6회 이상': 6\n",
    "}\n",
    "\n",
    "# 변환할 열 목록\n",
    "columns_to_map = [\n",
    "    '총_시술_횟수', '클리닉_내_총_시술_횟수', 'IVF_시술_횟수', \n",
    "    'DI_시술_횟수', '총_임신_횟수', 'IVF_임신_횟수', 'DI_임신_횟수', \n",
    "    '총_출산_횟수', 'IVF_출산_횟수', 'DI_출산_횟수'\n",
    "]\n",
    "\n",
    "# 숫자로 변환\n",
    "for col in columns_to_map:\n",
    "    train[col] = train[col].map(mapping)\n",
    "    test[col] = test[col].map(mapping)"
   ]
  },
  {
   "cell_type": "code",
   "execution_count": 53,
   "metadata": {},
   "outputs": [],
   "source": [
    "# 비율 계산 (train 데이터프레임)\n",
    "train['IVF_임신_시술_비율'] = np.where(train['IVF_시술_횟수'] > 0, train['IVF_임신_횟수'] / train['IVF_시술_횟수'], 0)\n",
    "train['DI_임신_시술_비율'] = np.where(train['DI_시술_횟수'] > 0, train['DI_임신_횟수'] / train['DI_시술_횟수'], 0)\n",
    "train['임신_성공률'] = np.where(train['총_시술_횟수'] > 0, train['총_임신_횟수'] / train['총_시술_횟수'], 0)\n",
    "\n",
    "# 비율 계산 (test 데이터프레임)\n",
    "test['IVF_임신_시술_비율'] = np.where(test['IVF_시술_횟수'] > 0, test['IVF_임신_횟수'] / test['IVF_시술_횟수'], 0)\n",
    "test['DI_임신_시술_비율'] = np.where(test['DI_시술_횟수'] > 0, test['DI_임신_횟수'] / test['DI_시술_횟수'], 0)\n",
    "test['임신_성공률'] = np.where(test['총_시술_횟수'] > 0, test['총_임신_횟수'] / test['총_시술_횟수'], 0)"
   ]
  },
  {
   "cell_type": "code",
   "execution_count": 54,
   "metadata": {},
   "outputs": [],
   "source": [
    "# 변수 리스트\n",
    "columns = [\n",
    "    # '클리닉_내_총_시술_횟수', \n",
    "    # '총_시술_횟수', '총_출산_횟수', '총_임신_횟수', '임신_성공률',\n",
    "    # 'IVF_시술_횟수', 'IVF_임신_횟수', 'IVF_출산_횟수', 'IVF_임신_시술_비율',\n",
    "    # 'DI_시술_횟수', 'DI_임신_횟수', 'DI_출산_횟수', 'DI_임신_시술_비율',\n",
    "]\n",
    "\n",
    "# 변수 제거\n",
    "train = train.drop(columns=columns)\n",
    "test = test.drop(columns=columns)"
   ]
  },
  {
   "cell_type": "markdown",
   "metadata": {},
   "source": [
    "### 56. 정자_기증자_나이"
   ]
  },
  {
   "cell_type": "markdown",
   "metadata": {},
   "source": [
    "정자 기증자의 등록 당시 나이"
   ]
  },
  {
   "cell_type": "code",
   "execution_count": 55,
   "metadata": {},
   "outputs": [
    {
     "name": "stdout",
     "output_type": "stream",
     "text": [
      "\n",
      "정자_기증자_나이별 임신_성공_여부 비율 및 갯수\n",
      "\n",
      "                 0         1     0    1  Total\n",
      "variable                                      \n",
      "만20세 이하   0.859935  0.140065   264   43    307\n",
      "만21-25세   0.867880  0.132120  1097  167   1264\n",
      "만26-30세   0.873407  0.126593  1028  149   1177\n",
      "만31-35세   0.867320  0.132680   974  149   1123\n",
      "만36-40세   0.883860  0.116140  1035  136   1171\n",
      "만41-45세   0.864388  0.135612   784  123    907\n",
      "알 수 없음    0.871345  0.128655   298   44    342\n"
     ]
    }
   ],
   "source": [
    "value_counts_ratio(train, '정자_기증자_나이')"
   ]
  },
  {
   "cell_type": "code",
   "execution_count": 56,
   "metadata": {},
   "outputs": [],
   "source": [
    "# '정자_기증자_나이' 변수 값 변환\n",
    "age_mapping = {\n",
    "    '만20세 이하': 20,\n",
    "    '만21-25세': 23,\n",
    "    '만26-30세': 28,\n",
    "    '만31-35세': 32,\n",
    "    '만36-40세': 38,\n",
    "    '만41-45세': 43,\n",
    "    '알 수 없음': -1\n",
    "}\n",
    "\n",
    "train['정자_기증자_나이'] = train['정자_기증자_나이'].replace(age_mapping)\n",
    "test['정자_기증자_나이'] = test['정자_기증자_나이'].replace(age_mapping)"
   ]
  },
  {
   "cell_type": "markdown",
   "metadata": {},
   "source": [
    "### 68. 임신_성공_여부"
   ]
  },
  {
   "cell_type": "markdown",
   "metadata": {},
   "source": [
    "해당 시술로부터 임신 성공 여부"
   ]
  },
  {
   "cell_type": "code",
   "execution_count": 57,
   "metadata": {},
   "outputs": [
    {
     "data": {
      "text/plain": [
       "임신_성공_여부\n",
       "0    5480\n",
       "1     811\n",
       "Name: count, dtype: int64"
      ]
     },
     "execution_count": 57,
     "metadata": {},
     "output_type": "execute_result"
    }
   ],
   "source": [
    "train['임신_성공_여부'].value_counts()"
   ]
  },
  {
   "cell_type": "markdown",
   "metadata": {},
   "source": [
    "기타 처리"
   ]
  },
  {
   "cell_type": "code",
   "execution_count": 58,
   "metadata": {},
   "outputs": [
    {
     "name": "stdout",
     "output_type": "stream",
     "text": [
      "DI_train에는 있지만 DI_test에는 없는 열:\n",
      "{'특정_시술_유형_GIFT', '불임_원인_-_정자_형태', '임신_성공_여부'}\n"
     ]
    }
   ],
   "source": [
    "# DI_train과 DI_test의 열 비교\n",
    "train_columns = set(train.columns)\n",
    "test_columns = set(test.columns)\n",
    "\n",
    "# DI_train에는 있지만 DI_test에는 없는 열 찾기\n",
    "missing_in_test = train_columns - test_columns\n",
    "\n",
    "print(\"DI_train에는 있지만 DI_test에는 없는 열:\")\n",
    "print(missing_in_test)"
   ]
  },
  {
   "cell_type": "code",
   "execution_count": 59,
   "metadata": {},
   "outputs": [],
   "source": [
    "# 변수 제거\n",
    "train.drop(['특정_시술_유형_GIFT', '불임_원인_-_정자_형태'], axis=1, inplace=True)"
   ]
  },
  {
   "cell_type": "markdown",
   "metadata": {},
   "source": [
    "## 변수 상태 확인"
   ]
  },
  {
   "cell_type": "code",
   "execution_count": 60,
   "metadata": {},
   "outputs": [
    {
     "name": "stdout",
     "output_type": "stream",
     "text": [
      "<class 'pandas.core.frame.DataFrame'>\n",
      "RangeIndex: 6291 entries, 0 to 6290\n",
      "Data columns (total 35 columns):\n",
      " #   Column                 Non-Null Count  Dtype  \n",
      "---  ------                 --------------  -----  \n",
      " 0   ID                     6291 non-null   object \n",
      " 1   시술_당시_나이               6291 non-null   float64\n",
      " 2   임신_시도_또는_마지막_임신_경과_연수  6291 non-null   float64\n",
      " 3   배란_자극_여부               6291 non-null   int64  \n",
      " 4   남성_주_불임_원인             6291 non-null   int64  \n",
      " 5   남성_부_불임_원인             6291 non-null   int64  \n",
      " 6   여성_주_불임_원인             6291 non-null   int64  \n",
      " 7   여성_부_불임_원인             6291 non-null   int64  \n",
      " 8   부부_주_불임_원인             6291 non-null   int64  \n",
      " 9   부부_부_불임_원인             6291 non-null   int64  \n",
      " 10  불명확_불임_원인              6291 non-null   int64  \n",
      " 11  불임_원인_-_난관_질환          6291 non-null   int64  \n",
      " 12  불임_원인_-_남성_요인          6291 non-null   int64  \n",
      " 13  불임_원인_-_배란_장애          6291 non-null   int64  \n",
      " 14  불임_원인_-_자궁내막증          6291 non-null   int64  \n",
      " 15  불임_원인_-_정자_농도          6291 non-null   int64  \n",
      " 16  총_시술_횟수                6291 non-null   int64  \n",
      " 17  클리닉_내_총_시술_횟수          6291 non-null   int64  \n",
      " 18  IVF_시술_횟수              6291 non-null   int64  \n",
      " 19  DI_시술_횟수               6291 non-null   int64  \n",
      " 20  총_임신_횟수                6291 non-null   int64  \n",
      " 21  IVF_임신_횟수              6291 non-null   int64  \n",
      " 22  DI_임신_횟수               6291 non-null   int64  \n",
      " 23  총_출산_횟수                6291 non-null   int64  \n",
      " 24  IVF_출산_횟수              6291 non-null   int64  \n",
      " 25  DI_출산_횟수               6291 non-null   int64  \n",
      " 26  정자_기증자_나이              6291 non-null   int64  \n",
      " 27  임신_성공_여부               6291 non-null   int64  \n",
      " 28  특정_시술_유형_GenericDI     6291 non-null   int32  \n",
      " 29  특정_시술_유형_ICI           6291 non-null   int32  \n",
      " 30  특정_시술_유형_IUI           6291 non-null   int32  \n",
      " 31  특정_시술_유형_IVI           6291 non-null   int32  \n",
      " 32  IVF_임신_시술_비율           6291 non-null   float64\n",
      " 33  DI_임신_시술_비율            6291 non-null   float64\n",
      " 34  임신_성공률                 6291 non-null   float64\n",
      "dtypes: float64(5), int32(4), int64(25), object(1)\n",
      "memory usage: 1.6+ MB\n"
     ]
    }
   ],
   "source": [
    "train.info()"
   ]
  },
  {
   "cell_type": "code",
   "execution_count": 61,
   "metadata": {},
   "outputs": [
    {
     "name": "stdout",
     "output_type": "stream",
     "text": [
      "<class 'pandas.core.frame.DataFrame'>\n",
      "RangeIndex: 2176 entries, 0 to 2175\n",
      "Data columns (total 34 columns):\n",
      " #   Column                 Non-Null Count  Dtype  \n",
      "---  ------                 --------------  -----  \n",
      " 0   ID                     2176 non-null   object \n",
      " 1   시술_당시_나이               2176 non-null   float64\n",
      " 2   임신_시도_또는_마지막_임신_경과_연수  2176 non-null   float64\n",
      " 3   배란_자극_여부               2176 non-null   int64  \n",
      " 4   남성_주_불임_원인             2176 non-null   int64  \n",
      " 5   남성_부_불임_원인             2176 non-null   int64  \n",
      " 6   여성_주_불임_원인             2176 non-null   int64  \n",
      " 7   여성_부_불임_원인             2176 non-null   int64  \n",
      " 8   부부_주_불임_원인             2176 non-null   int64  \n",
      " 9   부부_부_불임_원인             2176 non-null   int64  \n",
      " 10  불명확_불임_원인              2176 non-null   int64  \n",
      " 11  불임_원인_-_난관_질환          2176 non-null   int64  \n",
      " 12  불임_원인_-_남성_요인          2176 non-null   int64  \n",
      " 13  불임_원인_-_배란_장애          2176 non-null   int64  \n",
      " 14  불임_원인_-_자궁내막증          2176 non-null   int64  \n",
      " 15  불임_원인_-_정자_농도          2176 non-null   int64  \n",
      " 16  총_시술_횟수                2176 non-null   int64  \n",
      " 17  클리닉_내_총_시술_횟수          2176 non-null   int64  \n",
      " 18  IVF_시술_횟수              2176 non-null   int64  \n",
      " 19  DI_시술_횟수               2176 non-null   int64  \n",
      " 20  총_임신_횟수                2176 non-null   int64  \n",
      " 21  IVF_임신_횟수              2176 non-null   int64  \n",
      " 22  DI_임신_횟수               2176 non-null   int64  \n",
      " 23  총_출산_횟수                2176 non-null   int64  \n",
      " 24  IVF_출산_횟수              2176 non-null   int64  \n",
      " 25  DI_출산_횟수               2176 non-null   int64  \n",
      " 26  정자_기증자_나이              2176 non-null   int64  \n",
      " 27  특정_시술_유형_GenericDI     2176 non-null   int32  \n",
      " 28  특정_시술_유형_ICI           2176 non-null   int32  \n",
      " 29  특정_시술_유형_IUI           2176 non-null   int32  \n",
      " 30  특정_시술_유형_IVI           2176 non-null   int32  \n",
      " 31  IVF_임신_시술_비율           2176 non-null   float64\n",
      " 32  DI_임신_시술_비율            2176 non-null   float64\n",
      " 33  임신_성공률                 2176 non-null   float64\n",
      "dtypes: float64(5), int32(4), int64(24), object(1)\n",
      "memory usage: 544.1+ KB\n"
     ]
    }
   ],
   "source": [
    "test.info()"
   ]
  },
  {
   "cell_type": "code",
   "execution_count": 62,
   "metadata": {},
   "outputs": [],
   "source": [
    "# CSV 파일로 저장 (UTF-8 인코딩)\n",
    "train.to_csv('../data/DI_train_dataset_53.csv', index=False, encoding='utf-8-sig')\n",
    "test.to_csv('../data/DI_test_dataset_53.csv', index=False, encoding='utf-8-sig')"
   ]
  },
  {
   "cell_type": "markdown",
   "metadata": {},
   "source": [
    "."
   ]
  }
 ],
 "metadata": {
  "kernelspec": {
   "display_name": "Python 3",
   "language": "python",
   "name": "python3"
  },
  "language_info": {
   "codemirror_mode": {
    "name": "ipython",
    "version": 3
   },
   "file_extension": ".py",
   "mimetype": "text/x-python",
   "name": "python",
   "nbconvert_exporter": "python",
   "pygments_lexer": "ipython3",
   "version": "3.11.8"
  }
 },
 "nbformat": 4,
 "nbformat_minor": 2
}
