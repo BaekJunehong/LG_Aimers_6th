{
 "cells": [
  {
   "cell_type": "markdown",
   "metadata": {},
   "source": [
    "## 난임 환자 대상 임신 성공 여부 예측"
   ]
  },
  {
   "cell_type": "markdown",
   "metadata": {},
   "source": [
    "### LGAimers 6th 온라인 해커톤"
   ]
  },
  {
   "cell_type": "markdown",
   "metadata": {},
   "source": [
    "Import"
   ]
  },
  {
   "cell_type": "code",
   "execution_count": 14,
   "metadata": {},
   "outputs": [],
   "source": [
    "import pandas as pd\n",
    "import lightgbm as lgb\n",
    "from sklearn.preprocessing import OrdinalEncoder\n",
    "from sklearn.model_selection import train_test_split\n",
    "from sklearn.metrics import accuracy_score, f1_score, roc_auc_score, confusion_matrix, ConfusionMatrixDisplay\n",
    "import matplotlib.pyplot as plt\n",
    "from sklearn.linear_model import LogisticRegression\n",
    "import lightgbm as lgb\n",
    "import xgboost as xgb\n",
    "from catboost import CatBoostClassifier\n",
    "from sklearn.ensemble import RandomForestClassifier"
   ]
  },
  {
   "cell_type": "markdown",
   "metadata": {},
   "source": [
    "### Data Load"
   ]
  },
  {
   "cell_type": "code",
   "execution_count": 15,
   "metadata": {},
   "outputs": [],
   "source": [
    "# 데이터 로드\n",
    "Total_train = pd.read_csv('../data/Total_train_dataset_38.csv')\n",
    "Total_test = pd.read_csv('../data/Total_test_dataset_38.csv')"
   ]
  },
  {
   "cell_type": "code",
   "execution_count": 16,
   "metadata": {},
   "outputs": [],
   "source": [
    "# ID 열을 제외한 특성과 타겟 변수 분리\n",
    "Total_X = Total_train.drop(['임신_성공_여부', 'ID'], axis=1)\n",
    "Total_y = Total_train['임신_성공_여부']"
   ]
  },
  {
   "cell_type": "markdown",
   "metadata": {},
   "source": [
    "### 인코딩 "
   ]
  },
  {
   "cell_type": "code",
   "execution_count": 17,
   "metadata": {},
   "outputs": [
    {
     "name": "stdout",
     "output_type": "stream",
     "text": [
      "<class 'pandas.core.frame.DataFrame'>\n",
      "RangeIndex: 256344 entries, 0 to 256343\n",
      "Data columns (total 100 columns):\n",
      " #   Column                 Non-Null Count   Dtype  \n",
      "---  ------                 --------------   -----  \n",
      " 0   시술_당시_나이               256344 non-null  object \n",
      " 1   임신_시도_또는_마지막_임신_경과_연수  256344 non-null  float64\n",
      " 2   배란_자극_여부               256344 non-null  int64  \n",
      " 3   배란_유도_유형               256344 non-null  object \n",
      " 4   단일_배아_이식_여부            256344 non-null  float64\n",
      " 5   착상_전_유전_검사_사용_여부       256344 non-null  float64\n",
      " 6   착상_전_유전_진단_사용_여부       256344 non-null  float64\n",
      " 7   남성_주_불임_원인             256344 non-null  int64  \n",
      " 8   남성_부_불임_원인             256344 non-null  int64  \n",
      " 9   여성_주_불임_원인             256344 non-null  int64  \n",
      " 10  여성_부_불임_원인             256344 non-null  int64  \n",
      " 11  부부_주_불임_원인             256344 non-null  int64  \n",
      " 12  부부_부_불임_원인             256344 non-null  int64  \n",
      " 13  불임원인여부_불명확             256344 non-null  int64  \n",
      " 14  불임_원인_-_난관_질환          256344 non-null  int64  \n",
      " 15  불임이유_남성요인              256344 non-null  int64  \n",
      " 16  불임_원인_-_배란_장애          256344 non-null  int64  \n",
      " 17  불임_원인_-_자궁경부_문제        256344 non-null  int64  \n",
      " 18  불임_원인_-_자궁내막증          256344 non-null  int64  \n",
      " 19  불임_원인_-_정자_농도          256344 non-null  int64  \n",
      " 20  불임_원인_-_정자_면역학적_요인     256344 non-null  int64  \n",
      " 21  불임_원인_-_정자_운동성         256344 non-null  int64  \n",
      " 22  불임_원인_-_정자_형태          256344 non-null  int64  \n",
      " 23  총_시술_횟수                256344 non-null  int64  \n",
      " 24  클리닉_내_총_시술_횟수          256344 non-null  int64  \n",
      " 25  IVF_시술_횟수              256344 non-null  int64  \n",
      " 26  DI_시술_횟수               256344 non-null  int64  \n",
      " 27  총_임신_횟수                256344 non-null  int64  \n",
      " 28  IVF_임신_횟수              256344 non-null  int64  \n",
      " 29  DI_임신_횟수               256344 non-null  int64  \n",
      " 30  총_출산_횟수                256344 non-null  int64  \n",
      " 31  IVF_출산_횟수              256344 non-null  int64  \n",
      " 32  DI_출산_횟수               256344 non-null  int64  \n",
      " 33  총_생성_배아_수              256344 non-null  float64\n",
      " 34  미세주입된_난자_수             256344 non-null  float64\n",
      " 35  미세주입에서_생성된_배아_수        256344 non-null  float64\n",
      " 36  이식된_배아_수               256344 non-null  float64\n",
      " 37  미세주입_배아_이식_수           256344 non-null  float64\n",
      " 38  저장된_배아_수               256344 non-null  float64\n",
      " 39  미세주입_후_저장된_배아_수        256344 non-null  float64\n",
      " 40  해동된_배아_수               256344 non-null  float64\n",
      " 41  해동_난자_수                256344 non-null  float64\n",
      " 42  수집된_신선_난자_수            256344 non-null  float64\n",
      " 43  저장된_신선_난자_수            256344 non-null  float64\n",
      " 44  혼합된_난자_수               256344 non-null  float64\n",
      " 45  파트너_정자와_혼합된_난자_수       256344 non-null  float64\n",
      " 46  기증자_정자와_혼합된_난자_수       256344 non-null  float64\n",
      " 47  난자_출처                  256344 non-null  object \n",
      " 48  정자_출처                  256344 non-null  object \n",
      " 49  난자_기증자_나이              256344 non-null  object \n",
      " 50  정자_기증자_나이              256344 non-null  object \n",
      " 51  동결_배아_사용_여부            256344 non-null  float64\n",
      " 52  신선_배아_사용_여부            256344 non-null  float64\n",
      " 53  기증_배아_사용_여부            256344 non-null  float64\n",
      " 54  대리모_여부                 256344 non-null  float64\n",
      " 55  PGD_시술_여부              256344 non-null  float64\n",
      " 56  PGS_시술_여부              256344 non-null  float64\n",
      " 57  난자_채취_경과일              256344 non-null  float64\n",
      " 58  난자_해동_경과일              256344 non-null  float64\n",
      " 59  난자_혼합_경과일              256344 non-null  float64\n",
      " 60  배아_이식_경과일              256344 non-null  float64\n",
      " 61  배아_해동_경과일              256344 non-null  float64\n",
      " 62  시술_시기_코드_TRCMWS        256344 non-null  int64  \n",
      " 63  시술_시기_코드_TRDQAZ        256344 non-null  int64  \n",
      " 64  시술_시기_코드_TRJXFG        256344 non-null  int64  \n",
      " 65  시술_시기_코드_TRVNRY        256344 non-null  int64  \n",
      " 66  시술_시기_코드_TRXQMD        256344 non-null  int64  \n",
      " 67  시술_시기_코드_TRYBLT        256344 non-null  int64  \n",
      " 68  시술_시기_코드_TRZKPL        256344 non-null  int64  \n",
      " 69  시술_유형_DI               256344 non-null  int64  \n",
      " 70  시술_유형_IVF              256344 non-null  int64  \n",
      " 71  특정_시술_유형_AH            256344 non-null  int64  \n",
      " 72  특정_시술_유형_BLASTOCYST    256344 non-null  int64  \n",
      " 73  특정_시술_유형_GenericDI     256344 non-null  int64  \n",
      " 74  특정_시술_유형_ICI           256344 non-null  int64  \n",
      " 75  특정_시술_유형_ICSI          256344 non-null  int64  \n",
      " 76  특정_시술_유형_IUI           256344 non-null  int64  \n",
      " 77  특정_시술_유형_IVF           256344 non-null  int64  \n",
      " 78  특정_시술_유형_IVI           256344 non-null  int64  \n",
      " 79  불임원인여부_남성관련            256344 non-null  int64  \n",
      " 80  불임원인여부_여성관련            256344 non-null  int64  \n",
      " 81  불임원인여부_부부관련            256344 non-null  int64  \n",
      " 82  불임이유_정자관련              256344 non-null  int64  \n",
      " 83  불임이유_자궁관련              256344 non-null  int64  \n",
      " 84  배아_생성_주요_이유_기증용        256344 non-null  int64  \n",
      " 85  배아_생성_주요_이유_난자 저장용     256344 non-null  int64  \n",
      " 86  배아_생성_주요_이유_배아 저장용     256344 non-null  int64  \n",
      " 87  배아_생성_주요_이유_현재 시술용     256344 non-null  int64  \n",
      " 88  IVF_임신_시술_비율           256344 non-null  float64\n",
      " 89  DI_임신_시술_비율            256344 non-null  float64\n",
      " 90  임신_성공률                 256344 non-null  float64\n",
      " 91  저장된_배아_수_17이상          256344 non-null  int64  \n",
      " 92  미세주입_후_저장된_배아_수_14이상   256344 non-null  int64  \n",
      " 93  수집된_신선난자수_적정           256344 non-null  int64  \n",
      " 94  저장된_신선난자수_초괴           256344 non-null  int64  \n",
      " 95  난자채취_적정기간              256344 non-null  int64  \n",
      " 96  난자해동_적정기간              256344 non-null  int64  \n",
      " 97  난자혼합_적정기간              256344 non-null  int64  \n",
      " 98  배아이식_적정기간              256344 non-null  int64  \n",
      " 99  배아해동_적정기간              256344 non-null  int64  \n",
      "dtypes: float64(32), int64(62), object(6)\n",
      "memory usage: 195.6+ MB\n"
     ]
    }
   ],
   "source": [
    "Total_X.info()"
   ]
  },
  {
   "cell_type": "code",
   "execution_count": 18,
   "metadata": {},
   "outputs": [],
   "source": [
    "Total_categorical_columns = [\n",
    "    \"시술_당시_나이\",\n",
    "    \"배란_유도_유형\",\n",
    "    \"난자_출처\",\n",
    "    \"정자_출처\",\n",
    "    \"난자_기증자_나이\",\n",
    "    \"정자_기증자_나이\"\n",
    "]"
   ]
  },
  {
   "cell_type": "code",
   "execution_count": 19,
   "metadata": {},
   "outputs": [],
   "source": [
    "# 모든 범주형 변수를 문자열로 변환\n",
    "Total_X[Total_categorical_columns] = Total_X[Total_categorical_columns].astype(str)\n",
    "Total_test[Total_categorical_columns] = Total_test[Total_categorical_columns].astype(str)\n",
    "\n",
    "# OrdinalEncoder를 사용하여 범주형 변수 인코딩\n",
    "Total_encoder = OrdinalEncoder(handle_unknown='use_encoded_value', unknown_value=-1)\n",
    "\n",
    "Total_X[Total_categorical_columns] = Total_encoder.fit_transform(Total_X[Total_categorical_columns])\n",
    "Total_test[Total_categorical_columns] = Total_encoder.transform(Total_test[Total_categorical_columns])"
   ]
  },
  {
   "cell_type": "markdown",
   "metadata": {},
   "source": [
    "## Modeling"
   ]
  },
  {
   "cell_type": "code",
   "execution_count": 20,
   "metadata": {},
   "outputs": [],
   "source": [
    "# 데이터 분할\n",
    "Total_X_train, Total_X_test, Total_y_train, Total_y_test = train_test_split(Total_X, Total_y, test_size=0.2, random_state=42)"
   ]
  },
  {
   "cell_type": "markdown",
   "metadata": {},
   "source": [
    "### Total 데이터"
   ]
  },
  {
   "cell_type": "code",
   "execution_count": 21,
   "metadata": {},
   "outputs": [],
   "source": [
    "import pandas as pd\n",
    "import numpy as np\n",
    "import torch\n",
    "import torch.nn as nn\n",
    "import torch.optim as optim\n",
    "from torch.utils.data import DataLoader, Dataset, random_split\n",
    "from sklearn.preprocessing import StandardScaler\n"
   ]
  },
  {
   "cell_type": "code",
   "execution_count": 22,
   "metadata": {},
   "outputs": [],
   "source": [
    "class TabularDataset(Dataset):\n",
    "    def __init__(self, X, y):\n",
    "        self.X = X\n",
    "        self.y = y\n",
    "\n",
    "    def __len__(self):\n",
    "        return len(self.X)\n",
    "\n",
    "    def __getitem__(self, idx):\n",
    "        return self.X[idx], self.y[idx]\n"
   ]
  },
  {
   "cell_type": "code",
   "execution_count": 23,
   "metadata": {},
   "outputs": [],
   "source": [
    "# 데이터 표준화\n",
    "scaler = StandardScaler()\n",
    "Total_X_train = scaler.fit_transform(Total_X_train)\n",
    "Total_X_test = scaler.transform(Total_X_test)\n",
    "\n",
    "# PyTorch Dataset 생성\n",
    "train_dataset = TabularDataset(torch.FloatTensor(Total_X_train), torch.FloatTensor(Total_y_train.values))  # .values 추가\n",
    "test_dataset = TabularDataset(torch.FloatTensor(Total_X_test), torch.FloatTensor(Total_y_test.values))  # .values 추가\n",
    "\n",
    "# DataLoader 생성\n",
    "train_loader = DataLoader(train_dataset, batch_size=32, shuffle=True)\n",
    "test_loader = DataLoader(test_dataset, batch_size=32, shuffle=False)\n"
   ]
  },
  {
   "cell_type": "code",
   "execution_count": 24,
   "metadata": {},
   "outputs": [],
   "source": [
    "class NeuralNetwork(nn.Module):\n",
    "    def __init__(self, input_size):\n",
    "        super(NeuralNetwork, self).__init__()\n",
    "        self.fc1 = nn.Linear(input_size, 64)  # 첫 번째 층 노드 수 증가\n",
    "        self.relu = nn.ReLU()\n",
    "        self.fc2 = nn.Linear(64, 32)  # 두 번째 층 노드 수 증가\n",
    "        self.fc3 = nn.Linear(32, 16)  # 세 번째 층 추가\n",
    "        self.fc4 = nn.Linear(16, 8)  # 네 번째 층 추가\n",
    "        self.fc5 = nn.Linear(8, 1)  # 출력층\n",
    "        self.sigmoid = nn.Sigmoid()\n",
    "        self.dropout = nn.Dropout(0.5)  # 드롭아웃 추가\n",
    "\n",
    "    def forward(self, x):\n",
    "        x = self.fc1(x)\n",
    "        x = self.relu(x)\n",
    "        x = self.dropout(x)  # 드롭아웃 적용\n",
    "        x = self.fc2(x)\n",
    "        x = self.relu(x)\n",
    "        x = self.dropout(x)  # 드롭아웃 적용\n",
    "        x = self.fc3(x)\n",
    "        x = self.relu(x)\n",
    "        x = self.fc4(x)\n",
    "        x = self.relu(x)\n",
    "        x = self.fc5(x)\n",
    "        return self.sigmoid(x)\n"
   ]
  },
  {
   "cell_type": "code",
   "execution_count": 25,
   "metadata": {},
   "outputs": [
    {
     "name": "stdout",
     "output_type": "stream",
     "text": [
      "Epoch [1/30], Loss: 0.7440\n",
      "Epoch [2/30], Loss: 0.6394\n",
      "Epoch [3/30], Loss: 0.6772\n",
      "Epoch [4/30], Loss: 0.7148\n",
      "Epoch [5/30], Loss: 0.5216\n",
      "Epoch [6/30], Loss: 0.5512\n",
      "Epoch [7/30], Loss: 0.6615\n",
      "Epoch [8/30], Loss: 0.6476\n",
      "Epoch [9/30], Loss: 0.6102\n",
      "Epoch [10/30], Loss: 0.7129\n",
      "Epoch [11/30], Loss: 0.5269\n",
      "Epoch [12/30], Loss: 0.6473\n",
      "Epoch [13/30], Loss: 0.4333\n",
      "Epoch [14/30], Loss: 0.3709\n",
      "Epoch [15/30], Loss: 0.5730\n",
      "Epoch [16/30], Loss: 0.4609\n",
      "Epoch [17/30], Loss: 0.3930\n",
      "Epoch [18/30], Loss: 0.5190\n",
      "Epoch [19/30], Loss: 0.3841\n",
      "Epoch [20/30], Loss: 0.5748\n",
      "Epoch [21/30], Loss: 0.5377\n",
      "Epoch [22/30], Loss: 0.3402\n",
      "Epoch [23/30], Loss: 0.5671\n",
      "Epoch [24/30], Loss: 0.4805\n",
      "Epoch [25/30], Loss: 0.5982\n",
      "Epoch [26/30], Loss: 0.5695\n",
      "Epoch [27/30], Loss: 0.3576\n",
      "Epoch [28/30], Loss: 0.6590\n",
      "Epoch [29/30], Loss: 0.3626\n",
      "Epoch [30/30], Loss: 0.4970\n"
     ]
    }
   ],
   "source": [
    "# 하이퍼파라미터 설정\n",
    "input_size = Total_X_train.shape[1]\n",
    "epochs = 30\n",
    "learning_rate = 0.001  # 필요시 학습률 조정 가능\n",
    "\n",
    "# 모델, 손실 함수, 옵티마이저 정의\n",
    "model = NeuralNetwork(input_size)\n",
    "criterion = nn.BCELoss()\n",
    "optimizer = optim.SGD(model.parameters(), lr=learning_rate)\n",
    "\n",
    "# 모델 훈련\n",
    "for epoch in range(epochs):\n",
    "    for inputs, targets in train_loader:\n",
    "        optimizer.zero_grad()\n",
    "        outputs = model(inputs).squeeze()\n",
    "        loss = criterion(outputs, targets)\n",
    "        loss.backward()\n",
    "        optimizer.step()\n",
    "\n",
    "    print(f'Epoch [{epoch+1}/{epochs}], Loss: {loss.item():.4f}')\n"
   ]
  },
  {
   "cell_type": "code",
   "execution_count": 26,
   "metadata": {},
   "outputs": [
    {
     "name": "stdout",
     "output_type": "stream",
     "text": [
      "AUC Score: 0.7281\n"
     ]
    }
   ],
   "source": [
    "from sklearn.metrics import roc_auc_score\n",
    "\n",
    "# 모델 평가\n",
    "model.eval()  # 평가 모드로 변경\n",
    "with torch.no_grad():\n",
    "    predictions = []\n",
    "    true_labels = []\n",
    "    for inputs, targets in test_loader:\n",
    "        outputs = model(inputs).squeeze()\n",
    "        predicted_probabilities = outputs.numpy()  # 확률로 변환\n",
    "        predictions.extend(predicted_probabilities)\n",
    "        true_labels.extend(targets.numpy())  # 실제 라벨 추가\n",
    "\n",
    "# AUC 계산\n",
    "auc_score = roc_auc_score(true_labels, predictions)\n",
    "print(f'AUC Score: {auc_score:.4f}')\n"
   ]
  },
  {
   "cell_type": "markdown",
   "metadata": {},
   "source": [
    "## 제출"
   ]
  },
  {
   "cell_type": "markdown",
   "metadata": {},
   "source": [
    "----"
   ]
  },
  {
   "cell_type": "markdown",
   "metadata": {},
   "source": [
    "."
   ]
  }
 ],
 "metadata": {
  "kernelspec": {
   "display_name": "Python 3",
   "language": "python",
   "name": "python3"
  },
  "language_info": {
   "codemirror_mode": {
    "name": "ipython",
    "version": 3
   },
   "file_extension": ".py",
   "mimetype": "text/x-python",
   "name": "python",
   "nbconvert_exporter": "python",
   "pygments_lexer": "ipython3",
   "version": "3.7.8"
  }
 },
 "nbformat": 4,
 "nbformat_minor": 2
}
