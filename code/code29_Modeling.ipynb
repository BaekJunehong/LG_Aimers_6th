{
 "cells": [
  {
   "cell_type": "markdown",
   "metadata": {},
   "source": [
    "## 난임 환자 대상 임신 성공 여부 예측"
   ]
  },
  {
   "cell_type": "markdown",
   "metadata": {},
   "source": [
    "### LGAimers 6th 온라인 해커톤"
   ]
  },
  {
   "cell_type": "markdown",
   "metadata": {},
   "source": [
    "Import"
   ]
  },
  {
   "cell_type": "markdown",
   "metadata": {},
   "source": [
    "소프트 보팅"
   ]
  },
  {
   "cell_type": "code",
   "execution_count": null,
   "metadata": {},
   "outputs": [],
   "source": [
    "# import pandas as pd\n",
    "\n",
    "# # 두 CSV 파일을 읽어옵니다.\n",
    "# df1 = pd.read_csv('../submission/code29_submit_lgbm.csv')\n",
    "# df2 = pd.read_csv('../submission/code29_submit_xgb.csv')\n",
    "\n",
    "# # ID를 기준으로 병합합니다.\n",
    "# merged_df = pd.merge(df1, df2, on='ID', suffixes=('_df1', '_df2'))\n",
    "\n",
    "# # 'probability' 열을 소프트 보팅하여 새로운 'probability' 열 생성\n",
    "# merged_df['probability'] = (merged_df['probability_df1'] + merged_df['probability_df2']) / 2\n",
    "\n",
    "# # 최종 제출 파일 생성\n",
    "# submission = merged_df[['ID', 'probability']]\n",
    "# submission = submission.sort_values(by='ID')\n",
    "\n",
    "# # 제출 파일 저장\n",
    "# submission.to_csv('../submission/code29_soft_voting.csv', index=False, encoding='utf-8')"
   ]
  },
  {
   "cell_type": "markdown",
   "metadata": {},
   "source": [
    "특정확률 기반 보팅"
   ]
  },
  {
   "cell_type": "code",
   "execution_count": 11,
   "metadata": {},
   "outputs": [],
   "source": [
    "import pandas as pd\n",
    "\n",
    "# 두 CSV 파일을 읽어옵니다.\n",
    "df1 = pd.read_csv('../submission/code29_submit_lgbm.csv')\n",
    "df2 = pd.read_csv('../submission/code29_submit_xgb.csv')\n",
    "\n",
    "# ID를 기준으로 병합합니다.\n",
    "merged_df = pd.merge(df1, df2, on='ID', suffixes=('_df1', '_df2'))\n",
    "\n",
    "# 'probability' 열을 조건에 따라 선택하여 새로운 'probability' 열 생성\n",
    "def select_probability(row):\n",
    "    if row['probability_df1'] > 0.35 and row['probability_df2'] > 0.35:\n",
    "        return max(row['probability_df1'], row['probability_df2'])\n",
    "    elif row['probability_df1'] < 0.25 and row['probability_df2'] < 0.25:\n",
    "        return min(row['probability_df1'], row['probability_df2'])\n",
    "    else:\n",
    "        return row['probability_df1']\n",
    "\n",
    "merged_df['probability'] = merged_df.apply(select_probability, axis=1)\n",
    "\n",
    "# 최종 제출 파일 생성\n",
    "submission = merged_df[['ID', 'probability']]\n",
    "submission = submission.sort_values(by='ID')\n",
    "\n",
    "# 제출 파일 저장\n",
    "submission.to_csv('../submission/code29_upgrad_voting.csv', index=False, encoding='utf-8')"
   ]
  },
  {
   "cell_type": "markdown",
   "metadata": {},
   "source": [
    "데이콘 PUBLIC 0.7415106675"
   ]
  },
  {
   "cell_type": "markdown",
   "metadata": {},
   "source": [
    "데이터파일 확인"
   ]
  },
  {
   "cell_type": "code",
   "execution_count": 9,
   "metadata": {},
   "outputs": [],
   "source": [
    "import pandas as pd\n",
    "\n",
    "# 두 CSV 파일을 읽어옵니다.\n",
    "df1 = pd.read_csv('../submission/code29_submit_lgbm.csv')\n",
    "df2 = pd.read_csv('../submission/code29_submit_xgb.csv')\n",
    "\n",
    "# ID를 기준으로 병합하여 값이 다른 행을 찾습니다.\n",
    "merged_df = pd.merge(df1, df2, on='ID', suffixes=('_df1', '_df2'))\n",
    "\n",
    "# 'probability' 열의 값이 다른 행을 필터링합니다.\n",
    "different_rows = merged_df[merged_df['probability_df1'] != merged_df['probability_df2']]"
   ]
  },
  {
   "cell_type": "code",
   "execution_count": 12,
   "metadata": {},
   "outputs": [
    {
     "data": {
      "text/html": [
       "<div>\n",
       "<style scoped>\n",
       "    .dataframe tbody tr th:only-of-type {\n",
       "        vertical-align: middle;\n",
       "    }\n",
       "\n",
       "    .dataframe tbody tr th {\n",
       "        vertical-align: top;\n",
       "    }\n",
       "\n",
       "    .dataframe thead th {\n",
       "        text-align: right;\n",
       "    }\n",
       "</style>\n",
       "<table border=\"1\" class=\"dataframe\">\n",
       "  <thead>\n",
       "    <tr style=\"text-align: right;\">\n",
       "      <th></th>\n",
       "      <th>ID</th>\n",
       "      <th>probability_df1</th>\n",
       "      <th>probability_df2</th>\n",
       "    </tr>\n",
       "  </thead>\n",
       "  <tbody>\n",
       "    <tr>\n",
       "      <th>90057</th>\n",
       "      <td>TEST_90057</td>\n",
       "      <td>0.316524</td>\n",
       "      <td>0.300430</td>\n",
       "    </tr>\n",
       "    <tr>\n",
       "      <th>90058</th>\n",
       "      <td>TEST_90058</td>\n",
       "      <td>0.211843</td>\n",
       "      <td>0.219525</td>\n",
       "    </tr>\n",
       "    <tr>\n",
       "      <th>90059</th>\n",
       "      <td>TEST_90059</td>\n",
       "      <td>0.412616</td>\n",
       "      <td>0.420941</td>\n",
       "    </tr>\n",
       "    <tr>\n",
       "      <th>90060</th>\n",
       "      <td>TEST_90060</td>\n",
       "      <td>0.283568</td>\n",
       "      <td>0.279563</td>\n",
       "    </tr>\n",
       "    <tr>\n",
       "      <th>90061</th>\n",
       "      <td>TEST_90061</td>\n",
       "      <td>0.398413</td>\n",
       "      <td>0.396282</td>\n",
       "    </tr>\n",
       "    <tr>\n",
       "      <th>90062</th>\n",
       "      <td>TEST_90062</td>\n",
       "      <td>0.001912</td>\n",
       "      <td>0.001657</td>\n",
       "    </tr>\n",
       "    <tr>\n",
       "      <th>90063</th>\n",
       "      <td>TEST_90063</td>\n",
       "      <td>0.311417</td>\n",
       "      <td>0.292206</td>\n",
       "    </tr>\n",
       "    <tr>\n",
       "      <th>90064</th>\n",
       "      <td>TEST_90064</td>\n",
       "      <td>0.497701</td>\n",
       "      <td>0.457681</td>\n",
       "    </tr>\n",
       "    <tr>\n",
       "      <th>90065</th>\n",
       "      <td>TEST_90065</td>\n",
       "      <td>0.182975</td>\n",
       "      <td>0.173492</td>\n",
       "    </tr>\n",
       "    <tr>\n",
       "      <th>90066</th>\n",
       "      <td>TEST_90066</td>\n",
       "      <td>0.001047</td>\n",
       "      <td>0.000810</td>\n",
       "    </tr>\n",
       "  </tbody>\n",
       "</table>\n",
       "</div>"
      ],
      "text/plain": [
       "               ID  probability_df1  probability_df2\n",
       "90057  TEST_90057         0.316524         0.300430\n",
       "90058  TEST_90058         0.211843         0.219525\n",
       "90059  TEST_90059         0.412616         0.420941\n",
       "90060  TEST_90060         0.283568         0.279563\n",
       "90061  TEST_90061         0.398413         0.396282\n",
       "90062  TEST_90062         0.001912         0.001657\n",
       "90063  TEST_90063         0.311417         0.292206\n",
       "90064  TEST_90064         0.497701         0.457681\n",
       "90065  TEST_90065         0.182975         0.173492\n",
       "90066  TEST_90066         0.001047         0.000810"
      ]
     },
     "execution_count": 12,
     "metadata": {},
     "output_type": "execute_result"
    }
   ],
   "source": [
    "different_rows.tail(10)"
   ]
  },
  {
   "cell_type": "markdown",
   "metadata": {},
   "source": [
    "."
   ]
  }
 ],
 "metadata": {
  "kernelspec": {
   "display_name": "Python 3",
   "language": "python",
   "name": "python3"
  },
  "language_info": {
   "codemirror_mode": {
    "name": "ipython",
    "version": 3
   },
   "file_extension": ".py",
   "mimetype": "text/x-python",
   "name": "python",
   "nbconvert_exporter": "python",
   "pygments_lexer": "ipython3",
   "version": "3.7.8"
  }
 },
 "nbformat": 4,
 "nbformat_minor": 2
}
