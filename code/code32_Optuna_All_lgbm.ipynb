{
 "cells": [
  {
   "cell_type": "markdown",
   "metadata": {},
   "source": [
    "## 난임 환자 대상 임신 성공 여부 예측"
   ]
  },
  {
   "cell_type": "markdown",
   "metadata": {},
   "source": [
    "### LGAimers 6th 온라인 해커톤"
   ]
  },
  {
   "cell_type": "markdown",
   "metadata": {},
   "source": [
    "Import"
   ]
  },
  {
   "cell_type": "code",
   "execution_count": 26,
   "metadata": {},
   "outputs": [],
   "source": [
    "import pandas as pd\n",
    "import optuna\n",
    "from sklearn.preprocessing import OrdinalEncoder\n",
    "from sklearn.model_selection import train_test_split\n",
    "from sklearn.metrics import accuracy_score, f1_score, roc_auc_score, confusion_matrix, ConfusionMatrixDisplay\n",
    "import matplotlib.pyplot as plt\n",
    "import lightgbm as lgb"
   ]
  },
  {
   "cell_type": "markdown",
   "metadata": {},
   "source": [
    "### Data Load"
   ]
  },
  {
   "cell_type": "code",
   "execution_count": 27,
   "metadata": {},
   "outputs": [],
   "source": [
    "# 데이터 로드\n",
    "Total_train = pd.read_csv('../data/Total_train_dataset_32.csv')\n",
    "Total_test = pd.read_csv('../data/Total_test_dataset_32.csv')"
   ]
  },
  {
   "cell_type": "code",
   "execution_count": 28,
   "metadata": {},
   "outputs": [],
   "source": [
    "# ID 열을 제외한 특성과 타겟 변수 분리\n",
    "Total_X = Total_train.drop(['임신_성공_여부', 'ID'], axis=1)\n",
    "Total_y = Total_train['임신_성공_여부']"
   ]
  },
  {
   "cell_type": "markdown",
   "metadata": {},
   "source": [
    "### 인코딩 "
   ]
  },
  {
   "cell_type": "code",
   "execution_count": 29,
   "metadata": {},
   "outputs": [],
   "source": [
    "Total_categorical_columns = [\n",
    "    \"시술_당시_나이\",\n",
    "    \"배란_유도_유형\",\n",
    "    \"난자_출처\",\n",
    "    \"정자_출처\",\n",
    "    \"난자_기증자_나이\",\n",
    "    \"정자_기증자_나이\"\n",
    "]"
   ]
  },
  {
   "cell_type": "code",
   "execution_count": 30,
   "metadata": {},
   "outputs": [],
   "source": [
    "# 모든 범주형 변수를 문자열로 변환\n",
    "Total_X[Total_categorical_columns] = Total_X[Total_categorical_columns].astype(str)\n",
    "Total_test[Total_categorical_columns] = Total_test[Total_categorical_columns].astype(str)\n",
    "\n",
    "# OrdinalEncoder를 사용하여 범주형 변수 인코딩\n",
    "Total_encoder = OrdinalEncoder(handle_unknown='use_encoded_value', unknown_value=-1)\n",
    "\n",
    "Total_X[Total_categorical_columns] = Total_encoder.fit_transform(Total_X[Total_categorical_columns])\n",
    "Total_test[Total_categorical_columns] = Total_encoder.transform(Total_test[Total_categorical_columns])"
   ]
  },
  {
   "cell_type": "markdown",
   "metadata": {},
   "source": [
    "## Modeling"
   ]
  },
  {
   "cell_type": "code",
   "execution_count": 31,
   "metadata": {},
   "outputs": [],
   "source": [
    "# 데이터 분할\n",
    "Total_X_train, Total_X_test, Total_y_train, Total_y_test = train_test_split(Total_X, Total_y, test_size=0.2, random_state=42)"
   ]
  },
  {
   "cell_type": "markdown",
   "metadata": {},
   "source": [
    "### Total 데이터"
   ]
  },
  {
   "cell_type": "markdown",
   "metadata": {},
   "source": [
    "optuna"
   ]
  },
  {
   "cell_type": "code",
   "execution_count": 32,
   "metadata": {},
   "outputs": [
    {
     "name": "stderr",
     "output_type": "stream",
     "text": [
      "[I 2025-02-16 13:42:31,039] A new study created in memory with name: no-name-7426a5be-e245-40ee-a6ff-e6301d27fc06\n",
      "[I 2025-02-16 13:42:40,559] Trial 0 finished with value: 0.7342956504325373 and parameters: {'n_estimators': 2452, 'num_leaves': 646, 'max_depth': 295, 'learning_rate': 0.1506310150441879, 'min_child_samples': 4, 'subsample': 0.6667793661211553, 'colsample_bytree': 0.9777300787314716, 'reg_alpha': 9.781614248096584, 'reg_lambda': 3.4821211122603057}. Best is trial 0 with value: 0.7342956504325373.\n",
      "[I 2025-02-16 13:42:50,239] Trial 1 finished with value: 0.73483596994366 and parameters: {'n_estimators': 1585, 'num_leaves': 2239, 'max_depth': 139, 'learning_rate': 0.19393610653218132, 'min_child_samples': 142, 'subsample': 0.764845699246905, 'colsample_bytree': 0.5975600135919459, 'reg_alpha': 9.30764429632497, 'reg_lambda': 8.3885111738792}. Best is trial 1 with value: 0.73483596994366.\n",
      "[I 2025-02-16 13:43:07,652] Trial 2 finished with value: 0.736850177797556 and parameters: {'n_estimators': 3326, 'num_leaves': 2299, 'max_depth': 140, 'learning_rate': 0.08414769448462212, 'min_child_samples': 167, 'subsample': 0.9395058312882878, 'colsample_bytree': 0.87197366168238, 'reg_alpha': 9.197143491172232, 'reg_lambda': 7.6215572510893415}. Best is trial 2 with value: 0.736850177797556.\n",
      "[I 2025-02-16 13:43:34,172] Trial 3 finished with value: 0.7283277390779583 and parameters: {'n_estimators': 885, 'num_leaves': 1310, 'max_depth': 222, 'learning_rate': 0.050327918029831976, 'min_child_samples': 272, 'subsample': 0.884323875773823, 'colsample_bytree': 0.8550433251461407, 'reg_alpha': 3.551357458214781, 'reg_lambda': 1.9144364443605366}. Best is trial 2 with value: 0.736850177797556.\n",
      "[I 2025-02-16 13:43:48,913] Trial 4 finished with value: 0.731844424075017 and parameters: {'n_estimators': 1380, 'num_leaves': 2868, 'max_depth': 265, 'learning_rate': 0.11278815997049882, 'min_child_samples': 282, 'subsample': 0.7536374113556121, 'colsample_bytree': 0.6700924916713635, 'reg_alpha': 6.857200991984981, 'reg_lambda': 9.64322442636389}. Best is trial 2 with value: 0.736850177797556.\n",
      "[I 2025-02-16 13:44:23,830] Trial 5 finished with value: 0.7179381065037127 and parameters: {'n_estimators': 852, 'num_leaves': 2501, 'max_depth': 236, 'learning_rate': 0.07458746113280436, 'min_child_samples': 189, 'subsample': 0.9606548041703087, 'colsample_bytree': 0.8153553517065597, 'reg_alpha': 1.3931464175163544, 'reg_lambda': 9.157743511225215}. Best is trial 2 with value: 0.736850177797556.\n",
      "[I 2025-02-16 13:44:39,076] Trial 6 finished with value: 0.7350118323860674 and parameters: {'n_estimators': 3482, 'num_leaves': 3073, 'max_depth': 224, 'learning_rate': 0.12382539930971874, 'min_child_samples': 14, 'subsample': 0.8779626493527344, 'colsample_bytree': 0.9595276701550517, 'reg_alpha': 9.060922805405625, 'reg_lambda': 7.427397055375108}. Best is trial 2 with value: 0.736850177797556.\n",
      "[I 2025-02-16 13:44:59,171] Trial 7 finished with value: 0.7348103621910461 and parameters: {'n_estimators': 3376, 'num_leaves': 2003, 'max_depth': 163, 'learning_rate': 0.07844929760974562, 'min_child_samples': 61, 'subsample': 0.7079572522429326, 'colsample_bytree': 0.6515966932376536, 'reg_alpha': 7.645630112617724, 'reg_lambda': 1.0088745984281955}. Best is trial 2 with value: 0.736850177797556.\n",
      "[I 2025-02-16 13:46:13,118] Trial 8 finished with value: 0.7181705449119717 and parameters: {'n_estimators': 1795, 'num_leaves': 1362, 'max_depth': 94, 'learning_rate': 0.03598218180240086, 'min_child_samples': 89, 'subsample': 0.5220213361597379, 'colsample_bytree': 0.879776038133794, 'reg_alpha': 3.303755653527264, 'reg_lambda': 1.8858802318608825}. Best is trial 2 with value: 0.736850177797556.\n",
      "[I 2025-02-16 13:46:40,113] Trial 9 finished with value: 0.730370490197877 and parameters: {'n_estimators': 3051, 'num_leaves': 2689, 'max_depth': 100, 'learning_rate': 0.08517312374269546, 'min_child_samples': 300, 'subsample': 0.6220239225055555, 'colsample_bytree': 0.5952418746618984, 'reg_alpha': 5.611393936945155, 'reg_lambda': 8.190271041663234}. Best is trial 2 with value: 0.736850177797556.\n",
      "[I 2025-02-16 13:47:33,115] Trial 10 finished with value: 0.7356889022564872 and parameters: {'n_estimators': 2515, 'num_leaves': 3432, 'max_depth': 27, 'learning_rate': 0.012217566419268508, 'min_child_samples': 179, 'subsample': 0.9945867724188032, 'colsample_bytree': 0.7561619425742204, 'reg_alpha': 0.3735363603112791, 'reg_lambda': 6.0285656825217036}. Best is trial 2 with value: 0.736850177797556.\n",
      "[I 2025-02-16 13:47:51,866] Trial 11 finished with value: 0.7432784987566639 and parameters: {'n_estimators': 2520, 'num_leaves': 3436, 'max_depth': 7, 'learning_rate': 0.020370897990953582, 'min_child_samples': 201, 'subsample': 0.9640873806078007, 'colsample_bytree': 0.7505403928583951, 'reg_alpha': 0.34209185485907817, 'reg_lambda': 5.966232494709316}. Best is trial 11 with value: 0.7432784987566639.\n",
      "[I 2025-02-16 13:48:48,573] Trial 12 finished with value: 0.7319799827902571 and parameters: {'n_estimators': 2629, 'num_leaves': 3411, 'max_depth': 20, 'learning_rate': 0.021007096975059397, 'min_child_samples': 226, 'subsample': 0.8836309670479714, 'colsample_bytree': 0.5059775459558395, 'reg_alpha': 2.895953480119063, 'reg_lambda': 5.603514694381258}. Best is trial 11 with value: 0.7432784987566639.\n",
      "[I 2025-02-16 13:49:43,366] Trial 13 finished with value: 0.7442765365006154 and parameters: {'n_estimators': 2920, 'num_leaves': 1085, 'max_depth': 342, 'learning_rate': 0.002335181684881029, 'min_child_samples': 346, 'subsample': 0.9237951773840164, 'colsample_bytree': 0.7727059591542583, 'reg_alpha': 5.409782950317281, 'reg_lambda': 6.931976010745039}. Best is trial 13 with value: 0.7442765365006154.\n",
      "[I 2025-02-16 13:50:30,046] Trial 14 finished with value: 0.7428338585751563 and parameters: {'n_estimators': 2147, 'num_leaves': 1429, 'max_depth': 350, 'learning_rate': 0.004924065176124412, 'min_child_samples': 346, 'subsample': 0.8345111830876067, 'colsample_bytree': 0.7506603285313136, 'reg_alpha': 4.965390142949903, 'reg_lambda': 4.314212969242156}. Best is trial 13 with value: 0.7442765365006154.\n",
      "[I 2025-02-16 13:51:06,261] Trial 15 finished with value: 0.7290060810041885 and parameters: {'n_estimators': 2865, 'num_leaves': 772, 'max_depth': 325, 'learning_rate': 0.05041959083482153, 'min_child_samples': 226, 'subsample': 0.8155268043424562, 'colsample_bytree': 0.7037019152035683, 'reg_alpha': 5.075523697437708, 'reg_lambda': 6.463371005130113}. Best is trial 13 with value: 0.7442765365006154.\n",
      "[I 2025-02-16 13:52:53,529] Trial 16 finished with value: 0.7134152825207472 and parameters: {'n_estimators': 2131, 'num_leaves': 1769, 'max_depth': 66, 'learning_rate': 0.03713629912797979, 'min_child_samples': 120, 'subsample': 0.9970539919869239, 'colsample_bytree': 0.798569363748237, 'reg_alpha': 1.9904815978747892, 'reg_lambda': 4.214230546047665}. Best is trial 13 with value: 0.7442765365006154.\n",
      "[I 2025-02-16 13:54:07,900] Trial 17 finished with value: 0.7433633651274818 and parameters: {'n_estimators': 2935, 'num_leaves': 1037, 'max_depth': 179, 'learning_rate': 0.003695485561292445, 'min_child_samples': 349, 'subsample': 0.9263092538125983, 'colsample_bytree': 0.6930451514631091, 'reg_alpha': 6.383126079073335, 'reg_lambda': 6.936799701160993}. Best is trial 13 with value: 0.7442765365006154.\n",
      "[I 2025-02-16 13:54:50,160] Trial 18 finished with value: 0.7347204502249038 and parameters: {'n_estimators': 3014, 'num_leaves': 988, 'max_depth': 196, 'learning_rate': 0.054692547080511744, 'min_child_samples': 343, 'subsample': 0.8145119402497142, 'colsample_bytree': 0.6099205482084729, 'reg_alpha': 6.604801467636189, 'reg_lambda': 6.9852728067831675}. Best is trial 13 with value: 0.7442765365006154.\n",
      "[I 2025-02-16 13:56:28,886] Trial 19 finished with value: 0.7442759862129534 and parameters: {'n_estimators': 2815, 'num_leaves': 1046, 'max_depth': 287, 'learning_rate': 0.003638332413346523, 'min_child_samples': 311, 'subsample': 0.9259236779656782, 'colsample_bytree': 0.5149876520953519, 'reg_alpha': 7.9505528452975085, 'reg_lambda': 5.0827598308203}. Best is trial 13 with value: 0.7442765365006154.\n",
      "[I 2025-02-16 13:56:54,498] Trial 20 finished with value: 0.7359286087246776 and parameters: {'n_estimators': 2236, 'num_leaves': 518, 'max_depth': 290, 'learning_rate': 0.14692168801241445, 'min_child_samples': 311, 'subsample': 0.5549107231149084, 'colsample_bytree': 0.504317091604183, 'reg_alpha': 7.850156312215325, 'reg_lambda': 3.2815483769941194}. Best is trial 13 with value: 0.7442765365006154.\n",
      "[I 2025-02-16 13:58:39,735] Trial 21 finished with value: 0.7411295324297966 and parameters: {'n_estimators': 2810, 'num_leaves': 1020, 'max_depth': 346, 'learning_rate': 0.006829409344298773, 'min_child_samples': 320, 'subsample': 0.9156813943001203, 'colsample_bytree': 0.5576461603843647, 'reg_alpha': 6.094596895272253, 'reg_lambda': 5.025772181022093}. Best is trial 13 with value: 0.7442765365006154.\n",
      "[I 2025-02-16 13:59:15,383] Trial 22 finished with value: 0.7379873084986341 and parameters: {'n_estimators': 3194, 'num_leaves': 1661, 'max_depth': 304, 'learning_rate': 0.029204733875936244, 'min_child_samples': 273, 'subsample': 0.8571152720161976, 'colsample_bytree': 0.6812565496966597, 'reg_alpha': 7.741389261915641, 'reg_lambda': 5.022666313972222}. Best is trial 13 with value: 0.7442765365006154.\n",
      "[I 2025-02-16 14:00:17,826] Trial 23 finished with value: 0.7404151737885555 and parameters: {'n_estimators': 2763, 'num_leaves': 1075, 'max_depth': 259, 'learning_rate': 0.005357878478816941, 'min_child_samples': 348, 'subsample': 0.9203737292549915, 'colsample_bytree': 0.9179913115197837, 'reg_alpha': 3.98242260677956, 'reg_lambda': 6.976100583536291}. Best is trial 13 with value: 0.7442765365006154.\n",
      "[I 2025-02-16 14:00:40,674] Trial 24 finished with value: 0.7347591350600229 and parameters: {'n_estimators': 2995, 'num_leaves': 898, 'max_depth': 267, 'learning_rate': 0.06321643754689336, 'min_child_samples': 248, 'subsample': 0.7922932330789676, 'colsample_bytree': 0.710458571315149, 'reg_alpha': 7.204420599676073, 'reg_lambda': 8.175735845625786}. Best is trial 13 with value: 0.7442765365006154.\n",
      "[I 2025-02-16 14:01:21,962] Trial 25 finished with value: 0.7450160562701532 and parameters: {'n_estimators': 2379, 'num_leaves': 1214, 'max_depth': 320, 'learning_rate': 0.0016910462182733038, 'min_child_samples': 321, 'subsample': 0.9245577554285245, 'colsample_bytree': 0.8027573271184746, 'reg_alpha': 8.590190533433615, 'reg_lambda': 6.615930936160601}. Best is trial 25 with value: 0.7450160562701532.\n",
      "[I 2025-02-16 14:01:45,562] Trial 26 finished with value: 0.7381431968552501 and parameters: {'n_estimators': 2321, 'num_leaves': 1629, 'max_depth': 320, 'learning_rate': 0.03599895491574327, 'min_child_samples': 313, 'subsample': 0.8507213526804143, 'colsample_bytree': 0.8082198586371363, 'reg_alpha': 8.475320052599855, 'reg_lambda': 4.232735939700992}. Best is trial 25 with value: 0.7450160562701532.\n",
      "[I 2025-02-16 14:02:14,096] Trial 27 finished with value: 0.7379053892670204 and parameters: {'n_estimators': 1751, 'num_leaves': 1283, 'max_depth': 325, 'learning_rate': 0.02618525454019263, 'min_child_samples': 251, 'subsample': 0.9616603263992471, 'colsample_bytree': 0.8359537935996183, 'reg_alpha': 8.422248509507998, 'reg_lambda': 5.676453492405037}. Best is trial 25 with value: 0.7450160562701532.\n",
      "[I 2025-02-16 14:02:36,244] Trial 28 finished with value: 0.7178411299290632 and parameters: {'n_estimators': 1942, 'num_leaves': 1945, 'max_depth': 279, 'learning_rate': 0.19698516400967236, 'min_child_samples': 291, 'subsample': 0.9008520398609785, 'colsample_bytree': 0.783712328906236, 'reg_alpha': 4.5974676120269296, 'reg_lambda': 8.938548966339791}. Best is trial 25 with value: 0.7450160562701532.\n",
      "[I 2025-02-16 14:02:47,330] Trial 29 finished with value: 0.7359829457560447 and parameters: {'n_estimators': 2652, 'num_leaves': 698, 'max_depth': 307, 'learning_rate': 0.16824389531756773, 'min_child_samples': 324, 'subsample': 0.6753663995015717, 'colsample_bytree': 0.9978618895346305, 'reg_alpha': 9.864798852854758, 'reg_lambda': 3.2169490832227843}. Best is trial 25 with value: 0.7450160562701532.\n",
      "[I 2025-02-16 14:03:00,345] Trial 30 finished with value: 0.7359646041257298 and parameters: {'n_estimators': 2343, 'num_leaves': 536, 'max_depth': 245, 'learning_rate': 0.10138448527355068, 'min_child_samples': 250, 'subsample': 0.7124527163761538, 'colsample_bytree': 0.9153159941614495, 'reg_alpha': 8.597531802517677, 'reg_lambda': 5.055156419571774}. Best is trial 25 with value: 0.7450160562701532.\n",
      "[I 2025-02-16 14:04:04,248] Trial 31 finished with value: 0.7347789706050825 and parameters: {'n_estimators': 3223, 'num_leaves': 1153, 'max_depth': 202, 'learning_rate': 0.017533847611563427, 'min_child_samples': 332, 'subsample': 0.9317369175762872, 'colsample_bytree': 0.7133652332492251, 'reg_alpha': 6.186607517363645, 'reg_lambda': 6.631634960882519}. Best is trial 25 with value: 0.7450160562701532.\n",
      "[I 2025-02-16 14:05:14,320] Trial 32 finished with value: 0.7437691208977111 and parameters: {'n_estimators': 2893, 'num_leaves': 825, 'max_depth': 290, 'learning_rate': 0.0030562749777439243, 'min_child_samples': 298, 'subsample': 0.9495968399722567, 'colsample_bytree': 0.632679034137585, 'reg_alpha': 5.7166092009084455, 'reg_lambda': 7.429992766458143}. Best is trial 25 with value: 0.7450160562701532.\n",
      "[I 2025-02-16 14:06:13,048] Trial 33 finished with value: 0.7448523757239839 and parameters: {'n_estimators': 2723, 'num_leaves': 770, 'max_depth': 290, 'learning_rate': 0.0015873065498202732, 'min_child_samples': 285, 'subsample': 0.9653657409866815, 'colsample_bytree': 0.5433987447158586, 'reg_alpha': 5.560493034067665, 'reg_lambda': 7.858617828222281}. Best is trial 25 with value: 0.7450160562701532.\n",
      "[I 2025-02-16 14:06:26,094] Trial 34 finished with value: 0.7406079449819606 and parameters: {'n_estimators': 514, 'num_leaves': 1524, 'max_depth': 332, 'learning_rate': 0.04345537146017741, 'min_child_samples': 273, 'subsample': 0.9829735585380492, 'colsample_bytree': 0.5440441464410609, 'reg_alpha': 7.132868419215339, 'reg_lambda': 7.83931677960831}. Best is trial 25 with value: 0.7450160562701532.\n",
      "[I 2025-02-16 14:07:25,077] Trial 35 finished with value: 0.7323813440097201 and parameters: {'n_estimators': 2440, 'num_leaves': 1157, 'max_depth': 300, 'learning_rate': 0.022297852969711842, 'min_child_samples': 321, 'subsample': 0.8930253582488124, 'colsample_bytree': 0.5502900632338792, 'reg_alpha': 4.209286380947427, 'reg_lambda': 8.712258176122624}. Best is trial 25 with value: 0.7450160562701532.\n",
      "[I 2025-02-16 14:08:00,296] Trial 36 finished with value: 0.7388098839213129 and parameters: {'n_estimators': 2644, 'num_leaves': 653, 'max_depth': 350, 'learning_rate': 0.06628510587816248, 'min_child_samples': 301, 'subsample': 0.7794459831420784, 'colsample_bytree': 0.5889996053019068, 'reg_alpha': 9.364554092104347, 'reg_lambda': 9.683566741391969}. Best is trial 25 with value: 0.7450160562701532.\n",
      "[I 2025-02-16 14:08:39,546] Trial 37 finished with value: 0.738522397370518 and parameters: {'n_estimators': 1382, 'num_leaves': 1265, 'max_depth': 253, 'learning_rate': 0.01408168101745353, 'min_child_samples': 225, 'subsample': 0.8670063464197421, 'colsample_bytree': 0.7800619690583311, 'reg_alpha': 5.527490242796463, 'reg_lambda': 6.409994428226552}. Best is trial 25 with value: 0.7450160562701532.\n",
      "[I 2025-02-16 14:09:13,643] Trial 38 finished with value: 0.737246532174347 and parameters: {'n_estimators': 3189, 'num_leaves': 875, 'max_depth': 280, 'learning_rate': 0.030241874721853, 'min_child_samples': 282, 'subsample': 0.9553834146447248, 'colsample_bytree': 0.8374699587819209, 'reg_alpha': 8.063054605307336, 'reg_lambda': 7.763453750281604}. Best is trial 25 with value: 0.7450160562701532.\n",
      "[I 2025-02-16 14:09:28,339] Trial 39 finished with value: 0.7348945930183671 and parameters: {'n_estimators': 3480, 'num_leaves': 2201, 'max_depth': 228, 'learning_rate': 0.17806244173655084, 'min_child_samples': 156, 'subsample': 0.90397163532614, 'colsample_bytree': 0.7300732636986034, 'reg_alpha': 9.330409244121322, 'reg_lambda': 0.0334764787226991}. Best is trial 25 with value: 0.7450160562701532.\n",
      "[I 2025-02-16 14:09:50,426] Trial 40 finished with value: 0.7331441725307761 and parameters: {'n_estimators': 2032, 'num_leaves': 1505, 'max_depth': 320, 'learning_rate': 0.13294480451606186, 'min_child_samples': 257, 'subsample': 0.9723645171845574, 'colsample_bytree': 0.5302075751381927, 'reg_alpha': 7.253586116065885, 'reg_lambda': 3.816221248733564}. Best is trial 25 with value: 0.7450160562701532.\n",
      "[I 2025-02-16 14:10:54,746] Trial 41 finished with value: 0.7448652687313909 and parameters: {'n_estimators': 2735, 'num_leaves': 828, 'max_depth': 284, 'learning_rate': 0.0013280402828229137, 'min_child_samples': 295, 'subsample': 0.9431559206568051, 'colsample_bytree': 0.6485583249844221, 'reg_alpha': 5.488928347593223, 'reg_lambda': 7.457503203505542}. Best is trial 25 with value: 0.7450160562701532.\n",
      "[I 2025-02-16 14:12:19,960] Trial 42 finished with value: 0.7356136097284101 and parameters: {'n_estimators': 2709, 'num_leaves': 713, 'max_depth': 279, 'learning_rate': 0.014237844538415997, 'min_child_samples': 289, 'subsample': 0.9260926386544055, 'colsample_bytree': 0.566746353186711, 'reg_alpha': 4.872993305590285, 'reg_lambda': 7.5064338944371425}. Best is trial 25 with value: 0.7450160562701532.\n",
      "[W 2025-02-16 14:13:40,495] Trial 43 failed with parameters: {'n_estimators': 2514, 'num_leaves': 877, 'max_depth': 314, 'learning_rate': 0.0127256587527835, 'min_child_samples': 331, 'subsample': 0.9505059554686264, 'colsample_bytree': 0.6332095855828986, 'reg_alpha': 2.781578880249423, 'reg_lambda': 8.264263395943384} because of the following error: KeyboardInterrupt().\n",
      "Traceback (most recent call last):\n",
      "  File \"c:\\Users\\juneh\\AppData\\Local\\Programs\\Python\\Python37\\lib\\site-packages\\optuna\\study\\_optimize.py\", line 196, in _run_trial\n",
      "    value_or_values = func(trial)\n",
      "  File \"C:\\Users\\juneh\\AppData\\Local\\Temp\\ipykernel_12884\\341327754.py\", line 25, in objective\n",
      "    y_pred_proba = model.predict_proba(Total_X_test)[:, 1]\n",
      "  File \"c:\\Users\\juneh\\AppData\\Local\\Programs\\Python\\Python37\\lib\\site-packages\\lightgbm\\sklearn.py\", line 1359, in predict_proba\n",
      "    **kwargs,\n",
      "  File \"c:\\Users\\juneh\\AppData\\Local\\Programs\\Python\\Python37\\lib\\site-packages\\lightgbm\\sklearn.py\", line 1044, in predict\n",
      "    **predict_params,\n",
      "  File \"c:\\Users\\juneh\\AppData\\Local\\Programs\\Python\\Python37\\lib\\site-packages\\lightgbm\\basic.py\", line 4756, in predict\n",
      "    validate_features=validate_features,\n",
      "  File \"c:\\Users\\juneh\\AppData\\Local\\Programs\\Python\\Python37\\lib\\site-packages\\lightgbm\\basic.py\", line 1189, in predict\n",
      "    predict_type=predict_type,\n",
      "  File \"c:\\Users\\juneh\\AppData\\Local\\Programs\\Python\\Python37\\lib\\site-packages\\lightgbm\\basic.py\", line 1349, in __pred_for_np2d\n",
      "    preds=None,\n",
      "  File \"c:\\Users\\juneh\\AppData\\Local\\Programs\\Python\\Python37\\lib\\site-packages\\lightgbm\\basic.py\", line 1303, in __inner_predict_np2d\n",
      "    preds.ctypes.data_as(ctypes.POINTER(ctypes.c_double)),\n",
      "KeyboardInterrupt\n",
      "[W 2025-02-16 14:13:40,497] Trial 43 failed with value None.\n"
     ]
    },
    {
     "ename": "KeyboardInterrupt",
     "evalue": "",
     "output_type": "error",
     "traceback": [
      "\u001b[1;31m---------------------------------------------------------------------------\u001b[0m",
      "\u001b[1;31mKeyboardInterrupt\u001b[0m                         Traceback (most recent call last)",
      "\u001b[1;32m~\\AppData\\Local\\Temp\\ipykernel_12884\\341327754.py\u001b[0m in \u001b[0;36m<module>\u001b[1;34m\u001b[0m\n\u001b[0;32m     30\u001b[0m \u001b[1;31m# Optuna 스터디 생성 및 최적화 실행\u001b[0m\u001b[1;33m\u001b[0m\u001b[1;33m\u001b[0m\u001b[1;33m\u001b[0m\u001b[0m\n\u001b[0;32m     31\u001b[0m \u001b[0mstudy\u001b[0m \u001b[1;33m=\u001b[0m \u001b[0moptuna\u001b[0m\u001b[1;33m.\u001b[0m\u001b[0mcreate_study\u001b[0m\u001b[1;33m(\u001b[0m\u001b[0mdirection\u001b[0m\u001b[1;33m=\u001b[0m\u001b[1;34m'maximize'\u001b[0m\u001b[1;33m)\u001b[0m\u001b[1;33m\u001b[0m\u001b[1;33m\u001b[0m\u001b[0m\n\u001b[1;32m---> 32\u001b[1;33m \u001b[0mstudy\u001b[0m\u001b[1;33m.\u001b[0m\u001b[0moptimize\u001b[0m\u001b[1;33m(\u001b[0m\u001b[0mobjective\u001b[0m\u001b[1;33m,\u001b[0m \u001b[0mn_trials\u001b[0m\u001b[1;33m=\u001b[0m\u001b[1;36m500\u001b[0m\u001b[1;33m)\u001b[0m\u001b[1;33m\u001b[0m\u001b[1;33m\u001b[0m\u001b[0m\n\u001b[0m\u001b[0;32m     33\u001b[0m \u001b[1;33m\u001b[0m\u001b[0m\n\u001b[0;32m     34\u001b[0m \u001b[1;31m# 최적의 하이퍼파라미터 출력\u001b[0m\u001b[1;33m\u001b[0m\u001b[1;33m\u001b[0m\u001b[1;33m\u001b[0m\u001b[0m\n",
      "\u001b[1;32mc:\\Users\\juneh\\AppData\\Local\\Programs\\Python\\Python37\\lib\\site-packages\\optuna\\study\\study.py\u001b[0m in \u001b[0;36moptimize\u001b[1;34m(self, func, n_trials, timeout, n_jobs, catch, callbacks, gc_after_trial, show_progress_bar)\u001b[0m\n\u001b[0;32m    458\u001b[0m             \u001b[0mcallbacks\u001b[0m\u001b[1;33m=\u001b[0m\u001b[0mcallbacks\u001b[0m\u001b[1;33m,\u001b[0m\u001b[1;33m\u001b[0m\u001b[1;33m\u001b[0m\u001b[0m\n\u001b[0;32m    459\u001b[0m             \u001b[0mgc_after_trial\u001b[0m\u001b[1;33m=\u001b[0m\u001b[0mgc_after_trial\u001b[0m\u001b[1;33m,\u001b[0m\u001b[1;33m\u001b[0m\u001b[1;33m\u001b[0m\u001b[0m\n\u001b[1;32m--> 460\u001b[1;33m             \u001b[0mshow_progress_bar\u001b[0m\u001b[1;33m=\u001b[0m\u001b[0mshow_progress_bar\u001b[0m\u001b[1;33m,\u001b[0m\u001b[1;33m\u001b[0m\u001b[1;33m\u001b[0m\u001b[0m\n\u001b[0m\u001b[0;32m    461\u001b[0m         )\n\u001b[0;32m    462\u001b[0m \u001b[1;33m\u001b[0m\u001b[0m\n",
      "\u001b[1;32mc:\\Users\\juneh\\AppData\\Local\\Programs\\Python\\Python37\\lib\\site-packages\\optuna\\study\\_optimize.py\u001b[0m in \u001b[0;36m_optimize\u001b[1;34m(study, func, n_trials, timeout, n_jobs, catch, callbacks, gc_after_trial, show_progress_bar)\u001b[0m\n\u001b[0;32m     70\u001b[0m                 \u001b[0mreseed_sampler_rng\u001b[0m\u001b[1;33m=\u001b[0m\u001b[1;32mFalse\u001b[0m\u001b[1;33m,\u001b[0m\u001b[1;33m\u001b[0m\u001b[1;33m\u001b[0m\u001b[0m\n\u001b[0;32m     71\u001b[0m                 \u001b[0mtime_start\u001b[0m\u001b[1;33m=\u001b[0m\u001b[1;32mNone\u001b[0m\u001b[1;33m,\u001b[0m\u001b[1;33m\u001b[0m\u001b[1;33m\u001b[0m\u001b[0m\n\u001b[1;32m---> 72\u001b[1;33m                 \u001b[0mprogress_bar\u001b[0m\u001b[1;33m=\u001b[0m\u001b[0mprogress_bar\u001b[0m\u001b[1;33m,\u001b[0m\u001b[1;33m\u001b[0m\u001b[1;33m\u001b[0m\u001b[0m\n\u001b[0m\u001b[0;32m     73\u001b[0m             )\n\u001b[0;32m     74\u001b[0m         \u001b[1;32melse\u001b[0m\u001b[1;33m:\u001b[0m\u001b[1;33m\u001b[0m\u001b[1;33m\u001b[0m\u001b[0m\n",
      "\u001b[1;32mc:\\Users\\juneh\\AppData\\Local\\Programs\\Python\\Python37\\lib\\site-packages\\optuna\\study\\_optimize.py\u001b[0m in \u001b[0;36m_optimize_sequential\u001b[1;34m(study, func, n_trials, timeout, catch, callbacks, gc_after_trial, reseed_sampler_rng, time_start, progress_bar)\u001b[0m\n\u001b[0;32m    157\u001b[0m \u001b[1;33m\u001b[0m\u001b[0m\n\u001b[0;32m    158\u001b[0m         \u001b[1;32mtry\u001b[0m\u001b[1;33m:\u001b[0m\u001b[1;33m\u001b[0m\u001b[1;33m\u001b[0m\u001b[0m\n\u001b[1;32m--> 159\u001b[1;33m             \u001b[0mfrozen_trial\u001b[0m \u001b[1;33m=\u001b[0m \u001b[0m_run_trial\u001b[0m\u001b[1;33m(\u001b[0m\u001b[0mstudy\u001b[0m\u001b[1;33m,\u001b[0m \u001b[0mfunc\u001b[0m\u001b[1;33m,\u001b[0m \u001b[0mcatch\u001b[0m\u001b[1;33m)\u001b[0m\u001b[1;33m\u001b[0m\u001b[1;33m\u001b[0m\u001b[0m\n\u001b[0m\u001b[0;32m    160\u001b[0m         \u001b[1;32mfinally\u001b[0m\u001b[1;33m:\u001b[0m\u001b[1;33m\u001b[0m\u001b[1;33m\u001b[0m\u001b[0m\n\u001b[0;32m    161\u001b[0m             \u001b[1;31m# The following line mitigates memory problems that can be occurred in some\u001b[0m\u001b[1;33m\u001b[0m\u001b[1;33m\u001b[0m\u001b[1;33m\u001b[0m\u001b[0m\n",
      "\u001b[1;32mc:\\Users\\juneh\\AppData\\Local\\Programs\\Python\\Python37\\lib\\site-packages\\optuna\\study\\_optimize.py\u001b[0m in \u001b[0;36m_run_trial\u001b[1;34m(study, func, catch)\u001b[0m\n\u001b[0;32m    245\u001b[0m         \u001b[1;32mand\u001b[0m \u001b[1;32mnot\u001b[0m \u001b[0misinstance\u001b[0m\u001b[1;33m(\u001b[0m\u001b[0mfunc_err\u001b[0m\u001b[1;33m,\u001b[0m \u001b[0mcatch\u001b[0m\u001b[1;33m)\u001b[0m\u001b[1;33m\u001b[0m\u001b[1;33m\u001b[0m\u001b[0m\n\u001b[0;32m    246\u001b[0m     ):\n\u001b[1;32m--> 247\u001b[1;33m         \u001b[1;32mraise\u001b[0m \u001b[0mfunc_err\u001b[0m\u001b[1;33m\u001b[0m\u001b[1;33m\u001b[0m\u001b[0m\n\u001b[0m\u001b[0;32m    248\u001b[0m     \u001b[1;32mreturn\u001b[0m \u001b[0mfrozen_trial\u001b[0m\u001b[1;33m\u001b[0m\u001b[1;33m\u001b[0m\u001b[0m\n\u001b[0;32m    249\u001b[0m \u001b[1;33m\u001b[0m\u001b[0m\n",
      "\u001b[1;32mc:\\Users\\juneh\\AppData\\Local\\Programs\\Python\\Python37\\lib\\site-packages\\optuna\\study\\_optimize.py\u001b[0m in \u001b[0;36m_run_trial\u001b[1;34m(study, func, catch)\u001b[0m\n\u001b[0;32m    194\u001b[0m     \u001b[1;32mwith\u001b[0m \u001b[0mget_heartbeat_thread\u001b[0m\u001b[1;33m(\u001b[0m\u001b[0mtrial\u001b[0m\u001b[1;33m.\u001b[0m\u001b[0m_trial_id\u001b[0m\u001b[1;33m,\u001b[0m \u001b[0mstudy\u001b[0m\u001b[1;33m.\u001b[0m\u001b[0m_storage\u001b[0m\u001b[1;33m)\u001b[0m\u001b[1;33m:\u001b[0m\u001b[1;33m\u001b[0m\u001b[1;33m\u001b[0m\u001b[0m\n\u001b[0;32m    195\u001b[0m         \u001b[1;32mtry\u001b[0m\u001b[1;33m:\u001b[0m\u001b[1;33m\u001b[0m\u001b[1;33m\u001b[0m\u001b[0m\n\u001b[1;32m--> 196\u001b[1;33m             \u001b[0mvalue_or_values\u001b[0m \u001b[1;33m=\u001b[0m \u001b[0mfunc\u001b[0m\u001b[1;33m(\u001b[0m\u001b[0mtrial\u001b[0m\u001b[1;33m)\u001b[0m\u001b[1;33m\u001b[0m\u001b[1;33m\u001b[0m\u001b[0m\n\u001b[0m\u001b[0;32m    197\u001b[0m         \u001b[1;32mexcept\u001b[0m \u001b[0mexceptions\u001b[0m\u001b[1;33m.\u001b[0m\u001b[0mTrialPruned\u001b[0m \u001b[1;32mas\u001b[0m \u001b[0me\u001b[0m\u001b[1;33m:\u001b[0m\u001b[1;33m\u001b[0m\u001b[1;33m\u001b[0m\u001b[0m\n\u001b[0;32m    198\u001b[0m             \u001b[1;31m# TODO(mamu): Handle multi-objective cases.\u001b[0m\u001b[1;33m\u001b[0m\u001b[1;33m\u001b[0m\u001b[1;33m\u001b[0m\u001b[0m\n",
      "\u001b[1;32m~\\AppData\\Local\\Temp\\ipykernel_12884\\341327754.py\u001b[0m in \u001b[0;36mobjective\u001b[1;34m(trial)\u001b[0m\n\u001b[0;32m     23\u001b[0m     \u001b[0mmodel\u001b[0m\u001b[1;33m.\u001b[0m\u001b[0mfit\u001b[0m\u001b[1;33m(\u001b[0m\u001b[0mTotal_X_train\u001b[0m\u001b[1;33m,\u001b[0m \u001b[0mTotal_y_train\u001b[0m\u001b[1;33m)\u001b[0m\u001b[1;33m\u001b[0m\u001b[1;33m\u001b[0m\u001b[0m\n\u001b[0;32m     24\u001b[0m \u001b[1;33m\u001b[0m\u001b[0m\n\u001b[1;32m---> 25\u001b[1;33m     \u001b[0my_pred_proba\u001b[0m \u001b[1;33m=\u001b[0m \u001b[0mmodel\u001b[0m\u001b[1;33m.\u001b[0m\u001b[0mpredict_proba\u001b[0m\u001b[1;33m(\u001b[0m\u001b[0mTotal_X_test\u001b[0m\u001b[1;33m)\u001b[0m\u001b[1;33m[\u001b[0m\u001b[1;33m:\u001b[0m\u001b[1;33m,\u001b[0m \u001b[1;36m1\u001b[0m\u001b[1;33m]\u001b[0m\u001b[1;33m\u001b[0m\u001b[1;33m\u001b[0m\u001b[0m\n\u001b[0m\u001b[0;32m     26\u001b[0m \u001b[1;33m\u001b[0m\u001b[0m\n\u001b[0;32m     27\u001b[0m     \u001b[0mauc\u001b[0m \u001b[1;33m=\u001b[0m \u001b[0mroc_auc_score\u001b[0m\u001b[1;33m(\u001b[0m\u001b[0mTotal_y_test\u001b[0m\u001b[1;33m,\u001b[0m \u001b[0my_pred_proba\u001b[0m\u001b[1;33m)\u001b[0m\u001b[1;33m\u001b[0m\u001b[1;33m\u001b[0m\u001b[0m\n",
      "\u001b[1;32mc:\\Users\\juneh\\AppData\\Local\\Programs\\Python\\Python37\\lib\\site-packages\\lightgbm\\sklearn.py\u001b[0m in \u001b[0;36mpredict_proba\u001b[1;34m(self, X, raw_score, start_iteration, num_iteration, pred_leaf, pred_contrib, validate_features, **kwargs)\u001b[0m\n\u001b[0;32m   1357\u001b[0m             \u001b[0mpred_contrib\u001b[0m\u001b[1;33m=\u001b[0m\u001b[0mpred_contrib\u001b[0m\u001b[1;33m,\u001b[0m\u001b[1;33m\u001b[0m\u001b[1;33m\u001b[0m\u001b[0m\n\u001b[0;32m   1358\u001b[0m             \u001b[0mvalidate_features\u001b[0m\u001b[1;33m=\u001b[0m\u001b[0mvalidate_features\u001b[0m\u001b[1;33m,\u001b[0m\u001b[1;33m\u001b[0m\u001b[1;33m\u001b[0m\u001b[0m\n\u001b[1;32m-> 1359\u001b[1;33m             \u001b[1;33m**\u001b[0m\u001b[0mkwargs\u001b[0m\u001b[1;33m,\u001b[0m\u001b[1;33m\u001b[0m\u001b[1;33m\u001b[0m\u001b[0m\n\u001b[0m\u001b[0;32m   1360\u001b[0m         )\n\u001b[0;32m   1361\u001b[0m         \u001b[1;32mif\u001b[0m \u001b[0mcallable\u001b[0m\u001b[1;33m(\u001b[0m\u001b[0mself\u001b[0m\u001b[1;33m.\u001b[0m\u001b[0m_objective\u001b[0m\u001b[1;33m)\u001b[0m \u001b[1;32mand\u001b[0m \u001b[1;32mnot\u001b[0m \u001b[1;33m(\u001b[0m\u001b[0mraw_score\u001b[0m \u001b[1;32mor\u001b[0m \u001b[0mpred_leaf\u001b[0m \u001b[1;32mor\u001b[0m \u001b[0mpred_contrib\u001b[0m\u001b[1;33m)\u001b[0m\u001b[1;33m:\u001b[0m\u001b[1;33m\u001b[0m\u001b[1;33m\u001b[0m\u001b[0m\n",
      "\u001b[1;32mc:\\Users\\juneh\\AppData\\Local\\Programs\\Python\\Python37\\lib\\site-packages\\lightgbm\\sklearn.py\u001b[0m in \u001b[0;36mpredict\u001b[1;34m(self, X, raw_score, start_iteration, num_iteration, pred_leaf, pred_contrib, validate_features, **kwargs)\u001b[0m\n\u001b[0;32m   1042\u001b[0m             \u001b[0mpred_contrib\u001b[0m\u001b[1;33m=\u001b[0m\u001b[0mpred_contrib\u001b[0m\u001b[1;33m,\u001b[0m\u001b[1;33m\u001b[0m\u001b[1;33m\u001b[0m\u001b[0m\n\u001b[0;32m   1043\u001b[0m             \u001b[0mvalidate_features\u001b[0m\u001b[1;33m=\u001b[0m\u001b[0mvalidate_features\u001b[0m\u001b[1;33m,\u001b[0m\u001b[1;33m\u001b[0m\u001b[1;33m\u001b[0m\u001b[0m\n\u001b[1;32m-> 1044\u001b[1;33m             \u001b[1;33m**\u001b[0m\u001b[0mpredict_params\u001b[0m\u001b[1;33m,\u001b[0m\u001b[1;33m\u001b[0m\u001b[1;33m\u001b[0m\u001b[0m\n\u001b[0m\u001b[0;32m   1045\u001b[0m         )\n\u001b[0;32m   1046\u001b[0m \u001b[1;33m\u001b[0m\u001b[0m\n",
      "\u001b[1;32mc:\\Users\\juneh\\AppData\\Local\\Programs\\Python\\Python37\\lib\\site-packages\\lightgbm\\basic.py\u001b[0m in \u001b[0;36mpredict\u001b[1;34m(self, data, start_iteration, num_iteration, raw_score, pred_leaf, pred_contrib, data_has_header, validate_features, **kwargs)\u001b[0m\n\u001b[0;32m   4754\u001b[0m             \u001b[0mpred_contrib\u001b[0m\u001b[1;33m=\u001b[0m\u001b[0mpred_contrib\u001b[0m\u001b[1;33m,\u001b[0m\u001b[1;33m\u001b[0m\u001b[1;33m\u001b[0m\u001b[0m\n\u001b[0;32m   4755\u001b[0m             \u001b[0mdata_has_header\u001b[0m\u001b[1;33m=\u001b[0m\u001b[0mdata_has_header\u001b[0m\u001b[1;33m,\u001b[0m\u001b[1;33m\u001b[0m\u001b[1;33m\u001b[0m\u001b[0m\n\u001b[1;32m-> 4756\u001b[1;33m             \u001b[0mvalidate_features\u001b[0m\u001b[1;33m=\u001b[0m\u001b[0mvalidate_features\u001b[0m\u001b[1;33m,\u001b[0m\u001b[1;33m\u001b[0m\u001b[1;33m\u001b[0m\u001b[0m\n\u001b[0m\u001b[0;32m   4757\u001b[0m         )\n\u001b[0;32m   4758\u001b[0m \u001b[1;33m\u001b[0m\u001b[0m\n",
      "\u001b[1;32mc:\\Users\\juneh\\AppData\\Local\\Programs\\Python\\Python37\\lib\\site-packages\\lightgbm\\basic.py\u001b[0m in \u001b[0;36mpredict\u001b[1;34m(self, data, start_iteration, num_iteration, raw_score, pred_leaf, pred_contrib, data_has_header, validate_features)\u001b[0m\n\u001b[0;32m   1187\u001b[0m                 \u001b[0mstart_iteration\u001b[0m\u001b[1;33m=\u001b[0m\u001b[0mstart_iteration\u001b[0m\u001b[1;33m,\u001b[0m\u001b[1;33m\u001b[0m\u001b[1;33m\u001b[0m\u001b[0m\n\u001b[0;32m   1188\u001b[0m                 \u001b[0mnum_iteration\u001b[0m\u001b[1;33m=\u001b[0m\u001b[0mnum_iteration\u001b[0m\u001b[1;33m,\u001b[0m\u001b[1;33m\u001b[0m\u001b[1;33m\u001b[0m\u001b[0m\n\u001b[1;32m-> 1189\u001b[1;33m                 \u001b[0mpredict_type\u001b[0m\u001b[1;33m=\u001b[0m\u001b[0mpredict_type\u001b[0m\u001b[1;33m,\u001b[0m\u001b[1;33m\u001b[0m\u001b[1;33m\u001b[0m\u001b[0m\n\u001b[0m\u001b[0;32m   1190\u001b[0m             )\n\u001b[0;32m   1191\u001b[0m         \u001b[1;32melif\u001b[0m \u001b[0m_is_pyarrow_table\u001b[0m\u001b[1;33m(\u001b[0m\u001b[0mdata\u001b[0m\u001b[1;33m)\u001b[0m\u001b[1;33m:\u001b[0m\u001b[1;33m\u001b[0m\u001b[1;33m\u001b[0m\u001b[0m\n",
      "\u001b[1;32mc:\\Users\\juneh\\AppData\\Local\\Programs\\Python\\Python37\\lib\\site-packages\\lightgbm\\basic.py\u001b[0m in \u001b[0;36m__pred_for_np2d\u001b[1;34m(self, mat, start_iteration, num_iteration, predict_type)\u001b[0m\n\u001b[0;32m   1347\u001b[0m                 \u001b[0mnum_iteration\u001b[0m\u001b[1;33m=\u001b[0m\u001b[0mnum_iteration\u001b[0m\u001b[1;33m,\u001b[0m\u001b[1;33m\u001b[0m\u001b[1;33m\u001b[0m\u001b[0m\n\u001b[0;32m   1348\u001b[0m                 \u001b[0mpredict_type\u001b[0m\u001b[1;33m=\u001b[0m\u001b[0mpredict_type\u001b[0m\u001b[1;33m,\u001b[0m\u001b[1;33m\u001b[0m\u001b[1;33m\u001b[0m\u001b[0m\n\u001b[1;32m-> 1349\u001b[1;33m                 \u001b[0mpreds\u001b[0m\u001b[1;33m=\u001b[0m\u001b[1;32mNone\u001b[0m\u001b[1;33m,\u001b[0m\u001b[1;33m\u001b[0m\u001b[1;33m\u001b[0m\u001b[0m\n\u001b[0m\u001b[0;32m   1350\u001b[0m             )\n\u001b[0;32m   1351\u001b[0m \u001b[1;33m\u001b[0m\u001b[0m\n",
      "\u001b[1;32mc:\\Users\\juneh\\AppData\\Local\\Programs\\Python\\Python37\\lib\\site-packages\\lightgbm\\basic.py\u001b[0m in \u001b[0;36m__inner_predict_np2d\u001b[1;34m(self, mat, start_iteration, num_iteration, predict_type, preds)\u001b[0m\n\u001b[0;32m   1301\u001b[0m                 \u001b[0m_c_str\u001b[0m\u001b[1;33m(\u001b[0m\u001b[0mself\u001b[0m\u001b[1;33m.\u001b[0m\u001b[0mpred_parameter\u001b[0m\u001b[1;33m)\u001b[0m\u001b[1;33m,\u001b[0m\u001b[1;33m\u001b[0m\u001b[1;33m\u001b[0m\u001b[0m\n\u001b[0;32m   1302\u001b[0m                 \u001b[0mctypes\u001b[0m\u001b[1;33m.\u001b[0m\u001b[0mbyref\u001b[0m\u001b[1;33m(\u001b[0m\u001b[0mout_num_preds\u001b[0m\u001b[1;33m)\u001b[0m\u001b[1;33m,\u001b[0m\u001b[1;33m\u001b[0m\u001b[1;33m\u001b[0m\u001b[0m\n\u001b[1;32m-> 1303\u001b[1;33m                 \u001b[0mpreds\u001b[0m\u001b[1;33m.\u001b[0m\u001b[0mctypes\u001b[0m\u001b[1;33m.\u001b[0m\u001b[0mdata_as\u001b[0m\u001b[1;33m(\u001b[0m\u001b[0mctypes\u001b[0m\u001b[1;33m.\u001b[0m\u001b[0mPOINTER\u001b[0m\u001b[1;33m(\u001b[0m\u001b[0mctypes\u001b[0m\u001b[1;33m.\u001b[0m\u001b[0mc_double\u001b[0m\u001b[1;33m)\u001b[0m\u001b[1;33m)\u001b[0m\u001b[1;33m,\u001b[0m\u001b[1;33m\u001b[0m\u001b[1;33m\u001b[0m\u001b[0m\n\u001b[0m\u001b[0;32m   1304\u001b[0m             )\n\u001b[0;32m   1305\u001b[0m         )\n",
      "\u001b[1;31mKeyboardInterrupt\u001b[0m: "
     ]
    }
   ],
   "source": [
    "# 목적 함수 정의\n",
    "def objective(trial):\n",
    "    param = {\n",
    "        'n_estimators': trial.suggest_int('n_estimators', 500, 3500),\n",
    "        'num_leaves': trial.suggest_int('num_leaves', 500, 3500),\n",
    "        'max_depth': trial.suggest_int('max_depth', 5, 350),\n",
    "        'learning_rate': trial.suggest_float('learning_rate', 0.001, 0.2),\n",
    "        'min_child_samples': trial.suggest_int('min_child_samples', 3, 350),\n",
    "        'subsample': trial.suggest_float('subsample', 0.5, 1.0),\n",
    "        'colsample_bytree': trial.suggest_float('colsample_bytree', 0.5, 1.0),\n",
    "        'reg_alpha': trial.suggest_float('reg_alpha', 0.0, 10.0),\n",
    "        'reg_lambda': trial.suggest_float('reg_lambda', 0.0, 10.0),\n",
    "\n",
    "        'random_state': 42,\n",
    "        'n_jobs': -1,\n",
    "        'metric': 'auc',\n",
    "        'objective': 'binary',\n",
    "        'boosting_type': 'gbdt',\n",
    "        'verbose': -1\n",
    "    }\n",
    "\n",
    "    model = lgb.LGBMClassifier(**param)\n",
    "    model.fit(Total_X_train, Total_y_train)\n",
    "    \n",
    "    y_pred_proba = model.predict_proba(Total_X_test)[:, 1]\n",
    "    \n",
    "    auc = roc_auc_score(Total_y_test, y_pred_proba)\n",
    "    return auc\n",
    "\n",
    "# Optuna 스터디 생성 및 최적화 실행\n",
    "study = optuna.create_study(direction='maximize')\n",
    "study.optimize(objective, n_trials=500)\n",
    "\n",
    "# 최적의 하이퍼파라미터 출력\n",
    "print(\"Best trial:\")\n",
    "trial = study.best_trial\n",
    "print(f\"  Value: {trial.value}\")\n",
    "print(\"  Params: \")\n",
    "for key, value in trial.params.items():\n",
    "    print(f\"    {key}: {value}\")"
   ]
  },
  {
   "cell_type": "markdown",
   "metadata": {},
   "source": [
    "[I 2025-02-16 14:01:21,962] Trial 25 finished with value: 0.7450160562701532 and parameters: {'n_estimators': 2379, 'num_leaves': 1214, 'max_depth': 320, 'learning_rate': 0.0016910462182733038, 'min_child_samples': 321, 'subsample': 0.9245577554285245, 'colsample_bytree': 0.8027573271184746, 'reg_alpha': 8.590190533433615, 'reg_lambda': 6.615930936160601}. Best is trial 25 with value: 0.7450160562701532"
   ]
  },
  {
   "cell_type": "markdown",
   "metadata": {},
   "source": [
    "."
   ]
  }
 ],
 "metadata": {
  "kernelspec": {
   "display_name": "Python 3",
   "language": "python",
   "name": "python3"
  },
  "language_info": {
   "codemirror_mode": {
    "name": "ipython",
    "version": 3
   },
   "file_extension": ".py",
   "mimetype": "text/x-python",
   "name": "python",
   "nbconvert_exporter": "python",
   "pygments_lexer": "ipython3",
   "version": "3.7.8"
  }
 },
 "nbformat": 4,
 "nbformat_minor": 2
}
