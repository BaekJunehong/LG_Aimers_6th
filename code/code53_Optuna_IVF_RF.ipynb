{
 "cells": [
  {
   "cell_type": "markdown",
   "metadata": {},
   "source": [
    "## 난임 환자 대상 임신 성공 여부 예측"
   ]
  },
  {
   "cell_type": "markdown",
   "metadata": {},
   "source": [
    "### LGAimers 6th 온라인 해커톤"
   ]
  },
  {
   "cell_type": "markdown",
   "metadata": {},
   "source": [
    "Import"
   ]
  },
  {
   "cell_type": "code",
   "execution_count": 1,
   "metadata": {},
   "outputs": [],
   "source": [
    "import pandas as pd\n",
    "import lightgbm as lgb\n",
    "from sklearn.preprocessing import OrdinalEncoder\n",
    "from sklearn.model_selection import train_test_split\n",
    "from sklearn.metrics import accuracy_score, f1_score, roc_auc_score, confusion_matrix, ConfusionMatrixDisplay\n",
    "import matplotlib.pyplot as plt"
   ]
  },
  {
   "cell_type": "markdown",
   "metadata": {},
   "source": [
    "### Data Load"
   ]
  },
  {
   "cell_type": "code",
   "execution_count": 2,
   "metadata": {},
   "outputs": [],
   "source": [
    "# 데이터 로드\n",
    "IVF_train = pd.read_csv('../data/IVF_train_dataset_53.csv')\n",
    "IVF_test = pd.read_csv('../data/IVF_test_dataset_53.csv')"
   ]
  },
  {
   "cell_type": "code",
   "execution_count": 3,
   "metadata": {},
   "outputs": [],
   "source": [
    "# ID 열을 제외한 특성과 타겟 변수 분리\n",
    "IVF_X = IVF_train.drop(['임신_성공_여부', 'ID'], axis=1)\n",
    "IVF_y = IVF_train['임신_성공_여부']"
   ]
  },
  {
   "cell_type": "code",
   "execution_count": 4,
   "metadata": {},
   "outputs": [
    {
     "name": "stdout",
     "output_type": "stream",
     "text": [
      "IVF_X shape: (250052, 94)\n",
      "IVF_test shape: (87891, 94)\n"
     ]
    }
   ],
   "source": [
    "print(f\"IVF_X shape: {IVF_X.shape}\")\n",
    "print(f\"IVF_test shape: {IVF_test.drop('ID', axis=1).shape}\")"
   ]
  },
  {
   "cell_type": "markdown",
   "metadata": {},
   "source": [
    "### 인코딩 "
   ]
  },
  {
   "cell_type": "code",
   "execution_count": 5,
   "metadata": {},
   "outputs": [],
   "source": [
    "IVF_categorical_columns = [\n",
    "    # 없음\n",
    "]"
   ]
  },
  {
   "cell_type": "code",
   "execution_count": 6,
   "metadata": {},
   "outputs": [],
   "source": [
    "# 모든 범주형 변수를 문자열로 변환\n",
    "IVF_X[IVF_categorical_columns] = IVF_X[IVF_categorical_columns].astype(str)\n",
    "IVF_test[IVF_categorical_columns] = IVF_test[IVF_categorical_columns].astype(str)\n",
    "\n",
    "# OrdinalEncoder를 사용하여 범주형 변수 인코딩\n",
    "IVF_encoder = OrdinalEncoder(handle_unknown='use_encoded_value', unknown_value=-1)\n",
    "\n",
    "IVF_X[IVF_categorical_columns] = IVF_encoder.fit_transform(IVF_X[IVF_categorical_columns])\n",
    "IVF_test[IVF_categorical_columns] = IVF_encoder.transform(IVF_test[IVF_categorical_columns])"
   ]
  },
  {
   "cell_type": "markdown",
   "metadata": {},
   "source": [
    "## Modeling"
   ]
  },
  {
   "cell_type": "code",
   "execution_count": 7,
   "metadata": {},
   "outputs": [],
   "source": [
    "# 데이터 분할\n",
    "IVF_X_train, IVF_X_test, IVF_y_train, IVF_y_test = train_test_split(IVF_X, IVF_y, test_size=0.2, random_state=42)"
   ]
  },
  {
   "cell_type": "markdown",
   "metadata": {},
   "source": [
    "### IVF 데이터"
   ]
  },
  {
   "cell_type": "code",
   "execution_count": null,
   "metadata": {},
   "outputs": [
    {
     "name": "stderr",
     "output_type": "stream",
     "text": [
      "[I 2025-02-25 01:18:41,938] A new study created in memory with name: no-name-710ce70c-84d8-4078-b78c-bff31404d9dc\n",
      "[I 2025-02-25 01:26:08,913] Trial 0 finished with value: 0.7288625318704042 and parameters: {'n_estimators': 3350, 'max_depth': 9, 'min_samples_split': 8, 'min_samples_leaf': 16}. Best is trial 0 with value: 0.7288625318704042.\n",
      "[I 2025-02-25 01:29:50,482] Trial 1 finished with value: 0.7154013668730672 and parameters: {'n_estimators': 3305, 'max_depth': 4, 'min_samples_split': 17, 'min_samples_leaf': 11}. Best is trial 0 with value: 0.7288625318704042.\n",
      "[I 2025-02-25 01:35:11,107] Trial 2 finished with value: 0.7351249815618514 and parameters: {'n_estimators': 1367, 'max_depth': 33, 'min_samples_split': 13, 'min_samples_leaf': 15}. Best is trial 2 with value: 0.7351249815618514.\n",
      "[I 2025-02-25 01:42:10,544] Trial 3 finished with value: 0.7341649178839755 and parameters: {'n_estimators': 1694, 'max_depth': 27, 'min_samples_split': 19, 'min_samples_leaf': 7}. Best is trial 2 with value: 0.7351249815618514.\n",
      "[I 2025-02-25 01:42:24,473] Trial 4 finished with value: 0.7268966468782315 and parameters: {'n_estimators': 110, 'max_depth': 8, 'min_samples_split': 2, 'min_samples_leaf': 4}. Best is trial 2 with value: 0.7351249815618514.\n",
      "[I 2025-02-25 01:48:10,892] Trial 5 finished with value: 0.734707267345392 and parameters: {'n_estimators': 1487, 'max_depth': 34, 'min_samples_split': 2, 'min_samples_leaf': 11}. Best is trial 2 with value: 0.7351249815618514.\n",
      "[I 2025-02-25 01:57:47,097] Trial 6 finished with value: 0.7328308545108988 and parameters: {'n_estimators': 2271, 'max_depth': 29, 'min_samples_split': 12, 'min_samples_leaf': 5}. Best is trial 2 with value: 0.7351249815618514.\n",
      "[I 2025-02-25 02:02:34,800] Trial 7 finished with value: 0.7343805839840768 and parameters: {'n_estimators': 1222, 'max_depth': 32, 'min_samples_split': 6, 'min_samples_leaf': 9}. Best is trial 2 with value: 0.7351249815618514.\n",
      "[I 2025-02-25 02:07:10,398] Trial 8 finished with value: 0.7349191374481849 and parameters: {'n_estimators': 1454, 'max_depth': 16, 'min_samples_split': 14, 'min_samples_leaf': 19}. Best is trial 2 with value: 0.7351249815618514.\n",
      "[I 2025-02-25 02:21:28,789] Trial 9 finished with value: 0.7350136135154075 and parameters: {'n_estimators': 3741, 'max_depth': 43, 'min_samples_split': 16, 'min_samples_leaf': 12}. Best is trial 2 with value: 0.7351249815618514.\n",
      "[I 2025-02-25 02:46:31,626] Trial 10 finished with value: 0.7229091364944668 and parameters: {'n_estimators': 4648, 'max_depth': 48, 'min_samples_split': 9, 'min_samples_leaf': 1}. Best is trial 2 with value: 0.7351249815618514.\n",
      "[I 2025-02-25 03:05:01,101] Trial 11 finished with value: 0.7351722227274736 and parameters: {'n_estimators': 4983, 'max_depth': 44, 'min_samples_split': 16, 'min_samples_leaf': 15}. Best is trial 11 with value: 0.7351722227274736.\n"
     ]
    }
   ],
   "source": [
    "import optuna\n",
    "from sklearn.ensemble import RandomForestClassifier\n",
    "from sklearn.metrics import roc_auc_score\n",
    "\n",
    "# 목적 함수 정의\n",
    "def objective(trial):\n",
    "    param = {\n",
    "        'n_estimators': trial.suggest_int('n_estimators', 100, 5000),\n",
    "        'max_depth': trial.suggest_int('max_depth', 1, 50),\n",
    "        'min_samples_split': trial.suggest_int('min_samples_split', 2, 20),\n",
    "        'min_samples_leaf': trial.suggest_int('min_samples_leaf', 1, 20),\n",
    "        \n",
    "        'random_state': 42,\n",
    "        # 'n_jobs': -1\n",
    "    }\n",
    "\n",
    "    model = RandomForestClassifier(**param)\n",
    "    model.fit(IVF_X_train, IVF_y_train)\n",
    "    \n",
    "    y_pred_proba = model.predict_proba(IVF_X_test)[:, 1]\n",
    "    \n",
    "    auc = roc_auc_score(IVF_y_test, y_pred_proba)\n",
    "    return auc\n",
    "\n",
    "# Optuna 스터디 생성 및 최적화 실행\n",
    "study = optuna.create_study(direction='maximize')\n",
    "study.optimize(objective, n_trials=800)\n",
    "\n",
    "# 최적의 하이퍼파라미터 출력\n",
    "print(\"Best trial:\")\n",
    "trial = study.best_trial\n",
    "print(f\"  Value: {trial.value}\")\n",
    "print(\"  Params: \")\n",
    "for key, value in trial.params.items():\n",
    "    print(f\"    {key}: {value}\")"
   ]
  },
  {
   "cell_type": "markdown",
   "metadata": {},
   "source": [
    "."
   ]
  }
 ],
 "metadata": {
  "kernelspec": {
   "display_name": "Python 3",
   "language": "python",
   "name": "python3"
  },
  "language_info": {
   "codemirror_mode": {
    "name": "ipython",
    "version": 3
   },
   "file_extension": ".py",
   "mimetype": "text/x-python",
   "name": "python",
   "nbconvert_exporter": "python",
   "pygments_lexer": "ipython3",
   "version": "3.11.8"
  }
 },
 "nbformat": 4,
 "nbformat_minor": 2
}
