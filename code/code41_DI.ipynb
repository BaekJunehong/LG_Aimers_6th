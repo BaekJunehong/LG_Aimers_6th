{
 "cells": [
  {
   "cell_type": "markdown",
   "metadata": {},
   "source": [
    "## 난임 환자 대상 임신 성공 여부 예측"
   ]
  },
  {
   "cell_type": "markdown",
   "metadata": {},
   "source": [
    "### LGAimers 6th 온라인 해커톤"
   ]
  },
  {
   "cell_type": "markdown",
   "metadata": {},
   "source": [
    "Import"
   ]
  },
  {
   "cell_type": "code",
   "execution_count": 1,
   "metadata": {},
   "outputs": [],
   "source": [
    "import pandas as pd\n",
    "import numpy as np\n",
    "import seaborn as sns\n",
    "import matplotlib.pyplot as plt"
   ]
  },
  {
   "cell_type": "code",
   "execution_count": 2,
   "metadata": {},
   "outputs": [],
   "source": [
    "import platform\n",
    "from matplotlib import rc\n",
    "\n",
    "# 운영 체제에 따라 폰트 설정\n",
    "if platform.system() == 'Windows':  # Windows 환경\n",
    "    rc('font', family='Malgun Gothic')  # 맑은 고딕\n",
    "\n",
    "# 음수 표시 가능하도록 설정\n",
    "plt.rcParams['axes.unicode_minus'] = False"
   ]
  },
  {
   "cell_type": "code",
   "execution_count": 3,
   "metadata": {},
   "outputs": [],
   "source": [
    "# 경고문구 숨기기\n",
    "import warnings\n",
    "warnings.filterwarnings(\"ignore\", category=pd.core.common.SettingWithCopyWarning)"
   ]
  },
  {
   "cell_type": "markdown",
   "metadata": {},
   "source": [
    "반복적으로 쓰는 함수툴"
   ]
  },
  {
   "cell_type": "code",
   "execution_count": 4,
   "metadata": {},
   "outputs": [],
   "source": [
    "def plot_box(df, col_name):\n",
    "    \"\"\"\n",
    "    주어진 데이터프레임과 열 이름에 대해 박스 플롯을 그리는 함수.\n",
    "\n",
    "    Parameters:\n",
    "    df (pd.DataFrame): 데이터프레임\n",
    "    col_name (str): 열 이름\n",
    "    \"\"\"\n",
    "    plt.figure(figsize=(7, 4))\n",
    "    plt.boxplot(df[col_name], vert=False)\n",
    "    plt.xlabel(col_name)\n",
    "    plt.title(f'Box Plot of {col_name}')\n",
    "    plt.show()\n",
    "\n",
    "def value_counts_ratio(df, col_name, target_name='임신_성공_여부'):\n",
    "    \"\"\"\n",
    "    주어진 데이터프레임의 특정 열에 대해 각 값마다 타겟 변수의 비율과 갯수, 총 갯수를 출력하는 함수.\n",
    "\n",
    "    Parameters:\n",
    "    df (pd.DataFrame): 데이터프레임\n",
    "    col_name (str): 열 이름\n",
    "    target_name (str): 타겟 변수 이름\n",
    "    \"\"\"\n",
    "    # 각 값마다 타겟 변수의 비율 계산\n",
    "    value_counts = df.groupby(col_name)[target_name].value_counts(normalize=True).unstack().fillna(0)\n",
    "    \n",
    "    # 각 값마다 타겟 변수의 갯수 계산\n",
    "    counts = df.groupby(col_name)[target_name].value_counts().unstack().fillna(0)\n",
    "    \n",
    "    # 각 값마다 총 갯수 계산\n",
    "    total_counts = df[col_name].value_counts().rename('Total_Count')\n",
    "    \n",
    "    # 비율과 갯수를 합침\n",
    "    result = value_counts.join(counts, lsuffix='_ratio', rsuffix='_count')\n",
    "    \n",
    "    # 총 갯수를 합침\n",
    "    result = result.join(total_counts, on=col_name)\n",
    "    \n",
    "    # 출력 형식 조정\n",
    "    result.index.name = 'variable'\n",
    "    print(f\"\\n{col_name}별 {target_name} 비율 및 갯수\\n\")\n",
    "    print(result.rename(columns=lambda x: x.split('_')[0]))\n",
    "\n",
    "def summarize_group(df, group_by_columns):\n",
    "    \"\"\"\n",
    "    주어진 데이터프레임을 특정 열들로 그룹화하여 각 그룹의 '임신_성공_여부' 비율과 갯수를 요약하는 함수.\n",
    "\n",
    "    Parameters:\n",
    "    df (pd.DataFrame): 데이터프레임\n",
    "    group_by_columns (list): 그룹화할 열 이름들의 리스트\n",
    "    \"\"\"\n",
    "    # 데이터프레임을 그룹화\n",
    "    grouped_df = df.groupby(group_by_columns)\n",
    "    \n",
    "    # 결과를 저장할 리스트 초기화\n",
    "    results = []\n",
    "    \n",
    "    # 그룹화된 데이터프레임의 내용을 확인하는 코드\n",
    "    for name, group in grouped_df:\n",
    "        # 그룹의 갯수 계산\n",
    "        group_count = group.shape[0]\n",
    "        \n",
    "        # '임신_성공_여부' 변수의 '임신 성공' 비율과 갯수 계산\n",
    "        success_count = group['임신_성공_여부'].value_counts().get(1, 0)\n",
    "        success_ratio = success_count / group_count\n",
    "        \n",
    "        # 결과 리스트에 추가\n",
    "        results.append([name, success_count, success_ratio, group_count])\n",
    "    \n",
    "    # 결과 리스트를 데이터프레임으로 변환\n",
    "    results_df = pd.DataFrame(results, columns=['group', \"'임신_성공_여부' count\", 'ratio', 'Total'])\n",
    "    \n",
    "    # 그룹화된 변수들의 이름을 제목행으로 출력\n",
    "    print(f\"Grouped by: {', '.join(group_by_columns)}\")\n",
    "    print()\n",
    "    # 데이터프레임 출력\n",
    "    print(results_df)\n",
    "\n",
    "def plot_ratio(df, group_by_column, target_column='임신_성공_여부', success_value=1):\n",
    "    \"\"\"\n",
    "    주어진 데이터프레임을 특정 열로 그룹화하여 각 그룹의 타겟 변수의 성공 비율을 시각화하는 함수.\n",
    "\n",
    "    Parameters:\n",
    "    df (pd.DataFrame): 데이터프레임\n",
    "    group_by_column (str): 그룹화할 열 이름\n",
    "    target_column (str): 타겟 변수 이름\n",
    "    success_value (int): 타겟 변수의 성공을 나타내는 값\n",
    "    \"\"\"\n",
    "    # 데이터프레임을 그룹화\n",
    "    grouped_df = df.groupby(group_by_column)\n",
    "    \n",
    "    # 결과를 저장할 리스트 초기화\n",
    "    results = []\n",
    "    \n",
    "    # 그룹화된 데이터프레임의 내용을 확인하는 코드\n",
    "    for name, group in grouped_df:\n",
    "        # 그룹의 갯수 계산\n",
    "        group_count = group.shape[0]\n",
    "        \n",
    "        # '임신_성공_여부' 변수의 '성공' 비율과 갯수 계산\n",
    "        success_count = group[target_column].value_counts().get(success_value, 0)\n",
    "        success_ratio = success_count / group_count\n",
    "        \n",
    "        # 결과 리스트에 추가\n",
    "        results.append([name, success_count, success_ratio, group_count])\n",
    "    \n",
    "    # 결과 리스트를 데이터프레임으로 변환\n",
    "    results_df = pd.DataFrame(results, columns=['group', f\"'{success_value}' count\", 'ratio', 'Total'])\n",
    "    \n",
    "    # 그래프 크기 설정\n",
    "    plt.figure(figsize=(10, 5))\n",
    "    \n",
    "    # 막대 그래프 생성\n",
    "    ax = results_df.plot(kind='bar', x='group', y='ratio', legend=False)\n",
    "    \n",
    "    # 각 막대 위에 임신 성공 여부 갯수와 총 갯수 표시\n",
    "    for i, (success_count, total) in enumerate(zip(results_df[f\"'{success_value}' count\"], results_df['Total'])):\n",
    "        ax.text(i, results_df['ratio'][i], f'{success_count} ({total})', ha='center', va='bottom', fontsize=8)\n",
    "    \n",
    "    # 그래프 제목 및 축 레이블 설정\n",
    "    ax.set_title(f'{success_value} Ratio by {group_by_column}')\n",
    "    ax.set_xlabel(group_by_column)\n",
    "    ax.set_ylabel(f'{success_value} Ratio')\n",
    "   \n",
    "    # 그래프 출력\n",
    "    plt.show()\n",
    "\n",
    "def plot_ratio_boxplot(data, column_name, target_column='임신_성공_여부'):\n",
    "    \"\"\"\n",
    "    주어진 데이터프레임의 특정 열과 타겟 변수 간의 관계를 박스 플롯으로 시각화하는 함수.\n",
    "\n",
    "    Parameters:\n",
    "    data (pd.DataFrame): 데이터프레임\n",
    "    column_name (str): 열 이름\n",
    "    target_column (str): 타겟 변수 이름\n",
    "    \"\"\"\n",
    "\n",
    "    # 그래프 그리기\n",
    "    plt.figure(figsize=(10, 6))\n",
    "    sns.boxplot(x=column_name, y=target_column, data=data)\n",
    "\n",
    "    # 그래프 제목 및 레이블 설정\n",
    "    plt.title(f'{column_name} vs {target_column}')\n",
    "    plt.xlabel(column_name)\n",
    "    plt.ylabel(target_column)\n",
    "\n",
    "    # 그래프 출력\n",
    "    plt.show()"
   ]
  },
  {
   "cell_type": "markdown",
   "metadata": {},
   "source": [
    "### Data Load"
   ]
  },
  {
   "cell_type": "code",
   "execution_count": 5,
   "metadata": {},
   "outputs": [],
   "source": [
    "# 데이터 로드\n",
    "train = pd.read_csv('../data/train.csv')\n",
    "test = pd.read_csv('../data/test.csv')\n",
    "\n",
    "# 변수명에서 공백을 밑줄로 대체\n",
    "train.columns = train.columns.str.replace(' ', '_')\n",
    "test.columns = test.columns.str.replace(' ', '_')"
   ]
  },
  {
   "cell_type": "code",
   "execution_count": 6,
   "metadata": {},
   "outputs": [],
   "source": [
    "# train.info(verbose=True)"
   ]
  },
  {
   "cell_type": "markdown",
   "metadata": {},
   "source": [
    "## EDA"
   ]
  },
  {
   "cell_type": "code",
   "execution_count": 7,
   "metadata": {},
   "outputs": [],
   "source": [
    "# '시술_유형' 변수의 값이 'DI'에 해당 안하는 데이터 추출\n",
    "DI_train = train[train['시술_유형'] == 'DI'] \n",
    "DI_test = test[test['시술_유형'] == 'DI']\n",
    "\n",
    "# 모든 값이 결측값인 변수를 제거\n",
    "DI_train = DI_train.dropna(axis=1, how='all')\n",
    "DI_test = DI_test.dropna(axis=1, how='all')\n",
    "\n",
    "# 결측값이 없는 상태에서 고유값이 1개만 존재하는 변수 제거\n",
    "unique_value_columns_train = DI_train.columns[DI_train.nunique() <= 1]\n",
    "unique_value_columns_test = DI_test.columns[DI_test.nunique() <= 1]\n",
    "\n",
    "train = DI_train.drop(columns=unique_value_columns_train)\n",
    "test = DI_test.drop(columns=unique_value_columns_test)"
   ]
  },
  {
   "cell_type": "markdown",
   "metadata": {},
   "source": [
    "타겟변수 비율 확인"
   ]
  },
  {
   "cell_type": "code",
   "execution_count": 8,
   "metadata": {},
   "outputs": [
    {
     "name": "stdout",
     "output_type": "stream",
     "text": [
      "임신_성공_여부 값 개수:\n",
      "0    5480\n",
      "1     811\n",
      "Name: 임신_성공_여부, dtype: int64\n",
      "\n",
      "임신_성공_여부 값 비율 (%):\n",
      "0    87.108568\n",
      "1    12.891432\n",
      "Name: 임신_성공_여부, dtype: float64\n"
     ]
    }
   ],
   "source": [
    "# '임신_성공_여부' 변수의 값 개수 계산\n",
    "value_counts = train['임신_성공_여부'].value_counts()\n",
    "\n",
    "# 각 값이 전체에서 차지하는 비율 계산\n",
    "value_percentages = value_counts / len(train) * 100\n",
    "\n",
    "# 결과 출력\n",
    "print(\"임신_성공_여부 값 개수:\")\n",
    "print(value_counts)\n",
    "print(\"\\n임신_성공_여부 값 비율 (%):\")\n",
    "print(value_percentages)"
   ]
  },
  {
   "cell_type": "markdown",
   "metadata": {},
   "source": [
    "### 1. 시술 시기 코드"
   ]
  },
  {
   "cell_type": "markdown",
   "metadata": {},
   "source": [
    "난임 시술을 받은 시기를 기준으로 코드 부여"
   ]
  },
  {
   "cell_type": "code",
   "execution_count": 9,
   "metadata": {},
   "outputs": [
    {
     "name": "stdout",
     "output_type": "stream",
     "text": [
      "\n",
      "시술_시기_코드별 임신_성공_여부 비율 및 갯수\n",
      "\n",
      "                 0         1    0    1  Total\n",
      "variable                                     \n",
      "TRCMWS    0.862981  0.137019  718  114    832\n",
      "TRDQAZ    0.887967  0.112033  856  108    964\n",
      "TRJXFG    0.886770  0.113230  744   95    839\n",
      "TRVNRY    0.877426  0.122574  859  120    979\n",
      "TRXQMD    0.837808  0.162192  749  145    894\n",
      "TRYBLT    0.865811  0.134189  742  115    857\n",
      "TRZKPL    0.876890  0.123110  812  114    926\n"
     ]
    }
   ],
   "source": [
    "value_counts_ratio(train, '시술_시기_코드')"
   ]
  },
  {
   "cell_type": "markdown",
   "metadata": {},
   "source": [
    "### 2. 시술 당시 나이"
   ]
  },
  {
   "cell_type": "markdown",
   "metadata": {},
   "source": [
    "환자의 시술 당시 나이(연령대)"
   ]
  },
  {
   "cell_type": "code",
   "execution_count": 10,
   "metadata": {},
   "outputs": [
    {
     "name": "stdout",
     "output_type": "stream",
     "text": [
      "\n",
      "시술_당시_나이별 임신_성공_여부 비율 및 갯수\n",
      "\n",
      "                 0         1     0    1  Total\n",
      "variable                                      \n",
      "만18-34세   0.805408  0.194592  1668  403   2071\n",
      "만35-37세   0.848966  0.151034  1231  219   1450\n",
      "만38-39세   0.897436  0.102564   945  108   1053\n",
      "만40-42세   0.930502  0.069498   964   72   1036\n",
      "만43-44세   0.980907  0.019093   411    8    419\n",
      "만45-50세   0.996183  0.003817   261    1    262\n"
     ]
    }
   ],
   "source": [
    "value_counts_ratio(train, '시술_당시_나이')"
   ]
  },
  {
   "cell_type": "markdown",
   "metadata": {},
   "source": [
    "### 3. 임신 시도 또는 마지막 임신 경과 일수"
   ]
  },
  {
   "cell_type": "markdown",
   "metadata": {},
   "source": [
    "환자가 처음 임신을 시도한 시점 또는 마지막 임신 이후 현재까지의 경과 연수 (년 단위)"
   ]
  },
  {
   "cell_type": "code",
   "execution_count": 11,
   "metadata": {},
   "outputs": [
    {
     "name": "stdout",
     "output_type": "stream",
     "text": [
      "\n",
      "임신_시도_또는_마지막_임신_경과_연수별 임신_성공_여부 비율 및 갯수\n",
      "\n",
      "                 0         1     0    1  Total\n",
      "variable                                      \n",
      "1.0       1.000000  0.000000   2.0  0.0      2\n",
      "3.0       0.666667  0.333333   6.0  3.0      9\n",
      "4.0       0.700000  0.300000   7.0  3.0     10\n",
      "5.0       0.785714  0.214286  11.0  3.0     14\n",
      "6.0       0.852941  0.147059  29.0  5.0     34\n",
      "7.0       0.727273  0.272727  24.0  9.0     33\n",
      "8.0       0.853659  0.146341  35.0  6.0     41\n",
      "9.0       0.965517  0.034483  28.0  1.0     29\n",
      "10.0      0.774194  0.225806  24.0  7.0     31\n",
      "11.0      0.862069  0.137931  25.0  4.0     29\n",
      "12.0      0.863636  0.136364  19.0  3.0     22\n",
      "13.0      0.888889  0.111111  16.0  2.0     18\n",
      "14.0      0.800000  0.200000   8.0  2.0     10\n",
      "15.0      0.800000  0.200000   4.0  1.0      5\n",
      "16.0      1.000000  0.000000   1.0  0.0      1\n",
      "17.0      0.833333  0.166667   5.0  1.0      6\n",
      "18.0      1.000000  0.000000   2.0  0.0      2\n",
      "19.0      0.666667  0.333333   2.0  1.0      3\n",
      "20.0      1.000000  0.000000   4.0  0.0      4\n"
     ]
    }
   ],
   "source": [
    "value_counts_ratio(train, '임신_시도_또는_마지막_임신_경과_연수')"
   ]
  },
  {
   "cell_type": "code",
   "execution_count": 12,
   "metadata": {},
   "outputs": [
    {
     "name": "stdout",
     "output_type": "stream",
     "text": [
      "결측값 개수: 5988\n",
      "결측값 개수: 0\n"
     ]
    }
   ],
   "source": [
    "print(\"결측값 개수:\", train['임신_시도_또는_마지막_임신_경과_연수'].isnull().sum())\n",
    "\n",
    "train['임신_시도_또는_마지막_임신_경과_연수'].fillna(-1, inplace=True)\n",
    "test['임신_시도_또는_마지막_임신_경과_연수'].fillna(-1, inplace=True)\n",
    "\n",
    "print(\"결측값 개수:\", train['임신_시도_또는_마지막_임신_경과_연수'].isnull().sum())"
   ]
  },
  {
   "cell_type": "code",
   "execution_count": 13,
   "metadata": {},
   "outputs": [
    {
     "name": "stdout",
     "output_type": "stream",
     "text": [
      "\n",
      "임신_시도_또는_마지막_임신_경과_연수별 임신_성공_여부 비율 및 갯수\n",
      "\n",
      "                 0         1       0      1  Total\n",
      "variable                                          \n",
      "-1.0      0.873079  0.126921  5228.0  760.0   5988\n",
      " 1.0      1.000000  0.000000     2.0    0.0      2\n",
      " 3.0      0.666667  0.333333     6.0    3.0      9\n",
      " 4.0      0.700000  0.300000     7.0    3.0     10\n",
      " 5.0      0.785714  0.214286    11.0    3.0     14\n",
      " 6.0      0.852941  0.147059    29.0    5.0     34\n",
      " 7.0      0.727273  0.272727    24.0    9.0     33\n",
      " 8.0      0.853659  0.146341    35.0    6.0     41\n",
      " 9.0      0.965517  0.034483    28.0    1.0     29\n",
      " 10.0     0.774194  0.225806    24.0    7.0     31\n",
      " 11.0     0.862069  0.137931    25.0    4.0     29\n",
      " 12.0     0.863636  0.136364    19.0    3.0     22\n",
      " 13.0     0.888889  0.111111    16.0    2.0     18\n",
      " 14.0     0.800000  0.200000     8.0    2.0     10\n",
      " 15.0     0.800000  0.200000     4.0    1.0      5\n",
      " 16.0     1.000000  0.000000     1.0    0.0      1\n",
      " 17.0     0.833333  0.166667     5.0    1.0      6\n",
      " 18.0     1.000000  0.000000     2.0    0.0      2\n",
      " 19.0     0.666667  0.333333     2.0    1.0      3\n",
      " 20.0     1.000000  0.000000     4.0    0.0      4\n"
     ]
    }
   ],
   "source": [
    "value_counts_ratio(train, '임신_시도_또는_마지막_임신_경과_연수')"
   ]
  },
  {
   "cell_type": "markdown",
   "metadata": {},
   "source": [
    "### 5. 특정_시술_유형"
   ]
  },
  {
   "cell_type": "markdown",
   "metadata": {},
   "source": [
    "GIFT – 생식세포 나팔관 이식  \n",
    "Generic DI – 기증 정자 주입  \n",
    "ICI – 자궁경부 인공 수정  \n",
    "IUI – 인공 수정 (자궁 내 주입)  \n",
    "IVI – 질 내 인공 수정   \n",
    "Unknown – 시술 유형 정보가 제공되지 않았거나 알 수 없음  "
   ]
  },
  {
   "cell_type": "code",
   "execution_count": 14,
   "metadata": {},
   "outputs": [
    {
     "name": "stdout",
     "output_type": "stream",
     "text": [
      "Grouped by: 특정_시술_유형\n",
      "\n",
      "        group  '임신_성공_여부' count     ratio  Total\n",
      "0        GIFT                 0  0.000000      1\n",
      "1  Generic DI                12  0.169014     71\n",
      "2         ICI                13  0.135417     96\n",
      "3         IUI               784  0.128525   6100\n",
      "4         IVI                 2  0.086957     23\n"
     ]
    }
   ],
   "source": [
    "summarize_group(train, ['특정_시술_유형'])"
   ]
  },
  {
   "cell_type": "code",
   "execution_count": 15,
   "metadata": {},
   "outputs": [
    {
     "data": {
      "text/plain": [
       "IUI           2112\n",
       "ICI             28\n",
       "Generic DI      26\n",
       "IVI              8\n",
       "IUI:ICI          2\n",
       "Name: 특정_시술_유형, dtype: int64"
      ]
     },
     "execution_count": 15,
     "metadata": {},
     "output_type": "execute_result"
    }
   ],
   "source": [
    "test['특정_시술_유형'].value_counts()"
   ]
  },
  {
   "cell_type": "markdown",
   "metadata": {},
   "source": [
    "test 데이터에 없고 train 데이터에만 있는 행 제거"
   ]
  },
  {
   "cell_type": "code",
   "execution_count": 16,
   "metadata": {},
   "outputs": [],
   "source": [
    "# '특정_시술_유형' 변수의 값이 'GIFT'인 행 제거 (test 데이터에는 'GIFT' 값이 없음)\n",
    "train = train.loc[~train['특정_시술_유형'].isin(['GIFT'])]"
   ]
  },
  {
   "cell_type": "code",
   "execution_count": 17,
   "metadata": {},
   "outputs": [
    {
     "data": {
      "text/plain": [
       "0"
      ]
     },
     "execution_count": 17,
     "metadata": {},
     "output_type": "execute_result"
    }
   ],
   "source": [
    "train['특정_시술_유형'].isnull().sum()"
   ]
  },
  {
   "cell_type": "code",
   "execution_count": 18,
   "metadata": {},
   "outputs": [],
   "source": [
    "# 시술 유형 변환 함수\n",
    "def transform_treatment(treatment):\n",
    "    if isinstance(treatment, str):  # treatment가 문자열인지 확인\n",
    "        if treatment == \"IUI:ICI\":\n",
    "            return \"IUI\"\n",
    "    return treatment  # 기타 시술은 그대로 반환\n",
    "\n",
    "# 변환된 열 추가\n",
    "train['특정_시술_유형'] = train['특정_시술_유형'].apply(transform_treatment)\n",
    "test['특정_시술_유형'] = test['특정_시술_유형'].apply(transform_treatment)"
   ]
  },
  {
   "cell_type": "code",
   "execution_count": 19,
   "metadata": {},
   "outputs": [
    {
     "name": "stdout",
     "output_type": "stream",
     "text": [
      "\n",
      "특정_시술_유형별 임신_성공_여부 비율 및 갯수\n",
      "\n",
      "                   0         1     0    1  Total\n",
      "variable                                        \n",
      "Generic DI  0.830986  0.169014    59   12     71\n",
      "ICI         0.864583  0.135417    83   13     96\n",
      "IUI         0.871475  0.128525  5316  784   6100\n",
      "IVI         0.913043  0.086957    21    2     23\n"
     ]
    }
   ],
   "source": [
    "value_counts_ratio(train, '특정_시술_유형')"
   ]
  },
  {
   "cell_type": "code",
   "execution_count": 20,
   "metadata": {},
   "outputs": [
    {
     "data": {
      "text/plain": [
       "IUI           2114\n",
       "ICI             28\n",
       "Generic DI      26\n",
       "IVI              8\n",
       "Name: 특정_시술_유형, dtype: int64"
      ]
     },
     "execution_count": 20,
     "metadata": {},
     "output_type": "execute_result"
    }
   ],
   "source": [
    "test['특정_시술_유형'].value_counts()"
   ]
  },
  {
   "cell_type": "markdown",
   "metadata": {},
   "source": [
    "### 6. 배란_자극_여부"
   ]
  },
  {
   "cell_type": "markdown",
   "metadata": {},
   "source": [
    "배란 자극 치료가 사용되었는지 여부"
   ]
  },
  {
   "cell_type": "code",
   "execution_count": 21,
   "metadata": {},
   "outputs": [
    {
     "name": "stdout",
     "output_type": "stream",
     "text": [
      "\n",
      "배란_자극_여부별 임신_성공_여부 비율 및 갯수\n",
      "\n",
      "                 0         1     0    1  Total\n",
      "variable                                      \n",
      "0         0.882529  0.117471  2652  353   3005\n",
      "1         0.860578  0.139422  2827  458   3285\n"
     ]
    }
   ],
   "source": [
    "value_counts_ratio(train, '배란_자극_여부')"
   ]
  },
  {
   "cell_type": "markdown",
   "metadata": {},
   "source": [
    "### 11. 남성_주_불임_원인"
   ]
  },
  {
   "cell_type": "markdown",
   "metadata": {},
   "source": [
    "남성의 주요 불임 원인 여부"
   ]
  },
  {
   "cell_type": "code",
   "execution_count": 22,
   "metadata": {},
   "outputs": [
    {
     "name": "stdout",
     "output_type": "stream",
     "text": [
      "\n",
      "남성_주_불임_원인별 임신_성공_여부 비율 및 갯수\n",
      "\n",
      "                 0         1     0    1  Total\n",
      "variable                                      \n",
      "0         0.874250  0.125750  5249  755   6004\n",
      "1         0.804196  0.195804   230   56    286\n"
     ]
    }
   ],
   "source": [
    "value_counts_ratio(train, '남성_주_불임_원인')"
   ]
  },
  {
   "cell_type": "markdown",
   "metadata": {},
   "source": [
    "### 12. 남성_부_불임_원인"
   ]
  },
  {
   "cell_type": "markdown",
   "metadata": {},
   "source": [
    "남성의 부차적 불임 원인 여부"
   ]
  },
  {
   "cell_type": "code",
   "execution_count": 23,
   "metadata": {},
   "outputs": [
    {
     "name": "stdout",
     "output_type": "stream",
     "text": [
      "\n",
      "남성_부_불임_원인별 임신_성공_여부 비율 및 갯수\n",
      "\n",
      "                 0         1     0    1  Total\n",
      "variable                                      \n",
      "0         0.871067  0.128933  5371  795   6166\n",
      "1         0.870968  0.129032   108   16    124\n"
     ]
    }
   ],
   "source": [
    "value_counts_ratio(train, '남성_부_불임_원인')"
   ]
  },
  {
   "cell_type": "code",
   "execution_count": 24,
   "metadata": {},
   "outputs": [
    {
     "name": "stdout",
     "output_type": "stream",
     "text": [
      "Grouped by: 남성_주_불임_원인, 남성_부_불임_원인\n",
      "\n",
      "    group  '임신_성공_여부' count     ratio  Total\n",
      "0  (0, 0)               739  0.125680   5880\n",
      "1  (0, 1)                16  0.129032    124\n",
      "2  (1, 0)                56  0.195804    286\n"
     ]
    }
   ],
   "source": [
    "summarize_group(train, ['남성_주_불임_원인', '남성_부_불임_원인'])"
   ]
  },
  {
   "cell_type": "markdown",
   "metadata": {},
   "source": [
    "### 13. 여성_주_불임_원인"
   ]
  },
  {
   "cell_type": "markdown",
   "metadata": {},
   "source": [
    "여성의 주요 불임 원인 여부"
   ]
  },
  {
   "cell_type": "code",
   "execution_count": 25,
   "metadata": {},
   "outputs": [
    {
     "name": "stdout",
     "output_type": "stream",
     "text": [
      "\n",
      "여성_주_불임_원인별 임신_성공_여부 비율 및 갯수\n",
      "\n",
      "                 0         1     0    1  Total\n",
      "variable                                      \n",
      "0         0.873895  0.126105  5142  742   5884\n",
      "1         0.830049  0.169951   337   69    406\n"
     ]
    }
   ],
   "source": [
    "value_counts_ratio(train, '여성_주_불임_원인')"
   ]
  },
  {
   "cell_type": "markdown",
   "metadata": {},
   "source": [
    "### 14. 여성_부_불임_원인"
   ]
  },
  {
   "cell_type": "markdown",
   "metadata": {},
   "source": [
    "여성의 부차적 불임 원인 여부"
   ]
  },
  {
   "cell_type": "code",
   "execution_count": 26,
   "metadata": {},
   "outputs": [
    {
     "name": "stdout",
     "output_type": "stream",
     "text": [
      "\n",
      "여성_부_불임_원인별 임신_성공_여부 비율 및 갯수\n",
      "\n",
      "                 0         1     0    1  Total\n",
      "variable                                      \n",
      "0         0.871429  0.128571  5368  792   6160\n",
      "1         0.853846  0.146154   111   19    130\n"
     ]
    }
   ],
   "source": [
    "value_counts_ratio(train, '여성_부_불임_원인')"
   ]
  },
  {
   "cell_type": "code",
   "execution_count": 27,
   "metadata": {},
   "outputs": [
    {
     "name": "stdout",
     "output_type": "stream",
     "text": [
      "Grouped by: 여성_주_불임_원인, 여성_부_불임_원인\n",
      "\n",
      "    group  '임신_성공_여부' count     ratio  Total\n",
      "0  (0, 0)               723  0.125652   5754\n",
      "1  (0, 1)                19  0.146154    130\n",
      "2  (1, 0)                69  0.169951    406\n"
     ]
    }
   ],
   "source": [
    "summarize_group(train, ['여성_주_불임_원인', '여성_부_불임_원인'])"
   ]
  },
  {
   "cell_type": "markdown",
   "metadata": {},
   "source": [
    "### 15. 부부_주_불임_원인"
   ]
  },
  {
   "cell_type": "markdown",
   "metadata": {},
   "source": [
    "부부의 주요 불임 원인 여부"
   ]
  },
  {
   "cell_type": "code",
   "execution_count": 28,
   "metadata": {},
   "outputs": [
    {
     "name": "stdout",
     "output_type": "stream",
     "text": [
      "\n",
      "부부_주_불임_원인별 임신_성공_여부 비율 및 갯수\n",
      "\n",
      "                 0         1     0    1  Total\n",
      "variable                                      \n",
      "0         0.874894  0.125106  5182  741   5923\n",
      "1         0.809264  0.190736   297   70    367\n"
     ]
    }
   ],
   "source": [
    "value_counts_ratio(train, '부부_주_불임_원인')"
   ]
  },
  {
   "cell_type": "markdown",
   "metadata": {},
   "source": [
    "### 16. 부부_부_불임_원인"
   ]
  },
  {
   "cell_type": "markdown",
   "metadata": {},
   "source": [
    "부부의 부차적 불임 원인 여부"
   ]
  },
  {
   "cell_type": "code",
   "execution_count": 29,
   "metadata": {},
   "outputs": [
    {
     "name": "stdout",
     "output_type": "stream",
     "text": [
      "\n",
      "부부_부_불임_원인별 임신_성공_여부 비율 및 갯수\n",
      "\n",
      "                 0         1     0    1  Total\n",
      "variable                                      \n",
      "0         0.871144  0.128856  5422  802   6224\n",
      "1         0.863636  0.136364    57    9     66\n"
     ]
    }
   ],
   "source": [
    "value_counts_ratio(train, '부부_부_불임_원인')"
   ]
  },
  {
   "cell_type": "code",
   "execution_count": 30,
   "metadata": {},
   "outputs": [
    {
     "name": "stdout",
     "output_type": "stream",
     "text": [
      "Grouped by: 부부_주_불임_원인, 부부_부_불임_원인\n",
      "\n",
      "    group  '임신_성공_여부' count     ratio  Total\n",
      "0  (0, 0)               732  0.124957   5858\n",
      "1  (0, 1)                 9  0.138462     65\n",
      "2  (1, 0)                70  0.191257    366\n",
      "3  (1, 1)                 0  0.000000      1\n"
     ]
    }
   ],
   "source": [
    "summarize_group(train, ['부부_주_불임_원인','부부_부_불임_원인'])"
   ]
  },
  {
   "cell_type": "code",
   "execution_count": 31,
   "metadata": {},
   "outputs": [
    {
     "name": "stdout",
     "output_type": "stream",
     "text": [
      "Grouped by: 부부_주_불임_원인, 부부_부_불임_원인\n",
      "\n",
      "    group  '임신_성공_여부' count     ratio  Total\n",
      "0  (0, 0)               732  0.124957   5858\n",
      "1  (0, 1)                 9  0.138462     65\n",
      "2  (1, 0)                70  0.191257    366\n"
     ]
    }
   ],
   "source": [
    "# '부부_주_불임_원인' 및 '부부_부_불임_원인' 값이 동시에 1인 행 제거 (test 데이터에는 조건에 해당하는 행이 없음)\n",
    "train = train[~((train['부부_주_불임_원인'] == 1) & (train['부부_부_불임_원인'] == 1))]\n",
    "\n",
    "# 결과 확인\n",
    "summarize_group(train, ['부부_주_불임_원인','부부_부_불임_원인'])"
   ]
  },
  {
   "cell_type": "code",
   "execution_count": 32,
   "metadata": {},
   "outputs": [
    {
     "data": {
      "text/html": [
       "<div>\n",
       "<style scoped>\n",
       "    .dataframe tbody tr th:only-of-type {\n",
       "        vertical-align: middle;\n",
       "    }\n",
       "\n",
       "    .dataframe tbody tr th {\n",
       "        vertical-align: top;\n",
       "    }\n",
       "\n",
       "    .dataframe thead th {\n",
       "        text-align: right;\n",
       "    }\n",
       "</style>\n",
       "<table border=\"1\" class=\"dataframe\">\n",
       "  <thead>\n",
       "    <tr style=\"text-align: right;\">\n",
       "      <th></th>\n",
       "      <th>부부_주_불임_원인</th>\n",
       "      <th>부부_부_불임_원인</th>\n",
       "      <th>count</th>\n",
       "    </tr>\n",
       "  </thead>\n",
       "  <tbody>\n",
       "    <tr>\n",
       "      <th>0</th>\n",
       "      <td>0</td>\n",
       "      <td>0</td>\n",
       "      <td>2035</td>\n",
       "    </tr>\n",
       "    <tr>\n",
       "      <th>1</th>\n",
       "      <td>0</td>\n",
       "      <td>1</td>\n",
       "      <td>27</td>\n",
       "    </tr>\n",
       "    <tr>\n",
       "      <th>2</th>\n",
       "      <td>1</td>\n",
       "      <td>0</td>\n",
       "      <td>114</td>\n",
       "    </tr>\n",
       "  </tbody>\n",
       "</table>\n",
       "</div>"
      ],
      "text/plain": [
       "   부부_주_불임_원인  부부_부_불임_원인  count\n",
       "0           0           0   2035\n",
       "1           0           1     27\n",
       "2           1           0    114"
      ]
     },
     "execution_count": 32,
     "metadata": {},
     "output_type": "execute_result"
    }
   ],
   "source": [
    "# 두 변수에 대해 그룹별 갯수 카운팅\n",
    "test.groupby(['부부_주_불임_원인', '부부_부_불임_원인']).size().reset_index(name='count')"
   ]
  },
  {
   "cell_type": "markdown",
   "metadata": {},
   "source": [
    "### 17. 불명확_불임_원인"
   ]
  },
  {
   "cell_type": "markdown",
   "metadata": {},
   "source": [
    "불명의 원인으로 인한 불임 여부"
   ]
  },
  {
   "cell_type": "code",
   "execution_count": 33,
   "metadata": {},
   "outputs": [
    {
     "name": "stdout",
     "output_type": "stream",
     "text": [
      "\n",
      "불명확_불임_원인별 임신_성공_여부 비율 및 갯수\n",
      "\n",
      "                 0         1     0    1  Total\n",
      "variable                                      \n",
      "0         0.868204  0.131796  5046  766   5812\n",
      "1         0.905660  0.094340   432   45    477\n"
     ]
    }
   ],
   "source": [
    "value_counts_ratio(train, '불명확_불임_원인')"
   ]
  },
  {
   "cell_type": "markdown",
   "metadata": {},
   "source": [
    "### 18. 불임_원인_-_난관_질환"
   ]
  },
  {
   "cell_type": "markdown",
   "metadata": {},
   "source": [
    "난관 이상으로 인한 불임 여부"
   ]
  },
  {
   "cell_type": "code",
   "execution_count": 34,
   "metadata": {},
   "outputs": [
    {
     "name": "stdout",
     "output_type": "stream",
     "text": [
      "\n",
      "불임_원인_-_난관_질환별 임신_성공_여부 비율 및 갯수\n",
      "\n",
      "                 0         1     0    1  Total\n",
      "variable                                      \n",
      "0         0.870412  0.129588  5407  805   6212\n",
      "1         0.922078  0.077922    71    6     77\n"
     ]
    }
   ],
   "source": [
    "value_counts_ratio(train, '불임_원인_-_난관_질환')"
   ]
  },
  {
   "cell_type": "markdown",
   "metadata": {},
   "source": [
    "### 19. 불임_원인_-_남성_요인"
   ]
  },
  {
   "cell_type": "markdown",
   "metadata": {},
   "source": [
    "남성 요인으로 인한 불임 여부"
   ]
  },
  {
   "cell_type": "code",
   "execution_count": 35,
   "metadata": {},
   "outputs": [
    {
     "name": "stdout",
     "output_type": "stream",
     "text": [
      "\n",
      "불임_원인_-_남성_요인별 임신_성공_여부 비율 및 갯수\n",
      "\n",
      "                 0         1     0    1  Total\n",
      "variable                                      \n",
      "0         0.895925  0.104075  3056  355   3411\n",
      "1         0.841557  0.158443  2422  456   2878\n"
     ]
    }
   ],
   "source": [
    "value_counts_ratio(train, '불임_원인_-_남성_요인')"
   ]
  },
  {
   "cell_type": "markdown",
   "metadata": {},
   "source": [
    "### 20. 불임_원인_-_배란_장애"
   ]
  },
  {
   "cell_type": "markdown",
   "metadata": {},
   "source": [
    "배란 장애로 인한 불임 여부"
   ]
  },
  {
   "cell_type": "code",
   "execution_count": 36,
   "metadata": {},
   "outputs": [
    {
     "name": "stdout",
     "output_type": "stream",
     "text": [
      "\n",
      "불임_원인_-_배란_장애별 임신_성공_여부 비율 및 갯수\n",
      "\n",
      "                0        1     0    1  Total\n",
      "variable                                    \n",
      "0         0.87117  0.12883  5146  761   5907\n",
      "1         0.86911  0.13089   332   50    382\n"
     ]
    }
   ],
   "source": [
    "value_counts_ratio(train, '불임_원인_-_배란_장애')"
   ]
  },
  {
   "cell_type": "markdown",
   "metadata": {},
   "source": [
    "### 23. 불임_원인_-_자궁내막증"
   ]
  },
  {
   "cell_type": "markdown",
   "metadata": {},
   "source": [
    "자궁내막증으로 인한 불임 여부"
   ]
  },
  {
   "cell_type": "code",
   "execution_count": 37,
   "metadata": {},
   "outputs": [
    {
     "name": "stdout",
     "output_type": "stream",
     "text": [
      "\n",
      "불임_원인_-_자궁내막증별 임신_성공_여부 비율 및 갯수\n",
      "\n",
      "                 0         1     0    1  Total\n",
      "variable                                      \n",
      "0         0.869736  0.130264  5328  798   6126\n",
      "1         0.920245  0.079755   150   13    163\n"
     ]
    }
   ],
   "source": [
    "value_counts_ratio(train, '불임_원인_-_자궁내막증')"
   ]
  },
  {
   "cell_type": "markdown",
   "metadata": {},
   "source": [
    "### 24. 불임_원인_-_정자_농도"
   ]
  },
  {
   "cell_type": "markdown",
   "metadata": {},
   "source": [
    "파트너의 정자 농도 문제 여부"
   ]
  },
  {
   "cell_type": "code",
   "execution_count": 38,
   "metadata": {},
   "outputs": [
    {
     "name": "stdout",
     "output_type": "stream",
     "text": [
      "\n",
      "불임_원인_-_정자_농도별 임신_성공_여부 비율 및 갯수\n",
      "\n",
      "                 0         1     0    1  Total\n",
      "variable                                      \n",
      "0         0.871520  0.128480  5447  803   6250\n",
      "1         0.794872  0.205128    31    8     39\n"
     ]
    }
   ],
   "source": [
    "value_counts_ratio(train, '불임_원인_-_정자_농도')"
   ]
  },
  {
   "cell_type": "code",
   "execution_count": 39,
   "metadata": {},
   "outputs": [
    {
     "data": {
      "text/plain": [
       "0    2165\n",
       "1      11\n",
       "Name: 불임_원인_-_정자_농도, dtype: int64"
      ]
     },
     "execution_count": 39,
     "metadata": {},
     "output_type": "execute_result"
    }
   ],
   "source": [
    "test['불임_원인_-_정자_농도'].value_counts()"
   ]
  },
  {
   "cell_type": "markdown",
   "metadata": {},
   "source": [
    "### 29. 총_시술_횟수"
   ]
  },
  {
   "cell_type": "markdown",
   "metadata": {},
   "source": [
    "IVF 및 DI 포함한 전체 시술 횟수"
   ]
  },
  {
   "cell_type": "code",
   "execution_count": 40,
   "metadata": {},
   "outputs": [
    {
     "name": "stdout",
     "output_type": "stream",
     "text": [
      "\n",
      "총_시술_횟수별 임신_성공_여부 비율 및 갯수\n",
      "\n",
      "                 0         1     0    1  Total\n",
      "variable                                      \n",
      "0회        0.926768  0.073232   367   29    396\n",
      "1회        0.865406  0.134594   778  121    899\n",
      "2회        0.866184  0.133816   958  148   1106\n",
      "3회        0.876923  0.123077   912  128   1040\n",
      "4회        0.853685  0.146315   776  133    909\n",
      "5회        0.870095  0.129905   643   96    739\n",
      "6회 이상     0.870000  0.130000  1044  156   1200\n"
     ]
    }
   ],
   "source": [
    "value_counts_ratio(train, '총_시술_횟수')"
   ]
  },
  {
   "cell_type": "markdown",
   "metadata": {},
   "source": [
    "### 30. 클리닉_내_총_시술_횟수"
   ]
  },
  {
   "cell_type": "markdown",
   "metadata": {},
   "source": [
    "특정 클리닉에서 받은 IVF 및 DI 시술 횟수"
   ]
  },
  {
   "cell_type": "code",
   "execution_count": 41,
   "metadata": {},
   "outputs": [
    {
     "name": "stdout",
     "output_type": "stream",
     "text": [
      "\n",
      "클리닉_내_총_시술_횟수별 임신_성공_여부 비율 및 갯수\n",
      "\n",
      "                 0         1     0    1  Total\n",
      "variable                                      \n",
      "0회        0.894336  0.105664   821   97    918\n",
      "1회        0.870229  0.129771  1026  153   1179\n",
      "2회        0.872414  0.127586  1012  148   1160\n",
      "3회        0.875135  0.124865   813  116    929\n",
      "4회        0.867758  0.132242   689  105    794\n",
      "5회        0.864865  0.135135   544   85    629\n",
      "6회 이상     0.842647  0.157353   573  107    680\n"
     ]
    }
   ],
   "source": [
    "value_counts_ratio(train, '클리닉_내_총_시술_횟수')"
   ]
  },
  {
   "cell_type": "markdown",
   "metadata": {},
   "source": [
    "### 31. IVF_시술_횟수"
   ]
  },
  {
   "cell_type": "markdown",
   "metadata": {},
   "source": [
    "이전에 수행된 IVF 시술 횟수"
   ]
  },
  {
   "cell_type": "code",
   "execution_count": 42,
   "metadata": {},
   "outputs": [
    {
     "name": "stdout",
     "output_type": "stream",
     "text": [
      "\n",
      "IVF_시술_횟수별 임신_성공_여부 비율 및 갯수\n",
      "\n",
      "                 0         1     0    1  Total\n",
      "variable                                      \n",
      "0회        0.861111  0.138889  3224  520   3744\n",
      "1회        0.871795  0.128205   816  120    936\n",
      "2회        0.898990  0.101010   534   60    594\n",
      "3회        0.878282  0.121718   368   51    419\n",
      "4회        0.892720  0.107280   233   28    261\n",
      "5회        0.921212  0.078788   152   13    165\n",
      "6회 이상     0.888235  0.111765   151   19    170\n"
     ]
    }
   ],
   "source": [
    "value_counts_ratio(train, 'IVF_시술_횟수')"
   ]
  },
  {
   "cell_type": "markdown",
   "metadata": {},
   "source": [
    "### 32. DI_시술_횟수"
   ]
  },
  {
   "cell_type": "markdown",
   "metadata": {},
   "source": [
    "이전에 수행된 DI 시술 횟수"
   ]
  },
  {
   "cell_type": "code",
   "execution_count": 43,
   "metadata": {},
   "outputs": [
    {
     "name": "stdout",
     "output_type": "stream",
     "text": [
      "\n",
      "DI_시술_횟수별 임신_성공_여부 비율 및 갯수\n",
      "\n",
      "                 0         1     0    1  Total\n",
      "variable                                      \n",
      "0회        0.900973  0.099027  1019  112   1131\n",
      "1회        0.873262  0.126738  1068  155   1223\n",
      "2회        0.860793  0.139207   977  158   1135\n",
      "3회        0.871397  0.128603   786  116    902\n",
      "4회        0.857542  0.142458   614  102    716\n",
      "5회        0.890244  0.109756   511   63    574\n",
      "6회 이상     0.827303  0.172697   503  105    608\n"
     ]
    }
   ],
   "source": [
    "value_counts_ratio(train, 'DI_시술_횟수')"
   ]
  },
  {
   "cell_type": "markdown",
   "metadata": {},
   "source": [
    "### 33. 총_임신_횟수"
   ]
  },
  {
   "cell_type": "markdown",
   "metadata": {},
   "source": [
    "IVF 및 DI 포함한 총 임신 횟수"
   ]
  },
  {
   "cell_type": "code",
   "execution_count": 44,
   "metadata": {},
   "outputs": [
    {
     "name": "stdout",
     "output_type": "stream",
     "text": [
      "\n",
      "총_임신_횟수별 임신_성공_여부 비율 및 갯수\n",
      "\n",
      "                 0         1       0      1  Total\n",
      "variable                                          \n",
      "0회        0.902511  0.097489  3379.0  365.0   3744\n",
      "1회        0.830102  0.169898  1798.0  368.0   2166\n",
      "2회        0.785276  0.214724   256.0   70.0    326\n",
      "3회        0.847826  0.152174    39.0    7.0     46\n",
      "4회        1.000000  0.000000     6.0    0.0      6\n",
      "5회        0.000000  1.000000     0.0    1.0      1\n"
     ]
    }
   ],
   "source": [
    "value_counts_ratio(train, '총_임신_횟수')"
   ]
  },
  {
   "cell_type": "markdown",
   "metadata": {},
   "source": [
    "### 34. IVF_임신_횟수"
   ]
  },
  {
   "cell_type": "markdown",
   "metadata": {},
   "source": [
    "IVF 시술로 인한 임신 횟수"
   ]
  },
  {
   "cell_type": "code",
   "execution_count": 45,
   "metadata": {},
   "outputs": [
    {
     "name": "stdout",
     "output_type": "stream",
     "text": [
      "\n",
      "IVF_임신_횟수별 임신_성공_여부 비율 및 갯수\n",
      "\n",
      "                 0         1       0      1  Total\n",
      "variable                                          \n",
      "0회        0.869521  0.130479  5098.0  765.0   5863\n",
      "1회        0.888041  0.111959   349.0   44.0    393\n",
      "2회        0.935484  0.064516    29.0    2.0     31\n",
      "3회        1.000000  0.000000     2.0    0.0      2\n"
     ]
    }
   ],
   "source": [
    "value_counts_ratio(train, 'IVF_임신_횟수')"
   ]
  },
  {
   "cell_type": "markdown",
   "metadata": {},
   "source": [
    "### 35. DI_임신_횟수"
   ]
  },
  {
   "cell_type": "markdown",
   "metadata": {},
   "source": [
    "DI 시술로 인한 임신 횟수"
   ]
  },
  {
   "cell_type": "code",
   "execution_count": 46,
   "metadata": {},
   "outputs": [
    {
     "name": "stdout",
     "output_type": "stream",
     "text": [
      "\n",
      "DI_임신_횟수별 임신_성공_여부 비율 및 갯수\n",
      "\n",
      "                 0         1       0      1  Total\n",
      "variable                                          \n",
      "0회        0.900752  0.099248  3712.0  409.0   4121\n",
      "1회        0.823656  0.176344  1532.0  328.0   1860\n",
      "2회        0.751880  0.248120   200.0   66.0    266\n",
      "3회        0.810811  0.189189    30.0    7.0     37\n",
      "4회        1.000000  0.000000     4.0    0.0      4\n",
      "5회        0.000000  1.000000     0.0    1.0      1\n"
     ]
    }
   ],
   "source": [
    "value_counts_ratio(train, 'DI_임신_횟수')"
   ]
  },
  {
   "cell_type": "markdown",
   "metadata": {},
   "source": [
    "### 36. 총_출산_횟수"
   ]
  },
  {
   "cell_type": "markdown",
   "metadata": {},
   "source": [
    "IVF 및 DI 시술로 출산한 횟수"
   ]
  },
  {
   "cell_type": "code",
   "execution_count": 47,
   "metadata": {},
   "outputs": [
    {
     "name": "stdout",
     "output_type": "stream",
     "text": [
      "\n",
      "총_출산_횟수별 임신_성공_여부 비율 및 갯수\n",
      "\n",
      "                 0         1     0    1  Total\n",
      "variable                                      \n",
      "0회        0.899191  0.100809  3889  436   4325\n",
      "1회        0.809258  0.190742  1451  342   1793\n",
      "2회        0.800000  0.200000   120   30    150\n",
      "3회        0.857143  0.142857    18    3     21\n"
     ]
    }
   ],
   "source": [
    "value_counts_ratio(train, '총_출산_횟수')"
   ]
  },
  {
   "cell_type": "markdown",
   "metadata": {},
   "source": [
    "### 37. IVF_출산_횟수"
   ]
  },
  {
   "cell_type": "markdown",
   "metadata": {},
   "source": [
    "IVF 시술로 출산한 횟수"
   ]
  },
  {
   "cell_type": "code",
   "execution_count": 48,
   "metadata": {},
   "outputs": [
    {
     "name": "stdout",
     "output_type": "stream",
     "text": [
      "\n",
      "IVF_출산_횟수별 임신_성공_여부 비율 및 갯수\n",
      "\n",
      "                 0         1     0    1  Total\n",
      "variable                                      \n",
      "0회        0.870346  0.129654  5236  780   6016\n",
      "1회        0.890566  0.109434   236   29    265\n",
      "2회        0.750000  0.250000     6    2      8\n"
     ]
    }
   ],
   "source": [
    "value_counts_ratio(train, 'IVF_출산_횟수')"
   ]
  },
  {
   "cell_type": "markdown",
   "metadata": {},
   "source": [
    "### 38. DI_출산_횟수"
   ]
  },
  {
   "cell_type": "markdown",
   "metadata": {},
   "source": [
    "DI 시술로 출산한 횟수"
   ]
  },
  {
   "cell_type": "code",
   "execution_count": 49,
   "metadata": {},
   "outputs": [
    {
     "name": "stdout",
     "output_type": "stream",
     "text": [
      "\n",
      "DI_출산_횟수별 임신_성공_여부 비율 및 갯수\n",
      "\n",
      "                 0         1     0    1  Total\n",
      "variable                                      \n",
      "0회        0.898298  0.101702  4116  466   4582\n",
      "1회        0.797558  0.202442  1241  315   1556\n",
      "2회        0.798507  0.201493   107   27    134\n",
      "3회        0.823529  0.176471    14    3     17\n"
     ]
    }
   ],
   "source": [
    "value_counts_ratio(train, 'DI_출산_횟수')"
   ]
  },
  {
   "cell_type": "markdown",
   "metadata": {},
   "source": [
    "시술 횟수 -> 숫자 매핑"
   ]
  },
  {
   "cell_type": "code",
   "execution_count": 50,
   "metadata": {},
   "outputs": [],
   "source": [
    "# 숫자 매핑\n",
    "mapping = {\n",
    "    '0회': 0, '1회': 1, '2회': 2, '3회': 3, \n",
    "    '4회': 4, '5회': 5, '6회 이상': 6\n",
    "}\n",
    "\n",
    "# 변환할 열 목록\n",
    "columns_to_map = [\n",
    "    '총_시술_횟수', '클리닉_내_총_시술_횟수', 'IVF_시술_횟수', \n",
    "    'DI_시술_횟수', '총_임신_횟수', 'IVF_임신_횟수', 'DI_임신_횟수', \n",
    "    '총_출산_횟수', 'IVF_출산_횟수', 'DI_출산_횟수'\n",
    "]\n",
    "\n",
    "# 숫자로 변환\n",
    "for col in columns_to_map:\n",
    "    train[col] = train[col].map(mapping)\n",
    "    test[col] = test[col].map(mapping)"
   ]
  },
  {
   "cell_type": "code",
   "execution_count": 51,
   "metadata": {},
   "outputs": [],
   "source": [
    "# 비율 계산 (train 데이터프레임)\n",
    "train['IVF_임신_시술_비율'] = np.where(train['IVF_시술_횟수'] > 0, train['IVF_임신_횟수'] / train['IVF_시술_횟수'], 0)\n",
    "train['DI_임신_시술_비율'] = np.where(train['DI_시술_횟수'] > 0, train['DI_임신_횟수'] / train['DI_시술_횟수'], 0)\n",
    "train['임신_성공률'] = np.where(train['총_시술_횟수'] > 0, train['총_임신_횟수'] / train['총_시술_횟수'], 0)\n",
    "\n",
    "# 비율 계산 (test 데이터프레임)\n",
    "test['IVF_임신_시술_비율'] = np.where(test['IVF_시술_횟수'] > 0, test['IVF_임신_횟수'] / test['IVF_시술_횟수'], 0)\n",
    "test['DI_임신_시술_비율'] = np.where(test['DI_시술_횟수'] > 0, test['DI_임신_횟수'] / test['DI_시술_횟수'], 0)\n",
    "test['임신_성공률'] = np.where(test['총_시술_횟수'] > 0, test['총_임신_횟수'] / test['총_시술_횟수'], 0)"
   ]
  },
  {
   "cell_type": "markdown",
   "metadata": {},
   "source": [
    "### 56. 정자_기증자_나이"
   ]
  },
  {
   "cell_type": "markdown",
   "metadata": {},
   "source": [
    "정자 기증자의 등록 당시 나이"
   ]
  },
  {
   "cell_type": "code",
   "execution_count": 52,
   "metadata": {},
   "outputs": [
    {
     "name": "stdout",
     "output_type": "stream",
     "text": [
      "\n",
      "정자_기증자_나이별 임신_성공_여부 비율 및 갯수\n",
      "\n",
      "                 0         1     0    1  Total\n",
      "variable                                      \n",
      "만20세 이하   0.859935  0.140065   264   43    307\n",
      "만21-25세   0.867880  0.132120  1097  167   1264\n",
      "만26-30세   0.873407  0.126593  1028  149   1177\n",
      "만31-35세   0.867320  0.132680   974  149   1123\n",
      "만36-40세   0.883860  0.116140  1035  136   1171\n",
      "만41-45세   0.864238  0.135762   783  123    906\n",
      "알 수 없음    0.870968  0.129032   297   44    341\n"
     ]
    }
   ],
   "source": [
    "value_counts_ratio(train, '정자_기증자_나이')"
   ]
  },
  {
   "cell_type": "markdown",
   "metadata": {},
   "source": [
    "### 68. 임신_성공_여부"
   ]
  },
  {
   "cell_type": "markdown",
   "metadata": {},
   "source": [
    "해당 시술로부터 임신 성공 여부"
   ]
  },
  {
   "cell_type": "code",
   "execution_count": 53,
   "metadata": {},
   "outputs": [
    {
     "name": "stdout",
     "output_type": "stream",
     "text": [
      "\n",
      "임신_성공_여부별 임신_성공_여부 비율 및 갯수\n",
      "\n",
      "            0    1       0      1  Total\n",
      "variable                                \n",
      "0         1.0  0.0  5478.0    0.0   5478\n",
      "1         0.0  1.0     0.0  811.0    811\n"
     ]
    }
   ],
   "source": [
    "value_counts_ratio(train, '임신_성공_여부')"
   ]
  },
  {
   "cell_type": "markdown",
   "metadata": {},
   "source": [
    "기타 처리"
   ]
  },
  {
   "cell_type": "code",
   "execution_count": 54,
   "metadata": {},
   "outputs": [
    {
     "name": "stdout",
     "output_type": "stream",
     "text": [
      "DI_train에는 있지만 DI_test에는 없는 열:\n",
      "{'불임_원인_-_정자_형태', '임신_성공_여부'}\n"
     ]
    }
   ],
   "source": [
    "# DI_train과 DI_test의 열 비교\n",
    "train_columns = set(train.columns)\n",
    "test_columns = set(test.columns)\n",
    "\n",
    "# DI_train에는 있지만 DI_test에는 없는 열 찾기\n",
    "missing_in_test = train_columns - test_columns\n",
    "\n",
    "print(\"DI_train에는 있지만 DI_test에는 없는 열:\")\n",
    "print(missing_in_test)"
   ]
  },
  {
   "cell_type": "code",
   "execution_count": 55,
   "metadata": {},
   "outputs": [],
   "source": [
    "# '불임_원인_-_정자_형태' 변수 제거\n",
    "train.drop('불임_원인_-_정자_형태', axis=1, inplace=True)"
   ]
  },
  {
   "cell_type": "markdown",
   "metadata": {},
   "source": [
    "## 변수 상태 확인"
   ]
  },
  {
   "cell_type": "code",
   "execution_count": 56,
   "metadata": {},
   "outputs": [
    {
     "name": "stdout",
     "output_type": "stream",
     "text": [
      "<class 'pandas.core.frame.DataFrame'>\n",
      "Int64Index: 6289 entries, 14 to 256326\n",
      "Data columns (total 33 columns):\n",
      " #   Column                 Non-Null Count  Dtype  \n",
      "---  ------                 --------------  -----  \n",
      " 0   ID                     6289 non-null   object \n",
      " 1   시술_시기_코드               6289 non-null   object \n",
      " 2   시술_당시_나이               6289 non-null   object \n",
      " 3   임신_시도_또는_마지막_임신_경과_연수  6289 non-null   float64\n",
      " 4   특정_시술_유형               6289 non-null   object \n",
      " 5   배란_자극_여부               6289 non-null   int64  \n",
      " 6   남성_주_불임_원인             6289 non-null   int64  \n",
      " 7   남성_부_불임_원인             6289 non-null   int64  \n",
      " 8   여성_주_불임_원인             6289 non-null   int64  \n",
      " 9   여성_부_불임_원인             6289 non-null   int64  \n",
      " 10  부부_주_불임_원인             6289 non-null   int64  \n",
      " 11  부부_부_불임_원인             6289 non-null   int64  \n",
      " 12  불명확_불임_원인              6289 non-null   int64  \n",
      " 13  불임_원인_-_난관_질환          6289 non-null   int64  \n",
      " 14  불임_원인_-_남성_요인          6289 non-null   int64  \n",
      " 15  불임_원인_-_배란_장애          6289 non-null   int64  \n",
      " 16  불임_원인_-_자궁내막증          6289 non-null   int64  \n",
      " 17  불임_원인_-_정자_농도          6289 non-null   int64  \n",
      " 18  총_시술_횟수                6289 non-null   int64  \n",
      " 19  클리닉_내_총_시술_횟수          6289 non-null   int64  \n",
      " 20  IVF_시술_횟수              6289 non-null   int64  \n",
      " 21  DI_시술_횟수               6289 non-null   int64  \n",
      " 22  총_임신_횟수                6289 non-null   int64  \n",
      " 23  IVF_임신_횟수              6289 non-null   int64  \n",
      " 24  DI_임신_횟수               6289 non-null   int64  \n",
      " 25  총_출산_횟수                6289 non-null   int64  \n",
      " 26  IVF_출산_횟수              6289 non-null   int64  \n",
      " 27  DI_출산_횟수               6289 non-null   int64  \n",
      " 28  정자_기증자_나이              6289 non-null   object \n",
      " 29  임신_성공_여부               6289 non-null   int64  \n",
      " 30  IVF_임신_시술_비율           6289 non-null   float64\n",
      " 31  DI_임신_시술_비율            6289 non-null   float64\n",
      " 32  임신_성공률                 6289 non-null   float64\n",
      "dtypes: float64(4), int64(24), object(5)\n",
      "memory usage: 1.6+ MB\n"
     ]
    }
   ],
   "source": [
    "train.info()"
   ]
  },
  {
   "cell_type": "code",
   "execution_count": 57,
   "metadata": {},
   "outputs": [
    {
     "name": "stdout",
     "output_type": "stream",
     "text": [
      "<class 'pandas.core.frame.DataFrame'>\n",
      "Int64Index: 2176 entries, 26 to 90046\n",
      "Data columns (total 32 columns):\n",
      " #   Column                 Non-Null Count  Dtype  \n",
      "---  ------                 --------------  -----  \n",
      " 0   ID                     2176 non-null   object \n",
      " 1   시술_시기_코드               2176 non-null   object \n",
      " 2   시술_당시_나이               2176 non-null   object \n",
      " 3   임신_시도_또는_마지막_임신_경과_연수  2176 non-null   float64\n",
      " 4   특정_시술_유형               2176 non-null   object \n",
      " 5   배란_자극_여부               2176 non-null   int64  \n",
      " 6   남성_주_불임_원인             2176 non-null   int64  \n",
      " 7   남성_부_불임_원인             2176 non-null   int64  \n",
      " 8   여성_주_불임_원인             2176 non-null   int64  \n",
      " 9   여성_부_불임_원인             2176 non-null   int64  \n",
      " 10  부부_주_불임_원인             2176 non-null   int64  \n",
      " 11  부부_부_불임_원인             2176 non-null   int64  \n",
      " 12  불명확_불임_원인              2176 non-null   int64  \n",
      " 13  불임_원인_-_난관_질환          2176 non-null   int64  \n",
      " 14  불임_원인_-_남성_요인          2176 non-null   int64  \n",
      " 15  불임_원인_-_배란_장애          2176 non-null   int64  \n",
      " 16  불임_원인_-_자궁내막증          2176 non-null   int64  \n",
      " 17  불임_원인_-_정자_농도          2176 non-null   int64  \n",
      " 18  총_시술_횟수                2176 non-null   int64  \n",
      " 19  클리닉_내_총_시술_횟수          2176 non-null   int64  \n",
      " 20  IVF_시술_횟수              2176 non-null   int64  \n",
      " 21  DI_시술_횟수               2176 non-null   int64  \n",
      " 22  총_임신_횟수                2176 non-null   int64  \n",
      " 23  IVF_임신_횟수              2176 non-null   int64  \n",
      " 24  DI_임신_횟수               2176 non-null   int64  \n",
      " 25  총_출산_횟수                2176 non-null   int64  \n",
      " 26  IVF_출산_횟수              2176 non-null   int64  \n",
      " 27  DI_출산_횟수               2176 non-null   int64  \n",
      " 28  정자_기증자_나이              2176 non-null   object \n",
      " 29  IVF_임신_시술_비율           2176 non-null   float64\n",
      " 30  DI_임신_시술_비율            2176 non-null   float64\n",
      " 31  임신_성공률                 2176 non-null   float64\n",
      "dtypes: float64(4), int64(23), object(5)\n",
      "memory usage: 561.0+ KB\n"
     ]
    }
   ],
   "source": [
    "test.info()"
   ]
  },
  {
   "cell_type": "markdown",
   "metadata": {},
   "source": [
    "## 데이터 저장"
   ]
  },
  {
   "cell_type": "code",
   "execution_count": 58,
   "metadata": {},
   "outputs": [],
   "source": [
    "# test 데이터셋을 CSV 파일로 저장 (UTF-8 인코딩)\n",
    "train.to_csv('../data/DI_train_dataset_41.csv', index=False, encoding='utf-8-sig')\n",
    "test.to_csv('../data/DI_test_dataset_41.csv', index=False, encoding='utf-8-sig')"
   ]
  },
  {
   "cell_type": "markdown",
   "metadata": {},
   "source": [
    "."
   ]
  }
 ],
 "metadata": {
  "kernelspec": {
   "display_name": "Python 3",
   "language": "python",
   "name": "python3"
  },
  "language_info": {
   "codemirror_mode": {
    "name": "ipython",
    "version": 3
   },
   "file_extension": ".py",
   "mimetype": "text/x-python",
   "name": "python",
   "nbconvert_exporter": "python",
   "pygments_lexer": "ipython3",
   "version": "3.7.8"
  }
 },
 "nbformat": 4,
 "nbformat_minor": 2
}
