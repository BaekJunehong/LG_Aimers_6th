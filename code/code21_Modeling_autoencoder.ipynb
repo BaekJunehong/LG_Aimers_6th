{
 "cells": [
  {
   "cell_type": "markdown",
   "metadata": {},
   "source": [
    "## 난임 환자 대상 임신 성공 여부 예측"
   ]
  },
  {
   "cell_type": "markdown",
   "metadata": {},
   "source": [
    "### LGAimers 6th 온라인 해커톤"
   ]
  },
  {
   "cell_type": "markdown",
   "metadata": {},
   "source": [
    "Import"
   ]
  },
  {
   "cell_type": "code",
   "execution_count": 17,
   "metadata": {},
   "outputs": [],
   "source": [
    "import pandas as pd\n",
    "import lightgbm as lgb\n",
    "from sklearn.preprocessing import OrdinalEncoder\n",
    "from sklearn.model_selection import train_test_split\n",
    "from sklearn.metrics import accuracy_score, f1_score, roc_auc_score, confusion_matrix, ConfusionMatrixDisplay\n",
    "import matplotlib.pyplot as plt\n",
    "from sklearn.linear_model import LogisticRegression\n",
    "import lightgbm as lgb\n",
    "import xgboost as xgb\n",
    "from catboost import CatBoostClassifier\n",
    "from sklearn.ensemble import RandomForestClassifier"
   ]
  },
  {
   "cell_type": "markdown",
   "metadata": {},
   "source": [
    "### Data Load"
   ]
  },
  {
   "cell_type": "code",
   "execution_count": 18,
   "metadata": {},
   "outputs": [],
   "source": [
    "# 데이터 로드\n",
    "IVF_train = pd.read_csv('../data/IVF_train_dataset_20.csv')\n",
    "IVF_test = pd.read_csv('../data/IVF_test_dataset_20.csv')\n",
    "\n",
    "DI_train = pd.read_csv('../data/DI_train_dataset_20.csv')\n",
    "DI_test = pd.read_csv('../data/DI_test_dataset_20.csv')"
   ]
  },
  {
   "cell_type": "code",
   "execution_count": 19,
   "metadata": {},
   "outputs": [],
   "source": [
    "# ID 열을 제외한 특성과 타겟 변수 분리\n",
    "IVF_X = IVF_train.drop(['임신_성공_여부', 'ID'], axis=1)\n",
    "IVF_y = IVF_train['임신_성공_여부']\n",
    "\n",
    "DI_X = DI_train.drop(['임신_성공_여부', 'ID'], axis=1)\n",
    "DI_y = DI_train['임신_성공_여부']"
   ]
  },
  {
   "cell_type": "markdown",
   "metadata": {},
   "source": [
    "### 인코딩 "
   ]
  },
  {
   "cell_type": "code",
   "execution_count": 20,
   "metadata": {},
   "outputs": [],
   "source": [
    "IVF_categorical_columns = [\n",
    "    \"시술_시기_코드\",\n",
    "    \"시술_당시_나이\",\n",
    "    \"임신_시도_또는_마지막_임신_경과_연수\",\n",
    "    \"배란_유도_유형\",\n",
    "    \"배아_생성_주요_이유\",\n",
    "    \"난자_출처\",\n",
    "    \"정자_출처\",\n",
    "    \"난자_기증자_나이\",\n",
    "    \"정자_기증자_나이\",\n",
    "    \"변환된_특정_시술_유형\",\n",
    "    \"채취_해동_차이\",\n",
    "    \"해동_혼합_차이\",\n",
    "    \"혼합_이식_차이\",\n",
    "    \"이식_해동_차이\"\n",
    "]"
   ]
  },
  {
   "cell_type": "code",
   "execution_count": 21,
   "metadata": {},
   "outputs": [],
   "source": [
    "DI_categorical_columns = [\n",
    "    \"시술_시기_코드\",\n",
    "    \"시술_당시_나이\",\n",
    "    \"임신_시도_또는_마지막_임신_경과_연수\",\n",
    "    \"정자_기증자_나이\",\n",
    "    \"변환된_특정_시술_유형\"\n",
    "]"
   ]
  },
  {
   "cell_type": "code",
   "execution_count": 22,
   "metadata": {},
   "outputs": [],
   "source": [
    "# 모든 범주형 변수를 문자열로 변환\n",
    "IVF_X[IVF_categorical_columns] = IVF_X[IVF_categorical_columns].astype(str)\n",
    "DI_X[DI_categorical_columns] = DI_X[DI_categorical_columns].astype(str)\n",
    "IVF_test[IVF_categorical_columns] = IVF_test[IVF_categorical_columns].astype(str)\n",
    "DI_test[DI_categorical_columns] = DI_test[DI_categorical_columns].astype(str)\n",
    "\n",
    "# OrdinalEncoder를 사용하여 범주형 변수 인코딩\n",
    "IVF_encoder = OrdinalEncoder(handle_unknown='use_encoded_value', unknown_value=-1)\n",
    "DI_encoder = OrdinalEncoder(handle_unknown='use_encoded_value', unknown_value=-1)\n",
    "\n",
    "IVF_X[IVF_categorical_columns] = IVF_encoder.fit_transform(IVF_X[IVF_categorical_columns])\n",
    "DI_X[DI_categorical_columns] = DI_encoder.fit_transform(DI_X[DI_categorical_columns])\n",
    "IVF_test[IVF_categorical_columns] = IVF_encoder.transform(IVF_test[IVF_categorical_columns])\n",
    "DI_test[DI_categorical_columns] = DI_encoder.transform(DI_test[DI_categorical_columns])"
   ]
  },
  {
   "cell_type": "code",
   "execution_count": 23,
   "metadata": {},
   "outputs": [],
   "source": [
    "# 데이터 분할\n",
    "IVF_X_train, IVF_X_test, IVF_y_train, IVF_y_test = train_test_split(IVF_X, IVF_y, test_size=0.2, random_state=42)\n",
    "DI_X_train, DI_X_test, DI_y_train, DI_y_test = train_test_split(DI_X, DI_y, test_size=0.2, random_state=42)"
   ]
  },
  {
   "cell_type": "markdown",
   "metadata": {},
   "source": [
    "## Modeling"
   ]
  },
  {
   "cell_type": "markdown",
   "metadata": {},
   "source": [
    "train 데이터의 일부를 검증데이터로 사용하여 성능지표 출력"
   ]
  },
  {
   "cell_type": "code",
   "execution_count": 25,
   "metadata": {},
   "outputs": [
    {
     "name": "stdout",
     "output_type": "stream",
     "text": [
      "--- IVF Model Performance ---\n",
      "Accuracy: 0.7463047686081296, F1 Score: 0.20898537351771265, AUC: 0.7443415999629354\n",
      "--- DI Model Performance ---\n",
      "Accuracy: 0.8710651828298888, F1 Score: 0.0, AUC: 0.742958485813674\n",
      "--- Merged Model Performance ---\n",
      "Accuracy: 0.7493660812508289, F1 Score: 0.2068931463559155, AUC: 0.7464352722423071\n"
     ]
    }
   ],
   "source": [
    "import numpy as np\n",
    "import pandas as pd\n",
    "import lightgbm as lgb\n",
    "from sklearn.model_selection import KFold, train_test_split\n",
    "from sklearn.preprocessing import OrdinalEncoder\n",
    "from sklearn.metrics import accuracy_score, f1_score, roc_auc_score, confusion_matrix\n",
    "import torch\n",
    "import torch.nn as nn\n",
    "import torch.optim as optim\n",
    "from torch.utils.data import DataLoader, TensorDataset\n",
    "\n",
    "# 데이터 로드\n",
    "IVF_train = pd.read_csv('../data/IVF_train_dataset_20.csv')\n",
    "IVF_test = pd.read_csv('../data/IVF_test_dataset_20.csv')\n",
    "DI_train = pd.read_csv('../data/DI_train_dataset_20.csv')\n",
    "DI_test = pd.read_csv('../data/DI_test_dataset_20.csv')\n",
    "\n",
    "# ID 열을 제외한 특성과 타겟 변수 분리\n",
    "IVF_X = IVF_train.drop(['임신_성공_여부', 'ID'], axis=1)\n",
    "IVF_y = IVF_train['임신_성공_여부']\n",
    "DI_X = DI_train.drop(['임신_성공_여부', 'ID'], axis=1)\n",
    "DI_y = DI_train['임신_성공_여부']\n",
    "\n",
    "# 모든 범주형 변수를 문자열로 변환\n",
    "IVF_categorical_columns = IVF_X.select_dtypes(include=['object']).columns.tolist()\n",
    "DI_categorical_columns = DI_X.select_dtypes(include=['object']).columns.tolist()\n",
    "\n",
    "IVF_X[IVF_categorical_columns] = IVF_X[IVF_categorical_columns].astype(str)\n",
    "DI_X[DI_categorical_columns] = DI_X[DI_categorical_columns].astype(str)\n",
    "IVF_test[IVF_categorical_columns] = IVF_test[IVF_categorical_columns].astype(str)\n",
    "DI_test[DI_categorical_columns] = DI_test[DI_categorical_columns].astype(str)\n",
    "\n",
    "# OrdinalEncoder를 사용하여 범주형 변수 인코딩\n",
    "IVF_encoder = OrdinalEncoder(handle_unknown='use_encoded_value', unknown_value=-1)\n",
    "DI_encoder = OrdinalEncoder(handle_unknown='use_encoded_value', unknown_value=-1)\n",
    "\n",
    "IVF_X[IVF_categorical_columns] = IVF_encoder.fit_transform(IVF_X[IVF_categorical_columns])\n",
    "DI_X[DI_categorical_columns] = DI_encoder.fit_transform(DI_X[DI_categorical_columns])\n",
    "IVF_test[IVF_categorical_columns] = IVF_encoder.transform(IVF_test[IVF_categorical_columns])\n",
    "DI_test[DI_categorical_columns] = DI_encoder.transform(DI_test[DI_categorical_columns])\n",
    "\n",
    "# K-Fold를 사용하여 IVF와 DI의 잘못된 예측 데이터 수집\n",
    "kf = KFold(n_splits=5, shuffle=True, random_state=42)\n",
    "\n",
    "IVF_wrong_predictions = []\n",
    "DI_wrong_predictions = []\n",
    "\n",
    "# K-Fold 교차 검증을 통한 잘못된 예측 수집 함수\n",
    "def collect_wrong_predictions(X, y, wrong_predictions, model_params):\n",
    "    for train_idx, val_idx in kf.split(X):\n",
    "        X_train, X_val = X.iloc[train_idx], X.iloc[val_idx]\n",
    "        y_train, y_val = y.iloc[train_idx], y.iloc[val_idx]\n",
    "        \n",
    "        model = lgb.LGBMClassifier(**model_params)\n",
    "        model.fit(X_train, y_train)\n",
    "        y_pred = model.predict(X_val)\n",
    "        \n",
    "        wrong_idx = val_idx[y_pred != y_val.values]\n",
    "        wrong_predictions.append(X.iloc[wrong_idx])\n",
    "\n",
    "# IVF와 DI에 대해 잘못된 예측 수집\n",
    "IVF_model_params = {\n",
    "    'n_estimators': 4471,\n",
    "    'num_leaves': 13,\n",
    "    'max_depth': 279,\n",
    "    'learning_rate': 0.007075124517450591,\n",
    "    'min_child_samples': 26,\n",
    "    'subsample': 0.29772991936701476,\n",
    "    'colsample_bytree': 0.8913054521763838,\n",
    "    'reg_alpha': 0.0004860363321690653,\n",
    "    'reg_lambda': 311.08056657247363,\n",
    "    'min_split_gain': 0.18214905183450955,\n",
    "    'random_state': 42,\n",
    "    'boosting_type': 'gbdt',\n",
    "    'verbose': -1\n",
    "}\n",
    "\n",
    "DI_model_params = {\n",
    "    'n_estimators': 1816,\n",
    "    'num_leaves': 3926,\n",
    "    'max_depth': 259,\n",
    "    'learning_rate': 0.00238377640011148,\n",
    "    'min_child_samples': 1,\n",
    "    'subsample': 0.7610056627240331,\n",
    "    'colsample_bytree': 0.6655579164853634,\n",
    "    'reg_alpha': 0.00025227758337188327,\n",
    "    'reg_lambda': 76.744107215122684,\n",
    "    'min_split_gain': 0.007773520329665474,\n",
    "    'random_state': 42,\n",
    "    'boosting_type': 'gbdt',\n",
    "    'verbose': -1\n",
    "}\n",
    "\n",
    "collect_wrong_predictions(IVF_X, IVF_y, IVF_wrong_predictions, IVF_model_params)\n",
    "collect_wrong_predictions(DI_X, DI_y, DI_wrong_predictions, DI_model_params)\n",
    "\n",
    "# 잘못된 예측 데이터 결합\n",
    "wrong_data = pd.concat(IVF_wrong_predictions + DI_wrong_predictions)\n",
    "\n",
    "# 오토인코더 정의\n",
    "class Autoencoder(nn.Module):\n",
    "    def __init__(self, input_dim):\n",
    "        super(Autoencoder, self).__init__()\n",
    "        self.encoder = nn.Sequential(\n",
    "            nn.Linear(input_dim, 32),\n",
    "            nn.ReLU(),\n",
    "            nn.Linear(32, 16),\n",
    "            nn.ReLU(),\n",
    "            nn.Linear(16, 8)\n",
    "        )\n",
    "        self.decoder = nn.Sequential(\n",
    "            nn.Linear(8, 16),\n",
    "            nn.ReLU(),\n",
    "            nn.Linear(16, 32),\n",
    "            nn.ReLU(),\n",
    "            nn.Linear(32, input_dim)\n",
    "        )\n",
    "    \n",
    "    def forward(self, x):\n",
    "        encoded = self.encoder(x)\n",
    "        decoded = self.decoder(encoded)\n",
    "        return decoded\n",
    "\n",
    "# 오토인코더 학습\n",
    "input_dim = wrong_data.shape[1]\n",
    "autoencoder = Autoencoder(input_dim)\n",
    "criterion = nn.MSELoss()\n",
    "optimizer = optim.Adam(autoencoder.parameters(), lr=0.01)\n",
    "\n",
    "data_tensor = torch.tensor(wrong_data.values, dtype=torch.float32)\n",
    "dataloader = DataLoader(TensorDataset(data_tensor), batch_size=32, shuffle=True)\n",
    "\n",
    "for epoch in range(50):\n",
    "    for batch in dataloader:\n",
    "        optimizer.zero_grad()\n",
    "        output = autoencoder(batch[0])\n",
    "        loss = criterion(output, batch[0])\n",
    "        loss.backward()\n",
    "        optimizer.step()\n",
    "\n",
    "# 테스트 데이터 보정\n",
    "all_test_data = pd.concat([IVF_test, DI_test])\n",
    "test_tensor = torch.tensor(all_test_data.drop(['ID'], axis=1).values, dtype=torch.float32)\n",
    "predicted_output = autoencoder(test_tensor).detach().numpy()\n",
    "reconstruction_error = np.mean((all_test_data.drop(['ID'], axis=1).values - predicted_output) ** 2, axis=1)\n",
    "threshold = np.percentile(reconstruction_error, 95)\n",
    "\n",
    "# LGBM 예측 수행\n",
    "IVF_model = lgb.LGBMClassifier(**IVF_model_params)\n",
    "IVF_model.fit(IVF_X, IVF_y)\n",
    "IVF_pred = IVF_model.predict(IVF_test.drop('ID', axis=1))\n",
    "\n",
    "DI_model = lgb.LGBMClassifier(**DI_model_params)\n",
    "DI_model.fit(DI_X, DI_y)\n",
    "DI_pred = DI_model.predict(DI_test.drop('ID', axis=1))\n",
    "\n",
    "# 최종 예측 수행\n",
    "final_predictions = np.concatenate([IVF_pred, DI_pred])\n",
    "\n",
    "# 재구성 오류가 임계값을 초과하는 경우 예측 변경\n",
    "final_predictions[reconstruction_error > threshold] = 1 - final_predictions[reconstruction_error > threshold]\n",
    "\n",
    "# 검증 데이터에 대한 성능 평가\n",
    "IVF_val_pred = IVF_model.predict(IVF_X) \n",
    "DI_val_pred = DI_model.predict(DI_X)    \n",
    "\n",
    "# 성능 지표 계산\n",
    "IVF_accuracy = accuracy_score(IVF_y, IVF_val_pred)\n",
    "IVF_f1 = f1_score(IVF_y, IVF_val_pred)\n",
    "IVF_auc = roc_auc_score(IVF_y, IVF_model.predict_proba(IVF_X)[:, 1])\n",
    "\n",
    "DI_accuracy = accuracy_score(DI_y, DI_val_pred)\n",
    "DI_f1 = f1_score(DI_y, DI_val_pred)\n",
    "DI_auc = roc_auc_score(DI_y, DI_model.predict_proba(DI_X)[:, 1])\n",
    "\n",
    "# 최종 병합된 예측에 대한 성능 지표 계산\n",
    "merged_pred = np.concatenate([IVF_val_pred, DI_val_pred])\n",
    "merged_y = np.concatenate([IVF_y, DI_y])\n",
    "\n",
    "merged_accuracy = accuracy_score(merged_y, merged_pred)\n",
    "merged_f1 = f1_score(merged_y, merged_pred)\n",
    "merged_auc = roc_auc_score(merged_y, np.concatenate([IVF_model.predict_proba(IVF_X)[:, 1], DI_model.predict_proba(DI_X)[:, 1]]))\n",
    "\n",
    "print(\"--- IVF Model Performance ---\")\n",
    "print(f\"Accuracy: {IVF_accuracy}, F1 Score: {IVF_f1}, AUC: {IVF_auc}\")\n",
    "\n",
    "print(\"--- DI Model Performance ---\")\n",
    "print(f\"Accuracy: {DI_accuracy}, F1 Score: {DI_f1}, AUC: {DI_auc}\")\n",
    "\n",
    "print(\"--- Merged Model Performance ---\")\n",
    "print(f\"Accuracy: {merged_accuracy}, F1 Score: {merged_f1}, AUC: {merged_auc}\")\n"
   ]
  },
  {
   "cell_type": "markdown",
   "metadata": {},
   "source": [
    "test 데이터 전부 사용해서"
   ]
  },
  {
   "cell_type": "code",
   "execution_count": 31,
   "metadata": {},
   "outputs": [
    {
     "name": "stdout",
     "output_type": "stream",
     "text": [
      "제출 파일(code21_1_submit.csv) 생성 완료!\n"
     ]
    }
   ],
   "source": [
    "# IVF 데이터에 대한 최종 모델 학습 및 예측\n",
    "IVF_model_final = lgb.LGBMClassifier(**IVF_model_params)\n",
    "IVF_model_final.fit(IVF_X, IVF_y)\n",
    "IVF_test_pred = IVF_model_final.predict(IVF_test.drop('ID', axis=1))\n",
    "\n",
    "# DI 데이터에 대한 최종 모델 학습 및 예측\n",
    "DI_model_final = lgb.LGBMClassifier(**DI_model_params)\n",
    "DI_model_final.fit(DI_X, DI_y)\n",
    "DI_test_pred = DI_model_final.predict(DI_test.drop('ID', axis=1))\n",
    "\n",
    "# 최종 제출 파일 생성\n",
    "IVF_submission = pd.DataFrame({'ID': IVF_test['ID'], 'probability': IVF_test_pred})\n",
    "DI_submission = pd.DataFrame({'ID': DI_test['ID'], 'probability': DI_test_pred})\n",
    "\n",
    "submission = pd.concat([IVF_submission, DI_submission])\n",
    "submission.to_csv('../submission/code21_1_submit.csv', index=False)\n",
    "\n",
    "print(\"제출 파일(code21_1_submit.csv) 생성 완료!\")"
   ]
  },
  {
   "cell_type": "code",
   "execution_count": 32,
   "metadata": {},
   "outputs": [
    {
     "data": {
      "text/plain": [
       "0"
      ]
     },
     "execution_count": 32,
     "metadata": {},
     "output_type": "execute_result"
    }
   ],
   "source": [
    "import pandas as pd\n",
    "\n",
    "# 두 CSV 파일을 읽어옵니다.\n",
    "df1 = pd.read_csv('../submission/code21_1_submit.csv')\n",
    "df2 = pd.read_csv('../submission/code21_submit.csv')\n",
    "\n",
    "# '임신_성공_여부' 열을 비교합니다.\n",
    "comparison = df1['probability'] == df2['probability']\n",
    "\n",
    "# 차이점이 있는 행을 출력합니다.\n",
    "differences = df1[~comparison]\n",
    "\n",
    "len(differences)"
   ]
  },
  {
   "cell_type": "code",
   "execution_count": 33,
   "metadata": {},
   "outputs": [
    {
     "data": {
      "text/plain": [
       "90067"
      ]
     },
     "execution_count": 33,
     "metadata": {},
     "output_type": "execute_result"
    }
   ],
   "source": [
    "import pandas as pd\n",
    "\n",
    "# 두 CSV 파일을 읽어옵니다.\n",
    "df1 = pd.read_csv('../submission/code21_1_submit.csv')\n",
    "df2 = pd.read_csv('../submission/code20_submit.csv')\n",
    "\n",
    "# '임신_성공_여부' 열을 비교합니다.\n",
    "comparison = df1['probability'] == df2['probability']\n",
    "\n",
    "# 차이점이 있는 행을 출력합니다.\n",
    "differences = df1[~comparison]\n",
    "\n",
    "len(differences)"
   ]
  },
  {
   "cell_type": "markdown",
   "metadata": {},
   "source": [
    "데이콘 PUBLIC 0.5422133005"
   ]
  },
  {
   "cell_type": "markdown",
   "metadata": {},
   "source": [
    "."
   ]
  }
 ],
 "metadata": {
  "kernelspec": {
   "display_name": "Python 3",
   "language": "python",
   "name": "python3"
  },
  "language_info": {
   "codemirror_mode": {
    "name": "ipython",
    "version": 3
   },
   "file_extension": ".py",
   "mimetype": "text/x-python",
   "name": "python",
   "nbconvert_exporter": "python",
   "pygments_lexer": "ipython3",
   "version": "3.7.8"
  }
 },
 "nbformat": 4,
 "nbformat_minor": 2
}
