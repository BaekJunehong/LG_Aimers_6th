{
 "cells": [
  {
   "cell_type": "markdown",
   "metadata": {},
   "source": [
    "## 난임 환자 대상 임신 성공 여부 예측"
   ]
  },
  {
   "cell_type": "markdown",
   "metadata": {},
   "source": [
    "### LGAimers 6th 온라인 해커톤"
   ]
  },
  {
   "cell_type": "markdown",
   "metadata": {},
   "source": [
    "Import"
   ]
  },
  {
   "cell_type": "code",
   "execution_count": 31,
   "metadata": {},
   "outputs": [],
   "source": [
    "import pandas as pd\n",
    "import lightgbm as lgb\n",
    "from sklearn.preprocessing import OrdinalEncoder\n",
    "from sklearn.model_selection import train_test_split\n",
    "from sklearn.metrics import accuracy_score, f1_score, roc_auc_score, confusion_matrix, ConfusionMatrixDisplay\n",
    "import matplotlib.pyplot as plt\n",
    "from sklearn.linear_model import LogisticRegression\n",
    "import lightgbm as lgb\n",
    "import xgboost as xgb\n",
    "from catboost import CatBoostClassifier\n",
    "from sklearn.ensemble import RandomForestClassifier"
   ]
  },
  {
   "cell_type": "markdown",
   "metadata": {},
   "source": [
    "### Data Load"
   ]
  },
  {
   "cell_type": "code",
   "execution_count": 32,
   "metadata": {},
   "outputs": [],
   "source": [
    "import pandas as pd\n",
    "\n",
    "# 데이터 로드\n",
    "TRCMWS_train = pd.read_csv('../data/train_dataset_25_TRCMWS.csv')\n",
    "TRCMWS_test = pd.read_csv('../data/test_dataset_25_TRCMWS.csv')\n",
    "\n",
    "TRDQAZ_train = pd.read_csv('../data/train_dataset_25_TRDQAZ.csv')\n",
    "TRDQAZ_test = pd.read_csv('../data/test_dataset_25_TRDQAZ.csv')\n",
    "\n",
    "TRJXFG_train = pd.read_csv('../data/train_dataset_25_TRJXFG.csv')\n",
    "TRJXFG_test = pd.read_csv('../data/test_dataset_25_TRJXFG.csv')\n",
    "\n",
    "TRVNRY_train = pd.read_csv('../data/train_dataset_25_TRVNRY.csv')\n",
    "TRVNRY_test = pd.read_csv('../data/test_dataset_25_TRVNRY.csv')\n",
    "\n",
    "TRXQMD_train = pd.read_csv('../data/train_dataset_25_TRXQMD.csv')\n",
    "TRXQMD_test = pd.read_csv('../data/test_dataset_25_TRXQMD.csv')\n",
    "\n",
    "TRYBLT_train = pd.read_csv('../data/train_dataset_25_TRYBLT.csv')\n",
    "TRYBLT_test = pd.read_csv('../data/test_dataset_25_TRYBLT.csv')\n",
    "\n",
    "TRZKPL_train = pd.read_csv('../data/train_dataset_25_TRZKPL.csv')\n",
    "TRZKPL_test = pd.read_csv('../data/test_dataset_25_TRZKPL.csv')"
   ]
  },
  {
   "cell_type": "code",
   "execution_count": 33,
   "metadata": {},
   "outputs": [
    {
     "name": "stdout",
     "output_type": "stream",
     "text": [
      "<class 'pandas.core.frame.DataFrame'>\n",
      "RangeIndex: 38089 entries, 0 to 38088\n",
      "Data columns (total 90 columns):\n",
      " #   Column                  Non-Null Count  Dtype  \n",
      "---  ------                  --------------  -----  \n",
      " 0   ID                      38089 non-null  object \n",
      " 1   시술_당시_나이                38089 non-null  object \n",
      " 2   임신_시도_또는_마지막_임신_경과_연수   38089 non-null  object \n",
      " 3   시술_유형                   38089 non-null  object \n",
      " 4   배란_자극_여부                38089 non-null  int64  \n",
      " 5   배란_유도_유형                38089 non-null  object \n",
      " 6   단일_배아_이식_여부             37257 non-null  float64\n",
      " 7   착상_전_유전_검사_사용_여부        38089 non-null  float64\n",
      " 8   착상_전_유전_진단_사용_여부        37257 non-null  float64\n",
      " 9   남성_주_불임_원인              38089 non-null  int64  \n",
      " 10  남성_부_불임_원인              38089 non-null  int64  \n",
      " 11  여성_주_불임_원인              38089 non-null  int64  \n",
      " 12  여성_부_불임_원인              38089 non-null  int64  \n",
      " 13  부부_주_불임_원인              38089 non-null  int64  \n",
      " 14  부부_부_불임_원인              38089 non-null  int64  \n",
      " 15  불명확_불임_원인               38089 non-null  int64  \n",
      " 16  불임_원인_-_난관_질환           38089 non-null  int64  \n",
      " 17  불임_원인_-_남성_요인           38089 non-null  int64  \n",
      " 18  불임_원인_-_배란_장애           38089 non-null  int64  \n",
      " 19  불임_원인_-_자궁경부_문제         38089 non-null  int64  \n",
      " 20  불임_원인_-_자궁내막증           38089 non-null  int64  \n",
      " 21  불임_원인_-_정자_농도           38089 non-null  int64  \n",
      " 22  불임_원인_-_정자_형태           38089 non-null  int64  \n",
      " 23  배아_생성_주요_이유             38089 non-null  object \n",
      " 24  총_시술_횟수                 38089 non-null  int64  \n",
      " 25  클리닉_내_총_시술_횟수           38089 non-null  int64  \n",
      " 26  IVF_시술_횟수               38089 non-null  int64  \n",
      " 27  DI_시술_횟수                38089 non-null  int64  \n",
      " 28  총_임신_횟수                 38089 non-null  int64  \n",
      " 29  IVF_임신_횟수               38089 non-null  int64  \n",
      " 30  DI_임신_횟수                38089 non-null  int64  \n",
      " 31  총_출산_횟수                 38089 non-null  int64  \n",
      " 32  IVF_출산_횟수               38089 non-null  int64  \n",
      " 33  DI_출산_횟수                38089 non-null  int64  \n",
      " 34  총_생성_배아_수               37257 non-null  float64\n",
      " 35  미세주입된_난자_수              37257 non-null  float64\n",
      " 36  미세주입에서_생성된_배아_수         37257 non-null  float64\n",
      " 37  이식된_배아_수                37257 non-null  float64\n",
      " 38  미세주입_배아_이식_수            37257 non-null  float64\n",
      " 39  저장된_배아_수                37257 non-null  float64\n",
      " 40  미세주입_후_저장된_배아_수         37257 non-null  float64\n",
      " 41  해동된_배아_수                37257 non-null  float64\n",
      " 42  해동_난자_수                 37257 non-null  float64\n",
      " 43  수집된_신선_난자_수             37257 non-null  float64\n",
      " 44  저장된_신선_난자_수             37257 non-null  float64\n",
      " 45  혼합된_난자_수                37257 non-null  float64\n",
      " 46  파트너_정자와_혼합된_난자_수        37257 non-null  float64\n",
      " 47  기증자_정자와_혼합된_난자_수        37257 non-null  float64\n",
      " 48  난자_출처                   38089 non-null  object \n",
      " 49  정자_출처                   38089 non-null  object \n",
      " 50  난자_기증자_나이               38089 non-null  object \n",
      " 51  정자_기증자_나이               38089 non-null  object \n",
      " 52  동결_배아_사용_여부             37257 non-null  float64\n",
      " 53  신선_배아_사용_여부             37257 non-null  float64\n",
      " 54  기증_배아_사용_여부             37257 non-null  float64\n",
      " 55  대리모_여부                  37257 non-null  float64\n",
      " 56  PGD_시술_여부               38089 non-null  float64\n",
      " 57  PGS_시술_여부               38089 non-null  float64\n",
      " 58  난자_채취_경과일               38089 non-null  float64\n",
      " 59  난자_해동_경과일               38089 non-null  float64\n",
      " 60  난자_혼합_경과일               38089 non-null  float64\n",
      " 61  배아_이식_경과일               38089 non-null  float64\n",
      " 62  배아_해동_경과일               38089 non-null  float64\n",
      " 63  임신_성공_여부                38089 non-null  int64  \n",
      " 64  변환된_특정_시술_유형            38089 non-null  object \n",
      " 65  특정_시술_유형_ICSI_더미        38089 non-null  int64  \n",
      " 66  특정_시술_유형_IVF_더미         38089 non-null  int64  \n",
      " 67  특정_시술_유형_AH_더미          38089 non-null  int64  \n",
      " 68  특정_시술_유형_BLASTOCYST_더미  38089 non-null  int64  \n",
      " 69  배아_생성_주요_이유_현재시술용       38089 non-null  int64  \n",
      " 70  배아_생성_주요_이유_기증용         38089 non-null  int64  \n",
      " 71  배아_생성_주요_이유_난자저장용       38089 non-null  int64  \n",
      " 72  배아_생성_주요_이유_배아저장용       38089 non-null  int64  \n",
      " 73  IVF_임신_시술_비율            38089 non-null  float64\n",
      " 74  IVF_출산_임신_비율            38089 non-null  float64\n",
      " 75  DI_임신_시술_비율             38089 non-null  float64\n",
      " 76  DI_출산_임신_비율             38089 non-null  float64\n",
      " 77  임신_성공률                  38089 non-null  float64\n",
      " 78  출산_성공률                  38089 non-null  float64\n",
      " 79  임신_성공율                  38089 non-null  float64\n",
      " 80  ICSI_효율성                38089 non-null  float64\n",
      " 81  저장_배아_비율                38089 non-null  float64\n",
      " 82  해동_난자_비율                38089 non-null  float64\n",
      " 83  생성_배아_유지율               38089 non-null  float64\n",
      " 84  파트너_정자_사용_비율            38089 non-null  float64\n",
      " 85  기증자_나이_더미               38089 non-null  int64  \n",
      " 86  채취_해동_차이                38089 non-null  object \n",
      " 87  해동_혼합_차이                38089 non-null  object \n",
      " 88  혼합_이식_차이                38089 non-null  object \n",
      " 89  이식_해동_차이                38089 non-null  object \n",
      "dtypes: float64(40), int64(35), object(15)\n",
      "memory usage: 26.2+ MB\n"
     ]
    }
   ],
   "source": [
    "TRCMWS_train.info()"
   ]
  },
  {
   "cell_type": "code",
   "execution_count": 34,
   "metadata": {},
   "outputs": [],
   "source": [
    "# ID 열을 제외한 특성과 타겟 변수 분리\n",
    "TRCMWS_X = TRCMWS_train.drop(['임신_성공_여부', 'ID'], axis=1)\n",
    "TRCMWS_y = TRCMWS_train['임신_성공_여부']\n",
    "\n",
    "TRDQAZ_X = TRDQAZ_train.drop(['임신_성공_여부', 'ID'], axis=1)\n",
    "TRDQAZ_y = TRDQAZ_train['임신_성공_여부']\n",
    "\n",
    "TRJXFG_X = TRJXFG_train.drop(['임신_성공_여부', 'ID'], axis=1)\n",
    "TRJXFG_y = TRJXFG_train['임신_성공_여부']\n",
    "\n",
    "TRVNRY_X = TRVNRY_train.drop(['임신_성공_여부', 'ID'], axis=1)\n",
    "TRVNRY_y = TRVNRY_train['임신_성공_여부']\n",
    "\n",
    "TRXQMD_X = TRXQMD_train.drop(['임신_성공_여부', 'ID'], axis=1)\n",
    "TRXQMD_y = TRXQMD_train['임신_성공_여부']\n",
    "\n",
    "TRYBLT_X = TRYBLT_train.drop(['임신_성공_여부', 'ID'], axis=1)\n",
    "TRYBLT_y = TRYBLT_train['임신_성공_여부']\n",
    "\n",
    "TRZKPL_X = TRZKPL_train.drop(['임신_성공_여부', 'ID'], axis=1)\n",
    "TRZKPL_y = TRZKPL_train['임신_성공_여부']"
   ]
  },
  {
   "cell_type": "markdown",
   "metadata": {},
   "source": [
    "### 인코딩 "
   ]
  },
  {
   "cell_type": "code",
   "execution_count": 35,
   "metadata": {},
   "outputs": [],
   "source": [
    "categorical_columns = [\n",
    "    \"시술_당시_나이\",\n",
    "    \"임신_시도_또는_마지막_임신_경과_연수\",\n",
    "    \"시술_유형\",\n",
    "    \"배란_유도_유형\",\n",
    "    \"배아_생성_주요_이유\",\n",
    "    \"난자_출처\",\n",
    "    \"정자_출처\",\n",
    "    \"난자_기증자_나이\",\n",
    "    \"정자_기증자_나이\",\n",
    "    \"변환된_특정_시술_유형\",\n",
    "    \"채취_해동_차이\",\n",
    "    \"해동_혼합_차이\",\n",
    "    \"혼합_이식_차이\",\n",
    "    \"이식_해동_차이\"\n",
    "]"
   ]
  },
  {
   "cell_type": "code",
   "execution_count": 36,
   "metadata": {},
   "outputs": [],
   "source": [
    "from sklearn.preprocessing import OrdinalEncoder\n",
    "\n",
    "# 모든 범주형 변수를 문자열로 변환\n",
    "TRCMWS_X[categorical_columns] = TRCMWS_X[categorical_columns].astype(str)\n",
    "TRDQAZ_X[categorical_columns] = TRDQAZ_X[categorical_columns].astype(str)\n",
    "TRJXFG_X[categorical_columns] = TRJXFG_X[categorical_columns].astype(str)\n",
    "TRVNRY_X[categorical_columns] = TRVNRY_X[categorical_columns].astype(str)\n",
    "TRXQMD_X[categorical_columns] = TRXQMD_X[categorical_columns].astype(str)\n",
    "TRYBLT_X[categorical_columns] = TRYBLT_X[categorical_columns].astype(str)\n",
    "TRZKPL_X[categorical_columns] = TRZKPL_X[categorical_columns].astype(str)\n",
    "\n",
    "TRCMWS_test[categorical_columns] = TRCMWS_test[categorical_columns].astype(str)\n",
    "TRDQAZ_test[categorical_columns] = TRDQAZ_test[categorical_columns].astype(str)\n",
    "TRJXFG_test[categorical_columns] = TRJXFG_test[categorical_columns].astype(str)\n",
    "TRVNRY_test[categorical_columns] = TRVNRY_test[categorical_columns].astype(str)\n",
    "TRXQMD_test[categorical_columns] = TRXQMD_test[categorical_columns].astype(str)\n",
    "TRYBLT_test[categorical_columns] = TRYBLT_test[categorical_columns].astype(str)\n",
    "TRZKPL_test[categorical_columns] = TRZKPL_test[categorical_columns].astype(str)\n",
    "\n",
    "# OrdinalEncoder를 사용하여 범주형 변수 인코딩\n",
    "encoder = OrdinalEncoder(handle_unknown='use_encoded_value', unknown_value=-1)\n",
    "\n",
    "TRCMWS_X[categorical_columns] = encoder.fit_transform(TRCMWS_X[categorical_columns])\n",
    "TRDQAZ_X[categorical_columns] = encoder.fit_transform(TRDQAZ_X[categorical_columns])\n",
    "TRJXFG_X[categorical_columns] = encoder.fit_transform(TRJXFG_X[categorical_columns])\n",
    "TRVNRY_X[categorical_columns] = encoder.fit_transform(TRVNRY_X[categorical_columns])\n",
    "TRXQMD_X[categorical_columns] = encoder.fit_transform(TRXQMD_X[categorical_columns])\n",
    "TRYBLT_X[categorical_columns] = encoder.fit_transform(TRYBLT_X[categorical_columns])\n",
    "TRZKPL_X[categorical_columns] = encoder.fit_transform(TRZKPL_X[categorical_columns])\n",
    "\n",
    "TRCMWS_test[categorical_columns] = encoder.transform(TRCMWS_test[categorical_columns])\n",
    "TRDQAZ_test[categorical_columns] = encoder.transform(TRDQAZ_test[categorical_columns])\n",
    "TRJXFG_test[categorical_columns] = encoder.transform(TRJXFG_test[categorical_columns])\n",
    "TRVNRY_test[categorical_columns] = encoder.transform(TRVNRY_test[categorical_columns])\n",
    "TRXQMD_test[categorical_columns] = encoder.transform(TRXQMD_test[categorical_columns])\n",
    "TRYBLT_test[categorical_columns] = encoder.transform(TRYBLT_test[categorical_columns])\n",
    "TRZKPL_test[categorical_columns] = encoder.transform(TRZKPL_test[categorical_columns])"
   ]
  },
  {
   "cell_type": "markdown",
   "metadata": {},
   "source": [
    "## Modeling"
   ]
  },
  {
   "cell_type": "code",
   "execution_count": 37,
   "metadata": {},
   "outputs": [],
   "source": [
    "from sklearn.model_selection import train_test_split\n",
    "\n",
    "# 데이터 분할\n",
    "TRCMWS_X_train, TRCMWS_X_test, TRCMWS_y_train, TRCMWS_y_test = train_test_split(TRCMWS_X, TRCMWS_y, test_size=0.2, random_state=42)\n",
    "TRDQAZ_X_train, TRDQAZ_X_test, TRDQAZ_y_train, TRDQAZ_y_test = train_test_split(TRDQAZ_X, TRDQAZ_y, test_size=0.2, random_state=42)\n",
    "TRJXFG_X_train, TRJXFG_X_test, TRJXFG_y_train, TRJXFG_y_test = train_test_split(TRJXFG_X, TRJXFG_y, test_size=0.2, random_state=42)\n",
    "TRVNRY_X_train, TRVNRY_X_test, TRVNRY_y_train, TRVNRY_y_test = train_test_split(TRVNRY_X, TRVNRY_y, test_size=0.2, random_state=42)\n",
    "TRXQMD_X_train, TRXQMD_X_test, TRXQMD_y_train, TRXQMD_y_test = train_test_split(TRXQMD_X, TRXQMD_y, test_size=0.2, random_state=42)\n",
    "TRYBLT_X_train, TRYBLT_X_test, TRYBLT_y_train, TRYBLT_y_test = train_test_split(TRYBLT_X, TRYBLT_y, test_size=0.2, random_state=42)\n",
    "TRZKPL_X_train, TRZKPL_X_test, TRZKPL_y_train, TRZKPL_y_test = train_test_split(TRZKPL_X, TRZKPL_y, test_size=0.2, random_state=42)"
   ]
  },
  {
   "cell_type": "markdown",
   "metadata": {},
   "source": [
    "TRCMWS_model"
   ]
  },
  {
   "cell_type": "code",
   "execution_count": 38,
   "metadata": {},
   "outputs": [
    {
     "name": "stdout",
     "output_type": "stream",
     "text": [
      "\n",
      "--- Model Performance ---\n",
      "Model Accuracy: 0.7458650564452612\n",
      "Model F1 Score: 0.23357086302454472\n",
      "Model AUC: 0.7633017480146901\n"
     ]
    },
    {
     "data": {
      "image/png": "[encoded data removed]",
      "text/plain": [
       "<Figure size 640x480 with 2 Axes>"
      ]
     },
     "metadata": {},
     "output_type": "display_data"
    }
   ],
   "source": [
    "import lightgbm as lgb\n",
    "from sklearn.metrics import accuracy_score, f1_score, roc_auc_score, confusion_matrix, ConfusionMatrixDisplay\n",
    "import matplotlib.pyplot as plt\n",
    "\n",
    "# 모델 초기화\n",
    "TRCMWS_model = lgb.LGBMClassifier(\n",
    "    n_estimators=4471,\n",
    "    num_leaves=13,\n",
    "    max_depth=279,\n",
    "    learning_rate=0.007075124517450591,\n",
    "    min_child_samples=26,\n",
    "    subsample=0.29772991936701476,\n",
    "    colsample_bytree=0.8913054521763838,\n",
    "    reg_alpha=0.0004860363321690653,\n",
    "    reg_lambda=311.08056657247363,\n",
    "    min_split_gain=0.18214905183450955,\n",
    "    random_state=42,\n",
    "    boosting_type='gbdt',\n",
    "    verbose=-1\n",
    ")\n",
    "\n",
    "# 모델 학습\n",
    "TRCMWS_model.fit(TRCMWS_X_train, TRCMWS_y_train)\n",
    "\n",
    "# 예측\n",
    "y_pred = TRCMWS_model.predict(TRCMWS_X_test)\n",
    "y_pred_proba = TRCMWS_model.predict_proba(TRCMWS_X_test)[:, 1]\n",
    "\n",
    "# 평가\n",
    "accuracy = accuracy_score(TRCMWS_y_test, y_pred)\n",
    "f1 = f1_score(TRCMWS_y_test, y_pred)\n",
    "auc = roc_auc_score(TRCMWS_y_test, y_pred_proba)\n",
    "cm = confusion_matrix(TRCMWS_y_test, y_pred)\n",
    "\n",
    "# 결과 출력\n",
    "print()\n",
    "print(\"--- Model Performance ---\")\n",
    "print(f\"Model Accuracy: {accuracy}\")\n",
    "print(f\"Model F1 Score: {f1}\")\n",
    "print(f\"Model AUC: {auc}\")\n",
    "\n",
    "# 혼동 행렬 출력\n",
    "disp = ConfusionMatrixDisplay(confusion_matrix=cm, display_labels=TRCMWS_model.classes_)\n",
    "disp.plot(cmap=plt.cm.Blues)\n",
    "plt.show()"
   ]
  },
  {
   "cell_type": "markdown",
   "metadata": {},
   "source": [
    "TRDQAZ_model"
   ]
  },
  {
   "cell_type": "code",
   "execution_count": 39,
   "metadata": {},
   "outputs": [
    {
     "name": "stdout",
     "output_type": "stream",
     "text": [
      "\n",
      "--- Model Performance ---\n",
      "Model Accuracy: 0.7593994610547927\n",
      "Model F1 Score: 0.24547283702213282\n",
      "Model AUC: 0.7656575521359092\n"
     ]
    },
    {
     "data": {
      "image/png": "[encoded data removed]",
      "text/plain": [
       "<Figure size 640x480 with 2 Axes>"
      ]
     },
     "metadata": {},
     "output_type": "display_data"
    }
   ],
   "source": [
    "# 모델 초기화\n",
    "TRDQAZ_model = lgb.LGBMClassifier(\n",
    "    n_estimators=4471,\n",
    "    num_leaves=13,\n",
    "    max_depth=279,\n",
    "    learning_rate=0.007075124517450591,\n",
    "    min_child_samples=26,\n",
    "    subsample=0.29772991936701476,\n",
    "    colsample_bytree=0.8913054521763838,\n",
    "    reg_alpha=0.0004860363321690653,\n",
    "    reg_lambda=311.08056657247363,\n",
    "    min_split_gain=0.18214905183450955,\n",
    "    random_state=42,\n",
    "    boosting_type='gbdt',\n",
    "    verbose=-1\n",
    ")\n",
    "\n",
    "# 모델 학습\n",
    "TRDQAZ_model.fit(TRDQAZ_X_train, TRDQAZ_y_train)\n",
    "\n",
    "# 예측\n",
    "y_pred = TRDQAZ_model.predict(TRDQAZ_X_test)\n",
    "y_pred_proba = TRDQAZ_model.predict_proba(TRDQAZ_X_test)[:, 1]\n",
    "\n",
    "# 평가\n",
    "accuracy = accuracy_score(TRDQAZ_y_test, y_pred)\n",
    "f1 = f1_score(TRDQAZ_y_test, y_pred)\n",
    "auc = roc_auc_score(TRDQAZ_y_test, y_pred_proba)\n",
    "cm = confusion_matrix(TRDQAZ_y_test, y_pred)\n",
    "\n",
    "# 결과 출력\n",
    "print()\n",
    "print(\"--- Model Performance ---\")\n",
    "print(f\"Model Accuracy: {accuracy}\")\n",
    "print(f\"Model F1 Score: {f1}\")\n",
    "print(f\"Model AUC: {auc}\")\n",
    "\n",
    "# 혼동 행렬 출력\n",
    "disp = ConfusionMatrixDisplay(confusion_matrix=cm, display_labels=TRDQAZ_model.classes_)\n",
    "disp.plot(cmap=plt.cm.Blues)\n",
    "plt.show()"
   ]
  },
  {
   "cell_type": "markdown",
   "metadata": {},
   "source": [
    "TRJXFG_model"
   ]
  },
  {
   "cell_type": "code",
   "execution_count": 40,
   "metadata": {},
   "outputs": [
    {
     "name": "stdout",
     "output_type": "stream",
     "text": [
      "\n",
      "--- Model Performance ---\n",
      "Model Accuracy: 0.7359511585958096\n",
      "Model F1 Score: 0.19941102229701305\n",
      "Model AUC: 0.7248254063728511\n"
     ]
    },
    {
     "data": {
      "image/png": "[encoded data removed]",
      "text/plain": [
       "<Figure size 640x480 with 2 Axes>"
      ]
     },
     "metadata": {},
     "output_type": "display_data"
    }
   ],
   "source": [
    "import lightgbm as lgb\n",
    "from sklearn.metrics import accuracy_score, f1_score, roc_auc_score, confusion_matrix, ConfusionMatrixDisplay\n",
    "import matplotlib.pyplot as plt\n",
    "\n",
    "# 모델 초기화\n",
    "TRJXFG_model = lgb.LGBMClassifier(\n",
    "    n_estimators=4471,\n",
    "    num_leaves=13,\n",
    "    max_depth=279,\n",
    "    learning_rate=0.007075124517450591,\n",
    "    min_child_samples=26,\n",
    "    subsample=0.29772991936701476,\n",
    "    colsample_bytree=0.8913054521763838,\n",
    "    reg_alpha=0.0004860363321690653,\n",
    "    reg_lambda=311.08056657247363,\n",
    "    min_split_gain=0.18214905183450955,\n",
    "    random_state=42,\n",
    "    boosting_type='gbdt',\n",
    "    verbose=-1\n",
    ")\n",
    "\n",
    "# 모델 학습\n",
    "TRJXFG_model.fit(TRJXFG_X_train, TRJXFG_y_train)\n",
    "\n",
    "# 예측\n",
    "y_pred = TRJXFG_model.predict(TRJXFG_X_test)\n",
    "y_pred_proba = TRJXFG_model.predict_proba(TRJXFG_X_test)[:, 1]\n",
    "\n",
    "# 평가\n",
    "accuracy = accuracy_score(TRJXFG_y_test, y_pred)\n",
    "f1 = f1_score(TRJXFG_y_test, y_pred)\n",
    "auc = roc_auc_score(TRJXFG_y_test, y_pred_proba)\n",
    "cm = confusion_matrix(TRJXFG_y_test, y_pred)\n",
    "\n",
    "# 결과 출력\n",
    "print()\n",
    "print(\"--- Model Performance ---\")\n",
    "print(f\"Model Accuracy: {accuracy}\")\n",
    "print(f\"Model F1 Score: {f1}\")\n",
    "print(f\"Model AUC: {auc}\")\n",
    "\n",
    "# 혼동 행렬 출력\n",
    "disp = ConfusionMatrixDisplay(confusion_matrix=cm, display_labels=TRJXFG_model.classes_)\n",
    "disp.plot(cmap=plt.cm.Blues)\n",
    "plt.show()"
   ]
  },
  {
   "cell_type": "markdown",
   "metadata": {},
   "source": [
    "TRVNRY_model"
   ]
  },
  {
   "cell_type": "code",
   "execution_count": 41,
   "metadata": {},
   "outputs": [
    {
     "name": "stdout",
     "output_type": "stream",
     "text": [
      "\n",
      "--- Model Performance ---\n",
      "Model Accuracy: 0.7422252937111264\n",
      "Model F1 Score: 0.17000445037828216\n",
      "Model AUC: 0.7215698464713756\n"
     ]
    },
    {
     "data": {
      "image/png": "[encoded data removed]",
      "text/plain": [
       "<Figure size 640x480 with 2 Axes>"
      ]
     },
     "metadata": {},
     "output_type": "display_data"
    }
   ],
   "source": [
    "import lightgbm as lgb\n",
    "from sklearn.metrics import accuracy_score, f1_score, roc_auc_score, confusion_matrix, ConfusionMatrixDisplay\n",
    "import matplotlib.pyplot as plt\n",
    "\n",
    "# 모델 초기화\n",
    "TRVNRY_model = lgb.LGBMClassifier(\n",
    "    n_estimators=4471,\n",
    "    num_leaves=13,\n",
    "    max_depth=279,\n",
    "    learning_rate=0.007075124517450591,\n",
    "    min_child_samples=26,\n",
    "    subsample=0.29772991936701476,\n",
    "    colsample_bytree=0.8913054521763838,\n",
    "    reg_alpha=0.0004860363321690653,\n",
    "    reg_lambda=311.08056657247363,\n",
    "    min_split_gain=0.18214905183450955,\n",
    "    random_state=42,\n",
    "    boosting_type='gbdt',\n",
    "    verbose=-1\n",
    ")\n",
    "\n",
    "# 모델 학습\n",
    "TRVNRY_model.fit(TRVNRY_X_train, TRVNRY_y_train)\n",
    "\n",
    "# 예측\n",
    "y_pred = TRVNRY_model.predict(TRVNRY_X_test)\n",
    "y_pred_proba = TRVNRY_model.predict_proba(TRVNRY_X_test)[:, 1]\n",
    "\n",
    "# 평가\n",
    "accuracy = accuracy_score(TRVNRY_y_test, y_pred)\n",
    "f1 = f1_score(TRVNRY_y_test, y_pred)\n",
    "auc = roc_auc_score(TRVNRY_y_test, y_pred_proba)\n",
    "cm = confusion_matrix(TRVNRY_y_test, y_pred)\n",
    "\n",
    "# 결과 출력\n",
    "print()\n",
    "print(\"--- Model Performance ---\")\n",
    "print(f\"Model Accuracy: {accuracy}\")\n",
    "print(f\"Model F1 Score: {f1}\")\n",
    "print(f\"Model AUC: {auc}\")\n",
    "\n",
    "# 혼동 행렬 출력\n",
    "disp = ConfusionMatrixDisplay(confusion_matrix=cm, display_labels=TRVNRY_model.classes_)\n",
    "disp.plot(cmap=plt.cm.Blues)\n",
    "plt.show()"
   ]
  },
  {
   "cell_type": "markdown",
   "metadata": {},
   "source": [
    "TRXQMD_model"
   ]
  },
  {
   "cell_type": "code",
   "execution_count": 42,
   "metadata": {},
   "outputs": [
    {
     "name": "stdout",
     "output_type": "stream",
     "text": [
      "\n",
      "--- Model Performance ---\n",
      "Model Accuracy: 0.7496411139821992\n",
      "Model F1 Score: 0.20146520146520144\n",
      "Model AUC: 0.7181096029713794\n"
     ]
    },
    {
     "data": {
      "image/png": "[encoded data removed]",
      "text/plain": [
       "<Figure size 640x480 with 2 Axes>"
      ]
     },
     "metadata": {},
     "output_type": "display_data"
    }
   ],
   "source": [
    "import lightgbm as lgb\n",
    "from sklearn.metrics import accuracy_score, f1_score, roc_auc_score, confusion_matrix, ConfusionMatrixDisplay\n",
    "import matplotlib.pyplot as plt\n",
    "\n",
    "# 모델 초기화\n",
    "TRXQMD_model = lgb.LGBMClassifier(\n",
    "    n_estimators=4471,\n",
    "    num_leaves=13,\n",
    "    max_depth=279,\n",
    "    learning_rate=0.007075124517450591,\n",
    "    min_child_samples=26,\n",
    "    subsample=0.29772991936701476,\n",
    "    colsample_bytree=0.8913054521763838,\n",
    "    reg_alpha=0.0004860363321690653,\n",
    "    reg_lambda=311.08056657247363,\n",
    "    min_split_gain=0.18214905183450955,\n",
    "    random_state=42,\n",
    "    boosting_type='gbdt',\n",
    "    verbose=-1\n",
    ")\n",
    "\n",
    "# 모델 학습\n",
    "TRXQMD_model.fit(TRXQMD_X_train, TRXQMD_y_train)\n",
    "\n",
    "# 예측\n",
    "y_pred = TRXQMD_model.predict(TRXQMD_X_test)\n",
    "y_pred_proba = TRXQMD_model.predict_proba(TRXQMD_X_test)[:, 1]\n",
    "\n",
    "# 평가\n",
    "accuracy = accuracy_score(TRXQMD_y_test, y_pred)\n",
    "f1 = f1_score(TRXQMD_y_test, y_pred)\n",
    "auc = roc_auc_score(TRXQMD_y_test, y_pred_proba)\n",
    "cm = confusion_matrix(TRXQMD_y_test, y_pred)\n",
    "\n",
    "# 결과 출력\n",
    "print()\n",
    "print(\"--- Model Performance ---\")\n",
    "print(f\"Model Accuracy: {accuracy}\")\n",
    "print(f\"Model F1 Score: {f1}\")\n",
    "print(f\"Model AUC: {auc}\")\n",
    "\n",
    "# 혼동 행렬 출력\n",
    "disp = ConfusionMatrixDisplay(confusion_matrix=cm, display_labels=TRXQMD_model.classes_)\n",
    "disp.plot(cmap=plt.cm.Blues)\n",
    "plt.show()"
   ]
  },
  {
   "cell_type": "markdown",
   "metadata": {},
   "source": [
    "TRYBLT_model"
   ]
  },
  {
   "cell_type": "code",
   "execution_count": 43,
   "metadata": {},
   "outputs": [
    {
     "name": "stdout",
     "output_type": "stream",
     "text": [
      "\n",
      "--- Model Performance ---\n",
      "Model Accuracy: 0.7341685959417132\n",
      "Model F1 Score: 0.22784810126582275\n",
      "Model AUC: 0.7363721224031443\n"
     ]
    },
    {
     "data": {
      "image/png": "[encoded data removed]",
      "text/plain": [
       "<Figure size 640x480 with 2 Axes>"
      ]
     },
     "metadata": {},
     "output_type": "display_data"
    }
   ],
   "source": [
    "import lightgbm as lgb\n",
    "from sklearn.metrics import accuracy_score, f1_score, roc_auc_score, confusion_matrix, ConfusionMatrixDisplay\n",
    "import matplotlib.pyplot as plt\n",
    "\n",
    "# 모델 초기화\n",
    "TRYBLT_model = lgb.LGBMClassifier(\n",
    "    n_estimators=4471,\n",
    "    num_leaves=13,\n",
    "    max_depth=279,\n",
    "    learning_rate=0.007075124517450591,\n",
    "    min_child_samples=26,\n",
    "    subsample=0.29772991936701476,\n",
    "    colsample_bytree=0.8913054521763838,\n",
    "    reg_alpha=0.0004860363321690653,\n",
    "    reg_lambda=311.08056657247363,\n",
    "    min_split_gain=0.18214905183450955,\n",
    "    random_state=42,\n",
    "    boosting_type='gbdt',\n",
    "    verbose=-1\n",
    ")\n",
    "\n",
    "# 모델 학습\n",
    "TRYBLT_model.fit(TRYBLT_X_train, TRYBLT_y_train)\n",
    "\n",
    "# 예측\n",
    "y_pred = TRYBLT_model.predict(TRYBLT_X_test)\n",
    "y_pred_proba = TRYBLT_model.predict_proba(TRYBLT_X_test)[:, 1]\n",
    "\n",
    "# 평가\n",
    "accuracy = accuracy_score(TRYBLT_y_test, y_pred)\n",
    "f1 = f1_score(TRYBLT_y_test, y_pred)\n",
    "auc = roc_auc_score(TRYBLT_y_test, y_pred_proba)\n",
    "cm = confusion_matrix(TRYBLT_y_test, y_pred)\n",
    "\n",
    "# 결과 출력\n",
    "print()\n",
    "print(\"--- Model Performance ---\")\n",
    "print(f\"Model Accuracy: {accuracy}\")\n",
    "print(f\"Model F1 Score: {f1}\")\n",
    "print(f\"Model AUC: {auc}\")\n",
    "\n",
    "# 혼동 행렬 출력\n",
    "disp = ConfusionMatrixDisplay(confusion_matrix=cm, display_labels=TRYBLT_model.classes_)\n",
    "disp.plot(cmap=plt.cm.Blues)\n",
    "plt.show()"
   ]
  },
  {
   "cell_type": "markdown",
   "metadata": {},
   "source": [
    "TRZKPL_model"
   ]
  },
  {
   "cell_type": "code",
   "execution_count": 44,
   "metadata": {},
   "outputs": [
    {
     "name": "stdout",
     "output_type": "stream",
     "text": [
      "\n",
      "--- Model Performance ---\n",
      "Model Accuracy: 0.7466591644394429\n",
      "Model F1 Score: 0.18321995464852608\n",
      "Model AUC: 0.7254454668051922\n"
     ]
    },
    {
     "data": {
      "image/png": "[encoded data removed]",
      "text/plain": [
       "<Figure size 640x480 with 2 Axes>"
      ]
     },
     "metadata": {},
     "output_type": "display_data"
    }
   ],
   "source": [
    "import lightgbm as lgb\n",
    "from sklearn.metrics import accuracy_score, f1_score, roc_auc_score, confusion_matrix, ConfusionMatrixDisplay\n",
    "import matplotlib.pyplot as plt\n",
    "\n",
    "# 모델 초기화\n",
    "TRZKPL_model = lgb.LGBMClassifier(\n",
    "    n_estimators=4471,\n",
    "    num_leaves=13,\n",
    "    max_depth=279,\n",
    "    learning_rate=0.007075124517450591,\n",
    "    min_child_samples=26,\n",
    "    subsample=0.29772991936701476,\n",
    "    colsample_bytree=0.8913054521763838,\n",
    "    reg_alpha=0.0004860363321690653,\n",
    "    reg_lambda=311.08056657247363,\n",
    "    min_split_gain=0.18214905183450955,\n",
    "    random_state=42,\n",
    "    boosting_type='gbdt',\n",
    "    verbose=-1\n",
    ")\n",
    "\n",
    "# 모델 학습\n",
    "TRZKPL_model.fit(TRZKPL_X_train, TRZKPL_y_train)\n",
    "\n",
    "# 예측\n",
    "y_pred = TRZKPL_model.predict(TRZKPL_X_test)\n",
    "y_pred_proba = TRZKPL_model.predict_proba(TRZKPL_X_test)[:, 1]\n",
    "\n",
    "# 평가\n",
    "accuracy = accuracy_score(TRZKPL_y_test, y_pred)\n",
    "f1 = f1_score(TRZKPL_y_test, y_pred)\n",
    "auc = roc_auc_score(TRZKPL_y_test, y_pred_proba)\n",
    "cm = confusion_matrix(TRZKPL_y_test, y_pred)\n",
    "\n",
    "# 결과 출력\n",
    "print()\n",
    "print(\"--- Model Performance ---\")\n",
    "print(f\"Model Accuracy: {accuracy}\")\n",
    "print(f\"Model F1 Score: {f1}\")\n",
    "print(f\"Model AUC: {auc}\")\n",
    "\n",
    "# 혼동 행렬 출력\n",
    "disp = ConfusionMatrixDisplay(confusion_matrix=cm, display_labels=TRZKPL_model.classes_)\n",
    "disp.plot(cmap=plt.cm.Blues)\n",
    "plt.show()"
   ]
  },
  {
   "cell_type": "code",
   "execution_count": 45,
   "metadata": {},
   "outputs": [
    {
     "name": "stdout",
     "output_type": "stream",
     "text": [
      "\n",
      "--- Model Performance ---\n",
      "Model Accuracy: 0.7449630395350197\n",
      "Model F1 Score: 0.21000483325277916\n",
      "Model AUC: 0.737965627180702\n"
     ]
    },
    {
     "data": {
      "image/png": "[encoded data removed]",
      "text/plain": [
       "<Figure size 640x480 with 2 Axes>"
      ]
     },
     "metadata": {},
     "output_type": "display_data"
    }
   ],
   "source": [
    "import pandas as pd\n",
    "from sklearn.metrics import accuracy_score, f1_score, roc_auc_score, confusion_matrix, ConfusionMatrixDisplay\n",
    "import matplotlib.pyplot as plt\n",
    "\n",
    "# 예측\n",
    "TRCMWS_y_pred = TRCMWS_model.predict(TRCMWS_X_test)\n",
    "TRCMWS_y_pred_proba = TRCMWS_model.predict_proba(TRCMWS_X_test)[:, 1]\n",
    "\n",
    "TRDQAZ_y_pred = TRDQAZ_model.predict(TRDQAZ_X_test)\n",
    "TRDQAZ_y_pred_proba = TRDQAZ_model.predict_proba(TRDQAZ_X_test)[:, 1]\n",
    "\n",
    "TRJXFG_y_pred = TRJXFG_model.predict(TRJXFG_X_test)\n",
    "TRJXFG_y_pred_proba = TRJXFG_model.predict_proba(TRJXFG_X_test)[:, 1]\n",
    "\n",
    "TRVNRY_y_pred = TRVNRY_model.predict(TRVNRY_X_test)\n",
    "TRVNRY_y_pred_proba = TRVNRY_model.predict_proba(TRVNRY_X_test)[:, 1]\n",
    "\n",
    "TRXQMD_y_pred = TRXQMD_model.predict(TRXQMD_X_test)\n",
    "TRXQMD_y_pred_proba = TRXQMD_model.predict_proba(TRXQMD_X_test)[:, 1]\n",
    "\n",
    "TRYBLT_y_pred = TRYBLT_model.predict(TRYBLT_X_test)\n",
    "TRYBLT_y_pred_proba = TRYBLT_model.predict_proba(TRYBLT_X_test)[:, 1]\n",
    "\n",
    "TRZKPL_y_pred = TRZKPL_model.predict(TRZKPL_X_test)\n",
    "TRZKPL_y_pred_proba = TRZKPL_model.predict_proba(TRZKPL_X_test)[:, 1]\n",
    "\n",
    "# 예측 결과 병합\n",
    "y_test = pd.concat([TRCMWS_y_test, TRDQAZ_y_test, TRJXFG_y_test, TRVNRY_y_test, TRXQMD_y_test, TRYBLT_y_test, TRZKPL_y_test])\n",
    "y_pred = pd.concat([\n",
    "    pd.Series(TRCMWS_y_pred, index=TRCMWS_y_test.index),\n",
    "    pd.Series(TRDQAZ_y_pred, index=TRDQAZ_y_test.index),\n",
    "    pd.Series(TRJXFG_y_pred, index=TRJXFG_y_test.index),\n",
    "    pd.Series(TRVNRY_y_pred, index=TRVNRY_y_test.index),\n",
    "    pd.Series(TRXQMD_y_pred, index=TRXQMD_y_test.index),\n",
    "    pd.Series(TRYBLT_y_pred, index=TRYBLT_y_test.index),\n",
    "    pd.Series(TRZKPL_y_pred, index=TRZKPL_y_test.index)\n",
    "])\n",
    "y_pred_proba = pd.concat([\n",
    "    pd.Series(TRCMWS_y_pred_proba, index=TRCMWS_y_test.index),\n",
    "    pd.Series(TRDQAZ_y_pred_proba, index=TRDQAZ_y_test.index),\n",
    "    pd.Series(TRJXFG_y_pred_proba, index=TRJXFG_y_test.index),\n",
    "    pd.Series(TRVNRY_y_pred_proba, index=TRVNRY_y_test.index),\n",
    "    pd.Series(TRXQMD_y_pred_proba, index=TRXQMD_y_test.index),\n",
    "    pd.Series(TRYBLT_y_pred_proba, index=TRYBLT_y_test.index),\n",
    "    pd.Series(TRZKPL_y_pred_proba, index=TRZKPL_y_test.index)\n",
    "])\n",
    "\n",
    "# 평가\n",
    "accuracy = accuracy_score(y_test, y_pred)\n",
    "f1 = f1_score(y_test, y_pred)\n",
    "auc = roc_auc_score(y_test, y_pred_proba)\n",
    "cm = confusion_matrix(y_test, y_pred)\n",
    "\n",
    "# 결과 출력\n",
    "print()\n",
    "print(\"--- Model Performance ---\")\n",
    "print(f\"Model Accuracy: {accuracy}\")\n",
    "print(f\"Model F1 Score: {f1}\")\n",
    "print(f\"Model AUC: {auc}\")\n",
    "\n",
    "# 혼동 행렬 출력\n",
    "disp = ConfusionMatrixDisplay(confusion_matrix=cm, display_labels=TRCMWS_model.classes_)\n",
    "disp.plot(cmap=plt.cm.Blues)\n",
    "plt.show()"
   ]
  },
  {
   "cell_type": "code",
   "execution_count": 52,
   "metadata": {},
   "outputs": [],
   "source": [
    "import platform\n",
    "from matplotlib import rc\n",
    "\n",
    "# 운영 체제에 따라 폰트 설정\n",
    "if platform.system() == 'Windows':  # Windows 환경\n",
    "    rc('font', family='Malgun Gothic')  # 맑은 고딕\n",
    "\n",
    "# 음수 표시 가능하도록 설정\n",
    "plt.rcParams['axes.unicode_minus'] = False"
   ]
  },
  {
   "cell_type": "code",
   "execution_count": 53,
   "metadata": {},
   "outputs": [
    {
     "data": {
      "image/png": "[encoded data removed]",
      "text/plain": [
       "<Figure size 1000x600 with 1 Axes>"
      ]
     },
     "metadata": {},
     "output_type": "display_data"
    }
   ],
   "source": [
    "import seaborn as sns\n",
    "\n",
    "# y_pred_proba를 임신_성공_여부에 따라 박스플롯으로 출력\n",
    "result_df = pd.DataFrame({'임신_성공_여부': y_test, '예측_확률': y_pred_proba})\n",
    "\n",
    "# 박스플롯 출력\n",
    "plt.figure(figsize=(10, 6))\n",
    "sns.boxplot(x='임신_성공_여부', y='예측_확률', data=result_df)\n",
    "plt.title('임신 성공 여부에 따른 예측 확률')\n",
    "plt.xlabel('임신 성공 여부')\n",
    "plt.ylabel('예측 확률')\n",
    "plt.show()"
   ]
  },
  {
   "cell_type": "markdown",
   "metadata": {},
   "source": [
    "## 제출"
   ]
  },
  {
   "cell_type": "code",
   "execution_count": 46,
   "metadata": {},
   "outputs": [],
   "source": [
    "import pandas as pd\n",
    "\n",
    "# 모델 학습 및 예측\n",
    "TRCMWS_model.fit(TRCMWS_X, TRCMWS_y)\n",
    "TRCMWS_pred_proba = TRCMWS_model.predict_proba(TRCMWS_test.drop('ID', axis=1))[:, 1]\n",
    "\n",
    "TRDQAZ_model.fit(TRDQAZ_X, TRDQAZ_y)\n",
    "TRDQAZ_pred_proba = TRDQAZ_model.predict_proba(TRDQAZ_test.drop('ID', axis=1))[:, 1]\n",
    "\n",
    "TRJXFG_model.fit(TRJXFG_X, TRJXFG_y)\n",
    "TRJXFG_pred_proba = TRJXFG_model.predict_proba(TRJXFG_test.drop('ID', axis=1))[:, 1]\n",
    "\n",
    "TRVNRY_model.fit(TRVNRY_X, TRVNRY_y)\n",
    "TRVNRY_pred_proba = TRVNRY_model.predict_proba(TRVNRY_test.drop('ID', axis=1))[:, 1]\n",
    "\n",
    "TRXQMD_model.fit(TRXQMD_X, TRXQMD_y)\n",
    "TRXQMD_pred_proba = TRXQMD_model.predict_proba(TRXQMD_test.drop('ID', axis=1))[:, 1]\n",
    "\n",
    "TRYBLT_model.fit(TRYBLT_X, TRYBLT_y)\n",
    "TRYBLT_pred_proba = TRYBLT_model.predict_proba(TRYBLT_test.drop('ID', axis=1))[:, 1]\n",
    "\n",
    "TRZKPL_model.fit(TRZKPL_X, TRZKPL_y)\n",
    "TRZKPL_pred_proba = TRZKPL_model.predict_proba(TRZKPL_test.drop('ID', axis=1))[:, 1]\n",
    "\n",
    "# 예측 결과 병합\n",
    "TRCMWS_test['probability'] = TRCMWS_pred_proba\n",
    "TRDQAZ_test['probability'] = TRDQAZ_pred_proba\n",
    "TRJXFG_test['probability'] = TRJXFG_pred_proba\n",
    "TRVNRY_test['probability'] = TRVNRY_pred_proba\n",
    "TRXQMD_test['probability'] = TRXQMD_pred_proba\n",
    "TRYBLT_test['probability'] = TRYBLT_pred_proba\n",
    "TRZKPL_test['probability'] = TRZKPL_pred_proba"
   ]
  },
  {
   "cell_type": "code",
   "execution_count": 47,
   "metadata": {},
   "outputs": [],
   "source": [
    "# 최종 제출 파일 생성\n",
    "submission = pd.concat([\n",
    "    TRCMWS_test[['ID', 'probability']],\n",
    "    TRDQAZ_test[['ID', 'probability']],\n",
    "    TRJXFG_test[['ID', 'probability']],\n",
    "    TRVNRY_test[['ID', 'probability']],\n",
    "    TRXQMD_test[['ID', 'probability']],\n",
    "    TRYBLT_test[['ID', 'probability']],\n",
    "    TRZKPL_test[['ID', 'probability']]\n",
    "], axis=0)\n",
    "submission = submission.sort_values(by='ID')\n",
    "\n",
    "# 제출 파일 저장\n",
    "submission.to_csv('../submission/code25_submit.csv', index=False, encoding='utf-8')"
   ]
  },
  {
   "cell_type": "markdown",
   "metadata": {},
   "source": [
    "데이콘 PUBLIC 0.738130795"
   ]
  },
  {
   "cell_type": "code",
   "execution_count": null,
   "metadata": {},
   "outputs": [],
   "source": [
    "import pandas as pd\n",
    "\n",
    "# 세 CSV 파일을 읽어옵니다.\n",
    "df1 = pd.read_csv('../submission/code24_submit.csv')\n",
    "df2 = pd.read_csv('../submission/code24_total_submit2.csv')\n",
    "df3 = pd.read_csv('../submission/code25_submit.csv')\n",
    "\n",
    "# ID를 기준으로 병합합니다.\n",
    "merged_df = pd.merge(df1, df2, on='ID', suffixes=('_df1', '_df2'))\n",
    "merged_df = pd.merge(merged_df, df3, on='ID')\n",
    "\n",
    "# 'probability' 열을 소프트 보팅하여 새로운 'probability' 열 생성\n",
    "merged_df['probability'] = (merged_df['probability_df1'] + merged_df['probability_df2'] + merged_df['probability']) / 3\n",
    "\n",
    "# 최종 제출 파일 생성\n",
    "submission = merged_df[['ID', 'probability']]\n",
    "submission = submission.sort_values(by='ID')\n",
    "\n",
    "# 제출 파일 저장\n",
    "submission.to_csv('../submission/code25_soft_voting_submit.csv', index=False, encoding='utf-8')"
   ]
  },
  {
   "cell_type": "markdown",
   "metadata": {},
   "source": [
    "데이콘 PUBLIC 0.7418025179"
   ]
  },
  {
   "cell_type": "code",
   "execution_count": 49,
   "metadata": {},
   "outputs": [],
   "source": [
    "import pandas as pd\n",
    "\n",
    "# 두 CSV 파일을 읽어옵니다.\n",
    "df1 = pd.read_csv('../submission/code25_submit.csv')\n",
    "df2 = pd.read_csv('../submission/code24_soft_voting_submit2_upgrade3_adv.csv')\n",
    "\n",
    "# ID를 기준으로 병합합니다.\n",
    "merged_df = pd.merge(df1, df2, on='ID', suffixes=('_df1', '_df2'))\n",
    "\n",
    "# 'probability' 열을 소프트 보팅하여 새로운 'probability' 열 생성\n",
    "merged_df['probability'] = (merged_df['probability_df1'] + merged_df['probability_df2']) / 2\n",
    "\n",
    "# 최종 제출 파일 생성\n",
    "submission = merged_df[['ID', 'probability']]\n",
    "submission = submission.sort_values(by='ID')\n",
    "\n",
    "# 제출 파일 저장\n",
    "submission.to_csv('../submission/code25_soft_voting_submit2.csv', index=False, encoding='utf-8')"
   ]
  },
  {
   "cell_type": "markdown",
   "metadata": {},
   "source": [
    "데이콘 PUBLIC 0.7413842275"
   ]
  },
  {
   "cell_type": "markdown",
   "metadata": {},
   "source": [
    "### 소프트보팅과 하드보팅 2가지 방식 응용버전"
   ]
  },
  {
   "cell_type": "code",
   "execution_count": 54,
   "metadata": {},
   "outputs": [],
   "source": [
    "import pandas as pd\n",
    "\n",
    "# 세 CSV 파일을 읽어옵니다.\n",
    "df1 = pd.read_csv('../submission/code24_submit.csv')\n",
    "df2 = pd.read_csv('../submission/code24_total_submit2.csv')\n",
    "df3 = pd.read_csv('../submission/code25_submit.csv')\n",
    "\n",
    "# ID를 기준으로 병합합니다.\n",
    "merged_df = pd.merge(df1, df2, on='ID', suffixes=('_df1', '_df2'))\n",
    "merged_df = pd.merge(merged_df, df3, on='ID')\n",
    "\n",
    "# 'probability' 열을 조건에 따라 선택하여 새로운 'probability' 열 생성\n",
    "def select_probability(row):\n",
    "    if row['probability_df1'] > 0.35 and row['probability_df2'] > 0.35 and row['probability'] > 0.35:\n",
    "        return max(row['probability_df1'], row['probability_df2'], row['probability'])\n",
    "    elif row['probability_df1'] < 0.25 and row['probability_df2'] < 0.25 and row['probability'] < 0.25:\n",
    "        return min(row['probability_df1'], row['probability_df2'], row['probability'])\n",
    "    else:\n",
    "        return row['probability_df1']\n",
    "\n",
    "merged_df['probability'] = merged_df.apply(select_probability, axis=1)\n",
    "\n",
    "# 최종 제출 파일 생성\n",
    "submission = merged_df[['ID', 'probability']]\n",
    "submission = submission.sort_values(by='ID')\n",
    "\n",
    "# 제출 파일 저장\n",
    "submission.to_csv('../submission/code25_voting_submit.csv', index=False, encoding='utf-8')"
   ]
  },
  {
   "cell_type": "markdown",
   "metadata": {},
   "source": [
    "데이콘 PUBLIC 0.7415465797"
   ]
  },
  {
   "cell_type": "markdown",
   "metadata": {},
   "source": [
    "."
   ]
  }
 ],
 "metadata": {
  "kernelspec": {
   "display_name": "Python 3",
   "language": "python",
   "name": "python3"
  },
  "language_info": {
   "codemirror_mode": {
    "name": "ipython",
    "version": 3
   },
   "file_extension": ".py",
   "mimetype": "text/x-python",
   "name": "python",
   "nbconvert_exporter": "python",
   "pygments_lexer": "ipython3",
   "version": "3.7.8"
  }
 },
 "nbformat": 4,
 "nbformat_minor": 2
}
