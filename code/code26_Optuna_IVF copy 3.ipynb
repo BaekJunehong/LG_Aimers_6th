{
 "cells": [
  {
   "cell_type": "markdown",
   "metadata": {},
   "source": [
    "## 난임 환자 대상 임신 성공 여부 예측"
   ]
  },
  {
   "cell_type": "markdown",
   "metadata": {},
   "source": [
    "### LGAimers 6th 온라인 해커톤"
   ]
  },
  {
   "cell_type": "markdown",
   "metadata": {},
   "source": [
    "Import"
   ]
  },
  {
   "cell_type": "code",
   "execution_count": 1,
   "metadata": {},
   "outputs": [],
   "source": [
    "import pandas as pd\n",
    "import lightgbm as lgb\n",
    "from sklearn.preprocessing import OrdinalEncoder\n",
    "from sklearn.model_selection import train_test_split\n",
    "from sklearn.metrics import accuracy_score, f1_score, roc_auc_score, confusion_matrix, ConfusionMatrixDisplay\n",
    "import matplotlib.pyplot as plt"
   ]
  },
  {
   "cell_type": "markdown",
   "metadata": {},
   "source": [
    "### Data Load"
   ]
  },
  {
   "cell_type": "code",
   "execution_count": 2,
   "metadata": {},
   "outputs": [],
   "source": [
    "# 데이터 로드\n",
    "IVF_train = pd.read_csv('../data/IVF_train_dataset_26_xx.csv')\n",
    "IVF_test = pd.read_csv('../data/IVF_test_dataset_26_xx.csv')\n",
    "\n",
    "DI_train = pd.read_csv('../data/DI_train_dataset_26.csv')\n",
    "DI_test = pd.read_csv('../data/DI_test_dataset_26.csv')"
   ]
  },
  {
   "cell_type": "code",
   "execution_count": 3,
   "metadata": {},
   "outputs": [],
   "source": [
    "# ID 열을 제외한 특성과 타겟 변수 분리\n",
    "IVF_X = IVF_train.drop(['임신_성공_여부', 'ID'], axis=1)\n",
    "IVF_y = IVF_train['임신_성공_여부']\n",
    "\n",
    "DI_X = DI_train.drop(['임신_성공_여부', 'ID'], axis=1)\n",
    "DI_y = DI_train['임신_성공_여부']"
   ]
  },
  {
   "cell_type": "code",
   "execution_count": 4,
   "metadata": {},
   "outputs": [
    {
     "name": "stdout",
     "output_type": "stream",
     "text": [
      "IVF_X shape: (250052, 64)\n",
      "IVF_test shape: (87891, 64)\n",
      "DI_X shape: (6289, 31)\n",
      "DI_test shape: (2176, 31)\n"
     ]
    }
   ],
   "source": [
    "print(f\"IVF_X shape: {IVF_X.shape}\")\n",
    "print(f\"IVF_test shape: {IVF_test.drop('ID', axis=1).shape}\")\n",
    "print(f\"DI_X shape: {DI_X.shape}\")\n",
    "print(f\"DI_test shape: {DI_test.drop('ID', axis=1).shape}\")"
   ]
  },
  {
   "cell_type": "markdown",
   "metadata": {},
   "source": [
    "### 인코딩 "
   ]
  },
  {
   "cell_type": "code",
   "execution_count": 5,
   "metadata": {},
   "outputs": [],
   "source": [
    "IVF_categorical_columns = [\n",
    "    \"시술_시기_코드\",\n",
    "    \"시술_당시_나이\",\n",
    "    \"특정_시술_유형\",\n",
    "    \"배란_유도_유형\",\n",
    "    \"난자_출처\",\n",
    "    \"정자_출처\",\n",
    "    \"난자_기증자_나이\",\n",
    "    \"정자_기증자_나이\"\n",
    "]"
   ]
  },
  {
   "cell_type": "code",
   "execution_count": 6,
   "metadata": {},
   "outputs": [],
   "source": [
    "DI_categorical_columns = [\n",
    "    \"시술_시기_코드\",\n",
    "    \"시술_당시_나이\",\n",
    "    \"특정_시술_유형\",\n",
    "    \"정자_기증자_나이\"\n",
    "]"
   ]
  },
  {
   "cell_type": "code",
   "execution_count": 7,
   "metadata": {},
   "outputs": [],
   "source": [
    "# 모든 범주형 변수를 문자열로 변환\n",
    "IVF_X[IVF_categorical_columns] = IVF_X[IVF_categorical_columns].astype(str)\n",
    "DI_X[DI_categorical_columns] = DI_X[DI_categorical_columns].astype(str)\n",
    "IVF_test[IVF_categorical_columns] = IVF_test[IVF_categorical_columns].astype(str)\n",
    "DI_test[DI_categorical_columns] = DI_test[DI_categorical_columns].astype(str)\n",
    "\n",
    "# OrdinalEncoder를 사용하여 범주형 변수 인코딩\n",
    "IVF_encoder = OrdinalEncoder(handle_unknown='use_encoded_value', unknown_value=-1)\n",
    "DI_encoder = OrdinalEncoder(handle_unknown='use_encoded_value', unknown_value=-1)\n",
    "\n",
    "IVF_X[IVF_categorical_columns] = IVF_encoder.fit_transform(IVF_X[IVF_categorical_columns])\n",
    "DI_X[DI_categorical_columns] = DI_encoder.fit_transform(DI_X[DI_categorical_columns])\n",
    "IVF_test[IVF_categorical_columns] = IVF_encoder.transform(IVF_test[IVF_categorical_columns])\n",
    "DI_test[DI_categorical_columns] = DI_encoder.transform(DI_test[DI_categorical_columns])"
   ]
  },
  {
   "cell_type": "markdown",
   "metadata": {},
   "source": [
    "## Modeling"
   ]
  },
  {
   "cell_type": "code",
   "execution_count": null,
   "metadata": {},
   "outputs": [
    {
     "ename": "",
     "evalue": "",
     "output_type": "error",
     "traceback": [
      "\u001b[1;31m현재 셀 또는 이전 셀에서 코드를 실행하는 동안 Kernel이 충돌했습니다. \n",
      "\u001b[1;31m셀의 코드를 검토하여 가능한 오류 원인을 식별하세요. \n",
      "\u001b[1;31m자세한 내용을 보려면 <a href='https://aka.ms/vscodeJupyterKernelCrash'>여기</a>를 클릭하세요. \n",
      "\u001b[1;31m자세한 내용은 Jupyter <a href='command:jupyter.viewOutput'>로그</a>를 참조하세요."
     ]
    }
   ],
   "source": [
    "# 데이터 분할\n",
    "IVF_X_train, IVF_X_test, IVF_y_train, IVF_y_test = train_test_split(IVF_X, IVF_y, test_size=0.2, random_state=42)\n",
    "DI_X_train, DI_X_test, DI_y_train, DI_y_test = train_test_split(DI_X, DI_y, test_size=0.2, random_state=42)"
   ]
  },
  {
   "cell_type": "markdown",
   "metadata": {},
   "source": [
    "### IVF 데이터"
   ]
  },
  {
   "cell_type": "code",
   "execution_count": null,
   "metadata": {},
   "outputs": [
    {
     "name": "stderr",
     "output_type": "stream",
     "text": [
      "[I 2025-02-11 22:33:42,867] A new study created in memory with name: no-name-e5cce1b6-e03d-4ef9-9d8a-7d3662801d37\n",
      "[I 2025-02-11 22:44:42,631] Trial 0 finished with value: 0.737714316307769 and parameters: {'n_estimators': 3422, 'max_depth': 232, 'learning_rate': 0.0013913469145529404, 'min_child_weight': 70, 'subsample': 0.7855674922809555, 'colsample_bytree': 0.7265622281129454, 'reg_alpha': 2.9768130819746426, 'reg_lambda': 3.0400763143665235}. Best is trial 0 with value: 0.737714316307769.\n",
      "[I 2025-02-11 22:46:51,974] Trial 1 finished with value: 0.7375087342390212 and parameters: {'n_estimators': 2977, 'max_depth': 132, 'learning_rate': 0.010404904347081502, 'min_child_weight': 90, 'subsample': 0.6562616815862209, 'colsample_bytree': 0.9817868437122554, 'reg_alpha': 0.845087388771351, 'reg_lambda': 3.634115364585639}. Best is trial 0 with value: 0.737714316307769.\n",
      "[I 2025-02-11 22:48:39,451] Trial 2 finished with value: 0.7365126263347785 and parameters: {'n_estimators': 2244, 'max_depth': 114, 'learning_rate': 0.014940568807982968, 'min_child_weight': 86, 'subsample': 0.9007475723136895, 'colsample_bytree': 0.9735807619899022, 'reg_alpha': 1.250122351726565, 'reg_lambda': 0.01817477984586799}. Best is trial 0 with value: 0.737714316307769.\n",
      "[I 2025-02-11 22:54:50,738] Trial 3 finished with value: 0.7373137602914644 and parameters: {'n_estimators': 3817, 'max_depth': 5, 'learning_rate': 0.001264324200088409, 'min_child_weight': 46, 'subsample': 0.8836888900350467, 'colsample_bytree': 0.8148431567756103, 'reg_alpha': 1.9623958739736762, 'reg_lambda': 3.454300095402}. Best is trial 0 with value: 0.737714316307769.\n",
      "[I 2025-02-11 22:55:58,026] Trial 4 finished with value: 0.7337952351439093 and parameters: {'n_estimators': 4661, 'max_depth': 230, 'learning_rate': 0.07316775763347028, 'min_child_weight': 24, 'subsample': 0.7099922087715647, 'colsample_bytree': 0.7461286917681177, 'reg_alpha': 0.08099647815384103, 'reg_lambda': 0.30468724526516905}. Best is trial 0 with value: 0.737714316307769.\n",
      "[I 2025-02-11 22:57:42,476] Trial 5 finished with value: 0.7319860383970682 and parameters: {'n_estimators': 2456, 'max_depth': 255, 'learning_rate': 0.008687839026458576, 'min_child_weight': 13, 'subsample': 0.9443538438323928, 'colsample_bytree': 0.7690591711048715, 'reg_alpha': 0.017189808808660233, 'reg_lambda': 0.0012668300099842838}. Best is trial 0 with value: 0.737714316307769.\n",
      "[I 2025-02-11 22:59:12,429] Trial 6 finished with value: 0.7310775589400409 and parameters: {'n_estimators': 4025, 'max_depth': 27, 'learning_rate': 0.009381502328375214, 'min_child_weight': 8, 'subsample': 0.9501144370109372, 'colsample_bytree': 0.7666877166376102, 'reg_alpha': 0.9498881476448292, 'reg_lambda': 0.002605644956004811}. Best is trial 0 with value: 0.737714316307769.\n",
      "[I 2025-02-11 23:00:24,202] Trial 7 finished with value: 0.7373153419570095 and parameters: {'n_estimators': 4969, 'max_depth': 265, 'learning_rate': 0.025422297554248397, 'min_child_weight': 55, 'subsample': 0.6778855955490379, 'colsample_bytree': 0.6835367800720523, 'reg_alpha': 0.001367668209476032, 'reg_lambda': 9.677162453380681}. Best is trial 0 with value: 0.737714316307769.\n",
      "[I 2025-02-11 23:01:57,620] Trial 8 finished with value: 0.7376553739491236 and parameters: {'n_estimators': 4821, 'max_depth': 58, 'learning_rate': 0.016323069060253294, 'min_child_weight': 95, 'subsample': 0.7162505335362683, 'colsample_bytree': 0.9242037080783694, 'reg_alpha': 0.21605373200840258, 'reg_lambda': 6.170694946440513}. Best is trial 0 with value: 0.737714316307769.\n",
      "[I 2025-02-11 23:05:07,042] Trial 9 finished with value: 0.7310663108446064 and parameters: {'n_estimators': 3171, 'max_depth': 205, 'learning_rate': 0.0035881320274404865, 'min_child_weight': 12, 'subsample': 0.7504942603247792, 'colsample_bytree': 0.9895524659671453, 'reg_alpha': 0.13502099174996296, 'reg_lambda': 0.004863984619149286}. Best is trial 0 with value: 0.737714316307769.\n",
      "[I 2025-02-11 23:05:37,348] Trial 10 finished with value: 0.7330694083032417 and parameters: {'n_estimators': 655, 'max_depth': 183, 'learning_rate': 0.0011272242146877932, 'min_child_weight': 65, 'subsample': 0.8069917675691487, 'colsample_bytree': 0.6226546161134275, 'reg_alpha': 8.380392811203748, 'reg_lambda': 0.5127696374270837}. Best is trial 0 with value: 0.737714316307769.\n",
      "[I 2025-02-11 23:11:57,163] Trial 11 finished with value: 0.738177355943134 and parameters: {'n_estimators': 1562, 'max_depth': 81, 'learning_rate': 0.0036143059498251187, 'min_child_weight': 76, 'subsample': 0.8019881721617947, 'colsample_bytree': 0.8870923800817911, 'reg_alpha': 8.717168836824445, 'reg_lambda': 0.6412718561590747}. Best is trial 11 with value: 0.738177355943134.\n",
      "[I 2025-02-11 23:18:16,109] Trial 12 finished with value: 0.7379808880263397 and parameters: {'n_estimators': 1365, 'max_depth': 85, 'learning_rate': 0.002634696097415868, 'min_child_weight': 71, 'subsample': 0.802284554476203, 'colsample_bytree': 0.8678511345883365, 'reg_alpha': 7.530855242395973, 'reg_lambda': 0.43327310001694563}. Best is trial 11 with value: 0.738177355943134.\n",
      "[I 2025-02-11 23:24:39,095] Trial 13 finished with value: 0.7382677374280014 and parameters: {'n_estimators': 1404, 'max_depth': 88, 'learning_rate': 0.003421581536451146, 'min_child_weight': 72, 'subsample': 0.8146957102943713, 'colsample_bytree': 0.8554244185717841, 'reg_alpha': 9.963142567990472, 'reg_lambda': 0.07923150194438636}. Best is trial 13 with value: 0.7382677374280014.\n",
      "[I 2025-02-11 23:30:13,155] Trial 14 finished with value: 0.7382462372166241 and parameters: {'n_estimators': 1716, 'max_depth': 79, 'learning_rate': 0.003996703959096408, 'min_child_weight': 39, 'subsample': 0.6102412836809853, 'colsample_bytree': 0.8762863445991886, 'reg_alpha': 9.859442339688403, 'reg_lambda': 0.040952744235174324}. Best is trial 13 with value: 0.7382677374280014.\n",
      "[I 2025-02-11 23:32:28,914] Trial 15 finished with value: 0.7366969712810711 and parameters: {'n_estimators': 1742, 'max_depth': 156, 'learning_rate': 0.005295987488116822, 'min_child_weight': 38, 'subsample': 0.6012112129274118, 'colsample_bytree': 0.8367943330230261, 'reg_alpha': 0.02323764916664935, 'reg_lambda': 0.040887588876104}. Best is trial 13 with value: 0.7382677374280014.\n",
      "[I 2025-02-11 23:35:31,597] Trial 16 finished with value: 0.7349050131226667 and parameters: {'n_estimators': 798, 'max_depth': 300, 'learning_rate': 0.0020312097055768764, 'min_child_weight': 31, 'subsample': 0.877414362212387, 'colsample_bytree': 0.9203243176940964, 'reg_alpha': 0.3546929967103781, 'reg_lambda': 0.07852589634836199}. Best is trial 13 with value: 0.7382677374280014.\n",
      "[I 2025-02-11 23:38:00,335] Trial 17 finished with value: 0.7371235616166492 and parameters: {'n_estimators': 2131, 'max_depth': 50, 'learning_rate': 0.005397355162448073, 'min_child_weight': 55, 'subsample': 0.6139957366165477, 'colsample_bytree': 0.8462633599282914, 'reg_alpha': 0.001052673272601479, 'reg_lambda': 0.013651916979238603}. Best is trial 13 with value: 0.7382677374280014.\n",
      "[I 2025-02-11 23:40:47,653] Trial 18 finished with value: 0.7366202892122324 and parameters: {'n_estimators': 1156, 'max_depth': 106, 'learning_rate': 0.005385363051729699, 'min_child_weight': 44, 'subsample': 0.8369050205401981, 'colsample_bytree': 0.9285609584094738, 'reg_alpha': 3.408829564782418, 'reg_lambda': 0.15017981322008547}. Best is trial 13 with value: 0.7382677374280014.\n",
      "[I 2025-02-11 23:42:08,931] Trial 19 finished with value: 0.7360514544219614 and parameters: {'n_estimators': 1810, 'max_depth': 153, 'learning_rate': 0.030003247425720966, 'min_child_weight': 60, 'subsample': 0.9880703672532178, 'colsample_bytree': 0.7988501209195523, 'reg_alpha': 0.004394489964081904, 'reg_lambda': 0.02397007060110767}. Best is trial 13 with value: 0.7382677374280014.\n",
      "[I 2025-02-11 23:48:00,578] Trial 20 finished with value: 0.7371502171181004 and parameters: {'n_estimators': 1053, 'max_depth': 67, 'learning_rate': 0.002108101352268587, 'min_child_weight': 79, 'subsample': 0.764647714638042, 'colsample_bytree': 0.8923715467687612, 'reg_alpha': 0.38737492905655785, 'reg_lambda': 0.008165401848290158}. Best is trial 13 with value: 0.7382677374280014.\n",
      "[I 2025-02-11 23:53:55,343] Trial 21 finished with value: 0.7381559340320312 and parameters: {'n_estimators': 1500, 'max_depth': 88, 'learning_rate': 0.003913009951363245, 'min_child_weight': 79, 'subsample': 0.8417195151297453, 'colsample_bytree': 0.8843001884718152, 'reg_alpha': 9.168995346449897, 'reg_lambda': 1.1520402212147038}. Best is trial 13 with value: 0.7382677374280014.\n",
      "[I 2025-02-11 23:59:15,277] Trial 22 finished with value: 0.7378819091713308 and parameters: {'n_estimators': 2634, 'max_depth': 36, 'learning_rate': 0.003124990801373803, 'min_child_weight': 81, 'subsample': 0.7348915116095353, 'colsample_bytree': 0.86403935418218, 'reg_alpha': 4.3638064776135606, 'reg_lambda': 0.09448217525055251}. Best is trial 13 with value: 0.7382677374280014.\n",
      "[I 2025-02-12 00:02:14,479] Trial 23 finished with value: 0.7379767652558855 and parameters: {'n_estimators': 1811, 'max_depth': 85, 'learning_rate': 0.006652297434043613, 'min_child_weight': 98, 'subsample': 0.8330292265880375, 'colsample_bytree': 0.8090993002051169, 'reg_alpha': 4.406175119001042, 'reg_lambda': 1.0592634537145087}. Best is trial 13 with value: 0.7382677374280014.\n",
      "[I 2025-02-12 00:04:56,175] Trial 24 finished with value: 0.7368984055232772 and parameters: {'n_estimators': 549, 'max_depth': 125, 'learning_rate': 0.002120391275230328, 'min_child_weight': 71, 'subsample': 0.6722592220777543, 'colsample_bytree': 0.9492578857161106, 'reg_alpha': 2.21637976258092, 'reg_lambda': 0.21380968035595652}. Best is trial 13 with value: 0.7382677374280014.\n",
      "[I 2025-02-12 00:09:40,316] Trial 25 finished with value: 0.7377744530066015 and parameters: {'n_estimators': 2054, 'max_depth': 13, 'learning_rate': 0.004082612033219602, 'min_child_weight': 29, 'subsample': 0.7743771476129767, 'colsample_bytree': 0.9053654118342631, 'reg_alpha': 8.339358524081833, 'reg_lambda': 0.04379427877657089}. Best is trial 13 with value: 0.7382677374280014.\n",
      "[I 2025-02-12 00:14:28,704] Trial 26 finished with value: 0.7362233715486837 and parameters: {'n_estimators': 1412, 'max_depth': 72, 'learning_rate': 0.0017246385655689288, 'min_child_weight': 50, 'subsample': 0.852713111835924, 'colsample_bytree': 0.8491766930349902, 'reg_alpha': 0.6207673094164139, 'reg_lambda': 0.04961086215552842}. Best is trial 13 with value: 0.7382677374280014.\n",
      "[I 2025-02-12 00:17:01,916] Trial 27 finished with value: 0.731296804928693 and parameters: {'n_estimators': 989, 'max_depth': 102, 'learning_rate': 0.0027536935760685386, 'min_child_weight': 1, 'subsample': 0.8135728441265262, 'colsample_bytree': 0.956444816706161, 'reg_alpha': 1.774178246542551, 'reg_lambda': 0.9291850227357095}. Best is trial 13 with value: 0.7382677374280014.\n",
      "[I 2025-02-12 00:19:04,808] Trial 28 finished with value: 0.7371123573693683 and parameters: {'n_estimators': 1574, 'max_depth': 140, 'learning_rate': 0.007714440614076271, 'min_child_weight': 62, 'subsample': 0.9251885374364244, 'colsample_bytree': 0.8824188117099245, 'reg_alpha': 4.816748653048126, 'reg_lambda': 0.13548645134979953}. Best is trial 13 with value: 0.7382677374280014.\n",
      "[I 2025-02-12 00:20:44,510] Trial 29 finished with value: 0.7371505887834034 and parameters: {'n_estimators': 2425, 'max_depth': 48, 'learning_rate': 0.013373566805003276, 'min_child_weight': 73, 'subsample': 0.7801226398820715, 'colsample_bytree': 0.7110512801982942, 'reg_alpha': 0.03855278367744169, 'reg_lambda': 1.7281742560047375}. Best is trial 13 with value: 0.7382677374280014.\n",
      "[I 2025-02-12 00:27:45,563] Trial 30 finished with value: 0.7372694830522334 and parameters: {'n_estimators': 2770, 'max_depth': 173, 'learning_rate': 0.0015104681627981546, 'min_child_weight': 39, 'subsample': 0.643945195425524, 'colsample_bytree': 0.8235565115245336, 'reg_alpha': 3.0266269431014337, 'reg_lambda': 0.4762869471832463}. Best is trial 13 with value: 0.7382677374280014.\n",
      "[I 2025-02-12 00:32:39,743] Trial 31 finished with value: 0.7382069158627678 and parameters: {'n_estimators': 1238, 'max_depth': 88, 'learning_rate': 0.004372937050216575, 'min_child_weight': 79, 'subsample': 0.8589233630213283, 'colsample_bytree': 0.8888835260475269, 'reg_alpha': 9.93951821376493, 'reg_lambda': 1.4367102482046346}. Best is trial 13 with value: 0.7382677374280014.\n",
      "[I 2025-02-12 00:36:02,440] Trial 32 finished with value: 0.7375772981353985 and parameters: {'n_estimators': 1208, 'max_depth': 100, 'learning_rate': 0.005119507169988138, 'min_child_weight': 87, 'subsample': 0.8638213204998136, 'colsample_bytree': 0.9080969841140186, 'reg_alpha': 5.016071608797528, 'reg_lambda': 2.0523172782674566}. Best is trial 13 with value: 0.7382677374280014.\n",
      "[I 2025-02-12 00:40:12,534] Trial 33 finished with value: 0.7378651372525303 and parameters: {'n_estimators': 861, 'max_depth': 120, 'learning_rate': 0.003923669802971891, 'min_child_weight': 76, 'subsample': 0.9047142698089186, 'colsample_bytree': 0.9435815917712984, 'reg_alpha': 9.462216287672423, 'reg_lambda': 0.25245463846743627}. Best is trial 13 with value: 0.7382677374280014.\n",
      "[I 2025-02-12 00:46:19,418] Trial 34 finished with value: 0.7373363775867581 and parameters: {'n_estimators': 2050, 'max_depth': 75, 'learning_rate': 0.0025799710328572524, 'min_child_weight': 90, 'subsample': 0.8185224879120396, 'colsample_bytree': 0.8651007706141189, 'reg_alpha': 1.3840099420465086, 'reg_lambda': 0.028327443943014646}. Best is trial 13 with value: 0.7382677374280014.\n",
      "[I 2025-02-12 00:49:21,028] Trial 35 finished with value: 0.7375338665391323 and parameters: {'n_estimators': 1697, 'max_depth': 133, 'learning_rate': 0.0068138886790638925, 'min_child_weight': 66, 'subsample': 0.7915897461878233, 'colsample_bytree': 0.7888426510712353, 'reg_alpha': 2.7568759738679316, 'reg_lambda': 0.06996164704256565}. Best is trial 13 with value: 0.7382677374280014.\n",
      "[I 2025-02-12 00:51:26,224] Trial 36 finished with value: 0.7378737805588329 and parameters: {'n_estimators': 1258, 'max_depth': 27, 'learning_rate': 0.011877963775356154, 'min_child_weight': 83, 'subsample': 0.8978132243775689, 'colsample_bytree': 0.8318178890379131, 'reg_alpha': 5.502654470363547, 'reg_lambda': 3.3955129664529644}. Best is trial 13 with value: 0.7382677374280014.\n",
      "[I 2025-02-12 00:51:59,806] Trial 37 finished with value: 0.7352757471744188 and parameters: {'n_estimators': 1914, 'max_depth': 110, 'learning_rate': 0.0010057820923993538, 'min_child_weight': 93, 'subsample': 0.7536105841063135, 'colsample_bytree': 0.9684707575749419, 'reg_alpha': 0.7714866241479991, 'reg_lambda': 0.01424084168492221}. Best is trial 13 with value: 0.7382677374280014.\n",
      "[I 2025-02-12 00:55:28,776] Trial 38 finished with value: 0.7370243666528827 and parameters: {'n_estimators': 3630, 'max_depth': 60, 'learning_rate': 0.004513056629917092, 'min_child_weight': 58, 'subsample': 0.7071899753157629, 'colsample_bytree': 0.8982410252322572, 'reg_alpha': 1.1697255643250881, 'reg_lambda': 0.5591317325956658}. Best is trial 13 with value: 0.7382677374280014.\n",
      "[I 2025-02-12 00:56:57,203] Trial 39 finished with value: 0.735479038699136 and parameters: {'n_estimators': 2312, 'max_depth': 36, 'learning_rate': 0.01791997471093587, 'min_child_weight': 24, 'subsample': 0.8682271272629574, 'colsample_bytree': 0.8671577266038478, 'reg_alpha': 2.063225171308935, 'reg_lambda': 0.15454879439462704}. Best is trial 13 with value: 0.7382677374280014.\n",
      "[I 2025-02-12 00:59:13,104] Trial 40 finished with value: 0.7366298157456315 and parameters: {'n_estimators': 4342, 'max_depth': 87, 'learning_rate': 0.009959189605635573, 'min_child_weight': 49, 'subsample': 0.8277555004552548, 'colsample_bytree': 0.7835148679750756, 'reg_alpha': 0.005069363683156538, 'reg_lambda': 5.66441251376363}. Best is trial 13 with value: 0.7382677374280014.\n",
      "[I 2025-02-12 01:06:21,973] Trial 41 finished with value: 0.7382446210989582 and parameters: {'n_estimators': 1497, 'max_depth': 92, 'learning_rate': 0.0033128843649709084, 'min_child_weight': 77, 'subsample': 0.8496864018170398, 'colsample_bytree': 0.878702543422044, 'reg_alpha': 9.917717871419022, 'reg_lambda': 1.1341684489361117}. Best is trial 13 with value: 0.7382677374280014.\n",
      "[I 2025-02-12 01:12:03,675] Trial 42 finished with value: 0.7377298239381369 and parameters: {'n_estimators': 1546, 'max_depth': 99, 'learning_rate': 0.0032333031030143057, 'min_child_weight': 68, 'subsample': 0.8530520546802822, 'colsample_bytree': 0.8809204811682421, 'reg_alpha': 5.808079644422965, 'reg_lambda': 1.9844797624182788}. Best is trial 13 with value: 0.7382677374280014.\n",
      "[I 2025-02-12 01:16:56,208] Trial 43 finished with value: 0.7368832706022158 and parameters: {'n_estimators': 982, 'max_depth': 76, 'learning_rate': 0.0014677548170278188, 'min_child_weight': 87, 'subsample': 0.8916734238008293, 'colsample_bytree': 0.9286212719796411, 'reg_alpha': 3.448721329925804, 'reg_lambda': 0.3160090793908521}. Best is trial 13 with value: 0.7382677374280014.\n",
      "[I 2025-02-12 01:17:56,475] Trial 44 finished with value: 0.7377319537056037 and parameters: {'n_estimators': 1325, 'max_depth': 141, 'learning_rate': 0.050819144085964406, 'min_child_weight': 76, 'subsample': 0.7859569326843135, 'colsample_bytree': 0.850202361309752, 'reg_alpha': 6.0502103865692085, 'reg_lambda': 0.7918230974782028}. Best is trial 13 with value: 0.7382677374280014.\n",
      "[I 2025-02-12 01:21:50,206] Trial 45 finished with value: 0.7383263394414535 and parameters: {'n_estimators': 768, 'max_depth': 50, 'learning_rate': 0.006776789713309832, 'min_child_weight': 84, 'subsample': 0.8105332151401579, 'colsample_bytree': 0.817274403087188, 'reg_alpha': 9.84322063408406, 'reg_lambda': 5.197030548980689}. Best is trial 45 with value: 0.7383263394414535.\n",
      "[I 2025-02-12 01:26:14,456] Trial 46 finished with value: 0.7382820308821127 and parameters: {'n_estimators': 785, 'max_depth': 48, 'learning_rate': 0.006624492994667397, 'min_child_weight': 84, 'subsample': 0.8515564578309259, 'colsample_bytree': 0.8216969128713448, 'reg_alpha': 9.38320388896224, 'reg_lambda': 9.84777235358899}. Best is trial 45 with value: 0.7383263394414535.\n",
      "[I 2025-02-12 01:26:59,954] Trial 47 finished with value: 0.7320717782416626 and parameters: {'n_estimators': 568, 'max_depth': 3, 'learning_rate': 0.007005046528548569, 'min_child_weight': 92, 'subsample': 0.8141594960398343, 'colsample_bytree': 0.7472547213134074, 'reg_alpha': 1.5839160987043146, 'reg_lambda': 9.560566911083242}. Best is trial 45 with value: 0.7383263394414535.\n",
      "[I 2025-02-12 01:29:22,390] Trial 48 finished with value: 0.737548094221013 and parameters: {'n_estimators': 3162, 'max_depth': 49, 'learning_rate': 0.00822638182197221, 'min_child_weight': 84, 'subsample': 0.9151002929734477, 'colsample_bytree': 0.7617264770337168, 'reg_alpha': 2.7406690192042706, 'reg_lambda': 5.012901576556724}. Best is trial 45 with value: 0.7383263394414535.\n",
      "[I 2025-02-12 01:32:30,852] Trial 49 finished with value: 0.7378580703917547 and parameters: {'n_estimators': 723, 'max_depth': 32, 'learning_rate': 0.006129979939129007, 'min_child_weight': 99, 'subsample': 0.7309833697132608, 'colsample_bytree': 0.6013199709994977, 'reg_alpha': 0.07704809243047334, 'reg_lambda': 9.309578852774479}. Best is trial 45 with value: 0.7383263394414535.\n",
      "[I 2025-02-12 01:34:08,266] Trial 50 finished with value: 0.7371835866070902 and parameters: {'n_estimators': 800, 'max_depth': 60, 'learning_rate': 0.019199976449255276, 'min_child_weight': 43, 'subsample': 0.9498429906715878, 'colsample_bytree': 0.8145413825403428, 'reg_alpha': 5.822925810855044, 'reg_lambda': 4.255342088792135}. Best is trial 45 with value: 0.7383263394414535.\n",
      "[I 2025-02-12 01:38:47,246] Trial 51 finished with value: 0.7382083732918775 and parameters: {'n_estimators': 968, 'max_depth': 20, 'learning_rate': 0.004530413811226882, 'min_child_weight': 74, 'subsample': 0.8770409188991464, 'colsample_bytree': 0.8295396350542761, 'reg_alpha': 9.381934350557408, 'reg_lambda': 2.5607966686766708}. Best is trial 45 with value: 0.7383263394414535.\n",
      "[I 2025-02-12 01:42:01,063] Trial 52 finished with value: 0.7380136833133162 and parameters: {'n_estimators': 964, 'max_depth': 10, 'learning_rate': 0.0029505881358915013, 'min_child_weight': 88, 'subsample': 0.8820611148752648, 'colsample_bytree': 0.8368584599985269, 'reg_alpha': 6.405610942787395, 'reg_lambda': 3.020362135661028}. Best is trial 45 with value: 0.7383263394414535.\n",
      "[I 2025-02-12 01:44:44,091] Trial 53 finished with value: 0.7374775195735862 and parameters: {'n_estimators': 532, 'max_depth': 26, 'learning_rate': 0.005065728417186388, 'min_child_weight': 73, 'subsample': 0.9298752548024635, 'colsample_bytree': 0.8029854993054154, 'reg_alpha': 3.8961983296017633, 'reg_lambda': 2.9444494919581055}. Best is trial 45 with value: 0.7383263394414535.\n",
      "[I 2025-02-12 01:47:45,544] Trial 54 finished with value: 0.7379625636740964 and parameters: {'n_estimators': 1110, 'max_depth': 49, 'learning_rate': 0.009564881768522254, 'min_child_weight': 63, 'subsample': 0.8414694729783305, 'colsample_bytree': 0.82360416483875, 'reg_alpha': 7.039720553325832, 'reg_lambda': 6.991119475208222}. Best is trial 45 with value: 0.7383263394414535.\n",
      "[I 2025-02-12 01:51:26,001] Trial 55 finished with value: 0.7370089404548003 and parameters: {'n_estimators': 756, 'max_depth': 66, 'learning_rate': 0.002431259049291517, 'min_child_weight': 54, 'subsample': 0.8730356148260151, 'colsample_bytree': 0.853856039687344, 'reg_alpha': 9.993874374946163, 'reg_lambda': 2.4894203358284486}. Best is trial 45 with value: 0.7383263394414535.\n",
      "[I 2025-02-12 01:55:10,012] Trial 56 finished with value: 0.7377809268732982 and parameters: {'n_estimators': 898, 'max_depth': 18, 'learning_rate': 0.006008518541599351, 'min_child_weight': 83, 'subsample': 0.823313902898195, 'colsample_bytree': 0.7844385964282817, 'reg_alpha': 2.4514525823605595, 'reg_lambda': 7.4284438461103965}. Best is trial 45 with value: 0.7383263394414535.\n",
      "[I 2025-02-12 02:00:22,328] Trial 57 finished with value: 0.737007100920351 and parameters: {'n_estimators': 1670, 'max_depth': 41, 'learning_rate': 0.003428155359129421, 'min_child_weight': 35, 'subsample': 0.8050097956561857, 'colsample_bytree': 0.8342730311271007, 'reg_alpha': 3.856455052100737, 'reg_lambda': 4.323033579965314}. Best is trial 45 with value: 0.7383263394414535.\n",
      "[I 2025-02-12 02:05:50,100] Trial 58 finished with value: 0.7380237130564793 and parameters: {'n_estimators': 1429, 'max_depth': 18, 'learning_rate': 0.004879451870348413, 'min_child_weight': 76, 'subsample': 0.84616564650247, 'colsample_bytree': 0.7975308629685299, 'reg_alpha': 6.980985469830407, 'reg_lambda': 0.0287428998822054}. Best is trial 45 with value: 0.7383263394414535.\n",
      "[I 2025-02-12 02:11:05,394] Trial 59 finished with value: 0.7375722201015955 and parameters: {'n_estimators': 1119, 'max_depth': 206, 'learning_rate': 0.001842522029184374, 'min_child_weight': 81, 'subsample': 0.7921109785211924, 'colsample_bytree': 0.7693376151125564, 'reg_alpha': 4.052263321745299, 'reg_lambda': 0.001011040608082377}. Best is trial 45 with value: 0.7383263394414535.\n",
      "[I 2025-02-12 02:11:51,156] Trial 60 finished with value: 0.7363793310794603 and parameters: {'n_estimators': 1900, 'max_depth': 59, 'learning_rate': 0.09811272696667533, 'min_child_weight': 69, 'subsample': 0.6420903687376671, 'colsample_bytree': 0.6558770831022511, 'reg_alpha': 0.15637100982702568, 'reg_lambda': 1.4550735600623794}. Best is trial 45 with value: 0.7383263394414535.\n",
      "[I 2025-02-12 02:17:50,213] Trial 61 finished with value: 0.7382539409196324 and parameters: {'n_estimators': 1281, 'max_depth': 93, 'learning_rate': 0.003505682052914024, 'min_child_weight': 79, 'subsample': 0.8582105971580788, 'colsample_bytree': 0.876464966870586, 'reg_alpha': 9.681862040508213, 'reg_lambda': 1.4604336250238428}. Best is trial 45 with value: 0.7383263394414535.\n",
      "[I 2025-02-12 02:23:23,935] Trial 62 finished with value: 0.7383025873141813 and parameters: {'n_estimators': 1408, 'max_depth': 94, 'learning_rate': 0.0037459803777609487, 'min_child_weight': 96, 'subsample': 0.8819122134302463, 'colsample_bytree': 0.8706178914616945, 'reg_alpha': 9.869998249545967, 'reg_lambda': 0.05724136340332412}. Best is trial 45 with value: 0.7383263394414535.\n",
      "[I 2025-02-12 02:28:10,424] Trial 63 finished with value: 0.7380257154554996 and parameters: {'n_estimators': 1385, 'max_depth': 95, 'learning_rate': 0.0036128499877421012, 'min_child_weight': 96, 'subsample': 0.8354513072461575, 'colsample_bytree': 0.8722814045011303, 'reg_alpha': 7.288334115502313, 'reg_lambda': 0.059049737137264115}. Best is trial 45 with value: 0.7383263394414535.\n",
      "[I 2025-02-12 02:34:55,573] Trial 64 finished with value: 0.7378866270238711 and parameters: {'n_estimators': 1609, 'max_depth': 118, 'learning_rate': 0.00240196243058149, 'min_child_weight': 94, 'subsample': 0.770937394831377, 'colsample_bytree': 0.9073112144413376, 'reg_alpha': 5.3115806459930734, 'reg_lambda': 0.11350850142500117}. Best is trial 45 with value: 0.7383263394414535.\n",
      "[I 2025-02-12 02:37:57,749] Trial 65 finished with value: 0.7379546323782902 and parameters: {'n_estimators': 685, 'max_depth': 80, 'learning_rate': 0.005845836020814404, 'min_child_weight': 90, 'subsample': 0.8893535682707034, 'colsample_bytree': 0.856174442935773, 'reg_alpha': 6.7575957070260415, 'reg_lambda': 0.00706886194713444}. Best is trial 45 with value: 0.7383263394414535.\n",
      "[I 2025-02-12 02:43:22,081] Trial 66 finished with value: 0.737240398154265 and parameters: {'n_estimators': 1159, 'max_depth': 70, 'learning_rate': 0.003141296890975448, 'min_child_weight': 85, 'subsample': 0.9752008268239819, 'colsample_bytree': 0.8757894225136891, 'reg_alpha': 4.430925412965807, 'reg_lambda': 0.03793500904158317}. Best is trial 45 with value: 0.7383263394414535.\n",
      "[I 2025-02-12 02:45:37,682] Trial 67 finished with value: 0.7375581354482164 and parameters: {'n_estimators': 1465, 'max_depth': 95, 'learning_rate': 0.008042740687149693, 'min_child_weight': 100, 'subsample': 0.8530174652969665, 'colsample_bytree': 0.9161611709162278, 'reg_alpha': 3.002077369931558, 'reg_lambda': 0.018567284037874165}. Best is trial 45 with value: 0.7383263394414535.\n",
      "[I 2025-02-12 02:51:10,694] Trial 68 finished with value: 0.737999807460669 and parameters: {'n_estimators': 1274, 'max_depth': 115, 'learning_rate': 0.0040411784030760095, 'min_child_weight': 79, 'subsample': 0.862983159720009, 'colsample_bytree': 0.9988381157360238, 'reg_alpha': 9.878245054630225, 'reg_lambda': 0.08714764204462742}. Best is trial 45 with value: 0.7383263394414535.\n",
      "[I 2025-02-12 02:53:10,381] Trial 69 finished with value: 0.7380832170890937 and parameters: {'n_estimators': 1832, 'max_depth': 129, 'learning_rate': 0.011047536183850858, 'min_child_weight': 97, 'subsample': 0.9057925530941886, 'colsample_bytree': 0.8447466245897484, 'reg_alpha': 7.559579120938812, 'reg_lambda': 0.3524578373402404}. Best is trial 45 with value: 0.7383263394414535.\n",
      "[I 2025-02-12 03:00:11,292] Trial 70 finished with value: 0.7375432187239199 and parameters: {'n_estimators': 2196, 'max_depth': 108, 'learning_rate': 0.0022014433110200036, 'min_child_weight': 81, 'subsample': 0.692757028918585, 'colsample_bytree': 0.8165634885586237, 'reg_alpha': 0.004966990220178828, 'reg_lambda': 0.06016394450795762}. Best is trial 45 with value: 0.7383263394414535.\n",
      "[I 2025-02-12 03:04:31,966] Trial 71 finished with value: 0.7378988606587609 and parameters: {'n_estimators': 1033, 'max_depth': 41, 'learning_rate': 0.00280933743474752, 'min_child_weight': 73, 'subsample': 0.8767662121418146, 'colsample_bytree': 0.8963072005175533, 'reg_alpha': 9.829045984310918, 'reg_lambda': 2.3529496277995414}. Best is trial 45 with value: 0.7383263394414535.\n",
      "[I 2025-02-12 03:08:35,955] Trial 72 finished with value: 0.738128473603758 and parameters: {'n_estimators': 913, 'max_depth': 65, 'learning_rate': 0.004461149505744555, 'min_child_weight': 67, 'subsample': 0.8223043303939205, 'colsample_bytree': 0.8275363674374301, 'reg_alpha': 8.042470299662481, 'reg_lambda': 1.2157371833909036}. Best is trial 45 with value: 0.7383263394414535.\n",
      "[I 2025-02-12 03:11:20,290] Trial 73 finished with value: 0.7375965965430566 and parameters: {'n_estimators': 634, 'max_depth': 54, 'learning_rate': 0.003550917268790749, 'min_child_weight': 75, 'subsample': 0.8001920153976458, 'colsample_bytree': 0.8597413140765442, 'reg_alpha': 5.236098654956678, 'reg_lambda': 0.188166689461758}. Best is trial 45 with value: 0.7383263394414535.\n",
      "[I 2025-02-12 03:14:51,582] Trial 74 finished with value: 0.738115500814277 and parameters: {'n_estimators': 835, 'max_depth': 93, 'learning_rate': 0.004488584619043504, 'min_child_weight': 89, 'subsample': 0.8459183271961112, 'colsample_bytree': 0.8743464901239008, 'reg_alpha': 7.478169270711178, 'reg_lambda': 4.225884521918931}. Best is trial 45 with value: 0.7383263394414535.\n",
      "[I 2025-02-12 03:18:02,818] Trial 75 finished with value: 0.7373905436286582 and parameters: {'n_estimators': 1323, 'max_depth': 81, 'learning_rate': 0.005629668622622679, 'min_child_weight': 71, 'subsample': 0.9127030397012638, 'colsample_bytree': 0.844514359046285, 'reg_alpha': 3.3821246358869694, 'reg_lambda': 6.202162356188782}. Best is trial 45 with value: 0.7383263394414535.\n",
      "[I 2025-02-12 03:21:41,917] Trial 76 finished with value: 0.7365812904555071 and parameters: {'n_estimators': 1966, 'max_depth': 292, 'learning_rate': 0.0037865291560990762, 'min_child_weight': 78, 'subsample': 0.8814060621405748, 'colsample_bytree': 0.9366915355077032, 'reg_alpha': 0.007569973663309061, 'reg_lambda': 0.03628266578193084}. Best is trial 45 with value: 0.7383263394414535.\n",
      "[I 2025-02-12 03:22:56,827] Trial 77 finished with value: 0.7355898147955046 and parameters: {'n_estimators': 1764, 'max_depth': 44, 'learning_rate': 0.007518699921804236, 'min_child_weight': 27, 'subsample': 0.8637603820650411, 'colsample_bytree': 0.8919994190670847, 'reg_alpha': 2.0886236520789483, 'reg_lambda': 0.7883976031227727}. Best is trial 45 with value: 0.7383263394414535.\n",
      "[I 2025-02-12 03:26:08,028] Trial 78 finished with value: 0.73789240558413 and parameters: {'n_estimators': 1133, 'max_depth': 168, 'learning_rate': 0.0065260628667235645, 'min_child_weight': 92, 'subsample': 0.8305571039426287, 'colsample_bytree': 0.8623644624680505, 'reg_alpha': 4.874217278773708, 'reg_lambda': 0.11280934399584988}. Best is trial 45 with value: 0.7383263394414535.\n",
      "[I 2025-02-12 03:30:38,467] Trial 79 finished with value: 0.7383321117376905 and parameters: {'n_estimators': 1514, 'max_depth': 73, 'learning_rate': 0.005034717869303292, 'min_child_weight': 84, 'subsample': 0.8107229523598117, 'colsample_bytree': 0.8388253095687357, 'reg_alpha': 9.958093454659458, 'reg_lambda': 1.6992103983523115}. Best is trial 79 with value: 0.7383321117376905.\n",
      "[I 2025-02-12 03:36:47,266] Trial 80 finished with value: 0.738111408319929 and parameters: {'n_estimators': 1545, 'max_depth': 74, 'learning_rate': 0.0030329887385682533, 'min_child_weight': 85, 'subsample': 0.7582974092886575, 'colsample_bytree': 0.8397522272372032, 'reg_alpha': 6.324499050870612, 'reg_lambda': 1.7468227397558138}. Best is trial 79 with value: 0.7383321117376905.\n",
      "[I 2025-02-12 03:41:32,300] Trial 81 finished with value: 0.7381969132636998 and parameters: {'n_estimators': 1236, 'max_depth': 106, 'learning_rate': 0.0045575297499106885, 'min_child_weight': 82, 'subsample': 0.8112060660578123, 'colsample_bytree': 0.8104760616792461, 'reg_alpha': 8.118082940105708, 'reg_lambda': 2.850198332903015}. Best is trial 79 with value: 0.7383321117376905.\n",
      "[I 2025-02-12 03:45:33,069] Trial 82 finished with value: 0.7382818962056406 and parameters: {'n_estimators': 1042, 'max_depth': 66, 'learning_rate': 0.005316698969012852, 'min_child_weight': 86, 'subsample': 0.8549184492420482, 'colsample_bytree': 0.8836053249570555, 'reg_alpha': 9.848564120607172, 'reg_lambda': 1.4461291350859677}. Best is trial 79 with value: 0.7383321117376905.\n",
      "[I 2025-02-12 03:47:42,883] Trial 83 finished with value: 0.7373196140199869 and parameters: {'n_estimators': 1664, 'max_depth': 89, 'learning_rate': 0.009020236923843915, 'min_child_weight': 86, 'subsample': 0.7931701474060702, 'colsample_bytree': 0.8801347494958316, 'reg_alpha': 0.3497908699907178, 'reg_lambda': 1.3334456150416942}. Best is trial 79 with value: 0.7383321117376905.\n",
      "[I 2025-02-12 03:50:13,255] Trial 84 finished with value: 0.7362715658896476 and parameters: {'n_estimators': 1404, 'max_depth': 70, 'learning_rate': 0.005352028627652598, 'min_child_weight': 18, 'subsample': 0.8533562539240486, 'colsample_bytree': 0.8991123306866988, 'reg_alpha': 4.60456691680898, 'reg_lambda': 0.9471924893409117}. Best is trial 79 with value: 0.7383321117376905.\n",
      "[I 2025-02-12 03:53:30,462] Trial 85 finished with value: 0.7378985161375529 and parameters: {'n_estimators': 1526, 'max_depth': 82, 'learning_rate': 0.006884847263746622, 'min_child_weight': 92, 'subsample': 0.837577819698898, 'colsample_bytree': 0.9172321778176586, 'reg_alpha': 5.83435562546552, 'reg_lambda': 0.7190645634604158}. Best is trial 79 with value: 0.7383321117376905.\n",
      "[I 2025-02-12 03:58:39,380] Trial 86 finished with value: 0.7381254188490485 and parameters: {'n_estimators': 1318, 'max_depth': 55, 'learning_rate': 0.004067332986326296, 'min_child_weight': 89, 'subsample': 0.8203148366425722, 'colsample_bytree': 0.8669734319034759, 'reg_alpha': 7.2777749781077565, 'reg_lambda': 0.5837065110634206}. Best is trial 79 with value: 0.7383321117376905.\n",
      "[I 2025-02-12 04:03:17,891] Trial 87 finished with value: 0.7377241017540755 and parameters: {'n_estimators': 1031, 'max_depth': 65, 'learning_rate': 0.0027058629285908542, 'min_child_weight': 78, 'subsample': 0.7454378199187967, 'colsample_bytree': 0.8847402891602382, 'reg_alpha': 3.6660218152470425, 'reg_lambda': 3.681646443081731}. Best is trial 79 with value: 0.7383321117376905.\n",
      "[I 2025-02-12 04:06:22,499] Trial 88 finished with value: 0.7378095899937878 and parameters: {'n_estimators': 661, 'max_depth': 101, 'learning_rate': 0.004980995199223189, 'min_child_weight': 47, 'subsample': 0.7775170401505732, 'colsample_bytree': 0.8548348547854231, 'reg_alpha': 8.06900049287319, 'reg_lambda': 0.050467852491057945}. Best is trial 79 with value: 0.7383321117376905.\n",
      "[I 2025-02-12 04:13:51,881] Trial 89 finished with value: 0.7372301606543735 and parameters: {'n_estimators': 2519, 'max_depth': 79, 'learning_rate': 0.001807309973601717, 'min_child_weight': 95, 'subsample': 0.8902981952202758, 'colsample_bytree': 0.8202391762883064, 'reg_alpha': 0.05319638910193493, 'reg_lambda': 0.07924779561545425}. Best is trial 79 with value: 0.7383321117376905.\n",
      "[I 2025-02-12 04:16:03,855] Trial 90 finished with value: 0.7373699809325678 and parameters: {'n_estimators': 505, 'max_depth': 89, 'learning_rate': 0.0033763354885047565, 'min_child_weight': 41, 'subsample': 0.6098683013997647, 'colsample_bytree': 0.8035646903806727, 'reg_alpha': 5.618803636686449, 'reg_lambda': 0.001952063005000782}. Best is trial 79 with value: 0.7383321117376905.\n",
      "[I 2025-02-12 04:20:25,129] Trial 91 finished with value: 0.7378089354034929 and parameters: {'n_estimators': 896, 'max_depth': 21, 'learning_rate': 0.0039245682979953825, 'min_child_weight': 33, 'subsample': 0.873285722046928, 'colsample_bytree': 0.8260998199390485, 'reg_alpha': 9.884456921383052, 'reg_lambda': 8.206945251529017}. Best is trial 79 with value: 0.7383321117376905.\n",
      "[I 2025-02-12 04:22:59,930] Trial 92 finished with value: 0.7367091412317377 and parameters: {'n_estimators': 1073, 'max_depth': 37, 'learning_rate': 0.005499982855198696, 'min_child_weight': 64, 'subsample': 0.8569638198923415, 'colsample_bytree': 0.8371853128397929, 'reg_alpha': 0.00181690461854081, 'reg_lambda': 1.812182671022155}. Best is trial 79 with value: 0.7383321117376905.\n",
      "[I 2025-02-12 04:26:39,077] Trial 93 finished with value: 0.7381979729274148 and parameters: {'n_estimators': 799, 'max_depth': 30, 'learning_rate': 0.006336797429963655, 'min_child_weight': 80, 'subsample': 0.8313473483376008, 'colsample_bytree': 0.8442912631635422, 'reg_alpha': 8.79159719386415, 'reg_lambda': 5.225123644827009}. Best is trial 79 with value: 0.7383321117376905.\n",
      "[I 2025-02-12 04:32:04,219] Trial 94 finished with value: 0.7382417563529147 and parameters: {'n_estimators': 1207, 'max_depth': 52, 'learning_rate': 0.0047112710358203575, 'min_child_weight': 74, 'subsample': 0.8126921161980003, 'colsample_bytree': 0.7961463934083786, 'reg_alpha': 9.90089914506356, 'reg_lambda': 2.5303210936644063}. Best is trial 79 with value: 0.7383321117376905.\n",
      "[I 2025-02-12 04:35:05,814] Trial 95 finished with value: 0.7379953537410546 and parameters: {'n_estimators': 1199, 'max_depth': 46, 'learning_rate': 0.007298470036619148, 'min_child_weight': 83, 'subsample': 0.8080261464277769, 'colsample_bytree': 0.9058082275261715, 'reg_alpha': 6.283924705292189, 'reg_lambda': 3.498262904595004}. Best is trial 79 with value: 0.7383321117376905.\n",
      "[I 2025-02-12 04:38:49,124] Trial 96 finished with value: 0.7378722239493756 and parameters: {'n_estimators': 1460, 'max_depth': 59, 'learning_rate': 0.004800365003467254, 'min_child_weight': 77, 'subsample': 0.7852167000301276, 'colsample_bytree': 0.7914755161089052, 'reg_alpha': 4.604885176733769, 'reg_lambda': 1.029932873154333}. Best is trial 79 with value: 0.7383321117376905.\n",
      "[I 2025-02-12 04:46:00,449] Trial 97 finished with value: 0.7379106276240144 and parameters: {'n_estimators': 1684, 'max_depth': 53, 'learning_rate': 0.0024295722374084, 'min_child_weight': 60, 'subsample': 0.8454007919890698, 'colsample_bytree': 0.8731429689971949, 'reg_alpha': 8.034237693353779, 'reg_lambda': 2.188007354919843}. Best is trial 79 with value: 0.7383321117376905.\n",
      "[I 2025-02-12 04:50:00,516] Trial 98 finished with value: 0.7373455919630627 and parameters: {'n_estimators': 4031, 'max_depth': 65, 'learning_rate': 0.0032476786353244228, 'min_child_weight': 71, 'subsample': 0.8132868859321579, 'colsample_bytree': 0.886898103780332, 'reg_alpha': 3.0350599940379075, 'reg_lambda': 1.5365513594900972}. Best is trial 79 with value: 0.7383321117376905.\n",
      "[I 2025-02-12 04:52:30,300] Trial 99 finished with value: 0.7384573817368731 and parameters: {'n_estimators': 1366, 'max_depth': 73, 'learning_rate': 0.008604375006000175, 'min_child_weight': 88, 'subsample': 0.7999176687673847, 'colsample_bytree': 0.7626722943855038, 'reg_alpha': 9.991402778311368, 'reg_lambda': 6.722593976385269}. Best is trial 99 with value: 0.7384573817368731.\n",
      "[I 2025-02-12 04:54:07,086] Trial 100 finished with value: 0.7378118053695547 and parameters: {'n_estimators': 1614, 'max_depth': 73, 'learning_rate': 0.013335221186994171, 'min_child_weight': 86, 'subsample': 0.9320952798727727, 'colsample_bytree': 0.7458850178805365, 'reg_alpha': 6.35653128916542, 'reg_lambda': 0.40379772655241464}. Best is trial 99 with value: 0.7384573817368731.\n",
      "[I 2025-02-12 04:57:42,911] Trial 101 finished with value: 0.7384332934404223 and parameters: {'n_estimators': 1295, 'max_depth': 85, 'learning_rate': 0.005973742797332162, 'min_child_weight': 88, 'subsample': 0.6282274607925741, 'colsample_bytree': 0.7768911695509253, 'reg_alpha': 8.57414329359343, 'reg_lambda': 6.078523312156452}. Best is trial 99 with value: 0.7384573817368731.\n",
      "[I 2025-02-12 05:00:17,888] Trial 102 finished with value: 0.7383690955673516 and parameters: {'n_estimators': 2894, 'max_depth': 96, 'learning_rate': 0.00859028026122841, 'min_child_weight': 91, 'subsample': 0.628836701209935, 'colsample_bytree': 0.7764134096348304, 'reg_alpha': 7.770996931931897, 'reg_lambda': 9.89604637710254}. Best is trial 99 with value: 0.7384573817368731.\n",
      "[I 2025-02-12 05:02:24,185] Trial 103 finished with value: 0.7382920345251843 and parameters: {'n_estimators': 3047, 'max_depth': 99, 'learning_rate': 0.011069755203806986, 'min_child_weight': 88, 'subsample': 0.6336740794758734, 'colsample_bytree': 0.7767497046124058, 'reg_alpha': 8.068059342488375, 'reg_lambda': 6.6733795746040006}. Best is trial 99 with value: 0.7384573817368731.\n",
      "[I 2025-02-12 05:04:33,367] Trial 104 finished with value: 0.7382734470840189 and parameters: {'n_estimators': 2899, 'max_depth': 112, 'learning_rate': 0.010832541523870507, 'min_child_weight': 87, 'subsample': 0.6303137822994509, 'colsample_bytree': 0.7188646603519445, 'reg_alpha': 5.121638321688117, 'reg_lambda': 6.752778011935555}. Best is trial 99 with value: 0.7384573817368731.\n",
      "[I 2025-02-12 05:06:24,237] Trial 105 finished with value: 0.7381435312685485 and parameters: {'n_estimators': 3023, 'max_depth': 145, 'learning_rate': 0.010625768041242432, 'min_child_weight': 90, 'subsample': 0.6356424841054256, 'colsample_bytree': 0.6966924396832173, 'reg_alpha': 4.24673533313626, 'reg_lambda': 6.678727859643883}. Best is trial 99 with value: 0.7384573817368731.\n",
      "[I 2025-02-12 05:08:57,038] Trial 106 finished with value: 0.7383463258475237 and parameters: {'n_estimators': 3271, 'max_depth': 121, 'learning_rate': 0.008768276466172242, 'min_child_weight': 98, 'subsample': 0.6260745496050193, 'colsample_bytree': 0.7398260211139636, 'reg_alpha': 5.3728030693913995, 'reg_lambda': 9.67894060211405}. Best is trial 99 with value: 0.7384573817368731.\n",
      "[I 2025-02-12 05:10:44,232] Trial 107 finished with value: 0.7381832629158434 and parameters: {'n_estimators': 3361, 'max_depth': 120, 'learning_rate': 0.011906340141831447, 'min_child_weight': 92, 'subsample': 0.6233140743121828, 'colsample_bytree': 0.756033388286507, 'reg_alpha': 5.013522278656584, 'reg_lambda': 8.262838396262598}. Best is trial 99 with value: 0.7384573817368731.\n",
      "[I 2025-02-12 05:12:12,004] Trial 108 finished with value: 0.7383131829073282 and parameters: {'n_estimators': 2863, 'max_depth': 112, 'learning_rate': 0.015174158559298753, 'min_child_weight': 98, 'subsample': 0.6497728579172504, 'colsample_bytree': 0.7299196037754452, 'reg_alpha': 3.5006136358979334, 'reg_lambda': 9.613279269877946}. Best is trial 99 with value: 0.7384573817368731.\n",
      "[I 2025-02-12 05:14:42,833] Trial 109 finished with value: 0.7384112597431747 and parameters: {'n_estimators': 3335, 'max_depth': 132, 'learning_rate': 0.00861676949935729, 'min_child_weight': 98, 'subsample': 0.6585797810602676, 'colsample_bytree': 0.7767889136178662, 'reg_alpha': 6.640239591814748, 'reg_lambda': 9.709675882564424}. Best is trial 99 with value: 0.7384573817368731.\n",
      "[I 2025-02-12 05:15:58,850] Trial 110 finished with value: 0.7380554037875835 and parameters: {'n_estimators': 3359, 'max_depth': 128, 'learning_rate': 0.01747359823586627, 'min_child_weight': 98, 'subsample': 0.6645310919542005, 'colsample_bytree': 0.7757737006979327, 'reg_alpha': 2.3727211778851505, 'reg_lambda': 9.929809861382116}. Best is trial 99 with value: 0.7384573817368731.\n",
      "[I 2025-02-12 05:18:38,865] Trial 111 finished with value: 0.7384859957891907 and parameters: {'n_estimators': 3173, 'max_depth': 124, 'learning_rate': 0.008429422070130825, 'min_child_weight': 100, 'subsample': 0.6190221438226792, 'colsample_bytree': 0.7330907982322608, 'reg_alpha': 7.1420142992302065, 'reg_lambda': 5.037066532623355}. Best is trial 111 with value: 0.7384859957891907.\n",
      "[I 2025-02-12 05:21:22,890] Trial 112 finished with value: 0.7383723486827567 and parameters: {'n_estimators': 3548, 'max_depth': 136, 'learning_rate': 0.00850369551750195, 'min_child_weight': 96, 'subsample': 0.6599356583896443, 'colsample_bytree': 0.7345375641388675, 'reg_alpha': 6.694035142881523, 'reg_lambda': 5.017718336338618}. Best is trial 111 with value: 0.7384859957891907.\n",
      "[I 2025-02-12 05:23:43,177] Trial 113 finished with value: 0.7383481789540204 and parameters: {'n_estimators': 3229, 'max_depth': 124, 'learning_rate': 0.008786174100263822, 'min_child_weight': 100, 'subsample': 0.6555716706110044, 'colsample_bytree': 0.736382829010505, 'reg_alpha': 6.778547939970537, 'reg_lambda': 4.964224734766142}. Best is trial 111 with value: 0.7384859957891907.\n",
      "[I 2025-02-12 05:26:16,296] Trial 114 finished with value: 0.7381523698035355 and parameters: {'n_estimators': 3486, 'max_depth': 150, 'learning_rate': 0.008431409160098125, 'min_child_weight': 100, 'subsample': 0.6503373566686222, 'colsample_bytree': 0.7356792427740645, 'reg_alpha': 3.31458304996932, 'reg_lambda': 5.444225674031401}. Best is trial 111 with value: 0.7384859957891907.\n",
      "[I 2025-02-12 05:27:50,385] Trial 115 finished with value: 0.7382177620167932 and parameters: {'n_estimators': 3193, 'max_depth': 139, 'learning_rate': 0.014551401894115495, 'min_child_weight': 96, 'subsample': 0.6639091002164359, 'colsample_bytree': 0.7293543740701764, 'reg_alpha': 6.731634075374554, 'reg_lambda': 4.836759220045911}. Best is trial 111 with value: 0.7384859957891907.\n",
      "[I 2025-02-12 05:30:04,324] Trial 116 finished with value: 0.7381668428262762 and parameters: {'n_estimators': 3721, 'max_depth': 125, 'learning_rate': 0.009242053234004689, 'min_child_weight': 94, 'subsample': 0.6818796415221552, 'colsample_bytree': 0.7067497646949367, 'reg_alpha': 3.976244192062316, 'reg_lambda': 7.722263021038123}. Best is trial 111 with value: 0.7384859957891907.\n",
      "[I 2025-02-12 05:32:14,089] Trial 117 finished with value: 0.7380854314208569 and parameters: {'n_estimators': 2792, 'max_depth': 131, 'learning_rate': 0.007900911171433107, 'min_child_weight': 98, 'subsample': 0.6550272785276268, 'colsample_bytree': 0.7525468100603825, 'reg_alpha': 2.66604706212446, 'reg_lambda': 4.270895987806624}. Best is trial 111 with value: 0.7384859957891907.\n",
      "[I 2025-02-12 05:33:16,469] Trial 118 finished with value: 0.738040929720839 and parameters: {'n_estimators': 3225, 'max_depth': 158, 'learning_rate': 0.02240815045289011, 'min_child_weight': 96, 'subsample': 0.6024038914567177, 'colsample_bytree': 0.7343266138490738, 'reg_alpha': 1.7871100806349243, 'reg_lambda': 5.4927461489620475}. Best is trial 111 with value: 0.7384859957891907.\n",
      "[I 2025-02-12 05:35:04,720] Trial 119 finished with value: 0.7382642003436009 and parameters: {'n_estimators': 3580, 'max_depth': 136, 'learning_rate': 0.012547315975817024, 'min_child_weight': 94, 'subsample': 0.6214762234206858, 'colsample_bytree': 0.7422773431970178, 'reg_alpha': 6.145485713496541, 'reg_lambda': 7.831079857783398}. Best is trial 111 with value: 0.7384859957891907.\n",
      "[I 2025-02-12 05:37:11,237] Trial 120 finished with value: 0.7383775822731051 and parameters: {'n_estimators': 2712, 'max_depth': 113, 'learning_rate': 0.010070264438194402, 'min_child_weight': 99, 'subsample': 0.6801664460865261, 'colsample_bytree': 0.7671150514177427, 'reg_alpha': 6.964254510823393, 'reg_lambda': 3.7796181527973998}. Best is trial 111 with value: 0.7384859957891907.\n",
      "[I 2025-02-12 05:39:32,394] Trial 121 finished with value: 0.7384513212956259 and parameters: {'n_estimators': 2905, 'max_depth': 122, 'learning_rate': 0.010031775554419023, 'min_child_weight': 99, 'subsample': 0.6442188824728843, 'colsample_bytree': 0.7619102298684151, 'reg_alpha': 7.333634188481732, 'reg_lambda': 3.7743277711407712}. Best is trial 111 with value: 0.7384859957891907.\n",
      "[I 2025-02-12 05:42:09,817] Trial 122 finished with value: 0.7384178526262886 and parameters: {'n_estimators': 2879, 'max_depth': 123, 'learning_rate': 0.00878802049309234, 'min_child_weight': 100, 'subsample': 0.6428063398155647, 'colsample_bytree': 0.7643056140972242, 'reg_alpha': 6.995240699818349, 'reg_lambda': 3.7473375051061417}. Best is trial 111 with value: 0.7384859957891907.\n",
      "[I 2025-02-12 05:44:14,972] Trial 123 finished with value: 0.7384369171771267 and parameters: {'n_estimators': 2622, 'max_depth': 122, 'learning_rate': 0.009744220978927642, 'min_child_weight': 100, 'subsample': 0.677886579719205, 'colsample_bytree': 0.7587412600817208, 'reg_alpha': 7.006843707934824, 'reg_lambda': 3.7658970279113575}. Best is trial 111 with value: 0.7384859957891907.\n",
      "[I 2025-02-12 05:46:29,489] Trial 124 finished with value: 0.73830919585735 and parameters: {'n_estimators': 2620, 'max_depth': 121, 'learning_rate': 0.009974655339465142, 'min_child_weight': 100, 'subsample': 0.6858313809629311, 'colsample_bytree': 0.7663271554670016, 'reg_alpha': 5.452717991259726, 'reg_lambda': 3.5135971121563028}. Best is trial 111 with value: 0.7384859957891907.\n",
      "[I 2025-02-12 05:48:59,039] Trial 125 finished with value: 0.7383554379114695 and parameters: {'n_estimators': 3118, 'max_depth': 146, 'learning_rate': 0.00929266679817243, 'min_child_weight': 100, 'subsample': 0.6727229286075241, 'colsample_bytree': 0.7589314320646865, 'reg_alpha': 7.201301678538681, 'reg_lambda': 3.990004015468561}. Best is trial 111 with value: 0.7384859957891907.\n",
      "[I 2025-02-12 05:51:23,948] Trial 126 finished with value: 0.7384816235018621 and parameters: {'n_estimators': 3277, 'max_depth': 133, 'learning_rate': 0.009004340564766997, 'min_child_weight': 100, 'subsample': 0.6705743069127154, 'colsample_bytree': 0.7747112004826456, 'reg_alpha': 6.9707253494206265, 'reg_lambda': 4.017593438438375}. Best is trial 111 with value: 0.7384859957891907.\n",
      "[I 2025-02-12 05:53:43,471] Trial 127 finished with value: 0.7383109466514881 and parameters: {'n_estimators': 2960, 'max_depth': 146, 'learning_rate': 0.009797779381213666, 'min_child_weight': 100, 'subsample': 0.7048943395923029, 'colsample_bytree': 0.7578403690499833, 'reg_alpha': 7.71856762623121, 'reg_lambda': 4.22469456759783}. Best is trial 111 with value: 0.7384859957891907.\n",
      "[I 2025-02-12 05:56:12,220] Trial 128 finished with value: 0.7381727101268463 and parameters: {'n_estimators': 3128, 'max_depth': 161, 'learning_rate': 0.008248869173371042, 'min_child_weight': 94, 'subsample': 0.6688923874621227, 'colsample_bytree': 0.7773535014617672, 'reg_alpha': 4.115887203586368, 'reg_lambda': 3.4920468688224076}. Best is trial 111 with value: 0.7384859957891907.\n",
      "[I 2025-02-12 05:58:58,481] Trial 129 finished with value: 0.7383533947963066 and parameters: {'n_estimators': 2676, 'max_depth': 137, 'learning_rate': 0.00753953626377019, 'min_child_weight': 97, 'subsample': 0.6756478863253865, 'colsample_bytree': 0.7676335080119242, 'reg_alpha': 6.6887884804336455, 'reg_lambda': 6.128893903444154}. Best is trial 111 with value: 0.7384859957891907.\n",
      "[I 2025-02-12 06:01:31,476] Trial 130 finished with value: 0.7383018137074691 and parameters: {'n_estimators': 2637, 'max_depth': 133, 'learning_rate': 0.007640240800979573, 'min_child_weight': 91, 'subsample': 0.6395285727285616, 'colsample_bytree': 0.7646528258047735, 'reg_alpha': 7.1173473313099125, 'reg_lambda': 2.999908378156606}. Best is trial 111 with value: 0.7384859957891907.\n",
      "[I 2025-02-12 06:03:45,533] Trial 131 finished with value: 0.7383496186350678 and parameters: {'n_estimators': 2730, 'max_depth': 141, 'learning_rate': 0.009298976999851584, 'min_child_weight': 97, 'subsample': 0.6890780339307678, 'colsample_bytree': 0.7517559731438344, 'reg_alpha': 6.670127095829519, 'reg_lambda': 4.745306462681235}. Best is trial 111 with value: 0.7384859957891907.\n",
      "[I 2025-02-12 06:05:32,879] Trial 132 finished with value: 0.7380825416187256 and parameters: {'n_estimators': 2701, 'max_depth': 144, 'learning_rate': 0.011977231924723287, 'min_child_weight': 96, 'subsample': 0.6968966671950825, 'colsample_bytree': 0.7541291197077593, 'reg_alpha': 4.6896419682786075, 'reg_lambda': 6.29066982468642}. Best is trial 111 with value: 0.7384859957891907.\n",
      "[I 2025-02-12 06:07:28,286] Trial 133 finished with value: 0.738321225911526 and parameters: {'n_estimators': 2452, 'max_depth': 151, 'learning_rate': 0.010432117317712451, 'min_child_weight': 98, 'subsample': 0.6745713462281682, 'colsample_bytree': 0.7713425408299928, 'reg_alpha': 5.962373368560036, 'reg_lambda': 3.853425328413937}. Best is trial 111 with value: 0.7384859957891907.\n",
      "[I 2025-02-12 06:09:30,831] Trial 134 finished with value: 0.7377977280242011 and parameters: {'n_estimators': 3112, 'max_depth': 136, 'learning_rate': 0.009271987266274182, 'min_child_weight': 93, 'subsample': 0.6915816273079032, 'colsample_bytree': 0.7851430344413749, 'reg_alpha': 0.022098562017160997, 'reg_lambda': 4.674312162472143}. Best is trial 111 with value: 0.7384859957891907.\n",
      "[I 2025-02-12 06:12:11,402] Trial 135 finished with value: 0.7385122201171304 and parameters: {'n_estimators': 2361, 'max_depth': 106, 'learning_rate': 0.007305909260314071, 'min_child_weight': 96, 'subsample': 0.6619458750494511, 'colsample_bytree': 0.7499443363318146, 'reg_alpha': 7.641367215332167, 'reg_lambda': 5.6077868135740605}. Best is trial 135 with value: 0.7385122201171304.\n",
      "[I 2025-02-12 06:15:04,399] Trial 136 finished with value: 0.7383424045697761 and parameters: {'n_estimators': 2339, 'max_depth': 107, 'learning_rate': 0.007342313703056976, 'min_child_weight': 95, 'subsample': 0.7218107678638382, 'colsample_bytree': 0.759896171947523, 'reg_alpha': 7.252670975671471, 'reg_lambda': 6.10105835271034}. Best is trial 135 with value: 0.7385122201171304.\n",
      "[I 2025-02-12 06:16:54,791] Trial 137 finished with value: 0.7383898472281047 and parameters: {'n_estimators': 2843, 'max_depth': 114, 'learning_rate': 0.013287939800224642, 'min_child_weight': 100, 'subsample': 0.6632778982116752, 'colsample_bytree': 0.7806058506011722, 'reg_alpha': 8.391726785545664, 'reg_lambda': 2.919784917189132}. Best is trial 135 with value: 0.7385122201171304.\n",
      "[I 2025-02-12 06:18:26,232] Trial 138 finished with value: 0.7383472748468507 and parameters: {'n_estimators': 2873, 'max_depth': 115, 'learning_rate': 0.013215532849796796, 'min_child_weight': 100, 'subsample': 0.6626898462467586, 'colsample_bytree': 0.7227009078619366, 'reg_alpha': 8.18503893347348, 'reg_lambda': 2.8817561113794667}. Best is trial 135 with value: 0.7385122201171304.\n",
      "[I 2025-02-12 06:20:17,715] Trial 139 finished with value: 0.7381844718720818 and parameters: {'n_estimators': 2955, 'max_depth': 102, 'learning_rate': 0.01111537919260909, 'min_child_weight': 93, 'subsample': 0.6170551097642165, 'colsample_bytree': 0.779904964955566, 'reg_alpha': 4.506676505953468, 'reg_lambda': 3.7541518449500635}. Best is trial 135 with value: 0.7385122201171304.\n",
      "[I 2025-02-12 06:21:52,310] Trial 140 finished with value: 0.7382914676311969 and parameters: {'n_estimators': 3464, 'max_depth': 130, 'learning_rate': 0.014754848670563184, 'min_child_weight': 98, 'subsample': 0.6431096678358177, 'colsample_bytree': 0.788680002179509, 'reg_alpha': 8.188812502582676, 'reg_lambda': 2.146285381379152}. Best is trial 135 with value: 0.7385122201171304.\n",
      "[I 2025-02-12 06:24:20,919] Trial 141 finished with value: 0.7383414232063354 and parameters: {'n_estimators': 2519, 'max_depth': 116, 'learning_rate': 0.008281886403476905, 'min_child_weight': 96, 'subsample': 0.6769793401805625, 'colsample_bytree': 0.7684439743541702, 'reg_alpha': 5.695300775092499, 'reg_lambda': 5.784213393162724}. Best is trial 135 with value: 0.7385122201171304.\n",
      "[I 2025-02-12 06:26:51,155] Trial 142 finished with value: 0.7383917076426272 and parameters: {'n_estimators': 3062, 'max_depth': 128, 'learning_rate': 0.010004778791509081, 'min_child_weight': 91, 'subsample': 0.6598425540684477, 'colsample_bytree': 0.7468935763799912, 'reg_alpha': 7.996405705170672, 'reg_lambda': 7.868460810793367}. Best is trial 135 with value: 0.7385122201171304.\n",
      "[I 2025-02-12 06:29:14,025] Trial 143 finished with value: 0.738402837765648 and parameters: {'n_estimators': 2812, 'max_depth': 125, 'learning_rate': 0.010106186440962126, 'min_child_weight': 91, 'subsample': 0.6488599569449294, 'colsample_bytree': 0.7469115097192098, 'reg_alpha': 7.893234139729079, 'reg_lambda': 7.180798665147422}. Best is trial 135 with value: 0.7385122201171304.\n",
      "[I 2025-02-12 06:31:22,794] Trial 144 finished with value: 0.7383855981332079 and parameters: {'n_estimators': 2804, 'max_depth': 125, 'learning_rate': 0.00997735321255103, 'min_child_weight': 91, 'subsample': 0.6497029542348786, 'colsample_bytree': 0.7449710761369276, 'reg_alpha': 8.225888648082405, 'reg_lambda': 7.965062541991112}. Best is trial 135 with value: 0.7385122201171304.\n",
      "[I 2025-02-12 06:33:16,037] Trial 145 finished with value: 0.7381228558200628 and parameters: {'n_estimators': 2786, 'max_depth': 126, 'learning_rate': 0.011490714601574517, 'min_child_weight': 90, 'subsample': 0.6473853335091503, 'colsample_bytree': 0.7142442397859219, 'reg_alpha': 5.287731144698052, 'reg_lambda': 7.855387121896722}. Best is trial 135 with value: 0.7385122201171304.\n",
      "[I 2025-02-12 06:34:55,447] Trial 146 finished with value: 0.7384341954595847 and parameters: {'n_estimators': 3326, 'max_depth': 105, 'learning_rate': 0.013019120651785463, 'min_child_weight': 94, 'subsample': 0.6594121975252775, 'colsample_bytree': 0.7498912087472903, 'reg_alpha': 8.664744757660225, 'reg_lambda': 7.72840713440472}. Best is trial 135 with value: 0.7385122201171304.\n",
      "[I 2025-02-12 06:36:44,307] Trial 147 finished with value: 0.7383366093054585 and parameters: {'n_estimators': 3368, 'max_depth': 107, 'learning_rate': 0.012684260036568215, 'min_child_weight': 94, 'subsample': 0.6541228197151493, 'colsample_bytree': 0.7459195116228368, 'reg_alpha': 8.41202164435659, 'reg_lambda': 7.335993379673478}. Best is trial 135 with value: 0.7385122201171304.\n",
      "[I 2025-02-12 06:38:50,532] Trial 148 finished with value: 0.7379672021823585 and parameters: {'n_estimators': 3029, 'max_depth': 116, 'learning_rate': 0.010100860851865527, 'min_child_weight': 92, 'subsample': 0.6407168282895789, 'colsample_bytree': 0.7423420342988449, 'reg_alpha': 0.5703023444192747, 'reg_lambda': 8.160995479813513}. Best is trial 135 with value: 0.7385122201171304.\n",
      "[I 2025-02-12 06:40:18,585] Trial 149 finished with value: 0.7380977537960578 and parameters: {'n_estimators': 3301, 'max_depth': 110, 'learning_rate': 0.016010234273710424, 'min_child_weight': 88, 'subsample': 0.6690081550037101, 'colsample_bytree': 0.7513119314706085, 'reg_alpha': 5.509847678321166, 'reg_lambda': 3.29303258028997}. Best is trial 135 with value: 0.7385122201171304.\n",
      "[I 2025-02-12 06:41:53,882] Trial 150 finished with value: 0.7382700676441709 and parameters: {'n_estimators': 2562, 'max_depth': 123, 'learning_rate': 0.014266580709588927, 'min_child_weight': 94, 'subsample': 0.6598792494589343, 'colsample_bytree': 0.7616096714912306, 'reg_alpha': 8.496177844394786, 'reg_lambda': 6.1002765968162835}. Best is trial 135 with value: 0.7385122201171304.\n",
      "[I 2025-02-12 06:43:47,804] Trial 151 finished with value: 0.7382617072628603 and parameters: {'n_estimators': 3035, 'max_depth': 129, 'learning_rate': 0.010494829120963653, 'min_child_weight': 96, 'subsample': 0.6574869039402567, 'colsample_bytree': 0.7487249872741178, 'reg_alpha': 6.427757724407918, 'reg_lambda': 5.512383829685238}. Best is trial 135 with value: 0.7385122201171304.\n",
      "[I 2025-02-12 06:47:09,889] Trial 152 finished with value: 0.7385503721868871 and parameters: {'n_estimators': 3638, 'max_depth': 117, 'learning_rate': 0.006145880539536554, 'min_child_weight': 98, 'subsample': 0.6107956724366175, 'colsample_bytree': 0.7252144815690392, 'reg_alpha': 8.375187854264365, 'reg_lambda': 7.7199543492880345}. Best is trial 152 with value: 0.7385503721868871.\n",
      "[I 2025-02-12 06:50:32,306] Trial 153 finished with value: 0.7384472350653 and parameters: {'n_estimators': 3926, 'max_depth': 104, 'learning_rate': 0.006378123539683284, 'min_child_weight': 91, 'subsample': 0.6095229857763529, 'colsample_bytree': 0.727138946627545, 'reg_alpha': 8.501936647266467, 'reg_lambda': 7.32195154918823}. Best is trial 152 with value: 0.7385503721868871.\n",
      "[I 2025-02-12 06:53:21,334] Trial 154 finished with value: 0.7383821320410562 and parameters: {'n_estimators': 3737, 'max_depth': 104, 'learning_rate': 0.0068134533223394985, 'min_child_weight': 90, 'subsample': 0.6093931406359632, 'colsample_bytree': 0.7017937837636887, 'reg_alpha': 8.441341296887536, 'reg_lambda': 8.215327604155085}. Best is trial 152 with value: 0.7385503721868871.\n",
      "[I 2025-02-12 06:56:40,973] Trial 155 finished with value: 0.7385313159880784 and parameters: {'n_estimators': 4067, 'max_depth': 120, 'learning_rate': 0.006256920521085858, 'min_child_weight': 92, 'subsample': 0.6009977887641724, 'colsample_bytree': 0.7217951615208189, 'reg_alpha': 8.594554975425176, 'reg_lambda': 7.382034769602367}. Best is trial 152 with value: 0.7385503721868871.\n",
      "[I 2025-02-12 06:59:43,350] Trial 156 finished with value: 0.7383126201893553 and parameters: {'n_estimators': 3978, 'max_depth': 118, 'learning_rate': 0.006054028660303291, 'min_child_weight': 98, 'subsample': 0.6014809159462665, 'colsample_bytree': 0.6930996386860123, 'reg_alpha': 4.750908836152955, 'reg_lambda': 6.644582947871557}. Best is trial 152 with value: 0.7385503721868871.\n",
      "[I 2025-02-12 07:02:59,439] Trial 157 finished with value: 0.7382466297620003 and parameters: {'n_estimators': 4085, 'max_depth': 110, 'learning_rate': 0.006259146266846752, 'min_child_weight': 93, 'subsample': 0.6145999649601319, 'colsample_bytree': 0.723660351175857, 'reg_alpha': 4.0229645465839035, 'reg_lambda': 7.196391720311923}. Best is trial 152 with value: 0.7385503721868871.\n",
      "[I 2025-02-12 07:05:32,151] Trial 158 finished with value: 0.7384797829234091 and parameters: {'n_estimators': 4341, 'max_depth': 121, 'learning_rate': 0.007352656770488466, 'min_child_weight': 95, 'subsample': 0.6338575177762407, 'colsample_bytree': 0.6743525686229835, 'reg_alpha': 8.817493832562556, 'reg_lambda': 4.865661490954407}. Best is trial 152 with value: 0.7385503721868871.\n",
      "[I 2025-02-12 07:08:02,660] Trial 159 finished with value: 0.7383186482664892 and parameters: {'n_estimators': 4356, 'max_depth': 122, 'learning_rate': 0.006951594307214569, 'min_child_weight': 94, 'subsample': 0.6339508948191466, 'colsample_bytree': 0.6610254806123608, 'reg_alpha': 5.810919909199696, 'reg_lambda': 4.565551213641528}. Best is trial 152 with value: 0.7385503721868871.\n",
      "[I 2025-02-12 07:11:01,737] Trial 160 finished with value: 0.7385072005475324 and parameters: {'n_estimators': 4418, 'max_depth': 131, 'learning_rate': 0.007464504298288501, 'min_child_weight': 92, 'subsample': 0.6232319215631813, 'colsample_bytree': 0.671816912201626, 'reg_alpha': 9.74325822244991, 'reg_lambda': 8.905228334271527}. Best is trial 152 with value: 0.7385503721868871.\n",
      "[I 2025-02-12 07:14:30,316] Trial 161 finished with value: 0.7385018949209314 and parameters: {'n_estimators': 4346, 'max_depth': 132, 'learning_rate': 0.005694531310552697, 'min_child_weight': 89, 'subsample': 0.6213063116270056, 'colsample_bytree': 0.678046909657393, 'reg_alpha': 9.931577285532136, 'reg_lambda': 6.8649331696225975}. Best is trial 152 with value: 0.7385503721868871.\n",
      "[I 2025-02-12 07:18:21,584] Trial 162 finished with value: 0.738488173580826 and parameters: {'n_estimators': 4441, 'max_depth': 133, 'learning_rate': 0.0056719109600273055, 'min_child_weight': 89, 'subsample': 0.6183038296349718, 'colsample_bytree': 0.6701079939168597, 'reg_alpha': 9.852311549597937, 'reg_lambda': 5.691195693426145}. Best is trial 152 with value: 0.7385503721868871.\n",
      "[I 2025-02-12 07:21:45,813] Trial 163 finished with value: 0.7384893105008119 and parameters: {'n_estimators': 4374, 'max_depth': 102, 'learning_rate': 0.005844402484656272, 'min_child_weight': 95, 'subsample': 0.6190226040553101, 'colsample_bytree': 0.6771815600801331, 'reg_alpha': 9.981627861842084, 'reg_lambda': 5.674954976806337}. Best is trial 152 with value: 0.7385503721868871.\n",
      "[I 2025-02-12 07:25:25,718] Trial 164 finished with value: 0.7384287823006067 and parameters: {'n_estimators': 4498, 'max_depth': 101, 'learning_rate': 0.005850245209307578, 'min_child_weight': 88, 'subsample': 0.6177471926901488, 'colsample_bytree': 0.6707289358342947, 'reg_alpha': 9.320058445450924, 'reg_lambda': 5.415364152168813}. Best is trial 152 with value: 0.7385503721868871.\n",
      "[I 2025-02-12 07:29:03,454] Trial 165 finished with value: 0.7384939479650703 and parameters: {'n_estimators': 4539, 'max_depth': 101, 'learning_rate': 0.005820431137027829, 'min_child_weight': 89, 'subsample': 0.6176998422730241, 'colsample_bytree': 0.6727504078370626, 'reg_alpha': 9.845572862235045, 'reg_lambda': 5.124470678074574}. Best is trial 152 with value: 0.7385503721868871.\n",
      "[I 2025-02-12 07:33:05,913] Trial 166 finished with value: 0.7385398486299928 and parameters: {'n_estimators': 4793, 'max_depth': 87, 'learning_rate': 0.005612242702834739, 'min_child_weight': 89, 'subsample': 0.6081751903147101, 'colsample_bytree': 0.6359853557805524, 'reg_alpha': 9.630715376486032, 'reg_lambda': 5.8970020661009075}. Best is trial 152 with value: 0.7385503721868871.\n",
      "[I 2025-02-12 07:36:16,856] Trial 167 finished with value: 0.7384550285526232 and parameters: {'n_estimators': 4796, 'max_depth': 99, 'learning_rate': 0.006510432809786096, 'min_child_weight': 89, 'subsample': 0.6081581844744082, 'colsample_bytree': 0.6435397932438229, 'reg_alpha': 9.80408505778376, 'reg_lambda': 4.996834045034665}. Best is trial 152 with value: 0.7385503721868871.\n",
      "[I 2025-02-12 07:40:05,549] Trial 168 finished with value: 0.7384793987300622 and parameters: {'n_estimators': 5000, 'max_depth': 92, 'learning_rate': 0.005596701325392544, 'min_child_weight': 86, 'subsample': 0.6070424005643285, 'colsample_bytree': 0.6458236372879694, 'reg_alpha': 9.334962999541714, 'reg_lambda': 4.48585470901119}. Best is trial 152 with value: 0.7385503721868871.\n",
      "[I 2025-02-12 07:43:45,660] Trial 169 finished with value: 0.7385357759717146 and parameters: {'n_estimators': 4856, 'max_depth': 96, 'learning_rate': 0.00638107024435077, 'min_child_weight': 85, 'subsample': 0.6083080167232798, 'colsample_bytree': 0.6396818341555065, 'reg_alpha': 9.90211254363157, 'reg_lambda': 4.736945963351504}. Best is trial 152 with value: 0.7385503721868871.\n",
      "[I 2025-02-12 07:48:15,266] Trial 170 finished with value: 0.7385480482347397 and parameters: {'n_estimators': 4957, 'max_depth': 93, 'learning_rate': 0.00536003349325625, 'min_child_weight': 86, 'subsample': 0.6061165504694169, 'colsample_bytree': 0.6339330142568816, 'reg_alpha': 9.984333681726206, 'reg_lambda': 5.58853722929391}. Best is trial 152 with value: 0.7385503721868871.\n",
      "[I 2025-02-12 07:51:56,503] Trial 171 finished with value: 0.7385272443738038 and parameters: {'n_estimators': 4911, 'max_depth': 88, 'learning_rate': 0.005561883589263057, 'min_child_weight': 86, 'subsample': 0.6005363109918433, 'colsample_bytree': 0.6364827712993728, 'reg_alpha': 9.825471634465563, 'reg_lambda': 4.683098192607218}. Best is trial 152 with value: 0.7385503721868871.\n",
      "[I 2025-02-12 07:55:30,846] Trial 172 finished with value: 0.7384691852422548 and parameters: {'n_estimators': 4966, 'max_depth': 92, 'learning_rate': 0.005299021939930656, 'min_child_weight': 85, 'subsample': 0.6017551216987425, 'colsample_bytree': 0.6359370192382693, 'reg_alpha': 9.964521272498644, 'reg_lambda': 5.355464012485354}. Best is trial 152 with value: 0.7385503721868871.\n",
      "[I 2025-02-12 07:59:21,031] Trial 173 finished with value: 0.7384790437688178 and parameters: {'n_estimators': 4958, 'max_depth': 86, 'learning_rate': 0.005584585690528766, 'min_child_weight': 85, 'subsample': 0.6052782683454954, 'colsample_bytree': 0.6311812460150895, 'reg_alpha': 9.640520789376591, 'reg_lambda': 4.892039753960716}. Best is trial 152 with value: 0.7385503721868871.\n",
      "[I 2025-02-12 08:03:16,421] Trial 174 finished with value: 0.7384974244972586 and parameters: {'n_estimators': 4989, 'max_depth': 88, 'learning_rate': 0.005282267770828275, 'min_child_weight': 85, 'subsample': 0.6002984863854905, 'colsample_bytree': 0.6267368464062077, 'reg_alpha': 9.907924954639538, 'reg_lambda': 4.694334749319934}. Best is trial 152 with value: 0.7385503721868871.\n",
      "[I 2025-02-12 08:06:45,441] Trial 175 finished with value: 0.7384969045834359 and parameters: {'n_estimators': 4649, 'max_depth': 86, 'learning_rate': 0.005596276283399186, 'min_child_weight': 83, 'subsample': 0.6191124197454222, 'colsample_bytree': 0.614798497432213, 'reg_alpha': 9.846104750062768, 'reg_lambda': 4.576808471101522}. Best is trial 152 with value: 0.7385503721868871.\n",
      "[I 2025-02-12 08:09:53,823] Trial 176 finished with value: 0.7383712723149831 and parameters: {'n_estimators': 4758, 'max_depth': 81, 'learning_rate': 0.005634143039692658, 'min_child_weight': 83, 'subsample': 0.6192684859050859, 'colsample_bytree': 0.6129381571044098, 'reg_alpha': 5.984926661756975, 'reg_lambda': 4.505228579356589}. Best is trial 152 with value: 0.7385503721868871.\n",
      "[I 2025-02-12 08:14:19,520] Trial 177 finished with value: 0.7385112387536897 and parameters: {'n_estimators': 4574, 'max_depth': 89, 'learning_rate': 0.004882608874600142, 'min_child_weight': 81, 'subsample': 0.6237204625302184, 'colsample_bytree': 0.6790006781246213, 'reg_alpha': 9.448691838001016, 'reg_lambda': 5.964589087143015}. Best is trial 152 with value: 0.7385503721868871.\n",
      "[I 2025-02-12 08:18:33,558] Trial 178 finished with value: 0.7385021099856853 and parameters: {'n_estimators': 4639, 'max_depth': 95, 'learning_rate': 0.005129807594378802, 'min_child_weight': 87, 'subsample': 0.6226702948497896, 'colsample_bytree': 0.679199578758428, 'reg_alpha': 9.861064318071259, 'reg_lambda': 5.960594386150173}. Best is trial 152 with value: 0.7385503721868871.\n",
      "[I 2025-02-12 08:22:54,762] Trial 179 finished with value: 0.7385024952230359 and parameters: {'n_estimators': 4570, 'max_depth': 96, 'learning_rate': 0.0049902741118584585, 'min_child_weight': 81, 'subsample': 0.6232631985023219, 'colsample_bytree': 0.6826913571827937, 'reg_alpha': 9.75225506267723, 'reg_lambda': 5.786475316278204}. Best is trial 152 with value: 0.7385503721868871.\n",
      "[I 2025-02-12 08:26:35,573] Trial 180 finished with value: 0.7378257313343776 and parameters: {'n_estimators': 4602, 'max_depth': 85, 'learning_rate': 0.004282824107386754, 'min_child_weight': 81, 'subsample': 0.6203317176432206, 'colsample_bytree': 0.6849495042373543, 'reg_alpha': 0.18955213135956694, 'reg_lambda': 6.021365919352042}. Best is trial 152 with value: 0.7385503721868871.\n",
      "[I 2025-02-12 08:30:51,276] Trial 181 finished with value: 0.7385272245377341 and parameters: {'n_estimators': 4620, 'max_depth': 96, 'learning_rate': 0.0048564768880019, 'min_child_weight': 82, 'subsample': 0.6138185690655872, 'colsample_bytree': 0.6206934228473531, 'reg_alpha': 9.753019084025647, 'reg_lambda': 6.484450809389828}. Best is trial 152 with value: 0.7385503721868871.\n",
      "[I 2025-02-12 08:35:01,276] Trial 182 finished with value: 0.7385240726906842 and parameters: {'n_estimators': 4632, 'max_depth': 96, 'learning_rate': 0.004944787766520278, 'min_child_weight': 82, 'subsample': 0.6245867484484692, 'colsample_bytree': 0.6177663897770874, 'reg_alpha': 9.70919977982281, 'reg_lambda': 6.020526925387872}. Best is trial 152 with value: 0.7385503721868871.\n",
      "[I 2025-02-12 08:39:05,395] Trial 183 finished with value: 0.7385207297909644 and parameters: {'n_estimators': 4649, 'max_depth': 98, 'learning_rate': 0.0048308693561062025, 'min_child_weight': 81, 'subsample': 0.6002665613992066, 'colsample_bytree': 0.6122095818696349, 'reg_alpha': 9.918283176970329, 'reg_lambda': 6.070084066191128}. Best is trial 152 with value: 0.7385503721868871.\n",
      "[I 2025-02-12 08:43:20,023] Trial 184 finished with value: 0.738522853294409 and parameters: {'n_estimators': 4673, 'max_depth': 97, 'learning_rate': 0.004869796725799363, 'min_child_weight': 82, 'subsample': 0.6126780589994659, 'colsample_bytree': 0.6146777035098725, 'reg_alpha': 9.58887882024321, 'reg_lambda': 8.980205674735231}. Best is trial 152 with value: 0.7385503721868871.\n",
      "[I 2025-02-12 08:47:19,167] Trial 185 finished with value: 0.7384221424373281 and parameters: {'n_estimators': 4662, 'max_depth': 96, 'learning_rate': 0.004947736997191823, 'min_child_weight': 81, 'subsample': 0.600666355211506, 'colsample_bytree': 0.6129229163859687, 'reg_alpha': 7.971603329137914, 'reg_lambda': 8.909502430938677}. Best is trial 152 with value: 0.7385503721868871.\n",
      "[I 2025-02-12 08:50:28,503] Trial 186 finished with value: 0.7378680917828886 and parameters: {'n_estimators': 4872, 'max_depth': 89, 'learning_rate': 0.00472103447787986, 'min_child_weight': 82, 'subsample': 0.6115364805348459, 'colsample_bytree': 0.6217254921203985, 'reg_alpha': 0.09921529231922303, 'reg_lambda': 6.497144712944562}. Best is trial 152 with value: 0.7385503721868871.\n",
      "[I 2025-02-12 08:54:33,098] Trial 187 finished with value: 0.7384417749261574 and parameters: {'n_estimators': 4641, 'max_depth': 96, 'learning_rate': 0.005113827923523008, 'min_child_weight': 83, 'subsample': 0.6246299218635389, 'colsample_bytree': 0.6003986256751518, 'reg_alpha': 9.913246292978833, 'reg_lambda': 6.782392865473459}. Best is trial 152 with value: 0.7385503721868871.\n",
      "[I 2025-02-12 08:58:52,905] Trial 188 finished with value: 0.7384323830692305 and parameters: {'n_estimators': 4705, 'max_depth': 78, 'learning_rate': 0.004267344569336077, 'min_child_weight': 79, 'subsample': 0.6122983186144286, 'colsample_bytree': 0.6226038758065082, 'reg_alpha': 8.027763320851824, 'reg_lambda': 9.71202745931296}. Best is trial 152 with value: 0.7385503721868871.\n",
      "[I 2025-02-12 09:02:40,673] Trial 189 finished with value: 0.7383180636244394 and parameters: {'n_estimators': 4545, 'max_depth': 89, 'learning_rate': 0.004655562735883439, 'min_child_weight': 84, 'subsample': 0.6276638823637807, 'colsample_bytree': 0.6567650831910538, 'reg_alpha': 5.936236309575946, 'reg_lambda': 8.601126753835372}. Best is trial 152 with value: 0.7385503721868871.\n",
      "[I 2025-02-12 09:06:18,279] Trial 190 finished with value: 0.7384770580738562 and parameters: {'n_estimators': 4212, 'max_depth': 95, 'learning_rate': 0.005165334029019222, 'min_child_weight': 86, 'subsample': 0.6001001698545911, 'colsample_bytree': 0.6299594945566986, 'reg_alpha': 7.789900824751163, 'reg_lambda': 6.46140151176212}. Best is trial 152 with value: 0.7385503721868871.\n",
      "[I 2025-02-12 09:09:27,864] Trial 191 finished with value: 0.7385047262588578 and parameters: {'n_estimators': 4865, 'max_depth': 83, 'learning_rate': 0.005875804926402275, 'min_child_weight': 81, 'subsample': 0.6142490367839061, 'colsample_bytree': 0.6842123230773617, 'reg_alpha': 9.666363868852573, 'reg_lambda': 5.977456134900785}. Best is trial 152 with value: 0.7385503721868871.\n",
      "[I 2025-02-12 09:14:11,666] Trial 192 finished with value: 0.7385864049292139 and parameters: {'n_estimators': 4899, 'max_depth': 84, 'learning_rate': 0.004340384573221108, 'min_child_weight': 80, 'subsample': 0.6119310335545484, 'colsample_bytree': 0.615156874416465, 'reg_alpha': 9.97251038795285, 'reg_lambda': 7.049953015697085}. Best is trial 192 with value: 0.7385864049292139.\n",
      "[I 2025-02-12 09:18:40,573] Trial 193 finished with value: 0.7384288898329838 and parameters: {'n_estimators': 4864, 'max_depth': 82, 'learning_rate': 0.0044084159105840775, 'min_child_weight': 81, 'subsample': 0.6110277531243735, 'colsample_bytree': 0.6152509501286421, 'reg_alpha': 8.1247899597402, 'reg_lambda': 8.650365117359666}. Best is trial 192 with value: 0.7385864049292139.\n",
      "[I 2025-02-12 09:22:08,010] Trial 194 finished with value: 0.7378274737764863 and parameters: {'n_estimators': 4744, 'max_depth': 85, 'learning_rate': 0.0050100382718745685, 'min_child_weight': 78, 'subsample': 0.6267228049863127, 'colsample_bytree': 0.6443835142170268, 'reg_alpha': 0.008395680506352147, 'reg_lambda': 6.935015659829073}. Best is trial 192 with value: 0.7385864049292139.\n",
      "[I 2025-02-12 09:26:36,725] Trial 195 finished with value: 0.7383079534929944 and parameters: {'n_estimators': 4858, 'max_depth': 76, 'learning_rate': 0.004118102798386154, 'min_child_weight': 82, 'subsample': 0.6097083775833473, 'colsample_bytree': 0.6072323890930746, 'reg_alpha': 6.988958805887983, 'reg_lambda': 6.073888152509716}. Best is trial 192 with value: 0.7385864049292139.\n",
      "[I 2025-02-12 09:29:55,243] Trial 196 finished with value: 0.7384558115553682 and parameters: {'n_estimators': 4592, 'max_depth': 91, 'learning_rate': 0.006350136468013933, 'min_child_weight': 76, 'subsample': 0.6271833641291956, 'colsample_bytree': 0.6351176430401547, 'reg_alpha': 9.813292341752646, 'reg_lambda': 8.68827268531381}. Best is trial 192 with value: 0.7385864049292139.\n",
      "[I 2025-02-12 09:33:46,057] Trial 197 finished with value: 0.7384171531438362 and parameters: {'n_estimators': 4897, 'max_depth': 85, 'learning_rate': 0.005264640900932411, 'min_child_weight': 80, 'subsample': 0.6004804784156038, 'colsample_bytree': 0.6247428392177269, 'reg_alpha': 8.093976587760418, 'reg_lambda': 9.87173685106484}. Best is trial 192 with value: 0.7385864049292139.\n",
      "[I 2025-02-12 09:37:34,698] Trial 198 finished with value: 0.7382749128651578 and parameters: {'n_estimators': 4724, 'max_depth': 96, 'learning_rate': 0.0048768565087217615, 'min_child_weight': 83, 'subsample': 0.6111938604653727, 'colsample_bytree': 0.684834845791662, 'reg_alpha': 6.205313833005776, 'reg_lambda': 7.050841191973496}. Best is trial 192 with value: 0.7385864049292139.\n",
      "[I 2025-02-12 09:41:29,621] Trial 199 finished with value: 0.7385178608689061 and parameters: {'n_estimators': 4480, 'max_depth': 78, 'learning_rate': 0.004550682543707167, 'min_child_weight': 86, 'subsample': 0.6349809597488444, 'colsample_bytree': 0.6519188133567801, 'reg_alpha': 9.94955641210699, 'reg_lambda': 5.8086486354478275}. Best is trial 192 with value: 0.7385864049292139.\n",
      "[I 2025-02-12 09:45:41,213] Trial 200 finished with value: 0.7384387963837149 and parameters: {'n_estimators': 4238, 'max_depth': 79, 'learning_rate': 0.0038559606012129335, 'min_child_weight': 86, 'subsample': 0.6340704027227667, 'colsample_bytree': 0.6620210739552554, 'reg_alpha': 7.38579404261431, 'reg_lambda': 5.672069630705237}. Best is trial 192 with value: 0.7385864049292139.\n",
      "[I 2025-02-12 09:51:28,186] Trial 201 finished with value: 0.7385108305482586 and parameters: {'n_estimators': 4481, 'max_depth': 89, 'learning_rate': 0.004626372906688212, 'min_child_weight': 84, 'subsample': 0.6148097431428876, 'colsample_bytree': 0.6421637365058146, 'reg_alpha': 9.796552268725387, 'reg_lambda': 4.337602481329297}. Best is trial 192 with value: 0.7385864049292139.\n",
      "[I 2025-02-12 09:57:49,055] Trial 202 finished with value: 0.7385587847683808 and parameters: {'n_estimators': 4443, 'max_depth': 92, 'learning_rate': 0.0044383113654495425, 'min_child_weight': 87, 'subsample': 0.613581771671207, 'colsample_bytree': 0.6509458569118689, 'reg_alpha': 9.964219742599015, 'reg_lambda': 7.299488112859394}. Best is trial 192 with value: 0.7385864049292139.\n",
      "[I 2025-02-12 10:03:42,594] Trial 203 finished with value: 0.7384395376263138 and parameters: {'n_estimators': 4475, 'max_depth': 98, 'learning_rate': 0.00447479457185165, 'min_child_weight': 80, 'subsample': 0.6253559412144669, 'colsample_bytree': 0.638586172538667, 'reg_alpha': 7.860492684422013, 'reg_lambda': 7.492147006673661}. Best is trial 192 with value: 0.7385864049292139.\n"
     ]
    }
   ],
   "source": [
    "import optuna\n",
    "import xgboost as xgb\n",
    "from sklearn.metrics import roc_auc_score\n",
    "import pandas as pd\n",
    "\n",
    "# 목적 함수 정의\n",
    "def objective(trial):\n",
    "    param = {\n",
    "        'n_estimators': trial.suggest_int('n_estimators', 500, 5000),\n",
    "        'max_depth': trial.suggest_int('max_depth', 3, 300),\n",
    "        'learning_rate': trial.suggest_float('learning_rate', 1e-3, 1e-1, log=True),\n",
    "        'min_child_weight': trial.suggest_int('min_child_weight', 1, 100),\n",
    "        'subsample': trial.suggest_float('subsample', 0.6, 1.0),\n",
    "        'colsample_bytree': trial.suggest_float('colsample_bytree', 0.6, 1.0),\n",
    "        'reg_alpha': trial.suggest_float('reg_alpha', 1e-3, 10.0, log=True),\n",
    "        'reg_lambda': trial.suggest_float('reg_lambda', 1e-3, 10.0, log=True),\n",
    "        'random_state': 42,\n",
    "        'objective': 'binary:logistic',\n",
    "        'eval_metric': 'auc',\n",
    "        'verbosity': 0,\n",
    "        'early_stopping_rounds': 100  # early_stopping_rounds를 생성자에 설정\n",
    "    }\n",
    "\n",
    "    model = xgb.XGBClassifier(**param)\n",
    "    model.fit(IVF_X_train, IVF_y_train, eval_set=[(IVF_X_test, IVF_y_test)], verbose=False)\n",
    "    \n",
    "    y_pred_proba = model.predict_proba(IVF_X_test)[:, 1]\n",
    "    \n",
    "    auc = roc_auc_score(IVF_y_test, y_pred_proba)\n",
    "    return auc\n",
    "\n",
    "# Optuna 스터디 생성 및 최적화 실행\n",
    "study = optuna.create_study(direction='maximize')\n",
    "study.optimize(objective, n_trials=1000)\n",
    "\n",
    "# 모든 행과 열이 잘리지 않도록 출력 설정\n",
    "pd.set_option('display.max_rows', None)\n",
    "pd.set_option('display.max_columns', None)\n",
    "\n",
    "# 최적의 하이퍼파라미터 출력\n",
    "print(\"Best trial:\")\n",
    "trial = study.best_trial\n",
    "print(f\"  Value: {trial.value}\")\n",
    "print(\"  Params: \")\n",
    "for key, value in trial.params.items():\n",
    "    print(f\"    {key}: {value}\")"
   ]
  },
  {
   "cell_type": "markdown",
   "metadata": {},
   "source": [
    "."
   ]
  }
 ],
 "metadata": {
  "kernelspec": {
   "display_name": "Python 3",
   "language": "python",
   "name": "python3"
  },
  "language_info": {
   "codemirror_mode": {
    "name": "ipython",
    "version": 3
   },
   "file_extension": ".py",
   "mimetype": "text/x-python",
   "name": "python",
   "nbconvert_exporter": "python",
   "pygments_lexer": "ipython3",
   "version": "3.7.8"
  }
 },
 "nbformat": 4,
 "nbformat_minor": 2
}
