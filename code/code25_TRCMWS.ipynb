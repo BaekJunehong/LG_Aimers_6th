{
 "cells": [
  {
   "cell_type": "markdown",
   "metadata": {},
   "source": [
    "## 난임 환자 대상 임신 성공 여부 예측"
   ]
  },
  {
   "cell_type": "markdown",
   "metadata": {},
   "source": [
    "### LGAimers 6th 온라인 해커톤"
   ]
  },
  {
   "cell_type": "markdown",
   "metadata": {},
   "source": [
    "Import"
   ]
  },
  {
   "cell_type": "code",
   "execution_count": 7,
   "metadata": {},
   "outputs": [],
   "source": [
    "import numpy as np\n",
    "import pandas as pd\n",
    "import seaborn as sns\n",
    "import matplotlib.pyplot as plt\n",
    "\n",
    "import os\n",
    "from pprint import pprint"
   ]
  },
  {
   "cell_type": "code",
   "execution_count": 8,
   "metadata": {},
   "outputs": [],
   "source": [
    "import platform\n",
    "from matplotlib import rc\n",
    "\n",
    "# 운영 체제에 따라 폰트 설정\n",
    "if platform.system() == 'Windows':  # Windows 환경\n",
    "    rc('font', family='Malgun Gothic')  # 맑은 고딕\n",
    "\n",
    "# 음수 표시 가능하도록 설정\n",
    "plt.rcParams['axes.unicode_minus'] = False"
   ]
  },
  {
   "cell_type": "markdown",
   "metadata": {},
   "source": [
    "반복적으로 쓰는 함수툴"
   ]
  },
  {
   "cell_type": "code",
   "execution_count": 9,
   "metadata": {},
   "outputs": [],
   "source": [
    "def plot_box(df, col_name):\n",
    "    \"\"\"\n",
    "    주어진 데이터프레임과 열 이름에 대해 박스 플롯을 그리는 함수.\n",
    "\n",
    "    Parameters:\n",
    "    df (pd.DataFrame): 데이터프레임\n",
    "    col_name (str): 열 이름\n",
    "    \"\"\"\n",
    "    plt.figure(figsize=(7, 4))\n",
    "    plt.boxplot(df[col_name], vert=False)\n",
    "    plt.xlabel(col_name)\n",
    "    plt.title(f'Box Plot of {col_name}')\n",
    "    plt.show()\n",
    "\n",
    "def value_counts_ratio(df, col_name, target_name='임신_성공_여부'):\n",
    "    \"\"\"\n",
    "    주어진 데이터프레임의 특정 열에 대해 각 값마다 타겟 변수의 비율과 갯수, 총 갯수를 출력하는 함수.\n",
    "\n",
    "    Parameters:\n",
    "    df (pd.DataFrame): 데이터프레임\n",
    "    col_name (str): 열 이름\n",
    "    target_name (str): 타겟 변수 이름\n",
    "    \"\"\"\n",
    "    # 각 값마다 타겟 변수의 비율 계산\n",
    "    value_counts = df.groupby(col_name)[target_name].value_counts(normalize=True).unstack().fillna(0)\n",
    "    \n",
    "    # 각 값마다 타겟 변수의 갯수 계산\n",
    "    counts = df.groupby(col_name)[target_name].value_counts().unstack().fillna(0)\n",
    "    \n",
    "    # 각 값마다 총 갯수 계산\n",
    "    total_counts = df[col_name].value_counts().rename('Total_Count')\n",
    "    \n",
    "    # 비율과 갯수를 합침\n",
    "    result = value_counts.join(counts, lsuffix='_ratio', rsuffix='_count')\n",
    "    \n",
    "    # 총 갯수를 합침\n",
    "    result = result.join(total_counts, on=col_name)\n",
    "    \n",
    "    # 출력 형식 조정\n",
    "    result.index.name = 'variable'\n",
    "    print(f\"\\n{col_name}별 {target_name} 비율 및 갯수\\n\")\n",
    "    print(result.rename(columns=lambda x: x.split('_')[0]))\n",
    "\n",
    "def summarize_group(df, group_by_columns):\n",
    "    \"\"\"\n",
    "    주어진 데이터프레임을 특정 열들로 그룹화하여 각 그룹의 '임신_성공_여부' 비율과 갯수를 요약하는 함수.\n",
    "\n",
    "    Parameters:\n",
    "    df (pd.DataFrame): 데이터프레임\n",
    "    group_by_columns (list): 그룹화할 열 이름들의 리스트\n",
    "    \"\"\"\n",
    "    # 데이터프레임을 그룹화\n",
    "    grouped_df = df.groupby(group_by_columns)\n",
    "    \n",
    "    # 결과를 저장할 리스트 초기화\n",
    "    results = []\n",
    "    \n",
    "    # 그룹화된 데이터프레임의 내용을 확인하는 코드\n",
    "    for name, group in grouped_df:\n",
    "        # 그룹의 갯수 계산\n",
    "        group_count = group.shape[0]\n",
    "        \n",
    "        # '임신_성공_여부' 변수의 '임신 성공' 비율과 갯수 계산\n",
    "        success_count = group['임신_성공_여부'].value_counts().get(1, 0)\n",
    "        success_ratio = success_count / group_count\n",
    "        \n",
    "        # 결과 리스트에 추가\n",
    "        results.append([name, success_count, success_ratio, group_count])\n",
    "    \n",
    "    # 결과 리스트를 데이터프레임으로 변환\n",
    "    results_df = pd.DataFrame(results, columns=['group', \"'임신_성공_여부' count\", 'ratio', 'Total'])\n",
    "    \n",
    "    # 그룹화된 변수들의 이름을 제목행으로 출력\n",
    "    print(f\"Grouped by: {', '.join(group_by_columns)}\")\n",
    "    print()\n",
    "    # 데이터프레임 출력\n",
    "    print(results_df)\n",
    "\n",
    "def plot_ratio(df, group_by_column, target_column='임신_성공_여부', success_value=1):\n",
    "    \"\"\"\n",
    "    주어진 데이터프레임을 특정 열로 그룹화하여 각 그룹의 타겟 변수의 성공 비율을 시각화하는 함수.\n",
    "\n",
    "    Parameters:\n",
    "    df (pd.DataFrame): 데이터프레임\n",
    "    group_by_column (str): 그룹화할 열 이름\n",
    "    target_column (str): 타겟 변수 이름\n",
    "    success_value (int): 타겟 변수의 성공을 나타내는 값\n",
    "    \"\"\"\n",
    "    # 데이터프레임을 그룹화\n",
    "    grouped_df = df.groupby(group_by_column)\n",
    "    \n",
    "    # 결과를 저장할 리스트 초기화\n",
    "    results = []\n",
    "    \n",
    "    # 그룹화된 데이터프레임의 내용을 확인하는 코드\n",
    "    for name, group in grouped_df:\n",
    "        # 그룹의 갯수 계산\n",
    "        group_count = group.shape[0]\n",
    "        \n",
    "        # '임신_성공_여부' 변수의 '성공' 비율과 갯수 계산\n",
    "        success_count = group[target_column].value_counts().get(success_value, 0)\n",
    "        success_ratio = success_count / group_count\n",
    "        \n",
    "        # 결과 리스트에 추가\n",
    "        results.append([name, success_count, success_ratio, group_count])\n",
    "    \n",
    "    # 결과 리스트를 데이터프레임으로 변환\n",
    "    results_df = pd.DataFrame(results, columns=['group', f\"'{success_value}' count\", 'ratio', 'Total'])\n",
    "    \n",
    "    # 그래프 크기 설정\n",
    "    plt.figure(figsize=(10, 5))\n",
    "    \n",
    "    # 막대 그래프 생성\n",
    "    ax = results_df.plot(kind='bar', x='group', y='ratio', legend=False)\n",
    "    \n",
    "    # 각 막대 위에 임신 성공 여부 갯수와 총 갯수 표시\n",
    "    for i, (success_count, total) in enumerate(zip(results_df[f\"'{success_value}' count\"], results_df['Total'])):\n",
    "        ax.text(i, results_df['ratio'][i], f'{success_count} ({total})', ha='center', va='bottom', fontsize=8)\n",
    "    \n",
    "    # 그래프 제목 및 축 레이블 설정\n",
    "    ax.set_title(f'{success_value} Ratio by {group_by_column}')\n",
    "    ax.set_xlabel(group_by_column)\n",
    "    ax.set_ylabel(f'{success_value} Ratio')\n",
    "   \n",
    "    # 그래프 출력\n",
    "    plt.show()\n",
    "\n",
    "def plot_ratio_boxplot(data, column_name, target_column='임신_성공_여부'):\n",
    "    \"\"\"\n",
    "    주어진 데이터프레임의 특정 열과 타겟 변수 간의 관계를 박스 플롯으로 시각화하는 함수.\n",
    "\n",
    "    Parameters:\n",
    "    data (pd.DataFrame): 데이터프레임\n",
    "    column_name (str): 열 이름\n",
    "    target_column (str): 타겟 변수 이름\n",
    "    \"\"\"\n",
    "\n",
    "    # 그래프 그리기\n",
    "    plt.figure(figsize=(10, 6))\n",
    "    sns.boxplot(x=column_name, y=target_column, data=data)\n",
    "\n",
    "    # 그래프 제목 및 레이블 설정\n",
    "    plt.title(f'{column_name} vs {target_column}')\n",
    "    plt.xlabel(column_name)\n",
    "    plt.ylabel(target_column)\n",
    "\n",
    "    # 그래프 출력\n",
    "    plt.show()"
   ]
  },
  {
   "cell_type": "markdown",
   "metadata": {},
   "source": [
    "### Data Load"
   ]
  },
  {
   "cell_type": "code",
   "execution_count": 10,
   "metadata": {},
   "outputs": [
    {
     "name": "stdout",
     "output_type": "stream",
     "text": [
      "Index(['ID', '시술_시기_코드', '시술_당시_나이', '임신_시도_또는_마지막_임신_경과_연수', '시술_유형',\n",
      "       '특정_시술_유형', '배란_자극_여부', '배란_유도_유형', '단일_배아_이식_여부', '착상_전_유전_검사_사용_여부',\n",
      "       '착상_전_유전_진단_사용_여부', '남성_주_불임_원인', '남성_부_불임_원인', '여성_주_불임_원인',\n",
      "       '여성_부_불임_원인', '부부_주_불임_원인', '부부_부_불임_원인', '불명확_불임_원인', '불임_원인_-_난관_질환',\n",
      "       '불임_원인_-_남성_요인', '불임_원인_-_배란_장애', '불임_원인_-_여성_요인', '불임_원인_-_자궁경부_문제',\n",
      "       '불임_원인_-_자궁내막증', '불임_원인_-_정자_농도', '불임_원인_-_정자_면역학적_요인',\n",
      "       '불임_원인_-_정자_운동성', '불임_원인_-_정자_형태', '배아_생성_주요_이유', '총_시술_횟수',\n",
      "       '클리닉_내_총_시술_횟수', 'IVF_시술_횟수', 'DI_시술_횟수', '총_임신_횟수', 'IVF_임신_횟수',\n",
      "       'DI_임신_횟수', '총_출산_횟수', 'IVF_출산_횟수', 'DI_출산_횟수', '총_생성_배아_수',\n",
      "       '미세주입된_난자_수', '미세주입에서_생성된_배아_수', '이식된_배아_수', '미세주입_배아_이식_수', '저장된_배아_수',\n",
      "       '미세주입_후_저장된_배아_수', '해동된_배아_수', '해동_난자_수', '수집된_신선_난자_수', '저장된_신선_난자_수',\n",
      "       '혼합된_난자_수', '파트너_정자와_혼합된_난자_수', '기증자_정자와_혼합된_난자_수', '난자_출처', '정자_출처',\n",
      "       '난자_기증자_나이', '정자_기증자_나이', '동결_배아_사용_여부', '신선_배아_사용_여부', '기증_배아_사용_여부',\n",
      "       '대리모_여부', 'PGD_시술_여부', 'PGS_시술_여부', '난자_채취_경과일', '난자_해동_경과일',\n",
      "       '난자_혼합_경과일', '배아_이식_경과일', '배아_해동_경과일', '임신_성공_여부'],\n",
      "      dtype='object')\n"
     ]
    }
   ],
   "source": [
    "# 데이터 로드\n",
    "train = pd.read_csv('../data/train.csv')\n",
    "test = pd.read_csv('../data/test.csv')\n",
    "\n",
    "# 변수명에서 공백을 밑줄로 대체\n",
    "train.columns = train.columns.str.replace(' ', '_')\n",
    "test.columns = test.columns.str.replace(' ', '_')\n",
    "\n",
    "# 변경된 변수명 확인\n",
    "print(train.columns)"
   ]
  },
  {
   "cell_type": "code",
   "execution_count": 11,
   "metadata": {},
   "outputs": [
    {
     "name": "stdout",
     "output_type": "stream",
     "text": [
      "<class 'pandas.core.frame.DataFrame'>\n",
      "RangeIndex: 256351 entries, 0 to 256350\n",
      "Data columns (total 69 columns):\n",
      " #   Column                 Non-Null Count   Dtype  \n",
      "---  ------                 --------------   -----  \n",
      " 0   ID                     256351 non-null  object \n",
      " 1   시술_시기_코드               256351 non-null  object \n",
      " 2   시술_당시_나이               256351 non-null  object \n",
      " 3   임신_시도_또는_마지막_임신_경과_연수  9370 non-null    float64\n",
      " 4   시술_유형                  256351 non-null  object \n",
      " 5   특정_시술_유형               256349 non-null  object \n",
      " 6   배란_자극_여부               256351 non-null  int64  \n",
      " 7   배란_유도_유형               256351 non-null  object \n",
      " 8   단일_배아_이식_여부            250060 non-null  float64\n",
      " 9   착상_전_유전_검사_사용_여부       2718 non-null    float64\n",
      " 10  착상_전_유전_진단_사용_여부       250060 non-null  float64\n",
      " 11  남성_주_불임_원인             256351 non-null  int64  \n",
      " 12  남성_부_불임_원인             256351 non-null  int64  \n",
      " 13  여성_주_불임_원인             256351 non-null  int64  \n",
      " 14  여성_부_불임_원인             256351 non-null  int64  \n",
      " 15  부부_주_불임_원인             256351 non-null  int64  \n",
      " 16  부부_부_불임_원인             256351 non-null  int64  \n",
      " 17  불명확_불임_원인              256351 non-null  int64  \n",
      " 18  불임_원인_-_난관_질환          256351 non-null  int64  \n",
      " 19  불임_원인_-_남성_요인          256351 non-null  int64  \n",
      " 20  불임_원인_-_배란_장애          256351 non-null  int64  \n",
      " 21  불임_원인_-_여성_요인          256351 non-null  int64  \n",
      " 22  불임_원인_-_자궁경부_문제        256351 non-null  int64  \n",
      " 23  불임_원인_-_자궁내막증          256351 non-null  int64  \n",
      " 24  불임_원인_-_정자_농도          256351 non-null  int64  \n",
      " 25  불임_원인_-_정자_면역학적_요인     256351 non-null  int64  \n",
      " 26  불임_원인_-_정자_운동성         256351 non-null  int64  \n",
      " 27  불임_원인_-_정자_형태          256351 non-null  int64  \n",
      " 28  배아_생성_주요_이유            250060 non-null  object \n",
      " 29  총_시술_횟수                256351 non-null  object \n",
      " 30  클리닉_내_총_시술_횟수          256351 non-null  object \n",
      " 31  IVF_시술_횟수              256351 non-null  object \n",
      " 32  DI_시술_횟수               256351 non-null  object \n",
      " 33  총_임신_횟수                256351 non-null  object \n",
      " 34  IVF_임신_횟수              256351 non-null  object \n",
      " 35  DI_임신_횟수               256351 non-null  object \n",
      " 36  총_출산_횟수                256351 non-null  object \n",
      " 37  IVF_출산_횟수              256351 non-null  object \n",
      " 38  DI_출산_횟수               256351 non-null  object \n",
      " 39  총_생성_배아_수              250060 non-null  float64\n",
      " 40  미세주입된_난자_수             250060 non-null  float64\n",
      " 41  미세주입에서_생성된_배아_수        250060 non-null  float64\n",
      " 42  이식된_배아_수               250060 non-null  float64\n",
      " 43  미세주입_배아_이식_수           250060 non-null  float64\n",
      " 44  저장된_배아_수               250060 non-null  float64\n",
      " 45  미세주입_후_저장된_배아_수        250060 non-null  float64\n",
      " 46  해동된_배아_수               250060 non-null  float64\n",
      " 47  해동_난자_수                250060 non-null  float64\n",
      " 48  수집된_신선_난자_수            250060 non-null  float64\n",
      " 49  저장된_신선_난자_수            250060 non-null  float64\n",
      " 50  혼합된_난자_수               250060 non-null  float64\n",
      " 51  파트너_정자와_혼합된_난자_수       250060 non-null  float64\n",
      " 52  기증자_정자와_혼합된_난자_수       250060 non-null  float64\n",
      " 53  난자_출처                  256351 non-null  object \n",
      " 54  정자_출처                  256351 non-null  object \n",
      " 55  난자_기증자_나이              256351 non-null  object \n",
      " 56  정자_기증자_나이              256351 non-null  object \n",
      " 57  동결_배아_사용_여부            250060 non-null  float64\n",
      " 58  신선_배아_사용_여부            250060 non-null  float64\n",
      " 59  기증_배아_사용_여부            250060 non-null  float64\n",
      " 60  대리모_여부                 250060 non-null  float64\n",
      " 61  PGD_시술_여부              2179 non-null    float64\n",
      " 62  PGS_시술_여부              1929 non-null    float64\n",
      " 63  난자_채취_경과일              198863 non-null  float64\n",
      " 64  난자_해동_경과일              1436 non-null    float64\n",
      " 65  난자_혼합_경과일              202616 non-null  float64\n",
      " 66  배아_이식_경과일              212785 non-null  float64\n",
      " 67  배아_해동_경과일              40369 non-null   float64\n",
      " 68  임신_성공_여부               256351 non-null  int64  \n",
      "dtypes: float64(29), int64(19), object(21)\n",
      "memory usage: 135.0+ MB\n"
     ]
    }
   ],
   "source": [
    "train.info(verbose=True)"
   ]
  },
  {
   "cell_type": "code",
   "execution_count": 12,
   "metadata": {},
   "outputs": [
    {
     "data": {
      "image/png": "[encoded data removed]",
      "text/plain": [
       "<Figure size 640x480 with 1 Axes>"
      ]
     },
     "metadata": {},
     "output_type": "display_data"
    }
   ],
   "source": [
    "import matplotlib.pyplot as plt\n",
    "import pandas as pd\n",
    "\n",
    "# '임신_성공_여부' 변수의 값 개수 계산\n",
    "value_counts = train['임신_성공_여부'].value_counts()\n",
    "\n",
    "# 라벨 변경\n",
    "labels = {1: '1(임신 성공)', 0: '0(임신 실패)'}\n",
    "value_counts.index = value_counts.index.map(labels)\n",
    "\n",
    "# 도넛 차트 그리기\n",
    "fig, ax = plt.subplots()\n",
    "\n",
    "# 파이 차트 그리기\n",
    "wedges, texts, autotexts = ax.pie(value_counts, labels=value_counts.index, autopct='%1.1f%%', startangle=90, wedgeprops=dict(width=0.5))\n",
    "\n",
    "# 도넛 차트 가운데에 원 그리기\n",
    "centre_circle = plt.Circle((0, 0), 0.70, fc='white')\n",
    "fig.gca().add_artist(centre_circle)\n",
    "\n",
    "# 차트 제목 설정\n",
    "ax.set_title('임신 성공 여부 도넛 차트')\n",
    "\n",
    "# 차트 표시\n",
    "plt.show()"
   ]
  },
  {
   "cell_type": "markdown",
   "metadata": {},
   "source": [
    "## EDA"
   ]
  },
  {
   "cell_type": "code",
   "execution_count": null,
   "metadata": {},
   "outputs": [],
   "source": [
    "# '시술_시기_코드' 변수의 값이 'TRCMWS'에 해당 안하는 데이터 추출\n",
    "IVF_train = train[train['시술_시기_코드'] == 'TRCMWS'] \n",
    "IVF_test = test[test['시술_시기_코드'] == 'TRCMWS']\n",
    "\n",
    "# 모든 값이 결측값인 변수를 제거\n",
    "IVF_train = IVF_train.dropna(axis=1, how='all')\n",
    "IVF_test = IVF_test.dropna(axis=1, how='all')\n",
    "\n",
    "train = IVF_train\n",
    "test = IVF_test"
   ]
  },
  {
   "cell_type": "markdown",
   "metadata": {},
   "source": [
    "### 1. 시술_시기_코드"
   ]
  },
  {
   "cell_type": "markdown",
   "metadata": {},
   "source": [
    "난임 시술을 받은 시기를 기준으로 코드 부여"
   ]
  },
  {
   "cell_type": "code",
   "execution_count": 14,
   "metadata": {},
   "outputs": [
    {
     "name": "stdout",
     "output_type": "stream",
     "text": [
      "\n",
      "시술_시기_코드별 임신_성공_여부 비율 및 갯수\n",
      "\n",
      "                 0         1      0     1  Total\n",
      "variable                                        \n",
      "TRCMWS    0.742583  0.257417  28285  9805  38090\n"
     ]
    }
   ],
   "source": [
    "value_counts_ratio(train, '시술_시기_코드')"
   ]
  },
  {
   "cell_type": "code",
   "execution_count": 15,
   "metadata": {},
   "outputs": [],
   "source": [
    "# '시술_시기_코드' 변수 제거\n",
    "train = train.drop(columns=['시술_시기_코드'])\n",
    "test = test.drop(columns=['시술_시기_코드'])"
   ]
  },
  {
   "cell_type": "markdown",
   "metadata": {},
   "source": [
    "### 2. 시술 당시 나이"
   ]
  },
  {
   "cell_type": "markdown",
   "metadata": {},
   "source": [
    "환자의 시술 당시 나이(연령대)"
   ]
  },
  {
   "cell_type": "code",
   "execution_count": 16,
   "metadata": {},
   "outputs": [
    {
     "name": "stdout",
     "output_type": "stream",
     "text": [
      "\n",
      "시술_당시_나이별 임신_성공_여부 비율 및 갯수\n",
      "\n",
      "                 0         1       0       1  Total\n",
      "variable                                           \n",
      "만18-34세   0.667625  0.332375  9981.0  4969.0  14950\n",
      "만35-37세   0.730547  0.269453  6309.0  2327.0   8636\n",
      "만38-39세   0.788356  0.211644  4306.0  1156.0   5462\n",
      "만40-42세   0.844312  0.155688  4832.0   891.0   5723\n",
      "만43-44세   0.874455  0.125545  1804.0   259.0   2063\n",
      "만45-50세   0.830692  0.169308   996.0   203.0   1199\n",
      "알 수 없음    1.000000  0.000000    57.0     0.0     57\n"
     ]
    }
   ],
   "source": [
    "value_counts_ratio(train, '시술_당시_나이')"
   ]
  },
  {
   "cell_type": "code",
   "execution_count": 17,
   "metadata": {},
   "outputs": [
    {
     "data": {
      "text/plain": [
       "만18-34세    5189\n",
       "만35-37세    3025\n",
       "만40-42세    2051\n",
       "만38-39세    1963\n",
       "만43-44세     746\n",
       "만45-50세     390\n",
       "알 수 없음       28\n",
       "Name: 시술_당시_나이, dtype: int64"
      ]
     },
     "execution_count": 17,
     "metadata": {},
     "output_type": "execute_result"
    }
   ],
   "source": [
    "test['시술_당시_나이'].value_counts()"
   ]
  },
  {
   "cell_type": "markdown",
   "metadata": {},
   "source": [
    "### 3. 임신 시도 또는 마지막 임신 경과 일수"
   ]
  },
  {
   "cell_type": "markdown",
   "metadata": {},
   "source": [
    "환자가 처음 임신을 시도한 시점 또는 마지막 임신 이후 현재까지의 경과 연수 (년 단위)"
   ]
  },
  {
   "cell_type": "code",
   "execution_count": 18,
   "metadata": {},
   "outputs": [
    {
     "name": "stdout",
     "output_type": "stream",
     "text": [
      "\n",
      "임신_시도_또는_마지막_임신_경과_연수별 임신_성공_여부 비율 및 갯수\n",
      "\n",
      "                 0         1     0     1  Total\n",
      "variable                                       \n",
      "2.0       1.000000  0.000000   1.0   0.0      1\n",
      "3.0       1.000000  0.000000   1.0   0.0      1\n",
      "5.0       1.000000  0.000000   3.0   0.0      3\n",
      "6.0       1.000000  0.000000   2.0   0.0      2\n",
      "7.0       0.000000  1.000000   0.0   1.0      1\n",
      "8.0       1.000000  0.000000   4.0   0.0      4\n",
      "9.0       0.777778  0.222222   7.0   2.0      9\n",
      "10.0      0.805556  0.194444  29.0   7.0     36\n",
      "11.0      0.629630  0.370370  17.0  10.0     27\n",
      "12.0      0.733333  0.266667  22.0   8.0     30\n",
      "13.0      0.900000  0.100000  36.0   4.0     40\n",
      "14.0      0.821429  0.178571  23.0   5.0     28\n",
      "15.0      0.821429  0.178571  23.0   5.0     28\n",
      "16.0      0.777778  0.222222  14.0   4.0     18\n",
      "17.0      0.769231  0.230769  10.0   3.0     13\n",
      "18.0      0.500000  0.500000   3.0   3.0      6\n",
      "19.0      0.600000  0.400000   6.0   4.0     10\n",
      "20.0      1.000000  0.000000   7.0   0.0      7\n"
     ]
    }
   ],
   "source": [
    "value_counts_ratio(train, '임신_시도_또는_마지막_임신_경과_연수')"
   ]
  },
  {
   "cell_type": "code",
   "execution_count": 19,
   "metadata": {},
   "outputs": [],
   "source": [
    "# 3년 단위로 범주화\n",
    "bins = list(range(0, 24, 3))  # 0부터 20까지 3년 단위로 구간 생성\n",
    "labels = [f'{i}-{i+2}년' for i in range(0, 21, 3)]  # 범주 레이블 생성\n",
    "\n",
    "train['임신_시도_또는_마지막_임신_경과_연수'] = pd.cut(train['임신_시도_또는_마지막_임신_경과_연수'], bins=bins, labels=labels, right=False)\n",
    "test['임신_시도_또는_마지막_임신_경과_연수'] = pd.cut(test['임신_시도_또는_마지막_임신_경과_연수'], bins=bins, labels=labels, right=False)\n",
    "\n",
    "# 결측값을 'unknown'으로 채우기 위해 범주에 'unknown' 추가\n",
    "train['임신_시도_또는_마지막_임신_경과_연수'] = train['임신_시도_또는_마지막_임신_경과_연수'].cat.add_categories(['unknown'])\n",
    "test['임신_시도_또는_마지막_임신_경과_연수'] = test['임신_시도_또는_마지막_임신_경과_연수'].cat.add_categories(['unknown'])\n",
    "\n",
    "train['임신_시도_또는_마지막_임신_경과_연수'].fillna('unknown', inplace=True)\n",
    "test['임신_시도_또는_마지막_임신_경과_연수'].fillna('unknown', inplace=True)"
   ]
  },
  {
   "cell_type": "code",
   "execution_count": 20,
   "metadata": {},
   "outputs": [
    {
     "name": "stdout",
     "output_type": "stream",
     "text": [
      "\n",
      "임신_시도_또는_마지막_임신_경과_연수별 임신_성공_여부 비율 및 갯수\n",
      "\n",
      "                 0         1        0       1  Total\n",
      "variable                                            \n",
      "0-2년      1.000000  0.000000      1.0     0.0      1\n",
      "3-5년      1.000000  0.000000      4.0     0.0      4\n",
      "6-8년      0.857143  0.142857      6.0     1.0      7\n",
      "9-11년     0.736111  0.263889     53.0    19.0     72\n",
      "12-14년    0.826531  0.173469     81.0    17.0     98\n",
      "15-17년    0.796610  0.203390     47.0    12.0     59\n",
      "18-20년    0.695652  0.304348     16.0     7.0     23\n",
      "unknown   0.742267  0.257733  28077.0  9749.0  37826\n"
     ]
    }
   ],
   "source": [
    "value_counts_ratio(train, '임신_시도_또는_마지막_임신_경과_연수')"
   ]
  },
  {
   "cell_type": "markdown",
   "metadata": {},
   "source": [
    "### 4. 시술_유형"
   ]
  },
  {
   "cell_type": "markdown",
   "metadata": {},
   "source": [
    "IVF 또는 DI 시술 여부"
   ]
  },
  {
   "cell_type": "code",
   "execution_count": 21,
   "metadata": {},
   "outputs": [
    {
     "name": "stdout",
     "output_type": "stream",
     "text": [
      "\n",
      "시술_유형별 임신_성공_여부 비율 및 갯수\n",
      "\n",
      "                 0         1      0     1  Total\n",
      "variable                                        \n",
      "DI        0.862981  0.137019    718   114    832\n",
      "IVF       0.739895  0.260105  27567  9691  37258\n"
     ]
    }
   ],
   "source": [
    "value_counts_ratio(train, '시술_유형')"
   ]
  },
  {
   "cell_type": "code",
   "execution_count": 22,
   "metadata": {},
   "outputs": [
    {
     "data": {
      "text/plain": [
       "IVF    13108\n",
       "DI       284\n",
       "Name: 시술_유형, dtype: int64"
      ]
     },
     "execution_count": 22,
     "metadata": {},
     "output_type": "execute_result"
    }
   ],
   "source": [
    "test['시술_유형'].value_counts()"
   ]
  },
  {
   "cell_type": "markdown",
   "metadata": {},
   "source": [
    "### 5. 특정_시술_유형"
   ]
  },
  {
   "cell_type": "markdown",
   "metadata": {},
   "source": [
    "IVF – 체외 수정 (시험관 아기 시술)  \n",
    "ICSI – 세포질 내 정자 주입  \n",
    "IUI – 인공 수정 (자궁 내 주입)  \n",
    "ICI – 자궁경부 인공 수정  \n",
    "GIFT – 생식세포 나팔관 이식  \n",
    "FER – 냉동 배아 이식  \n",
    "Generic DI – 기증 정자 주입  \n",
    "IVI – 질 내 인공 수정   \n",
    "BLASTOCYST – 배반포 단계에 이식  \n",
    "AH – 배아를 hatching 시켜주는 과정  \n",
    "Unknown – 시술 유형 정보가 제공되지 않았거나 알 수 없음  \n",
    "\n",
    "(*) 특수 기호의 의미  \n",
    "\"/\" – 복합적인 시술 방법을 의미 (예: ICSI / BLASTOCYST)  \n",
    "\":\" – 동일 시술 내 세부 조합을 의미 (예: ICSI:IVF)  "
   ]
  },
  {
   "cell_type": "code",
   "execution_count": 23,
   "metadata": {},
   "outputs": [
    {
     "name": "stdout",
     "output_type": "stream",
     "text": [
      "Grouped by: 특정_시술_유형\n",
      "\n",
      "                 group  '임신_성공_여부' count     ratio  Total\n",
      "0           Generic DI                 2  0.090909     22\n",
      "1                  ICI                 0  0.000000      1\n",
      "2                 ICSI              5062  0.275828  18352\n",
      "3   ICSI / BLASTOCYST                  7  0.318182     22\n",
      "4            ICSI:ICSI                 5  0.007610    657\n",
      "5             ICSI:IVF                26  0.203125    128\n",
      "6         ICSI:Unknown                 2  0.044444     45\n",
      "7                  IUI               110  0.136476    806\n",
      "8                  IVF              3423  0.254915  13428\n",
      "9     IVF / BLASTOCYST                 3  0.230769     13\n",
      "10            IVF:ICSI                19  0.311475     61\n",
      "11             IVF:IVF                 4  0.014925    268\n",
      "12         IVF:Unknown                 5  0.192308     26\n",
      "13                 IVI                 2  0.666667      3\n",
      "14             Unknown              1135  0.266557   4258\n"
     ]
    }
   ],
   "source": [
    "summarize_group(train, ['특정_시술_유형'])"
   ]
  },
  {
   "cell_type": "code",
   "execution_count": 24,
   "metadata": {},
   "outputs": [
    {
     "data": {
      "text/plain": [
       "ICSI                  6410\n",
       "IVF                   4832\n",
       "Unknown               1459\n",
       "IUI                    280\n",
       "ICSI:ICSI              214\n",
       "IVF:IVF                 98\n",
       "ICSI:IVF                41\n",
       "ICSI:Unknown            20\n",
       "IVF:ICSI                19\n",
       "IVF:Unknown              8\n",
       "ICSI / BLASTOCYST        5\n",
       "Generic DI               4\n",
       "ICSI / AH                2\n",
       "Name: 특정_시술_유형, dtype: int64"
      ]
     },
     "execution_count": 24,
     "metadata": {},
     "output_type": "execute_result"
    }
   ],
   "source": [
    "test['특정_시술_유형'].value_counts()"
   ]
  },
  {
   "cell_type": "code",
   "execution_count": 25,
   "metadata": {},
   "outputs": [],
   "source": [
    "# '특정_시술_유형' 변수의 값이 'FER' 또는 'GIFT'인 행 제거\n",
    "train = train.loc[~train['특정_시술_유형'].isin(['FER', 'GIFT'])]\n",
    "# test = test.loc[~test['특정_시술_유형'].isin(['FER', 'GIFT'])]"
   ]
  },
  {
   "cell_type": "code",
   "execution_count": 26,
   "metadata": {},
   "outputs": [],
   "source": [
    "# 시술 유형 변환 함수\n",
    "def transform_treatment(treatment):\n",
    "    if isinstance(treatment, str):  # treatment가 문자열인지 확인\n",
    "        if treatment.startswith(\"ICSI\"):\n",
    "            if \"AH\" in treatment:\n",
    "                return \"ICSI / AH\"\n",
    "            elif \"BLASTOCYST\" in treatment:\n",
    "                return \"ICSI / BLASTOCYST\"\n",
    "            return \"ICSI\"\n",
    "        elif treatment.startswith(\"IVF\"):\n",
    "            if \"AH\" in treatment:\n",
    "                return \"IVF / AH\"\n",
    "            elif \"BLASTOCYST\" in treatment:\n",
    "                return \"IVF / BLASTOCYST\"\n",
    "            return \"IVF\"\n",
    "        elif treatment == \"IUI:ICI\":\n",
    "            return \"IUI\"\n",
    "    return treatment  # 기타 시술은 그대로 반환\n",
    "\n",
    "# 변환된 열 추가\n",
    "train['변환된_특정_시술_유형'] = train['특정_시술_유형'].apply(transform_treatment)\n",
    "test['변환된_특정_시술_유형'] = test['특정_시술_유형'].apply(transform_treatment)"
   ]
  },
  {
   "cell_type": "code",
   "execution_count": 27,
   "metadata": {},
   "outputs": [
    {
     "name": "stdout",
     "output_type": "stream",
     "text": [
      "\n",
      "변환된_특정_시술_유형별 임신_성공_여부 비율 및 갯수\n",
      "\n",
      "                          0         1        0       1  Total\n",
      "variable                                                     \n",
      "Generic DI         0.909091  0.090909     20.0     2.0     22\n",
      "ICI                1.000000  0.000000      1.0     0.0      1\n",
      "ICSI               0.734386  0.265614  14087.0  5095.0  19182\n",
      "ICSI / BLASTOCYST  0.681818  0.318182     15.0     7.0     22\n",
      "IUI                0.863524  0.136476    696.0   110.0    806\n",
      "IVF                0.749619  0.250381  10332.0  3451.0  13783\n",
      "IVF / BLASTOCYST   0.769231  0.230769     10.0     3.0     13\n",
      "IVI                0.333333  0.666667      1.0     2.0      3\n",
      "Unknown            0.733443  0.266557   3123.0  1135.0   4258\n"
     ]
    }
   ],
   "source": [
    "value_counts_ratio(train, '변환된_특정_시술_유형')"
   ]
  },
  {
   "cell_type": "code",
   "execution_count": 28,
   "metadata": {},
   "outputs": [
    {
     "data": {
      "text/plain": [
       "ICSI                 6685\n",
       "IVF                  4957\n",
       "Unknown              1459\n",
       "IUI                   280\n",
       "ICSI / BLASTOCYST       5\n",
       "Generic DI              4\n",
       "ICSI / AH               2\n",
       "Name: 변환된_특정_시술_유형, dtype: int64"
      ]
     },
     "execution_count": 28,
     "metadata": {},
     "output_type": "execute_result"
    }
   ],
   "source": [
    "test['변환된_특정_시술_유형'].value_counts()"
   ]
  },
  {
   "cell_type": "code",
   "execution_count": 29,
   "metadata": {},
   "outputs": [],
   "source": [
    "# 더미 변수 생성 함수 정의\n",
    "def create_dummy(x, keyword):\n",
    "    if isinstance(x, str) and keyword in x:\n",
    "        return 1\n",
    "    else:\n",
    "        return 0\n",
    "\n",
    "# 더미 변수 생성\n",
    "train['특정_시술_유형_ICSI_더미'] = train['변환된_특정_시술_유형'].apply(lambda x: create_dummy(x, 'ICSI'))\n",
    "train['특정_시술_유형_IVF_더미'] = train['변환된_특정_시술_유형'].apply(lambda x: create_dummy(x, 'IVF'))\n",
    "train['특정_시술_유형_AH_더미'] = train['변환된_특정_시술_유형'].apply(lambda x: create_dummy(x, 'AH'))\n",
    "train['특정_시술_유형_BLASTOCYST_더미'] = train['변환된_특정_시술_유형'].apply(lambda x: create_dummy(x, 'BLASTOCYST'))\n",
    "\n",
    "test['특정_시술_유형_ICSI_더미'] = test['변환된_특정_시술_유형'].apply(lambda x: create_dummy(x, 'ICSI'))\n",
    "test['특정_시술_유형_IVF_더미'] = test['변환된_특정_시술_유형'].apply(lambda x: create_dummy(x, 'IVF'))\n",
    "test['특정_시술_유형_AH_더미'] = test['변환된_특정_시술_유형'].apply(lambda x: create_dummy(x, 'AH'))\n",
    "test['특정_시술_유형_BLASTOCYST_더미'] = test['변환된_특정_시술_유형'].apply(lambda x: create_dummy(x, 'BLASTOCYST'))"
   ]
  },
  {
   "cell_type": "code",
   "execution_count": 30,
   "metadata": {},
   "outputs": [
    {
     "name": "stdout",
     "output_type": "stream",
     "text": [
      "Grouped by: 특정_시술_유형, 특정_시술_유형_ICSI_더미, 특정_시술_유형_IVF_더미, 특정_시술_유형_AH_더미, 특정_시술_유형_BLASTOCYST_더미\n",
      "\n",
      "                               group  '임신_성공_여부' count     ratio  Total\n",
      "0           (Generic DI, 0, 0, 0, 0)                 2  0.090909     22\n",
      "1                  (ICI, 0, 0, 0, 0)                 0  0.000000      1\n",
      "2                 (ICSI, 1, 0, 0, 0)              5062  0.275828  18352\n",
      "3   (ICSI / BLASTOCYST , 1, 0, 0, 1)                 7  0.318182     22\n",
      "4            (ICSI:ICSI, 1, 0, 0, 0)                 5  0.007610    657\n",
      "5             (ICSI:IVF, 1, 0, 0, 0)                26  0.203125    128\n",
      "6         (ICSI:Unknown, 1, 0, 0, 0)                 2  0.044444     45\n",
      "7                  (IUI, 0, 0, 0, 0)               110  0.136476    806\n",
      "8                  (IVF, 0, 1, 0, 0)              3423  0.254915  13428\n",
      "9     (IVF / BLASTOCYST, 0, 1, 0, 1)                 3  0.230769     13\n",
      "10            (IVF:ICSI, 0, 1, 0, 0)                19  0.311475     61\n",
      "11             (IVF:IVF, 0, 1, 0, 0)                 4  0.014925    268\n",
      "12         (IVF:Unknown, 0, 1, 0, 0)                 5  0.192308     26\n",
      "13                 (IVI, 0, 0, 0, 0)                 2  0.666667      3\n",
      "14             (Unknown, 0, 0, 0, 0)              1135  0.266557   4258\n"
     ]
    }
   ],
   "source": [
    "summarize_group(train, ['특정_시술_유형',\n",
    "                        '특정_시술_유형_ICSI_더미',\n",
    "                          '특정_시술_유형_IVF_더미',\n",
    "                            '특정_시술_유형_AH_더미',\n",
    "                              '특정_시술_유형_BLASTOCYST_더미'])"
   ]
  },
  {
   "cell_type": "code",
   "execution_count": 31,
   "metadata": {},
   "outputs": [],
   "source": [
    "# '특정_시술_유형' 변수 제거\n",
    "train = train.drop(columns=['특정_시술_유형'])\n",
    "test = test.drop(columns=['특정_시술_유형'])"
   ]
  },
  {
   "cell_type": "markdown",
   "metadata": {},
   "source": [
    "### 6. 배란_자극_여부"
   ]
  },
  {
   "cell_type": "markdown",
   "metadata": {},
   "source": [
    "배란 자극 치료가 사용되었는지 여부"
   ]
  },
  {
   "cell_type": "code",
   "execution_count": 32,
   "metadata": {},
   "outputs": [
    {
     "name": "stdout",
     "output_type": "stream",
     "text": [
      "\n",
      "배란_자극_여부별 임신_성공_여부 비율 및 갯수\n",
      "\n",
      "                 0         1      0     1  Total\n",
      "variable                                        \n",
      "0         0.754272  0.245728   6974  2272   9246\n",
      "1         0.738836  0.261164  21311  7533  28844\n"
     ]
    }
   ],
   "source": [
    "value_counts_ratio(train, '배란_자극_여부')"
   ]
  },
  {
   "cell_type": "markdown",
   "metadata": {},
   "source": [
    "### 7. 배란_유도_유형"
   ]
  },
  {
   "cell_type": "markdown",
   "metadata": {},
   "source": [
    "사용된 배란 유도 방법 유형"
   ]
  },
  {
   "cell_type": "code",
   "execution_count": 33,
   "metadata": {},
   "outputs": [
    {
     "name": "stdout",
     "output_type": "stream",
     "text": [
      "\n",
      "배란_유도_유형별 임신_성공_여부 비율 및 갯수\n",
      "\n",
      "                   0         1      0     1  Total\n",
      "variable                                          \n",
      "기록되지 않은 시행  0.737240  0.262760  20973  7475  28448\n",
      "알 수 없음      0.758349  0.241651   7312  2330   9642\n"
     ]
    }
   ],
   "source": [
    "value_counts_ratio(train, '배란_유도_유형')"
   ]
  },
  {
   "cell_type": "code",
   "execution_count": 34,
   "metadata": {},
   "outputs": [
    {
     "data": {
      "text/plain": [
       "기록되지 않은 시행    10068\n",
       "알 수 없음         3324\n",
       "Name: 배란_유도_유형, dtype: int64"
      ]
     },
     "execution_count": 34,
     "metadata": {},
     "output_type": "execute_result"
    }
   ],
   "source": [
    "test['배란_유도_유형'].value_counts()"
   ]
  },
  {
   "cell_type": "markdown",
   "metadata": {},
   "source": [
    "### 8. 단일_배아_이식_여부"
   ]
  },
  {
   "cell_type": "markdown",
   "metadata": {},
   "source": [
    "선택적으로 단일 배아를 이식했는지 여부"
   ]
  },
  {
   "cell_type": "code",
   "execution_count": 35,
   "metadata": {},
   "outputs": [
    {
     "name": "stdout",
     "output_type": "stream",
     "text": [
      "\n",
      "단일_배아_이식_여부별 임신_성공_여부 비율 및 갯수\n",
      "\n",
      "                 0         1      0     1  Total\n",
      "variable                                        \n",
      "0.0       0.785785  0.214215  21371  5826  27197\n",
      "1.0       0.615843  0.384157   6196  3865  10061\n"
     ]
    }
   ],
   "source": [
    "value_counts_ratio(train, '단일_배아_이식_여부')"
   ]
  },
  {
   "cell_type": "markdown",
   "metadata": {},
   "source": [
    "### 9. 착상_전_유전_검사_사용_여부"
   ]
  },
  {
   "cell_type": "markdown",
   "metadata": {},
   "source": [
    "PGS(착상 전 유전 검사)가 시행되었는지 여부"
   ]
  },
  {
   "cell_type": "code",
   "execution_count": 36,
   "metadata": {},
   "outputs": [
    {
     "name": "stdout",
     "output_type": "stream",
     "text": [
      "\n",
      "착상_전_유전_검사_사용_여부별 임신_성공_여부 비율 및 갯수\n",
      "\n",
      "                 0         1    0   1  Total\n",
      "variable                                    \n",
      "1.0       0.884444  0.115556  597  78    675\n"
     ]
    }
   ],
   "source": [
    "value_counts_ratio(train, '착상_전_유전_검사_사용_여부')"
   ]
  },
  {
   "cell_type": "code",
   "execution_count": 37,
   "metadata": {},
   "outputs": [
    {
     "name": "stdout",
     "output_type": "stream",
     "text": [
      "결측값 개수: 37415\n",
      "결측값 개수: 0\n"
     ]
    }
   ],
   "source": [
    "# 결측값 개수 확인\n",
    "print(\"결측값 개수:\", train['착상_전_유전_검사_사용_여부'].isnull().sum())\n",
    "\n",
    "# 결측값을 0으로 채우기\n",
    "train['착상_전_유전_검사_사용_여부'].fillna(0, inplace=True)\n",
    "test['착상_전_유전_검사_사용_여부'].fillna(0, inplace=True)\n",
    "\n",
    "# 결측값 개수 확인\n",
    "print(\"결측값 개수:\", train['착상_전_유전_검사_사용_여부'].isnull().sum())"
   ]
  },
  {
   "cell_type": "code",
   "execution_count": 38,
   "metadata": {},
   "outputs": [
    {
     "name": "stdout",
     "output_type": "stream",
     "text": [
      "\n",
      "착상_전_유전_검사_사용_여부별 임신_성공_여부 비율 및 갯수\n",
      "\n",
      "                 0         1      0     1  Total\n",
      "variable                                        \n",
      "0.0       0.740024  0.259976  27688  9727  37415\n",
      "1.0       0.884444  0.115556    597    78    675\n"
     ]
    }
   ],
   "source": [
    "value_counts_ratio(train, '착상_전_유전_검사_사용_여부')"
   ]
  },
  {
   "cell_type": "markdown",
   "metadata": {},
   "source": [
    "### 10. 착상_전_유전_진단_사용_여부"
   ]
  },
  {
   "cell_type": "markdown",
   "metadata": {},
   "source": [
    "PGD(착상 전 유전 진단)가 시행되었는지 여부"
   ]
  },
  {
   "cell_type": "code",
   "execution_count": 39,
   "metadata": {},
   "outputs": [
    {
     "name": "stdout",
     "output_type": "stream",
     "text": [
      "\n",
      "착상_전_유전_진단_사용_여부별 임신_성공_여부 비율 및 갯수\n",
      "\n",
      "                 0         1      0     1  Total\n",
      "variable                                        \n",
      "0.0       0.737773  0.262227  27018  9603  36621\n",
      "1.0       0.861852  0.138148    549    88    637\n"
     ]
    }
   ],
   "source": [
    "value_counts_ratio(train, '착상_전_유전_진단_사용_여부')"
   ]
  },
  {
   "cell_type": "code",
   "execution_count": 40,
   "metadata": {},
   "outputs": [
    {
     "name": "stdout",
     "output_type": "stream",
     "text": [
      "Grouped by: 착상_전_유전_진단_사용_여부, 착상_전_유전_검사_사용_여부\n",
      "\n",
      "        group  '임신_성공_여부' count     ratio  Total\n",
      "0  (0.0, 0.0)              9526  0.264957  35953\n",
      "1  (0.0, 1.0)                77  0.115269    668\n",
      "2  (1.0, 0.0)                87  0.138095    630\n",
      "3  (1.0, 1.0)                 1  0.142857      7\n"
     ]
    }
   ],
   "source": [
    "summarize_group(train, ['착상_전_유전_진단_사용_여부', '착상_전_유전_검사_사용_여부'])"
   ]
  },
  {
   "cell_type": "markdown",
   "metadata": {},
   "source": [
    "### 11. 남성_주_불임_원인"
   ]
  },
  {
   "cell_type": "markdown",
   "metadata": {},
   "source": [
    "남성의 주요 불임 원인 여부"
   ]
  },
  {
   "cell_type": "code",
   "execution_count": 41,
   "metadata": {},
   "outputs": [
    {
     "name": "stdout",
     "output_type": "stream",
     "text": [
      "\n",
      "남성_주_불임_원인별 임신_성공_여부 비율 및 갯수\n",
      "\n",
      "                 0         1      0     1  Total\n",
      "variable                                        \n",
      "0         0.742272  0.257728  28118  9763  37881\n",
      "1         0.799043  0.200957    167    42    209\n"
     ]
    }
   ],
   "source": [
    "value_counts_ratio(train, '남성_주_불임_원인')"
   ]
  },
  {
   "cell_type": "markdown",
   "metadata": {},
   "source": [
    "### 12. 남성_부_불임_원인"
   ]
  },
  {
   "cell_type": "markdown",
   "metadata": {},
   "source": [
    "남성의 부차적 불임 원인 여부"
   ]
  },
  {
   "cell_type": "code",
   "execution_count": 42,
   "metadata": {},
   "outputs": [
    {
     "name": "stdout",
     "output_type": "stream",
     "text": [
      "\n",
      "남성_부_불임_원인별 임신_성공_여부 비율 및 갯수\n",
      "\n",
      "                 0         1      0     1  Total\n",
      "variable                                        \n",
      "0         0.742518  0.257482  28209  9782  37991\n",
      "1         0.767677  0.232323     76    23     99\n"
     ]
    }
   ],
   "source": [
    "value_counts_ratio(train, '남성_부_불임_원인')"
   ]
  },
  {
   "cell_type": "code",
   "execution_count": 43,
   "metadata": {},
   "outputs": [
    {
     "name": "stdout",
     "output_type": "stream",
     "text": [
      "Grouped by: 남성_주_불임_원인, 남성_부_불임_원인\n",
      "\n",
      "    group  '임신_성공_여부' count     ratio  Total\n",
      "0  (0, 0)              9740  0.257795  37782\n",
      "1  (0, 1)                23  0.232323     99\n",
      "2  (1, 0)                42  0.200957    209\n"
     ]
    }
   ],
   "source": [
    "summarize_group(train, ['남성_주_불임_원인', '남성_부_불임_원인'])"
   ]
  },
  {
   "cell_type": "markdown",
   "metadata": {},
   "source": [
    "### 13. 여성_주_불임_원인"
   ]
  },
  {
   "cell_type": "markdown",
   "metadata": {},
   "source": [
    "여성의 주요 불임 원인 여부"
   ]
  },
  {
   "cell_type": "code",
   "execution_count": 44,
   "metadata": {},
   "outputs": [
    {
     "name": "stdout",
     "output_type": "stream",
     "text": [
      "\n",
      "여성_주_불임_원인별 임신_성공_여부 비율 및 갯수\n",
      "\n",
      "                 0         1      0     1  Total\n",
      "variable                                        \n",
      "0         0.742287  0.257713  28103  9757  37860\n",
      "1         0.791304  0.208696    182    48    230\n"
     ]
    }
   ],
   "source": [
    "value_counts_ratio(train, '여성_주_불임_원인')"
   ]
  },
  {
   "cell_type": "markdown",
   "metadata": {},
   "source": [
    "### 14. 여성_부_불임_원인"
   ]
  },
  {
   "cell_type": "markdown",
   "metadata": {},
   "source": [
    "여성의 부차적 불임 원인 여부"
   ]
  },
  {
   "cell_type": "code",
   "execution_count": 45,
   "metadata": {},
   "outputs": [
    {
     "name": "stdout",
     "output_type": "stream",
     "text": [
      "\n",
      "여성_부_불임_원인별 임신_성공_여부 비율 및 갯수\n",
      "\n",
      "                 0         1      0     1  Total\n",
      "variable                                        \n",
      "0         0.742479  0.257521  28209  9784  37993\n",
      "1         0.783505  0.216495     76    21     97\n"
     ]
    }
   ],
   "source": [
    "value_counts_ratio(train, '여성_부_불임_원인')"
   ]
  },
  {
   "cell_type": "code",
   "execution_count": 46,
   "metadata": {},
   "outputs": [
    {
     "name": "stdout",
     "output_type": "stream",
     "text": [
      "Grouped by: 여성_주_불임_원인, 여성_부_불임_원인\n",
      "\n",
      "    group  '임신_성공_여부' count     ratio  Total\n",
      "0  (0, 0)              9736  0.257818  37763\n",
      "1  (0, 1)                21  0.216495     97\n",
      "2  (1, 0)                48  0.208696    230\n"
     ]
    }
   ],
   "source": [
    "summarize_group(train, ['여성_주_불임_원인', '여성_부_불임_원인'])"
   ]
  },
  {
   "cell_type": "code",
   "execution_count": 47,
   "metadata": {},
   "outputs": [
    {
     "name": "stdout",
     "output_type": "stream",
     "text": [
      "Grouped by: 남성_주_불임_원인, 남성_부_불임_원인, 여성_주_불임_원인, 여성_부_불임_원인\n",
      "\n",
      "          group  '임신_성공_여부' count     ratio  Total\n",
      "0  (0, 0, 0, 0)              9736  0.257818  37763\n",
      "1  (0, 0, 0, 1)                 1  0.200000      5\n",
      "2  (0, 0, 1, 0)                 3  0.214286     14\n",
      "3  (0, 1, 0, 1)                13  0.200000     65\n",
      "4  (0, 1, 1, 0)                10  0.294118     34\n",
      "5  (1, 0, 0, 1)                 7  0.259259     27\n",
      "6  (1, 0, 1, 0)                35  0.192308    182\n"
     ]
    }
   ],
   "source": [
    "summarize_group(train, ['남성_주_불임_원인', '남성_부_불임_원인', '여성_주_불임_원인', '여성_부_불임_원인'])"
   ]
  },
  {
   "cell_type": "markdown",
   "metadata": {},
   "source": [
    "### 15. 부부_주_불임_원인"
   ]
  },
  {
   "cell_type": "markdown",
   "metadata": {},
   "source": [
    "부부의 주요 불임 원인 여부"
   ]
  },
  {
   "cell_type": "code",
   "execution_count": 48,
   "metadata": {},
   "outputs": [
    {
     "name": "stdout",
     "output_type": "stream",
     "text": [
      "\n",
      "부부_주_불임_원인별 임신_성공_여부 비율 및 갯수\n",
      "\n",
      "                 0         1      0     1  Total\n",
      "variable                                        \n",
      "0         0.742280  0.257720  28099  9756  37855\n",
      "1         0.791489  0.208511    186    49    235\n"
     ]
    }
   ],
   "source": [
    "value_counts_ratio(train, '부부_주_불임_원인')"
   ]
  },
  {
   "cell_type": "markdown",
   "metadata": {},
   "source": [
    "### 16. 부부_부_불임_원인"
   ]
  },
  {
   "cell_type": "markdown",
   "metadata": {},
   "source": [
    "부부의 부차적 불임 원인 여부"
   ]
  },
  {
   "cell_type": "code",
   "execution_count": 49,
   "metadata": {},
   "outputs": [
    {
     "name": "stdout",
     "output_type": "stream",
     "text": [
      "\n",
      "부부_부_불임_원인별 임신_성공_여부 비율 및 갯수\n",
      "\n",
      "                 0         1      0     1  Total\n",
      "variable                                        \n",
      "0         0.742523  0.257477  28227  9788  38015\n",
      "1         0.773333  0.226667     58    17     75\n"
     ]
    }
   ],
   "source": [
    "value_counts_ratio(train, '부부_부_불임_원인')"
   ]
  },
  {
   "cell_type": "code",
   "execution_count": 50,
   "metadata": {},
   "outputs": [
    {
     "name": "stdout",
     "output_type": "stream",
     "text": [
      "Grouped by: 부부_주_불임_원인, 부부_부_불임_원인\n",
      "\n",
      "    group  '임신_성공_여부' count     ratio  Total\n",
      "0  (0, 0)              9739  0.257782  37780\n",
      "1  (0, 1)                17  0.226667     75\n",
      "2  (1, 0)                49  0.208511    235\n"
     ]
    }
   ],
   "source": [
    "summarize_group(train, ['부부_주_불임_원인', '부부_부_불임_원인'])"
   ]
  },
  {
   "cell_type": "code",
   "execution_count": 51,
   "metadata": {},
   "outputs": [
    {
     "name": "stdout",
     "output_type": "stream",
     "text": [
      "Grouped by: 남성_주_불임_원인, 남성_부_불임_원인, 여성_주_불임_원인, 여성_부_불임_원인, 부부_주_불임_원인, 부부_부_불임_원인\n",
      "\n",
      "                 group  '임신_성공_여부' count     ratio  Total\n",
      "0   (0, 0, 0, 0, 0, 0)              9736  0.257818  37763\n",
      "1   (0, 0, 0, 1, 0, 0)                 1  0.250000      4\n",
      "2   (0, 0, 0, 1, 0, 1)                 0  0.000000      1\n",
      "3   (0, 0, 1, 0, 0, 0)                 2  0.200000     10\n",
      "4   (0, 0, 1, 0, 1, 0)                 1  0.250000      4\n",
      "5   (0, 1, 0, 1, 0, 1)                12  0.200000     60\n",
      "6   (0, 1, 0, 1, 1, 0)                 1  0.200000      5\n",
      "7   (0, 1, 1, 0, 0, 1)                 5  0.384615     13\n",
      "8   (0, 1, 1, 0, 1, 0)                 5  0.238095     21\n",
      "9   (1, 0, 0, 1, 0, 0)                 0  0.000000      1\n",
      "10  (1, 0, 0, 1, 1, 0)                 7  0.269231     26\n",
      "11  (1, 0, 1, 0, 0, 0)                 0  0.000000      2\n",
      "12  (1, 0, 1, 0, 0, 1)                 0  0.000000      1\n",
      "13  (1, 0, 1, 0, 1, 0)                35  0.195531    179\n"
     ]
    }
   ],
   "source": [
    "summarize_group(train, ['남성_주_불임_원인', '남성_부_불임_원인'\n",
    "                        , '여성_주_불임_원인', '여성_부_불임_원인'\n",
    "                        , '부부_주_불임_원인', '부부_부_불임_원인'])"
   ]
  },
  {
   "cell_type": "markdown",
   "metadata": {},
   "source": [
    "### 17. 불명확_불임_원인"
   ]
  },
  {
   "cell_type": "markdown",
   "metadata": {},
   "source": [
    "불명의 원인으로 인한 불임 여부"
   ]
  },
  {
   "cell_type": "code",
   "execution_count": 52,
   "metadata": {},
   "outputs": [
    {
     "name": "stdout",
     "output_type": "stream",
     "text": [
      "\n",
      "불명확_불임_원인별 임신_성공_여부 비율 및 갯수\n",
      "\n",
      "                 0         1      0     1  Total\n",
      "variable                                        \n",
      "0         0.742079  0.257921  21009  7302  28311\n",
      "1         0.744043  0.255957   7276  2503   9779\n"
     ]
    }
   ],
   "source": [
    "value_counts_ratio(train, '불명확_불임_원인')"
   ]
  },
  {
   "cell_type": "markdown",
   "metadata": {},
   "source": [
    "### 18. 불임_원인_-_난관_질환"
   ]
  },
  {
   "cell_type": "markdown",
   "metadata": {},
   "source": [
    "난관 이상으로 인한 불임 여부"
   ]
  },
  {
   "cell_type": "code",
   "execution_count": 53,
   "metadata": {},
   "outputs": [
    {
     "name": "stdout",
     "output_type": "stream",
     "text": [
      "\n",
      "불임_원인_-_난관_질환별 임신_성공_여부 비율 및 갯수\n",
      "\n",
      "                 0         1      0     1  Total\n",
      "variable                                        \n",
      "0         0.743792  0.256208  24830  8553  33383\n",
      "1         0.734013  0.265987   3455  1252   4707\n"
     ]
    }
   ],
   "source": [
    "value_counts_ratio(train, '불임_원인_-_난관_질환')"
   ]
  },
  {
   "cell_type": "markdown",
   "metadata": {},
   "source": [
    "### 19. 불임_원인_-_남성_요인"
   ]
  },
  {
   "cell_type": "markdown",
   "metadata": {},
   "source": [
    "남성 요인으로 인한 불임 여부"
   ]
  },
  {
   "cell_type": "code",
   "execution_count": 54,
   "metadata": {},
   "outputs": [
    {
     "name": "stdout",
     "output_type": "stream",
     "text": [
      "\n",
      "불임_원인_-_남성_요인별 임신_성공_여부 비율 및 갯수\n",
      "\n",
      "                 0         1      0     1  Total\n",
      "variable                                        \n",
      "0         0.761364  0.238636  18626  5838  24464\n",
      "1         0.708865  0.291135   9659  3967  13626\n"
     ]
    }
   ],
   "source": [
    "value_counts_ratio(train, '불임_원인_-_남성_요인')"
   ]
  },
  {
   "cell_type": "markdown",
   "metadata": {},
   "source": [
    "### 20. 불임_원인_-_배란_장애"
   ]
  },
  {
   "cell_type": "markdown",
   "metadata": {},
   "source": [
    "배란 장애로 인한 불임 여부"
   ]
  },
  {
   "cell_type": "code",
   "execution_count": 55,
   "metadata": {},
   "outputs": [
    {
     "name": "stdout",
     "output_type": "stream",
     "text": [
      "\n",
      "불임_원인_-_배란_장애별 임신_성공_여부 비율 및 갯수\n",
      "\n",
      "                 0         1      0     1  Total\n",
      "variable                                        \n",
      "0         0.748456  0.251544  24836  8347  33183\n",
      "1         0.702873  0.297127   3449  1458   4907\n"
     ]
    }
   ],
   "source": [
    "value_counts_ratio(train, '불임_원인_-_배란_장애')"
   ]
  },
  {
   "cell_type": "markdown",
   "metadata": {},
   "source": [
    "### 21. 불임_원인_-_여성_요인"
   ]
  },
  {
   "cell_type": "markdown",
   "metadata": {},
   "source": [
    "여성 요인으로 인한 불임 여부"
   ]
  },
  {
   "cell_type": "code",
   "execution_count": 56,
   "metadata": {},
   "outputs": [
    {
     "name": "stdout",
     "output_type": "stream",
     "text": [
      "\n",
      "불임_원인_-_여성_요인별 임신_성공_여부 비율 및 갯수\n",
      "\n",
      "                 0         1      0     1  Total\n",
      "variable                                        \n",
      "0         0.742583  0.257417  28285  9805  38090\n"
     ]
    }
   ],
   "source": [
    "value_counts_ratio(train, '불임_원인_-_여성_요인')"
   ]
  },
  {
   "cell_type": "code",
   "execution_count": 57,
   "metadata": {},
   "outputs": [
    {
     "data": {
      "text/plain": [
       "0    13392\n",
       "Name: 불임_원인_-_여성_요인, dtype: int64"
      ]
     },
     "execution_count": 57,
     "metadata": {},
     "output_type": "execute_result"
    }
   ],
   "source": [
    "test['불임_원인_-_여성_요인'].value_counts()"
   ]
  },
  {
   "cell_type": "code",
   "execution_count": 58,
   "metadata": {},
   "outputs": [],
   "source": [
    "# '불임_원인_-_여성_요인' 변수 제거\n",
    "train = train.drop(columns=['불임_원인_-_여성_요인'])\n",
    "test = test.drop(columns=['불임_원인_-_여성_요인'])"
   ]
  },
  {
   "cell_type": "markdown",
   "metadata": {},
   "source": [
    "### 22. 불임_원인_-_자궁경부_문제"
   ]
  },
  {
   "cell_type": "markdown",
   "metadata": {},
   "source": [
    "자궁경부 이상으로 인한 불임 여부"
   ]
  },
  {
   "cell_type": "code",
   "execution_count": 59,
   "metadata": {},
   "outputs": [
    {
     "name": "stdout",
     "output_type": "stream",
     "text": [
      "\n",
      "불임_원인_-_자궁경부_문제별 임신_성공_여부 비율 및 갯수\n",
      "\n",
      "                0        1        0       1  Total\n",
      "variable                                          \n",
      "0         0.74257  0.25743  28283.0  9805.0  38088\n",
      "1         1.00000  0.00000      2.0     0.0      2\n"
     ]
    }
   ],
   "source": [
    "value_counts_ratio(train, '불임_원인_-_자궁경부_문제')"
   ]
  },
  {
   "cell_type": "markdown",
   "metadata": {},
   "source": [
    "### 23. 불임_원인_-_자궁내막증"
   ]
  },
  {
   "cell_type": "markdown",
   "metadata": {},
   "source": [
    "자궁내막증으로 인한 불임 여부"
   ]
  },
  {
   "cell_type": "code",
   "execution_count": 60,
   "metadata": {},
   "outputs": [
    {
     "name": "stdout",
     "output_type": "stream",
     "text": [
      "\n",
      "불임_원인_-_자궁내막증별 임신_성공_여부 비율 및 갯수\n",
      "\n",
      "                 0         1      0     1  Total\n",
      "variable                                        \n",
      "0         0.742089  0.257911  26313  9145  35458\n",
      "1         0.749240  0.250760   1972   660   2632\n"
     ]
    }
   ],
   "source": [
    "value_counts_ratio(train, '불임_원인_-_자궁내막증')"
   ]
  },
  {
   "cell_type": "markdown",
   "metadata": {},
   "source": [
    "### 24. 불임_원인_-_정자_농도"
   ]
  },
  {
   "cell_type": "markdown",
   "metadata": {},
   "source": [
    "파트너의 정자 농도 문제 여부"
   ]
  },
  {
   "cell_type": "code",
   "execution_count": 61,
   "metadata": {},
   "outputs": [
    {
     "name": "stdout",
     "output_type": "stream",
     "text": [
      "\n",
      "불임_원인_-_정자_농도별 임신_성공_여부 비율 및 갯수\n",
      "\n",
      "                 0         1      0     1  Total\n",
      "variable                                        \n",
      "0         0.742635  0.257365  28284  9802  38086\n",
      "1         0.250000  0.750000      1     3      4\n"
     ]
    }
   ],
   "source": [
    "value_counts_ratio(train, '불임_원인_-_정자_농도')"
   ]
  },
  {
   "cell_type": "markdown",
   "metadata": {},
   "source": [
    "### 25. 불임_원인_-_정자_면역학적_요인"
   ]
  },
  {
   "cell_type": "markdown",
   "metadata": {},
   "source": [
    "파트너의 정자 면역 관련 문제 여부"
   ]
  },
  {
   "cell_type": "code",
   "execution_count": 62,
   "metadata": {},
   "outputs": [
    {
     "name": "stdout",
     "output_type": "stream",
     "text": [
      "\n",
      "불임_원인_-_정자_면역학적_요인별 임신_성공_여부 비율 및 갯수\n",
      "\n",
      "                 0         1      0     1  Total\n",
      "variable                                        \n",
      "0         0.742583  0.257417  28285  9805  38090\n"
     ]
    }
   ],
   "source": [
    "value_counts_ratio(train, '불임_원인_-_정자_면역학적_요인')"
   ]
  },
  {
   "cell_type": "code",
   "execution_count": 63,
   "metadata": {},
   "outputs": [
    {
     "data": {
      "text/plain": [
       "0    13392\n",
       "Name: 불임_원인_-_정자_면역학적_요인, dtype: int64"
      ]
     },
     "execution_count": 63,
     "metadata": {},
     "output_type": "execute_result"
    }
   ],
   "source": [
    "test['불임_원인_-_정자_면역학적_요인'].value_counts()"
   ]
  },
  {
   "cell_type": "code",
   "execution_count": 64,
   "metadata": {},
   "outputs": [],
   "source": [
    "# '불임_원인_-_정자_면역학적_요인' 변수 제거\n",
    "train = train.drop(columns=['불임_원인_-_정자_면역학적_요인'])\n",
    "test = test.drop(columns=['불임_원인_-_정자_면역학적_요인'])"
   ]
  },
  {
   "cell_type": "markdown",
   "metadata": {},
   "source": [
    "### 26. 불임_원인_-_정자_운동성"
   ]
  },
  {
   "cell_type": "markdown",
   "metadata": {},
   "source": [
    "파트너의 정자 운동성 문제 여부"
   ]
  },
  {
   "cell_type": "code",
   "execution_count": 65,
   "metadata": {},
   "outputs": [
    {
     "name": "stdout",
     "output_type": "stream",
     "text": [
      "\n",
      "불임_원인_-_정자_운동성별 임신_성공_여부 비율 및 갯수\n",
      "\n",
      "                 0         1      0     1  Total\n",
      "variable                                        \n",
      "0         0.742583  0.257417  28285  9805  38090\n"
     ]
    }
   ],
   "source": [
    "value_counts_ratio(train, '불임_원인_-_정자_운동성')"
   ]
  },
  {
   "cell_type": "code",
   "execution_count": 66,
   "metadata": {},
   "outputs": [],
   "source": [
    "# '불임_원인_-_정자_운동성' 변수 제거\n",
    "train = train.drop(columns=['불임_원인_-_정자_운동성'])\n",
    "test = test.drop(columns=['불임_원인_-_정자_운동성'])"
   ]
  },
  {
   "cell_type": "markdown",
   "metadata": {},
   "source": [
    "### 27. 불임_원인_-_정자_형태"
   ]
  },
  {
   "cell_type": "markdown",
   "metadata": {},
   "source": [
    "파트너의 정자 형태 문제 여부"
   ]
  },
  {
   "cell_type": "code",
   "execution_count": 67,
   "metadata": {},
   "outputs": [
    {
     "name": "stdout",
     "output_type": "stream",
     "text": [
      "\n",
      "불임_원인_-_정자_형태별 임신_성공_여부 비율 및 갯수\n",
      "\n",
      "                 0         1      0     1  Total\n",
      "variable                                        \n",
      "0         0.742602  0.257398  28282  9803  38085\n",
      "1         0.600000  0.400000      3     2      5\n"
     ]
    }
   ],
   "source": [
    "value_counts_ratio(train, '불임_원인_-_정자_형태')"
   ]
  },
  {
   "cell_type": "markdown",
   "metadata": {},
   "source": [
    "### 28. 배아_생성_주요_이유"
   ]
  },
  {
   "cell_type": "markdown",
   "metadata": {},
   "source": [
    "배아 생성의 주된 목적(시술, 보관 등)"
   ]
  },
  {
   "cell_type": "code",
   "execution_count": 68,
   "metadata": {},
   "outputs": [
    {
     "name": "stdout",
     "output_type": "stream",
     "text": [
      "\n",
      "배아_생성_주요_이유별 임신_성공_여부 비율 및 갯수\n",
      "\n",
      "                            0         1        0       1  Total\n",
      "variable                                                       \n",
      "기증용                  1.000000  0.000000    211.0     0.0    211\n",
      "기증용, 난자 저장용          1.000000  0.000000     12.0     0.0     12\n",
      "기증용, 배아 저장용          1.000000  0.000000     38.0     0.0     38\n",
      "기증용, 배아 저장용, 현재 시술용  0.666667  0.333333      2.0     1.0      3\n",
      "기증용, 현재 시술용          0.651111  0.348889    293.0   157.0    450\n",
      "난자 저장용               1.000000  0.000000    438.0     0.0    438\n",
      "난자 저장용, 배아 저장용, 연구용  1.000000  0.000000      1.0     0.0      1\n",
      "배아 저장용               0.999291  0.000709   2818.0     2.0   2820\n",
      "배아 저장용, 현재 시술용       0.538462  0.461538      7.0     6.0     13\n",
      "현재 시술용               0.713723  0.286277  23747.0  9525.0  33272\n"
     ]
    }
   ],
   "source": [
    "value_counts_ratio(train, '배아_생성_주요_이유')"
   ]
  },
  {
   "cell_type": "code",
   "execution_count": 69,
   "metadata": {},
   "outputs": [],
   "source": [
    "# '연구용'이라는 값이 포함된 행 삭제\n",
    "train = train[~train['배아_생성_주요_이유'].str.contains('연구용', na=False)]\n",
    "# test = test[~test['배아_생성_주요_이유'].str.contains('연구용', na=False)]"
   ]
  },
  {
   "cell_type": "code",
   "execution_count": 70,
   "metadata": {},
   "outputs": [
    {
     "name": "stdout",
     "output_type": "stream",
     "text": [
      "\n",
      "배아_생성_주요_이유별 임신_성공_여부 비율 및 갯수\n",
      "\n",
      "                            0         1        0       1  Total\n",
      "variable                                                       \n",
      "기증용                  1.000000  0.000000    211.0     0.0    211\n",
      "기증용, 난자 저장용          1.000000  0.000000     12.0     0.0     12\n",
      "기증용, 배아 저장용          1.000000  0.000000     38.0     0.0     38\n",
      "기증용, 배아 저장용, 현재 시술용  0.666667  0.333333      2.0     1.0      3\n",
      "기증용, 현재 시술용          0.651111  0.348889    293.0   157.0    450\n",
      "난자 저장용               1.000000  0.000000    438.0     0.0    438\n",
      "배아 저장용               0.999291  0.000709   2818.0     2.0   2820\n",
      "배아 저장용, 현재 시술용       0.538462  0.461538      7.0     6.0     13\n",
      "현재 시술용               0.713723  0.286277  23747.0  9525.0  33272\n"
     ]
    }
   ],
   "source": [
    "value_counts_ratio(train, '배아_생성_주요_이유')"
   ]
  },
  {
   "cell_type": "code",
   "execution_count": 71,
   "metadata": {},
   "outputs": [
    {
     "data": {
      "text/plain": [
       "현재 시술용            11713\n",
       "배아 저장용              987\n",
       "기증용, 현재 시술용         165\n",
       "난자 저장용              151\n",
       "기증용                  69\n",
       "기증용, 배아 저장용          17\n",
       "기증용, 난자 저장용           3\n",
       "배아 저장용, 현재 시술용        2\n",
       "난자 저장용, 배아 저장용        1\n",
       "Name: 배아_생성_주요_이유, dtype: int64"
      ]
     },
     "execution_count": 71,
     "metadata": {},
     "output_type": "execute_result"
    }
   ],
   "source": [
    "test['배아_생성_주요_이유'].value_counts()"
   ]
  },
  {
   "cell_type": "code",
   "execution_count": 72,
   "metadata": {},
   "outputs": [
    {
     "name": "stdout",
     "output_type": "stream",
     "text": [
      "결측값 개수: 832\n",
      "결측값 개수: 0\n"
     ]
    }
   ],
   "source": [
    "print(\"결측값 개수:\", train['배아_생성_주요_이유'].isnull().sum())\n",
    "\n",
    "train['배아_생성_주요_이유'].fillna('unknown', inplace=True)\n",
    "test['배아_생성_주요_이유'].fillna('unknown', inplace=True)\n",
    "\n",
    "print(\"결측값 개수:\", train['배아_생성_주요_이유'].isnull().sum())"
   ]
  },
  {
   "cell_type": "code",
   "execution_count": 73,
   "metadata": {},
   "outputs": [],
   "source": [
    "# '현재 시술용' 키워드가 포함된 경우 1, 그렇지 않은 경우 0을 부여하는 더미 변수 생성\n",
    "train['배아_생성_주요_이유_현재시술용'] = train['배아_생성_주요_이유'].str.contains('현재 시술용').astype(int)\n",
    "test['배아_생성_주요_이유_현재시술용'] = test['배아_생성_주요_이유'].str.contains('현재 시술용').astype(int)"
   ]
  },
  {
   "cell_type": "code",
   "execution_count": 74,
   "metadata": {},
   "outputs": [],
   "source": [
    "# '기증용' 키워드가 포함된 경우 1, 그렇지 않은 경우 0을 부여하는 더미 변수 생성\n",
    "train['배아_생성_주요_이유_기증용'] = train['배아_생성_주요_이유'].str.contains('기증용').astype(int)\n",
    "test['배아_생성_주요_이유_기증용'] = test['배아_생성_주요_이유'].str.contains('기증용').astype(int)"
   ]
  },
  {
   "cell_type": "code",
   "execution_count": 75,
   "metadata": {},
   "outputs": [],
   "source": [
    "# '난자 저장용' 키워드가 포함된 경우 1, 그렇지 않은 경우 0을 부여하는 더미 변수 생성\n",
    "train['배아_생성_주요_이유_난자저장용'] = train['배아_생성_주요_이유'].str.contains('난자 저장용').astype(int)\n",
    "test['배아_생성_주요_이유_난자저장용'] = test['배아_생성_주요_이유'].str.contains('난자 저장용').astype(int)"
   ]
  },
  {
   "cell_type": "code",
   "execution_count": 76,
   "metadata": {},
   "outputs": [],
   "source": [
    "# '배아 저장용' 키워드가 포함된 경우 1, 그렇지 않은 경우 0을 부여하는 더미 변수 생성\n",
    "train['배아_생성_주요_이유_배아저장용'] = train['배아_생성_주요_이유'].str.contains('배아 저장용').astype(int)\n",
    "test['배아_생성_주요_이유_배아저장용'] = test['배아_생성_주요_이유'].str.contains('배아 저장용').astype(int)"
   ]
  },
  {
   "cell_type": "code",
   "execution_count": 77,
   "metadata": {},
   "outputs": [
    {
     "name": "stdout",
     "output_type": "stream",
     "text": [
      "Grouped by: 배아_생성_주요_이유_현재시술용, 배아_생성_주요_이유_기증용, 배아_생성_주요_이유_난자저장용, 배아_생성_주요_이유_배아저장용\n",
      "\n",
      "          group  '임신_성공_여부' count     ratio  Total\n",
      "0  (0, 0, 0, 0)               114  0.137019    832\n",
      "1  (0, 0, 0, 1)                 2  0.000709   2820\n",
      "2  (0, 0, 1, 0)                 0  0.000000    438\n",
      "3  (0, 1, 0, 0)                 0  0.000000    211\n",
      "4  (0, 1, 0, 1)                 0  0.000000     38\n",
      "5  (0, 1, 1, 0)                 0  0.000000     12\n",
      "6  (1, 0, 0, 0)              9525  0.286277  33272\n",
      "7  (1, 0, 0, 1)                 6  0.461538     13\n",
      "8  (1, 1, 0, 0)               157  0.348889    450\n",
      "9  (1, 1, 0, 1)                 1  0.333333      3\n"
     ]
    }
   ],
   "source": [
    "summarize_group(train, [\n",
    "    # '배아_생성_주요_이유',\n",
    "    '배아_생성_주요_이유_현재시술용',\n",
    "    '배아_생성_주요_이유_기증용',\n",
    "    '배아_생성_주요_이유_난자저장용',\n",
    "    '배아_생성_주요_이유_배아저장용'\n",
    "                        ])"
   ]
  },
  {
   "cell_type": "code",
   "execution_count": 78,
   "metadata": {},
   "outputs": [
    {
     "name": "stdout",
     "output_type": "stream",
     "text": [
      "\n",
      "배아_생성_주요_이유_현재시술용별 임신_성공_여부 비율 및 갯수\n",
      "\n",
      "                 0         1      0     1  Total\n",
      "variable                                        \n",
      "0         0.973339  0.026661   4235   116   4351\n",
      "1         0.712816  0.287184  24049  9689  33738\n"
     ]
    }
   ],
   "source": [
    "value_counts_ratio(train, '배아_생성_주요_이유_현재시술용')"
   ]
  },
  {
   "cell_type": "code",
   "execution_count": 79,
   "metadata": {},
   "outputs": [],
   "source": [
    "# # 변수 제거\n",
    "# train = train.drop(columns=['배아_생성_주요_이유'])\n",
    "# test = test.drop(columns=['배아_생성_주요_이유'])"
   ]
  },
  {
   "cell_type": "markdown",
   "metadata": {},
   "source": [
    "### 29. 총_시술_횟수"
   ]
  },
  {
   "cell_type": "markdown",
   "metadata": {},
   "source": [
    "IVF 및 DI 포함한 전체 시술 횟수"
   ]
  },
  {
   "cell_type": "code",
   "execution_count": 80,
   "metadata": {},
   "outputs": [
    {
     "name": "stdout",
     "output_type": "stream",
     "text": [
      "\n",
      "총_시술_횟수별 임신_성공_여부 비율 및 갯수\n",
      "\n",
      "                 0         1      0     1  Total\n",
      "variable                                        \n",
      "0회        0.714796  0.285204  10802  4310  15112\n",
      "1회        0.751605  0.248395   6088  2012   8100\n",
      "2회        0.754421  0.245579   4181  1361   5542\n",
      "3회        0.759887  0.240113   2690   850   3540\n",
      "4회        0.773022  0.226978   1788   525   2313\n",
      "5회        0.763253  0.236747   1051   326   1377\n",
      "6회 이상     0.800000  0.200000   1684   421   2105\n"
     ]
    }
   ],
   "source": [
    "value_counts_ratio(train, '총_시술_횟수')"
   ]
  },
  {
   "cell_type": "code",
   "execution_count": 81,
   "metadata": {},
   "outputs": [
    {
     "data": {
      "text/plain": [
       "0회       5290\n",
       "1회       2835\n",
       "2회       1960\n",
       "3회       1264\n",
       "4회        794\n",
       "6회 이상     762\n",
       "5회        487\n",
       "Name: 총_시술_횟수, dtype: int64"
      ]
     },
     "execution_count": 81,
     "metadata": {},
     "output_type": "execute_result"
    }
   ],
   "source": [
    "test['총_시술_횟수'].value_counts()"
   ]
  },
  {
   "cell_type": "code",
   "execution_count": 82,
   "metadata": {},
   "outputs": [
    {
     "name": "stdout",
     "output_type": "stream",
     "text": [
      "\n",
      "총_시술_횟수별 임신_성공_여부 비율 및 갯수\n",
      "\n",
      "                 0         1      0     1  Total\n",
      "variable                                        \n",
      "0         0.714796  0.285204  10802  4310  15112\n",
      "1         0.751605  0.248395   6088  2012   8100\n",
      "2         0.754421  0.245579   4181  1361   5542\n",
      "3         0.759887  0.240113   2690   850   3540\n",
      "4         0.773022  0.226978   1788   525   2313\n",
      "5         0.763253  0.236747   1051   326   1377\n",
      "6         0.800000  0.200000   1684   421   2105\n"
     ]
    }
   ],
   "source": [
    "# 숫자 매핑\n",
    "mapping = {\n",
    "    '0회': 0,\n",
    "    '1회': 1,\n",
    "    '2회': 2,\n",
    "    '3회': 3,\n",
    "    '4회': 4,\n",
    "    '5회': 5,\n",
    "    '6회 이상': 6\n",
    "}\n",
    "\n",
    "# 숫자로 변환\n",
    "train['총_시술_횟수'] = train['총_시술_횟수'].map(mapping)\n",
    "test['총_시술_횟수'] = test['총_시술_횟수'].map(mapping)\n",
    "\n",
    "value_counts_ratio(train, '총_시술_횟수')"
   ]
  },
  {
   "cell_type": "markdown",
   "metadata": {},
   "source": [
    "### 30. 클리닉_내_총_시술_횟수"
   ]
  },
  {
   "cell_type": "markdown",
   "metadata": {},
   "source": [
    "특정 클리닉에서 받은 IVF 및 DI 시술 횟수"
   ]
  },
  {
   "cell_type": "code",
   "execution_count": 83,
   "metadata": {},
   "outputs": [
    {
     "name": "stdout",
     "output_type": "stream",
     "text": [
      "\n",
      "클리닉_내_총_시술_횟수별 임신_성공_여부 비율 및 갯수\n",
      "\n",
      "                 0         1      0     1  Total\n",
      "variable                                        \n",
      "0회        0.721841  0.278159  13375  5154  18529\n",
      "1회        0.755371  0.244629   6469  2095   8564\n",
      "2회        0.763450  0.236550   3789  1174   4963\n",
      "3회        0.757520  0.242480   2065   661   2726\n",
      "4회        0.784861  0.215139   1182   324   1506\n",
      "5회        0.771753  0.228247    612   181    793\n",
      "6회 이상     0.785714  0.214286    792   216   1008\n"
     ]
    }
   ],
   "source": [
    "value_counts_ratio(train, '클리닉_내_총_시술_횟수')"
   ]
  },
  {
   "cell_type": "code",
   "execution_count": 84,
   "metadata": {},
   "outputs": [
    {
     "name": "stdout",
     "output_type": "stream",
     "text": [
      "\n",
      "클리닉_내_총_시술_횟수별 임신_성공_여부 비율 및 갯수\n",
      "\n",
      "                 0         1      0     1  Total\n",
      "variable                                        \n",
      "0         0.721841  0.278159  13375  5154  18529\n",
      "1         0.755371  0.244629   6469  2095   8564\n",
      "2         0.763450  0.236550   3789  1174   4963\n",
      "3         0.757520  0.242480   2065   661   2726\n",
      "4         0.784861  0.215139   1182   324   1506\n",
      "5         0.771753  0.228247    612   181    793\n",
      "6         0.785714  0.214286    792   216   1008\n"
     ]
    }
   ],
   "source": [
    "# 숫자 매핑\n",
    "mapping = {\n",
    "    '0회': 0,\n",
    "    '1회': 1,\n",
    "    '2회': 2,\n",
    "    '3회': 3,\n",
    "    '4회': 4,\n",
    "    '5회': 5,\n",
    "    '6회 이상': 6\n",
    "}\n",
    "\n",
    "# 숫자로 변환\n",
    "train['클리닉_내_총_시술_횟수'] = train['클리닉_내_총_시술_횟수'].map(mapping)\n",
    "test['클리닉_내_총_시술_횟수'] = test['클리닉_내_총_시술_횟수'].map(mapping)\n",
    "\n",
    "value_counts_ratio(train, '클리닉_내_총_시술_횟수')"
   ]
  },
  {
   "cell_type": "markdown",
   "metadata": {},
   "source": [
    "### 31. IVF_시술_횟수"
   ]
  },
  {
   "cell_type": "markdown",
   "metadata": {},
   "source": [
    "이전에 수행된 IVF 시술 횟수"
   ]
  },
  {
   "cell_type": "code",
   "execution_count": 85,
   "metadata": {},
   "outputs": [
    {
     "name": "stdout",
     "output_type": "stream",
     "text": [
      "\n",
      "IVF_시술_횟수별 임신_성공_여부 비율 및 갯수\n",
      "\n",
      "                 0         1      0     1  Total\n",
      "variable                                        \n",
      "0회        0.718381  0.281619  11502  4509  16011\n",
      "1회        0.748468  0.251532   6228  2093   8321\n",
      "2회        0.753336  0.246664   4178  1368   5546\n",
      "3회        0.760313  0.239687   2525   796   3321\n",
      "4회        0.771388  0.228612   1623   481   2104\n",
      "5회        0.770642  0.229358    924   275   1199\n",
      "6회 이상     0.821676  0.178324   1304   283   1587\n"
     ]
    }
   ],
   "source": [
    "value_counts_ratio(train, 'IVF_시술_횟수')"
   ]
  },
  {
   "cell_type": "code",
   "execution_count": 86,
   "metadata": {},
   "outputs": [
    {
     "name": "stdout",
     "output_type": "stream",
     "text": [
      "\n",
      "IVF_시술_횟수별 임신_성공_여부 비율 및 갯수\n",
      "\n",
      "                 0         1      0     1  Total\n",
      "variable                                        \n",
      "0         0.718381  0.281619  11502  4509  16011\n",
      "1         0.748468  0.251532   6228  2093   8321\n",
      "2         0.753336  0.246664   4178  1368   5546\n",
      "3         0.760313  0.239687   2525   796   3321\n",
      "4         0.771388  0.228612   1623   481   2104\n",
      "5         0.770642  0.229358    924   275   1199\n",
      "6         0.821676  0.178324   1304   283   1587\n"
     ]
    }
   ],
   "source": [
    "# 숫자 매핑\n",
    "mapping = {\n",
    "    '0회': 0,\n",
    "    '1회': 1,\n",
    "    '2회': 2,\n",
    "    '3회': 3,\n",
    "    '4회': 4,\n",
    "    '5회': 5,\n",
    "    '6회 이상': 6\n",
    "}\n",
    "\n",
    "# 숫자로 변환\n",
    "train['IVF_시술_횟수'] = train['IVF_시술_횟수'].map(mapping)\n",
    "test['IVF_시술_횟수'] = test['IVF_시술_횟수'].map(mapping)\n",
    "\n",
    "value_counts_ratio(train, 'IVF_시술_횟수')"
   ]
  },
  {
   "cell_type": "markdown",
   "metadata": {},
   "source": [
    "### 32. DI_시술_횟수"
   ]
  },
  {
   "cell_type": "markdown",
   "metadata": {},
   "source": [
    "이전에 수행된 DI 시술 횟수"
   ]
  },
  {
   "cell_type": "code",
   "execution_count": 87,
   "metadata": {},
   "outputs": [
    {
     "name": "stdout",
     "output_type": "stream",
     "text": [
      "\n",
      "DI_시술_횟수별 임신_성공_여부 비율 및 갯수\n",
      "\n",
      "                 0         1      0     1  Total\n",
      "variable                                        \n",
      "0회        0.741851  0.258149  26763  9313  36076\n",
      "1회        0.784897  0.215103    343    94    437\n",
      "2회        0.743056  0.256944    321   111    432\n",
      "3회        0.753012  0.246988    375   123    498\n",
      "4회        0.739837  0.260163    182    64    246\n",
      "5회        0.793548  0.206452    123    32    155\n",
      "6회 이상     0.722449  0.277551    177    68    245\n"
     ]
    }
   ],
   "source": [
    "value_counts_ratio(train, 'DI_시술_횟수')"
   ]
  },
  {
   "cell_type": "code",
   "execution_count": 88,
   "metadata": {},
   "outputs": [
    {
     "name": "stdout",
     "output_type": "stream",
     "text": [
      "\n",
      "DI_시술_횟수별 임신_성공_여부 비율 및 갯수\n",
      "\n",
      "                 0         1      0     1  Total\n",
      "variable                                        \n",
      "0         0.741851  0.258149  26763  9313  36076\n",
      "1         0.784897  0.215103    343    94    437\n",
      "2         0.743056  0.256944    321   111    432\n",
      "3         0.753012  0.246988    375   123    498\n",
      "4         0.739837  0.260163    182    64    246\n",
      "5         0.793548  0.206452    123    32    155\n",
      "6         0.722449  0.277551    177    68    245\n"
     ]
    }
   ],
   "source": [
    "# 숫자 매핑\n",
    "mapping = {\n",
    "    '0회': 0,\n",
    "    '1회': 1,\n",
    "    '2회': 2,\n",
    "    '3회': 3,\n",
    "    '4회': 4,\n",
    "    '5회': 5,\n",
    "    '6회 이상': 6\n",
    "}\n",
    "\n",
    "# 숫자로 변환\n",
    "train['DI_시술_횟수'] = train['DI_시술_횟수'].map(mapping)\n",
    "test['DI_시술_횟수'] = test['DI_시술_횟수'].map(mapping)\n",
    "\n",
    "value_counts_ratio(train, 'DI_시술_횟수')"
   ]
  },
  {
   "cell_type": "markdown",
   "metadata": {},
   "source": [
    "### 33. 총_임신_횟수"
   ]
  },
  {
   "cell_type": "markdown",
   "metadata": {},
   "source": [
    "IVF 및 DI 포함한 총 임신 횟수"
   ]
  },
  {
   "cell_type": "code",
   "execution_count": 89,
   "metadata": {},
   "outputs": [
    {
     "name": "stdout",
     "output_type": "stream",
     "text": [
      "\n",
      "총_임신_횟수별 임신_성공_여부 비율 및 갯수\n",
      "\n",
      "                 0         1        0       1  Total\n",
      "variable                                            \n",
      "0회        0.746036  0.253964  22819.0  7768.0  30587\n",
      "1회        0.727416  0.272584   4622.0  1732.0   6354\n",
      "2회        0.734064  0.265936    737.0   267.0   1004\n",
      "3회        0.736000  0.264000     92.0    33.0    125\n",
      "4회        0.777778  0.222222     14.0     4.0     18\n",
      "5회        0.000000  1.000000      0.0     1.0      1\n"
     ]
    }
   ],
   "source": [
    "value_counts_ratio(train, '총_임신_횟수')"
   ]
  },
  {
   "cell_type": "code",
   "execution_count": 90,
   "metadata": {},
   "outputs": [
    {
     "name": "stdout",
     "output_type": "stream",
     "text": [
      "\n",
      "총_임신_횟수별 임신_성공_여부 비율 및 갯수\n",
      "\n",
      "                 0         1        0       1  Total\n",
      "variable                                            \n",
      "0         0.746036  0.253964  22819.0  7768.0  30587\n",
      "1         0.727416  0.272584   4622.0  1732.0   6354\n",
      "2         0.734064  0.265936    737.0   267.0   1004\n",
      "3         0.736000  0.264000     92.0    33.0    125\n",
      "4         0.777778  0.222222     14.0     4.0     18\n",
      "5         0.000000  1.000000      0.0     1.0      1\n"
     ]
    }
   ],
   "source": [
    "# 숫자 매핑\n",
    "mapping = {\n",
    "    '0회': 0,\n",
    "    '1회': 1,\n",
    "    '2회': 2,\n",
    "    '3회': 3,\n",
    "    '4회': 4,\n",
    "    '5회': 5,\n",
    "    '6회 이상': 6\n",
    "}\n",
    "\n",
    "# 숫자로 변환\n",
    "train['총_임신_횟수'] = train['총_임신_횟수'].map(mapping)\n",
    "test['총_임신_횟수'] = test['총_임신_횟수'].map(mapping)\n",
    "\n",
    "value_counts_ratio(train, '총_임신_횟수')"
   ]
  },
  {
   "cell_type": "markdown",
   "metadata": {},
   "source": [
    "### 34. IVF_임신_횟수"
   ]
  },
  {
   "cell_type": "markdown",
   "metadata": {},
   "source": [
    "IVF 시술로 인한 임신 횟수"
   ]
  },
  {
   "cell_type": "code",
   "execution_count": 91,
   "metadata": {},
   "outputs": [
    {
     "name": "stdout",
     "output_type": "stream",
     "text": [
      "\n",
      "IVF_임신_횟수별 임신_성공_여부 비율 및 갯수\n",
      "\n",
      "                 0         1        0       1  Total\n",
      "variable                                            \n",
      "0회        0.746279  0.253721  23116.0  7859.0  30975\n",
      "1회        0.725004  0.274996   4387.0  1664.0   6051\n",
      "2회        0.735889  0.264111    691.0   248.0    939\n",
      "3회        0.736364  0.263636     81.0    29.0    110\n",
      "4회        0.692308  0.307692      9.0     4.0     13\n",
      "5회        0.000000  1.000000      0.0     1.0      1\n"
     ]
    }
   ],
   "source": [
    "value_counts_ratio(train, 'IVF_임신_횟수')"
   ]
  },
  {
   "cell_type": "code",
   "execution_count": 92,
   "metadata": {},
   "outputs": [
    {
     "name": "stdout",
     "output_type": "stream",
     "text": [
      "\n",
      "IVF_임신_횟수별 임신_성공_여부 비율 및 갯수\n",
      "\n",
      "                 0         1        0       1  Total\n",
      "variable                                            \n",
      "0         0.746279  0.253721  23116.0  7859.0  30975\n",
      "1         0.725004  0.274996   4387.0  1664.0   6051\n",
      "2         0.735889  0.264111    691.0   248.0    939\n",
      "3         0.736364  0.263636     81.0    29.0    110\n",
      "4         0.692308  0.307692      9.0     4.0     13\n",
      "5         0.000000  1.000000      0.0     1.0      1\n"
     ]
    }
   ],
   "source": [
    "# 숫자 매핑\n",
    "mapping = {\n",
    "    '0회': 0,\n",
    "    '1회': 1,\n",
    "    '2회': 2,\n",
    "    '3회': 3,\n",
    "    '4회': 4,\n",
    "    '5회': 5,\n",
    "    '6회 이상': 6\n",
    "}\n",
    "\n",
    "# 숫자로 변환\n",
    "train['IVF_임신_횟수'] = train['IVF_임신_횟수'].map(mapping)\n",
    "test['IVF_임신_횟수'] = test['IVF_임신_횟수'].map(mapping)\n",
    "\n",
    "value_counts_ratio(train, 'IVF_임신_횟수')"
   ]
  },
  {
   "cell_type": "markdown",
   "metadata": {},
   "source": [
    "### 35. DI_임신_횟수"
   ]
  },
  {
   "cell_type": "markdown",
   "metadata": {},
   "source": [
    "DI 시술로 인한 임신 횟수"
   ]
  },
  {
   "cell_type": "code",
   "execution_count": 93,
   "metadata": {},
   "outputs": [
    {
     "name": "stdout",
     "output_type": "stream",
     "text": [
      "\n",
      "DI_임신_횟수별 임신_성공_여부 비율 및 갯수\n",
      "\n",
      "                 0         1        0       1  Total\n",
      "variable                                            \n",
      "0회        0.742322  0.257678  27964.0  9707.0  37671\n",
      "1회        0.769014  0.230986    273.0    82.0    355\n",
      "2회        0.755102  0.244898     37.0    12.0     49\n",
      "3회        0.636364  0.363636      7.0     4.0     11\n",
      "4회        1.000000  0.000000      3.0     0.0      3\n"
     ]
    }
   ],
   "source": [
    "value_counts_ratio(train, 'DI_임신_횟수')"
   ]
  },
  {
   "cell_type": "code",
   "execution_count": 94,
   "metadata": {},
   "outputs": [
    {
     "name": "stdout",
     "output_type": "stream",
     "text": [
      "\n",
      "DI_임신_횟수별 임신_성공_여부 비율 및 갯수\n",
      "\n",
      "                 0         1        0       1  Total\n",
      "variable                                            \n",
      "0         0.742322  0.257678  27964.0  9707.0  37671\n",
      "1         0.769014  0.230986    273.0    82.0    355\n",
      "2         0.755102  0.244898     37.0    12.0     49\n",
      "3         0.636364  0.363636      7.0     4.0     11\n",
      "4         1.000000  0.000000      3.0     0.0      3\n"
     ]
    }
   ],
   "source": [
    "# 숫자 매핑\n",
    "mapping = {\n",
    "    '0회': 0,\n",
    "    '1회': 1,\n",
    "    '2회': 2,\n",
    "    '3회': 3,\n",
    "    '4회': 4,\n",
    "    '5회': 5\n",
    "}\n",
    "\n",
    "# 숫자로 변환\n",
    "train['DI_임신_횟수'] = train['DI_임신_횟수'].map(mapping)\n",
    "test['DI_임신_횟수'] = test['DI_임신_횟수'].map(mapping)\n",
    "\n",
    "value_counts_ratio(train, 'DI_임신_횟수')"
   ]
  },
  {
   "cell_type": "markdown",
   "metadata": {},
   "source": [
    "### 36. 총_출산_횟수"
   ]
  },
  {
   "cell_type": "markdown",
   "metadata": {},
   "source": [
    "IVF 및 DI 시술로 출산한 횟수"
   ]
  },
  {
   "cell_type": "code",
   "execution_count": 95,
   "metadata": {},
   "outputs": [
    {
     "name": "stdout",
     "output_type": "stream",
     "text": [
      "\n",
      "총_출산_횟수별 임신_성공_여부 비율 및 갯수\n",
      "\n",
      "                 0         1        0       1  Total\n",
      "variable                                            \n",
      "0회        0.745969  0.254031  24194.0  8239.0  32433\n",
      "1회        0.724441  0.275559   3791.0  1442.0   5233\n",
      "2회        0.711340  0.288660    276.0   112.0    388\n",
      "3회        0.647059  0.352941     22.0    12.0     34\n",
      "4회        1.000000  0.000000      1.0     0.0      1\n"
     ]
    }
   ],
   "source": [
    "value_counts_ratio(train, '총_출산_횟수')"
   ]
  },
  {
   "cell_type": "code",
   "execution_count": 96,
   "metadata": {},
   "outputs": [
    {
     "name": "stdout",
     "output_type": "stream",
     "text": [
      "\n",
      "총_출산_횟수별 임신_성공_여부 비율 및 갯수\n",
      "\n",
      "                 0         1        0       1  Total\n",
      "variable                                            \n",
      "0         0.745969  0.254031  24194.0  8239.0  32433\n",
      "1         0.724441  0.275559   3791.0  1442.0   5233\n",
      "2         0.711340  0.288660    276.0   112.0    388\n",
      "3         0.647059  0.352941     22.0    12.0     34\n",
      "4         1.000000  0.000000      1.0     0.0      1\n"
     ]
    }
   ],
   "source": [
    "# 숫자 매핑\n",
    "mapping = {\n",
    "    '0회': 0,\n",
    "    '1회': 1,\n",
    "    '2회': 2,\n",
    "    '3회': 3,\n",
    "    '4회': 4,\n",
    "    '5회': 5,\n",
    "    '6회 이상': 6\n",
    "}\n",
    "\n",
    "# 숫자로 변환\n",
    "train['총_출산_횟수'] = train['총_출산_횟수'].map(mapping)\n",
    "test['총_출산_횟수'] = test['총_출산_횟수'].map(mapping)\n",
    "\n",
    "value_counts_ratio(train, '총_출산_횟수')"
   ]
  },
  {
   "cell_type": "markdown",
   "metadata": {},
   "source": [
    "### 37. IVF_출산_횟수"
   ]
  },
  {
   "cell_type": "markdown",
   "metadata": {},
   "source": [
    "IVF 시술로 출산한 횟수"
   ]
  },
  {
   "cell_type": "code",
   "execution_count": 97,
   "metadata": {},
   "outputs": [
    {
     "name": "stdout",
     "output_type": "stream",
     "text": [
      "\n",
      "IVF_출산_횟수별 임신_성공_여부 비율 및 갯수\n",
      "\n",
      "                 0         1        0       1  Total\n",
      "variable                                            \n",
      "0회        0.746083  0.253917  24426.0  8313.0  32739\n",
      "1회        0.722379  0.277621   3583.0  1377.0   4960\n",
      "2회        0.712329  0.287671    260.0   105.0    365\n",
      "3회        0.583333  0.416667     14.0    10.0     24\n",
      "4회        1.000000  0.000000      1.0     0.0      1\n"
     ]
    }
   ],
   "source": [
    "value_counts_ratio(train, 'IVF_출산_횟수')"
   ]
  },
  {
   "cell_type": "code",
   "execution_count": 98,
   "metadata": {},
   "outputs": [
    {
     "name": "stdout",
     "output_type": "stream",
     "text": [
      "\n",
      "IVF_출산_횟수별 임신_성공_여부 비율 및 갯수\n",
      "\n",
      "                 0         1        0       1  Total\n",
      "variable                                            \n",
      "0         0.746083  0.253917  24426.0  8313.0  32739\n",
      "1         0.722379  0.277621   3583.0  1377.0   4960\n",
      "2         0.712329  0.287671    260.0   105.0    365\n",
      "3         0.583333  0.416667     14.0    10.0     24\n",
      "4         1.000000  0.000000      1.0     0.0      1\n"
     ]
    }
   ],
   "source": [
    "# 숫자 매핑\n",
    "mapping = {\n",
    "    '0회': 0,\n",
    "    '1회': 1,\n",
    "    '2회': 2,\n",
    "    '3회': 3,\n",
    "    '4회': 4,\n",
    "    '5회': 5\n",
    "}\n",
    "\n",
    "# 숫자로 변환\n",
    "train['IVF_출산_횟수'] = train['IVF_출산_횟수'].map(mapping)\n",
    "test['IVF_출산_횟수'] = test['IVF_출산_횟수'].map(mapping)\n",
    "\n",
    "value_counts_ratio(train, 'IVF_출산_횟수')"
   ]
  },
  {
   "cell_type": "code",
   "execution_count": 99,
   "metadata": {},
   "outputs": [
    {
     "data": {
      "text/plain": [
       "0    11553\n",
       "1     1713\n",
       "2      116\n",
       "3        9\n",
       "4        1\n",
       "Name: IVF_출산_횟수, dtype: int64"
      ]
     },
     "execution_count": 99,
     "metadata": {},
     "output_type": "execute_result"
    }
   ],
   "source": [
    "test['IVF_출산_횟수'].value_counts()"
   ]
  },
  {
   "cell_type": "markdown",
   "metadata": {},
   "source": [
    "### 38. DI_출산_횟수"
   ]
  },
  {
   "cell_type": "markdown",
   "metadata": {},
   "source": [
    "DI 시술로 출산한 횟수"
   ]
  },
  {
   "cell_type": "code",
   "execution_count": 100,
   "metadata": {},
   "outputs": [
    {
     "name": "stdout",
     "output_type": "stream",
     "text": [
      "\n",
      "DI_출산_횟수별 임신_성공_여부 비율 및 갯수\n",
      "\n",
      "                 0         1      0     1  Total\n",
      "variable                                        \n",
      "0회        0.742474  0.257526  28044  9727  37771\n",
      "1회        0.752542  0.247458    222    73    295\n",
      "2회        0.800000  0.200000     12     3     15\n",
      "3회        0.750000  0.250000      6     2      8\n"
     ]
    }
   ],
   "source": [
    "value_counts_ratio(train, 'DI_출산_횟수')"
   ]
  },
  {
   "cell_type": "code",
   "execution_count": 101,
   "metadata": {},
   "outputs": [
    {
     "name": "stdout",
     "output_type": "stream",
     "text": [
      "\n",
      "DI_출산_횟수별 임신_성공_여부 비율 및 갯수\n",
      "\n",
      "                 0         1      0     1  Total\n",
      "variable                                        \n",
      "0         0.742474  0.257526  28044  9727  37771\n",
      "1         0.752542  0.247458    222    73    295\n",
      "2         0.800000  0.200000     12     3     15\n",
      "3         0.750000  0.250000      6     2      8\n"
     ]
    }
   ],
   "source": [
    "# 숫자 매핑\n",
    "mapping = {\n",
    "    '0회': 0,\n",
    "    '1회': 1,\n",
    "    '2회': 2,\n",
    "    '3회': 3,\n",
    "    '4회': 4,\n",
    "    '5회': 5\n",
    "}\n",
    "\n",
    "# 숫자로 변환\n",
    "train['DI_출산_횟수'] = train['DI_출산_횟수'].map(mapping)\n",
    "test['DI_출산_횟수'] = test['DI_출산_횟수'].map(mapping)\n",
    "\n",
    "value_counts_ratio(train, 'DI_출산_횟수')"
   ]
  },
  {
   "cell_type": "code",
   "execution_count": 102,
   "metadata": {},
   "outputs": [
    {
     "data": {
      "text/plain": [
       "0    13286\n",
       "1      101\n",
       "2        4\n",
       "3        1\n",
       "Name: DI_출산_횟수, dtype: int64"
      ]
     },
     "execution_count": 102,
     "metadata": {},
     "output_type": "execute_result"
    }
   ],
   "source": [
    "test['DI_출산_횟수'].value_counts()"
   ]
  },
  {
   "cell_type": "code",
   "execution_count": 103,
   "metadata": {},
   "outputs": [],
   "source": [
    "# # 모든 행과 열을 다 보이게 설정\n",
    "# pd.set_option('display.max_rows', None)\n",
    "# pd.set_option('display.max_columns', None)"
   ]
  },
  {
   "cell_type": "code",
   "execution_count": 104,
   "metadata": {},
   "outputs": [],
   "source": [
    "# summarize_group(train, ['IVF_시술_횟수', 'IVF_임신_횟수', 'IVF_출산_횟수'])"
   ]
  },
  {
   "cell_type": "code",
   "execution_count": 105,
   "metadata": {},
   "outputs": [],
   "source": [
    "# 주요 비율 계산 (train 데이터프레임)\n",
    "train['IVF_임신_시술_비율'] = np.where(train['IVF_시술_횟수'] > 0, train['IVF_임신_횟수'] / train['IVF_시술_횟수'], 0)\n",
    "train['IVF_출산_임신_비율'] = np.where(train['IVF_임신_횟수'] > 0, train['IVF_출산_횟수'] / train['IVF_임신_횟수'], 0)\n",
    "\n",
    "train['DI_임신_시술_비율'] = np.where(train['DI_시술_횟수'] > 0, train['DI_임신_횟수'] / train['DI_시술_횟수'], 0)\n",
    "train['DI_출산_임신_비율'] = np.where(train['DI_임신_횟수'] > 0, train['DI_출산_횟수'] / train['DI_임신_횟수'], 0)\n",
    "\n",
    "# 성공률 계산\n",
    "train['임신_성공률'] = np.where(train['총_시술_횟수'] > 0, train['총_임신_횟수'] / train['총_시술_횟수'], 0)\n",
    "train['출산_성공률'] = np.where(train['총_임신_횟수'] > 0, train['총_출산_횟수'] / train['총_임신_횟수'], 0)\n",
    "\n",
    "# 주요 비율 계산 (test 데이터프레임)\n",
    "test['IVF_임신_시술_비율'] = np.where(test['IVF_시술_횟수'] > 0, test['IVF_임신_횟수'] / test['IVF_시술_횟수'], 0)\n",
    "test['IVF_출산_임신_비율'] = np.where(test['IVF_임신_횟수'] > 0, test['IVF_출산_횟수'] / test['IVF_임신_횟수'], 0)\n",
    "\n",
    "test['DI_임신_시술_비율'] = np.where(test['DI_시술_횟수'] > 0, test['DI_임신_횟수'] / test['DI_시술_횟수'], 0)\n",
    "test['DI_출산_임신_비율'] = np.where(test['DI_임신_횟수'] > 0, test['DI_출산_횟수'] / test['DI_임신_횟수'], 0)\n",
    "\n",
    "# 성공률 계산\n",
    "test['임신_성공률'] = np.where(test['총_시술_횟수'] > 0, test['총_임신_횟수'] / test['총_시술_횟수'], 0)\n",
    "test['출산_성공률'] = np.where(test['총_임신_횟수'] > 0, test['총_출산_횟수'] / test['총_임신_횟수'], 0)"
   ]
  },
  {
   "cell_type": "markdown",
   "metadata": {},
   "source": [
    "### 39. 총_생성_배아_수"
   ]
  },
  {
   "cell_type": "markdown",
   "metadata": {},
   "source": [
    "해당 시술에서 생성된 배아의 총 개수"
   ]
  },
  {
   "cell_type": "code",
   "execution_count": 106,
   "metadata": {},
   "outputs": [
    {
     "name": "stdout",
     "output_type": "stream",
     "text": [
      "\n",
      "총_생성_배아_수별 임신_성공_여부 비율 및 갯수\n",
      "\n",
      "                 0         1       0       1  Total\n",
      "variable                                           \n",
      "0.0       0.809691  0.190309  6684.0  1571.0   8255\n",
      "1.0       0.910008  0.089992  2164.0   214.0   2378\n",
      "2.0       0.820668  0.179332  2311.0   505.0   2816\n",
      "3.0       0.763057  0.236943  2396.0   744.0   3140\n",
      "4.0       0.714286  0.285714  2265.0   906.0   3171\n",
      "5.0       0.699306  0.300694  2014.0   866.0   2880\n",
      "6.0       0.683729  0.316271  1870.0   865.0   2735\n",
      "7.0       0.665657  0.334343  1539.0   773.0   2312\n",
      "8.0       0.647239  0.352761  1266.0   690.0   1956\n",
      "9.0       0.662977  0.337023  1078.0   548.0   1626\n",
      "10.0      0.658288  0.341712   838.0   435.0   1273\n",
      "11.0      0.643822  0.356178   667.0   369.0   1036\n",
      "12.0      0.655006  0.344994   543.0   286.0    829\n",
      "13.0      0.633028  0.366972   414.0   240.0    654\n",
      "14.0      0.658103  0.341897   333.0   173.0    506\n",
      "15.0      0.658416  0.341584   266.0   138.0    404\n",
      "16.0      0.623762  0.376238   189.0   114.0    303\n",
      "17.0      0.708333  0.291667   170.0    70.0    240\n",
      "18.0      0.688119  0.311881   139.0    63.0    202\n",
      "19.0      0.748031  0.251969    95.0    32.0    127\n",
      "20.0      0.766990  0.233010    79.0    24.0    103\n",
      "21.0      0.760000  0.240000    57.0    18.0     75\n",
      "22.0      0.736842  0.263158    42.0    15.0     57\n",
      "23.0      0.795455  0.204545    35.0     9.0     44\n",
      "24.0      0.851852  0.148148    23.0     4.0     27\n",
      "25.0      0.833333  0.166667    20.0     4.0     24\n",
      "26.0      0.821429  0.178571    23.0     5.0     28\n",
      "27.0      0.769231  0.230769    10.0     3.0     13\n",
      "28.0      0.900000  0.100000     9.0     1.0     10\n",
      "29.0      0.750000  0.250000     6.0     2.0      8\n",
      "30.0      0.777778  0.222222     7.0     2.0      9\n",
      "31.0      1.000000  0.000000     5.0     0.0      5\n",
      "32.0      0.666667  0.333333     4.0     2.0      6\n",
      "33.0      1.000000  0.000000     1.0     0.0      1\n",
      "34.0      1.000000  0.000000     2.0     0.0      2\n",
      "36.0      1.000000  0.000000     1.0     0.0      1\n",
      "37.0      1.000000  0.000000     1.0     0.0      1\n"
     ]
    }
   ],
   "source": [
    "value_counts_ratio(train, '총_생성_배아_수')"
   ]
  },
  {
   "cell_type": "markdown",
   "metadata": {},
   "source": [
    "### 40. 미세주입된_난자_수"
   ]
  },
  {
   "cell_type": "markdown",
   "metadata": {},
   "source": [
    "정자 미세주입(ICSI)으로 처리된 난자의 수"
   ]
  },
  {
   "cell_type": "code",
   "execution_count": 107,
   "metadata": {},
   "outputs": [
    {
     "name": "stdout",
     "output_type": "stream",
     "text": [
      "\n",
      "미세주입된_난자_수별 임신_성공_여부 비율 및 갯수\n",
      "\n",
      "                 0         1        0       1  Total\n",
      "variable                                            \n",
      "0.0       0.748305  0.251695  14128.0  4752.0  18880\n",
      "1.0       0.941904  0.058096    762.0    47.0    809\n",
      "2.0       0.878431  0.121569    896.0   124.0   1020\n",
      "3.0       0.841443  0.158557   1003.0   189.0   1192\n",
      "4.0       0.795172  0.204828   1153.0   297.0   1450\n",
      "5.0       0.744141  0.255859   1143.0   393.0   1536\n",
      "6.0       0.720721  0.279279   1200.0   465.0   1665\n",
      "7.0       0.721259  0.278741   1123.0   434.0   1557\n",
      "8.0       0.695312  0.304688    979.0   429.0   1408\n",
      "9.0       0.681090  0.318910    850.0   398.0   1248\n",
      "10.0      0.661150  0.338850    759.0   389.0   1148\n",
      "11.0      0.624350  0.375650    600.0   361.0    961\n",
      "12.0      0.676329  0.323671    560.0   268.0    828\n",
      "13.0      0.624269  0.375731    427.0   257.0    684\n",
      "14.0      0.689408  0.310592    384.0   173.0    557\n",
      "15.0      0.665188  0.334812    300.0   151.0    451\n",
      "16.0      0.626984  0.373016    237.0   141.0    378\n",
      "17.0      0.635088  0.364912    181.0   104.0    285\n",
      "18.0      0.672131  0.327869    164.0    80.0    244\n",
      "19.0      0.661905  0.338095    139.0    71.0    210\n",
      "20.0      0.736486  0.263514    109.0    39.0    148\n",
      "21.0      0.750000  0.250000     90.0    30.0    120\n",
      "22.0      0.752212  0.247788     85.0    28.0    113\n",
      "23.0      0.715789  0.284211     68.0    27.0     95\n",
      "24.0      0.814815  0.185185     44.0    10.0     54\n",
      "25.0      0.764706  0.235294     39.0    12.0     51\n",
      "26.0      0.812500  0.187500     26.0     6.0     32\n",
      "27.0      0.840000  0.160000     21.0     4.0     25\n",
      "28.0      0.840000  0.160000     21.0     4.0     25\n",
      "29.0      0.937500  0.062500     15.0     1.0     16\n",
      "30.0      0.923077  0.076923     12.0     1.0     13\n",
      "31.0      1.000000  0.000000     12.0     0.0     12\n",
      "32.0      0.777778  0.222222      7.0     2.0      9\n",
      "33.0      0.571429  0.428571      4.0     3.0      7\n",
      "34.0      0.900000  0.100000      9.0     1.0     10\n",
      "35.0      1.000000  0.000000      3.0     0.0      3\n",
      "36.0      1.000000  0.000000      4.0     0.0      4\n",
      "38.0      1.000000  0.000000      2.0     0.0      2\n",
      "39.0      1.000000  0.000000      1.0     0.0      1\n",
      "40.0      1.000000  0.000000      2.0     0.0      2\n",
      "41.0      1.000000  0.000000      1.0     0.0      1\n",
      "42.0      1.000000  0.000000      1.0     0.0      1\n",
      "43.0      1.000000  0.000000      2.0     0.0      2\n"
     ]
    }
   ],
   "source": [
    "value_counts_ratio(train, '미세주입된_난자_수')"
   ]
  },
  {
   "cell_type": "markdown",
   "metadata": {},
   "source": [
    "### 41. 미세주입에서_생성된_배아_수"
   ]
  },
  {
   "cell_type": "markdown",
   "metadata": {},
   "source": [
    "ICSI를 통해 생성된 배아의 수"
   ]
  },
  {
   "cell_type": "code",
   "execution_count": 108,
   "metadata": {},
   "outputs": [
    {
     "name": "stdout",
     "output_type": "stream",
     "text": [
      "\n",
      "미세주입에서_생성된_배아_수별 임신_성공_여부 비율 및 갯수\n",
      "\n",
      "                 0         1        0       1  Total\n",
      "variable                                            \n",
      "0.0       0.756779  0.243221  14792.0  4754.0  19546\n",
      "1.0       0.911873  0.088127   1490.0   144.0   1634\n",
      "2.0       0.815131  0.184869   1530.0   347.0   1877\n",
      "3.0       0.754514  0.245486   1546.0   503.0   2049\n",
      "4.0       0.707375  0.292625   1477.0   611.0   2088\n",
      "5.0       0.697521  0.302479   1266.0   549.0   1815\n",
      "6.0       0.682270  0.317730   1166.0   543.0   1709\n",
      "7.0       0.662181  0.337819    935.0   477.0   1412\n",
      "8.0       0.646801  0.353199    738.0   403.0   1141\n",
      "9.0       0.640745  0.359255    585.0   328.0    913\n",
      "10.0      0.650289  0.349711    450.0   242.0    692\n",
      "11.0      0.624555  0.375445    351.0   211.0    562\n",
      "12.0      0.665179  0.334821    298.0   150.0    448\n",
      "13.0      0.640000  0.360000    224.0   126.0    350\n",
      "14.0      0.662698  0.337302    167.0    85.0    252\n",
      "15.0      0.703518  0.296482    140.0    59.0    199\n",
      "16.0      0.618056  0.381944     89.0    55.0    144\n",
      "17.0      0.733333  0.266667     88.0    32.0    120\n",
      "18.0      0.650000  0.350000     52.0    28.0     80\n",
      "19.0      0.796610  0.203390     47.0    12.0     59\n",
      "20.0      0.800000  0.200000     32.0     8.0     40\n",
      "21.0      0.812500  0.187500     26.0     6.0     32\n",
      "22.0      0.750000  0.250000     18.0     6.0     24\n",
      "23.0      0.750000  0.250000     15.0     5.0     20\n",
      "24.0      0.909091  0.090909     10.0     1.0     11\n",
      "25.0      0.777778  0.222222      7.0     2.0      9\n",
      "26.0      0.933333  0.066667     14.0     1.0     15\n",
      "27.0      0.750000  0.250000      3.0     1.0      4\n",
      "28.0      0.666667  0.333333      2.0     1.0      3\n",
      "29.0      0.666667  0.333333      2.0     1.0      3\n",
      "30.0      1.000000  0.000000      2.0     0.0      2\n",
      "32.0      1.000000  0.000000      1.0     0.0      1\n",
      "33.0      1.000000  0.000000      1.0     0.0      1\n",
      "34.0      1.000000  0.000000      1.0     0.0      1\n",
      "37.0      1.000000  0.000000      1.0     0.0      1\n"
     ]
    }
   ],
   "source": [
    "value_counts_ratio(train, '미세주입에서_생성된_배아_수')"
   ]
  },
  {
   "cell_type": "markdown",
   "metadata": {},
   "source": [
    "### 42. 이식된_배아_수"
   ]
  },
  {
   "cell_type": "markdown",
   "metadata": {},
   "source": [
    "이식된 배아의 총 수"
   ]
  },
  {
   "cell_type": "code",
   "execution_count": 109,
   "metadata": {},
   "outputs": [
    {
     "name": "stdout",
     "output_type": "stream",
     "text": [
      "\n",
      "이식된_배아_수별 임신_성공_여부 비율 및 갯수\n",
      "\n",
      "                 0         1      0     1  Total\n",
      "variable                                        \n",
      "0.0       0.998890  0.001110   7201     8   7209\n",
      "1.0       0.665589  0.334411  10298  5174  15472\n",
      "2.0       0.679400  0.320600   9195  4339  13534\n",
      "3.0       0.836852  0.163148    872   170   1042\n"
     ]
    }
   ],
   "source": [
    "value_counts_ratio(train, '이식된_배아_수')"
   ]
  },
  {
   "cell_type": "markdown",
   "metadata": {},
   "source": [
    "### 43. 미세주입_배아_이식_수"
   ]
  },
  {
   "cell_type": "markdown",
   "metadata": {},
   "source": [
    "ICSI 배아 중 이식된 배아의 수"
   ]
  },
  {
   "cell_type": "code",
   "execution_count": 110,
   "metadata": {},
   "outputs": [
    {
     "name": "stdout",
     "output_type": "stream",
     "text": [
      "\n",
      "미세주입_배아_이식_수별 임신_성공_여부 비율 및 갯수\n",
      "\n",
      "                 0         1      0     1  Total\n",
      "variable                                        \n",
      "0.0       0.786988  0.213012  16995  4600  21595\n",
      "1.0       0.654439  0.345561   5013  2647   7660\n",
      "2.0       0.682578  0.317422   5062  2354   7416\n",
      "3.0       0.846416  0.153584    496    90    586\n"
     ]
    }
   ],
   "source": [
    "value_counts_ratio(train, '미세주입_배아_이식_수')"
   ]
  },
  {
   "cell_type": "markdown",
   "metadata": {},
   "source": [
    "### 44. 저장된_배아_수"
   ]
  },
  {
   "cell_type": "markdown",
   "metadata": {},
   "source": [
    "환자를 위해 저장된 배아의 수"
   ]
  },
  {
   "cell_type": "code",
   "execution_count": 111,
   "metadata": {},
   "outputs": [
    {
     "name": "stdout",
     "output_type": "stream",
     "text": [
      "\n",
      "저장된_배아_수별 임신_성공_여부 비율 및 갯수\n",
      "\n",
      "                 0         1        0       1  Total\n",
      "variable                                            \n",
      "0.0       0.772534  0.227466  17973.0  5292.0  23265\n",
      "1.0       0.681309  0.318691   2435.0  1139.0   3574\n",
      "2.0       0.649922  0.350078   2096.0  1129.0   3225\n",
      "3.0       0.665632  0.334368   1501.0   754.0   2255\n",
      "4.0       0.676357  0.323643   1047.0   501.0   1548\n",
      "5.0       0.675377  0.324623    672.0   323.0    995\n",
      "6.0       0.691563  0.308437    500.0   223.0    723\n",
      "7.0       0.742152  0.257848    331.0   115.0    446\n",
      "8.0       0.741722  0.258278    224.0    78.0    302\n",
      "9.0       0.762846  0.237154    193.0    60.0    253\n",
      "10.0      0.835227  0.164773    147.0    29.0    176\n",
      "11.0      0.841667  0.158333    101.0    19.0    120\n",
      "12.0      0.875000  0.125000     77.0    11.0     88\n",
      "13.0      0.870968  0.129032     54.0     8.0     62\n",
      "14.0      0.891304  0.108696     41.0     5.0     46\n",
      "15.0      0.945946  0.054054     35.0     2.0     37\n",
      "16.0      0.958333  0.041667     23.0     1.0     24\n",
      "17.0      1.000000  0.000000     25.0     0.0     25\n",
      "18.0      1.000000  0.000000     20.0     0.0     20\n",
      "19.0      1.000000  0.000000     11.0     0.0     11\n",
      "20.0      0.947368  0.052632     18.0     1.0     19\n",
      "21.0      1.000000  0.000000     13.0     0.0     13\n",
      "22.0      1.000000  0.000000      5.0     0.0      5\n",
      "23.0      0.900000  0.100000      9.0     1.0     10\n",
      "24.0      1.000000  0.000000      3.0     0.0      3\n",
      "25.0      1.000000  0.000000      4.0     0.0      4\n",
      "27.0      1.000000  0.000000      2.0     0.0      2\n",
      "28.0      1.000000  0.000000      1.0     0.0      1\n",
      "30.0      1.000000  0.000000      4.0     0.0      4\n",
      "32.0      1.000000  0.000000      1.0     0.0      1\n"
     ]
    }
   ],
   "source": [
    "value_counts_ratio(train, '저장된_배아_수')"
   ]
  },
  {
   "cell_type": "markdown",
   "metadata": {},
   "source": [
    "### 45. 미세주입_후_저장된_배아_수"
   ]
  },
  {
   "cell_type": "markdown",
   "metadata": {},
   "source": [
    "ICSI 처리된 배아 중 저장된 배아의 수"
   ]
  },
  {
   "cell_type": "code",
   "execution_count": 112,
   "metadata": {},
   "outputs": [
    {
     "name": "stdout",
     "output_type": "stream",
     "text": [
      "\n",
      "미세주입_후_저장된_배아_수별 임신_성공_여부 비율 및 갯수\n",
      "\n",
      "                 0         1        0       1  Total\n",
      "variable                                            \n",
      "0.0       0.753827  0.246173  22161.0  7237.0  29398\n",
      "1.0       0.694708  0.305292   1536.0   675.0   2211\n",
      "2.0       0.639504  0.360496   1185.0   668.0   1853\n",
      "3.0       0.660302  0.339698    830.0   427.0   1257\n",
      "4.0       0.674473  0.325527    576.0   278.0    854\n",
      "5.0       0.684783  0.315217    378.0   174.0    552\n",
      "6.0       0.685237  0.314763    246.0   113.0    359\n",
      "7.0       0.815166  0.184834    172.0    39.0    211\n",
      "8.0       0.769231  0.230769    100.0    30.0    130\n",
      "9.0       0.785714  0.214286     99.0    27.0    126\n",
      "10.0      0.901235  0.098765     73.0     8.0     81\n",
      "11.0      0.869565  0.130435     40.0     6.0     46\n",
      "12.0      0.900000  0.100000     36.0     4.0     40\n",
      "13.0      0.935484  0.064516     29.0     2.0     31\n",
      "14.0      0.913043  0.086957     21.0     2.0     23\n",
      "15.0      1.000000  0.000000     19.0     0.0     19\n",
      "16.0      1.000000  0.000000     14.0     0.0     14\n",
      "17.0      1.000000  0.000000     11.0     0.0     11\n",
      "18.0      1.000000  0.000000     10.0     0.0     10\n",
      "19.0      1.000000  0.000000      6.0     0.0      6\n",
      "20.0      1.000000  0.000000      7.0     0.0      7\n",
      "21.0      1.000000  0.000000      4.0     0.0      4\n",
      "22.0      1.000000  0.000000      3.0     0.0      3\n",
      "23.0      0.750000  0.250000      3.0     1.0      4\n",
      "24.0      1.000000  0.000000      2.0     0.0      2\n",
      "25.0      1.000000  0.000000      3.0     0.0      3\n",
      "30.0      1.000000  0.000000      2.0     0.0      2\n"
     ]
    }
   ],
   "source": [
    "value_counts_ratio(train, '미세주입_후_저장된_배아_수')"
   ]
  },
  {
   "cell_type": "markdown",
   "metadata": {},
   "source": [
    "### 46. 해동된_배아_수"
   ]
  },
  {
   "cell_type": "markdown",
   "metadata": {},
   "source": [
    "동결 해동된 배아의 수"
   ]
  },
  {
   "cell_type": "code",
   "execution_count": 113,
   "metadata": {},
   "outputs": [
    {
     "name": "stdout",
     "output_type": "stream",
     "text": [
      "\n",
      "해동된_배아_수별 임신_성공_여부 비율 및 갯수\n",
      "\n",
      "                 0         1        0       1  Total\n",
      "variable                                            \n",
      "0.0       0.739853  0.260147  23076.0  8114.0  31190\n",
      "1.0       0.761563  0.238437   1910.0   598.0   2508\n",
      "2.0       0.720307  0.279693   1316.0   511.0   1827\n",
      "3.0       0.734694  0.265306    468.0   169.0    637\n",
      "4.0       0.737127  0.262873    272.0    97.0    369\n",
      "5.0       0.715736  0.284264    141.0    56.0    197\n",
      "6.0       0.754098  0.245902    138.0    45.0    183\n",
      "7.0       0.701299  0.298701     54.0    23.0     77\n",
      "8.0       0.698795  0.301205     58.0    25.0     83\n",
      "9.0       0.788462  0.211538     41.0    11.0     52\n",
      "10.0      0.738095  0.261905     31.0    11.0     42\n",
      "11.0      0.625000  0.375000     10.0     6.0     16\n",
      "12.0      0.730769  0.269231     19.0     7.0     26\n",
      "13.0      0.444444  0.555556      4.0     5.0      9\n",
      "14.0      0.750000  0.250000      9.0     3.0     12\n",
      "15.0      0.800000  0.200000      4.0     1.0      5\n",
      "16.0      0.125000  0.875000      1.0     7.0      8\n",
      "17.0      1.000000  0.000000      3.0     0.0      3\n",
      "18.0      0.800000  0.200000      4.0     1.0      5\n",
      "19.0      0.750000  0.250000      3.0     1.0      4\n",
      "21.0      1.000000  0.000000      1.0     0.0      1\n",
      "24.0      1.000000  0.000000      1.0     0.0      1\n",
      "26.0      1.000000  0.000000      1.0     0.0      1\n",
      "30.0      1.000000  0.000000      1.0     0.0      1\n"
     ]
    }
   ],
   "source": [
    "value_counts_ratio(train, '해동된_배아_수')"
   ]
  },
  {
   "cell_type": "markdown",
   "metadata": {},
   "source": [
    "### 47. 해동_난자_수"
   ]
  },
  {
   "cell_type": "markdown",
   "metadata": {},
   "source": [
    "동결 해동된 난자의 수"
   ]
  },
  {
   "cell_type": "code",
   "execution_count": 114,
   "metadata": {},
   "outputs": [
    {
     "name": "stdout",
     "output_type": "stream",
     "text": [
      "\n",
      "해동_난자_수별 임신_성공_여부 비율 및 갯수\n",
      "\n",
      "                 0         1        0       1  Total\n",
      "variable                                            \n",
      "0.0       0.739367  0.260633  27293.0  9621.0  36914\n",
      "1.0       1.000000  0.000000      2.0     0.0      2\n",
      "2.0       1.000000  0.000000     13.0     0.0     13\n",
      "3.0       0.875000  0.125000      7.0     1.0      8\n",
      "4.0       0.925926  0.074074     25.0     2.0     27\n",
      "5.0       0.863636  0.136364     19.0     3.0     22\n",
      "6.0       0.790323  0.209677     49.0    13.0     62\n",
      "7.0       0.685714  0.314286     24.0    11.0     35\n",
      "8.0       0.821429  0.178571     46.0    10.0     56\n",
      "9.0       0.894737  0.105263     17.0     2.0     19\n",
      "10.0      0.818182  0.181818     18.0     4.0     22\n",
      "11.0      0.764706  0.235294     13.0     4.0     17\n",
      "12.0      0.526316  0.473684     10.0     9.0     19\n",
      "13.0      0.800000  0.200000      4.0     1.0      5\n",
      "14.0      0.444444  0.555556      4.0     5.0      9\n",
      "15.0      0.750000  0.250000      3.0     1.0      4\n",
      "16.0      0.666667  0.333333      4.0     2.0      6\n",
      "17.0      1.000000  0.000000      3.0     0.0      3\n",
      "18.0      1.000000  0.000000      3.0     0.0      3\n",
      "19.0      1.000000  0.000000      3.0     0.0      3\n",
      "21.0      1.000000  0.000000      1.0     0.0      1\n",
      "22.0      0.000000  1.000000      0.0     1.0      1\n",
      "23.0      0.000000  1.000000      0.0     1.0      1\n",
      "24.0      1.000000  0.000000      2.0     0.0      2\n",
      "25.0      1.000000  0.000000      1.0     0.0      1\n",
      "26.0      1.000000  0.000000      1.0     0.0      1\n",
      "32.0      1.000000  0.000000      1.0     0.0      1\n"
     ]
    }
   ],
   "source": [
    "value_counts_ratio(train, '해동_난자_수')"
   ]
  },
  {
   "cell_type": "markdown",
   "metadata": {},
   "source": [
    "### 48. 수집된_신선_난자_수"
   ]
  },
  {
   "cell_type": "markdown",
   "metadata": {},
   "source": [
    "신선 난자가 수집된 수"
   ]
  },
  {
   "cell_type": "code",
   "execution_count": 115,
   "metadata": {},
   "outputs": [
    {
     "name": "stdout",
     "output_type": "stream",
     "text": [
      "\n",
      "수집된_신선_난자_수별 임신_성공_여부 비율 및 갯수\n",
      "\n",
      "                 0         1       0       1  Total\n",
      "variable                                           \n",
      "0.0       0.738411  0.261589  6117.0  2167.0   8284\n",
      "1.0       0.952550  0.047450   803.0    40.0    843\n",
      "2.0       0.905164  0.094836   964.0   101.0   1065\n",
      "3.0       0.871560  0.128440  1045.0   154.0   1199\n",
      "4.0       0.829457  0.170543  1284.0   264.0   1548\n",
      "5.0       0.800815  0.199185  1375.0   342.0   1717\n",
      "6.0       0.777230  0.222770  1420.0   407.0   1827\n",
      "7.0       0.746117  0.253883  1393.0   474.0   1867\n",
      "8.0       0.747697  0.252303  1461.0   493.0   1954\n",
      "9.0       0.717703  0.282297  1350.0   531.0   1881\n",
      "10.0      0.683836  0.316164  1248.0   577.0   1825\n",
      "11.0      0.692671  0.307329  1172.0   520.0   1692\n",
      "12.0      0.680197  0.319803  1106.0   520.0   1626\n",
      "13.0      0.653543  0.346457   913.0   484.0   1397\n",
      "14.0      0.647898  0.352102   863.0   469.0   1332\n",
      "15.0      0.668170  0.331830   741.0   368.0   1109\n",
      "16.0      0.665608  0.334392   629.0   316.0    945\n",
      "17.0      0.664634  0.335366   545.0   275.0    820\n",
      "18.0      0.661725  0.338275   491.0   251.0    742\n",
      "19.0      0.670085  0.329915   392.0   193.0    585\n",
      "20.0      0.719608  0.280392   367.0   143.0    510\n",
      "21.0      0.689826  0.310174   278.0   125.0    403\n",
      "22.0      0.689655  0.310345   220.0    99.0    319\n",
      "23.0      0.716172  0.283828   217.0    86.0    303\n",
      "24.0      0.677656  0.322344   185.0    88.0    273\n",
      "25.0      0.779736  0.220264   177.0    50.0    227\n",
      "26.0      0.776398  0.223602   125.0    36.0    161\n",
      "27.0      0.824818  0.175182   113.0    24.0    137\n",
      "28.0      0.785714  0.214286    99.0    27.0    126\n",
      "29.0      0.882979  0.117021    83.0    11.0     94\n",
      "30.0      0.868852  0.131148    53.0     8.0     61\n",
      "31.0      0.875000  0.125000    56.0     8.0     64\n",
      "32.0      0.820000  0.180000    41.0     9.0     50\n",
      "33.0      0.840909  0.159091    37.0     7.0     44\n",
      "34.0      0.909091  0.090909    30.0     3.0     33\n",
      "35.0      0.838710  0.161290    26.0     5.0     31\n",
      "36.0      0.941176  0.058824    32.0     2.0     34\n",
      "37.0      0.933333  0.066667    28.0     2.0     30\n",
      "38.0      0.800000  0.200000    12.0     3.0     15\n",
      "39.0      0.882353  0.117647    15.0     2.0     17\n",
      "40.0      0.937500  0.062500    15.0     1.0     16\n",
      "41.0      0.900000  0.100000     9.0     1.0     10\n",
      "42.0      0.888889  0.111111     8.0     1.0      9\n",
      "43.0      0.666667  0.333333     4.0     2.0      6\n",
      "44.0      1.000000  0.000000     4.0     0.0      4\n",
      "45.0      0.500000  0.500000     2.0     2.0      4\n",
      "46.0      1.000000  0.000000     3.0     0.0      3\n",
      "47.0      1.000000  0.000000     2.0     0.0      2\n",
      "48.0      1.000000  0.000000     2.0     0.0      2\n",
      "49.0      1.000000  0.000000     1.0     0.0      1\n",
      "50.0      1.000000  0.000000     1.0     0.0      1\n",
      "51.0      1.000000  0.000000     9.0     0.0      9\n"
     ]
    }
   ],
   "source": [
    "value_counts_ratio(train, '수집된_신선_난자_수')"
   ]
  },
  {
   "cell_type": "markdown",
   "metadata": {},
   "source": [
    "### 49. 저장된_신선_난자_수"
   ]
  },
  {
   "cell_type": "markdown",
   "metadata": {},
   "source": [
    "저장된 신선 난자의 수"
   ]
  },
  {
   "cell_type": "code",
   "execution_count": 116,
   "metadata": {},
   "outputs": [
    {
     "name": "stdout",
     "output_type": "stream",
     "text": [
      "\n",
      "저장된_신선_난자_수별 임신_성공_여부 비율 및 갯수\n",
      "\n",
      "                 0         1        0       1  Total\n",
      "variable                                            \n",
      "0.0       0.736080  0.263920  27009.0  9684.0  36693\n",
      "1.0       0.974359  0.025641     38.0     1.0     39\n",
      "2.0       1.000000  0.000000     47.0     0.0     47\n",
      "3.0       0.973684  0.026316     37.0     1.0     38\n",
      "4.0       1.000000  0.000000     47.0     0.0     47\n",
      "5.0       0.976190  0.023810     41.0     1.0     42\n",
      "6.0       0.973684  0.026316     37.0     1.0     38\n",
      "7.0       0.974359  0.025641     38.0     1.0     39\n",
      "8.0       1.000000  0.000000     30.0     0.0     30\n",
      "9.0       1.000000  0.000000     28.0     0.0     28\n",
      "10.0      1.000000  0.000000     39.0     0.0     39\n",
      "11.0      0.961538  0.038462     25.0     1.0     26\n",
      "12.0      1.000000  0.000000     31.0     0.0     31\n",
      "13.0      1.000000  0.000000     15.0     0.0     15\n",
      "14.0      0.941176  0.058824     16.0     1.0     17\n",
      "15.0      1.000000  0.000000     17.0     0.0     17\n",
      "16.0      1.000000  0.000000     15.0     0.0     15\n",
      "17.0      1.000000  0.000000      7.0     0.0      7\n",
      "18.0      1.000000  0.000000      7.0     0.0      7\n",
      "19.0      1.000000  0.000000      6.0     0.0      6\n",
      "20.0      1.000000  0.000000      7.0     0.0      7\n",
      "21.0      1.000000  0.000000      2.0     0.0      2\n",
      "22.0      1.000000  0.000000      3.0     0.0      3\n",
      "23.0      1.000000  0.000000      1.0     0.0      1\n",
      "24.0      1.000000  0.000000      4.0     0.0      4\n",
      "25.0      1.000000  0.000000      5.0     0.0      5\n",
      "26.0      1.000000  0.000000      3.0     0.0      3\n",
      "27.0      1.000000  0.000000      4.0     0.0      4\n",
      "28.0      1.000000  0.000000      3.0     0.0      3\n",
      "29.0      1.000000  0.000000      1.0     0.0      1\n",
      "31.0      1.000000  0.000000      1.0     0.0      1\n",
      "35.0      1.000000  0.000000      2.0     0.0      2\n"
     ]
    }
   ],
   "source": [
    "value_counts_ratio(train, '저장된_신선_난자_수')"
   ]
  },
  {
   "cell_type": "markdown",
   "metadata": {},
   "source": [
    "### 50. 혼합된_난자_수"
   ]
  },
  {
   "cell_type": "markdown",
   "metadata": {},
   "source": [
    "정자와 혼합된 총 난자 수"
   ]
  },
  {
   "cell_type": "code",
   "execution_count": 117,
   "metadata": {},
   "outputs": [
    {
     "name": "stdout",
     "output_type": "stream",
     "text": [
      "\n",
      "혼합된_난자_수별 임신_성공_여부 비율 및 갯수\n",
      "\n",
      "                 0         1       0       1  Total\n",
      "variable                                           \n",
      "0.0       0.782597  0.217403  5648.0  1569.0   7217\n",
      "1.0       0.934743  0.065257  1017.0    71.0   1088\n",
      "2.0       0.883227  0.116773  1248.0   165.0   1413\n",
      "3.0       0.847044  0.152956  1390.0   251.0   1641\n",
      "4.0       0.801175  0.198825  1636.0   406.0   2042\n",
      "5.0       0.756087  0.243913  1708.0   551.0   2259\n",
      "6.0       0.743633  0.256367  1781.0   614.0   2395\n",
      "7.0       0.717637  0.282363  1652.0   650.0   2302\n",
      "8.0       0.706468  0.293532  1562.0   649.0   2211\n",
      "9.0       0.686516  0.313484  1395.0   637.0   2032\n",
      "10.0      0.670141  0.329859  1286.0   633.0   1919\n",
      "11.0      0.655447  0.344553  1071.0   563.0   1634\n",
      "12.0      0.676393  0.323607  1020.0   488.0   1508\n",
      "13.0      0.634692  0.365308   794.0   457.0   1251\n",
      "14.0      0.671776  0.328224   745.0   364.0   1109\n",
      "15.0      0.661538  0.338462   602.0   308.0    910\n",
      "16.0      0.631081  0.368919   467.0   273.0    740\n",
      "17.0      0.661836  0.338164   411.0   210.0    621\n",
      "18.0      0.664804  0.335196   357.0   180.0    537\n",
      "19.0      0.668151  0.331849   300.0   149.0    449\n",
      "20.0      0.732194  0.267806   257.0    94.0    351\n",
      "21.0      0.685921  0.314079   190.0    87.0    277\n",
      "22.0      0.695652  0.304348   176.0    77.0    253\n",
      "23.0      0.720524  0.279476   165.0    64.0    229\n",
      "24.0      0.666667  0.333333   110.0    55.0    165\n",
      "25.0      0.766667  0.233333   115.0    35.0    150\n",
      "26.0      0.787234  0.212766    74.0    20.0     94\n",
      "27.0      0.827160  0.172840    67.0    14.0     81\n",
      "28.0      0.779070  0.220930    67.0    19.0     86\n",
      "29.0      0.904762  0.095238    38.0     4.0     42\n",
      "30.0      0.829268  0.170732    34.0     7.0     41\n",
      "31.0      0.897436  0.102564    35.0     4.0     39\n",
      "32.0      0.777778  0.222222    28.0     8.0     36\n",
      "33.0      0.807692  0.192308    21.0     5.0     26\n",
      "34.0      0.950000  0.050000    19.0     1.0     20\n",
      "35.0      0.888889  0.111111    16.0     2.0     18\n",
      "36.0      0.909091  0.090909    10.0     1.0     11\n",
      "37.0      0.923077  0.076923    12.0     1.0     13\n",
      "38.0      0.714286  0.285714    10.0     4.0     14\n",
      "39.0      1.000000  0.000000     5.0     0.0      5\n",
      "40.0      1.000000  0.000000     8.0     0.0      8\n",
      "41.0      1.000000  0.000000     6.0     0.0      6\n",
      "42.0      0.750000  0.250000     3.0     1.0      4\n",
      "43.0      1.000000  0.000000     4.0     0.0      4\n",
      "44.0      1.000000  0.000000     1.0     0.0      1\n",
      "46.0      1.000000  0.000000     2.0     0.0      2\n",
      "48.0      1.000000  0.000000     1.0     0.0      1\n",
      "49.0      1.000000  0.000000     1.0     0.0      1\n",
      "50.0      1.000000  0.000000     1.0     0.0      1\n"
     ]
    }
   ],
   "source": [
    "value_counts_ratio(train, '혼합된_난자_수')"
   ]
  },
  {
   "cell_type": "markdown",
   "metadata": {},
   "source": [
    "### 51. 파트너_정자와_혼합된_난자_수"
   ]
  },
  {
   "cell_type": "markdown",
   "metadata": {},
   "source": [
    "파트너 정자와 혼합된 난자의 수"
   ]
  },
  {
   "cell_type": "code",
   "execution_count": 118,
   "metadata": {},
   "outputs": [
    {
     "name": "stdout",
     "output_type": "stream",
     "text": [
      "\n",
      "파트너_정자와_혼합된_난자_수별 임신_성공_여부 비율 및 갯수\n",
      "\n",
      "                 0         1       0       1  Total\n",
      "variable                                           \n",
      "0.0       0.767882  0.232118  7622.0  2304.0   9926\n",
      "1.0       0.938669  0.061331   903.0    59.0    962\n",
      "2.0       0.882962  0.117038  1109.0   147.0   1256\n",
      "3.0       0.844977  0.155023  1270.0   233.0   1503\n",
      "4.0       0.801743  0.198257  1472.0   364.0   1836\n",
      "5.0       0.752814  0.247186  1538.0   505.0   2043\n",
      "6.0       0.744080  0.255920  1634.0   562.0   2196\n",
      "7.0       0.722488  0.277512  1510.0   580.0   2090\n",
      "8.0       0.707111  0.292889  1422.0   589.0   2011\n",
      "9.0       0.687160  0.312840  1263.0   575.0   1838\n",
      "10.0      0.675170  0.324830  1191.0   573.0   1764\n",
      "11.0      0.653465  0.346535   990.0   525.0   1515\n",
      "12.0      0.671480  0.328520   930.0   455.0   1385\n",
      "13.0      0.633803  0.366197   720.0   416.0   1136\n",
      "14.0      0.671246  0.328754   684.0   335.0   1019\n",
      "15.0      0.672727  0.327273   555.0   270.0    825\n",
      "16.0      0.638266  0.361734   427.0   242.0    669\n",
      "17.0      0.661290  0.338710   369.0   189.0    558\n",
      "18.0      0.654244  0.345756   316.0   167.0    483\n",
      "19.0      0.671329  0.328671   288.0   141.0    429\n",
      "20.0      0.731861  0.268139   232.0    85.0    317\n",
      "21.0      0.686508  0.313492   173.0    79.0    252\n",
      "22.0      0.710526  0.289474   162.0    66.0    228\n",
      "23.0      0.717593  0.282407   155.0    61.0    216\n",
      "24.0      0.655629  0.344371    99.0    52.0    151\n",
      "25.0      0.769784  0.230216   107.0    32.0    139\n",
      "26.0      0.779070  0.220930    67.0    19.0     86\n",
      "27.0      0.813333  0.186667    61.0    14.0     75\n",
      "28.0      0.784810  0.215190    62.0    17.0     79\n",
      "29.0      0.902439  0.097561    37.0     4.0     41\n",
      "30.0      0.815789  0.184211    31.0     7.0     38\n",
      "31.0      0.914286  0.085714    32.0     3.0     35\n",
      "32.0      0.757576  0.242424    25.0     8.0     33\n",
      "33.0      0.818182  0.181818    18.0     4.0     22\n",
      "34.0      0.950000  0.050000    19.0     1.0     20\n",
      "35.0      0.882353  0.117647    15.0     2.0     17\n",
      "36.0      0.900000  0.100000     9.0     1.0     10\n",
      "37.0      0.916667  0.083333    11.0     1.0     12\n",
      "38.0      0.666667  0.333333     8.0     4.0     12\n",
      "39.0      1.000000  0.000000     5.0     0.0      5\n",
      "40.0      1.000000  0.000000     6.0     0.0      6\n",
      "41.0      1.000000  0.000000     6.0     0.0      6\n",
      "42.0      1.000000  0.000000     3.0     0.0      3\n",
      "43.0      1.000000  0.000000     4.0     0.0      4\n",
      "44.0      1.000000  0.000000     1.0     0.0      1\n",
      "46.0      1.000000  0.000000     2.0     0.0      2\n",
      "48.0      1.000000  0.000000     1.0     0.0      1\n",
      "49.0      1.000000  0.000000     1.0     0.0      1\n",
      "50.0      1.000000  0.000000     1.0     0.0      1\n"
     ]
    }
   ],
   "source": [
    "value_counts_ratio(train, '파트너_정자와_혼합된_난자_수')"
   ]
  },
  {
   "cell_type": "markdown",
   "metadata": {},
   "source": [
    "### 52. 기증자_정자와_혼합된_난자_수"
   ]
  },
  {
   "cell_type": "markdown",
   "metadata": {},
   "source": [
    "기증자 정자와 혼합된 난자의 수"
   ]
  },
  {
   "cell_type": "code",
   "execution_count": 119,
   "metadata": {},
   "outputs": [
    {
     "name": "stdout",
     "output_type": "stream",
     "text": [
      "\n",
      "기증자_정자와_혼합된_난자_수별 임신_성공_여부 비율 및 갯수\n",
      "\n",
      "                 0         1        0       1  Total\n",
      "variable                                            \n",
      "0.0       0.740995  0.259005  25734.0  8995.0  34729\n",
      "1.0       0.899225  0.100775    116.0    13.0    129\n",
      "2.0       0.877301  0.122699    143.0    20.0    163\n",
      "3.0       0.863014  0.136986    126.0    20.0    146\n",
      "4.0       0.793103  0.206897    161.0    42.0    203\n",
      "5.0       0.777778  0.222222    168.0    48.0    216\n",
      "6.0       0.725490  0.274510    148.0    56.0    204\n",
      "7.0       0.674641  0.325359    141.0    68.0    209\n",
      "8.0       0.697917  0.302083    134.0    58.0    192\n",
      "9.0       0.679558  0.320442    123.0    58.0    181\n",
      "10.0      0.608392  0.391608     87.0    56.0    143\n",
      "11.0      0.700935  0.299065     75.0    32.0    107\n",
      "12.0      0.738318  0.261682     79.0    28.0    107\n",
      "13.0      0.602041  0.397959     59.0    39.0     98\n",
      "14.0      0.654321  0.345679     53.0    28.0     81\n",
      "15.0      0.492754  0.507246     34.0    35.0     69\n",
      "16.0      0.564516  0.435484     35.0    27.0     62\n",
      "17.0      0.673469  0.326531     33.0    16.0     49\n",
      "18.0      0.756098  0.243902     31.0    10.0     41\n",
      "19.0      0.578947  0.421053     11.0     8.0     19\n",
      "20.0      0.809524  0.190476     17.0     4.0     21\n",
      "21.0      0.652174  0.347826     15.0     8.0     23\n",
      "22.0      0.437500  0.562500      7.0     9.0     16\n",
      "23.0      0.333333  0.666667      2.0     4.0      6\n",
      "24.0      0.818182  0.181818      9.0     2.0     11\n",
      "25.0      0.666667  0.333333      4.0     2.0      6\n",
      "26.0      0.800000  0.200000      4.0     1.0      5\n",
      "27.0      1.000000  0.000000      3.0     0.0      3\n",
      "28.0      0.500000  0.500000      1.0     1.0      2\n",
      "29.0      1.000000  0.000000      1.0     0.0      1\n",
      "30.0      1.000000  0.000000      1.0     0.0      1\n",
      "31.0      0.750000  0.250000      3.0     1.0      4\n",
      "32.0      1.000000  0.000000      2.0     0.0      2\n",
      "33.0      0.666667  0.333333      2.0     1.0      3\n",
      "36.0      1.000000  0.000000      1.0     0.0      1\n",
      "37.0      1.000000  0.000000      1.0     0.0      1\n",
      "38.0      1.000000  0.000000      1.0     0.0      1\n",
      "40.0      1.000000  0.000000      1.0     0.0      1\n",
      "42.0      0.000000  1.000000      0.0     1.0      1\n"
     ]
    }
   ],
   "source": [
    "value_counts_ratio(train, '기증자_정자와_혼합된_난자_수')"
   ]
  },
  {
   "cell_type": "code",
   "execution_count": 120,
   "metadata": {},
   "outputs": [],
   "source": [
    "# 1. 임신 성공율 - 이식된 배아 대비 임신 성공 비율\n",
    "train['임신_성공율'] = np.where(train['총_생성_배아_수'] > 0, (train['이식된_배아_수'] / train['총_생성_배아_수']) * 100, 0).round(2)\n",
    "\n",
    "# 2. ICSI 효율성 - 미세주입된 난자 대비 생성된 배아 비율\n",
    "train['ICSI_효율성'] = np.where(train['미세주입된_난자_수'] > 0, (train['미세주입에서_생성된_배아_수'] / train['미세주입된_난자_수']) * 100, 0).round(2)\n",
    "\n",
    "# 3. 저장 배아 비율 - 총 생성 배아 대비 저장된 배아 수 비율\n",
    "train['저장_배아_비율'] = np.where(train['총_생성_배아_수'] > 0, (train['저장된_배아_수'] / train['총_생성_배아_수']) * 100, 0).round(2)\n",
    "\n",
    "# 4. 해동 난자 비율 - 해동된 난자 대비 수집된 신선 난자 비율\n",
    "train['해동_난자_비율'] = np.where(train['수집된_신선_난자_수'] > 0, (train['해동_난자_수'] / train['수집된_신선_난자_수']) * 100, 0).round(2)\n",
    "\n",
    "# 5. 생성 배아 유지율 - ICSI 후 저장된 배아 대비 생성된 배아 비율\n",
    "train['생성_배아_유지율'] = np.where(train['미세주입에서_생성된_배아_수'] > 0, (train['미세주입_후_저장된_배아_수'] / train['미세주입에서_생성된_배아_수']) * 100, 0).round(2)\n",
    "\n",
    "# 6. 파트너 정자 사용 비율 - 혼합된 난자에서 파트너 정자 비율\n",
    "train['파트너_정자_사용_비율'] = np.where(train['혼합된_난자_수'] > 0, (train['파트너_정자와_혼합된_난자_수'] / train['혼합된_난자_수']) * 100, 0).round(2)\n",
    "\n",
    "# test 데이터프레임에도 동일한 파생 변수를 생성\n",
    "test['임신_성공율'] = np.where(test['총_생성_배아_수'] > 0, (test['이식된_배아_수'] / test['총_생성_배아_수']) * 100, 0).round(2)\n",
    "test['ICSI_효율성'] = np.where(test['미세주입된_난자_수'] > 0, (test['미세주입에서_생성된_배아_수'] / test['미세주입된_난자_수']) * 100, 0).round(2)\n",
    "test['저장_배아_비율'] = np.where(test['총_생성_배아_수'] > 0, (test['저장된_배아_수'] / test['총_생성_배아_수']) * 100, 0).round(2)\n",
    "test['해동_난자_비율'] = np.where(test['수집된_신선_난자_수'] > 0, (test['해동_난자_수'] / test['수집된_신선_난자_수']) * 100, 0).round(2)\n",
    "test['생성_배아_유지율'] = np.where(test['미세주입에서_생성된_배아_수'] > 0, (test['미세주입_후_저장된_배아_수'] / test['미세주입에서_생성된_배아_수']) * 100, 0).round(2)\n",
    "test['파트너_정자_사용_비율'] = np.where(test['혼합된_난자_수'] > 0, (test['파트너_정자와_혼합된_난자_수'] / test['혼합된_난자_수']) * 100, 0).round(2)"
   ]
  },
  {
   "cell_type": "markdown",
   "metadata": {},
   "source": [
    "### 53. 난자_출처"
   ]
  },
  {
   "cell_type": "markdown",
   "metadata": {},
   "source": [
    "난자 출처 정보"
   ]
  },
  {
   "cell_type": "code",
   "execution_count": 121,
   "metadata": {},
   "outputs": [
    {
     "name": "stdout",
     "output_type": "stream",
     "text": [
      "\n",
      "난자_출처별 임신_성공_여부 비율 및 갯수\n",
      "\n",
      "                 0         1      0     1  Total\n",
      "variable                                        \n",
      "기증 제공     0.689436  0.310564   1847   832   2679\n",
      "본인 제공     0.743797  0.256203  25719  8859  34578\n",
      "알 수 없음    0.862981  0.137019    718   114    832\n"
     ]
    }
   ],
   "source": [
    "value_counts_ratio(train, '난자_출처')"
   ]
  },
  {
   "cell_type": "code",
   "execution_count": 122,
   "metadata": {},
   "outputs": [
    {
     "data": {
      "text/plain": [
       "본인 제공     12198\n",
       "기증 제공       910\n",
       "알 수 없음      284\n",
       "Name: 난자_출처, dtype: int64"
      ]
     },
     "execution_count": 122,
     "metadata": {},
     "output_type": "execute_result"
    }
   ],
   "source": [
    "test['난자_출처'].value_counts()"
   ]
  },
  {
   "cell_type": "markdown",
   "metadata": {},
   "source": [
    "### 54. 정자_출처"
   ]
  },
  {
   "cell_type": "markdown",
   "metadata": {},
   "source": [
    "정자 출처 정보"
   ]
  },
  {
   "cell_type": "code",
   "execution_count": 123,
   "metadata": {},
   "outputs": [
    {
     "name": "stdout",
     "output_type": "stream",
     "text": [
      "\n",
      "정자_출처별 임신_성공_여부 비율 및 갯수\n",
      "\n",
      "                    0         1        0       1  Total\n",
      "variable                                               \n",
      "기증 제공        0.740476  0.259524   3207.0  1124.0   4331\n",
      "미할당          0.857143  0.142857     24.0     4.0     28\n",
      "배우자 및 기증 제공  1.000000  0.000000      6.0     0.0      6\n",
      "배우자 제공       0.742705  0.257295  25047.0  8677.0  33724\n"
     ]
    }
   ],
   "source": [
    "value_counts_ratio(train, '정자_출처')"
   ]
  },
  {
   "cell_type": "code",
   "execution_count": 124,
   "metadata": {},
   "outputs": [
    {
     "data": {
      "text/plain": [
       "배우자 제공         11828\n",
       "기증 제공           1557\n",
       "미할당                5\n",
       "배우자 및 기증 제공        2\n",
       "Name: 정자_출처, dtype: int64"
      ]
     },
     "execution_count": 124,
     "metadata": {},
     "output_type": "execute_result"
    }
   ],
   "source": [
    "test['정자_출처'].value_counts()"
   ]
  },
  {
   "cell_type": "markdown",
   "metadata": {},
   "source": [
    "### 55. 난자_기증자_나이"
   ]
  },
  {
   "cell_type": "markdown",
   "metadata": {},
   "source": [
    "난자 기증자의 등록 당시 나이"
   ]
  },
  {
   "cell_type": "code",
   "execution_count": 125,
   "metadata": {},
   "outputs": [
    {
     "name": "stdout",
     "output_type": "stream",
     "text": [
      "\n",
      "난자_기증자_나이별 임신_성공_여부 비율 및 갯수\n",
      "\n",
      "                 0         1      0     1  Total\n",
      "variable                                        \n",
      "만20세 이하   0.710526  0.289474     54    22     76\n",
      "만21-25세   0.668142  0.331858    302   150    452\n",
      "만26-30세   0.671625  0.328375    587   287    874\n",
      "만31-35세   0.702415  0.297585    727   308   1035\n",
      "알 수 없음    0.746494  0.253506  26614  9038  35652\n"
     ]
    }
   ],
   "source": [
    "value_counts_ratio(train, '난자_기증자_나이')"
   ]
  },
  {
   "cell_type": "markdown",
   "metadata": {},
   "source": [
    "### 56. 정자_기증자_나이"
   ]
  },
  {
   "cell_type": "markdown",
   "metadata": {},
   "source": [
    "정자 기증자의 등록 당시 나이"
   ]
  },
  {
   "cell_type": "code",
   "execution_count": 126,
   "metadata": {},
   "outputs": [
    {
     "name": "stdout",
     "output_type": "stream",
     "text": [
      "\n",
      "정자_기증자_나이별 임신_성공_여부 비율 및 갯수\n",
      "\n",
      "                 0         1      0     1  Total\n",
      "variable                                        \n",
      "만20세 이하   0.747706  0.252294    163    55    218\n",
      "만21-25세   0.749491  0.250509    736   246    982\n",
      "만26-30세   0.734575  0.265425    631   228    859\n",
      "만31-35세   0.741400  0.258600    625   218    843\n",
      "만36-40세   0.738318  0.261682    553   196    749\n",
      "만41-45세   0.719466  0.280534    377   147    524\n",
      "알 수 없음    0.743026  0.256974  25199  8715  33914\n"
     ]
    }
   ],
   "source": [
    "value_counts_ratio(train, '정자_기증자_나이')"
   ]
  },
  {
   "cell_type": "code",
   "execution_count": 127,
   "metadata": {},
   "outputs": [
    {
     "name": "stdout",
     "output_type": "stream",
     "text": [
      "Grouped by: 난자_기증자_나이, 정자_기증자_나이\n",
      "\n",
      "                 group  '임신_성공_여부' count     ratio  Total\n",
      "0   (만20세 이하, 만21-25세)                 0  0.000000      1\n",
      "1   (만20세 이하, 만26-30세)                 0  0.000000      6\n",
      "2   (만20세 이하, 만31-35세)                 2  0.500000      4\n",
      "3   (만20세 이하, 만36-40세)                 0  0.000000      2\n",
      "4    (만20세 이하, 알 수 없음)                20  0.317460     63\n",
      "5   (만21-25세, 만20세 이하)                 1  0.111111      9\n",
      "6   (만21-25세, 만21-25세)                 6  0.300000     20\n",
      "7   (만21-25세, 만26-30세)                 3  0.200000     15\n",
      "8   (만21-25세, 만31-35세)                 4  0.266667     15\n",
      "9   (만21-25세, 만36-40세)                 3  0.333333      9\n",
      "10  (만21-25세, 만41-45세)                 4  0.333333     12\n",
      "11   (만21-25세, 알 수 없음)               129  0.346774    372\n",
      "12  (만26-30세, 만20세 이하)                 2  1.000000      2\n",
      "13  (만26-30세, 만21-25세)                12  0.444444     27\n",
      "14  (만26-30세, 만26-30세)                13  0.342105     38\n",
      "15  (만26-30세, 만31-35세)                12  0.315789     38\n",
      "16  (만26-30세, 만36-40세)                12  0.352941     34\n",
      "17  (만26-30세, 만41-45세)                 8  0.320000     25\n",
      "18   (만26-30세, 알 수 없음)               228  0.321127    710\n",
      "19  (만31-35세, 만20세 이하)                 1  0.166667      6\n",
      "20  (만31-35세, 만21-25세)                11  0.305556     36\n",
      "21  (만31-35세, 만26-30세)                10  0.270270     37\n",
      "22  (만31-35세, 만31-35세)                15  0.384615     39\n",
      "23  (만31-35세, 만36-40세)                14  0.297872     47\n",
      "24  (만31-35세, 만41-45세)                12  0.461538     26\n",
      "25   (만31-35세, 알 수 없음)               245  0.290284    844\n",
      "26   (알 수 없음, 만20세 이하)                51  0.253731    201\n",
      "27   (알 수 없음, 만21-25세)               217  0.241648    898\n",
      "28   (알 수 없음, 만26-30세)               202  0.264744    763\n",
      "29   (알 수 없음, 만31-35세)               185  0.247657    747\n",
      "30   (알 수 없음, 만36-40세)               167  0.254186    657\n",
      "31   (알 수 없음, 만41-45세)               123  0.266811    461\n",
      "32    (알 수 없음, 알 수 없음)              8093  0.253500  31925\n"
     ]
    }
   ],
   "source": [
    "summarize_group(train, ['난자_기증자_나이', '정자_기증자_나이'])"
   ]
  },
  {
   "cell_type": "code",
   "execution_count": 128,
   "metadata": {},
   "outputs": [],
   "source": [
    "# 그룹화하여 임신_성공_여부 비율 계산\n",
    "grouped = train.groupby(['난자_기증자_나이', '정자_기증자_나이']).agg(\n",
    "    count=('임신_성공_여부', 'sum'),\n",
    "    Total=('임신_성공_여부', 'size')\n",
    ").reset_index()\n",
    "\n",
    "grouped['ratio'] = grouped['count'] / grouped['Total']\n",
    "grouped['기증자_나이_더미'] = (grouped['ratio'] >= 0.28).astype(int)\n",
    "\n",
    "# 원본 train 데이터프레임에 더미 변수 추가\n",
    "train = train.merge(grouped[['난자_기증자_나이', '정자_기증자_나이', '기증자_나이_더미']], on=['난자_기증자_나이', '정자_기증자_나이'], how='left')\n",
    "\n",
    "# test 데이터프레임에 더미 변수 추가\n",
    "test = test.merge(grouped[['난자_기증자_나이', '정자_기증자_나이', '기증자_나이_더미']], on=['난자_기증자_나이', '정자_기증자_나이'], how='left')\n",
    "\n",
    "# 결측값을 0으로 채우기 (해당 조합이 train 데이터에 없을 경우)\n",
    "test['기증자_나이_더미'] = test['기증자_나이_더미'].fillna(0).astype(int)"
   ]
  },
  {
   "cell_type": "code",
   "execution_count": 129,
   "metadata": {},
   "outputs": [
    {
     "name": "stdout",
     "output_type": "stream",
     "text": [
      "\n",
      "기증자_나이_더미별 임신_성공_여부 비율 및 갯수\n",
      "\n",
      "                 0         1      0     1  Total\n",
      "variable                                        \n",
      "0         0.746608  0.253392  26686  9057  35743\n",
      "1         0.681159  0.318841   1598   748   2346\n"
     ]
    }
   ],
   "source": [
    "value_counts_ratio(train, '기증자_나이_더미')"
   ]
  },
  {
   "cell_type": "code",
   "execution_count": 130,
   "metadata": {},
   "outputs": [
    {
     "data": {
      "text/plain": [
       "0    12595\n",
       "1      797\n",
       "Name: 기증자_나이_더미, dtype: int64"
      ]
     },
     "execution_count": 130,
     "metadata": {},
     "output_type": "execute_result"
    }
   ],
   "source": [
    "test['기증자_나이_더미'].value_counts()"
   ]
  },
  {
   "cell_type": "code",
   "execution_count": 131,
   "metadata": {},
   "outputs": [],
   "source": [
    "# summarize_group(train, ['난자_기증자_나이', '정자_기증자_나이', '기증자_나이_더미'])"
   ]
  },
  {
   "cell_type": "markdown",
   "metadata": {},
   "source": [
    "### 57. 동결_배아_사용_여부"
   ]
  },
  {
   "cell_type": "markdown",
   "metadata": {},
   "source": [
    "동결 배아가 사용되었는지 여부"
   ]
  },
  {
   "cell_type": "code",
   "execution_count": 132,
   "metadata": {},
   "outputs": [
    {
     "name": "stdout",
     "output_type": "stream",
     "text": [
      "\n",
      "동결_배아_사용_여부별 임신_성공_여부 비율 및 갯수\n",
      "\n",
      "                 0         1      0     1  Total\n",
      "variable                                        \n",
      "0.0       0.740221  0.259779  23126  8116  31242\n",
      "1.0       0.738155  0.261845   4440  1575   6015\n"
     ]
    }
   ],
   "source": [
    "value_counts_ratio(train, '동결_배아_사용_여부')"
   ]
  },
  {
   "cell_type": "markdown",
   "metadata": {},
   "source": [
    "### 58. 신선_배아_사용_여부"
   ]
  },
  {
   "cell_type": "markdown",
   "metadata": {},
   "source": [
    "신선 배아가 사용되었는지 여부"
   ]
  },
  {
   "cell_type": "code",
   "execution_count": 133,
   "metadata": {},
   "outputs": [
    {
     "name": "stdout",
     "output_type": "stream",
     "text": [
      "\n",
      "신선_배아_사용_여부별 임신_성공_여부 비율 및 갯수\n",
      "\n",
      "                 0         1      0     1  Total\n",
      "variable                                        \n",
      "0.0       0.737573  0.262427   4407  1568   5975\n",
      "1.0       0.740330  0.259670  23159  8123  31282\n"
     ]
    }
   ],
   "source": [
    "value_counts_ratio(train, '신선_배아_사용_여부')"
   ]
  },
  {
   "cell_type": "markdown",
   "metadata": {},
   "source": [
    "### 59. 기증_배아_사용_여부"
   ]
  },
  {
   "cell_type": "markdown",
   "metadata": {},
   "source": [
    "기증 배아가 사용되었는지 여부"
   ]
  },
  {
   "cell_type": "code",
   "execution_count": 134,
   "metadata": {},
   "outputs": [
    {
     "name": "stdout",
     "output_type": "stream",
     "text": [
      "\n",
      "기증_배아_사용_여부별 임신_성공_여부 비율 및 갯수\n",
      "\n",
      "                 0         1      0     1  Total\n",
      "variable                                        \n",
      "0.0       0.740565  0.259435  27255  9548  36803\n",
      "1.0       0.685022  0.314978    311   143    454\n"
     ]
    }
   ],
   "source": [
    "value_counts_ratio(train, '기증_배아_사용_여부')"
   ]
  },
  {
   "cell_type": "code",
   "execution_count": 135,
   "metadata": {},
   "outputs": [
    {
     "name": "stdout",
     "output_type": "stream",
     "text": [
      "Grouped by: 신선_배아_사용_여부, 동결_배아_사용_여부, 기증_배아_사용_여부\n",
      "\n",
      "             group  '임신_성공_여부' count     ratio  Total\n",
      "0  (0.0, 0.0, 0.0)                 1  1.000000      1\n",
      "1  (0.0, 1.0, 0.0)              1516  0.262012   5786\n",
      "2  (0.0, 1.0, 1.0)                51  0.271277    188\n",
      "3  (1.0, 0.0, 0.0)              8023  0.259015  30975\n",
      "4  (1.0, 0.0, 1.0)                92  0.345865    266\n",
      "5  (1.0, 1.0, 0.0)                 8  0.195122     41\n"
     ]
    }
   ],
   "source": [
    "summarize_group(train, ['신선_배아_사용_여부', '동결_배아_사용_여부', '기증_배아_사용_여부'])"
   ]
  },
  {
   "cell_type": "markdown",
   "metadata": {},
   "source": [
    "### 60. 대리모_여부"
   ]
  },
  {
   "cell_type": "markdown",
   "metadata": {},
   "source": [
    "환자가 대리모로 활동했는지 여부"
   ]
  },
  {
   "cell_type": "code",
   "execution_count": 136,
   "metadata": {},
   "outputs": [
    {
     "name": "stdout",
     "output_type": "stream",
     "text": [
      "\n",
      "대리모_여부별 임신_성공_여부 비율 및 갯수\n",
      "\n",
      "                 0         1      0     1  Total\n",
      "variable                                        \n",
      "0.0       0.740276  0.259724  27445  9629  37074\n",
      "1.0       0.661202  0.338798    121    62    183\n"
     ]
    }
   ],
   "source": [
    "value_counts_ratio(train, '대리모_여부')"
   ]
  },
  {
   "cell_type": "markdown",
   "metadata": {},
   "source": [
    "### 61. PGD_시술_여부"
   ]
  },
  {
   "cell_type": "markdown",
   "metadata": {},
   "source": [
    "해당 주기가 PGD 치료로 분류되는지 여부"
   ]
  },
  {
   "cell_type": "code",
   "execution_count": 137,
   "metadata": {},
   "outputs": [
    {
     "name": "stdout",
     "output_type": "stream",
     "text": [
      "\n",
      "PGD_시술_여부별 임신_성공_여부 비율 및 갯수\n",
      "\n",
      "                 0         1    0   1  Total\n",
      "variable                                    \n",
      "1.0       0.674157  0.325843  180  87    267\n"
     ]
    }
   ],
   "source": [
    "value_counts_ratio(train, 'PGD_시술_여부')"
   ]
  },
  {
   "cell_type": "code",
   "execution_count": 138,
   "metadata": {},
   "outputs": [
    {
     "data": {
      "text/plain": [
       "37822"
      ]
     },
     "execution_count": 138,
     "metadata": {},
     "output_type": "execute_result"
    }
   ],
   "source": [
    "train['PGD_시술_여부'].isnull().sum()"
   ]
  },
  {
   "cell_type": "code",
   "execution_count": 139,
   "metadata": {},
   "outputs": [
    {
     "name": "stdout",
     "output_type": "stream",
     "text": [
      "결측값 개수: 37822\n",
      "결측값 개수: 0\n"
     ]
    }
   ],
   "source": [
    "# 결측값 개수 확인\n",
    "print(\"결측값 개수:\", train['PGD_시술_여부'].isnull().sum())\n",
    "\n",
    "# 결측값을 0으로 채우기\n",
    "train['PGD_시술_여부'].fillna(0, inplace=True)\n",
    "test['PGD_시술_여부'].fillna(0, inplace=True)\n",
    "\n",
    "# 결측값 개수 확인\n",
    "print(\"결측값 개수:\", train['PGD_시술_여부'].isnull().sum())"
   ]
  },
  {
   "cell_type": "markdown",
   "metadata": {},
   "source": [
    "### 62. PGS_시술_여부"
   ]
  },
  {
   "cell_type": "markdown",
   "metadata": {},
   "source": [
    "해당 주기가 PGS 치료로 분류되는지 여부"
   ]
  },
  {
   "cell_type": "code",
   "execution_count": 140,
   "metadata": {},
   "outputs": [
    {
     "name": "stdout",
     "output_type": "stream",
     "text": [
      "\n",
      "PGS_시술_여부별 임신_성공_여부 비율 및 갯수\n",
      "\n",
      "                 0         1    0   1  Total\n",
      "variable                                    \n",
      "1.0       0.813725  0.186275  332  76    408\n"
     ]
    }
   ],
   "source": [
    "value_counts_ratio(train, 'PGS_시술_여부')"
   ]
  },
  {
   "cell_type": "code",
   "execution_count": 141,
   "metadata": {},
   "outputs": [
    {
     "name": "stdout",
     "output_type": "stream",
     "text": [
      "결측값 개수: 37681\n",
      "결측값 개수: 0\n"
     ]
    }
   ],
   "source": [
    "# 결측값 개수 확인\n",
    "print(\"결측값 개수:\", train['PGS_시술_여부'].isnull().sum())\n",
    "\n",
    "# 결측값을 0으로 채우기\n",
    "train['PGS_시술_여부'].fillna(0, inplace=True)\n",
    "test['PGS_시술_여부'].fillna(0, inplace=True)\n",
    "\n",
    "# 결측값 개수 확인\n",
    "print(\"결측값 개수:\", train['PGS_시술_여부'].isnull().sum())"
   ]
  },
  {
   "cell_type": "code",
   "execution_count": 142,
   "metadata": {},
   "outputs": [
    {
     "name": "stdout",
     "output_type": "stream",
     "text": [
      "Grouped by: PGD_시술_여부, PGS_시술_여부\n",
      "\n",
      "        group  '임신_성공_여부' count     ratio  Total\n",
      "0  (0.0, 0.0)              9642  0.257711  37414\n",
      "1  (0.0, 1.0)                76  0.186275    408\n",
      "2  (1.0, 0.0)                87  0.325843    267\n"
     ]
    }
   ],
   "source": [
    "summarize_group(train, ['PGD_시술_여부', 'PGS_시술_여부'])"
   ]
  },
  {
   "cell_type": "markdown",
   "metadata": {},
   "source": [
    "### 63. 난자_채취_경과일"
   ]
  },
  {
   "cell_type": "markdown",
   "metadata": {},
   "source": [
    "첫 시점으로부터 난자 채취까지 경과한 일수"
   ]
  },
  {
   "cell_type": "code",
   "execution_count": 143,
   "metadata": {},
   "outputs": [
    {
     "name": "stdout",
     "output_type": "stream",
     "text": [
      "\n",
      "난자_채취_경과일별 임신_성공_여부 비율 및 갯수\n",
      "\n",
      "                 0         1      0     1  Total\n",
      "variable                                        \n",
      "0.0       0.744159  0.255841  21882  7523  29405\n"
     ]
    }
   ],
   "source": [
    "value_counts_ratio(train, '난자_채취_경과일')"
   ]
  },
  {
   "cell_type": "code",
   "execution_count": 144,
   "metadata": {},
   "outputs": [
    {
     "name": "stdout",
     "output_type": "stream",
     "text": [
      "결측값 개수: 8684\n",
      "결측값 개수: 0\n"
     ]
    }
   ],
   "source": [
    "print(\"결측값 개수:\", train['난자_채취_경과일'].isnull().sum())\n",
    "\n",
    "train['난자_채취_경과일'].fillna(-1, inplace=True)\n",
    "test['난자_채취_경과일'].fillna(-1, inplace=True)\n",
    "\n",
    "print(\"결측값 개수:\", train['난자_채취_경과일'].isnull().sum())"
   ]
  },
  {
   "cell_type": "markdown",
   "metadata": {},
   "source": [
    "### 64. 난자_해동_경과일"
   ]
  },
  {
   "cell_type": "markdown",
   "metadata": {},
   "source": [
    "첫 시점으로부터 난자 해동까지 경과한 일수"
   ]
  },
  {
   "cell_type": "code",
   "execution_count": 145,
   "metadata": {},
   "outputs": [
    {
     "name": "stdout",
     "output_type": "stream",
     "text": [
      "\n",
      "난자_해동_경과일별 임신_성공_여부 비율 및 갯수\n",
      "\n",
      "                 0         1      0     1  Total\n",
      "variable                                        \n",
      "0.0       0.794721  0.205279  271.0  70.0    341\n",
      "1.0       1.000000  0.000000    1.0   0.0      1\n"
     ]
    }
   ],
   "source": [
    "value_counts_ratio(train, '난자_해동_경과일')"
   ]
  },
  {
   "cell_type": "code",
   "execution_count": 146,
   "metadata": {},
   "outputs": [
    {
     "data": {
      "text/plain": [
       "37747"
      ]
     },
     "execution_count": 146,
     "metadata": {},
     "output_type": "execute_result"
    }
   ],
   "source": [
    "train['난자_해동_경과일'].isnull().sum()"
   ]
  },
  {
   "cell_type": "code",
   "execution_count": 147,
   "metadata": {},
   "outputs": [
    {
     "name": "stdout",
     "output_type": "stream",
     "text": [
      "결측값 개수: 37747\n",
      "결측값 개수: 0\n"
     ]
    }
   ],
   "source": [
    "print(\"결측값 개수:\", train['난자_해동_경과일'].isnull().sum())\n",
    "\n",
    "train['난자_해동_경과일'].fillna(-1, inplace=True)\n",
    "test['난자_해동_경과일'].fillna(-1, inplace=True)\n",
    "\n",
    "print(\"결측값 개수:\", train['난자_해동_경과일'].isnull().sum())"
   ]
  },
  {
   "cell_type": "markdown",
   "metadata": {},
   "source": [
    "### 65. 난자_혼합_경과일"
   ]
  },
  {
   "cell_type": "markdown",
   "metadata": {},
   "source": [
    "첫 시점으로부터 난자와 정자 혼합까지 경과한 일수"
   ]
  },
  {
   "cell_type": "code",
   "execution_count": 148,
   "metadata": {},
   "outputs": [
    {
     "name": "stdout",
     "output_type": "stream",
     "text": [
      "\n",
      "난자_혼합_경과일별 임신_성공_여부 비율 및 갯수\n",
      "\n",
      "                 0         1        0       1  Total\n",
      "variable                                            \n",
      "0.0       0.728969  0.271031  21759.0  8090.0  29849\n",
      "1.0       0.879310  0.120690     51.0     7.0     58\n",
      "2.0       0.916667  0.083333     11.0     1.0     12\n",
      "3.0       1.000000  0.000000      6.0     0.0      6\n",
      "4.0       0.000000  1.000000      0.0     1.0      1\n",
      "5.0       1.000000  0.000000      4.0     0.0      4\n",
      "6.0       1.000000  0.000000      1.0     0.0      1\n"
     ]
    }
   ],
   "source": [
    "value_counts_ratio(train, '난자_혼합_경과일')"
   ]
  },
  {
   "cell_type": "code",
   "execution_count": 149,
   "metadata": {},
   "outputs": [
    {
     "data": {
      "text/plain": [
       "8158"
      ]
     },
     "execution_count": 149,
     "metadata": {},
     "output_type": "execute_result"
    }
   ],
   "source": [
    "train['난자_혼합_경과일'].isnull().sum()"
   ]
  },
  {
   "cell_type": "code",
   "execution_count": 150,
   "metadata": {},
   "outputs": [
    {
     "name": "stdout",
     "output_type": "stream",
     "text": [
      "결측값 개수: 8158\n",
      "결측값 개수: 0\n"
     ]
    }
   ],
   "source": [
    "print(\"결측값 개수:\", train['난자_혼합_경과일'].isnull().sum())\n",
    "\n",
    "train['난자_혼합_경과일'].fillna(-1, inplace=True)\n",
    "test['난자_혼합_경과일'].fillna(-1, inplace=True)\n",
    "\n",
    "print(\"결측값 개수:\", train['난자_혼합_경과일'].isnull().sum())"
   ]
  },
  {
   "cell_type": "code",
   "execution_count": 151,
   "metadata": {},
   "outputs": [
    {
     "name": "stdout",
     "output_type": "stream",
     "text": [
      "\n",
      "난자_혼합_경과일별 임신_성공_여부 비율 및 갯수\n",
      "\n",
      "                 0         1        0       1  Total\n",
      "variable                                            \n",
      "-1.0      0.790880  0.209120   6452.0  1706.0   8158\n",
      " 0.0      0.728969  0.271031  21759.0  8090.0  29849\n",
      " 1.0      0.879310  0.120690     51.0     7.0     58\n",
      " 2.0      0.916667  0.083333     11.0     1.0     12\n",
      " 3.0      1.000000  0.000000      6.0     0.0      6\n",
      " 4.0      0.000000  1.000000      0.0     1.0      1\n",
      " 5.0      1.000000  0.000000      4.0     0.0      4\n",
      " 6.0      1.000000  0.000000      1.0     0.0      1\n"
     ]
    }
   ],
   "source": [
    "value_counts_ratio(train, '난자_혼합_경과일')"
   ]
  },
  {
   "cell_type": "markdown",
   "metadata": {},
   "source": [
    "### 66. 배아_이식_경과일"
   ]
  },
  {
   "cell_type": "markdown",
   "metadata": {},
   "source": [
    "첫 시점으로부터 배아 이식까지 경과한 일수"
   ]
  },
  {
   "cell_type": "code",
   "execution_count": 152,
   "metadata": {},
   "outputs": [
    {
     "name": "stdout",
     "output_type": "stream",
     "text": [
      "\n",
      "배아_이식_경과일별 임신_성공_여부 비율 및 갯수\n",
      "\n",
      "                 0         1     0     1  Total\n",
      "variable                                       \n",
      "0.0       0.712989  0.287011  2986  1202   4188\n",
      "1.0       0.818352  0.181648   437    97    534\n",
      "2.0       0.809471  0.190529  2923   688   3611\n",
      "3.0       0.756352  0.243648  5001  1611   6612\n",
      "4.0       0.630901  0.369099   441   258    699\n",
      "5.0       0.592534  0.407466  8238  5665  13903\n",
      "6.0       0.681234  0.318766   265   124    389\n",
      "7.0       0.500000  0.500000     4     4      8\n"
     ]
    }
   ],
   "source": [
    "value_counts_ratio(train, '배아_이식_경과일')"
   ]
  },
  {
   "cell_type": "code",
   "execution_count": 153,
   "metadata": {},
   "outputs": [
    {
     "name": "stdout",
     "output_type": "stream",
     "text": [
      "결측값 개수: 8145\n",
      "결측값 개수: 0\n"
     ]
    }
   ],
   "source": [
    "print(\"결측값 개수:\", train['배아_이식_경과일'].isnull().sum())\n",
    "\n",
    "train['배아_이식_경과일'].fillna(-1, inplace=True)\n",
    "test['배아_이식_경과일'].fillna(-1, inplace=True)\n",
    "\n",
    "print(\"결측값 개수:\", train['배아_이식_경과일'].isnull().sum())"
   ]
  },
  {
   "cell_type": "code",
   "execution_count": 154,
   "metadata": {},
   "outputs": [
    {
     "name": "stdout",
     "output_type": "stream",
     "text": [
      "\n",
      "배아_이식_경과일별 임신_성공_여부 비율 및 갯수\n",
      "\n",
      "                 0         1     0     1  Total\n",
      "variable                                       \n",
      "-1.0      0.980847  0.019153  7989   156   8145\n",
      " 0.0      0.712989  0.287011  2986  1202   4188\n",
      " 1.0      0.818352  0.181648   437    97    534\n",
      " 2.0      0.809471  0.190529  2923   688   3611\n",
      " 3.0      0.756352  0.243648  5001  1611   6612\n",
      " 4.0      0.630901  0.369099   441   258    699\n",
      " 5.0      0.592534  0.407466  8238  5665  13903\n",
      " 6.0      0.681234  0.318766   265   124    389\n",
      " 7.0      0.500000  0.500000     4     4      8\n"
     ]
    }
   ],
   "source": [
    "value_counts_ratio(train, '배아_이식_경과일')"
   ]
  },
  {
   "cell_type": "markdown",
   "metadata": {},
   "source": [
    "### 67. 배아_해동_경과일"
   ]
  },
  {
   "cell_type": "markdown",
   "metadata": {},
   "source": [
    "첫 시점으로부터 배아 해동까지 경과한 일수"
   ]
  },
  {
   "cell_type": "code",
   "execution_count": 155,
   "metadata": {},
   "outputs": [
    {
     "name": "stdout",
     "output_type": "stream",
     "text": [
      "\n",
      "배아_해동_경과일별 임신_성공_여부 비율 및 갯수\n",
      "\n",
      "                 0         1       0       1  Total\n",
      "variable                                           \n",
      "0.0       0.737267  0.262733  4386.0  1563.0   5949\n",
      "1.0       0.833333  0.166667     5.0     1.0      6\n",
      "2.0       0.853659  0.146341    35.0     6.0     41\n",
      "3.0       0.875000  0.125000    21.0     3.0     24\n",
      "4.0       1.000000  0.000000     3.0     0.0      3\n",
      "5.0       0.911765  0.088235    31.0     3.0     34\n",
      "6.0       0.714286  0.285714     5.0     2.0      7\n",
      "7.0       1.000000  0.000000     1.0     0.0      1\n"
     ]
    }
   ],
   "source": [
    "value_counts_ratio(train, '배아_해동_경과일')"
   ]
  },
  {
   "cell_type": "code",
   "execution_count": 156,
   "metadata": {},
   "outputs": [
    {
     "data": {
      "text/plain": [
       "0.0    2031\n",
       "2.0      23\n",
       "5.0      17\n",
       "3.0      14\n",
       "1.0       5\n",
       "4.0       2\n",
       "Name: 배아_해동_경과일, dtype: int64"
      ]
     },
     "execution_count": 156,
     "metadata": {},
     "output_type": "execute_result"
    }
   ],
   "source": [
    "test['배아_해동_경과일'].value_counts()"
   ]
  },
  {
   "cell_type": "code",
   "execution_count": 157,
   "metadata": {},
   "outputs": [
    {
     "name": "stdout",
     "output_type": "stream",
     "text": [
      "결측값 개수: 32024\n",
      "결측값 개수: 0\n"
     ]
    }
   ],
   "source": [
    "print(\"결측값 개수:\", train['배아_해동_경과일'].isnull().sum())\n",
    "\n",
    "train['배아_해동_경과일'].fillna(-1, inplace=True)\n",
    "test['배아_해동_경과일'].fillna(-1, inplace=True)\n",
    "\n",
    "print(\"결측값 개수:\", train['배아_해동_경과일'].isnull().sum())"
   ]
  },
  {
   "cell_type": "code",
   "execution_count": 158,
   "metadata": {},
   "outputs": [
    {
     "name": "stdout",
     "output_type": "stream",
     "text": [
      "\n",
      "배아_해동_경과일별 임신_성공_여부 비율 및 갯수\n",
      "\n",
      "                 0         1        0       1  Total\n",
      "variable                                            \n",
      "-1.0      0.743099  0.256901  23797.0  8227.0  32024\n",
      " 0.0      0.737267  0.262733   4386.0  1563.0   5949\n",
      " 1.0      0.833333  0.166667      5.0     1.0      6\n",
      " 2.0      0.853659  0.146341     35.0     6.0     41\n",
      " 3.0      0.875000  0.125000     21.0     3.0     24\n",
      " 4.0      1.000000  0.000000      3.0     0.0      3\n",
      " 5.0      0.911765  0.088235     31.0     3.0     34\n",
      " 6.0      0.714286  0.285714      5.0     2.0      7\n",
      " 7.0      1.000000  0.000000      1.0     0.0      1\n"
     ]
    }
   ],
   "source": [
    "value_counts_ratio(train, '배아_해동_경과일')"
   ]
  },
  {
   "cell_type": "code",
   "execution_count": 159,
   "metadata": {},
   "outputs": [],
   "source": [
    "# 파생 변수 생성 함수 정의\n",
    "def calculate_difference(col1, col2):\n",
    "    return np.where((col1 == -1) | (col2 == -1), 'unknown', col2 - col1)\n",
    "\n",
    "# 파생 변수 생성 (train 데이터프레임)\n",
    "train['채취_해동_차이'] = calculate_difference(train['난자_채취_경과일'], train['난자_해동_경과일'])\n",
    "train['해동_혼합_차이'] = calculate_difference(train['난자_해동_경과일'], train['난자_혼합_경과일'])\n",
    "train['혼합_이식_차이'] = calculate_difference(train['난자_혼합_경과일'], train['배아_이식_경과일'])\n",
    "train['이식_해동_차이'] = calculate_difference(train['배아_이식_경과일'], train['배아_해동_경과일'])\n",
    "\n",
    "# 파생 변수 생성 (test 데이터프레임)\n",
    "test['채취_해동_차이'] = calculate_difference(test['난자_채취_경과일'], test['난자_해동_경과일'])\n",
    "test['해동_혼합_차이'] = calculate_difference(test['난자_해동_경과일'], test['난자_혼합_경과일'])\n",
    "test['혼합_이식_차이'] = calculate_difference(test['난자_혼합_경과일'], test['배아_이식_경과일'])\n",
    "test['이식_해동_차이'] = calculate_difference(test['배아_이식_경과일'], test['배아_해동_경과일'])"
   ]
  },
  {
   "cell_type": "code",
   "execution_count": 160,
   "metadata": {},
   "outputs": [],
   "source": [
    "# # 모든 행을 출력하도록 설정\n",
    "pd.set_option('display.max_rows', None)"
   ]
  },
  {
   "cell_type": "code",
   "execution_count": 161,
   "metadata": {},
   "outputs": [
    {
     "name": "stdout",
     "output_type": "stream",
     "text": [
      "Grouped by: 난자_채취_경과일, 난자_혼합_경과일\n",
      "\n",
      "          group  '임신_성공_여부' count     ratio  Total\n",
      "0  (-1.0, -1.0)              1680  0.247313   6793\n",
      "1   (-1.0, 0.0)               602  0.318350   1891\n",
      "2   (0.0, -1.0)                26  0.019048   1365\n",
      "3    (0.0, 0.0)              7488  0.267830  27958\n",
      "4    (0.0, 1.0)                 7  0.120690     58\n",
      "5    (0.0, 2.0)                 1  0.083333     12\n",
      "6    (0.0, 3.0)                 0  0.000000      6\n",
      "7    (0.0, 4.0)                 1  1.000000      1\n",
      "8    (0.0, 5.0)                 0  0.000000      4\n",
      "9    (0.0, 6.0)                 0  0.000000      1\n"
     ]
    }
   ],
   "source": [
    "summarize_group(train, ['난자_채취_경과일', '난자_혼합_경과일'])"
   ]
  },
  {
   "cell_type": "code",
   "execution_count": 162,
   "metadata": {},
   "outputs": [
    {
     "name": "stdout",
     "output_type": "stream",
     "text": [
      "Grouped by: 배아_이식_경과일, 배아_해동_경과일\n",
      "\n",
      "           group  '임신_성공_여부' count     ratio  Total\n",
      "0   (-1.0, -1.0)               140  0.018217   7685\n",
      "1    (-1.0, 0.0)                16  0.037915    422\n",
      "2    (-1.0, 1.0)                 0  0.000000      1\n",
      "3    (-1.0, 2.0)                 0  0.000000      3\n",
      "4    (-1.0, 3.0)                 0  0.000000     10\n",
      "5    (-1.0, 4.0)                 0  0.000000      2\n",
      "6    (-1.0, 5.0)                 0  0.000000     17\n",
      "7    (-1.0, 6.0)                 0  0.000000      4\n",
      "8    (-1.0, 7.0)                 0  0.000000      1\n",
      "9    (0.0, -1.0)                 7  0.189189     37\n",
      "10    (0.0, 0.0)              1195  0.287882   4151\n",
      "11   (1.0, -1.0)                 7  0.269231     26\n",
      "12    (1.0, 0.0)                90  0.177515    507\n",
      "13    (1.0, 1.0)                 0  0.000000      1\n",
      "14   (2.0, -1.0)               579  0.182420   3174\n",
      "15    (2.0, 0.0)               104  0.258706    402\n",
      "16    (2.0, 1.0)                 0  0.000000      2\n",
      "17    (2.0, 2.0)                 5  0.161290     31\n",
      "18    (2.0, 5.0)                 0  0.000000      2\n",
      "19   (3.0, -1.0)              1551  0.241176   6431\n",
      "20    (3.0, 0.0)                58  0.355828    163\n",
      "21    (3.0, 1.0)                 0  0.000000      1\n",
      "22    (3.0, 2.0)                 0  0.000000      2\n",
      "23    (3.0, 3.0)                 1  0.090909     11\n",
      "24    (3.0, 5.0)                 0  0.000000      2\n",
      "25    (3.0, 6.0)                 1  0.500000      2\n",
      "26   (4.0, -1.0)               169  0.400474    422\n",
      "27    (4.0, 0.0)                89  0.321300    277\n",
      "28   (5.0, -1.0)              5651  0.407661  13862\n",
      "29    (5.0, 0.0)                 9  0.391304     23\n",
      "30    (5.0, 1.0)                 1  1.000000      1\n",
      "31    (5.0, 2.0)                 0  0.000000      4\n",
      "32    (5.0, 3.0)                 2  0.666667      3\n",
      "33    (5.0, 5.0)                 2  0.200000     10\n",
      "34   (6.0, -1.0)               119  0.313984    379\n",
      "35    (6.0, 0.0)                 2  0.500000      4\n",
      "36    (6.0, 2.0)                 1  1.000000      1\n",
      "37    (6.0, 4.0)                 0  0.000000      1\n",
      "38    (6.0, 5.0)                 1  0.333333      3\n",
      "39    (6.0, 6.0)                 1  1.000000      1\n",
      "40   (7.0, -1.0)                 4  0.500000      8\n"
     ]
    }
   ],
   "source": [
    "summarize_group(train, ['배아_이식_경과일', '배아_해동_경과일'])"
   ]
  },
  {
   "cell_type": "code",
   "execution_count": 163,
   "metadata": {},
   "outputs": [
    {
     "name": "stdout",
     "output_type": "stream",
     "text": [
      "\n",
      "이식_해동_차이별 임신_성공_여부 비율 및 갯수\n",
      "\n",
      "                 0         1        0       1  Total\n",
      "variable                                            \n",
      "-1.0      0.822957  0.177043    423.0    91.0    514\n",
      "-2.0      0.739558  0.260442    301.0   106.0    407\n",
      "-3.0      0.652695  0.347305    109.0    58.0    167\n",
      "-4.0      0.673835  0.326165    188.0    91.0    279\n",
      "-5.0      0.608696  0.391304     14.0     9.0     23\n",
      "-6.0      0.500000  0.500000      2.0     2.0      4\n",
      "0.0       0.713674  0.286326   3001.0  1204.0   4205\n",
      "2.0       1.000000  0.000000      2.0     0.0      2\n",
      "3.0       0.750000  0.250000      3.0     1.0      4\n",
      "unknown   0.746244  0.253756  24241.0  8243.0  32484\n"
     ]
    }
   ],
   "source": [
    "value_counts_ratio(train, '이식_해동_차이')"
   ]
  },
  {
   "cell_type": "markdown",
   "metadata": {},
   "source": [
    "### 68. 임신_성공_여부"
   ]
  },
  {
   "cell_type": "markdown",
   "metadata": {},
   "source": [
    "해당 시술로부터 임신 성공 여부"
   ]
  },
  {
   "cell_type": "code",
   "execution_count": 164,
   "metadata": {},
   "outputs": [
    {
     "name": "stdout",
     "output_type": "stream",
     "text": [
      "\n",
      "임신_성공_여부별 임신_성공_여부 비율 및 갯수\n",
      "\n",
      "            0    1        0       1  Total\n",
      "variable                                  \n",
      "0         1.0  0.0  28284.0     0.0  28284\n",
      "1         0.0  1.0      0.0  9805.0   9805\n"
     ]
    }
   ],
   "source": [
    "value_counts_ratio(train, '임신_성공_여부')"
   ]
  },
  {
   "cell_type": "markdown",
   "metadata": {},
   "source": [
    "## 변수 상테 확인"
   ]
  },
  {
   "cell_type": "code",
   "execution_count": 165,
   "metadata": {},
   "outputs": [
    {
     "name": "stdout",
     "output_type": "stream",
     "text": [
      "<class 'pandas.core.frame.DataFrame'>\n",
      "Int64Index: 38089 entries, 0 to 38088\n",
      "Data columns (total 90 columns):\n",
      " #   Column                  Non-Null Count  Dtype   \n",
      "---  ------                  --------------  -----   \n",
      " 0   ID                      38089 non-null  object  \n",
      " 1   시술_당시_나이                38089 non-null  object  \n",
      " 2   임신_시도_또는_마지막_임신_경과_연수   38089 non-null  category\n",
      " 3   시술_유형                   38089 non-null  object  \n",
      " 4   배란_자극_여부                38089 non-null  int64   \n",
      " 5   배란_유도_유형                38089 non-null  object  \n",
      " 6   단일_배아_이식_여부             37257 non-null  float64 \n",
      " 7   착상_전_유전_검사_사용_여부        38089 non-null  float64 \n",
      " 8   착상_전_유전_진단_사용_여부        37257 non-null  float64 \n",
      " 9   남성_주_불임_원인              38089 non-null  int64   \n",
      " 10  남성_부_불임_원인              38089 non-null  int64   \n",
      " 11  여성_주_불임_원인              38089 non-null  int64   \n",
      " 12  여성_부_불임_원인              38089 non-null  int64   \n",
      " 13  부부_주_불임_원인              38089 non-null  int64   \n",
      " 14  부부_부_불임_원인              38089 non-null  int64   \n",
      " 15  불명확_불임_원인               38089 non-null  int64   \n",
      " 16  불임_원인_-_난관_질환           38089 non-null  int64   \n",
      " 17  불임_원인_-_남성_요인           38089 non-null  int64   \n",
      " 18  불임_원인_-_배란_장애           38089 non-null  int64   \n",
      " 19  불임_원인_-_자궁경부_문제         38089 non-null  int64   \n",
      " 20  불임_원인_-_자궁내막증           38089 non-null  int64   \n",
      " 21  불임_원인_-_정자_농도           38089 non-null  int64   \n",
      " 22  불임_원인_-_정자_형태           38089 non-null  int64   \n",
      " 23  배아_생성_주요_이유             38089 non-null  object  \n",
      " 24  총_시술_횟수                 38089 non-null  int64   \n",
      " 25  클리닉_내_총_시술_횟수           38089 non-null  int64   \n",
      " 26  IVF_시술_횟수               38089 non-null  int64   \n",
      " 27  DI_시술_횟수                38089 non-null  int64   \n",
      " 28  총_임신_횟수                 38089 non-null  int64   \n",
      " 29  IVF_임신_횟수               38089 non-null  int64   \n",
      " 30  DI_임신_횟수                38089 non-null  int64   \n",
      " 31  총_출산_횟수                 38089 non-null  int64   \n",
      " 32  IVF_출산_횟수               38089 non-null  int64   \n",
      " 33  DI_출산_횟수                38089 non-null  int64   \n",
      " 34  총_생성_배아_수               37257 non-null  float64 \n",
      " 35  미세주입된_난자_수              37257 non-null  float64 \n",
      " 36  미세주입에서_생성된_배아_수         37257 non-null  float64 \n",
      " 37  이식된_배아_수                37257 non-null  float64 \n",
      " 38  미세주입_배아_이식_수            37257 non-null  float64 \n",
      " 39  저장된_배아_수                37257 non-null  float64 \n",
      " 40  미세주입_후_저장된_배아_수         37257 non-null  float64 \n",
      " 41  해동된_배아_수                37257 non-null  float64 \n",
      " 42  해동_난자_수                 37257 non-null  float64 \n",
      " 43  수집된_신선_난자_수             37257 non-null  float64 \n",
      " 44  저장된_신선_난자_수             37257 non-null  float64 \n",
      " 45  혼합된_난자_수                37257 non-null  float64 \n",
      " 46  파트너_정자와_혼합된_난자_수        37257 non-null  float64 \n",
      " 47  기증자_정자와_혼합된_난자_수        37257 non-null  float64 \n",
      " 48  난자_출처                   38089 non-null  object  \n",
      " 49  정자_출처                   38089 non-null  object  \n",
      " 50  난자_기증자_나이               38089 non-null  object  \n",
      " 51  정자_기증자_나이               38089 non-null  object  \n",
      " 52  동결_배아_사용_여부             37257 non-null  float64 \n",
      " 53  신선_배아_사용_여부             37257 non-null  float64 \n",
      " 54  기증_배아_사용_여부             37257 non-null  float64 \n",
      " 55  대리모_여부                  37257 non-null  float64 \n",
      " 56  PGD_시술_여부               38089 non-null  float64 \n",
      " 57  PGS_시술_여부               38089 non-null  float64 \n",
      " 58  난자_채취_경과일               38089 non-null  float64 \n",
      " 59  난자_해동_경과일               38089 non-null  float64 \n",
      " 60  난자_혼합_경과일               38089 non-null  float64 \n",
      " 61  배아_이식_경과일               38089 non-null  float64 \n",
      " 62  배아_해동_경과일               38089 non-null  float64 \n",
      " 63  임신_성공_여부                38089 non-null  int64   \n",
      " 64  변환된_특정_시술_유형            38089 non-null  object  \n",
      " 65  특정_시술_유형_ICSI_더미        38089 non-null  int64   \n",
      " 66  특정_시술_유형_IVF_더미         38089 non-null  int64   \n",
      " 67  특정_시술_유형_AH_더미          38089 non-null  int64   \n",
      " 68  특정_시술_유형_BLASTOCYST_더미  38089 non-null  int64   \n",
      " 69  배아_생성_주요_이유_현재시술용       38089 non-null  int32   \n",
      " 70  배아_생성_주요_이유_기증용         38089 non-null  int32   \n",
      " 71  배아_생성_주요_이유_난자저장용       38089 non-null  int32   \n",
      " 72  배아_생성_주요_이유_배아저장용       38089 non-null  int32   \n",
      " 73  IVF_임신_시술_비율            38089 non-null  float64 \n",
      " 74  IVF_출산_임신_비율            38089 non-null  float64 \n",
      " 75  DI_임신_시술_비율             38089 non-null  float64 \n",
      " 76  DI_출산_임신_비율             38089 non-null  float64 \n",
      " 77  임신_성공률                  38089 non-null  float64 \n",
      " 78  출산_성공률                  38089 non-null  float64 \n",
      " 79  임신_성공율                  38089 non-null  float64 \n",
      " 80  ICSI_효율성                38089 non-null  float64 \n",
      " 81  저장_배아_비율                38089 non-null  float64 \n",
      " 82  해동_난자_비율                38089 non-null  float64 \n",
      " 83  생성_배아_유지율               38089 non-null  float64 \n",
      " 84  파트너_정자_사용_비율            38089 non-null  float64 \n",
      " 85  기증자_나이_더미               38089 non-null  int32   \n",
      " 86  채취_해동_차이                38089 non-null  object  \n",
      " 87  해동_혼합_차이                38089 non-null  object  \n",
      " 88  혼합_이식_차이                38089 non-null  object  \n",
      " 89  이식_해동_차이                38089 non-null  object  \n",
      "dtypes: category(1), float64(40), int32(5), int64(30), object(14)\n",
      "memory usage: 25.5+ MB\n"
     ]
    }
   ],
   "source": [
    "train.info()"
   ]
  },
  {
   "cell_type": "code",
   "execution_count": 166,
   "metadata": {},
   "outputs": [
    {
     "name": "stdout",
     "output_type": "stream",
     "text": [
      "<class 'pandas.core.frame.DataFrame'>\n",
      "Int64Index: 13392 entries, 0 to 13391\n",
      "Data columns (total 89 columns):\n",
      " #   Column                  Non-Null Count  Dtype   \n",
      "---  ------                  --------------  -----   \n",
      " 0   ID                      13392 non-null  object  \n",
      " 1   시술_당시_나이                13392 non-null  object  \n",
      " 2   임신_시도_또는_마지막_임신_경과_연수   13392 non-null  category\n",
      " 3   시술_유형                   13392 non-null  object  \n",
      " 4   배란_자극_여부                13392 non-null  int64   \n",
      " 5   배란_유도_유형                13392 non-null  object  \n",
      " 6   단일_배아_이식_여부             13108 non-null  float64 \n",
      " 7   착상_전_유전_검사_사용_여부        13392 non-null  float64 \n",
      " 8   착상_전_유전_진단_사용_여부        13108 non-null  float64 \n",
      " 9   남성_주_불임_원인              13392 non-null  int64   \n",
      " 10  남성_부_불임_원인              13392 non-null  int64   \n",
      " 11  여성_주_불임_원인              13392 non-null  int64   \n",
      " 12  여성_부_불임_원인              13392 non-null  int64   \n",
      " 13  부부_주_불임_원인              13392 non-null  int64   \n",
      " 14  부부_부_불임_원인              13392 non-null  int64   \n",
      " 15  불명확_불임_원인               13392 non-null  int64   \n",
      " 16  불임_원인_-_난관_질환           13392 non-null  int64   \n",
      " 17  불임_원인_-_남성_요인           13392 non-null  int64   \n",
      " 18  불임_원인_-_배란_장애           13392 non-null  int64   \n",
      " 19  불임_원인_-_자궁경부_문제         13392 non-null  int64   \n",
      " 20  불임_원인_-_자궁내막증           13392 non-null  int64   \n",
      " 21  불임_원인_-_정자_농도           13392 non-null  int64   \n",
      " 22  불임_원인_-_정자_형태           13392 non-null  int64   \n",
      " 23  배아_생성_주요_이유             13392 non-null  object  \n",
      " 24  총_시술_횟수                 13392 non-null  int64   \n",
      " 25  클리닉_내_총_시술_횟수           13392 non-null  int64   \n",
      " 26  IVF_시술_횟수               13392 non-null  int64   \n",
      " 27  DI_시술_횟수                13392 non-null  int64   \n",
      " 28  총_임신_횟수                 13392 non-null  int64   \n",
      " 29  IVF_임신_횟수               13392 non-null  int64   \n",
      " 30  DI_임신_횟수                13392 non-null  int64   \n",
      " 31  총_출산_횟수                 13392 non-null  int64   \n",
      " 32  IVF_출산_횟수               13392 non-null  int64   \n",
      " 33  DI_출산_횟수                13392 non-null  int64   \n",
      " 34  총_생성_배아_수               13108 non-null  float64 \n",
      " 35  미세주입된_난자_수              13108 non-null  float64 \n",
      " 36  미세주입에서_생성된_배아_수         13108 non-null  float64 \n",
      " 37  이식된_배아_수                13108 non-null  float64 \n",
      " 38  미세주입_배아_이식_수            13108 non-null  float64 \n",
      " 39  저장된_배아_수                13108 non-null  float64 \n",
      " 40  미세주입_후_저장된_배아_수         13108 non-null  float64 \n",
      " 41  해동된_배아_수                13108 non-null  float64 \n",
      " 42  해동_난자_수                 13108 non-null  float64 \n",
      " 43  수집된_신선_난자_수             13108 non-null  float64 \n",
      " 44  저장된_신선_난자_수             13108 non-null  float64 \n",
      " 45  혼합된_난자_수                13108 non-null  float64 \n",
      " 46  파트너_정자와_혼합된_난자_수        13108 non-null  float64 \n",
      " 47  기증자_정자와_혼합된_난자_수        13108 non-null  float64 \n",
      " 48  난자_출처                   13392 non-null  object  \n",
      " 49  정자_출처                   13392 non-null  object  \n",
      " 50  난자_기증자_나이               13392 non-null  object  \n",
      " 51  정자_기증자_나이               13392 non-null  object  \n",
      " 52  동결_배아_사용_여부             13108 non-null  float64 \n",
      " 53  신선_배아_사용_여부             13108 non-null  float64 \n",
      " 54  기증_배아_사용_여부             13108 non-null  float64 \n",
      " 55  대리모_여부                  13108 non-null  float64 \n",
      " 56  PGD_시술_여부               13392 non-null  float64 \n",
      " 57  PGS_시술_여부               13392 non-null  float64 \n",
      " 58  난자_채취_경과일               13392 non-null  float64 \n",
      " 59  난자_해동_경과일               13392 non-null  float64 \n",
      " 60  난자_혼합_경과일               13392 non-null  float64 \n",
      " 61  배아_이식_경과일               13392 non-null  float64 \n",
      " 62  배아_해동_경과일               13392 non-null  float64 \n",
      " 63  변환된_특정_시술_유형            13392 non-null  object  \n",
      " 64  특정_시술_유형_ICSI_더미        13392 non-null  int64   \n",
      " 65  특정_시술_유형_IVF_더미         13392 non-null  int64   \n",
      " 66  특정_시술_유형_AH_더미          13392 non-null  int64   \n",
      " 67  특정_시술_유형_BLASTOCYST_더미  13392 non-null  int64   \n",
      " 68  배아_생성_주요_이유_현재시술용       13392 non-null  int32   \n",
      " 69  배아_생성_주요_이유_기증용         13392 non-null  int32   \n",
      " 70  배아_생성_주요_이유_난자저장용       13392 non-null  int32   \n",
      " 71  배아_생성_주요_이유_배아저장용       13392 non-null  int32   \n",
      " 72  IVF_임신_시술_비율            13392 non-null  float64 \n",
      " 73  IVF_출산_임신_비율            13392 non-null  float64 \n",
      " 74  DI_임신_시술_비율             13392 non-null  float64 \n",
      " 75  DI_출산_임신_비율             13392 non-null  float64 \n",
      " 76  임신_성공률                  13392 non-null  float64 \n",
      " 77  출산_성공률                  13392 non-null  float64 \n",
      " 78  임신_성공율                  13392 non-null  float64 \n",
      " 79  ICSI_효율성                13392 non-null  float64 \n",
      " 80  저장_배아_비율                13392 non-null  float64 \n",
      " 81  해동_난자_비율                13392 non-null  float64 \n",
      " 82  생성_배아_유지율               13392 non-null  float64 \n",
      " 83  파트너_정자_사용_비율            13392 non-null  float64 \n",
      " 84  기증자_나이_더미               13392 non-null  int32   \n",
      " 85  채취_해동_차이                13392 non-null  object  \n",
      " 86  해동_혼합_차이                13392 non-null  object  \n",
      " 87  혼합_이식_차이                13392 non-null  object  \n",
      " 88  이식_해동_차이                13392 non-null  object  \n",
      "dtypes: category(1), float64(40), int32(5), int64(29), object(14)\n",
      "memory usage: 8.9+ MB\n"
     ]
    }
   ],
   "source": [
    "test.info()"
   ]
  },
  {
   "cell_type": "markdown",
   "metadata": {},
   "source": [
    "## 데이터 저장"
   ]
  },
  {
   "cell_type": "code",
   "execution_count": 167,
   "metadata": {},
   "outputs": [],
   "source": [
    "# CSV 파일 저장\n",
    "train.to_csv('../data/train_dataset_25_TRCMWS.csv', index=False, encoding='utf-8-sig')\n",
    "test.to_csv('../data/test_dataset_25_TRCMWS.csv', index=False, encoding='utf-8-sig')"
   ]
  },
  {
   "cell_type": "markdown",
   "metadata": {},
   "source": [
    "."
   ]
  }
 ],
 "metadata": {
  "kernelspec": {
   "display_name": "Python 3",
   "language": "python",
   "name": "python3"
  },
  "language_info": {
   "codemirror_mode": {
    "name": "ipython",
    "version": 3
   },
   "file_extension": ".py",
   "mimetype": "text/x-python",
   "name": "python",
   "nbconvert_exporter": "python",
   "pygments_lexer": "ipython3",
   "version": "3.7.8"
  }
 },
 "nbformat": 4,
 "nbformat_minor": 2
}
