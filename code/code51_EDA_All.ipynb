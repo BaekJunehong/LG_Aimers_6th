{
 "cells": [
  {
   "cell_type": "markdown",
   "metadata": {},
   "source": [
    "## 난임 환자 대상 임신 성공 여부 예측"
   ]
  },
  {
   "cell_type": "markdown",
   "metadata": {},
   "source": [
    "### LGAimers 6th 온라인 해커톤"
   ]
  },
  {
   "cell_type": "markdown",
   "metadata": {},
   "source": [
    "Import"
   ]
  },
  {
   "cell_type": "code",
   "execution_count": 1338,
   "metadata": {},
   "outputs": [],
   "source": [
    "import numpy as np\n",
    "import pandas as pd\n",
    "import seaborn as sns\n",
    "import matplotlib.pyplot as plt\n",
    "\n",
    "import os\n",
    "from pprint import pprint"
   ]
  },
  {
   "cell_type": "code",
   "execution_count": 1339,
   "metadata": {},
   "outputs": [],
   "source": [
    "import platform\n",
    "from matplotlib import rc\n",
    "\n",
    "# 운영 체제에 따라 폰트 설정\n",
    "if platform.system() == 'Windows':  # Windows 환경\n",
    "    rc('font', family='Malgun Gothic')  # 맑은 고딕\n",
    "\n",
    "# 음수 표시 가능하도록 설정\n",
    "plt.rcParams['axes.unicode_minus'] = False"
   ]
  },
  {
   "cell_type": "markdown",
   "metadata": {},
   "source": [
    "반복적으로 쓰는 함수툴"
   ]
  },
  {
   "cell_type": "code",
   "execution_count": 1340,
   "metadata": {},
   "outputs": [],
   "source": [
    "def plot_box(df, col_name):\n",
    "    \"\"\"\n",
    "    주어진 데이터프레임과 열 이름에 대해 박스 플롯을 그리는 함수.\n",
    "\n",
    "    Parameters:\n",
    "    df (pd.DataFrame): 데이터프레임\n",
    "    col_name (str): 열 이름\n",
    "    \"\"\"\n",
    "    plt.figure(figsize=(7, 4))\n",
    "    plt.boxplot(df[col_name], vert=False)\n",
    "    plt.xlabel(col_name)\n",
    "    plt.title(f'Box Plot of {col_name}')\n",
    "    plt.show()\n",
    "\n",
    "def value_counts_ratio(df, col_name, target_name='임신_성공_여부'):\n",
    "    \"\"\"\n",
    "    주어진 데이터프레임의 특정 열에 대해 각 값마다 타겟 변수의 비율과 갯수, 총 갯수를 출력하는 함수.\n",
    "\n",
    "    Parameters:\n",
    "    df (pd.DataFrame): 데이터프레임\n",
    "    col_name (str): 열 이름\n",
    "    target_name (str): 타겟 변수 이름\n",
    "    \"\"\"\n",
    "    # 각 값마다 타겟 변수의 비율 계산\n",
    "    value_counts = df.groupby(col_name)[target_name].value_counts(normalize=True).unstack().fillna(0)\n",
    "    \n",
    "    # 각 값마다 타겟 변수의 갯수 계산\n",
    "    counts = df.groupby(col_name)[target_name].value_counts().unstack().fillna(0)\n",
    "    \n",
    "    # 각 값마다 총 갯수 계산\n",
    "    total_counts = df[col_name].value_counts().rename('Total_Count')\n",
    "    \n",
    "    # 비율과 갯수를 합침\n",
    "    result = value_counts.join(counts, lsuffix='_ratio', rsuffix='_count')\n",
    "    \n",
    "    # 총 갯수를 합침\n",
    "    result = result.join(total_counts, on=col_name)\n",
    "    \n",
    "    # 출력 형식 조정\n",
    "    result.index.name = 'variable'\n",
    "    print(f\"\\n{col_name}별 {target_name} 비율 및 갯수\\n\")\n",
    "    print(result.rename(columns=lambda x: x.split('_')[0]))\n",
    "\n",
    "def summarize_group(df, group_by_columns):\n",
    "    \"\"\"\n",
    "    주어진 데이터프레임을 특정 열들로 그룹화하여 각 그룹의 '임신_성공_여부' 비율과 갯수를 요약하는 함수.\n",
    "\n",
    "    Parameters:\n",
    "    df (pd.DataFrame): 데이터프레임\n",
    "    group_by_columns (list): 그룹화할 열 이름들의 리스트\n",
    "    \"\"\"\n",
    "    # 데이터프레임을 그룹화\n",
    "    grouped_df = df.groupby(group_by_columns)\n",
    "    \n",
    "    # 결과를 저장할 리스트 초기화\n",
    "    results = []\n",
    "    \n",
    "    # 그룹화된 데이터프레임의 내용을 확인하는 코드\n",
    "    for name, group in grouped_df:\n",
    "        # 그룹의 갯수 계산\n",
    "        group_count = group.shape[0]\n",
    "        \n",
    "        # '임신_성공_여부' 변수의 '임신 성공' 비율과 갯수 계산\n",
    "        success_count = group['임신_성공_여부'].value_counts().get(1, 0)\n",
    "        success_ratio = success_count / group_count\n",
    "        \n",
    "        # 결과 리스트에 추가\n",
    "        results.append([name, success_count, success_ratio, group_count])\n",
    "    \n",
    "    # 결과 리스트를 데이터프레임으로 변환\n",
    "    results_df = pd.DataFrame(results, columns=['group', \"'임신_성공_여부' count\", 'ratio', 'Total'])\n",
    "    \n",
    "    # 그룹화된 변수들의 이름을 제목행으로 출력\n",
    "    print(f\"Grouped by: {', '.join(group_by_columns)}\")\n",
    "    print()\n",
    "    # 데이터프레임 출력\n",
    "    print(results_df)\n",
    "\n",
    "def plot_ratio(df, group_by_column, target_column='임신_성공_여부', success_value=1):\n",
    "    \"\"\"\n",
    "    주어진 데이터프레임을 특정 열로 그룹화하여 각 그룹의 타겟 변수의 성공 비율을 시각화하는 함수.\n",
    "\n",
    "    Parameters:\n",
    "    df (pd.DataFrame): 데이터프레임\n",
    "    group_by_column (str): 그룹화할 열 이름\n",
    "    target_column (str): 타겟 변수 이름\n",
    "    success_value (int): 타겟 변수의 성공을 나타내는 값\n",
    "    \"\"\"\n",
    "    # 데이터프레임을 그룹화\n",
    "    grouped_df = df.groupby(group_by_column)\n",
    "    \n",
    "    # 결과를 저장할 리스트 초기화\n",
    "    results = []\n",
    "    \n",
    "    # 그룹화된 데이터프레임의 내용을 확인하는 코드\n",
    "    for name, group in grouped_df:\n",
    "        # 그룹의 갯수 계산\n",
    "        group_count = group.shape[0]\n",
    "        \n",
    "        # '임신_성공_여부' 변수의 '성공' 비율과 갯수 계산\n",
    "        success_count = group[target_column].value_counts().get(success_value, 0)\n",
    "        success_ratio = success_count / group_count\n",
    "        \n",
    "        # 결과 리스트에 추가\n",
    "        results.append([name, success_count, success_ratio, group_count])\n",
    "    \n",
    "    # 결과 리스트를 데이터프레임으로 변환\n",
    "    results_df = pd.DataFrame(results, columns=['group', f\"'{success_value}' count\", 'ratio', 'Total'])\n",
    "    \n",
    "    # 그래프 크기 설정\n",
    "    plt.figure(figsize=(10, 5))\n",
    "    \n",
    "    # 막대 그래프 생성\n",
    "    ax = results_df.plot(kind='bar', x='group', y='ratio', legend=False)\n",
    "    \n",
    "    # 각 막대 위에 임신 성공 여부 갯수와 총 갯수 표시\n",
    "    for i, (success_count, total) in enumerate(zip(results_df[f\"'{success_value}' count\"], results_df['Total'])):\n",
    "        ax.text(i, results_df['ratio'][i], f'{success_count} ({total})', ha='center', va='bottom', fontsize=8)\n",
    "    \n",
    "    # 그래프 제목 및 축 레이블 설정\n",
    "    ax.set_title(f'{success_value} Ratio by {group_by_column}')\n",
    "    ax.set_xlabel(group_by_column)\n",
    "    ax.set_ylabel(f'{success_value} Ratio')\n",
    "   \n",
    "    # 그래프 출력\n",
    "    plt.show()\n",
    "\n",
    "def plot_ratio_boxplot(data, column_name, target_column='임신_성공_여부'):\n",
    "    \"\"\"\n",
    "    주어진 데이터프레임의 특정 열과 타겟 변수 간의 관계를 박스 플롯으로 시각화하는 함수.\n",
    "\n",
    "    Parameters:\n",
    "    data (pd.DataFrame): 데이터프레임\n",
    "    column_name (str): 열 이름\n",
    "    target_column (str): 타겟 변수 이름\n",
    "    \"\"\"\n",
    "\n",
    "    # 그래프 그리기\n",
    "    plt.figure(figsize=(10, 6))\n",
    "    sns.boxplot(x=column_name, y=target_column, data=data)\n",
    "\n",
    "    # 그래프 제목 및 레이블 설정\n",
    "    plt.title(f'{column_name} vs {target_column}')\n",
    "    plt.xlabel(column_name)\n",
    "    plt.ylabel(target_column)\n",
    "\n",
    "    # 그래프 출력\n",
    "    plt.show()"
   ]
  },
  {
   "cell_type": "markdown",
   "metadata": {},
   "source": [
    "### Data Load"
   ]
  },
  {
   "cell_type": "code",
   "execution_count": 1341,
   "metadata": {},
   "outputs": [
    {
     "name": "stdout",
     "output_type": "stream",
     "text": [
      "Index(['ID', '시술_시기_코드', '시술_당시_나이', '임신_시도_또는_마지막_임신_경과_연수', '시술_유형',\n",
      "       '특정_시술_유형', '배란_자극_여부', '배란_유도_유형', '단일_배아_이식_여부', '착상_전_유전_검사_사용_여부',\n",
      "       '착상_전_유전_진단_사용_여부', '남성_주_불임_원인', '남성_부_불임_원인', '여성_주_불임_원인',\n",
      "       '여성_부_불임_원인', '부부_주_불임_원인', '부부_부_불임_원인', '불명확_불임_원인', '불임_원인_-_난관_질환',\n",
      "       '불임_원인_-_남성_요인', '불임_원인_-_배란_장애', '불임_원인_-_여성_요인', '불임_원인_-_자궁경부_문제',\n",
      "       '불임_원인_-_자궁내막증', '불임_원인_-_정자_농도', '불임_원인_-_정자_면역학적_요인',\n",
      "       '불임_원인_-_정자_운동성', '불임_원인_-_정자_형태', '배아_생성_주요_이유', '총_시술_횟수',\n",
      "       '클리닉_내_총_시술_횟수', 'IVF_시술_횟수', 'DI_시술_횟수', '총_임신_횟수', 'IVF_임신_횟수',\n",
      "       'DI_임신_횟수', '총_출산_횟수', 'IVF_출산_횟수', 'DI_출산_횟수', '총_생성_배아_수',\n",
      "       '미세주입된_난자_수', '미세주입에서_생성된_배아_수', '이식된_배아_수', '미세주입_배아_이식_수', '저장된_배아_수',\n",
      "       '미세주입_후_저장된_배아_수', '해동된_배아_수', '해동_난자_수', '수집된_신선_난자_수', '저장된_신선_난자_수',\n",
      "       '혼합된_난자_수', '파트너_정자와_혼합된_난자_수', '기증자_정자와_혼합된_난자_수', '난자_출처', '정자_출처',\n",
      "       '난자_기증자_나이', '정자_기증자_나이', '동결_배아_사용_여부', '신선_배아_사용_여부', '기증_배아_사용_여부',\n",
      "       '대리모_여부', 'PGD_시술_여부', 'PGS_시술_여부', '난자_채취_경과일', '난자_해동_경과일',\n",
      "       '난자_혼합_경과일', '배아_이식_경과일', '배아_해동_경과일', '임신_성공_여부'],\n",
      "      dtype='object')\n"
     ]
    }
   ],
   "source": [
    "# 데이터 로드\n",
    "train = pd.read_csv('../data/train.csv')\n",
    "test = pd.read_csv('../data/test.csv')\n",
    "\n",
    "# 변수명에서 공백을 밑줄로 대체\n",
    "train.columns = train.columns.str.replace(' ', '_')\n",
    "test.columns = test.columns.str.replace(' ', '_')\n",
    "\n",
    "# 변경된 변수명 확인\n",
    "print(train.columns)"
   ]
  },
  {
   "cell_type": "code",
   "execution_count": 1342,
   "metadata": {},
   "outputs": [
    {
     "name": "stdout",
     "output_type": "stream",
     "text": [
      "<class 'pandas.core.frame.DataFrame'>\n",
      "RangeIndex: 256351 entries, 0 to 256350\n",
      "Data columns (total 69 columns):\n",
      " #   Column                 Non-Null Count   Dtype  \n",
      "---  ------                 --------------   -----  \n",
      " 0   ID                     256351 non-null  object \n",
      " 1   시술_시기_코드               256351 non-null  object \n",
      " 2   시술_당시_나이               256351 non-null  object \n",
      " 3   임신_시도_또는_마지막_임신_경과_연수  9370 non-null    float64\n",
      " 4   시술_유형                  256351 non-null  object \n",
      " 5   특정_시술_유형               256349 non-null  object \n",
      " 6   배란_자극_여부               256351 non-null  int64  \n",
      " 7   배란_유도_유형               256351 non-null  object \n",
      " 8   단일_배아_이식_여부            250060 non-null  float64\n",
      " 9   착상_전_유전_검사_사용_여부       2718 non-null    float64\n",
      " 10  착상_전_유전_진단_사용_여부       250060 non-null  float64\n",
      " 11  남성_주_불임_원인             256351 non-null  int64  \n",
      " 12  남성_부_불임_원인             256351 non-null  int64  \n",
      " 13  여성_주_불임_원인             256351 non-null  int64  \n",
      " 14  여성_부_불임_원인             256351 non-null  int64  \n",
      " 15  부부_주_불임_원인             256351 non-null  int64  \n",
      " 16  부부_부_불임_원인             256351 non-null  int64  \n",
      " 17  불명확_불임_원인              256351 non-null  int64  \n",
      " 18  불임_원인_-_난관_질환          256351 non-null  int64  \n",
      " 19  불임_원인_-_남성_요인          256351 non-null  int64  \n",
      " 20  불임_원인_-_배란_장애          256351 non-null  int64  \n",
      " 21  불임_원인_-_여성_요인          256351 non-null  int64  \n",
      " 22  불임_원인_-_자궁경부_문제        256351 non-null  int64  \n",
      " 23  불임_원인_-_자궁내막증          256351 non-null  int64  \n",
      " 24  불임_원인_-_정자_농도          256351 non-null  int64  \n",
      " 25  불임_원인_-_정자_면역학적_요인     256351 non-null  int64  \n",
      " 26  불임_원인_-_정자_운동성         256351 non-null  int64  \n",
      " 27  불임_원인_-_정자_형태          256351 non-null  int64  \n",
      " 28  배아_생성_주요_이유            250060 non-null  object \n",
      " 29  총_시술_횟수                256351 non-null  object \n",
      " 30  클리닉_내_총_시술_횟수          256351 non-null  object \n",
      " 31  IVF_시술_횟수              256351 non-null  object \n",
      " 32  DI_시술_횟수               256351 non-null  object \n",
      " 33  총_임신_횟수                256351 non-null  object \n",
      " 34  IVF_임신_횟수              256351 non-null  object \n",
      " 35  DI_임신_횟수               256351 non-null  object \n",
      " 36  총_출산_횟수                256351 non-null  object \n",
      " 37  IVF_출산_횟수              256351 non-null  object \n",
      " 38  DI_출산_횟수               256351 non-null  object \n",
      " 39  총_생성_배아_수              250060 non-null  float64\n",
      " 40  미세주입된_난자_수             250060 non-null  float64\n",
      " 41  미세주입에서_생성된_배아_수        250060 non-null  float64\n",
      " 42  이식된_배아_수               250060 non-null  float64\n",
      " 43  미세주입_배아_이식_수           250060 non-null  float64\n",
      " 44  저장된_배아_수               250060 non-null  float64\n",
      " 45  미세주입_후_저장된_배아_수        250060 non-null  float64\n",
      " 46  해동된_배아_수               250060 non-null  float64\n",
      " 47  해동_난자_수                250060 non-null  float64\n",
      " 48  수집된_신선_난자_수            250060 non-null  float64\n",
      " 49  저장된_신선_난자_수            250060 non-null  float64\n",
      " 50  혼합된_난자_수               250060 non-null  float64\n",
      " 51  파트너_정자와_혼합된_난자_수       250060 non-null  float64\n",
      " 52  기증자_정자와_혼합된_난자_수       250060 non-null  float64\n",
      " 53  난자_출처                  256351 non-null  object \n",
      " 54  정자_출처                  256351 non-null  object \n",
      " 55  난자_기증자_나이              256351 non-null  object \n",
      " 56  정자_기증자_나이              256351 non-null  object \n",
      " 57  동결_배아_사용_여부            250060 non-null  float64\n",
      " 58  신선_배아_사용_여부            250060 non-null  float64\n",
      " 59  기증_배아_사용_여부            250060 non-null  float64\n",
      " 60  대리모_여부                 250060 non-null  float64\n",
      " 61  PGD_시술_여부              2179 non-null    float64\n",
      " 62  PGS_시술_여부              1929 non-null    float64\n",
      " 63  난자_채취_경과일              198863 non-null  float64\n",
      " 64  난자_해동_경과일              1436 non-null    float64\n",
      " 65  난자_혼합_경과일              202616 non-null  float64\n",
      " 66  배아_이식_경과일              212785 non-null  float64\n",
      " 67  배아_해동_경과일              40369 non-null   float64\n",
      " 68  임신_성공_여부               256351 non-null  int64  \n",
      "dtypes: float64(29), int64(19), object(21)\n",
      "memory usage: 135.0+ MB\n"
     ]
    }
   ],
   "source": [
    "train.info(verbose=True)"
   ]
  },
  {
   "cell_type": "code",
   "execution_count": 1343,
   "metadata": {},
   "outputs": [
    {
     "name": "stdout",
     "output_type": "stream",
     "text": [
      "<class 'pandas.core.frame.DataFrame'>\n",
      "RangeIndex: 90067 entries, 0 to 90066\n",
      "Data columns (total 68 columns):\n",
      " #   Column                 Non-Null Count  Dtype  \n",
      "---  ------                 --------------  -----  \n",
      " 0   ID                     90067 non-null  object \n",
      " 1   시술_시기_코드               90067 non-null  object \n",
      " 2   시술_당시_나이               90067 non-null  object \n",
      " 3   임신_시도_또는_마지막_임신_경과_연수  3297 non-null   float64\n",
      " 4   시술_유형                  90067 non-null  object \n",
      " 5   특정_시술_유형               90067 non-null  object \n",
      " 6   배란_자극_여부               90067 non-null  int64  \n",
      " 7   배란_유도_유형               90067 non-null  object \n",
      " 8   단일_배아_이식_여부            87891 non-null  float64\n",
      " 9   착상_전_유전_검사_사용_여부       933 non-null    float64\n",
      " 10  착상_전_유전_진단_사용_여부       87891 non-null  float64\n",
      " 11  남성_주_불임_원인             90067 non-null  int64  \n",
      " 12  남성_부_불임_원인             90067 non-null  int64  \n",
      " 13  여성_주_불임_원인             90067 non-null  int64  \n",
      " 14  여성_부_불임_원인             90067 non-null  int64  \n",
      " 15  부부_주_불임_원인             90067 non-null  int64  \n",
      " 16  부부_부_불임_원인             90067 non-null  int64  \n",
      " 17  불명확_불임_원인              90067 non-null  int64  \n",
      " 18  불임_원인_-_난관_질환          90067 non-null  int64  \n",
      " 19  불임_원인_-_남성_요인          90067 non-null  int64  \n",
      " 20  불임_원인_-_배란_장애          90067 non-null  int64  \n",
      " 21  불임_원인_-_여성_요인          90067 non-null  int64  \n",
      " 22  불임_원인_-_자궁경부_문제        90067 non-null  int64  \n",
      " 23  불임_원인_-_자궁내막증          90067 non-null  int64  \n",
      " 24  불임_원인_-_정자_농도          90067 non-null  int64  \n",
      " 25  불임_원인_-_정자_면역학적_요인     90067 non-null  int64  \n",
      " 26  불임_원인_-_정자_운동성         90067 non-null  int64  \n",
      " 27  불임_원인_-_정자_형태          90067 non-null  int64  \n",
      " 28  배아_생성_주요_이유            87891 non-null  object \n",
      " 29  총_시술_횟수                90067 non-null  object \n",
      " 30  클리닉_내_총_시술_횟수          90067 non-null  object \n",
      " 31  IVF_시술_횟수              90067 non-null  object \n",
      " 32  DI_시술_횟수               90067 non-null  object \n",
      " 33  총_임신_횟수                90067 non-null  object \n",
      " 34  IVF_임신_횟수              90067 non-null  object \n",
      " 35  DI_임신_횟수               90067 non-null  object \n",
      " 36  총_출산_횟수                90067 non-null  object \n",
      " 37  IVF_출산_횟수              90067 non-null  object \n",
      " 38  DI_출산_횟수               90067 non-null  object \n",
      " 39  총_생성_배아_수              87891 non-null  float64\n",
      " 40  미세주입된_난자_수             87891 non-null  float64\n",
      " 41  미세주입에서_생성된_배아_수        87891 non-null  float64\n",
      " 42  이식된_배아_수               87891 non-null  float64\n",
      " 43  미세주입_배아_이식_수           87891 non-null  float64\n",
      " 44  저장된_배아_수               87891 non-null  float64\n",
      " 45  미세주입_후_저장된_배아_수        87891 non-null  float64\n",
      " 46  해동된_배아_수               87891 non-null  float64\n",
      " 47  해동_난자_수                87891 non-null  float64\n",
      " 48  수집된_신선_난자_수            87891 non-null  float64\n",
      " 49  저장된_신선_난자_수            87891 non-null  float64\n",
      " 50  혼합된_난자_수               87891 non-null  float64\n",
      " 51  파트너_정자와_혼합된_난자_수       87891 non-null  float64\n",
      " 52  기증자_정자와_혼합된_난자_수       87891 non-null  float64\n",
      " 53  난자_출처                  90067 non-null  object \n",
      " 54  정자_출처                  90067 non-null  object \n",
      " 55  난자_기증자_나이              90067 non-null  object \n",
      " 56  정자_기증자_나이              90067 non-null  object \n",
      " 57  동결_배아_사용_여부            87891 non-null  float64\n",
      " 58  신선_배아_사용_여부            87891 non-null  float64\n",
      " 59  기증_배아_사용_여부            87891 non-null  float64\n",
      " 60  대리모_여부                 87891 non-null  float64\n",
      " 61  PGD_시술_여부              781 non-null    float64\n",
      " 62  PGS_시술_여부              671 non-null    float64\n",
      " 63  난자_채취_경과일              70118 non-null  float64\n",
      " 64  난자_해동_경과일              492 non-null    float64\n",
      " 65  난자_혼합_경과일              71488 non-null  float64\n",
      " 66  배아_이식_경과일              74821 non-null  float64\n",
      " 67  배아_해동_경과일              13950 non-null  float64\n",
      "dtypes: float64(29), int64(18), object(21)\n",
      "memory usage: 46.7+ MB\n"
     ]
    }
   ],
   "source": [
    "test.info()"
   ]
  },
  {
   "cell_type": "code",
   "execution_count": 1344,
   "metadata": {},
   "outputs": [
    {
     "name": "stdout",
     "output_type": "stream",
     "text": [
      "임신_성공_여부 값 개수:\n",
      "임신_성공_여부\n",
      "0    190123\n",
      "1     66228\n",
      "Name: count, dtype: int64\n",
      "\n",
      "임신_성공_여부 값 비율 (%):\n",
      "임신_성공_여부\n",
      "0    74.16511\n",
      "1    25.83489\n",
      "Name: count, dtype: float64\n"
     ]
    }
   ],
   "source": [
    "# '임신_성공_여부' 변수의 값 개수 계산\n",
    "value_counts = train['임신_성공_여부'].value_counts()\n",
    "\n",
    "# 각 값이 전체에서 차지하는 비율 계산\n",
    "value_percentages = value_counts / len(train) * 100\n",
    "\n",
    "# 결과 출력\n",
    "print(\"임신_성공_여부 값 개수:\")\n",
    "print(value_counts)\n",
    "print(\"\\n임신_성공_여부 값 비율 (%):\")\n",
    "print(value_percentages)"
   ]
  },
  {
   "cell_type": "markdown",
   "metadata": {},
   "source": [
    "무조건 불임인 행 따로 구분해둠"
   ]
  },
  {
   "cell_type": "code",
   "execution_count": 1345,
   "metadata": {},
   "outputs": [],
   "source": [
    "# # '시술_당시_나이' 변수의 값이 '알 수 없음'인 행 제거\n",
    "# train_sub = train[train['시술_당시_나이'] == '알 수 없음']\n",
    "# train = train[train['시술_당시_나이'] != '알 수 없음']\n",
    "\n",
    "# # '남성_주_불임_원인'과 '남성_부_불임_원인'의 값이 동시에 1인 행 제거\n",
    "# train_sub = pd.concat([train_sub, train[(train['남성_주_불임_원인'] == 1) & (train['남성_부_불임_원인'] == 1)]])\n",
    "# train = train[~((train['남성_주_불임_원인'] == 1) & (train['남성_부_불임_원인'] == 1))]\n",
    "\n",
    "# # '여성_주_불임_원인'과 '여성_부_불임_원인'의 값이 동시에 1인 행 제거\n",
    "# train_sub = pd.concat([train_sub, train[(train['여성_주_불임_원인'] == 1) & (train['여성_부_불임_원인'] == 1)]])\n",
    "# train = train[~((train['여성_주_불임_원인'] == 1) & (train['여성_부_불임_원인'] == 1))]\n",
    "\n",
    "# # '부부_주_불임_원인'과 '부부_부_불임_원인'의 값이 동시에 1인 행 제거\n",
    "# train_sub = pd.concat([train_sub, train[(train['부부_주_불임_원인'] == 1) & (train['부부_부_불임_원인'] == 1)]])\n",
    "# train = train[~((train['부부_주_불임_원인'] == 1) & (train['부부_부_불임_원인'] == 1))]"
   ]
  },
  {
   "cell_type": "code",
   "execution_count": 1346,
   "metadata": {},
   "outputs": [],
   "source": [
    "# 조건 정의\n",
    "train_condition = (\n",
    "    (train['시술_당시_나이'] == '알 수 없음') |\n",
    "    ((train['남성_주_불임_원인'] == 1) & (train['남성_부_불임_원인'] == 1)) |\n",
    "    ((train['여성_주_불임_원인'] == 1) & (train['여성_부_불임_원인'] == 1)) |\n",
    "    ((train['부부_주_불임_원인'] == 1) & (train['부부_부_불임_원인'] == 1))\n",
    ")\n",
    "\n",
    "test_condition = (\n",
    "    (test['시술_당시_나이'] == '알 수 없음') |\n",
    "    ((test['남성_주_불임_원인'] == 1) & (test['남성_부_불임_원인'] == 1)) |\n",
    "    ((test['여성_주_불임_원인'] == 1) & (test['여성_부_불임_원인'] == 1)) |\n",
    "    ((test['부부_주_불임_원인'] == 1) & (test['부부_부_불임_원인'] == 1))\n",
    ")\n",
    "\n",
    "# ID 변수와 임신_성공_여부 변수를 제외한 나머지 열의 값을 -10으로 변경\n",
    "train.loc[train_condition, train.columns.difference(['ID', '임신_성공_여부'])] = -10\n",
    "test.loc[test_condition, test.columns.difference(['ID', '임신_성공_여부'])] = -10"
   ]
  },
  {
   "cell_type": "markdown",
   "metadata": {},
   "source": [
    "## EDA"
   ]
  },
  {
   "cell_type": "markdown",
   "metadata": {},
   "source": [
    "### 1. 시술_시기_코드"
   ]
  },
  {
   "cell_type": "markdown",
   "metadata": {},
   "source": [
    "난임 시술을 받은 시기를 기준으로 코드 부여"
   ]
  },
  {
   "cell_type": "code",
   "execution_count": 1347,
   "metadata": {},
   "outputs": [
    {
     "name": "stdout",
     "output_type": "stream",
     "text": [
      "\n",
      "시술_시기_코드별 임신_성공_여부 비율 및 갯수\n",
      "\n",
      "                 0         1      0     1  Total\n",
      "variable                                        \n",
      "-10       0.994169  0.005831    341     2    343\n",
      "TRCMWS    0.742198  0.257802  28228  9805  38033\n",
      "TRDQAZ    0.754095  0.245905  29329  9564  38893\n",
      "TRJXFG    0.733306  0.266694  26377  9593  35970\n",
      "TRVNRY    0.739976  0.260024  26742  9397  36139\n",
      "TRXQMD    0.743715  0.256285  25885  8920  34805\n",
      "TRYBLT    0.730480  0.269520  26775  9879  36654\n",
      "TRZKPL    0.744664  0.255336  26446  9068  35514\n"
     ]
    }
   ],
   "source": [
    "value_counts_ratio(train, '시술_시기_코드')"
   ]
  },
  {
   "cell_type": "code",
   "execution_count": 1348,
   "metadata": {},
   "outputs": [],
   "source": [
    "# '시술_시기_코드' 변수 제거\n",
    "train = train.drop(columns=['시술_시기_코드'])\n",
    "test = test.drop(columns=['시술_시기_코드'])"
   ]
  },
  {
   "cell_type": "markdown",
   "metadata": {},
   "source": [
    "### 2. 시술 당시 나이"
   ]
  },
  {
   "cell_type": "markdown",
   "metadata": {},
   "source": [
    "환자의 시술 당시 나이(연령대)"
   ]
  },
  {
   "cell_type": "code",
   "execution_count": 1349,
   "metadata": {},
   "outputs": [
    {
     "name": "stdout",
     "output_type": "stream",
     "text": [
      "\n",
      "시술_당시_나이별 임신_성공_여부 비율 및 갯수\n",
      "\n",
      "                 0         1      0      1   Total\n",
      "variable                                          \n",
      "-10       0.994169  0.005831    341      2     343\n",
      "만18-34세   0.677378  0.322622  69415  33061  102476\n",
      "만35-37세   0.721585  0.278415  41691  16086   57777\n",
      "만38-39세   0.782849  0.217151  30719   8521   39240\n",
      "만40-42세   0.840599  0.159401  31393   5953   37346\n",
      "만43-44세   0.882050  0.117950  10806   1445   12251\n",
      "만45-50세   0.832321  0.167679   5758   1160    6918\n"
     ]
    }
   ],
   "source": [
    "value_counts_ratio(train, '시술_당시_나이')"
   ]
  },
  {
   "cell_type": "code",
   "execution_count": 1350,
   "metadata": {},
   "outputs": [],
   "source": [
    "# '시술_당시_나이' 변수의 값을 중앙값으로 변환하는 함수 정의\n",
    "def convert_age_category(age_category):\n",
    "    if age_category == '만18-34세':\n",
    "        return (18 + 34) / 2\n",
    "    elif age_category == '만35-37세':\n",
    "        return (35 + 37) / 2\n",
    "    elif age_category == '만38-39세':\n",
    "        return (38 + 39) / 2\n",
    "    elif age_category == '만40-42세':\n",
    "        return (40 + 42) / 2\n",
    "    elif age_category == '만43-44세':\n",
    "        return (43 + 44) / 2\n",
    "    elif age_category == '만45-50세':\n",
    "        return (45 + 50) / 2\n",
    "    # elif age_category == '알 수 없음':\n",
    "        # return -1\n",
    "    else:\n",
    "        return None\n",
    "\n",
    "train['시술_당시_나이'] = train['시술_당시_나이'].apply(convert_age_category)\n",
    "test['시술_당시_나이'] = test['시술_당시_나이'].apply(convert_age_category)"
   ]
  },
  {
   "cell_type": "code",
   "execution_count": 1351,
   "metadata": {},
   "outputs": [
    {
     "data": {
      "text/plain": [
       "시술_당시_나이\n",
       "26.0    102476\n",
       "36.0     57777\n",
       "38.5     39240\n",
       "41.0     37346\n",
       "43.5     12251\n",
       "47.5      6918\n",
       "Name: count, dtype: int64"
      ]
     },
     "execution_count": 1351,
     "metadata": {},
     "output_type": "execute_result"
    }
   ],
   "source": [
    "train['시술_당시_나이'].value_counts()"
   ]
  },
  {
   "cell_type": "markdown",
   "metadata": {},
   "source": [
    "### 3. 임신 시도 또는 마지막 임신 경과 일수"
   ]
  },
  {
   "cell_type": "markdown",
   "metadata": {},
   "source": [
    "환자가 처음 임신을 시도한 시점 또는 마지막 임신 이후 현재까지의 경과 연수 (년 단위)"
   ]
  },
  {
   "cell_type": "code",
   "execution_count": 1352,
   "metadata": {},
   "outputs": [
    {
     "name": "stdout",
     "output_type": "stream",
     "text": [
      "\n",
      "임신_시도_또는_마지막_임신_경과_연수별 임신_성공_여부 비율 및 갯수\n",
      "\n",
      "                 0         1    0    1  Total\n",
      "variable                                     \n",
      "-10.0     0.994169  0.005831  341    2    343\n",
      " 0.0      0.666667  0.333333    8    4     12\n",
      " 1.0      0.666667  0.333333    4    2      6\n",
      " 2.0      0.809524  0.190476   17    4     21\n",
      " 3.0      0.752809  0.247191   67   22     89\n",
      " 4.0      0.756579  0.243421  230   74    304\n",
      " 5.0      0.753623  0.246377  520  170    690\n",
      " 6.0      0.750253  0.249747  742  247    989\n",
      " 7.0      0.763636  0.236364  924  286   1210\n",
      " 8.0      0.784864  0.215136  923  253   1176\n",
      " 9.0      0.796477  0.203523  814  208   1022\n",
      " 10.0     0.778247  0.221753  737  210    947\n",
      " 11.0     0.810271  0.189729  568  133    701\n",
      " 12.0     0.780392  0.219608  398  112    510\n",
      " 13.0     0.837838  0.162162  403   78    481\n",
      " 14.0     0.776435  0.223565  257   74    331\n",
      " 15.0     0.791339  0.208661  201   53    254\n",
      " 16.0     0.846535  0.153465  171   31    202\n",
      " 17.0     0.820144  0.179856  114   25    139\n",
      " 18.0     0.839623  0.160377   89   17    106\n",
      " 19.0     0.848837  0.151163   73   13     86\n",
      " 20.0     0.831325  0.168675   69   14     83\n"
     ]
    }
   ],
   "source": [
    "value_counts_ratio(train, '임신_시도_또는_마지막_임신_경과_연수')"
   ]
  },
  {
   "cell_type": "code",
   "execution_count": 1353,
   "metadata": {},
   "outputs": [
    {
     "name": "stdout",
     "output_type": "stream",
     "text": [
      "결측값 개수: 246649\n",
      "결측값 개수: 0\n"
     ]
    }
   ],
   "source": [
    "print(\"결측값 개수:\", train['임신_시도_또는_마지막_임신_경과_연수'].isnull().sum())\n",
    "\n",
    "train['임신_시도_또는_마지막_임신_경과_연수'].fillna(-1, inplace=True)\n",
    "test['임신_시도_또는_마지막_임신_경과_연수'].fillna(-1, inplace=True)\n",
    "\n",
    "print(\"결측값 개수:\", train['임신_시도_또는_마지막_임신_경과_연수'].isnull().sum())"
   ]
  },
  {
   "cell_type": "code",
   "execution_count": 1354,
   "metadata": {},
   "outputs": [
    {
     "name": "stdout",
     "output_type": "stream",
     "text": [
      "\n",
      "임신_시도_또는_마지막_임신_경과_연수별 임신_성공_여부 비율 및 갯수\n",
      "\n",
      "                 0         1       0      1   Total\n",
      "variable                                           \n",
      "-10.0     0.994169  0.005831     341      2     343\n",
      "-1.0      0.739727  0.260273  182453  64196  246649\n",
      " 0.0      0.666667  0.333333       8      4      12\n",
      " 1.0      0.666667  0.333333       4      2       6\n",
      " 2.0      0.809524  0.190476      17      4      21\n",
      " 3.0      0.752809  0.247191      67     22      89\n",
      " 4.0      0.756579  0.243421     230     74     304\n",
      " 5.0      0.753623  0.246377     520    170     690\n",
      " 6.0      0.750253  0.249747     742    247     989\n",
      " 7.0      0.763636  0.236364     924    286    1210\n",
      " 8.0      0.784864  0.215136     923    253    1176\n",
      " 9.0      0.796477  0.203523     814    208    1022\n",
      " 10.0     0.778247  0.221753     737    210     947\n",
      " 11.0     0.810271  0.189729     568    133     701\n",
      " 12.0     0.780392  0.219608     398    112     510\n",
      " 13.0     0.837838  0.162162     403     78     481\n",
      " 14.0     0.776435  0.223565     257     74     331\n",
      " 15.0     0.791339  0.208661     201     53     254\n",
      " 16.0     0.846535  0.153465     171     31     202\n",
      " 17.0     0.820144  0.179856     114     25     139\n",
      " 18.0     0.839623  0.160377      89     17     106\n",
      " 19.0     0.848837  0.151163      73     13      86\n",
      " 20.0     0.831325  0.168675      69     14      83\n"
     ]
    }
   ],
   "source": [
    "value_counts_ratio(train, '임신_시도_또는_마지막_임신_경과_연수')"
   ]
  },
  {
   "cell_type": "markdown",
   "metadata": {},
   "source": [
    "### 4. 시술_유형"
   ]
  },
  {
   "cell_type": "markdown",
   "metadata": {},
   "source": [
    "IVF 또는 DI 시술 여부"
   ]
  },
  {
   "cell_type": "code",
   "execution_count": 1355,
   "metadata": {},
   "outputs": [
    {
     "name": "stdout",
     "output_type": "stream",
     "text": [
      "\n",
      "시술_유형별 임신_성공_여부 비율 및 갯수\n",
      "\n",
      "                 0         1       0      1   Total\n",
      "variable                                           \n",
      "-10       0.994169  0.005831     341      2     343\n",
      "DI        0.871065  0.128935    5479    811    6290\n",
      "IVF       0.738045  0.261955  184303  65415  249718\n"
     ]
    }
   ],
   "source": [
    "value_counts_ratio(train, '시술_유형')"
   ]
  },
  {
   "cell_type": "code",
   "execution_count": 1356,
   "metadata": {},
   "outputs": [
    {
     "data": {
      "text/plain": [
       "시술_유형\n",
       "IVF    87769\n",
       "DI      2176\n",
       "-10      122\n",
       "Name: count, dtype: int64"
      ]
     },
     "execution_count": 1356,
     "metadata": {},
     "output_type": "execute_result"
    }
   ],
   "source": [
    "test['시술_유형'].value_counts()"
   ]
  },
  {
   "cell_type": "code",
   "execution_count": 1357,
   "metadata": {},
   "outputs": [],
   "source": [
    "# 시술_유형에 따라 파생변수 생성\n",
    "train['시술_유형_IVF'] = np.where(train['시술_유형'] == 'IVF', 1, 0)\n",
    "train['시술_유형_DI'] = np.where(train['시술_유형'] == 'DI', 1, 0)\n",
    "\n",
    "test['시술_유형_IVF'] = np.where(test['시술_유형'] == 'IVF', 1, 0)\n",
    "test['시술_유형_DI'] = np.where(test['시술_유형'] == 'DI', 1, 0)"
   ]
  },
  {
   "cell_type": "code",
   "execution_count": 1358,
   "metadata": {},
   "outputs": [
    {
     "name": "stdout",
     "output_type": "stream",
     "text": [
      "Grouped by: 시술_유형_DI, 시술_유형_IVF\n",
      "\n",
      "    group  '임신_성공_여부' count     ratio   Total\n",
      "0  (0, 0)                 2  0.005831     343\n",
      "1  (0, 1)             65415  0.261955  249718\n",
      "2  (1, 0)               811  0.128935    6290\n"
     ]
    }
   ],
   "source": [
    "summarize_group(train, ['시술_유형_DI','시술_유형_IVF'])"
   ]
  },
  {
   "cell_type": "code",
   "execution_count": 1359,
   "metadata": {},
   "outputs": [],
   "source": [
    "train = train.drop(columns=['시술_유형'])\n",
    "test = test.drop(columns=['시술_유형'])"
   ]
  },
  {
   "cell_type": "markdown",
   "metadata": {},
   "source": [
    "### 5. 특정_시술_유형"
   ]
  },
  {
   "cell_type": "markdown",
   "metadata": {},
   "source": [
    "IVF – 체외 수정 (시험관 아기 시술)  \n",
    "ICSI – 세포질 내 정자 주입  \n",
    "IUI – 인공 수정 (자궁 내 주입)  \n",
    "ICI – 자궁경부 인공 수정  \n",
    "GIFT – 생식세포 나팔관 이식  \n",
    "FER – 냉동 배아 이식  \n",
    "Generic DI – 기증 정자 주입  \n",
    "IVI – 질 내 인공 수정   \n",
    "BLASTOCYST – 배반포 단계에 이식  \n",
    "AH – 배아를 hatching 시켜주는 과정  \n",
    "Unknown – 시술 유형 정보가 제공되지 않았거나 알 수 없음  \n",
    "\n",
    "(*) 특수 기호의 의미  \n",
    "\"/\" – 복합적인 시술 방법을 의미 (예: ICSI / BLASTOCYST)  \n",
    "\":\" – 동일 시술 내 세부 조합을 의미 (예: ICSI:IVF)  "
   ]
  },
  {
   "cell_type": "code",
   "execution_count": 1360,
   "metadata": {},
   "outputs": [
    {
     "name": "stdout",
     "output_type": "stream",
     "text": [
      "\n",
      "특정_시술_유형별 임신_성공_여부 비율 및 갯수\n",
      "\n",
      "                                            0         1        0        1  \\\n",
      "variable                                                                    \n",
      "-10                                  0.994169  0.005831    341.0      2.0   \n",
      "FER                                  0.666667  0.333333      2.0      1.0   \n",
      "GIFT                                 1.000000  0.000000      2.0      0.0   \n",
      "Generic DI                           0.830986  0.169014     59.0     12.0   \n",
      "ICI                                  0.864583  0.135417     83.0     13.0   \n",
      "ICSI                                 0.727137  0.272863  88966.0  33385.0   \n",
      "ICSI / AH                            0.782835  0.217165    602.0    167.0   \n",
      "ICSI / AH:Unknown                    0.500000  0.500000      1.0      1.0   \n",
      "ICSI / BLASTOCYST                    0.643257  0.356743   1035.0    574.0   \n",
      "ICSI / BLASTOCYST :ICSI              0.000000  1.000000      0.0      1.0   \n",
      "ICSI / BLASTOCYST :IVF / BLASTOCYST  0.750000  0.250000      3.0      1.0   \n",
      "ICSI / BLASTOCYST:IVF / BLASTOCYST   0.666667  0.333333      4.0      2.0   \n",
      "ICSI:ICSI                            0.990035  0.009965   2285.0     23.0   \n",
      "ICSI:IVF                             0.765178  0.234822    668.0    205.0   \n",
      "ICSI:Unknown                         0.898551  0.101449    186.0     21.0   \n",
      "IUI                                  0.871454  0.128546   5315.0    784.0   \n",
      "IVF                                  0.737653  0.262347  67451.0  23989.0   \n",
      "IVF / AH                             0.815047  0.184953    260.0     59.0   \n",
      "IVF / AH:ICSI / AH                   1.000000  0.000000      2.0      0.0   \n",
      "IVF / BLASTOCYST                     0.633814  0.366186    791.0    457.0   \n",
      "IVF:ICSI                             0.716837  0.283163    281.0    111.0   \n",
      "IVF:IVF                              0.989520  0.010480   1133.0     12.0   \n",
      "IVF:Unknown                          0.830000  0.170000     83.0     17.0   \n",
      "IVI                                  0.913043  0.086957     21.0      2.0   \n",
      "Unknown                              0.762808  0.237192  20547.0   6389.0   \n",
      "\n",
      "                                      Total  \n",
      "variable                                     \n",
      "-10                                     343  \n",
      "FER                                       3  \n",
      "GIFT                                      2  \n",
      "Generic DI                               71  \n",
      "ICI                                      96  \n",
      "ICSI                                 122351  \n",
      "ICSI / AH                               769  \n",
      "ICSI / AH:Unknown                         2  \n",
      "ICSI / BLASTOCYST                      1609  \n",
      "ICSI / BLASTOCYST :ICSI                   1  \n",
      "ICSI / BLASTOCYST :IVF / BLASTOCYST       4  \n",
      "ICSI / BLASTOCYST:IVF / BLASTOCYST        6  \n",
      "ICSI:ICSI                              2308  \n",
      "ICSI:IVF                                873  \n",
      "ICSI:Unknown                            207  \n",
      "IUI                                    6099  \n",
      "IVF                                   91440  \n",
      "IVF / AH                                319  \n",
      "IVF / AH:ICSI / AH                        2  \n",
      "IVF / BLASTOCYST                       1248  \n",
      "IVF:ICSI                                392  \n",
      "IVF:IVF                                1145  \n",
      "IVF:Unknown                             100  \n",
      "IVI                                      23  \n",
      "Unknown                               26936  \n"
     ]
    }
   ],
   "source": [
    "value_counts_ratio(train, '특정_시술_유형')"
   ]
  },
  {
   "cell_type": "code",
   "execution_count": 1361,
   "metadata": {},
   "outputs": [
    {
     "data": {
      "text/plain": [
       "특정_시술_유형\n",
       "ICSI                                  43228\n",
       "IVF                                   32243\n",
       "Unknown                                9213\n",
       "IUI                                    2112\n",
       "ICSI:ICSI                               796\n",
       "ICSI / BLASTOCYST                       584\n",
       "IVF:IVF                                 405\n",
       "IVF / BLASTOCYST                        388\n",
       "ICSI:IVF                                298\n",
       "ICSI / AH                               264\n",
       "IVF:ICSI                                133\n",
       "-10                                     122\n",
       "IVF / AH                                105\n",
       "ICSI:Unknown                             68\n",
       "IVF:Unknown                              41\n",
       "ICI                                      28\n",
       "Generic DI                               26\n",
       "IVI                                       8\n",
       "ICSI / BLASTOCYST:IVF / BLASTOCYST        2\n",
       "IUI:ICI                                   2\n",
       "IVF:Unknown:Unknown:Unknown               1\n",
       "Name: count, dtype: int64"
      ]
     },
     "execution_count": 1361,
     "metadata": {},
     "output_type": "execute_result"
    }
   ],
   "source": [
    "test['특정_시술_유형'].value_counts()"
   ]
  },
  {
   "cell_type": "code",
   "execution_count": 1362,
   "metadata": {},
   "outputs": [],
   "source": [
    "# '특정_시술_유형' 변수의 값이 'FER' 또는 'GIFT'인 행 제거\n",
    "train = train.loc[~train['특정_시술_유형'].isin(['FER', 'GIFT'])]\n",
    "# test = test.loc[~test['특정_시술_유형'].isin(['FER', 'GIFT'])]"
   ]
  },
  {
   "cell_type": "code",
   "execution_count": 1363,
   "metadata": {},
   "outputs": [],
   "source": [
    "import pandas as pd\n",
    "from sklearn.preprocessing import MultiLabelBinarizer\n",
    "\n",
    "# 시술 유형 수정 함수 정의\n",
    "def clean_procedure(procedure):\n",
    "    if isinstance(procedure, str):\n",
    "        # 공백 제거\n",
    "        procedure = procedure.replace(' ', '')\n",
    "        # 시술 뒤에 Unknown이 붙어있으면 제거\n",
    "        if ':Unknown' in procedure:\n",
    "            procedure = procedure.replace(':Unknown', '')\n",
    "    return procedure\n",
    "\n",
    "# 시술 유형 수정\n",
    "train['특정_시술_유형'] = train['특정_시술_유형'].apply(clean_procedure)\n",
    "test['특정_시술_유형'] = test['특정_시술_유형'].apply(clean_procedure)\n",
    "\n",
    "# 시술 유형 분리 및 원핫 인코딩 함수 정의\n",
    "def process_procedures(df):\n",
    "    # 시술 유형 분리\n",
    "    df_split = df['특정_시술_유형'].apply(lambda x: x.split(':') if isinstance(x, str) else [])\n",
    "    \n",
    "    # '/'로 구분된 시술 유형을 개별 항목으로 분리\n",
    "    df_split = df_split.apply(lambda x: [item for sublist in [i.split('/') for i in x] for item in sublist])\n",
    "    \n",
    "    # MultiLabelBinarizer를 사용하여 원핫 인코딩\n",
    "    mlb = MultiLabelBinarizer()\n",
    "    reasons_encoded = mlb.fit_transform(df_split)\n",
    "    reasons_df = pd.DataFrame(reasons_encoded, columns=[f'특정_시술_유형_{cls}' for cls in mlb.classes_])\n",
    "    \n",
    "    # '특정_시술_유형_Unknown' 변수 제거\n",
    "    if '특정_시술_유형_Unknown' in reasons_df.columns:\n",
    "        reasons_df = reasons_df.drop(columns=['특정_시술_유형_Unknown'])\n",
    "    \n",
    "    # 원래 데이터프레임과 병합\n",
    "    df_encoded = df.drop(columns=['특정_시술_유형']).reset_index(drop=True)\n",
    "    df_encoded = pd.concat([df_encoded, reasons_df], axis=1)\n",
    "    \n",
    "    return df_encoded\n",
    "\n",
    "train = process_procedures(train)\n",
    "test = process_procedures(test)"
   ]
  },
  {
   "cell_type": "code",
   "execution_count": 1364,
   "metadata": {},
   "outputs": [
    {
     "name": "stdout",
     "output_type": "stream",
     "text": [
      "<class 'pandas.core.frame.DataFrame'>\n",
      "RangeIndex: 256346 entries, 0 to 256345\n",
      "Data columns (total 76 columns):\n",
      " #   Column                 Non-Null Count   Dtype  \n",
      "---  ------                 --------------   -----  \n",
      " 0   ID                     256346 non-null  object \n",
      " 1   시술_당시_나이               256003 non-null  float64\n",
      " 2   임신_시도_또는_마지막_임신_경과_연수  256346 non-null  float64\n",
      " 3   배란_자극_여부               256346 non-null  int64  \n",
      " 4   배란_유도_유형               256346 non-null  object \n",
      " 5   단일_배아_이식_여부            250057 non-null  float64\n",
      " 6   착상_전_유전_검사_사용_여부       3061 non-null    float64\n",
      " 7   착상_전_유전_진단_사용_여부       250057 non-null  float64\n",
      " 8   남성_주_불임_원인             256346 non-null  int64  \n",
      " 9   남성_부_불임_원인             256346 non-null  int64  \n",
      " 10  여성_주_불임_원인             256346 non-null  int64  \n",
      " 11  여성_부_불임_원인             256346 non-null  int64  \n",
      " 12  부부_주_불임_원인             256346 non-null  int64  \n",
      " 13  부부_부_불임_원인             256346 non-null  int64  \n",
      " 14  불명확_불임_원인              256346 non-null  int64  \n",
      " 15  불임_원인_-_난관_질환          256346 non-null  int64  \n",
      " 16  불임_원인_-_남성_요인          256346 non-null  int64  \n",
      " 17  불임_원인_-_배란_장애          256346 non-null  int64  \n",
      " 18  불임_원인_-_여성_요인          256346 non-null  int64  \n",
      " 19  불임_원인_-_자궁경부_문제        256346 non-null  int64  \n",
      " 20  불임_원인_-_자궁내막증          256346 non-null  int64  \n",
      " 21  불임_원인_-_정자_농도          256346 non-null  int64  \n",
      " 22  불임_원인_-_정자_면역학적_요인     256346 non-null  int64  \n",
      " 23  불임_원인_-_정자_운동성         256346 non-null  int64  \n",
      " 24  불임_원인_-_정자_형태          256346 non-null  int64  \n",
      " 25  배아_생성_주요_이유            250057 non-null  object \n",
      " 26  총_시술_횟수                256346 non-null  object \n",
      " 27  클리닉_내_총_시술_횟수          256346 non-null  object \n",
      " 28  IVF_시술_횟수              256346 non-null  object \n",
      " 29  DI_시술_횟수               256346 non-null  object \n",
      " 30  총_임신_횟수                256346 non-null  object \n",
      " 31  IVF_임신_횟수              256346 non-null  object \n",
      " 32  DI_임신_횟수               256346 non-null  object \n",
      " 33  총_출산_횟수                256346 non-null  object \n",
      " 34  IVF_출산_횟수              256346 non-null  object \n",
      " 35  DI_출산_횟수               256346 non-null  object \n",
      " 36  총_생성_배아_수              250057 non-null  float64\n",
      " 37  미세주입된_난자_수             250057 non-null  float64\n",
      " 38  미세주입에서_생성된_배아_수        250057 non-null  float64\n",
      " 39  이식된_배아_수               250057 non-null  float64\n",
      " 40  미세주입_배아_이식_수           250057 non-null  float64\n",
      " 41  저장된_배아_수               250057 non-null  float64\n",
      " 42  미세주입_후_저장된_배아_수        250057 non-null  float64\n",
      " 43  해동된_배아_수               250057 non-null  float64\n",
      " 44  해동_난자_수                250057 non-null  float64\n",
      " 45  수집된_신선_난자_수            250057 non-null  float64\n",
      " 46  저장된_신선_난자_수            250057 non-null  float64\n",
      " 47  혼합된_난자_수               250057 non-null  float64\n",
      " 48  파트너_정자와_혼합된_난자_수       250057 non-null  float64\n",
      " 49  기증자_정자와_혼합된_난자_수       250057 non-null  float64\n",
      " 50  난자_출처                  256346 non-null  object \n",
      " 51  정자_출처                  256346 non-null  object \n",
      " 52  난자_기증자_나이              256346 non-null  object \n",
      " 53  정자_기증자_나이              256346 non-null  object \n",
      " 54  동결_배아_사용_여부            250057 non-null  float64\n",
      " 55  신선_배아_사용_여부            250057 non-null  float64\n",
      " 56  기증_배아_사용_여부            250057 non-null  float64\n",
      " 57  대리모_여부                 250057 non-null  float64\n",
      " 58  PGD_시술_여부              2522 non-null    float64\n",
      " 59  PGS_시술_여부              2272 non-null    float64\n",
      " 60  난자_채취_경과일              198870 non-null  float64\n",
      " 61  난자_해동_경과일              1778 non-null    float64\n",
      " 62  난자_혼합_경과일              202923 non-null  float64\n",
      " 63  배아_이식_경과일              213114 non-null  float64\n",
      " 64  배아_해동_경과일              40703 non-null   float64\n",
      " 65  임신_성공_여부               256346 non-null  int64  \n",
      " 66  시술_유형_IVF              256346 non-null  int32  \n",
      " 67  시술_유형_DI               256346 non-null  int32  \n",
      " 68  특정_시술_유형_AH            256346 non-null  int32  \n",
      " 69  특정_시술_유형_BLASTOCYST    256346 non-null  int32  \n",
      " 70  특정_시술_유형_GenericDI     256346 non-null  int32  \n",
      " 71  특정_시술_유형_ICI           256346 non-null  int32  \n",
      " 72  특정_시술_유형_ICSI          256346 non-null  int32  \n",
      " 73  특정_시술_유형_IUI           256346 non-null  int32  \n",
      " 74  특정_시술_유형_IVF           256346 non-null  int32  \n",
      " 75  특정_시술_유형_IVI           256346 non-null  int32  \n",
      "dtypes: float64(30), int32(10), int64(19), object(17)\n",
      "memory usage: 138.9+ MB\n"
     ]
    }
   ],
   "source": [
    "train.info()"
   ]
  },
  {
   "cell_type": "markdown",
   "metadata": {},
   "source": [
    "### 6. 배란_자극_여부"
   ]
  },
  {
   "cell_type": "markdown",
   "metadata": {},
   "source": [
    "배란 자극 치료가 사용되었는지 여부"
   ]
  },
  {
   "cell_type": "code",
   "execution_count": 1365,
   "metadata": {},
   "outputs": [
    {
     "name": "stdout",
     "output_type": "stream",
     "text": [
      "\n",
      "배란_자극_여부별 임신_성공_여부 비율 및 갯수\n",
      "\n",
      "                 0         1       0      1   Total\n",
      "variable                                           \n",
      "-10       0.994169  0.005831     341      2     343\n",
      " 0        0.768344  0.231656   45038  13579   58617\n",
      " 1        0.733284  0.266716  144740  52646  197386\n"
     ]
    }
   ],
   "source": [
    "value_counts_ratio(train, '배란_자극_여부')"
   ]
  },
  {
   "cell_type": "markdown",
   "metadata": {},
   "source": [
    "### 7. 배란_유도_유형"
   ]
  },
  {
   "cell_type": "markdown",
   "metadata": {},
   "source": [
    "사용된 배란 유도 방법 유형"
   ]
  },
  {
   "cell_type": "code",
   "execution_count": 1366,
   "metadata": {},
   "outputs": [
    {
     "name": "stdout",
     "output_type": "stream",
     "text": [
      "\n",
      "배란_유도_유형별 임신_성공_여부 비율 및 갯수\n",
      "\n",
      "                     0         1         0        1   Total\n",
      "variable                                                   \n",
      "-10           0.994169  0.005831     341.0      2.0     343\n",
      "기록되지 않은 시행    0.731133  0.268867  141913.0  52187.0  194100\n",
      "생식선 자극 호르몬    0.000000  1.000000       0.0      1.0       1\n",
      "세트로타이드 (억제제)  1.000000  0.000000       1.0      0.0       1\n",
      "알 수 없음        0.773235  0.226765   47864.0  14037.0   61901\n"
     ]
    }
   ],
   "source": [
    "value_counts_ratio(train, '배란_유도_유형')"
   ]
  },
  {
   "cell_type": "code",
   "execution_count": 1367,
   "metadata": {},
   "outputs": [
    {
     "data": {
      "text/plain": [
       "배란_유도_유형\n",
       "기록되지 않은 시행    68492\n",
       "알 수 없음        21453\n",
       "-10             122\n",
       "Name: count, dtype: int64"
      ]
     },
     "execution_count": 1367,
     "metadata": {},
     "output_type": "execute_result"
    }
   ],
   "source": [
    "test['배란_유도_유형'].value_counts()"
   ]
  },
  {
   "cell_type": "code",
   "execution_count": 1368,
   "metadata": {},
   "outputs": [],
   "source": [
    "# 해당하는 행이 적은 '생식선 자극 호르몬', '세트로타이드 (억제제)' 제거\n",
    "train = train.loc[~train['배란_유도_유형'].isin(['생식선 자극 호르몬', '세트로타이드 (억제제)'])]\n",
    "test = test.loc[~test['배란_유도_유형'].isin(['생식선 자극 호르몬', '세트로타이드 (억제제)'])]"
   ]
  },
  {
   "cell_type": "code",
   "execution_count": 1369,
   "metadata": {},
   "outputs": [
    {
     "name": "stdout",
     "output_type": "stream",
     "text": [
      "\n",
      "배란_유도_유형별 임신_성공_여부 비율 및 갯수\n",
      "\n",
      "                   0         1       0      1   Total\n",
      "variable                                             \n",
      "-10         0.994169  0.005831     341      2     343\n",
      "기록되지 않은 시행  0.731133  0.268867  141913  52187  194100\n",
      "알 수 없음      0.773235  0.226765   47864  14037   61901\n"
     ]
    }
   ],
   "source": [
    "value_counts_ratio(train, '배란_유도_유형')"
   ]
  },
  {
   "cell_type": "code",
   "execution_count": 1370,
   "metadata": {},
   "outputs": [],
   "source": [
    "# '배란_유도_유형' 변수 제거\n",
    "train = train.drop(columns=['배란_유도_유형'])\n",
    "test = test.drop(columns=['배란_유도_유형'])"
   ]
  },
  {
   "cell_type": "markdown",
   "metadata": {},
   "source": [
    "### 8. 단일_배아_이식_여부"
   ]
  },
  {
   "cell_type": "markdown",
   "metadata": {},
   "source": [
    "선택적으로 단일 배아를 이식했는지 여부"
   ]
  },
  {
   "cell_type": "code",
   "execution_count": 1371,
   "metadata": {},
   "outputs": [
    {
     "name": "stdout",
     "output_type": "stream",
     "text": [
      "\n",
      "단일_배아_이식_여부별 임신_성공_여부 비율 및 갯수\n",
      "\n",
      "                 0         1       0      1   Total\n",
      "variable                                           \n",
      "-10.0     0.994169  0.005831     341      2     343\n",
      " 0.0      0.770172  0.229828  147357  43973  191330\n",
      " 1.0      0.632764  0.367236   36942  21440   58382\n"
     ]
    }
   ],
   "source": [
    "value_counts_ratio(train, '단일_배아_이식_여부')"
   ]
  },
  {
   "cell_type": "code",
   "execution_count": 1372,
   "metadata": {},
   "outputs": [
    {
     "name": "stdout",
     "output_type": "stream",
     "text": [
      "결측값 개수: 6289\n",
      "결측값 개수: 0\n"
     ]
    }
   ],
   "source": [
    "# 결측값 개수 확인\n",
    "print(\"결측값 개수:\", train['단일_배아_이식_여부'].isnull().sum())\n",
    "\n",
    "# 결측값을 -1 으로 채우기\n",
    "train['단일_배아_이식_여부'].fillna(-1, inplace=True)\n",
    "test['단일_배아_이식_여부'].fillna(-1, inplace=True)\n",
    "\n",
    "# 결측값 개수 확인\n",
    "print(\"결측값 개수:\", train['단일_배아_이식_여부'].isnull().sum())"
   ]
  },
  {
   "cell_type": "markdown",
   "metadata": {},
   "source": [
    "### 9. 착상_전_유전_검사_사용_여부"
   ]
  },
  {
   "cell_type": "markdown",
   "metadata": {},
   "source": [
    "PGS(착상 전 유전 검사)가 시행되었는지 여부"
   ]
  },
  {
   "cell_type": "code",
   "execution_count": 1373,
   "metadata": {},
   "outputs": [
    {
     "name": "stdout",
     "output_type": "stream",
     "text": [
      "\n",
      "착상_전_유전_검사_사용_여부별 임신_성공_여부 비율 및 갯수\n",
      "\n",
      "                 0         1     0    1  Total\n",
      "variable                                      \n",
      "-10.0     0.994169  0.005831   341    2    343\n",
      " 1.0      0.851729  0.148271  2315  403   2718\n"
     ]
    }
   ],
   "source": [
    "value_counts_ratio(train, '착상_전_유전_검사_사용_여부')"
   ]
  },
  {
   "cell_type": "code",
   "execution_count": 1374,
   "metadata": {},
   "outputs": [
    {
     "name": "stdout",
     "output_type": "stream",
     "text": [
      "결측값 개수: 253283\n",
      "결측값 개수: 0\n"
     ]
    }
   ],
   "source": [
    "# 결측값 개수 확인\n",
    "print(\"결측값 개수:\", train['착상_전_유전_검사_사용_여부'].isnull().sum())\n",
    "\n",
    "# 결측값을 0으로 채우기\n",
    "train['착상_전_유전_검사_사용_여부'].fillna(0, inplace=True)\n",
    "test['착상_전_유전_검사_사용_여부'].fillna(0, inplace=True)\n",
    "\n",
    "# 결측값 개수 확인\n",
    "print(\"결측값 개수:\", train['착상_전_유전_검사_사용_여부'].isnull().sum())"
   ]
  },
  {
   "cell_type": "code",
   "execution_count": 1375,
   "metadata": {},
   "outputs": [
    {
     "name": "stdout",
     "output_type": "stream",
     "text": [
      "\n",
      "착상_전_유전_검사_사용_여부별 임신_성공_여부 비율 및 갯수\n",
      "\n",
      "                 0         1       0      1   Total\n",
      "variable                                           \n",
      "-10.0     0.994169  0.005831     341      2     343\n",
      " 0.0      0.740129  0.259871  187462  65821  253283\n",
      " 1.0      0.851729  0.148271    2315    403    2718\n"
     ]
    }
   ],
   "source": [
    "value_counts_ratio(train, '착상_전_유전_검사_사용_여부')"
   ]
  },
  {
   "cell_type": "markdown",
   "metadata": {},
   "source": [
    "### 10. 착상_전_유전_진단_사용_여부"
   ]
  },
  {
   "cell_type": "markdown",
   "metadata": {},
   "source": [
    "PGD(착상 전 유전 진단)가 시행되었는지 여부"
   ]
  },
  {
   "cell_type": "code",
   "execution_count": 1376,
   "metadata": {},
   "outputs": [
    {
     "name": "stdout",
     "output_type": "stream",
     "text": [
      "\n",
      "착상_전_유전_진단_사용_여부별 임신_성공_여부 비율 및 갯수\n",
      "\n",
      "                 0         1       0      1   Total\n",
      "variable                                           \n",
      "-10.0     0.994169  0.005831     341      2     343\n",
      " 0.0      0.737141  0.262859  181717  64799  246516\n",
      " 1.0      0.807885  0.192115    2582    614    3196\n"
     ]
    }
   ],
   "source": [
    "value_counts_ratio(train, '착상_전_유전_진단_사용_여부')"
   ]
  },
  {
   "cell_type": "code",
   "execution_count": 1377,
   "metadata": {},
   "outputs": [
    {
     "name": "stdout",
     "output_type": "stream",
     "text": [
      "결측값 개수: 6289\n",
      "결측값 개수: 0\n"
     ]
    }
   ],
   "source": [
    "# 결측값 개수 확인\n",
    "print(\"결측값 개수:\", train['착상_전_유전_진단_사용_여부'].isnull().sum())\n",
    "\n",
    "# 결측값을 0으로 채우기\n",
    "train['착상_전_유전_진단_사용_여부'].fillna(-1, inplace=True)\n",
    "test['착상_전_유전_진단_사용_여부'].fillna(-1, inplace=True)\n",
    "\n",
    "# 결측값 개수 확인\n",
    "print(\"결측값 개수:\", train['착상_전_유전_진단_사용_여부'].isnull().sum())"
   ]
  },
  {
   "cell_type": "code",
   "execution_count": 1378,
   "metadata": {},
   "outputs": [
    {
     "name": "stdout",
     "output_type": "stream",
     "text": [
      "\n",
      "착상_전_유전_진단_사용_여부별 임신_성공_여부 비율 및 갯수\n",
      "\n",
      "                 0         1       0      1   Total\n",
      "variable                                           \n",
      "-10.0     0.994169  0.005831     341      2     343\n",
      "-1.0      0.871045  0.128955    5478    811    6289\n",
      " 0.0      0.737141  0.262859  181717  64799  246516\n",
      " 1.0      0.807885  0.192115    2582    614    3196\n"
     ]
    }
   ],
   "source": [
    "value_counts_ratio(train, '착상_전_유전_진단_사용_여부')"
   ]
  },
  {
   "cell_type": "code",
   "execution_count": 1379,
   "metadata": {},
   "outputs": [
    {
     "name": "stdout",
     "output_type": "stream",
     "text": [
      "Grouped by: 착상_전_유전_진단_사용_여부, 착상_전_유전_검사_사용_여부\n",
      "\n",
      "            group  '임신_성공_여부' count     ratio   Total\n",
      "0  (-10.0, -10.0)                 2  0.005831     343\n",
      "1     (-1.0, 0.0)               811  0.128955    6289\n",
      "2      (0.0, 0.0)             64398  0.264117  243824\n",
      "3      (0.0, 1.0)               401  0.148960    2692\n",
      "4      (1.0, 0.0)               612  0.193060    3170\n",
      "5      (1.0, 1.0)                 2  0.076923      26\n"
     ]
    }
   ],
   "source": [
    "summarize_group(train, ['착상_전_유전_진단_사용_여부', '착상_전_유전_검사_사용_여부'])"
   ]
  },
  {
   "cell_type": "markdown",
   "metadata": {},
   "source": [
    "### 11. 남성_주_불임_원인"
   ]
  },
  {
   "cell_type": "markdown",
   "metadata": {},
   "source": [
    "남성의 주요 불임 원인 여부"
   ]
  },
  {
   "cell_type": "code",
   "execution_count": 1380,
   "metadata": {},
   "outputs": [
    {
     "name": "stdout",
     "output_type": "stream",
     "text": [
      "\n",
      "남성_주_불임_원인별 임신_성공_여부 비율 및 갯수\n",
      "\n",
      "                 0         1       0      1   Total\n",
      "variable                                           \n",
      "-10       0.994169  0.005831     341      2     343\n",
      " 0        0.740177  0.259823  184082  64618  248700\n",
      " 1        0.780030  0.219970    5695   1606    7301\n"
     ]
    }
   ],
   "source": [
    "value_counts_ratio(train, '남성_주_불임_원인')"
   ]
  },
  {
   "cell_type": "markdown",
   "metadata": {},
   "source": [
    "### 12. 남성_부_불임_원인"
   ]
  },
  {
   "cell_type": "markdown",
   "metadata": {},
   "source": [
    "남성의 부차적 불임 원인 여부"
   ]
  },
  {
   "cell_type": "code",
   "execution_count": 1381,
   "metadata": {},
   "outputs": [
    {
     "name": "stdout",
     "output_type": "stream",
     "text": [
      "\n",
      "남성_부_불임_원인별 임신_성공_여부 비율 및 갯수\n",
      "\n",
      "                 0         1       0      1   Total\n",
      "variable                                           \n",
      "-10       0.994169  0.005831     341      2     343\n",
      " 0        0.740504  0.259496  187086  65561  252647\n",
      " 1        0.802326  0.197674    2691    663    3354\n"
     ]
    }
   ],
   "source": [
    "value_counts_ratio(train, '남성_부_불임_원인')"
   ]
  },
  {
   "cell_type": "code",
   "execution_count": 1382,
   "metadata": {},
   "outputs": [
    {
     "name": "stdout",
     "output_type": "stream",
     "text": [
      "Grouped by: 남성_주_불임_원인, 남성_부_불임_원인\n",
      "\n",
      "        group  '임신_성공_여부' count     ratio   Total\n",
      "0  (-10, -10)                 2  0.005831     343\n",
      "1      (0, 0)             63955  0.260673  245346\n",
      "2      (0, 1)               663  0.197674    3354\n",
      "3      (1, 0)              1606  0.219970    7301\n"
     ]
    }
   ],
   "source": [
    "summarize_group(train, ['남성_주_불임_원인', '남성_부_불임_원인'])"
   ]
  },
  {
   "cell_type": "markdown",
   "metadata": {},
   "source": [
    "### 13. 여성_주_불임_원인"
   ]
  },
  {
   "cell_type": "markdown",
   "metadata": {},
   "source": [
    "여성의 주요 불임 원인 여부"
   ]
  },
  {
   "cell_type": "code",
   "execution_count": 1383,
   "metadata": {},
   "outputs": [
    {
     "name": "stdout",
     "output_type": "stream",
     "text": [
      "\n",
      "여성_주_불임_원인별 임신_성공_여부 비율 및 갯수\n",
      "\n",
      "                 0         1       0      1   Total\n",
      "variable                                           \n",
      "-10       0.994169  0.005831     341      2     343\n",
      " 0        0.740057  0.259943  183634  64501  248135\n",
      " 1        0.780956  0.219044    6143   1723    7866\n"
     ]
    }
   ],
   "source": [
    "value_counts_ratio(train, '여성_주_불임_원인')"
   ]
  },
  {
   "cell_type": "markdown",
   "metadata": {},
   "source": [
    "### 14. 여성_부_불임_원인"
   ]
  },
  {
   "cell_type": "markdown",
   "metadata": {},
   "source": [
    "여성의 부차적 불임 원인 여부"
   ]
  },
  {
   "cell_type": "code",
   "execution_count": 1384,
   "metadata": {},
   "outputs": [
    {
     "name": "stdout",
     "output_type": "stream",
     "text": [
      "\n",
      "여성_부_불임_원인별 임신_성공_여부 비율 및 갯수\n",
      "\n",
      "                 0         1       0      1   Total\n",
      "variable                                           \n",
      "-10       0.994169  0.005831     341      2     343\n",
      " 0        0.740526  0.259474  187225  65602  252827\n",
      " 1        0.804033  0.195967    2552    622    3174\n"
     ]
    }
   ],
   "source": [
    "value_counts_ratio(train, '여성_부_불임_원인')"
   ]
  },
  {
   "cell_type": "code",
   "execution_count": 1385,
   "metadata": {},
   "outputs": [
    {
     "name": "stdout",
     "output_type": "stream",
     "text": [
      "Grouped by: 여성_주_불임_원인, 여성_부_불임_원인\n",
      "\n",
      "        group  '임신_성공_여부' count     ratio   Total\n",
      "0  (-10, -10)                 2  0.005831     343\n",
      "1      (0, 0)             63879  0.260772  244961\n",
      "2      (0, 1)               622  0.195967    3174\n",
      "3      (1, 0)              1723  0.219044    7866\n"
     ]
    }
   ],
   "source": [
    "summarize_group(train, ['여성_주_불임_원인', '여성_부_불임_원인'])"
   ]
  },
  {
   "cell_type": "markdown",
   "metadata": {},
   "source": [
    "### 15. 부부_주_불임_원인"
   ]
  },
  {
   "cell_type": "markdown",
   "metadata": {},
   "source": [
    "부부의 주요 불임 원인 여부"
   ]
  },
  {
   "cell_type": "code",
   "execution_count": 1386,
   "metadata": {},
   "outputs": [
    {
     "name": "stdout",
     "output_type": "stream",
     "text": [
      "\n",
      "부부_주_불임_원인별 임신_성공_여부 비율 및 갯수\n",
      "\n",
      "                 0         1       0      1   Total\n",
      "variable                                           \n",
      "-10       0.994169  0.005831     341      2     343\n",
      " 0        0.740001  0.259999  183179  64360  247539\n",
      " 1        0.779721  0.220279    6598   1864    8462\n"
     ]
    }
   ],
   "source": [
    "value_counts_ratio(train, '부부_주_불임_원인')"
   ]
  },
  {
   "cell_type": "markdown",
   "metadata": {},
   "source": [
    "### 16. 부부_부_불임_원인"
   ]
  },
  {
   "cell_type": "markdown",
   "metadata": {},
   "source": [
    "부부의 부차적 불임 원인 여부"
   ]
  },
  {
   "cell_type": "code",
   "execution_count": 1387,
   "metadata": {},
   "outputs": [
    {
     "name": "stdout",
     "output_type": "stream",
     "text": [
      "\n",
      "부부_부_불임_원인별 임신_성공_여부 비율 및 갯수\n",
      "\n",
      "                 0         1       0      1   Total\n",
      "variable                                           \n",
      "-10       0.994169  0.005831     341      2     343\n",
      " 0        0.740684  0.259316  187956  65804  253760\n",
      " 1        0.812584  0.187416    1821    420    2241\n"
     ]
    }
   ],
   "source": [
    "value_counts_ratio(train, '부부_부_불임_원인')"
   ]
  },
  {
   "cell_type": "code",
   "execution_count": 1388,
   "metadata": {},
   "outputs": [
    {
     "name": "stdout",
     "output_type": "stream",
     "text": [
      "Grouped by: 부부_주_불임_원인, 부부_부_불임_원인\n",
      "\n",
      "        group  '임신_성공_여부' count     ratio   Total\n",
      "0  (-10, -10)                 2  0.005831     343\n",
      "1      (0, 0)             63940  0.260663  245298\n",
      "2      (0, 1)               420  0.187416    2241\n",
      "3      (1, 0)              1864  0.220279    8462\n"
     ]
    }
   ],
   "source": [
    "summarize_group(train, ['부부_주_불임_원인', '부부_부_불임_원인'])"
   ]
  },
  {
   "cell_type": "markdown",
   "metadata": {},
   "source": [
    "### 17. 불명확_불임_원인"
   ]
  },
  {
   "cell_type": "markdown",
   "metadata": {},
   "source": [
    "불명의 원인으로 인한 불임 여부"
   ]
  },
  {
   "cell_type": "code",
   "execution_count": 1389,
   "metadata": {},
   "outputs": [
    {
     "name": "stdout",
     "output_type": "stream",
     "text": [
      "\n",
      "불명확_불임_원인별 임신_성공_여부 비율 및 갯수\n",
      "\n",
      "                 0         1       0      1   Total\n",
      "variable                                           \n",
      "-10       0.994169  0.005831     341      2     343\n",
      " 0        0.741578  0.258422  142182  49547  191729\n",
      " 1        0.740525  0.259475   47595  16677   64272\n"
     ]
    }
   ],
   "source": [
    "value_counts_ratio(train, '불명확_불임_원인')"
   ]
  },
  {
   "cell_type": "markdown",
   "metadata": {},
   "source": [
    "### 18. 불임_원인_-_난관_질환"
   ]
  },
  {
   "cell_type": "markdown",
   "metadata": {},
   "source": [
    "난관 이상으로 인한 불임 여부"
   ]
  },
  {
   "cell_type": "code",
   "execution_count": 1390,
   "metadata": {},
   "outputs": [
    {
     "name": "stdout",
     "output_type": "stream",
     "text": [
      "\n",
      "불임_원인_-_난관_질환별 임신_성공_여부 비율 및 갯수\n",
      "\n",
      "                 0         1       0      1   Total\n",
      "variable                                           \n",
      "-10       0.994169  0.005831     341      2     343\n",
      " 0        0.741165  0.258835  163389  57060  220449\n",
      " 1        0.742237  0.257763   26388   9164   35552\n"
     ]
    }
   ],
   "source": [
    "value_counts_ratio(train, '불임_원인_-_난관_질환')"
   ]
  },
  {
   "cell_type": "markdown",
   "metadata": {},
   "source": [
    "### 19. 불임_원인_-_남성_요인"
   ]
  },
  {
   "cell_type": "markdown",
   "metadata": {},
   "source": [
    "남성 요인으로 인한 불임 여부"
   ]
  },
  {
   "cell_type": "code",
   "execution_count": 1391,
   "metadata": {},
   "outputs": [
    {
     "name": "stdout",
     "output_type": "stream",
     "text": [
      "\n",
      "불임_원인_-_남성_요인별 임신_성공_여부 비율 및 갯수\n",
      "\n",
      "                 0         1       0      1   Total\n",
      "variable                                           \n",
      "-10       0.994169  0.005831     341      2     343\n",
      " 0        0.753923  0.246077  121040  39507  160547\n",
      " 1        0.720106  0.279894   68737  26717   95454\n"
     ]
    }
   ],
   "source": [
    "value_counts_ratio(train, '불임_원인_-_남성_요인')"
   ]
  },
  {
   "cell_type": "markdown",
   "metadata": {},
   "source": [
    "### 20. 불임_원인_-_배란_장애"
   ]
  },
  {
   "cell_type": "markdown",
   "metadata": {},
   "source": [
    "배란 장애로 인한 불임 여부"
   ]
  },
  {
   "cell_type": "code",
   "execution_count": 1392,
   "metadata": {},
   "outputs": [
    {
     "name": "stdout",
     "output_type": "stream",
     "text": [
      "\n",
      "불임_원인_-_배란_장애별 임신_성공_여부 비율 및 갯수\n",
      "\n",
      "                 0         1       0      1   Total\n",
      "variable                                           \n",
      "-10       0.994169  0.005831     341      2     343\n",
      " 0        0.745511  0.254489  165932  56643  222575\n",
      " 1        0.713367  0.286633   23845   9581   33426\n"
     ]
    }
   ],
   "source": [
    "value_counts_ratio(train, '불임_원인_-_배란_장애')"
   ]
  },
  {
   "cell_type": "markdown",
   "metadata": {},
   "source": [
    "### 21. 불임_원인_-_여성_요인"
   ]
  },
  {
   "cell_type": "markdown",
   "metadata": {},
   "source": [
    "여성 요인으로 인한 불임 여부"
   ]
  },
  {
   "cell_type": "code",
   "execution_count": 1393,
   "metadata": {},
   "outputs": [
    {
     "name": "stdout",
     "output_type": "stream",
     "text": [
      "\n",
      "불임_원인_-_여성_요인별 임신_성공_여부 비율 및 갯수\n",
      "\n",
      "                 0         1       0      1   Total\n",
      "variable                                           \n",
      "-10       0.994169  0.005831     341      2     343\n",
      " 0        0.741314  0.258686  189777  66224  256001\n"
     ]
    }
   ],
   "source": [
    "value_counts_ratio(train, '불임_원인_-_여성_요인')"
   ]
  },
  {
   "cell_type": "code",
   "execution_count": 1394,
   "metadata": {},
   "outputs": [
    {
     "data": {
      "text/plain": [
       "불임_원인_-_여성_요인\n",
       " 0     89945\n",
       "-10      122\n",
       "Name: count, dtype: int64"
      ]
     },
     "execution_count": 1394,
     "metadata": {},
     "output_type": "execute_result"
    }
   ],
   "source": [
    "test['불임_원인_-_여성_요인'].value_counts()"
   ]
  },
  {
   "cell_type": "code",
   "execution_count": 1395,
   "metadata": {},
   "outputs": [
    {
     "data": {
      "text/plain": [
       "불임_원인_-_여성_요인\n",
       " 0     256001\n",
       "-10       343\n",
       "Name: count, dtype: int64"
      ]
     },
     "execution_count": 1395,
     "metadata": {},
     "output_type": "execute_result"
    }
   ],
   "source": [
    "train['불임_원인_-_여성_요인'].value_counts()"
   ]
  },
  {
   "cell_type": "code",
   "execution_count": 1396,
   "metadata": {},
   "outputs": [
    {
     "data": {
      "text/plain": [
       "0"
      ]
     },
     "execution_count": 1396,
     "metadata": {},
     "output_type": "execute_result"
    }
   ],
   "source": [
    "train['불임_원인_-_여성_요인'].isnull().sum()"
   ]
  },
  {
   "cell_type": "code",
   "execution_count": 1397,
   "metadata": {},
   "outputs": [],
   "source": [
    "# '불임_원인_-_여성_요인' 변수 제거\n",
    "train = train.drop(columns=['불임_원인_-_여성_요인'])\n",
    "test = test.drop(columns=['불임_원인_-_여성_요인'])"
   ]
  },
  {
   "cell_type": "markdown",
   "metadata": {},
   "source": [
    "### 22. 불임_원인_-_자궁경부_문제"
   ]
  },
  {
   "cell_type": "markdown",
   "metadata": {},
   "source": [
    "자궁경부 이상으로 인한 불임 여부"
   ]
  },
  {
   "cell_type": "code",
   "execution_count": 1398,
   "metadata": {},
   "outputs": [
    {
     "name": "stdout",
     "output_type": "stream",
     "text": [
      "\n",
      "불임_원인_-_자궁경부_문제별 임신_성공_여부 비율 및 갯수\n",
      "\n",
      "                 0         1         0        1   Total\n",
      "variable                                               \n",
      "-10       0.994169  0.005831     341.0      2.0     343\n",
      " 0        0.741303  0.258697  189767.0  66224.0  255991\n",
      " 1        1.000000  0.000000      10.0      0.0      10\n"
     ]
    }
   ],
   "source": [
    "value_counts_ratio(train, '불임_원인_-_자궁경부_문제')"
   ]
  },
  {
   "cell_type": "markdown",
   "metadata": {},
   "source": [
    "### 23. 불임_원인_-_자궁내막증"
   ]
  },
  {
   "cell_type": "markdown",
   "metadata": {},
   "source": [
    "자궁내막증으로 인한 불임 여부"
   ]
  },
  {
   "cell_type": "code",
   "execution_count": 1399,
   "metadata": {},
   "outputs": [
    {
     "name": "stdout",
     "output_type": "stream",
     "text": [
      "\n",
      "불임_원인_-_자궁내막증별 임신_성공_여부 비율 및 갯수\n",
      "\n",
      "                 0         1       0      1   Total\n",
      "variable                                           \n",
      "-10       0.994169  0.005831     341      2     343\n",
      " 0        0.741017  0.258983  176139  61560  237699\n",
      " 1        0.745164  0.254836   13638   4664   18302\n"
     ]
    }
   ],
   "source": [
    "value_counts_ratio(train, '불임_원인_-_자궁내막증')"
   ]
  },
  {
   "cell_type": "markdown",
   "metadata": {},
   "source": [
    "### 24. 불임_원인_-_정자_농도"
   ]
  },
  {
   "cell_type": "markdown",
   "metadata": {},
   "source": [
    "파트너의 정자 농도 문제 여부"
   ]
  },
  {
   "cell_type": "code",
   "execution_count": 1400,
   "metadata": {},
   "outputs": [
    {
     "name": "stdout",
     "output_type": "stream",
     "text": [
      "\n",
      "불임_원인_-_정자_농도별 임신_성공_여부 비율 및 갯수\n",
      "\n",
      "                 0         1       0      1   Total\n",
      "variable                                           \n",
      "-10       0.994169  0.005831     341      2     343\n",
      " 0        0.741304  0.258696  189570  66155  255725\n",
      " 1        0.750000  0.250000     207     69     276\n"
     ]
    }
   ],
   "source": [
    "value_counts_ratio(train, '불임_원인_-_정자_농도')"
   ]
  },
  {
   "cell_type": "markdown",
   "metadata": {},
   "source": [
    "### 25. 불임_원인_-_정자_면역학적_요인"
   ]
  },
  {
   "cell_type": "markdown",
   "metadata": {},
   "source": [
    "파트너의 정자 면역 관련 문제 여부"
   ]
  },
  {
   "cell_type": "code",
   "execution_count": 1401,
   "metadata": {},
   "outputs": [
    {
     "name": "stdout",
     "output_type": "stream",
     "text": [
      "\n",
      "불임_원인_-_정자_면역학적_요인별 임신_성공_여부 비율 및 갯수\n",
      "\n",
      "                 0         1         0        1   Total\n",
      "variable                                               \n",
      "-10       0.994169  0.005831     341.0      2.0     343\n",
      " 0        0.741313  0.258688  189776.0  66224.0  256000\n",
      " 1        1.000000  0.000000       1.0      0.0       1\n"
     ]
    }
   ],
   "source": [
    "value_counts_ratio(train, '불임_원인_-_정자_면역학적_요인')"
   ]
  },
  {
   "cell_type": "code",
   "execution_count": 1402,
   "metadata": {},
   "outputs": [
    {
     "data": {
      "text/plain": [
       "불임_원인_-_정자_면역학적_요인\n",
       " 0     89944\n",
       "-10      122\n",
       " 1         1\n",
       "Name: count, dtype: int64"
      ]
     },
     "execution_count": 1402,
     "metadata": {},
     "output_type": "execute_result"
    }
   ],
   "source": [
    "test['불임_원인_-_정자_면역학적_요인'].value_counts()"
   ]
  },
  {
   "cell_type": "code",
   "execution_count": 1403,
   "metadata": {},
   "outputs": [],
   "source": [
    "train = train.drop(columns=['불임_원인_-_정자_면역학적_요인'])\n",
    "test = test.drop(columns=['불임_원인_-_정자_면역학적_요인'])"
   ]
  },
  {
   "cell_type": "markdown",
   "metadata": {},
   "source": [
    "### 26. 불임_원인_-_정자_운동성"
   ]
  },
  {
   "cell_type": "markdown",
   "metadata": {},
   "source": [
    "파트너의 정자 운동성 문제 여부"
   ]
  },
  {
   "cell_type": "code",
   "execution_count": 1404,
   "metadata": {},
   "outputs": [
    {
     "name": "stdout",
     "output_type": "stream",
     "text": [
      "\n",
      "불임_원인_-_정자_운동성별 임신_성공_여부 비율 및 갯수\n",
      "\n",
      "                 0         1       0      1   Total\n",
      "variable                                           \n",
      "-10       0.994169  0.005831     341      2     343\n",
      " 0        0.741282  0.258718  189697  66207  255904\n",
      " 1        0.824742  0.175258      80     17      97\n"
     ]
    }
   ],
   "source": [
    "value_counts_ratio(train, '불임_원인_-_정자_운동성')"
   ]
  },
  {
   "cell_type": "markdown",
   "metadata": {},
   "source": [
    "### 27. 불임_원인_-_정자_형태"
   ]
  },
  {
   "cell_type": "markdown",
   "metadata": {},
   "source": [
    "파트너의 정자 형태 문제 여부"
   ]
  },
  {
   "cell_type": "code",
   "execution_count": 1405,
   "metadata": {},
   "outputs": [
    {
     "name": "stdout",
     "output_type": "stream",
     "text": [
      "\n",
      "불임_원인_-_정자_형태별 임신_성공_여부 비율 및 갯수\n",
      "\n",
      "                 0         1       0      1   Total\n",
      "variable                                           \n",
      "-10       0.994169  0.005831     341      2     343\n",
      " 0        0.741294  0.258706  189666  66192  255858\n",
      " 1        0.776224  0.223776     111     32     143\n"
     ]
    }
   ],
   "source": [
    "value_counts_ratio(train, '불임_원인_-_정자_형태')"
   ]
  },
  {
   "cell_type": "code",
   "execution_count": 1406,
   "metadata": {},
   "outputs": [
    {
     "name": "stdout",
     "output_type": "stream",
     "text": [
      "<class 'pandas.core.frame.DataFrame'>\n",
      "Index: 256344 entries, 0 to 256345\n",
      "Data columns (total 73 columns):\n",
      " #   Column                 Non-Null Count   Dtype  \n",
      "---  ------                 --------------   -----  \n",
      " 0   ID                     256344 non-null  object \n",
      " 1   시술_당시_나이               256001 non-null  float64\n",
      " 2   임신_시도_또는_마지막_임신_경과_연수  256344 non-null  float64\n",
      " 3   배란_자극_여부               256344 non-null  int64  \n",
      " 4   단일_배아_이식_여부            256344 non-null  float64\n",
      " 5   착상_전_유전_검사_사용_여부       256344 non-null  float64\n",
      " 6   착상_전_유전_진단_사용_여부       256344 non-null  float64\n",
      " 7   남성_주_불임_원인             256344 non-null  int64  \n",
      " 8   남성_부_불임_원인             256344 non-null  int64  \n",
      " 9   여성_주_불임_원인             256344 non-null  int64  \n",
      " 10  여성_부_불임_원인             256344 non-null  int64  \n",
      " 11  부부_주_불임_원인             256344 non-null  int64  \n",
      " 12  부부_부_불임_원인             256344 non-null  int64  \n",
      " 13  불명확_불임_원인              256344 non-null  int64  \n",
      " 14  불임_원인_-_난관_질환          256344 non-null  int64  \n",
      " 15  불임_원인_-_남성_요인          256344 non-null  int64  \n",
      " 16  불임_원인_-_배란_장애          256344 non-null  int64  \n",
      " 17  불임_원인_-_자궁경부_문제        256344 non-null  int64  \n",
      " 18  불임_원인_-_자궁내막증          256344 non-null  int64  \n",
      " 19  불임_원인_-_정자_농도          256344 non-null  int64  \n",
      " 20  불임_원인_-_정자_운동성         256344 non-null  int64  \n",
      " 21  불임_원인_-_정자_형태          256344 non-null  int64  \n",
      " 22  배아_생성_주요_이유            250055 non-null  object \n",
      " 23  총_시술_횟수                256344 non-null  object \n",
      " 24  클리닉_내_총_시술_횟수          256344 non-null  object \n",
      " 25  IVF_시술_횟수              256344 non-null  object \n",
      " 26  DI_시술_횟수               256344 non-null  object \n",
      " 27  총_임신_횟수                256344 non-null  object \n",
      " 28  IVF_임신_횟수              256344 non-null  object \n",
      " 29  DI_임신_횟수               256344 non-null  object \n",
      " 30  총_출산_횟수                256344 non-null  object \n",
      " 31  IVF_출산_횟수              256344 non-null  object \n",
      " 32  DI_출산_횟수               256344 non-null  object \n",
      " 33  총_생성_배아_수              250055 non-null  float64\n",
      " 34  미세주입된_난자_수             250055 non-null  float64\n",
      " 35  미세주입에서_생성된_배아_수        250055 non-null  float64\n",
      " 36  이식된_배아_수               250055 non-null  float64\n",
      " 37  미세주입_배아_이식_수           250055 non-null  float64\n",
      " 38  저장된_배아_수               250055 non-null  float64\n",
      " 39  미세주입_후_저장된_배아_수        250055 non-null  float64\n",
      " 40  해동된_배아_수               250055 non-null  float64\n",
      " 41  해동_난자_수                250055 non-null  float64\n",
      " 42  수집된_신선_난자_수            250055 non-null  float64\n",
      " 43  저장된_신선_난자_수            250055 non-null  float64\n",
      " 44  혼합된_난자_수               250055 non-null  float64\n",
      " 45  파트너_정자와_혼합된_난자_수       250055 non-null  float64\n",
      " 46  기증자_정자와_혼합된_난자_수       250055 non-null  float64\n",
      " 47  난자_출처                  256344 non-null  object \n",
      " 48  정자_출처                  256344 non-null  object \n",
      " 49  난자_기증자_나이              256344 non-null  object \n",
      " 50  정자_기증자_나이              256344 non-null  object \n",
      " 51  동결_배아_사용_여부            250055 non-null  float64\n",
      " 52  신선_배아_사용_여부            250055 non-null  float64\n",
      " 53  기증_배아_사용_여부            250055 non-null  float64\n",
      " 54  대리모_여부                 250055 non-null  float64\n",
      " 55  PGD_시술_여부              2522 non-null    float64\n",
      " 56  PGS_시술_여부              2272 non-null    float64\n",
      " 57  난자_채취_경과일              198868 non-null  float64\n",
      " 58  난자_해동_경과일              1778 non-null    float64\n",
      " 59  난자_혼합_경과일              202922 non-null  float64\n",
      " 60  배아_이식_경과일              213113 non-null  float64\n",
      " 61  배아_해동_경과일              40703 non-null   float64\n",
      " 62  임신_성공_여부               256344 non-null  int64  \n",
      " 63  시술_유형_IVF              256344 non-null  int32  \n",
      " 64  시술_유형_DI               256344 non-null  int32  \n",
      " 65  특정_시술_유형_AH            256344 non-null  int32  \n",
      " 66  특정_시술_유형_BLASTOCYST    256344 non-null  int32  \n",
      " 67  특정_시술_유형_GenericDI     256344 non-null  int32  \n",
      " 68  특정_시술_유형_ICI           256344 non-null  int32  \n",
      " 69  특정_시술_유형_ICSI          256344 non-null  int32  \n",
      " 70  특정_시술_유형_IUI           256344 non-null  int32  \n",
      " 71  특정_시술_유형_IVF           256344 non-null  int32  \n",
      " 72  특정_시술_유형_IVI           256344 non-null  int32  \n",
      "dtypes: float64(30), int32(10), int64(17), object(16)\n",
      "memory usage: 134.9+ MB\n"
     ]
    }
   ],
   "source": [
    "train.info()"
   ]
  },
  {
   "cell_type": "code",
   "execution_count": 1407,
   "metadata": {},
   "outputs": [
    {
     "name": "stdout",
     "output_type": "stream",
     "text": [
      "Grouped by: 불임_원인_-_난관_질환, 불임_원인_-_배란_장애, 불임_원인_-_자궁경부_문제, 불임_원인_-_자궁내막증\n",
      "\n",
      "                   group  '임신_성공_여부' count     ratio   Total\n",
      "0   (-10, -10, -10, -10)                 2  0.005831     343\n",
      "1           (0, 0, 0, 0)             44992  0.254396  176858\n",
      "2           (0, 0, 0, 1)              3395  0.254574   13336\n",
      "3           (0, 0, 1, 0)                 0  0.000000       7\n",
      "4           (0, 1, 0, 0)              8281  0.286758   28878\n",
      "5           (0, 1, 0, 1)               392  0.286340    1369\n",
      "6           (0, 1, 1, 0)                 0  0.000000       1\n",
      "7           (1, 0, 0, 0)              7455  0.256379   29078\n",
      "8           (1, 0, 0, 1)               801  0.243169    3294\n",
      "9           (1, 0, 1, 1)                 0  0.000000       2\n",
      "10          (1, 1, 0, 0)               832  0.289190    2877\n",
      "11          (1, 1, 0, 1)                76  0.252492     301\n"
     ]
    }
   ],
   "source": [
    "summarize_group(train, [\n",
    "    '불임_원인_-_난관_질환',\n",
    "    # '불임_원인_-_남성_요인',\n",
    "    '불임_원인_-_배란_장애',\n",
    "    '불임_원인_-_자궁경부_문제',\n",
    "    '불임_원인_-_자궁내막증',\n",
    "    # '불임_원인_-_정자_농도',\n",
    "    # '불임_원인_-_정자_운동성',\n",
    "    # '불임_원인_-_정자_형태'\n",
    "])"
   ]
  },
  {
   "cell_type": "markdown",
   "metadata": {},
   "source": [
    "### 28. 배아_생성_주요_이유"
   ]
  },
  {
   "cell_type": "markdown",
   "metadata": {},
   "source": [
    "배아 생성의 주된 목적(시술, 보관 등)"
   ]
  },
  {
   "cell_type": "code",
   "execution_count": 1408,
   "metadata": {},
   "outputs": [
    {
     "name": "stdout",
     "output_type": "stream",
     "text": [
      "\n",
      "배아_생성_주요_이유별 임신_성공_여부 비율 및 갯수\n",
      "\n",
      "                            0         1         0        1   Total\n",
      "variable                                                          \n",
      "-10                  0.994169  0.005831     341.0      2.0     343\n",
      "기증용                  1.000000  0.000000     794.0      0.0     794\n",
      "기증용, 난자 저장용          1.000000  0.000000      42.0      0.0      42\n",
      "기증용, 배아 저장용          1.000000  0.000000     112.0      0.0     112\n",
      "기증용, 배아 저장용, 현재 시술용  0.650000  0.350000      13.0      7.0      20\n",
      "기증용, 현재 시술용          0.620243  0.379757    2347.0   1437.0    3784\n",
      "난자 저장용               1.000000  0.000000    1959.0      0.0    1959\n",
      "난자 저장용, 배아 저장용       1.000000  0.000000       6.0      0.0       6\n",
      "난자 저장용, 배아 저장용, 연구용  1.000000  0.000000       1.0      0.0       1\n",
      "난자 저장용, 현재 시술용       0.800000  0.200000       4.0      1.0       5\n",
      "배아 저장용               0.999130  0.000870    9183.0      8.0    9191\n",
      "배아 저장용, 현재 시술용       0.734940  0.265060      61.0     22.0      83\n",
      "연구용, 현재 시술용          1.000000  0.000000       1.0      0.0       1\n",
      "현재 시술용               0.726426  0.273574  169776.0  63938.0  233714\n"
     ]
    }
   ],
   "source": [
    "value_counts_ratio(train, '배아_생성_주요_이유')"
   ]
  },
  {
   "cell_type": "code",
   "execution_count": 1409,
   "metadata": {},
   "outputs": [],
   "source": [
    "import pandas as pd\n",
    "from sklearn.preprocessing import MultiLabelBinarizer\n",
    "\n",
    "# 배아_생성_주요_이유 분리 함수 정의\n",
    "def split_reasons(reason):\n",
    "    if isinstance(reason, str):\n",
    "        return reason.split(', ')\n",
    "    return []\n",
    "\n",
    "# MultiLabelBinarizer를 사용하여 원핫 인코딩\n",
    "def process_reasons(df):\n",
    "    mlb = MultiLabelBinarizer()\n",
    "    reasons = df['배아_생성_주요_이유'].apply(split_reasons)\n",
    "    reasons_encoded = mlb.fit_transform(reasons)\n",
    "    reasons_df = pd.DataFrame(reasons_encoded, columns=[f'배아_생성_주요_이유_{cls}' for cls in mlb.classes_])\n",
    "    df = df.drop(columns=['배아_생성_주요_이유']).reset_index(drop=True)\n",
    "    df_encoded = pd.concat([df, reasons_df], axis=1)\n",
    "    \n",
    "    # '배아_생성_주요_이유_연구용' 변수 제거\n",
    "    if '배아_생성_주요_이유_연구용' in df_encoded.columns:\n",
    "        df_encoded = df_encoded.drop(columns=['배아_생성_주요_이유_연구용'])\n",
    "    \n",
    "    return df_encoded\n",
    "\n",
    "train = process_reasons(train)\n",
    "test = process_reasons(test)"
   ]
  },
  {
   "cell_type": "code",
   "execution_count": 1410,
   "metadata": {},
   "outputs": [
    {
     "name": "stdout",
     "output_type": "stream",
     "text": [
      "<class 'pandas.core.frame.DataFrame'>\n",
      "RangeIndex: 256344 entries, 0 to 256343\n",
      "Data columns (total 76 columns):\n",
      " #   Column                 Non-Null Count   Dtype  \n",
      "---  ------                 --------------   -----  \n",
      " 0   ID                     256344 non-null  object \n",
      " 1   시술_당시_나이               256001 non-null  float64\n",
      " 2   임신_시도_또는_마지막_임신_경과_연수  256344 non-null  float64\n",
      " 3   배란_자극_여부               256344 non-null  int64  \n",
      " 4   단일_배아_이식_여부            256344 non-null  float64\n",
      " 5   착상_전_유전_검사_사용_여부       256344 non-null  float64\n",
      " 6   착상_전_유전_진단_사용_여부       256344 non-null  float64\n",
      " 7   남성_주_불임_원인             256344 non-null  int64  \n",
      " 8   남성_부_불임_원인             256344 non-null  int64  \n",
      " 9   여성_주_불임_원인             256344 non-null  int64  \n",
      " 10  여성_부_불임_원인             256344 non-null  int64  \n",
      " 11  부부_주_불임_원인             256344 non-null  int64  \n",
      " 12  부부_부_불임_원인             256344 non-null  int64  \n",
      " 13  불명확_불임_원인              256344 non-null  int64  \n",
      " 14  불임_원인_-_난관_질환          256344 non-null  int64  \n",
      " 15  불임_원인_-_남성_요인          256344 non-null  int64  \n",
      " 16  불임_원인_-_배란_장애          256344 non-null  int64  \n",
      " 17  불임_원인_-_자궁경부_문제        256344 non-null  int64  \n",
      " 18  불임_원인_-_자궁내막증          256344 non-null  int64  \n",
      " 19  불임_원인_-_정자_농도          256344 non-null  int64  \n",
      " 20  불임_원인_-_정자_운동성         256344 non-null  int64  \n",
      " 21  불임_원인_-_정자_형태          256344 non-null  int64  \n",
      " 22  총_시술_횟수                256344 non-null  object \n",
      " 23  클리닉_내_총_시술_횟수          256344 non-null  object \n",
      " 24  IVF_시술_횟수              256344 non-null  object \n",
      " 25  DI_시술_횟수               256344 non-null  object \n",
      " 26  총_임신_횟수                256344 non-null  object \n",
      " 27  IVF_임신_횟수              256344 non-null  object \n",
      " 28  DI_임신_횟수               256344 non-null  object \n",
      " 29  총_출산_횟수                256344 non-null  object \n",
      " 30  IVF_출산_횟수              256344 non-null  object \n",
      " 31  DI_출산_횟수               256344 non-null  object \n",
      " 32  총_생성_배아_수              250055 non-null  float64\n",
      " 33  미세주입된_난자_수             250055 non-null  float64\n",
      " 34  미세주입에서_생성된_배아_수        250055 non-null  float64\n",
      " 35  이식된_배아_수               250055 non-null  float64\n",
      " 36  미세주입_배아_이식_수           250055 non-null  float64\n",
      " 37  저장된_배아_수               250055 non-null  float64\n",
      " 38  미세주입_후_저장된_배아_수        250055 non-null  float64\n",
      " 39  해동된_배아_수               250055 non-null  float64\n",
      " 40  해동_난자_수                250055 non-null  float64\n",
      " 41  수집된_신선_난자_수            250055 non-null  float64\n",
      " 42  저장된_신선_난자_수            250055 non-null  float64\n",
      " 43  혼합된_난자_수               250055 non-null  float64\n",
      " 44  파트너_정자와_혼합된_난자_수       250055 non-null  float64\n",
      " 45  기증자_정자와_혼합된_난자_수       250055 non-null  float64\n",
      " 46  난자_출처                  256344 non-null  object \n",
      " 47  정자_출처                  256344 non-null  object \n",
      " 48  난자_기증자_나이              256344 non-null  object \n",
      " 49  정자_기증자_나이              256344 non-null  object \n",
      " 50  동결_배아_사용_여부            250055 non-null  float64\n",
      " 51  신선_배아_사용_여부            250055 non-null  float64\n",
      " 52  기증_배아_사용_여부            250055 non-null  float64\n",
      " 53  대리모_여부                 250055 non-null  float64\n",
      " 54  PGD_시술_여부              2522 non-null    float64\n",
      " 55  PGS_시술_여부              2272 non-null    float64\n",
      " 56  난자_채취_경과일              198868 non-null  float64\n",
      " 57  난자_해동_경과일              1778 non-null    float64\n",
      " 58  난자_혼합_경과일              202922 non-null  float64\n",
      " 59  배아_이식_경과일              213113 non-null  float64\n",
      " 60  배아_해동_경과일              40703 non-null   float64\n",
      " 61  임신_성공_여부               256344 non-null  int64  \n",
      " 62  시술_유형_IVF              256344 non-null  int32  \n",
      " 63  시술_유형_DI               256344 non-null  int32  \n",
      " 64  특정_시술_유형_AH            256344 non-null  int32  \n",
      " 65  특정_시술_유형_BLASTOCYST    256344 non-null  int32  \n",
      " 66  특정_시술_유형_GenericDI     256344 non-null  int32  \n",
      " 67  특정_시술_유형_ICI           256344 non-null  int32  \n",
      " 68  특정_시술_유형_ICSI          256344 non-null  int32  \n",
      " 69  특정_시술_유형_IUI           256344 non-null  int32  \n",
      " 70  특정_시술_유형_IVF           256344 non-null  int32  \n",
      " 71  특정_시술_유형_IVI           256344 non-null  int32  \n",
      " 72  배아_생성_주요_이유_기증용        256344 non-null  int32  \n",
      " 73  배아_생성_주요_이유_난자 저장용     256344 non-null  int32  \n",
      " 74  배아_생성_주요_이유_배아 저장용     256344 non-null  int32  \n",
      " 75  배아_생성_주요_이유_현재 시술용     256344 non-null  int32  \n",
      "dtypes: float64(30), int32(14), int64(17), object(15)\n",
      "memory usage: 134.9+ MB\n"
     ]
    }
   ],
   "source": [
    "train.info()"
   ]
  },
  {
   "cell_type": "markdown",
   "metadata": {},
   "source": [
    "### 29. 총_시술_횟수"
   ]
  },
  {
   "cell_type": "markdown",
   "metadata": {},
   "source": [
    "IVF 및 DI 포함한 전체 시술 횟수"
   ]
  },
  {
   "cell_type": "code",
   "execution_count": 1411,
   "metadata": {},
   "outputs": [
    {
     "name": "stdout",
     "output_type": "stream",
     "text": [
      "\n",
      "총_시술_횟수별 임신_성공_여부 비율 및 갯수\n",
      "\n",
      "                 0         1      0      1  Total\n",
      "variable                                         \n",
      "-10       0.994169  0.005831    341      2    343\n",
      "0회        0.708703  0.291297  69095  28400  97495\n",
      "1회        0.749824  0.250176  42563  14201  56764\n",
      "2회        0.755444  0.244556  29664   9603  39267\n",
      "3회        0.763212  0.236788  18688   5798  24486\n",
      "4회        0.771746  0.228254  11658   3448  15106\n",
      "5회        0.783709  0.216291   7120   1965   9085\n",
      "6회 이상     0.796420  0.203580  10989   2809  13798\n"
     ]
    }
   ],
   "source": [
    "value_counts_ratio(train, '총_시술_횟수')"
   ]
  },
  {
   "cell_type": "markdown",
   "metadata": {},
   "source": [
    "### 30. 클리닉_내_총_시술_횟수"
   ]
  },
  {
   "cell_type": "markdown",
   "metadata": {},
   "source": [
    "특정 클리닉에서 받은 IVF 및 DI 시술 횟수"
   ]
  },
  {
   "cell_type": "code",
   "execution_count": 1412,
   "metadata": {},
   "outputs": [
    {
     "name": "stdout",
     "output_type": "stream",
     "text": [
      "\n",
      "클리닉_내_총_시술_횟수별 임신_성공_여부 비율 및 갯수\n",
      "\n",
      "                 0         1      0      1   Total\n",
      "variable                                          \n",
      "-10       0.994169  0.005831    341      2     343\n",
      "0회        0.716840  0.283160  87147  34424  121571\n",
      "1회        0.754410  0.245590  45036  14661   59697\n",
      "2회        0.761612  0.238388  26268   8222   34490\n",
      "3회        0.766983  0.233017  14045   4267   18312\n",
      "4회        0.777422  0.222578   7761   2222    9983\n",
      "5회        0.791550  0.208450   4253   1120    5373\n",
      "6회 이상     0.801065  0.198935   5267   1308    6575\n"
     ]
    }
   ],
   "source": [
    "value_counts_ratio(train, '클리닉_내_총_시술_횟수')"
   ]
  },
  {
   "cell_type": "markdown",
   "metadata": {},
   "source": [
    "### 31. IVF_시술_횟수"
   ]
  },
  {
   "cell_type": "markdown",
   "metadata": {},
   "source": [
    "이전에 수행된 IVF 시술 횟수"
   ]
  },
  {
   "cell_type": "code",
   "execution_count": 1413,
   "metadata": {},
   "outputs": [
    {
     "name": "stdout",
     "output_type": "stream",
     "text": [
      "\n",
      "IVF_시술_횟수별 임신_성공_여부 비율 및 갯수\n",
      "\n",
      "                 0         1      0      1   Total\n",
      "variable                                          \n",
      "-10       0.994169  0.005831    341      2     343\n",
      "0회        0.713455  0.286545  74078  29752  103830\n",
      "1회        0.749211  0.250789  43667  14617   58284\n",
      "2회        0.754149  0.245851  29491   9614   39105\n",
      "3회        0.764020  0.235980  17752   5483   23235\n",
      "4회        0.772037  0.227963  10519   3106   13625\n",
      "5회        0.786660  0.213340   6121   1660    7781\n",
      "6회 이상     0.803570  0.196430   8149   1992   10141\n"
     ]
    }
   ],
   "source": [
    "value_counts_ratio(train, 'IVF_시술_횟수')"
   ]
  },
  {
   "cell_type": "markdown",
   "metadata": {},
   "source": [
    "### 32. DI_시술_횟수"
   ]
  },
  {
   "cell_type": "markdown",
   "metadata": {},
   "source": [
    "이전에 수행된 DI 시술 횟수"
   ]
  },
  {
   "cell_type": "code",
   "execution_count": 1414,
   "metadata": {},
   "outputs": [
    {
     "name": "stdout",
     "output_type": "stream",
     "text": [
      "\n",
      "DI_시술_횟수별 임신_성공_여부 비율 및 갯수\n",
      "\n",
      "                 0         1       0      1   Total\n",
      "variable                                           \n",
      "-10       0.994169  0.005831     341      2     343\n",
      "0회        0.738989  0.261011  178921  63195  242116\n",
      "1회        0.807877  0.192123    2359    561    2920\n",
      "2회        0.782768  0.217232    2353    653    3006\n",
      "3회        0.757702  0.242298    2361    755    3116\n",
      "4회        0.779386  0.220614    1346    381    1727\n",
      "5회        0.811667  0.188333     974    226    1200\n",
      "6회 이상     0.763570  0.236430    1463    453    1916\n"
     ]
    }
   ],
   "source": [
    "value_counts_ratio(train, 'DI_시술_횟수')"
   ]
  },
  {
   "cell_type": "markdown",
   "metadata": {},
   "source": [
    "### 33. 총_임신_횟수"
   ]
  },
  {
   "cell_type": "markdown",
   "metadata": {},
   "source": [
    "IVF 및 DI 포함한 총 임신 횟수"
   ]
  },
  {
   "cell_type": "code",
   "execution_count": 1415,
   "metadata": {},
   "outputs": [
    {
     "name": "stdout",
     "output_type": "stream",
     "text": [
      "\n",
      "총_임신_횟수별 임신_성공_여부 비율 및 갯수\n",
      "\n",
      "                 0         1       0      1   Total\n",
      "variable                                           \n",
      "-10       0.994169  0.005831     341      2     343\n",
      "0회        0.742133  0.257867  152201  52885  205086\n",
      "1회        0.737068  0.262932   32302  11523   43825\n",
      "2회        0.742029  0.257971    4631   1610    6241\n",
      "3회        0.754692  0.245308     563    183     746\n",
      "4회        0.782609  0.217391      72     20      92\n",
      "5회        0.750000  0.250000       6      2       8\n",
      "6회 이상     0.666667  0.333333       2      1       3\n"
     ]
    }
   ],
   "source": [
    "value_counts_ratio(train, '총_임신_횟수')"
   ]
  },
  {
   "cell_type": "markdown",
   "metadata": {},
   "source": [
    "### 34. IVF_임신_횟수"
   ]
  },
  {
   "cell_type": "markdown",
   "metadata": {},
   "source": [
    "IVF 시술로 인한 임신 횟수"
   ]
  },
  {
   "cell_type": "code",
   "execution_count": 1416,
   "metadata": {},
   "outputs": [
    {
     "name": "stdout",
     "output_type": "stream",
     "text": [
      "\n",
      "IVF_임신_횟수별 임신_성공_여부 비율 및 갯수\n",
      "\n",
      "                 0         1         0        1   Total\n",
      "variable                                               \n",
      "-10       0.994169  0.005831     341.0      2.0     343\n",
      "0회        0.742742  0.257258  154454.0  53497.0  207951\n",
      "1회        0.733566  0.266434   30454.0  11061.0   41515\n",
      "2회        0.743949  0.256051    4303.0   1481.0    5784\n",
      "3회        0.752640  0.247360     499.0    164.0     663\n",
      "4회        0.762500  0.237500      61.0     19.0      80\n",
      "5회        0.857143  0.142857       6.0      1.0       7\n",
      "6회 이상     0.000000  1.000000       0.0      1.0       1\n"
     ]
    }
   ],
   "source": [
    "value_counts_ratio(train, 'IVF_임신_횟수')"
   ]
  },
  {
   "cell_type": "markdown",
   "metadata": {},
   "source": [
    "### 35. DI_임신_횟수"
   ]
  },
  {
   "cell_type": "markdown",
   "metadata": {},
   "source": [
    "DI 시술로 인한 임신 횟수"
   ]
  },
  {
   "cell_type": "code",
   "execution_count": 1417,
   "metadata": {},
   "outputs": [
    {
     "name": "stdout",
     "output_type": "stream",
     "text": [
      "\n",
      "DI_임신_횟수별 임신_성공_여부 비율 및 갯수\n",
      "\n",
      "                 0         1         0        1   Total\n",
      "variable                                               \n",
      "-10       0.994169  0.005831     341.0      2.0     343\n",
      "0회        0.740810  0.259190  187390.0  65563.0  252953\n",
      "1회        0.790857  0.209143    2076.0    549.0    2625\n",
      "2회        0.724796  0.275204     266.0    101.0     367\n",
      "3회        0.791667  0.208333      38.0     10.0      48\n",
      "4회        1.000000  0.000000       5.0      0.0       5\n",
      "5회        0.666667  0.333333       2.0      1.0       3\n"
     ]
    }
   ],
   "source": [
    "value_counts_ratio(train, 'DI_임신_횟수')"
   ]
  },
  {
   "cell_type": "markdown",
   "metadata": {},
   "source": [
    "### 36. 총_출산_횟수"
   ]
  },
  {
   "cell_type": "markdown",
   "metadata": {},
   "source": [
    "IVF 및 DI 시술로 출산한 횟수"
   ]
  },
  {
   "cell_type": "code",
   "execution_count": 1418,
   "metadata": {},
   "outputs": [
    {
     "name": "stdout",
     "output_type": "stream",
     "text": [
      "\n",
      "총_출산_횟수별 임신_성공_여부 비율 및 갯수\n",
      "\n",
      "                 0         1         0        1   Total\n",
      "variable                                               \n",
      "-10       0.994169  0.005831     341.0      2.0     343\n",
      "0회        0.742763  0.257237  162082.0  56133.0  218215\n",
      "1회        0.732707  0.267293   25910.0   9452.0   35362\n",
      "2회        0.736936  0.263064    1650.0    589.0    2239\n",
      "3회        0.721893  0.278107     122.0     47.0     169\n",
      "4회        0.769231  0.230769      10.0      3.0      13\n",
      "5회        1.000000  0.000000       1.0      0.0       1\n",
      "6회 이상     1.000000  0.000000       2.0      0.0       2\n"
     ]
    }
   ],
   "source": [
    "value_counts_ratio(train, '총_출산_횟수')"
   ]
  },
  {
   "cell_type": "markdown",
   "metadata": {},
   "source": [
    "### 37. IVF_출산_횟수"
   ]
  },
  {
   "cell_type": "markdown",
   "metadata": {},
   "source": [
    "IVF 시술로 출산한 횟수"
   ]
  },
  {
   "cell_type": "code",
   "execution_count": 1419,
   "metadata": {},
   "outputs": [
    {
     "name": "stdout",
     "output_type": "stream",
     "text": [
      "\n",
      "IVF_출산_횟수별 임신_성공_여부 비율 및 갯수\n",
      "\n",
      "                 0         1         0        1   Total\n",
      "variable                                               \n",
      "-10       0.994169  0.005831     341.0      2.0     343\n",
      "0회        0.743072  0.256928  163840.0  56650.0  220490\n",
      "1회        0.730062  0.269938   24341.0   9000.0   33341\n",
      "2회        0.737494  0.262506    1489.0    530.0    2019\n",
      "3회        0.700730  0.299270      96.0     41.0     137\n",
      "4회        0.769231  0.230769      10.0      3.0      13\n",
      "5회        1.000000  0.000000       1.0      0.0       1\n"
     ]
    }
   ],
   "source": [
    "value_counts_ratio(train, 'IVF_출산_횟수')"
   ]
  },
  {
   "cell_type": "markdown",
   "metadata": {},
   "source": [
    "### 38. DI_출산_횟수"
   ]
  },
  {
   "cell_type": "markdown",
   "metadata": {},
   "source": [
    "DI 시술로 출산한 횟수"
   ]
  },
  {
   "cell_type": "code",
   "execution_count": 1420,
   "metadata": {},
   "outputs": [
    {
     "name": "stdout",
     "output_type": "stream",
     "text": [
      "\n",
      "DI_출산_횟수별 임신_성공_여부 비율 및 갯수\n",
      "\n",
      "                 0         1         0        1   Total\n",
      "variable                                               \n",
      "-10       0.994169  0.005831     341.0      2.0     343\n",
      "0회        0.741043  0.258957  187973.0  65687.0  253660\n",
      "1회        0.770814  0.229186    1648.0    490.0    2138\n",
      "2회        0.763736  0.236264     139.0     43.0     182\n",
      "3회        0.789474  0.210526      15.0      4.0      19\n",
      "5회        1.000000  0.000000       2.0      0.0       2\n"
     ]
    }
   ],
   "source": [
    "value_counts_ratio(train, 'DI_출산_횟수')"
   ]
  },
  {
   "cell_type": "code",
   "execution_count": 1421,
   "metadata": {},
   "outputs": [],
   "source": [
    "# 숫자 매핑\n",
    "mapping = {\n",
    "    '0회': 0, '1회': 1, '2회': 2, '3회': 3, \n",
    "    '4회': 4, '5회': 5, '6회 이상': 6\n",
    "}\n",
    "\n",
    "# 변환할 열 목록\n",
    "columns_to_map = [\n",
    "    '총_시술_횟수', '클리닉_내_총_시술_횟수', 'IVF_시술_횟수', \n",
    "    'DI_시술_횟수', '총_임신_횟수', 'IVF_임신_횟수', 'DI_임신_횟수', \n",
    "    '총_출산_횟수', 'IVF_출산_횟수', 'DI_출산_횟수'\n",
    "]\n",
    "\n",
    "# 숫자로 변환\n",
    "for col in columns_to_map:\n",
    "    train[col] = train[col].map(mapping)\n",
    "    test[col] = test[col].map(mapping)"
   ]
  },
  {
   "cell_type": "code",
   "execution_count": 1422,
   "metadata": {},
   "outputs": [],
   "source": [
    "# 비율 계산 (train 데이터프레임)\n",
    "train['IVF_임신_시술_비율'] = np.where(train['IVF_시술_횟수'] > 0, train['IVF_임신_횟수'] / train['IVF_시술_횟수'], -1)\n",
    "train['DI_임신_시술_비율'] = np.where(train['DI_시술_횟수'] > 0, train['DI_임신_횟수'] / train['DI_시술_횟수'], -1)\n",
    "train['임신_성공률'] = np.where(train['총_시술_횟수'] > 0, train['총_임신_횟수'] / train['총_시술_횟수'], -1)\n",
    "\n",
    "# 비율 계산 (test 데이터프레임)\n",
    "test['IVF_임신_시술_비율'] = np.where(test['IVF_시술_횟수'] > 0, test['IVF_임신_횟수'] / test['IVF_시술_횟수'], -1)\n",
    "test['DI_임신_시술_비율'] = np.where(test['DI_시술_횟수'] > 0, test['DI_임신_횟수'] / test['DI_시술_횟수'], -1)\n",
    "test['임신_성공률'] = np.where(test['총_시술_횟수'] > 0, test['총_임신_횟수'] / test['총_시술_횟수'], -1)"
   ]
  },
  {
   "cell_type": "markdown",
   "metadata": {},
   "source": [
    "### 39. 총_생성_배아_수"
   ]
  },
  {
   "cell_type": "markdown",
   "metadata": {},
   "source": [
    "해당 시술에서 생성된 배아의 총 개수"
   ]
  },
  {
   "cell_type": "code",
   "execution_count": 1423,
   "metadata": {},
   "outputs": [
    {
     "name": "stdout",
     "output_type": "stream",
     "text": [
      "\n",
      "총_생성_배아_수별 임신_성공_여부 비율 및 갯수\n",
      "\n",
      "                 0         1        0       1  Total\n",
      "variable                                            \n",
      "-10.0     0.994169  0.005831    341.0     2.0    343\n",
      " 0.0      0.827181  0.172819  43872.0  9166.0  53038\n",
      " 1.0      0.905106  0.094894  13773.0  1444.0  15217\n",
      " 2.0      0.819878  0.180122  15731.0  3456.0  19187\n",
      " 3.0      0.758104  0.241896  15880.0  5067.0  20947\n",
      " 4.0      0.722649  0.277351  15615.0  5993.0  21608\n",
      " 5.0      0.694502  0.305498  14172.0  6234.0  20406\n",
      " 6.0      0.676978  0.323022  12606.0  6015.0  18621\n",
      " 7.0      0.661591  0.338409  10602.0  5423.0  16025\n",
      " 8.0      0.649974  0.350026   8852.0  4767.0  13619\n",
      " 9.0      0.645579  0.354421   7184.0  3944.0  11128\n",
      " 10.0     0.639523  0.360477   5796.0  3267.0   9063\n",
      " 11.0     0.633145  0.366855   4489.0  2601.0   7090\n",
      " 12.0     0.647552  0.352448   3704.0  2016.0   5720\n",
      " 13.0     0.633796  0.366204   2738.0  1582.0   4320\n",
      " 14.0     0.644048  0.355952   2164.0  1196.0   3360\n",
      " 15.0     0.642289  0.357711   1616.0   900.0   2516\n",
      " 16.0     0.652923  0.347077   1251.0   665.0   1916\n",
      " 17.0     0.677312  0.322688   1018.0   485.0   1503\n",
      " 18.0     0.696509  0.303491    778.0   339.0   1117\n",
      " 19.0     0.692115  0.307885    553.0   246.0    799\n",
      " 20.0     0.713615  0.286385    456.0   183.0    639\n",
      " 21.0     0.735358  0.264642    339.0   122.0    461\n",
      " 22.0     0.748588  0.251412    265.0    89.0    354\n",
      " 23.0     0.789474  0.210526    210.0    56.0    266\n",
      " 24.0     0.800000  0.200000    156.0    39.0    195\n",
      " 25.0     0.797546  0.202454    130.0    33.0    163\n",
      " 26.0     0.790476  0.209524     83.0    22.0    105\n",
      " 27.0     0.761905  0.238095     64.0    20.0     84\n",
      " 28.0     0.843137  0.156863     43.0     8.0     51\n",
      " 29.0     0.782609  0.217391     36.0    10.0     46\n",
      " 30.0     0.825000  0.175000     33.0     7.0     40\n",
      " 31.0     0.880000  0.120000     22.0     3.0     25\n",
      " 32.0     0.739130  0.260870     17.0     6.0     23\n",
      " 33.0     0.833333  0.166667     10.0     2.0     12\n",
      " 34.0     0.666667  0.333333     10.0     5.0     15\n",
      " 35.0     1.000000  0.000000      4.0     0.0      4\n",
      " 36.0     0.857143  0.142857      6.0     1.0      7\n",
      " 37.0     0.857143  0.142857      6.0     1.0      7\n",
      " 38.0     1.000000  0.000000      3.0     0.0      3\n",
      " 40.0     1.000000  0.000000      1.0     0.0      1\n",
      " 41.0     1.000000  0.000000      2.0     0.0      2\n",
      " 42.0     1.000000  0.000000      3.0     0.0      3\n",
      " 43.0     1.000000  0.000000      1.0     0.0      1\n",
      " 44.0     1.000000  0.000000      3.0     0.0      3\n",
      " 51.0     1.000000  0.000000      2.0     0.0      2\n"
     ]
    }
   ],
   "source": [
    "value_counts_ratio(train, '총_생성_배아_수')"
   ]
  },
  {
   "cell_type": "code",
   "execution_count": 1424,
   "metadata": {},
   "outputs": [
    {
     "name": "stdout",
     "output_type": "stream",
     "text": [
      "결측값 개수: 6289\n",
      "결측값 개수: 0\n"
     ]
    }
   ],
   "source": [
    "# 결측값 개수 확인\n",
    "print(\"결측값 개수:\", train['총_생성_배아_수'].isnull().sum())\n",
    "\n",
    "# 결측값을 0으로 채우기\n",
    "train['총_생성_배아_수'].fillna(0, inplace=True)\n",
    "test['총_생성_배아_수'].fillna(0, inplace=True)\n",
    "\n",
    "# 결측값 개수 확인\n",
    "print(\"결측값 개수:\", train['총_생성_배아_수'].isnull().sum())"
   ]
  },
  {
   "cell_type": "markdown",
   "metadata": {},
   "source": [
    "### 40. 미세주입된_난자_수"
   ]
  },
  {
   "cell_type": "markdown",
   "metadata": {},
   "source": [
    "정자 미세주입(ICSI)으로 처리된 난자의 수"
   ]
  },
  {
   "cell_type": "code",
   "execution_count": 1425,
   "metadata": {},
   "outputs": [
    {
     "name": "stdout",
     "output_type": "stream",
     "text": [
      "\n",
      "미세주입된_난자_수별 임신_성공_여부 비율 및 갯수\n",
      "\n",
      "                 0         1        0        1   Total\n",
      "variable                                              \n",
      "-10.0     0.994169  0.005831    341.0      2.0     343\n",
      " 0.0      0.748636  0.251364  95332.0  32009.0  127341\n",
      " 1.0      0.942643  0.057357   4273.0    260.0    4533\n",
      " 2.0      0.888765  0.111235   5593.0    700.0    6293\n",
      " 3.0      0.833397  0.166603   6593.0   1318.0    7911\n",
      " 4.0      0.789731  0.210269   7598.0   2023.0    9621\n",
      " 5.0      0.744609  0.255391   7907.0   2712.0   10619\n",
      " 6.0      0.723316  0.276684   8010.0   3064.0   11074\n",
      " 7.0      0.704746  0.295254   7335.0   3073.0   10408\n",
      " 8.0      0.693648  0.306352   6727.0   2971.0    9698\n",
      " 9.0      0.681697  0.318303   5866.0   2739.0    8605\n",
      " 10.0     0.665462  0.334538   5156.0   2592.0    7748\n",
      " 11.0     0.650268  0.349732   4243.0   2282.0    6525\n",
      " 12.0     0.660559  0.339441   3713.0   1908.0    5621\n",
      " 13.0     0.642012  0.357988   2986.0   1665.0    4651\n",
      " 14.0     0.661374  0.338626   2541.0   1301.0    3842\n",
      " 15.0     0.650784  0.349216   2076.0   1114.0    3190\n",
      " 16.0     0.657288  0.342712   1682.0    877.0    2559\n",
      " 17.0     0.658859  0.341141   1294.0    670.0    1964\n",
      " 18.0     0.680050  0.319950   1084.0    510.0    1594\n",
      " 19.0     0.665850  0.334150    815.0    409.0    1224\n",
      " 20.0     0.673019  0.326981    671.0    326.0     997\n",
      " 21.0     0.716981  0.283019    570.0    225.0     795\n",
      " 22.0     0.730183  0.269817    479.0    177.0     656\n",
      " 23.0     0.711656  0.288344    348.0    141.0     489\n",
      " 24.0     0.763085  0.236915    277.0     86.0     363\n",
      " 25.0     0.779359  0.220641    219.0     62.0     281\n",
      " 26.0     0.775934  0.224066    187.0     54.0     241\n",
      " 27.0     0.832432  0.167568    154.0     31.0     185\n",
      " 28.0     0.830303  0.169697    137.0     28.0     165\n",
      " 29.0     0.769912  0.230088     87.0     26.0     113\n",
      " 30.0     0.826087  0.173913     76.0     16.0      92\n",
      " 31.0     0.866667  0.133333     52.0      8.0      60\n",
      " 32.0     0.807692  0.192308     42.0     10.0      52\n",
      " 33.0     0.820513  0.179487     32.0      7.0      39\n",
      " 34.0     0.857143  0.142857     30.0      5.0      35\n",
      " 35.0     0.870968  0.129032     27.0      4.0      31\n",
      " 36.0     0.923077  0.076923     24.0      2.0      26\n",
      " 37.0     0.785714  0.214286     11.0      3.0      14\n",
      " 38.0     0.909091  0.090909     10.0      1.0      11\n",
      " 39.0     0.857143  0.142857      6.0      1.0       7\n",
      " 40.0     0.875000  0.125000      7.0      1.0       8\n",
      " 41.0     1.000000  0.000000      3.0      0.0       3\n",
      " 42.0     0.666667  0.333333      2.0      1.0       3\n",
      " 43.0     0.857143  0.142857      6.0      1.0       7\n",
      " 44.0     1.000000  0.000000      1.0      0.0       1\n",
      " 45.0     1.000000  0.000000      4.0      0.0       4\n",
      " 46.0     1.000000  0.000000      3.0      0.0       3\n",
      " 47.0     1.000000  0.000000      2.0      0.0       2\n",
      " 48.0     1.000000  0.000000      1.0      0.0       1\n",
      " 49.0     1.000000  0.000000      1.0      0.0       1\n",
      " 50.0     1.000000  0.000000      1.0      0.0       1\n",
      " 51.0     1.000000  0.000000      5.0      0.0       5\n"
     ]
    }
   ],
   "source": [
    "value_counts_ratio(train, '미세주입된_난자_수')"
   ]
  },
  {
   "cell_type": "code",
   "execution_count": 1426,
   "metadata": {},
   "outputs": [
    {
     "name": "stdout",
     "output_type": "stream",
     "text": [
      "결측값 개수: 6289\n",
      "결측값 개수: 0\n"
     ]
    }
   ],
   "source": [
    "# 결측값 개수 확인\n",
    "print(\"결측값 개수:\", train['미세주입된_난자_수'].isnull().sum())\n",
    "\n",
    "# 결측값을 0으로 채우기\n",
    "train['미세주입된_난자_수'].fillna(0, inplace=True)\n",
    "test['미세주입된_난자_수'].fillna(0, inplace=True)\n",
    "\n",
    "# 결측값 개수 확인\n",
    "print(\"결측값 개수:\", train['미세주입된_난자_수'].isnull().sum())"
   ]
  },
  {
   "cell_type": "markdown",
   "metadata": {},
   "source": [
    "### 41. 미세주입에서_생성된_배아_수"
   ]
  },
  {
   "cell_type": "markdown",
   "metadata": {},
   "source": [
    "ICSI를 통해 생성된 배아의 수"
   ]
  },
  {
   "cell_type": "code",
   "execution_count": 1427,
   "metadata": {},
   "outputs": [
    {
     "name": "stdout",
     "output_type": "stream",
     "text": [
      "\n",
      "미세주입에서_생성된_배아_수별 임신_성공_여부 비율 및 갯수\n",
      "\n",
      "                 0         1        0        1   Total\n",
      "variable                                              \n",
      "-10.0     0.994169  0.005831    341.0      2.0     343\n",
      " 0.0      0.756314  0.243686  99413.0  32031.0  131444\n",
      " 1.0      0.908495  0.091505   9005.0    907.0    9912\n",
      " 2.0      0.817894  0.182106  10330.0   2300.0   12630\n",
      " 3.0      0.758276  0.241724  10468.0   3337.0   13805\n",
      " 4.0      0.719689  0.280311   9990.0   3891.0   13881\n",
      " 5.0      0.689522  0.310478   8910.0   4012.0   12922\n",
      " 6.0      0.671845  0.328155   7784.0   3802.0   11586\n",
      " 7.0      0.659308  0.340692   6272.0   3241.0    9513\n",
      " 8.0      0.651130  0.348870   5071.0   2717.0    7788\n",
      " 9.0      0.641491  0.358509   3958.0   2212.0    6170\n",
      " 10.0     0.635817  0.364183   3064.0   1755.0    4819\n",
      " 11.0     0.624231  0.375769   2334.0   1405.0    3739\n",
      " 12.0     0.662865  0.337135   1976.0   1005.0    2981\n",
      " 13.0     0.642027  0.357973   1381.0    770.0    2151\n",
      " 14.0     0.646536  0.353464   1092.0    597.0    1689\n",
      " 15.0     0.653974  0.346026    790.0    418.0    1208\n",
      " 16.0     0.694570  0.305430    614.0    270.0     884\n",
      " 17.0     0.661383  0.338617    459.0    235.0     694\n",
      " 18.0     0.693837  0.306163    349.0    154.0     503\n",
      " 19.0     0.702006  0.297994    245.0    104.0     349\n",
      " 20.0     0.710526  0.289474    189.0     77.0     266\n",
      " 21.0     0.745098  0.254902    152.0     52.0     204\n",
      " 22.0     0.737931  0.262069    107.0     38.0     145\n",
      " 23.0     0.788136  0.211864     93.0     25.0     118\n",
      " 24.0     0.846154  0.153846     66.0     12.0      78\n",
      " 25.0     0.808824  0.191176     55.0     13.0      68\n",
      " 26.0     0.794872  0.205128     31.0      8.0      39\n",
      " 27.0     0.771429  0.228571     27.0      8.0      35\n",
      " 28.0     0.800000  0.200000     16.0      4.0      20\n",
      " 29.0     0.761905  0.238095     16.0      5.0      21\n",
      " 30.0     0.875000  0.125000     14.0      2.0      16\n",
      " 31.0     0.833333  0.166667      5.0      1.0       6\n",
      " 32.0     0.750000  0.250000      6.0      2.0       8\n",
      " 33.0     1.000000  0.000000      6.0      0.0       6\n",
      " 34.0     0.500000  0.500000      3.0      3.0       6\n",
      " 36.0     1.000000  0.000000      1.0      0.0       1\n",
      " 37.0     1.000000  0.000000      1.0      0.0       1\n",
      " 38.0     1.000000  0.000000      1.0      0.0       1\n",
      " 41.0     1.000000  0.000000      2.0      0.0       2\n",
      " 42.0     1.000000  0.000000      2.0      0.0       2\n",
      " 43.0     1.000000  0.000000      1.0      0.0       1\n"
     ]
    }
   ],
   "source": [
    "value_counts_ratio(train, '미세주입에서_생성된_배아_수')"
   ]
  },
  {
   "cell_type": "code",
   "execution_count": 1428,
   "metadata": {},
   "outputs": [
    {
     "name": "stdout",
     "output_type": "stream",
     "text": [
      "결측값 개수: 6289\n",
      "결측값 개수: 0\n"
     ]
    }
   ],
   "source": [
    "# 결측값 개수 확인\n",
    "print(\"결측값 개수:\", train['미세주입에서_생성된_배아_수'].isnull().sum())\n",
    "\n",
    "# 결측값을 0으로 채우기\n",
    "train['미세주입에서_생성된_배아_수'].fillna(0, inplace=True)\n",
    "test['미세주입에서_생성된_배아_수'].fillna(0, inplace=True)\n",
    "\n",
    "# 결측값 개수 확인\n",
    "print(\"결측값 개수:\", train['미세주입에서_생성된_배아_수'].isnull().sum())"
   ]
  },
  {
   "cell_type": "markdown",
   "metadata": {},
   "source": [
    "### 42. 이식된_배아_수"
   ]
  },
  {
   "cell_type": "markdown",
   "metadata": {},
   "source": [
    "이식된 배아의 총 수"
   ]
  },
  {
   "cell_type": "code",
   "execution_count": 1429,
   "metadata": {},
   "outputs": [
    {
     "name": "stdout",
     "output_type": "stream",
     "text": [
      "\n",
      "이식된_배아_수별 임신_성공_여부 비율 및 갯수\n",
      "\n",
      "                 0         1      0      1   Total\n",
      "variable                                          \n",
      "-10.0     0.994169  0.005831    341      2     343\n",
      " 0.0      0.999172  0.000828  36182     30   36212\n",
      " 1.0      0.686446  0.313554  64379  29407   93786\n",
      " 2.0      0.688904  0.311096  76354  34480  110834\n",
      " 3.0      0.831532  0.168468   7384   1496    8880\n"
     ]
    }
   ],
   "source": [
    "value_counts_ratio(train, '이식된_배아_수')"
   ]
  },
  {
   "cell_type": "code",
   "execution_count": 1430,
   "metadata": {},
   "outputs": [
    {
     "name": "stdout",
     "output_type": "stream",
     "text": [
      "결측값 개수: 6289\n",
      "결측값 개수: 0\n"
     ]
    }
   ],
   "source": [
    "# 결측값 개수 확인\n",
    "print(\"결측값 개수:\", train['이식된_배아_수'].isnull().sum())\n",
    "\n",
    "# 결측값을 0으로 채우기\n",
    "train['이식된_배아_수'].fillna(0, inplace=True)\n",
    "test['이식된_배아_수'].fillna(0, inplace=True)\n",
    "\n",
    "# 결측값 개수 확인\n",
    "print(\"결측값 개수:\", train['이식된_배아_수'].isnull().sum())"
   ]
  },
  {
   "cell_type": "markdown",
   "metadata": {},
   "source": [
    "### 43. 미세주입_배아_이식_수"
   ]
  },
  {
   "cell_type": "markdown",
   "metadata": {},
   "source": [
    "ICSI 배아 중 이식된 배아의 수"
   ]
  },
  {
   "cell_type": "code",
   "execution_count": 1431,
   "metadata": {},
   "outputs": [
    {
     "name": "stdout",
     "output_type": "stream",
     "text": [
      "\n",
      "미세주입_배아_이식_수별 임신_성공_여부 비율 및 갯수\n",
      "\n",
      "                 0         1       0      1   Total\n",
      "variable                                           \n",
      "-10.0     0.994169  0.005831     341      2     343\n",
      " 0.0      0.775604  0.224396  107370  31064  138434\n",
      " 1.0      0.680553  0.319447   31628  14846   46474\n",
      " 2.0      0.687657  0.312343   41038  18640   59678\n",
      " 3.0      0.831643  0.168357    4263    863    5126\n"
     ]
    }
   ],
   "source": [
    "value_counts_ratio(train, '미세주입_배아_이식_수')"
   ]
  },
  {
   "cell_type": "code",
   "execution_count": 1432,
   "metadata": {},
   "outputs": [
    {
     "name": "stdout",
     "output_type": "stream",
     "text": [
      "결측값 개수: 6289\n",
      "결측값 개수: 0\n"
     ]
    }
   ],
   "source": [
    "# 결측값 개수 확인\n",
    "print(\"결측값 개수:\", train['미세주입_배아_이식_수'].isnull().sum())\n",
    "\n",
    "# 결측값을 0으로 채우기\n",
    "train['미세주입_배아_이식_수'].fillna(0, inplace=True)\n",
    "test['미세주입_배아_이식_수'].fillna(0, inplace=True)\n",
    "\n",
    "# 결측값 개수 확인\n",
    "print(\"결측값 개수:\", train['미세주입_배아_이식_수'].isnull().sum())"
   ]
  },
  {
   "cell_type": "markdown",
   "metadata": {},
   "source": [
    "### 44. 저장된_배아_수"
   ]
  },
  {
   "cell_type": "markdown",
   "metadata": {},
   "source": [
    "환자를 위해 저장된 배아의 수"
   ]
  },
  {
   "cell_type": "code",
   "execution_count": 1433,
   "metadata": {},
   "outputs": [
    {
     "name": "stdout",
     "output_type": "stream",
     "text": [
      "\n",
      "저장된_배아_수별 임신_성공_여부 비율 및 갯수\n",
      "\n",
      "                 0         1         0        1   Total\n",
      "variable                                               \n",
      "-10.0     0.994169  0.005831     341.0      2.0     343\n",
      " 0.0      0.777446  0.222554  129468.0  37062.0  166530\n",
      " 1.0      0.654636  0.345364   13331.0   7033.0   20364\n",
      " 2.0      0.629471  0.370529   12512.0   7365.0   19877\n",
      " 3.0      0.630277  0.369723    8510.0   4992.0   13502\n",
      " 4.0      0.639628  0.360372    5914.0   3332.0    9246\n",
      " 5.0      0.650494  0.349506    3888.0   2089.0    5977\n",
      " 6.0      0.667477  0.332523    2746.0   1368.0    4114\n",
      " 7.0      0.705350  0.294650    1872.0    782.0    2654\n",
      " 8.0      0.714971  0.285029    1342.0    535.0    1877\n",
      " 9.0      0.740482  0.259518     953.0    334.0    1287\n",
      " 10.0     0.780849  0.219151     791.0    222.0    1013\n",
      " 11.0     0.828076  0.171924     525.0    109.0     634\n",
      " 12.0     0.841121  0.158879     450.0     85.0     535\n",
      " 13.0     0.911616  0.088384     361.0     35.0     396\n",
      " 14.0     0.936232  0.063768     323.0     22.0     345\n",
      " 15.0     0.929134  0.070866     236.0     18.0     254\n",
      " 16.0     0.928934  0.071066     183.0     14.0     197\n",
      " 17.0     0.977654  0.022346     175.0      4.0     179\n",
      " 18.0     0.982353  0.017647     167.0      3.0     170\n",
      " 19.0     0.980000  0.020000      98.0      2.0     100\n",
      " 20.0     0.981651  0.018349     107.0      2.0     109\n",
      " 21.0     0.986667  0.013333      74.0      1.0      75\n",
      " 22.0     1.000000  0.000000      67.0      0.0      67\n",
      " 23.0     0.955224  0.044776      64.0      3.0      67\n",
      " 24.0     0.973684  0.026316      37.0      1.0      38\n",
      " 25.0     1.000000  0.000000      32.0      0.0      32\n",
      " 26.0     1.000000  0.000000      16.0      0.0      16\n",
      " 27.0     1.000000  0.000000      12.0      0.0      12\n",
      " 28.0     1.000000  0.000000       8.0      0.0       8\n",
      " 29.0     1.000000  0.000000       7.0      0.0       7\n",
      " 30.0     1.000000  0.000000       9.0      0.0       9\n",
      " 31.0     1.000000  0.000000       2.0      0.0       2\n",
      " 32.0     1.000000  0.000000       4.0      0.0       4\n",
      " 33.0     1.000000  0.000000       1.0      0.0       1\n",
      " 34.0     1.000000  0.000000       3.0      0.0       3\n",
      " 36.0     1.000000  0.000000       2.0      0.0       2\n",
      " 37.0     1.000000  0.000000       2.0      0.0       2\n",
      " 38.0     1.000000  0.000000       1.0      0.0       1\n",
      " 41.0     1.000000  0.000000       2.0      0.0       2\n",
      " 42.0     1.000000  0.000000       1.0      0.0       1\n",
      " 44.0     1.000000  0.000000       1.0      0.0       1\n",
      " 51.0     1.000000  0.000000       2.0      0.0       2\n"
     ]
    }
   ],
   "source": [
    "value_counts_ratio(train, '저장된_배아_수')"
   ]
  },
  {
   "cell_type": "code",
   "execution_count": 1434,
   "metadata": {},
   "outputs": [
    {
     "name": "stdout",
     "output_type": "stream",
     "text": [
      "결측값 개수: 6289\n",
      "결측값 개수: 0\n"
     ]
    }
   ],
   "source": [
    "# 결측값 개수 확인\n",
    "print(\"결측값 개수:\", train['저장된_배아_수'].isnull().sum())\n",
    "\n",
    "# 결측값을 0으로 채우기\n",
    "train['저장된_배아_수'].fillna(0, inplace=True)\n",
    "test['저장된_배아_수'].fillna(0, inplace=True)\n",
    "\n",
    "# 결측값 개수 확인\n",
    "print(\"결측값 개수:\", train['저장된_배아_수'].isnull().sum())"
   ]
  },
  {
   "cell_type": "markdown",
   "metadata": {},
   "source": [
    "### 45. 미세주입_후_저장된_배아_수"
   ]
  },
  {
   "cell_type": "markdown",
   "metadata": {},
   "source": [
    "ICSI 처리된 배아 중 저장된 배아의 수"
   ]
  },
  {
   "cell_type": "code",
   "execution_count": 1435,
   "metadata": {},
   "outputs": [
    {
     "name": "stdout",
     "output_type": "stream",
     "text": [
      "\n",
      "미세주입_후_저장된_배아_수별 임신_성공_여부 비율 및 갯수\n",
      "\n",
      "                 0         1         0        1   Total\n",
      "variable                                               \n",
      "-10.0     0.994169  0.005831     341.0      2.0     343\n",
      " 0.0      0.755509  0.244491  154086.0  49864.0  203950\n",
      " 1.0      0.653485  0.346515    8064.0   4276.0   12340\n",
      " 2.0      0.624791  0.375209    7092.0   4259.0   11351\n",
      " 3.0      0.633598  0.366402    4707.0   2722.0    7429\n",
      " 4.0      0.645658  0.354342    3145.0   1726.0    4871\n",
      " 5.0      0.656074  0.343926    1982.0   1039.0    3021\n",
      " 6.0      0.673375  0.326625    1305.0    633.0    1938\n",
      " 7.0      0.741986  0.258014     949.0    330.0    1279\n",
      " 8.0      0.741419  0.258581     648.0    226.0     874\n",
      " 9.0      0.768233  0.231767     474.0    143.0     617\n",
      " 10.0     0.830835  0.169165     388.0     79.0     467\n",
      " 11.0     0.851724  0.148276     247.0     43.0     290\n",
      " 12.0     0.853282  0.146718     221.0     38.0     259\n",
      " 13.0     0.925000  0.075000     185.0     15.0     200\n",
      " 14.0     0.971429  0.028571     170.0      5.0     175\n",
      " 15.0     0.968750  0.031250     124.0      4.0     128\n",
      " 16.0     0.951923  0.048077      99.0      5.0     104\n",
      " 17.0     0.975000  0.025000      78.0      2.0      80\n",
      " 18.0     0.975309  0.024691      79.0      2.0      81\n",
      " 19.0     0.980769  0.019231      51.0      1.0      52\n",
      " 20.0     1.000000  0.000000      44.0      0.0      44\n",
      " 21.0     1.000000  0.000000      31.0      0.0      31\n",
      " 22.0     1.000000  0.000000      32.0      0.0      32\n",
      " 23.0     0.968750  0.031250      31.0      1.0      32\n",
      " 24.0     1.000000  0.000000      19.0      0.0      19\n",
      " 25.0     1.000000  0.000000      17.0      0.0      17\n",
      " 26.0     1.000000  0.000000       4.0      0.0       4\n",
      " 27.0     1.000000  0.000000       8.0      0.0       8\n",
      " 28.0     1.000000  0.000000       3.0      0.0       3\n",
      " 29.0     1.000000  0.000000       4.0      0.0       4\n",
      " 30.0     1.000000  0.000000       4.0      0.0       4\n",
      " 32.0     1.000000  0.000000       2.0      0.0       2\n",
      " 34.0     1.000000  0.000000       1.0      0.0       1\n",
      " 38.0     1.000000  0.000000       1.0      0.0       1\n",
      " 41.0     1.000000  0.000000       1.0      0.0       1\n",
      " 42.0     1.000000  0.000000       1.0      0.0       1\n",
      " 43.0     1.000000  0.000000       1.0      0.0       1\n",
      " 51.0     1.000000  0.000000       1.0      0.0       1\n"
     ]
    }
   ],
   "source": [
    "value_counts_ratio(train, '미세주입_후_저장된_배아_수')"
   ]
  },
  {
   "cell_type": "code",
   "execution_count": 1436,
   "metadata": {},
   "outputs": [
    {
     "name": "stdout",
     "output_type": "stream",
     "text": [
      "결측값 개수: 6289\n",
      "결측값 개수: 0\n"
     ]
    }
   ],
   "source": [
    "# 결측값 개수 확인\n",
    "print(\"결측값 개수:\", train['미세주입_후_저장된_배아_수'].isnull().sum())\n",
    "\n",
    "# 결측값을 0으로 채우기\n",
    "train['미세주입_후_저장된_배아_수'].fillna(0, inplace=True)\n",
    "test['미세주입_후_저장된_배아_수'].fillna(0, inplace=True)\n",
    "\n",
    "# 결측값 개수 확인\n",
    "print(\"결측값 개수:\", train['미세주입_후_저장된_배아_수'].isnull().sum())"
   ]
  },
  {
   "cell_type": "markdown",
   "metadata": {},
   "source": [
    "### 46. 해동된_배아_수"
   ]
  },
  {
   "cell_type": "markdown",
   "metadata": {},
   "source": [
    "동결 해동된 배아의 수"
   ]
  },
  {
   "cell_type": "code",
   "execution_count": 1437,
   "metadata": {},
   "outputs": [
    {
     "name": "stdout",
     "output_type": "stream",
     "text": [
      "\n",
      "해동된_배아_수별 임신_성공_여부 비율 및 갯수\n",
      "\n",
      "                 0         1         0        1   Total\n",
      "variable                                               \n",
      "-10.0     0.994169  0.005831     341.0      2.0     343\n",
      " 0.0      0.731589  0.268411  153148.0  56188.0  209336\n",
      " 1.0      0.784740  0.215260   10244.0   2810.0   13054\n",
      " 2.0      0.761203  0.238797    9190.0   2883.0   12073\n",
      " 3.0      0.794957  0.205043    4288.0   1106.0    5394\n",
      " 4.0      0.778615  0.221385    2687.0    764.0    3451\n",
      " 5.0      0.766529  0.233471    1484.0    452.0    1936\n",
      " 6.0      0.752502  0.247498    1128.0    371.0    1499\n",
      " 7.0      0.759463  0.240537     622.0    197.0     819\n",
      " 8.0      0.698667  0.301333     524.0    226.0     750\n",
      " 9.0      0.673966  0.326034     277.0    134.0     411\n",
      " 10.0     0.740525  0.259475     254.0     89.0     343\n",
      " 11.0     0.756410  0.243590     118.0     38.0     156\n",
      " 12.0     0.673611  0.326389      97.0     47.0     144\n",
      " 13.0     0.679012  0.320988      55.0     26.0      81\n",
      " 14.0     0.720000  0.280000      54.0     21.0      75\n",
      " 15.0     0.714286  0.285714      30.0     12.0      42\n",
      " 16.0     0.574468  0.425532      27.0     20.0      47\n",
      " 17.0     0.740741  0.259259      20.0      7.0      27\n",
      " 18.0     0.750000  0.250000      18.0      6.0      24\n",
      " 19.0     0.812500  0.187500      13.0      3.0      16\n",
      " 20.0     0.600000  0.400000       3.0      2.0       5\n",
      " 21.0     0.428571  0.571429       3.0      4.0       7\n",
      " 22.0     0.500000  0.500000       3.0      3.0       6\n",
      " 23.0     0.600000  0.400000       3.0      2.0       5\n",
      " 24.0     0.750000  0.250000       3.0      1.0       4\n",
      " 26.0     0.800000  0.200000       4.0      1.0       5\n",
      " 30.0     1.000000  0.000000       1.0      0.0       1\n",
      " 32.0     1.000000  0.000000       1.0      0.0       1\n"
     ]
    }
   ],
   "source": [
    "value_counts_ratio(train, '해동된_배아_수')"
   ]
  },
  {
   "cell_type": "code",
   "execution_count": 1438,
   "metadata": {},
   "outputs": [
    {
     "name": "stdout",
     "output_type": "stream",
     "text": [
      "결측값 개수: 6289\n",
      "결측값 개수: 0\n"
     ]
    }
   ],
   "source": [
    "# 결측값 개수 확인\n",
    "print(\"결측값 개수:\", train['해동된_배아_수'].isnull().sum())\n",
    "\n",
    "# 결측값을 0으로 채우기\n",
    "train['해동된_배아_수'].fillna(0, inplace=True)\n",
    "test['해동된_배아_수'].fillna(0, inplace=True)\n",
    "\n",
    "# 결측값 개수 확인\n",
    "print(\"결측값 개수:\", train['해동된_배아_수'].isnull().sum())"
   ]
  },
  {
   "cell_type": "markdown",
   "metadata": {},
   "source": [
    "### 47. 해동_난자_수"
   ]
  },
  {
   "cell_type": "markdown",
   "metadata": {},
   "source": [
    "동결 해동된 난자의 수"
   ]
  },
  {
   "cell_type": "code",
   "execution_count": 1439,
   "metadata": {},
   "outputs": [
    {
     "name": "stdout",
     "output_type": "stream",
     "text": [
      "\n",
      "해동_난자_수별 임신_성공_여부 비율 및 갯수\n",
      "\n",
      "                 0         1         0        1   Total\n",
      "variable                                               \n",
      "-10.0     0.994169  0.005831     341.0      2.0     343\n",
      " 0.0      0.737816  0.262184  183176.0  65092.0  248268\n",
      " 1.0      0.923077  0.076923      24.0      2.0      26\n",
      " 2.0      0.907692  0.092308      59.0      6.0      65\n",
      " 3.0      0.907692  0.092308      59.0      6.0      65\n",
      " 4.0      0.892308  0.107692     116.0     14.0     130\n",
      " 5.0      0.859813  0.140187      92.0     15.0     107\n",
      " 6.0      0.801170  0.198830     137.0     34.0     171\n",
      " 7.0      0.711268  0.288732     101.0     41.0     142\n",
      " 8.0      0.703196  0.296804     154.0     65.0     219\n",
      " 9.0      0.780952  0.219048      82.0     23.0     105\n",
      " 10.0     0.769231  0.230769      70.0     21.0      91\n",
      " 11.0     0.761194  0.238806      51.0     16.0      67\n",
      " 12.0     0.657143  0.342857      46.0     24.0      70\n",
      " 13.0     0.812500  0.187500      26.0      6.0      32\n",
      " 14.0     0.613636  0.386364      27.0     17.0      44\n",
      " 15.0     0.594595  0.405405      22.0     15.0      37\n",
      " 16.0     0.550000  0.450000      11.0      9.0      20\n",
      " 17.0     0.785714  0.214286      11.0      3.0      14\n",
      " 18.0     0.857143  0.142857       6.0      1.0       7\n",
      " 19.0     0.916667  0.083333      11.0      1.0      12\n",
      " 20.0     1.000000  0.000000       5.0      0.0       5\n",
      " 21.0     1.000000  0.000000       2.0      0.0       2\n",
      " 22.0     0.000000  1.000000       0.0      1.0       1\n",
      " 23.0     0.500000  0.500000       1.0      1.0       2\n",
      " 24.0     1.000000  0.000000       3.0      0.0       3\n",
      " 25.0     1.000000  0.000000       1.0      0.0       1\n",
      " 26.0     1.000000  0.000000       2.0      0.0       2\n",
      " 27.0     1.000000  0.000000       1.0      0.0       1\n",
      " 32.0     1.000000  0.000000       1.0      0.0       1\n",
      " 33.0     1.000000  0.000000       1.0      0.0       1\n",
      " 36.0     1.000000  0.000000       1.0      0.0       1\n"
     ]
    }
   ],
   "source": [
    "value_counts_ratio(train, '해동_난자_수')"
   ]
  },
  {
   "cell_type": "code",
   "execution_count": 1440,
   "metadata": {},
   "outputs": [
    {
     "name": "stdout",
     "output_type": "stream",
     "text": [
      "결측값 개수: 6289\n",
      "결측값 개수: 0\n"
     ]
    }
   ],
   "source": [
    "# 결측값 개수 확인\n",
    "print(\"결측값 개수:\", train['해동_난자_수'].isnull().sum())\n",
    "\n",
    "# 결측값을 0으로 채우기\n",
    "train['해동_난자_수'].fillna(0, inplace=True)\n",
    "test['해동_난자_수'].fillna(0, inplace=True)\n",
    "\n",
    "# 결측값 개수 확인\n",
    "print(\"결측값 개수:\", train['해동_난자_수'].isnull().sum())"
   ]
  },
  {
   "cell_type": "markdown",
   "metadata": {},
   "source": [
    "### 48. 수집된_신선_난자_수"
   ]
  },
  {
   "cell_type": "markdown",
   "metadata": {},
   "source": [
    "신선 난자가 수집된 수"
   ]
  },
  {
   "cell_type": "code",
   "execution_count": 1441,
   "metadata": {},
   "outputs": [
    {
     "name": "stdout",
     "output_type": "stream",
     "text": [
      "\n",
      "수집된_신선_난자_수별 임신_성공_여부 비율 및 갯수\n",
      "\n",
      "                 0         1        0        1  Total\n",
      "variable                                             \n",
      "-10.0     0.994169  0.005831    341.0      2.0    343\n",
      " 0.0      0.759502  0.240498  40884.0  12946.0  53830\n",
      " 1.0      0.948237  0.051763   4598.0    251.0   4849\n",
      " 2.0      0.908907  0.091093   5847.0    586.0   6433\n",
      " 3.0      0.867183  0.132817   7058.0   1081.0   8139\n",
      " 4.0      0.823824  0.176176   8230.0   1760.0   9990\n",
      " 5.0      0.790251  0.209749   9095.0   2414.0  11509\n",
      " 6.0      0.773582  0.226418   9751.0   2854.0  12605\n",
      " 7.0      0.746713  0.253287   9767.0   3313.0  13080\n",
      " 8.0      0.724946  0.275054   9657.0   3664.0  13321\n",
      " 9.0      0.717746  0.282254   9274.0   3647.0  12921\n",
      " 10.0     0.697433  0.302567   8886.0   3855.0  12741\n",
      " 11.0     0.682434  0.317566   8166.0   3800.0  11966\n",
      " 12.0     0.671638  0.328362   7341.0   3589.0  10930\n",
      " 13.0     0.664201  0.335799   6555.0   3314.0   9869\n",
      " 14.0     0.667850  0.332150   6020.0   2994.0   9014\n",
      " 15.0     0.662169  0.337831   5153.0   2629.0   7782\n",
      " 16.0     0.662378  0.337622   4479.0   2283.0   6762\n",
      " 17.0     0.656348  0.343652   3774.0   1976.0   5750\n",
      " 18.0     0.651567  0.348433   3222.0   1723.0   4945\n",
      " 19.0     0.654217  0.345783   2645.0   1398.0   4043\n",
      " 20.0     0.671668  0.328332   2328.0   1138.0   3466\n",
      " 21.0     0.669669  0.330331   1859.0    917.0   2776\n",
      " 22.0     0.692779  0.307221   1583.0    702.0   2285\n",
      " 23.0     0.690540  0.309460   1292.0    579.0   1871\n",
      " 24.0     0.691042  0.308958   1134.0    507.0   1641\n",
      " 25.0     0.716167  0.283833    979.0    388.0   1367\n",
      " 26.0     0.762367  0.237633    786.0    245.0   1031\n",
      " 27.0     0.774078  0.225922    651.0    190.0    841\n",
      " 28.0     0.779006  0.220994    564.0    160.0    724\n",
      " 29.0     0.810565  0.189435    445.0    104.0    549\n",
      " 30.0     0.803644  0.196356    397.0     97.0    494\n",
      " 31.0     0.814208  0.185792    298.0     68.0    366\n",
      " 32.0     0.822485  0.177515    278.0     60.0    338\n",
      " 33.0     0.857143  0.142857    228.0     38.0    266\n",
      " 34.0     0.870370  0.129630    188.0     28.0    216\n",
      " 35.0     0.835165  0.164835    152.0     30.0    182\n",
      " 36.0     0.903846  0.096154    141.0     15.0    156\n",
      " 37.0     0.847328  0.152672    111.0     20.0    131\n",
      " 38.0     0.881188  0.118812     89.0     12.0    101\n",
      " 39.0     0.936508  0.063492     59.0      4.0     63\n",
      " 40.0     0.880000  0.120000     66.0      9.0     75\n",
      " 41.0     0.930233  0.069767     40.0      3.0     43\n",
      " 42.0     0.893617  0.106383     42.0      5.0     47\n",
      " 43.0     0.900000  0.100000     27.0      3.0     30\n",
      " 44.0     0.909091  0.090909     20.0      2.0     22\n",
      " 45.0     0.772727  0.227273     17.0      5.0     22\n",
      " 46.0     1.000000  0.000000     24.0      0.0     24\n",
      " 47.0     0.812500  0.187500     13.0      3.0     16\n",
      " 48.0     0.800000  0.200000      4.0      1.0      5\n",
      " 49.0     0.818182  0.181818      9.0      2.0     11\n",
      " 50.0     0.916667  0.083333     11.0      1.0     12\n",
      " 51.0     1.000000  0.000000     62.0      0.0     62\n"
     ]
    }
   ],
   "source": [
    "value_counts_ratio(train, '수집된_신선_난자_수')"
   ]
  },
  {
   "cell_type": "code",
   "execution_count": 1442,
   "metadata": {},
   "outputs": [
    {
     "name": "stdout",
     "output_type": "stream",
     "text": [
      "결측값 개수: 6289\n",
      "결측값 개수: 0\n"
     ]
    }
   ],
   "source": [
    "# 결측값 개수 확인\n",
    "print(\"결측값 개수:\", train['수집된_신선_난자_수'].isnull().sum())\n",
    "\n",
    "# 결측값을 0으로 채우기\n",
    "train['수집된_신선_난자_수'].fillna(0, inplace=True)\n",
    "test['수집된_신선_난자_수'].fillna(0, inplace=True)\n",
    "\n",
    "# 결측값 개수 확인\n",
    "print(\"결측값 개수:\", train['수집된_신선_난자_수'].isnull().sum())"
   ]
  },
  {
   "cell_type": "markdown",
   "metadata": {},
   "source": [
    "### 49. 저장된_신선_난자_수"
   ]
  },
  {
   "cell_type": "markdown",
   "metadata": {},
   "source": [
    "저장된 신선 난자의 수"
   ]
  },
  {
   "cell_type": "code",
   "execution_count": 1443,
   "metadata": {},
   "outputs": [
    {
     "name": "stdout",
     "output_type": "stream",
     "text": [
      "\n",
      "저장된_신선_난자_수별 임신_성공_여부 비율 및 갯수\n",
      "\n",
      "                 0         1         0        1   Total\n",
      "variable                                               \n",
      "-10.0     0.994169  0.005831     341.0      2.0     343\n",
      " 0.0      0.735478  0.264522  181755.0  65370.0  247125\n",
      " 1.0      0.972028  0.027972     139.0      4.0     143\n",
      " 2.0      0.989418  0.010582     187.0      2.0     189\n",
      " 3.0      0.984772  0.015228     194.0      3.0     197\n",
      " 4.0      0.980000  0.020000     196.0      4.0     200\n",
      " 5.0      0.971292  0.028708     203.0      6.0     209\n",
      " 6.0      0.980000  0.020000     196.0      4.0     200\n",
      " 7.0      0.976048  0.023952     163.0      4.0     167\n",
      " 8.0      0.994286  0.005714     174.0      1.0     175\n",
      " 9.0      0.978571  0.021429     137.0      3.0     140\n",
      " 10.0     0.993056  0.006944     143.0      1.0     144\n",
      " 11.0     0.966102  0.033898     114.0      4.0     118\n",
      " 12.0     0.981651  0.018349     107.0      2.0     109\n",
      " 13.0     1.000000  0.000000      85.0      0.0      85\n",
      " 14.0     0.977011  0.022989      85.0      2.0      87\n",
      " 15.0     0.987179  0.012821      77.0      1.0      78\n",
      " 16.0     0.981818  0.018182      54.0      1.0      55\n",
      " 17.0     1.000000  0.000000      50.0      0.0      50\n",
      " 18.0     1.000000  0.000000      49.0      0.0      49\n",
      " 19.0     0.966667  0.033333      29.0      1.0      30\n",
      " 20.0     1.000000  0.000000      22.0      0.0      22\n",
      " 21.0     1.000000  0.000000      17.0      0.0      17\n",
      " 22.0     1.000000  0.000000      21.0      0.0      21\n",
      " 23.0     1.000000  0.000000      18.0      0.0      18\n",
      " 24.0     1.000000  0.000000      15.0      0.0      15\n",
      " 25.0     1.000000  0.000000      14.0      0.0      14\n",
      " 26.0     1.000000  0.000000      10.0      0.0      10\n",
      " 27.0     1.000000  0.000000      12.0      0.0      12\n",
      " 28.0     1.000000  0.000000       6.0      0.0       6\n",
      " 29.0     1.000000  0.000000       4.0      0.0       4\n",
      " 30.0     1.000000  0.000000       4.0      0.0       4\n",
      " 31.0     1.000000  0.000000       2.0      0.0       2\n",
      " 32.0     1.000000  0.000000       5.0      0.0       5\n",
      " 33.0     1.000000  0.000000       1.0      0.0       1\n",
      " 34.0     1.000000  0.000000       3.0      0.0       3\n",
      " 35.0     1.000000  0.000000       3.0      0.0       3\n",
      " 36.0     1.000000  0.000000       1.0      0.0       1\n",
      " 37.0     1.000000  0.000000       1.0      0.0       1\n",
      " 40.0     1.000000  0.000000       1.0      0.0       1\n",
      " 46.0     1.000000  0.000000       1.0      0.0       1\n",
      " 51.0     1.000000  0.000000       1.0      0.0       1\n"
     ]
    }
   ],
   "source": [
    "value_counts_ratio(train, '저장된_신선_난자_수')"
   ]
  },
  {
   "cell_type": "code",
   "execution_count": 1444,
   "metadata": {},
   "outputs": [],
   "source": [
    "# '저장된_신선_난자_수'와 '수집된_신선_난자_수'의 비율을 계산하여 새로운 파생 변수 생성\n",
    "def calculate_ratio(row):\n",
    "    if row['수집된_신선_난자_수'] == 0:\n",
    "        return -1\n",
    "    else:\n",
    "        return round(row['저장된_신선_난자_수'] / row['수집된_신선_난자_수'], 1)\n",
    "\n",
    "train['저장된_신선_난자_비율'] = train.apply(calculate_ratio, axis=1)\n",
    "test['저장된_신선_난자_비율'] = test.apply(calculate_ratio, axis=1)"
   ]
  },
  {
   "cell_type": "code",
   "execution_count": 1445,
   "metadata": {},
   "outputs": [],
   "source": [
    "pd.set_option('display.max_rows', 300)"
   ]
  },
  {
   "cell_type": "code",
   "execution_count": 1446,
   "metadata": {},
   "outputs": [
    {
     "name": "stdout",
     "output_type": "stream",
     "text": [
      "\n",
      "저장된_신선_난자_비율별 임신_성공_여부 비율 및 갯수\n",
      "\n",
      "                 0         1       0      1   Total\n",
      "variable                                           \n",
      "-1.0      0.771171  0.228829   46362  13757   60119\n",
      " 0.0      0.728789  0.271211  140872  52424  193296\n",
      " 0.1      0.692308  0.307692       9      4      13\n",
      " 0.2      0.943396  0.056604      50      3      53\n",
      " 0.3      0.953704  0.046296     103      5     108\n",
      " 0.4      0.956897  0.043103     111      5     116\n",
      " 0.5      0.963265  0.036735     236      9     245\n",
      " 0.6      0.962567  0.037433     180      7     187\n",
      " 0.7      0.989865  0.010135     293      3     296\n",
      " 0.8      0.988914  0.011086     446      5     451\n",
      " 0.9      0.997590  0.002410     414      1     415\n",
      " 1.0      0.997129  0.002871    1042      3    1045\n"
     ]
    }
   ],
   "source": [
    "value_counts_ratio(train, '저장된_신선_난자_비율')"
   ]
  },
  {
   "cell_type": "code",
   "execution_count": 1447,
   "metadata": {},
   "outputs": [
    {
     "name": "stdout",
     "output_type": "stream",
     "text": [
      "결측값 개수: 6289\n",
      "결측값 개수: 0\n"
     ]
    }
   ],
   "source": [
    "# 결측값 개수 확인\n",
    "print(\"결측값 개수:\", train['저장된_신선_난자_수'].isnull().sum())\n",
    "\n",
    "# 결측값을 0으로 채우기\n",
    "train['저장된_신선_난자_수'].fillna(0, inplace=True)\n",
    "test['저장된_신선_난자_수'].fillna(0, inplace=True)\n",
    "\n",
    "# 결측값 개수 확인\n",
    "print(\"결측값 개수:\", train['저장된_신선_난자_수'].isnull().sum())"
   ]
  },
  {
   "cell_type": "markdown",
   "metadata": {},
   "source": [
    "### 50. 혼합된_난자_수"
   ]
  },
  {
   "cell_type": "markdown",
   "metadata": {},
   "source": [
    "정자와 혼합된 총 난자 수"
   ]
  },
  {
   "cell_type": "code",
   "execution_count": 1448,
   "metadata": {},
   "outputs": [
    {
     "name": "stdout",
     "output_type": "stream",
     "text": [
      "\n",
      "혼합된_난자_수별 임신_성공_여부 비율 및 갯수\n",
      "\n",
      "                 0         1        0       1  Total\n",
      "variable                                            \n",
      "-10.0     0.994169  0.005831    341.0     2.0    343\n",
      " 0.0      0.802525  0.197475  37189.0  9151.0  46340\n",
      " 1.0      0.939333  0.060667   6054.0   391.0   6445\n",
      " 2.0      0.892185  0.107815   7969.0   963.0   8932\n",
      " 3.0      0.837596  0.162404   9268.0  1797.0  11065\n",
      " 4.0      0.794485  0.205515  10805.0  2795.0  13600\n",
      " 5.0      0.750387  0.249613  11637.0  3871.0  15508\n",
      " 6.0      0.735944  0.264056  12029.0  4316.0  16345\n",
      " 7.0      0.714617  0.285383  11411.0  4557.0  15968\n",
      " 8.0      0.697967  0.302033  10644.0  4606.0  15250\n",
      " 9.0      0.689570  0.310430   9725.0  4378.0  14103\n",
      " 10.0     0.672589  0.327411   8745.0  4257.0  13002\n",
      " 11.0     0.661372  0.338628   7662.0  3923.0  11585\n",
      " 12.0     0.661103  0.338897   6734.0  3452.0  10186\n",
      " 13.0     0.646627  0.353373   5636.0  3080.0   8716\n",
      " 14.0     0.659124  0.340876   4981.0  2576.0   7557\n",
      " 15.0     0.656937  0.343063   4276.0  2233.0   6509\n",
      " 16.0     0.647800  0.352200   3445.0  1873.0   5318\n",
      " 17.0     0.648966  0.351034   2823.0  1527.0   4350\n",
      " 18.0     0.653510  0.346490   2318.0  1229.0   3547\n",
      " 19.0     0.663165  0.336835   1894.0   962.0   2856\n",
      " 20.0     0.662791  0.337209   1596.0   812.0   2408\n",
      " 21.0     0.683498  0.316502   1313.0   608.0   1921\n",
      " 22.0     0.694427  0.305573   1109.0   488.0   1597\n",
      " 23.0     0.691712  0.308288    893.0   398.0   1291\n",
      " 24.0     0.691794  0.308206    725.0   323.0   1048\n",
      " 25.0     0.761962  0.238038    637.0   199.0    836\n",
      " 26.0     0.760736  0.239264    496.0   156.0    652\n",
      " 27.0     0.798883  0.201117    429.0   108.0    537\n",
      " 28.0     0.799555  0.200445    359.0    90.0    449\n",
      " 29.0     0.780864  0.219136    253.0    71.0    324\n",
      " 30.0     0.810036  0.189964    226.0    53.0    279\n",
      " 31.0     0.849246  0.150754    169.0    30.0    199\n",
      " 32.0     0.830688  0.169312    157.0    32.0    189\n",
      " 33.0     0.847682  0.152318    128.0    23.0    151\n",
      " 34.0     0.852459  0.147541    104.0    18.0    122\n",
      " 35.0     0.827273  0.172727     91.0    19.0    110\n",
      " 36.0     0.878049  0.121951     72.0    10.0     82\n",
      " 37.0     0.802817  0.197183     57.0    14.0     71\n",
      " 38.0     0.868852  0.131148     53.0     8.0     61\n",
      " 39.0     0.916667  0.083333     33.0     3.0     36\n",
      " 40.0     0.939394  0.060606     31.0     2.0     33\n",
      " 41.0     1.000000  0.000000     17.0     0.0     17\n",
      " 42.0     0.772727  0.227273     17.0     5.0     22\n",
      " 43.0     0.882353  0.117647     15.0     2.0     17\n",
      " 44.0     1.000000  0.000000      9.0     0.0      9\n",
      " 45.0     0.857143  0.142857      6.0     1.0      7\n",
      " 46.0     1.000000  0.000000     12.0     0.0     12\n",
      " 47.0     0.875000  0.125000      7.0     1.0      8\n",
      " 48.0     1.000000  0.000000      3.0     0.0      3\n",
      " 49.0     1.000000  0.000000      5.0     0.0      5\n",
      " 50.0     0.800000  0.200000      4.0     1.0      5\n",
      " 51.0     0.965517  0.034483     28.0     1.0     29\n"
     ]
    }
   ],
   "source": [
    "value_counts_ratio(train, '혼합된_난자_수')"
   ]
  },
  {
   "cell_type": "code",
   "execution_count": 1449,
   "metadata": {},
   "outputs": [
    {
     "name": "stdout",
     "output_type": "stream",
     "text": [
      "결측값 개수: 6289\n",
      "결측값 개수: 0\n"
     ]
    }
   ],
   "source": [
    "# 결측값 개수 확인\n",
    "print(\"결측값 개수:\", train['혼합된_난자_수'].isnull().sum())\n",
    "\n",
    "# 결측값을 0으로 채우기\n",
    "train['혼합된_난자_수'].fillna(0, inplace=True)\n",
    "test['혼합된_난자_수'].fillna(0, inplace=True)\n",
    "\n",
    "# 결측값 개수 확인\n",
    "print(\"결측값 개수:\", train['혼합된_난자_수'].isnull().sum())"
   ]
  },
  {
   "cell_type": "markdown",
   "metadata": {},
   "source": [
    "### 51. 파트너_정자와_혼합된_난자_수"
   ]
  },
  {
   "cell_type": "markdown",
   "metadata": {},
   "source": [
    "파트너 정자와 혼합된 난자의 수"
   ]
  },
  {
   "cell_type": "code",
   "execution_count": 1450,
   "metadata": {},
   "outputs": [
    {
     "name": "stdout",
     "output_type": "stream",
     "text": [
      "\n",
      "파트너_정자와_혼합된_난자_수별 임신_성공_여부 비율 및 갯수\n",
      "\n",
      "                 0         1        0        1  Total\n",
      "variable                                             \n",
      "-10.0     0.994169  0.005831    341.0      2.0    343\n",
      " 0.0      0.781424  0.218576  48907.0  13680.0  62587\n",
      " 1.0      0.939336  0.060664   5373.0    347.0   5720\n",
      " 2.0      0.892287  0.107713   7207.0    870.0   8077\n",
      " 3.0      0.837739  0.162261   8462.0   1639.0  10101\n",
      " 4.0      0.796601  0.203399   9889.0   2525.0  12414\n",
      " 5.0      0.751054  0.248946  10686.0   3542.0  14228\n",
      " 6.0      0.737459  0.262541  11070.0   3941.0  15011\n",
      " 7.0      0.717035  0.282965  10544.0   4161.0  14705\n",
      " 8.0      0.698579  0.301421   9829.0   4241.0  14070\n",
      " 9.0      0.690976  0.309024   9020.0   4034.0  13054\n",
      " 10.0     0.674378  0.325622   8104.0   3913.0  12017\n",
      " 11.0     0.660443  0.339557   7074.0   3637.0  10711\n",
      " 12.0     0.661382  0.338618   6258.0   3204.0   9462\n",
      " 13.0     0.646854  0.353146   5202.0   2840.0   8042\n",
      " 14.0     0.659744  0.340256   4638.0   2392.0   7030\n",
      " 15.0     0.656934  0.343066   3960.0   2068.0   6028\n",
      " 16.0     0.649857  0.350143   3183.0   1715.0   4898\n",
      " 17.0     0.649341  0.350659   2611.0   1410.0   4021\n",
      " 18.0     0.652293  0.347707   2148.0   1145.0   3293\n",
      " 19.0     0.661940  0.338060   1774.0    906.0   2680\n",
      " 20.0     0.666067  0.333933   1480.0    742.0   2222\n",
      " 21.0     0.682478  0.317522   1223.0    569.0   1792\n",
      " 22.0     0.700068  0.299932   1034.0    443.0   1477\n",
      " 23.0     0.690025  0.309975    837.0    376.0   1213\n",
      " 24.0     0.687694  0.312306    665.0    302.0    967\n",
      " 25.0     0.762219  0.237781    577.0    180.0    757\n",
      " 26.0     0.757525  0.242475    453.0    145.0    598\n",
      " 27.0     0.798805  0.201195    401.0    101.0    502\n",
      " 28.0     0.792683  0.207317    325.0     85.0    410\n",
      " 29.0     0.793220  0.206780    234.0     61.0    295\n",
      " 30.0     0.807692  0.192308    210.0     50.0    260\n",
      " 31.0     0.846995  0.153005    155.0     28.0    183\n",
      " 32.0     0.818713  0.181287    140.0     31.0    171\n",
      " 33.0     0.862595  0.137405    113.0     18.0    131\n",
      " 34.0     0.849558  0.150442     96.0     17.0    113\n",
      " 35.0     0.840000  0.160000     84.0     16.0    100\n",
      " 36.0     0.902778  0.097222     65.0      7.0     72\n",
      " 37.0     0.796875  0.203125     51.0     13.0     64\n",
      " 38.0     0.872340  0.127660     41.0      6.0     47\n",
      " 39.0     0.911765  0.088235     31.0      3.0     34\n",
      " 40.0     0.935484  0.064516     29.0      2.0     31\n",
      " 41.0     1.000000  0.000000     16.0      0.0     16\n",
      " 42.0     0.809524  0.190476     17.0      4.0     21\n",
      " 43.0     0.882353  0.117647     15.0      2.0     17\n",
      " 44.0     1.000000  0.000000      7.0      0.0      7\n",
      " 45.0     1.000000  0.000000      5.0      0.0      5\n",
      " 46.0     1.000000  0.000000     12.0      0.0     12\n",
      " 47.0     0.857143  0.142857      6.0      1.0      7\n",
      " 48.0     1.000000  0.000000      3.0      0.0      3\n",
      " 49.0     1.000000  0.000000      4.0      0.0      4\n",
      " 50.0     1.000000  0.000000      4.0      0.0      4\n",
      " 51.0     0.964286  0.035714     27.0      1.0     28\n"
     ]
    }
   ],
   "source": [
    "value_counts_ratio(train, '파트너_정자와_혼합된_난자_수')"
   ]
  },
  {
   "cell_type": "code",
   "execution_count": 1451,
   "metadata": {},
   "outputs": [
    {
     "name": "stdout",
     "output_type": "stream",
     "text": [
      "결측값 개수: 6289\n",
      "결측값 개수: 0\n"
     ]
    }
   ],
   "source": [
    "# 결측값 개수 확인\n",
    "print(\"결측값 개수:\", train['파트너_정자와_혼합된_난자_수'].isnull().sum())\n",
    "\n",
    "# 결측값을 0으로 채우기\n",
    "train['파트너_정자와_혼합된_난자_수'].fillna(0, inplace=True)\n",
    "test['파트너_정자와_혼합된_난자_수'].fillna(0, inplace=True)\n",
    "\n",
    "# 결측값 개수 확인\n",
    "print(\"결측값 개수:\", train['파트너_정자와_혼합된_난자_수'].isnull().sum())"
   ]
  },
  {
   "cell_type": "markdown",
   "metadata": {},
   "source": [
    "### 52. 기증자_정자와_혼합된_난자_수"
   ]
  },
  {
   "cell_type": "markdown",
   "metadata": {},
   "source": [
    "기증자 정자와 혼합된 난자의 수"
   ]
  },
  {
   "cell_type": "code",
   "execution_count": 1452,
   "metadata": {},
   "outputs": [
    {
     "name": "stdout",
     "output_type": "stream",
     "text": [
      "\n",
      "기증자_정자와_혼합된_난자_수별 임신_성공_여부 비율 및 갯수\n",
      "\n",
      "                 0         1         0        1   Total\n",
      "variable                                               \n",
      "-10.0     0.994169  0.005831     341.0      2.0     343\n",
      " 0.0      0.739207  0.260793  173137.0  61083.0  234220\n",
      " 1.0      0.937415  0.062585     689.0     46.0     735\n",
      " 2.0      0.887356  0.112644     772.0     98.0     870\n",
      " 3.0      0.835700  0.164300     824.0    162.0     986\n",
      " 4.0      0.770383  0.229617     926.0    276.0    1202\n",
      " 5.0      0.738296  0.261704     962.0    341.0    1303\n",
      " 6.0      0.715751  0.284249     977.0    388.0    1365\n",
      " 7.0      0.690096  0.309904     864.0    388.0    1252\n",
      " 8.0      0.691316  0.308684     804.0    359.0    1163\n",
      " 9.0      0.671627  0.328373     677.0    331.0    1008\n",
      " 10.0     0.647374  0.352626     604.0    329.0     933\n",
      " 11.0     0.667485  0.332515     544.0    271.0     815\n",
      " 12.0     0.652632  0.347368     434.0    231.0     665\n",
      " 13.0     0.636060  0.363940     381.0    218.0     599\n",
      " 14.0     0.645702  0.354298     308.0    169.0     477\n",
      " 15.0     0.640587  0.359413     262.0    147.0     409\n",
      " 16.0     0.620787  0.379213     221.0    135.0     356\n",
      " 17.0     0.644689  0.355311     176.0     97.0     273\n",
      " 18.0     0.653465  0.346535     132.0     70.0     202\n",
      " 19.0     0.675676  0.324324     100.0     48.0     148\n",
      " 20.0     0.621622  0.378378      92.0     56.0     148\n",
      " 21.0     0.672566  0.327434      76.0     37.0     113\n",
      " 22.0     0.625000  0.375000      55.0     33.0      88\n",
      " 23.0     0.614035  0.385965      35.0     22.0      57\n",
      " 24.0     0.698413  0.301587      44.0     19.0      63\n",
      " 25.0     0.741379  0.258621      43.0     15.0      58\n",
      " 26.0     0.837838  0.162162      31.0      6.0      37\n",
      " 27.0     0.800000  0.200000      20.0      5.0      25\n",
      " 28.0     0.846154  0.153846      22.0      4.0      26\n",
      " 29.0     0.619048  0.380952      13.0      8.0      21\n",
      " 30.0     0.833333  0.166667      10.0      2.0      12\n",
      " 31.0     0.833333  0.166667      10.0      2.0      12\n",
      " 32.0     0.937500  0.062500      15.0      1.0      16\n",
      " 33.0     0.666667  0.333333      10.0      5.0      15\n",
      " 34.0     0.800000  0.200000       4.0      1.0       5\n",
      " 35.0     0.666667  0.333333       4.0      2.0       6\n",
      " 36.0     0.750000  0.250000       6.0      2.0       8\n",
      " 37.0     0.800000  0.200000       4.0      1.0       5\n",
      " 38.0     0.714286  0.285714       5.0      2.0       7\n",
      " 39.0     1.000000  0.000000       2.0      0.0       2\n",
      " 40.0     1.000000  0.000000       1.0      0.0       1\n",
      " 41.0     1.000000  0.000000       1.0      0.0       1\n",
      " 42.0     0.000000  1.000000       0.0      1.0       1\n",
      " 45.0     0.000000  1.000000       0.0      1.0       1\n",
      " 47.0     1.000000  0.000000       1.0      0.0       1\n",
      " 49.0     1.000000  0.000000       1.0      0.0       1\n",
      " 50.0     0.000000  1.000000       0.0      1.0       1\n"
     ]
    }
   ],
   "source": [
    "value_counts_ratio(train, '기증자_정자와_혼합된_난자_수')"
   ]
  },
  {
   "cell_type": "code",
   "execution_count": 1453,
   "metadata": {},
   "outputs": [
    {
     "name": "stdout",
     "output_type": "stream",
     "text": [
      "Grouped by: 혼합된_난자_수, 기증자_정자와_혼합된_난자_수, 파트너_정자와_혼합된_난자_수\n",
      "\n",
      "                     group  '임신_성공_여부' count     ratio  Total\n",
      "0    (-10.0, -10.0, -10.0)                 2  0.005831    343\n",
      "1          (0.0, 0.0, 0.0)              9151  0.197475  46340\n",
      "2          (1.0, 0.0, 1.0)               346  0.060564   5713\n",
      "3          (1.0, 1.0, 0.0)                45  0.061475    732\n",
      "4          (2.0, 0.0, 2.0)               866  0.107364   8066\n",
      "5          (2.0, 1.0, 1.0)                 0  0.000000      1\n",
      "6          (2.0, 2.0, 0.0)                97  0.112139    865\n",
      "7          (3.0, 0.0, 3.0)              1636  0.162157  10089\n",
      "8          (3.0, 2.0, 1.0)                 0  0.000000      1\n",
      "9          (3.0, 3.0, 0.0)               161  0.165128    975\n",
      "10         (4.0, 0.0, 0.0)                 0  0.000000      5\n",
      "11         (4.0, 0.0, 4.0)              2522  0.203387  12400\n",
      "12         (4.0, 1.0, 3.0)                 1  0.500000      2\n",
      "13         (4.0, 3.0, 1.0)                 0  0.000000      1\n",
      "14         (4.0, 4.0, 0.0)               272  0.228188   1192\n",
      "15         (5.0, 0.0, 0.0)                 0  0.000000      5\n",
      "16         (5.0, 0.0, 5.0)              3535  0.248733  14212\n",
      "17         (5.0, 2.0, 3.0)                 0  0.000000      1\n",
      "18         (5.0, 3.0, 2.0)                 1  0.333333      3\n",
      "19         (5.0, 4.0, 1.0)                 1  1.000000      1\n",
      "20         (5.0, 5.0, 0.0)               334  0.259720   1286\n",
      "21         (6.0, 0.0, 0.0)                 1  0.166667      6\n",
      "22         (6.0, 0.0, 6.0)              3934  0.262389  14993\n",
      "23         (6.0, 2.0, 4.0)                 0  0.000000      1\n",
      "24         (6.0, 3.0, 3.0)                 0  0.000000      1\n",
      "25         (6.0, 6.0, 0.0)               381  0.283482   1344\n",
      "26         (7.0, 0.0, 0.0)                 9  0.391304     23\n",
      "27         (7.0, 0.0, 7.0)              4161  0.283119  14697\n",
      "28         (7.0, 3.0, 4.0)                 0  0.000000      3\n",
      "29         (7.0, 4.0, 3.0)                 0  0.000000      2\n",
      "30         (7.0, 5.0, 2.0)                 1  1.000000      1\n",
      "31         (7.0, 6.0, 1.0)                 0  0.000000      1\n",
      "32         (7.0, 7.0, 0.0)               386  0.311039   1241\n",
      "33         (8.0, 0.0, 0.0)                10  0.333333     30\n",
      "34         (8.0, 0.0, 8.0)              4238  0.301422  14060\n",
      "35         (8.0, 3.0, 5.0)                 0  0.000000      1\n",
      "36         (8.0, 4.0, 4.0)                 1  0.500000      2\n",
      "37         (8.0, 6.0, 2.0)                 0  0.000000      3\n",
      "38         (8.0, 8.0, 0.0)               357  0.309359   1154\n",
      "39         (9.0, 0.0, 0.0)                12  0.300000     40\n",
      "40         (9.0, 0.0, 9.0)              4033  0.309018  13051\n",
      "41         (9.0, 3.0, 6.0)                 0  0.000000      1\n",
      "42         (9.0, 4.0, 5.0)                 1  0.333333      3\n",
      "43         (9.0, 5.0, 4.0)                 1  0.500000      2\n",
      "44         (9.0, 6.0, 3.0)                 1  1.000000      1\n",
      "45         (9.0, 8.0, 1.0)                 0  0.000000      1\n",
      "46         (9.0, 9.0, 0.0)               330  0.328685   1004\n",
      "47        (10.0, 0.0, 0.0)                20  0.363636     55\n",
      "48       (10.0, 0.0, 10.0)              3911  0.325591  12012\n",
      "49        (10.0, 5.0, 5.0)                 1  0.200000      5\n",
      "50        (10.0, 6.0, 4.0)                 0  0.000000      2\n",
      "51        (10.0, 7.0, 3.0)                 0  0.000000      2\n",
      "52        (10.0, 8.0, 2.0)                 1  1.000000      1\n",
      "53       (10.0, 10.0, 0.0)               324  0.350270    925\n",
      "54        (11.0, 0.0, 0.0)                12  0.203390     59\n",
      "55       (11.0, 0.0, 11.0)              3637  0.339684  10707\n",
      "56        (11.0, 4.0, 7.0)                 0  0.000000      1\n",
      "57        (11.0, 5.0, 6.0)                 2  0.666667      3\n",
      "58        (11.0, 6.0, 5.0)                 3  0.600000      5\n",
      "59        (11.0, 7.0, 4.0)                 0  0.000000      1\n",
      "60       (11.0, 11.0, 0.0)               269  0.332509    809\n",
      "61        (12.0, 0.0, 0.0)                14  0.264151     53\n",
      "62       (12.0, 0.0, 12.0)              3204  0.338653   9461\n",
      "63       (12.0, 2.0, 10.0)                 0  0.000000      1\n",
      "64        (12.0, 5.0, 7.0)                 0  0.000000      1\n",
      "65        (12.0, 6.0, 6.0)                 2  0.500000      4\n",
      "66        (12.0, 8.0, 4.0)                 0  0.000000      2\n",
      "67       (12.0, 10.0, 2.0)                 1  0.500000      2\n",
      "68       (12.0, 12.0, 0.0)               231  0.348943    662\n",
      "69        (13.0, 0.0, 0.0)                19  0.292308     65\n",
      "70       (13.0, 0.0, 13.0)              2840  0.353146   8042\n",
      "71        (13.0, 4.0, 9.0)                 1  1.000000      1\n",
      "72        (13.0, 6.0, 7.0)                 0  0.000000      3\n",
      "73        (13.0, 7.0, 6.0)                 1  0.250000      4\n",
      "74       (13.0, 10.0, 3.0)                 1  1.000000      1\n",
      "75       (13.0, 11.0, 2.0)                 0  0.000000      1\n",
      "76       (13.0, 13.0, 0.0)               218  0.363940    599\n",
      "77        (14.0, 0.0, 0.0)                17  0.326923     52\n",
      "78       (14.0, 0.0, 14.0)              2391  0.340307   7026\n",
      "79       (14.0, 3.0, 11.0)                 0  0.000000      1\n",
      "80        (14.0, 7.0, 7.0)                 0  0.000000      1\n",
      "81        (14.0, 8.0, 6.0)                 0  0.000000      1\n",
      "82       (14.0, 11.0, 3.0)                 0  0.000000      1\n",
      "83       (14.0, 14.0, 0.0)               168  0.353684    475\n",
      "84        (15.0, 0.0, 0.0)                14  0.212121     66\n",
      "85       (15.0, 0.0, 15.0)              2067  0.342957   6027\n",
      "86       (15.0, 5.0, 10.0)                 1  1.000000      1\n",
      "87        (15.0, 7.0, 8.0)                 1  0.333333      3\n",
      "88        (15.0, 8.0, 7.0)                 0  0.000000      1\n",
      "89        (15.0, 9.0, 6.0)                 1  1.000000      1\n",
      "90       (15.0, 10.0, 5.0)                 1  1.000000      1\n",
      "91       (15.0, 11.0, 4.0)                 1  1.000000      1\n",
      "92       (15.0, 15.0, 0.0)               147  0.360294    408\n",
      "93        (16.0, 0.0, 0.0)                21  0.375000     56\n",
      "94       (16.0, 0.0, 16.0)              1715  0.350143   4898\n",
      "95       (16.0, 5.0, 11.0)                 0  0.000000      2\n",
      "96       (16.0, 6.0, 10.0)                 0  0.000000      1\n",
      "97        (16.0, 8.0, 8.0)                 1  0.500000      2\n",
      "98        (16.0, 9.0, 7.0)                 0  0.000000      1\n",
      "99       (16.0, 10.0, 6.0)                 0  0.000000      1\n",
      "100      (16.0, 11.0, 5.0)                 1  1.000000      1\n",
      "101      (16.0, 16.0, 0.0)               135  0.379213    356\n",
      "102       (17.0, 0.0, 0.0)                21  0.381818     55\n",
      "103      (17.0, 0.0, 17.0)              1409  0.350498   4020\n",
      "104       (17.0, 8.0, 9.0)                 0  0.000000      1\n",
      "105       (17.0, 9.0, 8.0)                 0  0.000000      1\n",
      "106      (17.0, 17.0, 0.0)                97  0.355311    273\n",
      "107       (18.0, 0.0, 0.0)                14  0.269231     52\n",
      "108      (18.0, 0.0, 18.0)              1145  0.347707   3293\n",
      "109       (18.0, 9.0, 9.0)                 0  0.000000      1\n",
      "110      (18.0, 12.0, 6.0)                 0  0.000000      1\n",
      "111      (18.0, 18.0, 0.0)                70  0.350000    200\n",
      "112       (19.0, 0.0, 0.0)                 8  0.307692     26\n",
      "113      (19.0, 0.0, 19.0)               906  0.338060   2680\n",
      "114      (19.0, 5.0, 14.0)                 0  0.000000      1\n",
      "115      (19.0, 11.0, 8.0)                 0  0.000000      1\n",
      "116      (19.0, 18.0, 1.0)                 0  0.000000      1\n",
      "117      (19.0, 19.0, 0.0)                48  0.326531    147\n",
      "118       (20.0, 0.0, 0.0)                15  0.405405     37\n",
      "119      (20.0, 0.0, 20.0)               741  0.333633   2221\n",
      "120     (20.0, 10.0, 10.0)                 1  0.500000      2\n",
      "121      (20.0, 12.0, 8.0)                 0  0.000000      1\n",
      "122      (20.0, 20.0, 0.0)                55  0.374150    147\n",
      "123       (21.0, 0.0, 0.0)                 3  0.187500     16\n",
      "124      (21.0, 0.0, 21.0)               569  0.317522   1792\n",
      "125      (21.0, 15.0, 6.0)                 0  0.000000      1\n",
      "126      (21.0, 21.0, 0.0)                36  0.321429    112\n",
      "127       (22.0, 0.0, 0.0)                11  0.379310     29\n",
      "128      (22.0, 0.0, 22.0)               443  0.299932   1477\n",
      "129      (22.0, 5.0, 17.0)                 1  1.000000      1\n",
      "130     (22.0, 11.0, 11.0)                 0  0.000000      1\n",
      "131      (22.0, 19.0, 3.0)                 0  0.000000      1\n",
      "132      (22.0, 22.0, 0.0)                33  0.375000     88\n",
      "133       (23.0, 0.0, 0.0)                 1  0.045455     22\n",
      "134      (23.0, 0.0, 23.0)               375  0.309406   1212\n",
      "135      (23.0, 23.0, 0.0)                22  0.385965     57\n",
      "136       (24.0, 0.0, 0.0)                 2  0.111111     18\n",
      "137      (24.0, 0.0, 24.0)               302  0.312306    967\n",
      "138     (24.0, 12.0, 12.0)                 0  0.000000      1\n",
      "139      (24.0, 24.0, 0.0)                19  0.306452     62\n",
      "140       (25.0, 0.0, 0.0)                 2  0.105263     19\n",
      "141      (25.0, 0.0, 25.0)               180  0.237781    757\n",
      "142      (25.0, 2.0, 23.0)                 1  1.000000      1\n",
      "143     (25.0, 10.0, 15.0)                 1  1.000000      1\n",
      "144      (25.0, 25.0, 0.0)                15  0.258621     58\n",
      "145       (26.0, 0.0, 0.0)                 3  0.214286     14\n",
      "146      (26.0, 0.0, 26.0)               145  0.242475    598\n",
      "147      (26.0, 6.0, 20.0)                 1  1.000000      1\n",
      "148      (26.0, 18.0, 8.0)                 0  0.000000      1\n",
      "149      (26.0, 20.0, 6.0)                 1  1.000000      1\n",
      "150      (26.0, 26.0, 0.0)                 6  0.162162     37\n",
      "151       (27.0, 0.0, 0.0)                 2  0.200000     10\n",
      "152      (27.0, 0.0, 27.0)               101  0.201195    502\n",
      "153      (27.0, 27.0, 0.0)                 5  0.200000     25\n",
      "154       (28.0, 0.0, 0.0)                 0  0.000000     11\n",
      "155      (28.0, 0.0, 28.0)                85  0.207317    410\n",
      "156     (28.0, 14.0, 14.0)                 1  0.500000      2\n",
      "157      (28.0, 28.0, 0.0)                 4  0.153846     26\n",
      "158       (29.0, 0.0, 0.0)                 1  0.142857      7\n",
      "159      (29.0, 0.0, 29.0)                61  0.206780    295\n",
      "160      (29.0, 21.0, 8.0)                 1  1.000000      1\n",
      "161      (29.0, 29.0, 0.0)                 8  0.380952     21\n",
      "162       (30.0, 0.0, 0.0)                 1  0.142857      7\n",
      "163      (30.0, 0.0, 30.0)                50  0.192308    260\n",
      "164      (30.0, 30.0, 0.0)                 2  0.166667     12\n",
      "165       (31.0, 0.0, 0.0)                 0  0.000000      4\n",
      "166      (31.0, 0.0, 31.0)                28  0.153005    183\n",
      "167      (31.0, 31.0, 0.0)                 2  0.166667     12\n",
      "168       (32.0, 0.0, 0.0)                 0  0.000000      2\n",
      "169      (32.0, 0.0, 32.0)                31  0.181287    171\n",
      "170      (32.0, 32.0, 0.0)                 1  0.062500     16\n",
      "171       (33.0, 0.0, 0.0)                 0  0.000000      5\n",
      "172      (33.0, 0.0, 33.0)                18  0.137405    131\n",
      "173      (33.0, 33.0, 0.0)                 5  0.333333     15\n",
      "174       (34.0, 0.0, 0.0)                 0  0.000000      4\n",
      "175      (34.0, 0.0, 34.0)                17  0.150442    113\n",
      "176      (34.0, 34.0, 0.0)                 1  0.200000      5\n",
      "177       (35.0, 0.0, 0.0)                 1  0.250000      4\n",
      "178      (35.0, 0.0, 35.0)                16  0.160000    100\n",
      "179      (35.0, 35.0, 0.0)                 2  0.333333      6\n",
      "180       (36.0, 0.0, 0.0)                 1  0.500000      2\n",
      "181      (36.0, 0.0, 36.0)                 7  0.097222     72\n",
      "182      (36.0, 36.0, 0.0)                 2  0.250000      8\n",
      "183       (37.0, 0.0, 0.0)                 0  0.000000      2\n",
      "184      (37.0, 0.0, 37.0)                13  0.203125     64\n",
      "185      (37.0, 37.0, 0.0)                 1  0.200000      5\n",
      "186       (38.0, 0.0, 0.0)                 0  0.000000      6\n",
      "187      (38.0, 0.0, 38.0)                 6  0.127660     47\n",
      "188     (38.0, 24.0, 14.0)                 0  0.000000      1\n",
      "189      (38.0, 38.0, 0.0)                 2  0.285714      7\n",
      "190      (39.0, 0.0, 39.0)                 3  0.088235     34\n",
      "191      (39.0, 39.0, 0.0)                 0  0.000000      2\n",
      "192       (40.0, 0.0, 0.0)                 0  0.000000      1\n",
      "193      (40.0, 0.0, 40.0)                 2  0.064516     31\n",
      "194      (40.0, 40.0, 0.0)                 0  0.000000      1\n",
      "195      (41.0, 0.0, 41.0)                 0  0.000000     16\n",
      "196      (41.0, 41.0, 0.0)                 0  0.000000      1\n",
      "197      (42.0, 0.0, 42.0)                 4  0.190476     21\n",
      "198      (42.0, 42.0, 0.0)                 1  1.000000      1\n",
      "199      (43.0, 0.0, 43.0)                 2  0.117647     17\n",
      "200       (44.0, 0.0, 0.0)                 0  0.000000      2\n",
      "201      (44.0, 0.0, 44.0)                 0  0.000000      7\n",
      "202       (45.0, 0.0, 0.0)                 0  0.000000      1\n",
      "203      (45.0, 0.0, 45.0)                 0  0.000000      5\n",
      "204      (45.0, 45.0, 0.0)                 1  1.000000      1\n",
      "205      (46.0, 0.0, 46.0)                 0  0.000000     12\n",
      "206      (47.0, 0.0, 47.0)                 1  0.142857      7\n",
      "207      (47.0, 47.0, 0.0)                 0  0.000000      1\n",
      "208      (48.0, 0.0, 48.0)                 0  0.000000      3\n",
      "209      (49.0, 0.0, 49.0)                 0  0.000000      4\n",
      "210      (49.0, 49.0, 0.0)                 0  0.000000      1\n",
      "211      (50.0, 0.0, 50.0)                 0  0.000000      4\n",
      "212      (50.0, 50.0, 0.0)                 1  1.000000      1\n",
      "213       (51.0, 0.0, 0.0)                 0  0.000000      1\n",
      "214      (51.0, 0.0, 51.0)                 1  0.035714     28\n"
     ]
    }
   ],
   "source": [
    "summarize_group(train, ['혼합된_난자_수','기증자_정자와_혼합된_난자_수', '파트너_정자와_혼합된_난자_수'])"
   ]
  },
  {
   "cell_type": "code",
   "execution_count": 1454,
   "metadata": {},
   "outputs": [],
   "source": [
    "# '기증자_정자와_혼합된_난자_수'와 '혼합된_난자_수'의 비율을 계산하여 새로운 파생 변수 생성\n",
    "def calculate_donor_ratio(row):\n",
    "    if row['혼합된_난자_수'] == 0:\n",
    "        return -1\n",
    "    else:\n",
    "        return round(row['기증자_정자와_혼합된_난자_수'] / row['혼합된_난자_수'], 1)\n",
    "\n",
    "# '파트너_정자와_혼합된_난자_수'와 '혼합된_난자_수'의 비율을 계산하여 새로운 파생 변수 생성\n",
    "def calculate_partner_ratio(row):\n",
    "    if row['혼합된_난자_수'] == 0:\n",
    "        return -1\n",
    "    else:\n",
    "        return round(row['파트너_정자와_혼합된_난자_수'] / row['혼합된_난자_수'], 1)\n",
    "\n",
    "train['기증자_정자_비율'] = train.apply(calculate_donor_ratio, axis=1)\n",
    "test['기증자_정자_비율'] = test.apply(calculate_donor_ratio, axis=1)\n",
    "\n",
    "train['파트너_정자_비율'] = train.apply(calculate_partner_ratio, axis=1)\n",
    "test['파트너_정자_비율'] = test.apply(calculate_partner_ratio, axis=1)"
   ]
  },
  {
   "cell_type": "code",
   "execution_count": 1455,
   "metadata": {},
   "outputs": [
    {
     "name": "stdout",
     "output_type": "stream",
     "text": [
      "\n",
      "기증자_정자_비율별 임신_성공_여부 비율 및 갯수\n",
      "\n",
      "                 0         1         0        1   Total\n",
      "variable                                               \n",
      "-1.0      0.810713  0.189287   42667.0   9962.0   52629\n",
      " 0.0      0.723590  0.276410  135948.0  51932.0  187880\n",
      " 0.1      0.000000  1.000000       0.0      1.0       1\n",
      " 0.2      0.500000  0.500000       3.0      3.0       6\n",
      " 0.3      0.714286  0.285714       5.0      2.0       7\n",
      " 0.4      0.833333  0.166667      10.0      2.0      12\n",
      " 0.5      0.681818  0.318182      30.0     14.0      44\n",
      " 0.6      0.823529  0.176471      14.0      3.0      17\n",
      " 0.7      0.571429  0.428571       8.0      6.0      14\n",
      " 0.8      0.583333  0.416667       7.0      5.0      12\n",
      " 0.9      1.000000  0.000000       4.0      0.0       4\n",
      " 1.0      0.726683  0.273317   11422.0   4296.0   15718\n"
     ]
    }
   ],
   "source": [
    "value_counts_ratio(train, '기증자_정자_비율')"
   ]
  },
  {
   "cell_type": "code",
   "execution_count": 1456,
   "metadata": {},
   "outputs": [
    {
     "name": "stdout",
     "output_type": "stream",
     "text": [
      "\n",
      "파트너_정자_비율별 임신_성공_여부 비율 및 갯수\n",
      "\n",
      "                 0         1         0        1   Total\n",
      "variable                                               \n",
      "-1.0      0.810713  0.189287   42667.0   9962.0   52629\n",
      " 0.0      0.721241  0.278759   11718.0   4529.0   16247\n",
      " 0.1      1.000000  0.000000       4.0      0.0       4\n",
      " 0.2      0.583333  0.416667       7.0      5.0      12\n",
      " 0.3      0.571429  0.428571       8.0      6.0      14\n",
      " 0.4      0.823529  0.176471      14.0      3.0      17\n",
      " 0.5      0.681818  0.318182      30.0     14.0      44\n",
      " 0.6      0.833333  0.166667      10.0      2.0      12\n",
      " 0.7      0.714286  0.285714       5.0      2.0       7\n",
      " 0.8      0.500000  0.500000       3.0      3.0       6\n",
      " 0.9      0.000000  1.000000       0.0      1.0       1\n",
      " 1.0      0.724053  0.275947  135652.0  51699.0  187351\n"
     ]
    }
   ],
   "source": [
    "value_counts_ratio(train, '파트너_정자_비율')"
   ]
  },
  {
   "cell_type": "code",
   "execution_count": 1457,
   "metadata": {},
   "outputs": [
    {
     "name": "stdout",
     "output_type": "stream",
     "text": [
      "결측값 개수: 6289\n",
      "결측값 개수: 0\n"
     ]
    }
   ],
   "source": [
    "# 결측값 개수 확인\n",
    "print(\"결측값 개수:\", train['기증자_정자와_혼합된_난자_수'].isnull().sum())\n",
    "\n",
    "# 결측값을 0으로 채우기\n",
    "train['기증자_정자와_혼합된_난자_수'].fillna(0, inplace=True)\n",
    "test['기증자_정자와_혼합된_난자_수'].fillna(0, inplace=True)\n",
    "\n",
    "# 결측값 개수 확인\n",
    "print(\"결측값 개수:\", train['기증자_정자와_혼합된_난자_수'].isnull().sum())"
   ]
  },
  {
   "cell_type": "markdown",
   "metadata": {},
   "source": [
    "### 53. 난자_출처"
   ]
  },
  {
   "cell_type": "markdown",
   "metadata": {},
   "source": [
    "난자 출처 정보"
   ]
  },
  {
   "cell_type": "code",
   "execution_count": 1458,
   "metadata": {},
   "outputs": [
    {
     "name": "stdout",
     "output_type": "stream",
     "text": [
      "\n",
      "난자_출처별 임신_성공_여부 비율 및 갯수\n",
      "\n",
      "                 0         1       0      1   Total\n",
      "variable                                           \n",
      "-10       0.994169  0.005831     341      2     343\n",
      "기증 제공     0.684571  0.315429   10795   4974   15769\n",
      "본인 제공     0.741651  0.258349  173504  60439  233943\n",
      "알 수 없음    0.871045  0.128955    5478    811    6289\n"
     ]
    }
   ],
   "source": [
    "value_counts_ratio(train, '난자_출처')"
   ]
  },
  {
   "cell_type": "code",
   "execution_count": 1459,
   "metadata": {},
   "outputs": [
    {
     "data": {
      "text/plain": [
       "난자_출처\n",
       "본인 제공     82276\n",
       "기증 제공      5493\n",
       "알 수 없음     2176\n",
       "-10         122\n",
       "Name: count, dtype: int64"
      ]
     },
     "execution_count": 1459,
     "metadata": {},
     "output_type": "execute_result"
    }
   ],
   "source": [
    "test['난자_출처'].value_counts()"
   ]
  },
  {
   "cell_type": "code",
   "execution_count": 1460,
   "metadata": {},
   "outputs": [],
   "source": [
    "# '난자_출처'에 따라 파생변수 생성\n",
    "train['난자_출처_기증 제공'] = np.where(train['난자_출처'] == '기증 제공', 1, 0)\n",
    "train['난자_출처_본인 제공'] = np.where(train['난자_출처'] == '본인 제공', 1, 0)\n",
    "train['난자_출처_알 수 없음'] = np.where(train['난자_출처'] == '알 수 없음', 1, 0)\n",
    "\n",
    "test['난자_출처_기증 제공'] = np.where(test['난자_출처'] == '기증 제공', 1, 0)\n",
    "test['난자_출처_본인 제공'] = np.where(test['난자_출처'] == '본인 제공', 1, 0)\n",
    "test['난자_출처_알 수 없음'] = np.where(test['난자_출처'] == '알 수 없음', 1, 0)"
   ]
  },
  {
   "cell_type": "code",
   "execution_count": 1461,
   "metadata": {},
   "outputs": [
    {
     "name": "stdout",
     "output_type": "stream",
     "text": [
      "<class 'pandas.core.frame.DataFrame'>\n",
      "RangeIndex: 256344 entries, 0 to 256343\n",
      "Data columns (total 85 columns):\n",
      " #   Column                 Non-Null Count   Dtype  \n",
      "---  ------                 --------------   -----  \n",
      " 0   ID                     256344 non-null  object \n",
      " 1   시술_당시_나이               256001 non-null  float64\n",
      " 2   임신_시도_또는_마지막_임신_경과_연수  256344 non-null  float64\n",
      " 3   배란_자극_여부               256344 non-null  int64  \n",
      " 4   단일_배아_이식_여부            256344 non-null  float64\n",
      " 5   착상_전_유전_검사_사용_여부       256344 non-null  float64\n",
      " 6   착상_전_유전_진단_사용_여부       256344 non-null  float64\n",
      " 7   남성_주_불임_원인             256344 non-null  int64  \n",
      " 8   남성_부_불임_원인             256344 non-null  int64  \n",
      " 9   여성_주_불임_원인             256344 non-null  int64  \n",
      " 10  여성_부_불임_원인             256344 non-null  int64  \n",
      " 11  부부_주_불임_원인             256344 non-null  int64  \n",
      " 12  부부_부_불임_원인             256344 non-null  int64  \n",
      " 13  불명확_불임_원인              256344 non-null  int64  \n",
      " 14  불임_원인_-_난관_질환          256344 non-null  int64  \n",
      " 15  불임_원인_-_남성_요인          256344 non-null  int64  \n",
      " 16  불임_원인_-_배란_장애          256344 non-null  int64  \n",
      " 17  불임_원인_-_자궁경부_문제        256344 non-null  int64  \n",
      " 18  불임_원인_-_자궁내막증          256344 non-null  int64  \n",
      " 19  불임_원인_-_정자_농도          256344 non-null  int64  \n",
      " 20  불임_원인_-_정자_운동성         256344 non-null  int64  \n",
      " 21  불임_원인_-_정자_형태          256344 non-null  int64  \n",
      " 22  총_시술_횟수                256001 non-null  float64\n",
      " 23  클리닉_내_총_시술_횟수          256001 non-null  float64\n",
      " 24  IVF_시술_횟수              256001 non-null  float64\n",
      " 25  DI_시술_횟수               256001 non-null  float64\n",
      " 26  총_임신_횟수                256001 non-null  float64\n",
      " 27  IVF_임신_횟수              256001 non-null  float64\n",
      " 28  DI_임신_횟수               256001 non-null  float64\n",
      " 29  총_출산_횟수                256001 non-null  float64\n",
      " 30  IVF_출산_횟수              256001 non-null  float64\n",
      " 31  DI_출산_횟수               256001 non-null  float64\n",
      " 32  총_생성_배아_수              256344 non-null  float64\n",
      " 33  미세주입된_난자_수             256344 non-null  float64\n",
      " 34  미세주입에서_생성된_배아_수        256344 non-null  float64\n",
      " 35  이식된_배아_수               256344 non-null  float64\n",
      " 36  미세주입_배아_이식_수           256344 non-null  float64\n",
      " 37  저장된_배아_수               256344 non-null  float64\n",
      " 38  미세주입_후_저장된_배아_수        256344 non-null  float64\n",
      " 39  해동된_배아_수               256344 non-null  float64\n",
      " 40  해동_난자_수                256344 non-null  float64\n",
      " 41  수집된_신선_난자_수            256344 non-null  float64\n",
      " 42  저장된_신선_난자_수            256344 non-null  float64\n",
      " 43  혼합된_난자_수               256344 non-null  float64\n",
      " 44  파트너_정자와_혼합된_난자_수       256344 non-null  float64\n",
      " 45  기증자_정자와_혼합된_난자_수       256344 non-null  float64\n",
      " 46  난자_출처                  256344 non-null  object \n",
      " 47  정자_출처                  256344 non-null  object \n",
      " 48  난자_기증자_나이              256344 non-null  object \n",
      " 49  정자_기증자_나이              256344 non-null  object \n",
      " 50  동결_배아_사용_여부            250055 non-null  float64\n",
      " 51  신선_배아_사용_여부            250055 non-null  float64\n",
      " 52  기증_배아_사용_여부            250055 non-null  float64\n",
      " 53  대리모_여부                 250055 non-null  float64\n",
      " 54  PGD_시술_여부              2522 non-null    float64\n",
      " 55  PGS_시술_여부              2272 non-null    float64\n",
      " 56  난자_채취_경과일              198868 non-null  float64\n",
      " 57  난자_해동_경과일              1778 non-null    float64\n",
      " 58  난자_혼합_경과일              202922 non-null  float64\n",
      " 59  배아_이식_경과일              213113 non-null  float64\n",
      " 60  배아_해동_경과일              40703 non-null   float64\n",
      " 61  임신_성공_여부               256344 non-null  int64  \n",
      " 62  시술_유형_IVF              256344 non-null  int32  \n",
      " 63  시술_유형_DI               256344 non-null  int32  \n",
      " 64  특정_시술_유형_AH            256344 non-null  int32  \n",
      " 65  특정_시술_유형_BLASTOCYST    256344 non-null  int32  \n",
      " 66  특정_시술_유형_GenericDI     256344 non-null  int32  \n",
      " 67  특정_시술_유형_ICI           256344 non-null  int32  \n",
      " 68  특정_시술_유형_ICSI          256344 non-null  int32  \n",
      " 69  특정_시술_유형_IUI           256344 non-null  int32  \n",
      " 70  특정_시술_유형_IVF           256344 non-null  int32  \n",
      " 71  특정_시술_유형_IVI           256344 non-null  int32  \n",
      " 72  배아_생성_주요_이유_기증용        256344 non-null  int32  \n",
      " 73  배아_생성_주요_이유_난자 저장용     256344 non-null  int32  \n",
      " 74  배아_생성_주요_이유_배아 저장용     256344 non-null  int32  \n",
      " 75  배아_생성_주요_이유_현재 시술용     256344 non-null  int32  \n",
      " 76  IVF_임신_시술_비율           256344 non-null  float64\n",
      " 77  DI_임신_시술_비율            256344 non-null  float64\n",
      " 78  임신_성공률                 256344 non-null  float64\n",
      " 79  저장된_신선_난자_비율           256344 non-null  float64\n",
      " 80  기증자_정자_비율              256344 non-null  float64\n",
      " 81  파트너_정자_비율              256344 non-null  float64\n",
      " 82  난자_출처_기증 제공            256344 non-null  int32  \n",
      " 83  난자_출처_본인 제공            256344 non-null  int32  \n",
      " 84  난자_출처_알 수 없음           256344 non-null  int32  \n",
      "dtypes: float64(46), int32(17), int64(17), object(5)\n",
      "memory usage: 149.6+ MB\n"
     ]
    }
   ],
   "source": [
    "train.info()"
   ]
  },
  {
   "cell_type": "markdown",
   "metadata": {},
   "source": [
    "난자_출처_알 수 없음 -> DI 시술임"
   ]
  },
  {
   "cell_type": "code",
   "execution_count": 1462,
   "metadata": {},
   "outputs": [],
   "source": [
    "# '난자_출처_알 수 없음' 열을 제거\n",
    "train = train.drop(columns=['난자_출처_알 수 없음', '난자_출처'])\n",
    "test = test.drop(columns=['난자_출처_알 수 없음', '난자_출처'])"
   ]
  },
  {
   "cell_type": "markdown",
   "metadata": {},
   "source": [
    "### 54. 정자_출처"
   ]
  },
  {
   "cell_type": "markdown",
   "metadata": {},
   "source": [
    "정자 출처 정보"
   ]
  },
  {
   "cell_type": "code",
   "execution_count": 1463,
   "metadata": {},
   "outputs": [
    {
     "name": "stdout",
     "output_type": "stream",
     "text": [
      "\n",
      "정자_출처별 임신_성공_여부 비율 및 갯수\n",
      "\n",
      "                    0         1         0        1   Total\n",
      "variable                                                  \n",
      "-10          0.994169  0.005831     341.0      2.0     343\n",
      "기증 제공        0.756013  0.243987   20401.0   6584.0   26985\n",
      "미할당          0.893443  0.106557     109.0     13.0     122\n",
      "배우자 및 기증 제공  1.000000  0.000000      14.0      0.0      14\n",
      "배우자 제공       0.739484  0.260516  169253.0  59627.0  228880\n"
     ]
    }
   ],
   "source": [
    "value_counts_ratio(train, '정자_출처')"
   ]
  },
  {
   "cell_type": "code",
   "execution_count": 1464,
   "metadata": {},
   "outputs": [
    {
     "data": {
      "text/plain": [
       "정자_출처\n",
       "배우자 제공         80462\n",
       "기증 제공           9445\n",
       "-10              122\n",
       "미할당               33\n",
       "배우자 및 기증 제공        5\n",
       "Name: count, dtype: int64"
      ]
     },
     "execution_count": 1464,
     "metadata": {},
     "output_type": "execute_result"
    }
   ],
   "source": [
    "test['정자_출처'].value_counts()"
   ]
  },
  {
   "cell_type": "code",
   "execution_count": 1465,
   "metadata": {},
   "outputs": [],
   "source": [
    "# '정자_출처'에 따라 파생변수 생성\n",
    "train['정자_출처_배우자 제공'] = np.where(train['정자_출처'].isin(['배우자 제공', '배우자 및 기증 제공']), 1, 0)\n",
    "train['정자_출처_기증 제공'] = np.where(train['정자_출처'].isin(['기증 제공', '배우자 및 기증 제공']), 1, 0)\n",
    "train['정자_출처_미할당'] = np.where(train['정자_출처'] == '미할당', 1, 0)\n",
    "\n",
    "test['정자_출처_배우자 제공'] = np.where(test['정자_출처'].isin(['배우자 제공', '배우자 및 기증 제공']), 1, 0)\n",
    "test['정자_출처_기증 제공'] = np.where(test['정자_출처'].isin(['기증 제공', '배우자 및 기증 제공']), 1, 0)\n",
    "test['정자_출처_미할당'] = np.where(test['정자_출처'] == '미할당', 1, 0)"
   ]
  },
  {
   "cell_type": "code",
   "execution_count": 1466,
   "metadata": {},
   "outputs": [],
   "source": [
    "train = train.drop(columns=['정자_출처'])\n",
    "test = test.drop(columns=['정자_출처'])"
   ]
  },
  {
   "cell_type": "markdown",
   "metadata": {},
   "source": [
    "### 55. 난자_기증자_나이"
   ]
  },
  {
   "cell_type": "markdown",
   "metadata": {},
   "source": [
    "난자 기증자의 등록 당시 나이"
   ]
  },
  {
   "cell_type": "code",
   "execution_count": 1467,
   "metadata": {},
   "outputs": [
    {
     "name": "stdout",
     "output_type": "stream",
     "text": [
      "\n",
      "난자_기증자_나이별 임신_성공_여부 비율 및 갯수\n",
      "\n",
      "                 0         1       0      1   Total\n",
      "variable                                           \n",
      "-10       0.994169  0.005831     341      2     343\n",
      "만20세 이하   0.738095  0.261905     217     77     294\n",
      "만21-25세   0.670094  0.329906    1564    770    2334\n",
      "만26-30세   0.651728  0.348272    3243   1733    4976\n",
      "만31-35세   0.694785  0.305215    4423   1943    6366\n",
      "알 수 없음    0.745070  0.254930  180330  61701  242031\n"
     ]
    }
   ],
   "source": [
    "value_counts_ratio(train, '난자_기증자_나이')"
   ]
  },
  {
   "cell_type": "code",
   "execution_count": 1468,
   "metadata": {},
   "outputs": [],
   "source": [
    "# '난자_기증자_나이' 변수 값 변환\n",
    "age_mapping = {\n",
    "    '만20세 이하': 20,\n",
    "    '만21-25세': 23,\n",
    "    '만26-30세': 28,\n",
    "    '만31-35세': 32,\n",
    "    '알 수 없음': -1\n",
    "}\n",
    "\n",
    "train['난자_기증자_나이'] = train['난자_기증자_나이'].replace(age_mapping)\n",
    "test['난자_기증자_나이'] = test['난자_기증자_나이'].replace(age_mapping)"
   ]
  },
  {
   "cell_type": "code",
   "execution_count": 1469,
   "metadata": {},
   "outputs": [
    {
     "name": "stdout",
     "output_type": "stream",
     "text": [
      "\n",
      "난자_기증자_나이별 임신_성공_여부 비율 및 갯수\n",
      "\n",
      "                 0         1       0      1   Total\n",
      "variable                                           \n",
      "-10       0.994169  0.005831     341      2     343\n",
      "-1        0.745070  0.254930  180330  61701  242031\n",
      " 20       0.738095  0.261905     217     77     294\n",
      " 23       0.670094  0.329906    1564    770    2334\n",
      " 28       0.651728  0.348272    3243   1733    4976\n",
      " 32       0.694785  0.305215    4423   1943    6366\n"
     ]
    }
   ],
   "source": [
    "value_counts_ratio(train, '난자_기증자_나이')"
   ]
  },
  {
   "cell_type": "code",
   "execution_count": 1470,
   "metadata": {},
   "outputs": [
    {
     "name": "stdout",
     "output_type": "stream",
     "text": [
      "결측값 개수: 0\n"
     ]
    }
   ],
   "source": [
    "# 결측값 개수 확인\n",
    "print(\"결측값 개수:\", train['난자_기증자_나이'].isnull().sum())"
   ]
  },
  {
   "cell_type": "markdown",
   "metadata": {},
   "source": [
    "### 56. 정자_기증자_나이"
   ]
  },
  {
   "cell_type": "markdown",
   "metadata": {},
   "source": [
    "정자 기증자의 등록 당시 나이"
   ]
  },
  {
   "cell_type": "code",
   "execution_count": 1471,
   "metadata": {},
   "outputs": [
    {
     "name": "stdout",
     "output_type": "stream",
     "text": [
      "\n",
      "정자_기증자_나이별 임신_성공_여부 비율 및 갯수\n",
      "\n",
      "                 0         1       0      1   Total\n",
      "variable                                           \n",
      "-10       0.994169  0.005831     341      2     343\n",
      "만20세 이하   0.790066  0.209934     843    224    1067\n",
      "만21-25세   0.758694  0.241306    4298   1367    5665\n",
      "만26-30세   0.751633  0.248367    3798   1255    5053\n",
      "만31-35세   0.751222  0.248778    3687   1221    4908\n",
      "만36-40세   0.753887  0.246113    3976   1298    5274\n",
      "만41-45세   0.756510  0.243490    2905    935    3840\n",
      "알 수 없음    0.739680  0.260320  170270  59924  230194\n"
     ]
    }
   ],
   "source": [
    "value_counts_ratio(train, '정자_기증자_나이')"
   ]
  },
  {
   "cell_type": "code",
   "execution_count": 1472,
   "metadata": {},
   "outputs": [],
   "source": [
    "# '정자_기증자_나이' 변수 값 변환\n",
    "age_mapping = {\n",
    "    '만20세 이하': 20,\n",
    "    '만21-25세': 23,\n",
    "    '만26-30세': 28,\n",
    "    '만31-35세': 32,\n",
    "    '만36-40세': 38,\n",
    "    '만41-45세': 43,\n",
    "    '알 수 없음': -1\n",
    "}\n",
    "\n",
    "train['정자_기증자_나이'] = train['정자_기증자_나이'].replace(age_mapping)\n",
    "test['정자_기증자_나이'] = test['정자_기증자_나이'].replace(age_mapping)"
   ]
  },
  {
   "cell_type": "code",
   "execution_count": 1473,
   "metadata": {},
   "outputs": [
    {
     "name": "stdout",
     "output_type": "stream",
     "text": [
      "\n",
      "정자_기증자_나이별 임신_성공_여부 비율 및 갯수\n",
      "\n",
      "                 0         1       0      1   Total\n",
      "variable                                           \n",
      "-10       0.994169  0.005831     341      2     343\n",
      "-1        0.739680  0.260320  170270  59924  230194\n",
      " 20       0.790066  0.209934     843    224    1067\n",
      " 23       0.758694  0.241306    4298   1367    5665\n",
      " 28       0.751633  0.248367    3798   1255    5053\n",
      " 32       0.751222  0.248778    3687   1221    4908\n",
      " 38       0.753887  0.246113    3976   1298    5274\n",
      " 43       0.756510  0.243490    2905    935    3840\n"
     ]
    }
   ],
   "source": [
    "value_counts_ratio(train, '정자_기증자_나이')"
   ]
  },
  {
   "cell_type": "code",
   "execution_count": 1474,
   "metadata": {},
   "outputs": [
    {
     "name": "stdout",
     "output_type": "stream",
     "text": [
      "결측값 개수: 0\n"
     ]
    }
   ],
   "source": [
    "# 결측값 개수 확인\n",
    "print(\"결측값 개수:\", train['정자_기증자_나이'].isnull().sum())"
   ]
  },
  {
   "cell_type": "markdown",
   "metadata": {},
   "source": [
    "### 57. 동결_배아_사용_여부"
   ]
  },
  {
   "cell_type": "markdown",
   "metadata": {},
   "source": [
    "동결 배아가 사용되었는지 여부"
   ]
  },
  {
   "cell_type": "code",
   "execution_count": 1475,
   "metadata": {},
   "outputs": [
    {
     "name": "stdout",
     "output_type": "stream",
     "text": [
      "\n",
      "동결_배아_사용_여부별 임신_성공_여부 비율 및 갯수\n",
      "\n",
      "                 0         1       0      1   Total\n",
      "variable                                           \n",
      "-10.0     0.994169  0.005831     341      2     343\n",
      " 0.0      0.731811  0.268189  153384  56211  209595\n",
      " 1.0      0.770621  0.229379   30915   9202   40117\n"
     ]
    }
   ],
   "source": [
    "value_counts_ratio(train, '동결_배아_사용_여부')"
   ]
  },
  {
   "cell_type": "code",
   "execution_count": 1476,
   "metadata": {},
   "outputs": [
    {
     "name": "stdout",
     "output_type": "stream",
     "text": [
      "결측값 개수: 6289\n",
      "결측값 개수: 0\n"
     ]
    }
   ],
   "source": [
    "# 결측값 개수 확인\n",
    "print(\"결측값 개수:\", train['동결_배아_사용_여부'].isnull().sum())\n",
    "\n",
    "# 결측값을 0으로 채우기\n",
    "train['동결_배아_사용_여부'].fillna(-1, inplace=True)\n",
    "test['동결_배아_사용_여부'].fillna(-1, inplace=True)\n",
    "\n",
    "# 결측값 개수 확인\n",
    "print(\"결측값 개수:\", train['동결_배아_사용_여부'].isnull().sum())"
   ]
  },
  {
   "cell_type": "markdown",
   "metadata": {},
   "source": [
    "### 58. 신선_배아_사용_여부"
   ]
  },
  {
   "cell_type": "markdown",
   "metadata": {},
   "source": [
    "신선 배아가 사용되었는지 여부"
   ]
  },
  {
   "cell_type": "code",
   "execution_count": 1477,
   "metadata": {},
   "outputs": [
    {
     "name": "stdout",
     "output_type": "stream",
     "text": [
      "\n",
      "신선_배아_사용_여부별 임신_성공_여부 비율 및 갯수\n",
      "\n",
      "                 0         1       0      1   Total\n",
      "variable                                           \n",
      "-10.0     0.994169  0.005831     341      2     343\n",
      " 0.0      0.770437  0.229563   30752   9163   39915\n",
      " 1.0      0.731884  0.268116  153547  56250  209797\n"
     ]
    }
   ],
   "source": [
    "value_counts_ratio(train, '신선_배아_사용_여부')"
   ]
  },
  {
   "cell_type": "code",
   "execution_count": 1478,
   "metadata": {},
   "outputs": [
    {
     "name": "stdout",
     "output_type": "stream",
     "text": [
      "결측값 개수: 6289\n",
      "결측값 개수: 0\n"
     ]
    }
   ],
   "source": [
    "# 결측값 개수 확인\n",
    "print(\"결측값 개수:\", train['신선_배아_사용_여부'].isnull().sum())\n",
    "\n",
    "# 결측값을 0으로 채우기\n",
    "train['신선_배아_사용_여부'].fillna(-1, inplace=True)\n",
    "test['신선_배아_사용_여부'].fillna(-1, inplace=True)\n",
    "\n",
    "# 결측값 개수 확인\n",
    "print(\"결측값 개수:\", train['신선_배아_사용_여부'].isnull().sum())"
   ]
  },
  {
   "cell_type": "markdown",
   "metadata": {},
   "source": [
    "### 59. 기증_배아_사용_여부"
   ]
  },
  {
   "cell_type": "markdown",
   "metadata": {},
   "source": [
    "기증 배아가 사용되었는지 여부"
   ]
  },
  {
   "cell_type": "code",
   "execution_count": 1479,
   "metadata": {},
   "outputs": [
    {
     "name": "stdout",
     "output_type": "stream",
     "text": [
      "\n",
      "기증_배아_사용_여부별 임신_성공_여부 비율 및 갯수\n",
      "\n",
      "                 0         1       0      1   Total\n",
      "variable                                           \n",
      "-10.0     0.994169  0.005831     341      2     343\n",
      " 0.0      0.738698  0.261302  182646  64608  247254\n",
      " 1.0      0.672498  0.327502    1653    805    2458\n"
     ]
    }
   ],
   "source": [
    "value_counts_ratio(train, '기증_배아_사용_여부')"
   ]
  },
  {
   "cell_type": "code",
   "execution_count": 1480,
   "metadata": {},
   "outputs": [
    {
     "name": "stdout",
     "output_type": "stream",
     "text": [
      "결측값 개수: 6289\n",
      "결측값 개수: 0\n"
     ]
    }
   ],
   "source": [
    "# 결측값 개수 확인\n",
    "print(\"결측값 개수:\", train['기증_배아_사용_여부'].isnull().sum())\n",
    "\n",
    "# 결측값을 0으로 채우기\n",
    "train['기증_배아_사용_여부'].fillna(-1, inplace=True)\n",
    "test['기증_배아_사용_여부'].fillna(-1, inplace=True)\n",
    "\n",
    "# 결측값 개수 확인\n",
    "print(\"결측값 개수:\", train['기증_배아_사용_여부'].isnull().sum())"
   ]
  },
  {
   "cell_type": "code",
   "execution_count": 1481,
   "metadata": {},
   "outputs": [
    {
     "name": "stdout",
     "output_type": "stream",
     "text": [
      "Grouped by: 신선_배아_사용_여부, 동결_배아_사용_여부, 기증_배아_사용_여부\n",
      "\n",
      "                   group  '임신_성공_여부' count     ratio   Total\n",
      "0  (-10.0, -10.0, -10.0)                 2  0.005831     343\n",
      "1     (-1.0, -1.0, -1.0)               811  0.128955    6289\n",
      "2        (0.0, 0.0, 0.0)                 1  0.333333       3\n",
      "3        (0.0, 1.0, 0.0)              8914  0.229004   38925\n",
      "4        (0.0, 1.0, 1.0)               248  0.251266     987\n",
      "5        (1.0, 0.0, 0.0)             55653  0.267407  208121\n",
      "6        (1.0, 0.0, 1.0)               557  0.378654    1471\n",
      "7        (1.0, 1.0, 0.0)                40  0.195122     205\n"
     ]
    }
   ],
   "source": [
    "summarize_group(train, ['신선_배아_사용_여부', '동결_배아_사용_여부', '기증_배아_사용_여부'])"
   ]
  },
  {
   "cell_type": "markdown",
   "metadata": {},
   "source": [
    "### 60. 대리모_여부"
   ]
  },
  {
   "cell_type": "markdown",
   "metadata": {},
   "source": [
    "환자가 대리모로 활동했는지 여부"
   ]
  },
  {
   "cell_type": "code",
   "execution_count": 1482,
   "metadata": {},
   "outputs": [
    {
     "name": "stdout",
     "output_type": "stream",
     "text": [
      "\n",
      "대리모_여부별 임신_성공_여부 비율 및 갯수\n",
      "\n",
      "                 0         1       0      1   Total\n",
      "variable                                           \n",
      "-10.0     0.994169  0.005831     341      2     343\n",
      " 0.0      0.738165  0.261835  183558  65110  248668\n",
      " 1.0      0.709770  0.290230     741    303    1044\n"
     ]
    }
   ],
   "source": [
    "value_counts_ratio(train, '대리모_여부')"
   ]
  },
  {
   "cell_type": "code",
   "execution_count": 1483,
   "metadata": {},
   "outputs": [
    {
     "name": "stdout",
     "output_type": "stream",
     "text": [
      "결측값 개수: 6289\n",
      "결측값 개수: 0\n"
     ]
    }
   ],
   "source": [
    "# 결측값 개수 확인\n",
    "print(\"결측값 개수:\", train['대리모_여부'].isnull().sum())\n",
    "\n",
    "# 결측값을 0으로 채우기\n",
    "train['대리모_여부'].fillna(-1, inplace=True)\n",
    "test['대리모_여부'].fillna(-1, inplace=True)\n",
    "\n",
    "# 결측값 개수 확인\n",
    "print(\"결측값 개수:\", train['대리모_여부'].isnull().sum())"
   ]
  },
  {
   "cell_type": "markdown",
   "metadata": {},
   "source": [
    "### 61. PGD_시술_여부"
   ]
  },
  {
   "cell_type": "markdown",
   "metadata": {},
   "source": [
    "해당 주기가 PGD 치료로 분류되는지 여부"
   ]
  },
  {
   "cell_type": "code",
   "execution_count": 1484,
   "metadata": {},
   "outputs": [
    {
     "name": "stdout",
     "output_type": "stream",
     "text": [
      "\n",
      "PGD_시술_여부별 임신_성공_여부 비율 및 갯수\n",
      "\n",
      "                 0         1     0    1  Total\n",
      "variable                                      \n",
      "-10.0     0.994169  0.005831   341    2    343\n",
      " 1.0      0.720514  0.279486  1570  609   2179\n"
     ]
    }
   ],
   "source": [
    "value_counts_ratio(train, 'PGD_시술_여부')"
   ]
  },
  {
   "cell_type": "code",
   "execution_count": 1485,
   "metadata": {},
   "outputs": [
    {
     "data": {
      "text/plain": [
       "253822"
      ]
     },
     "execution_count": 1485,
     "metadata": {},
     "output_type": "execute_result"
    }
   ],
   "source": [
    "train['PGD_시술_여부'].isnull().sum()"
   ]
  },
  {
   "cell_type": "code",
   "execution_count": 1486,
   "metadata": {},
   "outputs": [
    {
     "name": "stdout",
     "output_type": "stream",
     "text": [
      "결측값 개수: 253822\n",
      "결측값 개수: 0\n"
     ]
    }
   ],
   "source": [
    "# 결측값 개수 확인\n",
    "print(\"결측값 개수:\", train['PGD_시술_여부'].isnull().sum())\n",
    "\n",
    "# 결측값을 0으로 채우기\n",
    "train['PGD_시술_여부'].fillna(0, inplace=True)\n",
    "test['PGD_시술_여부'].fillna(0, inplace=True)\n",
    "\n",
    "# 결측값 개수 확인\n",
    "print(\"결측값 개수:\", train['PGD_시술_여부'].isnull().sum())"
   ]
  },
  {
   "cell_type": "markdown",
   "metadata": {},
   "source": [
    "### 62. PGS_시술_여부"
   ]
  },
  {
   "cell_type": "markdown",
   "metadata": {},
   "source": [
    "해당 주기가 PGS 치료로 분류되는지 여부"
   ]
  },
  {
   "cell_type": "code",
   "execution_count": 1487,
   "metadata": {},
   "outputs": [
    {
     "name": "stdout",
     "output_type": "stream",
     "text": [
      "\n",
      "PGS_시술_여부별 임신_성공_여부 비율 및 갯수\n",
      "\n",
      "                 0         1     0    1  Total\n",
      "variable                                      \n",
      "-10.0     0.994169  0.005831   341    2    343\n",
      " 1.0      0.793675  0.206325  1531  398   1929\n"
     ]
    }
   ],
   "source": [
    "value_counts_ratio(train, 'PGS_시술_여부')"
   ]
  },
  {
   "cell_type": "code",
   "execution_count": 1488,
   "metadata": {},
   "outputs": [
    {
     "name": "stdout",
     "output_type": "stream",
     "text": [
      "결측값 개수: 254072\n",
      "결측값 개수: 0\n"
     ]
    }
   ],
   "source": [
    "# 결측값 개수 확인\n",
    "print(\"결측값 개수:\", train['PGS_시술_여부'].isnull().sum())\n",
    "\n",
    "# 결측값을 0으로 채우기\n",
    "train['PGS_시술_여부'].fillna(0, inplace=True)\n",
    "test['PGS_시술_여부'].fillna(0, inplace=True)\n",
    "\n",
    "# 결측값 개수 확인\n",
    "print(\"결측값 개수:\", train['PGS_시술_여부'].isnull().sum())"
   ]
  },
  {
   "cell_type": "code",
   "execution_count": 1489,
   "metadata": {},
   "outputs": [
    {
     "name": "stdout",
     "output_type": "stream",
     "text": [
      "Grouped by: PGD_시술_여부, PGS_시술_여부\n",
      "\n",
      "            group  '임신_성공_여부' count     ratio   Total\n",
      "0  (-10.0, -10.0)                 2  0.005831     343\n",
      "1      (0.0, 0.0)             65217  0.258908  251893\n",
      "2      (0.0, 1.0)               398  0.206325    1929\n",
      "3      (1.0, 0.0)               609  0.279486    2179\n"
     ]
    }
   ],
   "source": [
    "summarize_group(train, ['PGD_시술_여부', 'PGS_시술_여부'])"
   ]
  },
  {
   "cell_type": "markdown",
   "metadata": {},
   "source": [
    "### 63. 난자_채취_경과일"
   ]
  },
  {
   "cell_type": "markdown",
   "metadata": {},
   "source": [
    "첫 시점으로부터 난자 채취까지 경과한 일수"
   ]
  },
  {
   "cell_type": "code",
   "execution_count": 1490,
   "metadata": {},
   "outputs": [
    {
     "name": "stdout",
     "output_type": "stream",
     "text": [
      "\n",
      "난자_채취_경과일별 임신_성공_여부 비율 및 갯수\n",
      "\n",
      "                 0         1       0      1   Total\n",
      "variable                                           \n",
      "-10.0     0.994169  0.005831     341      2     343\n",
      " 0.0      0.735741  0.264259  146063  52462  198525\n"
     ]
    }
   ],
   "source": [
    "value_counts_ratio(train, '난자_채취_경과일')"
   ]
  },
  {
   "cell_type": "code",
   "execution_count": 1491,
   "metadata": {},
   "outputs": [
    {
     "name": "stdout",
     "output_type": "stream",
     "text": [
      "결측값 개수: 57476\n",
      "결측값 개수: 0\n"
     ]
    }
   ],
   "source": [
    "print(\"결측값 개수:\", train['난자_채취_경과일'].isnull().sum())\n",
    "\n",
    "train['난자_채취_경과일'].fillna(-1, inplace=True)\n",
    "test['난자_채취_경과일'].fillna(-1, inplace=True)\n",
    "\n",
    "print(\"결측값 개수:\", train['난자_채취_경과일'].isnull().sum())"
   ]
  },
  {
   "cell_type": "markdown",
   "metadata": {},
   "source": [
    "### 64. 난자_해동_경과일"
   ]
  },
  {
   "cell_type": "markdown",
   "metadata": {},
   "source": [
    "첫 시점으로부터 난자 해동까지 경과한 일수"
   ]
  },
  {
   "cell_type": "code",
   "execution_count": 1492,
   "metadata": {},
   "outputs": [
    {
     "name": "stdout",
     "output_type": "stream",
     "text": [
      "\n",
      "난자_해동_경과일별 임신_성공_여부 비율 및 갯수\n",
      "\n",
      "                 0         1       0      1  Total\n",
      "variable                                          \n",
      "-10.0     0.994169  0.005831   341.0    2.0    343\n",
      " 0.0      0.777390  0.222610  1114.0  319.0   1433\n",
      " 1.0      1.000000  0.000000     2.0    0.0      2\n"
     ]
    }
   ],
   "source": [
    "value_counts_ratio(train, '난자_해동_경과일')"
   ]
  },
  {
   "cell_type": "code",
   "execution_count": 1493,
   "metadata": {},
   "outputs": [
    {
     "data": {
      "text/plain": [
       "254566"
      ]
     },
     "execution_count": 1493,
     "metadata": {},
     "output_type": "execute_result"
    }
   ],
   "source": [
    "train['난자_해동_경과일'].isnull().sum()"
   ]
  },
  {
   "cell_type": "code",
   "execution_count": 1494,
   "metadata": {},
   "outputs": [
    {
     "name": "stdout",
     "output_type": "stream",
     "text": [
      "결측값 개수: 254566\n",
      "결측값 개수: 0\n"
     ]
    }
   ],
   "source": [
    "print(\"결측값 개수:\", train['난자_해동_경과일'].isnull().sum())\n",
    "\n",
    "train['난자_해동_경과일'].fillna(-1, inplace=True)\n",
    "test['난자_해동_경과일'].fillna(-1, inplace=True)\n",
    "\n",
    "print(\"결측값 개수:\", train['난자_해동_경과일'].isnull().sum())"
   ]
  },
  {
   "cell_type": "markdown",
   "metadata": {},
   "source": [
    "### 65. 난자_혼합_경과일"
   ]
  },
  {
   "cell_type": "markdown",
   "metadata": {},
   "source": [
    "첫 시점으로부터 난자와 정자 혼합까지 경과한 일수"
   ]
  },
  {
   "cell_type": "code",
   "execution_count": 1495,
   "metadata": {},
   "outputs": [
    {
     "name": "stdout",
     "output_type": "stream",
     "text": [
      "\n",
      "난자_혼합_경과일별 임신_성공_여부 비율 및 갯수\n",
      "\n",
      "                 0         1         0        1   Total\n",
      "variable                                               \n",
      "-10.0     0.994169  0.005831     341.0      2.0     343\n",
      " 0.0      0.722879  0.277121  145937.0  55946.0  201883\n",
      " 1.0      0.846311  0.153689     413.0     75.0     488\n",
      " 2.0      0.754902  0.245098      77.0     25.0     102\n",
      " 3.0      0.720588  0.279412      49.0     19.0      68\n",
      " 4.0      0.600000  0.400000       3.0      2.0       5\n",
      " 5.0      0.791667  0.208333      19.0      5.0      24\n",
      " 6.0      1.000000  0.000000       8.0      0.0       8\n",
      " 7.0      1.000000  0.000000       1.0      0.0       1\n"
     ]
    }
   ],
   "source": [
    "value_counts_ratio(train, '난자_혼합_경과일')"
   ]
  },
  {
   "cell_type": "code",
   "execution_count": 1496,
   "metadata": {},
   "outputs": [
    {
     "data": {
      "text/plain": [
       "53422"
      ]
     },
     "execution_count": 1496,
     "metadata": {},
     "output_type": "execute_result"
    }
   ],
   "source": [
    "train['난자_혼합_경과일'].isnull().sum()"
   ]
  },
  {
   "cell_type": "code",
   "execution_count": 1497,
   "metadata": {},
   "outputs": [
    {
     "name": "stdout",
     "output_type": "stream",
     "text": [
      "결측값 개수: 53422\n",
      "결측값 개수: 0\n"
     ]
    }
   ],
   "source": [
    "print(\"결측값 개수:\", train['난자_혼합_경과일'].isnull().sum())\n",
    "\n",
    "train['난자_혼합_경과일'].fillna(-1, inplace=True)\n",
    "test['난자_혼합_경과일'].fillna(-1, inplace=True)\n",
    "\n",
    "print(\"결측값 개수:\", train['난자_혼합_경과일'].isnull().sum())"
   ]
  },
  {
   "cell_type": "code",
   "execution_count": 1498,
   "metadata": {},
   "outputs": [
    {
     "name": "stdout",
     "output_type": "stream",
     "text": [
      "\n",
      "난자_혼합_경과일별 임신_성공_여부 비율 및 갯수\n",
      "\n",
      "                 0         1         0        1   Total\n",
      "variable                                               \n",
      "-10.0     0.994169  0.005831     341.0      2.0     343\n",
      "-1.0      0.809966  0.190034   43270.0  10152.0   53422\n",
      " 0.0      0.722879  0.277121  145937.0  55946.0  201883\n",
      " 1.0      0.846311  0.153689     413.0     75.0     488\n",
      " 2.0      0.754902  0.245098      77.0     25.0     102\n",
      " 3.0      0.720588  0.279412      49.0     19.0      68\n",
      " 4.0      0.600000  0.400000       3.0      2.0       5\n",
      " 5.0      0.791667  0.208333      19.0      5.0      24\n",
      " 6.0      1.000000  0.000000       8.0      0.0       8\n",
      " 7.0      1.000000  0.000000       1.0      0.0       1\n"
     ]
    }
   ],
   "source": [
    "value_counts_ratio(train, '난자_혼합_경과일')"
   ]
  },
  {
   "cell_type": "markdown",
   "metadata": {},
   "source": [
    "### 66. 배아_이식_경과일"
   ]
  },
  {
   "cell_type": "markdown",
   "metadata": {},
   "source": [
    "첫 시점으로부터 배아 이식까지 경과한 일수"
   ]
  },
  {
   "cell_type": "code",
   "execution_count": 1499,
   "metadata": {},
   "outputs": [
    {
     "name": "stdout",
     "output_type": "stream",
     "text": [
      "\n",
      "배아_이식_경과일별 임신_성공_여부 비율 및 갯수\n",
      "\n",
      "                 0         1      0      1  Total\n",
      "variable                                         \n",
      "-10.0     0.994169  0.005831    341      2    343\n",
      " 0.0      0.749016  0.250984  18649   6249  24898\n",
      " 1.0      0.812954  0.187046   4920   1132   6052\n",
      " 2.0      0.787519  0.212481  27623   7453  35076\n",
      " 3.0      0.741234  0.258766  42933  14988  57921\n",
      " 4.0      0.655563  0.344437   2952   1551   4503\n",
      " 5.0      0.595541  0.404459  48511  32946  81457\n",
      " 6.0      0.699964  0.300036   1941    832   2773\n",
      " 7.0      0.588889  0.411111     53     37     90\n"
     ]
    }
   ],
   "source": [
    "value_counts_ratio(train, '배아_이식_경과일')"
   ]
  },
  {
   "cell_type": "code",
   "execution_count": 1500,
   "metadata": {},
   "outputs": [
    {
     "name": "stdout",
     "output_type": "stream",
     "text": [
      "결측값 개수: 43231\n",
      "결측값 개수: 0\n"
     ]
    }
   ],
   "source": [
    "print(\"결측값 개수:\", train['배아_이식_경과일'].isnull().sum())\n",
    "\n",
    "train['배아_이식_경과일'].fillna(-1, inplace=True)\n",
    "test['배아_이식_경과일'].fillna(-1, inplace=True)\n",
    "\n",
    "print(\"결측값 개수:\", train['배아_이식_경과일'].isnull().sum())"
   ]
  },
  {
   "cell_type": "markdown",
   "metadata": {},
   "source": [
    "### 67. 배아_해동_경과일"
   ]
  },
  {
   "cell_type": "markdown",
   "metadata": {},
   "source": [
    "첫 시점으로부터 배아 해동까지 경과한 일수"
   ]
  },
  {
   "cell_type": "code",
   "execution_count": 1501,
   "metadata": {},
   "outputs": [
    {
     "name": "stdout",
     "output_type": "stream",
     "text": [
      "\n",
      "배아_해동_경과일별 임신_성공_여부 비율 및 갯수\n",
      "\n",
      "                 0         1        0       1  Total\n",
      "variable                                            \n",
      "-10.0     0.994169  0.005831    341.0     2.0    343\n",
      " 0.0      0.770356  0.229644  30654.0  9138.0  39792\n",
      " 1.0      0.837838  0.162162     31.0     6.0     37\n",
      " 2.0      0.840659  0.159341    153.0    29.0    182\n",
      " 3.0      0.890244  0.109756    146.0    18.0    164\n",
      " 4.0      1.000000  0.000000     12.0     0.0     12\n",
      " 5.0      0.785714  0.214286    110.0    30.0    140\n",
      " 6.0      0.833333  0.166667     25.0     5.0     30\n",
      " 7.0      1.000000  0.000000      3.0     0.0      3\n"
     ]
    }
   ],
   "source": [
    "value_counts_ratio(train, '배아_해동_경과일')"
   ]
  },
  {
   "cell_type": "code",
   "execution_count": 1502,
   "metadata": {},
   "outputs": [
    {
     "data": {
      "text/plain": [
       "배아_해동_경과일\n",
       " 0.0     13744\n",
       "-10.0      122\n",
       " 3.0        59\n",
       " 2.0        57\n",
       " 5.0        55\n",
       " 1.0        17\n",
       " 6.0         7\n",
       " 4.0         4\n",
       "Name: count, dtype: int64"
      ]
     },
     "execution_count": 1502,
     "metadata": {},
     "output_type": "execute_result"
    }
   ],
   "source": [
    "test['배아_해동_경과일'].value_counts()"
   ]
  },
  {
   "cell_type": "code",
   "execution_count": 1503,
   "metadata": {},
   "outputs": [
    {
     "name": "stdout",
     "output_type": "stream",
     "text": [
      "결측값 개수: 215641\n",
      "결측값 개수: 0\n"
     ]
    }
   ],
   "source": [
    "print(\"결측값 개수:\", train['배아_해동_경과일'].isnull().sum())\n",
    "\n",
    "train['배아_해동_경과일'].fillna(-1, inplace=True)\n",
    "test['배아_해동_경과일'].fillna(-1, inplace=True)\n",
    "\n",
    "print(\"결측값 개수:\", train['배아_해동_경과일'].isnull().sum())"
   ]
  },
  {
   "cell_type": "code",
   "execution_count": 1504,
   "metadata": {},
   "outputs": [
    {
     "name": "stdout",
     "output_type": "stream",
     "text": [
      "\n",
      "배아_해동_경과일별 임신_성공_여부 비율 및 갯수\n",
      "\n",
      "                 0         1         0        1   Total\n",
      "variable                                               \n",
      "-10.0     0.994169  0.005831     341.0      2.0     343\n",
      "-1.0      0.735681  0.264319  158643.0  56998.0  215641\n",
      " 0.0      0.770356  0.229644   30654.0   9138.0   39792\n",
      " 1.0      0.837838  0.162162      31.0      6.0      37\n",
      " 2.0      0.840659  0.159341     153.0     29.0     182\n",
      " 3.0      0.890244  0.109756     146.0     18.0     164\n",
      " 4.0      1.000000  0.000000      12.0      0.0      12\n",
      " 5.0      0.785714  0.214286     110.0     30.0     140\n",
      " 6.0      0.833333  0.166667      25.0      5.0      30\n",
      " 7.0      1.000000  0.000000       3.0      0.0       3\n"
     ]
    }
   ],
   "source": [
    "value_counts_ratio(train, '배아_해동_경과일')"
   ]
  },
  {
   "cell_type": "code",
   "execution_count": 1505,
   "metadata": {},
   "outputs": [
    {
     "name": "stdout",
     "output_type": "stream",
     "text": [
      "<class 'pandas.core.frame.DataFrame'>\n",
      "RangeIndex: 256344 entries, 0 to 256343\n",
      "Data columns (total 85 columns):\n",
      " #   Column                 Non-Null Count   Dtype  \n",
      "---  ------                 --------------   -----  \n",
      " 0   ID                     256344 non-null  object \n",
      " 1   시술_당시_나이               256001 non-null  float64\n",
      " 2   임신_시도_또는_마지막_임신_경과_연수  256344 non-null  float64\n",
      " 3   배란_자극_여부               256344 non-null  int64  \n",
      " 4   단일_배아_이식_여부            256344 non-null  float64\n",
      " 5   착상_전_유전_검사_사용_여부       256344 non-null  float64\n",
      " 6   착상_전_유전_진단_사용_여부       256344 non-null  float64\n",
      " 7   남성_주_불임_원인             256344 non-null  int64  \n",
      " 8   남성_부_불임_원인             256344 non-null  int64  \n",
      " 9   여성_주_불임_원인             256344 non-null  int64  \n",
      " 10  여성_부_불임_원인             256344 non-null  int64  \n",
      " 11  부부_주_불임_원인             256344 non-null  int64  \n",
      " 12  부부_부_불임_원인             256344 non-null  int64  \n",
      " 13  불명확_불임_원인              256344 non-null  int64  \n",
      " 14  불임_원인_-_난관_질환          256344 non-null  int64  \n",
      " 15  불임_원인_-_남성_요인          256344 non-null  int64  \n",
      " 16  불임_원인_-_배란_장애          256344 non-null  int64  \n",
      " 17  불임_원인_-_자궁경부_문제        256344 non-null  int64  \n",
      " 18  불임_원인_-_자궁내막증          256344 non-null  int64  \n",
      " 19  불임_원인_-_정자_농도          256344 non-null  int64  \n",
      " 20  불임_원인_-_정자_운동성         256344 non-null  int64  \n",
      " 21  불임_원인_-_정자_형태          256344 non-null  int64  \n",
      " 22  총_시술_횟수                256001 non-null  float64\n",
      " 23  클리닉_내_총_시술_횟수          256001 non-null  float64\n",
      " 24  IVF_시술_횟수              256001 non-null  float64\n",
      " 25  DI_시술_횟수               256001 non-null  float64\n",
      " 26  총_임신_횟수                256001 non-null  float64\n",
      " 27  IVF_임신_횟수              256001 non-null  float64\n",
      " 28  DI_임신_횟수               256001 non-null  float64\n",
      " 29  총_출산_횟수                256001 non-null  float64\n",
      " 30  IVF_출산_횟수              256001 non-null  float64\n",
      " 31  DI_출산_횟수               256001 non-null  float64\n",
      " 32  총_생성_배아_수              256344 non-null  float64\n",
      " 33  미세주입된_난자_수             256344 non-null  float64\n",
      " 34  미세주입에서_생성된_배아_수        256344 non-null  float64\n",
      " 35  이식된_배아_수               256344 non-null  float64\n",
      " 36  미세주입_배아_이식_수           256344 non-null  float64\n",
      " 37  저장된_배아_수               256344 non-null  float64\n",
      " 38  미세주입_후_저장된_배아_수        256344 non-null  float64\n",
      " 39  해동된_배아_수               256344 non-null  float64\n",
      " 40  해동_난자_수                256344 non-null  float64\n",
      " 41  수집된_신선_난자_수            256344 non-null  float64\n",
      " 42  저장된_신선_난자_수            256344 non-null  float64\n",
      " 43  혼합된_난자_수               256344 non-null  float64\n",
      " 44  파트너_정자와_혼합된_난자_수       256344 non-null  float64\n",
      " 45  기증자_정자와_혼합된_난자_수       256344 non-null  float64\n",
      " 46  난자_기증자_나이              256344 non-null  int64  \n",
      " 47  정자_기증자_나이              256344 non-null  int64  \n",
      " 48  동결_배아_사용_여부            256344 non-null  float64\n",
      " 49  신선_배아_사용_여부            256344 non-null  float64\n",
      " 50  기증_배아_사용_여부            256344 non-null  float64\n",
      " 51  대리모_여부                 256344 non-null  float64\n",
      " 52  PGD_시술_여부              256344 non-null  float64\n",
      " 53  PGS_시술_여부              256344 non-null  float64\n",
      " 54  난자_채취_경과일              256344 non-null  float64\n",
      " 55  난자_해동_경과일              256344 non-null  float64\n",
      " 56  난자_혼합_경과일              256344 non-null  float64\n",
      " 57  배아_이식_경과일              256344 non-null  float64\n",
      " 58  배아_해동_경과일              256344 non-null  float64\n",
      " 59  임신_성공_여부               256344 non-null  int64  \n",
      " 60  시술_유형_IVF              256344 non-null  int32  \n",
      " 61  시술_유형_DI               256344 non-null  int32  \n",
      " 62  특정_시술_유형_AH            256344 non-null  int32  \n",
      " 63  특정_시술_유형_BLASTOCYST    256344 non-null  int32  \n",
      " 64  특정_시술_유형_GenericDI     256344 non-null  int32  \n",
      " 65  특정_시술_유형_ICI           256344 non-null  int32  \n",
      " 66  특정_시술_유형_ICSI          256344 non-null  int32  \n",
      " 67  특정_시술_유형_IUI           256344 non-null  int32  \n",
      " 68  특정_시술_유형_IVF           256344 non-null  int32  \n",
      " 69  특정_시술_유형_IVI           256344 non-null  int32  \n",
      " 70  배아_생성_주요_이유_기증용        256344 non-null  int32  \n",
      " 71  배아_생성_주요_이유_난자 저장용     256344 non-null  int32  \n",
      " 72  배아_생성_주요_이유_배아 저장용     256344 non-null  int32  \n",
      " 73  배아_생성_주요_이유_현재 시술용     256344 non-null  int32  \n",
      " 74  IVF_임신_시술_비율           256344 non-null  float64\n",
      " 75  DI_임신_시술_비율            256344 non-null  float64\n",
      " 76  임신_성공률                 256344 non-null  float64\n",
      " 77  저장된_신선_난자_비율           256344 non-null  float64\n",
      " 78  기증자_정자_비율              256344 non-null  float64\n",
      " 79  파트너_정자_비율              256344 non-null  float64\n",
      " 80  난자_출처_기증 제공            256344 non-null  int32  \n",
      " 81  난자_출처_본인 제공            256344 non-null  int32  \n",
      " 82  정자_출처_배우자 제공           256344 non-null  int32  \n",
      " 83  정자_출처_기증 제공            256344 non-null  int32  \n",
      " 84  정자_출처_미할당              256344 non-null  int32  \n",
      "dtypes: float64(46), int32(19), int64(19), object(1)\n",
      "memory usage: 147.7+ MB\n"
     ]
    }
   ],
   "source": [
    "train.info()"
   ]
  },
  {
   "cell_type": "code",
   "execution_count": 1506,
   "metadata": {},
   "outputs": [],
   "source": [
    "import pandas as pd\n",
    "import numpy as np\n",
    "\n",
    "# 파생 변수 생성 함수\n",
    "def create_features(df):\n",
    "    # 총 배아 생성 비율\n",
    "    df['생성_배아_대비_이식_배아_비율'] = np.where(df['총_생성_배아_수'] != 0, df['이식된_배아_수'] / df['총_생성_배아_수'], -1)\n",
    "\n",
    "    # 미세주입 배아 이식 비율\n",
    "    df['ICSI_배아_이식_비율'] = np.where(df['미세주입에서_생성된_배아_수'] != 0, df['미세주입_배아_이식_수'] / df['미세주입에서_생성된_배아_수'], -1)\n",
    "\n",
    "    # 이식된 배아 중 ICSI 배아가 이식된 비율\n",
    "    df['이식된_배아중_ICSI_배아_비율'] = np.where(df['이식된_배아_수'] != 0, df['미세주입에서_생성된_배아_수'] / df['이식된_배아_수'], -1)\n",
    "\n",
    "    # 저장된 배아 비율\n",
    "    df['저장된_배아_비율'] = np.where(df['총_생성_배아_수'] != 0, df['저장된_배아_수'] / df['총_생성_배아_수'], -1)\n",
    "    \n",
    "    # 소수점 둘째 자리까지 반올림\n",
    "    df = df.round(2)\n",
    "    \n",
    "    # inf, -inf 값을 -1로 대체\n",
    "    df.replace([np.inf, -np.inf], -1, inplace=True)\n",
    "    \n",
    "    return df\n",
    "\n",
    "# 파생 변수 생성\n",
    "train = create_features(train)\n",
    "test = create_features(test)"
   ]
  },
  {
   "cell_type": "markdown",
   "metadata": {},
   "source": [
    "### 68. 임신_성공_여부"
   ]
  },
  {
   "cell_type": "markdown",
   "metadata": {},
   "source": [
    "해당 시술로부터 임신 성공 여부"
   ]
  },
  {
   "cell_type": "code",
   "execution_count": 1507,
   "metadata": {},
   "outputs": [
    {
     "data": {
      "text/plain": [
       "임신_성공_여부\n",
       "0    190118\n",
       "1     66226\n",
       "Name: count, dtype: int64"
      ]
     },
     "execution_count": 1507,
     "metadata": {},
     "output_type": "execute_result"
    }
   ],
   "source": [
    "train['임신_성공_여부'].value_counts()"
   ]
  },
  {
   "cell_type": "markdown",
   "metadata": {},
   "source": [
    "## 변수 상태 확인"
   ]
  },
  {
   "cell_type": "code",
   "execution_count": 1508,
   "metadata": {},
   "outputs": [
    {
     "name": "stdout",
     "output_type": "stream",
     "text": [
      "<class 'pandas.core.frame.DataFrame'>\n",
      "RangeIndex: 256344 entries, 0 to 256343\n",
      "Data columns (total 89 columns):\n",
      " #   Column                 Non-Null Count   Dtype  \n",
      "---  ------                 --------------   -----  \n",
      " 0   ID                     256344 non-null  object \n",
      " 1   시술_당시_나이               256001 non-null  float64\n",
      " 2   임신_시도_또는_마지막_임신_경과_연수  256344 non-null  float64\n",
      " 3   배란_자극_여부               256344 non-null  int64  \n",
      " 4   단일_배아_이식_여부            256344 non-null  float64\n",
      " 5   착상_전_유전_검사_사용_여부       256344 non-null  float64\n",
      " 6   착상_전_유전_진단_사용_여부       256344 non-null  float64\n",
      " 7   남성_주_불임_원인             256344 non-null  int64  \n",
      " 8   남성_부_불임_원인             256344 non-null  int64  \n",
      " 9   여성_주_불임_원인             256344 non-null  int64  \n",
      " 10  여성_부_불임_원인             256344 non-null  int64  \n",
      " 11  부부_주_불임_원인             256344 non-null  int64  \n",
      " 12  부부_부_불임_원인             256344 non-null  int64  \n",
      " 13  불명확_불임_원인              256344 non-null  int64  \n",
      " 14  불임_원인_-_난관_질환          256344 non-null  int64  \n",
      " 15  불임_원인_-_남성_요인          256344 non-null  int64  \n",
      " 16  불임_원인_-_배란_장애          256344 non-null  int64  \n",
      " 17  불임_원인_-_자궁경부_문제        256344 non-null  int64  \n",
      " 18  불임_원인_-_자궁내막증          256344 non-null  int64  \n",
      " 19  불임_원인_-_정자_농도          256344 non-null  int64  \n",
      " 20  불임_원인_-_정자_운동성         256344 non-null  int64  \n",
      " 21  불임_원인_-_정자_형태          256344 non-null  int64  \n",
      " 22  총_시술_횟수                256001 non-null  float64\n",
      " 23  클리닉_내_총_시술_횟수          256001 non-null  float64\n",
      " 24  IVF_시술_횟수              256001 non-null  float64\n",
      " 25  DI_시술_횟수               256001 non-null  float64\n",
      " 26  총_임신_횟수                256001 non-null  float64\n",
      " 27  IVF_임신_횟수              256001 non-null  float64\n",
      " 28  DI_임신_횟수               256001 non-null  float64\n",
      " 29  총_출산_횟수                256001 non-null  float64\n",
      " 30  IVF_출산_횟수              256001 non-null  float64\n",
      " 31  DI_출산_횟수               256001 non-null  float64\n",
      " 32  총_생성_배아_수              256344 non-null  float64\n",
      " 33  미세주입된_난자_수             256344 non-null  float64\n",
      " 34  미세주입에서_생성된_배아_수        256344 non-null  float64\n",
      " 35  이식된_배아_수               256344 non-null  float64\n",
      " 36  미세주입_배아_이식_수           256344 non-null  float64\n",
      " 37  저장된_배아_수               256344 non-null  float64\n",
      " 38  미세주입_후_저장된_배아_수        256344 non-null  float64\n",
      " 39  해동된_배아_수               256344 non-null  float64\n",
      " 40  해동_난자_수                256344 non-null  float64\n",
      " 41  수집된_신선_난자_수            256344 non-null  float64\n",
      " 42  저장된_신선_난자_수            256344 non-null  float64\n",
      " 43  혼합된_난자_수               256344 non-null  float64\n",
      " 44  파트너_정자와_혼합된_난자_수       256344 non-null  float64\n",
      " 45  기증자_정자와_혼합된_난자_수       256344 non-null  float64\n",
      " 46  난자_기증자_나이              256344 non-null  int64  \n",
      " 47  정자_기증자_나이              256344 non-null  int64  \n",
      " 48  동결_배아_사용_여부            256344 non-null  float64\n",
      " 49  신선_배아_사용_여부            256344 non-null  float64\n",
      " 50  기증_배아_사용_여부            256344 non-null  float64\n",
      " 51  대리모_여부                 256344 non-null  float64\n",
      " 52  PGD_시술_여부              256344 non-null  float64\n",
      " 53  PGS_시술_여부              256344 non-null  float64\n",
      " 54  난자_채취_경과일              256344 non-null  float64\n",
      " 55  난자_해동_경과일              256344 non-null  float64\n",
      " 56  난자_혼합_경과일              256344 non-null  float64\n",
      " 57  배아_이식_경과일              256344 non-null  float64\n",
      " 58  배아_해동_경과일              256344 non-null  float64\n",
      " 59  임신_성공_여부               256344 non-null  int64  \n",
      " 60  시술_유형_IVF              256344 non-null  int32  \n",
      " 61  시술_유형_DI               256344 non-null  int32  \n",
      " 62  특정_시술_유형_AH            256344 non-null  int32  \n",
      " 63  특정_시술_유형_BLASTOCYST    256344 non-null  int32  \n",
      " 64  특정_시술_유형_GenericDI     256344 non-null  int32  \n",
      " 65  특정_시술_유형_ICI           256344 non-null  int32  \n",
      " 66  특정_시술_유형_ICSI          256344 non-null  int32  \n",
      " 67  특정_시술_유형_IUI           256344 non-null  int32  \n",
      " 68  특정_시술_유형_IVF           256344 non-null  int32  \n",
      " 69  특정_시술_유형_IVI           256344 non-null  int32  \n",
      " 70  배아_생성_주요_이유_기증용        256344 non-null  int32  \n",
      " 71  배아_생성_주요_이유_난자 저장용     256344 non-null  int32  \n",
      " 72  배아_생성_주요_이유_배아 저장용     256344 non-null  int32  \n",
      " 73  배아_생성_주요_이유_현재 시술용     256344 non-null  int32  \n",
      " 74  IVF_임신_시술_비율           256344 non-null  float64\n",
      " 75  DI_임신_시술_비율            256344 non-null  float64\n",
      " 76  임신_성공률                 256344 non-null  float64\n",
      " 77  저장된_신선_난자_비율           256344 non-null  float64\n",
      " 78  기증자_정자_비율              256344 non-null  float64\n",
      " 79  파트너_정자_비율              256344 non-null  float64\n",
      " 80  난자_출처_기증 제공            256344 non-null  int32  \n",
      " 81  난자_출처_본인 제공            256344 non-null  int32  \n",
      " 82  정자_출처_배우자 제공           256344 non-null  int32  \n",
      " 83  정자_출처_기증 제공            256344 non-null  int32  \n",
      " 84  정자_출처_미할당              256344 non-null  int32  \n",
      " 85  생성_배아_대비_이식_배아_비율      256344 non-null  float64\n",
      " 86  ICSI_배아_이식_비율          256344 non-null  float64\n",
      " 87  이식된_배아중_ICSI_배아_비율     256344 non-null  float64\n",
      " 88  저장된_배아_비율              256344 non-null  float64\n",
      "dtypes: float64(50), int32(19), int64(19), object(1)\n",
      "memory usage: 155.5+ MB\n"
     ]
    }
   ],
   "source": [
    "train.info(verbose=True)"
   ]
  },
  {
   "cell_type": "code",
   "execution_count": 1509,
   "metadata": {},
   "outputs": [
    {
     "name": "stdout",
     "output_type": "stream",
     "text": [
      "<class 'pandas.core.frame.DataFrame'>\n",
      "RangeIndex: 90067 entries, 0 to 90066\n",
      "Data columns (total 88 columns):\n",
      " #   Column                 Non-Null Count  Dtype  \n",
      "---  ------                 --------------  -----  \n",
      " 0   ID                     90067 non-null  object \n",
      " 1   시술_당시_나이               89945 non-null  float64\n",
      " 2   임신_시도_또는_마지막_임신_경과_연수  90067 non-null  float64\n",
      " 3   배란_자극_여부               90067 non-null  int64  \n",
      " 4   단일_배아_이식_여부            90067 non-null  float64\n",
      " 5   착상_전_유전_검사_사용_여부       90067 non-null  float64\n",
      " 6   착상_전_유전_진단_사용_여부       90067 non-null  float64\n",
      " 7   남성_주_불임_원인             90067 non-null  int64  \n",
      " 8   남성_부_불임_원인             90067 non-null  int64  \n",
      " 9   여성_주_불임_원인             90067 non-null  int64  \n",
      " 10  여성_부_불임_원인             90067 non-null  int64  \n",
      " 11  부부_주_불임_원인             90067 non-null  int64  \n",
      " 12  부부_부_불임_원인             90067 non-null  int64  \n",
      " 13  불명확_불임_원인              90067 non-null  int64  \n",
      " 14  불임_원인_-_난관_질환          90067 non-null  int64  \n",
      " 15  불임_원인_-_남성_요인          90067 non-null  int64  \n",
      " 16  불임_원인_-_배란_장애          90067 non-null  int64  \n",
      " 17  불임_원인_-_자궁경부_문제        90067 non-null  int64  \n",
      " 18  불임_원인_-_자궁내막증          90067 non-null  int64  \n",
      " 19  불임_원인_-_정자_농도          90067 non-null  int64  \n",
      " 20  불임_원인_-_정자_운동성         90067 non-null  int64  \n",
      " 21  불임_원인_-_정자_형태          90067 non-null  int64  \n",
      " 22  총_시술_횟수                89945 non-null  float64\n",
      " 23  클리닉_내_총_시술_횟수          89945 non-null  float64\n",
      " 24  IVF_시술_횟수              89945 non-null  float64\n",
      " 25  DI_시술_횟수               89945 non-null  float64\n",
      " 26  총_임신_횟수                89945 non-null  float64\n",
      " 27  IVF_임신_횟수              89945 non-null  float64\n",
      " 28  DI_임신_횟수               89945 non-null  float64\n",
      " 29  총_출산_횟수                89945 non-null  float64\n",
      " 30  IVF_출산_횟수              89945 non-null  float64\n",
      " 31  DI_출산_횟수               89945 non-null  float64\n",
      " 32  총_생성_배아_수              90067 non-null  float64\n",
      " 33  미세주입된_난자_수             90067 non-null  float64\n",
      " 34  미세주입에서_생성된_배아_수        90067 non-null  float64\n",
      " 35  이식된_배아_수               90067 non-null  float64\n",
      " 36  미세주입_배아_이식_수           90067 non-null  float64\n",
      " 37  저장된_배아_수               90067 non-null  float64\n",
      " 38  미세주입_후_저장된_배아_수        90067 non-null  float64\n",
      " 39  해동된_배아_수               90067 non-null  float64\n",
      " 40  해동_난자_수                90067 non-null  float64\n",
      " 41  수집된_신선_난자_수            90067 non-null  float64\n",
      " 42  저장된_신선_난자_수            90067 non-null  float64\n",
      " 43  혼합된_난자_수               90067 non-null  float64\n",
      " 44  파트너_정자와_혼합된_난자_수       90067 non-null  float64\n",
      " 45  기증자_정자와_혼합된_난자_수       90067 non-null  float64\n",
      " 46  난자_기증자_나이              90067 non-null  int64  \n",
      " 47  정자_기증자_나이              90067 non-null  int64  \n",
      " 48  동결_배아_사용_여부            90067 non-null  float64\n",
      " 49  신선_배아_사용_여부            90067 non-null  float64\n",
      " 50  기증_배아_사용_여부            90067 non-null  float64\n",
      " 51  대리모_여부                 90067 non-null  float64\n",
      " 52  PGD_시술_여부              90067 non-null  float64\n",
      " 53  PGS_시술_여부              90067 non-null  float64\n",
      " 54  난자_채취_경과일              90067 non-null  float64\n",
      " 55  난자_해동_경과일              90067 non-null  float64\n",
      " 56  난자_혼합_경과일              90067 non-null  float64\n",
      " 57  배아_이식_경과일              90067 non-null  float64\n",
      " 58  배아_해동_경과일              90067 non-null  float64\n",
      " 59  시술_유형_IVF              90067 non-null  int32  \n",
      " 60  시술_유형_DI               90067 non-null  int32  \n",
      " 61  특정_시술_유형_AH            90067 non-null  int32  \n",
      " 62  특정_시술_유형_BLASTOCYST    90067 non-null  int32  \n",
      " 63  특정_시술_유형_GenericDI     90067 non-null  int32  \n",
      " 64  특정_시술_유형_ICI           90067 non-null  int32  \n",
      " 65  특정_시술_유형_ICSI          90067 non-null  int32  \n",
      " 66  특정_시술_유형_IUI           90067 non-null  int32  \n",
      " 67  특정_시술_유형_IVF           90067 non-null  int32  \n",
      " 68  특정_시술_유형_IVI           90067 non-null  int32  \n",
      " 69  배아_생성_주요_이유_기증용        90067 non-null  int32  \n",
      " 70  배아_생성_주요_이유_난자 저장용     90067 non-null  int32  \n",
      " 71  배아_생성_주요_이유_배아 저장용     90067 non-null  int32  \n",
      " 72  배아_생성_주요_이유_현재 시술용     90067 non-null  int32  \n",
      " 73  IVF_임신_시술_비율           90067 non-null  float64\n",
      " 74  DI_임신_시술_비율            90067 non-null  float64\n",
      " 75  임신_성공률                 90067 non-null  float64\n",
      " 76  저장된_신선_난자_비율           90067 non-null  float64\n",
      " 77  기증자_정자_비율              90067 non-null  float64\n",
      " 78  파트너_정자_비율              90067 non-null  float64\n",
      " 79  난자_출처_기증 제공            90067 non-null  int32  \n",
      " 80  난자_출처_본인 제공            90067 non-null  int32  \n",
      " 81  정자_출처_배우자 제공           90067 non-null  int32  \n",
      " 82  정자_출처_기증 제공            90067 non-null  int32  \n",
      " 83  정자_출처_미할당              90067 non-null  int32  \n",
      " 84  생성_배아_대비_이식_배아_비율      90067 non-null  float64\n",
      " 85  ICSI_배아_이식_비율          90067 non-null  float64\n",
      " 86  이식된_배아중_ICSI_배아_비율     90067 non-null  float64\n",
      " 87  저장된_배아_비율              90067 non-null  float64\n",
      "dtypes: float64(50), int32(19), int64(18), object(1)\n",
      "memory usage: 53.9+ MB\n"
     ]
    }
   ],
   "source": [
    "test.info()"
   ]
  },
  {
   "cell_type": "code",
   "execution_count": 1510,
   "metadata": {},
   "outputs": [],
   "source": [
    "# # 결측값을 -1 으로 채우기\n",
    "# train.fillna(-1, inplace=True)\n",
    "# test.fillna(-1, inplace=True)"
   ]
  },
  {
   "cell_type": "markdown",
   "metadata": {},
   "source": [
    "## 데이터 저장"
   ]
  },
  {
   "cell_type": "code",
   "execution_count": 1511,
   "metadata": {},
   "outputs": [],
   "source": [
    "# CSV 파일 저장\n",
    "train.to_csv('../data/Total_train_dataset_51.csv', index=False, encoding='utf-8-sig')\n",
    "test.to_csv('../data/Total_test_dataset_51.csv', index=False, encoding='utf-8-sig')"
   ]
  },
  {
   "cell_type": "markdown",
   "metadata": {},
   "source": [
    "."
   ]
  }
 ],
 "metadata": {
  "kernelspec": {
   "display_name": "Python 3",
   "language": "python",
   "name": "python3"
  },
  "language_info": {
   "codemirror_mode": {
    "name": "ipython",
    "version": 3
   },
   "file_extension": ".py",
   "mimetype": "text/x-python",
   "name": "python",
   "nbconvert_exporter": "python",
   "pygments_lexer": "ipython3",
   "version": "3.11.8"
  }
 },
 "nbformat": 4,
 "nbformat_minor": 2
}
