{
 "cells": [
  {
   "cell_type": "markdown",
   "metadata": {},
   "source": [
    "## 난임 환자 대상 임신 성공 여부 예측"
   ]
  },
  {
   "cell_type": "markdown",
   "metadata": {},
   "source": [
    "### LGAimers 6th 온라인 해커톤"
   ]
  },
  {
   "cell_type": "markdown",
   "metadata": {},
   "source": [
    "Import"
   ]
  },
  {
   "cell_type": "code",
   "execution_count": null,
   "metadata": {},
   "outputs": [],
   "source": [
    "import pandas as pd\n",
    "import optuna\n",
    "from sklearn.preprocessing import OrdinalEncoder\n",
    "from sklearn.model_selection import train_test_split\n",
    "from sklearn.metrics import accuracy_score, f1_score, roc_auc_score, confusion_matrix, ConfusionMatrixDisplay\n",
    "import matplotlib.pyplot as plt\n",
    "import lightgbm as lgb"
   ]
  },
  {
   "cell_type": "markdown",
   "metadata": {},
   "source": [
    "### Data Load"
   ]
  },
  {
   "cell_type": "code",
   "execution_count": null,
   "metadata": {},
   "outputs": [],
   "source": [
    "# 데이터 로드\n",
    "Total_train = pd.read_csv('../data/Total_train_dataset_32.csv')\n",
    "Total_test = pd.read_csv('../data/Total_test_dataset_32.csv')"
   ]
  },
  {
   "cell_type": "code",
   "execution_count": null,
   "metadata": {},
   "outputs": [],
   "source": [
    "# ID 열을 제외한 특성과 타겟 변수 분리\n",
    "Total_X = Total_train.drop(['임신_성공_여부', 'ID'], axis=1)\n",
    "Total_y = Total_train['임신_성공_여부']"
   ]
  },
  {
   "cell_type": "markdown",
   "metadata": {},
   "source": [
    "### 인코딩 "
   ]
  },
  {
   "cell_type": "code",
   "execution_count": null,
   "metadata": {},
   "outputs": [],
   "source": [
    "Total_categorical_columns = [\n",
    "    \"시술_당시_나이\",\n",
    "    \"배란_유도_유형\",\n",
    "    \"난자_출처\",\n",
    "    \"정자_출처\",\n",
    "    \"난자_기증자_나이\",\n",
    "    \"정자_기증자_나이\"\n",
    "]"
   ]
  },
  {
   "cell_type": "code",
   "execution_count": null,
   "metadata": {},
   "outputs": [],
   "source": [
    "# 모든 범주형 변수를 문자열로 변환\n",
    "Total_X[Total_categorical_columns] = Total_X[Total_categorical_columns].astype(str)\n",
    "Total_test[Total_categorical_columns] = Total_test[Total_categorical_columns].astype(str)\n",
    "\n",
    "# OrdinalEncoder를 사용하여 범주형 변수 인코딩\n",
    "Total_encoder = OrdinalEncoder(handle_unknown='use_encoded_value', unknown_value=-1)\n",
    "\n",
    "Total_X[Total_categorical_columns] = Total_encoder.fit_transform(Total_X[Total_categorical_columns])\n",
    "Total_test[Total_categorical_columns] = Total_encoder.transform(Total_test[Total_categorical_columns])"
   ]
  },
  {
   "cell_type": "markdown",
   "metadata": {},
   "source": [
    "## Modeling"
   ]
  },
  {
   "cell_type": "code",
   "execution_count": null,
   "metadata": {},
   "outputs": [],
   "source": [
    "# 데이터 분할\n",
    "Total_X_train, Total_X_test, Total_y_train, Total_y_test = train_test_split(Total_X, Total_y, test_size=0.2, random_state=42)"
   ]
  },
  {
   "cell_type": "markdown",
   "metadata": {},
   "source": [
    "### Total 데이터"
   ]
  },
  {
   "cell_type": "markdown",
   "metadata": {},
   "source": [
    "optuna"
   ]
  },
  {
   "cell_type": "code",
   "execution_count": null,
   "metadata": {},
   "outputs": [
    {
     "name": "stderr",
     "output_type": "stream",
     "text": [
      "[I 2025-02-16 13:42:31,039] A new study created in memory with name: no-name-7426a5be-e245-40ee-a6ff-e6301d27fc06\n",
      "[I 2025-02-16 13:42:40,559] Trial 0 finished with value: 0.7342956504325373 and parameters: {'n_estimators': 2452, 'num_leaves': 646, 'max_depth': 295, 'learning_rate': 0.1506310150441879, 'min_child_samples': 4, 'subsample': 0.6667793661211553, 'colsample_bytree': 0.9777300787314716, 'reg_alpha': 9.781614248096584, 'reg_lambda': 3.4821211122603057}. Best is trial 0 with value: 0.7342956504325373.\n",
      "[I 2025-02-16 13:42:50,239] Trial 1 finished with value: 0.73483596994366 and parameters: {'n_estimators': 1585, 'num_leaves': 2239, 'max_depth': 139, 'learning_rate': 0.19393610653218132, 'min_child_samples': 142, 'subsample': 0.764845699246905, 'colsample_bytree': 0.5975600135919459, 'reg_alpha': 9.30764429632497, 'reg_lambda': 8.3885111738792}. Best is trial 1 with value: 0.73483596994366.\n",
      "[I 2025-02-16 13:43:07,652] Trial 2 finished with value: 0.736850177797556 and parameters: {'n_estimators': 3326, 'num_leaves': 2299, 'max_depth': 140, 'learning_rate': 0.08414769448462212, 'min_child_samples': 167, 'subsample': 0.9395058312882878, 'colsample_bytree': 0.87197366168238, 'reg_alpha': 9.197143491172232, 'reg_lambda': 7.6215572510893415}. Best is trial 2 with value: 0.736850177797556.\n",
      "[I 2025-02-16 13:43:34,172] Trial 3 finished with value: 0.7283277390779583 and parameters: {'n_estimators': 885, 'num_leaves': 1310, 'max_depth': 222, 'learning_rate': 0.050327918029831976, 'min_child_samples': 272, 'subsample': 0.884323875773823, 'colsample_bytree': 0.8550433251461407, 'reg_alpha': 3.551357458214781, 'reg_lambda': 1.9144364443605366}. Best is trial 2 with value: 0.736850177797556.\n",
      "[I 2025-02-16 13:43:48,913] Trial 4 finished with value: 0.731844424075017 and parameters: {'n_estimators': 1380, 'num_leaves': 2868, 'max_depth': 265, 'learning_rate': 0.11278815997049882, 'min_child_samples': 282, 'subsample': 0.7536374113556121, 'colsample_bytree': 0.6700924916713635, 'reg_alpha': 6.857200991984981, 'reg_lambda': 9.64322442636389}. Best is trial 2 with value: 0.736850177797556.\n",
      "[I 2025-02-16 13:44:23,830] Trial 5 finished with value: 0.7179381065037127 and parameters: {'n_estimators': 852, 'num_leaves': 2501, 'max_depth': 236, 'learning_rate': 0.07458746113280436, 'min_child_samples': 189, 'subsample': 0.9606548041703087, 'colsample_bytree': 0.8153553517065597, 'reg_alpha': 1.3931464175163544, 'reg_lambda': 9.157743511225215}. Best is trial 2 with value: 0.736850177797556.\n",
      "[I 2025-02-16 13:44:39,076] Trial 6 finished with value: 0.7350118323860674 and parameters: {'n_estimators': 3482, 'num_leaves': 3073, 'max_depth': 224, 'learning_rate': 0.12382539930971874, 'min_child_samples': 14, 'subsample': 0.8779626493527344, 'colsample_bytree': 0.9595276701550517, 'reg_alpha': 9.060922805405625, 'reg_lambda': 7.427397055375108}. Best is trial 2 with value: 0.736850177797556.\n",
      "[I 2025-02-16 13:44:59,171] Trial 7 finished with value: 0.7348103621910461 and parameters: {'n_estimators': 3376, 'num_leaves': 2003, 'max_depth': 163, 'learning_rate': 0.07844929760974562, 'min_child_samples': 61, 'subsample': 0.7079572522429326, 'colsample_bytree': 0.6515966932376536, 'reg_alpha': 7.645630112617724, 'reg_lambda': 1.0088745984281955}. Best is trial 2 with value: 0.736850177797556.\n"
     ]
    }
   ],
   "source": [
    "# 목적 함수 정의\n",
    "def objective(trial):\n",
    "    param = {\n",
    "        'n_estimators': trial.suggest_int('n_estimators', 1000, 4000)\n",
    "        , 'learning_rate': trial.suggest_float('learning_rate', 0.002, 0.2)\n",
    "        , 'max_depth': trial.suggest_int('max_depth', 3, 15)\n",
    "\n",
    "        , 'alpha': trial.suggest_float('alpha', 0.00001, 0.01, log=True)\n",
    "        , 'gamma': trial.suggest_float('gamma', 0.00001, 0.01, log=True)\n",
    "\n",
    "        , 'reg_alpha' : trial.suggest_float('reg_alpha', 0.3, 1)\n",
    "        , 'reg_lambda' : trial.suggest_float('reg_lambda', 0.5, 1)\n",
    "        \n",
    "        , 'colsample_bytree' : trial.suggest_float('colsample_bytree', 0.5, 1)\n",
    "        , 'subsample' : trial.suggest_float('subsample', 0.1, 1)\n",
    "        , 'objective': 'binary:logistic'  # 이진 분류\n",
    "        , 'tree_method' : \"exact\"        # 트리 메소드\n",
    "\n",
    "        , 'random_state': 42\n",
    "        , 'metric': 'auc'\n",
    "        , 'verbose': -1\n",
    "    }\n",
    "\n",
    "    model = lgb.LGBMClassifier(**param)\n",
    "    model.fit(Total_X_train, Total_y_train)\n",
    "    \n",
    "    y_pred_proba = model.predict_proba(Total_X_test)[:, 1]\n",
    "    \n",
    "    auc = roc_auc_score(Total_y_test, y_pred_proba)\n",
    "    return auc\n",
    "\n",
    "# Optuna 스터디 생성 및 최적화 실행\n",
    "study = optuna.create_study(direction='maximize')\n",
    "study.optimize(objective, n_trials=500)\n",
    "\n",
    "# 최적의 하이퍼파라미터 출력\n",
    "print(\"Best trial:\")\n",
    "trial = study.best_trial\n",
    "print(f\"  Value: {trial.value}\")\n",
    "print(\"  Params: \")\n",
    "for key, value in trial.params.items():\n",
    "    print(f\"    {key}: {value}\")"
   ]
  },
  {
   "cell_type": "markdown",
   "metadata": {},
   "source": [
    "."
   ]
  }
 ],
 "metadata": {
  "kernelspec": {
   "display_name": "Python 3",
   "language": "python",
   "name": "python3"
  },
  "language_info": {
   "codemirror_mode": {
    "name": "ipython",
    "version": 3
   },
   "file_extension": ".py",
   "mimetype": "text/x-python",
   "name": "python",
   "nbconvert_exporter": "python",
   "pygments_lexer": "ipython3",
   "version": "3.7.8"
  }
 },
 "nbformat": 4,
 "nbformat_minor": 2
}
