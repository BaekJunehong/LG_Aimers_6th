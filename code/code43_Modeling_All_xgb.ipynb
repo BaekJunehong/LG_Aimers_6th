{
 "cells": [
  {
   "cell_type": "markdown",
   "metadata": {},
   "source": [
    "## 난임 환자 대상 임신 성공 여부 예측"
   ]
  },
  {
   "cell_type": "markdown",
   "metadata": {},
   "source": [
    "### LGAimers 6th 온라인 해커톤"
   ]
  },
  {
   "cell_type": "markdown",
   "metadata": {},
   "source": [
    "Import"
   ]
  },
  {
   "cell_type": "code",
   "execution_count": 10,
   "metadata": {},
   "outputs": [],
   "source": [
    "import pandas as pd\n",
    "import lightgbm as lgb\n",
    "from sklearn.preprocessing import OrdinalEncoder\n",
    "from sklearn.model_selection import train_test_split\n",
    "from sklearn.metrics import accuracy_score, f1_score, roc_auc_score, confusion_matrix, ConfusionMatrixDisplay\n",
    "import matplotlib.pyplot as plt\n",
    "from sklearn.linear_model import LogisticRegression\n",
    "import lightgbm as lgb\n",
    "import xgboost as xgb\n",
    "from catboost import CatBoostClassifier\n",
    "from sklearn.ensemble import RandomForestClassifier"
   ]
  },
  {
   "cell_type": "markdown",
   "metadata": {},
   "source": [
    "### Data Load"
   ]
  },
  {
   "cell_type": "code",
   "execution_count": 11,
   "metadata": {},
   "outputs": [],
   "source": [
    "# 데이터 로드\n",
    "Total_train = pd.read_csv('../data/Total_train_dataset_43.csv')\n",
    "Total_test = pd.read_csv('../data/Total_test_dataset_43.csv')"
   ]
  },
  {
   "cell_type": "code",
   "execution_count": 12,
   "metadata": {},
   "outputs": [],
   "source": [
    "# ID 열을 제외한 특성과 타겟 변수 분리\n",
    "Total_X = Total_train.drop(['임신_성공_여부', 'ID'], axis=1)\n",
    "Total_y = Total_train['임신_성공_여부']"
   ]
  },
  {
   "cell_type": "markdown",
   "metadata": {},
   "source": [
    "### 인코딩 "
   ]
  },
  {
   "cell_type": "code",
   "execution_count": 13,
   "metadata": {},
   "outputs": [
    {
     "name": "stdout",
     "output_type": "stream",
     "text": [
      "<class 'pandas.core.frame.DataFrame'>\n",
      "RangeIndex: 256344 entries, 0 to 256343\n",
      "Data columns (total 94 columns):\n",
      " #   Column                 Non-Null Count   Dtype  \n",
      "---  ------                 --------------   -----  \n",
      " 0   시술_당시_나이               256344 non-null  object \n",
      " 1   임신_시도_또는_마지막_임신_경과_연수  256344 non-null  float64\n",
      " 2   배란_자극_여부               256344 non-null  int64  \n",
      " 3   단일_배아_이식_여부            256344 non-null  float64\n",
      " 4   착상_전_유전_검사_사용_여부       256344 non-null  float64\n",
      " 5   착상_전_유전_진단_사용_여부       256344 non-null  float64\n",
      " 6   남성_주_불임_원인             256344 non-null  int64  \n",
      " 7   남성_부_불임_원인             256344 non-null  int64  \n",
      " 8   여성_주_불임_원인             256344 non-null  int64  \n",
      " 9   여성_부_불임_원인             256344 non-null  int64  \n",
      " 10  부부_주_불임_원인             256344 non-null  int64  \n",
      " 11  부부_부_불임_원인             256344 non-null  int64  \n",
      " 12  불명확_불임_원인              256344 non-null  int64  \n",
      " 13  불임_원인_-_난관_질환          256344 non-null  int64  \n",
      " 14  불임_원인_-_남성_요인          256344 non-null  int64  \n",
      " 15  불임_원인_-_배란_장애          256344 non-null  int64  \n",
      " 16  불임_원인_-_자궁경부_문제        256344 non-null  int64  \n",
      " 17  불임_원인_-_자궁내막증          256344 non-null  int64  \n",
      " 18  불임_원인_-_정자_농도          256344 non-null  int64  \n",
      " 19  불임_원인_-_정자_면역학적_요인     256344 non-null  int64  \n",
      " 20  불임_원인_-_정자_운동성         256344 non-null  int64  \n",
      " 21  불임_원인_-_정자_형태          256344 non-null  int64  \n",
      " 22  총_시술_횟수                256344 non-null  int64  \n",
      " 23  클리닉_내_총_시술_횟수          256344 non-null  int64  \n",
      " 24  IVF_시술_횟수              256344 non-null  int64  \n",
      " 25  DI_시술_횟수               256344 non-null  int64  \n",
      " 26  총_임신_횟수                256344 non-null  int64  \n",
      " 27  IVF_임신_횟수              256344 non-null  int64  \n",
      " 28  DI_임신_횟수               256344 non-null  int64  \n",
      " 29  총_출산_횟수                256344 non-null  int64  \n",
      " 30  IVF_출산_횟수              256344 non-null  int64  \n",
      " 31  DI_출산_횟수               256344 non-null  int64  \n",
      " 32  총_생성_배아_수              256344 non-null  float64\n",
      " 33  미세주입된_난자_수             256344 non-null  float64\n",
      " 34  미세주입에서_생성된_배아_수        256344 non-null  float64\n",
      " 35  이식된_배아_수               256344 non-null  float64\n",
      " 36  미세주입_배아_이식_수           256344 non-null  float64\n",
      " 37  저장된_배아_수               256344 non-null  float64\n",
      " 38  미세주입_후_저장된_배아_수        256344 non-null  float64\n",
      " 39  해동된_배아_수               256344 non-null  float64\n",
      " 40  해동_난자_수                256344 non-null  float64\n",
      " 41  수집된_신선_난자_수            256344 non-null  float64\n",
      " 42  저장된_신선_난자_수            256344 non-null  float64\n",
      " 43  혼합된_난자_수               256344 non-null  float64\n",
      " 44  파트너_정자와_혼합된_난자_수       256344 non-null  float64\n",
      " 45  기증자_정자와_혼합된_난자_수       256344 non-null  float64\n",
      " 46  난자_기증자_나이              256344 non-null  object \n",
      " 47  정자_기증자_나이              256344 non-null  object \n",
      " 48  동결_배아_사용_여부            256344 non-null  float64\n",
      " 49  신선_배아_사용_여부            256344 non-null  float64\n",
      " 50  기증_배아_사용_여부            256344 non-null  float64\n",
      " 51  대리모_여부                 256344 non-null  float64\n",
      " 52  PGD_시술_여부              256344 non-null  float64\n",
      " 53  PGS_시술_여부              256344 non-null  float64\n",
      " 54  난자_채취_경과일              256344 non-null  float64\n",
      " 55  난자_해동_경과일              256344 non-null  float64\n",
      " 56  난자_혼합_경과일              256344 non-null  float64\n",
      " 57  배아_이식_경과일              256344 non-null  float64\n",
      " 58  배아_해동_경과일              256344 non-null  float64\n",
      " 59  시술_유형_DI               256344 non-null  int64  \n",
      " 60  시술_유형_IVF              256344 non-null  int64  \n",
      " 61  특정_시술_유형_AH            256344 non-null  int64  \n",
      " 62  특정_시술_유형_BLASTOCYST    256344 non-null  int64  \n",
      " 63  특정_시술_유형_GenericDI     256344 non-null  int64  \n",
      " 64  특정_시술_유형_ICI           256344 non-null  int64  \n",
      " 65  특정_시술_유형_ICSI          256344 non-null  int64  \n",
      " 66  특정_시술_유형_IUI           256344 non-null  int64  \n",
      " 67  특정_시술_유형_IVF           256344 non-null  int64  \n",
      " 68  특정_시술_유형_IVI           256344 non-null  int64  \n",
      " 69  배아_생성_주요_이유_기증용        256344 non-null  int64  \n",
      " 70  배아_생성_주요_이유_난자 저장용     256344 non-null  int64  \n",
      " 71  배아_생성_주요_이유_배아 저장용     256344 non-null  int64  \n",
      " 72  배아_생성_주요_이유_현재 시술용     256344 non-null  int64  \n",
      " 73  IVF_임신_시술_비율           256344 non-null  float64\n",
      " 74  DI_임신_시술_비율            256344 non-null  float64\n",
      " 75  임신_성공률                 256344 non-null  float64\n",
      " 76  수집된_신선난자수_적정           256344 non-null  int64  \n",
      " 77  저장된_신선난자수_초괴           256344 non-null  int64  \n",
      " 78  저장된_신선_난자_비율           256344 non-null  float64\n",
      " 79  기증자_정자_비율              256344 non-null  float64\n",
      " 80  파트너_정자_비율              256344 non-null  float64\n",
      " 81  난자_출처_기증 제공            256344 non-null  int64  \n",
      " 82  난자_출처_본인 제공            256344 non-null  int64  \n",
      " 83  정자_출처_배우자_제공           256344 non-null  int64  \n",
      " 84  정자_출처_기증_제공            256344 non-null  int64  \n",
      " 85  난자채취_적정기간              256344 non-null  int64  \n",
      " 86  난자해동_적정기간              256344 non-null  int64  \n",
      " 87  난자혼합_적정기간              256344 non-null  int64  \n",
      " 88  배아이식_적정기간              256344 non-null  int64  \n",
      " 89  배아해동_적정기간              256344 non-null  int64  \n",
      " 90  생성_배아_대비_이식_배아_비율      256344 non-null  float64\n",
      " 91  ICSI_배아_이식_비율          256344 non-null  float64\n",
      " 92  이식된_배아중_ICSI_배아_비율     256344 non-null  float64\n",
      " 93  저장된_배아_비율              256344 non-null  float64\n",
      "dtypes: float64(39), int64(52), object(3)\n",
      "memory usage: 183.8+ MB\n"
     ]
    }
   ],
   "source": [
    "Total_X.info()"
   ]
  },
  {
   "cell_type": "code",
   "execution_count": 14,
   "metadata": {},
   "outputs": [],
   "source": [
    "Total_categorical_columns = [\n",
    "    \"시술_당시_나이\",\n",
    "    \"난자_기증자_나이\",\n",
    "    \"정자_기증자_나이\"\n",
    "]"
   ]
  },
  {
   "cell_type": "code",
   "execution_count": 15,
   "metadata": {},
   "outputs": [],
   "source": [
    "# 모든 범주형 변수를 문자열로 변환\n",
    "Total_X[Total_categorical_columns] = Total_X[Total_categorical_columns].astype(str)\n",
    "Total_test[Total_categorical_columns] = Total_test[Total_categorical_columns].astype(str)\n",
    "\n",
    "# OrdinalEncoder를 사용하여 범주형 변수 인코딩\n",
    "Total_encoder = OrdinalEncoder(handle_unknown='use_encoded_value', unknown_value=-1)\n",
    "\n",
    "Total_X[Total_categorical_columns] = Total_encoder.fit_transform(Total_X[Total_categorical_columns])\n",
    "Total_test[Total_categorical_columns] = Total_encoder.transform(Total_test[Total_categorical_columns])"
   ]
  },
  {
   "cell_type": "markdown",
   "metadata": {},
   "source": [
    "## Modeling"
   ]
  },
  {
   "cell_type": "code",
   "execution_count": 16,
   "metadata": {},
   "outputs": [],
   "source": [
    "# 데이터 분할\n",
    "Total_X_train, Total_X_test, Total_y_train, Total_y_test = train_test_split(Total_X, \n",
    "                                                                            Total_y, \n",
    "                                                                            test_size=0.2, \n",
    "                                                                            random_state=42,\n",
    "                                                                            stratify=Total_y)"
   ]
  },
  {
   "cell_type": "markdown",
   "metadata": {},
   "source": [
    "### Total 데이터"
   ]
  },
  {
   "cell_type": "code",
   "execution_count": 17,
   "metadata": {},
   "outputs": [
    {
     "name": "stdout",
     "output_type": "stream",
     "text": [
      "\n",
      "--- Model Performance ---\n",
      "Model Accuracy: 0.7449725955255613\n",
      "Model F1 Score: 0.20656593239881058\n",
      "Model AUC: 0.7382209171978327\n"
     ]
    },
    {
     "data": {
      "image/png": "[encoded data removed]",
      "text/plain": [
       "<Figure size 640x480 with 2 Axes>"
      ]
     },
     "metadata": {},
     "output_type": "display_data"
    }
   ],
   "source": [
    "import xgboost as xgb\n",
    "from sklearn.metrics import accuracy_score, f1_score, roc_auc_score, confusion_matrix, ConfusionMatrixDisplay\n",
    "import matplotlib.pyplot as plt\n",
    "\n",
    "# 모델 초기화\n",
    "Total_model = xgb.XGBClassifier(\n",
    "    n_estimators=6377,  # 트리의 개수 (부스팅 반복 횟수)\n",
    "    learning_rate=0.09743491488399733,  # 학습률 (0과 1 사이의 값)\n",
    "    max_depth=414,  # 트리의 최대 깊이\n",
    "    alpha=2.5680787908055764,  # L1 정규화 (Lasso) 계수\n",
    "    gamma=1.6904727699858604,  # 감마 (노드 분할에 필요한 최소 손실 감소)\n",
    "    reg_alpha=33.97190639119776,  # L1 정규화 (Lasso) 계수\n",
    "    reg_lambda=93.11438571710458,  # L2 정규화 (Ridge) 계수\n",
    "    subsample=0.7198107387781483,  # 각 트리를 학습할 때 사용하는 데이터 샘플링 비율\n",
    "\n",
    "    objective='binary:logistic',  # 손실 함수 (이진 분류인 경우 'binary:logistic' 사용)\n",
    "    tree_method='hist',  # 트리를 구성할 때 사용할 알고리즘\n",
    "    eval_metric='auc',  # 모델 성능 평가 지표\n",
    "    random_state=42,  # 랜덤 시드 값 (재현성을 위해 설정)\n",
    "    verbosity=0  # 학습 과정의 출력을 제어 (0이면 출력을 억제)\n",
    ")\n",
    "\n",
    "# 모델 학습\n",
    "Total_model.fit(Total_X_train, Total_y_train)\n",
    "\n",
    "# 예측\n",
    "y_pred = Total_model.predict(Total_X_test)\n",
    "y_pred_proba = Total_model.predict_proba(Total_X_test)[:, 1]\n",
    "\n",
    "# 평가\n",
    "accuracy = accuracy_score(Total_y_test, y_pred)\n",
    "f1 = f1_score(Total_y_test, y_pred)\n",
    "auc = roc_auc_score(Total_y_test, y_pred_proba)\n",
    "cm = confusion_matrix(Total_y_test, y_pred)\n",
    "\n",
    "# 결과 출력\n",
    "print()\n",
    "print(\"--- Model Performance ---\")\n",
    "print(f\"Model Accuracy: {accuracy}\")\n",
    "print(f\"Model F1 Score: {f1}\")\n",
    "print(f\"Model AUC: {auc}\")\n",
    "\n",
    "# 혼동 행렬 출력\n",
    "disp = ConfusionMatrixDisplay(confusion_matrix=cm, display_labels=Total_model.classes_)\n",
    "disp.plot(cmap=plt.cm.Blues)\n",
    "plt.show()"
   ]
  },
  {
   "cell_type": "code",
   "execution_count": 18,
   "metadata": {},
   "outputs": [
    {
     "data": {
      "image/png": "[encoded data removed]",
      "text/plain": [
       "<Figure size 1000x600 with 1 Axes>"
      ]
     },
     "metadata": {},
     "output_type": "display_data"
    }
   ],
   "source": [
    "import platform\n",
    "from matplotlib import rc\n",
    "\n",
    "# 운영 체제에 따라 폰트 설정\n",
    "if platform.system() == 'Windows':  # Windows 환경\n",
    "    rc('font', family='Malgun Gothic')  # 맑은 고딕\n",
    "\n",
    "# 음수 표시 가능하도록 설정\n",
    "plt.rcParams['axes.unicode_minus'] = False\n",
    "import seaborn as sns\n",
    "\n",
    "# y_pred_proba를 임신_성공_여부에 따라 박스플롯으로 출력\n",
    "result_df = pd.DataFrame({'임신_성공_여부': Total_y_test, '예측_확률': y_pred_proba})\n",
    "\n",
    "# 박스플롯 출력\n",
    "plt.figure(figsize=(10, 6))\n",
    "sns.boxplot(x='임신_성공_여부', y='예측_확률', data=result_df)\n",
    "plt.title('임신 성공 여부에 따른 예측 확률')\n",
    "plt.xlabel('임신 성공 여부')\n",
    "plt.ylabel('예측 확률')\n",
    "plt.show()"
   ]
  },
  {
   "cell_type": "markdown",
   "metadata": {},
   "source": [
    "데이콘 PUBLIC xx"
   ]
  },
  {
   "cell_type": "markdown",
   "metadata": {},
   "source": [
    "## 제출"
   ]
  },
  {
   "cell_type": "code",
   "execution_count": 17,
   "metadata": {},
   "outputs": [],
   "source": [
    "# 모델 학습 및 예측\n",
    "Total_model.fit(Total_X, Total_y)\n",
    "Total_pred_proba = Total_model.predict_proba(Total_test.drop('ID', axis=1))[:, 1]\n",
    "Total_test['probability'] = Total_pred_proba\n",
    "\n",
    "# 최종 제출 파일 생성\n",
    "submission = Total_test[['ID', 'probability']]\n",
    "submission = submission.sort_values(by='ID')"
   ]
  },
  {
   "cell_type": "code",
   "execution_count": null,
   "metadata": {},
   "outputs": [],
   "source": [
    "# 제출 파일 저장\n",
    "submission.to_csv('../submission/code43_all_xgb.csv', index=False, encoding='utf-8')"
   ]
  },
  {
   "cell_type": "markdown",
   "metadata": {},
   "source": [
    "----"
   ]
  },
  {
   "cell_type": "markdown",
   "metadata": {},
   "source": [
    "."
   ]
  }
 ],
 "metadata": {
  "kernelspec": {
   "display_name": "Python 3",
   "language": "python",
   "name": "python3"
  },
  "language_info": {
   "codemirror_mode": {
    "name": "ipython",
    "version": 3
   },
   "file_extension": ".py",
   "mimetype": "text/x-python",
   "name": "python",
   "nbconvert_exporter": "python",
   "pygments_lexer": "ipython3",
   "version": "3.7.8"
  }
 },
 "nbformat": 4,
 "nbformat_minor": 2
}
