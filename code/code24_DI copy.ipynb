{
 "cells": [
  {
   "cell_type": "markdown",
   "metadata": {},
   "source": [
    "## 난임 환자 대상 임신 성공 여부 예측"
   ]
  },
  {
   "cell_type": "markdown",
   "metadata": {},
   "source": [
    "## 난임 환자 대상 임신 성공 여부 예측"
   ]
  },
  {
   "cell_type": "markdown",
   "metadata": {},
   "source": [
    "### LGAimers 6th 온라인 해커톤"
   ]
  },
  {
   "cell_type": "markdown",
   "metadata": {},
   "source": [
    "Import"
   ]
  },
  {
   "cell_type": "code",
   "execution_count": 72,
   "metadata": {},
   "outputs": [],
   "source": [
    "import numpy as np\n",
    "import pandas as pd\n",
    "import seaborn as sns\n",
    "import matplotlib.pyplot as plt\n",
    "\n",
    "import os\n",
    "from pprint import pprint"
   ]
  },
  {
   "cell_type": "code",
   "execution_count": 73,
   "metadata": {},
   "outputs": [],
   "source": [
    "import platform\n",
    "from matplotlib import rc\n",
    "\n",
    "# 운영 체제에 따라 폰트 설정\n",
    "if platform.system() == 'Windows':  # Windows 환경\n",
    "    rc('font', family='Malgun Gothic')  # 맑은 고딕\n",
    "\n",
    "# 음수 표시 가능하도록 설정\n",
    "plt.rcParams['axes.unicode_minus'] = False"
   ]
  },
  {
   "cell_type": "markdown",
   "metadata": {},
   "source": [
    "반복적으로 쓰는 함수툴"
   ]
  },
  {
   "cell_type": "code",
   "execution_count": 74,
   "metadata": {},
   "outputs": [],
   "source": [
    "def plot_box(df, col_name):\n",
    "    \"\"\"\n",
    "    주어진 데이터프레임과 열 이름에 대해 박스 플롯을 그리는 함수.\n",
    "\n",
    "    Parameters:\n",
    "    df (pd.DataFrame): 데이터프레임\n",
    "    col_name (str): 열 이름\n",
    "    \"\"\"\n",
    "    plt.figure(figsize=(7, 4))\n",
    "    plt.boxplot(df[col_name], vert=False)\n",
    "    plt.xlabel(col_name)\n",
    "    plt.title(f'Box Plot of {col_name}')\n",
    "    plt.show()\n",
    "\n",
    "def value_counts_ratio(df, col_name, target_name='임신_성공_여부'):\n",
    "    \"\"\"\n",
    "    주어진 데이터프레임의 특정 열에 대해 각 값마다 타겟 변수의 비율과 갯수, 총 갯수를 출력하는 함수.\n",
    "\n",
    "    Parameters:\n",
    "    df (pd.DataFrame): 데이터프레임\n",
    "    col_name (str): 열 이름\n",
    "    target_name (str): 타겟 변수 이름\n",
    "    \"\"\"\n",
    "    # 각 값마다 타겟 변수의 비율 계산\n",
    "    value_counts = df.groupby(col_name)[target_name].value_counts(normalize=True).unstack().fillna(0)\n",
    "    \n",
    "    # 각 값마다 타겟 변수의 갯수 계산\n",
    "    counts = df.groupby(col_name)[target_name].value_counts().unstack().fillna(0)\n",
    "    \n",
    "    # 각 값마다 총 갯수 계산\n",
    "    total_counts = df[col_name].value_counts().rename('Total_Count')\n",
    "    \n",
    "    # 비율과 갯수를 합침\n",
    "    result = value_counts.join(counts, lsuffix='_ratio', rsuffix='_count')\n",
    "    \n",
    "    # 총 갯수를 합침\n",
    "    result = result.join(total_counts, on=col_name)\n",
    "    \n",
    "    # 출력 형식 조정\n",
    "    result.index.name = 'variable'\n",
    "    print(f\"\\n{col_name}별 {target_name} 비율 및 갯수\\n\")\n",
    "    print(result.rename(columns=lambda x: x.split('_')[0]))\n",
    "\n",
    "def summarize_group(df, group_by_columns):\n",
    "    \"\"\"\n",
    "    주어진 데이터프레임을 특정 열들로 그룹화하여 각 그룹의 '임신_성공_여부' 비율과 갯수를 요약하는 함수.\n",
    "\n",
    "    Parameters:\n",
    "    df (pd.DataFrame): 데이터프레임\n",
    "    group_by_columns (list): 그룹화할 열 이름들의 리스트\n",
    "    \"\"\"\n",
    "    # 데이터프레임을 그룹화\n",
    "    grouped_df = df.groupby(group_by_columns)\n",
    "    \n",
    "    # 결과를 저장할 리스트 초기화\n",
    "    results = []\n",
    "    \n",
    "    # 그룹화된 데이터프레임의 내용을 확인하는 코드\n",
    "    for name, group in grouped_df:\n",
    "        # 그룹의 갯수 계산\n",
    "        group_count = group.shape[0]\n",
    "        \n",
    "        # '임신_성공_여부' 변수의 '임신 성공' 비율과 갯수 계산\n",
    "        success_count = group['임신_성공_여부'].value_counts().get(1, 0)\n",
    "        success_ratio = success_count / group_count\n",
    "        \n",
    "        # 결과 리스트에 추가\n",
    "        results.append([name, success_count, success_ratio, group_count])\n",
    "    \n",
    "    # 결과 리스트를 데이터프레임으로 변환\n",
    "    results_df = pd.DataFrame(results, columns=['group', \"'임신_성공_여부' count\", 'ratio', 'Total'])\n",
    "    \n",
    "    # 그룹화된 변수들의 이름을 제목행으로 출력\n",
    "    print(f\"Grouped by: {', '.join(group_by_columns)}\")\n",
    "    print()\n",
    "    # 데이터프레임 출력\n",
    "    print(results_df)\n",
    "\n",
    "def plot_ratio(df, group_by_column, target_column='임신_성공_여부', success_value=1):\n",
    "    \"\"\"\n",
    "    주어진 데이터프레임을 특정 열로 그룹화하여 각 그룹의 타겟 변수의 성공 비율을 시각화하는 함수.\n",
    "\n",
    "    Parameters:\n",
    "    df (pd.DataFrame): 데이터프레임\n",
    "    group_by_column (str): 그룹화할 열 이름\n",
    "    target_column (str): 타겟 변수 이름\n",
    "    success_value (int): 타겟 변수의 성공을 나타내는 값\n",
    "    \"\"\"\n",
    "    # 데이터프레임을 그룹화\n",
    "    grouped_df = df.groupby(group_by_column)\n",
    "    \n",
    "    # 결과를 저장할 리스트 초기화\n",
    "    results = []\n",
    "    \n",
    "    # 그룹화된 데이터프레임의 내용을 확인하는 코드\n",
    "    for name, group in grouped_df:\n",
    "        # 그룹의 갯수 계산\n",
    "        group_count = group.shape[0]\n",
    "        \n",
    "        # '임신_성공_여부' 변수의 '성공' 비율과 갯수 계산\n",
    "        success_count = group[target_column].value_counts().get(success_value, 0)\n",
    "        success_ratio = success_count / group_count\n",
    "        \n",
    "        # 결과 리스트에 추가\n",
    "        results.append([name, success_count, success_ratio, group_count])\n",
    "    \n",
    "    # 결과 리스트를 데이터프레임으로 변환\n",
    "    results_df = pd.DataFrame(results, columns=['group', f\"'{success_value}' count\", 'ratio', 'Total'])\n",
    "    \n",
    "    # 그래프 크기 설정\n",
    "    plt.figure(figsize=(10, 5))\n",
    "    \n",
    "    # 막대 그래프 생성\n",
    "    ax = results_df.plot(kind='bar', x='group', y='ratio', legend=False)\n",
    "    \n",
    "    # 각 막대 위에 임신 성공 여부 갯수와 총 갯수 표시\n",
    "    for i, (success_count, total) in enumerate(zip(results_df[f\"'{success_value}' count\"], results_df['Total'])):\n",
    "        ax.text(i, results_df['ratio'][i], f'{success_count} ({total})', ha='center', va='bottom', fontsize=8)\n",
    "    \n",
    "    # 그래프 제목 및 축 레이블 설정\n",
    "    ax.set_title(f'{success_value} Ratio by {group_by_column}')\n",
    "    ax.set_xlabel(group_by_column)\n",
    "    ax.set_ylabel(f'{success_value} Ratio')\n",
    "   \n",
    "    # 그래프 출력\n",
    "    plt.show()\n",
    "\n",
    "def plot_ratio_boxplot(data, column_name, target_column='임신_성공_여부'):\n",
    "    \"\"\"\n",
    "    주어진 데이터프레임의 특정 열과 타겟 변수 간의 관계를 박스 플롯으로 시각화하는 함수.\n",
    "\n",
    "    Parameters:\n",
    "    data (pd.DataFrame): 데이터프레임\n",
    "    column_name (str): 열 이름\n",
    "    target_column (str): 타겟 변수 이름\n",
    "    \"\"\"\n",
    "\n",
    "    # 그래프 그리기\n",
    "    plt.figure(figsize=(10, 6))\n",
    "    sns.boxplot(x=column_name, y=target_column, data=data)\n",
    "\n",
    "    # 그래프 제목 및 레이블 설정\n",
    "    plt.title(f'{column_name} vs {target_column}')\n",
    "    plt.xlabel(column_name)\n",
    "    plt.ylabel(target_column)\n",
    "\n",
    "    # 그래프 출력\n",
    "    plt.show()"
   ]
  },
  {
   "cell_type": "markdown",
   "metadata": {},
   "source": [
    "### Data Load"
   ]
  },
  {
   "cell_type": "code",
   "execution_count": 75,
   "metadata": {},
   "outputs": [],
   "source": [
    "# 데이터 로드\n",
    "train = pd.read_csv('../data/train.csv')\n",
    "test = pd.read_csv('../data/test.csv')\n",
    "\n",
    "# 변수명에서 공백을 밑줄로 대체\n",
    "train.columns = train.columns.str.replace(' ', '_')\n",
    "test.columns = test.columns.str.replace(' ', '_')"
   ]
  },
  {
   "cell_type": "markdown",
   "metadata": {},
   "source": [
    "## EDA"
   ]
  },
  {
   "cell_type": "code",
   "execution_count": 76,
   "metadata": {},
   "outputs": [],
   "source": [
    "# '시술_유형' 변수의 값이 'DI'에 해당 안하는 데이터 추출\n",
    "DI_train = train[train['시술_유형'] == 'DI'] \n",
    "DI_test = test[test['시술_유형'] == 'DI']\n",
    "\n",
    "# 모든 값이 결측값인 변수를 제거\n",
    "DI_train = DI_train.dropna(axis=1, how='all')\n",
    "DI_test = DI_test.dropna(axis=1, how='all')\n",
    "\n",
    "train = DI_train\n",
    "test = DI_test"
   ]
  },
  {
   "cell_type": "code",
   "execution_count": 77,
   "metadata": {},
   "outputs": [
    {
     "data": {
      "image/png": "[encoded data removed]",
      "text/plain": [
       "<Figure size 640x480 with 1 Axes>"
      ]
     },
     "metadata": {},
     "output_type": "display_data"
    }
   ],
   "source": [
    "import matplotlib.pyplot as plt\n",
    "import pandas as pd\n",
    "\n",
    "# '임신_성공_여부' 변수의 값 개수 계산\n",
    "value_counts = train['임신_성공_여부'].value_counts()\n",
    "\n",
    "# 라벨 변경\n",
    "labels = {1: '1(임신 성공)', 0: '0(임신 실패)'}\n",
    "value_counts.index = value_counts.index.map(labels)\n",
    "\n",
    "# 도넛 차트 그리기\n",
    "fig, ax = plt.subplots()\n",
    "\n",
    "# 파이 차트 그리기\n",
    "wedges, texts, autotexts = ax.pie(value_counts, labels=value_counts.index, autopct='%1.1f%%', startangle=90, wedgeprops=dict(width=0.5))\n",
    "\n",
    "# 도넛 차트 가운데에 원 그리기\n",
    "centre_circle = plt.Circle((0, 0), 0.70, fc='white')\n",
    "fig.gca().add_artist(centre_circle)\n",
    "\n",
    "# 차트 제목 설정\n",
    "ax.set_title('임신 성공 여부 도넛 차트')\n",
    "\n",
    "# 차트 표시\n",
    "plt.show()"
   ]
  },
  {
   "cell_type": "markdown",
   "metadata": {},
   "source": [
    "### 1. 시술_시기_코드"
   ]
  },
  {
   "cell_type": "markdown",
   "metadata": {},
   "source": [
    "난임 시술을 받은 시기를 기준으로 코드 부여"
   ]
  },
  {
   "cell_type": "code",
   "execution_count": 78,
   "metadata": {},
   "outputs": [
    {
     "name": "stdout",
     "output_type": "stream",
     "text": [
      "\n",
      "시술_시기_코드별 임신_성공_여부 비율 및 갯수\n",
      "\n",
      "                 0         1    0    1  Total\n",
      "variable                                     \n",
      "TRCMWS    0.862981  0.137019  718  114    832\n",
      "TRDQAZ    0.887967  0.112033  856  108    964\n",
      "TRJXFG    0.886770  0.113230  744   95    839\n",
      "TRVNRY    0.877426  0.122574  859  120    979\n",
      "TRXQMD    0.837808  0.162192  749  145    894\n",
      "TRYBLT    0.865811  0.134189  742  115    857\n",
      "TRZKPL    0.876890  0.123110  812  114    926\n"
     ]
    }
   ],
   "source": [
    "value_counts_ratio(train, '시술_시기_코드')"
   ]
  },
  {
   "cell_type": "markdown",
   "metadata": {},
   "source": [
    "### 2. 시술 당시 나이"
   ]
  },
  {
   "cell_type": "markdown",
   "metadata": {},
   "source": [
    "환자의 시술 당시 나이(연령대)"
   ]
  },
  {
   "cell_type": "code",
   "execution_count": 79,
   "metadata": {},
   "outputs": [
    {
     "name": "stdout",
     "output_type": "stream",
     "text": [
      "\n",
      "시술_당시_나이별 임신_성공_여부 비율 및 갯수\n",
      "\n",
      "                 0         1     0    1  Total\n",
      "variable                                      \n",
      "만18-34세   0.805408  0.194592  1668  403   2071\n",
      "만35-37세   0.848966  0.151034  1231  219   1450\n",
      "만38-39세   0.897436  0.102564   945  108   1053\n",
      "만40-42세   0.930502  0.069498   964   72   1036\n",
      "만43-44세   0.980907  0.019093   411    8    419\n",
      "만45-50세   0.996183  0.003817   261    1    262\n"
     ]
    }
   ],
   "source": [
    "value_counts_ratio(train, '시술_당시_나이')"
   ]
  },
  {
   "cell_type": "code",
   "execution_count": 80,
   "metadata": {},
   "outputs": [
    {
     "data": {
      "text/plain": [
       "만18-34세    680\n",
       "만35-37세    524\n",
       "만38-39세    383\n",
       "만40-42세    355\n",
       "만43-44세    149\n",
       "만45-50세     85\n",
       "Name: 시술_당시_나이, dtype: int64"
      ]
     },
     "execution_count": 80,
     "metadata": {},
     "output_type": "execute_result"
    }
   ],
   "source": [
    "test['시술_당시_나이'].value_counts()"
   ]
  },
  {
   "cell_type": "code",
   "execution_count": 81,
   "metadata": {},
   "outputs": [],
   "source": [
    "# '시술_당시_나이' 열의 값이 '만18-34세' 또는 '만35-37세'일 때 1, 아닌 경우 0을 부여하는 파생 변수 생성\n",
    "train['시술_당시_나이_더미'] = train['시술_당시_나이'].apply(lambda x: 1 if x in ['만18-34세', '만35-37세'] else 0)\n",
    "test['시술_당시_나이_더미'] = test['시술_당시_나이'].apply(lambda x: 1 if x in ['만18-34세', '만35-37세'] else 0)"
   ]
  },
  {
   "cell_type": "code",
   "execution_count": 82,
   "metadata": {},
   "outputs": [
    {
     "name": "stdout",
     "output_type": "stream",
     "text": [
      "Grouped by: 시술_당시_나이, 시술_당시_나이_더미\n",
      "\n",
      "          group  '임신_성공_여부' count     ratio  Total\n",
      "0  (만18-34세, 1)               403  0.194592   2071\n",
      "1  (만35-37세, 1)               219  0.151034   1450\n",
      "2  (만38-39세, 0)               108  0.102564   1053\n",
      "3  (만40-42세, 0)                72  0.069498   1036\n",
      "4  (만43-44세, 0)                 8  0.019093    419\n",
      "5  (만45-50세, 0)                 1  0.003817    262\n"
     ]
    }
   ],
   "source": [
    "summarize_group(train, ['시술_당시_나이','시술_당시_나이_더미'])"
   ]
  },
  {
   "cell_type": "markdown",
   "metadata": {},
   "source": [
    "### 3. 임신 시도 또는 마지막 임신 경과 일수"
   ]
  },
  {
   "cell_type": "markdown",
   "metadata": {},
   "source": [
    "환자가 처음 임신을 시도한 시점 또는 마지막 임신 이후 현재까지의 경과 연수 (년 단위)"
   ]
  },
  {
   "cell_type": "code",
   "execution_count": 83,
   "metadata": {},
   "outputs": [
    {
     "name": "stdout",
     "output_type": "stream",
     "text": [
      "\n",
      "임신_시도_또는_마지막_임신_경과_연수별 임신_성공_여부 비율 및 갯수\n",
      "\n",
      "                 0         1     0    1  Total\n",
      "variable                                      \n",
      "1.0       1.000000  0.000000   2.0  0.0      2\n",
      "3.0       0.666667  0.333333   6.0  3.0      9\n",
      "4.0       0.700000  0.300000   7.0  3.0     10\n",
      "5.0       0.785714  0.214286  11.0  3.0     14\n",
      "6.0       0.852941  0.147059  29.0  5.0     34\n",
      "7.0       0.727273  0.272727  24.0  9.0     33\n",
      "8.0       0.853659  0.146341  35.0  6.0     41\n",
      "9.0       0.965517  0.034483  28.0  1.0     29\n",
      "10.0      0.774194  0.225806  24.0  7.0     31\n",
      "11.0      0.862069  0.137931  25.0  4.0     29\n",
      "12.0      0.863636  0.136364  19.0  3.0     22\n",
      "13.0      0.888889  0.111111  16.0  2.0     18\n",
      "14.0      0.800000  0.200000   8.0  2.0     10\n",
      "15.0      0.800000  0.200000   4.0  1.0      5\n",
      "16.0      1.000000  0.000000   1.0  0.0      1\n",
      "17.0      0.833333  0.166667   5.0  1.0      6\n",
      "18.0      1.000000  0.000000   2.0  0.0      2\n",
      "19.0      0.666667  0.333333   2.0  1.0      3\n",
      "20.0      1.000000  0.000000   4.0  0.0      4\n"
     ]
    }
   ],
   "source": [
    "value_counts_ratio(train, '임신_시도_또는_마지막_임신_경과_연수')"
   ]
  },
  {
   "cell_type": "code",
   "execution_count": 84,
   "metadata": {},
   "outputs": [],
   "source": [
    "# 3년 단위로 범주화\n",
    "bins = list(range(0, 24, 3))  # 0부터 20까지 3년 단위로 구간 생성\n",
    "labels = [f'{i}-{i+2}년' for i in range(0, 21, 3)]  # 범주 레이블 생성\n",
    "\n",
    "train['임신_시도_또는_마지막_임신_경과_연수'] = pd.cut(train['임신_시도_또는_마지막_임신_경과_연수'], bins=bins, labels=labels, right=False)\n",
    "test['임신_시도_또는_마지막_임신_경과_연수'] = pd.cut(test['임신_시도_또는_마지막_임신_경과_연수'], bins=bins, labels=labels, right=False)\n",
    "\n",
    "# 결측값을 'unknown'으로 채우기 위해 범주에 'unknown' 추가\n",
    "train['임신_시도_또는_마지막_임신_경과_연수'] = train['임신_시도_또는_마지막_임신_경과_연수'].cat.add_categories(['unknown'])\n",
    "test['임신_시도_또는_마지막_임신_경과_연수'] = test['임신_시도_또는_마지막_임신_경과_연수'].cat.add_categories(['unknown'])\n",
    "\n",
    "train['임신_시도_또는_마지막_임신_경과_연수'].fillna('unknown', inplace=True)\n",
    "test['임신_시도_또는_마지막_임신_경과_연수'].fillna('unknown', inplace=True)"
   ]
  },
  {
   "cell_type": "code",
   "execution_count": 85,
   "metadata": {},
   "outputs": [
    {
     "name": "stdout",
     "output_type": "stream",
     "text": [
      "\n",
      "임신_시도_또는_마지막_임신_경과_연수별 임신_성공_여부 비율 및 갯수\n",
      "\n",
      "                 0         1       0      1  Total\n",
      "variable                                          \n",
      "0-2년      1.000000  0.000000     2.0    0.0      2\n",
      "3-5년      0.727273  0.272727    24.0    9.0     33\n",
      "6-8년      0.814815  0.185185    88.0   20.0    108\n",
      "9-11년     0.865169  0.134831    77.0   12.0     89\n",
      "12-14년    0.860000  0.140000    43.0    7.0     50\n",
      "15-17년    0.833333  0.166667    10.0    2.0     12\n",
      "18-20년    0.888889  0.111111     8.0    1.0      9\n",
      "unknown   0.873079  0.126921  5228.0  760.0   5988\n"
     ]
    }
   ],
   "source": [
    "value_counts_ratio(train, '임신_시도_또는_마지막_임신_경과_연수')"
   ]
  },
  {
   "cell_type": "markdown",
   "metadata": {},
   "source": [
    "### 4. 시술_유형"
   ]
  },
  {
   "cell_type": "markdown",
   "metadata": {},
   "source": [
    "IVF 와 DI 시술중 IVF 시술 데이터만 제공됨"
   ]
  },
  {
   "cell_type": "code",
   "execution_count": 86,
   "metadata": {},
   "outputs": [],
   "source": [
    "# '시술_유형' 변수 제거\n",
    "train = train.drop(columns=['시술_유형'])\n",
    "test = test.drop(columns=['시술_유형'])"
   ]
  },
  {
   "cell_type": "markdown",
   "metadata": {},
   "source": [
    "### 5. 특정_시술_유형"
   ]
  },
  {
   "cell_type": "markdown",
   "metadata": {},
   "source": [
    "IVF – 체외 수정 (시험관 아기 시술)  \n",
    "ICSI – 세포질 내 정자 주입  \n",
    "IUI – 인공 수정 (자궁 내 주입)  \n",
    "ICI – 자궁경부 인공 수정  \n",
    "GIFT – 생식세포 나팔관 이식  \n",
    "FER – 냉동 배아 이식  \n",
    "Generic DI – 기증 정자 주입  \n",
    "IVI – 질 내 인공 수정   \n",
    "BLASTOCYST – 배반포 단계에 이식  \n",
    "AH – 배아를 hatching 시켜주는 과정  \n",
    "Unknown – 시술 유형 정보가 제공되지 않았거나 알 수 없음  \n",
    "\n",
    "(*) 특수 기호의 의미  \n",
    "\"/\" – 복합적인 시술 방법을 의미 (예: ICSI / BLASTOCYST)  \n",
    "\":\" – 동일 시술 내 세부 조합을 의미 (예: ICSI:IVF)  "
   ]
  },
  {
   "cell_type": "code",
   "execution_count": 87,
   "metadata": {},
   "outputs": [
    {
     "name": "stdout",
     "output_type": "stream",
     "text": [
      "Grouped by: 특정_시술_유형\n",
      "\n",
      "        group  '임신_성공_여부' count     ratio  Total\n",
      "0        GIFT                 0  0.000000      1\n",
      "1  Generic DI                12  0.169014     71\n",
      "2         ICI                13  0.135417     96\n",
      "3         IUI               784  0.128525   6100\n",
      "4         IVI                 2  0.086957     23\n"
     ]
    }
   ],
   "source": [
    "summarize_group(train, ['특정_시술_유형'])"
   ]
  },
  {
   "cell_type": "code",
   "execution_count": 88,
   "metadata": {},
   "outputs": [
    {
     "data": {
      "text/plain": [
       "IUI           2112\n",
       "ICI             28\n",
       "Generic DI      26\n",
       "IVI              8\n",
       "IUI:ICI          2\n",
       "Name: 특정_시술_유형, dtype: int64"
      ]
     },
     "execution_count": 88,
     "metadata": {},
     "output_type": "execute_result"
    }
   ],
   "source": [
    "test['특정_시술_유형'].value_counts()"
   ]
  },
  {
   "cell_type": "code",
   "execution_count": 89,
   "metadata": {},
   "outputs": [],
   "source": [
    "# '특정_시술_유형' 변수의 값이 'FER' 또는 'GIFT'인 행 제거\n",
    "train = train.loc[~train['특정_시술_유형'].isin(['FER', 'GIFT'])]\n",
    "# test = test.loc[~test['특정_시술_유형'].isin(['FER', 'GIFT'])]"
   ]
  },
  {
   "cell_type": "code",
   "execution_count": 90,
   "metadata": {},
   "outputs": [],
   "source": [
    "# 시술 유형 변환 함수\n",
    "def transform_treatment(treatment):\n",
    "    if isinstance(treatment, str):  # treatment가 문자열인지 확인\n",
    "        if treatment.startswith(\"ICSI\"):\n",
    "            if \"AH\" in treatment:\n",
    "                return \"ICSI / AH\"\n",
    "            elif \"BLASTOCYST\" in treatment:\n",
    "                return \"ICSI / BLASTOCYST\"\n",
    "            return \"ICSI\"\n",
    "        elif treatment.startswith(\"IVF\"):\n",
    "            if \"AH\" in treatment:\n",
    "                return \"IVF / AH\"\n",
    "            elif \"BLASTOCYST\" in treatment:\n",
    "                return \"IVF / BLASTOCYST\"\n",
    "            return \"IVF\"\n",
    "        elif treatment == \"IUI:ICI\":\n",
    "            return \"IUI\"\n",
    "    return treatment  # 기타 시술은 그대로 반환\n",
    "\n",
    "# 변환된 열 추가\n",
    "train['변환된_특정_시술_유형'] = train['특정_시술_유형'].apply(transform_treatment)\n",
    "test['변환된_특정_시술_유형'] = test['특정_시술_유형'].apply(transform_treatment)"
   ]
  },
  {
   "cell_type": "code",
   "execution_count": 91,
   "metadata": {},
   "outputs": [
    {
     "name": "stdout",
     "output_type": "stream",
     "text": [
      "\n",
      "변환된_특정_시술_유형별 임신_성공_여부 비율 및 갯수\n",
      "\n",
      "                   0         1     0    1  Total\n",
      "variable                                        \n",
      "Generic DI  0.830986  0.169014    59   12     71\n",
      "ICI         0.864583  0.135417    83   13     96\n",
      "IUI         0.871475  0.128525  5316  784   6100\n",
      "IVI         0.913043  0.086957    21    2     23\n"
     ]
    }
   ],
   "source": [
    "value_counts_ratio(train, '변환된_특정_시술_유형')"
   ]
  },
  {
   "cell_type": "code",
   "execution_count": 92,
   "metadata": {},
   "outputs": [
    {
     "name": "stdout",
     "output_type": "stream",
     "text": [
      "\n",
      "변환된_특정_시술_유형별 임신_성공_여부 비율 및 갯수\n",
      "\n",
      "                   0         1     0    1  Total\n",
      "variable                                        \n",
      "Generic DI  0.830986  0.169014    59   12     71\n",
      "ICI         0.864583  0.135417    83   13     96\n",
      "IUI         0.871475  0.128525  5316  784   6100\n",
      "IVI         0.913043  0.086957    21    2     23\n"
     ]
    }
   ],
   "source": [
    "value_counts_ratio(train, '변환된_특정_시술_유형')"
   ]
  },
  {
   "cell_type": "code",
   "execution_count": 93,
   "metadata": {},
   "outputs": [
    {
     "data": {
      "text/plain": [
       "IUI           2114\n",
       "ICI             28\n",
       "Generic DI      26\n",
       "IVI              8\n",
       "Name: 변환된_특정_시술_유형, dtype: int64"
      ]
     },
     "execution_count": 93,
     "metadata": {},
     "output_type": "execute_result"
    }
   ],
   "source": [
    "test['변환된_특정_시술_유형'].value_counts()"
   ]
  },
  {
   "cell_type": "code",
   "execution_count": 94,
   "metadata": {},
   "outputs": [],
   "source": [
    "# '특정_시술_유형' 변수 제거\n",
    "train = train.drop(columns=['특정_시술_유형'])\n",
    "test = test.drop(columns=['특정_시술_유형'])"
   ]
  },
  {
   "cell_type": "markdown",
   "metadata": {},
   "source": [
    "### 6. 배란_자극_여부"
   ]
  },
  {
   "cell_type": "markdown",
   "metadata": {},
   "source": [
    "배란 자극 치료가 사용되었는지 여부"
   ]
  },
  {
   "cell_type": "code",
   "execution_count": 95,
   "metadata": {},
   "outputs": [
    {
     "name": "stdout",
     "output_type": "stream",
     "text": [
      "\n",
      "배란_자극_여부별 임신_성공_여부 비율 및 갯수\n",
      "\n",
      "                 0         1     0    1  Total\n",
      "variable                                      \n",
      "0         0.882529  0.117471  2652  353   3005\n",
      "1         0.860578  0.139422  2827  458   3285\n"
     ]
    }
   ],
   "source": [
    "value_counts_ratio(train, '배란_자극_여부')"
   ]
  },
  {
   "cell_type": "markdown",
   "metadata": {},
   "source": [
    "### 7. 배란_유도_유형"
   ]
  },
  {
   "cell_type": "markdown",
   "metadata": {},
   "source": [
    "사용된 배란 유도 방법 유형"
   ]
  },
  {
   "cell_type": "code",
   "execution_count": 96,
   "metadata": {},
   "outputs": [
    {
     "name": "stdout",
     "output_type": "stream",
     "text": [
      "\n",
      "배란_유도_유형별 임신_성공_여부 비율 및 갯수\n",
      "\n",
      "                 0         1     0    1  Total\n",
      "variable                                      \n",
      "알 수 없음    0.871065  0.128935  5479  811   6290\n"
     ]
    }
   ],
   "source": [
    "value_counts_ratio(train, '배란_유도_유형')"
   ]
  },
  {
   "cell_type": "code",
   "execution_count": 97,
   "metadata": {},
   "outputs": [
    {
     "data": {
      "text/plain": [
       "알 수 없음    2176\n",
       "Name: 배란_유도_유형, dtype: int64"
      ]
     },
     "execution_count": 97,
     "metadata": {},
     "output_type": "execute_result"
    }
   ],
   "source": [
    "test['배란_유도_유형'].value_counts()"
   ]
  },
  {
   "cell_type": "code",
   "execution_count": 98,
   "metadata": {},
   "outputs": [
    {
     "name": "stdout",
     "output_type": "stream",
     "text": [
      "결측값 개수: 0\n"
     ]
    }
   ],
   "source": [
    "# 결측값 개수 확인\n",
    "print(\"결측값 개수:\", train['배란_유도_유형'].isnull().sum())"
   ]
  },
  {
   "cell_type": "code",
   "execution_count": 99,
   "metadata": {},
   "outputs": [],
   "source": [
    "# 변수 제거\n",
    "train = train.drop(columns=['배란_유도_유형'])\n",
    "test = test.drop(columns=['배란_유도_유형'])"
   ]
  },
  {
   "cell_type": "markdown",
   "metadata": {},
   "source": [
    "### 모든값이 결측"
   ]
  },
  {
   "cell_type": "code",
   "execution_count": 100,
   "metadata": {},
   "outputs": [],
   "source": [
    "# value_counts_ratio(train, '단일_배아_이식_여부') -> 모든값이 결측"
   ]
  },
  {
   "cell_type": "code",
   "execution_count": 101,
   "metadata": {},
   "outputs": [],
   "source": [
    "# value_counts_ratio(train, '착상_전_유전_검사_사용_여부')  -> 모든값이 결측"
   ]
  },
  {
   "cell_type": "code",
   "execution_count": 102,
   "metadata": {},
   "outputs": [],
   "source": [
    "# value_counts_ratio(train, '착상_전_유전_진단_사용_여부')  -> 모든값이 결측"
   ]
  },
  {
   "cell_type": "markdown",
   "metadata": {},
   "source": [
    "### 11. 남성_주_불임_원인"
   ]
  },
  {
   "cell_type": "markdown",
   "metadata": {},
   "source": [
    "남성의 주요 불임 원인 여부"
   ]
  },
  {
   "cell_type": "code",
   "execution_count": 103,
   "metadata": {},
   "outputs": [
    {
     "name": "stdout",
     "output_type": "stream",
     "text": [
      "\n",
      "남성_주_불임_원인별 임신_성공_여부 비율 및 갯수\n",
      "\n",
      "                 0         1     0    1  Total\n",
      "variable                                      \n",
      "0         0.874250  0.125750  5249  755   6004\n",
      "1         0.804196  0.195804   230   56    286\n"
     ]
    }
   ],
   "source": [
    "value_counts_ratio(train, '남성_주_불임_원인')"
   ]
  },
  {
   "cell_type": "markdown",
   "metadata": {},
   "source": [
    "### 12. 남성_부_불임_원인"
   ]
  },
  {
   "cell_type": "markdown",
   "metadata": {},
   "source": [
    "남성의 부차적 불임 원인 여부"
   ]
  },
  {
   "cell_type": "code",
   "execution_count": 104,
   "metadata": {},
   "outputs": [
    {
     "name": "stdout",
     "output_type": "stream",
     "text": [
      "\n",
      "남성_부_불임_원인별 임신_성공_여부 비율 및 갯수\n",
      "\n",
      "                 0         1     0    1  Total\n",
      "variable                                      \n",
      "0         0.871067  0.128933  5371  795   6166\n",
      "1         0.870968  0.129032   108   16    124\n"
     ]
    }
   ],
   "source": [
    "value_counts_ratio(train, '남성_부_불임_원인')"
   ]
  },
  {
   "cell_type": "markdown",
   "metadata": {},
   "source": [
    "### 13. 여성_주_불임_원인"
   ]
  },
  {
   "cell_type": "markdown",
   "metadata": {},
   "source": [
    "여성의 주요 불임 원인 여부"
   ]
  },
  {
   "cell_type": "code",
   "execution_count": 105,
   "metadata": {},
   "outputs": [
    {
     "name": "stdout",
     "output_type": "stream",
     "text": [
      "\n",
      "여성_주_불임_원인별 임신_성공_여부 비율 및 갯수\n",
      "\n",
      "                 0         1     0    1  Total\n",
      "variable                                      \n",
      "0         0.873895  0.126105  5142  742   5884\n",
      "1         0.830049  0.169951   337   69    406\n"
     ]
    }
   ],
   "source": [
    "value_counts_ratio(train, '여성_주_불임_원인')"
   ]
  },
  {
   "cell_type": "markdown",
   "metadata": {},
   "source": [
    "### 14. 여성_부_불임_원인"
   ]
  },
  {
   "cell_type": "markdown",
   "metadata": {},
   "source": [
    "여성의 부차적 불임 원인 여부"
   ]
  },
  {
   "cell_type": "code",
   "execution_count": 106,
   "metadata": {},
   "outputs": [
    {
     "name": "stdout",
     "output_type": "stream",
     "text": [
      "\n",
      "여성_부_불임_원인별 임신_성공_여부 비율 및 갯수\n",
      "\n",
      "                 0         1     0    1  Total\n",
      "variable                                      \n",
      "0         0.871429  0.128571  5368  792   6160\n",
      "1         0.853846  0.146154   111   19    130\n"
     ]
    }
   ],
   "source": [
    "value_counts_ratio(train, '여성_부_불임_원인')"
   ]
  },
  {
   "cell_type": "markdown",
   "metadata": {},
   "source": [
    "### 15. 부부_주_불임_원인"
   ]
  },
  {
   "cell_type": "markdown",
   "metadata": {},
   "source": [
    "부부의 주요 불임 원인 여부"
   ]
  },
  {
   "cell_type": "code",
   "execution_count": 107,
   "metadata": {},
   "outputs": [
    {
     "name": "stdout",
     "output_type": "stream",
     "text": [
      "\n",
      "부부_주_불임_원인별 임신_성공_여부 비율 및 갯수\n",
      "\n",
      "                 0         1     0    1  Total\n",
      "variable                                      \n",
      "0         0.874894  0.125106  5182  741   5923\n",
      "1         0.809264  0.190736   297   70    367\n"
     ]
    }
   ],
   "source": [
    "value_counts_ratio(train, '부부_주_불임_원인')"
   ]
  },
  {
   "cell_type": "markdown",
   "metadata": {},
   "source": [
    "### 16. 부부_부_불임_원인"
   ]
  },
  {
   "cell_type": "markdown",
   "metadata": {},
   "source": [
    "부부의 부차적 불임 원인 여부"
   ]
  },
  {
   "cell_type": "code",
   "execution_count": 108,
   "metadata": {},
   "outputs": [
    {
     "name": "stdout",
     "output_type": "stream",
     "text": [
      "\n",
      "부부_부_불임_원인별 임신_성공_여부 비율 및 갯수\n",
      "\n",
      "                 0         1     0    1  Total\n",
      "variable                                      \n",
      "0         0.871144  0.128856  5422  802   6224\n",
      "1         0.863636  0.136364    57    9     66\n"
     ]
    }
   ],
   "source": [
    "value_counts_ratio(train, '부부_부_불임_원인')"
   ]
  },
  {
   "cell_type": "markdown",
   "metadata": {},
   "source": [
    "### 17. 불명확_불임_원인"
   ]
  },
  {
   "cell_type": "markdown",
   "metadata": {},
   "source": [
    "불명의 원인으로 인한 불임 여부"
   ]
  },
  {
   "cell_type": "code",
   "execution_count": 109,
   "metadata": {},
   "outputs": [
    {
     "name": "stdout",
     "output_type": "stream",
     "text": [
      "\n",
      "불명확_불임_원인별 임신_성공_여부 비율 및 갯수\n",
      "\n",
      "                 0         1     0    1  Total\n",
      "variable                                      \n",
      "0         0.868226  0.131774  5047  766   5813\n",
      "1         0.905660  0.094340   432   45    477\n"
     ]
    }
   ],
   "source": [
    "value_counts_ratio(train, '불명확_불임_원인')"
   ]
  },
  {
   "cell_type": "markdown",
   "metadata": {},
   "source": [
    "### 18. 불임_원인_-_난관_질환"
   ]
  },
  {
   "cell_type": "markdown",
   "metadata": {},
   "source": [
    "난관 이상으로 인한 불임 여부"
   ]
  },
  {
   "cell_type": "code",
   "execution_count": 110,
   "metadata": {},
   "outputs": [
    {
     "name": "stdout",
     "output_type": "stream",
     "text": [
      "\n",
      "불임_원인_-_난관_질환별 임신_성공_여부 비율 및 갯수\n",
      "\n",
      "                 0         1     0    1  Total\n",
      "variable                                      \n",
      "0         0.870433  0.129567  5408  805   6213\n",
      "1         0.922078  0.077922    71    6     77\n"
     ]
    }
   ],
   "source": [
    "value_counts_ratio(train, '불임_원인_-_난관_질환')"
   ]
  },
  {
   "cell_type": "markdown",
   "metadata": {},
   "source": [
    "### 19. 불임_원인_-_남성_요인"
   ]
  },
  {
   "cell_type": "markdown",
   "metadata": {},
   "source": [
    "남성 요인으로 인한 불임 여부"
   ]
  },
  {
   "cell_type": "code",
   "execution_count": 111,
   "metadata": {},
   "outputs": [
    {
     "name": "stdout",
     "output_type": "stream",
     "text": [
      "\n",
      "불임_원인_-_남성_요인별 임신_성공_여부 비율 및 갯수\n",
      "\n",
      "                 0         1     0    1  Total\n",
      "variable                                      \n",
      "0         0.895925  0.104075  3056  355   3411\n",
      "1         0.841612  0.158388  2423  456   2879\n"
     ]
    }
   ],
   "source": [
    "value_counts_ratio(train, '불임_원인_-_남성_요인')"
   ]
  },
  {
   "cell_type": "markdown",
   "metadata": {},
   "source": [
    "### 20. 불임_원인_-_배란_장애"
   ]
  },
  {
   "cell_type": "markdown",
   "metadata": {},
   "source": [
    "배란 장애로 인한 불임 여부"
   ]
  },
  {
   "cell_type": "code",
   "execution_count": 112,
   "metadata": {},
   "outputs": [
    {
     "name": "stdout",
     "output_type": "stream",
     "text": [
      "\n",
      "불임_원인_-_배란_장애별 임신_성공_여부 비율 및 갯수\n",
      "\n",
      "                 0         1     0    1  Total\n",
      "variable                                      \n",
      "0         0.871192  0.128808  5147  761   5908\n",
      "1         0.869110  0.130890   332   50    382\n"
     ]
    }
   ],
   "source": [
    "value_counts_ratio(train, '불임_원인_-_배란_장애')"
   ]
  },
  {
   "cell_type": "markdown",
   "metadata": {},
   "source": [
    "### 고윳값 1개"
   ]
  },
  {
   "cell_type": "code",
   "execution_count": 113,
   "metadata": {},
   "outputs": [],
   "source": [
    "# 변수 제거\n",
    "train = train.drop(columns=['불임_원인_-_여성_요인'])\n",
    "test = test.drop(columns=['불임_원인_-_여성_요인'])"
   ]
  },
  {
   "cell_type": "code",
   "execution_count": 114,
   "metadata": {},
   "outputs": [],
   "source": [
    "# 변수 제거\n",
    "train = train.drop(columns=['불임_원인_-_자궁경부_문제'])\n",
    "test = test.drop(columns=['불임_원인_-_자궁경부_문제'])"
   ]
  },
  {
   "cell_type": "markdown",
   "metadata": {},
   "source": [
    "### 23. 불임_원인_-_자궁내막증"
   ]
  },
  {
   "cell_type": "markdown",
   "metadata": {},
   "source": [
    "자궁내막증으로 인한 불임 여부"
   ]
  },
  {
   "cell_type": "code",
   "execution_count": 115,
   "metadata": {},
   "outputs": [
    {
     "name": "stdout",
     "output_type": "stream",
     "text": [
      "\n",
      "불임_원인_-_자궁내막증별 임신_성공_여부 비율 및 갯수\n",
      "\n",
      "                 0         1     0    1  Total\n",
      "variable                                      \n",
      "0         0.869757  0.130243  5329  798   6127\n",
      "1         0.920245  0.079755   150   13    163\n"
     ]
    }
   ],
   "source": [
    "value_counts_ratio(train, '불임_원인_-_자궁내막증')"
   ]
  },
  {
   "cell_type": "markdown",
   "metadata": {},
   "source": [
    "### 24. 불임_원인_-_정자_농도"
   ]
  },
  {
   "cell_type": "markdown",
   "metadata": {},
   "source": [
    "파트너의 정자 농도 문제 여부"
   ]
  },
  {
   "cell_type": "code",
   "execution_count": 116,
   "metadata": {},
   "outputs": [
    {
     "name": "stdout",
     "output_type": "stream",
     "text": [
      "\n",
      "불임_원인_-_정자_농도별 임신_성공_여부 비율 및 갯수\n",
      "\n",
      "                 0         1     0    1  Total\n",
      "variable                                      \n",
      "0         0.871541  0.128459  5448  803   6251\n",
      "1         0.794872  0.205128    31    8     39\n"
     ]
    }
   ],
   "source": [
    "value_counts_ratio(train, '불임_원인_-_정자_농도')"
   ]
  },
  {
   "cell_type": "code",
   "execution_count": 117,
   "metadata": {},
   "outputs": [
    {
     "data": {
      "text/plain": [
       "0    2165\n",
       "1      11\n",
       "Name: 불임_원인_-_정자_농도, dtype: int64"
      ]
     },
     "execution_count": 117,
     "metadata": {},
     "output_type": "execute_result"
    }
   ],
   "source": [
    "test['불임_원인_-_정자_농도'].value_counts()"
   ]
  },
  {
   "cell_type": "markdown",
   "metadata": {},
   "source": [
    "### 고윳값 1개"
   ]
  },
  {
   "cell_type": "code",
   "execution_count": 118,
   "metadata": {},
   "outputs": [],
   "source": [
    "# 변수 제거\n",
    "train = train.drop(columns=['불임_원인_-_정자_면역학적_요인'])\n",
    "test = test.drop(columns=['불임_원인_-_정자_면역학적_요인'])"
   ]
  },
  {
   "cell_type": "code",
   "execution_count": 119,
   "metadata": {},
   "outputs": [],
   "source": [
    "# 변수 제거\n",
    "train = train.drop(columns=['불임_원인_-_정자_운동성'])\n",
    "test = test.drop(columns=['불임_원인_-_정자_운동성'])"
   ]
  },
  {
   "cell_type": "code",
   "execution_count": 120,
   "metadata": {},
   "outputs": [],
   "source": [
    "# 변수 제거\n",
    "train = train.drop(columns=['불임_원인_-_정자_형태'])\n",
    "test = test.drop(columns=['불임_원인_-_정자_형태'])"
   ]
  },
  {
   "cell_type": "markdown",
   "metadata": {},
   "source": [
    "### 모든 값이 결측"
   ]
  },
  {
   "cell_type": "code",
   "execution_count": 121,
   "metadata": {},
   "outputs": [],
   "source": [
    "# value_counts_ratio(train, '배아_생성_주요_이유')  -> 모든값이 결측"
   ]
  },
  {
   "cell_type": "markdown",
   "metadata": {},
   "source": [
    "### 29. 총_시술_횟수"
   ]
  },
  {
   "cell_type": "markdown",
   "metadata": {},
   "source": [
    "IVF 및 DI 포함한 전체 시술 횟수"
   ]
  },
  {
   "cell_type": "code",
   "execution_count": 122,
   "metadata": {},
   "outputs": [
    {
     "name": "stdout",
     "output_type": "stream",
     "text": [
      "\n",
      "총_시술_횟수별 임신_성공_여부 비율 및 갯수\n",
      "\n",
      "                 0         1     0    1  Total\n",
      "variable                                      \n",
      "0회        0.926768  0.073232   367   29    396\n",
      "1회        0.865406  0.134594   778  121    899\n",
      "2회        0.866184  0.133816   958  148   1106\n",
      "3회        0.876923  0.123077   912  128   1040\n",
      "4회        0.853685  0.146315   776  133    909\n",
      "5회        0.870095  0.129905   643   96    739\n",
      "6회 이상     0.870108  0.129892  1045  156   1201\n"
     ]
    }
   ],
   "source": [
    "value_counts_ratio(train, '총_시술_횟수')"
   ]
  },
  {
   "cell_type": "markdown",
   "metadata": {},
   "source": [
    "### 30. 클리닉_내_총_시술_횟수"
   ]
  },
  {
   "cell_type": "markdown",
   "metadata": {},
   "source": [
    "특정 클리닉에서 받은 IVF 및 DI 시술 횟수"
   ]
  },
  {
   "cell_type": "code",
   "execution_count": 123,
   "metadata": {},
   "outputs": [
    {
     "name": "stdout",
     "output_type": "stream",
     "text": [
      "\n",
      "클리닉_내_총_시술_횟수별 임신_성공_여부 비율 및 갯수\n",
      "\n",
      "                 0         1     0    1  Total\n",
      "variable                                      \n",
      "0회        0.894336  0.105664   821   97    918\n",
      "1회        0.870229  0.129771  1026  153   1179\n",
      "2회        0.872414  0.127586  1012  148   1160\n",
      "3회        0.875135  0.124865   813  116    929\n",
      "4회        0.867758  0.132242   689  105    794\n",
      "5회        0.865079  0.134921   545   85    630\n",
      "6회 이상     0.842647  0.157353   573  107    680\n"
     ]
    }
   ],
   "source": [
    "value_counts_ratio(train, '클리닉_내_총_시술_횟수')"
   ]
  },
  {
   "cell_type": "markdown",
   "metadata": {},
   "source": [
    "### 31. IVF_시술_횟수"
   ]
  },
  {
   "cell_type": "markdown",
   "metadata": {},
   "source": [
    "이전에 수행된 IVF 시술 횟수"
   ]
  },
  {
   "cell_type": "code",
   "execution_count": 124,
   "metadata": {},
   "outputs": [
    {
     "name": "stdout",
     "output_type": "stream",
     "text": [
      "\n",
      "IVF_시술_횟수별 임신_성공_여부 비율 및 갯수\n",
      "\n",
      "                 0         1     0    1  Total\n",
      "variable                                      \n",
      "0회        0.861111  0.138889  3224  520   3744\n",
      "1회        0.871795  0.128205   816  120    936\n",
      "2회        0.898990  0.101010   534   60    594\n",
      "3회        0.878282  0.121718   368   51    419\n",
      "4회        0.892720  0.107280   233   28    261\n",
      "5회        0.921212  0.078788   152   13    165\n",
      "6회 이상     0.888889  0.111111   152   19    171\n"
     ]
    }
   ],
   "source": [
    "value_counts_ratio(train, 'IVF_시술_횟수')"
   ]
  },
  {
   "cell_type": "markdown",
   "metadata": {},
   "source": [
    "### 32. DI_시술_횟수"
   ]
  },
  {
   "cell_type": "markdown",
   "metadata": {},
   "source": [
    "이전에 수행된 DI 시술 횟수"
   ]
  },
  {
   "cell_type": "code",
   "execution_count": 125,
   "metadata": {},
   "outputs": [
    {
     "name": "stdout",
     "output_type": "stream",
     "text": [
      "\n",
      "DI_시술_횟수별 임신_성공_여부 비율 및 갯수\n",
      "\n",
      "                 0         1     0    1  Total\n",
      "variable                                      \n",
      "0회        0.900973  0.099027  1019  112   1131\n",
      "1회        0.873262  0.126738  1068  155   1223\n",
      "2회        0.860793  0.139207   977  158   1135\n",
      "3회        0.871397  0.128603   786  116    902\n",
      "4회        0.857542  0.142458   614  102    716\n",
      "5회        0.890435  0.109565   512   63    575\n",
      "6회 이상     0.827303  0.172697   503  105    608\n"
     ]
    }
   ],
   "source": [
    "value_counts_ratio(train, 'DI_시술_횟수')"
   ]
  },
  {
   "cell_type": "markdown",
   "metadata": {},
   "source": [
    "### 33. 총_임신_횟수"
   ]
  },
  {
   "cell_type": "markdown",
   "metadata": {},
   "source": [
    "IVF 및 DI 포함한 총 임신 횟수"
   ]
  },
  {
   "cell_type": "code",
   "execution_count": 126,
   "metadata": {},
   "outputs": [
    {
     "name": "stdout",
     "output_type": "stream",
     "text": [
      "\n",
      "총_임신_횟수별 임신_성공_여부 비율 및 갯수\n",
      "\n",
      "                 0         1       0      1  Total\n",
      "variable                                          \n",
      "0회        0.902511  0.097489  3379.0  365.0   3744\n",
      "1회        0.830102  0.169898  1798.0  368.0   2166\n",
      "2회        0.785933  0.214067   257.0   70.0    327\n",
      "3회        0.847826  0.152174    39.0    7.0     46\n",
      "4회        1.000000  0.000000     6.0    0.0      6\n",
      "5회        0.000000  1.000000     0.0    1.0      1\n"
     ]
    }
   ],
   "source": [
    "value_counts_ratio(train, '총_임신_횟수')"
   ]
  },
  {
   "cell_type": "markdown",
   "metadata": {},
   "source": [
    "### 34. IVF_임신_횟수"
   ]
  },
  {
   "cell_type": "markdown",
   "metadata": {},
   "source": [
    "IVF 시술로 인한 임신 횟수"
   ]
  },
  {
   "cell_type": "code",
   "execution_count": 127,
   "metadata": {},
   "outputs": [
    {
     "name": "stdout",
     "output_type": "stream",
     "text": [
      "\n",
      "IVF_임신_횟수별 임신_성공_여부 비율 및 갯수\n",
      "\n",
      "                 0         1       0      1  Total\n",
      "variable                                          \n",
      "0회        0.869543  0.130457  5099.0  765.0   5864\n",
      "1회        0.888041  0.111959   349.0   44.0    393\n",
      "2회        0.935484  0.064516    29.0    2.0     31\n",
      "3회        1.000000  0.000000     2.0    0.0      2\n"
     ]
    }
   ],
   "source": [
    "value_counts_ratio(train, 'IVF_임신_횟수')"
   ]
  },
  {
   "cell_type": "markdown",
   "metadata": {},
   "source": [
    "### 35. DI_임신_횟수"
   ]
  },
  {
   "cell_type": "markdown",
   "metadata": {},
   "source": [
    "DI 시술로 인한 임신 횟수"
   ]
  },
  {
   "cell_type": "code",
   "execution_count": 128,
   "metadata": {},
   "outputs": [
    {
     "name": "stdout",
     "output_type": "stream",
     "text": [
      "\n",
      "DI_임신_횟수별 임신_성공_여부 비율 및 갯수\n",
      "\n",
      "                 0         1       0      1  Total\n",
      "variable                                          \n",
      "0회        0.900752  0.099248  3712.0  409.0   4121\n",
      "1회        0.823656  0.176344  1532.0  328.0   1860\n",
      "2회        0.752809  0.247191   201.0   66.0    267\n",
      "3회        0.810811  0.189189    30.0    7.0     37\n",
      "4회        1.000000  0.000000     4.0    0.0      4\n",
      "5회        0.000000  1.000000     0.0    1.0      1\n"
     ]
    }
   ],
   "source": [
    "value_counts_ratio(train, 'DI_임신_횟수')"
   ]
  },
  {
   "cell_type": "markdown",
   "metadata": {},
   "source": [
    "### 36. 총_출산_횟수"
   ]
  },
  {
   "cell_type": "markdown",
   "metadata": {},
   "source": [
    "IVF 및 DI 시술로 출산한 횟수"
   ]
  },
  {
   "cell_type": "code",
   "execution_count": 129,
   "metadata": {},
   "outputs": [
    {
     "name": "stdout",
     "output_type": "stream",
     "text": [
      "\n",
      "총_출산_횟수별 임신_성공_여부 비율 및 갯수\n",
      "\n",
      "                 0         1     0    1  Total\n",
      "variable                                      \n",
      "0회        0.899191  0.100809  3889  436   4325\n",
      "1회        0.809258  0.190742  1451  342   1793\n",
      "2회        0.801325  0.198675   121   30    151\n",
      "3회        0.857143  0.142857    18    3     21\n"
     ]
    }
   ],
   "source": [
    "value_counts_ratio(train, '총_출산_횟수')"
   ]
  },
  {
   "cell_type": "markdown",
   "metadata": {},
   "source": [
    "### 37. IVF_출산_횟수"
   ]
  },
  {
   "cell_type": "markdown",
   "metadata": {},
   "source": [
    "IVF 시술로 출산한 횟수"
   ]
  },
  {
   "cell_type": "code",
   "execution_count": 130,
   "metadata": {},
   "outputs": [
    {
     "name": "stdout",
     "output_type": "stream",
     "text": [
      "\n",
      "IVF_출산_횟수별 임신_성공_여부 비율 및 갯수\n",
      "\n",
      "                 0         1     0    1  Total\n",
      "variable                                      \n",
      "0회        0.870367  0.129633  5237  780   6017\n",
      "1회        0.890566  0.109434   236   29    265\n",
      "2회        0.750000  0.250000     6    2      8\n"
     ]
    }
   ],
   "source": [
    "value_counts_ratio(train, 'IVF_출산_횟수')"
   ]
  },
  {
   "cell_type": "markdown",
   "metadata": {},
   "source": [
    "### 38. DI_출산_횟수"
   ]
  },
  {
   "cell_type": "markdown",
   "metadata": {},
   "source": [
    "DI 시술로 출산한 횟수"
   ]
  },
  {
   "cell_type": "code",
   "execution_count": 131,
   "metadata": {},
   "outputs": [
    {
     "name": "stdout",
     "output_type": "stream",
     "text": [
      "\n",
      "DI_출산_횟수별 임신_성공_여부 비율 및 갯수\n",
      "\n",
      "                 0         1     0    1  Total\n",
      "variable                                      \n",
      "0회        0.898298  0.101702  4116  466   4582\n",
      "1회        0.797558  0.202442  1241  315   1556\n",
      "2회        0.800000  0.200000   108   27    135\n",
      "3회        0.823529  0.176471    14    3     17\n"
     ]
    }
   ],
   "source": [
    "value_counts_ratio(train, 'DI_출산_횟수')"
   ]
  },
  {
   "cell_type": "code",
   "execution_count": 132,
   "metadata": {},
   "outputs": [],
   "source": [
    "# 숫자 매핑\n",
    "mapping = {\n",
    "    '0회': 0,\n",
    "    '1회': 1,\n",
    "    '2회': 2,\n",
    "    '3회': 3,\n",
    "    '4회': 4,\n",
    "    '5회': 5,\n",
    "    '6회 이상': 6\n",
    "}\n",
    "\n",
    "# 숫자로 변환\n",
    "train['총_시술_횟수'] = train['총_시술_횟수'].map(mapping)\n",
    "train['클리닉_내_총_시술_횟수'] = train['클리닉_내_총_시술_횟수'].map(mapping)\n",
    "train['IVF_시술_횟수'] = train['IVF_시술_횟수'].map(mapping)\n",
    "train['DI_시술_횟수'] = train['DI_시술_횟수'].map(mapping)\n",
    "train['총_임신_횟수'] = train['총_임신_횟수'].map(mapping)\n",
    "train['IVF_임신_횟수'] = train['IVF_임신_횟수'].map(mapping)\n",
    "train['DI_임신_횟수'] = train['DI_임신_횟수'].map(mapping)\n",
    "train['총_출산_횟수'] = train['총_출산_횟수'].map(mapping)\n",
    "train['IVF_출산_횟수'] = train['IVF_출산_횟수'].map(mapping)\n",
    "train['DI_출산_횟수'] = train['DI_출산_횟수'].map(mapping)\n",
    "\n",
    "test['총_시술_횟수'] = test['총_시술_횟수'].map(mapping)\n",
    "test['클리닉_내_총_시술_횟수'] = test['클리닉_내_총_시술_횟수'].map(mapping)\n",
    "test['IVF_시술_횟수'] = test['IVF_시술_횟수'].map(mapping)\n",
    "test['DI_시술_횟수'] = test['DI_시술_횟수'].map(mapping)\n",
    "test['총_임신_횟수'] = test['총_임신_횟수'].map(mapping)\n",
    "test['IVF_임신_횟수'] = test['IVF_임신_횟수'].map(mapping)\n",
    "test['DI_임신_횟수'] = test['DI_임신_횟수'].map(mapping)\n",
    "test['총_출산_횟수'] = test['총_출산_횟수'].map(mapping)\n",
    "test['IVF_출산_횟수'] = test['IVF_출산_횟수'].map(mapping)\n",
    "test['DI_출산_횟수'] = test['DI_출산_횟수'].map(mapping)"
   ]
  },
  {
   "cell_type": "code",
   "execution_count": 133,
   "metadata": {},
   "outputs": [],
   "source": [
    "# 주요 비율 계산 (train 데이터프레임)\n",
    "train['IVF_임신_시술_비율'] = np.where(train['IVF_시술_횟수'] > 0, train['IVF_임신_횟수'] / train['IVF_시술_횟수'], 0)\n",
    "train['IVF_출산_임신_비율'] = np.where(train['IVF_임신_횟수'] > 0, train['IVF_출산_횟수'] / train['IVF_임신_횟수'], 0)\n",
    "\n",
    "train['DI_임신_시술_비율'] = np.where(train['DI_시술_횟수'] > 0, train['DI_임신_횟수'] / train['DI_시술_횟수'], 0)\n",
    "train['DI_출산_임신_비율'] = np.where(train['DI_임신_횟수'] > 0, train['DI_출산_횟수'] / train['DI_임신_횟수'], 0)\n",
    "\n",
    "# 성공률 계산\n",
    "train['임신_성공률'] = np.where(train['총_시술_횟수'] > 0, train['총_임신_횟수'] / train['총_시술_횟수'], 0)\n",
    "train['출산_성공률'] = np.where(train['총_임신_횟수'] > 0, train['총_출산_횟수'] / train['총_임신_횟수'], 0)\n",
    "\n",
    "# 주요 비율 계산 (test 데이터프레임)\n",
    "test['IVF_임신_시술_비율'] = np.where(test['IVF_시술_횟수'] > 0, test['IVF_임신_횟수'] / test['IVF_시술_횟수'], 0)\n",
    "test['IVF_출산_임신_비율'] = np.where(test['IVF_임신_횟수'] > 0, test['IVF_출산_횟수'] / test['IVF_임신_횟수'], 0)\n",
    "\n",
    "test['DI_임신_시술_비율'] = np.where(test['DI_시술_횟수'] > 0, test['DI_임신_횟수'] / test['DI_시술_횟수'], 0)\n",
    "test['DI_출산_임신_비율'] = np.where(test['DI_임신_횟수'] > 0, test['DI_출산_횟수'] / test['DI_임신_횟수'], 0)\n",
    "\n",
    "# 성공률 계산\n",
    "test['임신_성공률'] = np.where(test['총_시술_횟수'] > 0, test['총_임신_횟수'] / test['총_시술_횟수'], 0)\n",
    "test['출산_성공률'] = np.where(test['총_임신_횟수'] > 0, test['총_출산_횟수'] / test['총_임신_횟수'], 0)"
   ]
  },
  {
   "cell_type": "code",
   "execution_count": 142,
   "metadata": {},
   "outputs": [
    {
     "name": "stdout",
     "output_type": "stream",
     "text": [
      "\n",
      "출산_성공률별 임신_성공_여부 비율 및 갯수\n",
      "\n",
      "                 0         1       0      1  Total\n",
      "variable                                          \n",
      "0.000000  0.899191  0.100809  3889.0  436.0   4325\n",
      "0.333333  1.000000  0.000000     9.0    0.0      9\n",
      "0.500000  0.757576  0.242424   125.0   40.0    165\n",
      "0.600000  0.000000  1.000000     0.0    1.0      1\n",
      "0.666667  0.777778  0.222222    14.0    4.0     18\n",
      "0.750000  1.000000  0.000000     4.0    0.0      4\n",
      "1.000000  0.813348  0.186652  1438.0  330.0   1768\n"
     ]
    }
   ],
   "source": [
    "value_counts_ratio(train, '출산_성공률')"
   ]
  },
  {
   "cell_type": "markdown",
   "metadata": {},
   "source": [
    "### 고윳값 하나 제거"
   ]
  },
  {
   "cell_type": "code",
   "execution_count": 134,
   "metadata": {},
   "outputs": [],
   "source": [
    "# 변수 제거\n",
    "train = train.drop(columns=['난자_출처'])\n",
    "test = test.drop(columns=['난자_출처'])\n",
    "\n",
    "train = train.drop(columns=['정자_출처'])\n",
    "test = test.drop(columns=['정자_출처'])\n",
    "\n",
    "train = train.drop(columns=['난자_기증자_나이'])\n",
    "test = test.drop(columns=['난자_기증자_나이'])"
   ]
  },
  {
   "cell_type": "markdown",
   "metadata": {},
   "source": [
    "### 56. 정자_기증자_나이"
   ]
  },
  {
   "cell_type": "markdown",
   "metadata": {},
   "source": [
    "정자 기증자의 등록 당시 나이"
   ]
  },
  {
   "cell_type": "code",
   "execution_count": 135,
   "metadata": {},
   "outputs": [
    {
     "name": "stdout",
     "output_type": "stream",
     "text": [
      "\n",
      "정자_기증자_나이별 임신_성공_여부 비율 및 갯수\n",
      "\n",
      "                 0         1     0    1  Total\n",
      "variable                                      \n",
      "만20세 이하   0.859935  0.140065   264   43    307\n",
      "만21-25세   0.867880  0.132120  1097  167   1264\n",
      "만26-30세   0.873407  0.126593  1028  149   1177\n",
      "만31-35세   0.867320  0.132680   974  149   1123\n",
      "만36-40세   0.883860  0.116140  1035  136   1171\n",
      "만41-45세   0.864238  0.135762   783  123    906\n",
      "알 수 없음    0.871345  0.128655   298   44    342\n"
     ]
    }
   ],
   "source": [
    "value_counts_ratio(train, '정자_기증자_나이')"
   ]
  },
  {
   "cell_type": "markdown",
   "metadata": {},
   "source": [
    "### 68. 임신_성공_여부"
   ]
  },
  {
   "cell_type": "markdown",
   "metadata": {},
   "source": [
    "해당 시술로부터 임신 성공 여부"
   ]
  },
  {
   "cell_type": "code",
   "execution_count": 136,
   "metadata": {},
   "outputs": [
    {
     "name": "stdout",
     "output_type": "stream",
     "text": [
      "\n",
      "임신_성공_여부별 임신_성공_여부 비율 및 갯수\n",
      "\n",
      "            0    1       0      1  Total\n",
      "variable                                \n",
      "0         1.0  0.0  5479.0    0.0   5479\n",
      "1         0.0  1.0     0.0  811.0    811\n"
     ]
    }
   ],
   "source": [
    "value_counts_ratio(train, '임신_성공_여부')"
   ]
  },
  {
   "cell_type": "markdown",
   "metadata": {},
   "source": [
    "## 변수 상테 확인"
   ]
  },
  {
   "cell_type": "code",
   "execution_count": 137,
   "metadata": {},
   "outputs": [
    {
     "name": "stdout",
     "output_type": "stream",
     "text": [
      "<class 'pandas.core.frame.DataFrame'>\n",
      "Int64Index: 6290 entries, 14 to 256326\n",
      "Data columns (total 37 columns):\n",
      " #   Column                 Non-Null Count  Dtype   \n",
      "---  ------                 --------------  -----   \n",
      " 0   ID                     6290 non-null   object  \n",
      " 1   시술_시기_코드               6290 non-null   object  \n",
      " 2   시술_당시_나이               6290 non-null   object  \n",
      " 3   임신_시도_또는_마지막_임신_경과_연수  6290 non-null   category\n",
      " 4   배란_자극_여부               6290 non-null   int64   \n",
      " 5   남성_주_불임_원인             6290 non-null   int64   \n",
      " 6   남성_부_불임_원인             6290 non-null   int64   \n",
      " 7   여성_주_불임_원인             6290 non-null   int64   \n",
      " 8   여성_부_불임_원인             6290 non-null   int64   \n",
      " 9   부부_주_불임_원인             6290 non-null   int64   \n",
      " 10  부부_부_불임_원인             6290 non-null   int64   \n",
      " 11  불명확_불임_원인              6290 non-null   int64   \n",
      " 12  불임_원인_-_난관_질환          6290 non-null   int64   \n",
      " 13  불임_원인_-_남성_요인          6290 non-null   int64   \n",
      " 14  불임_원인_-_배란_장애          6290 non-null   int64   \n",
      " 15  불임_원인_-_자궁내막증          6290 non-null   int64   \n",
      " 16  불임_원인_-_정자_농도          6290 non-null   int64   \n",
      " 17  총_시술_횟수                6290 non-null   int64   \n",
      " 18  클리닉_내_총_시술_횟수          6290 non-null   int64   \n",
      " 19  IVF_시술_횟수              6290 non-null   int64   \n",
      " 20  DI_시술_횟수               6290 non-null   int64   \n",
      " 21  총_임신_횟수                6290 non-null   int64   \n",
      " 22  IVF_임신_횟수              6290 non-null   int64   \n",
      " 23  DI_임신_횟수               6290 non-null   int64   \n",
      " 24  총_출산_횟수                6290 non-null   int64   \n",
      " 25  IVF_출산_횟수              6290 non-null   int64   \n",
      " 26  DI_출산_횟수               6290 non-null   int64   \n",
      " 27  정자_기증자_나이              6290 non-null   object  \n",
      " 28  임신_성공_여부               6290 non-null   int64   \n",
      " 29  시술_당시_나이_더미            6290 non-null   int64   \n",
      " 30  변환된_특정_시술_유형           6290 non-null   object  \n",
      " 31  IVF_임신_시술_비율           6290 non-null   float64 \n",
      " 32  IVF_출산_임신_비율           6290 non-null   float64 \n",
      " 33  DI_임신_시술_비율            6290 non-null   float64 \n",
      " 34  DI_출산_임신_비율            6290 non-null   float64 \n",
      " 35  임신_성공률                 6290 non-null   float64 \n",
      " 36  출산_성공률                 6290 non-null   float64 \n",
      "dtypes: category(1), float64(6), int64(25), object(5)\n",
      "memory usage: 1.8+ MB\n"
     ]
    }
   ],
   "source": [
    "train.info()"
   ]
  },
  {
   "cell_type": "code",
   "execution_count": 117,
   "metadata": {},
   "outputs": [
    {
     "name": "stdout",
     "output_type": "stream",
     "text": [
      "<class 'pandas.core.frame.DataFrame'>\n",
      "Int64Index: 2176 entries, 26 to 90046\n",
      "Data columns (total 35 columns):\n",
      " #   Column                 Non-Null Count  Dtype   \n",
      "---  ------                 --------------  -----   \n",
      " 0   ID                     2176 non-null   object  \n",
      " 1   시술_시기_코드               2176 non-null   object  \n",
      " 2   시술_당시_나이               2176 non-null   object  \n",
      " 3   임신_시도_또는_마지막_임신_경과_연수  2176 non-null   category\n",
      " 4   배란_자극_여부               2176 non-null   int64   \n",
      " 5   남성_주_불임_원인             2176 non-null   int64   \n",
      " 6   남성_부_불임_원인             2176 non-null   int64   \n",
      " 7   여성_주_불임_원인             2176 non-null   int64   \n",
      " 8   여성_부_불임_원인             2176 non-null   int64   \n",
      " 9   부부_주_불임_원인             2176 non-null   int64   \n",
      " 10  부부_부_불임_원인             2176 non-null   int64   \n",
      " 11  불명확_불임_원인              2176 non-null   int64   \n",
      " 12  불임_원인_-_난관_질환          2176 non-null   int64   \n",
      " 13  불임_원인_-_남성_요인          2176 non-null   int64   \n",
      " 14  불임_원인_-_배란_장애          2176 non-null   int64   \n",
      " 15  불임_원인_-_자궁내막증          2176 non-null   int64   \n",
      " 16  불임_원인_-_정자_농도          2176 non-null   int64   \n",
      " 17  총_시술_횟수                2176 non-null   int64   \n",
      " 18  클리닉_내_총_시술_횟수          2176 non-null   int64   \n",
      " 19  IVF_시술_횟수              2176 non-null   int64   \n",
      " 20  DI_시술_횟수               2176 non-null   int64   \n",
      " 21  총_임신_횟수                2176 non-null   int64   \n",
      " 22  IVF_임신_횟수              2176 non-null   int64   \n",
      " 23  DI_임신_횟수               2176 non-null   int64   \n",
      " 24  총_출산_횟수                2176 non-null   int64   \n",
      " 25  IVF_출산_횟수              2176 non-null   int64   \n",
      " 26  DI_출산_횟수               2176 non-null   int64   \n",
      " 27  정자_기증자_나이              2176 non-null   object  \n",
      " 28  변환된_특정_시술_유형           2176 non-null   object  \n",
      " 29  IVF_임신_시술_비율           2176 non-null   float64 \n",
      " 30  IVF_출산_임신_비율           2176 non-null   float64 \n",
      " 31  DI_임신_시술_비율            2176 non-null   float64 \n",
      " 32  DI_출산_임신_비율            2176 non-null   float64 \n",
      " 33  임신_성공률                 2176 non-null   float64 \n",
      " 34  출산_성공률                 2176 non-null   float64 \n",
      "dtypes: category(1), float64(6), int64(23), object(5)\n",
      "memory usage: 597.5+ KB\n"
     ]
    }
   ],
   "source": [
    "test.info()"
   ]
  },
  {
   "cell_type": "markdown",
   "metadata": {},
   "source": [
    "## 데이터 저장"
   ]
  },
  {
   "cell_type": "code",
   "execution_count": 118,
   "metadata": {},
   "outputs": [],
   "source": [
    "# test 데이터셋을 CSV 파일로 저장 (UTF-8 인코딩)\n",
    "train.to_csv('../data/DI_train_dataset_24.csv', index=False, encoding='utf-8-sig')\n",
    "test.to_csv('../data/DI_test_dataset_24.csv', index=False, encoding='utf-8-sig')"
   ]
  },
  {
   "cell_type": "markdown",
   "metadata": {},
   "source": [
    "."
   ]
  }
 ],
 "metadata": {
  "kernelspec": {
   "display_name": "Python 3",
   "language": "python",
   "name": "python3"
  },
  "language_info": {
   "codemirror_mode": {
    "name": "ipython",
    "version": 3
   },
   "file_extension": ".py",
   "mimetype": "text/x-python",
   "name": "python",
   "nbconvert_exporter": "python",
   "pygments_lexer": "ipython3",
   "version": "3.7.8"
  }
 },
 "nbformat": 4,
 "nbformat_minor": 2
}
