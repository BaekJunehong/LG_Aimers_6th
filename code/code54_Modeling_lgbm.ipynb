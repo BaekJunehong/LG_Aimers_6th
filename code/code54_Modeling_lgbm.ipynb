{
 "cells": [
  {
   "cell_type": "markdown",
   "metadata": {},
   "source": [
    "## 난임 환자 대상 임신 성공 여부 예측"
   ]
  },
  {
   "cell_type": "markdown",
   "metadata": {},
   "source": [
    "### LGAimers 6th 온라인 해커톤"
   ]
  },
  {
   "cell_type": "markdown",
   "metadata": {},
   "source": [
    "### Import"
   ]
  },
  {
   "cell_type": "code",
   "execution_count": 1,
   "metadata": {},
   "outputs": [],
   "source": [
    "import pandas as pd\n",
    "import matplotlib.pyplot as plt\n",
    "import lightgbm as lgb\n",
    "from sklearn.preprocessing import OrdinalEncoder\n",
    "from sklearn.model_selection import train_test_split\n",
    "from sklearn.metrics import accuracy_score, f1_score, roc_auc_score, confusion_matrix, ConfusionMatrixDisplay"
   ]
  },
  {
   "cell_type": "code",
   "execution_count": 2,
   "metadata": {},
   "outputs": [],
   "source": [
    "def train_and_evaluate(model, X_train, y_train, X_test, y_test):\n",
    "    # 모델 학습\n",
    "    model.fit(X_train, y_train)\n",
    "    \n",
    "    # 예측\n",
    "    y_pred = model.predict(X_test)\n",
    "    y_pred_proba = model.predict_proba(X_test)[:, 1]\n",
    "    \n",
    "    # 평가\n",
    "    accuracy = accuracy_score(y_test, y_pred)\n",
    "    f1 = f1_score(y_test, y_pred)\n",
    "    auc = roc_auc_score(y_test, y_pred_proba)\n",
    "    cm = confusion_matrix(y_test, y_pred)\n",
    "    \n",
    "    # 결과 출력\n",
    "    print()\n",
    "    print(\"--- Model Performance ---\")\n",
    "    print(f\"Model Accuracy: {accuracy}\")\n",
    "    print(f\"Model F1 Score: {f1}\")\n",
    "    print(f\"Model AUC: {auc}\")\n",
    "    \n",
    "    # 혼동 행렬 출력\n",
    "    disp = ConfusionMatrixDisplay(confusion_matrix=cm, display_labels=model.classes_)\n",
    "    disp.plot(cmap=plt.cm.Blues)\n",
    "    plt.show()\n",
    "    \n",
    "    return y_pred, y_pred_proba"
   ]
  },
  {
   "cell_type": "markdown",
   "metadata": {},
   "source": [
    "### Data Load"
   ]
  },
  {
   "cell_type": "code",
   "execution_count": 3,
   "metadata": {},
   "outputs": [],
   "source": [
    "# 데이터 로드\n",
    "IVF_train = pd.read_csv('../data/IVF_train_dataset_54.csv')\n",
    "IVF_test = pd.read_csv('../data/IVF_test_dataset_54.csv')\n",
    "\n",
    "DI_train = pd.read_csv('../data/DI_train_dataset_54.csv')\n",
    "DI_test = pd.read_csv('../data/DI_test_dataset_54.csv')"
   ]
  },
  {
   "cell_type": "code",
   "execution_count": 4,
   "metadata": {},
   "outputs": [],
   "source": [
    "# ID 열을 제외한 특성과 타겟 변수 분리\n",
    "IVF_X = IVF_train.drop(['임신_성공_여부', 'ID'], axis=1)\n",
    "IVF_y = IVF_train['임신_성공_여부']\n",
    "\n",
    "DI_X = DI_train.drop(['임신_성공_여부', 'ID'], axis=1)\n",
    "DI_y = DI_train['임신_성공_여부']"
   ]
  },
  {
   "cell_type": "code",
   "execution_count": 5,
   "metadata": {},
   "outputs": [
    {
     "name": "stdout",
     "output_type": "stream",
     "text": [
      "IVF_X shape: (250052, 77)\n",
      "IVF_test shape: (87891, 77)\n",
      "DI_X shape: (6289, 31)\n",
      "DI_test shape: (2176, 31)\n"
     ]
    }
   ],
   "source": [
    "print(f\"IVF_X shape: {IVF_X.shape}\")\n",
    "print(f\"IVF_test shape: {IVF_test.drop('ID', axis=1).shape}\")\n",
    "\n",
    "print(f\"DI_X shape: {DI_X.shape}\")\n",
    "print(f\"DI_test shape: {DI_test.drop('ID', axis=1).shape}\")"
   ]
  },
  {
   "cell_type": "markdown",
   "metadata": {},
   "source": [
    "### 인코딩 "
   ]
  },
  {
   "cell_type": "code",
   "execution_count": 6,
   "metadata": {},
   "outputs": [],
   "source": [
    "IVF_categorical_columns = [\n",
    "    \"시술_시기_코드\",\n",
    "    \"시술_당시_나이\",\n",
    "    \"특정_시술_유형\",\n",
    "    \"배란_유도_유형\",\n",
    "    \"난자_출처\",\n",
    "    \"정자_출처\",\n",
    "    \"난자_기증자_나이\",\n",
    "    \"정자_기증자_나이\",\n",
    "    \"채취_해동_차이\",\n",
    "    \"해동_혼합_차이\",\n",
    "    \"혼합_이식_차이\",\n",
    "    \"이식_해동_차이\"\n",
    "]"
   ]
  },
  {
   "cell_type": "code",
   "execution_count": 7,
   "metadata": {},
   "outputs": [],
   "source": [
    "DI_categorical_columns = [\n",
    "    \"시술_시기_코드\",\n",
    "    \"시술_당시_나이\",\n",
    "    \"특정_시술_유형\",\n",
    "    \"정자_기증자_나이\"\n",
    "]"
   ]
  },
  {
   "cell_type": "code",
   "execution_count": 8,
   "metadata": {},
   "outputs": [],
   "source": [
    "# 모든 범주형 변수를 문자열로 변환\n",
    "IVF_X[IVF_categorical_columns] = IVF_X[IVF_categorical_columns].astype(str)\n",
    "DI_X[DI_categorical_columns] = DI_X[DI_categorical_columns].astype(str)\n",
    "IVF_test[IVF_categorical_columns] = IVF_test[IVF_categorical_columns].astype(str)\n",
    "DI_test[DI_categorical_columns] = DI_test[DI_categorical_columns].astype(str)\n",
    "\n",
    "# OrdinalEncoder를 사용하여 범주형 변수 인코딩\n",
    "IVF_encoder = OrdinalEncoder(handle_unknown='use_encoded_value', unknown_value=-1)\n",
    "DI_encoder = OrdinalEncoder(handle_unknown='use_encoded_value', unknown_value=-1)\n",
    "\n",
    "IVF_X[IVF_categorical_columns] = IVF_encoder.fit_transform(IVF_X[IVF_categorical_columns])\n",
    "DI_X[DI_categorical_columns] = DI_encoder.fit_transform(DI_X[DI_categorical_columns])\n",
    "IVF_test[IVF_categorical_columns] = IVF_encoder.transform(IVF_test[IVF_categorical_columns])\n",
    "DI_test[DI_categorical_columns] = DI_encoder.transform(DI_test[DI_categorical_columns])"
   ]
  },
  {
   "cell_type": "markdown",
   "metadata": {},
   "source": [
    "## Modeling"
   ]
  },
  {
   "cell_type": "code",
   "execution_count": 9,
   "metadata": {},
   "outputs": [],
   "source": [
    "# 데이터 분할\n",
    "IVF_X_train, IVF_X_test, IVF_y_train, IVF_y_test = train_test_split(IVF_X, IVF_y, test_size=0.2, random_state=42)\n",
    "DI_X_train, DI_X_test, DI_y_train, DI_y_test = train_test_split(DI_X, DI_y, test_size=0.2, random_state=42)"
   ]
  },
  {
   "cell_type": "markdown",
   "metadata": {},
   "source": [
    "### IVF 데이터"
   ]
  },
  {
   "cell_type": "code",
   "execution_count": 10,
   "metadata": {},
   "outputs": [
    {
     "name": "stdout",
     "output_type": "stream",
     "text": [
      "\n",
      "--- Model Performance ---\n",
      "Model Accuracy: 0.7454759952810381\n",
      "Model F1 Score: 0.19655368301458057\n",
      "Model AUC: 0.7402165540043341\n"
     ]
    },
    {
     "data": {
      "image/png": "[encoded data removed]",
      "text/plain": [
       "<Figure size 640x480 with 2 Axes>"
      ]
     },
     "metadata": {},
     "output_type": "display_data"
    }
   ],
   "source": [
    "# 모델 초기화\n",
    "IVF_model = lgb.LGBMClassifier(\n",
    "    n_estimators=4471,\n",
    "    num_leaves=13,\n",
    "    max_depth=279,\n",
    "    learning_rate=0.007075124517450591,\n",
    "    min_child_samples=26,\n",
    "    subsample=0.29772991936701476,\n",
    "    colsample_bytree=0.8913054521763838,\n",
    "    reg_alpha=0.0004860363321690653,\n",
    "    reg_lambda=311.08056657247363,\n",
    "    min_split_gain=0.18214905183450955,\n",
    "    random_state=42,\n",
    "    boosting_type='gbdt',\n",
    "    verbose=-1\n",
    ")\n",
    "\n",
    "# 모델 학습 및 평가\n",
    "IVF_y_pred, IVF_y_pred_proba = train_and_evaluate(IVF_model, IVF_X_train, IVF_y_train, IVF_X_test, IVF_y_test)"
   ]
  },
  {
   "cell_type": "markdown",
   "metadata": {},
   "source": [
    "### DI 데이터"
   ]
  },
  {
   "cell_type": "code",
   "execution_count": 11,
   "metadata": {},
   "outputs": [
    {
     "name": "stdout",
     "output_type": "stream",
     "text": [
      "\n",
      "--- Model Performance ---\n",
      "Model Accuracy: 0.8736089030206677\n",
      "Model F1 Score: 0.0\n",
      "Model AUC: 0.7044482977664086\n"
     ]
    },
    {
     "data": {
      "image/png": "[encoded data removed]",
      "text/plain": [
       "<Figure size 640x480 with 2 Axes>"
      ]
     },
     "metadata": {},
     "output_type": "display_data"
    }
   ],
   "source": [
    "# 모델 초기화\n",
    "DI_model = lgb.LGBMClassifier(\n",
    "    n_estimators=1816,\n",
    "    num_leaves=3926,\n",
    "    max_depth=259,\n",
    "    learning_rate=0.00238377640011148,\n",
    "    min_child_samples=1,\n",
    "    subsample=0.7610056627240331,\n",
    "    colsample_bytree=0.6655579164853634,\n",
    "    reg_alpha=0.00025227758337188327,\n",
    "    reg_lambda=76.744107215122684,\n",
    "    min_split_gain=0.007773520329665474,\n",
    "    random_state=42,\n",
    "    boosting_type='gbdt',\n",
    "    verbose=-1\n",
    ")\n",
    "\n",
    "# 모델 학습 및 평가\n",
    "DI_y_pred, DI_y_pred_proba = train_and_evaluate(DI_model, DI_X_train, DI_y_train, DI_X_test, DI_y_test)"
   ]
  },
  {
   "cell_type": "code",
   "execution_count": 12,
   "metadata": {},
   "outputs": [
    {
     "name": "stdout",
     "output_type": "stream",
     "text": [
      "\n",
      "--- Combined Model Performance ---\n",
      "Model Accuracy: 0.7486200237960561\n",
      "Model F1 Score: 0.19460067491563554\n",
      "Model AUC: 0.742143990094072\n"
     ]
    },
    {
     "data": {
      "image/png": "[encoded data removed]",
      "text/plain": [
       "<Figure size 640x480 with 2 Axes>"
      ]
     },
     "metadata": {},
     "output_type": "display_data"
    }
   ],
   "source": [
    "# 예측 결과 병합\n",
    "y_test = pd.concat([IVF_y_test, DI_y_test])\n",
    "y_pred = pd.concat([pd.Series(IVF_y_pred, index=IVF_y_test.index), pd.Series(DI_y_pred, index=DI_y_test.index)])\n",
    "y_pred_proba = pd.concat([pd.Series(IVF_y_pred_proba, index=IVF_y_test.index), pd.Series(DI_y_pred_proba, index=DI_y_test.index)])\n",
    "\n",
    "# 평가\n",
    "accuracy = accuracy_score(y_test, y_pred)\n",
    "f1 = f1_score(y_test, y_pred)\n",
    "auc = roc_auc_score(y_test, y_pred_proba)\n",
    "cm = confusion_matrix(y_test, y_pred)\n",
    "\n",
    "# 결과 출력\n",
    "print()\n",
    "print(\"--- Combined Model Performance ---\")\n",
    "print(f\"Model Accuracy: {accuracy}\")\n",
    "print(f\"Model F1 Score: {f1}\")\n",
    "print(f\"Model AUC: {auc}\")\n",
    "\n",
    "# 혼동 행렬 출력\n",
    "disp = ConfusionMatrixDisplay(confusion_matrix=cm, display_labels=IVF_model.classes_)\n",
    "disp.plot(cmap=plt.cm.Blues)\n",
    "plt.show()"
   ]
  },
  {
   "cell_type": "markdown",
   "metadata": {},
   "source": [
    "데이콘 PUBLIC 0.7414473659"
   ]
  },
  {
   "cell_type": "markdown",
   "metadata": {},
   "source": [
    "## 제출"
   ]
  },
  {
   "cell_type": "code",
   "execution_count": 13,
   "metadata": {},
   "outputs": [],
   "source": [
    "# 모델 학습 및 예측\n",
    "IVF_model.fit(IVF_X, IVF_y)\n",
    "IVF_pred_proba = IVF_model.predict_proba(IVF_test.drop('ID', axis=1))[:, 1]\n",
    "\n",
    "DI_model.fit(DI_X, DI_y)\n",
    "DI_pred_proba = DI_model.predict_proba(DI_test.drop('ID', axis=1))[:, 1]"
   ]
  },
  {
   "cell_type": "code",
   "execution_count": 14,
   "metadata": {},
   "outputs": [],
   "source": [
    "# 예측 결과 병합\n",
    "IVF_test['probability'] = IVF_pred_proba\n",
    "DI_test['probability'] = DI_pred_proba\n",
    "\n",
    "# 최종 제출 파일 생성\n",
    "submission = pd.concat([IVF_test[['ID', 'probability']], DI_test[['ID', 'probability']]], axis=0)\n",
    "submission = submission.sort_values(by='ID')  \n",
    "\n",
    "# 제출 파일 저장\n",
    "submission.to_csv('../submission/code54_lgbm.csv', index=False, encoding='utf-8')"
   ]
  },
  {
   "cell_type": "markdown",
   "metadata": {},
   "source": [
    "---"
   ]
  },
  {
   "cell_type": "code",
   "execution_count": 15,
   "metadata": {},
   "outputs": [],
   "source": [
    "import pandas as pd\n",
    "\n",
    "# 두 CSV 파일을 읽어옵니다.\n",
    "# df1 = pd.read_csv('../submission/code26_voting_upgrad_submit_LgbmXgb.csv')\n",
    "# df1 = pd.read_csv('../submission/code26_submit.csv')\n",
    "df1 = pd.read_csv('../submission/code54_lgbm.csv')\n",
    "df2 = pd.read_csv('../submission/code54_lgbm_BG.csv')\n",
    "\n",
    "# ID를 기준으로 병합하여 값이 다른 행을 찾습니다.\n",
    "merged_df = pd.merge(df1, df2, on='ID', suffixes=('_df1', '_df2'))\n",
    "\n",
    "# 'probability' 열의 값이 다른 행을 필터링합니다.\n",
    "different_rows = merged_df[merged_df['probability_df1'] != merged_df['probability_df2']]"
   ]
  },
  {
   "cell_type": "code",
   "execution_count": null,
   "metadata": {},
   "outputs": [],
   "source": [
    "different_rows.head(20)"
   ]
  },
  {
   "cell_type": "code",
   "execution_count": 17,
   "metadata": {},
   "outputs": [],
   "source": [
    "import pandas as pd\n",
    "\n",
    "# 두 CSV 파일을 읽어옵니다.\n",
    "df1 = pd.read_csv('../submission/code26_voting_upgrad_submit_LgbmXgb.csv')\n",
    "df2 = pd.read_csv('../submission/code24_soft_voting_submit2_upgrade3.csv')\n",
    "\n",
    "# ID를 기준으로 병합합니다.\n",
    "merged_df = pd.merge(df1, df2, on='ID', suffixes=('_df1', '_df2'))\n",
    "\n",
    "# 'probability' 열을 소프트 보팅하여 새로운 'probability' 열 생성\n",
    "merged_df['probability'] = (merged_df['probability_df1'] + merged_df['probability_df2']) / 2\n",
    "\n",
    "# 최종 제출 파일 생성\n",
    "submission = merged_df[['ID', 'probability']]\n",
    "submission = submission.sort_values(by='ID')\n",
    "\n",
    "# 제출 파일 저장\n",
    "submission.to_csv('../submission/code24Ncode26.csv', index=False, encoding='utf-8')"
   ]
  },
  {
   "cell_type": "markdown",
   "metadata": {},
   "source": [
    "데이콘 PUBLIC 0.7419769612"
   ]
  },
  {
   "cell_type": "code",
   "execution_count": 26,
   "metadata": {},
   "outputs": [],
   "source": [
    "import pandas as pd\n",
    "\n",
    "# 두 CSV 파일을 읽어옵니다.\n",
    "df1 = pd.read_csv('../submission/code26_voting_upgrad_submit_LgbmXgb.csv')\n",
    "df2 = pd.read_csv('../submission/code24_soft_voting_submit2_upgrade3.csv')\n",
    "\n",
    "# ID를 기준으로 병합합니다.\n",
    "merged_df = pd.merge(df1, df2, on='ID', suffixes=('_df1', '_df2'))\n",
    "\n",
    "# 'probability' 열을 조건에 따라 선택하여 새로운 'probability' 열 생성\n",
    "def select_probability(row):\n",
    "    if row['probability_df1'] > 0.35 and row['probability_df2'] > 0.35:\n",
    "        return max(row['probability_df1'], row['probability_df2']) \n",
    "    elif row['probability_df1'] < 0.25 and row['probability_df2'] < 0.25:\n",
    "        return min(row['probability_df1'], row['probability_df2']) \n",
    "    else:\n",
    "        return row['probability_df1']\n",
    "\n",
    "merged_df['probability'] = merged_df.apply(select_probability, axis=1)\n",
    "\n",
    "# 최종 제출 파일 생성\n",
    "submission = merged_df[['ID', 'probability']]\n",
    "submission = submission.sort_values(by='ID')\n",
    "\n",
    "# 제출 파일 저장\n",
    "submission.to_csv('../submission/code24Ncode26_adv.csv', index=False, encoding='utf-8')"
   ]
  },
  {
   "cell_type": "markdown",
   "metadata": {},
   "source": [
    "데이콘 PUBLIC 0.7419154225"
   ]
  },
  {
   "cell_type": "code",
   "execution_count": 19,
   "metadata": {},
   "outputs": [],
   "source": [
    "import pandas as pd\n",
    "\n",
    "# 두 CSV 파일을 읽어옵니다.\n",
    "df1 = pd.read_csv('../submission/code26_voting_upgrad_submit_LgbmXgb.csv')\n",
    "df2 = pd.read_csv('../submission/code24_soft_voting_submit2_upgrade3.csv')\n",
    "\n",
    "# ID를 기준으로 병합합니다.\n",
    "merged_df = pd.merge(df1, df2, on='ID', suffixes=('_df1', '_df2'))\n",
    "\n",
    "# 'probability' 열을 조건에 따라 선택하여 새로운 'probability' 열 생성\n",
    "def select_probability(row):\n",
    "    if row['probability_df1'] > 0.3 and row['probability_df2'] > 0.3:\n",
    "        return max(row['probability_df1'], row['probability_df2']) \n",
    "    elif row['probability_df1'] < 0.2 and row['probability_df2'] < 0.2:\n",
    "        return min(row['probability_df1'], row['probability_df2']) \n",
    "    else:\n",
    "        return row['probability_df1']\n",
    "\n",
    "merged_df['probability'] = merged_df.apply(select_probability, axis=1)\n",
    "\n",
    "# 최종 제출 파일 생성\n",
    "submission = merged_df[['ID', 'probability']]\n",
    "submission = submission.sort_values(by='ID')\n",
    "\n",
    "# 제출 파일 저장\n",
    "submission.to_csv('../submission/code24Ncode26_adv2.csv', index=False, encoding='utf-8')"
   ]
  },
  {
   "cell_type": "markdown",
   "metadata": {},
   "source": [
    "데이콘 PUBLIC 0.7418819349"
   ]
  },
  {
   "cell_type": "code",
   "execution_count": 27,
   "metadata": {},
   "outputs": [],
   "source": [
    "import pandas as pd\n",
    "\n",
    "# 두 CSV 파일을 읽어옵니다.\n",
    "df1 = pd.read_csv('../submission/code24Ncode26.csv')\n",
    "df2 = pd.read_csv('../submission/code24Ncode26_adv.csv')\n",
    "\n",
    "# ID를 기준으로 병합하여 값이 다른 행을 찾습니다.\n",
    "merged_df = pd.merge(df1, df2, on='ID', suffixes=('_df1', '_df2'))\n",
    "\n",
    "# 'probability' 열의 값이 다른 행을 필터링합니다.\n",
    "different_rows = merged_df[merged_df['probability_df1'] != merged_df['probability_df2']]"
   ]
  },
  {
   "cell_type": "code",
   "execution_count": 28,
   "metadata": {},
   "outputs": [
    {
     "data": {
      "text/html": [
       "<div>\n",
       "<style scoped>\n",
       "    .dataframe tbody tr th:only-of-type {\n",
       "        vertical-align: middle;\n",
       "    }\n",
       "\n",
       "    .dataframe tbody tr th {\n",
       "        vertical-align: top;\n",
       "    }\n",
       "\n",
       "    .dataframe thead th {\n",
       "        text-align: right;\n",
       "    }\n",
       "</style>\n",
       "<table border=\"1\" class=\"dataframe\">\n",
       "  <thead>\n",
       "    <tr style=\"text-align: right;\">\n",
       "      <th></th>\n",
       "      <th>ID</th>\n",
       "      <th>probability_df1</th>\n",
       "      <th>probability_df2</th>\n",
       "    </tr>\n",
       "  </thead>\n",
       "  <tbody>\n",
       "    <tr>\n",
       "      <th>0</th>\n",
       "      <td>TEST_00000</td>\n",
       "      <td>0.001136</td>\n",
       "      <td>0.001105</td>\n",
       "    </tr>\n",
       "    <tr>\n",
       "      <th>1</th>\n",
       "      <td>TEST_00001</td>\n",
       "      <td>0.001060</td>\n",
       "      <td>0.000960</td>\n",
       "    </tr>\n",
       "    <tr>\n",
       "      <th>2</th>\n",
       "      <td>TEST_00002</td>\n",
       "      <td>0.140479</td>\n",
       "      <td>0.131739</td>\n",
       "    </tr>\n",
       "    <tr>\n",
       "      <th>3</th>\n",
       "      <td>TEST_00003</td>\n",
       "      <td>0.101048</td>\n",
       "      <td>0.097535</td>\n",
       "    </tr>\n",
       "    <tr>\n",
       "      <th>4</th>\n",
       "      <td>TEST_00004</td>\n",
       "      <td>0.512427</td>\n",
       "      <td>0.518219</td>\n",
       "    </tr>\n",
       "    <tr>\n",
       "      <th>5</th>\n",
       "      <td>TEST_00005</td>\n",
       "      <td>0.126820</td>\n",
       "      <td>0.126604</td>\n",
       "    </tr>\n",
       "    <tr>\n",
       "      <th>6</th>\n",
       "      <td>TEST_00006</td>\n",
       "      <td>0.451570</td>\n",
       "      <td>0.456787</td>\n",
       "    </tr>\n",
       "    <tr>\n",
       "      <th>9</th>\n",
       "      <td>TEST_00009</td>\n",
       "      <td>0.000757</td>\n",
       "      <td>0.000660</td>\n",
       "    </tr>\n",
       "    <tr>\n",
       "      <th>10</th>\n",
       "      <td>TEST_00010</td>\n",
       "      <td>0.046363</td>\n",
       "      <td>0.044593</td>\n",
       "    </tr>\n",
       "    <tr>\n",
       "      <th>12</th>\n",
       "      <td>TEST_00012</td>\n",
       "      <td>0.370377</td>\n",
       "      <td>0.370377</td>\n",
       "    </tr>\n",
       "    <tr>\n",
       "      <th>15</th>\n",
       "      <td>TEST_00015</td>\n",
       "      <td>0.001008</td>\n",
       "      <td>0.000987</td>\n",
       "    </tr>\n",
       "    <tr>\n",
       "      <th>16</th>\n",
       "      <td>TEST_00016</td>\n",
       "      <td>0.212901</td>\n",
       "      <td>0.206327</td>\n",
       "    </tr>\n",
       "    <tr>\n",
       "      <th>17</th>\n",
       "      <td>TEST_00017</td>\n",
       "      <td>0.369061</td>\n",
       "      <td>0.378329</td>\n",
       "    </tr>\n",
       "    <tr>\n",
       "      <th>18</th>\n",
       "      <td>TEST_00018</td>\n",
       "      <td>0.166156</td>\n",
       "      <td>0.164319</td>\n",
       "    </tr>\n",
       "    <tr>\n",
       "      <th>19</th>\n",
       "      <td>TEST_00019</td>\n",
       "      <td>0.645490</td>\n",
       "      <td>0.649018</td>\n",
       "    </tr>\n",
       "    <tr>\n",
       "      <th>21</th>\n",
       "      <td>TEST_00021</td>\n",
       "      <td>0.400629</td>\n",
       "      <td>0.410187</td>\n",
       "    </tr>\n",
       "    <tr>\n",
       "      <th>25</th>\n",
       "      <td>TEST_00025</td>\n",
       "      <td>0.000707</td>\n",
       "      <td>0.000546</td>\n",
       "    </tr>\n",
       "    <tr>\n",
       "      <th>26</th>\n",
       "      <td>TEST_00026</td>\n",
       "      <td>0.119898</td>\n",
       "      <td>0.119436</td>\n",
       "    </tr>\n",
       "    <tr>\n",
       "      <th>27</th>\n",
       "      <td>TEST_00027</td>\n",
       "      <td>0.445623</td>\n",
       "      <td>0.452685</td>\n",
       "    </tr>\n",
       "    <tr>\n",
       "      <th>28</th>\n",
       "      <td>TEST_00028</td>\n",
       "      <td>0.168265</td>\n",
       "      <td>0.160589</td>\n",
       "    </tr>\n",
       "  </tbody>\n",
       "</table>\n",
       "</div>"
      ],
      "text/plain": [
       "            ID  probability_df1  probability_df2\n",
       "0   TEST_00000         0.001136         0.001105\n",
       "1   TEST_00001         0.001060         0.000960\n",
       "2   TEST_00002         0.140479         0.131739\n",
       "3   TEST_00003         0.101048         0.097535\n",
       "4   TEST_00004         0.512427         0.518219\n",
       "5   TEST_00005         0.126820         0.126604\n",
       "6   TEST_00006         0.451570         0.456787\n",
       "9   TEST_00009         0.000757         0.000660\n",
       "10  TEST_00010         0.046363         0.044593\n",
       "12  TEST_00012         0.370377         0.370377\n",
       "15  TEST_00015         0.001008         0.000987\n",
       "16  TEST_00016         0.212901         0.206327\n",
       "17  TEST_00017         0.369061         0.378329\n",
       "18  TEST_00018         0.166156         0.164319\n",
       "19  TEST_00019         0.645490         0.649018\n",
       "21  TEST_00021         0.400629         0.410187\n",
       "25  TEST_00025         0.000707         0.000546\n",
       "26  TEST_00026         0.119898         0.119436\n",
       "27  TEST_00027         0.445623         0.452685\n",
       "28  TEST_00028         0.168265         0.160589"
      ]
     },
     "execution_count": 28,
     "metadata": {},
     "output_type": "execute_result"
    }
   ],
   "source": [
    "different_rows.head(20)"
   ]
  },
  {
   "cell_type": "code",
   "execution_count": 2,
   "metadata": {},
   "outputs": [
    {
     "name": "stdout",
     "output_type": "stream",
     "text": [
      "           ID  probability\n",
      "0  TEST_00000     0.001140\n",
      "1  TEST_00001     0.001102\n",
      "2  TEST_00002     0.143196\n",
      "3  TEST_00003     0.102814\n",
      "4  TEST_00004     0.509289\n"
     ]
    }
   ],
   "source": [
    "import pandas as pd\n",
    "\n",
    "# 세 CSV 파일을 읽어옵니다.\n",
    "df1 = pd.read_csv('../submission/code26_voting_upgrad_submit_LgbmXgb.csv')\n",
    "df2 = pd.read_csv('../submission/code24_soft_voting_submit2_upgrade3.csv')\n",
    "df3 = pd.read_csv('../submission/code54_lgbm_BG.csv')\n",
    "\n",
    "# ID를 기준으로 병합합니다.\n",
    "merged_df = pd.merge(df1, df2, on='ID', suffixes=('_df1', '_df2'))\n",
    "merged_df = pd.merge(merged_df, df3, on='ID')\n",
    "\n",
    "# 'probability' 열을 소프트 보팅하여 새로운 'probability' 열 생성\n",
    "merged_df['probability'] = (merged_df['probability_df1'] + merged_df['probability_df2'] + merged_df['probability']) / 3\n",
    "\n",
    "# 최종 제출 파일 생성\n",
    "submission = merged_df[['ID', 'probability']]\n",
    "submission = submission.sort_values(by='ID')\n",
    "\n",
    "# 제출 파일 저장\n",
    "submission.to_csv('../submission/code24Ncode26Ncode54.csv', index=False, encoding='utf-8')\n",
    "\n",
    "# 예측 결과 확인\n",
    "print(submission.head())"
   ]
  },
  {
   "cell_type": "markdown",
   "metadata": {},
   "source": [
    "데이콘 PUBLIC 0.7418627665"
   ]
  },
  {
   "cell_type": "code",
   "execution_count": 22,
   "metadata": {},
   "outputs": [],
   "source": [
    "import pandas as pd\n",
    "\n",
    "# 네 개의 CSV 파일을 읽어옵니다.\n",
    "df1 = pd.read_csv('../submission/code26_voting_upgrad_submit_LgbmXgb.csv')\n",
    "df2 = pd.read_csv('../submission/code24_soft_voting_submit2_upgrade3.csv')\n",
    "df3 = pd.read_csv('../submission/code54_lgbm.csv')\n",
    "df4 = pd.read_csv('../submission/code28_voting_upgrad_submit.csv')\n",
    "\n",
    "# ID를 기준으로 병합합니다.\n",
    "merged_df = pd.merge(df1, df2, on='ID', suffixes=('_df1', '_df2'))\n",
    "merged_df = pd.merge(merged_df, df3, on='ID', suffixes=('', '_df3'))\n",
    "merged_df = pd.merge(merged_df, df4, on='ID', suffixes=('', '_df4'))\n",
    "\n",
    "# 'probability' 열을 연산하여 새로운 'probability' 열 생성\n",
    "merged_df['probability'] = (2 * (merged_df['probability_df1'] + merged_df['probability_df2']) + (merged_df['probability'] + merged_df['probability_df4'])) / 6\n",
    "\n",
    "# 최종 제출 파일 생성\n",
    "submission = merged_df[['ID', 'probability']]\n",
    "submission = submission.sort_values(by='ID')\n",
    "\n",
    "# 제출 파일 저장\n",
    "submission.to_csv('../submission/code24262854.csv', index=False, encoding='utf-8')"
   ]
  },
  {
   "cell_type": "markdown",
   "metadata": {},
   "source": [
    "데이콘 PUBLIC 0.7418828331"
   ]
  },
  {
   "cell_type": "code",
   "execution_count": 23,
   "metadata": {},
   "outputs": [],
   "source": [
    "import pandas as pd\n",
    "from sklearn.preprocessing import MinMaxScaler\n",
    "\n",
    "# 네 개의 CSV 파일을 읽어옵니다.\n",
    "df1 = pd.read_csv('../submission/code26_voting_upgrad_submit_LgbmXgb.csv')\n",
    "df2 = pd.read_csv('../submission/code24_soft_voting_submit2_upgrade3.csv')\n",
    "df3 = pd.read_csv('../submission/code54_lgbm.csv')\n",
    "df4 = pd.read_csv('../submission/code28_voting_upgrad_submit.csv')\n",
    "\n",
    "# ID를 기준으로 병합합니다.\n",
    "merged_df = pd.merge(df1, df2, on='ID', suffixes=('_df1', '_df2'))\n",
    "merged_df = pd.merge(merged_df, df3, on='ID', suffixes=('', '_df3'))\n",
    "merged_df = pd.merge(merged_df, df4, on='ID', suffixes=('', '_df4'))\n",
    "\n",
    "# 'probability' 열을 곱하여 새로운 'probability' 열 생성\n",
    "merged_df['probability'] = (merged_df['probability_df1'] * merged_df['probability_df2'] * merged_df['probability'] * merged_df['probability_df4'])\n",
    "\n",
    "# 스케일을 0부터 1까지 조절\n",
    "scaler = MinMaxScaler()\n",
    "merged_df['probability'] = scaler.fit_transform(merged_df[['probability']])\n",
    "\n",
    "# 최종 제출 파일 생성\n",
    "submission = merged_df[['ID', 'probability']]\n",
    "submission = submission.sort_values(by='ID')\n",
    "\n",
    "# 제출 파일 저장\n",
    "submission.to_csv('../submission/code24262854_2.csv', index=False, encoding='utf-8')"
   ]
  },
  {
   "cell_type": "markdown",
   "metadata": {},
   "source": [
    "데이콘 PUBLIC "
   ]
  },
  {
   "cell_type": "code",
   "execution_count": 24,
   "metadata": {},
   "outputs": [],
   "source": [
    "import pandas as pd\n",
    "from sklearn.preprocessing import MinMaxScaler\n",
    "\n",
    "# 두 개의 CSV 파일을 읽어옵니다.\n",
    "df1 = pd.read_csv('../submission/code26_voting_upgrad_submit_LgbmXgb.csv')\n",
    "df2 = pd.read_csv('../submission/code24_soft_voting_submit2_upgrade3.csv')\n",
    "\n",
    "# ID를 기준으로 병합합니다.\n",
    "merged_df = pd.merge(df1, df2, on='ID', suffixes=('_df1', '_df2'))\n",
    "\n",
    "# 'probability' 열을 곱하여 새로운 'probability' 열 생성\n",
    "merged_df['probability'] = merged_df['probability_df1'] * merged_df['probability_df2']\n",
    "\n",
    "# 스케일을 0부터 1까지 조절\n",
    "scaler = MinMaxScaler()\n",
    "merged_df['probability'] = scaler.fit_transform(merged_df[['probability']])\n",
    "\n",
    "# 최종 제출 파일 생성\n",
    "submission = merged_df[['ID', 'probability']]\n",
    "submission = submission.sort_values(by='ID')\n",
    "\n",
    "# 제출 파일 저장\n",
    "submission.to_csv('../submission/code2426_x.csv', index=False, encoding='utf-8')"
   ]
  },
  {
   "cell_type": "markdown",
   "metadata": {},
   "source": [
    "데이콘 PUBLIC 0.7419785699"
   ]
  },
  {
   "cell_type": "markdown",
   "metadata": {},
   "source": [
    "---"
   ]
  },
  {
   "cell_type": "markdown",
   "metadata": {},
   "source": [
    "."
   ]
  }
 ],
 "metadata": {
  "kernelspec": {
   "display_name": "Python 3",
   "language": "python",
   "name": "python3"
  },
  "language_info": {
   "codemirror_mode": {
    "name": "ipython",
    "version": 3
   },
   "file_extension": ".py",
   "mimetype": "text/x-python",
   "name": "python",
   "nbconvert_exporter": "python",
   "pygments_lexer": "ipython3",
   "version": "3.11.8"
  }
 },
 "nbformat": 4,
 "nbformat_minor": 2
}
