{
 "cells": [
  {
   "cell_type": "markdown",
   "metadata": {},
   "source": [
    "## 난임 환자 대상 임신 성공 여부 예측"
   ]
  },
  {
   "cell_type": "markdown",
   "metadata": {},
   "source": [
    "### LGAimers 6th 온라인 해커톤"
   ]
  },
  {
   "cell_type": "markdown",
   "metadata": {},
   "source": [
    "Import"
   ]
  },
  {
   "cell_type": "code",
   "execution_count": 1,
   "metadata": {},
   "outputs": [],
   "source": [
    "import pandas as pd\n",
    "import optuna\n",
    "from sklearn.preprocessing import OrdinalEncoder\n",
    "from sklearn.model_selection import train_test_split\n",
    "from sklearn.metrics import accuracy_score, f1_score, roc_auc_score, confusion_matrix, ConfusionMatrixDisplay\n",
    "import matplotlib.pyplot as plt\n",
    "import lightgbm as lgb"
   ]
  },
  {
   "cell_type": "markdown",
   "metadata": {},
   "source": [
    "### Data Load"
   ]
  },
  {
   "cell_type": "code",
   "execution_count": 2,
   "metadata": {},
   "outputs": [],
   "source": [
    "# 데이터 로드\n",
    "Total_train = pd.read_csv('../data/Total_train_dataset_32.csv')\n",
    "Total_test = pd.read_csv('../data/Total_test_dataset_32.csv')"
   ]
  },
  {
   "cell_type": "code",
   "execution_count": 3,
   "metadata": {},
   "outputs": [],
   "source": [
    "# ID 열을 제외한 특성과 타겟 변수 분리\n",
    "Total_X = Total_train.drop(['임신_성공_여부', 'ID'], axis=1)\n",
    "Total_y = Total_train['임신_성공_여부']"
   ]
  },
  {
   "cell_type": "markdown",
   "metadata": {},
   "source": [
    "### 인코딩 "
   ]
  },
  {
   "cell_type": "code",
   "execution_count": 4,
   "metadata": {},
   "outputs": [],
   "source": [
    "Total_categorical_columns = [\n",
    "    \"시술_당시_나이\",\n",
    "    \"배란_유도_유형\",\n",
    "    \"난자_출처\",\n",
    "    \"정자_출처\",\n",
    "    \"난자_기증자_나이\",\n",
    "    \"정자_기증자_나이\"\n",
    "]"
   ]
  },
  {
   "cell_type": "code",
   "execution_count": 5,
   "metadata": {},
   "outputs": [],
   "source": [
    "# 모든 범주형 변수를 문자열로 변환\n",
    "Total_X[Total_categorical_columns] = Total_X[Total_categorical_columns].astype(str)\n",
    "Total_test[Total_categorical_columns] = Total_test[Total_categorical_columns].astype(str)\n",
    "\n",
    "# OrdinalEncoder를 사용하여 범주형 변수 인코딩\n",
    "Total_encoder = OrdinalEncoder(handle_unknown='use_encoded_value', unknown_value=-1)\n",
    "\n",
    "Total_X[Total_categorical_columns] = Total_encoder.fit_transform(Total_X[Total_categorical_columns])\n",
    "Total_test[Total_categorical_columns] = Total_encoder.transform(Total_test[Total_categorical_columns])"
   ]
  },
  {
   "cell_type": "markdown",
   "metadata": {},
   "source": [
    "## Modeling"
   ]
  },
  {
   "cell_type": "code",
   "execution_count": 6,
   "metadata": {},
   "outputs": [],
   "source": [
    "# 데이터 분할\n",
    "Total_X_train, Total_X_test, Total_y_train, Total_y_test = train_test_split(Total_X, Total_y, test_size=0.2, random_state=42)"
   ]
  },
  {
   "cell_type": "markdown",
   "metadata": {},
   "source": [
    "### Total 데이터"
   ]
  },
  {
   "cell_type": "markdown",
   "metadata": {},
   "source": [
    "optuna"
   ]
  },
  {
   "cell_type": "code",
   "execution_count": 7,
   "metadata": {},
   "outputs": [
    {
     "name": "stderr",
     "output_type": "stream",
     "text": [
      "[I 2025-02-16 17:54:00,087] A new study created in memory with name: no-name-4dda40c9-6445-434e-967c-e5a874f9c216\n",
      "[I 2025-02-16 17:56:07,926] Trial 0 finished with value: 0.7346560477130548 and parameters: {'n_estimators': 894, 'num_leaves': 2313, 'max_depth': 225, 'learning_rate': 0.03506504003734521, 'min_child_samples': 42, 'subsample': 0.9097752961329273, 'colsample_bytree': 0.9575102447602164, 'reg_alpha': 7.580613591935665, 'reg_lambda': 7.651074601204394}. Best is trial 0 with value: 0.7346560477130548.\n",
      "[I 2025-02-16 18:01:45,966] Trial 1 finished with value: 0.7361616818073888 and parameters: {'n_estimators': 2342, 'num_leaves': 2107, 'max_depth': 30, 'learning_rate': 0.008731099852736698, 'min_child_samples': 186, 'subsample': 0.898193776778075, 'colsample_bytree': 0.5606091816569228, 'reg_alpha': 4.142985456673696, 'reg_lambda': 6.349950844650683}. Best is trial 1 with value: 0.7361616818073888.\n",
      "[I 2025-02-16 18:03:06,102] Trial 2 finished with value: 0.7274140934519945 and parameters: {'n_estimators': 531, 'num_leaves': 3472, 'max_depth': 101, 'learning_rate': 0.14974219768557537, 'min_child_samples': 302, 'subsample': 0.7965718527661216, 'colsample_bytree': 0.6746142063198053, 'reg_alpha': 0.8715813304067488, 'reg_lambda': 7.059418451450173}. Best is trial 1 with value: 0.7361616818073888.\n",
      "[I 2025-02-16 18:06:06,908] Trial 3 finished with value: 0.7300184524946807 and parameters: {'n_estimators': 1132, 'num_leaves': 1000, 'max_depth': 55, 'learning_rate': 0.050889505361564856, 'min_child_samples': 204, 'subsample': 0.5473433750331074, 'colsample_bytree': 0.6498909247197535, 'reg_alpha': 3.274882056466412, 'reg_lambda': 2.1246358261853326}. Best is trial 1 with value: 0.7361616818073888.\n",
      "[I 2025-02-16 18:07:56,928] Trial 4 finished with value: 0.7296543197980527 and parameters: {'n_estimators': 709, 'num_leaves': 1584, 'max_depth': 316, 'learning_rate': 0.08344278381941969, 'min_child_samples': 267, 'subsample': 0.7164777211965616, 'colsample_bytree': 0.7396837917208439, 'reg_alpha': 1.823945275921317, 'reg_lambda': 6.582655252171392}. Best is trial 1 with value: 0.7361616818073888.\n",
      "[I 2025-02-16 18:13:34,718] Trial 5 finished with value: 0.7281287418695838 and parameters: {'n_estimators': 2214, 'num_leaves': 2393, 'max_depth': 338, 'learning_rate': 0.14513873615639314, 'min_child_samples': 208, 'subsample': 0.6622010303929816, 'colsample_bytree': 0.5732715742427112, 'reg_alpha': 8.42452185792449, 'reg_lambda': 7.222322167061669}. Best is trial 1 with value: 0.7361616818073888.\n",
      "[I 2025-02-16 18:20:12,917] Trial 6 finished with value: 0.7322276814136708 and parameters: {'n_estimators': 2725, 'num_leaves': 2827, 'max_depth': 97, 'learning_rate': 0.03984312555874729, 'min_child_samples': 320, 'subsample': 0.6722697462015075, 'colsample_bytree': 0.5122016148356499, 'reg_alpha': 5.8194335200287135, 'reg_lambda': 8.4626924094725}. Best is trial 1 with value: 0.7361616818073888.\n",
      "[I 2025-02-16 18:27:36,081] Trial 7 finished with value: 0.733262996472853 and parameters: {'n_estimators': 2955, 'num_leaves': 2307, 'max_depth': 192, 'learning_rate': 0.024690066388275773, 'min_child_samples': 281, 'subsample': 0.7727687306908562, 'colsample_bytree': 0.84928509524223, 'reg_alpha': 7.066295198454318, 'reg_lambda': 6.894753129549556}. Best is trial 1 with value: 0.7361616818073888.\n",
      "[I 2025-02-16 18:36:06,147] Trial 8 finished with value: 0.7311221728550356 and parameters: {'n_estimators': 2868, 'num_leaves': 2101, 'max_depth': 139, 'learning_rate': 0.025042681828580375, 'min_child_samples': 64, 'subsample': 0.5509804318107141, 'colsample_bytree': 0.8748489384169036, 'reg_alpha': 7.397755525686582, 'reg_lambda': 4.76689223133115}. Best is trial 1 with value: 0.7361616818073888.\n",
      "[I 2025-02-16 18:39:05,956] Trial 9 finished with value: 0.7248659984710696 and parameters: {'n_estimators': 1185, 'num_leaves': 2339, 'max_depth': 223, 'learning_rate': 0.1811843494567759, 'min_child_samples': 331, 'subsample': 0.8799836269675785, 'colsample_bytree': 0.9161119274197995, 'reg_alpha': 6.085239797860121, 'reg_lambda': 2.3189263572352656}. Best is trial 1 with value: 0.7361616818073888.\n",
      "[I 2025-02-16 18:42:15,783] Trial 10 finished with value: 0.7326332839907366 and parameters: {'n_estimators': 1803, 'num_leaves': 1347, 'max_depth': 8, 'learning_rate': 0.0010248776748787236, 'min_child_samples': 121, 'subsample': 0.98243587473079, 'colsample_bytree': 0.5183927841445557, 'reg_alpha': 3.713409457006981, 'reg_lambda': 4.497093794648923}. Best is trial 1 with value: 0.7361616818073888.\n",
      "[I 2025-02-16 18:48:17,088] Trial 11 finished with value: 0.7297120566107633 and parameters: {'n_estimators': 2055, 'num_leaves': 525, 'max_depth': 251, 'learning_rate': 0.08084010737463591, 'min_child_samples': 34, 'subsample': 0.9612941001639764, 'colsample_bytree': 0.9822954385876067, 'reg_alpha': 9.441158288306621, 'reg_lambda': 9.892515985717235}. Best is trial 1 with value: 0.7361616818073888.\n",
      "[I 2025-02-16 18:51:36,878] Trial 12 finished with value: 0.7336988849790624 and parameters: {'n_estimators': 1548, 'num_leaves': 2784, 'max_depth': 260, 'learning_rate': 0.0010607409730304385, 'min_child_samples': 122, 'subsample': 0.8732325706041394, 'colsample_bytree': 0.7872127890121109, 'reg_alpha': 3.8313100140749983, 'reg_lambda': 9.126487969329531}. Best is trial 1 with value: 0.7361616818073888.\n",
      "[I 2025-02-16 18:58:50,045] Trial 13 finished with value: 0.7248020353051918 and parameters: {'n_estimators': 2374, 'num_leaves': 1729, 'max_depth': 163, 'learning_rate': 0.0614723072218064, 'min_child_samples': 136, 'subsample': 0.8988521160620532, 'colsample_bytree': 0.6376108289482907, 'reg_alpha': 4.967485979591297, 'reg_lambda': 5.535768602292739}. Best is trial 1 with value: 0.7361616818073888.\n",
      "[I 2025-02-16 19:09:51,473] Trial 14 finished with value: 0.7253542940237172 and parameters: {'n_estimators': 3371, 'num_leaves': 2850, 'max_depth': 274, 'learning_rate': 0.11516931757106687, 'min_child_samples': 14, 'subsample': 0.8305821668438585, 'colsample_bytree': 0.9663510817934471, 'reg_alpha': 9.984868212741507, 'reg_lambda': 0.0006620839029514158}. Best is trial 1 with value: 0.7361616818073888.\n",
      "[I 2025-02-16 19:13:21,463] Trial 15 finished with value: 0.7339209479593143 and parameters: {'n_estimators': 1392, 'num_leaves': 1878, 'max_depth': 20, 'learning_rate': 0.030355194196023158, 'min_child_samples': 170, 'subsample': 0.9264137318159728, 'colsample_bytree': 0.726761114709436, 'reg_alpha': 4.971778794392627, 'reg_lambda': 8.209510711341759}. Best is trial 1 with value: 0.7361616818073888.\n",
      "[I 2025-02-16 19:25:01,060] Trial 16 finished with value: 0.7012599869978382 and parameters: {'n_estimators': 2445, 'num_leaves': 3346, 'max_depth': 188, 'learning_rate': 0.10839628011245075, 'min_child_samples': 72, 'subsample': 0.9928617887146374, 'colsample_bytree': 0.8187578648100993, 'reg_alpha': 2.361518278427952, 'reg_lambda': 3.215549661720642}. Best is trial 1 with value: 0.7361616818073888.\n",
      "[I 2025-02-16 19:26:43,844] Trial 17 finished with value: 0.735357492122305 and parameters: {'n_estimators': 979, 'num_leaves': 1143, 'max_depth': 103, 'learning_rate': 0.07204234245109328, 'min_child_samples': 243, 'subsample': 0.8433964014375247, 'colsample_bytree': 0.5677449644706477, 'reg_alpha': 7.853250765826084, 'reg_lambda': 5.803463257102542}. Best is trial 1 with value: 0.7361616818073888.\n",
      "[I 2025-02-16 19:30:32,367] Trial 18 finished with value: 0.7319154124377933 and parameters: {'n_estimators': 1870, 'num_leaves': 1149, 'max_depth': 65, 'learning_rate': 0.08518846210732423, 'min_child_samples': 249, 'subsample': 0.8312074095917639, 'colsample_bytree': 0.5867516124544189, 'reg_alpha': 8.62698111382465, 'reg_lambda': 5.78704120456839}. Best is trial 1 with value: 0.7361616818073888.\n",
      "[I 2025-02-16 19:48:58,509] Trial 19 finished with value: 0.6942146310570401 and parameters: {'n_estimators': 3471, 'num_leaves': 673, 'max_depth': 118, 'learning_rate': 0.13188001580421518, 'min_child_samples': 214, 'subsample': 0.7331558402335853, 'colsample_bytree': 0.590494701582418, 'reg_alpha': 0.2879081642252457, 'reg_lambda': 3.7416487326712957}. Best is trial 1 with value: 0.7361616818073888.\n",
      "[I 2025-02-16 19:53:47,468] Trial 20 finished with value: 0.7282544789769558 and parameters: {'n_estimators': 1688, 'num_leaves': 1439, 'max_depth': 56, 'learning_rate': 0.06590685463845126, 'min_child_samples': 240, 'subsample': 0.839926923713789, 'colsample_bytree': 0.5447683233608701, 'reg_alpha': 4.4334717966026425, 'reg_lambda': 5.635423726992214}. Best is trial 1 with value: 0.7361616818073888.\n",
      "[I 2025-02-16 19:55:36,566] Trial 21 finished with value: 0.7367072614013404 and parameters: {'n_estimators': 889, 'num_leaves': 2073, 'max_depth': 146, 'learning_rate': 0.012579627512483323, 'min_child_samples': 161, 'subsample': 0.9035036119736293, 'colsample_bytree': 0.6848304471738741, 'reg_alpha': 7.081860564957887, 'reg_lambda': 7.907115364628059}. Best is trial 21 with value: 0.7367072614013404.\n",
      "[I 2025-02-16 19:57:41,846] Trial 22 finished with value: 0.7365941780109057 and parameters: {'n_estimators': 942, 'num_leaves': 1943, 'max_depth': 137, 'learning_rate': 0.010231252681812558, 'min_child_samples': 172, 'subsample': 0.9410861751429487, 'colsample_bytree': 0.6784520413156369, 'reg_alpha': 6.277731005884981, 'reg_lambda': 5.952416958795935}. Best is trial 21 with value: 0.7367072614013404.\n",
      "[I 2025-02-16 20:01:05,717] Trial 23 finished with value: 0.7365694158929228 and parameters: {'n_estimators': 1367, 'num_leaves': 1982, 'max_depth': 148, 'learning_rate': 0.015230304440688867, 'min_child_samples': 165, 'subsample': 0.9414549903045922, 'colsample_bytree': 0.7059518321837246, 'reg_alpha': 6.121163068087565, 'reg_lambda': 6.359886925130815}. Best is trial 21 with value: 0.7367072614013404.\n",
      "[I 2025-02-16 20:04:20,308] Trial 24 finished with value: 0.7362337570447102 and parameters: {'n_estimators': 1427, 'num_leaves': 1867, 'max_depth': 160, 'learning_rate': 0.018205503770368822, 'min_child_samples': 148, 'subsample': 0.9464779343890511, 'colsample_bytree': 0.6955551263142296, 'reg_alpha': 6.309524568072616, 'reg_lambda': 7.991595896923184}. Best is trial 21 with value: 0.7367072614013404.\n",
      "[I 2025-02-16 20:05:55,649] Trial 25 finished with value: 0.7353500457740947 and parameters: {'n_estimators': 777, 'num_leaves': 2649, 'max_depth': 145, 'learning_rate': 0.050446136514682216, 'min_child_samples': 105, 'subsample': 0.9529394230290841, 'colsample_bytree': 0.6281242506708179, 'reg_alpha': 6.721662705944233, 'reg_lambda': 9.429101809401946}. Best is trial 21 with value: 0.7367072614013404.\n",
      "[I 2025-02-16 20:08:26,260] Trial 26 finished with value: 0.7366455849798413 and parameters: {'n_estimators': 1199, 'num_leaves': 1614, 'max_depth': 130, 'learning_rate': 0.013244261331674653, 'min_child_samples': 164, 'subsample': 0.9985354910993405, 'colsample_bytree': 0.7107699193626942, 'reg_alpha': 5.576437246786046, 'reg_lambda': 8.921162525998364}. Best is trial 21 with value: 0.7367072614013404.\n",
      "[I 2025-02-16 20:09:27,805] Trial 27 finished with value: 0.7361809549427809 and parameters: {'n_estimators': 532, 'num_leaves': 1699, 'max_depth': 121, 'learning_rate': 0.04326472375435046, 'min_child_samples': 89, 'subsample': 0.9958470996589699, 'colsample_bytree': 0.78729372207316, 'reg_alpha': 5.468231198182569, 'reg_lambda': 8.99343696769857}. Best is trial 21 with value: 0.7367072614013404.\n",
      "[I 2025-02-16 20:12:05,016] Trial 28 finished with value: 0.7278526886356236 and parameters: {'n_estimators': 1123, 'num_leaves': 1468, 'max_depth': 209, 'learning_rate': 0.18909034720083528, 'min_child_samples': 161, 'subsample': 0.9966117262959288, 'colsample_bytree': 0.7626499183895838, 'reg_alpha': 8.65468035526063, 'reg_lambda': 8.623398407377495}. Best is trial 21 with value: 0.7367072614013404.\n",
      "[I 2025-02-16 20:13:43,190] Trial 29 finished with value: 0.7365339156293382 and parameters: {'n_estimators': 906, 'num_leaves': 2465, 'max_depth': 86, 'learning_rate': 0.03362815192594133, 'min_child_samples': 186, 'subsample': 0.9196749115251402, 'colsample_bytree': 0.6738527817712838, 'reg_alpha': 7.689150363495939, 'reg_lambda': 7.575103204745087}. Best is trial 21 with value: 0.7367072614013404.\n",
      "[I 2025-02-16 20:14:59,810] Trial 30 finished with value: 0.7363413215994941 and parameters: {'n_estimators': 784, 'num_leaves': 3116, 'max_depth': 175, 'learning_rate': 0.011396061938735927, 'min_child_samples': 142, 'subsample': 0.8698050936364122, 'colsample_bytree': 0.6064875861712117, 'reg_alpha': 6.7275976152373556, 'reg_lambda': 9.915789168452253}. Best is trial 21 with value: 0.7367072614013404.\n",
      "[I 2025-02-16 20:18:14,236] Trial 31 finished with value: 0.7364996333705924 and parameters: {'n_estimators': 1355, 'num_leaves': 2033, 'max_depth': 144, 'learning_rate': 0.017067934636332525, 'min_child_samples': 168, 'subsample': 0.9306470791902164, 'colsample_bytree': 0.710013380344534, 'reg_alpha': 6.2414893277919985, 'reg_lambda': 7.825818699036381}. Best is trial 21 with value: 0.7367072614013404.\n",
      "[I 2025-02-16 20:20:48,652] Trial 32 finished with value: 0.736682556004171 and parameters: {'n_estimators': 1221, 'num_leaves': 1926, 'max_depth': 141, 'learning_rate': 0.012354392507820926, 'min_child_samples': 190, 'subsample': 0.9569278287993684, 'colsample_bytree': 0.6859557109189792, 'reg_alpha': 5.4441492691489755, 'reg_lambda': 6.092016764124979}. Best is trial 21 with value: 0.7367072614013404.\n",
      "[I 2025-02-16 20:22:38,455] Trial 33 finished with value: 0.7351110461579292 and parameters: {'n_estimators': 974, 'num_leaves': 2217, 'max_depth': 125, 'learning_rate': 0.004556654480624221, 'min_child_samples': 189, 'subsample': 0.9640114200469678, 'colsample_bytree': 0.6541314539349579, 'reg_alpha': 5.474067455669646, 'reg_lambda': 4.422641771741418}. Best is trial 21 with value: 0.7367072614013404.\n",
      "[I 2025-02-16 20:25:24,198] Trial 34 finished with value: 0.7322798914299146 and parameters: {'n_estimators': 1143, 'num_leaves': 1721, 'max_depth': 77, 'learning_rate': 0.050290385877624064, 'min_child_samples': 225, 'subsample': 0.9008763193363605, 'colsample_bytree': 0.681907440590632, 'reg_alpha': 4.370676865955742, 'reg_lambda': 7.452928960606432}. Best is trial 21 with value: 0.7367072614013404.\n",
      "[I 2025-02-16 20:26:34,825] Trial 35 finished with value: 0.7362838872977894 and parameters: {'n_estimators': 621, 'num_leaves': 2576, 'max_depth': 170, 'learning_rate': 0.03361733933693966, 'min_child_samples': 195, 'subsample': 0.7957435913297997, 'colsample_bytree': 0.7591964490115968, 'reg_alpha': 5.395338813341944, 'reg_lambda': 6.555350004672577}. Best is trial 21 with value: 0.7367072614013404.\n",
      "[I 2025-02-16 20:29:58,016] Trial 36 finished with value: 0.7331833554750824 and parameters: {'n_estimators': 1253, 'num_leaves': 1873, 'max_depth': 202, 'learning_rate': 0.02303143574555197, 'min_child_samples': 108, 'subsample': 0.9739349815267752, 'colsample_bytree': 0.615424371986274, 'reg_alpha': 3.017727608835941, 'reg_lambda': 6.9546076005678}. Best is trial 21 with value: 0.7367072614013404.\n",
      "[I 2025-02-16 20:33:05,322] Trial 37 finished with value: 0.7369501618173164 and parameters: {'n_estimators': 1577, 'num_leaves': 2153, 'max_depth': 106, 'learning_rate': 0.009323814727478726, 'min_child_samples': 215, 'subsample': 0.9147324975493362, 'colsample_bytree': 0.7253679322920522, 'reg_alpha': 8.040221591053278, 'reg_lambda': 5.034397216718051}. Best is trial 37 with value: 0.7369501618173164.\n",
      "[I 2025-02-16 20:36:37,662] Trial 38 finished with value: 0.735062547872118 and parameters: {'n_estimators': 1560, 'num_leaves': 2246, 'max_depth': 40, 'learning_rate': 0.043182541292088886, 'min_child_samples': 282, 'subsample': 0.5031689642015026, 'colsample_bytree': 0.7219872186472317, 'reg_alpha': 8.207609484378779, 'reg_lambda': 5.151892060893303}. Best is trial 37 with value: 0.7369501618173164.\n",
      "[I 2025-02-16 20:40:58,130] Trial 39 finished with value: 0.7312982063975195 and parameters: {'n_estimators': 1692, 'num_leaves': 1602, 'max_depth': 108, 'learning_rate': 0.055796376997316426, 'min_child_samples': 218, 'subsample': 0.6988948400949806, 'colsample_bytree': 0.7879799303823085, 'reg_alpha': 7.141776201613735, 'reg_lambda': 3.95317762401216}. Best is trial 37 with value: 0.7369501618173164.\n",
      "[I 2025-02-16 20:45:55,174] Trial 40 finished with value: 0.7352124092370955 and parameters: {'n_estimators': 2115, 'num_leaves': 2153, 'max_depth': 78, 'learning_rate': 0.026996071629918985, 'min_child_samples': 197, 'subsample': 0.8647707581877686, 'colsample_bytree': 0.7396939134698572, 'reg_alpha': 8.886077724963876, 'reg_lambda': 8.645356698758787}. Best is trial 37 with value: 0.7369501618173164.\n",
      "[I 2025-02-16 20:47:58,576] Trial 41 finished with value: 0.7367478993765124 and parameters: {'n_estimators': 1030, 'num_leaves': 1994, 'max_depth': 133, 'learning_rate': 0.012225639772215545, 'min_child_samples': 155, 'subsample': 0.9071817297753705, 'colsample_bytree': 0.6574921462824646, 'reg_alpha': 6.564616319374392, 'reg_lambda': 5.223547145483288}. Best is trial 37 with value: 0.7369501618173164.\n",
      "[I 2025-02-16 20:50:06,143] Trial 42 finished with value: 0.7367558860651048 and parameters: {'n_estimators': 1083, 'num_leaves': 2120, 'max_depth': 92, 'learning_rate': 0.010793613723933894, 'min_child_samples': 149, 'subsample': 0.909515059539807, 'colsample_bytree': 0.6610456182730675, 'reg_alpha': 6.755796834532628, 'reg_lambda': 5.039324489894539}. Best is trial 37 with value: 0.7369501618173164.\n",
      "[I 2025-02-16 20:52:19,426] Trial 43 finished with value: 0.736763082642715 and parameters: {'n_estimators': 1051, 'num_leaves': 2491, 'max_depth': 90, 'learning_rate': 0.021698411415823973, 'min_child_samples': 142, 'subsample': 0.8039388218918466, 'colsample_bytree': 0.645927715303368, 'reg_alpha': 7.013606028163067, 'reg_lambda': 5.176866890375106}. Best is trial 37 with value: 0.7369501618173164.\n",
      "[I 2025-02-16 20:53:59,480] Trial 44 finished with value: 0.7360344669735579 and parameters: {'n_estimators': 803, 'num_leaves': 2443, 'max_depth': 94, 'learning_rate': 0.0374225908129242, 'min_child_samples': 128, 'subsample': 0.806873110052053, 'colsample_bytree': 0.6541926862431681, 'reg_alpha': 6.86843006932862, 'reg_lambda': 5.044421623957021}. Best is trial 37 with value: 0.7369501618173164.\n",
      "[I 2025-02-16 20:55:50,919] Trial 45 finished with value: 0.733095794460553 and parameters: {'n_estimators': 1036, 'num_leaves': 2578, 'max_depth': 74, 'learning_rate': 0.001578959247626843, 'min_child_samples': 148, 'subsample': 0.7715307240471136, 'colsample_bytree': 0.660991786387863, 'reg_alpha': 8.137838008405268, 'reg_lambda': 2.855068339200591}. Best is trial 37 with value: 0.7369501618173164.\n",
      "[I 2025-02-16 20:57:04,006] Trial 46 finished with value: 0.7367039865206828 and parameters: {'n_estimators': 665, 'num_leaves': 2128, 'max_depth': 110, 'learning_rate': 0.020959579146085212, 'min_child_samples': 108, 'subsample': 0.6412083459256799, 'colsample_bytree': 0.6337470204004887, 'reg_alpha': 7.267845446574608, 'reg_lambda': 4.001874866283717}. Best is trial 37 with value: 0.7369501618173164.\n",
      "[I 2025-02-16 21:01:27,461] Trial 47 finished with value: 0.725690054372333 and parameters: {'n_estimators': 1586, 'num_leaves': 2323, 'max_depth': 36, 'learning_rate': 0.16003811762348524, 'min_child_samples': 93, 'subsample': 0.8842759574420495, 'colsample_bytree': 0.6072328231098738, 'reg_alpha': 7.651664091090204, 'reg_lambda': 5.181970876408352}. Best is trial 37 with value: 0.7369501618173164.\n",
      "[I 2025-02-16 21:05:40,243] Trial 48 finished with value: 0.7361570506027155 and parameters: {'n_estimators': 1885, 'num_leaves': 2773, 'max_depth': 93, 'learning_rate': 0.028741927920656662, 'min_child_samples': 150, 'subsample': 0.9098566883176686, 'colsample_bytree': 0.5456933513861055, 'reg_alpha': 9.313907798094768, 'reg_lambda': 4.382875314983887}. Best is trial 37 with value: 0.7369501618173164.\n",
      "[I 2025-02-16 21:07:51,328] Trial 49 finished with value: 0.735162455117069 and parameters: {'n_estimators': 1058, 'num_leaves': 2977, 'max_depth': 59, 'learning_rate': 0.004667646258280558, 'min_child_samples': 129, 'subsample': 0.808834562459916, 'colsample_bytree': 0.7474129573598705, 'reg_alpha': 6.575691853130582, 'reg_lambda': 0.7904388085266181}. Best is trial 37 with value: 0.7369501618173164.\n",
      "[I 2025-02-16 21:08:47,067] Trial 50 finished with value: 0.736517747212163 and parameters: {'n_estimators': 502, 'num_leaves': 2417, 'max_depth': 158, 'learning_rate': 0.042581370151984696, 'min_child_samples': 65, 'subsample': 0.6167448887657625, 'colsample_bytree': 0.8541660792775618, 'reg_alpha': 8.001443452727164, 'reg_lambda': 3.2812043409278235}. Best is trial 37 with value: 0.7369501618173164.\n",
      "[I 2025-02-16 21:10:01,098] Trial 51 finished with value: 0.7367175099567617 and parameters: {'n_estimators': 673, 'num_leaves': 2105, 'max_depth': 114, 'learning_rate': 0.021981110489006292, 'min_child_samples': 108, 'subsample': 0.6371499354945284, 'colsample_bytree': 0.6297672406590815, 'reg_alpha': 7.378470130508796, 'reg_lambda': 4.0460758790321885}. Best is trial 37 with value: 0.7369501618173164.\n",
      "[I 2025-02-16 21:11:39,965] Trial 52 finished with value: 0.7367447339570741 and parameters: {'n_estimators': 810, 'num_leaves': 2046, 'max_depth': 112, 'learning_rate': 0.0230780351629491, 'min_child_samples': 77, 'subsample': 0.6052037608291262, 'colsample_bytree': 0.643031081005503, 'reg_alpha': 7.191923369098361, 'reg_lambda': 4.688167952229487}. Best is trial 37 with value: 0.7369501618173164.\n",
      "[I 2025-02-16 21:13:12,103] Trial 53 finished with value: 0.7332331613249121 and parameters: {'n_estimators': 657, 'num_leaves': 2238, 'max_depth': 112, 'learning_rate': 0.09265851026789641, 'min_child_samples': 31, 'subsample': 0.5788690057202737, 'colsample_bytree': 0.6402553771972294, 'reg_alpha': 7.49155733007289, 'reg_lambda': 4.803878968038914}. Best is trial 37 with value: 0.7369501618173164.\n",
      "[I 2025-02-16 21:14:45,588] Trial 54 finished with value: 0.737290383208165 and parameters: {'n_estimators': 831, 'num_leaves': 1793, 'max_depth': 99, 'learning_rate': 0.02228354475347372, 'min_child_samples': 79, 'subsample': 0.6119417503967305, 'colsample_bytree': 0.5896665047200824, 'reg_alpha': 9.042624446275333, 'reg_lambda': 5.399454850586694}. Best is trial 54 with value: 0.737290383208165.\n",
      "[I 2025-02-16 21:17:48,631] Trial 55 finished with value: 0.736124214227165 and parameters: {'n_estimators': 1293, 'num_leaves': 1805, 'max_depth': 50, 'learning_rate': 0.03228740481663557, 'min_child_samples': 44, 'subsample': 0.6884759766210243, 'colsample_bytree': 0.597270425508571, 'reg_alpha': 9.479886819930883, 'reg_lambda': 5.312083505248397}. Best is trial 54 with value: 0.737290383208165.\n",
      "[I 2025-02-16 21:19:27,705] Trial 56 finished with value: 0.7374764623052639 and parameters: {'n_estimators': 874, 'num_leaves': 2533, 'max_depth': 89, 'learning_rate': 0.02466568122002072, 'min_child_samples': 78, 'subsample': 0.5782151394890137, 'colsample_bytree': 0.5707563868443764, 'reg_alpha': 9.222179588725599, 'reg_lambda': 4.635352914723369}. Best is trial 56 with value: 0.7374764623052639.\n",
      "[I 2025-02-16 21:22:19,330] Trial 57 finished with value: 0.7370195423184418 and parameters: {'n_estimators': 1479, 'num_leaves': 2705, 'max_depth': 65, 'learning_rate': 0.00832862879179505, 'min_child_samples': 83, 'subsample': 0.5559213046312472, 'colsample_bytree': 0.5080573188995379, 'reg_alpha': 9.704926843958305, 'reg_lambda': 5.452883947780976}. Best is trial 56 with value: 0.7374764623052639.\n",
      "[I 2025-02-16 21:25:57,739] Trial 58 finished with value: 0.7340893878784931 and parameters: {'n_estimators': 1501, 'num_leaves': 3069, 'max_depth': 19, 'learning_rate': 0.07193299433930049, 'min_child_samples': 50, 'subsample': 0.5412417981787336, 'colsample_bytree': 0.5147648274241264, 'reg_alpha': 9.893846417724776, 'reg_lambda': 6.214821649315807}. Best is trial 56 with value: 0.7374764623052639.\n",
      "[I 2025-02-16 21:29:48,073] Trial 59 finished with value: 0.7371772301605909 and parameters: {'n_estimators': 1687, 'num_leaves': 2713, 'max_depth': 69, 'learning_rate': 0.007686875636384878, 'min_child_samples': 20, 'subsample': 0.5678960476775168, 'colsample_bytree': 0.5478666748318348, 'reg_alpha': 9.009114141047858, 'reg_lambda': 5.534919769103915}. Best is trial 56 with value: 0.7374764623052639.\n",
      "[I 2025-02-16 21:35:24,497] Trial 60 finished with value: 0.7281331093722292 and parameters: {'n_estimators': 1948, 'num_leaves': 2669, 'max_depth': 66, 'learning_rate': 0.12173542653045029, 'min_child_samples': 8, 'subsample': 0.5743679617107781, 'colsample_bytree': 0.5369177289332209, 'reg_alpha': 9.117581651242034, 'reg_lambda': 5.521957323544985}. Best is trial 56 with value: 0.7374764623052639.\n",
      "[I 2025-02-16 21:39:14,118] Trial 61 finished with value: 0.7370872490580156 and parameters: {'n_estimators': 1721, 'num_leaves': 2959, 'max_depth': 46, 'learning_rate': 0.007601351540156025, 'min_child_samples': 27, 'subsample': 0.5222310795428556, 'colsample_bytree': 0.5698611943408759, 'reg_alpha': 9.726480983322217, 'reg_lambda': 4.794947809165989}. Best is trial 56 with value: 0.7374764623052639.\n",
      "[I 2025-02-16 21:42:39,111] Trial 62 finished with value: 0.7362277854376528 and parameters: {'n_estimators': 1658, 'num_leaves': 2814, 'max_depth': 45, 'learning_rate': 0.005067348776396937, 'min_child_samples': 24, 'subsample': 0.5172373260092918, 'colsample_bytree': 0.5015223147014647, 'reg_alpha': 9.760441510695156, 'reg_lambda': 3.5402472849621462}. Best is trial 56 with value: 0.7374764623052639.\n",
      "[I 2025-02-16 21:46:47,744] Trial 63 finished with value: 0.7364503837827767 and parameters: {'n_estimators': 1737, 'num_leaves': 3310, 'max_depth': 25, 'learning_rate': 0.019229913016905638, 'min_child_samples': 50, 'subsample': 0.566812617356796, 'colsample_bytree': 0.5731689099313098, 'reg_alpha': 8.964076045929348, 'reg_lambda': 5.555880563281479}. Best is trial 56 with value: 0.7374764623052639.\n",
      "[I 2025-02-16 21:50:34,132] Trial 64 finished with value: 0.7364828440097739 and parameters: {'n_estimators': 1491, 'num_leaves': 2537, 'max_depth': 11, 'learning_rate': 0.02711991092865331, 'min_child_samples': 3, 'subsample': 0.5333695224220287, 'colsample_bytree': 0.5529373676807006, 'reg_alpha': 8.596195550912253, 'reg_lambda': 6.7058263750133715}. Best is trial 56 with value: 0.7374764623052639.\n",
      "[I 2025-02-16 21:55:31,864] Trial 65 finished with value: 0.7372959975736071 and parameters: {'n_estimators': 2222, 'num_leaves': 2928, 'max_depth': 69, 'learning_rate': 0.00661301278376856, 'min_child_samples': 60, 'subsample': 0.5556034208434792, 'colsample_bytree': 0.5275430153579742, 'reg_alpha': 9.473544006706458, 'reg_lambda': 4.39238626012523}. Best is trial 56 with value: 0.7374764623052639.\n",
      "[I 2025-02-16 22:00:26,573] Trial 66 finished with value: 0.7330836173974701 and parameters: {'n_estimators': 2267, 'num_leaves': 2947, 'max_depth': 68, 'learning_rate': 0.0012384444116951103, 'min_child_samples': 20, 'subsample': 0.5920240675102181, 'colsample_bytree': 0.5284717722307172, 'reg_alpha': 9.479593203584232, 'reg_lambda': 4.209705750237121}. Best is trial 56 with value: 0.7374764623052639.\n",
      "[I 2025-02-16 22:06:28,463] Trial 67 finished with value: 0.7365362919328964 and parameters: {'n_estimators': 2522, 'num_leaves': 3302, 'max_depth': 51, 'learning_rate': 0.014257324445685504, 'min_child_samples': 58, 'subsample': 0.5476932765431014, 'colsample_bytree': 0.5681643875787703, 'reg_alpha': 9.752816560219658, 'reg_lambda': 4.679432003398633}. Best is trial 56 with value: 0.7374764623052639.\n",
      "[I 2025-02-16 22:11:01,215] Trial 68 finished with value: 0.7371573719052273 and parameters: {'n_estimators': 2047, 'num_leaves': 3193, 'max_depth': 316, 'learning_rate': 0.005994220156979993, 'min_child_samples': 76, 'subsample': 0.559677616575669, 'colsample_bytree': 0.5867888667824106, 'reg_alpha': 8.390284420532412, 'reg_lambda': 5.864512339558336}. Best is trial 56 with value: 0.7374764623052639.\n",
      "[I 2025-02-16 22:15:49,822] Trial 69 finished with value: 0.7372764468047592 and parameters: {'n_estimators': 2171, 'num_leaves': 3154, 'max_depth': 82, 'learning_rate': 0.007511886711347731, 'min_child_samples': 81, 'subsample': 0.5263250007639081, 'colsample_bytree': 0.5827149609057117, 'reg_alpha': 9.16267856596755, 'reg_lambda': 5.919025328977081}. Best is trial 56 with value: 0.7374764623052639.\n",
      "[I 2025-02-16 22:21:16,794] Trial 70 finished with value: 0.7360195941791772 and parameters: {'n_estimators': 2125, 'num_leaves': 3171, 'max_depth': 324, 'learning_rate': 0.01686533236133468, 'min_child_samples': 31, 'subsample': 0.5237989117131523, 'colsample_bytree': 0.5252752204234563, 'reg_alpha': 8.483749081041756, 'reg_lambda': 5.99770499155216}. Best is trial 56 with value: 0.7374764623052639.\n",
      "[I 2025-02-16 22:26:55,354] Trial 71 finished with value: 0.7372718743111033 and parameters: {'n_estimators': 2556, 'num_leaves': 2905, 'max_depth': 252, 'learning_rate': 0.006734534807453722, 'min_child_samples': 81, 'subsample': 0.5578201906402971, 'colsample_bytree': 0.5825913471404965, 'reg_alpha': 9.238841095916404, 'reg_lambda': 5.813360594031122}. Best is trial 56 with value: 0.7374764623052639.\n",
      "[I 2025-02-16 22:32:36,596] Trial 72 finished with value: 0.7373150935808441 and parameters: {'n_estimators': 2614, 'num_leaves': 3421, 'max_depth': 291, 'learning_rate': 0.007020864679879362, 'min_child_samples': 68, 'subsample': 0.5037512302416524, 'colsample_bytree': 0.5868619626935251, 'reg_alpha': 9.231788402911663, 'reg_lambda': 5.844564244922755}. Best is trial 56 with value: 0.7374764623052639.\n",
      "[I 2025-02-16 22:37:28,173] Trial 73 finished with value: 0.7340465716250593 and parameters: {'n_estimators': 2605, 'num_leaves': 3492, 'max_depth': 292, 'learning_rate': 0.0014967767337220042, 'min_child_samples': 95, 'subsample': 0.5627770231387982, 'colsample_bytree': 0.5866355276990357, 'reg_alpha': 9.203630773697595, 'reg_lambda': 6.478440738265608}. Best is trial 56 with value: 0.7374764623052639.\n",
      "[I 2025-02-16 22:45:21,280] Trial 74 finished with value: 0.7321424081386224 and parameters: {'n_estimators': 3106, 'num_leaves': 3210, 'max_depth': 294, 'learning_rate': 0.03783595477377746, 'min_child_samples': 66, 'subsample': 0.506350758035925, 'colsample_bytree': 0.5831873494018551, 'reg_alpha': 8.900947698237234, 'reg_lambda': 5.900574646925336}. Best is trial 56 with value: 0.7374764623052639.\n",
      "[I 2025-02-16 22:50:47,021] Trial 75 finished with value: 0.7360106959771597 and parameters: {'n_estimators': 2392, 'num_leaves': 3412, 'max_depth': 242, 'learning_rate': 0.016636763630740847, 'min_child_samples': 79, 'subsample': 0.5866252240519068, 'colsample_bytree': 0.5530396768228283, 'reg_alpha': 8.366636666714065, 'reg_lambda': 5.735754303314078}. Best is trial 56 with value: 0.7374764623052639.\n",
      "[I 2025-02-16 22:58:11,815] Trial 76 finished with value: 0.7332516005648343 and parameters: {'n_estimators': 2802, 'num_leaves': 2881, 'max_depth': 306, 'learning_rate': 0.028096212655083157, 'min_child_samples': 40, 'subsample': 0.6042042295821992, 'colsample_bytree': 0.6145819794910443, 'reg_alpha': 8.768773760277279, 'reg_lambda': 7.264496111098589}. Best is trial 56 with value: 0.7374764623052639.\n",
      "[I 2025-02-16 23:02:46,663] Trial 77 finished with value: 0.737443806043174 and parameters: {'n_estimators': 2300, 'num_leaves': 3031, 'max_depth': 278, 'learning_rate': 0.007631663169859762, 'min_child_samples': 99, 'subsample': 0.5384139235398575, 'colsample_bytree': 0.5354524103686299, 'reg_alpha': 9.145748816019735, 'reg_lambda': 6.190532953196865}. Best is trial 56 with value: 0.7374764623052639.\n",
      "[I 2025-02-16 23:08:22,970] Trial 78 finished with value: 0.733354112986802 and parameters: {'n_estimators': 2253, 'num_leaves': 3048, 'max_depth': 271, 'learning_rate': 0.04773524513763166, 'min_child_samples': 56, 'subsample': 0.5360157548655862, 'colsample_bytree': 0.5334283844056193, 'reg_alpha': 9.202731206661362, 'reg_lambda': 6.301415156329305}. Best is trial 56 with value: 0.7374764623052639.\n",
      "[I 2025-02-16 23:14:39,423] Trial 79 finished with value: 0.7365506492644451 and parameters: {'n_estimators': 2703, 'num_leaves': 3391, 'max_depth': 229, 'learning_rate': 0.015207168525303315, 'min_child_samples': 100, 'subsample': 0.6198771362441552, 'colsample_bytree': 0.559621761227145, 'reg_alpha': 9.464040792068085, 'reg_lambda': 6.962019431808706}. Best is trial 56 with value: 0.7374764623052639.\n",
      "[I 2025-02-16 23:26:18,727] Trial 80 finished with value: 0.734930098801806 and parameters: {'n_estimators': 2492, 'num_leaves': 3254, 'max_depth': 346, 'learning_rate': 0.03425582341125559, 'min_child_samples': 117, 'subsample': 0.514132931366817, 'colsample_bytree': 0.5473129841488046, 'reg_alpha': 9.961708222007475, 'reg_lambda': 6.720159594057557}. Best is trial 56 with value: 0.7374764623052639.\n",
      "[I 2025-02-16 23:33:34,477] Trial 81 finished with value: 0.7371765206528702 and parameters: {'n_estimators': 2315, 'num_leaves': 3132, 'max_depth': 321, 'learning_rate': 0.007586025035010015, 'min_child_samples': 86, 'subsample': 0.5525716109573542, 'colsample_bytree': 0.5972611094985665, 'reg_alpha': 9.026081827503134, 'reg_lambda': 5.766835559788984}. Best is trial 56 with value: 0.7374764623052639.\n",
      "[I 2025-02-16 23:42:34,073] Trial 82 finished with value: 0.7314238310583664 and parameters: {'n_estimators': 2323, 'num_leaves': 3095, 'max_depth': 275, 'learning_rate': 0.008252673271633185, 'min_child_samples': 68, 'subsample': 0.5460410910947311, 'colsample_bytree': 0.6005390949155012, 'reg_alpha': 1.4184620645953059, 'reg_lambda': 6.1859649943623625}. Best is trial 56 with value: 0.7374764623052639.\n",
      "[I 2025-02-16 23:47:31,286] Trial 83 finished with value: 0.7360589046882913 and parameters: {'n_estimators': 2134, 'num_leaves': 2897, 'max_depth': 293, 'learning_rate': 0.019168890629514625, 'min_child_samples': 86, 'subsample': 0.5296091432805791, 'colsample_bytree': 0.6178528087093742, 'reg_alpha': 8.938324774363778, 'reg_lambda': 5.397274127049211}. Best is trial 56 with value: 0.7374764623052639.\n",
      "[I 2025-02-16 23:53:59,660] Trial 84 finished with value: 0.7348026003639072 and parameters: {'n_estimators': 2577, 'num_leaves': 2759, 'max_depth': 333, 'learning_rate': 0.02518686351709815, 'min_child_samples': 55, 'subsample': 0.5931030533137152, 'colsample_bytree': 0.5792964736411412, 'reg_alpha': 9.14276025199813, 'reg_lambda': 5.622783256261391}. Best is trial 56 with value: 0.7374764623052639.\n",
      "[I 2025-02-17 00:02:46,221] Trial 85 finished with value: 0.7361468717044336 and parameters: {'n_estimators': 3017, 'num_leaves': 3010, 'max_depth': 262, 'learning_rate': 0.009921877622149678, 'min_child_samples': 115, 'subsample': 0.5712738965363061, 'colsample_bytree': 0.9254729481326808, 'reg_alpha': 9.498353081363595, 'reg_lambda': 4.404546693500832}. Best is trial 56 with value: 0.7374764623052639.\n",
      "[I 2025-02-17 00:06:45,697] Trial 86 finished with value: 0.733360374168539 and parameters: {'n_estimators': 2192, 'num_leaves': 3413, 'max_depth': 83, 'learning_rate': 0.001485276561680752, 'min_child_samples': 92, 'subsample': 0.5551086977842843, 'colsample_bytree': 0.5205437285688991, 'reg_alpha': 8.683788047135344, 'reg_lambda': 6.072578259594248}. Best is trial 56 with value: 0.7374764623052639.\n",
      "[I 2025-02-17 00:12:59,744] Trial 87 finished with value: 0.7243342935842004 and parameters: {'n_estimators': 2417, 'num_leaves': 3156, 'max_depth': 303, 'learning_rate': 0.15014194877996354, 'min_child_samples': 101, 'subsample': 0.5853741930227577, 'colsample_bytree': 0.5361351547483751, 'reg_alpha': 7.792462102444356, 'reg_lambda': 6.423613091089426}. Best is trial 56 with value: 0.7374764623052639.\n",
      "[I 2025-02-17 00:18:03,288] Trial 88 finished with value: 0.7364589993758283 and parameters: {'n_estimators': 2325, 'num_leaves': 2891, 'max_depth': 282, 'learning_rate': 0.013528957903466428, 'min_child_samples': 74, 'subsample': 0.5000216414228579, 'colsample_bytree': 0.5625279490364561, 'reg_alpha': 8.29221766168262, 'reg_lambda': 5.719356780594883}. Best is trial 56 with value: 0.7374764623052639.\n",
      "[I 2025-02-17 00:25:21,017] Trial 89 finished with value: 0.73697670218256 and parameters: {'n_estimators': 2698, 'num_leaves': 2720, 'max_depth': 260, 'learning_rate': 0.007980032196822397, 'min_child_samples': 45, 'subsample': 0.6398048199758266, 'colsample_bytree': 0.5946500879566186, 'reg_alpha': 9.072651568126435, 'reg_lambda': 4.899313887035724}. Best is trial 56 with value: 0.7374764623052639.\n",
      "[I 2025-02-17 00:31:00,326] Trial 90 finished with value: 0.7341899389544333 and parameters: {'n_estimators': 1986, 'num_leaves': 3263, 'max_depth': 310, 'learning_rate': 0.03139590378965729, 'min_child_samples': 59, 'subsample': 0.5399268372188379, 'colsample_bytree': 0.6219127420724959, 'reg_alpha': 8.638846856661479, 'reg_lambda': 7.1483995400369515}. Best is trial 56 with value: 0.7374764623052639.\n",
      "[I 2025-02-17 00:35:44,900] Trial 91 finished with value: 0.7369899022104913 and parameters: {'n_estimators': 2028, 'num_leaves': 3143, 'max_depth': 317, 'learning_rate': 0.00537454779185923, 'min_child_samples': 72, 'subsample': 0.5627959259800692, 'colsample_bytree': 0.579025213323607, 'reg_alpha': 9.357737189094735, 'reg_lambda': 5.910294067769758}. Best is trial 56 with value: 0.7374764623052639.\n",
      "[W 2025-02-17 00:37:13,748] Trial 92 failed with parameters: {'n_estimators': 2203, 'num_leaves': 3213, 'max_depth': 325, 'learning_rate': 0.01796592507629681, 'min_child_samples': 83, 'subsample': 0.555492287828098, 'colsample_bytree': 0.5546108187161415, 'reg_alpha': 8.459991848528151, 'reg_lambda': 6.7140344718542675} because of the following error: KeyboardInterrupt().\n",
      "Traceback (most recent call last):\n",
      "  File \"c:\\Users\\juneh\\AppData\\Local\\Programs\\Python\\Python37\\lib\\site-packages\\optuna\\study\\_optimize.py\", line 196, in _run_trial\n",
      "    value_or_values = func(trial)\n",
      "  File \"C:\\Users\\juneh\\AppData\\Local\\Temp\\ipykernel_10960\\4169731854.py\", line 23, in objective\n",
      "    model.fit(Total_X_train, Total_y_train)\n",
      "  File \"c:\\Users\\juneh\\AppData\\Local\\Programs\\Python\\Python37\\lib\\site-packages\\lightgbm\\sklearn.py\", line 1298, in fit\n",
      "    init_model=init_model,\n",
      "  File \"c:\\Users\\juneh\\AppData\\Local\\Programs\\Python\\Python37\\lib\\site-packages\\lightgbm\\sklearn.py\", line 963, in fit\n",
      "    callbacks=callbacks,\n",
      "  File \"c:\\Users\\juneh\\AppData\\Local\\Programs\\Python\\Python37\\lib\\site-packages\\lightgbm\\engine.py\", line 307, in train\n",
      "    booster.update(fobj=fobj)\n",
      "  File \"c:\\Users\\juneh\\AppData\\Local\\Programs\\Python\\Python37\\lib\\site-packages\\lightgbm\\basic.py\", line 4138, in update\n",
      "    ctypes.byref(is_finished),\n",
      "KeyboardInterrupt\n",
      "[W 2025-02-17 00:37:13,844] Trial 92 failed with value None.\n"
     ]
    },
    {
     "ename": "KeyboardInterrupt",
     "evalue": "",
     "output_type": "error",
     "traceback": [
      "\u001b[1;31m---------------------------------------------------------------------------\u001b[0m",
      "\u001b[1;31mKeyboardInterrupt\u001b[0m                         Traceback (most recent call last)",
      "\u001b[1;32m~\\AppData\\Local\\Temp\\ipykernel_10960\\4169731854.py\u001b[0m in \u001b[0;36m<module>\u001b[1;34m\u001b[0m\n\u001b[0;32m     30\u001b[0m \u001b[1;31m# Optuna 스터디 생성 및 최적화 실행\u001b[0m\u001b[1;33m\u001b[0m\u001b[1;33m\u001b[0m\u001b[1;33m\u001b[0m\u001b[0m\n\u001b[0;32m     31\u001b[0m \u001b[0mstudy\u001b[0m \u001b[1;33m=\u001b[0m \u001b[0moptuna\u001b[0m\u001b[1;33m.\u001b[0m\u001b[0mcreate_study\u001b[0m\u001b[1;33m(\u001b[0m\u001b[0mdirection\u001b[0m\u001b[1;33m=\u001b[0m\u001b[1;34m'maximize'\u001b[0m\u001b[1;33m)\u001b[0m\u001b[1;33m\u001b[0m\u001b[1;33m\u001b[0m\u001b[0m\n\u001b[1;32m---> 32\u001b[1;33m \u001b[0mstudy\u001b[0m\u001b[1;33m.\u001b[0m\u001b[0moptimize\u001b[0m\u001b[1;33m(\u001b[0m\u001b[0mobjective\u001b[0m\u001b[1;33m,\u001b[0m \u001b[0mn_trials\u001b[0m\u001b[1;33m=\u001b[0m\u001b[1;36m500\u001b[0m\u001b[1;33m)\u001b[0m\u001b[1;33m\u001b[0m\u001b[1;33m\u001b[0m\u001b[0m\n\u001b[0m\u001b[0;32m     33\u001b[0m \u001b[1;33m\u001b[0m\u001b[0m\n\u001b[0;32m     34\u001b[0m \u001b[1;31m# 최적의 하이퍼파라미터 출력\u001b[0m\u001b[1;33m\u001b[0m\u001b[1;33m\u001b[0m\u001b[1;33m\u001b[0m\u001b[0m\n",
      "\u001b[1;32mc:\\Users\\juneh\\AppData\\Local\\Programs\\Python\\Python37\\lib\\site-packages\\optuna\\study\\study.py\u001b[0m in \u001b[0;36moptimize\u001b[1;34m(self, func, n_trials, timeout, n_jobs, catch, callbacks, gc_after_trial, show_progress_bar)\u001b[0m\n\u001b[0;32m    458\u001b[0m             \u001b[0mcallbacks\u001b[0m\u001b[1;33m=\u001b[0m\u001b[0mcallbacks\u001b[0m\u001b[1;33m,\u001b[0m\u001b[1;33m\u001b[0m\u001b[1;33m\u001b[0m\u001b[0m\n\u001b[0;32m    459\u001b[0m             \u001b[0mgc_after_trial\u001b[0m\u001b[1;33m=\u001b[0m\u001b[0mgc_after_trial\u001b[0m\u001b[1;33m,\u001b[0m\u001b[1;33m\u001b[0m\u001b[1;33m\u001b[0m\u001b[0m\n\u001b[1;32m--> 460\u001b[1;33m             \u001b[0mshow_progress_bar\u001b[0m\u001b[1;33m=\u001b[0m\u001b[0mshow_progress_bar\u001b[0m\u001b[1;33m,\u001b[0m\u001b[1;33m\u001b[0m\u001b[1;33m\u001b[0m\u001b[0m\n\u001b[0m\u001b[0;32m    461\u001b[0m         )\n\u001b[0;32m    462\u001b[0m \u001b[1;33m\u001b[0m\u001b[0m\n",
      "\u001b[1;32mc:\\Users\\juneh\\AppData\\Local\\Programs\\Python\\Python37\\lib\\site-packages\\optuna\\study\\_optimize.py\u001b[0m in \u001b[0;36m_optimize\u001b[1;34m(study, func, n_trials, timeout, n_jobs, catch, callbacks, gc_after_trial, show_progress_bar)\u001b[0m\n\u001b[0;32m     70\u001b[0m                 \u001b[0mreseed_sampler_rng\u001b[0m\u001b[1;33m=\u001b[0m\u001b[1;32mFalse\u001b[0m\u001b[1;33m,\u001b[0m\u001b[1;33m\u001b[0m\u001b[1;33m\u001b[0m\u001b[0m\n\u001b[0;32m     71\u001b[0m                 \u001b[0mtime_start\u001b[0m\u001b[1;33m=\u001b[0m\u001b[1;32mNone\u001b[0m\u001b[1;33m,\u001b[0m\u001b[1;33m\u001b[0m\u001b[1;33m\u001b[0m\u001b[0m\n\u001b[1;32m---> 72\u001b[1;33m                 \u001b[0mprogress_bar\u001b[0m\u001b[1;33m=\u001b[0m\u001b[0mprogress_bar\u001b[0m\u001b[1;33m,\u001b[0m\u001b[1;33m\u001b[0m\u001b[1;33m\u001b[0m\u001b[0m\n\u001b[0m\u001b[0;32m     73\u001b[0m             )\n\u001b[0;32m     74\u001b[0m         \u001b[1;32melse\u001b[0m\u001b[1;33m:\u001b[0m\u001b[1;33m\u001b[0m\u001b[1;33m\u001b[0m\u001b[0m\n",
      "\u001b[1;32mc:\\Users\\juneh\\AppData\\Local\\Programs\\Python\\Python37\\lib\\site-packages\\optuna\\study\\_optimize.py\u001b[0m in \u001b[0;36m_optimize_sequential\u001b[1;34m(study, func, n_trials, timeout, catch, callbacks, gc_after_trial, reseed_sampler_rng, time_start, progress_bar)\u001b[0m\n\u001b[0;32m    157\u001b[0m \u001b[1;33m\u001b[0m\u001b[0m\n\u001b[0;32m    158\u001b[0m         \u001b[1;32mtry\u001b[0m\u001b[1;33m:\u001b[0m\u001b[1;33m\u001b[0m\u001b[1;33m\u001b[0m\u001b[0m\n\u001b[1;32m--> 159\u001b[1;33m             \u001b[0mfrozen_trial\u001b[0m \u001b[1;33m=\u001b[0m \u001b[0m_run_trial\u001b[0m\u001b[1;33m(\u001b[0m\u001b[0mstudy\u001b[0m\u001b[1;33m,\u001b[0m \u001b[0mfunc\u001b[0m\u001b[1;33m,\u001b[0m \u001b[0mcatch\u001b[0m\u001b[1;33m)\u001b[0m\u001b[1;33m\u001b[0m\u001b[1;33m\u001b[0m\u001b[0m\n\u001b[0m\u001b[0;32m    160\u001b[0m         \u001b[1;32mfinally\u001b[0m\u001b[1;33m:\u001b[0m\u001b[1;33m\u001b[0m\u001b[1;33m\u001b[0m\u001b[0m\n\u001b[0;32m    161\u001b[0m             \u001b[1;31m# The following line mitigates memory problems that can be occurred in some\u001b[0m\u001b[1;33m\u001b[0m\u001b[1;33m\u001b[0m\u001b[1;33m\u001b[0m\u001b[0m\n",
      "\u001b[1;32mc:\\Users\\juneh\\AppData\\Local\\Programs\\Python\\Python37\\lib\\site-packages\\optuna\\study\\_optimize.py\u001b[0m in \u001b[0;36m_run_trial\u001b[1;34m(study, func, catch)\u001b[0m\n\u001b[0;32m    245\u001b[0m         \u001b[1;32mand\u001b[0m \u001b[1;32mnot\u001b[0m \u001b[0misinstance\u001b[0m\u001b[1;33m(\u001b[0m\u001b[0mfunc_err\u001b[0m\u001b[1;33m,\u001b[0m \u001b[0mcatch\u001b[0m\u001b[1;33m)\u001b[0m\u001b[1;33m\u001b[0m\u001b[1;33m\u001b[0m\u001b[0m\n\u001b[0;32m    246\u001b[0m     ):\n\u001b[1;32m--> 247\u001b[1;33m         \u001b[1;32mraise\u001b[0m \u001b[0mfunc_err\u001b[0m\u001b[1;33m\u001b[0m\u001b[1;33m\u001b[0m\u001b[0m\n\u001b[0m\u001b[0;32m    248\u001b[0m     \u001b[1;32mreturn\u001b[0m \u001b[0mfrozen_trial\u001b[0m\u001b[1;33m\u001b[0m\u001b[1;33m\u001b[0m\u001b[0m\n\u001b[0;32m    249\u001b[0m \u001b[1;33m\u001b[0m\u001b[0m\n",
      "\u001b[1;32mc:\\Users\\juneh\\AppData\\Local\\Programs\\Python\\Python37\\lib\\site-packages\\optuna\\study\\_optimize.py\u001b[0m in \u001b[0;36m_run_trial\u001b[1;34m(study, func, catch)\u001b[0m\n\u001b[0;32m    194\u001b[0m     \u001b[1;32mwith\u001b[0m \u001b[0mget_heartbeat_thread\u001b[0m\u001b[1;33m(\u001b[0m\u001b[0mtrial\u001b[0m\u001b[1;33m.\u001b[0m\u001b[0m_trial_id\u001b[0m\u001b[1;33m,\u001b[0m \u001b[0mstudy\u001b[0m\u001b[1;33m.\u001b[0m\u001b[0m_storage\u001b[0m\u001b[1;33m)\u001b[0m\u001b[1;33m:\u001b[0m\u001b[1;33m\u001b[0m\u001b[1;33m\u001b[0m\u001b[0m\n\u001b[0;32m    195\u001b[0m         \u001b[1;32mtry\u001b[0m\u001b[1;33m:\u001b[0m\u001b[1;33m\u001b[0m\u001b[1;33m\u001b[0m\u001b[0m\n\u001b[1;32m--> 196\u001b[1;33m             \u001b[0mvalue_or_values\u001b[0m \u001b[1;33m=\u001b[0m \u001b[0mfunc\u001b[0m\u001b[1;33m(\u001b[0m\u001b[0mtrial\u001b[0m\u001b[1;33m)\u001b[0m\u001b[1;33m\u001b[0m\u001b[1;33m\u001b[0m\u001b[0m\n\u001b[0m\u001b[0;32m    197\u001b[0m         \u001b[1;32mexcept\u001b[0m \u001b[0mexceptions\u001b[0m\u001b[1;33m.\u001b[0m\u001b[0mTrialPruned\u001b[0m \u001b[1;32mas\u001b[0m \u001b[0me\u001b[0m\u001b[1;33m:\u001b[0m\u001b[1;33m\u001b[0m\u001b[1;33m\u001b[0m\u001b[0m\n\u001b[0;32m    198\u001b[0m             \u001b[1;31m# TODO(mamu): Handle multi-objective cases.\u001b[0m\u001b[1;33m\u001b[0m\u001b[1;33m\u001b[0m\u001b[1;33m\u001b[0m\u001b[0m\n",
      "\u001b[1;32m~\\AppData\\Local\\Temp\\ipykernel_10960\\4169731854.py\u001b[0m in \u001b[0;36mobjective\u001b[1;34m(trial)\u001b[0m\n\u001b[0;32m     21\u001b[0m \u001b[1;33m\u001b[0m\u001b[0m\n\u001b[0;32m     22\u001b[0m     \u001b[0mmodel\u001b[0m \u001b[1;33m=\u001b[0m \u001b[0mlgb\u001b[0m\u001b[1;33m.\u001b[0m\u001b[0mLGBMClassifier\u001b[0m\u001b[1;33m(\u001b[0m\u001b[1;33m**\u001b[0m\u001b[0mparam\u001b[0m\u001b[1;33m)\u001b[0m\u001b[1;33m\u001b[0m\u001b[1;33m\u001b[0m\u001b[0m\n\u001b[1;32m---> 23\u001b[1;33m     \u001b[0mmodel\u001b[0m\u001b[1;33m.\u001b[0m\u001b[0mfit\u001b[0m\u001b[1;33m(\u001b[0m\u001b[0mTotal_X_train\u001b[0m\u001b[1;33m,\u001b[0m \u001b[0mTotal_y_train\u001b[0m\u001b[1;33m)\u001b[0m\u001b[1;33m\u001b[0m\u001b[1;33m\u001b[0m\u001b[0m\n\u001b[0m\u001b[0;32m     24\u001b[0m \u001b[1;33m\u001b[0m\u001b[0m\n\u001b[0;32m     25\u001b[0m     \u001b[0my_pred_proba\u001b[0m \u001b[1;33m=\u001b[0m \u001b[0mmodel\u001b[0m\u001b[1;33m.\u001b[0m\u001b[0mpredict_proba\u001b[0m\u001b[1;33m(\u001b[0m\u001b[0mTotal_X_test\u001b[0m\u001b[1;33m)\u001b[0m\u001b[1;33m[\u001b[0m\u001b[1;33m:\u001b[0m\u001b[1;33m,\u001b[0m \u001b[1;36m1\u001b[0m\u001b[1;33m]\u001b[0m\u001b[1;33m\u001b[0m\u001b[1;33m\u001b[0m\u001b[0m\n",
      "\u001b[1;32mc:\\Users\\juneh\\AppData\\Local\\Programs\\Python\\Python37\\lib\\site-packages\\lightgbm\\sklearn.py\u001b[0m in \u001b[0;36mfit\u001b[1;34m(self, X, y, sample_weight, init_score, eval_set, eval_names, eval_sample_weight, eval_class_weight, eval_init_score, eval_metric, feature_name, categorical_feature, callbacks, init_model)\u001b[0m\n\u001b[0;32m   1296\u001b[0m             \u001b[0mcategorical_feature\u001b[0m\u001b[1;33m=\u001b[0m\u001b[0mcategorical_feature\u001b[0m\u001b[1;33m,\u001b[0m\u001b[1;33m\u001b[0m\u001b[1;33m\u001b[0m\u001b[0m\n\u001b[0;32m   1297\u001b[0m             \u001b[0mcallbacks\u001b[0m\u001b[1;33m=\u001b[0m\u001b[0mcallbacks\u001b[0m\u001b[1;33m,\u001b[0m\u001b[1;33m\u001b[0m\u001b[1;33m\u001b[0m\u001b[0m\n\u001b[1;32m-> 1298\u001b[1;33m             \u001b[0minit_model\u001b[0m\u001b[1;33m=\u001b[0m\u001b[0minit_model\u001b[0m\u001b[1;33m,\u001b[0m\u001b[1;33m\u001b[0m\u001b[1;33m\u001b[0m\u001b[0m\n\u001b[0m\u001b[0;32m   1299\u001b[0m         )\n\u001b[0;32m   1300\u001b[0m         \u001b[1;32mreturn\u001b[0m \u001b[0mself\u001b[0m\u001b[1;33m\u001b[0m\u001b[1;33m\u001b[0m\u001b[0m\n",
      "\u001b[1;32mc:\\Users\\juneh\\AppData\\Local\\Programs\\Python\\Python37\\lib\\site-packages\\lightgbm\\sklearn.py\u001b[0m in \u001b[0;36mfit\u001b[1;34m(self, X, y, sample_weight, init_score, group, eval_set, eval_names, eval_sample_weight, eval_class_weight, eval_init_score, eval_group, eval_metric, feature_name, categorical_feature, callbacks, init_model)\u001b[0m\n\u001b[0;32m    961\u001b[0m             \u001b[0mfeval\u001b[0m\u001b[1;33m=\u001b[0m\u001b[0meval_metrics_callable\u001b[0m\u001b[1;33m,\u001b[0m  \u001b[1;31m# type: ignore[arg-type]\u001b[0m\u001b[1;33m\u001b[0m\u001b[1;33m\u001b[0m\u001b[0m\n\u001b[0;32m    962\u001b[0m             \u001b[0minit_model\u001b[0m\u001b[1;33m=\u001b[0m\u001b[0minit_model\u001b[0m\u001b[1;33m,\u001b[0m\u001b[1;33m\u001b[0m\u001b[1;33m\u001b[0m\u001b[0m\n\u001b[1;32m--> 963\u001b[1;33m             \u001b[0mcallbacks\u001b[0m\u001b[1;33m=\u001b[0m\u001b[0mcallbacks\u001b[0m\u001b[1;33m,\u001b[0m\u001b[1;33m\u001b[0m\u001b[1;33m\u001b[0m\u001b[0m\n\u001b[0m\u001b[0;32m    964\u001b[0m         )\n\u001b[0;32m    965\u001b[0m \u001b[1;33m\u001b[0m\u001b[0m\n",
      "\u001b[1;32mc:\\Users\\juneh\\AppData\\Local\\Programs\\Python\\Python37\\lib\\site-packages\\lightgbm\\engine.py\u001b[0m in \u001b[0;36mtrain\u001b[1;34m(params, train_set, num_boost_round, valid_sets, valid_names, feval, init_model, feature_name, categorical_feature, keep_training_booster, callbacks)\u001b[0m\n\u001b[0;32m    305\u001b[0m             )\n\u001b[0;32m    306\u001b[0m \u001b[1;33m\u001b[0m\u001b[0m\n\u001b[1;32m--> 307\u001b[1;33m         \u001b[0mbooster\u001b[0m\u001b[1;33m.\u001b[0m\u001b[0mupdate\u001b[0m\u001b[1;33m(\u001b[0m\u001b[0mfobj\u001b[0m\u001b[1;33m=\u001b[0m\u001b[0mfobj\u001b[0m\u001b[1;33m)\u001b[0m\u001b[1;33m\u001b[0m\u001b[1;33m\u001b[0m\u001b[0m\n\u001b[0m\u001b[0;32m    308\u001b[0m \u001b[1;33m\u001b[0m\u001b[0m\n\u001b[0;32m    309\u001b[0m         \u001b[0mevaluation_result_list\u001b[0m\u001b[1;33m:\u001b[0m \u001b[0mList\u001b[0m\u001b[1;33m[\u001b[0m\u001b[0m_LGBM_BoosterEvalMethodResultType\u001b[0m\u001b[1;33m]\u001b[0m \u001b[1;33m=\u001b[0m \u001b[1;33m[\u001b[0m\u001b[1;33m]\u001b[0m\u001b[1;33m\u001b[0m\u001b[1;33m\u001b[0m\u001b[0m\n",
      "\u001b[1;32mc:\\Users\\juneh\\AppData\\Local\\Programs\\Python\\Python37\\lib\\site-packages\\lightgbm\\basic.py\u001b[0m in \u001b[0;36mupdate\u001b[1;34m(self, train_set, fobj)\u001b[0m\n\u001b[0;32m   4136\u001b[0m                 _LIB.LGBM_BoosterUpdateOneIter(\n\u001b[0;32m   4137\u001b[0m                     \u001b[0mself\u001b[0m\u001b[1;33m.\u001b[0m\u001b[0m_handle\u001b[0m\u001b[1;33m,\u001b[0m\u001b[1;33m\u001b[0m\u001b[1;33m\u001b[0m\u001b[0m\n\u001b[1;32m-> 4138\u001b[1;33m                     \u001b[0mctypes\u001b[0m\u001b[1;33m.\u001b[0m\u001b[0mbyref\u001b[0m\u001b[1;33m(\u001b[0m\u001b[0mis_finished\u001b[0m\u001b[1;33m)\u001b[0m\u001b[1;33m,\u001b[0m\u001b[1;33m\u001b[0m\u001b[1;33m\u001b[0m\u001b[0m\n\u001b[0m\u001b[0;32m   4139\u001b[0m                 )\n\u001b[0;32m   4140\u001b[0m             )\n",
      "\u001b[1;31mKeyboardInterrupt\u001b[0m: "
     ]
    }
   ],
   "source": [
    "# 목적 함수 정의\n",
    "def objective(trial):\n",
    "    param = {\n",
    "        'n_estimators': trial.suggest_int('n_estimators', 500, 3500),\n",
    "        'num_leaves': trial.suggest_int('num_leaves', 500, 3500),\n",
    "        'max_depth': trial.suggest_int('max_depth', 5, 350),\n",
    "        'learning_rate': trial.suggest_float('learning_rate', 0.001, 0.2),\n",
    "        'min_child_samples': trial.suggest_int('min_child_samples', 3, 350),\n",
    "        'subsample': trial.suggest_float('subsample', 0.5, 1.0),\n",
    "        'colsample_bytree': trial.suggest_float('colsample_bytree', 0.5, 1.0),\n",
    "        'reg_alpha': trial.suggest_float('reg_alpha', 0.0, 10.0),\n",
    "        'reg_lambda': trial.suggest_float('reg_lambda', 0.0, 10.0),\n",
    "\n",
    "        'random_state': 42,\n",
    "        'n_jobs': -1,\n",
    "        'metric': 'auc',\n",
    "        'objective': 'binary',\n",
    "        'boosting_type': 'dart',\n",
    "        'verbose': -1\n",
    "    }\n",
    "\n",
    "    model = lgb.LGBMClassifier(**param)\n",
    "    model.fit(Total_X_train, Total_y_train)\n",
    "    \n",
    "    y_pred_proba = model.predict_proba(Total_X_test)[:, 1]\n",
    "    \n",
    "    auc = roc_auc_score(Total_y_test, y_pred_proba)\n",
    "    return auc\n",
    "\n",
    "# Optuna 스터디 생성 및 최적화 실행\n",
    "study = optuna.create_study(direction='maximize')\n",
    "study.optimize(objective, n_trials=500)\n",
    "\n",
    "# 최적의 하이퍼파라미터 출력\n",
    "print(\"Best trial:\")\n",
    "trial = study.best_trial\n",
    "print(f\"  Value: {trial.value}\")\n",
    "print(\"  Params: \")\n",
    "for key, value in trial.params.items():\n",
    "    print(f\"    {key}: {value}\")"
   ]
  },
  {
   "cell_type": "markdown",
   "metadata": {},
   "source": [
    "[I 2025-02-16 14:01:21,962] Trial 25 finished with value: 0.7450160562701532 and parameters: {'n_estimators': 2379, 'num_leaves': 1214, 'max_depth': 320, 'learning_rate': 0.0016910462182733038, 'min_child_samples': 321, 'subsample': 0.9245577554285245, 'colsample_bytree': 0.8027573271184746, 'reg_alpha': 8.590190533433615, 'reg_lambda': 6.615930936160601}. Best is trial 25 with value: 0.7450160562701532"
   ]
  },
  {
   "cell_type": "markdown",
   "metadata": {},
   "source": [
    "."
   ]
  }
 ],
 "metadata": {
  "kernelspec": {
   "display_name": "Python 3",
   "language": "python",
   "name": "python3"
  },
  "language_info": {
   "codemirror_mode": {
    "name": "ipython",
    "version": 3
   },
   "file_extension": ".py",
   "mimetype": "text/x-python",
   "name": "python",
   "nbconvert_exporter": "python",
   "pygments_lexer": "ipython3",
   "version": "3.7.8"
  }
 },
 "nbformat": 4,
 "nbformat_minor": 2
}
