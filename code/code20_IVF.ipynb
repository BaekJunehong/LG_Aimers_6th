{
 "cells": [
  {
   "cell_type": "markdown",
   "metadata": {},
   "source": [
    "## 난임 환자 대상 임신 성공 여부 예측"
   ]
  },
  {
   "cell_type": "markdown",
   "metadata": {},
   "source": [
    "### LGAimers 6th 온라인 해커톤"
   ]
  },
  {
   "cell_type": "markdown",
   "metadata": {},
   "source": [
    "Import"
   ]
  },
  {
   "cell_type": "code",
   "execution_count": 178,
   "metadata": {},
   "outputs": [],
   "source": [
    "import numpy as np\n",
    "import pandas as pd\n",
    "import seaborn as sns\n",
    "import matplotlib.pyplot as plt\n",
    "\n",
    "import os\n",
    "from pprint import pprint"
   ]
  },
  {
   "cell_type": "code",
   "execution_count": 179,
   "metadata": {},
   "outputs": [],
   "source": [
    "import platform\n",
    "from matplotlib import rc\n",
    "\n",
    "# 운영 체제에 따라 폰트 설정\n",
    "if platform.system() == 'Windows':  # Windows 환경\n",
    "    rc('font', family='Malgun Gothic')  # 맑은 고딕\n",
    "\n",
    "# 음수 표시 가능하도록 설정\n",
    "plt.rcParams['axes.unicode_minus'] = False"
   ]
  },
  {
   "cell_type": "markdown",
   "metadata": {},
   "source": [
    "반복적으로 쓰는 함수툴"
   ]
  },
  {
   "cell_type": "code",
   "execution_count": 180,
   "metadata": {},
   "outputs": [],
   "source": [
    "def plot_box(df, col_name):\n",
    "    \"\"\"\n",
    "    주어진 데이터프레임과 열 이름에 대해 박스 플롯을 그리는 함수.\n",
    "\n",
    "    Parameters:\n",
    "    df (pd.DataFrame): 데이터프레임\n",
    "    col_name (str): 열 이름\n",
    "    \"\"\"\n",
    "    plt.figure(figsize=(7, 4))\n",
    "    plt.boxplot(df[col_name], vert=False)\n",
    "    plt.xlabel(col_name)\n",
    "    plt.title(f'Box Plot of {col_name}')\n",
    "    plt.show()\n",
    "\n",
    "def value_counts_ratio(df, col_name, target_name='임신_성공_여부'):\n",
    "    \"\"\"\n",
    "    주어진 데이터프레임의 특정 열에 대해 각 값마다 타겟 변수의 비율과 갯수, 총 갯수를 출력하는 함수.\n",
    "\n",
    "    Parameters:\n",
    "    df (pd.DataFrame): 데이터프레임\n",
    "    col_name (str): 열 이름\n",
    "    target_name (str): 타겟 변수 이름\n",
    "    \"\"\"\n",
    "    # 각 값마다 타겟 변수의 비율 계산\n",
    "    value_counts = df.groupby(col_name)[target_name].value_counts(normalize=True).unstack().fillna(0)\n",
    "    \n",
    "    # 각 값마다 타겟 변수의 갯수 계산\n",
    "    counts = df.groupby(col_name)[target_name].value_counts().unstack().fillna(0)\n",
    "    \n",
    "    # 각 값마다 총 갯수 계산\n",
    "    total_counts = df[col_name].value_counts().rename('Total_Count')\n",
    "    \n",
    "    # 비율과 갯수를 합침\n",
    "    result = value_counts.join(counts, lsuffix='_ratio', rsuffix='_count')\n",
    "    \n",
    "    # 총 갯수를 합침\n",
    "    result = result.join(total_counts, on=col_name)\n",
    "    \n",
    "    # 출력 형식 조정\n",
    "    result.index.name = 'variable'\n",
    "    print(f\"\\n{col_name}별 {target_name} 비율 및 갯수\\n\")\n",
    "    print(result.rename(columns=lambda x: x.split('_')[0]))\n",
    "\n",
    "def summarize_group(df, group_by_columns):\n",
    "    \"\"\"\n",
    "    주어진 데이터프레임을 특정 열들로 그룹화하여 각 그룹의 '임신_성공_여부' 비율과 갯수를 요약하는 함수.\n",
    "\n",
    "    Parameters:\n",
    "    df (pd.DataFrame): 데이터프레임\n",
    "    group_by_columns (list): 그룹화할 열 이름들의 리스트\n",
    "    \"\"\"\n",
    "    # 데이터프레임을 그룹화\n",
    "    grouped_df = df.groupby(group_by_columns)\n",
    "    \n",
    "    # 결과를 저장할 리스트 초기화\n",
    "    results = []\n",
    "    \n",
    "    # 그룹화된 데이터프레임의 내용을 확인하는 코드\n",
    "    for name, group in grouped_df:\n",
    "        # 그룹의 갯수 계산\n",
    "        group_count = group.shape[0]\n",
    "        \n",
    "        # '임신_성공_여부' 변수의 '임신 성공' 비율과 갯수 계산\n",
    "        success_count = group['임신_성공_여부'].value_counts().get(1, 0)\n",
    "        success_ratio = success_count / group_count\n",
    "        \n",
    "        # 결과 리스트에 추가\n",
    "        results.append([name, success_count, success_ratio, group_count])\n",
    "    \n",
    "    # 결과 리스트를 데이터프레임으로 변환\n",
    "    results_df = pd.DataFrame(results, columns=['group', \"'임신_성공_여부' count\", 'ratio', 'Total'])\n",
    "    \n",
    "    # 그룹화된 변수들의 이름을 제목행으로 출력\n",
    "    print(f\"Grouped by: {', '.join(group_by_columns)}\")\n",
    "    print()\n",
    "    # 데이터프레임 출력\n",
    "    print(results_df)\n",
    "\n",
    "def plot_ratio(df, group_by_column, target_column='임신_성공_여부', success_value=1):\n",
    "    \"\"\"\n",
    "    주어진 데이터프레임을 특정 열로 그룹화하여 각 그룹의 타겟 변수의 성공 비율을 시각화하는 함수.\n",
    "\n",
    "    Parameters:\n",
    "    df (pd.DataFrame): 데이터프레임\n",
    "    group_by_column (str): 그룹화할 열 이름\n",
    "    target_column (str): 타겟 변수 이름\n",
    "    success_value (int): 타겟 변수의 성공을 나타내는 값\n",
    "    \"\"\"\n",
    "    # 데이터프레임을 그룹화\n",
    "    grouped_df = df.groupby(group_by_column)\n",
    "    \n",
    "    # 결과를 저장할 리스트 초기화\n",
    "    results = []\n",
    "    \n",
    "    # 그룹화된 데이터프레임의 내용을 확인하는 코드\n",
    "    for name, group in grouped_df:\n",
    "        # 그룹의 갯수 계산\n",
    "        group_count = group.shape[0]\n",
    "        \n",
    "        # '임신_성공_여부' 변수의 '성공' 비율과 갯수 계산\n",
    "        success_count = group[target_column].value_counts().get(success_value, 0)\n",
    "        success_ratio = success_count / group_count\n",
    "        \n",
    "        # 결과 리스트에 추가\n",
    "        results.append([name, success_count, success_ratio, group_count])\n",
    "    \n",
    "    # 결과 리스트를 데이터프레임으로 변환\n",
    "    results_df = pd.DataFrame(results, columns=['group', f\"'{success_value}' count\", 'ratio', 'Total'])\n",
    "    \n",
    "    # 그래프 크기 설정\n",
    "    plt.figure(figsize=(10, 5))\n",
    "    \n",
    "    # 막대 그래프 생성\n",
    "    ax = results_df.plot(kind='bar', x='group', y='ratio', legend=False)\n",
    "    \n",
    "    # 각 막대 위에 임신 성공 여부 갯수와 총 갯수 표시\n",
    "    for i, (success_count, total) in enumerate(zip(results_df[f\"'{success_value}' count\"], results_df['Total'])):\n",
    "        ax.text(i, results_df['ratio'][i], f'{success_count} ({total})', ha='center', va='bottom', fontsize=8)\n",
    "    \n",
    "    # 그래프 제목 및 축 레이블 설정\n",
    "    ax.set_title(f'{success_value} Ratio by {group_by_column}')\n",
    "    ax.set_xlabel(group_by_column)\n",
    "    ax.set_ylabel(f'{success_value} Ratio')\n",
    "   \n",
    "    # 그래프 출력\n",
    "    plt.show()\n",
    "\n",
    "def plot_ratio_boxplot(data, column_name, target_column='임신_성공_여부'):\n",
    "    \"\"\"\n",
    "    주어진 데이터프레임의 특정 열과 타겟 변수 간의 관계를 박스 플롯으로 시각화하는 함수.\n",
    "\n",
    "    Parameters:\n",
    "    data (pd.DataFrame): 데이터프레임\n",
    "    column_name (str): 열 이름\n",
    "    target_column (str): 타겟 변수 이름\n",
    "    \"\"\"\n",
    "\n",
    "    # 그래프 그리기\n",
    "    plt.figure(figsize=(10, 6))\n",
    "    sns.boxplot(x=column_name, y=target_column, data=data)\n",
    "\n",
    "    # 그래프 제목 및 레이블 설정\n",
    "    plt.title(f'{column_name} vs {target_column}')\n",
    "    plt.xlabel(column_name)\n",
    "    plt.ylabel(target_column)\n",
    "\n",
    "    # 그래프 출력\n",
    "    plt.show()"
   ]
  },
  {
   "cell_type": "markdown",
   "metadata": {},
   "source": [
    "### Data Load"
   ]
  },
  {
   "cell_type": "code",
   "execution_count": 181,
   "metadata": {},
   "outputs": [
    {
     "name": "stdout",
     "output_type": "stream",
     "text": [
      "Index(['ID', '시술_시기_코드', '시술_당시_나이', '임신_시도_또는_마지막_임신_경과_연수', '시술_유형',\n",
      "       '특정_시술_유형', '배란_자극_여부', '배란_유도_유형', '단일_배아_이식_여부', '착상_전_유전_검사_사용_여부',\n",
      "       '착상_전_유전_진단_사용_여부', '남성_주_불임_원인', '남성_부_불임_원인', '여성_주_불임_원인',\n",
      "       '여성_부_불임_원인', '부부_주_불임_원인', '부부_부_불임_원인', '불명확_불임_원인', '불임_원인_-_난관_질환',\n",
      "       '불임_원인_-_남성_요인', '불임_원인_-_배란_장애', '불임_원인_-_여성_요인', '불임_원인_-_자궁경부_문제',\n",
      "       '불임_원인_-_자궁내막증', '불임_원인_-_정자_농도', '불임_원인_-_정자_면역학적_요인',\n",
      "       '불임_원인_-_정자_운동성', '불임_원인_-_정자_형태', '배아_생성_주요_이유', '총_시술_횟수',\n",
      "       '클리닉_내_총_시술_횟수', 'IVF_시술_횟수', 'DI_시술_횟수', '총_임신_횟수', 'IVF_임신_횟수',\n",
      "       'DI_임신_횟수', '총_출산_횟수', 'IVF_출산_횟수', 'DI_출산_횟수', '총_생성_배아_수',\n",
      "       '미세주입된_난자_수', '미세주입에서_생성된_배아_수', '이식된_배아_수', '미세주입_배아_이식_수', '저장된_배아_수',\n",
      "       '미세주입_후_저장된_배아_수', '해동된_배아_수', '해동_난자_수', '수집된_신선_난자_수', '저장된_신선_난자_수',\n",
      "       '혼합된_난자_수', '파트너_정자와_혼합된_난자_수', '기증자_정자와_혼합된_난자_수', '난자_출처', '정자_출처',\n",
      "       '난자_기증자_나이', '정자_기증자_나이', '동결_배아_사용_여부', '신선_배아_사용_여부', '기증_배아_사용_여부',\n",
      "       '대리모_여부', 'PGD_시술_여부', 'PGS_시술_여부', '난자_채취_경과일', '난자_해동_경과일',\n",
      "       '난자_혼합_경과일', '배아_이식_경과일', '배아_해동_경과일', '임신_성공_여부'],\n",
      "      dtype='object')\n"
     ]
    }
   ],
   "source": [
    "# 데이터 로드\n",
    "train = pd.read_csv('../data/train.csv')\n",
    "test = pd.read_csv('../data/test.csv')\n",
    "\n",
    "# 변수명에서 공백을 밑줄로 대체\n",
    "train.columns = train.columns.str.replace(' ', '_')\n",
    "test.columns = test.columns.str.replace(' ', '_')\n",
    "\n",
    "# 변경된 변수명 확인\n",
    "print(train.columns)"
   ]
  },
  {
   "cell_type": "code",
   "execution_count": 182,
   "metadata": {},
   "outputs": [
    {
     "name": "stdout",
     "output_type": "stream",
     "text": [
      "<class 'pandas.core.frame.DataFrame'>\n",
      "RangeIndex: 256351 entries, 0 to 256350\n",
      "Data columns (total 69 columns):\n",
      " #   Column                 Non-Null Count   Dtype  \n",
      "---  ------                 --------------   -----  \n",
      " 0   ID                     256351 non-null  object \n",
      " 1   시술_시기_코드               256351 non-null  object \n",
      " 2   시술_당시_나이               256351 non-null  object \n",
      " 3   임신_시도_또는_마지막_임신_경과_연수  9370 non-null    float64\n",
      " 4   시술_유형                  256351 non-null  object \n",
      " 5   특정_시술_유형               256349 non-null  object \n",
      " 6   배란_자극_여부               256351 non-null  int64  \n",
      " 7   배란_유도_유형               256351 non-null  object \n",
      " 8   단일_배아_이식_여부            250060 non-null  float64\n",
      " 9   착상_전_유전_검사_사용_여부       2718 non-null    float64\n",
      " 10  착상_전_유전_진단_사용_여부       250060 non-null  float64\n",
      " 11  남성_주_불임_원인             256351 non-null  int64  \n",
      " 12  남성_부_불임_원인             256351 non-null  int64  \n",
      " 13  여성_주_불임_원인             256351 non-null  int64  \n",
      " 14  여성_부_불임_원인             256351 non-null  int64  \n",
      " 15  부부_주_불임_원인             256351 non-null  int64  \n",
      " 16  부부_부_불임_원인             256351 non-null  int64  \n",
      " 17  불명확_불임_원인              256351 non-null  int64  \n",
      " 18  불임_원인_-_난관_질환          256351 non-null  int64  \n",
      " 19  불임_원인_-_남성_요인          256351 non-null  int64  \n",
      " 20  불임_원인_-_배란_장애          256351 non-null  int64  \n",
      " 21  불임_원인_-_여성_요인          256351 non-null  int64  \n",
      " 22  불임_원인_-_자궁경부_문제        256351 non-null  int64  \n",
      " 23  불임_원인_-_자궁내막증          256351 non-null  int64  \n",
      " 24  불임_원인_-_정자_농도          256351 non-null  int64  \n",
      " 25  불임_원인_-_정자_면역학적_요인     256351 non-null  int64  \n",
      " 26  불임_원인_-_정자_운동성         256351 non-null  int64  \n",
      " 27  불임_원인_-_정자_형태          256351 non-null  int64  \n",
      " 28  배아_생성_주요_이유            250060 non-null  object \n",
      " 29  총_시술_횟수                256351 non-null  object \n",
      " 30  클리닉_내_총_시술_횟수          256351 non-null  object \n",
      " 31  IVF_시술_횟수              256351 non-null  object \n",
      " 32  DI_시술_횟수               256351 non-null  object \n",
      " 33  총_임신_횟수                256351 non-null  object \n",
      " 34  IVF_임신_횟수              256351 non-null  object \n",
      " 35  DI_임신_횟수               256351 non-null  object \n",
      " 36  총_출산_횟수                256351 non-null  object \n",
      " 37  IVF_출산_횟수              256351 non-null  object \n",
      " 38  DI_출산_횟수               256351 non-null  object \n",
      " 39  총_생성_배아_수              250060 non-null  float64\n",
      " 40  미세주입된_난자_수             250060 non-null  float64\n",
      " 41  미세주입에서_생성된_배아_수        250060 non-null  float64\n",
      " 42  이식된_배아_수               250060 non-null  float64\n",
      " 43  미세주입_배아_이식_수           250060 non-null  float64\n",
      " 44  저장된_배아_수               250060 non-null  float64\n",
      " 45  미세주입_후_저장된_배아_수        250060 non-null  float64\n",
      " 46  해동된_배아_수               250060 non-null  float64\n",
      " 47  해동_난자_수                250060 non-null  float64\n",
      " 48  수집된_신선_난자_수            250060 non-null  float64\n",
      " 49  저장된_신선_난자_수            250060 non-null  float64\n",
      " 50  혼합된_난자_수               250060 non-null  float64\n",
      " 51  파트너_정자와_혼합된_난자_수       250060 non-null  float64\n",
      " 52  기증자_정자와_혼합된_난자_수       250060 non-null  float64\n",
      " 53  난자_출처                  256351 non-null  object \n",
      " 54  정자_출처                  256351 non-null  object \n",
      " 55  난자_기증자_나이              256351 non-null  object \n",
      " 56  정자_기증자_나이              256351 non-null  object \n",
      " 57  동결_배아_사용_여부            250060 non-null  float64\n",
      " 58  신선_배아_사용_여부            250060 non-null  float64\n",
      " 59  기증_배아_사용_여부            250060 non-null  float64\n",
      " 60  대리모_여부                 250060 non-null  float64\n",
      " 61  PGD_시술_여부              2179 non-null    float64\n",
      " 62  PGS_시술_여부              1929 non-null    float64\n",
      " 63  난자_채취_경과일              198863 non-null  float64\n",
      " 64  난자_해동_경과일              1436 non-null    float64\n",
      " 65  난자_혼합_경과일              202616 non-null  float64\n",
      " 66  배아_이식_경과일              212785 non-null  float64\n",
      " 67  배아_해동_경과일              40369 non-null   float64\n",
      " 68  임신_성공_여부               256351 non-null  int64  \n",
      "dtypes: float64(29), int64(19), object(21)\n",
      "memory usage: 135.0+ MB\n"
     ]
    }
   ],
   "source": [
    "train.info(verbose=True)"
   ]
  },
  {
   "cell_type": "code",
   "execution_count": 183,
   "metadata": {},
   "outputs": [
    {
     "data": {
      "image/png": "[encoded data removed]",
      "text/plain": [
       "<Figure size 640x480 with 1 Axes>"
      ]
     },
     "metadata": {},
     "output_type": "display_data"
    }
   ],
   "source": [
    "import matplotlib.pyplot as plt\n",
    "import pandas as pd\n",
    "\n",
    "# '임신_성공_여부' 변수의 값 개수 계산\n",
    "value_counts = train['임신_성공_여부'].value_counts()\n",
    "\n",
    "# 라벨 변경\n",
    "labels = {1: '1(임신 성공)', 0: '0(임신 실패)'}\n",
    "value_counts.index = value_counts.index.map(labels)\n",
    "\n",
    "# 도넛 차트 그리기\n",
    "fig, ax = plt.subplots()\n",
    "\n",
    "# 파이 차트 그리기\n",
    "wedges, texts, autotexts = ax.pie(value_counts, labels=value_counts.index, autopct='%1.1f%%', startangle=90, wedgeprops=dict(width=0.5))\n",
    "\n",
    "# 도넛 차트 가운데에 원 그리기\n",
    "centre_circle = plt.Circle((0, 0), 0.70, fc='white')\n",
    "fig.gca().add_artist(centre_circle)\n",
    "\n",
    "# 차트 제목 설정\n",
    "ax.set_title('임신 성공 여부 도넛 차트')\n",
    "\n",
    "# 차트 표시\n",
    "plt.show()"
   ]
  },
  {
   "cell_type": "markdown",
   "metadata": {},
   "source": [
    "## EDA"
   ]
  },
  {
   "cell_type": "code",
   "execution_count": 184,
   "metadata": {},
   "outputs": [],
   "source": [
    "# '시술_유형' 변수의 값이 'IVF'에 해당 안하는 데이터 추출\n",
    "IVF_train = train[train['시술_유형'] == 'IVF'] \n",
    "IVF_test = test[test['시술_유형'] == 'IVF']\n",
    "\n",
    "# 모든 값이 결측값인 변수를 제거\n",
    "IVF_train = IVF_train.dropna(axis=1, how='all')\n",
    "IVF_test = IVF_test.dropna(axis=1, how='all')\n",
    "\n",
    "train = IVF_train\n",
    "test = IVF_test"
   ]
  },
  {
   "cell_type": "markdown",
   "metadata": {},
   "source": [
    "### 1. 시술_시기_코드"
   ]
  },
  {
   "cell_type": "markdown",
   "metadata": {},
   "source": [
    "난임 시술을 받은 시기를 기준으로 코드 부여"
   ]
  },
  {
   "cell_type": "code",
   "execution_count": 185,
   "metadata": {},
   "outputs": [
    {
     "name": "stdout",
     "output_type": "stream",
     "text": [
      "\n",
      "시술_시기_코드별 임신_성공_여부 비율 및 갯수\n",
      "\n",
      "                 0         1      0     1  Total\n",
      "variable                                        \n",
      "TRCMWS    0.739895  0.260105  27567  9691  37258\n",
      "TRDQAZ    0.751191  0.248809  28549  9456  38005\n",
      "TRJXFG    0.730081  0.269919  25693  9499  35192\n",
      "TRVNRY    0.736404  0.263596  25917  9277  35194\n",
      "TRXQMD    0.741403  0.258597  25161  8776  33937\n",
      "TRYBLT    0.727689  0.272311  26092  9764  35856\n",
      "TRZKPL    0.741348  0.258652  25664  8954  34618\n"
     ]
    }
   ],
   "source": [
    "value_counts_ratio(train, '시술_시기_코드')"
   ]
  },
  {
   "cell_type": "markdown",
   "metadata": {},
   "source": [
    "### 2. 시술 당시 나이"
   ]
  },
  {
   "cell_type": "markdown",
   "metadata": {},
   "source": [
    "환자의 시술 당시 나이(연령대)"
   ]
  },
  {
   "cell_type": "code",
   "execution_count": 186,
   "metadata": {},
   "outputs": [
    {
     "name": "stdout",
     "output_type": "stream",
     "text": [
      "\n",
      "시술_당시_나이별 임신_성공_여부 비율 및 갯수\n",
      "\n",
      "                 0         1        0        1   Total\n",
      "variable                                              \n",
      "만18-34세   0.674737  0.325263  67747.0  32658.0  100405\n",
      "만35-37세   0.718321  0.281679  40463.0  15867.0   56330\n",
      "만38-39세   0.779704  0.220296  29780.0   8414.0   38194\n",
      "만40-42세   0.838043  0.161957  30431.0   5881.0   36312\n",
      "만43-44세   0.878486  0.121514  10396.0   1438.0   11834\n",
      "만45-50세   0.825871  0.174129   5497.0   1159.0    6656\n",
      "알 수 없음    1.000000  0.000000    329.0      0.0     329\n"
     ]
    }
   ],
   "source": [
    "value_counts_ratio(train, '시술_당시_나이')"
   ]
  },
  {
   "cell_type": "code",
   "execution_count": 187,
   "metadata": {},
   "outputs": [
    {
     "data": {
      "text/plain": [
       "만18-34세    35498\n",
       "만35-37세    19687\n",
       "만38-39세    13228\n",
       "만40-42세    12911\n",
       "만43-44세     4123\n",
       "만45-50세     2328\n",
       "알 수 없음       116\n",
       "Name: 시술_당시_나이, dtype: int64"
      ]
     },
     "execution_count": 187,
     "metadata": {},
     "output_type": "execute_result"
    }
   ],
   "source": [
    "test['시술_당시_나이'].value_counts()"
   ]
  },
  {
   "cell_type": "markdown",
   "metadata": {},
   "source": [
    "### 3. 임신 시도 또는 마지막 임신 경과 일수"
   ]
  },
  {
   "cell_type": "markdown",
   "metadata": {},
   "source": [
    "환자가 처음 임신을 시도한 시점 또는 마지막 임신 이후 현재까지의 경과 연수 (년 단위)"
   ]
  },
  {
   "cell_type": "code",
   "execution_count": 188,
   "metadata": {},
   "outputs": [
    {
     "name": "stdout",
     "output_type": "stream",
     "text": [
      "\n",
      "임신_시도_또는_마지막_임신_경과_연수별 임신_성공_여부 비율 및 갯수\n",
      "\n",
      "                 0         1    0    1  Total\n",
      "variable                                     \n",
      "0.0       0.666667  0.333333    8    4     12\n",
      "1.0       0.500000  0.500000    2    2      4\n",
      "2.0       0.809524  0.190476   17    4     21\n",
      "3.0       0.762500  0.237500   61   19     80\n",
      "4.0       0.759322  0.240678  224   71    295\n",
      "5.0       0.753687  0.246313  511  167    678\n",
      "6.0       0.747126  0.252874  715  242    957\n",
      "7.0       0.765453  0.234547  904  277   1181\n",
      "8.0       0.782379  0.217621  888  247   1135\n",
      "9.0       0.790744  0.209256  786  208    994\n",
      "10.0      0.778384  0.221616  713  203    916\n",
      "11.0      0.808036  0.191964  543  129    672\n",
      "12.0      0.776639  0.223361  379  109    488\n",
      "13.0      0.835853  0.164147  387   76    463\n",
      "14.0      0.775701  0.224299  249   72    321\n",
      "15.0      0.791165  0.208835  197   52    249\n",
      "16.0      0.845771  0.154229  170   31    201\n",
      "17.0      0.820896  0.179104  110   24    134\n",
      "18.0      0.836538  0.163462   87   17    104\n",
      "19.0      0.855422  0.144578   71   12     83\n",
      "20.0      0.822785  0.177215   65   14     79\n"
     ]
    }
   ],
   "source": [
    "value_counts_ratio(train, '임신_시도_또는_마지막_임신_경과_연수')"
   ]
  },
  {
   "cell_type": "code",
   "execution_count": 189,
   "metadata": {},
   "outputs": [],
   "source": [
    "# 3년 단위로 범주화\n",
    "bins = list(range(0, 24, 3))  # 0부터 20까지 3년 단위로 구간 생성\n",
    "labels = [f'{i}-{i+2}년' for i in range(0, 21, 3)]  # 범주 레이블 생성\n",
    "\n",
    "train['임신_시도_또는_마지막_임신_경과_연수'] = pd.cut(train['임신_시도_또는_마지막_임신_경과_연수'], bins=bins, labels=labels, right=False)\n",
    "test['임신_시도_또는_마지막_임신_경과_연수'] = pd.cut(test['임신_시도_또는_마지막_임신_경과_연수'], bins=bins, labels=labels, right=False)\n",
    "\n",
    "# 결측값을 'unknown'으로 채우기 위해 범주에 'unknown' 추가\n",
    "train['임신_시도_또는_마지막_임신_경과_연수'] = train['임신_시도_또는_마지막_임신_경과_연수'].cat.add_categories(['unknown'])\n",
    "test['임신_시도_또는_마지막_임신_경과_연수'] = test['임신_시도_또는_마지막_임신_경과_연수'].cat.add_categories(['unknown'])\n",
    "\n",
    "train['임신_시도_또는_마지막_임신_경과_연수'].fillna('unknown', inplace=True)\n",
    "test['임신_시도_또는_마지막_임신_경과_연수'].fillna('unknown', inplace=True)"
   ]
  },
  {
   "cell_type": "code",
   "execution_count": 190,
   "metadata": {},
   "outputs": [
    {
     "name": "stdout",
     "output_type": "stream",
     "text": [
      "\n",
      "임신_시도_또는_마지막_임신_경과_연수별 임신_성공_여부 비율 및 갯수\n",
      "\n",
      "                 0         1       0      1   Total\n",
      "variable                                           \n",
      "0-2년      0.729730  0.270270      27     10      37\n",
      "3-5년      0.755935  0.244065     796    257    1053\n",
      "6-8년      0.765964  0.234036    2507    766    3273\n",
      "9-11년     0.790860  0.209140    2042    540    2582\n",
      "12-14년    0.797956  0.202044    1015    257    1272\n",
      "15-17년    0.816781  0.183219     477    107     584\n",
      "18-20년    0.838346  0.161654     223     43     266\n",
      "unknown   0.736768  0.263232  177556  63437  240993\n"
     ]
    }
   ],
   "source": [
    "value_counts_ratio(train, '임신_시도_또는_마지막_임신_경과_연수')"
   ]
  },
  {
   "cell_type": "markdown",
   "metadata": {},
   "source": [
    "### 4. 시술_유형"
   ]
  },
  {
   "cell_type": "markdown",
   "metadata": {},
   "source": [
    "IVF 또는 DI 시술 여부"
   ]
  },
  {
   "cell_type": "code",
   "execution_count": 191,
   "metadata": {},
   "outputs": [
    {
     "name": "stdout",
     "output_type": "stream",
     "text": [
      "\n",
      "시술_유형별 임신_성공_여부 비율 및 갯수\n",
      "\n",
      "                 0         1       0      1   Total\n",
      "variable                                           \n",
      "IVF       0.738395  0.261605  184643  65417  250060\n"
     ]
    }
   ],
   "source": [
    "value_counts_ratio(train, '시술_유형')"
   ]
  },
  {
   "cell_type": "code",
   "execution_count": 192,
   "metadata": {},
   "outputs": [
    {
     "data": {
      "text/plain": [
       "IVF    87891\n",
       "Name: 시술_유형, dtype: int64"
      ]
     },
     "execution_count": 192,
     "metadata": {},
     "output_type": "execute_result"
    }
   ],
   "source": [
    "test['시술_유형'].value_counts()"
   ]
  },
  {
   "cell_type": "markdown",
   "metadata": {},
   "source": [
    "IVF 와 DI 시술중 IVF 시술 데이터만 제공됨"
   ]
  },
  {
   "cell_type": "code",
   "execution_count": 193,
   "metadata": {},
   "outputs": [],
   "source": [
    "# '시술_유형' 변수 제거\n",
    "train = train.drop(columns=['시술_유형'])\n",
    "test = test.drop(columns=['시술_유형'])"
   ]
  },
  {
   "cell_type": "markdown",
   "metadata": {},
   "source": [
    "### 5. 특정_시술_유형"
   ]
  },
  {
   "cell_type": "markdown",
   "metadata": {},
   "source": [
    "IVF – 체외 수정 (시험관 아기 시술)  \n",
    "ICSI – 세포질 내 정자 주입  \n",
    "IUI – 인공 수정 (자궁 내 주입)  \n",
    "ICI – 자궁경부 인공 수정  \n",
    "GIFT – 생식세포 나팔관 이식  \n",
    "FER – 냉동 배아 이식  \n",
    "Generic DI – 기증 정자 주입  \n",
    "IVI – 질 내 인공 수정   \n",
    "BLASTOCYST – 배반포 단계에 이식  \n",
    "AH – 배아를 hatching 시켜주는 과정  \n",
    "Unknown – 시술 유형 정보가 제공되지 않았거나 알 수 없음  \n",
    "\n",
    "(*) 특수 기호의 의미  \n",
    "\"/\" – 복합적인 시술 방법을 의미 (예: ICSI / BLASTOCYST)  \n",
    "\":\" – 동일 시술 내 세부 조합을 의미 (예: ICSI:IVF)  "
   ]
  },
  {
   "cell_type": "code",
   "execution_count": 194,
   "metadata": {},
   "outputs": [
    {
     "name": "stdout",
     "output_type": "stream",
     "text": [
      "Grouped by: 특정_시술_유형\n",
      "\n",
      "                                  group  '임신_성공_여부' count     ratio   Total\n",
      "0                                   FER                 1  0.333333       3\n",
      "1                                  GIFT                 0  0.000000       1\n",
      "2                                  ICSI             33385  0.272825  122368\n",
      "3                             ICSI / AH               167  0.217165     769\n",
      "4                     ICSI / AH:Unknown                 1  0.500000       2\n",
      "5                    ICSI / BLASTOCYST                574  0.356743    1609\n",
      "6               ICSI / BLASTOCYST :ICSI                 1  1.000000       1\n",
      "7   ICSI / BLASTOCYST :IVF / BLASTOCYST                 1  0.250000       4\n",
      "8    ICSI / BLASTOCYST:IVF / BLASTOCYST                 2  0.333333       6\n",
      "9                             ICSI:ICSI                23  0.009939    2314\n",
      "10                             ICSI:IVF               205  0.234822     873\n",
      "11                         ICSI:Unknown                21  0.101449     207\n",
      "12                                  IVF             23990  0.261457   91755\n",
      "13                             IVF / AH                59  0.184953     319\n",
      "14                   IVF / AH:ICSI / AH                 0  0.000000       2\n",
      "15                     IVF / BLASTOCYST               457  0.366186    1248\n",
      "16                             IVF:ICSI               111  0.283163     392\n",
      "17                              IVF:IVF                12  0.010471    1146\n",
      "18                          IVF:Unknown                17  0.170000     100\n",
      "19                              Unknown              6390  0.237203   26939\n"
     ]
    }
   ],
   "source": [
    "summarize_group(train, ['특정_시술_유형'])"
   ]
  },
  {
   "cell_type": "code",
   "execution_count": 195,
   "metadata": {},
   "outputs": [
    {
     "data": {
      "text/plain": [
       "ICSI                                  43237\n",
       "IVF                                   32350\n",
       "Unknown                                9216\n",
       "ICSI:ICSI                               797\n",
       "ICSI / BLASTOCYST                       584\n",
       "IVF:IVF                                 406\n",
       "IVF / BLASTOCYST                        389\n",
       "ICSI:IVF                                298\n",
       "ICSI / AH                               264\n",
       "IVF:ICSI                                133\n",
       "IVF / AH                                105\n",
       "ICSI:Unknown                             68\n",
       "IVF:Unknown                              41\n",
       "ICSI / BLASTOCYST:IVF / BLASTOCYST        2\n",
       "IVF:Unknown:Unknown:Unknown               1\n",
       "Name: 특정_시술_유형, dtype: int64"
      ]
     },
     "execution_count": 195,
     "metadata": {},
     "output_type": "execute_result"
    }
   ],
   "source": [
    "test['특정_시술_유형'].value_counts()"
   ]
  },
  {
   "cell_type": "code",
   "execution_count": 196,
   "metadata": {},
   "outputs": [],
   "source": [
    "# '특정_시술_유형' 변수의 값이 'FER' 또는 'GIFT'인 행 제거\n",
    "train = train.loc[~train['특정_시술_유형'].isin(['FER', 'GIFT'])]\n",
    "# test = test.loc[~test['특정_시술_유형'].isin(['FER', 'GIFT'])]"
   ]
  },
  {
   "cell_type": "code",
   "execution_count": 197,
   "metadata": {},
   "outputs": [],
   "source": [
    "# 시술 유형 변환 함수\n",
    "def transform_treatment(treatment):\n",
    "    if isinstance(treatment, str):  # treatment가 문자열인지 확인\n",
    "        if treatment.startswith(\"ICSI\"):\n",
    "            if \"AH\" in treatment:\n",
    "                return \"ICSI / AH\"\n",
    "            elif \"BLASTOCYST\" in treatment:\n",
    "                return \"ICSI / BLASTOCYST\"\n",
    "            return \"ICSI\"\n",
    "        elif treatment.startswith(\"IVF\"):\n",
    "            if \"AH\" in treatment:\n",
    "                return \"IVF / AH\"\n",
    "            elif \"BLASTOCYST\" in treatment:\n",
    "                return \"IVF / BLASTOCYST\"\n",
    "            return \"IVF\"\n",
    "        elif treatment == \"IUI:ICI\":\n",
    "            return \"IUI\"\n",
    "    return treatment  # 기타 시술은 그대로 반환\n",
    "\n",
    "# 변환된 열 추가\n",
    "train['변환된_특정_시술_유형'] = train['특정_시술_유형'].apply(transform_treatment)\n",
    "test['변환된_특정_시술_유형'] = test['특정_시술_유형'].apply(transform_treatment)"
   ]
  },
  {
   "cell_type": "code",
   "execution_count": 198,
   "metadata": {},
   "outputs": [
    {
     "name": "stdout",
     "output_type": "stream",
     "text": [
      "\n",
      "변환된_특정_시술_유형별 임신_성공_여부 비율 및 갯수\n",
      "\n",
      "                          0         1      0      1   Total\n",
      "variable                                                   \n",
      "ICSI               0.732558  0.267442  92128  33634  125762\n",
      "ICSI / AH          0.782101  0.217899    603    168     771\n",
      "ICSI / BLASTOCYST  0.643210  0.356790   1042    578    1620\n",
      "IVF                0.741629  0.258371  69263  24130   93393\n",
      "IVF / AH           0.816199  0.183801    262     59     321\n",
      "IVF / BLASTOCYST   0.633814  0.366186    791    457    1248\n",
      "Unknown            0.762797  0.237203  20549   6390   26939\n"
     ]
    }
   ],
   "source": [
    "value_counts_ratio(train, '변환된_특정_시술_유형')"
   ]
  },
  {
   "cell_type": "code",
   "execution_count": 199,
   "metadata": {},
   "outputs": [
    {
     "data": {
      "text/plain": [
       "ICSI                 44400\n",
       "IVF                  32931\n",
       "Unknown               9216\n",
       "ICSI / BLASTOCYST      586\n",
       "IVF / BLASTOCYST       389\n",
       "ICSI / AH              264\n",
       "IVF / AH               105\n",
       "Name: 변환된_특정_시술_유형, dtype: int64"
      ]
     },
     "execution_count": 199,
     "metadata": {},
     "output_type": "execute_result"
    }
   ],
   "source": [
    "test['변환된_특정_시술_유형'].value_counts()"
   ]
  },
  {
   "cell_type": "code",
   "execution_count": 200,
   "metadata": {},
   "outputs": [],
   "source": [
    "# 더미 변수 생성 함수 정의\n",
    "def create_dummy(x, keyword):\n",
    "    if isinstance(x, str) and keyword in x:\n",
    "        return 1\n",
    "    else:\n",
    "        return 0\n",
    "\n",
    "# 더미 변수 생성\n",
    "train['특정_시술_유형_ICSI_더미'] = train['변환된_특정_시술_유형'].apply(lambda x: create_dummy(x, 'ICSI'))\n",
    "train['특정_시술_유형_IVF_더미'] = train['변환된_특정_시술_유형'].apply(lambda x: create_dummy(x, 'IVF'))\n",
    "train['특정_시술_유형_AH_더미'] = train['변환된_특정_시술_유형'].apply(lambda x: create_dummy(x, 'AH'))\n",
    "train['특정_시술_유형_BLASTOCYST_더미'] = train['변환된_특정_시술_유형'].apply(lambda x: create_dummy(x, 'BLASTOCYST'))\n",
    "\n",
    "test['특정_시술_유형_ICSI_더미'] = test['변환된_특정_시술_유형'].apply(lambda x: create_dummy(x, 'ICSI'))\n",
    "test['특정_시술_유형_IVF_더미'] = test['변환된_특정_시술_유형'].apply(lambda x: create_dummy(x, 'IVF'))\n",
    "test['특정_시술_유형_AH_더미'] = test['변환된_특정_시술_유형'].apply(lambda x: create_dummy(x, 'AH'))\n",
    "test['특정_시술_유형_BLASTOCYST_더미'] = test['변환된_특정_시술_유형'].apply(lambda x: create_dummy(x, 'BLASTOCYST'))"
   ]
  },
  {
   "cell_type": "code",
   "execution_count": 201,
   "metadata": {},
   "outputs": [],
   "source": [
    "# '특정_시술_유형' 변수 제거\n",
    "train = train.drop(columns=['특정_시술_유형'])\n",
    "test = test.drop(columns=['특정_시술_유형'])"
   ]
  },
  {
   "cell_type": "markdown",
   "metadata": {},
   "source": [
    "### 6. 배란_자극_여부"
   ]
  },
  {
   "cell_type": "markdown",
   "metadata": {},
   "source": [
    "배란 자극 치료가 사용되었는지 여부"
   ]
  },
  {
   "cell_type": "code",
   "execution_count": 202,
   "metadata": {},
   "outputs": [
    {
     "name": "stdout",
     "output_type": "stream",
     "text": [
      "\n",
      "배란_자극_여부별 임신_성공_여부 비율 및 갯수\n",
      "\n",
      "                 0         1       0      1   Total\n",
      "variable                                           \n",
      "0         0.762193  0.237807   42397  13228   55625\n",
      "1         0.731586  0.268414  142243  52188  194431\n"
     ]
    }
   ],
   "source": [
    "value_counts_ratio(train, '배란_자극_여부')"
   ]
  },
  {
   "cell_type": "markdown",
   "metadata": {},
   "source": [
    "### 7. 배란_유도_유형"
   ]
  },
  {
   "cell_type": "markdown",
   "metadata": {},
   "source": [
    "사용된 배란 유도 방법 유형"
   ]
  },
  {
   "cell_type": "code",
   "execution_count": 203,
   "metadata": {},
   "outputs": [
    {
     "name": "stdout",
     "output_type": "stream",
     "text": [
      "\n",
      "배란_유도_유형별 임신_성공_여부 비율 및 갯수\n",
      "\n",
      "                     0         1         0        1   Total\n",
      "variable                                                   \n",
      "기록되지 않은 시행    0.731588  0.268412  142242.0  52187.0  194429\n",
      "생식선 자극 호르몬    0.000000  1.000000       0.0      1.0       1\n",
      "세트로타이드 (억제제)  1.000000  0.000000       1.0      0.0       1\n",
      "알 수 없음        0.762193  0.237807   42397.0  13228.0   55625\n"
     ]
    }
   ],
   "source": [
    "value_counts_ratio(train, '배란_유도_유형')"
   ]
  },
  {
   "cell_type": "code",
   "execution_count": 204,
   "metadata": {},
   "outputs": [
    {
     "data": {
      "text/plain": [
       "기록되지 않은 시행    68599\n",
       "알 수 없음        19292\n",
       "Name: 배란_유도_유형, dtype: int64"
      ]
     },
     "execution_count": 204,
     "metadata": {},
     "output_type": "execute_result"
    }
   ],
   "source": [
    "test['배란_유도_유형'].value_counts()"
   ]
  },
  {
   "cell_type": "code",
   "execution_count": 205,
   "metadata": {},
   "outputs": [],
   "source": [
    "# test 데이터에 없는 값 제거\n",
    "train = train.loc[~train['배란_유도_유형'].isin(['생식선 자극 호르몬', '세트로타이드 (억제제)'])]\n",
    "test = test.loc[~test['배란_유도_유형'].isin(['생식선 자극 호르몬', '세트로타이드 (억제제)'])]"
   ]
  },
  {
   "cell_type": "code",
   "execution_count": 206,
   "metadata": {},
   "outputs": [
    {
     "name": "stdout",
     "output_type": "stream",
     "text": [
      "\n",
      "배란_유도_유형별 임신_성공_여부 비율 및 갯수\n",
      "\n",
      "                   0         1       0      1   Total\n",
      "variable                                             \n",
      "기록되지 않은 시행  0.731588  0.268412  142242  52187  194429\n",
      "알 수 없음      0.762193  0.237807   42397  13228   55625\n"
     ]
    }
   ],
   "source": [
    "value_counts_ratio(train, '배란_유도_유형')"
   ]
  },
  {
   "cell_type": "markdown",
   "metadata": {},
   "source": [
    "### 8. 단일_배아_이식_여부"
   ]
  },
  {
   "cell_type": "markdown",
   "metadata": {},
   "source": [
    "선택적으로 단일 배아를 이식했는지 여부"
   ]
  },
  {
   "cell_type": "code",
   "execution_count": 207,
   "metadata": {},
   "outputs": [
    {
     "name": "stdout",
     "output_type": "stream",
     "text": [
      "\n",
      "단일_배아_이식_여부별 임신_성공_여부 비율 및 갯수\n",
      "\n",
      "                 0         1       0      1   Total\n",
      "variable                                           \n",
      "0.0       0.770572  0.229428  147697  43975  191672\n",
      "1.0       0.632764  0.367236   36942  21440   58382\n"
     ]
    }
   ],
   "source": [
    "value_counts_ratio(train, '단일_배아_이식_여부')"
   ]
  },
  {
   "cell_type": "markdown",
   "metadata": {},
   "source": [
    "### 9. 착상_전_유전_검사_사용_여부"
   ]
  },
  {
   "cell_type": "markdown",
   "metadata": {},
   "source": [
    "PGS(착상 전 유전 검사)가 시행되었는지 여부"
   ]
  },
  {
   "cell_type": "code",
   "execution_count": 208,
   "metadata": {},
   "outputs": [
    {
     "name": "stdout",
     "output_type": "stream",
     "text": [
      "\n",
      "착상_전_유전_검사_사용_여부별 임신_성공_여부 비율 및 갯수\n",
      "\n",
      "                 0         1     0    1  Total\n",
      "variable                                      \n",
      "1.0       0.851729  0.148271  2315  403   2718\n"
     ]
    }
   ],
   "source": [
    "value_counts_ratio(train, '착상_전_유전_검사_사용_여부')"
   ]
  },
  {
   "cell_type": "code",
   "execution_count": 209,
   "metadata": {},
   "outputs": [
    {
     "name": "stdout",
     "output_type": "stream",
     "text": [
      "결측값 개수: 247336\n",
      "결측값 개수: 0\n"
     ]
    }
   ],
   "source": [
    "# 결측값 개수 확인\n",
    "print(\"결측값 개수:\", train['착상_전_유전_검사_사용_여부'].isnull().sum())\n",
    "\n",
    "# 결측값을 0으로 채우기\n",
    "train['착상_전_유전_검사_사용_여부'].fillna(0, inplace=True)\n",
    "test['착상_전_유전_검사_사용_여부'].fillna(0, inplace=True)\n",
    "\n",
    "# 결측값 개수 확인\n",
    "print(\"결측값 개수:\", train['착상_전_유전_검사_사용_여부'].isnull().sum())"
   ]
  },
  {
   "cell_type": "code",
   "execution_count": 210,
   "metadata": {},
   "outputs": [
    {
     "name": "stdout",
     "output_type": "stream",
     "text": [
      "\n",
      "착상_전_유전_검사_사용_여부별 임신_성공_여부 비율 및 갯수\n",
      "\n",
      "                 0         1       0      1   Total\n",
      "variable                                           \n",
      "0.0       0.737151  0.262849  182324  65012  247336\n",
      "1.0       0.851729  0.148271    2315    403    2718\n"
     ]
    }
   ],
   "source": [
    "value_counts_ratio(train, '착상_전_유전_검사_사용_여부')"
   ]
  },
  {
   "cell_type": "markdown",
   "metadata": {},
   "source": [
    "### 10. 착상_전_유전_진단_사용_여부"
   ]
  },
  {
   "cell_type": "markdown",
   "metadata": {},
   "source": [
    "PGD(착상 전 유전 진단)가 시행되었는지 여부"
   ]
  },
  {
   "cell_type": "code",
   "execution_count": 211,
   "metadata": {},
   "outputs": [
    {
     "name": "stdout",
     "output_type": "stream",
     "text": [
      "\n",
      "착상_전_유전_진단_사용_여부별 임신_성공_여부 비율 및 갯수\n",
      "\n",
      "                 0         1       0      1   Total\n",
      "variable                                           \n",
      "0.0       0.737497  0.262503  182057  64801  246858\n",
      "1.0       0.807885  0.192115    2582    614    3196\n"
     ]
    }
   ],
   "source": [
    "value_counts_ratio(train, '착상_전_유전_진단_사용_여부')"
   ]
  },
  {
   "cell_type": "code",
   "execution_count": 212,
   "metadata": {},
   "outputs": [
    {
     "name": "stdout",
     "output_type": "stream",
     "text": [
      "Grouped by: 착상_전_유전_진단_사용_여부, 착상_전_유전_검사_사용_여부\n",
      "\n",
      "        group  '임신_성공_여부' count     ratio   Total\n",
      "0  (0.0, 0.0)             64400  0.263755  244166\n",
      "1  (0.0, 1.0)               401  0.148960    2692\n",
      "2  (1.0, 0.0)               612  0.193060    3170\n",
      "3  (1.0, 1.0)                 2  0.076923      26\n"
     ]
    }
   ],
   "source": [
    "summarize_group(train, ['착상_전_유전_진단_사용_여부', '착상_전_유전_검사_사용_여부'])"
   ]
  },
  {
   "cell_type": "markdown",
   "metadata": {},
   "source": [
    "### 11. 남성_주_불임_원인"
   ]
  },
  {
   "cell_type": "markdown",
   "metadata": {},
   "source": [
    "남성의 주요 불임 원인 여부"
   ]
  },
  {
   "cell_type": "code",
   "execution_count": 213,
   "metadata": {},
   "outputs": [
    {
     "name": "stdout",
     "output_type": "stream",
     "text": [
      "\n",
      "남성_주_불임_원인별 임신_성공_여부 비율 및 갯수\n",
      "\n",
      "                 0         1       0      1   Total\n",
      "variable                                           \n",
      "0         0.737220  0.262780  179168  63864  243032\n",
      "1         0.779123  0.220877    5471   1551    7022\n"
     ]
    }
   ],
   "source": [
    "value_counts_ratio(train, '남성_주_불임_원인')"
   ]
  },
  {
   "cell_type": "markdown",
   "metadata": {},
   "source": [
    "### 12. 남성_부_불임_원인"
   ]
  },
  {
   "cell_type": "markdown",
   "metadata": {},
   "source": [
    "남성의 부차적 불임 원인 여부"
   ]
  },
  {
   "cell_type": "code",
   "execution_count": 214,
   "metadata": {},
   "outputs": [
    {
     "name": "stdout",
     "output_type": "stream",
     "text": [
      "\n",
      "남성_부_불임_원인별 임신_성공_여부 비율 및 갯수\n",
      "\n",
      "                 0         1       0      1   Total\n",
      "variable                                           \n",
      "0         0.737590  0.262410  182049  64767  246816\n",
      "1         0.799876  0.200124    2590    648    3238\n"
     ]
    }
   ],
   "source": [
    "value_counts_ratio(train, '남성_부_불임_원인')"
   ]
  },
  {
   "cell_type": "code",
   "execution_count": 215,
   "metadata": {},
   "outputs": [
    {
     "name": "stdout",
     "output_type": "stream",
     "text": [
      "Grouped by: 남성_주_불임_원인, 남성_부_불임_원인\n",
      "\n",
      "    group  '임신_성공_여부' count     ratio   Total\n",
      "0  (0, 0)             63216  0.263623  239797\n",
      "1  (0, 1)               648  0.200309    3235\n",
      "2  (1, 0)              1551  0.220972    7019\n",
      "3  (1, 1)                 0  0.000000       3\n"
     ]
    }
   ],
   "source": [
    "summarize_group(train, ['남성_주_불임_원인', '남성_부_불임_원인'])"
   ]
  },
  {
   "cell_type": "markdown",
   "metadata": {},
   "source": [
    "### 13. 여성_주_불임_원인"
   ]
  },
  {
   "cell_type": "markdown",
   "metadata": {},
   "source": [
    "여성의 주요 불임 원인 여부"
   ]
  },
  {
   "cell_type": "code",
   "execution_count": 216,
   "metadata": {},
   "outputs": [
    {
     "name": "stdout",
     "output_type": "stream",
     "text": [
      "\n",
      "여성_주_불임_원인별 임신_성공_여부 비율 및 갯수\n",
      "\n",
      "                 0         1       0      1   Total\n",
      "variable                                           \n",
      "0         0.737169  0.262831  178827  63759  242586\n",
      "1         0.778254  0.221746    5812   1656    7468\n"
     ]
    }
   ],
   "source": [
    "value_counts_ratio(train, '여성_주_불임_원인')"
   ]
  },
  {
   "cell_type": "markdown",
   "metadata": {},
   "source": [
    "### 14. 여성_부_불임_원인"
   ]
  },
  {
   "cell_type": "markdown",
   "metadata": {},
   "source": [
    "여성의 부차적 불임 원인 여부"
   ]
  },
  {
   "cell_type": "code",
   "execution_count": 217,
   "metadata": {},
   "outputs": [
    {
     "name": "stdout",
     "output_type": "stream",
     "text": [
      "\n",
      "여성_부_불임_원인별 임신_성공_여부 비율 및 갯수\n",
      "\n",
      "                 0         1       0      1   Total\n",
      "variable                                           \n",
      "0         0.737608  0.262392  182187  64810  246997\n",
      "1         0.802094  0.197906    2452    605    3057\n"
     ]
    }
   ],
   "source": [
    "value_counts_ratio(train, '여성_부_불임_원인')"
   ]
  },
  {
   "cell_type": "code",
   "execution_count": 218,
   "metadata": {},
   "outputs": [
    {
     "name": "stdout",
     "output_type": "stream",
     "text": [
      "Grouped by: 여성_주_불임_원인, 여성_부_불임_원인\n",
      "\n",
      "    group  '임신_성공_여부' count     ratio   Total\n",
      "0  (0, 0)             63156  0.263660  239536\n",
      "1  (0, 1)               603  0.197705    3050\n",
      "2  (1, 0)              1654  0.221686    7461\n",
      "3  (1, 1)                 2  0.285714       7\n"
     ]
    }
   ],
   "source": [
    "summarize_group(train, ['여성_주_불임_원인', '여성_부_불임_원인'])"
   ]
  },
  {
   "cell_type": "code",
   "execution_count": 219,
   "metadata": {},
   "outputs": [
    {
     "name": "stdout",
     "output_type": "stream",
     "text": [
      "Grouped by: 남성_주_불임_원인, 남성_부_불임_원인, 여성_주_불임_원인, 여성_부_불임_원인\n",
      "\n",
      "           group  '임신_성공_여부' count     ratio   Total\n",
      "0   (0, 0, 0, 0)             63144  0.263660  239490\n",
      "1   (0, 0, 0, 1)                15  0.200000      75\n",
      "2   (0, 0, 1, 0)                57  0.247826     230\n",
      "3   (0, 0, 1, 1)                 0  0.000000       2\n",
      "4   (0, 1, 0, 0)                 3  0.250000      12\n",
      "5   (0, 1, 0, 1)               426  0.196858    2164\n",
      "6   (0, 1, 1, 0)               218  0.206049    1058\n",
      "7   (0, 1, 1, 1)                 1  1.000000       1\n",
      "8   (1, 0, 0, 0)                 9  0.264706      34\n",
      "9   (1, 0, 0, 1)               162  0.200000     810\n",
      "10  (1, 0, 1, 0)              1379  0.223428    6172\n",
      "11  (1, 0, 1, 1)                 1  0.333333       3\n",
      "12  (1, 1, 0, 1)                 0  0.000000       1\n",
      "13  (1, 1, 1, 0)                 0  0.000000       1\n",
      "14  (1, 1, 1, 1)                 0  0.000000       1\n"
     ]
    }
   ],
   "source": [
    "summarize_group(train, ['남성_주_불임_원인', '남성_부_불임_원인', '여성_주_불임_원인', '여성_부_불임_원인'])"
   ]
  },
  {
   "cell_type": "markdown",
   "metadata": {},
   "source": [
    "### 15. 부부_주_불임_원인"
   ]
  },
  {
   "cell_type": "markdown",
   "metadata": {},
   "source": [
    "부부의 주요 불임 원인 여부"
   ]
  },
  {
   "cell_type": "code",
   "execution_count": 220,
   "metadata": {},
   "outputs": [
    {
     "name": "stdout",
     "output_type": "stream",
     "text": [
      "\n",
      "부부_주_불임_원인별 임신_성공_여부 비율 및 갯수\n",
      "\n",
      "                 0         1       0      1   Total\n",
      "variable                                           \n",
      "0         0.737053  0.262947  178327  63619  241946\n",
      "1         0.778490  0.221510    6312   1796    8108\n"
     ]
    }
   ],
   "source": [
    "value_counts_ratio(train, '부부_주_불임_원인')"
   ]
  },
  {
   "cell_type": "markdown",
   "metadata": {},
   "source": [
    "### 16. 부부_부_불임_원인"
   ]
  },
  {
   "cell_type": "markdown",
   "metadata": {},
   "source": [
    "부부의 부차적 불임 원인 여부"
   ]
  },
  {
   "cell_type": "code",
   "execution_count": 221,
   "metadata": {},
   "outputs": [
    {
     "name": "stdout",
     "output_type": "stream",
     "text": [
      "\n",
      "부부_부_불임_원인별 임신_성공_여부 비율 및 갯수\n",
      "\n",
      "                 0         1       0      1   Total\n",
      "variable                                           \n",
      "0         0.737753  0.262247  182869  65004  247873\n",
      "1         0.811554  0.188446    1770    411    2181\n"
     ]
    }
   ],
   "source": [
    "value_counts_ratio(train, '부부_부_불임_원인')"
   ]
  },
  {
   "cell_type": "code",
   "execution_count": 222,
   "metadata": {},
   "outputs": [
    {
     "name": "stdout",
     "output_type": "stream",
     "text": [
      "Grouped by: 부부_주_불임_원인, 부부_부_불임_원인\n",
      "\n",
      "    group  '임신_성공_여부' count     ratio   Total\n",
      "0  (0, 0)             63208  0.263619  239770\n",
      "1  (0, 1)               411  0.188879    2176\n",
      "2  (1, 0)              1796  0.221646    8103\n",
      "3  (1, 1)                 0  0.000000       5\n"
     ]
    }
   ],
   "source": [
    "summarize_group(train, ['부부_주_불임_원인', '부부_부_불임_원인'])"
   ]
  },
  {
   "cell_type": "code",
   "execution_count": 223,
   "metadata": {},
   "outputs": [
    {
     "name": "stdout",
     "output_type": "stream",
     "text": [
      "Grouped by: 남성_주_불임_원인, 남성_부_불임_원인, 여성_주_불임_원인, 여성_부_불임_원인, 부부_주_불임_원인, 부부_부_불임_원인\n",
      "\n",
      "                 group  '임신_성공_여부' count     ratio   Total\n",
      "0   (0, 0, 0, 0, 0, 0)             63135  0.263654  239462\n",
      "1   (0, 0, 0, 0, 0, 1)                 1  0.125000       8\n",
      "2   (0, 0, 0, 0, 1, 0)                 8  0.400000      20\n",
      "3   (0, 0, 0, 1, 0, 0)                13  0.254902      51\n",
      "4   (0, 0, 0, 1, 0, 1)                 1  0.055556      18\n",
      "5   (0, 0, 0, 1, 1, 0)                 1  0.166667       6\n",
      "6   (0, 0, 1, 0, 0, 0)                37  0.218935     169\n",
      "7   (0, 0, 1, 0, 1, 0)                20  0.327869      61\n",
      "8   (0, 0, 1, 1, 1, 0)                 0  0.000000       2\n",
      "9   (0, 1, 0, 0, 0, 0)                 0  0.000000       1\n",
      "10  (0, 1, 0, 0, 0, 1)                 2  0.200000      10\n",
      "11  (0, 1, 0, 0, 1, 0)                 1  1.000000       1\n",
      "12  (0, 1, 0, 1, 0, 0)                 9  0.300000      30\n",
      "13  (0, 1, 0, 1, 0, 1)               359  0.188947    1900\n",
      "14  (0, 1, 0, 1, 1, 0)                58  0.252174     230\n",
      "15  (0, 1, 0, 1, 1, 1)                 0  0.000000       4\n",
      "16  (0, 1, 1, 0, 0, 0)                 2  0.666667       3\n",
      "17  (0, 1, 1, 0, 0, 1)                41  0.194313     211\n",
      "18  (0, 1, 1, 0, 1, 0)               175  0.207346     844\n",
      "19  (0, 1, 1, 1, 1, 0)                 1  1.000000       1\n",
      "20  (1, 0, 0, 0, 0, 0)                 1  0.333333       3\n",
      "21  (1, 0, 0, 0, 1, 0)                 8  0.258065      31\n",
      "22  (1, 0, 0, 1, 0, 0)                 0  0.000000       2\n",
      "23  (1, 0, 0, 1, 0, 1)                 5  0.277778      18\n",
      "24  (1, 0, 0, 1, 1, 0)               157  0.198734     790\n",
      "25  (1, 0, 1, 0, 0, 0)                11  0.229167      48\n",
      "26  (1, 0, 1, 0, 0, 1)                 2  0.181818      11\n",
      "27  (1, 0, 1, 0, 1, 0)              1366  0.223458    6113\n",
      "28  (1, 0, 1, 1, 1, 0)                 1  0.333333       3\n",
      "29  (1, 1, 0, 1, 1, 0)                 0  0.000000       1\n",
      "30  (1, 1, 1, 0, 0, 0)                 0  0.000000       1\n",
      "31  (1, 1, 1, 1, 1, 1)                 0  0.000000       1\n"
     ]
    }
   ],
   "source": [
    "summarize_group(train, ['남성_주_불임_원인', '남성_부_불임_원인'\n",
    "                        , '여성_주_불임_원인', '여성_부_불임_원인'\n",
    "                        , '부부_주_불임_원인', '부부_부_불임_원인'])"
   ]
  },
  {
   "cell_type": "markdown",
   "metadata": {},
   "source": [
    "### 17. 불명확_불임_원인"
   ]
  },
  {
   "cell_type": "markdown",
   "metadata": {},
   "source": [
    "불명의 원인으로 인한 불임 여부"
   ]
  },
  {
   "cell_type": "code",
   "execution_count": 224,
   "metadata": {},
   "outputs": [
    {
     "name": "stdout",
     "output_type": "stream",
     "text": [
      "\n",
      "불명확_불임_원인별 임신_성공_여부 비율 및 갯수\n",
      "\n",
      "                 0         1       0      1   Total\n",
      "variable                                           \n",
      "0         0.738089  0.261911  137475  48783  186258\n",
      "1         0.739294  0.260706   47164  16632   63796\n"
     ]
    }
   ],
   "source": [
    "value_counts_ratio(train, '불명확_불임_원인')"
   ]
  },
  {
   "cell_type": "markdown",
   "metadata": {},
   "source": [
    "### 18. 불임_원인_-_난관_질환"
   ]
  },
  {
   "cell_type": "markdown",
   "metadata": {},
   "source": [
    "난관 이상으로 인한 불임 여부"
   ]
  },
  {
   "cell_type": "code",
   "execution_count": 225,
   "metadata": {},
   "outputs": [
    {
     "name": "stdout",
     "output_type": "stream",
     "text": [
      "\n",
      "불임_원인_-_난관_질환별 임신_성공_여부 비율 및 갯수\n",
      "\n",
      "                 0         1       0      1   Total\n",
      "variable                                           \n",
      "0         0.737825  0.262175  158318  56256  214574\n",
      "1         0.741855  0.258145   26321   9159   35480\n"
     ]
    }
   ],
   "source": [
    "value_counts_ratio(train, '불임_원인_-_난관_질환')"
   ]
  },
  {
   "cell_type": "markdown",
   "metadata": {},
   "source": [
    "### 19. 불임_원인_-_남성_요인"
   ]
  },
  {
   "cell_type": "markdown",
   "metadata": {},
   "source": [
    "남성 요인으로 인한 불임 여부"
   ]
  },
  {
   "cell_type": "code",
   "execution_count": 226,
   "metadata": {},
   "outputs": [
    {
     "name": "stdout",
     "output_type": "stream",
     "text": [
      "\n",
      "불임_원인_-_남성_요인별 임신_성공_여부 비율 및 갯수\n",
      "\n",
      "                 0         1       0      1   Total\n",
      "variable                                           \n",
      "0         0.751365  0.248635  118319  39153  157472\n",
      "1         0.716338  0.283662   66320  26262   92582\n"
     ]
    }
   ],
   "source": [
    "value_counts_ratio(train, '불임_원인_-_남성_요인')"
   ]
  },
  {
   "cell_type": "markdown",
   "metadata": {},
   "source": [
    "### 20. 불임_원인_-_배란_장애"
   ]
  },
  {
   "cell_type": "markdown",
   "metadata": {},
   "source": [
    "배란 장애로 인한 불임 여부"
   ]
  },
  {
   "cell_type": "code",
   "execution_count": 227,
   "metadata": {},
   "outputs": [
    {
     "name": "stdout",
     "output_type": "stream",
     "text": [
      "\n",
      "불임_원인_-_배란_장애별 임신_성공_여부 비율 및 갯수\n",
      "\n",
      "                 0         1       0      1   Total\n",
      "variable                                           \n",
      "0         0.742482  0.257518  161126  55884  217010\n",
      "1         0.711566  0.288434   23513   9531   33044\n"
     ]
    }
   ],
   "source": [
    "value_counts_ratio(train, '불임_원인_-_배란_장애')"
   ]
  },
  {
   "cell_type": "markdown",
   "metadata": {},
   "source": [
    "### 21. 불임_원인_-_여성_요인"
   ]
  },
  {
   "cell_type": "markdown",
   "metadata": {},
   "source": [
    "여성 요인으로 인한 불임 여부"
   ]
  },
  {
   "cell_type": "code",
   "execution_count": 228,
   "metadata": {},
   "outputs": [
    {
     "name": "stdout",
     "output_type": "stream",
     "text": [
      "\n",
      "불임_원인_-_여성_요인별 임신_성공_여부 비율 및 갯수\n",
      "\n",
      "                 0         1       0      1   Total\n",
      "variable                                           \n",
      "0         0.738397  0.261603  184639  65415  250054\n"
     ]
    }
   ],
   "source": [
    "value_counts_ratio(train, '불임_원인_-_여성_요인')"
   ]
  },
  {
   "cell_type": "code",
   "execution_count": 229,
   "metadata": {},
   "outputs": [
    {
     "data": {
      "text/plain": [
       "0    87891\n",
       "Name: 불임_원인_-_여성_요인, dtype: int64"
      ]
     },
     "execution_count": 229,
     "metadata": {},
     "output_type": "execute_result"
    }
   ],
   "source": [
    "test['불임_원인_-_여성_요인'].value_counts()"
   ]
  },
  {
   "cell_type": "code",
   "execution_count": 230,
   "metadata": {},
   "outputs": [],
   "source": [
    "# '불임_원인_-_여성_요인' 변수 제거\n",
    "train = train.drop(columns=['불임_원인_-_여성_요인'])\n",
    "test = test.drop(columns=['불임_원인_-_여성_요인'])"
   ]
  },
  {
   "cell_type": "markdown",
   "metadata": {},
   "source": [
    "### 22. 불임_원인_-_자궁경부_문제"
   ]
  },
  {
   "cell_type": "markdown",
   "metadata": {},
   "source": [
    "자궁경부 이상으로 인한 불임 여부"
   ]
  },
  {
   "cell_type": "code",
   "execution_count": 231,
   "metadata": {},
   "outputs": [
    {
     "name": "stdout",
     "output_type": "stream",
     "text": [
      "\n",
      "불임_원인_-_자궁경부_문제별 임신_성공_여부 비율 및 갯수\n",
      "\n",
      "                 0         1         0        1   Total\n",
      "variable                                               \n",
      "0         0.738386  0.261614  184629.0  65415.0  250044\n",
      "1         1.000000  0.000000      10.0      0.0      10\n"
     ]
    }
   ],
   "source": [
    "value_counts_ratio(train, '불임_원인_-_자궁경부_문제')"
   ]
  },
  {
   "cell_type": "markdown",
   "metadata": {},
   "source": [
    "### 23. 불임_원인_-_자궁내막증"
   ]
  },
  {
   "cell_type": "markdown",
   "metadata": {},
   "source": [
    "자궁내막증으로 인한 불임 여부"
   ]
  },
  {
   "cell_type": "code",
   "execution_count": 232,
   "metadata": {},
   "outputs": [
    {
     "name": "stdout",
     "output_type": "stream",
     "text": [
      "\n",
      "불임_원인_-_자궁내막증별 임신_성공_여부 비율 및 갯수\n",
      "\n",
      "                 0         1       0      1   Total\n",
      "variable                                           \n",
      "0         0.737990  0.262010  171151  60764  231915\n",
      "1         0.743591  0.256409   13488   4651   18139\n"
     ]
    }
   ],
   "source": [
    "value_counts_ratio(train, '불임_원인_-_자궁내막증')"
   ]
  },
  {
   "cell_type": "markdown",
   "metadata": {},
   "source": [
    "### 24. 불임_원인_-_정자_농도"
   ]
  },
  {
   "cell_type": "markdown",
   "metadata": {},
   "source": [
    "파트너의 정자 농도 문제 여부"
   ]
  },
  {
   "cell_type": "code",
   "execution_count": 233,
   "metadata": {},
   "outputs": [
    {
     "name": "stdout",
     "output_type": "stream",
     "text": [
      "\n",
      "불임_원인_-_정자_농도별 임신_성공_여부 비율 및 갯수\n",
      "\n",
      "                 0         1       0      1   Total\n",
      "variable                                           \n",
      "0         0.738393  0.261607  184463  65354  249817\n",
      "1         0.742616  0.257384     176     61     237\n"
     ]
    }
   ],
   "source": [
    "value_counts_ratio(train, '불임_원인_-_정자_농도')"
   ]
  },
  {
   "cell_type": "markdown",
   "metadata": {},
   "source": [
    "### 25. 불임_원인_-_정자_면역학적_요인"
   ]
  },
  {
   "cell_type": "markdown",
   "metadata": {},
   "source": [
    "파트너의 정자 면역 관련 문제 여부"
   ]
  },
  {
   "cell_type": "code",
   "execution_count": 234,
   "metadata": {},
   "outputs": [
    {
     "name": "stdout",
     "output_type": "stream",
     "text": [
      "\n",
      "불임_원인_-_정자_면역학적_요인별 임신_성공_여부 비율 및 갯수\n",
      "\n",
      "                 0         1         0        1   Total\n",
      "variable                                               \n",
      "0         0.738395  0.261605  184638.0  65415.0  250053\n",
      "1         1.000000  0.000000       1.0      0.0       1\n"
     ]
    }
   ],
   "source": [
    "value_counts_ratio(train, '불임_원인_-_정자_면역학적_요인')"
   ]
  },
  {
   "cell_type": "code",
   "execution_count": 235,
   "metadata": {},
   "outputs": [
    {
     "data": {
      "text/plain": [
       "0    87890\n",
       "1        1\n",
       "Name: 불임_원인_-_정자_면역학적_요인, dtype: int64"
      ]
     },
     "execution_count": 235,
     "metadata": {},
     "output_type": "execute_result"
    }
   ],
   "source": [
    "test['불임_원인_-_정자_면역학적_요인'].value_counts()"
   ]
  },
  {
   "cell_type": "markdown",
   "metadata": {},
   "source": [
    "### 26. 불임_원인_-_정자_운동성"
   ]
  },
  {
   "cell_type": "markdown",
   "metadata": {},
   "source": [
    "파트너의 정자 운동성 문제 여부"
   ]
  },
  {
   "cell_type": "code",
   "execution_count": 236,
   "metadata": {},
   "outputs": [
    {
     "name": "stdout",
     "output_type": "stream",
     "text": [
      "\n",
      "불임_원인_-_정자_운동성별 임신_성공_여부 비율 및 갯수\n",
      "\n",
      "                 0         1       0      1   Total\n",
      "variable                                           \n",
      "0         0.738363  0.261637  184559  65398  249957\n",
      "1         0.824742  0.175258      80     17      97\n"
     ]
    }
   ],
   "source": [
    "value_counts_ratio(train, '불임_원인_-_정자_운동성')"
   ]
  },
  {
   "cell_type": "markdown",
   "metadata": {},
   "source": [
    "### 27. 불임_원인_-_정자_형태"
   ]
  },
  {
   "cell_type": "markdown",
   "metadata": {},
   "source": [
    "파트너의 정자 형태 문제 여부"
   ]
  },
  {
   "cell_type": "code",
   "execution_count": 237,
   "metadata": {},
   "outputs": [
    {
     "name": "stdout",
     "output_type": "stream",
     "text": [
      "\n",
      "불임_원인_-_정자_형태별 임신_성공_여부 비율 및 갯수\n",
      "\n",
      "                 0         1       0      1   Total\n",
      "variable                                           \n",
      "0         0.738377  0.261623  184530  65383  249913\n",
      "1         0.773050  0.226950     109     32     141\n"
     ]
    }
   ],
   "source": [
    "value_counts_ratio(train, '불임_원인_-_정자_형태')"
   ]
  },
  {
   "cell_type": "markdown",
   "metadata": {},
   "source": [
    "### 28. 배아_생성_주요_이유"
   ]
  },
  {
   "cell_type": "markdown",
   "metadata": {},
   "source": [
    "배아 생성의 주된 목적(시술, 보관 등)"
   ]
  },
  {
   "cell_type": "code",
   "execution_count": 238,
   "metadata": {},
   "outputs": [
    {
     "name": "stdout",
     "output_type": "stream",
     "text": [
      "\n",
      "배아_생성_주요_이유별 임신_성공_여부 비율 및 갯수\n",
      "\n",
      "                            0         1         0        1   Total\n",
      "variable                                                          \n",
      "기증용                  1.000000  0.000000    1108.0      0.0    1108\n",
      "기증용, 난자 저장용          1.000000  0.000000      44.0      0.0      44\n",
      "기증용, 배아 저장용          1.000000  0.000000     125.0      0.0     125\n",
      "기증용, 배아 저장용, 현재 시술용  0.650000  0.350000      13.0      7.0      20\n",
      "기증용, 현재 시술용          0.620243  0.379757    2347.0   1437.0    3784\n",
      "난자 저장용               1.000000  0.000000    1959.0      0.0    1959\n",
      "난자 저장용, 배아 저장용       1.000000  0.000000       6.0      0.0       6\n",
      "난자 저장용, 배아 저장용, 연구용  1.000000  0.000000       1.0      0.0       1\n",
      "난자 저장용, 현재 시술용       0.800000  0.200000       4.0      1.0       5\n",
      "배아 저장용               0.999130  0.000870    9183.0      8.0    9191\n",
      "배아 저장용, 현재 시술용       0.734940  0.265060      61.0     22.0      83\n",
      "연구용, 현재 시술용          1.000000  0.000000       1.0      0.0       1\n",
      "현재 시술용               0.726433  0.273567  169787.0  63940.0  233727\n"
     ]
    }
   ],
   "source": [
    "value_counts_ratio(train, '배아_생성_주요_이유')"
   ]
  },
  {
   "cell_type": "code",
   "execution_count": 239,
   "metadata": {},
   "outputs": [],
   "source": [
    "# '연구용'이라는 값이 포함된 행 삭제\n",
    "train = train[~train['배아_생성_주요_이유'].str.contains('연구용', na=False)]\n",
    "# test = test[~test['배아_생성_주요_이유'].str.contains('연구용', na=False)]"
   ]
  },
  {
   "cell_type": "code",
   "execution_count": 240,
   "metadata": {},
   "outputs": [
    {
     "name": "stdout",
     "output_type": "stream",
     "text": [
      "\n",
      "배아_생성_주요_이유별 임신_성공_여부 비율 및 갯수\n",
      "\n",
      "                            0         1         0        1   Total\n",
      "variable                                                          \n",
      "기증용                  1.000000  0.000000    1108.0      0.0    1108\n",
      "기증용, 난자 저장용          1.000000  0.000000      44.0      0.0      44\n",
      "기증용, 배아 저장용          1.000000  0.000000     125.0      0.0     125\n",
      "기증용, 배아 저장용, 현재 시술용  0.650000  0.350000      13.0      7.0      20\n",
      "기증용, 현재 시술용          0.620243  0.379757    2347.0   1437.0    3784\n",
      "난자 저장용               1.000000  0.000000    1959.0      0.0    1959\n",
      "난자 저장용, 배아 저장용       1.000000  0.000000       6.0      0.0       6\n",
      "난자 저장용, 현재 시술용       0.800000  0.200000       4.0      1.0       5\n",
      "배아 저장용               0.999130  0.000870    9183.0      8.0    9191\n",
      "배아 저장용, 현재 시술용       0.734940  0.265060      61.0     22.0      83\n",
      "현재 시술용               0.726433  0.273567  169787.0  63940.0  233727\n"
     ]
    }
   ],
   "source": [
    "value_counts_ratio(train, '배아_생성_주요_이유')"
   ]
  },
  {
   "cell_type": "code",
   "execution_count": 241,
   "metadata": {},
   "outputs": [
    {
     "data": {
      "text/plain": [
       "현재 시술용                 82253\n",
       "배아 저장용                  3151\n",
       "기증용, 현재 시술용             1327\n",
       "난자 저장용                   664\n",
       "기증용                      384\n",
       "기증용, 배아 저장용               47\n",
       "배아 저장용, 현재 시술용            38\n",
       "기증용, 난자 저장용               19\n",
       "기증용, 배아 저장용, 현재 시술용        6\n",
       "난자 저장용, 현재 시술용             1\n",
       "난자 저장용, 배아 저장용             1\n",
       "Name: 배아_생성_주요_이유, dtype: int64"
      ]
     },
     "execution_count": 241,
     "metadata": {},
     "output_type": "execute_result"
    }
   ],
   "source": [
    "test['배아_생성_주요_이유'].value_counts()"
   ]
  },
  {
   "cell_type": "code",
   "execution_count": 242,
   "metadata": {},
   "outputs": [],
   "source": [
    "# '현재 시술용' 키워드가 포함된 경우 1, 그렇지 않은 경우 0을 부여하는 더미 변수 생성\n",
    "train['배아_생성_주요_이유_현재시술용'] = train['배아_생성_주요_이유'].str.contains('현재 시술용').astype(int)\n",
    "test['배아_생성_주요_이유_현재시술용'] = test['배아_생성_주요_이유'].str.contains('현재 시술용').astype(int)"
   ]
  },
  {
   "cell_type": "code",
   "execution_count": 243,
   "metadata": {},
   "outputs": [],
   "source": [
    "# '기증용' 키워드가 포함된 경우 1, 그렇지 않은 경우 0을 부여하는 더미 변수 생성\n",
    "train['배아_생성_주요_이유_기증용'] = train['배아_생성_주요_이유'].str.contains('기증용').astype(int)\n",
    "test['배아_생성_주요_이유_기증용'] = test['배아_생성_주요_이유'].str.contains('기증용').astype(int)"
   ]
  },
  {
   "cell_type": "code",
   "execution_count": 244,
   "metadata": {},
   "outputs": [],
   "source": [
    "# '난자 저장용' 키워드가 포함된 경우 1, 그렇지 않은 경우 0을 부여하는 더미 변수 생성\n",
    "train['배아_생성_주요_이유_난자저장용'] = train['배아_생성_주요_이유'].str.contains('난자 저장용').astype(int)\n",
    "test['배아_생성_주요_이유_난자저장용'] = test['배아_생성_주요_이유'].str.contains('난자 저장용').astype(int)"
   ]
  },
  {
   "cell_type": "code",
   "execution_count": 245,
   "metadata": {},
   "outputs": [],
   "source": [
    "# '배아 저장용' 키워드가 포함된 경우 1, 그렇지 않은 경우 0을 부여하는 더미 변수 생성\n",
    "train['배아_생성_주요_이유_배아저장용'] = train['배아_생성_주요_이유'].str.contains('배아 저장용').astype(int)\n",
    "test['배아_생성_주요_이유_배아저장용'] = test['배아_생성_주요_이유'].str.contains('배아 저장용').astype(int)"
   ]
  },
  {
   "cell_type": "code",
   "execution_count": 246,
   "metadata": {},
   "outputs": [
    {
     "name": "stdout",
     "output_type": "stream",
     "text": [
      "Grouped by: 배아_생성_주요_이유_현재시술용, 배아_생성_주요_이유_기증용, 배아_생성_주요_이유_난자저장용, 배아_생성_주요_이유_배아저장용\n",
      "\n",
      "           group  '임신_성공_여부' count     ratio   Total\n",
      "0   (0, 0, 0, 1)                 8  0.000870    9191\n",
      "1   (0, 0, 1, 0)                 0  0.000000    1959\n",
      "2   (0, 0, 1, 1)                 0  0.000000       6\n",
      "3   (0, 1, 0, 0)                 0  0.000000    1108\n",
      "4   (0, 1, 0, 1)                 0  0.000000     125\n",
      "5   (0, 1, 1, 0)                 0  0.000000      44\n",
      "6   (1, 0, 0, 0)             63940  0.273567  233727\n",
      "7   (1, 0, 0, 1)                22  0.265060      83\n",
      "8   (1, 0, 1, 0)                 1  0.200000       5\n",
      "9   (1, 1, 0, 0)              1437  0.379757    3784\n",
      "10  (1, 1, 0, 1)                 7  0.350000      20\n"
     ]
    }
   ],
   "source": [
    "summarize_group(train, [\n",
    "    # '배아_생성_주요_이유',\n",
    "    '배아_생성_주요_이유_현재시술용',\n",
    "    '배아_생성_주요_이유_기증용',\n",
    "    '배아_생성_주요_이유_난자저장용',\n",
    "    '배아_생성_주요_이유_배아저장용'\n",
    "                        ])"
   ]
  },
  {
   "cell_type": "code",
   "execution_count": 247,
   "metadata": {},
   "outputs": [
    {
     "name": "stdout",
     "output_type": "stream",
     "text": [
      "\n",
      "배아_생성_주요_이유_현재시술용별 임신_성공_여부 비율 및 갯수\n",
      "\n",
      "                 0         1       0      1   Total\n",
      "variable                                           \n",
      "0         0.999357  0.000643   12425      8   12433\n",
      "1         0.724740  0.275260  172212  65407  237619\n"
     ]
    }
   ],
   "source": [
    "value_counts_ratio(train, '배아_생성_주요_이유_현재시술용')"
   ]
  },
  {
   "cell_type": "code",
   "execution_count": 248,
   "metadata": {},
   "outputs": [],
   "source": [
    "# # 변수 제거\n",
    "# train = train.drop(columns=['배아_생성_주요_이유'])\n",
    "# test = test.drop(columns=['배아_생성_주요_이유'])"
   ]
  },
  {
   "cell_type": "markdown",
   "metadata": {},
   "source": [
    "### 29. 총_시술_횟수"
   ]
  },
  {
   "cell_type": "markdown",
   "metadata": {},
   "source": [
    "IVF 및 DI 포함한 전체 시술 횟수"
   ]
  },
  {
   "cell_type": "code",
   "execution_count": 249,
   "metadata": {},
   "outputs": [
    {
     "name": "stdout",
     "output_type": "stream",
     "text": [
      "\n",
      "총_시술_횟수별 임신_성공_여부 비율 및 갯수\n",
      "\n",
      "                 0         1      0      1  Total\n",
      "variable                                         \n",
      "0회        0.708120  0.291880  68830  28371  97201\n",
      "1회        0.748198  0.251802  41837  14080  55917\n",
      "2회        0.752661  0.247339  28775   9456  38231\n",
      "3회        0.758621  0.241379  17820   5670  23490\n",
      "4회        0.767004  0.232996  10916   3316  14232\n",
      "5회        0.776622  0.223378   6498   1869   8367\n",
      "6회 이상     0.789678  0.210322   9961   2653  12614\n"
     ]
    }
   ],
   "source": [
    "value_counts_ratio(train, '총_시술_횟수')"
   ]
  },
  {
   "cell_type": "code",
   "execution_count": 250,
   "metadata": {},
   "outputs": [
    {
     "data": {
      "text/plain": [
       "0회       34249\n",
       "1회       19667\n",
       "2회       13346\n",
       "3회        8257\n",
       "4회        4977\n",
       "6회 이상     4372\n",
       "5회        3023\n",
       "Name: 총_시술_횟수, dtype: int64"
      ]
     },
     "execution_count": 250,
     "metadata": {},
     "output_type": "execute_result"
    }
   ],
   "source": [
    "test['총_시술_횟수'].value_counts()"
   ]
  },
  {
   "cell_type": "code",
   "execution_count": 251,
   "metadata": {},
   "outputs": [
    {
     "name": "stdout",
     "output_type": "stream",
     "text": [
      "\n",
      "총_시술_횟수별 임신_성공_여부 비율 및 갯수\n",
      "\n",
      "                 0         1      0      1  Total\n",
      "variable                                         \n",
      "0         0.708120  0.291880  68830  28371  97201\n",
      "1         0.748198  0.251802  41837  14080  55917\n",
      "2         0.752661  0.247339  28775   9456  38231\n",
      "3         0.758621  0.241379  17820   5670  23490\n",
      "4         0.767004  0.232996  10916   3316  14232\n",
      "5         0.776622  0.223378   6498   1869   8367\n",
      "6         0.789678  0.210322   9961   2653  12614\n"
     ]
    }
   ],
   "source": [
    "# 숫자 매핑\n",
    "mapping = {\n",
    "    '0회': 0,\n",
    "    '1회': 1,\n",
    "    '2회': 2,\n",
    "    '3회': 3,\n",
    "    '4회': 4,\n",
    "    '5회': 5,\n",
    "    '6회 이상': 6\n",
    "}\n",
    "\n",
    "# 숫자로 변환\n",
    "train['총_시술_횟수'] = train['총_시술_횟수'].map(mapping)\n",
    "test['총_시술_횟수'] = test['총_시술_횟수'].map(mapping)\n",
    "\n",
    "value_counts_ratio(train, '총_시술_횟수')"
   ]
  },
  {
   "cell_type": "markdown",
   "metadata": {},
   "source": [
    "### 30. 클리닉_내_총_시술_횟수"
   ]
  },
  {
   "cell_type": "markdown",
   "metadata": {},
   "source": [
    "특정 클리닉에서 받은 IVF 및 DI 시술 횟수"
   ]
  },
  {
   "cell_type": "code",
   "execution_count": 252,
   "metadata": {},
   "outputs": [
    {
     "name": "stdout",
     "output_type": "stream",
     "text": [
      "\n",
      "클리닉_내_총_시술_횟수별 임신_성공_여부 비율 및 갯수\n",
      "\n",
      "                 0         1      0      1   Total\n",
      "variable                                          \n",
      "0회        0.715730  0.284270  86428  34327  120755\n",
      "1회        0.752296  0.247704  44062  14508   58570\n",
      "2회        0.758241  0.241759  25326   8075   33401\n",
      "3회        0.761806  0.238194  13276   4151   17427\n",
      "4회        0.770382  0.229618   7106   2118    9224\n",
      "5회        0.782837  0.217163   3731   1035    4766\n",
      "6회 이상     0.796751  0.203249   4708   1201    5909\n"
     ]
    }
   ],
   "source": [
    "value_counts_ratio(train, '클리닉_내_총_시술_횟수')"
   ]
  },
  {
   "cell_type": "code",
   "execution_count": 253,
   "metadata": {},
   "outputs": [
    {
     "name": "stdout",
     "output_type": "stream",
     "text": [
      "\n",
      "클리닉_내_총_시술_횟수별 임신_성공_여부 비율 및 갯수\n",
      "\n",
      "                 0         1      0      1   Total\n",
      "variable                                          \n",
      "0         0.715730  0.284270  86428  34327  120755\n",
      "1         0.752296  0.247704  44062  14508   58570\n",
      "2         0.758241  0.241759  25326   8075   33401\n",
      "3         0.761806  0.238194  13276   4151   17427\n",
      "4         0.770382  0.229618   7106   2118    9224\n",
      "5         0.782837  0.217163   3731   1035    4766\n",
      "6         0.796751  0.203249   4708   1201    5909\n"
     ]
    }
   ],
   "source": [
    "# 숫자 매핑\n",
    "mapping = {\n",
    "    '0회': 0,\n",
    "    '1회': 1,\n",
    "    '2회': 2,\n",
    "    '3회': 3,\n",
    "    '4회': 4,\n",
    "    '5회': 5,\n",
    "    '6회 이상': 6\n",
    "}\n",
    "\n",
    "# 숫자로 변환\n",
    "train['클리닉_내_총_시술_횟수'] = train['클리닉_내_총_시술_횟수'].map(mapping)\n",
    "test['클리닉_내_총_시술_횟수'] = test['클리닉_내_총_시술_횟수'].map(mapping)\n",
    "\n",
    "value_counts_ratio(train, '클리닉_내_총_시술_횟수')"
   ]
  },
  {
   "cell_type": "markdown",
   "metadata": {},
   "source": [
    "### 31. IVF_시술_횟수"
   ]
  },
  {
   "cell_type": "markdown",
   "metadata": {},
   "source": [
    "이전에 수행된 IVF 시술 횟수"
   ]
  },
  {
   "cell_type": "code",
   "execution_count": 254,
   "metadata": {},
   "outputs": [
    {
     "name": "stdout",
     "output_type": "stream",
     "text": [
      "\n",
      "IVF_시술_횟수별 임신_성공_여부 비율 및 갯수\n",
      "\n",
      "                 0         1      0      1   Total\n",
      "variable                                          \n",
      "0회        0.708226  0.291774  70955  29232  100187\n",
      "1회        0.747439  0.252561  42903  14497   57400\n",
      "2회        0.752339  0.247661  29026   9555   38581\n",
      "3회        0.762390  0.237610  17429   5432   22861\n",
      "4회        0.770207  0.229793  10320   3079   13399\n",
      "5회        0.784339  0.215661   5990   1647    7637\n",
      "6회 이상     0.802443  0.197557   8014   1973    9987\n"
     ]
    }
   ],
   "source": [
    "value_counts_ratio(train, 'IVF_시술_횟수')"
   ]
  },
  {
   "cell_type": "code",
   "execution_count": 255,
   "metadata": {},
   "outputs": [
    {
     "name": "stdout",
     "output_type": "stream",
     "text": [
      "\n",
      "IVF_시술_횟수별 임신_성공_여부 비율 및 갯수\n",
      "\n",
      "                 0         1      0      1   Total\n",
      "variable                                          \n",
      "0         0.708226  0.291774  70955  29232  100187\n",
      "1         0.747439  0.252561  42903  14497   57400\n",
      "2         0.752339  0.247661  29026   9555   38581\n",
      "3         0.762390  0.237610  17429   5432   22861\n",
      "4         0.770207  0.229793  10320   3079   13399\n",
      "5         0.784339  0.215661   5990   1647    7637\n",
      "6         0.802443  0.197557   8014   1973    9987\n"
     ]
    }
   ],
   "source": [
    "# 숫자 매핑\n",
    "mapping = {\n",
    "    '0회': 0,\n",
    "    '1회': 1,\n",
    "    '2회': 2,\n",
    "    '3회': 3,\n",
    "    '4회': 4,\n",
    "    '5회': 5,\n",
    "    '6회 이상': 6\n",
    "}\n",
    "\n",
    "# 숫자로 변환\n",
    "train['IVF_시술_횟수'] = train['IVF_시술_횟수'].map(mapping)\n",
    "test['IVF_시술_횟수'] = test['IVF_시술_횟수'].map(mapping)\n",
    "\n",
    "value_counts_ratio(train, 'IVF_시술_횟수')"
   ]
  },
  {
   "cell_type": "markdown",
   "metadata": {},
   "source": [
    "### 32. DI_시술_횟수"
   ]
  },
  {
   "cell_type": "markdown",
   "metadata": {},
   "source": [
    "이전에 수행된 DI 시술 횟수"
   ]
  },
  {
   "cell_type": "code",
   "execution_count": 256,
   "metadata": {},
   "outputs": [
    {
     "name": "stdout",
     "output_type": "stream",
     "text": [
      "\n",
      "DI_시술_횟수별 임신_성공_여부 비율 및 갯수\n",
      "\n",
      "                 0         1       0      1   Total\n",
      "variable                                           \n",
      "0회        0.738590  0.261410  178241  63085  241326\n",
      "1회        0.760754  0.239246    1291    406    1697\n",
      "2회        0.735436  0.264564    1376    495    1871\n",
      "3회        0.711252  0.288748    1574    639    2213\n",
      "4회        0.724036  0.275964     732    279    1011\n",
      "5회        0.739617  0.260383     463    163     626\n",
      "6회 이상     0.733945  0.266055     960    348    1308\n"
     ]
    }
   ],
   "source": [
    "value_counts_ratio(train, 'DI_시술_횟수')"
   ]
  },
  {
   "cell_type": "code",
   "execution_count": 257,
   "metadata": {},
   "outputs": [
    {
     "name": "stdout",
     "output_type": "stream",
     "text": [
      "\n",
      "DI_시술_횟수별 임신_성공_여부 비율 및 갯수\n",
      "\n",
      "                 0         1       0      1   Total\n",
      "variable                                           \n",
      "0         0.738590  0.261410  178241  63085  241326\n",
      "1         0.760754  0.239246    1291    406    1697\n",
      "2         0.735436  0.264564    1376    495    1871\n",
      "3         0.711252  0.288748    1574    639    2213\n",
      "4         0.724036  0.275964     732    279    1011\n",
      "5         0.739617  0.260383     463    163     626\n",
      "6         0.733945  0.266055     960    348    1308\n"
     ]
    }
   ],
   "source": [
    "# 숫자 매핑\n",
    "mapping = {\n",
    "    '0회': 0,\n",
    "    '1회': 1,\n",
    "    '2회': 2,\n",
    "    '3회': 3,\n",
    "    '4회': 4,\n",
    "    '5회': 5,\n",
    "    '6회 이상': 6\n",
    "}\n",
    "\n",
    "# 숫자로 변환\n",
    "train['DI_시술_횟수'] = train['DI_시술_횟수'].map(mapping)\n",
    "test['DI_시술_횟수'] = test['DI_시술_횟수'].map(mapping)\n",
    "\n",
    "value_counts_ratio(train, 'DI_시술_횟수')"
   ]
  },
  {
   "cell_type": "markdown",
   "metadata": {},
   "source": [
    "### 33. 총_임신_횟수"
   ]
  },
  {
   "cell_type": "markdown",
   "metadata": {},
   "source": [
    "IVF 및 DI 포함한 총 임신 횟수"
   ]
  },
  {
   "cell_type": "code",
   "execution_count": 258,
   "metadata": {},
   "outputs": [
    {
     "name": "stdout",
     "output_type": "stream",
     "text": [
      "\n",
      "총_임신_횟수별 임신_성공_여부 비율 및 갯수\n",
      "\n",
      "                 0         1       0      1   Total\n",
      "variable                                           \n",
      "0회        0.739575  0.260425  149153  52521  201674\n",
      "1회        0.732256  0.267744   30508  11155   41663\n",
      "2회        0.739652  0.260348    4378   1541    5919\n",
      "3회        0.748571  0.251429     524    176     700\n",
      "4회        0.767442  0.232558      66     20      86\n",
      "5회        0.857143  0.142857       6      1       7\n",
      "6회 이상     0.666667  0.333333       2      1       3\n"
     ]
    }
   ],
   "source": [
    "value_counts_ratio(train, '총_임신_횟수')"
   ]
  },
  {
   "cell_type": "code",
   "execution_count": 259,
   "metadata": {},
   "outputs": [
    {
     "name": "stdout",
     "output_type": "stream",
     "text": [
      "\n",
      "총_임신_횟수별 임신_성공_여부 비율 및 갯수\n",
      "\n",
      "                 0         1       0      1   Total\n",
      "variable                                           \n",
      "0         0.739575  0.260425  149153  52521  201674\n",
      "1         0.732256  0.267744   30508  11155   41663\n",
      "2         0.739652  0.260348    4378   1541    5919\n",
      "3         0.748571  0.251429     524    176     700\n",
      "4         0.767442  0.232558      66     20      86\n",
      "5         0.857143  0.142857       6      1       7\n",
      "6         0.666667  0.333333       2      1       3\n"
     ]
    }
   ],
   "source": [
    "# 숫자 매핑\n",
    "mapping = {\n",
    "    '0회': 0,\n",
    "    '1회': 1,\n",
    "    '2회': 2,\n",
    "    '3회': 3,\n",
    "    '4회': 4,\n",
    "    '5회': 5,\n",
    "    '6회 이상': 6\n",
    "}\n",
    "\n",
    "# 숫자로 변환\n",
    "train['총_임신_횟수'] = train['총_임신_횟수'].map(mapping)\n",
    "test['총_임신_횟수'] = test['총_임신_횟수'].map(mapping)\n",
    "\n",
    "value_counts_ratio(train, '총_임신_횟수')"
   ]
  },
  {
   "cell_type": "markdown",
   "metadata": {},
   "source": [
    "### 34. IVF_임신_횟수"
   ]
  },
  {
   "cell_type": "markdown",
   "metadata": {},
   "source": [
    "IVF 시술로 인한 임신 횟수"
   ]
  },
  {
   "cell_type": "code",
   "execution_count": 260,
   "metadata": {},
   "outputs": [
    {
     "name": "stdout",
     "output_type": "stream",
     "text": [
      "\n",
      "IVF_임신_횟수별 임신_성공_여부 비율 및 갯수\n",
      "\n",
      "                 0         1         0        1   Total\n",
      "variable                                               \n",
      "0회        0.739487  0.260513  149687.0  52733.0  202420\n",
      "1회        0.732116  0.267884   30109.0  11017.0   41126\n",
      "2회        0.742922  0.257078    4277.0   1480.0    5757\n",
      "3회        0.751891  0.248109     497.0    164.0     661\n",
      "4회        0.762500  0.237500      61.0     19.0      80\n",
      "5회        0.857143  0.142857       6.0      1.0       7\n",
      "6회 이상     0.000000  1.000000       0.0      1.0       1\n"
     ]
    }
   ],
   "source": [
    "value_counts_ratio(train, 'IVF_임신_횟수')"
   ]
  },
  {
   "cell_type": "code",
   "execution_count": 261,
   "metadata": {},
   "outputs": [
    {
     "name": "stdout",
     "output_type": "stream",
     "text": [
      "\n",
      "IVF_임신_횟수별 임신_성공_여부 비율 및 갯수\n",
      "\n",
      "                 0         1         0        1   Total\n",
      "variable                                               \n",
      "0         0.739487  0.260513  149687.0  52733.0  202420\n",
      "1         0.732116  0.267884   30109.0  11017.0   41126\n",
      "2         0.742922  0.257078    4277.0   1480.0    5757\n",
      "3         0.751891  0.248109     497.0    164.0     661\n",
      "4         0.762500  0.237500      61.0     19.0      80\n",
      "5         0.857143  0.142857       6.0      1.0       7\n",
      "6         0.000000  1.000000       0.0      1.0       1\n"
     ]
    }
   ],
   "source": [
    "# 숫자 매핑\n",
    "mapping = {\n",
    "    '0회': 0,\n",
    "    '1회': 1,\n",
    "    '2회': 2,\n",
    "    '3회': 3,\n",
    "    '4회': 4,\n",
    "    '5회': 5,\n",
    "    '6회 이상': 6\n",
    "}\n",
    "\n",
    "# 숫자로 변환\n",
    "train['IVF_임신_횟수'] = train['IVF_임신_횟수'].map(mapping)\n",
    "test['IVF_임신_횟수'] = test['IVF_임신_횟수'].map(mapping)\n",
    "\n",
    "value_counts_ratio(train, 'IVF_임신_횟수')"
   ]
  },
  {
   "cell_type": "markdown",
   "metadata": {},
   "source": [
    "### 35. DI_임신_횟수"
   ]
  },
  {
   "cell_type": "markdown",
   "metadata": {},
   "source": [
    "DI 시술로 인한 임신 횟수"
   ]
  },
  {
   "cell_type": "code",
   "execution_count": 262,
   "metadata": {},
   "outputs": [
    {
     "name": "stdout",
     "output_type": "stream",
     "text": [
      "\n",
      "DI_임신_횟수별 임신_성공_여부 비율 및 갯수\n",
      "\n",
      "                 0         1         0        1   Total\n",
      "variable                                               \n",
      "0회        0.738510  0.261490  184016.0  65156.0  249172\n",
      "1회        0.711111  0.288889     544.0    221.0     765\n",
      "2회        0.653465  0.346535      66.0     35.0     101\n",
      "3회        0.727273  0.272727       8.0      3.0      11\n",
      "4회        1.000000  0.000000       1.0      0.0       1\n",
      "5회        1.000000  0.000000       2.0      0.0       2\n"
     ]
    }
   ],
   "source": [
    "value_counts_ratio(train, 'DI_임신_횟수')"
   ]
  },
  {
   "cell_type": "code",
   "execution_count": 263,
   "metadata": {},
   "outputs": [
    {
     "name": "stdout",
     "output_type": "stream",
     "text": [
      "\n",
      "DI_임신_횟수별 임신_성공_여부 비율 및 갯수\n",
      "\n",
      "                 0         1         0        1   Total\n",
      "variable                                               \n",
      "0         0.738510  0.261490  184016.0  65156.0  249172\n",
      "1         0.711111  0.288889     544.0    221.0     765\n",
      "2         0.653465  0.346535      66.0     35.0     101\n",
      "3         0.727273  0.272727       8.0      3.0      11\n",
      "4         1.000000  0.000000       1.0      0.0       1\n",
      "5         1.000000  0.000000       2.0      0.0       2\n"
     ]
    }
   ],
   "source": [
    "# 숫자 매핑\n",
    "mapping = {\n",
    "    '0회': 0,\n",
    "    '1회': 1,\n",
    "    '2회': 2,\n",
    "    '3회': 3,\n",
    "    '4회': 4,\n",
    "    '5회': 5\n",
    "}\n",
    "\n",
    "# 숫자로 변환\n",
    "train['DI_임신_횟수'] = train['DI_임신_횟수'].map(mapping)\n",
    "test['DI_임신_횟수'] = test['DI_임신_횟수'].map(mapping)\n",
    "\n",
    "value_counts_ratio(train, 'DI_임신_횟수')"
   ]
  },
  {
   "cell_type": "markdown",
   "metadata": {},
   "source": [
    "### 36. 총_출산_횟수"
   ]
  },
  {
   "cell_type": "markdown",
   "metadata": {},
   "source": [
    "IVF 및 DI 시술로 출산한 횟수"
   ]
  },
  {
   "cell_type": "code",
   "execution_count": 264,
   "metadata": {},
   "outputs": [
    {
     "name": "stdout",
     "output_type": "stream",
     "text": [
      "\n",
      "총_출산_횟수별 임신_성공_여부 비율 및 갯수\n",
      "\n",
      "                 0         1         0        1   Total\n",
      "variable                                               \n",
      "0회        0.739999  0.260001  158524.0  55698.0  214222\n",
      "1회        0.728667  0.271333   24465.0   9110.0   33575\n",
      "2회        0.732186  0.267814    1531.0    560.0    2091\n",
      "3회        0.702703  0.297297     104.0     44.0     148\n",
      "4회        0.769231  0.230769      10.0      3.0      13\n",
      "5회        1.000000  0.000000       1.0      0.0       1\n",
      "6회 이상     1.000000  0.000000       2.0      0.0       2\n"
     ]
    }
   ],
   "source": [
    "value_counts_ratio(train, '총_출산_횟수')"
   ]
  },
  {
   "cell_type": "code",
   "execution_count": 265,
   "metadata": {},
   "outputs": [
    {
     "name": "stdout",
     "output_type": "stream",
     "text": [
      "\n",
      "총_출산_횟수별 임신_성공_여부 비율 및 갯수\n",
      "\n",
      "                 0         1         0        1   Total\n",
      "variable                                               \n",
      "0         0.739999  0.260001  158524.0  55698.0  214222\n",
      "1         0.728667  0.271333   24465.0   9110.0   33575\n",
      "2         0.732186  0.267814    1531.0    560.0    2091\n",
      "3         0.702703  0.297297     104.0     44.0     148\n",
      "4         0.769231  0.230769      10.0      3.0      13\n",
      "5         1.000000  0.000000       1.0      0.0       1\n",
      "6         1.000000  0.000000       2.0      0.0       2\n"
     ]
    }
   ],
   "source": [
    "# 숫자 매핑\n",
    "mapping = {\n",
    "    '0회': 0,\n",
    "    '1회': 1,\n",
    "    '2회': 2,\n",
    "    '3회': 3,\n",
    "    '4회': 4,\n",
    "    '5회': 5,\n",
    "    '6회 이상': 6\n",
    "}\n",
    "\n",
    "# 숫자로 변환\n",
    "train['총_출산_횟수'] = train['총_출산_횟수'].map(mapping)\n",
    "test['총_출산_횟수'] = test['총_출산_횟수'].map(mapping)\n",
    "\n",
    "value_counts_ratio(train, '총_출산_횟수')"
   ]
  },
  {
   "cell_type": "markdown",
   "metadata": {},
   "source": [
    "### 37. IVF_출산_횟수"
   ]
  },
  {
   "cell_type": "markdown",
   "metadata": {},
   "source": [
    "IVF 시술로 출산한 횟수"
   ]
  },
  {
   "cell_type": "code",
   "execution_count": 266,
   "metadata": {},
   "outputs": [
    {
     "name": "stdout",
     "output_type": "stream",
     "text": [
      "\n",
      "IVF_출산_횟수별 임신_성공_여부 비율 및 갯수\n",
      "\n",
      "                 0         1         0        1   Total\n",
      "variable                                               \n",
      "0회        0.739900  0.260100  158935.0  55871.0  214806\n",
      "1회        0.728825  0.271175   24111.0   8971.0   33082\n",
      "2회        0.737208  0.262792    1484.0    529.0    2013\n",
      "3회        0.700730  0.299270      96.0     41.0     137\n",
      "4회        0.769231  0.230769      10.0      3.0      13\n",
      "5회        1.000000  0.000000       1.0      0.0       1\n"
     ]
    }
   ],
   "source": [
    "value_counts_ratio(train, 'IVF_출산_횟수')"
   ]
  },
  {
   "cell_type": "code",
   "execution_count": 267,
   "metadata": {},
   "outputs": [
    {
     "name": "stdout",
     "output_type": "stream",
     "text": [
      "\n",
      "IVF_출산_횟수별 임신_성공_여부 비율 및 갯수\n",
      "\n",
      "                 0         1         0        1   Total\n",
      "variable                                               \n",
      "0         0.739900  0.260100  158935.0  55871.0  214806\n",
      "1         0.728825  0.271175   24111.0   8971.0   33082\n",
      "2         0.737208  0.262792    1484.0    529.0    2013\n",
      "3         0.700730  0.299270      96.0     41.0     137\n",
      "4         0.769231  0.230769      10.0      3.0      13\n",
      "5         1.000000  0.000000       1.0      0.0       1\n"
     ]
    }
   ],
   "source": [
    "# 숫자 매핑\n",
    "mapping = {\n",
    "    '0회': 0,\n",
    "    '1회': 1,\n",
    "    '2회': 2,\n",
    "    '3회': 3,\n",
    "    '4회': 4,\n",
    "    '5회': 5\n",
    "}\n",
    "\n",
    "# 숫자로 변환\n",
    "train['IVF_출산_횟수'] = train['IVF_출산_횟수'].map(mapping)\n",
    "test['IVF_출산_횟수'] = test['IVF_출산_횟수'].map(mapping)\n",
    "\n",
    "value_counts_ratio(train, 'IVF_출산_횟수')"
   ]
  },
  {
   "cell_type": "code",
   "execution_count": 268,
   "metadata": {},
   "outputs": [
    {
     "data": {
      "text/plain": [
       "0    75407\n",
       "1    11773\n",
       "2      664\n",
       "3       42\n",
       "4        5\n",
       "Name: IVF_출산_횟수, dtype: int64"
      ]
     },
     "execution_count": 268,
     "metadata": {},
     "output_type": "execute_result"
    }
   ],
   "source": [
    "test['IVF_출산_횟수'].value_counts()"
   ]
  },
  {
   "cell_type": "markdown",
   "metadata": {},
   "source": [
    "### 38. DI_출산_횟수"
   ]
  },
  {
   "cell_type": "markdown",
   "metadata": {},
   "source": [
    "DI 시술로 출산한 횟수"
   ]
  },
  {
   "cell_type": "code",
   "execution_count": 269,
   "metadata": {},
   "outputs": [
    {
     "name": "stdout",
     "output_type": "stream",
     "text": [
      "\n",
      "DI_출산_횟수별 임신_성공_여부 비율 및 갯수\n",
      "\n",
      "                 0         1         0        1   Total\n",
      "variable                                               \n",
      "0회        0.738499  0.261501  184195.0  65223.0  249418\n",
      "1회        0.699313  0.300687     407.0    175.0     582\n",
      "2회        0.666667  0.333333      32.0     16.0      48\n",
      "3회        0.500000  0.500000       1.0      1.0       2\n",
      "5회        1.000000  0.000000       2.0      0.0       2\n"
     ]
    }
   ],
   "source": [
    "value_counts_ratio(train, 'DI_출산_횟수')"
   ]
  },
  {
   "cell_type": "code",
   "execution_count": 270,
   "metadata": {},
   "outputs": [
    {
     "name": "stdout",
     "output_type": "stream",
     "text": [
      "\n",
      "DI_출산_횟수별 임신_성공_여부 비율 및 갯수\n",
      "\n",
      "                 0         1         0        1   Total\n",
      "variable                                               \n",
      "0         0.738499  0.261501  184195.0  65223.0  249418\n",
      "1         0.699313  0.300687     407.0    175.0     582\n",
      "2         0.666667  0.333333      32.0     16.0      48\n",
      "3         0.500000  0.500000       1.0      1.0       2\n",
      "5         1.000000  0.000000       2.0      0.0       2\n"
     ]
    }
   ],
   "source": [
    "# 숫자 매핑\n",
    "mapping = {\n",
    "    '0회': 0,\n",
    "    '1회': 1,\n",
    "    '2회': 2,\n",
    "    '3회': 3,\n",
    "    '4회': 4,\n",
    "    '5회': 5\n",
    "}\n",
    "\n",
    "# 숫자로 변환\n",
    "train['DI_출산_횟수'] = train['DI_출산_횟수'].map(mapping)\n",
    "test['DI_출산_횟수'] = test['DI_출산_횟수'].map(mapping)\n",
    "\n",
    "value_counts_ratio(train, 'DI_출산_횟수')"
   ]
  },
  {
   "cell_type": "code",
   "execution_count": 271,
   "metadata": {},
   "outputs": [
    {
     "data": {
      "text/plain": [
       "0    87694\n",
       "1      183\n",
       "2       13\n",
       "5        1\n",
       "Name: DI_출산_횟수, dtype: int64"
      ]
     },
     "execution_count": 271,
     "metadata": {},
     "output_type": "execute_result"
    }
   ],
   "source": [
    "test['DI_출산_횟수'].value_counts()"
   ]
  },
  {
   "cell_type": "code",
   "execution_count": 272,
   "metadata": {},
   "outputs": [],
   "source": [
    "# # 모든 행과 열을 다 보이게 설정\n",
    "# pd.set_option('display.max_rows', None)\n",
    "# pd.set_option('display.max_columns', None)"
   ]
  },
  {
   "cell_type": "code",
   "execution_count": 273,
   "metadata": {},
   "outputs": [],
   "source": [
    "# summarize_group(train, ['IVF_시술_횟수', 'IVF_임신_횟수', 'IVF_출산_횟수'])"
   ]
  },
  {
   "cell_type": "code",
   "execution_count": 274,
   "metadata": {},
   "outputs": [],
   "source": [
    "# 주요 비율 계산 (train 데이터프레임)\n",
    "train['IVF_임신_시술_비율'] = np.where(train['IVF_시술_횟수'] > 0, train['IVF_임신_횟수'] / train['IVF_시술_횟수'], 0)\n",
    "train['IVF_출산_임신_비율'] = np.where(train['IVF_임신_횟수'] > 0, train['IVF_출산_횟수'] / train['IVF_임신_횟수'], 0)\n",
    "\n",
    "train['DI_임신_시술_비율'] = np.where(train['DI_시술_횟수'] > 0, train['DI_임신_횟수'] / train['DI_시술_횟수'], 0)\n",
    "train['DI_출산_임신_비율'] = np.where(train['DI_임신_횟수'] > 0, train['DI_출산_횟수'] / train['DI_임신_횟수'], 0)\n",
    "\n",
    "# 성공률 계산\n",
    "train['임신_성공률'] = np.where(train['총_시술_횟수'] > 0, train['총_임신_횟수'] / train['총_시술_횟수'], 0)\n",
    "train['출산_성공률'] = np.where(train['총_임신_횟수'] > 0, train['총_출산_횟수'] / train['총_임신_횟수'], 0)\n",
    "\n",
    "# 주요 비율 계산 (test 데이터프레임)\n",
    "test['IVF_임신_시술_비율'] = np.where(test['IVF_시술_횟수'] > 0, test['IVF_임신_횟수'] / test['IVF_시술_횟수'], 0)\n",
    "test['IVF_출산_임신_비율'] = np.where(test['IVF_임신_횟수'] > 0, test['IVF_출산_횟수'] / test['IVF_임신_횟수'], 0)\n",
    "\n",
    "test['DI_임신_시술_비율'] = np.where(test['DI_시술_횟수'] > 0, test['DI_임신_횟수'] / test['DI_시술_횟수'], 0)\n",
    "test['DI_출산_임신_비율'] = np.where(test['DI_임신_횟수'] > 0, test['DI_출산_횟수'] / test['DI_임신_횟수'], 0)\n",
    "\n",
    "# 성공률 계산\n",
    "test['임신_성공률'] = np.where(test['총_시술_횟수'] > 0, test['총_임신_횟수'] / test['총_시술_횟수'], 0)\n",
    "test['출산_성공률'] = np.where(test['총_임신_횟수'] > 0, test['총_출산_횟수'] / test['총_임신_횟수'], 0)"
   ]
  },
  {
   "cell_type": "markdown",
   "metadata": {},
   "source": [
    "### 39. 총_생성_배아_수"
   ]
  },
  {
   "cell_type": "markdown",
   "metadata": {},
   "source": [
    "해당 시술에서 생성된 배아의 총 개수"
   ]
  },
  {
   "cell_type": "code",
   "execution_count": 275,
   "metadata": {},
   "outputs": [
    {
     "name": "stdout",
     "output_type": "stream",
     "text": [
      "\n",
      "총_생성_배아_수별 임신_성공_여부 비율 및 갯수\n",
      "\n",
      "                 0         1        0       1  Total\n",
      "variable                                            \n",
      "0.0       0.828144  0.171856  44179.0  9168.0  53347\n",
      "1.0       0.905137  0.094863  13778.0  1444.0  15222\n",
      "2.0       0.819906  0.180094  15734.0  3456.0  19190\n",
      "3.0       0.758150  0.241850  15884.0  5067.0  20951\n",
      "4.0       0.722700  0.277300  15619.0  5993.0  21612\n",
      "5.0       0.694547  0.305453  14175.0  6234.0  20409\n",
      "6.0       0.677012  0.322988  12608.0  6015.0  18623\n",
      "7.0       0.661676  0.338324  10606.0  5423.0  16029\n",
      "8.0       0.649974  0.350026   8852.0  4767.0  13619\n",
      "9.0       0.645642  0.354358   7186.0  3944.0  11130\n",
      "10.0      0.639563  0.360437   5797.0  3267.0   9064\n",
      "11.0      0.633145  0.366855   4489.0  2601.0   7090\n",
      "12.0      0.647552  0.352448   3704.0  2016.0   5720\n",
      "13.0      0.633881  0.366119   2739.0  1582.0   4321\n",
      "14.0      0.644048  0.355952   2164.0  1196.0   3360\n",
      "15.0      0.642289  0.357711   1616.0   900.0   2516\n",
      "16.0      0.652923  0.347077   1251.0   665.0   1916\n",
      "17.0      0.677527  0.322473   1019.0   485.0   1504\n",
      "18.0      0.696509  0.303491    778.0   339.0   1117\n",
      "19.0      0.692115  0.307885    553.0   246.0    799\n",
      "20.0      0.714063  0.285938    457.0   183.0    640\n",
      "21.0      0.735358  0.264642    339.0   122.0    461\n",
      "22.0      0.748588  0.251412    265.0    89.0    354\n",
      "23.0      0.789474  0.210526    210.0    56.0    266\n",
      "24.0      0.800000  0.200000    156.0    39.0    195\n",
      "25.0      0.797546  0.202454    130.0    33.0    163\n",
      "26.0      0.790476  0.209524     83.0    22.0    105\n",
      "27.0      0.761905  0.238095     64.0    20.0     84\n",
      "28.0      0.843137  0.156863     43.0     8.0     51\n",
      "29.0      0.782609  0.217391     36.0    10.0     46\n",
      "30.0      0.825000  0.175000     33.0     7.0     40\n",
      "31.0      0.880000  0.120000     22.0     3.0     25\n",
      "32.0      0.739130  0.260870     17.0     6.0     23\n",
      "33.0      0.833333  0.166667     10.0     2.0     12\n",
      "34.0      0.666667  0.333333     10.0     5.0     15\n",
      "35.0      1.000000  0.000000      4.0     0.0      4\n",
      "36.0      0.857143  0.142857      6.0     1.0      7\n",
      "37.0      0.857143  0.142857      6.0     1.0      7\n",
      "38.0      1.000000  0.000000      3.0     0.0      3\n",
      "40.0      1.000000  0.000000      1.0     0.0      1\n",
      "41.0      1.000000  0.000000      2.0     0.0      2\n",
      "42.0      1.000000  0.000000      3.0     0.0      3\n",
      "43.0      1.000000  0.000000      1.0     0.0      1\n",
      "44.0      1.000000  0.000000      3.0     0.0      3\n",
      "51.0      1.000000  0.000000      2.0     0.0      2\n"
     ]
    }
   ],
   "source": [
    "value_counts_ratio(train, '총_생성_배아_수')"
   ]
  },
  {
   "cell_type": "markdown",
   "metadata": {},
   "source": [
    "### 40. 미세주입된_난자_수"
   ]
  },
  {
   "cell_type": "markdown",
   "metadata": {},
   "source": [
    "정자 미세주입(ICSI)으로 처리된 난자의 수"
   ]
  },
  {
   "cell_type": "code",
   "execution_count": 276,
   "metadata": {},
   "outputs": [
    {
     "name": "stdout",
     "output_type": "stream",
     "text": [
      "\n",
      "미세주입된_난자_수별 임신_성공_여부 비율 및 갯수\n",
      "\n",
      "                 0         1        0        1   Total\n",
      "variable                                              \n",
      "0.0       0.749256  0.250744  95653.0  32011.0  127664\n",
      "1.0       0.942681  0.057319   4276.0    260.0    4536\n",
      "2.0       0.888783  0.111217   5594.0    700.0    6294\n",
      "3.0       0.833418  0.166582   6594.0   1318.0    7912\n",
      "4.0       0.789753  0.210247   7599.0   2023.0    9622\n",
      "5.0       0.744609  0.255391   7907.0   2712.0   10619\n",
      "6.0       0.723316  0.276684   8010.0   3064.0   11074\n",
      "7.0       0.704831  0.295169   7338.0   3073.0   10411\n",
      "8.0       0.693680  0.306320   6728.0   2971.0    9699\n",
      "9.0       0.681734  0.318266   5867.0   2739.0    8606\n",
      "10.0      0.665462  0.334538   5156.0   2592.0    7748\n",
      "11.0      0.650375  0.349625   4245.0   2282.0    6527\n",
      "12.0      0.660619  0.339381   3714.0   1908.0    5622\n",
      "13.0      0.642012  0.357988   2986.0   1665.0    4651\n",
      "14.0      0.661374  0.338626   2541.0   1301.0    3842\n",
      "15.0      0.650893  0.349107   2077.0   1114.0    3191\n",
      "16.0      0.657288  0.342712   1682.0    877.0    2559\n",
      "17.0      0.658859  0.341141   1294.0    670.0    1964\n",
      "18.0      0.680050  0.319950   1084.0    510.0    1594\n",
      "19.0      0.665850  0.334150    815.0    409.0    1224\n",
      "20.0      0.673019  0.326981    671.0    326.0     997\n",
      "21.0      0.717337  0.282663    571.0    225.0     796\n",
      "22.0      0.730183  0.269817    479.0    177.0     656\n",
      "23.0      0.711656  0.288344    348.0    141.0     489\n",
      "24.0      0.763085  0.236915    277.0     86.0     363\n",
      "25.0      0.779359  0.220641    219.0     62.0     281\n",
      "26.0      0.775934  0.224066    187.0     54.0     241\n",
      "27.0      0.832432  0.167568    154.0     31.0     185\n",
      "28.0      0.830303  0.169697    137.0     28.0     165\n",
      "29.0      0.769912  0.230088     87.0     26.0     113\n",
      "30.0      0.826087  0.173913     76.0     16.0      92\n",
      "31.0      0.866667  0.133333     52.0      8.0      60\n",
      "32.0      0.807692  0.192308     42.0     10.0      52\n",
      "33.0      0.820513  0.179487     32.0      7.0      39\n",
      "34.0      0.857143  0.142857     30.0      5.0      35\n",
      "35.0      0.870968  0.129032     27.0      4.0      31\n",
      "36.0      0.925926  0.074074     25.0      2.0      27\n",
      "37.0      0.785714  0.214286     11.0      3.0      14\n",
      "38.0      0.909091  0.090909     10.0      1.0      11\n",
      "39.0      0.857143  0.142857      6.0      1.0       7\n",
      "40.0      0.875000  0.125000      7.0      1.0       8\n",
      "41.0      1.000000  0.000000      3.0      0.0       3\n",
      "42.0      0.666667  0.333333      2.0      1.0       3\n",
      "43.0      0.857143  0.142857      6.0      1.0       7\n",
      "44.0      1.000000  0.000000      1.0      0.0       1\n",
      "45.0      1.000000  0.000000      4.0      0.0       4\n",
      "46.0      1.000000  0.000000      3.0      0.0       3\n",
      "47.0      1.000000  0.000000      2.0      0.0       2\n",
      "48.0      1.000000  0.000000      1.0      0.0       1\n",
      "49.0      1.000000  0.000000      1.0      0.0       1\n",
      "50.0      1.000000  0.000000      1.0      0.0       1\n",
      "51.0      1.000000  0.000000      5.0      0.0       5\n"
     ]
    }
   ],
   "source": [
    "value_counts_ratio(train, '미세주입된_난자_수')"
   ]
  },
  {
   "cell_type": "markdown",
   "metadata": {},
   "source": [
    "### 41. 미세주입에서_생성된_배아_수"
   ]
  },
  {
   "cell_type": "markdown",
   "metadata": {},
   "source": [
    "ICSI를 통해 생성된 배아의 수"
   ]
  },
  {
   "cell_type": "code",
   "execution_count": 277,
   "metadata": {},
   "outputs": [
    {
     "name": "stdout",
     "output_type": "stream",
     "text": [
      "\n",
      "미세주입에서_생성된_배아_수별 임신_성공_여부 비율 및 갯수\n",
      "\n",
      "                 0         1        0        1   Total\n",
      "variable                                              \n",
      "0.0       0.756897  0.243103  99734.0  32033.0  131767\n",
      "1.0       0.908532  0.091468   9009.0    907.0    9916\n",
      "2.0       0.817908  0.182092  10331.0   2300.0   12631\n",
      "3.0       0.758276  0.241724  10468.0   3337.0   13805\n",
      "4.0       0.719729  0.280271   9992.0   3891.0   13883\n",
      "5.0       0.689546  0.310454   8911.0   4012.0   12923\n",
      "6.0       0.671874  0.328126   7785.0   3802.0   11587\n",
      "7.0       0.659416  0.340584   6275.0   3241.0    9516\n",
      "8.0       0.651130  0.348870   5071.0   2717.0    7788\n",
      "9.0       0.641665  0.358335   3961.0   2212.0    6173\n",
      "10.0      0.635817  0.364183   3064.0   1755.0    4819\n",
      "11.0      0.624231  0.375769   2334.0   1405.0    3739\n",
      "12.0      0.662865  0.337135   1976.0   1005.0    2981\n",
      "13.0      0.642027  0.357973   1381.0    770.0    2151\n",
      "14.0      0.646536  0.353464   1092.0    597.0    1689\n",
      "15.0      0.653974  0.346026    790.0    418.0    1208\n",
      "16.0      0.694570  0.305430    614.0    270.0     884\n",
      "17.0      0.661871  0.338129    460.0    235.0     695\n",
      "18.0      0.693837  0.306163    349.0    154.0     503\n",
      "19.0      0.702006  0.297994    245.0    104.0     349\n",
      "20.0      0.711610  0.288390    190.0     77.0     267\n",
      "21.0      0.745098  0.254902    152.0     52.0     204\n",
      "22.0      0.737931  0.262069    107.0     38.0     145\n",
      "23.0      0.788136  0.211864     93.0     25.0     118\n",
      "24.0      0.846154  0.153846     66.0     12.0      78\n",
      "25.0      0.808824  0.191176     55.0     13.0      68\n",
      "26.0      0.794872  0.205128     31.0      8.0      39\n",
      "27.0      0.771429  0.228571     27.0      8.0      35\n",
      "28.0      0.800000  0.200000     16.0      4.0      20\n",
      "29.0      0.761905  0.238095     16.0      5.0      21\n",
      "30.0      0.875000  0.125000     14.0      2.0      16\n",
      "31.0      0.833333  0.166667      5.0      1.0       6\n",
      "32.0      0.750000  0.250000      6.0      2.0       8\n",
      "33.0      1.000000  0.000000      6.0      0.0       6\n",
      "34.0      0.500000  0.500000      3.0      3.0       6\n",
      "36.0      1.000000  0.000000      1.0      0.0       1\n",
      "37.0      1.000000  0.000000      1.0      0.0       1\n",
      "38.0      1.000000  0.000000      1.0      0.0       1\n",
      "41.0      1.000000  0.000000      2.0      0.0       2\n",
      "42.0      1.000000  0.000000      2.0      0.0       2\n",
      "43.0      1.000000  0.000000      1.0      0.0       1\n"
     ]
    }
   ],
   "source": [
    "value_counts_ratio(train, '미세주입에서_생성된_배아_수')"
   ]
  },
  {
   "cell_type": "markdown",
   "metadata": {},
   "source": [
    "### 42. 이식된_배아_수"
   ]
  },
  {
   "cell_type": "markdown",
   "metadata": {},
   "source": [
    "이식된 배아의 총 수"
   ]
  },
  {
   "cell_type": "code",
   "execution_count": 278,
   "metadata": {},
   "outputs": [
    {
     "name": "stdout",
     "output_type": "stream",
     "text": [
      "\n",
      "이식된_배아_수별 임신_성공_여부 비율 및 갯수\n",
      "\n",
      "                 0         1      0      1   Total\n",
      "variable                                          \n",
      "0.0       0.999179  0.000821  36510     30   36540\n",
      "1.0       0.686456  0.313544  64382  29407   93789\n",
      "2.0       0.688911  0.311089  76361  34482  110843\n",
      "3.0       0.831532  0.168468   7384   1496    8880\n"
     ]
    }
   ],
   "source": [
    "value_counts_ratio(train, '이식된_배아_수')"
   ]
  },
  {
   "cell_type": "markdown",
   "metadata": {},
   "source": [
    "### 43. 미세주입_배아_이식_수"
   ]
  },
  {
   "cell_type": "markdown",
   "metadata": {},
   "source": [
    "ICSI 배아 중 이식된 배아의 수"
   ]
  },
  {
   "cell_type": "code",
   "execution_count": 279,
   "metadata": {},
   "outputs": [
    {
     "name": "stdout",
     "output_type": "stream",
     "text": [
      "\n",
      "미세주입_배아_이식_수별 임신_성공_여부 비율 및 갯수\n",
      "\n",
      "                 0         1       0      1   Total\n",
      "variable                                           \n",
      "0.0       0.776130  0.223870  107702  31066  138768\n",
      "1.0       0.680559  0.319441   31629  14846   46475\n",
      "2.0       0.687683  0.312317   41043  18640   59683\n",
      "3.0       0.831643  0.168357    4263    863    5126\n"
     ]
    }
   ],
   "source": [
    "value_counts_ratio(train, '미세주입_배아_이식_수')"
   ]
  },
  {
   "cell_type": "markdown",
   "metadata": {},
   "source": [
    "### 44. 저장된_배아_수"
   ]
  },
  {
   "cell_type": "markdown",
   "metadata": {},
   "source": [
    "환자를 위해 저장된 배아의 수"
   ]
  },
  {
   "cell_type": "code",
   "execution_count": 280,
   "metadata": {},
   "outputs": [
    {
     "name": "stdout",
     "output_type": "stream",
     "text": [
      "\n",
      "저장된_배아_수별 임신_성공_여부 비율 및 갯수\n",
      "\n",
      "                 0         1         0        1   Total\n",
      "variable                                               \n",
      "0.0       0.777876  0.222124  129798.0  37064.0  166862\n",
      "1.0       0.654653  0.345347   13332.0   7033.0   20365\n",
      "2.0       0.629509  0.370491   12514.0   7365.0   19879\n",
      "3.0       0.630304  0.369696    8511.0   4992.0   13503\n",
      "4.0       0.639706  0.360294    5916.0   3332.0    9248\n",
      "5.0       0.650552  0.349448    3889.0   2089.0    5978\n",
      "6.0       0.667477  0.332523    2746.0   1368.0    4114\n",
      "7.0       0.705461  0.294539    1873.0    782.0    2655\n",
      "8.0       0.714819  0.285181    1341.0    535.0    1876\n",
      "9.0       0.740482  0.259518     953.0    334.0    1287\n",
      "10.0      0.781065  0.218935     792.0    222.0    1014\n",
      "11.0      0.828076  0.171924     525.0    109.0     634\n",
      "12.0      0.841121  0.158879     450.0     85.0     535\n",
      "13.0      0.911616  0.088384     361.0     35.0     396\n",
      "14.0      0.936232  0.063768     323.0     22.0     345\n",
      "15.0      0.929134  0.070866     236.0     18.0     254\n",
      "16.0      0.928934  0.071066     183.0     14.0     197\n",
      "17.0      0.977654  0.022346     175.0      4.0     179\n",
      "18.0      0.982353  0.017647     167.0      3.0     170\n",
      "19.0      0.980000  0.020000      98.0      2.0     100\n",
      "20.0      0.981651  0.018349     107.0      2.0     109\n",
      "21.0      0.986667  0.013333      74.0      1.0      75\n",
      "22.0      1.000000  0.000000      67.0      0.0      67\n",
      "23.0      0.955224  0.044776      64.0      3.0      67\n",
      "24.0      0.973684  0.026316      37.0      1.0      38\n",
      "25.0      1.000000  0.000000      32.0      0.0      32\n",
      "26.0      1.000000  0.000000      16.0      0.0      16\n",
      "27.0      1.000000  0.000000      12.0      0.0      12\n",
      "28.0      1.000000  0.000000       8.0      0.0       8\n",
      "29.0      1.000000  0.000000       7.0      0.0       7\n",
      "30.0      1.000000  0.000000       9.0      0.0       9\n",
      "31.0      1.000000  0.000000       2.0      0.0       2\n",
      "32.0      1.000000  0.000000       4.0      0.0       4\n",
      "33.0      1.000000  0.000000       1.0      0.0       1\n",
      "34.0      1.000000  0.000000       3.0      0.0       3\n",
      "36.0      1.000000  0.000000       2.0      0.0       2\n",
      "37.0      1.000000  0.000000       2.0      0.0       2\n",
      "38.0      1.000000  0.000000       1.0      0.0       1\n",
      "41.0      1.000000  0.000000       2.0      0.0       2\n",
      "42.0      1.000000  0.000000       1.0      0.0       1\n",
      "44.0      1.000000  0.000000       1.0      0.0       1\n",
      "51.0      1.000000  0.000000       2.0      0.0       2\n"
     ]
    }
   ],
   "source": [
    "value_counts_ratio(train, '저장된_배아_수')"
   ]
  },
  {
   "cell_type": "markdown",
   "metadata": {},
   "source": [
    "### 45. 미세주입_후_저장된_배아_수"
   ]
  },
  {
   "cell_type": "markdown",
   "metadata": {},
   "source": [
    "ICSI 처리된 배아 중 저장된 배아의 수"
   ]
  },
  {
   "cell_type": "code",
   "execution_count": 281,
   "metadata": {},
   "outputs": [
    {
     "name": "stdout",
     "output_type": "stream",
     "text": [
      "\n",
      "미세주입_후_저장된_배아_수별 임신_성공_여부 비율 및 갯수\n",
      "\n",
      "                 0         1         0        1   Total\n",
      "variable                                               \n",
      "0.0       0.755902  0.244098  154421.0  49866.0  204287\n",
      "1.0       0.653485  0.346515    8064.0   4276.0   12340\n",
      "2.0       0.624791  0.375209    7092.0   4259.0   11351\n",
      "3.0       0.633647  0.366353    4708.0   2722.0    7430\n",
      "4.0       0.645731  0.354269    3146.0   1726.0    4872\n",
      "5.0       0.656188  0.343812    1983.0   1039.0    3022\n",
      "6.0       0.673375  0.326625    1305.0    633.0    1938\n",
      "7.0       0.741986  0.258014     949.0    330.0    1279\n",
      "8.0       0.741419  0.258581     648.0    226.0     874\n",
      "9.0       0.768233  0.231767     474.0    143.0     617\n",
      "10.0      0.830835  0.169165     388.0     79.0     467\n",
      "11.0      0.851724  0.148276     247.0     43.0     290\n",
      "12.0      0.853282  0.146718     221.0     38.0     259\n",
      "13.0      0.925000  0.075000     185.0     15.0     200\n",
      "14.0      0.971429  0.028571     170.0      5.0     175\n",
      "15.0      0.968750  0.031250     124.0      4.0     128\n",
      "16.0      0.951923  0.048077      99.0      5.0     104\n",
      "17.0      0.975000  0.025000      78.0      2.0      80\n",
      "18.0      0.975309  0.024691      79.0      2.0      81\n",
      "19.0      0.980769  0.019231      51.0      1.0      52\n",
      "20.0      1.000000  0.000000      44.0      0.0      44\n",
      "21.0      1.000000  0.000000      31.0      0.0      31\n",
      "22.0      1.000000  0.000000      32.0      0.0      32\n",
      "23.0      0.968750  0.031250      31.0      1.0      32\n",
      "24.0      1.000000  0.000000      19.0      0.0      19\n",
      "25.0      1.000000  0.000000      17.0      0.0      17\n",
      "26.0      1.000000  0.000000       4.0      0.0       4\n",
      "27.0      1.000000  0.000000       8.0      0.0       8\n",
      "28.0      1.000000  0.000000       3.0      0.0       3\n",
      "29.0      1.000000  0.000000       4.0      0.0       4\n",
      "30.0      1.000000  0.000000       4.0      0.0       4\n",
      "32.0      1.000000  0.000000       2.0      0.0       2\n",
      "34.0      1.000000  0.000000       1.0      0.0       1\n",
      "38.0      1.000000  0.000000       1.0      0.0       1\n",
      "41.0      1.000000  0.000000       1.0      0.0       1\n",
      "42.0      1.000000  0.000000       1.0      0.0       1\n",
      "43.0      1.000000  0.000000       1.0      0.0       1\n",
      "51.0      1.000000  0.000000       1.0      0.0       1\n"
     ]
    }
   ],
   "source": [
    "value_counts_ratio(train, '미세주입_후_저장된_배아_수')"
   ]
  },
  {
   "cell_type": "markdown",
   "metadata": {},
   "source": [
    "### 46. 해동된_배아_수"
   ]
  },
  {
   "cell_type": "markdown",
   "metadata": {},
   "source": [
    "동결 해동된 배아의 수"
   ]
  },
  {
   "cell_type": "code",
   "execution_count": 282,
   "metadata": {},
   "outputs": [
    {
     "name": "stdout",
     "output_type": "stream",
     "text": [
      "\n",
      "해동된_배아_수별 임신_성공_여부 비율 및 갯수\n",
      "\n",
      "                 0         1         0        1   Total\n",
      "variable                                               \n",
      "0.0       0.732014  0.267986  153480.0  56188.0  209668\n",
      "1.0       0.784757  0.215243   10245.0   2810.0   13055\n",
      "2.0       0.761242  0.238758    9192.0   2883.0   12075\n",
      "3.0       0.794957  0.205043    4288.0   1106.0    5394\n",
      "4.0       0.778679  0.221321    2688.0    764.0    3452\n",
      "5.0       0.766133  0.233867    1484.0    453.0    1937\n",
      "6.0       0.752502  0.247498    1128.0    371.0    1499\n",
      "7.0       0.759463  0.240537     622.0    197.0     819\n",
      "8.0       0.699068  0.300932     525.0    226.0     751\n",
      "9.0       0.672330  0.327670     277.0    135.0     412\n",
      "10.0      0.741279  0.258721     255.0     89.0     344\n",
      "11.0      0.756410  0.243590     118.0     38.0     156\n",
      "12.0      0.673611  0.326389      97.0     47.0     144\n",
      "13.0      0.679012  0.320988      55.0     26.0      81\n",
      "14.0      0.720000  0.280000      54.0     21.0      75\n",
      "15.0      0.714286  0.285714      30.0     12.0      42\n",
      "16.0      0.574468  0.425532      27.0     20.0      47\n",
      "17.0      0.740741  0.259259      20.0      7.0      27\n",
      "18.0      0.750000  0.250000      18.0      6.0      24\n",
      "19.0      0.812500  0.187500      13.0      3.0      16\n",
      "20.0      0.600000  0.400000       3.0      2.0       5\n",
      "21.0      0.428571  0.571429       3.0      4.0       7\n",
      "22.0      0.500000  0.500000       3.0      3.0       6\n",
      "23.0      0.600000  0.400000       3.0      2.0       5\n",
      "24.0      0.750000  0.250000       3.0      1.0       4\n",
      "26.0      0.800000  0.200000       4.0      1.0       5\n",
      "30.0      1.000000  0.000000       1.0      0.0       1\n",
      "32.0      1.000000  0.000000       1.0      0.0       1\n"
     ]
    }
   ],
   "source": [
    "value_counts_ratio(train, '해동된_배아_수')"
   ]
  },
  {
   "cell_type": "markdown",
   "metadata": {},
   "source": [
    "### 47. 해동_난자_수"
   ]
  },
  {
   "cell_type": "markdown",
   "metadata": {},
   "source": [
    "동결 해동된 난자의 수"
   ]
  },
  {
   "cell_type": "code",
   "execution_count": 283,
   "metadata": {},
   "outputs": [
    {
     "name": "stdout",
     "output_type": "stream",
     "text": [
      "\n",
      "해동_난자_수별 임신_성공_여부 비율 및 갯수\n",
      "\n",
      "                 0         1         0        1   Total\n",
      "variable                                               \n",
      "0.0       0.738165  0.261835  183513.0  65094.0  248607\n",
      "1.0       0.923077  0.076923      24.0      2.0      26\n",
      "2.0       0.907692  0.092308      59.0      6.0      65\n",
      "3.0       0.907692  0.092308      59.0      6.0      65\n",
      "4.0       0.892308  0.107692     116.0     14.0     130\n",
      "5.0       0.859813  0.140187      92.0     15.0     107\n",
      "6.0       0.801170  0.198830     137.0     34.0     171\n",
      "7.0       0.713287  0.286713     102.0     41.0     143\n",
      "8.0       0.703196  0.296804     154.0     65.0     219\n",
      "9.0       0.780952  0.219048      82.0     23.0     105\n",
      "10.0      0.769231  0.230769      70.0     21.0      91\n",
      "11.0      0.761194  0.238806      51.0     16.0      67\n",
      "12.0      0.657143  0.342857      46.0     24.0      70\n",
      "13.0      0.812500  0.187500      26.0      6.0      32\n",
      "14.0      0.613636  0.386364      27.0     17.0      44\n",
      "15.0      0.594595  0.405405      22.0     15.0      37\n",
      "16.0      0.550000  0.450000      11.0      9.0      20\n",
      "17.0      0.785714  0.214286      11.0      3.0      14\n",
      "18.0      0.857143  0.142857       6.0      1.0       7\n",
      "19.0      0.916667  0.083333      11.0      1.0      12\n",
      "20.0      1.000000  0.000000       5.0      0.0       5\n",
      "21.0      1.000000  0.000000       2.0      0.0       2\n",
      "22.0      0.000000  1.000000       0.0      1.0       1\n",
      "23.0      0.500000  0.500000       1.0      1.0       2\n",
      "24.0      1.000000  0.000000       3.0      0.0       3\n",
      "25.0      1.000000  0.000000       1.0      0.0       1\n",
      "26.0      1.000000  0.000000       2.0      0.0       2\n",
      "27.0      1.000000  0.000000       1.0      0.0       1\n",
      "32.0      1.000000  0.000000       1.0      0.0       1\n",
      "33.0      1.000000  0.000000       1.0      0.0       1\n",
      "36.0      1.000000  0.000000       1.0      0.0       1\n"
     ]
    }
   ],
   "source": [
    "value_counts_ratio(train, '해동_난자_수')"
   ]
  },
  {
   "cell_type": "markdown",
   "metadata": {},
   "source": [
    "### 48. 수집된_신선_난자_수"
   ]
  },
  {
   "cell_type": "markdown",
   "metadata": {},
   "source": [
    "신선 난자가 수집된 수"
   ]
  },
  {
   "cell_type": "code",
   "execution_count": 284,
   "metadata": {},
   "outputs": [
    {
     "name": "stdout",
     "output_type": "stream",
     "text": [
      "\n",
      "수집된_신선_난자_수별 임신_성공_여부 비율 및 갯수\n",
      "\n",
      "                 0         1        0        1  Total\n",
      "variable                                             \n",
      "0.0       0.759523  0.240477  40895.0  12948.0  53843\n",
      "1.0       0.948279  0.051721   4602.0    251.0   4853\n",
      "2.0       0.909020  0.090980   5855.0    586.0   6441\n",
      "3.0       0.867346  0.132654   7068.0   1081.0   8149\n",
      "4.0       0.824000  0.176000   8240.0   1760.0  10000\n",
      "5.0       0.790379  0.209621   9102.0   2414.0  11516\n",
      "6.0       0.773797  0.226203   9763.0   2854.0  12617\n",
      "7.0       0.746945  0.253055   9779.0   3313.0  13092\n",
      "8.0       0.725173  0.274827   9668.0   3664.0  13332\n",
      "9.0       0.718030  0.281970   9287.0   3647.0  12934\n",
      "10.0      0.697813  0.302187   8902.0   3855.0  12757\n",
      "11.0      0.682752  0.317248   8178.0   3800.0  11978\n",
      "12.0      0.671998  0.328002   7353.0   3589.0  10942\n",
      "13.0      0.664711  0.335289   6570.0   3314.0   9884\n",
      "14.0      0.668292  0.331708   6032.0   2994.0   9026\n",
      "15.0      0.662559  0.337441   5162.0   2629.0   7791\n",
      "16.0      0.662976  0.337024   4491.0   2283.0   6774\n",
      "17.0      0.657123  0.342877   3787.0   1976.0   5763\n",
      "18.0      0.652200  0.347800   3231.0   1723.0   4954\n",
      "19.0      0.654985  0.345015   2654.0   1398.0   4052\n",
      "20.0      0.672518  0.327482   2337.0   1138.0   3475\n",
      "21.0      0.671208  0.328792   1872.0    917.0   2789\n",
      "22.0      0.693851  0.306149   1591.0    702.0   2293\n",
      "23.0      0.691529  0.308471   1298.0    579.0   1877\n",
      "24.0      0.691793  0.308207   1138.0    507.0   1645\n",
      "25.0      0.717407  0.282593    985.0    388.0   1373\n",
      "26.0      0.763514  0.236486    791.0    245.0   1036\n",
      "27.0      0.776733  0.223267    661.0    190.0    851\n",
      "28.0      0.780220  0.219780    568.0    160.0    728\n",
      "29.0      0.812274  0.187726    450.0    104.0    554\n",
      "30.0      0.806000  0.194000    403.0     97.0    500\n",
      "31.0      0.817694  0.182306    305.0     68.0    373\n",
      "32.0      0.825581  0.174419    284.0     60.0    344\n",
      "33.0      0.858736  0.141264    231.0     38.0    269\n",
      "34.0      0.874439  0.125561    195.0     28.0    223\n",
      "35.0      0.836066  0.163934    153.0     30.0    183\n",
      "36.0      0.904459  0.095541    142.0     15.0    157\n",
      "37.0      0.848485  0.151515    112.0     20.0    132\n",
      "38.0      0.884615  0.115385     92.0     12.0    104\n",
      "39.0      0.937500  0.062500     60.0      4.0     64\n",
      "40.0      0.881579  0.118421     67.0      9.0     76\n",
      "41.0      0.933333  0.066667     42.0      3.0     45\n",
      "42.0      0.897959  0.102041     44.0      5.0     49\n",
      "43.0      0.903226  0.096774     28.0      3.0     31\n",
      "44.0      0.916667  0.083333     22.0      2.0     24\n",
      "45.0      0.782609  0.217391     18.0      5.0     23\n",
      "46.0      1.000000  0.000000     26.0      0.0     26\n",
      "47.0      0.812500  0.187500     13.0      3.0     16\n",
      "48.0      0.800000  0.200000      4.0      1.0      5\n",
      "49.0      0.818182  0.181818      9.0      2.0     11\n",
      "50.0      0.923077  0.076923     12.0      1.0     13\n",
      "51.0      1.000000  0.000000     65.0      0.0     65\n"
     ]
    }
   ],
   "source": [
    "value_counts_ratio(train, '수집된_신선_난자_수')"
   ]
  },
  {
   "cell_type": "markdown",
   "metadata": {},
   "source": [
    "### 49. 저장된_신선_난자_수"
   ]
  },
  {
   "cell_type": "markdown",
   "metadata": {},
   "source": [
    "저장된 신선 난자의 수"
   ]
  },
  {
   "cell_type": "code",
   "execution_count": 285,
   "metadata": {},
   "outputs": [
    {
     "name": "stdout",
     "output_type": "stream",
     "text": [
      "\n",
      "저장된_신선_난자_수별 임신_성공_여부 비율 및 갯수\n",
      "\n",
      "                 0         1         0        1   Total\n",
      "variable                                               \n",
      "0.0       0.735750  0.264250  182015.0  65372.0  247387\n",
      "1.0       0.972414  0.027586     141.0      4.0     145\n",
      "2.0       0.989418  0.010582     187.0      2.0     189\n",
      "3.0       0.985075  0.014925     198.0      3.0     201\n",
      "4.0       0.980392  0.019608     200.0      4.0     204\n",
      "5.0       0.972350  0.027650     211.0      6.0     217\n",
      "6.0       0.981308  0.018692     210.0      4.0     214\n",
      "7.0       0.977778  0.022222     176.0      4.0     180\n",
      "8.0       0.994536  0.005464     182.0      1.0     183\n",
      "9.0       0.979592  0.020408     144.0      3.0     147\n",
      "10.0      0.993197  0.006803     146.0      1.0     147\n",
      "11.0      0.967213  0.032787     118.0      4.0     122\n",
      "12.0      0.982609  0.017391     113.0      2.0     115\n",
      "13.0      1.000000  0.000000      85.0      0.0      85\n",
      "14.0      0.977273  0.022727      86.0      2.0      88\n",
      "15.0      0.987342  0.012658      78.0      1.0      79\n",
      "16.0      0.982456  0.017544      56.0      1.0      57\n",
      "17.0      1.000000  0.000000      50.0      0.0      50\n",
      "18.0      1.000000  0.000000      50.0      0.0      50\n",
      "19.0      0.966667  0.033333      29.0      1.0      30\n",
      "20.0      1.000000  0.000000      22.0      0.0      22\n",
      "21.0      1.000000  0.000000      17.0      0.0      17\n",
      "22.0      1.000000  0.000000      21.0      0.0      21\n",
      "23.0      1.000000  0.000000      18.0      0.0      18\n",
      "24.0      1.000000  0.000000      15.0      0.0      15\n",
      "25.0      1.000000  0.000000      14.0      0.0      14\n",
      "26.0      1.000000  0.000000      10.0      0.0      10\n",
      "27.0      1.000000  0.000000      12.0      0.0      12\n",
      "28.0      1.000000  0.000000       6.0      0.0       6\n",
      "29.0      1.000000  0.000000       4.0      0.0       4\n",
      "30.0      1.000000  0.000000       4.0      0.0       4\n",
      "31.0      1.000000  0.000000       2.0      0.0       2\n",
      "32.0      1.000000  0.000000       5.0      0.0       5\n",
      "33.0      1.000000  0.000000       1.0      0.0       1\n",
      "34.0      1.000000  0.000000       3.0      0.0       3\n",
      "35.0      1.000000  0.000000       3.0      0.0       3\n",
      "36.0      1.000000  0.000000       1.0      0.0       1\n",
      "37.0      1.000000  0.000000       1.0      0.0       1\n",
      "40.0      1.000000  0.000000       1.0      0.0       1\n",
      "46.0      1.000000  0.000000       1.0      0.0       1\n",
      "51.0      1.000000  0.000000       1.0      0.0       1\n"
     ]
    }
   ],
   "source": [
    "value_counts_ratio(train, '저장된_신선_난자_수')"
   ]
  },
  {
   "cell_type": "markdown",
   "metadata": {},
   "source": [
    "### 50. 혼합된_난자_수"
   ]
  },
  {
   "cell_type": "markdown",
   "metadata": {},
   "source": [
    "정자와 혼합된 총 난자 수"
   ]
  },
  {
   "cell_type": "code",
   "execution_count": 286,
   "metadata": {},
   "outputs": [
    {
     "name": "stdout",
     "output_type": "stream",
     "text": [
      "\n",
      "혼합된_난자_수별 임신_성공_여부 비율 및 갯수\n",
      "\n",
      "                 0         1        0       1  Total\n",
      "variable                                            \n",
      "0.0       0.803786  0.196214  37495.0  9153.0  46648\n",
      "1.0       0.939370  0.060630   6058.0   391.0   6449\n",
      "2.0       0.892197  0.107803   7970.0   963.0   8933\n",
      "3.0       0.837625  0.162375   9270.0  1797.0  11067\n",
      "4.0       0.794531  0.205469  10808.0  2795.0  13603\n",
      "5.0       0.750419  0.249581  11639.0  3871.0  15510\n",
      "6.0       0.735992  0.264008  12032.0  4316.0  16348\n",
      "7.0       0.714706  0.285294  11416.0  4557.0  15973\n",
      "8.0       0.698027  0.301973  10647.0  4606.0  15253\n",
      "9.0       0.689592  0.310408   9726.0  4378.0  14104\n",
      "10.0      0.672589  0.327411   8745.0  4257.0  13002\n",
      "11.0      0.661431  0.338569   7664.0  3923.0  11587\n",
      "12.0      0.661170  0.338830   6736.0  3452.0  10188\n",
      "13.0      0.646627  0.353373   5636.0  3080.0   8716\n",
      "14.0      0.659124  0.340876   4981.0  2576.0   7557\n",
      "15.0      0.656989  0.343011   4277.0  2233.0   6510\n",
      "16.0      0.647866  0.352134   3446.0  1873.0   5319\n",
      "17.0      0.648966  0.351034   2823.0  1527.0   4350\n",
      "18.0      0.653510  0.346490   2318.0  1229.0   3547\n",
      "19.0      0.663165  0.336835   1894.0   962.0   2856\n",
      "20.0      0.662791  0.337209   1596.0   812.0   2408\n",
      "21.0      0.683663  0.316337   1314.0   608.0   1922\n",
      "22.0      0.694427  0.305573   1109.0   488.0   1597\n",
      "23.0      0.691712  0.308288    893.0   398.0   1291\n",
      "24.0      0.691794  0.308206    725.0   323.0   1048\n",
      "25.0      0.761962  0.238038    637.0   199.0    836\n",
      "26.0      0.760736  0.239264    496.0   156.0    652\n",
      "27.0      0.798883  0.201117    429.0   108.0    537\n",
      "28.0      0.799555  0.200445    359.0    90.0    449\n",
      "29.0      0.780864  0.219136    253.0    71.0    324\n",
      "30.0      0.810036  0.189964    226.0    53.0    279\n",
      "31.0      0.849246  0.150754    169.0    30.0    199\n",
      "32.0      0.830688  0.169312    157.0    32.0    189\n",
      "33.0      0.847682  0.152318    128.0    23.0    151\n",
      "34.0      0.852459  0.147541    104.0    18.0    122\n",
      "35.0      0.827273  0.172727     91.0    19.0    110\n",
      "36.0      0.879518  0.120482     73.0    10.0     83\n",
      "37.0      0.802817  0.197183     57.0    14.0     71\n",
      "38.0      0.868852  0.131148     53.0     8.0     61\n",
      "39.0      0.916667  0.083333     33.0     3.0     36\n",
      "40.0      0.939394  0.060606     31.0     2.0     33\n",
      "41.0      1.000000  0.000000     17.0     0.0     17\n",
      "42.0      0.772727  0.227273     17.0     5.0     22\n",
      "43.0      0.882353  0.117647     15.0     2.0     17\n",
      "44.0      1.000000  0.000000      9.0     0.0      9\n",
      "45.0      0.857143  0.142857      6.0     1.0      7\n",
      "46.0      1.000000  0.000000     12.0     0.0     12\n",
      "47.0      0.875000  0.125000      7.0     1.0      8\n",
      "48.0      1.000000  0.000000      3.0     0.0      3\n",
      "49.0      1.000000  0.000000      5.0     0.0      5\n",
      "50.0      0.800000  0.200000      4.0     1.0      5\n",
      "51.0      0.965517  0.034483     28.0     1.0     29\n"
     ]
    }
   ],
   "source": [
    "value_counts_ratio(train, '혼합된_난자_수')"
   ]
  },
  {
   "cell_type": "markdown",
   "metadata": {},
   "source": [
    "### 51. 파트너_정자와_혼합된_난자_수"
   ]
  },
  {
   "cell_type": "markdown",
   "metadata": {},
   "source": [
    "파트너 정자와 혼합된 난자의 수"
   ]
  },
  {
   "cell_type": "code",
   "execution_count": 287,
   "metadata": {},
   "outputs": [
    {
     "name": "stdout",
     "output_type": "stream",
     "text": [
      "\n",
      "파트너_정자와_혼합된_난자_수별 임신_성공_여부 비율 및 갯수\n",
      "\n",
      "                 0         1        0        1  Total\n",
      "variable                                             \n",
      "0.0       0.782546  0.217454  49237.0  13682.0  62919\n",
      "1.0       0.939346  0.060654   5374.0    347.0   5721\n",
      "2.0       0.892287  0.107713   7207.0    870.0   8077\n",
      "3.0       0.837771  0.162229   8464.0   1639.0  10103\n",
      "4.0       0.796633  0.203367   9891.0   2525.0  12416\n",
      "5.0       0.751072  0.248928  10687.0   3542.0  14229\n",
      "6.0       0.737459  0.262541  11070.0   3941.0  15011\n",
      "7.0       0.717054  0.282946  10545.0   4161.0  14706\n",
      "8.0       0.698579  0.301421   9829.0   4241.0  14070\n",
      "9.0       0.690976  0.309024   9020.0   4034.0  13054\n",
      "10.0      0.674351  0.325649   8103.0   3913.0  12016\n",
      "11.0      0.660474  0.339526   7075.0   3637.0  10712\n",
      "12.0      0.661418  0.338582   6259.0   3204.0   9463\n",
      "13.0      0.646854  0.353146   5202.0   2840.0   8042\n",
      "14.0      0.659744  0.340256   4638.0   2392.0   7030\n",
      "15.0      0.656934  0.343066   3960.0   2068.0   6028\n",
      "16.0      0.649857  0.350143   3183.0   1715.0   4898\n",
      "17.0      0.649341  0.350659   2611.0   1410.0   4021\n",
      "18.0      0.652293  0.347707   2148.0   1145.0   3293\n",
      "19.0      0.661940  0.338060   1774.0    906.0   2680\n",
      "20.0      0.666067  0.333933   1480.0    742.0   2222\n",
      "21.0      0.682478  0.317522   1223.0    569.0   1792\n",
      "22.0      0.700068  0.299932   1034.0    443.0   1477\n",
      "23.0      0.690025  0.309975    837.0    376.0   1213\n",
      "24.0      0.687694  0.312306    665.0    302.0    967\n",
      "25.0      0.762219  0.237781    577.0    180.0    757\n",
      "26.0      0.757525  0.242475    453.0    145.0    598\n",
      "27.0      0.798805  0.201195    401.0    101.0    502\n",
      "28.0      0.792683  0.207317    325.0     85.0    410\n",
      "29.0      0.793220  0.206780    234.0     61.0    295\n",
      "30.0      0.807692  0.192308    210.0     50.0    260\n",
      "31.0      0.846995  0.153005    155.0     28.0    183\n",
      "32.0      0.818713  0.181287    140.0     31.0    171\n",
      "33.0      0.862595  0.137405    113.0     18.0    131\n",
      "34.0      0.849558  0.150442     96.0     17.0    113\n",
      "35.0      0.840000  0.160000     84.0     16.0    100\n",
      "36.0      0.902778  0.097222     65.0      7.0     72\n",
      "37.0      0.796875  0.203125     51.0     13.0     64\n",
      "38.0      0.872340  0.127660     41.0      6.0     47\n",
      "39.0      0.911765  0.088235     31.0      3.0     34\n",
      "40.0      0.935484  0.064516     29.0      2.0     31\n",
      "41.0      1.000000  0.000000     16.0      0.0     16\n",
      "42.0      0.809524  0.190476     17.0      4.0     21\n",
      "43.0      0.882353  0.117647     15.0      2.0     17\n",
      "44.0      1.000000  0.000000      7.0      0.0      7\n",
      "45.0      1.000000  0.000000      5.0      0.0      5\n",
      "46.0      1.000000  0.000000     12.0      0.0     12\n",
      "47.0      0.857143  0.142857      6.0      1.0      7\n",
      "48.0      1.000000  0.000000      3.0      0.0      3\n",
      "49.0      1.000000  0.000000      4.0      0.0      4\n",
      "50.0      1.000000  0.000000      4.0      0.0      4\n",
      "51.0      0.964286  0.035714     27.0      1.0     28\n"
     ]
    }
   ],
   "source": [
    "value_counts_ratio(train, '파트너_정자와_혼합된_난자_수')"
   ]
  },
  {
   "cell_type": "markdown",
   "metadata": {},
   "source": [
    "### 52. 기증자_정자와_혼합된_난자_수"
   ]
  },
  {
   "cell_type": "markdown",
   "metadata": {},
   "source": [
    "기증자 정자와 혼합된 난자의 수"
   ]
  },
  {
   "cell_type": "code",
   "execution_count": 288,
   "metadata": {},
   "outputs": [
    {
     "name": "stdout",
     "output_type": "stream",
     "text": [
      "\n",
      "기증자_정자와_혼합된_난자_수별 임신_성공_여부 비율 및 갯수\n",
      "\n",
      "                 0         1         0        1   Total\n",
      "variable                                               \n",
      "0.0       0.739552  0.260448  173453.0  61085.0  234538\n",
      "1.0       0.937669  0.062331     692.0     46.0     738\n",
      "2.0       0.887486  0.112514     773.0     98.0     871\n",
      "3.0       0.835700  0.164300     824.0    162.0     986\n",
      "4.0       0.770574  0.229426     927.0    276.0    1203\n",
      "5.0       0.738497  0.261503     963.0    341.0    1304\n",
      "6.0       0.715959  0.284041     978.0    388.0    1366\n",
      "7.0       0.691083  0.308917     868.0    388.0    1256\n",
      "8.0       0.692110  0.307890     807.0    359.0    1166\n",
      "9.0       0.671952  0.328048     678.0    331.0    1009\n",
      "10.0      0.647752  0.352248     605.0    329.0     934\n",
      "11.0      0.667892  0.332108     545.0    271.0     816\n",
      "12.0      0.653153  0.346847     435.0    231.0     666\n",
      "13.0      0.636060  0.363940     381.0    218.0     599\n",
      "14.0      0.645702  0.354298     308.0    169.0     477\n",
      "15.0      0.641463  0.358537     263.0    147.0     410\n",
      "16.0      0.621849  0.378151     222.0    135.0     357\n",
      "17.0      0.644689  0.355311     176.0     97.0     273\n",
      "18.0      0.653465  0.346535     132.0     70.0     202\n",
      "19.0      0.675676  0.324324     100.0     48.0     148\n",
      "20.0      0.621622  0.378378      92.0     56.0     148\n",
      "21.0      0.675439  0.324561      77.0     37.0     114\n",
      "22.0      0.625000  0.375000      55.0     33.0      88\n",
      "23.0      0.614035  0.385965      35.0     22.0      57\n",
      "24.0      0.698413  0.301587      44.0     19.0      63\n",
      "25.0      0.741379  0.258621      43.0     15.0      58\n",
      "26.0      0.837838  0.162162      31.0      6.0      37\n",
      "27.0      0.800000  0.200000      20.0      5.0      25\n",
      "28.0      0.846154  0.153846      22.0      4.0      26\n",
      "29.0      0.619048  0.380952      13.0      8.0      21\n",
      "30.0      0.833333  0.166667      10.0      2.0      12\n",
      "31.0      0.833333  0.166667      10.0      2.0      12\n",
      "32.0      0.937500  0.062500      15.0      1.0      16\n",
      "33.0      0.666667  0.333333      10.0      5.0      15\n",
      "34.0      0.800000  0.200000       4.0      1.0       5\n",
      "35.0      0.666667  0.333333       4.0      2.0       6\n",
      "36.0      0.777778  0.222222       7.0      2.0       9\n",
      "37.0      0.800000  0.200000       4.0      1.0       5\n",
      "38.0      0.714286  0.285714       5.0      2.0       7\n",
      "39.0      1.000000  0.000000       2.0      0.0       2\n",
      "40.0      1.000000  0.000000       1.0      0.0       1\n",
      "41.0      1.000000  0.000000       1.0      0.0       1\n",
      "42.0      0.000000  1.000000       0.0      1.0       1\n",
      "45.0      0.000000  1.000000       0.0      1.0       1\n",
      "47.0      1.000000  0.000000       1.0      0.0       1\n",
      "49.0      1.000000  0.000000       1.0      0.0       1\n",
      "50.0      0.000000  1.000000       0.0      1.0       1\n"
     ]
    }
   ],
   "source": [
    "value_counts_ratio(train, '기증자_정자와_혼합된_난자_수')"
   ]
  },
  {
   "cell_type": "code",
   "execution_count": 289,
   "metadata": {},
   "outputs": [],
   "source": [
    "# 1. 임신 성공율 - 이식된 배아 대비 임신 성공 비율\n",
    "train['임신_성공율'] = np.where(train['총_생성_배아_수'] > 0, (train['이식된_배아_수'] / train['총_생성_배아_수']) * 100, 0).round(2)\n",
    "\n",
    "# 2. ICSI 효율성 - 미세주입된 난자 대비 생성된 배아 비율\n",
    "train['ICSI_효율성'] = np.where(train['미세주입된_난자_수'] > 0, (train['미세주입에서_생성된_배아_수'] / train['미세주입된_난자_수']) * 100, 0).round(2)\n",
    "\n",
    "# 3. 저장 배아 비율 - 총 생성 배아 대비 저장된 배아 수 비율\n",
    "train['저장_배아_비율'] = np.where(train['총_생성_배아_수'] > 0, (train['저장된_배아_수'] / train['총_생성_배아_수']) * 100, 0).round(2)\n",
    "\n",
    "# 4. 해동 난자 비율 - 해동된 난자 대비 수집된 신선 난자 비율\n",
    "train['해동_난자_비율'] = np.where(train['수집된_신선_난자_수'] > 0, (train['해동_난자_수'] / train['수집된_신선_난자_수']) * 100, 0).round(2)\n",
    "\n",
    "# 5. 생성 배아 유지율 - ICSI 후 저장된 배아 대비 생성된 배아 비율\n",
    "train['생성_배아_유지율'] = np.where(train['미세주입에서_생성된_배아_수'] > 0, (train['미세주입_후_저장된_배아_수'] / train['미세주입에서_생성된_배아_수']) * 100, 0).round(2)\n",
    "\n",
    "# 6. 파트너 정자 사용 비율 - 혼합된 난자에서 파트너 정자 비율\n",
    "train['파트너_정자_사용_비율'] = np.where(train['혼합된_난자_수'] > 0, (train['파트너_정자와_혼합된_난자_수'] / train['혼합된_난자_수']) * 100, 0).round(2)\n",
    "\n",
    "# test 데이터프레임에도 동일한 파생 변수를 생성\n",
    "test['임신_성공율'] = np.where(test['총_생성_배아_수'] > 0, (test['이식된_배아_수'] / test['총_생성_배아_수']) * 100, 0).round(2)\n",
    "test['ICSI_효율성'] = np.where(test['미세주입된_난자_수'] > 0, (test['미세주입에서_생성된_배아_수'] / test['미세주입된_난자_수']) * 100, 0).round(2)\n",
    "test['저장_배아_비율'] = np.where(test['총_생성_배아_수'] > 0, (test['저장된_배아_수'] / test['총_생성_배아_수']) * 100, 0).round(2)\n",
    "test['해동_난자_비율'] = np.where(test['수집된_신선_난자_수'] > 0, (test['해동_난자_수'] / test['수집된_신선_난자_수']) * 100, 0).round(2)\n",
    "test['생성_배아_유지율'] = np.where(test['미세주입에서_생성된_배아_수'] > 0, (test['미세주입_후_저장된_배아_수'] / test['미세주입에서_생성된_배아_수']) * 100, 0).round(2)\n",
    "test['파트너_정자_사용_비율'] = np.where(test['혼합된_난자_수'] > 0, (test['파트너_정자와_혼합된_난자_수'] / test['혼합된_난자_수']) * 100, 0).round(2)"
   ]
  },
  {
   "cell_type": "markdown",
   "metadata": {},
   "source": [
    "### 53. 난자_출처"
   ]
  },
  {
   "cell_type": "markdown",
   "metadata": {},
   "source": [
    "난자 출처 정보"
   ]
  },
  {
   "cell_type": "code",
   "execution_count": 290,
   "metadata": {},
   "outputs": [
    {
     "name": "stdout",
     "output_type": "stream",
     "text": [
      "\n",
      "난자_출처별 임신_성공_여부 비율 및 갯수\n",
      "\n",
      "                 0         1       0      1   Total\n",
      "variable                                           \n",
      "기증 제공     0.684571  0.315429   10795   4974   15769\n",
      "본인 제공     0.742017  0.257983  173842  60441  234283\n"
     ]
    }
   ],
   "source": [
    "value_counts_ratio(train, '난자_출처')"
   ]
  },
  {
   "cell_type": "code",
   "execution_count": 291,
   "metadata": {},
   "outputs": [
    {
     "data": {
      "text/plain": [
       "본인 제공    82397\n",
       "기증 제공     5494\n",
       "Name: 난자_출처, dtype: int64"
      ]
     },
     "execution_count": 291,
     "metadata": {},
     "output_type": "execute_result"
    }
   ],
   "source": [
    "test['난자_출처'].value_counts()"
   ]
  },
  {
   "cell_type": "markdown",
   "metadata": {},
   "source": [
    "### 54. 정자_출처"
   ]
  },
  {
   "cell_type": "markdown",
   "metadata": {},
   "source": [
    "정자 출처 정보"
   ]
  },
  {
   "cell_type": "code",
   "execution_count": 292,
   "metadata": {},
   "outputs": [
    {
     "name": "stdout",
     "output_type": "stream",
     "text": [
      "\n",
      "정자_출처별 임신_성공_여부 비율 및 갯수\n",
      "\n",
      "                    0         1         0        1   Total\n",
      "variable                                                  \n",
      "기증 제공        0.721399  0.278601   14951.0   5774.0   20725\n",
      "미할당          0.893443  0.106557     109.0     13.0     122\n",
      "배우자 및 기증 제공  1.000000  0.000000      14.0      0.0      14\n",
      "배우자 제공       0.739833  0.260167  169563.0  59628.0  229191\n"
     ]
    }
   ],
   "source": [
    "value_counts_ratio(train, '정자_출처')"
   ]
  },
  {
   "cell_type": "code",
   "execution_count": 293,
   "metadata": {},
   "outputs": [
    {
     "data": {
      "text/plain": [
       "배우자 제공         80569\n",
       "기증 제공           7284\n",
       "미할당               33\n",
       "배우자 및 기증 제공        5\n",
       "Name: 정자_출처, dtype: int64"
      ]
     },
     "execution_count": 293,
     "metadata": {},
     "output_type": "execute_result"
    }
   ],
   "source": [
    "test['정자_출처'].value_counts()"
   ]
  },
  {
   "cell_type": "markdown",
   "metadata": {},
   "source": [
    "### 55. 난자_기증자_나이"
   ]
  },
  {
   "cell_type": "markdown",
   "metadata": {},
   "source": [
    "난자 기증자의 등록 당시 나이"
   ]
  },
  {
   "cell_type": "code",
   "execution_count": 294,
   "metadata": {},
   "outputs": [
    {
     "name": "stdout",
     "output_type": "stream",
     "text": [
      "\n",
      "난자_기증자_나이별 임신_성공_여부 비율 및 갯수\n",
      "\n",
      "                 0         1       0      1   Total\n",
      "variable                                           \n",
      "만20세 이하   0.738095  0.261905     217     77     294\n",
      "만21-25세   0.670094  0.329906    1564    770    2334\n",
      "만26-30세   0.651728  0.348272    3243   1733    4976\n",
      "만31-35세   0.694785  0.305215    4423   1943    6366\n",
      "알 수 없음    0.742073  0.257927  175190  60892  236082\n"
     ]
    }
   ],
   "source": [
    "value_counts_ratio(train, '난자_기증자_나이')"
   ]
  },
  {
   "cell_type": "markdown",
   "metadata": {},
   "source": [
    "### 56. 정자_기증자_나이"
   ]
  },
  {
   "cell_type": "markdown",
   "metadata": {},
   "source": [
    "정자 기증자의 등록 당시 나이"
   ]
  },
  {
   "cell_type": "code",
   "execution_count": 295,
   "metadata": {},
   "outputs": [
    {
     "name": "stdout",
     "output_type": "stream",
     "text": [
      "\n",
      "정자_기증자_나이별 임신_성공_여부 비율 및 갯수\n",
      "\n",
      "                 0         1       0      1   Total\n",
      "variable                                           \n",
      "만20세 이하   0.761842  0.238158     579    181     760\n",
      "만21-25세   0.727231  0.272769    3202   1201    4403\n",
      "만26-30세   0.715022  0.284978    2775   1106    3881\n",
      "만31-35세   0.717001  0.282999    2716   1072    3788\n",
      "만36-40세   0.717344  0.282656    2949   1162    4111\n",
      "만41-45세   0.723903  0.276097    2129    812    2941\n",
      "알 수 없음    0.739838  0.260162  170287  59881  230168\n"
     ]
    }
   ],
   "source": [
    "value_counts_ratio(train, '정자_기증자_나이')"
   ]
  },
  {
   "cell_type": "code",
   "execution_count": 296,
   "metadata": {},
   "outputs": [
    {
     "name": "stdout",
     "output_type": "stream",
     "text": [
      "Grouped by: 난자_기증자_나이, 정자_기증자_나이\n",
      "\n",
      "                 group  '임신_성공_여부' count     ratio   Total\n",
      "0   (만20세 이하, 만21-25세)                 0  0.000000       6\n",
      "1   (만20세 이하, 만26-30세)                 1  0.100000      10\n",
      "2   (만20세 이하, 만31-35세)                 3  0.333333       9\n",
      "3   (만20세 이하, 만36-40세)                 4  0.250000      16\n",
      "4   (만20세 이하, 만41-45세)                 3  0.428571       7\n",
      "5    (만20세 이하, 알 수 없음)                66  0.268293     246\n",
      "6   (만21-25세, 만20세 이하)                 3  0.142857      21\n",
      "7   (만21-25세, 만21-25세)                25  0.373134      67\n",
      "8   (만21-25세, 만26-30세)                16  0.285714      56\n",
      "9   (만21-25세, 만31-35세)                20  0.392157      51\n",
      "10  (만21-25세, 만36-40세)                23  0.338235      68\n",
      "11  (만21-25세, 만41-45세)                18  0.367347      49\n",
      "12   (만21-25세, 알 수 없음)               665  0.328882    2022\n",
      "13  (만26-30세, 만20세 이하)                 9  0.346154      26\n",
      "14  (만26-30세, 만21-25세)                54  0.377622     143\n",
      "15  (만26-30세, 만26-30세)                64  0.359551     178\n",
      "16  (만26-30세, 만31-35세)                70  0.404624     173\n",
      "17  (만26-30세, 만36-40세)                58  0.364780     159\n",
      "18  (만26-30세, 만41-45세)                29  0.318681      91\n",
      "19   (만26-30세, 알 수 없음)              1449  0.344508    4206\n",
      "20  (만31-35세, 만20세 이하)                 8  0.235294      34\n",
      "21  (만31-35세, 만21-25세)                76  0.393782     193\n",
      "22  (만31-35세, 만26-30세)                75  0.308642     243\n",
      "23  (만31-35세, 만31-35세)                96  0.339223     283\n",
      "24  (만31-35세, 만36-40세)                81  0.281250     288\n",
      "25  (만31-35세, 만41-45세)                50  0.316456     158\n",
      "26   (만31-35세, 알 수 없음)              1557  0.301335    5167\n",
      "27   (알 수 없음, 만20세 이하)               161  0.237113     679\n",
      "28   (알 수 없음, 만21-25세)              1046  0.261893    3994\n",
      "29   (알 수 없음, 만26-30세)               950  0.279906    3394\n",
      "30   (알 수 없음, 만31-35세)               883  0.269866    3272\n",
      "31   (알 수 없음, 만36-40세)               996  0.278212    3580\n",
      "32   (알 수 없음, 만41-45세)               712  0.270106    2636\n",
      "33    (알 수 없음, 알 수 없음)             56144  0.256920  218527\n"
     ]
    }
   ],
   "source": [
    "summarize_group(train, ['난자_기증자_나이', '정자_기증자_나이'])"
   ]
  },
  {
   "cell_type": "code",
   "execution_count": 297,
   "metadata": {},
   "outputs": [],
   "source": [
    "# 그룹화하여 임신_성공_여부 비율 계산\n",
    "grouped = train.groupby(['난자_기증자_나이', '정자_기증자_나이']).agg(\n",
    "    count=('임신_성공_여부', 'sum'),\n",
    "    Total=('임신_성공_여부', 'size')\n",
    ").reset_index()\n",
    "\n",
    "grouped['ratio'] = grouped['count'] / grouped['Total']\n",
    "grouped['기증자_나이_더미'] = (grouped['ratio'] >= 0.28).astype(int)\n",
    "\n",
    "# 원본 train 데이터프레임에 더미 변수 추가\n",
    "train = train.merge(grouped[['난자_기증자_나이', '정자_기증자_나이', '기증자_나이_더미']], on=['난자_기증자_나이', '정자_기증자_나이'], how='left')\n",
    "\n",
    "# test 데이터프레임에 더미 변수 추가\n",
    "test = test.merge(grouped[['난자_기증자_나이', '정자_기증자_나이', '기증자_나이_더미']], on=['난자_기증자_나이', '정자_기증자_나이'], how='left')\n",
    "\n",
    "# 결측값을 0으로 채우기 (해당 조합이 train 데이터에 없을 경우)\n",
    "test['기증자_나이_더미'] = test['기증자_나이_더미'].fillna(0).astype(int)"
   ]
  },
  {
   "cell_type": "code",
   "execution_count": 298,
   "metadata": {},
   "outputs": [
    {
     "name": "stdout",
     "output_type": "stream",
     "text": [
      "\n",
      "기증자_나이_더미별 임신_성공_여부 비율 및 갯수\n",
      "\n",
      "                 0         1       0      1   Total\n",
      "variable                                           \n",
      "0         0.742089  0.257911  175441  60974  236415\n",
      "1         0.674342  0.325658    9196   4441   13637\n"
     ]
    }
   ],
   "source": [
    "value_counts_ratio(train, '기증자_나이_더미')"
   ]
  },
  {
   "cell_type": "code",
   "execution_count": 299,
   "metadata": {},
   "outputs": [
    {
     "data": {
      "text/plain": [
       "0    83132\n",
       "1     4759\n",
       "Name: 기증자_나이_더미, dtype: int64"
      ]
     },
     "execution_count": 299,
     "metadata": {},
     "output_type": "execute_result"
    }
   ],
   "source": [
    "test['기증자_나이_더미'].value_counts()"
   ]
  },
  {
   "cell_type": "code",
   "execution_count": 300,
   "metadata": {},
   "outputs": [],
   "source": [
    "# summarize_group(train, ['난자_기증자_나이', '정자_기증자_나이', '기증자_나이_더미'])"
   ]
  },
  {
   "cell_type": "markdown",
   "metadata": {},
   "source": [
    "### 57. 동결_배아_사용_여부"
   ]
  },
  {
   "cell_type": "markdown",
   "metadata": {},
   "source": [
    "동결 배아가 사용되었는지 여부"
   ]
  },
  {
   "cell_type": "code",
   "execution_count": 301,
   "metadata": {},
   "outputs": [
    {
     "name": "stdout",
     "output_type": "stream",
     "text": [
      "\n",
      "동결_배아_사용_여부별 임신_성공_여부 비율 및 갯수\n",
      "\n",
      "                 0         1       0      1   Total\n",
      "variable                                           \n",
      "0.0       0.732235  0.267765  153716  56211  209927\n",
      "1.0       0.770617  0.229383   30921   9204   40125\n"
     ]
    }
   ],
   "source": [
    "value_counts_ratio(train, '동결_배아_사용_여부')"
   ]
  },
  {
   "cell_type": "markdown",
   "metadata": {},
   "source": [
    "### 58. 신선_배아_사용_여부"
   ]
  },
  {
   "cell_type": "markdown",
   "metadata": {},
   "source": [
    "신선 배아가 사용되었는지 여부"
   ]
  },
  {
   "cell_type": "code",
   "execution_count": 302,
   "metadata": {},
   "outputs": [
    {
     "name": "stdout",
     "output_type": "stream",
     "text": [
      "\n",
      "신선_배아_사용_여부별 임신_성공_여부 비율 및 갯수\n",
      "\n",
      "                 0         1       0      1   Total\n",
      "variable                                           \n",
      "0.0       0.770433  0.229567   30758   9165   39923\n",
      "1.0       0.732307  0.267693  153879  56250  210129\n"
     ]
    }
   ],
   "source": [
    "value_counts_ratio(train, '신선_배아_사용_여부')"
   ]
  },
  {
   "cell_type": "markdown",
   "metadata": {},
   "source": [
    "### 59. 기증_배아_사용_여부"
   ]
  },
  {
   "cell_type": "markdown",
   "metadata": {},
   "source": [
    "기증 배아가 사용되었는지 여부"
   ]
  },
  {
   "cell_type": "code",
   "execution_count": 303,
   "metadata": {},
   "outputs": [
    {
     "name": "stdout",
     "output_type": "stream",
     "text": [
      "\n",
      "기증_배아_사용_여부별 임신_성공_여부 비율 및 갯수\n",
      "\n",
      "                 0         1       0      1   Total\n",
      "variable                                           \n",
      "0.0       0.739049  0.260951  182984  64610  247594\n",
      "1.0       0.672498  0.327502    1653    805    2458\n"
     ]
    }
   ],
   "source": [
    "value_counts_ratio(train, '기증_배아_사용_여부')"
   ]
  },
  {
   "cell_type": "code",
   "execution_count": 304,
   "metadata": {},
   "outputs": [
    {
     "name": "stdout",
     "output_type": "stream",
     "text": [
      "Grouped by: 신선_배아_사용_여부, 동결_배아_사용_여부, 기증_배아_사용_여부\n",
      "\n",
      "             group  '임신_성공_여부' count     ratio   Total\n",
      "0  (0.0, 0.0, 0.0)                 1  0.333333       3\n",
      "1  (0.0, 1.0, 0.0)              8916  0.229009   38933\n",
      "2  (0.0, 1.0, 1.0)               248  0.251266     987\n",
      "3  (1.0, 0.0, 0.0)             55653  0.266981  208453\n",
      "4  (1.0, 0.0, 1.0)               557  0.378654    1471\n",
      "5  (1.0, 1.0, 0.0)                40  0.195122     205\n"
     ]
    }
   ],
   "source": [
    "summarize_group(train, ['신선_배아_사용_여부', '동결_배아_사용_여부', '기증_배아_사용_여부'])"
   ]
  },
  {
   "cell_type": "markdown",
   "metadata": {},
   "source": [
    "### 60. 대리모_여부"
   ]
  },
  {
   "cell_type": "markdown",
   "metadata": {},
   "source": [
    "환자가 대리모로 활동했는지 여부"
   ]
  },
  {
   "cell_type": "code",
   "execution_count": 305,
   "metadata": {},
   "outputs": [
    {
     "name": "stdout",
     "output_type": "stream",
     "text": [
      "\n",
      "대리모_여부별 임신_성공_여부 비율 및 갯수\n",
      "\n",
      "                 0         1       0      1   Total\n",
      "variable                                           \n",
      "0.0       0.738509  0.261491  183891  65112  249003\n",
      "1.0       0.711153  0.288847     746    303    1049\n"
     ]
    }
   ],
   "source": [
    "value_counts_ratio(train, '대리모_여부')"
   ]
  },
  {
   "cell_type": "markdown",
   "metadata": {},
   "source": [
    "### 61. PGD_시술_여부"
   ]
  },
  {
   "cell_type": "markdown",
   "metadata": {},
   "source": [
    "해당 주기가 PGD 치료로 분류되는지 여부"
   ]
  },
  {
   "cell_type": "code",
   "execution_count": 306,
   "metadata": {},
   "outputs": [
    {
     "name": "stdout",
     "output_type": "stream",
     "text": [
      "\n",
      "PGD_시술_여부별 임신_성공_여부 비율 및 갯수\n",
      "\n",
      "                 0         1     0    1  Total\n",
      "variable                                      \n",
      "1.0       0.720514  0.279486  1570  609   2179\n"
     ]
    }
   ],
   "source": [
    "value_counts_ratio(train, 'PGD_시술_여부')"
   ]
  },
  {
   "cell_type": "code",
   "execution_count": 307,
   "metadata": {},
   "outputs": [
    {
     "data": {
      "text/plain": [
       "247873"
      ]
     },
     "execution_count": 307,
     "metadata": {},
     "output_type": "execute_result"
    }
   ],
   "source": [
    "train['PGD_시술_여부'].isnull().sum()"
   ]
  },
  {
   "cell_type": "code",
   "execution_count": 308,
   "metadata": {},
   "outputs": [
    {
     "name": "stdout",
     "output_type": "stream",
     "text": [
      "결측값 개수: 247873\n",
      "결측값 개수: 0\n"
     ]
    }
   ],
   "source": [
    "# 결측값 개수 확인\n",
    "print(\"결측값 개수:\", train['PGD_시술_여부'].isnull().sum())\n",
    "\n",
    "# 결측값을 0으로 채우기\n",
    "train['PGD_시술_여부'].fillna(0, inplace=True)\n",
    "test['PGD_시술_여부'].fillna(0, inplace=True)\n",
    "\n",
    "# 결측값 개수 확인\n",
    "print(\"결측값 개수:\", train['PGD_시술_여부'].isnull().sum())"
   ]
  },
  {
   "cell_type": "markdown",
   "metadata": {},
   "source": [
    "### 62. PGS_시술_여부"
   ]
  },
  {
   "cell_type": "markdown",
   "metadata": {},
   "source": [
    "해당 주기가 PGS 치료로 분류되는지 여부"
   ]
  },
  {
   "cell_type": "code",
   "execution_count": 309,
   "metadata": {},
   "outputs": [
    {
     "name": "stdout",
     "output_type": "stream",
     "text": [
      "\n",
      "PGS_시술_여부별 임신_성공_여부 비율 및 갯수\n",
      "\n",
      "                 0         1     0    1  Total\n",
      "variable                                      \n",
      "1.0       0.793675  0.206325  1531  398   1929\n"
     ]
    }
   ],
   "source": [
    "value_counts_ratio(train, 'PGS_시술_여부')"
   ]
  },
  {
   "cell_type": "code",
   "execution_count": 310,
   "metadata": {},
   "outputs": [
    {
     "name": "stdout",
     "output_type": "stream",
     "text": [
      "결측값 개수: 248123\n",
      "결측값 개수: 0\n"
     ]
    }
   ],
   "source": [
    "# 결측값 개수 확인\n",
    "print(\"결측값 개수:\", train['PGS_시술_여부'].isnull().sum())\n",
    "\n",
    "# 결측값을 0으로 채우기\n",
    "train['PGS_시술_여부'].fillna(0, inplace=True)\n",
    "test['PGS_시술_여부'].fillna(0, inplace=True)\n",
    "\n",
    "# 결측값 개수 확인\n",
    "print(\"결측값 개수:\", train['PGS_시술_여부'].isnull().sum())"
   ]
  },
  {
   "cell_type": "code",
   "execution_count": 311,
   "metadata": {},
   "outputs": [
    {
     "name": "stdout",
     "output_type": "stream",
     "text": [
      "Grouped by: PGD_시술_여부, PGS_시술_여부\n",
      "\n",
      "        group  '임신_성공_여부' count     ratio   Total\n",
      "0  (0.0, 0.0)             64408  0.261881  245944\n",
      "1  (0.0, 1.0)               398  0.206325    1929\n",
      "2  (1.0, 0.0)               609  0.279486    2179\n"
     ]
    }
   ],
   "source": [
    "summarize_group(train, ['PGD_시술_여부', 'PGS_시술_여부'])"
   ]
  },
  {
   "cell_type": "markdown",
   "metadata": {},
   "source": [
    "### 63. 난자_채취_경과일"
   ]
  },
  {
   "cell_type": "markdown",
   "metadata": {},
   "source": [
    "첫 시점으로부터 난자 채취까지 경과한 일수"
   ]
  },
  {
   "cell_type": "code",
   "execution_count": 312,
   "metadata": {},
   "outputs": [
    {
     "name": "stdout",
     "output_type": "stream",
     "text": [
      "\n",
      "난자_채취_경과일별 임신_성공_여부 비율 및 갯수\n",
      "\n",
      "                 0         1       0      1   Total\n",
      "variable                                           \n",
      "0.0       0.736181  0.263819  146394  52462  198856\n"
     ]
    }
   ],
   "source": [
    "value_counts_ratio(train, '난자_채취_경과일')"
   ]
  },
  {
   "cell_type": "code",
   "execution_count": 313,
   "metadata": {},
   "outputs": [
    {
     "name": "stdout",
     "output_type": "stream",
     "text": [
      "결측값 개수: 51196\n",
      "결측값 개수: 0\n"
     ]
    }
   ],
   "source": [
    "print(\"결측값 개수:\", train['난자_채취_경과일'].isnull().sum())\n",
    "\n",
    "train['난자_채취_경과일'].fillna(-1, inplace=True)\n",
    "test['난자_채취_경과일'].fillna(-1, inplace=True)\n",
    "\n",
    "print(\"결측값 개수:\", train['난자_채취_경과일'].isnull().sum())"
   ]
  },
  {
   "cell_type": "markdown",
   "metadata": {},
   "source": [
    "### 64. 난자_해동_경과일"
   ]
  },
  {
   "cell_type": "markdown",
   "metadata": {},
   "source": [
    "첫 시점으로부터 난자 해동까지 경과한 일수"
   ]
  },
  {
   "cell_type": "code",
   "execution_count": 314,
   "metadata": {},
   "outputs": [
    {
     "name": "stdout",
     "output_type": "stream",
     "text": [
      "\n",
      "난자_해동_경과일별 임신_성공_여부 비율 및 갯수\n",
      "\n",
      "                 0         1       0      1  Total\n",
      "variable                                          \n",
      "0.0       0.777545  0.222455  1115.0  319.0   1434\n",
      "1.0       1.000000  0.000000     2.0    0.0      2\n"
     ]
    }
   ],
   "source": [
    "value_counts_ratio(train, '난자_해동_경과일')"
   ]
  },
  {
   "cell_type": "code",
   "execution_count": 315,
   "metadata": {},
   "outputs": [
    {
     "data": {
      "text/plain": [
       "248616"
      ]
     },
     "execution_count": 315,
     "metadata": {},
     "output_type": "execute_result"
    }
   ],
   "source": [
    "train['난자_해동_경과일'].isnull().sum()"
   ]
  },
  {
   "cell_type": "code",
   "execution_count": 316,
   "metadata": {},
   "outputs": [
    {
     "name": "stdout",
     "output_type": "stream",
     "text": [
      "결측값 개수: 248616\n",
      "결측값 개수: 0\n"
     ]
    }
   ],
   "source": [
    "print(\"결측값 개수:\", train['난자_해동_경과일'].isnull().sum())\n",
    "\n",
    "train['난자_해동_경과일'].fillna(-1, inplace=True)\n",
    "test['난자_해동_경과일'].fillna(-1, inplace=True)\n",
    "\n",
    "print(\"결측값 개수:\", train['난자_해동_경과일'].isnull().sum())"
   ]
  },
  {
   "cell_type": "markdown",
   "metadata": {},
   "source": [
    "### 65. 난자_혼합_경과일"
   ]
  },
  {
   "cell_type": "markdown",
   "metadata": {},
   "source": [
    "첫 시점으로부터 난자와 정자 혼합까지 경과한 일수"
   ]
  },
  {
   "cell_type": "code",
   "execution_count": 317,
   "metadata": {},
   "outputs": [
    {
     "name": "stdout",
     "output_type": "stream",
     "text": [
      "\n",
      "난자_혼합_경과일별 임신_성공_여부 비율 및 갯수\n",
      "\n",
      "                 0         1         0        1   Total\n",
      "variable                                               \n",
      "0.0       0.722923  0.277077  145969.0  55946.0  201915\n",
      "1.0       0.846311  0.153689     413.0     75.0     488\n",
      "2.0       0.754902  0.245098      77.0     25.0     102\n",
      "3.0       0.720588  0.279412      49.0     19.0      68\n",
      "4.0       0.600000  0.400000       3.0      2.0       5\n",
      "5.0       0.791667  0.208333      19.0      5.0      24\n",
      "6.0       1.000000  0.000000       8.0      0.0       8\n",
      "7.0       1.000000  0.000000       1.0      0.0       1\n"
     ]
    }
   ],
   "source": [
    "value_counts_ratio(train, '난자_혼합_경과일')"
   ]
  },
  {
   "cell_type": "code",
   "execution_count": 318,
   "metadata": {},
   "outputs": [
    {
     "data": {
      "text/plain": [
       "47441"
      ]
     },
     "execution_count": 318,
     "metadata": {},
     "output_type": "execute_result"
    }
   ],
   "source": [
    "train['난자_혼합_경과일'].isnull().sum()"
   ]
  },
  {
   "cell_type": "code",
   "execution_count": 319,
   "metadata": {},
   "outputs": [
    {
     "name": "stdout",
     "output_type": "stream",
     "text": [
      "결측값 개수: 47441\n",
      "결측값 개수: 0\n"
     ]
    }
   ],
   "source": [
    "print(\"결측값 개수:\", train['난자_혼합_경과일'].isnull().sum())\n",
    "\n",
    "train['난자_혼합_경과일'].fillna(-1, inplace=True)\n",
    "test['난자_혼합_경과일'].fillna(-1, inplace=True)\n",
    "\n",
    "print(\"결측값 개수:\", train['난자_혼합_경과일'].isnull().sum())"
   ]
  },
  {
   "cell_type": "code",
   "execution_count": 320,
   "metadata": {},
   "outputs": [
    {
     "name": "stdout",
     "output_type": "stream",
     "text": [
      "\n",
      "난자_혼합_경과일별 임신_성공_여부 비율 및 갯수\n",
      "\n",
      "                 0         1         0        1   Total\n",
      "variable                                               \n",
      "-1.0      0.803061  0.196939   38098.0   9343.0   47441\n",
      " 0.0      0.722923  0.277077  145969.0  55946.0  201915\n",
      " 1.0      0.846311  0.153689     413.0     75.0     488\n",
      " 2.0      0.754902  0.245098      77.0     25.0     102\n",
      " 3.0      0.720588  0.279412      49.0     19.0      68\n",
      " 4.0      0.600000  0.400000       3.0      2.0       5\n",
      " 5.0      0.791667  0.208333      19.0      5.0      24\n",
      " 6.0      1.000000  0.000000       8.0      0.0       8\n",
      " 7.0      1.000000  0.000000       1.0      0.0       1\n"
     ]
    }
   ],
   "source": [
    "value_counts_ratio(train, '난자_혼합_경과일')"
   ]
  },
  {
   "cell_type": "markdown",
   "metadata": {},
   "source": [
    "### 66. 배아_이식_경과일"
   ]
  },
  {
   "cell_type": "markdown",
   "metadata": {},
   "source": [
    "첫 시점으로부터 배아 이식까지 경과한 일수"
   ]
  },
  {
   "cell_type": "code",
   "execution_count": 321,
   "metadata": {},
   "outputs": [
    {
     "name": "stdout",
     "output_type": "stream",
     "text": [
      "\n",
      "배아_이식_경과일별 임신_성공_여부 비율 및 갯수\n",
      "\n",
      "                 0         1      0      1  Total\n",
      "variable                                         \n",
      "0.0       0.748986  0.251014  18652   6251  24903\n",
      "1.0       0.812985  0.187015   4921   1132   6053\n",
      "2.0       0.787531  0.212469  27625   7453  35078\n",
      "3.0       0.741243  0.258757  42935  14988  57923\n",
      "4.0       0.655639  0.344361   2953   1551   4504\n",
      "5.0       0.595546  0.404454  48512  32946  81458\n",
      "6.0       0.699964  0.300036   1941    832   2773\n",
      "7.0       0.588889  0.411111     53     37     90\n"
     ]
    }
   ],
   "source": [
    "value_counts_ratio(train, '배아_이식_경과일')"
   ]
  },
  {
   "cell_type": "code",
   "execution_count": 322,
   "metadata": {},
   "outputs": [
    {
     "name": "stdout",
     "output_type": "stream",
     "text": [
      "결측값 개수: 37270\n",
      "결측값 개수: 0\n"
     ]
    }
   ],
   "source": [
    "print(\"결측값 개수:\", train['배아_이식_경과일'].isnull().sum())\n",
    "\n",
    "train['배아_이식_경과일'].fillna(-1, inplace=True)\n",
    "test['배아_이식_경과일'].fillna(-1, inplace=True)\n",
    "\n",
    "print(\"결측값 개수:\", train['배아_이식_경과일'].isnull().sum())"
   ]
  },
  {
   "cell_type": "code",
   "execution_count": 323,
   "metadata": {},
   "outputs": [
    {
     "name": "stdout",
     "output_type": "stream",
     "text": [
      "\n",
      "배아_이식_경과일별 임신_성공_여부 비율 및 갯수\n",
      "\n",
      "                 0         1      0      1  Total\n",
      "variable                                         \n",
      "-1.0      0.993963  0.006037  37045    225  37270\n",
      " 0.0      0.748986  0.251014  18652   6251  24903\n",
      " 1.0      0.812985  0.187015   4921   1132   6053\n",
      " 2.0      0.787531  0.212469  27625   7453  35078\n",
      " 3.0      0.741243  0.258757  42935  14988  57923\n",
      " 4.0      0.655639  0.344361   2953   1551   4504\n",
      " 5.0      0.595546  0.404454  48512  32946  81458\n",
      " 6.0      0.699964  0.300036   1941    832   2773\n",
      " 7.0      0.588889  0.411111     53     37     90\n"
     ]
    }
   ],
   "source": [
    "value_counts_ratio(train, '배아_이식_경과일')"
   ]
  },
  {
   "cell_type": "markdown",
   "metadata": {},
   "source": [
    "### 67. 배아_해동_경과일"
   ]
  },
  {
   "cell_type": "markdown",
   "metadata": {},
   "source": [
    "첫 시점으로부터 배아 해동까지 경과한 일수"
   ]
  },
  {
   "cell_type": "code",
   "execution_count": 324,
   "metadata": {},
   "outputs": [
    {
     "name": "stdout",
     "output_type": "stream",
     "text": [
      "\n",
      "배아_해동_경과일별 임신_성공_여부 비율 및 갯수\n",
      "\n",
      "                 0         1        0       1  Total\n",
      "variable                                            \n",
      "0.0       0.770352  0.229648  30660.0  9140.0  39800\n",
      "1.0       0.837838  0.162162     31.0     6.0     37\n",
      "2.0       0.840659  0.159341    153.0    29.0    182\n",
      "3.0       0.890244  0.109756    146.0    18.0    164\n",
      "4.0       1.000000  0.000000     12.0     0.0     12\n",
      "5.0       0.785714  0.214286    110.0    30.0    140\n",
      "6.0       0.833333  0.166667     25.0     5.0     30\n",
      "7.0       1.000000  0.000000      3.0     0.0      3\n"
     ]
    }
   ],
   "source": [
    "value_counts_ratio(train, '배아_해동_경과일')"
   ]
  },
  {
   "cell_type": "code",
   "execution_count": 325,
   "metadata": {},
   "outputs": [
    {
     "data": {
      "text/plain": [
       "0.0    13751\n",
       "3.0       59\n",
       "2.0       57\n",
       "5.0       55\n",
       "1.0       17\n",
       "6.0        7\n",
       "4.0        4\n",
       "Name: 배아_해동_경과일, dtype: int64"
      ]
     },
     "execution_count": 325,
     "metadata": {},
     "output_type": "execute_result"
    }
   ],
   "source": [
    "test['배아_해동_경과일'].value_counts()"
   ]
  },
  {
   "cell_type": "code",
   "execution_count": 326,
   "metadata": {},
   "outputs": [
    {
     "name": "stdout",
     "output_type": "stream",
     "text": [
      "결측값 개수: 209684\n",
      "결측값 개수: 0\n"
     ]
    }
   ],
   "source": [
    "print(\"결측값 개수:\", train['배아_해동_경과일'].isnull().sum())\n",
    "\n",
    "train['배아_해동_경과일'].fillna(-1, inplace=True)\n",
    "test['배아_해동_경과일'].fillna(-1, inplace=True)\n",
    "\n",
    "print(\"결측값 개수:\", train['배아_해동_경과일'].isnull().sum())"
   ]
  },
  {
   "cell_type": "code",
   "execution_count": 327,
   "metadata": {},
   "outputs": [
    {
     "name": "stdout",
     "output_type": "stream",
     "text": [
      "\n",
      "배아_해동_경과일별 임신_성공_여부 비율 및 갯수\n",
      "\n",
      "                 0         1         0        1   Total\n",
      "variable                                               \n",
      "-1.0      0.732040  0.267960  153497.0  56187.0  209684\n",
      " 0.0      0.770352  0.229648   30660.0   9140.0   39800\n",
      " 1.0      0.837838  0.162162      31.0      6.0      37\n",
      " 2.0      0.840659  0.159341     153.0     29.0     182\n",
      " 3.0      0.890244  0.109756     146.0     18.0     164\n",
      " 4.0      1.000000  0.000000      12.0      0.0      12\n",
      " 5.0      0.785714  0.214286     110.0     30.0     140\n",
      " 6.0      0.833333  0.166667      25.0      5.0      30\n",
      " 7.0      1.000000  0.000000       3.0      0.0       3\n"
     ]
    }
   ],
   "source": [
    "value_counts_ratio(train, '배아_해동_경과일')"
   ]
  },
  {
   "cell_type": "code",
   "execution_count": 328,
   "metadata": {},
   "outputs": [],
   "source": [
    "# 파생 변수 생성 함수 정의\n",
    "def calculate_difference(col1, col2):\n",
    "    return np.where((col1 == -1) | (col2 == -1), 'unknown', col2 - col1)\n",
    "\n",
    "# 파생 변수 생성 (train 데이터프레임)\n",
    "train['채취_해동_차이'] = calculate_difference(train['난자_채취_경과일'], train['난자_해동_경과일'])\n",
    "train['해동_혼합_차이'] = calculate_difference(train['난자_해동_경과일'], train['난자_혼합_경과일'])\n",
    "train['혼합_이식_차이'] = calculate_difference(train['난자_혼합_경과일'], train['배아_이식_경과일'])\n",
    "train['이식_해동_차이'] = calculate_difference(train['배아_이식_경과일'], train['배아_해동_경과일'])\n",
    "\n",
    "# 파생 변수 생성 (test 데이터프레임)\n",
    "test['채취_해동_차이'] = calculate_difference(test['난자_채취_경과일'], test['난자_해동_경과일'])\n",
    "test['해동_혼합_차이'] = calculate_difference(test['난자_해동_경과일'], test['난자_혼합_경과일'])\n",
    "test['혼합_이식_차이'] = calculate_difference(test['난자_혼합_경과일'], test['배아_이식_경과일'])\n",
    "test['이식_해동_차이'] = calculate_difference(test['배아_이식_경과일'], test['배아_해동_경과일'])"
   ]
  },
  {
   "cell_type": "markdown",
   "metadata": {},
   "source": [
    "### 68. 임신_성공_여부"
   ]
  },
  {
   "cell_type": "markdown",
   "metadata": {},
   "source": [
    "해당 시술로부터 임신 성공 여부"
   ]
  },
  {
   "cell_type": "code",
   "execution_count": 330,
   "metadata": {},
   "outputs": [
    {
     "name": "stdout",
     "output_type": "stream",
     "text": [
      "\n",
      "임신_성공_여부별 임신_성공_여부 비율 및 갯수\n",
      "\n",
      "            0    1         0        1   Total\n",
      "variable                                     \n",
      "0         1.0  0.0  184637.0      0.0  184637\n",
      "1         0.0  1.0       0.0  65415.0   65415\n"
     ]
    }
   ],
   "source": [
    "value_counts_ratio(train, '임신_성공_여부')"
   ]
  },
  {
   "cell_type": "code",
   "execution_count": 331,
   "metadata": {},
   "outputs": [
    {
     "name": "stdout",
     "output_type": "stream",
     "text": [
      "<class 'pandas.core.frame.DataFrame'>\n",
      "Int64Index: 250052 entries, 0 to 250051\n",
      "Data columns (total 92 columns):\n",
      " #   Column                  Non-Null Count   Dtype   \n",
      "---  ------                  --------------   -----   \n",
      " 0   ID                      250052 non-null  object  \n",
      " 1   시술_시기_코드                250052 non-null  object  \n",
      " 2   시술_당시_나이                250052 non-null  object  \n",
      " 3   임신_시도_또는_마지막_임신_경과_연수   250052 non-null  category\n",
      " 4   배란_자극_여부                250052 non-null  int64   \n",
      " 5   배란_유도_유형                250052 non-null  object  \n",
      " 6   단일_배아_이식_여부             250052 non-null  float64 \n",
      " 7   착상_전_유전_검사_사용_여부        250052 non-null  float64 \n",
      " 8   착상_전_유전_진단_사용_여부        250052 non-null  float64 \n",
      " 9   남성_주_불임_원인              250052 non-null  int64   \n",
      " 10  남성_부_불임_원인              250052 non-null  int64   \n",
      " 11  여성_주_불임_원인              250052 non-null  int64   \n",
      " 12  여성_부_불임_원인              250052 non-null  int64   \n",
      " 13  부부_주_불임_원인              250052 non-null  int64   \n",
      " 14  부부_부_불임_원인              250052 non-null  int64   \n",
      " 15  불명확_불임_원인               250052 non-null  int64   \n",
      " 16  불임_원인_-_난관_질환           250052 non-null  int64   \n",
      " 17  불임_원인_-_남성_요인           250052 non-null  int64   \n",
      " 18  불임_원인_-_배란_장애           250052 non-null  int64   \n",
      " 19  불임_원인_-_자궁경부_문제         250052 non-null  int64   \n",
      " 20  불임_원인_-_자궁내막증           250052 non-null  int64   \n",
      " 21  불임_원인_-_정자_농도           250052 non-null  int64   \n",
      " 22  불임_원인_-_정자_면역학적_요인      250052 non-null  int64   \n",
      " 23  불임_원인_-_정자_운동성          250052 non-null  int64   \n",
      " 24  불임_원인_-_정자_형태           250052 non-null  int64   \n",
      " 25  배아_생성_주요_이유             250052 non-null  object  \n",
      " 26  총_시술_횟수                 250052 non-null  int64   \n",
      " 27  클리닉_내_총_시술_횟수           250052 non-null  int64   \n",
      " 28  IVF_시술_횟수               250052 non-null  int64   \n",
      " 29  DI_시술_횟수                250052 non-null  int64   \n",
      " 30  총_임신_횟수                 250052 non-null  int64   \n",
      " 31  IVF_임신_횟수               250052 non-null  int64   \n",
      " 32  DI_임신_횟수                250052 non-null  int64   \n",
      " 33  총_출산_횟수                 250052 non-null  int64   \n",
      " 34  IVF_출산_횟수               250052 non-null  int64   \n",
      " 35  DI_출산_횟수                250052 non-null  int64   \n",
      " 36  총_생성_배아_수               250052 non-null  float64 \n",
      " 37  미세주입된_난자_수              250052 non-null  float64 \n",
      " 38  미세주입에서_생성된_배아_수         250052 non-null  float64 \n",
      " 39  이식된_배아_수                250052 non-null  float64 \n",
      " 40  미세주입_배아_이식_수            250052 non-null  float64 \n",
      " 41  저장된_배아_수                250052 non-null  float64 \n",
      " 42  미세주입_후_저장된_배아_수         250052 non-null  float64 \n",
      " 43  해동된_배아_수                250052 non-null  float64 \n",
      " 44  해동_난자_수                 250052 non-null  float64 \n",
      " 45  수집된_신선_난자_수             250052 non-null  float64 \n",
      " 46  저장된_신선_난자_수             250052 non-null  float64 \n",
      " 47  혼합된_난자_수                250052 non-null  float64 \n",
      " 48  파트너_정자와_혼합된_난자_수        250052 non-null  float64 \n",
      " 49  기증자_정자와_혼합된_난자_수        250052 non-null  float64 \n",
      " 50  난자_출처                   250052 non-null  object  \n",
      " 51  정자_출처                   250052 non-null  object  \n",
      " 52  난자_기증자_나이               250052 non-null  object  \n",
      " 53  정자_기증자_나이               250052 non-null  object  \n",
      " 54  동결_배아_사용_여부             250052 non-null  float64 \n",
      " 55  신선_배아_사용_여부             250052 non-null  float64 \n",
      " 56  기증_배아_사용_여부             250052 non-null  float64 \n",
      " 57  대리모_여부                  250052 non-null  float64 \n",
      " 58  PGD_시술_여부               250052 non-null  float64 \n",
      " 59  PGS_시술_여부               250052 non-null  float64 \n",
      " 60  난자_채취_경과일               250052 non-null  float64 \n",
      " 61  난자_해동_경과일               250052 non-null  float64 \n",
      " 62  난자_혼합_경과일               250052 non-null  float64 \n",
      " 63  배아_이식_경과일               250052 non-null  float64 \n",
      " 64  배아_해동_경과일               250052 non-null  float64 \n",
      " 65  임신_성공_여부                250052 non-null  int64   \n",
      " 66  변환된_특정_시술_유형            250050 non-null  object  \n",
      " 67  특정_시술_유형_ICSI_더미        250052 non-null  int64   \n",
      " 68  특정_시술_유형_IVF_더미         250052 non-null  int64   \n",
      " 69  특정_시술_유형_AH_더미          250052 non-null  int64   \n",
      " 70  특정_시술_유형_BLASTOCYST_더미  250052 non-null  int64   \n",
      " 71  배아_생성_주요_이유_현재시술용       250052 non-null  int32   \n",
      " 72  배아_생성_주요_이유_기증용         250052 non-null  int32   \n",
      " 73  배아_생성_주요_이유_난자저장용       250052 non-null  int32   \n",
      " 74  배아_생성_주요_이유_배아저장용       250052 non-null  int32   \n",
      " 75  IVF_임신_시술_비율            250052 non-null  float64 \n",
      " 76  IVF_출산_임신_비율            250052 non-null  float64 \n",
      " 77  DI_임신_시술_비율             250052 non-null  float64 \n",
      " 78  DI_출산_임신_비율             250052 non-null  float64 \n",
      " 79  임신_성공률                  250052 non-null  float64 \n",
      " 80  출산_성공률                  250052 non-null  float64 \n",
      " 81  임신_성공율                  250052 non-null  float64 \n",
      " 82  ICSI_효율성                250052 non-null  float64 \n",
      " 83  저장_배아_비율                250052 non-null  float64 \n",
      " 84  해동_난자_비율                250052 non-null  float64 \n",
      " 85  생성_배아_유지율               250052 non-null  float64 \n",
      " 86  파트너_정자_사용_비율            250052 non-null  float64 \n",
      " 87  기증자_나이_더미               250052 non-null  int32   \n",
      " 88  채취_해동_차이                250052 non-null  object  \n",
      " 89  해동_혼합_차이                250052 non-null  object  \n",
      " 90  혼합_이식_차이                250052 non-null  object  \n",
      " 91  이식_해동_차이                250052 non-null  object  \n",
      "dtypes: category(1), float64(40), int32(5), int64(32), object(14)\n",
      "memory usage: 171.0+ MB\n"
     ]
    }
   ],
   "source": [
    "train.info()"
   ]
  },
  {
   "cell_type": "code",
   "execution_count": 332,
   "metadata": {},
   "outputs": [
    {
     "name": "stdout",
     "output_type": "stream",
     "text": [
      "<class 'pandas.core.frame.DataFrame'>\n",
      "Int64Index: 87891 entries, 0 to 87890\n",
      "Data columns (total 91 columns):\n",
      " #   Column                  Non-Null Count  Dtype   \n",
      "---  ------                  --------------  -----   \n",
      " 0   ID                      87891 non-null  object  \n",
      " 1   시술_시기_코드                87891 non-null  object  \n",
      " 2   시술_당시_나이                87891 non-null  object  \n",
      " 3   임신_시도_또는_마지막_임신_경과_연수   87891 non-null  category\n",
      " 4   배란_자극_여부                87891 non-null  int64   \n",
      " 5   배란_유도_유형                87891 non-null  object  \n",
      " 6   단일_배아_이식_여부             87891 non-null  float64 \n",
      " 7   착상_전_유전_검사_사용_여부        87891 non-null  float64 \n",
      " 8   착상_전_유전_진단_사용_여부        87891 non-null  float64 \n",
      " 9   남성_주_불임_원인              87891 non-null  int64   \n",
      " 10  남성_부_불임_원인              87891 non-null  int64   \n",
      " 11  여성_주_불임_원인              87891 non-null  int64   \n",
      " 12  여성_부_불임_원인              87891 non-null  int64   \n",
      " 13  부부_주_불임_원인              87891 non-null  int64   \n",
      " 14  부부_부_불임_원인              87891 non-null  int64   \n",
      " 15  불명확_불임_원인               87891 non-null  int64   \n",
      " 16  불임_원인_-_난관_질환           87891 non-null  int64   \n",
      " 17  불임_원인_-_남성_요인           87891 non-null  int64   \n",
      " 18  불임_원인_-_배란_장애           87891 non-null  int64   \n",
      " 19  불임_원인_-_자궁경부_문제         87891 non-null  int64   \n",
      " 20  불임_원인_-_자궁내막증           87891 non-null  int64   \n",
      " 21  불임_원인_-_정자_농도           87891 non-null  int64   \n",
      " 22  불임_원인_-_정자_면역학적_요인      87891 non-null  int64   \n",
      " 23  불임_원인_-_정자_운동성          87891 non-null  int64   \n",
      " 24  불임_원인_-_정자_형태           87891 non-null  int64   \n",
      " 25  배아_생성_주요_이유             87891 non-null  object  \n",
      " 26  총_시술_횟수                 87891 non-null  int64   \n",
      " 27  클리닉_내_총_시술_횟수           87891 non-null  int64   \n",
      " 28  IVF_시술_횟수               87891 non-null  int64   \n",
      " 29  DI_시술_횟수                87891 non-null  int64   \n",
      " 30  총_임신_횟수                 87891 non-null  int64   \n",
      " 31  IVF_임신_횟수               87891 non-null  int64   \n",
      " 32  DI_임신_횟수                87891 non-null  int64   \n",
      " 33  총_출산_횟수                 87891 non-null  int64   \n",
      " 34  IVF_출산_횟수               87891 non-null  int64   \n",
      " 35  DI_출산_횟수                87891 non-null  int64   \n",
      " 36  총_생성_배아_수               87891 non-null  float64 \n",
      " 37  미세주입된_난자_수              87891 non-null  float64 \n",
      " 38  미세주입에서_생성된_배아_수         87891 non-null  float64 \n",
      " 39  이식된_배아_수                87891 non-null  float64 \n",
      " 40  미세주입_배아_이식_수            87891 non-null  float64 \n",
      " 41  저장된_배아_수                87891 non-null  float64 \n",
      " 42  미세주입_후_저장된_배아_수         87891 non-null  float64 \n",
      " 43  해동된_배아_수                87891 non-null  float64 \n",
      " 44  해동_난자_수                 87891 non-null  float64 \n",
      " 45  수집된_신선_난자_수             87891 non-null  float64 \n",
      " 46  저장된_신선_난자_수             87891 non-null  float64 \n",
      " 47  혼합된_난자_수                87891 non-null  float64 \n",
      " 48  파트너_정자와_혼합된_난자_수        87891 non-null  float64 \n",
      " 49  기증자_정자와_혼합된_난자_수        87891 non-null  float64 \n",
      " 50  난자_출처                   87891 non-null  object  \n",
      " 51  정자_출처                   87891 non-null  object  \n",
      " 52  난자_기증자_나이               87891 non-null  object  \n",
      " 53  정자_기증자_나이               87891 non-null  object  \n",
      " 54  동결_배아_사용_여부             87891 non-null  float64 \n",
      " 55  신선_배아_사용_여부             87891 non-null  float64 \n",
      " 56  기증_배아_사용_여부             87891 non-null  float64 \n",
      " 57  대리모_여부                  87891 non-null  float64 \n",
      " 58  PGD_시술_여부               87891 non-null  float64 \n",
      " 59  PGS_시술_여부               87891 non-null  float64 \n",
      " 60  난자_채취_경과일               87891 non-null  float64 \n",
      " 61  난자_해동_경과일               87891 non-null  float64 \n",
      " 62  난자_혼합_경과일               87891 non-null  float64 \n",
      " 63  배아_이식_경과일               87891 non-null  float64 \n",
      " 64  배아_해동_경과일               87891 non-null  float64 \n",
      " 65  변환된_특정_시술_유형            87891 non-null  object  \n",
      " 66  특정_시술_유형_ICSI_더미        87891 non-null  int64   \n",
      " 67  특정_시술_유형_IVF_더미         87891 non-null  int64   \n",
      " 68  특정_시술_유형_AH_더미          87891 non-null  int64   \n",
      " 69  특정_시술_유형_BLASTOCYST_더미  87891 non-null  int64   \n",
      " 70  배아_생성_주요_이유_현재시술용       87891 non-null  int32   \n",
      " 71  배아_생성_주요_이유_기증용         87891 non-null  int32   \n",
      " 72  배아_생성_주요_이유_난자저장용       87891 non-null  int32   \n",
      " 73  배아_생성_주요_이유_배아저장용       87891 non-null  int32   \n",
      " 74  IVF_임신_시술_비율            87891 non-null  float64 \n",
      " 75  IVF_출산_임신_비율            87891 non-null  float64 \n",
      " 76  DI_임신_시술_비율             87891 non-null  float64 \n",
      " 77  DI_출산_임신_비율             87891 non-null  float64 \n",
      " 78  임신_성공률                  87891 non-null  float64 \n",
      " 79  출산_성공률                  87891 non-null  float64 \n",
      " 80  임신_성공율                  87891 non-null  float64 \n",
      " 81  ICSI_효율성                87891 non-null  float64 \n",
      " 82  저장_배아_비율                87891 non-null  float64 \n",
      " 83  해동_난자_비율                87891 non-null  float64 \n",
      " 84  생성_배아_유지율               87891 non-null  float64 \n",
      " 85  파트너_정자_사용_비율            87891 non-null  float64 \n",
      " 86  기증자_나이_더미               87891 non-null  int32   \n",
      " 87  채취_해동_차이                87891 non-null  object  \n",
      " 88  해동_혼합_차이                87891 non-null  object  \n",
      " 89  혼합_이식_차이                87891 non-null  object  \n",
      " 90  이식_해동_차이                87891 non-null  object  \n",
      "dtypes: category(1), float64(40), int32(5), int64(31), object(14)\n",
      "memory usage: 59.4+ MB\n"
     ]
    }
   ],
   "source": [
    "test.info()"
   ]
  },
  {
   "cell_type": "markdown",
   "metadata": {},
   "source": [
    "## 데이터 저장"
   ]
  },
  {
   "cell_type": "code",
   "execution_count": 334,
   "metadata": {},
   "outputs": [],
   "source": [
    "# CSV 파일 저장\n",
    "train.to_csv('../data/IVF_train_dataset_20.csv', index=False, encoding='utf-8-sig')\n",
    "test.to_csv('../data/IVF_test_dataset_20.csv', index=False, encoding='utf-8-sig')"
   ]
  },
  {
   "cell_type": "markdown",
   "metadata": {},
   "source": [
    "."
   ]
  }
 ],
 "metadata": {
  "kernelspec": {
   "display_name": "Python 3",
   "language": "python",
   "name": "python3"
  },
  "language_info": {
   "codemirror_mode": {
    "name": "ipython",
    "version": 3
   },
   "file_extension": ".py",
   "mimetype": "text/x-python",
   "name": "python",
   "nbconvert_exporter": "python",
   "pygments_lexer": "ipython3",
   "version": "3.7.8"
  }
 },
 "nbformat": 4,
 "nbformat_minor": 2
}
