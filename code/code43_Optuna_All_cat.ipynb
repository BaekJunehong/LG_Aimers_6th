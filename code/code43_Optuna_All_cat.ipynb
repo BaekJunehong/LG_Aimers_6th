{
 "cells": [
  {
   "cell_type": "markdown",
   "metadata": {
    "id": "ggCkaz0uVQAt"
   },
   "source": [
    "## 난임 환자 대상 임신 성공 여부 예측"
   ]
  },
  {
   "cell_type": "markdown",
   "metadata": {
    "id": "SCPdYmNgVQAz"
   },
   "source": [
    "### LGAimers 6th 온라인 해커톤"
   ]
  },
  {
   "cell_type": "markdown",
   "metadata": {
    "id": "aV45uRb2VQA0"
   },
   "source": [
    "Import"
   ]
  },
  {
   "cell_type": "code",
   "execution_count": 1,
   "metadata": {
    "colab": {
     "base_uri": "https://localhost:8080/"
    },
    "executionInfo": {
     "elapsed": 8750,
     "status": "ok",
     "timestamp": 1739685864389,
     "user": {
      "displayName": "백준홍",
      "userId": "17853835137592881703"
     },
     "user_tz": -540
    },
    "id": "vR2zDHPyVQA1",
    "outputId": "857e63e4-2b27-473b-bf3c-a1ee7a626e94"
   },
   "outputs": [],
   "source": [
    "import pandas as pd\n",
    "import optuna\n",
    "from sklearn.preprocessing import OrdinalEncoder\n",
    "from sklearn.model_selection import train_test_split\n",
    "from sklearn.metrics import accuracy_score, f1_score, roc_auc_score, confusion_matrix, ConfusionMatrixDisplay\n",
    "import matplotlib.pyplot as plt\n",
    "import lightgbm as lgb"
   ]
  },
  {
   "cell_type": "markdown",
   "metadata": {
    "id": "QmoTJc9qVQA3"
   },
   "source": [
    "### Data Load"
   ]
  },
  {
   "cell_type": "code",
   "execution_count": 2,
   "metadata": {
    "executionInfo": {
     "elapsed": 7417,
     "status": "ok",
     "timestamp": 1739685894485,
     "user": {
      "displayName": "백준홍",
      "userId": "17853835137592881703"
     },
     "user_tz": -540
    },
    "id": "FLI9_WnoVQA4"
   },
   "outputs": [],
   "source": [
    "# 데이터 로드\n",
    "Total_train = pd.read_csv('../data/Total_train_dataset_43.csv')\n",
    "Total_test = pd.read_csv('../data/Total_test_dataset_43.csv')"
   ]
  },
  {
   "cell_type": "code",
   "execution_count": 3,
   "metadata": {
    "executionInfo": {
     "elapsed": 7,
     "status": "ok",
     "timestamp": 1739685894486,
     "user": {
      "displayName": "백준홍",
      "userId": "17853835137592881703"
     },
     "user_tz": -540
    },
    "id": "_rrClwEAVQA4"
   },
   "outputs": [],
   "source": [
    "# ID 열을 제외한 특성과 타겟 변수 분리\n",
    "Total_X = Total_train.drop(['임신_성공_여부', 'ID'], axis=1)\n",
    "Total_y = Total_train['임신_성공_여부']"
   ]
  },
  {
   "cell_type": "markdown",
   "metadata": {
    "id": "hclLoZsRVQA5"
   },
   "source": [
    "### 인코딩"
   ]
  },
  {
   "cell_type": "code",
   "execution_count": 4,
   "metadata": {
    "executionInfo": {
     "elapsed": 6,
     "status": "ok",
     "timestamp": 1739685894486,
     "user": {
      "displayName": "백준홍",
      "userId": "17853835137592881703"
     },
     "user_tz": -540
    },
    "id": "t4xH3QuXVQA5"
   },
   "outputs": [],
   "source": [
    "Total_categorical_columns = [\n",
    "    \"시술_당시_나이\",\n",
    "    \"난자_기증자_나이\",\n",
    "    \"정자_기증자_나이\"\n",
    "]"
   ]
  },
  {
   "cell_type": "code",
   "execution_count": 5,
   "metadata": {
    "executionInfo": {
     "elapsed": 433,
     "status": "ok",
     "timestamp": 1739685894914,
     "user": {
      "displayName": "백준홍",
      "userId": "17853835137592881703"
     },
     "user_tz": -540
    },
    "id": "yfISlndRVQA6"
   },
   "outputs": [],
   "source": [
    "# 모든 범주형 변수를 문자열로 변환\n",
    "Total_X[Total_categorical_columns] = Total_X[Total_categorical_columns].astype(str)\n",
    "Total_test[Total_categorical_columns] = Total_test[Total_categorical_columns].astype(str)\n",
    "\n",
    "# OrdinalEncoder를 사용하여 범주형 변수 인코딩\n",
    "Total_encoder = OrdinalEncoder(handle_unknown='use_encoded_value', unknown_value=-1)\n",
    "\n",
    "Total_X[Total_categorical_columns] = Total_encoder.fit_transform(Total_X[Total_categorical_columns])\n",
    "Total_test[Total_categorical_columns] = Total_encoder.transform(Total_test[Total_categorical_columns])"
   ]
  },
  {
   "cell_type": "markdown",
   "metadata": {
    "id": "PK7JktUGVQA6"
   },
   "source": [
    "## Modeling"
   ]
  },
  {
   "cell_type": "code",
   "execution_count": 6,
   "metadata": {
    "executionInfo": {
     "elapsed": 437,
     "status": "ok",
     "timestamp": 1739685895348,
     "user": {
      "displayName": "백준홍",
      "userId": "17853835137592881703"
     },
     "user_tz": -540
    },
    "id": "81dDjQSJVQA6"
   },
   "outputs": [],
   "source": [
    "# 데이터 분할\n",
    "Total_X_train, Total_X_test, Total_y_train, Total_y_test = train_test_split(Total_X, \n",
    "                                                                            Total_y, \n",
    "                                                                            test_size=0.2, \n",
    "                                                                            random_state=42,\n",
    "                                                                            stratify=Total_y)"
   ]
  },
  {
   "cell_type": "markdown",
   "metadata": {
    "id": "UqRsEAEMVQA7"
   },
   "source": [
    "### Total 데이터"
   ]
  },
  {
   "cell_type": "markdown",
   "metadata": {
    "id": "aZ6C_vNLVQA7"
   },
   "source": [
    "optuna"
   ]
  },
  {
   "cell_type": "code",
   "execution_count": 7,
   "metadata": {
    "executionInfo": {
     "elapsed": 296,
     "status": "ok",
     "timestamp": 1739685904360,
     "user": {
      "displayName": "백준홍",
      "userId": "17853835137592881703"
     },
     "user_tz": -540
    },
    "id": "sXmiXoWqWQBi"
   },
   "outputs": [],
   "source": [
    "from catboost import CatBoostClassifier"
   ]
  },
  {
   "cell_type": "code",
   "execution_count": 8,
   "metadata": {
    "colab": {
     "base_uri": "https://localhost:8080/"
    },
    "executionInfo": {
     "elapsed": 15570573,
     "status": "ok",
     "timestamp": 1739701474928,
     "user": {
      "displayName": "백준홍",
      "userId": "17853835137592881703"
     },
     "user_tz": -540
    },
    "id": "oOwZ78kKVQA7",
    "outputId": "1fbfbde5-853e-42d2-ad3a-47dfcccdd360"
   },
   "outputs": [
    {
     "name": "stderr",
     "output_type": "stream",
     "text": [
      "[I 2025-02-19 10:16:39,008] A new study created in memory with name: no-name-030b4451-9186-4850-a9d9-0f0da963e5ef\n",
      "[I 2025-02-19 10:17:11,301] Trial 0 finished with value: 0.7305452539680686 and parameters: {'iterations': 1295, 'learning_rate': 0.2877816335540664, 'min_data_in_leaf': 16, 'l2_leaf_reg': 54.90542902913716, 'random_strength': 6.335173944665097, 'bagging_temperature': 67.03407485328907, 'border_count': 110}. Best is trial 0 with value: 0.7305452539680686.\n",
      "[I 2025-02-19 10:17:49,052] Trial 1 finished with value: 0.7242384665042769 and parameters: {'iterations': 1234, 'learning_rate': 0.2847689956615349, 'min_data_in_leaf': 18, 'l2_leaf_reg': 1.6552477599702686, 'random_strength': 4.837575221226689, 'bagging_temperature': 4.987440969592956, 'border_count': 256}. Best is trial 0 with value: 0.7305452539680686.\n",
      "[I 2025-02-19 10:18:50,181] Trial 2 finished with value: 0.7176065461268745 and parameters: {'iterations': 2075, 'learning_rate': 0.45547793305666895, 'min_data_in_leaf': 15, 'l2_leaf_reg': 32.28159293490525, 'random_strength': 3.4089356235410495, 'bagging_temperature': 45.66603938979276, 'border_count': 137}. Best is trial 0 with value: 0.7305452539680686.\n",
      "[I 2025-02-19 10:21:04,841] Trial 3 finished with value: 0.6869064645507711 and parameters: {'iterations': 4524, 'learning_rate': 0.4704010621833395, 'min_data_in_leaf': 2, 'l2_leaf_reg': 0.14526808103217348, 'random_strength': 8.915654738940074, 'bagging_temperature': 32.17726351274913, 'border_count': 199}. Best is trial 0 with value: 0.7305452539680686.\n",
      "[I 2025-02-19 10:22:31,590] Trial 4 finished with value: 0.7282629617327778 and parameters: {'iterations': 2732, 'learning_rate': 0.1940465436275961, 'min_data_in_leaf': 14, 'l2_leaf_reg': 26.147191882354132, 'random_strength': 3.0800499403565693, 'bagging_temperature': 34.97458718864269, 'border_count': 64}. Best is trial 0 with value: 0.7305452539680686.\n",
      "[I 2025-02-19 10:24:28,107] Trial 5 finished with value: 0.7063383990973653 and parameters: {'iterations': 3475, 'learning_rate': 0.3223657093480604, 'min_data_in_leaf': 13, 'l2_leaf_reg': 0.6096755876958626, 'random_strength': 8.307325443262007, 'bagging_temperature': 41.978380889088356, 'border_count': 201}. Best is trial 0 with value: 0.7305452539680686.\n",
      "[I 2025-02-19 10:26:07,732] Trial 6 finished with value: 0.7072746578287128 and parameters: {'iterations': 2985, 'learning_rate': 0.3587836683593972, 'min_data_in_leaf': 4, 'l2_leaf_reg': 0.5580389239947842, 'random_strength': 1.6779521002712372, 'bagging_temperature': 2.891714188828732, 'border_count': 198}. Best is trial 0 with value: 0.7305452539680686.\n",
      "[I 2025-02-19 10:26:43,075] Trial 7 finished with value: 0.7293922419465737 and parameters: {'iterations': 1188, 'learning_rate': 0.14543173893873806, 'min_data_in_leaf': 17, 'l2_leaf_reg': 0.0802581011194829, 'random_strength': 5.652320638060697, 'bagging_temperature': 77.78856639363424, 'border_count': 187}. Best is trial 0 with value: 0.7305452539680686.\n",
      "[I 2025-02-19 10:28:27,701] Trial 8 finished with value: 0.7319598599267381 and parameters: {'iterations': 3130, 'learning_rate': 0.05167028633642533, 'min_data_in_leaf': 15, 'l2_leaf_reg': 0.05700153704862753, 'random_strength': 5.3737999364926905, 'bagging_temperature': 13.598503558237798, 'border_count': 172}. Best is trial 8 with value: 0.7319598599267381.\n",
      "[I 2025-02-19 10:29:29,972] Trial 9 finished with value: 0.71069852506974 and parameters: {'iterations': 1842, 'learning_rate': 0.3279461869428674, 'min_data_in_leaf': 13, 'l2_leaf_reg': 0.03205267568339644, 'random_strength': 1.0024132529615248, 'bagging_temperature': 89.89986705013736, 'border_count': 119}. Best is trial 8 with value: 0.7319598599267381.\n",
      "[I 2025-02-19 10:31:43,787] Trial 10 finished with value: 0.7359113369577555 and parameters: {'iterations': 4039, 'learning_rate': 0.01962179267592218, 'min_data_in_leaf': 9, 'l2_leaf_reg': 0.018228049910007406, 'random_strength': 7.361719439206079, 'bagging_temperature': 18.53106512256237, 'border_count': 39}. Best is trial 10 with value: 0.7359113369577555.\n",
      "[I 2025-02-19 10:33:48,025] Trial 11 finished with value: 0.7324723593538944 and parameters: {'iterations': 4079, 'learning_rate': 0.001325332755191113, 'min_data_in_leaf': 8, 'l2_leaf_reg': 0.01000759139198988, 'random_strength': 7.154179434314182, 'bagging_temperature': 18.405319157888314, 'border_count': 42}. Best is trial 10 with value: 0.7359113369577555.\n",
      "[I 2025-02-19 10:36:12,245] Trial 12 finished with value: 0.7364657661525807 and parameters: {'iterations': 4380, 'learning_rate': 0.014479085716843611, 'min_data_in_leaf': 8, 'l2_leaf_reg': 0.01339886560773695, 'random_strength': 7.445311517437523, 'bagging_temperature': 25.010001070308125, 'border_count': 44}. Best is trial 12 with value: 0.7364657661525807.\n",
      "[I 2025-02-19 10:38:48,720] Trial 13 finished with value: 0.7212155877867603 and parameters: {'iterations': 4833, 'learning_rate': 0.0893558729284067, 'min_data_in_leaf': 8, 'l2_leaf_reg': 0.01008407411477214, 'random_strength': 9.559914014490456, 'bagging_temperature': 24.13327931937178, 'border_count': 76}. Best is trial 12 with value: 0.7364657661525807.\n",
      "[I 2025-02-19 10:40:55,283] Trial 14 finished with value: 0.7374088870933833 and parameters: {'iterations': 3934, 'learning_rate': 0.004625873535532232, 'min_data_in_leaf': 9, 'l2_leaf_reg': 6.205261945631339, 'random_strength': 7.452627593085216, 'bagging_temperature': 24.046870143380108, 'border_count': 46}. Best is trial 14 with value: 0.7374088870933833.\n",
      "[I 2025-02-19 10:42:58,661] Trial 15 finished with value: 0.7292315399616082 and parameters: {'iterations': 3841, 'learning_rate': 0.10362351698518554, 'min_data_in_leaf': 6, 'l2_leaf_reg': 5.170763969681026, 'random_strength': 7.816894197557441, 'bagging_temperature': 59.50641576296384, 'border_count': 89}. Best is trial 14 with value: 0.7374088870933833.\n",
      "[I 2025-02-19 10:45:17,983] Trial 16 finished with value: 0.7235257081081373 and parameters: {'iterations': 4487, 'learning_rate': 0.14858849519601697, 'min_data_in_leaf': 11, 'l2_leaf_reg': 6.871684721154285, 'random_strength': 9.688081475631444, 'bagging_temperature': 53.49015705974099, 'border_count': 36}. Best is trial 14 with value: 0.7374088870933833.\n",
      "[I 2025-02-19 10:48:00,097] Trial 17 finished with value: 0.7176983043512205 and parameters: {'iterations': 4955, 'learning_rate': 0.21269262899291427, 'min_data_in_leaf': 20, 'l2_leaf_reg': 6.524404246537397, 'random_strength': 6.4553741725763585, 'bagging_temperature': 30.782513527722045, 'border_count': 90}. Best is trial 14 with value: 0.7374088870933833.\n",
      "[I 2025-02-19 10:49:55,536] Trial 18 finished with value: 0.7305394500796898 and parameters: {'iterations': 3576, 'learning_rate': 0.060853759487291326, 'min_data_in_leaf': 5, 'l2_leaf_reg': 0.23300735974841127, 'random_strength': 4.218959006453333, 'bagging_temperature': 11.813951922618852, 'border_count': 72}. Best is trial 14 with value: 0.7374088870933833.\n",
      "[I 2025-02-19 10:52:22,885] Trial 19 finished with value: 0.723160611163941 and parameters: {'iterations': 4322, 'learning_rate': 0.1367384781890067, 'min_data_in_leaf': 11, 'l2_leaf_reg': 2.056523493483867, 'random_strength': 8.36020514061099, 'bagging_temperature': 24.378827893260368, 'border_count': 58}. Best is trial 14 with value: 0.7374088870933833.\n",
      "[I 2025-02-19 10:53:49,179] Trial 20 finished with value: 0.7168612220197181 and parameters: {'iterations': 2559, 'learning_rate': 0.4020316773480207, 'min_data_in_leaf': 1, 'l2_leaf_reg': 16.294067116071133, 'random_strength': 6.598930602865684, 'bagging_temperature': 42.4527107343995, 'border_count': 154}. Best is trial 14 with value: 0.7374088870933833.\n",
      "[I 2025-02-19 10:55:47,098] Trial 21 finished with value: 0.734331442294259 and parameters: {'iterations': 3855, 'learning_rate': 0.002770920704375245, 'min_data_in_leaf': 8, 'l2_leaf_reg': 0.024394111407135703, 'random_strength': 7.700827021077505, 'bagging_temperature': 20.58532034126253, 'border_count': 32}. Best is trial 14 with value: 0.7374088870933833.\n",
      "[I 2025-02-19 10:58:05,318] Trial 22 finished with value: 0.7336964635476495 and parameters: {'iterations': 4172, 'learning_rate': 0.030449323478829674, 'min_data_in_leaf': 9, 'l2_leaf_reg': 0.02220409048169987, 'random_strength': 7.236065226979569, 'bagging_temperature': 0.8709915374192789, 'border_count': 50}. Best is trial 14 with value: 0.7374088870933833.\n",
      "[I 2025-02-19 11:00:02,379] Trial 23 finished with value: 0.7290524871260107 and parameters: {'iterations': 3468, 'learning_rate': 0.08115702479666845, 'min_data_in_leaf': 10, 'l2_leaf_reg': 0.1958232972785221, 'random_strength': 8.97907058359879, 'bagging_temperature': 29.6391495119592, 'border_count': 96}. Best is trial 14 with value: 0.7374088870933833.\n",
      "[I 2025-02-19 11:02:08,383] Trial 24 finished with value: 0.7350862893055087 and parameters: {'iterations': 3840, 'learning_rate': 0.03407561378182446, 'min_data_in_leaf': 6, 'l2_leaf_reg': 2.9286672644142775, 'random_strength': 6.125797062693402, 'bagging_temperature': 11.738193251785695, 'border_count': 54}. Best is trial 14 with value: 0.7374088870933833.\n",
      "[I 2025-02-19 11:04:39,903] Trial 25 finished with value: 0.7199294218977711 and parameters: {'iterations': 4526, 'learning_rate': 0.11461793586194188, 'min_data_in_leaf': 12, 'l2_leaf_reg': 0.045160487651177014, 'random_strength': 7.107200162389979, 'bagging_temperature': 37.217771549045395, 'border_count': 79}. Best is trial 14 with value: 0.7374088870933833.\n",
      "[I 2025-02-19 11:06:26,533] Trial 26 finished with value: 0.7159924694796483 and parameters: {'iterations': 3259, 'learning_rate': 0.20049719516017725, 'min_data_in_leaf': 3, 'l2_leaf_reg': 0.4542608338239721, 'random_strength': 8.374970620312002, 'bagging_temperature': 53.99409355668635, 'border_count': 116}. Best is trial 14 with value: 0.7374088870933833.\n",
      "[I 2025-02-19 11:08:59,729] Trial 27 finished with value: 0.7348280391069693 and parameters: {'iterations': 4707, 'learning_rate': 0.020262084004683642, 'min_data_in_leaf': 7, 'l2_leaf_reg': 0.014352787603695322, 'random_strength': 9.923859582395577, 'bagging_temperature': 17.282111512995236, 'border_count': 229}. Best is trial 14 with value: 0.7374088870933833.\n",
      "[I 2025-02-19 11:11:14,236] Trial 28 finished with value: 0.7283837334422392 and parameters: {'iterations': 4074, 'learning_rate': 0.06601302742880376, 'min_data_in_leaf': 10, 'l2_leaf_reg': 0.11004165381903809, 'random_strength': 5.074223549302088, 'bagging_temperature': 27.48144508970262, 'border_count': 50}. Best is trial 14 with value: 0.7374088870933833.\n",
      "[I 2025-02-19 11:13:15,011] Trial 29 finished with value: 0.7251995650042249 and parameters: {'iterations': 3754, 'learning_rate': 0.2470457467450643, 'min_data_in_leaf': 9, 'l2_leaf_reg': 54.74868552235089, 'random_strength': 6.2849978628136025, 'bagging_temperature': 70.79136975409799, 'border_count': 103}. Best is trial 14 with value: 0.7374088870933833.\n",
      "[I 2025-02-19 11:15:35,767] Trial 30 finished with value: 0.7343258290228094 and parameters: {'iterations': 4280, 'learning_rate': 0.04563867892106152, 'min_data_in_leaf': 6, 'l2_leaf_reg': 11.693624439611082, 'random_strength': 4.550884153002206, 'bagging_temperature': 8.648555919320483, 'border_count': 127}. Best is trial 14 with value: 0.7374088870933833.\n",
      "[I 2025-02-19 11:17:42,460] Trial 31 finished with value: 0.7351525803138619 and parameters: {'iterations': 3946, 'learning_rate': 0.03336679234120371, 'min_data_in_leaf': 6, 'l2_leaf_reg': 2.473647250829077, 'random_strength': 6.134087570279515, 'bagging_temperature': 9.889531262869522, 'border_count': 59}. Best is trial 14 with value: 0.7374088870933833.\n",
      "[I 2025-02-19 11:19:52,202] Trial 32 finished with value: 0.7345079277580899 and parameters: {'iterations': 4110, 'learning_rate': 0.002652036450749573, 'min_data_in_leaf': 5, 'l2_leaf_reg': 1.1503044654645784, 'random_strength': 7.691736915018958, 'bagging_temperature': 7.4271966288476285, 'border_count': 63}. Best is trial 14 with value: 0.7374088870933833.\n",
      "[I 2025-02-19 11:22:20,742] Trial 33 finished with value: 0.7314680642779348 and parameters: {'iterations': 4674, 'learning_rate': 0.11830269390381852, 'min_data_in_leaf': 7, 'l2_leaf_reg': 96.28844688295857, 'random_strength': 5.878773982640017, 'bagging_temperature': 17.715519848040014, 'border_count': 42}. Best is trial 14 with value: 0.7374088870933833.\n",
      "[I 2025-02-19 11:24:23,689] Trial 34 finished with value: 0.7317011470850263 and parameters: {'iterations': 3661, 'learning_rate': 0.07330066135200515, 'min_data_in_leaf': 9, 'l2_leaf_reg': 3.883844092367199, 'random_strength': 6.779117710873605, 'bagging_temperature': 37.85978444673522, 'border_count': 77}. Best is trial 14 with value: 0.7374088870933833.\n",
      "[I 2025-02-19 11:26:16,260] Trial 35 finished with value: 0.7356964838801219 and parameters: {'iterations': 3362, 'learning_rate': 0.030209089336943884, 'min_data_in_leaf': 4, 'l2_leaf_reg': 1.282607917074445, 'random_strength': 4.105938592219491, 'bagging_temperature': 22.351768954473236, 'border_count': 65}. Best is trial 14 with value: 0.7374088870933833.\n",
      "[I 2025-02-19 11:27:48,254] Trial 36 finished with value: 0.7234856408267152 and parameters: {'iterations': 2718, 'learning_rate': 0.1644469545277419, 'min_data_in_leaf': 3, 'l2_leaf_reg': 0.9234529498255973, 'random_strength': 3.5301379264522015, 'bagging_temperature': 46.35132814171137, 'border_count': 44}. Best is trial 14 with value: 0.7374088870933833.\n",
      "[I 2025-02-19 11:29:39,538] Trial 37 finished with value: 0.7320673083070779 and parameters: {'iterations': 3284, 'learning_rate': 0.08206853977896313, 'min_data_in_leaf': 3, 'l2_leaf_reg': 11.540715970871021, 'random_strength': 2.410977772939692, 'bagging_temperature': 27.558574079904737, 'border_count': 68}. Best is trial 14 with value: 0.7374088870933833.\n",
      "[I 2025-02-19 11:30:48,099] Trial 38 finished with value: 0.7164304198171079 and parameters: {'iterations': 2255, 'learning_rate': 0.25837927157823715, 'min_data_in_leaf': 12, 'l2_leaf_reg': 0.44326627832026255, 'random_strength': 3.86958315172292, 'bagging_temperature': 34.44829912047145, 'border_count': 32}. Best is trial 14 with value: 0.7374088870933833.\n",
      "[I 2025-02-19 11:32:07,572] Trial 39 finished with value: 0.7045498801615193 and parameters: {'iterations': 2975, 'learning_rate': 0.4225322566154259, 'min_data_in_leaf': 1, 'l2_leaf_reg': 1.2328392736499831, 'random_strength': 8.788388429795978, 'bagging_temperature': 22.257182653304934, 'border_count': 142}. Best is trial 14 with value: 0.7374088870933833.\n",
      "[I 2025-02-19 11:33:41,094] Trial 40 finished with value: 0.7170868945936829 and parameters: {'iterations': 3427, 'learning_rate': 0.1712703684654649, 'min_data_in_leaf': 4, 'l2_leaf_reg': 0.06098651405320134, 'random_strength': 2.3453351388714463, 'bagging_temperature': 15.242513058355065, 'border_count': 251}. Best is trial 14 with value: 0.7374088870933833.\n",
      "[I 2025-02-19 11:35:28,521] Trial 41 finished with value: 0.7350777234572479 and parameters: {'iterations': 3927, 'learning_rate': 0.03219783153226265, 'min_data_in_leaf': 7, 'l2_leaf_reg': 2.239814344481563, 'random_strength': 5.387083195875464, 'bagging_temperature': 7.293715666836308, 'border_count': 60}. Best is trial 14 with value: 0.7374088870933833.\n",
      "[I 2025-02-19 11:37:26,485] Trial 42 finished with value: 0.7330589452275755 and parameters: {'iterations': 4384, 'learning_rate': 0.04950881759516969, 'min_data_in_leaf': 5, 'l2_leaf_reg': 3.355002290902887, 'random_strength': 4.711418644971612, 'bagging_temperature': 1.1640824753538332, 'border_count': 85}. Best is trial 14 with value: 0.7374088870933833.\n",
      "[I 2025-02-19 11:39:35,525] Trial 43 finished with value: 0.7368745322439259 and parameters: {'iterations': 3657, 'learning_rate': 0.019878378925197716, 'min_data_in_leaf': 8, 'l2_leaf_reg': 1.6386107960824534, 'random_strength': 7.534165454027257, 'bagging_temperature': 12.883954137537296, 'border_count': 51}. Best is trial 14 with value: 0.7374088870933833.\n",
      "[I 2025-02-19 11:41:41,233] Trial 44 finished with value: 0.7377192471949726 and parameters: {'iterations': 3642, 'learning_rate': 0.011319255101779519, 'min_data_in_leaf': 10, 'l2_leaf_reg': 0.26672586343839627, 'random_strength': 7.807598915814621, 'bagging_temperature': 98.98267794711023, 'border_count': 46}. Best is trial 44 with value: 0.7377192471949726.\n",
      "[I 2025-02-19 11:43:23,309] Trial 45 finished with value: 0.7374113611422783 and parameters: {'iterations': 3608, 'learning_rate': 0.011714004923066762, 'min_data_in_leaf': 10, 'l2_leaf_reg': 0.01918732975092948, 'random_strength': 7.871458280689171, 'bagging_temperature': 93.03106177782688, 'border_count': 43}. Best is trial 44 with value: 0.7377192471949726.\n",
      "[I 2025-02-19 11:45:00,984] Trial 46 finished with value: 0.731816569606909 and parameters: {'iterations': 3661, 'learning_rate': 0.0014472309435045027, 'min_data_in_leaf': 13, 'l2_leaf_reg': 0.09681618913502796, 'random_strength': 9.214682304820082, 'bagging_temperature': 93.50242634218458, 'border_count': 48}. Best is trial 44 with value: 0.7377192471949726.\n",
      "[I 2025-02-19 11:46:07,093] Trial 47 finished with value: 0.7309801762761823 and parameters: {'iterations': 1517, 'learning_rate': 0.10362802981713387, 'min_data_in_leaf': 10, 'l2_leaf_reg': 0.043588995526650874, 'random_strength': 8.051146470078606, 'bagging_temperature': 83.6157810193968, 'border_count': 103}. Best is trial 44 with value: 0.7377192471949726.\n",
      "[I 2025-02-19 11:49:04,141] Trial 48 finished with value: 0.6945533803648837 and parameters: {'iterations': 3123, 'learning_rate': 0.4864784770251944, 'min_data_in_leaf': 11, 'l2_leaf_reg': 0.282588032132813, 'random_strength': 8.549148392575225, 'bagging_temperature': 98.87576551186162, 'border_count': 42}. Best is trial 44 with value: 0.7377192471949726.\n",
      "[I 2025-02-19 11:51:15,469] Trial 49 finished with value: 0.732677479054575 and parameters: {'iterations': 3571, 'learning_rate': 0.05275948055385684, 'min_data_in_leaf': 15, 'l2_leaf_reg': 0.7191635067817823, 'random_strength': 0.19730325717320696, 'bagging_temperature': 85.03067185532882, 'border_count': 157}. Best is trial 44 with value: 0.7377192471949726.\n",
      "[I 2025-02-19 11:52:35,848] Trial 50 finished with value: 0.7372034238851114 and parameters: {'iterations': 3070, 'learning_rate': 0.014924432031888275, 'min_data_in_leaf': 8, 'l2_leaf_reg': 0.015951138627269112, 'random_strength': 6.929089845158204, 'bagging_temperature': 73.13377861655056, 'border_count': 53}. Best is trial 44 with value: 0.7377192471949726.\n",
      "[I 2025-02-19 11:53:57,498] Trial 51 finished with value: 0.7372290439917664 and parameters: {'iterations': 3113, 'learning_rate': 0.015222329233809404, 'min_data_in_leaf': 8, 'l2_leaf_reg': 0.014235904305366961, 'random_strength': 7.99525060108703, 'bagging_temperature': 69.45486465379045, 'border_count': 52}. Best is trial 44 with value: 0.7377192471949726.\n",
      "[I 2025-02-19 11:55:12,875] Trial 52 finished with value: 0.7316596164215532 and parameters: {'iterations': 2894, 'learning_rate': 0.058056548510487915, 'min_data_in_leaf': 8, 'l2_leaf_reg': 0.034784932244560966, 'random_strength': 6.870280431465953, 'bagging_temperature': 68.78420936616928, 'border_count': 69}. Best is trial 44 with value: 0.7377192471949726.\n",
      "[I 2025-02-19 11:56:33,763] Trial 53 finished with value: 0.7361557733856989 and parameters: {'iterations': 3108, 'learning_rate': 0.019611230373493244, 'min_data_in_leaf': 9, 'l2_leaf_reg': 0.016131507555224182, 'random_strength': 8.058067494681369, 'bagging_temperature': 74.19075099132, 'border_count': 54}. Best is trial 44 with value: 0.7377192471949726.\n",
      "[I 2025-02-19 11:57:50,924] Trial 54 finished with value: 0.7277243418295269 and parameters: {'iterations': 2791, 'learning_rate': 0.09701029269120501, 'min_data_in_leaf': 12, 'l2_leaf_reg': 0.028403196332793364, 'random_strength': 7.510352208239685, 'bagging_temperature': 60.725291764094564, 'border_count': 83}. Best is trial 44 with value: 0.7377192471949726.\n",
      "[I 2025-02-19 11:59:32,247] Trial 55 finished with value: 0.7371781393436758 and parameters: {'iterations': 2607, 'learning_rate': 0.014352143938101617, 'min_data_in_leaf': 10, 'l2_leaf_reg': 0.011414404922896988, 'random_strength': 9.208504620700774, 'bagging_temperature': 99.1540302952349, 'border_count': 33}. Best is trial 44 with value: 0.7377192471949726.\n",
      "[I 2025-02-19 12:01:16,309] Trial 56 finished with value: 0.7330510922072067 and parameters: {'iterations': 2442, 'learning_rate': 0.04591905231815231, 'min_data_in_leaf': 10, 'l2_leaf_reg': 0.01048054503731634, 'random_strength': 9.312023630681669, 'bagging_temperature': 93.96042864925396, 'border_count': 33}. Best is trial 44 with value: 0.7377192471949726.\n",
      "[I 2025-02-19 12:02:53,764] Trial 57 finished with value: 0.7303991858036136 and parameters: {'iterations': 2382, 'learning_rate': 0.0718440890686875, 'min_data_in_leaf': 11, 'l2_leaf_reg': 0.02047794738883381, 'random_strength': 8.699634557306778, 'bagging_temperature': 80.19945432182516, 'border_count': 40}. Best is trial 44 with value: 0.7377192471949726.\n",
      "[I 2025-02-19 12:04:14,254] Trial 58 finished with value: 0.7373886360302372 and parameters: {'iterations': 2679, 'learning_rate': 0.012686530187559313, 'min_data_in_leaf': 7, 'l2_leaf_reg': 0.013324694479088774, 'random_strength': 8.095235497390496, 'bagging_temperature': 99.78543048450295, 'border_count': 71}. Best is trial 44 with value: 0.7377192471949726.\n",
      "[I 2025-02-19 12:05:41,501] Trial 59 finished with value: 0.7079233173111861 and parameters: {'iterations': 2096, 'learning_rate': 0.31575571595892593, 'min_data_in_leaf': 7, 'l2_leaf_reg': 0.06657236366850218, 'random_strength': 8.01724295899294, 'bagging_temperature': 88.43584103280402, 'border_count': 75}. Best is trial 44 with value: 0.7377192471949726.\n",
      "[I 2025-02-19 12:08:06,619] Trial 60 finished with value: 0.7202249238068392 and parameters: {'iterations': 3302, 'learning_rate': 0.1328719579146024, 'min_data_in_leaf': 13, 'l2_leaf_reg': 0.03978005519610339, 'random_strength': 7.013101465112241, 'bagging_temperature': 94.7242126999345, 'border_count': 96}. Best is trial 44 with value: 0.7377192471949726.\n",
      "[I 2025-02-19 12:09:48,344] Trial 61 finished with value: 0.7317745624011125 and parameters: {'iterations': 2616, 'learning_rate': 0.0020563458254407247, 'min_data_in_leaf': 10, 'l2_leaf_reg': 0.012220153178243893, 'random_strength': 9.072359812062498, 'bagging_temperature': 99.95455081681376, 'border_count': 57}. Best is trial 44 with value: 0.7377192471949726.\n",
      "[I 2025-02-19 12:11:08,908] Trial 62 finished with value: 0.7329990835694006 and parameters: {'iterations': 2866, 'learning_rate': 0.043972506432227346, 'min_data_in_leaf': 9, 'l2_leaf_reg': 0.020237132198300492, 'random_strength': 9.53021414960931, 'bagging_temperature': 89.79123003737728, 'border_count': 38}. Best is trial 44 with value: 0.7377192471949726.\n",
      "[W 2025-02-19 12:12:05,444] Trial 63 failed with parameters: {'iterations': 3016, 'learning_rate': 0.015420684863133041, 'min_data_in_leaf': 8, 'l2_leaf_reg': 0.026093647740557654, 'random_strength': 8.297534958437371, 'bagging_temperature': 96.45218100987381, 'border_count': 51} because of the following error: KeyboardInterrupt('').\n",
      "Traceback (most recent call last):\n",
      "  File \"c:\\Users\\juneh\\AppData\\Local\\Programs\\Python\\Python37\\lib\\site-packages\\optuna\\study\\_optimize.py\", line 196, in _run_trial\n",
      "    value_or_values = func(trial)\n",
      "  File \"C:\\Users\\juneh\\AppData\\Local\\Temp\\ipykernel_25528\\1693300291.py\", line 19, in objective\n",
      "    model.fit(Total_X_train, Total_y_train)\n",
      "  File \"c:\\Users\\juneh\\AppData\\Local\\Programs\\Python\\Python37\\lib\\site-packages\\catboost\\core.py\", line 5222, in fit\n",
      "    silent, early_stopping_rounds, save_snapshot, snapshot_file, snapshot_interval, init_model, callbacks, log_cout, log_cerr)\n",
      "  File \"c:\\Users\\juneh\\AppData\\Local\\Programs\\Python\\Python37\\lib\\site-packages\\catboost\\core.py\", line 2405, in _fit\n",
      "    train_params[\"init_model\"]\n",
      "  File \"c:\\Users\\juneh\\AppData\\Local\\Programs\\Python\\Python37\\lib\\site-packages\\catboost\\core.py\", line 1780, in _train\n",
      "    self._object._train(train_pool, test_pool, params, allow_clear_pool, init_model._object if init_model else None)\n",
      "  File \"_catboost.pyx\", line 4833, in _catboost._CatBoost._train\n",
      "  File \"_catboost.pyx\", line 4882, in _catboost._CatBoost._train\n",
      "KeyboardInterrupt\n",
      "[W 2025-02-19 12:12:05,457] Trial 63 failed with value None.\n"
     ]
    },
    {
     "ename": "KeyboardInterrupt",
     "evalue": "",
     "output_type": "error",
     "traceback": [
      "\u001b[1;31m---------------------------------------------------------------------------\u001b[0m",
      "\u001b[1;31mKeyboardInterrupt\u001b[0m                         Traceback (most recent call last)",
      "\u001b[1;32m~\\AppData\\Local\\Temp\\ipykernel_25528\\1693300291.py\u001b[0m in \u001b[0;36m<module>\u001b[1;34m\u001b[0m\n\u001b[0;32m     26\u001b[0m \u001b[1;31m# Optuna 스터디 생성 및 최적화 실행\u001b[0m\u001b[1;33m\u001b[0m\u001b[1;33m\u001b[0m\u001b[1;33m\u001b[0m\u001b[0m\n\u001b[0;32m     27\u001b[0m \u001b[0mstudy\u001b[0m \u001b[1;33m=\u001b[0m \u001b[0moptuna\u001b[0m\u001b[1;33m.\u001b[0m\u001b[0mcreate_study\u001b[0m\u001b[1;33m(\u001b[0m\u001b[0mdirection\u001b[0m\u001b[1;33m=\u001b[0m\u001b[1;34m'maximize'\u001b[0m\u001b[1;33m)\u001b[0m\u001b[1;33m\u001b[0m\u001b[1;33m\u001b[0m\u001b[0m\n\u001b[1;32m---> 28\u001b[1;33m \u001b[0mstudy\u001b[0m\u001b[1;33m.\u001b[0m\u001b[0moptimize\u001b[0m\u001b[1;33m(\u001b[0m\u001b[0mobjective\u001b[0m\u001b[1;33m,\u001b[0m \u001b[0mn_trials\u001b[0m\u001b[1;33m=\u001b[0m\u001b[1;36m300\u001b[0m\u001b[1;33m)\u001b[0m\u001b[1;33m\u001b[0m\u001b[1;33m\u001b[0m\u001b[0m\n\u001b[0m\u001b[0;32m     29\u001b[0m \u001b[1;33m\u001b[0m\u001b[0m\n\u001b[0;32m     30\u001b[0m \u001b[1;31m# 최적의 하이퍼파라미터 출력\u001b[0m\u001b[1;33m\u001b[0m\u001b[1;33m\u001b[0m\u001b[1;33m\u001b[0m\u001b[0m\n",
      "\u001b[1;32mc:\\Users\\juneh\\AppData\\Local\\Programs\\Python\\Python37\\lib\\site-packages\\optuna\\study\\study.py\u001b[0m in \u001b[0;36moptimize\u001b[1;34m(self, func, n_trials, timeout, n_jobs, catch, callbacks, gc_after_trial, show_progress_bar)\u001b[0m\n\u001b[0;32m    458\u001b[0m             \u001b[0mcallbacks\u001b[0m\u001b[1;33m=\u001b[0m\u001b[0mcallbacks\u001b[0m\u001b[1;33m,\u001b[0m\u001b[1;33m\u001b[0m\u001b[1;33m\u001b[0m\u001b[0m\n\u001b[0;32m    459\u001b[0m             \u001b[0mgc_after_trial\u001b[0m\u001b[1;33m=\u001b[0m\u001b[0mgc_after_trial\u001b[0m\u001b[1;33m,\u001b[0m\u001b[1;33m\u001b[0m\u001b[1;33m\u001b[0m\u001b[0m\n\u001b[1;32m--> 460\u001b[1;33m             \u001b[0mshow_progress_bar\u001b[0m\u001b[1;33m=\u001b[0m\u001b[0mshow_progress_bar\u001b[0m\u001b[1;33m,\u001b[0m\u001b[1;33m\u001b[0m\u001b[1;33m\u001b[0m\u001b[0m\n\u001b[0m\u001b[0;32m    461\u001b[0m         )\n\u001b[0;32m    462\u001b[0m \u001b[1;33m\u001b[0m\u001b[0m\n",
      "\u001b[1;32mc:\\Users\\juneh\\AppData\\Local\\Programs\\Python\\Python37\\lib\\site-packages\\optuna\\study\\_optimize.py\u001b[0m in \u001b[0;36m_optimize\u001b[1;34m(study, func, n_trials, timeout, n_jobs, catch, callbacks, gc_after_trial, show_progress_bar)\u001b[0m\n\u001b[0;32m     70\u001b[0m                 \u001b[0mreseed_sampler_rng\u001b[0m\u001b[1;33m=\u001b[0m\u001b[1;32mFalse\u001b[0m\u001b[1;33m,\u001b[0m\u001b[1;33m\u001b[0m\u001b[1;33m\u001b[0m\u001b[0m\n\u001b[0;32m     71\u001b[0m                 \u001b[0mtime_start\u001b[0m\u001b[1;33m=\u001b[0m\u001b[1;32mNone\u001b[0m\u001b[1;33m,\u001b[0m\u001b[1;33m\u001b[0m\u001b[1;33m\u001b[0m\u001b[0m\n\u001b[1;32m---> 72\u001b[1;33m                 \u001b[0mprogress_bar\u001b[0m\u001b[1;33m=\u001b[0m\u001b[0mprogress_bar\u001b[0m\u001b[1;33m,\u001b[0m\u001b[1;33m\u001b[0m\u001b[1;33m\u001b[0m\u001b[0m\n\u001b[0m\u001b[0;32m     73\u001b[0m             )\n\u001b[0;32m     74\u001b[0m         \u001b[1;32melse\u001b[0m\u001b[1;33m:\u001b[0m\u001b[1;33m\u001b[0m\u001b[1;33m\u001b[0m\u001b[0m\n",
      "\u001b[1;32mc:\\Users\\juneh\\AppData\\Local\\Programs\\Python\\Python37\\lib\\site-packages\\optuna\\study\\_optimize.py\u001b[0m in \u001b[0;36m_optimize_sequential\u001b[1;34m(study, func, n_trials, timeout, catch, callbacks, gc_after_trial, reseed_sampler_rng, time_start, progress_bar)\u001b[0m\n\u001b[0;32m    157\u001b[0m \u001b[1;33m\u001b[0m\u001b[0m\n\u001b[0;32m    158\u001b[0m         \u001b[1;32mtry\u001b[0m\u001b[1;33m:\u001b[0m\u001b[1;33m\u001b[0m\u001b[1;33m\u001b[0m\u001b[0m\n\u001b[1;32m--> 159\u001b[1;33m             \u001b[0mfrozen_trial\u001b[0m \u001b[1;33m=\u001b[0m \u001b[0m_run_trial\u001b[0m\u001b[1;33m(\u001b[0m\u001b[0mstudy\u001b[0m\u001b[1;33m,\u001b[0m \u001b[0mfunc\u001b[0m\u001b[1;33m,\u001b[0m \u001b[0mcatch\u001b[0m\u001b[1;33m)\u001b[0m\u001b[1;33m\u001b[0m\u001b[1;33m\u001b[0m\u001b[0m\n\u001b[0m\u001b[0;32m    160\u001b[0m         \u001b[1;32mfinally\u001b[0m\u001b[1;33m:\u001b[0m\u001b[1;33m\u001b[0m\u001b[1;33m\u001b[0m\u001b[0m\n\u001b[0;32m    161\u001b[0m             \u001b[1;31m# The following line mitigates memory problems that can be occurred in some\u001b[0m\u001b[1;33m\u001b[0m\u001b[1;33m\u001b[0m\u001b[1;33m\u001b[0m\u001b[0m\n",
      "\u001b[1;32mc:\\Users\\juneh\\AppData\\Local\\Programs\\Python\\Python37\\lib\\site-packages\\optuna\\study\\_optimize.py\u001b[0m in \u001b[0;36m_run_trial\u001b[1;34m(study, func, catch)\u001b[0m\n\u001b[0;32m    245\u001b[0m         \u001b[1;32mand\u001b[0m \u001b[1;32mnot\u001b[0m \u001b[0misinstance\u001b[0m\u001b[1;33m(\u001b[0m\u001b[0mfunc_err\u001b[0m\u001b[1;33m,\u001b[0m \u001b[0mcatch\u001b[0m\u001b[1;33m)\u001b[0m\u001b[1;33m\u001b[0m\u001b[1;33m\u001b[0m\u001b[0m\n\u001b[0;32m    246\u001b[0m     ):\n\u001b[1;32m--> 247\u001b[1;33m         \u001b[1;32mraise\u001b[0m \u001b[0mfunc_err\u001b[0m\u001b[1;33m\u001b[0m\u001b[1;33m\u001b[0m\u001b[0m\n\u001b[0m\u001b[0;32m    248\u001b[0m     \u001b[1;32mreturn\u001b[0m \u001b[0mfrozen_trial\u001b[0m\u001b[1;33m\u001b[0m\u001b[1;33m\u001b[0m\u001b[0m\n\u001b[0;32m    249\u001b[0m \u001b[1;33m\u001b[0m\u001b[0m\n",
      "\u001b[1;32mc:\\Users\\juneh\\AppData\\Local\\Programs\\Python\\Python37\\lib\\site-packages\\optuna\\study\\_optimize.py\u001b[0m in \u001b[0;36m_run_trial\u001b[1;34m(study, func, catch)\u001b[0m\n\u001b[0;32m    194\u001b[0m     \u001b[1;32mwith\u001b[0m \u001b[0mget_heartbeat_thread\u001b[0m\u001b[1;33m(\u001b[0m\u001b[0mtrial\u001b[0m\u001b[1;33m.\u001b[0m\u001b[0m_trial_id\u001b[0m\u001b[1;33m,\u001b[0m \u001b[0mstudy\u001b[0m\u001b[1;33m.\u001b[0m\u001b[0m_storage\u001b[0m\u001b[1;33m)\u001b[0m\u001b[1;33m:\u001b[0m\u001b[1;33m\u001b[0m\u001b[1;33m\u001b[0m\u001b[0m\n\u001b[0;32m    195\u001b[0m         \u001b[1;32mtry\u001b[0m\u001b[1;33m:\u001b[0m\u001b[1;33m\u001b[0m\u001b[1;33m\u001b[0m\u001b[0m\n\u001b[1;32m--> 196\u001b[1;33m             \u001b[0mvalue_or_values\u001b[0m \u001b[1;33m=\u001b[0m \u001b[0mfunc\u001b[0m\u001b[1;33m(\u001b[0m\u001b[0mtrial\u001b[0m\u001b[1;33m)\u001b[0m\u001b[1;33m\u001b[0m\u001b[1;33m\u001b[0m\u001b[0m\n\u001b[0m\u001b[0;32m    197\u001b[0m         \u001b[1;32mexcept\u001b[0m \u001b[0mexceptions\u001b[0m\u001b[1;33m.\u001b[0m\u001b[0mTrialPruned\u001b[0m \u001b[1;32mas\u001b[0m \u001b[0me\u001b[0m\u001b[1;33m:\u001b[0m\u001b[1;33m\u001b[0m\u001b[1;33m\u001b[0m\u001b[0m\n\u001b[0;32m    198\u001b[0m             \u001b[1;31m# TODO(mamu): Handle multi-objective cases.\u001b[0m\u001b[1;33m\u001b[0m\u001b[1;33m\u001b[0m\u001b[1;33m\u001b[0m\u001b[0m\n",
      "\u001b[1;32m~\\AppData\\Local\\Temp\\ipykernel_25528\\1693300291.py\u001b[0m in \u001b[0;36mobjective\u001b[1;34m(trial)\u001b[0m\n\u001b[0;32m     17\u001b[0m \u001b[1;33m\u001b[0m\u001b[0m\n\u001b[0;32m     18\u001b[0m     \u001b[0mmodel\u001b[0m \u001b[1;33m=\u001b[0m \u001b[0mCatBoostClassifier\u001b[0m\u001b[1;33m(\u001b[0m\u001b[1;33m**\u001b[0m\u001b[0mparam\u001b[0m\u001b[1;33m)\u001b[0m\u001b[1;33m\u001b[0m\u001b[1;33m\u001b[0m\u001b[0m\n\u001b[1;32m---> 19\u001b[1;33m     \u001b[0mmodel\u001b[0m\u001b[1;33m.\u001b[0m\u001b[0mfit\u001b[0m\u001b[1;33m(\u001b[0m\u001b[0mTotal_X_train\u001b[0m\u001b[1;33m,\u001b[0m \u001b[0mTotal_y_train\u001b[0m\u001b[1;33m)\u001b[0m\u001b[1;33m\u001b[0m\u001b[1;33m\u001b[0m\u001b[0m\n\u001b[0m\u001b[0;32m     20\u001b[0m \u001b[1;33m\u001b[0m\u001b[0m\n\u001b[0;32m     21\u001b[0m     \u001b[0my_pred_proba\u001b[0m \u001b[1;33m=\u001b[0m \u001b[0mmodel\u001b[0m\u001b[1;33m.\u001b[0m\u001b[0mpredict_proba\u001b[0m\u001b[1;33m(\u001b[0m\u001b[0mTotal_X_test\u001b[0m\u001b[1;33m)\u001b[0m\u001b[1;33m[\u001b[0m\u001b[1;33m:\u001b[0m\u001b[1;33m,\u001b[0m \u001b[1;36m1\u001b[0m\u001b[1;33m]\u001b[0m\u001b[1;33m\u001b[0m\u001b[1;33m\u001b[0m\u001b[0m\n",
      "\u001b[1;32mc:\\Users\\juneh\\AppData\\Local\\Programs\\Python\\Python37\\lib\\site-packages\\catboost\\core.py\u001b[0m in \u001b[0;36mfit\u001b[1;34m(self, X, y, cat_features, text_features, embedding_features, sample_weight, baseline, use_best_model, eval_set, verbose, logging_level, plot, plot_file, column_description, verbose_eval, metric_period, silent, early_stopping_rounds, save_snapshot, snapshot_file, snapshot_interval, init_model, callbacks, log_cout, log_cerr)\u001b[0m\n\u001b[0;32m   5220\u001b[0m         self._fit(X, y, cat_features, text_features, embedding_features, None, sample_weight, None, None, None, None, baseline, use_best_model,\n\u001b[0;32m   5221\u001b[0m                   \u001b[0meval_set\u001b[0m\u001b[1;33m,\u001b[0m \u001b[0mverbose\u001b[0m\u001b[1;33m,\u001b[0m \u001b[0mlogging_level\u001b[0m\u001b[1;33m,\u001b[0m \u001b[0mplot\u001b[0m\u001b[1;33m,\u001b[0m \u001b[0mplot_file\u001b[0m\u001b[1;33m,\u001b[0m \u001b[0mcolumn_description\u001b[0m\u001b[1;33m,\u001b[0m \u001b[0mverbose_eval\u001b[0m\u001b[1;33m,\u001b[0m \u001b[0mmetric_period\u001b[0m\u001b[1;33m,\u001b[0m\u001b[1;33m\u001b[0m\u001b[1;33m\u001b[0m\u001b[0m\n\u001b[1;32m-> 5222\u001b[1;33m                   silent, early_stopping_rounds, save_snapshot, snapshot_file, snapshot_interval, init_model, callbacks, log_cout, log_cerr)\n\u001b[0m\u001b[0;32m   5223\u001b[0m         \u001b[1;32mreturn\u001b[0m \u001b[0mself\u001b[0m\u001b[1;33m\u001b[0m\u001b[1;33m\u001b[0m\u001b[0m\n\u001b[0;32m   5224\u001b[0m \u001b[1;33m\u001b[0m\u001b[0m\n",
      "\u001b[1;32mc:\\Users\\juneh\\AppData\\Local\\Programs\\Python\\Python37\\lib\\site-packages\\catboost\\core.py\u001b[0m in \u001b[0;36m_fit\u001b[1;34m(self, X, y, cat_features, text_features, embedding_features, pairs, sample_weight, group_id, group_weight, subgroup_id, pairs_weight, baseline, use_best_model, eval_set, verbose, logging_level, plot, plot_file, column_description, verbose_eval, metric_period, silent, early_stopping_rounds, save_snapshot, snapshot_file, snapshot_interval, init_model, callbacks, log_cout, log_cerr)\u001b[0m\n\u001b[0;32m   2403\u001b[0m                     \u001b[0mparams\u001b[0m\u001b[1;33m,\u001b[0m\u001b[1;33m\u001b[0m\u001b[1;33m\u001b[0m\u001b[0m\n\u001b[0;32m   2404\u001b[0m                     \u001b[0mallow_clear_pool\u001b[0m\u001b[1;33m,\u001b[0m\u001b[1;33m\u001b[0m\u001b[1;33m\u001b[0m\u001b[0m\n\u001b[1;32m-> 2405\u001b[1;33m                     \u001b[0mtrain_params\u001b[0m\u001b[1;33m[\u001b[0m\u001b[1;34m\"init_model\"\u001b[0m\u001b[1;33m]\u001b[0m\u001b[1;33m\u001b[0m\u001b[1;33m\u001b[0m\u001b[0m\n\u001b[0m\u001b[0;32m   2406\u001b[0m                 )\n\u001b[0;32m   2407\u001b[0m \u001b[1;33m\u001b[0m\u001b[0m\n",
      "\u001b[1;32mc:\\Users\\juneh\\AppData\\Local\\Programs\\Python\\Python37\\lib\\site-packages\\catboost\\core.py\u001b[0m in \u001b[0;36m_train\u001b[1;34m(self, train_pool, test_pool, params, allow_clear_pool, init_model)\u001b[0m\n\u001b[0;32m   1778\u001b[0m \u001b[1;33m\u001b[0m\u001b[0m\n\u001b[0;32m   1779\u001b[0m     \u001b[1;32mdef\u001b[0m \u001b[0m_train\u001b[0m\u001b[1;33m(\u001b[0m\u001b[0mself\u001b[0m\u001b[1;33m,\u001b[0m \u001b[0mtrain_pool\u001b[0m\u001b[1;33m,\u001b[0m \u001b[0mtest_pool\u001b[0m\u001b[1;33m,\u001b[0m \u001b[0mparams\u001b[0m\u001b[1;33m,\u001b[0m \u001b[0mallow_clear_pool\u001b[0m\u001b[1;33m,\u001b[0m \u001b[0minit_model\u001b[0m\u001b[1;33m)\u001b[0m\u001b[1;33m:\u001b[0m\u001b[1;33m\u001b[0m\u001b[1;33m\u001b[0m\u001b[0m\n\u001b[1;32m-> 1780\u001b[1;33m         \u001b[0mself\u001b[0m\u001b[1;33m.\u001b[0m\u001b[0m_object\u001b[0m\u001b[1;33m.\u001b[0m\u001b[0m_train\u001b[0m\u001b[1;33m(\u001b[0m\u001b[0mtrain_pool\u001b[0m\u001b[1;33m,\u001b[0m \u001b[0mtest_pool\u001b[0m\u001b[1;33m,\u001b[0m \u001b[0mparams\u001b[0m\u001b[1;33m,\u001b[0m \u001b[0mallow_clear_pool\u001b[0m\u001b[1;33m,\u001b[0m \u001b[0minit_model\u001b[0m\u001b[1;33m.\u001b[0m\u001b[0m_object\u001b[0m \u001b[1;32mif\u001b[0m \u001b[0minit_model\u001b[0m \u001b[1;32melse\u001b[0m \u001b[1;32mNone\u001b[0m\u001b[1;33m)\u001b[0m\u001b[1;33m\u001b[0m\u001b[1;33m\u001b[0m\u001b[0m\n\u001b[0m\u001b[0;32m   1781\u001b[0m         \u001b[0mself\u001b[0m\u001b[1;33m.\u001b[0m\u001b[0m_set_trained_model_attributes\u001b[0m\u001b[1;33m(\u001b[0m\u001b[1;33m)\u001b[0m\u001b[1;33m\u001b[0m\u001b[1;33m\u001b[0m\u001b[0m\n\u001b[0;32m   1782\u001b[0m \u001b[1;33m\u001b[0m\u001b[0m\n",
      "\u001b[1;32m_catboost.pyx\u001b[0m in \u001b[0;36m_catboost._CatBoost._train\u001b[1;34m()\u001b[0m\n",
      "\u001b[1;32m_catboost.pyx\u001b[0m in \u001b[0;36m_catboost._CatBoost._train\u001b[1;34m()\u001b[0m\n",
      "\u001b[1;31mKeyboardInterrupt\u001b[0m: "
     ]
    }
   ],
   "source": [
    "# 목적 함수 정의\n",
    "def objective(trial):\n",
    "    param = {\n",
    "        'iterations': trial.suggest_int('iterations', 1000, 5000),\n",
    "        'learning_rate': trial.suggest_float('learning_rate', 0.0005, 0.5),\n",
    "        'min_data_in_leaf': trial.suggest_int('min_data_in_leaf', 1, 20),\n",
    "        'l2_leaf_reg': trial.suggest_float('l2_leaf_reg', 0.01, 100, log=True),\n",
    "        'random_strength': trial.suggest_float('random_strength', 0, 10),\n",
    "        'bagging_temperature': trial.suggest_float('bagging_temperature', 0.01, 100),\n",
    "        'border_count': trial.suggest_int('border_count', 32, 256),\n",
    "\n",
    "        'thread_count': -1,  # 병렬 처리에 사용할 스레드 수 (-1이면 모든 코어 사용)\n",
    "        'random_state': 42,\n",
    "        'logging_level': 'Silent',\n",
    "        'boosting_type': 'Plain'\n",
    "    }\n",
    "\n",
    "    model = CatBoostClassifier(**param)\n",
    "    model.fit(Total_X_train, Total_y_train)\n",
    "\n",
    "    y_pred_proba = model.predict_proba(Total_X_test)[:, 1]\n",
    "\n",
    "    auc = roc_auc_score(Total_y_test, y_pred_proba)\n",
    "    return auc\n",
    "\n",
    "# Optuna 스터디 생성 및 최적화 실행\n",
    "study = optuna.create_study(direction='maximize')\n",
    "study.optimize(objective, n_trials=300)\n",
    "\n",
    "# 최적의 하이퍼파라미터 출력\n",
    "print(\"Best trial:\")\n",
    "trial = study.best_trial\n",
    "print(f\"  Value: {trial.value}\")\n",
    "print(\"  Params: \")\n",
    "for key, value in trial.params.items():\n",
    "    print(f\"    {key}: {value}\")"
   ]
  },
  {
   "cell_type": "markdown",
   "metadata": {
    "id": "T28wl1vxVQA9"
   },
   "source": [
    "."
   ]
  }
 ],
 "metadata": {
  "accelerator": "GPU",
  "colab": {
   "gpuType": "T4",
   "provenance": []
  },
  "kernelspec": {
   "display_name": "Python 3",
   "name": "python3"
  },
  "language_info": {
   "codemirror_mode": {
    "name": "ipython",
    "version": 3
   },
   "file_extension": ".py",
   "mimetype": "text/x-python",
   "name": "python",
   "nbconvert_exporter": "python",
   "pygments_lexer": "ipython3",
   "version": "3.7.8"
  }
 },
 "nbformat": 4,
 "nbformat_minor": 0
}
