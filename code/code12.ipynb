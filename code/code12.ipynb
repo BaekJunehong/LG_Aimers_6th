{
 "cells": [
  {
   "cell_type": "markdown",
   "metadata": {},
   "source": [
    "## 난임 환자 대상 임신 성공 여부 예측"
   ]
  },
  {
   "cell_type": "markdown",
   "metadata": {},
   "source": [
    "### LGAimers 6th 온라인 해커톤"
   ]
  },
  {
   "cell_type": "markdown",
   "metadata": {},
   "source": [
    "Import"
   ]
  },
  {
   "cell_type": "code",
   "execution_count": 67,
   "metadata": {},
   "outputs": [],
   "source": [
    "import numpy as np\n",
    "import pandas as pd\n",
    "import seaborn as sns\n",
    "import matplotlib.pyplot as plt\n",
    "\n",
    "import os\n",
    "from pprint import pprint\n",
    "\n",
    "from sklearn.ensemble import RandomForestClassifier, ExtraTreesClassifier\n",
    "from sklearn.metrics import (\n",
    "    accuracy_score,\n",
    "    classification_report,\n",
    "    confusion_matrix,\n",
    "    f1_score,\n",
    "    precision_score,\n",
    "    recall_score,\n",
    "    roc_auc_score,\n",
    "    roc_curve\n",
    ")\n",
    "from sklearn.model_selection import train_test_split\n",
    "from sklearn.metrics import accuracy_score, f1_score, roc_auc_score, confusion_matrix, ConfusionMatrixDisplay\n",
    "import matplotlib.pyplot as plt\n",
    "from sklearn.preprocessing import OrdinalEncoder\n",
    "from tqdm import tqdm\n",
    "\n",
    "import lightgbm as lgb\n",
    "import xgboost as xgb\n",
    "from catboost import CatBoostClassifier\n",
    "\n",
    "import optuna\n",
    "import lightgbm as lgb\n",
    "from sklearn.metrics import roc_auc_score\n",
    "from sklearn.preprocessing import OrdinalEncoder\n"
   ]
  },
  {
   "cell_type": "code",
   "execution_count": 68,
   "metadata": {},
   "outputs": [],
   "source": [
    "import platform\n",
    "from matplotlib import rc\n",
    "\n",
    "# 운영 체제에 따라 폰트 설정\n",
    "if platform.system() == 'Windows':  # Windows 환경\n",
    "    rc('font', family='Malgun Gothic')  # 맑은 고딕\n",
    "\n",
    "# 음수 표시 가능하도록 설정\n",
    "plt.rcParams['axes.unicode_minus'] = False"
   ]
  },
  {
   "cell_type": "markdown",
   "metadata": {},
   "source": [
    "반복적으로 쓰는 함수툴"
   ]
  },
  {
   "cell_type": "code",
   "execution_count": 69,
   "metadata": {},
   "outputs": [],
   "source": [
    "import matplotlib.pyplot as plt\n",
    "import seaborn as sns\n",
    "import pandas as pd\n",
    "\n",
    "def plot_box(df, col_name):\n",
    "    \"\"\"\n",
    "    주어진 데이터프레임과 열 이름에 대해 박스 플롯을 그리는 함수.\n",
    "\n",
    "    Parameters:\n",
    "    df (pd.DataFrame): 데이터프레임\n",
    "    col_name (str): 열 이름\n",
    "    \"\"\"\n",
    "    plt.figure(figsize=(7, 4))\n",
    "    plt.boxplot(df[col_name], vert=False)\n",
    "    plt.xlabel(col_name)\n",
    "    plt.title(f'Box Plot of {col_name}')\n",
    "    plt.show()\n",
    "\n",
    "def value_counts_ratio(df, col_name, target_name='임신_성공_여부'):\n",
    "    \"\"\"\n",
    "    주어진 데이터프레임의 특정 열에 대해 각 값마다 타겟 변수의 비율과 갯수, 총 갯수를 출력하는 함수.\n",
    "\n",
    "    Parameters:\n",
    "    df (pd.DataFrame): 데이터프레임\n",
    "    col_name (str): 열 이름\n",
    "    target_name (str): 타겟 변수 이름\n",
    "    \"\"\"\n",
    "    # 각 값마다 타겟 변수의 비율 계산\n",
    "    value_counts = df.groupby(col_name)[target_name].value_counts(normalize=True).unstack().fillna(0)\n",
    "    \n",
    "    # 각 값마다 타겟 변수의 갯수 계산\n",
    "    counts = df.groupby(col_name)[target_name].value_counts().unstack().fillna(0)\n",
    "    \n",
    "    # 각 값마다 총 갯수 계산\n",
    "    total_counts = df[col_name].value_counts().rename('Total_Count')\n",
    "    \n",
    "    # 비율과 갯수를 합침\n",
    "    result = value_counts.join(counts, lsuffix='_ratio', rsuffix='_count')\n",
    "    \n",
    "    # 총 갯수를 합침\n",
    "    result = result.join(total_counts, on=col_name)\n",
    "    \n",
    "    # 출력 형식 조정\n",
    "    result.index.name = 'variable'\n",
    "    print(f\"\\n{col_name}별 {target_name} 비율 및 갯수\\n\")\n",
    "    print(result.rename(columns=lambda x: x.split('_')[0]))\n",
    "\n",
    "def summarize_group(df, group_by_columns):\n",
    "    \"\"\"\n",
    "    주어진 데이터프레임을 특정 열들로 그룹화하여 각 그룹의 '임신_성공_여부' 비율과 갯수를 요약하는 함수.\n",
    "\n",
    "    Parameters:\n",
    "    df (pd.DataFrame): 데이터프레임\n",
    "    group_by_columns (list): 그룹화할 열 이름들의 리스트\n",
    "    \"\"\"\n",
    "    # 데이터프레임을 그룹화\n",
    "    grouped_df = df.groupby(group_by_columns)\n",
    "    \n",
    "    # 결과를 저장할 리스트 초기화\n",
    "    results = []\n",
    "    \n",
    "    # 그룹화된 데이터프레임의 내용을 확인하는 코드\n",
    "    for name, group in grouped_df:\n",
    "        # 그룹의 갯수 계산\n",
    "        group_count = group.shape[0]\n",
    "        \n",
    "        # '임신_성공_여부' 변수의 '임신 성공' 비율과 갯수 계산\n",
    "        success_count = group['임신_성공_여부'].value_counts().get(1, 0)\n",
    "        success_ratio = success_count / group_count\n",
    "        \n",
    "        # 결과 리스트에 추가\n",
    "        results.append([name, success_count, success_ratio, group_count])\n",
    "    \n",
    "    # 결과 리스트를 데이터프레임으로 변환\n",
    "    results_df = pd.DataFrame(results, columns=['group', \"'임신_성공_여부' count\", 'ratio', 'Total'])\n",
    "    \n",
    "    # 그룹화된 변수들의 이름을 제목행으로 출력\n",
    "    print(f\"Grouped by: {', '.join(group_by_columns)}\")\n",
    "    print()\n",
    "    # 데이터프레임 출력\n",
    "    print(results_df)\n",
    "\n",
    "def plot_ratio(df, group_by_column, target_column='임신_성공_여부', success_value=1):\n",
    "    \"\"\"\n",
    "    주어진 데이터프레임을 특정 열로 그룹화하여 각 그룹의 타겟 변수의 성공 비율을 시각화하는 함수.\n",
    "\n",
    "    Parameters:\n",
    "    df (pd.DataFrame): 데이터프레임\n",
    "    group_by_column (str): 그룹화할 열 이름\n",
    "    target_column (str): 타겟 변수 이름\n",
    "    success_value (int): 타겟 변수의 성공을 나타내는 값\n",
    "    \"\"\"\n",
    "    # 데이터프레임을 그룹화\n",
    "    grouped_df = df.groupby(group_by_column)\n",
    "    \n",
    "    # 결과를 저장할 리스트 초기화\n",
    "    results = []\n",
    "    \n",
    "    # 그룹화된 데이터프레임의 내용을 확인하는 코드\n",
    "    for name, group in grouped_df:\n",
    "        # 그룹의 갯수 계산\n",
    "        group_count = group.shape[0]\n",
    "        \n",
    "        # '임신_성공_여부' 변수의 '성공' 비율과 갯수 계산\n",
    "        success_count = group[target_column].value_counts().get(success_value, 0)\n",
    "        success_ratio = success_count / group_count\n",
    "        \n",
    "        # 결과 리스트에 추가\n",
    "        results.append([name, success_count, success_ratio, group_count])\n",
    "    \n",
    "    # 결과 리스트를 데이터프레임으로 변환\n",
    "    results_df = pd.DataFrame(results, columns=['group', f\"'{success_value}' count\", 'ratio', 'Total'])\n",
    "    \n",
    "    # 그래프 크기 설정\n",
    "    plt.figure(figsize=(10, 5))\n",
    "    \n",
    "    # 막대 그래프 생성\n",
    "    ax = results_df.plot(kind='bar', x='group', y='ratio', legend=False)\n",
    "    \n",
    "    # 각 막대 위에 임신 성공 여부 갯수와 총 갯수 표시\n",
    "    for i, (success_count, total) in enumerate(zip(results_df[f\"'{success_value}' count\"], results_df['Total'])):\n",
    "        ax.text(i, results_df['ratio'][i], f'{success_count} ({total})', ha='center', va='bottom', fontsize=8)\n",
    "    \n",
    "    # 그래프 제목 및 축 레이블 설정\n",
    "    ax.set_title(f'{success_value} Ratio by {group_by_column}')\n",
    "    ax.set_xlabel(group_by_column)\n",
    "    ax.set_ylabel(f'{success_value} Ratio')\n",
    "   \n",
    "    # 그래프 출력\n",
    "    plt.show()\n",
    "\n",
    "def plot_ratio_boxplot(data, column_name, target_column='임신_성공_여부'):\n",
    "    \"\"\"\n",
    "    주어진 데이터프레임의 특정 열과 타겟 변수 간의 관계를 박스 플롯으로 시각화하는 함수.\n",
    "\n",
    "    Parameters:\n",
    "    data (pd.DataFrame): 데이터프레임\n",
    "    column_name (str): 열 이름\n",
    "    target_column (str): 타겟 변수 이름\n",
    "    \"\"\"\n",
    "\n",
    "    # 그래프 그리기\n",
    "    plt.figure(figsize=(10, 6))\n",
    "    sns.boxplot(x=column_name, y=target_column, data=data)\n",
    "\n",
    "    # 그래프 제목 및 레이블 설정\n",
    "    plt.title(f'{column_name} vs {target_column}')\n",
    "    plt.xlabel(column_name)\n",
    "    plt.ylabel(target_column)\n",
    "\n",
    "    # 그래프 출력\n",
    "    plt.show()"
   ]
  },
  {
   "cell_type": "markdown",
   "metadata": {},
   "source": [
    "### Data Load"
   ]
  },
  {
   "cell_type": "code",
   "execution_count": 70,
   "metadata": {},
   "outputs": [
    {
     "name": "stdout",
     "output_type": "stream",
     "text": [
      "Index(['시술_시기_코드', '시술_당시_나이', '임신_시도_또는_마지막_임신_경과_연수', '시술_유형', '특정_시술_유형',\n",
      "       '배란_자극_여부', '배란_유도_유형', '단일_배아_이식_여부', '착상_전_유전_검사_사용_여부',\n",
      "       '착상_전_유전_진단_사용_여부', '남성_주_불임_원인', '남성_부_불임_원인', '여성_주_불임_원인',\n",
      "       '여성_부_불임_원인', '부부_주_불임_원인', '부부_부_불임_원인', '불명확_불임_원인', '불임_원인_-_난관_질환',\n",
      "       '불임_원인_-_남성_요인', '불임_원인_-_배란_장애', '불임_원인_-_여성_요인', '불임_원인_-_자궁경부_문제',\n",
      "       '불임_원인_-_자궁내막증', '불임_원인_-_정자_농도', '불임_원인_-_정자_면역학적_요인',\n",
      "       '불임_원인_-_정자_운동성', '불임_원인_-_정자_형태', '배아_생성_주요_이유', '총_시술_횟수',\n",
      "       '클리닉_내_총_시술_횟수', 'IVF_시술_횟수', 'DI_시술_횟수', '총_임신_횟수', 'IVF_임신_횟수',\n",
      "       'DI_임신_횟수', '총_출산_횟수', 'IVF_출산_횟수', 'DI_출산_횟수', '총_생성_배아_수',\n",
      "       '미세주입된_난자_수', '미세주입에서_생성된_배아_수', '이식된_배아_수', '미세주입_배아_이식_수', '저장된_배아_수',\n",
      "       '미세주입_후_저장된_배아_수', '해동된_배아_수', '해동_난자_수', '수집된_신선_난자_수', '저장된_신선_난자_수',\n",
      "       '혼합된_난자_수', '파트너_정자와_혼합된_난자_수', '기증자_정자와_혼합된_난자_수', '난자_출처', '정자_출처',\n",
      "       '난자_기증자_나이', '정자_기증자_나이', '동결_배아_사용_여부', '신선_배아_사용_여부', '기증_배아_사용_여부',\n",
      "       '대리모_여부', 'PGD_시술_여부', 'PGS_시술_여부', '난자_채취_경과일', '난자_해동_경과일',\n",
      "       '난자_혼합_경과일', '배아_이식_경과일', '배아_해동_경과일', '임신_성공_여부'],\n",
      "      dtype='object')\n"
     ]
    }
   ],
   "source": [
    "import pandas as pd\n",
    "\n",
    "# 데이터 로드\n",
    "train = pd.read_csv('../data/train.csv').drop(columns=['ID'])\n",
    "test = pd.read_csv('../data/test.csv').drop(columns=['ID'])\n",
    "\n",
    "# 변수명에서 공백을 밑줄로 대체\n",
    "train.columns = train.columns.str.replace(' ', '_')\n",
    "test.columns = test.columns.str.replace(' ', '_')\n",
    "\n",
    "# 변경된 변수명 확인\n",
    "print(train.columns)"
   ]
  },
  {
   "cell_type": "code",
   "execution_count": 71,
   "metadata": {},
   "outputs": [
    {
     "name": "stdout",
     "output_type": "stream",
     "text": [
      "<class 'pandas.core.frame.DataFrame'>\n",
      "RangeIndex: 256351 entries, 0 to 256350\n",
      "Data columns (total 68 columns):\n",
      " #   Column                 Non-Null Count   Dtype  \n",
      "---  ------                 --------------   -----  \n",
      " 0   시술_시기_코드               256351 non-null  object \n",
      " 1   시술_당시_나이               256351 non-null  object \n",
      " 2   임신_시도_또는_마지막_임신_경과_연수  9370 non-null    float64\n",
      " 3   시술_유형                  256351 non-null  object \n",
      " 4   특정_시술_유형               256349 non-null  object \n",
      " 5   배란_자극_여부               256351 non-null  int64  \n",
      " 6   배란_유도_유형               256351 non-null  object \n",
      " 7   단일_배아_이식_여부            250060 non-null  float64\n",
      " 8   착상_전_유전_검사_사용_여부       2718 non-null    float64\n",
      " 9   착상_전_유전_진단_사용_여부       250060 non-null  float64\n",
      " 10  남성_주_불임_원인             256351 non-null  int64  \n",
      " 11  남성_부_불임_원인             256351 non-null  int64  \n",
      " 12  여성_주_불임_원인             256351 non-null  int64  \n",
      " 13  여성_부_불임_원인             256351 non-null  int64  \n",
      " 14  부부_주_불임_원인             256351 non-null  int64  \n",
      " 15  부부_부_불임_원인             256351 non-null  int64  \n",
      " 16  불명확_불임_원인              256351 non-null  int64  \n",
      " 17  불임_원인_-_난관_질환          256351 non-null  int64  \n",
      " 18  불임_원인_-_남성_요인          256351 non-null  int64  \n",
      " 19  불임_원인_-_배란_장애          256351 non-null  int64  \n",
      " 20  불임_원인_-_여성_요인          256351 non-null  int64  \n",
      " 21  불임_원인_-_자궁경부_문제        256351 non-null  int64  \n",
      " 22  불임_원인_-_자궁내막증          256351 non-null  int64  \n",
      " 23  불임_원인_-_정자_농도          256351 non-null  int64  \n",
      " 24  불임_원인_-_정자_면역학적_요인     256351 non-null  int64  \n",
      " 25  불임_원인_-_정자_운동성         256351 non-null  int64  \n",
      " 26  불임_원인_-_정자_형태          256351 non-null  int64  \n",
      " 27  배아_생성_주요_이유            250060 non-null  object \n",
      " 28  총_시술_횟수                256351 non-null  object \n",
      " 29  클리닉_내_총_시술_횟수          256351 non-null  object \n",
      " 30  IVF_시술_횟수              256351 non-null  object \n",
      " 31  DI_시술_횟수               256351 non-null  object \n",
      " 32  총_임신_횟수                256351 non-null  object \n",
      " 33  IVF_임신_횟수              256351 non-null  object \n",
      " 34  DI_임신_횟수               256351 non-null  object \n",
      " 35  총_출산_횟수                256351 non-null  object \n",
      " 36  IVF_출산_횟수              256351 non-null  object \n",
      " 37  DI_출산_횟수               256351 non-null  object \n",
      " 38  총_생성_배아_수              250060 non-null  float64\n",
      " 39  미세주입된_난자_수             250060 non-null  float64\n",
      " 40  미세주입에서_생성된_배아_수        250060 non-null  float64\n",
      " 41  이식된_배아_수               250060 non-null  float64\n",
      " 42  미세주입_배아_이식_수           250060 non-null  float64\n",
      " 43  저장된_배아_수               250060 non-null  float64\n",
      " 44  미세주입_후_저장된_배아_수        250060 non-null  float64\n",
      " 45  해동된_배아_수               250060 non-null  float64\n",
      " 46  해동_난자_수                250060 non-null  float64\n",
      " 47  수집된_신선_난자_수            250060 non-null  float64\n",
      " 48  저장된_신선_난자_수            250060 non-null  float64\n",
      " 49  혼합된_난자_수               250060 non-null  float64\n",
      " 50  파트너_정자와_혼합된_난자_수       250060 non-null  float64\n",
      " 51  기증자_정자와_혼합된_난자_수       250060 non-null  float64\n",
      " 52  난자_출처                  256351 non-null  object \n",
      " 53  정자_출처                  256351 non-null  object \n",
      " 54  난자_기증자_나이              256351 non-null  object \n",
      " 55  정자_기증자_나이              256351 non-null  object \n",
      " 56  동결_배아_사용_여부            250060 non-null  float64\n",
      " 57  신선_배아_사용_여부            250060 non-null  float64\n",
      " 58  기증_배아_사용_여부            250060 non-null  float64\n",
      " 59  대리모_여부                 250060 non-null  float64\n",
      " 60  PGD_시술_여부              2179 non-null    float64\n",
      " 61  PGS_시술_여부              1929 non-null    float64\n",
      " 62  난자_채취_경과일              198863 non-null  float64\n",
      " 63  난자_해동_경과일              1436 non-null    float64\n",
      " 64  난자_혼합_경과일              202616 non-null  float64\n",
      " 65  배아_이식_경과일              212785 non-null  float64\n",
      " 66  배아_해동_경과일              40369 non-null   float64\n",
      " 67  임신_성공_여부               256351 non-null  int64  \n",
      "dtypes: float64(29), int64(19), object(20)\n",
      "memory usage: 133.0+ MB\n"
     ]
    }
   ],
   "source": [
    "train.info(verbose=True)"
   ]
  },
  {
   "cell_type": "code",
   "execution_count": 72,
   "metadata": {},
   "outputs": [
    {
     "data": {
      "image/png": "[encoded data removed]",
      "text/plain": [
       "<Figure size 640x480 with 1 Axes>"
      ]
     },
     "metadata": {},
     "output_type": "display_data"
    }
   ],
   "source": [
    "import matplotlib.pyplot as plt\n",
    "import pandas as pd\n",
    "\n",
    "# '임신_성공_여부' 변수의 값 개수 계산\n",
    "value_counts = train['임신_성공_여부'].value_counts()\n",
    "\n",
    "# 라벨 변경\n",
    "labels = {1: '1(임신 성공)', 0: '0(임신 실패)'}\n",
    "value_counts.index = value_counts.index.map(labels)\n",
    "\n",
    "# 도넛 차트 그리기\n",
    "fig, ax = plt.subplots()\n",
    "\n",
    "# 파이 차트 그리기\n",
    "wedges, texts, autotexts = ax.pie(value_counts, labels=value_counts.index, autopct='%1.1f%%', startangle=90, wedgeprops=dict(width=0.5))\n",
    "\n",
    "# 도넛 차트 가운데에 원 그리기\n",
    "centre_circle = plt.Circle((0, 0), 0.70, fc='white')\n",
    "fig.gca().add_artist(centre_circle)\n",
    "\n",
    "# 차트 제목 설정\n",
    "ax.set_title('임신 성공 여부 도넛 차트')\n",
    "\n",
    "# 차트 표시\n",
    "plt.show()"
   ]
  },
  {
   "cell_type": "markdown",
   "metadata": {},
   "source": [
    "## EDA"
   ]
  },
  {
   "cell_type": "code",
   "execution_count": 73,
   "metadata": {},
   "outputs": [
    {
     "name": "stdout",
     "output_type": "stream",
     "text": [
      "시술유형 IVF 데이터셋:\n",
      "       시술_시기_코드 시술_당시_나이  임신_시도_또는_마지막_임신_경과_연수 시술_유형 특정_시술_유형  배란_자극_여부  \\\n",
      "0        TRZKPL  만18-34세                    NaN   IVF     ICSI         1   \n",
      "1        TRYBLT  만45-50세                    NaN   IVF     ICSI         0   \n",
      "2        TRVNRY  만18-34세                    NaN   IVF      IVF         1   \n",
      "3        TRJXFG  만35-37세                    NaN   IVF     ICSI         1   \n",
      "4        TRVNRY  만18-34세                    NaN   IVF     ICSI         1   \n",
      "...         ...      ...                    ...   ...      ...       ...   \n",
      "256346   TRYBLT  만18-34세                    NaN   IVF     ICSI         1   \n",
      "256347   TRYBLT  만38-39세                    NaN   IVF     ICSI         1   \n",
      "256348   TRVNRY  만35-37세                    NaN   IVF     ICSI         1   \n",
      "256349   TRZKPL  만38-39세                    NaN   IVF     ICSI         1   \n",
      "256350   TRXQMD  만35-37세                    NaN   IVF      IVF         0   \n",
      "\n",
      "          배란_유도_유형  단일_배아_이식_여부  착상_전_유전_검사_사용_여부  착상_전_유전_진단_사용_여부  ...  \\\n",
      "0       기록되지 않은 시행          0.0               NaN               0.0  ...   \n",
      "1           알 수 없음          0.0               NaN               0.0  ...   \n",
      "2       기록되지 않은 시행          0.0               NaN               0.0  ...   \n",
      "3       기록되지 않은 시행          0.0               NaN               0.0  ...   \n",
      "4       기록되지 않은 시행          0.0               NaN               0.0  ...   \n",
      "...            ...          ...               ...               ...  ...   \n",
      "256346  기록되지 않은 시행          0.0               NaN               0.0  ...   \n",
      "256347  기록되지 않은 시행          0.0               NaN               0.0  ...   \n",
      "256348  기록되지 않은 시행          0.0               NaN               0.0  ...   \n",
      "256349  기록되지 않은 시행          0.0               NaN               0.0  ...   \n",
      "256350      알 수 없음          0.0               NaN               0.0  ...   \n",
      "\n",
      "        기증_배아_사용_여부  대리모_여부  PGD_시술_여부  PGS_시술_여부  난자_채취_경과일  난자_해동_경과일  \\\n",
      "0               0.0     0.0        NaN        NaN        0.0        NaN   \n",
      "1               0.0     0.0        NaN        NaN        0.0        NaN   \n",
      "2               0.0     0.0        NaN        NaN        0.0        NaN   \n",
      "3               0.0     0.0        NaN        NaN        0.0        NaN   \n",
      "4               0.0     0.0        NaN        NaN        0.0        NaN   \n",
      "...             ...     ...        ...        ...        ...        ...   \n",
      "256346          0.0     0.0        NaN        NaN        0.0        NaN   \n",
      "256347          0.0     0.0        NaN        NaN        0.0        NaN   \n",
      "256348          0.0     0.0        NaN        NaN        0.0        NaN   \n",
      "256349          0.0     0.0        NaN        NaN        0.0        NaN   \n",
      "256350          0.0     0.0        NaN        NaN        NaN        NaN   \n",
      "\n",
      "        난자_혼합_경과일  배아_이식_경과일  배아_해동_경과일  임신_성공_여부  \n",
      "0             0.0        3.0        NaN         0  \n",
      "1             0.0        NaN        NaN         0  \n",
      "2             0.0        2.0        NaN         0  \n",
      "3             0.0        NaN        NaN         0  \n",
      "4             0.0        3.0        NaN         0  \n",
      "...           ...        ...        ...       ...  \n",
      "256346        0.0        5.0        NaN         0  \n",
      "256347        0.0        3.0        NaN         1  \n",
      "256348        0.0        3.0        NaN         0  \n",
      "256349        0.0        1.0        NaN         1  \n",
      "256350        NaN        0.0        0.0         1  \n",
      "\n",
      "[250060 rows x 68 columns]\n"
     ]
    }
   ],
   "source": [
    "# '시술_유형' 변수의 값이 'IVF'에 해당 안하는 데이터 추출\n",
    "IVF_train = train[train['시술_유형'] == 'IVF'] # \n",
    "IVF_test = test[test['시술_유형'] == 'IVF']\n",
    "\n",
    "# 새로운 데이터셋 생성\n",
    "print(\"시술유형 IVF 데이터셋:\")\n",
    "print(IVF_train)"
   ]
  },
  {
   "cell_type": "code",
   "execution_count": 74,
   "metadata": {},
   "outputs": [
    {
     "name": "stdout",
     "output_type": "stream",
     "text": [
      "<class 'pandas.core.frame.DataFrame'>\n",
      "RangeIndex: 256351 entries, 0 to 256350\n",
      "Data columns (total 68 columns):\n",
      " #   Column                 Non-Null Count   Dtype  \n",
      "---  ------                 --------------   -----  \n",
      " 0   시술_시기_코드               256351 non-null  object \n",
      " 1   시술_당시_나이               256351 non-null  object \n",
      " 2   임신_시도_또는_마지막_임신_경과_연수  9370 non-null    float64\n",
      " 3   시술_유형                  256351 non-null  object \n",
      " 4   특정_시술_유형               256349 non-null  object \n",
      " 5   배란_자극_여부               256351 non-null  int64  \n",
      " 6   배란_유도_유형               256351 non-null  object \n",
      " 7   단일_배아_이식_여부            250060 non-null  float64\n",
      " 8   착상_전_유전_검사_사용_여부       2718 non-null    float64\n",
      " 9   착상_전_유전_진단_사용_여부       250060 non-null  float64\n",
      " 10  남성_주_불임_원인             256351 non-null  int64  \n",
      " 11  남성_부_불임_원인             256351 non-null  int64  \n",
      " 12  여성_주_불임_원인             256351 non-null  int64  \n",
      " 13  여성_부_불임_원인             256351 non-null  int64  \n",
      " 14  부부_주_불임_원인             256351 non-null  int64  \n",
      " 15  부부_부_불임_원인             256351 non-null  int64  \n",
      " 16  불명확_불임_원인              256351 non-null  int64  \n",
      " 17  불임_원인_-_난관_질환          256351 non-null  int64  \n",
      " 18  불임_원인_-_남성_요인          256351 non-null  int64  \n",
      " 19  불임_원인_-_배란_장애          256351 non-null  int64  \n",
      " 20  불임_원인_-_여성_요인          256351 non-null  int64  \n",
      " 21  불임_원인_-_자궁경부_문제        256351 non-null  int64  \n",
      " 22  불임_원인_-_자궁내막증          256351 non-null  int64  \n",
      " 23  불임_원인_-_정자_농도          256351 non-null  int64  \n",
      " 24  불임_원인_-_정자_면역학적_요인     256351 non-null  int64  \n",
      " 25  불임_원인_-_정자_운동성         256351 non-null  int64  \n",
      " 26  불임_원인_-_정자_형태          256351 non-null  int64  \n",
      " 27  배아_생성_주요_이유            250060 non-null  object \n",
      " 28  총_시술_횟수                256351 non-null  object \n",
      " 29  클리닉_내_총_시술_횟수          256351 non-null  object \n",
      " 30  IVF_시술_횟수              256351 non-null  object \n",
      " 31  DI_시술_횟수               256351 non-null  object \n",
      " 32  총_임신_횟수                256351 non-null  object \n",
      " 33  IVF_임신_횟수              256351 non-null  object \n",
      " 34  DI_임신_횟수               256351 non-null  object \n",
      " 35  총_출산_횟수                256351 non-null  object \n",
      " 36  IVF_출산_횟수              256351 non-null  object \n",
      " 37  DI_출산_횟수               256351 non-null  object \n",
      " 38  총_생성_배아_수              250060 non-null  float64\n",
      " 39  미세주입된_난자_수             250060 non-null  float64\n",
      " 40  미세주입에서_생성된_배아_수        250060 non-null  float64\n",
      " 41  이식된_배아_수               250060 non-null  float64\n",
      " 42  미세주입_배아_이식_수           250060 non-null  float64\n",
      " 43  저장된_배아_수               250060 non-null  float64\n",
      " 44  미세주입_후_저장된_배아_수        250060 non-null  float64\n",
      " 45  해동된_배아_수               250060 non-null  float64\n",
      " 46  해동_난자_수                250060 non-null  float64\n",
      " 47  수집된_신선_난자_수            250060 non-null  float64\n",
      " 48  저장된_신선_난자_수            250060 non-null  float64\n",
      " 49  혼합된_난자_수               250060 non-null  float64\n",
      " 50  파트너_정자와_혼합된_난자_수       250060 non-null  float64\n",
      " 51  기증자_정자와_혼합된_난자_수       250060 non-null  float64\n",
      " 52  난자_출처                  256351 non-null  object \n",
      " 53  정자_출처                  256351 non-null  object \n",
      " 54  난자_기증자_나이              256351 non-null  object \n",
      " 55  정자_기증자_나이              256351 non-null  object \n",
      " 56  동결_배아_사용_여부            250060 non-null  float64\n",
      " 57  신선_배아_사용_여부            250060 non-null  float64\n",
      " 58  기증_배아_사용_여부            250060 non-null  float64\n",
      " 59  대리모_여부                 250060 non-null  float64\n",
      " 60  PGD_시술_여부              2179 non-null    float64\n",
      " 61  PGS_시술_여부              1929 non-null    float64\n",
      " 62  난자_채취_경과일              198863 non-null  float64\n",
      " 63  난자_해동_경과일              1436 non-null    float64\n",
      " 64  난자_혼합_경과일              202616 non-null  float64\n",
      " 65  배아_이식_경과일              212785 non-null  float64\n",
      " 66  배아_해동_경과일              40369 non-null   float64\n",
      " 67  임신_성공_여부               256351 non-null  int64  \n",
      "dtypes: float64(29), int64(19), object(20)\n",
      "memory usage: 133.0+ MB\n"
     ]
    }
   ],
   "source": [
    "train.info()"
   ]
  },
  {
   "cell_type": "code",
   "execution_count": 75,
   "metadata": {},
   "outputs": [
    {
     "name": "stdout",
     "output_type": "stream",
     "text": [
      "<class 'pandas.core.frame.DataFrame'>\n",
      "Int64Index: 250060 entries, 0 to 256350\n",
      "Data columns (total 68 columns):\n",
      " #   Column                 Non-Null Count   Dtype  \n",
      "---  ------                 --------------   -----  \n",
      " 0   시술_시기_코드               250060 non-null  object \n",
      " 1   시술_당시_나이               250060 non-null  object \n",
      " 2   임신_시도_또는_마지막_임신_경과_연수  9067 non-null    float64\n",
      " 3   시술_유형                  250060 non-null  object \n",
      " 4   특정_시술_유형               250058 non-null  object \n",
      " 5   배란_자극_여부               250060 non-null  int64  \n",
      " 6   배란_유도_유형               250060 non-null  object \n",
      " 7   단일_배아_이식_여부            250060 non-null  float64\n",
      " 8   착상_전_유전_검사_사용_여부       2718 non-null    float64\n",
      " 9   착상_전_유전_진단_사용_여부       250060 non-null  float64\n",
      " 10  남성_주_불임_원인             250060 non-null  int64  \n",
      " 11  남성_부_불임_원인             250060 non-null  int64  \n",
      " 12  여성_주_불임_원인             250060 non-null  int64  \n",
      " 13  여성_부_불임_원인             250060 non-null  int64  \n",
      " 14  부부_주_불임_원인             250060 non-null  int64  \n",
      " 15  부부_부_불임_원인             250060 non-null  int64  \n",
      " 16  불명확_불임_원인              250060 non-null  int64  \n",
      " 17  불임_원인_-_난관_질환          250060 non-null  int64  \n",
      " 18  불임_원인_-_남성_요인          250060 non-null  int64  \n",
      " 19  불임_원인_-_배란_장애          250060 non-null  int64  \n",
      " 20  불임_원인_-_여성_요인          250060 non-null  int64  \n",
      " 21  불임_원인_-_자궁경부_문제        250060 non-null  int64  \n",
      " 22  불임_원인_-_자궁내막증          250060 non-null  int64  \n",
      " 23  불임_원인_-_정자_농도          250060 non-null  int64  \n",
      " 24  불임_원인_-_정자_면역학적_요인     250060 non-null  int64  \n",
      " 25  불임_원인_-_정자_운동성         250060 non-null  int64  \n",
      " 26  불임_원인_-_정자_형태          250060 non-null  int64  \n",
      " 27  배아_생성_주요_이유            250060 non-null  object \n",
      " 28  총_시술_횟수                250060 non-null  object \n",
      " 29  클리닉_내_총_시술_횟수          250060 non-null  object \n",
      " 30  IVF_시술_횟수              250060 non-null  object \n",
      " 31  DI_시술_횟수               250060 non-null  object \n",
      " 32  총_임신_횟수                250060 non-null  object \n",
      " 33  IVF_임신_횟수              250060 non-null  object \n",
      " 34  DI_임신_횟수               250060 non-null  object \n",
      " 35  총_출산_횟수                250060 non-null  object \n",
      " 36  IVF_출산_횟수              250060 non-null  object \n",
      " 37  DI_출산_횟수               250060 non-null  object \n",
      " 38  총_생성_배아_수              250060 non-null  float64\n",
      " 39  미세주입된_난자_수             250060 non-null  float64\n",
      " 40  미세주입에서_생성된_배아_수        250060 non-null  float64\n",
      " 41  이식된_배아_수               250060 non-null  float64\n",
      " 42  미세주입_배아_이식_수           250060 non-null  float64\n",
      " 43  저장된_배아_수               250060 non-null  float64\n",
      " 44  미세주입_후_저장된_배아_수        250060 non-null  float64\n",
      " 45  해동된_배아_수               250060 non-null  float64\n",
      " 46  해동_난자_수                250060 non-null  float64\n",
      " 47  수집된_신선_난자_수            250060 non-null  float64\n",
      " 48  저장된_신선_난자_수            250060 non-null  float64\n",
      " 49  혼합된_난자_수               250060 non-null  float64\n",
      " 50  파트너_정자와_혼합된_난자_수       250060 non-null  float64\n",
      " 51  기증자_정자와_혼합된_난자_수       250060 non-null  float64\n",
      " 52  난자_출처                  250060 non-null  object \n",
      " 53  정자_출처                  250060 non-null  object \n",
      " 54  난자_기증자_나이              250060 non-null  object \n",
      " 55  정자_기증자_나이              250060 non-null  object \n",
      " 56  동결_배아_사용_여부            250060 non-null  float64\n",
      " 57  신선_배아_사용_여부            250060 non-null  float64\n",
      " 58  기증_배아_사용_여부            250060 non-null  float64\n",
      " 59  대리모_여부                 250060 non-null  float64\n",
      " 60  PGD_시술_여부              2179 non-null    float64\n",
      " 61  PGS_시술_여부              1929 non-null    float64\n",
      " 62  난자_채취_경과일              198863 non-null  float64\n",
      " 63  난자_해동_경과일              1436 non-null    float64\n",
      " 64  난자_혼합_경과일              202616 non-null  float64\n",
      " 65  배아_이식_경과일              212785 non-null  float64\n",
      " 66  배아_해동_경과일              40369 non-null   float64\n",
      " 67  임신_성공_여부               250060 non-null  int64  \n",
      "dtypes: float64(29), int64(19), object(20)\n",
      "memory usage: 131.6+ MB\n"
     ]
    }
   ],
   "source": [
    "IVF_train.info()"
   ]
  },
  {
   "cell_type": "code",
   "execution_count": 76,
   "metadata": {},
   "outputs": [
    {
     "name": "stdout",
     "output_type": "stream",
     "text": [
      "<class 'pandas.core.frame.DataFrame'>\n",
      "Int64Index: 87891 entries, 0 to 90066\n",
      "Data columns (total 67 columns):\n",
      " #   Column                 Non-Null Count  Dtype  \n",
      "---  ------                 --------------  -----  \n",
      " 0   시술_시기_코드               87891 non-null  object \n",
      " 1   시술_당시_나이               87891 non-null  object \n",
      " 2   임신_시도_또는_마지막_임신_경과_연수  3209 non-null   float64\n",
      " 3   시술_유형                  87891 non-null  object \n",
      " 4   특정_시술_유형               87891 non-null  object \n",
      " 5   배란_자극_여부               87891 non-null  int64  \n",
      " 6   배란_유도_유형               87891 non-null  object \n",
      " 7   단일_배아_이식_여부            87891 non-null  float64\n",
      " 8   착상_전_유전_검사_사용_여부       933 non-null    float64\n",
      " 9   착상_전_유전_진단_사용_여부       87891 non-null  float64\n",
      " 10  남성_주_불임_원인             87891 non-null  int64  \n",
      " 11  남성_부_불임_원인             87891 non-null  int64  \n",
      " 12  여성_주_불임_원인             87891 non-null  int64  \n",
      " 13  여성_부_불임_원인             87891 non-null  int64  \n",
      " 14  부부_주_불임_원인             87891 non-null  int64  \n",
      " 15  부부_부_불임_원인             87891 non-null  int64  \n",
      " 16  불명확_불임_원인              87891 non-null  int64  \n",
      " 17  불임_원인_-_난관_질환          87891 non-null  int64  \n",
      " 18  불임_원인_-_남성_요인          87891 non-null  int64  \n",
      " 19  불임_원인_-_배란_장애          87891 non-null  int64  \n",
      " 20  불임_원인_-_여성_요인          87891 non-null  int64  \n",
      " 21  불임_원인_-_자궁경부_문제        87891 non-null  int64  \n",
      " 22  불임_원인_-_자궁내막증          87891 non-null  int64  \n",
      " 23  불임_원인_-_정자_농도          87891 non-null  int64  \n",
      " 24  불임_원인_-_정자_면역학적_요인     87891 non-null  int64  \n",
      " 25  불임_원인_-_정자_운동성         87891 non-null  int64  \n",
      " 26  불임_원인_-_정자_형태          87891 non-null  int64  \n",
      " 27  배아_생성_주요_이유            87891 non-null  object \n",
      " 28  총_시술_횟수                87891 non-null  object \n",
      " 29  클리닉_내_총_시술_횟수          87891 non-null  object \n",
      " 30  IVF_시술_횟수              87891 non-null  object \n",
      " 31  DI_시술_횟수               87891 non-null  object \n",
      " 32  총_임신_횟수                87891 non-null  object \n",
      " 33  IVF_임신_횟수              87891 non-null  object \n",
      " 34  DI_임신_횟수               87891 non-null  object \n",
      " 35  총_출산_횟수                87891 non-null  object \n",
      " 36  IVF_출산_횟수              87891 non-null  object \n",
      " 37  DI_출산_횟수               87891 non-null  object \n",
      " 38  총_생성_배아_수              87891 non-null  float64\n",
      " 39  미세주입된_난자_수             87891 non-null  float64\n",
      " 40  미세주입에서_생성된_배아_수        87891 non-null  float64\n",
      " 41  이식된_배아_수               87891 non-null  float64\n",
      " 42  미세주입_배아_이식_수           87891 non-null  float64\n",
      " 43  저장된_배아_수               87891 non-null  float64\n",
      " 44  미세주입_후_저장된_배아_수        87891 non-null  float64\n",
      " 45  해동된_배아_수               87891 non-null  float64\n",
      " 46  해동_난자_수                87891 non-null  float64\n",
      " 47  수집된_신선_난자_수            87891 non-null  float64\n",
      " 48  저장된_신선_난자_수            87891 non-null  float64\n",
      " 49  혼합된_난자_수               87891 non-null  float64\n",
      " 50  파트너_정자와_혼합된_난자_수       87891 non-null  float64\n",
      " 51  기증자_정자와_혼합된_난자_수       87891 non-null  float64\n",
      " 52  난자_출처                  87891 non-null  object \n",
      " 53  정자_출처                  87891 non-null  object \n",
      " 54  난자_기증자_나이              87891 non-null  object \n",
      " 55  정자_기증자_나이              87891 non-null  object \n",
      " 56  동결_배아_사용_여부            87891 non-null  float64\n",
      " 57  신선_배아_사용_여부            87891 non-null  float64\n",
      " 58  기증_배아_사용_여부            87891 non-null  float64\n",
      " 59  대리모_여부                 87891 non-null  float64\n",
      " 60  PGD_시술_여부              781 non-null    float64\n",
      " 61  PGS_시술_여부              671 non-null    float64\n",
      " 62  난자_채취_경과일              70118 non-null  float64\n",
      " 63  난자_해동_경과일              492 non-null    float64\n",
      " 64  난자_혼합_경과일              71488 non-null  float64\n",
      " 65  배아_이식_경과일              74821 non-null  float64\n",
      " 66  배아_해동_경과일              13950 non-null  float64\n",
      "dtypes: float64(29), int64(18), object(20)\n",
      "memory usage: 45.6+ MB\n"
     ]
    }
   ],
   "source": [
    "IVF_test.info()"
   ]
  },
  {
   "cell_type": "code",
   "execution_count": 77,
   "metadata": {},
   "outputs": [],
   "source": [
    "# 모든 값이 결측값인 변수를 제거\n",
    "IVF_train = IVF_train.dropna(axis=1, how='all')\n",
    "IVF_test = IVF_test.dropna(axis=1, how='all')"
   ]
  },
  {
   "cell_type": "code",
   "execution_count": 78,
   "metadata": {},
   "outputs": [],
   "source": [
    "train = IVF_train\n",
    "test = IVF_test"
   ]
  },
  {
   "cell_type": "code",
   "execution_count": 79,
   "metadata": {},
   "outputs": [
    {
     "name": "stdout",
     "output_type": "stream",
     "text": [
      "<class 'pandas.core.frame.DataFrame'>\n",
      "Int64Index: 250060 entries, 0 to 256350\n",
      "Data columns (total 68 columns):\n",
      " #   Column                 Non-Null Count   Dtype  \n",
      "---  ------                 --------------   -----  \n",
      " 0   시술_시기_코드               250060 non-null  object \n",
      " 1   시술_당시_나이               250060 non-null  object \n",
      " 2   임신_시도_또는_마지막_임신_경과_연수  9067 non-null    float64\n",
      " 3   시술_유형                  250060 non-null  object \n",
      " 4   특정_시술_유형               250058 non-null  object \n",
      " 5   배란_자극_여부               250060 non-null  int64  \n",
      " 6   배란_유도_유형               250060 non-null  object \n",
      " 7   단일_배아_이식_여부            250060 non-null  float64\n",
      " 8   착상_전_유전_검사_사용_여부       2718 non-null    float64\n",
      " 9   착상_전_유전_진단_사용_여부       250060 non-null  float64\n",
      " 10  남성_주_불임_원인             250060 non-null  int64  \n",
      " 11  남성_부_불임_원인             250060 non-null  int64  \n",
      " 12  여성_주_불임_원인             250060 non-null  int64  \n",
      " 13  여성_부_불임_원인             250060 non-null  int64  \n",
      " 14  부부_주_불임_원인             250060 non-null  int64  \n",
      " 15  부부_부_불임_원인             250060 non-null  int64  \n",
      " 16  불명확_불임_원인              250060 non-null  int64  \n",
      " 17  불임_원인_-_난관_질환          250060 non-null  int64  \n",
      " 18  불임_원인_-_남성_요인          250060 non-null  int64  \n",
      " 19  불임_원인_-_배란_장애          250060 non-null  int64  \n",
      " 20  불임_원인_-_여성_요인          250060 non-null  int64  \n",
      " 21  불임_원인_-_자궁경부_문제        250060 non-null  int64  \n",
      " 22  불임_원인_-_자궁내막증          250060 non-null  int64  \n",
      " 23  불임_원인_-_정자_농도          250060 non-null  int64  \n",
      " 24  불임_원인_-_정자_면역학적_요인     250060 non-null  int64  \n",
      " 25  불임_원인_-_정자_운동성         250060 non-null  int64  \n",
      " 26  불임_원인_-_정자_형태          250060 non-null  int64  \n",
      " 27  배아_생성_주요_이유            250060 non-null  object \n",
      " 28  총_시술_횟수                250060 non-null  object \n",
      " 29  클리닉_내_총_시술_횟수          250060 non-null  object \n",
      " 30  IVF_시술_횟수              250060 non-null  object \n",
      " 31  DI_시술_횟수               250060 non-null  object \n",
      " 32  총_임신_횟수                250060 non-null  object \n",
      " 33  IVF_임신_횟수              250060 non-null  object \n",
      " 34  DI_임신_횟수               250060 non-null  object \n",
      " 35  총_출산_횟수                250060 non-null  object \n",
      " 36  IVF_출산_횟수              250060 non-null  object \n",
      " 37  DI_출산_횟수               250060 non-null  object \n",
      " 38  총_생성_배아_수              250060 non-null  float64\n",
      " 39  미세주입된_난자_수             250060 non-null  float64\n",
      " 40  미세주입에서_생성된_배아_수        250060 non-null  float64\n",
      " 41  이식된_배아_수               250060 non-null  float64\n",
      " 42  미세주입_배아_이식_수           250060 non-null  float64\n",
      " 43  저장된_배아_수               250060 non-null  float64\n",
      " 44  미세주입_후_저장된_배아_수        250060 non-null  float64\n",
      " 45  해동된_배아_수               250060 non-null  float64\n",
      " 46  해동_난자_수                250060 non-null  float64\n",
      " 47  수집된_신선_난자_수            250060 non-null  float64\n",
      " 48  저장된_신선_난자_수            250060 non-null  float64\n",
      " 49  혼합된_난자_수               250060 non-null  float64\n",
      " 50  파트너_정자와_혼합된_난자_수       250060 non-null  float64\n",
      " 51  기증자_정자와_혼합된_난자_수       250060 non-null  float64\n",
      " 52  난자_출처                  250060 non-null  object \n",
      " 53  정자_출처                  250060 non-null  object \n",
      " 54  난자_기증자_나이              250060 non-null  object \n",
      " 55  정자_기증자_나이              250060 non-null  object \n",
      " 56  동결_배아_사용_여부            250060 non-null  float64\n",
      " 57  신선_배아_사용_여부            250060 non-null  float64\n",
      " 58  기증_배아_사용_여부            250060 non-null  float64\n",
      " 59  대리모_여부                 250060 non-null  float64\n",
      " 60  PGD_시술_여부              2179 non-null    float64\n",
      " 61  PGS_시술_여부              1929 non-null    float64\n",
      " 62  난자_채취_경과일              198863 non-null  float64\n",
      " 63  난자_해동_경과일              1436 non-null    float64\n",
      " 64  난자_혼합_경과일              202616 non-null  float64\n",
      " 65  배아_이식_경과일              212785 non-null  float64\n",
      " 66  배아_해동_경과일              40369 non-null   float64\n",
      " 67  임신_성공_여부               250060 non-null  int64  \n",
      "dtypes: float64(29), int64(19), object(20)\n",
      "memory usage: 131.6+ MB\n"
     ]
    }
   ],
   "source": [
    "train.info()"
   ]
  },
  {
   "cell_type": "markdown",
   "metadata": {},
   "source": [
    "### 1. 시술_시기_코드"
   ]
  },
  {
   "cell_type": "markdown",
   "metadata": {},
   "source": [
    "난임 시술을 받은 시기를 기준으로 코드 부여"
   ]
  },
  {
   "cell_type": "code",
   "execution_count": 80,
   "metadata": {},
   "outputs": [
    {
     "name": "stdout",
     "output_type": "stream",
     "text": [
      "\n",
      "시술_시기_코드별 임신_성공_여부 비율 및 갯수\n",
      "\n",
      "                 0         1      0     1  Total\n",
      "variable                                        \n",
      "TRCMWS    0.739895  0.260105  27567  9691  37258\n",
      "TRDQAZ    0.751191  0.248809  28549  9456  38005\n",
      "TRJXFG    0.730081  0.269919  25693  9499  35192\n",
      "TRVNRY    0.736404  0.263596  25917  9277  35194\n",
      "TRXQMD    0.741403  0.258597  25161  8776  33937\n",
      "TRYBLT    0.727689  0.272311  26092  9764  35856\n",
      "TRZKPL    0.741348  0.258652  25664  8954  34618\n"
     ]
    }
   ],
   "source": [
    "value_counts_ratio(train, '시술_시기_코드')"
   ]
  },
  {
   "cell_type": "markdown",
   "metadata": {},
   "source": [
    "## 2. 시술 당시 나이"
   ]
  },
  {
   "cell_type": "markdown",
   "metadata": {},
   "source": [
    "환자의 시술 당시 나이(연령대)"
   ]
  },
  {
   "cell_type": "code",
   "execution_count": 81,
   "metadata": {},
   "outputs": [
    {
     "name": "stdout",
     "output_type": "stream",
     "text": [
      "\n",
      "시술_당시_나이별 임신_성공_여부 비율 및 갯수\n",
      "\n",
      "                 0         1        0        1   Total\n",
      "variable                                              \n",
      "만18-34세   0.674737  0.325263  67747.0  32658.0  100405\n",
      "만35-37세   0.718321  0.281679  40463.0  15867.0   56330\n",
      "만38-39세   0.779704  0.220296  29780.0   8414.0   38194\n",
      "만40-42세   0.838043  0.161957  30431.0   5881.0   36312\n",
      "만43-44세   0.878486  0.121514  10396.0   1438.0   11834\n",
      "만45-50세   0.825871  0.174129   5497.0   1159.0    6656\n",
      "알 수 없음    1.000000  0.000000    329.0      0.0     329\n"
     ]
    }
   ],
   "source": [
    "value_counts_ratio(train, '시술_당시_나이')"
   ]
  },
  {
   "cell_type": "code",
   "execution_count": 82,
   "metadata": {},
   "outputs": [
    {
     "data": {
      "text/plain": [
       "만18-34세    35498\n",
       "만35-37세    19687\n",
       "만38-39세    13228\n",
       "만40-42세    12911\n",
       "만43-44세     4123\n",
       "만45-50세     2328\n",
       "알 수 없음       116\n",
       "Name: 시술_당시_나이, dtype: int64"
      ]
     },
     "execution_count": 82,
     "metadata": {},
     "output_type": "execute_result"
    }
   ],
   "source": [
    "test['시술_당시_나이'].value_counts()"
   ]
  },
  {
   "cell_type": "markdown",
   "metadata": {},
   "source": [
    "## 3. 임신 시도 또는 마지막 임신 경과 일수"
   ]
  },
  {
   "cell_type": "markdown",
   "metadata": {},
   "source": [
    "환자가 처음 임신을 시도한 시점 또는 마지막 임신 이후 현재까지의 경과 연수 (년 단위)"
   ]
  },
  {
   "cell_type": "code",
   "execution_count": 83,
   "metadata": {},
   "outputs": [
    {
     "name": "stdout",
     "output_type": "stream",
     "text": [
      "\n",
      "임신_시도_또는_마지막_임신_경과_연수별 임신_성공_여부 비율 및 갯수\n",
      "\n",
      "                 0         1    0    1  Total\n",
      "variable                                     \n",
      "0.0       0.666667  0.333333    8    4     12\n",
      "1.0       0.500000  0.500000    2    2      4\n",
      "2.0       0.809524  0.190476   17    4     21\n",
      "3.0       0.762500  0.237500   61   19     80\n",
      "4.0       0.759322  0.240678  224   71    295\n",
      "5.0       0.753687  0.246313  511  167    678\n",
      "6.0       0.747126  0.252874  715  242    957\n",
      "7.0       0.765453  0.234547  904  277   1181\n",
      "8.0       0.782379  0.217621  888  247   1135\n",
      "9.0       0.790744  0.209256  786  208    994\n",
      "10.0      0.778384  0.221616  713  203    916\n",
      "11.0      0.808036  0.191964  543  129    672\n",
      "12.0      0.776639  0.223361  379  109    488\n",
      "13.0      0.835853  0.164147  387   76    463\n",
      "14.0      0.775701  0.224299  249   72    321\n",
      "15.0      0.791165  0.208835  197   52    249\n",
      "16.0      0.845771  0.154229  170   31    201\n",
      "17.0      0.820896  0.179104  110   24    134\n",
      "18.0      0.836538  0.163462   87   17    104\n",
      "19.0      0.855422  0.144578   71   12     83\n",
      "20.0      0.822785  0.177215   65   14     79\n"
     ]
    }
   ],
   "source": [
    "value_counts_ratio(train, '임신_시도_또는_마지막_임신_경과_연수')"
   ]
  },
  {
   "cell_type": "code",
   "execution_count": 84,
   "metadata": {},
   "outputs": [
    {
     "name": "stdout",
     "output_type": "stream",
     "text": [
      "결측값 개수: 240993\n",
      "결측값 개수: 0\n"
     ]
    }
   ],
   "source": [
    "# 결측값 개수 확인\n",
    "print(\"결측값 개수:\", train['임신_시도_또는_마지막_임신_경과_연수'].isnull().sum())\n",
    "\n",
    "# 결측값을 known으로 채우기\n",
    "train['임신_시도_또는_마지막_임신_경과_연수'].fillna('unknown', inplace=True)\n",
    "test['임신_시도_또는_마지막_임신_경과_연수'].fillna('unknown', inplace=True)\n",
    "\n",
    "# 결측값 개수 확인\n",
    "print(\"결측값 개수:\", train['임신_시도_또는_마지막_임신_경과_연수'].isnull().sum())"
   ]
  },
  {
   "cell_type": "code",
   "execution_count": 85,
   "metadata": {},
   "outputs": [
    {
     "data": {
      "text/plain": [
       "0"
      ]
     },
     "execution_count": 85,
     "metadata": {},
     "output_type": "execute_result"
    }
   ],
   "source": [
    "test['임신_시도_또는_마지막_임신_경과_연수'].isnull().sum()"
   ]
  },
  {
   "cell_type": "code",
   "execution_count": 86,
   "metadata": {},
   "outputs": [
    {
     "name": "stdout",
     "output_type": "stream",
     "text": [
      "\n",
      "임신_시도_또는_마지막_임신_경과_연수별 임신_성공_여부 비율 및 갯수\n",
      "\n",
      "                 0         1       0      1   Total\n",
      "variable                                           \n",
      "0.0       0.666667  0.333333       8      4      12\n",
      "1.0       0.500000  0.500000       2      2       4\n",
      "2.0       0.809524  0.190476      17      4      21\n",
      "3.0       0.762500  0.237500      61     19      80\n",
      "4.0       0.759322  0.240678     224     71     295\n",
      "5.0       0.753687  0.246313     511    167     678\n",
      "6.0       0.747126  0.252874     715    242     957\n",
      "7.0       0.765453  0.234547     904    277    1181\n",
      "8.0       0.782379  0.217621     888    247    1135\n",
      "9.0       0.790744  0.209256     786    208     994\n",
      "10.0      0.778384  0.221616     713    203     916\n",
      "11.0      0.808036  0.191964     543    129     672\n",
      "12.0      0.776639  0.223361     379    109     488\n",
      "13.0      0.835853  0.164147     387     76     463\n",
      "14.0      0.775701  0.224299     249     72     321\n",
      "15.0      0.791165  0.208835     197     52     249\n",
      "16.0      0.845771  0.154229     170     31     201\n",
      "17.0      0.820896  0.179104     110     24     134\n",
      "18.0      0.836538  0.163462      87     17     104\n",
      "19.0      0.855422  0.144578      71     12      83\n",
      "20.0      0.822785  0.177215      65     14      79\n",
      "unknown   0.736768  0.263232  177556  63437  240993\n"
     ]
    }
   ],
   "source": [
    "value_counts_ratio(train, '임신_시도_또는_마지막_임신_경과_연수')"
   ]
  },
  {
   "cell_type": "markdown",
   "metadata": {},
   "source": [
    "## 4. 시술_유형"
   ]
  },
  {
   "cell_type": "markdown",
   "metadata": {},
   "source": [
    "IVF 또는 DI 시술 여부"
   ]
  },
  {
   "cell_type": "code",
   "execution_count": 87,
   "metadata": {},
   "outputs": [
    {
     "name": "stdout",
     "output_type": "stream",
     "text": [
      "\n",
      "시술_유형별 임신_성공_여부 비율 및 갯수\n",
      "\n",
      "                 0         1       0      1   Total\n",
      "variable                                           \n",
      "IVF       0.738395  0.261605  184643  65417  250060\n"
     ]
    }
   ],
   "source": [
    "value_counts_ratio(train, '시술_유형')"
   ]
  },
  {
   "cell_type": "code",
   "execution_count": 88,
   "metadata": {},
   "outputs": [
    {
     "data": {
      "text/plain": [
       "IVF    87891\n",
       "Name: 시술_유형, dtype: int64"
      ]
     },
     "execution_count": 88,
     "metadata": {},
     "output_type": "execute_result"
    }
   ],
   "source": [
    "test['시술_유형'].value_counts()"
   ]
  },
  {
   "cell_type": "markdown",
   "metadata": {},
   "source": [
    "IVF 와 DI 시술중 IVF 시술 데이터만 제공됨"
   ]
  },
  {
   "cell_type": "code",
   "execution_count": 89,
   "metadata": {},
   "outputs": [],
   "source": [
    "# '시술_유형' 변수 제거\n",
    "train = train.drop(columns=['시술_유형'])\n",
    "test = test.drop(columns=['시술_유형'])"
   ]
  },
  {
   "cell_type": "code",
   "execution_count": 90,
   "metadata": {},
   "outputs": [
    {
     "data": {
      "text/plain": [
       "250060"
      ]
     },
     "execution_count": 90,
     "metadata": {},
     "output_type": "execute_result"
    }
   ],
   "source": [
    "len(train['임신_성공_여부'])"
   ]
  },
  {
   "cell_type": "markdown",
   "metadata": {},
   "source": [
    "## 5. 특정_시술_유형"
   ]
  },
  {
   "cell_type": "markdown",
   "metadata": {},
   "source": [
    "IVF – 체외 수정 (시험관 아기 시술)  \n",
    "ICSI – 세포질 내 정자 주입  \n",
    "IUI – 인공 수정 (자궁 내 주입)  \n",
    "ICI – 자궁경부 인공 수정  \n",
    "GIFT – 생식세포 나팔관 이식  \n",
    "FER – 냉동 배아 이식  \n",
    "Generic DI – 기증 정자 주입  \n",
    "IVI – 질 내 인공 수정   \n",
    "BLASTOCYST – 배반포 단계에 이식  \n",
    "AH – 배아를 hatching 시켜주는 과정  \n",
    "Unknown – 시술 유형 정보가 제공되지 않았거나 알 수 없음  \n",
    "\n",
    "(*) 특수 기호의 의미  \n",
    "\"/\" – 복합적인 시술 방법을 의미 (예: ICSI / BLASTOCYST)  \n",
    "\":\" – 동일 시술 내 세부 조합을 의미 (예: ICSI:IVF)  "
   ]
  },
  {
   "cell_type": "code",
   "execution_count": 91,
   "metadata": {},
   "outputs": [
    {
     "data": {
      "text/plain": [
       "250060"
      ]
     },
     "execution_count": 91,
     "metadata": {},
     "output_type": "execute_result"
    }
   ],
   "source": [
    "len(train['특정_시술_유형'])"
   ]
  },
  {
   "cell_type": "markdown",
   "metadata": {},
   "source": [
    "시술유형에 대해서 특정 시술 유형값이 존재하는거!"
   ]
  },
  {
   "cell_type": "code",
   "execution_count": 92,
   "metadata": {},
   "outputs": [
    {
     "name": "stdout",
     "output_type": "stream",
     "text": [
      "Grouped by: 특정_시술_유형\n",
      "\n",
      "                                  group  '임신_성공_여부' count     ratio   Total\n",
      "0                                   FER                 1  0.333333       3\n",
      "1                                  GIFT                 0  0.000000       1\n",
      "2                                  ICSI             33385  0.272825  122368\n",
      "3                             ICSI / AH               167  0.217165     769\n",
      "4                     ICSI / AH:Unknown                 1  0.500000       2\n",
      "5                    ICSI / BLASTOCYST                574  0.356743    1609\n",
      "6               ICSI / BLASTOCYST :ICSI                 1  1.000000       1\n",
      "7   ICSI / BLASTOCYST :IVF / BLASTOCYST                 1  0.250000       4\n",
      "8    ICSI / BLASTOCYST:IVF / BLASTOCYST                 2  0.333333       6\n",
      "9                             ICSI:ICSI                23  0.009939    2314\n",
      "10                             ICSI:IVF               205  0.234822     873\n",
      "11                         ICSI:Unknown                21  0.101449     207\n",
      "12                                  IVF             23990  0.261457   91755\n",
      "13                             IVF / AH                59  0.184953     319\n",
      "14                   IVF / AH:ICSI / AH                 0  0.000000       2\n",
      "15                     IVF / BLASTOCYST               457  0.366186    1248\n",
      "16                             IVF:ICSI               111  0.283163     392\n",
      "17                              IVF:IVF                12  0.010471    1146\n",
      "18                          IVF:Unknown                17  0.170000     100\n",
      "19                              Unknown              6390  0.237203   26939\n"
     ]
    }
   ],
   "source": [
    "summarize_group(train, ['특정_시술_유형'])"
   ]
  },
  {
   "cell_type": "code",
   "execution_count": 93,
   "metadata": {},
   "outputs": [],
   "source": [
    "# '특정_시술_유형' 변수의 값이 'FER' 또는 'GIFT'인 행 제거\n",
    "train = train.loc[~train['특정_시술_유형'].isin(['FER', 'GIFT'])]\n",
    "test = test.loc[~test['특정_시술_유형'].isin(['FER', 'GIFT'])]"
   ]
  },
  {
   "cell_type": "code",
   "execution_count": 94,
   "metadata": {},
   "outputs": [],
   "source": [
    "# 시술 유형 변환 함수\n",
    "def transform_treatment(treatment):\n",
    "    if isinstance(treatment, str):  # treatment가 문자열인지 확인\n",
    "        if treatment.startswith(\"ICSI\"):\n",
    "            if \"AH\" in treatment:\n",
    "                return \"ICSI / AH\"\n",
    "            elif \"BLASTOCYST\" in treatment:\n",
    "                return \"ICSI / BLASTOCYST\"\n",
    "            return \"ICSI\"\n",
    "        elif treatment.startswith(\"IVF\"):\n",
    "            if \"AH\" in treatment:\n",
    "                return \"IVF / AH\"\n",
    "            elif \"BLASTOCYST\" in treatment:\n",
    "                return \"IVF / BLASTOCYST\"\n",
    "            return \"IVF\"\n",
    "    return treatment  # 기타 시술은 그대로 반환\n",
    "\n",
    "# 변환된 열 추가\n",
    "train['변환된_특정_시술_유형'] = train['특정_시술_유형'].apply(transform_treatment)\n",
    "test['변환된_특정_시술_유형'] = test['특정_시술_유형'].apply(transform_treatment)"
   ]
  },
  {
   "cell_type": "code",
   "execution_count": 95,
   "metadata": {},
   "outputs": [
    {
     "name": "stdout",
     "output_type": "stream",
     "text": [
      "\n",
      "변환된_특정_시술_유형별 임신_성공_여부 비율 및 갯수\n",
      "\n",
      "                          0         1      0      1   Total\n",
      "variable                                                   \n",
      "ICSI               0.732558  0.267442  92128  33634  125762\n",
      "ICSI / AH          0.782101  0.217899    603    168     771\n",
      "ICSI / BLASTOCYST  0.643210  0.356790   1042    578    1620\n",
      "IVF                0.741629  0.258371  69263  24130   93393\n",
      "IVF / AH           0.816199  0.183801    262     59     321\n",
      "IVF / BLASTOCYST   0.633814  0.366186    791    457    1248\n",
      "Unknown            0.762797  0.237203  20549   6390   26939\n"
     ]
    }
   ],
   "source": [
    "value_counts_ratio(train, '변환된_특정_시술_유형')"
   ]
  },
  {
   "cell_type": "code",
   "execution_count": 96,
   "metadata": {},
   "outputs": [
    {
     "name": "stdout",
     "output_type": "stream",
     "text": [
      "\n",
      "변환된_특정_시술_유형별 임신_성공_여부 비율 및 갯수\n",
      "\n",
      "                          0         1      0      1   Total\n",
      "variable                                                   \n",
      "ICSI               0.732558  0.267442  92128  33634  125762\n",
      "ICSI / AH          0.782101  0.217899    603    168     771\n",
      "ICSI / BLASTOCYST  0.643210  0.356790   1042    578    1620\n",
      "IVF                0.741629  0.258371  69263  24130   93393\n",
      "IVF / AH           0.816199  0.183801    262     59     321\n",
      "IVF / BLASTOCYST   0.633814  0.366186    791    457    1248\n",
      "Unknown            0.762797  0.237203  20549   6390   26939\n"
     ]
    }
   ],
   "source": [
    "value_counts_ratio(train, '변환된_특정_시술_유형')"
   ]
  },
  {
   "cell_type": "code",
   "execution_count": 97,
   "metadata": {},
   "outputs": [
    {
     "data": {
      "text/plain": [
       "ICSI                 44400\n",
       "IVF                  32931\n",
       "Unknown               9216\n",
       "ICSI / BLASTOCYST      586\n",
       "IVF / BLASTOCYST       389\n",
       "ICSI / AH              264\n",
       "IVF / AH               105\n",
       "Name: 변환된_특정_시술_유형, dtype: int64"
      ]
     },
     "execution_count": 97,
     "metadata": {},
     "output_type": "execute_result"
    }
   ],
   "source": [
    "test['변환된_특정_시술_유형'].value_counts()"
   ]
  },
  {
   "cell_type": "code",
   "execution_count": 98,
   "metadata": {},
   "outputs": [],
   "source": [
    "# '특정_시술_유형' 변수 제거\n",
    "train = train.drop(columns=['특정_시술_유형'])\n",
    "test = test.drop(columns=['특정_시술_유형'])"
   ]
  },
  {
   "cell_type": "markdown",
   "metadata": {},
   "source": [
    "## 10. 남성_주_불임_원인"
   ]
  },
  {
   "cell_type": "markdown",
   "metadata": {},
   "source": [
    "남성의 주요 불임 원인 여부"
   ]
  },
  {
   "cell_type": "code",
   "execution_count": 99,
   "metadata": {},
   "outputs": [
    {
     "name": "stdout",
     "output_type": "stream",
     "text": [
      "\n",
      "남성_주_불임_원인별 임신_성공_여부 비율 및 갯수\n",
      "\n",
      "                 0         1       0      1   Total\n",
      "variable                                           \n",
      "0         0.737220  0.262780  179168  63864  243032\n",
      "1         0.779043  0.220957    5472   1552    7024\n"
     ]
    }
   ],
   "source": [
    "value_counts_ratio(train, '남성_주_불임_원인')"
   ]
  },
  {
   "cell_type": "markdown",
   "metadata": {},
   "source": [
    "## 11. 남성_부_불임_원인"
   ]
  },
  {
   "cell_type": "markdown",
   "metadata": {},
   "source": [
    "남성의 부차적 불임 원인 여부"
   ]
  },
  {
   "cell_type": "code",
   "execution_count": 100,
   "metadata": {},
   "outputs": [
    {
     "name": "stdout",
     "output_type": "stream",
     "text": [
      "\n",
      "남성_부_불임_원인별 임신_성공_여부 비율 및 갯수\n",
      "\n",
      "                 0         1       0      1   Total\n",
      "variable                                           \n",
      "0         0.737588  0.262412  182050  64768  246818\n",
      "1         0.799876  0.200124    2590    648    3238\n"
     ]
    }
   ],
   "source": [
    "value_counts_ratio(train, '남성_부_불임_원인')"
   ]
  },
  {
   "cell_type": "markdown",
   "metadata": {},
   "source": [
    "## 12. 여성_주_불임_원인"
   ]
  },
  {
   "cell_type": "markdown",
   "metadata": {},
   "source": [
    "여성의 주요 불임 원인 여부"
   ]
  },
  {
   "cell_type": "code",
   "execution_count": 101,
   "metadata": {},
   "outputs": [
    {
     "name": "stdout",
     "output_type": "stream",
     "text": [
      "\n",
      "여성_주_불임_원인별 임신_성공_여부 비율 및 갯수\n",
      "\n",
      "                 0         1       0      1   Total\n",
      "variable                                           \n",
      "0         0.737169  0.262831  178827  63759  242586\n",
      "1         0.778179  0.221821    5813   1657    7470\n"
     ]
    }
   ],
   "source": [
    "value_counts_ratio(train, '여성_주_불임_원인')"
   ]
  },
  {
   "cell_type": "markdown",
   "metadata": {},
   "source": [
    "## 13. 여성_부_불임_원인"
   ]
  },
  {
   "cell_type": "markdown",
   "metadata": {},
   "source": [
    "여성의 부차적 불임 원인 여부"
   ]
  },
  {
   "cell_type": "code",
   "execution_count": 102,
   "metadata": {},
   "outputs": [
    {
     "name": "stdout",
     "output_type": "stream",
     "text": [
      "\n",
      "여성_부_불임_원인별 임신_성공_여부 비율 및 갯수\n",
      "\n",
      "                 0         1       0      1   Total\n",
      "variable                                           \n",
      "0         0.737606  0.262394  182188  64811  246999\n",
      "1         0.802094  0.197906    2452    605    3057\n"
     ]
    }
   ],
   "source": [
    "value_counts_ratio(train, '여성_부_불임_원인')"
   ]
  },
  {
   "cell_type": "markdown",
   "metadata": {},
   "source": [
    "## 14. 부부_주_불임_원인"
   ]
  },
  {
   "cell_type": "markdown",
   "metadata": {},
   "source": [
    "부부의 주요 불임 원인 여부"
   ]
  },
  {
   "cell_type": "code",
   "execution_count": 103,
   "metadata": {},
   "outputs": [
    {
     "name": "stdout",
     "output_type": "stream",
     "text": [
      "\n",
      "부부_주_불임_원인별 임신_성공_여부 비율 및 갯수\n",
      "\n",
      "                 0         1       0      1   Total\n",
      "variable                                           \n",
      "0         0.737053  0.262947  178327  63619  241946\n",
      "1         0.778422  0.221578    6313   1797    8110\n"
     ]
    }
   ],
   "source": [
    "value_counts_ratio(train, '부부_주_불임_원인')"
   ]
  },
  {
   "cell_type": "markdown",
   "metadata": {},
   "source": [
    "## 15. 부부_부_불임_원인"
   ]
  },
  {
   "cell_type": "markdown",
   "metadata": {},
   "source": [
    "부부의 부차적 불임 원인 여부"
   ]
  },
  {
   "cell_type": "code",
   "execution_count": 104,
   "metadata": {},
   "outputs": [
    {
     "name": "stdout",
     "output_type": "stream",
     "text": [
      "\n",
      "부부_부_불임_원인별 임신_성공_여부 비율 및 갯수\n",
      "\n",
      "                 0         1       0      1   Total\n",
      "variable                                           \n",
      "0         0.737751  0.262249  182870  65005  247875\n",
      "1         0.811554  0.188446    1770    411    2181\n"
     ]
    }
   ],
   "source": [
    "value_counts_ratio(train, '부부_부_불임_원인')"
   ]
  },
  {
   "cell_type": "markdown",
   "metadata": {},
   "source": [
    "## 16. 불명확_불임_원인"
   ]
  },
  {
   "cell_type": "markdown",
   "metadata": {},
   "source": [
    "불명의 원인으로 인한 불임 여부"
   ]
  },
  {
   "cell_type": "code",
   "execution_count": 105,
   "metadata": {},
   "outputs": [
    {
     "name": "stdout",
     "output_type": "stream",
     "text": [
      "\n",
      "불명확_불임_원인별 임신_성공_여부 비율 및 갯수\n",
      "\n",
      "                 0         1       0      1   Total\n",
      "variable                                           \n",
      "0         0.738087  0.261913  137476  48784  186260\n",
      "1         0.739294  0.260706   47164  16632   63796\n"
     ]
    }
   ],
   "source": [
    "value_counts_ratio(train, '불명확_불임_원인')"
   ]
  },
  {
   "cell_type": "markdown",
   "metadata": {},
   "source": [
    "## 17. 불임_원인_-_난관_질환"
   ]
  },
  {
   "cell_type": "markdown",
   "metadata": {},
   "source": [
    "난관 이상으로 인한 불임 여부"
   ]
  },
  {
   "cell_type": "code",
   "execution_count": 106,
   "metadata": {},
   "outputs": [
    {
     "name": "stdout",
     "output_type": "stream",
     "text": [
      "\n",
      "불임_원인_-_난관_질환별 임신_성공_여부 비율 및 갯수\n",
      "\n",
      "                 0         1       0      1   Total\n",
      "variable                                           \n",
      "0         0.737822  0.262178  158319  56257  214576\n",
      "1         0.741855  0.258145   26321   9159   35480\n"
     ]
    }
   ],
   "source": [
    "value_counts_ratio(train, '불임_원인_-_난관_질환')"
   ]
  },
  {
   "cell_type": "markdown",
   "metadata": {},
   "source": [
    "## 18. 불임_원인_-_남성_요인"
   ]
  },
  {
   "cell_type": "markdown",
   "metadata": {},
   "source": [
    "남성 요인으로 인한 불임 여부"
   ]
  },
  {
   "cell_type": "code",
   "execution_count": 107,
   "metadata": {},
   "outputs": [
    {
     "name": "stdout",
     "output_type": "stream",
     "text": [
      "\n",
      "불임_원인_-_남성_요인별 임신_성공_여부 비율 및 갯수\n",
      "\n",
      "                 0         1       0      1   Total\n",
      "variable                                           \n",
      "0         0.751365  0.248635  118319  39153  157472\n",
      "1         0.716333  0.283667   66321  26263   92584\n"
     ]
    }
   ],
   "source": [
    "value_counts_ratio(train, '불임_원인_-_남성_요인')"
   ]
  },
  {
   "cell_type": "markdown",
   "metadata": {},
   "source": [
    "## 19. 불임_원인_-_배란_장애"
   ]
  },
  {
   "cell_type": "markdown",
   "metadata": {},
   "source": [
    "배란 장애로 인한 불임 여부"
   ]
  },
  {
   "cell_type": "code",
   "execution_count": 108,
   "metadata": {},
   "outputs": [
    {
     "name": "stdout",
     "output_type": "stream",
     "text": [
      "\n",
      "불임_원인_-_배란_장애별 임신_성공_여부 비율 및 갯수\n",
      "\n",
      "                 0         1       0      1   Total\n",
      "variable                                           \n",
      "0         0.742480  0.257520  161127  55885  217012\n",
      "1         0.711566  0.288434   23513   9531   33044\n"
     ]
    }
   ],
   "source": [
    "value_counts_ratio(train, '불임_원인_-_배란_장애')"
   ]
  },
  {
   "cell_type": "markdown",
   "metadata": {},
   "source": [
    "## 22. 불임_원인_-_자궁내막증"
   ]
  },
  {
   "cell_type": "markdown",
   "metadata": {},
   "source": [
    "자궁내막증으로 인한 불임 여부"
   ]
  },
  {
   "cell_type": "code",
   "execution_count": 109,
   "metadata": {},
   "outputs": [
    {
     "name": "stdout",
     "output_type": "stream",
     "text": [
      "\n",
      "불임_원인_-_자궁내막증별 임신_성공_여부 비율 및 갯수\n",
      "\n",
      "                 0         1       0      1   Total\n",
      "variable                                           \n",
      "0         0.737988  0.262012  171152  60765  231917\n",
      "1         0.743591  0.256409   13488   4651   18139\n"
     ]
    }
   ],
   "source": [
    "value_counts_ratio(train, '불임_원인_-_자궁내막증')"
   ]
  },
  {
   "cell_type": "markdown",
   "metadata": {},
   "source": [
    "## 23. 불임_원인_-_정자_농도"
   ]
  },
  {
   "cell_type": "markdown",
   "metadata": {},
   "source": [
    "파트너의 정자 농도 문제 여부"
   ]
  },
  {
   "cell_type": "code",
   "execution_count": 110,
   "metadata": {},
   "outputs": [
    {
     "name": "stdout",
     "output_type": "stream",
     "text": [
      "\n",
      "불임_원인_-_정자_농도별 임신_성공_여부 비율 및 갯수\n",
      "\n",
      "                 0         1       0      1   Total\n",
      "variable                                           \n",
      "0         0.738391  0.261609  184464  65355  249819\n",
      "1         0.742616  0.257384     176     61     237\n"
     ]
    }
   ],
   "source": [
    "value_counts_ratio(train, '불임_원인_-_정자_농도')"
   ]
  },
  {
   "cell_type": "markdown",
   "metadata": {},
   "source": [
    "## 26. 불임_원인_-_정자_형태"
   ]
  },
  {
   "cell_type": "markdown",
   "metadata": {},
   "source": [
    "파트너의 정자 형태 문제 여부"
   ]
  },
  {
   "cell_type": "code",
   "execution_count": 111,
   "metadata": {},
   "outputs": [
    {
     "name": "stdout",
     "output_type": "stream",
     "text": [
      "\n",
      "불임_원인_-_정자_형태별 임신_성공_여부 비율 및 갯수\n",
      "\n",
      "                 0         1       0      1   Total\n",
      "variable                                           \n",
      "0         0.738375  0.261625  184531  65384  249915\n",
      "1         0.773050  0.226950     109     32     141\n"
     ]
    }
   ],
   "source": [
    "value_counts_ratio(train, '불임_원인_-_정자_형태')"
   ]
  },
  {
   "cell_type": "markdown",
   "metadata": {},
   "source": [
    "## 28. 총_시술_횟수"
   ]
  },
  {
   "cell_type": "markdown",
   "metadata": {},
   "source": [
    "IVF 및 DI 포함한 전체 시술 횟수"
   ]
  },
  {
   "cell_type": "code",
   "execution_count": 112,
   "metadata": {},
   "outputs": [
    {
     "name": "stdout",
     "output_type": "stream",
     "text": [
      "\n",
      "총_시술_횟수별 임신_성공_여부 비율 및 갯수\n",
      "\n",
      "                 0         1      0      1  Total\n",
      "variable                                         \n",
      "0회        0.708123  0.291877  68831  28371  97202\n",
      "1회        0.748185  0.251815  41837  14081  55918\n",
      "2회        0.752661  0.247339  28775   9456  38231\n",
      "3회        0.758631  0.241369  17821   5670  23491\n",
      "4회        0.767004  0.232996  10916   3316  14232\n",
      "5회        0.776622  0.223378   6498   1869   8367\n",
      "6회 이상     0.789695  0.210305   9962   2653  12615\n"
     ]
    }
   ],
   "source": [
    "value_counts_ratio(train, '총_시술_횟수')"
   ]
  },
  {
   "cell_type": "code",
   "execution_count": 113,
   "metadata": {},
   "outputs": [
    {
     "data": {
      "text/plain": [
       "0회       34249\n",
       "1회       19667\n",
       "2회       13346\n",
       "3회        8257\n",
       "4회        4977\n",
       "6회 이상     4372\n",
       "5회        3023\n",
       "Name: 총_시술_횟수, dtype: int64"
      ]
     },
     "execution_count": 113,
     "metadata": {},
     "output_type": "execute_result"
    }
   ],
   "source": [
    "test['총_시술_횟수'].value_counts()"
   ]
  },
  {
   "cell_type": "markdown",
   "metadata": {},
   "source": [
    "## 29. 클리닉_내_총_시술_횟수"
   ]
  },
  {
   "cell_type": "markdown",
   "metadata": {},
   "source": [
    "특정 클리닉에서 받은 IVF 및 DI 시술 횟수"
   ]
  },
  {
   "cell_type": "code",
   "execution_count": 114,
   "metadata": {},
   "outputs": [
    {
     "name": "stdout",
     "output_type": "stream",
     "text": [
      "\n",
      "클리닉_내_총_시술_횟수별 임신_성공_여부 비율 및 갯수\n",
      "\n",
      "                 0         1      0      1   Total\n",
      "variable                                          \n",
      "0회        0.715733  0.284267  86429  34327  120756\n",
      "1회        0.752288  0.247712  44063  14509   58572\n",
      "2회        0.758241  0.241759  25326   8075   33401\n",
      "3회        0.761820  0.238180  13277   4151   17428\n",
      "4회        0.770382  0.229618   7106   2118    9224\n",
      "5회        0.782837  0.217163   3731   1035    4766\n",
      "6회 이상     0.796751  0.203249   4708   1201    5909\n"
     ]
    }
   ],
   "source": [
    "value_counts_ratio(train, '클리닉_내_총_시술_횟수')"
   ]
  },
  {
   "cell_type": "markdown",
   "metadata": {},
   "source": [
    "## 30. IVF_시술_횟수"
   ]
  },
  {
   "cell_type": "markdown",
   "metadata": {},
   "source": [
    "이전에 수행된 IVF 시술 횟수"
   ]
  },
  {
   "cell_type": "code",
   "execution_count": 115,
   "metadata": {},
   "outputs": [
    {
     "name": "stdout",
     "output_type": "stream",
     "text": [
      "\n",
      "IVF_시술_횟수별 임신_성공_여부 비율 및 갯수\n",
      "\n",
      "                 0         1      0      1   Total\n",
      "variable                                          \n",
      "0회        0.708231  0.291769  70957  29232  100189\n",
      "1회        0.747426  0.252574  42903  14498   57401\n",
      "2회        0.752339  0.247661  29026   9555   38581\n",
      "3회        0.762390  0.237610  17429   5432   22861\n",
      "4회        0.770207  0.229793  10320   3079   13399\n",
      "5회        0.784339  0.215661   5990   1647    7637\n",
      "6회 이상     0.802463  0.197537   8015   1973    9988\n"
     ]
    }
   ],
   "source": [
    "value_counts_ratio(train, 'IVF_시술_횟수')"
   ]
  },
  {
   "cell_type": "markdown",
   "metadata": {},
   "source": [
    "## 31. DI_시술_횟수"
   ]
  },
  {
   "cell_type": "markdown",
   "metadata": {},
   "source": [
    "이전에 수행된 DI 시술 횟수"
   ]
  },
  {
   "cell_type": "code",
   "execution_count": 116,
   "metadata": {},
   "outputs": [
    {
     "name": "stdout",
     "output_type": "stream",
     "text": [
      "\n",
      "DI_시술_횟수별 임신_성공_여부 비율 및 갯수\n",
      "\n",
      "                 0         1       0      1   Total\n",
      "variable                                           \n",
      "0회        0.738589  0.261411  178243  63086  241329\n",
      "1회        0.760754  0.239246    1291    406    1697\n",
      "2회        0.735436  0.264564    1376    495    1871\n",
      "3회        0.711382  0.288618    1575    639    2214\n",
      "4회        0.724036  0.275964     732    279    1011\n",
      "5회        0.739617  0.260383     463    163     626\n",
      "6회 이상     0.733945  0.266055     960    348    1308\n"
     ]
    }
   ],
   "source": [
    "value_counts_ratio(train, 'DI_시술_횟수')"
   ]
  },
  {
   "cell_type": "markdown",
   "metadata": {},
   "source": [
    "## 32. 총_임신_횟수"
   ]
  },
  {
   "cell_type": "markdown",
   "metadata": {},
   "source": [
    "IVF 및 DI 포함한 총 임신 횟수"
   ]
  },
  {
   "cell_type": "code",
   "execution_count": 117,
   "metadata": {},
   "outputs": [
    {
     "name": "stdout",
     "output_type": "stream",
     "text": [
      "\n",
      "총_임신_횟수별 임신_성공_여부 비율 및 갯수\n",
      "\n",
      "                 0         1       0      1   Total\n",
      "variable                                           \n",
      "0회        0.739574  0.260426  149155  52522  201677\n",
      "1회        0.732256  0.267744   30508  11155   41663\n",
      "2회        0.739652  0.260348    4378   1541    5919\n",
      "3회        0.748571  0.251429     524    176     700\n",
      "4회        0.770115  0.229885      67     20      87\n",
      "5회        0.857143  0.142857       6      1       7\n",
      "6회 이상     0.666667  0.333333       2      1       3\n"
     ]
    }
   ],
   "source": [
    "value_counts_ratio(train, '총_임신_횟수')"
   ]
  },
  {
   "cell_type": "markdown",
   "metadata": {},
   "source": [
    "## 33. IVF_임신_횟수"
   ]
  },
  {
   "cell_type": "markdown",
   "metadata": {},
   "source": [
    "IVF 시술로 인한 임신 횟수"
   ]
  },
  {
   "cell_type": "code",
   "execution_count": 118,
   "metadata": {},
   "outputs": [
    {
     "name": "stdout",
     "output_type": "stream",
     "text": [
      "\n",
      "IVF_임신_횟수별 임신_성공_여부 비율 및 갯수\n",
      "\n",
      "                 0         1         0        1   Total\n",
      "variable                                               \n",
      "0회        0.739486  0.260514  149689.0  52734.0  202423\n",
      "1회        0.732116  0.267884   30109.0  11017.0   41126\n",
      "2회        0.742922  0.257078    4277.0   1480.0    5757\n",
      "3회        0.751891  0.248109     497.0    164.0     661\n",
      "4회        0.765432  0.234568      62.0     19.0      81\n",
      "5회        0.857143  0.142857       6.0      1.0       7\n",
      "6회 이상     0.000000  1.000000       0.0      1.0       1\n"
     ]
    }
   ],
   "source": [
    "value_counts_ratio(train, 'IVF_임신_횟수')"
   ]
  },
  {
   "cell_type": "markdown",
   "metadata": {},
   "source": [
    "## 34. DI_임신_횟수"
   ]
  },
  {
   "cell_type": "markdown",
   "metadata": {},
   "source": [
    "DI 시술로 인한 임신 횟수"
   ]
  },
  {
   "cell_type": "code",
   "execution_count": 119,
   "metadata": {},
   "outputs": [
    {
     "name": "stdout",
     "output_type": "stream",
     "text": [
      "\n",
      "DI_임신_횟수별 임신_성공_여부 비율 및 갯수\n",
      "\n",
      "                 0         1         0        1   Total\n",
      "variable                                               \n",
      "0회        0.738510  0.261490  184019.0  65157.0  249176\n",
      "1회        0.711111  0.288889     544.0    221.0     765\n",
      "2회        0.653465  0.346535      66.0     35.0     101\n",
      "3회        0.727273  0.272727       8.0      3.0      11\n",
      "4회        1.000000  0.000000       1.0      0.0       1\n",
      "5회        1.000000  0.000000       2.0      0.0       2\n"
     ]
    }
   ],
   "source": [
    "value_counts_ratio(train, 'DI_임신_횟수')"
   ]
  },
  {
   "cell_type": "markdown",
   "metadata": {},
   "source": [
    "## 35. 총_출산_횟수"
   ]
  },
  {
   "cell_type": "markdown",
   "metadata": {},
   "source": [
    "IVF 및 DI 시술로 출산한 횟수"
   ]
  },
  {
   "cell_type": "code",
   "execution_count": 120,
   "metadata": {},
   "outputs": [
    {
     "name": "stdout",
     "output_type": "stream",
     "text": [
      "\n",
      "총_출산_횟수별 임신_성공_여부 비율 및 갯수\n",
      "\n",
      "                 0         1         0        1   Total\n",
      "variable                                               \n",
      "0회        0.739998  0.260002  158526.0  55699.0  214225\n",
      "1회        0.728675  0.271325   24466.0   9110.0   33576\n",
      "2회        0.732186  0.267814    1531.0    560.0    2091\n",
      "3회        0.702703  0.297297     104.0     44.0     148\n",
      "4회        0.769231  0.230769      10.0      3.0      13\n",
      "5회        1.000000  0.000000       1.0      0.0       1\n",
      "6회 이상     1.000000  0.000000       2.0      0.0       2\n"
     ]
    }
   ],
   "source": [
    "value_counts_ratio(train, '총_출산_횟수')"
   ]
  },
  {
   "cell_type": "markdown",
   "metadata": {},
   "source": [
    "## 36. IVF_출산_횟수"
   ]
  },
  {
   "cell_type": "markdown",
   "metadata": {},
   "source": [
    "IVF 시술로 출산한 횟수"
   ]
  },
  {
   "cell_type": "code",
   "execution_count": 121,
   "metadata": {},
   "outputs": [
    {
     "name": "stdout",
     "output_type": "stream",
     "text": [
      "\n",
      "IVF_출산_횟수별 임신_성공_여부 비율 및 갯수\n",
      "\n",
      "                 0         1         0        1   Total\n",
      "variable                                               \n",
      "0회        0.739899  0.260101  158937.0  55872.0  214809\n",
      "1회        0.728834  0.271166   24112.0   8971.0   33083\n",
      "2회        0.737208  0.262792    1484.0    529.0    2013\n",
      "3회        0.700730  0.299270      96.0     41.0     137\n",
      "4회        0.769231  0.230769      10.0      3.0      13\n",
      "5회        1.000000  0.000000       1.0      0.0       1\n"
     ]
    }
   ],
   "source": [
    "value_counts_ratio(train, 'IVF_출산_횟수')"
   ]
  },
  {
   "cell_type": "markdown",
   "metadata": {},
   "source": [
    "## 37. DI_출산_횟수"
   ]
  },
  {
   "cell_type": "markdown",
   "metadata": {},
   "source": [
    "DI 시술로 출산한 횟수"
   ]
  },
  {
   "cell_type": "code",
   "execution_count": 122,
   "metadata": {},
   "outputs": [
    {
     "name": "stdout",
     "output_type": "stream",
     "text": [
      "\n",
      "DI_출산_횟수별 임신_성공_여부 비율 및 갯수\n",
      "\n",
      "                 0         1         0        1   Total\n",
      "variable                                               \n",
      "0회        0.738499  0.261501  184198.0  65224.0  249422\n",
      "1회        0.699313  0.300687     407.0    175.0     582\n",
      "2회        0.666667  0.333333      32.0     16.0      48\n",
      "3회        0.500000  0.500000       1.0      1.0       2\n",
      "5회        1.000000  0.000000       2.0      0.0       2\n"
     ]
    }
   ],
   "source": [
    "value_counts_ratio(train, 'DI_출산_횟수')"
   ]
  },
  {
   "cell_type": "markdown",
   "metadata": {},
   "source": [
    "## 55. 정자_기증자_나이"
   ]
  },
  {
   "cell_type": "markdown",
   "metadata": {},
   "source": [
    "정자 기증자의 등록 당시 나이"
   ]
  },
  {
   "cell_type": "code",
   "execution_count": 123,
   "metadata": {},
   "outputs": [
    {
     "name": "stdout",
     "output_type": "stream",
     "text": [
      "\n",
      "정자_기증자_나이별 임신_성공_여부 비율 및 갯수\n",
      "\n",
      "                 0         1       0      1   Total\n",
      "variable                                           \n",
      "만20세 이하   0.761842  0.238158     579    181     760\n",
      "만21-25세   0.727231  0.272769    3202   1201    4403\n",
      "만26-30세   0.715022  0.284978    2775   1106    3881\n",
      "만31-35세   0.717001  0.282999    2716   1072    3788\n",
      "만36-40세   0.717344  0.282656    2949   1162    4111\n",
      "만41-45세   0.723903  0.276097    2129    812    2941\n",
      "알 수 없음    0.739838  0.260162  170290  59882  230172\n"
     ]
    }
   ],
   "source": [
    "value_counts_ratio(train, '정자_기증자_나이')"
   ]
  },
  {
   "cell_type": "markdown",
   "metadata": {},
   "source": [
    "## 56. 동결_배아_사용_여부"
   ]
  },
  {
   "cell_type": "markdown",
   "metadata": {},
   "source": [
    "동결 배아가 사용되었는지 여부"
   ]
  },
  {
   "cell_type": "code",
   "execution_count": 124,
   "metadata": {},
   "outputs": [
    {
     "name": "stdout",
     "output_type": "stream",
     "text": [
      "\n",
      "동결_배아_사용_여부별 임신_성공_여부 비율 및 갯수\n",
      "\n",
      "                 0         1       0      1   Total\n",
      "variable                                           \n",
      "0.0       0.732236  0.267764  153719  56212  209931\n",
      "1.0       0.770617  0.229383   30921   9204   40125\n"
     ]
    }
   ],
   "source": [
    "value_counts_ratio(train, '동결_배아_사용_여부')"
   ]
  },
  {
   "cell_type": "markdown",
   "metadata": {},
   "source": [
    "## 57. 신선_배아_사용_여부"
   ]
  },
  {
   "cell_type": "markdown",
   "metadata": {},
   "source": [
    "신선 배아가 사용되었는지 여부"
   ]
  },
  {
   "cell_type": "code",
   "execution_count": 125,
   "metadata": {},
   "outputs": [
    {
     "name": "stdout",
     "output_type": "stream",
     "text": [
      "\n",
      "신선_배아_사용_여부별 임신_성공_여부 비율 및 갯수\n",
      "\n",
      "                 0         1       0      1   Total\n",
      "variable                                           \n",
      "0.0       0.770433  0.229567   30758   9165   39923\n",
      "1.0       0.732308  0.267692  153882  56251  210133\n"
     ]
    }
   ],
   "source": [
    "value_counts_ratio(train, '신선_배아_사용_여부')"
   ]
  },
  {
   "cell_type": "markdown",
   "metadata": {},
   "source": [
    "## 58. 기증_배아_사용_여부"
   ]
  },
  {
   "cell_type": "markdown",
   "metadata": {},
   "source": [
    "기증 배아가 사용되었는지 여부"
   ]
  },
  {
   "cell_type": "code",
   "execution_count": 126,
   "metadata": {},
   "outputs": [
    {
     "name": "stdout",
     "output_type": "stream",
     "text": [
      "\n",
      "기증_배아_사용_여부별 임신_성공_여부 비율 및 갯수\n",
      "\n",
      "                 0         1       0      1   Total\n",
      "variable                                           \n",
      "0.0       0.739049  0.260951  182987  64611  247598\n",
      "1.0       0.672498  0.327502    1653    805    2458\n"
     ]
    }
   ],
   "source": [
    "value_counts_ratio(train, '기증_배아_사용_여부')"
   ]
  },
  {
   "cell_type": "markdown",
   "metadata": {},
   "source": [
    "## 59. 대리모_여부"
   ]
  },
  {
   "cell_type": "markdown",
   "metadata": {},
   "source": [
    "환자가 대리모로 활동했는지 여부"
   ]
  },
  {
   "cell_type": "code",
   "execution_count": 127,
   "metadata": {},
   "outputs": [
    {
     "name": "stdout",
     "output_type": "stream",
     "text": [
      "\n",
      "대리모_여부별 임신_성공_여부 비율 및 갯수\n",
      "\n",
      "                 0         1       0      1   Total\n",
      "variable                                           \n",
      "0.0       0.738509  0.261491  183894  65113  249007\n",
      "1.0       0.711153  0.288847     746    303    1049\n"
     ]
    }
   ],
   "source": [
    "value_counts_ratio(train, '대리모_여부')"
   ]
  },
  {
   "cell_type": "markdown",
   "metadata": {},
   "source": [
    "## 60. PGD_시술_여부"
   ]
  },
  {
   "cell_type": "markdown",
   "metadata": {},
   "source": [
    "해당 주기가 PGD 치료로 분류되는지 여부"
   ]
  },
  {
   "cell_type": "code",
   "execution_count": 128,
   "metadata": {},
   "outputs": [
    {
     "name": "stdout",
     "output_type": "stream",
     "text": [
      "\n",
      "PGD_시술_여부별 임신_성공_여부 비율 및 갯수\n",
      "\n",
      "                 0         1     0    1  Total\n",
      "variable                                      \n",
      "1.0       0.720514  0.279486  1570  609   2179\n"
     ]
    }
   ],
   "source": [
    "value_counts_ratio(train, 'PGD_시술_여부')"
   ]
  },
  {
   "cell_type": "code",
   "execution_count": 129,
   "metadata": {},
   "outputs": [
    {
     "data": {
      "text/plain": [
       "247877"
      ]
     },
     "execution_count": 129,
     "metadata": {},
     "output_type": "execute_result"
    }
   ],
   "source": [
    "train['PGD_시술_여부'].isnull().sum()"
   ]
  },
  {
   "cell_type": "code",
   "execution_count": 130,
   "metadata": {},
   "outputs": [
    {
     "name": "stdout",
     "output_type": "stream",
     "text": [
      "결측값 개수: 247877\n",
      "결측값 개수: 0\n"
     ]
    }
   ],
   "source": [
    "# 결측값 개수 확인\n",
    "print(\"결측값 개수:\", train['PGD_시술_여부'].isnull().sum())\n",
    "\n",
    "# 결측값을 0으로 채우기\n",
    "train['PGD_시술_여부'].fillna('0', inplace=True)\n",
    "test['PGD_시술_여부'].fillna('0', inplace=True)\n",
    "\n",
    "# 결측값 개수 확인\n",
    "print(\"결측값 개수:\", train['PGD_시술_여부'].isnull().sum())"
   ]
  },
  {
   "cell_type": "markdown",
   "metadata": {},
   "source": [
    "## 61. PGS_시술_여부"
   ]
  },
  {
   "cell_type": "markdown",
   "metadata": {},
   "source": [
    "해당 주기가 PGS 치료로 분류되는지 여부"
   ]
  },
  {
   "cell_type": "code",
   "execution_count": 131,
   "metadata": {},
   "outputs": [
    {
     "name": "stdout",
     "output_type": "stream",
     "text": [
      "\n",
      "PGS_시술_여부별 임신_성공_여부 비율 및 갯수\n",
      "\n",
      "                 0         1     0    1  Total\n",
      "variable                                      \n",
      "1.0       0.793675  0.206325  1531  398   1929\n"
     ]
    }
   ],
   "source": [
    "value_counts_ratio(train, 'PGS_시술_여부')"
   ]
  },
  {
   "cell_type": "code",
   "execution_count": 132,
   "metadata": {},
   "outputs": [
    {
     "name": "stdout",
     "output_type": "stream",
     "text": [
      "결측값 개수: 248127\n",
      "결측값 개수: 0\n"
     ]
    }
   ],
   "source": [
    "# 결측값 개수 확인\n",
    "print(\"결측값 개수:\", train['PGS_시술_여부'].isnull().sum())\n",
    "\n",
    "# 결측값을 0으로 채우기\n",
    "train['PGS_시술_여부'].fillna('0', inplace=True)\n",
    "test['PGS_시술_여부'].fillna('0', inplace=True)\n",
    "\n",
    "# 결측값 개수 확인\n",
    "print(\"결측값 개수:\", train['PGS_시술_여부'].isnull().sum())"
   ]
  },
  {
   "cell_type": "markdown",
   "metadata": {},
   "source": [
    "## 62. 난자_채취_경과일"
   ]
  },
  {
   "cell_type": "markdown",
   "metadata": {},
   "source": [
    "첫 시점으로부터 난자 채취까지 경과한 일수"
   ]
  },
  {
   "cell_type": "code",
   "execution_count": 133,
   "metadata": {},
   "outputs": [
    {
     "name": "stdout",
     "output_type": "stream",
     "text": [
      "\n",
      "난자_채취_경과일별 임신_성공_여부 비율 및 갯수\n",
      "\n",
      "                 0         1       0      1   Total\n",
      "variable                                           \n",
      "0.0       0.736181  0.263819  146397  52463  198860\n"
     ]
    }
   ],
   "source": [
    "value_counts_ratio(train, '난자_채취_경과일')"
   ]
  },
  {
   "cell_type": "code",
   "execution_count": 134,
   "metadata": {},
   "outputs": [],
   "source": [
    "# '특정_시술_유형' 변수 제거\n",
    "train = train.drop(columns=['난자_채취_경과일'])\n",
    "test = test.drop(columns=['난자_채취_경과일'])"
   ]
  },
  {
   "cell_type": "markdown",
   "metadata": {},
   "source": [
    "## 63. 난자_해동_경과일"
   ]
  },
  {
   "cell_type": "markdown",
   "metadata": {},
   "source": [
    "첫 시점으로부터 난자 해동까지 경과한 일수"
   ]
  },
  {
   "cell_type": "code",
   "execution_count": 135,
   "metadata": {},
   "outputs": [
    {
     "name": "stdout",
     "output_type": "stream",
     "text": [
      "\n",
      "난자_해동_경과일별 임신_성공_여부 비율 및 갯수\n",
      "\n",
      "                 0         1       0      1  Total\n",
      "variable                                          \n",
      "0.0       0.777545  0.222455  1115.0  319.0   1434\n",
      "1.0       1.000000  0.000000     2.0    0.0      2\n"
     ]
    }
   ],
   "source": [
    "value_counts_ratio(train, '난자_해동_경과일')"
   ]
  },
  {
   "cell_type": "code",
   "execution_count": 136,
   "metadata": {},
   "outputs": [
    {
     "data": {
      "text/plain": [
       "248620"
      ]
     },
     "execution_count": 136,
     "metadata": {},
     "output_type": "execute_result"
    }
   ],
   "source": [
    "train['난자_해동_경과일'].isnull().sum()"
   ]
  },
  {
   "cell_type": "markdown",
   "metadata": {},
   "source": [
    "## 64. 난자_혼합_경과일"
   ]
  },
  {
   "cell_type": "markdown",
   "metadata": {},
   "source": [
    "첫 시점으로부터 난자와 정자 혼합까지 경과한 일수"
   ]
  },
  {
   "cell_type": "code",
   "execution_count": 137,
   "metadata": {},
   "outputs": [
    {
     "name": "stdout",
     "output_type": "stream",
     "text": [
      "\n",
      "난자_혼합_경과일별 임신_성공_여부 비율 및 갯수\n",
      "\n",
      "                 0         1         0        1   Total\n",
      "variable                                               \n",
      "0.0       0.722921  0.277079  145970.0  55947.0  201917\n",
      "1.0       0.846311  0.153689     413.0     75.0     488\n",
      "2.0       0.754902  0.245098      77.0     25.0     102\n",
      "3.0       0.720588  0.279412      49.0     19.0      68\n",
      "4.0       0.600000  0.400000       3.0      2.0       5\n",
      "5.0       0.791667  0.208333      19.0      5.0      24\n",
      "6.0       1.000000  0.000000       8.0      0.0       8\n",
      "7.0       1.000000  0.000000       1.0      0.0       1\n"
     ]
    }
   ],
   "source": [
    "value_counts_ratio(train, '난자_혼합_경과일')"
   ]
  },
  {
   "cell_type": "code",
   "execution_count": 138,
   "metadata": {},
   "outputs": [
    {
     "data": {
      "text/plain": [
       "47443"
      ]
     },
     "execution_count": 138,
     "metadata": {},
     "output_type": "execute_result"
    }
   ],
   "source": [
    "train['난자_혼합_경과일'].isnull().sum()"
   ]
  },
  {
   "cell_type": "code",
   "execution_count": 139,
   "metadata": {},
   "outputs": [
    {
     "name": "stdout",
     "output_type": "stream",
     "text": [
      "결측값 개수: 47443\n",
      "결측값 개수: 0\n"
     ]
    }
   ],
   "source": [
    "print(\"결측값 개수:\", train['난자_혼합_경과일'].isnull().sum())\n",
    "\n",
    "train['난자_혼합_경과일'].fillna('unknown', inplace=True)\n",
    "test['난자_혼합_경과일'].fillna('unknown', inplace=True)\n",
    "\n",
    "print(\"결측값 개수:\", train['난자_혼합_경과일'].isnull().sum())"
   ]
  },
  {
   "cell_type": "code",
   "execution_count": 140,
   "metadata": {},
   "outputs": [
    {
     "name": "stdout",
     "output_type": "stream",
     "text": [
      "\n",
      "난자_혼합_경과일별 임신_성공_여부 비율 및 갯수\n",
      "\n",
      "                 0         1         0        1   Total\n",
      "variable                                               \n",
      "0.0       0.722921  0.277079  145970.0  55947.0  201917\n",
      "1.0       0.846311  0.153689     413.0     75.0     488\n",
      "2.0       0.754902  0.245098      77.0     25.0     102\n",
      "3.0       0.720588  0.279412      49.0     19.0      68\n",
      "4.0       0.600000  0.400000       3.0      2.0       5\n",
      "5.0       0.791667  0.208333      19.0      5.0      24\n",
      "6.0       1.000000  0.000000       8.0      0.0       8\n",
      "7.0       1.000000  0.000000       1.0      0.0       1\n",
      "unknown   0.803069  0.196931   38100.0   9343.0   47443\n"
     ]
    }
   ],
   "source": [
    "value_counts_ratio(train, '난자_혼합_경과일')"
   ]
  },
  {
   "cell_type": "markdown",
   "metadata": {},
   "source": [
    "## 65. 배아_이식_경과일"
   ]
  },
  {
   "cell_type": "markdown",
   "metadata": {},
   "source": [
    "첫 시점으로부터 배아 이식까지 경과한 일수"
   ]
  },
  {
   "cell_type": "code",
   "execution_count": 141,
   "metadata": {},
   "outputs": [
    {
     "name": "stdout",
     "output_type": "stream",
     "text": [
      "\n",
      "배아_이식_경과일별 임신_성공_여부 비율 및 갯수\n",
      "\n",
      "                 0         1      0      1  Total\n",
      "variable                                         \n",
      "0.0       0.748986  0.251014  18652   6251  24903\n",
      "1.0       0.812985  0.187015   4921   1132   6053\n",
      "2.0       0.787531  0.212469  27625   7453  35078\n",
      "3.0       0.741230  0.258770  42935  14989  57924\n",
      "4.0       0.655639  0.344361   2953   1551   4504\n",
      "5.0       0.595546  0.404454  48512  32946  81458\n",
      "6.0       0.699964  0.300036   1941    832   2773\n",
      "7.0       0.588889  0.411111     53     37     90\n"
     ]
    }
   ],
   "source": [
    "value_counts_ratio(train, '배아_이식_경과일')"
   ]
  },
  {
   "cell_type": "code",
   "execution_count": 142,
   "metadata": {},
   "outputs": [
    {
     "data": {
      "text/plain": [
       "37273"
      ]
     },
     "execution_count": 142,
     "metadata": {},
     "output_type": "execute_result"
    }
   ],
   "source": [
    "train['배아_이식_경과일'].isnull().sum()"
   ]
  },
  {
   "cell_type": "code",
   "execution_count": 143,
   "metadata": {},
   "outputs": [
    {
     "name": "stdout",
     "output_type": "stream",
     "text": [
      "결측값 개수: 37273\n",
      "결측값 개수: 0\n"
     ]
    }
   ],
   "source": [
    "print(\"결측값 개수:\", train['배아_이식_경과일'].isnull().sum())\n",
    "\n",
    "train['배아_이식_경과일'].fillna('unknown', inplace=True)\n",
    "test['배아_이식_경과일'].fillna('unknown', inplace=True)\n",
    "\n",
    "print(\"결측값 개수:\", train['배아_이식_경과일'].isnull().sum())"
   ]
  },
  {
   "cell_type": "code",
   "execution_count": 144,
   "metadata": {},
   "outputs": [
    {
     "name": "stdout",
     "output_type": "stream",
     "text": [
      "\n",
      "배아_이식_경과일별 임신_성공_여부 비율 및 갯수\n",
      "\n",
      "                 0         1      0      1  Total\n",
      "variable                                         \n",
      "0.0       0.748986  0.251014  18652   6251  24903\n",
      "1.0       0.812985  0.187015   4921   1132   6053\n",
      "2.0       0.787531  0.212469  27625   7453  35078\n",
      "3.0       0.741230  0.258770  42935  14989  57924\n",
      "4.0       0.655639  0.344361   2953   1551   4504\n",
      "5.0       0.595546  0.404454  48512  32946  81458\n",
      "6.0       0.699964  0.300036   1941    832   2773\n",
      "7.0       0.588889  0.411111     53     37     90\n",
      "unknown   0.993963  0.006037  37048    225  37273\n"
     ]
    }
   ],
   "source": [
    "value_counts_ratio(train, '배아_이식_경과일')"
   ]
  },
  {
   "cell_type": "markdown",
   "metadata": {},
   "source": [
    "## 66. 배아_해동_경과일"
   ]
  },
  {
   "cell_type": "markdown",
   "metadata": {},
   "source": [
    "첫 시점으로부터 배아 해동까지 경과한 일수"
   ]
  },
  {
   "cell_type": "code",
   "execution_count": 145,
   "metadata": {},
   "outputs": [
    {
     "name": "stdout",
     "output_type": "stream",
     "text": [
      "\n",
      "배아_해동_경과일별 임신_성공_여부 비율 및 갯수\n",
      "\n",
      "                 0         1        0       1  Total\n",
      "variable                                            \n",
      "0.0       0.770352  0.229648  30660.0  9140.0  39800\n",
      "1.0       0.837838  0.162162     31.0     6.0     37\n",
      "2.0       0.840659  0.159341    153.0    29.0    182\n",
      "3.0       0.890244  0.109756    146.0    18.0    164\n",
      "4.0       1.000000  0.000000     12.0     0.0     12\n",
      "5.0       0.785714  0.214286    110.0    30.0    140\n",
      "6.0       0.833333  0.166667     25.0     5.0     30\n",
      "7.0       1.000000  0.000000      3.0     0.0      3\n"
     ]
    }
   ],
   "source": [
    "value_counts_ratio(train, '배아_해동_경과일')"
   ]
  },
  {
   "cell_type": "code",
   "execution_count": 146,
   "metadata": {},
   "outputs": [
    {
     "data": {
      "text/plain": [
       "0.0    13751\n",
       "3.0       59\n",
       "2.0       57\n",
       "5.0       55\n",
       "1.0       17\n",
       "6.0        7\n",
       "4.0        4\n",
       "Name: 배아_해동_경과일, dtype: int64"
      ]
     },
     "execution_count": 146,
     "metadata": {},
     "output_type": "execute_result"
    }
   ],
   "source": [
    "test['배아_해동_경과일'].value_counts()"
   ]
  },
  {
   "cell_type": "code",
   "execution_count": 147,
   "metadata": {},
   "outputs": [
    {
     "name": "stdout",
     "output_type": "stream",
     "text": [
      "결측값 개수: 209688\n",
      "결측값 개수: 0\n"
     ]
    }
   ],
   "source": [
    "print(\"결측값 개수:\", train['배아_해동_경과일'].isnull().sum())\n",
    "\n",
    "train['배아_해동_경과일'].fillna('unknown', inplace=True)\n",
    "test['배아_해동_경과일'].fillna('unknown', inplace=True)\n",
    "\n",
    "print(\"결측값 개수:\", train['배아_해동_경과일'].isnull().sum())"
   ]
  },
  {
   "cell_type": "code",
   "execution_count": 148,
   "metadata": {},
   "outputs": [
    {
     "name": "stdout",
     "output_type": "stream",
     "text": [
      "\n",
      "배아_해동_경과일별 임신_성공_여부 비율 및 갯수\n",
      "\n",
      "                 0         1         0        1   Total\n",
      "variable                                               \n",
      "0.0       0.770352  0.229648   30660.0   9140.0   39800\n",
      "1.0       0.837838  0.162162      31.0      6.0      37\n",
      "2.0       0.840659  0.159341     153.0     29.0     182\n",
      "3.0       0.890244  0.109756     146.0     18.0     164\n",
      "4.0       1.000000  0.000000      12.0      0.0      12\n",
      "5.0       0.785714  0.214286     110.0     30.0     140\n",
      "6.0       0.833333  0.166667      25.0      5.0      30\n",
      "7.0       1.000000  0.000000       3.0      0.0       3\n",
      "unknown   0.732040  0.267960  153500.0  56188.0  209688\n"
     ]
    }
   ],
   "source": [
    "value_counts_ratio(train, '배아_해동_경과일')"
   ]
  },
  {
   "cell_type": "markdown",
   "metadata": {},
   "source": [
    "## 67. 임신_성공_여부"
   ]
  },
  {
   "cell_type": "markdown",
   "metadata": {},
   "source": [
    "해당 시술로부터 임신 성공 여부"
   ]
  },
  {
   "cell_type": "code",
   "execution_count": 149,
   "metadata": {},
   "outputs": [
    {
     "name": "stdout",
     "output_type": "stream",
     "text": [
      "\n",
      "임신_성공_여부별 임신_성공_여부 비율 및 갯수\n",
      "\n",
      "            0    1         0        1   Total\n",
      "variable                                     \n",
      "0         1.0  0.0  184640.0      0.0  184640\n",
      "1         0.0  1.0       0.0  65416.0   65416\n"
     ]
    }
   ],
   "source": [
    "value_counts_ratio(train, '임신_성공_여부')"
   ]
  },
  {
   "cell_type": "code",
   "execution_count": 150,
   "metadata": {},
   "outputs": [
    {
     "name": "stdout",
     "output_type": "stream",
     "text": [
      "<class 'pandas.core.frame.DataFrame'>\n",
      "Int64Index: 250056 entries, 0 to 256350\n",
      "Data columns (total 66 columns):\n",
      " #   Column                 Non-Null Count   Dtype  \n",
      "---  ------                 --------------   -----  \n",
      " 0   시술_시기_코드               250056 non-null  object \n",
      " 1   시술_당시_나이               250056 non-null  object \n",
      " 2   임신_시도_또는_마지막_임신_경과_연수  250056 non-null  object \n",
      " 3   배란_자극_여부               250056 non-null  int64  \n",
      " 4   배란_유도_유형               250056 non-null  object \n",
      " 5   단일_배아_이식_여부            250056 non-null  float64\n",
      " 6   착상_전_유전_검사_사용_여부       2718 non-null    float64\n",
      " 7   착상_전_유전_진단_사용_여부       250056 non-null  float64\n",
      " 8   남성_주_불임_원인             250056 non-null  int64  \n",
      " 9   남성_부_불임_원인             250056 non-null  int64  \n",
      " 10  여성_주_불임_원인             250056 non-null  int64  \n",
      " 11  여성_부_불임_원인             250056 non-null  int64  \n",
      " 12  부부_주_불임_원인             250056 non-null  int64  \n",
      " 13  부부_부_불임_원인             250056 non-null  int64  \n",
      " 14  불명확_불임_원인              250056 non-null  int64  \n",
      " 15  불임_원인_-_난관_질환          250056 non-null  int64  \n",
      " 16  불임_원인_-_남성_요인          250056 non-null  int64  \n",
      " 17  불임_원인_-_배란_장애          250056 non-null  int64  \n",
      " 18  불임_원인_-_여성_요인          250056 non-null  int64  \n",
      " 19  불임_원인_-_자궁경부_문제        250056 non-null  int64  \n",
      " 20  불임_원인_-_자궁내막증          250056 non-null  int64  \n",
      " 21  불임_원인_-_정자_농도          250056 non-null  int64  \n",
      " 22  불임_원인_-_정자_면역학적_요인     250056 non-null  int64  \n",
      " 23  불임_원인_-_정자_운동성         250056 non-null  int64  \n",
      " 24  불임_원인_-_정자_형태          250056 non-null  int64  \n",
      " 25  배아_생성_주요_이유            250056 non-null  object \n",
      " 26  총_시술_횟수                250056 non-null  object \n",
      " 27  클리닉_내_총_시술_횟수          250056 non-null  object \n",
      " 28  IVF_시술_횟수              250056 non-null  object \n",
      " 29  DI_시술_횟수               250056 non-null  object \n",
      " 30  총_임신_횟수                250056 non-null  object \n",
      " 31  IVF_임신_횟수              250056 non-null  object \n",
      " 32  DI_임신_횟수               250056 non-null  object \n",
      " 33  총_출산_횟수                250056 non-null  object \n",
      " 34  IVF_출산_횟수              250056 non-null  object \n",
      " 35  DI_출산_횟수               250056 non-null  object \n",
      " 36  총_생성_배아_수              250056 non-null  float64\n",
      " 37  미세주입된_난자_수             250056 non-null  float64\n",
      " 38  미세주입에서_생성된_배아_수        250056 non-null  float64\n",
      " 39  이식된_배아_수               250056 non-null  float64\n",
      " 40  미세주입_배아_이식_수           250056 non-null  float64\n",
      " 41  저장된_배아_수               250056 non-null  float64\n",
      " 42  미세주입_후_저장된_배아_수        250056 non-null  float64\n",
      " 43  해동된_배아_수               250056 non-null  float64\n",
      " 44  해동_난자_수                250056 non-null  float64\n",
      " 45  수집된_신선_난자_수            250056 non-null  float64\n",
      " 46  저장된_신선_난자_수            250056 non-null  float64\n",
      " 47  혼합된_난자_수               250056 non-null  float64\n",
      " 48  파트너_정자와_혼합된_난자_수       250056 non-null  float64\n",
      " 49  기증자_정자와_혼합된_난자_수       250056 non-null  float64\n",
      " 50  난자_출처                  250056 non-null  object \n",
      " 51  정자_출처                  250056 non-null  object \n",
      " 52  난자_기증자_나이              250056 non-null  object \n",
      " 53  정자_기증자_나이              250056 non-null  object \n",
      " 54  동결_배아_사용_여부            250056 non-null  float64\n",
      " 55  신선_배아_사용_여부            250056 non-null  float64\n",
      " 56  기증_배아_사용_여부            250056 non-null  float64\n",
      " 57  대리모_여부                 250056 non-null  float64\n",
      " 58  PGD_시술_여부              250056 non-null  object \n",
      " 59  PGS_시술_여부              250056 non-null  object \n",
      " 60  난자_해동_경과일              1436 non-null    float64\n",
      " 61  난자_혼합_경과일              250056 non-null  object \n",
      " 62  배아_이식_경과일              250056 non-null  object \n",
      " 63  배아_해동_경과일              250056 non-null  object \n",
      " 64  임신_성공_여부               250056 non-null  int64  \n",
      " 65  변환된_특정_시술_유형           250054 non-null  object \n",
      "dtypes: float64(22), int64(19), object(25)\n",
      "memory usage: 127.8+ MB\n"
     ]
    }
   ],
   "source": [
    "train.info()"
   ]
  },
  {
   "cell_type": "code",
   "execution_count": 151,
   "metadata": {},
   "outputs": [
    {
     "name": "stdout",
     "output_type": "stream",
     "text": [
      "<class 'pandas.core.frame.DataFrame'>\n",
      "Int64Index: 87891 entries, 0 to 90066\n",
      "Data columns (total 65 columns):\n",
      " #   Column                 Non-Null Count  Dtype  \n",
      "---  ------                 --------------  -----  \n",
      " 0   시술_시기_코드               87891 non-null  object \n",
      " 1   시술_당시_나이               87891 non-null  object \n",
      " 2   임신_시도_또는_마지막_임신_경과_연수  87891 non-null  object \n",
      " 3   배란_자극_여부               87891 non-null  int64  \n",
      " 4   배란_유도_유형               87891 non-null  object \n",
      " 5   단일_배아_이식_여부            87891 non-null  float64\n",
      " 6   착상_전_유전_검사_사용_여부       933 non-null    float64\n",
      " 7   착상_전_유전_진단_사용_여부       87891 non-null  float64\n",
      " 8   남성_주_불임_원인             87891 non-null  int64  \n",
      " 9   남성_부_불임_원인             87891 non-null  int64  \n",
      " 10  여성_주_불임_원인             87891 non-null  int64  \n",
      " 11  여성_부_불임_원인             87891 non-null  int64  \n",
      " 12  부부_주_불임_원인             87891 non-null  int64  \n",
      " 13  부부_부_불임_원인             87891 non-null  int64  \n",
      " 14  불명확_불임_원인              87891 non-null  int64  \n",
      " 15  불임_원인_-_난관_질환          87891 non-null  int64  \n",
      " 16  불임_원인_-_남성_요인          87891 non-null  int64  \n",
      " 17  불임_원인_-_배란_장애          87891 non-null  int64  \n",
      " 18  불임_원인_-_여성_요인          87891 non-null  int64  \n",
      " 19  불임_원인_-_자궁경부_문제        87891 non-null  int64  \n",
      " 20  불임_원인_-_자궁내막증          87891 non-null  int64  \n",
      " 21  불임_원인_-_정자_농도          87891 non-null  int64  \n",
      " 22  불임_원인_-_정자_면역학적_요인     87891 non-null  int64  \n",
      " 23  불임_원인_-_정자_운동성         87891 non-null  int64  \n",
      " 24  불임_원인_-_정자_형태          87891 non-null  int64  \n",
      " 25  배아_생성_주요_이유            87891 non-null  object \n",
      " 26  총_시술_횟수                87891 non-null  object \n",
      " 27  클리닉_내_총_시술_횟수          87891 non-null  object \n",
      " 28  IVF_시술_횟수              87891 non-null  object \n",
      " 29  DI_시술_횟수               87891 non-null  object \n",
      " 30  총_임신_횟수                87891 non-null  object \n",
      " 31  IVF_임신_횟수              87891 non-null  object \n",
      " 32  DI_임신_횟수               87891 non-null  object \n",
      " 33  총_출산_횟수                87891 non-null  object \n",
      " 34  IVF_출산_횟수              87891 non-null  object \n",
      " 35  DI_출산_횟수               87891 non-null  object \n",
      " 36  총_생성_배아_수              87891 non-null  float64\n",
      " 37  미세주입된_난자_수             87891 non-null  float64\n",
      " 38  미세주입에서_생성된_배아_수        87891 non-null  float64\n",
      " 39  이식된_배아_수               87891 non-null  float64\n",
      " 40  미세주입_배아_이식_수           87891 non-null  float64\n",
      " 41  저장된_배아_수               87891 non-null  float64\n",
      " 42  미세주입_후_저장된_배아_수        87891 non-null  float64\n",
      " 43  해동된_배아_수               87891 non-null  float64\n",
      " 44  해동_난자_수                87891 non-null  float64\n",
      " 45  수집된_신선_난자_수            87891 non-null  float64\n",
      " 46  저장된_신선_난자_수            87891 non-null  float64\n",
      " 47  혼합된_난자_수               87891 non-null  float64\n",
      " 48  파트너_정자와_혼합된_난자_수       87891 non-null  float64\n",
      " 49  기증자_정자와_혼합된_난자_수       87891 non-null  float64\n",
      " 50  난자_출처                  87891 non-null  object \n",
      " 51  정자_출처                  87891 non-null  object \n",
      " 52  난자_기증자_나이              87891 non-null  object \n",
      " 53  정자_기증자_나이              87891 non-null  object \n",
      " 54  동결_배아_사용_여부            87891 non-null  float64\n",
      " 55  신선_배아_사용_여부            87891 non-null  float64\n",
      " 56  기증_배아_사용_여부            87891 non-null  float64\n",
      " 57  대리모_여부                 87891 non-null  float64\n",
      " 58  PGD_시술_여부              87891 non-null  object \n",
      " 59  PGS_시술_여부              87891 non-null  object \n",
      " 60  난자_해동_경과일              492 non-null    float64\n",
      " 61  난자_혼합_경과일              87891 non-null  object \n",
      " 62  배아_이식_경과일              87891 non-null  object \n",
      " 63  배아_해동_경과일              87891 non-null  object \n",
      " 64  변환된_특정_시술_유형           87891 non-null  object \n",
      "dtypes: float64(22), int64(18), object(25)\n",
      "memory usage: 44.3+ MB\n"
     ]
    }
   ],
   "source": [
    "test.info()"
   ]
  },
  {
   "cell_type": "code",
   "execution_count": 152,
   "metadata": {},
   "outputs": [],
   "source": [
    "X = train.drop('임신_성공_여부', axis=1)\n",
    "y = train['임신_성공_여부']"
   ]
  },
  {
   "cell_type": "markdown",
   "metadata": {},
   "source": [
    "### 인코딩 "
   ]
  },
  {
   "cell_type": "code",
   "execution_count": 154,
   "metadata": {},
   "outputs": [],
   "source": [
    "categorical_columns = [\n",
    "    \"시술_시기_코드\", \n",
    "    \"시술_당시_나이\", \n",
    "    \"임신_시도_또는_마지막_임신_경과_연수\",\n",
    "    \"배란_유도_유형\",\n",
    "    \"배아_생성_주요_이유\",\n",
    "    \"총_시술_횟수\",\n",
    "    \"클리닉_내_총_시술_횟수\",\n",
    "    \"IVF_시술_횟수\",\n",
    "    \"DI_시술_횟수\",\n",
    "    \"총_임신_횟수\",\n",
    "    \"IVF_임신_횟수\",\n",
    "    \"DI_임신_횟수\",\n",
    "    \"총_출산_횟수\",\n",
    "    \"IVF_출산_횟수\",\n",
    "    \"DI_출산_횟수\",\n",
    "    \"난자_출처\",\n",
    "    \"정자_출처\",\n",
    "    \"난자_기증자_나이\",\n",
    "    \"정자_기증자_나이\",\n",
    "    \"PGD_시술_여부\",\n",
    "    \"PGS_시술_여부\",\n",
    "    \"난자_혼합_경과일\",\n",
    "    \"배아_이식_경과일\",\n",
    "    \"배아_해동_경과일\",\n",
    "    \"변환된_특정_시술_유형\"\n",
    "]"
   ]
  },
  {
   "cell_type": "code",
   "execution_count": 155,
   "metadata": {},
   "outputs": [],
   "source": [
    "# 모든 범주형 변수를 문자열로 변환\n",
    "X[categorical_columns] = X[categorical_columns].astype(str)"
   ]
  },
  {
   "cell_type": "code",
   "execution_count": 156,
   "metadata": {},
   "outputs": [],
   "source": [
    "# OrdinalEncoder를 사용하여 범주형 변수 인코딩\n",
    "ordinal_encoder = OrdinalEncoder(handle_unknown='use_encoded_value', unknown_value=-1)\n",
    "\n",
    "X[categorical_columns] = ordinal_encoder.fit_transform(X[categorical_columns])\n",
    "\n",
    "# 데이터 분할\n",
    "X_train, X_test, y_train, y_test = train_test_split(X, y, test_size=0.2, random_state=42)"
   ]
  },
  {
   "cell_type": "markdown",
   "metadata": {},
   "source": [
    "## Modeling"
   ]
  },
  {
   "cell_type": "code",
   "execution_count": 158,
   "metadata": {},
   "outputs": [
    {
     "name": "stdout",
     "output_type": "stream",
     "text": [
      "\n",
      "--- Model Performance ---\n",
      "Model Accuracy: 0.744581300487883\n",
      "Model F1 Score: 0.20292025458629728\n",
      "Model AUC: 0.7395905404262817\n"
     ]
    },
    {
     "data": {
      "image/png": "[encoded data removed]",
      "text/plain": [
       "<Figure size 640x480 with 2 Axes>"
      ]
     },
     "metadata": {},
     "output_type": "display_data"
    }
   ],
   "source": [
    "# 데이터 분할\n",
    "X_train, X_test, y_train, y_test = train_test_split(X, y, test_size=0.2, random_state=42)\n",
    "\n",
    "# 모델 초기화\n",
    "model = lgb.LGBMClassifier(\n",
    "    n_estimators=681,\n",
    "    num_leaves=846,\n",
    "    max_depth=10,\n",
    "    learning_rate=0.011124128507693187,\n",
    "    min_child_samples=296,\n",
    "    random_state=42,\n",
    "    boosting_type='gbdt',\n",
    "    verbose=-1\n",
    "    )\n",
    "\n",
    "# 모델 학습\n",
    "model.fit(X_train, y_train)\n",
    "\n",
    "# 예측\n",
    "y_pred = model.predict(X_test)\n",
    "y_pred_proba = model.predict_proba(X_test)[:, 1]\n",
    "\n",
    "# 평가\n",
    "accuracy = accuracy_score(y_test, y_pred)\n",
    "f1 = f1_score(y_test, y_pred)\n",
    "auc = roc_auc_score(y_test, y_pred_proba)\n",
    "cm = confusion_matrix(y_test, y_pred)\n",
    "\n",
    "# 결과 출력\n",
    "print()\n",
    "print(\"--- Model Performance ---\")\n",
    "print(f\"Model Accuracy: {accuracy}\")\n",
    "print(f\"Model F1 Score: {f1}\")\n",
    "print(f\"Model AUC: {auc}\")\n",
    "\n",
    "# 혼동 행렬 출력\n",
    "disp = ConfusionMatrixDisplay(confusion_matrix=cm, display_labels=model.classes_)\n",
    "disp.plot(cmap=plt.cm.Blues)\n",
    "plt.show()"
   ]
  },
  {
   "cell_type": "markdown",
   "metadata": {},
   "source": [
    "."
   ]
  }
 ],
 "metadata": {
  "kernelspec": {
   "display_name": "Python 3",
   "language": "python",
   "name": "python3"
  },
  "language_info": {
   "codemirror_mode": {
    "name": "ipython",
    "version": 3
   },
   "file_extension": ".py",
   "mimetype": "text/x-python",
   "name": "python",
   "nbconvert_exporter": "python",
   "pygments_lexer": "ipython3",
   "version": "3.7.8"
  }
 },
 "nbformat": 4,
 "nbformat_minor": 2
}
