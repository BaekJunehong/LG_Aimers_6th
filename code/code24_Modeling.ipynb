{
 "cells": [
  {
   "cell_type": "markdown",
   "metadata": {},
   "source": [
    "## 난임 환자 대상 임신 성공 여부 예측"
   ]
  },
  {
   "cell_type": "markdown",
   "metadata": {},
   "source": [
    "### LGAimers 6th 온라인 해커톤"
   ]
  },
  {
   "cell_type": "markdown",
   "metadata": {},
   "source": [
    "Import"
   ]
  },
  {
   "cell_type": "code",
   "execution_count": 5,
   "metadata": {},
   "outputs": [],
   "source": [
    "import pandas as pd\n",
    "import lightgbm as lgb\n",
    "from sklearn.preprocessing import OrdinalEncoder\n",
    "from sklearn.model_selection import train_test_split\n",
    "from sklearn.metrics import accuracy_score, f1_score, roc_auc_score, confusion_matrix, ConfusionMatrixDisplay\n",
    "import matplotlib.pyplot as plt\n",
    "from sklearn.linear_model import LogisticRegression\n",
    "import lightgbm as lgb\n",
    "import xgboost as xgb\n",
    "from catboost import CatBoostClassifier\n",
    "from sklearn.ensemble import RandomForestClassifier"
   ]
  },
  {
   "cell_type": "markdown",
   "metadata": {},
   "source": [
    "### Data Load"
   ]
  },
  {
   "cell_type": "code",
   "execution_count": 6,
   "metadata": {},
   "outputs": [],
   "source": [
    "# 데이터 로드\n",
    "IVF_train = pd.read_csv('../data/IVF_train_dataset_24.csv')\n",
    "IVF_test = pd.read_csv('../data/IVF_test_dataset_24.csv')\n",
    "\n",
    "DI_train = pd.read_csv('../data/DI_train_dataset_24.csv')\n",
    "DI_test = pd.read_csv('../data/DI_test_dataset_24.csv')"
   ]
  },
  {
   "cell_type": "code",
   "execution_count": 3,
   "metadata": {},
   "outputs": [
    {
     "name": "stdout",
     "output_type": "stream",
     "text": [
      "<class 'pandas.core.frame.DataFrame'>\n",
      "RangeIndex: 250052 entries, 0 to 250051\n",
      "Data columns (total 92 columns):\n",
      " #   Column                  Non-Null Count   Dtype  \n",
      "---  ------                  --------------   -----  \n",
      " 0   ID                      250052 non-null  object \n",
      " 1   시술_시기_코드                250052 non-null  object \n",
      " 2   시술_당시_나이                250052 non-null  object \n",
      " 3   임신_시도_또는_마지막_임신_경과_연수   250052 non-null  object \n",
      " 4   배란_자극_여부                250052 non-null  int64  \n",
      " 5   배란_유도_유형                250052 non-null  object \n",
      " 6   단일_배아_이식_여부             250052 non-null  float64\n",
      " 7   착상_전_유전_검사_사용_여부        250052 non-null  float64\n",
      " 8   착상_전_유전_진단_사용_여부        250052 non-null  float64\n",
      " 9   남성_주_불임_원인              250052 non-null  int64  \n",
      " 10  남성_부_불임_원인              250052 non-null  int64  \n",
      " 11  여성_주_불임_원인              250052 non-null  int64  \n",
      " 12  여성_부_불임_원인              250052 non-null  int64  \n",
      " 13  부부_주_불임_원인              250052 non-null  int64  \n",
      " 14  부부_부_불임_원인              250052 non-null  int64  \n",
      " 15  불명확_불임_원인               250052 non-null  int64  \n",
      " 16  불임_원인_-_난관_질환           250052 non-null  int64  \n",
      " 17  불임_원인_-_남성_요인           250052 non-null  int64  \n",
      " 18  불임_원인_-_배란_장애           250052 non-null  int64  \n",
      " 19  불임_원인_-_자궁경부_문제         250052 non-null  int64  \n",
      " 20  불임_원인_-_자궁내막증           250052 non-null  int64  \n",
      " 21  불임_원인_-_정자_농도           250052 non-null  int64  \n",
      " 22  불임_원인_-_정자_면역학적_요인      250052 non-null  int64  \n",
      " 23  불임_원인_-_정자_운동성          250052 non-null  int64  \n",
      " 24  불임_원인_-_정자_형태           250052 non-null  int64  \n",
      " 25  배아_생성_주요_이유             250052 non-null  object \n",
      " 26  총_시술_횟수                 250052 non-null  int64  \n",
      " 27  클리닉_내_총_시술_횟수           250052 non-null  int64  \n",
      " 28  IVF_시술_횟수               250052 non-null  int64  \n",
      " 29  DI_시술_횟수                250052 non-null  int64  \n",
      " 30  총_임신_횟수                 250052 non-null  int64  \n",
      " 31  IVF_임신_횟수               250052 non-null  int64  \n",
      " 32  DI_임신_횟수                250052 non-null  int64  \n",
      " 33  총_출산_횟수                 250052 non-null  int64  \n",
      " 34  IVF_출산_횟수               250052 non-null  int64  \n",
      " 35  DI_출산_횟수                250052 non-null  int64  \n",
      " 36  총_생성_배아_수               250052 non-null  float64\n",
      " 37  미세주입된_난자_수              250052 non-null  float64\n",
      " 38  미세주입에서_생성된_배아_수         250052 non-null  float64\n",
      " 39  이식된_배아_수                250052 non-null  float64\n",
      " 40  미세주입_배아_이식_수            250052 non-null  float64\n",
      " 41  저장된_배아_수                250052 non-null  float64\n",
      " 42  미세주입_후_저장된_배아_수         250052 non-null  float64\n",
      " 43  해동된_배아_수                250052 non-null  float64\n",
      " 44  해동_난자_수                 250052 non-null  float64\n",
      " 45  수집된_신선_난자_수             250052 non-null  float64\n",
      " 46  저장된_신선_난자_수             250052 non-null  float64\n",
      " 47  혼합된_난자_수                250052 non-null  float64\n",
      " 48  파트너_정자와_혼합된_난자_수        250052 non-null  float64\n",
      " 49  기증자_정자와_혼합된_난자_수        250052 non-null  float64\n",
      " 50  난자_출처                   250052 non-null  object \n",
      " 51  정자_출처                   250052 non-null  object \n",
      " 52  난자_기증자_나이               250052 non-null  object \n",
      " 53  정자_기증자_나이               250052 non-null  object \n",
      " 54  동결_배아_사용_여부             250052 non-null  float64\n",
      " 55  신선_배아_사용_여부             250052 non-null  float64\n",
      " 56  기증_배아_사용_여부             250052 non-null  float64\n",
      " 57  대리모_여부                  250052 non-null  float64\n",
      " 58  PGD_시술_여부               250052 non-null  float64\n",
      " 59  PGS_시술_여부               250052 non-null  float64\n",
      " 60  난자_채취_경과일               250052 non-null  float64\n",
      " 61  난자_해동_경과일               250052 non-null  float64\n",
      " 62  난자_혼합_경과일               250052 non-null  float64\n",
      " 63  배아_이식_경과일               250052 non-null  float64\n",
      " 64  배아_해동_경과일               250052 non-null  float64\n",
      " 65  임신_성공_여부                250052 non-null  int64  \n",
      " 66  변환된_특정_시술_유형            250050 non-null  object \n",
      " 67  특정_시술_유형_ICSI_더미        250052 non-null  int64  \n",
      " 68  특정_시술_유형_IVF_더미         250052 non-null  int64  \n",
      " 69  특정_시술_유형_AH_더미          250052 non-null  int64  \n",
      " 70  특정_시술_유형_BLASTOCYST_더미  250052 non-null  int64  \n",
      " 71  배아_생성_주요_이유_현재시술용       250052 non-null  int64  \n",
      " 72  배아_생성_주요_이유_기증용         250052 non-null  int64  \n",
      " 73  배아_생성_주요_이유_난자저장용       250052 non-null  int64  \n",
      " 74  배아_생성_주요_이유_배아저장용       250052 non-null  int64  \n",
      " 75  IVF_임신_시술_비율            250052 non-null  float64\n",
      " 76  IVF_출산_임신_비율            250052 non-null  float64\n",
      " 77  DI_임신_시술_비율             250052 non-null  float64\n",
      " 78  DI_출산_임신_비율             250052 non-null  float64\n",
      " 79  임신_성공률                  250052 non-null  float64\n",
      " 80  출산_성공률                  250052 non-null  float64\n",
      " 81  임신_성공율                  250052 non-null  float64\n",
      " 82  ICSI_효율성                250052 non-null  float64\n",
      " 83  저장_배아_비율                250052 non-null  float64\n",
      " 84  해동_난자_비율                250052 non-null  float64\n",
      " 85  생성_배아_유지율               250052 non-null  float64\n",
      " 86  파트너_정자_사용_비율            250052 non-null  float64\n",
      " 87  기증자_나이_더미               250052 non-null  int64  \n",
      " 88  채취_해동_차이                250052 non-null  object \n",
      " 89  해동_혼합_차이                250052 non-null  object \n",
      " 90  혼합_이식_차이                250052 non-null  object \n",
      " 91  이식_해동_차이                250052 non-null  object \n",
      "dtypes: float64(40), int64(37), object(15)\n",
      "memory usage: 175.5+ MB\n"
     ]
    }
   ],
   "source": [
    "IVF_train.info()"
   ]
  },
  {
   "cell_type": "code",
   "execution_count": 4,
   "metadata": {},
   "outputs": [
    {
     "name": "stdout",
     "output_type": "stream",
     "text": [
      "<class 'pandas.core.frame.DataFrame'>\n",
      "RangeIndex: 6290 entries, 0 to 6289\n",
      "Data columns (total 36 columns):\n",
      " #   Column                 Non-Null Count  Dtype  \n",
      "---  ------                 --------------  -----  \n",
      " 0   ID                     6290 non-null   object \n",
      " 1   시술_시기_코드               6290 non-null   object \n",
      " 2   시술_당시_나이               6290 non-null   object \n",
      " 3   임신_시도_또는_마지막_임신_경과_연수  6290 non-null   object \n",
      " 4   배란_자극_여부               6290 non-null   int64  \n",
      " 5   남성_주_불임_원인             6290 non-null   int64  \n",
      " 6   남성_부_불임_원인             6290 non-null   int64  \n",
      " 7   여성_주_불임_원인             6290 non-null   int64  \n",
      " 8   여성_부_불임_원인             6290 non-null   int64  \n",
      " 9   부부_주_불임_원인             6290 non-null   int64  \n",
      " 10  부부_부_불임_원인             6290 non-null   int64  \n",
      " 11  불명확_불임_원인              6290 non-null   int64  \n",
      " 12  불임_원인_-_난관_질환          6290 non-null   int64  \n",
      " 13  불임_원인_-_남성_요인          6290 non-null   int64  \n",
      " 14  불임_원인_-_배란_장애          6290 non-null   int64  \n",
      " 15  불임_원인_-_자궁내막증          6290 non-null   int64  \n",
      " 16  불임_원인_-_정자_농도          6290 non-null   int64  \n",
      " 17  총_시술_횟수                6290 non-null   int64  \n",
      " 18  클리닉_내_총_시술_횟수          6290 non-null   int64  \n",
      " 19  IVF_시술_횟수              6290 non-null   int64  \n",
      " 20  DI_시술_횟수               6290 non-null   int64  \n",
      " 21  총_임신_횟수                6290 non-null   int64  \n",
      " 22  IVF_임신_횟수              6290 non-null   int64  \n",
      " 23  DI_임신_횟수               6290 non-null   int64  \n",
      " 24  총_출산_횟수                6290 non-null   int64  \n",
      " 25  IVF_출산_횟수              6290 non-null   int64  \n",
      " 26  DI_출산_횟수               6290 non-null   int64  \n",
      " 27  정자_기증자_나이              6290 non-null   object \n",
      " 28  임신_성공_여부               6290 non-null   int64  \n",
      " 29  변환된_특정_시술_유형           6290 non-null   object \n",
      " 30  IVF_임신_시술_비율           6290 non-null   float64\n",
      " 31  IVF_출산_임신_비율           6290 non-null   float64\n",
      " 32  DI_임신_시술_비율            6290 non-null   float64\n",
      " 33  DI_출산_임신_비율            6290 non-null   float64\n",
      " 34  임신_성공률                 6290 non-null   float64\n",
      " 35  출산_성공률                 6290 non-null   float64\n",
      "dtypes: float64(6), int64(24), object(6)\n",
      "memory usage: 1.7+ MB\n"
     ]
    }
   ],
   "source": [
    "DI_train.info()"
   ]
  },
  {
   "cell_type": "code",
   "execution_count": 9,
   "metadata": {},
   "outputs": [],
   "source": [
    "# ID 열을 제외한 특성과 타겟 변수 분리\n",
    "IVF_X = IVF_train.drop(['임신_성공_여부', 'ID'], axis=1)\n",
    "IVF_y = IVF_train['임신_성공_여부']\n",
    "\n",
    "DI_X = DI_train.drop(['임신_성공_여부', 'ID'], axis=1)\n",
    "DI_y = DI_train['임신_성공_여부']"
   ]
  },
  {
   "cell_type": "markdown",
   "metadata": {},
   "source": [
    "### 인코딩 "
   ]
  },
  {
   "cell_type": "code",
   "execution_count": 10,
   "metadata": {},
   "outputs": [],
   "source": [
    "IVF_categorical_columns = [\n",
    "    \"시술_시기_코드\",\n",
    "    \"시술_당시_나이\",\n",
    "    \"임신_시도_또는_마지막_임신_경과_연수\",\n",
    "    \"배란_유도_유형\",\n",
    "    \"배아_생성_주요_이유\",\n",
    "    \"난자_출처\",\n",
    "    \"정자_출처\",\n",
    "    \"난자_기증자_나이\",\n",
    "    \"정자_기증자_나이\",\n",
    "    \"변환된_특정_시술_유형\",\n",
    "    \"채취_해동_차이\",\n",
    "    \"해동_혼합_차이\",\n",
    "    \"혼합_이식_차이\",\n",
    "    \"이식_해동_차이\"\n",
    "]"
   ]
  },
  {
   "cell_type": "code",
   "execution_count": 11,
   "metadata": {},
   "outputs": [],
   "source": [
    "DI_categorical_columns = [\n",
    "    \"시술_시기_코드\",\n",
    "    \"시술_당시_나이\",\n",
    "    \"임신_시도_또는_마지막_임신_경과_연수\",\n",
    "    \"정자_기증자_나이\",\n",
    "    \"변환된_특정_시술_유형\"\n",
    "]"
   ]
  },
  {
   "cell_type": "code",
   "execution_count": 12,
   "metadata": {},
   "outputs": [],
   "source": [
    "# 모든 범주형 변수를 문자열로 변환\n",
    "IVF_X[IVF_categorical_columns] = IVF_X[IVF_categorical_columns].astype(str)\n",
    "DI_X[DI_categorical_columns] = DI_X[DI_categorical_columns].astype(str)\n",
    "IVF_test[IVF_categorical_columns] = IVF_test[IVF_categorical_columns].astype(str)\n",
    "DI_test[DI_categorical_columns] = DI_test[DI_categorical_columns].astype(str)\n",
    "\n",
    "# OrdinalEncoder를 사용하여 범주형 변수 인코딩\n",
    "IVF_encoder = OrdinalEncoder(handle_unknown='use_encoded_value', unknown_value=-1)\n",
    "DI_encoder = OrdinalEncoder(handle_unknown='use_encoded_value', unknown_value=-1)\n",
    "\n",
    "IVF_X[IVF_categorical_columns] = IVF_encoder.fit_transform(IVF_X[IVF_categorical_columns])\n",
    "DI_X[DI_categorical_columns] = DI_encoder.fit_transform(DI_X[DI_categorical_columns])\n",
    "IVF_test[IVF_categorical_columns] = IVF_encoder.transform(IVF_test[IVF_categorical_columns])\n",
    "DI_test[DI_categorical_columns] = DI_encoder.transform(DI_test[DI_categorical_columns])"
   ]
  },
  {
   "cell_type": "markdown",
   "metadata": {},
   "source": [
    "## Modeling"
   ]
  },
  {
   "cell_type": "code",
   "execution_count": 13,
   "metadata": {},
   "outputs": [],
   "source": [
    "# 데이터 분할\n",
    "IVF_X_train, IVF_X_test, IVF_y_train, IVF_y_test = train_test_split(IVF_X, IVF_y, test_size=0.2, random_state=42)\n",
    "DI_X_train, DI_X_test, DI_y_train, DI_y_test = train_test_split(DI_X, DI_y, test_size=0.2, random_state=42)"
   ]
  },
  {
   "cell_type": "markdown",
   "metadata": {},
   "source": [
    "### IVF 데이터"
   ]
  },
  {
   "cell_type": "code",
   "execution_count": 14,
   "metadata": {},
   "outputs": [
    {
     "name": "stdout",
     "output_type": "stream",
     "text": [
      "\n",
      "--- Model Performance ---\n",
      "Model Accuracy: 0.7457159424926516\n",
      "Model F1 Score: 0.19913092764027962\n",
      "Model AUC: 0.7402425476074648\n"
     ]
    },
    {
     "data": {
      "image/png": "[encoded data removed]",
      "text/plain": [
       "<Figure size 640x480 with 2 Axes>"
      ]
     },
     "metadata": {},
     "output_type": "display_data"
    }
   ],
   "source": [
    "# 모델 초기화\n",
    "IVF_model = lgb.LGBMClassifier(\n",
    "    n_estimators=4471,\n",
    "    num_leaves=13,\n",
    "    max_depth=279,\n",
    "    learning_rate=0.007075124517450591,\n",
    "    min_child_samples=26,\n",
    "    subsample=0.29772991936701476,\n",
    "    colsample_bytree=0.8913054521763838,\n",
    "    reg_alpha=0.0004860363321690653,\n",
    "    reg_lambda=311.08056657247363,\n",
    "    min_split_gain=0.18214905183450955,\n",
    "    random_state=42,\n",
    "    boosting_type='gbdt',\n",
    "    verbose=-1\n",
    ")\n",
    "\n",
    "# 모델 학습\n",
    "IVF_model.fit(IVF_X_train, IVF_y_train)\n",
    "\n",
    "# 예측\n",
    "y_pred = IVF_model.predict(IVF_X_test)\n",
    "y_pred_proba = IVF_model.predict_proba(IVF_X_test)[:, 1]\n",
    "\n",
    "# 평가\n",
    "accuracy = accuracy_score(IVF_y_test, y_pred)\n",
    "f1 = f1_score(IVF_y_test, y_pred)\n",
    "auc = roc_auc_score(IVF_y_test, y_pred_proba)\n",
    "cm = confusion_matrix(IVF_y_test, y_pred)\n",
    "\n",
    "# 결과 출력\n",
    "print()\n",
    "print(\"--- Model Performance ---\")\n",
    "print(f\"Model Accuracy: {accuracy}\")\n",
    "print(f\"Model F1 Score: {f1}\")\n",
    "print(f\"Model AUC: {auc}\")\n",
    "\n",
    "# 혼동 행렬 출력\n",
    "disp = ConfusionMatrixDisplay(confusion_matrix=cm, display_labels=IVF_model.classes_)\n",
    "disp.plot(cmap=plt.cm.Blues)\n",
    "plt.show()"
   ]
  },
  {
   "cell_type": "markdown",
   "metadata": {},
   "source": [
    "### DI 데이터"
   ]
  },
  {
   "cell_type": "code",
   "execution_count": 15,
   "metadata": {},
   "outputs": [
    {
     "name": "stdout",
     "output_type": "stream",
     "text": [
      "\n",
      "--- Model Performance ---\n",
      "Model Accuracy: 0.8664546899841018\n",
      "Model F1 Score: 0.0\n",
      "Model AUC: 0.7021788990825688\n"
     ]
    },
    {
     "data": {
      "image/png": "[encoded data removed]",
      "text/plain": [
       "<Figure size 640x480 with 2 Axes>"
      ]
     },
     "metadata": {},
     "output_type": "display_data"
    }
   ],
   "source": [
    "# 모델 초기화\n",
    "DI_model = lgb.LGBMClassifier(\n",
    "    n_estimators=1816,\n",
    "    num_leaves=3926,\n",
    "    max_depth=259,\n",
    "    learning_rate=0.00238377640011148,\n",
    "    min_child_samples=1,\n",
    "    subsample=0.7610056627240331,\n",
    "    colsample_bytree=0.6655579164853634,\n",
    "    reg_alpha=0.00025227758337188327,\n",
    "    reg_lambda=76.744107215122684,\n",
    "    min_split_gain=0.007773520329665474,\n",
    "    random_state=42,\n",
    "    boosting_type='gbdt',\n",
    "    verbose=-1\n",
    ")\n",
    "\n",
    "# 모델 학습\n",
    "DI_model.fit(DI_X_train, DI_y_train)\n",
    "\n",
    "# 예측\n",
    "y_pred = DI_model.predict(DI_X_test)\n",
    "y_pred_proba = DI_model.predict_proba(DI_X_test)[:, 1]\n",
    "\n",
    "# 평가\n",
    "accuracy = accuracy_score(DI_y_test, y_pred)\n",
    "f1 = f1_score(DI_y_test, y_pred)\n",
    "auc = roc_auc_score(DI_y_test, y_pred_proba)\n",
    "cm = confusion_matrix(DI_y_test, y_pred)\n",
    "\n",
    "# 결과 출력\n",
    "print()\n",
    "print(\"--- Model Performance ---\")\n",
    "print(f\"Model Accuracy: {accuracy}\")\n",
    "print(f\"Model F1 Score: {f1}\")\n",
    "print(f\"Model AUC: {auc}\")\n",
    "\n",
    "# 혼동 행렬 출력\n",
    "disp = ConfusionMatrixDisplay(confusion_matrix=cm, display_labels=DI_model.classes_)\n",
    "disp.plot(cmap=plt.cm.Blues)\n",
    "plt.show()"
   ]
  },
  {
   "cell_type": "code",
   "execution_count": 16,
   "metadata": {},
   "outputs": [
    {
     "name": "stdout",
     "output_type": "stream",
     "text": [
      "\n",
      "--- Model Performance ---\n",
      "Model Accuracy: 0.7486785386880961\n",
      "Model F1 Score: 0.197046176855487\n",
      "Model AUC: 0.7418487547231275\n"
     ]
    },
    {
     "data": {
      "image/png": "[encoded data removed]",
      "text/plain": [
       "<Figure size 640x480 with 2 Axes>"
      ]
     },
     "metadata": {},
     "output_type": "display_data"
    }
   ],
   "source": [
    "# 예측\n",
    "IVF_y_pred = IVF_model.predict(IVF_X_test)\n",
    "IVF_y_pred_proba = IVF_model.predict_proba(IVF_X_test)[:, 1]\n",
    "\n",
    "DI_y_pred = DI_model.predict(DI_X_test)\n",
    "DI_y_pred_proba = DI_model.predict_proba(DI_X_test)[:, 1]\n",
    "\n",
    "# 예측 결과 병합\n",
    "y_test = pd.concat([IVF_y_test, DI_y_test])\n",
    "y_pred = pd.concat([pd.Series(IVF_y_pred, index=IVF_y_test.index), pd.Series(DI_y_pred, index=DI_y_test.index)])\n",
    "y_pred_proba = pd.concat([pd.Series(IVF_y_pred_proba, index=IVF_y_test.index), pd.Series(DI_y_pred_proba, index=DI_y_test.index)])\n",
    "\n",
    "# 평가\n",
    "accuracy = accuracy_score(y_test, y_pred)\n",
    "f1 = f1_score(y_test, y_pred)\n",
    "auc = roc_auc_score(y_test, y_pred_proba)\n",
    "cm = confusion_matrix(y_test, y_pred)\n",
    "\n",
    "# 결과 출력\n",
    "print()\n",
    "print(\"--- Model Performance ---\")\n",
    "print(f\"Model Accuracy: {accuracy}\")\n",
    "print(f\"Model F1 Score: {f1}\")\n",
    "print(f\"Model AUC: {auc}\")\n",
    "\n",
    "# 혼동 행렬 출력\n",
    "disp = ConfusionMatrixDisplay(confusion_matrix=cm, display_labels=IVF_model.classes_)\n",
    "disp.plot(cmap=plt.cm.Blues)\n",
    "plt.show()"
   ]
  },
  {
   "cell_type": "markdown",
   "metadata": {},
   "source": [
    "## 제출"
   ]
  },
  {
   "cell_type": "code",
   "execution_count": 17,
   "metadata": {},
   "outputs": [],
   "source": [
    "# 모델 학습 및 예측\n",
    "IVF_model.fit(IVF_X, IVF_y)\n",
    "IVF_pred_proba = IVF_model.predict_proba(IVF_test.drop('ID', axis=1))[:, 1]\n",
    "\n",
    "DI_model.fit(DI_X, DI_y)\n",
    "DI_pred_proba = DI_model.predict_proba(DI_test.drop('ID', axis=1))[:, 1]"
   ]
  },
  {
   "cell_type": "code",
   "execution_count": 18,
   "metadata": {},
   "outputs": [],
   "source": [
    "# 예측 결과 병합\n",
    "IVF_test['probability'] = IVF_pred_proba\n",
    "DI_test['probability'] = DI_pred_proba\n",
    "\n",
    "# 최종 제출 파일 생성\n",
    "submission = pd.concat([IVF_test[['ID', 'probability']], DI_test[['ID', 'probability']]], axis=0)\n",
    "submission = submission.sort_values(by='ID')  \n",
    "\n",
    "# 제출 파일 저장\n",
    "submission.to_csv('../submission/code24_submit.csv', index=False, encoding='utf-8')"
   ]
  },
  {
   "cell_type": "markdown",
   "metadata": {},
   "source": [
    "."
   ]
  }
 ],
 "metadata": {
  "kernelspec": {
   "display_name": "Python 3",
   "language": "python",
   "name": "python3"
  },
  "language_info": {
   "codemirror_mode": {
    "name": "ipython",
    "version": 3
   },
   "file_extension": ".py",
   "mimetype": "text/x-python",
   "name": "python",
   "nbconvert_exporter": "python",
   "pygments_lexer": "ipython3",
   "version": "3.11.8"
  }
 },
 "nbformat": 4,
 "nbformat_minor": 2
}
