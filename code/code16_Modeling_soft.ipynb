{
 "cells": [
  {
   "cell_type": "markdown",
   "metadata": {},
   "source": [
    "## 난임 환자 대상 임신 성공 여부 예측"
   ]
  },
  {
   "cell_type": "markdown",
   "metadata": {},
   "source": [
    "### LGAimers 6th 온라인 해커톤"
   ]
  },
  {
   "cell_type": "markdown",
   "metadata": {},
   "source": [
    "Import"
   ]
  },
  {
   "cell_type": "code",
   "execution_count": 9,
   "metadata": {},
   "outputs": [],
   "source": [
    "import pandas as pd\n",
    "import lightgbm as lgb\n",
    "from sklearn.preprocessing import OrdinalEncoder\n",
    "from sklearn.model_selection import train_test_split\n",
    "from sklearn.metrics import accuracy_score, f1_score, roc_auc_score, confusion_matrix, ConfusionMatrixDisplay\n",
    "import matplotlib.pyplot as plt\n",
    "from sklearn.linear_model import LogisticRegression"
   ]
  },
  {
   "cell_type": "markdown",
   "metadata": {},
   "source": [
    "### Data Load"
   ]
  },
  {
   "cell_type": "code",
   "execution_count": 10,
   "metadata": {},
   "outputs": [],
   "source": [
    "# 데이터 로드\n",
    "IVF_train = pd.read_csv('../data/IVF_train_dataset_16.csv')\n",
    "IVF_test = pd.read_csv('../data/IVF_test_dataset_16.csv')\n",
    "\n",
    "DI_train = pd.read_csv('../data/DI_train_dataset.csv')\n",
    "DI_test = pd.read_csv('../data/DI_test_dataset.csv')\n",
    "\n",
    "# Total_train = pd.read_csv('train_eda_code_14.csv')\n",
    "# Total_test = pd.read_csv('test_eda_code_14.csv')"
   ]
  },
  {
   "cell_type": "code",
   "execution_count": 11,
   "metadata": {},
   "outputs": [],
   "source": [
    "# ID 열을 제외한 특성과 타겟 변수 분리\n",
    "IVF_X = IVF_train.drop(['임신_성공_여부', 'ID'], axis=1)\n",
    "IVF_y = IVF_train['임신_성공_여부']\n",
    "\n",
    "DI_X = DI_train.drop(['임신_성공_여부', 'ID'], axis=1)\n",
    "DI_y = DI_train['임신_성공_여부']\n",
    "\n",
    "# Total_X = Total_train.drop(['임신_성공_여부', 'ID'], axis=1)\n",
    "# Total_y = Total_train['임신_성공_여부']"
   ]
  },
  {
   "cell_type": "markdown",
   "metadata": {},
   "source": [
    "### 인코딩 "
   ]
  },
  {
   "cell_type": "code",
   "execution_count": 12,
   "metadata": {},
   "outputs": [],
   "source": [
    "IVF_categorical_columns = [\n",
    "    \"시술_시기_코드\",\n",
    "    \"시술_당시_나이\",\n",
    "    \"임신_시도_또는_마지막_임신_경과_연수\",\n",
    "    \"배란_유도_유형\",\n",
    "    \"난자_출처\",\n",
    "    \"정자_출처\",\n",
    "    \"난자_기증자_나이\",\n",
    "    \"정자_기증자_나이\",\n",
    "    \"난자_채취_경과일\",\n",
    "    \"난자_해동_경과일\",\n",
    "    \"난자_혼합_경과일\",\n",
    "    \"배아_이식_경과일\",\n",
    "    \"배아_해동_경과일\",\n",
    "    \"변환된_특정_시술_유형\"\n",
    "]\n"
   ]
  },
  {
   "cell_type": "code",
   "execution_count": 13,
   "metadata": {},
   "outputs": [],
   "source": [
    "DI_categorical_columns = [\n",
    "    \"시술_시기_코드\",\n",
    "    \"시술_당시_나이\",\n",
    "    \"임신_시도_또는_마지막_임신_경과_연수\",\n",
    "    \"정자_기증자_나이\",\n",
    "    \"변환된_특정_시술_유형\"\n",
    "]"
   ]
  },
  {
   "cell_type": "code",
   "execution_count": 14,
   "metadata": {},
   "outputs": [],
   "source": [
    "# 모든 범주형 변수를 문자열로 변환\n",
    "IVF_X[IVF_categorical_columns] = IVF_X[IVF_categorical_columns].astype(str)\n",
    "DI_X[DI_categorical_columns] = DI_X[DI_categorical_columns].astype(str)\n",
    "IVF_test[IVF_categorical_columns] = IVF_test[IVF_categorical_columns].astype(str)\n",
    "DI_test[DI_categorical_columns] = DI_test[DI_categorical_columns].astype(str)\n",
    "\n",
    "# OrdinalEncoder를 사용하여 범주형 변수 인코딩\n",
    "IVF_encoder = OrdinalEncoder(handle_unknown='use_encoded_value', unknown_value=-1)\n",
    "DI_encoder = OrdinalEncoder(handle_unknown='use_encoded_value', unknown_value=-1)\n",
    "\n",
    "IVF_X[IVF_categorical_columns] = IVF_encoder.fit_transform(IVF_X[IVF_categorical_columns])\n",
    "DI_X[DI_categorical_columns] = DI_encoder.fit_transform(DI_X[DI_categorical_columns])\n",
    "IVF_test[IVF_categorical_columns] = IVF_encoder.transform(IVF_test[IVF_categorical_columns])\n",
    "DI_test[DI_categorical_columns] = DI_encoder.transform(DI_test[DI_categorical_columns])"
   ]
  },
  {
   "cell_type": "markdown",
   "metadata": {},
   "source": [
    "## Modeling"
   ]
  },
  {
   "cell_type": "code",
   "execution_count": 15,
   "metadata": {},
   "outputs": [],
   "source": [
    "# 데이터 분할\n",
    "IVF_X_train, IVF_X_test, IVF_y_train, IVF_y_test = train_test_split(IVF_X, IVF_y, test_size=0.2, random_state=42)\n",
    "DI_X_train, DI_X_test, DI_y_train, DI_y_test = train_test_split(DI_X, DI_y, test_size=0.2, random_state=42)"
   ]
  },
  {
   "cell_type": "markdown",
   "metadata": {},
   "source": [
    "Best trial:  \n",
    "  Value: 0.7265399737876802  \n",
    "  Params:   \n",
    "    iterations: 2746  \n",
    "    depth: 6  \n",
    "    learning_rate: 0.02714910886494123  \n",
    "    l2_leaf_reg: 0.9438940902410613  \n",
    "    bagging_temperature: 0.05474176562660327  \n",
    "    random_strength: 6.694445412295597  \n",
    "    scale_pos_weight: 3.5493379241640897  \n",
    "    border_count: 183  "
   ]
  },
  {
   "cell_type": "markdown",
   "metadata": {},
   "source": [
    "---"
   ]
  },
  {
   "cell_type": "markdown",
   "metadata": {},
   "source": [
    "### IVF 데이터"
   ]
  },
  {
   "cell_type": "code",
   "execution_count": 16,
   "metadata": {},
   "outputs": [
    {
     "name": "stdout",
     "output_type": "stream",
     "text": [
      "\n",
      "--- Model Performance ---\n",
      "Model Accuracy: 0.7071244326248225\n",
      "Model F1 Score: 0.4802895362452542\n",
      "Model AUC: 0.7408998919840405\n"
     ]
    },
    {
     "data": {
      "image/png": "[encoded data removed]",
      "text/plain": [
       "<Figure size 640x480 with 2 Axes>"
      ]
     },
     "metadata": {},
     "output_type": "display_data"
    }
   ],
   "source": [
    "from catboost import CatBoostClassifier\n",
    "import lightgbm as lgb\n",
    "from sklearn.metrics import accuracy_score, f1_score, roc_auc_score, confusion_matrix, ConfusionMatrixDisplay\n",
    "import matplotlib.pyplot as plt\n",
    "\n",
    "# 첫 번째 모델 초기화 (CatBoost)\n",
    "IVF_model_catboost = CatBoostClassifier(\n",
    "    iterations=1695,\n",
    "    depth=4,\n",
    "    learning_rate=0.05409861221944563,\n",
    "    l2_leaf_reg=2.8407951389685064,\n",
    "    bagging_temperature=0.3683084175511176,\n",
    "    random_strength=1.1750568527543825,\n",
    "    scale_pos_weight=3.3095659416645313,\n",
    "    border_count=92,\n",
    "    logging_level='Silent',\n",
    "    random_state=42\n",
    ")\n",
    "\n",
    "# 두 번째 모델 초기화 (LightGBM)\n",
    "IVF_model_lgb = lgb.LGBMClassifier(\n",
    "    n_estimators=1258,\n",
    "    num_leaves=923,\n",
    "    max_depth=5,\n",
    "    learning_rate=0.024413717866391526,\n",
    "    min_child_samples=105,\n",
    "    subsample=0.4890106069104924,\n",
    "    colsample_bytree=0.4494069713807123,\n",
    "    reg_alpha=3.0197481977859035,\n",
    "    reg_lambda=0.4793565720612017,\n",
    "    min_split_gain=0.29685405151668676,\n",
    "    random_state=42,\n",
    "    boosting_type='gbdt',\n",
    "    verbose=-1\n",
    ")\n",
    "\n",
    "# 모델 학습\n",
    "IVF_model_catboost.fit(IVF_X_train, IVF_y_train, eval_set=[(IVF_X_test, IVF_y_test)], verbose=False)\n",
    "IVF_model_lgb.fit(IVF_X_train, IVF_y_train)\n",
    "\n",
    "# 예측 확률 계산\n",
    "y_pred_proba_catboost = IVF_model_catboost.predict_proba(IVF_X_test)[:, 1]\n",
    "y_pred_proba_lgb = IVF_model_lgb.predict_proba(IVF_X_test)[:, 1]\n",
    "\n",
    "# 소프트 보팅\n",
    "y_pred_proba_combined = (y_pred_proba_catboost + y_pred_proba_lgb) / 2\n",
    "y_pred_combined = (y_pred_proba_combined >= 0.5).astype(int)\n",
    "\n",
    "# 평가\n",
    "accuracy = accuracy_score(IVF_y_test, y_pred_combined)\n",
    "f1 = f1_score(IVF_y_test, y_pred_combined)\n",
    "auc = roc_auc_score(IVF_y_test, y_pred_proba_combined)\n",
    "cm = confusion_matrix(IVF_y_test, y_pred_combined)\n",
    "\n",
    "# 결과 출력\n",
    "print()\n",
    "print(\"--- Model Performance ---\")\n",
    "print(f\"Model Accuracy: {accuracy}\")\n",
    "print(f\"Model F1 Score: {f1}\")\n",
    "print(f\"Model AUC: {auc}\")\n",
    "\n",
    "# 혼동 행렬 출력\n",
    "disp = ConfusionMatrixDisplay(confusion_matrix=cm, display_labels=IVF_model_catboost.classes_)\n",
    "disp.plot(cmap=plt.cm.Blues)\n",
    "plt.show()"
   ]
  },
  {
   "cell_type": "markdown",
   "metadata": {},
   "source": [
    "### DI 데이터"
   ]
  },
  {
   "cell_type": "code",
   "execution_count": 17,
   "metadata": {},
   "outputs": [
    {
     "name": "stdout",
     "output_type": "stream",
     "text": [
      "\n",
      "--- Model Performance ---\n",
      "Model Accuracy: 0.8664546899841018\n",
      "Model F1 Score: 0.0\n",
      "Model AUC: 0.7278560506771516\n"
     ]
    },
    {
     "data": {
      "image/png": "[encoded data removed]",
      "text/plain": [
       "<Figure size 640x480 with 2 Axes>"
      ]
     },
     "metadata": {},
     "output_type": "display_data"
    }
   ],
   "source": [
    "from catboost import CatBoostClassifier\n",
    "import lightgbm as lgb\n",
    "from sklearn.metrics import accuracy_score, f1_score, roc_auc_score, confusion_matrix, ConfusionMatrixDisplay\n",
    "import matplotlib.pyplot as plt\n",
    "\n",
    "# 첫 번째 모델 초기화 (LightGBM)\n",
    "DI_model_lgb = lgb.LGBMClassifier(\n",
    "    n_estimators=2443,\n",
    "    num_leaves=280,\n",
    "    max_depth=149,\n",
    "    learning_rate=0.061743249432816755,\n",
    "    min_child_samples=176,\n",
    "    subsample=0.9103802819067428,\n",
    "    colsample_bytree=0.6636673663468106,\n",
    "    reg_alpha=0.01173260476029451,\n",
    "    reg_lambda=59.000778013447324,\n",
    "    min_split_gain=1.1755604684312402,\n",
    "    random_state=42,\n",
    "    boosting_type='gbdt',\n",
    "    verbose=-1\n",
    ")\n",
    "\n",
    "# 두 번째 모델 초기화 (CatBoost)\n",
    "DI_model_catboost = CatBoostClassifier(\n",
    "    iterations=2746,\n",
    "    depth=6,\n",
    "    learning_rate=0.02714910886494123,\n",
    "    l2_leaf_reg=0.9438940902410613,\n",
    "    bagging_temperature=0.05474176562660327,\n",
    "    random_strength=6.694445412295597,\n",
    "    scale_pos_weight=3.5493379241640897,\n",
    "    border_count=183,\n",
    "    logging_level='Silent',\n",
    "    random_state=42\n",
    ")\n",
    "\n",
    "# 모델 학습\n",
    "DI_model_lgb.fit(DI_X_train, DI_y_train)\n",
    "DI_model_catboost.fit(DI_X_train, DI_y_train, eval_set=[(DI_X_test, DI_y_test)], verbose=False)\n",
    "\n",
    "# 예측 확률 계산\n",
    "y_pred_proba_lgb = DI_model_lgb.predict_proba(DI_X_test)[:, 1]\n",
    "y_pred_proba_catboost = DI_model_catboost.predict_proba(DI_X_test)[:, 1]\n",
    "\n",
    "# 소프트 보팅\n",
    "y_pred_proba_combined = (y_pred_proba_lgb + y_pred_proba_catboost) / 2\n",
    "y_pred_combined = (y_pred_proba_combined >= 0.5).astype(int)\n",
    "\n",
    "# 평가\n",
    "accuracy = accuracy_score(DI_y_test, y_pred_combined)\n",
    "f1 = f1_score(DI_y_test, y_pred_combined)\n",
    "auc = roc_auc_score(DI_y_test, y_pred_proba_combined)\n",
    "cm = confusion_matrix(DI_y_test, y_pred_combined)\n",
    "\n",
    "# 결과 출력\n",
    "print()\n",
    "print(\"--- Model Performance ---\")\n",
    "print(f\"Model Accuracy: {accuracy}\")\n",
    "print(f\"Model F1 Score: {f1}\")\n",
    "print(f\"Model AUC: {auc}\")\n",
    "\n",
    "# 혼동 행렬 출력\n",
    "disp = ConfusionMatrixDisplay(confusion_matrix=cm, display_labels=DI_model_lgb.classes_)\n",
    "disp.plot(cmap=plt.cm.Blues)\n",
    "plt.show()"
   ]
  },
  {
   "cell_type": "code",
   "execution_count": 18,
   "metadata": {},
   "outputs": [
    {
     "name": "stdout",
     "output_type": "stream",
     "text": [
      "\n",
      "--- Model Performance ---\n",
      "Model Accuracy: 0.7110339581423473\n",
      "Model F1 Score: 0.4774434764205848\n",
      "Model AUC: 0.742664346400493\n"
     ]
    },
    {
     "data": {
      "image/png": "[encoded data removed]",
      "text/plain": [
       "<Figure size 640x480 with 2 Axes>"
      ]
     },
     "metadata": {},
     "output_type": "display_data"
    }
   ],
   "source": [
    "# 예측 확률 계산\n",
    "IVF_y_pred_proba_catboost = IVF_model_catboost.predict_proba(IVF_X_test)[:, 1]\n",
    "IVF_y_pred_proba_lgb = IVF_model_lgb.predict_proba(IVF_X_test)[:, 1]\n",
    "DI_y_pred_proba_lgb = DI_model_lgb.predict_proba(DI_X_test)[:, 1]\n",
    "DI_y_pred_proba_catboost = DI_model_catboost.predict_proba(DI_X_test)[:, 1]\n",
    "\n",
    "# 소프트 보팅\n",
    "IVF_y_pred_proba_combined = (IVF_y_pred_proba_catboost + IVF_y_pred_proba_lgb) / 2\n",
    "DI_y_pred_proba_combined = (DI_y_pred_proba_lgb + DI_y_pred_proba_catboost) / 2\n",
    "\n",
    "# 예측 결과 병합\n",
    "y_test = pd.concat([IVF_y_test, DI_y_test])\n",
    "y_pred_proba = pd.concat([pd.Series(IVF_y_pred_proba_combined, index=IVF_y_test.index), pd.Series(DI_y_pred_proba_combined, index=DI_y_test.index)])\n",
    "y_pred = (y_pred_proba >= 0.5).astype(int)\n",
    "\n",
    "# 평가\n",
    "accuracy = accuracy_score(y_test, y_pred)\n",
    "f1 = f1_score(y_test, y_pred)\n",
    "auc = roc_auc_score(y_test, y_pred_proba)\n",
    "cm = confusion_matrix(y_test, y_pred)\n",
    "\n",
    "# 결과 출력\n",
    "print()\n",
    "print(\"--- Model Performance ---\")\n",
    "print(f\"Model Accuracy: {accuracy}\")\n",
    "print(f\"Model F1 Score: {f1}\")\n",
    "print(f\"Model AUC: {auc}\")\n",
    "\n",
    "# 혼동 행렬 출력\n",
    "disp = ConfusionMatrixDisplay(confusion_matrix=cm, display_labels=[0, 1])\n",
    "disp.plot(cmap=plt.cm.Blues)\n",
    "plt.show()"
   ]
  },
  {
   "cell_type": "markdown",
   "metadata": {},
   "source": [
    "## 제출"
   ]
  },
  {
   "cell_type": "code",
   "execution_count": 19,
   "metadata": {},
   "outputs": [],
   "source": [
    "# # 모델 구축\n",
    "# IVF_model_catboost = CatBoostClassifier(\n",
    "#     iterations=1695,\n",
    "#     depth=4,\n",
    "#     learning_rate=0.05409861221944563,\n",
    "#     l2_leaf_reg=2.8407951389685064,\n",
    "#     bagging_temperature=0.3683084175511176,\n",
    "#     random_strength=1.1750568527543825,\n",
    "#     scale_pos_weight=3.3095659416645313,\n",
    "#     border_count=92,\n",
    "#     logging_level='Silent',\n",
    "#     random_state=42\n",
    "# )\n",
    "\n",
    "# IVF_model_lgb = lgb.LGBMClassifier(\n",
    "#     n_estimators=1258,\n",
    "#     num_leaves=923,\n",
    "#     max_depth=5,\n",
    "#     learning_rate=0.024413717866391526,\n",
    "#     min_child_samples=105,\n",
    "#     subsample=0.4890106069104924,\n",
    "#     colsample_bytree=0.4494069713807123,\n",
    "#     reg_alpha=3.0197481977859035,\n",
    "#     reg_lambda=0.4793565720612017,\n",
    "#     min_split_gain=0.29685405151668676,\n",
    "#     random_state=42,\n",
    "#     boosting_type='gbdt',\n",
    "#     verbose=-1\n",
    "# )\n",
    "\n",
    "# DI_model_catboost = CatBoostClassifier(\n",
    "#     iterations=2746,\n",
    "#     depth=6,\n",
    "#     learning_rate=0.02714910886494123,\n",
    "#     l2_leaf_reg=0.9438940902410613,\n",
    "#     bagging_temperature=0.05474176562660327,\n",
    "#     random_strength=6.694445412295597,\n",
    "#     scale_pos_weight=3.5493379241640897,\n",
    "#     border_count=183,\n",
    "#     logging_level='Silent',\n",
    "#     random_state=42\n",
    "# )\n",
    "\n",
    "# DI_model_lgb = lgb.LGBMClassifier(\n",
    "#     n_estimators=2443,\n",
    "#     num_leaves=280,\n",
    "#     max_depth=149,\n",
    "#     learning_rate=0.061743249432816755,\n",
    "#     min_child_samples=176,\n",
    "#     subsample=0.9103802819067428,\n",
    "#     colsample_bytree=0.6636673663468106,\n",
    "#     reg_alpha=0.01173260476029451,\n",
    "#     reg_lambda=59.000778013447324,\n",
    "#     min_split_gain=1.1755604684312402,\n",
    "#     random_state=42,\n",
    "#     boosting_type='gbdt',\n",
    "#     verbose=-1\n",
    "# )\n",
    "\n",
    "# 모델 학습 및 예측\n",
    "IVF_model_catboost.fit(IVF_X, IVF_y)\n",
    "IVF_model_lgb.fit(IVF_X, IVF_y)\n",
    "IVF_pred_proba_catboost = IVF_model_catboost.predict_proba(IVF_test.drop('ID', axis=1))[:, 1]\n",
    "IVF_pred_proba_lgb = IVF_model_lgb.predict_proba(IVF_test.drop('ID', axis=1))[:, 1]\n",
    "IVF_pred_proba = (IVF_pred_proba_catboost + IVF_pred_proba_lgb) / 2\n",
    "\n",
    "DI_model_catboost.fit(DI_X, DI_y)\n",
    "DI_model_lgb.fit(DI_X, DI_y)\n",
    "DI_pred_proba_catboost = DI_model_catboost.predict_proba(DI_test.drop('ID', axis=1))[:, 1]\n",
    "DI_pred_proba_lgb = DI_model_lgb.predict_proba(DI_test.drop('ID', axis=1))[:, 1]\n",
    "DI_pred_proba = (DI_pred_proba_catboost + DI_pred_proba_lgb) / 2"
   ]
  },
  {
   "cell_type": "code",
   "execution_count": 20,
   "metadata": {},
   "outputs": [],
   "source": [
    "# 예측 결과 병합\n",
    "IVF_test['probability'] = IVF_pred_proba\n",
    "DI_test['probability'] = DI_pred_proba\n",
    "\n",
    "# 최종 제출 파일 생성\n",
    "submission = pd.concat([IVF_test[['ID', 'probability']], DI_test[['ID', 'probability']]], axis=0)\n",
    "submission = submission.sort_values(by='ID')\n",
    "\n",
    "# 제출 파일 저장\n",
    "submission.to_csv('./code16_lgbmNcat.csv', index=False, encoding='utf-8')"
   ]
  },
  {
   "cell_type": "markdown",
   "metadata": {},
   "source": [
    "."
   ]
  }
 ],
 "metadata": {
  "kernelspec": {
   "display_name": "Python 3",
   "language": "python",
   "name": "python3"
  },
  "language_info": {
   "codemirror_mode": {
    "name": "ipython",
    "version": 3
   },
   "file_extension": ".py",
   "mimetype": "text/x-python",
   "name": "python",
   "nbconvert_exporter": "python",
   "pygments_lexer": "ipython3",
   "version": "3.7.8"
  }
 },
 "nbformat": 4,
 "nbformat_minor": 2
}
