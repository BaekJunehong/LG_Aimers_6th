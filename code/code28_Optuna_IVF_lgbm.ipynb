{
 "cells": [
  {
   "cell_type": "markdown",
   "metadata": {},
   "source": [
    "## 난임 환자 대상 임신 성공 여부 예측"
   ]
  },
  {
   "cell_type": "markdown",
   "metadata": {},
   "source": [
    "### LGAimers 6th 온라인 해커톤"
   ]
  },
  {
   "cell_type": "markdown",
   "metadata": {},
   "source": [
    "Import"
   ]
  },
  {
   "cell_type": "code",
   "execution_count": 1,
   "metadata": {},
   "outputs": [],
   "source": [
    "import pandas as pd\n",
    "import lightgbm as lgb\n",
    "from sklearn.preprocessing import OrdinalEncoder\n",
    "from sklearn.model_selection import train_test_split\n",
    "from sklearn.metrics import accuracy_score, f1_score, roc_auc_score, confusion_matrix, ConfusionMatrixDisplay\n",
    "import matplotlib.pyplot as plt"
   ]
  },
  {
   "cell_type": "markdown",
   "metadata": {},
   "source": [
    "### Data Load"
   ]
  },
  {
   "cell_type": "code",
   "execution_count": 2,
   "metadata": {},
   "outputs": [],
   "source": [
    "# 데이터 로드\n",
    "IVF_train = pd.read_csv('../data/IVF_train_dataset_28.csv')\n",
    "IVF_test = pd.read_csv('../data/IVF_test_dataset_28.csv')\n",
    "\n",
    "DI_train = pd.read_csv('../data/DI_train_dataset_28.csv')\n",
    "DI_test = pd.read_csv('../data/DI_test_dataset_28.csv')"
   ]
  },
  {
   "cell_type": "code",
   "execution_count": 3,
   "metadata": {},
   "outputs": [],
   "source": [
    "# ID 열을 제외한 특성과 타겟 변수 분리\n",
    "IVF_X = IVF_train.drop(['임신_성공_여부', 'ID'], axis=1)\n",
    "IVF_y = IVF_train['임신_성공_여부']\n",
    "\n",
    "DI_X = DI_train.drop(['임신_성공_여부', 'ID'], axis=1)\n",
    "DI_y = DI_train['임신_성공_여부']"
   ]
  },
  {
   "cell_type": "code",
   "execution_count": 4,
   "metadata": {},
   "outputs": [
    {
     "name": "stdout",
     "output_type": "stream",
     "text": [
      "IVF_X shape: (250052, 60)\n",
      "IVF_test shape: (87891, 60)\n",
      "DI_X shape: (6289, 31)\n",
      "DI_test shape: (2176, 31)\n"
     ]
    }
   ],
   "source": [
    "print(f\"IVF_X shape: {IVF_X.shape}\")\n",
    "print(f\"IVF_test shape: {IVF_test.drop('ID', axis=1).shape}\")\n",
    "print(f\"DI_X shape: {DI_X.shape}\")\n",
    "print(f\"DI_test shape: {DI_test.drop('ID', axis=1).shape}\")"
   ]
  },
  {
   "cell_type": "markdown",
   "metadata": {},
   "source": [
    "### 인코딩 "
   ]
  },
  {
   "cell_type": "code",
   "execution_count": 5,
   "metadata": {},
   "outputs": [],
   "source": [
    "IVF_categorical_columns = [\n",
    "    \"시술_시기_코드\",\n",
    "    \"시술_당시_나이\",\n",
    "    \"특정_시술_유형\",\n",
    "    \"배란_유도_유형\",\n",
    "    \"난자_출처\",\n",
    "    \"정자_출처\",\n",
    "    \"난자_기증자_나이\",\n",
    "    \"정자_기증자_나이\"\n",
    "]"
   ]
  },
  {
   "cell_type": "code",
   "execution_count": 6,
   "metadata": {},
   "outputs": [],
   "source": [
    "DI_categorical_columns = [\n",
    "    \"시술_시기_코드\",\n",
    "    \"시술_당시_나이\",\n",
    "    \"특정_시술_유형\",\n",
    "    \"정자_기증자_나이\"\n",
    "]"
   ]
  },
  {
   "cell_type": "code",
   "execution_count": 7,
   "metadata": {},
   "outputs": [],
   "source": [
    "# 모든 범주형 변수를 문자열로 변환\n",
    "IVF_X[IVF_categorical_columns] = IVF_X[IVF_categorical_columns].astype(str)\n",
    "DI_X[DI_categorical_columns] = DI_X[DI_categorical_columns].astype(str)\n",
    "IVF_test[IVF_categorical_columns] = IVF_test[IVF_categorical_columns].astype(str)\n",
    "DI_test[DI_categorical_columns] = DI_test[DI_categorical_columns].astype(str)\n",
    "\n",
    "# OrdinalEncoder를 사용하여 범주형 변수 인코딩\n",
    "IVF_encoder = OrdinalEncoder(handle_unknown='use_encoded_value', unknown_value=-1)\n",
    "DI_encoder = OrdinalEncoder(handle_unknown='use_encoded_value', unknown_value=-1)\n",
    "\n",
    "IVF_X[IVF_categorical_columns] = IVF_encoder.fit_transform(IVF_X[IVF_categorical_columns])\n",
    "DI_X[DI_categorical_columns] = DI_encoder.fit_transform(DI_X[DI_categorical_columns])\n",
    "IVF_test[IVF_categorical_columns] = IVF_encoder.transform(IVF_test[IVF_categorical_columns])\n",
    "DI_test[DI_categorical_columns] = DI_encoder.transform(DI_test[DI_categorical_columns])"
   ]
  },
  {
   "cell_type": "markdown",
   "metadata": {},
   "source": [
    "## Modeling"
   ]
  },
  {
   "cell_type": "code",
   "execution_count": 8,
   "metadata": {},
   "outputs": [],
   "source": [
    "# 데이터 분할\n",
    "IVF_X_train, IVF_X_test, IVF_y_train, IVF_y_test = train_test_split(IVF_X, IVF_y, test_size=0.2, random_state=42)\n",
    "DI_X_train, DI_X_test, DI_y_train, DI_y_test = train_test_split(DI_X, DI_y, test_size=0.2, random_state=42)"
   ]
  },
  {
   "cell_type": "markdown",
   "metadata": {},
   "source": [
    "### IVF 데이터"
   ]
  },
  {
   "cell_type": "code",
   "execution_count": null,
   "metadata": {},
   "outputs": [
    {
     "name": "stderr",
     "output_type": "stream",
     "text": [
      "[I 2025-02-13 14:13:59,260] A new study created in memory with name: no-name-ef7ea65a-b4ba-4560-b13e-95e0f45fc446\n",
      "[I 2025-02-13 14:16:31,551] Trial 0 finished with value: 0.7199471634341209 and parameters: {'n_estimators': 4426, 'max_depth': 118, 'learning_rate': 0.004227099568169079, 'num_leaves': 799, 'min_child_samples': 73, 'subsample': 0.8689426151433917, 'reg_alpha': 1.0331244795727095, 'reg_lambda': 6.97792563936559}. Best is trial 0 with value: 0.7199471634341209.\n",
      "[I 2025-02-13 14:17:38,804] Trial 1 finished with value: 0.7355066974881046 and parameters: {'n_estimators': 3645, 'max_depth': 124, 'learning_rate': 0.00145293663996384, 'num_leaves': 364, 'min_child_samples': 48, 'subsample': 0.778242285655243, 'reg_alpha': 0.26763406691926805, 'reg_lambda': 8.370253959803302}. Best is trial 1 with value: 0.7355066974881046.\n",
      "[I 2025-02-13 14:19:44,788] Trial 2 finished with value: 0.7059568274335698 and parameters: {'n_estimators': 3970, 'max_depth': 17, 'learning_rate': 0.010628852701831285, 'num_leaves': 1202, 'min_child_samples': 25, 'subsample': 0.9134310473977025, 'reg_alpha': 1.1347254175554087, 'reg_lambda': 0.012889068712932371}. Best is trial 1 with value: 0.7355066974881046.\n",
      "[I 2025-02-13 14:21:03,171] Trial 3 finished with value: 0.7263455350940953 and parameters: {'n_estimators': 4220, 'max_depth': 123, 'learning_rate': 0.004205352271057509, 'num_leaves': 419, 'min_child_samples': 46, 'subsample': 0.9303644510519017, 'reg_alpha': 0.019433854407482694, 'reg_lambda': 0.0016143249167764654}. Best is trial 1 with value: 0.7355066974881046.\n",
      "[I 2025-02-13 14:22:00,498] Trial 4 finished with value: 0.6990270881866801 and parameters: {'n_estimators': 4959, 'max_depth': 33, 'learning_rate': 0.03543994196809962, 'num_leaves': 266, 'min_child_samples': 42, 'subsample': 0.7188533437663644, 'reg_alpha': 0.004975489542448351, 'reg_lambda': 0.24061487727912723}. Best is trial 1 with value: 0.7355066974881046.\n",
      "[I 2025-02-13 14:22:29,289] Trial 5 finished with value: 0.737125141194187 and parameters: {'n_estimators': 3462, 'max_depth': 12, 'learning_rate': 0.00327734076477359, 'num_leaves': 116, 'min_child_samples': 18, 'subsample': 0.7155196148882883, 'reg_alpha': 1.856929177868391, 'reg_lambda': 0.003544451881185598}. Best is trial 5 with value: 0.737125141194187.\n",
      "[I 2025-02-13 14:23:22,059] Trial 6 finished with value: 0.6849431823140836 and parameters: {'n_estimators': 1036, 'max_depth': 265, 'learning_rate': 0.08283966779401371, 'num_leaves': 1446, 'min_child_samples': 70, 'subsample': 0.8180953946293938, 'reg_alpha': 0.03155497759373196, 'reg_lambda': 0.008067555098029271}. Best is trial 5 with value: 0.737125141194187.\n",
      "[I 2025-02-13 14:25:07,313] Trial 7 finished with value: 0.691544720218336 and parameters: {'n_estimators': 3219, 'max_depth': 69, 'learning_rate': 0.06492529801140515, 'num_leaves': 938, 'min_child_samples': 25, 'subsample': 0.6753372254000235, 'reg_alpha': 0.0036944663532752563, 'reg_lambda': 7.963996742676778}. Best is trial 5 with value: 0.737125141194187.\n",
      "[I 2025-02-13 14:26:54,454] Trial 8 finished with value: 0.6854380191689262 and parameters: {'n_estimators': 4008, 'max_depth': 41, 'learning_rate': 0.06721042843537177, 'num_leaves': 868, 'min_child_samples': 8, 'subsample': 0.7672480697237405, 'reg_alpha': 0.1365625055057543, 'reg_lambda': 0.5675437592253203}. Best is trial 5 with value: 0.737125141194187.\n",
      "[I 2025-02-13 14:27:20,414] Trial 9 finished with value: 0.7340129391391551 and parameters: {'n_estimators': 892, 'max_depth': 208, 'learning_rate': 0.0033149132753568537, 'num_leaves': 793, 'min_child_samples': 68, 'subsample': 0.9424677669180072, 'reg_alpha': 2.5900475177010542, 'reg_lambda': 0.134737060049934}. Best is trial 5 with value: 0.737125141194187.\n",
      "[I 2025-02-13 14:28:00,955] Trial 10 finished with value: 0.7366419167920564 and parameters: {'n_estimators': 2284, 'max_depth': 193, 'learning_rate': 0.0010018653532656006, 'num_leaves': 1828, 'min_child_samples': 91, 'subsample': 0.6542934355228517, 'reg_alpha': 9.414645396990705, 'reg_lambda': 0.0011807817483559552}. Best is trial 5 with value: 0.737125141194187.\n",
      "[I 2025-02-13 14:28:35,663] Trial 11 finished with value: 0.7366954668717969 and parameters: {'n_estimators': 2128, 'max_depth': 199, 'learning_rate': 0.0011240665966090256, 'num_leaves': 1997, 'min_child_samples': 94, 'subsample': 0.6173168238671439, 'reg_alpha': 8.606850710319614, 'reg_lambda': 0.001181688484963721}. Best is trial 5 with value: 0.737125141194187.\n",
      "[I 2025-02-13 14:29:22,491] Trial 12 finished with value: 0.7366592065366723 and parameters: {'n_estimators': 2200, 'max_depth': 252, 'learning_rate': 0.0019759426452927433, 'num_leaves': 2002, 'min_child_samples': 99, 'subsample': 0.6029759868310408, 'reg_alpha': 6.728388785241339, 'reg_lambda': 0.00949992926227546}. Best is trial 5 with value: 0.737125141194187.\n",
      "[I 2025-02-13 14:29:32,858] Trial 13 finished with value: 0.7396360754412412 and parameters: {'n_estimators': 2685, 'max_depth': 197, 'learning_rate': 0.009992500608470215, 'num_leaves': 17, 'min_child_samples': 4, 'subsample': 0.6005766596118823, 'reg_alpha': 0.5952065427910538, 'reg_lambda': 0.0037108724249610273}. Best is trial 13 with value: 0.7396360754412412.\n",
      "[I 2025-02-13 14:29:47,756] Trial 14 finished with value: 0.7365938383354986 and parameters: {'n_estimators': 2986, 'max_depth': 82, 'learning_rate': 0.011806022711099758, 'num_leaves': 55, 'min_child_samples': 3, 'subsample': 0.7145680994479329, 'reg_alpha': 0.3846755114071045, 'reg_lambda': 0.03391857166416997}. Best is trial 13 with value: 0.7396360754412412.\n",
      "[I 2025-02-13 14:29:55,803] Trial 15 finished with value: 0.7386461292466007 and parameters: {'n_estimators': 1718, 'max_depth': 300, 'learning_rate': 0.01653309122881, 'num_leaves': 33, 'min_child_samples': 16, 'subsample': 0.9975450157702745, 'reg_alpha': 0.8896898777402116, 'reg_lambda': 0.004873442994218977}. Best is trial 13 with value: 0.7396360754412412.\n",
      "[I 2025-02-13 14:30:21,403] Trial 16 finished with value: 0.7178596029473676 and parameters: {'n_estimators': 1509, 'max_depth': 297, 'learning_rate': 0.022210778518646414, 'num_leaves': 447, 'min_child_samples': 34, 'subsample': 0.9923017267214389, 'reg_alpha': 0.4512068847721374, 'reg_lambda': 0.02808135145420464}. Best is trial 13 with value: 0.7396360754412412.\n",
      "[I 2025-02-13 14:30:55,170] Trial 17 finished with value: 0.7149946251350763 and parameters: {'n_estimators': 1738, 'max_depth': 169, 'learning_rate': 0.018858972727486555, 'num_leaves': 576, 'min_child_samples': 13, 'subsample': 0.8310624821244564, 'reg_alpha': 0.06047809246899453, 'reg_lambda': 0.04559137817926464}. Best is trial 13 with value: 0.7396360754412412.\n",
      "[I 2025-02-13 14:31:06,838] Trial 18 finished with value: 0.7398223789384005 and parameters: {'n_estimators': 2814, 'max_depth': 244, 'learning_rate': 0.006850295058863781, 'num_leaves': 24, 'min_child_samples': 2, 'subsample': 0.9851938647381172, 'reg_alpha': 0.0012856900858348812, 'reg_lambda': 0.003702943734266382}. Best is trial 18 with value: 0.7398223789384005.\n",
      "[I 2025-02-13 14:32:12,764] Trial 19 finished with value: 0.7256371420705487 and parameters: {'n_estimators': 2763, 'max_depth': 245, 'learning_rate': 0.006530653693340642, 'num_leaves': 631, 'min_child_samples': 2, 'subsample': 0.8725355569886626, 'reg_alpha': 0.0022934783473402194, 'reg_lambda': 1.203966277861788}. Best is trial 18 with value: 0.7398223789384005.\n",
      "[I 2025-02-13 14:34:07,787] Trial 20 finished with value: 0.7105925649099463 and parameters: {'n_estimators': 2553, 'max_depth': 228, 'learning_rate': 0.007287108346590598, 'num_leaves': 1301, 'min_child_samples': 33, 'subsample': 0.7571653696578949, 'reg_alpha': 0.0012290578322467322, 'reg_lambda': 0.0036579329711406657}. Best is trial 18 with value: 0.7398223789384005.\n",
      "[I 2025-02-13 14:34:13,130] Trial 21 finished with value: 0.7391083065349426 and parameters: {'n_estimators': 1626, 'max_depth': 293, 'learning_rate': 0.018045309800399874, 'num_leaves': 8, 'min_child_samples': 16, 'subsample': 0.9990274108030276, 'reg_alpha': 0.012277537983402188, 'reg_lambda': 0.0040407118956760244}. Best is trial 18 with value: 0.7398223789384005.\n",
      "[I 2025-02-13 14:34:25,828] Trial 22 finished with value: 0.7231327015262607 and parameters: {'n_estimators': 1464, 'max_depth': 275, 'learning_rate': 0.037445417898295676, 'num_leaves': 213, 'min_child_samples': 2, 'subsample': 0.963275996487243, 'reg_alpha': 0.011672370223301611, 'reg_lambda': 0.018189406355320688}. Best is trial 18 with value: 0.7398223789384005.\n",
      "[I 2025-02-13 14:34:33,040] Trial 23 finished with value: 0.7373865680627203 and parameters: {'n_estimators': 538, 'max_depth': 227, 'learning_rate': 0.0073011898335720435, 'num_leaves': 218, 'min_child_samples': 25, 'subsample': 0.9028696663946703, 'reg_alpha': 0.01074623758291801, 'reg_lambda': 0.0033980781003801024}. Best is trial 18 with value: 0.7398223789384005.\n",
      "[I 2025-02-13 14:34:44,285] Trial 24 finished with value: 0.7328485336688799 and parameters: {'n_estimators': 2597, 'max_depth': 165, 'learning_rate': 0.032089296221424646, 'num_leaves': 48, 'min_child_samples': 12, 'subsample': 0.9658585421012359, 'reg_alpha': 0.001038500250741611, 'reg_lambda': 0.0019720110964707356}. Best is trial 18 with value: 0.7398223789384005.\n",
      "[I 2025-02-13 14:35:40,453] Trial 25 finished with value: 0.7129746158611501 and parameters: {'n_estimators': 3042, 'max_depth': 278, 'learning_rate': 0.013248478945509136, 'num_leaves': 552, 'min_child_samples': 20, 'subsample': 0.8775510159528013, 'reg_alpha': 0.1107992321579763, 'reg_lambda': 0.006627606978915766}. Best is trial 18 with value: 0.7398223789384005.\n",
      "[I 2025-02-13 14:36:06,159] Trial 26 finished with value: 0.7328595698315715 and parameters: {'n_estimators': 2020, 'max_depth': 227, 'learning_rate': 0.005584186860921519, 'num_leaves': 279, 'min_child_samples': 35, 'subsample': 0.956210760812852, 'reg_alpha': 0.046330593109836456, 'reg_lambda': 0.04828199769001887}. Best is trial 18 with value: 0.7398223789384005.\n",
      "[I 2025-02-13 14:37:16,998] Trial 27 finished with value: 0.6973046846841263 and parameters: {'n_estimators': 1160, 'max_depth': 184, 'learning_rate': 0.02736989540190405, 'num_leaves': 1564, 'min_child_samples': 58, 'subsample': 0.8424935116563707, 'reg_alpha': 0.007084795926950925, 'reg_lambda': 0.08495320796755093}. Best is trial 18 with value: 0.7398223789384005.\n",
      "[I 2025-02-13 14:37:29,628] Trial 28 finished with value: 0.7387319964596417 and parameters: {'n_estimators': 3360, 'max_depth': 246, 'learning_rate': 0.014334446228658452, 'num_leaves': 17, 'min_child_samples': 8, 'subsample': 0.9990532066641613, 'reg_alpha': 0.0033635204181799655, 'reg_lambda': 0.017841444125949506}. Best is trial 18 with value: 0.7398223789384005.\n",
      "[I 2025-02-13 14:39:25,103] Trial 29 finished with value: 0.7089049142012318 and parameters: {'n_estimators': 2417, 'max_depth': 216, 'learning_rate': 0.008777689413491474, 'num_leaves': 1100, 'min_child_samples': 80, 'subsample': 0.8979912061730857, 'reg_alpha': 0.0018990836409696803, 'reg_lambda': 2.4162620673456043}. Best is trial 18 with value: 0.7398223789384005.\n",
      "[I 2025-02-13 14:39:53,065] Trial 30 finished with value: 0.7345927766840007 and parameters: {'n_estimators': 2907, 'max_depth': 282, 'learning_rate': 0.005343938782673529, 'num_leaves': 171, 'min_child_samples': 57, 'subsample': 0.6464838041681116, 'reg_alpha': 0.019468017232728712, 'reg_lambda': 0.002506229492978754}. Best is trial 18 with value: 0.7398223789384005.\n",
      "[I 2025-02-13 14:40:10,749] Trial 31 finished with value: 0.7346486444518667 and parameters: {'n_estimators': 3456, 'max_depth': 250, 'learning_rate': 0.015117258921257645, 'num_leaves': 59, 'min_child_samples': 9, 'subsample': 0.9963845402314087, 'reg_alpha': 0.00312925991076097, 'reg_lambda': 0.01437216589922429}. Best is trial 18 with value: 0.7398223789384005.\n",
      "[I 2025-02-13 14:40:58,535] Trial 32 finished with value: 0.7222793517265118 and parameters: {'n_estimators': 3759, 'max_depth': 149, 'learning_rate': 0.010010214544947042, 'num_leaves': 339, 'min_child_samples': 7, 'subsample': 0.9719641129144627, 'reg_alpha': 0.006254640828068663, 'reg_lambda': 0.006713382787858195}. Best is trial 18 with value: 0.7398223789384005.\n",
      "[I 2025-02-13 14:41:07,085] Trial 33 finished with value: 0.7391991160613107 and parameters: {'n_estimators': 3328, 'max_depth': 261, 'learning_rate': 0.02216890536416171, 'num_leaves': 4, 'min_child_samples': 21, 'subsample': 0.9238010440577409, 'reg_alpha': 0.0017633658378015168, 'reg_lambda': 0.0232432973604146}. Best is trial 18 with value: 0.7398223789384005.\n",
      "[I 2025-02-13 14:42:18,431] Trial 34 finished with value: 0.6965147539307177 and parameters: {'n_estimators': 4650, 'max_depth': 264, 'learning_rate': 0.02667102095775118, 'num_leaves': 468, 'min_child_samples': 19, 'subsample': 0.9345117165355268, 'reg_alpha': 0.001529895336741517, 'reg_lambda': 0.002110268187674405}. Best is trial 18 with value: 0.7398223789384005.\n",
      "[I 2025-02-13 14:43:27,734] Trial 35 finished with value: 0.6893921433596428 and parameters: {'n_estimators': 3198, 'max_depth': 146, 'learning_rate': 0.046222169177407686, 'num_leaves': 677, 'min_child_samples': 24, 'subsample': 0.9214402950932344, 'reg_alpha': 0.2301748954087939, 'reg_lambda': 0.011498863132296968}. Best is trial 18 with value: 0.7398223789384005.\n",
      "[I 2025-02-13 14:44:24,504] Trial 36 finished with value: 0.708278296940382 and parameters: {'n_estimators': 3874, 'max_depth': 290, 'learning_rate': 0.020212652353689783, 'num_leaves': 342, 'min_child_samples': 31, 'subsample': 0.7886124373677329, 'reg_alpha': 0.011840192067222824, 'reg_lambda': 0.005158580822680373}. Best is trial 18 with value: 0.7398223789384005.\n",
      "[I 2025-02-13 14:45:10,560] Trial 37 finished with value: 0.7361016031377772 and parameters: {'n_estimators': 4271, 'max_depth': 265, 'learning_rate': 0.0021182645998827666, 'num_leaves': 170, 'min_child_samples': 42, 'subsample': 0.9784851329711586, 'reg_alpha': 0.029796955436152087, 'reg_lambda': 0.07660983570390552}. Best is trial 18 with value: 0.7398223789384005.\n",
      "[I 2025-02-13 14:45:45,748] Trial 38 finished with value: 0.7337567594330179 and parameters: {'n_estimators': 3625, 'max_depth': 236, 'learning_rate': 0.004371257119793293, 'num_leaves': 179, 'min_child_samples': 14, 'subsample': 0.9483944659501818, 'reg_alpha': 0.0024521380509699067, 'reg_lambda': 0.18808076422226555}. Best is trial 18 with value: 0.7398223789384005.\n",
      "[I 2025-02-13 14:46:12,345] Trial 39 finished with value: 0.7298913912134697 and parameters: {'n_estimators': 1918, 'max_depth': 210, 'learning_rate': 0.0090470953911753, 'num_leaves': 349, 'min_child_samples': 2, 'subsample': 0.8988380261531828, 'reg_alpha': 0.0058040530922570666, 'reg_lambda': 0.0010349169745652706}. Best is trial 18 with value: 0.7398223789384005.\n",
      "[I 2025-02-13 14:46:32,828] Trial 40 finished with value: 0.7196512719167583 and parameters: {'n_estimators': 2730, 'max_depth': 257, 'learning_rate': 0.04904529118507292, 'num_leaves': 118, 'min_child_samples': 29, 'subsample': 0.7405057070694083, 'reg_alpha': 3.6082981560523084, 'reg_lambda': 0.024915387926917065}. Best is trial 18 with value: 0.7398223789384005.\n",
      "[I 2025-02-13 14:46:44,911] Trial 41 finished with value: 0.7388983427828332 and parameters: {'n_estimators': 3409, 'max_depth': 239, 'learning_rate': 0.01395244289096611, 'num_leaves': 18, 'min_child_samples': 7, 'subsample': 0.9857635279736288, 'reg_alpha': 0.0035148790129810184, 'reg_lambda': 0.016475360659728388}. Best is trial 18 with value: 0.7398223789384005.\n",
      "[I 2025-02-13 14:46:55,328] Trial 42 finished with value: 0.7391828014161133 and parameters: {'n_estimators': 3237, 'max_depth': 181, 'learning_rate': 0.010129112820806906, 'num_leaves': 9, 'min_child_samples': 7, 'subsample': 0.9782962381436688, 'reg_alpha': 0.003953055030512612, 'reg_lambda': 0.009173089067991988}. Best is trial 18 with value: 0.7398223789384005.\n",
      "[I 2025-02-13 14:47:44,022] Trial 43 finished with value: 0.7205825732937967 and parameters: {'n_estimators': 4090, 'max_depth': 108, 'learning_rate': 0.011041095254732044, 'num_leaves': 272, 'min_child_samples': 20, 'subsample': 0.9277429988882989, 'reg_alpha': 0.001751179613610063, 'reg_lambda': 0.0029346255387478664}. Best is trial 18 with value: 0.7398223789384005.\n",
      "[I 2025-02-13 14:48:04,534] Trial 44 finished with value: 0.7235204559696844 and parameters: {'n_estimators': 3126, 'max_depth': 190, 'learning_rate': 0.02397846758356612, 'num_leaves': 128, 'min_child_samples': 12, 'subsample': 0.9512871238958722, 'reg_alpha': 0.001014838811180507, 'reg_lambda': 0.004727180413730598}. Best is trial 18 with value: 0.7398223789384005.\n",
      "[I 2025-02-13 14:48:13,766] Trial 45 finished with value: 0.7344268396102438 and parameters: {'n_estimators': 2824, 'max_depth': 176, 'learning_rate': 0.0032887329943278895, 'num_leaves': 5, 'min_child_samples': 7, 'subsample': 0.8482611488910387, 'reg_alpha': 0.004862103620956225, 'reg_lambda': 0.009353724377946142}. Best is trial 18 with value: 0.7398223789384005.\n",
      "[I 2025-02-13 14:49:12,470] Trial 46 finished with value: 0.7082331166379848 and parameters: {'n_estimators': 3586, 'max_depth': 208, 'learning_rate': 0.01803701150541392, 'num_leaves': 445, 'min_child_samples': 17, 'subsample': 0.9725773262784226, 'reg_alpha': 1.0015709447467063, 'reg_lambda': 0.0015795182198956696}. Best is trial 18 with value: 0.7398223789384005.\n",
      "[I 2025-02-13 14:49:40,998] Trial 47 finished with value: 0.72919486015951 and parameters: {'n_estimators': 2434, 'max_depth': 133, 'learning_rate': 0.008684989062835621, 'num_leaves': 272, 'min_child_samples': 21, 'subsample': 0.8015426137014461, 'reg_alpha': 0.018262214005624854, 'reg_lambda': 0.007316123497106686}. Best is trial 18 with value: 0.7398223789384005.\n",
      "[I 2025-02-13 14:50:07,038] Trial 48 finished with value: 0.7360371630558575 and parameters: {'n_estimators': 3256, 'max_depth': 269, 'learning_rate': 0.0047904597167493235, 'num_leaves': 117, 'min_child_samples': 38, 'subsample': 0.6885347374055049, 'reg_alpha': 0.1999484760317438, 'reg_lambda': 0.3678339529635846}. Best is trial 18 with value: 0.7398223789384005.\n",
      "[I 2025-02-13 14:50:21,555] Trial 49 finished with value: 0.7350578385544555 and parameters: {'n_estimators': 2258, 'max_depth': 289, 'learning_rate': 0.012304504587573473, 'num_leaves': 98, 'min_child_samples': 1, 'subsample': 0.9123614328882577, 'reg_alpha': 0.45935088579788824, 'reg_lambda': 0.004327139006097122}. Best is trial 18 with value: 0.7398223789384005.\n",
      "[I 2025-02-13 14:50:43,949] Trial 50 finished with value: 0.7352631533582663 and parameters: {'n_estimators': 1267, 'max_depth': 107, 'learning_rate': 0.003636030762284132, 'num_leaves': 385, 'min_child_samples': 10, 'subsample': 0.936746199885774, 'reg_alpha': 0.009506884768356986, 'reg_lambda': 0.011512447772827507}. Best is trial 18 with value: 0.7398223789384005.\n",
      "[I 2025-02-13 14:50:57,385] Trial 51 finished with value: 0.736473929295111 and parameters: {'n_estimators': 3435, 'max_depth': 241, 'learning_rate': 0.01729191191113034, 'num_leaves': 32, 'min_child_samples': 6, 'subsample': 0.9877105115839235, 'reg_alpha': 0.0025718713098090403, 'reg_lambda': 0.02050959347243119}. Best is trial 18 with value: 0.7398223789384005.\n",
      "[I 2025-02-13 14:51:37,896] Trial 52 finished with value: 0.7276837494257249 and parameters: {'n_estimators': 3748, 'max_depth': 198, 'learning_rate': 0.007003310333339652, 'num_leaves': 242, 'min_child_samples': 15, 'subsample': 0.9814321451682387, 'reg_alpha': 0.0018025047929073799, 'reg_lambda': 0.03747605371189257}. Best is trial 18 with value: 0.7398223789384005.\n",
      "[I 2025-02-13 14:51:46,430] Trial 53 finished with value: 0.7378884759543531 and parameters: {'n_estimators': 3058, 'max_depth': 161, 'learning_rate': 0.01093140280933003, 'num_leaves': 4, 'min_child_samples': 5, 'subsample': 0.9600364426980126, 'reg_alpha': 0.004412306302165109, 'reg_lambda': 0.01312741647446518}. Best is trial 18 with value: 0.7398223789384005.\n",
      "[I 2025-02-13 14:52:05,611] Trial 54 finished with value: 0.7295098068316777 and parameters: {'n_estimators': 2637, 'max_depth': 217, 'learning_rate': 0.015046625810962475, 'num_leaves': 138, 'min_child_samples': 11, 'subsample': 0.9802883183306685, 'reg_alpha': 0.004105403067464931, 'reg_lambda': 0.0079668357996891}. Best is trial 18 with value: 0.7398223789384005.\n",
      "[I 2025-02-13 14:53:19,904] Trial 55 finished with value: 0.6999663010234551 and parameters: {'n_estimators': 3333, 'max_depth': 235, 'learning_rate': 0.022056327703342676, 'num_leaves': 763, 'min_child_samples': 4, 'subsample': 0.9550289997021225, 'reg_alpha': 0.008014634431739045, 'reg_lambda': 0.0014377504614961445}. Best is trial 18 with value: 0.7398223789384005.\n",
      "[I 2025-02-13 14:53:53,266] Trial 56 finished with value: 0.7362112433581636 and parameters: {'n_estimators': 2843, 'max_depth': 178, 'learning_rate': 0.0024977471944638324, 'num_leaves': 213, 'min_child_samples': 25, 'subsample': 0.8836253783336491, 'reg_alpha': 0.0014678656988579384, 'reg_lambda': 0.0028069198718093558}. Best is trial 18 with value: 0.7398223789384005.\n",
      "[I 2025-02-13 14:54:13,790] Trial 57 finished with value: 0.7348250779384228 and parameters: {'n_estimators': 3528, 'max_depth': 257, 'learning_rate': 0.008778293914396228, 'num_leaves': 78, 'min_child_samples': 16, 'subsample': 0.9997348321963201, 'reg_alpha': 0.06766980434473185, 'reg_lambda': 0.005633417320832291}. Best is trial 18 with value: 0.7398223789384005.\n",
      "[I 2025-02-13 14:57:19,468] Trial 58 finished with value: 0.7071129445587869 and parameters: {'n_estimators': 3883, 'max_depth': 221, 'learning_rate': 0.00594009061871821, 'num_leaves': 1586, 'min_child_samples': 10, 'subsample': 0.9392702121233447, 'reg_alpha': 0.0029875865131415206, 'reg_lambda': 0.06803821461320057}. Best is trial 18 with value: 0.7398223789384005.\n",
      "[I 2025-02-13 14:57:31,631] Trial 59 finished with value: 0.7339567404221288 and parameters: {'n_estimators': 856, 'max_depth': 274, 'learning_rate': 0.012164078492056637, 'num_leaves': 314, 'min_child_samples': 1, 'subsample': 0.8563930391676872, 'reg_alpha': 0.7044750735980045, 'reg_lambda': 0.025086498448692263}. Best is trial 18 with value: 0.7398223789384005.\n",
      "[I 2025-02-13 14:58:38,462] Trial 60 finished with value: 0.6986184922981888 and parameters: {'n_estimators': 1825, 'max_depth': 291, 'learning_rate': 0.03192773770804679, 'num_leaves': 997, 'min_child_samples': 28, 'subsample': 0.6379135084449519, 'reg_alpha': 1.4414167135878024, 'reg_lambda': 0.0036325451972632466}. Best is trial 18 with value: 0.7398223789384005.\n",
      "[I 2025-02-13 14:58:45,535] Trial 61 finished with value: 0.7309359012154049 and parameters: {'n_estimators': 3360, 'max_depth': 250, 'learning_rate': 0.015120655457145917, 'num_leaves': 2, 'min_child_samples': 6, 'subsample': 0.9894640601121307, 'reg_alpha': 0.003240457257981756, 'reg_lambda': 0.015983245546559725}. Best is trial 18 with value: 0.7398223789384005.\n",
      "[I 2025-02-13 14:59:01,573] Trial 62 finished with value: 0.7334792496880997 and parameters: {'n_estimators': 2934, 'max_depth': 243, 'learning_rate': 0.013367333288563857, 'num_leaves': 84, 'min_child_samples': 14, 'subsample': 0.9974578883129335, 'reg_alpha': 0.0013133999514898026, 'reg_lambda': 0.05010829076105042}. Best is trial 18 with value: 0.7398223789384005.\n",
      "[I 2025-02-13 14:59:27,681] Trial 63 finished with value: 0.732320710474391 and parameters: {'n_estimators': 3127, 'max_depth': 206, 'learning_rate': 0.007480216076690345, 'num_leaves': 173, 'min_child_samples': 10, 'subsample': 0.9673793723229512, 'reg_alpha': 0.0019846835484836605, 'reg_lambda': 0.019339106379833555}. Best is trial 18 with value: 0.7398223789384005.\n",
      "[I 2025-02-13 14:59:44,403] Trial 64 finished with value: 0.7339149510436198 and parameters: {'n_estimators': 3271, 'max_depth': 282, 'learning_rate': 0.014098538201098415, 'num_leaves': 75, 'min_child_samples': 8, 'subsample': 0.9834553029667871, 'reg_alpha': 0.016988491110844692, 'reg_lambda': 0.00920277999815979}. Best is trial 18 with value: 0.7398223789384005.\n",
      "[I 2025-02-13 15:00:47,581] Trial 65 finished with value: 0.7189215801745408 and parameters: {'n_estimators': 3725, 'max_depth': 230, 'learning_rate': 0.010007494138611767, 'num_leaves': 504, 'min_child_samples': 4, 'subsample': 0.6963614688990066, 'reg_alpha': 0.004088863070659063, 'reg_lambda': 0.002282909169328188}. Best is trial 18 with value: 0.7398223789384005.\n",
      "[I 2025-02-13 15:00:52,806] Trial 66 finished with value: 0.7308804865451272 and parameters: {'n_estimators': 2496, 'max_depth': 264, 'learning_rate': 0.019829159578933556, 'num_leaves': 2, 'min_child_samples': 18, 'subsample': 0.968961540277263, 'reg_alpha': 0.005873010674164278, 'reg_lambda': 0.010717570816265206}. Best is trial 18 with value: 0.7398223789384005.\n",
      "[I 2025-02-13 15:01:13,535] Trial 67 finished with value: 0.7200664471163162 and parameters: {'n_estimators': 2090, 'max_depth': 300, 'learning_rate': 0.0254250147611012, 'num_leaves': 218, 'min_child_samples': 54, 'subsample': 0.9229140044555704, 'reg_alpha': 0.002581348784516132, 'reg_lambda': 0.033553697657631804}. Best is trial 18 with value: 0.7398223789384005.\n",
      "[I 2025-02-13 15:01:54,098] Trial 68 finished with value: 0.7189597030121953 and parameters: {'n_estimators': 4639, 'max_depth': 198, 'learning_rate': 0.016916736526992337, 'num_leaves': 154, 'min_child_samples': 67, 'subsample': 0.949448200936333, 'reg_alpha': 0.0034465305793759437, 'reg_lambda': 0.006281095469184418}. Best is trial 18 with value: 0.7398223789384005.\n",
      "[I 2025-02-13 15:04:31,013] Trial 69 finished with value: 0.6773024995427056 and parameters: {'n_estimators': 2680, 'max_depth': 256, 'learning_rate': 0.09442343072282827, 'num_leaves': 1904, 'min_child_samples': 24, 'subsample': 0.9855947235761272, 'reg_alpha': 0.014697924237981703, 'reg_lambda': 0.12289683797520377}. Best is trial 18 with value: 0.7398223789384005.\n",
      "[I 2025-02-13 15:04:52,419] Trial 70 finished with value: 0.7362424141754449 and parameters: {'n_estimators': 3410, 'max_depth': 57, 'learning_rate': 0.0063265343578226005, 'num_leaves': 88, 'min_child_samples': 21, 'subsample': 0.9614052376624966, 'reg_alpha': 0.008441152932734397, 'reg_lambda': 0.004297317632405158}. Best is trial 18 with value: 0.7398223789384005.\n",
      "[I 2025-02-13 15:05:00,386] Trial 71 finished with value: 0.7334975040920977 and parameters: {'n_estimators': 1505, 'max_depth': 284, 'learning_rate': 0.030833442264415815, 'num_leaves': 71, 'min_child_samples': 13, 'subsample': 0.9965491281585869, 'reg_alpha': 0.6615423288973571, 'reg_lambda': 0.0018487282122736754}. Best is trial 18 with value: 0.7398223789384005.\n",
      "[I 2025-02-13 15:05:21,136] Trial 72 finished with value: 0.7259186889776207 and parameters: {'n_estimators': 2325, 'max_depth': 297, 'learning_rate': 0.022250052420847686, 'num_leaves': 178, 'min_child_samples': 7, 'subsample': 0.9754622316134738, 'reg_alpha': 2.5127034816656875, 'reg_lambda': 0.0032545666258844423}. Best is trial 18 with value: 0.7398223789384005.\n",
      "[I 2025-02-13 15:05:28,072] Trial 73 finished with value: 0.738285872815582 and parameters: {'n_estimators': 1371, 'max_depth': 273, 'learning_rate': 0.016638649378345114, 'num_leaves': 41, 'min_child_samples': 17, 'subsample': 0.7410543974506731, 'reg_alpha': 0.36103951346989893, 'reg_lambda': 0.018107668676640584}. Best is trial 18 with value: 0.7398223789384005.\n"
     ]
    }
   ],
   "source": [
    "import optuna\n",
    "import lightgbm as lgb\n",
    "from sklearn.metrics import roc_auc_score\n",
    "\n",
    "# 목적 함수 정의\n",
    "def objective(trial):\n",
    "    param = {\n",
    "        'n_estimators': trial.suggest_int('n_estimators', 500, 5000),\n",
    "        'max_depth': trial.suggest_int('max_depth', 3, 300),\n",
    "        'learning_rate': trial.suggest_float('learning_rate', 1e-3, 1e-1, log=True),\n",
    "        'num_leaves': trial.suggest_int('num_leaves', 2, 2048),\n",
    "        'min_child_samples': trial.suggest_int('min_child_samples', 1, 100),\n",
    "        'subsample': trial.suggest_float('subsample', 0.6, 1.0),\n",
    "        'reg_alpha': trial.suggest_float('reg_alpha', 1e-3, 10.0, log=True),\n",
    "        'reg_lambda': trial.suggest_float('reg_lambda', 1e-3, 10.0, log=True),\n",
    "        'random_state': 42,\n",
    "        'objective': 'binary',\n",
    "        'metric': 'auc',\n",
    "        'verbose': -1   \n",
    "    }\n",
    "\n",
    "    model = lgb.LGBMClassifier(**param)\n",
    "    model.fit(IVF_X_train, IVF_y_train)\n",
    "    \n",
    "    y_pred_proba = model.predict_proba(IVF_X_test)[:, 1]\n",
    "    \n",
    "    auc = roc_auc_score(IVF_y_test, y_pred_proba)\n",
    "    return auc\n",
    "\n",
    "# Optuna 스터디 생성 및 최적화 실행\n",
    "study = optuna.create_study(direction='maximize')\n",
    "study.optimize(objective, n_trials=300)\n",
    "\n",
    "# 최적의 하이퍼파라미터 출력\n",
    "print(\"Best trial:\")\n",
    "trial = study.best_trial\n",
    "print(f\"  Value: {trial.value}\")\n",
    "print(\"  Params: \")\n",
    "for key, value in trial.params.items():\n",
    "    print(f\"    {key}: {value}\")"
   ]
  },
  {
   "cell_type": "code",
   "execution_count": null,
   "metadata": {},
   "outputs": [],
   "source": [
    "import optuna\n",
    "import lightgbm as lgb\n",
    "from sklearn.metrics import roc_auc_score\n",
    "\n",
    "# 목적 함수 정의\n",
    "def objective(trial):\n",
    "    param = {\n",
    "        'n_estimators': trial.suggest_int('n_estimators', 2000, 8000),\n",
    "        'max_depth': trial.suggest_int('max_depth', 3, 300),\n",
    "        'learning_rate': trial.suggest_float('learning_rate', 1e-5, 1e-1, log=True),\n",
    "        'num_leaves': trial.suggest_int('num_leaves', 2, 1024),\n",
    "        'min_child_samples': trial.suggest_int('min_child_samples', 1, 50),\n",
    "        'subsample': trial.suggest_float('subsample', 0.6, 1.0),\n",
    "        'reg_alpha': trial.suggest_float('reg_alpha', 1e-5, 5.0, log=True),\n",
    "        'reg_lambda': trial.suggest_float('reg_lambda', 1e-5, 5.0, log=True),\n",
    "        'scale_pos_weight': trial.suggest_float('scale_pos_weight', 1, 10),\n",
    "        'random_state': 42,\n",
    "        'objective': 'binary',\n",
    "        'metric': 'auc',\n",
    "        'verbose': -1,\n",
    "        'n_jobs': -1  \n",
    "    }\n",
    "\n",
    "    model = lgb.LGBMClassifier(**param)\n",
    "    model.fit(IVF_X_train, IVF_y_train)\n",
    "    \n",
    "    y_pred_proba = model.predict_proba(IVF_X_test)[:, 1]\n",
    "    \n",
    "    auc = roc_auc_score(IVF_y_test, y_pred_proba)\n",
    "    return auc\n",
    "\n",
    "# Optuna 스터디 생성 및 최적화 실행\n",
    "study = optuna.create_study(direction='maximize')\n",
    "study.optimize(objective, n_trials=800)\n",
    "\n",
    "# 최적의 하이퍼파라미터 출력\n",
    "print(\"Best trial:\")\n",
    "trial = study.best_trial\n",
    "print(f\"  Value: {trial.value}\")\n",
    "print(\"  Params: \")\n",
    "for key, value in trial.params.items():\n",
    "    print(f\"    {key}: {value}\")"
   ]
  },
  {
   "cell_type": "markdown",
   "metadata": {},
   "source": [
    "."
   ]
  }
 ],
 "metadata": {
  "kernelspec": {
   "display_name": "Python 3",
   "language": "python",
   "name": "python3"
  },
  "language_info": {
   "codemirror_mode": {
    "name": "ipython",
    "version": 3
   },
   "file_extension": ".py",
   "mimetype": "text/x-python",
   "name": "python",
   "nbconvert_exporter": "python",
   "pygments_lexer": "ipython3",
   "version": "3.7.8"
  }
 },
 "nbformat": 4,
 "nbformat_minor": 2
}
