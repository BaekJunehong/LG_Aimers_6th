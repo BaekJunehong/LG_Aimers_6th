{
 "cells": [
  {
   "cell_type": "markdown",
   "metadata": {},
   "source": [
    "## 난임 환자 대상 임신 성공 여부 예측"
   ]
  },
  {
   "cell_type": "markdown",
   "metadata": {},
   "source": [
    "### LGAimers 6th 온라인 해커톤"
   ]
  },
  {
   "cell_type": "markdown",
   "metadata": {},
   "source": [
    "Import"
   ]
  },
  {
   "cell_type": "code",
   "execution_count": 1,
   "metadata": {},
   "outputs": [],
   "source": [
    "import pandas as pd\n",
    "import optuna\n",
    "from sklearn.preprocessing import OrdinalEncoder\n",
    "from sklearn.model_selection import train_test_split\n",
    "from sklearn.metrics import accuracy_score, f1_score, roc_auc_score, confusion_matrix, ConfusionMatrixDisplay\n",
    "import matplotlib.pyplot as plt\n",
    "import lightgbm as lgb"
   ]
  },
  {
   "cell_type": "markdown",
   "metadata": {},
   "source": [
    "### Data Load"
   ]
  },
  {
   "cell_type": "code",
   "execution_count": 2,
   "metadata": {},
   "outputs": [],
   "source": [
    "# 데이터 로드\n",
    "Total_train = pd.read_csv('../data/Total_train_dataset_33.csv')\n",
    "Total_test = pd.read_csv('../data/Total_test_dataset_33.csv')"
   ]
  },
  {
   "cell_type": "code",
   "execution_count": 3,
   "metadata": {},
   "outputs": [],
   "source": [
    "# ID 열을 제외한 특성과 타겟 변수 분리\n",
    "Total_X = Total_train.drop(['임신_성공_여부', 'ID'], axis=1)\n",
    "Total_y = Total_train['임신_성공_여부']"
   ]
  },
  {
   "cell_type": "markdown",
   "metadata": {},
   "source": [
    "### 인코딩 "
   ]
  },
  {
   "cell_type": "code",
   "execution_count": 4,
   "metadata": {},
   "outputs": [],
   "source": [
    "Total_categorical_columns = [\n",
    "    \"시술_당시_나이\",\n",
    "    \"배란_유도_유형\",\n",
    "    \"난자_출처\",\n",
    "    \"정자_출처\",\n",
    "    \"난자_기증자_나이\",\n",
    "    \"정자_기증자_나이\"\n",
    "]"
   ]
  },
  {
   "cell_type": "code",
   "execution_count": 5,
   "metadata": {},
   "outputs": [],
   "source": [
    "# 모든 범주형 변수를 문자열로 변환\n",
    "Total_X[Total_categorical_columns] = Total_X[Total_categorical_columns].astype(str)\n",
    "Total_test[Total_categorical_columns] = Total_test[Total_categorical_columns].astype(str)\n",
    "\n",
    "# OrdinalEncoder를 사용하여 범주형 변수 인코딩\n",
    "Total_encoder = OrdinalEncoder(handle_unknown='use_encoded_value', unknown_value=-1)\n",
    "\n",
    "Total_X[Total_categorical_columns] = Total_encoder.fit_transform(Total_X[Total_categorical_columns])\n",
    "Total_test[Total_categorical_columns] = Total_encoder.transform(Total_test[Total_categorical_columns])"
   ]
  },
  {
   "cell_type": "markdown",
   "metadata": {},
   "source": [
    "## Modeling"
   ]
  },
  {
   "cell_type": "code",
   "execution_count": 6,
   "metadata": {},
   "outputs": [],
   "source": [
    "# 데이터 분할\n",
    "Total_X_train, Total_X_test, Total_y_train, Total_y_test = train_test_split(Total_X, Total_y, test_size=0.2, random_state=42)"
   ]
  },
  {
   "cell_type": "markdown",
   "metadata": {},
   "source": [
    "### Total 데이터"
   ]
  },
  {
   "cell_type": "markdown",
   "metadata": {},
   "source": [
    "optuna"
   ]
  },
  {
   "cell_type": "code",
   "execution_count": null,
   "metadata": {},
   "outputs": [
    {
     "name": "stderr",
     "output_type": "stream",
     "text": [
      "[I 2025-02-17 00:42:29,142] A new study created in memory with name: no-name-3cc72d97-f1b6-4500-8036-f22f010104c8\n",
      "[I 2025-02-17 00:42:53,203] Trial 0 finished with value: 0.7178154550635842 and parameters: {'n_estimators': 1931, 'num_leaves': 2035, 'learning_rate': 0.06798491346395485, 'min_child_samples': 52, 'reg_alpha': 6.049592394722953, 'reg_lambda': 7.914086467979773}. Best is trial 0 with value: 0.7178154550635842.\n",
      "[I 2025-02-17 00:44:41,723] Trial 1 finished with value: 0.6932855918955614 and parameters: {'n_estimators': 2630, 'num_leaves': 3327, 'learning_rate': 0.07853011761736381, 'min_child_samples': 309, 'reg_alpha': 1.3740355845706276, 'reg_lambda': 7.940918429667102}. Best is trial 0 with value: 0.7178154550635842.\n",
      "[I 2025-02-17 00:44:54,605] Trial 2 finished with value: 0.7189489578314743 and parameters: {'n_estimators': 1952, 'num_leaves': 1039, 'learning_rate': 0.17463321079921748, 'min_child_samples': 221, 'reg_alpha': 7.374133411258543, 'reg_lambda': 7.6744571902862315}. Best is trial 2 with value: 0.7189489578314743.\n",
      "[I 2025-02-17 00:45:12,935] Trial 3 finished with value: 0.7082651010140572 and parameters: {'n_estimators': 1873, 'num_leaves': 2263, 'learning_rate': 0.18497963157152403, 'min_child_samples': 30, 'reg_alpha': 5.46111746031439, 'reg_lambda': 6.948107157511643}. Best is trial 2 with value: 0.7189489578314743.\n",
      "[I 2025-02-17 00:45:26,367] Trial 4 finished with value: 0.727336839703904 and parameters: {'n_estimators': 1840, 'num_leaves': 2443, 'learning_rate': 0.08547528488455497, 'min_child_samples': 465, 'reg_alpha': 7.812913017438429, 'reg_lambda': 6.482176358133771}. Best is trial 4 with value: 0.727336839703904.\n",
      "[I 2025-02-17 00:45:49,468] Trial 5 finished with value: 0.7280072200142523 and parameters: {'n_estimators': 1031, 'num_leaves': 3427, 'learning_rate': 0.0331760137018935, 'min_child_samples': 128, 'reg_alpha': 8.615399667566745, 'reg_lambda': 0.7790885022159799}. Best is trial 5 with value: 0.7280072200142523.\n",
      "[I 2025-02-17 00:46:01,198] Trial 6 finished with value: 0.7170476622289802 and parameters: {'n_estimators': 1315, 'num_leaves': 3236, 'learning_rate': 0.1777746884524795, 'min_child_samples': 29, 'reg_alpha': 7.481262374412976, 'reg_lambda': 5.600726393256799}. Best is trial 5 with value: 0.7280072200142523.\n",
      "[I 2025-02-17 00:46:29,062] Trial 7 finished with value: 0.735121381287224 and parameters: {'n_estimators': 1251, 'num_leaves': 2889, 'learning_rate': 0.009622961809048342, 'min_child_samples': 368, 'reg_alpha': 7.8467096864540675, 'reg_lambda': 0.39782457913661196}. Best is trial 7 with value: 0.735121381287224.\n",
      "[I 2025-02-17 00:46:41,948] Trial 8 finished with value: 0.7276944057224829 and parameters: {'n_estimators': 2780, 'num_leaves': 1425, 'learning_rate': 0.10613674885314693, 'min_child_samples': 295, 'reg_alpha': 8.641522495344816, 'reg_lambda': 9.195398707671599}. Best is trial 7 with value: 0.735121381287224.\n",
      "[I 2025-02-17 00:47:16,708] Trial 9 finished with value: 0.700289406308578 and parameters: {'n_estimators': 1477, 'num_leaves': 3104, 'learning_rate': 0.13046819527532552, 'min_child_samples': 224, 'reg_alpha': 3.56671832904771, 'reg_lambda': 0.11117532321945678}. Best is trial 7 with value: 0.735121381287224.\n",
      "[I 2025-02-17 00:47:26,263] Trial 10 finished with value: 0.7362476098595485 and parameters: {'n_estimators': 626, 'num_leaves': 2642, 'learning_rate': 0.0030619716436321807, 'min_child_samples': 439, 'reg_alpha': 9.915797420396153, 'reg_lambda': 3.069075951068146}. Best is trial 10 with value: 0.7362476098595485.\n",
      "[I 2025-02-17 00:47:33,739] Trial 11 finished with value: 0.7333611702501333 and parameters: {'n_estimators': 519, 'num_leaves': 2747, 'learning_rate': 0.0008505752019062618, 'min_child_samples': 455, 'reg_alpha': 9.819523850187382, 'reg_lambda': 3.2026715721795314}. Best is trial 10 with value: 0.7362476098595485.\n",
      "[I 2025-02-17 00:47:43,504] Trial 12 finished with value: 0.7376014073114499 and parameters: {'n_estimators': 512, 'num_leaves': 2746, 'learning_rate': 0.010377345029388422, 'min_child_samples': 382, 'reg_alpha': 9.701225349706037, 'reg_lambda': 2.795285823845684}. Best is trial 12 with value: 0.7376014073114499.\n",
      "[I 2025-02-17 00:47:57,328] Trial 13 finished with value: 0.733149704111 and parameters: {'n_estimators': 573, 'num_leaves': 1881, 'learning_rate': 0.04414106797752449, 'min_child_samples': 398, 'reg_alpha': 9.914599665878919, 'reg_lambda': 3.3624740311205983}. Best is trial 12 with value: 0.7376014073114499.\n",
      "[I 2025-02-17 00:49:40,945] Trial 14 finished with value: 0.7143657588684216 and parameters: {'n_estimators': 3392, 'num_leaves': 2450, 'learning_rate': 0.034167509959422644, 'min_child_samples': 496, 'reg_alpha': 3.9456822214120617, 'reg_lambda': 3.1529107881252676}. Best is trial 12 with value: 0.7376014073114499.\n",
      "[I 2025-02-17 00:50:05,362] Trial 15 finished with value: 0.715970336948978 and parameters: {'n_estimators': 865, 'num_leaves': 2690, 'learning_rate': 0.05216011824088254, 'min_child_samples': 381, 'reg_alpha': 1.080925651519026, 'reg_lambda': 2.152459577826016}. Best is trial 12 with value: 0.7376014073114499.\n",
      "[I 2025-02-17 00:50:49,716] Trial 16 finished with value: 0.7351535728366834 and parameters: {'n_estimators': 853, 'num_leaves': 1840, 'learning_rate': 0.019237790040888852, 'min_child_samples': 428, 'reg_alpha': 9.913623214735454, 'reg_lambda': 4.628669774609839}. Best is trial 12 with value: 0.7376014073114499.\n",
      "[I 2025-02-17 00:51:12,802] Trial 17 finished with value: 0.7172282612994061 and parameters: {'n_estimators': 2362, 'num_leaves': 2936, 'learning_rate': 0.1265761062995632, 'min_child_samples': 326, 'reg_alpha': 6.391934190824972, 'reg_lambda': 1.661870616620147}. Best is trial 12 with value: 0.7376014073114499.\n",
      "[I 2025-02-17 00:51:53,760] Trial 18 finished with value: 0.7357359652337476 and parameters: {'n_estimators': 1541, 'num_leaves': 2532, 'learning_rate': 0.0019320643899248396, 'min_child_samples': 169, 'reg_alpha': 4.064295127617267, 'reg_lambda': 4.530134848113221}. Best is trial 12 with value: 0.7376014073114499.\n",
      "[I 2025-02-17 00:52:05,173] Trial 19 finished with value: 0.7293418816548367 and parameters: {'n_estimators': 784, 'num_leaves': 2200, 'learning_rate': 0.05909332174687643, 'min_child_samples': 341, 'reg_alpha': 8.843194993177711, 'reg_lambda': 1.8919054900892416}. Best is trial 12 with value: 0.7376014073114499.\n",
      "[I 2025-02-17 00:52:28,227] Trial 20 finished with value: 0.7282842723306131 and parameters: {'n_estimators': 1078, 'num_leaves': 1569, 'learning_rate': 0.02428114355241702, 'min_child_samples': 265, 'reg_alpha': 6.704314477538279, 'reg_lambda': 3.9808449171261264}. Best is trial 12 with value: 0.7376014073114499.\n",
      "[I 2025-02-17 00:52:58,865] Trial 21 finished with value: 0.7343123205778865 and parameters: {'n_estimators': 1522, 'num_leaves': 2561, 'learning_rate': 0.0003822589029959095, 'min_child_samples': 150, 'reg_alpha': 3.881987034185859, 'reg_lambda': 5.335080275079971}. Best is trial 12 with value: 0.7376014073114499.\n",
      "[I 2025-02-17 00:53:24,056] Trial 22 finished with value: 0.7249674998694128 and parameters: {'n_estimators': 512, 'num_leaves': 2997, 'learning_rate': 0.024909077133852743, 'min_child_samples': 160, 'reg_alpha': 2.013846737866629, 'reg_lambda': 4.3596532773956405}. Best is trial 12 with value: 0.7376014073114499.\n",
      "[I 2025-02-17 00:55:25,163] Trial 23 finished with value: 0.7130625334948844 and parameters: {'n_estimators': 1648, 'num_leaves': 2654, 'learning_rate': 0.015422879944776138, 'min_child_samples': 96, 'reg_alpha': 2.8197164333039155, 'reg_lambda': 2.5050974584122674}. Best is trial 12 with value: 0.7376014073114499.\n",
      "[I 2025-02-17 00:56:14,162] Trial 24 finished with value: 0.7139909497225155 and parameters: {'n_estimators': 2271, 'num_leaves': 2279, 'learning_rate': 0.04186159771590864, 'min_child_samples': 195, 'reg_alpha': 4.720404693992565, 'reg_lambda': 1.2538756546088576}. Best is trial 12 with value: 0.7376014073114499.\n",
      "[I 2025-02-17 00:56:56,099] Trial 25 finished with value: 0.7351721663174144 and parameters: {'n_estimators': 1039, 'num_leaves': 2836, 'learning_rate': 0.001281779662026425, 'min_child_samples': 412, 'reg_alpha': 0.307749842668934, 'reg_lambda': 3.7800149091369124}. Best is trial 12 with value: 0.7376014073114499.\n",
      "[I 2025-02-17 00:57:21,672] Trial 26 finished with value: 0.715458422650537 and parameters: {'n_estimators': 670, 'num_leaves': 3116, 'learning_rate': 0.14477870532473627, 'min_child_samples': 500, 'reg_alpha': 4.6065437030174525, 'reg_lambda': 2.4797947994140226}. Best is trial 12 with value: 0.7376014073114499.\n",
      "[I 2025-02-17 00:57:32,210] Trial 27 finished with value: 0.728522792307618 and parameters: {'n_estimators': 1240, 'num_leaves': 2486, 'learning_rate': 0.09818765315337445, 'min_child_samples': 268, 'reg_alpha': 9.109284482612422, 'reg_lambda': 5.011106424363036}. Best is trial 12 with value: 0.7376014073114499.\n",
      "[I 2025-02-17 00:59:01,835] Trial 28 finished with value: 0.6997785209455973 and parameters: {'n_estimators': 3182, 'num_leaves': 2098, 'learning_rate': 0.06319414266251418, 'min_child_samples': 353, 'reg_alpha': 2.7447027029581936, 'reg_lambda': 5.786940984843733}. Best is trial 12 with value: 0.7376014073114499.\n",
      "[I 2025-02-17 00:59:33,658] Trial 29 finished with value: 0.712465858398921 and parameters: {'n_estimators': 2248, 'num_leaves': 1953, 'learning_rate': 0.07367978215184237, 'min_child_samples': 80, 'reg_alpha': 5.5564789612836405, 'reg_lambda': 2.8250850846521667}. Best is trial 12 with value: 0.7376014073114499.\n",
      "[I 2025-02-17 00:59:51,192] Trial 30 finished with value: 0.7356998927865173 and parameters: {'n_estimators': 766, 'num_leaves': 2306, 'learning_rate': 0.014751822509612475, 'min_child_samples': 455, 'reg_alpha': 6.791833959476355, 'reg_lambda': 3.6736102935618904}. Best is trial 12 with value: 0.7376014073114499.\n",
      "[I 2025-02-17 01:00:07,329] Trial 31 finished with value: 0.7366144850572678 and parameters: {'n_estimators': 819, 'num_leaves': 2349, 'learning_rate': 0.013640523484153172, 'min_child_samples': 443, 'reg_alpha': 9.141354805220917, 'reg_lambda': 4.150286501232323}. Best is trial 12 with value: 0.7376014073114499.\n",
      "[I 2025-02-17 01:00:26,270] Trial 32 finished with value: 0.732079716713091 and parameters: {'n_estimators': 996, 'num_leaves': 2616, 'learning_rate': 0.03173908519423682, 'min_child_samples': 444, 'reg_alpha': 9.249411108792197, 'reg_lambda': 4.369978702369117}. Best is trial 12 with value: 0.7376014073114499.\n",
      "[I 2025-02-17 01:00:40,699] Trial 33 finished with value: 0.7373553285397094 and parameters: {'n_estimators': 681, 'num_leaves': 2403, 'learning_rate': 0.008626881821319881, 'min_child_samples': 391, 'reg_alpha': 8.465874120410303, 'reg_lambda': 6.159649217220999}. Best is trial 12 with value: 0.7376014073114499.\n",
      "[I 2025-02-17 01:00:54,296] Trial 34 finished with value: 0.7301292750133882 and parameters: {'n_estimators': 664, 'num_leaves': 2113, 'learning_rate': 0.050613622914096705, 'min_child_samples': 401, 'reg_alpha': 8.172281340173152, 'reg_lambda': 6.570302661214714}. Best is trial 12 with value: 0.7376014073114499.\n",
      "[I 2025-02-17 01:01:12,263] Trial 35 finished with value: 0.7355003280672151 and parameters: {'n_estimators': 868, 'num_leaves': 2336, 'learning_rate': 0.014519755911948679, 'min_child_samples': 302, 'reg_alpha': 9.405739743161213, 'reg_lambda': 7.32322501082393}. Best is trial 12 with value: 0.7376014073114499.\n",
      "[I 2025-02-17 01:01:19,911] Trial 36 finished with value: 0.7250217010847435 and parameters: {'n_estimators': 1173, 'num_leaves': 2772, 'learning_rate': 0.19777832150461944, 'min_child_samples': 482, 'reg_alpha': 8.384219392700045, 'reg_lambda': 8.14129941003236}. Best is trial 12 with value: 0.7376014073114499.\n",
      "[I 2025-02-17 01:01:33,501] Trial 37 finished with value: 0.7322722868604874 and parameters: {'n_estimators': 647, 'num_leaves': 1678, 'learning_rate': 0.035466499618468345, 'min_child_samples': 423, 'reg_alpha': 7.376436526905019, 'reg_lambda': 5.829396473615228}. Best is trial 12 with value: 0.7376014073114499.\n",
      "[I 2025-02-17 01:02:02,044] Trial 38 finished with value: 0.735073372591593 and parameters: {'n_estimators': 1356, 'num_leaves': 1075, 'learning_rate': 0.011067134779799821, 'min_child_samples': 381, 'reg_alpha': 9.397863742798156, 'reg_lambda': 6.142200685601635}. Best is trial 12 with value: 0.7376014073114499.\n",
      "[I 2025-02-17 01:02:32,581] Trial 39 finished with value: 0.7289736113241237 and parameters: {'n_estimators': 1719, 'num_leaves': 3286, 'learning_rate': 0.026813528971276125, 'min_child_samples': 361, 'reg_alpha': 8.219461770152103, 'reg_lambda': 1.316785688862097}. Best is trial 12 with value: 0.7376014073114499.\n",
      "[I 2025-02-17 01:02:45,882] Trial 40 finished with value: 0.7285157828091824 and parameters: {'n_estimators': 1003, 'num_leaves': 3067, 'learning_rate': 0.08555887794932161, 'min_child_samples': 436, 'reg_alpha': 8.878740959485746, 'reg_lambda': 8.316478737239223}. Best is trial 12 with value: 0.7376014073114499.\n",
      "[I 2025-02-17 01:04:23,445] Trial 41 finished with value: 0.7323434525745873 and parameters: {'n_estimators': 2010, 'num_leaves': 2516, 'learning_rate': 0.005920231650695681, 'min_child_samples': 213, 'reg_alpha': 5.696499945422891, 'reg_lambda': 4.70694829686002}. Best is trial 12 with value: 0.7376014073114499.\n",
      "[I 2025-02-17 01:04:33,984] Trial 42 finished with value: 0.7358225341315903 and parameters: {'n_estimators': 504, 'num_leaves': 2406, 'learning_rate': 0.020524106597441368, 'min_child_samples': 329, 'reg_alpha': 7.882272794143088, 'reg_lambda': 5.10173335218834}. Best is trial 12 with value: 0.7376014073114499.\n",
      "[I 2025-02-17 01:04:55,915] Trial 43 finished with value: 0.733939459841682 and parameters: {'n_estimators': 716, 'num_leaves': 2376, 'learning_rate': 0.020869053444130592, 'min_child_samples': 330, 'reg_alpha': 7.795301350691301, 'reg_lambda': 5.258721037011468}. Best is trial 12 with value: 0.7376014073114499.\n",
      "[I 2025-02-17 01:05:10,918] Trial 44 finished with value: 0.7345013362209655 and parameters: {'n_estimators': 507, 'num_leaves': 2211, 'learning_rate': 0.041642919696926135, 'min_child_samples': 475, 'reg_alpha': 9.490550060156473, 'reg_lambda': 6.924848091140982}. Best is trial 12 with value: 0.7376014073114499.\n",
      "[I 2025-02-17 01:05:39,011] Trial 45 finished with value: 0.7366997672882343 and parameters: {'n_estimators': 945, 'num_leaves': 2813, 'learning_rate': 0.010543383284256238, 'min_child_samples': 394, 'reg_alpha': 8.748927309994535, 'reg_lambda': 3.4987376086142605}. Best is trial 12 with value: 0.7376014073114499.\n",
      "[I 2025-02-17 01:06:05,828] Trial 46 finished with value: 0.7367397634226214 and parameters: {'n_estimators': 914, 'num_leaves': 2772, 'learning_rate': 0.010529632186528196, 'min_child_samples': 387, 'reg_alpha': 9.991960248114486, 'reg_lambda': 2.867892640813956}. Best is trial 12 with value: 0.7376014073114499.\n",
      "[I 2025-02-17 01:06:35,166] Trial 47 finished with value: 0.736658073509848 and parameters: {'n_estimators': 920, 'num_leaves': 3464, 'learning_rate': 0.010721756000383803, 'min_child_samples': 386, 'reg_alpha': 8.525924020919964, 'reg_lambda': 9.94073802197394}. Best is trial 12 with value: 0.7376014073114499.\n",
      "[I 2025-02-17 01:06:54,134] Trial 48 finished with value: 0.7265879538071585 and parameters: {'n_estimators': 923, 'num_leaves': 3462, 'learning_rate': 0.05203080987525748, 'min_child_samples': 385, 'reg_alpha': 7.023999376429007, 'reg_lambda': 9.896218674534614}. Best is trial 12 with value: 0.7376014073114499.\n",
      "[I 2025-02-17 01:07:03,817] Trial 49 finished with value: 0.7253898251354635 and parameters: {'n_estimators': 1403, 'num_leaves': 3192, 'learning_rate': 0.16166519102339594, 'min_child_samples': 280, 'reg_alpha': 8.471404048140428, 'reg_lambda': 8.874394411497594}. Best is trial 12 with value: 0.7376014073114499.\n",
      "[I 2025-02-17 01:07:23,400] Trial 50 finished with value: 0.73162372117602 and parameters: {'n_estimators': 1240, 'num_leaves': 3386, 'learning_rate': 0.03048971691288239, 'min_child_samples': 363, 'reg_alpha': 9.646748452378723, 'reg_lambda': 3.480048865758492}. Best is trial 12 with value: 0.7376014073114499.\n",
      "[I 2025-02-17 01:07:44,344] Trial 51 finished with value: 0.7353915395369803 and parameters: {'n_estimators': 1159, 'num_leaves': 2795, 'learning_rate': 0.012244760600643872, 'min_child_samples': 400, 'reg_alpha': 9.099019708899885, 'reg_lambda': 2.803005878921988}. Best is trial 12 with value: 0.7376014073114499.\n",
      "[I 2025-02-17 01:08:00,223] Trial 52 finished with value: 0.7314005755248002 and parameters: {'n_estimators': 780, 'num_leaves': 2890, 'learning_rate': 0.037740023920527235, 'min_child_samples': 418, 'reg_alpha': 8.775748796567274, 'reg_lambda': 3.9774717674395395}. Best is trial 12 with value: 0.7376014073114499.\n",
      "[I 2025-02-17 01:08:19,773] Trial 53 finished with value: 0.7329526062495374 and parameters: {'n_estimators': 913, 'num_leaves': 2692, 'learning_rate': 0.02046780668912157, 'min_child_samples': 376, 'reg_alpha': 7.656385843792304, 'reg_lambda': 2.8245861740861806}. Best is trial 12 with value: 0.7376014073114499.\n",
      "[I 2025-02-17 01:08:37,802] Trial 54 finished with value: 0.7371581530602915 and parameters: {'n_estimators': 1106, 'num_leaves': 3047, 'learning_rate': 0.00886252326255967, 'min_child_samples': 458, 'reg_alpha': 9.892284806556072, 'reg_lambda': 2.2722120889178576}. Best is trial 12 with value: 0.7376014073114499.\n",
      "[I 2025-02-17 01:08:59,751] Trial 55 finished with value: 0.7363420529994585 and parameters: {'n_estimators': 1153, 'num_leaves': 2992, 'learning_rate': 0.009123821287005358, 'min_child_samples': 347, 'reg_alpha': 9.591336560742194, 'reg_lambda': 0.7965805114508795}. Best is trial 12 with value: 0.7376014073114499.\n",
      "[I 2025-02-17 01:09:14,498] Trial 56 finished with value: 0.7331319594522687 and parameters: {'n_estimators': 957, 'num_leaves': 3220, 'learning_rate': 0.02932939634938234, 'min_child_samples': 464, 'reg_alpha': 9.980247749404665, 'reg_lambda': 2.176714253466741}. Best is trial 12 with value: 0.7376014073114499.\n",
      "[I 2025-02-17 01:10:04,993] Trial 57 finished with value: 0.7327458598791551 and parameters: {'n_estimators': 2703, 'num_leaves': 3373, 'learning_rate': 0.00742268548655008, 'min_child_samples': 308, 'reg_alpha': 8.73320578627187, 'reg_lambda': 1.557778408163817}. Best is trial 12 with value: 0.7376014073114499.\n",
      "[I 2025-02-17 01:10:16,027] Trial 58 finished with value: 0.731202084520548 and parameters: {'n_estimators': 618, 'num_leaves': 2931, 'learning_rate': 0.04460927762182604, 'min_child_samples': 404, 'reg_alpha': 8.147276257046562, 'reg_lambda': 2.1420990672613147}. Best is trial 12 with value: 0.7376014073114499.\n",
      "[I 2025-02-17 01:10:32,654] Trial 59 finished with value: 0.7376079202539911 and parameters: {'n_estimators': 1096, 'num_leaves': 3491, 'learning_rate': 0.005002835838020509, 'min_child_samples': 390, 'reg_alpha': 9.976641525686285, 'reg_lambda': 9.84363242365029}. Best is trial 59 with value: 0.7376079202539911.\n",
      "[I 2025-02-17 01:10:48,064] Trial 60 finished with value: 0.7365637089829955 and parameters: {'n_estimators': 1084, 'num_leaves': 3073, 'learning_rate': 0.002077213938461662, 'min_child_samples': 481, 'reg_alpha': 9.98306975971955, 'reg_lambda': 3.2763007648407947}. Best is trial 59 with value: 0.7376079202539911.\n",
      "[I 2025-02-17 01:11:02,373] Trial 61 finished with value: 0.7350720162675771 and parameters: {'n_estimators': 751, 'num_leaves': 2840, 'learning_rate': 0.02177693678351593, 'min_child_samples': 391, 'reg_alpha': 9.562935422542246, 'reg_lambda': 9.396095859720326}. Best is trial 59 with value: 0.7376079202539911.\n",
      "[I 2025-02-17 01:11:24,483] Trial 62 finished with value: 0.7370255577099868 and parameters: {'n_estimators': 1296, 'num_leaves': 3476, 'learning_rate': 0.007657085870489505, 'min_child_samples': 424, 'reg_alpha': 9.024273216689512, 'reg_lambda': 9.887552924266018}. Best is trial 59 with value: 0.7376079202539911.\n",
      "[I 2025-02-17 01:11:41,464] Trial 63 finished with value: 0.7342780631966905 and parameters: {'n_estimators': 1386, 'num_leaves': 3314, 'learning_rate': 0.0005299384725136729, 'min_child_samples': 423, 'reg_alpha': 8.981712862393964, 'reg_lambda': 8.529959427797307}. Best is trial 59 with value: 0.7376079202539911.\n",
      "[I 2025-02-17 01:12:01,795] Trial 64 finished with value: 0.7326460571199132 and parameters: {'n_estimators': 1307, 'num_leaves': 3151, 'learning_rate': 0.025908146321238577, 'min_child_samples': 461, 'reg_alpha': 9.662523183310288, 'reg_lambda': 9.482089730144471}. Best is trial 59 with value: 0.7376079202539911.\n",
      "[I 2025-02-17 01:12:10,194] Trial 65 finished with value: 0.7293219746394755 and parameters: {'n_estimators': 1092, 'num_leaves': 2726, 'learning_rate': 0.118111417145389, 'min_child_samples': 433, 'reg_alpha': 9.339456208261414, 'reg_lambda': 7.684284284735332}. Best is trial 59 with value: 0.7376079202539911.\n",
      "[I 2025-02-17 01:12:35,924] Trial 66 finished with value: 0.7332640273985174 and parameters: {'n_estimators': 1496, 'num_leaves': 3001, 'learning_rate': 0.017327260722593774, 'min_child_samples': 367, 'reg_alpha': 9.975512309585751, 'reg_lambda': 2.5946484067437257}. Best is trial 59 with value: 0.7376079202539911.\n",
      "[I 2025-02-17 01:13:07,389] Trial 67 finished with value: 0.7367131673316661 and parameters: {'n_estimators': 1668, 'num_leaves': 2577, 'learning_rate': 0.005978253223781048, 'min_child_samples': 412, 'reg_alpha': 9.093873544964808, 'reg_lambda': 0.8656565264390157}. Best is trial 59 with value: 0.7376079202539911.\n",
      "[I 2025-02-17 01:13:36,444] Trial 68 finished with value: 0.7367901444414027 and parameters: {'n_estimators': 1627, 'num_leaves': 2595, 'learning_rate': 0.006316282258555331, 'min_child_samples': 415, 'reg_alpha': 9.146407006824528, 'reg_lambda': 0.3299272514813938}. Best is trial 59 with value: 0.7376079202539911.\n",
      "[I 2025-02-17 01:13:55,390] Trial 69 finished with value: 0.7309901258059286 and parameters: {'n_estimators': 1868, 'num_leaves': 3275, 'learning_rate': 0.0363001952457363, 'min_child_samples': 352, 'reg_alpha': 9.718947155554421, 'reg_lambda': 8.793315978332537}. Best is trial 59 with value: 0.7376079202539911.\n",
      "[I 2025-02-17 01:14:22,014] Trial 70 finished with value: 0.7370289520028834 and parameters: {'n_estimators': 1566, 'num_leaves': 2451, 'learning_rate': 0.006161705813052771, 'min_child_samples': 448, 'reg_alpha': 9.169660328295015, 'reg_lambda': 0.6239723143260107}. Best is trial 59 with value: 0.7376079202539911.\n",
      "[I 2025-02-17 01:14:50,098] Trial 71 finished with value: 0.7329662431272435 and parameters: {'n_estimators': 1565, 'num_leaves': 2464, 'learning_rate': 0.01668372979203343, 'min_child_samples': 448, 'reg_alpha': 9.355675673603109, 'reg_lambda': 0.24596740525004535}. Best is trial 59 with value: 0.7376079202539911.\n",
      "[I 2025-02-17 01:15:23,518] Trial 72 finished with value: 0.7372365690875093 and parameters: {'n_estimators': 1752, 'num_leaves': 2579, 'learning_rate': 0.005537140233600973, 'min_child_samples': 485, 'reg_alpha': 9.144229411498202, 'reg_lambda': 0.5136140170701197}. Best is trial 59 with value: 0.7376079202539911.\n",
      "[I 2025-02-17 01:15:58,066] Trial 73 finished with value: 0.7369688597837566 and parameters: {'n_estimators': 1769, 'num_leaves': 2610, 'learning_rate': 0.005760034619248907, 'min_child_samples': 490, 'reg_alpha': 8.110909854397725, 'reg_lambda': 0.6081979269417921}. Best is trial 59 with value: 0.7376079202539911.\n",
      "[I 2025-02-17 01:16:32,799] Trial 74 finished with value: 0.7283657373503362 and parameters: {'n_estimators': 1783, 'num_leaves': 2640, 'learning_rate': 0.023990409724514404, 'min_child_samples': 494, 'reg_alpha': 7.099922197667792, 'reg_lambda': 0.013044164259223834}. Best is trial 59 with value: 0.7376079202539911.\n",
      "[I 2025-02-17 01:17:14,183] Trial 75 finished with value: 0.737085572311158 and parameters: {'n_estimators': 1982, 'num_leaves': 3492, 'learning_rate': 0.004824980892217945, 'min_child_samples': 489, 'reg_alpha': 8.15347947204689, 'reg_lambda': 0.594380731058473}. Best is trial 59 with value: 0.7376079202539911.\n",
      "[I 2025-02-17 01:17:40,865] Trial 76 finished with value: 0.7343348805351597 and parameters: {'n_estimators': 2023, 'num_leaves': 3366, 'learning_rate': 0.00029839940023846864, 'min_child_samples': 476, 'reg_alpha': 8.451601621874822, 'reg_lambda': 1.113817196453149}. Best is trial 59 with value: 0.7376079202539911.\n",
      "[I 2025-02-17 01:18:21,834] Trial 77 finished with value: 0.7314729363563932 and parameters: {'n_estimators': 2116, 'num_leaves': 3463, 'learning_rate': 0.016243874183400522, 'min_child_samples': 467, 'reg_alpha': 8.831913549573228, 'reg_lambda': 1.0017467386330896}. Best is trial 59 with value: 0.7376079202539911.\n",
      "[I 2025-02-17 01:18:57,805] Trial 78 finished with value: 0.7264082105244463 and parameters: {'n_estimators': 1443, 'num_leaves': 3498, 'learning_rate': 0.029217602877642055, 'min_child_samples': 453, 'reg_alpha': 6.060389860847691, 'reg_lambda': 1.4856788283554505}. Best is trial 59 with value: 0.7376079202539911.\n",
      "[I 2025-02-17 01:19:35,624] Trial 79 finished with value: 0.7296810372914511 and parameters: {'n_estimators': 1955, 'num_leaves': 3364, 'learning_rate': 0.017444454959454507, 'min_child_samples': 433, 'reg_alpha': 7.608906136484258, 'reg_lambda': 1.9187699268737954}. Best is trial 59 with value: 0.7376079202539911.\n",
      "[I 2025-02-17 01:20:23,744] Trial 80 finished with value: 0.7372141593906368 and parameters: {'n_estimators': 1288, 'num_leaves': 2248, 'learning_rate': 0.005145428347077616, 'min_child_samples': 450, 'reg_alpha': 7.984129679479893, 'reg_lambda': 0.5349841343333441}. Best is trial 59 with value: 0.7376079202539911.\n",
      "[I 2025-02-17 01:20:54,252] Trial 81 finished with value: 0.7371143407097631 and parameters: {'n_estimators': 1568, 'num_leaves': 2145, 'learning_rate': 0.0057456851677660115, 'min_child_samples': 469, 'reg_alpha': 8.583216241118219, 'reg_lambda': 0.6926063736239023}. Best is trial 59 with value: 0.7376079202539911.\n",
      "[I 2025-02-17 01:22:00,192] Trial 82 finished with value: 0.725793996755864 and parameters: {'n_estimators': 1596, 'num_leaves': 2130, 'learning_rate': 0.013305728571784246, 'min_child_samples': 10, 'reg_alpha': 8.041321713234034, 'reg_lambda': 0.46117668605751194}. Best is trial 59 with value: 0.7376079202539911.\n",
      "[I 2025-02-17 01:22:49,012] Trial 83 finished with value: 0.7366425429530501 and parameters: {'n_estimators': 2095, 'num_leaves': 2028, 'learning_rate': 0.005108381090441608, 'min_child_samples': 471, 'reg_alpha': 8.332923316286754, 'reg_lambda': 0.5840713556051975}. Best is trial 59 with value: 0.7376079202539911.\n",
      "[I 2025-02-17 01:23:24,498] Trial 84 finished with value: 0.7296583589170407 and parameters: {'n_estimators': 1700, 'num_leaves': 2231, 'learning_rate': 0.02456779439279785, 'min_child_samples': 447, 'reg_alpha': 8.601118883635241, 'reg_lambda': 1.2929498521811378}. Best is trial 59 with value: 0.7376079202539911.\n",
      "[I 2025-02-17 01:23:55,760] Trial 85 finished with value: 0.7334000140564128 and parameters: {'n_estimators': 1890, 'num_leaves': 2396, 'learning_rate': 0.01278039963116687, 'min_child_samples': 484, 'reg_alpha': 9.401555647520683, 'reg_lambda': 0.08950755966463886}. Best is trial 59 with value: 0.7376079202539911.\n",
      "[I 2025-02-17 01:24:21,689] Trial 86 finished with value: 0.7358918011910884 and parameters: {'n_estimators': 1801, 'num_leaves': 2281, 'learning_rate': 0.000759416598759834, 'min_child_samples': 500, 'reg_alpha': 7.134589270105094, 'reg_lambda': 0.7135669125850288}. Best is trial 59 with value: 0.7376079202539911.\n",
      "[I 2025-02-17 01:24:32,657] Trial 87 finished with value: 0.7301739013573466 and parameters: {'n_estimators': 2398, 'num_leaves': 2161, 'learning_rate': 0.08412644852057881, 'min_child_samples': 463, 'reg_alpha': 9.72615909505499, 'reg_lambda': 1.7106079871823918}. Best is trial 59 with value: 0.7376079202539911.\n",
      "[I 2025-02-17 01:25:40,775] Trial 88 finished with value: 0.7284176916253677 and parameters: {'n_estimators': 3004, 'num_leaves': 1967, 'learning_rate': 0.019981434163498974, 'min_child_samples': 237, 'reg_alpha': 7.870607083229598, 'reg_lambda': 1.1257514037520195}. Best is trial 59 with value: 0.7376079202539911.\n",
      "[I 2025-02-17 01:26:13,288] Trial 89 finished with value: 0.7364277472026499 and parameters: {'n_estimators': 1522, 'num_leaves': 2300, 'learning_rate': 0.006052927150234515, 'min_child_samples': 437, 'reg_alpha': 7.380361504878489, 'reg_lambda': 0.3508975402827603}. Best is trial 59 with value: 0.7376079202539911.\n",
      "[I 2025-02-17 01:26:22,383] Trial 90 finished with value: 0.7254252328545628 and parameters: {'n_estimators': 1446, 'num_leaves': 2427, 'learning_rate': 0.14908312507739768, 'min_child_samples': 455, 'reg_alpha': 8.624722117032734, 'reg_lambda': 0.8853492940680499}. Best is trial 59 with value: 0.7376079202539911.\n",
      "[I 2025-02-17 01:26:46,229] Trial 91 finished with value: 0.7354810539367213 and parameters: {'n_estimators': 1321, 'num_leaves': 2498, 'learning_rate': 0.010383599213596904, 'min_child_samples': 424, 'reg_alpha': 9.006673420914192, 'reg_lambda': 0.5166405354645311}. Best is trial 59 with value: 0.7376079202539911.\n",
      "[I 2025-02-17 01:27:11,080] Trial 92 finished with value: 0.7366241524731256 and parameters: {'n_estimators': 1265, 'num_leaves': 2067, 'learning_rate': 0.008502826774121652, 'min_child_samples': 405, 'reg_alpha': 8.946514211015806, 'reg_lambda': 9.7958482482035}. Best is trial 59 with value: 0.7376079202539911.\n",
      "[I 2025-02-17 01:27:32,742] Trial 93 finished with value: 0.737580788798164 and parameters: {'n_estimators': 1212, 'num_leaves': 3405, 'learning_rate': 0.004521135857531891, 'min_child_samples': 484, 'reg_alpha': 9.374319035254636, 'reg_lambda': 9.637158763432037}. Best is trial 59 with value: 0.7376079202539911.\n",
      "[I 2025-02-17 01:27:55,327] Trial 94 finished with value: 0.7351635646557907 and parameters: {'n_estimators': 1155, 'num_leaves': 3427, 'learning_rate': 0.015935588858467097, 'min_child_samples': 488, 'reg_alpha': 9.291608970332842, 'reg_lambda': 1.3399047351913165}. Best is trial 59 with value: 0.7376079202539911.\n",
      "[I 2025-02-17 01:28:07,598] Trial 95 finished with value: 0.7367712036700762 and parameters: {'n_estimators': 553, 'num_leaves': 1774, 'learning_rate': 0.004418341460669686, 'min_child_samples': 471, 'reg_alpha': 9.56616948400724, 'reg_lambda': 9.5923493808288}. Best is trial 59 with value: 0.7376079202539911.\n",
      "[I 2025-02-17 01:28:27,512] Trial 96 finished with value: 0.7338163199505106 and parameters: {'n_estimators': 1216, 'num_leaves': 3192, 'learning_rate': 0.021220473767754128, 'min_child_samples': 482, 'reg_alpha': 9.794275862566591, 'reg_lambda': 9.171369893809079}. Best is trial 59 with value: 0.7376079202539911.\n",
      "[I 2025-02-17 01:28:43,245] Trial 97 finished with value: 0.7371001545357572 and parameters: {'n_estimators': 830, 'num_leaves': 2545, 'learning_rate': 0.012762790023756484, 'min_child_samples': 499, 'reg_alpha': 9.249342365538865, 'reg_lambda': 1.8473392003066464}. Best is trial 59 with value: 0.7376079202539911.\n",
      "[I 2025-02-17 01:29:08,414] Trial 98 finished with value: 0.7369685721992807 and parameters: {'n_estimators': 823, 'num_leaves': 2697, 'learning_rate': 0.013101303025491947, 'min_child_samples': 496, 'reg_alpha': 8.336615325535275, 'reg_lambda': 1.8043266627360044}. Best is trial 59 with value: 0.7376079202539911.\n",
      "[I 2025-02-17 01:29:22,751] Trial 99 finished with value: 0.7281442793920958 and parameters: {'n_estimators': 1023, 'num_leaves': 3283, 'learning_rate': 0.09756921903809089, 'min_child_samples': 500, 'reg_alpha': 8.679851023688576, 'reg_lambda': 1.5427245638102904}. Best is trial 59 with value: 0.7376079202539911.\n",
      "[I 2025-02-17 01:29:36,912] Trial 100 finished with value: 0.7313839314488726 and parameters: {'n_estimators': 692, 'num_leaves': 2540, 'learning_rate': 0.03327795987075255, 'min_child_samples': 462, 'reg_alpha': 6.51033511293082, 'reg_lambda': 2.327769976754935}. Best is trial 59 with value: 0.7376079202539911.\n",
      "[I 2025-02-17 01:29:55,825] Trial 101 finished with value: 0.7371588436610743 and parameters: {'n_estimators': 1122, 'num_leaves': 2451, 'learning_rate': 0.0033146914758952306, 'min_child_samples': 472, 'reg_alpha': 9.32013861454351, 'reg_lambda': 1.0024434119278989}. Best is trial 59 with value: 0.7376079202539911.\n",
      "[I 2025-02-17 01:30:09,945] Trial 102 finished with value: 0.7340686977178638 and parameters: {'n_estimators': 1123, 'num_leaves': 2178, 'learning_rate': 0.00054155137382154, 'min_child_samples': 476, 'reg_alpha': 9.791817150171228, 'reg_lambda': 1.0666916662516506}. Best is trial 59 with value: 0.7376079202539911.\n",
      "[I 2025-02-17 01:30:25,651] Trial 103 finished with value: 0.7373829615269409 and parameters: {'n_estimators': 862, 'num_leaves': 2333, 'learning_rate': 0.010213546360913565, 'min_child_samples': 484, 'reg_alpha': 9.486026014949946, 'reg_lambda': 2.025434255736119}. Best is trial 59 with value: 0.7376079202539911.\n",
      "[I 2025-02-17 01:30:35,327] Trial 104 finished with value: 0.7374807054201601 and parameters: {'n_estimators': 590, 'num_leaves': 2373, 'learning_rate': 0.01057374252699787, 'min_child_samples': 442, 'reg_alpha': 9.494197040874806, 'reg_lambda': 2.005640648770704}. Best is trial 59 with value: 0.7376079202539911.\n",
      "[I 2025-02-17 01:30:46,927] Trial 105 finished with value: 0.7353118249016624 and parameters: {'n_estimators': 598, 'num_leaves': 2260, 'learning_rate': 0.027176136975129144, 'min_child_samples': 437, 'reg_alpha': 9.533290567138328, 'reg_lambda': 2.6024715477915588}. Best is trial 59 with value: 0.7376079202539911.\n",
      "[I 2025-02-17 01:31:02,512] Trial 106 finished with value: 0.7362433557985304 and parameters: {'n_estimators': 717, 'num_leaves': 2344, 'learning_rate': 0.01872771652736185, 'min_child_samples': 458, 'reg_alpha': 9.482209224629935, 'reg_lambda': 2.075340928721292}. Best is trial 59 with value: 0.7376079202539911.\n",
      "[I 2025-02-17 01:31:23,315] Trial 107 finished with value: 0.7370196507845589 and parameters: {'n_estimators': 1069, 'num_leaves': 2225, 'learning_rate': 0.010086750179560993, 'min_child_samples': 445, 'reg_alpha': 9.841006817752053, 'reg_lambda': 7.108861448576286}. Best is trial 59 with value: 0.7376079202539911.\n",
      "[W 2025-02-17 01:31:26,554] Trial 108 failed with parameters: {'n_estimators': 987, 'num_leaves': 2346, 'learning_rate': 0.02373210721827657, 'min_child_samples': 472, 'reg_alpha': 8.830286485256954, 'reg_lambda': 3.1106589893791563} because of the following error: KeyboardInterrupt().\n",
      "Traceback (most recent call last):\n",
      "  File \"c:\\Users\\juneh\\AppData\\Local\\Programs\\Python\\Python37\\lib\\site-packages\\optuna\\study\\_optimize.py\", line 196, in _run_trial\n",
      "    value_or_values = func(trial)\n",
      "  File \"C:\\Users\\juneh\\AppData\\Local\\Temp\\ipykernel_19224\\1991063681.py\", line 20, in objective\n",
      "    model.fit(Total_X_train, Total_y_train)\n",
      "  File \"c:\\Users\\juneh\\AppData\\Local\\Programs\\Python\\Python37\\lib\\site-packages\\lightgbm\\sklearn.py\", line 1298, in fit\n",
      "    init_model=init_model,\n",
      "  File \"c:\\Users\\juneh\\AppData\\Local\\Programs\\Python\\Python37\\lib\\site-packages\\lightgbm\\sklearn.py\", line 963, in fit\n",
      "    callbacks=callbacks,\n",
      "  File \"c:\\Users\\juneh\\AppData\\Local\\Programs\\Python\\Python37\\lib\\site-packages\\lightgbm\\engine.py\", line 307, in train\n",
      "    booster.update(fobj=fobj)\n",
      "  File \"c:\\Users\\juneh\\AppData\\Local\\Programs\\Python\\Python37\\lib\\site-packages\\lightgbm\\basic.py\", line 4138, in update\n",
      "    ctypes.byref(is_finished),\n",
      "KeyboardInterrupt\n",
      "[W 2025-02-17 01:31:26,564] Trial 108 failed with value None.\n"
     ]
    },
    {
     "ename": "KeyboardInterrupt",
     "evalue": "",
     "output_type": "error",
     "traceback": [
      "\u001b[1;31m---------------------------------------------------------------------------\u001b[0m",
      "\u001b[1;31mKeyboardInterrupt\u001b[0m                         Traceback (most recent call last)",
      "\u001b[1;32m~\\AppData\\Local\\Temp\\ipykernel_19224\\1991063681.py\u001b[0m in \u001b[0;36m<module>\u001b[1;34m\u001b[0m\n\u001b[0;32m     27\u001b[0m \u001b[1;31m# Optuna 스터디 생성 및 최적화 실행\u001b[0m\u001b[1;33m\u001b[0m\u001b[1;33m\u001b[0m\u001b[1;33m\u001b[0m\u001b[0m\n\u001b[0;32m     28\u001b[0m \u001b[0mstudy\u001b[0m \u001b[1;33m=\u001b[0m \u001b[0moptuna\u001b[0m\u001b[1;33m.\u001b[0m\u001b[0mcreate_study\u001b[0m\u001b[1;33m(\u001b[0m\u001b[0mdirection\u001b[0m\u001b[1;33m=\u001b[0m\u001b[1;34m'maximize'\u001b[0m\u001b[1;33m)\u001b[0m\u001b[1;33m\u001b[0m\u001b[1;33m\u001b[0m\u001b[0m\n\u001b[1;32m---> 29\u001b[1;33m \u001b[0mstudy\u001b[0m\u001b[1;33m.\u001b[0m\u001b[0moptimize\u001b[0m\u001b[1;33m(\u001b[0m\u001b[0mobjective\u001b[0m\u001b[1;33m,\u001b[0m \u001b[0mn_trials\u001b[0m\u001b[1;33m=\u001b[0m\u001b[1;36m500\u001b[0m\u001b[1;33m)\u001b[0m\u001b[1;33m\u001b[0m\u001b[1;33m\u001b[0m\u001b[0m\n\u001b[0m\u001b[0;32m     30\u001b[0m \u001b[1;33m\u001b[0m\u001b[0m\n\u001b[0;32m     31\u001b[0m \u001b[1;31m# 최적의 하이퍼파라미터 출력\u001b[0m\u001b[1;33m\u001b[0m\u001b[1;33m\u001b[0m\u001b[1;33m\u001b[0m\u001b[0m\n",
      "\u001b[1;32mc:\\Users\\juneh\\AppData\\Local\\Programs\\Python\\Python37\\lib\\site-packages\\optuna\\study\\study.py\u001b[0m in \u001b[0;36moptimize\u001b[1;34m(self, func, n_trials, timeout, n_jobs, catch, callbacks, gc_after_trial, show_progress_bar)\u001b[0m\n\u001b[0;32m    458\u001b[0m             \u001b[0mcallbacks\u001b[0m\u001b[1;33m=\u001b[0m\u001b[0mcallbacks\u001b[0m\u001b[1;33m,\u001b[0m\u001b[1;33m\u001b[0m\u001b[1;33m\u001b[0m\u001b[0m\n\u001b[0;32m    459\u001b[0m             \u001b[0mgc_after_trial\u001b[0m\u001b[1;33m=\u001b[0m\u001b[0mgc_after_trial\u001b[0m\u001b[1;33m,\u001b[0m\u001b[1;33m\u001b[0m\u001b[1;33m\u001b[0m\u001b[0m\n\u001b[1;32m--> 460\u001b[1;33m             \u001b[0mshow_progress_bar\u001b[0m\u001b[1;33m=\u001b[0m\u001b[0mshow_progress_bar\u001b[0m\u001b[1;33m,\u001b[0m\u001b[1;33m\u001b[0m\u001b[1;33m\u001b[0m\u001b[0m\n\u001b[0m\u001b[0;32m    461\u001b[0m         )\n\u001b[0;32m    462\u001b[0m \u001b[1;33m\u001b[0m\u001b[0m\n",
      "\u001b[1;32mc:\\Users\\juneh\\AppData\\Local\\Programs\\Python\\Python37\\lib\\site-packages\\optuna\\study\\_optimize.py\u001b[0m in \u001b[0;36m_optimize\u001b[1;34m(study, func, n_trials, timeout, n_jobs, catch, callbacks, gc_after_trial, show_progress_bar)\u001b[0m\n\u001b[0;32m     70\u001b[0m                 \u001b[0mreseed_sampler_rng\u001b[0m\u001b[1;33m=\u001b[0m\u001b[1;32mFalse\u001b[0m\u001b[1;33m,\u001b[0m\u001b[1;33m\u001b[0m\u001b[1;33m\u001b[0m\u001b[0m\n\u001b[0;32m     71\u001b[0m                 \u001b[0mtime_start\u001b[0m\u001b[1;33m=\u001b[0m\u001b[1;32mNone\u001b[0m\u001b[1;33m,\u001b[0m\u001b[1;33m\u001b[0m\u001b[1;33m\u001b[0m\u001b[0m\n\u001b[1;32m---> 72\u001b[1;33m                 \u001b[0mprogress_bar\u001b[0m\u001b[1;33m=\u001b[0m\u001b[0mprogress_bar\u001b[0m\u001b[1;33m,\u001b[0m\u001b[1;33m\u001b[0m\u001b[1;33m\u001b[0m\u001b[0m\n\u001b[0m\u001b[0;32m     73\u001b[0m             )\n\u001b[0;32m     74\u001b[0m         \u001b[1;32melse\u001b[0m\u001b[1;33m:\u001b[0m\u001b[1;33m\u001b[0m\u001b[1;33m\u001b[0m\u001b[0m\n",
      "\u001b[1;32mc:\\Users\\juneh\\AppData\\Local\\Programs\\Python\\Python37\\lib\\site-packages\\optuna\\study\\_optimize.py\u001b[0m in \u001b[0;36m_optimize_sequential\u001b[1;34m(study, func, n_trials, timeout, catch, callbacks, gc_after_trial, reseed_sampler_rng, time_start, progress_bar)\u001b[0m\n\u001b[0;32m    157\u001b[0m \u001b[1;33m\u001b[0m\u001b[0m\n\u001b[0;32m    158\u001b[0m         \u001b[1;32mtry\u001b[0m\u001b[1;33m:\u001b[0m\u001b[1;33m\u001b[0m\u001b[1;33m\u001b[0m\u001b[0m\n\u001b[1;32m--> 159\u001b[1;33m             \u001b[0mfrozen_trial\u001b[0m \u001b[1;33m=\u001b[0m \u001b[0m_run_trial\u001b[0m\u001b[1;33m(\u001b[0m\u001b[0mstudy\u001b[0m\u001b[1;33m,\u001b[0m \u001b[0mfunc\u001b[0m\u001b[1;33m,\u001b[0m \u001b[0mcatch\u001b[0m\u001b[1;33m)\u001b[0m\u001b[1;33m\u001b[0m\u001b[1;33m\u001b[0m\u001b[0m\n\u001b[0m\u001b[0;32m    160\u001b[0m         \u001b[1;32mfinally\u001b[0m\u001b[1;33m:\u001b[0m\u001b[1;33m\u001b[0m\u001b[1;33m\u001b[0m\u001b[0m\n\u001b[0;32m    161\u001b[0m             \u001b[1;31m# The following line mitigates memory problems that can be occurred in some\u001b[0m\u001b[1;33m\u001b[0m\u001b[1;33m\u001b[0m\u001b[1;33m\u001b[0m\u001b[0m\n",
      "\u001b[1;32mc:\\Users\\juneh\\AppData\\Local\\Programs\\Python\\Python37\\lib\\site-packages\\optuna\\study\\_optimize.py\u001b[0m in \u001b[0;36m_run_trial\u001b[1;34m(study, func, catch)\u001b[0m\n\u001b[0;32m    245\u001b[0m         \u001b[1;32mand\u001b[0m \u001b[1;32mnot\u001b[0m \u001b[0misinstance\u001b[0m\u001b[1;33m(\u001b[0m\u001b[0mfunc_err\u001b[0m\u001b[1;33m,\u001b[0m \u001b[0mcatch\u001b[0m\u001b[1;33m)\u001b[0m\u001b[1;33m\u001b[0m\u001b[1;33m\u001b[0m\u001b[0m\n\u001b[0;32m    246\u001b[0m     ):\n\u001b[1;32m--> 247\u001b[1;33m         \u001b[1;32mraise\u001b[0m \u001b[0mfunc_err\u001b[0m\u001b[1;33m\u001b[0m\u001b[1;33m\u001b[0m\u001b[0m\n\u001b[0m\u001b[0;32m    248\u001b[0m     \u001b[1;32mreturn\u001b[0m \u001b[0mfrozen_trial\u001b[0m\u001b[1;33m\u001b[0m\u001b[1;33m\u001b[0m\u001b[0m\n\u001b[0;32m    249\u001b[0m \u001b[1;33m\u001b[0m\u001b[0m\n",
      "\u001b[1;32mc:\\Users\\juneh\\AppData\\Local\\Programs\\Python\\Python37\\lib\\site-packages\\optuna\\study\\_optimize.py\u001b[0m in \u001b[0;36m_run_trial\u001b[1;34m(study, func, catch)\u001b[0m\n\u001b[0;32m    194\u001b[0m     \u001b[1;32mwith\u001b[0m \u001b[0mget_heartbeat_thread\u001b[0m\u001b[1;33m(\u001b[0m\u001b[0mtrial\u001b[0m\u001b[1;33m.\u001b[0m\u001b[0m_trial_id\u001b[0m\u001b[1;33m,\u001b[0m \u001b[0mstudy\u001b[0m\u001b[1;33m.\u001b[0m\u001b[0m_storage\u001b[0m\u001b[1;33m)\u001b[0m\u001b[1;33m:\u001b[0m\u001b[1;33m\u001b[0m\u001b[1;33m\u001b[0m\u001b[0m\n\u001b[0;32m    195\u001b[0m         \u001b[1;32mtry\u001b[0m\u001b[1;33m:\u001b[0m\u001b[1;33m\u001b[0m\u001b[1;33m\u001b[0m\u001b[0m\n\u001b[1;32m--> 196\u001b[1;33m             \u001b[0mvalue_or_values\u001b[0m \u001b[1;33m=\u001b[0m \u001b[0mfunc\u001b[0m\u001b[1;33m(\u001b[0m\u001b[0mtrial\u001b[0m\u001b[1;33m)\u001b[0m\u001b[1;33m\u001b[0m\u001b[1;33m\u001b[0m\u001b[0m\n\u001b[0m\u001b[0;32m    197\u001b[0m         \u001b[1;32mexcept\u001b[0m \u001b[0mexceptions\u001b[0m\u001b[1;33m.\u001b[0m\u001b[0mTrialPruned\u001b[0m \u001b[1;32mas\u001b[0m \u001b[0me\u001b[0m\u001b[1;33m:\u001b[0m\u001b[1;33m\u001b[0m\u001b[1;33m\u001b[0m\u001b[0m\n\u001b[0;32m    198\u001b[0m             \u001b[1;31m# TODO(mamu): Handle multi-objective cases.\u001b[0m\u001b[1;33m\u001b[0m\u001b[1;33m\u001b[0m\u001b[1;33m\u001b[0m\u001b[0m\n",
      "\u001b[1;32m~\\AppData\\Local\\Temp\\ipykernel_19224\\1991063681.py\u001b[0m in \u001b[0;36mobjective\u001b[1;34m(trial)\u001b[0m\n\u001b[0;32m     18\u001b[0m \u001b[1;33m\u001b[0m\u001b[0m\n\u001b[0;32m     19\u001b[0m     \u001b[0mmodel\u001b[0m \u001b[1;33m=\u001b[0m \u001b[0mlgb\u001b[0m\u001b[1;33m.\u001b[0m\u001b[0mLGBMClassifier\u001b[0m\u001b[1;33m(\u001b[0m\u001b[1;33m**\u001b[0m\u001b[0mparam\u001b[0m\u001b[1;33m)\u001b[0m\u001b[1;33m\u001b[0m\u001b[1;33m\u001b[0m\u001b[0m\n\u001b[1;32m---> 20\u001b[1;33m     \u001b[0mmodel\u001b[0m\u001b[1;33m.\u001b[0m\u001b[0mfit\u001b[0m\u001b[1;33m(\u001b[0m\u001b[0mTotal_X_train\u001b[0m\u001b[1;33m,\u001b[0m \u001b[0mTotal_y_train\u001b[0m\u001b[1;33m)\u001b[0m\u001b[1;33m\u001b[0m\u001b[1;33m\u001b[0m\u001b[0m\n\u001b[0m\u001b[0;32m     21\u001b[0m \u001b[1;33m\u001b[0m\u001b[0m\n\u001b[0;32m     22\u001b[0m     \u001b[0my_pred_proba\u001b[0m \u001b[1;33m=\u001b[0m \u001b[0mmodel\u001b[0m\u001b[1;33m.\u001b[0m\u001b[0mpredict_proba\u001b[0m\u001b[1;33m(\u001b[0m\u001b[0mTotal_X_test\u001b[0m\u001b[1;33m)\u001b[0m\u001b[1;33m[\u001b[0m\u001b[1;33m:\u001b[0m\u001b[1;33m,\u001b[0m \u001b[1;36m1\u001b[0m\u001b[1;33m]\u001b[0m\u001b[1;33m\u001b[0m\u001b[1;33m\u001b[0m\u001b[0m\n",
      "\u001b[1;32mc:\\Users\\juneh\\AppData\\Local\\Programs\\Python\\Python37\\lib\\site-packages\\lightgbm\\sklearn.py\u001b[0m in \u001b[0;36mfit\u001b[1;34m(self, X, y, sample_weight, init_score, eval_set, eval_names, eval_sample_weight, eval_class_weight, eval_init_score, eval_metric, feature_name, categorical_feature, callbacks, init_model)\u001b[0m\n\u001b[0;32m   1296\u001b[0m             \u001b[0mcategorical_feature\u001b[0m\u001b[1;33m=\u001b[0m\u001b[0mcategorical_feature\u001b[0m\u001b[1;33m,\u001b[0m\u001b[1;33m\u001b[0m\u001b[1;33m\u001b[0m\u001b[0m\n\u001b[0;32m   1297\u001b[0m             \u001b[0mcallbacks\u001b[0m\u001b[1;33m=\u001b[0m\u001b[0mcallbacks\u001b[0m\u001b[1;33m,\u001b[0m\u001b[1;33m\u001b[0m\u001b[1;33m\u001b[0m\u001b[0m\n\u001b[1;32m-> 1298\u001b[1;33m             \u001b[0minit_model\u001b[0m\u001b[1;33m=\u001b[0m\u001b[0minit_model\u001b[0m\u001b[1;33m,\u001b[0m\u001b[1;33m\u001b[0m\u001b[1;33m\u001b[0m\u001b[0m\n\u001b[0m\u001b[0;32m   1299\u001b[0m         )\n\u001b[0;32m   1300\u001b[0m         \u001b[1;32mreturn\u001b[0m \u001b[0mself\u001b[0m\u001b[1;33m\u001b[0m\u001b[1;33m\u001b[0m\u001b[0m\n",
      "\u001b[1;32mc:\\Users\\juneh\\AppData\\Local\\Programs\\Python\\Python37\\lib\\site-packages\\lightgbm\\sklearn.py\u001b[0m in \u001b[0;36mfit\u001b[1;34m(self, X, y, sample_weight, init_score, group, eval_set, eval_names, eval_sample_weight, eval_class_weight, eval_init_score, eval_group, eval_metric, feature_name, categorical_feature, callbacks, init_model)\u001b[0m\n\u001b[0;32m    961\u001b[0m             \u001b[0mfeval\u001b[0m\u001b[1;33m=\u001b[0m\u001b[0meval_metrics_callable\u001b[0m\u001b[1;33m,\u001b[0m  \u001b[1;31m# type: ignore[arg-type]\u001b[0m\u001b[1;33m\u001b[0m\u001b[1;33m\u001b[0m\u001b[0m\n\u001b[0;32m    962\u001b[0m             \u001b[0minit_model\u001b[0m\u001b[1;33m=\u001b[0m\u001b[0minit_model\u001b[0m\u001b[1;33m,\u001b[0m\u001b[1;33m\u001b[0m\u001b[1;33m\u001b[0m\u001b[0m\n\u001b[1;32m--> 963\u001b[1;33m             \u001b[0mcallbacks\u001b[0m\u001b[1;33m=\u001b[0m\u001b[0mcallbacks\u001b[0m\u001b[1;33m,\u001b[0m\u001b[1;33m\u001b[0m\u001b[1;33m\u001b[0m\u001b[0m\n\u001b[0m\u001b[0;32m    964\u001b[0m         )\n\u001b[0;32m    965\u001b[0m \u001b[1;33m\u001b[0m\u001b[0m\n",
      "\u001b[1;32mc:\\Users\\juneh\\AppData\\Local\\Programs\\Python\\Python37\\lib\\site-packages\\lightgbm\\engine.py\u001b[0m in \u001b[0;36mtrain\u001b[1;34m(params, train_set, num_boost_round, valid_sets, valid_names, feval, init_model, feature_name, categorical_feature, keep_training_booster, callbacks)\u001b[0m\n\u001b[0;32m    305\u001b[0m             )\n\u001b[0;32m    306\u001b[0m \u001b[1;33m\u001b[0m\u001b[0m\n\u001b[1;32m--> 307\u001b[1;33m         \u001b[0mbooster\u001b[0m\u001b[1;33m.\u001b[0m\u001b[0mupdate\u001b[0m\u001b[1;33m(\u001b[0m\u001b[0mfobj\u001b[0m\u001b[1;33m=\u001b[0m\u001b[0mfobj\u001b[0m\u001b[1;33m)\u001b[0m\u001b[1;33m\u001b[0m\u001b[1;33m\u001b[0m\u001b[0m\n\u001b[0m\u001b[0;32m    308\u001b[0m \u001b[1;33m\u001b[0m\u001b[0m\n\u001b[0;32m    309\u001b[0m         \u001b[0mevaluation_result_list\u001b[0m\u001b[1;33m:\u001b[0m \u001b[0mList\u001b[0m\u001b[1;33m[\u001b[0m\u001b[0m_LGBM_BoosterEvalMethodResultType\u001b[0m\u001b[1;33m]\u001b[0m \u001b[1;33m=\u001b[0m \u001b[1;33m[\u001b[0m\u001b[1;33m]\u001b[0m\u001b[1;33m\u001b[0m\u001b[1;33m\u001b[0m\u001b[0m\n",
      "\u001b[1;32mc:\\Users\\juneh\\AppData\\Local\\Programs\\Python\\Python37\\lib\\site-packages\\lightgbm\\basic.py\u001b[0m in \u001b[0;36mupdate\u001b[1;34m(self, train_set, fobj)\u001b[0m\n\u001b[0;32m   4136\u001b[0m                 _LIB.LGBM_BoosterUpdateOneIter(\n\u001b[0;32m   4137\u001b[0m                     \u001b[0mself\u001b[0m\u001b[1;33m.\u001b[0m\u001b[0m_handle\u001b[0m\u001b[1;33m,\u001b[0m\u001b[1;33m\u001b[0m\u001b[1;33m\u001b[0m\u001b[0m\n\u001b[1;32m-> 4138\u001b[1;33m                     \u001b[0mctypes\u001b[0m\u001b[1;33m.\u001b[0m\u001b[0mbyref\u001b[0m\u001b[1;33m(\u001b[0m\u001b[0mis_finished\u001b[0m\u001b[1;33m)\u001b[0m\u001b[1;33m,\u001b[0m\u001b[1;33m\u001b[0m\u001b[1;33m\u001b[0m\u001b[0m\n\u001b[0m\u001b[0;32m   4139\u001b[0m                 )\n\u001b[0;32m   4140\u001b[0m             )\n",
      "\u001b[1;31mKeyboardInterrupt\u001b[0m: "
     ]
    }
   ],
   "source": [
    "# 목적 함수 정의\n",
    "def objective(trial):\n",
    "    param = {\n",
    "        'n_estimators': trial.suggest_int('n_estimators', 500, 4000),\n",
    "        'num_leaves': trial.suggest_int('num_leaves', 1000, 4000),\n",
    "        'learning_rate': trial.suggest_float('learning_rate', 0.0001, 0.2),\n",
    "        'min_child_samples': trial.suggest_int('min_child_samples', 5, 500),\n",
    "        'reg_alpha': trial.suggest_float('reg_alpha', 0.0, 100.0),\n",
    "        'reg_lambda': trial.suggest_float('reg_lambda', 0.0, 100.0),\n",
    "\n",
    "        'random_state': 42,\n",
    "        'n_jobs': -1,\n",
    "        'metric': 'auc',\n",
    "        'objective': 'binary',\n",
    "        'boosting_type': 'gbdt',\n",
    "        'verbose': -1\n",
    "    }\n",
    "\n",
    "    model = lgb.LGBMClassifier(**param)\n",
    "    model.fit(Total_X_train, Total_y_train)\n",
    "    \n",
    "    y_pred_proba = model.predict_proba(Total_X_test)[:, 1]\n",
    "    \n",
    "    auc = roc_auc_score(Total_y_test, y_pred_proba)\n",
    "    return auc\n",
    "\n",
    "# Optuna 스터디 생성 및 최적화 실행\n",
    "study = optuna.create_study(direction='maximize')\n",
    "study.optimize(objective, n_trials=800)\n",
    "\n",
    "# 최적의 하이퍼파라미터 출력\n",
    "print(\"Best trial:\")\n",
    "trial = study.best_trial\n",
    "print(f\"  Value: {trial.value}\")\n",
    "print(\"  Params: \")\n",
    "for key, value in trial.params.items():\n",
    "    print(f\"    {key}: {value}\")"
   ]
  },
  {
   "cell_type": "markdown",
   "metadata": {},
   "source": [
    "[I 2025-02-16 14:01:21,962] Trial 25 finished with value: 0.7450160562701532 and parameters: {'n_estimators': 2379, 'num_leaves': 1214, 'max_depth': 320, 'learning_rate': 0.0016910462182733038, 'min_child_samples': 321, 'subsample': 0.9245577554285245, 'colsample_bytree': 0.8027573271184746, 'reg_alpha': 8.590190533433615, 'reg_lambda': 6.615930936160601}. Best is trial 25 with value: 0.7450160562701532"
   ]
  },
  {
   "cell_type": "markdown",
   "metadata": {},
   "source": [
    "."
   ]
  }
 ],
 "metadata": {
  "kernelspec": {
   "display_name": "Python 3",
   "language": "python",
   "name": "python3"
  },
  "language_info": {
   "codemirror_mode": {
    "name": "ipython",
    "version": 3
   },
   "file_extension": ".py",
   "mimetype": "text/x-python",
   "name": "python",
   "nbconvert_exporter": "python",
   "pygments_lexer": "ipython3",
   "version": "3.7.8"
  }
 },
 "nbformat": 4,
 "nbformat_minor": 2
}
