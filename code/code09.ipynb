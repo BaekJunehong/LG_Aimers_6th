{
 "cells": [
  {
   "cell_type": "markdown",
   "metadata": {},
   "source": [
    "## 난임 환자 대상 임신 성공 여부 예측"
   ]
  },
  {
   "cell_type": "markdown",
   "metadata": {},
   "source": [
    "### LGAimers 6th 온라인 해커톤"
   ]
  },
  {
   "cell_type": "markdown",
   "metadata": {},
   "source": [
    "Import"
   ]
  },
  {
   "cell_type": "code",
   "execution_count": 446,
   "metadata": {},
   "outputs": [],
   "source": [
    "import numpy as np\n",
    "import pandas as pd\n",
    "import seaborn as sns\n",
    "import matplotlib.pyplot as plt\n",
    "\n",
    "import os\n",
    "from pprint import pprint\n",
    "\n",
    "from sklearn.ensemble import RandomForestClassifier, ExtraTreesClassifier\n",
    "from sklearn.metrics import (\n",
    "    accuracy_score,\n",
    "    classification_report,\n",
    "    confusion_matrix,\n",
    "    f1_score,\n",
    "    precision_score,\n",
    "    recall_score,\n",
    "    roc_auc_score,\n",
    "    roc_curve\n",
    ")\n",
    "from sklearn.model_selection import train_test_split\n",
    "from sklearn.metrics import accuracy_score, f1_score, roc_auc_score, confusion_matrix, ConfusionMatrixDisplay\n",
    "import matplotlib.pyplot as plt\n",
    "from sklearn.preprocessing import OrdinalEncoder\n",
    "from tqdm import tqdm\n",
    "\n",
    "import lightgbm as lgb\n",
    "import xgboost as xgb\n",
    "from catboost import CatBoostClassifier\n",
    "\n",
    "import optuna\n",
    "import lightgbm as lgb\n",
    "from sklearn.metrics import roc_auc_score\n",
    "from sklearn.preprocessing import OrdinalEncoder\n"
   ]
  },
  {
   "cell_type": "code",
   "execution_count": 447,
   "metadata": {},
   "outputs": [],
   "source": [
    "import platform\n",
    "from matplotlib import rc\n",
    "\n",
    "# 운영 체제에 따라 폰트 설정\n",
    "if platform.system() == 'Windows':  # Windows 환경\n",
    "    rc('font', family='Malgun Gothic')  # 맑은 고딕\n",
    "\n",
    "# 음수 표시 가능하도록 설정\n",
    "plt.rcParams['axes.unicode_minus'] = False"
   ]
  },
  {
   "cell_type": "markdown",
   "metadata": {},
   "source": [
    "반복적으로 쓰는 함수툴"
   ]
  },
  {
   "cell_type": "code",
   "execution_count": 448,
   "metadata": {},
   "outputs": [],
   "source": [
    "import matplotlib.pyplot as plt\n",
    "import seaborn as sns\n",
    "import pandas as pd\n",
    "\n",
    "def plot_box(df, col_name):\n",
    "    \"\"\"\n",
    "    주어진 데이터프레임과 열 이름에 대해 박스 플롯을 그리는 함수.\n",
    "\n",
    "    Parameters:\n",
    "    df (pd.DataFrame): 데이터프레임\n",
    "    col_name (str): 열 이름\n",
    "    \"\"\"\n",
    "    plt.figure(figsize=(7, 4))\n",
    "    plt.boxplot(df[col_name], vert=False)\n",
    "    plt.xlabel(col_name)\n",
    "    plt.title(f'Box Plot of {col_name}')\n",
    "    plt.show()\n",
    "\n",
    "def value_counts_ratio(df, col_name, target_name='임신_성공_여부'):\n",
    "    \"\"\"\n",
    "    주어진 데이터프레임의 특정 열에 대해 각 값마다 타겟 변수의 비율과 갯수, 총 갯수를 출력하는 함수.\n",
    "\n",
    "    Parameters:\n",
    "    df (pd.DataFrame): 데이터프레임\n",
    "    col_name (str): 열 이름\n",
    "    target_name (str): 타겟 변수 이름\n",
    "    \"\"\"\n",
    "    # 각 값마다 타겟 변수의 비율 계산\n",
    "    value_counts = df.groupby(col_name)[target_name].value_counts(normalize=True).unstack().fillna(0)\n",
    "    \n",
    "    # 각 값마다 타겟 변수의 갯수 계산\n",
    "    counts = df.groupby(col_name)[target_name].value_counts().unstack().fillna(0)\n",
    "    \n",
    "    # 각 값마다 총 갯수 계산\n",
    "    total_counts = df[col_name].value_counts().rename('Total_Count')\n",
    "    \n",
    "    # 비율과 갯수를 합침\n",
    "    result = value_counts.join(counts, lsuffix='_ratio', rsuffix='_count')\n",
    "    \n",
    "    # 총 갯수를 합침\n",
    "    result = result.join(total_counts, on=col_name)\n",
    "    \n",
    "    # 출력 형식 조정\n",
    "    result.index.name = 'variable'\n",
    "    print(f\"\\n{col_name}별 {target_name} 비율 및 갯수\\n\")\n",
    "    print(result.rename(columns=lambda x: x.split('_')[0]))\n",
    "\n",
    "def summarize_group(df, group_by_columns):\n",
    "    \"\"\"\n",
    "    주어진 데이터프레임을 특정 열들로 그룹화하여 각 그룹의 '임신_성공_여부' 비율과 갯수를 요약하는 함수.\n",
    "\n",
    "    Parameters:\n",
    "    df (pd.DataFrame): 데이터프레임\n",
    "    group_by_columns (list): 그룹화할 열 이름들의 리스트\n",
    "    \"\"\"\n",
    "    # 데이터프레임을 그룹화\n",
    "    grouped_df = df.groupby(group_by_columns)\n",
    "    \n",
    "    # 결과를 저장할 리스트 초기화\n",
    "    results = []\n",
    "    \n",
    "    # 그룹화된 데이터프레임의 내용을 확인하는 코드\n",
    "    for name, group in grouped_df:\n",
    "        # 그룹의 갯수 계산\n",
    "        group_count = group.shape[0]\n",
    "        \n",
    "        # '임신_성공_여부' 변수의 '임신 성공' 비율과 갯수 계산\n",
    "        success_count = group['임신_성공_여부'].value_counts().get(1, 0)\n",
    "        success_ratio = success_count / group_count\n",
    "        \n",
    "        # 결과 리스트에 추가\n",
    "        results.append([name, success_count, success_ratio, group_count])\n",
    "    \n",
    "    # 결과 리스트를 데이터프레임으로 변환\n",
    "    results_df = pd.DataFrame(results, columns=['group', \"'임신_성공_여부' count\", 'ratio', 'Total'])\n",
    "    \n",
    "    # 그룹화된 변수들의 이름을 제목행으로 출력\n",
    "    print(f\"Grouped by: {', '.join(group_by_columns)}\")\n",
    "    print()\n",
    "    # 데이터프레임 출력\n",
    "    print(results_df)\n",
    "\n",
    "def plot_ratio(df, group_by_column, target_column='임신_성공_여부', success_value=1):\n",
    "    \"\"\"\n",
    "    주어진 데이터프레임을 특정 열로 그룹화하여 각 그룹의 타겟 변수의 성공 비율을 시각화하는 함수.\n",
    "\n",
    "    Parameters:\n",
    "    df (pd.DataFrame): 데이터프레임\n",
    "    group_by_column (str): 그룹화할 열 이름\n",
    "    target_column (str): 타겟 변수 이름\n",
    "    success_value (int): 타겟 변수의 성공을 나타내는 값\n",
    "    \"\"\"\n",
    "    # 데이터프레임을 그룹화\n",
    "    grouped_df = df.groupby(group_by_column)\n",
    "    \n",
    "    # 결과를 저장할 리스트 초기화\n",
    "    results = []\n",
    "    \n",
    "    # 그룹화된 데이터프레임의 내용을 확인하는 코드\n",
    "    for name, group in grouped_df:\n",
    "        # 그룹의 갯수 계산\n",
    "        group_count = group.shape[0]\n",
    "        \n",
    "        # '임신_성공_여부' 변수의 '성공' 비율과 갯수 계산\n",
    "        success_count = group[target_column].value_counts().get(success_value, 0)\n",
    "        success_ratio = success_count / group_count\n",
    "        \n",
    "        # 결과 리스트에 추가\n",
    "        results.append([name, success_count, success_ratio, group_count])\n",
    "    \n",
    "    # 결과 리스트를 데이터프레임으로 변환\n",
    "    results_df = pd.DataFrame(results, columns=['group', f\"'{success_value}' count\", 'ratio', 'Total'])\n",
    "    \n",
    "    # 그래프 크기 설정\n",
    "    plt.figure(figsize=(10, 5))\n",
    "    \n",
    "    # 막대 그래프 생성\n",
    "    ax = results_df.plot(kind='bar', x='group', y='ratio', legend=False)\n",
    "    \n",
    "    # 각 막대 위에 임신 성공 여부 갯수와 총 갯수 표시\n",
    "    for i, (success_count, total) in enumerate(zip(results_df[f\"'{success_value}' count\"], results_df['Total'])):\n",
    "        ax.text(i, results_df['ratio'][i], f'{success_count} ({total})', ha='center', va='bottom', fontsize=8)\n",
    "    \n",
    "    # 그래프 제목 및 축 레이블 설정\n",
    "    ax.set_title(f'{success_value} Ratio by {group_by_column}')\n",
    "    ax.set_xlabel(group_by_column)\n",
    "    ax.set_ylabel(f'{success_value} Ratio')\n",
    "   \n",
    "    # 그래프 출력\n",
    "    plt.show()\n",
    "\n",
    "def plot_ratio_boxplot(data, column_name, target_column='임신_성공_여부'):\n",
    "    \"\"\"\n",
    "    주어진 데이터프레임의 특정 열과 타겟 변수 간의 관계를 박스 플롯으로 시각화하는 함수.\n",
    "\n",
    "    Parameters:\n",
    "    data (pd.DataFrame): 데이터프레임\n",
    "    column_name (str): 열 이름\n",
    "    target_column (str): 타겟 변수 이름\n",
    "    \"\"\"\n",
    "\n",
    "    # 그래프 그리기\n",
    "    plt.figure(figsize=(10, 6))\n",
    "    sns.boxplot(x=column_name, y=target_column, data=data)\n",
    "\n",
    "    # 그래프 제목 및 레이블 설정\n",
    "    plt.title(f'{column_name} vs {target_column}')\n",
    "    plt.xlabel(column_name)\n",
    "    plt.ylabel(target_column)\n",
    "\n",
    "    # 그래프 출력\n",
    "    plt.show()"
   ]
  },
  {
   "cell_type": "markdown",
   "metadata": {},
   "source": [
    "### Data Load"
   ]
  },
  {
   "cell_type": "code",
   "execution_count": 449,
   "metadata": {},
   "outputs": [
    {
     "name": "stdout",
     "output_type": "stream",
     "text": [
      "Index(['시술_시기_코드', '시술_당시_나이', '임신_시도_또는_마지막_임신_경과_연수', '시술_유형', '특정_시술_유형',\n",
      "       '배란_자극_여부', '배란_유도_유형', '단일_배아_이식_여부', '착상_전_유전_검사_사용_여부',\n",
      "       '착상_전_유전_진단_사용_여부', '남성_주_불임_원인', '남성_부_불임_원인', '여성_주_불임_원인',\n",
      "       '여성_부_불임_원인', '부부_주_불임_원인', '부부_부_불임_원인', '불명확_불임_원인', '불임_원인_-_난관_질환',\n",
      "       '불임_원인_-_남성_요인', '불임_원인_-_배란_장애', '불임_원인_-_여성_요인', '불임_원인_-_자궁경부_문제',\n",
      "       '불임_원인_-_자궁내막증', '불임_원인_-_정자_농도', '불임_원인_-_정자_면역학적_요인',\n",
      "       '불임_원인_-_정자_운동성', '불임_원인_-_정자_형태', '배아_생성_주요_이유', '총_시술_횟수',\n",
      "       '클리닉_내_총_시술_횟수', 'IVF_시술_횟수', 'DI_시술_횟수', '총_임신_횟수', 'IVF_임신_횟수',\n",
      "       'DI_임신_횟수', '총_출산_횟수', 'IVF_출산_횟수', 'DI_출산_횟수', '총_생성_배아_수',\n",
      "       '미세주입된_난자_수', '미세주입에서_생성된_배아_수', '이식된_배아_수', '미세주입_배아_이식_수', '저장된_배아_수',\n",
      "       '미세주입_후_저장된_배아_수', '해동된_배아_수', '해동_난자_수', '수집된_신선_난자_수', '저장된_신선_난자_수',\n",
      "       '혼합된_난자_수', '파트너_정자와_혼합된_난자_수', '기증자_정자와_혼합된_난자_수', '난자_출처', '정자_출처',\n",
      "       '난자_기증자_나이', '정자_기증자_나이', '동결_배아_사용_여부', '신선_배아_사용_여부', '기증_배아_사용_여부',\n",
      "       '대리모_여부', 'PGD_시술_여부', 'PGS_시술_여부', '난자_채취_경과일', '난자_해동_경과일',\n",
      "       '난자_혼합_경과일', '배아_이식_경과일', '배아_해동_경과일', '임신_성공_여부'],\n",
      "      dtype='object')\n"
     ]
    }
   ],
   "source": [
    "import pandas as pd\n",
    "\n",
    "# 데이터 로드\n",
    "train = pd.read_csv('../data/train.csv').drop(columns=['ID'])\n",
    "test = pd.read_csv('../data/test.csv').drop(columns=['ID'])\n",
    "\n",
    "# 변수명에서 공백을 밑줄로 대체\n",
    "train.columns = train.columns.str.replace(' ', '_')\n",
    "test.columns = test.columns.str.replace(' ', '_')\n",
    "\n",
    "# 변경된 변수명 확인\n",
    "print(train.columns)"
   ]
  },
  {
   "cell_type": "code",
   "execution_count": 450,
   "metadata": {},
   "outputs": [
    {
     "name": "stdout",
     "output_type": "stream",
     "text": [
      "<class 'pandas.core.frame.DataFrame'>\n",
      "RangeIndex: 256351 entries, 0 to 256350\n",
      "Data columns (total 68 columns):\n",
      " #   Column                 Non-Null Count   Dtype  \n",
      "---  ------                 --------------   -----  \n",
      " 0   시술_시기_코드               256351 non-null  object \n",
      " 1   시술_당시_나이               256351 non-null  object \n",
      " 2   임신_시도_또는_마지막_임신_경과_연수  9370 non-null    float64\n",
      " 3   시술_유형                  256351 non-null  object \n",
      " 4   특정_시술_유형               256349 non-null  object \n",
      " 5   배란_자극_여부               256351 non-null  int64  \n",
      " 6   배란_유도_유형               256351 non-null  object \n",
      " 7   단일_배아_이식_여부            250060 non-null  float64\n",
      " 8   착상_전_유전_검사_사용_여부       2718 non-null    float64\n",
      " 9   착상_전_유전_진단_사용_여부       250060 non-null  float64\n",
      " 10  남성_주_불임_원인             256351 non-null  int64  \n",
      " 11  남성_부_불임_원인             256351 non-null  int64  \n",
      " 12  여성_주_불임_원인             256351 non-null  int64  \n",
      " 13  여성_부_불임_원인             256351 non-null  int64  \n",
      " 14  부부_주_불임_원인             256351 non-null  int64  \n",
      " 15  부부_부_불임_원인             256351 non-null  int64  \n",
      " 16  불명확_불임_원인              256351 non-null  int64  \n",
      " 17  불임_원인_-_난관_질환          256351 non-null  int64  \n",
      " 18  불임_원인_-_남성_요인          256351 non-null  int64  \n",
      " 19  불임_원인_-_배란_장애          256351 non-null  int64  \n",
      " 20  불임_원인_-_여성_요인          256351 non-null  int64  \n",
      " 21  불임_원인_-_자궁경부_문제        256351 non-null  int64  \n",
      " 22  불임_원인_-_자궁내막증          256351 non-null  int64  \n",
      " 23  불임_원인_-_정자_농도          256351 non-null  int64  \n",
      " 24  불임_원인_-_정자_면역학적_요인     256351 non-null  int64  \n",
      " 25  불임_원인_-_정자_운동성         256351 non-null  int64  \n",
      " 26  불임_원인_-_정자_형태          256351 non-null  int64  \n",
      " 27  배아_생성_주요_이유            250060 non-null  object \n",
      " 28  총_시술_횟수                256351 non-null  object \n",
      " 29  클리닉_내_총_시술_횟수          256351 non-null  object \n",
      " 30  IVF_시술_횟수              256351 non-null  object \n",
      " 31  DI_시술_횟수               256351 non-null  object \n",
      " 32  총_임신_횟수                256351 non-null  object \n",
      " 33  IVF_임신_횟수              256351 non-null  object \n",
      " 34  DI_임신_횟수               256351 non-null  object \n",
      " 35  총_출산_횟수                256351 non-null  object \n",
      " 36  IVF_출산_횟수              256351 non-null  object \n",
      " 37  DI_출산_횟수               256351 non-null  object \n",
      " 38  총_생성_배아_수              250060 non-null  float64\n",
      " 39  미세주입된_난자_수             250060 non-null  float64\n",
      " 40  미세주입에서_생성된_배아_수        250060 non-null  float64\n",
      " 41  이식된_배아_수               250060 non-null  float64\n",
      " 42  미세주입_배아_이식_수           250060 non-null  float64\n",
      " 43  저장된_배아_수               250060 non-null  float64\n",
      " 44  미세주입_후_저장된_배아_수        250060 non-null  float64\n",
      " 45  해동된_배아_수               250060 non-null  float64\n",
      " 46  해동_난자_수                250060 non-null  float64\n",
      " 47  수집된_신선_난자_수            250060 non-null  float64\n",
      " 48  저장된_신선_난자_수            250060 non-null  float64\n",
      " 49  혼합된_난자_수               250060 non-null  float64\n",
      " 50  파트너_정자와_혼합된_난자_수       250060 non-null  float64\n",
      " 51  기증자_정자와_혼합된_난자_수       250060 non-null  float64\n",
      " 52  난자_출처                  256351 non-null  object \n",
      " 53  정자_출처                  256351 non-null  object \n",
      " 54  난자_기증자_나이              256351 non-null  object \n",
      " 55  정자_기증자_나이              256351 non-null  object \n",
      " 56  동결_배아_사용_여부            250060 non-null  float64\n",
      " 57  신선_배아_사용_여부            250060 non-null  float64\n",
      " 58  기증_배아_사용_여부            250060 non-null  float64\n",
      " 59  대리모_여부                 250060 non-null  float64\n",
      " 60  PGD_시술_여부              2179 non-null    float64\n",
      " 61  PGS_시술_여부              1929 non-null    float64\n",
      " 62  난자_채취_경과일              198863 non-null  float64\n",
      " 63  난자_해동_경과일              1436 non-null    float64\n",
      " 64  난자_혼합_경과일              202616 non-null  float64\n",
      " 65  배아_이식_경과일              212785 non-null  float64\n",
      " 66  배아_해동_경과일              40369 non-null   float64\n",
      " 67  임신_성공_여부               256351 non-null  int64  \n",
      "dtypes: float64(29), int64(19), object(20)\n",
      "memory usage: 133.0+ MB\n"
     ]
    }
   ],
   "source": [
    "train.info(verbose=True)"
   ]
  },
  {
   "cell_type": "code",
   "execution_count": 451,
   "metadata": {},
   "outputs": [
    {
     "data": {
      "image/png": "[encoded data removed]",
      "text/plain": [
       "<Figure size 640x480 with 1 Axes>"
      ]
     },
     "metadata": {},
     "output_type": "display_data"
    }
   ],
   "source": [
    "import matplotlib.pyplot as plt\n",
    "import pandas as pd\n",
    "\n",
    "# '임신_성공_여부' 변수의 값 개수 계산\n",
    "value_counts = train['임신_성공_여부'].value_counts()\n",
    "\n",
    "# 라벨 변경\n",
    "labels = {1: '1(임신 성공)', 0: '0(임신 실패)'}\n",
    "value_counts.index = value_counts.index.map(labels)\n",
    "\n",
    "# 도넛 차트 그리기\n",
    "fig, ax = plt.subplots()\n",
    "\n",
    "# 파이 차트 그리기\n",
    "wedges, texts, autotexts = ax.pie(value_counts, labels=value_counts.index, autopct='%1.1f%%', startangle=90, wedgeprops=dict(width=0.5))\n",
    "\n",
    "# 도넛 차트 가운데에 원 그리기\n",
    "centre_circle = plt.Circle((0, 0), 0.70, fc='white')\n",
    "fig.gca().add_artist(centre_circle)\n",
    "\n",
    "# 차트 제목 설정\n",
    "ax.set_title('임신 성공 여부 도넛 차트')\n",
    "\n",
    "# 차트 표시\n",
    "plt.show()"
   ]
  },
  {
   "cell_type": "markdown",
   "metadata": {},
   "source": [
    "## EDA"
   ]
  },
  {
   "cell_type": "code",
   "execution_count": 452,
   "metadata": {},
   "outputs": [
    {
     "name": "stdout",
     "output_type": "stream",
     "text": [
      "난자_출처가 '알수없음'인 데이터셋:\n",
      "       시술_시기_코드 시술_당시_나이  임신_시도_또는_마지막_임신_경과_연수 시술_유형 특정_시술_유형  배란_자극_여부  \\\n",
      "14       TRXQMD  만38-39세                    NaN    DI      IUI         0   \n",
      "39       TRDQAZ  만18-34세                    NaN    DI      IUI         1   \n",
      "127      TRJXFG  만35-37세                    NaN    DI      IUI         1   \n",
      "162      TRXQMD  만38-39세                    NaN    DI      IUI         1   \n",
      "174      TRCMWS  만40-42세                    NaN    DI      IUI         0   \n",
      "...         ...      ...                    ...   ...      ...       ...   \n",
      "256174   TRZKPL  만45-50세                    NaN    DI      IUI         1   \n",
      "256222   TRYBLT  만18-34세                    NaN    DI      IUI         1   \n",
      "256228   TRYBLT  만40-42세                    NaN    DI      IUI         1   \n",
      "256301   TRCMWS  만40-42세                    NaN    DI      IUI         0   \n",
      "256326   TRDQAZ  만40-42세                    NaN    DI      IUI         1   \n",
      "\n",
      "       배란_유도_유형  단일_배아_이식_여부  착상_전_유전_검사_사용_여부  착상_전_유전_진단_사용_여부  ...  \\\n",
      "14       알 수 없음          NaN               NaN               NaN  ...   \n",
      "39       알 수 없음          NaN               NaN               NaN  ...   \n",
      "127      알 수 없음          NaN               NaN               NaN  ...   \n",
      "162      알 수 없음          NaN               NaN               NaN  ...   \n",
      "174      알 수 없음          NaN               NaN               NaN  ...   \n",
      "...         ...          ...               ...               ...  ...   \n",
      "256174   알 수 없음          NaN               NaN               NaN  ...   \n",
      "256222   알 수 없음          NaN               NaN               NaN  ...   \n",
      "256228   알 수 없음          NaN               NaN               NaN  ...   \n",
      "256301   알 수 없음          NaN               NaN               NaN  ...   \n",
      "256326   알 수 없음          NaN               NaN               NaN  ...   \n",
      "\n",
      "        기증_배아_사용_여부  대리모_여부  PGD_시술_여부  PGS_시술_여부  난자_채취_경과일  난자_해동_경과일  \\\n",
      "14              NaN     NaN        NaN        NaN        NaN        NaN   \n",
      "39              NaN     NaN        NaN        NaN        NaN        NaN   \n",
      "127             NaN     NaN        NaN        NaN        NaN        NaN   \n",
      "162             NaN     NaN        NaN        NaN        NaN        NaN   \n",
      "174             NaN     NaN        NaN        NaN        NaN        NaN   \n",
      "...             ...     ...        ...        ...        ...        ...   \n",
      "256174          NaN     NaN        NaN        NaN        NaN        NaN   \n",
      "256222          NaN     NaN        NaN        NaN        NaN        NaN   \n",
      "256228          NaN     NaN        NaN        NaN        NaN        NaN   \n",
      "256301          NaN     NaN        NaN        NaN        NaN        NaN   \n",
      "256326          NaN     NaN        NaN        NaN        NaN        NaN   \n",
      "\n",
      "        난자_혼합_경과일  배아_이식_경과일  배아_해동_경과일  임신_성공_여부  \n",
      "14            NaN        NaN        NaN         0  \n",
      "39            NaN        NaN        NaN         0  \n",
      "127           NaN        NaN        NaN         0  \n",
      "162           NaN        NaN        NaN         0  \n",
      "174           NaN        NaN        NaN         1  \n",
      "...           ...        ...        ...       ...  \n",
      "256174        NaN        NaN        NaN         0  \n",
      "256222        NaN        NaN        NaN         0  \n",
      "256228        NaN        NaN        NaN         1  \n",
      "256301        NaN        NaN        NaN         0  \n",
      "256326        NaN        NaN        NaN         0  \n",
      "\n",
      "[6291 rows x 68 columns]\n"
     ]
    }
   ],
   "source": [
    "# '난자_출처' 변수의 값이 '알수없음'에 해당하는 데이터 추출\n",
    "unknown_train = train[train['난자_출처'] == '알 수 없음']\n",
    "unknown_test = test[test['난자_출처'] == '알 수 없음']\n",
    "\n",
    "# 새로운 데이터셋 생성\n",
    "print(\"난자_출처가 '알수없음'인 데이터셋:\")\n",
    "print(unknown_train)"
   ]
  },
  {
   "cell_type": "code",
   "execution_count": 453,
   "metadata": {},
   "outputs": [
    {
     "name": "stdout",
     "output_type": "stream",
     "text": [
      "<class 'pandas.core.frame.DataFrame'>\n",
      "Int64Index: 6291 entries, 14 to 256326\n",
      "Data columns (total 68 columns):\n",
      " #   Column                 Non-Null Count  Dtype  \n",
      "---  ------                 --------------  -----  \n",
      " 0   시술_시기_코드               6291 non-null   object \n",
      " 1   시술_당시_나이               6291 non-null   object \n",
      " 2   임신_시도_또는_마지막_임신_경과_연수  303 non-null    float64\n",
      " 3   시술_유형                  6291 non-null   object \n",
      " 4   특정_시술_유형               6291 non-null   object \n",
      " 5   배란_자극_여부               6291 non-null   int64  \n",
      " 6   배란_유도_유형               6291 non-null   object \n",
      " 7   단일_배아_이식_여부            0 non-null      float64\n",
      " 8   착상_전_유전_검사_사용_여부       0 non-null      float64\n",
      " 9   착상_전_유전_진단_사용_여부       0 non-null      float64\n",
      " 10  남성_주_불임_원인             6291 non-null   int64  \n",
      " 11  남성_부_불임_원인             6291 non-null   int64  \n",
      " 12  여성_주_불임_원인             6291 non-null   int64  \n",
      " 13  여성_부_불임_원인             6291 non-null   int64  \n",
      " 14  부부_주_불임_원인             6291 non-null   int64  \n",
      " 15  부부_부_불임_원인             6291 non-null   int64  \n",
      " 16  불명확_불임_원인              6291 non-null   int64  \n",
      " 17  불임_원인_-_난관_질환          6291 non-null   int64  \n",
      " 18  불임_원인_-_남성_요인          6291 non-null   int64  \n",
      " 19  불임_원인_-_배란_장애          6291 non-null   int64  \n",
      " 20  불임_원인_-_여성_요인          6291 non-null   int64  \n",
      " 21  불임_원인_-_자궁경부_문제        6291 non-null   int64  \n",
      " 22  불임_원인_-_자궁내막증          6291 non-null   int64  \n",
      " 23  불임_원인_-_정자_농도          6291 non-null   int64  \n",
      " 24  불임_원인_-_정자_면역학적_요인     6291 non-null   int64  \n",
      " 25  불임_원인_-_정자_운동성         6291 non-null   int64  \n",
      " 26  불임_원인_-_정자_형태          6291 non-null   int64  \n",
      " 27  배아_생성_주요_이유            0 non-null      object \n",
      " 28  총_시술_횟수                6291 non-null   object \n",
      " 29  클리닉_내_총_시술_횟수          6291 non-null   object \n",
      " 30  IVF_시술_횟수              6291 non-null   object \n",
      " 31  DI_시술_횟수               6291 non-null   object \n",
      " 32  총_임신_횟수                6291 non-null   object \n",
      " 33  IVF_임신_횟수              6291 non-null   object \n",
      " 34  DI_임신_횟수               6291 non-null   object \n",
      " 35  총_출산_횟수                6291 non-null   object \n",
      " 36  IVF_출산_횟수              6291 non-null   object \n",
      " 37  DI_출산_횟수               6291 non-null   object \n",
      " 38  총_생성_배아_수              0 non-null      float64\n",
      " 39  미세주입된_난자_수             0 non-null      float64\n",
      " 40  미세주입에서_생성된_배아_수        0 non-null      float64\n",
      " 41  이식된_배아_수               0 non-null      float64\n",
      " 42  미세주입_배아_이식_수           0 non-null      float64\n",
      " 43  저장된_배아_수               0 non-null      float64\n",
      " 44  미세주입_후_저장된_배아_수        0 non-null      float64\n",
      " 45  해동된_배아_수               0 non-null      float64\n",
      " 46  해동_난자_수                0 non-null      float64\n",
      " 47  수집된_신선_난자_수            0 non-null      float64\n",
      " 48  저장된_신선_난자_수            0 non-null      float64\n",
      " 49  혼합된_난자_수               0 non-null      float64\n",
      " 50  파트너_정자와_혼합된_난자_수       0 non-null      float64\n",
      " 51  기증자_정자와_혼합된_난자_수       0 non-null      float64\n",
      " 52  난자_출처                  6291 non-null   object \n",
      " 53  정자_출처                  6291 non-null   object \n",
      " 54  난자_기증자_나이              6291 non-null   object \n",
      " 55  정자_기증자_나이              6291 non-null   object \n",
      " 56  동결_배아_사용_여부            0 non-null      float64\n",
      " 57  신선_배아_사용_여부            0 non-null      float64\n",
      " 58  기증_배아_사용_여부            0 non-null      float64\n",
      " 59  대리모_여부                 0 non-null      float64\n",
      " 60  PGD_시술_여부              0 non-null      float64\n",
      " 61  PGS_시술_여부              0 non-null      float64\n",
      " 62  난자_채취_경과일              0 non-null      float64\n",
      " 63  난자_해동_경과일              0 non-null      float64\n",
      " 64  난자_혼합_경과일              0 non-null      float64\n",
      " 65  배아_이식_경과일              0 non-null      float64\n",
      " 66  배아_해동_경과일              0 non-null      float64\n",
      " 67  임신_성공_여부               6291 non-null   int64  \n",
      "dtypes: float64(29), int64(19), object(20)\n",
      "memory usage: 3.3+ MB\n"
     ]
    }
   ],
   "source": [
    "unknown_train.info()"
   ]
  },
  {
   "cell_type": "code",
   "execution_count": 454,
   "metadata": {},
   "outputs": [
    {
     "name": "stdout",
     "output_type": "stream",
     "text": [
      "<class 'pandas.core.frame.DataFrame'>\n",
      "Int64Index: 2176 entries, 26 to 90046\n",
      "Data columns (total 67 columns):\n",
      " #   Column                 Non-Null Count  Dtype  \n",
      "---  ------                 --------------  -----  \n",
      " 0   시술_시기_코드               2176 non-null   object \n",
      " 1   시술_당시_나이               2176 non-null   object \n",
      " 2   임신_시도_또는_마지막_임신_경과_연수  88 non-null     float64\n",
      " 3   시술_유형                  2176 non-null   object \n",
      " 4   특정_시술_유형               2176 non-null   object \n",
      " 5   배란_자극_여부               2176 non-null   int64  \n",
      " 6   배란_유도_유형               2176 non-null   object \n",
      " 7   단일_배아_이식_여부            0 non-null      float64\n",
      " 8   착상_전_유전_검사_사용_여부       0 non-null      float64\n",
      " 9   착상_전_유전_진단_사용_여부       0 non-null      float64\n",
      " 10  남성_주_불임_원인             2176 non-null   int64  \n",
      " 11  남성_부_불임_원인             2176 non-null   int64  \n",
      " 12  여성_주_불임_원인             2176 non-null   int64  \n",
      " 13  여성_부_불임_원인             2176 non-null   int64  \n",
      " 14  부부_주_불임_원인             2176 non-null   int64  \n",
      " 15  부부_부_불임_원인             2176 non-null   int64  \n",
      " 16  불명확_불임_원인              2176 non-null   int64  \n",
      " 17  불임_원인_-_난관_질환          2176 non-null   int64  \n",
      " 18  불임_원인_-_남성_요인          2176 non-null   int64  \n",
      " 19  불임_원인_-_배란_장애          2176 non-null   int64  \n",
      " 20  불임_원인_-_여성_요인          2176 non-null   int64  \n",
      " 21  불임_원인_-_자궁경부_문제        2176 non-null   int64  \n",
      " 22  불임_원인_-_자궁내막증          2176 non-null   int64  \n",
      " 23  불임_원인_-_정자_농도          2176 non-null   int64  \n",
      " 24  불임_원인_-_정자_면역학적_요인     2176 non-null   int64  \n",
      " 25  불임_원인_-_정자_운동성         2176 non-null   int64  \n",
      " 26  불임_원인_-_정자_형태          2176 non-null   int64  \n",
      " 27  배아_생성_주요_이유            0 non-null      object \n",
      " 28  총_시술_횟수                2176 non-null   object \n",
      " 29  클리닉_내_총_시술_횟수          2176 non-null   object \n",
      " 30  IVF_시술_횟수              2176 non-null   object \n",
      " 31  DI_시술_횟수               2176 non-null   object \n",
      " 32  총_임신_횟수                2176 non-null   object \n",
      " 33  IVF_임신_횟수              2176 non-null   object \n",
      " 34  DI_임신_횟수               2176 non-null   object \n",
      " 35  총_출산_횟수                2176 non-null   object \n",
      " 36  IVF_출산_횟수              2176 non-null   object \n",
      " 37  DI_출산_횟수               2176 non-null   object \n",
      " 38  총_생성_배아_수              0 non-null      float64\n",
      " 39  미세주입된_난자_수             0 non-null      float64\n",
      " 40  미세주입에서_생성된_배아_수        0 non-null      float64\n",
      " 41  이식된_배아_수               0 non-null      float64\n",
      " 42  미세주입_배아_이식_수           0 non-null      float64\n",
      " 43  저장된_배아_수               0 non-null      float64\n",
      " 44  미세주입_후_저장된_배아_수        0 non-null      float64\n",
      " 45  해동된_배아_수               0 non-null      float64\n",
      " 46  해동_난자_수                0 non-null      float64\n",
      " 47  수집된_신선_난자_수            0 non-null      float64\n",
      " 48  저장된_신선_난자_수            0 non-null      float64\n",
      " 49  혼합된_난자_수               0 non-null      float64\n",
      " 50  파트너_정자와_혼합된_난자_수       0 non-null      float64\n",
      " 51  기증자_정자와_혼합된_난자_수       0 non-null      float64\n",
      " 52  난자_출처                  2176 non-null   object \n",
      " 53  정자_출처                  2176 non-null   object \n",
      " 54  난자_기증자_나이              2176 non-null   object \n",
      " 55  정자_기증자_나이              2176 non-null   object \n",
      " 56  동결_배아_사용_여부            0 non-null      float64\n",
      " 57  신선_배아_사용_여부            0 non-null      float64\n",
      " 58  기증_배아_사용_여부            0 non-null      float64\n",
      " 59  대리모_여부                 0 non-null      float64\n",
      " 60  PGD_시술_여부              0 non-null      float64\n",
      " 61  PGS_시술_여부              0 non-null      float64\n",
      " 62  난자_채취_경과일              0 non-null      float64\n",
      " 63  난자_해동_경과일              0 non-null      float64\n",
      " 64  난자_혼합_경과일              0 non-null      float64\n",
      " 65  배아_이식_경과일              0 non-null      float64\n",
      " 66  배아_해동_경과일              0 non-null      float64\n",
      "dtypes: float64(29), int64(18), object(20)\n",
      "memory usage: 1.1+ MB\n"
     ]
    }
   ],
   "source": [
    "unknown_test.info()"
   ]
  },
  {
   "cell_type": "code",
   "execution_count": 455,
   "metadata": {},
   "outputs": [
    {
     "name": "stdout",
     "output_type": "stream",
     "text": [
      "모든 행의 값이 결측값인 변수를 제거하고, 고유값의 종류가 하나인 변수를 제거한 데이터셋:\n",
      "<class 'pandas.core.frame.DataFrame'>\n",
      "Int64Index: 6291 entries, 14 to 256326\n",
      "Data columns (total 30 columns):\n",
      " #   Column                 Non-Null Count  Dtype  \n",
      "---  ------                 --------------  -----  \n",
      " 0   시술_시기_코드               6291 non-null   object \n",
      " 1   시술_당시_나이               6291 non-null   object \n",
      " 2   임신_시도_또는_마지막_임신_경과_연수  303 non-null    float64\n",
      " 3   특정_시술_유형               6291 non-null   object \n",
      " 4   배란_자극_여부               6291 non-null   int64  \n",
      " 5   남성_주_불임_원인             6291 non-null   int64  \n",
      " 6   남성_부_불임_원인             6291 non-null   int64  \n",
      " 7   여성_주_불임_원인             6291 non-null   int64  \n",
      " 8   여성_부_불임_원인             6291 non-null   int64  \n",
      " 9   부부_주_불임_원인             6291 non-null   int64  \n",
      " 10  부부_부_불임_원인             6291 non-null   int64  \n",
      " 11  불명확_불임_원인              6291 non-null   int64  \n",
      " 12  불임_원인_-_난관_질환          6291 non-null   int64  \n",
      " 13  불임_원인_-_남성_요인          6291 non-null   int64  \n",
      " 14  불임_원인_-_배란_장애          6291 non-null   int64  \n",
      " 15  불임_원인_-_자궁내막증          6291 non-null   int64  \n",
      " 16  불임_원인_-_정자_농도          6291 non-null   int64  \n",
      " 17  불임_원인_-_정자_형태          6291 non-null   int64  \n",
      " 18  총_시술_횟수                6291 non-null   object \n",
      " 19  클리닉_내_총_시술_횟수          6291 non-null   object \n",
      " 20  IVF_시술_횟수              6291 non-null   object \n",
      " 21  DI_시술_횟수               6291 non-null   object \n",
      " 22  총_임신_횟수                6291 non-null   object \n",
      " 23  IVF_임신_횟수              6291 non-null   object \n",
      " 24  DI_임신_횟수               6291 non-null   object \n",
      " 25  총_출산_횟수                6291 non-null   object \n",
      " 26  IVF_출산_횟수              6291 non-null   object \n",
      " 27  DI_출산_횟수               6291 non-null   object \n",
      " 28  정자_기증자_나이              6291 non-null   object \n",
      " 29  임신_성공_여부               6291 non-null   int64  \n",
      "dtypes: float64(1), int64(15), object(14)\n",
      "memory usage: 1.5+ MB\n",
      "None\n",
      "데이터셋이 'unknown_train.csv' 파일로 저장되었습니다.\n"
     ]
    }
   ],
   "source": [
    "# '난자_출처' 변수의 값이 '알수없음'에 해당하는 데이터 추출\n",
    "unknown_train = train[train['난자_출처'] == '알 수 없음']\n",
    "\n",
    "# 모든 값이 결측값인 변수를 제거\n",
    "unknown_train = unknown_train.dropna(axis=1, how='all')\n",
    "unknown_test = unknown_test.dropna(axis=1, how='all')\n",
    "\n",
    "# 고유값의 종류가 하나인 변수를 제거\n",
    "for column in unknown_train.columns:\n",
    "    if unknown_train[column].nunique() == 1:\n",
    "        unknown_train = unknown_train.drop(columns=[column])\n",
    "        unknown_test = unknown_test.drop(columns=[column])\n",
    "\n",
    "# 결과 출력\n",
    "print(\"모든 행의 값이 결측값인 변수를 제거하고, 고유값의 종류가 하나인 변수를 제거한 데이터셋:\")\n",
    "print(unknown_train.info())\n",
    "\n",
    "# 데이터셋을 CSV 파일로 저장 (UTF-8 인코딩 설정)\n",
    "unknown_train.to_csv('unknown_train.csv', index=False, encoding='utf-8-sig')\n",
    "\n",
    "print(\"데이터셋이 'unknown_train.csv' 파일로 저장되었습니다.\")"
   ]
  },
  {
   "cell_type": "code",
   "execution_count": 456,
   "metadata": {},
   "outputs": [],
   "source": [
    "train = unknown_train\n",
    "test = unknown_test"
   ]
  },
  {
   "cell_type": "code",
   "execution_count": 457,
   "metadata": {},
   "outputs": [
    {
     "name": "stdout",
     "output_type": "stream",
     "text": [
      "<class 'pandas.core.frame.DataFrame'>\n",
      "Int64Index: 6291 entries, 14 to 256326\n",
      "Data columns (total 30 columns):\n",
      " #   Column                 Non-Null Count  Dtype  \n",
      "---  ------                 --------------  -----  \n",
      " 0   시술_시기_코드               6291 non-null   object \n",
      " 1   시술_당시_나이               6291 non-null   object \n",
      " 2   임신_시도_또는_마지막_임신_경과_연수  303 non-null    float64\n",
      " 3   특정_시술_유형               6291 non-null   object \n",
      " 4   배란_자극_여부               6291 non-null   int64  \n",
      " 5   남성_주_불임_원인             6291 non-null   int64  \n",
      " 6   남성_부_불임_원인             6291 non-null   int64  \n",
      " 7   여성_주_불임_원인             6291 non-null   int64  \n",
      " 8   여성_부_불임_원인             6291 non-null   int64  \n",
      " 9   부부_주_불임_원인             6291 non-null   int64  \n",
      " 10  부부_부_불임_원인             6291 non-null   int64  \n",
      " 11  불명확_불임_원인              6291 non-null   int64  \n",
      " 12  불임_원인_-_난관_질환          6291 non-null   int64  \n",
      " 13  불임_원인_-_남성_요인          6291 non-null   int64  \n",
      " 14  불임_원인_-_배란_장애          6291 non-null   int64  \n",
      " 15  불임_원인_-_자궁내막증          6291 non-null   int64  \n",
      " 16  불임_원인_-_정자_농도          6291 non-null   int64  \n",
      " 17  불임_원인_-_정자_형태          6291 non-null   int64  \n",
      " 18  총_시술_횟수                6291 non-null   object \n",
      " 19  클리닉_내_총_시술_횟수          6291 non-null   object \n",
      " 20  IVF_시술_횟수              6291 non-null   object \n",
      " 21  DI_시술_횟수               6291 non-null   object \n",
      " 22  총_임신_횟수                6291 non-null   object \n",
      " 23  IVF_임신_횟수              6291 non-null   object \n",
      " 24  DI_임신_횟수               6291 non-null   object \n",
      " 25  총_출산_횟수                6291 non-null   object \n",
      " 26  IVF_출산_횟수              6291 non-null   object \n",
      " 27  DI_출산_횟수               6291 non-null   object \n",
      " 28  정자_기증자_나이              6291 non-null   object \n",
      " 29  임신_성공_여부               6291 non-null   int64  \n",
      "dtypes: float64(1), int64(15), object(14)\n",
      "memory usage: 1.5+ MB\n"
     ]
    }
   ],
   "source": [
    "train.info()"
   ]
  },
  {
   "cell_type": "markdown",
   "metadata": {},
   "source": [
    "### 1. 시술_시기_코드"
   ]
  },
  {
   "cell_type": "markdown",
   "metadata": {},
   "source": [
    "난임 시술을 받은 시기를 기준으로 코드 부여"
   ]
  },
  {
   "cell_type": "code",
   "execution_count": 458,
   "metadata": {},
   "outputs": [
    {
     "name": "stdout",
     "output_type": "stream",
     "text": [
      "\n",
      "시술_시기_코드별 임신_성공_여부 비율 및 갯수\n",
      "\n",
      "                 0         1    0    1  Total\n",
      "variable                                     \n",
      "TRCMWS    0.862981  0.137019  718  114    832\n",
      "TRDQAZ    0.887967  0.112033  856  108    964\n",
      "TRJXFG    0.886770  0.113230  744   95    839\n",
      "TRVNRY    0.877426  0.122574  859  120    979\n",
      "TRXQMD    0.837808  0.162192  749  145    894\n",
      "TRYBLT    0.865811  0.134189  742  115    857\n",
      "TRZKPL    0.876890  0.123110  812  114    926\n"
     ]
    }
   ],
   "source": [
    "value_counts_ratio(train, '시술_시기_코드')"
   ]
  },
  {
   "cell_type": "markdown",
   "metadata": {},
   "source": [
    "## 2. 시술 당시 나이"
   ]
  },
  {
   "cell_type": "markdown",
   "metadata": {},
   "source": [
    "환자의 시술 당시 나이(연령대)"
   ]
  },
  {
   "cell_type": "code",
   "execution_count": 459,
   "metadata": {},
   "outputs": [
    {
     "name": "stdout",
     "output_type": "stream",
     "text": [
      "\n",
      "시술_당시_나이별 임신_성공_여부 비율 및 갯수\n",
      "\n",
      "                 0         1     0    1  Total\n",
      "variable                                      \n",
      "만18-34세   0.805408  0.194592  1668  403   2071\n",
      "만35-37세   0.848966  0.151034  1231  219   1450\n",
      "만38-39세   0.897436  0.102564   945  108   1053\n",
      "만40-42세   0.930502  0.069498   964   72   1036\n",
      "만43-44세   0.980907  0.019093   411    8    419\n",
      "만45-50세   0.996183  0.003817   261    1    262\n"
     ]
    }
   ],
   "source": [
    "value_counts_ratio(train, '시술_당시_나이')"
   ]
  },
  {
   "cell_type": "markdown",
   "metadata": {},
   "source": [
    "## 3. 임신 시도 또는 마지막 임신 경과 일수"
   ]
  },
  {
   "cell_type": "markdown",
   "metadata": {},
   "source": [
    "환자가 처음 임신을 시도한 시점 또는 마지막 임신 이후 현재까지의 경과 연수 (년 단위)"
   ]
  },
  {
   "cell_type": "code",
   "execution_count": 460,
   "metadata": {},
   "outputs": [
    {
     "name": "stdout",
     "output_type": "stream",
     "text": [
      "\n",
      "임신_시도_또는_마지막_임신_경과_연수별 임신_성공_여부 비율 및 갯수\n",
      "\n",
      "                 0         1     0    1  Total\n",
      "variable                                      \n",
      "1.0       1.000000  0.000000   2.0  0.0      2\n",
      "3.0       0.666667  0.333333   6.0  3.0      9\n",
      "4.0       0.700000  0.300000   7.0  3.0     10\n",
      "5.0       0.785714  0.214286  11.0  3.0     14\n",
      "6.0       0.852941  0.147059  29.0  5.0     34\n",
      "7.0       0.727273  0.272727  24.0  9.0     33\n",
      "8.0       0.853659  0.146341  35.0  6.0     41\n",
      "9.0       0.965517  0.034483  28.0  1.0     29\n",
      "10.0      0.774194  0.225806  24.0  7.0     31\n",
      "11.0      0.862069  0.137931  25.0  4.0     29\n",
      "12.0      0.863636  0.136364  19.0  3.0     22\n",
      "13.0      0.888889  0.111111  16.0  2.0     18\n",
      "14.0      0.800000  0.200000   8.0  2.0     10\n",
      "15.0      0.800000  0.200000   4.0  1.0      5\n",
      "16.0      1.000000  0.000000   1.0  0.0      1\n",
      "17.0      0.833333  0.166667   5.0  1.0      6\n",
      "18.0      1.000000  0.000000   2.0  0.0      2\n",
      "19.0      0.666667  0.333333   2.0  1.0      3\n",
      "20.0      1.000000  0.000000   4.0  0.0      4\n"
     ]
    }
   ],
   "source": [
    "value_counts_ratio(train, '임신_시도_또는_마지막_임신_경과_연수')"
   ]
  },
  {
   "cell_type": "code",
   "execution_count": 461,
   "metadata": {},
   "outputs": [
    {
     "name": "stdout",
     "output_type": "stream",
     "text": [
      "결측값 개수: 5988\n",
      "결측값 개수: 0\n"
     ]
    }
   ],
   "source": [
    "# 결측값 개수 확인\n",
    "print(\"결측값 개수:\", train['임신_시도_또는_마지막_임신_경과_연수'].isnull().sum())\n",
    "\n",
    "# 결측값을 0으로 채우기\n",
    "train['임신_시도_또는_마지막_임신_경과_연수'].fillna('0', inplace=True)\n",
    "test['임신_시도_또는_마지막_임신_경과_연수'].fillna('0', inplace=True)\n",
    "\n",
    "# 결측값 개수 확인\n",
    "print(\"결측값 개수:\", train['임신_시도_또는_마지막_임신_경과_연수'].isnull().sum())\n"
   ]
  },
  {
   "cell_type": "markdown",
   "metadata": {},
   "source": [
    "## 5. 특정_시술_유형"
   ]
  },
  {
   "cell_type": "markdown",
   "metadata": {},
   "source": [
    "IVF – 체외 수정 (시험관 아기 시술)  \n",
    "ICSI – 세포질 내 정자 주입  \n",
    "IUI – 인공 수정 (자궁 내 주입)  \n",
    "ICI – 자궁경부 인공 수정  \n",
    "GIFT – 생식세포 나팔관 이식  \n",
    "FER – 냉동 배아 이식  \n",
    "Generic DI – 기증 정자 주입  \n",
    "IVI – 질 내 인공 수정   \n",
    "BLASTOCYST – 배반포 단계에 이식  \n",
    "AH – 배아를 hatching 시켜주는 과정  \n",
    "Unknown – 시술 유형 정보가 제공되지 않았거나 알 수 없음  \n",
    "\n",
    "(*) 특수 기호의 의미  \n",
    "\"/\" – 복합적인 시술 방법을 의미 (예: ICSI / BLASTOCYST)  \n",
    "\":\" – 동일 시술 내 세부 조합을 의미 (예: ICSI:IVF)  "
   ]
  },
  {
   "cell_type": "code",
   "execution_count": 462,
   "metadata": {},
   "outputs": [
    {
     "name": "stdout",
     "output_type": "stream",
     "text": [
      "\n",
      "특정_시술_유형별 임신_성공_여부 비율 및 갯수\n",
      "\n",
      "                   0         1       0      1  Total\n",
      "variable                                            \n",
      "GIFT        1.000000  0.000000     1.0    0.0      1\n",
      "Generic DI  0.830986  0.169014    59.0   12.0     71\n",
      "ICI         0.864583  0.135417    83.0   13.0     96\n",
      "IUI         0.871475  0.128525  5316.0  784.0   6100\n",
      "IVI         0.913043  0.086957    21.0    2.0     23\n"
     ]
    }
   ],
   "source": [
    "value_counts_ratio(train, '특정_시술_유형')"
   ]
  },
  {
   "cell_type": "markdown",
   "metadata": {},
   "source": [
    "## 10. 남성_주_불임_원인"
   ]
  },
  {
   "cell_type": "markdown",
   "metadata": {},
   "source": [
    "남성의 주요 불임 원인 여부"
   ]
  },
  {
   "cell_type": "code",
   "execution_count": 463,
   "metadata": {},
   "outputs": [
    {
     "name": "stdout",
     "output_type": "stream",
     "text": [
      "\n",
      "남성_주_불임_원인별 임신_성공_여부 비율 및 갯수\n",
      "\n",
      "                 0         1     0    1  Total\n",
      "variable                                      \n",
      "0         0.874271  0.125729  5250  755   6005\n",
      "1         0.804196  0.195804   230   56    286\n"
     ]
    }
   ],
   "source": [
    "value_counts_ratio(train, '남성_주_불임_원인')"
   ]
  },
  {
   "cell_type": "markdown",
   "metadata": {},
   "source": [
    "## 11. 남성_부_불임_원인"
   ]
  },
  {
   "cell_type": "markdown",
   "metadata": {},
   "source": [
    "남성의 부차적 불임 원인 여부"
   ]
  },
  {
   "cell_type": "code",
   "execution_count": 464,
   "metadata": {},
   "outputs": [
    {
     "name": "stdout",
     "output_type": "stream",
     "text": [
      "\n",
      "남성_부_불임_원인별 임신_성공_여부 비율 및 갯수\n",
      "\n",
      "                 0         1     0    1  Total\n",
      "variable                                      \n",
      "0         0.871088  0.128912  5372  795   6167\n",
      "1         0.870968  0.129032   108   16    124\n"
     ]
    }
   ],
   "source": [
    "value_counts_ratio(train, '남성_부_불임_원인')"
   ]
  },
  {
   "cell_type": "markdown",
   "metadata": {},
   "source": [
    "## 12. 여성_주_불임_원인"
   ]
  },
  {
   "cell_type": "markdown",
   "metadata": {},
   "source": [
    "여성의 주요 불임 원인 여부"
   ]
  },
  {
   "cell_type": "code",
   "execution_count": 465,
   "metadata": {},
   "outputs": [
    {
     "name": "stdout",
     "output_type": "stream",
     "text": [
      "\n",
      "여성_주_불임_원인별 임신_성공_여부 비율 및 갯수\n",
      "\n",
      "                 0         1     0    1  Total\n",
      "variable                                      \n",
      "0         0.873917  0.126083  5143  742   5885\n",
      "1         0.830049  0.169951   337   69    406\n"
     ]
    }
   ],
   "source": [
    "value_counts_ratio(train, '여성_주_불임_원인')"
   ]
  },
  {
   "cell_type": "markdown",
   "metadata": {},
   "source": [
    "## 13. 여성_부_불임_원인"
   ]
  },
  {
   "cell_type": "markdown",
   "metadata": {},
   "source": [
    "여성의 부차적 불임 원인 여부"
   ]
  },
  {
   "cell_type": "code",
   "execution_count": 466,
   "metadata": {},
   "outputs": [
    {
     "name": "stdout",
     "output_type": "stream",
     "text": [
      "\n",
      "여성_부_불임_원인별 임신_성공_여부 비율 및 갯수\n",
      "\n",
      "                 0         1     0    1  Total\n",
      "variable                                      \n",
      "0         0.871449  0.128551  5369  792   6161\n",
      "1         0.853846  0.146154   111   19    130\n"
     ]
    }
   ],
   "source": [
    "value_counts_ratio(train, '여성_부_불임_원인')"
   ]
  },
  {
   "cell_type": "markdown",
   "metadata": {},
   "source": [
    "## 14. 부부_주_불임_원인"
   ]
  },
  {
   "cell_type": "markdown",
   "metadata": {},
   "source": [
    "부부의 주요 불임 원인 여부"
   ]
  },
  {
   "cell_type": "code",
   "execution_count": 467,
   "metadata": {},
   "outputs": [
    {
     "name": "stdout",
     "output_type": "stream",
     "text": [
      "\n",
      "부부_주_불임_원인별 임신_성공_여부 비율 및 갯수\n",
      "\n",
      "                 0         1     0    1  Total\n",
      "variable                                      \n",
      "0         0.874916  0.125084  5183  741   5924\n",
      "1         0.809264  0.190736   297   70    367\n"
     ]
    }
   ],
   "source": [
    "value_counts_ratio(train, '부부_주_불임_원인')"
   ]
  },
  {
   "cell_type": "markdown",
   "metadata": {},
   "source": [
    "## 15. 부부_부_불임_원인"
   ]
  },
  {
   "cell_type": "markdown",
   "metadata": {},
   "source": [
    "부부의 부차적 불임 원인 여부"
   ]
  },
  {
   "cell_type": "code",
   "execution_count": 468,
   "metadata": {},
   "outputs": [
    {
     "name": "stdout",
     "output_type": "stream",
     "text": [
      "\n",
      "부부_부_불임_원인별 임신_성공_여부 비율 및 갯수\n",
      "\n",
      "                 0         1     0    1  Total\n",
      "variable                                      \n",
      "0         0.871165  0.128835  5423  802   6225\n",
      "1         0.863636  0.136364    57    9     66\n"
     ]
    }
   ],
   "source": [
    "value_counts_ratio(train, '부부_부_불임_원인')"
   ]
  },
  {
   "cell_type": "markdown",
   "metadata": {},
   "source": [
    "## 16. 불명확_불임_원인"
   ]
  },
  {
   "cell_type": "markdown",
   "metadata": {},
   "source": [
    "불명의 원인으로 인한 불임 여부"
   ]
  },
  {
   "cell_type": "code",
   "execution_count": 469,
   "metadata": {},
   "outputs": [
    {
     "name": "stdout",
     "output_type": "stream",
     "text": [
      "\n",
      "불명확_불임_원인별 임신_성공_여부 비율 및 갯수\n",
      "\n",
      "                 0         1     0    1  Total\n",
      "variable                                      \n",
      "0         0.868249  0.131751  5048  766   5814\n",
      "1         0.905660  0.094340   432   45    477\n"
     ]
    }
   ],
   "source": [
    "value_counts_ratio(train, '불명확_불임_원인')"
   ]
  },
  {
   "cell_type": "markdown",
   "metadata": {},
   "source": [
    "## 17. 불임_원인_-_난관_질환"
   ]
  },
  {
   "cell_type": "markdown",
   "metadata": {},
   "source": [
    "난관 이상으로 인한 불임 여부"
   ]
  },
  {
   "cell_type": "code",
   "execution_count": 470,
   "metadata": {},
   "outputs": [
    {
     "name": "stdout",
     "output_type": "stream",
     "text": [
      "\n",
      "불임_원인_-_난관_질환별 임신_성공_여부 비율 및 갯수\n",
      "\n",
      "                 0         1     0    1  Total\n",
      "variable                                      \n",
      "0         0.870454  0.129546  5409  805   6214\n",
      "1         0.922078  0.077922    71    6     77\n"
     ]
    }
   ],
   "source": [
    "value_counts_ratio(train, '불임_원인_-_난관_질환')"
   ]
  },
  {
   "cell_type": "markdown",
   "metadata": {},
   "source": [
    "## 18. 불임_원인_-_남성_요인"
   ]
  },
  {
   "cell_type": "markdown",
   "metadata": {},
   "source": [
    "남성 요인으로 인한 불임 여부"
   ]
  },
  {
   "cell_type": "code",
   "execution_count": 471,
   "metadata": {},
   "outputs": [
    {
     "name": "stdout",
     "output_type": "stream",
     "text": [
      "\n",
      "불임_원인_-_남성_요인별 임신_성공_여부 비율 및 갯수\n",
      "\n",
      "                 0         1     0    1  Total\n",
      "variable                                      \n",
      "0         0.895925  0.104075  3056  355   3411\n",
      "1         0.841667  0.158333  2424  456   2880\n"
     ]
    }
   ],
   "source": [
    "value_counts_ratio(train, '불임_원인_-_남성_요인')"
   ]
  },
  {
   "cell_type": "markdown",
   "metadata": {},
   "source": [
    "## 19. 불임_원인_-_배란_장애"
   ]
  },
  {
   "cell_type": "markdown",
   "metadata": {},
   "source": [
    "배란 장애로 인한 불임 여부"
   ]
  },
  {
   "cell_type": "code",
   "execution_count": 472,
   "metadata": {},
   "outputs": [
    {
     "name": "stdout",
     "output_type": "stream",
     "text": [
      "\n",
      "불임_원인_-_배란_장애별 임신_성공_여부 비율 및 갯수\n",
      "\n",
      "                 0         1     0    1  Total\n",
      "variable                                      \n",
      "0         0.871213  0.128787  5148  761   5909\n",
      "1         0.869110  0.130890   332   50    382\n"
     ]
    }
   ],
   "source": [
    "value_counts_ratio(train, '불임_원인_-_배란_장애')"
   ]
  },
  {
   "cell_type": "markdown",
   "metadata": {},
   "source": [
    "## 22. 불임_원인_-_자궁내막증"
   ]
  },
  {
   "cell_type": "markdown",
   "metadata": {},
   "source": [
    "자궁내막증으로 인한 불임 여부"
   ]
  },
  {
   "cell_type": "code",
   "execution_count": 473,
   "metadata": {},
   "outputs": [
    {
     "name": "stdout",
     "output_type": "stream",
     "text": [
      "\n",
      "불임_원인_-_자궁내막증별 임신_성공_여부 비율 및 갯수\n",
      "\n",
      "                 0         1     0    1  Total\n",
      "variable                                      \n",
      "0         0.869778  0.130222  5330  798   6128\n",
      "1         0.920245  0.079755   150   13    163\n"
     ]
    }
   ],
   "source": [
    "value_counts_ratio(train, '불임_원인_-_자궁내막증')"
   ]
  },
  {
   "cell_type": "markdown",
   "metadata": {},
   "source": [
    "## 23. 불임_원인_-_정자_농도"
   ]
  },
  {
   "cell_type": "markdown",
   "metadata": {},
   "source": [
    "파트너의 정자 농도 문제 여부"
   ]
  },
  {
   "cell_type": "code",
   "execution_count": 474,
   "metadata": {},
   "outputs": [
    {
     "name": "stdout",
     "output_type": "stream",
     "text": [
      "\n",
      "불임_원인_-_정자_농도별 임신_성공_여부 비율 및 갯수\n",
      "\n",
      "                 0         1     0    1  Total\n",
      "variable                                      \n",
      "0         0.871561  0.128439  5449  803   6252\n",
      "1         0.794872  0.205128    31    8     39\n"
     ]
    }
   ],
   "source": [
    "value_counts_ratio(train, '불임_원인_-_정자_농도')"
   ]
  },
  {
   "cell_type": "markdown",
   "metadata": {},
   "source": [
    "## 26. 불임_원인_-_정자_형태"
   ]
  },
  {
   "cell_type": "markdown",
   "metadata": {},
   "source": [
    "파트너의 정자 형태 문제 여부"
   ]
  },
  {
   "cell_type": "code",
   "execution_count": 475,
   "metadata": {},
   "outputs": [
    {
     "name": "stdout",
     "output_type": "stream",
     "text": [
      "\n",
      "불임_원인_-_정자_형태별 임신_성공_여부 비율 및 갯수\n",
      "\n",
      "                 0         1       0      1  Total\n",
      "variable                                          \n",
      "0         0.871045  0.128955  5478.0  811.0   6289\n",
      "1         1.000000  0.000000     2.0    0.0      2\n"
     ]
    }
   ],
   "source": [
    "value_counts_ratio(train, '불임_원인_-_정자_형태')"
   ]
  },
  {
   "cell_type": "markdown",
   "metadata": {},
   "source": [
    "## 28. 총_시술_횟수"
   ]
  },
  {
   "cell_type": "markdown",
   "metadata": {},
   "source": [
    "IVF 및 DI 포함한 전체 시술 횟수"
   ]
  },
  {
   "cell_type": "code",
   "execution_count": 476,
   "metadata": {},
   "outputs": [
    {
     "name": "stdout",
     "output_type": "stream",
     "text": [
      "\n",
      "총_시술_횟수별 임신_성공_여부 비율 및 갯수\n",
      "\n",
      "                 0         1     0    1  Total\n",
      "variable                                      \n",
      "0회        0.926768  0.073232   367   29    396\n",
      "1회        0.865406  0.134594   778  121    899\n",
      "2회        0.866184  0.133816   958  148   1106\n",
      "3회        0.876923  0.123077   912  128   1040\n",
      "4회        0.853685  0.146315   776  133    909\n",
      "5회        0.870095  0.129905   643   96    739\n",
      "6회 이상     0.870216  0.129784  1046  156   1202\n"
     ]
    }
   ],
   "source": [
    "value_counts_ratio(train, '총_시술_횟수')"
   ]
  },
  {
   "cell_type": "markdown",
   "metadata": {},
   "source": [
    "## 29. 클리닉_내_총_시술_횟수"
   ]
  },
  {
   "cell_type": "markdown",
   "metadata": {},
   "source": [
    "특정 클리닉에서 받은 IVF 및 DI 시술 횟수"
   ]
  },
  {
   "cell_type": "code",
   "execution_count": 477,
   "metadata": {},
   "outputs": [
    {
     "name": "stdout",
     "output_type": "stream",
     "text": [
      "\n",
      "클리닉_내_총_시술_횟수별 임신_성공_여부 비율 및 갯수\n",
      "\n",
      "                 0         1     0    1  Total\n",
      "variable                                      \n",
      "0회        0.894336  0.105664   821   97    918\n",
      "1회        0.870229  0.129771  1026  153   1179\n",
      "2회        0.872414  0.127586  1012  148   1160\n",
      "3회        0.875135  0.124865   813  116    929\n",
      "4회        0.867758  0.132242   689  105    794\n",
      "5회        0.865079  0.134921   545   85    630\n",
      "6회 이상     0.842878  0.157122   574  107    681\n"
     ]
    }
   ],
   "source": [
    "value_counts_ratio(train, '클리닉_내_총_시술_횟수')"
   ]
  },
  {
   "cell_type": "markdown",
   "metadata": {},
   "source": [
    "## 30. IVF_시술_횟수"
   ]
  },
  {
   "cell_type": "markdown",
   "metadata": {},
   "source": [
    "이전에 수행된 IVF 시술 횟수"
   ]
  },
  {
   "cell_type": "code",
   "execution_count": 478,
   "metadata": {},
   "outputs": [
    {
     "name": "stdout",
     "output_type": "stream",
     "text": [
      "\n",
      "IVF_시술_횟수별 임신_성공_여부 비율 및 갯수\n",
      "\n",
      "                 0         1     0    1  Total\n",
      "variable                                      \n",
      "0회        0.861111  0.138889  3224  520   3744\n",
      "1회        0.871795  0.128205   816  120    936\n",
      "2회        0.899160  0.100840   535   60    595\n",
      "3회        0.878282  0.121718   368   51    419\n",
      "4회        0.892720  0.107280   233   28    261\n",
      "5회        0.921212  0.078788   152   13    165\n",
      "6회 이상     0.888889  0.111111   152   19    171\n"
     ]
    }
   ],
   "source": [
    "value_counts_ratio(train, 'IVF_시술_횟수')"
   ]
  },
  {
   "cell_type": "markdown",
   "metadata": {},
   "source": [
    "## 31. DI_시술_횟수"
   ]
  },
  {
   "cell_type": "markdown",
   "metadata": {},
   "source": [
    "이전에 수행된 DI 시술 횟수"
   ]
  },
  {
   "cell_type": "code",
   "execution_count": 479,
   "metadata": {},
   "outputs": [
    {
     "name": "stdout",
     "output_type": "stream",
     "text": [
      "\n",
      "DI_시술_횟수별 임신_성공_여부 비율 및 갯수\n",
      "\n",
      "                 0         1     0    1  Total\n",
      "variable                                      \n",
      "0회        0.900973  0.099027  1019  112   1131\n",
      "1회        0.873262  0.126738  1068  155   1223\n",
      "2회        0.860793  0.139207   977  158   1135\n",
      "3회        0.871397  0.128603   786  116    902\n",
      "4회        0.857542  0.142458   614  102    716\n",
      "5회        0.890435  0.109565   512   63    575\n",
      "6회 이상     0.827586  0.172414   504  105    609\n"
     ]
    }
   ],
   "source": [
    "value_counts_ratio(train, 'DI_시술_횟수')"
   ]
  },
  {
   "cell_type": "markdown",
   "metadata": {},
   "source": [
    "## 32. 총_임신_횟수"
   ]
  },
  {
   "cell_type": "markdown",
   "metadata": {},
   "source": [
    "IVF 및 DI 포함한 총 임신 횟수"
   ]
  },
  {
   "cell_type": "code",
   "execution_count": 480,
   "metadata": {},
   "outputs": [
    {
     "name": "stdout",
     "output_type": "stream",
     "text": [
      "\n",
      "총_임신_횟수별 임신_성공_여부 비율 및 갯수\n",
      "\n",
      "                 0         1       0      1  Total\n",
      "variable                                          \n",
      "0회        0.902537  0.097463  3380.0  365.0   3745\n",
      "1회        0.830102  0.169898  1798.0  368.0   2166\n",
      "2회        0.785933  0.214067   257.0   70.0    327\n",
      "3회        0.847826  0.152174    39.0    7.0     46\n",
      "4회        1.000000  0.000000     6.0    0.0      6\n",
      "5회        0.000000  1.000000     0.0    1.0      1\n"
     ]
    }
   ],
   "source": [
    "value_counts_ratio(train, '총_임신_횟수')"
   ]
  },
  {
   "cell_type": "markdown",
   "metadata": {},
   "source": [
    "## 33. IVF_임신_횟수"
   ]
  },
  {
   "cell_type": "markdown",
   "metadata": {},
   "source": [
    "IVF 시술로 인한 임신 횟수"
   ]
  },
  {
   "cell_type": "code",
   "execution_count": 481,
   "metadata": {},
   "outputs": [
    {
     "name": "stdout",
     "output_type": "stream",
     "text": [
      "\n",
      "IVF_임신_횟수별 임신_성공_여부 비율 및 갯수\n",
      "\n",
      "                 0         1       0      1  Total\n",
      "variable                                          \n",
      "0회        0.869565  0.130435  5100.0  765.0   5865\n",
      "1회        0.888041  0.111959   349.0   44.0    393\n",
      "2회        0.935484  0.064516    29.0    2.0     31\n",
      "3회        1.000000  0.000000     2.0    0.0      2\n"
     ]
    }
   ],
   "source": [
    "value_counts_ratio(train, 'IVF_임신_횟수')"
   ]
  },
  {
   "cell_type": "markdown",
   "metadata": {},
   "source": [
    "## 34. DI_임신_횟수"
   ]
  },
  {
   "cell_type": "markdown",
   "metadata": {},
   "source": [
    "DI 시술로 인한 임신 횟수"
   ]
  },
  {
   "cell_type": "code",
   "execution_count": 482,
   "metadata": {},
   "outputs": [
    {
     "name": "stdout",
     "output_type": "stream",
     "text": [
      "\n",
      "DI_임신_횟수별 임신_성공_여부 비율 및 갯수\n",
      "\n",
      "                 0         1       0      1  Total\n",
      "variable                                          \n",
      "0회        0.900776  0.099224  3713.0  409.0   4122\n",
      "1회        0.823656  0.176344  1532.0  328.0   1860\n",
      "2회        0.752809  0.247191   201.0   66.0    267\n",
      "3회        0.810811  0.189189    30.0    7.0     37\n",
      "4회        1.000000  0.000000     4.0    0.0      4\n",
      "5회        0.000000  1.000000     0.0    1.0      1\n"
     ]
    }
   ],
   "source": [
    "value_counts_ratio(train, 'DI_임신_횟수')"
   ]
  },
  {
   "cell_type": "markdown",
   "metadata": {},
   "source": [
    "## 35. 총_출산_횟수"
   ]
  },
  {
   "cell_type": "markdown",
   "metadata": {},
   "source": [
    "IVF 및 DI 시술로 출산한 횟수"
   ]
  },
  {
   "cell_type": "code",
   "execution_count": 483,
   "metadata": {},
   "outputs": [
    {
     "name": "stdout",
     "output_type": "stream",
     "text": [
      "\n",
      "총_출산_횟수별 임신_성공_여부 비율 및 갯수\n",
      "\n",
      "                 0         1     0    1  Total\n",
      "variable                                      \n",
      "0회        0.899214  0.100786  3890  436   4326\n",
      "1회        0.809258  0.190742  1451  342   1793\n",
      "2회        0.801325  0.198675   121   30    151\n",
      "3회        0.857143  0.142857    18    3     21\n"
     ]
    }
   ],
   "source": [
    "value_counts_ratio(train, '총_출산_횟수')"
   ]
  },
  {
   "cell_type": "markdown",
   "metadata": {},
   "source": [
    "## 36. IVF_출산_횟수"
   ]
  },
  {
   "cell_type": "markdown",
   "metadata": {},
   "source": [
    "IVF 시술로 출산한 횟수"
   ]
  },
  {
   "cell_type": "code",
   "execution_count": 484,
   "metadata": {},
   "outputs": [
    {
     "name": "stdout",
     "output_type": "stream",
     "text": [
      "\n",
      "IVF_출산_횟수별 임신_성공_여부 비율 및 갯수\n",
      "\n",
      "                 0         1     0    1  Total\n",
      "variable                                      \n",
      "0회        0.870389  0.129611  5238  780   6018\n",
      "1회        0.890566  0.109434   236   29    265\n",
      "2회        0.750000  0.250000     6    2      8\n"
     ]
    }
   ],
   "source": [
    "value_counts_ratio(train, 'IVF_출산_횟수')"
   ]
  },
  {
   "cell_type": "markdown",
   "metadata": {},
   "source": [
    "## 37. DI_출산_횟수"
   ]
  },
  {
   "cell_type": "markdown",
   "metadata": {},
   "source": [
    "DI 시술로 출산한 횟수"
   ]
  },
  {
   "cell_type": "code",
   "execution_count": 485,
   "metadata": {},
   "outputs": [
    {
     "name": "stdout",
     "output_type": "stream",
     "text": [
      "\n",
      "DI_출산_횟수별 임신_성공_여부 비율 및 갯수\n",
      "\n",
      "                 0         1     0    1  Total\n",
      "variable                                      \n",
      "0회        0.898320  0.101680  4117  466   4583\n",
      "1회        0.797558  0.202442  1241  315   1556\n",
      "2회        0.800000  0.200000   108   27    135\n",
      "3회        0.823529  0.176471    14    3     17\n"
     ]
    }
   ],
   "source": [
    "value_counts_ratio(train, 'DI_출산_횟수')"
   ]
  },
  {
   "cell_type": "markdown",
   "metadata": {},
   "source": [
    "## 55. 정자_기증자_나이"
   ]
  },
  {
   "cell_type": "markdown",
   "metadata": {},
   "source": [
    "정자 기증자의 등록 당시 나이"
   ]
  },
  {
   "cell_type": "code",
   "execution_count": 486,
   "metadata": {},
   "outputs": [
    {
     "name": "stdout",
     "output_type": "stream",
     "text": [
      "\n",
      "정자_기증자_나이별 임신_성공_여부 비율 및 갯수\n",
      "\n",
      "                 0         1     0    1  Total\n",
      "variable                                      \n",
      "만20세 이하   0.859935  0.140065   264   43    307\n",
      "만21-25세   0.867880  0.132120  1097  167   1264\n",
      "만26-30세   0.873407  0.126593  1028  149   1177\n",
      "만31-35세   0.867320  0.132680   974  149   1123\n",
      "만36-40세   0.883860  0.116140  1035  136   1171\n",
      "만41-45세   0.864388  0.135612   784  123    907\n",
      "알 수 없음    0.871345  0.128655   298   44    342\n"
     ]
    }
   ],
   "source": [
    "value_counts_ratio(train, '정자_기증자_나이')"
   ]
  },
  {
   "cell_type": "markdown",
   "metadata": {},
   "source": [
    "## 67. 임신_성공_여부"
   ]
  },
  {
   "cell_type": "markdown",
   "metadata": {},
   "source": [
    "해당 시술로부터 임신 성공 여부"
   ]
  },
  {
   "cell_type": "code",
   "execution_count": 487,
   "metadata": {},
   "outputs": [
    {
     "name": "stdout",
     "output_type": "stream",
     "text": [
      "\n",
      "임신_성공_여부별 임신_성공_여부 비율 및 갯수\n",
      "\n",
      "            0    1       0      1  Total\n",
      "variable                                \n",
      "0         1.0  0.0  5480.0    0.0   5480\n",
      "1         0.0  1.0     0.0  811.0    811\n"
     ]
    }
   ],
   "source": [
    "value_counts_ratio(train, '임신_성공_여부')"
   ]
  },
  {
   "cell_type": "code",
   "execution_count": 488,
   "metadata": {},
   "outputs": [
    {
     "name": "stdout",
     "output_type": "stream",
     "text": [
      "<class 'pandas.core.frame.DataFrame'>\n",
      "Int64Index: 6291 entries, 14 to 256326\n",
      "Data columns (total 30 columns):\n",
      " #   Column                 Non-Null Count  Dtype \n",
      "---  ------                 --------------  ----- \n",
      " 0   시술_시기_코드               6291 non-null   object\n",
      " 1   시술_당시_나이               6291 non-null   object\n",
      " 2   임신_시도_또는_마지막_임신_경과_연수  6291 non-null   object\n",
      " 3   특정_시술_유형               6291 non-null   object\n",
      " 4   배란_자극_여부               6291 non-null   int64 \n",
      " 5   남성_주_불임_원인             6291 non-null   int64 \n",
      " 6   남성_부_불임_원인             6291 non-null   int64 \n",
      " 7   여성_주_불임_원인             6291 non-null   int64 \n",
      " 8   여성_부_불임_원인             6291 non-null   int64 \n",
      " 9   부부_주_불임_원인             6291 non-null   int64 \n",
      " 10  부부_부_불임_원인             6291 non-null   int64 \n",
      " 11  불명확_불임_원인              6291 non-null   int64 \n",
      " 12  불임_원인_-_난관_질환          6291 non-null   int64 \n",
      " 13  불임_원인_-_남성_요인          6291 non-null   int64 \n",
      " 14  불임_원인_-_배란_장애          6291 non-null   int64 \n",
      " 15  불임_원인_-_자궁내막증          6291 non-null   int64 \n",
      " 16  불임_원인_-_정자_농도          6291 non-null   int64 \n",
      " 17  불임_원인_-_정자_형태          6291 non-null   int64 \n",
      " 18  총_시술_횟수                6291 non-null   object\n",
      " 19  클리닉_내_총_시술_횟수          6291 non-null   object\n",
      " 20  IVF_시술_횟수              6291 non-null   object\n",
      " 21  DI_시술_횟수               6291 non-null   object\n",
      " 22  총_임신_횟수                6291 non-null   object\n",
      " 23  IVF_임신_횟수              6291 non-null   object\n",
      " 24  DI_임신_횟수               6291 non-null   object\n",
      " 25  총_출산_횟수                6291 non-null   object\n",
      " 26  IVF_출산_횟수              6291 non-null   object\n",
      " 27  DI_출산_횟수               6291 non-null   object\n",
      " 28  정자_기증자_나이              6291 non-null   object\n",
      " 29  임신_성공_여부               6291 non-null   int64 \n",
      "dtypes: int64(15), object(15)\n",
      "memory usage: 1.5+ MB\n"
     ]
    }
   ],
   "source": [
    "train.info()"
   ]
  },
  {
   "cell_type": "code",
   "execution_count": 489,
   "metadata": {},
   "outputs": [
    {
     "name": "stdout",
     "output_type": "stream",
     "text": [
      "<class 'pandas.core.frame.DataFrame'>\n",
      "Int64Index: 2176 entries, 26 to 90046\n",
      "Data columns (total 29 columns):\n",
      " #   Column                 Non-Null Count  Dtype \n",
      "---  ------                 --------------  ----- \n",
      " 0   시술_시기_코드               2176 non-null   object\n",
      " 1   시술_당시_나이               2176 non-null   object\n",
      " 2   임신_시도_또는_마지막_임신_경과_연수  2176 non-null   object\n",
      " 3   특정_시술_유형               2176 non-null   object\n",
      " 4   배란_자극_여부               2176 non-null   int64 \n",
      " 5   남성_주_불임_원인             2176 non-null   int64 \n",
      " 6   남성_부_불임_원인             2176 non-null   int64 \n",
      " 7   여성_주_불임_원인             2176 non-null   int64 \n",
      " 8   여성_부_불임_원인             2176 non-null   int64 \n",
      " 9   부부_주_불임_원인             2176 non-null   int64 \n",
      " 10  부부_부_불임_원인             2176 non-null   int64 \n",
      " 11  불명확_불임_원인              2176 non-null   int64 \n",
      " 12  불임_원인_-_난관_질환          2176 non-null   int64 \n",
      " 13  불임_원인_-_남성_요인          2176 non-null   int64 \n",
      " 14  불임_원인_-_배란_장애          2176 non-null   int64 \n",
      " 15  불임_원인_-_자궁내막증          2176 non-null   int64 \n",
      " 16  불임_원인_-_정자_농도          2176 non-null   int64 \n",
      " 17  불임_원인_-_정자_형태          2176 non-null   int64 \n",
      " 18  총_시술_횟수                2176 non-null   object\n",
      " 19  클리닉_내_총_시술_횟수          2176 non-null   object\n",
      " 20  IVF_시술_횟수              2176 non-null   object\n",
      " 21  DI_시술_횟수               2176 non-null   object\n",
      " 22  총_임신_횟수                2176 non-null   object\n",
      " 23  IVF_임신_횟수              2176 non-null   object\n",
      " 24  DI_임신_횟수               2176 non-null   object\n",
      " 25  총_출산_횟수                2176 non-null   object\n",
      " 26  IVF_출산_횟수              2176 non-null   object\n",
      " 27  DI_출산_횟수               2176 non-null   object\n",
      " 28  정자_기증자_나이              2176 non-null   object\n",
      "dtypes: int64(14), object(15)\n",
      "memory usage: 510.0+ KB\n"
     ]
    }
   ],
   "source": [
    "test.info()"
   ]
  },
  {
   "cell_type": "code",
   "execution_count": 490,
   "metadata": {},
   "outputs": [],
   "source": [
    "X = train.drop('임신_성공_여부', axis=1)\n",
    "y = train['임신_성공_여부']"
   ]
  },
  {
   "cell_type": "markdown",
   "metadata": {},
   "source": [
    "### 인코딩 "
   ]
  },
  {
   "cell_type": "code",
   "execution_count": 491,
   "metadata": {},
   "outputs": [],
   "source": [
    "categorical_columns = [\n",
    "    \"시술_시기_코드\", \n",
    "    \"시술_당시_나이\", \n",
    "    \"임신_시도_또는_마지막_임신_경과_연수\", \n",
    "    \"특정_시술_유형\", \n",
    "    \"총_시술_횟수\", \n",
    "    \"클리닉_내_총_시술_횟수\", \n",
    "    \"IVF_시술_횟수\", \n",
    "    \"DI_시술_횟수\", \n",
    "    \"총_임신_횟수\", \n",
    "    \"IVF_임신_횟수\", \n",
    "    \"DI_임신_횟수\", \n",
    "    \"총_출산_횟수\", \n",
    "    \"IVF_출산_횟수\", \n",
    "    \"DI_출산_횟수\",\n",
    "    \"정자_기증자_나이\"\n",
    "]"
   ]
  },
  {
   "cell_type": "code",
   "execution_count": 492,
   "metadata": {},
   "outputs": [],
   "source": [
    "# 모든 범주형 변수를 문자열로 변환\n",
    "X[categorical_columns] = X[categorical_columns].astype(str)"
   ]
  },
  {
   "cell_type": "code",
   "execution_count": 493,
   "metadata": {},
   "outputs": [],
   "source": [
    "# OrdinalEncoder를 사용하여 범주형 변수 인코딩\n",
    "ordinal_encoder = OrdinalEncoder(handle_unknown='use_encoded_value', unknown_value=-1)\n",
    "\n",
    "X[categorical_columns] = ordinal_encoder.fit_transform(X[categorical_columns])\n",
    "\n",
    "# 데이터 분할\n",
    "X_train, X_test, y_train, y_test = train_test_split(X, y, test_size=0.2, random_state=42)"
   ]
  },
  {
   "cell_type": "markdown",
   "metadata": {},
   "source": [
    "## Modeling"
   ]
  },
  {
   "cell_type": "code",
   "execution_count": 497,
   "metadata": {},
   "outputs": [
    {
     "name": "stdout",
     "output_type": "stream",
     "text": [
      "[LightGBM] [Info] Number of positive: 639, number of negative: 4393\n",
      "[LightGBM] [Info] Auto-choosing row-wise multi-threading, the overhead of testing was 0.001302 seconds.\n",
      "You can set `force_row_wise=true` to remove the overhead.\n",
      "And if memory is not enough, you can set `force_col_wise=true`.\n",
      "[LightGBM] [Info] Total Bins 121\n",
      "[LightGBM] [Info] Number of data points in the train set: 5032, number of used features: 28\n",
      "[LightGBM] [Info] [binary:BoostFromScore]: pavg=0.126987 -> initscore=-1.927863\n",
      "[LightGBM] [Info] Start training from score -1.927863\n",
      "\n",
      "--- Model Performance ---\n",
      "Model Accuracy: 0.857823669579031\n",
      "Model F1 Score: 0.04278074866310161\n",
      "Model AUC: 0.6516816071543184\n"
     ]
    },
    {
     "data": {
      "image/png": "[encoded data removed]",
      "text/plain": [
       "<Figure size 640x480 with 2 Axes>"
      ]
     },
     "metadata": {},
     "output_type": "display_data"
    }
   ],
   "source": [
    "# 데이터 분할\n",
    "X_train, X_test, y_train, y_test = train_test_split(X, y, test_size=0.2, random_state=42)\n",
    "\n",
    "# 모델 초기화\n",
    "model = lgb.LGBMClassifier(random_state=42)\n",
    "\n",
    "# 모델 학습\n",
    "model.fit(X_train, y_train)\n",
    "\n",
    "# 예측\n",
    "y_pred = model.predict(X_test)\n",
    "y_pred_proba = model.predict_proba(X_test)[:, 1]\n",
    "\n",
    "# 평가\n",
    "accuracy = accuracy_score(y_test, y_pred)\n",
    "f1 = f1_score(y_test, y_pred)\n",
    "auc = roc_auc_score(y_test, y_pred_proba)\n",
    "cm = confusion_matrix(y_test, y_pred)\n",
    "\n",
    "# 결과 출력\n",
    "print()\n",
    "print(\"--- Model Performance ---\")\n",
    "print(f\"Model Accuracy: {accuracy}\")\n",
    "print(f\"Model F1 Score: {f1}\")\n",
    "print(f\"Model AUC: {auc}\")\n",
    "\n",
    "# 혼동 행렬 출력\n",
    "disp = ConfusionMatrixDisplay(confusion_matrix=cm, display_labels=model.classes_)\n",
    "disp.plot(cmap=plt.cm.Blues)\n",
    "plt.show()"
   ]
  },
  {
   "cell_type": "markdown",
   "metadata": {},
   "source": [
    "."
   ]
  }
 ],
 "metadata": {
  "kernelspec": {
   "display_name": "Python 3",
   "language": "python",
   "name": "python3"
  },
  "language_info": {
   "codemirror_mode": {
    "name": "ipython",
    "version": 3
   },
   "file_extension": ".py",
   "mimetype": "text/x-python",
   "name": "python",
   "nbconvert_exporter": "python",
   "pygments_lexer": "ipython3",
   "version": "3.7.8"
  }
 },
 "nbformat": 4,
 "nbformat_minor": 2
}
