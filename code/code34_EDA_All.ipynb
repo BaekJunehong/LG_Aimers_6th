{
 "cells": [
  {
   "cell_type": "markdown",
   "metadata": {},
   "source": [
    "## 난임 환자 대상 임신 성공 여부 예측"
   ]
  },
  {
   "cell_type": "markdown",
   "metadata": {},
   "source": [
    "### LGAimers 6th 온라인 해커톤"
   ]
  },
  {
   "cell_type": "markdown",
   "metadata": {},
   "source": [
    "Import"
   ]
  },
  {
   "cell_type": "code",
   "execution_count": 543,
   "metadata": {},
   "outputs": [],
   "source": [
    "import numpy as np\n",
    "import pandas as pd\n",
    "import seaborn as sns\n",
    "import matplotlib.pyplot as plt\n",
    "\n",
    "import os\n",
    "from pprint import pprint"
   ]
  },
  {
   "cell_type": "code",
   "execution_count": 544,
   "metadata": {},
   "outputs": [],
   "source": [
    "import platform\n",
    "from matplotlib import rc\n",
    "\n",
    "# 운영 체제에 따라 폰트 설정\n",
    "if platform.system() == 'Windows':  # Windows 환경\n",
    "    rc('font', family='Malgun Gothic')  # 맑은 고딕\n",
    "\n",
    "# 음수 표시 가능하도록 설정\n",
    "plt.rcParams['axes.unicode_minus'] = False"
   ]
  },
  {
   "cell_type": "markdown",
   "metadata": {},
   "source": [
    "반복적으로 쓰는 함수툴"
   ]
  },
  {
   "cell_type": "code",
   "execution_count": 545,
   "metadata": {},
   "outputs": [],
   "source": [
    "def plot_box(df, col_name):\n",
    "    \"\"\"\n",
    "    주어진 데이터프레임과 열 이름에 대해 박스 플롯을 그리는 함수.\n",
    "\n",
    "    Parameters:\n",
    "    df (pd.DataFrame): 데이터프레임\n",
    "    col_name (str): 열 이름\n",
    "    \"\"\"\n",
    "    plt.figure(figsize=(7, 4))\n",
    "    plt.boxplot(df[col_name], vert=False)\n",
    "    plt.xlabel(col_name)\n",
    "    plt.title(f'Box Plot of {col_name}')\n",
    "    plt.show()\n",
    "\n",
    "def value_counts_ratio(df, col_name, target_name='임신_성공_여부'):\n",
    "    \"\"\"\n",
    "    주어진 데이터프레임의 특정 열에 대해 각 값마다 타겟 변수의 비율과 갯수, 총 갯수를 출력하는 함수.\n",
    "\n",
    "    Parameters:\n",
    "    df (pd.DataFrame): 데이터프레임\n",
    "    col_name (str): 열 이름\n",
    "    target_name (str): 타겟 변수 이름\n",
    "    \"\"\"\n",
    "    # 각 값마다 타겟 변수의 비율 계산\n",
    "    value_counts = df.groupby(col_name)[target_name].value_counts(normalize=True).unstack().fillna(0)\n",
    "    \n",
    "    # 각 값마다 타겟 변수의 갯수 계산\n",
    "    counts = df.groupby(col_name)[target_name].value_counts().unstack().fillna(0)\n",
    "    \n",
    "    # 각 값마다 총 갯수 계산\n",
    "    total_counts = df[col_name].value_counts().rename('Total_Count')\n",
    "    \n",
    "    # 비율과 갯수를 합침\n",
    "    result = value_counts.join(counts, lsuffix='_ratio', rsuffix='_count')\n",
    "    \n",
    "    # 총 갯수를 합침\n",
    "    result = result.join(total_counts, on=col_name)\n",
    "    \n",
    "    # 출력 형식 조정\n",
    "    result.index.name = 'variable'\n",
    "    print(f\"\\n{col_name}별 {target_name} 비율 및 갯수\\n\")\n",
    "    print(result.rename(columns=lambda x: x.split('_')[0]))\n",
    "\n",
    "def summarize_group(df, group_by_columns):\n",
    "    \"\"\"\n",
    "    주어진 데이터프레임을 특정 열들로 그룹화하여 각 그룹의 '임신_성공_여부' 비율과 갯수를 요약하는 함수.\n",
    "\n",
    "    Parameters:\n",
    "    df (pd.DataFrame): 데이터프레임\n",
    "    group_by_columns (list): 그룹화할 열 이름들의 리스트\n",
    "    \"\"\"\n",
    "    # 데이터프레임을 그룹화\n",
    "    grouped_df = df.groupby(group_by_columns)\n",
    "    \n",
    "    # 결과를 저장할 리스트 초기화\n",
    "    results = []\n",
    "    \n",
    "    # 그룹화된 데이터프레임의 내용을 확인하는 코드\n",
    "    for name, group in grouped_df:\n",
    "        # 그룹의 갯수 계산\n",
    "        group_count = group.shape[0]\n",
    "        \n",
    "        # '임신_성공_여부' 변수의 '임신 성공' 비율과 갯수 계산\n",
    "        success_count = group['임신_성공_여부'].value_counts().get(1, 0)\n",
    "        success_ratio = success_count / group_count\n",
    "        \n",
    "        # 결과 리스트에 추가\n",
    "        results.append([name, success_count, success_ratio, group_count])\n",
    "    \n",
    "    # 결과 리스트를 데이터프레임으로 변환\n",
    "    results_df = pd.DataFrame(results, columns=['group', \"'임신_성공_여부' count\", 'ratio', 'Total'])\n",
    "    \n",
    "    # 그룹화된 변수들의 이름을 제목행으로 출력\n",
    "    print(f\"Grouped by: {', '.join(group_by_columns)}\")\n",
    "    print()\n",
    "    # 데이터프레임 출력\n",
    "    print(results_df)\n",
    "\n",
    "def plot_ratio(df, group_by_column, target_column='임신_성공_여부', success_value=1):\n",
    "    \"\"\"\n",
    "    주어진 데이터프레임을 특정 열로 그룹화하여 각 그룹의 타겟 변수의 성공 비율을 시각화하는 함수.\n",
    "\n",
    "    Parameters:\n",
    "    df (pd.DataFrame): 데이터프레임\n",
    "    group_by_column (str): 그룹화할 열 이름\n",
    "    target_column (str): 타겟 변수 이름\n",
    "    success_value (int): 타겟 변수의 성공을 나타내는 값\n",
    "    \"\"\"\n",
    "    # 데이터프레임을 그룹화\n",
    "    grouped_df = df.groupby(group_by_column)\n",
    "    \n",
    "    # 결과를 저장할 리스트 초기화\n",
    "    results = []\n",
    "    \n",
    "    # 그룹화된 데이터프레임의 내용을 확인하는 코드\n",
    "    for name, group in grouped_df:\n",
    "        # 그룹의 갯수 계산\n",
    "        group_count = group.shape[0]\n",
    "        \n",
    "        # '임신_성공_여부' 변수의 '성공' 비율과 갯수 계산\n",
    "        success_count = group[target_column].value_counts().get(success_value, 0)\n",
    "        success_ratio = success_count / group_count\n",
    "        \n",
    "        # 결과 리스트에 추가\n",
    "        results.append([name, success_count, success_ratio, group_count])\n",
    "    \n",
    "    # 결과 리스트를 데이터프레임으로 변환\n",
    "    results_df = pd.DataFrame(results, columns=['group', f\"'{success_value}' count\", 'ratio', 'Total'])\n",
    "    \n",
    "    # 그래프 크기 설정\n",
    "    plt.figure(figsize=(10, 5))\n",
    "    \n",
    "    # 막대 그래프 생성\n",
    "    ax = results_df.plot(kind='bar', x='group', y='ratio', legend=False)\n",
    "    \n",
    "    # 각 막대 위에 임신 성공 여부 갯수와 총 갯수 표시\n",
    "    for i, (success_count, total) in enumerate(zip(results_df[f\"'{success_value}' count\"], results_df['Total'])):\n",
    "        ax.text(i, results_df['ratio'][i], f'{success_count} ({total})', ha='center', va='bottom', fontsize=8)\n",
    "    \n",
    "    # 그래프 제목 및 축 레이블 설정\n",
    "    ax.set_title(f'{success_value} Ratio by {group_by_column}')\n",
    "    ax.set_xlabel(group_by_column)\n",
    "    ax.set_ylabel(f'{success_value} Ratio')\n",
    "   \n",
    "    # 그래프 출력\n",
    "    plt.show()\n",
    "\n",
    "def plot_ratio_boxplot(data, column_name, target_column='임신_성공_여부'):\n",
    "    \"\"\"\n",
    "    주어진 데이터프레임의 특정 열과 타겟 변수 간의 관계를 박스 플롯으로 시각화하는 함수.\n",
    "\n",
    "    Parameters:\n",
    "    data (pd.DataFrame): 데이터프레임\n",
    "    column_name (str): 열 이름\n",
    "    target_column (str): 타겟 변수 이름\n",
    "    \"\"\"\n",
    "\n",
    "    # 그래프 그리기\n",
    "    plt.figure(figsize=(10, 6))\n",
    "    sns.boxplot(x=column_name, y=target_column, data=data)\n",
    "\n",
    "    # 그래프 제목 및 레이블 설정\n",
    "    plt.title(f'{column_name} vs {target_column}')\n",
    "    plt.xlabel(column_name)\n",
    "    plt.ylabel(target_column)\n",
    "\n",
    "    # 그래프 출력\n",
    "    plt.show()"
   ]
  },
  {
   "cell_type": "markdown",
   "metadata": {},
   "source": [
    "### Data Load"
   ]
  },
  {
   "cell_type": "code",
   "execution_count": 546,
   "metadata": {},
   "outputs": [
    {
     "name": "stdout",
     "output_type": "stream",
     "text": [
      "Index(['ID', '시술_시기_코드', '시술_당시_나이', '임신_시도_또는_마지막_임신_경과_연수', '시술_유형',\n",
      "       '특정_시술_유형', '배란_자극_여부', '배란_유도_유형', '단일_배아_이식_여부', '착상_전_유전_검사_사용_여부',\n",
      "       '착상_전_유전_진단_사용_여부', '남성_주_불임_원인', '남성_부_불임_원인', '여성_주_불임_원인',\n",
      "       '여성_부_불임_원인', '부부_주_불임_원인', '부부_부_불임_원인', '불명확_불임_원인', '불임_원인_-_난관_질환',\n",
      "       '불임_원인_-_남성_요인', '불임_원인_-_배란_장애', '불임_원인_-_여성_요인', '불임_원인_-_자궁경부_문제',\n",
      "       '불임_원인_-_자궁내막증', '불임_원인_-_정자_농도', '불임_원인_-_정자_면역학적_요인',\n",
      "       '불임_원인_-_정자_운동성', '불임_원인_-_정자_형태', '배아_생성_주요_이유', '총_시술_횟수',\n",
      "       '클리닉_내_총_시술_횟수', 'IVF_시술_횟수', 'DI_시술_횟수', '총_임신_횟수', 'IVF_임신_횟수',\n",
      "       'DI_임신_횟수', '총_출산_횟수', 'IVF_출산_횟수', 'DI_출산_횟수', '총_생성_배아_수',\n",
      "       '미세주입된_난자_수', '미세주입에서_생성된_배아_수', '이식된_배아_수', '미세주입_배아_이식_수', '저장된_배아_수',\n",
      "       '미세주입_후_저장된_배아_수', '해동된_배아_수', '해동_난자_수', '수집된_신선_난자_수', '저장된_신선_난자_수',\n",
      "       '혼합된_난자_수', '파트너_정자와_혼합된_난자_수', '기증자_정자와_혼합된_난자_수', '난자_출처', '정자_출처',\n",
      "       '난자_기증자_나이', '정자_기증자_나이', '동결_배아_사용_여부', '신선_배아_사용_여부', '기증_배아_사용_여부',\n",
      "       '대리모_여부', 'PGD_시술_여부', 'PGS_시술_여부', '난자_채취_경과일', '난자_해동_경과일',\n",
      "       '난자_혼합_경과일', '배아_이식_경과일', '배아_해동_경과일', '임신_성공_여부'],\n",
      "      dtype='object')\n"
     ]
    }
   ],
   "source": [
    "# 데이터 로드\n",
    "train = pd.read_csv('../data/train.csv')\n",
    "test = pd.read_csv('../data/test.csv')\n",
    "\n",
    "# 변수명에서 공백을 밑줄로 대체\n",
    "train.columns = train.columns.str.replace(' ', '_')\n",
    "test.columns = test.columns.str.replace(' ', '_')\n",
    "\n",
    "# 변경된 변수명 확인\n",
    "print(train.columns)"
   ]
  },
  {
   "cell_type": "code",
   "execution_count": 547,
   "metadata": {},
   "outputs": [
    {
     "name": "stdout",
     "output_type": "stream",
     "text": [
      "<class 'pandas.core.frame.DataFrame'>\n",
      "RangeIndex: 256351 entries, 0 to 256350\n",
      "Data columns (total 69 columns):\n",
      " #   Column                 Non-Null Count   Dtype  \n",
      "---  ------                 --------------   -----  \n",
      " 0   ID                     256351 non-null  object \n",
      " 1   시술_시기_코드               256351 non-null  object \n",
      " 2   시술_당시_나이               256351 non-null  object \n",
      " 3   임신_시도_또는_마지막_임신_경과_연수  9370 non-null    float64\n",
      " 4   시술_유형                  256351 non-null  object \n",
      " 5   특정_시술_유형               256349 non-null  object \n",
      " 6   배란_자극_여부               256351 non-null  int64  \n",
      " 7   배란_유도_유형               256351 non-null  object \n",
      " 8   단일_배아_이식_여부            250060 non-null  float64\n",
      " 9   착상_전_유전_검사_사용_여부       2718 non-null    float64\n",
      " 10  착상_전_유전_진단_사용_여부       250060 non-null  float64\n",
      " 11  남성_주_불임_원인             256351 non-null  int64  \n",
      " 12  남성_부_불임_원인             256351 non-null  int64  \n",
      " 13  여성_주_불임_원인             256351 non-null  int64  \n",
      " 14  여성_부_불임_원인             256351 non-null  int64  \n",
      " 15  부부_주_불임_원인             256351 non-null  int64  \n",
      " 16  부부_부_불임_원인             256351 non-null  int64  \n",
      " 17  불명확_불임_원인              256351 non-null  int64  \n",
      " 18  불임_원인_-_난관_질환          256351 non-null  int64  \n",
      " 19  불임_원인_-_남성_요인          256351 non-null  int64  \n",
      " 20  불임_원인_-_배란_장애          256351 non-null  int64  \n",
      " 21  불임_원인_-_여성_요인          256351 non-null  int64  \n",
      " 22  불임_원인_-_자궁경부_문제        256351 non-null  int64  \n",
      " 23  불임_원인_-_자궁내막증          256351 non-null  int64  \n",
      " 24  불임_원인_-_정자_농도          256351 non-null  int64  \n",
      " 25  불임_원인_-_정자_면역학적_요인     256351 non-null  int64  \n",
      " 26  불임_원인_-_정자_운동성         256351 non-null  int64  \n",
      " 27  불임_원인_-_정자_형태          256351 non-null  int64  \n",
      " 28  배아_생성_주요_이유            250060 non-null  object \n",
      " 29  총_시술_횟수                256351 non-null  object \n",
      " 30  클리닉_내_총_시술_횟수          256351 non-null  object \n",
      " 31  IVF_시술_횟수              256351 non-null  object \n",
      " 32  DI_시술_횟수               256351 non-null  object \n",
      " 33  총_임신_횟수                256351 non-null  object \n",
      " 34  IVF_임신_횟수              256351 non-null  object \n",
      " 35  DI_임신_횟수               256351 non-null  object \n",
      " 36  총_출산_횟수                256351 non-null  object \n",
      " 37  IVF_출산_횟수              256351 non-null  object \n",
      " 38  DI_출산_횟수               256351 non-null  object \n",
      " 39  총_생성_배아_수              250060 non-null  float64\n",
      " 40  미세주입된_난자_수             250060 non-null  float64\n",
      " 41  미세주입에서_생성된_배아_수        250060 non-null  float64\n",
      " 42  이식된_배아_수               250060 non-null  float64\n",
      " 43  미세주입_배아_이식_수           250060 non-null  float64\n",
      " 44  저장된_배아_수               250060 non-null  float64\n",
      " 45  미세주입_후_저장된_배아_수        250060 non-null  float64\n",
      " 46  해동된_배아_수               250060 non-null  float64\n",
      " 47  해동_난자_수                250060 non-null  float64\n",
      " 48  수집된_신선_난자_수            250060 non-null  float64\n",
      " 49  저장된_신선_난자_수            250060 non-null  float64\n",
      " 50  혼합된_난자_수               250060 non-null  float64\n",
      " 51  파트너_정자와_혼합된_난자_수       250060 non-null  float64\n",
      " 52  기증자_정자와_혼합된_난자_수       250060 non-null  float64\n",
      " 53  난자_출처                  256351 non-null  object \n",
      " 54  정자_출처                  256351 non-null  object \n",
      " 55  난자_기증자_나이              256351 non-null  object \n",
      " 56  정자_기증자_나이              256351 non-null  object \n",
      " 57  동결_배아_사용_여부            250060 non-null  float64\n",
      " 58  신선_배아_사용_여부            250060 non-null  float64\n",
      " 59  기증_배아_사용_여부            250060 non-null  float64\n",
      " 60  대리모_여부                 250060 non-null  float64\n",
      " 61  PGD_시술_여부              2179 non-null    float64\n",
      " 62  PGS_시술_여부              1929 non-null    float64\n",
      " 63  난자_채취_경과일              198863 non-null  float64\n",
      " 64  난자_해동_경과일              1436 non-null    float64\n",
      " 65  난자_혼합_경과일              202616 non-null  float64\n",
      " 66  배아_이식_경과일              212785 non-null  float64\n",
      " 67  배아_해동_경과일              40369 non-null   float64\n",
      " 68  임신_성공_여부               256351 non-null  int64  \n",
      "dtypes: float64(29), int64(19), object(21)\n",
      "memory usage: 135.0+ MB\n"
     ]
    }
   ],
   "source": [
    "train.info(verbose=True)"
   ]
  },
  {
   "cell_type": "code",
   "execution_count": 548,
   "metadata": {},
   "outputs": [
    {
     "name": "stdout",
     "output_type": "stream",
     "text": [
      "<class 'pandas.core.frame.DataFrame'>\n",
      "RangeIndex: 90067 entries, 0 to 90066\n",
      "Data columns (total 68 columns):\n",
      " #   Column                 Non-Null Count  Dtype  \n",
      "---  ------                 --------------  -----  \n",
      " 0   ID                     90067 non-null  object \n",
      " 1   시술_시기_코드               90067 non-null  object \n",
      " 2   시술_당시_나이               90067 non-null  object \n",
      " 3   임신_시도_또는_마지막_임신_경과_연수  3297 non-null   float64\n",
      " 4   시술_유형                  90067 non-null  object \n",
      " 5   특정_시술_유형               90067 non-null  object \n",
      " 6   배란_자극_여부               90067 non-null  int64  \n",
      " 7   배란_유도_유형               90067 non-null  object \n",
      " 8   단일_배아_이식_여부            87891 non-null  float64\n",
      " 9   착상_전_유전_검사_사용_여부       933 non-null    float64\n",
      " 10  착상_전_유전_진단_사용_여부       87891 non-null  float64\n",
      " 11  남성_주_불임_원인             90067 non-null  int64  \n",
      " 12  남성_부_불임_원인             90067 non-null  int64  \n",
      " 13  여성_주_불임_원인             90067 non-null  int64  \n",
      " 14  여성_부_불임_원인             90067 non-null  int64  \n",
      " 15  부부_주_불임_원인             90067 non-null  int64  \n",
      " 16  부부_부_불임_원인             90067 non-null  int64  \n",
      " 17  불명확_불임_원인              90067 non-null  int64  \n",
      " 18  불임_원인_-_난관_질환          90067 non-null  int64  \n",
      " 19  불임_원인_-_남성_요인          90067 non-null  int64  \n",
      " 20  불임_원인_-_배란_장애          90067 non-null  int64  \n",
      " 21  불임_원인_-_여성_요인          90067 non-null  int64  \n",
      " 22  불임_원인_-_자궁경부_문제        90067 non-null  int64  \n",
      " 23  불임_원인_-_자궁내막증          90067 non-null  int64  \n",
      " 24  불임_원인_-_정자_농도          90067 non-null  int64  \n",
      " 25  불임_원인_-_정자_면역학적_요인     90067 non-null  int64  \n",
      " 26  불임_원인_-_정자_운동성         90067 non-null  int64  \n",
      " 27  불임_원인_-_정자_형태          90067 non-null  int64  \n",
      " 28  배아_생성_주요_이유            87891 non-null  object \n",
      " 29  총_시술_횟수                90067 non-null  object \n",
      " 30  클리닉_내_총_시술_횟수          90067 non-null  object \n",
      " 31  IVF_시술_횟수              90067 non-null  object \n",
      " 32  DI_시술_횟수               90067 non-null  object \n",
      " 33  총_임신_횟수                90067 non-null  object \n",
      " 34  IVF_임신_횟수              90067 non-null  object \n",
      " 35  DI_임신_횟수               90067 non-null  object \n",
      " 36  총_출산_횟수                90067 non-null  object \n",
      " 37  IVF_출산_횟수              90067 non-null  object \n",
      " 38  DI_출산_횟수               90067 non-null  object \n",
      " 39  총_생성_배아_수              87891 non-null  float64\n",
      " 40  미세주입된_난자_수             87891 non-null  float64\n",
      " 41  미세주입에서_생성된_배아_수        87891 non-null  float64\n",
      " 42  이식된_배아_수               87891 non-null  float64\n",
      " 43  미세주입_배아_이식_수           87891 non-null  float64\n",
      " 44  저장된_배아_수               87891 non-null  float64\n",
      " 45  미세주입_후_저장된_배아_수        87891 non-null  float64\n",
      " 46  해동된_배아_수               87891 non-null  float64\n",
      " 47  해동_난자_수                87891 non-null  float64\n",
      " 48  수집된_신선_난자_수            87891 non-null  float64\n",
      " 49  저장된_신선_난자_수            87891 non-null  float64\n",
      " 50  혼합된_난자_수               87891 non-null  float64\n",
      " 51  파트너_정자와_혼합된_난자_수       87891 non-null  float64\n",
      " 52  기증자_정자와_혼합된_난자_수       87891 non-null  float64\n",
      " 53  난자_출처                  90067 non-null  object \n",
      " 54  정자_출처                  90067 non-null  object \n",
      " 55  난자_기증자_나이              90067 non-null  object \n",
      " 56  정자_기증자_나이              90067 non-null  object \n",
      " 57  동결_배아_사용_여부            87891 non-null  float64\n",
      " 58  신선_배아_사용_여부            87891 non-null  float64\n",
      " 59  기증_배아_사용_여부            87891 non-null  float64\n",
      " 60  대리모_여부                 87891 non-null  float64\n",
      " 61  PGD_시술_여부              781 non-null    float64\n",
      " 62  PGS_시술_여부              671 non-null    float64\n",
      " 63  난자_채취_경과일              70118 non-null  float64\n",
      " 64  난자_해동_경과일              492 non-null    float64\n",
      " 65  난자_혼합_경과일              71488 non-null  float64\n",
      " 66  배아_이식_경과일              74821 non-null  float64\n",
      " 67  배아_해동_경과일              13950 non-null  float64\n",
      "dtypes: float64(29), int64(18), object(21)\n",
      "memory usage: 46.7+ MB\n"
     ]
    }
   ],
   "source": [
    "test.info()"
   ]
  },
  {
   "cell_type": "code",
   "execution_count": 549,
   "metadata": {},
   "outputs": [
    {
     "data": {
      "image/png": "[encoded data removed]",
      "text/plain": [
       "<Figure size 640x480 with 1 Axes>"
      ]
     },
     "metadata": {},
     "output_type": "display_data"
    }
   ],
   "source": [
    "import matplotlib.pyplot as plt\n",
    "import pandas as pd\n",
    "\n",
    "# '임신_성공_여부' 변수의 값 개수 계산\n",
    "value_counts = train['임신_성공_여부'].value_counts()\n",
    "\n",
    "# 라벨 변경\n",
    "labels = {1: '1(임신 성공)', 0: '0(임신 실패)'}\n",
    "value_counts.index = value_counts.index.map(labels)\n",
    "\n",
    "# 도넛 차트 그리기\n",
    "fig, ax = plt.subplots()\n",
    "\n",
    "# 파이 차트 그리기\n",
    "wedges, texts, autotexts = ax.pie(value_counts, labels=value_counts.index, autopct='%1.1f%%', startangle=90, wedgeprops=dict(width=0.5))\n",
    "\n",
    "# 도넛 차트 가운데에 원 그리기\n",
    "centre_circle = plt.Circle((0, 0), 0.70, fc='white')\n",
    "fig.gca().add_artist(centre_circle)\n",
    "\n",
    "# 차트 제목 설정\n",
    "ax.set_title('임신 성공 여부 도넛 차트')\n",
    "\n",
    "# 차트 표시\n",
    "plt.show()"
   ]
  },
  {
   "cell_type": "markdown",
   "metadata": {},
   "source": [
    "## EDA"
   ]
  },
  {
   "cell_type": "markdown",
   "metadata": {},
   "source": [
    "### 1. 시술_시기_코드"
   ]
  },
  {
   "cell_type": "markdown",
   "metadata": {},
   "source": [
    "난임 시술을 받은 시기를 기준으로 코드 부여"
   ]
  },
  {
   "cell_type": "code",
   "execution_count": 550,
   "metadata": {},
   "outputs": [
    {
     "name": "stdout",
     "output_type": "stream",
     "text": [
      "\n",
      "시술_시기_코드별 임신_성공_여부 비율 및 갯수\n",
      "\n",
      "                 0         1      0     1  Total\n",
      "variable                                        \n",
      "TRCMWS    0.742583  0.257417  28285  9805  38090\n",
      "TRDQAZ    0.754574  0.245426  29405  9564  38969\n",
      "TRJXFG    0.733729  0.266271  26437  9594  36031\n",
      "TRVNRY    0.740221  0.259779  26776  9397  36173\n",
      "TRXQMD    0.743878  0.256122  25910  8921  34831\n",
      "TRYBLT    0.730913  0.269087  26834  9879  36713\n",
      "TRZKPL    0.744880  0.255120  26476  9068  35544\n"
     ]
    }
   ],
   "source": [
    "value_counts_ratio(train, '시술_시기_코드')"
   ]
  },
  {
   "cell_type": "code",
   "execution_count": 551,
   "metadata": {},
   "outputs": [],
   "source": [
    "# # 원핫인코딩\n",
    "# train = pd.get_dummies(train, columns=['시술_시기_코드'], prefix='시술_시기_코드')\n",
    "# test = pd.get_dummies(test, columns=['시술_시기_코드'], prefix='시술_시기_코드')"
   ]
  },
  {
   "cell_type": "markdown",
   "metadata": {},
   "source": [
    "### 2. 시술 당시 나이"
   ]
  },
  {
   "cell_type": "markdown",
   "metadata": {},
   "source": [
    "환자의 시술 당시 나이(연령대)"
   ]
  },
  {
   "cell_type": "code",
   "execution_count": 552,
   "metadata": {},
   "outputs": [
    {
     "name": "stdout",
     "output_type": "stream",
     "text": [
      "\n",
      "시술_당시_나이별 임신_성공_여부 비율 및 갯수\n",
      "\n",
      "                 0         1        0        1   Total\n",
      "variable                                              \n",
      "만18-34세   0.677378  0.322622  69415.0  33061.0  102476\n",
      "만35-37세   0.721599  0.278401  41694.0  16086.0   57780\n",
      "만38-39세   0.782862  0.217138  30725.0   8522.0   39247\n",
      "만40-42세   0.840607  0.159393  31395.0   5953.0   37348\n",
      "만43-44세   0.881988  0.118012  10807.0   1446.0   12253\n",
      "만45-50세   0.832321  0.167679   5758.0   1160.0    6918\n",
      "알 수 없음    1.000000  0.000000    329.0      0.0     329\n"
     ]
    }
   ],
   "source": [
    "value_counts_ratio(train, '시술_당시_나이')"
   ]
  },
  {
   "cell_type": "code",
   "execution_count": 553,
   "metadata": {},
   "outputs": [],
   "source": [
    "# # '알 수 없음'인 행만 추출하여 새로운 데이터셋 생성\n",
    "# unknown_age_dataset = train[train['시술_당시_나이'] == '알 수 없음']"
   ]
  },
  {
   "cell_type": "code",
   "execution_count": 554,
   "metadata": {},
   "outputs": [
    {
     "data": {
      "text/plain": [
       "만18-34세    36178\n",
       "만35-37세    20211\n",
       "만38-39세    13611\n",
       "만40-42세    13266\n",
       "만43-44세     4272\n",
       "만45-50세     2413\n",
       "알 수 없음       116\n",
       "Name: 시술_당시_나이, dtype: int64"
      ]
     },
     "execution_count": 554,
     "metadata": {},
     "output_type": "execute_result"
    }
   ],
   "source": [
    "test['시술_당시_나이'].value_counts()"
   ]
  },
  {
   "cell_type": "markdown",
   "metadata": {},
   "source": [
    "### 3. 임신 시도 또는 마지막 임신 경과 일수"
   ]
  },
  {
   "cell_type": "markdown",
   "metadata": {},
   "source": [
    "환자가 처음 임신을 시도한 시점 또는 마지막 임신 이후 현재까지의 경과 연수 (년 단위)"
   ]
  },
  {
   "cell_type": "code",
   "execution_count": 555,
   "metadata": {},
   "outputs": [
    {
     "name": "stdout",
     "output_type": "stream",
     "text": [
      "\n",
      "임신_시도_또는_마지막_임신_경과_연수별 임신_성공_여부 비율 및 갯수\n",
      "\n",
      "                 0         1    0    1  Total\n",
      "variable                                     \n",
      "0.0       0.666667  0.333333    8    4     12\n",
      "1.0       0.666667  0.333333    4    2      6\n",
      "2.0       0.809524  0.190476   17    4     21\n",
      "3.0       0.752809  0.247191   67   22     89\n",
      "4.0       0.757377  0.242623  231   74    305\n",
      "5.0       0.754335  0.245665  522  170    692\n",
      "6.0       0.750757  0.249243  744  247    991\n",
      "7.0       0.764415  0.235585  928  286   1214\n",
      "8.0       0.784864  0.215136  923  253   1176\n",
      "9.0       0.795699  0.204301  814  209   1023\n",
      "10.0      0.778247  0.221753  737  210    947\n",
      "11.0      0.810271  0.189729  568  133    701\n",
      "12.0      0.780392  0.219608  398  112    510\n",
      "13.0      0.837838  0.162162  403   78    481\n",
      "14.0      0.776435  0.223565  257   74    331\n",
      "15.0      0.791339  0.208661  201   53    254\n",
      "16.0      0.846535  0.153465  171   31    202\n",
      "17.0      0.821429  0.178571  115   25    140\n",
      "18.0      0.839623  0.160377   89   17    106\n",
      "19.0      0.848837  0.151163   73   13     86\n",
      "20.0      0.831325  0.168675   69   14     83\n"
     ]
    }
   ],
   "source": [
    "value_counts_ratio(train, '임신_시도_또는_마지막_임신_경과_연수')"
   ]
  },
  {
   "cell_type": "code",
   "execution_count": 556,
   "metadata": {},
   "outputs": [
    {
     "name": "stdout",
     "output_type": "stream",
     "text": [
      "결측값 개수: 246981\n",
      "결측값 개수: 0\n"
     ]
    }
   ],
   "source": [
    "print(\"결측값 개수:\", train['임신_시도_또는_마지막_임신_경과_연수'].isnull().sum())\n",
    "\n",
    "train['임신_시도_또는_마지막_임신_경과_연수'].fillna(-1, inplace=True)\n",
    "test['임신_시도_또는_마지막_임신_경과_연수'].fillna(-1, inplace=True)\n",
    "\n",
    "print(\"결측값 개수:\", train['임신_시도_또는_마지막_임신_경과_연수'].isnull().sum())"
   ]
  },
  {
   "cell_type": "code",
   "execution_count": 557,
   "metadata": {},
   "outputs": [
    {
     "name": "stdout",
     "output_type": "stream",
     "text": [
      "\n",
      "임신_시도_또는_마지막_임신_경과_연수별 임신_성공_여부 비율 및 갯수\n",
      "\n",
      "                 0         1       0      1   Total\n",
      "variable                                           \n",
      "-1.0      0.740073  0.259927  182784  64197  246981\n",
      " 0.0      0.666667  0.333333       8      4      12\n",
      " 1.0      0.666667  0.333333       4      2       6\n",
      " 2.0      0.809524  0.190476      17      4      21\n",
      " 3.0      0.752809  0.247191      67     22      89\n",
      " 4.0      0.757377  0.242623     231     74     305\n",
      " 5.0      0.754335  0.245665     522    170     692\n",
      " 6.0      0.750757  0.249243     744    247     991\n",
      " 7.0      0.764415  0.235585     928    286    1214\n",
      " 8.0      0.784864  0.215136     923    253    1176\n",
      " 9.0      0.795699  0.204301     814    209    1023\n",
      " 10.0     0.778247  0.221753     737    210     947\n",
      " 11.0     0.810271  0.189729     568    133     701\n",
      " 12.0     0.780392  0.219608     398    112     510\n",
      " 13.0     0.837838  0.162162     403     78     481\n",
      " 14.0     0.776435  0.223565     257     74     331\n",
      " 15.0     0.791339  0.208661     201     53     254\n",
      " 16.0     0.846535  0.153465     171     31     202\n",
      " 17.0     0.821429  0.178571     115     25     140\n",
      " 18.0     0.839623  0.160377      89     17     106\n",
      " 19.0     0.848837  0.151163      73     13      86\n",
      " 20.0     0.831325  0.168675      69     14      83\n"
     ]
    }
   ],
   "source": [
    "value_counts_ratio(train, '임신_시도_또는_마지막_임신_경과_연수')"
   ]
  },
  {
   "cell_type": "code",
   "execution_count": 558,
   "metadata": {},
   "outputs": [],
   "source": [
    "# dataset = train[train['임신_시도_또는_마지막_임신_경과_연수'] == -1.0]"
   ]
  },
  {
   "cell_type": "markdown",
   "metadata": {},
   "source": [
    "### 4. 시술_유형"
   ]
  },
  {
   "cell_type": "markdown",
   "metadata": {},
   "source": [
    "IVF 또는 DI 시술 여부"
   ]
  },
  {
   "cell_type": "code",
   "execution_count": 559,
   "metadata": {},
   "outputs": [
    {
     "name": "stdout",
     "output_type": "stream",
     "text": [
      "\n",
      "시술_유형별 임신_성공_여부 비율 및 갯수\n",
      "\n",
      "                 0         1       0      1   Total\n",
      "variable                                           \n",
      "DI        0.871086  0.128914    5480    811    6291\n",
      "IVF       0.738395  0.261605  184643  65417  250060\n"
     ]
    }
   ],
   "source": [
    "value_counts_ratio(train, '시술_유형')"
   ]
  },
  {
   "cell_type": "code",
   "execution_count": 560,
   "metadata": {},
   "outputs": [
    {
     "data": {
      "text/plain": [
       "IVF    87891\n",
       "DI      2176\n",
       "Name: 시술_유형, dtype: int64"
      ]
     },
     "execution_count": 560,
     "metadata": {},
     "output_type": "execute_result"
    }
   ],
   "source": [
    "test['시술_유형'].value_counts()"
   ]
  },
  {
   "cell_type": "code",
   "execution_count": 561,
   "metadata": {},
   "outputs": [],
   "source": [
    "# 원핫인코딩\n",
    "train = pd.get_dummies(train, columns=['시술_유형'], prefix='시술_유형')\n",
    "test = pd.get_dummies(test, columns=['시술_유형'], prefix='시술_유형')"
   ]
  },
  {
   "cell_type": "code",
   "execution_count": 562,
   "metadata": {},
   "outputs": [
    {
     "name": "stdout",
     "output_type": "stream",
     "text": [
      "Grouped by: 시술_유형_DI, 시술_유형_IVF\n",
      "\n",
      "    group  '임신_성공_여부' count     ratio   Total\n",
      "0  (0, 1)             65417  0.261605  250060\n",
      "1  (1, 0)               811  0.128914    6291\n"
     ]
    }
   ],
   "source": [
    "summarize_group(train, ['시술_유형_DI','시술_유형_IVF'])"
   ]
  },
  {
   "cell_type": "markdown",
   "metadata": {},
   "source": [
    "### 5. 특정_시술_유형"
   ]
  },
  {
   "cell_type": "markdown",
   "metadata": {},
   "source": [
    "IVF – 체외 수정 (시험관 아기 시술)  \n",
    "ICSI – 세포질 내 정자 주입  \n",
    "IUI – 인공 수정 (자궁 내 주입)  \n",
    "ICI – 자궁경부 인공 수정  \n",
    "GIFT – 생식세포 나팔관 이식  \n",
    "FER – 냉동 배아 이식  \n",
    "Generic DI – 기증 정자 주입  \n",
    "IVI – 질 내 인공 수정   \n",
    "BLASTOCYST – 배반포 단계에 이식  \n",
    "AH – 배아를 hatching 시켜주는 과정  \n",
    "Unknown – 시술 유형 정보가 제공되지 않았거나 알 수 없음  \n",
    "\n",
    "(*) 특수 기호의 의미  \n",
    "\"/\" – 복합적인 시술 방법을 의미 (예: ICSI / BLASTOCYST)  \n",
    "\":\" – 동일 시술 내 세부 조합을 의미 (예: ICSI:IVF)  "
   ]
  },
  {
   "cell_type": "code",
   "execution_count": 563,
   "metadata": {},
   "outputs": [
    {
     "name": "stdout",
     "output_type": "stream",
     "text": [
      "Grouped by: 특정_시술_유형\n",
      "\n",
      "                                  group  '임신_성공_여부' count     ratio   Total\n",
      "0                                   FER                 1  0.333333       3\n",
      "1                                  GIFT                 0  0.000000       2\n",
      "2                            Generic DI                12  0.169014      71\n",
      "3                                   ICI                13  0.135417      96\n",
      "4                                  ICSI             33385  0.272825  122368\n",
      "5                             ICSI / AH               167  0.217165     769\n",
      "6                     ICSI / AH:Unknown                 1  0.500000       2\n",
      "7                    ICSI / BLASTOCYST                574  0.356743    1609\n",
      "8               ICSI / BLASTOCYST :ICSI                 1  1.000000       1\n",
      "9   ICSI / BLASTOCYST :IVF / BLASTOCYST                 1  0.250000       4\n",
      "10   ICSI / BLASTOCYST:IVF / BLASTOCYST                 2  0.333333       6\n",
      "11                            ICSI:ICSI                23  0.009939    2314\n",
      "12                             ICSI:IVF               205  0.234822     873\n",
      "13                         ICSI:Unknown                21  0.101449     207\n",
      "14                                  IUI               784  0.128525    6100\n",
      "15                                  IVF             23990  0.261457   91755\n",
      "16                             IVF / AH                59  0.184953     319\n",
      "17                   IVF / AH:ICSI / AH                 0  0.000000       2\n",
      "18                     IVF / BLASTOCYST               457  0.366186    1248\n",
      "19                             IVF:ICSI               111  0.283163     392\n",
      "20                              IVF:IVF                12  0.010471    1146\n",
      "21                          IVF:Unknown                17  0.170000     100\n",
      "22                                  IVI                 2  0.086957      23\n",
      "23                              Unknown              6390  0.237203   26939\n"
     ]
    }
   ],
   "source": [
    "summarize_group(train, ['특정_시술_유형'])"
   ]
  },
  {
   "cell_type": "code",
   "execution_count": 564,
   "metadata": {},
   "outputs": [
    {
     "data": {
      "text/plain": [
       "ICSI                                  43237\n",
       "IVF                                   32350\n",
       "Unknown                                9216\n",
       "IUI                                    2112\n",
       "ICSI:ICSI                               797\n",
       "ICSI / BLASTOCYST                       584\n",
       "IVF:IVF                                 406\n",
       "IVF / BLASTOCYST                        389\n",
       "ICSI:IVF                                298\n",
       "ICSI / AH                               264\n",
       "IVF:ICSI                                133\n",
       "IVF / AH                                105\n",
       "ICSI:Unknown                             68\n",
       "IVF:Unknown                              41\n",
       "ICI                                      28\n",
       "Generic DI                               26\n",
       "IVI                                       8\n",
       "ICSI / BLASTOCYST:IVF / BLASTOCYST        2\n",
       "IUI:ICI                                   2\n",
       "IVF:Unknown:Unknown:Unknown               1\n",
       "Name: 특정_시술_유형, dtype: int64"
      ]
     },
     "execution_count": 564,
     "metadata": {},
     "output_type": "execute_result"
    }
   ],
   "source": [
    "test['특정_시술_유형'].value_counts()"
   ]
  },
  {
   "cell_type": "code",
   "execution_count": 565,
   "metadata": {},
   "outputs": [],
   "source": [
    "# '특정_시술_유형' 변수의 값이 'FER' 또는 'GIFT'인 행 제거\n",
    "train = train.loc[~train['특정_시술_유형'].isin(['FER', 'GIFT'])]\n",
    "# test = test.loc[~test['특정_시술_유형'].isin(['FER', 'GIFT'])]"
   ]
  },
  {
   "cell_type": "code",
   "execution_count": 566,
   "metadata": {},
   "outputs": [],
   "source": [
    "import pandas as pd\n",
    "from sklearn.preprocessing import MultiLabelBinarizer\n",
    "\n",
    "# 시술 유형 수정 함수 정의\n",
    "def clean_procedure(procedure):\n",
    "    if isinstance(procedure, str):\n",
    "        # 공백 제거\n",
    "        procedure = procedure.replace(' ', '')\n",
    "        # 시술 뒤에 Unknown이 붙어있으면 제거\n",
    "        if ':Unknown' in procedure:\n",
    "            procedure = procedure.replace(':Unknown', '')\n",
    "    return procedure\n",
    "\n",
    "# 시술 유형 수정\n",
    "train['특정_시술_유형'] = train['특정_시술_유형'].apply(clean_procedure)\n",
    "test['특정_시술_유형'] = test['특정_시술_유형'].apply(clean_procedure)\n",
    "\n",
    "# 시술 유형 분리 및 원핫 인코딩 함수 정의\n",
    "def process_procedures(df):\n",
    "    # 시술 유형 분리 및 통일\n",
    "    def split_and_unify(procedure):\n",
    "        if isinstance(procedure, str):\n",
    "            parts = procedure.split(':')\n",
    "            unified_parts = []\n",
    "            for part in parts:\n",
    "                sub_parts = part.split('/')\n",
    "                for sub_part in sub_parts:\n",
    "                    if 'ICSI' in sub_part:\n",
    "                        unified_parts.append('ICSI')\n",
    "                    elif 'IVF' in sub_part:\n",
    "                        unified_parts.append('IVF')\n",
    "                    elif 'AH' in sub_part:\n",
    "                        unified_parts.append('AH')\n",
    "                    elif 'BLASTOCYST' in sub_part:\n",
    "                        unified_parts.append('BLASTOCYST')\n",
    "                    else:\n",
    "                        unified_parts.append(sub_part)\n",
    "            return unified_parts\n",
    "        return []\n",
    "\n",
    "    df_split = df['특정_시술_유형'].apply(split_and_unify)\n",
    "    \n",
    "    # MultiLabelBinarizer를 사용하여 원핫 인코딩\n",
    "    mlb = MultiLabelBinarizer()\n",
    "    reasons_encoded = mlb.fit_transform(df_split)\n",
    "    reasons_df = pd.DataFrame(reasons_encoded, columns=[f'특정_시술_유형_{cls}' for cls in mlb.classes_])\n",
    "    \n",
    "    # '특정_시술_유형_Unknown' 변수 제거\n",
    "    if '특정_시술_유형_Unknown' in reasons_df.columns:\n",
    "        reasons_df = reasons_df.drop(columns=['특정_시술_유형_Unknown'])\n",
    "    \n",
    "    # 원래 데이터프레임과 병합\n",
    "    df_encoded = df.drop(columns=['특정_시술_유형']).reset_index(drop=True)\n",
    "    df_encoded = pd.concat([df_encoded, reasons_df], axis=1)\n",
    "    \n",
    "    return df_encoded\n",
    "\n",
    "train = process_procedures(train)\n",
    "test = process_procedures(test)"
   ]
  },
  {
   "cell_type": "code",
   "execution_count": 567,
   "metadata": {},
   "outputs": [
    {
     "name": "stdout",
     "output_type": "stream",
     "text": [
      "<class 'pandas.core.frame.DataFrame'>\n",
      "RangeIndex: 256346 entries, 0 to 256345\n",
      "Data columns (total 77 columns):\n",
      " #   Column                 Non-Null Count   Dtype  \n",
      "---  ------                 --------------   -----  \n",
      " 0   ID                     256346 non-null  object \n",
      " 1   시술_시기_코드               256346 non-null  object \n",
      " 2   시술_당시_나이               256346 non-null  object \n",
      " 3   임신_시도_또는_마지막_임신_경과_연수  256346 non-null  float64\n",
      " 4   배란_자극_여부               256346 non-null  int64  \n",
      " 5   배란_유도_유형               256346 non-null  object \n",
      " 6   단일_배아_이식_여부            250056 non-null  float64\n",
      " 7   착상_전_유전_검사_사용_여부       2718 non-null    float64\n",
      " 8   착상_전_유전_진단_사용_여부       250056 non-null  float64\n",
      " 9   남성_주_불임_원인             256346 non-null  int64  \n",
      " 10  남성_부_불임_원인             256346 non-null  int64  \n",
      " 11  여성_주_불임_원인             256346 non-null  int64  \n",
      " 12  여성_부_불임_원인             256346 non-null  int64  \n",
      " 13  부부_주_불임_원인             256346 non-null  int64  \n",
      " 14  부부_부_불임_원인             256346 non-null  int64  \n",
      " 15  불명확_불임_원인              256346 non-null  int64  \n",
      " 16  불임_원인_-_난관_질환          256346 non-null  int64  \n",
      " 17  불임_원인_-_남성_요인          256346 non-null  int64  \n",
      " 18  불임_원인_-_배란_장애          256346 non-null  int64  \n",
      " 19  불임_원인_-_여성_요인          256346 non-null  int64  \n",
      " 20  불임_원인_-_자궁경부_문제        256346 non-null  int64  \n",
      " 21  불임_원인_-_자궁내막증          256346 non-null  int64  \n",
      " 22  불임_원인_-_정자_농도          256346 non-null  int64  \n",
      " 23  불임_원인_-_정자_면역학적_요인     256346 non-null  int64  \n",
      " 24  불임_원인_-_정자_운동성         256346 non-null  int64  \n",
      " 25  불임_원인_-_정자_형태          256346 non-null  int64  \n",
      " 26  배아_생성_주요_이유            250056 non-null  object \n",
      " 27  총_시술_횟수                256346 non-null  object \n",
      " 28  클리닉_내_총_시술_횟수          256346 non-null  object \n",
      " 29  IVF_시술_횟수              256346 non-null  object \n",
      " 30  DI_시술_횟수               256346 non-null  object \n",
      " 31  총_임신_횟수                256346 non-null  object \n",
      " 32  IVF_임신_횟수              256346 non-null  object \n",
      " 33  DI_임신_횟수               256346 non-null  object \n",
      " 34  총_출산_횟수                256346 non-null  object \n",
      " 35  IVF_출산_횟수              256346 non-null  object \n",
      " 36  DI_출산_횟수               256346 non-null  object \n",
      " 37  총_생성_배아_수              250056 non-null  float64\n",
      " 38  미세주입된_난자_수             250056 non-null  float64\n",
      " 39  미세주입에서_생성된_배아_수        250056 non-null  float64\n",
      " 40  이식된_배아_수               250056 non-null  float64\n",
      " 41  미세주입_배아_이식_수           250056 non-null  float64\n",
      " 42  저장된_배아_수               250056 non-null  float64\n",
      " 43  미세주입_후_저장된_배아_수        250056 non-null  float64\n",
      " 44  해동된_배아_수               250056 non-null  float64\n",
      " 45  해동_난자_수                250056 non-null  float64\n",
      " 46  수집된_신선_난자_수            250056 non-null  float64\n",
      " 47  저장된_신선_난자_수            250056 non-null  float64\n",
      " 48  혼합된_난자_수               250056 non-null  float64\n",
      " 49  파트너_정자와_혼합된_난자_수       250056 non-null  float64\n",
      " 50  기증자_정자와_혼합된_난자_수       250056 non-null  float64\n",
      " 51  난자_출처                  256346 non-null  object \n",
      " 52  정자_출처                  256346 non-null  object \n",
      " 53  난자_기증자_나이              256346 non-null  object \n",
      " 54  정자_기증자_나이              256346 non-null  object \n",
      " 55  동결_배아_사용_여부            250056 non-null  float64\n",
      " 56  신선_배아_사용_여부            250056 non-null  float64\n",
      " 57  기증_배아_사용_여부            250056 non-null  float64\n",
      " 58  대리모_여부                 250056 non-null  float64\n",
      " 59  PGD_시술_여부              2179 non-null    float64\n",
      " 60  PGS_시술_여부              1929 non-null    float64\n",
      " 61  난자_채취_경과일              198860 non-null  float64\n",
      " 62  난자_해동_경과일              1436 non-null    float64\n",
      " 63  난자_혼합_경과일              202613 non-null  float64\n",
      " 64  배아_이식_경과일              212783 non-null  float64\n",
      " 65  배아_해동_경과일              40368 non-null   float64\n",
      " 66  임신_성공_여부               256346 non-null  int64  \n",
      " 67  시술_유형_DI               256346 non-null  uint8  \n",
      " 68  시술_유형_IVF              256346 non-null  uint8  \n",
      " 69  특정_시술_유형_AH            256346 non-null  int32  \n",
      " 70  특정_시술_유형_BLASTOCYST    256346 non-null  int32  \n",
      " 71  특정_시술_유형_GenericDI     256346 non-null  int32  \n",
      " 72  특정_시술_유형_ICI           256346 non-null  int32  \n",
      " 73  특정_시술_유형_ICSI          256346 non-null  int32  \n",
      " 74  특정_시술_유형_IUI           256346 non-null  int32  \n",
      " 75  특정_시술_유형_IVF           256346 non-null  int32  \n",
      " 76  특정_시술_유형_IVI           256346 non-null  int32  \n",
      "dtypes: float64(29), int32(8), int64(19), object(19), uint8(2)\n",
      "memory usage: 139.3+ MB\n"
     ]
    }
   ],
   "source": [
    "train.info()"
   ]
  },
  {
   "cell_type": "code",
   "execution_count": 568,
   "metadata": {},
   "outputs": [
    {
     "name": "stdout",
     "output_type": "stream",
     "text": [
      "<class 'pandas.core.frame.DataFrame'>\n",
      "RangeIndex: 90067 entries, 0 to 90066\n",
      "Data columns (total 76 columns):\n",
      " #   Column                 Non-Null Count  Dtype  \n",
      "---  ------                 --------------  -----  \n",
      " 0   ID                     90067 non-null  object \n",
      " 1   시술_시기_코드               90067 non-null  object \n",
      " 2   시술_당시_나이               90067 non-null  object \n",
      " 3   임신_시도_또는_마지막_임신_경과_연수  90067 non-null  float64\n",
      " 4   배란_자극_여부               90067 non-null  int64  \n",
      " 5   배란_유도_유형               90067 non-null  object \n",
      " 6   단일_배아_이식_여부            87891 non-null  float64\n",
      " 7   착상_전_유전_검사_사용_여부       933 non-null    float64\n",
      " 8   착상_전_유전_진단_사용_여부       87891 non-null  float64\n",
      " 9   남성_주_불임_원인             90067 non-null  int64  \n",
      " 10  남성_부_불임_원인             90067 non-null  int64  \n",
      " 11  여성_주_불임_원인             90067 non-null  int64  \n",
      " 12  여성_부_불임_원인             90067 non-null  int64  \n",
      " 13  부부_주_불임_원인             90067 non-null  int64  \n",
      " 14  부부_부_불임_원인             90067 non-null  int64  \n",
      " 15  불명확_불임_원인              90067 non-null  int64  \n",
      " 16  불임_원인_-_난관_질환          90067 non-null  int64  \n",
      " 17  불임_원인_-_남성_요인          90067 non-null  int64  \n",
      " 18  불임_원인_-_배란_장애          90067 non-null  int64  \n",
      " 19  불임_원인_-_여성_요인          90067 non-null  int64  \n",
      " 20  불임_원인_-_자궁경부_문제        90067 non-null  int64  \n",
      " 21  불임_원인_-_자궁내막증          90067 non-null  int64  \n",
      " 22  불임_원인_-_정자_농도          90067 non-null  int64  \n",
      " 23  불임_원인_-_정자_면역학적_요인     90067 non-null  int64  \n",
      " 24  불임_원인_-_정자_운동성         90067 non-null  int64  \n",
      " 25  불임_원인_-_정자_형태          90067 non-null  int64  \n",
      " 26  배아_생성_주요_이유            87891 non-null  object \n",
      " 27  총_시술_횟수                90067 non-null  object \n",
      " 28  클리닉_내_총_시술_횟수          90067 non-null  object \n",
      " 29  IVF_시술_횟수              90067 non-null  object \n",
      " 30  DI_시술_횟수               90067 non-null  object \n",
      " 31  총_임신_횟수                90067 non-null  object \n",
      " 32  IVF_임신_횟수              90067 non-null  object \n",
      " 33  DI_임신_횟수               90067 non-null  object \n",
      " 34  총_출산_횟수                90067 non-null  object \n",
      " 35  IVF_출산_횟수              90067 non-null  object \n",
      " 36  DI_출산_횟수               90067 non-null  object \n",
      " 37  총_생성_배아_수              87891 non-null  float64\n",
      " 38  미세주입된_난자_수             87891 non-null  float64\n",
      " 39  미세주입에서_생성된_배아_수        87891 non-null  float64\n",
      " 40  이식된_배아_수               87891 non-null  float64\n",
      " 41  미세주입_배아_이식_수           87891 non-null  float64\n",
      " 42  저장된_배아_수               87891 non-null  float64\n",
      " 43  미세주입_후_저장된_배아_수        87891 non-null  float64\n",
      " 44  해동된_배아_수               87891 non-null  float64\n",
      " 45  해동_난자_수                87891 non-null  float64\n",
      " 46  수집된_신선_난자_수            87891 non-null  float64\n",
      " 47  저장된_신선_난자_수            87891 non-null  float64\n",
      " 48  혼합된_난자_수               87891 non-null  float64\n",
      " 49  파트너_정자와_혼합된_난자_수       87891 non-null  float64\n",
      " 50  기증자_정자와_혼합된_난자_수       87891 non-null  float64\n",
      " 51  난자_출처                  90067 non-null  object \n",
      " 52  정자_출처                  90067 non-null  object \n",
      " 53  난자_기증자_나이              90067 non-null  object \n",
      " 54  정자_기증자_나이              90067 non-null  object \n",
      " 55  동결_배아_사용_여부            87891 non-null  float64\n",
      " 56  신선_배아_사용_여부            87891 non-null  float64\n",
      " 57  기증_배아_사용_여부            87891 non-null  float64\n",
      " 58  대리모_여부                 87891 non-null  float64\n",
      " 59  PGD_시술_여부              781 non-null    float64\n",
      " 60  PGS_시술_여부              671 non-null    float64\n",
      " 61  난자_채취_경과일              70118 non-null  float64\n",
      " 62  난자_해동_경과일              492 non-null    float64\n",
      " 63  난자_혼합_경과일              71488 non-null  float64\n",
      " 64  배아_이식_경과일              74821 non-null  float64\n",
      " 65  배아_해동_경과일              13950 non-null  float64\n",
      " 66  시술_유형_DI               90067 non-null  uint8  \n",
      " 67  시술_유형_IVF              90067 non-null  uint8  \n",
      " 68  특정_시술_유형_AH            90067 non-null  int32  \n",
      " 69  특정_시술_유형_BLASTOCYST    90067 non-null  int32  \n",
      " 70  특정_시술_유형_GenericDI     90067 non-null  int32  \n",
      " 71  특정_시술_유형_ICI           90067 non-null  int32  \n",
      " 72  특정_시술_유형_ICSI          90067 non-null  int32  \n",
      " 73  특정_시술_유형_IUI           90067 non-null  int32  \n",
      " 74  특정_시술_유형_IVF           90067 non-null  int32  \n",
      " 75  특정_시술_유형_IVI           90067 non-null  int32  \n",
      "dtypes: float64(29), int32(8), int64(18), object(19), uint8(2)\n",
      "memory usage: 48.3+ MB\n"
     ]
    }
   ],
   "source": [
    "test.info(verbose=True)"
   ]
  },
  {
   "cell_type": "markdown",
   "metadata": {},
   "source": [
    "### 6. 배란_자극_여부"
   ]
  },
  {
   "cell_type": "markdown",
   "metadata": {},
   "source": [
    "배란 자극 치료가 사용되었는지 여부"
   ]
  },
  {
   "cell_type": "code",
   "execution_count": 569,
   "metadata": {},
   "outputs": [
    {
     "name": "stdout",
     "output_type": "stream",
     "text": [
      "\n",
      "배란_자극_여부별 임신_성공_여부 비율 및 갯수\n",
      "\n",
      "                 0         1       0      1   Total\n",
      "variable                                           \n",
      "0         0.768361  0.231639   45049  13581   58630\n",
      "1         0.733729  0.266271  145070  52646  197716\n"
     ]
    }
   ],
   "source": [
    "value_counts_ratio(train, '배란_자극_여부')"
   ]
  },
  {
   "cell_type": "markdown",
   "metadata": {},
   "source": [
    "### 7. 배란_유도_유형"
   ]
  },
  {
   "cell_type": "markdown",
   "metadata": {},
   "source": [
    "사용된 배란 유도 방법 유형"
   ]
  },
  {
   "cell_type": "code",
   "execution_count": 570,
   "metadata": {},
   "outputs": [
    {
     "name": "stdout",
     "output_type": "stream",
     "text": [
      "\n",
      "배란_유도_유형별 임신_성공_여부 비율 및 갯수\n",
      "\n",
      "                     0         1         0        1   Total\n",
      "variable                                                   \n",
      "기록되지 않은 시행    0.731588  0.268412  142242.0  52187.0  194429\n",
      "생식선 자극 호르몬    0.000000  1.000000       0.0      1.0       1\n",
      "세트로타이드 (억제제)  1.000000  0.000000       1.0      0.0       1\n",
      "알 수 없음        0.773254  0.226746   47876.0  14039.0   61915\n"
     ]
    }
   ],
   "source": [
    "value_counts_ratio(train, '배란_유도_유형')"
   ]
  },
  {
   "cell_type": "code",
   "execution_count": 571,
   "metadata": {},
   "outputs": [
    {
     "data": {
      "text/plain": [
       "기록되지 않은 시행    68599\n",
       "알 수 없음        21468\n",
       "Name: 배란_유도_유형, dtype: int64"
      ]
     },
     "execution_count": 571,
     "metadata": {},
     "output_type": "execute_result"
    }
   ],
   "source": [
    "test['배란_유도_유형'].value_counts()"
   ]
  },
  {
   "cell_type": "code",
   "execution_count": 572,
   "metadata": {},
   "outputs": [],
   "source": [
    "# test 데이터에 없는 값 제거\n",
    "train = train.loc[~train['배란_유도_유형'].isin(['생식선 자극 호르몬', '세트로타이드 (억제제)'])]\n",
    "test = test.loc[~test['배란_유도_유형'].isin(['생식선 자극 호르몬', '세트로타이드 (억제제)'])]"
   ]
  },
  {
   "cell_type": "code",
   "execution_count": 573,
   "metadata": {},
   "outputs": [
    {
     "name": "stdout",
     "output_type": "stream",
     "text": [
      "\n",
      "배란_유도_유형별 임신_성공_여부 비율 및 갯수\n",
      "\n",
      "                   0         1       0      1   Total\n",
      "variable                                             \n",
      "기록되지 않은 시행  0.731588  0.268412  142242  52187  194429\n",
      "알 수 없음      0.773254  0.226746   47876  14039   61915\n"
     ]
    }
   ],
   "source": [
    "value_counts_ratio(train, '배란_유도_유형')"
   ]
  },
  {
   "cell_type": "markdown",
   "metadata": {},
   "source": [
    "### 8. 단일_배아_이식_여부"
   ]
  },
  {
   "cell_type": "markdown",
   "metadata": {},
   "source": [
    "선택적으로 단일 배아를 이식했는지 여부"
   ]
  },
  {
   "cell_type": "code",
   "execution_count": 574,
   "metadata": {},
   "outputs": [
    {
     "name": "stdout",
     "output_type": "stream",
     "text": [
      "\n",
      "단일_배아_이식_여부별 임신_성공_여부 비율 및 갯수\n",
      "\n",
      "                 0         1       0      1   Total\n",
      "variable                                           \n",
      "0.0       0.770572  0.229428  147697  43975  191672\n",
      "1.0       0.632764  0.367236   36942  21440   58382\n"
     ]
    }
   ],
   "source": [
    "value_counts_ratio(train, '단일_배아_이식_여부')"
   ]
  },
  {
   "cell_type": "code",
   "execution_count": 575,
   "metadata": {},
   "outputs": [
    {
     "name": "stdout",
     "output_type": "stream",
     "text": [
      "결측값 개수: 6290\n",
      "결측값 개수: 0\n"
     ]
    }
   ],
   "source": [
    "# 결측값 개수 확인\n",
    "print(\"결측값 개수:\", train['단일_배아_이식_여부'].isnull().sum())\n",
    "\n",
    "# 결측값을 0으로 채우기\n",
    "train['단일_배아_이식_여부'].fillna(0, inplace=True)\n",
    "test['단일_배아_이식_여부'].fillna(0, inplace=True)\n",
    "\n",
    "# 결측값 개수 확인\n",
    "print(\"결측값 개수:\", train['단일_배아_이식_여부'].isnull().sum())"
   ]
  },
  {
   "cell_type": "markdown",
   "metadata": {},
   "source": [
    "### 9. 착상_전_유전_검사_사용_여부"
   ]
  },
  {
   "cell_type": "markdown",
   "metadata": {},
   "source": [
    "PGS(착상 전 유전 검사)가 시행되었는지 여부"
   ]
  },
  {
   "cell_type": "code",
   "execution_count": 576,
   "metadata": {},
   "outputs": [
    {
     "name": "stdout",
     "output_type": "stream",
     "text": [
      "\n",
      "착상_전_유전_검사_사용_여부별 임신_성공_여부 비율 및 갯수\n",
      "\n",
      "                 0         1     0    1  Total\n",
      "variable                                      \n",
      "1.0       0.851729  0.148271  2315  403   2718\n"
     ]
    }
   ],
   "source": [
    "value_counts_ratio(train, '착상_전_유전_검사_사용_여부')"
   ]
  },
  {
   "cell_type": "code",
   "execution_count": 577,
   "metadata": {},
   "outputs": [
    {
     "name": "stdout",
     "output_type": "stream",
     "text": [
      "결측값 개수: 253626\n",
      "결측값 개수: 0\n"
     ]
    }
   ],
   "source": [
    "# 결측값 개수 확인\n",
    "print(\"결측값 개수:\", train['착상_전_유전_검사_사용_여부'].isnull().sum())\n",
    "\n",
    "# 결측값을 0으로 채우기\n",
    "train['착상_전_유전_검사_사용_여부'].fillna(0, inplace=True)\n",
    "test['착상_전_유전_검사_사용_여부'].fillna(0, inplace=True)\n",
    "\n",
    "# 결측값 개수 확인\n",
    "print(\"결측값 개수:\", train['착상_전_유전_검사_사용_여부'].isnull().sum())"
   ]
  },
  {
   "cell_type": "code",
   "execution_count": 578,
   "metadata": {},
   "outputs": [
    {
     "name": "stdout",
     "output_type": "stream",
     "text": [
      "\n",
      "착상_전_유전_검사_사용_여부별 임신_성공_여부 비율 및 갯수\n",
      "\n",
      "                 0         1       0      1   Total\n",
      "variable                                           \n",
      "0.0       0.740472  0.259528  187803  65823  253626\n",
      "1.0       0.851729  0.148271    2315    403    2718\n"
     ]
    }
   ],
   "source": [
    "value_counts_ratio(train, '착상_전_유전_검사_사용_여부')"
   ]
  },
  {
   "cell_type": "markdown",
   "metadata": {},
   "source": [
    "### 10. 착상_전_유전_진단_사용_여부"
   ]
  },
  {
   "cell_type": "markdown",
   "metadata": {},
   "source": [
    "PGD(착상 전 유전 진단)가 시행되었는지 여부"
   ]
  },
  {
   "cell_type": "code",
   "execution_count": 579,
   "metadata": {},
   "outputs": [
    {
     "name": "stdout",
     "output_type": "stream",
     "text": [
      "\n",
      "착상_전_유전_진단_사용_여부별 임신_성공_여부 비율 및 갯수\n",
      "\n",
      "                 0         1       0      1   Total\n",
      "variable                                           \n",
      "0.0       0.737497  0.262503  182057  64801  246858\n",
      "1.0       0.807885  0.192115    2582    614    3196\n"
     ]
    }
   ],
   "source": [
    "value_counts_ratio(train, '착상_전_유전_진단_사용_여부')"
   ]
  },
  {
   "cell_type": "code",
   "execution_count": 580,
   "metadata": {},
   "outputs": [
    {
     "name": "stdout",
     "output_type": "stream",
     "text": [
      "결측값 개수: 6290\n",
      "결측값 개수: 0\n"
     ]
    }
   ],
   "source": [
    "# 결측값 개수 확인\n",
    "print(\"결측값 개수:\", train['착상_전_유전_진단_사용_여부'].isnull().sum())\n",
    "\n",
    "# 결측값을 0으로 채우기\n",
    "train['착상_전_유전_진단_사용_여부'].fillna(0, inplace=True)\n",
    "test['착상_전_유전_진단_사용_여부'].fillna(0, inplace=True)\n",
    "\n",
    "# 결측값 개수 확인\n",
    "print(\"결측값 개수:\", train['착상_전_유전_진단_사용_여부'].isnull().sum())"
   ]
  },
  {
   "cell_type": "code",
   "execution_count": 581,
   "metadata": {},
   "outputs": [
    {
     "name": "stdout",
     "output_type": "stream",
     "text": [
      "Grouped by: 착상_전_유전_진단_사용_여부, 착상_전_유전_검사_사용_여부\n",
      "\n",
      "        group  '임신_성공_여부' count     ratio   Total\n",
      "0  (0.0, 0.0)             65211  0.260369  250456\n",
      "1  (0.0, 1.0)               401  0.148960    2692\n",
      "2  (1.0, 0.0)               612  0.193060    3170\n",
      "3  (1.0, 1.0)                 2  0.076923      26\n"
     ]
    }
   ],
   "source": [
    "summarize_group(train, ['착상_전_유전_진단_사용_여부', '착상_전_유전_검사_사용_여부'])"
   ]
  },
  {
   "cell_type": "markdown",
   "metadata": {},
   "source": [
    "### 11. 남성_주_불임_원인"
   ]
  },
  {
   "cell_type": "markdown",
   "metadata": {},
   "source": [
    "남성의 주요 불임 원인 여부"
   ]
  },
  {
   "cell_type": "code",
   "execution_count": 582,
   "metadata": {},
   "outputs": [
    {
     "name": "stdout",
     "output_type": "stream",
     "text": [
      "\n",
      "남성_주_불임_원인별 임신_성공_여부 비율 및 갯수\n",
      "\n",
      "                 0         1       0      1   Total\n",
      "variable                                           \n",
      "0         0.740523  0.259477  184417  64619  249036\n",
      "1         0.780104  0.219896    5701   1607    7308\n"
     ]
    }
   ],
   "source": [
    "value_counts_ratio(train, '남성_주_불임_원인')"
   ]
  },
  {
   "cell_type": "markdown",
   "metadata": {},
   "source": [
    "### 12. 남성_부_불임_원인"
   ]
  },
  {
   "cell_type": "markdown",
   "metadata": {},
   "source": [
    "남성의 부차적 불임 원인 여부"
   ]
  },
  {
   "cell_type": "code",
   "execution_count": 583,
   "metadata": {},
   "outputs": [
    {
     "name": "stdout",
     "output_type": "stream",
     "text": [
      "\n",
      "남성_부_불임_원인별 임신_성공_여부 비율 및 갯수\n",
      "\n",
      "                 0         1       0      1   Total\n",
      "variable                                           \n",
      "0         0.740843  0.259157  187420  65562  252982\n",
      "1         0.802499  0.197501    2698    664    3362\n"
     ]
    }
   ],
   "source": [
    "value_counts_ratio(train, '남성_부_불임_원인')"
   ]
  },
  {
   "cell_type": "code",
   "execution_count": 584,
   "metadata": {},
   "outputs": [
    {
     "name": "stdout",
     "output_type": "stream",
     "text": [
      "Grouped by: 남성_주_불임_원인, 남성_부_불임_원인\n",
      "\n",
      "    group  '임신_성공_여부' count     ratio   Total\n",
      "0  (0, 0)             63955  0.260321  245677\n",
      "1  (0, 1)               664  0.197678    3359\n",
      "2  (1, 0)              1607  0.219986    7305\n",
      "3  (1, 1)                 0  0.000000       3\n"
     ]
    }
   ],
   "source": [
    "summarize_group(train, ['남성_주_불임_원인', '남성_부_불임_원인'])"
   ]
  },
  {
   "cell_type": "markdown",
   "metadata": {},
   "source": [
    "### 13. 여성_주_불임_원인"
   ]
  },
  {
   "cell_type": "markdown",
   "metadata": {},
   "source": [
    "여성의 주요 불임 원인 여부"
   ]
  },
  {
   "cell_type": "code",
   "execution_count": 585,
   "metadata": {},
   "outputs": [
    {
     "name": "stdout",
     "output_type": "stream",
     "text": [
      "\n",
      "여성_주_불임_원인별 임신_성공_여부 비율 및 갯수\n",
      "\n",
      "                 0         1       0      1   Total\n",
      "variable                                           \n",
      "0         0.740407  0.259593  183969  64501  248470\n",
      "1         0.780925  0.219075    6149   1725    7874\n"
     ]
    }
   ],
   "source": [
    "value_counts_ratio(train, '여성_주_불임_원인')"
   ]
  },
  {
   "cell_type": "markdown",
   "metadata": {},
   "source": [
    "### 14. 여성_부_불임_원인"
   ]
  },
  {
   "cell_type": "markdown",
   "metadata": {},
   "source": [
    "여성의 부차적 불임 원인 여부"
   ]
  },
  {
   "cell_type": "code",
   "execution_count": 586,
   "metadata": {},
   "outputs": [
    {
     "name": "stdout",
     "output_type": "stream",
     "text": [
      "\n",
      "여성_부_불임_원인별 임신_성공_여부 비율 및 갯수\n",
      "\n",
      "                 0         1       0      1   Total\n",
      "variable                                           \n",
      "0         0.740864  0.259136  187555  65602  253157\n",
      "1         0.804205  0.195795    2563    624    3187\n"
     ]
    }
   ],
   "source": [
    "value_counts_ratio(train, '여성_부_불임_원인')"
   ]
  },
  {
   "cell_type": "code",
   "execution_count": 587,
   "metadata": {},
   "outputs": [
    {
     "name": "stdout",
     "output_type": "stream",
     "text": [
      "Grouped by: 여성_주_불임_원인, 여성_부_불임_원인\n",
      "\n",
      "    group  '임신_성공_여부' count     ratio   Total\n",
      "0  (0, 0)             63879  0.260422  245290\n",
      "1  (0, 1)               622  0.195597    3180\n",
      "2  (1, 0)              1723  0.219016    7867\n",
      "3  (1, 1)                 2  0.285714       7\n"
     ]
    }
   ],
   "source": [
    "summarize_group(train, ['여성_주_불임_원인', '여성_부_불임_원인'])"
   ]
  },
  {
   "cell_type": "code",
   "execution_count": 588,
   "metadata": {},
   "outputs": [
    {
     "name": "stdout",
     "output_type": "stream",
     "text": [
      "Grouped by: 남성_주_불임_원인, 남성_부_불임_원인, 여성_주_불임_원인, 여성_부_불임_원인\n",
      "\n",
      "           group  '임신_성공_여부' count     ratio   Total\n",
      "0   (0, 0, 0, 0)             63866  0.260425  245238\n",
      "1   (0, 0, 0, 1)                17  0.166667     102\n",
      "2   (0, 0, 1, 0)                72  0.214925     335\n",
      "3   (0, 0, 1, 1)                 0  0.000000       2\n",
      "4   (0, 1, 0, 0)                 3  0.214286      14\n",
      "5   (0, 1, 0, 1)               436  0.195779    2227\n",
      "6   (0, 1, 1, 0)               224  0.200537    1117\n",
      "7   (0, 1, 1, 1)                 1  1.000000       1\n",
      "8   (1, 0, 0, 0)                10  0.263158      38\n",
      "9   (1, 0, 0, 1)               169  0.198824     850\n",
      "10  (1, 0, 1, 0)              1427  0.222482    6414\n",
      "11  (1, 0, 1, 1)                 1  0.333333       3\n",
      "12  (1, 1, 0, 1)                 0  0.000000       1\n",
      "13  (1, 1, 1, 0)                 0  0.000000       1\n",
      "14  (1, 1, 1, 1)                 0  0.000000       1\n"
     ]
    }
   ],
   "source": [
    "summarize_group(train, ['남성_주_불임_원인', '남성_부_불임_원인', '여성_주_불임_원인', '여성_부_불임_원인'])"
   ]
  },
  {
   "cell_type": "markdown",
   "metadata": {},
   "source": [
    "### 15. 부부_주_불임_원인"
   ]
  },
  {
   "cell_type": "markdown",
   "metadata": {},
   "source": [
    "부부의 주요 불임 원인 여부"
   ]
  },
  {
   "cell_type": "code",
   "execution_count": 589,
   "metadata": {},
   "outputs": [
    {
     "name": "stdout",
     "output_type": "stream",
     "text": [
      "\n",
      "부부_주_불임_원인별 임신_성공_여부 비율 및 갯수\n",
      "\n",
      "                 0         1       0      1   Total\n",
      "variable                                           \n",
      "0         0.740347  0.259653  183509  64360  247869\n",
      "1         0.779823  0.220177    6609   1866    8475\n"
     ]
    }
   ],
   "source": [
    "value_counts_ratio(train, '부부_주_불임_원인')"
   ]
  },
  {
   "cell_type": "markdown",
   "metadata": {},
   "source": [
    "### 16. 부부_부_불임_원인"
   ]
  },
  {
   "cell_type": "markdown",
   "metadata": {},
   "source": [
    "부부의 부차적 불임 원인 여부"
   ]
  },
  {
   "cell_type": "code",
   "execution_count": 590,
   "metadata": {},
   "outputs": [
    {
     "name": "stdout",
     "output_type": "stream",
     "text": [
      "\n",
      "부부_부_불임_원인별 임신_성공_여부 비율 및 갯수\n",
      "\n",
      "                 0         1       0      1   Total\n",
      "variable                                           \n",
      "0         0.741020  0.258980  188291  65806  254097\n",
      "1         0.813084  0.186916    1827    420    2247\n"
     ]
    }
   ],
   "source": [
    "value_counts_ratio(train, '부부_부_불임_원인')"
   ]
  },
  {
   "cell_type": "code",
   "execution_count": 591,
   "metadata": {},
   "outputs": [
    {
     "name": "stdout",
     "output_type": "stream",
     "text": [
      "Grouped by: 부부_주_불임_원인, 부부_부_불임_원인\n",
      "\n",
      "    group  '임신_성공_여부' count     ratio   Total\n",
      "0  (0, 0)             63940  0.260312  245628\n",
      "1  (0, 1)               420  0.187416    2241\n",
      "2  (1, 0)              1866  0.220333    8469\n",
      "3  (1, 1)                 0  0.000000       6\n"
     ]
    }
   ],
   "source": [
    "summarize_group(train, ['부부_주_불임_원인', '부부_부_불임_원인'])"
   ]
  },
  {
   "cell_type": "code",
   "execution_count": 592,
   "metadata": {},
   "outputs": [
    {
     "name": "stdout",
     "output_type": "stream",
     "text": [
      "Grouped by: 남성_주_불임_원인, 남성_부_불임_원인, 여성_주_불임_원인, 여성_부_불임_원인, 부부_주_불임_원인, 부부_부_불임_원인\n",
      "\n",
      "                 group  '임신_성공_여부' count     ratio   Total\n",
      "0   (0, 0, 0, 0, 0, 0)             63855  0.260416  245204\n",
      "1   (0, 0, 0, 0, 0, 1)                 1  0.125000       8\n",
      "2   (0, 0, 0, 0, 1, 0)                10  0.384615      26\n",
      "3   (0, 0, 0, 1, 0, 0)                15  0.200000      75\n",
      "4   (0, 0, 0, 1, 0, 1)                 1  0.050000      20\n",
      "5   (0, 0, 0, 1, 1, 0)                 1  0.142857       7\n",
      "6   (0, 0, 1, 0, 0, 0)                46  0.184000     250\n",
      "7   (0, 0, 1, 0, 0, 1)                 1  0.500000       2\n",
      "8   (0, 0, 1, 0, 1, 0)                25  0.301205      83\n",
      "9   (0, 0, 1, 1, 1, 0)                 0  0.000000       2\n",
      "10  (0, 1, 0, 0, 0, 0)                 0  0.000000       3\n",
      "11  (0, 1, 0, 0, 0, 1)                 2  0.200000      10\n",
      "12  (0, 1, 0, 0, 1, 0)                 1  1.000000       1\n",
      "13  (0, 1, 0, 1, 0, 0)                 9  0.300000      30\n",
      "14  (0, 1, 0, 1, 0, 1)               366  0.188369    1943\n",
      "15  (0, 1, 0, 1, 1, 0)                61  0.244000     250\n",
      "16  (0, 1, 0, 1, 1, 1)                 0  0.000000       4\n",
      "17  (0, 1, 1, 0, 0, 0)                 2  0.666667       3\n",
      "18  (0, 1, 1, 0, 0, 1)                42  0.184211     228\n",
      "19  (0, 1, 1, 0, 1, 0)               180  0.203160     886\n",
      "20  (0, 1, 1, 1, 1, 0)                 1  1.000000       1\n",
      "21  (1, 0, 0, 0, 0, 0)                 1  0.333333       3\n",
      "22  (1, 0, 0, 0, 1, 0)                 9  0.257143      35\n",
      "23  (1, 0, 0, 1, 0, 0)                 0  0.000000       2\n",
      "24  (1, 0, 0, 1, 0, 1)                 5  0.277778      18\n",
      "25  (1, 0, 0, 1, 1, 0)               164  0.197829     829\n",
      "26  (1, 0, 0, 1, 1, 1)                 0  0.000000       1\n",
      "27  (1, 0, 1, 0, 0, 0)                12  0.210526      57\n",
      "28  (1, 0, 1, 0, 0, 1)                 2  0.166667      12\n",
      "29  (1, 0, 1, 0, 1, 0)              1413  0.222695    6345\n",
      "30  (1, 0, 1, 1, 1, 0)                 1  0.333333       3\n",
      "31  (1, 1, 0, 1, 1, 0)                 0  0.000000       1\n",
      "32  (1, 1, 1, 0, 0, 0)                 0  0.000000       1\n",
      "33  (1, 1, 1, 1, 1, 1)                 0  0.000000       1\n"
     ]
    }
   ],
   "source": [
    "summarize_group(train, ['남성_주_불임_원인', '남성_부_불임_원인'\n",
    "                        , '여성_주_불임_원인', '여성_부_불임_원인'\n",
    "                        , '부부_주_불임_원인', '부부_부_불임_원인'])"
   ]
  },
  {
   "cell_type": "markdown",
   "metadata": {},
   "source": [
    "### 17. 불명확_불임_원인"
   ]
  },
  {
   "cell_type": "markdown",
   "metadata": {},
   "source": [
    "불명의 원인으로 인한 불임 여부"
   ]
  },
  {
   "cell_type": "code",
   "execution_count": 593,
   "metadata": {},
   "outputs": [
    {
     "name": "stdout",
     "output_type": "stream",
     "text": [
      "\n",
      "불명확_불임_원인별 임신_성공_여부 비율 및 갯수\n",
      "\n",
      "                 0         1       0      1   Total\n",
      "variable                                           \n",
      "0         0.742028  0.257972  142522  49549  192071\n",
      "1         0.740529  0.259471   47596  16677   64273\n"
     ]
    }
   ],
   "source": [
    "value_counts_ratio(train, '불명확_불임_원인')"
   ]
  },
  {
   "cell_type": "code",
   "execution_count": 594,
   "metadata": {},
   "outputs": [],
   "source": [
    "# '불임_원인' 중 '남성' 관련 변수 리스트\n",
    "infertility_cause_columns = [\n",
    "    '남성_주_불임_원인',\n",
    "    '남성_부_불임_원인'\n",
    "]\n",
    "\n",
    "# 더미 변수 생성\n",
    "train['불임원인여부_남성관련'] = train[infertility_cause_columns].max(axis=1)\n",
    "test['불임원인여부_남성관련'] = test[infertility_cause_columns].max(axis=1)\n",
    "\n",
    "# 관련 변수 제거\n",
    "# train = train.drop(columns=infertility_cause_columns)\n",
    "# test = test.drop(columns=infertility_cause_columns)"
   ]
  },
  {
   "cell_type": "code",
   "execution_count": 595,
   "metadata": {},
   "outputs": [],
   "source": [
    "# '불임_원인' 중 '여성' 관련 변수 리스트\n",
    "infertility_cause_columns = [\n",
    "    '여성_주_불임_원인',\n",
    "    '여성_부_불임_원인'\n",
    "]\n",
    "\n",
    "# 더미 변수 생성\n",
    "train['불임원인여부_여성관련'] = train[infertility_cause_columns].max(axis=1)\n",
    "test['불임원인여부_여성관련'] = test[infertility_cause_columns].max(axis=1)\n",
    "\n",
    "# 관련 변수 제거\n",
    "# train = train.drop(columns=infertility_cause_columns)\n",
    "# test = test.drop(columns=infertility_cause_columns)"
   ]
  },
  {
   "cell_type": "code",
   "execution_count": 596,
   "metadata": {},
   "outputs": [],
   "source": [
    "# '불임_원인' 중 '부부' 관련 변수 리스트\n",
    "infertility_cause_columns = [\n",
    "    '부부_주_불임_원인',\n",
    "    '부부_부_불임_원인'\n",
    "]\n",
    "\n",
    "# 더미 변수 생성\n",
    "train['불임원인여부_부부관련'] = train[infertility_cause_columns].max(axis=1)\n",
    "test['불임원인여부_부부관련'] = test[infertility_cause_columns].max(axis=1)\n",
    "\n",
    "# 관련 변수 제거\n",
    "# train = train.drop(columns=infertility_cause_columns)\n",
    "# test = test.drop(columns=infertility_cause_columns)"
   ]
  },
  {
   "cell_type": "code",
   "execution_count": 597,
   "metadata": {},
   "outputs": [],
   "source": [
    "# 변수명 변경\n",
    "train = train.rename(columns={'불명확_불임_원인': '불임원인여부_불명확'})\n",
    "test = test.rename(columns={'불명확_불임_원인': '불임원인여부_불명확'})"
   ]
  },
  {
   "cell_type": "markdown",
   "metadata": {},
   "source": [
    "### 18. 불임_원인_-_난관_질환"
   ]
  },
  {
   "cell_type": "markdown",
   "metadata": {},
   "source": [
    "난관 이상으로 인한 불임 여부"
   ]
  },
  {
   "cell_type": "code",
   "execution_count": 598,
   "metadata": {},
   "outputs": [
    {
     "name": "stdout",
     "output_type": "stream",
     "text": [
      "\n",
      "불임_원인_-_난관_질환별 임신_성공_여부 비율 및 갯수\n",
      "\n",
      "                 0         1       0      1   Total\n",
      "variable                                           \n",
      "0         0.741556  0.258444  163726  57061  220787\n",
      "1         0.742245  0.257755   26392   9165   35557\n"
     ]
    }
   ],
   "source": [
    "value_counts_ratio(train, '불임_원인_-_난관_질환')"
   ]
  },
  {
   "cell_type": "markdown",
   "metadata": {},
   "source": [
    "### 19. 불임_원인_-_남성_요인"
   ]
  },
  {
   "cell_type": "markdown",
   "metadata": {},
   "source": [
    "남성 요인으로 인한 불임 여부"
   ]
  },
  {
   "cell_type": "code",
   "execution_count": 599,
   "metadata": {},
   "outputs": [
    {
     "name": "stdout",
     "output_type": "stream",
     "text": [
      "\n",
      "불임_원인_-_남성_요인별 임신_성공_여부 비율 및 갯수\n",
      "\n",
      "                 0         1       0      1   Total\n",
      "variable                                           \n",
      "0         0.754430  0.245570  121375  39508  160883\n",
      "1         0.720116  0.279884   68743  26718   95461\n"
     ]
    }
   ],
   "source": [
    "value_counts_ratio(train, '불임_원인_-_남성_요인')"
   ]
  },
  {
   "cell_type": "markdown",
   "metadata": {},
   "source": [
    "### 20. 불임_원인_-_배란_장애"
   ]
  },
  {
   "cell_type": "markdown",
   "metadata": {},
   "source": [
    "배란 장애로 인한 불임 여부"
   ]
  },
  {
   "cell_type": "code",
   "execution_count": 600,
   "metadata": {},
   "outputs": [
    {
     "name": "stdout",
     "output_type": "stream",
     "text": [
      "\n",
      "불임_원인_-_배란_장애별 임신_성공_여부 비율 및 갯수\n",
      "\n",
      "                 0         1       0      1   Total\n",
      "variable                                           \n",
      "0         0.745893  0.254107  166273  56645  222918\n",
      "1         0.713367  0.286633   23845   9581   33426\n"
     ]
    }
   ],
   "source": [
    "value_counts_ratio(train, '불임_원인_-_배란_장애')"
   ]
  },
  {
   "cell_type": "markdown",
   "metadata": {},
   "source": [
    "### 21. 불임_원인_-_여성_요인"
   ]
  },
  {
   "cell_type": "markdown",
   "metadata": {},
   "source": [
    "여성 요인으로 인한 불임 여부"
   ]
  },
  {
   "cell_type": "code",
   "execution_count": 601,
   "metadata": {},
   "outputs": [
    {
     "name": "stdout",
     "output_type": "stream",
     "text": [
      "\n",
      "불임_원인_-_여성_요인별 임신_성공_여부 비율 및 갯수\n",
      "\n",
      "                 0         1       0      1   Total\n",
      "variable                                           \n",
      "0         0.741652  0.258348  190118  66226  256344\n"
     ]
    }
   ],
   "source": [
    "value_counts_ratio(train, '불임_원인_-_여성_요인')"
   ]
  },
  {
   "cell_type": "code",
   "execution_count": 602,
   "metadata": {},
   "outputs": [
    {
     "data": {
      "text/plain": [
       "0    90067\n",
       "Name: 불임_원인_-_여성_요인, dtype: int64"
      ]
     },
     "execution_count": 602,
     "metadata": {},
     "output_type": "execute_result"
    }
   ],
   "source": [
    "test['불임_원인_-_여성_요인'].value_counts()"
   ]
  },
  {
   "cell_type": "code",
   "execution_count": 603,
   "metadata": {},
   "outputs": [],
   "source": [
    "# '불임_원인_-_여성_요인' 변수 제거\n",
    "train = train.drop(columns=['불임_원인_-_여성_요인'])\n",
    "test = test.drop(columns=['불임_원인_-_여성_요인'])"
   ]
  },
  {
   "cell_type": "markdown",
   "metadata": {},
   "source": [
    "### 22. 불임_원인_-_자궁경부_문제"
   ]
  },
  {
   "cell_type": "markdown",
   "metadata": {},
   "source": [
    "자궁경부 이상으로 인한 불임 여부"
   ]
  },
  {
   "cell_type": "code",
   "execution_count": 604,
   "metadata": {},
   "outputs": [
    {
     "name": "stdout",
     "output_type": "stream",
     "text": [
      "\n",
      "불임_원인_-_자궁경부_문제별 임신_성공_여부 비율 및 갯수\n",
      "\n",
      "                 0         1         0        1   Total\n",
      "variable                                               \n",
      "0         0.741642  0.258358  190108.0  66226.0  256334\n",
      "1         1.000000  0.000000      10.0      0.0      10\n"
     ]
    }
   ],
   "source": [
    "value_counts_ratio(train, '불임_원인_-_자궁경부_문제')"
   ]
  },
  {
   "cell_type": "markdown",
   "metadata": {},
   "source": [
    "### 23. 불임_원인_-_자궁내막증"
   ]
  },
  {
   "cell_type": "markdown",
   "metadata": {},
   "source": [
    "자궁내막증으로 인한 불임 여부"
   ]
  },
  {
   "cell_type": "code",
   "execution_count": 605,
   "metadata": {},
   "outputs": [
    {
     "name": "stdout",
     "output_type": "stream",
     "text": [
      "\n",
      "불임_원인_-_자궁내막증별 임신_성공_여부 비율 및 갯수\n",
      "\n",
      "                 0         1       0      1   Total\n",
      "variable                                           \n",
      "0         0.741382  0.258618  176480  61562  238042\n",
      "1         0.745164  0.254836   13638   4664   18302\n"
     ]
    }
   ],
   "source": [
    "value_counts_ratio(train, '불임_원인_-_자궁내막증')"
   ]
  },
  {
   "cell_type": "markdown",
   "metadata": {},
   "source": [
    "### 24. 불임_원인_-_정자_농도"
   ]
  },
  {
   "cell_type": "markdown",
   "metadata": {},
   "source": [
    "파트너의 정자 농도 문제 여부"
   ]
  },
  {
   "cell_type": "code",
   "execution_count": 606,
   "metadata": {},
   "outputs": [
    {
     "name": "stdout",
     "output_type": "stream",
     "text": [
      "\n",
      "불임_원인_-_정자_농도별 임신_성공_여부 비율 및 갯수\n",
      "\n",
      "                 0         1       0      1   Total\n",
      "variable                                           \n",
      "0         0.741643  0.258357  189911  66157  256068\n",
      "1         0.750000  0.250000     207     69     276\n"
     ]
    }
   ],
   "source": [
    "value_counts_ratio(train, '불임_원인_-_정자_농도')"
   ]
  },
  {
   "cell_type": "markdown",
   "metadata": {},
   "source": [
    "### 25. 불임_원인_-_정자_면역학적_요인"
   ]
  },
  {
   "cell_type": "markdown",
   "metadata": {},
   "source": [
    "파트너의 정자 면역 관련 문제 여부"
   ]
  },
  {
   "cell_type": "code",
   "execution_count": 607,
   "metadata": {},
   "outputs": [
    {
     "name": "stdout",
     "output_type": "stream",
     "text": [
      "\n",
      "불임_원인_-_정자_면역학적_요인별 임신_성공_여부 비율 및 갯수\n",
      "\n",
      "                 0         1         0        1   Total\n",
      "variable                                               \n",
      "0         0.741651  0.258349  190117.0  66226.0  256343\n",
      "1         1.000000  0.000000       1.0      0.0       1\n"
     ]
    }
   ],
   "source": [
    "value_counts_ratio(train, '불임_원인_-_정자_면역학적_요인')"
   ]
  },
  {
   "cell_type": "code",
   "execution_count": 608,
   "metadata": {},
   "outputs": [
    {
     "data": {
      "text/plain": [
       "0    90066\n",
       "1        1\n",
       "Name: 불임_원인_-_정자_면역학적_요인, dtype: int64"
      ]
     },
     "execution_count": 608,
     "metadata": {},
     "output_type": "execute_result"
    }
   ],
   "source": [
    "test['불임_원인_-_정자_면역학적_요인'].value_counts()"
   ]
  },
  {
   "cell_type": "markdown",
   "metadata": {},
   "source": [
    "### 26. 불임_원인_-_정자_운동성"
   ]
  },
  {
   "cell_type": "markdown",
   "metadata": {},
   "source": [
    "파트너의 정자 운동성 문제 여부"
   ]
  },
  {
   "cell_type": "code",
   "execution_count": 609,
   "metadata": {},
   "outputs": [
    {
     "name": "stdout",
     "output_type": "stream",
     "text": [
      "\n",
      "불임_원인_-_정자_운동성별 임신_성공_여부 비율 및 갯수\n",
      "\n",
      "                 0         1       0      1   Total\n",
      "variable                                           \n",
      "0         0.741620  0.258380  190038  66209  256247\n",
      "1         0.824742  0.175258      80     17      97\n"
     ]
    }
   ],
   "source": [
    "value_counts_ratio(train, '불임_원인_-_정자_운동성')"
   ]
  },
  {
   "cell_type": "markdown",
   "metadata": {},
   "source": [
    "### 27. 불임_원인_-_정자_형태"
   ]
  },
  {
   "cell_type": "markdown",
   "metadata": {},
   "source": [
    "파트너의 정자 형태 문제 여부"
   ]
  },
  {
   "cell_type": "code",
   "execution_count": 610,
   "metadata": {},
   "outputs": [
    {
     "name": "stdout",
     "output_type": "stream",
     "text": [
      "\n",
      "불임_원인_-_정자_형태별 임신_성공_여부 비율 및 갯수\n",
      "\n",
      "                 0         1       0      1   Total\n",
      "variable                                           \n",
      "0         0.741633  0.258367  190007  66194  256201\n",
      "1         0.776224  0.223776     111     32     143\n"
     ]
    }
   ],
   "source": [
    "value_counts_ratio(train, '불임_원인_-_정자_형태')"
   ]
  },
  {
   "cell_type": "code",
   "execution_count": 611,
   "metadata": {},
   "outputs": [],
   "source": [
    "# '불임_원인' 중 '정자' 관련 변수 리스트\n",
    "infertility_cause_columns = [\n",
    "    '불임_원인_-_정자_농도',\n",
    "    '불임_원인_-_정자_면역학적_요인',\n",
    "    '불임_원인_-_정자_운동성',\n",
    "    '불임_원인_-_정자_형태'\n",
    "]\n",
    "\n",
    "# 더미 변수 생성\n",
    "train['불임이유_정자관련'] = train[infertility_cause_columns].max(axis=1)\n",
    "test['불임이유_정자관련'] = test[infertility_cause_columns].max(axis=1)\n",
    "\n",
    "# 관련 변수 제거\n",
    "# train = train.drop(columns=infertility_cause_columns)\n",
    "# test = test.drop(columns=infertility_cause_columns)"
   ]
  },
  {
   "cell_type": "code",
   "execution_count": 612,
   "metadata": {},
   "outputs": [],
   "source": [
    "# '불임_원인' 중 '자궁' 관련 변수 리스트\n",
    "infertility_cause_columns = [\n",
    "    '불임_원인_-_난관_질환',\n",
    "    '불임_원인_-_배란_장애',\n",
    "    '불임_원인_-_자궁경부_문제',\n",
    "    '불임_원인_-_자궁내막증'\n",
    "]\n",
    "\n",
    "# 더미 변수 생성\n",
    "train['불임이유_자궁관련'] = train[infertility_cause_columns].max(axis=1)\n",
    "test['불임이유_자궁관련'] = test[infertility_cause_columns].max(axis=1)\n",
    "\n",
    "# 관련 변수 제거\n",
    "# train = train.drop(columns=infertility_cause_columns)\n",
    "# test = test.drop(columns=infertility_cause_columns)"
   ]
  },
  {
   "cell_type": "code",
   "execution_count": 613,
   "metadata": {},
   "outputs": [],
   "source": [
    "# 변수명 변경\n",
    "train = train.rename(columns={'불임_원인_-_남성_요인': '불임이유_남성요인'})\n",
    "test = test.rename(columns={'불임_원인_-_남성_요인': '불임이유_남성요인'})"
   ]
  },
  {
   "cell_type": "markdown",
   "metadata": {},
   "source": [
    "### 28. 배아_생성_주요_이유"
   ]
  },
  {
   "cell_type": "markdown",
   "metadata": {},
   "source": [
    "배아 생성의 주된 목적(시술, 보관 등)"
   ]
  },
  {
   "cell_type": "code",
   "execution_count": 614,
   "metadata": {},
   "outputs": [
    {
     "name": "stdout",
     "output_type": "stream",
     "text": [
      "\n",
      "배아_생성_주요_이유별 임신_성공_여부 비율 및 갯수\n",
      "\n",
      "                            0         1         0        1   Total\n",
      "variable                                                          \n",
      "기증용                  1.000000  0.000000    1108.0      0.0    1108\n",
      "기증용, 난자 저장용          1.000000  0.000000      44.0      0.0      44\n",
      "기증용, 배아 저장용          1.000000  0.000000     125.0      0.0     125\n",
      "기증용, 배아 저장용, 현재 시술용  0.650000  0.350000      13.0      7.0      20\n",
      "기증용, 현재 시술용          0.620243  0.379757    2347.0   1437.0    3784\n",
      "난자 저장용               1.000000  0.000000    1959.0      0.0    1959\n",
      "난자 저장용, 배아 저장용       1.000000  0.000000       6.0      0.0       6\n",
      "난자 저장용, 배아 저장용, 연구용  1.000000  0.000000       1.0      0.0       1\n",
      "난자 저장용, 현재 시술용       0.800000  0.200000       4.0      1.0       5\n",
      "배아 저장용               0.999130  0.000870    9183.0      8.0    9191\n",
      "배아 저장용, 현재 시술용       0.734940  0.265060      61.0     22.0      83\n",
      "연구용, 현재 시술용          1.000000  0.000000       1.0      0.0       1\n",
      "현재 시술용               0.726433  0.273567  169787.0  63940.0  233727\n"
     ]
    }
   ],
   "source": [
    "value_counts_ratio(train, '배아_생성_주요_이유')"
   ]
  },
  {
   "cell_type": "code",
   "execution_count": 615,
   "metadata": {},
   "outputs": [],
   "source": [
    "import pandas as pd\n",
    "from sklearn.preprocessing import MultiLabelBinarizer\n",
    "\n",
    "# 배아_생성_주요_이유 분리 함수 정의\n",
    "def split_reasons(reason):\n",
    "    if isinstance(reason, str):\n",
    "        return reason.split(', ')\n",
    "    return []\n",
    "\n",
    "# MultiLabelBinarizer를 사용하여 원핫 인코딩\n",
    "def process_reasons(df):\n",
    "    mlb = MultiLabelBinarizer()\n",
    "    reasons = df['배아_생성_주요_이유'].apply(split_reasons)\n",
    "    reasons_encoded = mlb.fit_transform(reasons)\n",
    "    reasons_df = pd.DataFrame(reasons_encoded, columns=[f'배아_생성_주요_이유_{cls}' for cls in mlb.classes_])\n",
    "    df = df.drop(columns=['배아_생성_주요_이유']).reset_index(drop=True)\n",
    "    df_encoded = pd.concat([df, reasons_df], axis=1)\n",
    "    \n",
    "    # '배아_생성_주요_이유_연구용' 변수 제거\n",
    "    if '배아_생성_주요_이유_연구용' in df_encoded.columns:\n",
    "        df_encoded = df_encoded.drop(columns=['배아_생성_주요_이유_연구용'])\n",
    "    \n",
    "    return df_encoded\n",
    "\n",
    "train = process_reasons(train)\n",
    "test = process_reasons(test)"
   ]
  },
  {
   "cell_type": "code",
   "execution_count": 616,
   "metadata": {},
   "outputs": [
    {
     "name": "stdout",
     "output_type": "stream",
     "text": [
      "<class 'pandas.core.frame.DataFrame'>\n",
      "RangeIndex: 256344 entries, 0 to 256343\n",
      "Data columns (total 84 columns):\n",
      " #   Column                 Non-Null Count   Dtype  \n",
      "---  ------                 --------------   -----  \n",
      " 0   ID                     256344 non-null  object \n",
      " 1   시술_시기_코드               256344 non-null  object \n",
      " 2   시술_당시_나이               256344 non-null  object \n",
      " 3   임신_시도_또는_마지막_임신_경과_연수  256344 non-null  float64\n",
      " 4   배란_자극_여부               256344 non-null  int64  \n",
      " 5   배란_유도_유형               256344 non-null  object \n",
      " 6   단일_배아_이식_여부            256344 non-null  float64\n",
      " 7   착상_전_유전_검사_사용_여부       256344 non-null  float64\n",
      " 8   착상_전_유전_진단_사용_여부       256344 non-null  float64\n",
      " 9   남성_주_불임_원인             256344 non-null  int64  \n",
      " 10  남성_부_불임_원인             256344 non-null  int64  \n",
      " 11  여성_주_불임_원인             256344 non-null  int64  \n",
      " 12  여성_부_불임_원인             256344 non-null  int64  \n",
      " 13  부부_주_불임_원인             256344 non-null  int64  \n",
      " 14  부부_부_불임_원인             256344 non-null  int64  \n",
      " 15  불임원인여부_불명확             256344 non-null  int64  \n",
      " 16  불임_원인_-_난관_질환          256344 non-null  int64  \n",
      " 17  불임이유_남성요인              256344 non-null  int64  \n",
      " 18  불임_원인_-_배란_장애          256344 non-null  int64  \n",
      " 19  불임_원인_-_자궁경부_문제        256344 non-null  int64  \n",
      " 20  불임_원인_-_자궁내막증          256344 non-null  int64  \n",
      " 21  불임_원인_-_정자_농도          256344 non-null  int64  \n",
      " 22  불임_원인_-_정자_면역학적_요인     256344 non-null  int64  \n",
      " 23  불임_원인_-_정자_운동성         256344 non-null  int64  \n",
      " 24  불임_원인_-_정자_형태          256344 non-null  int64  \n",
      " 25  총_시술_횟수                256344 non-null  object \n",
      " 26  클리닉_내_총_시술_횟수          256344 non-null  object \n",
      " 27  IVF_시술_횟수              256344 non-null  object \n",
      " 28  DI_시술_횟수               256344 non-null  object \n",
      " 29  총_임신_횟수                256344 non-null  object \n",
      " 30  IVF_임신_횟수              256344 non-null  object \n",
      " 31  DI_임신_횟수               256344 non-null  object \n",
      " 32  총_출산_횟수                256344 non-null  object \n",
      " 33  IVF_출산_횟수              256344 non-null  object \n",
      " 34  DI_출산_횟수               256344 non-null  object \n",
      " 35  총_생성_배아_수              250054 non-null  float64\n",
      " 36  미세주입된_난자_수             250054 non-null  float64\n",
      " 37  미세주입에서_생성된_배아_수        250054 non-null  float64\n",
      " 38  이식된_배아_수               250054 non-null  float64\n",
      " 39  미세주입_배아_이식_수           250054 non-null  float64\n",
      " 40  저장된_배아_수               250054 non-null  float64\n",
      " 41  미세주입_후_저장된_배아_수        250054 non-null  float64\n",
      " 42  해동된_배아_수               250054 non-null  float64\n",
      " 43  해동_난자_수                250054 non-null  float64\n",
      " 44  수집된_신선_난자_수            250054 non-null  float64\n",
      " 45  저장된_신선_난자_수            250054 non-null  float64\n",
      " 46  혼합된_난자_수               250054 non-null  float64\n",
      " 47  파트너_정자와_혼합된_난자_수       250054 non-null  float64\n",
      " 48  기증자_정자와_혼합된_난자_수       250054 non-null  float64\n",
      " 49  난자_출처                  256344 non-null  object \n",
      " 50  정자_출처                  256344 non-null  object \n",
      " 51  난자_기증자_나이              256344 non-null  object \n",
      " 52  정자_기증자_나이              256344 non-null  object \n",
      " 53  동결_배아_사용_여부            250054 non-null  float64\n",
      " 54  신선_배아_사용_여부            250054 non-null  float64\n",
      " 55  기증_배아_사용_여부            250054 non-null  float64\n",
      " 56  대리모_여부                 250054 non-null  float64\n",
      " 57  PGD_시술_여부              2179 non-null    float64\n",
      " 58  PGS_시술_여부              1929 non-null    float64\n",
      " 59  난자_채취_경과일              198858 non-null  float64\n",
      " 60  난자_해동_경과일              1436 non-null    float64\n",
      " 61  난자_혼합_경과일              202612 non-null  float64\n",
      " 62  배아_이식_경과일              212782 non-null  float64\n",
      " 63  배아_해동_경과일              40368 non-null   float64\n",
      " 64  임신_성공_여부               256344 non-null  int64  \n",
      " 65  시술_유형_DI               256344 non-null  uint8  \n",
      " 66  시술_유형_IVF              256344 non-null  uint8  \n",
      " 67  특정_시술_유형_AH            256344 non-null  int32  \n",
      " 68  특정_시술_유형_BLASTOCYST    256344 non-null  int32  \n",
      " 69  특정_시술_유형_GenericDI     256344 non-null  int32  \n",
      " 70  특정_시술_유형_ICI           256344 non-null  int32  \n",
      " 71  특정_시술_유형_ICSI          256344 non-null  int32  \n",
      " 72  특정_시술_유형_IUI           256344 non-null  int32  \n",
      " 73  특정_시술_유형_IVF           256344 non-null  int32  \n",
      " 74  특정_시술_유형_IVI           256344 non-null  int32  \n",
      " 75  불임원인여부_남성관련            256344 non-null  int64  \n",
      " 76  불임원인여부_여성관련            256344 non-null  int64  \n",
      " 77  불임원인여부_부부관련            256344 non-null  int64  \n",
      " 78  불임이유_정자관련              256344 non-null  int64  \n",
      " 79  불임이유_자궁관련              256344 non-null  int64  \n",
      " 80  배아_생성_주요_이유_기증용        256344 non-null  int32  \n",
      " 81  배아_생성_주요_이유_난자 저장용     256344 non-null  int32  \n",
      " 82  배아_생성_주요_이유_배아 저장용     256344 non-null  int32  \n",
      " 83  배아_생성_주요_이유_현재 시술용     256344 non-null  int32  \n",
      "dtypes: float64(29), int32(12), int64(23), object(18), uint8(2)\n",
      "memory usage: 149.1+ MB\n"
     ]
    }
   ],
   "source": [
    "train.info()"
   ]
  },
  {
   "cell_type": "markdown",
   "metadata": {},
   "source": [
    "### 29. 총_시술_횟수"
   ]
  },
  {
   "cell_type": "markdown",
   "metadata": {},
   "source": [
    "IVF 및 DI 포함한 전체 시술 횟수"
   ]
  },
  {
   "cell_type": "code",
   "execution_count": 617,
   "metadata": {},
   "outputs": [
    {
     "name": "stdout",
     "output_type": "stream",
     "text": [
      "\n",
      "총_시술_횟수별 임신_성공_여부 비율 및 갯수\n",
      "\n",
      "                 0         1      0      1  Total\n",
      "variable                                         \n",
      "0회        0.709010  0.290990  69198  28400  97598\n",
      "1회        0.750053  0.249947  42615  14201  56816\n",
      "2회        0.755853  0.244147  29733   9604  39337\n",
      "3회        0.763646  0.236354  18733   5798  24531\n",
      "4회        0.772208  0.227792  11692   3449  15141\n",
      "5회        0.784208  0.215792   7141   1965   9106\n",
      "6회 이상     0.796670  0.203330  11006   2809  13815\n"
     ]
    }
   ],
   "source": [
    "value_counts_ratio(train, '총_시술_횟수')"
   ]
  },
  {
   "cell_type": "markdown",
   "metadata": {},
   "source": [
    "### 30. 클리닉_내_총_시술_횟수"
   ]
  },
  {
   "cell_type": "markdown",
   "metadata": {},
   "source": [
    "특정 클리닉에서 받은 IVF 및 DI 시술 횟수"
   ]
  },
  {
   "cell_type": "code",
   "execution_count": 618,
   "metadata": {},
   "outputs": [
    {
     "name": "stdout",
     "output_type": "stream",
     "text": [
      "\n",
      "클리닉_내_총_시술_횟수별 임신_성공_여부 비율 및 갯수\n",
      "\n",
      "                 0         1      0      1   Total\n",
      "variable                                          \n",
      "0회        0.717080  0.282920  87250  34424  121674\n",
      "1회        0.754624  0.245376  45088  14661   59749\n",
      "2회        0.762073  0.237927  26338   8223   34561\n",
      "3회        0.767555  0.232445  14090   4267   18357\n",
      "4회        0.778099  0.221901   7795   2223   10018\n",
      "5회        0.792439  0.207561   4276   1120    5396\n",
      "6회 이상     0.801487  0.198513   5281   1308    6589\n"
     ]
    }
   ],
   "source": [
    "value_counts_ratio(train, '클리닉_내_총_시술_횟수')"
   ]
  },
  {
   "cell_type": "markdown",
   "metadata": {},
   "source": [
    "### 31. IVF_시술_횟수"
   ]
  },
  {
   "cell_type": "markdown",
   "metadata": {},
   "source": [
    "이전에 수행된 IVF 시술 횟수"
   ]
  },
  {
   "cell_type": "code",
   "execution_count": 619,
   "metadata": {},
   "outputs": [
    {
     "name": "stdout",
     "output_type": "stream",
     "text": [
      "\n",
      "IVF_시술_횟수별 임신_성공_여부 비율 및 갯수\n",
      "\n",
      "                 0         1      0      1   Total\n",
      "variable                                          \n",
      "0회        0.713739  0.286261  74181  29752  103933\n",
      "1회        0.749434  0.250566  43719  14617   58336\n",
      "2회        0.754563  0.245437  29560   9615   39175\n",
      "3회        0.764476  0.235524  17797   5483   23280\n",
      "4회        0.772548  0.227452  10553   3107   13660\n",
      "5회        0.787234  0.212766   6142   1660    7802\n",
      "6회 이상     0.803898  0.196102   8166   1992   10158\n"
     ]
    }
   ],
   "source": [
    "value_counts_ratio(train, 'IVF_시술_횟수')"
   ]
  },
  {
   "cell_type": "markdown",
   "metadata": {},
   "source": [
    "### 32. DI_시술_횟수"
   ]
  },
  {
   "cell_type": "markdown",
   "metadata": {},
   "source": [
    "이전에 수행된 DI 시술 횟수"
   ]
  },
  {
   "cell_type": "code",
   "execution_count": 620,
   "metadata": {},
   "outputs": [
    {
     "name": "stdout",
     "output_type": "stream",
     "text": [
      "\n",
      "DI_시술_횟수별 임신_성공_여부 비율 및 갯수\n",
      "\n",
      "                 0         1       0      1   Total\n",
      "variable                                           \n",
      "0회        0.739349  0.260651  179261  63197  242458\n",
      "1회        0.807877  0.192123    2359    561    2920\n",
      "2회        0.782768  0.217232    2353    653    3006\n",
      "3회        0.757702  0.242298    2361    755    3116\n",
      "4회        0.779386  0.220614    1346    381    1727\n",
      "5회        0.811823  0.188177     975    226    1201\n",
      "6회 이상     0.763570  0.236430    1463    453    1916\n"
     ]
    }
   ],
   "source": [
    "value_counts_ratio(train, 'DI_시술_횟수')"
   ]
  },
  {
   "cell_type": "markdown",
   "metadata": {},
   "source": [
    "### 33. 총_임신_횟수"
   ]
  },
  {
   "cell_type": "markdown",
   "metadata": {},
   "source": [
    "IVF 및 DI 포함한 총 임신 횟수"
   ]
  },
  {
   "cell_type": "code",
   "execution_count": 621,
   "metadata": {},
   "outputs": [
    {
     "name": "stdout",
     "output_type": "stream",
     "text": [
      "\n",
      "총_임신_횟수별 임신_성공_여부 비율 및 갯수\n",
      "\n",
      "                 0         1       0      1   Total\n",
      "variable                                           \n",
      "0회        0.742547  0.257453  152534  52886  205420\n",
      "1회        0.737092  0.262908   32306  11523   43829\n",
      "2회        0.742075  0.257925    4635   1611    6246\n",
      "3회        0.754692  0.245308     563    183     746\n",
      "4회        0.782609  0.217391      72     20      92\n",
      "5회        0.750000  0.250000       6      2       8\n",
      "6회 이상     0.666667  0.333333       2      1       3\n"
     ]
    }
   ],
   "source": [
    "value_counts_ratio(train, '총_임신_횟수')"
   ]
  },
  {
   "cell_type": "markdown",
   "metadata": {},
   "source": [
    "### 34. IVF_임신_횟수"
   ]
  },
  {
   "cell_type": "markdown",
   "metadata": {},
   "source": [
    "IVF 시술로 인한 임신 횟수"
   ]
  },
  {
   "cell_type": "code",
   "execution_count": 622,
   "metadata": {},
   "outputs": [
    {
     "name": "stdout",
     "output_type": "stream",
     "text": [
      "\n",
      "IVF_임신_횟수별 임신_성공_여부 비율 및 갯수\n",
      "\n",
      "                 0         1         0        1   Total\n",
      "variable                                               \n",
      "0회        0.743151  0.256849  154788.0  53498.0  208286\n",
      "1회        0.733592  0.266408   30458.0  11061.0   41519\n",
      "2회        0.743953  0.256047    4306.0   1482.0    5788\n",
      "3회        0.752640  0.247360     499.0    164.0     663\n",
      "4회        0.762500  0.237500      61.0     19.0      80\n",
      "5회        0.857143  0.142857       6.0      1.0       7\n",
      "6회 이상     0.000000  1.000000       0.0      1.0       1\n"
     ]
    }
   ],
   "source": [
    "value_counts_ratio(train, 'IVF_임신_횟수')"
   ]
  },
  {
   "cell_type": "markdown",
   "metadata": {},
   "source": [
    "### 35. DI_임신_횟수"
   ]
  },
  {
   "cell_type": "markdown",
   "metadata": {},
   "source": [
    "DI 시술로 인한 임신 횟수"
   ]
  },
  {
   "cell_type": "code",
   "execution_count": 623,
   "metadata": {},
   "outputs": [
    {
     "name": "stdout",
     "output_type": "stream",
     "text": [
      "\n",
      "DI_임신_횟수별 임신_성공_여부 비율 및 갯수\n",
      "\n",
      "                 0         1         0        1   Total\n",
      "variable                                               \n",
      "0회        0.741152  0.258848  187730.0  65565.0  253295\n",
      "1회        0.790857  0.209143    2076.0    549.0    2625\n",
      "2회        0.725543  0.274457     267.0    101.0     368\n",
      "3회        0.791667  0.208333      38.0     10.0      48\n",
      "4회        1.000000  0.000000       5.0      0.0       5\n",
      "5회        0.666667  0.333333       2.0      1.0       3\n"
     ]
    }
   ],
   "source": [
    "value_counts_ratio(train, 'DI_임신_횟수')"
   ]
  },
  {
   "cell_type": "markdown",
   "metadata": {},
   "source": [
    "### 36. 총_출산_횟수"
   ]
  },
  {
   "cell_type": "markdown",
   "metadata": {},
   "source": [
    "IVF 및 DI 시술로 출산한 횟수"
   ]
  },
  {
   "cell_type": "code",
   "execution_count": 624,
   "metadata": {},
   "outputs": [
    {
     "name": "stdout",
     "output_type": "stream",
     "text": [
      "\n",
      "총_출산_횟수별 임신_성공_여부 비율 및 갯수\n",
      "\n",
      "                 0         1         0        1   Total\n",
      "variable                                               \n",
      "0회        0.743151  0.256849  162415.0  56134.0  218549\n",
      "1회        0.732753  0.267247   25916.0   9452.0   35368\n",
      "2회        0.736842  0.263158    1652.0    590.0    2242\n",
      "3회        0.721893  0.278107     122.0     47.0     169\n",
      "4회        0.769231  0.230769      10.0      3.0      13\n",
      "5회        1.000000  0.000000       1.0      0.0       1\n",
      "6회 이상     1.000000  0.000000       2.0      0.0       2\n"
     ]
    }
   ],
   "source": [
    "value_counts_ratio(train, '총_출산_횟수')"
   ]
  },
  {
   "cell_type": "markdown",
   "metadata": {},
   "source": [
    "### 37. IVF_출산_횟수"
   ]
  },
  {
   "cell_type": "markdown",
   "metadata": {},
   "source": [
    "IVF 시술로 출산한 횟수"
   ]
  },
  {
   "cell_type": "code",
   "execution_count": 625,
   "metadata": {},
   "outputs": [
    {
     "name": "stdout",
     "output_type": "stream",
     "text": [
      "\n",
      "IVF_출산_횟수별 임신_성공_여부 비율 및 갯수\n",
      "\n",
      "                 0         1         0        1   Total\n",
      "variable                                               \n",
      "0회        0.743457  0.256543  164174.0  56651.0  220825\n",
      "1회        0.730111  0.269889   24347.0   9000.0   33347\n",
      "2회        0.737259  0.262741    1490.0    531.0    2021\n",
      "3회        0.700730  0.299270      96.0     41.0     137\n",
      "4회        0.769231  0.230769      10.0      3.0      13\n",
      "5회        1.000000  0.000000       1.0      0.0       1\n"
     ]
    }
   ],
   "source": [
    "value_counts_ratio(train, 'IVF_출산_횟수')"
   ]
  },
  {
   "cell_type": "markdown",
   "metadata": {},
   "source": [
    "### 38. DI_출산_횟수"
   ]
  },
  {
   "cell_type": "markdown",
   "metadata": {},
   "source": [
    "DI 시술로 출산한 횟수"
   ]
  },
  {
   "cell_type": "code",
   "execution_count": 626,
   "metadata": {},
   "outputs": [
    {
     "name": "stdout",
     "output_type": "stream",
     "text": [
      "\n",
      "DI_출산_횟수별 임신_성공_여부 비율 및 갯수\n",
      "\n",
      "                 0         1         0        1   Total\n",
      "variable                                               \n",
      "0회        0.741384  0.258616  188313.0  65689.0  254002\n",
      "1회        0.770814  0.229186    1648.0    490.0    2138\n",
      "2회        0.765027  0.234973     140.0     43.0     183\n",
      "3회        0.789474  0.210526      15.0      4.0      19\n",
      "5회        1.000000  0.000000       2.0      0.0       2\n"
     ]
    }
   ],
   "source": [
    "value_counts_ratio(train, 'DI_출산_횟수')"
   ]
  },
  {
   "cell_type": "code",
   "execution_count": 627,
   "metadata": {},
   "outputs": [],
   "source": [
    "# 숫자 매핑\n",
    "mapping = {\n",
    "    '0회': 0, '1회': 1, '2회': 2, '3회': 3, \n",
    "    '4회': 4, '5회': 5, '6회 이상': 6\n",
    "}\n",
    "\n",
    "# 변환할 열 목록\n",
    "columns_to_map = [\n",
    "    '총_시술_횟수', '클리닉_내_총_시술_횟수', 'IVF_시술_횟수', \n",
    "    'DI_시술_횟수', '총_임신_횟수', 'IVF_임신_횟수', 'DI_임신_횟수', \n",
    "    '총_출산_횟수', 'IVF_출산_횟수', 'DI_출산_횟수'\n",
    "]\n",
    "\n",
    "# 숫자로 변환\n",
    "for col in columns_to_map:\n",
    "    train[col] = train[col].map(mapping)\n",
    "    test[col] = test[col].map(mapping)"
   ]
  },
  {
   "cell_type": "code",
   "execution_count": 628,
   "metadata": {},
   "outputs": [],
   "source": [
    "# 비율 계산 (train 데이터프레임)\n",
    "train['IVF_임신_시술_비율'] = np.where(train['IVF_시술_횟수'] > 0, train['IVF_임신_횟수'] / train['IVF_시술_횟수'], -1)\n",
    "train['DI_임신_시술_비율'] = np.where(train['DI_시술_횟수'] > 0, train['DI_임신_횟수'] / train['DI_시술_횟수'], -1)\n",
    "train['임신_성공률'] = np.where(train['총_시술_횟수'] > 0, train['총_임신_횟수'] / train['총_시술_횟수'], -1)\n",
    "\n",
    "# 비율 계산 (test 데이터프레임)\n",
    "test['IVF_임신_시술_비율'] = np.where(test['IVF_시술_횟수'] > 0, test['IVF_임신_횟수'] / test['IVF_시술_횟수'], -1)\n",
    "test['DI_임신_시술_비율'] = np.where(test['DI_시술_횟수'] > 0, test['DI_임신_횟수'] / test['DI_시술_횟수'], -1)\n",
    "test['임신_성공률'] = np.where(test['총_시술_횟수'] > 0, test['총_임신_횟수'] / test['총_시술_횟수'], -1)"
   ]
  },
  {
   "cell_type": "markdown",
   "metadata": {},
   "source": [
    "### 39. 총_생성_배아_수"
   ]
  },
  {
   "cell_type": "markdown",
   "metadata": {},
   "source": [
    "해당 시술에서 생성된 배아의 총 개수"
   ]
  },
  {
   "cell_type": "code",
   "execution_count": 629,
   "metadata": {},
   "outputs": [
    {
     "name": "stdout",
     "output_type": "stream",
     "text": [
      "\n",
      "총_생성_배아_수별 임신_성공_여부 비율 및 갯수\n",
      "\n",
      "                 0         1        0       1  Total\n",
      "variable                                            \n",
      "0.0       0.828147  0.171853  44180.0  9168.0  53348\n",
      "1.0       0.905137  0.094863  13778.0  1444.0  15222\n",
      "2.0       0.819906  0.180094  15734.0  3456.0  19190\n",
      "3.0       0.758150  0.241850  15884.0  5067.0  20951\n",
      "4.0       0.722700  0.277300  15619.0  5993.0  21612\n",
      "5.0       0.694547  0.305453  14175.0  6234.0  20409\n",
      "6.0       0.677012  0.322988  12608.0  6015.0  18623\n",
      "7.0       0.661676  0.338324  10606.0  5423.0  16029\n",
      "8.0       0.649974  0.350026   8852.0  4767.0  13619\n",
      "9.0       0.645674  0.354326   7187.0  3944.0  11131\n",
      "10.0      0.639563  0.360437   5797.0  3267.0   9064\n",
      "11.0      0.633145  0.366855   4489.0  2601.0   7090\n",
      "12.0      0.647552  0.352448   3704.0  2016.0   5720\n",
      "13.0      0.633881  0.366119   2739.0  1582.0   4321\n",
      "14.0      0.644048  0.355952   2164.0  1196.0   3360\n",
      "15.0      0.642289  0.357711   1616.0   900.0   2516\n",
      "16.0      0.652923  0.347077   1251.0   665.0   1916\n",
      "17.0      0.677527  0.322473   1019.0   485.0   1504\n",
      "18.0      0.696509  0.303491    778.0   339.0   1117\n",
      "19.0      0.692115  0.307885    553.0   246.0    799\n",
      "20.0      0.714063  0.285938    457.0   183.0    640\n",
      "21.0      0.735358  0.264642    339.0   122.0    461\n",
      "22.0      0.748588  0.251412    265.0    89.0    354\n",
      "23.0      0.789474  0.210526    210.0    56.0    266\n",
      "24.0      0.800000  0.200000    156.0    39.0    195\n",
      "25.0      0.797546  0.202454    130.0    33.0    163\n",
      "26.0      0.790476  0.209524     83.0    22.0    105\n",
      "27.0      0.761905  0.238095     64.0    20.0     84\n",
      "28.0      0.843137  0.156863     43.0     8.0     51\n",
      "29.0      0.782609  0.217391     36.0    10.0     46\n",
      "30.0      0.825000  0.175000     33.0     7.0     40\n",
      "31.0      0.880000  0.120000     22.0     3.0     25\n",
      "32.0      0.739130  0.260870     17.0     6.0     23\n",
      "33.0      0.833333  0.166667     10.0     2.0     12\n",
      "34.0      0.666667  0.333333     10.0     5.0     15\n",
      "35.0      1.000000  0.000000      4.0     0.0      4\n",
      "36.0      0.857143  0.142857      6.0     1.0      7\n",
      "37.0      0.857143  0.142857      6.0     1.0      7\n",
      "38.0      1.000000  0.000000      3.0     0.0      3\n",
      "40.0      1.000000  0.000000      1.0     0.0      1\n",
      "41.0      1.000000  0.000000      2.0     0.0      2\n",
      "42.0      1.000000  0.000000      3.0     0.0      3\n",
      "43.0      1.000000  0.000000      1.0     0.0      1\n",
      "44.0      1.000000  0.000000      3.0     0.0      3\n",
      "51.0      1.000000  0.000000      2.0     0.0      2\n"
     ]
    }
   ],
   "source": [
    "value_counts_ratio(train, '총_생성_배아_수')"
   ]
  },
  {
   "cell_type": "code",
   "execution_count": 630,
   "metadata": {},
   "outputs": [
    {
     "name": "stdout",
     "output_type": "stream",
     "text": [
      "결측값 개수: 6290\n",
      "결측값 개수: 0\n"
     ]
    }
   ],
   "source": [
    "print(\"결측값 개수:\", train['총_생성_배아_수'].isnull().sum())\n",
    "\n",
    "train['총_생성_배아_수'].fillna(-1, inplace=True)\n",
    "test['총_생성_배아_수'].fillna(-1, inplace=True)\n",
    "\n",
    "print(\"결측값 개수:\", train['총_생성_배아_수'].isnull().sum())"
   ]
  },
  {
   "cell_type": "markdown",
   "metadata": {},
   "source": [
    "### 40. 미세주입된_난자_수"
   ]
  },
  {
   "cell_type": "markdown",
   "metadata": {},
   "source": [
    "정자 미세주입(ICSI)으로 처리된 난자의 수"
   ]
  },
  {
   "cell_type": "code",
   "execution_count": 631,
   "metadata": {},
   "outputs": [
    {
     "name": "stdout",
     "output_type": "stream",
     "text": [
      "\n",
      "미세주입된_난자_수별 임신_성공_여부 비율 및 갯수\n",
      "\n",
      "                 0         1        0        1   Total\n",
      "variable                                              \n",
      "0.0       0.749260  0.250740  95655.0  32011.0  127666\n",
      "1.0       0.942681  0.057319   4276.0    260.0    4536\n",
      "2.0       0.888783  0.111217   5594.0    700.0    6294\n",
      "3.0       0.833418  0.166582   6594.0   1318.0    7912\n",
      "4.0       0.789753  0.210247   7599.0   2023.0    9622\n",
      "5.0       0.744609  0.255391   7907.0   2712.0   10619\n",
      "6.0       0.723316  0.276684   8010.0   3064.0   11074\n",
      "7.0       0.704831  0.295169   7338.0   3073.0   10411\n",
      "8.0       0.693680  0.306320   6728.0   2971.0    9699\n",
      "9.0       0.681734  0.318266   5867.0   2739.0    8606\n",
      "10.0      0.665462  0.334538   5156.0   2592.0    7748\n",
      "11.0      0.650375  0.349625   4245.0   2282.0    6527\n",
      "12.0      0.660619  0.339381   3714.0   1908.0    5622\n",
      "13.0      0.642012  0.357988   2986.0   1665.0    4651\n",
      "14.0      0.661374  0.338626   2541.0   1301.0    3842\n",
      "15.0      0.650893  0.349107   2077.0   1114.0    3191\n",
      "16.0      0.657288  0.342712   1682.0    877.0    2559\n",
      "17.0      0.658859  0.341141   1294.0    670.0    1964\n",
      "18.0      0.680050  0.319950   1084.0    510.0    1594\n",
      "19.0      0.665850  0.334150    815.0    409.0    1224\n",
      "20.0      0.673019  0.326981    671.0    326.0     997\n",
      "21.0      0.717337  0.282663    571.0    225.0     796\n",
      "22.0      0.730183  0.269817    479.0    177.0     656\n",
      "23.0      0.711656  0.288344    348.0    141.0     489\n",
      "24.0      0.763085  0.236915    277.0     86.0     363\n",
      "25.0      0.779359  0.220641    219.0     62.0     281\n",
      "26.0      0.775934  0.224066    187.0     54.0     241\n",
      "27.0      0.832432  0.167568    154.0     31.0     185\n",
      "28.0      0.830303  0.169697    137.0     28.0     165\n",
      "29.0      0.769912  0.230088     87.0     26.0     113\n",
      "30.0      0.826087  0.173913     76.0     16.0      92\n",
      "31.0      0.866667  0.133333     52.0      8.0      60\n",
      "32.0      0.807692  0.192308     42.0     10.0      52\n",
      "33.0      0.820513  0.179487     32.0      7.0      39\n",
      "34.0      0.857143  0.142857     30.0      5.0      35\n",
      "35.0      0.870968  0.129032     27.0      4.0      31\n",
      "36.0      0.925926  0.074074     25.0      2.0      27\n",
      "37.0      0.785714  0.214286     11.0      3.0      14\n",
      "38.0      0.909091  0.090909     10.0      1.0      11\n",
      "39.0      0.857143  0.142857      6.0      1.0       7\n",
      "40.0      0.875000  0.125000      7.0      1.0       8\n",
      "41.0      1.000000  0.000000      3.0      0.0       3\n",
      "42.0      0.666667  0.333333      2.0      1.0       3\n",
      "43.0      0.857143  0.142857      6.0      1.0       7\n",
      "44.0      1.000000  0.000000      1.0      0.0       1\n",
      "45.0      1.000000  0.000000      4.0      0.0       4\n",
      "46.0      1.000000  0.000000      3.0      0.0       3\n",
      "47.0      1.000000  0.000000      2.0      0.0       2\n",
      "48.0      1.000000  0.000000      1.0      0.0       1\n",
      "49.0      1.000000  0.000000      1.0      0.0       1\n",
      "50.0      1.000000  0.000000      1.0      0.0       1\n",
      "51.0      1.000000  0.000000      5.0      0.0       5\n"
     ]
    }
   ],
   "source": [
    "value_counts_ratio(train, '미세주입된_난자_수')"
   ]
  },
  {
   "cell_type": "code",
   "execution_count": 632,
   "metadata": {},
   "outputs": [
    {
     "name": "stdout",
     "output_type": "stream",
     "text": [
      "결측값 개수: 6290\n",
      "결측값 개수: 0\n"
     ]
    }
   ],
   "source": [
    "print(\"결측값 개수:\", train['미세주입된_난자_수'].isnull().sum())\n",
    "\n",
    "train['미세주입된_난자_수'].fillna(-1, inplace=True)\n",
    "test['미세주입된_난자_수'].fillna(-1, inplace=True)\n",
    "\n",
    "print(\"결측값 개수:\", train['미세주입된_난자_수'].isnull().sum())"
   ]
  },
  {
   "cell_type": "markdown",
   "metadata": {},
   "source": [
    "### 41. 미세주입에서_생성된_배아_수"
   ]
  },
  {
   "cell_type": "markdown",
   "metadata": {},
   "source": [
    "ICSI를 통해 생성된 배아의 수"
   ]
  },
  {
   "cell_type": "code",
   "execution_count": 633,
   "metadata": {},
   "outputs": [
    {
     "name": "stdout",
     "output_type": "stream",
     "text": [
      "\n",
      "미세주입에서_생성된_배아_수별 임신_성공_여부 비율 및 갯수\n",
      "\n",
      "                 0         1        0        1   Total\n",
      "variable                                              \n",
      "0.0       0.756900  0.243100  99736.0  32033.0  131769\n",
      "1.0       0.908532  0.091468   9009.0    907.0    9916\n",
      "2.0       0.817908  0.182092  10331.0   2300.0   12631\n",
      "3.0       0.758276  0.241724  10468.0   3337.0   13805\n",
      "4.0       0.719729  0.280271   9992.0   3891.0   13883\n",
      "5.0       0.689546  0.310454   8911.0   4012.0   12923\n",
      "6.0       0.671874  0.328126   7785.0   3802.0   11587\n",
      "7.0       0.659416  0.340584   6275.0   3241.0    9516\n",
      "8.0       0.651130  0.348870   5071.0   2717.0    7788\n",
      "9.0       0.641665  0.358335   3961.0   2212.0    6173\n",
      "10.0      0.635817  0.364183   3064.0   1755.0    4819\n",
      "11.0      0.624231  0.375769   2334.0   1405.0    3739\n",
      "12.0      0.662865  0.337135   1976.0   1005.0    2981\n",
      "13.0      0.642027  0.357973   1381.0    770.0    2151\n",
      "14.0      0.646536  0.353464   1092.0    597.0    1689\n",
      "15.0      0.653974  0.346026    790.0    418.0    1208\n",
      "16.0      0.694570  0.305430    614.0    270.0     884\n",
      "17.0      0.661871  0.338129    460.0    235.0     695\n",
      "18.0      0.693837  0.306163    349.0    154.0     503\n",
      "19.0      0.702006  0.297994    245.0    104.0     349\n",
      "20.0      0.711610  0.288390    190.0     77.0     267\n",
      "21.0      0.745098  0.254902    152.0     52.0     204\n",
      "22.0      0.737931  0.262069    107.0     38.0     145\n",
      "23.0      0.788136  0.211864     93.0     25.0     118\n",
      "24.0      0.846154  0.153846     66.0     12.0      78\n",
      "25.0      0.808824  0.191176     55.0     13.0      68\n",
      "26.0      0.794872  0.205128     31.0      8.0      39\n",
      "27.0      0.771429  0.228571     27.0      8.0      35\n",
      "28.0      0.800000  0.200000     16.0      4.0      20\n",
      "29.0      0.761905  0.238095     16.0      5.0      21\n",
      "30.0      0.875000  0.125000     14.0      2.0      16\n",
      "31.0      0.833333  0.166667      5.0      1.0       6\n",
      "32.0      0.750000  0.250000      6.0      2.0       8\n",
      "33.0      1.000000  0.000000      6.0      0.0       6\n",
      "34.0      0.500000  0.500000      3.0      3.0       6\n",
      "36.0      1.000000  0.000000      1.0      0.0       1\n",
      "37.0      1.000000  0.000000      1.0      0.0       1\n",
      "38.0      1.000000  0.000000      1.0      0.0       1\n",
      "41.0      1.000000  0.000000      2.0      0.0       2\n",
      "42.0      1.000000  0.000000      2.0      0.0       2\n",
      "43.0      1.000000  0.000000      1.0      0.0       1\n"
     ]
    }
   ],
   "source": [
    "value_counts_ratio(train, '미세주입에서_생성된_배아_수')"
   ]
  },
  {
   "cell_type": "code",
   "execution_count": 634,
   "metadata": {},
   "outputs": [
    {
     "name": "stdout",
     "output_type": "stream",
     "text": [
      "결측값 개수: 6290\n",
      "결측값 개수: 0\n"
     ]
    }
   ],
   "source": [
    "print(\"결측값 개수:\", train['미세주입에서_생성된_배아_수'].isnull().sum())\n",
    "\n",
    "train['미세주입에서_생성된_배아_수'].fillna(-1, inplace=True)\n",
    "test['미세주입에서_생성된_배아_수'].fillna(-1, inplace=True)\n",
    "\n",
    "print(\"결측값 개수:\", train['미세주입에서_생성된_배아_수'].isnull().sum())"
   ]
  },
  {
   "cell_type": "markdown",
   "metadata": {},
   "source": [
    "### 42. 이식된_배아_수"
   ]
  },
  {
   "cell_type": "markdown",
   "metadata": {},
   "source": [
    "이식된 배아의 총 수"
   ]
  },
  {
   "cell_type": "code",
   "execution_count": 635,
   "metadata": {},
   "outputs": [
    {
     "name": "stdout",
     "output_type": "stream",
     "text": [
      "\n",
      "이식된_배아_수별 임신_성공_여부 비율 및 갯수\n",
      "\n",
      "                 0         1      0      1   Total\n",
      "variable                                          \n",
      "0.0       0.999179  0.000821  36512     30   36542\n",
      "1.0       0.686456  0.313544  64382  29407   93789\n",
      "2.0       0.688911  0.311089  76361  34482  110843\n",
      "3.0       0.831532  0.168468   7384   1496    8880\n"
     ]
    }
   ],
   "source": [
    "value_counts_ratio(train, '이식된_배아_수')"
   ]
  },
  {
   "cell_type": "code",
   "execution_count": 636,
   "metadata": {},
   "outputs": [
    {
     "name": "stdout",
     "output_type": "stream",
     "text": [
      "결측값 개수: 6290\n",
      "결측값 개수: 0\n"
     ]
    }
   ],
   "source": [
    "print(\"결측값 개수:\", train['이식된_배아_수'].isnull().sum())\n",
    "\n",
    "train['이식된_배아_수'].fillna(-1, inplace=True)\n",
    "test['이식된_배아_수'].fillna(-1, inplace=True)\n",
    "\n",
    "print(\"결측값 개수:\", train['이식된_배아_수'].isnull().sum())"
   ]
  },
  {
   "cell_type": "markdown",
   "metadata": {},
   "source": [
    "### 43. 미세주입_배아_이식_수"
   ]
  },
  {
   "cell_type": "markdown",
   "metadata": {},
   "source": [
    "ICSI 배아 중 이식된 배아의 수"
   ]
  },
  {
   "cell_type": "code",
   "execution_count": 637,
   "metadata": {},
   "outputs": [
    {
     "name": "stdout",
     "output_type": "stream",
     "text": [
      "\n",
      "미세주입_배아_이식_수별 임신_성공_여부 비율 및 갯수\n",
      "\n",
      "                 0         1       0      1   Total\n",
      "variable                                           \n",
      "0.0       0.776133  0.223867  107704  31066  138770\n",
      "1.0       0.680559  0.319441   31629  14846   46475\n",
      "2.0       0.687683  0.312317   41043  18640   59683\n",
      "3.0       0.831643  0.168357    4263    863    5126\n"
     ]
    }
   ],
   "source": [
    "value_counts_ratio(train, '미세주입_배아_이식_수')"
   ]
  },
  {
   "cell_type": "code",
   "execution_count": 638,
   "metadata": {},
   "outputs": [
    {
     "name": "stdout",
     "output_type": "stream",
     "text": [
      "결측값 개수: 6290\n",
      "결측값 개수: 0\n"
     ]
    }
   ],
   "source": [
    "print(\"결측값 개수:\", train['미세주입_배아_이식_수'].isnull().sum())\n",
    "\n",
    "train['미세주입_배아_이식_수'].fillna(-1, inplace=True)\n",
    "test['미세주입_배아_이식_수'].fillna(-1, inplace=True)\n",
    "\n",
    "print(\"결측값 개수:\", train['미세주입_배아_이식_수'].isnull().sum())"
   ]
  },
  {
   "cell_type": "markdown",
   "metadata": {},
   "source": [
    "### 44. 저장된_배아_수"
   ]
  },
  {
   "cell_type": "markdown",
   "metadata": {},
   "source": [
    "환자를 위해 저장된 배아의 수"
   ]
  },
  {
   "cell_type": "code",
   "execution_count": 639,
   "metadata": {},
   "outputs": [
    {
     "name": "stdout",
     "output_type": "stream",
     "text": [
      "\n",
      "저장된_배아_수별 임신_성공_여부 비율 및 갯수\n",
      "\n",
      "                 0         1         0        1   Total\n",
      "variable                                               \n",
      "0.0       0.777878  0.222122  129799.0  37064.0  166863\n",
      "1.0       0.654653  0.345347   13332.0   7033.0   20365\n",
      "2.0       0.629509  0.370491   12514.0   7365.0   19879\n",
      "3.0       0.630304  0.369696    8511.0   4992.0   13503\n",
      "4.0       0.639706  0.360294    5916.0   3332.0    9248\n",
      "5.0       0.650552  0.349448    3889.0   2089.0    5978\n",
      "6.0       0.667477  0.332523    2746.0   1368.0    4114\n",
      "7.0       0.705461  0.294539    1873.0    782.0    2655\n",
      "8.0       0.714971  0.285029    1342.0    535.0    1877\n",
      "9.0       0.740482  0.259518     953.0    334.0    1287\n",
      "10.0      0.781065  0.218935     792.0    222.0    1014\n",
      "11.0      0.828076  0.171924     525.0    109.0     634\n",
      "12.0      0.841121  0.158879     450.0     85.0     535\n",
      "13.0      0.911616  0.088384     361.0     35.0     396\n",
      "14.0      0.936232  0.063768     323.0     22.0     345\n",
      "15.0      0.929134  0.070866     236.0     18.0     254\n",
      "16.0      0.928934  0.071066     183.0     14.0     197\n",
      "17.0      0.977654  0.022346     175.0      4.0     179\n",
      "18.0      0.982353  0.017647     167.0      3.0     170\n",
      "19.0      0.980000  0.020000      98.0      2.0     100\n",
      "20.0      0.981651  0.018349     107.0      2.0     109\n",
      "21.0      0.986667  0.013333      74.0      1.0      75\n",
      "22.0      1.000000  0.000000      67.0      0.0      67\n",
      "23.0      0.955224  0.044776      64.0      3.0      67\n",
      "24.0      0.973684  0.026316      37.0      1.0      38\n",
      "25.0      1.000000  0.000000      32.0      0.0      32\n",
      "26.0      1.000000  0.000000      16.0      0.0      16\n",
      "27.0      1.000000  0.000000      12.0      0.0      12\n",
      "28.0      1.000000  0.000000       8.0      0.0       8\n",
      "29.0      1.000000  0.000000       7.0      0.0       7\n",
      "30.0      1.000000  0.000000       9.0      0.0       9\n",
      "31.0      1.000000  0.000000       2.0      0.0       2\n",
      "32.0      1.000000  0.000000       4.0      0.0       4\n",
      "33.0      1.000000  0.000000       1.0      0.0       1\n",
      "34.0      1.000000  0.000000       3.0      0.0       3\n",
      "36.0      1.000000  0.000000       2.0      0.0       2\n",
      "37.0      1.000000  0.000000       2.0      0.0       2\n",
      "38.0      1.000000  0.000000       1.0      0.0       1\n",
      "41.0      1.000000  0.000000       2.0      0.0       2\n",
      "42.0      1.000000  0.000000       1.0      0.0       1\n",
      "44.0      1.000000  0.000000       1.0      0.0       1\n",
      "51.0      1.000000  0.000000       2.0      0.0       2\n"
     ]
    }
   ],
   "source": [
    "value_counts_ratio(train, '저장된_배아_수')"
   ]
  },
  {
   "cell_type": "code",
   "execution_count": 640,
   "metadata": {},
   "outputs": [],
   "source": [
    "# '저장된_배아_수' 값이 17 이상이면 1을 부여하는 파생변수 생성\n",
    "train['저장된_배아_수_17이상'] = train['저장된_배아_수'].apply(lambda x: 1 if x >= 17 else 0)\n",
    "test['저장된_배아_수_17이상'] = test['저장된_배아_수'].apply(lambda x: 1 if x >= 17 else 0)"
   ]
  },
  {
   "cell_type": "code",
   "execution_count": 641,
   "metadata": {},
   "outputs": [
    {
     "name": "stdout",
     "output_type": "stream",
     "text": [
      "결측값 개수: 6290\n",
      "결측값 개수: 0\n"
     ]
    }
   ],
   "source": [
    "print(\"결측값 개수:\", train['저장된_배아_수'].isnull().sum())\n",
    "\n",
    "train['저장된_배아_수'].fillna(-1, inplace=True)\n",
    "test['저장된_배아_수'].fillna(-1, inplace=True)\n",
    "\n",
    "print(\"결측값 개수:\", train['저장된_배아_수'].isnull().sum())"
   ]
  },
  {
   "cell_type": "markdown",
   "metadata": {},
   "source": [
    "### 45. 미세주입_후_저장된_배아_수"
   ]
  },
  {
   "cell_type": "markdown",
   "metadata": {},
   "source": [
    "ICSI 처리된 배아 중 저장된 배아의 수"
   ]
  },
  {
   "cell_type": "code",
   "execution_count": 642,
   "metadata": {},
   "outputs": [
    {
     "name": "stdout",
     "output_type": "stream",
     "text": [
      "\n",
      "미세주입_후_저장된_배아_수별 임신_성공_여부 비율 및 갯수\n",
      "\n",
      "                 0         1         0        1   Total\n",
      "variable                                               \n",
      "0.0       0.755905  0.244095  154423.0  49866.0  204289\n",
      "1.0       0.653485  0.346515    8064.0   4276.0   12340\n",
      "2.0       0.624791  0.375209    7092.0   4259.0   11351\n",
      "3.0       0.633647  0.366353    4708.0   2722.0    7430\n",
      "4.0       0.645731  0.354269    3146.0   1726.0    4872\n",
      "5.0       0.656188  0.343812    1983.0   1039.0    3022\n",
      "6.0       0.673375  0.326625    1305.0    633.0    1938\n",
      "7.0       0.741986  0.258014     949.0    330.0    1279\n",
      "8.0       0.741419  0.258581     648.0    226.0     874\n",
      "9.0       0.768233  0.231767     474.0    143.0     617\n",
      "10.0      0.830835  0.169165     388.0     79.0     467\n",
      "11.0      0.851724  0.148276     247.0     43.0     290\n",
      "12.0      0.853282  0.146718     221.0     38.0     259\n",
      "13.0      0.925000  0.075000     185.0     15.0     200\n",
      "14.0      0.971429  0.028571     170.0      5.0     175\n",
      "15.0      0.968750  0.031250     124.0      4.0     128\n",
      "16.0      0.951923  0.048077      99.0      5.0     104\n",
      "17.0      0.975000  0.025000      78.0      2.0      80\n",
      "18.0      0.975309  0.024691      79.0      2.0      81\n",
      "19.0      0.980769  0.019231      51.0      1.0      52\n",
      "20.0      1.000000  0.000000      44.0      0.0      44\n",
      "21.0      1.000000  0.000000      31.0      0.0      31\n",
      "22.0      1.000000  0.000000      32.0      0.0      32\n",
      "23.0      0.968750  0.031250      31.0      1.0      32\n",
      "24.0      1.000000  0.000000      19.0      0.0      19\n",
      "25.0      1.000000  0.000000      17.0      0.0      17\n",
      "26.0      1.000000  0.000000       4.0      0.0       4\n",
      "27.0      1.000000  0.000000       8.0      0.0       8\n",
      "28.0      1.000000  0.000000       3.0      0.0       3\n",
      "29.0      1.000000  0.000000       4.0      0.0       4\n",
      "30.0      1.000000  0.000000       4.0      0.0       4\n",
      "32.0      1.000000  0.000000       2.0      0.0       2\n",
      "34.0      1.000000  0.000000       1.0      0.0       1\n",
      "38.0      1.000000  0.000000       1.0      0.0       1\n",
      "41.0      1.000000  0.000000       1.0      0.0       1\n",
      "42.0      1.000000  0.000000       1.0      0.0       1\n",
      "43.0      1.000000  0.000000       1.0      0.0       1\n",
      "51.0      1.000000  0.000000       1.0      0.0       1\n"
     ]
    }
   ],
   "source": [
    "value_counts_ratio(train, '미세주입_후_저장된_배아_수')"
   ]
  },
  {
   "cell_type": "code",
   "execution_count": 643,
   "metadata": {},
   "outputs": [],
   "source": [
    "# '미세주입_후_저장된_배아_수' 값이 14 이상이면 1을 부여하는 파생변수 생성\n",
    "train['미세주입_후_저장된_배아_수_14이상'] = train['미세주입_후_저장된_배아_수'].apply(lambda x: 1 if x >= 14 else 0)\n",
    "test['미세주입_후_저장된_배아_수_14이상'] = test['미세주입_후_저장된_배아_수'].apply(lambda x: 1 if x >= 14 else 0)"
   ]
  },
  {
   "cell_type": "code",
   "execution_count": 644,
   "metadata": {},
   "outputs": [
    {
     "name": "stdout",
     "output_type": "stream",
     "text": [
      "결측값 개수: 6290\n",
      "결측값 개수: 0\n"
     ]
    }
   ],
   "source": [
    "print(\"결측값 개수:\", train['미세주입_후_저장된_배아_수'].isnull().sum())\n",
    "\n",
    "train['미세주입_후_저장된_배아_수'].fillna(-1, inplace=True)\n",
    "test['미세주입_후_저장된_배아_수'].fillna(-1, inplace=True)\n",
    "\n",
    "print(\"결측값 개수:\", train['미세주입_후_저장된_배아_수'].isnull().sum())"
   ]
  },
  {
   "cell_type": "markdown",
   "metadata": {},
   "source": [
    "### 46. 해동된_배아_수"
   ]
  },
  {
   "cell_type": "markdown",
   "metadata": {},
   "source": [
    "동결 해동된 배아의 수"
   ]
  },
  {
   "cell_type": "code",
   "execution_count": 645,
   "metadata": {},
   "outputs": [
    {
     "name": "stdout",
     "output_type": "stream",
     "text": [
      "\n",
      "해동된_배아_수별 임신_성공_여부 비율 및 갯수\n",
      "\n",
      "                 0         1         0        1   Total\n",
      "variable                                               \n",
      "0.0       0.732017  0.267983  153482.0  56188.0  209670\n",
      "1.0       0.784757  0.215243   10245.0   2810.0   13055\n",
      "2.0       0.761242  0.238758    9192.0   2883.0   12075\n",
      "3.0       0.794957  0.205043    4288.0   1106.0    5394\n",
      "4.0       0.778679  0.221321    2688.0    764.0    3452\n",
      "5.0       0.766133  0.233867    1484.0    453.0    1937\n",
      "6.0       0.752502  0.247498    1128.0    371.0    1499\n",
      "7.0       0.759463  0.240537     622.0    197.0     819\n",
      "8.0       0.699068  0.300932     525.0    226.0     751\n",
      "9.0       0.672330  0.327670     277.0    135.0     412\n",
      "10.0      0.741279  0.258721     255.0     89.0     344\n",
      "11.0      0.756410  0.243590     118.0     38.0     156\n",
      "12.0      0.673611  0.326389      97.0     47.0     144\n",
      "13.0      0.679012  0.320988      55.0     26.0      81\n",
      "14.0      0.720000  0.280000      54.0     21.0      75\n",
      "15.0      0.714286  0.285714      30.0     12.0      42\n",
      "16.0      0.574468  0.425532      27.0     20.0      47\n",
      "17.0      0.740741  0.259259      20.0      7.0      27\n",
      "18.0      0.750000  0.250000      18.0      6.0      24\n",
      "19.0      0.812500  0.187500      13.0      3.0      16\n",
      "20.0      0.600000  0.400000       3.0      2.0       5\n",
      "21.0      0.428571  0.571429       3.0      4.0       7\n",
      "22.0      0.500000  0.500000       3.0      3.0       6\n",
      "23.0      0.600000  0.400000       3.0      2.0       5\n",
      "24.0      0.750000  0.250000       3.0      1.0       4\n",
      "26.0      0.800000  0.200000       4.0      1.0       5\n",
      "30.0      1.000000  0.000000       1.0      0.0       1\n",
      "32.0      1.000000  0.000000       1.0      0.0       1\n"
     ]
    }
   ],
   "source": [
    "value_counts_ratio(train, '해동된_배아_수')"
   ]
  },
  {
   "cell_type": "code",
   "execution_count": 646,
   "metadata": {},
   "outputs": [
    {
     "name": "stdout",
     "output_type": "stream",
     "text": [
      "결측값 개수: 6290\n",
      "결측값 개수: 0\n"
     ]
    }
   ],
   "source": [
    "print(\"결측값 개수:\", train['해동된_배아_수'].isnull().sum())\n",
    "\n",
    "train['해동된_배아_수'].fillna(-1, inplace=True)\n",
    "test['해동된_배아_수'].fillna(-1, inplace=True)\n",
    "\n",
    "print(\"결측값 개수:\", train['해동된_배아_수'].isnull().sum())"
   ]
  },
  {
   "cell_type": "markdown",
   "metadata": {},
   "source": [
    "### 47. 해동_난자_수"
   ]
  },
  {
   "cell_type": "markdown",
   "metadata": {},
   "source": [
    "동결 해동된 난자의 수"
   ]
  },
  {
   "cell_type": "code",
   "execution_count": 647,
   "metadata": {},
   "outputs": [
    {
     "name": "stdout",
     "output_type": "stream",
     "text": [
      "\n",
      "해동_난자_수별 임신_성공_여부 비율 및 갯수\n",
      "\n",
      "                 0         1         0        1   Total\n",
      "variable                                               \n",
      "0.0       0.738167  0.261833  183515.0  65094.0  248609\n",
      "1.0       0.923077  0.076923      24.0      2.0      26\n",
      "2.0       0.907692  0.092308      59.0      6.0      65\n",
      "3.0       0.907692  0.092308      59.0      6.0      65\n",
      "4.0       0.892308  0.107692     116.0     14.0     130\n",
      "5.0       0.859813  0.140187      92.0     15.0     107\n",
      "6.0       0.801170  0.198830     137.0     34.0     171\n",
      "7.0       0.713287  0.286713     102.0     41.0     143\n",
      "8.0       0.703196  0.296804     154.0     65.0     219\n",
      "9.0       0.780952  0.219048      82.0     23.0     105\n",
      "10.0      0.769231  0.230769      70.0     21.0      91\n",
      "11.0      0.761194  0.238806      51.0     16.0      67\n",
      "12.0      0.657143  0.342857      46.0     24.0      70\n",
      "13.0      0.812500  0.187500      26.0      6.0      32\n",
      "14.0      0.613636  0.386364      27.0     17.0      44\n",
      "15.0      0.594595  0.405405      22.0     15.0      37\n",
      "16.0      0.550000  0.450000      11.0      9.0      20\n",
      "17.0      0.785714  0.214286      11.0      3.0      14\n",
      "18.0      0.857143  0.142857       6.0      1.0       7\n",
      "19.0      0.916667  0.083333      11.0      1.0      12\n",
      "20.0      1.000000  0.000000       5.0      0.0       5\n",
      "21.0      1.000000  0.000000       2.0      0.0       2\n",
      "22.0      0.000000  1.000000       0.0      1.0       1\n",
      "23.0      0.500000  0.500000       1.0      1.0       2\n",
      "24.0      1.000000  0.000000       3.0      0.0       3\n",
      "25.0      1.000000  0.000000       1.0      0.0       1\n",
      "26.0      1.000000  0.000000       2.0      0.0       2\n",
      "27.0      1.000000  0.000000       1.0      0.0       1\n",
      "32.0      1.000000  0.000000       1.0      0.0       1\n",
      "33.0      1.000000  0.000000       1.0      0.0       1\n",
      "36.0      1.000000  0.000000       1.0      0.0       1\n"
     ]
    }
   ],
   "source": [
    "value_counts_ratio(train, '해동_난자_수')"
   ]
  },
  {
   "cell_type": "code",
   "execution_count": 648,
   "metadata": {},
   "outputs": [
    {
     "name": "stdout",
     "output_type": "stream",
     "text": [
      "결측값 개수: 6290\n",
      "결측값 개수: 0\n"
     ]
    }
   ],
   "source": [
    "print(\"결측값 개수:\", train['해동_난자_수'].isnull().sum())\n",
    "\n",
    "train['해동_난자_수'].fillna(-1, inplace=True)\n",
    "test['해동_난자_수'].fillna(-1, inplace=True)\n",
    "\n",
    "print(\"결측값 개수:\", train['해동_난자_수'].isnull().sum())"
   ]
  },
  {
   "cell_type": "markdown",
   "metadata": {},
   "source": [
    "### 48. 수집된_신선_난자_수"
   ]
  },
  {
   "cell_type": "markdown",
   "metadata": {},
   "source": [
    "신선 난자가 수집된 수"
   ]
  },
  {
   "cell_type": "code",
   "execution_count": 649,
   "metadata": {},
   "outputs": [
    {
     "name": "stdout",
     "output_type": "stream",
     "text": [
      "\n",
      "수집된_신선_난자_수별 임신_성공_여부 비율 및 갯수\n",
      "\n",
      "                 0         1        0        1  Total\n",
      "variable                                             \n",
      "0.0       0.759528  0.240472  40896.0  12948.0  53844\n",
      "1.0       0.948279  0.051721   4602.0    251.0   4853\n",
      "2.0       0.909020  0.090980   5855.0    586.0   6441\n",
      "3.0       0.867346  0.132654   7068.0   1081.0   8149\n",
      "4.0       0.824000  0.176000   8240.0   1760.0  10000\n",
      "5.0       0.790379  0.209621   9102.0   2414.0  11516\n",
      "6.0       0.773797  0.226203   9763.0   2854.0  12617\n",
      "7.0       0.746945  0.253055   9779.0   3313.0  13092\n",
      "8.0       0.725173  0.274827   9668.0   3664.0  13332\n",
      "9.0       0.718030  0.281970   9287.0   3647.0  12934\n",
      "10.0      0.697813  0.302187   8902.0   3855.0  12757\n",
      "11.0      0.682752  0.317248   8178.0   3800.0  11978\n",
      "12.0      0.671998  0.328002   7353.0   3589.0  10942\n",
      "13.0      0.664711  0.335289   6570.0   3314.0   9884\n",
      "14.0      0.668292  0.331708   6032.0   2994.0   9026\n",
      "15.0      0.662559  0.337441   5162.0   2629.0   7791\n",
      "16.0      0.662976  0.337024   4491.0   2283.0   6774\n",
      "17.0      0.657123  0.342877   3787.0   1976.0   5763\n",
      "18.0      0.652200  0.347800   3231.0   1723.0   4954\n",
      "19.0      0.654985  0.345015   2654.0   1398.0   4052\n",
      "20.0      0.672518  0.327482   2337.0   1138.0   3475\n",
      "21.0      0.671208  0.328792   1872.0    917.0   2789\n",
      "22.0      0.693851  0.306149   1591.0    702.0   2293\n",
      "23.0      0.691529  0.308471   1298.0    579.0   1877\n",
      "24.0      0.691981  0.308019   1139.0    507.0   1646\n",
      "25.0      0.717407  0.282593    985.0    388.0   1373\n",
      "26.0      0.763514  0.236486    791.0    245.0   1036\n",
      "27.0      0.776733  0.223267    661.0    190.0    851\n",
      "28.0      0.780220  0.219780    568.0    160.0    728\n",
      "29.0      0.812274  0.187726    450.0    104.0    554\n",
      "30.0      0.806000  0.194000    403.0     97.0    500\n",
      "31.0      0.817694  0.182306    305.0     68.0    373\n",
      "32.0      0.825581  0.174419    284.0     60.0    344\n",
      "33.0      0.858736  0.141264    231.0     38.0    269\n",
      "34.0      0.874439  0.125561    195.0     28.0    223\n",
      "35.0      0.836066  0.163934    153.0     30.0    183\n",
      "36.0      0.904459  0.095541    142.0     15.0    157\n",
      "37.0      0.848485  0.151515    112.0     20.0    132\n",
      "38.0      0.884615  0.115385     92.0     12.0    104\n",
      "39.0      0.937500  0.062500     60.0      4.0     64\n",
      "40.0      0.881579  0.118421     67.0      9.0     76\n",
      "41.0      0.933333  0.066667     42.0      3.0     45\n",
      "42.0      0.897959  0.102041     44.0      5.0     49\n",
      "43.0      0.903226  0.096774     28.0      3.0     31\n",
      "44.0      0.916667  0.083333     22.0      2.0     24\n",
      "45.0      0.782609  0.217391     18.0      5.0     23\n",
      "46.0      1.000000  0.000000     26.0      0.0     26\n",
      "47.0      0.812500  0.187500     13.0      3.0     16\n",
      "48.0      0.800000  0.200000      4.0      1.0      5\n",
      "49.0      0.818182  0.181818      9.0      2.0     11\n",
      "50.0      0.923077  0.076923     12.0      1.0     13\n",
      "51.0      1.000000  0.000000     65.0      0.0     65\n"
     ]
    }
   ],
   "source": [
    "value_counts_ratio(train, '수집된_신선_난자_수')"
   ]
  },
  {
   "cell_type": "code",
   "execution_count": 650,
   "metadata": {},
   "outputs": [
    {
     "name": "stdout",
     "output_type": "stream",
     "text": [
      "결측값 개수: 6290\n",
      "결측값 개수: 0\n"
     ]
    }
   ],
   "source": [
    "print(\"결측값 개수:\", train['수집된_신선_난자_수'].isnull().sum())\n",
    "\n",
    "train['수집된_신선_난자_수'].fillna(-1, inplace=True)\n",
    "test['수집된_신선_난자_수'].fillna(-1, inplace=True)\n",
    "\n",
    "print(\"결측값 개수:\", train['수집된_신선_난자_수'].isnull().sum())"
   ]
  },
  {
   "cell_type": "code",
   "execution_count": 651,
   "metadata": {},
   "outputs": [],
   "source": [
    "# '수집된_신선_난자_수' 변수의 값이 10 에서 24 이하인 경우 더미 변수로 1, 그렇지 않으면 0 부여\n",
    "train['수집된_신선난자수_적정'] = train['수집된_신선_난자_수'].apply(lambda x: 1 if 10 <= x <= 24 else 0)\n",
    "test['수집된_신선난자수_적정'] = test['수집된_신선_난자_수'].apply(lambda x: 1 if 10 <= x <= 24 else 0)"
   ]
  },
  {
   "cell_type": "markdown",
   "metadata": {},
   "source": [
    "### 49. 저장된_신선_난자_수"
   ]
  },
  {
   "cell_type": "markdown",
   "metadata": {},
   "source": [
    "저장된 신선 난자의 수"
   ]
  },
  {
   "cell_type": "code",
   "execution_count": 652,
   "metadata": {},
   "outputs": [
    {
     "name": "stdout",
     "output_type": "stream",
     "text": [
      "\n",
      "저장된_신선_난자_수별 임신_성공_여부 비율 및 갯수\n",
      "\n",
      "                 0         1         0        1   Total\n",
      "variable                                               \n",
      "0.0       0.735751  0.264249  182016.0  65372.0  247388\n",
      "1.0       0.972414  0.027586     141.0      4.0     145\n",
      "2.0       0.989418  0.010582     187.0      2.0     189\n",
      "3.0       0.985075  0.014925     198.0      3.0     201\n",
      "4.0       0.980392  0.019608     200.0      4.0     204\n",
      "5.0       0.972350  0.027650     211.0      6.0     217\n",
      "6.0       0.981308  0.018692     210.0      4.0     214\n",
      "7.0       0.977778  0.022222     176.0      4.0     180\n",
      "8.0       0.994536  0.005464     182.0      1.0     183\n",
      "9.0       0.979592  0.020408     144.0      3.0     147\n",
      "10.0      0.993197  0.006803     146.0      1.0     147\n",
      "11.0      0.967213  0.032787     118.0      4.0     122\n",
      "12.0      0.982609  0.017391     113.0      2.0     115\n",
      "13.0      1.000000  0.000000      86.0      0.0      86\n",
      "14.0      0.977273  0.022727      86.0      2.0      88\n",
      "15.0      0.987342  0.012658      78.0      1.0      79\n",
      "16.0      0.982456  0.017544      56.0      1.0      57\n",
      "17.0      1.000000  0.000000      50.0      0.0      50\n",
      "18.0      1.000000  0.000000      50.0      0.0      50\n",
      "19.0      0.966667  0.033333      29.0      1.0      30\n",
      "20.0      1.000000  0.000000      22.0      0.0      22\n",
      "21.0      1.000000  0.000000      17.0      0.0      17\n",
      "22.0      1.000000  0.000000      21.0      0.0      21\n",
      "23.0      1.000000  0.000000      18.0      0.0      18\n",
      "24.0      1.000000  0.000000      15.0      0.0      15\n",
      "25.0      1.000000  0.000000      14.0      0.0      14\n",
      "26.0      1.000000  0.000000      10.0      0.0      10\n",
      "27.0      1.000000  0.000000      12.0      0.0      12\n",
      "28.0      1.000000  0.000000       6.0      0.0       6\n",
      "29.0      1.000000  0.000000       4.0      0.0       4\n",
      "30.0      1.000000  0.000000       4.0      0.0       4\n",
      "31.0      1.000000  0.000000       2.0      0.0       2\n",
      "32.0      1.000000  0.000000       5.0      0.0       5\n",
      "33.0      1.000000  0.000000       1.0      0.0       1\n",
      "34.0      1.000000  0.000000       3.0      0.0       3\n",
      "35.0      1.000000  0.000000       3.0      0.0       3\n",
      "36.0      1.000000  0.000000       1.0      0.0       1\n",
      "37.0      1.000000  0.000000       1.0      0.0       1\n",
      "40.0      1.000000  0.000000       1.0      0.0       1\n",
      "46.0      1.000000  0.000000       1.0      0.0       1\n",
      "51.0      1.000000  0.000000       1.0      0.0       1\n"
     ]
    }
   ],
   "source": [
    "value_counts_ratio(train, '저장된_신선_난자_수')"
   ]
  },
  {
   "cell_type": "code",
   "execution_count": 653,
   "metadata": {},
   "outputs": [],
   "source": [
    "# '저장된_신선_난자_수' 변수의 값이 12 이상인 경우 더미 변수로 1 부여\n",
    "train['저장된_신선난자수_초괴'] = train['저장된_신선_난자_수'].apply(lambda x: 1 if x >= 12 else 0)\n",
    "test['저장된_신선난자수_초괴'] = test['저장된_신선_난자_수'].apply(lambda x: 1 if x >= 12 else 0)"
   ]
  },
  {
   "cell_type": "code",
   "execution_count": 654,
   "metadata": {},
   "outputs": [
    {
     "name": "stdout",
     "output_type": "stream",
     "text": [
      "결측값 개수: 6290\n",
      "결측값 개수: 0\n"
     ]
    }
   ],
   "source": [
    "print(\"결측값 개수:\", train['저장된_신선_난자_수'].isnull().sum())\n",
    "\n",
    "train['저장된_신선_난자_수'].fillna(-1, inplace=True)\n",
    "test['저장된_신선_난자_수'].fillna(-1, inplace=True)\n",
    "\n",
    "print(\"결측값 개수:\", train['저장된_신선_난자_수'].isnull().sum())"
   ]
  },
  {
   "cell_type": "markdown",
   "metadata": {},
   "source": [
    "### 50. 혼합된_난자_수"
   ]
  },
  {
   "cell_type": "markdown",
   "metadata": {},
   "source": [
    "정자와 혼합된 총 난자 수"
   ]
  },
  {
   "cell_type": "code",
   "execution_count": 655,
   "metadata": {},
   "outputs": [
    {
     "name": "stdout",
     "output_type": "stream",
     "text": [
      "\n",
      "혼합된_난자_수별 임신_성공_여부 비율 및 갯수\n",
      "\n",
      "                 0         1        0       1  Total\n",
      "variable                                            \n",
      "0.0       0.803790  0.196210  37496.0  9153.0  46649\n",
      "1.0       0.939370  0.060630   6058.0   391.0   6449\n",
      "2.0       0.892197  0.107803   7970.0   963.0   8933\n",
      "3.0       0.837625  0.162375   9270.0  1797.0  11067\n",
      "4.0       0.794531  0.205469  10808.0  2795.0  13603\n",
      "5.0       0.750419  0.249581  11639.0  3871.0  15510\n",
      "6.0       0.735992  0.264008  12032.0  4316.0  16348\n",
      "7.0       0.714706  0.285294  11416.0  4557.0  15973\n",
      "8.0       0.698027  0.301973  10647.0  4606.0  15253\n",
      "9.0       0.689592  0.310408   9726.0  4378.0  14104\n",
      "10.0      0.672614  0.327386   8746.0  4257.0  13003\n",
      "11.0      0.661431  0.338569   7664.0  3923.0  11587\n",
      "12.0      0.661170  0.338830   6736.0  3452.0  10188\n",
      "13.0      0.646627  0.353373   5636.0  3080.0   8716\n",
      "14.0      0.659124  0.340876   4981.0  2576.0   7557\n",
      "15.0      0.656989  0.343011   4277.0  2233.0   6510\n",
      "16.0      0.647866  0.352134   3446.0  1873.0   5319\n",
      "17.0      0.648966  0.351034   2823.0  1527.0   4350\n",
      "18.0      0.653510  0.346490   2318.0  1229.0   3547\n",
      "19.0      0.663165  0.336835   1894.0   962.0   2856\n",
      "20.0      0.662791  0.337209   1596.0   812.0   2408\n",
      "21.0      0.683663  0.316337   1314.0   608.0   1922\n",
      "22.0      0.694427  0.305573   1109.0   488.0   1597\n",
      "23.0      0.691712  0.308288    893.0   398.0   1291\n",
      "24.0      0.691794  0.308206    725.0   323.0   1048\n",
      "25.0      0.761962  0.238038    637.0   199.0    836\n",
      "26.0      0.760736  0.239264    496.0   156.0    652\n",
      "27.0      0.798883  0.201117    429.0   108.0    537\n",
      "28.0      0.799555  0.200445    359.0    90.0    449\n",
      "29.0      0.780864  0.219136    253.0    71.0    324\n",
      "30.0      0.810036  0.189964    226.0    53.0    279\n",
      "31.0      0.849246  0.150754    169.0    30.0    199\n",
      "32.0      0.830688  0.169312    157.0    32.0    189\n",
      "33.0      0.847682  0.152318    128.0    23.0    151\n",
      "34.0      0.852459  0.147541    104.0    18.0    122\n",
      "35.0      0.827273  0.172727     91.0    19.0    110\n",
      "36.0      0.879518  0.120482     73.0    10.0     83\n",
      "37.0      0.802817  0.197183     57.0    14.0     71\n",
      "38.0      0.868852  0.131148     53.0     8.0     61\n",
      "39.0      0.916667  0.083333     33.0     3.0     36\n",
      "40.0      0.939394  0.060606     31.0     2.0     33\n",
      "41.0      1.000000  0.000000     17.0     0.0     17\n",
      "42.0      0.772727  0.227273     17.0     5.0     22\n",
      "43.0      0.882353  0.117647     15.0     2.0     17\n",
      "44.0      1.000000  0.000000      9.0     0.0      9\n",
      "45.0      0.857143  0.142857      6.0     1.0      7\n",
      "46.0      1.000000  0.000000     12.0     0.0     12\n",
      "47.0      0.875000  0.125000      7.0     1.0      8\n",
      "48.0      1.000000  0.000000      3.0     0.0      3\n",
      "49.0      1.000000  0.000000      5.0     0.0      5\n",
      "50.0      0.800000  0.200000      4.0     1.0      5\n",
      "51.0      0.965517  0.034483     28.0     1.0     29\n"
     ]
    }
   ],
   "source": [
    "value_counts_ratio(train, '혼합된_난자_수')"
   ]
  },
  {
   "cell_type": "code",
   "execution_count": 656,
   "metadata": {},
   "outputs": [
    {
     "name": "stdout",
     "output_type": "stream",
     "text": [
      "결측값 개수: 6290\n",
      "결측값 개수: 0\n"
     ]
    }
   ],
   "source": [
    "print(\"결측값 개수:\", train['혼합된_난자_수'].isnull().sum())\n",
    "\n",
    "train['혼합된_난자_수'].fillna(-1, inplace=True)\n",
    "test['혼합된_난자_수'].fillna(-1, inplace=True)\n",
    "\n",
    "print(\"결측값 개수:\", train['혼합된_난자_수'].isnull().sum())"
   ]
  },
  {
   "cell_type": "markdown",
   "metadata": {},
   "source": [
    "### 51. 파트너_정자와_혼합된_난자_수"
   ]
  },
  {
   "cell_type": "markdown",
   "metadata": {},
   "source": [
    "파트너 정자와 혼합된 난자의 수"
   ]
  },
  {
   "cell_type": "code",
   "execution_count": 657,
   "metadata": {},
   "outputs": [
    {
     "name": "stdout",
     "output_type": "stream",
     "text": [
      "\n",
      "파트너_정자와_혼합된_난자_수별 임신_성공_여부 비율 및 갯수\n",
      "\n",
      "                 0         1        0        1  Total\n",
      "variable                                             \n",
      "0.0       0.782549  0.217451  49238.0  13682.0  62920\n",
      "1.0       0.939346  0.060654   5374.0    347.0   5721\n",
      "2.0       0.892287  0.107713   7207.0    870.0   8077\n",
      "3.0       0.837771  0.162229   8464.0   1639.0  10103\n",
      "4.0       0.796633  0.203367   9891.0   2525.0  12416\n",
      "5.0       0.751072  0.248928  10687.0   3542.0  14229\n",
      "6.0       0.737459  0.262541  11070.0   3941.0  15011\n",
      "7.0       0.717054  0.282946  10545.0   4161.0  14706\n",
      "8.0       0.698579  0.301421   9829.0   4241.0  14070\n",
      "9.0       0.690976  0.309024   9020.0   4034.0  13054\n",
      "10.0      0.674378  0.325622   8104.0   3913.0  12017\n",
      "11.0      0.660474  0.339526   7075.0   3637.0  10712\n",
      "12.0      0.661418  0.338582   6259.0   3204.0   9463\n",
      "13.0      0.646854  0.353146   5202.0   2840.0   8042\n",
      "14.0      0.659744  0.340256   4638.0   2392.0   7030\n",
      "15.0      0.656934  0.343066   3960.0   2068.0   6028\n",
      "16.0      0.649857  0.350143   3183.0   1715.0   4898\n",
      "17.0      0.649341  0.350659   2611.0   1410.0   4021\n",
      "18.0      0.652293  0.347707   2148.0   1145.0   3293\n",
      "19.0      0.661940  0.338060   1774.0    906.0   2680\n",
      "20.0      0.666067  0.333933   1480.0    742.0   2222\n",
      "21.0      0.682478  0.317522   1223.0    569.0   1792\n",
      "22.0      0.700068  0.299932   1034.0    443.0   1477\n",
      "23.0      0.690025  0.309975    837.0    376.0   1213\n",
      "24.0      0.687694  0.312306    665.0    302.0    967\n",
      "25.0      0.762219  0.237781    577.0    180.0    757\n",
      "26.0      0.757525  0.242475    453.0    145.0    598\n",
      "27.0      0.798805  0.201195    401.0    101.0    502\n",
      "28.0      0.792683  0.207317    325.0     85.0    410\n",
      "29.0      0.793220  0.206780    234.0     61.0    295\n",
      "30.0      0.807692  0.192308    210.0     50.0    260\n",
      "31.0      0.846995  0.153005    155.0     28.0    183\n",
      "32.0      0.818713  0.181287    140.0     31.0    171\n",
      "33.0      0.862595  0.137405    113.0     18.0    131\n",
      "34.0      0.849558  0.150442     96.0     17.0    113\n",
      "35.0      0.840000  0.160000     84.0     16.0    100\n",
      "36.0      0.902778  0.097222     65.0      7.0     72\n",
      "37.0      0.796875  0.203125     51.0     13.0     64\n",
      "38.0      0.872340  0.127660     41.0      6.0     47\n",
      "39.0      0.911765  0.088235     31.0      3.0     34\n",
      "40.0      0.935484  0.064516     29.0      2.0     31\n",
      "41.0      1.000000  0.000000     16.0      0.0     16\n",
      "42.0      0.809524  0.190476     17.0      4.0     21\n",
      "43.0      0.882353  0.117647     15.0      2.0     17\n",
      "44.0      1.000000  0.000000      7.0      0.0      7\n",
      "45.0      1.000000  0.000000      5.0      0.0      5\n",
      "46.0      1.000000  0.000000     12.0      0.0     12\n",
      "47.0      0.857143  0.142857      6.0      1.0      7\n",
      "48.0      1.000000  0.000000      3.0      0.0      3\n",
      "49.0      1.000000  0.000000      4.0      0.0      4\n",
      "50.0      1.000000  0.000000      4.0      0.0      4\n",
      "51.0      0.964286  0.035714     27.0      1.0     28\n"
     ]
    }
   ],
   "source": [
    "value_counts_ratio(train, '파트너_정자와_혼합된_난자_수')"
   ]
  },
  {
   "cell_type": "code",
   "execution_count": 658,
   "metadata": {},
   "outputs": [
    {
     "name": "stdout",
     "output_type": "stream",
     "text": [
      "결측값 개수: 6290\n",
      "결측값 개수: 0\n"
     ]
    }
   ],
   "source": [
    "print(\"결측값 개수:\", train['파트너_정자와_혼합된_난자_수'].isnull().sum())\n",
    "\n",
    "train['파트너_정자와_혼합된_난자_수'].fillna(-1, inplace=True)\n",
    "test['파트너_정자와_혼합된_난자_수'].fillna(-1, inplace=True)\n",
    "\n",
    "print(\"결측값 개수:\", train['파트너_정자와_혼합된_난자_수'].isnull().sum())"
   ]
  },
  {
   "cell_type": "markdown",
   "metadata": {},
   "source": [
    "### 52. 기증자_정자와_혼합된_난자_수"
   ]
  },
  {
   "cell_type": "markdown",
   "metadata": {},
   "source": [
    "기증자 정자와 혼합된 난자의 수"
   ]
  },
  {
   "cell_type": "code",
   "execution_count": 659,
   "metadata": {},
   "outputs": [
    {
     "name": "stdout",
     "output_type": "stream",
     "text": [
      "\n",
      "기증자_정자와_혼합된_난자_수별 임신_성공_여부 비율 및 갯수\n",
      "\n",
      "                 0         1         0        1   Total\n",
      "variable                                               \n",
      "0.0       0.739554  0.260446  173455.0  61085.0  234540\n",
      "1.0       0.937669  0.062331     692.0     46.0     738\n",
      "2.0       0.887486  0.112514     773.0     98.0     871\n",
      "3.0       0.835700  0.164300     824.0    162.0     986\n",
      "4.0       0.770574  0.229426     927.0    276.0    1203\n",
      "5.0       0.738497  0.261503     963.0    341.0    1304\n",
      "6.0       0.715959  0.284041     978.0    388.0    1366\n",
      "7.0       0.691083  0.308917     868.0    388.0    1256\n",
      "8.0       0.692110  0.307890     807.0    359.0    1166\n",
      "9.0       0.671952  0.328048     678.0    331.0    1009\n",
      "10.0      0.647752  0.352248     605.0    329.0     934\n",
      "11.0      0.667892  0.332108     545.0    271.0     816\n",
      "12.0      0.653153  0.346847     435.0    231.0     666\n",
      "13.0      0.636060  0.363940     381.0    218.0     599\n",
      "14.0      0.645702  0.354298     308.0    169.0     477\n",
      "15.0      0.641463  0.358537     263.0    147.0     410\n",
      "16.0      0.621849  0.378151     222.0    135.0     357\n",
      "17.0      0.644689  0.355311     176.0     97.0     273\n",
      "18.0      0.653465  0.346535     132.0     70.0     202\n",
      "19.0      0.675676  0.324324     100.0     48.0     148\n",
      "20.0      0.621622  0.378378      92.0     56.0     148\n",
      "21.0      0.675439  0.324561      77.0     37.0     114\n",
      "22.0      0.625000  0.375000      55.0     33.0      88\n",
      "23.0      0.614035  0.385965      35.0     22.0      57\n",
      "24.0      0.698413  0.301587      44.0     19.0      63\n",
      "25.0      0.741379  0.258621      43.0     15.0      58\n",
      "26.0      0.837838  0.162162      31.0      6.0      37\n",
      "27.0      0.800000  0.200000      20.0      5.0      25\n",
      "28.0      0.846154  0.153846      22.0      4.0      26\n",
      "29.0      0.619048  0.380952      13.0      8.0      21\n",
      "30.0      0.833333  0.166667      10.0      2.0      12\n",
      "31.0      0.833333  0.166667      10.0      2.0      12\n",
      "32.0      0.937500  0.062500      15.0      1.0      16\n",
      "33.0      0.666667  0.333333      10.0      5.0      15\n",
      "34.0      0.800000  0.200000       4.0      1.0       5\n",
      "35.0      0.666667  0.333333       4.0      2.0       6\n",
      "36.0      0.777778  0.222222       7.0      2.0       9\n",
      "37.0      0.800000  0.200000       4.0      1.0       5\n",
      "38.0      0.714286  0.285714       5.0      2.0       7\n",
      "39.0      1.000000  0.000000       2.0      0.0       2\n",
      "40.0      1.000000  0.000000       1.0      0.0       1\n",
      "41.0      1.000000  0.000000       1.0      0.0       1\n",
      "42.0      0.000000  1.000000       0.0      1.0       1\n",
      "45.0      0.000000  1.000000       0.0      1.0       1\n",
      "47.0      1.000000  0.000000       1.0      0.0       1\n",
      "49.0      1.000000  0.000000       1.0      0.0       1\n",
      "50.0      0.000000  1.000000       0.0      1.0       1\n"
     ]
    }
   ],
   "source": [
    "value_counts_ratio(train, '기증자_정자와_혼합된_난자_수')"
   ]
  },
  {
   "cell_type": "code",
   "execution_count": 660,
   "metadata": {},
   "outputs": [
    {
     "name": "stdout",
     "output_type": "stream",
     "text": [
      "결측값 개수: 6290\n",
      "결측값 개수: 0\n"
     ]
    }
   ],
   "source": [
    "print(\"결측값 개수:\", train['기증자_정자와_혼합된_난자_수'].isnull().sum())\n",
    "\n",
    "train['기증자_정자와_혼합된_난자_수'].fillna(-1, inplace=True)\n",
    "test['기증자_정자와_혼합된_난자_수'].fillna(-1, inplace=True)\n",
    "\n",
    "print(\"결측값 개수:\", train['기증자_정자와_혼합된_난자_수'].isnull().sum())"
   ]
  },
  {
   "cell_type": "markdown",
   "metadata": {},
   "source": [
    "### 53. 난자_출처"
   ]
  },
  {
   "cell_type": "markdown",
   "metadata": {},
   "source": [
    "난자 출처 정보"
   ]
  },
  {
   "cell_type": "code",
   "execution_count": 661,
   "metadata": {},
   "outputs": [
    {
     "name": "stdout",
     "output_type": "stream",
     "text": [
      "\n",
      "난자_출처별 임신_성공_여부 비율 및 갯수\n",
      "\n",
      "                 0         1       0      1   Total\n",
      "variable                                           \n",
      "기증 제공     0.684571  0.315429   10795   4974   15769\n",
      "본인 제공     0.742019  0.257981  173844  60441  234285\n",
      "알 수 없음    0.871065  0.128935    5479    811    6290\n"
     ]
    }
   ],
   "source": [
    "value_counts_ratio(train, '난자_출처')"
   ]
  },
  {
   "cell_type": "code",
   "execution_count": 662,
   "metadata": {},
   "outputs": [
    {
     "data": {
      "text/plain": [
       "본인 제공     82397\n",
       "기증 제공      5494\n",
       "알 수 없음     2176\n",
       "Name: 난자_출처, dtype: int64"
      ]
     },
     "execution_count": 662,
     "metadata": {},
     "output_type": "execute_result"
    }
   ],
   "source": [
    "test['난자_출처'].value_counts()"
   ]
  },
  {
   "cell_type": "code",
   "execution_count": 663,
   "metadata": {},
   "outputs": [
    {
     "name": "stdout",
     "output_type": "stream",
     "text": [
      "결측값 개수: 0\n",
      "결측값 개수: 0\n"
     ]
    }
   ],
   "source": [
    "print(\"결측값 개수:\", train['난자_출처'].isnull().sum())\n",
    "\n",
    "train['난자_출처'].fillna(-1, inplace=True)\n",
    "test['난자_출처'].fillna(-1, inplace=True)\n",
    "\n",
    "print(\"결측값 개수:\", train['난자_출처'].isnull().sum())"
   ]
  },
  {
   "cell_type": "markdown",
   "metadata": {},
   "source": [
    "### 54. 정자_출처"
   ]
  },
  {
   "cell_type": "markdown",
   "metadata": {},
   "source": [
    "정자 출처 정보"
   ]
  },
  {
   "cell_type": "code",
   "execution_count": 664,
   "metadata": {},
   "outputs": [
    {
     "name": "stdout",
     "output_type": "stream",
     "text": [
      "\n",
      "정자_출처별 임신_성공_여부 비율 및 갯수\n",
      "\n",
      "                    0         1         0        1   Total\n",
      "variable                                                  \n",
      "기증 제공        0.756247  0.243753   20430.0   6585.0   27015\n",
      "미할당          0.893443  0.106557     109.0     13.0     122\n",
      "배우자 및 기증 제공  1.000000  0.000000      14.0      0.0      14\n",
      "배우자 제공       0.739835  0.260165  169565.0  59628.0  229193\n"
     ]
    }
   ],
   "source": [
    "value_counts_ratio(train, '정자_출처')"
   ]
  },
  {
   "cell_type": "code",
   "execution_count": 665,
   "metadata": {},
   "outputs": [
    {
     "data": {
      "text/plain": [
       "배우자 제공         80569\n",
       "기증 제공           9460\n",
       "미할당               33\n",
       "배우자 및 기증 제공        5\n",
       "Name: 정자_출처, dtype: int64"
      ]
     },
     "execution_count": 665,
     "metadata": {},
     "output_type": "execute_result"
    }
   ],
   "source": [
    "test['정자_출처'].value_counts()"
   ]
  },
  {
   "cell_type": "code",
   "execution_count": 666,
   "metadata": {},
   "outputs": [
    {
     "name": "stdout",
     "output_type": "stream",
     "text": [
      "결측값 개수: 0\n",
      "결측값 개수: 0\n"
     ]
    }
   ],
   "source": [
    "print(\"결측값 개수:\", train['정자_출처'].isnull().sum())\n",
    "\n",
    "train['정자_출처'].fillna(-1, inplace=True)\n",
    "test['정자_출처'].fillna(-1, inplace=True)\n",
    "\n",
    "print(\"결측값 개수:\", train['정자_출처'].isnull().sum())"
   ]
  },
  {
   "cell_type": "markdown",
   "metadata": {},
   "source": [
    "### 55. 난자_기증자_나이"
   ]
  },
  {
   "cell_type": "markdown",
   "metadata": {},
   "source": [
    "난자 기증자의 등록 당시 나이"
   ]
  },
  {
   "cell_type": "code",
   "execution_count": 667,
   "metadata": {},
   "outputs": [
    {
     "name": "stdout",
     "output_type": "stream",
     "text": [
      "\n",
      "난자_기증자_나이별 임신_성공_여부 비율 및 갯수\n",
      "\n",
      "                 0         1       0      1   Total\n",
      "variable                                           \n",
      "만20세 이하   0.738095  0.261905     217     77     294\n",
      "만21-25세   0.670094  0.329906    1564    770    2334\n",
      "만26-30세   0.651728  0.348272    3243   1733    4976\n",
      "만31-35세   0.694785  0.305215    4423   1943    6366\n",
      "알 수 없음    0.745422  0.254578  180671  61703  242374\n"
     ]
    }
   ],
   "source": [
    "value_counts_ratio(train, '난자_기증자_나이')"
   ]
  },
  {
   "cell_type": "code",
   "execution_count": 668,
   "metadata": {},
   "outputs": [
    {
     "name": "stdout",
     "output_type": "stream",
     "text": [
      "결측값 개수: 0\n",
      "결측값 개수: 0\n"
     ]
    }
   ],
   "source": [
    "print(\"결측값 개수:\", train['난자_기증자_나이'].isnull().sum())\n",
    "\n",
    "train['난자_기증자_나이'].fillna(-1, inplace=True)\n",
    "test['난자_기증자_나이'].fillna(-1, inplace=True)\n",
    "\n",
    "print(\"결측값 개수:\", train['난자_기증자_나이'].isnull().sum())"
   ]
  },
  {
   "cell_type": "markdown",
   "metadata": {},
   "source": [
    "### 56. 정자_기증자_나이"
   ]
  },
  {
   "cell_type": "markdown",
   "metadata": {},
   "source": [
    "정자 기증자의 등록 당시 나이"
   ]
  },
  {
   "cell_type": "code",
   "execution_count": 669,
   "metadata": {},
   "outputs": [
    {
     "name": "stdout",
     "output_type": "stream",
     "text": [
      "\n",
      "정자_기증자_나이별 임신_성공_여부 비율 및 갯수\n",
      "\n",
      "                 0         1       0      1   Total\n",
      "variable                                           \n",
      "만20세 이하   0.790066  0.209934     843    224    1067\n",
      "만21-25세   0.758602  0.241398    4299   1368    5667\n",
      "만26-30세   0.751878  0.248122    3803   1255    5058\n",
      "만31-35세   0.751374  0.248626    3690   1221    4911\n",
      "만36-40세   0.754260  0.245740    3984   1298    5282\n",
      "만41-45세   0.756953  0.243047    2912    935    3847\n",
      "알 수 없음    0.740035  0.259965  170587  59925  230512\n"
     ]
    }
   ],
   "source": [
    "value_counts_ratio(train, '정자_기증자_나이')"
   ]
  },
  {
   "cell_type": "markdown",
   "metadata": {},
   "source": [
    "### 57. 동결_배아_사용_여부"
   ]
  },
  {
   "cell_type": "markdown",
   "metadata": {},
   "source": [
    "동결 배아가 사용되었는지 여부"
   ]
  },
  {
   "cell_type": "code",
   "execution_count": 670,
   "metadata": {},
   "outputs": [
    {
     "name": "stdout",
     "output_type": "stream",
     "text": [
      "\n",
      "동결_배아_사용_여부별 임신_성공_여부 비율 및 갯수\n",
      "\n",
      "                 0         1       0      1   Total\n",
      "variable                                           \n",
      "0.0       0.732238  0.267762  153718  56211  209929\n",
      "1.0       0.770617  0.229383   30921   9204   40125\n"
     ]
    }
   ],
   "source": [
    "value_counts_ratio(train, '동결_배아_사용_여부')"
   ]
  },
  {
   "cell_type": "code",
   "execution_count": 671,
   "metadata": {},
   "outputs": [
    {
     "name": "stdout",
     "output_type": "stream",
     "text": [
      "결측값 개수: 6290\n",
      "결측값 개수: 0\n"
     ]
    }
   ],
   "source": [
    "print(\"결측값 개수:\", train['동결_배아_사용_여부'].isnull().sum())\n",
    "\n",
    "train['동결_배아_사용_여부'].fillna(0, inplace=True)\n",
    "test['동결_배아_사용_여부'].fillna(0, inplace=True)\n",
    "\n",
    "print(\"결측값 개수:\", train['동결_배아_사용_여부'].isnull().sum())"
   ]
  },
  {
   "cell_type": "markdown",
   "metadata": {},
   "source": [
    "### 58. 신선_배아_사용_여부"
   ]
  },
  {
   "cell_type": "markdown",
   "metadata": {},
   "source": [
    "신선 배아가 사용되었는지 여부"
   ]
  },
  {
   "cell_type": "code",
   "execution_count": 672,
   "metadata": {},
   "outputs": [
    {
     "name": "stdout",
     "output_type": "stream",
     "text": [
      "\n",
      "신선_배아_사용_여부별 임신_성공_여부 비율 및 갯수\n",
      "\n",
      "                 0         1       0      1   Total\n",
      "variable                                           \n",
      "0.0       0.770433  0.229567   30758   9165   39923\n",
      "1.0       0.732310  0.267690  153881  56250  210131\n"
     ]
    }
   ],
   "source": [
    "value_counts_ratio(train, '신선_배아_사용_여부')"
   ]
  },
  {
   "cell_type": "code",
   "execution_count": 673,
   "metadata": {},
   "outputs": [
    {
     "name": "stdout",
     "output_type": "stream",
     "text": [
      "결측값 개수: 6290\n",
      "결측값 개수: 0\n"
     ]
    }
   ],
   "source": [
    "print(\"결측값 개수:\", train['신선_배아_사용_여부'].isnull().sum())\n",
    "\n",
    "train['신선_배아_사용_여부'].fillna(0, inplace=True)\n",
    "test['신선_배아_사용_여부'].fillna(0, inplace=True)\n",
    "\n",
    "print(\"결측값 개수:\", train['신선_배아_사용_여부'].isnull().sum())"
   ]
  },
  {
   "cell_type": "markdown",
   "metadata": {},
   "source": [
    "### 59. 기증_배아_사용_여부"
   ]
  },
  {
   "cell_type": "markdown",
   "metadata": {},
   "source": [
    "기증 배아가 사용되었는지 여부"
   ]
  },
  {
   "cell_type": "code",
   "execution_count": 674,
   "metadata": {},
   "outputs": [
    {
     "name": "stdout",
     "output_type": "stream",
     "text": [
      "\n",
      "기증_배아_사용_여부별 임신_성공_여부 비율 및 갯수\n",
      "\n",
      "                 0         1       0      1   Total\n",
      "variable                                           \n",
      "0.0       0.739051  0.260949  182986  64610  247596\n",
      "1.0       0.672498  0.327502    1653    805    2458\n"
     ]
    }
   ],
   "source": [
    "value_counts_ratio(train, '기증_배아_사용_여부')"
   ]
  },
  {
   "cell_type": "code",
   "execution_count": 675,
   "metadata": {},
   "outputs": [
    {
     "name": "stdout",
     "output_type": "stream",
     "text": [
      "결측값 개수: 6290\n",
      "결측값 개수: 0\n"
     ]
    }
   ],
   "source": [
    "print(\"결측값 개수:\", train['기증_배아_사용_여부'].isnull().sum())\n",
    "\n",
    "train['기증_배아_사용_여부'].fillna(0, inplace=True)\n",
    "test['기증_배아_사용_여부'].fillna(0, inplace=True)\n",
    "\n",
    "print(\"결측값 개수:\", train['기증_배아_사용_여부'].isnull().sum())"
   ]
  },
  {
   "cell_type": "code",
   "execution_count": 676,
   "metadata": {},
   "outputs": [
    {
     "name": "stdout",
     "output_type": "stream",
     "text": [
      "Grouped by: 신선_배아_사용_여부, 동결_배아_사용_여부, 기증_배아_사용_여부\n",
      "\n",
      "             group  '임신_성공_여부' count     ratio   Total\n",
      "0  (0.0, 0.0, 0.0)               812  0.129032    6293\n",
      "1  (0.0, 1.0, 0.0)              8916  0.229009   38933\n",
      "2  (0.0, 1.0, 1.0)               248  0.251266     987\n",
      "3  (1.0, 0.0, 0.0)             55653  0.266978  208455\n",
      "4  (1.0, 0.0, 1.0)               557  0.378654    1471\n",
      "5  (1.0, 1.0, 0.0)                40  0.195122     205\n"
     ]
    }
   ],
   "source": [
    "summarize_group(train, ['신선_배아_사용_여부', '동결_배아_사용_여부', '기증_배아_사용_여부'])"
   ]
  },
  {
   "cell_type": "markdown",
   "metadata": {},
   "source": [
    "### 60. 대리모_여부"
   ]
  },
  {
   "cell_type": "markdown",
   "metadata": {},
   "source": [
    "환자가 대리모로 활동했는지 여부"
   ]
  },
  {
   "cell_type": "code",
   "execution_count": 677,
   "metadata": {},
   "outputs": [
    {
     "name": "stdout",
     "output_type": "stream",
     "text": [
      "\n",
      "대리모_여부별 임신_성공_여부 비율 및 갯수\n",
      "\n",
      "                 0         1       0      1   Total\n",
      "variable                                           \n",
      "0.0       0.738511  0.261489  183893  65112  249005\n",
      "1.0       0.711153  0.288847     746    303    1049\n"
     ]
    }
   ],
   "source": [
    "value_counts_ratio(train, '대리모_여부')"
   ]
  },
  {
   "cell_type": "code",
   "execution_count": 678,
   "metadata": {},
   "outputs": [
    {
     "name": "stdout",
     "output_type": "stream",
     "text": [
      "결측값 개수: 6290\n",
      "결측값 개수: 0\n"
     ]
    }
   ],
   "source": [
    "print(\"결측값 개수:\", train['대리모_여부'].isnull().sum())\n",
    "\n",
    "train['대리모_여부'].fillna(0, inplace=True)\n",
    "test['대리모_여부'].fillna(0, inplace=True)\n",
    "\n",
    "print(\"결측값 개수:\", train['대리모_여부'].isnull().sum())"
   ]
  },
  {
   "cell_type": "markdown",
   "metadata": {},
   "source": [
    "### 61. PGD_시술_여부"
   ]
  },
  {
   "cell_type": "markdown",
   "metadata": {},
   "source": [
    "해당 주기가 PGD 치료로 분류되는지 여부"
   ]
  },
  {
   "cell_type": "code",
   "execution_count": 679,
   "metadata": {},
   "outputs": [
    {
     "name": "stdout",
     "output_type": "stream",
     "text": [
      "\n",
      "PGD_시술_여부별 임신_성공_여부 비율 및 갯수\n",
      "\n",
      "                 0         1     0    1  Total\n",
      "variable                                      \n",
      "1.0       0.720514  0.279486  1570  609   2179\n"
     ]
    }
   ],
   "source": [
    "value_counts_ratio(train, 'PGD_시술_여부')"
   ]
  },
  {
   "cell_type": "code",
   "execution_count": 680,
   "metadata": {},
   "outputs": [
    {
     "data": {
      "text/plain": [
       "254165"
      ]
     },
     "execution_count": 680,
     "metadata": {},
     "output_type": "execute_result"
    }
   ],
   "source": [
    "train['PGD_시술_여부'].isnull().sum()"
   ]
  },
  {
   "cell_type": "code",
   "execution_count": 681,
   "metadata": {},
   "outputs": [
    {
     "name": "stdout",
     "output_type": "stream",
     "text": [
      "결측값 개수: 254165\n",
      "결측값 개수: 0\n"
     ]
    }
   ],
   "source": [
    "# 결측값 개수 확인\n",
    "print(\"결측값 개수:\", train['PGD_시술_여부'].isnull().sum())\n",
    "\n",
    "# 결측값을 0으로 채우기\n",
    "train['PGD_시술_여부'].fillna(0, inplace=True)\n",
    "test['PGD_시술_여부'].fillna(0, inplace=True)\n",
    "\n",
    "# 결측값 개수 확인\n",
    "print(\"결측값 개수:\", train['PGD_시술_여부'].isnull().sum())"
   ]
  },
  {
   "cell_type": "markdown",
   "metadata": {},
   "source": [
    "### 62. PGS_시술_여부"
   ]
  },
  {
   "cell_type": "markdown",
   "metadata": {},
   "source": [
    "해당 주기가 PGS 치료로 분류되는지 여부"
   ]
  },
  {
   "cell_type": "code",
   "execution_count": 682,
   "metadata": {},
   "outputs": [
    {
     "name": "stdout",
     "output_type": "stream",
     "text": [
      "\n",
      "PGS_시술_여부별 임신_성공_여부 비율 및 갯수\n",
      "\n",
      "                 0         1     0    1  Total\n",
      "variable                                      \n",
      "1.0       0.793675  0.206325  1531  398   1929\n"
     ]
    }
   ],
   "source": [
    "value_counts_ratio(train, 'PGS_시술_여부')"
   ]
  },
  {
   "cell_type": "code",
   "execution_count": 683,
   "metadata": {},
   "outputs": [
    {
     "name": "stdout",
     "output_type": "stream",
     "text": [
      "결측값 개수: 254415\n",
      "결측값 개수: 0\n"
     ]
    }
   ],
   "source": [
    "# 결측값 개수 확인\n",
    "print(\"결측값 개수:\", train['PGS_시술_여부'].isnull().sum())\n",
    "\n",
    "# 결측값을 0으로 채우기\n",
    "train['PGS_시술_여부'].fillna(0, inplace=True)\n",
    "test['PGS_시술_여부'].fillna(0, inplace=True)\n",
    "\n",
    "# 결측값 개수 확인\n",
    "print(\"결측값 개수:\", train['PGS_시술_여부'].isnull().sum())"
   ]
  },
  {
   "cell_type": "code",
   "execution_count": 684,
   "metadata": {},
   "outputs": [
    {
     "name": "stdout",
     "output_type": "stream",
     "text": [
      "Grouped by: PGD_시술_여부, PGS_시술_여부\n",
      "\n",
      "        group  '임신_성공_여부' count     ratio   Total\n",
      "0  (0.0, 0.0)             65219  0.258563  252236\n",
      "1  (0.0, 1.0)               398  0.206325    1929\n",
      "2  (1.0, 0.0)               609  0.279486    2179\n"
     ]
    }
   ],
   "source": [
    "summarize_group(train, ['PGD_시술_여부', 'PGS_시술_여부'])"
   ]
  },
  {
   "cell_type": "markdown",
   "metadata": {},
   "source": [
    "### 63. 난자_채취_경과일"
   ]
  },
  {
   "cell_type": "markdown",
   "metadata": {},
   "source": [
    "첫 시점으로부터 난자 채취까지 경과한 일수"
   ]
  },
  {
   "cell_type": "code",
   "execution_count": 685,
   "metadata": {},
   "outputs": [
    {
     "name": "stdout",
     "output_type": "stream",
     "text": [
      "\n",
      "난자_채취_경과일별 임신_성공_여부 비율 및 갯수\n",
      "\n",
      "                 0         1       0      1   Total\n",
      "variable                                           \n",
      "0.0       0.736184  0.263816  146396  52462  198858\n"
     ]
    }
   ],
   "source": [
    "value_counts_ratio(train, '난자_채취_경과일')"
   ]
  },
  {
   "cell_type": "code",
   "execution_count": 686,
   "metadata": {},
   "outputs": [
    {
     "name": "stdout",
     "output_type": "stream",
     "text": [
      "결측값 개수: 57486\n",
      "결측값 개수: 0\n"
     ]
    }
   ],
   "source": [
    "print(\"결측값 개수:\", train['난자_채취_경과일'].isnull().sum())\n",
    "\n",
    "train['난자_채취_경과일'].fillna(-1, inplace=True)\n",
    "test['난자_채취_경과일'].fillna(-1, inplace=True)\n",
    "\n",
    "print(\"결측값 개수:\", train['난자_채취_경과일'].isnull().sum())"
   ]
  },
  {
   "cell_type": "code",
   "execution_count": 687,
   "metadata": {},
   "outputs": [],
   "source": [
    "# '난자_채취_경과일' 변수의 값이 0 인 경우 더미 변수로 1 부여\n",
    "train['난자채취_적정기간'] = train['난자_채취_경과일'].apply(lambda x: 1 if x == 0 else 0)\n",
    "test['난자채취_적정기간'] = test['난자_채취_경과일'].apply(lambda x: 1 if x == 0 else 0)"
   ]
  },
  {
   "cell_type": "markdown",
   "metadata": {},
   "source": [
    "### 64. 난자_해동_경과일"
   ]
  },
  {
   "cell_type": "markdown",
   "metadata": {},
   "source": [
    "첫 시점으로부터 난자 해동까지 경과한 일수"
   ]
  },
  {
   "cell_type": "code",
   "execution_count": 688,
   "metadata": {},
   "outputs": [
    {
     "name": "stdout",
     "output_type": "stream",
     "text": [
      "\n",
      "난자_해동_경과일별 임신_성공_여부 비율 및 갯수\n",
      "\n",
      "                 0         1       0      1  Total\n",
      "variable                                          \n",
      "0.0       0.777545  0.222455  1115.0  319.0   1434\n",
      "1.0       1.000000  0.000000     2.0    0.0      2\n"
     ]
    }
   ],
   "source": [
    "value_counts_ratio(train, '난자_해동_경과일')"
   ]
  },
  {
   "cell_type": "code",
   "execution_count": 689,
   "metadata": {},
   "outputs": [
    {
     "data": {
      "text/plain": [
       "254908"
      ]
     },
     "execution_count": 689,
     "metadata": {},
     "output_type": "execute_result"
    }
   ],
   "source": [
    "train['난자_해동_경과일'].isnull().sum()"
   ]
  },
  {
   "cell_type": "code",
   "execution_count": 690,
   "metadata": {},
   "outputs": [
    {
     "name": "stdout",
     "output_type": "stream",
     "text": [
      "결측값 개수: 254908\n",
      "결측값 개수: 0\n"
     ]
    }
   ],
   "source": [
    "print(\"결측값 개수:\", train['난자_해동_경과일'].isnull().sum())\n",
    "\n",
    "train['난자_해동_경과일'].fillna(-1, inplace=True)\n",
    "test['난자_해동_경과일'].fillna(-1, inplace=True)\n",
    "\n",
    "print(\"결측값 개수:\", train['난자_해동_경과일'].isnull().sum())"
   ]
  },
  {
   "cell_type": "code",
   "execution_count": 691,
   "metadata": {},
   "outputs": [],
   "source": [
    "# '난자_혼합_경과일' 변수의 값이 0 인 경우 더미 변수로 1 부여\n",
    "train['난자해동_적정기간'] = train['난자_해동_경과일'].apply(lambda x: 1 if x == 0 else 0)\n",
    "test['난자해동_적정기간'] = test['난자_해동_경과일'].apply(lambda x: 1 if x == 0 else 0)"
   ]
  },
  {
   "cell_type": "markdown",
   "metadata": {},
   "source": [
    "### 65. 난자_혼합_경과일"
   ]
  },
  {
   "cell_type": "markdown",
   "metadata": {},
   "source": [
    "첫 시점으로부터 난자와 정자 혼합까지 경과한 일수"
   ]
  },
  {
   "cell_type": "code",
   "execution_count": 692,
   "metadata": {},
   "outputs": [
    {
     "name": "stdout",
     "output_type": "stream",
     "text": [
      "\n",
      "난자_혼합_경과일별 임신_성공_여부 비율 및 갯수\n",
      "\n",
      "                 0         1         0        1   Total\n",
      "variable                                               \n",
      "0.0       0.722924  0.277076  145970.0  55946.0  201916\n",
      "1.0       0.846311  0.153689     413.0     75.0     488\n",
      "2.0       0.754902  0.245098      77.0     25.0     102\n",
      "3.0       0.720588  0.279412      49.0     19.0      68\n",
      "4.0       0.600000  0.400000       3.0      2.0       5\n",
      "5.0       0.791667  0.208333      19.0      5.0      24\n",
      "6.0       1.000000  0.000000       8.0      0.0       8\n",
      "7.0       1.000000  0.000000       1.0      0.0       1\n"
     ]
    }
   ],
   "source": [
    "value_counts_ratio(train, '난자_혼합_경과일')"
   ]
  },
  {
   "cell_type": "code",
   "execution_count": 693,
   "metadata": {},
   "outputs": [
    {
     "data": {
      "text/plain": [
       "53732"
      ]
     },
     "execution_count": 693,
     "metadata": {},
     "output_type": "execute_result"
    }
   ],
   "source": [
    "train['난자_혼합_경과일'].isnull().sum()"
   ]
  },
  {
   "cell_type": "code",
   "execution_count": 694,
   "metadata": {},
   "outputs": [
    {
     "name": "stdout",
     "output_type": "stream",
     "text": [
      "결측값 개수: 53732\n",
      "결측값 개수: 0\n"
     ]
    }
   ],
   "source": [
    "print(\"결측값 개수:\", train['난자_혼합_경과일'].isnull().sum())\n",
    "\n",
    "train['난자_혼합_경과일'].fillna(-1, inplace=True)\n",
    "test['난자_혼합_경과일'].fillna(-1, inplace=True)\n",
    "\n",
    "print(\"결측값 개수:\", train['난자_혼합_경과일'].isnull().sum())"
   ]
  },
  {
   "cell_type": "code",
   "execution_count": 695,
   "metadata": {},
   "outputs": [
    {
     "name": "stdout",
     "output_type": "stream",
     "text": [
      "\n",
      "난자_혼합_경과일별 임신_성공_여부 비율 및 갯수\n",
      "\n",
      "                 0         1         0        1   Total\n",
      "variable                                               \n",
      "-1.0      0.811025  0.188975   43578.0  10154.0   53732\n",
      " 0.0      0.722924  0.277076  145970.0  55946.0  201916\n",
      " 1.0      0.846311  0.153689     413.0     75.0     488\n",
      " 2.0      0.754902  0.245098      77.0     25.0     102\n",
      " 3.0      0.720588  0.279412      49.0     19.0      68\n",
      " 4.0      0.600000  0.400000       3.0      2.0       5\n",
      " 5.0      0.791667  0.208333      19.0      5.0      24\n",
      " 6.0      1.000000  0.000000       8.0      0.0       8\n",
      " 7.0      1.000000  0.000000       1.0      0.0       1\n"
     ]
    }
   ],
   "source": [
    "value_counts_ratio(train, '난자_혼합_경과일')"
   ]
  },
  {
   "cell_type": "code",
   "execution_count": 696,
   "metadata": {},
   "outputs": [],
   "source": [
    "# '난자_혼합_경과일' 변수의 값이 0인 경우 더미 변수로 1, 값이 1이상인 경우 0으로 부여\n",
    "train['난자혼합_적정기간'] = train['난자_혼합_경과일'].apply(lambda x: 1 if x == 0 else 0)\n",
    "test['난자혼합_적정기간'] = test['난자_혼합_경과일'].apply(lambda x: 1 if x == 0 else 0)"
   ]
  },
  {
   "cell_type": "markdown",
   "metadata": {},
   "source": [
    "### 66. 배아_이식_경과일"
   ]
  },
  {
   "cell_type": "markdown",
   "metadata": {},
   "source": [
    "첫 시점으로부터 배아 이식까지 경과한 일수"
   ]
  },
  {
   "cell_type": "code",
   "execution_count": 697,
   "metadata": {},
   "outputs": [
    {
     "name": "stdout",
     "output_type": "stream",
     "text": [
      "\n",
      "배아_이식_경과일별 임신_성공_여부 비율 및 갯수\n",
      "\n",
      "                 0         1      0      1  Total\n",
      "variable                                         \n",
      "0.0       0.748986  0.251014  18652   6251  24903\n",
      "1.0       0.812985  0.187015   4921   1132   6053\n",
      "2.0       0.787531  0.212469  27625   7453  35078\n",
      "3.0       0.741243  0.258757  42935  14988  57923\n",
      "4.0       0.655639  0.344361   2953   1551   4504\n",
      "5.0       0.595546  0.404454  48512  32946  81458\n",
      "6.0       0.699964  0.300036   1941    832   2773\n",
      "7.0       0.588889  0.411111     53     37     90\n"
     ]
    }
   ],
   "source": [
    "value_counts_ratio(train, '배아_이식_경과일')"
   ]
  },
  {
   "cell_type": "code",
   "execution_count": 698,
   "metadata": {},
   "outputs": [
    {
     "name": "stdout",
     "output_type": "stream",
     "text": [
      "결측값 개수: 43562\n",
      "결측값 개수: 0\n"
     ]
    }
   ],
   "source": [
    "print(\"결측값 개수:\", train['배아_이식_경과일'].isnull().sum())\n",
    "\n",
    "train['배아_이식_경과일'].fillna(-1, inplace=True)\n",
    "test['배아_이식_경과일'].fillna(-1, inplace=True)\n",
    "\n",
    "print(\"결측값 개수:\", train['배아_이식_경과일'].isnull().sum())"
   ]
  },
  {
   "cell_type": "code",
   "execution_count": 699,
   "metadata": {},
   "outputs": [],
   "source": [
    "# '배아_이식_경과일' 변수의 값이 4에서 7 이하인 경우 더미 변수로 1, 그렇지 않으면 0 부여\n",
    "train['배아이식_적정기간'] = train['배아_이식_경과일'].apply(lambda x: 1 if 4 <= x <= 7 else 0)\n",
    "test['배아이식_적정기간'] = test['배아_이식_경과일'].apply(lambda x: 1 if 4 <= x <= 7 else 0)"
   ]
  },
  {
   "cell_type": "markdown",
   "metadata": {},
   "source": [
    "### 67. 배아_해동_경과일"
   ]
  },
  {
   "cell_type": "markdown",
   "metadata": {},
   "source": [
    "첫 시점으로부터 배아 해동까지 경과한 일수"
   ]
  },
  {
   "cell_type": "code",
   "execution_count": 700,
   "metadata": {},
   "outputs": [
    {
     "name": "stdout",
     "output_type": "stream",
     "text": [
      "\n",
      "배아_해동_경과일별 임신_성공_여부 비율 및 갯수\n",
      "\n",
      "                 0         1        0       1  Total\n",
      "variable                                            \n",
      "0.0       0.770352  0.229648  30660.0  9140.0  39800\n",
      "1.0       0.837838  0.162162     31.0     6.0     37\n",
      "2.0       0.840659  0.159341    153.0    29.0    182\n",
      "3.0       0.890244  0.109756    146.0    18.0    164\n",
      "4.0       1.000000  0.000000     12.0     0.0     12\n",
      "5.0       0.785714  0.214286    110.0    30.0    140\n",
      "6.0       0.833333  0.166667     25.0     5.0     30\n",
      "7.0       1.000000  0.000000      3.0     0.0      3\n"
     ]
    }
   ],
   "source": [
    "value_counts_ratio(train, '배아_해동_경과일')"
   ]
  },
  {
   "cell_type": "code",
   "execution_count": 701,
   "metadata": {},
   "outputs": [
    {
     "data": {
      "text/plain": [
       "0.0    13751\n",
       "3.0       59\n",
       "2.0       57\n",
       "5.0       55\n",
       "1.0       17\n",
       "6.0        7\n",
       "4.0        4\n",
       "Name: 배아_해동_경과일, dtype: int64"
      ]
     },
     "execution_count": 701,
     "metadata": {},
     "output_type": "execute_result"
    }
   ],
   "source": [
    "test['배아_해동_경과일'].value_counts()"
   ]
  },
  {
   "cell_type": "code",
   "execution_count": 702,
   "metadata": {},
   "outputs": [
    {
     "name": "stdout",
     "output_type": "stream",
     "text": [
      "결측값 개수: 215976\n",
      "결측값 개수: 0\n"
     ]
    }
   ],
   "source": [
    "print(\"결측값 개수:\", train['배아_해동_경과일'].isnull().sum())\n",
    "\n",
    "train['배아_해동_경과일'].fillna(-1, inplace=True)\n",
    "test['배아_해동_경과일'].fillna(-1, inplace=True)\n",
    "\n",
    "print(\"결측값 개수:\", train['배아_해동_경과일'].isnull().sum())"
   ]
  },
  {
   "cell_type": "code",
   "execution_count": 703,
   "metadata": {},
   "outputs": [
    {
     "name": "stdout",
     "output_type": "stream",
     "text": [
      "\n",
      "배아_해동_경과일별 임신_성공_여부 비율 및 갯수\n",
      "\n",
      "                 0         1         0        1   Total\n",
      "variable                                               \n",
      "-1.0      0.736091  0.263909  158978.0  56998.0  215976\n",
      " 0.0      0.770352  0.229648   30660.0   9140.0   39800\n",
      " 1.0      0.837838  0.162162      31.0      6.0      37\n",
      " 2.0      0.840659  0.159341     153.0     29.0     182\n",
      " 3.0      0.890244  0.109756     146.0     18.0     164\n",
      " 4.0      1.000000  0.000000      12.0      0.0      12\n",
      " 5.0      0.785714  0.214286     110.0     30.0     140\n",
      " 6.0      0.833333  0.166667      25.0      5.0      30\n",
      " 7.0      1.000000  0.000000       3.0      0.0       3\n"
     ]
    }
   ],
   "source": [
    "value_counts_ratio(train, '배아_해동_경과일')"
   ]
  },
  {
   "cell_type": "code",
   "execution_count": 704,
   "metadata": {},
   "outputs": [],
   "source": [
    "# '배아_해동_경과일' 변수의 값이 0인 경우 더미 변수로 1 부여\n",
    "train['배아해동_적정기간'] = train['배아_해동_경과일'].apply(lambda x: 1 if x == 0 else 0)\n",
    "test['배아해동_적정기간'] = test['배아_해동_경과일'].apply(lambda x: 1 if x == 0 else 0)"
   ]
  },
  {
   "cell_type": "code",
   "execution_count": 705,
   "metadata": {},
   "outputs": [],
   "source": [
    "# import pandas as pd\n",
    "\n",
    "# # 파생 변수 생성 함수\n",
    "# def create_features(df):\n",
    "#     # 총 배아 생성 비율\n",
    "#     df['ICSI_배아_생성_비율'] = df['총_생성_배아_수'] / df['미세주입된_난자_수']\n",
    "\n",
    "#     # 미세주입 배아 이식 비율\n",
    "#     df['ICSI_배아_이식_비율'] = df['미세주입_배아_이식_수'] / df['미세주입에서_생성된_배아_수']\n",
    "\n",
    "#     # ICSI 성공률\n",
    "#     df['ICSI_성공률'] = df['이식된_배아_수'] / df['미세주입에서_생성된_배아_수']\n",
    "    \n",
    "#     # 해동 배아 비율\n",
    "#     df['해동_배아_비율'] = df['해동된_배아_수'] / df['저장된_배아_수']\n",
    "\n",
    "#     # 총 배아 수 비율\n",
    "#     df['총_배아_수'] = df['총_생성_배아_수'] + df['해동된_배아_수']\n",
    "#     df['이식된_배아_수_비율'] = df['이식된_배아_수'] / df['총_배아_수']\n",
    "\n",
    "#     # 저장된 배아 비율\n",
    "#     df['저장된_배아_비율'] = df['저장된_배아_수'] / df['총_생성_배아_수']\n",
    "\n",
    "#     # 정자와 혼합된 난자 비율 (기증자의 비율은 정반대값으로 동일하여 생략)\n",
    "#     df['정자와_혼합된_난자_비율'] = df['파트너_정자와_혼합된_난자_수'] / df['혼합된_난자_수']\n",
    "#     # df['기증자_정자와_혼합된_난자_비율'] = df['기증자_정자와_혼합된_난자_수'] / df['혼합된_난자_수']\n",
    "\n",
    "#     # 사용된_신선_난자_수_비율\n",
    "#     df['사용된_신선_난자_수'] = df['수집된_신선_난자_수'] - df['저장된_신선_난자_수']\n",
    "#     df['사용된_신선_난자_수_비율'] = df['사용된_신선_난자_수'] / df['수집된_신선_난자_수']\n",
    "#     df['사용된_난자_수'] = df['사용된_신선_난자_수'] + df['해동_난자_수']\n",
    "#     df['혼합된_난자_수_비율'] = df['혼합된_난자_수'] / df['사용된_난자_수']\n",
    "    \n",
    "#     # 소수점 둘째 자리까지 반올림\n",
    "#     df = df.round(2)\n",
    "    \n",
    "#     # inf, -inf, -3 값을 -1로 대체\n",
    "#     df.replace([np.inf, -np.inf, -3], -1, inplace=True)\n",
    "\n",
    "#     # 파생 변수를 생성하는 데 사용된 원래 변수 제거\n",
    "#     drop_columns = [\n",
    "#         '사용된_신선_난자_수', '사용된_난자_수'\n",
    "#     ]\n",
    "#     df.drop(columns=drop_columns, inplace=True)\n",
    "\n",
    "#     # # 파생 변수를 생성하는 데 사용된 원래 변수 제거\n",
    "#     # drop_columns = [\n",
    "#     #     '총_생성_배아_수', '미세주입된_난자_수', '미세주입_배아_이식_수', '미세주입에서_생성된_배아_수',\n",
    "#     #     '이식된_배아_수', '해동된_배아_수', '저장된_배아_수', '파트너_정자와_혼합된_난자_수',\n",
    "#     #     '혼합된_난자_수', '수집된_신선_난자_수', '저장된_신선_난자_수', '해동_난자_수',\n",
    "#     #     '사용된_신선_난자_수', '사용된_난자_수'\n",
    "\n",
    "#     # ]\n",
    "#     # df.drop(columns=drop_columns, inplace=True)\n",
    "    \n",
    "#     return df\n",
    "\n",
    "# # 파생 변수 생성\n",
    "# train = create_features(train)\n",
    "# test = create_features(test)"
   ]
  },
  {
   "cell_type": "markdown",
   "metadata": {},
   "source": [
    "### 68. 임신_성공_여부"
   ]
  },
  {
   "cell_type": "markdown",
   "metadata": {},
   "source": [
    "해당 시술로부터 임신 성공 여부"
   ]
  },
  {
   "cell_type": "code",
   "execution_count": 706,
   "metadata": {},
   "outputs": [
    {
     "name": "stdout",
     "output_type": "stream",
     "text": [
      "\n",
      "임신_성공_여부별 임신_성공_여부 비율 및 갯수\n",
      "\n",
      "            0    1         0        1   Total\n",
      "variable                                     \n",
      "0         1.0  0.0  190118.0      0.0  190118\n",
      "1         0.0  1.0       0.0  66226.0   66226\n"
     ]
    }
   ],
   "source": [
    "value_counts_ratio(train, '임신_성공_여부')"
   ]
  },
  {
   "cell_type": "markdown",
   "metadata": {},
   "source": [
    "## 변수 상태 확인"
   ]
  },
  {
   "cell_type": "code",
   "execution_count": 707,
   "metadata": {},
   "outputs": [
    {
     "name": "stdout",
     "output_type": "stream",
     "text": [
      "<class 'pandas.core.frame.DataFrame'>\n",
      "RangeIndex: 256344 entries, 0 to 256343\n",
      "Data columns (total 96 columns):\n",
      " #   Column                 Non-Null Count   Dtype  \n",
      "---  ------                 --------------   -----  \n",
      " 0   ID                     256344 non-null  object \n",
      " 1   시술_시기_코드               256344 non-null  object \n",
      " 2   시술_당시_나이               256344 non-null  object \n",
      " 3   임신_시도_또는_마지막_임신_경과_연수  256344 non-null  float64\n",
      " 4   배란_자극_여부               256344 non-null  int64  \n",
      " 5   배란_유도_유형               256344 non-null  object \n",
      " 6   단일_배아_이식_여부            256344 non-null  float64\n",
      " 7   착상_전_유전_검사_사용_여부       256344 non-null  float64\n",
      " 8   착상_전_유전_진단_사용_여부       256344 non-null  float64\n",
      " 9   남성_주_불임_원인             256344 non-null  int64  \n",
      " 10  남성_부_불임_원인             256344 non-null  int64  \n",
      " 11  여성_주_불임_원인             256344 non-null  int64  \n",
      " 12  여성_부_불임_원인             256344 non-null  int64  \n",
      " 13  부부_주_불임_원인             256344 non-null  int64  \n",
      " 14  부부_부_불임_원인             256344 non-null  int64  \n",
      " 15  불임원인여부_불명확             256344 non-null  int64  \n",
      " 16  불임_원인_-_난관_질환          256344 non-null  int64  \n",
      " 17  불임이유_남성요인              256344 non-null  int64  \n",
      " 18  불임_원인_-_배란_장애          256344 non-null  int64  \n",
      " 19  불임_원인_-_자궁경부_문제        256344 non-null  int64  \n",
      " 20  불임_원인_-_자궁내막증          256344 non-null  int64  \n",
      " 21  불임_원인_-_정자_농도          256344 non-null  int64  \n",
      " 22  불임_원인_-_정자_면역학적_요인     256344 non-null  int64  \n",
      " 23  불임_원인_-_정자_운동성         256344 non-null  int64  \n",
      " 24  불임_원인_-_정자_형태          256344 non-null  int64  \n",
      " 25  총_시술_횟수                256344 non-null  int64  \n",
      " 26  클리닉_내_총_시술_횟수          256344 non-null  int64  \n",
      " 27  IVF_시술_횟수              256344 non-null  int64  \n",
      " 28  DI_시술_횟수               256344 non-null  int64  \n",
      " 29  총_임신_횟수                256344 non-null  int64  \n",
      " 30  IVF_임신_횟수              256344 non-null  int64  \n",
      " 31  DI_임신_횟수               256344 non-null  int64  \n",
      " 32  총_출산_횟수                256344 non-null  int64  \n",
      " 33  IVF_출산_횟수              256344 non-null  int64  \n",
      " 34  DI_출산_횟수               256344 non-null  int64  \n",
      " 35  총_생성_배아_수              256344 non-null  float64\n",
      " 36  미세주입된_난자_수             256344 non-null  float64\n",
      " 37  미세주입에서_생성된_배아_수        256344 non-null  float64\n",
      " 38  이식된_배아_수               256344 non-null  float64\n",
      " 39  미세주입_배아_이식_수           256344 non-null  float64\n",
      " 40  저장된_배아_수               256344 non-null  float64\n",
      " 41  미세주입_후_저장된_배아_수        256344 non-null  float64\n",
      " 42  해동된_배아_수               256344 non-null  float64\n",
      " 43  해동_난자_수                256344 non-null  float64\n",
      " 44  수집된_신선_난자_수            256344 non-null  float64\n",
      " 45  저장된_신선_난자_수            256344 non-null  float64\n",
      " 46  혼합된_난자_수               256344 non-null  float64\n",
      " 47  파트너_정자와_혼합된_난자_수       256344 non-null  float64\n",
      " 48  기증자_정자와_혼합된_난자_수       256344 non-null  float64\n",
      " 49  난자_출처                  256344 non-null  object \n",
      " 50  정자_출처                  256344 non-null  object \n",
      " 51  난자_기증자_나이              256344 non-null  object \n",
      " 52  정자_기증자_나이              256344 non-null  object \n",
      " 53  동결_배아_사용_여부            256344 non-null  float64\n",
      " 54  신선_배아_사용_여부            256344 non-null  float64\n",
      " 55  기증_배아_사용_여부            256344 non-null  float64\n",
      " 56  대리모_여부                 256344 non-null  float64\n",
      " 57  PGD_시술_여부              256344 non-null  float64\n",
      " 58  PGS_시술_여부              256344 non-null  float64\n",
      " 59  난자_채취_경과일              256344 non-null  float64\n",
      " 60  난자_해동_경과일              256344 non-null  float64\n",
      " 61  난자_혼합_경과일              256344 non-null  float64\n",
      " 62  배아_이식_경과일              256344 non-null  float64\n",
      " 63  배아_해동_경과일              256344 non-null  float64\n",
      " 64  임신_성공_여부               256344 non-null  int64  \n",
      " 65  시술_유형_DI               256344 non-null  uint8  \n",
      " 66  시술_유형_IVF              256344 non-null  uint8  \n",
      " 67  특정_시술_유형_AH            256344 non-null  int32  \n",
      " 68  특정_시술_유형_BLASTOCYST    256344 non-null  int32  \n",
      " 69  특정_시술_유형_GenericDI     256344 non-null  int32  \n",
      " 70  특정_시술_유형_ICI           256344 non-null  int32  \n",
      " 71  특정_시술_유형_ICSI          256344 non-null  int32  \n",
      " 72  특정_시술_유형_IUI           256344 non-null  int32  \n",
      " 73  특정_시술_유형_IVF           256344 non-null  int32  \n",
      " 74  특정_시술_유형_IVI           256344 non-null  int32  \n",
      " 75  불임원인여부_남성관련            256344 non-null  int64  \n",
      " 76  불임원인여부_여성관련            256344 non-null  int64  \n",
      " 77  불임원인여부_부부관련            256344 non-null  int64  \n",
      " 78  불임이유_정자관련              256344 non-null  int64  \n",
      " 79  불임이유_자궁관련              256344 non-null  int64  \n",
      " 80  배아_생성_주요_이유_기증용        256344 non-null  int32  \n",
      " 81  배아_생성_주요_이유_난자 저장용     256344 non-null  int32  \n",
      " 82  배아_생성_주요_이유_배아 저장용     256344 non-null  int32  \n",
      " 83  배아_생성_주요_이유_현재 시술용     256344 non-null  int32  \n",
      " 84  IVF_임신_시술_비율           256344 non-null  float64\n",
      " 85  DI_임신_시술_비율            256344 non-null  float64\n",
      " 86  임신_성공률                 256344 non-null  float64\n",
      " 87  저장된_배아_수_17이상          256344 non-null  int64  \n",
      " 88  미세주입_후_저장된_배아_수_14이상   256344 non-null  int64  \n",
      " 89  수집된_신선난자수_적정           256344 non-null  int64  \n",
      " 90  저장된_신선난자수_초괴           256344 non-null  int64  \n",
      " 91  난자채취_적정기간              256344 non-null  int64  \n",
      " 92  난자해동_적정기간              256344 non-null  int64  \n",
      " 93  난자혼합_적정기간              256344 non-null  int64  \n",
      " 94  배아이식_적정기간              256344 non-null  int64  \n",
      " 95  배아해동_적정기간              256344 non-null  int64  \n",
      "dtypes: float64(32), int32(12), int64(42), object(8), uint8(2)\n",
      "memory usage: 172.6+ MB\n"
     ]
    }
   ],
   "source": [
    "train.info()"
   ]
  },
  {
   "cell_type": "code",
   "execution_count": 708,
   "metadata": {},
   "outputs": [
    {
     "name": "stdout",
     "output_type": "stream",
     "text": [
      "<class 'pandas.core.frame.DataFrame'>\n",
      "RangeIndex: 90067 entries, 0 to 90066\n",
      "Data columns (total 95 columns):\n",
      " #   Column                 Non-Null Count  Dtype  \n",
      "---  ------                 --------------  -----  \n",
      " 0   ID                     90067 non-null  object \n",
      " 1   시술_시기_코드               90067 non-null  object \n",
      " 2   시술_당시_나이               90067 non-null  object \n",
      " 3   임신_시도_또는_마지막_임신_경과_연수  90067 non-null  float64\n",
      " 4   배란_자극_여부               90067 non-null  int64  \n",
      " 5   배란_유도_유형               90067 non-null  object \n",
      " 6   단일_배아_이식_여부            90067 non-null  float64\n",
      " 7   착상_전_유전_검사_사용_여부       90067 non-null  float64\n",
      " 8   착상_전_유전_진단_사용_여부       90067 non-null  float64\n",
      " 9   남성_주_불임_원인             90067 non-null  int64  \n",
      " 10  남성_부_불임_원인             90067 non-null  int64  \n",
      " 11  여성_주_불임_원인             90067 non-null  int64  \n",
      " 12  여성_부_불임_원인             90067 non-null  int64  \n",
      " 13  부부_주_불임_원인             90067 non-null  int64  \n",
      " 14  부부_부_불임_원인             90067 non-null  int64  \n",
      " 15  불임원인여부_불명확             90067 non-null  int64  \n",
      " 16  불임_원인_-_난관_질환          90067 non-null  int64  \n",
      " 17  불임이유_남성요인              90067 non-null  int64  \n",
      " 18  불임_원인_-_배란_장애          90067 non-null  int64  \n",
      " 19  불임_원인_-_자궁경부_문제        90067 non-null  int64  \n",
      " 20  불임_원인_-_자궁내막증          90067 non-null  int64  \n",
      " 21  불임_원인_-_정자_농도          90067 non-null  int64  \n",
      " 22  불임_원인_-_정자_면역학적_요인     90067 non-null  int64  \n",
      " 23  불임_원인_-_정자_운동성         90067 non-null  int64  \n",
      " 24  불임_원인_-_정자_형태          90067 non-null  int64  \n",
      " 25  총_시술_횟수                90067 non-null  int64  \n",
      " 26  클리닉_내_총_시술_횟수          90067 non-null  int64  \n",
      " 27  IVF_시술_횟수              90067 non-null  int64  \n",
      " 28  DI_시술_횟수               90067 non-null  int64  \n",
      " 29  총_임신_횟수                90067 non-null  int64  \n",
      " 30  IVF_임신_횟수              90067 non-null  int64  \n",
      " 31  DI_임신_횟수               90067 non-null  int64  \n",
      " 32  총_출산_횟수                90067 non-null  int64  \n",
      " 33  IVF_출산_횟수              90067 non-null  int64  \n",
      " 34  DI_출산_횟수               90067 non-null  int64  \n",
      " 35  총_생성_배아_수              90067 non-null  float64\n",
      " 36  미세주입된_난자_수             90067 non-null  float64\n",
      " 37  미세주입에서_생성된_배아_수        90067 non-null  float64\n",
      " 38  이식된_배아_수               90067 non-null  float64\n",
      " 39  미세주입_배아_이식_수           90067 non-null  float64\n",
      " 40  저장된_배아_수               90067 non-null  float64\n",
      " 41  미세주입_후_저장된_배아_수        90067 non-null  float64\n",
      " 42  해동된_배아_수               90067 non-null  float64\n",
      " 43  해동_난자_수                90067 non-null  float64\n",
      " 44  수집된_신선_난자_수            90067 non-null  float64\n",
      " 45  저장된_신선_난자_수            90067 non-null  float64\n",
      " 46  혼합된_난자_수               90067 non-null  float64\n",
      " 47  파트너_정자와_혼합된_난자_수       90067 non-null  float64\n",
      " 48  기증자_정자와_혼합된_난자_수       90067 non-null  float64\n",
      " 49  난자_출처                  90067 non-null  object \n",
      " 50  정자_출처                  90067 non-null  object \n",
      " 51  난자_기증자_나이              90067 non-null  object \n",
      " 52  정자_기증자_나이              90067 non-null  object \n",
      " 53  동결_배아_사용_여부            90067 non-null  float64\n",
      " 54  신선_배아_사용_여부            90067 non-null  float64\n",
      " 55  기증_배아_사용_여부            90067 non-null  float64\n",
      " 56  대리모_여부                 90067 non-null  float64\n",
      " 57  PGD_시술_여부              90067 non-null  float64\n",
      " 58  PGS_시술_여부              90067 non-null  float64\n",
      " 59  난자_채취_경과일              90067 non-null  float64\n",
      " 60  난자_해동_경과일              90067 non-null  float64\n",
      " 61  난자_혼합_경과일              90067 non-null  float64\n",
      " 62  배아_이식_경과일              90067 non-null  float64\n",
      " 63  배아_해동_경과일              90067 non-null  float64\n",
      " 64  시술_유형_DI               90067 non-null  uint8  \n",
      " 65  시술_유형_IVF              90067 non-null  uint8  \n",
      " 66  특정_시술_유형_AH            90067 non-null  int32  \n",
      " 67  특정_시술_유형_BLASTOCYST    90067 non-null  int32  \n",
      " 68  특정_시술_유형_GenericDI     90067 non-null  int32  \n",
      " 69  특정_시술_유형_ICI           90067 non-null  int32  \n",
      " 70  특정_시술_유형_ICSI          90067 non-null  int32  \n",
      " 71  특정_시술_유형_IUI           90067 non-null  int32  \n",
      " 72  특정_시술_유형_IVF           90067 non-null  int32  \n",
      " 73  특정_시술_유형_IVI           90067 non-null  int32  \n",
      " 74  불임원인여부_남성관련            90067 non-null  int64  \n",
      " 75  불임원인여부_여성관련            90067 non-null  int64  \n",
      " 76  불임원인여부_부부관련            90067 non-null  int64  \n",
      " 77  불임이유_정자관련              90067 non-null  int64  \n",
      " 78  불임이유_자궁관련              90067 non-null  int64  \n",
      " 79  배아_생성_주요_이유_기증용        90067 non-null  int32  \n",
      " 80  배아_생성_주요_이유_난자 저장용     90067 non-null  int32  \n",
      " 81  배아_생성_주요_이유_배아 저장용     90067 non-null  int32  \n",
      " 82  배아_생성_주요_이유_현재 시술용     90067 non-null  int32  \n",
      " 83  IVF_임신_시술_비율           90067 non-null  float64\n",
      " 84  DI_임신_시술_비율            90067 non-null  float64\n",
      " 85  임신_성공률                 90067 non-null  float64\n",
      " 86  저장된_배아_수_17이상          90067 non-null  int64  \n",
      " 87  미세주입_후_저장된_배아_수_14이상   90067 non-null  int64  \n",
      " 88  수집된_신선난자수_적정           90067 non-null  int64  \n",
      " 89  저장된_신선난자수_초괴           90067 non-null  int64  \n",
      " 90  난자채취_적정기간              90067 non-null  int64  \n",
      " 91  난자해동_적정기간              90067 non-null  int64  \n",
      " 92  난자혼합_적정기간              90067 non-null  int64  \n",
      " 93  배아이식_적정기간              90067 non-null  int64  \n",
      " 94  배아해동_적정기간              90067 non-null  int64  \n",
      "dtypes: float64(32), int32(12), int64(41), object(8), uint8(2)\n",
      "memory usage: 60.0+ MB\n"
     ]
    }
   ],
   "source": [
    "test.info()"
   ]
  },
  {
   "cell_type": "code",
   "execution_count": 709,
   "metadata": {},
   "outputs": [
    {
     "name": "stdout",
     "output_type": "stream",
     "text": [
      "Train에만 있는 변수명:\n",
      "{'임신_성공_여부'}\n",
      "\n",
      "Test에만 있는 변수명:\n",
      "set()\n"
     ]
    }
   ],
   "source": [
    "# 두 데이터프레임의 변수명 확인\n",
    "train_columns = set(train.columns)\n",
    "test_columns = set(test.columns)\n",
    "\n",
    "# train에만 있는 변수명\n",
    "train_only_columns = train_columns - test_columns\n",
    "\n",
    "# test에만 있는 변수명\n",
    "test_only_columns = test_columns - train_columns\n",
    "\n",
    "# 결과 출력\n",
    "print(\"Train에만 있는 변수명:\")\n",
    "print(train_only_columns)\n",
    "\n",
    "print(\"\\nTest에만 있는 변수명:\")\n",
    "print(test_only_columns)"
   ]
  },
  {
   "cell_type": "markdown",
   "metadata": {},
   "source": [
    "## 데이터 저장"
   ]
  },
  {
   "cell_type": "code",
   "execution_count": 710,
   "metadata": {},
   "outputs": [],
   "source": [
    "# CSV 파일 저장\n",
    "train.to_csv('../data/Total_train_dataset_34.csv', index=False, encoding='utf-8-sig')\n",
    "test.to_csv('../data/Total_test_dataset_34.csv', index=False, encoding='utf-8-sig')"
   ]
  },
  {
   "cell_type": "markdown",
   "metadata": {},
   "source": [
    "."
   ]
  }
 ],
 "metadata": {
  "kernelspec": {
   "display_name": "Python 3",
   "language": "python",
   "name": "python3"
  },
  "language_info": {
   "codemirror_mode": {
    "name": "ipython",
    "version": 3
   },
   "file_extension": ".py",
   "mimetype": "text/x-python",
   "name": "python",
   "nbconvert_exporter": "python",
   "pygments_lexer": "ipython3",
   "version": "3.7.8"
  }
 },
 "nbformat": 4,
 "nbformat_minor": 2
}
