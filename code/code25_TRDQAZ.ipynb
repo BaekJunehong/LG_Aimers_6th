{
 "cells": [
  {
   "cell_type": "markdown",
   "metadata": {},
   "source": [
    "## 난임 환자 대상 임신 성공 여부 예측"
   ]
  },
  {
   "cell_type": "markdown",
   "metadata": {},
   "source": [
    "### LGAimers 6th 온라인 해커톤"
   ]
  },
  {
   "cell_type": "markdown",
   "metadata": {},
   "source": [
    "Import"
   ]
  },
  {
   "cell_type": "code",
   "execution_count": 36,
   "metadata": {},
   "outputs": [],
   "source": [
    "import numpy as np\n",
    "import pandas as pd\n",
    "import seaborn as sns\n",
    "import matplotlib.pyplot as plt\n",
    "\n",
    "import os\n",
    "from pprint import pprint"
   ]
  },
  {
   "cell_type": "code",
   "execution_count": 37,
   "metadata": {},
   "outputs": [],
   "source": [
    "import platform\n",
    "from matplotlib import rc\n",
    "\n",
    "# 운영 체제에 따라 폰트 설정\n",
    "if platform.system() == 'Windows':  # Windows 환경\n",
    "    rc('font', family='Malgun Gothic')  # 맑은 고딕\n",
    "\n",
    "# 음수 표시 가능하도록 설정\n",
    "plt.rcParams['axes.unicode_minus'] = False"
   ]
  },
  {
   "cell_type": "markdown",
   "metadata": {},
   "source": [
    "반복적으로 쓰는 함수툴"
   ]
  },
  {
   "cell_type": "code",
   "execution_count": 38,
   "metadata": {},
   "outputs": [],
   "source": [
    "def plot_box(df, col_name):\n",
    "    \"\"\"\n",
    "    주어진 데이터프레임과 열 이름에 대해 박스 플롯을 그리는 함수.\n",
    "\n",
    "    Parameters:\n",
    "    df (pd.DataFrame): 데이터프레임\n",
    "    col_name (str): 열 이름\n",
    "    \"\"\"\n",
    "    plt.figure(figsize=(7, 4))\n",
    "    plt.boxplot(df[col_name], vert=False)\n",
    "    plt.xlabel(col_name)\n",
    "    plt.title(f'Box Plot of {col_name}')\n",
    "    plt.show()\n",
    "\n",
    "def value_counts_ratio(df, col_name, target_name='임신_성공_여부'):\n",
    "    \"\"\"\n",
    "    주어진 데이터프레임의 특정 열에 대해 각 값마다 타겟 변수의 비율과 갯수, 총 갯수를 출력하는 함수.\n",
    "\n",
    "    Parameters:\n",
    "    df (pd.DataFrame): 데이터프레임\n",
    "    col_name (str): 열 이름\n",
    "    target_name (str): 타겟 변수 이름\n",
    "    \"\"\"\n",
    "    # 각 값마다 타겟 변수의 비율 계산\n",
    "    value_counts = df.groupby(col_name)[target_name].value_counts(normalize=True).unstack().fillna(0)\n",
    "    \n",
    "    # 각 값마다 타겟 변수의 갯수 계산\n",
    "    counts = df.groupby(col_name)[target_name].value_counts().unstack().fillna(0)\n",
    "    \n",
    "    # 각 값마다 총 갯수 계산\n",
    "    total_counts = df[col_name].value_counts().rename('Total_Count')\n",
    "    \n",
    "    # 비율과 갯수를 합침\n",
    "    result = value_counts.join(counts, lsuffix='_ratio', rsuffix='_count')\n",
    "    \n",
    "    # 총 갯수를 합침\n",
    "    result = result.join(total_counts, on=col_name)\n",
    "    \n",
    "    # 출력 형식 조정\n",
    "    result.index.name = 'variable'\n",
    "    print(f\"\\n{col_name}별 {target_name} 비율 및 갯수\\n\")\n",
    "    print(result.rename(columns=lambda x: x.split('_')[0]))\n",
    "\n",
    "def summarize_group(df, group_by_columns):\n",
    "    \"\"\"\n",
    "    주어진 데이터프레임을 특정 열들로 그룹화하여 각 그룹의 '임신_성공_여부' 비율과 갯수를 요약하는 함수.\n",
    "\n",
    "    Parameters:\n",
    "    df (pd.DataFrame): 데이터프레임\n",
    "    group_by_columns (list): 그룹화할 열 이름들의 리스트\n",
    "    \"\"\"\n",
    "    # 데이터프레임을 그룹화\n",
    "    grouped_df = df.groupby(group_by_columns)\n",
    "    \n",
    "    # 결과를 저장할 리스트 초기화\n",
    "    results = []\n",
    "    \n",
    "    # 그룹화된 데이터프레임의 내용을 확인하는 코드\n",
    "    for name, group in grouped_df:\n",
    "        # 그룹의 갯수 계산\n",
    "        group_count = group.shape[0]\n",
    "        \n",
    "        # '임신_성공_여부' 변수의 '임신 성공' 비율과 갯수 계산\n",
    "        success_count = group['임신_성공_여부'].value_counts().get(1, 0)\n",
    "        success_ratio = success_count / group_count\n",
    "        \n",
    "        # 결과 리스트에 추가\n",
    "        results.append([name, success_count, success_ratio, group_count])\n",
    "    \n",
    "    # 결과 리스트를 데이터프레임으로 변환\n",
    "    results_df = pd.DataFrame(results, columns=['group', \"'임신_성공_여부' count\", 'ratio', 'Total'])\n",
    "    \n",
    "    # 그룹화된 변수들의 이름을 제목행으로 출력\n",
    "    print(f\"Grouped by: {', '.join(group_by_columns)}\")\n",
    "    print()\n",
    "    # 데이터프레임 출력\n",
    "    print(results_df)\n",
    "\n",
    "def plot_ratio(df, group_by_column, target_column='임신_성공_여부', success_value=1):\n",
    "    \"\"\"\n",
    "    주어진 데이터프레임을 특정 열로 그룹화하여 각 그룹의 타겟 변수의 성공 비율을 시각화하는 함수.\n",
    "\n",
    "    Parameters:\n",
    "    df (pd.DataFrame): 데이터프레임\n",
    "    group_by_column (str): 그룹화할 열 이름\n",
    "    target_column (str): 타겟 변수 이름\n",
    "    success_value (int): 타겟 변수의 성공을 나타내는 값\n",
    "    \"\"\"\n",
    "    # 데이터프레임을 그룹화\n",
    "    grouped_df = df.groupby(group_by_column)\n",
    "    \n",
    "    # 결과를 저장할 리스트 초기화\n",
    "    results = []\n",
    "    \n",
    "    # 그룹화된 데이터프레임의 내용을 확인하는 코드\n",
    "    for name, group in grouped_df:\n",
    "        # 그룹의 갯수 계산\n",
    "        group_count = group.shape[0]\n",
    "        \n",
    "        # '임신_성공_여부' 변수의 '성공' 비율과 갯수 계산\n",
    "        success_count = group[target_column].value_counts().get(success_value, 0)\n",
    "        success_ratio = success_count / group_count\n",
    "        \n",
    "        # 결과 리스트에 추가\n",
    "        results.append([name, success_count, success_ratio, group_count])\n",
    "    \n",
    "    # 결과 리스트를 데이터프레임으로 변환\n",
    "    results_df = pd.DataFrame(results, columns=['group', f\"'{success_value}' count\", 'ratio', 'Total'])\n",
    "    \n",
    "    # 그래프 크기 설정\n",
    "    plt.figure(figsize=(10, 5))\n",
    "    \n",
    "    # 막대 그래프 생성\n",
    "    ax = results_df.plot(kind='bar', x='group', y='ratio', legend=False)\n",
    "    \n",
    "    # 각 막대 위에 임신 성공 여부 갯수와 총 갯수 표시\n",
    "    for i, (success_count, total) in enumerate(zip(results_df[f\"'{success_value}' count\"], results_df['Total'])):\n",
    "        ax.text(i, results_df['ratio'][i], f'{success_count} ({total})', ha='center', va='bottom', fontsize=8)\n",
    "    \n",
    "    # 그래프 제목 및 축 레이블 설정\n",
    "    ax.set_title(f'{success_value} Ratio by {group_by_column}')\n",
    "    ax.set_xlabel(group_by_column)\n",
    "    ax.set_ylabel(f'{success_value} Ratio')\n",
    "   \n",
    "    # 그래프 출력\n",
    "    plt.show()\n",
    "\n",
    "def plot_ratio_boxplot(data, column_name, target_column='임신_성공_여부'):\n",
    "    \"\"\"\n",
    "    주어진 데이터프레임의 특정 열과 타겟 변수 간의 관계를 박스 플롯으로 시각화하는 함수.\n",
    "\n",
    "    Parameters:\n",
    "    data (pd.DataFrame): 데이터프레임\n",
    "    column_name (str): 열 이름\n",
    "    target_column (str): 타겟 변수 이름\n",
    "    \"\"\"\n",
    "\n",
    "    # 그래프 그리기\n",
    "    plt.figure(figsize=(10, 6))\n",
    "    sns.boxplot(x=column_name, y=target_column, data=data)\n",
    "\n",
    "    # 그래프 제목 및 레이블 설정\n",
    "    plt.title(f'{column_name} vs {target_column}')\n",
    "    plt.xlabel(column_name)\n",
    "    plt.ylabel(target_column)\n",
    "\n",
    "    # 그래프 출력\n",
    "    plt.show()"
   ]
  },
  {
   "cell_type": "markdown",
   "metadata": {},
   "source": [
    "### Data Load"
   ]
  },
  {
   "cell_type": "code",
   "execution_count": 39,
   "metadata": {},
   "outputs": [
    {
     "name": "stdout",
     "output_type": "stream",
     "text": [
      "Index(['ID', '시술_시기_코드', '시술_당시_나이', '임신_시도_또는_마지막_임신_경과_연수', '시술_유형',\n",
      "       '특정_시술_유형', '배란_자극_여부', '배란_유도_유형', '단일_배아_이식_여부', '착상_전_유전_검사_사용_여부',\n",
      "       '착상_전_유전_진단_사용_여부', '남성_주_불임_원인', '남성_부_불임_원인', '여성_주_불임_원인',\n",
      "       '여성_부_불임_원인', '부부_주_불임_원인', '부부_부_불임_원인', '불명확_불임_원인', '불임_원인_-_난관_질환',\n",
      "       '불임_원인_-_남성_요인', '불임_원인_-_배란_장애', '불임_원인_-_여성_요인', '불임_원인_-_자궁경부_문제',\n",
      "       '불임_원인_-_자궁내막증', '불임_원인_-_정자_농도', '불임_원인_-_정자_면역학적_요인',\n",
      "       '불임_원인_-_정자_운동성', '불임_원인_-_정자_형태', '배아_생성_주요_이유', '총_시술_횟수',\n",
      "       '클리닉_내_총_시술_횟수', 'IVF_시술_횟수', 'DI_시술_횟수', '총_임신_횟수', 'IVF_임신_횟수',\n",
      "       'DI_임신_횟수', '총_출산_횟수', 'IVF_출산_횟수', 'DI_출산_횟수', '총_생성_배아_수',\n",
      "       '미세주입된_난자_수', '미세주입에서_생성된_배아_수', '이식된_배아_수', '미세주입_배아_이식_수', '저장된_배아_수',\n",
      "       '미세주입_후_저장된_배아_수', '해동된_배아_수', '해동_난자_수', '수집된_신선_난자_수', '저장된_신선_난자_수',\n",
      "       '혼합된_난자_수', '파트너_정자와_혼합된_난자_수', '기증자_정자와_혼합된_난자_수', '난자_출처', '정자_출처',\n",
      "       '난자_기증자_나이', '정자_기증자_나이', '동결_배아_사용_여부', '신선_배아_사용_여부', '기증_배아_사용_여부',\n",
      "       '대리모_여부', 'PGD_시술_여부', 'PGS_시술_여부', '난자_채취_경과일', '난자_해동_경과일',\n",
      "       '난자_혼합_경과일', '배아_이식_경과일', '배아_해동_경과일', '임신_성공_여부'],\n",
      "      dtype='object')\n"
     ]
    }
   ],
   "source": [
    "# 데이터 로드\n",
    "train = pd.read_csv('../data/train.csv')\n",
    "test = pd.read_csv('../data/test.csv')\n",
    "\n",
    "# 변수명에서 공백을 밑줄로 대체\n",
    "train.columns = train.columns.str.replace(' ', '_')\n",
    "test.columns = test.columns.str.replace(' ', '_')\n",
    "\n",
    "# 변경된 변수명 확인\n",
    "print(train.columns)"
   ]
  },
  {
   "cell_type": "code",
   "execution_count": 40,
   "metadata": {},
   "outputs": [
    {
     "name": "stdout",
     "output_type": "stream",
     "text": [
      "<class 'pandas.core.frame.DataFrame'>\n",
      "RangeIndex: 256351 entries, 0 to 256350\n",
      "Data columns (total 69 columns):\n",
      " #   Column                 Non-Null Count   Dtype  \n",
      "---  ------                 --------------   -----  \n",
      " 0   ID                     256351 non-null  object \n",
      " 1   시술_시기_코드               256351 non-null  object \n",
      " 2   시술_당시_나이               256351 non-null  object \n",
      " 3   임신_시도_또는_마지막_임신_경과_연수  9370 non-null    float64\n",
      " 4   시술_유형                  256351 non-null  object \n",
      " 5   특정_시술_유형               256349 non-null  object \n",
      " 6   배란_자극_여부               256351 non-null  int64  \n",
      " 7   배란_유도_유형               256351 non-null  object \n",
      " 8   단일_배아_이식_여부            250060 non-null  float64\n",
      " 9   착상_전_유전_검사_사용_여부       2718 non-null    float64\n",
      " 10  착상_전_유전_진단_사용_여부       250060 non-null  float64\n",
      " 11  남성_주_불임_원인             256351 non-null  int64  \n",
      " 12  남성_부_불임_원인             256351 non-null  int64  \n",
      " 13  여성_주_불임_원인             256351 non-null  int64  \n",
      " 14  여성_부_불임_원인             256351 non-null  int64  \n",
      " 15  부부_주_불임_원인             256351 non-null  int64  \n",
      " 16  부부_부_불임_원인             256351 non-null  int64  \n",
      " 17  불명확_불임_원인              256351 non-null  int64  \n",
      " 18  불임_원인_-_난관_질환          256351 non-null  int64  \n",
      " 19  불임_원인_-_남성_요인          256351 non-null  int64  \n",
      " 20  불임_원인_-_배란_장애          256351 non-null  int64  \n",
      " 21  불임_원인_-_여성_요인          256351 non-null  int64  \n",
      " 22  불임_원인_-_자궁경부_문제        256351 non-null  int64  \n",
      " 23  불임_원인_-_자궁내막증          256351 non-null  int64  \n",
      " 24  불임_원인_-_정자_농도          256351 non-null  int64  \n",
      " 25  불임_원인_-_정자_면역학적_요인     256351 non-null  int64  \n",
      " 26  불임_원인_-_정자_운동성         256351 non-null  int64  \n",
      " 27  불임_원인_-_정자_형태          256351 non-null  int64  \n",
      " 28  배아_생성_주요_이유            250060 non-null  object \n",
      " 29  총_시술_횟수                256351 non-null  object \n",
      " 30  클리닉_내_총_시술_횟수          256351 non-null  object \n",
      " 31  IVF_시술_횟수              256351 non-null  object \n",
      " 32  DI_시술_횟수               256351 non-null  object \n",
      " 33  총_임신_횟수                256351 non-null  object \n",
      " 34  IVF_임신_횟수              256351 non-null  object \n",
      " 35  DI_임신_횟수               256351 non-null  object \n",
      " 36  총_출산_횟수                256351 non-null  object \n",
      " 37  IVF_출산_횟수              256351 non-null  object \n",
      " 38  DI_출산_횟수               256351 non-null  object \n",
      " 39  총_생성_배아_수              250060 non-null  float64\n",
      " 40  미세주입된_난자_수             250060 non-null  float64\n",
      " 41  미세주입에서_생성된_배아_수        250060 non-null  float64\n",
      " 42  이식된_배아_수               250060 non-null  float64\n",
      " 43  미세주입_배아_이식_수           250060 non-null  float64\n",
      " 44  저장된_배아_수               250060 non-null  float64\n",
      " 45  미세주입_후_저장된_배아_수        250060 non-null  float64\n",
      " 46  해동된_배아_수               250060 non-null  float64\n",
      " 47  해동_난자_수                250060 non-null  float64\n",
      " 48  수집된_신선_난자_수            250060 non-null  float64\n",
      " 49  저장된_신선_난자_수            250060 non-null  float64\n",
      " 50  혼합된_난자_수               250060 non-null  float64\n",
      " 51  파트너_정자와_혼합된_난자_수       250060 non-null  float64\n",
      " 52  기증자_정자와_혼합된_난자_수       250060 non-null  float64\n",
      " 53  난자_출처                  256351 non-null  object \n",
      " 54  정자_출처                  256351 non-null  object \n",
      " 55  난자_기증자_나이              256351 non-null  object \n",
      " 56  정자_기증자_나이              256351 non-null  object \n",
      " 57  동결_배아_사용_여부            250060 non-null  float64\n",
      " 58  신선_배아_사용_여부            250060 non-null  float64\n",
      " 59  기증_배아_사용_여부            250060 non-null  float64\n",
      " 60  대리모_여부                 250060 non-null  float64\n",
      " 61  PGD_시술_여부              2179 non-null    float64\n",
      " 62  PGS_시술_여부              1929 non-null    float64\n",
      " 63  난자_채취_경과일              198863 non-null  float64\n",
      " 64  난자_해동_경과일              1436 non-null    float64\n",
      " 65  난자_혼합_경과일              202616 non-null  float64\n",
      " 66  배아_이식_경과일              212785 non-null  float64\n",
      " 67  배아_해동_경과일              40369 non-null   float64\n",
      " 68  임신_성공_여부               256351 non-null  int64  \n",
      "dtypes: float64(29), int64(19), object(21)\n",
      "memory usage: 135.0+ MB\n"
     ]
    }
   ],
   "source": [
    "train.info(verbose=True)"
   ]
  },
  {
   "cell_type": "code",
   "execution_count": 41,
   "metadata": {},
   "outputs": [
    {
     "data": {
      "image/png": "[encoded data removed]",
      "text/plain": [
       "<Figure size 640x480 with 1 Axes>"
      ]
     },
     "metadata": {},
     "output_type": "display_data"
    }
   ],
   "source": [
    "import matplotlib.pyplot as plt\n",
    "import pandas as pd\n",
    "\n",
    "# '임신_성공_여부' 변수의 값 개수 계산\n",
    "value_counts = train['임신_성공_여부'].value_counts()\n",
    "\n",
    "# 라벨 변경\n",
    "labels = {1: '1(임신 성공)', 0: '0(임신 실패)'}\n",
    "value_counts.index = value_counts.index.map(labels)\n",
    "\n",
    "# 도넛 차트 그리기\n",
    "fig, ax = plt.subplots()\n",
    "\n",
    "# 파이 차트 그리기\n",
    "wedges, texts, autotexts = ax.pie(value_counts, labels=value_counts.index, autopct='%1.1f%%', startangle=90, wedgeprops=dict(width=0.5))\n",
    "\n",
    "# 도넛 차트 가운데에 원 그리기\n",
    "centre_circle = plt.Circle((0, 0), 0.70, fc='white')\n",
    "fig.gca().add_artist(centre_circle)\n",
    "\n",
    "# 차트 제목 설정\n",
    "ax.set_title('임신 성공 여부 도넛 차트')\n",
    "\n",
    "# 차트 표시\n",
    "plt.show()"
   ]
  },
  {
   "cell_type": "markdown",
   "metadata": {},
   "source": [
    "## EDA"
   ]
  },
  {
   "cell_type": "code",
   "execution_count": 42,
   "metadata": {},
   "outputs": [],
   "source": [
    "# '시술_시기_코드' 변수의 값이 'TRDQAZ'에 해당 안하는 데이터 추출\n",
    "IVF_train = train[train['시술_시기_코드'] == 'TRDQAZ'] \n",
    "IVF_test = test[test['시술_시기_코드'] == 'TRDQAZ']\n",
    "\n",
    "# 모든 값이 결측값인 변수를 제거\n",
    "IVF_train = IVF_train.dropna(axis=1, how='all')\n",
    "IVF_test = IVF_test.dropna(axis=1, how='all')\n",
    "\n",
    "train = IVF_train\n",
    "test = IVF_test"
   ]
  },
  {
   "cell_type": "markdown",
   "metadata": {},
   "source": [
    "### 1. 시술_시기_코드"
   ]
  },
  {
   "cell_type": "markdown",
   "metadata": {},
   "source": [
    "난임 시술을 받은 시기를 기준으로 코드 부여"
   ]
  },
  {
   "cell_type": "code",
   "execution_count": 43,
   "metadata": {},
   "outputs": [
    {
     "name": "stdout",
     "output_type": "stream",
     "text": [
      "\n",
      "시술_시기_코드별 임신_성공_여부 비율 및 갯수\n",
      "\n",
      "                 0         1      0     1  Total\n",
      "variable                                        \n",
      "TRDQAZ    0.754574  0.245426  29405  9564  38969\n"
     ]
    }
   ],
   "source": [
    "value_counts_ratio(train, '시술_시기_코드')"
   ]
  },
  {
   "cell_type": "code",
   "execution_count": 44,
   "metadata": {},
   "outputs": [],
   "source": [
    "# '시술_시기_코드' 변수 제거\n",
    "train = train.drop(columns=['시술_시기_코드'])\n",
    "test = test.drop(columns=['시술_시기_코드'])"
   ]
  },
  {
   "cell_type": "markdown",
   "metadata": {},
   "source": [
    "### 2. 시술 당시 나이"
   ]
  },
  {
   "cell_type": "markdown",
   "metadata": {},
   "source": [
    "환자의 시술 당시 나이(연령대)"
   ]
  },
  {
   "cell_type": "code",
   "execution_count": 45,
   "metadata": {},
   "outputs": [
    {
     "name": "stdout",
     "output_type": "stream",
     "text": [
      "\n",
      "시술_당시_나이별 임신_성공_여부 비율 및 갯수\n",
      "\n",
      "                 0         1        0       1  Total\n",
      "variable                                            \n",
      "만18-34세   0.692198  0.307802  10167.0  4521.0  14688\n",
      "만35-37세   0.733174  0.266826   6449.0  2347.0   8796\n",
      "만38-39세   0.785125  0.214875   4571.0  1251.0   5822\n",
      "만40-42세   0.842637  0.157363   5087.0   950.0   6037\n",
      "만43-44세   0.878543  0.121457   1953.0   270.0   2223\n",
      "만45-50세   0.830445  0.169555   1102.0   225.0   1327\n",
      "알 수 없음    1.000000  0.000000     76.0     0.0     76\n"
     ]
    }
   ],
   "source": [
    "value_counts_ratio(train, '시술_당시_나이')"
   ]
  },
  {
   "cell_type": "code",
   "execution_count": 46,
   "metadata": {},
   "outputs": [
    {
     "data": {
      "text/plain": [
       "만18-34세    5189\n",
       "만35-37세    3082\n",
       "만40-42세    2063\n",
       "만38-39세    2009\n",
       "만43-44세     781\n",
       "만45-50세     461\n",
       "알 수 없음       25\n",
       "Name: 시술_당시_나이, dtype: int64"
      ]
     },
     "execution_count": 46,
     "metadata": {},
     "output_type": "execute_result"
    }
   ],
   "source": [
    "test['시술_당시_나이'].value_counts()"
   ]
  },
  {
   "cell_type": "markdown",
   "metadata": {},
   "source": [
    "### 3. 임신 시도 또는 마지막 임신 경과 일수"
   ]
  },
  {
   "cell_type": "markdown",
   "metadata": {},
   "source": [
    "환자가 처음 임신을 시도한 시점 또는 마지막 임신 이후 현재까지의 경과 연수 (년 단위)"
   ]
  },
  {
   "cell_type": "code",
   "execution_count": 47,
   "metadata": {},
   "outputs": [
    {
     "name": "stdout",
     "output_type": "stream",
     "text": [
      "\n",
      "임신_시도_또는_마지막_임신_경과_연수별 임신_성공_여부 비율 및 갯수\n",
      "\n",
      "                 0         1     0    1  Total\n",
      "variable                                      \n",
      "3.0       1.000000  0.000000   3.0  0.0      3\n",
      "6.0       0.000000  1.000000   0.0  2.0      2\n",
      "7.0       1.000000  0.000000   1.0  0.0      1\n",
      "8.0       1.000000  0.000000   2.0  0.0      2\n",
      "9.0       1.000000  0.000000   8.0  0.0      8\n",
      "10.0      0.800000  0.200000   8.0  2.0     10\n",
      "11.0      0.833333  0.166667  20.0  4.0     24\n",
      "12.0      0.850000  0.150000  17.0  3.0     20\n",
      "13.0      0.958333  0.041667  23.0  1.0     24\n",
      "14.0      0.900000  0.100000  27.0  3.0     30\n",
      "15.0      0.705882  0.294118  12.0  5.0     17\n",
      "16.0      0.789474  0.210526  15.0  4.0     19\n",
      "17.0      0.750000  0.250000   6.0  2.0      8\n",
      "18.0      0.750000  0.250000   6.0  2.0      8\n",
      "19.0      1.000000  0.000000   4.0  0.0      4\n",
      "20.0      0.714286  0.285714   5.0  2.0      7\n"
     ]
    }
   ],
   "source": [
    "value_counts_ratio(train, '임신_시도_또는_마지막_임신_경과_연수')"
   ]
  },
  {
   "cell_type": "code",
   "execution_count": 48,
   "metadata": {},
   "outputs": [],
   "source": [
    "# 3년 단위로 범주화\n",
    "bins = list(range(0, 24, 3))  # 0부터 20까지 3년 단위로 구간 생성\n",
    "labels = [f'{i}-{i+2}년' for i in range(0, 21, 3)]  # 범주 레이블 생성\n",
    "\n",
    "train['임신_시도_또는_마지막_임신_경과_연수'] = pd.cut(train['임신_시도_또는_마지막_임신_경과_연수'], bins=bins, labels=labels, right=False)\n",
    "test['임신_시도_또는_마지막_임신_경과_연수'] = pd.cut(test['임신_시도_또는_마지막_임신_경과_연수'], bins=bins, labels=labels, right=False)\n",
    "\n",
    "# 결측값을 'unknown'으로 채우기 위해 범주에 'unknown' 추가\n",
    "train['임신_시도_또는_마지막_임신_경과_연수'] = train['임신_시도_또는_마지막_임신_경과_연수'].cat.add_categories(['unknown'])\n",
    "test['임신_시도_또는_마지막_임신_경과_연수'] = test['임신_시도_또는_마지막_임신_경과_연수'].cat.add_categories(['unknown'])\n",
    "\n",
    "train['임신_시도_또는_마지막_임신_경과_연수'].fillna('unknown', inplace=True)\n",
    "test['임신_시도_또는_마지막_임신_경과_연수'].fillna('unknown', inplace=True)"
   ]
  },
  {
   "cell_type": "code",
   "execution_count": 49,
   "metadata": {},
   "outputs": [
    {
     "data": {
      "text/plain": [
       "unknown    38782\n",
       "12-14년        74\n",
       "15-17년        44\n",
       "9-11년         42\n",
       "18-20년        19\n",
       "6-8년           5\n",
       "3-5년           3\n",
       "0-2년           0\n",
       "Name: 임신_시도_또는_마지막_임신_경과_연수, dtype: int64"
      ]
     },
     "execution_count": 49,
     "metadata": {},
     "output_type": "execute_result"
    }
   ],
   "source": [
    "train['임신_시도_또는_마지막_임신_경과_연수'].value_counts()"
   ]
  },
  {
   "cell_type": "markdown",
   "metadata": {},
   "source": [
    "### 4. 시술_유형"
   ]
  },
  {
   "cell_type": "markdown",
   "metadata": {},
   "source": [
    "IVF 또는 DI 시술 여부"
   ]
  },
  {
   "cell_type": "code",
   "execution_count": 50,
   "metadata": {},
   "outputs": [
    {
     "name": "stdout",
     "output_type": "stream",
     "text": [
      "\n",
      "시술_유형별 임신_성공_여부 비율 및 갯수\n",
      "\n",
      "                 0         1      0     1  Total\n",
      "variable                                        \n",
      "DI        0.887967  0.112033    856   108    964\n",
      "IVF       0.751191  0.248809  28549  9456  38005\n"
     ]
    }
   ],
   "source": [
    "value_counts_ratio(train, '시술_유형')"
   ]
  },
  {
   "cell_type": "code",
   "execution_count": 51,
   "metadata": {},
   "outputs": [
    {
     "data": {
      "text/plain": [
       "IVF    13327\n",
       "DI       283\n",
       "Name: 시술_유형, dtype: int64"
      ]
     },
     "execution_count": 51,
     "metadata": {},
     "output_type": "execute_result"
    }
   ],
   "source": [
    "test['시술_유형'].value_counts()"
   ]
  },
  {
   "cell_type": "markdown",
   "metadata": {},
   "source": [
    "### 5. 특정_시술_유형"
   ]
  },
  {
   "cell_type": "markdown",
   "metadata": {},
   "source": [
    "IVF – 체외 수정 (시험관 아기 시술)  \n",
    "ICSI – 세포질 내 정자 주입  \n",
    "IUI – 인공 수정 (자궁 내 주입)  \n",
    "ICI – 자궁경부 인공 수정  \n",
    "GIFT – 생식세포 나팔관 이식  \n",
    "FER – 냉동 배아 이식  \n",
    "Generic DI – 기증 정자 주입  \n",
    "IVI – 질 내 인공 수정   \n",
    "BLASTOCYST – 배반포 단계에 이식  \n",
    "AH – 배아를 hatching 시켜주는 과정  \n",
    "Unknown – 시술 유형 정보가 제공되지 않았거나 알 수 없음  \n",
    "\n",
    "(*) 특수 기호의 의미  \n",
    "\"/\" – 복합적인 시술 방법을 의미 (예: ICSI / BLASTOCYST)  \n",
    "\":\" – 동일 시술 내 세부 조합을 의미 (예: ICSI:IVF)  "
   ]
  },
  {
   "cell_type": "code",
   "execution_count": 52,
   "metadata": {},
   "outputs": [
    {
     "name": "stdout",
     "output_type": "stream",
     "text": [
      "Grouped by: 특정_시술_유형\n",
      "\n",
      "                 group  '임신_성공_여부' count     ratio  Total\n",
      "0                  FER                 1  0.333333      3\n",
      "1           Generic DI                 1  0.050000     20\n",
      "2                  ICI                 0  0.000000      4\n",
      "3                 ICSI              4713  0.257893  18275\n",
      "4            ICSI / AH                 0  0.000000      2\n",
      "5   ICSI / BLASTOCYST                  2  0.400000      5\n",
      "6            ICSI:ICSI                 6  0.008054    745\n",
      "7             ICSI:IVF                17  0.128788    132\n",
      "8         ICSI:Unknown                 2  0.038462     52\n",
      "9                  IUI               107  0.114807    932\n",
      "10                 IVF              3341  0.244798  13648\n",
      "11            IVF / AH                 0  0.000000      1\n",
      "12    IVF / BLASTOCYST                 1  0.125000      8\n",
      "13            IVF:ICSI                 9  0.150000     60\n",
      "14             IVF:IVF                 0  0.000000    308\n",
      "15         IVF:Unknown                 2  0.071429     28\n",
      "16                 IVI                 0  0.000000      8\n",
      "17             Unknown              1362  0.287463   4738\n"
     ]
    }
   ],
   "source": [
    "summarize_group(train, ['특정_시술_유형'])"
   ]
  },
  {
   "cell_type": "code",
   "execution_count": 53,
   "metadata": {},
   "outputs": [
    {
     "data": {
      "text/plain": [
       "ICSI                           6349\n",
       "IVF                            4885\n",
       "Unknown                        1604\n",
       "IUI                             266\n",
       "ICSI:ICSI                       258\n",
       "IVF:IVF                         125\n",
       "ICSI:IVF                         46\n",
       "IVF:ICSI                         20\n",
       "ICSI:Unknown                     18\n",
       "IVF:Unknown                      16\n",
       "Generic DI                       10\n",
       "IVI                               5\n",
       "IVF / BLASTOCYST                  3\n",
       "ICI                               2\n",
       "IVF:Unknown:Unknown:Unknown       1\n",
       "ICSI / AH                         1\n",
       "ICSI / BLASTOCYST                 1\n",
       "Name: 특정_시술_유형, dtype: int64"
      ]
     },
     "execution_count": 53,
     "metadata": {},
     "output_type": "execute_result"
    }
   ],
   "source": [
    "test['특정_시술_유형'].value_counts()"
   ]
  },
  {
   "cell_type": "code",
   "execution_count": 54,
   "metadata": {},
   "outputs": [],
   "source": [
    "# '특정_시술_유형' 변수의 값이 'FER' 또는 'GIFT'인 행 제거\n",
    "train = train.loc[~train['특정_시술_유형'].isin(['FER', 'GIFT'])]\n",
    "# test = test.loc[~test['특정_시술_유형'].isin(['FER', 'GIFT'])]"
   ]
  },
  {
   "cell_type": "code",
   "execution_count": 55,
   "metadata": {},
   "outputs": [],
   "source": [
    "# 시술 유형 변환 함수\n",
    "def transform_treatment(treatment):\n",
    "    if isinstance(treatment, str):  # treatment가 문자열인지 확인\n",
    "        if treatment.startswith(\"ICSI\"):\n",
    "            if \"AH\" in treatment:\n",
    "                return \"ICSI / AH\"\n",
    "            elif \"BLASTOCYST\" in treatment:\n",
    "                return \"ICSI / BLASTOCYST\"\n",
    "            return \"ICSI\"\n",
    "        elif treatment.startswith(\"IVF\"):\n",
    "            if \"AH\" in treatment:\n",
    "                return \"IVF / AH\"\n",
    "            elif \"BLASTOCYST\" in treatment:\n",
    "                return \"IVF / BLASTOCYST\"\n",
    "            return \"IVF\"\n",
    "        elif treatment == \"IUI:ICI\":\n",
    "            return \"IUI\"\n",
    "    return treatment  # 기타 시술은 그대로 반환\n",
    "\n",
    "# 변환된 열 추가\n",
    "train['변환된_특정_시술_유형'] = train['특정_시술_유형'].apply(transform_treatment)\n",
    "test['변환된_특정_시술_유형'] = test['특정_시술_유형'].apply(transform_treatment)"
   ]
  },
  {
   "cell_type": "code",
   "execution_count": 56,
   "metadata": {},
   "outputs": [
    {
     "name": "stdout",
     "output_type": "stream",
     "text": [
      "\n",
      "변환된_특정_시술_유형별 임신_성공_여부 비율 및 갯수\n",
      "\n",
      "                          0         1        0       1  Total\n",
      "variable                                                     \n",
      "Generic DI         0.950000  0.050000     19.0     1.0     20\n",
      "ICI                1.000000  0.000000      4.0     0.0      4\n",
      "ICSI               0.753281  0.246719  14466.0  4738.0  19204\n",
      "ICSI / AH          1.000000  0.000000      2.0     0.0      2\n",
      "ICSI / BLASTOCYST  0.600000  0.400000      3.0     2.0      5\n",
      "IUI                0.885193  0.114807    825.0   107.0    932\n",
      "IVF                0.761322  0.238678  10692.0  3352.0  14044\n",
      "IVF / AH           1.000000  0.000000      1.0     0.0      1\n",
      "IVF / BLASTOCYST   0.875000  0.125000      7.0     1.0      8\n",
      "IVI                1.000000  0.000000      8.0     0.0      8\n",
      "Unknown            0.712537  0.287463   3376.0  1362.0   4738\n"
     ]
    }
   ],
   "source": [
    "value_counts_ratio(train, '변환된_특정_시술_유형')"
   ]
  },
  {
   "cell_type": "code",
   "execution_count": 57,
   "metadata": {},
   "outputs": [
    {
     "data": {
      "text/plain": [
       "ICSI                 6671\n",
       "IVF                  5047\n",
       "Unknown              1604\n",
       "IUI                   266\n",
       "Generic DI             10\n",
       "IVI                     5\n",
       "IVF / BLASTOCYST        3\n",
       "ICI                     2\n",
       "ICSI / AH               1\n",
       "ICSI / BLASTOCYST       1\n",
       "Name: 변환된_특정_시술_유형, dtype: int64"
      ]
     },
     "execution_count": 57,
     "metadata": {},
     "output_type": "execute_result"
    }
   ],
   "source": [
    "test['변환된_특정_시술_유형'].value_counts()"
   ]
  },
  {
   "cell_type": "code",
   "execution_count": 58,
   "metadata": {},
   "outputs": [],
   "source": [
    "# 더미 변수 생성 함수 정의\n",
    "def create_dummy(x, keyword):\n",
    "    if isinstance(x, str) and keyword in x:\n",
    "        return 1\n",
    "    else:\n",
    "        return 0\n",
    "\n",
    "# 더미 변수 생성\n",
    "train['특정_시술_유형_ICSI_더미'] = train['변환된_특정_시술_유형'].apply(lambda x: create_dummy(x, 'ICSI'))\n",
    "train['특정_시술_유형_IVF_더미'] = train['변환된_특정_시술_유형'].apply(lambda x: create_dummy(x, 'IVF'))\n",
    "train['특정_시술_유형_AH_더미'] = train['변환된_특정_시술_유형'].apply(lambda x: create_dummy(x, 'AH'))\n",
    "train['특정_시술_유형_BLASTOCYST_더미'] = train['변환된_특정_시술_유형'].apply(lambda x: create_dummy(x, 'BLASTOCYST'))\n",
    "\n",
    "test['특정_시술_유형_ICSI_더미'] = test['변환된_특정_시술_유형'].apply(lambda x: create_dummy(x, 'ICSI'))\n",
    "test['특정_시술_유형_IVF_더미'] = test['변환된_특정_시술_유형'].apply(lambda x: create_dummy(x, 'IVF'))\n",
    "test['특정_시술_유형_AH_더미'] = test['변환된_특정_시술_유형'].apply(lambda x: create_dummy(x, 'AH'))\n",
    "test['특정_시술_유형_BLASTOCYST_더미'] = test['변환된_특정_시술_유형'].apply(lambda x: create_dummy(x, 'BLASTOCYST'))"
   ]
  },
  {
   "cell_type": "code",
   "execution_count": 59,
   "metadata": {},
   "outputs": [
    {
     "name": "stdout",
     "output_type": "stream",
     "text": [
      "Grouped by: 특정_시술_유형, 특정_시술_유형_ICSI_더미, 특정_시술_유형_IVF_더미, 특정_시술_유형_AH_더미, 특정_시술_유형_BLASTOCYST_더미\n",
      "\n",
      "                               group  '임신_성공_여부' count     ratio  Total\n",
      "0           (Generic DI, 0, 0, 0, 0)                 1  0.050000     20\n",
      "1                  (ICI, 0, 0, 0, 0)                 0  0.000000      4\n",
      "2                 (ICSI, 1, 0, 0, 0)              4713  0.257893  18275\n",
      "3            (ICSI / AH, 1, 0, 1, 0)                 0  0.000000      2\n",
      "4   (ICSI / BLASTOCYST , 1, 0, 0, 1)                 2  0.400000      5\n",
      "5            (ICSI:ICSI, 1, 0, 0, 0)                 6  0.008054    745\n",
      "6             (ICSI:IVF, 1, 0, 0, 0)                17  0.128788    132\n",
      "7         (ICSI:Unknown, 1, 0, 0, 0)                 2  0.038462     52\n",
      "8                  (IUI, 0, 0, 0, 0)               107  0.114807    932\n",
      "9                  (IVF, 0, 1, 0, 0)              3341  0.244798  13648\n",
      "10            (IVF / AH, 0, 1, 1, 0)                 0  0.000000      1\n",
      "11    (IVF / BLASTOCYST, 0, 1, 0, 1)                 1  0.125000      8\n",
      "12            (IVF:ICSI, 0, 1, 0, 0)                 9  0.150000     60\n",
      "13             (IVF:IVF, 0, 1, 0, 0)                 0  0.000000    308\n",
      "14         (IVF:Unknown, 0, 1, 0, 0)                 2  0.071429     28\n",
      "15                 (IVI, 0, 0, 0, 0)                 0  0.000000      8\n",
      "16             (Unknown, 0, 0, 0, 0)              1362  0.287463   4738\n"
     ]
    }
   ],
   "source": [
    "summarize_group(train, ['특정_시술_유형',\n",
    "                        '특정_시술_유형_ICSI_더미',\n",
    "                          '특정_시술_유형_IVF_더미',\n",
    "                            '특정_시술_유형_AH_더미',\n",
    "                              '특정_시술_유형_BLASTOCYST_더미'])"
   ]
  },
  {
   "cell_type": "code",
   "execution_count": 60,
   "metadata": {},
   "outputs": [],
   "source": [
    "# '특정_시술_유형' 변수 제거\n",
    "train = train.drop(columns=['특정_시술_유형'])\n",
    "test = test.drop(columns=['특정_시술_유형'])"
   ]
  },
  {
   "cell_type": "markdown",
   "metadata": {},
   "source": [
    "### 6. 배란_자극_여부"
   ]
  },
  {
   "cell_type": "markdown",
   "metadata": {},
   "source": [
    "배란 자극 치료가 사용되었는지 여부"
   ]
  },
  {
   "cell_type": "code",
   "execution_count": 61,
   "metadata": {},
   "outputs": [
    {
     "name": "stdout",
     "output_type": "stream",
     "text": [
      "\n",
      "배란_자극_여부별 임신_성공_여부 비율 및 갯수\n",
      "\n",
      "                 0         1      0     1  Total\n",
      "variable                                        \n",
      "0         0.747406  0.252594   7418  2507   9925\n",
      "1         0.757033  0.242967  21985  7056  29041\n"
     ]
    }
   ],
   "source": [
    "value_counts_ratio(train, '배란_자극_여부')"
   ]
  },
  {
   "cell_type": "markdown",
   "metadata": {},
   "source": [
    "### 7. 배란_유도_유형"
   ]
  },
  {
   "cell_type": "markdown",
   "metadata": {},
   "source": [
    "사용된 배란 유도 방법 유형"
   ]
  },
  {
   "cell_type": "code",
   "execution_count": 62,
   "metadata": {},
   "outputs": [
    {
     "name": "stdout",
     "output_type": "stream",
     "text": [
      "\n",
      "배란_유도_유형별 임신_성공_여부 비율 및 갯수\n",
      "\n",
      "                     0         1        0       1  Total\n",
      "variable                                                \n",
      "기록되지 않은 시행    0.755041  0.244959  21567.0  6997.0  28564\n",
      "세트로타이드 (억제제)  1.000000  0.000000      1.0     0.0      1\n",
      "알 수 없음        0.753293  0.246707   7835.0  2566.0  10401\n"
     ]
    }
   ],
   "source": [
    "value_counts_ratio(train, '배란_유도_유형')"
   ]
  },
  {
   "cell_type": "code",
   "execution_count": 63,
   "metadata": {},
   "outputs": [
    {
     "data": {
      "text/plain": [
       "기록되지 않은 시행    10094\n",
       "알 수 없음         3516\n",
       "Name: 배란_유도_유형, dtype: int64"
      ]
     },
     "execution_count": 63,
     "metadata": {},
     "output_type": "execute_result"
    }
   ],
   "source": [
    "test['배란_유도_유형'].value_counts()"
   ]
  },
  {
   "cell_type": "markdown",
   "metadata": {},
   "source": [
    "### 8. 단일_배아_이식_여부"
   ]
  },
  {
   "cell_type": "markdown",
   "metadata": {},
   "source": [
    "선택적으로 단일 배아를 이식했는지 여부"
   ]
  },
  {
   "cell_type": "code",
   "execution_count": 64,
   "metadata": {},
   "outputs": [
    {
     "name": "stdout",
     "output_type": "stream",
     "text": [
      "\n",
      "단일_배아_이식_여부별 임신_성공_여부 비율 및 갯수\n",
      "\n",
      "                 0         1      0     1  Total\n",
      "variable                                        \n",
      "0.0       0.804539  0.195461  21375  5193  26568\n",
      "1.0       0.627252  0.372748   7172  4262  11434\n"
     ]
    }
   ],
   "source": [
    "value_counts_ratio(train, '단일_배아_이식_여부')"
   ]
  },
  {
   "cell_type": "markdown",
   "metadata": {},
   "source": [
    "### 9. 착상_전_유전_검사_사용_여부"
   ]
  },
  {
   "cell_type": "markdown",
   "metadata": {},
   "source": [
    "PGS(착상 전 유전 검사)가 시행되었는지 여부"
   ]
  },
  {
   "cell_type": "code",
   "execution_count": 65,
   "metadata": {},
   "outputs": [
    {
     "name": "stdout",
     "output_type": "stream",
     "text": [
      "\n",
      "착상_전_유전_검사_사용_여부별 임신_성공_여부 비율 및 갯수\n",
      "\n",
      "                 0         1    0   1  Total\n",
      "variable                                    \n",
      "1.0       0.867503  0.132497  622  95    717\n"
     ]
    }
   ],
   "source": [
    "value_counts_ratio(train, '착상_전_유전_검사_사용_여부')"
   ]
  },
  {
   "cell_type": "code",
   "execution_count": 66,
   "metadata": {},
   "outputs": [
    {
     "name": "stdout",
     "output_type": "stream",
     "text": [
      "결측값 개수: 38249\n",
      "결측값 개수: 0\n"
     ]
    }
   ],
   "source": [
    "# 결측값 개수 확인\n",
    "print(\"결측값 개수:\", train['착상_전_유전_검사_사용_여부'].isnull().sum())\n",
    "\n",
    "# 결측값을 0으로 채우기\n",
    "train['착상_전_유전_검사_사용_여부'].fillna(0, inplace=True)\n",
    "test['착상_전_유전_검사_사용_여부'].fillna(0, inplace=True)\n",
    "\n",
    "# 결측값 개수 확인\n",
    "print(\"결측값 개수:\", train['착상_전_유전_검사_사용_여부'].isnull().sum())"
   ]
  },
  {
   "cell_type": "code",
   "execution_count": 67,
   "metadata": {},
   "outputs": [
    {
     "name": "stdout",
     "output_type": "stream",
     "text": [
      "\n",
      "착상_전_유전_검사_사용_여부별 임신_성공_여부 비율 및 갯수\n",
      "\n",
      "                 0         1      0     1  Total\n",
      "variable                                        \n",
      "0.0       0.752464  0.247536  28781  9468  38249\n",
      "1.0       0.867503  0.132497    622    95    717\n"
     ]
    }
   ],
   "source": [
    "value_counts_ratio(train, '착상_전_유전_검사_사용_여부')"
   ]
  },
  {
   "cell_type": "markdown",
   "metadata": {},
   "source": [
    "### 10. 착상_전_유전_진단_사용_여부"
   ]
  },
  {
   "cell_type": "markdown",
   "metadata": {},
   "source": [
    "PGD(착상 전 유전 진단)가 시행되었는지 여부"
   ]
  },
  {
   "cell_type": "code",
   "execution_count": 68,
   "metadata": {},
   "outputs": [
    {
     "name": "stdout",
     "output_type": "stream",
     "text": [
      "\n",
      "착상_전_유전_진단_사용_여부별 임신_성공_여부 비율 및 갯수\n",
      "\n",
      "                 0         1      0     1  Total\n",
      "variable                                        \n",
      "0.0       0.748996  0.251004  27975  9375  37350\n",
      "1.0       0.877301  0.122699    572    80    652\n"
     ]
    }
   ],
   "source": [
    "value_counts_ratio(train, '착상_전_유전_진단_사용_여부')"
   ]
  },
  {
   "cell_type": "code",
   "execution_count": 69,
   "metadata": {},
   "outputs": [
    {
     "name": "stdout",
     "output_type": "stream",
     "text": [
      "Grouped by: 착상_전_유전_진단_사용_여부, 착상_전_유전_검사_사용_여부\n",
      "\n",
      "        group  '임신_성공_여부' count     ratio  Total\n",
      "0  (0.0, 0.0)              9281  0.253247  36648\n",
      "1  (0.0, 1.0)                94  0.133903    702\n",
      "2  (1.0, 0.0)                79  0.124019    637\n",
      "3  (1.0, 1.0)                 1  0.066667     15\n"
     ]
    }
   ],
   "source": [
    "summarize_group(train, ['착상_전_유전_진단_사용_여부', '착상_전_유전_검사_사용_여부'])"
   ]
  },
  {
   "cell_type": "markdown",
   "metadata": {},
   "source": [
    "### 11. 남성_주_불임_원인"
   ]
  },
  {
   "cell_type": "markdown",
   "metadata": {},
   "source": [
    "남성의 주요 불임 원인 여부"
   ]
  },
  {
   "cell_type": "code",
   "execution_count": 70,
   "metadata": {},
   "outputs": [
    {
     "name": "stdout",
     "output_type": "stream",
     "text": [
      "\n",
      "남성_주_불임_원인별 임신_성공_여부 비율 및 갯수\n",
      "\n",
      "                 0         1      0     1  Total\n",
      "variable                                        \n",
      "0         0.754181  0.245819  29269  9540  38809\n",
      "1         0.853503  0.146497    134    23    157\n"
     ]
    }
   ],
   "source": [
    "value_counts_ratio(train, '남성_주_불임_원인')"
   ]
  },
  {
   "cell_type": "markdown",
   "metadata": {},
   "source": [
    "### 12. 남성_부_불임_원인"
   ]
  },
  {
   "cell_type": "markdown",
   "metadata": {},
   "source": [
    "남성의 부차적 불임 원인 여부"
   ]
  },
  {
   "cell_type": "code",
   "execution_count": 71,
   "metadata": {},
   "outputs": [
    {
     "name": "stdout",
     "output_type": "stream",
     "text": [
      "\n",
      "남성_부_불임_원인별 임신_성공_여부 비율 및 갯수\n",
      "\n",
      "                 0         1      0     1  Total\n",
      "variable                                        \n",
      "0         0.754397  0.245603  29340  9552  38892\n",
      "1         0.851351  0.148649     63    11     74\n"
     ]
    }
   ],
   "source": [
    "value_counts_ratio(train, '남성_부_불임_원인')"
   ]
  },
  {
   "cell_type": "code",
   "execution_count": 72,
   "metadata": {},
   "outputs": [
    {
     "name": "stdout",
     "output_type": "stream",
     "text": [
      "Grouped by: 남성_주_불임_원인, 남성_부_불임_원인\n",
      "\n",
      "    group  '임신_성공_여부' count     ratio  Total\n",
      "0  (0, 0)              9529  0.246005  38735\n",
      "1  (0, 1)                11  0.148649     74\n",
      "2  (1, 0)                23  0.146497    157\n"
     ]
    }
   ],
   "source": [
    "summarize_group(train, ['남성_주_불임_원인', '남성_부_불임_원인'])"
   ]
  },
  {
   "cell_type": "markdown",
   "metadata": {},
   "source": [
    "### 13. 여성_주_불임_원인"
   ]
  },
  {
   "cell_type": "markdown",
   "metadata": {},
   "source": [
    "여성의 주요 불임 원인 여부"
   ]
  },
  {
   "cell_type": "code",
   "execution_count": 73,
   "metadata": {},
   "outputs": [
    {
     "name": "stdout",
     "output_type": "stream",
     "text": [
      "\n",
      "여성_주_불임_원인별 임신_성공_여부 비율 및 갯수\n",
      "\n",
      "                 0         1      0     1  Total\n",
      "variable                                        \n",
      "0         0.754034  0.245966  29252  9542  38794\n",
      "1         0.877907  0.122093    151    21    172\n"
     ]
    }
   ],
   "source": [
    "value_counts_ratio(train, '여성_주_불임_원인')"
   ]
  },
  {
   "cell_type": "markdown",
   "metadata": {},
   "source": [
    "### 14. 여성_부_불임_원인"
   ]
  },
  {
   "cell_type": "markdown",
   "metadata": {},
   "source": [
    "여성의 부차적 불임 원인 여부"
   ]
  },
  {
   "cell_type": "code",
   "execution_count": 74,
   "metadata": {},
   "outputs": [
    {
     "name": "stdout",
     "output_type": "stream",
     "text": [
      "\n",
      "여성_부_불임_원인별 임신_성공_여부 비율 및 갯수\n",
      "\n",
      "                 0         1      0     1  Total\n",
      "variable                                        \n",
      "0         0.754564  0.245436  29348  9546  38894\n",
      "1         0.763889  0.236111     55    17     72\n"
     ]
    }
   ],
   "source": [
    "value_counts_ratio(train, '여성_부_불임_원인')"
   ]
  },
  {
   "cell_type": "code",
   "execution_count": 75,
   "metadata": {},
   "outputs": [
    {
     "name": "stdout",
     "output_type": "stream",
     "text": [
      "Grouped by: 여성_주_불임_원인, 여성_부_불임_원인\n",
      "\n",
      "    group  '임신_성공_여부' count     ratio  Total\n",
      "0  (0, 0)              9525  0.245984  38722\n",
      "1  (0, 1)                17  0.236111     72\n",
      "2  (1, 0)                21  0.122093    172\n"
     ]
    }
   ],
   "source": [
    "summarize_group(train, ['여성_주_불임_원인', '여성_부_불임_원인'])"
   ]
  },
  {
   "cell_type": "code",
   "execution_count": 76,
   "metadata": {},
   "outputs": [
    {
     "name": "stdout",
     "output_type": "stream",
     "text": [
      "Grouped by: 남성_주_불임_원인, 남성_부_불임_원인, 여성_주_불임_원인, 여성_부_불임_원인\n",
      "\n",
      "          group  '임신_성공_여부' count     ratio  Total\n",
      "0  (0, 0, 0, 0)              9525  0.245991  38721\n",
      "1  (0, 0, 0, 1)                 2  1.000000      2\n",
      "2  (0, 0, 1, 0)                 2  0.166667     12\n",
      "3  (0, 1, 0, 1)                 9  0.183673     49\n",
      "4  (0, 1, 1, 0)                 2  0.080000     25\n",
      "5  (1, 0, 0, 0)                 0  0.000000      1\n",
      "6  (1, 0, 0, 1)                 6  0.285714     21\n",
      "7  (1, 0, 1, 0)                17  0.125926    135\n"
     ]
    }
   ],
   "source": [
    "summarize_group(train, ['남성_주_불임_원인', '남성_부_불임_원인', '여성_주_불임_원인', '여성_부_불임_원인'])"
   ]
  },
  {
   "cell_type": "markdown",
   "metadata": {},
   "source": [
    "### 15. 부부_주_불임_원인"
   ]
  },
  {
   "cell_type": "markdown",
   "metadata": {},
   "source": [
    "부부의 주요 불임 원인 여부"
   ]
  },
  {
   "cell_type": "code",
   "execution_count": 77,
   "metadata": {},
   "outputs": [
    {
     "name": "stdout",
     "output_type": "stream",
     "text": [
      "\n",
      "부부_주_불임_원인별 임신_성공_여부 비율 및 갯수\n",
      "\n",
      "                 0         1      0     1  Total\n",
      "variable                                        \n",
      "0         0.754042  0.245958  29244  9539  38783\n",
      "1         0.868852  0.131148    159    24    183\n"
     ]
    }
   ],
   "source": [
    "value_counts_ratio(train, '부부_주_불임_원인')"
   ]
  },
  {
   "cell_type": "markdown",
   "metadata": {},
   "source": [
    "### 16. 부부_부_불임_원인"
   ]
  },
  {
   "cell_type": "markdown",
   "metadata": {},
   "source": [
    "부부의 부차적 불임 원인 여부"
   ]
  },
  {
   "cell_type": "code",
   "execution_count": 78,
   "metadata": {},
   "outputs": [
    {
     "name": "stdout",
     "output_type": "stream",
     "text": [
      "\n",
      "부부_부_불임_원인별 임신_성공_여부 비율 및 갯수\n",
      "\n",
      "                 0         1      0     1  Total\n",
      "variable                                        \n",
      "0         0.754523  0.245477  29363  9553  38916\n",
      "1         0.800000  0.200000     40    10     50\n"
     ]
    }
   ],
   "source": [
    "value_counts_ratio(train, '부부_부_불임_원인')"
   ]
  },
  {
   "cell_type": "code",
   "execution_count": 79,
   "metadata": {},
   "outputs": [
    {
     "name": "stdout",
     "output_type": "stream",
     "text": [
      "Grouped by: 부부_주_불임_원인, 부부_부_불임_원인\n",
      "\n",
      "    group  '임신_성공_여부' count     ratio  Total\n",
      "0  (0, 0)              9529  0.246018  38733\n",
      "1  (0, 1)                10  0.200000     50\n",
      "2  (1, 0)                24  0.131148    183\n"
     ]
    }
   ],
   "source": [
    "summarize_group(train, ['부부_주_불임_원인', '부부_부_불임_원인'])"
   ]
  },
  {
   "cell_type": "code",
   "execution_count": 80,
   "metadata": {},
   "outputs": [
    {
     "name": "stdout",
     "output_type": "stream",
     "text": [
      "Grouped by: 남성_주_불임_원인, 남성_부_불임_원인, 여성_주_불임_원인, 여성_부_불임_원인, 부부_주_불임_원인, 부부_부_불임_원인\n",
      "\n",
      "                 group  '임신_성공_여부' count     ratio  Total\n",
      "0   (0, 0, 0, 0, 0, 0)              9525  0.245997  38720\n",
      "1   (0, 0, 0, 0, 1, 0)                 0  0.000000      1\n",
      "2   (0, 0, 0, 1, 0, 0)                 2  1.000000      2\n",
      "3   (0, 0, 1, 0, 0, 0)                 2  0.222222      9\n",
      "4   (0, 0, 1, 0, 1, 0)                 0  0.000000      3\n",
      "5   (0, 1, 0, 1, 0, 1)                 9  0.191489     47\n",
      "6   (0, 1, 0, 1, 1, 0)                 0  0.000000      2\n",
      "7   (0, 1, 1, 0, 0, 1)                 1  0.333333      3\n",
      "8   (0, 1, 1, 0, 1, 0)                 1  0.045455     22\n",
      "9   (1, 0, 0, 0, 1, 0)                 0  0.000000      1\n",
      "10  (1, 0, 0, 1, 1, 0)                 6  0.285714     21\n",
      "11  (1, 0, 1, 0, 0, 0)                 0  0.000000      2\n",
      "12  (1, 0, 1, 0, 1, 0)                17  0.127820    133\n"
     ]
    }
   ],
   "source": [
    "summarize_group(train, ['남성_주_불임_원인', '남성_부_불임_원인'\n",
    "                        , '여성_주_불임_원인', '여성_부_불임_원인'\n",
    "                        , '부부_주_불임_원인', '부부_부_불임_원인'])"
   ]
  },
  {
   "cell_type": "markdown",
   "metadata": {},
   "source": [
    "### 17. 불명확_불임_원인"
   ]
  },
  {
   "cell_type": "markdown",
   "metadata": {},
   "source": [
    "불명의 원인으로 인한 불임 여부"
   ]
  },
  {
   "cell_type": "code",
   "execution_count": 81,
   "metadata": {},
   "outputs": [
    {
     "name": "stdout",
     "output_type": "stream",
     "text": [
      "\n",
      "불명확_불임_원인별 임신_성공_여부 비율 및 갯수\n",
      "\n",
      "                 0         1      0     1  Total\n",
      "variable                                        \n",
      "0         0.756735  0.243265  21853  7025  28878\n",
      "1         0.748414  0.251586   7550  2538  10088\n"
     ]
    }
   ],
   "source": [
    "value_counts_ratio(train, '불명확_불임_원인')"
   ]
  },
  {
   "cell_type": "markdown",
   "metadata": {},
   "source": [
    "### 18. 불임_원인_-_난관_질환"
   ]
  },
  {
   "cell_type": "markdown",
   "metadata": {},
   "source": [
    "난관 이상으로 인한 불임 여부"
   ]
  },
  {
   "cell_type": "code",
   "execution_count": 82,
   "metadata": {},
   "outputs": [
    {
     "name": "stdout",
     "output_type": "stream",
     "text": [
      "\n",
      "불임_원인_-_난관_질환별 임신_성공_여부 비율 및 갯수\n",
      "\n",
      "                 0         1      0     1  Total\n",
      "variable                                        \n",
      "0         0.756555  0.243445  26083  8393  34476\n",
      "1         0.739421  0.260579   3320  1170   4490\n"
     ]
    }
   ],
   "source": [
    "value_counts_ratio(train, '불임_원인_-_난관_질환')"
   ]
  },
  {
   "cell_type": "markdown",
   "metadata": {},
   "source": [
    "### 19. 불임_원인_-_남성_요인"
   ]
  },
  {
   "cell_type": "markdown",
   "metadata": {},
   "source": [
    "남성 요인으로 인한 불임 여부"
   ]
  },
  {
   "cell_type": "code",
   "execution_count": 83,
   "metadata": {},
   "outputs": [
    {
     "name": "stdout",
     "output_type": "stream",
     "text": [
      "\n",
      "불임_원인_-_남성_요인별 임신_성공_여부 비율 및 갯수\n",
      "\n",
      "                 0         1      0     1  Total\n",
      "variable                                        \n",
      "0         0.766675  0.233325  19541  5947  25488\n",
      "1         0.731711  0.268289   9862  3616  13478\n"
     ]
    }
   ],
   "source": [
    "value_counts_ratio(train, '불임_원인_-_남성_요인')"
   ]
  },
  {
   "cell_type": "markdown",
   "metadata": {},
   "source": [
    "### 20. 불임_원인_-_배란_장애"
   ]
  },
  {
   "cell_type": "markdown",
   "metadata": {},
   "source": [
    "배란 장애로 인한 불임 여부"
   ]
  },
  {
   "cell_type": "code",
   "execution_count": 84,
   "metadata": {},
   "outputs": [
    {
     "name": "stdout",
     "output_type": "stream",
     "text": [
      "\n",
      "불임_원인_-_배란_장애별 임신_성공_여부 비율 및 갯수\n",
      "\n",
      "                 0         1      0     1  Total\n",
      "variable                                        \n",
      "0         0.759138  0.240862  25753  8171  33924\n",
      "1         0.723919  0.276081   3650  1392   5042\n"
     ]
    }
   ],
   "source": [
    "value_counts_ratio(train, '불임_원인_-_배란_장애')"
   ]
  },
  {
   "cell_type": "markdown",
   "metadata": {},
   "source": [
    "### 21. 불임_원인_-_여성_요인"
   ]
  },
  {
   "cell_type": "markdown",
   "metadata": {},
   "source": [
    "여성 요인으로 인한 불임 여부"
   ]
  },
  {
   "cell_type": "code",
   "execution_count": 85,
   "metadata": {},
   "outputs": [
    {
     "name": "stdout",
     "output_type": "stream",
     "text": [
      "\n",
      "불임_원인_-_여성_요인별 임신_성공_여부 비율 및 갯수\n",
      "\n",
      "                 0         1      0     1  Total\n",
      "variable                                        \n",
      "0         0.754581  0.245419  29403  9563  38966\n"
     ]
    }
   ],
   "source": [
    "value_counts_ratio(train, '불임_원인_-_여성_요인')"
   ]
  },
  {
   "cell_type": "code",
   "execution_count": 86,
   "metadata": {},
   "outputs": [
    {
     "data": {
      "text/plain": [
       "0    13610\n",
       "Name: 불임_원인_-_여성_요인, dtype: int64"
      ]
     },
     "execution_count": 86,
     "metadata": {},
     "output_type": "execute_result"
    }
   ],
   "source": [
    "test['불임_원인_-_여성_요인'].value_counts()"
   ]
  },
  {
   "cell_type": "code",
   "execution_count": 87,
   "metadata": {},
   "outputs": [],
   "source": [
    "# '불임_원인_-_여성_요인' 변수 제거\n",
    "train = train.drop(columns=['불임_원인_-_여성_요인'])\n",
    "test = test.drop(columns=['불임_원인_-_여성_요인'])"
   ]
  },
  {
   "cell_type": "markdown",
   "metadata": {},
   "source": [
    "### 22. 불임_원인_-_자궁경부_문제"
   ]
  },
  {
   "cell_type": "markdown",
   "metadata": {},
   "source": [
    "자궁경부 이상으로 인한 불임 여부"
   ]
  },
  {
   "cell_type": "code",
   "execution_count": 88,
   "metadata": {},
   "outputs": [
    {
     "name": "stdout",
     "output_type": "stream",
     "text": [
      "\n",
      "불임_원인_-_자궁경부_문제별 임신_성공_여부 비율 및 갯수\n",
      "\n",
      "                 0         1        0       1  Total\n",
      "variable                                            \n",
      "0         0.754568  0.245432  29401.0  9563.0  38964\n",
      "1         1.000000  0.000000      2.0     0.0      2\n"
     ]
    }
   ],
   "source": [
    "value_counts_ratio(train, '불임_원인_-_자궁경부_문제')"
   ]
  },
  {
   "cell_type": "markdown",
   "metadata": {},
   "source": [
    "### 23. 불임_원인_-_자궁내막증"
   ]
  },
  {
   "cell_type": "markdown",
   "metadata": {},
   "source": [
    "자궁내막증으로 인한 불임 여부"
   ]
  },
  {
   "cell_type": "code",
   "execution_count": 89,
   "metadata": {},
   "outputs": [
    {
     "name": "stdout",
     "output_type": "stream",
     "text": [
      "\n",
      "불임_원인_-_자궁내막증별 임신_성공_여부 비율 및 갯수\n",
      "\n",
      "                 0         1      0     1  Total\n",
      "variable                                        \n",
      "0         0.756462  0.243538  27508  8856  36364\n",
      "1         0.728286  0.271714   1895   707   2602\n"
     ]
    }
   ],
   "source": [
    "value_counts_ratio(train, '불임_원인_-_자궁내막증')"
   ]
  },
  {
   "cell_type": "markdown",
   "metadata": {},
   "source": [
    "### 24. 불임_원인_-_정자_농도"
   ]
  },
  {
   "cell_type": "markdown",
   "metadata": {},
   "source": [
    "파트너의 정자 농도 문제 여부"
   ]
  },
  {
   "cell_type": "code",
   "execution_count": 90,
   "metadata": {},
   "outputs": [
    {
     "name": "stdout",
     "output_type": "stream",
     "text": [
      "\n",
      "불임_원인_-_정자_농도별 임신_성공_여부 비율 및 갯수\n",
      "\n",
      "                 0         1        0       1  Total\n",
      "variable                                            \n",
      "0         0.754524  0.245476  29394.0  9563.0  38957\n",
      "1         1.000000  0.000000      9.0     0.0      9\n"
     ]
    }
   ],
   "source": [
    "value_counts_ratio(train, '불임_원인_-_정자_농도')"
   ]
  },
  {
   "cell_type": "markdown",
   "metadata": {},
   "source": [
    "### 25. 불임_원인_-_정자_면역학적_요인"
   ]
  },
  {
   "cell_type": "markdown",
   "metadata": {},
   "source": [
    "파트너의 정자 면역 관련 문제 여부"
   ]
  },
  {
   "cell_type": "code",
   "execution_count": 91,
   "metadata": {},
   "outputs": [
    {
     "name": "stdout",
     "output_type": "stream",
     "text": [
      "\n",
      "불임_원인_-_정자_면역학적_요인별 임신_성공_여부 비율 및 갯수\n",
      "\n",
      "                 0         1      0     1  Total\n",
      "variable                                        \n",
      "0         0.754581  0.245419  29403  9563  38966\n"
     ]
    }
   ],
   "source": [
    "value_counts_ratio(train, '불임_원인_-_정자_면역학적_요인')"
   ]
  },
  {
   "cell_type": "code",
   "execution_count": 92,
   "metadata": {},
   "outputs": [
    {
     "data": {
      "text/plain": [
       "0    13610\n",
       "Name: 불임_원인_-_정자_면역학적_요인, dtype: int64"
      ]
     },
     "execution_count": 92,
     "metadata": {},
     "output_type": "execute_result"
    }
   ],
   "source": [
    "test['불임_원인_-_정자_면역학적_요인'].value_counts()"
   ]
  },
  {
   "cell_type": "code",
   "execution_count": 93,
   "metadata": {},
   "outputs": [],
   "source": [
    "# '불임_원인_-_정자_면역학적_요인' 변수 제거\n",
    "train = train.drop(columns=['불임_원인_-_정자_면역학적_요인'])\n",
    "test = test.drop(columns=['불임_원인_-_정자_면역학적_요인'])"
   ]
  },
  {
   "cell_type": "markdown",
   "metadata": {},
   "source": [
    "### 26. 불임_원인_-_정자_운동성"
   ]
  },
  {
   "cell_type": "markdown",
   "metadata": {},
   "source": [
    "파트너의 정자 운동성 문제 여부"
   ]
  },
  {
   "cell_type": "code",
   "execution_count": 94,
   "metadata": {},
   "outputs": [
    {
     "name": "stdout",
     "output_type": "stream",
     "text": [
      "\n",
      "불임_원인_-_정자_운동성별 임신_성공_여부 비율 및 갯수\n",
      "\n",
      "               0       1        0       1  Total\n",
      "variable                                        \n",
      "0         0.7546  0.2454  29403.0  9562.0  38965\n",
      "1         0.0000  1.0000      0.0     1.0      1\n"
     ]
    }
   ],
   "source": [
    "value_counts_ratio(train, '불임_원인_-_정자_운동성')"
   ]
  },
  {
   "cell_type": "code",
   "execution_count": 95,
   "metadata": {},
   "outputs": [],
   "source": [
    "# '불임_원인_-_정자_운동성' 변수 제거\n",
    "train = train.drop(columns=['불임_원인_-_정자_운동성'])\n",
    "test = test.drop(columns=['불임_원인_-_정자_운동성'])"
   ]
  },
  {
   "cell_type": "markdown",
   "metadata": {},
   "source": [
    "### 27. 불임_원인_-_정자_형태"
   ]
  },
  {
   "cell_type": "markdown",
   "metadata": {},
   "source": [
    "파트너의 정자 형태 문제 여부"
   ]
  },
  {
   "cell_type": "code",
   "execution_count": 96,
   "metadata": {},
   "outputs": [
    {
     "name": "stdout",
     "output_type": "stream",
     "text": [
      "\n",
      "불임_원인_-_정자_형태별 임신_성공_여부 비율 및 갯수\n",
      "\n",
      "                 0         1        0       1  Total\n",
      "variable                                            \n",
      "0         0.754562  0.245438  29400.0  9563.0  38963\n",
      "1         1.000000  0.000000      3.0     0.0      3\n"
     ]
    }
   ],
   "source": [
    "value_counts_ratio(train, '불임_원인_-_정자_형태')"
   ]
  },
  {
   "cell_type": "markdown",
   "metadata": {},
   "source": [
    "### 28. 배아_생성_주요_이유"
   ]
  },
  {
   "cell_type": "markdown",
   "metadata": {},
   "source": [
    "배아 생성의 주된 목적(시술, 보관 등)"
   ]
  },
  {
   "cell_type": "code",
   "execution_count": 97,
   "metadata": {},
   "outputs": [
    {
     "name": "stdout",
     "output_type": "stream",
     "text": [
      "\n",
      "배아_생성_주요_이유별 임신_성공_여부 비율 및 갯수\n",
      "\n",
      "                            0         1        0       1  Total\n",
      "variable                                                       \n",
      "기증용                  1.000000  0.000000    191.0     0.0    191\n",
      "기증용, 난자 저장용          1.000000  0.000000      7.0     0.0      7\n",
      "기증용, 배아 저장용          1.000000  0.000000     28.0     0.0     28\n",
      "기증용, 배아 저장용, 현재 시술용  0.500000  0.500000      1.0     1.0      2\n",
      "기증용, 현재 시술용          0.657568  0.342432    265.0   138.0    403\n",
      "난자 저장용               1.000000  0.000000    476.0     0.0    476\n",
      "난자 저장용, 배아 저장용       1.000000  0.000000      1.0     0.0      1\n",
      "배아 저장용               0.998899  0.001101   3630.0     4.0   3634\n",
      "배아 저장용, 현재 시술용       0.840000  0.160000     42.0     8.0     50\n",
      "연구용, 현재 시술용          1.000000  0.000000      1.0     0.0      1\n",
      "현재 시술용               0.719835  0.280165  23905.0  9304.0  33209\n"
     ]
    }
   ],
   "source": [
    "value_counts_ratio(train, '배아_생성_주요_이유')"
   ]
  },
  {
   "cell_type": "code",
   "execution_count": 98,
   "metadata": {},
   "outputs": [],
   "source": [
    "# '연구용'이라는 값이 포함된 행 삭제\n",
    "train = train[~train['배아_생성_주요_이유'].str.contains('연구용', na=False)]\n",
    "# test = test[~test['배아_생성_주요_이유'].str.contains('연구용', na=False)]"
   ]
  },
  {
   "cell_type": "code",
   "execution_count": 99,
   "metadata": {},
   "outputs": [
    {
     "name": "stdout",
     "output_type": "stream",
     "text": [
      "\n",
      "배아_생성_주요_이유별 임신_성공_여부 비율 및 갯수\n",
      "\n",
      "                            0         1        0       1  Total\n",
      "variable                                                       \n",
      "기증용                  1.000000  0.000000    191.0     0.0    191\n",
      "기증용, 난자 저장용          1.000000  0.000000      7.0     0.0      7\n",
      "기증용, 배아 저장용          1.000000  0.000000     28.0     0.0     28\n",
      "기증용, 배아 저장용, 현재 시술용  0.500000  0.500000      1.0     1.0      2\n",
      "기증용, 현재 시술용          0.657568  0.342432    265.0   138.0    403\n",
      "난자 저장용               1.000000  0.000000    476.0     0.0    476\n",
      "난자 저장용, 배아 저장용       1.000000  0.000000      1.0     0.0      1\n",
      "배아 저장용               0.998899  0.001101   3630.0     4.0   3634\n",
      "배아 저장용, 현재 시술용       0.840000  0.160000     42.0     8.0     50\n",
      "현재 시술용               0.719835  0.280165  23905.0  9304.0  33209\n"
     ]
    }
   ],
   "source": [
    "value_counts_ratio(train, '배아_생성_주요_이유')"
   ]
  },
  {
   "cell_type": "code",
   "execution_count": 100,
   "metadata": {},
   "outputs": [
    {
     "data": {
      "text/plain": [
       "현재 시술용            11619\n",
       "배아 저장용             1251\n",
       "기증용, 현재 시술용         172\n",
       "난자 저장용              171\n",
       "기증용                  68\n",
       "배아 저장용, 현재 시술용       27\n",
       "기증용, 배아 저장용          15\n",
       "기증용, 난자 저장용           4\n",
       "Name: 배아_생성_주요_이유, dtype: int64"
      ]
     },
     "execution_count": 100,
     "metadata": {},
     "output_type": "execute_result"
    }
   ],
   "source": [
    "test['배아_생성_주요_이유'].value_counts()"
   ]
  },
  {
   "cell_type": "code",
   "execution_count": 101,
   "metadata": {},
   "outputs": [
    {
     "name": "stdout",
     "output_type": "stream",
     "text": [
      "결측값 개수: 964\n",
      "결측값 개수: 0\n"
     ]
    }
   ],
   "source": [
    "print(\"결측값 개수:\", train['배아_생성_주요_이유'].isnull().sum())\n",
    "\n",
    "train['배아_생성_주요_이유'].fillna('unknown', inplace=True)\n",
    "test['배아_생성_주요_이유'].fillna('unknown', inplace=True)\n",
    "\n",
    "print(\"결측값 개수:\", train['배아_생성_주요_이유'].isnull().sum())"
   ]
  },
  {
   "cell_type": "code",
   "execution_count": 102,
   "metadata": {},
   "outputs": [],
   "source": [
    "# '현재 시술용' 키워드가 포함된 경우 1, 그렇지 않은 경우 0을 부여하는 더미 변수 생성\n",
    "train['배아_생성_주요_이유_현재시술용'] = train['배아_생성_주요_이유'].str.contains('현재 시술용').astype(int)\n",
    "test['배아_생성_주요_이유_현재시술용'] = test['배아_생성_주요_이유'].str.contains('현재 시술용').astype(int)"
   ]
  },
  {
   "cell_type": "code",
   "execution_count": 103,
   "metadata": {},
   "outputs": [],
   "source": [
    "# '기증용' 키워드가 포함된 경우 1, 그렇지 않은 경우 0을 부여하는 더미 변수 생성\n",
    "train['배아_생성_주요_이유_기증용'] = train['배아_생성_주요_이유'].str.contains('기증용').astype(int)\n",
    "test['배아_생성_주요_이유_기증용'] = test['배아_생성_주요_이유'].str.contains('기증용').astype(int)"
   ]
  },
  {
   "cell_type": "code",
   "execution_count": 104,
   "metadata": {},
   "outputs": [],
   "source": [
    "# '난자 저장용' 키워드가 포함된 경우 1, 그렇지 않은 경우 0을 부여하는 더미 변수 생성\n",
    "train['배아_생성_주요_이유_난자저장용'] = train['배아_생성_주요_이유'].str.contains('난자 저장용').astype(int)\n",
    "test['배아_생성_주요_이유_난자저장용'] = test['배아_생성_주요_이유'].str.contains('난자 저장용').astype(int)"
   ]
  },
  {
   "cell_type": "code",
   "execution_count": 105,
   "metadata": {},
   "outputs": [],
   "source": [
    "# '배아 저장용' 키워드가 포함된 경우 1, 그렇지 않은 경우 0을 부여하는 더미 변수 생성\n",
    "train['배아_생성_주요_이유_배아저장용'] = train['배아_생성_주요_이유'].str.contains('배아 저장용').astype(int)\n",
    "test['배아_생성_주요_이유_배아저장용'] = test['배아_생성_주요_이유'].str.contains('배아 저장용').astype(int)"
   ]
  },
  {
   "cell_type": "code",
   "execution_count": 106,
   "metadata": {},
   "outputs": [
    {
     "name": "stdout",
     "output_type": "stream",
     "text": [
      "Grouped by: 배아_생성_주요_이유_현재시술용, 배아_생성_주요_이유_기증용, 배아_생성_주요_이유_난자저장용, 배아_생성_주요_이유_배아저장용\n",
      "\n",
      "           group  '임신_성공_여부' count     ratio  Total\n",
      "0   (0, 0, 0, 0)               108  0.112033    964\n",
      "1   (0, 0, 0, 1)                 4  0.001101   3634\n",
      "2   (0, 0, 1, 0)                 0  0.000000    476\n",
      "3   (0, 0, 1, 1)                 0  0.000000      1\n",
      "4   (0, 1, 0, 0)                 0  0.000000    191\n",
      "5   (0, 1, 0, 1)                 0  0.000000     28\n",
      "6   (0, 1, 1, 0)                 0  0.000000      7\n",
      "7   (1, 0, 0, 0)              9304  0.280165  33209\n",
      "8   (1, 0, 0, 1)                 8  0.160000     50\n",
      "9   (1, 1, 0, 0)               138  0.342432    403\n",
      "10  (1, 1, 0, 1)                 1  0.500000      2\n"
     ]
    }
   ],
   "source": [
    "summarize_group(train, [\n",
    "    # '배아_생성_주요_이유',\n",
    "    '배아_생성_주요_이유_현재시술용',\n",
    "    '배아_생성_주요_이유_기증용',\n",
    "    '배아_생성_주요_이유_난자저장용',\n",
    "    '배아_생성_주요_이유_배아저장용'\n",
    "                        ])"
   ]
  },
  {
   "cell_type": "code",
   "execution_count": 107,
   "metadata": {},
   "outputs": [
    {
     "name": "stdout",
     "output_type": "stream",
     "text": [
      "\n",
      "배아_생성_주요_이유_현재시술용별 임신_성공_여부 비율 및 갯수\n",
      "\n",
      "                 0         1      0     1  Total\n",
      "variable                                        \n",
      "0         0.978872  0.021128   5189   112   5301\n",
      "1         0.719255  0.280745  24213  9451  33664\n"
     ]
    }
   ],
   "source": [
    "value_counts_ratio(train, '배아_생성_주요_이유_현재시술용')"
   ]
  },
  {
   "cell_type": "code",
   "execution_count": 108,
   "metadata": {},
   "outputs": [],
   "source": [
    "# # 변수 제거\n",
    "# train = train.drop(columns=['배아_생성_주요_이유'])\n",
    "# test = test.drop(columns=['배아_생성_주요_이유'])"
   ]
  },
  {
   "cell_type": "markdown",
   "metadata": {},
   "source": [
    "### 29. 총_시술_횟수"
   ]
  },
  {
   "cell_type": "markdown",
   "metadata": {},
   "source": [
    "IVF 및 DI 포함한 전체 시술 횟수"
   ]
  },
  {
   "cell_type": "code",
   "execution_count": 109,
   "metadata": {},
   "outputs": [
    {
     "name": "stdout",
     "output_type": "stream",
     "text": [
      "\n",
      "총_시술_횟수별 임신_성공_여부 비율 및 갯수\n",
      "\n",
      "                 0         1      0     1  Total\n",
      "variable                                        \n",
      "0회        0.734422  0.265578  11374  4113  15487\n",
      "1회        0.757139  0.242861   6045  1939   7984\n",
      "2회        0.763317  0.236683   4299  1333   5632\n",
      "3회        0.769104  0.230896   2798   840   3638\n",
      "4회        0.777247  0.222753   1790   513   2303\n",
      "5회        0.789508  0.210492   1219   325   1544\n",
      "6회 이상     0.789651  0.210349   1877   500   2377\n"
     ]
    }
   ],
   "source": [
    "value_counts_ratio(train, '총_시술_횟수')"
   ]
  },
  {
   "cell_type": "code",
   "execution_count": 110,
   "metadata": {},
   "outputs": [
    {
     "data": {
      "text/plain": [
       "0회       5463\n",
       "1회       2773\n",
       "2회       1928\n",
       "3회       1276\n",
       "4회        840\n",
       "6회 이상     806\n",
       "5회        524\n",
       "Name: 총_시술_횟수, dtype: int64"
      ]
     },
     "execution_count": 110,
     "metadata": {},
     "output_type": "execute_result"
    }
   ],
   "source": [
    "test['총_시술_횟수'].value_counts()"
   ]
  },
  {
   "cell_type": "code",
   "execution_count": 111,
   "metadata": {},
   "outputs": [
    {
     "name": "stdout",
     "output_type": "stream",
     "text": [
      "\n",
      "총_시술_횟수별 임신_성공_여부 비율 및 갯수\n",
      "\n",
      "                 0         1      0     1  Total\n",
      "variable                                        \n",
      "0         0.734422  0.265578  11374  4113  15487\n",
      "1         0.757139  0.242861   6045  1939   7984\n",
      "2         0.763317  0.236683   4299  1333   5632\n",
      "3         0.769104  0.230896   2798   840   3638\n",
      "4         0.777247  0.222753   1790   513   2303\n",
      "5         0.789508  0.210492   1219   325   1544\n",
      "6         0.789651  0.210349   1877   500   2377\n"
     ]
    }
   ],
   "source": [
    "# 숫자 매핑\n",
    "mapping = {\n",
    "    '0회': 0,\n",
    "    '1회': 1,\n",
    "    '2회': 2,\n",
    "    '3회': 3,\n",
    "    '4회': 4,\n",
    "    '5회': 5,\n",
    "    '6회 이상': 6\n",
    "}\n",
    "\n",
    "# 숫자로 변환\n",
    "train['총_시술_횟수'] = train['총_시술_횟수'].map(mapping)\n",
    "test['총_시술_횟수'] = test['총_시술_횟수'].map(mapping)\n",
    "\n",
    "value_counts_ratio(train, '총_시술_횟수')"
   ]
  },
  {
   "cell_type": "markdown",
   "metadata": {},
   "source": [
    "### 30. 클리닉_내_총_시술_횟수"
   ]
  },
  {
   "cell_type": "markdown",
   "metadata": {},
   "source": [
    "특정 클리닉에서 받은 IVF 및 DI 시술 횟수"
   ]
  },
  {
   "cell_type": "code",
   "execution_count": 112,
   "metadata": {},
   "outputs": [
    {
     "name": "stdout",
     "output_type": "stream",
     "text": [
      "\n",
      "클리닉_내_총_시술_횟수별 임신_성공_여부 비율 및 갯수\n",
      "\n",
      "                 0         1      0     1  Total\n",
      "variable                                        \n",
      "0회        0.743328  0.256672  13704  4732  18436\n",
      "1회        0.759326  0.240674   6534  2071   8605\n",
      "2회        0.761096  0.238904   3944  1238   5182\n",
      "3회        0.759516  0.240484   2195   695   2890\n",
      "4회        0.777190  0.222810   1322   379   1701\n",
      "5회        0.805416  0.194584    803   194    997\n",
      "6회 이상     0.779896  0.220104    900   254   1154\n"
     ]
    }
   ],
   "source": [
    "value_counts_ratio(train, '클리닉_내_총_시술_횟수')"
   ]
  },
  {
   "cell_type": "code",
   "execution_count": 113,
   "metadata": {},
   "outputs": [
    {
     "name": "stdout",
     "output_type": "stream",
     "text": [
      "\n",
      "클리닉_내_총_시술_횟수별 임신_성공_여부 비율 및 갯수\n",
      "\n",
      "                 0         1      0     1  Total\n",
      "variable                                        \n",
      "0         0.743328  0.256672  13704  4732  18436\n",
      "1         0.759326  0.240674   6534  2071   8605\n",
      "2         0.761096  0.238904   3944  1238   5182\n",
      "3         0.759516  0.240484   2195   695   2890\n",
      "4         0.777190  0.222810   1322   379   1701\n",
      "5         0.805416  0.194584    803   194    997\n",
      "6         0.779896  0.220104    900   254   1154\n"
     ]
    }
   ],
   "source": [
    "# 숫자 매핑\n",
    "mapping = {\n",
    "    '0회': 0,\n",
    "    '1회': 1,\n",
    "    '2회': 2,\n",
    "    '3회': 3,\n",
    "    '4회': 4,\n",
    "    '5회': 5,\n",
    "    '6회 이상': 6\n",
    "}\n",
    "\n",
    "# 숫자로 변환\n",
    "train['클리닉_내_총_시술_횟수'] = train['클리닉_내_총_시술_횟수'].map(mapping)\n",
    "test['클리닉_내_총_시술_횟수'] = test['클리닉_내_총_시술_횟수'].map(mapping)\n",
    "\n",
    "value_counts_ratio(train, '클리닉_내_총_시술_횟수')"
   ]
  },
  {
   "cell_type": "markdown",
   "metadata": {},
   "source": [
    "### 31. IVF_시술_횟수"
   ]
  },
  {
   "cell_type": "markdown",
   "metadata": {},
   "source": [
    "이전에 수행된 IVF 시술 횟수"
   ]
  },
  {
   "cell_type": "code",
   "execution_count": 114,
   "metadata": {},
   "outputs": [
    {
     "name": "stdout",
     "output_type": "stream",
     "text": [
      "\n",
      "IVF_시술_횟수별 임신_성공_여부 비율 및 갯수\n",
      "\n",
      "                 0         1      0     1  Total\n",
      "variable                                        \n",
      "0회        0.738277  0.261723  12155  4309  16464\n",
      "1회        0.756964  0.243036   6223  1998   8221\n",
      "2회        0.760107  0.239893   4268  1347   5615\n",
      "3회        0.768191  0.231809   2671   806   3477\n",
      "4회        0.778860  0.221140   1599   454   2053\n",
      "5회        0.793182  0.206818   1047   273   1320\n",
      "6회 이상     0.792837  0.207163   1439   376   1815\n"
     ]
    }
   ],
   "source": [
    "value_counts_ratio(train, 'IVF_시술_횟수')"
   ]
  },
  {
   "cell_type": "code",
   "execution_count": 115,
   "metadata": {},
   "outputs": [
    {
     "name": "stdout",
     "output_type": "stream",
     "text": [
      "\n",
      "IVF_시술_횟수별 임신_성공_여부 비율 및 갯수\n",
      "\n",
      "                 0         1      0     1  Total\n",
      "variable                                        \n",
      "0         0.738277  0.261723  12155  4309  16464\n",
      "1         0.756964  0.243036   6223  1998   8221\n",
      "2         0.760107  0.239893   4268  1347   5615\n",
      "3         0.768191  0.231809   2671   806   3477\n",
      "4         0.778860  0.221140   1599   454   2053\n",
      "5         0.793182  0.206818   1047   273   1320\n",
      "6         0.792837  0.207163   1439   376   1815\n"
     ]
    }
   ],
   "source": [
    "# 숫자 매핑\n",
    "mapping = {\n",
    "    '0회': 0,\n",
    "    '1회': 1,\n",
    "    '2회': 2,\n",
    "    '3회': 3,\n",
    "    '4회': 4,\n",
    "    '5회': 5,\n",
    "    '6회 이상': 6\n",
    "}\n",
    "\n",
    "# 숫자로 변환\n",
    "train['IVF_시술_횟수'] = train['IVF_시술_횟수'].map(mapping)\n",
    "test['IVF_시술_횟수'] = test['IVF_시술_횟수'].map(mapping)\n",
    "\n",
    "value_counts_ratio(train, 'IVF_시술_횟수')"
   ]
  },
  {
   "cell_type": "markdown",
   "metadata": {},
   "source": [
    "### 32. DI_시술_횟수"
   ]
  },
  {
   "cell_type": "markdown",
   "metadata": {},
   "source": [
    "이전에 수행된 DI 시술 횟수"
   ]
  },
  {
   "cell_type": "code",
   "execution_count": 116,
   "metadata": {},
   "outputs": [
    {
     "name": "stdout",
     "output_type": "stream",
     "text": [
      "\n",
      "DI_시술_횟수별 임신_성공_여부 비율 및 갯수\n",
      "\n",
      "                 0         1      0     1  Total\n",
      "variable                                        \n",
      "0회        0.752712  0.247288  27681  9094  36775\n",
      "1회        0.812636  0.187364    373    86    459\n",
      "2회        0.786749  0.213251    380   103    483\n",
      "3회        0.753176  0.246824    415   136    551\n",
      "4회        0.789062  0.210938    202    54    256\n",
      "5회        0.840659  0.159341    153    29    182\n",
      "6회 이상     0.764479  0.235521    198    61    259\n"
     ]
    }
   ],
   "source": [
    "value_counts_ratio(train, 'DI_시술_횟수')"
   ]
  },
  {
   "cell_type": "code",
   "execution_count": 117,
   "metadata": {},
   "outputs": [
    {
     "name": "stdout",
     "output_type": "stream",
     "text": [
      "\n",
      "DI_시술_횟수별 임신_성공_여부 비율 및 갯수\n",
      "\n",
      "                 0         1      0     1  Total\n",
      "variable                                        \n",
      "0         0.752712  0.247288  27681  9094  36775\n",
      "1         0.812636  0.187364    373    86    459\n",
      "2         0.786749  0.213251    380   103    483\n",
      "3         0.753176  0.246824    415   136    551\n",
      "4         0.789062  0.210938    202    54    256\n",
      "5         0.840659  0.159341    153    29    182\n",
      "6         0.764479  0.235521    198    61    259\n"
     ]
    }
   ],
   "source": [
    "# 숫자 매핑\n",
    "mapping = {\n",
    "    '0회': 0,\n",
    "    '1회': 1,\n",
    "    '2회': 2,\n",
    "    '3회': 3,\n",
    "    '4회': 4,\n",
    "    '5회': 5,\n",
    "    '6회 이상': 6\n",
    "}\n",
    "\n",
    "# 숫자로 변환\n",
    "train['DI_시술_횟수'] = train['DI_시술_횟수'].map(mapping)\n",
    "test['DI_시술_횟수'] = test['DI_시술_횟수'].map(mapping)\n",
    "\n",
    "value_counts_ratio(train, 'DI_시술_횟수')"
   ]
  },
  {
   "cell_type": "markdown",
   "metadata": {},
   "source": [
    "### 33. 총_임신_횟수"
   ]
  },
  {
   "cell_type": "markdown",
   "metadata": {},
   "source": [
    "IVF 및 DI 포함한 총 임신 횟수"
   ]
  },
  {
   "cell_type": "code",
   "execution_count": 118,
   "metadata": {},
   "outputs": [
    {
     "name": "stdout",
     "output_type": "stream",
     "text": [
      "\n",
      "총_임신_횟수별 임신_성공_여부 비율 및 갯수\n",
      "\n",
      "                 0         1        0       1  Total\n",
      "variable                                            \n",
      "0회        0.757617  0.242383  23746.0  7597.0  31343\n",
      "1회        0.743710  0.256290   4759.0  1640.0   6399\n",
      "2회        0.731286  0.268714    762.0   280.0   1042\n",
      "3회        0.743421  0.256579    113.0    39.0    152\n",
      "4회        0.750000  0.250000     18.0     6.0     24\n",
      "5회        1.000000  0.000000      4.0     0.0      4\n",
      "6회 이상     0.000000  1.000000      0.0     1.0      1\n"
     ]
    }
   ],
   "source": [
    "value_counts_ratio(train, '총_임신_횟수')"
   ]
  },
  {
   "cell_type": "code",
   "execution_count": 119,
   "metadata": {},
   "outputs": [
    {
     "name": "stdout",
     "output_type": "stream",
     "text": [
      "\n",
      "총_임신_횟수별 임신_성공_여부 비율 및 갯수\n",
      "\n",
      "                 0         1        0       1  Total\n",
      "variable                                            \n",
      "0         0.757617  0.242383  23746.0  7597.0  31343\n",
      "1         0.743710  0.256290   4759.0  1640.0   6399\n",
      "2         0.731286  0.268714    762.0   280.0   1042\n",
      "3         0.743421  0.256579    113.0    39.0    152\n",
      "4         0.750000  0.250000     18.0     6.0     24\n",
      "5         1.000000  0.000000      4.0     0.0      4\n",
      "6         0.000000  1.000000      0.0     1.0      1\n"
     ]
    }
   ],
   "source": [
    "# 숫자 매핑\n",
    "mapping = {\n",
    "    '0회': 0,\n",
    "    '1회': 1,\n",
    "    '2회': 2,\n",
    "    '3회': 3,\n",
    "    '4회': 4,\n",
    "    '5회': 5,\n",
    "    '6회 이상': 6\n",
    "}\n",
    "\n",
    "# 숫자로 변환\n",
    "train['총_임신_횟수'] = train['총_임신_횟수'].map(mapping)\n",
    "test['총_임신_횟수'] = test['총_임신_횟수'].map(mapping)\n",
    "\n",
    "value_counts_ratio(train, '총_임신_횟수')"
   ]
  },
  {
   "cell_type": "markdown",
   "metadata": {},
   "source": [
    "### 34. IVF_임신_횟수"
   ]
  },
  {
   "cell_type": "markdown",
   "metadata": {},
   "source": [
    "IVF 시술로 인한 임신 횟수"
   ]
  },
  {
   "cell_type": "code",
   "execution_count": 120,
   "metadata": {},
   "outputs": [
    {
     "name": "stdout",
     "output_type": "stream",
     "text": [
      "\n",
      "IVF_임신_횟수별 임신_성공_여부 비율 및 갯수\n",
      "\n",
      "                 0         1        0       1  Total\n",
      "variable                                            \n",
      "0회        0.758084  0.241916  24076.0  7683.0  31759\n",
      "1회        0.740857  0.259143   4497.0  1573.0   6070\n",
      "2회        0.729618  0.270382    707.0   262.0    969\n",
      "3회        0.724638  0.275362    100.0    38.0    138\n",
      "4회        0.750000  0.250000     18.0     6.0     24\n",
      "5회        1.000000  0.000000      4.0     0.0      4\n",
      "6회 이상     0.000000  1.000000      0.0     1.0      1\n"
     ]
    }
   ],
   "source": [
    "value_counts_ratio(train, 'IVF_임신_횟수')"
   ]
  },
  {
   "cell_type": "code",
   "execution_count": 121,
   "metadata": {},
   "outputs": [
    {
     "name": "stdout",
     "output_type": "stream",
     "text": [
      "\n",
      "IVF_임신_횟수별 임신_성공_여부 비율 및 갯수\n",
      "\n",
      "                 0         1        0       1  Total\n",
      "variable                                            \n",
      "0         0.758084  0.241916  24076.0  7683.0  31759\n",
      "1         0.740857  0.259143   4497.0  1573.0   6070\n",
      "2         0.729618  0.270382    707.0   262.0    969\n",
      "3         0.724638  0.275362    100.0    38.0    138\n",
      "4         0.750000  0.250000     18.0     6.0     24\n",
      "5         1.000000  0.000000      4.0     0.0      4\n",
      "6         0.000000  1.000000      0.0     1.0      1\n"
     ]
    }
   ],
   "source": [
    "# 숫자 매핑\n",
    "mapping = {\n",
    "    '0회': 0,\n",
    "    '1회': 1,\n",
    "    '2회': 2,\n",
    "    '3회': 3,\n",
    "    '4회': 4,\n",
    "    '5회': 5,\n",
    "    '6회 이상': 6\n",
    "}\n",
    "\n",
    "# 숫자로 변환\n",
    "train['IVF_임신_횟수'] = train['IVF_임신_횟수'].map(mapping)\n",
    "test['IVF_임신_횟수'] = test['IVF_임신_횟수'].map(mapping)\n",
    "\n",
    "value_counts_ratio(train, 'IVF_임신_횟수')"
   ]
  },
  {
   "cell_type": "markdown",
   "metadata": {},
   "source": [
    "### 35. DI_임신_횟수"
   ]
  },
  {
   "cell_type": "markdown",
   "metadata": {},
   "source": [
    "DI 시술로 인한 임신 횟수"
   ]
  },
  {
   "cell_type": "code",
   "execution_count": 122,
   "metadata": {},
   "outputs": [
    {
     "name": "stdout",
     "output_type": "stream",
     "text": [
      "\n",
      "DI_임신_횟수별 임신_성공_여부 비율 및 갯수\n",
      "\n",
      "                 0         1        0       1  Total\n",
      "variable                                            \n",
      "0회        0.754109  0.245891  29040.0  9469.0  38509\n",
      "1회        0.796020  0.203980    320.0    82.0    402\n",
      "2회        0.744681  0.255319     35.0    12.0     47\n",
      "3회        1.000000  0.000000      7.0     0.0      7\n"
     ]
    }
   ],
   "source": [
    "value_counts_ratio(train, 'DI_임신_횟수')"
   ]
  },
  {
   "cell_type": "code",
   "execution_count": 123,
   "metadata": {},
   "outputs": [
    {
     "name": "stdout",
     "output_type": "stream",
     "text": [
      "\n",
      "DI_임신_횟수별 임신_성공_여부 비율 및 갯수\n",
      "\n",
      "                 0         1        0       1  Total\n",
      "variable                                            \n",
      "0         0.754109  0.245891  29040.0  9469.0  38509\n",
      "1         0.796020  0.203980    320.0    82.0    402\n",
      "2         0.744681  0.255319     35.0    12.0     47\n",
      "3         1.000000  0.000000      7.0     0.0      7\n"
     ]
    }
   ],
   "source": [
    "# 숫자 매핑\n",
    "mapping = {\n",
    "    '0회': 0,\n",
    "    '1회': 1,\n",
    "    '2회': 2,\n",
    "    '3회': 3,\n",
    "    '4회': 4,\n",
    "    '5회': 5\n",
    "}\n",
    "\n",
    "# 숫자로 변환\n",
    "train['DI_임신_횟수'] = train['DI_임신_횟수'].map(mapping)\n",
    "test['DI_임신_횟수'] = test['DI_임신_횟수'].map(mapping)\n",
    "\n",
    "value_counts_ratio(train, 'DI_임신_횟수')"
   ]
  },
  {
   "cell_type": "markdown",
   "metadata": {},
   "source": [
    "### 36. 총_출산_횟수"
   ]
  },
  {
   "cell_type": "markdown",
   "metadata": {},
   "source": [
    "IVF 및 DI 시술로 출산한 횟수"
   ]
  },
  {
   "cell_type": "code",
   "execution_count": 124,
   "metadata": {},
   "outputs": [
    {
     "name": "stdout",
     "output_type": "stream",
     "text": [
      "\n",
      "총_출산_횟수별 임신_성공_여부 비율 및 갯수\n",
      "\n",
      "                 0         1        0       1  Total\n",
      "variable                                            \n",
      "0회        0.757663  0.242337  25237.0  8072.0  33309\n",
      "1회        0.736591  0.263409   3859.0  1380.0   5239\n",
      "2회        0.741333  0.258667    278.0    97.0    375\n",
      "3회        0.657895  0.342105     25.0    13.0     38\n",
      "4회        0.666667  0.333333      2.0     1.0      3\n",
      "5회        1.000000  0.000000      1.0     0.0      1\n"
     ]
    }
   ],
   "source": [
    "value_counts_ratio(train, '총_출산_횟수')"
   ]
  },
  {
   "cell_type": "code",
   "execution_count": 125,
   "metadata": {},
   "outputs": [
    {
     "name": "stdout",
     "output_type": "stream",
     "text": [
      "\n",
      "총_출산_횟수별 임신_성공_여부 비율 및 갯수\n",
      "\n",
      "                 0         1        0       1  Total\n",
      "variable                                            \n",
      "0         0.757663  0.242337  25237.0  8072.0  33309\n",
      "1         0.736591  0.263409   3859.0  1380.0   5239\n",
      "2         0.741333  0.258667    278.0    97.0    375\n",
      "3         0.657895  0.342105     25.0    13.0     38\n",
      "4         0.666667  0.333333      2.0     1.0      3\n",
      "5         1.000000  0.000000      1.0     0.0      1\n"
     ]
    }
   ],
   "source": [
    "# 숫자 매핑\n",
    "mapping = {\n",
    "    '0회': 0,\n",
    "    '1회': 1,\n",
    "    '2회': 2,\n",
    "    '3회': 3,\n",
    "    '4회': 4,\n",
    "    '5회': 5,\n",
    "    '6회 이상': 6\n",
    "}\n",
    "\n",
    "# 숫자로 변환\n",
    "train['총_출산_횟수'] = train['총_출산_횟수'].map(mapping)\n",
    "test['총_출산_횟수'] = test['총_출산_횟수'].map(mapping)\n",
    "\n",
    "value_counts_ratio(train, '총_출산_횟수')"
   ]
  },
  {
   "cell_type": "markdown",
   "metadata": {},
   "source": [
    "### 37. IVF_출산_횟수"
   ]
  },
  {
   "cell_type": "markdown",
   "metadata": {},
   "source": [
    "IVF 시술로 출산한 횟수"
   ]
  },
  {
   "cell_type": "code",
   "execution_count": 126,
   "metadata": {},
   "outputs": [
    {
     "name": "stdout",
     "output_type": "stream",
     "text": [
      "\n",
      "IVF_출산_횟수별 임신_성공_여부 비율 및 갯수\n",
      "\n",
      "                 0         1        0       1  Total\n",
      "variable                                            \n",
      "0회        0.757816  0.242184  25499.0  8149.0  33648\n",
      "1회        0.734901  0.265099   3626.0  1308.0   4934\n",
      "2회        0.730994  0.269006    250.0    92.0    342\n",
      "3회        0.648649  0.351351     24.0    13.0     37\n",
      "4회        0.666667  0.333333      2.0     1.0      3\n",
      "5회        1.000000  0.000000      1.0     0.0      1\n"
     ]
    }
   ],
   "source": [
    "value_counts_ratio(train, 'IVF_출산_횟수')"
   ]
  },
  {
   "cell_type": "code",
   "execution_count": 127,
   "metadata": {},
   "outputs": [
    {
     "name": "stdout",
     "output_type": "stream",
     "text": [
      "\n",
      "IVF_출산_횟수별 임신_성공_여부 비율 및 갯수\n",
      "\n",
      "                 0         1        0       1  Total\n",
      "variable                                            \n",
      "0         0.757816  0.242184  25499.0  8149.0  33648\n",
      "1         0.734901  0.265099   3626.0  1308.0   4934\n",
      "2         0.730994  0.269006    250.0    92.0    342\n",
      "3         0.648649  0.351351     24.0    13.0     37\n",
      "4         0.666667  0.333333      2.0     1.0      3\n",
      "5         1.000000  0.000000      1.0     0.0      1\n"
     ]
    }
   ],
   "source": [
    "# 숫자 매핑\n",
    "mapping = {\n",
    "    '0회': 0,\n",
    "    '1회': 1,\n",
    "    '2회': 2,\n",
    "    '3회': 3,\n",
    "    '4회': 4,\n",
    "    '5회': 5\n",
    "}\n",
    "\n",
    "# 숫자로 변환\n",
    "train['IVF_출산_횟수'] = train['IVF_출산_횟수'].map(mapping)\n",
    "test['IVF_출산_횟수'] = test['IVF_출산_횟수'].map(mapping)\n",
    "\n",
    "value_counts_ratio(train, 'IVF_출산_횟수')"
   ]
  },
  {
   "cell_type": "code",
   "execution_count": 128,
   "metadata": {},
   "outputs": [
    {
     "data": {
      "text/plain": [
       "0    11764\n",
       "1     1714\n",
       "2      118\n",
       "3       14\n",
       "Name: IVF_출산_횟수, dtype: int64"
      ]
     },
     "execution_count": 128,
     "metadata": {},
     "output_type": "execute_result"
    }
   ],
   "source": [
    "test['IVF_출산_횟수'].value_counts()"
   ]
  },
  {
   "cell_type": "markdown",
   "metadata": {},
   "source": [
    "### 38. DI_출산_횟수"
   ]
  },
  {
   "cell_type": "markdown",
   "metadata": {},
   "source": [
    "DI 시술로 출산한 횟수"
   ]
  },
  {
   "cell_type": "code",
   "execution_count": 129,
   "metadata": {},
   "outputs": [
    {
     "name": "stdout",
     "output_type": "stream",
     "text": [
      "\n",
      "DI_출산_횟수별 임신_성공_여부 비율 및 갯수\n",
      "\n",
      "                 0         1        0       1  Total\n",
      "variable                                            \n",
      "0회        0.754409  0.245591  29133.0  9484.0  38617\n",
      "1회        0.764706  0.235294    247.0    76.0    323\n",
      "2회        0.875000  0.125000     21.0     3.0     24\n",
      "3회        1.000000  0.000000      1.0     0.0      1\n"
     ]
    }
   ],
   "source": [
    "value_counts_ratio(train, 'DI_출산_횟수')"
   ]
  },
  {
   "cell_type": "code",
   "execution_count": 130,
   "metadata": {},
   "outputs": [
    {
     "name": "stdout",
     "output_type": "stream",
     "text": [
      "\n",
      "DI_출산_횟수별 임신_성공_여부 비율 및 갯수\n",
      "\n",
      "                 0         1        0       1  Total\n",
      "variable                                            \n",
      "0         0.754409  0.245591  29133.0  9484.0  38617\n",
      "1         0.764706  0.235294    247.0    76.0    323\n",
      "2         0.875000  0.125000     21.0     3.0     24\n",
      "3         1.000000  0.000000      1.0     0.0      1\n"
     ]
    }
   ],
   "source": [
    "# 숫자 매핑\n",
    "mapping = {\n",
    "    '0회': 0,\n",
    "    '1회': 1,\n",
    "    '2회': 2,\n",
    "    '3회': 3,\n",
    "    '4회': 4,\n",
    "    '5회': 5\n",
    "}\n",
    "\n",
    "# 숫자로 변환\n",
    "train['DI_출산_횟수'] = train['DI_출산_횟수'].map(mapping)\n",
    "test['DI_출산_횟수'] = test['DI_출산_횟수'].map(mapping)\n",
    "\n",
    "value_counts_ratio(train, 'DI_출산_횟수')"
   ]
  },
  {
   "cell_type": "code",
   "execution_count": 131,
   "metadata": {},
   "outputs": [
    {
     "data": {
      "text/plain": [
       "0    13506\n",
       "1       99\n",
       "2        5\n",
       "Name: DI_출산_횟수, dtype: int64"
      ]
     },
     "execution_count": 131,
     "metadata": {},
     "output_type": "execute_result"
    }
   ],
   "source": [
    "test['DI_출산_횟수'].value_counts()"
   ]
  },
  {
   "cell_type": "code",
   "execution_count": 132,
   "metadata": {},
   "outputs": [],
   "source": [
    "# # 모든 행과 열을 다 보이게 설정\n",
    "# pd.set_option('display.max_rows', None)\n",
    "# pd.set_option('display.max_columns', None)"
   ]
  },
  {
   "cell_type": "code",
   "execution_count": 133,
   "metadata": {},
   "outputs": [],
   "source": [
    "# summarize_group(train, ['IVF_시술_횟수', 'IVF_임신_횟수', 'IVF_출산_횟수'])"
   ]
  },
  {
   "cell_type": "code",
   "execution_count": 134,
   "metadata": {},
   "outputs": [],
   "source": [
    "# 주요 비율 계산 (train 데이터프레임)\n",
    "train['IVF_임신_시술_비율'] = np.where(train['IVF_시술_횟수'] > 0, train['IVF_임신_횟수'] / train['IVF_시술_횟수'], 0)\n",
    "train['IVF_출산_임신_비율'] = np.where(train['IVF_임신_횟수'] > 0, train['IVF_출산_횟수'] / train['IVF_임신_횟수'], 0)\n",
    "\n",
    "train['DI_임신_시술_비율'] = np.where(train['DI_시술_횟수'] > 0, train['DI_임신_횟수'] / train['DI_시술_횟수'], 0)\n",
    "train['DI_출산_임신_비율'] = np.where(train['DI_임신_횟수'] > 0, train['DI_출산_횟수'] / train['DI_임신_횟수'], 0)\n",
    "\n",
    "# 성공률 계산\n",
    "train['임신_성공률'] = np.where(train['총_시술_횟수'] > 0, train['총_임신_횟수'] / train['총_시술_횟수'], 0)\n",
    "train['출산_성공률'] = np.where(train['총_임신_횟수'] > 0, train['총_출산_횟수'] / train['총_임신_횟수'], 0)\n",
    "\n",
    "# 주요 비율 계산 (test 데이터프레임)\n",
    "test['IVF_임신_시술_비율'] = np.where(test['IVF_시술_횟수'] > 0, test['IVF_임신_횟수'] / test['IVF_시술_횟수'], 0)\n",
    "test['IVF_출산_임신_비율'] = np.where(test['IVF_임신_횟수'] > 0, test['IVF_출산_횟수'] / test['IVF_임신_횟수'], 0)\n",
    "\n",
    "test['DI_임신_시술_비율'] = np.where(test['DI_시술_횟수'] > 0, test['DI_임신_횟수'] / test['DI_시술_횟수'], 0)\n",
    "test['DI_출산_임신_비율'] = np.where(test['DI_임신_횟수'] > 0, test['DI_출산_횟수'] / test['DI_임신_횟수'], 0)\n",
    "\n",
    "# 성공률 계산\n",
    "test['임신_성공률'] = np.where(test['총_시술_횟수'] > 0, test['총_임신_횟수'] / test['총_시술_횟수'], 0)\n",
    "test['출산_성공률'] = np.where(test['총_임신_횟수'] > 0, test['총_출산_횟수'] / test['총_임신_횟수'], 0)"
   ]
  },
  {
   "cell_type": "markdown",
   "metadata": {},
   "source": [
    "### 39. 총_생성_배아_수"
   ]
  },
  {
   "cell_type": "markdown",
   "metadata": {},
   "source": [
    "해당 시술에서 생성된 배아의 총 개수"
   ]
  },
  {
   "cell_type": "code",
   "execution_count": 135,
   "metadata": {},
   "outputs": [
    {
     "name": "stdout",
     "output_type": "stream",
     "text": [
      "\n",
      "총_생성_배아_수별 임신_성공_여부 비율 및 갯수\n",
      "\n",
      "                 0         1       0       1  Total\n",
      "variable                                           \n",
      "0.0       0.795717  0.204283  6949.0  1784.0   8733\n",
      "1.0       0.908313  0.091687  2229.0   225.0   2454\n",
      "2.0       0.838753  0.161247  2502.0   481.0   2983\n",
      "3.0       0.781759  0.218241  2400.0   670.0   3070\n",
      "4.0       0.743764  0.256236  2296.0   791.0   3087\n",
      "5.0       0.702264  0.297736  2078.0   881.0   2959\n",
      "6.0       0.701279  0.298721  1864.0   794.0   2658\n",
      "7.0       0.674915  0.325085  1582.0   762.0   2344\n",
      "8.0       0.665133  0.334867  1301.0   655.0   1956\n",
      "9.0       0.670538  0.329462  1097.0   539.0   1636\n",
      "10.0      0.675220  0.324780   921.0   443.0   1364\n",
      "11.0      0.652695  0.347305   654.0   348.0   1002\n",
      "12.0      0.684332  0.315668   594.0   274.0    868\n",
      "13.0      0.660911  0.339089   421.0   216.0    637\n",
      "14.0      0.667283  0.332717   361.0   180.0    541\n",
      "15.0      0.711392  0.288608   281.0   114.0    395\n",
      "16.0      0.739583  0.260417   213.0    75.0    288\n",
      "17.0      0.726923  0.273077   189.0    71.0    260\n",
      "18.0      0.740741  0.259259   120.0    42.0    162\n",
      "19.0      0.739837  0.260163    91.0    32.0    123\n",
      "20.0      0.795276  0.204724   101.0    26.0    127\n",
      "21.0      0.823529  0.176471    70.0    15.0     85\n",
      "22.0      0.812500  0.187500    52.0    12.0     64\n",
      "23.0      0.888889  0.111111    48.0     6.0     54\n",
      "24.0      0.933333  0.066667    28.0     2.0     30\n",
      "25.0      0.878788  0.121212    29.0     4.0     33\n",
      "26.0      0.909091  0.090909    20.0     2.0     22\n",
      "27.0      0.764706  0.235294    13.0     4.0     17\n",
      "28.0      1.000000  0.000000     9.0     0.0      9\n",
      "29.0      0.750000  0.250000     6.0     2.0      8\n",
      "30.0      0.857143  0.142857     6.0     1.0      7\n",
      "31.0      0.888889  0.111111     8.0     1.0      9\n",
      "32.0      0.666667  0.333333     2.0     1.0      3\n",
      "33.0      1.000000  0.000000     2.0     0.0      2\n",
      "34.0      0.333333  0.666667     1.0     2.0      3\n",
      "35.0      1.000000  0.000000     1.0     0.0      1\n",
      "36.0      1.000000  0.000000     1.0     0.0      1\n",
      "37.0      1.000000  0.000000     1.0     0.0      1\n",
      "38.0      1.000000  0.000000     1.0     0.0      1\n",
      "41.0      1.000000  0.000000     1.0     0.0      1\n",
      "42.0      1.000000  0.000000     1.0     0.0      1\n",
      "43.0      1.000000  0.000000     1.0     0.0      1\n",
      "51.0      1.000000  0.000000     1.0     0.0      1\n"
     ]
    }
   ],
   "source": [
    "value_counts_ratio(train, '총_생성_배아_수')"
   ]
  },
  {
   "cell_type": "markdown",
   "metadata": {},
   "source": [
    "### 40. 미세주입된_난자_수"
   ]
  },
  {
   "cell_type": "markdown",
   "metadata": {},
   "source": [
    "정자 미세주입(ICSI)으로 처리된 난자의 수"
   ]
  },
  {
   "cell_type": "code",
   "execution_count": 136,
   "metadata": {},
   "outputs": [
    {
     "name": "stdout",
     "output_type": "stream",
     "text": [
      "\n",
      "미세주입된_난자_수별 임신_성공_여부 비율 및 갯수\n",
      "\n",
      "                 0         1        0       1  Total\n",
      "variable                                            \n",
      "0.0       0.750786  0.249214  14798.0  4912.0  19710\n",
      "1.0       0.950920  0.049080    775.0    40.0    815\n",
      "2.0       0.892857  0.107143    950.0   114.0   1064\n",
      "3.0       0.841346  0.158654   1050.0   198.0   1248\n",
      "4.0       0.802736  0.197264   1115.0   274.0   1389\n",
      "5.0       0.761509  0.238491   1191.0   373.0   1564\n",
      "6.0       0.739759  0.260241   1228.0   432.0   1660\n",
      "7.0       0.716273  0.283727   1030.0   408.0   1438\n",
      "8.0       0.699571  0.300429    978.0   420.0   1398\n",
      "9.0       0.707803  0.292197    889.0   367.0   1256\n",
      "10.0      0.682268  0.317732    758.0   353.0   1111\n",
      "11.0      0.694725  0.305275    619.0   272.0    891\n",
      "12.0      0.668241  0.331759    566.0   281.0    847\n",
      "13.0      0.676923  0.323077    440.0   210.0    650\n",
      "14.0      0.707904  0.292096    412.0   170.0    582\n",
      "15.0      0.674672  0.325328    309.0   149.0    458\n",
      "16.0      0.660428  0.339572    247.0   127.0    374\n",
      "17.0      0.713311  0.286689    209.0    84.0    293\n",
      "18.0      0.745174  0.254826    193.0    66.0    259\n",
      "19.0      0.739362  0.260638    139.0    49.0    188\n",
      "20.0      0.763975  0.236025    123.0    38.0    161\n",
      "21.0      0.793893  0.206107    104.0    27.0    131\n",
      "22.0      0.761468  0.238532     83.0    26.0    109\n",
      "23.0      0.757576  0.242424     50.0    16.0     66\n",
      "24.0      0.787879  0.212121     52.0    14.0     66\n",
      "25.0      0.851064  0.148936     40.0     7.0     47\n",
      "26.0      0.920000  0.080000     46.0     4.0     50\n",
      "27.0      0.804348  0.195652     37.0     9.0     46\n",
      "28.0      0.885714  0.114286     31.0     4.0     35\n",
      "29.0      0.666667  0.333333     10.0     5.0     15\n",
      "30.0      0.947368  0.052632     18.0     1.0     19\n",
      "31.0      1.000000  0.000000      8.0     0.0      8\n",
      "32.0      0.800000  0.200000      4.0     1.0      5\n",
      "33.0      1.000000  0.000000      6.0     0.0      6\n",
      "34.0      0.909091  0.090909     10.0     1.0     11\n",
      "35.0      1.000000  0.000000      9.0     0.0      9\n",
      "36.0      1.000000  0.000000      5.0     0.0      5\n",
      "37.0      1.000000  0.000000      4.0     0.0      4\n",
      "38.0      1.000000  0.000000      3.0     0.0      3\n",
      "39.0      0.000000  1.000000      0.0     1.0      1\n",
      "42.0      0.000000  1.000000      0.0     1.0      1\n",
      "43.0      0.666667  0.333333      2.0     1.0      3\n",
      "45.0      1.000000  0.000000      2.0     0.0      2\n",
      "47.0      1.000000  0.000000      1.0     0.0      1\n",
      "49.0      1.000000  0.000000      1.0     0.0      1\n",
      "51.0      1.000000  0.000000      1.0     0.0      1\n"
     ]
    }
   ],
   "source": [
    "value_counts_ratio(train, '미세주입된_난자_수')"
   ]
  },
  {
   "cell_type": "markdown",
   "metadata": {},
   "source": [
    "### 41. 미세주입에서_생성된_배아_수"
   ]
  },
  {
   "cell_type": "markdown",
   "metadata": {},
   "source": [
    "ICSI를 통해 생성된 배아의 수"
   ]
  },
  {
   "cell_type": "code",
   "execution_count": 137,
   "metadata": {},
   "outputs": [
    {
     "name": "stdout",
     "output_type": "stream",
     "text": [
      "\n",
      "미세주입에서_생성된_배아_수별 임신_성공_여부 비율 및 갯수\n",
      "\n",
      "                 0         1        0       1  Total\n",
      "variable                                            \n",
      "0.0       0.758484  0.241516  15445.0  4918.0  20363\n",
      "1.0       0.914498  0.085502   1476.0   138.0   1614\n",
      "2.0       0.833081  0.166919   1652.0   331.0   1983\n",
      "3.0       0.784381  0.215619   1597.0   439.0   2036\n",
      "4.0       0.731533  0.268467   1436.0   527.0   1963\n",
      "5.0       0.704803  0.295197   1306.0   547.0   1853\n",
      "6.0       0.696602  0.303398   1148.0   500.0   1648\n",
      "7.0       0.678676  0.321324    923.0   437.0   1360\n",
      "8.0       0.661172  0.338828    722.0   370.0   1092\n",
      "9.0       0.660297  0.339703    622.0   320.0    942\n",
      "10.0      0.675939  0.324061    486.0   233.0    719\n",
      "11.0      0.664193  0.335807    358.0   181.0    539\n",
      "12.0      0.702461  0.297539    314.0   133.0    447\n",
      "13.0      0.680000  0.320000    221.0   104.0    325\n",
      "14.0      0.697183  0.302817    198.0    86.0    284\n",
      "15.0      0.737864  0.262136    152.0    54.0    206\n",
      "16.0      0.755245  0.244755    108.0    35.0    143\n",
      "17.0      0.725000  0.275000     87.0    33.0    120\n",
      "18.0      0.717949  0.282051     56.0    22.0     78\n",
      "19.0      0.774194  0.225806     48.0    14.0     62\n",
      "20.0      0.825397  0.174603     52.0    11.0     63\n",
      "21.0      0.853659  0.146341     35.0     6.0     41\n",
      "22.0      0.833333  0.166667     25.0     5.0     30\n",
      "23.0      0.846154  0.153846     22.0     4.0     26\n",
      "24.0      1.000000  0.000000     16.0     0.0     16\n",
      "25.0      0.857143  0.142857     12.0     2.0     14\n",
      "26.0      0.857143  0.142857      6.0     1.0      7\n",
      "27.0      0.714286  0.285714      5.0     2.0      7\n",
      "28.0      1.000000  0.000000      5.0     0.0      5\n",
      "29.0      0.750000  0.250000      3.0     1.0      4\n",
      "30.0      1.000000  0.000000      4.0     0.0      4\n",
      "31.0      1.000000  0.000000      2.0     0.0      2\n",
      "32.0      1.000000  0.000000      1.0     0.0      1\n",
      "33.0      1.000000  0.000000      1.0     0.0      1\n",
      "34.0      0.000000  1.000000      0.0     1.0      1\n",
      "41.0      1.000000  0.000000      1.0     0.0      1\n",
      "42.0      1.000000  0.000000      1.0     0.0      1\n"
     ]
    }
   ],
   "source": [
    "value_counts_ratio(train, '미세주입에서_생성된_배아_수')"
   ]
  },
  {
   "cell_type": "markdown",
   "metadata": {},
   "source": [
    "### 42. 이식된_배아_수"
   ]
  },
  {
   "cell_type": "markdown",
   "metadata": {},
   "source": [
    "이식된 배아의 총 수"
   ]
  },
  {
   "cell_type": "code",
   "execution_count": 138,
   "metadata": {},
   "outputs": [
    {
     "name": "stdout",
     "output_type": "stream",
     "text": [
      "\n",
      "이식된_배아_수별 임신_성공_여부 비율 및 갯수\n",
      "\n",
      "                 0         1      0     1  Total\n",
      "variable                                        \n",
      "0.0       0.999033  0.000967   8261     8   8269\n",
      "1.0       0.662287  0.337713  10988  5603  16591\n",
      "2.0       0.696668  0.303332   8468  3687  12155\n",
      "3.0       0.840771  0.159229    829   157    986\n"
     ]
    }
   ],
   "source": [
    "value_counts_ratio(train, '이식된_배아_수')"
   ]
  },
  {
   "cell_type": "markdown",
   "metadata": {},
   "source": [
    "### 43. 미세주입_배아_이식_수"
   ]
  },
  {
   "cell_type": "markdown",
   "metadata": {},
   "source": [
    "ICSI 배아 중 이식된 배아의 수"
   ]
  },
  {
   "cell_type": "code",
   "execution_count": 139,
   "metadata": {},
   "outputs": [
    {
     "name": "stdout",
     "output_type": "stream",
     "text": [
      "\n",
      "미세주입_배아_이식_수별 임신_성공_여부 비율 및 갯수\n",
      "\n",
      "                 0         1      0     1  Total\n",
      "variable                                        \n",
      "0.0       0.794296  0.205704  18299  4739  23038\n",
      "1.0       0.657244  0.342756   5208  2716   7924\n",
      "2.0       0.705392  0.294608   4566  1907   6473\n",
      "3.0       0.835689  0.164311    473    93    566\n"
     ]
    }
   ],
   "source": [
    "value_counts_ratio(train, '미세주입_배아_이식_수')"
   ]
  },
  {
   "cell_type": "markdown",
   "metadata": {},
   "source": [
    "### 44. 저장된_배아_수"
   ]
  },
  {
   "cell_type": "markdown",
   "metadata": {},
   "source": [
    "환자를 위해 저장된 배아의 수"
   ]
  },
  {
   "cell_type": "code",
   "execution_count": 140,
   "metadata": {},
   "outputs": [
    {
     "name": "stdout",
     "output_type": "stream",
     "text": [
      "\n",
      "저장된_배아_수별 임신_성공_여부 비율 및 갯수\n",
      "\n",
      "                 0         1        0       1  Total\n",
      "variable                                            \n",
      "0.0       0.783606  0.216394  17762.0  4905.0  22667\n",
      "1.0       0.699115  0.300885   2686.0  1156.0   3842\n",
      "2.0       0.685631  0.314369   2362.0  1083.0   3445\n",
      "3.0       0.677108  0.322892   1686.0   804.0   2490\n",
      "4.0       0.676950  0.323050   1163.0   555.0   1718\n",
      "5.0       0.697264  0.302736    790.0   343.0   1133\n",
      "6.0       0.715686  0.284314    584.0   232.0    816\n",
      "7.0       0.731978  0.268022    396.0   145.0    541\n",
      "8.0       0.787342  0.212658    311.0    84.0    395\n",
      "9.0       0.785714  0.214286    198.0    54.0    252\n",
      "10.0      0.804020  0.195980    160.0    39.0    199\n",
      "11.0      0.813008  0.186992    100.0    23.0    123\n",
      "12.0      0.868132  0.131868     79.0    12.0     91\n",
      "13.0      0.906250  0.093750     58.0     6.0     64\n",
      "14.0      0.918033  0.081967     56.0     5.0     61\n",
      "15.0      0.880000  0.120000     22.0     3.0     25\n",
      "16.0      0.962963  0.037037     26.0     1.0     27\n",
      "17.0      0.928571  0.071429     26.0     2.0     28\n",
      "18.0      0.952381  0.047619     20.0     1.0     21\n",
      "19.0      0.928571  0.071429     13.0     1.0     14\n",
      "20.0      0.916667  0.083333     11.0     1.0     12\n",
      "21.0      1.000000  0.000000      5.0     0.0      5\n",
      "22.0      1.000000  0.000000     11.0     0.0     11\n",
      "23.0      1.000000  0.000000     11.0     0.0     11\n",
      "24.0      1.000000  0.000000      5.0     0.0      5\n",
      "25.0      1.000000  0.000000      1.0     0.0      1\n",
      "26.0      1.000000  0.000000      1.0     0.0      1\n",
      "27.0      1.000000  0.000000      1.0     0.0      1\n",
      "28.0      1.000000  0.000000      1.0     0.0      1\n",
      "31.0      1.000000  0.000000      1.0     0.0      1\n"
     ]
    }
   ],
   "source": [
    "value_counts_ratio(train, '저장된_배아_수')"
   ]
  },
  {
   "cell_type": "markdown",
   "metadata": {},
   "source": [
    "### 45. 미세주입_후_저장된_배아_수"
   ]
  },
  {
   "cell_type": "markdown",
   "metadata": {},
   "source": [
    "ICSI 처리된 배아 중 저장된 배아의 수"
   ]
  },
  {
   "cell_type": "code",
   "execution_count": 141,
   "metadata": {},
   "outputs": [
    {
     "name": "stdout",
     "output_type": "stream",
     "text": [
      "\n",
      "미세주입_후_저장된_배아_수별 임신_성공_여부 비율 및 갯수\n",
      "\n",
      "                 0         1        0       1  Total\n",
      "variable                                            \n",
      "0.0       0.763430  0.236570  22425.0  6949.0  29374\n",
      "1.0       0.703020  0.296980   1676.0   708.0   2384\n",
      "2.0       0.688036  0.311964   1363.0   618.0   1981\n",
      "3.0       0.676366  0.323634    953.0   456.0   1409\n",
      "4.0       0.698616  0.301384    656.0   283.0    939\n",
      "5.0       0.716007  0.283993    416.0   165.0    581\n",
      "6.0       0.724566  0.275434    292.0   111.0    403\n",
      "7.0       0.768953  0.231047    213.0    64.0    277\n",
      "8.0       0.804469  0.195531    144.0    35.0    179\n",
      "9.0       0.826446  0.173554    100.0    21.0    121\n",
      "10.0      0.791667  0.208333     76.0    20.0     96\n",
      "11.0      0.854839  0.145161     53.0     9.0     62\n",
      "12.0      0.853659  0.146341     35.0     6.0     41\n",
      "13.0      0.891892  0.108108     33.0     4.0     37\n",
      "14.0      0.942857  0.057143     33.0     2.0     35\n",
      "15.0      0.846154  0.153846     11.0     2.0     13\n",
      "16.0      1.000000  0.000000     15.0     0.0     15\n",
      "17.0      0.916667  0.083333     11.0     1.0     12\n",
      "18.0      0.875000  0.125000      7.0     1.0      8\n",
      "19.0      1.000000  0.000000      7.0     0.0      7\n",
      "20.0      1.000000  0.000000      7.0     0.0      7\n",
      "21.0      1.000000  0.000000      2.0     0.0      2\n",
      "22.0      1.000000  0.000000      7.0     0.0      7\n",
      "23.0      1.000000  0.000000      7.0     0.0      7\n",
      "24.0      1.000000  0.000000      2.0     0.0      2\n",
      "27.0      1.000000  0.000000      1.0     0.0      1\n",
      "28.0      1.000000  0.000000      1.0     0.0      1\n"
     ]
    }
   ],
   "source": [
    "value_counts_ratio(train, '미세주입_후_저장된_배아_수')"
   ]
  },
  {
   "cell_type": "markdown",
   "metadata": {},
   "source": [
    "### 46. 해동된_배아_수"
   ]
  },
  {
   "cell_type": "markdown",
   "metadata": {},
   "source": [
    "동결 해동된 배아의 수"
   ]
  },
  {
   "cell_type": "code",
   "execution_count": 142,
   "metadata": {},
   "outputs": [
    {
     "name": "stdout",
     "output_type": "stream",
     "text": [
      "\n",
      "해동된_배아_수별 임신_성공_여부 비율 및 갯수\n",
      "\n",
      "                 0         1        0       1  Total\n",
      "variable                                            \n",
      "0.0       0.755798  0.244202  23723.0  7665.0  31388\n",
      "1.0       0.743013  0.256987   2313.0   800.0   3113\n",
      "2.0       0.714900  0.285100   1329.0   530.0   1859\n",
      "3.0       0.758900  0.241100    469.0   149.0    618\n",
      "4.0       0.733333  0.266667    231.0    84.0    315\n",
      "5.0       0.698492  0.301508    139.0    60.0    199\n",
      "6.0       0.701863  0.298137    113.0    48.0    161\n",
      "7.0       0.741935  0.258065     69.0    24.0     93\n",
      "8.0       0.637681  0.362319     44.0    25.0     69\n",
      "9.0       0.604167  0.395833     29.0    19.0     48\n",
      "10.0      0.720930  0.279070     31.0    12.0     43\n",
      "11.0      0.708333  0.291667     17.0     7.0     24\n",
      "12.0      0.541667  0.458333     13.0    11.0     24\n",
      "13.0      0.333333  0.666667      3.0     6.0      9\n",
      "14.0      0.666667  0.333333      8.0     4.0     12\n",
      "15.0      0.500000  0.500000      3.0     3.0      6\n",
      "16.0      0.714286  0.285714      5.0     2.0      7\n",
      "17.0      0.750000  0.250000      3.0     1.0      4\n",
      "18.0      0.000000  1.000000      0.0     2.0      2\n",
      "21.0      1.000000  0.000000      1.0     0.0      1\n",
      "22.0      0.500000  0.500000      1.0     1.0      2\n",
      "23.0      0.666667  0.333333      2.0     1.0      3\n",
      "26.0      0.000000  1.000000      0.0     1.0      1\n"
     ]
    }
   ],
   "source": [
    "value_counts_ratio(train, '해동된_배아_수')"
   ]
  },
  {
   "cell_type": "markdown",
   "metadata": {},
   "source": [
    "### 47. 해동_난자_수"
   ]
  },
  {
   "cell_type": "markdown",
   "metadata": {},
   "source": [
    "동결 해동된 난자의 수"
   ]
  },
  {
   "cell_type": "code",
   "execution_count": 143,
   "metadata": {},
   "outputs": [
    {
     "name": "stdout",
     "output_type": "stream",
     "text": [
      "\n",
      "해동_난자_수별 임신_성공_여부 비율 및 갯수\n",
      "\n",
      "                 0         1        0       1  Total\n",
      "variable                                            \n",
      "0.0       0.751319  0.248681  28191.0  9331.0  37522\n",
      "1.0       1.000000  0.000000      8.0     0.0      8\n",
      "2.0       1.000000  0.000000      9.0     0.0      9\n",
      "3.0       0.952381  0.047619     20.0     1.0     21\n",
      "4.0       0.936170  0.063830     44.0     3.0     47\n",
      "5.0       0.864865  0.135135     32.0     5.0     37\n",
      "6.0       0.771429  0.228571     27.0     8.0     35\n",
      "7.0       0.761905  0.238095     32.0    10.0     42\n",
      "8.0       0.600000  0.400000     54.0    36.0     90\n",
      "9.0       0.727273  0.272727     32.0    12.0     44\n",
      "10.0      0.720000  0.280000     18.0     7.0     25\n",
      "11.0      0.640000  0.360000     16.0     9.0     25\n",
      "12.0      0.640000  0.360000     16.0     9.0     25\n",
      "13.0      0.750000  0.250000      9.0     3.0     12\n",
      "14.0      0.666667  0.333333     14.0     7.0     21\n",
      "15.0      0.428571  0.571429      6.0     8.0     14\n",
      "16.0      0.500000  0.500000      4.0     4.0      8\n",
      "17.0      0.500000  0.500000      2.0     2.0      4\n",
      "18.0      1.000000  0.000000      1.0     0.0      1\n",
      "19.0      1.000000  0.000000      3.0     0.0      3\n",
      "20.0      1.000000  0.000000      2.0     0.0      2\n",
      "21.0      1.000000  0.000000      1.0     0.0      1\n",
      "23.0      1.000000  0.000000      1.0     0.0      1\n",
      "24.0      1.000000  0.000000      1.0     0.0      1\n",
      "26.0      1.000000  0.000000      1.0     0.0      1\n",
      "27.0      1.000000  0.000000      1.0     0.0      1\n",
      "33.0      1.000000  0.000000      1.0     0.0      1\n"
     ]
    }
   ],
   "source": [
    "value_counts_ratio(train, '해동_난자_수')"
   ]
  },
  {
   "cell_type": "markdown",
   "metadata": {},
   "source": [
    "### 48. 수집된_신선_난자_수"
   ]
  },
  {
   "cell_type": "markdown",
   "metadata": {},
   "source": [
    "신선 난자가 수집된 수"
   ]
  },
  {
   "cell_type": "code",
   "execution_count": 144,
   "metadata": {},
   "outputs": [
    {
     "name": "stdout",
     "output_type": "stream",
     "text": [
      "\n",
      "수집된_신선_난자_수별 임신_성공_여부 비율 및 갯수\n",
      "\n",
      "                 0         1       0       1  Total\n",
      "variable                                           \n",
      "0.0       0.726002  0.273998  6391.0  2412.0   8803\n",
      "1.0       0.958980  0.041020   865.0    37.0    902\n",
      "2.0       0.914742  0.085258  1030.0    96.0   1126\n",
      "3.0       0.873999  0.126001  1200.0   173.0   1373\n",
      "4.0       0.829857  0.170143  1273.0   261.0   1534\n",
      "5.0       0.808333  0.191667  1455.0   345.0   1800\n",
      "6.0       0.787177  0.212823  1461.0   395.0   1856\n",
      "7.0       0.760870  0.239130  1470.0   462.0   1932\n",
      "8.0       0.729474  0.270526  1386.0   514.0   1900\n",
      "9.0       0.731177  0.268823  1379.0   507.0   1886\n",
      "10.0      0.724484  0.275516  1299.0   494.0   1793\n",
      "11.0      0.714539  0.285461  1209.0   483.0   1692\n",
      "12.0      0.689295  0.310705  1056.0   476.0   1532\n",
      "13.0      0.673714  0.326286   956.0   463.0   1419\n",
      "14.0      0.681564  0.318436   854.0   399.0   1253\n",
      "15.0      0.684594  0.315406   751.0   346.0   1097\n",
      "16.0      0.681771  0.318229   662.0   309.0    971\n",
      "17.0      0.682864  0.317136   534.0   248.0    782\n",
      "18.0      0.703343  0.296657   505.0   213.0    718\n",
      "19.0      0.692810  0.307190   424.0   188.0    612\n",
      "20.0      0.747368  0.252632   355.0   120.0    475\n",
      "21.0      0.719902  0.280098   293.0   114.0    407\n",
      "22.0      0.759644  0.240356   256.0    81.0    337\n",
      "23.0      0.732342  0.267658   197.0    72.0    269\n",
      "24.0      0.724000  0.276000   181.0    69.0    250\n",
      "25.0      0.760976  0.239024   156.0    49.0    205\n",
      "26.0      0.827778  0.172222   149.0    31.0    180\n",
      "27.0      0.895833  0.104167   129.0    15.0    144\n",
      "28.0      0.845070  0.154930   120.0    22.0    142\n",
      "29.0      0.846154  0.153846    77.0    14.0     91\n",
      "30.0      0.926316  0.073684    88.0     7.0     95\n",
      "31.0      0.859375  0.140625    55.0     9.0     64\n",
      "32.0      0.946429  0.053571    53.0     3.0     56\n",
      "33.0      0.884615  0.115385    46.0     6.0     52\n",
      "34.0      0.904762  0.095238    38.0     4.0     42\n",
      "35.0      0.868421  0.131579    33.0     5.0     38\n",
      "36.0      0.909091  0.090909    30.0     3.0     33\n",
      "37.0      0.950000  0.050000    19.0     1.0     20\n",
      "38.0      0.916667  0.083333    22.0     2.0     24\n",
      "39.0      1.000000  0.000000     9.0     0.0      9\n",
      "40.0      0.937500  0.062500    15.0     1.0     16\n",
      "41.0      1.000000  0.000000     6.0     0.0      6\n",
      "42.0      0.923077  0.076923    12.0     1.0     13\n",
      "43.0      1.000000  0.000000     5.0     0.0      5\n",
      "44.0      0.875000  0.125000     7.0     1.0      8\n",
      "45.0      0.833333  0.166667     5.0     1.0      6\n",
      "46.0      1.000000  0.000000     6.0     0.0      6\n",
      "47.0      0.666667  0.333333     2.0     1.0      3\n",
      "48.0      0.000000  1.000000     0.0     1.0      1\n",
      "49.0      0.666667  0.333333     2.0     1.0      3\n",
      "51.0      1.000000  0.000000    20.0     0.0     20\n"
     ]
    }
   ],
   "source": [
    "value_counts_ratio(train, '수집된_신선_난자_수')"
   ]
  },
  {
   "cell_type": "markdown",
   "metadata": {},
   "source": [
    "### 49. 저장된_신선_난자_수"
   ]
  },
  {
   "cell_type": "markdown",
   "metadata": {},
   "source": [
    "저장된 신선 난자의 수"
   ]
  },
  {
   "cell_type": "code",
   "execution_count": 145,
   "metadata": {},
   "outputs": [
    {
     "name": "stdout",
     "output_type": "stream",
     "text": [
      "\n",
      "저장된_신선_난자_수별 임신_성공_여부 비율 및 갯수\n",
      "\n",
      "                 0         1        0       1  Total\n",
      "variable                                            \n",
      "0.0       0.747198  0.252802  27937.0  9452.0  37389\n",
      "1.0       1.000000  0.000000     48.0     0.0     48\n",
      "2.0       1.000000  0.000000     45.0     0.0     45\n",
      "3.0       1.000000  0.000000     49.0     0.0     49\n",
      "4.0       0.978261  0.021739     45.0     1.0     46\n",
      "5.0       0.980769  0.019231     51.0     1.0     52\n",
      "6.0       1.000000  0.000000     45.0     0.0     45\n",
      "7.0       1.000000  0.000000     38.0     0.0     38\n",
      "8.0       1.000000  0.000000     47.0     0.0     47\n",
      "9.0       0.967742  0.032258     30.0     1.0     31\n",
      "10.0      1.000000  0.000000     28.0     0.0     28\n",
      "11.0      1.000000  0.000000     22.0     0.0     22\n",
      "12.0      1.000000  0.000000     23.0     0.0     23\n",
      "13.0      1.000000  0.000000     17.0     0.0     17\n",
      "14.0      1.000000  0.000000     22.0     0.0     22\n",
      "15.0      1.000000  0.000000     20.0     0.0     20\n",
      "16.0      1.000000  0.000000     12.0     0.0     12\n",
      "17.0      1.000000  0.000000     15.0     0.0     15\n",
      "18.0      1.000000  0.000000      9.0     0.0      9\n",
      "19.0      1.000000  0.000000      7.0     0.0      7\n",
      "20.0      1.000000  0.000000      2.0     0.0      2\n",
      "21.0      1.000000  0.000000      6.0     0.0      6\n",
      "22.0      1.000000  0.000000      6.0     0.0      6\n",
      "23.0      1.000000  0.000000      6.0     0.0      6\n",
      "24.0      1.000000  0.000000      1.0     0.0      1\n",
      "25.0      1.000000  0.000000      1.0     0.0      1\n",
      "26.0      1.000000  0.000000      2.0     0.0      2\n",
      "27.0      1.000000  0.000000      3.0     0.0      3\n",
      "28.0      1.000000  0.000000      3.0     0.0      3\n",
      "29.0      1.000000  0.000000      1.0     0.0      1\n",
      "30.0      1.000000  0.000000      2.0     0.0      2\n",
      "34.0      1.000000  0.000000      2.0     0.0      2\n",
      "40.0      1.000000  0.000000      1.0     0.0      1\n"
     ]
    }
   ],
   "source": [
    "value_counts_ratio(train, '저장된_신선_난자_수')"
   ]
  },
  {
   "cell_type": "markdown",
   "metadata": {},
   "source": [
    "### 50. 혼합된_난자_수"
   ]
  },
  {
   "cell_type": "markdown",
   "metadata": {},
   "source": [
    "정자와 혼합된 총 난자 수"
   ]
  },
  {
   "cell_type": "code",
   "execution_count": 146,
   "metadata": {},
   "outputs": [
    {
     "name": "stdout",
     "output_type": "stream",
     "text": [
      "\n",
      "혼합된_난자_수별 임신_성공_여부 비율 및 갯수\n",
      "\n",
      "                 0         1       0       1  Total\n",
      "variable                                           \n",
      "0.0       0.770115  0.229885  5963.0  1780.0   7743\n",
      "1.0       0.949486  0.050514  1109.0    59.0   1168\n",
      "2.0       0.896831  0.103169  1330.0   153.0   1483\n",
      "3.0       0.846022  0.153978  1478.0   269.0   1747\n",
      "4.0       0.804963  0.195037  1622.0   393.0   2015\n",
      "5.0       0.767260  0.232740  1767.0   536.0   2303\n",
      "6.0       0.749482  0.250518  1807.0   604.0   2411\n",
      "7.0       0.724244  0.275756  1652.0   629.0   2281\n",
      "8.0       0.699494  0.300506  1520.0   653.0   2173\n",
      "9.0       0.712803  0.287197  1442.0   581.0   2023\n",
      "10.0      0.699510  0.300490  1285.0   552.0   1837\n",
      "11.0      0.704644  0.295356  1138.0   477.0   1615\n",
      "12.0      0.665997  0.334003   995.0   499.0   1494\n",
      "13.0      0.665623  0.334377   850.0   427.0   1277\n",
      "14.0      0.689873  0.310127   763.0   343.0   1106\n",
      "15.0      0.676907  0.323093   639.0   305.0    944\n",
      "16.0      0.656774  0.343226   509.0   266.0    775\n",
      "17.0      0.682488  0.317512   417.0   194.0    611\n",
      "18.0      0.692453  0.307547   367.0   163.0    530\n",
      "19.0      0.705069  0.294931   306.0   128.0    434\n",
      "20.0      0.710306  0.289694   255.0   104.0    359\n",
      "21.0      0.758958  0.241042   233.0    74.0    307\n",
      "22.0      0.760504  0.239496   181.0    57.0    238\n",
      "23.0      0.698864  0.301136   123.0    53.0    176\n",
      "24.0      0.730994  0.269006   125.0    46.0    171\n",
      "25.0      0.768657  0.231343   103.0    31.0    134\n",
      "26.0      0.890756  0.109244   106.0    13.0    119\n",
      "27.0      0.857143  0.142857    90.0    15.0    105\n",
      "28.0      0.826087  0.173913    76.0    16.0     92\n",
      "29.0      0.829787  0.170213    39.0     8.0     47\n",
      "30.0      0.915254  0.084746    54.0     5.0     59\n",
      "31.0      0.935484  0.064516    29.0     2.0     31\n",
      "32.0      0.961538  0.038462    25.0     1.0     26\n",
      "33.0      0.846154  0.153846    22.0     4.0     26\n",
      "34.0      0.888889  0.111111    24.0     3.0     27\n",
      "35.0      0.920000  0.080000    23.0     2.0     25\n",
      "36.0      0.947368  0.052632    18.0     1.0     19\n",
      "37.0      0.928571  0.071429    13.0     1.0     14\n",
      "38.0      1.000000  0.000000    12.0     0.0     12\n",
      "39.0      0.750000  0.250000     3.0     1.0      4\n",
      "40.0      0.857143  0.142857     6.0     1.0      7\n",
      "41.0      1.000000  0.000000     2.0     0.0      2\n",
      "42.0      0.600000  0.400000     3.0     2.0      5\n",
      "43.0      0.750000  0.250000     3.0     1.0      4\n",
      "44.0      1.000000  0.000000     3.0     0.0      3\n",
      "45.0      0.666667  0.333333     2.0     1.0      3\n",
      "46.0      1.000000  0.000000     1.0     0.0      1\n",
      "47.0      0.750000  0.250000     3.0     1.0      4\n",
      "49.0      1.000000  0.000000     2.0     0.0      2\n",
      "51.0      0.888889  0.111111     8.0     1.0      9\n"
     ]
    }
   ],
   "source": [
    "value_counts_ratio(train, '혼합된_난자_수')"
   ]
  },
  {
   "cell_type": "markdown",
   "metadata": {},
   "source": [
    "### 51. 파트너_정자와_혼합된_난자_수"
   ]
  },
  {
   "cell_type": "markdown",
   "metadata": {},
   "source": [
    "파트너 정자와 혼합된 난자의 수"
   ]
  },
  {
   "cell_type": "code",
   "execution_count": 147,
   "metadata": {},
   "outputs": [
    {
     "name": "stdout",
     "output_type": "stream",
     "text": [
      "\n",
      "파트너_정자와_혼합된_난자_수별 임신_성공_여부 비율 및 갯수\n",
      "\n",
      "                 0         1       0       1  Total\n",
      "variable                                           \n",
      "0.0       0.763284  0.236716  8303.0  2575.0  10878\n",
      "1.0       0.947739  0.052261   943.0    52.0    995\n",
      "2.0       0.895976  0.104024  1180.0   137.0   1317\n",
      "3.0       0.848197  0.151803  1341.0   240.0   1581\n",
      "4.0       0.807991  0.192009  1456.0   346.0   1802\n",
      "5.0       0.766699  0.233301  1584.0   482.0   2066\n",
      "6.0       0.752768  0.247232  1632.0   536.0   2168\n",
      "7.0       0.727894  0.272106  1490.0   557.0   2047\n",
      "8.0       0.700663  0.299337  1374.0   587.0   1961\n",
      "9.0       0.715301  0.284699  1309.0   521.0   1830\n",
      "10.0      0.698730  0.301270  1155.0   498.0   1653\n",
      "11.0      0.701317  0.298683  1012.0   431.0   1443\n",
      "12.0      0.667897  0.332103   905.0   450.0   1355\n",
      "13.0      0.666374  0.333626   759.0   380.0   1139\n",
      "14.0      0.691000  0.309000   691.0   309.0   1000\n",
      "15.0      0.677305  0.322695   573.0   273.0    846\n",
      "16.0      0.648012  0.351988   440.0   239.0    679\n",
      "17.0      0.671004  0.328996   361.0   177.0    538\n",
      "18.0      0.686848  0.313152   329.0   150.0    479\n",
      "19.0      0.702771  0.297229   279.0   118.0    397\n",
      "20.0      0.722741  0.277259   232.0    89.0    321\n",
      "21.0      0.754386  0.245614   215.0    70.0    285\n",
      "22.0      0.763889  0.236111   165.0    51.0    216\n",
      "23.0      0.704403  0.295597   112.0    47.0    159\n",
      "24.0      0.719745  0.280255   113.0    44.0    157\n",
      "25.0      0.763158  0.236842    87.0    27.0    114\n",
      "26.0      0.878505  0.121495    94.0    13.0    107\n",
      "27.0      0.851064  0.148936    80.0    14.0     94\n",
      "28.0      0.819277  0.180723    68.0    15.0     83\n",
      "29.0      0.829268  0.170732    34.0     7.0     41\n",
      "30.0      0.943396  0.056604    50.0     3.0     53\n",
      "31.0      0.925926  0.074074    25.0     2.0     27\n",
      "32.0      0.956522  0.043478    22.0     1.0     23\n",
      "33.0      0.904762  0.095238    19.0     2.0     21\n",
      "34.0      0.920000  0.080000    23.0     2.0     25\n",
      "35.0      0.958333  0.041667    23.0     1.0     24\n",
      "36.0      0.937500  0.062500    15.0     1.0     16\n",
      "37.0      0.909091  0.090909    10.0     1.0     11\n",
      "38.0      1.000000  0.000000    10.0     0.0     10\n",
      "39.0      0.750000  0.250000     3.0     1.0      4\n",
      "40.0      0.857143  0.142857     6.0     1.0      7\n",
      "41.0      1.000000  0.000000     2.0     0.0      2\n",
      "42.0      0.600000  0.400000     3.0     2.0      5\n",
      "43.0      0.750000  0.250000     3.0     1.0      4\n",
      "44.0      1.000000  0.000000     1.0     0.0      1\n",
      "45.0      1.000000  0.000000     2.0     0.0      2\n",
      "46.0      1.000000  0.000000     1.0     0.0      1\n",
      "47.0      0.666667  0.333333     2.0     1.0      3\n",
      "49.0      1.000000  0.000000     2.0     0.0      2\n",
      "51.0      0.888889  0.111111     8.0     1.0      9\n"
     ]
    }
   ],
   "source": [
    "value_counts_ratio(train, '파트너_정자와_혼합된_난자_수')"
   ]
  },
  {
   "cell_type": "markdown",
   "metadata": {},
   "source": [
    "### 52. 기증자_정자와_혼합된_난자_수"
   ]
  },
  {
   "cell_type": "markdown",
   "metadata": {},
   "source": [
    "기증자 정자와 혼합된 난자의 수"
   ]
  },
  {
   "cell_type": "code",
   "execution_count": 148,
   "metadata": {},
   "outputs": [
    {
     "name": "stdout",
     "output_type": "stream",
     "text": [
      "\n",
      "기증자_정자와_혼합된_난자_수별 임신_성공_여부 비율 및 갯수\n",
      "\n",
      "                 0         1        0       1  Total\n",
      "variable                                            \n",
      "0.0       0.751900  0.248100  26409.0  8714.0  35123\n",
      "1.0       0.959538  0.040462    166.0     7.0    173\n",
      "2.0       0.898810  0.101190    151.0    17.0    168\n",
      "3.0       0.829412  0.170588    141.0    29.0    170\n",
      "4.0       0.781395  0.218605    168.0    47.0    215\n",
      "5.0       0.765957  0.234043    180.0    55.0    235\n",
      "6.0       0.720833  0.279167    173.0    67.0    240\n",
      "7.0       0.696833  0.303167    154.0    67.0    221\n",
      "8.0       0.681592  0.318408    137.0    64.0    201\n",
      "9.0       0.674033  0.325967    122.0    59.0    181\n",
      "10.0      0.696429  0.303571    117.0    51.0    168\n",
      "11.0      0.711409  0.288591    106.0    43.0    149\n",
      "12.0      0.634146  0.365854     78.0    45.0    123\n",
      "13.0      0.647541  0.352459     79.0    43.0    122\n",
      "14.0      0.666667  0.333333     60.0    30.0     90\n",
      "15.0      0.636364  0.363636     49.0    28.0     77\n",
      "16.0      0.706667  0.293333     53.0    22.0     75\n",
      "17.0      0.807018  0.192982     46.0    11.0     57\n",
      "18.0      0.710526  0.289474     27.0    11.0     38\n",
      "19.0      0.793103  0.206897     23.0     6.0     29\n",
      "20.0      0.633333  0.366667     19.0    11.0     30\n",
      "21.0      0.769231  0.230769     10.0     3.0     13\n",
      "22.0      0.600000  0.400000      9.0     6.0     15\n",
      "23.0      0.500000  0.500000      6.0     6.0     12\n",
      "24.0      0.800000  0.200000      8.0     2.0     10\n",
      "25.0      0.800000  0.200000     12.0     3.0     15\n",
      "26.0      1.000000  0.000000     10.0     0.0     10\n",
      "27.0      1.000000  0.000000      8.0     0.0      8\n",
      "28.0      0.888889  0.111111      8.0     1.0      9\n",
      "29.0      0.500000  0.500000      1.0     1.0      2\n",
      "30.0      0.750000  0.250000      3.0     1.0      4\n",
      "31.0      1.000000  0.000000      2.0     0.0      2\n",
      "32.0      1.000000  0.000000      3.0     0.0      3\n",
      "33.0      0.500000  0.500000      2.0     2.0      4\n",
      "34.0      0.500000  0.500000      1.0     1.0      2\n",
      "35.0      0.000000  1.000000      0.0     1.0      1\n",
      "36.0      1.000000  0.000000      2.0     0.0      2\n",
      "37.0      1.000000  0.000000      2.0     0.0      2\n",
      "45.0      0.000000  1.000000      0.0     1.0      1\n",
      "47.0      1.000000  0.000000      1.0     0.0      1\n"
     ]
    }
   ],
   "source": [
    "value_counts_ratio(train, '기증자_정자와_혼합된_난자_수')"
   ]
  },
  {
   "cell_type": "code",
   "execution_count": 149,
   "metadata": {},
   "outputs": [],
   "source": [
    "# 1. 임신 성공율 - 이식된 배아 대비 임신 성공 비율\n",
    "train['임신_성공율'] = np.where(train['총_생성_배아_수'] > 0, (train['이식된_배아_수'] / train['총_생성_배아_수']) * 100, 0).round(2)\n",
    "\n",
    "# 2. ICSI 효율성 - 미세주입된 난자 대비 생성된 배아 비율\n",
    "train['ICSI_효율성'] = np.where(train['미세주입된_난자_수'] > 0, (train['미세주입에서_생성된_배아_수'] / train['미세주입된_난자_수']) * 100, 0).round(2)\n",
    "\n",
    "# 3. 저장 배아 비율 - 총 생성 배아 대비 저장된 배아 수 비율\n",
    "train['저장_배아_비율'] = np.where(train['총_생성_배아_수'] > 0, (train['저장된_배아_수'] / train['총_생성_배아_수']) * 100, 0).round(2)\n",
    "\n",
    "# 4. 해동 난자 비율 - 해동된 난자 대비 수집된 신선 난자 비율\n",
    "train['해동_난자_비율'] = np.where(train['수집된_신선_난자_수'] > 0, (train['해동_난자_수'] / train['수집된_신선_난자_수']) * 100, 0).round(2)\n",
    "\n",
    "# 5. 생성 배아 유지율 - ICSI 후 저장된 배아 대비 생성된 배아 비율\n",
    "train['생성_배아_유지율'] = np.where(train['미세주입에서_생성된_배아_수'] > 0, (train['미세주입_후_저장된_배아_수'] / train['미세주입에서_생성된_배아_수']) * 100, 0).round(2)\n",
    "\n",
    "# 6. 파트너 정자 사용 비율 - 혼합된 난자에서 파트너 정자 비율\n",
    "train['파트너_정자_사용_비율'] = np.where(train['혼합된_난자_수'] > 0, (train['파트너_정자와_혼합된_난자_수'] / train['혼합된_난자_수']) * 100, 0).round(2)\n",
    "\n",
    "# test 데이터프레임에도 동일한 파생 변수를 생성\n",
    "test['임신_성공율'] = np.where(test['총_생성_배아_수'] > 0, (test['이식된_배아_수'] / test['총_생성_배아_수']) * 100, 0).round(2)\n",
    "test['ICSI_효율성'] = np.where(test['미세주입된_난자_수'] > 0, (test['미세주입에서_생성된_배아_수'] / test['미세주입된_난자_수']) * 100, 0).round(2)\n",
    "test['저장_배아_비율'] = np.where(test['총_생성_배아_수'] > 0, (test['저장된_배아_수'] / test['총_생성_배아_수']) * 100, 0).round(2)\n",
    "test['해동_난자_비율'] = np.where(test['수집된_신선_난자_수'] > 0, (test['해동_난자_수'] / test['수집된_신선_난자_수']) * 100, 0).round(2)\n",
    "test['생성_배아_유지율'] = np.where(test['미세주입에서_생성된_배아_수'] > 0, (test['미세주입_후_저장된_배아_수'] / test['미세주입에서_생성된_배아_수']) * 100, 0).round(2)\n",
    "test['파트너_정자_사용_비율'] = np.where(test['혼합된_난자_수'] > 0, (test['파트너_정자와_혼합된_난자_수'] / test['혼합된_난자_수']) * 100, 0).round(2)"
   ]
  },
  {
   "cell_type": "markdown",
   "metadata": {},
   "source": [
    "### 53. 난자_출처"
   ]
  },
  {
   "cell_type": "markdown",
   "metadata": {},
   "source": [
    "난자 출처 정보"
   ]
  },
  {
   "cell_type": "code",
   "execution_count": 150,
   "metadata": {},
   "outputs": [
    {
     "name": "stdout",
     "output_type": "stream",
     "text": [
      "\n",
      "난자_출처별 임신_성공_여부 비율 및 갯수\n",
      "\n",
      "                 0         1      0     1  Total\n",
      "variable                                        \n",
      "기증 제공     0.668327  0.331673   1878   932   2810\n",
      "본인 제공     0.757807  0.242193  26668  8523  35191\n",
      "알 수 없음    0.887967  0.112033    856   108    964\n"
     ]
    }
   ],
   "source": [
    "value_counts_ratio(train, '난자_출처')"
   ]
  },
  {
   "cell_type": "code",
   "execution_count": 151,
   "metadata": {},
   "outputs": [
    {
     "data": {
      "text/plain": [
       "본인 제공     12365\n",
       "기증 제공       962\n",
       "알 수 없음      283\n",
       "Name: 난자_출처, dtype: int64"
      ]
     },
     "execution_count": 151,
     "metadata": {},
     "output_type": "execute_result"
    }
   ],
   "source": [
    "test['난자_출처'].value_counts()"
   ]
  },
  {
   "cell_type": "markdown",
   "metadata": {},
   "source": [
    "### 54. 정자_출처"
   ]
  },
  {
   "cell_type": "markdown",
   "metadata": {},
   "source": [
    "정자 출처 정보"
   ]
  },
  {
   "cell_type": "code",
   "execution_count": 152,
   "metadata": {},
   "outputs": [
    {
     "name": "stdout",
     "output_type": "stream",
     "text": [
      "\n",
      "정자_출처별 임신_성공_여부 비율 및 갯수\n",
      "\n",
      "                    0         1        0       1  Total\n",
      "variable                                               \n",
      "기증 제공        0.759315  0.240685   3770.0  1195.0   4965\n",
      "미할당          0.962963  0.037037     52.0     2.0     54\n",
      "배우자 및 기증 제공  1.000000  0.000000      1.0     0.0      1\n",
      "배우자 제공       0.753542  0.246458  25579.0  8366.0  33945\n"
     ]
    }
   ],
   "source": [
    "value_counts_ratio(train, '정자_출처')"
   ]
  },
  {
   "cell_type": "code",
   "execution_count": 153,
   "metadata": {},
   "outputs": [
    {
     "data": {
      "text/plain": [
       "배우자 제공         11906\n",
       "기증 제공           1685\n",
       "미할당               18\n",
       "배우자 및 기증 제공        1\n",
       "Name: 정자_출처, dtype: int64"
      ]
     },
     "execution_count": 153,
     "metadata": {},
     "output_type": "execute_result"
    }
   ],
   "source": [
    "test['정자_출처'].value_counts()"
   ]
  },
  {
   "cell_type": "markdown",
   "metadata": {},
   "source": [
    "### 55. 난자_기증자_나이"
   ]
  },
  {
   "cell_type": "markdown",
   "metadata": {},
   "source": [
    "난자 기증자의 등록 당시 나이"
   ]
  },
  {
   "cell_type": "code",
   "execution_count": 154,
   "metadata": {},
   "outputs": [
    {
     "name": "stdout",
     "output_type": "stream",
     "text": [
      "\n",
      "난자_기증자_나이별 임신_성공_여부 비율 및 갯수\n",
      "\n",
      "                 0         1      0     1  Total\n",
      "variable                                        \n",
      "만20세 이하   0.694444  0.305556     50    22     72\n",
      "만21-25세   0.632432  0.367568    351   204    555\n",
      "만26-30세   0.655963  0.344037    572   300    872\n",
      "만31-35세   0.675147  0.324853    690   332   1022\n",
      "알 수 없음    0.761140  0.238860  27739  8705  36444\n"
     ]
    }
   ],
   "source": [
    "value_counts_ratio(train, '난자_기증자_나이')"
   ]
  },
  {
   "cell_type": "markdown",
   "metadata": {},
   "source": [
    "### 56. 정자_기증자_나이"
   ]
  },
  {
   "cell_type": "markdown",
   "metadata": {},
   "source": [
    "정자 기증자의 등록 당시 나이"
   ]
  },
  {
   "cell_type": "code",
   "execution_count": 155,
   "metadata": {},
   "outputs": [
    {
     "name": "stdout",
     "output_type": "stream",
     "text": [
      "\n",
      "정자_기증자_나이별 임신_성공_여부 비율 및 갯수\n",
      "\n",
      "                 0         1      0     1  Total\n",
      "variable                                        \n",
      "만20세 이하   0.804444  0.195556    181    44    225\n",
      "만21-25세   0.781749  0.218251   1028   287   1315\n",
      "만26-30세   0.765854  0.234146    785   240   1025\n",
      "만31-35세   0.716245  0.283755    679   269    948\n",
      "만36-40세   0.751843  0.248157    612   202    814\n",
      "만41-45세   0.776447  0.223553    389   112    501\n",
      "알 수 없음    0.753669  0.246331  25728  8409  34137\n"
     ]
    }
   ],
   "source": [
    "value_counts_ratio(train, '정자_기증자_나이')"
   ]
  },
  {
   "cell_type": "code",
   "execution_count": 156,
   "metadata": {},
   "outputs": [
    {
     "name": "stdout",
     "output_type": "stream",
     "text": [
      "Grouped by: 난자_기증자_나이, 정자_기증자_나이\n",
      "\n",
      "                 group  '임신_성공_여부' count     ratio  Total\n",
      "0   (만20세 이하, 만21-25세)                 0  0.000000      1\n",
      "1   (만20세 이하, 만26-30세)                 0  0.000000      2\n",
      "2   (만20세 이하, 만31-35세)                 0  0.000000      4\n",
      "3   (만20세 이하, 만36-40세)                 1  0.250000      4\n",
      "4   (만20세 이하, 만41-45세)                 0  0.000000      1\n",
      "5    (만20세 이하, 알 수 없음)                21  0.350000     60\n",
      "6   (만21-25세, 만20세 이하)                 1  0.142857      7\n",
      "7   (만21-25세, 만21-25세)                 8  0.347826     23\n",
      "8   (만21-25세, 만26-30세)                 4  0.222222     18\n",
      "9   (만21-25세, 만31-35세)                 6  0.461538     13\n",
      "10  (만21-25세, 만36-40세)                 6  0.352941     17\n",
      "11  (만21-25세, 만41-45세)                 5  0.454545     11\n",
      "12   (만21-25세, 알 수 없음)               174  0.373391    466\n",
      "13  (만26-30세, 만20세 이하)                 3  0.272727     11\n",
      "14  (만26-30세, 만21-25세)                10  0.303030     33\n",
      "15  (만26-30세, 만26-30세)                10  0.270270     37\n",
      "16  (만26-30세, 만31-35세)                20  0.465116     43\n",
      "17  (만26-30세, 만36-40세)                11  0.343750     32\n",
      "18  (만26-30세, 만41-45세)                 4  0.285714     14\n",
      "19   (만26-30세, 알 수 없음)               242  0.344729    702\n",
      "20  (만31-35세, 만20세 이하)                 1  0.083333     12\n",
      "21  (만31-35세, 만21-25세)                22  0.458333     48\n",
      "22  (만31-35세, 만26-30세)                17  0.298246     57\n",
      "23  (만31-35세, 만31-35세)                23  0.403509     57\n",
      "24  (만31-35세, 만36-40세)                15  0.319149     47\n",
      "25  (만31-35세, 만41-45세)                 5  0.312500     16\n",
      "26   (만31-35세, 알 수 없음)               249  0.317197    785\n",
      "27   (알 수 없음, 만20세 이하)                39  0.200000    195\n",
      "28   (알 수 없음, 만21-25세)               247  0.204132   1210\n",
      "29   (알 수 없음, 만26-30세)               209  0.229418    911\n",
      "30   (알 수 없음, 만31-35세)               220  0.264741    831\n",
      "31   (알 수 없음, 만36-40세)               169  0.236695    714\n",
      "32   (알 수 없음, 만41-45세)                98  0.213508    459\n",
      "33    (알 수 없음, 알 수 없음)              7723  0.240412  32124\n"
     ]
    }
   ],
   "source": [
    "summarize_group(train, ['난자_기증자_나이', '정자_기증자_나이'])"
   ]
  },
  {
   "cell_type": "code",
   "execution_count": 157,
   "metadata": {},
   "outputs": [],
   "source": [
    "# 그룹화하여 임신_성공_여부 비율 계산\n",
    "grouped = train.groupby(['난자_기증자_나이', '정자_기증자_나이']).agg(\n",
    "    count=('임신_성공_여부', 'sum'),\n",
    "    Total=('임신_성공_여부', 'size')\n",
    ").reset_index()\n",
    "\n",
    "grouped['ratio'] = grouped['count'] / grouped['Total']\n",
    "grouped['기증자_나이_더미'] = (grouped['ratio'] >= 0.28).astype(int)\n",
    "\n",
    "# 원본 train 데이터프레임에 더미 변수 추가\n",
    "train = train.merge(grouped[['난자_기증자_나이', '정자_기증자_나이', '기증자_나이_더미']], on=['난자_기증자_나이', '정자_기증자_나이'], how='left')\n",
    "\n",
    "# test 데이터프레임에 더미 변수 추가\n",
    "test = test.merge(grouped[['난자_기증자_나이', '정자_기증자_나이', '기증자_나이_더미']], on=['난자_기증자_나이', '정자_기증자_나이'], how='left')\n",
    "\n",
    "# 결측값을 0으로 채우기 (해당 조합이 train 데이터에 없을 경우)\n",
    "test['기증자_나이_더미'] = test['기증자_나이_더미'].fillna(0).astype(int)"
   ]
  },
  {
   "cell_type": "code",
   "execution_count": 158,
   "metadata": {},
   "outputs": [
    {
     "name": "stdout",
     "output_type": "stream",
     "text": [
      "\n",
      "기증자_나이_더미별 임신_성공_여부 비율 및 갯수\n",
      "\n",
      "                 0         1      0     1  Total\n",
      "variable                                        \n",
      "0         0.761227  0.238773  27816  8725  36541\n",
      "1         0.654290  0.345710   1586   838   2424\n"
     ]
    }
   ],
   "source": [
    "value_counts_ratio(train, '기증자_나이_더미')"
   ]
  },
  {
   "cell_type": "code",
   "execution_count": 159,
   "metadata": {},
   "outputs": [
    {
     "data": {
      "text/plain": [
       "0    12769\n",
       "1      841\n",
       "Name: 기증자_나이_더미, dtype: int64"
      ]
     },
     "execution_count": 159,
     "metadata": {},
     "output_type": "execute_result"
    }
   ],
   "source": [
    "test['기증자_나이_더미'].value_counts()"
   ]
  },
  {
   "cell_type": "code",
   "execution_count": 160,
   "metadata": {},
   "outputs": [],
   "source": [
    "# summarize_group(train, ['난자_기증자_나이', '정자_기증자_나이', '기증자_나이_더미'])"
   ]
  },
  {
   "cell_type": "markdown",
   "metadata": {},
   "source": [
    "### 57. 동결_배아_사용_여부"
   ]
  },
  {
   "cell_type": "markdown",
   "metadata": {},
   "source": [
    "동결 배아가 사용되었는지 여부"
   ]
  },
  {
   "cell_type": "code",
   "execution_count": 161,
   "metadata": {},
   "outputs": [
    {
     "name": "stdout",
     "output_type": "stream",
     "text": [
      "\n",
      "동결_배아_사용_여부별 임신_성공_여부 비율 및 갯수\n",
      "\n",
      "                 0         1      0     1  Total\n",
      "variable                                        \n",
      "0.0       0.756439  0.243561  23818  7669  31487\n",
      "1.0       0.725821  0.274179   4728  1786   6514\n"
     ]
    }
   ],
   "source": [
    "value_counts_ratio(train, '동결_배아_사용_여부')"
   ]
  },
  {
   "cell_type": "markdown",
   "metadata": {},
   "source": [
    "### 58. 신선_배아_사용_여부"
   ]
  },
  {
   "cell_type": "markdown",
   "metadata": {},
   "source": [
    "신선 배아가 사용되었는지 여부"
   ]
  },
  {
   "cell_type": "code",
   "execution_count": 162,
   "metadata": {},
   "outputs": [
    {
     "name": "stdout",
     "output_type": "stream",
     "text": [
      "\n",
      "신선_배아_사용_여부별 임신_성공_여부 비율 및 갯수\n",
      "\n",
      "                 0         1      0     1  Total\n",
      "variable                                        \n",
      "0.0       0.724846  0.275154   4697  1783   6480\n",
      "1.0       0.756607  0.243393  23849  7672  31521\n"
     ]
    }
   ],
   "source": [
    "value_counts_ratio(train, '신선_배아_사용_여부')"
   ]
  },
  {
   "cell_type": "markdown",
   "metadata": {},
   "source": [
    "### 59. 기증_배아_사용_여부"
   ]
  },
  {
   "cell_type": "markdown",
   "metadata": {},
   "source": [
    "기증 배아가 사용되었는지 여부"
   ]
  },
  {
   "cell_type": "code",
   "execution_count": 163,
   "metadata": {},
   "outputs": [
    {
     "name": "stdout",
     "output_type": "stream",
     "text": [
      "\n",
      "기증_배아_사용_여부별 임신_성공_여부 비율 및 갯수\n",
      "\n",
      "                 0         1      0     1  Total\n",
      "variable                                        \n",
      "0.0       0.752562  0.247438  28203  9273  37476\n",
      "1.0       0.653333  0.346667    343   182    525\n"
     ]
    }
   ],
   "source": [
    "value_counts_ratio(train, '기증_배아_사용_여부')"
   ]
  },
  {
   "cell_type": "code",
   "execution_count": 164,
   "metadata": {},
   "outputs": [
    {
     "name": "stdout",
     "output_type": "stream",
     "text": [
      "Grouped by: 신선_배아_사용_여부, 동결_배아_사용_여부, 기증_배아_사용_여부\n",
      "\n",
      "             group  '임신_성공_여부' count     ratio  Total\n",
      "0  (0.0, 1.0, 0.0)              1712  0.273701   6255\n",
      "1  (0.0, 1.0, 1.0)                71  0.315556    225\n",
      "2  (1.0, 0.0, 0.0)              7558  0.242345  31187\n",
      "3  (1.0, 0.0, 1.0)               111  0.370000    300\n",
      "4  (1.0, 1.0, 0.0)                 3  0.088235     34\n"
     ]
    }
   ],
   "source": [
    "summarize_group(train, ['신선_배아_사용_여부', '동결_배아_사용_여부', '기증_배아_사용_여부'])"
   ]
  },
  {
   "cell_type": "markdown",
   "metadata": {},
   "source": [
    "### 60. 대리모_여부"
   ]
  },
  {
   "cell_type": "markdown",
   "metadata": {},
   "source": [
    "환자가 대리모로 활동했는지 여부"
   ]
  },
  {
   "cell_type": "code",
   "execution_count": 165,
   "metadata": {},
   "outputs": [
    {
     "name": "stdout",
     "output_type": "stream",
     "text": [
      "\n",
      "대리모_여부별 임신_성공_여부 비율 및 갯수\n",
      "\n",
      "                 0         1      0     1  Total\n",
      "variable                                        \n",
      "0.0       0.751533  0.248467  28426  9398  37824\n",
      "1.0       0.677966  0.322034    120    57    177\n"
     ]
    }
   ],
   "source": [
    "value_counts_ratio(train, '대리모_여부')"
   ]
  },
  {
   "cell_type": "markdown",
   "metadata": {},
   "source": [
    "### 61. PGD_시술_여부"
   ]
  },
  {
   "cell_type": "markdown",
   "metadata": {},
   "source": [
    "해당 주기가 PGD 치료로 분류되는지 여부"
   ]
  },
  {
   "cell_type": "code",
   "execution_count": 166,
   "metadata": {},
   "outputs": [
    {
     "name": "stdout",
     "output_type": "stream",
     "text": [
      "\n",
      "PGD_시술_여부별 임신_성공_여부 비율 및 갯수\n",
      "\n",
      "                 0         1    0   1  Total\n",
      "variable                                    \n",
      "1.0       0.710526  0.289474  189  77    266\n"
     ]
    }
   ],
   "source": [
    "value_counts_ratio(train, 'PGD_시술_여부')"
   ]
  },
  {
   "cell_type": "code",
   "execution_count": 167,
   "metadata": {},
   "outputs": [
    {
     "data": {
      "text/plain": [
       "38699"
      ]
     },
     "execution_count": 167,
     "metadata": {},
     "output_type": "execute_result"
    }
   ],
   "source": [
    "train['PGD_시술_여부'].isnull().sum()"
   ]
  },
  {
   "cell_type": "code",
   "execution_count": 168,
   "metadata": {},
   "outputs": [
    {
     "name": "stdout",
     "output_type": "stream",
     "text": [
      "결측값 개수: 38699\n",
      "결측값 개수: 0\n"
     ]
    }
   ],
   "source": [
    "# 결측값 개수 확인\n",
    "print(\"결측값 개수:\", train['PGD_시술_여부'].isnull().sum())\n",
    "\n",
    "# 결측값을 0으로 채우기\n",
    "train['PGD_시술_여부'].fillna(0, inplace=True)\n",
    "test['PGD_시술_여부'].fillna(0, inplace=True)\n",
    "\n",
    "# 결측값 개수 확인\n",
    "print(\"결측값 개수:\", train['PGD_시술_여부'].isnull().sum())"
   ]
  },
  {
   "cell_type": "markdown",
   "metadata": {},
   "source": [
    "### 62. PGS_시술_여부"
   ]
  },
  {
   "cell_type": "markdown",
   "metadata": {},
   "source": [
    "해당 주기가 PGS 치료로 분류되는지 여부"
   ]
  },
  {
   "cell_type": "code",
   "execution_count": 169,
   "metadata": {},
   "outputs": [
    {
     "name": "stdout",
     "output_type": "stream",
     "text": [
      "\n",
      "PGS_시술_여부별 임신_성공_여부 비율 및 갯수\n",
      "\n",
      "                0        1    0   1  Total\n",
      "variable                                  \n",
      "1.0       0.67931  0.32069  197  93    290\n"
     ]
    }
   ],
   "source": [
    "value_counts_ratio(train, 'PGS_시술_여부')"
   ]
  },
  {
   "cell_type": "code",
   "execution_count": 170,
   "metadata": {},
   "outputs": [
    {
     "name": "stdout",
     "output_type": "stream",
     "text": [
      "결측값 개수: 38675\n",
      "결측값 개수: 0\n"
     ]
    }
   ],
   "source": [
    "# 결측값 개수 확인\n",
    "print(\"결측값 개수:\", train['PGS_시술_여부'].isnull().sum())\n",
    "\n",
    "# 결측값을 0으로 채우기\n",
    "train['PGS_시술_여부'].fillna(0, inplace=True)\n",
    "test['PGS_시술_여부'].fillna(0, inplace=True)\n",
    "\n",
    "# 결측값 개수 확인\n",
    "print(\"결측값 개수:\", train['PGS_시술_여부'].isnull().sum())"
   ]
  },
  {
   "cell_type": "code",
   "execution_count": 171,
   "metadata": {},
   "outputs": [
    {
     "name": "stdout",
     "output_type": "stream",
     "text": [
      "Grouped by: PGD_시술_여부, PGS_시술_여부\n",
      "\n",
      "        group  '임신_성공_여부' count     ratio  Total\n",
      "0  (0.0, 0.0)              9393  0.244552  38409\n",
      "1  (0.0, 1.0)                93  0.320690    290\n",
      "2  (1.0, 0.0)                77  0.289474    266\n"
     ]
    }
   ],
   "source": [
    "summarize_group(train, ['PGD_시술_여부', 'PGS_시술_여부'])"
   ]
  },
  {
   "cell_type": "markdown",
   "metadata": {},
   "source": [
    "### 63. 난자_채취_경과일"
   ]
  },
  {
   "cell_type": "markdown",
   "metadata": {},
   "source": [
    "첫 시점으로부터 난자 채취까지 경과한 일수"
   ]
  },
  {
   "cell_type": "code",
   "execution_count": 172,
   "metadata": {},
   "outputs": [
    {
     "name": "stdout",
     "output_type": "stream",
     "text": [
      "\n",
      "난자_채취_경과일별 임신_성공_여부 비율 및 갯수\n",
      "\n",
      "                 0         1      0     1  Total\n",
      "variable                                        \n",
      "0.0       0.762302  0.237698  22587  7043  29630\n"
     ]
    }
   ],
   "source": [
    "value_counts_ratio(train, '난자_채취_경과일')"
   ]
  },
  {
   "cell_type": "code",
   "execution_count": 173,
   "metadata": {},
   "outputs": [
    {
     "name": "stdout",
     "output_type": "stream",
     "text": [
      "결측값 개수: 9335\n",
      "결측값 개수: 0\n"
     ]
    }
   ],
   "source": [
    "print(\"결측값 개수:\", train['난자_채취_경과일'].isnull().sum())\n",
    "\n",
    "train['난자_채취_경과일'].fillna(-1, inplace=True)\n",
    "test['난자_채취_경과일'].fillna(-1, inplace=True)\n",
    "\n",
    "print(\"결측값 개수:\", train['난자_채취_경과일'].isnull().sum())"
   ]
  },
  {
   "cell_type": "markdown",
   "metadata": {},
   "source": [
    "### 64. 난자_해동_경과일"
   ]
  },
  {
   "cell_type": "markdown",
   "metadata": {},
   "source": [
    "첫 시점으로부터 난자 해동까지 경과한 일수"
   ]
  },
  {
   "cell_type": "code",
   "execution_count": 174,
   "metadata": {},
   "outputs": [
    {
     "name": "stdout",
     "output_type": "stream",
     "text": [
      "\n",
      "난자_해동_경과일별 임신_성공_여부 비율 및 갯수\n",
      "\n",
      "                 0         1    0    1  Total\n",
      "variable                                     \n",
      "0.0       0.739496  0.260504  352  124    476\n"
     ]
    }
   ],
   "source": [
    "value_counts_ratio(train, '난자_해동_경과일')"
   ]
  },
  {
   "cell_type": "code",
   "execution_count": 175,
   "metadata": {},
   "outputs": [
    {
     "data": {
      "text/plain": [
       "38489"
      ]
     },
     "execution_count": 175,
     "metadata": {},
     "output_type": "execute_result"
    }
   ],
   "source": [
    "train['난자_해동_경과일'].isnull().sum()"
   ]
  },
  {
   "cell_type": "code",
   "execution_count": 176,
   "metadata": {},
   "outputs": [
    {
     "name": "stdout",
     "output_type": "stream",
     "text": [
      "결측값 개수: 38489\n",
      "결측값 개수: 0\n"
     ]
    }
   ],
   "source": [
    "print(\"결측값 개수:\", train['난자_해동_경과일'].isnull().sum())\n",
    "\n",
    "train['난자_해동_경과일'].fillna(-1, inplace=True)\n",
    "test['난자_해동_경과일'].fillna(-1, inplace=True)\n",
    "\n",
    "print(\"결측값 개수:\", train['난자_해동_경과일'].isnull().sum())"
   ]
  },
  {
   "cell_type": "markdown",
   "metadata": {},
   "source": [
    "### 65. 난자_혼합_경과일"
   ]
  },
  {
   "cell_type": "markdown",
   "metadata": {},
   "source": [
    "첫 시점으로부터 난자와 정자 혼합까지 경과한 일수"
   ]
  },
  {
   "cell_type": "code",
   "execution_count": 177,
   "metadata": {},
   "outputs": [
    {
     "name": "stdout",
     "output_type": "stream",
     "text": [
      "\n",
      "난자_혼합_경과일별 임신_성공_여부 비율 및 갯수\n",
      "\n",
      "                 0         1        0       1  Total\n",
      "variable                                            \n",
      "0.0       0.745942  0.254058  22426.0  7638.0  30064\n",
      "1.0       0.857143  0.142857     66.0    11.0     77\n",
      "2.0       0.888889  0.111111      8.0     1.0      9\n",
      "3.0       0.800000  0.200000      4.0     1.0      5\n",
      "4.0       1.000000  0.000000      2.0     0.0      2\n",
      "5.0       1.000000  0.000000      2.0     0.0      2\n",
      "6.0       1.000000  0.000000      3.0     0.0      3\n"
     ]
    }
   ],
   "source": [
    "value_counts_ratio(train, '난자_혼합_경과일')"
   ]
  },
  {
   "cell_type": "code",
   "execution_count": 178,
   "metadata": {},
   "outputs": [
    {
     "data": {
      "text/plain": [
       "8803"
      ]
     },
     "execution_count": 178,
     "metadata": {},
     "output_type": "execute_result"
    }
   ],
   "source": [
    "train['난자_혼합_경과일'].isnull().sum()"
   ]
  },
  {
   "cell_type": "code",
   "execution_count": 179,
   "metadata": {},
   "outputs": [
    {
     "name": "stdout",
     "output_type": "stream",
     "text": [
      "결측값 개수: 8803\n",
      "결측값 개수: 0\n"
     ]
    }
   ],
   "source": [
    "print(\"결측값 개수:\", train['난자_혼합_경과일'].isnull().sum())\n",
    "\n",
    "train['난자_혼합_경과일'].fillna(-1, inplace=True)\n",
    "test['난자_혼합_경과일'].fillna(-1, inplace=True)\n",
    "\n",
    "print(\"결측값 개수:\", train['난자_혼합_경과일'].isnull().sum())"
   ]
  },
  {
   "cell_type": "code",
   "execution_count": 180,
   "metadata": {},
   "outputs": [
    {
     "name": "stdout",
     "output_type": "stream",
     "text": [
      "\n",
      "난자_혼합_경과일별 임신_성공_여부 비율 및 갯수\n",
      "\n",
      "                 0         1        0       1  Total\n",
      "variable                                            \n",
      "-1.0      0.782801  0.217199   6891.0  1912.0   8803\n",
      " 0.0      0.745942  0.254058  22426.0  7638.0  30064\n",
      " 1.0      0.857143  0.142857     66.0    11.0     77\n",
      " 2.0      0.888889  0.111111      8.0     1.0      9\n",
      " 3.0      0.800000  0.200000      4.0     1.0      5\n",
      " 4.0      1.000000  0.000000      2.0     0.0      2\n",
      " 5.0      1.000000  0.000000      2.0     0.0      2\n",
      " 6.0      1.000000  0.000000      3.0     0.0      3\n"
     ]
    }
   ],
   "source": [
    "value_counts_ratio(train, '난자_혼합_경과일')"
   ]
  },
  {
   "cell_type": "markdown",
   "metadata": {},
   "source": [
    "### 66. 배아_이식_경과일"
   ]
  },
  {
   "cell_type": "markdown",
   "metadata": {},
   "source": [
    "첫 시점으로부터 배아 이식까지 경과한 일수"
   ]
  },
  {
   "cell_type": "code",
   "execution_count": 181,
   "metadata": {},
   "outputs": [
    {
     "name": "stdout",
     "output_type": "stream",
     "text": [
      "\n",
      "배아_이식_경과일별 임신_성공_여부 비율 및 갯수\n",
      "\n",
      "                 0         1     0     1  Total\n",
      "variable                                       \n",
      "0.0       0.707157  0.292843  3330  1379   4709\n",
      "1.0       0.778742  0.221258   359   102    461\n",
      "2.0       0.817792  0.182208  2482   553   3035\n",
      "3.0       0.785989  0.214011  4499  1225   5724\n",
      "4.0       0.636234  0.363766   446   255    701\n",
      "5.0       0.602975  0.397025  8836  5818  14654\n",
      "6.0       0.741100  0.258900   229    80    309\n",
      "7.0       0.526316  0.473684    10     9     19\n"
     ]
    }
   ],
   "source": [
    "value_counts_ratio(train, '배아_이식_경과일')"
   ]
  },
  {
   "cell_type": "code",
   "execution_count": 182,
   "metadata": {},
   "outputs": [
    {
     "name": "stdout",
     "output_type": "stream",
     "text": [
      "결측값 개수: 9353\n",
      "결측값 개수: 0\n"
     ]
    }
   ],
   "source": [
    "print(\"결측값 개수:\", train['배아_이식_경과일'].isnull().sum())\n",
    "\n",
    "train['배아_이식_경과일'].fillna(-1, inplace=True)\n",
    "test['배아_이식_경과일'].fillna(-1, inplace=True)\n",
    "\n",
    "print(\"결측값 개수:\", train['배아_이식_경과일'].isnull().sum())"
   ]
  },
  {
   "cell_type": "code",
   "execution_count": 183,
   "metadata": {},
   "outputs": [
    {
     "name": "stdout",
     "output_type": "stream",
     "text": [
      "\n",
      "배아_이식_경과일별 임신_성공_여부 비율 및 갯수\n",
      "\n",
      "                 0         1     0     1  Total\n",
      "variable                                       \n",
      "-1.0      0.984818  0.015182  9211   142   9353\n",
      " 0.0      0.707157  0.292843  3330  1379   4709\n",
      " 1.0      0.778742  0.221258   359   102    461\n",
      " 2.0      0.817792  0.182208  2482   553   3035\n",
      " 3.0      0.785989  0.214011  4499  1225   5724\n",
      " 4.0      0.636234  0.363766   446   255    701\n",
      " 5.0      0.602975  0.397025  8836  5818  14654\n",
      " 6.0      0.741100  0.258900   229    80    309\n",
      " 7.0      0.526316  0.473684    10     9     19\n"
     ]
    }
   ],
   "source": [
    "value_counts_ratio(train, '배아_이식_경과일')"
   ]
  },
  {
   "cell_type": "markdown",
   "metadata": {},
   "source": [
    "### 67. 배아_해동_경과일"
   ]
  },
  {
   "cell_type": "markdown",
   "metadata": {},
   "source": [
    "첫 시점으로부터 배아 해동까지 경과한 일수"
   ]
  },
  {
   "cell_type": "code",
   "execution_count": 184,
   "metadata": {},
   "outputs": [
    {
     "name": "stdout",
     "output_type": "stream",
     "text": [
      "\n",
      "배아_해동_경과일별 임신_성공_여부 비율 및 갯수\n",
      "\n",
      "                 0         1       0       1  Total\n",
      "variable                                           \n",
      "0.0       0.724400  0.275600  4676.0  1779.0   6455\n",
      "1.0       0.888889  0.111111     8.0     1.0      9\n",
      "2.0       0.888889  0.111111    24.0     3.0     27\n",
      "3.0       0.983871  0.016129    61.0     1.0     62\n",
      "4.0       1.000000  0.000000     4.0     0.0      4\n",
      "5.0       0.818182  0.181818    27.0     6.0     33\n",
      "6.0       1.000000  0.000000     7.0     0.0      7\n",
      "7.0       1.000000  0.000000     2.0     0.0      2\n"
     ]
    }
   ],
   "source": [
    "value_counts_ratio(train, '배아_해동_경과일')"
   ]
  },
  {
   "cell_type": "code",
   "execution_count": 185,
   "metadata": {},
   "outputs": [
    {
     "data": {
      "text/plain": [
       "0.0    2211\n",
       "3.0      22\n",
       "5.0      19\n",
       "2.0       4\n",
       "1.0       3\n",
       "6.0       2\n",
       "4.0       1\n",
       "Name: 배아_해동_경과일, dtype: int64"
      ]
     },
     "execution_count": 185,
     "metadata": {},
     "output_type": "execute_result"
    }
   ],
   "source": [
    "test['배아_해동_경과일'].value_counts()"
   ]
  },
  {
   "cell_type": "code",
   "execution_count": 186,
   "metadata": {},
   "outputs": [
    {
     "name": "stdout",
     "output_type": "stream",
     "text": [
      "결측값 개수: 32366\n",
      "결측값 개수: 0\n"
     ]
    }
   ],
   "source": [
    "print(\"결측값 개수:\", train['배아_해동_경과일'].isnull().sum())\n",
    "\n",
    "train['배아_해동_경과일'].fillna(-1, inplace=True)\n",
    "test['배아_해동_경과일'].fillna(-1, inplace=True)\n",
    "\n",
    "print(\"결측값 개수:\", train['배아_해동_경과일'].isnull().sum())"
   ]
  },
  {
   "cell_type": "code",
   "execution_count": 187,
   "metadata": {},
   "outputs": [
    {
     "name": "stdout",
     "output_type": "stream",
     "text": [
      "\n",
      "배아_해동_경과일별 임신_성공_여부 비율 및 갯수\n",
      "\n",
      "                 0         1        0       1  Total\n",
      "variable                                            \n",
      "-1.0      0.759841  0.240159  24593.0  7773.0  32366\n",
      " 0.0      0.724400  0.275600   4676.0  1779.0   6455\n",
      " 1.0      0.888889  0.111111      8.0     1.0      9\n",
      " 2.0      0.888889  0.111111     24.0     3.0     27\n",
      " 3.0      0.983871  0.016129     61.0     1.0     62\n",
      " 4.0      1.000000  0.000000      4.0     0.0      4\n",
      " 5.0      0.818182  0.181818     27.0     6.0     33\n",
      " 6.0      1.000000  0.000000      7.0     0.0      7\n",
      " 7.0      1.000000  0.000000      2.0     0.0      2\n"
     ]
    }
   ],
   "source": [
    "value_counts_ratio(train, '배아_해동_경과일')"
   ]
  },
  {
   "cell_type": "code",
   "execution_count": 188,
   "metadata": {},
   "outputs": [],
   "source": [
    "# 파생 변수 생성 함수 정의\n",
    "def calculate_difference(col1, col2):\n",
    "    return np.where((col1 == -1) | (col2 == -1), 'unknown', col2 - col1)\n",
    "\n",
    "# 파생 변수 생성 (train 데이터프레임)\n",
    "train['채취_해동_차이'] = calculate_difference(train['난자_채취_경과일'], train['난자_해동_경과일'])\n",
    "train['해동_혼합_차이'] = calculate_difference(train['난자_해동_경과일'], train['난자_혼합_경과일'])\n",
    "train['혼합_이식_차이'] = calculate_difference(train['난자_혼합_경과일'], train['배아_이식_경과일'])\n",
    "train['이식_해동_차이'] = calculate_difference(train['배아_이식_경과일'], train['배아_해동_경과일'])\n",
    "\n",
    "# 파생 변수 생성 (test 데이터프레임)\n",
    "test['채취_해동_차이'] = calculate_difference(test['난자_채취_경과일'], test['난자_해동_경과일'])\n",
    "test['해동_혼합_차이'] = calculate_difference(test['난자_해동_경과일'], test['난자_혼합_경과일'])\n",
    "test['혼합_이식_차이'] = calculate_difference(test['난자_혼합_경과일'], test['배아_이식_경과일'])\n",
    "test['이식_해동_차이'] = calculate_difference(test['배아_이식_경과일'], test['배아_해동_경과일'])"
   ]
  },
  {
   "cell_type": "code",
   "execution_count": 189,
   "metadata": {},
   "outputs": [],
   "source": [
    "# # 모든 행을 출력하도록 설정\n",
    "pd.set_option('display.max_rows', None)"
   ]
  },
  {
   "cell_type": "code",
   "execution_count": 190,
   "metadata": {},
   "outputs": [
    {
     "name": "stdout",
     "output_type": "stream",
     "text": [
      "Grouped by: 난자_채취_경과일, 난자_혼합_경과일\n",
      "\n",
      "           group  '임신_성공_여부' count     ratio  Total\n",
      "0   (-1.0, -1.0)              1887  0.254176   7424\n",
      "1    (-1.0, 0.0)               633  0.331587   1909\n",
      "2    (-1.0, 1.0)                 0  0.000000      2\n",
      "3    (0.0, -1.0)                25  0.018129   1379\n",
      "4     (0.0, 0.0)              7005  0.248801  28155\n",
      "5     (0.0, 1.0)                11  0.146667     75\n",
      "6     (0.0, 2.0)                 1  0.111111      9\n",
      "7     (0.0, 3.0)                 1  0.200000      5\n",
      "8     (0.0, 4.0)                 0  0.000000      2\n",
      "9     (0.0, 5.0)                 0  0.000000      2\n",
      "10    (0.0, 6.0)                 0  0.000000      3\n"
     ]
    }
   ],
   "source": [
    "summarize_group(train, ['난자_채취_경과일', '난자_혼합_경과일'])"
   ]
  },
  {
   "cell_type": "code",
   "execution_count": 191,
   "metadata": {},
   "outputs": [
    {
     "name": "stdout",
     "output_type": "stream",
     "text": [
      "Grouped by: 배아_이식_경과일, 배아_해동_경과일\n",
      "\n",
      "           group  '임신_성공_여부' count     ratio  Total\n",
      "0   (-1.0, -1.0)               123  0.013944   8821\n",
      "1    (-1.0, 0.0)                19  0.041485    458\n",
      "2    (-1.0, 1.0)                 0  0.000000      4\n",
      "3    (-1.0, 2.0)                 0  0.000000      5\n",
      "4    (-1.0, 3.0)                 0  0.000000     36\n",
      "5    (-1.0, 4.0)                 0  0.000000      3\n",
      "6    (-1.0, 5.0)                 0  0.000000     18\n",
      "7    (-1.0, 6.0)                 0  0.000000      6\n",
      "8    (-1.0, 7.0)                 0  0.000000      2\n",
      "9    (0.0, -1.0)                10  0.555556     18\n",
      "10    (0.0, 0.0)              1369  0.291835   4691\n",
      "11   (1.0, -1.0)                 0  0.000000     20\n",
      "12    (1.0, 0.0)               102  0.231293    441\n",
      "13   (2.0, -1.0)               457  0.170650   2678\n",
      "14    (2.0, 0.0)                96  0.281525    341\n",
      "15    (2.0, 2.0)                 0  0.000000     16\n",
      "16   (3.0, -1.0)              1171  0.211296   5542\n",
      "17    (3.0, 0.0)                52  0.339869    153\n",
      "18    (3.0, 1.0)                 0  0.000000      3\n",
      "19    (3.0, 2.0)                 0  0.000000      2\n",
      "20    (3.0, 3.0)                 1  0.045455     22\n",
      "21    (3.0, 5.0)                 1  1.000000      1\n",
      "22    (3.0, 6.0)                 0  0.000000      1\n",
      "23   (4.0, -1.0)               130  0.355191    366\n",
      "24    (4.0, 0.0)               125  0.373134    335\n",
      "25   (5.0, -1.0)              5799  0.397110  14603\n",
      "26    (5.0, 0.0)                10  0.384615     26\n",
      "27    (5.0, 1.0)                 1  0.500000      2\n",
      "28    (5.0, 2.0)                 3  0.750000      4\n",
      "29    (5.0, 3.0)                 0  0.000000      4\n",
      "30    (5.0, 4.0)                 0  0.000000      1\n",
      "31    (5.0, 5.0)                 5  0.357143     14\n",
      "32   (6.0, -1.0)                78  0.257426    303\n",
      "33    (6.0, 0.0)                 2  0.333333      6\n",
      "34   (7.0, -1.0)                 5  0.333333     15\n",
      "35    (7.0, 0.0)                 4  1.000000      4\n"
     ]
    }
   ],
   "source": [
    "summarize_group(train, ['배아_이식_경과일', '배아_해동_경과일'])"
   ]
  },
  {
   "cell_type": "code",
   "execution_count": 192,
   "metadata": {},
   "outputs": [
    {
     "name": "stdout",
     "output_type": "stream",
     "text": [
      "\n",
      "이식_해동_차이별 임신_성공_여부 비율 및 갯수\n",
      "\n",
      "                 0         1        0       1  Total\n",
      "variable                                            \n",
      "-1.0      0.770270  0.229730    342.0   102.0    444\n",
      "-2.0      0.724138  0.275862    252.0    96.0    348\n",
      "-3.0      0.649682  0.350318    102.0    55.0    157\n",
      "-4.0      0.626113  0.373887    211.0   126.0    337\n",
      "-5.0      0.615385  0.384615     16.0    10.0     26\n",
      "-6.0      0.666667  0.333333      4.0     2.0      6\n",
      "-7.0      0.000000  1.000000      0.0     4.0      4\n",
      "0.0       0.710099  0.289901   3368.0  1375.0   4743\n",
      "2.0       0.000000  1.000000      0.0     1.0      1\n",
      "3.0       1.000000  0.000000      1.0     0.0      1\n",
      "unknown   0.763147  0.236853  25106.0  7792.0  32898\n"
     ]
    }
   ],
   "source": [
    "value_counts_ratio(train, '이식_해동_차이')"
   ]
  },
  {
   "cell_type": "markdown",
   "metadata": {},
   "source": [
    "### 68. 임신_성공_여부"
   ]
  },
  {
   "cell_type": "markdown",
   "metadata": {},
   "source": [
    "해당 시술로부터 임신 성공 여부"
   ]
  },
  {
   "cell_type": "code",
   "execution_count": 193,
   "metadata": {},
   "outputs": [
    {
     "name": "stdout",
     "output_type": "stream",
     "text": [
      "\n",
      "임신_성공_여부별 임신_성공_여부 비율 및 갯수\n",
      "\n",
      "            0    1        0       1  Total\n",
      "variable                                  \n",
      "0         1.0  0.0  29402.0     0.0  29402\n",
      "1         0.0  1.0      0.0  9563.0   9563\n"
     ]
    }
   ],
   "source": [
    "value_counts_ratio(train, '임신_성공_여부')"
   ]
  },
  {
   "cell_type": "markdown",
   "metadata": {},
   "source": [
    "## 변수 상테 확인"
   ]
  },
  {
   "cell_type": "code",
   "execution_count": 194,
   "metadata": {},
   "outputs": [
    {
     "name": "stdout",
     "output_type": "stream",
     "text": [
      "<class 'pandas.core.frame.DataFrame'>\n",
      "Int64Index: 38965 entries, 0 to 38964\n",
      "Data columns (total 90 columns):\n",
      " #   Column                  Non-Null Count  Dtype   \n",
      "---  ------                  --------------  -----   \n",
      " 0   ID                      38965 non-null  object  \n",
      " 1   시술_당시_나이                38965 non-null  object  \n",
      " 2   임신_시도_또는_마지막_임신_경과_연수   38965 non-null  category\n",
      " 3   시술_유형                   38965 non-null  object  \n",
      " 4   배란_자극_여부                38965 non-null  int64   \n",
      " 5   배란_유도_유형                38965 non-null  object  \n",
      " 6   단일_배아_이식_여부             38001 non-null  float64 \n",
      " 7   착상_전_유전_검사_사용_여부        38965 non-null  float64 \n",
      " 8   착상_전_유전_진단_사용_여부        38001 non-null  float64 \n",
      " 9   남성_주_불임_원인              38965 non-null  int64   \n",
      " 10  남성_부_불임_원인              38965 non-null  int64   \n",
      " 11  여성_주_불임_원인              38965 non-null  int64   \n",
      " 12  여성_부_불임_원인              38965 non-null  int64   \n",
      " 13  부부_주_불임_원인              38965 non-null  int64   \n",
      " 14  부부_부_불임_원인              38965 non-null  int64   \n",
      " 15  불명확_불임_원인               38965 non-null  int64   \n",
      " 16  불임_원인_-_난관_질환           38965 non-null  int64   \n",
      " 17  불임_원인_-_남성_요인           38965 non-null  int64   \n",
      " 18  불임_원인_-_배란_장애           38965 non-null  int64   \n",
      " 19  불임_원인_-_자궁경부_문제         38965 non-null  int64   \n",
      " 20  불임_원인_-_자궁내막증           38965 non-null  int64   \n",
      " 21  불임_원인_-_정자_농도           38965 non-null  int64   \n",
      " 22  불임_원인_-_정자_형태           38965 non-null  int64   \n",
      " 23  배아_생성_주요_이유             38965 non-null  object  \n",
      " 24  총_시술_횟수                 38965 non-null  int64   \n",
      " 25  클리닉_내_총_시술_횟수           38965 non-null  int64   \n",
      " 26  IVF_시술_횟수               38965 non-null  int64   \n",
      " 27  DI_시술_횟수                38965 non-null  int64   \n",
      " 28  총_임신_횟수                 38965 non-null  int64   \n",
      " 29  IVF_임신_횟수               38965 non-null  int64   \n",
      " 30  DI_임신_횟수                38965 non-null  int64   \n",
      " 31  총_출산_횟수                 38965 non-null  int64   \n",
      " 32  IVF_출산_횟수               38965 non-null  int64   \n",
      " 33  DI_출산_횟수                38965 non-null  int64   \n",
      " 34  총_생성_배아_수               38001 non-null  float64 \n",
      " 35  미세주입된_난자_수              38001 non-null  float64 \n",
      " 36  미세주입에서_생성된_배아_수         38001 non-null  float64 \n",
      " 37  이식된_배아_수                38001 non-null  float64 \n",
      " 38  미세주입_배아_이식_수            38001 non-null  float64 \n",
      " 39  저장된_배아_수                38001 non-null  float64 \n",
      " 40  미세주입_후_저장된_배아_수         38001 non-null  float64 \n",
      " 41  해동된_배아_수                38001 non-null  float64 \n",
      " 42  해동_난자_수                 38001 non-null  float64 \n",
      " 43  수집된_신선_난자_수             38001 non-null  float64 \n",
      " 44  저장된_신선_난자_수             38001 non-null  float64 \n",
      " 45  혼합된_난자_수                38001 non-null  float64 \n",
      " 46  파트너_정자와_혼합된_난자_수        38001 non-null  float64 \n",
      " 47  기증자_정자와_혼합된_난자_수        38001 non-null  float64 \n",
      " 48  난자_출처                   38965 non-null  object  \n",
      " 49  정자_출처                   38965 non-null  object  \n",
      " 50  난자_기증자_나이               38965 non-null  object  \n",
      " 51  정자_기증자_나이               38965 non-null  object  \n",
      " 52  동결_배아_사용_여부             38001 non-null  float64 \n",
      " 53  신선_배아_사용_여부             38001 non-null  float64 \n",
      " 54  기증_배아_사용_여부             38001 non-null  float64 \n",
      " 55  대리모_여부                  38001 non-null  float64 \n",
      " 56  PGD_시술_여부               38965 non-null  float64 \n",
      " 57  PGS_시술_여부               38965 non-null  float64 \n",
      " 58  난자_채취_경과일               38965 non-null  float64 \n",
      " 59  난자_해동_경과일               38965 non-null  float64 \n",
      " 60  난자_혼합_경과일               38965 non-null  float64 \n",
      " 61  배아_이식_경과일               38965 non-null  float64 \n",
      " 62  배아_해동_경과일               38965 non-null  float64 \n",
      " 63  임신_성공_여부                38965 non-null  int64   \n",
      " 64  변환된_특정_시술_유형            38965 non-null  object  \n",
      " 65  특정_시술_유형_ICSI_더미        38965 non-null  int64   \n",
      " 66  특정_시술_유형_IVF_더미         38965 non-null  int64   \n",
      " 67  특정_시술_유형_AH_더미          38965 non-null  int64   \n",
      " 68  특정_시술_유형_BLASTOCYST_더미  38965 non-null  int64   \n",
      " 69  배아_생성_주요_이유_현재시술용       38965 non-null  int32   \n",
      " 70  배아_생성_주요_이유_기증용         38965 non-null  int32   \n",
      " 71  배아_생성_주요_이유_난자저장용       38965 non-null  int32   \n",
      " 72  배아_생성_주요_이유_배아저장용       38965 non-null  int32   \n",
      " 73  IVF_임신_시술_비율            38965 non-null  float64 \n",
      " 74  IVF_출산_임신_비율            38965 non-null  float64 \n",
      " 75  DI_임신_시술_비율             38965 non-null  float64 \n",
      " 76  DI_출산_임신_비율             38965 non-null  float64 \n",
      " 77  임신_성공률                  38965 non-null  float64 \n",
      " 78  출산_성공률                  38965 non-null  float64 \n",
      " 79  임신_성공율                  38965 non-null  float64 \n",
      " 80  ICSI_효율성                38965 non-null  float64 \n",
      " 81  저장_배아_비율                38965 non-null  float64 \n",
      " 82  해동_난자_비율                38965 non-null  float64 \n",
      " 83  생성_배아_유지율               38965 non-null  float64 \n",
      " 84  파트너_정자_사용_비율            38965 non-null  float64 \n",
      " 85  기증자_나이_더미               38965 non-null  int32   \n",
      " 86  채취_해동_차이                38965 non-null  object  \n",
      " 87  해동_혼합_차이                38965 non-null  object  \n",
      " 88  혼합_이식_차이                38965 non-null  object  \n",
      " 89  이식_해동_차이                38965 non-null  object  \n",
      "dtypes: category(1), float64(40), int32(5), int64(30), object(14)\n",
      "memory usage: 26.0+ MB\n"
     ]
    }
   ],
   "source": [
    "train.info()"
   ]
  },
  {
   "cell_type": "code",
   "execution_count": 195,
   "metadata": {},
   "outputs": [
    {
     "name": "stdout",
     "output_type": "stream",
     "text": [
      "<class 'pandas.core.frame.DataFrame'>\n",
      "Int64Index: 13610 entries, 0 to 13609\n",
      "Data columns (total 89 columns):\n",
      " #   Column                  Non-Null Count  Dtype   \n",
      "---  ------                  --------------  -----   \n",
      " 0   ID                      13610 non-null  object  \n",
      " 1   시술_당시_나이                13610 non-null  object  \n",
      " 2   임신_시도_또는_마지막_임신_경과_연수   13610 non-null  category\n",
      " 3   시술_유형                   13610 non-null  object  \n",
      " 4   배란_자극_여부                13610 non-null  int64   \n",
      " 5   배란_유도_유형                13610 non-null  object  \n",
      " 6   단일_배아_이식_여부             13327 non-null  float64 \n",
      " 7   착상_전_유전_검사_사용_여부        13610 non-null  float64 \n",
      " 8   착상_전_유전_진단_사용_여부        13327 non-null  float64 \n",
      " 9   남성_주_불임_원인              13610 non-null  int64   \n",
      " 10  남성_부_불임_원인              13610 non-null  int64   \n",
      " 11  여성_주_불임_원인              13610 non-null  int64   \n",
      " 12  여성_부_불임_원인              13610 non-null  int64   \n",
      " 13  부부_주_불임_원인              13610 non-null  int64   \n",
      " 14  부부_부_불임_원인              13610 non-null  int64   \n",
      " 15  불명확_불임_원인               13610 non-null  int64   \n",
      " 16  불임_원인_-_난관_질환           13610 non-null  int64   \n",
      " 17  불임_원인_-_남성_요인           13610 non-null  int64   \n",
      " 18  불임_원인_-_배란_장애           13610 non-null  int64   \n",
      " 19  불임_원인_-_자궁경부_문제         13610 non-null  int64   \n",
      " 20  불임_원인_-_자궁내막증           13610 non-null  int64   \n",
      " 21  불임_원인_-_정자_농도           13610 non-null  int64   \n",
      " 22  불임_원인_-_정자_형태           13610 non-null  int64   \n",
      " 23  배아_생성_주요_이유             13610 non-null  object  \n",
      " 24  총_시술_횟수                 13610 non-null  int64   \n",
      " 25  클리닉_내_총_시술_횟수           13610 non-null  int64   \n",
      " 26  IVF_시술_횟수               13610 non-null  int64   \n",
      " 27  DI_시술_횟수                13610 non-null  int64   \n",
      " 28  총_임신_횟수                 13610 non-null  int64   \n",
      " 29  IVF_임신_횟수               13610 non-null  int64   \n",
      " 30  DI_임신_횟수                13610 non-null  int64   \n",
      " 31  총_출산_횟수                 13610 non-null  int64   \n",
      " 32  IVF_출산_횟수               13610 non-null  int64   \n",
      " 33  DI_출산_횟수                13610 non-null  int64   \n",
      " 34  총_생성_배아_수               13327 non-null  float64 \n",
      " 35  미세주입된_난자_수              13327 non-null  float64 \n",
      " 36  미세주입에서_생성된_배아_수         13327 non-null  float64 \n",
      " 37  이식된_배아_수                13327 non-null  float64 \n",
      " 38  미세주입_배아_이식_수            13327 non-null  float64 \n",
      " 39  저장된_배아_수                13327 non-null  float64 \n",
      " 40  미세주입_후_저장된_배아_수         13327 non-null  float64 \n",
      " 41  해동된_배아_수                13327 non-null  float64 \n",
      " 42  해동_난자_수                 13327 non-null  float64 \n",
      " 43  수집된_신선_난자_수             13327 non-null  float64 \n",
      " 44  저장된_신선_난자_수             13327 non-null  float64 \n",
      " 45  혼합된_난자_수                13327 non-null  float64 \n",
      " 46  파트너_정자와_혼합된_난자_수        13327 non-null  float64 \n",
      " 47  기증자_정자와_혼합된_난자_수        13327 non-null  float64 \n",
      " 48  난자_출처                   13610 non-null  object  \n",
      " 49  정자_출처                   13610 non-null  object  \n",
      " 50  난자_기증자_나이               13610 non-null  object  \n",
      " 51  정자_기증자_나이               13610 non-null  object  \n",
      " 52  동결_배아_사용_여부             13327 non-null  float64 \n",
      " 53  신선_배아_사용_여부             13327 non-null  float64 \n",
      " 54  기증_배아_사용_여부             13327 non-null  float64 \n",
      " 55  대리모_여부                  13327 non-null  float64 \n",
      " 56  PGD_시술_여부               13610 non-null  float64 \n",
      " 57  PGS_시술_여부               13610 non-null  float64 \n",
      " 58  난자_채취_경과일               13610 non-null  float64 \n",
      " 59  난자_해동_경과일               13610 non-null  float64 \n",
      " 60  난자_혼합_경과일               13610 non-null  float64 \n",
      " 61  배아_이식_경과일               13610 non-null  float64 \n",
      " 62  배아_해동_경과일               13610 non-null  float64 \n",
      " 63  변환된_특정_시술_유형            13610 non-null  object  \n",
      " 64  특정_시술_유형_ICSI_더미        13610 non-null  int64   \n",
      " 65  특정_시술_유형_IVF_더미         13610 non-null  int64   \n",
      " 66  특정_시술_유형_AH_더미          13610 non-null  int64   \n",
      " 67  특정_시술_유형_BLASTOCYST_더미  13610 non-null  int64   \n",
      " 68  배아_생성_주요_이유_현재시술용       13610 non-null  int32   \n",
      " 69  배아_생성_주요_이유_기증용         13610 non-null  int32   \n",
      " 70  배아_생성_주요_이유_난자저장용       13610 non-null  int32   \n",
      " 71  배아_생성_주요_이유_배아저장용       13610 non-null  int32   \n",
      " 72  IVF_임신_시술_비율            13610 non-null  float64 \n",
      " 73  IVF_출산_임신_비율            13610 non-null  float64 \n",
      " 74  DI_임신_시술_비율             13610 non-null  float64 \n",
      " 75  DI_출산_임신_비율             13610 non-null  float64 \n",
      " 76  임신_성공률                  13610 non-null  float64 \n",
      " 77  출산_성공률                  13610 non-null  float64 \n",
      " 78  임신_성공율                  13610 non-null  float64 \n",
      " 79  ICSI_효율성                13610 non-null  float64 \n",
      " 80  저장_배아_비율                13610 non-null  float64 \n",
      " 81  해동_난자_비율                13610 non-null  float64 \n",
      " 82  생성_배아_유지율               13610 non-null  float64 \n",
      " 83  파트너_정자_사용_비율            13610 non-null  float64 \n",
      " 84  기증자_나이_더미               13610 non-null  int32   \n",
      " 85  채취_해동_차이                13610 non-null  object  \n",
      " 86  해동_혼합_차이                13610 non-null  object  \n",
      " 87  혼합_이식_차이                13610 non-null  object  \n",
      " 88  이식_해동_차이                13610 non-null  object  \n",
      "dtypes: category(1), float64(40), int32(5), int64(29), object(14)\n",
      "memory usage: 9.0+ MB\n"
     ]
    }
   ],
   "source": [
    "test.info()"
   ]
  },
  {
   "cell_type": "markdown",
   "metadata": {},
   "source": [
    "## 데이터 저장"
   ]
  },
  {
   "cell_type": "code",
   "execution_count": 196,
   "metadata": {},
   "outputs": [],
   "source": [
    "# CSV 파일 저장\n",
    "train.to_csv('../data/train_dataset_25_TRDQAZ.csv', index=False, encoding='utf-8-sig')\n",
    "test.to_csv('../data/test_dataset_25_TRDQAZ.csv', index=False, encoding='utf-8-sig')"
   ]
  },
  {
   "cell_type": "markdown",
   "metadata": {},
   "source": [
    "."
   ]
  }
 ],
 "metadata": {
  "kernelspec": {
   "display_name": "Python 3",
   "language": "python",
   "name": "python3"
  },
  "language_info": {
   "codemirror_mode": {
    "name": "ipython",
    "version": 3
   },
   "file_extension": ".py",
   "mimetype": "text/x-python",
   "name": "python",
   "nbconvert_exporter": "python",
   "pygments_lexer": "ipython3",
   "version": "3.7.8"
  }
 },
 "nbformat": 4,
 "nbformat_minor": 2
}
