{
 "cells": [
  {
   "cell_type": "markdown",
   "metadata": {},
   "source": [
    "## 난임 환자 대상 임신 성공 여부 예측"
   ]
  },
  {
   "cell_type": "markdown",
   "metadata": {},
   "source": [
    "### LGAimers 6th 온라인 해커톤"
   ]
  },
  {
   "cell_type": "markdown",
   "metadata": {},
   "source": [
    "Import"
   ]
  },
  {
   "cell_type": "code",
   "execution_count": 1,
   "metadata": {},
   "outputs": [],
   "source": [
    "import pandas as pd\n",
    "import optuna\n",
    "from sklearn.preprocessing import OrdinalEncoder\n",
    "from sklearn.model_selection import train_test_split\n",
    "from sklearn.metrics import accuracy_score, f1_score, roc_auc_score, confusion_matrix, ConfusionMatrixDisplay\n",
    "import matplotlib.pyplot as plt\n",
    "import lightgbm as lgb"
   ]
  },
  {
   "cell_type": "markdown",
   "metadata": {},
   "source": [
    "### Data Load"
   ]
  },
  {
   "cell_type": "code",
   "execution_count": 2,
   "metadata": {},
   "outputs": [],
   "source": [
    "# 데이터 로드\n",
    "Total_train = pd.read_csv('../data/Total_train_dataset_32.csv')\n",
    "Total_test = pd.read_csv('../data/Total_test_dataset_32.csv')"
   ]
  },
  {
   "cell_type": "code",
   "execution_count": 3,
   "metadata": {},
   "outputs": [],
   "source": [
    "# ID 열을 제외한 특성과 타겟 변수 분리\n",
    "Total_X = Total_train.drop(['임신_성공_여부', 'ID'], axis=1)\n",
    "Total_y = Total_train['임신_성공_여부']"
   ]
  },
  {
   "cell_type": "markdown",
   "metadata": {},
   "source": [
    "### 인코딩 "
   ]
  },
  {
   "cell_type": "code",
   "execution_count": 4,
   "metadata": {},
   "outputs": [],
   "source": [
    "Total_categorical_columns = [\n",
    "    \"시술_당시_나이\",\n",
    "    \"배란_유도_유형\",\n",
    "    \"난자_출처\",\n",
    "    \"정자_출처\",\n",
    "    \"난자_기증자_나이\",\n",
    "    \"정자_기증자_나이\"\n",
    "]"
   ]
  },
  {
   "cell_type": "code",
   "execution_count": 5,
   "metadata": {},
   "outputs": [],
   "source": [
    "# 모든 범주형 변수를 문자열로 변환\n",
    "Total_X[Total_categorical_columns] = Total_X[Total_categorical_columns].astype(str)\n",
    "Total_test[Total_categorical_columns] = Total_test[Total_categorical_columns].astype(str)\n",
    "\n",
    "# OrdinalEncoder를 사용하여 범주형 변수 인코딩\n",
    "Total_encoder = OrdinalEncoder(handle_unknown='use_encoded_value', unknown_value=-1)\n",
    "\n",
    "Total_X[Total_categorical_columns] = Total_encoder.fit_transform(Total_X[Total_categorical_columns])\n",
    "Total_test[Total_categorical_columns] = Total_encoder.transform(Total_test[Total_categorical_columns])"
   ]
  },
  {
   "cell_type": "markdown",
   "metadata": {},
   "source": [
    "## Modeling"
   ]
  },
  {
   "cell_type": "code",
   "execution_count": null,
   "metadata": {},
   "outputs": [
    {
     "ename": "",
     "evalue": "",
     "output_type": "error",
     "traceback": [
      "\u001b[1;31m현재 셀 또는 이전 셀에서 코드를 실행하는 동안 Kernel이 충돌했습니다. \n",
      "\u001b[1;31m셀의 코드를 검토하여 가능한 오류 원인을 식별하세요. \n",
      "\u001b[1;31m자세한 내용을 보려면 <a href='https://aka.ms/vscodeJupyterKernelCrash'>여기</a>를 클릭하세요. \n",
      "\u001b[1;31m자세한 내용은 Jupyter <a href='command:jupyter.viewOutput'>로그</a>를 참조하세요."
     ]
    }
   ],
   "source": [
    "# 데이터 분할\n",
    "Total_X_train, Total_X_test, Total_y_train, Total_y_test = train_test_split(Total_X, Total_y, test_size=0.2, random_state=42)"
   ]
  },
  {
   "cell_type": "markdown",
   "metadata": {},
   "source": [
    "### Total 데이터"
   ]
  },
  {
   "cell_type": "markdown",
   "metadata": {},
   "source": [
    "optuna"
   ]
  },
  {
   "cell_type": "code",
   "execution_count": null,
   "metadata": {},
   "outputs": [
    {
     "name": "stderr",
     "output_type": "stream",
     "text": [
      "[I 2025-02-17 18:41:26,984] A new study created in memory with name: no-name-3df18429-d204-40da-8108-ec2310c84877\n",
      "[I 2025-02-17 18:52:35,416] Trial 0 finished with value: 0.7296051149898266 and parameters: {'n_estimators': 1994, 'max_depth': 60, 'min_samples_split': 12, 'min_samples_leaf': 2, 'criterion': 'entropy', 'bootstrap': False}. Best is trial 0 with value: 0.7296051149898266.\n",
      "[I 2025-02-17 19:11:07,476] Trial 1 finished with value: 0.7338994020109713 and parameters: {'n_estimators': 3737, 'max_depth': 33, 'min_samples_split': 16, 'min_samples_leaf': 5, 'criterion': 'entropy', 'bootstrap': False}. Best is trial 1 with value: 0.7338994020109713.\n",
      "[I 2025-02-17 19:19:09,165] Trial 2 finished with value: 0.7348343819313456 and parameters: {'n_estimators': 1622, 'max_depth': 73, 'min_samples_split': 4, 'min_samples_leaf': 8, 'criterion': 'entropy', 'bootstrap': False}. Best is trial 2 with value: 0.7348343819313456.\n",
      "[I 2025-02-17 19:41:08,014] Trial 3 finished with value: 0.730778879584336 and parameters: {'n_estimators': 3904, 'max_depth': 79, 'min_samples_split': 5, 'min_samples_leaf': 3, 'criterion': 'entropy', 'bootstrap': False}. Best is trial 2 with value: 0.7348343819313456.\n",
      "[I 2025-02-17 20:00:26,003] Trial 4 finished with value: 0.7262806822334877 and parameters: {'n_estimators': 3196, 'max_depth': 48, 'min_samples_split': 5, 'min_samples_leaf': 2, 'criterion': 'entropy', 'bootstrap': False}. Best is trial 2 with value: 0.7348343819313456.\n",
      "[I 2025-02-17 20:05:35,594] Trial 5 finished with value: 0.7338047280073992 and parameters: {'n_estimators': 1002, 'max_depth': 47, 'min_samples_split': 14, 'min_samples_leaf': 5, 'criterion': 'entropy', 'bootstrap': False}. Best is trial 2 with value: 0.7348343819313456.\n",
      "[I 2025-02-17 20:15:02,388] Trial 6 finished with value: 0.7344181506698972 and parameters: {'n_estimators': 1958, 'max_depth': 43, 'min_samples_split': 5, 'min_samples_leaf': 7, 'criterion': 'entropy', 'bootstrap': False}. Best is trial 2 with value: 0.7348343819313456.\n",
      "[I 2025-02-17 20:26:47,514] Trial 7 finished with value: 0.7344703377987951 and parameters: {'n_estimators': 2376, 'max_depth': 60, 'min_samples_split': 5, 'min_samples_leaf': 7, 'criterion': 'entropy', 'bootstrap': False}. Best is trial 2 with value: 0.7348343819313456.\n",
      "[I 2025-02-17 20:33:11,008] Trial 8 finished with value: 0.7339931107656108 and parameters: {'n_estimators': 1297, 'max_depth': 24, 'min_samples_split': 12, 'min_samples_leaf': 3, 'criterion': 'entropy', 'bootstrap': False}. Best is trial 2 with value: 0.7348343819313456.\n",
      "[I 2025-02-17 20:48:23,422] Trial 9 finished with value: 0.7343352765857527 and parameters: {'n_estimators': 3081, 'max_depth': 32, 'min_samples_split': 4, 'min_samples_leaf': 6, 'criterion': 'entropy', 'bootstrap': False}. Best is trial 2 with value: 0.7348343819313456.\n",
      "[I 2025-02-17 20:56:00,875] Trial 10 finished with value: 0.7348333549860894 and parameters: {'n_estimators': 1562, 'max_depth': 78, 'min_samples_split': 8, 'min_samples_leaf': 8, 'criterion': 'entropy', 'bootstrap': False}. Best is trial 2 with value: 0.7348343819313456.\n",
      "[I 2025-02-17 21:03:35,757] Trial 11 finished with value: 0.7348247831775254 and parameters: {'n_estimators': 1579, 'max_depth': 80, 'min_samples_split': 8, 'min_samples_leaf': 8, 'criterion': 'entropy', 'bootstrap': False}. Best is trial 2 with value: 0.7348343819313456.\n",
      "[I 2025-02-17 21:11:31,210] Trial 12 finished with value: 0.7348366746463365 and parameters: {'n_estimators': 1639, 'max_depth': 68, 'min_samples_split': 8, 'min_samples_leaf': 8, 'criterion': 'entropy', 'bootstrap': False}. Best is trial 12 with value: 0.7348366746463365.\n",
      "[I 2025-02-17 21:22:24,960] Trial 13 finished with value: 0.7344570870206621 and parameters: {'n_estimators': 2218, 'max_depth': 66, 'min_samples_split': 2, 'min_samples_leaf': 7, 'criterion': 'entropy', 'bootstrap': False}. Best is trial 12 with value: 0.7348366746463365.\n"
     ]
    }
   ],
   "source": [
    "from sklearn.ensemble import ExtraTreesClassifier\n",
    "from sklearn.metrics import roc_auc_score\n",
    "\n",
    "# 목적 함수 정의\n",
    "def objective(trial):\n",
    "    param = {\n",
    "        'n_estimators': trial.suggest_int('n_estimators', 1000, 4000)\n",
    "        , 'max_depth': trial.suggest_int('max_depth', 20, 80)\n",
    "        , 'min_samples_split': trial.suggest_int('min_samples_split', 2, 16)\n",
    "        , 'min_samples_leaf': trial.suggest_int('min_samples_leaf', 1, 8)\n",
    "        , 'criterion': trial.suggest_categorical('criterion', ['entropy'])\n",
    "        , 'bootstrap': trial.suggest_categorical('bootstrap', [False])\n",
    "        \n",
    "        , 'random_state': 42\n",
    "        , 'n_jobs': -1\n",
    "    }\n",
    "\n",
    "    model = ExtraTreesClassifier(**param)\n",
    "    model.fit(Total_X_train, Total_y_train)\n",
    "    \n",
    "    y_pred_proba = model.predict_proba(Total_X_test)[:, 1]\n",
    "    \n",
    "    auc = roc_auc_score(Total_y_test, y_pred_proba)\n",
    "    return auc\n",
    "\n",
    "# Optuna 스터디 생성 및 최적화 실행\n",
    "study = optuna.create_study(direction='maximize')\n",
    "study.optimize(objective, n_trials=500)\n",
    "\n",
    "# 최적의 하이퍼파라미터 출력\n",
    "print(\"Best trial:\")\n",
    "trial = study.best_trial\n",
    "print(f\"  Value: {trial.value}\")\n",
    "print(\"  Params: \")\n",
    "for key, value in trial.params.items():\n",
    "    print(f\"    {key}: {value}\")\n"
   ]
  },
  {
   "cell_type": "markdown",
   "metadata": {},
   "source": [
    "."
   ]
  }
 ],
 "metadata": {
  "kernelspec": {
   "display_name": "Python 3",
   "language": "python",
   "name": "python3"
  },
  "language_info": {
   "codemirror_mode": {
    "name": "ipython",
    "version": 3
   },
   "file_extension": ".py",
   "mimetype": "text/x-python",
   "name": "python",
   "nbconvert_exporter": "python",
   "pygments_lexer": "ipython3",
   "version": "3.7.8"
  }
 },
 "nbformat": 4,
 "nbformat_minor": 2
}
