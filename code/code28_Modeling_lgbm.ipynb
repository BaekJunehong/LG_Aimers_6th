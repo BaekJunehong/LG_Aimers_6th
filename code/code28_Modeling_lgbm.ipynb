{
 "cells": [
  {
   "cell_type": "markdown",
   "metadata": {},
   "source": [
    "## 난임 환자 대상 임신 성공 여부 예측"
   ]
  },
  {
   "cell_type": "markdown",
   "metadata": {},
   "source": [
    "### LGAimers 6th 온라인 해커톤"
   ]
  },
  {
   "cell_type": "markdown",
   "metadata": {},
   "source": [
    "Import"
   ]
  },
  {
   "cell_type": "code",
   "execution_count": 19,
   "metadata": {},
   "outputs": [],
   "source": [
    "import pandas as pd\n",
    "import lightgbm as lgb\n",
    "from sklearn.preprocessing import OrdinalEncoder\n",
    "from sklearn.model_selection import train_test_split\n",
    "from sklearn.metrics import accuracy_score, f1_score, roc_auc_score, confusion_matrix, ConfusionMatrixDisplay\n",
    "import matplotlib.pyplot as plt"
   ]
  },
  {
   "cell_type": "markdown",
   "metadata": {},
   "source": [
    "### Data Load"
   ]
  },
  {
   "cell_type": "code",
   "execution_count": 20,
   "metadata": {},
   "outputs": [],
   "source": [
    "# 데이터 로드\n",
    "IVF_train = pd.read_csv('../data/IVF_train_dataset_28.csv')\n",
    "IVF_test = pd.read_csv('../data/IVF_test_dataset_28.csv')\n",
    "\n",
    "DI_train = pd.read_csv('../data/DI_train_dataset_28.csv')\n",
    "DI_test = pd.read_csv('../data/DI_test_dataset_28.csv')"
   ]
  },
  {
   "cell_type": "code",
   "execution_count": 21,
   "metadata": {},
   "outputs": [],
   "source": [
    "# ID 열을 제외한 특성과 타겟 변수 분리\n",
    "IVF_X = IVF_train.drop(['임신_성공_여부', 'ID'], axis=1)\n",
    "IVF_y = IVF_train['임신_성공_여부']\n",
    "\n",
    "DI_X = DI_train.drop(['임신_성공_여부', 'ID'], axis=1)\n",
    "DI_y = DI_train['임신_성공_여부']"
   ]
  },
  {
   "cell_type": "code",
   "execution_count": 22,
   "metadata": {},
   "outputs": [
    {
     "name": "stdout",
     "output_type": "stream",
     "text": [
      "IVF_X shape: (250052, 60)\n",
      "IVF_test shape: (87891, 60)\n",
      "DI_X shape: (6289, 31)\n",
      "DI_test shape: (2176, 31)\n"
     ]
    }
   ],
   "source": [
    "print(f\"IVF_X shape: {IVF_X.shape}\")\n",
    "print(f\"IVF_test shape: {IVF_test.drop('ID', axis=1).shape}\")\n",
    "print(f\"DI_X shape: {DI_X.shape}\")\n",
    "print(f\"DI_test shape: {DI_test.drop('ID', axis=1).shape}\")"
   ]
  },
  {
   "cell_type": "markdown",
   "metadata": {},
   "source": [
    "### 인코딩 "
   ]
  },
  {
   "cell_type": "code",
   "execution_count": 23,
   "metadata": {},
   "outputs": [],
   "source": [
    "IVF_categorical_columns = [\n",
    "    \"시술_시기_코드\",\n",
    "    \"시술_당시_나이\",\n",
    "    \"특정_시술_유형\",\n",
    "    \"배란_유도_유형\",\n",
    "    \"난자_출처\",\n",
    "    \"정자_출처\",\n",
    "    \"난자_기증자_나이\",\n",
    "    \"정자_기증자_나이\"\n",
    "]"
   ]
  },
  {
   "cell_type": "code",
   "execution_count": 24,
   "metadata": {},
   "outputs": [],
   "source": [
    "DI_categorical_columns = [\n",
    "    \"시술_시기_코드\",\n",
    "    \"시술_당시_나이\",\n",
    "    \"특정_시술_유형\",\n",
    "    \"정자_기증자_나이\"\n",
    "]"
   ]
  },
  {
   "cell_type": "code",
   "execution_count": 25,
   "metadata": {},
   "outputs": [],
   "source": [
    "# 모든 범주형 변수를 문자열로 변환\n",
    "IVF_X[IVF_categorical_columns] = IVF_X[IVF_categorical_columns].astype(str)\n",
    "DI_X[DI_categorical_columns] = DI_X[DI_categorical_columns].astype(str)\n",
    "IVF_test[IVF_categorical_columns] = IVF_test[IVF_categorical_columns].astype(str)\n",
    "DI_test[DI_categorical_columns] = DI_test[DI_categorical_columns].astype(str)\n",
    "\n",
    "# OrdinalEncoder를 사용하여 범주형 변수 인코딩\n",
    "IVF_encoder = OrdinalEncoder(handle_unknown='use_encoded_value', unknown_value=-1)\n",
    "DI_encoder = OrdinalEncoder(handle_unknown='use_encoded_value', unknown_value=-1)\n",
    "\n",
    "IVF_X[IVF_categorical_columns] = IVF_encoder.fit_transform(IVF_X[IVF_categorical_columns])\n",
    "DI_X[DI_categorical_columns] = DI_encoder.fit_transform(DI_X[DI_categorical_columns])\n",
    "IVF_test[IVF_categorical_columns] = IVF_encoder.transform(IVF_test[IVF_categorical_columns])\n",
    "DI_test[DI_categorical_columns] = DI_encoder.transform(DI_test[DI_categorical_columns])"
   ]
  },
  {
   "cell_type": "markdown",
   "metadata": {},
   "source": [
    "## Modeling"
   ]
  },
  {
   "cell_type": "code",
   "execution_count": 26,
   "metadata": {},
   "outputs": [],
   "source": [
    "# 데이터 분할\n",
    "IVF_X_train, IVF_X_test, IVF_y_train, IVF_y_test = train_test_split(IVF_X, IVF_y, test_size=0.2, random_state=42)\n",
    "DI_X_train, DI_X_test, DI_y_train, DI_y_test = train_test_split(DI_X, DI_y, test_size=0.2, random_state=42)"
   ]
  },
  {
   "cell_type": "markdown",
   "metadata": {},
   "source": [
    "### IVF 데이터"
   ]
  },
  {
   "cell_type": "code",
   "execution_count": 27,
   "metadata": {},
   "outputs": [
    {
     "name": "stdout",
     "output_type": "stream",
     "text": [
      "\n",
      "--- Model Performance ---\n",
      "Model Accuracy: 0.7450960788626502\n",
      "Model F1 Score: 0.18647096362476068\n",
      "Model AUC: 0.739756506483459\n"
     ]
    },
    {
     "data": {
      "image/png": "[encoded data removed]",
      "text/plain": [
       "<Figure size 640x480 with 2 Axes>"
      ]
     },
     "metadata": {},
     "output_type": "display_data"
    }
   ],
   "source": [
    "# 모델 초기화\n",
    "IVF_model = lgb.LGBMClassifier(\n",
    "    n_estimators=4471,\n",
    "    num_leaves=13,\n",
    "    max_depth=279,\n",
    "    learning_rate=0.007075124517450591,\n",
    "    min_child_samples=26,\n",
    "    subsample=0.29772991936701476,\n",
    "    colsample_bytree=0.8913054521763838,\n",
    "    reg_alpha=0.0004860363321690653,\n",
    "    reg_lambda=311.08056657247363,\n",
    "    min_split_gain=0.18214905183450955,\n",
    "    random_state=42,\n",
    "    boosting_type='gbdt',\n",
    "    verbose=-1\n",
    ")\n",
    "\n",
    "# 모델 학습\n",
    "IVF_model.fit(IVF_X_train, IVF_y_train)\n",
    "\n",
    "# 예측\n",
    "y_pred = IVF_model.predict(IVF_X_test)\n",
    "y_pred_proba = IVF_model.predict_proba(IVF_X_test)[:, 1]\n",
    "\n",
    "# 평가\n",
    "accuracy = accuracy_score(IVF_y_test, y_pred)\n",
    "f1 = f1_score(IVF_y_test, y_pred)\n",
    "auc = roc_auc_score(IVF_y_test, y_pred_proba)\n",
    "cm = confusion_matrix(IVF_y_test, y_pred)\n",
    "\n",
    "# 결과 출력\n",
    "print()\n",
    "print(\"--- Model Performance ---\")\n",
    "print(f\"Model Accuracy: {accuracy}\")\n",
    "print(f\"Model F1 Score: {f1}\")\n",
    "print(f\"Model AUC: {auc}\")\n",
    "\n",
    "# 혼동 행렬 출력\n",
    "disp = ConfusionMatrixDisplay(confusion_matrix=cm, display_labels=IVF_model.classes_)\n",
    "disp.plot(cmap=plt.cm.Blues)\n",
    "plt.show()"
   ]
  },
  {
   "cell_type": "markdown",
   "metadata": {},
   "source": [
    "### DI 데이터"
   ]
  },
  {
   "cell_type": "code",
   "execution_count": 28,
   "metadata": {},
   "outputs": [
    {
     "name": "stdout",
     "output_type": "stream",
     "text": [
      "\n",
      "--- Model Performance ---\n",
      "Model Accuracy: 0.8736089030206677\n",
      "Model F1 Score: 0.012422360248447206\n",
      "Model AUC: 0.7229757183488705\n"
     ]
    },
    {
     "data": {
      "image/png": "[encoded data removed]",
      "text/plain": [
       "<Figure size 640x480 with 2 Axes>"
      ]
     },
     "metadata": {},
     "output_type": "display_data"
    }
   ],
   "source": [
    "# 모델 초기화\n",
    "DI_model = lgb.LGBMClassifier(\n",
    "    n_estimators=4604,\n",
    "    max_depth=276,\n",
    "    learning_rate=0.09268921690273974,\n",
    "    num_leaves=2,\n",
    "    min_child_samples=70,\n",
    "    subsample=0.603490858727672,\n",
    "    reg_alpha=0.010665492916529533,\n",
    "    reg_lambda=0.0022411835420855,\n",
    "    random_state=42,\n",
    "    boosting_type='gbdt',\n",
    "    verbose=-1\n",
    ")\n",
    "\n",
    "# 모델 학습\n",
    "DI_model.fit(DI_X_train, DI_y_train)\n",
    "\n",
    "# 예측\n",
    "y_pred = DI_model.predict(DI_X_test)\n",
    "y_pred_proba = DI_model.predict_proba(DI_X_test)[:, 1]\n",
    "\n",
    "# 평가\n",
    "accuracy = accuracy_score(DI_y_test, y_pred)\n",
    "f1 = f1_score(DI_y_test, y_pred)\n",
    "auc = roc_auc_score(DI_y_test, y_pred_proba)\n",
    "cm = confusion_matrix(DI_y_test, y_pred)\n",
    "\n",
    "# 결과 출력\n",
    "print()\n",
    "print(\"--- Model Performance ---\")\n",
    "print(f\"Model Accuracy: {accuracy}\")\n",
    "print(f\"Model F1 Score: {f1}\")\n",
    "print(f\"Model AUC: {auc}\")\n",
    "\n",
    "# 혼동 행렬 출력\n",
    "disp = ConfusionMatrixDisplay(confusion_matrix=cm, display_labels=DI_model.classes_)\n",
    "disp.plot(cmap=plt.cm.Blues)\n",
    "plt.show()"
   ]
  },
  {
   "cell_type": "code",
   "execution_count": 29,
   "metadata": {},
   "outputs": [
    {
     "name": "stdout",
     "output_type": "stream",
     "text": [
      "\n",
      "--- Model Performance ---\n",
      "Model Accuracy: 0.7482494294798027\n",
      "Model F1 Score: 0.1847009032910113\n",
      "Model AUC: 0.7418275506357122\n"
     ]
    },
    {
     "data": {
      "image/png": "[encoded data removed]",
      "text/plain": [
       "<Figure size 640x480 with 2 Axes>"
      ]
     },
     "metadata": {},
     "output_type": "display_data"
    }
   ],
   "source": [
    "# 예측\n",
    "IVF_y_pred = IVF_model.predict(IVF_X_test)\n",
    "IVF_y_pred_proba = IVF_model.predict_proba(IVF_X_test)[:, 1]\n",
    "\n",
    "DI_y_pred = DI_model.predict(DI_X_test)\n",
    "DI_y_pred_proba = DI_model.predict_proba(DI_X_test)[:, 1]\n",
    "\n",
    "# 예측 결과 병합\n",
    "y_test = pd.concat([IVF_y_test, DI_y_test])\n",
    "y_pred = pd.concat([pd.Series(IVF_y_pred, index=IVF_y_test.index), pd.Series(DI_y_pred, index=DI_y_test.index)])\n",
    "y_pred_proba = pd.concat([pd.Series(IVF_y_pred_proba, index=IVF_y_test.index), pd.Series(DI_y_pred_proba, index=DI_y_test.index)])\n",
    "\n",
    "# 평가\n",
    "accuracy = accuracy_score(y_test, y_pred)\n",
    "f1 = f1_score(y_test, y_pred)\n",
    "auc = roc_auc_score(y_test, y_pred_proba)\n",
    "cm = confusion_matrix(y_test, y_pred)\n",
    "\n",
    "# 결과 출력\n",
    "print()\n",
    "print(\"--- Model Performance ---\")\n",
    "print(f\"Model Accuracy: {accuracy}\")\n",
    "print(f\"Model F1 Score: {f1}\")\n",
    "print(f\"Model AUC: {auc}\")\n",
    "\n",
    "# 혼동 행렬 출력\n",
    "disp = ConfusionMatrixDisplay(confusion_matrix=cm, display_labels=IVF_model.classes_)\n",
    "disp.plot(cmap=plt.cm.Blues)\n",
    "plt.show()"
   ]
  },
  {
   "cell_type": "markdown",
   "metadata": {},
   "source": [
    "데이콘 PUBLIC xx"
   ]
  },
  {
   "cell_type": "markdown",
   "metadata": {},
   "source": [
    "## 제출"
   ]
  },
  {
   "cell_type": "code",
   "execution_count": 22,
   "metadata": {},
   "outputs": [],
   "source": [
    "# 모델 학습 및 예측\n",
    "IVF_model.fit(IVF_X, IVF_y)\n",
    "IVF_pred_proba = IVF_model.predict_proba(IVF_test.drop('ID', axis=1))[:, 1]\n",
    "\n",
    "DI_model.fit(DI_X, DI_y)\n",
    "DI_pred_proba = DI_model.predict_proba(DI_test.drop('ID', axis=1))[:, 1]"
   ]
  },
  {
   "cell_type": "code",
   "execution_count": 23,
   "metadata": {},
   "outputs": [],
   "source": [
    "# 예측 결과 병합\n",
    "IVF_test['probability'] = IVF_pred_proba\n",
    "DI_test['probability'] = DI_pred_proba\n",
    "\n",
    "# 최종 제출 파일 생성\n",
    "submission = pd.concat([IVF_test[['ID', 'probability']], DI_test[['ID', 'probability']]], axis=0)\n",
    "submission = submission.sort_values(by='ID')  \n",
    "\n",
    "# 제출 파일 저장\n",
    "submission.to_csv('../submission/code28_submit.csv', index=False, encoding='utf-8')"
   ]
  },
  {
   "cell_type": "markdown",
   "metadata": {},
   "source": [
    "."
   ]
  }
 ],
 "metadata": {
  "kernelspec": {
   "display_name": "Python 3",
   "language": "python",
   "name": "python3"
  },
  "language_info": {
   "codemirror_mode": {
    "name": "ipython",
    "version": 3
   },
   "file_extension": ".py",
   "mimetype": "text/x-python",
   "name": "python",
   "nbconvert_exporter": "python",
   "pygments_lexer": "ipython3",
   "version": "3.7.8"
  }
 },
 "nbformat": 4,
 "nbformat_minor": 2
}
