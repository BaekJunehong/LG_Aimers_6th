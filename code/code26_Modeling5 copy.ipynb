{
 "cells": [
  {
   "cell_type": "markdown",
   "metadata": {},
   "source": [
    "## 난임 환자 대상 임신 성공 여부 예측"
   ]
  },
  {
   "cell_type": "markdown",
   "metadata": {},
   "source": [
    "### LGAimers 6th 온라인 해커톤"
   ]
  },
  {
   "cell_type": "markdown",
   "metadata": {},
   "source": [
    "Import"
   ]
  },
  {
   "cell_type": "code",
   "execution_count": 1,
   "metadata": {},
   "outputs": [],
   "source": [
    "import pandas as pd\n",
    "import lightgbm as lgb\n",
    "from sklearn.preprocessing import OrdinalEncoder\n",
    "from sklearn.model_selection import train_test_split\n",
    "from sklearn.metrics import accuracy_score, f1_score, roc_auc_score, confusion_matrix, ConfusionMatrixDisplay\n",
    "import matplotlib.pyplot as plt"
   ]
  },
  {
   "cell_type": "markdown",
   "metadata": {},
   "source": [
    "### Data Load"
   ]
  },
  {
   "cell_type": "code",
   "execution_count": 2,
   "metadata": {},
   "outputs": [],
   "source": [
    "# 데이터 로드\n",
    "IVF_train = pd.read_csv('../data/IVF_train_dataset_26.csv')\n",
    "IVF_test = pd.read_csv('../data/IVF_test_dataset_26.csv')\n",
    "\n",
    "DI_train = pd.read_csv('../data/DI_train_dataset_26.csv')\n",
    "DI_test = pd.read_csv('../data/DI_test_dataset_26.csv')"
   ]
  },
  {
   "cell_type": "code",
   "execution_count": 3,
   "metadata": {},
   "outputs": [],
   "source": [
    "# ID 열을 제외한 특성과 타겟 변수 분리\n",
    "IVF_X = IVF_train.drop(['임신_성공_여부', 'ID'], axis=1)\n",
    "IVF_y = IVF_train['임신_성공_여부']\n",
    "\n",
    "DI_X = DI_train.drop(['임신_성공_여부', 'ID'], axis=1)\n",
    "DI_y = DI_train['임신_성공_여부']"
   ]
  },
  {
   "cell_type": "code",
   "execution_count": 4,
   "metadata": {},
   "outputs": [
    {
     "name": "stdout",
     "output_type": "stream",
     "text": [
      "IVF_X shape: (250052, 77)\n",
      "IVF_test shape: (87891, 77)\n",
      "DI_X shape: (6289, 31)\n",
      "DI_test shape: (2176, 31)\n"
     ]
    }
   ],
   "source": [
    "print(f\"IVF_X shape: {IVF_X.shape}\")\n",
    "print(f\"IVF_test shape: {IVF_test.drop('ID', axis=1).shape}\")\n",
    "print(f\"DI_X shape: {DI_X.shape}\")\n",
    "print(f\"DI_test shape: {DI_test.drop('ID', axis=1).shape}\")"
   ]
  },
  {
   "cell_type": "markdown",
   "metadata": {},
   "source": [
    "### 인코딩 "
   ]
  },
  {
   "cell_type": "code",
   "execution_count": 5,
   "metadata": {},
   "outputs": [],
   "source": [
    "IVF_categorical_columns = [\n",
    "    \"시술_시기_코드\",\n",
    "    \"시술_당시_나이\",\n",
    "    \"특정_시술_유형\",\n",
    "    \"배란_유도_유형\",\n",
    "    \"난자_출처\",\n",
    "    \"정자_출처\",\n",
    "    \"난자_기증자_나이\",\n",
    "    \"정자_기증자_나이\",\n",
    "    \"채취_해동_차이\",\n",
    "    \"해동_혼합_차이\",\n",
    "    \"혼합_이식_차이\",\n",
    "    \"이식_해동_차이\"\n",
    "]"
   ]
  },
  {
   "cell_type": "code",
   "execution_count": 6,
   "metadata": {},
   "outputs": [],
   "source": [
    "DI_categorical_columns = [\n",
    "    \"시술_시기_코드\",\n",
    "    \"시술_당시_나이\",\n",
    "    \"특정_시술_유형\",\n",
    "    \"정자_기증자_나이\"\n",
    "]"
   ]
  },
  {
   "cell_type": "code",
   "execution_count": 7,
   "metadata": {},
   "outputs": [],
   "source": [
    "# 모든 범주형 변수를 문자열로 변환\n",
    "IVF_X[IVF_categorical_columns] = IVF_X[IVF_categorical_columns].astype(str)\n",
    "DI_X[DI_categorical_columns] = DI_X[DI_categorical_columns].astype(str)\n",
    "IVF_test[IVF_categorical_columns] = IVF_test[IVF_categorical_columns].astype(str)\n",
    "DI_test[DI_categorical_columns] = DI_test[DI_categorical_columns].astype(str)\n",
    "\n",
    "# OrdinalEncoder를 사용하여 범주형 변수 인코딩\n",
    "IVF_encoder = OrdinalEncoder(handle_unknown='use_encoded_value', unknown_value=-1)\n",
    "DI_encoder = OrdinalEncoder(handle_unknown='use_encoded_value', unknown_value=-1)\n",
    "\n",
    "IVF_X[IVF_categorical_columns] = IVF_encoder.fit_transform(IVF_X[IVF_categorical_columns])\n",
    "DI_X[DI_categorical_columns] = DI_encoder.fit_transform(DI_X[DI_categorical_columns])\n",
    "IVF_test[IVF_categorical_columns] = IVF_encoder.transform(IVF_test[IVF_categorical_columns])\n",
    "DI_test[DI_categorical_columns] = DI_encoder.transform(DI_test[DI_categorical_columns])"
   ]
  },
  {
   "cell_type": "markdown",
   "metadata": {},
   "source": [
    "## Modeling"
   ]
  },
  {
   "cell_type": "code",
   "execution_count": 8,
   "metadata": {},
   "outputs": [],
   "source": [
    "# 데이터 분할\n",
    "IVF_X_train, IVF_X_test, IVF_y_train, IVF_y_test = train_test_split(IVF_X, IVF_y, test_size=0.2, random_state=42)\n",
    "DI_X_train, DI_X_test, DI_y_train, DI_y_test = train_test_split(DI_X, DI_y, test_size=0.2, random_state=42)"
   ]
  },
  {
   "cell_type": "markdown",
   "metadata": {},
   "source": [
    "### DI 데이터"
   ]
  },
  {
   "cell_type": "code",
   "execution_count": 9,
   "metadata": {},
   "outputs": [
    {
     "name": "stderr",
     "output_type": "stream",
     "text": [
      "[I 2025-02-10 21:29:13,853] A new study created in memory with name: no-name-810fb93e-e31b-48d9-aa94-0ce72c3358db\n",
      "[I 2025-02-10 21:29:15,259] Trial 0 finished with value: 0.7112068718846751 and parameters: {'iterations': 3143, 'depth': 9, 'learning_rate': 0.02946310092944025, 'subsample': 0.5528303407684378, 'colsample_bylevel': 0.7687916978864082, 'l2_leaf_reg': 8.470368518538569}. Best is trial 0 with value: 0.7112068718846751.\n",
      "[I 2025-02-10 21:31:14,413] Trial 1 finished with value: 0.6888080072793448 and parameters: {'iterations': 881, 'depth': 14, 'learning_rate': 0.0002771536687153901, 'subsample': 0.5362192046996361, 'colsample_bylevel': 0.5865826312839979, 'l2_leaf_reg': 4.054128966500915e-05}. Best is trial 0 with value: 0.7112068718846751.\n",
      "[I 2025-02-10 21:31:14,674] Trial 2 finished with value: 0.7008286549808002 and parameters: {'iterations': 4016, 'depth': 4, 'learning_rate': 0.05631317838486045, 'subsample': 0.6400922100812949, 'colsample_bylevel': 0.7513662769389566, 'l2_leaf_reg': 3.0785674246085877e-06}. Best is trial 0 with value: 0.7112068718846751.\n",
      "[I 2025-02-10 21:31:15,122] Trial 3 finished with value: 0.7024710857783806 and parameters: {'iterations': 526, 'depth': 7, 'learning_rate': 0.02433828604210061, 'subsample': 0.8033973384070666, 'colsample_bylevel': 0.805299008929369, 'l2_leaf_reg': 3.1370182840362663e-07}. Best is trial 0 with value: 0.7112068718846751.\n",
      "[I 2025-02-10 21:31:18,080] Trial 4 finished with value: 0.7058732638590829 and parameters: {'iterations': 1609, 'depth': 10, 'learning_rate': 0.011351583376745598, 'subsample': 0.5260054415934101, 'colsample_bylevel': 0.8376771116027768, 'l2_leaf_reg': 1.962347901501917e-07}. Best is trial 0 with value: 0.7112068718846751.\n",
      "[I 2025-02-10 21:31:22,355] Trial 5 finished with value: 0.7030462226953034 and parameters: {'iterations': 4404, 'depth': 11, 'learning_rate': 0.0016601010403639765, 'subsample': 0.9312428148930871, 'colsample_bylevel': 0.7474082471794885, 'l2_leaf_reg': 4.959111821993857e-05}. Best is trial 0 with value: 0.7112068718846751.\n",
      "[I 2025-02-10 21:35:11,495] Trial 6 finished with value: 0.7072638934194035 and parameters: {'iterations': 5035, 'depth': 16, 'learning_rate': 0.02944493231759333, 'subsample': 0.8753659072199036, 'colsample_bylevel': 0.5410520380394415, 'l2_leaf_reg': 3.7296764990657874}. Best is trial 0 with value: 0.7112068718846751.\n",
      "[I 2025-02-10 21:36:02,291] Trial 7 finished with value: 0.6989430070790483 and parameters: {'iterations': 5614, 'depth': 12, 'learning_rate': 0.00021635123814005896, 'subsample': 0.8765855018804635, 'colsample_bylevel': 0.6166351288409659, 'l2_leaf_reg': 3.007894294602747e-08}. Best is trial 0 with value: 0.7112068718846751.\n",
      "[I 2025-02-10 21:36:38,540] Trial 8 finished with value: 0.6795657573208349 and parameters: {'iterations': 5133, 'depth': 14, 'learning_rate': 0.00012829125289036316, 'subsample': 0.9905576534685825, 'colsample_bylevel': 0.7275823584510586, 'l2_leaf_reg': 0.0002722427689924587}. Best is trial 0 with value: 0.7112068718846751.\n",
      "[I 2025-02-10 21:36:39,010] Trial 9 finished with value: 0.7090265020802217 and parameters: {'iterations': 4775, 'depth': 5, 'learning_rate': 0.00027098156859498636, 'subsample': 0.7489413580654618, 'colsample_bylevel': 0.725447422919158, 'l2_leaf_reg': 0.6761536919434744}. Best is trial 0 with value: 0.7112068718846751.\n",
      "[I 2025-02-10 21:36:39,780] Trial 10 finished with value: 0.7025140064438227 and parameters: {'iterations': 2629, 'depth': 7, 'learning_rate': 0.004635950896222645, 'subsample': 0.6717610222514796, 'colsample_bylevel': 0.9859306957018985, 'l2_leaf_reg': 0.03311954099632719}. Best is trial 0 with value: 0.7112068718846751.\n",
      "[I 2025-02-10 21:36:40,175] Trial 11 finished with value: 0.7097675989035201 and parameters: {'iterations': 3162, 'depth': 3, 'learning_rate': 0.0010445757994865812, 'subsample': 0.7081822094066021, 'colsample_bylevel': 0.8899249308215829, 'l2_leaf_reg': 6.589325275315488}. Best is trial 0 with value: 0.7112068718846751.\n",
      "[I 2025-02-10 21:36:40,556] Trial 12 finished with value: 0.7076187042537241 and parameters: {'iterations': 2768, 'depth': 3, 'learning_rate': 0.0012336190971702313, 'subsample': 0.6245262349507277, 'colsample_bylevel': 0.9325383234492737, 'l2_leaf_reg': 0.022073454702468274}. Best is trial 0 with value: 0.7112068718846751.\n",
      "[I 2025-02-10 21:36:42,673] Trial 13 finished with value: 0.7077388821169617 and parameters: {'iterations': 3551, 'depth': 7, 'learning_rate': 0.0008190257641798851, 'subsample': 0.7431200918808568, 'colsample_bylevel': 0.8874644181734712, 'l2_leaf_reg': 0.12460239563063641}. Best is trial 0 with value: 0.7112068718846751.\n",
      "[I 2025-02-10 21:36:46,708] Trial 14 finished with value: 0.7139423489621783 and parameters: {'iterations': 2050, 'depth': 8, 'learning_rate': 0.004210663433072824, 'subsample': 0.5794404731466559, 'colsample_bylevel': 0.8687295617371545, 'l2_leaf_reg': 7.259070976867109}. Best is trial 14 with value: 0.7139423489621783.\n",
      "[I 2025-02-10 21:36:47,758] Trial 15 finished with value: 0.7020218494800877 and parameters: {'iterations': 1815, 'depth': 9, 'learning_rate': 0.005508543350817771, 'subsample': 0.5984923406452478, 'colsample_bylevel': 0.6653185116010218, 'l2_leaf_reg': 0.00334196585032178}. Best is trial 14 with value: 0.7139423489621783.\n",
      "[I 2025-02-10 21:36:48,579] Trial 16 finished with value: 0.725436503167545 and parameters: {'iterations': 2013, 'depth': 9, 'learning_rate': 0.0808136140616775, 'subsample': 0.5731121230333832, 'colsample_bylevel': 0.8090680220542181, 'l2_leaf_reg': 0.5809304662371265}. Best is trial 16 with value: 0.725436503167545.\n",
      "[I 2025-02-10 21:36:49,113] Trial 17 finished with value: 0.7084399196525143 and parameters: {'iterations': 2014, 'depth': 6, 'learning_rate': 0.08503896556099327, 'subsample': 0.5054976750398988, 'colsample_bylevel': 0.8469546411542689, 'l2_leaf_reg': 0.7911553746638924}. Best is trial 16 with value: 0.725436503167545.\n",
      "[I 2025-02-10 21:36:50,084] Trial 18 finished with value: 0.7123800367400897 and parameters: {'iterations': 1217, 'depth': 8, 'learning_rate': 0.010036050595435293, 'subsample': 0.5833374700653111, 'colsample_bylevel': 0.9441821051917971, 'l2_leaf_reg': 0.003909593654437815}. Best is trial 16 with value: 0.725436503167545.\n",
      "[I 2025-02-10 21:37:03,811] Trial 19 finished with value: 0.7192702342323783 and parameters: {'iterations': 2290, 'depth': 12, 'learning_rate': 0.002563081828066324, 'subsample': 0.6558060397691303, 'colsample_bylevel': 0.678838701328139, 'l2_leaf_reg': 0.39640400792124125}. Best is trial 16 with value: 0.725436503167545.\n",
      "[I 2025-02-10 21:38:04,829] Trial 20 finished with value: 0.716986854830864 and parameters: {'iterations': 2259, 'depth': 12, 'learning_rate': 0.0021901598913556123, 'subsample': 0.6777420025587348, 'colsample_bylevel': 0.6647657974460572, 'l2_leaf_reg': 0.20640789078935212}. Best is trial 16 with value: 0.725436503167545.\n",
      "[I 2025-02-10 21:38:23,536] Trial 21 finished with value: 0.7152128006592614 and parameters: {'iterations': 2302, 'depth': 12, 'learning_rate': 0.000623556172555546, 'subsample': 0.6820159667583194, 'colsample_bylevel': 0.6579977349047779, 'l2_leaf_reg': 0.3194712806666965}. Best is trial 16 with value: 0.725436503167545.\n",
      "[I 2025-02-10 21:39:09,616] Trial 22 finished with value: 0.7114586731219348 and parameters: {'iterations': 1292, 'depth': 13, 'learning_rate': 0.0025437965974167377, 'subsample': 0.643709738041054, 'colsample_bylevel': 0.6788908187524384, 'l2_leaf_reg': 0.03679439344390994}. Best is trial 16 with value: 0.725436503167545.\n",
      "[I 2025-02-10 21:39:19,877] Trial 23 finished with value: 0.7117677019131171 and parameters: {'iterations': 218, 'depth': 11, 'learning_rate': 0.002384700003208222, 'subsample': 0.8022001605192322, 'colsample_bylevel': 0.5936304958812488, 'l2_leaf_reg': 0.005457800925722959}. Best is trial 16 with value: 0.725436503167545.\n",
      "[I 2025-02-10 21:46:37,937] Trial 24 finished with value: 0.7024281651129386 and parameters: {'iterations': 2520, 'depth': 16, 'learning_rate': 0.008094412639857601, 'subsample': 0.7029497898222108, 'colsample_bylevel': 0.5153967502643704, 'l2_leaf_reg': 0.15201850054086508}. Best is trial 16 with value: 0.725436503167545.\n",
      "[I 2025-02-10 21:46:42,226] Trial 25 finished with value: 0.6999673802942641 and parameters: {'iterations': 3633, 'depth': 10, 'learning_rate': 0.015804783757106134, 'subsample': 0.7930547829400187, 'colsample_bylevel': 0.6827019616162031, 'l2_leaf_reg': 0.0007306676690666813}. Best is trial 16 with value: 0.725436503167545.\n",
      "[I 2025-02-10 21:47:17,460] Trial 26 finished with value: 0.707206665865481 and parameters: {'iterations': 1475, 'depth': 13, 'learning_rate': 0.0005047678143515988, 'subsample': 0.6250084306544241, 'colsample_bylevel': 0.805107530995018, 'l2_leaf_reg': 1.3872322653409874}. Best is trial 16 with value: 0.725436503167545.\n",
      "[I 2025-02-10 21:47:24,606] Trial 27 finished with value: 0.7036356665007066 and parameters: {'iterations': 2874, 'depth': 11, 'learning_rate': 0.0018532334326007574, 'subsample': 0.6674857886790817, 'colsample_bylevel': 0.6298866130243248, 'l2_leaf_reg': 0.08662248186191991}. Best is trial 16 with value: 0.725436503167545.\n",
      "[I 2025-02-10 21:51:23,651] Trial 28 finished with value: 0.7163974110254605 and parameters: {'iterations': 2311, 'depth': 15, 'learning_rate': 0.00674999722226822, 'subsample': 0.599529211721108, 'colsample_bylevel': 0.7878687551132438, 'l2_leaf_reg': 1.6390634833498323}. Best is trial 16 with value: 0.725436503167545.\n",
      "[I 2025-02-10 21:51:24,997] Trial 29 finished with value: 0.7042823378600328 and parameters: {'iterations': 979, 'depth': 9, 'learning_rate': 0.017371803033610383, 'subsample': 0.5606836413782369, 'colsample_bylevel': 0.7058309400616066, 'l2_leaf_reg': 0.016042177059962928}. Best is trial 16 with value: 0.725436503167545.\n",
      "[I 2025-02-10 21:52:29,822] Trial 30 finished with value: 0.7152013551484769 and parameters: {'iterations': 3200, 'depth': 12, 'learning_rate': 0.003197283694725262, 'subsample': 0.7095558606207171, 'colsample_bylevel': 0.7707936052321818, 'l2_leaf_reg': 0.2537674796165249}. Best is trial 16 with value: 0.725436503167545.\n",
      "[I 2025-02-10 21:54:41,314] Trial 31 finished with value: 0.7132241431604488 and parameters: {'iterations': 2323, 'depth': 15, 'learning_rate': 0.0496198378761463, 'subsample': 0.6097092051466705, 'colsample_bylevel': 0.7751833005652281, 'l2_leaf_reg': 1.6129044937274006}. Best is trial 16 with value: 0.725436503167545.\n",
      "[I 2025-02-10 21:58:32,381] Trial 32 finished with value: 0.7103713495974042 and parameters: {'iterations': 1893, 'depth': 15, 'learning_rate': 0.0073777454463633645, 'subsample': 0.563522401035187, 'colsample_bylevel': 0.8049195495606488, 'l2_leaf_reg': 2.0847028784107495}. Best is trial 16 with value: 0.725436503167545.\n",
      "[I 2025-02-10 21:59:42,072] Trial 33 finished with value: 0.6863844203707201 and parameters: {'iterations': 2239, 'depth': 14, 'learning_rate': 0.09633603864052169, 'subsample': 0.5440532824621913, 'colsample_bylevel': 0.7104440133774301, 'l2_leaf_reg': 0.4251078061883271}. Best is trial 16 with value: 0.725436503167545.\n",
      "[I 2025-02-10 22:00:15,972] Trial 34 finished with value: 0.7013007823006622 and parameters: {'iterations': 1700, 'depth': 13, 'learning_rate': 0.03996785818215501, 'subsample': 0.6432792135759884, 'colsample_bylevel': 0.5648238738648405, 'l2_leaf_reg': 0.08432544406504898}. Best is trial 16 with value: 0.725436503167545.\n",
      "[I 2025-02-10 22:00:18,179] Trial 35 finished with value: 0.7147406733393995 and parameters: {'iterations': 3412, 'depth': 10, 'learning_rate': 0.0005109895129722642, 'subsample': 0.5100558217777863, 'colsample_bylevel': 0.643679492777926, 'l2_leaf_reg': 9.82353825651021}. Best is trial 16 with value: 0.725436503167545.\n",
      "[I 2025-02-10 22:02:39,757] Trial 36 finished with value: 0.6779805540771771 and parameters: {'iterations': 831, 'depth': 14, 'learning_rate': 0.003174660182216806, 'subsample': 0.6012039972901764, 'colsample_bylevel': 0.784812028004133, 'l2_leaf_reg': 9.15020388139899e-06}. Best is trial 16 with value: 0.725436503167545.\n",
      "[I 2025-02-10 22:05:46,389] Trial 37 finished with value: 0.6738945067270989 and parameters: {'iterations': 2944, 'depth': 15, 'learning_rate': 0.017026349348493185, 'subsample': 0.6577973136162742, 'colsample_bylevel': 0.7540099394501442, 'l2_leaf_reg': 0.000748105106476934}. Best is trial 16 with value: 0.725436503167545.\n",
      "[I 2025-02-10 22:06:50,415] Trial 38 finished with value: 0.7166835487950739 and parameters: {'iterations': 3825, 'depth': 11, 'learning_rate': 0.0018351572278310102, 'subsample': 0.5292942009050806, 'colsample_bylevel': 0.8426618912008209, 'l2_leaf_reg': 2.4799349972479505}. Best is trial 16 with value: 0.725436503167545.\n",
      "[I 2025-02-10 22:06:56,136] Trial 39 finished with value: 0.6985366914461976 and parameters: {'iterations': 4219, 'depth': 11, 'learning_rate': 0.0015932912511692583, 'subsample': 0.5434730687288805, 'colsample_bylevel': 0.824684443640164, 'l2_leaf_reg': 0.008472281499746557}. Best is trial 16 with value: 0.725436503167545.\n",
      "[I 2025-02-10 22:06:58,953] Trial 40 finished with value: 0.7110666643775645 and parameters: {'iterations': 3916, 'depth': 10, 'learning_rate': 0.0011274532695716964, 'subsample': 0.5267629641807985, 'colsample_bylevel': 0.6115903991906058, 'l2_leaf_reg': 2.707579186767956}. Best is trial 16 with value: 0.725436503167545.\n",
      "[I 2025-02-10 22:07:13,340] Trial 41 finished with value: 0.7173130518882233 and parameters: {'iterations': 2509, 'depth': 12, 'learning_rate': 0.0021147788938381228, 'subsample': 0.5643260059600833, 'colsample_bylevel': 0.8519892729151329, 'l2_leaf_reg': 0.663438675753354}. Best is trial 16 with value: 0.725436503167545.\n",
      "[I 2025-02-10 22:07:33,654] Trial 42 finished with value: 0.71573929415535 and parameters: {'iterations': 3877, 'depth': 12, 'learning_rate': 0.002402341911289789, 'subsample': 0.5729480263946694, 'colsample_bylevel': 0.9077450215876193, 'l2_leaf_reg': 0.5573108546814397}. Best is trial 16 with value: 0.725436503167545.\n",
      "[I 2025-02-10 22:07:40,104] Trial 43 finished with value: 0.7164145792916373 and parameters: {'iterations': 2599, 'depth': 11, 'learning_rate': 0.001604807175850988, 'subsample': 0.5284464565325194, 'colsample_bylevel': 0.8578451046017318, 'l2_leaf_reg': 0.061783688453318955}. Best is trial 16 with value: 0.725436503167545.\n",
      "[I 2025-02-10 22:08:08,233] Trial 44 finished with value: 0.7116704150714486 and parameters: {'iterations': 4699, 'depth': 12, 'learning_rate': 0.003670941203602795, 'subsample': 0.7703180591883091, 'colsample_bylevel': 0.8255092236968771, 'l2_leaf_reg': 0.24868900134729344}. Best is trial 16 with value: 0.725436503167545.\n",
      "[I 2025-02-10 22:08:09,610] Trial 45 finished with value: 0.7075099719012711 and parameters: {'iterations': 3001, 'depth': 8, 'learning_rate': 0.0007524170578234153, 'subsample': 0.6274679234174021, 'colsample_bylevel': 0.7515846142704466, 'l2_leaf_reg': 3.9844808537777356}. Best is trial 16 with value: 0.725436503167545.\n",
      "[I 2025-02-10 22:08:39,015] Trial 46 finished with value: 0.708889155950807 and parameters: {'iterations': 1483, 'depth': 13, 'learning_rate': 0.0021206571434724516, 'subsample': 0.7260980263983273, 'colsample_bylevel': 0.7267694444542245, 'l2_leaf_reg': 1.0287107527793267}. Best is trial 16 with value: 0.725436503167545.\n",
      "[I 2025-02-10 22:08:41,339] Trial 47 finished with value: 0.7024396106237232 and parameters: {'iterations': 3283, 'depth': 9, 'learning_rate': 0.00038580208979613524, 'subsample': 0.6831877803262811, 'colsample_bylevel': 0.8824771470863898, 'l2_leaf_reg': 1.8139943371213787e-07}. Best is trial 16 with value: 0.725436503167545.\n",
      "[I 2025-02-10 22:08:50,872] Trial 48 finished with value: 0.6927052037014781 and parameters: {'iterations': 2571, 'depth': 11, 'learning_rate': 0.0013213267989952168, 'subsample': 0.5011650303729435, 'colsample_bylevel': 0.8357457371900845, 'l2_leaf_reg': 9.267262063198983e-05}. Best is trial 16 with value: 0.725436503167545.\n",
      "[I 2025-02-10 22:08:53,636] Trial 49 finished with value: 0.7095615797093984 and parameters: {'iterations': 2077, 'depth': 10, 'learning_rate': 0.005022259154594029, 'subsample': 0.871256233215973, 'colsample_bylevel': 0.9360754462632608, 'l2_leaf_reg': 4.278621134927294}. Best is trial 16 with value: 0.725436503167545.\n",
      "[I 2025-02-10 22:09:25,570] Trial 50 finished with value: 0.7083226031669728 and parameters: {'iterations': 3650, 'depth': 12, 'learning_rate': 0.0009387516103286938, 'subsample': 0.5848222816804609, 'colsample_bylevel': 0.7083159153095154, 'l2_leaf_reg': 0.0016733466729713503}. Best is trial 16 with value: 0.725436503167545.\n",
      "[I 2025-02-10 22:09:34,853] Trial 51 finished with value: 0.7112526539278132 and parameters: {'iterations': 2726, 'depth': 11, 'learning_rate': 0.0015267511119648393, 'subsample': 0.5401402236725793, 'colsample_bylevel': 0.8512463675506555, 'l2_leaf_reg': 0.046665981981068166}. Best is trial 16 with value: 0.725436503167545.\n",
      "[I 2025-02-10 22:09:45,323] Trial 52 finished with value: 0.7073669030164643 and parameters: {'iterations': 5754, 'depth': 11, 'learning_rate': 0.002937321528414465, 'subsample': 0.5167247591551811, 'colsample_bylevel': 0.8652117529220937, 'l2_leaf_reg': 0.15068218133999275}. Best is trial 16 with value: 0.725436503167545.\n",
      "[I 2025-02-10 22:11:54,254] Trial 53 finished with value: 0.7153444240332836 and parameters: {'iterations': 2480, 'depth': 13, 'learning_rate': 0.0018550510267388424, 'subsample': 0.5317881476610313, 'colsample_bylevel': 0.9888801895017589, 'l2_leaf_reg': 0.5857881106159883}. Best is trial 16 with value: 0.725436503167545.\n",
      "[I 2025-02-10 22:12:03,729] Trial 54 finished with value: 0.7131468859626533 and parameters: {'iterations': 2117, 'depth': 10, 'learning_rate': 0.003981907756700297, 'subsample': 0.5569467888435902, 'colsample_bylevel': 0.9084652341439401, 'l2_leaf_reg': 0.01784955412287888}. Best is trial 16 with value: 0.725436503167545.\n",
      "[I 2025-02-10 22:12:04,740] Trial 55 finished with value: 0.7122026313229293 and parameters: {'iterations': 1727, 'depth': 8, 'learning_rate': 0.001357339240804391, 'subsample': 0.6129887042642063, 'colsample_bylevel': 0.8596874038839702, 'l2_leaf_reg': 0.05160686304456789}. Best is trial 16 with value: 0.725436503167545.\n",
      "[I 2025-02-10 22:12:35,527] Trial 56 finished with value: 0.7145089017460127 and parameters: {'iterations': 2707, 'depth': 12, 'learning_rate': 0.005801498670636535, 'subsample': 0.5799828064443571, 'colsample_bylevel': 0.8189907501125062, 'l2_leaf_reg': 0.2524659015374198}. Best is trial 16 with value: 0.725436503167545.\n",
      "[I 2025-02-10 22:12:44,798] Trial 57 finished with value: 0.7085972954258015 and parameters: {'iterations': 1916, 'depth': 11, 'learning_rate': 0.00010218835904414678, 'subsample': 0.5207510308593072, 'colsample_bylevel': 0.6859827340775331, 'l2_leaf_reg': 0.8542612202226949}. Best is trial 16 with value: 0.725436503167545.\n",
      "[I 2025-02-10 22:12:46,268] Trial 58 finished with value: 0.7083941376093761 and parameters: {'iterations': 2440, 'depth': 9, 'learning_rate': 0.0008105834599180947, 'subsample': 0.6534312716652629, 'colsample_bylevel': 0.9078239163781359, 'l2_leaf_reg': 0.08045037433255238}. Best is trial 16 with value: 0.725436503167545.\n",
      "[I 2025-02-10 22:14:07,496] Trial 59 finished with value: 0.7157106803783885 and parameters: {'iterations': 3433, 'depth': 13, 'learning_rate': 0.010545935650690931, 'subsample': 0.557870391545513, 'colsample_bylevel': 0.9552510287366628, 'l2_leaf_reg': 4.23263398016133}. Best is trial 16 with value: 0.725436503167545.\n",
      "[I 2025-02-10 22:14:09,448] Trial 60 finished with value: 0.7078476144694146 and parameters: {'iterations': 2994, 'depth': 6, 'learning_rate': 0.0020596738659784705, 'subsample': 0.6909865394598738, 'colsample_bylevel': 0.8776101254354299, 'l2_leaf_reg': 1.0417104886042573e-08}. Best is trial 16 with value: 0.725436503167545.\n",
      "[I 2025-02-10 22:15:25,925] Trial 61 finished with value: 0.7168695383453226 and parameters: {'iterations': 2239, 'depth': 14, 'learning_rate': 0.02526492610642784, 'subsample': 0.5920175875758391, 'colsample_bylevel': 0.799001386791865, 'l2_leaf_reg': 1.4774379183629118}. Best is trial 16 with value: 0.725436503167545.\n",
      "[I 2025-02-10 22:17:11,993] Trial 62 finished with value: 0.7088719876846304 and parameters: {'iterations': 2160, 'depth': 14, 'learning_rate': 0.03418283815527023, 'subsample': 0.5908510012414545, 'colsample_bylevel': 0.8366182796359016, 'l2_leaf_reg': 1.0463532059114746}. Best is trial 16 with value: 0.725436503167545.\n",
      "[I 2025-02-10 22:17:33,677] Trial 63 finished with value: 0.7084084444978569 and parameters: {'iterations': 1527, 'depth': 12, 'learning_rate': 0.0027509280140409096, 'subsample': 0.6281062612544831, 'colsample_bylevel': 0.7973283857362995, 'l2_leaf_reg': 0.38240824645214344}. Best is trial 16 with value: 0.725436503167545.\n",
      "[I 2025-02-10 22:17:39,456] Trial 64 finished with value: 0.7162543421406538 and parameters: {'iterations': 2431, 'depth': 10, 'learning_rate': 0.025642308627694246, 'subsample': 0.5689753293595708, 'colsample_bylevel': 0.7642190211843707, 'l2_leaf_reg': 0.1623044455701128}. Best is trial 16 with value: 0.725436503167545.\n",
      "[I 2025-02-10 22:19:27,140] Trial 65 finished with value: 0.7153501467886757 and parameters: {'iterations': 1218, 'depth': 14, 'learning_rate': 0.06813745287544547, 'subsample': 0.5438714644386198, 'colsample_bylevel': 0.8481005092304347, 'l2_leaf_reg': 2.6946575027086315}. Best is trial 16 with value: 0.725436503167545.\n",
      "[I 2025-02-10 22:19:51,155] Trial 66 finished with value: 0.71105521886678 and parameters: {'iterations': 2787, 'depth': 12, 'learning_rate': 0.07020700409304617, 'subsample': 0.6112513052332994, 'colsample_bylevel': 0.6586147245456087, 'l2_leaf_reg': 1.6502510437291613}. Best is trial 16 with value: 0.725436503167545.\n",
      "[I 2025-02-10 22:20:10,999] Trial 67 finished with value: 0.7091981847419895 and parameters: {'iterations': 1931, 'depth': 11, 'learning_rate': 0.021312065644878486, 'subsample': 0.7262833654297071, 'colsample_bylevel': 0.8151268972931245, 'l2_leaf_reg': 6.721259311050065}. Best is trial 16 with value: 0.725436503167545.\n",
      "[I 2025-02-10 22:26:38,706] Trial 68 finished with value: 0.7125059373587196 and parameters: {'iterations': 2286, 'depth': 16, 'learning_rate': 0.0041529893772368235, 'subsample': 0.529601357544127, 'colsample_bylevel': 0.7908902495922321, 'l2_leaf_reg': 0.7035044732496579}. Best is trial 16 with value: 0.725436503167545.\n",
      "[I 2025-02-10 22:27:12,892] Trial 69 finished with value: 0.7146204954761618 and parameters: {'iterations': 5262, 'depth': 13, 'learning_rate': 0.00101509547882827, 'subsample': 0.9617881878763067, 'colsample_bylevel': 0.7419954775617941, 'l2_leaf_reg': 0.029778242511282943}. Best is trial 16 with value: 0.725436503167545.\n",
      "[I 2025-02-10 22:27:14,040] Trial 70 finished with value: 0.7122083540783217 and parameters: {'iterations': 2643, 'depth': 9, 'learning_rate': 0.041377915084714556, 'subsample': 0.6678460948831634, 'colsample_bylevel': 0.5932101834785473, 'l2_leaf_reg': 0.007421197046690416}. Best is trial 16 with value: 0.725436503167545.\n",
      "[I 2025-02-10 22:29:52,994] Trial 71 finished with value: 0.7077102683400003 and parameters: {'iterations': 2284, 'depth': 15, 'learning_rate': 0.001683626864012308, 'subsample': 0.5970627298812413, 'colsample_bylevel': 0.7862227173709075, 'l2_leaf_reg': 1.686139088744812}. Best is trial 16 with value: 0.725436503167545.\n",
      "[I 2025-02-10 22:32:03,664] Trial 72 finished with value: 0.7101824986694593 and parameters: {'iterations': 1809, 'depth': 14, 'learning_rate': 0.013101349156067811, 'subsample': 0.5513942166816442, 'colsample_bylevel': 0.8081800092188844, 'l2_leaf_reg': 0.38907077946805557}. Best is trial 16 with value: 0.725436503167545.\n",
      "[I 2025-02-10 22:33:28,883] Trial 73 finished with value: 0.7028630945227509 and parameters: {'iterations': 3063, 'depth': 15, 'learning_rate': 0.006873151456017165, 'subsample': 0.6385488032836854, 'colsample_bylevel': 0.7722097325291248, 'l2_leaf_reg': 9.661640004002546}. Best is trial 16 with value: 0.725436503167545.\n",
      "[I 2025-02-10 22:34:37,068] Trial 74 finished with value: 0.7141369226455153 and parameters: {'iterations': 2397, 'depth': 13, 'learning_rate': 0.002275745261091233, 'subsample': 0.5786584008158631, 'colsample_bylevel': 0.8966671897824485, 'l2_leaf_reg': 0.17570818573920646}. Best is trial 16 with value: 0.725436503167545.\n",
      "[I 2025-02-10 22:42:59,911] Trial 75 finished with value: 0.7108749520719235 and parameters: {'iterations': 2130, 'depth': 16, 'learning_rate': 0.0032223024910696496, 'subsample': 0.6051667644802383, 'colsample_bylevel': 0.7411014511529181, 'l2_leaf_reg': 0.0975026448330816}. Best is trial 16 with value: 0.725436503167545.\n",
      "[I 2025-02-10 22:43:19,331] Trial 76 finished with value: 0.7115788509851724 and parameters: {'iterations': 1652, 'depth': 12, 'learning_rate': 0.0572573053652647, 'subsample': 0.6170505050479149, 'colsample_bylevel': 0.692615096009925, 'l2_leaf_reg': 2.947465559496856}. Best is trial 16 with value: 0.725436503167545.\n",
      "[I 2025-02-10 22:46:15,550] Trial 77 finished with value: 0.7170555278955711 and parameters: {'iterations': 4479, 'depth': 14, 'learning_rate': 0.0056758882469341325, 'subsample': 0.5888811127667243, 'colsample_bylevel': 0.6422713096416767, 'l2_leaf_reg': 1.0662589011638732}. Best is trial 16 with value: 0.725436503167545.\n",
      "[I 2025-02-10 22:46:16,023] Trial 78 finished with value: 0.7066057765492928 and parameters: {'iterations': 4313, 'depth': 4, 'learning_rate': 0.0012690262924445169, 'subsample': 0.5693740808624147, 'colsample_bylevel': 0.6249232216215094, 'l2_leaf_reg': 0.9923613060585081}. Best is trial 16 with value: 0.725436503167545.\n",
      "[I 2025-02-10 22:48:42,331] Trial 79 finished with value: 0.7134044099553053 and parameters: {'iterations': 4855, 'depth': 14, 'learning_rate': 0.008803019911326182, 'subsample': 0.517710205645544, 'colsample_bylevel': 0.6435032382479048, 'l2_leaf_reg': 0.2670732614305611}. Best is trial 16 with value: 0.725436503167545.\n",
      "[I 2025-02-10 22:49:45,282] Trial 80 finished with value: 0.715201355148477 and parameters: {'iterations': 4512, 'depth': 13, 'learning_rate': 0.01277877309203678, 'subsample': 0.5023812805886043, 'colsample_bylevel': 0.5749198188651017, 'l2_leaf_reg': 0.5631140539083184}. Best is trial 16 with value: 0.725436503167545.\n",
      "[I 2025-02-10 22:54:51,466] Trial 81 finished with value: 0.7155161066950516 and parameters: {'iterations': 2580, 'depth': 15, 'learning_rate': 0.005516153106120086, 'subsample': 0.5902395037554811, 'colsample_bylevel': 0.6628828363472682, 'l2_leaf_reg': 1.7275024058220716}. Best is trial 16 with value: 0.725436503167545.\n",
      "[I 2025-02-10 22:55:29,737] Trial 82 finished with value: 0.7141655364224768 and parameters: {'iterations': 2864, 'depth': 11, 'learning_rate': 0.004656952732881934, 'subsample': 0.552417044057295, 'colsample_bylevel': 0.8318010402555286, 'l2_leaf_reg': 4.589202704452848}. Best is trial 16 with value: 0.725436503167545.\n",
      "[I 2025-02-10 22:58:46,424] Trial 83 finished with value: 0.7191443336137484 and parameters: {'iterations': 4216, 'depth': 14, 'learning_rate': 0.006260324671806813, 'subsample': 0.637223520488347, 'colsample_bylevel': 0.6385648997833555, 'l2_leaf_reg': 1.0844189895073373}. Best is trial 16 with value: 0.725436503167545.\n",
      "[I 2025-02-10 22:59:10,727] Trial 84 finished with value: 0.6840581203037639 and parameters: {'iterations': 4558, 'depth': 12, 'learning_rate': 0.00348451536423953, 'subsample': 0.6527310791712296, 'colsample_bylevel': 0.6444471377435492, 'l2_leaf_reg': 2.873437858023681e-06}. Best is trial 16 with value: 0.725436503167545.\n",
      "[I 2025-02-10 23:03:07,070] Trial 85 finished with value: 0.7186578994054057 and parameters: {'iterations': 4016, 'depth': 14, 'learning_rate': 0.0027214122329103072, 'subsample': 0.6328729589391379, 'colsample_bylevel': 0.610521681161915, 'l2_leaf_reg': 0.4650570928725395}. Best is trial 16 with value: 0.725436503167545.\n",
      "[I 2025-02-10 23:04:33,642] Trial 86 finished with value: 0.7078418917140225 and parameters: {'iterations': 4217, 'depth': 14, 'learning_rate': 0.0026210937296050553, 'subsample': 0.6347495456946615, 'colsample_bylevel': 0.5421116002560671, 'l2_leaf_reg': 1.0304664678836335}. Best is trial 16 with value: 0.725436503167545.\n",
      "[I 2025-02-10 23:05:28,906] Trial 87 finished with value: 0.7121454037690068 and parameters: {'iterations': 4085, 'depth': 13, 'learning_rate': 0.001954555418656716, 'subsample': 0.674481469007324, 'colsample_bylevel': 0.6153590542285639, 'l2_leaf_reg': 0.442717896940407}. Best is trial 16 with value: 0.725436503167545.\n",
      "[I 2025-02-10 23:08:17,123] Trial 88 finished with value: 0.712345700207736 and parameters: {'iterations': 3676, 'depth': 14, 'learning_rate': 0.009017746000717803, 'subsample': 0.6562824769362681, 'colsample_bylevel': 0.6044655192322121, 'l2_leaf_reg': 3.1532738391176798}. Best is trial 16 with value: 0.725436503167545.\n",
      "[I 2025-02-10 23:09:28,710] Trial 89 finished with value: 0.7124830463371503 and parameters: {'iterations': 3942, 'depth': 13, 'learning_rate': 0.006148189357896306, 'subsample': 0.6993176142566414, 'colsample_bylevel': 0.6355682916139002, 'l2_leaf_reg': 0.22440524725321662}. Best is trial 16 with value: 0.725436503167545.\n",
      "[I 2025-02-10 23:14:36,063] Trial 90 finished with value: 0.7171413692264551 and parameters: {'iterations': 3811, 'depth': 15, 'learning_rate': 0.003373881761776629, 'subsample': 0.6181679232381136, 'colsample_bylevel': 0.6728513020222937, 'l2_leaf_reg': 0.12216781255654398}. Best is trial 16 with value: 0.725436503167545.\n",
      "[I 2025-02-10 23:16:22,327] Trial 91 finished with value: 0.7108520610503545 and parameters: {'iterations': 3811, 'depth': 15, 'learning_rate': 0.0038020399058874125, 'subsample': 0.6200593980639135, 'colsample_bylevel': 0.674467215642374, 'l2_leaf_reg': 0.11364674799665765}. Best is trial 16 with value: 0.725436503167545.\n",
      "[I 2025-02-10 23:22:26,491] Trial 92 finished with value: 0.72008286549808 and parameters: {'iterations': 4186, 'depth': 16, 'learning_rate': 0.00467235751712971, 'subsample': 0.6448618241827643, 'colsample_bylevel': 0.6717739142083036, 'l2_leaf_reg': 0.6712954165541387}. Best is trial 16 with value: 0.725436503167545.\n",
      "[I 2025-02-10 23:27:58,494] Trial 93 finished with value: 0.713272786581283 and parameters: {'iterations': 4405, 'depth': 16, 'learning_rate': 0.0029265664805812113, 'subsample': 0.6395189218542356, 'colsample_bylevel': 0.6954265142084851, 'l2_leaf_reg': 0.6364809843844205}. Best is trial 16 with value: 0.725436503167545.\n",
      "[I 2025-02-10 23:37:36,010] Trial 94 finished with value: 0.7167464991043888 and parameters: {'iterations': 4659, 'depth': 16, 'learning_rate': 0.00492731089051509, 'subsample': 0.6646393746330767, 'colsample_bylevel': 0.6491466473018118, 'l2_leaf_reg': 0.3454856199019615}. Best is trial 16 with value: 0.725436503167545.\n",
      "[I 2025-02-10 23:42:38,673] Trial 95 finished with value: 0.722251789791749 and parameters: {'iterations': 4084, 'depth': 15, 'learning_rate': 0.0045254217522599565, 'subsample': 0.6456304606453775, 'colsample_bylevel': 0.671048680144644, 'l2_leaf_reg': 1.0801391081448017}. Best is trial 16 with value: 0.725436503167545.\n",
      "[I 2025-02-10 23:44:47,739] Trial 96 finished with value: 0.7175705758808751 and parameters: {'iterations': 4225, 'depth': 15, 'learning_rate': 0.004364243775780089, 'subsample': 0.6854868462887787, 'colsample_bylevel': 0.6730207508748269, 'l2_leaf_reg': 0.13415645500651813}. Best is trial 16 with value: 0.725436503167545.\n",
      "[I 2025-02-10 23:51:43,800] Trial 97 finished with value: 0.7138965669190401 and parameters: {'iterations': 4058, 'depth': 16, 'learning_rate': 0.004796306985557485, 'subsample': 0.6888074541726026, 'colsample_bylevel': 0.6734852561511868, 'l2_leaf_reg': 0.1430616716015217}. Best is trial 16 with value: 0.725436503167545.\n",
      "[I 2025-02-10 23:53:12,965] Trial 98 finished with value: 0.7075815063436743 and parameters: {'iterations': 4936, 'depth': 15, 'learning_rate': 0.007681669926356093, 'subsample': 0.6503827382418259, 'colsample_bylevel': 0.6259929862869004, 'l2_leaf_reg': 0.06388444594382514}. Best is trial 16 with value: 0.725436503167545.\n",
      "[I 2025-02-10 23:57:16,604] Trial 99 finished with value: 0.7178738819166653 and parameters: {'iterations': 4123, 'depth': 15, 'learning_rate': 0.006040154883137496, 'subsample': 0.6333108928961092, 'colsample_bylevel': 0.7031017458022661, 'l2_leaf_reg': 0.7915135416885976}. Best is trial 16 with value: 0.725436503167545.\n",
      "[I 2025-02-11 00:02:09,640] Trial 100 finished with value: 0.7133071231136368 and parameters: {'iterations': 4294, 'depth': 15, 'learning_rate': 0.004090150925552914, 'subsample': 0.6289553163133582, 'colsample_bylevel': 0.7116219752306563, 'l2_leaf_reg': 0.5175681055200785}. Best is trial 16 with value: 0.725436503167545.\n",
      "[I 2025-02-11 00:03:56,599] Trial 101 finished with value: 0.7100909345831832 and parameters: {'iterations': 4111, 'depth': 15, 'learning_rate': 0.00020237497318931652, 'subsample': 0.6063926257587929, 'colsample_bylevel': 0.7182274213683183, 'l2_leaf_reg': 1.140241864943048}. Best is trial 16 with value: 0.725436503167545.\n",
      "[I 2025-02-11 00:08:05,560] Trial 102 finished with value: 0.7198425097716048 and parameters: {'iterations': 4455, 'depth': 16, 'learning_rate': 0.0057506022257312935, 'subsample': 0.645351815174642, 'colsample_bylevel': 0.692495735375819, 'l2_leaf_reg': 0.7127640762857748}. Best is trial 16 with value: 0.725436503167545.\n",
      "[I 2025-02-11 00:16:09,822] Trial 103 finished with value: 0.7169296272769412 and parameters: {'iterations': 3737, 'depth': 16, 'learning_rate': 0.00631664887748918, 'subsample': 0.6441326494134824, 'colsample_bylevel': 0.6959866322488385, 'l2_leaf_reg': 0.34652080588828055}. Best is trial 16 with value: 0.725436503167545.\n",
      "[I 2025-02-11 00:21:35,347] Trial 104 finished with value: 0.7112812677047746 and parameters: {'iterations': 4163, 'depth': 16, 'learning_rate': 0.0032652684744012787, 'subsample': 0.6255830195207286, 'colsample_bylevel': 0.6818438170166925, 'l2_leaf_reg': 0.029298972941038372}. Best is trial 16 with value: 0.725436503167545.\n",
      "[I 2025-02-11 00:29:57,719] Trial 105 finished with value: 0.7175591303700906 and parameters: {'iterations': 3450, 'depth': 15, 'learning_rate': 0.002640463271226346, 'subsample': 0.6764636516271735, 'colsample_bylevel': 0.6676389660980758, 'l2_leaf_reg': 0.7207146477820594}. Best is trial 16 with value: 0.725436503167545.\n",
      "[I 2025-02-11 00:32:42,604] Trial 106 finished with value: 0.7013036436783582 and parameters: {'iterations': 3544, 'depth': 16, 'learning_rate': 0.0023192045166304334, 'subsample': 0.6677847481293802, 'colsample_bylevel': 0.6524063945235026, 'l2_leaf_reg': 5.6674039462501185}. Best is trial 16 with value: 0.725436503167545.\n",
      "[I 2025-02-11 00:41:28,552] Trial 107 finished with value: 0.71561339353672 and parameters: {'iterations': 3308, 'depth': 15, 'learning_rate': 0.0027336670856220337, 'subsample': 0.7120346910145406, 'colsample_bylevel': 0.6658716609686158, 'l2_leaf_reg': 1.98136779768459}. Best is trial 16 with value: 0.725436503167545.\n",
      "[I 2025-02-11 00:43:02,447] Trial 108 finished with value: 0.7249929896246445 and parameters: {'iterations': 3991, 'depth': 15, 'learning_rate': 0.004530122514528358, 'subsample': 0.6781605498140736, 'colsample_bylevel': 0.7317757398234749, 'l2_leaf_reg': 0.20689316474417063}. Best is trial 16 with value: 0.725436503167545.\n",
      "[I 2025-02-11 00:45:27,354] Trial 109 finished with value: 0.7166949943058584 and parameters: {'iterations': 3970, 'depth': 15, 'learning_rate': 0.007172052934617913, 'subsample': 0.7612812837574789, 'colsample_bylevel': 0.7255938333476784, 'l2_leaf_reg': 0.21334546496124854}. Best is trial 16 with value: 0.725436503167545.\n",
      "[I 2025-02-11 00:48:42,727] Trial 110 finished with value: 0.7227840060432298 and parameters: {'iterations': 5185, 'depth': 16, 'learning_rate': 0.004192448983530313, 'subsample': 0.7211120181900254, 'colsample_bylevel': 0.7346877244384482, 'l2_leaf_reg': 0.659649959138205}. Best is trial 16 with value: 0.725436503167545.\n",
      "[I 2025-02-11 00:58:41,523] Trial 111 finished with value: 0.7213819309721246 and parameters: {'iterations': 4359, 'depth': 16, 'learning_rate': 0.004393692805343344, 'subsample': 0.7192986730099189, 'colsample_bylevel': 0.7373374164596587, 'l2_leaf_reg': 0.7908521438257344}. Best is trial 16 with value: 0.725436503167545.\n",
      "[I 2025-02-11 01:03:25,718] Trial 112 finished with value: 0.717438952506853 and parameters: {'iterations': 5323, 'depth': 16, 'learning_rate': 0.004574012084030577, 'subsample': 0.7184660357132058, 'colsample_bylevel': 0.7373450944178126, 'l2_leaf_reg': 0.4534682443254348}. Best is trial 16 with value: 0.725436503167545.\n",
      "[W 2025-02-11 01:04:35,449] Trial 113 failed with parameters: {'iterations': 5559, 'depth': 16, 'learning_rate': 0.00921732224577773, 'subsample': 0.7414849909276818, 'colsample_bylevel': 0.7027753223964032, 'l2_leaf_reg': 2.1845948689352257} because of the following error: KeyboardInterrupt('').\n",
      "Traceback (most recent call last):\n",
      "  File \"c:\\Users\\juneh\\AppData\\Local\\Programs\\Python\\Python37\\lib\\site-packages\\optuna\\study\\_optimize.py\", line 196, in _run_trial\n",
      "    value_or_values = func(trial)\n",
      "  File \"C:\\Users\\juneh\\AppData\\Local\\Temp\\ipykernel_17540\\3800442986.py\", line 22, in objective\n",
      "    model.fit(DI_X_train, DI_y_train, eval_set=(DI_X_test, DI_y_test), early_stopping_rounds=100, verbose=False)\n",
      "  File \"c:\\Users\\juneh\\AppData\\Local\\Programs\\Python\\Python37\\lib\\site-packages\\catboost\\core.py\", line 5222, in fit\n",
      "    silent, early_stopping_rounds, save_snapshot, snapshot_file, snapshot_interval, init_model, callbacks, log_cout, log_cerr)\n",
      "  File \"c:\\Users\\juneh\\AppData\\Local\\Programs\\Python\\Python37\\lib\\site-packages\\catboost\\core.py\", line 2405, in _fit\n",
      "    train_params[\"init_model\"]\n",
      "  File \"c:\\Users\\juneh\\AppData\\Local\\Programs\\Python\\Python37\\lib\\site-packages\\catboost\\core.py\", line 1780, in _train\n",
      "    self._object._train(train_pool, test_pool, params, allow_clear_pool, init_model._object if init_model else None)\n",
      "  File \"_catboost.pyx\", line 4833, in _catboost._CatBoost._train\n",
      "  File \"_catboost.pyx\", line 4882, in _catboost._CatBoost._train\n",
      "KeyboardInterrupt\n",
      "[W 2025-02-11 01:04:35,473] Trial 113 failed with value None.\n"
     ]
    },
    {
     "ename": "KeyboardInterrupt",
     "evalue": "",
     "output_type": "error",
     "traceback": [
      "\u001b[1;31m---------------------------------------------------------------------------\u001b[0m",
      "\u001b[1;31mKeyboardInterrupt\u001b[0m                         Traceback (most recent call last)",
      "\u001b[1;32m~\\AppData\\Local\\Temp\\ipykernel_17540\\3800442986.py\u001b[0m in \u001b[0;36m<module>\u001b[1;34m\u001b[0m\n\u001b[0;32m     29\u001b[0m \u001b[1;31m# Optuna 스터디 생성 및 최적화 실행\u001b[0m\u001b[1;33m\u001b[0m\u001b[1;33m\u001b[0m\u001b[1;33m\u001b[0m\u001b[0m\n\u001b[0;32m     30\u001b[0m \u001b[0mstudy\u001b[0m \u001b[1;33m=\u001b[0m \u001b[0moptuna\u001b[0m\u001b[1;33m.\u001b[0m\u001b[0mcreate_study\u001b[0m\u001b[1;33m(\u001b[0m\u001b[0mdirection\u001b[0m\u001b[1;33m=\u001b[0m\u001b[1;34m'maximize'\u001b[0m\u001b[1;33m)\u001b[0m\u001b[1;33m\u001b[0m\u001b[1;33m\u001b[0m\u001b[0m\n\u001b[1;32m---> 31\u001b[1;33m \u001b[0mstudy\u001b[0m\u001b[1;33m.\u001b[0m\u001b[0moptimize\u001b[0m\u001b[1;33m(\u001b[0m\u001b[0mobjective\u001b[0m\u001b[1;33m,\u001b[0m \u001b[0mn_trials\u001b[0m\u001b[1;33m=\u001b[0m\u001b[1;36m2000\u001b[0m\u001b[1;33m)\u001b[0m\u001b[1;33m\u001b[0m\u001b[1;33m\u001b[0m\u001b[0m\n\u001b[0m\u001b[0;32m     32\u001b[0m \u001b[1;33m\u001b[0m\u001b[0m\n\u001b[0;32m     33\u001b[0m \u001b[1;31m# 최적의 하이퍼파라미터 출력\u001b[0m\u001b[1;33m\u001b[0m\u001b[1;33m\u001b[0m\u001b[1;33m\u001b[0m\u001b[0m\n",
      "\u001b[1;32mc:\\Users\\juneh\\AppData\\Local\\Programs\\Python\\Python37\\lib\\site-packages\\optuna\\study\\study.py\u001b[0m in \u001b[0;36moptimize\u001b[1;34m(self, func, n_trials, timeout, n_jobs, catch, callbacks, gc_after_trial, show_progress_bar)\u001b[0m\n\u001b[0;32m    458\u001b[0m             \u001b[0mcallbacks\u001b[0m\u001b[1;33m=\u001b[0m\u001b[0mcallbacks\u001b[0m\u001b[1;33m,\u001b[0m\u001b[1;33m\u001b[0m\u001b[1;33m\u001b[0m\u001b[0m\n\u001b[0;32m    459\u001b[0m             \u001b[0mgc_after_trial\u001b[0m\u001b[1;33m=\u001b[0m\u001b[0mgc_after_trial\u001b[0m\u001b[1;33m,\u001b[0m\u001b[1;33m\u001b[0m\u001b[1;33m\u001b[0m\u001b[0m\n\u001b[1;32m--> 460\u001b[1;33m             \u001b[0mshow_progress_bar\u001b[0m\u001b[1;33m=\u001b[0m\u001b[0mshow_progress_bar\u001b[0m\u001b[1;33m,\u001b[0m\u001b[1;33m\u001b[0m\u001b[1;33m\u001b[0m\u001b[0m\n\u001b[0m\u001b[0;32m    461\u001b[0m         )\n\u001b[0;32m    462\u001b[0m \u001b[1;33m\u001b[0m\u001b[0m\n",
      "\u001b[1;32mc:\\Users\\juneh\\AppData\\Local\\Programs\\Python\\Python37\\lib\\site-packages\\optuna\\study\\_optimize.py\u001b[0m in \u001b[0;36m_optimize\u001b[1;34m(study, func, n_trials, timeout, n_jobs, catch, callbacks, gc_after_trial, show_progress_bar)\u001b[0m\n\u001b[0;32m     70\u001b[0m                 \u001b[0mreseed_sampler_rng\u001b[0m\u001b[1;33m=\u001b[0m\u001b[1;32mFalse\u001b[0m\u001b[1;33m,\u001b[0m\u001b[1;33m\u001b[0m\u001b[1;33m\u001b[0m\u001b[0m\n\u001b[0;32m     71\u001b[0m                 \u001b[0mtime_start\u001b[0m\u001b[1;33m=\u001b[0m\u001b[1;32mNone\u001b[0m\u001b[1;33m,\u001b[0m\u001b[1;33m\u001b[0m\u001b[1;33m\u001b[0m\u001b[0m\n\u001b[1;32m---> 72\u001b[1;33m                 \u001b[0mprogress_bar\u001b[0m\u001b[1;33m=\u001b[0m\u001b[0mprogress_bar\u001b[0m\u001b[1;33m,\u001b[0m\u001b[1;33m\u001b[0m\u001b[1;33m\u001b[0m\u001b[0m\n\u001b[0m\u001b[0;32m     73\u001b[0m             )\n\u001b[0;32m     74\u001b[0m         \u001b[1;32melse\u001b[0m\u001b[1;33m:\u001b[0m\u001b[1;33m\u001b[0m\u001b[1;33m\u001b[0m\u001b[0m\n",
      "\u001b[1;32mc:\\Users\\juneh\\AppData\\Local\\Programs\\Python\\Python37\\lib\\site-packages\\optuna\\study\\_optimize.py\u001b[0m in \u001b[0;36m_optimize_sequential\u001b[1;34m(study, func, n_trials, timeout, catch, callbacks, gc_after_trial, reseed_sampler_rng, time_start, progress_bar)\u001b[0m\n\u001b[0;32m    157\u001b[0m \u001b[1;33m\u001b[0m\u001b[0m\n\u001b[0;32m    158\u001b[0m         \u001b[1;32mtry\u001b[0m\u001b[1;33m:\u001b[0m\u001b[1;33m\u001b[0m\u001b[1;33m\u001b[0m\u001b[0m\n\u001b[1;32m--> 159\u001b[1;33m             \u001b[0mfrozen_trial\u001b[0m \u001b[1;33m=\u001b[0m \u001b[0m_run_trial\u001b[0m\u001b[1;33m(\u001b[0m\u001b[0mstudy\u001b[0m\u001b[1;33m,\u001b[0m \u001b[0mfunc\u001b[0m\u001b[1;33m,\u001b[0m \u001b[0mcatch\u001b[0m\u001b[1;33m)\u001b[0m\u001b[1;33m\u001b[0m\u001b[1;33m\u001b[0m\u001b[0m\n\u001b[0m\u001b[0;32m    160\u001b[0m         \u001b[1;32mfinally\u001b[0m\u001b[1;33m:\u001b[0m\u001b[1;33m\u001b[0m\u001b[1;33m\u001b[0m\u001b[0m\n\u001b[0;32m    161\u001b[0m             \u001b[1;31m# The following line mitigates memory problems that can be occurred in some\u001b[0m\u001b[1;33m\u001b[0m\u001b[1;33m\u001b[0m\u001b[1;33m\u001b[0m\u001b[0m\n",
      "\u001b[1;32mc:\\Users\\juneh\\AppData\\Local\\Programs\\Python\\Python37\\lib\\site-packages\\optuna\\study\\_optimize.py\u001b[0m in \u001b[0;36m_run_trial\u001b[1;34m(study, func, catch)\u001b[0m\n\u001b[0;32m    245\u001b[0m         \u001b[1;32mand\u001b[0m \u001b[1;32mnot\u001b[0m \u001b[0misinstance\u001b[0m\u001b[1;33m(\u001b[0m\u001b[0mfunc_err\u001b[0m\u001b[1;33m,\u001b[0m \u001b[0mcatch\u001b[0m\u001b[1;33m)\u001b[0m\u001b[1;33m\u001b[0m\u001b[1;33m\u001b[0m\u001b[0m\n\u001b[0;32m    246\u001b[0m     ):\n\u001b[1;32m--> 247\u001b[1;33m         \u001b[1;32mraise\u001b[0m \u001b[0mfunc_err\u001b[0m\u001b[1;33m\u001b[0m\u001b[1;33m\u001b[0m\u001b[0m\n\u001b[0m\u001b[0;32m    248\u001b[0m     \u001b[1;32mreturn\u001b[0m \u001b[0mfrozen_trial\u001b[0m\u001b[1;33m\u001b[0m\u001b[1;33m\u001b[0m\u001b[0m\n\u001b[0;32m    249\u001b[0m \u001b[1;33m\u001b[0m\u001b[0m\n",
      "\u001b[1;32mc:\\Users\\juneh\\AppData\\Local\\Programs\\Python\\Python37\\lib\\site-packages\\optuna\\study\\_optimize.py\u001b[0m in \u001b[0;36m_run_trial\u001b[1;34m(study, func, catch)\u001b[0m\n\u001b[0;32m    194\u001b[0m     \u001b[1;32mwith\u001b[0m \u001b[0mget_heartbeat_thread\u001b[0m\u001b[1;33m(\u001b[0m\u001b[0mtrial\u001b[0m\u001b[1;33m.\u001b[0m\u001b[0m_trial_id\u001b[0m\u001b[1;33m,\u001b[0m \u001b[0mstudy\u001b[0m\u001b[1;33m.\u001b[0m\u001b[0m_storage\u001b[0m\u001b[1;33m)\u001b[0m\u001b[1;33m:\u001b[0m\u001b[1;33m\u001b[0m\u001b[1;33m\u001b[0m\u001b[0m\n\u001b[0;32m    195\u001b[0m         \u001b[1;32mtry\u001b[0m\u001b[1;33m:\u001b[0m\u001b[1;33m\u001b[0m\u001b[1;33m\u001b[0m\u001b[0m\n\u001b[1;32m--> 196\u001b[1;33m             \u001b[0mvalue_or_values\u001b[0m \u001b[1;33m=\u001b[0m \u001b[0mfunc\u001b[0m\u001b[1;33m(\u001b[0m\u001b[0mtrial\u001b[0m\u001b[1;33m)\u001b[0m\u001b[1;33m\u001b[0m\u001b[1;33m\u001b[0m\u001b[0m\n\u001b[0m\u001b[0;32m    197\u001b[0m         \u001b[1;32mexcept\u001b[0m \u001b[0mexceptions\u001b[0m\u001b[1;33m.\u001b[0m\u001b[0mTrialPruned\u001b[0m \u001b[1;32mas\u001b[0m \u001b[0me\u001b[0m\u001b[1;33m:\u001b[0m\u001b[1;33m\u001b[0m\u001b[1;33m\u001b[0m\u001b[0m\n\u001b[0;32m    198\u001b[0m             \u001b[1;31m# TODO(mamu): Handle multi-objective cases.\u001b[0m\u001b[1;33m\u001b[0m\u001b[1;33m\u001b[0m\u001b[1;33m\u001b[0m\u001b[0m\n",
      "\u001b[1;32m~\\AppData\\Local\\Temp\\ipykernel_17540\\3800442986.py\u001b[0m in \u001b[0;36mobjective\u001b[1;34m(trial)\u001b[0m\n\u001b[0;32m     20\u001b[0m \u001b[1;33m\u001b[0m\u001b[0m\n\u001b[0;32m     21\u001b[0m     \u001b[0mmodel\u001b[0m \u001b[1;33m=\u001b[0m \u001b[0mCatBoostClassifier\u001b[0m\u001b[1;33m(\u001b[0m\u001b[1;33m**\u001b[0m\u001b[0mparam\u001b[0m\u001b[1;33m)\u001b[0m\u001b[1;33m\u001b[0m\u001b[1;33m\u001b[0m\u001b[0m\n\u001b[1;32m---> 22\u001b[1;33m     \u001b[0mmodel\u001b[0m\u001b[1;33m.\u001b[0m\u001b[0mfit\u001b[0m\u001b[1;33m(\u001b[0m\u001b[0mDI_X_train\u001b[0m\u001b[1;33m,\u001b[0m \u001b[0mDI_y_train\u001b[0m\u001b[1;33m,\u001b[0m \u001b[0meval_set\u001b[0m\u001b[1;33m=\u001b[0m\u001b[1;33m(\u001b[0m\u001b[0mDI_X_test\u001b[0m\u001b[1;33m,\u001b[0m \u001b[0mDI_y_test\u001b[0m\u001b[1;33m)\u001b[0m\u001b[1;33m,\u001b[0m \u001b[0mearly_stopping_rounds\u001b[0m\u001b[1;33m=\u001b[0m\u001b[1;36m100\u001b[0m\u001b[1;33m,\u001b[0m \u001b[0mverbose\u001b[0m\u001b[1;33m=\u001b[0m\u001b[1;32mFalse\u001b[0m\u001b[1;33m)\u001b[0m\u001b[1;33m\u001b[0m\u001b[1;33m\u001b[0m\u001b[0m\n\u001b[0m\u001b[0;32m     23\u001b[0m \u001b[1;33m\u001b[0m\u001b[0m\n\u001b[0;32m     24\u001b[0m     \u001b[0my_pred_proba\u001b[0m \u001b[1;33m=\u001b[0m \u001b[0mmodel\u001b[0m\u001b[1;33m.\u001b[0m\u001b[0mpredict_proba\u001b[0m\u001b[1;33m(\u001b[0m\u001b[0mDI_X_test\u001b[0m\u001b[1;33m)\u001b[0m\u001b[1;33m[\u001b[0m\u001b[1;33m:\u001b[0m\u001b[1;33m,\u001b[0m \u001b[1;36m1\u001b[0m\u001b[1;33m]\u001b[0m\u001b[1;33m\u001b[0m\u001b[1;33m\u001b[0m\u001b[0m\n",
      "\u001b[1;32mc:\\Users\\juneh\\AppData\\Local\\Programs\\Python\\Python37\\lib\\site-packages\\catboost\\core.py\u001b[0m in \u001b[0;36mfit\u001b[1;34m(self, X, y, cat_features, text_features, embedding_features, sample_weight, baseline, use_best_model, eval_set, verbose, logging_level, plot, plot_file, column_description, verbose_eval, metric_period, silent, early_stopping_rounds, save_snapshot, snapshot_file, snapshot_interval, init_model, callbacks, log_cout, log_cerr)\u001b[0m\n\u001b[0;32m   5220\u001b[0m         self._fit(X, y, cat_features, text_features, embedding_features, None, sample_weight, None, None, None, None, baseline, use_best_model,\n\u001b[0;32m   5221\u001b[0m                   \u001b[0meval_set\u001b[0m\u001b[1;33m,\u001b[0m \u001b[0mverbose\u001b[0m\u001b[1;33m,\u001b[0m \u001b[0mlogging_level\u001b[0m\u001b[1;33m,\u001b[0m \u001b[0mplot\u001b[0m\u001b[1;33m,\u001b[0m \u001b[0mplot_file\u001b[0m\u001b[1;33m,\u001b[0m \u001b[0mcolumn_description\u001b[0m\u001b[1;33m,\u001b[0m \u001b[0mverbose_eval\u001b[0m\u001b[1;33m,\u001b[0m \u001b[0mmetric_period\u001b[0m\u001b[1;33m,\u001b[0m\u001b[1;33m\u001b[0m\u001b[1;33m\u001b[0m\u001b[0m\n\u001b[1;32m-> 5222\u001b[1;33m                   silent, early_stopping_rounds, save_snapshot, snapshot_file, snapshot_interval, init_model, callbacks, log_cout, log_cerr)\n\u001b[0m\u001b[0;32m   5223\u001b[0m         \u001b[1;32mreturn\u001b[0m \u001b[0mself\u001b[0m\u001b[1;33m\u001b[0m\u001b[1;33m\u001b[0m\u001b[0m\n\u001b[0;32m   5224\u001b[0m \u001b[1;33m\u001b[0m\u001b[0m\n",
      "\u001b[1;32mc:\\Users\\juneh\\AppData\\Local\\Programs\\Python\\Python37\\lib\\site-packages\\catboost\\core.py\u001b[0m in \u001b[0;36m_fit\u001b[1;34m(self, X, y, cat_features, text_features, embedding_features, pairs, sample_weight, group_id, group_weight, subgroup_id, pairs_weight, baseline, use_best_model, eval_set, verbose, logging_level, plot, plot_file, column_description, verbose_eval, metric_period, silent, early_stopping_rounds, save_snapshot, snapshot_file, snapshot_interval, init_model, callbacks, log_cout, log_cerr)\u001b[0m\n\u001b[0;32m   2403\u001b[0m                     \u001b[0mparams\u001b[0m\u001b[1;33m,\u001b[0m\u001b[1;33m\u001b[0m\u001b[1;33m\u001b[0m\u001b[0m\n\u001b[0;32m   2404\u001b[0m                     \u001b[0mallow_clear_pool\u001b[0m\u001b[1;33m,\u001b[0m\u001b[1;33m\u001b[0m\u001b[1;33m\u001b[0m\u001b[0m\n\u001b[1;32m-> 2405\u001b[1;33m                     \u001b[0mtrain_params\u001b[0m\u001b[1;33m[\u001b[0m\u001b[1;34m\"init_model\"\u001b[0m\u001b[1;33m]\u001b[0m\u001b[1;33m\u001b[0m\u001b[1;33m\u001b[0m\u001b[0m\n\u001b[0m\u001b[0;32m   2406\u001b[0m                 )\n\u001b[0;32m   2407\u001b[0m \u001b[1;33m\u001b[0m\u001b[0m\n",
      "\u001b[1;32mc:\\Users\\juneh\\AppData\\Local\\Programs\\Python\\Python37\\lib\\site-packages\\catboost\\core.py\u001b[0m in \u001b[0;36m_train\u001b[1;34m(self, train_pool, test_pool, params, allow_clear_pool, init_model)\u001b[0m\n\u001b[0;32m   1778\u001b[0m \u001b[1;33m\u001b[0m\u001b[0m\n\u001b[0;32m   1779\u001b[0m     \u001b[1;32mdef\u001b[0m \u001b[0m_train\u001b[0m\u001b[1;33m(\u001b[0m\u001b[0mself\u001b[0m\u001b[1;33m,\u001b[0m \u001b[0mtrain_pool\u001b[0m\u001b[1;33m,\u001b[0m \u001b[0mtest_pool\u001b[0m\u001b[1;33m,\u001b[0m \u001b[0mparams\u001b[0m\u001b[1;33m,\u001b[0m \u001b[0mallow_clear_pool\u001b[0m\u001b[1;33m,\u001b[0m \u001b[0minit_model\u001b[0m\u001b[1;33m)\u001b[0m\u001b[1;33m:\u001b[0m\u001b[1;33m\u001b[0m\u001b[1;33m\u001b[0m\u001b[0m\n\u001b[1;32m-> 1780\u001b[1;33m         \u001b[0mself\u001b[0m\u001b[1;33m.\u001b[0m\u001b[0m_object\u001b[0m\u001b[1;33m.\u001b[0m\u001b[0m_train\u001b[0m\u001b[1;33m(\u001b[0m\u001b[0mtrain_pool\u001b[0m\u001b[1;33m,\u001b[0m \u001b[0mtest_pool\u001b[0m\u001b[1;33m,\u001b[0m \u001b[0mparams\u001b[0m\u001b[1;33m,\u001b[0m \u001b[0mallow_clear_pool\u001b[0m\u001b[1;33m,\u001b[0m \u001b[0minit_model\u001b[0m\u001b[1;33m.\u001b[0m\u001b[0m_object\u001b[0m \u001b[1;32mif\u001b[0m \u001b[0minit_model\u001b[0m \u001b[1;32melse\u001b[0m \u001b[1;32mNone\u001b[0m\u001b[1;33m)\u001b[0m\u001b[1;33m\u001b[0m\u001b[1;33m\u001b[0m\u001b[0m\n\u001b[0m\u001b[0;32m   1781\u001b[0m         \u001b[0mself\u001b[0m\u001b[1;33m.\u001b[0m\u001b[0m_set_trained_model_attributes\u001b[0m\u001b[1;33m(\u001b[0m\u001b[1;33m)\u001b[0m\u001b[1;33m\u001b[0m\u001b[1;33m\u001b[0m\u001b[0m\n\u001b[0;32m   1782\u001b[0m \u001b[1;33m\u001b[0m\u001b[0m\n",
      "\u001b[1;32m_catboost.pyx\u001b[0m in \u001b[0;36m_catboost._CatBoost._train\u001b[1;34m()\u001b[0m\n",
      "\u001b[1;32m_catboost.pyx\u001b[0m in \u001b[0;36m_catboost._CatBoost._train\u001b[1;34m()\u001b[0m\n",
      "\u001b[1;31mKeyboardInterrupt\u001b[0m: "
     ]
    }
   ],
   "source": [
    "import optuna\n",
    "from catboost import CatBoostClassifier\n",
    "from sklearn.metrics import roc_auc_score\n",
    "from sklearn.model_selection import train_test_split\n",
    "import matplotlib.pyplot as plt\n",
    "\n",
    "# 목적 함수 정의\n",
    "def objective(trial):\n",
    "    param = {\n",
    "        'iterations': trial.suggest_int('iterations', 200, 6000),\n",
    "        'depth': trial.suggest_int('depth', 3, 16),\n",
    "        'learning_rate': trial.suggest_float('learning_rate', 1e-4, 1e-1, log=True),\n",
    "        'subsample': trial.suggest_float('subsample', 0.5, 1.0),\n",
    "        'colsample_bylevel': trial.suggest_float('colsample_bylevel', 0.5, 1.0),\n",
    "        'l2_leaf_reg': trial.suggest_float('l2_leaf_reg', 1e-8, 10.0, log=True),\n",
    "        'random_seed': 42,\n",
    "        'eval_metric': 'AUC',\n",
    "        'logging_level': 'Silent'\n",
    "    }\n",
    "\n",
    "    model = CatBoostClassifier(**param)\n",
    "    model.fit(DI_X_train, DI_y_train, eval_set=(DI_X_test, DI_y_test), early_stopping_rounds=100, verbose=False)\n",
    "    \n",
    "    y_pred_proba = model.predict_proba(DI_X_test)[:, 1]\n",
    "    \n",
    "    auc = roc_auc_score(DI_y_test, y_pred_proba)\n",
    "    return auc\n",
    "\n",
    "# Optuna 스터디 생성 및 최적화 실행\n",
    "study = optuna.create_study(direction='maximize')\n",
    "study.optimize(objective, n_trials=2000)\n",
    "\n",
    "# 최적의 하이퍼파라미터 출력\n",
    "print(\"Best trial:\")\n",
    "trial = study.best_trial\n",
    "print(f\"  Value: {trial.value}\")\n",
    "print(\"  Params: \")\n",
    "for key, value in trial.params.items():\n",
    "    print(f\"    {key}: {value}\")"
   ]
  },
  {
   "cell_type": "markdown",
   "metadata": {},
   "source": [
    "."
   ]
  }
 ],
 "metadata": {
  "kernelspec": {
   "display_name": "Python 3",
   "language": "python",
   "name": "python3"
  },
  "language_info": {
   "codemirror_mode": {
    "name": "ipython",
    "version": 3
   },
   "file_extension": ".py",
   "mimetype": "text/x-python",
   "name": "python",
   "nbconvert_exporter": "python",
   "pygments_lexer": "ipython3",
   "version": "3.7.8"
  }
 },
 "nbformat": 4,
 "nbformat_minor": 2
}
