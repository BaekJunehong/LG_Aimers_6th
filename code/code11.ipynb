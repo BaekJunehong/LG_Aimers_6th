{
 "cells": [
  {
   "cell_type": "markdown",
   "metadata": {},
   "source": [
    "## 난임 환자 대상 임신 성공 여부 예측"
   ]
  },
  {
   "cell_type": "markdown",
   "metadata": {},
   "source": [
    "### LGAimers 6th 온라인 해커톤"
   ]
  },
  {
   "cell_type": "markdown",
   "metadata": {},
   "source": [
    "Import"
   ]
  },
  {
   "cell_type": "code",
   "execution_count": 505,
   "metadata": {},
   "outputs": [],
   "source": [
    "import numpy as np\n",
    "import pandas as pd\n",
    "import seaborn as sns\n",
    "import matplotlib.pyplot as plt\n",
    "\n",
    "import os\n",
    "from pprint import pprint\n",
    "\n",
    "from sklearn.ensemble import RandomForestClassifier, ExtraTreesClassifier\n",
    "from sklearn.metrics import (\n",
    "    accuracy_score,\n",
    "    classification_report,\n",
    "    confusion_matrix,\n",
    "    f1_score,\n",
    "    precision_score,\n",
    "    recall_score,\n",
    "    roc_auc_score,\n",
    "    roc_curve\n",
    ")\n",
    "from sklearn.model_selection import train_test_split\n",
    "from sklearn.metrics import accuracy_score, f1_score, roc_auc_score, confusion_matrix, ConfusionMatrixDisplay\n",
    "import matplotlib.pyplot as plt\n",
    "from sklearn.preprocessing import OrdinalEncoder\n",
    "from tqdm import tqdm\n",
    "\n",
    "import lightgbm as lgb\n",
    "import xgboost as xgb\n",
    "from catboost import CatBoostClassifier\n",
    "\n",
    "import optuna\n",
    "import lightgbm as lgb\n",
    "from sklearn.metrics import roc_auc_score\n",
    "from sklearn.preprocessing import OrdinalEncoder\n"
   ]
  },
  {
   "cell_type": "code",
   "execution_count": 506,
   "metadata": {},
   "outputs": [],
   "source": [
    "import platform\n",
    "from matplotlib import rc\n",
    "\n",
    "# 운영 체제에 따라 폰트 설정\n",
    "if platform.system() == 'Windows':  # Windows 환경\n",
    "    rc('font', family='Malgun Gothic')  # 맑은 고딕\n",
    "\n",
    "# 음수 표시 가능하도록 설정\n",
    "plt.rcParams['axes.unicode_minus'] = False"
   ]
  },
  {
   "cell_type": "markdown",
   "metadata": {},
   "source": [
    "반복적으로 쓰는 함수툴"
   ]
  },
  {
   "cell_type": "code",
   "execution_count": 507,
   "metadata": {},
   "outputs": [],
   "source": [
    "import matplotlib.pyplot as plt\n",
    "import seaborn as sns\n",
    "import pandas as pd\n",
    "\n",
    "def plot_box(df, col_name):\n",
    "    \"\"\"\n",
    "    주어진 데이터프레임과 열 이름에 대해 박스 플롯을 그리는 함수.\n",
    "\n",
    "    Parameters:\n",
    "    df (pd.DataFrame): 데이터프레임\n",
    "    col_name (str): 열 이름\n",
    "    \"\"\"\n",
    "    plt.figure(figsize=(7, 4))\n",
    "    plt.boxplot(df[col_name], vert=False)\n",
    "    plt.xlabel(col_name)\n",
    "    plt.title(f'Box Plot of {col_name}')\n",
    "    plt.show()\n",
    "\n",
    "def value_counts_ratio(df, col_name, target_name='임신_성공_여부'):\n",
    "    \"\"\"\n",
    "    주어진 데이터프레임의 특정 열에 대해 각 값마다 타겟 변수의 비율과 갯수, 총 갯수를 출력하는 함수.\n",
    "\n",
    "    Parameters:\n",
    "    df (pd.DataFrame): 데이터프레임\n",
    "    col_name (str): 열 이름\n",
    "    target_name (str): 타겟 변수 이름\n",
    "    \"\"\"\n",
    "    # 각 값마다 타겟 변수의 비율 계산\n",
    "    value_counts = df.groupby(col_name)[target_name].value_counts(normalize=True).unstack().fillna(0)\n",
    "    \n",
    "    # 각 값마다 타겟 변수의 갯수 계산\n",
    "    counts = df.groupby(col_name)[target_name].value_counts().unstack().fillna(0)\n",
    "    \n",
    "    # 각 값마다 총 갯수 계산\n",
    "    total_counts = df[col_name].value_counts().rename('Total_Count')\n",
    "    \n",
    "    # 비율과 갯수를 합침\n",
    "    result = value_counts.join(counts, lsuffix='_ratio', rsuffix='_count')\n",
    "    \n",
    "    # 총 갯수를 합침\n",
    "    result = result.join(total_counts, on=col_name)\n",
    "    \n",
    "    # 출력 형식 조정\n",
    "    result.index.name = 'variable'\n",
    "    print(f\"\\n{col_name}별 {target_name} 비율 및 갯수\\n\")\n",
    "    print(result.rename(columns=lambda x: x.split('_')[0]))\n",
    "\n",
    "def summarize_group(df, group_by_columns):\n",
    "    \"\"\"\n",
    "    주어진 데이터프레임을 특정 열들로 그룹화하여 각 그룹의 '임신_성공_여부' 비율과 갯수를 요약하는 함수.\n",
    "\n",
    "    Parameters:\n",
    "    df (pd.DataFrame): 데이터프레임\n",
    "    group_by_columns (list): 그룹화할 열 이름들의 리스트\n",
    "    \"\"\"\n",
    "    # 데이터프레임을 그룹화\n",
    "    grouped_df = df.groupby(group_by_columns)\n",
    "    \n",
    "    # 결과를 저장할 리스트 초기화\n",
    "    results = []\n",
    "    \n",
    "    # 그룹화된 데이터프레임의 내용을 확인하는 코드\n",
    "    for name, group in grouped_df:\n",
    "        # 그룹의 갯수 계산\n",
    "        group_count = group.shape[0]\n",
    "        \n",
    "        # '임신_성공_여부' 변수의 '임신 성공' 비율과 갯수 계산\n",
    "        success_count = group['임신_성공_여부'].value_counts().get(1, 0)\n",
    "        success_ratio = success_count / group_count\n",
    "        \n",
    "        # 결과 리스트에 추가\n",
    "        results.append([name, success_count, success_ratio, group_count])\n",
    "    \n",
    "    # 결과 리스트를 데이터프레임으로 변환\n",
    "    results_df = pd.DataFrame(results, columns=['group', \"'임신_성공_여부' count\", 'ratio', 'Total'])\n",
    "    \n",
    "    # 그룹화된 변수들의 이름을 제목행으로 출력\n",
    "    print(f\"Grouped by: {', '.join(group_by_columns)}\")\n",
    "    print()\n",
    "    # 데이터프레임 출력\n",
    "    print(results_df)\n",
    "\n",
    "def plot_ratio(df, group_by_column, target_column='임신_성공_여부', success_value=1):\n",
    "    \"\"\"\n",
    "    주어진 데이터프레임을 특정 열로 그룹화하여 각 그룹의 타겟 변수의 성공 비율을 시각화하는 함수.\n",
    "\n",
    "    Parameters:\n",
    "    df (pd.DataFrame): 데이터프레임\n",
    "    group_by_column (str): 그룹화할 열 이름\n",
    "    target_column (str): 타겟 변수 이름\n",
    "    success_value (int): 타겟 변수의 성공을 나타내는 값\n",
    "    \"\"\"\n",
    "    # 데이터프레임을 그룹화\n",
    "    grouped_df = df.groupby(group_by_column)\n",
    "    \n",
    "    # 결과를 저장할 리스트 초기화\n",
    "    results = []\n",
    "    \n",
    "    # 그룹화된 데이터프레임의 내용을 확인하는 코드\n",
    "    for name, group in grouped_df:\n",
    "        # 그룹의 갯수 계산\n",
    "        group_count = group.shape[0]\n",
    "        \n",
    "        # '임신_성공_여부' 변수의 '성공' 비율과 갯수 계산\n",
    "        success_count = group[target_column].value_counts().get(success_value, 0)\n",
    "        success_ratio = success_count / group_count\n",
    "        \n",
    "        # 결과 리스트에 추가\n",
    "        results.append([name, success_count, success_ratio, group_count])\n",
    "    \n",
    "    # 결과 리스트를 데이터프레임으로 변환\n",
    "    results_df = pd.DataFrame(results, columns=['group', f\"'{success_value}' count\", 'ratio', 'Total'])\n",
    "    \n",
    "    # 그래프 크기 설정\n",
    "    plt.figure(figsize=(10, 5))\n",
    "    \n",
    "    # 막대 그래프 생성\n",
    "    ax = results_df.plot(kind='bar', x='group', y='ratio', legend=False)\n",
    "    \n",
    "    # 각 막대 위에 임신 성공 여부 갯수와 총 갯수 표시\n",
    "    for i, (success_count, total) in enumerate(zip(results_df[f\"'{success_value}' count\"], results_df['Total'])):\n",
    "        ax.text(i, results_df['ratio'][i], f'{success_count} ({total})', ha='center', va='bottom', fontsize=8)\n",
    "    \n",
    "    # 그래프 제목 및 축 레이블 설정\n",
    "    ax.set_title(f'{success_value} Ratio by {group_by_column}')\n",
    "    ax.set_xlabel(group_by_column)\n",
    "    ax.set_ylabel(f'{success_value} Ratio')\n",
    "   \n",
    "    # 그래프 출력\n",
    "    plt.show()\n",
    "\n",
    "def plot_ratio_boxplot(data, column_name, target_column='임신_성공_여부'):\n",
    "    \"\"\"\n",
    "    주어진 데이터프레임의 특정 열과 타겟 변수 간의 관계를 박스 플롯으로 시각화하는 함수.\n",
    "\n",
    "    Parameters:\n",
    "    data (pd.DataFrame): 데이터프레임\n",
    "    column_name (str): 열 이름\n",
    "    target_column (str): 타겟 변수 이름\n",
    "    \"\"\"\n",
    "\n",
    "    # 그래프 그리기\n",
    "    plt.figure(figsize=(10, 6))\n",
    "    sns.boxplot(x=column_name, y=target_column, data=data)\n",
    "\n",
    "    # 그래프 제목 및 레이블 설정\n",
    "    plt.title(f'{column_name} vs {target_column}')\n",
    "    plt.xlabel(column_name)\n",
    "    plt.ylabel(target_column)\n",
    "\n",
    "    # 그래프 출력\n",
    "    plt.show()"
   ]
  },
  {
   "cell_type": "markdown",
   "metadata": {},
   "source": [
    "### Data Load"
   ]
  },
  {
   "cell_type": "code",
   "execution_count": 508,
   "metadata": {},
   "outputs": [
    {
     "name": "stdout",
     "output_type": "stream",
     "text": [
      "Index(['시술_시기_코드', '시술_당시_나이', '임신_시도_또는_마지막_임신_경과_연수', '시술_유형', '특정_시술_유형',\n",
      "       '배란_자극_여부', '배란_유도_유형', '단일_배아_이식_여부', '착상_전_유전_검사_사용_여부',\n",
      "       '착상_전_유전_진단_사용_여부', '남성_주_불임_원인', '남성_부_불임_원인', '여성_주_불임_원인',\n",
      "       '여성_부_불임_원인', '부부_주_불임_원인', '부부_부_불임_원인', '불명확_불임_원인', '불임_원인_-_난관_질환',\n",
      "       '불임_원인_-_남성_요인', '불임_원인_-_배란_장애', '불임_원인_-_여성_요인', '불임_원인_-_자궁경부_문제',\n",
      "       '불임_원인_-_자궁내막증', '불임_원인_-_정자_농도', '불임_원인_-_정자_면역학적_요인',\n",
      "       '불임_원인_-_정자_운동성', '불임_원인_-_정자_형태', '배아_생성_주요_이유', '총_시술_횟수',\n",
      "       '클리닉_내_총_시술_횟수', 'IVF_시술_횟수', 'DI_시술_횟수', '총_임신_횟수', 'IVF_임신_횟수',\n",
      "       'DI_임신_횟수', '총_출산_횟수', 'IVF_출산_횟수', 'DI_출산_횟수', '총_생성_배아_수',\n",
      "       '미세주입된_난자_수', '미세주입에서_생성된_배아_수', '이식된_배아_수', '미세주입_배아_이식_수', '저장된_배아_수',\n",
      "       '미세주입_후_저장된_배아_수', '해동된_배아_수', '해동_난자_수', '수집된_신선_난자_수', '저장된_신선_난자_수',\n",
      "       '혼합된_난자_수', '파트너_정자와_혼합된_난자_수', '기증자_정자와_혼합된_난자_수', '난자_출처', '정자_출처',\n",
      "       '난자_기증자_나이', '정자_기증자_나이', '동결_배아_사용_여부', '신선_배아_사용_여부', '기증_배아_사용_여부',\n",
      "       '대리모_여부', 'PGD_시술_여부', 'PGS_시술_여부', '난자_채취_경과일', '난자_해동_경과일',\n",
      "       '난자_혼합_경과일', '배아_이식_경과일', '배아_해동_경과일', '임신_성공_여부'],\n",
      "      dtype='object')\n"
     ]
    }
   ],
   "source": [
    "import pandas as pd\n",
    "\n",
    "# 데이터 로드\n",
    "train = pd.read_csv('../data/train.csv').drop(columns=['ID'])\n",
    "test = pd.read_csv('../data/test.csv').drop(columns=['ID'])\n",
    "\n",
    "# 변수명에서 공백을 밑줄로 대체\n",
    "train.columns = train.columns.str.replace(' ', '_')\n",
    "test.columns = test.columns.str.replace(' ', '_')\n",
    "\n",
    "# 변경된 변수명 확인\n",
    "print(train.columns)"
   ]
  },
  {
   "cell_type": "code",
   "execution_count": 509,
   "metadata": {},
   "outputs": [
    {
     "name": "stdout",
     "output_type": "stream",
     "text": [
      "<class 'pandas.core.frame.DataFrame'>\n",
      "RangeIndex: 256351 entries, 0 to 256350\n",
      "Data columns (total 68 columns):\n",
      " #   Column                 Non-Null Count   Dtype  \n",
      "---  ------                 --------------   -----  \n",
      " 0   시술_시기_코드               256351 non-null  object \n",
      " 1   시술_당시_나이               256351 non-null  object \n",
      " 2   임신_시도_또는_마지막_임신_경과_연수  9370 non-null    float64\n",
      " 3   시술_유형                  256351 non-null  object \n",
      " 4   특정_시술_유형               256349 non-null  object \n",
      " 5   배란_자극_여부               256351 non-null  int64  \n",
      " 6   배란_유도_유형               256351 non-null  object \n",
      " 7   단일_배아_이식_여부            250060 non-null  float64\n",
      " 8   착상_전_유전_검사_사용_여부       2718 non-null    float64\n",
      " 9   착상_전_유전_진단_사용_여부       250060 non-null  float64\n",
      " 10  남성_주_불임_원인             256351 non-null  int64  \n",
      " 11  남성_부_불임_원인             256351 non-null  int64  \n",
      " 12  여성_주_불임_원인             256351 non-null  int64  \n",
      " 13  여성_부_불임_원인             256351 non-null  int64  \n",
      " 14  부부_주_불임_원인             256351 non-null  int64  \n",
      " 15  부부_부_불임_원인             256351 non-null  int64  \n",
      " 16  불명확_불임_원인              256351 non-null  int64  \n",
      " 17  불임_원인_-_난관_질환          256351 non-null  int64  \n",
      " 18  불임_원인_-_남성_요인          256351 non-null  int64  \n",
      " 19  불임_원인_-_배란_장애          256351 non-null  int64  \n",
      " 20  불임_원인_-_여성_요인          256351 non-null  int64  \n",
      " 21  불임_원인_-_자궁경부_문제        256351 non-null  int64  \n",
      " 22  불임_원인_-_자궁내막증          256351 non-null  int64  \n",
      " 23  불임_원인_-_정자_농도          256351 non-null  int64  \n",
      " 24  불임_원인_-_정자_면역학적_요인     256351 non-null  int64  \n",
      " 25  불임_원인_-_정자_운동성         256351 non-null  int64  \n",
      " 26  불임_원인_-_정자_형태          256351 non-null  int64  \n",
      " 27  배아_생성_주요_이유            250060 non-null  object \n",
      " 28  총_시술_횟수                256351 non-null  object \n",
      " 29  클리닉_내_총_시술_횟수          256351 non-null  object \n",
      " 30  IVF_시술_횟수              256351 non-null  object \n",
      " 31  DI_시술_횟수               256351 non-null  object \n",
      " 32  총_임신_횟수                256351 non-null  object \n",
      " 33  IVF_임신_횟수              256351 non-null  object \n",
      " 34  DI_임신_횟수               256351 non-null  object \n",
      " 35  총_출산_횟수                256351 non-null  object \n",
      " 36  IVF_출산_횟수              256351 non-null  object \n",
      " 37  DI_출산_횟수               256351 non-null  object \n",
      " 38  총_생성_배아_수              250060 non-null  float64\n",
      " 39  미세주입된_난자_수             250060 non-null  float64\n",
      " 40  미세주입에서_생성된_배아_수        250060 non-null  float64\n",
      " 41  이식된_배아_수               250060 non-null  float64\n",
      " 42  미세주입_배아_이식_수           250060 non-null  float64\n",
      " 43  저장된_배아_수               250060 non-null  float64\n",
      " 44  미세주입_후_저장된_배아_수        250060 non-null  float64\n",
      " 45  해동된_배아_수               250060 non-null  float64\n",
      " 46  해동_난자_수                250060 non-null  float64\n",
      " 47  수집된_신선_난자_수            250060 non-null  float64\n",
      " 48  저장된_신선_난자_수            250060 non-null  float64\n",
      " 49  혼합된_난자_수               250060 non-null  float64\n",
      " 50  파트너_정자와_혼합된_난자_수       250060 non-null  float64\n",
      " 51  기증자_정자와_혼합된_난자_수       250060 non-null  float64\n",
      " 52  난자_출처                  256351 non-null  object \n",
      " 53  정자_출처                  256351 non-null  object \n",
      " 54  난자_기증자_나이              256351 non-null  object \n",
      " 55  정자_기증자_나이              256351 non-null  object \n",
      " 56  동결_배아_사용_여부            250060 non-null  float64\n",
      " 57  신선_배아_사용_여부            250060 non-null  float64\n",
      " 58  기증_배아_사용_여부            250060 non-null  float64\n",
      " 59  대리모_여부                 250060 non-null  float64\n",
      " 60  PGD_시술_여부              2179 non-null    float64\n",
      " 61  PGS_시술_여부              1929 non-null    float64\n",
      " 62  난자_채취_경과일              198863 non-null  float64\n",
      " 63  난자_해동_경과일              1436 non-null    float64\n",
      " 64  난자_혼합_경과일              202616 non-null  float64\n",
      " 65  배아_이식_경과일              212785 non-null  float64\n",
      " 66  배아_해동_경과일              40369 non-null   float64\n",
      " 67  임신_성공_여부               256351 non-null  int64  \n",
      "dtypes: float64(29), int64(19), object(20)\n",
      "memory usage: 133.0+ MB\n"
     ]
    }
   ],
   "source": [
    "train.info(verbose=True)"
   ]
  },
  {
   "cell_type": "code",
   "execution_count": 510,
   "metadata": {},
   "outputs": [
    {
     "data": {
      "image/png": "[encoded data removed]",
      "text/plain": [
       "<Figure size 640x480 with 1 Axes>"
      ]
     },
     "metadata": {},
     "output_type": "display_data"
    }
   ],
   "source": [
    "import matplotlib.pyplot as plt\n",
    "import pandas as pd\n",
    "\n",
    "# '임신_성공_여부' 변수의 값 개수 계산\n",
    "value_counts = train['임신_성공_여부'].value_counts()\n",
    "\n",
    "# 라벨 변경\n",
    "labels = {1: '1(임신 성공)', 0: '0(임신 실패)'}\n",
    "value_counts.index = value_counts.index.map(labels)\n",
    "\n",
    "# 도넛 차트 그리기\n",
    "fig, ax = plt.subplots()\n",
    "\n",
    "# 파이 차트 그리기\n",
    "wedges, texts, autotexts = ax.pie(value_counts, labels=value_counts.index, autopct='%1.1f%%', startangle=90, wedgeprops=dict(width=0.5))\n",
    "\n",
    "# 도넛 차트 가운데에 원 그리기\n",
    "centre_circle = plt.Circle((0, 0), 0.70, fc='white')\n",
    "fig.gca().add_artist(centre_circle)\n",
    "\n",
    "# 차트 제목 설정\n",
    "ax.set_title('임신 성공 여부 도넛 차트')\n",
    "\n",
    "# 차트 표시\n",
    "plt.show()"
   ]
  },
  {
   "cell_type": "markdown",
   "metadata": {},
   "source": [
    "## EDA"
   ]
  },
  {
   "cell_type": "code",
   "execution_count": 511,
   "metadata": {},
   "outputs": [
    {
     "name": "stdout",
     "output_type": "stream",
     "text": [
      "시술유형 DI 데이터셋:\n",
      "       시술_시기_코드 시술_당시_나이  임신_시도_또는_마지막_임신_경과_연수 시술_유형 특정_시술_유형  배란_자극_여부  \\\n",
      "14       TRXQMD  만38-39세                    NaN    DI      IUI         0   \n",
      "39       TRDQAZ  만18-34세                    NaN    DI      IUI         1   \n",
      "127      TRJXFG  만35-37세                    NaN    DI      IUI         1   \n",
      "162      TRXQMD  만38-39세                    NaN    DI      IUI         1   \n",
      "174      TRCMWS  만40-42세                    NaN    DI      IUI         0   \n",
      "...         ...      ...                    ...   ...      ...       ...   \n",
      "256174   TRZKPL  만45-50세                    NaN    DI      IUI         1   \n",
      "256222   TRYBLT  만18-34세                    NaN    DI      IUI         1   \n",
      "256228   TRYBLT  만40-42세                    NaN    DI      IUI         1   \n",
      "256301   TRCMWS  만40-42세                    NaN    DI      IUI         0   \n",
      "256326   TRDQAZ  만40-42세                    NaN    DI      IUI         1   \n",
      "\n",
      "       배란_유도_유형  단일_배아_이식_여부  착상_전_유전_검사_사용_여부  착상_전_유전_진단_사용_여부  ...  \\\n",
      "14       알 수 없음          NaN               NaN               NaN  ...   \n",
      "39       알 수 없음          NaN               NaN               NaN  ...   \n",
      "127      알 수 없음          NaN               NaN               NaN  ...   \n",
      "162      알 수 없음          NaN               NaN               NaN  ...   \n",
      "174      알 수 없음          NaN               NaN               NaN  ...   \n",
      "...         ...          ...               ...               ...  ...   \n",
      "256174   알 수 없음          NaN               NaN               NaN  ...   \n",
      "256222   알 수 없음          NaN               NaN               NaN  ...   \n",
      "256228   알 수 없음          NaN               NaN               NaN  ...   \n",
      "256301   알 수 없음          NaN               NaN               NaN  ...   \n",
      "256326   알 수 없음          NaN               NaN               NaN  ...   \n",
      "\n",
      "        기증_배아_사용_여부  대리모_여부  PGD_시술_여부  PGS_시술_여부  난자_채취_경과일  난자_해동_경과일  \\\n",
      "14              NaN     NaN        NaN        NaN        NaN        NaN   \n",
      "39              NaN     NaN        NaN        NaN        NaN        NaN   \n",
      "127             NaN     NaN        NaN        NaN        NaN        NaN   \n",
      "162             NaN     NaN        NaN        NaN        NaN        NaN   \n",
      "174             NaN     NaN        NaN        NaN        NaN        NaN   \n",
      "...             ...     ...        ...        ...        ...        ...   \n",
      "256174          NaN     NaN        NaN        NaN        NaN        NaN   \n",
      "256222          NaN     NaN        NaN        NaN        NaN        NaN   \n",
      "256228          NaN     NaN        NaN        NaN        NaN        NaN   \n",
      "256301          NaN     NaN        NaN        NaN        NaN        NaN   \n",
      "256326          NaN     NaN        NaN        NaN        NaN        NaN   \n",
      "\n",
      "        난자_혼합_경과일  배아_이식_경과일  배아_해동_경과일  임신_성공_여부  \n",
      "14            NaN        NaN        NaN         0  \n",
      "39            NaN        NaN        NaN         0  \n",
      "127           NaN        NaN        NaN         0  \n",
      "162           NaN        NaN        NaN         0  \n",
      "174           NaN        NaN        NaN         1  \n",
      "...           ...        ...        ...       ...  \n",
      "256174        NaN        NaN        NaN         0  \n",
      "256222        NaN        NaN        NaN         0  \n",
      "256228        NaN        NaN        NaN         1  \n",
      "256301        NaN        NaN        NaN         0  \n",
      "256326        NaN        NaN        NaN         0  \n",
      "\n",
      "[6291 rows x 68 columns]\n"
     ]
    }
   ],
   "source": [
    "# '시술_유형' 변수의 값이 'DI'에 해당 안하는 데이터 추출\n",
    "DI_train = train[train['시술_유형'] == 'DI'] # \n",
    "DI_test = test[test['시술_유형'] == 'DI']\n",
    "\n",
    "# 새로운 데이터셋 생성\n",
    "print(\"시술유형 DI 데이터셋:\")\n",
    "print(DI_train)"
   ]
  },
  {
   "cell_type": "code",
   "execution_count": 512,
   "metadata": {},
   "outputs": [
    {
     "name": "stdout",
     "output_type": "stream",
     "text": [
      "<class 'pandas.core.frame.DataFrame'>\n",
      "Int64Index: 6291 entries, 14 to 256326\n",
      "Data columns (total 68 columns):\n",
      " #   Column                 Non-Null Count  Dtype  \n",
      "---  ------                 --------------  -----  \n",
      " 0   시술_시기_코드               6291 non-null   object \n",
      " 1   시술_당시_나이               6291 non-null   object \n",
      " 2   임신_시도_또는_마지막_임신_경과_연수  303 non-null    float64\n",
      " 3   시술_유형                  6291 non-null   object \n",
      " 4   특정_시술_유형               6291 non-null   object \n",
      " 5   배란_자극_여부               6291 non-null   int64  \n",
      " 6   배란_유도_유형               6291 non-null   object \n",
      " 7   단일_배아_이식_여부            0 non-null      float64\n",
      " 8   착상_전_유전_검사_사용_여부       0 non-null      float64\n",
      " 9   착상_전_유전_진단_사용_여부       0 non-null      float64\n",
      " 10  남성_주_불임_원인             6291 non-null   int64  \n",
      " 11  남성_부_불임_원인             6291 non-null   int64  \n",
      " 12  여성_주_불임_원인             6291 non-null   int64  \n",
      " 13  여성_부_불임_원인             6291 non-null   int64  \n",
      " 14  부부_주_불임_원인             6291 non-null   int64  \n",
      " 15  부부_부_불임_원인             6291 non-null   int64  \n",
      " 16  불명확_불임_원인              6291 non-null   int64  \n",
      " 17  불임_원인_-_난관_질환          6291 non-null   int64  \n",
      " 18  불임_원인_-_남성_요인          6291 non-null   int64  \n",
      " 19  불임_원인_-_배란_장애          6291 non-null   int64  \n",
      " 20  불임_원인_-_여성_요인          6291 non-null   int64  \n",
      " 21  불임_원인_-_자궁경부_문제        6291 non-null   int64  \n",
      " 22  불임_원인_-_자궁내막증          6291 non-null   int64  \n",
      " 23  불임_원인_-_정자_농도          6291 non-null   int64  \n",
      " 24  불임_원인_-_정자_면역학적_요인     6291 non-null   int64  \n",
      " 25  불임_원인_-_정자_운동성         6291 non-null   int64  \n",
      " 26  불임_원인_-_정자_형태          6291 non-null   int64  \n",
      " 27  배아_생성_주요_이유            0 non-null      object \n",
      " 28  총_시술_횟수                6291 non-null   object \n",
      " 29  클리닉_내_총_시술_횟수          6291 non-null   object \n",
      " 30  IVF_시술_횟수              6291 non-null   object \n",
      " 31  DI_시술_횟수               6291 non-null   object \n",
      " 32  총_임신_횟수                6291 non-null   object \n",
      " 33  IVF_임신_횟수              6291 non-null   object \n",
      " 34  DI_임신_횟수               6291 non-null   object \n",
      " 35  총_출산_횟수                6291 non-null   object \n",
      " 36  IVF_출산_횟수              6291 non-null   object \n",
      " 37  DI_출산_횟수               6291 non-null   object \n",
      " 38  총_생성_배아_수              0 non-null      float64\n",
      " 39  미세주입된_난자_수             0 non-null      float64\n",
      " 40  미세주입에서_생성된_배아_수        0 non-null      float64\n",
      " 41  이식된_배아_수               0 non-null      float64\n",
      " 42  미세주입_배아_이식_수           0 non-null      float64\n",
      " 43  저장된_배아_수               0 non-null      float64\n",
      " 44  미세주입_후_저장된_배아_수        0 non-null      float64\n",
      " 45  해동된_배아_수               0 non-null      float64\n",
      " 46  해동_난자_수                0 non-null      float64\n",
      " 47  수집된_신선_난자_수            0 non-null      float64\n",
      " 48  저장된_신선_난자_수            0 non-null      float64\n",
      " 49  혼합된_난자_수               0 non-null      float64\n",
      " 50  파트너_정자와_혼합된_난자_수       0 non-null      float64\n",
      " 51  기증자_정자와_혼합된_난자_수       0 non-null      float64\n",
      " 52  난자_출처                  6291 non-null   object \n",
      " 53  정자_출처                  6291 non-null   object \n",
      " 54  난자_기증자_나이              6291 non-null   object \n",
      " 55  정자_기증자_나이              6291 non-null   object \n",
      " 56  동결_배아_사용_여부            0 non-null      float64\n",
      " 57  신선_배아_사용_여부            0 non-null      float64\n",
      " 58  기증_배아_사용_여부            0 non-null      float64\n",
      " 59  대리모_여부                 0 non-null      float64\n",
      " 60  PGD_시술_여부              0 non-null      float64\n",
      " 61  PGS_시술_여부              0 non-null      float64\n",
      " 62  난자_채취_경과일              0 non-null      float64\n",
      " 63  난자_해동_경과일              0 non-null      float64\n",
      " 64  난자_혼합_경과일              0 non-null      float64\n",
      " 65  배아_이식_경과일              0 non-null      float64\n",
      " 66  배아_해동_경과일              0 non-null      float64\n",
      " 67  임신_성공_여부               6291 non-null   int64  \n",
      "dtypes: float64(29), int64(19), object(20)\n",
      "memory usage: 3.3+ MB\n"
     ]
    }
   ],
   "source": [
    "DI_train.info()"
   ]
  },
  {
   "cell_type": "code",
   "execution_count": 513,
   "metadata": {},
   "outputs": [],
   "source": [
    "# 모든 값이 결측값인 변수를 제거\n",
    "DI_train = DI_train.dropna(axis=1, how='all')\n",
    "DI_test = DI_test.dropna(axis=1, how='all')"
   ]
  },
  {
   "cell_type": "code",
   "execution_count": 514,
   "metadata": {},
   "outputs": [],
   "source": [
    "train = DI_train\n",
    "test = DI_test"
   ]
  },
  {
   "cell_type": "code",
   "execution_count": 515,
   "metadata": {},
   "outputs": [
    {
     "name": "stdout",
     "output_type": "stream",
     "text": [
      "<class 'pandas.core.frame.DataFrame'>\n",
      "Int64Index: 6291 entries, 14 to 256326\n",
      "Data columns (total 39 columns):\n",
      " #   Column                 Non-Null Count  Dtype  \n",
      "---  ------                 --------------  -----  \n",
      " 0   시술_시기_코드               6291 non-null   object \n",
      " 1   시술_당시_나이               6291 non-null   object \n",
      " 2   임신_시도_또는_마지막_임신_경과_연수  303 non-null    float64\n",
      " 3   시술_유형                  6291 non-null   object \n",
      " 4   특정_시술_유형               6291 non-null   object \n",
      " 5   배란_자극_여부               6291 non-null   int64  \n",
      " 6   배란_유도_유형               6291 non-null   object \n",
      " 7   남성_주_불임_원인             6291 non-null   int64  \n",
      " 8   남성_부_불임_원인             6291 non-null   int64  \n",
      " 9   여성_주_불임_원인             6291 non-null   int64  \n",
      " 10  여성_부_불임_원인             6291 non-null   int64  \n",
      " 11  부부_주_불임_원인             6291 non-null   int64  \n",
      " 12  부부_부_불임_원인             6291 non-null   int64  \n",
      " 13  불명확_불임_원인              6291 non-null   int64  \n",
      " 14  불임_원인_-_난관_질환          6291 non-null   int64  \n",
      " 15  불임_원인_-_남성_요인          6291 non-null   int64  \n",
      " 16  불임_원인_-_배란_장애          6291 non-null   int64  \n",
      " 17  불임_원인_-_여성_요인          6291 non-null   int64  \n",
      " 18  불임_원인_-_자궁경부_문제        6291 non-null   int64  \n",
      " 19  불임_원인_-_자궁내막증          6291 non-null   int64  \n",
      " 20  불임_원인_-_정자_농도          6291 non-null   int64  \n",
      " 21  불임_원인_-_정자_면역학적_요인     6291 non-null   int64  \n",
      " 22  불임_원인_-_정자_운동성         6291 non-null   int64  \n",
      " 23  불임_원인_-_정자_형태          6291 non-null   int64  \n",
      " 24  총_시술_횟수                6291 non-null   object \n",
      " 25  클리닉_내_총_시술_횟수          6291 non-null   object \n",
      " 26  IVF_시술_횟수              6291 non-null   object \n",
      " 27  DI_시술_횟수               6291 non-null   object \n",
      " 28  총_임신_횟수                6291 non-null   object \n",
      " 29  IVF_임신_횟수              6291 non-null   object \n",
      " 30  DI_임신_횟수               6291 non-null   object \n",
      " 31  총_출산_횟수                6291 non-null   object \n",
      " 32  IVF_출산_횟수              6291 non-null   object \n",
      " 33  DI_출산_횟수               6291 non-null   object \n",
      " 34  난자_출처                  6291 non-null   object \n",
      " 35  정자_출처                  6291 non-null   object \n",
      " 36  난자_기증자_나이              6291 non-null   object \n",
      " 37  정자_기증자_나이              6291 non-null   object \n",
      " 38  임신_성공_여부               6291 non-null   int64  \n",
      "dtypes: float64(1), int64(19), object(19)\n",
      "memory usage: 1.9+ MB\n"
     ]
    }
   ],
   "source": [
    "train.info()"
   ]
  },
  {
   "cell_type": "code",
   "execution_count": 516,
   "metadata": {},
   "outputs": [
    {
     "data": {
      "image/png": "[encoded data removed]",
      "text/plain": [
       "<Figure size 640x480 with 1 Axes>"
      ]
     },
     "metadata": {},
     "output_type": "display_data"
    }
   ],
   "source": [
    "import matplotlib.pyplot as plt\n",
    "import pandas as pd\n",
    "\n",
    "# '임신_성공_여부' 변수의 값 개수 계산\n",
    "value_counts = train['임신_성공_여부'].value_counts()\n",
    "\n",
    "# 라벨 변경\n",
    "labels = {1: '1(임신 성공)', 0: '0(임신 실패)'}\n",
    "value_counts.index = value_counts.index.map(labels)\n",
    "\n",
    "# 도넛 차트 그리기\n",
    "fig, ax = plt.subplots()\n",
    "\n",
    "# 파이 차트 그리기\n",
    "wedges, texts, autotexts = ax.pie(value_counts, labels=value_counts.index, autopct='%1.1f%%', startangle=90, wedgeprops=dict(width=0.5))\n",
    "\n",
    "# 도넛 차트 가운데에 원 그리기\n",
    "centre_circle = plt.Circle((0, 0), 0.70, fc='white')\n",
    "fig.gca().add_artist(centre_circle)\n",
    "\n",
    "# 차트 제목 설정\n",
    "ax.set_title('임신 성공 여부 도넛 차트')\n",
    "\n",
    "# 차트 표시\n",
    "plt.show()"
   ]
  },
  {
   "cell_type": "markdown",
   "metadata": {},
   "source": [
    "### 1. 시술_시기_코드"
   ]
  },
  {
   "cell_type": "markdown",
   "metadata": {},
   "source": [
    "난임 시술을 받은 시기를 기준으로 코드 부여"
   ]
  },
  {
   "cell_type": "code",
   "execution_count": 517,
   "metadata": {},
   "outputs": [
    {
     "name": "stdout",
     "output_type": "stream",
     "text": [
      "\n",
      "시술_시기_코드별 임신_성공_여부 비율 및 갯수\n",
      "\n",
      "                 0         1    0    1  Total\n",
      "variable                                     \n",
      "TRCMWS    0.862981  0.137019  718  114    832\n",
      "TRDQAZ    0.887967  0.112033  856  108    964\n",
      "TRJXFG    0.886770  0.113230  744   95    839\n",
      "TRVNRY    0.877426  0.122574  859  120    979\n",
      "TRXQMD    0.837808  0.162192  749  145    894\n",
      "TRYBLT    0.865811  0.134189  742  115    857\n",
      "TRZKPL    0.876890  0.123110  812  114    926\n"
     ]
    }
   ],
   "source": [
    "value_counts_ratio(train, '시술_시기_코드')"
   ]
  },
  {
   "cell_type": "markdown",
   "metadata": {},
   "source": [
    "## 2. 시술 당시 나이"
   ]
  },
  {
   "cell_type": "markdown",
   "metadata": {},
   "source": [
    "환자의 시술 당시 나이(연령대)"
   ]
  },
  {
   "cell_type": "code",
   "execution_count": 518,
   "metadata": {},
   "outputs": [
    {
     "name": "stdout",
     "output_type": "stream",
     "text": [
      "\n",
      "시술_당시_나이별 임신_성공_여부 비율 및 갯수\n",
      "\n",
      "                 0         1     0    1  Total\n",
      "variable                                      \n",
      "만18-34세   0.805408  0.194592  1668  403   2071\n",
      "만35-37세   0.848966  0.151034  1231  219   1450\n",
      "만38-39세   0.897436  0.102564   945  108   1053\n",
      "만40-42세   0.930502  0.069498   964   72   1036\n",
      "만43-44세   0.980907  0.019093   411    8    419\n",
      "만45-50세   0.996183  0.003817   261    1    262\n"
     ]
    }
   ],
   "source": [
    "value_counts_ratio(train, '시술_당시_나이')"
   ]
  },
  {
   "cell_type": "markdown",
   "metadata": {},
   "source": [
    "## 3. 임신 시도 또는 마지막 임신 경과 일수"
   ]
  },
  {
   "cell_type": "markdown",
   "metadata": {},
   "source": [
    "환자가 처음 임신을 시도한 시점 또는 마지막 임신 이후 현재까지의 경과 연수 (년 단위)"
   ]
  },
  {
   "cell_type": "code",
   "execution_count": 519,
   "metadata": {},
   "outputs": [
    {
     "name": "stdout",
     "output_type": "stream",
     "text": [
      "\n",
      "임신_시도_또는_마지막_임신_경과_연수별 임신_성공_여부 비율 및 갯수\n",
      "\n",
      "                 0         1     0    1  Total\n",
      "variable                                      \n",
      "1.0       1.000000  0.000000   2.0  0.0      2\n",
      "3.0       0.666667  0.333333   6.0  3.0      9\n",
      "4.0       0.700000  0.300000   7.0  3.0     10\n",
      "5.0       0.785714  0.214286  11.0  3.0     14\n",
      "6.0       0.852941  0.147059  29.0  5.0     34\n",
      "7.0       0.727273  0.272727  24.0  9.0     33\n",
      "8.0       0.853659  0.146341  35.0  6.0     41\n",
      "9.0       0.965517  0.034483  28.0  1.0     29\n",
      "10.0      0.774194  0.225806  24.0  7.0     31\n",
      "11.0      0.862069  0.137931  25.0  4.0     29\n",
      "12.0      0.863636  0.136364  19.0  3.0     22\n",
      "13.0      0.888889  0.111111  16.0  2.0     18\n",
      "14.0      0.800000  0.200000   8.0  2.0     10\n",
      "15.0      0.800000  0.200000   4.0  1.0      5\n",
      "16.0      1.000000  0.000000   1.0  0.0      1\n",
      "17.0      0.833333  0.166667   5.0  1.0      6\n",
      "18.0      1.000000  0.000000   2.0  0.0      2\n",
      "19.0      0.666667  0.333333   2.0  1.0      3\n",
      "20.0      1.000000  0.000000   4.0  0.0      4\n"
     ]
    }
   ],
   "source": [
    "value_counts_ratio(train, '임신_시도_또는_마지막_임신_경과_연수')"
   ]
  },
  {
   "cell_type": "code",
   "execution_count": 520,
   "metadata": {},
   "outputs": [
    {
     "name": "stdout",
     "output_type": "stream",
     "text": [
      "결측값 개수: 5988\n",
      "결측값 개수: 0\n"
     ]
    }
   ],
   "source": [
    "# 결측값 개수 확인\n",
    "print(\"결측값 개수:\", train['임신_시도_또는_마지막_임신_경과_연수'].isnull().sum())\n",
    "\n",
    "# 결측값을 known으로 채우기\n",
    "train['임신_시도_또는_마지막_임신_경과_연수'].fillna('unknown', inplace=True)\n",
    "test['임신_시도_또는_마지막_임신_경과_연수'].fillna('unknown', inplace=True)\n",
    "\n",
    "# 결측값 개수 확인\n",
    "print(\"결측값 개수:\", train['임신_시도_또는_마지막_임신_경과_연수'].isnull().sum())"
   ]
  },
  {
   "cell_type": "code",
   "execution_count": 521,
   "metadata": {},
   "outputs": [
    {
     "data": {
      "text/plain": [
       "0"
      ]
     },
     "execution_count": 521,
     "metadata": {},
     "output_type": "execute_result"
    }
   ],
   "source": [
    "test['임신_시도_또는_마지막_임신_경과_연수'].isnull().sum()"
   ]
  },
  {
   "cell_type": "code",
   "execution_count": 522,
   "metadata": {},
   "outputs": [
    {
     "name": "stdout",
     "output_type": "stream",
     "text": [
      "\n",
      "임신_시도_또는_마지막_임신_경과_연수별 임신_성공_여부 비율 및 갯수\n",
      "\n",
      "                 0         1       0      1  Total\n",
      "variable                                          \n",
      "1.0       1.000000  0.000000     2.0    0.0      2\n",
      "3.0       0.666667  0.333333     6.0    3.0      9\n",
      "4.0       0.700000  0.300000     7.0    3.0     10\n",
      "5.0       0.785714  0.214286    11.0    3.0     14\n",
      "6.0       0.852941  0.147059    29.0    5.0     34\n",
      "7.0       0.727273  0.272727    24.0    9.0     33\n",
      "8.0       0.853659  0.146341    35.0    6.0     41\n",
      "9.0       0.965517  0.034483    28.0    1.0     29\n",
      "10.0      0.774194  0.225806    24.0    7.0     31\n",
      "11.0      0.862069  0.137931    25.0    4.0     29\n",
      "12.0      0.863636  0.136364    19.0    3.0     22\n",
      "13.0      0.888889  0.111111    16.0    2.0     18\n",
      "14.0      0.800000  0.200000     8.0    2.0     10\n",
      "15.0      0.800000  0.200000     4.0    1.0      5\n",
      "16.0      1.000000  0.000000     1.0    0.0      1\n",
      "17.0      0.833333  0.166667     5.0    1.0      6\n",
      "18.0      1.000000  0.000000     2.0    0.0      2\n",
      "19.0      0.666667  0.333333     2.0    1.0      3\n",
      "20.0      1.000000  0.000000     4.0    0.0      4\n",
      "unknown   0.873079  0.126921  5228.0  760.0   5988\n"
     ]
    }
   ],
   "source": [
    "value_counts_ratio(train, '임신_시도_또는_마지막_임신_경과_연수')"
   ]
  },
  {
   "cell_type": "markdown",
   "metadata": {},
   "source": [
    "## 4. 시술_유형"
   ]
  },
  {
   "cell_type": "markdown",
   "metadata": {},
   "source": [
    "IVF 또는 DI 시술 여부"
   ]
  },
  {
   "cell_type": "code",
   "execution_count": 523,
   "metadata": {},
   "outputs": [
    {
     "name": "stdout",
     "output_type": "stream",
     "text": [
      "\n",
      "시술_유형별 임신_성공_여부 비율 및 갯수\n",
      "\n",
      "                 0         1     0    1  Total\n",
      "variable                                      \n",
      "DI        0.871086  0.128914  5480  811   6291\n"
     ]
    }
   ],
   "source": [
    "value_counts_ratio(train, '시술_유형')"
   ]
  },
  {
   "cell_type": "code",
   "execution_count": 524,
   "metadata": {},
   "outputs": [
    {
     "data": {
      "text/plain": [
       "DI    2176\n",
       "Name: 시술_유형, dtype: int64"
      ]
     },
     "execution_count": 524,
     "metadata": {},
     "output_type": "execute_result"
    }
   ],
   "source": [
    "test['시술_유형'].value_counts()"
   ]
  },
  {
   "cell_type": "markdown",
   "metadata": {},
   "source": [
    "IVF 와 DI 시술중 DI 시술 데이터만 제공됨"
   ]
  },
  {
   "cell_type": "code",
   "execution_count": 525,
   "metadata": {},
   "outputs": [],
   "source": [
    "# '시술_유형' 변수 제거\n",
    "train = train.drop(columns=['시술_유형'])\n",
    "test = test.drop(columns=['시술_유형'])"
   ]
  },
  {
   "cell_type": "code",
   "execution_count": 414,
   "metadata": {},
   "outputs": [
    {
     "data": {
      "text/plain": [
       "6291"
      ]
     },
     "execution_count": 414,
     "metadata": {},
     "output_type": "execute_result"
    }
   ],
   "source": [
    "len(train['임신_성공_여부'])"
   ]
  },
  {
   "cell_type": "markdown",
   "metadata": {},
   "source": [
    "## 5. 특정_시술_유형"
   ]
  },
  {
   "cell_type": "markdown",
   "metadata": {},
   "source": [
    "IVF – 체외 수정 (시험관 아기 시술)  \n",
    "ICSI – 세포질 내 정자 주입  \n",
    "IUI – 인공 수정 (자궁 내 주입)  \n",
    "ICI – 자궁경부 인공 수정  \n",
    "GIFT – 생식세포 나팔관 이식  \n",
    "FER – 냉동 배아 이식  \n",
    "Generic DI – 기증 정자 주입  \n",
    "IVI – 질 내 인공 수정   \n",
    "BLASTOCYST – 배반포 단계에 이식  \n",
    "AH – 배아를 hatching 시켜주는 과정  \n",
    "Unknown – 시술 유형 정보가 제공되지 않았거나 알 수 없음  \n",
    "\n",
    "(*) 특수 기호의 의미  \n",
    "\"/\" – 복합적인 시술 방법을 의미 (예: ICSI / BLASTOCYST)  \n",
    "\":\" – 동일 시술 내 세부 조합을 의미 (예: ICSI:IVF)  "
   ]
  },
  {
   "cell_type": "code",
   "execution_count": 526,
   "metadata": {},
   "outputs": [
    {
     "data": {
      "text/plain": [
       "6291"
      ]
     },
     "execution_count": 526,
     "metadata": {},
     "output_type": "execute_result"
    }
   ],
   "source": [
    "len(train['특정_시술_유형'])"
   ]
  },
  {
   "cell_type": "markdown",
   "metadata": {},
   "source": [
    "시술유형에 대해서 특정 시술 유형값이 존재하는거!"
   ]
  },
  {
   "cell_type": "code",
   "execution_count": 527,
   "metadata": {},
   "outputs": [
    {
     "name": "stdout",
     "output_type": "stream",
     "text": [
      "Grouped by: 특정_시술_유형\n",
      "\n",
      "        group  '임신_성공_여부' count     ratio  Total\n",
      "0        GIFT                 0  0.000000      1\n",
      "1  Generic DI                12  0.169014     71\n",
      "2         ICI                13  0.135417     96\n",
      "3         IUI               784  0.128525   6100\n",
      "4         IVI                 2  0.086957     23\n"
     ]
    }
   ],
   "source": [
    "summarize_group(train, ['특정_시술_유형'])"
   ]
  },
  {
   "cell_type": "code",
   "execution_count": 528,
   "metadata": {},
   "outputs": [
    {
     "data": {
      "text/plain": [
       "IUI           2112\n",
       "ICI             28\n",
       "Generic DI      26\n",
       "IVI              8\n",
       "IUI:ICI          2\n",
       "Name: 특정_시술_유형, dtype: int64"
      ]
     },
     "execution_count": 528,
     "metadata": {},
     "output_type": "execute_result"
    }
   ],
   "source": [
    "test['특정_시술_유형'].value_counts()"
   ]
  },
  {
   "cell_type": "code",
   "execution_count": 529,
   "metadata": {},
   "outputs": [],
   "source": [
    "# '특정_시술_유형' 변수의 값이 'GIFT'인 행 제거\n",
    "train = train.loc[~train['특정_시술_유형'].isin(['GIFT'])]\n",
    "test = test.loc[~test['특정_시술_유형'].isin(['GIFT'])]"
   ]
  },
  {
   "cell_type": "code",
   "execution_count": 530,
   "metadata": {},
   "outputs": [],
   "source": [
    "# 시술 유형 변환 함수\n",
    "def transform_treatment(treatment):\n",
    "    if isinstance(treatment, str):  # treatment가 문자열인지 확인\n",
    "        if \":\" in treatment:\n",
    "            return treatment.split(\":\")[0]  # ':' 앞의 단어로 이름을 바꿈\n",
    "        if treatment.startswith(\"ICSI\"):\n",
    "            if \"AH\" in treatment:\n",
    "                return \"ICSI / AH\"\n",
    "            elif \"BLASTOCYST\" in treatment:\n",
    "                return \"ICSI / BLASTOCYST\"\n",
    "            return \"ICSI\"\n",
    "        elif treatment.startswith(\"IVF\"):\n",
    "            if \"AH\" in treatment:\n",
    "                return \"IVF / AH\"\n",
    "            elif \"BLASTOCYST\" in treatment:\n",
    "                return \"IVF / BLASTOCYST\"\n",
    "            return \"IVF\"\n",
    "    return treatment  # 기타 시술은 그대로 반환\n",
    "\n",
    "# 변환된 열 추가\n",
    "train['변환된_특정_시술_유형'] = train['특정_시술_유형'].apply(transform_treatment)\n",
    "test['변환된_특정_시술_유형'] = test['특정_시술_유형'].apply(transform_treatment)"
   ]
  },
  {
   "cell_type": "code",
   "execution_count": 531,
   "metadata": {},
   "outputs": [
    {
     "name": "stdout",
     "output_type": "stream",
     "text": [
      "\n",
      "변환된_특정_시술_유형별 임신_성공_여부 비율 및 갯수\n",
      "\n",
      "                   0         1     0    1  Total\n",
      "variable                                        \n",
      "Generic DI  0.830986  0.169014    59   12     71\n",
      "ICI         0.864583  0.135417    83   13     96\n",
      "IUI         0.871475  0.128525  5316  784   6100\n",
      "IVI         0.913043  0.086957    21    2     23\n"
     ]
    }
   ],
   "source": [
    "value_counts_ratio(train, '변환된_특정_시술_유형')"
   ]
  },
  {
   "cell_type": "code",
   "execution_count": 532,
   "metadata": {},
   "outputs": [
    {
     "data": {
      "text/plain": [
       "IUI           2114\n",
       "ICI             28\n",
       "Generic DI      26\n",
       "IVI              8\n",
       "Name: 변환된_특정_시술_유형, dtype: int64"
      ]
     },
     "execution_count": 532,
     "metadata": {},
     "output_type": "execute_result"
    }
   ],
   "source": [
    "test['변환된_특정_시술_유형'].value_counts()"
   ]
  },
  {
   "cell_type": "code",
   "execution_count": 533,
   "metadata": {},
   "outputs": [],
   "source": [
    "# '특정_시술_유형' 변수 제거\n",
    "train = train.drop(columns=['특정_시술_유형'])\n",
    "test = test.drop(columns=['특정_시술_유형'])"
   ]
  },
  {
   "cell_type": "markdown",
   "metadata": {},
   "source": [
    "## 10. 남성_주_불임_원인"
   ]
  },
  {
   "cell_type": "markdown",
   "metadata": {},
   "source": [
    "남성의 주요 불임 원인 여부"
   ]
  },
  {
   "cell_type": "code",
   "execution_count": 534,
   "metadata": {},
   "outputs": [
    {
     "name": "stdout",
     "output_type": "stream",
     "text": [
      "\n",
      "남성_주_불임_원인별 임신_성공_여부 비율 및 갯수\n",
      "\n",
      "                 0         1     0    1  Total\n",
      "variable                                      \n",
      "0         0.874250  0.125750  5249  755   6004\n",
      "1         0.804196  0.195804   230   56    286\n"
     ]
    }
   ],
   "source": [
    "value_counts_ratio(train, '남성_주_불임_원인')"
   ]
  },
  {
   "cell_type": "markdown",
   "metadata": {},
   "source": [
    "## 11. 남성_부_불임_원인"
   ]
  },
  {
   "cell_type": "markdown",
   "metadata": {},
   "source": [
    "남성의 부차적 불임 원인 여부"
   ]
  },
  {
   "cell_type": "code",
   "execution_count": 535,
   "metadata": {},
   "outputs": [
    {
     "name": "stdout",
     "output_type": "stream",
     "text": [
      "\n",
      "남성_부_불임_원인별 임신_성공_여부 비율 및 갯수\n",
      "\n",
      "                 0         1     0    1  Total\n",
      "variable                                      \n",
      "0         0.871067  0.128933  5371  795   6166\n",
      "1         0.870968  0.129032   108   16    124\n"
     ]
    }
   ],
   "source": [
    "value_counts_ratio(train, '남성_부_불임_원인')"
   ]
  },
  {
   "cell_type": "markdown",
   "metadata": {},
   "source": [
    "## 12. 여성_주_불임_원인"
   ]
  },
  {
   "cell_type": "markdown",
   "metadata": {},
   "source": [
    "여성의 주요 불임 원인 여부"
   ]
  },
  {
   "cell_type": "code",
   "execution_count": 536,
   "metadata": {},
   "outputs": [
    {
     "name": "stdout",
     "output_type": "stream",
     "text": [
      "\n",
      "여성_주_불임_원인별 임신_성공_여부 비율 및 갯수\n",
      "\n",
      "                 0         1     0    1  Total\n",
      "variable                                      \n",
      "0         0.873895  0.126105  5142  742   5884\n",
      "1         0.830049  0.169951   337   69    406\n"
     ]
    }
   ],
   "source": [
    "value_counts_ratio(train, '여성_주_불임_원인')"
   ]
  },
  {
   "cell_type": "markdown",
   "metadata": {},
   "source": [
    "## 13. 여성_부_불임_원인"
   ]
  },
  {
   "cell_type": "markdown",
   "metadata": {},
   "source": [
    "여성의 부차적 불임 원인 여부"
   ]
  },
  {
   "cell_type": "code",
   "execution_count": 537,
   "metadata": {},
   "outputs": [
    {
     "name": "stdout",
     "output_type": "stream",
     "text": [
      "\n",
      "여성_부_불임_원인별 임신_성공_여부 비율 및 갯수\n",
      "\n",
      "                 0         1     0    1  Total\n",
      "variable                                      \n",
      "0         0.871429  0.128571  5368  792   6160\n",
      "1         0.853846  0.146154   111   19    130\n"
     ]
    }
   ],
   "source": [
    "value_counts_ratio(train, '여성_부_불임_원인')"
   ]
  },
  {
   "cell_type": "markdown",
   "metadata": {},
   "source": [
    "## 14. 부부_주_불임_원인"
   ]
  },
  {
   "cell_type": "markdown",
   "metadata": {},
   "source": [
    "부부의 주요 불임 원인 여부"
   ]
  },
  {
   "cell_type": "code",
   "execution_count": 538,
   "metadata": {},
   "outputs": [
    {
     "name": "stdout",
     "output_type": "stream",
     "text": [
      "\n",
      "부부_주_불임_원인별 임신_성공_여부 비율 및 갯수\n",
      "\n",
      "                 0         1     0    1  Total\n",
      "variable                                      \n",
      "0         0.874894  0.125106  5182  741   5923\n",
      "1         0.809264  0.190736   297   70    367\n"
     ]
    }
   ],
   "source": [
    "value_counts_ratio(train, '부부_주_불임_원인')"
   ]
  },
  {
   "cell_type": "markdown",
   "metadata": {},
   "source": [
    "## 15. 부부_부_불임_원인"
   ]
  },
  {
   "cell_type": "markdown",
   "metadata": {},
   "source": [
    "부부의 부차적 불임 원인 여부"
   ]
  },
  {
   "cell_type": "code",
   "execution_count": 539,
   "metadata": {},
   "outputs": [
    {
     "name": "stdout",
     "output_type": "stream",
     "text": [
      "\n",
      "부부_부_불임_원인별 임신_성공_여부 비율 및 갯수\n",
      "\n",
      "                 0         1     0    1  Total\n",
      "variable                                      \n",
      "0         0.871144  0.128856  5422  802   6224\n",
      "1         0.863636  0.136364    57    9     66\n"
     ]
    }
   ],
   "source": [
    "value_counts_ratio(train, '부부_부_불임_원인')"
   ]
  },
  {
   "cell_type": "markdown",
   "metadata": {},
   "source": [
    "## 16. 불명확_불임_원인"
   ]
  },
  {
   "cell_type": "markdown",
   "metadata": {},
   "source": [
    "불명의 원인으로 인한 불임 여부"
   ]
  },
  {
   "cell_type": "code",
   "execution_count": 540,
   "metadata": {},
   "outputs": [
    {
     "name": "stdout",
     "output_type": "stream",
     "text": [
      "\n",
      "불명확_불임_원인별 임신_성공_여부 비율 및 갯수\n",
      "\n",
      "                 0         1     0    1  Total\n",
      "variable                                      \n",
      "0         0.868226  0.131774  5047  766   5813\n",
      "1         0.905660  0.094340   432   45    477\n"
     ]
    }
   ],
   "source": [
    "value_counts_ratio(train, '불명확_불임_원인')"
   ]
  },
  {
   "cell_type": "markdown",
   "metadata": {},
   "source": [
    "## 17. 불임_원인_-_난관_질환"
   ]
  },
  {
   "cell_type": "markdown",
   "metadata": {},
   "source": [
    "난관 이상으로 인한 불임 여부"
   ]
  },
  {
   "cell_type": "code",
   "execution_count": 541,
   "metadata": {},
   "outputs": [
    {
     "name": "stdout",
     "output_type": "stream",
     "text": [
      "\n",
      "불임_원인_-_난관_질환별 임신_성공_여부 비율 및 갯수\n",
      "\n",
      "                 0         1     0    1  Total\n",
      "variable                                      \n",
      "0         0.870433  0.129567  5408  805   6213\n",
      "1         0.922078  0.077922    71    6     77\n"
     ]
    }
   ],
   "source": [
    "value_counts_ratio(train, '불임_원인_-_난관_질환')"
   ]
  },
  {
   "cell_type": "markdown",
   "metadata": {},
   "source": [
    "## 18. 불임_원인_-_남성_요인"
   ]
  },
  {
   "cell_type": "markdown",
   "metadata": {},
   "source": [
    "남성 요인으로 인한 불임 여부"
   ]
  },
  {
   "cell_type": "code",
   "execution_count": 542,
   "metadata": {},
   "outputs": [
    {
     "name": "stdout",
     "output_type": "stream",
     "text": [
      "\n",
      "불임_원인_-_남성_요인별 임신_성공_여부 비율 및 갯수\n",
      "\n",
      "                 0         1     0    1  Total\n",
      "variable                                      \n",
      "0         0.895925  0.104075  3056  355   3411\n",
      "1         0.841612  0.158388  2423  456   2879\n"
     ]
    }
   ],
   "source": [
    "value_counts_ratio(train, '불임_원인_-_남성_요인')"
   ]
  },
  {
   "cell_type": "markdown",
   "metadata": {},
   "source": [
    "## 19. 불임_원인_-_배란_장애"
   ]
  },
  {
   "cell_type": "markdown",
   "metadata": {},
   "source": [
    "배란 장애로 인한 불임 여부"
   ]
  },
  {
   "cell_type": "code",
   "execution_count": 543,
   "metadata": {},
   "outputs": [
    {
     "name": "stdout",
     "output_type": "stream",
     "text": [
      "\n",
      "불임_원인_-_배란_장애별 임신_성공_여부 비율 및 갯수\n",
      "\n",
      "                 0         1     0    1  Total\n",
      "variable                                      \n",
      "0         0.871192  0.128808  5147  761   5908\n",
      "1         0.869110  0.130890   332   50    382\n"
     ]
    }
   ],
   "source": [
    "value_counts_ratio(train, '불임_원인_-_배란_장애')"
   ]
  },
  {
   "cell_type": "markdown",
   "metadata": {},
   "source": [
    "## 22. 불임_원인_-_자궁내막증"
   ]
  },
  {
   "cell_type": "markdown",
   "metadata": {},
   "source": [
    "자궁내막증으로 인한 불임 여부"
   ]
  },
  {
   "cell_type": "code",
   "execution_count": 544,
   "metadata": {},
   "outputs": [
    {
     "name": "stdout",
     "output_type": "stream",
     "text": [
      "\n",
      "불임_원인_-_자궁내막증별 임신_성공_여부 비율 및 갯수\n",
      "\n",
      "                 0         1     0    1  Total\n",
      "variable                                      \n",
      "0         0.869757  0.130243  5329  798   6127\n",
      "1         0.920245  0.079755   150   13    163\n"
     ]
    }
   ],
   "source": [
    "value_counts_ratio(train, '불임_원인_-_자궁내막증')"
   ]
  },
  {
   "cell_type": "markdown",
   "metadata": {},
   "source": [
    "## 23. 불임_원인_-_정자_농도"
   ]
  },
  {
   "cell_type": "markdown",
   "metadata": {},
   "source": [
    "파트너의 정자 농도 문제 여부"
   ]
  },
  {
   "cell_type": "code",
   "execution_count": 545,
   "metadata": {},
   "outputs": [
    {
     "name": "stdout",
     "output_type": "stream",
     "text": [
      "\n",
      "불임_원인_-_정자_농도별 임신_성공_여부 비율 및 갯수\n",
      "\n",
      "                 0         1     0    1  Total\n",
      "variable                                      \n",
      "0         0.871541  0.128459  5448  803   6251\n",
      "1         0.794872  0.205128    31    8     39\n"
     ]
    }
   ],
   "source": [
    "value_counts_ratio(train, '불임_원인_-_정자_농도')"
   ]
  },
  {
   "cell_type": "markdown",
   "metadata": {},
   "source": [
    "## 26. 불임_원인_-_정자_형태"
   ]
  },
  {
   "cell_type": "markdown",
   "metadata": {},
   "source": [
    "파트너의 정자 형태 문제 여부"
   ]
  },
  {
   "cell_type": "code",
   "execution_count": 546,
   "metadata": {},
   "outputs": [
    {
     "name": "stdout",
     "output_type": "stream",
     "text": [
      "\n",
      "불임_원인_-_정자_형태별 임신_성공_여부 비율 및 갯수\n",
      "\n",
      "                 0         1       0      1  Total\n",
      "variable                                          \n",
      "0         0.871024  0.128976  5477.0  811.0   6288\n",
      "1         1.000000  0.000000     2.0    0.0      2\n"
     ]
    }
   ],
   "source": [
    "value_counts_ratio(train, '불임_원인_-_정자_형태')"
   ]
  },
  {
   "cell_type": "markdown",
   "metadata": {},
   "source": [
    "## 28. 총_시술_횟수"
   ]
  },
  {
   "cell_type": "markdown",
   "metadata": {},
   "source": [
    "IVF 및 DI 포함한 전체 시술 횟수"
   ]
  },
  {
   "cell_type": "code",
   "execution_count": 547,
   "metadata": {},
   "outputs": [
    {
     "name": "stdout",
     "output_type": "stream",
     "text": [
      "\n",
      "총_시술_횟수별 임신_성공_여부 비율 및 갯수\n",
      "\n",
      "                 0         1     0    1  Total\n",
      "variable                                      \n",
      "0회        0.926768  0.073232   367   29    396\n",
      "1회        0.865406  0.134594   778  121    899\n",
      "2회        0.866184  0.133816   958  148   1106\n",
      "3회        0.876923  0.123077   912  128   1040\n",
      "4회        0.853685  0.146315   776  133    909\n",
      "5회        0.870095  0.129905   643   96    739\n",
      "6회 이상     0.870108  0.129892  1045  156   1201\n"
     ]
    }
   ],
   "source": [
    "value_counts_ratio(train, '총_시술_횟수')"
   ]
  },
  {
   "cell_type": "code",
   "execution_count": 548,
   "metadata": {},
   "outputs": [
    {
     "data": {
      "text/plain": [
       "6회 이상    421\n",
       "3회       375\n",
       "1회       351\n",
       "2회       346\n",
       "4회       285\n",
       "5회       265\n",
       "0회       133\n",
       "Name: 총_시술_횟수, dtype: int64"
      ]
     },
     "execution_count": 548,
     "metadata": {},
     "output_type": "execute_result"
    }
   ],
   "source": [
    "test['총_시술_횟수'].value_counts()"
   ]
  },
  {
   "cell_type": "markdown",
   "metadata": {},
   "source": [
    "## 29. 클리닉_내_총_시술_횟수"
   ]
  },
  {
   "cell_type": "markdown",
   "metadata": {},
   "source": [
    "특정 클리닉에서 받은 IVF 및 DI 시술 횟수"
   ]
  },
  {
   "cell_type": "code",
   "execution_count": 549,
   "metadata": {},
   "outputs": [
    {
     "name": "stdout",
     "output_type": "stream",
     "text": [
      "\n",
      "클리닉_내_총_시술_횟수별 임신_성공_여부 비율 및 갯수\n",
      "\n",
      "                 0         1     0    1  Total\n",
      "variable                                      \n",
      "0회        0.894336  0.105664   821   97    918\n",
      "1회        0.870229  0.129771  1026  153   1179\n",
      "2회        0.872414  0.127586  1012  148   1160\n",
      "3회        0.875135  0.124865   813  116    929\n",
      "4회        0.867758  0.132242   689  105    794\n",
      "5회        0.865079  0.134921   545   85    630\n",
      "6회 이상     0.842647  0.157353   573  107    680\n"
     ]
    }
   ],
   "source": [
    "value_counts_ratio(train, '클리닉_내_총_시술_횟수')"
   ]
  },
  {
   "cell_type": "markdown",
   "metadata": {},
   "source": [
    "## 30. IVF_시술_횟수"
   ]
  },
  {
   "cell_type": "markdown",
   "metadata": {},
   "source": [
    "이전에 수행된 IVF 시술 횟수"
   ]
  },
  {
   "cell_type": "code",
   "execution_count": 550,
   "metadata": {},
   "outputs": [
    {
     "name": "stdout",
     "output_type": "stream",
     "text": [
      "\n",
      "IVF_시술_횟수별 임신_성공_여부 비율 및 갯수\n",
      "\n",
      "                 0         1     0    1  Total\n",
      "variable                                      \n",
      "0회        0.861111  0.138889  3224  520   3744\n",
      "1회        0.871795  0.128205   816  120    936\n",
      "2회        0.898990  0.101010   534   60    594\n",
      "3회        0.878282  0.121718   368   51    419\n",
      "4회        0.892720  0.107280   233   28    261\n",
      "5회        0.921212  0.078788   152   13    165\n",
      "6회 이상     0.888889  0.111111   152   19    171\n"
     ]
    }
   ],
   "source": [
    "value_counts_ratio(train, 'IVF_시술_횟수')"
   ]
  },
  {
   "cell_type": "markdown",
   "metadata": {},
   "source": [
    "## 31. DI_시술_횟수"
   ]
  },
  {
   "cell_type": "markdown",
   "metadata": {},
   "source": [
    "이전에 수행된 DI 시술 횟수"
   ]
  },
  {
   "cell_type": "code",
   "execution_count": 551,
   "metadata": {},
   "outputs": [
    {
     "name": "stdout",
     "output_type": "stream",
     "text": [
      "\n",
      "DI_시술_횟수별 임신_성공_여부 비율 및 갯수\n",
      "\n",
      "                 0         1     0    1  Total\n",
      "variable                                      \n",
      "0회        0.900973  0.099027  1019  112   1131\n",
      "1회        0.873262  0.126738  1068  155   1223\n",
      "2회        0.860793  0.139207   977  158   1135\n",
      "3회        0.871397  0.128603   786  116    902\n",
      "4회        0.857542  0.142458   614  102    716\n",
      "5회        0.890435  0.109565   512   63    575\n",
      "6회 이상     0.827303  0.172697   503  105    608\n"
     ]
    }
   ],
   "source": [
    "value_counts_ratio(train, 'DI_시술_횟수')"
   ]
  },
  {
   "cell_type": "markdown",
   "metadata": {},
   "source": [
    "## 32. 총_임신_횟수"
   ]
  },
  {
   "cell_type": "markdown",
   "metadata": {},
   "source": [
    "IVF 및 DI 포함한 총 임신 횟수"
   ]
  },
  {
   "cell_type": "code",
   "execution_count": 552,
   "metadata": {},
   "outputs": [
    {
     "name": "stdout",
     "output_type": "stream",
     "text": [
      "\n",
      "총_임신_횟수별 임신_성공_여부 비율 및 갯수\n",
      "\n",
      "                 0         1       0      1  Total\n",
      "variable                                          \n",
      "0회        0.902511  0.097489  3379.0  365.0   3744\n",
      "1회        0.830102  0.169898  1798.0  368.0   2166\n",
      "2회        0.785933  0.214067   257.0   70.0    327\n",
      "3회        0.847826  0.152174    39.0    7.0     46\n",
      "4회        1.000000  0.000000     6.0    0.0      6\n",
      "5회        0.000000  1.000000     0.0    1.0      1\n"
     ]
    }
   ],
   "source": [
    "value_counts_ratio(train, '총_임신_횟수')"
   ]
  },
  {
   "cell_type": "markdown",
   "metadata": {},
   "source": [
    "## 33. IVF_임신_횟수"
   ]
  },
  {
   "cell_type": "markdown",
   "metadata": {},
   "source": [
    "IVF 시술로 인한 임신 횟수"
   ]
  },
  {
   "cell_type": "code",
   "execution_count": 553,
   "metadata": {},
   "outputs": [
    {
     "name": "stdout",
     "output_type": "stream",
     "text": [
      "\n",
      "IVF_임신_횟수별 임신_성공_여부 비율 및 갯수\n",
      "\n",
      "                 0         1       0      1  Total\n",
      "variable                                          \n",
      "0회        0.869543  0.130457  5099.0  765.0   5864\n",
      "1회        0.888041  0.111959   349.0   44.0    393\n",
      "2회        0.935484  0.064516    29.0    2.0     31\n",
      "3회        1.000000  0.000000     2.0    0.0      2\n"
     ]
    }
   ],
   "source": [
    "value_counts_ratio(train, 'IVF_임신_횟수')"
   ]
  },
  {
   "cell_type": "markdown",
   "metadata": {},
   "source": [
    "## 34. DI_임신_횟수"
   ]
  },
  {
   "cell_type": "markdown",
   "metadata": {},
   "source": [
    "DI 시술로 인한 임신 횟수"
   ]
  },
  {
   "cell_type": "code",
   "execution_count": 554,
   "metadata": {},
   "outputs": [
    {
     "name": "stdout",
     "output_type": "stream",
     "text": [
      "\n",
      "DI_임신_횟수별 임신_성공_여부 비율 및 갯수\n",
      "\n",
      "                 0         1       0      1  Total\n",
      "variable                                          \n",
      "0회        0.900752  0.099248  3712.0  409.0   4121\n",
      "1회        0.823656  0.176344  1532.0  328.0   1860\n",
      "2회        0.752809  0.247191   201.0   66.0    267\n",
      "3회        0.810811  0.189189    30.0    7.0     37\n",
      "4회        1.000000  0.000000     4.0    0.0      4\n",
      "5회        0.000000  1.000000     0.0    1.0      1\n"
     ]
    }
   ],
   "source": [
    "value_counts_ratio(train, 'DI_임신_횟수')"
   ]
  },
  {
   "cell_type": "markdown",
   "metadata": {},
   "source": [
    "## 35. 총_출산_횟수"
   ]
  },
  {
   "cell_type": "markdown",
   "metadata": {},
   "source": [
    "IVF 및 DI 시술로 출산한 횟수"
   ]
  },
  {
   "cell_type": "code",
   "execution_count": 555,
   "metadata": {},
   "outputs": [
    {
     "name": "stdout",
     "output_type": "stream",
     "text": [
      "\n",
      "총_출산_횟수별 임신_성공_여부 비율 및 갯수\n",
      "\n",
      "                 0         1     0    1  Total\n",
      "variable                                      \n",
      "0회        0.899191  0.100809  3889  436   4325\n",
      "1회        0.809258  0.190742  1451  342   1793\n",
      "2회        0.801325  0.198675   121   30    151\n",
      "3회        0.857143  0.142857    18    3     21\n"
     ]
    }
   ],
   "source": [
    "value_counts_ratio(train, '총_출산_횟수')"
   ]
  },
  {
   "cell_type": "markdown",
   "metadata": {},
   "source": [
    "## 36. IVF_출산_횟수"
   ]
  },
  {
   "cell_type": "markdown",
   "metadata": {},
   "source": [
    "IVF 시술로 출산한 횟수"
   ]
  },
  {
   "cell_type": "code",
   "execution_count": 556,
   "metadata": {},
   "outputs": [
    {
     "name": "stdout",
     "output_type": "stream",
     "text": [
      "\n",
      "IVF_출산_횟수별 임신_성공_여부 비율 및 갯수\n",
      "\n",
      "                 0         1     0    1  Total\n",
      "variable                                      \n",
      "0회        0.870367  0.129633  5237  780   6017\n",
      "1회        0.890566  0.109434   236   29    265\n",
      "2회        0.750000  0.250000     6    2      8\n"
     ]
    }
   ],
   "source": [
    "value_counts_ratio(train, 'IVF_출산_횟수')"
   ]
  },
  {
   "cell_type": "markdown",
   "metadata": {},
   "source": [
    "## 37. DI_출산_횟수"
   ]
  },
  {
   "cell_type": "markdown",
   "metadata": {},
   "source": [
    "DI 시술로 출산한 횟수"
   ]
  },
  {
   "cell_type": "code",
   "execution_count": 557,
   "metadata": {},
   "outputs": [
    {
     "name": "stdout",
     "output_type": "stream",
     "text": [
      "\n",
      "DI_출산_횟수별 임신_성공_여부 비율 및 갯수\n",
      "\n",
      "                 0         1     0    1  Total\n",
      "variable                                      \n",
      "0회        0.898298  0.101702  4116  466   4582\n",
      "1회        0.797558  0.202442  1241  315   1556\n",
      "2회        0.800000  0.200000   108   27    135\n",
      "3회        0.823529  0.176471    14    3     17\n"
     ]
    }
   ],
   "source": [
    "value_counts_ratio(train, 'DI_출산_횟수')"
   ]
  },
  {
   "cell_type": "markdown",
   "metadata": {},
   "source": [
    "## 55. 정자_기증자_나이"
   ]
  },
  {
   "cell_type": "markdown",
   "metadata": {},
   "source": [
    "정자 기증자의 등록 당시 나이"
   ]
  },
  {
   "cell_type": "code",
   "execution_count": 558,
   "metadata": {},
   "outputs": [
    {
     "name": "stdout",
     "output_type": "stream",
     "text": [
      "\n",
      "정자_기증자_나이별 임신_성공_여부 비율 및 갯수\n",
      "\n",
      "                 0         1     0    1  Total\n",
      "variable                                      \n",
      "만20세 이하   0.859935  0.140065   264   43    307\n",
      "만21-25세   0.867880  0.132120  1097  167   1264\n",
      "만26-30세   0.873407  0.126593  1028  149   1177\n",
      "만31-35세   0.867320  0.132680   974  149   1123\n",
      "만36-40세   0.883860  0.116140  1035  136   1171\n",
      "만41-45세   0.864238  0.135762   783  123    906\n",
      "알 수 없음    0.871345  0.128655   298   44    342\n"
     ]
    }
   ],
   "source": [
    "value_counts_ratio(train, '정자_기증자_나이')"
   ]
  },
  {
   "cell_type": "markdown",
   "metadata": {},
   "source": [
    "## 67. 임신_성공_여부"
   ]
  },
  {
   "cell_type": "markdown",
   "metadata": {},
   "source": [
    "해당 시술로부터 임신 성공 여부"
   ]
  },
  {
   "cell_type": "code",
   "execution_count": 559,
   "metadata": {},
   "outputs": [
    {
     "name": "stdout",
     "output_type": "stream",
     "text": [
      "\n",
      "임신_성공_여부별 임신_성공_여부 비율 및 갯수\n",
      "\n",
      "            0    1       0      1  Total\n",
      "variable                                \n",
      "0         1.0  0.0  5479.0    0.0   5479\n",
      "1         0.0  1.0     0.0  811.0    811\n"
     ]
    }
   ],
   "source": [
    "value_counts_ratio(train, '임신_성공_여부')"
   ]
  },
  {
   "cell_type": "code",
   "execution_count": 560,
   "metadata": {},
   "outputs": [
    {
     "name": "stdout",
     "output_type": "stream",
     "text": [
      "<class 'pandas.core.frame.DataFrame'>\n",
      "Int64Index: 6290 entries, 14 to 256326\n",
      "Data columns (total 38 columns):\n",
      " #   Column                 Non-Null Count  Dtype \n",
      "---  ------                 --------------  ----- \n",
      " 0   시술_시기_코드               6290 non-null   object\n",
      " 1   시술_당시_나이               6290 non-null   object\n",
      " 2   임신_시도_또는_마지막_임신_경과_연수  6290 non-null   object\n",
      " 3   배란_자극_여부               6290 non-null   int64 \n",
      " 4   배란_유도_유형               6290 non-null   object\n",
      " 5   남성_주_불임_원인             6290 non-null   int64 \n",
      " 6   남성_부_불임_원인             6290 non-null   int64 \n",
      " 7   여성_주_불임_원인             6290 non-null   int64 \n",
      " 8   여성_부_불임_원인             6290 non-null   int64 \n",
      " 9   부부_주_불임_원인             6290 non-null   int64 \n",
      " 10  부부_부_불임_원인             6290 non-null   int64 \n",
      " 11  불명확_불임_원인              6290 non-null   int64 \n",
      " 12  불임_원인_-_난관_질환          6290 non-null   int64 \n",
      " 13  불임_원인_-_남성_요인          6290 non-null   int64 \n",
      " 14  불임_원인_-_배란_장애          6290 non-null   int64 \n",
      " 15  불임_원인_-_여성_요인          6290 non-null   int64 \n",
      " 16  불임_원인_-_자궁경부_문제        6290 non-null   int64 \n",
      " 17  불임_원인_-_자궁내막증          6290 non-null   int64 \n",
      " 18  불임_원인_-_정자_농도          6290 non-null   int64 \n",
      " 19  불임_원인_-_정자_면역학적_요인     6290 non-null   int64 \n",
      " 20  불임_원인_-_정자_운동성         6290 non-null   int64 \n",
      " 21  불임_원인_-_정자_형태          6290 non-null   int64 \n",
      " 22  총_시술_횟수                6290 non-null   object\n",
      " 23  클리닉_내_총_시술_횟수          6290 non-null   object\n",
      " 24  IVF_시술_횟수              6290 non-null   object\n",
      " 25  DI_시술_횟수               6290 non-null   object\n",
      " 26  총_임신_횟수                6290 non-null   object\n",
      " 27  IVF_임신_횟수              6290 non-null   object\n",
      " 28  DI_임신_횟수               6290 non-null   object\n",
      " 29  총_출산_횟수                6290 non-null   object\n",
      " 30  IVF_출산_횟수              6290 non-null   object\n",
      " 31  DI_출산_횟수               6290 non-null   object\n",
      " 32  난자_출처                  6290 non-null   object\n",
      " 33  정자_출처                  6290 non-null   object\n",
      " 34  난자_기증자_나이              6290 non-null   object\n",
      " 35  정자_기증자_나이              6290 non-null   object\n",
      " 36  임신_성공_여부               6290 non-null   int64 \n",
      " 37  변환된_특정_시술_유형           6290 non-null   object\n",
      "dtypes: int64(19), object(19)\n",
      "memory usage: 1.9+ MB\n"
     ]
    }
   ],
   "source": [
    "train.info()"
   ]
  },
  {
   "cell_type": "code",
   "execution_count": 561,
   "metadata": {},
   "outputs": [
    {
     "name": "stdout",
     "output_type": "stream",
     "text": [
      "<class 'pandas.core.frame.DataFrame'>\n",
      "Int64Index: 2176 entries, 26 to 90046\n",
      "Data columns (total 37 columns):\n",
      " #   Column                 Non-Null Count  Dtype \n",
      "---  ------                 --------------  ----- \n",
      " 0   시술_시기_코드               2176 non-null   object\n",
      " 1   시술_당시_나이               2176 non-null   object\n",
      " 2   임신_시도_또는_마지막_임신_경과_연수  2176 non-null   object\n",
      " 3   배란_자극_여부               2176 non-null   int64 \n",
      " 4   배란_유도_유형               2176 non-null   object\n",
      " 5   남성_주_불임_원인             2176 non-null   int64 \n",
      " 6   남성_부_불임_원인             2176 non-null   int64 \n",
      " 7   여성_주_불임_원인             2176 non-null   int64 \n",
      " 8   여성_부_불임_원인             2176 non-null   int64 \n",
      " 9   부부_주_불임_원인             2176 non-null   int64 \n",
      " 10  부부_부_불임_원인             2176 non-null   int64 \n",
      " 11  불명확_불임_원인              2176 non-null   int64 \n",
      " 12  불임_원인_-_난관_질환          2176 non-null   int64 \n",
      " 13  불임_원인_-_남성_요인          2176 non-null   int64 \n",
      " 14  불임_원인_-_배란_장애          2176 non-null   int64 \n",
      " 15  불임_원인_-_여성_요인          2176 non-null   int64 \n",
      " 16  불임_원인_-_자궁경부_문제        2176 non-null   int64 \n",
      " 17  불임_원인_-_자궁내막증          2176 non-null   int64 \n",
      " 18  불임_원인_-_정자_농도          2176 non-null   int64 \n",
      " 19  불임_원인_-_정자_면역학적_요인     2176 non-null   int64 \n",
      " 20  불임_원인_-_정자_운동성         2176 non-null   int64 \n",
      " 21  불임_원인_-_정자_형태          2176 non-null   int64 \n",
      " 22  총_시술_횟수                2176 non-null   object\n",
      " 23  클리닉_내_총_시술_횟수          2176 non-null   object\n",
      " 24  IVF_시술_횟수              2176 non-null   object\n",
      " 25  DI_시술_횟수               2176 non-null   object\n",
      " 26  총_임신_횟수                2176 non-null   object\n",
      " 27  IVF_임신_횟수              2176 non-null   object\n",
      " 28  DI_임신_횟수               2176 non-null   object\n",
      " 29  총_출산_횟수                2176 non-null   object\n",
      " 30  IVF_출산_횟수              2176 non-null   object\n",
      " 31  DI_출산_횟수               2176 non-null   object\n",
      " 32  난자_출처                  2176 non-null   object\n",
      " 33  정자_출처                  2176 non-null   object\n",
      " 34  난자_기증자_나이              2176 non-null   object\n",
      " 35  정자_기증자_나이              2176 non-null   object\n",
      " 36  변환된_특정_시술_유형           2176 non-null   object\n",
      "dtypes: int64(18), object(19)\n",
      "memory usage: 646.0+ KB\n"
     ]
    }
   ],
   "source": [
    "test.info()"
   ]
  },
  {
   "cell_type": "code",
   "execution_count": 562,
   "metadata": {},
   "outputs": [],
   "source": [
    "X = train.drop('임신_성공_여부', axis=1)\n",
    "y = train['임신_성공_여부']"
   ]
  },
  {
   "cell_type": "markdown",
   "metadata": {},
   "source": [
    "### 인코딩 "
   ]
  },
  {
   "cell_type": "code",
   "execution_count": 563,
   "metadata": {},
   "outputs": [],
   "source": [
    "categorical_columns = [\n",
    "    \"시술_시기_코드\", \n",
    "    \"시술_당시_나이\", \n",
    "    \"임신_시도_또는_마지막_임신_경과_연수\",\n",
    "    \"배란_유도_유형\",\n",
    "    \"총_시술_횟수\",\n",
    "    \"클리닉_내_총_시술_횟수\",\n",
    "    \"IVF_시술_횟수\",\n",
    "    \"DI_시술_횟수\",\n",
    "    \"총_임신_횟수\",\n",
    "    \"IVF_임신_횟수\",\n",
    "    \"DI_임신_횟수\",\n",
    "    \"총_출산_횟수\",\n",
    "    \"IVF_출산_횟수\",\n",
    "    \"DI_출산_횟수\",\n",
    "    \"난자_출처\",\n",
    "    \"정자_출처\",\n",
    "    \"난자_기증자_나이\",\n",
    "    \"정자_기증자_나이\",\n",
    "    \"변환된_특정_시술_유형\"\n",
    "]"
   ]
  },
  {
   "cell_type": "code",
   "execution_count": 564,
   "metadata": {},
   "outputs": [],
   "source": [
    "# 모든 범주형 변수를 문자열로 변환\n",
    "X[categorical_columns] = X[categorical_columns].astype(str)"
   ]
  },
  {
   "cell_type": "code",
   "execution_count": 565,
   "metadata": {},
   "outputs": [],
   "source": [
    "# OrdinalEncoder를 사용하여 범주형 변수 인코딩\n",
    "ordinal_encoder = OrdinalEncoder(handle_unknown='use_encoded_value', unknown_value=-1)\n",
    "\n",
    "X[categorical_columns] = ordinal_encoder.fit_transform(X[categorical_columns])\n",
    "\n",
    "# 데이터 분할\n",
    "X_train, X_test, y_train, y_test = train_test_split(X, y, test_size=0.2, random_state=42)"
   ]
  },
  {
   "cell_type": "markdown",
   "metadata": {},
   "source": [
    "## Modeling"
   ]
  },
  {
   "cell_type": "code",
   "execution_count": 566,
   "metadata": {},
   "outputs": [
    {
     "name": "stdout",
     "output_type": "stream",
     "text": [
      "\n",
      "--- Model Performance ---\n",
      "Model Accuracy: 0.8449920508744038\n",
      "Model F1 Score: 0.11764705882352942\n",
      "Model AUC: 0.6647416994320665\n"
     ]
    },
    {
     "data": {
      "image/png": "[encoded data removed]",
      "text/plain": [
       "<Figure size 640x480 with 2 Axes>"
      ]
     },
     "metadata": {},
     "output_type": "display_data"
    }
   ],
   "source": [
    "# 데이터 분할\n",
    "X_train, X_test, y_train, y_test = train_test_split(X, y, test_size=0.2, random_state=42)\n",
    "\n",
    "# 모델 초기화\n",
    "model = lgb.LGBMClassifier(\n",
    "    n_estimators=1000,\n",
    "    num_leaves=400,\n",
    "    max_depth=100,\n",
    "    learning_rate=0.003,\n",
    "    min_child_samples=3,\n",
    "    random_state=42,\n",
    "    boosting_type='gbdt',\n",
    "    verbose=-1\n",
    "    )\n",
    "\n",
    "# 모델 학습\n",
    "model.fit(X_train, y_train)\n",
    "\n",
    "# 예측\n",
    "y_pred = model.predict(X_test)\n",
    "y_pred_proba = model.predict_proba(X_test)[:, 1]\n",
    "\n",
    "# 평가\n",
    "accuracy = accuracy_score(y_test, y_pred)\n",
    "f1 = f1_score(y_test, y_pred)\n",
    "auc = roc_auc_score(y_test, y_pred_proba)\n",
    "cm = confusion_matrix(y_test, y_pred)\n",
    "\n",
    "# 결과 출력\n",
    "print()\n",
    "print(\"--- Model Performance ---\")\n",
    "print(f\"Model Accuracy: {accuracy}\")\n",
    "print(f\"Model F1 Score: {f1}\")\n",
    "print(f\"Model AUC: {auc}\")\n",
    "\n",
    "# 혼동 행렬 출력\n",
    "disp = ConfusionMatrixDisplay(confusion_matrix=cm, display_labels=model.classes_)\n",
    "disp.plot(cmap=plt.cm.Blues)\n",
    "plt.show()"
   ]
  },
  {
   "cell_type": "markdown",
   "metadata": {},
   "source": [
    "."
   ]
  }
 ],
 "metadata": {
  "kernelspec": {
   "display_name": "Python 3",
   "language": "python",
   "name": "python3"
  },
  "language_info": {
   "codemirror_mode": {
    "name": "ipython",
    "version": 3
   },
   "file_extension": ".py",
   "mimetype": "text/x-python",
   "name": "python",
   "nbconvert_exporter": "python",
   "pygments_lexer": "ipython3",
   "version": "3.7.8"
  }
 },
 "nbformat": 4,
 "nbformat_minor": 2
}
