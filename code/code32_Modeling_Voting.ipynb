{
 "cells": [
  {
   "cell_type": "markdown",
   "metadata": {},
   "source": [
    "## 난임 환자 대상 임신 성공 여부 예측"
   ]
  },
  {
   "cell_type": "markdown",
   "metadata": {},
   "source": [
    "### LGAimers 6th 온라인 해커톤"
   ]
  },
  {
   "cell_type": "markdown",
   "metadata": {},
   "source": [
    "Import"
   ]
  },
  {
   "cell_type": "code",
   "execution_count": 5,
   "metadata": {},
   "outputs": [],
   "source": [
    "import pandas as pd\n",
    "\n",
    "# 두 CSV 파일을 읽어옵니다.\n",
    "df1 = pd.read_csv('../submission/code26_submit_testing.csv')\n",
    "df2 = pd.read_csv('../submission/code26_submit_xgb_testing.csv')\n",
    "\n",
    "# ID를 기준으로 병합합니다.\n",
    "merged_df = pd.merge(df1, df2, on='ID', suffixes=('_df1', '_df2'))\n",
    "\n",
    "# 'probability' 열을 소프트 보팅하여 새로운 'probability' 열 생성\n",
    "merged_df['probability'] = (merged_df['probability_df1'] + merged_df['probability_df2']) / 2\n",
    "\n",
    "# 최종 제출 파일 생성\n",
    "submission = merged_df[['ID', 'probability']]\n",
    "submission = submission.sort_values(by='ID')\n",
    "\n",
    "# 제출 파일 저장\n",
    "submission.to_csv('../submission/code28_soft_voting_submit_LgbmXgb.csv', index=False, encoding='utf-8')"
   ]
  },
  {
   "cell_type": "markdown",
   "metadata": {},
   "source": [
    "데이콘 PUBLIC 0.7394729894\t"
   ]
  },
  {
   "cell_type": "code",
   "execution_count": null,
   "metadata": {},
   "outputs": [],
   "source": [
    "import pandas as pd\n",
    "\n",
    "# 두 CSV 파일을 읽어옵니다.\n",
    "df1 = pd.read_csv('../submission/code26_submit_testing.csv')\n",
    "df2 = pd.read_csv('../submission/code26_submit_xgb_testing.csv')\n",
    "\n",
    "# ID를 기준으로 병합합니다.\n",
    "merged_df = pd.merge(df1, df2, on='ID', suffixes=('_df1', '_df2'))\n",
    "\n",
    "# 'probability' 열을 조건에 따라 선택하여 새로운 'probability' 열 생성\n",
    "def select_probability(row):\n",
    "    if row['probability_df1'] > 0.8 and row['probability_df2'] > 0.8:\n",
    "        return max(row['probability_df1'], row['probability_df2'])\n",
    "    elif row['probability_df1'] < 0.5 and row['probability_df2'] < 0.5:\n",
    "        return min(row['probability_df1'], row['probability_df2'])\n",
    "    else:\n",
    "        return row['probability_df1']\n",
    "\n",
    "merged_df['probability'] = merged_df.apply(select_probability, axis=1)\n",
    "\n",
    "# 최종 제출 파일 생성\n",
    "submission = merged_df[['ID', 'probability']]\n",
    "submission = submission.sort_values(by='ID')\n",
    "\n",
    "# 제출 파일 저장\n",
    "submission.to_csv('../submission/code28_voting_upgrad_submit_LgbmXgb.csv', index=False, encoding='utf-8')"
   ]
  },
  {
   "cell_type": "markdown",
   "metadata": {},
   "source": [
    "데이콘 PUBLIC ??"
   ]
  },
  {
   "cell_type": "code",
   "execution_count": null,
   "metadata": {},
   "outputs": [],
   "source": [
    "import pandas as pd\n",
    "\n",
    "# 두 CSV 파일을 읽어옵니다.\n",
    "df1 = pd.read_csv('../submission/code26_submit_testing.csv')\n",
    "df2 = pd.read_csv('../submission/code26_submit_xgb_testing.csv')\n",
    "\n",
    "# ID를 기준으로 병합합니다.\n",
    "merged_df = pd.merge(df1, df2, on='ID', suffixes=('_df1', '_df2'))\n",
    "\n",
    "# 'probability' 열을 조건에 따라 선택하여 새로운 'probability' 열 생성\n",
    "def select_probability(row):\n",
    "    if row['probability_df1'] > 0.35 and row['probability_df2'] > 0.35:\n",
    "        return max(row['probability_df1'], row['probability_df2'])\n",
    "    elif row['probability_df1'] < 0.25 and row['probability_df2'] < 0.25:\n",
    "        return min(row['probability_df1'], row['probability_df2'])\n",
    "    else:\n",
    "        return row['probability_df1']\n",
    "\n",
    "merged_df['probability'] = merged_df.apply(select_probability, axis=1)\n",
    "\n",
    "# 최종 제출 파일 생성\n",
    "submission = merged_df[['ID', 'probability']]\n",
    "submission = submission.sort_values(by='ID')\n",
    "\n",
    "# 제출 파일 저장\n",
    "submission.to_csv('../submission/code28_voting_upgrad_submit_LgbmXgb_xx.csv', index=False, encoding='utf-8')"
   ]
  },
  {
   "cell_type": "code",
   "execution_count": 1,
   "metadata": {},
   "outputs": [],
   "source": [
    "import pandas as pd\n",
    "\n",
    "# 두 CSV 파일을 읽어옵니다.\n",
    "df1 = pd.read_csv('../submission/code32_all_xgb.csv')\n",
    "df2 = pd.read_csv('../submission/code32_all_cat.csv')\n",
    "\n",
    "# ID를 기준으로 병합하여 값이 다른 행을 찾습니다.\n",
    "merged_df = pd.merge(df1, df2, on='ID', suffixes=('_df1', '_df2'))\n",
    "\n",
    "# 'probability' 열의 값이 다른 행을 필터링합니다.\n",
    "different_rows = merged_df[merged_df['probability_df1'] != merged_df['probability_df2']]"
   ]
  },
  {
   "cell_type": "code",
   "execution_count": 3,
   "metadata": {},
   "outputs": [
    {
     "data": {
      "text/html": [
       "<div>\n",
       "<style scoped>\n",
       "    .dataframe tbody tr th:only-of-type {\n",
       "        vertical-align: middle;\n",
       "    }\n",
       "\n",
       "    .dataframe tbody tr th {\n",
       "        vertical-align: top;\n",
       "    }\n",
       "\n",
       "    .dataframe thead th {\n",
       "        text-align: right;\n",
       "    }\n",
       "</style>\n",
       "<table border=\"1\" class=\"dataframe\">\n",
       "  <thead>\n",
       "    <tr style=\"text-align: right;\">\n",
       "      <th></th>\n",
       "      <th>ID</th>\n",
       "      <th>probability_df1</th>\n",
       "      <th>probability_df2</th>\n",
       "    </tr>\n",
       "  </thead>\n",
       "  <tbody>\n",
       "    <tr>\n",
       "      <th>90064</th>\n",
       "      <td>TEST_90064</td>\n",
       "      <td>0.490446</td>\n",
       "      <td>0.644760</td>\n",
       "    </tr>\n",
       "    <tr>\n",
       "      <th>90065</th>\n",
       "      <td>TEST_90065</td>\n",
       "      <td>0.185680</td>\n",
       "      <td>0.379432</td>\n",
       "    </tr>\n",
       "    <tr>\n",
       "      <th>90066</th>\n",
       "      <td>TEST_90066</td>\n",
       "      <td>0.001054</td>\n",
       "      <td>0.002583</td>\n",
       "    </tr>\n",
       "  </tbody>\n",
       "</table>\n",
       "</div>"
      ],
      "text/plain": [
       "               ID  probability_df1  probability_df2\n",
       "90064  TEST_90064         0.490446         0.644760\n",
       "90065  TEST_90065         0.185680         0.379432\n",
       "90066  TEST_90066         0.001054         0.002583"
      ]
     },
     "execution_count": 3,
     "metadata": {},
     "output_type": "execute_result"
    }
   ],
   "source": [
    "different_rows.tail(3)"
   ]
  },
  {
   "cell_type": "markdown",
   "metadata": {},
   "source": [
    "---"
   ]
  },
  {
   "cell_type": "code",
   "execution_count": 5,
   "metadata": {},
   "outputs": [
    {
     "name": "stdout",
     "output_type": "stream",
     "text": [
      "최종 제출 파일이 생성되었습니다.\n"
     ]
    }
   ],
   "source": [
    "import pandas as pd\n",
    "\n",
    "# 세 개의 CSV 파일을 읽어옵니다.\n",
    "df1 = pd.read_csv('../submission/code32_all_xgb.csv')\n",
    "df2 = pd.read_csv('../submission/code32_all_cat.csv')\n",
    "df3 = pd.read_csv('../submission/code32_all_lgbm.csv')\n",
    "\n",
    "# ID를 기준으로 병합합니다.\n",
    "merged_df = pd.merge(df1, df2, on='ID', suffixes=('_df1', '_df2'))\n",
    "merged_df = pd.merge(merged_df, df3, on='ID')\n",
    "merged_df.rename(columns={'probability': 'probability_df3'}, inplace=True)\n",
    "\n",
    "# 'probability' 열을 조건에 따라 선택하여 새로운 'probability' 열 생성\n",
    "def select_probability(row):\n",
    "    if row['probability_df1'] > 0.35 and row['probability_df2'] > 0.35 and row['probability_df3'] > 0.35:\n",
    "        return max(row['probability_df1'], row['probability_df2'], row['probability_df3'])\n",
    "    elif row['probability_df1'] < 0.25 and row['probability_df2'] < 0.25 and row['probability_df3'] < 0.25:\n",
    "        return min(row['probability_df1'], row['probability_df2'], row['probability_df3'])\n",
    "    else:\n",
    "        return (row['probability_df1'] + row['probability_df2'] + row['probability_df3']) / 3\n",
    "\n",
    "merged_df['probability'] = merged_df.apply(select_probability, axis=1)\n",
    "\n",
    "# 최종 제출 파일 생성\n",
    "submission = merged_df[['ID', 'probability']]\n",
    "submission = submission.sort_values(by='ID')\n",
    "\n",
    "# 제출 파일 저장\n",
    "submission.to_csv('../submission/code32_voting_upgrad_LgbmXgbCat.csv', index=False, encoding='utf-8')\n",
    "\n",
    "print(\"최종 제출 파일이 생성되었습니다.\")"
   ]
  },
  {
   "cell_type": "markdown",
   "metadata": {},
   "source": [
    "데이콘 PUBLIC 0.7414047309"
   ]
  },
  {
   "cell_type": "code",
   "execution_count": 6,
   "metadata": {},
   "outputs": [
    {
     "name": "stdout",
     "output_type": "stream",
     "text": [
      "최종 제출 파일이 생성되었습니다.\n"
     ]
    }
   ],
   "source": [
    "import pandas as pd\n",
    "\n",
    "# 세 개의 CSV 파일을 읽어옵니다.\n",
    "df1 = pd.read_csv('../submission/code32_all_xgb.csv')\n",
    "df2 = pd.read_csv('../submission/code32_all_cat.csv')\n",
    "df3 = pd.read_csv('../submission/code32_all_lgbm.csv')\n",
    "\n",
    "# ID를 기준으로 병합합니다.\n",
    "merged_df = pd.merge(df1, df2, on='ID', suffixes=('_df1', '_df2'))\n",
    "merged_df = pd.merge(merged_df, df3, on='ID')\n",
    "merged_df.rename(columns={'probability': 'probability_df3'}, inplace=True)\n",
    "\n",
    "# 'probability' 열의 평균값을 계산하여 새로운 'probability' 열 생성\n",
    "merged_df['probability'] = merged_df[['probability_df1', 'probability_df2', 'probability_df3']].mean(axis=1)\n",
    "\n",
    "# 최종 제출 파일 생성\n",
    "submission = merged_df[['ID', 'probability']]\n",
    "submission = submission.sort_values(by='ID')\n",
    "\n",
    "# 제출 파일 저장\n",
    "submission.to_csv('../submission/code32_voting_soft_LgbmXgbCat.csv', index=False, encoding='utf-8')\n",
    "\n",
    "print(\"최종 제출 파일이 생성되었습니다.\")"
   ]
  },
  {
   "cell_type": "markdown",
   "metadata": {},
   "source": [
    "데이콘 PUBLIC 0.7414981112"
   ]
  },
  {
   "cell_type": "code",
   "execution_count": 1,
   "metadata": {},
   "outputs": [],
   "source": [
    "import pandas as pd\n",
    "\n",
    "# 두 CSV 파일을 읽어옵니다.\n",
    "df1 = pd.read_csv('../submission/code32_all_lgbm.csv')\n",
    "df2 = pd.read_csv('../submission/code32_all_xgb.csv')\n",
    "\n",
    "# ID를 기준으로 병합합니다.\n",
    "merged_df = pd.merge(df1, df2, on='ID', suffixes=('_df1', '_df2'))\n",
    "\n",
    "# 'probability' 열을 조건에 따라 선택하여 새로운 'probability' 열 생성\n",
    "def select_probability(row):\n",
    "    if row['probability_df1'] > 0.35 and row['probability_df2'] > 0.35:\n",
    "        return max(row['probability_df1'], row['probability_df2'])\n",
    "    elif row['probability_df1'] < 0.25 and row['probability_df2'] < 0.25:\n",
    "        return min(row['probability_df1'], row['probability_df2'])\n",
    "    else:\n",
    "        return row['probability_df1']\n",
    "\n",
    "merged_df['probability'] = merged_df.apply(select_probability, axis=1)\n",
    "\n",
    "# 최종 제출 파일 생성\n",
    "submission = merged_df[['ID', 'probability']]\n",
    "submission = submission.sort_values(by='ID')\n",
    "\n",
    "# 제출 파일 저장\n",
    "submission.to_csv('../submission/code28_voting_upgrad_submit_LgbmXgb_xxxxxxxx.csv', index=False, encoding='utf-8')"
   ]
  },
  {
   "cell_type": "markdown",
   "metadata": {},
   "source": [
    "0.7412811422"
   ]
  },
  {
   "cell_type": "markdown",
   "metadata": {},
   "source": [
    "."
   ]
  }
 ],
 "metadata": {
  "kernelspec": {
   "display_name": "Python 3",
   "language": "python",
   "name": "python3"
  },
  "language_info": {
   "codemirror_mode": {
    "name": "ipython",
    "version": 3
   },
   "file_extension": ".py",
   "mimetype": "text/x-python",
   "name": "python",
   "nbconvert_exporter": "python",
   "pygments_lexer": "ipython3",
   "version": "3.7.8"
  }
 },
 "nbformat": 4,
 "nbformat_minor": 2
}
